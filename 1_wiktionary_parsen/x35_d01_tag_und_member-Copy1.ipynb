{
 "cells": [
  {
   "cell_type": "markdown",
   "metadata": {
    "id": "lSehjmZun5OP"
   },
   "source": [
    "__[Open and try this file online (Colab, Pro / Extended RAM needed)](https://colab.research.google.com/github/djekra/wiktionary_wortschatz/blob/master/1_wiktionary_parsen/x34_d01_tag_und_member.ipynb)__"
   ]
  },
  {
   "cell_type": "markdown",
   "metadata": {},
   "source": [
    "# tag und member\n",
    "Verarbeitungsschritt Nr.3. Setzt das Verzeichnis data_00 voraus, in dem die vorherige Verarbeitungsstufe (d00_mwparserfromhell) die bisherigen Ergebnisse gespeichert hat. \n",
    "* speichert in data_01\n",
    "* erstellt die Felder tag und member \n",
    "* integriert lexeme_manuell, named_entities und Zahlwörter\n",
    "* Löschen laut löschliste\n",
    "* behandelt Partizipien\n",
    "* formt die grundlegende Datenstruktur (s.u.)\n",
    "* testet Lexeme gemäß lex_test level 1\n",
    "* Datei wiktionary ist danach überflüssig\n",
    "* Dauer: Colab 37 min, Altrechner 26 min\n",
    "\n",
    "\n",
    "### Doku\n",
    "* __wiktionary_lemma__ enthält alle Grundformen. Ihr Identifikator ist die lemma_id.\n",
    "* __wiktionary_merkmal__ enthält Merkmale, die einer Grundform zugeordnet werden. Manche Merkmale sind Lexeme, andere nicht. Merkmale eines Adjektivs sind z.B. seine Steigerungen (das sind Lexeme der Grundform) oder ein Gegenteilswort zur Grundform (das sind keine Lexeme der Grundform).\n",
    "* __wiktionary_merkmal_text__ enthält ebenfalls Merkmale zu einer lemma_id. Allerdings keine einzelnen Wörter, sondern Textabsätze. Z..B. Definitionen oder Beispielsätze.\n",
    "\n",
    "* __Abkürzungen__ stehen immer in wiktionary_merkmal (merkmal abk) und manchmal auch als eigenständiges Lemma in wiktionary_lemma.\n",
    "  In wiktionary_lemma werden Abkürzungen durch das member 'Abkürzung' gekennzeichnet. \n",
    "  Das gibt die Information, dass es sich lohnt, in wiktionary_merkmal nachzuschlagen, um die Bedeutung einer Abkürzung zu erfahren.\n",
    "\n",
    "* __Partizipien__ stehen in wiktionary_merkmal. Ihr lemma ist das Verb im Infinitiv (das ist oft falsch eingetragen). Ihr tag lautet 'VVPP ADJA' für Ptz2 bzw. 'VVFIN ADJA' für Ptz1, ihr member ist Ptz1 bzw. Ptz2.\n",
    "  Zusätzlich sind alle Partizipien aber auch als Adjektiv als eigenständiges lemma registriert. Dort weist data_id auf das Verb zurück."
   ]
  },
  {
   "cell_type": "markdown",
   "metadata": {},
   "source": [
    "## Import"
   ]
  },
  {
   "cell_type": "code",
   "execution_count": 1,
   "metadata": {
    "execution": {
     "iopub.execute_input": "2023-03-04T09:27:37.931094Z",
     "iopub.status.busy": "2023-03-04T09:27:37.930722Z",
     "iopub.status.idle": "2023-03-04T09:27:38.671054Z",
     "shell.execute_reply": "2023-03-04T09:27:38.670323Z",
     "shell.execute_reply.started": "2023-03-04T09:27:37.931019Z"
    }
   },
   "outputs": [
    {
     "name": "stdout",
     "output_type": "stream",
     "text": [
      "blab init\n",
      "environment['in_colab']     = False\n",
      "environment['dropbox_path'] = /home/me/Data_Linux/Dropbox\n",
      "environment['lib_path']     = /home/me/Data_Linux/Dropbox/31_Projekte/01_Python/libs\n",
      "Start Time: 10:27:38\n"
     ]
    },
    {
     "data": {
      "text/html": [
       "<img src onerror=\"var cell = this.closest('.jp-CodeCell');var editor = cell.querySelector('.jp-Editor');editor.style.background='Beige';this.parentNode.removeChild(this)\">"
      ],
      "text/plain": [
       "<IPython.core.display.HTML object>"
      ]
     },
     "metadata": {},
     "output_type": "display_data"
    }
   ],
   "source": [
    "# blab init\n",
    "try:\n",
    "    import blab\n",
    "except ImportError as e:\n",
    "    !pip install blab\n",
    "    import blab    \n",
    "startup_notebook = blab.blab_startup()\n",
    "%run $startup_notebook "
   ]
  },
  {
   "cell_type": "code",
   "execution_count": 2,
   "metadata": {
    "execution": {
     "iopub.execute_input": "2023-03-04T09:27:38.678334Z",
     "iopub.status.busy": "2023-03-04T09:27:38.675495Z",
     "iopub.status.idle": "2023-03-04T09:27:38.915267Z",
     "shell.execute_reply": "2023-03-04T09:27:38.913682Z",
     "shell.execute_reply.started": "2023-03-04T09:27:38.678288Z"
    }
   },
   "outputs": [],
   "source": [
    "# pandas\n",
    "if environment['in_colab']:\n",
    "    !pip install --upgrade pandas\n",
    "import pandas as pd"
   ]
  },
  {
   "cell_type": "code",
   "execution_count": 3,
   "metadata": {
    "execution": {
     "iopub.execute_input": "2023-03-04T09:27:38.921297Z",
     "iopub.status.busy": "2023-03-04T09:27:38.918944Z",
     "iopub.status.idle": "2023-03-04T09:27:42.297154Z",
     "shell.execute_reply": "2023-03-04T09:27:42.296246Z",
     "shell.execute_reply.started": "2023-03-04T09:27:38.921258Z"
    }
   },
   "outputs": [],
   "source": [
    "# alle anderen\n",
    "try:\n",
    "    import pandasklar as pak, bpyth as bpy, bj_nlp\n",
    "\n",
    "except ImportError as e:\n",
    "    !pip install pandasklar bj_nlp\n",
    "    import pandasklar as pak, bpyth as bpy, bj_nlp\n",
    "    \n",
    "grid       = pak.grid                     # dTale-Nutzung gemäß Config\n",
    "from functools import partial\n",
    "gridt = partial(grid, backend='dtale')    # dTale-Nutzung erzwungen\n",
    "\n",
    "check_mask = pak.check_mask      "
   ]
  },
  {
   "cell_type": "markdown",
   "metadata": {},
   "source": [
    "## Einstellungen"
   ]
  },
  {
   "cell_type": "code",
   "execution_count": 4,
   "metadata": {
    "execution": {
     "iopub.execute_input": "2023-03-04T09:27:42.299334Z",
     "iopub.status.busy": "2023-03-04T09:27:42.298821Z",
     "iopub.status.idle": "2023-03-04T09:27:42.344565Z",
     "shell.execute_reply": "2023-03-04T09:27:42.343909Z",
     "shell.execute_reply.started": "2023-03-04T09:27:42.299307Z"
    },
    "tags": []
   },
   "outputs": [
    {
     "name": "stdout",
     "output_type": "stream",
     "text": [
      "VERBOSE = True\n",
      "--> setting verbose=True as default for all pandasklar functions\n",
      "\n",
      "GRID_BACKEND = \n",
      "--> setting backend= as default for all pandasklar functions\n",
      "\n"
     ]
    }
   ],
   "source": [
    "# Einstellungen\n",
    "\n",
    "# Was debuggen?\n",
    "suche_debug = ['Euro','€','tugendhaftestes','zu viele','zuviele', 'zu viel']  \n",
    "suche_debug = ['lachend']  \n",
    "\n",
    "gründlich          = True    # einige Arbeitsschritte können weggelassen werden, wenn gründlich = False\n",
    "speicher_freigeben = False    # sollen alte Ergebnisse gelöscht werden\n",
    "version            = '_all'\n",
    "#version           = '_100K'\n",
    "\n",
    "\n",
    "# verbose\n",
    "pak.Config.set('VERBOSE', True)\n",
    "\n",
    "# Darstellung der Dataframes\n",
    "pak.Config.set('GRID_BACKEND', '')   # standardmäßig kein dTale\n",
    "pd.set_option('max_colwidth', 2000)  # aber dafür breiter\n",
    "\n",
    "# Load\n",
    "verzeichnis_load                      = 'data_00'\n",
    "wiktionary_filename                   = verzeichnis_load + '/wiktionary'              + version + '.pickle'  \n",
    "wiktionary_trash_filename             = verzeichnis_load + '/wiktionary_trash'        + version + '.pickle'\n",
    "wiktionary_merkmal_filename           = verzeichnis_load + '/wiktionary_merkmal'      + version + '.pickle'  \n",
    "wiktionary_merkmal_text_filename      = verzeichnis_load + '/wiktionary_merkmal_text' + version + '.pickle'  \n",
    "\n",
    "# Steuertabellen, externe und manuelle Daten\n",
    "löschliste_filename                   = 'Steuertabellen/löschliste.xlsx'     \n",
    "lexeme_manuell_filename               = 'Steuertabellen/lexeme_manuell.xlsx'       # manuell eingepflegte Lexeme \n",
    "named_entities_filename               = 'Steuertabellen/named_entities_02.xlsx'    # Vornamen, Nachnamen, Orte\n",
    "lex_test_filename                     = 'Steuertabellen/lex_test.xlsx'     \n",
    "\n",
    "# Save\n",
    "verzeichnis_save                      = 'data_01'\n",
    "wiktionary_lemma_filename_save        = verzeichnis_save + '/wiktionary_lemma'        + version + '.pickle'  \n",
    "wiktionary_nolemma_filename_save      = verzeichnis_save + '/wiktionary_nolemma'      + version + '.pickle'  \n",
    "wiktionary_merkmal_filename_save      = verzeichnis_save + '/wiktionary_merkmal'      + version + '.pickle'  \n",
    "wiktionary_merkmal_text_filename_save = verzeichnis_save + '/wiktionary_merkmal_text' + version + '.pickle'  \n",
    "\n",
    "#\n",
    "# Einige hardcodierte Tags finden sich unter wiktionary Einzelkorrekturen\n",
    "# !!!"
   ]
  },
  {
   "cell_type": "markdown",
   "metadata": {
    "id": "p1lM3YLgn5Ou"
   },
   "source": [
    "## Vorbereiten"
   ]
  },
  {
   "cell_type": "code",
   "execution_count": 5,
   "metadata": {
    "colab": {
     "base_uri": "https://localhost:8080/"
    },
    "execution": {
     "iopub.execute_input": "2023-03-04T09:27:42.348844Z",
     "iopub.status.busy": "2023-03-04T09:27:42.348563Z",
     "iopub.status.idle": "2023-03-04T09:27:42.382088Z",
     "shell.execute_reply": "2023-03-04T09:27:42.381492Z",
     "shell.execute_reply.started": "2023-03-04T09:27:42.348823Z"
    },
    "executionInfo": {
     "elapsed": 13,
     "status": "ok",
     "timestamp": 1676476829076,
     "user": {
      "displayName": "Hups Hopsalla",
      "userId": "10020718461385065661"
     },
     "user_tz": -60
    },
    "id": "Oy4Rb6WZn5Ow",
    "outputId": "6b94d1aa-3ffa-4388-d3f4-53b785e09406"
   },
   "outputs": [],
   "source": [
    "# Verzeichnisse erzeugen\n",
    "os.makedirs(verzeichnis_load, exist_ok=True) \n",
    "os.makedirs(verzeichnis_save, exist_ok=True) "
   ]
  },
  {
   "cell_type": "code",
   "execution_count": 6,
   "metadata": {
    "execution": {
     "iopub.execute_input": "2023-03-04T09:27:42.385979Z",
     "iopub.status.busy": "2023-03-04T09:27:42.385639Z",
     "iopub.status.idle": "2023-03-04T09:27:42.425316Z",
     "shell.execute_reply": "2023-03-04T09:27:42.424631Z",
     "shell.execute_reply.started": "2023-03-04T09:27:42.385955Z"
    }
   },
   "outputs": [],
   "source": [
    "# Steuertabellen und Python-Files von Github herunterladen\n",
    "import os\n",
    "if not os.path.exists('Steuertabellen'):\n",
    "   !git clone https://github.com/djekra/wiktionary_wortschatz.git\n",
    "   !cp -r wiktionary_wortschatz/1_wiktionary_parsen/Steuertabellen Steuertabellen\n",
    "   !cp -r wiktionary_wortschatz/1_wiktionary_parsen/*.py .\n",
    "#   !rm -r wiktionary_wortschatz"
   ]
  },
  {
   "cell_type": "code",
   "execution_count": 7,
   "metadata": {
    "colab": {
     "base_uri": "https://localhost:8080/"
    },
    "execution": {
     "iopub.execute_input": "2023-03-04T09:27:42.427055Z",
     "iopub.status.busy": "2023-03-04T09:27:42.426436Z",
     "iopub.status.idle": "2023-03-04T09:27:42.459298Z",
     "shell.execute_reply": "2023-03-04T09:27:42.458670Z",
     "shell.execute_reply.started": "2023-03-04T09:27:42.427028Z"
    },
    "executionInfo": {
     "elapsed": 7425,
     "status": "ok",
     "timestamp": 1676479015113,
     "user": {
      "displayName": "Hups Hopsalla",
      "userId": "10020718461385065661"
     },
     "user_tz": -60
    },
    "id": "dbiDceKXyUx7",
    "outputId": "beb0cf2a-bc86-47c4-81e6-b11c7354957c"
   },
   "outputs": [],
   "source": [
    "# Lade Ergebnisse der vorherigen Verarbeitungsstufe von Google Drive, falls nicht lokal vorhanden\n",
    "# Dieses Verzeichnis wurde in der vorherigen Verarbeitungsstufe angelegt \n",
    "if environment['in_colab']:\n",
    "    from google.colab import drive\n",
    "    drive.mount('/content/drive') \n",
    "    !cd /content\n",
    "    !cp -av /content/drive/MyDrive/{verzeichnis_load} ."
   ]
  },
  {
   "cell_type": "code",
   "execution_count": 8,
   "metadata": {
    "execution": {
     "iopub.execute_input": "2023-03-04T09:27:42.460783Z",
     "iopub.status.busy": "2023-03-04T09:27:42.460281Z",
     "iopub.status.idle": "2023-03-04T09:27:42.502295Z",
     "shell.execute_reply": "2023-03-04T09:27:42.501693Z",
     "shell.execute_reply.started": "2023-03-04T09:27:42.460758Z"
    }
   },
   "outputs": [],
   "source": [
    "# Weitere Imports\n",
    "from x32_Funktionen                    import *\n",
    "from Steuertabellen.s01_Steuertabellen import *\n",
    "from collections                       import defaultdict"
   ]
  },
  {
   "cell_type": "markdown",
   "metadata": {},
   "source": [
    "## Daten laden"
   ]
  },
  {
   "cell_type": "code",
   "execution_count": 9,
   "metadata": {
    "execution": {
     "iopub.execute_input": "2023-03-04T09:27:42.503404Z",
     "iopub.status.busy": "2023-03-04T09:27:42.503170Z",
     "iopub.status.idle": "2023-03-04T09:28:08.705088Z",
     "shell.execute_reply": "2023-03-04T09:28:08.704316Z",
     "shell.execute_reply.started": "2023-03-04T09:27:42.503383Z"
    }
   },
   "outputs": [
    {
     "name": "stdout",
     "output_type": "stream",
     "text": [
      "837593 rows loaded\n",
      "4152 rows loaded\n",
      "5171417 rows loaded\n",
      "654677 rows loaded\n"
     ]
    }
   ],
   "source": [
    "# wiktionary laden     \n",
    "wiktionary               = pak.load_pickle(wiktionary_filename)\n",
    "wiktionary               = pak.drop_cols(wiktionary,['wikitext','section_id'])\n",
    "\n",
    "wiktionary_trash         = pak.load_pickle(wiktionary_trash_filename)\n",
    "wiktionary_trash         = pak.drop_cols(wiktionary_trash,['msg','section_id','wikitext'])\n",
    "wiktionary_trash         = pak.rename_col(wiktionary_trash,'error','msg')\n",
    "\n",
    "wiktionary_merkmal       = pak.load_pickle(wiktionary_merkmal_filename)\n",
    "wiktionary_merkmal       = pak.drop_cols(wiktionary_merkmal,['section_id'])\n",
    "\n",
    "wiktionary_merkmal_trash = wiktionary_merkmal.head(0)\n",
    "\n",
    "wiktionary_merkmal_text  = pak.load_pickle(wiktionary_merkmal_text_filename)"
   ]
  },
  {
   "cell_type": "code",
   "execution_count": 10,
   "metadata": {
    "execution": {
     "iopub.execute_input": "2023-03-04T09:28:08.708606Z",
     "iopub.status.busy": "2023-03-04T09:28:08.707888Z",
     "iopub.status.idle": "2023-03-04T09:28:08.738657Z",
     "shell.execute_reply": "2023-03-04T09:28:08.738014Z",
     "shell.execute_reply.started": "2023-03-04T09:28:08.708577Z"
    }
   },
   "outputs": [],
   "source": [
    "# laden\n",
    "\n",
    "# pak.nnan(wiktionary_merkmal_text)"
   ]
  },
  {
   "cell_type": "code",
   "execution_count": 11,
   "metadata": {
    "execution": {
     "iopub.execute_input": "2023-03-04T09:28:08.740216Z",
     "iopub.status.busy": "2023-03-04T09:28:08.739955Z",
     "iopub.status.idle": "2023-03-04T09:28:09.683318Z",
     "shell.execute_reply": "2023-03-04T09:28:09.682674Z",
     "shell.execute_reply.started": "2023-03-04T09:28:08.740194Z"
    }
   },
   "outputs": [],
   "source": [
    "# Keine NaN\n",
    "assert not pak.any_nan(wiktionary, without=['syllables','rhymes','flexion','ipa'])"
   ]
  },
  {
   "cell_type": "code",
   "execution_count": 12,
   "metadata": {
    "execution": {
     "iopub.execute_input": "2023-03-04T09:28:09.685881Z",
     "iopub.status.busy": "2023-03-04T09:28:09.685603Z",
     "iopub.status.idle": "2023-03-04T09:28:10.009054Z",
     "shell.execute_reply": "2023-03-04T09:28:10.004890Z",
     "shell.execute_reply.started": "2023-03-04T09:28:09.685859Z"
    }
   },
   "outputs": [
    {
     "name": "stdout",
     "output_type": "stream",
     "text": [
      "check_mask:  0 rows\n"
     ]
    }
   ],
   "source": [
    "# Keine Leerzeichen in der ID\n",
    "mask = wiktionary.section_id2.str.contains(' ')\n",
    "check_mask(wiktionary,mask,0)"
   ]
  },
  {
   "cell_type": "code",
   "execution_count": 13,
   "metadata": {
    "execution": {
     "iopub.execute_input": "2023-03-04T09:28:10.010074Z",
     "iopub.status.busy": "2023-03-04T09:28:10.009806Z",
     "iopub.status.idle": "2023-03-04T09:28:14.209912Z",
     "shell.execute_reply": "2023-03-04T09:28:14.209169Z",
     "shell.execute_reply.started": "2023-03-04T09:28:10.010050Z"
    }
   },
   "outputs": [
    {
     "data": {
      "text/html": [
       "<div>\n",
       "<style scoped>\n",
       "    .dataframe tbody tr th:only-of-type {\n",
       "        vertical-align: middle;\n",
       "    }\n",
       "\n",
       "    .dataframe tbody tr th {\n",
       "        vertical-align: top;\n",
       "    }\n",
       "\n",
       "    .dataframe thead th {\n",
       "        text-align: right;\n",
       "    }\n",
       "</style>\n",
       "<table border=\"1\" class=\"dataframe\">\n",
       "  <thead>\n",
       "    <tr style=\"text-align: right;\">\n",
       "      <th></th>\n",
       "      <th>name</th>\n",
       "      <th>rtype</th>\n",
       "      <th>size</th>\n",
       "    </tr>\n",
       "  </thead>\n",
       "  <tbody>\n",
       "    <tr>\n",
       "      <th>0</th>\n",
       "      <td>wiktionary_merkmal</td>\n",
       "      <td>(DataFrame, Series)</td>\n",
       "      <td>2.1 GB</td>\n",
       "    </tr>\n",
       "    <tr>\n",
       "      <th>1</th>\n",
       "      <td>wiktionary</td>\n",
       "      <td>(DataFrame, Series)</td>\n",
       "      <td>769.9 MB</td>\n",
       "    </tr>\n",
       "    <tr>\n",
       "      <th>2</th>\n",
       "      <td>wiktionary_merkmal_text</td>\n",
       "      <td>(DataFrame, Series)</td>\n",
       "      <td>326.5 MB</td>\n",
       "    </tr>\n",
       "    <tr>\n",
       "      <th>3</th>\n",
       "      <td>wiktionary_trash</td>\n",
       "      <td>(DataFrame, Series)</td>\n",
       "      <td>4.0 MB</td>\n",
       "    </tr>\n",
       "    <tr>\n",
       "      <th>4</th>\n",
       "      <td>mask</td>\n",
       "      <td>(Series,)</td>\n",
       "      <td>1.6 MB</td>\n",
       "    </tr>\n",
       "    <tr>\n",
       "      <th>5</th>\n",
       "      <td>translate_tag</td>\n",
       "      <td>(DataFrame, Series)</td>\n",
       "      <td>39.6 KB</td>\n",
       "    </tr>\n",
       "    <tr>\n",
       "      <th>6</th>\n",
       "      <td>translate_tagZ</td>\n",
       "      <td>(DataFrame, Series)</td>\n",
       "      <td>21.6 KB</td>\n",
       "    </tr>\n",
       "    <tr>\n",
       "      <th>7</th>\n",
       "      <td>_i4</td>\n",
       "      <td>(str,)</td>\n",
       "      <td>6.1 KB</td>\n",
       "    </tr>\n",
       "    <tr>\n",
       "      <th>8</th>\n",
       "      <td>Stop</td>\n",
       "      <td>(type,)</td>\n",
       "      <td>1.0 KB</td>\n",
       "    </tr>\n",
       "    <tr>\n",
       "      <th>9</th>\n",
       "      <td>Markdown</td>\n",
       "      <td>(type,)</td>\n",
       "      <td>1.0 KB</td>\n",
       "    </tr>\n",
       "  </tbody>\n",
       "</table>\n",
       "</div>"
      ],
      "text/plain": [
       "                      name                rtype      size\n",
       "0       wiktionary_merkmal  (DataFrame, Series)    2.1 GB\n",
       "1               wiktionary  (DataFrame, Series)  769.9 MB\n",
       "2  wiktionary_merkmal_text  (DataFrame, Series)  326.5 MB\n",
       "3         wiktionary_trash  (DataFrame, Series)    4.0 MB\n",
       "4                     mask            (Series,)    1.6 MB\n",
       "5            translate_tag  (DataFrame, Series)   39.6 KB\n",
       "6           translate_tagZ  (DataFrame, Series)   21.6 KB\n",
       "7                      _i4               (str,)    6.1 KB\n",
       "8                     Stop              (type,)    1.0 KB\n",
       "9                 Markdown              (type,)    1.0 KB"
      ]
     },
     "execution_count": 13,
     "metadata": {},
     "output_type": "execute_result"
    }
   ],
   "source": [
    "pak.memory_consumption(locals())"
   ]
  },
  {
   "cell_type": "markdown",
   "metadata": {},
   "source": [
    "### wiktionary anschauen"
   ]
  },
  {
   "cell_type": "code",
   "execution_count": 14,
   "metadata": {
    "execution": {
     "iopub.execute_input": "2023-03-04T09:28:14.211127Z",
     "iopub.status.busy": "2023-03-04T09:28:14.210867Z",
     "iopub.status.idle": "2023-03-04T09:28:14.316222Z",
     "shell.execute_reply": "2023-03-04T09:28:14.315561Z",
     "shell.execute_reply.started": "2023-03-04T09:28:14.211106Z"
    }
   },
   "outputs": [
    {
     "data": {
      "text/html": [
       "<div>\n",
       "<style scoped>\n",
       "    .dataframe tbody tr th:only-of-type {\n",
       "        vertical-align: middle;\n",
       "    }\n",
       "\n",
       "    .dataframe tbody tr th {\n",
       "        vertical-align: top;\n",
       "    }\n",
       "\n",
       "    .dataframe thead th {\n",
       "        text-align: right;\n",
       "    }\n",
       "</style>\n",
       "<table border=\"1\" class=\"dataframe\">\n",
       "  <thead>\n",
       "    <tr style=\"text-align: right;\">\n",
       "      <th></th>\n",
       "      <th>page_id</th>\n",
       "      <th>page_part</th>\n",
       "      <th>section_id2</th>\n",
       "      <th>title</th>\n",
       "      <th>lemma</th>\n",
       "      <th>inflected</th>\n",
       "      <th>pos</th>\n",
       "      <th>rhymes</th>\n",
       "      <th>section_len</th>\n",
       "      <th>flexion</th>\n",
       "      <th>ipa</th>\n",
       "      <th>syllables</th>\n",
       "      <th>lang</th>\n",
       "      <th>lang_code</th>\n",
       "      <th>error</th>\n",
       "    </tr>\n",
       "  </thead>\n",
       "  <tbody>\n",
       "    <tr>\n",
       "      <th>46348</th>\n",
       "      <td>120123</td>\n",
       "      <td>0</td>\n",
       "      <td>lachend</td>\n",
       "      <td>lachend</td>\n",
       "      <td>lachend</td>\n",
       "      <td>False</td>\n",
       "      <td>{'Adjektiv': ['Partizip I']}</td>\n",
       "      <td>[axn̩t]</td>\n",
       "      <td>332</td>\n",
       "      <td>NaN</td>\n",
       "      <td>[laxn̩t, ˈlaxənt]</td>\n",
       "      <td>[la, chend]</td>\n",
       "      <td>Deutsch</td>\n",
       "      <td>de</td>\n",
       "      <td></td>\n",
       "    </tr>\n",
       "  </tbody>\n",
       "</table>\n",
       "</div>"
      ],
      "text/plain": [
       "       page_id  page_part section_id2    title    lemma  inflected  \\\n",
       "46348   120123          0     lachend  lachend  lachend      False   \n",
       "\n",
       "                                pos   rhymes  section_len flexion  \\\n",
       "46348  {'Adjektiv': ['Partizip I']}  [axn̩t]          332     NaN   \n",
       "\n",
       "                     ipa    syllables     lang lang_code error  \n",
       "46348  [laxn̩t, ˈlaxənt]  [la, chend]  Deutsch        de        "
      ]
     },
     "execution_count": 14,
     "metadata": {},
     "output_type": "execute_result"
    }
   ],
   "source": [
    "# suche_debug \n",
    "mask = wiktionary.title.isin(suche_debug)\n",
    "wiktionary[mask].sort_values(['section_id2',])"
   ]
  },
  {
   "cell_type": "code",
   "execution_count": 15,
   "metadata": {
    "execution": {
     "iopub.execute_input": "2023-03-04T09:28:14.317519Z",
     "iopub.status.busy": "2023-03-04T09:28:14.317202Z",
     "iopub.status.idle": "2023-03-04T09:28:14.356171Z",
     "shell.execute_reply": "2023-03-04T09:28:14.355426Z",
     "shell.execute_reply.started": "2023-03-04T09:28:14.317495Z"
    },
    "tags": []
   },
   "outputs": [],
   "source": [
    "#pak.sample(wiktionary)"
   ]
  },
  {
   "cell_type": "code",
   "execution_count": 16,
   "metadata": {
    "execution": {
     "iopub.execute_input": "2023-03-04T09:28:14.357633Z",
     "iopub.status.busy": "2023-03-04T09:28:14.357139Z",
     "iopub.status.idle": "2023-03-04T09:28:14.404200Z",
     "shell.execute_reply": "2023-03-04T09:28:14.403452Z",
     "shell.execute_reply.started": "2023-03-04T09:28:14.357606Z"
    }
   },
   "outputs": [
    {
     "name": "stdout",
     "output_type": "stream",
     "text": [
      "\u001b[1m\u001b[7m\u001b[34mNo rows\u001b[0m\n"
     ]
    }
   ],
   "source": [
    "# suche_debug \n",
    "mask = wiktionary_trash.title.isin(suche_debug)\n",
    "grid(wiktionary_trash[mask].sort_values(['section_id2',]))"
   ]
  },
  {
   "cell_type": "code",
   "execution_count": 17,
   "metadata": {
    "execution": {
     "iopub.execute_input": "2023-03-04T09:28:14.405272Z",
     "iopub.status.busy": "2023-03-04T09:28:14.405045Z",
     "iopub.status.idle": "2023-03-04T09:28:14.467643Z",
     "shell.execute_reply": "2023-03-04T09:28:14.466669Z",
     "shell.execute_reply.started": "2023-03-04T09:28:14.405251Z"
    }
   },
   "outputs": [
    {
     "data": {
      "text/html": [
       "<div>\n",
       "<style scoped>\n",
       "    .dataframe tbody tr th:only-of-type {\n",
       "        vertical-align: middle;\n",
       "    }\n",
       "\n",
       "    .dataframe tbody tr th {\n",
       "        vertical-align: top;\n",
       "    }\n",
       "\n",
       "    .dataframe thead th {\n",
       "        text-align: right;\n",
       "    }\n",
       "</style>\n",
       "<table border=\"1\" class=\"dataframe\">\n",
       "  <thead>\n",
       "    <tr style=\"text-align: right;\">\n",
       "      <th></th>\n",
       "      <th>msg</th>\n",
       "      <th>msg_count</th>\n",
       "      <th>msg_percent</th>\n",
       "      <th>graph</th>\n",
       "    </tr>\n",
       "  </thead>\n",
       "  <tbody>\n",
       "    <tr>\n",
       "      <th>0</th>\n",
       "      <td>title zu viele Wörter</td>\n",
       "      <td>3910</td>\n",
       "      <td>94.2</td>\n",
       "      <td>###############################################</td>\n",
       "    </tr>\n",
       "    <tr>\n",
       "      <th>1</th>\n",
       "      <td>title zu kurz</td>\n",
       "      <td>206</td>\n",
       "      <td>5.0</td>\n",
       "      <td>##</td>\n",
       "    </tr>\n",
       "    <tr>\n",
       "      <th>2</th>\n",
       "      <td>lemma zu kurz</td>\n",
       "      <td>26</td>\n",
       "      <td>0.6</td>\n",
       "      <td></td>\n",
       "    </tr>\n",
       "    <tr>\n",
       "      <th>3</th>\n",
       "      <td>lang_code ist nan</td>\n",
       "      <td>10</td>\n",
       "      <td>0.2</td>\n",
       "      <td></td>\n",
       "    </tr>\n",
       "  </tbody>\n",
       "</table>\n",
       "</div>"
      ],
      "text/plain": [
       "                     msg  msg_count  msg_percent  \\\n",
       "0  title zu viele Wörter       3910         94.2   \n",
       "1          title zu kurz        206          5.0   \n",
       "2          lemma zu kurz         26          0.6   \n",
       "3      lang_code ist nan         10          0.2   \n",
       "\n",
       "                                             graph  \n",
       "0  ###############################################  \n",
       "1                                               ##  \n",
       "2                                                   \n",
       "3                                                   "
      ]
     },
     "execution_count": 17,
     "metadata": {},
     "output_type": "execute_result"
    }
   ],
   "source": [
    "# wiktionary_trash\n",
    "a = pak.analyse_freqs(wiktionary_trash, 'msg')\n",
    "a"
   ]
  },
  {
   "cell_type": "markdown",
   "metadata": {},
   "source": [
    "### wiktionary_merkmal anschauen"
   ]
  },
  {
   "cell_type": "code",
   "execution_count": 18,
   "metadata": {
    "execution": {
     "iopub.execute_input": "2023-03-04T09:28:14.473284Z",
     "iopub.status.busy": "2023-03-04T09:28:14.471003Z",
     "iopub.status.idle": "2023-03-04T09:28:14.873147Z",
     "shell.execute_reply": "2023-03-04T09:28:14.871349Z",
     "shell.execute_reply.started": "2023-03-04T09:28:14.473248Z"
    }
   },
   "outputs": [],
   "source": [
    "# suche_debug \n",
    "mask = wiktionary_merkmal.data.isin(suche_debug)\n",
    "a = wiktionary_merkmal[mask].sort_values(['section_id2','merkmal'])\n",
    "#a"
   ]
  },
  {
   "cell_type": "code",
   "execution_count": 19,
   "metadata": {
    "execution": {
     "iopub.execute_input": "2023-03-04T09:28:14.875381Z",
     "iopub.status.busy": "2023-03-04T09:28:14.874818Z",
     "iopub.status.idle": "2023-03-04T09:28:32.910931Z",
     "shell.execute_reply": "2023-03-04T09:28:32.910146Z",
     "shell.execute_reply.started": "2023-03-04T09:28:14.875330Z"
    },
    "tags": []
   },
   "outputs": [
    {
     "data": {
      "text/html": [
       "<div>\n",
       "<style scoped>\n",
       "    .dataframe tbody tr th:only-of-type {\n",
       "        vertical-align: middle;\n",
       "    }\n",
       "\n",
       "    .dataframe tbody tr th {\n",
       "        vertical-align: top;\n",
       "    }\n",
       "\n",
       "    .dataframe thead th {\n",
       "        text-align: right;\n",
       "    }\n",
       "</style>\n",
       "<table border=\"1\" class=\"dataframe\">\n",
       "  <thead>\n",
       "    <tr style=\"text-align: right;\">\n",
       "      <th></th>\n",
       "      <th>section_id2</th>\n",
       "      <th>merkmal</th>\n",
       "      <th>node_debug</th>\n",
       "      <th>node_kontext</th>\n",
       "      <th>data</th>\n",
       "      <th>num</th>\n",
       "      <th>meta</th>\n",
       "    </tr>\n",
       "  </thead>\n",
       "  <tbody>\n",
       "    <tr>\n",
       "      <th>0</th>\n",
       "      <td>Hallo</td>\n",
       "      <td>übersicht</td>\n",
       "      <td>Deutsch Substantiv Übersicht</td>\n",
       "      <td>Genus</td>\n",
       "      <td>n</td>\n",
       "      <td>NaN</td>\n",
       "      <td>&lt;NA&gt;</td>\n",
       "    </tr>\n",
       "    <tr>\n",
       "      <th>446</th>\n",
       "      <td>April_1</td>\n",
       "      <td>istName</td>\n",
       "      <td>&lt;NA&gt;</td>\n",
       "      <td>&lt;NA&gt;</td>\n",
       "      <td>exists</td>\n",
       "      <td>NaN</td>\n",
       "      <td>&lt;NA&gt;</td>\n",
       "    </tr>\n",
       "    <tr>\n",
       "      <th>1031</th>\n",
       "      <td>Liebe_1</td>\n",
       "      <td>übersicht</td>\n",
       "      <td>Deutsch Substantiv Übersicht</td>\n",
       "      <td>Nominativ Plural</td>\n",
       "      <td>—</td>\n",
       "      <td>NaN</td>\n",
       "      <td>&lt;NA&gt;</td>\n",
       "    </tr>\n",
       "    <tr>\n",
       "      <th>18515</th>\n",
       "      <td>Rauch</td>\n",
       "      <td>nurWortart</td>\n",
       "      <td>Wortart fehlt</td>\n",
       "      <td>1</td>\n",
       "      <td>Substantiv</td>\n",
       "      <td>NaN</td>\n",
       "      <td>&lt;NA&gt;</td>\n",
       "    </tr>\n",
       "    <tr>\n",
       "      <th>81347</th>\n",
       "      <td>spulgen</td>\n",
       "      <td>übersicht</td>\n",
       "      <td>Deutsch Verb Übersicht</td>\n",
       "      <td>Präteritum_ich</td>\n",
       "      <td></td>\n",
       "      <td>NaN</td>\n",
       "      <td>&lt;NA&gt;</td>\n",
       "    </tr>\n",
       "    <tr>\n",
       "      <th>175097</th>\n",
       "      <td>ein-</td>\n",
       "      <td>Präfix</td>\n",
       "      <td>&lt;NA&gt;</td>\n",
       "      <td>&lt;NA&gt;</td>\n",
       "      <td>exists</td>\n",
       "      <td>NaN</td>\n",
       "      <td>&lt;NA&gt;</td>\n",
       "    </tr>\n",
       "    <tr>\n",
       "      <th>230371</th>\n",
       "      <td>Joch</td>\n",
       "      <td>herkunft</td>\n",
       "      <td></td>\n",
       "      <td>Ü</td>\n",
       "      <td>𒄿𒌑𒃷</td>\n",
       "      <td>[]</td>\n",
       "      <td></td>\n",
       "    </tr>\n",
       "    <tr>\n",
       "      <th>256823</th>\n",
       "      <td>Band</td>\n",
       "      <td>übersicht</td>\n",
       "      <td>Deutsch Substantiv Übersicht</td>\n",
       "      <td>Genus</td>\n",
       "      <td>n</td>\n",
       "      <td>NaN</td>\n",
       "      <td>&lt;NA&gt;</td>\n",
       "    </tr>\n",
       "    <tr>\n",
       "      <th>1308756</th>\n",
       "      <td>μm</td>\n",
       "      <td>up</td>\n",
       "      <td></td>\n",
       "      <td></td>\n",
       "      <td>Einheit</td>\n",
       "      <td>[1]</td>\n",
       "      <td></td>\n",
       "    </tr>\n",
       "    <tr>\n",
       "      <th>1314648</th>\n",
       "      <td>&amp;c.</td>\n",
       "      <td>def</td>\n",
       "      <td></td>\n",
       "      <td></td>\n",
       "      <td>et cetera</td>\n",
       "      <td>[1]</td>\n",
       "      <td></td>\n",
       "    </tr>\n",
       "    <tr>\n",
       "      <th>1492067</th>\n",
       "      <td>Pathovar</td>\n",
       "      <td>herkunft</td>\n",
       "      <td></td>\n",
       "      <td>Ü</td>\n",
       "      <td>varius</td>\n",
       "      <td>[]</td>\n",
       "      <td>παθοs</td>\n",
       "    </tr>\n",
       "    <tr>\n",
       "      <th>5171413</th>\n",
       "      <td>Überreichweiten</td>\n",
       "      <td>gm</td>\n",
       "      <td></td>\n",
       "      <td></td>\n",
       "      <td>Überreichweite</td>\n",
       "      <td>[]</td>\n",
       "      <td></td>\n",
       "    </tr>\n",
       "    <tr>\n",
       "      <th>5171416</th>\n",
       "      <td>Überreichweiten</td>\n",
       "      <td>gm</td>\n",
       "      <td></td>\n",
       "      <td></td>\n",
       "      <td>Überreichweite</td>\n",
       "      <td>[]</td>\n",
       "      <td></td>\n",
       "    </tr>\n",
       "  </tbody>\n",
       "</table>\n",
       "</div>"
      ],
      "text/plain": [
       "             section_id2     merkmal                     node_debug  \\\n",
       "0                  Hallo   übersicht  Deutsch Substantiv Übersicht\n",
       "   \n",
       "446              April_1     istName                           <NA>   \n",
       "1031             Liebe_1   übersicht  Deutsch Substantiv Übersicht\n",
       "   \n",
       "18515              Rauch  nurWortart                  Wortart fehlt   \n",
       "81347            spulgen   übersicht        Deutsch Verb Übersicht\n",
       "   \n",
       "175097              ein-      Präfix                           <NA>   \n",
       "230371              Joch    herkunft                                  \n",
       "256823              Band   übersicht  Deutsch Substantiv Übersicht\n",
       "   \n",
       "1308756               μm          up                                  \n",
       "1314648              &c.         def                                  \n",
       "1492067         Pathovar    herkunft                                  \n",
       "5171413  Überreichweiten          gm                                  \n",
       "5171416  Überreichweiten          gm                                  \n",
       "\n",
       "             node_kontext            data  num   meta  \n",
       "0                   Genus               n  NaN   <NA>  \n",
       "446                  <NA>          exists  NaN   <NA>  \n",
       "1031     Nominativ Plural               —  NaN   <NA>  \n",
       "18515                   1      Substantiv  NaN   <NA>  \n",
       "81347      Präteritum_ich                  NaN   <NA>  \n",
       "175097               <NA>          exists  NaN   <NA>  \n",
       "230371                  Ü             𒄿𒌑𒃷   []         \n",
       "256823              Genus               n  NaN   <NA>  \n",
       "1308756                           Einheit  [1]         \n",
       "1314648                         et cetera  [1]         \n",
       "1492067                 Ü          varius   []  παθοs  \n",
       "5171413                    Überreichweite   []         \n",
       "5171416                    Überreichweite   []         "
      ]
     },
     "execution_count": 19,
     "metadata": {},
     "output_type": "execute_result"
    }
   ],
   "source": [
    "pak.sample(wiktionary_merkmal)"
   ]
  },
  {
   "cell_type": "code",
   "execution_count": 20,
   "metadata": {
    "execution": {
     "iopub.execute_input": "2023-03-04T09:28:32.912210Z",
     "iopub.status.busy": "2023-03-04T09:28:32.911928Z",
     "iopub.status.idle": "2023-03-04T09:28:53.654114Z",
     "shell.execute_reply": "2023-03-04T09:28:53.653350Z",
     "shell.execute_reply.started": "2023-03-04T09:28:32.912186Z"
    }
   },
   "outputs": [
    {
     "data": {
      "text/html": [
       "<div>\n",
       "<style scoped>\n",
       "    .dataframe tbody tr th:only-of-type {\n",
       "        vertical-align: middle;\n",
       "    }\n",
       "\n",
       "    .dataframe tbody tr th {\n",
       "        vertical-align: top;\n",
       "    }\n",
       "\n",
       "    .dataframe thead th {\n",
       "        text-align: right;\n",
       "    }\n",
       "</style>\n",
       "<table border=\"1\" class=\"dataframe\">\n",
       "  <thead>\n",
       "    <tr style=\"text-align: right;\">\n",
       "      <th></th>\n",
       "      <th>col_name</th>\n",
       "      <th>datatype_instance</th>\n",
       "      <th>datatype</th>\n",
       "      <th>datatype_short</th>\n",
       "      <th>datatype_suggest</th>\n",
       "      <th>is_numeric</th>\n",
       "      <th>is_string</th>\n",
       "      <th>is_hashable</th>\n",
       "      <th>nan_allowed</th>\n",
       "      <th>mem_usage</th>\n",
       "      <th>ntypes</th>\n",
       "      <th>nunique</th>\n",
       "      <th>nnan</th>\n",
       "      <th>ndups</th>\n",
       "      <th>n</th>\n",
       "      <th>vmin</th>\n",
       "      <th>vmean</th>\n",
       "      <th>vmedian</th>\n",
       "      <th>vmax</th>\n",
       "      <th>vsum</th>\n",
       "    </tr>\n",
       "  </thead>\n",
       "  <tbody>\n",
       "    <tr>\n",
       "      <th>0</th>\n",
       "      <td>__index__</td>\n",
       "      <td>int64</td>\n",
       "      <td>np.int64</td>\n",
       "      <td>int64</td>\n",
       "      <td>np.int32</td>\n",
       "      <td>True</td>\n",
       "      <td>False</td>\n",
       "      <td>True</td>\n",
       "      <td>False</td>\n",
       "      <td>80.0 B</td>\n",
       "      <td>1</td>\n",
       "      <td>5171417</td>\n",
       "      <td>0</td>\n",
       "      <td>0</td>\n",
       "      <td>5171417</td>\n",
       "      <td>0.0</td>\n",
       "      <td>2585708.0</td>\n",
       "      <td>2585708.0</td>\n",
       "      <td>5171416.0</td>\n",
       "      <td>1.337177e+13</td>\n",
       "    </tr>\n",
       "    <tr>\n",
       "      <th>1</th>\n",
       "      <td>section_id2</td>\n",
       "      <td>str</td>\n",
       "      <td>pd.string</td>\n",
       "      <td>string</td>\n",
       "      <td></td>\n",
       "      <td>False</td>\n",
       "      <td>True</td>\n",
       "      <td>True</td>\n",
       "      <td>True</td>\n",
       "      <td>832.0 B</td>\n",
       "      <td>1</td>\n",
       "      <td>836708</td>\n",
       "      <td>0</td>\n",
       "      <td>4334709</td>\n",
       "      <td>5171417</td>\n",
       "      <td>&amp;c.</td>\n",
       "      <td>NaN</td>\n",
       "      <td>NaN</td>\n",
       "      <td>μm</td>\n",
       "      <td>NaN</td>\n",
       "    </tr>\n",
       "    <tr>\n",
       "      <th>2</th>\n",
       "      <td>merkmal</td>\n",
       "      <td>str</td>\n",
       "      <td>pd.string</td>\n",
       "      <td>string</td>\n",
       "      <td></td>\n",
       "      <td>False</td>\n",
       "      <td>True</td>\n",
       "      <td>True</td>\n",
       "      <td>True</td>\n",
       "      <td>687.0 B</td>\n",
       "      <td>1</td>\n",
       "      <td>36</td>\n",
       "      <td>0</td>\n",
       "      <td>5171381</td>\n",
       "      <td>5171417</td>\n",
       "      <td>Präfix</td>\n",
       "      <td>NaN</td>\n",
       "      <td>NaN</td>\n",
       "      <td>übersicht</td>\n",
       "      <td>NaN</td>\n",
       "    </tr>\n",
       "    <tr>\n",
       "      <th>3</th>\n",
       "      <td>node_debug</td>\n",
       "      <td>str</td>\n",
       "      <td>pd.string</td>\n",
       "      <td>string</td>\n",
       "      <td></td>\n",
       "      <td>False</td>\n",
       "      <td>True</td>\n",
       "      <td>True</td>\n",
       "      <td>True</td>\n",
       "      <td>676.0 B</td>\n",
       "      <td>1</td>\n",
       "      <td>31</td>\n",
       "      <td>11465</td>\n",
       "      <td>5159921</td>\n",
       "      <td>5171417</td>\n",
       "      <td></td>\n",
       "      <td>NaN</td>\n",
       "      <td>NaN</td>\n",
       "      <td>Wortart fehlt</td>\n",
       "      <td>NaN</td>\n",
       "    </tr>\n",
       "    <tr>\n",
       "      <th>4</th>\n",
       "      <td>node_kontext</td>\n",
       "      <td>str</td>\n",
       "      <td>pd.string</td>\n",
       "      <td>string</td>\n",
       "      <td></td>\n",
       "      <td>False</td>\n",
       "      <td>True</td>\n",
       "      <td>True</td>\n",
       "      <td>True</td>\n",
       "      <td>593.0 B</td>\n",
       "      <td>1</td>\n",
       "      <td>235</td>\n",
       "      <td>11465</td>\n",
       "      <td>5159717</td>\n",
       "      <td>5171417</td>\n",
       "      <td></td>\n",
       "      <td>NaN</td>\n",
       "      <td>NaN</td>\n",
       "      <td>Ü</td>\n",
       "      <td>NaN</td>\n",
       "    </tr>\n",
       "    <tr>\n",
       "      <th>5</th>\n",
       "      <td>data</td>\n",
       "      <td>str</td>\n",
       "      <td>pd.string</td>\n",
       "      <td>string</td>\n",
       "      <td></td>\n",
       "      <td>False</td>\n",
       "      <td>True</td>\n",
       "      <td>True</td>\n",
       "      <td>True</td>\n",
       "      <td>823.0 B</td>\n",
       "      <td>1</td>\n",
       "      <td>725566</td>\n",
       "      <td>0</td>\n",
       "      <td>4445851</td>\n",
       "      <td>5171417</td>\n",
       "      <td></td>\n",
       "      <td>NaN</td>\n",
       "      <td>NaN</td>\n",
       "      <td>𒄿𒌑𒃷</td>\n",
       "      <td>NaN</td>\n",
       "    </tr>\n",
       "    <tr>\n",
       "      <th>6</th>\n",
       "      <td>num</td>\n",
       "      <td>list</td>\n",
       "      <td>object</td>\n",
       "      <td>object</td>\n",
       "      <td></td>\n",
       "      <td>False</td>\n",
       "      <td>True</td>\n",
       "      <td>False</td>\n",
       "      <td>True</td>\n",
       "      <td>480.0 B</td>\n",
       "      <td>1</td>\n",
       "      <td>224</td>\n",
       "      <td>1133103</td>\n",
       "      <td>4038090</td>\n",
       "      <td>5171417</td>\n",
       "      <td>[]</td>\n",
       "      <td>NaN</td>\n",
       "      <td>NaN</td>\n",
       "      <td>[1225]</td>\n",
       "      <td>NaN</td>\n",
       "    </tr>\n",
       "    <tr>\n",
       "      <th>7</th>\n",
       "      <td>meta</td>\n",
       "      <td>str</td>\n",
       "      <td>pd.string</td>\n",
       "      <td>string</td>\n",
       "      <td></td>\n",
       "      <td>False</td>\n",
       "      <td>True</td>\n",
       "      <td>True</td>\n",
       "      <td>True</td>\n",
       "      <td>545.0 B</td>\n",
       "      <td>1</td>\n",
       "      <td>18571</td>\n",
       "      <td>1133103</td>\n",
       "      <td>4019743</td>\n",
       "      <td>5171417</td>\n",
       "      <td></td>\n",
       "      <td>NaN</td>\n",
       "      <td>NaN</td>\n",
       "      <td>παθοs</td>\n",
       "      <td>NaN</td>\n",
       "    </tr>\n",
       "  </tbody>\n",
       "</table>\n",
       "</div>"
      ],
      "text/plain": [
       "       col_name datatype_instance   datatype datatype_short datatype_suggest  \\\n",
       "0     __index__             int64   np.int64          int64         np.int32   \n",
       "1   section_id2               str  pd.string         string                    \n",
       "2       merkmal               str  pd.string         string                    \n",
       "3    node_debug               str  pd.string         string                    \n",
       "4  node_kontext               str  pd.string         string                    \n",
       "5          data               str  pd.string         string                    \n",
       "6           num              list     object         object                    \n",
       "7          meta               str  pd.string         string                    \n",
       "\n",
       "   is_numeric  is_string  is_hashable  nan_allowed mem_usage  ntypes  nunique  \\\n",
       "0        True      False         True        False    80.0 B       1  5171417   \n",
       "1       False       True         True         True   832.0 B       1   836708   \n",
       "2       False       True         True         True   687.0 B       1       36   \n",
       "3       False       True         True         True   676.0 B       1       31   \n",
       "4       False       True         True         True   593.0 B       1      235   \n",
       "5       False       True         True         True   823.0 B       1   725566   \n",
       "6       False       True        False         True   480.0 B       1      224   \n",
       "7       False       True         True         True   545.0 B       1    18571   \n",
       "\n",
       "      nnan    ndups        n    vmin      vmean    vmedian           vmax  \\\n",
       "0        0        0  5171417     0.0  2585708.0  2585708.0      5171416.0   \n",
       "1        0  4334709  5171417     &c.        NaN        NaN             μm   \n",
       "2        0  5171381  5171417  Präfix        NaN        NaN      übersicht   \n",
       "3    11465  5159921  5171417                NaN        NaN  Wortart fehlt   \n",
       "4    11465  5159717  5171417                NaN        NaN              Ü   \n",
       "5        0  4445851  5171417                NaN        NaN            𒄿𒌑𒃷   \n",
       "6  1133103  4038090  5171417      []        NaN        NaN         [1225]   \n",
       "7  1133103  4019743  5171417                NaN        NaN          παθοs   \n",
       "\n",
       "           vsum  \n",
       "0  1.337177e+13  \n",
       "1           NaN  \n",
       "2           NaN  \n",
       "3           NaN  \n",
       "4           NaN  \n",
       "5           NaN  \n",
       "6           NaN  \n",
       "7           NaN  "
      ]
     },
     "execution_count": 20,
     "metadata": {},
     "output_type": "execute_result"
    }
   ],
   "source": [
    "pak.analyse_cols(wiktionary_merkmal)"
   ]
  },
  {
   "cell_type": "code",
   "execution_count": 21,
   "metadata": {
    "execution": {
     "iopub.execute_input": "2023-03-04T09:28:53.655518Z",
     "iopub.status.busy": "2023-03-04T09:28:53.655256Z",
     "iopub.status.idle": "2023-03-04T09:29:04.749161Z",
     "shell.execute_reply": "2023-03-04T09:29:04.748473Z",
     "shell.execute_reply.started": "2023-03-04T09:28:53.655496Z"
    },
    "tags": []
   },
   "outputs": [
    {
     "name": "stdout",
     "output_type": "stream",
     "text": [
      "36 rows\n"
     ]
    },
    {
     "data": {
      "text/html": [
       "\n",
       "        <iframe\n",
       "            width=\"100%\"\n",
       "            height=\"475\"\n",
       "            src=\"http://pop-os:40000/dtale/iframe/1\"\n",
       "            frameborder=\"0\"\n",
       "            allowfullscreen\n",
       "            \n",
       "        ></iframe>\n",
       "        "
      ],
      "text/plain": [
       "<IPython.lib.display.IFrame at 0x7f4024c05670>"
      ]
     },
     "metadata": {},
     "output_type": "display_data"
    },
    {
     "data": {
      "text/plain": []
     },
     "execution_count": 21,
     "metadata": {},
     "output_type": "execute_result"
    }
   ],
   "source": [
    "# Häufigkeit der Merkmale\n",
    "a = pak.analyse_freqs(wiktionary_merkmal,['merkmal','data'])\n",
    "gridt(a)"
   ]
  },
  {
   "cell_type": "code",
   "execution_count": 22,
   "metadata": {
    "execution": {
     "iopub.execute_input": "2023-03-04T09:29:04.755627Z",
     "iopub.status.busy": "2023-03-04T09:29:04.753150Z",
     "iopub.status.idle": "2023-03-04T09:29:05.073008Z",
     "shell.execute_reply": "2023-03-04T09:29:05.072212Z",
     "shell.execute_reply.started": "2023-03-04T09:29:04.755591Z"
    }
   },
   "outputs": [],
   "source": [
    "# ursprüngliche_merkmale merken\n",
    "ursprüngliche_merkmale = wiktionary_merkmal.merkmal.unique()"
   ]
  },
  {
   "cell_type": "markdown",
   "metadata": {},
   "source": [
    "## Vorverarbeitung\n",
    "* Feld num in String wandeln, um dups entfernen zu können\n",
    "* Dups entfernen\n",
    "* wiktionary: flexion in defaultdict wandeln"
   ]
  },
  {
   "cell_type": "code",
   "execution_count": 23,
   "metadata": {
    "execution": {
     "iopub.execute_input": "2023-03-04T09:29:05.074526Z",
     "iopub.status.busy": "2023-03-04T09:29:05.074270Z",
     "iopub.status.idle": "2023-03-04T09:29:06.495723Z",
     "shell.execute_reply": "2023-03-04T09:29:06.494957Z",
     "shell.execute_reply.started": "2023-03-04T09:29:05.074505Z"
    }
   },
   "outputs": [],
   "source": [
    "# num ist leere Liste \n",
    "mask = (wiktionary_merkmal.num.str.len() == 0)  \n",
    "#wiktionary_merkmal[mask]\n",
    "wiktionary_merkmal.loc[mask,'num'] = ''"
   ]
  },
  {
   "cell_type": "code",
   "execution_count": 24,
   "metadata": {
    "execution": {
     "iopub.execute_input": "2023-03-04T09:29:06.496809Z",
     "iopub.status.busy": "2023-03-04T09:29:06.496544Z",
     "iopub.status.idle": "2023-03-04T09:29:06.872706Z",
     "shell.execute_reply": "2023-03-04T09:29:06.871853Z",
     "shell.execute_reply.started": "2023-03-04T09:29:06.496788Z"
    }
   },
   "outputs": [],
   "source": [
    "# fillna\n",
    "wiktionary_merkmal['num'] = wiktionary_merkmal.num.fillna('')"
   ]
  },
  {
   "cell_type": "code",
   "execution_count": 25,
   "metadata": {
    "execution": {
     "iopub.execute_input": "2023-03-04T09:29:06.877851Z",
     "iopub.status.busy": "2023-03-04T09:29:06.875960Z",
     "iopub.status.idle": "2023-03-04T09:29:09.217794Z",
     "shell.execute_reply": "2023-03-04T09:29:09.217066Z",
     "shell.execute_reply.started": "2023-03-04T09:29:06.877813Z"
    }
   },
   "outputs": [],
   "source": [
    "# num ist Liste mit einem Eintrag >> diesen verwenden\n",
    "mask = (wiktionary_merkmal.num.str.len() == 1)\n",
    "wiktionary_merkmal.loc[mask,'num'] = wiktionary_merkmal[mask].num.str[0]\n",
    "#wiktionary_merkmal[mask]"
   ]
  },
  {
   "cell_type": "code",
   "execution_count": 26,
   "metadata": {
    "execution": {
     "iopub.execute_input": "2023-03-04T09:29:09.222442Z",
     "iopub.status.busy": "2023-03-04T09:29:09.222050Z",
     "iopub.status.idle": "2023-03-04T09:29:09.302139Z",
     "shell.execute_reply": "2023-03-04T09:29:09.301487Z",
     "shell.execute_reply.started": "2023-03-04T09:29:09.222416Z"
    }
   },
   "outputs": [
    {
     "data": {
      "text/plain": [
       "\u001b[0;31mSignature:\u001b[0m \u001b[0mpak\u001b[0m\u001b[0;34m.\u001b[0m\u001b[0mlist_to_string\u001b[0m\u001b[0;34m(\u001b[0m\u001b[0mseries\u001b[0m\u001b[0;34m,\u001b[0m \u001b[0msep\u001b[0m\u001b[0;34m=\u001b[0m\u001b[0;34m','\u001b[0m\u001b[0;34m)\u001b[0m\u001b[0;34m\u001b[0m\u001b[0;34m\u001b[0m\u001b[0m\n",
       "\u001b[0;31mDocstring:\u001b[0m\n",
       "Converts a Series of lists of strings into a Series of strings.\n",
       "* sep: The separator, default is ','\n",
       "Example:\n",
       "df = pak.people()\n",
       "df['history2'] = pak.list_to_string(df.history)    \n",
       "\u001b[0;31mFile:\u001b[0m      ~/Data_Linux/Dropbox/31_Projekte/01_Python/git/pandasklar/src/pandasklar/pandas.py\n",
       "\u001b[0;31mType:\u001b[0m      function\n"
      ]
     },
     "metadata": {},
     "output_type": "display_data"
    }
   ],
   "source": [
    "?pak.list_to_string"
   ]
  },
  {
   "cell_type": "code",
   "execution_count": 27,
   "metadata": {
    "execution": {
     "iopub.execute_input": "2023-03-04T09:29:09.306366Z",
     "iopub.status.busy": "2023-03-04T09:29:09.306017Z",
     "iopub.status.idle": "2023-03-04T09:29:11.327741Z",
     "shell.execute_reply": "2023-03-04T09:29:11.327100Z",
     "shell.execute_reply.started": "2023-03-04T09:29:09.306343Z"
    }
   },
   "outputs": [],
   "source": [
    "# Liste in String wandeln, damit wir Dups entfernen können\n",
    "# wiktionary_merkmal: list_to_string\n",
    "wiktionary_merkmal['num'] = pak.list_to_string(wiktionary_merkmal.num)"
   ]
  },
  {
   "cell_type": "code",
   "execution_count": 28,
   "metadata": {
    "execution": {
     "iopub.execute_input": "2023-03-04T09:29:11.333381Z",
     "iopub.status.busy": "2023-03-04T09:29:11.333110Z",
     "iopub.status.idle": "2023-03-04T09:29:18.716440Z",
     "shell.execute_reply": "2023-03-04T09:29:18.715830Z",
     "shell.execute_reply.started": "2023-03-04T09:29:11.333360Z"
    }
   },
   "outputs": [
    {
     "name": "stdout",
     "output_type": "stream",
     "text": [
      "Delete 1902922 rows from 5171417\n"
     ]
    }
   ],
   "source": [
    "# Dups entfernen. \n",
    "# Die Duplikate entstehen z.B. dadurch, dass für manche Merkmale nur der Linktext verwendet wird. \n",
    "# Beispiel Wolf_1, Merkmal kombi: die Wolf _mündet_, in die Wolf _mündet_ führt zu einem Duplikat.\n",
    "mask = wiktionary_merkmal.duplicated()\n",
    "wiktionary_merkmal = pak.drop_rows(wiktionary_merkmal, mask)"
   ]
  },
  {
   "cell_type": "code",
   "execution_count": 29,
   "metadata": {
    "execution": {
     "iopub.execute_input": "2023-03-04T09:29:18.717511Z",
     "iopub.status.busy": "2023-03-04T09:29:18.717282Z",
     "iopub.status.idle": "2023-03-04T09:29:18.983901Z",
     "shell.execute_reply": "2023-03-04T09:29:18.983141Z",
     "shell.execute_reply.started": "2023-03-04T09:29:18.717490Z"
    }
   },
   "outputs": [],
   "source": [
    "# lemma_lower\n",
    "wiktionary['lemma_lower'] = wiktionary.lemma.str.lower() "
   ]
  },
  {
   "cell_type": "code",
   "execution_count": 30,
   "metadata": {
    "execution": {
     "iopub.execute_input": "2023-03-04T09:29:18.986534Z",
     "iopub.status.busy": "2023-03-04T09:29:18.986225Z",
     "iopub.status.idle": "2023-03-04T09:30:17.950108Z",
     "shell.execute_reply": "2023-03-04T09:30:17.949490Z",
     "shell.execute_reply.started": "2023-03-04T09:29:18.986507Z"
    },
    "tags": []
   },
   "outputs": [],
   "source": [
    "# wiktionary: flexion in defaultdict wandeln\n",
    "# 1 min\n",
    "wiktionary = pak.cols_to_defaultdict( wiktionary, col_dict='flexion')"
   ]
  },
  {
   "cell_type": "code",
   "execution_count": 31,
   "metadata": {
    "execution": {
     "iopub.execute_input": "2023-03-04T09:30:17.956207Z",
     "iopub.status.busy": "2023-03-04T09:30:17.954029Z",
     "iopub.status.idle": "2023-03-04T09:30:28.320506Z",
     "shell.execute_reply": "2023-03-04T09:30:28.319870Z",
     "shell.execute_reply.started": "2023-03-04T09:30:17.956171Z"
    },
    "tags": []
   },
   "outputs": [],
   "source": [
    "# change_datatype\n",
    "wiktionary = pak.change_datatype(wiktionary, verbose=False)"
   ]
  },
  {
   "cell_type": "markdown",
   "metadata": {},
   "source": [
    "## score"
   ]
  },
  {
   "cell_type": "code",
   "execution_count": 32,
   "metadata": {
    "execution": {
     "iopub.execute_input": "2023-03-04T09:30:28.322963Z",
     "iopub.status.busy": "2023-03-04T09:30:28.322656Z",
     "iopub.status.idle": "2023-03-04T09:30:28.498912Z",
     "shell.execute_reply": "2023-03-04T09:30:28.498331Z",
     "shell.execute_reply.started": "2023-03-04T09:30:28.322934Z"
    },
    "tags": []
   },
   "outputs": [],
   "source": [
    "# Basis ist erstmal die Länge des Wiktionary-Eintrags\n",
    "wiktionary['score_base'] = pak.scale( wiktionary.section_len, 'compare_median') + 0.001"
   ]
  },
  {
   "cell_type": "code",
   "execution_count": 33,
   "metadata": {
    "execution": {
     "iopub.execute_input": "2023-03-04T09:30:28.500736Z",
     "iopub.status.busy": "2023-03-04T09:30:28.500415Z",
     "iopub.status.idle": "2023-03-04T09:30:28.705926Z",
     "shell.execute_reply": "2023-03-04T09:30:28.705291Z",
     "shell.execute_reply.started": "2023-03-04T09:30:28.500713Z"
    },
    "tags": []
   },
   "outputs": [],
   "source": [
    "# Lemmas sind besser\n",
    "wiktionary['f0'] = 0.5\n",
    "mask = (wiktionary.title == wiktionary.lemma)\n",
    "wiktionary.loc[mask,'f0'] = 2.0"
   ]
  },
  {
   "cell_type": "code",
   "execution_count": 34,
   "metadata": {
    "execution": {
     "iopub.execute_input": "2023-03-04T09:30:28.707338Z",
     "iopub.status.busy": "2023-03-04T09:30:28.707075Z",
     "iopub.status.idle": "2023-03-04T09:30:29.039550Z",
     "shell.execute_reply": "2023-03-04T09:30:29.038918Z",
     "shell.execute_reply.started": "2023-03-04T09:30:28.707315Z"
    },
    "tags": []
   },
   "outputs": [],
   "source": [
    "# Je mehr _ die ID enthält, desto schlechter\n",
    "wiktionary['f1'] = 1 / (1 + wiktionary.section_id2.str.count('_'))  "
   ]
  },
  {
   "cell_type": "code",
   "execution_count": 35,
   "metadata": {
    "execution": {
     "iopub.execute_input": "2023-03-04T09:30:29.041780Z",
     "iopub.status.busy": "2023-03-04T09:30:29.041511Z",
     "iopub.status.idle": "2023-03-04T09:30:29.129500Z",
     "shell.execute_reply": "2023-03-04T09:30:29.128688Z",
     "shell.execute_reply.started": "2023-03-04T09:30:29.041758Z"
    },
    "tags": []
   },
   "outputs": [],
   "source": [
    "# Je weiter unten auf der Seite, desto schlechter\n",
    "wiktionary['f2'] = 1 / (1 + wiktionary.page_part) \n",
    "\n",
    "mask = wiktionary.page_part == 0\n",
    "wiktionary.loc[mask,'f2'] += 1"
   ]
  },
  {
   "cell_type": "code",
   "execution_count": 36,
   "metadata": {
    "execution": {
     "iopub.execute_input": "2023-03-04T09:30:29.139228Z",
     "iopub.status.busy": "2023-03-04T09:30:29.138029Z",
     "iopub.status.idle": "2023-03-04T09:30:36.375483Z",
     "shell.execute_reply": "2023-03-04T09:30:36.374701Z",
     "shell.execute_reply.started": "2023-03-04T09:30:29.139182Z"
    },
    "tags": []
   },
   "outputs": [
    {
     "name": "stdout",
     "output_type": "stream",
     "text": [
      "2431787 rows less, now 836708 rows\n",
      "update_col: 836708 cells written into new column\n"
     ]
    }
   ],
   "source": [
    "# Merkmale zählen. Je mehr Merkmale, desto besser\n",
    "df = pak.group_and_agg( wiktionary_merkmal,\n",
    "                        col_origins = ['section_id2','data',],\n",
    "                        col_funcs   = ['',           'size'],\n",
    "                        col_names   = ['',           'm_count'] )\n",
    "wiktionary = pak.update_col(wiktionary, df, on='section_id2',col='m_count')\n",
    "wiktionary['f3'] = (wiktionary.m_count**0.5).fillna(0.1)"
   ]
  },
  {
   "cell_type": "code",
   "execution_count": 37,
   "metadata": {
    "execution": {
     "iopub.execute_input": "2023-03-04T09:30:36.381354Z",
     "iopub.status.busy": "2023-03-04T09:30:36.378885Z",
     "iopub.status.idle": "2023-03-04T09:30:36.440478Z",
     "shell.execute_reply": "2023-03-04T09:30:36.439727Z",
     "shell.execute_reply.started": "2023-03-04T09:30:36.381317Z"
    },
    "tags": []
   },
   "outputs": [],
   "source": [
    "# alles zusammenrechnen\n",
    "wiktionary['score'] = wiktionary.score_base * wiktionary.f0 * wiktionary.f1 * wiktionary.f2 * wiktionary.f3"
   ]
  },
  {
   "cell_type": "code",
   "execution_count": 38,
   "metadata": {
    "execution": {
     "iopub.execute_input": "2023-03-04T09:30:36.448818Z",
     "iopub.status.busy": "2023-03-04T09:30:36.444034Z",
     "iopub.status.idle": "2023-03-04T09:30:39.797953Z",
     "shell.execute_reply": "2023-03-04T09:30:39.797151Z",
     "shell.execute_reply.started": "2023-03-04T09:30:36.448774Z"
    },
    "tags": []
   },
   "outputs": [
    {
     "data": {
      "text/html": [
       "<div>\n",
       "<style scoped>\n",
       "    .dataframe tbody tr th:only-of-type {\n",
       "        vertical-align: middle;\n",
       "    }\n",
       "\n",
       "    .dataframe tbody tr th {\n",
       "        vertical-align: top;\n",
       "    }\n",
       "\n",
       "    .dataframe thead th {\n",
       "        text-align: right;\n",
       "    }\n",
       "</style>\n",
       "<table border=\"1\" class=\"dataframe\">\n",
       "  <thead>\n",
       "    <tr style=\"text-align: right;\">\n",
       "      <th></th>\n",
       "      <th>page_id</th>\n",
       "      <th>page_part</th>\n",
       "      <th>section_id2</th>\n",
       "      <th>title</th>\n",
       "      <th>lemma</th>\n",
       "      <th>section_len</th>\n",
       "      <th>score_base</th>\n",
       "      <th>f0</th>\n",
       "      <th>f1</th>\n",
       "      <th>f2</th>\n",
       "      <th>m_count</th>\n",
       "      <th>f3</th>\n",
       "      <th>score</th>\n",
       "    </tr>\n",
       "  </thead>\n",
       "  <tbody>\n",
       "    <tr>\n",
       "      <th>0</th>\n",
       "      <td>0</td>\n",
       "      <td>0</td>\n",
       "      <td>Hallo</td>\n",
       "      <td>Hallo</td>\n",
       "      <td>Hallo</td>\n",
       "      <td>1935</td>\n",
       "      <td>2.752282</td>\n",
       "      <td>2.0</td>\n",
       "      <td>1.0</td>\n",
       "      <td>2.0</td>\n",
       "      <td>10.0</td>\n",
       "      <td>3.162278</td>\n",
       "      <td>34.81392</td>\n",
       "    </tr>\n",
       "    <tr>\n",
       "      <th>27</th>\n",
       "      <td>50</td>\n",
       "      <td>0</td>\n",
       "      <td>ich</td>\n",
       "      <td>ich</td>\n",
       "      <td>ich</td>\n",
       "      <td>86973</td>\n",
       "      <td>111.775359</td>\n",
       "      <td>2.0</td>\n",
       "      <td>1.0</td>\n",
       "      <td>2.0</td>\n",
       "      <td>29.0</td>\n",
       "      <td>5.385165</td>\n",
       "      <td>2407.714918</td>\n",
       "    </tr>\n",
       "    <tr>\n",
       "      <th>135</th>\n",
       "      <td>217</td>\n",
       "      <td>0</td>\n",
       "      <td>Haus</td>\n",
       "      <td>Haus</td>\n",
       "      <td>Haus</td>\n",
       "      <td>70143</td>\n",
       "      <td>90.198436</td>\n",
       "      <td>2.0</td>\n",
       "      <td>1.0</td>\n",
       "      <td>2.0</td>\n",
       "      <td>1126.0</td>\n",
       "      <td>33.555923</td>\n",
       "      <td>12106.767249</td>\n",
       "    </tr>\n",
       "    <tr>\n",
       "      <th>1762</th>\n",
       "      <td>2536</td>\n",
       "      <td>0</td>\n",
       "      <td>kill</td>\n",
       "      <td>kill</td>\n",
       "      <td>killen</td>\n",
       "      <td>345</td>\n",
       "      <td>0.540256</td>\n",
       "      <td>0.5</td>\n",
       "      <td>1.0</td>\n",
       "      <td>2.0</td>\n",
       "      <td>2.0</td>\n",
       "      <td>1.414214</td>\n",
       "      <td>0.764038</td>\n",
       "    </tr>\n",
       "    <tr>\n",
       "      <th>6161</th>\n",
       "      <td>9972</td>\n",
       "      <td>0</td>\n",
       "      <td>gedungen</td>\n",
       "      <td>gedungen</td>\n",
       "      <td>dingen</td>\n",
       "      <td>303</td>\n",
       "      <td>0.453479</td>\n",
       "      <td>0.5</td>\n",
       "      <td>1.0</td>\n",
       "      <td>2.0</td>\n",
       "      <td>1.0</td>\n",
       "      <td>1.000000</td>\n",
       "      <td>0.453479</td>\n",
       "    </tr>\n",
       "    <tr>\n",
       "      <th>9831</th>\n",
       "      <td>16847</td>\n",
       "      <td>0</td>\n",
       "      <td>umfahren</td>\n",
       "      <td>umfahren</td>\n",
       "      <td>umfahren</td>\n",
       "      <td>1842</td>\n",
       "      <td>2.633051</td>\n",
       "      <td>2.0</td>\n",
       "      <td>1.0</td>\n",
       "      <td>2.0</td>\n",
       "      <td>20.0</td>\n",
       "      <td>4.472136</td>\n",
       "      <td>47.101453</td>\n",
       "    </tr>\n",
       "    <tr>\n",
       "      <th>10081</th>\n",
       "      <td>17389</td>\n",
       "      <td>0</td>\n",
       "      <td>DRiG</td>\n",
       "      <td>DRiG</td>\n",
       "      <td>DRiG</td>\n",
       "      <td>338</td>\n",
       "      <td>0.525793</td>\n",
       "      <td>2.0</td>\n",
       "      <td>1.0</td>\n",
       "      <td>2.0</td>\n",
       "      <td>NaN</td>\n",
       "      <td>0.100000</td>\n",
       "      <td>0.210317</td>\n",
       "    </tr>\n",
       "    <tr>\n",
       "      <th>13086</th>\n",
       "      <td>21980</td>\n",
       "      <td>1</td>\n",
       "      <td>North_Carolina_1</td>\n",
       "      <td>North Carolina</td>\n",
       "      <td>North Carolina</td>\n",
       "      <td>1055</td>\n",
       "      <td>1.624077</td>\n",
       "      <td>2.0</td>\n",
       "      <td>0.333333</td>\n",
       "      <td>0.5</td>\n",
       "      <td>9.0</td>\n",
       "      <td>3.000000</td>\n",
       "      <td>1.624077</td>\n",
       "    </tr>\n",
       "    <tr>\n",
       "      <th>18971</th>\n",
       "      <td>47220</td>\n",
       "      <td>2</td>\n",
       "      <td>Riß_2</td>\n",
       "      <td>Riß</td>\n",
       "      <td>Riß</td>\n",
       "      <td>84</td>\n",
       "      <td>0.001</td>\n",
       "      <td>2.0</td>\n",
       "      <td>0.5</td>\n",
       "      <td>0.333333</td>\n",
       "      <td>NaN</td>\n",
       "      <td>0.100000</td>\n",
       "      <td>0.000033</td>\n",
       "    </tr>\n",
       "    <tr>\n",
       "      <th>95827</th>\n",
       "      <td>239700</td>\n",
       "      <td>0</td>\n",
       "      <td>μm</td>\n",
       "      <td>μm</td>\n",
       "      <td>μm</td>\n",
       "      <td>1007</td>\n",
       "      <td>1.562538</td>\n",
       "      <td>2.0</td>\n",
       "      <td>1.0</td>\n",
       "      <td>2.0</td>\n",
       "      <td>5.0</td>\n",
       "      <td>2.236068</td>\n",
       "      <td>13.975769</td>\n",
       "    </tr>\n",
       "    <tr>\n",
       "      <th>96368</th>\n",
       "      <td>240350</td>\n",
       "      <td>0</td>\n",
       "      <td>&amp;c.</td>\n",
       "      <td>&amp;c.</td>\n",
       "      <td>&amp;c.</td>\n",
       "      <td>430</td>\n",
       "      <td>0.715876</td>\n",
       "      <td>2.0</td>\n",
       "      <td>1.0</td>\n",
       "      <td>2.0</td>\n",
       "      <td>2.0</td>\n",
       "      <td>1.414214</td>\n",
       "      <td>4.049606</td>\n",
       "    </tr>\n",
       "    <tr>\n",
       "      <th>98800</th>\n",
       "      <td>243606</td>\n",
       "      <td>6</td>\n",
       "      <td>Ami_6</td>\n",
       "      <td>Ami</td>\n",
       "      <td>Ami</td>\n",
       "      <td>2429</td>\n",
       "      <td>3.385615</td>\n",
       "      <td>2.0</td>\n",
       "      <td>0.5</td>\n",
       "      <td>0.142857</td>\n",
       "      <td>2.0</td>\n",
       "      <td>1.414214</td>\n",
       "      <td>0.683998</td>\n",
       "    </tr>\n",
       "    <tr>\n",
       "      <th>489626</th>\n",
       "      <td>730546</td>\n",
       "      <td>0</td>\n",
       "      <td>Braunen</td>\n",
       "      <td>Braunen</td>\n",
       "      <td>Brauner</td>\n",
       "      <td>1056</td>\n",
       "      <td>1.625359</td>\n",
       "      <td>0.5</td>\n",
       "      <td>1.0</td>\n",
       "      <td>2.0</td>\n",
       "      <td>1.0</td>\n",
       "      <td>1.000000</td>\n",
       "      <td>1.625359</td>\n",
       "    </tr>\n",
       "    <tr>\n",
       "      <th>638122</th>\n",
       "      <td>901589</td>\n",
       "      <td>0</td>\n",
       "      <td>ausschleichen</td>\n",
       "      <td>ausschleichen</td>\n",
       "      <td>ausschleichen</td>\n",
       "      <td>1654</td>\n",
       "      <td>2.392026</td>\n",
       "      <td>2.0</td>\n",
       "      <td>1.0</td>\n",
       "      <td>2.0</td>\n",
       "      <td>22.0</td>\n",
       "      <td>4.690416</td>\n",
       "      <td>44.878379</td>\n",
       "    </tr>\n",
       "    <tr>\n",
       "      <th>723697</th>\n",
       "      <td>992531</td>\n",
       "      <td>0</td>\n",
       "      <td>-ablerem</td>\n",
       "      <td>-ablerem</td>\n",
       "      <td>-abel</td>\n",
       "      <td>420</td>\n",
       "      <td>0.695215</td>\n",
       "      <td>0.5</td>\n",
       "      <td>1.0</td>\n",
       "      <td>2.0</td>\n",
       "      <td>1.0</td>\n",
       "      <td>1.000000</td>\n",
       "      <td>0.695215</td>\n",
       "    </tr>\n",
       "    <tr>\n",
       "      <th>837592</th>\n",
       "      <td>1118318</td>\n",
       "      <td>0</td>\n",
       "      <td>Überreichweiten</td>\n",
       "      <td>Überreichweiten</td>\n",
       "      <td>Überreichweite</td>\n",
       "      <td>452</td>\n",
       "      <td>0.761331</td>\n",
       "      <td>0.5</td>\n",
       "      <td>1.0</td>\n",
       "      <td>2.0</td>\n",
       "      <td>1.0</td>\n",
       "      <td>1.000000</td>\n",
       "      <td>0.761331</td>\n",
       "    </tr>\n",
       "  </tbody>\n",
       "</table>\n",
       "</div>"
      ],
      "text/plain": [
       "        page_id  page_part       section_id2            title           lemma  \\\n",
       "0             0          0             Hallo            Hallo           Hallo   \n",
       "27           50          0               ich              ich             ich   \n",
       "135         217          0              Haus             Haus            Haus   \n",
       "1762       2536          0              kill             kill          killen   \n",
       "6161       9972          0          gedungen         gedungen          dingen   \n",
       "9831      16847          0          umfahren         umfahren        umfahren   \n",
       "10081     17389          0              DRiG             DRiG            DRiG   \n",
       "13086     21980          1  North_Carolina_1   North Carolina  North Carolina   \n",
       "18971     47220          2             Riß_2              Riß             Riß   \n",
       "95827    239700          0                μm               μm              μm   \n",
       "96368    240350          0               &c.              &c.             &c.   \n",
       "98800    243606          6             Ami_6              Ami             Ami   \n",
       "489626   730546          0           Braunen          Braunen         Brauner   \n",
       "638122   901589          0     ausschleichen    ausschleichen   ausschleichen   \n",
       "723697   992531          0          -ablerem         -ablerem           -abel   \n",
       "837592  1118318          0   Überreichweiten  Überreichweiten  Überreichweite   \n",
       "\n",
       "        section_len  score_base   f0        f1        f2  m_count         f3  \\\n",
       "0              1935    2.752282  2.0       1.0       2.0     10.0   3.162278   \n",
       "27            86973  111.775359  2.0       1.0       2.0     29.0   5.385165   \n",
       "135           70143   90.198436  2.0       1.0       2.0   1126.0  33.555923   \n",
       "1762            345    0.540256  0.5       1.0       2.0      2.0   1.414214   \n",
       "6161            303    0.453479  0.5       1.0       2.0      1.0   1.000000   \n",
       "9831           1842    2.633051  2.0       1.0       2.0     20.0   4.472136   \n",
       "10081           338    0.525793  2.0       1.0       2.0      NaN   0.100000   \n",
       "13086          1055    1.624077  2.0  0.333333       0.5      9.0   3.000000   \n",
       "18971            84       0.001  2.0       0.5  0.333333      NaN   0.100000   \n",
       "95827          1007    1.562538  2.0       1.0       2.0      5.0   2.236068   \n",
       "96368           430    0.715876  2.0       1.0       2.0      2.0   1.414214   \n",
       "98800          2429    3.385615  2.0       0.5  0.142857      2.0   1.414214   \n",
       "489626         1056    1.625359  0.5       1.0       2.0      1.0   1.000000   \n",
       "638122         1654    2.392026  2.0       1.0       2.0     22.0   4.690416   \n",
       "723697          420    0.695215  0.5       1.0       2.0      1.0   1.000000   \n",
       "837592          452    0.761331  0.5       1.0       2.0      1.0   1.000000   \n",
       "\n",
       "               score  \n",
       "0           34.81392  \n",
       "27       2407.714918  \n",
       "135     12106.767249  \n",
       "1762        0.764038  \n",
       "6161        0.453479  \n",
       "9831       47.101453  \n",
       "10081       0.210317  \n",
       "13086       1.624077  \n",
       "18971       0.000033  \n",
       "95827      13.975769  \n",
       "96368       4.049606  \n",
       "98800       0.683998  \n",
       "489626      1.625359  \n",
       "638122     44.878379  \n",
       "723697      0.695215  \n",
       "837592      0.761331  "
      ]
     },
     "execution_count": 38,
     "metadata": {},
     "output_type": "execute_result"
    }
   ],
   "source": [
    "spalten = ['page_id','page_part','section_id2','title','lemma','section_len','score_base','f0','f1','f2','m_count','f3','score']\n",
    "pak.sample(wiktionary[spalten])"
   ]
  },
  {
   "cell_type": "code",
   "execution_count": 39,
   "metadata": {
    "execution": {
     "iopub.execute_input": "2023-03-04T09:30:39.799280Z",
     "iopub.status.busy": "2023-03-04T09:30:39.799009Z",
     "iopub.status.idle": "2023-03-04T09:30:41.235468Z",
     "shell.execute_reply": "2023-03-04T09:30:41.234606Z",
     "shell.execute_reply.started": "2023-03-04T09:30:39.799259Z"
    },
    "tags": []
   },
   "outputs": [],
   "source": [
    "# Zwischenwerte löschen\n",
    "wiktionary = pak.drop_cols(wiktionary, ['section_len','score_base','f0','f1','f2','m_count','f3'])"
   ]
  },
  {
   "cell_type": "code",
   "execution_count": 40,
   "metadata": {
    "execution": {
     "iopub.execute_input": "2023-03-04T09:30:41.241692Z",
     "iopub.status.busy": "2023-03-04T09:30:41.241248Z",
     "iopub.status.idle": "2023-03-04T09:30:41.333660Z",
     "shell.execute_reply": "2023-03-04T09:30:41.332530Z",
     "shell.execute_reply.started": "2023-03-04T09:30:41.241660Z"
    },
    "tags": []
   },
   "outputs": [
    {
     "data": {
      "text/html": [
       "<div>\n",
       "<style scoped>\n",
       "    .dataframe tbody tr th:only-of-type {\n",
       "        vertical-align: middle;\n",
       "    }\n",
       "\n",
       "    .dataframe tbody tr th {\n",
       "        vertical-align: top;\n",
       "    }\n",
       "\n",
       "    .dataframe thead th {\n",
       "        text-align: right;\n",
       "    }\n",
       "</style>\n",
       "<table border=\"1\" class=\"dataframe\">\n",
       "  <thead>\n",
       "    <tr style=\"text-align: right;\">\n",
       "      <th></th>\n",
       "      <th>item</th>\n",
       "      <th>item_count</th>\n",
       "      <th>item_percent</th>\n",
       "      <th>graph</th>\n",
       "    </tr>\n",
       "  </thead>\n",
       "  <tbody>\n",
       "    <tr>\n",
       "      <th>0</th>\n",
       "      <td>0.0</td>\n",
       "      <td>727445</td>\n",
       "      <td>86.8</td>\n",
       "      <td>###########################################</td>\n",
       "    </tr>\n",
       "    <tr>\n",
       "      <th>1</th>\n",
       "      <td>50.0</td>\n",
       "      <td>88335</td>\n",
       "      <td>10.5</td>\n",
       "      <td>#####</td>\n",
       "    </tr>\n",
       "    <tr>\n",
       "      <th>2</th>\n",
       "      <td>100.0</td>\n",
       "      <td>12370</td>\n",
       "      <td>1.5</td>\n",
       "      <td></td>\n",
       "    </tr>\n",
       "    <tr>\n",
       "      <th>3</th>\n",
       "      <td>150.0</td>\n",
       "      <td>3912</td>\n",
       "      <td>0.5</td>\n",
       "      <td></td>\n",
       "    </tr>\n",
       "    <tr>\n",
       "      <th>4</th>\n",
       "      <td>200.0</td>\n",
       "      <td>1909</td>\n",
       "      <td>0.2</td>\n",
       "      <td></td>\n",
       "    </tr>\n",
       "    <tr>\n",
       "      <th>5</th>\n",
       "      <td>250.0</td>\n",
       "      <td>1083</td>\n",
       "      <td>0.1</td>\n",
       "      <td></td>\n",
       "    </tr>\n",
       "    <tr>\n",
       "      <th>6</th>\n",
       "      <td>300.0</td>\n",
       "      <td>660</td>\n",
       "      <td>0.1</td>\n",
       "      <td></td>\n",
       "    </tr>\n",
       "    <tr>\n",
       "      <th>7</th>\n",
       "      <td>350.0</td>\n",
       "      <td>430</td>\n",
       "      <td>0.1</td>\n",
       "      <td></td>\n",
       "    </tr>\n",
       "    <tr>\n",
       "      <th>8</th>\n",
       "      <td>400.0</td>\n",
       "      <td>283</td>\n",
       "      <td>0.0</td>\n",
       "      <td></td>\n",
       "    </tr>\n",
       "    <tr>\n",
       "      <th>9</th>\n",
       "      <td>450.0</td>\n",
       "      <td>191</td>\n",
       "      <td>0.0</td>\n",
       "      <td></td>\n",
       "    </tr>\n",
       "  </tbody>\n",
       "</table>\n",
       "</div>"
      ],
      "text/plain": [
       "    item  item_count  item_percent  \\\n",
       "0    0.0      727445          86.8   \n",
       "1   50.0       88335          10.5   \n",
       "2  100.0       12370           1.5   \n",
       "3  150.0        3912           0.5   \n",
       "4  200.0        1909           0.2   \n",
       "5  250.0        1083           0.1   \n",
       "6  300.0         660           0.1   \n",
       "7  350.0         430           0.1   \n",
       "8  400.0         283           0.0   \n",
       "9  450.0         191           0.0   \n",
       "\n",
       "                                         graph  \n",
       "0  ###########################################  \n",
       "1                                        #####  \n",
       "2                                               \n",
       "3                                               \n",
       "4                                               \n",
       "5                                               \n",
       "6                                               \n",
       "7                                               \n",
       "8                                               \n",
       "9                                               "
      ]
     },
     "execution_count": 40,
     "metadata": {},
     "output_type": "execute_result"
    }
   ],
   "source": [
    "# Häufigkeiten score\n",
    "pak.analyse_freqs( (wiktionary.score/50).round(0) * 50 ).head(10)"
   ]
  },
  {
   "cell_type": "code",
   "execution_count": 41,
   "metadata": {
    "execution": {
     "iopub.execute_input": "2023-03-04T09:30:41.334926Z",
     "iopub.status.busy": "2023-03-04T09:30:41.334672Z",
     "iopub.status.idle": "2023-03-04T09:30:43.136791Z",
     "shell.execute_reply": "2023-03-04T09:30:43.136000Z",
     "shell.execute_reply.started": "2023-03-04T09:30:41.334905Z"
    },
    "tags": []
   },
   "outputs": [
    {
     "data": {
      "text/html": [
       "<div>\n",
       "<style scoped>\n",
       "    .dataframe tbody tr th:only-of-type {\n",
       "        vertical-align: middle;\n",
       "    }\n",
       "\n",
       "    .dataframe tbody tr th {\n",
       "        vertical-align: top;\n",
       "    }\n",
       "\n",
       "    .dataframe thead th {\n",
       "        text-align: right;\n",
       "    }\n",
       "</style>\n",
       "<table border=\"1\" class=\"dataframe\">\n",
       "  <thead>\n",
       "    <tr style=\"text-align: right;\">\n",
       "      <th></th>\n",
       "      <th>section_id2</th>\n",
       "      <th>title</th>\n",
       "      <th>lemma</th>\n",
       "      <th>pos</th>\n",
       "      <th>flexion</th>\n",
       "      <th>score</th>\n",
       "    </tr>\n",
       "  </thead>\n",
       "  <tbody>\n",
       "    <tr>\n",
       "      <th>135</th>\n",
       "      <td>Haus</td>\n",
       "      <td>Haus</td>\n",
       "      <td>Haus</td>\n",
       "      <td>{'Substantiv': []}</td>\n",
       "      <td>{'Genus': ['n'], 'Nominativ Singular': ['Haus'], 'Nominativ Plural': ['Häuser'], 'Genitiv Singular': ['Hauses'], 'Genitiv Plural': ['Häuser'], 'Dativ Singular': ['Haus'], 'Dativ Singular*': ['Hause'], 'Dativ Plural': ['Häusern'], 'Akkusativ Singular': ['Haus'], 'Akkusativ Plural': ['Häuser']}</td>\n",
       "      <td>12106.767249</td>\n",
       "    </tr>\n",
       "    <tr>\n",
       "      <th>6315</th>\n",
       "      <td>schwimmen</td>\n",
       "      <td>schwimmen</td>\n",
       "      <td>schwimmen</td>\n",
       "      <td>{'Verb': []}</td>\n",
       "      <td>{'Präsens_ich': ['schwimme'], 'Präsens_du': ['schwimmst'], 'Präsens_er, sie, es': ['schwimmt'], 'Präteritum_ich': ['schwamm'], 'Präteritum_ich*': ['schwomm'], 'Partizip II': ['geschwommen'], 'Konjunktiv II_ich': ['schwämme'], 'Konjunktiv II_ich*': ['schwömme'], 'Imperativ Singular': ['schwimm'], 'Imperativ Plural': ['schwimmt'], 'Hilfsverb': ['sein'], 'Hilfsverb*': ['haben']}</td>\n",
       "      <td>8328.625148</td>\n",
       "    </tr>\n",
       "    <tr>\n",
       "      <th>12146</th>\n",
       "      <td>Schnecke</td>\n",
       "      <td>Schnecke</td>\n",
       "      <td>Schnecke</td>\n",
       "      <td>{'Substantiv': []}</td>\n",
       "      <td>{'Genus': ['f'], 'Nominativ Singular': ['Schnecke'], 'Nominativ Plural': ['Schnecken'], 'Genitiv Singular': ['Schnecke'], 'Genitiv Plural': ['Schnecken'], 'Dativ Singular': ['Schnecke'], 'Dativ Plural': ['Schnecken'], 'Akkusativ Singular': ['Schnecke'], 'Akkusativ Plural': ['Schnecken']}</td>\n",
       "      <td>7218.973809</td>\n",
       "    </tr>\n",
       "    <tr>\n",
       "      <th>862</th>\n",
       "      <td>Katze</td>\n",
       "      <td>Katze</td>\n",
       "      <td>Katze</td>\n",
       "      <td>{'Substantiv': []}</td>\n",
       "      <td>{'Genus': ['f'], 'Nominativ Singular': ['Katze'], 'Nominativ Plural': ['Katzen'], 'Genitiv Singular': ['Katze'], 'Genitiv Plural': ['Katzen'], 'Dativ Singular': ['Katze'], 'Dativ Plural': ['Katzen'], 'Akkusativ Singular': ['Katze'], 'Akkusativ Plural': ['Katzen']}</td>\n",
       "      <td>6405.19632</td>\n",
       "    </tr>\n",
       "    <tr>\n",
       "      <th>128</th>\n",
       "      <td>Wasser</td>\n",
       "      <td>Wasser</td>\n",
       "      <td>Wasser</td>\n",
       "      <td>{'Substantiv': []}</td>\n",
       "      <td>{'Genus': ['n'], 'Nominativ Singular': ['Wasser'], 'Nominativ Plural 1': ['Wasser'], 'Nominativ Plural 2': ['Wässer'], 'Genitiv Singular': ['Wassers'], 'Genitiv Plural 1': ['Wasser'], 'Genitiv Plural 2': ['Wässer'], 'Dativ Singular': ['Wasser'], 'Dativ Plural 1': ['Wassern'], 'Dativ Plural 2': ['Wässern'], 'Akkusativ Singular': ['Wasser'], 'Akkusativ Plural 1': ['Wasser'], 'Akkusativ Plural 2': ['Wässer']}</td>\n",
       "      <td>6229.017</td>\n",
       "    </tr>\n",
       "    <tr>\n",
       "      <th>2735</th>\n",
       "      <td>Papagei</td>\n",
       "      <td>Papagei</td>\n",
       "      <td>Papagei</td>\n",
       "      <td>{'Substantiv': []}</td>\n",
       "      <td>{'Genus': ['m'], 'Nominativ Singular': ['Papagei'], 'Nominativ Plural': ['Papageien'], 'Genitiv Singular': ['Papageien'], 'Genitiv Plural': ['Papageien'], 'Dativ Singular': ['Papageien'], 'Dativ Plural': ['Papageien'], 'Akkusativ Singular': ['Papageien'], 'Akkusativ Plural': ['Papageien']}</td>\n",
       "      <td>5875.737306</td>\n",
       "    </tr>\n",
       "    <tr>\n",
       "      <th>466</th>\n",
       "      <td>Krankenhaus</td>\n",
       "      <td>Krankenhaus</td>\n",
       "      <td>Krankenhaus</td>\n",
       "      <td>{'Substantiv': []}</td>\n",
       "      <td>{'Genus': ['n'], 'Nominativ Singular': ['Krankenhaus'], 'Nominativ Plural': ['Krankenhäuser'], 'Genitiv Singular': ['Krankenhauses'], 'Genitiv Plural': ['Krankenhäuser'], 'Dativ Singular': ['Krankenhaus'], 'Dativ Singular*': ['Krankenhause'], 'Dativ Plural': ['Krankenhäusern'], 'Akkusativ Singular': ['Krankenhaus'], 'Akkusativ Plural': ['Krankenhäuser']}</td>\n",
       "      <td>5780.693006</td>\n",
       "    </tr>\n",
       "    <tr>\n",
       "      <th>6139</th>\n",
       "      <td>Esel</td>\n",
       "      <td>Esel</td>\n",
       "      <td>Esel</td>\n",
       "      <td>{'Substantiv': []}</td>\n",
       "      <td>{'Genus': ['m'], 'Nominativ Singular': ['Esel'], 'Nominativ Plural': ['Esel'], 'Genitiv Singular': ['Esels'], 'Genitiv Plural': ['Esel'], 'Dativ Singular': ['Esel'], 'Dativ Plural': ['Eseln'], 'Akkusativ Singular': ['Esel'], 'Akkusativ Plural': ['Esel']}</td>\n",
       "      <td>4922.37385</td>\n",
       "    </tr>\n",
       "    <tr>\n",
       "      <th>24531</th>\n",
       "      <td>schräg</td>\n",
       "      <td>schräg</td>\n",
       "      <td>schräg</td>\n",
       "      <td>{'Adjektiv': []}</td>\n",
       "      <td>{'Positiv': ['schräg'], 'Komparativ': ['schräger'], 'Superlativ': ['schrägsten']}</td>\n",
       "      <td>4879.18033</td>\n",
       "    </tr>\n",
       "    <tr>\n",
       "      <th>7045</th>\n",
       "      <td>Band</td>\n",
       "      <td>Band</td>\n",
       "      <td>Band</td>\n",
       "      <td>{'Substantiv': []}</td>\n",
       "      <td>{'Genus': ['n'], 'Nominativ Singular': ['Band'], 'Nominativ Plural 1': ['Bänder'], 'Nominativ Plural 2': ['Bande'], 'Genitiv Singular': ['Bandes'], 'Genitiv Singular*': ['Bands'], 'Genitiv Plural 1': ['Bänder'], 'Genitiv Plural 2': ['Bande'], 'Dativ Singular': ['Band'], 'Dativ Singular*': ['Bande'], 'Dativ Plural 1': ['Bändern'], 'Dativ Plural 2': ['Banden'], 'Akkusativ Singular': ['Band'], 'Akkusativ Plural 1': ['Bänder'], 'Akkusativ Plural 2': ['Bande']}</td>\n",
       "      <td>4616.801168</td>\n",
       "    </tr>\n",
       "  </tbody>\n",
       "</table>\n",
       "</div>"
      ],
      "text/plain": [
       "       section_id2        title        lemma                 pos  \\\n",
       "135           Haus         Haus         Haus  {'Substantiv': []}   \n",
       "6315     schwimmen    schwimmen    schwimmen        {'Verb': []}   \n",
       "12146     Schnecke     Schnecke     Schnecke  {'Substantiv': []}   \n",
       "862          Katze        Katze        Katze  {'Substantiv': []}   \n",
       "128         Wasser       Wasser       Wasser  {'Substantiv': []}   \n",
       "2735       Papagei      Papagei      Papagei  {'Substantiv': []}   \n",
       "466    Krankenhaus  Krankenhaus  Krankenhaus  {'Substantiv': []}   \n",
       "6139          Esel         Esel         Esel  {'Substantiv': []}   \n",
       "24531       schräg       schräg       schräg    {'Adjektiv': []}   \n",
       "7045          Band         Band         Band  {'Substantiv': []}   \n",
       "\n",
       "                                                                                                                                                                                                                                                                                                                                                                                                                                                                            flexion  \\\n",
       "135                                                                                                                                                                           {'Genus': ['n'], 'Nominativ Singular': ['Haus'], 'Nominativ Plural': ['Häuser'], 'Genitiv Singular': ['Hauses'], 'Genitiv Plural': ['Häuser'], 'Dativ Singular': ['Haus'], 'Dativ Singular*': ['Hause'], 'Dativ Plural': ['Häusern'], 'Akkusativ Singular': ['Haus'], 'Akkusativ Plural': ['Häuser']}   \n",
       "6315                                                                                     {'Präsens_ich': ['schwimme'], 'Präsens_du': ['schwimmst'], 'Präsens_er, sie, es': ['schwimmt'], 'Präteritum_ich': ['schwamm'], 'Präteritum_ich*': ['schwomm'], 'Partizip II': ['geschwommen'], 'Konjunktiv II_ich': ['schwämme'], 'Konjunktiv II_ich*': ['schwömme'], 'Imperativ Singular': ['schwimm'], 'Imperativ Plural': ['schwimmt'], 'Hilfsverb': ['sein'], 'Hilfsverb*': ['haben']}   \n",
       "12146                                                                                                                                                                              {'Genus': ['f'], 'Nominativ Singular': ['Schnecke'], 'Nominativ Plural': ['Schnecken'], 'Genitiv Singular': ['Schnecke'], 'Genitiv Plural': ['Schnecken'], 'Dativ Singular': ['Schnecke'], 'Dativ Plural': ['Schnecken'], 'Akkusativ Singular': ['Schnecke'], 'Akkusativ Plural': ['Schnecken']}   \n",
       "862                                                                                                                                                                                                        {'Genus': ['f'], 'Nominativ Singular': ['Katze'], 'Nominativ Plural': ['Katzen'], 'Genitiv Singular': ['Katze'], 'Genitiv Plural': ['Katzen'], 'Dativ Singular': ['Katze'], 'Dativ Plural': ['Katzen'], 'Akkusativ Singular': ['Katze'], 'Akkusativ Plural': ['Katzen']}   \n",
       "128                                                       {'Genus': ['n'], 'Nominativ Singular': ['Wasser'], 'Nominativ Plural 1': ['Wasser'], 'Nominativ Plural 2': ['Wässer'], 'Genitiv Singular': ['Wassers'], 'Genitiv Plural 1': ['Wasser'], 'Genitiv Plural 2': ['Wässer'], 'Dativ Singular': ['Wasser'], 'Dativ Plural 1': ['Wassern'], 'Dativ Plural 2': ['Wässern'], 'Akkusativ Singular': ['Wasser'], 'Akkusativ Plural 1': ['Wasser'], 'Akkusativ Plural 2': ['Wässer']}   \n",
       "2735                                                                                                                                                                             {'Genus': ['m'], 'Nominativ Singular': ['Papagei'], 'Nominativ Plural': ['Papageien'], 'Genitiv Singular': ['Papageien'], 'Genitiv Plural': ['Papageien'], 'Dativ Singular': ['Papageien'], 'Dativ Plural': ['Papageien'], 'Akkusativ Singular': ['Papageien'], 'Akkusativ Plural': ['Papageien']}   \n",
       "466                                                                                                            {'Genus': ['n'], 'Nominativ Singular': ['Krankenhaus'], 'Nominativ Plural': ['Krankenhäuser'], 'Genitiv Singular': ['Krankenhauses'], 'Genitiv Plural': ['Krankenhäuser'], 'Dativ Singular': ['Krankenhaus'], 'Dativ Singular*': ['Krankenhause'], 'Dativ Plural': ['Krankenhäusern'], 'Akkusativ Singular': ['Krankenhaus'], 'Akkusativ Plural': ['Krankenhäuser']}   \n",
       "6139                                                                                                                                                                                                                 {'Genus': ['m'], 'Nominativ Singular': ['Esel'], 'Nominativ Plural': ['Esel'], 'Genitiv Singular': ['Esels'], 'Genitiv Plural': ['Esel'], 'Dativ Singular': ['Esel'], 'Dativ Plural': ['Eseln'], 'Akkusativ Singular': ['Esel'], 'Akkusativ Plural': ['Esel']}   \n",
       "24531                                                                                                                                                                                                                                                                                                                                                                                             {'Positiv': ['schräg'], 'Komparativ': ['schräger'], 'Superlativ': ['schrägsten']}   \n",
       "7045   {'Genus': ['n'], 'Nominativ Singular': ['Band'], 'Nominativ Plural 1': ['Bänder'], 'Nominativ Plural 2': ['Bande'], 'Genitiv Singular': ['Bandes'], 'Genitiv Singular*': ['Bands'], 'Genitiv Plural 1': ['Bänder'], 'Genitiv Plural 2': ['Bande'], 'Dativ Singular': ['Band'], 'Dativ Singular*': ['Bande'], 'Dativ Plural 1': ['Bändern'], 'Dativ Plural 2': ['Banden'], 'Akkusativ Singular': ['Band'], 'Akkusativ Plural 1': ['Bänder'], 'Akkusativ Plural 2': ['Bande']}   \n",
       "\n",
       "              score  \n",
       "135    12106.767249  \n",
       "6315    8328.625148  \n",
       "12146   7218.973809  \n",
       "862      6405.19632  \n",
       "128        6229.017  \n",
       "2735    5875.737306  \n",
       "466     5780.693006  \n",
       "6139     4922.37385  \n",
       "24531    4879.18033  \n",
       "7045    4616.801168  "
      ]
     },
     "execution_count": 41,
     "metadata": {},
     "output_type": "execute_result"
    }
   ],
   "source": [
    "# Einträge mit dem höchsten Score\n",
    "a = wiktionary.sort_values('score',ascending=False).head(10)\n",
    "spalten = ['section_id2','title','lemma','pos','flexion','score']\n",
    "a[spalten]"
   ]
  },
  {
   "cell_type": "code",
   "execution_count": 42,
   "metadata": {
    "execution": {
     "iopub.execute_input": "2023-03-04T09:30:43.141500Z",
     "iopub.status.busy": "2023-03-04T09:30:43.141177Z",
     "iopub.status.idle": "2023-03-04T09:30:43.174794Z",
     "shell.execute_reply": "2023-03-04T09:30:43.174141Z",
     "shell.execute_reply.started": "2023-03-04T09:30:43.141474Z"
    }
   },
   "outputs": [],
   "source": [
    "#grid(wiktionary, pak.sample)"
   ]
  },
  {
   "cell_type": "markdown",
   "metadata": {},
   "source": [
    "## Steuertabellen laden"
   ]
  },
  {
   "cell_type": "code",
   "execution_count": 43,
   "metadata": {
    "execution": {
     "iopub.execute_input": "2023-03-04T09:30:43.178278Z",
     "iopub.status.busy": "2023-03-04T09:30:43.178010Z",
     "iopub.status.idle": "2023-03-04T09:30:43.231308Z",
     "shell.execute_reply": "2023-03-04T09:30:43.227007Z",
     "shell.execute_reply.started": "2023-03-04T09:30:43.178258Z"
    }
   },
   "outputs": [
    {
     "name": "stdout",
     "output_type": "stream",
     "text": [
      "<class 'IPython.core.display.Markdown'>\n"
     ]
    },
    {
     "data": {
      "text/markdown": [
       "<span style=\"font-size:larger;\">plan_merkmal_erstellen():</span>\n",
       "\n",
       "* definiert in Steuertabellen/s01_Steuertabellen.py\n",
       "* `merkmal`: Name des Merkmals\n",
       "* `template`: Name des Mediawiki-Templates, das diese Information enthält\n",
       "* `collect`: Extractionsmethode\n",
       "   * L extrahiert nur Links \n",
       "   * T extrahiert komplette Text-Absätze\n",
       "   * Ü extrahiert Übersetzungen\n",
       "   * P extrahiert Template-Parameter (Substring reicht)\n",
       "   * E checkt nur auf Existenz\n",
       "* `plan`:\n",
       "   * 1: die Merkmale, die in wiktionary_merkmal gespeichert werden\n",
       "   * 2: die Merkmale, die in wiktionary_merkmal_text gespeichert werden   \n",
       "   * 3: Reihenfolge und Liste aller Merkmale aus flexion / übersicht <br>\n",
       "        sowie die Merkmale aus named_entities und lexeme_manuell\n",
       "* `sort`: Irgendwas zum Sortieren der Merkmale\n",
       "* `is_lex`: Ist das Merkmal ein Lexem?    "
      ],
      "text/plain": [
       "<IPython.core.display.Markdown object>"
      ]
     },
     "metadata": {},
     "output_type": "display_data"
    }
   ],
   "source": [
    "blab.help(plan_merkmal_erstellen)"
   ]
  },
  {
   "cell_type": "code",
   "execution_count": 44,
   "metadata": {
    "execution": {
     "iopub.execute_input": "2023-03-04T09:30:43.240094Z",
     "iopub.status.busy": "2023-03-04T09:30:43.232784Z",
     "iopub.status.idle": "2023-03-04T09:30:43.607885Z",
     "shell.execute_reply": "2023-03-04T09:30:43.607187Z",
     "shell.execute_reply.started": "2023-03-04T09:30:43.240008Z"
    }
   },
   "outputs": [
    {
     "data": {
      "text/html": [
       "<div>\n",
       "<style scoped>\n",
       "    .dataframe tbody tr th:only-of-type {\n",
       "        vertical-align: middle;\n",
       "    }\n",
       "\n",
       "    .dataframe tbody tr th {\n",
       "        vertical-align: top;\n",
       "    }\n",
       "\n",
       "    .dataframe thead th {\n",
       "        text-align: right;\n",
       "    }\n",
       "</style>\n",
       "<table border=\"1\" class=\"dataframe\">\n",
       "  <thead>\n",
       "    <tr style=\"text-align: right;\">\n",
       "      <th></th>\n",
       "      <th>merkmal</th>\n",
       "      <th>template</th>\n",
       "      <th>collect</th>\n",
       "      <th>plan</th>\n",
       "      <th>sort</th>\n",
       "      <th>is_lex</th>\n",
       "    </tr>\n",
       "  </thead>\n",
       "  <tbody>\n",
       "    <tr>\n",
       "      <th>0</th>\n",
       "      <td>noSteig</td>\n",
       "      <td>kSt.</td>\n",
       "      <td>E</td>\n",
       "      <td>1</td>\n",
       "      <td></td>\n",
       "      <td>False</td>\n",
       "    </tr>\n",
       "    <tr>\n",
       "      <th>12</th>\n",
       "      <td>def</td>\n",
       "      <td>Bedeutungen</td>\n",
       "      <td>L</td>\n",
       "      <td>1</td>\n",
       "      <td></td>\n",
       "      <td>False</td>\n",
       "    </tr>\n",
       "    <tr>\n",
       "      <th>17</th>\n",
       "      <td>klein</td>\n",
       "      <td>Verkleinerungsformen</td>\n",
       "      <td>L</td>\n",
       "      <td>1</td>\n",
       "      <td></td>\n",
       "      <td>True</td>\n",
       "    </tr>\n",
       "    <tr>\n",
       "      <th>102</th>\n",
       "      <td>syllables</td>\n",
       "      <td></td>\n",
       "      <td></td>\n",
       "      <td>3</td>\n",
       "      <td>z1 syllables</td>\n",
       "      <td>False</td>\n",
       "    </tr>\n",
       "  </tbody>\n",
       "</table>\n",
       "</div>"
      ],
      "text/plain": [
       "       merkmal              template collect  plan          sort  is_lex\n",
       "0      noSteig                  kSt.       E     1                 False\n",
       "12         def           Bedeutungen       L     1                 False\n",
       "17       klein  Verkleinerungsformen       L     1                  True\n",
       "102  syllables                                   3  z1 syllables   False"
      ]
     },
     "execution_count": 44,
     "metadata": {},
     "output_type": "execute_result"
    }
   ],
   "source": [
    "# plan_merkmal Steuertabelle\n",
    "try:\n",
    "    del plan_merkmal\n",
    "except:\n",
    "    pass\n",
    "\n",
    "from Steuertabellen.s01_Steuertabellen import *\n",
    "plan_merkmal = plan_merkmal_erstellen()\n",
    "#grid(plan_merkmal)\n",
    "pak.sample(plan_merkmal)"
   ]
  },
  {
   "cell_type": "code",
   "execution_count": 45,
   "metadata": {
    "execution": {
     "iopub.execute_input": "2023-03-04T09:30:43.608799Z",
     "iopub.status.busy": "2023-03-04T09:30:43.608571Z",
     "iopub.status.idle": "2023-03-04T09:30:43.694869Z",
     "shell.execute_reply": "2023-03-04T09:30:43.694119Z",
     "shell.execute_reply.started": "2023-03-04T09:30:43.608779Z"
    }
   },
   "outputs": [
    {
     "data": {
      "text/html": [
       "<div>\n",
       "<style scoped>\n",
       "    .dataframe tbody tr th:only-of-type {\n",
       "        vertical-align: middle;\n",
       "    }\n",
       "\n",
       "    .dataframe tbody tr th {\n",
       "        vertical-align: top;\n",
       "    }\n",
       "\n",
       "    .dataframe thead th {\n",
       "        text-align: right;\n",
       "    }\n",
       "</style>\n",
       "<table border=\"1\" class=\"dataframe\">\n",
       "  <thead>\n",
       "    <tr style=\"text-align: right;\">\n",
       "      <th></th>\n",
       "      <th>quelle</th>\n",
       "      <th>ziel</th>\n",
       "      <th>notiz</th>\n",
       "    </tr>\n",
       "  </thead>\n",
       "  <tbody>\n",
       "    <tr>\n",
       "      <th>0</th>\n",
       "      <td>Konjugierte_Form</td>\n",
       "      <td>LEX_V</td>\n",
       "      <td>Keine Grundform</td>\n",
       "    </tr>\n",
       "    <tr>\n",
       "      <th>76</th>\n",
       "      <td>Präfix</td>\n",
       "      <td>TRUNC</td>\n",
       "      <td>Wortartenlisten</td>\n",
       "    </tr>\n",
       "    <tr>\n",
       "      <th>101</th>\n",
       "      <td>LEX_V LEX_V</td>\n",
       "      <td>LEX_V</td>\n",
       "      <td>Vorrang Durchlauf2</td>\n",
       "    </tr>\n",
       "    <tr>\n",
       "      <th>185</th>\n",
       "      <td>ADJ1 ADJ1</td>\n",
       "      <td>ADJ1</td>\n",
       "      <td>Doppelung1</td>\n",
       "    </tr>\n",
       "    <tr>\n",
       "      <th>212</th>\n",
       "      <td>Vergleichspartikel</td>\n",
       "      <td></td>\n",
       "      <td>löschmich</td>\n",
       "    </tr>\n",
       "  </tbody>\n",
       "</table>\n",
       "</div>"
      ],
      "text/plain": [
       "                 quelle   ziel               notiz\n",
       "0      Konjugierte_Form  LEX_V     Keine Grundform\n",
       "76               Präfix  TRUNC     Wortartenlisten\n",
       "101         LEX_V LEX_V  LEX_V  Vorrang Durchlauf2\n",
       "185           ADJ1 ADJ1   ADJ1          Doppelung1\n",
       "212  Vergleichspartikel                  löschmich"
      ]
     },
     "execution_count": 45,
     "metadata": {},
     "output_type": "execute_result"
    }
   ],
   "source": [
    "# translate_tag: Wortarten >> tags\n",
    "\n",
    "try:\n",
    "    del translate_tag\n",
    "except:\n",
    "    pass\n",
    "\n",
    "from Steuertabellen.s01_Steuertabellen import *\n",
    "#grid(translate_tag)\n",
    "pak.sample(translate_tag)"
   ]
  },
  {
   "cell_type": "code",
   "execution_count": 46,
   "metadata": {
    "execution": {
     "iopub.execute_input": "2023-03-04T09:30:43.701576Z",
     "iopub.status.busy": "2023-03-04T09:30:43.699110Z",
     "iopub.status.idle": "2023-03-04T09:30:43.850608Z",
     "shell.execute_reply": "2023-03-04T09:30:43.849776Z",
     "shell.execute_reply.started": "2023-03-04T09:30:43.701533Z"
    }
   },
   "outputs": [
    {
     "data": {
      "text/html": [
       "<div>\n",
       "<style scoped>\n",
       "    .dataframe tbody tr th:only-of-type {\n",
       "        vertical-align: middle;\n",
       "    }\n",
       "\n",
       "    .dataframe tbody tr th {\n",
       "        vertical-align: top;\n",
       "    }\n",
       "\n",
       "    .dataframe thead th {\n",
       "        text-align: right;\n",
       "    }\n",
       "</style>\n",
       "<table border=\"1\" class=\"dataframe\">\n",
       "  <thead>\n",
       "    <tr style=\"text-align: right;\">\n",
       "      <th></th>\n",
       "      <th>tag</th>\n",
       "      <th>wortart_lang</th>\n",
       "      <th>tagZ</th>\n",
       "      <th>tagZZ</th>\n",
       "      <th>is_mutable</th>\n",
       "      <th>to_lemma</th>\n",
       "    </tr>\n",
       "  </thead>\n",
       "  <tbody>\n",
       "    <tr>\n",
       "      <th>0</th>\n",
       "      <td>AFIX</td>\n",
       "      <td>Präfix</td>\n",
       "      <td>FIX</td>\n",
       "      <td>Z</td>\n",
       "      <td>False</td>\n",
       "      <td>W</td>\n",
       "    </tr>\n",
       "    <tr>\n",
       "      <th>21</th>\n",
       "      <td>VAFIN</td>\n",
       "      <td>Hilfsverb</td>\n",
       "      <td>VER_hilf</td>\n",
       "      <td>V</td>\n",
       "      <td>True</td>\n",
       "      <td>V</td>\n",
       "    </tr>\n",
       "    <tr>\n",
       "      <th>25</th>\n",
       "      <td>PPER</td>\n",
       "      <td>Personalpronomen</td>\n",
       "      <td>PRO</td>\n",
       "      <td>P</td>\n",
       "      <td>True</td>\n",
       "      <td>W</td>\n",
       "    </tr>\n",
       "    <tr>\n",
       "      <th>55</th>\n",
       "      <td>$(</td>\n",
       "      <td>Satzzeichen</td>\n",
       "      <td>SYM</td>\n",
       "      <td>Y</td>\n",
       "      <td>False</td>\n",
       "      <td>W</td>\n",
       "    </tr>\n",
       "    <tr>\n",
       "      <th>63</th>\n",
       "      <td>TODO</td>\n",
       "      <td>(todo!)</td>\n",
       "      <td>X_todo</td>\n",
       "      <td>X</td>\n",
       "      <td>False</td>\n",
       "      <td>W</td>\n",
       "    </tr>\n",
       "  </tbody>\n",
       "</table>\n",
       "</div>"
      ],
      "text/plain": [
       "      tag      wortart_lang      tagZ tagZZ is_mutable to_lemma\n",
       "0    AFIX            Präfix       FIX     Z      False        W\n",
       "21  VAFIN         Hilfsverb  VER_hilf     V       True        V\n",
       "25   PPER  Personalpronomen       PRO     P       True        W\n",
       "55     $(       Satzzeichen       SYM     Y      False        W\n",
       "63   TODO           (todo!)    X_todo     X      False        W"
      ]
     },
     "execution_count": 46,
     "metadata": {},
     "output_type": "execute_result"
    }
   ],
   "source": [
    "# translate_tagZ: tag >> tagZ und tagZZ\n",
    "\n",
    "try:\n",
    "    del translate_tagZ\n",
    "except:\n",
    "    pass\n",
    "\n",
    "from Steuertabellen.s01_Steuertabellen import *\n",
    "#grid(translate_tagZ)\n",
    "pak.sample(translate_tagZ)"
   ]
  },
  {
   "cell_type": "code",
   "execution_count": 47,
   "metadata": {
    "execution": {
     "iopub.execute_input": "2023-03-04T09:30:43.851742Z",
     "iopub.status.busy": "2023-03-04T09:30:43.851480Z",
     "iopub.status.idle": "2023-03-04T09:30:44.216776Z",
     "shell.execute_reply": "2023-03-04T09:30:44.216127Z",
     "shell.execute_reply.started": "2023-03-04T09:30:43.851721Z"
    }
   },
   "outputs": [
    {
     "name": "stdout",
     "output_type": "stream",
     "text": [
      "185 rows loaded\n",
      "Delete 89 rows from 185\n"
     ]
    },
    {
     "data": {
      "text/html": [
       "<div>\n",
       "<style scoped>\n",
       "    .dataframe tbody tr th:only-of-type {\n",
       "        vertical-align: middle;\n",
       "    }\n",
       "\n",
       "    .dataframe tbody tr th {\n",
       "        vertical-align: top;\n",
       "    }\n",
       "\n",
       "    .dataframe thead th {\n",
       "        text-align: right;\n",
       "    }\n",
       "</style>\n",
       "<table border=\"1\" class=\"dataframe\">\n",
       "  <thead>\n",
       "    <tr style=\"text-align: right;\">\n",
       "      <th></th>\n",
       "      <th>level</th>\n",
       "      <th>lemma</th>\n",
       "      <th>lemma_tag_soll</th>\n",
       "      <th>lemma_member_soll</th>\n",
       "      <th>check_tag</th>\n",
       "    </tr>\n",
       "  </thead>\n",
       "  <tbody>\n",
       "    <tr>\n",
       "      <th>0</th>\n",
       "      <td>1</td>\n",
       "      <td>…</td>\n",
       "      <td>$(</td>\n",
       "      <td></td>\n",
       "      <td></td>\n",
       "    </tr>\n",
       "    <tr>\n",
       "      <th>1</th>\n",
       "      <td>1</td>\n",
       "      <td>Ackermann</td>\n",
       "      <td>NE</td>\n",
       "      <td>Person_nachname</td>\n",
       "      <td></td>\n",
       "    </tr>\n",
       "    <tr>\n",
       "      <th>4</th>\n",
       "      <td>1</td>\n",
       "      <td>angucken</td>\n",
       "      <td>VVFIN</td>\n",
       "      <td>manuell</td>\n",
       "      <td></td>\n",
       "    </tr>\n",
       "    <tr>\n",
       "      <th>16</th>\n",
       "      <td>1</td>\n",
       "      <td>Bussi</td>\n",
       "      <td>NN</td>\n",
       "      <td></td>\n",
       "      <td></td>\n",
       "    </tr>\n",
       "    <tr>\n",
       "      <th>82</th>\n",
       "      <td>1</td>\n",
       "      <td>zurecht</td>\n",
       "      <td>PTKVZ</td>\n",
       "      <td></td>\n",
       "      <td></td>\n",
       "    </tr>\n",
       "  </tbody>\n",
       "</table>\n",
       "</div>"
      ],
      "text/plain": [
       "    level      lemma lemma_tag_soll lemma_member_soll check_tag\n",
       "0       1          …             $(                            \n",
       "1       1  Ackermann             NE   Person_nachname          \n",
       "4       1   angucken          VVFIN           manuell          \n",
       "16      1      Bussi             NN                            \n",
       "82      1    zurecht          PTKVZ                            "
      ]
     },
     "execution_count": 47,
     "metadata": {},
     "output_type": "execute_result"
    }
   ],
   "source": [
    "# lex_test, lemma_test\n",
    "lex_test, lemma_test = lade_lex_text( lex_test_filename, level=1)\n",
    "#grid(lemma_test)\n",
    "pak.sample(lemma_test)"
   ]
  },
  {
   "cell_type": "markdown",
   "metadata": {},
   "source": [
    "## Löschliste\n",
    "* Excel-Datei aufbereiten\n",
    "* wiktionary belöschen\n",
    "* wiktionary_merkmal belöschen\n",
    "* Falls löschliste und lexeme_manuell in Konflikt stehen, siegt lexeme_manuell. Es wird erst gelöscht und dann manuell ergänzt."
   ]
  },
  {
   "cell_type": "code",
   "execution_count": 48,
   "metadata": {
    "execution": {
     "iopub.execute_input": "2023-03-04T09:30:44.218228Z",
     "iopub.status.busy": "2023-03-04T09:30:44.217970Z",
     "iopub.status.idle": "2023-03-04T09:30:44.377241Z",
     "shell.execute_reply": "2023-03-04T09:30:44.376502Z",
     "shell.execute_reply.started": "2023-03-04T09:30:44.218207Z"
    },
    "tags": []
   },
   "outputs": [
    {
     "name": "stdout",
     "output_type": "stream",
     "text": [
      "607 rows loaded\n"
     ]
    }
   ],
   "source": [
    "# Laden\n",
    "löschliste = pak.load_excel( löschliste_filename )"
   ]
  },
  {
   "cell_type": "code",
   "execution_count": 49,
   "metadata": {
    "execution": {
     "iopub.execute_input": "2023-03-04T09:30:44.383934Z",
     "iopub.status.busy": "2023-03-04T09:30:44.383330Z",
     "iopub.status.idle": "2023-03-04T09:30:44.437266Z",
     "shell.execute_reply": "2023-03-04T09:30:44.436353Z",
     "shell.execute_reply.started": "2023-03-04T09:30:44.383906Z"
    },
    "tags": []
   },
   "outputs": [
    {
     "name": "stdout",
     "output_type": "stream",
     "text": [
      "check_mask:  0 rows\n",
      "\u001b[1m\u001b[7m\u001b[32mNo rows, mask filters them all away\u001b[0m\n"
     ]
    }
   ],
   "source": [
    "# Format prüfen\n",
    "löschliste['check'] = löschliste.isnull().sum(axis=1)\n",
    "mask = löschliste.check != 3\n",
    "error = check_mask(löschliste,mask,0, stop=False)\n",
    "grid(löschliste,mask, color='green')"
   ]
  },
  {
   "cell_type": "code",
   "execution_count": 50,
   "metadata": {
    "execution": {
     "iopub.execute_input": "2023-03-04T09:30:44.443506Z",
     "iopub.status.busy": "2023-03-04T09:30:44.442238Z",
     "iopub.status.idle": "2023-03-04T09:30:44.489581Z",
     "shell.execute_reply": "2023-03-04T09:30:44.488358Z",
     "shell.execute_reply.started": "2023-03-04T09:30:44.443470Z"
    },
    "tags": []
   },
   "outputs": [],
   "source": [
    "löschliste = pak.drop_cols(löschliste,'check')\n",
    "bpy.raise_if(error)"
   ]
  },
  {
   "cell_type": "code",
   "execution_count": 51,
   "metadata": {
    "execution": {
     "iopub.execute_input": "2023-03-04T09:30:44.492748Z",
     "iopub.status.busy": "2023-03-04T09:30:44.490717Z",
     "iopub.status.idle": "2023-03-04T09:30:44.566593Z",
     "shell.execute_reply": "2023-03-04T09:30:44.565769Z",
     "shell.execute_reply.started": "2023-03-04T09:30:44.492707Z"
    }
   },
   "outputs": [],
   "source": [
    "# Einzelne löschlisten\n",
    "\n",
    "mask = löschliste.section_id2.notnull()\n",
    "löschliste_section_id2 = list(löschliste[mask].drop_duplicates().section_id2)\n",
    "\n",
    "mask = löschliste.lemma.notnull()\n",
    "löschliste_lemma = list(löschliste[mask].drop_duplicates().lemma)\n",
    "\n",
    "mask = löschliste.lex.notnull()\n",
    "löschliste_lex = list(löschliste[mask].drop_duplicates().lex)\n",
    "löschliste_lex += löschliste_lemma\n",
    "\n",
    "mask = löschliste.data.notnull()\n",
    "löschliste_data = list(löschliste[mask].drop_duplicates().data)"
   ]
  },
  {
   "cell_type": "code",
   "execution_count": 52,
   "metadata": {
    "execution": {
     "iopub.execute_input": "2023-03-04T09:30:44.567951Z",
     "iopub.status.busy": "2023-03-04T09:30:44.567691Z",
     "iopub.status.idle": "2023-03-04T09:30:44.627146Z",
     "shell.execute_reply": "2023-03-04T09:30:44.626427Z",
     "shell.execute_reply.started": "2023-03-04T09:30:44.567930Z"
    },
    "tags": []
   },
   "outputs": [
    {
     "data": {
      "text/html": [
       "<div>\n",
       "<style scoped>\n",
       "    .dataframe tbody tr th:only-of-type {\n",
       "        vertical-align: middle;\n",
       "    }\n",
       "\n",
       "    .dataframe tbody tr th {\n",
       "        vertical-align: top;\n",
       "    }\n",
       "\n",
       "    .dataframe thead th {\n",
       "        text-align: right;\n",
       "    }\n",
       "</style>\n",
       "<table border=\"1\" class=\"dataframe\">\n",
       "  <thead>\n",
       "    <tr style=\"text-align: right;\">\n",
       "      <th></th>\n",
       "      <th>lex</th>\n",
       "      <th>lemma</th>\n",
       "      <th>section_id2</th>\n",
       "      <th>data</th>\n",
       "    </tr>\n",
       "  </thead>\n",
       "  <tbody>\n",
       "    <tr>\n",
       "      <th>0</th>\n",
       "      <td>g'rad</td>\n",
       "      <td>&lt;NA&gt;</td>\n",
       "      <td>&lt;NA&gt;</td>\n",
       "      <td>&lt;NA&gt;</td>\n",
       "    </tr>\n",
       "    <tr>\n",
       "      <th>1</th>\n",
       "      <td>hapax legomenon</td>\n",
       "      <td>&lt;NA&gt;</td>\n",
       "      <td>&lt;NA&gt;</td>\n",
       "      <td>&lt;NA&gt;</td>\n",
       "    </tr>\n",
       "    <tr>\n",
       "      <th>2</th>\n",
       "      <td>Hapaxlegomenon</td>\n",
       "      <td>&lt;NA&gt;</td>\n",
       "      <td>&lt;NA&gt;</td>\n",
       "      <td>&lt;NA&gt;</td>\n",
       "    </tr>\n",
       "    <tr>\n",
       "      <th>3</th>\n",
       "      <td>Jacob Ruff</td>\n",
       "      <td>&lt;NA&gt;</td>\n",
       "      <td>&lt;NA&gt;</td>\n",
       "      <td>&lt;NA&gt;</td>\n",
       "    </tr>\n",
       "    <tr>\n",
       "      <th>4</th>\n",
       "      <td>SARS CoV 2 AMVV</td>\n",
       "      <td>&lt;NA&gt;</td>\n",
       "      <td>&lt;NA&gt;</td>\n",
       "      <td>&lt;NA&gt;</td>\n",
       "    </tr>\n",
       "    <tr>\n",
       "      <th>...</th>\n",
       "      <td>...</td>\n",
       "      <td>...</td>\n",
       "      <td>...</td>\n",
       "      <td>...</td>\n",
       "    </tr>\n",
       "    <tr>\n",
       "      <th>602</th>\n",
       "      <td>&lt;NA&gt;</td>\n",
       "      <td>&lt;NA&gt;</td>\n",
       "      <td>&lt;NA&gt;</td>\n",
       "      <td>endbetonte Form</td>\n",
       "    </tr>\n",
       "    <tr>\n",
       "      <th>603</th>\n",
       "      <td>&lt;NA&gt;</td>\n",
       "      <td>&lt;NA&gt;</td>\n",
       "      <td>&lt;NA&gt;</td>\n",
       "      <td>Laut Online-Duden kann es auch ein weiblicher (Berg-)Steiger sein.</td>\n",
       "    </tr>\n",
       "    <tr>\n",
       "      <th>604</th>\n",
       "      <td>&lt;NA&gt;</td>\n",
       "      <td>&lt;NA&gt;</td>\n",
       "      <td>&lt;NA&gt;</td>\n",
       "      <td>Plural der maskulinen Form</td>\n",
       "    </tr>\n",
       "    <tr>\n",
       "      <th>605</th>\n",
       "      <td>&lt;NA&gt;</td>\n",
       "      <td>&lt;NA&gt;</td>\n",
       "      <td>&lt;NA&gt;</td>\n",
       "      <td>homm</td>\n",
       "    </tr>\n",
       "    <tr>\n",
       "      <th>606</th>\n",
       "      <td>&lt;NA&gt;</td>\n",
       "      <td>&lt;NA&gt;</td>\n",
       "      <td>&lt;NA&gt;</td>\n",
       "      <td>Alter,</td>\n",
       "    </tr>\n",
       "  </tbody>\n",
       "</table>\n",
       "<p>607 rows × 4 columns</p>\n",
       "</div>"
      ],
      "text/plain": [
       "                 lex lemma section_id2  \\\n",
       "0              g'rad  <NA>        <NA>   \n",
       "1    hapax legomenon  <NA>        <NA>   \n",
       "2     Hapaxlegomenon  <NA>        <NA>   \n",
       "3         Jacob Ruff  <NA>        <NA>   \n",
       "4    SARS CoV 2 AMVV  <NA>        <NA>   \n",
       "..               ...   ...         ...   \n",
       "602             <NA>  <NA>        <NA>   \n",
       "603             <NA>  <NA>        <NA>   \n",
       "604             <NA>  <NA>        <NA>   \n",
       "605             <NA>  <NA>        <NA>   \n",
       "606             <NA>  <NA>        <NA>   \n",
       "\n",
       "                                                                   data  \n",
       "0                                                                  <NA>  \n",
       "1                                                                  <NA>  \n",
       "2                                                                  <NA>  \n",
       "3                                                                  <NA>  \n",
       "4                                                                  <NA>  \n",
       "..                                                                  ...  \n",
       "602                                                     endbetonte Form  \n",
       "603  Laut Online-Duden kann es auch ein weiblicher (Berg-)Steiger sein.  \n",
       "604                                          Plural der maskulinen Form  \n",
       "605                                                                homm  \n",
       "606                                                              Alter,  \n",
       "\n",
       "[607 rows x 4 columns]"
      ]
     },
     "execution_count": 52,
     "metadata": {},
     "output_type": "execute_result"
    }
   ],
   "source": [
    "löschliste"
   ]
  },
  {
   "cell_type": "code",
   "execution_count": 53,
   "metadata": {
    "execution": {
     "iopub.execute_input": "2023-03-04T09:30:44.631167Z",
     "iopub.status.busy": "2023-03-04T09:30:44.630770Z",
     "iopub.status.idle": "2023-03-04T09:30:44.951020Z",
     "shell.execute_reply": "2023-03-04T09:30:44.950333Z",
     "shell.execute_reply.started": "2023-03-04T09:30:44.631141Z"
    }
   },
   "outputs": [],
   "source": [
    "# löschliste_lemma nach löschliste_section_id2 übertragen\n",
    "mask1 =  wiktionary.title.isin(löschliste_lemma)   &   (wiktionary.title == wiktionary.lemma)\n",
    "mask2 = ~wiktionary.section_id2.isin(löschliste_section_id2)\n",
    "mask = mask1  &  mask2\n",
    "#wiktionary[mask]\n",
    "löschliste_section_id2 += list(wiktionary[mask].section_id2)"
   ]
  },
  {
   "cell_type": "code",
   "execution_count": 54,
   "metadata": {
    "execution": {
     "iopub.execute_input": "2023-03-04T09:30:44.954524Z",
     "iopub.status.busy": "2023-03-04T09:30:44.954205Z",
     "iopub.status.idle": "2023-03-04T09:30:45.937802Z",
     "shell.execute_reply": "2023-03-04T09:30:45.937113Z",
     "shell.execute_reply.started": "2023-03-04T09:30:44.954499Z"
    }
   },
   "outputs": [
    {
     "name": "stdout",
     "output_type": "stream",
     "text": [
      "Move 504 rows from 837593\n"
     ]
    }
   ],
   "source": [
    "# wiktionary belöschen nach section_id2\n",
    "mask = wiktionary.section_id2.isin(löschliste_section_id2)   \n",
    "wiktionary, wiktionary_trash = pak.move_rows( df_from=wiktionary, df_to=wiktionary_trash, mask=mask, msg='löschliste_section_id2' )       # Löschen"
   ]
  },
  {
   "cell_type": "code",
   "execution_count": 55,
   "metadata": {
    "execution": {
     "iopub.execute_input": "2023-03-04T09:30:45.938936Z",
     "iopub.status.busy": "2023-03-04T09:30:45.938637Z",
     "iopub.status.idle": "2023-03-04T09:30:46.778766Z",
     "shell.execute_reply": "2023-03-04T09:30:46.778109Z",
     "shell.execute_reply.started": "2023-03-04T09:30:45.938914Z"
    }
   },
   "outputs": [
    {
     "name": "stdout",
     "output_type": "stream",
     "text": [
      "Move 51 rows from 837089\n"
     ]
    }
   ],
   "source": [
    "# wiktionary belöschen nach lex\n",
    "mask = wiktionary.title.isin(löschliste_lex)   \n",
    "wiktionary, wiktionary_trash = pak.move_rows( df_from=wiktionary, df_to=wiktionary_trash, mask=mask, msg='löschliste_lex' )       # Löschen"
   ]
  },
  {
   "cell_type": "code",
   "execution_count": 56,
   "metadata": {
    "execution": {
     "iopub.execute_input": "2023-03-04T09:30:46.779881Z",
     "iopub.status.busy": "2023-03-04T09:30:46.779620Z",
     "iopub.status.idle": "2023-03-04T09:30:48.868178Z",
     "shell.execute_reply": "2023-03-04T09:30:48.867495Z",
     "shell.execute_reply.started": "2023-03-04T09:30:46.779860Z"
    }
   },
   "outputs": [
    {
     "name": "stdout",
     "output_type": "stream",
     "text": [
      "Move 11008 rows from 3268495\n",
      "13 rows out of 11008\n"
     ]
    },
    {
     "data": {
      "text/html": [
       "<div>\n",
       "<style scoped>\n",
       "    .dataframe tbody tr th:only-of-type {\n",
       "        vertical-align: middle;\n",
       "    }\n",
       "\n",
       "    .dataframe tbody tr th {\n",
       "        vertical-align: top;\n",
       "    }\n",
       "\n",
       "    .dataframe thead th {\n",
       "        text-align: right;\n",
       "    }\n",
       "</style>\n",
       "<table border=\"1\" class=\"dataframe\">\n",
       "  <thead>\n",
       "    <tr style=\"text-align: right;\">\n",
       "      <th></th>\n",
       "      <th>section_id2</th>\n",
       "      <th>merkmal</th>\n",
       "      <th>node_debug</th>\n",
       "      <th>node_kontext</th>\n",
       "      <th>data</th>\n",
       "      <th>num</th>\n",
       "      <th>meta</th>\n",
       "      <th>msg</th>\n",
       "    </tr>\n",
       "  </thead>\n",
       "  <tbody>\n",
       "    <tr>\n",
       "      <th>446</th>\n",
       "      <td>April_1</td>\n",
       "      <td>istName</td>\n",
       "      <td>&lt;NA&gt;</td>\n",
       "      <td>&lt;NA&gt;</td>\n",
       "      <td>exists</td>\n",
       "      <td></td>\n",
       "      <td>&lt;NA&gt;</td>\n",
       "      <td>löschliste_section_id2</td>\n",
       "    </tr>\n",
       "    <tr>\n",
       "      <th>5236</th>\n",
       "      <td>Mutter_2</td>\n",
       "      <td>übersicht</td>\n",
       "      <td>Deutsch Substantiv Übersicht</td>\n",
       "      <td>Nominativ Plural</td>\n",
       "      <td>—</td>\n",
       "      <td></td>\n",
       "      <td>&lt;NA&gt;</td>\n",
       "      <td>löschliste_section_id2</td>\n",
       "    </tr>\n",
       "    <tr>\n",
       "      <th>5962</th>\n",
       "      <td>Boot_1</td>\n",
       "      <td>herkunft</td>\n",
       "      <td></td>\n",
       "      <td>Ü</td>\n",
       "      <td>boot</td>\n",
       "      <td></td>\n",
       "      <td></td>\n",
       "      <td>löschliste_section_id2</td>\n",
       "    </tr>\n",
       "    <tr>\n",
       "      <th>81347</th>\n",
       "      <td>spulgen</td>\n",
       "      <td>übersicht</td>\n",
       "      <td>Deutsch Verb Übersicht</td>\n",
       "      <td>Präteritum_ich</td>\n",
       "      <td></td>\n",
       "      <td></td>\n",
       "      <td>&lt;NA&gt;</td>\n",
       "      <td>löschliste_section_id2</td>\n",
       "    </tr>\n",
       "    <tr>\n",
       "      <th>344673</th>\n",
       "      <td>ABl.EG</td>\n",
       "      <td>def</td>\n",
       "      <td></td>\n",
       "      <td></td>\n",
       "      <td>Amtsblatt der Europäischen Gemeinschaft</td>\n",
       "      <td>1</td>\n",
       "      <td></td>\n",
       "      <td>löschliste_section_id2</td>\n",
       "    </tr>\n",
       "    <tr>\n",
       "      <th>479758</th>\n",
       "      <td>daselbst</td>\n",
       "      <td>abk</td>\n",
       "      <td></td>\n",
       "      <td></td>\n",
       "      <td>das</td>\n",
       "      <td>1</td>\n",
       "      <td></td>\n",
       "      <td>löschliste_section_id2</td>\n",
       "    </tr>\n",
       "    <tr>\n",
       "      <th>670864</th>\n",
       "      <td>γ-Aminobuttersäure</td>\n",
       "      <td>übersicht</td>\n",
       "      <td>Deutsch Substantiv Übersicht</td>\n",
       "      <td>Genus</td>\n",
       "      <td>f</td>\n",
       "      <td></td>\n",
       "      <td>&lt;NA&gt;</td>\n",
       "      <td>löschliste_section_id2</td>\n",
       "    </tr>\n",
       "    <tr>\n",
       "      <th>737003</th>\n",
       "      <td>fettarme_Milch</td>\n",
       "      <td>übersicht</td>\n",
       "      <td>Deutsch adjektivisch Übersicht</td>\n",
       "      <td>Nominativ Plural stark</td>\n",
       "      <td>——</td>\n",
       "      <td></td>\n",
       "      <td>&lt;NA&gt;</td>\n",
       "      <td>löschliste_section_id2</td>\n",
       "    </tr>\n",
       "    <tr>\n",
       "      <th>790210</th>\n",
       "      <td>grammatisches_Wort</td>\n",
       "      <td>übersicht</td>\n",
       "      <td>Deutsch adjektivisch Übersicht</td>\n",
       "      <td>Genus</td>\n",
       "      <td>n</td>\n",
       "      <td></td>\n",
       "      <td>&lt;NA&gt;</td>\n",
       "      <td>löschliste_section_id2</td>\n",
       "    </tr>\n",
       "    <tr>\n",
       "      <th>1233898</th>\n",
       "      <td>geheien</td>\n",
       "      <td>def</td>\n",
       "      <td></td>\n",
       "      <td></td>\n",
       "      <td>werfen</td>\n",
       "      <td>5</td>\n",
       "      <td>alemannisch</td>\n",
       "      <td>löschliste_section_id2</td>\n",
       "    </tr>\n",
       "    <tr>\n",
       "      <th>4856329</th>\n",
       "      <td>geder</td>\n",
       "      <td>übersicht</td>\n",
       "      <td>Pronomina-Tabelle</td>\n",
       "      <td>Nominativ Singular m</td>\n",
       "      <td>geder</td>\n",
       "      <td></td>\n",
       "      <td>&lt;NA&gt;</td>\n",
       "      <td>löschliste_section_id2</td>\n",
       "    </tr>\n",
       "    <tr>\n",
       "      <th>4975798</th>\n",
       "      <td>inzendieren</td>\n",
       "      <td>def</td>\n",
       "      <td></td>\n",
       "      <td></td>\n",
       "      <td>erregen</td>\n",
       "      <td>2</td>\n",
       "      <td>übertragen</td>\n",
       "      <td>löschliste_section_id2</td>\n",
       "    </tr>\n",
       "    <tr>\n",
       "      <th>5110276</th>\n",
       "      <td>Norddeutscher_Postbezirk</td>\n",
       "      <td>up</td>\n",
       "      <td></td>\n",
       "      <td></td>\n",
       "      <td>Post</td>\n",
       "      <td>1</td>\n",
       "      <td></td>\n",
       "      <td>löschliste_section_id2</td>\n",
       "    </tr>\n",
       "  </tbody>\n",
       "</table>\n",
       "</div>"
      ],
      "text/plain": [
       "                      section_id2    merkmal                       node_debug  \\\n",
       "446                       April_1    istName                             <NA>   \n",
       "5236                     Mutter_2  übersicht    Deutsch Substantiv Übersicht\n",
       "   \n",
       "5962                       Boot_1   herkunft                                    \n",
       "81347                     spulgen  übersicht          Deutsch Verb Übersicht\n",
       "   \n",
       "344673                     ABl.EG        def                                    \n",
       "479758                   daselbst        abk                                    \n",
       "670864         γ-Aminobuttersäure  übersicht    Deutsch Substantiv Übersicht\n",
       "   \n",
       "737003             fettarme_Milch  übersicht  Deutsch adjektivisch Übersicht\n",
       "   \n",
       "790210         grammatisches_Wort  übersicht  Deutsch adjektivisch Übersicht\n",
       "   \n",
       "1233898                   geheien        def                                    \n",
       "4856329                     geder  übersicht               Pronomina-Tabelle\n",
       "   \n",
       "4975798               inzendieren        def                                    \n",
       "5110276  Norddeutscher_Postbezirk         up                                    \n",
       "\n",
       "                   node_kontext                                     data num  \\\n",
       "446                        <NA>                                   exists       \n",
       "5236           Nominativ Plural                                        —       \n",
       "5962                          Ü                                     boot       \n",
       "81347            Präteritum_ich                                                \n",
       "344673                           Amtsblatt der Europäischen Gemeinschaft   1   \n",
       "479758                                                               das   1   \n",
       "670864                    Genus                                        f       \n",
       "737003   Nominativ Plural stark                                       ——       \n",
       "790210                    Genus                                        n       \n",
       "1233898                                                           werfen   5   \n",
       "4856329    Nominativ Singular m                                    geder       \n",
       "4975798                                                          erregen   2   \n",
       "5110276                                                             Post   1   \n",
       "\n",
       "                meta                     msg  \n",
       "446             <NA>  löschliste_section_id2  \n",
       "5236            <NA>  löschliste_section_id2  \n",
       "5962                  löschliste_section_id2  \n",
       "81347           <NA>  löschliste_section_id2  \n",
       "344673                löschliste_section_id2  \n",
       "479758                löschliste_section_id2  \n",
       "670864          <NA>  löschliste_section_id2  \n",
       "737003          <NA>  löschliste_section_id2  \n",
       "790210          <NA>  löschliste_section_id2  \n",
       "1233898  alemannisch  löschliste_section_id2  \n",
       "4856329         <NA>  löschliste_section_id2  \n",
       "4975798   übertragen  löschliste_section_id2  \n",
       "5110276               löschliste_section_id2  "
      ]
     },
     "execution_count": 56,
     "metadata": {},
     "output_type": "execute_result"
    }
   ],
   "source": [
    "# wiktionary_merkmal belöschen nach section_id2\n",
    "mask = wiktionary_merkmal.section_id2.isin(löschliste_section_id2) \n",
    "wiktionary_merkmal, wiktionary_merkmal_trash = pak.move_rows(df_from=wiktionary_merkmal, df_to=wiktionary_merkmal_trash, mask=mask, msg='löschliste_section_id2')\n",
    "\n",
    "mask = wiktionary_merkmal_trash.msg == 'löschliste_section_id2'\n",
    "grid(wiktionary_merkmal_trash[mask],pak.sample)"
   ]
  },
  {
   "cell_type": "code",
   "execution_count": 57,
   "metadata": {
    "execution": {
     "iopub.execute_input": "2023-03-04T09:30:48.871975Z",
     "iopub.status.busy": "2023-03-04T09:30:48.871616Z",
     "iopub.status.idle": "2023-03-04T09:30:50.900607Z",
     "shell.execute_reply": "2023-03-04T09:30:50.897255Z",
     "shell.execute_reply.started": "2023-03-04T09:30:48.871952Z"
    }
   },
   "outputs": [
    {
     "name": "stdout",
     "output_type": "stream",
     "text": [
      "Move 2882 rows from 3257487\n",
      "13 rows out of 2882\n"
     ]
    },
    {
     "data": {
      "text/html": [
       "<div>\n",
       "<style scoped>\n",
       "    .dataframe tbody tr th:only-of-type {\n",
       "        vertical-align: middle;\n",
       "    }\n",
       "\n",
       "    .dataframe tbody tr th {\n",
       "        vertical-align: top;\n",
       "    }\n",
       "\n",
       "    .dataframe thead th {\n",
       "        text-align: right;\n",
       "    }\n",
       "</style>\n",
       "<table border=\"1\" class=\"dataframe\">\n",
       "  <thead>\n",
       "    <tr style=\"text-align: right;\">\n",
       "      <th></th>\n",
       "      <th>section_id2</th>\n",
       "      <th>merkmal</th>\n",
       "      <th>node_debug</th>\n",
       "      <th>node_kontext</th>\n",
       "      <th>data</th>\n",
       "      <th>num</th>\n",
       "      <th>meta</th>\n",
       "      <th>msg</th>\n",
       "    </tr>\n",
       "  </thead>\n",
       "  <tbody>\n",
       "    <tr>\n",
       "      <th>1950</th>\n",
       "      <td>sein</td>\n",
       "      <td>alt</td>\n",
       "      <td></td>\n",
       "      <td></td>\n",
       "      <td>Sebastian Brant</td>\n",
       "      <td></td>\n",
       "      <td></td>\n",
       "      <td>löschliste_lex</td>\n",
       "    </tr>\n",
       "    <tr>\n",
       "      <th>49302</th>\n",
       "      <td>Geld</td>\n",
       "      <td>herkunft</td>\n",
       "      <td></td>\n",
       "      <td>Ü</td>\n",
       "      <td>gelt</td>\n",
       "      <td></td>\n",
       "      <td></td>\n",
       "      <td>löschliste_lex</td>\n",
       "    </tr>\n",
       "    <tr>\n",
       "      <th>50817</th>\n",
       "      <td>Kreuzer</td>\n",
       "      <td>abk</td>\n",
       "      <td></td>\n",
       "      <td></td>\n",
       "      <td>Xer</td>\n",
       "      <td>2</td>\n",
       "      <td></td>\n",
       "      <td>löschliste_lex</td>\n",
       "    </tr>\n",
       "    <tr>\n",
       "      <th>177755</th>\n",
       "      <td>Morphem</td>\n",
       "      <td>def</td>\n",
       "      <td></td>\n",
       "      <td></td>\n",
       "      <td>grammatisches Morphem</td>\n",
       "      <td>2</td>\n",
       "      <td>der</td>\n",
       "      <td>löschliste_lex</td>\n",
       "    </tr>\n",
       "    <tr>\n",
       "      <th>311374</th>\n",
       "      <td>fladern_1</td>\n",
       "      <td>übersicht</td>\n",
       "      <td>Deutsch Verb Übersicht</td>\n",
       "      <td>Partizip II</td>\n",
       "      <td>gefladerd</td>\n",
       "      <td></td>\n",
       "      <td>&lt;NA&gt;</td>\n",
       "      <td>löschliste_lex</td>\n",
       "    </tr>\n",
       "    <tr>\n",
       "      <th>534518</th>\n",
       "      <td>absolut</td>\n",
       "      <td>kombi</td>\n",
       "      <td></td>\n",
       "      <td></td>\n",
       "      <td>absolute Dichtung</td>\n",
       "      <td>9</td>\n",
       "      <td></td>\n",
       "      <td>löschliste_lex</td>\n",
       "    </tr>\n",
       "    <tr>\n",
       "      <th>633262</th>\n",
       "      <td>Piperidinsäure</td>\n",
       "      <td>def</td>\n",
       "      <td></td>\n",
       "      <td></td>\n",
       "      <td>γ-Aminobuttersäure</td>\n",
       "      <td>1</td>\n",
       "      <td>Chemie</td>\n",
       "      <td>löschliste_lex</td>\n",
       "    </tr>\n",
       "    <tr>\n",
       "      <th>1216474</th>\n",
       "      <td>-loge</td>\n",
       "      <td>def</td>\n",
       "      <td></td>\n",
       "      <td></td>\n",
       "      <td>gebundenes Lexem</td>\n",
       "      <td>1</td>\n",
       "      <td></td>\n",
       "      <td>löschliste_lex</td>\n",
       "    </tr>\n",
       "    <tr>\n",
       "      <th>1432136</th>\n",
       "      <td>β-Ketobuttersäuren</td>\n",
       "      <td>gm</td>\n",
       "      <td></td>\n",
       "      <td></td>\n",
       "      <td>β-Ketobuttersäure</td>\n",
       "      <td></td>\n",
       "      <td></td>\n",
       "      <td>löschliste_lex</td>\n",
       "    </tr>\n",
       "    <tr>\n",
       "      <th>2196656</th>\n",
       "      <td>rußen</td>\n",
       "      <td>alt_1</td>\n",
       "      <td></td>\n",
       "      <td></td>\n",
       "      <td>russen</td>\n",
       "      <td></td>\n",
       "      <td>Österreich</td>\n",
       "      <td>löschliste_lex</td>\n",
       "    </tr>\n",
       "    <tr>\n",
       "      <th>3699533</th>\n",
       "      <td>ALARA</td>\n",
       "      <td>gegen</td>\n",
       "      <td></td>\n",
       "      <td></td>\n",
       "      <td>ALARP</td>\n",
       "      <td>1</td>\n",
       "      <td></td>\n",
       "      <td>löschliste_lex</td>\n",
       "    </tr>\n",
       "    <tr>\n",
       "      <th>4388348</th>\n",
       "      <td>viraler_Vektor</td>\n",
       "      <td>übersicht</td>\n",
       "      <td>Deutsch adjektivisch Übersicht</td>\n",
       "      <td>Nominativ Singular schwach</td>\n",
       "      <td>virale Vektor</td>\n",
       "      <td></td>\n",
       "      <td>&lt;NA&gt;</td>\n",
       "      <td>löschliste_lex</td>\n",
       "    </tr>\n",
       "    <tr>\n",
       "      <th>5121305</th>\n",
       "      <td>definit</td>\n",
       "      <td>kombi</td>\n",
       "      <td></td>\n",
       "      <td></td>\n",
       "      <td>persönliches Fürwort</td>\n",
       "      <td>1</td>\n",
       "      <td></td>\n",
       "      <td>löschliste_lex</td>\n",
       "    </tr>\n",
       "  </tbody>\n",
       "</table>\n",
       "</div>"
      ],
      "text/plain": [
       "                section_id2    merkmal                       node_debug  \\\n",
       "1950                   sein        alt                                    \n",
       "49302                  Geld   herkunft                                    \n",
       "50817               Kreuzer        abk                                    \n",
       "177755              Morphem        def                                    \n",
       "311374            fladern_1  übersicht          Deutsch Verb Übersicht\n",
       "   \n",
       "534518              absolut      kombi                                    \n",
       "633262       Piperidinsäure        def                                    \n",
       "1216474               -loge        def                                    \n",
       "1432136  β-Ketobuttersäuren         gm                                    \n",
       "2196656               rußen      alt_1                                    \n",
       "3699533               ALARA      gegen                                    \n",
       "4388348      viraler_Vektor  übersicht  Deutsch adjektivisch Übersicht\n",
       "   \n",
       "5121305             definit      kombi                                    \n",
       "\n",
       "                       node_kontext                   data num        meta  \\\n",
       "1950                                       Sebastian Brant                   \n",
       "49302                             Ü                   gelt                   \n",
       "50817                                                  Xer   2               \n",
       "177755                               grammatisches Morphem   2         der   \n",
       "311374                  Partizip II              gefladerd            <NA>   \n",
       "534518                                   absolute Dichtung   9               \n",
       "633262                                  γ-Aminobuttersäure   1      Chemie   \n",
       "1216474                                   gebundenes Lexem   1               \n",
       "1432136                                  β-Ketobuttersäure                   \n",
       "2196656                                             russen      Österreich   \n",
       "3699533                                              ALARP   1               \n",
       "4388348  Nominativ Singular schwach          virale Vektor            <NA>   \n",
       "5121305                               persönliches Fürwort   1               \n",
       "\n",
       "                    msg  \n",
       "1950     löschliste_lex  \n",
       "49302    löschliste_lex  \n",
       "50817    löschliste_lex  \n",
       "177755   löschliste_lex  \n",
       "311374   löschliste_lex  \n",
       "534518   löschliste_lex  \n",
       "633262   löschliste_lex  \n",
       "1216474  löschliste_lex  \n",
       "1432136  löschliste_lex  \n",
       "2196656  löschliste_lex  \n",
       "3699533  löschliste_lex  \n",
       "4388348  löschliste_lex  \n",
       "5121305  löschliste_lex  "
      ]
     },
     "execution_count": 57,
     "metadata": {},
     "output_type": "execute_result"
    }
   ],
   "source": [
    "# wiktionary_merkmal belöschen nach lex\n",
    "mask = wiktionary_merkmal.data.isin(löschliste_lex) \n",
    "wiktionary_merkmal, wiktionary_merkmal_trash = pak.move_rows(df_from=wiktionary_merkmal, df_to=wiktionary_merkmal_trash, mask=mask, msg='löschliste_lex')\n",
    "\n",
    "mask = wiktionary_merkmal_trash.msg == 'löschliste_lex'\n",
    "grid(wiktionary_merkmal_trash[mask], pak.sample)"
   ]
  },
  {
   "cell_type": "code",
   "execution_count": 58,
   "metadata": {
    "execution": {
     "iopub.execute_input": "2023-03-04T09:30:50.901714Z",
     "iopub.status.busy": "2023-03-04T09:30:50.901480Z",
     "iopub.status.idle": "2023-03-04T09:30:50.942507Z",
     "shell.execute_reply": "2023-03-04T09:30:50.941780Z",
     "shell.execute_reply.started": "2023-03-04T09:30:50.901694Z"
    }
   },
   "outputs": [],
   "source": [
    "# aufräumen\n",
    "del löschliste_lemma\n",
    "del löschliste"
   ]
  },
  {
   "cell_type": "markdown",
   "metadata": {},
   "source": [
    "## tag und member\n",
    "* Aus dem Feld pos entstehen die Felder tag (standardisiert) und member (vollständig)"
   ]
  },
  {
   "cell_type": "code",
   "execution_count": 59,
   "metadata": {
    "execution": {
     "iopub.execute_input": "2023-03-04T09:30:50.943526Z",
     "iopub.status.busy": "2023-03-04T09:30:50.943289Z",
     "iopub.status.idle": "2023-03-04T09:30:56.882628Z",
     "shell.execute_reply": "2023-03-04T09:30:56.881911Z",
     "shell.execute_reply.started": "2023-03-04T09:30:50.943504Z"
    }
   },
   "outputs": [],
   "source": [
    "# Kaputte Datenstruktur in str wandeln\n",
    "wiktionary['tag'] = wiktionary.pos.apply( lambda x: str(x) )\n",
    "wiktionary = pak.move_cols(wiktionary,'tag','pos')\n",
    "\n",
    "# translate\n",
    "translate_chars = str.maketrans(\"{}'[]:\", \"     ,\")\n",
    "wiktionary.tag = wiktionary.tag.str.translate(translate_chars)\n",
    "\n",
    "# Liste ohne Dups draus machen\n",
    "wiktionary.tag = wiktionary.tag.str.split(\",\")\n",
    "wiktionary.tag = wiktionary.tag.apply( lambda x: list(set(x)) )\n",
    "\n",
    "# Strings pflegen\n",
    "wiktionary.tag = wiktionary.tag.apply( lambda x: [ e.strip().replace(' ','_')  for e in x ] )\n",
    "\n",
    "# Leere Strings entfernen\n",
    "wiktionary.tag = wiktionary.tag.apply( lambda x: [ e for e in x  if e != ''] )"
   ]
  },
  {
   "cell_type": "code",
   "execution_count": 60,
   "metadata": {
    "execution": {
     "iopub.execute_input": "2023-03-04T09:30:56.883719Z",
     "iopub.status.busy": "2023-03-04T09:30:56.883464Z",
     "iopub.status.idle": "2023-03-04T09:30:56.920577Z",
     "shell.execute_reply": "2023-03-04T09:30:56.919689Z",
     "shell.execute_reply.started": "2023-03-04T09:30:56.883695Z"
    }
   },
   "outputs": [],
   "source": [
    "#grid(wiktionary, pak.sample)"
   ]
  },
  {
   "cell_type": "code",
   "execution_count": 61,
   "metadata": {
    "execution": {
     "iopub.execute_input": "2023-03-04T09:30:56.921955Z",
     "iopub.status.busy": "2023-03-04T09:30:56.921701Z",
     "iopub.status.idle": "2023-03-04T09:30:57.867084Z",
     "shell.execute_reply": "2023-03-04T09:30:57.866045Z",
     "shell.execute_reply.started": "2023-03-04T09:30:56.921934Z"
    }
   },
   "outputs": [],
   "source": [
    "# nach Priorität sortieren (laut Steuertabellen)\n",
    "wiktionary.loc[:,'tag'] = member_sortieren(wiktionary.tag) "
   ]
  },
  {
   "cell_type": "code",
   "execution_count": 62,
   "metadata": {
    "execution": {
     "iopub.execute_input": "2023-03-04T09:30:57.868379Z",
     "iopub.status.busy": "2023-03-04T09:30:57.868084Z",
     "iopub.status.idle": "2023-03-04T09:30:58.174468Z",
     "shell.execute_reply": "2023-03-04T09:30:58.173794Z",
     "shell.execute_reply.started": "2023-03-04T09:30:57.868351Z"
    }
   },
   "outputs": [],
   "source": [
    "# In string wandeln\n",
    "wiktionary.tag = wiktionary.tag.str.join(' ')"
   ]
  },
  {
   "cell_type": "code",
   "execution_count": 63,
   "metadata": {
    "execution": {
     "iopub.execute_input": "2023-03-04T09:30:58.176891Z",
     "iopub.status.busy": "2023-03-04T09:30:58.176620Z",
     "iopub.status.idle": "2023-03-04T09:31:02.553099Z",
     "shell.execute_reply": "2023-03-04T09:31:02.552450Z",
     "shell.execute_reply.started": "2023-03-04T09:30:58.176869Z"
    }
   },
   "outputs": [
    {
     "name": "stdout",
     "output_type": "stream",
     "text": [
      "[('  ', ' '), ('Partizip II', 'Ptz2'), ('Partizip_II', 'Ptz2'), ('PartizipII', 'Ptz2'), ('Konjunktiv II', 'Konj2'), ('Konjunktiv_II', 'Konj2'), ('KonjunktivII', 'Konj2'), ('  ', ' ')]\n",
      "[('  ', ' '), ('Partizip I', 'Ptz1'), ('Partizip_I', 'Ptz1'), ('PartizipI', 'Ptz1'), ('Konjunktiv I', 'Konj1'), ('Konjunktiv_I', 'Konj1'), ('KonjunktivI', 'Konj1'), ('  ', ' ')]\n"
     ]
    }
   ],
   "source": [
    "# translate_first\n",
    "\n",
    "print(translate_first1)\n",
    "print(translate_first2)\n",
    "\n",
    "wiktionary['tag'] = pak.replace_str( wiktionary.tag, translate_first1).str.strip()\n",
    "wiktionary['tag'] = pak.replace_str( wiktionary.tag, translate_first2).str.strip()"
   ]
  },
  {
   "cell_type": "code",
   "execution_count": 64,
   "metadata": {
    "execution": {
     "iopub.execute_input": "2023-03-04T09:31:02.554058Z",
     "iopub.status.busy": "2023-03-04T09:31:02.553844Z",
     "iopub.status.idle": "2023-03-04T09:31:02.590621Z",
     "shell.execute_reply": "2023-03-04T09:31:02.585175Z",
     "shell.execute_reply.started": "2023-03-04T09:31:02.554038Z"
    }
   },
   "outputs": [],
   "source": [
    "#mask = (wiktionary.tag.str.count(' ') + 1)  > 2   \n",
    "#wiktionary[mask]"
   ]
  },
  {
   "cell_type": "code",
   "execution_count": 65,
   "metadata": {
    "execution": {
     "iopub.execute_input": "2023-03-04T09:31:02.592078Z",
     "iopub.status.busy": "2023-03-04T09:31:02.591764Z",
     "iopub.status.idle": "2023-03-04T09:31:03.564406Z",
     "shell.execute_reply": "2023-03-04T09:31:03.563741Z",
     "shell.execute_reply.started": "2023-03-04T09:31:02.592050Z"
    }
   },
   "outputs": [],
   "source": [
    "# Spalte member bewahrt die ursprüngliche Klassifizierung vollständig\n",
    "wiktionary['member'] = wiktionary.tag.copy()\n",
    "wiktionary = pak.move_cols(wiktionary,'member','tag')"
   ]
  },
  {
   "cell_type": "code",
   "execution_count": 66,
   "metadata": {
    "execution": {
     "iopub.execute_input": "2023-03-04T09:31:03.567948Z",
     "iopub.status.busy": "2023-03-04T09:31:03.567670Z",
     "iopub.status.idle": "2023-03-04T09:31:03.652643Z",
     "shell.execute_reply": "2023-03-04T09:31:03.651902Z",
     "shell.execute_reply.started": "2023-03-04T09:31:03.567926Z"
    }
   },
   "outputs": [
    {
     "name": "stdout",
     "output_type": "stream",
     "text": [
      "1 rows out of 837038\n"
     ]
    },
    {
     "data": {
      "text/html": [
       "<div>\n",
       "<style scoped>\n",
       "    .dataframe tbody tr th:only-of-type {\n",
       "        vertical-align: middle;\n",
       "    }\n",
       "\n",
       "    .dataframe tbody tr th {\n",
       "        vertical-align: top;\n",
       "    }\n",
       "\n",
       "    .dataframe thead th {\n",
       "        text-align: right;\n",
       "    }\n",
       "</style>\n",
       "<table border=\"1\" class=\"dataframe\">\n",
       "  <thead>\n",
       "    <tr style=\"text-align: right;\">\n",
       "      <th></th>\n",
       "      <th>page_id</th>\n",
       "      <th>page_part</th>\n",
       "      <th>section_id2</th>\n",
       "      <th>title</th>\n",
       "      <th>lemma</th>\n",
       "      <th>inflected</th>\n",
       "      <th>pos</th>\n",
       "      <th>tag</th>\n",
       "      <th>member</th>\n",
       "      <th>rhymes</th>\n",
       "      <th>flexion</th>\n",
       "      <th>ipa</th>\n",
       "      <th>syllables</th>\n",
       "      <th>lang</th>\n",
       "      <th>lang_code</th>\n",
       "      <th>error</th>\n",
       "      <th>lemma_lower</th>\n",
       "      <th>score</th>\n",
       "    </tr>\n",
       "  </thead>\n",
       "  <tbody>\n",
       "    <tr>\n",
       "      <th>46348</th>\n",
       "      <td>120123</td>\n",
       "      <td>0</td>\n",
       "      <td>lachend</td>\n",
       "      <td>lachend</td>\n",
       "      <td>lachend</td>\n",
       "      <td>False</td>\n",
       "      <td>{'Adjektiv': ['Partizip I']}</td>\n",
       "      <td>Adjektiv Ptz1</td>\n",
       "      <td>Adjektiv Ptz1</td>\n",
       "      <td>[axn̩t]</td>\n",
       "      <td>{}</td>\n",
       "      <td>[laxn̩t, ˈlaxənt]</td>\n",
       "      <td>[la, chend]</td>\n",
       "      <td>Deutsch</td>\n",
       "      <td>de</td>\n",
       "      <td></td>\n",
       "      <td>lachend</td>\n",
       "      <td>2.053587</td>\n",
       "    </tr>\n",
       "  </tbody>\n",
       "</table>\n",
       "</div>"
      ],
      "text/plain": [
       "       page_id  page_part section_id2    title    lemma  inflected  \\\n",
       "46348   120123          0     lachend  lachend  lachend      False   \n",
       "\n",
       "                                pos            tag         member   rhymes  \\\n",
       "46348  {'Adjektiv': ['Partizip I']}  Adjektiv Ptz1  Adjektiv Ptz1  [axn̩t]   \n",
       "\n",
       "      flexion                ipa    syllables     lang lang_code error  \\\n",
       "46348      {}  [laxn̩t, ˈlaxənt]  [la, chend]  Deutsch        de         \n",
       "\n",
       "      lemma_lower     score  \n",
       "46348     lachend  2.053587  "
      ]
     },
     "execution_count": 66,
     "metadata": {},
     "output_type": "execute_result"
    }
   ],
   "source": [
    "# wiktionary anschauen\n",
    "#mask = wiktionary.tag == 'ADJA ADV PRO'\n",
    "mask = wiktionary.title.isin( suche_debug )\n",
    "grid(wiktionary,mask)"
   ]
  },
  {
   "cell_type": "code",
   "execution_count": 67,
   "metadata": {
    "execution": {
     "iopub.execute_input": "2023-03-04T09:31:03.658612Z",
     "iopub.status.busy": "2023-03-04T09:31:03.658334Z",
     "iopub.status.idle": "2023-03-04T09:31:03.699526Z",
     "shell.execute_reply": "2023-03-04T09:31:03.698824Z",
     "shell.execute_reply.started": "2023-03-04T09:31:03.658591Z"
    }
   },
   "outputs": [],
   "source": [
    "#pak.sample(wiktionary)"
   ]
  },
  {
   "cell_type": "code",
   "execution_count": 68,
   "metadata": {
    "execution": {
     "iopub.execute_input": "2023-03-04T09:31:03.704121Z",
     "iopub.status.busy": "2023-03-04T09:31:03.703735Z",
     "iopub.status.idle": "2023-03-04T09:31:03.802534Z",
     "shell.execute_reply": "2023-03-04T09:31:03.801838Z",
     "shell.execute_reply.started": "2023-03-04T09:31:03.704097Z"
    }
   },
   "outputs": [
    {
     "data": {
      "text/html": [
       "<div>\n",
       "<style scoped>\n",
       "    .dataframe tbody tr th:only-of-type {\n",
       "        vertical-align: middle;\n",
       "    }\n",
       "\n",
       "    .dataframe tbody tr th {\n",
       "        vertical-align: top;\n",
       "    }\n",
       "\n",
       "    .dataframe thead th {\n",
       "        text-align: right;\n",
       "    }\n",
       "</style>\n",
       "<table border=\"1\" class=\"dataframe\">\n",
       "  <thead>\n",
       "    <tr style=\"text-align: right;\">\n",
       "      <th></th>\n",
       "      <th>quelle</th>\n",
       "      <th>ziel</th>\n",
       "      <th>notiz</th>\n",
       "    </tr>\n",
       "  </thead>\n",
       "  <tbody>\n",
       "    <tr>\n",
       "      <th>0</th>\n",
       "      <td>Konjugierte_Form</td>\n",
       "      <td>LEX_V</td>\n",
       "      <td>Keine Grundform</td>\n",
       "    </tr>\n",
       "    <tr>\n",
       "      <th>76</th>\n",
       "      <td>Präfix</td>\n",
       "      <td>TRUNC</td>\n",
       "      <td>Wortartenlisten</td>\n",
       "    </tr>\n",
       "    <tr>\n",
       "      <th>101</th>\n",
       "      <td>LEX_V LEX_V</td>\n",
       "      <td>LEX_V</td>\n",
       "      <td>Vorrang Durchlauf2</td>\n",
       "    </tr>\n",
       "    <tr>\n",
       "      <th>185</th>\n",
       "      <td>ADJ1 ADJ1</td>\n",
       "      <td>ADJ1</td>\n",
       "      <td>Doppelung1</td>\n",
       "    </tr>\n",
       "    <tr>\n",
       "      <th>212</th>\n",
       "      <td>Vergleichspartikel</td>\n",
       "      <td></td>\n",
       "      <td>löschmich</td>\n",
       "    </tr>\n",
       "  </tbody>\n",
       "</table>\n",
       "</div>"
      ],
      "text/plain": [
       "                 quelle   ziel               notiz\n",
       "0      Konjugierte_Form  LEX_V     Keine Grundform\n",
       "76               Präfix  TRUNC     Wortartenlisten\n",
       "101         LEX_V LEX_V  LEX_V  Vorrang Durchlauf2\n",
       "185           ADJ1 ADJ1   ADJ1          Doppelung1\n",
       "212  Vergleichspartikel                  löschmich"
      ]
     },
     "execution_count": 68,
     "metadata": {},
     "output_type": "execute_result"
    }
   ],
   "source": [
    "pak.sample(translate_tag)"
   ]
  },
  {
   "cell_type": "code",
   "execution_count": 69,
   "metadata": {
    "execution": {
     "iopub.execute_input": "2023-03-04T09:31:03.811823Z",
     "iopub.status.busy": "2023-03-04T09:31:03.809089Z",
     "iopub.status.idle": "2023-03-04T09:31:52.594836Z",
     "shell.execute_reply": "2023-03-04T09:31:52.594185Z",
     "shell.execute_reply.started": "2023-03-04T09:31:03.811784Z"
    }
   },
   "outputs": [],
   "source": [
    "# anwenden\n",
    "wiktionary['tag'] = pak.replace_str( wiktionary.tag, translate_tag )\n",
    "wiktionary['tag'] = wiktionary.tag.str.replace('  ',' ').str.strip()    "
   ]
  },
  {
   "cell_type": "code",
   "execution_count": 70,
   "metadata": {
    "execution": {
     "iopub.execute_input": "2023-03-04T09:31:52.595799Z",
     "iopub.status.busy": "2023-03-04T09:31:52.595584Z",
     "iopub.status.idle": "2023-03-04T09:32:11.840316Z",
     "shell.execute_reply": "2023-03-04T09:32:11.839697Z",
     "shell.execute_reply.started": "2023-03-04T09:31:52.595779Z"
    }
   },
   "outputs": [],
   "source": [
    "# Durchlauf2: translate_tag erneut anwenden \n",
    "mask = translate_tag.notiz.str.contains('Durchlauf2')\n",
    "wiktionary['tag'] = pak.replace_str( wiktionary.tag, translate_tag[mask] )\n",
    "wiktionary['tag'] = wiktionary.tag.str.replace('  ',' ').str.strip()    "
   ]
  },
  {
   "cell_type": "code",
   "execution_count": 71,
   "metadata": {
    "execution": {
     "iopub.execute_input": "2023-03-04T09:32:11.841284Z",
     "iopub.status.busy": "2023-03-04T09:32:11.841080Z",
     "iopub.status.idle": "2023-03-04T09:32:12.171641Z",
     "shell.execute_reply": "2023-03-04T09:32:12.170998Z",
     "shell.execute_reply.started": "2023-03-04T09:32:11.841264Z"
    }
   },
   "outputs": [],
   "source": [
    "# tag TODO für alles, was noch weiterverarbeitet werden muss\n",
    "mask = (wiktionary.tag.str.len() == 0)\n",
    "wiktionary.loc[mask,'tag'] = 'TODO'\n",
    "#grid(wiktionary,mask)"
   ]
  },
  {
   "cell_type": "code",
   "execution_count": 72,
   "metadata": {
    "execution": {
     "iopub.execute_input": "2023-03-04T09:32:12.172605Z",
     "iopub.status.busy": "2023-03-04T09:32:12.172379Z",
     "iopub.status.idle": "2023-03-04T09:32:12.619650Z",
     "shell.execute_reply": "2023-03-04T09:32:12.618474Z",
     "shell.execute_reply.started": "2023-03-04T09:32:12.172584Z"
    }
   },
   "outputs": [
    {
     "name": "stdout",
     "output_type": "stream",
     "text": [
      "1 rows out of 837038\n"
     ]
    },
    {
     "data": {
      "text/html": [
       "<div>\n",
       "<style scoped>\n",
       "    .dataframe tbody tr th:only-of-type {\n",
       "        vertical-align: middle;\n",
       "    }\n",
       "\n",
       "    .dataframe tbody tr th {\n",
       "        vertical-align: top;\n",
       "    }\n",
       "\n",
       "    .dataframe thead th {\n",
       "        text-align: right;\n",
       "    }\n",
       "</style>\n",
       "<table border=\"1\" class=\"dataframe\">\n",
       "  <thead>\n",
       "    <tr style=\"text-align: right;\">\n",
       "      <th></th>\n",
       "      <th>page_id</th>\n",
       "      <th>page_part</th>\n",
       "      <th>section_id2</th>\n",
       "      <th>title</th>\n",
       "      <th>lemma</th>\n",
       "      <th>inflected</th>\n",
       "      <th>pos</th>\n",
       "      <th>tag</th>\n",
       "      <th>member</th>\n",
       "      <th>rhymes</th>\n",
       "      <th>flexion</th>\n",
       "      <th>ipa</th>\n",
       "      <th>syllables</th>\n",
       "      <th>lang</th>\n",
       "      <th>lang_code</th>\n",
       "      <th>error</th>\n",
       "      <th>lemma_lower</th>\n",
       "      <th>score</th>\n",
       "    </tr>\n",
       "  </thead>\n",
       "  <tbody>\n",
       "    <tr>\n",
       "      <th>46348</th>\n",
       "      <td>120123</td>\n",
       "      <td>0</td>\n",
       "      <td>lachend</td>\n",
       "      <td>lachend</td>\n",
       "      <td>lachend</td>\n",
       "      <td>False</td>\n",
       "      <td>{'Adjektiv': ['Partizip I']}</td>\n",
       "      <td>ADJ1</td>\n",
       "      <td>Adjektiv Ptz1</td>\n",
       "      <td>[axn̩t]</td>\n",
       "      <td>{}</td>\n",
       "      <td>[laxn̩t, ˈlaxənt]</td>\n",
       "      <td>[la, chend]</td>\n",
       "      <td>Deutsch</td>\n",
       "      <td>de</td>\n",
       "      <td></td>\n",
       "      <td>lachend</td>\n",
       "      <td>2.053587</td>\n",
       "    </tr>\n",
       "  </tbody>\n",
       "</table>\n",
       "</div>"
      ],
      "text/plain": [
       "       page_id  page_part section_id2    title    lemma  inflected  \\\n",
       "46348   120123          0     lachend  lachend  lachend      False   \n",
       "\n",
       "                                pos   tag         member   rhymes flexion  \\\n",
       "46348  {'Adjektiv': ['Partizip I']}  ADJ1  Adjektiv Ptz1  [axn̩t]      {}   \n",
       "\n",
       "                     ipa    syllables     lang lang_code error lemma_lower  \\\n",
       "46348  [laxn̩t, ˈlaxənt]  [la, chend]  Deutsch        de           lachend   \n",
       "\n",
       "          score  \n",
       "46348  2.053587  "
      ]
     },
     "execution_count": 72,
     "metadata": {},
     "output_type": "execute_result"
    }
   ],
   "source": [
    "# wiktionary anschauen\n",
    "#mask = wiktionary.tag == 'ADJA ADV PRO'\n",
    "mask = wiktionary.title.isin( suche_debug )\n",
    "grid(wiktionary,mask, backend='')"
   ]
  },
  {
   "cell_type": "code",
   "execution_count": 73,
   "metadata": {
    "execution": {
     "iopub.execute_input": "2023-03-04T09:32:12.620836Z",
     "iopub.status.busy": "2023-03-04T09:32:12.620582Z",
     "iopub.status.idle": "2023-03-04T09:32:12.659482Z",
     "shell.execute_reply": "2023-03-04T09:32:12.658189Z",
     "shell.execute_reply.started": "2023-03-04T09:32:12.620813Z"
    }
   },
   "outputs": [],
   "source": [
    "# Dekliniertes_Gerundivum: beizubehaltende\n",
    "# VMaßeinheiten"
   ]
  },
  {
   "cell_type": "markdown",
   "metadata": {},
   "source": [
    "## Bindestrich"
   ]
  },
  {
   "cell_type": "markdown",
   "metadata": {},
   "source": [
    "### Gebundene Adjektiv-Lexeme"
   ]
  },
  {
   "cell_type": "code",
   "execution_count": 74,
   "metadata": {
    "execution": {
     "iopub.execute_input": "2023-03-04T09:32:12.661676Z",
     "iopub.status.busy": "2023-03-04T09:32:12.661214Z",
     "iopub.status.idle": "2023-03-04T09:32:12.763890Z",
     "shell.execute_reply": "2023-03-04T09:32:12.762574Z",
     "shell.execute_reply.started": "2023-03-04T09:32:12.661644Z"
    },
    "tags": []
   },
   "outputs": [
    {
     "name": "stdout",
     "output_type": "stream",
     "text": [
      "check_mask:  4 rows\n"
     ]
    },
    {
     "data": {
      "text/html": [
       "<div>\n",
       "<style scoped>\n",
       "    .dataframe tbody tr th:only-of-type {\n",
       "        vertical-align: middle;\n",
       "    }\n",
       "\n",
       "    .dataframe tbody tr th {\n",
       "        vertical-align: top;\n",
       "    }\n",
       "\n",
       "    .dataframe thead th {\n",
       "        text-align: right;\n",
       "    }\n",
       "</style>\n",
       "<table border=\"1\" class=\"dataframe\">\n",
       "  <thead>\n",
       "    <tr style=\"text-align: right;\">\n",
       "      <th></th>\n",
       "      <th>page_id</th>\n",
       "      <th>page_part</th>\n",
       "      <th>section_id2</th>\n",
       "      <th>title</th>\n",
       "      <th>lemma</th>\n",
       "      <th>inflected</th>\n",
       "      <th>pos</th>\n",
       "      <th>tag</th>\n",
       "      <th>member</th>\n",
       "      <th>rhymes</th>\n",
       "      <th>flexion</th>\n",
       "      <th>ipa</th>\n",
       "      <th>syllables</th>\n",
       "      <th>lang</th>\n",
       "      <th>lang_code</th>\n",
       "      <th>error</th>\n",
       "      <th>lemma_lower</th>\n",
       "      <th>score</th>\n",
       "    </tr>\n",
       "  </thead>\n",
       "  <tbody>\n",
       "    <tr>\n",
       "      <th>25872</th>\n",
       "      <td>68346</td>\n",
       "      <td>0</td>\n",
       "      <td>unter-</td>\n",
       "      <td>unter-</td>\n",
       "      <td>unter-</td>\n",
       "      <td>False</td>\n",
       "      <td>{'Affix': ['Präfix']}</td>\n",
       "      <td>TRUNC</td>\n",
       "      <td>Affix Präfix</td>\n",
       "      <td>NaN</td>\n",
       "      <td>{}</td>\n",
       "      <td>[ʊntɐ]</td>\n",
       "      <td>[un, ter]</td>\n",
       "      <td>Deutsch</td>\n",
       "      <td>de</td>\n",
       "      <td></td>\n",
       "      <td>unter-</td>\n",
       "      <td>34.020112</td>\n",
       "    </tr>\n",
       "    <tr>\n",
       "      <th>214016</th>\n",
       "      <td>380261</td>\n",
       "      <td>0</td>\n",
       "      <td>ober-</td>\n",
       "      <td>ober-</td>\n",
       "      <td>ober-</td>\n",
       "      <td>False</td>\n",
       "      <td>{'Affix': ['Präfix', 'Präfixoid']}</td>\n",
       "      <td>TRUNC</td>\n",
       "      <td>Affix Präfixoid Präfix</td>\n",
       "      <td>NaN</td>\n",
       "      <td>{}</td>\n",
       "      <td>[ˈoːbɐ]</td>\n",
       "      <td>[ober]</td>\n",
       "      <td>Deutsch</td>\n",
       "      <td>de</td>\n",
       "      <td></td>\n",
       "      <td>ober-</td>\n",
       "      <td>55.630255</td>\n",
       "    </tr>\n",
       "    <tr>\n",
       "      <th>457256</th>\n",
       "      <td>681179</td>\n",
       "      <td>0</td>\n",
       "      <td>äußer-</td>\n",
       "      <td>äußer-</td>\n",
       "      <td>äußer-</td>\n",
       "      <td>False</td>\n",
       "      <td>{'Adjektiv': []}</td>\n",
       "      <td>ADJA</td>\n",
       "      <td>Adjektiv</td>\n",
       "      <td>NaN</td>\n",
       "      <td>{'Positiv': ['äußer(er)'], 'Superlativ': ['äußersten']}</td>\n",
       "      <td>[ˈɔɪ̯səʁɐ]</td>\n",
       "      <td>NaN</td>\n",
       "      <td>Deutsch</td>\n",
       "      <td>de</td>\n",
       "      <td></td>\n",
       "      <td>äußer-</td>\n",
       "      <td>101.480792</td>\n",
       "    </tr>\n",
       "    <tr>\n",
       "      <th>457269</th>\n",
       "      <td>681193</td>\n",
       "      <td>0</td>\n",
       "      <td>inner-</td>\n",
       "      <td>inner-</td>\n",
       "      <td>inner-</td>\n",
       "      <td>False</td>\n",
       "      <td>{'Adjektiv': []}</td>\n",
       "      <td>ADJA</td>\n",
       "      <td>Adjektiv</td>\n",
       "      <td>NaN</td>\n",
       "      <td>{'Positiv': ['inner(er)'], 'Superlativ': ['innersten']}</td>\n",
       "      <td>[ˈɪnɐ]</td>\n",
       "      <td>NaN</td>\n",
       "      <td>Deutsch</td>\n",
       "      <td>de</td>\n",
       "      <td></td>\n",
       "      <td>inner-</td>\n",
       "      <td>84.878232</td>\n",
       "    </tr>\n",
       "  </tbody>\n",
       "</table>\n",
       "</div>"
      ],
      "text/plain": [
       "        page_id  page_part section_id2   title   lemma  inflected  \\\n",
       "25872     68346          0      unter-  unter-  unter-      False   \n",
       "214016   380261          0       ober-   ober-   ober-      False   \n",
       "457256   681179          0      äußer-  äußer-  äußer-      False   \n",
       "457269   681193          0      inner-  inner-  inner-      False   \n",
       "\n",
       "                                       pos    tag                  member  \\\n",
       "25872                {'Affix': ['Präfix']}  TRUNC            Affix Präfix   \n",
       "214016  {'Affix': ['Präfix', 'Präfixoid']}  TRUNC  Affix Präfixoid Präfix   \n",
       "457256                    {'Adjektiv': []}   ADJA                Adjektiv   \n",
       "457269                    {'Adjektiv': []}   ADJA                Adjektiv   \n",
       "\n",
       "       rhymes                                                  flexion  \\\n",
       "25872     NaN                                                       {}   \n",
       "214016    NaN                                                       {}   \n",
       "457256    NaN  {'Positiv': ['äußer(er)'], 'Superlativ': ['äußersten']}   \n",
       "457269    NaN  {'Positiv': ['inner(er)'], 'Superlativ': ['innersten']}   \n",
       "\n",
       "               ipa  syllables     lang lang_code error lemma_lower       score  \n",
       "25872       [ʊntɐ]  [un, ter]  Deutsch        de            unter-   34.020112  \n",
       "214016     [ˈoːbɐ]     [ober]  Deutsch        de             ober-   55.630255  \n",
       "457256  [ˈɔɪ̯səʁɐ]        NaN  Deutsch        de            äußer-  101.480792  \n",
       "457269      [ˈɪnɐ]        NaN  Deutsch        de            inner-   84.878232  "
      ]
     },
     "execution_count": 74,
     "metadata": {},
     "output_type": "execute_result"
    }
   ],
   "source": [
    "# Gebundene Adjektiv-Lexeme in wiktionary\n",
    "suche = ['ober-','unter-','äußer-','inner-',]\n",
    "mask = wiktionary.section_id2.isin(suche)\n",
    "\n",
    "check_mask(wiktionary,mask,0,4)\n",
    "wiktionary[mask]"
   ]
  },
  {
   "cell_type": "code",
   "execution_count": 75,
   "metadata": {
    "execution": {
     "iopub.execute_input": "2023-03-04T09:32:12.765189Z",
     "iopub.status.busy": "2023-03-04T09:32:12.764861Z",
     "iopub.status.idle": "2023-03-04T09:32:13.224164Z",
     "shell.execute_reply": "2023-03-04T09:32:13.222738Z",
     "shell.execute_reply.started": "2023-03-04T09:32:12.765157Z"
    }
   },
   "outputs": [
    {
     "data": {
      "text/html": [
       "<div>\n",
       "<style scoped>\n",
       "    .dataframe tbody tr th:only-of-type {\n",
       "        vertical-align: middle;\n",
       "    }\n",
       "\n",
       "    .dataframe tbody tr th {\n",
       "        vertical-align: top;\n",
       "    }\n",
       "\n",
       "    .dataframe thead th {\n",
       "        text-align: right;\n",
       "    }\n",
       "</style>\n",
       "<table border=\"1\" class=\"dataframe\">\n",
       "  <thead>\n",
       "    <tr style=\"text-align: right;\">\n",
       "      <th></th>\n",
       "      <th>page_id</th>\n",
       "      <th>page_part</th>\n",
       "      <th>section_id2</th>\n",
       "      <th>title</th>\n",
       "      <th>lemma</th>\n",
       "      <th>inflected</th>\n",
       "      <th>pos</th>\n",
       "      <th>tag</th>\n",
       "      <th>member</th>\n",
       "      <th>rhymes</th>\n",
       "      <th>flexion</th>\n",
       "      <th>ipa</th>\n",
       "      <th>syllables</th>\n",
       "      <th>lang</th>\n",
       "      <th>lang_code</th>\n",
       "      <th>error</th>\n",
       "      <th>lemma_lower</th>\n",
       "      <th>score</th>\n",
       "    </tr>\n",
       "  </thead>\n",
       "  <tbody>\n",
       "    <tr>\n",
       "      <th>25872</th>\n",
       "      <td>68346</td>\n",
       "      <td>0</td>\n",
       "      <td>unter_glex</td>\n",
       "      <td>unter</td>\n",
       "      <td>unter</td>\n",
       "      <td>False</td>\n",
       "      <td>None</td>\n",
       "      <td>ADJA</td>\n",
       "      <td>Adjektiv</td>\n",
       "      <td>NaN</td>\n",
       "      <td>{}</td>\n",
       "      <td>[ʊntɐ]</td>\n",
       "      <td>[un, ter]</td>\n",
       "      <td>Deutsch</td>\n",
       "      <td>de</td>\n",
       "      <td></td>\n",
       "      <td>unter</td>\n",
       "      <td>34.020112</td>\n",
       "    </tr>\n",
       "    <tr>\n",
       "      <th>214016</th>\n",
       "      <td>380261</td>\n",
       "      <td>0</td>\n",
       "      <td>ober_glex</td>\n",
       "      <td>ober</td>\n",
       "      <td>ober</td>\n",
       "      <td>False</td>\n",
       "      <td>None</td>\n",
       "      <td>ADJA</td>\n",
       "      <td>Adjektiv</td>\n",
       "      <td>NaN</td>\n",
       "      <td>{}</td>\n",
       "      <td>[ˈoːbɐ]</td>\n",
       "      <td>[ober]</td>\n",
       "      <td>Deutsch</td>\n",
       "      <td>de</td>\n",
       "      <td></td>\n",
       "      <td>ober</td>\n",
       "      <td>55.630255</td>\n",
       "    </tr>\n",
       "    <tr>\n",
       "      <th>457256</th>\n",
       "      <td>681179</td>\n",
       "      <td>0</td>\n",
       "      <td>äußer_glex</td>\n",
       "      <td>äußer</td>\n",
       "      <td>äußer</td>\n",
       "      <td>False</td>\n",
       "      <td>None</td>\n",
       "      <td>ADJA</td>\n",
       "      <td>Adjektiv</td>\n",
       "      <td>NaN</td>\n",
       "      <td>{'Positiv': ['äußer(er)'], 'Superlativ': ['äußersten']}</td>\n",
       "      <td>[ˈɔɪ̯səʁɐ]</td>\n",
       "      <td>NaN</td>\n",
       "      <td>Deutsch</td>\n",
       "      <td>de</td>\n",
       "      <td></td>\n",
       "      <td>äußer</td>\n",
       "      <td>101.480792</td>\n",
       "    </tr>\n",
       "    <tr>\n",
       "      <th>457269</th>\n",
       "      <td>681193</td>\n",
       "      <td>0</td>\n",
       "      <td>inner_glex</td>\n",
       "      <td>inner</td>\n",
       "      <td>inner</td>\n",
       "      <td>False</td>\n",
       "      <td>None</td>\n",
       "      <td>ADJA</td>\n",
       "      <td>Adjektiv</td>\n",
       "      <td>NaN</td>\n",
       "      <td>{'Positiv': ['inner(er)'], 'Superlativ': ['innersten']}</td>\n",
       "      <td>[ˈɪnɐ]</td>\n",
       "      <td>NaN</td>\n",
       "      <td>Deutsch</td>\n",
       "      <td>de</td>\n",
       "      <td></td>\n",
       "      <td>inner</td>\n",
       "      <td>84.878232</td>\n",
       "    </tr>\n",
       "  </tbody>\n",
       "</table>\n",
       "</div>"
      ],
      "text/plain": [
       "        page_id  page_part section_id2  title  lemma  inflected   pos   tag  \\\n",
       "25872     68346          0  unter_glex  unter  unter      False  None  ADJA   \n",
       "214016   380261          0   ober_glex   ober   ober      False  None  ADJA   \n",
       "457256   681179          0  äußer_glex  äußer  äußer      False  None  ADJA   \n",
       "457269   681193          0  inner_glex  inner  inner      False  None  ADJA   \n",
       "\n",
       "          member rhymes  \\\n",
       "25872   Adjektiv    NaN   \n",
       "214016  Adjektiv    NaN   \n",
       "457256  Adjektiv    NaN   \n",
       "457269  Adjektiv    NaN   \n",
       "\n",
       "                                                        flexion         ipa  \\\n",
       "25872                                                        {}      [ʊntɐ]   \n",
       "214016                                                       {}     [ˈoːbɐ]   \n",
       "457256  {'Positiv': ['äußer(er)'], 'Superlativ': ['äußersten']}  [ˈɔɪ̯səʁɐ]   \n",
       "457269  {'Positiv': ['inner(er)'], 'Superlativ': ['innersten']}      [ˈɪnɐ]   \n",
       "\n",
       "        syllables     lang lang_code error lemma_lower       score  \n",
       "25872   [un, ter]  Deutsch        de             unter   34.020112  \n",
       "214016     [ober]  Deutsch        de              ober   55.630255  \n",
       "457256        NaN  Deutsch        de             äußer  101.480792  \n",
       "457269        NaN  Deutsch        de             inner   84.878232  "
      ]
     },
     "execution_count": 75,
     "metadata": {},
     "output_type": "execute_result"
    }
   ],
   "source": [
    "wiktionary.loc[mask,'title']       = wiktionary[mask].title.str.replace('-','')\n",
    "wiktionary.loc[mask,'lemma']       = wiktionary[mask].lemma.str.replace('-','')\n",
    "wiktionary.loc[mask,'lemma_lower'] = wiktionary[mask].lemma_lower.str.replace('-','')\n",
    "wiktionary.loc[mask,'member']      = 'Adjektiv'\n",
    "wiktionary.loc[mask,'tag']         = 'ADJA'\n",
    "wiktionary.loc[mask,'pos']         = None # {'Adjektiv': []}\n",
    "wiktionary.loc[mask,'section_id2'] = wiktionary[mask].section_id2.str.replace('-','_glex')\n",
    "wiktionary[mask]"
   ]
  },
  {
   "cell_type": "code",
   "execution_count": 76,
   "metadata": {
    "execution": {
     "iopub.execute_input": "2023-03-04T09:32:13.225245Z",
     "iopub.status.busy": "2023-03-04T09:32:13.224996Z",
     "iopub.status.idle": "2023-03-04T09:32:13.263153Z",
     "shell.execute_reply": "2023-03-04T09:32:13.262520Z",
     "shell.execute_reply.started": "2023-03-04T09:32:13.225225Z"
    },
    "tags": []
   },
   "outputs": [],
   "source": [
    "#pak.analyse_datatypes(wiktionary)"
   ]
  },
  {
   "cell_type": "code",
   "execution_count": 77,
   "metadata": {
    "execution": {
     "iopub.execute_input": "2023-03-04T09:32:13.267000Z",
     "iopub.status.busy": "2023-03-04T09:32:13.266727Z",
     "iopub.status.idle": "2023-03-04T09:32:13.570845Z",
     "shell.execute_reply": "2023-03-04T09:32:13.570104Z",
     "shell.execute_reply.started": "2023-03-04T09:32:13.266977Z"
    }
   },
   "outputs": [
    {
     "name": "stdout",
     "output_type": "stream",
     "text": [
      "check_mask:  80 rows\n"
     ]
    }
   ],
   "source": [
    "# Gebundene Adjektiv-Lexeme in wiktionary_merkmal\n",
    "suche = ['ober-','unter-','äußer-','inner-',]\n",
    "mask = wiktionary_merkmal.section_id2.isin(suche)\n",
    "check_mask(wiktionary_merkmal,mask,80)\n",
    "wiktionary_merkmal.loc[mask,'section_id2'] = wiktionary_merkmal[mask].section_id2.str.replace('-','_glex')\n",
    "#wiktionary_merkmal[mask]"
   ]
  },
  {
   "cell_type": "code",
   "execution_count": 78,
   "metadata": {
    "execution": {
     "iopub.execute_input": "2023-03-04T09:32:13.574775Z",
     "iopub.status.busy": "2023-03-04T09:32:13.574481Z",
     "iopub.status.idle": "2023-03-04T09:32:13.681634Z",
     "shell.execute_reply": "2023-03-04T09:32:13.679647Z",
     "shell.execute_reply.started": "2023-03-04T09:32:13.574752Z"
    }
   },
   "outputs": [
    {
     "name": "stdout",
     "output_type": "stream",
     "text": [
      "check_mask:  46 rows\n"
     ]
    }
   ],
   "source": [
    "# Gebundene Adjektiv-Lexeme in wiktionary_merkmal_text\n",
    "suche = ['ober-','unter-','äußer-','inner-',]\n",
    "mask = wiktionary_merkmal_text.section_id2.isin(suche)\n",
    "check_mask(wiktionary_merkmal_text,mask,46)\n",
    "wiktionary_merkmal_text.loc[mask,'section_id2'] = wiktionary_merkmal_text[mask].section_id2.str.replace('-','_glex')\n",
    "#wiktionary_merkmal_text[mask]"
   ]
  },
  {
   "cell_type": "code",
   "execution_count": 79,
   "metadata": {
    "execution": {
     "iopub.execute_input": "2023-03-04T09:32:13.684270Z",
     "iopub.status.busy": "2023-03-04T09:32:13.683838Z",
     "iopub.status.idle": "2023-03-04T09:32:14.034751Z",
     "shell.execute_reply": "2023-03-04T09:32:14.034105Z",
     "shell.execute_reply.started": "2023-03-04T09:32:13.684245Z"
    }
   },
   "outputs": [
    {
     "name": "stdout",
     "output_type": "stream",
     "text": [
      "check_mask:  36 rows\n"
     ]
    }
   ],
   "source": [
    "# Gebundene Adjektiv-Lexeme in wiktionary\n",
    "suche = ['ober-','unter-','äußer-','inner-',]\n",
    "mask = wiktionary.lemma.isin(suche)\n",
    "check_mask(wiktionary,mask,36)\n",
    "\n",
    "wiktionary.loc[mask,'title']       = wiktionary[mask].title.str.replace('-','')\n",
    "wiktionary.loc[mask,'lemma']       = wiktionary[mask].lemma.str.replace('-','')\n",
    "wiktionary.loc[mask,'lemma_lower'] = wiktionary[mask].lemma_lower.str.replace('-','')\n",
    "# wiktionary[mask]"
   ]
  },
  {
   "cell_type": "code",
   "execution_count": 80,
   "metadata": {
    "execution": {
     "iopub.execute_input": "2023-03-04T09:32:14.035653Z",
     "iopub.status.busy": "2023-03-04T09:32:14.035426Z",
     "iopub.status.idle": "2023-03-04T09:32:14.603072Z",
     "shell.execute_reply": "2023-03-04T09:32:14.602439Z",
     "shell.execute_reply.started": "2023-03-04T09:32:14.035633Z"
    }
   },
   "outputs": [
    {
     "name": "stdout",
     "output_type": "stream",
     "text": [
      "check_mask:  1 rows\n"
     ]
    },
    {
     "data": {
      "text/html": [
       "<div>\n",
       "<style scoped>\n",
       "    .dataframe tbody tr th:only-of-type {\n",
       "        vertical-align: middle;\n",
       "    }\n",
       "\n",
       "    .dataframe tbody tr th {\n",
       "        vertical-align: top;\n",
       "    }\n",
       "\n",
       "    .dataframe thead th {\n",
       "        text-align: right;\n",
       "    }\n",
       "</style>\n",
       "<table border=\"1\" class=\"dataframe\">\n",
       "  <thead>\n",
       "    <tr style=\"text-align: right;\">\n",
       "      <th></th>\n",
       "      <th>section_id2</th>\n",
       "      <th>merkmal</th>\n",
       "      <th>node_debug</th>\n",
       "      <th>node_kontext</th>\n",
       "      <th>data</th>\n",
       "      <th>num</th>\n",
       "      <th>meta</th>\n",
       "    </tr>\n",
       "  </thead>\n",
       "  <tbody>\n",
       "    <tr>\n",
       "      <th>652252</th>\n",
       "      <td>unter-_1</td>\n",
       "      <td>übersicht</td>\n",
       "      <td>Deutsch Adjektiv Übersicht</td>\n",
       "      <td>Positiv</td>\n",
       "      <td>unter</td>\n",
       "      <td></td>\n",
       "      <td>&lt;NA&gt;</td>\n",
       "    </tr>\n",
       "  </tbody>\n",
       "</table>\n",
       "</div>"
      ],
      "text/plain": [
       "       section_id2    merkmal                   node_debug node_kontext  \\\n",
       "652252    unter-_1  übersicht  Deutsch Adjektiv Übersicht\n",
       "      Positiv   \n",
       "\n",
       "         data num  meta  \n",
       "652252  unter      <NA>  "
      ]
     },
     "execution_count": 80,
     "metadata": {},
     "output_type": "execute_result"
    }
   ],
   "source": [
    "# Gebundene Adjektiv-Lexeme in wiktionary_merkmal\n",
    "suche = ['ober-','unter-','äußer-','inner-',]\n",
    "mask = wiktionary_merkmal.data.isin(suche)\n",
    "check_mask(wiktionary_merkmal,mask,0,10)\n",
    "wiktionary_merkmal.loc[mask,'data'] = wiktionary_merkmal[mask].data.str.replace('-','')\n",
    "wiktionary_merkmal[mask]"
   ]
  },
  {
   "cell_type": "markdown",
   "metadata": {},
   "source": [
    "### Präfix"
   ]
  },
  {
   "cell_type": "code",
   "execution_count": 81,
   "metadata": {
    "execution": {
     "iopub.execute_input": "2023-03-04T09:32:14.604481Z",
     "iopub.status.busy": "2023-03-04T09:32:14.604200Z",
     "iopub.status.idle": "2023-03-04T09:32:16.306295Z",
     "shell.execute_reply": "2023-03-04T09:32:16.305300Z",
     "shell.execute_reply.started": "2023-03-04T09:32:14.604456Z"
    }
   },
   "outputs": [
    {
     "name": "stdout",
     "output_type": "stream",
     "text": [
      "check_mask:  551 rows\n",
      "551 rows out of 837038\n"
     ]
    },
    {
     "data": {
      "text/html": [
       "<div>\n",
       "<style scoped>\n",
       "    .dataframe tbody tr th:only-of-type {\n",
       "        vertical-align: middle;\n",
       "    }\n",
       "\n",
       "    .dataframe tbody tr th {\n",
       "        vertical-align: top;\n",
       "    }\n",
       "\n",
       "    .dataframe thead th {\n",
       "        text-align: right;\n",
       "    }\n",
       "</style>\n",
       "<table border=\"1\" class=\"dataframe\">\n",
       "  <thead>\n",
       "    <tr style=\"text-align: right;\">\n",
       "      <th></th>\n",
       "      <th>page_id</th>\n",
       "      <th>page_part</th>\n",
       "      <th>section_id2</th>\n",
       "      <th>title</th>\n",
       "      <th>lemma</th>\n",
       "      <th>inflected</th>\n",
       "      <th>pos</th>\n",
       "      <th>tag</th>\n",
       "      <th>member</th>\n",
       "      <th>rhymes</th>\n",
       "      <th>flexion</th>\n",
       "      <th>ipa</th>\n",
       "      <th>syllables</th>\n",
       "      <th>lang</th>\n",
       "      <th>lang_code</th>\n",
       "      <th>error</th>\n",
       "      <th>lemma_lower</th>\n",
       "      <th>score</th>\n",
       "    </tr>\n",
       "  </thead>\n",
       "  <tbody>\n",
       "    <tr>\n",
       "      <th>161</th>\n",
       "      <td>248</td>\n",
       "      <td>0</td>\n",
       "      <td>auto-</td>\n",
       "      <td>auto-</td>\n",
       "      <td>auto-</td>\n",
       "      <td>False</td>\n",
       "      <td>{'Gebundenes Lexem': []}</td>\n",
       "      <td>AFIX TRUNC</td>\n",
       "      <td>Gebundenes_Lexem</td>\n",
       "      <td>NaN</td>\n",
       "      <td>{}</td>\n",
       "      <td>[aʊ̯toː]</td>\n",
       "      <td>[au, to]</td>\n",
       "      <td>Deutsch</td>\n",
       "      <td>de</td>\n",
       "      <td></td>\n",
       "      <td>auto-</td>\n",
       "      <td>64.162652</td>\n",
       "    </tr>\n",
       "    <tr>\n",
       "      <th>269</th>\n",
       "      <td>388</td>\n",
       "      <td>0</td>\n",
       "      <td>ambi-</td>\n",
       "      <td>ambi-</td>\n",
       "      <td>ambi-</td>\n",
       "      <td>False</td>\n",
       "      <td>{'Gebundenes Lexem': []}</td>\n",
       "      <td>AFIX TRUNC</td>\n",
       "      <td>Gebundenes_Lexem</td>\n",
       "      <td>NaN</td>\n",
       "      <td>{}</td>\n",
       "      <td>[ambi]</td>\n",
       "      <td>[am, bi]</td>\n",
       "      <td>Deutsch</td>\n",
       "      <td>de</td>\n",
       "      <td></td>\n",
       "      <td>ambi-</td>\n",
       "      <td>15.632934</td>\n",
       "    </tr>\n",
       "    <tr>\n",
       "      <th>2694</th>\n",
       "      <td>3700</td>\n",
       "      <td>0</td>\n",
       "      <td>stief-</td>\n",
       "      <td>stief-</td>\n",
       "      <td>stief-</td>\n",
       "      <td>False</td>\n",
       "      <td>{'Gebundenes Lexem': []}</td>\n",
       "      <td>AFIX TRUNC</td>\n",
       "      <td>Gebundenes_Lexem</td>\n",
       "      <td>NaN</td>\n",
       "      <td>{}</td>\n",
       "      <td>[ʃtiːf]</td>\n",
       "      <td>[stief]</td>\n",
       "      <td>Deutsch</td>\n",
       "      <td>de</td>\n",
       "      <td></td>\n",
       "      <td>stief-</td>\n",
       "      <td>22.996615</td>\n",
       "    </tr>\n",
       "    <tr>\n",
       "      <th>4142</th>\n",
       "      <td>6082</td>\n",
       "      <td>0</td>\n",
       "      <td>plagio-</td>\n",
       "      <td>plagio-</td>\n",
       "      <td>plagio-</td>\n",
       "      <td>False</td>\n",
       "      <td>{'Gebundenes Lexem': []}</td>\n",
       "      <td>AFIX TRUNC</td>\n",
       "      <td>Gebundenes_Lexem</td>\n",
       "      <td>NaN</td>\n",
       "      <td>{}</td>\n",
       "      <td>[plaɡi̯o-]</td>\n",
       "      <td>[pla, gio]</td>\n",
       "      <td>Deutsch</td>\n",
       "      <td>de</td>\n",
       "      <td></td>\n",
       "      <td>plagio-</td>\n",
       "      <td>30.408737</td>\n",
       "    </tr>\n",
       "    <tr>\n",
       "      <th>4144</th>\n",
       "      <td>6084</td>\n",
       "      <td>0</td>\n",
       "      <td>ortho-</td>\n",
       "      <td>ortho-</td>\n",
       "      <td>ortho-</td>\n",
       "      <td>False</td>\n",
       "      <td>{'Gebundenes Lexem': []}</td>\n",
       "      <td>AFIX TRUNC</td>\n",
       "      <td>Gebundenes_Lexem</td>\n",
       "      <td>NaN</td>\n",
       "      <td>{}</td>\n",
       "      <td>[ˈɔʁto]</td>\n",
       "      <td>[or, tho]</td>\n",
       "      <td>Deutsch</td>\n",
       "      <td>de</td>\n",
       "      <td></td>\n",
       "      <td>ortho-</td>\n",
       "      <td>55.665153</td>\n",
       "    </tr>\n",
       "    <tr>\n",
       "      <th>...</th>\n",
       "      <td>...</td>\n",
       "      <td>...</td>\n",
       "      <td>...</td>\n",
       "      <td>...</td>\n",
       "      <td>...</td>\n",
       "      <td>...</td>\n",
       "      <td>...</td>\n",
       "      <td>...</td>\n",
       "      <td>...</td>\n",
       "      <td>...</td>\n",
       "      <td>...</td>\n",
       "      <td>...</td>\n",
       "      <td>...</td>\n",
       "      <td>...</td>\n",
       "      <td>...</td>\n",
       "      <td>...</td>\n",
       "      <td>...</td>\n",
       "      <td>...</td>\n",
       "    </tr>\n",
       "    <tr>\n",
       "      <th>806614</th>\n",
       "      <td>1078889</td>\n",
       "      <td>0</td>\n",
       "      <td>nord-</td>\n",
       "      <td>nord-</td>\n",
       "      <td>nord-</td>\n",
       "      <td>False</td>\n",
       "      <td>{'Gebundenes Lexem': []}</td>\n",
       "      <td>AFIX TRUNC</td>\n",
       "      <td>Gebundenes_Lexem</td>\n",
       "      <td>NaN</td>\n",
       "      <td>{}</td>\n",
       "      <td>[nɔʁt]</td>\n",
       "      <td>[nord]</td>\n",
       "      <td>Deutsch</td>\n",
       "      <td>de</td>\n",
       "      <td></td>\n",
       "      <td>nord-</td>\n",
       "      <td>57.463897</td>\n",
       "    </tr>\n",
       "    <tr>\n",
       "      <th>808534</th>\n",
       "      <td>1080874</td>\n",
       "      <td>0</td>\n",
       "      <td>Nobel-</td>\n",
       "      <td>Nobel-</td>\n",
       "      <td>Nobel-</td>\n",
       "      <td>False</td>\n",
       "      <td>{'Affix': ['Präfixoid']}</td>\n",
       "      <td>AFIX TRUNC</td>\n",
       "      <td>Präfixoid</td>\n",
       "      <td>NaN</td>\n",
       "      <td>{}</td>\n",
       "      <td>[ˈnoːbl̩]</td>\n",
       "      <td>[No, bel]</td>\n",
       "      <td>Deutsch</td>\n",
       "      <td>de</td>\n",
       "      <td></td>\n",
       "      <td>nobel-</td>\n",
       "      <td>22.77493</td>\n",
       "    </tr>\n",
       "    <tr>\n",
       "      <th>809124</th>\n",
       "      <td>1081469</td>\n",
       "      <td>0</td>\n",
       "      <td>Operetten-</td>\n",
       "      <td>Operetten-</td>\n",
       "      <td>Operetten-</td>\n",
       "      <td>False</td>\n",
       "      <td>{'Affix': ['Präfixoid']}</td>\n",
       "      <td>AFIX TRUNC</td>\n",
       "      <td>Präfixoid</td>\n",
       "      <td>NaN</td>\n",
       "      <td>{}</td>\n",
       "      <td>[opəˈʁɛtn̩]</td>\n",
       "      <td>[Ope, ret, ten]</td>\n",
       "      <td>Deutsch</td>\n",
       "      <td>de</td>\n",
       "      <td></td>\n",
       "      <td>operetten-</td>\n",
       "      <td>16.970527</td>\n",
       "    </tr>\n",
       "    <tr>\n",
       "      <th>814132</th>\n",
       "      <td>1086984</td>\n",
       "      <td>0</td>\n",
       "      <td>divers-</td>\n",
       "      <td>divers-</td>\n",
       "      <td>divers-</td>\n",
       "      <td>False</td>\n",
       "      <td>{'Gebundenes Lexem': []}</td>\n",
       "      <td>AFIX TRUNC</td>\n",
       "      <td>Gebundenes_Lexem</td>\n",
       "      <td>NaN</td>\n",
       "      <td>{}</td>\n",
       "      <td>[diˈvɛʁs]</td>\n",
       "      <td>[di, vers]</td>\n",
       "      <td>Deutsch</td>\n",
       "      <td>de</td>\n",
       "      <td></td>\n",
       "      <td>divers-</td>\n",
       "      <td>29.66041</td>\n",
       "    </tr>\n",
       "    <tr>\n",
       "      <th>816448</th>\n",
       "      <td>1089957</td>\n",
       "      <td>0</td>\n",
       "      <td>Schmalspur-</td>\n",
       "      <td>Schmalspur-</td>\n",
       "      <td>Schmalspur-</td>\n",
       "      <td>False</td>\n",
       "      <td>{'Affix': ['Präfixoid']}</td>\n",
       "      <td>AFIX TRUNC</td>\n",
       "      <td>Präfixoid</td>\n",
       "      <td>NaN</td>\n",
       "      <td>{}</td>\n",
       "      <td>[ˈʃmaːlʃpuːɐ̯]</td>\n",
       "      <td>[Schmal, spur]</td>\n",
       "      <td>Deutsch</td>\n",
       "      <td>de</td>\n",
       "      <td></td>\n",
       "      <td>schmalspur-</td>\n",
       "      <td>22.808895</td>\n",
       "    </tr>\n",
       "  </tbody>\n",
       "</table>\n",
       "<p>551 rows × 18 columns</p>\n",
       "</div>"
      ],
      "text/plain": [
       "        page_id  page_part  section_id2        title        lemma  inflected  \\\n",
       "161         248          0        auto-        auto-        auto-      False   \n",
       "269         388          0        ambi-        ambi-        ambi-      False   \n",
       "2694       3700          0       stief-       stief-       stief-      False   \n",
       "4142       6082          0      plagio-      plagio-      plagio-      False   \n",
       "4144       6084          0       ortho-       ortho-       ortho-      False   \n",
       "...         ...        ...          ...          ...          ...        ...   \n",
       "806614  1078889          0        nord-        nord-        nord-      False   \n",
       "808534  1080874          0       Nobel-       Nobel-       Nobel-      False   \n",
       "809124  1081469          0   Operetten-   Operetten-   Operetten-      False   \n",
       "814132  1086984          0      divers-      divers-      divers-      False   \n",
       "816448  1089957          0  Schmalspur-  Schmalspur-  Schmalspur-      False   \n",
       "\n",
       "                             pos         tag            member rhymes flexion  \\\n",
       "161     {'Gebundenes Lexem': []}  AFIX TRUNC  Gebundenes_Lexem    NaN      {}   \n",
       "269     {'Gebundenes Lexem': []}  AFIX TRUNC  Gebundenes_Lexem    NaN      {}   \n",
       "2694    {'Gebundenes Lexem': []}  AFIX TRUNC  Gebundenes_Lexem    NaN      {}   \n",
       "4142    {'Gebundenes Lexem': []}  AFIX TRUNC  Gebundenes_Lexem    NaN      {}   \n",
       "4144    {'Gebundenes Lexem': []}  AFIX TRUNC  Gebundenes_Lexem    NaN      {}   \n",
       "...                          ...         ...               ...    ...     ...   \n",
       "806614  {'Gebundenes Lexem': []}  AFIX TRUNC  Gebundenes_Lexem    NaN      {}   \n",
       "808534  {'Affix': ['Präfixoid']}  AFIX TRUNC         Präfixoid    NaN      {}   \n",
       "809124  {'Affix': ['Präfixoid']}  AFIX TRUNC         Präfixoid    NaN      {}   \n",
       "814132  {'Gebundenes Lexem': []}  AFIX TRUNC  Gebundenes_Lexem    NaN      {}   \n",
       "816448  {'Affix': ['Präfixoid']}  AFIX TRUNC         Präfixoid    NaN      {}   \n",
       "\n",
       "                   ipa        syllables     lang lang_code error  lemma_lower  \\\n",
       "161           [aʊ̯toː]         [au, to]  Deutsch        de              auto-   \n",
       "269             [ambi]         [am, bi]  Deutsch        de              ambi-   \n",
       "2694           [ʃtiːf]          [stief]  Deutsch        de             stief-   \n",
       "4142        [plaɡi̯o-]       [pla, gio]  Deutsch        de            plagio-   \n",
       "4144           [ˈɔʁto]        [or, tho]  Deutsch        de             ortho-   \n",
       "...                ...              ...      ...       ...   ...          ...   \n",
       "806614          [nɔʁt]           [nord]  Deutsch        de              nord-   \n",
       "808534       [ˈnoːbl̩]        [No, bel]  Deutsch        de             nobel-   \n",
       "809124     [opəˈʁɛtn̩]  [Ope, ret, ten]  Deutsch        de         operetten-   \n",
       "814132       [diˈvɛʁs]       [di, vers]  Deutsch        de            divers-   \n",
       "816448  [ˈʃmaːlʃpuːɐ̯]   [Schmal, spur]  Deutsch        de        schmalspur-   \n",
       "\n",
       "            score  \n",
       "161     64.162652  \n",
       "269     15.632934  \n",
       "2694    22.996615  \n",
       "4142    30.408737  \n",
       "4144    55.665153  \n",
       "...           ...  \n",
       "806614  57.463897  \n",
       "808534   22.77493  \n",
       "809124  16.970527  \n",
       "814132   29.66041  \n",
       "816448  22.808895  \n",
       "\n",
       "[551 rows x 18 columns]"
      ]
     },
     "execution_count": 81,
     "metadata": {},
     "output_type": "execute_result"
    }
   ],
   "source": [
    "# AFIX 551\n",
    "mask0 = ~wiktionary.lemma.str.startswith('-')   \n",
    "mask1 =  wiktionary.lemma.str.endswith('-')  \n",
    "mask2 = ~wiktionary.lemma.str[0].str.isdigit()\n",
    "mask3 =  wiktionary.lemma.str.len() > 1\n",
    "mask4 = ~wiktionary.tag.str.contains(' ')   \n",
    "mask = mask0  &  mask1  &  mask2  &  mask3  &  mask4 \n",
    "pak.check_mask(wiktionary, mask, 551)\n",
    "\n",
    "wiktionary.loc[mask,'tag']    = 'AFIX ' + wiktionary[mask].tag\n",
    "wiktionary.loc[mask,'member'] = pak.remove_str(wiktionary[mask].member, ['Affix'])\n",
    "grid(wiktionary, mask)"
   ]
  },
  {
   "cell_type": "code",
   "execution_count": 82,
   "metadata": {
    "execution": {
     "iopub.execute_input": "2023-03-04T09:32:16.332313Z",
     "iopub.status.busy": "2023-03-04T09:32:16.331928Z",
     "iopub.status.idle": "2023-03-04T09:32:16.816048Z",
     "shell.execute_reply": "2023-03-04T09:32:16.815354Z",
     "shell.execute_reply.started": "2023-03-04T09:32:16.332280Z"
    },
    "tags": []
   },
   "outputs": [
    {
     "name": "stdout",
     "output_type": "stream",
     "text": [
      "check_mask:  1 rows\n"
     ]
    },
    {
     "data": {
      "text/html": [
       "<div>\n",
       "<style scoped>\n",
       "    .dataframe tbody tr th:only-of-type {\n",
       "        vertical-align: middle;\n",
       "    }\n",
       "\n",
       "    .dataframe tbody tr th {\n",
       "        vertical-align: top;\n",
       "    }\n",
       "\n",
       "    .dataframe thead th {\n",
       "        text-align: right;\n",
       "    }\n",
       "</style>\n",
       "<table border=\"1\" class=\"dataframe\">\n",
       "  <thead>\n",
       "    <tr style=\"text-align: right;\">\n",
       "      <th></th>\n",
       "      <th>page_id</th>\n",
       "      <th>page_part</th>\n",
       "      <th>section_id2</th>\n",
       "      <th>title</th>\n",
       "      <th>lemma</th>\n",
       "      <th>inflected</th>\n",
       "      <th>pos</th>\n",
       "      <th>tag</th>\n",
       "      <th>member</th>\n",
       "      <th>rhymes</th>\n",
       "      <th>flexion</th>\n",
       "      <th>ipa</th>\n",
       "      <th>syllables</th>\n",
       "      <th>lang</th>\n",
       "      <th>lang_code</th>\n",
       "      <th>error</th>\n",
       "      <th>lemma_lower</th>\n",
       "      <th>score</th>\n",
       "    </tr>\n",
       "  </thead>\n",
       "  <tbody>\n",
       "    <tr>\n",
       "      <th>20014</th>\n",
       "      <td>50798</td>\n",
       "      <td>0</td>\n",
       "      <td>dar</td>\n",
       "      <td>dar</td>\n",
       "      <td>dar</td>\n",
       "      <td>False</td>\n",
       "      <td>{'Affix': ['Präfix']}</td>\n",
       "      <td>AFIX TRUNC</td>\n",
       "      <td>Präfix</td>\n",
       "      <td>[aːɐ̯]</td>\n",
       "      <td>{}</td>\n",
       "      <td>[daːɐ̯]</td>\n",
       "      <td>[dar]</td>\n",
       "      <td>Deutsch</td>\n",
       "      <td>de</td>\n",
       "      <td></td>\n",
       "      <td>dar</td>\n",
       "      <td>0.507067</td>\n",
       "    </tr>\n",
       "  </tbody>\n",
       "</table>\n",
       "</div>"
      ],
      "text/plain": [
       "       page_id  page_part section_id2 title lemma  inflected  \\\n",
       "20014    50798          0         dar   dar   dar      False   \n",
       "\n",
       "                         pos         tag  member  rhymes flexion      ipa  \\\n",
       "20014  {'Affix': ['Präfix']}  AFIX TRUNC  Präfix  [aːɐ̯]      {}  [daːɐ̯]   \n",
       "\n",
       "      syllables     lang lang_code error lemma_lower     score  \n",
       "20014     [dar]  Deutsch        de               dar  0.507067  "
      ]
     },
     "execution_count": 82,
     "metadata": {},
     "output_type": "execute_result"
    }
   ],
   "source": [
    "# dar: Präfix ohne Bindestrich\n",
    "mask1 = wiktionary.lemma == 'dar'\n",
    "mask2 = wiktionary.member.str.contains('Präfix')\n",
    "mask = mask1  &  mask2\n",
    "pak.check_mask(wiktionary, mask, 1)\n",
    "\n",
    "wiktionary.loc[mask,'tag']    = 'AFIX TRUNC'\n",
    "wiktionary.loc[mask,'member'] = 'Präfix'\n",
    "wiktionary[mask]"
   ]
  },
  {
   "cell_type": "code",
   "execution_count": 83,
   "metadata": {
    "execution": {
     "iopub.execute_input": "2023-03-04T09:32:16.819987Z",
     "iopub.status.busy": "2023-03-04T09:32:16.819661Z",
     "iopub.status.idle": "2023-03-04T09:32:17.298172Z",
     "shell.execute_reply": "2023-03-04T09:32:17.296592Z",
     "shell.execute_reply.started": "2023-03-04T09:32:16.819963Z"
    },
    "tags": []
   },
   "outputs": [
    {
     "name": "stdout",
     "output_type": "stream",
     "text": [
      "check_mask:  552 rows\n",
      "3 rows\n"
     ]
    },
    {
     "data": {
      "text/html": [
       "<div>\n",
       "<style scoped>\n",
       "    .dataframe tbody tr th:only-of-type {\n",
       "        vertical-align: middle;\n",
       "    }\n",
       "\n",
       "    .dataframe tbody tr th {\n",
       "        vertical-align: top;\n",
       "    }\n",
       "\n",
       "    .dataframe thead th {\n",
       "        text-align: right;\n",
       "    }\n",
       "</style>\n",
       "<table border=\"1\" class=\"dataframe\">\n",
       "  <thead>\n",
       "    <tr style=\"text-align: right;\">\n",
       "      <th></th>\n",
       "      <th>member</th>\n",
       "      <th>member_count</th>\n",
       "      <th>member_percent</th>\n",
       "      <th>lemma</th>\n",
       "    </tr>\n",
       "  </thead>\n",
       "  <tbody>\n",
       "    <tr>\n",
       "      <th>0</th>\n",
       "      <td>Gebundenes_Lexem</td>\n",
       "      <td>378</td>\n",
       "      <td>68.5</td>\n",
       "      <td>[tele-, Allround-, Atto-, Breitband-, Dezi-, Exa-, Femto-, Giga-, Hekto-, Kilo-, Kurzzeit-, Langzeit-, Lieblings-, Möchtegern-, Nachkriegs-, Nano-, Nullachtfünfzehn-, Peta-, Piko-, Polit-]</td>\n",
       "    </tr>\n",
       "    <tr>\n",
       "      <th>1</th>\n",
       "      <td>Präfix</td>\n",
       "      <td>144</td>\n",
       "      <td>26.1</td>\n",
       "      <td>[a-, ab-, an-, über-, Haupt-, Ingen-, abs-, ac-, ad-, af-, ag-, ak-, al-, anti-, ap-, ar-, as-, at-, auf-, aus-]</td>\n",
       "    </tr>\n",
       "    <tr>\n",
       "      <th>2</th>\n",
       "      <td>Präfixoid</td>\n",
       "      <td>30</td>\n",
       "      <td>5.4</td>\n",
       "      <td>[Allerwelts-, Bilderbuch-, Duodez-, General-, Heiden-, Mammut-, Nobel-, Operetten-, Pilot-, Quadrat-, Schmalspur-, Vollblut-, Westentaschen-, arsch-, bomben-, bären-, erz-, granaten-, grund-, hunde-]</td>\n",
       "    </tr>\n",
       "  </tbody>\n",
       "</table>\n",
       "</div>"
      ],
      "text/plain": [
       "             member  member_count  member_percent  \\\n",
       "0  Gebundenes_Lexem           378            68.5   \n",
       "1            Präfix           144            26.1   \n",
       "2         Präfixoid            30             5.4   \n",
       "\n",
       "                                                                                                                                                                                                     lemma  \n",
       "0             [tele-, Allround-, Atto-, Breitband-, Dezi-, Exa-, Femto-, Giga-, Hekto-, Kilo-, Kurzzeit-, Langzeit-, Lieblings-, Möchtegern-, Nachkriegs-, Nano-, Nullachtfünfzehn-, Peta-, Piko-, Polit-]  \n",
       "1                                                                                         [a-, ab-, an-, über-, Haupt-, Ingen-, abs-, ac-, ad-, af-, ag-, ak-, al-, anti-, ap-, ar-, as-, at-, auf-, aus-]  \n",
       "2  [Allerwelts-, Bilderbuch-, Duodez-, General-, Heiden-, Mammut-, Nobel-, Operetten-, Pilot-, Quadrat-, Schmalspur-, Vollblut-, Westentaschen-, arsch-, bomben-, bären-, erz-, granaten-, grund-, hunde-]  "
      ]
     },
     "execution_count": 83,
     "metadata": {},
     "output_type": "execute_result"
    }
   ],
   "source": [
    "# Kontrolle und Statistik AFIX\n",
    "mask_AFIX = wiktionary.tag.str.contains('AFIX')\n",
    "a = wiktionary[mask_AFIX].sort_values(['section_id2'])\n",
    "mask = a.tag != 'AFIX TRUNC'\n",
    "check_mask(a,0)\n",
    "\n",
    "df = pak.analyse_freqs(a, ['member','lemma'])\n",
    "df = pak.drop_cols(df,'lemma_count')\n",
    "grid(df)"
   ]
  },
  {
   "cell_type": "markdown",
   "metadata": {},
   "source": [
    "### Suffix"
   ]
  },
  {
   "cell_type": "code",
   "execution_count": 84,
   "metadata": {
    "execution": {
     "iopub.execute_input": "2023-03-04T09:32:17.299892Z",
     "iopub.status.busy": "2023-03-04T09:32:17.299537Z",
     "iopub.status.idle": "2023-03-04T09:32:18.783576Z",
     "shell.execute_reply": "2023-03-04T09:32:18.782625Z",
     "shell.execute_reply.started": "2023-03-04T09:32:17.299858Z"
    }
   },
   "outputs": [
    {
     "name": "stdout",
     "output_type": "stream",
     "text": [
      "check_mask:  480 rows\n",
      "480 rows out of 837038\n"
     ]
    },
    {
     "data": {
      "text/html": [
       "<div>\n",
       "<style scoped>\n",
       "    .dataframe tbody tr th:only-of-type {\n",
       "        vertical-align: middle;\n",
       "    }\n",
       "\n",
       "    .dataframe tbody tr th {\n",
       "        vertical-align: top;\n",
       "    }\n",
       "\n",
       "    .dataframe thead th {\n",
       "        text-align: right;\n",
       "    }\n",
       "</style>\n",
       "<table border=\"1\" class=\"dataframe\">\n",
       "  <thead>\n",
       "    <tr style=\"text-align: right;\">\n",
       "      <th></th>\n",
       "      <th>page_id</th>\n",
       "      <th>page_part</th>\n",
       "      <th>section_id2</th>\n",
       "      <th>title</th>\n",
       "      <th>lemma</th>\n",
       "      <th>inflected</th>\n",
       "      <th>pos</th>\n",
       "      <th>tag</th>\n",
       "      <th>member</th>\n",
       "      <th>rhymes</th>\n",
       "      <th>flexion</th>\n",
       "      <th>ipa</th>\n",
       "      <th>syllables</th>\n",
       "      <th>lang</th>\n",
       "      <th>lang_code</th>\n",
       "      <th>error</th>\n",
       "      <th>lemma_lower</th>\n",
       "      <th>score</th>\n",
       "    </tr>\n",
       "  </thead>\n",
       "  <tbody>\n",
       "    <tr>\n",
       "      <th>1483</th>\n",
       "      <td>2140</td>\n",
       "      <td>0</td>\n",
       "      <td>-ow</td>\n",
       "      <td>-ow</td>\n",
       "      <td>-ow</td>\n",
       "      <td>False</td>\n",
       "      <td>{'Affix': ['Suffix']}</td>\n",
       "      <td>ZFIX TRUNC</td>\n",
       "      <td>Suffix</td>\n",
       "      <td>NaN</td>\n",
       "      <td>{}</td>\n",
       "      <td>[oː]</td>\n",
       "      <td>[ow]</td>\n",
       "      <td>Deutsch</td>\n",
       "      <td>de</td>\n",
       "      <td></td>\n",
       "      <td>-ow</td>\n",
       "      <td>41.706392</td>\n",
       "    </tr>\n",
       "    <tr>\n",
       "      <th>3151</th>\n",
       "      <td>4533</td>\n",
       "      <td>0</td>\n",
       "      <td>-in</td>\n",
       "      <td>-in</td>\n",
       "      <td>-in</td>\n",
       "      <td>False</td>\n",
       "      <td>{'Substantiv': [], 'Affix': ['Suffix']}</td>\n",
       "      <td>ZFIX TRUNC</td>\n",
       "      <td>Substantiv  Suffix</td>\n",
       "      <td>NaN</td>\n",
       "      <td>{'Genus': ['f'], 'Nominativ Singular': ['-in'], 'Nominativ Plural': ['-innen'], 'Genitiv Singular': ['-in'], 'Genitiv Plural': ['-innen'], 'Dativ Singular': ['-in'], 'Dativ Plural': ['-innen'], 'Akkusativ Singular': ['-in'], 'Akkusativ Plural': ['-innen']}</td>\n",
       "      <td>[ɪn]</td>\n",
       "      <td>[in]</td>\n",
       "      <td>Deutsch</td>\n",
       "      <td>de</td>\n",
       "      <td></td>\n",
       "      <td>-in</td>\n",
       "      <td>54.969846</td>\n",
       "    </tr>\n",
       "    <tr>\n",
       "      <th>3152</th>\n",
       "      <td>4533</td>\n",
       "      <td>1</td>\n",
       "      <td>-in_1</td>\n",
       "      <td>-in</td>\n",
       "      <td>-in</td>\n",
       "      <td>False</td>\n",
       "      <td>{'Affix': ['Suffix']}</td>\n",
       "      <td>ZFIX TRUNC</td>\n",
       "      <td>Suffix</td>\n",
       "      <td>NaN</td>\n",
       "      <td>{}</td>\n",
       "      <td>[ˈiːn, in]</td>\n",
       "      <td>[in]</td>\n",
       "      <td>Deutsch</td>\n",
       "      <td>de</td>\n",
       "      <td></td>\n",
       "      <td>-in</td>\n",
       "      <td>2.844091</td>\n",
       "    </tr>\n",
       "    <tr>\n",
       "      <th>3153</th>\n",
       "      <td>4533</td>\n",
       "      <td>2</td>\n",
       "      <td>-in_2</td>\n",
       "      <td>-in</td>\n",
       "      <td>-in</td>\n",
       "      <td>False</td>\n",
       "      <td>{'Affix': ['Suffix']}</td>\n",
       "      <td>ZFIX TRUNC</td>\n",
       "      <td>Suffix</td>\n",
       "      <td>NaN</td>\n",
       "      <td>{}</td>\n",
       "      <td>[iːn]</td>\n",
       "      <td>[in]</td>\n",
       "      <td>Deutsch</td>\n",
       "      <td>de</td>\n",
       "      <td></td>\n",
       "      <td>-in</td>\n",
       "      <td>2.398567</td>\n",
       "    </tr>\n",
       "    <tr>\n",
       "      <th>4875</th>\n",
       "      <td>7314</td>\n",
       "      <td>0</td>\n",
       "      <td>-zid</td>\n",
       "      <td>-zid</td>\n",
       "      <td>-zid</td>\n",
       "      <td>False</td>\n",
       "      <td>{'Gebundenes Lexem': []}</td>\n",
       "      <td>ZFIX TRUNC</td>\n",
       "      <td>Gebundenes_Lexem</td>\n",
       "      <td>NaN</td>\n",
       "      <td>{}</td>\n",
       "      <td>[-t͡siːt]</td>\n",
       "      <td>[zid]</td>\n",
       "      <td>Deutsch</td>\n",
       "      <td>de</td>\n",
       "      <td></td>\n",
       "      <td>-zid</td>\n",
       "      <td>44.211765</td>\n",
       "    </tr>\n",
       "    <tr>\n",
       "      <th>...</th>\n",
       "      <td>...</td>\n",
       "      <td>...</td>\n",
       "      <td>...</td>\n",
       "      <td>...</td>\n",
       "      <td>...</td>\n",
       "      <td>...</td>\n",
       "      <td>...</td>\n",
       "      <td>...</td>\n",
       "      <td>...</td>\n",
       "      <td>...</td>\n",
       "      <td>...</td>\n",
       "      <td>...</td>\n",
       "      <td>...</td>\n",
       "      <td>...</td>\n",
       "      <td>...</td>\n",
       "      <td>...</td>\n",
       "      <td>...</td>\n",
       "      <td>...</td>\n",
       "    </tr>\n",
       "    <tr>\n",
       "      <th>818059</th>\n",
       "      <td>1092226</td>\n",
       "      <td>0</td>\n",
       "      <td>-hältig</td>\n",
       "      <td>-hältig</td>\n",
       "      <td>-hältig</td>\n",
       "      <td>False</td>\n",
       "      <td>{'Affix': ['Suffix']}</td>\n",
       "      <td>ZFIX TRUNC</td>\n",
       "      <td>Suffix</td>\n",
       "      <td>NaN</td>\n",
       "      <td>{}</td>\n",
       "      <td>[ˌhɛltɪç, ˌhɛltɪk]</td>\n",
       "      <td>[häl, tig]</td>\n",
       "      <td>Deutsch</td>\n",
       "      <td>de</td>\n",
       "      <td></td>\n",
       "      <td>-hältig</td>\n",
       "      <td>77.039135</td>\n",
       "    </tr>\n",
       "    <tr>\n",
       "      <th>818239</th>\n",
       "      <td>1092548</td>\n",
       "      <td>0</td>\n",
       "      <td>-halber</td>\n",
       "      <td>-halber</td>\n",
       "      <td>-halber</td>\n",
       "      <td>False</td>\n",
       "      <td>{'Affix': ['Suffix']}</td>\n",
       "      <td>ZFIX TRUNC</td>\n",
       "      <td>Suffix</td>\n",
       "      <td>NaN</td>\n",
       "      <td>{}</td>\n",
       "      <td>[ˈhalbɐ]</td>\n",
       "      <td>[hal, ber]</td>\n",
       "      <td>Deutsch</td>\n",
       "      <td>de</td>\n",
       "      <td></td>\n",
       "      <td>-halber</td>\n",
       "      <td>6.837396</td>\n",
       "    </tr>\n",
       "    <tr>\n",
       "      <th>828638</th>\n",
       "      <td>1106151</td>\n",
       "      <td>0</td>\n",
       "      <td>-biont</td>\n",
       "      <td>-biont</td>\n",
       "      <td>-biont</td>\n",
       "      <td>False</td>\n",
       "      <td>{'Gebundenes Lexem': []}</td>\n",
       "      <td>ZFIX TRUNC</td>\n",
       "      <td>Gebundenes_Lexem</td>\n",
       "      <td>NaN</td>\n",
       "      <td>{}</td>\n",
       "      <td>[ˈbi̯ɔnt]</td>\n",
       "      <td>[bi, ont]</td>\n",
       "      <td>Deutsch</td>\n",
       "      <td>de</td>\n",
       "      <td></td>\n",
       "      <td>-biont</td>\n",
       "      <td>16.294325</td>\n",
       "    </tr>\n",
       "    <tr>\n",
       "      <th>829642</th>\n",
       "      <td>1107769</td>\n",
       "      <td>0</td>\n",
       "      <td>-seits</td>\n",
       "      <td>-seits</td>\n",
       "      <td>-seits</td>\n",
       "      <td>False</td>\n",
       "      <td>{'Affix': ['Suffix']}</td>\n",
       "      <td>ZFIX TRUNC</td>\n",
       "      <td>Suffix</td>\n",
       "      <td>NaN</td>\n",
       "      <td>{}</td>\n",
       "      <td>[zaɪ̯ts]</td>\n",
       "      <td>[seits]</td>\n",
       "      <td>Deutsch</td>\n",
       "      <td>de</td>\n",
       "      <td></td>\n",
       "      <td>-seits</td>\n",
       "      <td>29.78781</td>\n",
       "    </tr>\n",
       "    <tr>\n",
       "      <th>830209</th>\n",
       "      <td>1108535</td>\n",
       "      <td>0</td>\n",
       "      <td>-seitig</td>\n",
       "      <td>-seitig</td>\n",
       "      <td>-seitig</td>\n",
       "      <td>False</td>\n",
       "      <td>{'Affix': ['Suffix']}</td>\n",
       "      <td>ZFIX TRUNC</td>\n",
       "      <td>Suffix</td>\n",
       "      <td>NaN</td>\n",
       "      <td>{}</td>\n",
       "      <td>[zaɪ̯tɪç]</td>\n",
       "      <td>[sei, tig]</td>\n",
       "      <td>Deutsch</td>\n",
       "      <td>de</td>\n",
       "      <td></td>\n",
       "      <td>-seitig</td>\n",
       "      <td>13.620291</td>\n",
       "    </tr>\n",
       "  </tbody>\n",
       "</table>\n",
       "<p>480 rows × 18 columns</p>\n",
       "</div>"
      ],
      "text/plain": [
       "        page_id  page_part section_id2    title    lemma  inflected  \\\n",
       "1483       2140          0         -ow      -ow      -ow      False   \n",
       "3151       4533          0         -in      -in      -in      False   \n",
       "3152       4533          1       -in_1      -in      -in      False   \n",
       "3153       4533          2       -in_2      -in      -in      False   \n",
       "4875       7314          0        -zid     -zid     -zid      False   \n",
       "...         ...        ...         ...      ...      ...        ...   \n",
       "818059  1092226          0     -hältig  -hältig  -hältig      False   \n",
       "818239  1092548          0     -halber  -halber  -halber      False   \n",
       "828638  1106151          0      -biont   -biont   -biont      False   \n",
       "829642  1107769          0      -seits   -seits   -seits      False   \n",
       "830209  1108535          0     -seitig  -seitig  -seitig      False   \n",
       "\n",
       "                                            pos         tag  \\\n",
       "1483                      {'Affix': ['Suffix']}  ZFIX TRUNC   \n",
       "3151    {'Substantiv': [], 'Affix': ['Suffix']}  ZFIX TRUNC   \n",
       "3152                      {'Affix': ['Suffix']}  ZFIX TRUNC   \n",
       "3153                      {'Affix': ['Suffix']}  ZFIX TRUNC   \n",
       "4875                   {'Gebundenes Lexem': []}  ZFIX TRUNC   \n",
       "...                                         ...         ...   \n",
       "818059                    {'Affix': ['Suffix']}  ZFIX TRUNC   \n",
       "818239                    {'Affix': ['Suffix']}  ZFIX TRUNC   \n",
       "828638                 {'Gebundenes Lexem': []}  ZFIX TRUNC   \n",
       "829642                    {'Affix': ['Suffix']}  ZFIX TRUNC   \n",
       "830209                    {'Affix': ['Suffix']}  ZFIX TRUNC   \n",
       "\n",
       "                    member rhymes  \\\n",
       "1483                Suffix    NaN   \n",
       "3151    Substantiv  Suffix    NaN   \n",
       "3152                Suffix    NaN   \n",
       "3153                Suffix    NaN   \n",
       "4875      Gebundenes_Lexem    NaN   \n",
       "...                    ...    ...   \n",
       "818059              Suffix    NaN   \n",
       "818239              Suffix    NaN   \n",
       "828638    Gebundenes_Lexem    NaN   \n",
       "829642              Suffix    NaN   \n",
       "830209              Suffix    NaN   \n",
       "\n",
       "                                                                                                                                                                                                                                                                 flexion  \\\n",
       "1483                                                                                                                                                                                                                                                                  {}   \n",
       "3151    {'Genus': ['f'], 'Nominativ Singular': ['-in'], 'Nominativ Plural': ['-innen'], 'Genitiv Singular': ['-in'], 'Genitiv Plural': ['-innen'], 'Dativ Singular': ['-in'], 'Dativ Plural': ['-innen'], 'Akkusativ Singular': ['-in'], 'Akkusativ Plural': ['-innen']}   \n",
       "3152                                                                                                                                                                                                                                                                  {}   \n",
       "3153                                                                                                                                                                                                                                                                  {}   \n",
       "4875                                                                                                                                                                                                                                                                  {}   \n",
       "...                                                                                                                                                                                                                                                                  ...   \n",
       "818059                                                                                                                                                                                                                                                                {}   \n",
       "818239                                                                                                                                                                                                                                                                {}   \n",
       "828638                                                                                                                                                                                                                                                                {}   \n",
       "829642                                                                                                                                                                                                                                                                {}   \n",
       "830209                                                                                                                                                                                                                                                                {}   \n",
       "\n",
       "                       ipa   syllables     lang lang_code error lemma_lower  \\\n",
       "1483                  [oː]        [ow]  Deutsch        de               -ow   \n",
       "3151                  [ɪn]        [in]  Deutsch        de               -in   \n",
       "3152            [ˈiːn, in]        [in]  Deutsch        de               -in   \n",
       "3153                 [iːn]        [in]  Deutsch        de               -in   \n",
       "4875             [-t͡siːt]       [zid]  Deutsch        de              -zid   \n",
       "...                    ...         ...      ...       ...   ...         ...   \n",
       "818059  [ˌhɛltɪç, ˌhɛltɪk]  [häl, tig]  Deutsch        de           -hältig   \n",
       "818239            [ˈhalbɐ]  [hal, ber]  Deutsch        de           -halber   \n",
       "828638           [ˈbi̯ɔnt]   [bi, ont]  Deutsch        de            -biont   \n",
       "829642            [zaɪ̯ts]     [seits]  Deutsch        de            -seits   \n",
       "830209           [zaɪ̯tɪç]  [sei, tig]  Deutsch        de           -seitig   \n",
       "\n",
       "            score  \n",
       "1483    41.706392  \n",
       "3151    54.969846  \n",
       "3152     2.844091  \n",
       "3153     2.398567  \n",
       "4875    44.211765  \n",
       "...           ...  \n",
       "818059  77.039135  \n",
       "818239   6.837396  \n",
       "828638  16.294325  \n",
       "829642   29.78781  \n",
       "830209  13.620291  \n",
       "\n",
       "[480 rows x 18 columns]"
      ]
     },
     "execution_count": 84,
     "metadata": {},
     "output_type": "execute_result"
    }
   ],
   "source": [
    "# ZFIX 480\n",
    "mask0 =  wiktionary.lemma.str.startswith('-')\n",
    "mask1 = ~wiktionary.lemma.str.endswith('-')\n",
    "mask2 = ~wiktionary.lemma.str[-1].str.isdigit()\n",
    "mask3 =  wiktionary.lemma.str.len() > 1\n",
    "mask4 = ~wiktionary.tag.str.contains(' ')   \n",
    "mask = mask0  &  mask1  &  mask2  &  mask3  &  mask4 \n",
    "pak.check_mask(wiktionary, mask, 480)\n",
    "\n",
    "wiktionary.loc[mask, 'tag']   = 'ZFIX ' + wiktionary[mask].tag\n",
    "wiktionary.loc[mask,'member'] = pak.remove_str(wiktionary[mask].member, ['Affix'])\n",
    "grid(wiktionary, mask)"
   ]
  },
  {
   "cell_type": "code",
   "execution_count": 85,
   "metadata": {
    "execution": {
     "iopub.execute_input": "2023-03-04T09:32:18.784998Z",
     "iopub.status.busy": "2023-03-04T09:32:18.784677Z",
     "iopub.status.idle": "2023-03-04T09:32:19.230821Z",
     "shell.execute_reply": "2023-03-04T09:32:19.230075Z",
     "shell.execute_reply.started": "2023-03-04T09:32:18.784970Z"
    },
    "tags": []
   },
   "outputs": [
    {
     "name": "stdout",
     "output_type": "stream",
     "text": [
      "check_mask:  480 rows\n",
      "15 rows\n"
     ]
    },
    {
     "data": {
      "text/html": [
       "<div>\n",
       "<style scoped>\n",
       "    .dataframe tbody tr th:only-of-type {\n",
       "        vertical-align: middle;\n",
       "    }\n",
       "\n",
       "    .dataframe tbody tr th {\n",
       "        vertical-align: top;\n",
       "    }\n",
       "\n",
       "    .dataframe thead th {\n",
       "        text-align: right;\n",
       "    }\n",
       "</style>\n",
       "<table border=\"1\" class=\"dataframe\">\n",
       "  <thead>\n",
       "    <tr style=\"text-align: right;\">\n",
       "      <th></th>\n",
       "      <th>member</th>\n",
       "      <th>member_count</th>\n",
       "      <th>member_percent</th>\n",
       "      <th>lemma</th>\n",
       "    </tr>\n",
       "  </thead>\n",
       "  <tbody>\n",
       "    <tr>\n",
       "      <th>0</th>\n",
       "      <td>Suffix</td>\n",
       "      <td>137</td>\n",
       "      <td>28.5</td>\n",
       "      <td>[-en, -in, -ab, -aceae, -ade, -affin, -age, -al, -ales, -an, -ar, -arisch, -arm, -at, -ation, -au, -bar, -basiert, -blütig, -brüstig]</td>\n",
       "    </tr>\n",
       "    <tr>\n",
       "      <th>1</th>\n",
       "      <td>Gebundenes_Lexem</td>\n",
       "      <td>102</td>\n",
       "      <td>21.2</td>\n",
       "      <td>[-gon, -and, -arch, -archie, -arium, -artig, -artige, -ase, -bedürftig, -biont, -bräu, -cele, -chinesisch, -chorie, -coel, -cöl, -derm, -dermie, -drom, -echt]</td>\n",
       "    </tr>\n",
       "    <tr>\n",
       "      <th>2</th>\n",
       "      <td>Ortsnamengrundwort</td>\n",
       "      <td>94</td>\n",
       "      <td>19.6</td>\n",
       "      <td>[-a, -ach, -au, -aue, -bach, -beck, -bek, -berg, -borg, -born, -broich, -brunn, -brunnen, -brück, -brücke, -brügge, -burg, -busch, -by, -dal]</td>\n",
       "    </tr>\n",
       "    <tr>\n",
       "      <th>3</th>\n",
       "      <td>Deklinierte_Form</td>\n",
       "      <td>77</td>\n",
       "      <td>16.0</td>\n",
       "      <td>[-abel, -ibel, -jährig, -sal, -ant, -ier, -ling, -tum, -er, -meter, -algie, -anz, -chen, -elchen, -enz, -erchen, -ette, -gate, -heit, -in]</td>\n",
       "    </tr>\n",
       "    <tr>\n",
       "      <th>4</th>\n",
       "      <td>Substantiv  Suffix</td>\n",
       "      <td>23</td>\n",
       "      <td>4.8</td>\n",
       "      <td>[-ier, -ant, -anz, -chen, -elchen, -enz, -er, -erchen, -ette, -heit, -in, -ismus, -keit, -kunde, -le, -lein, -ling, -sal, -schaft, -stan]</td>\n",
       "    </tr>\n",
       "    <tr>\n",
       "      <th>5</th>\n",
       "      <td>Substantiv Gebundenes_Lexem</td>\n",
       "      <td>13</td>\n",
       "      <td>2.7</td>\n",
       "      <td>[-meter, -algie, -loge, -logie, -manie, -mantie, -phagie, -philie, -phobie, -schrecke, -skopie, -urie]</td>\n",
       "    </tr>\n",
       "    <tr>\n",
       "      <th>6</th>\n",
       "      <td>Suffixoid</td>\n",
       "      <td>7</td>\n",
       "      <td>1.5</td>\n",
       "      <td>[-fritze, -hai, -heini, -mäßig, -schwanger, -tiger, -trächtig]</td>\n",
       "    </tr>\n",
       "    <tr>\n",
       "      <th>7</th>\n",
       "      <td>Superlativ Adjektiv</td>\n",
       "      <td>6</td>\n",
       "      <td>1.2</td>\n",
       "      <td>[-abel, -ant, -ell, -fähig, -ibel, -lastig]</td>\n",
       "    </tr>\n",
       "    <tr>\n",
       "      <th>8</th>\n",
       "      <td>Komparativ Adjektiv</td>\n",
       "      <td>6</td>\n",
       "      <td>1.2</td>\n",
       "      <td>[-abel, -ant, -ell, -fähig, -ibel, -lastig]</td>\n",
       "    </tr>\n",
       "    <tr>\n",
       "      <th>9</th>\n",
       "      <td>Verb  Suffix</td>\n",
       "      <td>5</td>\n",
       "      <td>1.0</td>\n",
       "      <td>[-el, -fizier, -ier, -ig, -zen]</td>\n",
       "    </tr>\n",
       "    <tr>\n",
       "      <th>10</th>\n",
       "      <td></td>\n",
       "      <td>4</td>\n",
       "      <td>0.8</td>\n",
       "      <td>[-e, -es, -n, -ns]</td>\n",
       "    </tr>\n",
       "    <tr>\n",
       "      <th>11</th>\n",
       "      <td>Adjektiv  Suffix</td>\n",
       "      <td>2</td>\n",
       "      <td>0.4</td>\n",
       "      <td>[-abel, -ibel]</td>\n",
       "    </tr>\n",
       "    <tr>\n",
       "      <th>12</th>\n",
       "      <td>Pronomen Personalpronomen</td>\n",
       "      <td>2</td>\n",
       "      <td>0.4</td>\n",
       "      <td>[-e, -se]</td>\n",
       "    </tr>\n",
       "    <tr>\n",
       "      <th>13</th>\n",
       "      <td>Adjektiv Gebundenes_Lexem</td>\n",
       "      <td>1</td>\n",
       "      <td>0.2</td>\n",
       "      <td>-jährig</td>\n",
       "    </tr>\n",
       "    <tr>\n",
       "      <th>14</th>\n",
       "      <td>Interfix</td>\n",
       "      <td>1</td>\n",
       "      <td>0.2</td>\n",
       "      <td>-s</td>\n",
       "    </tr>\n",
       "  </tbody>\n",
       "</table>\n",
       "</div>"
      ],
      "text/plain": [
       "                         member  member_count  member_percent  \\\n",
       "0                        Suffix           137            28.5   \n",
       "1              Gebundenes_Lexem           102            21.2   \n",
       "2            Ortsnamengrundwort            94            19.6   \n",
       "3              Deklinierte_Form            77            16.0   \n",
       "4            Substantiv  Suffix            23             4.8   \n",
       "5   Substantiv Gebundenes_Lexem            13             2.7   \n",
       "6                     Suffixoid             7             1.5   \n",
       "7           Superlativ Adjektiv             6             1.2   \n",
       "8           Komparativ Adjektiv             6             1.2   \n",
       "9                  Verb  Suffix             5             1.0   \n",
       "10                                          4             0.8   \n",
       "11             Adjektiv  Suffix             2             0.4   \n",
       "12    Pronomen Personalpronomen             2             0.4   \n",
       "13    Adjektiv Gebundenes_Lexem             1             0.2   \n",
       "14                     Interfix             1             0.2   \n",
       "\n",
       "                                                                                                                                                             lemma  \n",
       "0                            [-en, -in, -ab, -aceae, -ade, -affin, -age, -al, -ales, -an, -ar, -arisch, -arm, -at, -ation, -au, -bar, -basiert, -blütig, -brüstig]  \n",
       "1   [-gon, -and, -arch, -archie, -arium, -artig, -artige, -ase, -bedürftig, -biont, -bräu, -cele, -chinesisch, -chorie, -coel, -cöl, -derm, -dermie, -drom, -echt]  \n",
       "2                    [-a, -ach, -au, -aue, -bach, -beck, -bek, -berg, -borg, -born, -broich, -brunn, -brunnen, -brück, -brücke, -brügge, -burg, -busch, -by, -dal]  \n",
       "3                       [-abel, -ibel, -jährig, -sal, -ant, -ier, -ling, -tum, -er, -meter, -algie, -anz, -chen, -elchen, -enz, -erchen, -ette, -gate, -heit, -in]  \n",
       "4                        [-ier, -ant, -anz, -chen, -elchen, -enz, -er, -erchen, -ette, -heit, -in, -ismus, -keit, -kunde, -le, -lein, -ling, -sal, -schaft, -stan]  \n",
       "5                                                           [-meter, -algie, -loge, -logie, -manie, -mantie, -phagie, -philie, -phobie, -schrecke, -skopie, -urie]  \n",
       "6                                                                                                   [-fritze, -hai, -heini, -mäßig, -schwanger, -tiger, -trächtig]  \n",
       "7                                                                                                                      [-abel, -ant, -ell, -fähig, -ibel, -lastig]  \n",
       "8                                                                                                                      [-abel, -ant, -ell, -fähig, -ibel, -lastig]  \n",
       "9                                                                                                                                  [-el, -fizier, -ier, -ig, -zen]  \n",
       "10                                                                                                                                              [-e, -es, -n, -ns]  \n",
       "11                                                                                                                                                  [-abel, -ibel]  \n",
       "12                                                                                                                                                       [-e, -se]  \n",
       "13                                                                                                                                                         -jährig  \n",
       "14                                                                                                                                                              -s  "
      ]
     },
     "execution_count": 85,
     "metadata": {},
     "output_type": "execute_result"
    }
   ],
   "source": [
    "# Kontrolle und Statistik ZFIX\n",
    "mask_ZFIX = wiktionary.tag.str.contains('ZFIX')\n",
    "a = wiktionary[mask_ZFIX].sort_values(['section_id2'])\n",
    "mask = a.tag != 'ZFIX TRUNC'\n",
    "check_mask(a,0)\n",
    "\n",
    "df = pak.analyse_freqs(a, ['member','lemma'])\n",
    "df = pak.drop_cols(df,'lemma_count')\n",
    "grid(df)"
   ]
  },
  {
   "cell_type": "markdown",
   "metadata": {},
   "source": [
    "### Sonstige"
   ]
  },
  {
   "cell_type": "code",
   "execution_count": 86,
   "metadata": {
    "execution": {
     "iopub.execute_input": "2023-03-04T09:32:19.236112Z",
     "iopub.status.busy": "2023-03-04T09:32:19.233503Z",
     "iopub.status.idle": "2023-03-04T09:32:21.289731Z",
     "shell.execute_reply": "2023-03-04T09:32:21.288992Z",
     "shell.execute_reply.started": "2023-03-04T09:32:19.236075Z"
    }
   },
   "outputs": [
    {
     "name": "stdout",
     "output_type": "stream",
     "text": [
      "check_mask:  4 rows\n",
      "Move 4 rows from 837038\n",
      "4 rows out of 4711\n"
     ]
    },
    {
     "data": {
      "text/html": [
       "<div>\n",
       "<style scoped>\n",
       "    .dataframe tbody tr th:only-of-type {\n",
       "        vertical-align: middle;\n",
       "    }\n",
       "\n",
       "    .dataframe tbody tr th {\n",
       "        vertical-align: top;\n",
       "    }\n",
       "\n",
       "    .dataframe thead th {\n",
       "        text-align: right;\n",
       "    }\n",
       "</style>\n",
       "<table border=\"1\" class=\"dataframe\">\n",
       "  <thead>\n",
       "    <tr style=\"text-align: right;\">\n",
       "      <th></th>\n",
       "      <th>page_id</th>\n",
       "      <th>page_part</th>\n",
       "      <th>section_id2</th>\n",
       "      <th>title</th>\n",
       "      <th>lemma</th>\n",
       "      <th>inflected</th>\n",
       "      <th>pos</th>\n",
       "      <th>rhymes</th>\n",
       "      <th>section_len</th>\n",
       "      <th>flexion</th>\n",
       "      <th>ipa</th>\n",
       "      <th>syllables</th>\n",
       "      <th>lang</th>\n",
       "      <th>lang_code</th>\n",
       "      <th>msg</th>\n",
       "      <th>error</th>\n",
       "      <th>lemma_lower</th>\n",
       "      <th>score</th>\n",
       "      <th>tag</th>\n",
       "      <th>member</th>\n",
       "    </tr>\n",
       "  </thead>\n",
       "  <tbody>\n",
       "    <tr>\n",
       "      <th>44323</th>\n",
       "      <td>116824</td>\n",
       "      <td>0</td>\n",
       "      <td>-acid-</td>\n",
       "      <td>-acid-</td>\n",
       "      <td>-acid-</td>\n",
       "      <td>False</td>\n",
       "      <td>{'Gebundenes Lexem': []}</td>\n",
       "      <td>NaN</td>\n",
       "      <td>&lt;NA&gt;</td>\n",
       "      <td>{}</td>\n",
       "      <td>[at͡siːt]</td>\n",
       "      <td>[acid]</td>\n",
       "      <td>Deutsch</td>\n",
       "      <td>de</td>\n",
       "      <td>MFIX</td>\n",
       "      <td></td>\n",
       "      <td>-acid-</td>\n",
       "      <td>12.438816</td>\n",
       "      <td>TRUNC</td>\n",
       "      <td>Gebundenes_Lexem</td>\n",
       "    </tr>\n",
       "    <tr>\n",
       "      <th>44332</th>\n",
       "      <td>116859</td>\n",
       "      <td>0</td>\n",
       "      <td>-azid-</td>\n",
       "      <td>-azid-</td>\n",
       "      <td>-azid-</td>\n",
       "      <td>False</td>\n",
       "      <td>{'Gebundenes Lexem': []}</td>\n",
       "      <td>NaN</td>\n",
       "      <td>&lt;NA&gt;</td>\n",
       "      <td>{}</td>\n",
       "      <td>[at͡siːt]</td>\n",
       "      <td>[azid]</td>\n",
       "      <td>Deutsch</td>\n",
       "      <td>de</td>\n",
       "      <td>MFIX</td>\n",
       "      <td></td>\n",
       "      <td>-azid-</td>\n",
       "      <td>14.687436</td>\n",
       "      <td>TRUNC</td>\n",
       "      <td>Gebundenes_Lexem</td>\n",
       "    </tr>\n",
       "    <tr>\n",
       "      <th>369954</th>\n",
       "      <td>556685</td>\n",
       "      <td>0</td>\n",
       "      <td>-o-</td>\n",
       "      <td>-o-</td>\n",
       "      <td>-o-</td>\n",
       "      <td>False</td>\n",
       "      <td>{'Affix': ['Interfix']}</td>\n",
       "      <td>NaN</td>\n",
       "      <td>&lt;NA&gt;</td>\n",
       "      <td>{}</td>\n",
       "      <td>[o]</td>\n",
       "      <td>[o]</td>\n",
       "      <td>Deutsch</td>\n",
       "      <td>de</td>\n",
       "      <td>MFIX</td>\n",
       "      <td></td>\n",
       "      <td>-o-</td>\n",
       "      <td>12.735281</td>\n",
       "      <td>TRUNC</td>\n",
       "      <td>Affix Interfix</td>\n",
       "    </tr>\n",
       "    <tr>\n",
       "      <th>369955</th>\n",
       "      <td>556686</td>\n",
       "      <td>0</td>\n",
       "      <td>-i-</td>\n",
       "      <td>-i-</td>\n",
       "      <td>-i-</td>\n",
       "      <td>False</td>\n",
       "      <td>{'Affix': ['Interfix']}</td>\n",
       "      <td>NaN</td>\n",
       "      <td>&lt;NA&gt;</td>\n",
       "      <td>{}</td>\n",
       "      <td>[iː]</td>\n",
       "      <td>[i]</td>\n",
       "      <td>Deutsch</td>\n",
       "      <td>de</td>\n",
       "      <td>MFIX</td>\n",
       "      <td></td>\n",
       "      <td>-i-</td>\n",
       "      <td>12.140166</td>\n",
       "      <td>TRUNC</td>\n",
       "      <td>Affix Interfix</td>\n",
       "    </tr>\n",
       "  </tbody>\n",
       "</table>\n",
       "</div>"
      ],
      "text/plain": [
       "        page_id  page_part section_id2   title   lemma  inflected  \\\n",
       "44323    116824          0      -acid-  -acid-  -acid-      False   \n",
       "44332    116859          0      -azid-  -azid-  -azid-      False   \n",
       "369954   556685          0         -o-     -o-     -o-      False   \n",
       "369955   556686          0         -i-     -i-     -i-      False   \n",
       "\n",
       "                             pos rhymes  section_len flexion        ipa  \\\n",
       "44323   {'Gebundenes Lexem': []}    NaN         <NA>      {}  [at͡siːt]   \n",
       "44332   {'Gebundenes Lexem': []}    NaN         <NA>      {}  [at͡siːt]   \n",
       "369954   {'Affix': ['Interfix']}    NaN         <NA>      {}        [o]   \n",
       "369955   {'Affix': ['Interfix']}    NaN         <NA>      {}       [iː]   \n",
       "\n",
       "       syllables     lang lang_code   msg error lemma_lower      score    tag  \\\n",
       "44323     [acid]  Deutsch        de  MFIX            -acid-  12.438816  TRUNC   \n",
       "44332     [azid]  Deutsch        de  MFIX            -azid-  14.687436  TRUNC   \n",
       "369954       [o]  Deutsch        de  MFIX               -o-  12.735281  TRUNC   \n",
       "369955       [i]  Deutsch        de  MFIX               -i-  12.140166  TRUNC   \n",
       "\n",
       "                  member  \n",
       "44323   Gebundenes_Lexem  \n",
       "44332   Gebundenes_Lexem  \n",
       "369954    Affix Interfix  \n",
       "369955    Affix Interfix  "
      ]
     },
     "execution_count": 86,
     "metadata": {},
     "output_type": "execute_result"
    }
   ],
   "source": [
    "# MFIX >> löschen\n",
    "mask0 =  wiktionary.lemma.str.startswith('-')\n",
    "mask1 =  wiktionary.lemma.str.endswith('-') \n",
    "mask2 =  wiktionary.lemma.str.len() > 2\n",
    "mask3 = ~wiktionary.tag.str.contains(' ')   \n",
    "mask = mask0  &  mask1  &  mask2  &  mask3\n",
    "check_mask(wiktionary, mask, 4)\n",
    "\n",
    "msg = 'MFIX'\n",
    "wiktionary, wiktionary_trash = pak.move_rows(df_from=wiktionary, df_to=wiktionary_trash, mask=mask, msg=msg) \n",
    "grid(wiktionary_trash, msg)"
   ]
  },
  {
   "cell_type": "code",
   "execution_count": 87,
   "metadata": {
    "execution": {
     "iopub.execute_input": "2023-03-04T09:32:21.295533Z",
     "iopub.status.busy": "2023-03-04T09:32:21.293152Z",
     "iopub.status.idle": "2023-03-04T09:32:23.185361Z",
     "shell.execute_reply": "2023-03-04T09:32:23.184585Z",
     "shell.execute_reply.started": "2023-03-04T09:32:21.295497Z"
    },
    "tags": []
   },
   "outputs": [
    {
     "name": "stdout",
     "output_type": "stream",
     "text": [
      "check_mask:  10 rows\n",
      "Move 10 rows from 837034\n",
      "10 rows out of 4721\n"
     ]
    },
    {
     "data": {
      "text/html": [
       "<div>\n",
       "<style scoped>\n",
       "    .dataframe tbody tr th:only-of-type {\n",
       "        vertical-align: middle;\n",
       "    }\n",
       "\n",
       "    .dataframe tbody tr th {\n",
       "        vertical-align: top;\n",
       "    }\n",
       "\n",
       "    .dataframe thead th {\n",
       "        text-align: right;\n",
       "    }\n",
       "</style>\n",
       "<table border=\"1\" class=\"dataframe\">\n",
       "  <thead>\n",
       "    <tr style=\"text-align: right;\">\n",
       "      <th></th>\n",
       "      <th>page_id</th>\n",
       "      <th>page_part</th>\n",
       "      <th>section_id2</th>\n",
       "      <th>title</th>\n",
       "      <th>lemma</th>\n",
       "      <th>inflected</th>\n",
       "      <th>pos</th>\n",
       "      <th>rhymes</th>\n",
       "      <th>section_len</th>\n",
       "      <th>flexion</th>\n",
       "      <th>ipa</th>\n",
       "      <th>syllables</th>\n",
       "      <th>lang</th>\n",
       "      <th>lang_code</th>\n",
       "      <th>msg</th>\n",
       "      <th>error</th>\n",
       "      <th>lemma_lower</th>\n",
       "      <th>score</th>\n",
       "      <th>tag</th>\n",
       "      <th>member</th>\n",
       "    </tr>\n",
       "  </thead>\n",
       "  <tbody>\n",
       "    <tr>\n",
       "      <th>9582</th>\n",
       "      <td>16406</td>\n",
       "      <td>0</td>\n",
       "      <td>a-</td>\n",
       "      <td>a-</td>\n",
       "      <td>a-</td>\n",
       "      <td>False</td>\n",
       "      <td>{'Affix': ['Präfix']}</td>\n",
       "      <td>NaN</td>\n",
       "      <td>&lt;NA&gt;</td>\n",
       "      <td>{}</td>\n",
       "      <td>[a(ː)]</td>\n",
       "      <td>[a]</td>\n",
       "      <td>Deutsch</td>\n",
       "      <td>de</td>\n",
       "      <td>FIX_ZU_KURZ</td>\n",
       "      <td></td>\n",
       "      <td>a-</td>\n",
       "      <td>37.716729</td>\n",
       "      <td>AFIX TRUNC</td>\n",
       "      <td>Präfix</td>\n",
       "    </tr>\n",
       "    <tr>\n",
       "      <th>9583</th>\n",
       "      <td>16406</td>\n",
       "      <td>1</td>\n",
       "      <td>a-_1</td>\n",
       "      <td>a-</td>\n",
       "      <td>a-</td>\n",
       "      <td>False</td>\n",
       "      <td>{'Affix': ['Präfix']}</td>\n",
       "      <td>NaN</td>\n",
       "      <td>&lt;NA&gt;</td>\n",
       "      <td>{}</td>\n",
       "      <td>NaN</td>\n",
       "      <td>NaN</td>\n",
       "      <td>Deutsch</td>\n",
       "      <td>de</td>\n",
       "      <td>FIX_ZU_KURZ</td>\n",
       "      <td></td>\n",
       "      <td>a-</td>\n",
       "      <td>3.875997</td>\n",
       "      <td>AFIX TRUNC</td>\n",
       "      <td>Präfix</td>\n",
       "    </tr>\n",
       "    <tr>\n",
       "      <th>25834</th>\n",
       "      <td>68299</td>\n",
       "      <td>0</td>\n",
       "      <td>-a</td>\n",
       "      <td>-a</td>\n",
       "      <td>-a</td>\n",
       "      <td>False</td>\n",
       "      <td>{'Ortsnamengrundwort': []}</td>\n",
       "      <td>NaN</td>\n",
       "      <td>&lt;NA&gt;</td>\n",
       "      <td>{}</td>\n",
       "      <td>[-a]</td>\n",
       "      <td>[a]</td>\n",
       "      <td>Deutsch</td>\n",
       "      <td>de</td>\n",
       "      <td>FIX_ZU_KURZ</td>\n",
       "      <td></td>\n",
       "      <td>-a</td>\n",
       "      <td>22.750476</td>\n",
       "      <td>ZFIX NE</td>\n",
       "      <td>Ortsnamengrundwort</td>\n",
       "    </tr>\n",
       "    <tr>\n",
       "      <th>27408</th>\n",
       "      <td>71752</td>\n",
       "      <td>0</td>\n",
       "      <td>e-</td>\n",
       "      <td>e-</td>\n",
       "      <td>e-</td>\n",
       "      <td>False</td>\n",
       "      <td>{'Affix': ['Präfix']}</td>\n",
       "      <td>NaN</td>\n",
       "      <td>&lt;NA&gt;</td>\n",
       "      <td>{}</td>\n",
       "      <td>[e]</td>\n",
       "      <td>[e]</td>\n",
       "      <td>Deutsch</td>\n",
       "      <td>de</td>\n",
       "      <td>FIX_ZU_KURZ</td>\n",
       "      <td></td>\n",
       "      <td>e-</td>\n",
       "      <td>21.455757</td>\n",
       "      <td>AFIX TRUNC</td>\n",
       "      <td>Präfix</td>\n",
       "    </tr>\n",
       "    <tr>\n",
       "      <th>35053</th>\n",
       "      <td>98034</td>\n",
       "      <td>0</td>\n",
       "      <td>-s</td>\n",
       "      <td>-s</td>\n",
       "      <td>-s</td>\n",
       "      <td>False</td>\n",
       "      <td>{'Affix': ['Suffix']}</td>\n",
       "      <td>NaN</td>\n",
       "      <td>&lt;NA&gt;</td>\n",
       "      <td>{}</td>\n",
       "      <td>[s]</td>\n",
       "      <td>[s]</td>\n",
       "      <td>Deutsch</td>\n",
       "      <td>de</td>\n",
       "      <td>FIX_ZU_KURZ</td>\n",
       "      <td></td>\n",
       "      <td>-s</td>\n",
       "      <td>9.618256</td>\n",
       "      <td>ZFIX TRUNC</td>\n",
       "      <td>Suffix</td>\n",
       "    </tr>\n",
       "    <tr>\n",
       "      <th>35054</th>\n",
       "      <td>98034</td>\n",
       "      <td>1</td>\n",
       "      <td>-s_1</td>\n",
       "      <td>-s</td>\n",
       "      <td>-s</td>\n",
       "      <td>False</td>\n",
       "      <td>{'Affix': ['Interfix']}</td>\n",
       "      <td>NaN</td>\n",
       "      <td>&lt;NA&gt;</td>\n",
       "      <td>{}</td>\n",
       "      <td>[s]</td>\n",
       "      <td>[s]</td>\n",
       "      <td>Deutsch</td>\n",
       "      <td>de</td>\n",
       "      <td>FIX_ZU_KURZ</td>\n",
       "      <td></td>\n",
       "      <td>-s</td>\n",
       "      <td>1.315103</td>\n",
       "      <td>ZFIX TRUNC</td>\n",
       "      <td>Interfix</td>\n",
       "    </tr>\n",
       "    <tr>\n",
       "      <th>39772</th>\n",
       "      <td>108322</td>\n",
       "      <td>0</td>\n",
       "      <td>-n</td>\n",
       "      <td>-n</td>\n",
       "      <td>-n</td>\n",
       "      <td>False</td>\n",
       "      <td>{'Affix': []}</td>\n",
       "      <td>NaN</td>\n",
       "      <td>&lt;NA&gt;</td>\n",
       "      <td>{}</td>\n",
       "      <td>[n]</td>\n",
       "      <td>[n]</td>\n",
       "      <td>Deutsch</td>\n",
       "      <td>de</td>\n",
       "      <td>FIX_ZU_KURZ</td>\n",
       "      <td></td>\n",
       "      <td>-n</td>\n",
       "      <td>17.671247</td>\n",
       "      <td>ZFIX TRUNC</td>\n",
       "      <td></td>\n",
       "    </tr>\n",
       "    <tr>\n",
       "      <th>39780</th>\n",
       "      <td>108330</td>\n",
       "      <td>0</td>\n",
       "      <td>-e</td>\n",
       "      <td>-e</td>\n",
       "      <td>-e</td>\n",
       "      <td>False</td>\n",
       "      <td>{'Affix': []}</td>\n",
       "      <td>NaN</td>\n",
       "      <td>&lt;NA&gt;</td>\n",
       "      <td>{}</td>\n",
       "      <td>[ə]</td>\n",
       "      <td>[e]</td>\n",
       "      <td>Deutsch</td>\n",
       "      <td>de</td>\n",
       "      <td>FIX_ZU_KURZ</td>\n",
       "      <td></td>\n",
       "      <td>-e</td>\n",
       "      <td>15.925795</td>\n",
       "      <td>ZFIX TRUNC</td>\n",
       "      <td></td>\n",
       "    </tr>\n",
       "    <tr>\n",
       "      <th>39781</th>\n",
       "      <td>108330</td>\n",
       "      <td>1</td>\n",
       "      <td>-e_1</td>\n",
       "      <td>-e</td>\n",
       "      <td>-e</td>\n",
       "      <td>False</td>\n",
       "      <td>{'Pronomen': ['Personalpronomen']}</td>\n",
       "      <td>NaN</td>\n",
       "      <td>&lt;NA&gt;</td>\n",
       "      <td>{}</td>\n",
       "      <td>[ə]</td>\n",
       "      <td>[e]</td>\n",
       "      <td>Deutsch</td>\n",
       "      <td>de</td>\n",
       "      <td>FIX_ZU_KURZ</td>\n",
       "      <td></td>\n",
       "      <td>-e</td>\n",
       "      <td>0.510115</td>\n",
       "      <td>ZFIX PPER</td>\n",
       "      <td>Pronomen Personalpronomen</td>\n",
       "    </tr>\n",
       "    <tr>\n",
       "      <th>734488</th>\n",
       "      <td>1003815</td>\n",
       "      <td>0</td>\n",
       "      <td>-i</td>\n",
       "      <td>-i</td>\n",
       "      <td>-i</td>\n",
       "      <td>False</td>\n",
       "      <td>{'Affix': ['Suffix']}</td>\n",
       "      <td>NaN</td>\n",
       "      <td>&lt;NA&gt;</td>\n",
       "      <td>{}</td>\n",
       "      <td>[i]</td>\n",
       "      <td>[i]</td>\n",
       "      <td>Deutsch</td>\n",
       "      <td>de</td>\n",
       "      <td>FIX_ZU_KURZ</td>\n",
       "      <td></td>\n",
       "      <td>-i</td>\n",
       "      <td>43.584072</td>\n",
       "      <td>ZFIX TRUNC</td>\n",
       "      <td>Suffix</td>\n",
       "    </tr>\n",
       "  </tbody>\n",
       "</table>\n",
       "</div>"
      ],
      "text/plain": [
       "        page_id  page_part section_id2 title lemma  inflected  \\\n",
       "9582      16406          0          a-    a-    a-      False   \n",
       "9583      16406          1        a-_1    a-    a-      False   \n",
       "25834     68299          0          -a    -a    -a      False   \n",
       "27408     71752          0          e-    e-    e-      False   \n",
       "35053     98034          0          -s    -s    -s      False   \n",
       "35054     98034          1        -s_1    -s    -s      False   \n",
       "39772    108322          0          -n    -n    -n      False   \n",
       "39780    108330          0          -e    -e    -e      False   \n",
       "39781    108330          1        -e_1    -e    -e      False   \n",
       "734488  1003815          0          -i    -i    -i      False   \n",
       "\n",
       "                                       pos rhymes  section_len flexion  \\\n",
       "9582                 {'Affix': ['Präfix']}    NaN         <NA>      {}   \n",
       "9583                 {'Affix': ['Präfix']}    NaN         <NA>      {}   \n",
       "25834           {'Ortsnamengrundwort': []}    NaN         <NA>      {}   \n",
       "27408                {'Affix': ['Präfix']}    NaN         <NA>      {}   \n",
       "35053                {'Affix': ['Suffix']}    NaN         <NA>      {}   \n",
       "35054              {'Affix': ['Interfix']}    NaN         <NA>      {}   \n",
       "39772                        {'Affix': []}    NaN         <NA>      {}   \n",
       "39780                        {'Affix': []}    NaN         <NA>      {}   \n",
       "39781   {'Pronomen': ['Personalpronomen']}    NaN         <NA>      {}   \n",
       "734488               {'Affix': ['Suffix']}    NaN         <NA>      {}   \n",
       "\n",
       "           ipa syllables     lang lang_code          msg error lemma_lower  \\\n",
       "9582    [a(ː)]       [a]  Deutsch        de  FIX_ZU_KURZ                a-   \n",
       "9583       NaN       NaN  Deutsch        de  FIX_ZU_KURZ                a-   \n",
       "25834     [-a]       [a]  Deutsch        de  FIX_ZU_KURZ                -a   \n",
       "27408      [e]       [e]  Deutsch        de  FIX_ZU_KURZ                e-   \n",
       "35053      [s]       [s]  Deutsch        de  FIX_ZU_KURZ                -s   \n",
       "35054      [s]       [s]  Deutsch        de  FIX_ZU_KURZ                -s   \n",
       "39772      [n]       [n]  Deutsch        de  FIX_ZU_KURZ                -n   \n",
       "39780      [ə]       [e]  Deutsch        de  FIX_ZU_KURZ                -e   \n",
       "39781      [ə]       [e]  Deutsch        de  FIX_ZU_KURZ                -e   \n",
       "734488     [i]       [i]  Deutsch        de  FIX_ZU_KURZ                -i   \n",
       "\n",
       "            score         tag                     member  \n",
       "9582    37.716729  AFIX TRUNC                     Präfix  \n",
       "9583     3.875997  AFIX TRUNC                     Präfix  \n",
       "25834   22.750476     ZFIX NE         Ortsnamengrundwort  \n",
       "27408   21.455757  AFIX TRUNC                     Präfix  \n",
       "35053    9.618256  ZFIX TRUNC                     Suffix  \n",
       "35054    1.315103  ZFIX TRUNC                   Interfix  \n",
       "39772   17.671247  ZFIX TRUNC                             \n",
       "39780   15.925795  ZFIX TRUNC                             \n",
       "39781    0.510115   ZFIX PPER  Pronomen Personalpronomen  \n",
       "734488  43.584072  ZFIX TRUNC                     Suffix  "
      ]
     },
     "execution_count": 87,
     "metadata": {},
     "output_type": "execute_result"
    }
   ],
   "source": [
    "# FIX_ZU_KURZ >> löschen\n",
    "mask1A = wiktionary.tag.str.contains('AFIX')\n",
    "mask1B = wiktionary.tag.str.contains('ZFIX')\n",
    "mask2  = wiktionary.lemma.str.len() <= 2\n",
    "mask = (mask1A | mask1B)  &  mask2\n",
    "check_mask(wiktionary, mask, 9)\n",
    "\n",
    "msg = 'FIX_ZU_KURZ'\n",
    "wiktionary, wiktionary_trash = pak.move_rows(df_from=wiktionary, df_to=wiktionary_trash, mask=mask, msg=msg) \n",
    "grid(wiktionary_trash, msg)"
   ]
  },
  {
   "cell_type": "code",
   "execution_count": 88,
   "metadata": {
    "execution": {
     "iopub.execute_input": "2023-03-04T09:32:23.189482Z",
     "iopub.status.busy": "2023-03-04T09:32:23.188251Z",
     "iopub.status.idle": "2023-03-04T09:32:25.003912Z",
     "shell.execute_reply": "2023-03-04T09:32:25.003267Z",
     "shell.execute_reply.started": "2023-03-04T09:32:23.189441Z"
    },
    "tags": []
   },
   "outputs": [
    {
     "name": "stdout",
     "output_type": "stream",
     "text": [
      "check_mask:  3 rows\n",
      "Move 3 rows from 837024\n",
      "3 rows out of 4724\n"
     ]
    },
    {
     "data": {
      "text/html": [
       "<div>\n",
       "<style scoped>\n",
       "    .dataframe tbody tr th:only-of-type {\n",
       "        vertical-align: middle;\n",
       "    }\n",
       "\n",
       "    .dataframe tbody tr th {\n",
       "        vertical-align: top;\n",
       "    }\n",
       "\n",
       "    .dataframe thead th {\n",
       "        text-align: right;\n",
       "    }\n",
       "</style>\n",
       "<table border=\"1\" class=\"dataframe\">\n",
       "  <thead>\n",
       "    <tr style=\"text-align: right;\">\n",
       "      <th></th>\n",
       "      <th>page_id</th>\n",
       "      <th>page_part</th>\n",
       "      <th>section_id2</th>\n",
       "      <th>title</th>\n",
       "      <th>lemma</th>\n",
       "      <th>inflected</th>\n",
       "      <th>pos</th>\n",
       "      <th>rhymes</th>\n",
       "      <th>section_len</th>\n",
       "      <th>flexion</th>\n",
       "      <th>ipa</th>\n",
       "      <th>syllables</th>\n",
       "      <th>lang</th>\n",
       "      <th>lang_code</th>\n",
       "      <th>msg</th>\n",
       "      <th>error</th>\n",
       "      <th>lemma_lower</th>\n",
       "      <th>score</th>\n",
       "      <th>tag</th>\n",
       "      <th>member</th>\n",
       "    </tr>\n",
       "  </thead>\n",
       "  <tbody>\n",
       "    <tr>\n",
       "      <th>788475</th>\n",
       "      <td>1059723</td>\n",
       "      <td>0</td>\n",
       "      <td>Ge-…-e</td>\n",
       "      <td>Ge-…-e</td>\n",
       "      <td>Ge-…-e</td>\n",
       "      <td>False</td>\n",
       "      <td>{'Affix': ['Zirkumfix']}</td>\n",
       "      <td>NaN</td>\n",
       "      <td>&lt;NA&gt;</td>\n",
       "      <td>{}</td>\n",
       "      <td>[ɡəˈə]</td>\n",
       "      <td>NaN</td>\n",
       "      <td>Deutsch</td>\n",
       "      <td>de</td>\n",
       "      <td>Zirkumfix</td>\n",
       "      <td></td>\n",
       "      <td>ge-…-e</td>\n",
       "      <td>19.605901</td>\n",
       "      <td>TRUNC</td>\n",
       "      <td>Affix Zirkumfix</td>\n",
       "    </tr>\n",
       "    <tr>\n",
       "      <th>828474</th>\n",
       "      <td>1105850</td>\n",
       "      <td>0</td>\n",
       "      <td>be-…-t</td>\n",
       "      <td>be-…-t</td>\n",
       "      <td>be-…-t</td>\n",
       "      <td>False</td>\n",
       "      <td>{'Affix': ['Zirkumfix']}</td>\n",
       "      <td>NaN</td>\n",
       "      <td>&lt;NA&gt;</td>\n",
       "      <td>{}</td>\n",
       "      <td>[bəˈt]</td>\n",
       "      <td>NaN</td>\n",
       "      <td>Deutsch</td>\n",
       "      <td>de</td>\n",
       "      <td>Zirkumfix</td>\n",
       "      <td></td>\n",
       "      <td>be-…-t</td>\n",
       "      <td>36.23397</td>\n",
       "      <td>TRUNC</td>\n",
       "      <td>Affix Zirkumfix</td>\n",
       "    </tr>\n",
       "    <tr>\n",
       "      <th>828507</th>\n",
       "      <td>1105899</td>\n",
       "      <td>0</td>\n",
       "      <td>zer-…-t</td>\n",
       "      <td>zer-…-t</td>\n",
       "      <td>zer-…-t</td>\n",
       "      <td>False</td>\n",
       "      <td>{'Affix': ['Zirkumfix']}</td>\n",
       "      <td>NaN</td>\n",
       "      <td>&lt;NA&gt;</td>\n",
       "      <td>{}</td>\n",
       "      <td>[t͡sɛɐ̯ˈt]</td>\n",
       "      <td>NaN</td>\n",
       "      <td>Deutsch</td>\n",
       "      <td>de</td>\n",
       "      <td>Zirkumfix</td>\n",
       "      <td></td>\n",
       "      <td>zer-…-t</td>\n",
       "      <td>11.93464</td>\n",
       "      <td>TRUNC</td>\n",
       "      <td>Affix Zirkumfix</td>\n",
       "    </tr>\n",
       "  </tbody>\n",
       "</table>\n",
       "</div>"
      ],
      "text/plain": [
       "        page_id  page_part section_id2    title    lemma  inflected  \\\n",
       "788475  1059723          0      Ge-…-e   Ge-…-e   Ge-…-e      False   \n",
       "828474  1105850          0      be-…-t   be-…-t   be-…-t      False   \n",
       "828507  1105899          0     zer-…-t  zer-…-t  zer-…-t      False   \n",
       "\n",
       "                             pos rhymes  section_len flexion         ipa  \\\n",
       "788475  {'Affix': ['Zirkumfix']}    NaN         <NA>      {}      [ɡəˈə]   \n",
       "828474  {'Affix': ['Zirkumfix']}    NaN         <NA>      {}      [bəˈt]   \n",
       "828507  {'Affix': ['Zirkumfix']}    NaN         <NA>      {}  [t͡sɛɐ̯ˈt]   \n",
       "\n",
       "       syllables     lang lang_code        msg error lemma_lower      score  \\\n",
       "788475       NaN  Deutsch        de  Zirkumfix            ge-…-e  19.605901   \n",
       "828474       NaN  Deutsch        de  Zirkumfix            be-…-t   36.23397   \n",
       "828507       NaN  Deutsch        de  Zirkumfix           zer-…-t   11.93464   \n",
       "\n",
       "          tag           member  \n",
       "788475  TRUNC  Affix Zirkumfix  \n",
       "828474  TRUNC  Affix Zirkumfix  \n",
       "828507  TRUNC  Affix Zirkumfix  "
      ]
     },
     "execution_count": 88,
     "metadata": {},
     "output_type": "execute_result"
    }
   ],
   "source": [
    "# Zirkumfix >> löschen\n",
    "maskA = wiktionary.lemma.str.contains('-…-')\n",
    "maskB = wiktionary.member.str.contains('Zirkumfix')\n",
    "mask = maskA | maskB\n",
    "check_mask(wiktionary, mask, 3)\n",
    "\n",
    "msg = 'Zirkumfix'\n",
    "wiktionary, wiktionary_trash = pak.move_rows(df_from=wiktionary, df_to=wiktionary_trash, mask=mask, msg=msg) \n",
    "grid(wiktionary_trash, msg)"
   ]
  },
  {
   "cell_type": "code",
   "execution_count": 89,
   "metadata": {
    "execution": {
     "iopub.execute_input": "2023-03-04T09:32:25.005713Z",
     "iopub.status.busy": "2023-03-04T09:32:25.005079Z",
     "iopub.status.idle": "2023-03-04T09:32:25.478039Z",
     "shell.execute_reply": "2023-03-04T09:32:25.477193Z",
     "shell.execute_reply.started": "2023-03-04T09:32:25.005688Z"
    },
    "tags": []
   },
   "outputs": [
    {
     "name": "stdout",
     "output_type": "stream",
     "text": [
      "check_mask:  0 rows\n",
      "\u001b[1m\u001b[7m\u001b[34mNo rows, mask filters them all away\u001b[0m\n"
     ]
    }
   ],
   "source": [
    "# dar ist ein Präfix ohne Bindestrich\n",
    "mask = wiktionary.member.str.contains('Affix')\n",
    "check_mask(wiktionary, mask, 1)\n",
    "\n",
    "wiktionary.loc[mask,'member'] = pak.remove_str(wiktionary[mask].member, ['Affix'])\n",
    "grid(wiktionary, mask)"
   ]
  },
  {
   "cell_type": "code",
   "execution_count": 90,
   "metadata": {
    "execution": {
     "iopub.execute_input": "2023-03-04T09:32:25.480678Z",
     "iopub.status.busy": "2023-03-04T09:32:25.479957Z",
     "iopub.status.idle": "2023-03-04T09:32:25.983951Z",
     "shell.execute_reply": "2023-03-04T09:32:25.983175Z",
     "shell.execute_reply.started": "2023-03-04T09:32:25.480646Z"
    },
    "tags": []
   },
   "outputs": [
    {
     "name": "stdout",
     "output_type": "stream",
     "text": [
      "2 rows\n"
     ]
    },
    {
     "data": {
      "text/html": [
       "<div>\n",
       "<style scoped>\n",
       "    .dataframe tbody tr th:only-of-type {\n",
       "        vertical-align: middle;\n",
       "    }\n",
       "\n",
       "    .dataframe tbody tr th {\n",
       "        vertical-align: top;\n",
       "    }\n",
       "\n",
       "    .dataframe thead th {\n",
       "        text-align: right;\n",
       "    }\n",
       "</style>\n",
       "<table border=\"1\" class=\"dataframe\">\n",
       "  <thead>\n",
       "    <tr style=\"text-align: right;\">\n",
       "      <th></th>\n",
       "      <th>tag</th>\n",
       "      <th>tag_count</th>\n",
       "      <th>tag_percent</th>\n",
       "      <th>member</th>\n",
       "      <th>member_count</th>\n",
       "      <th>lemma</th>\n",
       "      <th>lemma_count</th>\n",
       "    </tr>\n",
       "  </thead>\n",
       "  <tbody>\n",
       "    <tr>\n",
       "      <th>0</th>\n",
       "      <td>AFIX TRUNC</td>\n",
       "      <td>549</td>\n",
       "      <td>65.4</td>\n",
       "      <td>[Gebundenes_Lexem, Präfix, Präfixoid]</td>\n",
       "      <td>[378, 141, 30]</td>\n",
       "      <td>[ab-, an-, über-, tele-, top-, auto-, ambi-, stief-, plagio-, ortho-, ein-, anglo-, hemi-, un-, poly-, erz-, infra-, anti-, hypo-, Ingen-]</td>\n",
       "      <td>[2, 2, 2, 2, 2, 1, 1, 1, 1, 1, 1, 1, 1, 1, 1, 1, 1, 1, 1, 1]</td>\n",
       "    </tr>\n",
       "    <tr>\n",
       "      <th>1</th>\n",
       "      <td>ZFIX TRUNC</td>\n",
       "      <td>290</td>\n",
       "      <td>34.6</td>\n",
       "      <td>[Suffix, Gebundenes_Lexem, Substantiv  Suffix, Substantiv Gebundenes_Lexem, Suffixoid, Verb  Suffix, Adjektiv  Suffix, , Adjektiv Gebundenes_Lexem]</td>\n",
       "      <td>[135, 102, 23, 13, 7, 5, 2, 2, 1]</td>\n",
       "      <td>[-in, -ier, -el, -ig, -meter, -en, -gon, -ow, -zid, -kunde, -fizier, -erl, -stat, -schrecke, -au, -trop, -eck, -egk, -legen, -mar]</td>\n",
       "      <td>[3, 3, 2, 2, 2, 2, 2, 1, 1, 1, 1, 1, 1, 1, 1, 1, 1, 1, 1, 1]</td>\n",
       "    </tr>\n",
       "  </tbody>\n",
       "</table>\n",
       "</div>"
      ],
      "text/plain": [
       "          tag  tag_count  tag_percent  \\\n",
       "0  AFIX TRUNC        549         65.4   \n",
       "1  ZFIX TRUNC        290         34.6   \n",
       "\n",
       "                                                                                                                                                member  \\\n",
       "0                                                                                                                [Gebundenes_Lexem, Präfix, Präfixoid]   \n",
       "1  [Suffix, Gebundenes_Lexem, Substantiv  Suffix, Substantiv Gebundenes_Lexem, Suffixoid, Verb  Suffix, Adjektiv  Suffix, , Adjektiv Gebundenes_Lexem]   \n",
       "\n",
       "                        member_count  \\\n",
       "0                     [378, 141, 30]   \n",
       "1  [135, 102, 23, 13, 7, 5, 2, 2, 1]   \n",
       "\n",
       "                                                                                                                                        lemma  \\\n",
       "0  [ab-, an-, über-, tele-, top-, auto-, ambi-, stief-, plagio-, ortho-, ein-, anglo-, hemi-, un-, poly-, erz-, infra-, anti-, hypo-, Ingen-]   \n",
       "1          [-in, -ier, -el, -ig, -meter, -en, -gon, -ow, -zid, -kunde, -fizier, -erl, -stat, -schrecke, -au, -trop, -eck, -egk, -legen, -mar]   \n",
       "\n",
       "                                                    lemma_count  \n",
       "0  [2, 2, 2, 2, 2, 1, 1, 1, 1, 1, 1, 1, 1, 1, 1, 1, 1, 1, 1, 1]  \n",
       "1  [3, 3, 2, 2, 2, 2, 2, 1, 1, 1, 1, 1, 1, 1, 1, 1, 1, 1, 1, 1]  "
      ]
     },
     "execution_count": 90,
     "metadata": {},
     "output_type": "execute_result"
    }
   ],
   "source": [
    "# Kontrolle und Statistik TRUNC\n",
    "mask = wiktionary.tag.str.contains('TRUNC')\n",
    "a = pak.analyse_freqs(wiktionary[mask], ['tag','member','lemma'])\n",
    "assert a.shape[0] == 2\n",
    "grid(a)"
   ]
  },
  {
   "cell_type": "markdown",
   "metadata": {},
   "source": [
    "## Einzelkorrekturen"
   ]
  },
  {
   "cell_type": "code",
   "execution_count": 91,
   "metadata": {
    "execution": {
     "iopub.execute_input": "2023-03-04T09:32:25.985283Z",
     "iopub.status.busy": "2023-03-04T09:32:25.985030Z",
     "iopub.status.idle": "2023-03-04T09:32:34.293584Z",
     "shell.execute_reply": "2023-03-04T09:32:34.292841Z",
     "shell.execute_reply.started": "2023-03-04T09:32:25.985263Z"
    },
    "tags": []
   },
   "outputs": [
    {
     "name": "stdout",
     "output_type": "stream",
     "text": [
      "66 rows\n"
     ]
    },
    {
     "data": {
      "text/html": [
       "\n",
       "        <iframe\n",
       "            width=\"100%\"\n",
       "            height=\"475\"\n",
       "            src=\"http://pop-os:40000/dtale/iframe/2\"\n",
       "            frameborder=\"0\"\n",
       "            allowfullscreen\n",
       "            \n",
       "        ></iframe>\n",
       "        "
      ],
      "text/plain": [
       "<IPython.lib.display.IFrame at 0x7f412e8aec10>"
      ]
     },
     "metadata": {},
     "output_type": "display_data"
    },
    {
     "data": {
      "text/plain": []
     },
     "execution_count": 91,
     "metadata": {},
     "output_type": "execute_result"
    }
   ],
   "source": [
    "# member Häufigkeitsanalyse\n",
    "a = pak.analyse_freqs(wiktionary,['member','lemma'], splits=[' ',None])\n",
    "a = pak.drop_cols(a,'lemma_count')\n",
    "gridt(a)"
   ]
  },
  {
   "cell_type": "code",
   "execution_count": 92,
   "metadata": {
    "execution": {
     "iopub.execute_input": "2023-03-04T09:32:34.297068Z",
     "iopub.status.busy": "2023-03-04T09:32:34.296724Z",
     "iopub.status.idle": "2023-03-04T09:32:34.344609Z",
     "shell.execute_reply": "2023-03-04T09:32:34.341470Z",
     "shell.execute_reply.started": "2023-03-04T09:32:34.297045Z"
    }
   },
   "outputs": [],
   "source": [
    "# Einzelkorrekturen (das sind section_id2)       \n",
    "einzelkorrekturen = { 'viel'        : 'ADJA PIAT',  # war: ADJA ADV PIAT CARD\n",
    "                      'zig'         : 'ADJA',\n",
    "                      'bis'         : 'KOUS APPR',      \n",
    "                      'derentwegen' : 'PDAT PRELAT',\n",
    "                      'Rheinland'   : 'NE',          # war: NN       \n",
    "}"
   ]
  },
  {
   "cell_type": "code",
   "execution_count": 93,
   "metadata": {
    "execution": {
     "iopub.execute_input": "2023-03-04T09:32:34.359152Z",
     "iopub.status.busy": "2023-03-04T09:32:34.358249Z",
     "iopub.status.idle": "2023-03-04T09:32:34.484376Z",
     "shell.execute_reply": "2023-03-04T09:32:34.483591Z",
     "shell.execute_reply.started": "2023-03-04T09:32:34.359077Z"
    },
    "tags": []
   },
   "outputs": [
    {
     "name": "stdout",
     "output_type": "stream",
     "text": [
      "6 rows\n"
     ]
    },
    {
     "data": {
      "text/html": [
       "<div>\n",
       "<style scoped>\n",
       "    .dataframe tbody tr th:only-of-type {\n",
       "        vertical-align: middle;\n",
       "    }\n",
       "\n",
       "    .dataframe tbody tr th {\n",
       "        vertical-align: top;\n",
       "    }\n",
       "\n",
       "    .dataframe thead th {\n",
       "        text-align: right;\n",
       "    }\n",
       "</style>\n",
       "<table border=\"1\" class=\"dataframe\">\n",
       "  <thead>\n",
       "    <tr style=\"text-align: right;\">\n",
       "      <th></th>\n",
       "      <th>section_id2</th>\n",
       "      <th>title</th>\n",
       "      <th>lemma</th>\n",
       "      <th>tag</th>\n",
       "      <th>member</th>\n",
       "      <th>score</th>\n",
       "    </tr>\n",
       "  </thead>\n",
       "  <tbody>\n",
       "    <tr>\n",
       "      <th>22599</th>\n",
       "      <td>Rheinland</td>\n",
       "      <td>Rheinland</td>\n",
       "      <td>Rheinland</td>\n",
       "      <td>NN</td>\n",
       "      <td>Substantiv</td>\n",
       "      <td>71.044581</td>\n",
       "    </tr>\n",
       "    <tr>\n",
       "      <th>45932</th>\n",
       "      <td>bis</td>\n",
       "      <td>bis</td>\n",
       "      <td>bis</td>\n",
       "      <td>ITJ KON APPR</td>\n",
       "      <td>Partikel Konjunktion Adposition Präposition</td>\n",
       "      <td>99.658977</td>\n",
       "    </tr>\n",
       "    <tr>\n",
       "      <th>45933</th>\n",
       "      <td>bis_1</td>\n",
       "      <td>bis</td>\n",
       "      <td>bis</td>\n",
       "      <td>KOUS</td>\n",
       "      <td>Konjunktion Subjunktion</td>\n",
       "      <td>0.929987</td>\n",
       "    </tr>\n",
       "    <tr>\n",
       "      <th>58741</th>\n",
       "      <td>derentwegen</td>\n",
       "      <td>derentwegen</td>\n",
       "      <td>derentwegen</td>\n",
       "      <td>ADV PDAT PRELAT</td>\n",
       "      <td>Adverb Pronomen Demonstrativpronomen Relativpronomen</td>\n",
       "      <td>51.809136</td>\n",
       "    </tr>\n",
       "    <tr>\n",
       "      <th>4128</th>\n",
       "      <td>viel</td>\n",
       "      <td>viel</td>\n",
       "      <td>viel</td>\n",
       "      <td>ADJA ADV PIAT CARD</td>\n",
       "      <td>Adjektiv Adverb Pronomen Indefinitpronomen Numerale</td>\n",
       "      <td>430.210959</td>\n",
       "    </tr>\n",
       "    <tr>\n",
       "      <th>29519</th>\n",
       "      <td>zig</td>\n",
       "      <td>zig</td>\n",
       "      <td>zig</td>\n",
       "      <td>NN ADJA</td>\n",
       "      <td>Substantiv Adjektiv Zahlklassifikator</td>\n",
       "      <td>36.099143</td>\n",
       "    </tr>\n",
       "  </tbody>\n",
       "</table>\n",
       "</div>"
      ],
      "text/plain": [
       "       section_id2        title        lemma                 tag  \\\n",
       "22599    Rheinland    Rheinland    Rheinland                  NN   \n",
       "45932          bis          bis          bis        ITJ KON APPR   \n",
       "45933        bis_1          bis          bis                KOUS   \n",
       "58741  derentwegen  derentwegen  derentwegen     ADV PDAT PRELAT   \n",
       "4128          viel         viel         viel  ADJA ADV PIAT CARD   \n",
       "29519          zig          zig          zig             NN ADJA   \n",
       "\n",
       "                                                     member       score  \n",
       "22599                                            Substantiv   71.044581  \n",
       "45932           Partikel Konjunktion Adposition Präposition   99.658977  \n",
       "45933                               Konjunktion Subjunktion    0.929987  \n",
       "58741  Adverb Pronomen Demonstrativpronomen Relativpronomen   51.809136  \n",
       "4128    Adjektiv Adverb Pronomen Indefinitpronomen Numerale  430.210959  \n",
       "29519                 Substantiv Adjektiv Zahlklassifikator   36.099143  "
      ]
     },
     "execution_count": 93,
     "metadata": {},
     "output_type": "execute_result"
    }
   ],
   "source": [
    "# anschauen (alle title, nicht nur die section_id2)\n",
    "mask = wiktionary.title.isin(einzelkorrekturen.keys())\n",
    "df = wiktionary[mask].sort_values('section_id2')\n",
    "spalten = ['section_id2','title','lemma','tag','member','score']\n",
    "grid(df[spalten])"
   ]
  },
  {
   "cell_type": "code",
   "execution_count": 94,
   "metadata": {
    "execution": {
     "iopub.execute_input": "2023-03-04T09:32:34.494309Z",
     "iopub.status.busy": "2023-03-04T09:32:34.490525Z",
     "iopub.status.idle": "2023-03-04T09:32:35.083704Z",
     "shell.execute_reply": "2023-03-04T09:32:35.083007Z",
     "shell.execute_reply.started": "2023-03-04T09:32:34.494238Z"
    }
   },
   "outputs": [],
   "source": [
    "# ändern lt. section_id2\n",
    "for i,t in einzelkorrekturen.items():\n",
    "    mask = (wiktionary.section_id2 == i)\n",
    "    wiktionary.loc[mask,'tag'] = t"
   ]
  },
  {
   "cell_type": "code",
   "execution_count": 95,
   "metadata": {
    "execution": {
     "iopub.execute_input": "2023-03-04T09:32:35.087776Z",
     "iopub.status.busy": "2023-03-04T09:32:35.087486Z",
     "iopub.status.idle": "2023-03-04T09:33:01.677581Z",
     "shell.execute_reply": "2023-03-04T09:33:01.676886Z",
     "shell.execute_reply.started": "2023-03-04T09:32:35.087754Z"
    }
   },
   "outputs": [],
   "source": [
    "# pflege_tag_felder (schreibe tagZZ usw.)\n",
    "wiktionary = pflege_tag_felder(wiktionary, translate_tagZ)"
   ]
  },
  {
   "cell_type": "code",
   "execution_count": 96,
   "metadata": {
    "execution": {
     "iopub.execute_input": "2023-03-04T09:33:01.678553Z",
     "iopub.status.busy": "2023-03-04T09:33:01.678337Z",
     "iopub.status.idle": "2023-03-04T09:33:01.898660Z",
     "shell.execute_reply": "2023-03-04T09:33:01.897624Z",
     "shell.execute_reply.started": "2023-03-04T09:33:01.678533Z"
    },
    "tags": []
   },
   "outputs": [
    {
     "name": "stdout",
     "output_type": "stream",
     "text": [
      "6 rows\n"
     ]
    },
    {
     "data": {
      "text/html": [
       "<div>\n",
       "<style scoped>\n",
       "    .dataframe tbody tr th:only-of-type {\n",
       "        vertical-align: middle;\n",
       "    }\n",
       "\n",
       "    .dataframe tbody tr th {\n",
       "        vertical-align: top;\n",
       "    }\n",
       "\n",
       "    .dataframe thead th {\n",
       "        text-align: right;\n",
       "    }\n",
       "</style>\n",
       "<table border=\"1\" class=\"dataframe\">\n",
       "  <thead>\n",
       "    <tr style=\"text-align: right;\">\n",
       "      <th></th>\n",
       "      <th>section_id2</th>\n",
       "      <th>title</th>\n",
       "      <th>lemma</th>\n",
       "      <th>tag</th>\n",
       "      <th>tagZZ</th>\n",
       "      <th>member</th>\n",
       "      <th>score</th>\n",
       "    </tr>\n",
       "  </thead>\n",
       "  <tbody>\n",
       "    <tr>\n",
       "      <th>22523</th>\n",
       "      <td>Rheinland</td>\n",
       "      <td>Rheinland</td>\n",
       "      <td>Rheinland</td>\n",
       "      <td>NE</td>\n",
       "      <td>N</td>\n",
       "      <td>Substantiv</td>\n",
       "      <td>71.044581</td>\n",
       "    </tr>\n",
       "    <tr>\n",
       "      <th>45671</th>\n",
       "      <td>bis</td>\n",
       "      <td>bis</td>\n",
       "      <td>bis</td>\n",
       "      <td>KOUS APPR</td>\n",
       "      <td>X</td>\n",
       "      <td>Partikel Konjunktion Adposition Präposition</td>\n",
       "      <td>99.658977</td>\n",
       "    </tr>\n",
       "    <tr>\n",
       "      <th>45672</th>\n",
       "      <td>bis_1</td>\n",
       "      <td>bis</td>\n",
       "      <td>bis</td>\n",
       "      <td>KOUS</td>\n",
       "      <td>X</td>\n",
       "      <td>Konjunktion Subjunktion</td>\n",
       "      <td>0.929987</td>\n",
       "    </tr>\n",
       "    <tr>\n",
       "      <th>58467</th>\n",
       "      <td>derentwegen</td>\n",
       "      <td>derentwegen</td>\n",
       "      <td>derentwegen</td>\n",
       "      <td>PDAT PRELAT</td>\n",
       "      <td>P</td>\n",
       "      <td>Adverb Pronomen Demonstrativpronomen Relativpronomen</td>\n",
       "      <td>51.809136</td>\n",
       "    </tr>\n",
       "    <tr>\n",
       "      <th>4109</th>\n",
       "      <td>viel</td>\n",
       "      <td>viel</td>\n",
       "      <td>viel</td>\n",
       "      <td>ADJA PIAT</td>\n",
       "      <td>A</td>\n",
       "      <td>Adjektiv Adverb Pronomen Indefinitpronomen Numerale</td>\n",
       "      <td>430.210959</td>\n",
       "    </tr>\n",
       "    <tr>\n",
       "      <th>29324</th>\n",
       "      <td>zig</td>\n",
       "      <td>zig</td>\n",
       "      <td>zig</td>\n",
       "      <td>ADJA</td>\n",
       "      <td>A</td>\n",
       "      <td>Substantiv Adjektiv Zahlklassifikator</td>\n",
       "      <td>36.099143</td>\n",
       "    </tr>\n",
       "  </tbody>\n",
       "</table>\n",
       "</div>"
      ],
      "text/plain": [
       "       section_id2        title        lemma          tag tagZZ  \\\n",
       "22523    Rheinland    Rheinland    Rheinland           NE     N   \n",
       "45671          bis          bis          bis    KOUS APPR     X   \n",
       "45672        bis_1          bis          bis         KOUS     X   \n",
       "58467  derentwegen  derentwegen  derentwegen  PDAT PRELAT     P   \n",
       "4109          viel         viel         viel    ADJA PIAT     A   \n",
       "29324          zig          zig          zig         ADJA     A   \n",
       "\n",
       "                                                     member       score  \n",
       "22523                                            Substantiv   71.044581  \n",
       "45671           Partikel Konjunktion Adposition Präposition   99.658977  \n",
       "45672                               Konjunktion Subjunktion    0.929987  \n",
       "58467  Adverb Pronomen Demonstrativpronomen Relativpronomen   51.809136  \n",
       "4109    Adjektiv Adverb Pronomen Indefinitpronomen Numerale  430.210959  \n",
       "29324                 Substantiv Adjektiv Zahlklassifikator   36.099143  "
      ]
     },
     "execution_count": 96,
     "metadata": {},
     "output_type": "execute_result"
    }
   ],
   "source": [
    "# anschauen (alle title, nicht nur die section_id2)\n",
    "mask = wiktionary.title.isin(einzelkorrekturen.keys())\n",
    "df = wiktionary[mask].sort_values('section_id2')\n",
    "spalten = ['section_id2','title','lemma','tag','tagZZ','member','score']\n",
    "grid(df[spalten])"
   ]
  },
  {
   "cell_type": "markdown",
   "metadata": {},
   "source": [
    "## named_entities"
   ]
  },
  {
   "cell_type": "code",
   "execution_count": 97,
   "metadata": {
    "execution": {
     "iopub.execute_input": "2023-03-04T09:33:01.899900Z",
     "iopub.status.busy": "2023-03-04T09:33:01.899649Z",
     "iopub.status.idle": "2023-03-04T09:33:04.127068Z",
     "shell.execute_reply": "2023-03-04T09:33:04.126096Z",
     "shell.execute_reply.started": "2023-03-04T09:33:01.899878Z"
    },
    "tags": []
   },
   "outputs": [
    {
     "name": "stdout",
     "output_type": "stream",
     "text": [
      "4544 rows loaded\n"
     ]
    }
   ],
   "source": [
    "# laden\n",
    "named_entities = pak.load_excel(named_entities_filename, tabcol='quelle')"
   ]
  },
  {
   "cell_type": "code",
   "execution_count": 98,
   "metadata": {
    "execution": {
     "iopub.execute_input": "2023-03-04T09:33:04.136163Z",
     "iopub.status.busy": "2023-03-04T09:33:04.132554Z",
     "iopub.status.idle": "2023-03-04T09:33:04.279324Z",
     "shell.execute_reply": "2023-03-04T09:33:04.278514Z",
     "shell.execute_reply.started": "2023-03-04T09:33:04.136118Z"
    },
    "tags": []
   },
   "outputs": [
    {
     "name": "stdout",
     "output_type": "stream",
     "text": [
      "3 rows\n"
     ]
    },
    {
     "data": {
      "text/html": [
       "<div>\n",
       "<style scoped>\n",
       "    .dataframe tbody tr th:only-of-type {\n",
       "        vertical-align: middle;\n",
       "    }\n",
       "\n",
       "    .dataframe tbody tr th {\n",
       "        vertical-align: top;\n",
       "    }\n",
       "\n",
       "    .dataframe thead th {\n",
       "        text-align: right;\n",
       "    }\n",
       "</style>\n",
       "<table border=\"1\" class=\"dataframe\">\n",
       "  <thead>\n",
       "    <tr style=\"text-align: right;\">\n",
       "      <th></th>\n",
       "      <th>quelle</th>\n",
       "      <th>quelle_count</th>\n",
       "      <th>quelle_percent</th>\n",
       "      <th>member</th>\n",
       "      <th>member_count</th>\n",
       "      <th>lemma</th>\n",
       "    </tr>\n",
       "  </thead>\n",
       "  <tbody>\n",
       "    <tr>\n",
       "      <th>0</th>\n",
       "      <td>Vorname</td>\n",
       "      <td>3825</td>\n",
       "      <td>84.2</td>\n",
       "      <td>[Vorname, Nachname]</td>\n",
       "      <td>[3825, 11]</td>\n",
       "      <td>[Hagen, Jordan, Menzel, Oswald, Reinhardt, Sander, Timm, Urban, Wichmann, Wieland, Wulf, Anna, Elisabeth, Johanna, Marie, Julia, Katharina, Christina, Eva, Charlotte]</td>\n",
       "    </tr>\n",
       "    <tr>\n",
       "      <th>1</th>\n",
       "      <td>Toponym</td>\n",
       "      <td>389</td>\n",
       "      <td>8.6</td>\n",
       "      <td>[Toponym, Stadt, Land]</td>\n",
       "      <td>[389, 293, 103]</td>\n",
       "      <td>[Berlin, Frankfurt, London, Paris, Tokio, Wien, München, New York, Amsterdam, Madrid, Zürich, Sydney, Hamburg, Toronto, Los Angeles, Stockholm, Chicago, Seoul, Brüssel, Peking]</td>\n",
       "    </tr>\n",
       "    <tr>\n",
       "      <th>2</th>\n",
       "      <td>Nachname</td>\n",
       "      <td>330</td>\n",
       "      <td>7.3</td>\n",
       "      <td>Nachname</td>\n",
       "      <td>330</td>\n",
       "      <td>[Ackermann, Ahrens, Albers, Altmann, Appel, Bachmann, Bader, Baier, Bartels, Barth, Barthel, Bartsch, Baumann, Baur, Bayer, Beck, Becker, Beckmann, Beer, Behrendt]</td>\n",
       "    </tr>\n",
       "  </tbody>\n",
       "</table>\n",
       "</div>"
      ],
      "text/plain": [
       "     quelle  quelle_count  quelle_percent                  member  \\\n",
       "0   Vorname          3825            84.2     [Vorname, Nachname]   \n",
       "1   Toponym           389             8.6  [Toponym, Stadt, Land]   \n",
       "2  Nachname           330             7.3                Nachname   \n",
       "\n",
       "      member_count  \\\n",
       "0       [3825, 11]   \n",
       "1  [389, 293, 103]   \n",
       "2              330   \n",
       "\n",
       "                                                                                                                                                                              lemma  \n",
       "0            [Hagen, Jordan, Menzel, Oswald, Reinhardt, Sander, Timm, Urban, Wichmann, Wieland, Wulf, Anna, Elisabeth, Johanna, Marie, Julia, Katharina, Christina, Eva, Charlotte]  \n",
       "1  [Berlin, Frankfurt, London, Paris, Tokio, Wien, München, New York, Amsterdam, Madrid, Zürich, Sydney, Hamburg, Toronto, Los Angeles, Stockholm, Chicago, Seoul, Brüssel, Peking]  \n",
       "2               [Ackermann, Ahrens, Albers, Altmann, Appel, Bachmann, Bader, Baier, Bartels, Barth, Barthel, Bartsch, Baumann, Baur, Bayer, Beck, Becker, Beckmann, Beer, Behrendt]  "
      ]
     },
     "execution_count": 98,
     "metadata": {},
     "output_type": "execute_result"
    }
   ],
   "source": [
    "# Überblick\n",
    "a = pak.analyse_freqs(named_entities, cols=['quelle','member','lemma'], splits=[None,' '])\n",
    "a = pak.drop_cols(a,'lemma_count')\n",
    "grid(a)"
   ]
  },
  {
   "cell_type": "code",
   "execution_count": 99,
   "metadata": {
    "execution": {
     "iopub.execute_input": "2023-03-04T09:33:04.285297Z",
     "iopub.status.busy": "2023-03-04T09:33:04.280819Z",
     "iopub.status.idle": "2023-03-04T09:33:04.347988Z",
     "shell.execute_reply": "2023-03-04T09:33:04.347367Z",
     "shell.execute_reply.started": "2023-03-04T09:33:04.285244Z"
    },
    "tags": []
   },
   "outputs": [],
   "source": [
    "# score anpassen\n",
    "# es gilt nahezu: wiktionary.score.quantile(0.5)  == named_entities.score.quantile(0.5) \n",
    "named_entities.score *= wiktionary.score.quantile(0.5) / named_entities.score.quantile(0.5) "
   ]
  },
  {
   "cell_type": "code",
   "execution_count": 100,
   "metadata": {
    "execution": {
     "iopub.execute_input": "2023-03-04T09:33:04.353862Z",
     "iopub.status.busy": "2023-03-04T09:33:04.351583Z",
     "iopub.status.idle": "2023-03-04T09:33:04.398833Z",
     "shell.execute_reply": "2023-03-04T09:33:04.398106Z",
     "shell.execute_reply.started": "2023-03-04T09:33:04.353826Z"
    },
    "tags": []
   },
   "outputs": [],
   "source": [
    "# je mehr Funktionen, desto besser\n",
    "named_entities.score *= (1 + named_entities.member.str.count(' '))  "
   ]
  },
  {
   "cell_type": "code",
   "execution_count": 101,
   "metadata": {
    "execution": {
     "iopub.execute_input": "2023-03-04T09:33:04.409708Z",
     "iopub.status.busy": "2023-03-04T09:33:04.404338Z",
     "iopub.status.idle": "2023-03-04T09:33:04.760397Z",
     "shell.execute_reply": "2023-03-04T09:33:04.759647Z",
     "shell.execute_reply.started": "2023-03-04T09:33:04.409631Z"
    },
    "tags": []
   },
   "outputs": [
    {
     "data": {
      "text/html": [
       "<div>\n",
       "<style scoped>\n",
       "    .dataframe tbody tr th:only-of-type {\n",
       "        vertical-align: middle;\n",
       "    }\n",
       "\n",
       "    .dataframe tbody tr th {\n",
       "        vertical-align: top;\n",
       "    }\n",
       "\n",
       "    .dataframe thead th {\n",
       "        text-align: right;\n",
       "    }\n",
       "</style>\n",
       "<table border=\"1\" class=\"dataframe\">\n",
       "  <thead>\n",
       "    <tr style=\"text-align: right;\">\n",
       "      <th></th>\n",
       "      <th>lemma</th>\n",
       "      <th>tag</th>\n",
       "      <th>member</th>\n",
       "      <th>score</th>\n",
       "      <th>Genus</th>\n",
       "      <th>sex_f</th>\n",
       "      <th>sex_m</th>\n",
       "      <th>Land</th>\n",
       "      <th>Stadt</th>\n",
       "      <th>Nom Sg</th>\n",
       "      <th>Gen Sg</th>\n",
       "      <th>quelle</th>\n",
       "    </tr>\n",
       "  </thead>\n",
       "  <tbody>\n",
       "    <tr>\n",
       "      <th>0</th>\n",
       "      <td>Hagen</td>\n",
       "      <td>NE</td>\n",
       "      <td>Vorname Nachname</td>\n",
       "      <td>73.790413</td>\n",
       "      <td>m</td>\n",
       "      <td>0.0</td>\n",
       "      <td>1.0</td>\n",
       "      <td>&lt;NA&gt;</td>\n",
       "      <td>&lt;NA&gt;</td>\n",
       "      <td>Hagen</td>\n",
       "      <td>Hagens</td>\n",
       "      <td>Vorname</td>\n",
       "    </tr>\n",
       "    <tr>\n",
       "      <th>140</th>\n",
       "      <td>Doris</td>\n",
       "      <td>NE</td>\n",
       "      <td>Vorname</td>\n",
       "      <td>19.764399</td>\n",
       "      <td>f</td>\n",
       "      <td>1.0</td>\n",
       "      <td>0.0</td>\n",
       "      <td>&lt;NA&gt;</td>\n",
       "      <td>&lt;NA&gt;</td>\n",
       "      <td>Doris</td>\n",
       "      <td>&lt;NA&gt;</td>\n",
       "      <td>Vorname</td>\n",
       "    </tr>\n",
       "    <tr>\n",
       "      <th>1875</th>\n",
       "      <td>Aytac</td>\n",
       "      <td>NE</td>\n",
       "      <td>Vorname</td>\n",
       "      <td>0.809541</td>\n",
       "      <td>x</td>\n",
       "      <td>0.5</td>\n",
       "      <td>0.5</td>\n",
       "      <td>&lt;NA&gt;</td>\n",
       "      <td>&lt;NA&gt;</td>\n",
       "      <td>Aytac</td>\n",
       "      <td>Aytacs</td>\n",
       "      <td>Vorname</td>\n",
       "    </tr>\n",
       "    <tr>\n",
       "      <th>3824</th>\n",
       "      <td>Ünal</td>\n",
       "      <td>NE</td>\n",
       "      <td>Vorname</td>\n",
       "      <td>0.745434</td>\n",
       "      <td>m</td>\n",
       "      <td>0.0</td>\n",
       "      <td>1.0</td>\n",
       "      <td>&lt;NA&gt;</td>\n",
       "      <td>&lt;NA&gt;</td>\n",
       "      <td>Ünal</td>\n",
       "      <td>Ünals</td>\n",
       "      <td>Vorname</td>\n",
       "    </tr>\n",
       "    <tr>\n",
       "      <th>3830</th>\n",
       "      <td>Wien</td>\n",
       "      <td>NE</td>\n",
       "      <td>Toponym Stadt</td>\n",
       "      <td>10.590842</td>\n",
       "      <td>&lt;NA&gt;</td>\n",
       "      <td>0.0</td>\n",
       "      <td>0.0</td>\n",
       "      <td>Österreich</td>\n",
       "      <td>&lt;NA&gt;</td>\n",
       "      <td>Wien</td>\n",
       "      <td>Wiens</td>\n",
       "      <td>Toponym</td>\n",
       "    </tr>\n",
       "    <tr>\n",
       "      <th>3867</th>\n",
       "      <td>Aachen</td>\n",
       "      <td>NE</td>\n",
       "      <td>Toponym Stadt</td>\n",
       "      <td>2.869799</td>\n",
       "      <td>&lt;NA&gt;</td>\n",
       "      <td>0.0</td>\n",
       "      <td>0.0</td>\n",
       "      <td>Deutschland</td>\n",
       "      <td>&lt;NA&gt;</td>\n",
       "      <td>Aachen</td>\n",
       "      <td>Aachens</td>\n",
       "      <td>Toponym</td>\n",
       "    </tr>\n",
       "    <tr>\n",
       "      <th>3970</th>\n",
       "      <td>Monterrey</td>\n",
       "      <td>NE</td>\n",
       "      <td>Toponym Stadt</td>\n",
       "      <td>2.123776</td>\n",
       "      <td>&lt;NA&gt;</td>\n",
       "      <td>0.0</td>\n",
       "      <td>0.0</td>\n",
       "      <td>Mexiko</td>\n",
       "      <td>&lt;NA&gt;</td>\n",
       "      <td>Monterrey</td>\n",
       "      <td>Monterreys</td>\n",
       "      <td>Toponym</td>\n",
       "    </tr>\n",
       "    <tr>\n",
       "      <th>4059</th>\n",
       "      <td>Tirana</td>\n",
       "      <td>NE</td>\n",
       "      <td>Toponym Stadt</td>\n",
       "      <td>1.687473</td>\n",
       "      <td>&lt;NA&gt;</td>\n",
       "      <td>0.0</td>\n",
       "      <td>0.0</td>\n",
       "      <td>Albanien</td>\n",
       "      <td>&lt;NA&gt;</td>\n",
       "      <td>Tirana</td>\n",
       "      <td>Tiranas</td>\n",
       "      <td>Toponym</td>\n",
       "    </tr>\n",
       "    <tr>\n",
       "      <th>4111</th>\n",
       "      <td>Singapur</td>\n",
       "      <td>NE</td>\n",
       "      <td>Toponym Land Stadt</td>\n",
       "      <td>11.577466</td>\n",
       "      <td>&lt;NA&gt;</td>\n",
       "      <td>0.0</td>\n",
       "      <td>0.0</td>\n",
       "      <td>Singapur</td>\n",
       "      <td>Singapur</td>\n",
       "      <td>Singapur</td>\n",
       "      <td>Singapurs</td>\n",
       "      <td>Toponym</td>\n",
       "    </tr>\n",
       "    <tr>\n",
       "      <th>4118</th>\n",
       "      <td>Deutschland</td>\n",
       "      <td>NE</td>\n",
       "      <td>Toponym Land</td>\n",
       "      <td>149.086761</td>\n",
       "      <td>&lt;NA&gt;</td>\n",
       "      <td>0.0</td>\n",
       "      <td>0.0</td>\n",
       "      <td>&lt;NA&gt;</td>\n",
       "      <td>Berlin</td>\n",
       "      <td>Deutschland</td>\n",
       "      <td>Deutschlands</td>\n",
       "      <td>Toponym</td>\n",
       "    </tr>\n",
       "    <tr>\n",
       "      <th>4127</th>\n",
       "      <td>Schweiz</td>\n",
       "      <td>NE</td>\n",
       "      <td>Toponym Land</td>\n",
       "      <td>12.201174</td>\n",
       "      <td>&lt;NA&gt;</td>\n",
       "      <td>0.0</td>\n",
       "      <td>0.0</td>\n",
       "      <td>&lt;NA&gt;</td>\n",
       "      <td>Zürich</td>\n",
       "      <td>Schweiz</td>\n",
       "      <td>&lt;NA&gt;</td>\n",
       "      <td>Toponym</td>\n",
       "    </tr>\n",
       "    <tr>\n",
       "      <th>4193</th>\n",
       "      <td>Elfenbeinküste</td>\n",
       "      <td>NE</td>\n",
       "      <td>Toponym Land</td>\n",
       "      <td>1.687473</td>\n",
       "      <td>&lt;NA&gt;</td>\n",
       "      <td>0.0</td>\n",
       "      <td>0.0</td>\n",
       "      <td>&lt;NA&gt;</td>\n",
       "      <td>Abidjan</td>\n",
       "      <td>Elfenbeinküste</td>\n",
       "      <td>Elfenbeinküstes</td>\n",
       "      <td>Toponym</td>\n",
       "    </tr>\n",
       "    <tr>\n",
       "      <th>4213</th>\n",
       "      <td>Senegal</td>\n",
       "      <td>NE</td>\n",
       "      <td>Toponym Land</td>\n",
       "      <td>1.490868</td>\n",
       "      <td>&lt;NA&gt;</td>\n",
       "      <td>0.0</td>\n",
       "      <td>0.0</td>\n",
       "      <td>&lt;NA&gt;</td>\n",
       "      <td>Dakar</td>\n",
       "      <td>Senegal</td>\n",
       "      <td>Senegals</td>\n",
       "      <td>Toponym</td>\n",
       "    </tr>\n",
       "    <tr>\n",
       "      <th>4543</th>\n",
       "      <td>Ziegler</td>\n",
       "      <td>NE</td>\n",
       "      <td>Nachname</td>\n",
       "      <td>36.895206</td>\n",
       "      <td>&lt;NA&gt;</td>\n",
       "      <td>0.0</td>\n",
       "      <td>0.0</td>\n",
       "      <td>&lt;NA&gt;</td>\n",
       "      <td>&lt;NA&gt;</td>\n",
       "      <td>Ziegler</td>\n",
       "      <td>Zieglers</td>\n",
       "      <td>Nachname</td>\n",
       "    </tr>\n",
       "  </tbody>\n",
       "</table>\n",
       "</div>"
      ],
      "text/plain": [
       "               lemma tag              member       score Genus  sex_f  sex_m  \\\n",
       "0              Hagen  NE    Vorname Nachname   73.790413     m    0.0    1.0   \n",
       "140            Doris  NE             Vorname   19.764399     f    1.0    0.0   \n",
       "1875           Aytac  NE             Vorname    0.809541     x    0.5    0.5   \n",
       "3824            Ünal  NE             Vorname    0.745434     m    0.0    1.0   \n",
       "3830            Wien  NE       Toponym Stadt   10.590842  <NA>    0.0    0.0   \n",
       "3867          Aachen  NE       Toponym Stadt    2.869799  <NA>    0.0    0.0   \n",
       "3970       Monterrey  NE       Toponym Stadt    2.123776  <NA>    0.0    0.0   \n",
       "4059          Tirana  NE       Toponym Stadt    1.687473  <NA>    0.0    0.0   \n",
       "4111        Singapur  NE  Toponym Land Stadt   11.577466  <NA>    0.0    0.0   \n",
       "4118     Deutschland  NE        Toponym Land  149.086761  <NA>    0.0    0.0   \n",
       "4127         Schweiz  NE        Toponym Land   12.201174  <NA>    0.0    0.0   \n",
       "4193  Elfenbeinküste  NE        Toponym Land    1.687473  <NA>    0.0    0.0   \n",
       "4213         Senegal  NE        Toponym Land    1.490868  <NA>    0.0    0.0   \n",
       "4543         Ziegler  NE            Nachname   36.895206  <NA>    0.0    0.0   \n",
       "\n",
       "             Land     Stadt          Nom Sg           Gen Sg    quelle  \n",
       "0            <NA>      <NA>           Hagen           Hagens   Vorname  \n",
       "140          <NA>      <NA>           Doris             <NA>   Vorname  \n",
       "1875         <NA>      <NA>           Aytac           Aytacs   Vorname  \n",
       "3824         <NA>      <NA>            Ünal            Ünals   Vorname  \n",
       "3830   Österreich      <NA>            Wien            Wiens   Toponym  \n",
       "3867  Deutschland      <NA>          Aachen          Aachens   Toponym  \n",
       "3970       Mexiko      <NA>       Monterrey       Monterreys   Toponym  \n",
       "4059     Albanien      <NA>          Tirana          Tiranas   Toponym  \n",
       "4111     Singapur  Singapur        Singapur        Singapurs   Toponym  \n",
       "4118         <NA>    Berlin     Deutschland     Deutschlands   Toponym  \n",
       "4127         <NA>    Zürich         Schweiz             <NA>   Toponym  \n",
       "4193         <NA>   Abidjan  Elfenbeinküste  Elfenbeinküstes   Toponym  \n",
       "4213         <NA>     Dakar         Senegal         Senegals   Toponym  \n",
       "4543         <NA>      <NA>         Ziegler         Zieglers  Nachname  "
      ]
     },
     "execution_count": 101,
     "metadata": {},
     "output_type": "execute_result"
    }
   ],
   "source": [
    "pak.sample(named_entities)"
   ]
  },
  {
   "cell_type": "code",
   "execution_count": 102,
   "metadata": {
    "execution": {
     "iopub.execute_input": "2023-03-04T09:33:04.761792Z",
     "iopub.status.busy": "2023-03-04T09:33:04.761515Z",
     "iopub.status.idle": "2023-03-04T09:33:04.801107Z",
     "shell.execute_reply": "2023-03-04T09:33:04.800422Z",
     "shell.execute_reply.started": "2023-03-04T09:33:04.761769Z"
    },
    "tags": []
   },
   "outputs": [],
   "source": [
    "# Felder ergänzen\n",
    "named_entities['title']       = named_entities.lemma\n",
    "named_entities['lemma_lower'] = named_entities.lemma.str.lower() \n",
    "named_entities = pak.move_cols( named_entities, 'lemma_lower','lemma')"
   ]
  },
  {
   "cell_type": "code",
   "execution_count": 103,
   "metadata": {
    "execution": {
     "iopub.execute_input": "2023-03-04T09:33:04.802353Z",
     "iopub.status.busy": "2023-03-04T09:33:04.802103Z",
     "iopub.status.idle": "2023-03-04T09:33:04.851182Z",
     "shell.execute_reply": "2023-03-04T09:33:04.850492Z",
     "shell.execute_reply.started": "2023-03-04T09:33:04.802331Z"
    },
    "tags": []
   },
   "outputs": [],
   "source": [
    "# section_id2\n",
    "named_entities['section_id2'] = named_entities.lemma + '_' + named_entities.quelle.str[0].str.upper().copy()\n",
    "named_entities['section_id2'] = named_entities.section_id2.str.replace(' ','_').copy()\n",
    "named_entities = pak.move_cols(named_entities, ['section_id2','title'])"
   ]
  },
  {
   "cell_type": "code",
   "execution_count": 104,
   "metadata": {
    "execution": {
     "iopub.execute_input": "2023-03-04T09:33:04.852402Z",
     "iopub.status.busy": "2023-03-04T09:33:04.852156Z",
     "iopub.status.idle": "2023-03-04T09:33:06.213919Z",
     "shell.execute_reply": "2023-03-04T09:33:06.213149Z",
     "shell.execute_reply.started": "2023-03-04T09:33:04.852381Z"
    },
    "tags": []
   },
   "outputs": [
    {
     "name": "stdout",
     "output_type": "stream",
     "text": [
      "update_col: col_score score applied, 2277 records less!\n",
      "update_col: 1251 cells written into existing column\n"
     ]
    }
   ],
   "source": [
    "# Bekannte section_id2 aus wiktionary übertragen. Aber nur wenn der tag wirklich gleich ist.\n",
    "mask = (wiktionary.lemma == wiktionary.title)  # wichtig\n",
    "named_entities = pak.update_col(named_entities, wiktionary[mask], on=['lemma_lower','tag'], col='section_id2',  col_score='score' )"
   ]
  },
  {
   "cell_type": "code",
   "execution_count": 105,
   "metadata": {
    "execution": {
     "iopub.execute_input": "2023-03-04T09:33:06.215027Z",
     "iopub.status.busy": "2023-03-04T09:33:06.214796Z",
     "iopub.status.idle": "2023-03-04T09:33:06.603919Z",
     "shell.execute_reply": "2023-03-04T09:33:06.603265Z",
     "shell.execute_reply.started": "2023-03-04T09:33:06.215006Z"
    },
    "tags": []
   },
   "outputs": [
    {
     "data": {
      "text/html": [
       "<div>\n",
       "<style scoped>\n",
       "    .dataframe tbody tr th:only-of-type {\n",
       "        vertical-align: middle;\n",
       "    }\n",
       "\n",
       "    .dataframe tbody tr th {\n",
       "        vertical-align: top;\n",
       "    }\n",
       "\n",
       "    .dataframe thead th {\n",
       "        text-align: right;\n",
       "    }\n",
       "</style>\n",
       "<table border=\"1\" class=\"dataframe\">\n",
       "  <thead>\n",
       "    <tr style=\"text-align: right;\">\n",
       "      <th></th>\n",
       "      <th>section_id2</th>\n",
       "      <th>title</th>\n",
       "      <th>lemma</th>\n",
       "      <th>lemma_lower</th>\n",
       "      <th>tag</th>\n",
       "      <th>member</th>\n",
       "      <th>score</th>\n",
       "      <th>Genus</th>\n",
       "      <th>sex_f</th>\n",
       "      <th>sex_m</th>\n",
       "      <th>Land</th>\n",
       "      <th>Stadt</th>\n",
       "      <th>Nom Sg</th>\n",
       "      <th>Gen Sg</th>\n",
       "      <th>quelle</th>\n",
       "    </tr>\n",
       "  </thead>\n",
       "  <tbody>\n",
       "    <tr>\n",
       "      <th>0</th>\n",
       "      <td>Hagen</td>\n",
       "      <td>Hagen</td>\n",
       "      <td>Hagen</td>\n",
       "      <td>hagen</td>\n",
       "      <td>NE</td>\n",
       "      <td>Vorname Nachname</td>\n",
       "      <td>73.790413</td>\n",
       "      <td>m</td>\n",
       "      <td>0.0</td>\n",
       "      <td>1.0</td>\n",
       "      <td>&lt;NA&gt;</td>\n",
       "      <td>&lt;NA&gt;</td>\n",
       "      <td>Hagen</td>\n",
       "      <td>Hagens</td>\n",
       "      <td>Vorname</td>\n",
       "    </tr>\n",
       "    <tr>\n",
       "      <th>140</th>\n",
       "      <td>Doris</td>\n",
       "      <td>Doris</td>\n",
       "      <td>Doris</td>\n",
       "      <td>doris</td>\n",
       "      <td>NE</td>\n",
       "      <td>Vorname</td>\n",
       "      <td>19.764399</td>\n",
       "      <td>f</td>\n",
       "      <td>1.0</td>\n",
       "      <td>0.0</td>\n",
       "      <td>&lt;NA&gt;</td>\n",
       "      <td>&lt;NA&gt;</td>\n",
       "      <td>Doris</td>\n",
       "      <td>&lt;NA&gt;</td>\n",
       "      <td>Vorname</td>\n",
       "    </tr>\n",
       "    <tr>\n",
       "      <th>1875</th>\n",
       "      <td>Aytac_V</td>\n",
       "      <td>Aytac</td>\n",
       "      <td>Aytac</td>\n",
       "      <td>aytac</td>\n",
       "      <td>NE</td>\n",
       "      <td>Vorname</td>\n",
       "      <td>0.809541</td>\n",
       "      <td>x</td>\n",
       "      <td>0.5</td>\n",
       "      <td>0.5</td>\n",
       "      <td>&lt;NA&gt;</td>\n",
       "      <td>&lt;NA&gt;</td>\n",
       "      <td>Aytac</td>\n",
       "      <td>Aytacs</td>\n",
       "      <td>Vorname</td>\n",
       "    </tr>\n",
       "    <tr>\n",
       "      <th>3824</th>\n",
       "      <td>Ünal_V</td>\n",
       "      <td>Ünal</td>\n",
       "      <td>Ünal</td>\n",
       "      <td>ünal</td>\n",
       "      <td>NE</td>\n",
       "      <td>Vorname</td>\n",
       "      <td>0.745434</td>\n",
       "      <td>m</td>\n",
       "      <td>0.0</td>\n",
       "      <td>1.0</td>\n",
       "      <td>&lt;NA&gt;</td>\n",
       "      <td>&lt;NA&gt;</td>\n",
       "      <td>Ünal</td>\n",
       "      <td>Ünals</td>\n",
       "      <td>Vorname</td>\n",
       "    </tr>\n",
       "    <tr>\n",
       "      <th>3830</th>\n",
       "      <td>Wien</td>\n",
       "      <td>Wien</td>\n",
       "      <td>Wien</td>\n",
       "      <td>wien</td>\n",
       "      <td>NE</td>\n",
       "      <td>Toponym Stadt</td>\n",
       "      <td>10.590842</td>\n",
       "      <td>&lt;NA&gt;</td>\n",
       "      <td>0.0</td>\n",
       "      <td>0.0</td>\n",
       "      <td>Österreich</td>\n",
       "      <td>&lt;NA&gt;</td>\n",
       "      <td>Wien</td>\n",
       "      <td>Wiens</td>\n",
       "      <td>Toponym</td>\n",
       "    </tr>\n",
       "    <tr>\n",
       "      <th>3867</th>\n",
       "      <td>Aachen</td>\n",
       "      <td>Aachen</td>\n",
       "      <td>Aachen</td>\n",
       "      <td>aachen</td>\n",
       "      <td>NE</td>\n",
       "      <td>Toponym Stadt</td>\n",
       "      <td>2.869799</td>\n",
       "      <td>&lt;NA&gt;</td>\n",
       "      <td>0.0</td>\n",
       "      <td>0.0</td>\n",
       "      <td>Deutschland</td>\n",
       "      <td>&lt;NA&gt;</td>\n",
       "      <td>Aachen</td>\n",
       "      <td>Aachens</td>\n",
       "      <td>Toponym</td>\n",
       "    </tr>\n",
       "    <tr>\n",
       "      <th>3970</th>\n",
       "      <td>Monterrey_T</td>\n",
       "      <td>Monterrey</td>\n",
       "      <td>Monterrey</td>\n",
       "      <td>monterrey</td>\n",
       "      <td>NE</td>\n",
       "      <td>Toponym Stadt</td>\n",
       "      <td>2.123776</td>\n",
       "      <td>&lt;NA&gt;</td>\n",
       "      <td>0.0</td>\n",
       "      <td>0.0</td>\n",
       "      <td>Mexiko</td>\n",
       "      <td>&lt;NA&gt;</td>\n",
       "      <td>Monterrey</td>\n",
       "      <td>Monterreys</td>\n",
       "      <td>Toponym</td>\n",
       "    </tr>\n",
       "    <tr>\n",
       "      <th>4059</th>\n",
       "      <td>Tirana</td>\n",
       "      <td>Tirana</td>\n",
       "      <td>Tirana</td>\n",
       "      <td>tirana</td>\n",
       "      <td>NE</td>\n",
       "      <td>Toponym Stadt</td>\n",
       "      <td>1.687473</td>\n",
       "      <td>&lt;NA&gt;</td>\n",
       "      <td>0.0</td>\n",
       "      <td>0.0</td>\n",
       "      <td>Albanien</td>\n",
       "      <td>&lt;NA&gt;</td>\n",
       "      <td>Tirana</td>\n",
       "      <td>Tiranas</td>\n",
       "      <td>Toponym</td>\n",
       "    </tr>\n",
       "    <tr>\n",
       "      <th>4111</th>\n",
       "      <td>Singapur</td>\n",
       "      <td>Singapur</td>\n",
       "      <td>Singapur</td>\n",
       "      <td>singapur</td>\n",
       "      <td>NE</td>\n",
       "      <td>Toponym Land Stadt</td>\n",
       "      <td>11.577466</td>\n",
       "      <td>&lt;NA&gt;</td>\n",
       "      <td>0.0</td>\n",
       "      <td>0.0</td>\n",
       "      <td>Singapur</td>\n",
       "      <td>Singapur</td>\n",
       "      <td>Singapur</td>\n",
       "      <td>Singapurs</td>\n",
       "      <td>Toponym</td>\n",
       "    </tr>\n",
       "    <tr>\n",
       "      <th>4118</th>\n",
       "      <td>Deutschland</td>\n",
       "      <td>Deutschland</td>\n",
       "      <td>Deutschland</td>\n",
       "      <td>deutschland</td>\n",
       "      <td>NE</td>\n",
       "      <td>Toponym Land</td>\n",
       "      <td>149.086761</td>\n",
       "      <td>&lt;NA&gt;</td>\n",
       "      <td>0.0</td>\n",
       "      <td>0.0</td>\n",
       "      <td>&lt;NA&gt;</td>\n",
       "      <td>Berlin</td>\n",
       "      <td>Deutschland</td>\n",
       "      <td>Deutschlands</td>\n",
       "      <td>Toponym</td>\n",
       "    </tr>\n",
       "    <tr>\n",
       "      <th>4127</th>\n",
       "      <td>Schweiz</td>\n",
       "      <td>Schweiz</td>\n",
       "      <td>Schweiz</td>\n",
       "      <td>schweiz</td>\n",
       "      <td>NE</td>\n",
       "      <td>Toponym Land</td>\n",
       "      <td>12.201174</td>\n",
       "      <td>&lt;NA&gt;</td>\n",
       "      <td>0.0</td>\n",
       "      <td>0.0</td>\n",
       "      <td>&lt;NA&gt;</td>\n",
       "      <td>Zürich</td>\n",
       "      <td>Schweiz</td>\n",
       "      <td>&lt;NA&gt;</td>\n",
       "      <td>Toponym</td>\n",
       "    </tr>\n",
       "    <tr>\n",
       "      <th>4193</th>\n",
       "      <td>Elfenbeinküste</td>\n",
       "      <td>Elfenbeinküste</td>\n",
       "      <td>Elfenbeinküste</td>\n",
       "      <td>elfenbeinküste</td>\n",
       "      <td>NE</td>\n",
       "      <td>Toponym Land</td>\n",
       "      <td>1.687473</td>\n",
       "      <td>&lt;NA&gt;</td>\n",
       "      <td>0.0</td>\n",
       "      <td>0.0</td>\n",
       "      <td>&lt;NA&gt;</td>\n",
       "      <td>Abidjan</td>\n",
       "      <td>Elfenbeinküste</td>\n",
       "      <td>Elfenbeinküstes</td>\n",
       "      <td>Toponym</td>\n",
       "    </tr>\n",
       "    <tr>\n",
       "      <th>4213</th>\n",
       "      <td>Senegal</td>\n",
       "      <td>Senegal</td>\n",
       "      <td>Senegal</td>\n",
       "      <td>senegal</td>\n",
       "      <td>NE</td>\n",
       "      <td>Toponym Land</td>\n",
       "      <td>1.490868</td>\n",
       "      <td>&lt;NA&gt;</td>\n",
       "      <td>0.0</td>\n",
       "      <td>0.0</td>\n",
       "      <td>&lt;NA&gt;</td>\n",
       "      <td>Dakar</td>\n",
       "      <td>Senegal</td>\n",
       "      <td>Senegals</td>\n",
       "      <td>Toponym</td>\n",
       "    </tr>\n",
       "    <tr>\n",
       "      <th>4543</th>\n",
       "      <td>Ziegler</td>\n",
       "      <td>Ziegler</td>\n",
       "      <td>Ziegler</td>\n",
       "      <td>ziegler</td>\n",
       "      <td>NE</td>\n",
       "      <td>Nachname</td>\n",
       "      <td>36.895206</td>\n",
       "      <td>&lt;NA&gt;</td>\n",
       "      <td>0.0</td>\n",
       "      <td>0.0</td>\n",
       "      <td>&lt;NA&gt;</td>\n",
       "      <td>&lt;NA&gt;</td>\n",
       "      <td>Ziegler</td>\n",
       "      <td>Zieglers</td>\n",
       "      <td>Nachname</td>\n",
       "    </tr>\n",
       "  </tbody>\n",
       "</table>\n",
       "</div>"
      ],
      "text/plain": [
       "         section_id2           title           lemma     lemma_lower tag  \\\n",
       "0              Hagen           Hagen           Hagen           hagen  NE   \n",
       "140            Doris           Doris           Doris           doris  NE   \n",
       "1875         Aytac_V           Aytac           Aytac           aytac  NE   \n",
       "3824          Ünal_V            Ünal            Ünal            ünal  NE   \n",
       "3830            Wien            Wien            Wien            wien  NE   \n",
       "3867          Aachen          Aachen          Aachen          aachen  NE   \n",
       "3970     Monterrey_T       Monterrey       Monterrey       monterrey  NE   \n",
       "4059          Tirana          Tirana          Tirana          tirana  NE   \n",
       "4111        Singapur        Singapur        Singapur        singapur  NE   \n",
       "4118     Deutschland     Deutschland     Deutschland     deutschland  NE   \n",
       "4127         Schweiz         Schweiz         Schweiz         schweiz  NE   \n",
       "4193  Elfenbeinküste  Elfenbeinküste  Elfenbeinküste  elfenbeinküste  NE   \n",
       "4213         Senegal         Senegal         Senegal         senegal  NE   \n",
       "4543         Ziegler         Ziegler         Ziegler         ziegler  NE   \n",
       "\n",
       "                  member       score Genus  sex_f  sex_m         Land  \\\n",
       "0       Vorname Nachname   73.790413     m    0.0    1.0         <NA>   \n",
       "140              Vorname   19.764399     f    1.0    0.0         <NA>   \n",
       "1875             Vorname    0.809541     x    0.5    0.5         <NA>   \n",
       "3824             Vorname    0.745434     m    0.0    1.0         <NA>   \n",
       "3830       Toponym Stadt   10.590842  <NA>    0.0    0.0   Österreich   \n",
       "3867       Toponym Stadt    2.869799  <NA>    0.0    0.0  Deutschland   \n",
       "3970       Toponym Stadt    2.123776  <NA>    0.0    0.0       Mexiko   \n",
       "4059       Toponym Stadt    1.687473  <NA>    0.0    0.0     Albanien   \n",
       "4111  Toponym Land Stadt   11.577466  <NA>    0.0    0.0     Singapur   \n",
       "4118        Toponym Land  149.086761  <NA>    0.0    0.0         <NA>   \n",
       "4127        Toponym Land   12.201174  <NA>    0.0    0.0         <NA>   \n",
       "4193        Toponym Land    1.687473  <NA>    0.0    0.0         <NA>   \n",
       "4213        Toponym Land    1.490868  <NA>    0.0    0.0         <NA>   \n",
       "4543            Nachname   36.895206  <NA>    0.0    0.0         <NA>   \n",
       "\n",
       "         Stadt          Nom Sg           Gen Sg    quelle  \n",
       "0         <NA>           Hagen           Hagens   Vorname  \n",
       "140       <NA>           Doris             <NA>   Vorname  \n",
       "1875      <NA>           Aytac           Aytacs   Vorname  \n",
       "3824      <NA>            Ünal            Ünals   Vorname  \n",
       "3830      <NA>            Wien            Wiens   Toponym  \n",
       "3867      <NA>          Aachen          Aachens   Toponym  \n",
       "3970      <NA>       Monterrey       Monterreys   Toponym  \n",
       "4059      <NA>          Tirana          Tiranas   Toponym  \n",
       "4111  Singapur        Singapur        Singapurs   Toponym  \n",
       "4118    Berlin     Deutschland     Deutschlands   Toponym  \n",
       "4127    Zürich         Schweiz             <NA>   Toponym  \n",
       "4193   Abidjan  Elfenbeinküste  Elfenbeinküstes   Toponym  \n",
       "4213     Dakar         Senegal         Senegals   Toponym  \n",
       "4543      <NA>         Ziegler         Zieglers  Nachname  "
      ]
     },
     "execution_count": 105,
     "metadata": {},
     "output_type": "execute_result"
    }
   ],
   "source": [
    "pak.sample(named_entities)"
   ]
  },
  {
   "cell_type": "code",
   "execution_count": 106,
   "metadata": {
    "execution": {
     "iopub.execute_input": "2023-03-04T09:33:06.607802Z",
     "iopub.status.busy": "2023-03-04T09:33:06.607424Z",
     "iopub.status.idle": "2023-03-04T09:33:06.647127Z",
     "shell.execute_reply": "2023-03-04T09:33:06.646499Z",
     "shell.execute_reply.started": "2023-03-04T09:33:06.607778Z"
    }
   },
   "outputs": [],
   "source": [
    "# drop_cols\n",
    "named_entities = pak.drop_cols(named_entities,['sex_f', 'sex_m', 'Land', 'Stadt','quelle'])"
   ]
  },
  {
   "cell_type": "code",
   "execution_count": 107,
   "metadata": {
    "execution": {
     "iopub.execute_input": "2023-03-04T09:33:06.650818Z",
     "iopub.status.busy": "2023-03-04T09:33:06.650472Z",
     "iopub.status.idle": "2023-03-04T09:33:06.959400Z",
     "shell.execute_reply": "2023-03-04T09:33:06.958593Z",
     "shell.execute_reply.started": "2023-03-04T09:33:06.650794Z"
    }
   },
   "outputs": [
    {
     "name": "stdout",
     "output_type": "stream",
     "text": [
      "7 rows out of 4544\n"
     ]
    },
    {
     "data": {
      "text/html": [
       "<div>\n",
       "<style scoped>\n",
       "    .dataframe tbody tr th:only-of-type {\n",
       "        vertical-align: middle;\n",
       "    }\n",
       "\n",
       "    .dataframe tbody tr th {\n",
       "        vertical-align: top;\n",
       "    }\n",
       "\n",
       "    .dataframe thead th {\n",
       "        text-align: right;\n",
       "    }\n",
       "</style>\n",
       "<table border=\"1\" class=\"dataframe\">\n",
       "  <thead>\n",
       "    <tr style=\"text-align: right;\">\n",
       "      <th></th>\n",
       "      <th>section_id2</th>\n",
       "      <th>title</th>\n",
       "      <th>lemma</th>\n",
       "      <th>lemma_lower</th>\n",
       "      <th>tag</th>\n",
       "      <th>member</th>\n",
       "      <th>score</th>\n",
       "      <th>Genus</th>\n",
       "      <th>Nom Sg</th>\n",
       "      <th>Gen Sg</th>\n",
       "    </tr>\n",
       "  </thead>\n",
       "  <tbody>\n",
       "    <tr>\n",
       "      <th>0</th>\n",
       "      <td>Hagen</td>\n",
       "      <td>Hagen</td>\n",
       "      <td>Hagen</td>\n",
       "      <td>hagen</td>\n",
       "      <td>NE</td>\n",
       "      <td>Vorname Nachname</td>\n",
       "      <td>73.790413</td>\n",
       "      <td>m</td>\n",
       "      <td>Hagen</td>\n",
       "      <td>Hagens</td>\n",
       "    </tr>\n",
       "    <tr>\n",
       "      <th>140</th>\n",
       "      <td>Doris</td>\n",
       "      <td>Doris</td>\n",
       "      <td>Doris</td>\n",
       "      <td>doris</td>\n",
       "      <td>NE</td>\n",
       "      <td>Vorname</td>\n",
       "      <td>19.764399</td>\n",
       "      <td>f</td>\n",
       "      <td>Doris</td>\n",
       "      <td>&lt;NA&gt;</td>\n",
       "    </tr>\n",
       "    <tr>\n",
       "      <th>1875</th>\n",
       "      <td>Aytac_V</td>\n",
       "      <td>Aytac</td>\n",
       "      <td>Aytac</td>\n",
       "      <td>aytac</td>\n",
       "      <td>NE</td>\n",
       "      <td>Vorname</td>\n",
       "      <td>0.809541</td>\n",
       "      <td>x</td>\n",
       "      <td>Aytac</td>\n",
       "      <td>Aytacs</td>\n",
       "    </tr>\n",
       "    <tr>\n",
       "      <th>3824</th>\n",
       "      <td>Ünal_V</td>\n",
       "      <td>Ünal</td>\n",
       "      <td>Ünal</td>\n",
       "      <td>ünal</td>\n",
       "      <td>NE</td>\n",
       "      <td>Vorname</td>\n",
       "      <td>0.745434</td>\n",
       "      <td>m</td>\n",
       "      <td>Ünal</td>\n",
       "      <td>Ünals</td>\n",
       "    </tr>\n",
       "    <tr>\n",
       "      <th>3867</th>\n",
       "      <td>Aachen</td>\n",
       "      <td>Aachen</td>\n",
       "      <td>Aachen</td>\n",
       "      <td>aachen</td>\n",
       "      <td>NE</td>\n",
       "      <td>Toponym Stadt</td>\n",
       "      <td>2.869799</td>\n",
       "      <td>&lt;NA&gt;</td>\n",
       "      <td>Aachen</td>\n",
       "      <td>Aachens</td>\n",
       "    </tr>\n",
       "    <tr>\n",
       "      <th>4118</th>\n",
       "      <td>Deutschland</td>\n",
       "      <td>Deutschland</td>\n",
       "      <td>Deutschland</td>\n",
       "      <td>deutschland</td>\n",
       "      <td>NE</td>\n",
       "      <td>Toponym Land</td>\n",
       "      <td>149.086761</td>\n",
       "      <td>&lt;NA&gt;</td>\n",
       "      <td>Deutschland</td>\n",
       "      <td>Deutschlands</td>\n",
       "    </tr>\n",
       "    <tr>\n",
       "      <th>4543</th>\n",
       "      <td>Ziegler</td>\n",
       "      <td>Ziegler</td>\n",
       "      <td>Ziegler</td>\n",
       "      <td>ziegler</td>\n",
       "      <td>NE</td>\n",
       "      <td>Nachname</td>\n",
       "      <td>36.895206</td>\n",
       "      <td>&lt;NA&gt;</td>\n",
       "      <td>Ziegler</td>\n",
       "      <td>Zieglers</td>\n",
       "    </tr>\n",
       "  </tbody>\n",
       "</table>\n",
       "</div>"
      ],
      "text/plain": [
       "      section_id2        title        lemma  lemma_lower tag  \\\n",
       "0           Hagen        Hagen        Hagen        hagen  NE   \n",
       "140         Doris        Doris        Doris        doris  NE   \n",
       "1875      Aytac_V        Aytac        Aytac        aytac  NE   \n",
       "3824       Ünal_V         Ünal         Ünal         ünal  NE   \n",
       "3867       Aachen       Aachen       Aachen       aachen  NE   \n",
       "4118  Deutschland  Deutschland  Deutschland  deutschland  NE   \n",
       "4543      Ziegler      Ziegler      Ziegler      ziegler  NE   \n",
       "\n",
       "                member       score Genus       Nom Sg        Gen Sg  \n",
       "0     Vorname Nachname   73.790413     m        Hagen        Hagens  \n",
       "140            Vorname   19.764399     f        Doris          <NA>  \n",
       "1875           Vorname    0.809541     x        Aytac        Aytacs  \n",
       "3824           Vorname    0.745434     m         Ünal         Ünals  \n",
       "3867     Toponym Stadt    2.869799  <NA>       Aachen       Aachens  \n",
       "4118      Toponym Land  149.086761  <NA>  Deutschland  Deutschlands  \n",
       "4543          Nachname   36.895206  <NA>      Ziegler      Zieglers  "
      ]
     },
     "execution_count": 107,
     "metadata": {},
     "output_type": "execute_result"
    }
   ],
   "source": [
    "grid(named_entities, pak.sample)"
   ]
  },
  {
   "cell_type": "code",
   "execution_count": 108,
   "metadata": {
    "execution": {
     "iopub.execute_input": "2023-03-04T09:33:06.963330Z",
     "iopub.status.busy": "2023-03-04T09:33:06.963053Z",
     "iopub.status.idle": "2023-03-04T09:33:07.004670Z",
     "shell.execute_reply": "2023-03-04T09:33:07.003951Z",
     "shell.execute_reply.started": "2023-03-04T09:33:06.963310Z"
    }
   },
   "outputs": [
    {
     "name": "stdout",
     "output_type": "stream",
     "text": [
      "check_mask:  0 rows\n"
     ]
    }
   ],
   "source": [
    "# Dups?\n",
    "mask = named_entities.section_id2.duplicated()\n",
    "check_mask(named_entities,mask,0,0)"
   ]
  },
  {
   "cell_type": "code",
   "execution_count": 109,
   "metadata": {
    "execution": {
     "iopub.execute_input": "2023-03-04T09:33:07.008938Z",
     "iopub.status.busy": "2023-03-04T09:33:07.008653Z",
     "iopub.status.idle": "2023-03-04T09:33:07.047459Z",
     "shell.execute_reply": "2023-03-04T09:33:07.046748Z",
     "shell.execute_reply.started": "2023-03-04T09:33:07.008918Z"
    }
   },
   "outputs": [
    {
     "name": "stdout",
     "output_type": "stream",
     "text": [
      "<class 'IPython.core.display.Markdown'>\n"
     ]
    },
    {
     "data": {
      "text/markdown": [
       "<span style=\"font-size:larger;\">cols_to_dict(df, col_dict='', cols_add=[], use_defaultdict=False, drop=True):</span>\n",
       "\n",
       "Moves columns into a dict or defaultdict.\n",
       "This is \n",
       "* col_dict:         name of the target column. Can be empty, but may already contain a dict or defaultdict. \n",
       "* cols_add:         Columns to be packed.\n",
       "* use_defaultdict:  Should a defaultdict be used as data structure? Otherwise keys can only occur once.\n",
       "* drop:             Should the packed columns be dropped (>> move) or not (>> copy)?"
      ],
      "text/plain": [
       "<IPython.core.display.Markdown object>"
      ]
     },
     "metadata": {},
     "output_type": "display_data"
    }
   ],
   "source": [
    "blab.help(pak.cols_to_dict)"
   ]
  },
  {
   "cell_type": "code",
   "execution_count": 110,
   "metadata": {
    "execution": {
     "iopub.execute_input": "2023-03-04T09:33:07.048738Z",
     "iopub.status.busy": "2023-03-04T09:33:07.048453Z",
     "iopub.status.idle": "2023-03-04T09:33:10.151692Z",
     "shell.execute_reply": "2023-03-04T09:33:10.151027Z",
     "shell.execute_reply.started": "2023-03-04T09:33:07.048714Z"
    }
   },
   "outputs": [
    {
     "data": {
      "text/html": [
       "<div>\n",
       "<style scoped>\n",
       "    .dataframe tbody tr th:only-of-type {\n",
       "        vertical-align: middle;\n",
       "    }\n",
       "\n",
       "    .dataframe tbody tr th {\n",
       "        vertical-align: top;\n",
       "    }\n",
       "\n",
       "    .dataframe thead th {\n",
       "        text-align: right;\n",
       "    }\n",
       "</style>\n",
       "<table border=\"1\" class=\"dataframe\">\n",
       "  <thead>\n",
       "    <tr style=\"text-align: right;\">\n",
       "      <th></th>\n",
       "      <th>section_id2</th>\n",
       "      <th>title</th>\n",
       "      <th>lemma</th>\n",
       "      <th>lemma_lower</th>\n",
       "      <th>tag</th>\n",
       "      <th>member</th>\n",
       "      <th>score</th>\n",
       "      <th>flexion</th>\n",
       "    </tr>\n",
       "  </thead>\n",
       "  <tbody>\n",
       "    <tr>\n",
       "      <th>0</th>\n",
       "      <td>Hagen</td>\n",
       "      <td>Hagen</td>\n",
       "      <td>Hagen</td>\n",
       "      <td>hagen</td>\n",
       "      <td>NE</td>\n",
       "      <td>Vorname Nachname</td>\n",
       "      <td>73.790413</td>\n",
       "      <td>{'Genus': ['m'], 'Nom Sg': ['Hagen'], 'Gen Sg': ['Hagens']}</td>\n",
       "    </tr>\n",
       "    <tr>\n",
       "      <th>1</th>\n",
       "      <td>Jordan</td>\n",
       "      <td>Jordan</td>\n",
       "      <td>Jordan</td>\n",
       "      <td>jordan</td>\n",
       "      <td>NE</td>\n",
       "      <td>Vorname Nachname</td>\n",
       "      <td>73.790413</td>\n",
       "      <td>{'Genus': ['m'], 'Nom Sg': ['Jordan'], 'Gen Sg': ['Jordans']}</td>\n",
       "    </tr>\n",
       "    <tr>\n",
       "      <th>2</th>\n",
       "      <td>Menzel_V</td>\n",
       "      <td>Menzel</td>\n",
       "      <td>Menzel</td>\n",
       "      <td>menzel</td>\n",
       "      <td>NE</td>\n",
       "      <td>Vorname Nachname</td>\n",
       "      <td>73.790413</td>\n",
       "      <td>{'Genus': ['m'], 'Nom Sg': ['Menzel'], 'Gen Sg': ['Menzels']}</td>\n",
       "    </tr>\n",
       "    <tr>\n",
       "      <th>3</th>\n",
       "      <td>Oswald_V</td>\n",
       "      <td>Oswald</td>\n",
       "      <td>Oswald</td>\n",
       "      <td>oswald</td>\n",
       "      <td>NE</td>\n",
       "      <td>Vorname Nachname</td>\n",
       "      <td>73.790413</td>\n",
       "      <td>{'Genus': ['m'], 'Nom Sg': ['Oswald'], 'Gen Sg': ['Oswalds']}</td>\n",
       "    </tr>\n",
       "    <tr>\n",
       "      <th>4</th>\n",
       "      <td>Reinhardt_V</td>\n",
       "      <td>Reinhardt</td>\n",
       "      <td>Reinhardt</td>\n",
       "      <td>reinhardt</td>\n",
       "      <td>NE</td>\n",
       "      <td>Vorname Nachname</td>\n",
       "      <td>73.790413</td>\n",
       "      <td>{'Genus': ['m'], 'Nom Sg': ['Reinhardt'], 'Gen Sg': ['Reinhardts']}</td>\n",
       "    </tr>\n",
       "    <tr>\n",
       "      <th>...</th>\n",
       "      <td>...</td>\n",
       "      <td>...</td>\n",
       "      <td>...</td>\n",
       "      <td>...</td>\n",
       "      <td>...</td>\n",
       "      <td>...</td>\n",
       "      <td>...</td>\n",
       "      <td>...</td>\n",
       "    </tr>\n",
       "    <tr>\n",
       "      <th>4539</th>\n",
       "      <td>Wolff</td>\n",
       "      <td>Wolff</td>\n",
       "      <td>Wolff</td>\n",
       "      <td>wolff</td>\n",
       "      <td>NE</td>\n",
       "      <td>Nachname</td>\n",
       "      <td>36.895206</td>\n",
       "      <td>{'Nom Sg': ['Wolff'], 'Gen Sg': ['Wolffs']}</td>\n",
       "    </tr>\n",
       "    <tr>\n",
       "      <th>4540</th>\n",
       "      <td>Wolter_N</td>\n",
       "      <td>Wolter</td>\n",
       "      <td>Wolter</td>\n",
       "      <td>wolter</td>\n",
       "      <td>NE</td>\n",
       "      <td>Nachname</td>\n",
       "      <td>36.895206</td>\n",
       "      <td>{'Nom Sg': ['Wolter'], 'Gen Sg': ['Wolters']}</td>\n",
       "    </tr>\n",
       "    <tr>\n",
       "      <th>4541</th>\n",
       "      <td>Zander_1</td>\n",
       "      <td>Zander</td>\n",
       "      <td>Zander</td>\n",
       "      <td>zander</td>\n",
       "      <td>NE</td>\n",
       "      <td>Nachname</td>\n",
       "      <td>36.895206</td>\n",
       "      <td>{'Nom Sg': ['Zander'], 'Gen Sg': ['Zanders']}</td>\n",
       "    </tr>\n",
       "    <tr>\n",
       "      <th>4542</th>\n",
       "      <td>Zeller_N</td>\n",
       "      <td>Zeller</td>\n",
       "      <td>Zeller</td>\n",
       "      <td>zeller</td>\n",
       "      <td>NE</td>\n",
       "      <td>Nachname</td>\n",
       "      <td>36.895206</td>\n",
       "      <td>{'Nom Sg': ['Zeller'], 'Gen Sg': ['Zellers']}</td>\n",
       "    </tr>\n",
       "    <tr>\n",
       "      <th>4543</th>\n",
       "      <td>Ziegler</td>\n",
       "      <td>Ziegler</td>\n",
       "      <td>Ziegler</td>\n",
       "      <td>ziegler</td>\n",
       "      <td>NE</td>\n",
       "      <td>Nachname</td>\n",
       "      <td>36.895206</td>\n",
       "      <td>{'Nom Sg': ['Ziegler'], 'Gen Sg': ['Zieglers']}</td>\n",
       "    </tr>\n",
       "  </tbody>\n",
       "</table>\n",
       "<p>4544 rows × 8 columns</p>\n",
       "</div>"
      ],
      "text/plain": [
       "      section_id2      title      lemma lemma_lower tag            member  \\\n",
       "0           Hagen      Hagen      Hagen       hagen  NE  Vorname Nachname   \n",
       "1          Jordan     Jordan     Jordan      jordan  NE  Vorname Nachname   \n",
       "2        Menzel_V     Menzel     Menzel      menzel  NE  Vorname Nachname   \n",
       "3        Oswald_V     Oswald     Oswald      oswald  NE  Vorname Nachname   \n",
       "4     Reinhardt_V  Reinhardt  Reinhardt   reinhardt  NE  Vorname Nachname   \n",
       "...           ...        ...        ...         ...  ..               ...   \n",
       "4539        Wolff      Wolff      Wolff       wolff  NE          Nachname   \n",
       "4540     Wolter_N     Wolter     Wolter      wolter  NE          Nachname   \n",
       "4541     Zander_1     Zander     Zander      zander  NE          Nachname   \n",
       "4542     Zeller_N     Zeller     Zeller      zeller  NE          Nachname   \n",
       "4543      Ziegler    Ziegler    Ziegler     ziegler  NE          Nachname   \n",
       "\n",
       "          score  \\\n",
       "0     73.790413   \n",
       "1     73.790413   \n",
       "2     73.790413   \n",
       "3     73.790413   \n",
       "4     73.790413   \n",
       "...         ...   \n",
       "4539  36.895206   \n",
       "4540  36.895206   \n",
       "4541  36.895206   \n",
       "4542  36.895206   \n",
       "4543  36.895206   \n",
       "\n",
       "                                                                  flexion  \n",
       "0             {'Genus': ['m'], 'Nom Sg': ['Hagen'], 'Gen Sg': ['Hagens']}  \n",
       "1           {'Genus': ['m'], 'Nom Sg': ['Jordan'], 'Gen Sg': ['Jordans']}  \n",
       "2           {'Genus': ['m'], 'Nom Sg': ['Menzel'], 'Gen Sg': ['Menzels']}  \n",
       "3           {'Genus': ['m'], 'Nom Sg': ['Oswald'], 'Gen Sg': ['Oswalds']}  \n",
       "4     {'Genus': ['m'], 'Nom Sg': ['Reinhardt'], 'Gen Sg': ['Reinhardts']}  \n",
       "...                                                                   ...  \n",
       "4539                          {'Nom Sg': ['Wolff'], 'Gen Sg': ['Wolffs']}  \n",
       "4540                        {'Nom Sg': ['Wolter'], 'Gen Sg': ['Wolters']}  \n",
       "4541                        {'Nom Sg': ['Zander'], 'Gen Sg': ['Zanders']}  \n",
       "4542                        {'Nom Sg': ['Zeller'], 'Gen Sg': ['Zellers']}  \n",
       "4543                      {'Nom Sg': ['Ziegler'], 'Gen Sg': ['Zieglers']}  \n",
       "\n",
       "[4544 rows x 8 columns]"
      ]
     },
     "execution_count": 110,
     "metadata": {},
     "output_type": "execute_result"
    }
   ],
   "source": [
    "named_entities = pak.cols_to_dict(named_entities,col_dict='flexion',cols_add=['Genus','Nom Sg','Gen Sg',], use_defaultdict=True)\n",
    "named_entities"
   ]
  },
  {
   "cell_type": "code",
   "execution_count": 111,
   "metadata": {
    "execution": {
     "iopub.execute_input": "2023-03-04T09:33:10.152926Z",
     "iopub.status.busy": "2023-03-04T09:33:10.152678Z",
     "iopub.status.idle": "2023-03-04T09:33:10.509936Z",
     "shell.execute_reply": "2023-03-04T09:33:10.509203Z",
     "shell.execute_reply.started": "2023-03-04T09:33:10.152905Z"
    }
   },
   "outputs": [
    {
     "name": "stdout",
     "output_type": "stream",
     "text": [
      "5 rows out of 4544\n"
     ]
    },
    {
     "data": {
      "text/html": [
       "<div>\n",
       "<style scoped>\n",
       "    .dataframe tbody tr th:only-of-type {\n",
       "        vertical-align: middle;\n",
       "    }\n",
       "\n",
       "    .dataframe tbody tr th {\n",
       "        vertical-align: top;\n",
       "    }\n",
       "\n",
       "    .dataframe thead th {\n",
       "        text-align: right;\n",
       "    }\n",
       "</style>\n",
       "<table border=\"1\" class=\"dataframe\">\n",
       "  <thead>\n",
       "    <tr style=\"text-align: right;\">\n",
       "      <th></th>\n",
       "      <th>section_id2</th>\n",
       "      <th>title</th>\n",
       "      <th>lemma</th>\n",
       "      <th>lemma_lower</th>\n",
       "      <th>tag</th>\n",
       "      <th>member</th>\n",
       "      <th>score</th>\n",
       "      <th>flexion</th>\n",
       "    </tr>\n",
       "  </thead>\n",
       "  <tbody>\n",
       "    <tr>\n",
       "      <th>0</th>\n",
       "      <td>Hagen</td>\n",
       "      <td>Hagen</td>\n",
       "      <td>Hagen</td>\n",
       "      <td>hagen</td>\n",
       "      <td>NE</td>\n",
       "      <td>Vorname Nachname</td>\n",
       "      <td>73.790413</td>\n",
       "      <td>{'Genus': ['m'], 'Nom Sg': ['Hagen'], 'Gen Sg': ['Hagens']}</td>\n",
       "    </tr>\n",
       "    <tr>\n",
       "      <th>1002</th>\n",
       "      <td>Abelina_V</td>\n",
       "      <td>Abelina</td>\n",
       "      <td>Abelina</td>\n",
       "      <td>abelina</td>\n",
       "      <td>NE</td>\n",
       "      <td>Vorname</td>\n",
       "      <td>0.745434</td>\n",
       "      <td>{'Genus': ['f'], 'Nom Sg': ['Abelina'], 'Gen Sg': ['Abelinas']}</td>\n",
       "    </tr>\n",
       "    <tr>\n",
       "      <th>3867</th>\n",
       "      <td>Aachen</td>\n",
       "      <td>Aachen</td>\n",
       "      <td>Aachen</td>\n",
       "      <td>aachen</td>\n",
       "      <td>NE</td>\n",
       "      <td>Toponym Stadt</td>\n",
       "      <td>2.869799</td>\n",
       "      <td>{'Nom Sg': ['Aachen'], 'Gen Sg': ['Aachens']}</td>\n",
       "    </tr>\n",
       "    <tr>\n",
       "      <th>4118</th>\n",
       "      <td>Deutschland</td>\n",
       "      <td>Deutschland</td>\n",
       "      <td>Deutschland</td>\n",
       "      <td>deutschland</td>\n",
       "      <td>NE</td>\n",
       "      <td>Toponym Land</td>\n",
       "      <td>149.086761</td>\n",
       "      <td>{'Nom Sg': ['Deutschland'], 'Gen Sg': ['Deutschlands']}</td>\n",
       "    </tr>\n",
       "    <tr>\n",
       "      <th>4543</th>\n",
       "      <td>Ziegler</td>\n",
       "      <td>Ziegler</td>\n",
       "      <td>Ziegler</td>\n",
       "      <td>ziegler</td>\n",
       "      <td>NE</td>\n",
       "      <td>Nachname</td>\n",
       "      <td>36.895206</td>\n",
       "      <td>{'Nom Sg': ['Ziegler'], 'Gen Sg': ['Zieglers']}</td>\n",
       "    </tr>\n",
       "  </tbody>\n",
       "</table>\n",
       "</div>"
      ],
      "text/plain": [
       "      section_id2        title        lemma  lemma_lower tag  \\\n",
       "0           Hagen        Hagen        Hagen        hagen  NE   \n",
       "1002    Abelina_V      Abelina      Abelina      abelina  NE   \n",
       "3867       Aachen       Aachen       Aachen       aachen  NE   \n",
       "4118  Deutschland  Deutschland  Deutschland  deutschland  NE   \n",
       "4543      Ziegler      Ziegler      Ziegler      ziegler  NE   \n",
       "\n",
       "                member       score  \\\n",
       "0     Vorname Nachname   73.790413   \n",
       "1002           Vorname    0.745434   \n",
       "3867     Toponym Stadt    2.869799   \n",
       "4118      Toponym Land  149.086761   \n",
       "4543          Nachname   36.895206   \n",
       "\n",
       "                                                              flexion  \n",
       "0         {'Genus': ['m'], 'Nom Sg': ['Hagen'], 'Gen Sg': ['Hagens']}  \n",
       "1002  {'Genus': ['f'], 'Nom Sg': ['Abelina'], 'Gen Sg': ['Abelinas']}  \n",
       "3867                    {'Nom Sg': ['Aachen'], 'Gen Sg': ['Aachens']}  \n",
       "4118          {'Nom Sg': ['Deutschland'], 'Gen Sg': ['Deutschlands']}  \n",
       "4543                  {'Nom Sg': ['Ziegler'], 'Gen Sg': ['Zieglers']}  "
      ]
     },
     "execution_count": 111,
     "metadata": {},
     "output_type": "execute_result"
    }
   ],
   "source": [
    "grid(named_entities, pak.sample)"
   ]
  },
  {
   "cell_type": "code",
   "execution_count": 112,
   "metadata": {
    "execution": {
     "iopub.execute_input": "2023-03-04T09:33:10.513830Z",
     "iopub.status.busy": "2023-03-04T09:33:10.513538Z",
     "iopub.status.idle": "2023-03-04T09:33:11.421901Z",
     "shell.execute_reply": "2023-03-04T09:33:11.421137Z",
     "shell.execute_reply.started": "2023-03-04T09:33:10.513807Z"
    },
    "tags": []
   },
   "outputs": [
    {
     "name": "stdout",
     "output_type": "stream",
     "text": [
      "4544 rows added, now a total of 841565\n"
     ]
    }
   ],
   "source": [
    "# anfügen\n",
    "wiktionary = pak.add_rows(wiktionary, named_entities, assert_subset=True)"
   ]
  },
  {
   "cell_type": "code",
   "execution_count": 113,
   "metadata": {
    "execution": {
     "iopub.execute_input": "2023-03-04T09:33:11.425568Z",
     "iopub.status.busy": "2023-03-04T09:33:11.425285Z",
     "iopub.status.idle": "2023-03-04T09:33:11.682173Z",
     "shell.execute_reply": "2023-03-04T09:33:11.681550Z",
     "shell.execute_reply.started": "2023-03-04T09:33:11.425546Z"
    },
    "tags": []
   },
   "outputs": [],
   "source": [
    "# flexion type korrekt?\n",
    "assert pak.ntypes(wiktionary.flexion) == 1"
   ]
  },
  {
   "cell_type": "code",
   "execution_count": 114,
   "metadata": {
    "execution": {
     "iopub.execute_input": "2023-03-04T09:33:11.683329Z",
     "iopub.status.busy": "2023-03-04T09:33:11.683087Z",
     "iopub.status.idle": "2023-03-04T09:33:12.079653Z",
     "shell.execute_reply": "2023-03-04T09:33:12.078952Z",
     "shell.execute_reply.started": "2023-03-04T09:33:11.683308Z"
    }
   },
   "outputs": [
    {
     "name": "stdout",
     "output_type": "stream",
     "text": [
      "1 rows\n"
     ]
    },
    {
     "data": {
      "text/html": [
       "<div>\n",
       "<style scoped>\n",
       "    .dataframe tbody tr th:only-of-type {\n",
       "        vertical-align: middle;\n",
       "    }\n",
       "\n",
       "    .dataframe tbody tr th {\n",
       "        vertical-align: top;\n",
       "    }\n",
       "\n",
       "    .dataframe thead th {\n",
       "        text-align: right;\n",
       "    }\n",
       "</style>\n",
       "<table border=\"1\" class=\"dataframe\">\n",
       "  <thead>\n",
       "    <tr style=\"text-align: right;\">\n",
       "      <th></th>\n",
       "      <th>page_id</th>\n",
       "      <th>page_part</th>\n",
       "      <th>section_id2</th>\n",
       "      <th>title</th>\n",
       "      <th>lemma</th>\n",
       "      <th>inflected</th>\n",
       "      <th>pos</th>\n",
       "      <th>tag</th>\n",
       "      <th>tag_0</th>\n",
       "      <th>tag_1</th>\n",
       "      <th>...</th>\n",
       "      <th>member</th>\n",
       "      <th>rhymes</th>\n",
       "      <th>flexion</th>\n",
       "      <th>ipa</th>\n",
       "      <th>syllables</th>\n",
       "      <th>lang</th>\n",
       "      <th>lang_code</th>\n",
       "      <th>error</th>\n",
       "      <th>lemma_lower</th>\n",
       "      <th>score</th>\n",
       "    </tr>\n",
       "  </thead>\n",
       "  <tbody>\n",
       "    <tr>\n",
       "      <th>46086</th>\n",
       "      <td>120123</td>\n",
       "      <td>0</td>\n",
       "      <td>lachend</td>\n",
       "      <td>lachend</td>\n",
       "      <td>lachend</td>\n",
       "      <td>False</td>\n",
       "      <td>{'Adjektiv': ['Partizip I']}</td>\n",
       "      <td>ADJ1</td>\n",
       "      <td>ADJ1</td>\n",
       "      <td>fPbjtBa8Lr</td>\n",
       "      <td>...</td>\n",
       "      <td>Adjektiv Ptz1</td>\n",
       "      <td>[axn̩t]</td>\n",
       "      <td>{}</td>\n",
       "      <td>[laxn̩t, ˈlaxənt]</td>\n",
       "      <td>[la, chend]</td>\n",
       "      <td>Deutsch</td>\n",
       "      <td>de</td>\n",
       "      <td></td>\n",
       "      <td>lachend</td>\n",
       "      <td>2.053587</td>\n",
       "    </tr>\n",
       "  </tbody>\n",
       "</table>\n",
       "<p>1 rows × 22 columns</p>\n",
       "</div>"
      ],
      "text/plain": [
       "       page_id  page_part section_id2    title    lemma inflected  \\\n",
       "46086   120123          0     lachend  lachend  lachend     False   \n",
       "\n",
       "                                pos   tag tag_0       tag_1  ...  \\\n",
       "46086  {'Adjektiv': ['Partizip I']}  ADJ1  ADJ1  fPbjtBa8Lr  ...   \n",
       "\n",
       "              member   rhymes flexion                ipa    syllables  \\\n",
       "46086  Adjektiv Ptz1  [axn̩t]      {}  [laxn̩t, ˈlaxənt]  [la, chend]   \n",
       "\n",
       "          lang lang_code error lemma_lower     score  \n",
       "46086  Deutsch        de           lachend  2.053587  \n",
       "\n",
       "[1 rows x 22 columns]"
      ]
     },
     "execution_count": 114,
     "metadata": {},
     "output_type": "execute_result"
    }
   ],
   "source": [
    "# wiktionary anschauen\n",
    "mask = wiktionary.title.isin(suche_debug) \n",
    "r = wiktionary[mask].sort_values(['title','section_id2'])\n",
    "grid(r)"
   ]
  },
  {
   "cell_type": "markdown",
   "metadata": {},
   "source": [
    "## Zahlwörter\n",
    "* werden anschließend lexeme_manuell zugeschlagen"
   ]
  },
  {
   "cell_type": "code",
   "execution_count": 115,
   "metadata": {
    "execution": {
     "iopub.execute_input": "2023-03-04T09:33:12.081124Z",
     "iopub.status.busy": "2023-03-04T09:33:12.080866Z",
     "iopub.status.idle": "2023-03-04T09:33:12.120004Z",
     "shell.execute_reply": "2023-03-04T09:33:12.119017Z",
     "shell.execute_reply.started": "2023-03-04T09:33:12.081103Z"
    }
   },
   "outputs": [],
   "source": [
    "# Wandelt eine Zahl in Worte um\n",
    "def zahl_in_worten(n, s=True, z=False):\n",
    "    \n",
    "    w1 = \"null ein zwei drei vier fünf sechs sieben acht neun zehn elf zwölf dreizehn vierzehn fünfzehn sechzehn siebzehn achtzehn neunzehn\".split()\n",
    "    w2 = \"zwanzig dreißig vierzig fünfzig sechzig siebzig achtzig neunzig\".split()    \n",
    "    if n < 0: raise ValueError\n",
    "    if n == 0 and z: return \"\"\n",
    "    if n == 1 and s: return \"eins\"\n",
    "    if n < 20: return w1[n]\n",
    "    if n < 100:\n",
    "        w = w2[(n - 20) // 10]\n",
    "        if n % 10:\n",
    "            w = w1[n % 10] + \"und\" + w\n",
    "        return w\n",
    "    if n < 1000:\n",
    "        return w1[n // 100] + \"hundert\" + zahl_in_worten(n % 100, z=True)\n",
    "    if n < 1000000:\n",
    "        return zahl_in_worten(n // 1000, s=False) + \"tausend\" + zahl_in_worten(n % 1000, z=True)\n",
    "    raise ValueError"
   ]
  },
  {
   "cell_type": "code",
   "execution_count": 116,
   "metadata": {
    "execution": {
     "iopub.execute_input": "2023-03-04T09:33:12.125212Z",
     "iopub.status.busy": "2023-03-04T09:33:12.124850Z",
     "iopub.status.idle": "2023-03-04T09:33:12.162182Z",
     "shell.execute_reply": "2023-03-04T09:33:12.161515Z",
     "shell.execute_reply.started": "2023-03-04T09:33:12.125179Z"
    }
   },
   "outputs": [
    {
     "name": "stdout",
     "output_type": "stream",
     "text": [
      "dreitausendeinhundertsieben\n"
     ]
    }
   ],
   "source": [
    "print(zahl_in_worten(3107))"
   ]
  },
  {
   "cell_type": "code",
   "execution_count": 117,
   "metadata": {
    "execution": {
     "iopub.execute_input": "2023-03-04T09:33:12.163115Z",
     "iopub.status.busy": "2023-03-04T09:33:12.162897Z",
     "iopub.status.idle": "2023-03-04T09:33:12.202565Z",
     "shell.execute_reply": "2023-03-04T09:33:12.201751Z",
     "shell.execute_reply.started": "2023-03-04T09:33:12.163094Z"
    }
   },
   "outputs": [
    {
     "data": {
      "text/plain": [
       "[{'lex': ['null', '0'], 'lemma': 'null', 'def': '0'},\n",
       " {'lex': ['zehn', '10'], 'lemma': 'zehn', 'def': '10'}]"
      ]
     },
     "execution_count": 117,
     "metadata": {},
     "output_type": "execute_result"
    }
   ],
   "source": [
    "def zahlwörter_liste(range_): \n",
    "    return [ \n",
    "    {'lex' : [zahl_in_worten(z), str(z)], \n",
    "     'lemma' : zahl_in_worten(z),      \n",
    "     'def'   : str(z),\n",
    "    } for z in range_]\n",
    "\n",
    "zahlwörter_liste(range(0,20,10))"
   ]
  },
  {
   "cell_type": "code",
   "execution_count": 118,
   "metadata": {
    "execution": {
     "iopub.execute_input": "2023-03-04T09:33:12.203942Z",
     "iopub.status.busy": "2023-03-04T09:33:12.203668Z",
     "iopub.status.idle": "2023-03-04T09:33:12.269113Z",
     "shell.execute_reply": "2023-03-04T09:33:12.268441Z",
     "shell.execute_reply.started": "2023-03-04T09:33:12.203919Z"
    },
    "tags": []
   },
   "outputs": [],
   "source": [
    "# 0..99 zahlwörter_a erzeugen\n",
    "range_ = range(0,100)\n",
    "zahlwörter_a = pd.DataFrame(zahlwörter_liste( range_ ))\n",
    "zahlwörter_a['score'] = wiktionary.score.quantile(0.8)  +  1/(zahlwörter_a.index.astype(int)+1)**0.5*3+1\n",
    "#zahlwörter_a\n",
    "# wiktionary.score.quantile(0.7) / "
   ]
  },
  {
   "cell_type": "code",
   "execution_count": 119,
   "metadata": {
    "execution": {
     "iopub.execute_input": "2023-03-04T09:33:12.270344Z",
     "iopub.status.busy": "2023-03-04T09:33:12.270101Z",
     "iopub.status.idle": "2023-03-04T09:33:12.343542Z",
     "shell.execute_reply": "2023-03-04T09:33:12.342379Z",
     "shell.execute_reply.started": "2023-03-04T09:33:12.270324Z"
    },
    "tags": []
   },
   "outputs": [],
   "source": [
    "# Hunderter Zahlwörter erzeugen\n",
    "range_ = range(100,1000,100)\n",
    "zahlwörter_b = pd.DataFrame(zahlwörter_liste( range_ ))\n",
    "zahlwörter_b['score'] = wiktionary.score.quantile(0.8)  +  1/(zahlwörter_b.index.astype(int)+1)**0.5*3+1\n",
    "#zahlwörter_b"
   ]
  },
  {
   "cell_type": "code",
   "execution_count": 120,
   "metadata": {
    "execution": {
     "iopub.execute_input": "2023-03-04T09:33:12.345156Z",
     "iopub.status.busy": "2023-03-04T09:33:12.344858Z",
     "iopub.status.idle": "2023-03-04T09:33:12.412295Z",
     "shell.execute_reply": "2023-03-04T09:33:12.411680Z",
     "shell.execute_reply.started": "2023-03-04T09:33:12.345131Z"
    },
    "tags": []
   },
   "outputs": [],
   "source": [
    "# Tausender Zahlwörter erzeugen\n",
    "range_ = range(1000,99001,1000)\n",
    "zahlwörter_c = pd.DataFrame(zahlwörter_liste( range_ ))\n",
    "zahlwörter_c['score'] = wiktionary.score.quantile(0.6)  +  1/(zahlwörter_c.index.astype(int)+1)**0.5*3+1\n",
    "#zahlwörter_c"
   ]
  },
  {
   "cell_type": "code",
   "execution_count": 121,
   "metadata": {
    "execution": {
     "iopub.execute_input": "2023-03-04T09:33:12.413568Z",
     "iopub.status.busy": "2023-03-04T09:33:12.413322Z",
     "iopub.status.idle": "2023-03-04T09:33:12.464267Z",
     "shell.execute_reply": "2023-03-04T09:33:12.463634Z",
     "shell.execute_reply.started": "2023-03-04T09:33:12.413547Z"
    },
    "tags": []
   },
   "outputs": [],
   "source": [
    "# Zehntausender Zahlwörter erzeugen\n",
    "range_ = range(10000,99001,10000)\n",
    "zahlwörter_d = pd.DataFrame(zahlwörter_liste( range_ ))\n",
    "zahlwörter_d['score'] = wiktionary.score.quantile(0.5)  +  1/(zahlwörter_d.index.astype(int)+1)**0.5*3+1\n",
    "#zahlwörter_d"
   ]
  },
  {
   "cell_type": "code",
   "execution_count": 122,
   "metadata": {
    "execution": {
     "iopub.execute_input": "2023-03-04T09:33:12.465670Z",
     "iopub.status.busy": "2023-03-04T09:33:12.465424Z",
     "iopub.status.idle": "2023-03-04T09:33:12.520998Z",
     "shell.execute_reply": "2023-03-04T09:33:12.520242Z",
     "shell.execute_reply.started": "2023-03-04T09:33:12.465648Z"
    },
    "tags": []
   },
   "outputs": [],
   "source": [
    "# Hunderttausender Zahlwörter erzeugen\n",
    "range_ = range(100000,990001,100000)\n",
    "zahlwörter_e = pd.DataFrame(zahlwörter_liste( range_ ))\n",
    "zahlwörter_e['score'] = wiktionary.score.quantile(0.7)  +  1/(zahlwörter_e.index.astype(int)+1)**0.5*3+1\n",
    "#zahlwörter_e"
   ]
  },
  {
   "cell_type": "code",
   "execution_count": 123,
   "metadata": {
    "execution": {
     "iopub.execute_input": "2023-03-04T09:33:12.522261Z",
     "iopub.status.busy": "2023-03-04T09:33:12.522018Z",
     "iopub.status.idle": "2023-03-04T09:33:12.560429Z",
     "shell.execute_reply": "2023-03-04T09:33:12.559297Z",
     "shell.execute_reply.started": "2023-03-04T09:33:12.522239Z"
    },
    "tags": []
   },
   "outputs": [],
   "source": [
    "# concat\n",
    "zahlwörter_all = pd.concat([  zahlwörter_a, zahlwörter_b, zahlwörter_c, zahlwörter_d, zahlwörter_e,  ])"
   ]
  },
  {
   "cell_type": "code",
   "execution_count": 124,
   "metadata": {
    "execution": {
     "iopub.execute_input": "2023-03-04T09:33:12.562240Z",
     "iopub.status.busy": "2023-03-04T09:33:12.561840Z",
     "iopub.status.idle": "2023-03-04T09:33:12.611564Z",
     "shell.execute_reply": "2023-03-04T09:33:12.610867Z",
     "shell.execute_reply.started": "2023-03-04T09:33:12.562207Z"
    },
    "tags": []
   },
   "outputs": [],
   "source": [
    "# explode lex\n",
    "zahlwörter_all = zahlwörter_all.explode('lex')"
   ]
  },
  {
   "cell_type": "code",
   "execution_count": 125,
   "metadata": {
    "execution": {
     "iopub.execute_input": "2023-03-04T09:33:12.616122Z",
     "iopub.status.busy": "2023-03-04T09:33:12.615638Z",
     "iopub.status.idle": "2023-03-04T09:33:12.662393Z",
     "shell.execute_reply": "2023-03-04T09:33:12.661737Z",
     "shell.execute_reply.started": "2023-03-04T09:33:12.616098Z"
    },
    "tags": []
   },
   "outputs": [],
   "source": [
    "# Sonstige Spalten\n",
    "zahlwörter_all['tag']         = 'CARD'\n",
    "zahlwörter_all['tag_lex']     = 'lex' # ja\n",
    "zahlwörter_all['genus']       = 'f'\n",
    "zahlwörter_all['member']      = 'Zahlwort'\n",
    "zahlwörter_all['tab']         = 'Zahlwort' # Wird später wieder gelöscht, dient der Kompatibilität zu lexeme_manuell"
   ]
  },
  {
   "cell_type": "code",
   "execution_count": 126,
   "metadata": {
    "execution": {
     "iopub.execute_input": "2023-03-04T09:33:12.667523Z",
     "iopub.status.busy": "2023-03-04T09:33:12.665815Z",
     "iopub.status.idle": "2023-03-04T09:33:12.722869Z",
     "shell.execute_reply": "2023-03-04T09:33:12.721830Z",
     "shell.execute_reply.started": "2023-03-04T09:33:12.667485Z"
    },
    "tags": []
   },
   "outputs": [
    {
     "name": "stdout",
     "output_type": "stream",
     "text": [
      "226 rows added, now a total of 678\n"
     ]
    }
   ],
   "source": [
    "# Substantive ergänzen\n",
    "mask = zahlwörter_all.lex == zahlwörter_all.lemma\n",
    "df = zahlwörter_all[mask].copy()\n",
    "df['lex']   = df.lex.str.capitalize()\n",
    "df['lemma'] = df.lex.str.capitalize()\n",
    "df['tag']   = 'NN'\n",
    "zahlwörter_all = pak.add_rows(zahlwörter_all, df)\n",
    "#df"
   ]
  },
  {
   "cell_type": "code",
   "execution_count": 127,
   "metadata": {
    "execution": {
     "iopub.execute_input": "2023-03-04T09:33:12.727745Z",
     "iopub.status.busy": "2023-03-04T09:33:12.727416Z",
     "iopub.status.idle": "2023-03-04T09:33:12.766898Z",
     "shell.execute_reply": "2023-03-04T09:33:12.766109Z",
     "shell.execute_reply.started": "2023-03-04T09:33:12.727721Z"
    },
    "tags": []
   },
   "outputs": [],
   "source": [
    "#zahlwörter_all['score'] = wiktionary.score.quantile(0.5)"
   ]
  },
  {
   "cell_type": "code",
   "execution_count": 128,
   "metadata": {
    "execution": {
     "iopub.execute_input": "2023-03-04T09:33:12.767932Z",
     "iopub.status.busy": "2023-03-04T09:33:12.767680Z",
     "iopub.status.idle": "2023-03-04T09:33:12.969919Z",
     "shell.execute_reply": "2023-03-04T09:33:12.969176Z",
     "shell.execute_reply.started": "2023-03-04T09:33:12.767910Z"
    },
    "tags": []
   },
   "outputs": [
    {
     "data": {
      "text/html": [
       "<div>\n",
       "<style scoped>\n",
       "    .dataframe tbody tr th:only-of-type {\n",
       "        vertical-align: middle;\n",
       "    }\n",
       "\n",
       "    .dataframe tbody tr th {\n",
       "        vertical-align: top;\n",
       "    }\n",
       "\n",
       "    .dataframe thead th {\n",
       "        text-align: right;\n",
       "    }\n",
       "</style>\n",
       "<table border=\"1\" class=\"dataframe\">\n",
       "  <thead>\n",
       "    <tr style=\"text-align: right;\">\n",
       "      <th></th>\n",
       "      <th>lex</th>\n",
       "      <th>lemma</th>\n",
       "      <th>def</th>\n",
       "      <th>score</th>\n",
       "      <th>tag</th>\n",
       "      <th>tag_lex</th>\n",
       "      <th>genus</th>\n",
       "      <th>member</th>\n",
       "      <th>tab</th>\n",
       "    </tr>\n",
       "  </thead>\n",
       "  <tbody>\n",
       "    <tr>\n",
       "      <th>0</th>\n",
       "      <td>null</td>\n",
       "      <td>null</td>\n",
       "      <td>0</td>\n",
       "      <td>6.239462</td>\n",
       "      <td>CARD</td>\n",
       "      <td>lex</td>\n",
       "      <td>f</td>\n",
       "      <td>Zahlwort</td>\n",
       "      <td>Zahlwort</td>\n",
       "    </tr>\n",
       "    <tr>\n",
       "      <th>16</th>\n",
       "      <td>acht</td>\n",
       "      <td>acht</td>\n",
       "      <td>8</td>\n",
       "      <td>4.239462</td>\n",
       "      <td>CARD</td>\n",
       "      <td>lex</td>\n",
       "      <td>f</td>\n",
       "      <td>Zahlwort</td>\n",
       "      <td>Zahlwort</td>\n",
       "    </tr>\n",
       "    <tr>\n",
       "      <th>237</th>\n",
       "      <td>10000</td>\n",
       "      <td>zehntausend</td>\n",
       "      <td>10000</td>\n",
       "      <td>3.154812</td>\n",
       "      <td>CARD</td>\n",
       "      <td>lex</td>\n",
       "      <td>f</td>\n",
       "      <td>Zahlwort</td>\n",
       "      <td>Zahlwort</td>\n",
       "    </tr>\n",
       "    <tr>\n",
       "      <th>376</th>\n",
       "      <td>achtzigtausend</td>\n",
       "      <td>achtzigtausend</td>\n",
       "      <td>80000</td>\n",
       "      <td>2.541538</td>\n",
       "      <td>CARD</td>\n",
       "      <td>lex</td>\n",
       "      <td>f</td>\n",
       "      <td>Zahlwort</td>\n",
       "      <td>Zahlwort</td>\n",
       "    </tr>\n",
       "    <tr>\n",
       "      <th>414</th>\n",
       "      <td>neunundneunzigtausend</td>\n",
       "      <td>neunundneunzigtausend</td>\n",
       "      <td>99000</td>\n",
       "      <td>2.507640</td>\n",
       "      <td>CARD</td>\n",
       "      <td>lex</td>\n",
       "      <td>f</td>\n",
       "      <td>Zahlwort</td>\n",
       "      <td>Zahlwort</td>\n",
       "    </tr>\n",
       "    <tr>\n",
       "      <th>677</th>\n",
       "      <td>Neunhunderttausend</td>\n",
       "      <td>Neunhunderttausend</td>\n",
       "      <td>900000</td>\n",
       "      <td>3.705723</td>\n",
       "      <td>NN</td>\n",
       "      <td>lex</td>\n",
       "      <td>f</td>\n",
       "      <td>Zahlwort</td>\n",
       "      <td>Zahlwort</td>\n",
       "    </tr>\n",
       "  </tbody>\n",
       "</table>\n",
       "</div>"
      ],
      "text/plain": [
       "                       lex                  lemma     def     score   tag  \\\n",
       "0                     null                   null       0  6.239462  CARD   \n",
       "16                    acht                   acht       8  4.239462  CARD   \n",
       "237                  10000            zehntausend   10000  3.154812  CARD   \n",
       "376         achtzigtausend         achtzigtausend   80000  2.541538  CARD   \n",
       "414  neunundneunzigtausend  neunundneunzigtausend   99000  2.507640  CARD   \n",
       "677     Neunhunderttausend     Neunhunderttausend  900000  3.705723    NN   \n",
       "\n",
       "    tag_lex genus    member       tab  \n",
       "0       lex     f  Zahlwort  Zahlwort  \n",
       "16      lex     f  Zahlwort  Zahlwort  \n",
       "237     lex     f  Zahlwort  Zahlwort  \n",
       "376     lex     f  Zahlwort  Zahlwort  \n",
       "414     lex     f  Zahlwort  Zahlwort  \n",
       "677     lex     f  Zahlwort  Zahlwort  "
      ]
     },
     "execution_count": 128,
     "metadata": {},
     "output_type": "execute_result"
    }
   ],
   "source": [
    "# zahlwörter_all anschauen\n",
    "pak.sample(zahlwörter_all)"
   ]
  },
  {
   "cell_type": "markdown",
   "metadata": {},
   "source": [
    "## lexeme_manuell"
   ]
  },
  {
   "cell_type": "code",
   "execution_count": 129,
   "metadata": {
    "execution": {
     "iopub.execute_input": "2023-03-04T09:33:12.970973Z",
     "iopub.status.busy": "2023-03-04T09:33:12.970710Z",
     "iopub.status.idle": "2023-03-04T09:33:13.356845Z",
     "shell.execute_reply": "2023-03-04T09:33:13.356071Z",
     "shell.execute_reply.started": "2023-03-04T09:33:12.970952Z"
    },
    "tags": []
   },
   "outputs": [
    {
     "name": "stdout",
     "output_type": "stream",
     "text": [
      "1794 rows loaded\n"
     ]
    }
   ],
   "source": [
    "# laden\n",
    "lexeme_manuell = pak.load_excel( lexeme_manuell_filename, tabcol='tab' )\n",
    "lexeme_manuell = pak.move_cols(  lexeme_manuell, 'tag_lex')"
   ]
  },
  {
   "cell_type": "code",
   "execution_count": 130,
   "metadata": {
    "execution": {
     "iopub.execute_input": "2023-03-04T09:33:13.361319Z",
     "iopub.status.busy": "2023-03-04T09:33:13.361019Z",
     "iopub.status.idle": "2023-03-04T09:33:13.410391Z",
     "shell.execute_reply": "2023-03-04T09:33:13.409409Z",
     "shell.execute_reply.started": "2023-03-04T09:33:13.361295Z"
    },
    "tags": []
   },
   "outputs": [],
   "source": [
    "#pak.sample(lexeme_manuell)"
   ]
  },
  {
   "cell_type": "code",
   "execution_count": 131,
   "metadata": {
    "execution": {
     "iopub.execute_input": "2023-03-04T09:33:13.411562Z",
     "iopub.status.busy": "2023-03-04T09:33:13.411293Z",
     "iopub.status.idle": "2023-03-04T09:33:13.478854Z",
     "shell.execute_reply": "2023-03-04T09:33:13.478181Z",
     "shell.execute_reply.started": "2023-03-04T09:33:13.411538Z"
    }
   },
   "outputs": [
    {
     "data": {
      "text/html": [
       "<div>\n",
       "<style scoped>\n",
       "    .dataframe tbody tr th:only-of-type {\n",
       "        vertical-align: middle;\n",
       "    }\n",
       "\n",
       "    .dataframe tbody tr th {\n",
       "        vertical-align: top;\n",
       "    }\n",
       "\n",
       "    .dataframe thead th {\n",
       "        text-align: right;\n",
       "    }\n",
       "</style>\n",
       "<table border=\"1\" class=\"dataframe\">\n",
       "  <thead>\n",
       "    <tr style=\"text-align: right;\">\n",
       "      <th></th>\n",
       "      <th>tag_lex</th>\n",
       "      <th>lex</th>\n",
       "      <th>lemma</th>\n",
       "      <th>tag</th>\n",
       "      <th>member</th>\n",
       "      <th>genus</th>\n",
       "      <th>tab</th>\n",
       "    </tr>\n",
       "  </thead>\n",
       "  <tbody>\n",
       "    <tr>\n",
       "      <th>136</th>\n",
       "      <td>ADJ1</td>\n",
       "      <td>lachend</td>\n",
       "      <td>lachen</td>\n",
       "      <td>VVFIN</td>\n",
       "      <td>&lt;NA&gt;</td>\n",
       "      <td>&lt;NA&gt;</td>\n",
       "      <td>Partizipien</td>\n",
       "    </tr>\n",
       "  </tbody>\n",
       "</table>\n",
       "</div>"
      ],
      "text/plain": [
       "    tag_lex      lex   lemma    tag member genus          tab\n",
       "136    ADJ1  lachend  lachen  VVFIN   <NA>  <NA>  Partizipien"
      ]
     },
     "execution_count": 131,
     "metadata": {},
     "output_type": "execute_result"
    }
   ],
   "source": [
    "# suche_debug\n",
    "search_str(lexeme_manuell, suche_debug)"
   ]
  },
  {
   "cell_type": "code",
   "execution_count": 132,
   "metadata": {
    "execution": {
     "iopub.execute_input": "2023-03-04T09:33:13.480342Z",
     "iopub.status.busy": "2023-03-04T09:33:13.480088Z",
     "iopub.status.idle": "2023-03-04T09:33:13.525035Z",
     "shell.execute_reply": "2023-03-04T09:33:13.521410Z",
     "shell.execute_reply.started": "2023-03-04T09:33:13.480321Z"
    }
   },
   "outputs": [
    {
     "name": "stdout",
     "output_type": "stream",
     "text": [
      "check_mask:  0 rows\n"
     ]
    }
   ],
   "source": [
    "# Partizipien falsch definiert?\n",
    "mask = lexeme_manuell.member.str.contains('Ptz')\n",
    "check_mask(lexeme_manuell,mask,0)"
   ]
  },
  {
   "cell_type": "code",
   "execution_count": 133,
   "metadata": {
    "execution": {
     "iopub.execute_input": "2023-03-04T09:33:13.526082Z",
     "iopub.status.busy": "2023-03-04T09:33:13.525847Z",
     "iopub.status.idle": "2023-03-04T09:33:13.562048Z",
     "shell.execute_reply": "2023-03-04T09:33:13.561403Z",
     "shell.execute_reply.started": "2023-03-04T09:33:13.526061Z"
    },
    "tags": []
   },
   "outputs": [
    {
     "name": "stdout",
     "output_type": "stream",
     "text": [
      "check_mask:  0 rows\n"
     ]
    }
   ],
   "source": [
    "# Partizipien falsch definiert?\n",
    "mask1  = lexeme_manuell.tag_lex.isin(['ADJ1','ADJ2'])\n",
    "mask2A = lexeme_manuell.tab != 'Partizipien'\n",
    "mask2B = lexeme_manuell.tag != 'VVFIN'\n",
    "mask = mask1  &  (mask2A | mask2B)\n",
    "check_mask(lexeme_manuell,mask,0)\n",
    "#lexeme_manuell[mask]"
   ]
  },
  {
   "cell_type": "code",
   "execution_count": 134,
   "metadata": {
    "execution": {
     "iopub.execute_input": "2023-03-04T09:33:13.563033Z",
     "iopub.status.busy": "2023-03-04T09:33:13.562802Z",
     "iopub.status.idle": "2023-03-04T09:33:13.599521Z",
     "shell.execute_reply": "2023-03-04T09:33:13.598662Z",
     "shell.execute_reply.started": "2023-03-04T09:33:13.563012Z"
    },
    "tags": []
   },
   "outputs": [
    {
     "name": "stdout",
     "output_type": "stream",
     "text": [
      "check_mask:  0 rows\n"
     ]
    }
   ],
   "source": [
    "# Abkürzungen falsch definiert?\n",
    "# Das Schlüsselwort 'Abkürzung' darf nirgends in lexeme_manuell vorkommen.\n",
    "mask1A = lexeme_manuell.member.str.contains('Abkürzung')\n",
    "mask1B = lexeme_manuell.member.str.contains('Abkürzung')\n",
    "mask = (mask1A | mask1B) \n",
    "check_mask(lexeme_manuell,mask,0)\n",
    "#lexeme_manuell[mask]"
   ]
  },
  {
   "cell_type": "code",
   "execution_count": 135,
   "metadata": {
    "execution": {
     "iopub.execute_input": "2023-03-04T09:33:13.606837Z",
     "iopub.status.busy": "2023-03-04T09:33:13.606544Z",
     "iopub.status.idle": "2023-03-04T09:33:13.675302Z",
     "shell.execute_reply": "2023-03-04T09:33:13.674379Z",
     "shell.execute_reply.started": "2023-03-04T09:33:13.606814Z"
    },
    "tags": []
   },
   "outputs": [],
   "source": [
    "# score\n",
    "lexeme_manuell['score'] = wiktionary.score.quantile(0.8)"
   ]
  },
  {
   "cell_type": "code",
   "execution_count": 136,
   "metadata": {
    "execution": {
     "iopub.execute_input": "2023-03-04T09:33:13.676686Z",
     "iopub.status.busy": "2023-03-04T09:33:13.676253Z",
     "iopub.status.idle": "2023-03-04T09:33:13.730386Z",
     "shell.execute_reply": "2023-03-04T09:33:13.728799Z",
     "shell.execute_reply.started": "2023-03-04T09:33:13.676652Z"
    },
    "tags": []
   },
   "outputs": [],
   "source": [
    "#pak.sample(zahlwörter_all)"
   ]
  },
  {
   "cell_type": "code",
   "execution_count": 137,
   "metadata": {
    "execution": {
     "iopub.execute_input": "2023-03-04T09:33:13.736481Z",
     "iopub.status.busy": "2023-03-04T09:33:13.736204Z",
     "iopub.status.idle": "2023-03-04T09:33:13.788824Z",
     "shell.execute_reply": "2023-03-04T09:33:13.785594Z",
     "shell.execute_reply.started": "2023-03-04T09:33:13.736460Z"
    },
    "tags": []
   },
   "outputs": [
    {
     "name": "stdout",
     "output_type": "stream",
     "text": [
      "left_only:  {'def'}\n",
      "right_only: {}\n",
      "\n"
     ]
    }
   ],
   "source": [
    "s = zahlwörter_all.columns\n",
    "t = lexeme_manuell.columns\n",
    "bpy.minivenn(s,t, format='print2')"
   ]
  },
  {
   "cell_type": "code",
   "execution_count": 138,
   "metadata": {
    "execution": {
     "iopub.execute_input": "2023-03-04T09:33:13.796227Z",
     "iopub.status.busy": "2023-03-04T09:33:13.795905Z",
     "iopub.status.idle": "2023-03-04T09:33:13.842199Z",
     "shell.execute_reply": "2023-03-04T09:33:13.841394Z",
     "shell.execute_reply.started": "2023-03-04T09:33:13.796205Z"
    },
    "tags": []
   },
   "outputs": [],
   "source": [
    "# assert subset\n",
    "assert set(zahlwörter_all.columns) - set(['def']) <= set(lexeme_manuell.columns)"
   ]
  },
  {
   "cell_type": "code",
   "execution_count": 139,
   "metadata": {
    "execution": {
     "iopub.execute_input": "2023-03-04T09:33:13.844206Z",
     "iopub.status.busy": "2023-03-04T09:33:13.843881Z",
     "iopub.status.idle": "2023-03-04T09:33:13.890696Z",
     "shell.execute_reply": "2023-03-04T09:33:13.889912Z",
     "shell.execute_reply.started": "2023-03-04T09:33:13.844184Z"
    },
    "tags": []
   },
   "outputs": [
    {
     "name": "stdout",
     "output_type": "stream",
     "text": [
      "678 rows added, now a total of 2472\n"
     ]
    }
   ],
   "source": [
    "# zahlwörter_all anfügen\n",
    "lexeme_manuell = pak.add_rows(lexeme_manuell, zahlwörter_all)"
   ]
  },
  {
   "cell_type": "code",
   "execution_count": 140,
   "metadata": {
    "execution": {
     "iopub.execute_input": "2023-03-04T09:33:13.891986Z",
     "iopub.status.busy": "2023-03-04T09:33:13.891703Z",
     "iopub.status.idle": "2023-03-04T09:33:13.952754Z",
     "shell.execute_reply": "2023-03-04T09:33:13.952025Z",
     "shell.execute_reply.started": "2023-03-04T09:33:13.891964Z"
    },
    "tags": []
   },
   "outputs": [
    {
     "data": {
      "text/html": [
       "<div>\n",
       "<style scoped>\n",
       "    .dataframe tbody tr th:only-of-type {\n",
       "        vertical-align: middle;\n",
       "    }\n",
       "\n",
       "    .dataframe tbody tr th {\n",
       "        vertical-align: top;\n",
       "    }\n",
       "\n",
       "    .dataframe thead th {\n",
       "        text-align: right;\n",
       "    }\n",
       "</style>\n",
       "<table border=\"1\" class=\"dataframe\">\n",
       "  <thead>\n",
       "    <tr style=\"text-align: right;\">\n",
       "      <th></th>\n",
       "      <th>tab</th>\n",
       "      <th>tab_count</th>\n",
       "      <th>tab_percent</th>\n",
       "      <th>graph</th>\n",
       "    </tr>\n",
       "  </thead>\n",
       "  <tbody>\n",
       "    <tr>\n",
       "      <th>0</th>\n",
       "      <td>esszett</td>\n",
       "      <td>729</td>\n",
       "      <td>29.5</td>\n",
       "      <td>##############</td>\n",
       "    </tr>\n",
       "    <tr>\n",
       "      <th>1</th>\n",
       "      <td>Zahlwort</td>\n",
       "      <td>678</td>\n",
       "      <td>27.4</td>\n",
       "      <td>#############</td>\n",
       "    </tr>\n",
       "    <tr>\n",
       "      <th>2</th>\n",
       "      <td>Partizipien</td>\n",
       "      <td>413</td>\n",
       "      <td>16.7</td>\n",
       "      <td>########</td>\n",
       "    </tr>\n",
       "    <tr>\n",
       "      <th>3</th>\n",
       "      <td>Diverses</td>\n",
       "      <td>308</td>\n",
       "      <td>12.5</td>\n",
       "      <td>######</td>\n",
       "    </tr>\n",
       "    <tr>\n",
       "      <th>4</th>\n",
       "      <td>Abkuerzungen</td>\n",
       "      <td>156</td>\n",
       "      <td>6.3</td>\n",
       "      <td>###</td>\n",
       "    </tr>\n",
       "    <tr>\n",
       "      <th>5</th>\n",
       "      <td>FM</td>\n",
       "      <td>102</td>\n",
       "      <td>4.1</td>\n",
       "      <td>##</td>\n",
       "    </tr>\n",
       "    <tr>\n",
       "      <th>6</th>\n",
       "      <td>Symbole</td>\n",
       "      <td>48</td>\n",
       "      <td>1.9</td>\n",
       "      <td></td>\n",
       "    </tr>\n",
       "    <tr>\n",
       "      <th>7</th>\n",
       "      <td>Partikel</td>\n",
       "      <td>36</td>\n",
       "      <td>1.5</td>\n",
       "      <td></td>\n",
       "    </tr>\n",
       "    <tr>\n",
       "      <th>8</th>\n",
       "      <td>Namen</td>\n",
       "      <td>2</td>\n",
       "      <td>0.1</td>\n",
       "      <td></td>\n",
       "    </tr>\n",
       "  </tbody>\n",
       "</table>\n",
       "</div>"
      ],
      "text/plain": [
       "            tab  tab_count  tab_percent           graph\n",
       "0       esszett        729         29.5  ##############\n",
       "1      Zahlwort        678         27.4   #############\n",
       "2   Partizipien        413         16.7        ########\n",
       "3      Diverses        308         12.5          ######\n",
       "4  Abkuerzungen        156          6.3             ###\n",
       "5            FM        102          4.1              ##\n",
       "6       Symbole         48          1.9                \n",
       "7      Partikel         36          1.5                \n",
       "8         Namen          2          0.1                "
      ]
     },
     "execution_count": 140,
     "metadata": {},
     "output_type": "execute_result"
    }
   ],
   "source": [
    "# tab analysieren\n",
    "pak.analyse_freqs( lexeme_manuell, cols='tab')"
   ]
  },
  {
   "cell_type": "code",
   "execution_count": 141,
   "metadata": {
    "execution": {
     "iopub.execute_input": "2023-03-04T09:33:13.954080Z",
     "iopub.status.busy": "2023-03-04T09:33:13.953821Z",
     "iopub.status.idle": "2023-03-04T09:33:14.034224Z",
     "shell.execute_reply": "2023-03-04T09:33:14.033487Z",
     "shell.execute_reply.started": "2023-03-04T09:33:13.954060Z"
    },
    "tags": []
   },
   "outputs": [
    {
     "name": "stdout",
     "output_type": "stream",
     "text": [
      "check_mask:  0 rows\n"
     ]
    }
   ],
   "source": [
    "# NaN\n",
    "\n",
    "# def\n",
    "lexeme_manuell['def'] = lexeme_manuell['def'].fillna('')\n",
    "\n",
    "# member\n",
    "mask = lexeme_manuell.member.isnull()   |   lexeme_manuell.member.isin(['nan'])\n",
    "lexeme_manuell.loc[mask,'member'] = ''\n",
    "lexeme_manuell.member += ' manuell'\n",
    "\n",
    "# lemma und lex\n",
    "mask = lexeme_manuell.lemma.isnull()   |   lexeme_manuell.lemma.isin(['nan',''])\n",
    "lexeme_manuell.loc[mask,'lemma'] = lexeme_manuell[mask].lex\n",
    "lexeme_manuell.loc[mask,'member'] += ' ergänzt'\n",
    "\n",
    "mask = lexeme_manuell.lex.isnull()   |   lexeme_manuell.lex.isin(['nan',''])\n",
    "lexeme_manuell.loc[mask,'lex'] = lexeme_manuell[mask].lemma\n",
    "lexeme_manuell.loc[mask,'member'] += ' ergänzt'\n",
    "\n",
    "# genus\n",
    "mask = lexeme_manuell.genus.isnull()   |   lexeme_manuell.genus.isin(['nan'])\n",
    "lexeme_manuell.loc[mask,'genus'] = ''\n",
    "\n",
    "# tag_lex\n",
    "mask = lexeme_manuell.tag_lex.isnull()   |   lexeme_manuell.tag_lex.isin(['nan'])\n",
    "lexeme_manuell.loc[mask,'tag_lex'] = ''\n",
    "\n",
    "mask = (lexeme_manuell.lex != lexeme_manuell.lemma)   &   (lexeme_manuell.tag_lex == '')\n",
    "lexeme_manuell.loc[mask,'tag_lex'] = 'lex'\n",
    "\n",
    "mask = (lexeme_manuell.lex == lexeme_manuell.lemma)   &   (  (lexeme_manuell.tag_lex == 'lex')  | (lexeme_manuell.tag_lex == '')  )\n",
    "lexeme_manuell.loc[mask,'tag_lex'] = 'lemma'\n",
    "\n",
    "# tag\n",
    "mask = lexeme_manuell.tag.isnull()   |   lexeme_manuell.tag.isin(['nan',''])\n",
    "check_mask( lexeme_manuell, mask, 0, 0)\n",
    "\n",
    "# Abschluss\n",
    "lexeme_manuell.member = lexeme_manuell.member.str.strip()\n",
    "lexeme_manuell = pak.rename_col(lexeme_manuell, 'genus','Genus')\n",
    "\n",
    "#lexeme_manuell = pak.move_cols(lexeme_manuell, ['Genus','abk'], -1)\n",
    "#lexeme_manuell['abk'] = ''"
   ]
  },
  {
   "cell_type": "code",
   "execution_count": 142,
   "metadata": {
    "execution": {
     "iopub.execute_input": "2023-03-04T09:33:14.040563Z",
     "iopub.status.busy": "2023-03-04T09:33:14.038192Z",
     "iopub.status.idle": "2023-03-04T09:33:14.099804Z",
     "shell.execute_reply": "2023-03-04T09:33:14.099149Z",
     "shell.execute_reply.started": "2023-03-04T09:33:14.040521Z"
    },
    "tags": []
   },
   "outputs": [
    {
     "name": "stdout",
     "output_type": "stream",
     "text": [
      "Move 76 rows from 2472\n",
      "76 rows\n"
     ]
    },
    {
     "data": {
      "text/html": [
       "<div>\n",
       "<style scoped>\n",
       "    .dataframe tbody tr th:only-of-type {\n",
       "        vertical-align: middle;\n",
       "    }\n",
       "\n",
       "    .dataframe tbody tr th {\n",
       "        vertical-align: top;\n",
       "    }\n",
       "\n",
       "    .dataframe thead th {\n",
       "        text-align: right;\n",
       "    }\n",
       "</style>\n",
       "<table border=\"1\" class=\"dataframe\">\n",
       "  <thead>\n",
       "    <tr style=\"text-align: right;\">\n",
       "      <th></th>\n",
       "      <th>tag_lex</th>\n",
       "      <th>lex</th>\n",
       "      <th>lemma</th>\n",
       "      <th>tag</th>\n",
       "      <th>member</th>\n",
       "      <th>Genus</th>\n",
       "      <th>tab</th>\n",
       "      <th>score</th>\n",
       "      <th>def</th>\n",
       "      <th>msg</th>\n",
       "    </tr>\n",
       "  </thead>\n",
       "  <tbody>\n",
       "    <tr>\n",
       "      <th>897</th>\n",
       "      <td>lex</td>\n",
       "      <td>einflußreiche</td>\n",
       "      <td>einflussreich</td>\n",
       "      <td>ADJA</td>\n",
       "      <td>lexAlt manuell</td>\n",
       "      <td></td>\n",
       "      <td>esszett</td>\n",
       "      <td>2.239462</td>\n",
       "      <td></td>\n",
       "      <td>7</td>\n",
       "    </tr>\n",
       "    <tr>\n",
       "      <th>910</th>\n",
       "      <td>lex</td>\n",
       "      <td>gewiße</td>\n",
       "      <td>gewiss</td>\n",
       "      <td>ADJA</td>\n",
       "      <td>lexAlt manuell</td>\n",
       "      <td></td>\n",
       "      <td>esszett</td>\n",
       "      <td>2.239462</td>\n",
       "      <td></td>\n",
       "      <td>7</td>\n",
       "    </tr>\n",
       "    <tr>\n",
       "      <th>915</th>\n",
       "      <td>lex</td>\n",
       "      <td>gräßlicher</td>\n",
       "      <td>grässlich</td>\n",
       "      <td>ADJA</td>\n",
       "      <td>lexAlt manuell</td>\n",
       "      <td></td>\n",
       "      <td>esszett</td>\n",
       "      <td>2.239462</td>\n",
       "      <td></td>\n",
       "      <td>7</td>\n",
       "    </tr>\n",
       "    <tr>\n",
       "      <th>917</th>\n",
       "      <td>lex</td>\n",
       "      <td>gräßliches</td>\n",
       "      <td>grässlich</td>\n",
       "      <td>ADJA</td>\n",
       "      <td>lexAlt manuell</td>\n",
       "      <td></td>\n",
       "      <td>esszett</td>\n",
       "      <td>2.239462</td>\n",
       "      <td></td>\n",
       "      <td>7</td>\n",
       "    </tr>\n",
       "    <tr>\n",
       "      <th>937</th>\n",
       "      <td>lex</td>\n",
       "      <td>läßliche</td>\n",
       "      <td>lässlich</td>\n",
       "      <td>ADJA</td>\n",
       "      <td>lexAlt manuell</td>\n",
       "      <td></td>\n",
       "      <td>esszett</td>\n",
       "      <td>2.239462</td>\n",
       "      <td></td>\n",
       "      <td>7</td>\n",
       "    </tr>\n",
       "    <tr>\n",
       "      <th>...</th>\n",
       "      <td>...</td>\n",
       "      <td>...</td>\n",
       "      <td>...</td>\n",
       "      <td>...</td>\n",
       "      <td>...</td>\n",
       "      <td>...</td>\n",
       "      <td>...</td>\n",
       "      <td>...</td>\n",
       "      <td>...</td>\n",
       "      <td>...</td>\n",
       "    </tr>\n",
       "    <tr>\n",
       "      <th>1581</th>\n",
       "      <td>lex</td>\n",
       "      <td>wüßten</td>\n",
       "      <td>wissen</td>\n",
       "      <td>VVFIN</td>\n",
       "      <td>lexAlt manuell</td>\n",
       "      <td></td>\n",
       "      <td>esszett</td>\n",
       "      <td>2.239462</td>\n",
       "      <td></td>\n",
       "      <td>7</td>\n",
       "    </tr>\n",
       "    <tr>\n",
       "      <th>1584</th>\n",
       "      <td>lex</td>\n",
       "      <td>zerfrißt</td>\n",
       "      <td>zerfressen</td>\n",
       "      <td>VVFIN</td>\n",
       "      <td>lexAlt manuell</td>\n",
       "      <td></td>\n",
       "      <td>esszett</td>\n",
       "      <td>2.239462</td>\n",
       "      <td></td>\n",
       "      <td>7</td>\n",
       "    </tr>\n",
       "    <tr>\n",
       "      <th>1587</th>\n",
       "      <td>lex</td>\n",
       "      <td>zuläßt</td>\n",
       "      <td>zulassen</td>\n",
       "      <td>VVFIN</td>\n",
       "      <td>lexAlt manuell</td>\n",
       "      <td></td>\n",
       "      <td>esszett</td>\n",
       "      <td>2.239462</td>\n",
       "      <td></td>\n",
       "      <td>7</td>\n",
       "    </tr>\n",
       "    <tr>\n",
       "      <th>1590</th>\n",
       "      <td>lex</td>\n",
       "      <td>zusammenfaßt</td>\n",
       "      <td>zusammenfassen</td>\n",
       "      <td>VVFIN</td>\n",
       "      <td>lexAlt manuell</td>\n",
       "      <td></td>\n",
       "      <td>esszett</td>\n",
       "      <td>2.239462</td>\n",
       "      <td></td>\n",
       "      <td>7</td>\n",
       "    </tr>\n",
       "    <tr>\n",
       "      <th>1593</th>\n",
       "      <td>lex</td>\n",
       "      <td>zusammenpaßt</td>\n",
       "      <td>zusammenpassen</td>\n",
       "      <td>VVFIN</td>\n",
       "      <td>lexAlt manuell</td>\n",
       "      <td></td>\n",
       "      <td>esszett</td>\n",
       "      <td>2.239462</td>\n",
       "      <td></td>\n",
       "      <td>7</td>\n",
       "    </tr>\n",
       "  </tbody>\n",
       "</table>\n",
       "<p>76 rows × 10 columns</p>\n",
       "</div>"
      ],
      "text/plain": [
       "     tag_lex            lex           lemma    tag          member Genus  \\\n",
       "897      lex  einflußreiche   einflussreich   ADJA  lexAlt manuell         \n",
       "910      lex         gewiße          gewiss   ADJA  lexAlt manuell         \n",
       "915      lex     gräßlicher       grässlich   ADJA  lexAlt manuell         \n",
       "917      lex     gräßliches       grässlich   ADJA  lexAlt manuell         \n",
       "937      lex       läßliche        lässlich   ADJA  lexAlt manuell         \n",
       "...      ...            ...             ...    ...             ...   ...   \n",
       "1581     lex         wüßten          wissen  VVFIN  lexAlt manuell         \n",
       "1584     lex       zerfrißt      zerfressen  VVFIN  lexAlt manuell         \n",
       "1587     lex         zuläßt        zulassen  VVFIN  lexAlt manuell         \n",
       "1590     lex   zusammenfaßt  zusammenfassen  VVFIN  lexAlt manuell         \n",
       "1593     lex   zusammenpaßt  zusammenpassen  VVFIN  lexAlt manuell         \n",
       "\n",
       "          tab     score def msg  \n",
       "897   esszett  2.239462       7  \n",
       "910   esszett  2.239462       7  \n",
       "915   esszett  2.239462       7  \n",
       "917   esszett  2.239462       7  \n",
       "937   esszett  2.239462       7  \n",
       "...       ...       ...  ..  ..  \n",
       "1581  esszett  2.239462       7  \n",
       "1584  esszett  2.239462       7  \n",
       "1587  esszett  2.239462       7  \n",
       "1590  esszett  2.239462       7  \n",
       "1593  esszett  2.239462       7  \n",
       "\n",
       "[76 rows x 10 columns]"
      ]
     },
     "execution_count": 142,
     "metadata": {},
     "output_type": "execute_result"
    }
   ],
   "source": [
    "# Dups löschen\n",
    "mask = lexeme_manuell.duplicated()\n",
    "lexeme_manuell, df = pak.move_rows(lexeme_manuell,mask)\n",
    "grid(df)"
   ]
  },
  {
   "cell_type": "code",
   "execution_count": 143,
   "metadata": {
    "execution": {
     "iopub.execute_input": "2023-03-04T09:33:14.103415Z",
     "iopub.status.busy": "2023-03-04T09:33:14.103066Z",
     "iopub.status.idle": "2023-03-04T09:33:14.354472Z",
     "shell.execute_reply": "2023-03-04T09:33:14.353632Z",
     "shell.execute_reply.started": "2023-03-04T09:33:14.103393Z"
    },
    "tags": []
   },
   "outputs": [
    {
     "data": {
      "text/html": [
       "<div>\n",
       "<style scoped>\n",
       "    .dataframe tbody tr th:only-of-type {\n",
       "        vertical-align: middle;\n",
       "    }\n",
       "\n",
       "    .dataframe tbody tr th {\n",
       "        vertical-align: top;\n",
       "    }\n",
       "\n",
       "    .dataframe thead th {\n",
       "        text-align: right;\n",
       "    }\n",
       "</style>\n",
       "<table border=\"1\" class=\"dataframe\">\n",
       "  <thead>\n",
       "    <tr style=\"text-align: right;\">\n",
       "      <th></th>\n",
       "      <th>tag_lex</th>\n",
       "      <th>lex</th>\n",
       "      <th>lemma</th>\n",
       "      <th>tag</th>\n",
       "      <th>member</th>\n",
       "      <th>Genus</th>\n",
       "      <th>tab</th>\n",
       "      <th>score</th>\n",
       "      <th>def</th>\n",
       "    </tr>\n",
       "  </thead>\n",
       "  <tbody>\n",
       "    <tr>\n",
       "      <th>0</th>\n",
       "      <td>ADJ1</td>\n",
       "      <td>abfahrend</td>\n",
       "      <td>abfahren</td>\n",
       "      <td>VVFIN</td>\n",
       "      <td>manuell</td>\n",
       "      <td></td>\n",
       "      <td>Partizipien</td>\n",
       "      <td>2.239462</td>\n",
       "      <td></td>\n",
       "    </tr>\n",
       "    <tr>\n",
       "      <th>487</th>\n",
       "      <td>lex</td>\n",
       "      <td>Kids</td>\n",
       "      <td>Kid</td>\n",
       "      <td>NN</td>\n",
       "      <td>manuell</td>\n",
       "      <td>n</td>\n",
       "      <td>Diverses</td>\n",
       "      <td>2.239462</td>\n",
       "      <td></td>\n",
       "    </tr>\n",
       "    <tr>\n",
       "      <th>502</th>\n",
       "      <td>lex</td>\n",
       "      <td>musses</td>\n",
       "      <td>müssen</td>\n",
       "      <td>VMFIN</td>\n",
       "      <td>manuell</td>\n",
       "      <td></td>\n",
       "      <td>Diverses</td>\n",
       "      <td>2.239462</td>\n",
       "      <td></td>\n",
       "    </tr>\n",
       "    <tr>\n",
       "      <th>721</th>\n",
       "      <td>lex</td>\n",
       "      <td>❀</td>\n",
       "      <td>_</td>\n",
       "      <td>$(</td>\n",
       "      <td>manuell</td>\n",
       "      <td></td>\n",
       "      <td>Symbole</td>\n",
       "      <td>2.239462</td>\n",
       "      <td></td>\n",
       "    </tr>\n",
       "    <tr>\n",
       "      <th>723</th>\n",
       "      <td>syn</td>\n",
       "      <td>[</td>\n",
       "      <td>(</td>\n",
       "      <td>$(</td>\n",
       "      <td>manuell</td>\n",
       "      <td></td>\n",
       "      <td>Symbole</td>\n",
       "      <td>2.239462</td>\n",
       "      <td></td>\n",
       "    </tr>\n",
       "    <tr>\n",
       "      <th>756</th>\n",
       "      <td>lemma</td>\n",
       "      <td>!</td>\n",
       "      <td>!</td>\n",
       "      <td>$.</td>\n",
       "      <td>manuell ergänzt</td>\n",
       "      <td></td>\n",
       "      <td>Symbole</td>\n",
       "      <td>2.239462</td>\n",
       "      <td></td>\n",
       "    </tr>\n",
       "    <tr>\n",
       "      <th>759</th>\n",
       "      <td>lemma</td>\n",
       "      <td>…</td>\n",
       "      <td>…</td>\n",
       "      <td>$(</td>\n",
       "      <td>manuell ergänzt</td>\n",
       "      <td></td>\n",
       "      <td>Symbole</td>\n",
       "      <td>2.239462</td>\n",
       "      <td></td>\n",
       "    </tr>\n",
       "    <tr>\n",
       "      <th>1022</th>\n",
       "      <td>lex</td>\n",
       "      <td>gewiß</td>\n",
       "      <td>gewiss</td>\n",
       "      <td>ADV</td>\n",
       "      <td>modal lexAlt manuell</td>\n",
       "      <td></td>\n",
       "      <td>esszett</td>\n",
       "      <td>2.239462</td>\n",
       "      <td></td>\n",
       "    </tr>\n",
       "    <tr>\n",
       "      <th>1611</th>\n",
       "      <td>lex</td>\n",
       "      <td>a.Chr.</td>\n",
       "      <td>vor Christus</td>\n",
       "      <td>NN</td>\n",
       "      <td>Einheit Wortverbindung manuell</td>\n",
       "      <td></td>\n",
       "      <td>Abkuerzungen</td>\n",
       "      <td>2.239462</td>\n",
       "      <td></td>\n",
       "    </tr>\n",
       "    <tr>\n",
       "      <th>1794</th>\n",
       "      <td>lemma</td>\n",
       "      <td>null</td>\n",
       "      <td>null</td>\n",
       "      <td>CARD</td>\n",
       "      <td>Zahlwort manuell</td>\n",
       "      <td>f</td>\n",
       "      <td>Zahlwort</td>\n",
       "      <td>6.239462</td>\n",
       "      <td>0</td>\n",
       "    </tr>\n",
       "    <tr>\n",
       "      <th>2031</th>\n",
       "      <td>lex</td>\n",
       "      <td>10000</td>\n",
       "      <td>zehntausend</td>\n",
       "      <td>CARD</td>\n",
       "      <td>Zahlwort manuell</td>\n",
       "      <td>f</td>\n",
       "      <td>Zahlwort</td>\n",
       "      <td>3.154812</td>\n",
       "      <td>10000</td>\n",
       "    </tr>\n",
       "    <tr>\n",
       "      <th>2471</th>\n",
       "      <td>lemma</td>\n",
       "      <td>Neunhunderttausend</td>\n",
       "      <td>Neunhunderttausend</td>\n",
       "      <td>NN</td>\n",
       "      <td>Zahlwort manuell</td>\n",
       "      <td>f</td>\n",
       "      <td>Zahlwort</td>\n",
       "      <td>3.705723</td>\n",
       "      <td>900000</td>\n",
       "    </tr>\n",
       "  </tbody>\n",
       "</table>\n",
       "</div>"
      ],
      "text/plain": [
       "     tag_lex                 lex               lemma    tag  \\\n",
       "0       ADJ1           abfahrend            abfahren  VVFIN   \n",
       "487      lex                Kids                 Kid     NN   \n",
       "502      lex              musses              müssen  VMFIN   \n",
       "721      lex                   ❀                   _     $(   \n",
       "723      syn                   [                   (     $(   \n",
       "756    lemma                   !                   !     $.   \n",
       "759    lemma                   …                   …     $(   \n",
       "1022     lex               gewiß              gewiss    ADV   \n",
       "1611     lex              a.Chr.        vor Christus     NN   \n",
       "1794   lemma                null                null   CARD   \n",
       "2031     lex               10000         zehntausend   CARD   \n",
       "2471   lemma  Neunhunderttausend  Neunhunderttausend     NN   \n",
       "\n",
       "                              member Genus           tab     score     def  \n",
       "0                            manuell         Partizipien  2.239462          \n",
       "487                          manuell     n      Diverses  2.239462          \n",
       "502                          manuell            Diverses  2.239462          \n",
       "721                          manuell             Symbole  2.239462          \n",
       "723                          manuell             Symbole  2.239462          \n",
       "756                  manuell ergänzt             Symbole  2.239462          \n",
       "759                  manuell ergänzt             Symbole  2.239462          \n",
       "1022            modal lexAlt manuell             esszett  2.239462          \n",
       "1611  Einheit Wortverbindung manuell        Abkuerzungen  2.239462          \n",
       "1794                Zahlwort manuell     f      Zahlwort  6.239462       0  \n",
       "2031                Zahlwort manuell     f      Zahlwort  3.154812   10000  \n",
       "2471                Zahlwort manuell     f      Zahlwort  3.705723  900000  "
      ]
     },
     "execution_count": 143,
     "metadata": {},
     "output_type": "execute_result"
    }
   ],
   "source": [
    "pak.sample(lexeme_manuell)"
   ]
  },
  {
   "cell_type": "code",
   "execution_count": 144,
   "metadata": {
    "execution": {
     "iopub.execute_input": "2023-03-04T09:33:14.355490Z",
     "iopub.status.busy": "2023-03-04T09:33:14.355259Z",
     "iopub.status.idle": "2023-03-04T09:33:14.420296Z",
     "shell.execute_reply": "2023-03-04T09:33:14.419543Z",
     "shell.execute_reply.started": "2023-03-04T09:33:14.355470Z"
    }
   },
   "outputs": [
    {
     "data": {
      "text/html": [
       "<div>\n",
       "<style scoped>\n",
       "    .dataframe tbody tr th:only-of-type {\n",
       "        vertical-align: middle;\n",
       "    }\n",
       "\n",
       "    .dataframe tbody tr th {\n",
       "        vertical-align: top;\n",
       "    }\n",
       "\n",
       "    .dataframe thead th {\n",
       "        text-align: right;\n",
       "    }\n",
       "</style>\n",
       "<table border=\"1\" class=\"dataframe\">\n",
       "  <thead>\n",
       "    <tr style=\"text-align: right;\">\n",
       "      <th></th>\n",
       "      <th>tag_lex</th>\n",
       "      <th>lex</th>\n",
       "      <th>lemma</th>\n",
       "      <th>tag</th>\n",
       "      <th>member</th>\n",
       "      <th>Genus</th>\n",
       "      <th>tab</th>\n",
       "      <th>score</th>\n",
       "      <th>def</th>\n",
       "    </tr>\n",
       "  </thead>\n",
       "  <tbody>\n",
       "    <tr>\n",
       "      <th>136</th>\n",
       "      <td>ADJ1</td>\n",
       "      <td>lachend</td>\n",
       "      <td>lachen</td>\n",
       "      <td>VVFIN</td>\n",
       "      <td>manuell</td>\n",
       "      <td></td>\n",
       "      <td>Partizipien</td>\n",
       "      <td>2.239462</td>\n",
       "      <td></td>\n",
       "    </tr>\n",
       "  </tbody>\n",
       "</table>\n",
       "</div>"
      ],
      "text/plain": [
       "    tag_lex      lex   lemma    tag   member Genus          tab     score def\n",
       "136    ADJ1  lachend  lachen  VVFIN  manuell        Partizipien  2.239462    "
      ]
     },
     "execution_count": 144,
     "metadata": {},
     "output_type": "execute_result"
    }
   ],
   "source": [
    "# suche_debug\n",
    "search_str(lexeme_manuell, suche_debug)"
   ]
  },
  {
   "cell_type": "code",
   "execution_count": 145,
   "metadata": {
    "execution": {
     "iopub.execute_input": "2023-03-04T09:33:14.422537Z",
     "iopub.status.busy": "2023-03-04T09:33:14.422156Z",
     "iopub.status.idle": "2023-03-04T09:33:14.486218Z",
     "shell.execute_reply": "2023-03-04T09:33:14.485455Z",
     "shell.execute_reply.started": "2023-03-04T09:33:14.422512Z"
    },
    "tags": []
   },
   "outputs": [],
   "source": [
    "# strip\n",
    "for c in pak.col_names(lexeme_manuell, only='str'):\n",
    "    lexeme_manuell[c] = lexeme_manuell[c].str.replace('  ',' ').str.strip()"
   ]
  },
  {
   "cell_type": "code",
   "execution_count": 146,
   "metadata": {
    "execution": {
     "iopub.execute_input": "2023-03-04T09:33:14.491815Z",
     "iopub.status.busy": "2023-03-04T09:33:14.487977Z",
     "iopub.status.idle": "2023-03-04T09:33:14.561258Z",
     "shell.execute_reply": "2023-03-04T09:33:14.560616Z",
     "shell.execute_reply.started": "2023-03-04T09:33:14.491769Z"
    }
   },
   "outputs": [
    {
     "data": {
      "text/html": [
       "<div>\n",
       "<style scoped>\n",
       "    .dataframe tbody tr th:only-of-type {\n",
       "        vertical-align: middle;\n",
       "    }\n",
       "\n",
       "    .dataframe tbody tr th {\n",
       "        vertical-align: top;\n",
       "    }\n",
       "\n",
       "    .dataframe thead th {\n",
       "        text-align: right;\n",
       "    }\n",
       "</style>\n",
       "<table border=\"1\" class=\"dataframe\">\n",
       "  <thead>\n",
       "    <tr style=\"text-align: right;\">\n",
       "      <th></th>\n",
       "      <th>member</th>\n",
       "      <th>member_count</th>\n",
       "      <th>member_percent</th>\n",
       "      <th>graph</th>\n",
       "    </tr>\n",
       "  </thead>\n",
       "  <tbody>\n",
       "    <tr>\n",
       "      <th>0</th>\n",
       "      <td>manuell</td>\n",
       "      <td>2396</td>\n",
       "      <td>57.0</td>\n",
       "      <td>############################</td>\n",
       "    </tr>\n",
       "    <tr>\n",
       "      <th>1</th>\n",
       "      <td>Zahlwort</td>\n",
       "      <td>678</td>\n",
       "      <td>16.1</td>\n",
       "      <td>########</td>\n",
       "    </tr>\n",
       "    <tr>\n",
       "      <th>2</th>\n",
       "      <td>lexAlt</td>\n",
       "      <td>653</td>\n",
       "      <td>15.5</td>\n",
       "      <td>#######</td>\n",
       "    </tr>\n",
       "    <tr>\n",
       "      <th>3</th>\n",
       "      <td>ergänzt</td>\n",
       "      <td>345</td>\n",
       "      <td>8.2</td>\n",
       "      <td>####</td>\n",
       "    </tr>\n",
       "    <tr>\n",
       "      <th>4</th>\n",
       "      <td>Einheit</td>\n",
       "      <td>56</td>\n",
       "      <td>1.3</td>\n",
       "      <td></td>\n",
       "    </tr>\n",
       "    <tr>\n",
       "      <th>5</th>\n",
       "      <td>PRE</td>\n",
       "      <td>42</td>\n",
       "      <td>1.0</td>\n",
       "      <td></td>\n",
       "    </tr>\n",
       "    <tr>\n",
       "      <th>6</th>\n",
       "      <td>Wortverbindung</td>\n",
       "      <td>28</td>\n",
       "      <td>0.7</td>\n",
       "      <td></td>\n",
       "    </tr>\n",
       "    <tr>\n",
       "      <th>7</th>\n",
       "      <td>Ort</td>\n",
       "      <td>2</td>\n",
       "      <td>0.0</td>\n",
       "      <td></td>\n",
       "    </tr>\n",
       "    <tr>\n",
       "      <th>8</th>\n",
       "      <td>modal</td>\n",
       "      <td>1</td>\n",
       "      <td>0.0</td>\n",
       "      <td></td>\n",
       "    </tr>\n",
       "    <tr>\n",
       "      <th>9</th>\n",
       "      <td>Land</td>\n",
       "      <td>1</td>\n",
       "      <td>0.0</td>\n",
       "      <td></td>\n",
       "    </tr>\n",
       "    <tr>\n",
       "      <th>10</th>\n",
       "      <td>Vorname</td>\n",
       "      <td>1</td>\n",
       "      <td>0.0</td>\n",
       "      <td></td>\n",
       "    </tr>\n",
       "    <tr>\n",
       "      <th>11</th>\n",
       "      <td>Toponym</td>\n",
       "      <td>1</td>\n",
       "      <td>0.0</td>\n",
       "      <td></td>\n",
       "    </tr>\n",
       "  </tbody>\n",
       "</table>\n",
       "</div>"
      ],
      "text/plain": [
       "            member  member_count  member_percent                         graph\n",
       "0          manuell          2396            57.0  ############################\n",
       "1         Zahlwort           678            16.1                      ########\n",
       "2           lexAlt           653            15.5                       #######\n",
       "3          ergänzt           345             8.2                          ####\n",
       "4          Einheit            56             1.3                              \n",
       "5              PRE            42             1.0                              \n",
       "6   Wortverbindung            28             0.7                              \n",
       "7              Ort             2             0.0                              \n",
       "8            modal             1             0.0                              \n",
       "9             Land             1             0.0                              \n",
       "10         Vorname             1             0.0                              \n",
       "11         Toponym             1             0.0                              "
      ]
     },
     "execution_count": 146,
     "metadata": {},
     "output_type": "execute_result"
    }
   ],
   "source": [
    "# member analysieren\n",
    "pak.analyse_freqs( lexeme_manuell, cols='member', splits=' ')"
   ]
  },
  {
   "cell_type": "code",
   "execution_count": 147,
   "metadata": {
    "execution": {
     "iopub.execute_input": "2023-03-04T09:33:14.563465Z",
     "iopub.status.busy": "2023-03-04T09:33:14.562873Z",
     "iopub.status.idle": "2023-03-04T09:33:14.600908Z",
     "shell.execute_reply": "2023-03-04T09:33:14.600231Z",
     "shell.execute_reply.started": "2023-03-04T09:33:14.563439Z"
    }
   },
   "outputs": [],
   "source": [
    "# Derzeit nicht nötig: Ersetzungen im member\n",
    "r = {  'Abkürzungen'        :  'Abkürzung',      \n",
    "       'Abkürzung Abkürzung':  'Abkürzung',        \n",
    "    }\n",
    "lexeme_manuell['member'] = pak.replace_str(lexeme_manuell.member, r)\n",
    "#grid(lexeme_manuell)"
   ]
  },
  {
   "cell_type": "code",
   "execution_count": 148,
   "metadata": {
    "execution": {
     "iopub.execute_input": "2023-03-04T09:33:14.603009Z",
     "iopub.status.busy": "2023-03-04T09:33:14.602581Z",
     "iopub.status.idle": "2023-03-04T09:33:14.663984Z",
     "shell.execute_reply": "2023-03-04T09:33:14.655432Z",
     "shell.execute_reply.started": "2023-03-04T09:33:14.602971Z"
    }
   },
   "outputs": [
    {
     "name": "stdout",
     "output_type": "stream",
     "text": [
      "check_mask:  653 rows\n"
     ]
    }
   ],
   "source": [
    "# Tab Esszett: tag_lex setzen\n",
    "mask1 = lexeme_manuell.tab == 'esszett'\n",
    "mask2A = lexeme_manuell.tag_lex == ''\n",
    "mask2B = lexeme_manuell.tag_lex == 'lex'\n",
    "mask = mask1  &  (mask2A | mask2B)\n",
    "check_mask(lexeme_manuell,mask,653)\n",
    "lexeme_manuell.loc[mask,'tag_lex'] = 'lexAlt'"
   ]
  },
  {
   "cell_type": "code",
   "execution_count": 149,
   "metadata": {
    "execution": {
     "iopub.execute_input": "2023-03-04T09:33:14.669631Z",
     "iopub.status.busy": "2023-03-04T09:33:14.669225Z",
     "iopub.status.idle": "2023-03-04T09:33:14.739900Z",
     "shell.execute_reply": "2023-03-04T09:33:14.739146Z",
     "shell.execute_reply.started": "2023-03-04T09:33:14.669605Z"
    }
   },
   "outputs": [
    {
     "name": "stdout",
     "output_type": "stream",
     "text": [
      "check_mask:  0 rows\n"
     ]
    }
   ],
   "source": [
    "# Tab Esszett: member setzen\n",
    "mask1 =  lexeme_manuell.tab == 'esszett'\n",
    "mask2 = ~lexeme_manuell.member.str.contains('lexAlt')\n",
    "mask = mask1  &  mask2\n",
    "check_mask(lexeme_manuell,mask)\n",
    "lexeme_manuell.loc[mask,'member'] += 'lexAlt'"
   ]
  },
  {
   "cell_type": "code",
   "execution_count": 150,
   "metadata": {
    "execution": {
     "iopub.execute_input": "2023-03-04T09:33:14.743670Z",
     "iopub.status.busy": "2023-03-04T09:33:14.743324Z",
     "iopub.status.idle": "2023-03-04T09:33:14.784056Z",
     "shell.execute_reply": "2023-03-04T09:33:14.783289Z",
     "shell.execute_reply.started": "2023-03-04T09:33:14.743649Z"
    }
   },
   "outputs": [],
   "source": [
    "# Tab Abkuerzungen: tag_lex setzen\n",
    "mask = (lexeme_manuell.tab == 'Abkuerzungen')\n",
    "lexeme_manuell.loc[mask,'tag_lex'] = 'abk'\n",
    "\n",
    "mask = lexeme_manuell.member.str.contains('Abkürzung')\n",
    "lexeme_manuell.loc[mask,'tag_lex'] = 'abk'"
   ]
  },
  {
   "cell_type": "code",
   "execution_count": 151,
   "metadata": {
    "execution": {
     "iopub.execute_input": "2023-03-04T09:33:14.788477Z",
     "iopub.status.busy": "2023-03-04T09:33:14.788125Z",
     "iopub.status.idle": "2023-03-04T09:33:15.052268Z",
     "shell.execute_reply": "2023-03-04T09:33:15.051505Z",
     "shell.execute_reply.started": "2023-03-04T09:33:14.788455Z"
    }
   },
   "outputs": [
    {
     "data": {
      "text/html": [
       "<div>\n",
       "<style scoped>\n",
       "    .dataframe tbody tr th:only-of-type {\n",
       "        vertical-align: middle;\n",
       "    }\n",
       "\n",
       "    .dataframe tbody tr th {\n",
       "        vertical-align: top;\n",
       "    }\n",
       "\n",
       "    .dataframe thead th {\n",
       "        text-align: right;\n",
       "    }\n",
       "</style>\n",
       "<table border=\"1\" class=\"dataframe\">\n",
       "  <thead>\n",
       "    <tr style=\"text-align: right;\">\n",
       "      <th></th>\n",
       "      <th>tag_lex</th>\n",
       "      <th>lex</th>\n",
       "      <th>lemma</th>\n",
       "      <th>tag</th>\n",
       "      <th>member</th>\n",
       "      <th>Genus</th>\n",
       "      <th>tab</th>\n",
       "      <th>score</th>\n",
       "      <th>def</th>\n",
       "    </tr>\n",
       "  </thead>\n",
       "  <tbody>\n",
       "    <tr>\n",
       "      <th>0</th>\n",
       "      <td>ADJ1</td>\n",
       "      <td>abfahrend</td>\n",
       "      <td>abfahren</td>\n",
       "      <td>VVFIN</td>\n",
       "      <td>manuell</td>\n",
       "      <td></td>\n",
       "      <td>Partizipien</td>\n",
       "      <td>2.239462</td>\n",
       "      <td></td>\n",
       "    </tr>\n",
       "    <tr>\n",
       "      <th>487</th>\n",
       "      <td>lex</td>\n",
       "      <td>Kids</td>\n",
       "      <td>Kid</td>\n",
       "      <td>NN</td>\n",
       "      <td>manuell</td>\n",
       "      <td>n</td>\n",
       "      <td>Diverses</td>\n",
       "      <td>2.239462</td>\n",
       "      <td></td>\n",
       "    </tr>\n",
       "    <tr>\n",
       "      <th>502</th>\n",
       "      <td>lex</td>\n",
       "      <td>musses</td>\n",
       "      <td>müssen</td>\n",
       "      <td>VMFIN</td>\n",
       "      <td>manuell</td>\n",
       "      <td></td>\n",
       "      <td>Diverses</td>\n",
       "      <td>2.239462</td>\n",
       "      <td></td>\n",
       "    </tr>\n",
       "    <tr>\n",
       "      <th>721</th>\n",
       "      <td>lex</td>\n",
       "      <td>❀</td>\n",
       "      <td>_</td>\n",
       "      <td>$(</td>\n",
       "      <td>manuell</td>\n",
       "      <td></td>\n",
       "      <td>Symbole</td>\n",
       "      <td>2.239462</td>\n",
       "      <td></td>\n",
       "    </tr>\n",
       "    <tr>\n",
       "      <th>723</th>\n",
       "      <td>syn</td>\n",
       "      <td>[</td>\n",
       "      <td>(</td>\n",
       "      <td>$(</td>\n",
       "      <td>manuell</td>\n",
       "      <td></td>\n",
       "      <td>Symbole</td>\n",
       "      <td>2.239462</td>\n",
       "      <td></td>\n",
       "    </tr>\n",
       "    <tr>\n",
       "      <th>756</th>\n",
       "      <td>lemma</td>\n",
       "      <td>!</td>\n",
       "      <td>!</td>\n",
       "      <td>$.</td>\n",
       "      <td>manuell ergänzt</td>\n",
       "      <td></td>\n",
       "      <td>Symbole</td>\n",
       "      <td>2.239462</td>\n",
       "      <td></td>\n",
       "    </tr>\n",
       "    <tr>\n",
       "      <th>759</th>\n",
       "      <td>lemma</td>\n",
       "      <td>…</td>\n",
       "      <td>…</td>\n",
       "      <td>$(</td>\n",
       "      <td>manuell ergänzt</td>\n",
       "      <td></td>\n",
       "      <td>Symbole</td>\n",
       "      <td>2.239462</td>\n",
       "      <td></td>\n",
       "    </tr>\n",
       "    <tr>\n",
       "      <th>1022</th>\n",
       "      <td>lexAlt</td>\n",
       "      <td>gewiß</td>\n",
       "      <td>gewiss</td>\n",
       "      <td>ADV</td>\n",
       "      <td>modal lexAlt manuell</td>\n",
       "      <td></td>\n",
       "      <td>esszett</td>\n",
       "      <td>2.239462</td>\n",
       "      <td></td>\n",
       "    </tr>\n",
       "    <tr>\n",
       "      <th>1611</th>\n",
       "      <td>abk</td>\n",
       "      <td>a.Chr.</td>\n",
       "      <td>vor Christus</td>\n",
       "      <td>NN</td>\n",
       "      <td>Einheit Wortverbindung manuell</td>\n",
       "      <td></td>\n",
       "      <td>Abkuerzungen</td>\n",
       "      <td>2.239462</td>\n",
       "      <td></td>\n",
       "    </tr>\n",
       "    <tr>\n",
       "      <th>1794</th>\n",
       "      <td>lemma</td>\n",
       "      <td>null</td>\n",
       "      <td>null</td>\n",
       "      <td>CARD</td>\n",
       "      <td>Zahlwort manuell</td>\n",
       "      <td>f</td>\n",
       "      <td>Zahlwort</td>\n",
       "      <td>6.239462</td>\n",
       "      <td>0</td>\n",
       "    </tr>\n",
       "    <tr>\n",
       "      <th>2031</th>\n",
       "      <td>lex</td>\n",
       "      <td>10000</td>\n",
       "      <td>zehntausend</td>\n",
       "      <td>CARD</td>\n",
       "      <td>Zahlwort manuell</td>\n",
       "      <td>f</td>\n",
       "      <td>Zahlwort</td>\n",
       "      <td>3.154812</td>\n",
       "      <td>10000</td>\n",
       "    </tr>\n",
       "    <tr>\n",
       "      <th>2471</th>\n",
       "      <td>lemma</td>\n",
       "      <td>Neunhunderttausend</td>\n",
       "      <td>Neunhunderttausend</td>\n",
       "      <td>NN</td>\n",
       "      <td>Zahlwort manuell</td>\n",
       "      <td>f</td>\n",
       "      <td>Zahlwort</td>\n",
       "      <td>3.705723</td>\n",
       "      <td>900000</td>\n",
       "    </tr>\n",
       "  </tbody>\n",
       "</table>\n",
       "</div>"
      ],
      "text/plain": [
       "     tag_lex                 lex               lemma    tag  \\\n",
       "0       ADJ1           abfahrend            abfahren  VVFIN   \n",
       "487      lex                Kids                 Kid     NN   \n",
       "502      lex              musses              müssen  VMFIN   \n",
       "721      lex                   ❀                   _     $(   \n",
       "723      syn                   [                   (     $(   \n",
       "756    lemma                   !                   !     $.   \n",
       "759    lemma                   …                   …     $(   \n",
       "1022  lexAlt               gewiß              gewiss    ADV   \n",
       "1611     abk              a.Chr.        vor Christus     NN   \n",
       "1794   lemma                null                null   CARD   \n",
       "2031     lex               10000         zehntausend   CARD   \n",
       "2471   lemma  Neunhunderttausend  Neunhunderttausend     NN   \n",
       "\n",
       "                              member Genus           tab     score     def  \n",
       "0                            manuell         Partizipien  2.239462          \n",
       "487                          manuell     n      Diverses  2.239462          \n",
       "502                          manuell            Diverses  2.239462          \n",
       "721                          manuell             Symbole  2.239462          \n",
       "723                          manuell             Symbole  2.239462          \n",
       "756                  manuell ergänzt             Symbole  2.239462          \n",
       "759                  manuell ergänzt             Symbole  2.239462          \n",
       "1022            modal lexAlt manuell             esszett  2.239462          \n",
       "1611  Einheit Wortverbindung manuell        Abkuerzungen  2.239462          \n",
       "1794                Zahlwort manuell     f      Zahlwort  6.239462       0  \n",
       "2031                Zahlwort manuell     f      Zahlwort  3.154812   10000  \n",
       "2471                Zahlwort manuell     f      Zahlwort  3.705723  900000  "
      ]
     },
     "execution_count": 151,
     "metadata": {},
     "output_type": "execute_result"
    }
   ],
   "source": [
    "# anschauen\n",
    "pak.sample(lexeme_manuell)"
   ]
  },
  {
   "cell_type": "code",
   "execution_count": 152,
   "metadata": {
    "execution": {
     "iopub.execute_input": "2023-03-04T09:33:15.053467Z",
     "iopub.status.busy": "2023-03-04T09:33:15.053228Z",
     "iopub.status.idle": "2023-03-04T09:33:15.111470Z",
     "shell.execute_reply": "2023-03-04T09:33:15.110796Z",
     "shell.execute_reply.started": "2023-03-04T09:33:15.053446Z"
    }
   },
   "outputs": [
    {
     "data": {
      "text/html": [
       "<div>\n",
       "<style scoped>\n",
       "    .dataframe tbody tr th:only-of-type {\n",
       "        vertical-align: middle;\n",
       "    }\n",
       "\n",
       "    .dataframe tbody tr th {\n",
       "        vertical-align: top;\n",
       "    }\n",
       "\n",
       "    .dataframe thead th {\n",
       "        text-align: right;\n",
       "    }\n",
       "</style>\n",
       "<table border=\"1\" class=\"dataframe\">\n",
       "  <thead>\n",
       "    <tr style=\"text-align: right;\">\n",
       "      <th></th>\n",
       "      <th>tag_lex</th>\n",
       "      <th>lex</th>\n",
       "      <th>lemma</th>\n",
       "      <th>tag</th>\n",
       "      <th>member</th>\n",
       "      <th>Genus</th>\n",
       "      <th>tab</th>\n",
       "      <th>score</th>\n",
       "      <th>def</th>\n",
       "    </tr>\n",
       "  </thead>\n",
       "  <tbody>\n",
       "    <tr>\n",
       "      <th>136</th>\n",
       "      <td>ADJ1</td>\n",
       "      <td>lachend</td>\n",
       "      <td>lachen</td>\n",
       "      <td>VVFIN</td>\n",
       "      <td>manuell</td>\n",
       "      <td></td>\n",
       "      <td>Partizipien</td>\n",
       "      <td>2.239462</td>\n",
       "      <td></td>\n",
       "    </tr>\n",
       "  </tbody>\n",
       "</table>\n",
       "</div>"
      ],
      "text/plain": [
       "    tag_lex      lex   lemma    tag   member Genus          tab     score def\n",
       "136    ADJ1  lachend  lachen  VVFIN  manuell        Partizipien  2.239462    "
      ]
     },
     "execution_count": 152,
     "metadata": {},
     "output_type": "execute_result"
    }
   ],
   "source": [
    "# suche_debug\n",
    "search_str(lexeme_manuell, suche_debug)"
   ]
  },
  {
   "cell_type": "code",
   "execution_count": 153,
   "metadata": {
    "execution": {
     "iopub.execute_input": "2023-03-04T09:33:15.118932Z",
     "iopub.status.busy": "2023-03-04T09:33:15.114073Z",
     "iopub.status.idle": "2023-03-04T09:33:15.233377Z",
     "shell.execute_reply": "2023-03-04T09:33:15.232589Z",
     "shell.execute_reply.started": "2023-03-04T09:33:15.118890Z"
    }
   },
   "outputs": [
    {
     "name": "stdout",
     "output_type": "stream",
     "text": [
      "10 rows\n"
     ]
    },
    {
     "data": {
      "text/html": [
       "<div>\n",
       "<style scoped>\n",
       "    .dataframe tbody tr th:only-of-type {\n",
       "        vertical-align: middle;\n",
       "    }\n",
       "\n",
       "    .dataframe tbody tr th {\n",
       "        vertical-align: top;\n",
       "    }\n",
       "\n",
       "    .dataframe thead th {\n",
       "        text-align: right;\n",
       "    }\n",
       "</style>\n",
       "<table border=\"1\" class=\"dataframe\">\n",
       "  <thead>\n",
       "    <tr style=\"text-align: right;\">\n",
       "      <th></th>\n",
       "      <th>tag_lex</th>\n",
       "      <th>tag_lex_count</th>\n",
       "      <th>tag_lex_percent</th>\n",
       "      <th>lex</th>\n",
       "      <th>lex_count</th>\n",
       "      <th>member</th>\n",
       "      <th>member_count</th>\n",
       "    </tr>\n",
       "  </thead>\n",
       "  <tbody>\n",
       "    <tr>\n",
       "      <th>0</th>\n",
       "      <td>lemma</td>\n",
       "      <td>785</td>\n",
       "      <td>32.8</td>\n",
       "      <td>[dies, grade, zehntausend, zwanzigtausend, dreißigtausend, vierzigtausend, fünfzigtausend, sechzigtausend, siebzigtausend, achtzigtausend, neunzigtausend, Zehntausend, Zwanzigtausend, Dreißigtausend, Vierzigtausend, Fünfzigtausend, Sechzigtausend, Siebzigtausend, Achtzigtausend, Neunzigtausend]</td>\n",
       "      <td>[2, 2, 2, 2, 2, 2, 2, 2, 2, 2, 2, 2, 2, 2, 2, 2, 2, 2, 2, 2]</td>\n",
       "      <td>[manuell, Zahlwort, ergänzt, PRE, Einheit, Vorname, Toponym]</td>\n",
       "      <td>[785, 452, 329, 30, 11, 1, 1]</td>\n",
       "    </tr>\n",
       "    <tr>\n",
       "      <th>1</th>\n",
       "      <td>lexAlt</td>\n",
       "      <td>653</td>\n",
       "      <td>27.3</td>\n",
       "      <td>[muß, müßen, mußt, müßt, mußte, müßte, mußten, müßten, mußtest, müßtest, mußtet, müßtet, aufschlußreiche, aufschlußreichen, bewußt, bewußte, bewußtem, bewußten, bewußter, bewußtes]</td>\n",
       "      <td>[1, 1, 1, 1, 1, 1, 1, 1, 1, 1, 1, 1, 1, 1, 1, 1, 1, 1, 1, 1]</td>\n",
       "      <td>[lexAlt, manuell, Ort, modal, Land]</td>\n",
       "      <td>[653, 653, 2, 1, 1]</td>\n",
       "    </tr>\n",
       "    <tr>\n",
       "      <th>2</th>\n",
       "      <td>lex</td>\n",
       "      <td>372</td>\n",
       "      <td>15.5</td>\n",
       "      <td>[10000, 20000, 30000, 40000, 50000, 60000, 70000, 80000, 90000, allem, allermeisten, allerwenigsten, allerwenigstens, als Erstes, als Letztes, beidem, bins, biste, brannt, brauchs]</td>\n",
       "      <td>[2, 2, 2, 2, 2, 2, 2, 2, 2, 1, 1, 1, 1, 1, 1, 1, 1, 1, 1, 1]</td>\n",
       "      <td>[manuell, Zahlwort, PRE]</td>\n",
       "      <td>[372, 226, 6]</td>\n",
       "    </tr>\n",
       "    <tr>\n",
       "      <th>3</th>\n",
       "      <td>ADJ1</td>\n",
       "      <td>253</td>\n",
       "      <td>10.6</td>\n",
       "      <td>[abfahrend, abschreckend, abstoßend, abtörnend, abwertend, achtend, adstringierend, affigierend, agglutinierend, alarmierend, alleinstehend, alternierend, amtierend, andauernd, angrenzend, anhaltend, anliegend, anmaßend, anregend, anschließend]</td>\n",
       "      <td>[1, 1, 1, 1, 1, 1, 1, 1, 1, 1, 1, 1, 1, 1, 1, 1, 1, 1, 1, 1]</td>\n",
       "      <td>manuell</td>\n",
       "      <td>253</td>\n",
       "    </tr>\n",
       "    <tr>\n",
       "      <th>4</th>\n",
       "      <td>ADJ2</td>\n",
       "      <td>160</td>\n",
       "      <td>6.7</td>\n",
       "      <td>[abberufen, abgepaßt, anbehalten, aneinandergepreßt, angepaßt, aufrechterhalten, auserlesen, autogestoppt, befahren, befallen, begraben, behauen, beladen, belassen, belaufen, bemessen, bepißt, beraten, berufen, beschrieen]</td>\n",
       "      <td>[1, 1, 1, 1, 1, 1, 1, 1, 1, 1, 1, 1, 1, 1, 1, 1, 1, 1, 1, 1]</td>\n",
       "      <td>manuell</td>\n",
       "      <td>160</td>\n",
       "    </tr>\n",
       "    <tr>\n",
       "      <th>5</th>\n",
       "      <td>abk</td>\n",
       "      <td>156</td>\n",
       "      <td>6.5</td>\n",
       "      <td>[&amp;, %, °, ° C, ° F, °C, °F, +, €, 5G, 9/11, a.Chr., Abb., Abs., Abschn., AI, Anm. d. Red., Anm.d.Red., Apr., Aufl.]</td>\n",
       "      <td>[1, 1, 1, 1, 1, 1, 1, 1, 1, 1, 1, 1, 1, 1, 1, 1, 1, 1, 1, 1]</td>\n",
       "      <td>[manuell, Einheit, Wortverbindung, ergänzt, PRE]</td>\n",
       "      <td>[156, 45, 28, 16, 6]</td>\n",
       "    </tr>\n",
       "    <tr>\n",
       "      <th>6</th>\n",
       "      <td>VVIZU</td>\n",
       "      <td>8</td>\n",
       "      <td>0.3</td>\n",
       "      <td>[anzugucken, anzustaunen, aufzurütteln, einzureden, herauszulassen, hereinzulassen, herumzupimpeln, loszuwerden]</td>\n",
       "      <td>[1, 1, 1, 1, 1, 1, 1, 1]</td>\n",
       "      <td>manuell</td>\n",
       "      <td>8</td>\n",
       "    </tr>\n",
       "    <tr>\n",
       "      <th>7</th>\n",
       "      <td>syn</td>\n",
       "      <td>6</td>\n",
       "      <td>0.3</td>\n",
       "      <td>[[, {, &lt;, ], }, &gt;]</td>\n",
       "      <td>[1, 1, 1, 1, 1, 1]</td>\n",
       "      <td>manuell</td>\n",
       "      <td>6</td>\n",
       "    </tr>\n",
       "    <tr>\n",
       "      <th>8</th>\n",
       "      <td>ADV</td>\n",
       "      <td>2</td>\n",
       "      <td>0.1</td>\n",
       "      <td>[zu viele, zuviele]</td>\n",
       "      <td>[1, 1]</td>\n",
       "      <td>manuell</td>\n",
       "      <td>2</td>\n",
       "    </tr>\n",
       "    <tr>\n",
       "      <th>9</th>\n",
       "      <td>VVIMP</td>\n",
       "      <td>1</td>\n",
       "      <td>0.0</td>\n",
       "      <td>vergleiche</td>\n",
       "      <td>1</td>\n",
       "      <td>manuell</td>\n",
       "      <td>1</td>\n",
       "    </tr>\n",
       "  </tbody>\n",
       "</table>\n",
       "</div>"
      ],
      "text/plain": [
       "  tag_lex  tag_lex_count  tag_lex_percent  \\\n",
       "0   lemma            785             32.8   \n",
       "1  lexAlt            653             27.3   \n",
       "2     lex            372             15.5   \n",
       "3    ADJ1            253             10.6   \n",
       "4    ADJ2            160              6.7   \n",
       "5     abk            156              6.5   \n",
       "6   VVIZU              8              0.3   \n",
       "7     syn              6              0.3   \n",
       "8     ADV              2              0.1   \n",
       "9   VVIMP              1              0.0   \n",
       "\n",
       "                                                                                                                                                                                                                                                                                                       lex  \\\n",
       "0  [dies, grade, zehntausend, zwanzigtausend, dreißigtausend, vierzigtausend, fünfzigtausend, sechzigtausend, siebzigtausend, achtzigtausend, neunzigtausend, Zehntausend, Zwanzigtausend, Dreißigtausend, Vierzigtausend, Fünfzigtausend, Sechzigtausend, Siebzigtausend, Achtzigtausend, Neunzigtausend]   \n",
       "1                                                                                                                     [muß, müßen, mußt, müßt, mußte, müßte, mußten, müßten, mußtest, müßtest, mußtet, müßtet, aufschlußreiche, aufschlußreichen, bewußt, bewußte, bewußtem, bewußten, bewußter, bewußtes]   \n",
       "2                                                                                                                     [10000, 20000, 30000, 40000, 50000, 60000, 70000, 80000, 90000, allem, allermeisten, allerwenigsten, allerwenigstens, als Erstes, als Letztes, beidem, bins, biste, brannt, brauchs]   \n",
       "3                                                     [abfahrend, abschreckend, abstoßend, abtörnend, abwertend, achtend, adstringierend, affigierend, agglutinierend, alarmierend, alleinstehend, alternierend, amtierend, andauernd, angrenzend, anhaltend, anliegend, anmaßend, anregend, anschließend]   \n",
       "4                                                                           [abberufen, abgepaßt, anbehalten, aneinandergepreßt, angepaßt, aufrechterhalten, auserlesen, autogestoppt, befahren, befallen, begraben, behauen, beladen, belassen, belaufen, bemessen, bepißt, beraten, berufen, beschrieen]   \n",
       "5                                                                                                                                                                                      [&, %, °, ° C, ° F, °C, °F, +, €, 5G, 9/11, a.Chr., Abb., Abs., Abschn., AI, Anm. d. Red., Anm.d.Red., Apr., Aufl.]   \n",
       "6                                                                                                                                                                                         [anzugucken, anzustaunen, aufzurütteln, einzureden, herauszulassen, hereinzulassen, herumzupimpeln, loszuwerden]   \n",
       "7                                                                                                                                                                                                                                                                                       [[, {, <, ], }, >]   \n",
       "8                                                                                                                                                                                                                                                                                      [zu viele, zuviele]   \n",
       "9                                                                                                                                                                                                                                                                                               vergleiche   \n",
       "\n",
       "                                                      lex_count  \\\n",
       "0  [2, 2, 2, 2, 2, 2, 2, 2, 2, 2, 2, 2, 2, 2, 2, 2, 2, 2, 2, 2]   \n",
       "1  [1, 1, 1, 1, 1, 1, 1, 1, 1, 1, 1, 1, 1, 1, 1, 1, 1, 1, 1, 1]   \n",
       "2  [2, 2, 2, 2, 2, 2, 2, 2, 2, 1, 1, 1, 1, 1, 1, 1, 1, 1, 1, 1]   \n",
       "3  [1, 1, 1, 1, 1, 1, 1, 1, 1, 1, 1, 1, 1, 1, 1, 1, 1, 1, 1, 1]   \n",
       "4  [1, 1, 1, 1, 1, 1, 1, 1, 1, 1, 1, 1, 1, 1, 1, 1, 1, 1, 1, 1]   \n",
       "5  [1, 1, 1, 1, 1, 1, 1, 1, 1, 1, 1, 1, 1, 1, 1, 1, 1, 1, 1, 1]   \n",
       "6                                      [1, 1, 1, 1, 1, 1, 1, 1]   \n",
       "7                                            [1, 1, 1, 1, 1, 1]   \n",
       "8                                                        [1, 1]   \n",
       "9                                                             1   \n",
       "\n",
       "                                                         member  \\\n",
       "0  [manuell, Zahlwort, ergänzt, PRE, Einheit, Vorname, Toponym]   \n",
       "1                           [lexAlt, manuell, Ort, modal, Land]   \n",
       "2                                      [manuell, Zahlwort, PRE]   \n",
       "3                                                       manuell   \n",
       "4                                                       manuell   \n",
       "5              [manuell, Einheit, Wortverbindung, ergänzt, PRE]   \n",
       "6                                                       manuell   \n",
       "7                                                       manuell   \n",
       "8                                                       manuell   \n",
       "9                                                       manuell   \n",
       "\n",
       "                    member_count  \n",
       "0  [785, 452, 329, 30, 11, 1, 1]  \n",
       "1            [653, 653, 2, 1, 1]  \n",
       "2                  [372, 226, 6]  \n",
       "3                            253  \n",
       "4                            160  \n",
       "5           [156, 45, 28, 16, 6]  \n",
       "6                              8  \n",
       "7                              6  \n",
       "8                              2  \n",
       "9                              1  "
      ]
     },
     "execution_count": 153,
     "metadata": {},
     "output_type": "execute_result"
    }
   ],
   "source": [
    "# tag_lex analysieren\n",
    "r = pak.analyse_freqs(lexeme_manuell, ['tag_lex', 'lex', 'member'], splits=[None,None,' '])\n",
    "grid(r)"
   ]
  },
  {
   "cell_type": "code",
   "execution_count": 154,
   "metadata": {
    "execution": {
     "iopub.execute_input": "2023-03-04T09:33:15.234418Z",
     "iopub.status.busy": "2023-03-04T09:33:15.234191Z",
     "iopub.status.idle": "2023-03-04T09:33:15.271689Z",
     "shell.execute_reply": "2023-03-04T09:33:15.270958Z",
     "shell.execute_reply.started": "2023-03-04T09:33:15.234397Z"
    }
   },
   "outputs": [],
   "source": [
    "# Kopie erzeugen, verwenden wir später um alle Partizipien als Adjektive einpflegen zu können\n",
    "lexeme_manuell_copy = lexeme_manuell.copy()"
   ]
  },
  {
   "cell_type": "code",
   "execution_count": 155,
   "metadata": {
    "execution": {
     "iopub.execute_input": "2023-03-04T09:33:15.274165Z",
     "iopub.status.busy": "2023-03-04T09:33:15.273628Z",
     "iopub.status.idle": "2023-03-04T09:33:17.112079Z",
     "shell.execute_reply": "2023-03-04T09:33:17.111367Z",
     "shell.execute_reply.started": "2023-03-04T09:33:15.274140Z"
    }
   },
   "outputs": [
    {
     "name": "stdout",
     "output_type": "stream",
     "text": [
      "0 rows less, now 2396 rows\n"
     ]
    }
   ],
   "source": [
    "# Spalte flexion erstellen\n",
    "lexeme_manuell['lex_bak'] = lexeme_manuell.lex.copy()\n",
    "lexeme_manuell = pak.implode_to_defaultdict(lexeme_manuell, col_key='tag_lex', col_value='lex', col_result='flexion')"
   ]
  },
  {
   "cell_type": "code",
   "execution_count": 156,
   "metadata": {
    "execution": {
     "iopub.execute_input": "2023-03-04T09:33:17.114870Z",
     "iopub.status.busy": "2023-03-04T09:33:17.114083Z",
     "iopub.status.idle": "2023-03-04T09:33:17.150302Z",
     "shell.execute_reply": "2023-03-04T09:33:17.149530Z",
     "shell.execute_reply.started": "2023-03-04T09:33:17.114843Z"
    }
   },
   "outputs": [],
   "source": [
    "# suche_debug\n",
    "#search_str(lexeme_manuell, suche_debug)"
   ]
  },
  {
   "cell_type": "code",
   "execution_count": 157,
   "metadata": {
    "execution": {
     "iopub.execute_input": "2023-03-04T09:33:17.151628Z",
     "iopub.status.busy": "2023-03-04T09:33:17.151318Z",
     "iopub.status.idle": "2023-03-04T09:33:17.198108Z",
     "shell.execute_reply": "2023-03-04T09:33:17.197479Z",
     "shell.execute_reply.started": "2023-03-04T09:33:17.151602Z"
    }
   },
   "outputs": [],
   "source": [
    "# lex == lemma: flexion soll leeres defaultdict sein\n",
    "mask = (lexeme_manuell.lex_bak == lexeme_manuell.lemma) \n",
    "lexeme_manuell.loc[mask,'flexion'] = lexeme_manuell[mask].flexion.apply(lambda x: defaultdict(list))  # auf leeres defaultdict setzen\n",
    "lexeme_manuell = pak.drop_cols(lexeme_manuell, 'lex_bak')\n",
    "#grid(lexeme_manuell,~mask)"
   ]
  },
  {
   "cell_type": "code",
   "execution_count": 158,
   "metadata": {
    "execution": {
     "iopub.execute_input": "2023-03-04T09:33:17.199472Z",
     "iopub.status.busy": "2023-03-04T09:33:17.199131Z",
     "iopub.status.idle": "2023-03-04T09:33:17.282361Z",
     "shell.execute_reply": "2023-03-04T09:33:17.280835Z",
     "shell.execute_reply.started": "2023-03-04T09:33:17.199440Z"
    }
   },
   "outputs": [
    {
     "data": {
      "text/html": [
       "<div>\n",
       "<style scoped>\n",
       "    .dataframe tbody tr th:only-of-type {\n",
       "        vertical-align: middle;\n",
       "    }\n",
       "\n",
       "    .dataframe tbody tr th {\n",
       "        vertical-align: top;\n",
       "    }\n",
       "\n",
       "    .dataframe thead th {\n",
       "        text-align: right;\n",
       "    }\n",
       "</style>\n",
       "<table border=\"1\" class=\"dataframe\">\n",
       "  <thead>\n",
       "    <tr style=\"text-align: right;\">\n",
       "      <th></th>\n",
       "      <th>lemma</th>\n",
       "      <th>tag</th>\n",
       "      <th>member</th>\n",
       "      <th>Genus</th>\n",
       "      <th>tab</th>\n",
       "      <th>score</th>\n",
       "      <th>def</th>\n",
       "      <th>flexion</th>\n",
       "    </tr>\n",
       "  </thead>\n",
       "  <tbody>\n",
       "  </tbody>\n",
       "</table>\n",
       "</div>"
      ],
      "text/plain": [
       "Empty DataFrame\n",
       "Columns: [lemma, tag, member, Genus, tab, score, def, flexion]\n",
       "Index: []"
      ]
     },
     "execution_count": 158,
     "metadata": {},
     "output_type": "execute_result"
    }
   ],
   "source": [
    "# suche_debug\n",
    "search_str(lexeme_manuell, suche_debug)"
   ]
  },
  {
   "cell_type": "code",
   "execution_count": 159,
   "metadata": {
    "execution": {
     "iopub.execute_input": "2023-03-04T09:33:17.291515Z",
     "iopub.status.busy": "2023-03-04T09:33:17.288638Z",
     "iopub.status.idle": "2023-03-04T09:33:17.572911Z",
     "shell.execute_reply": "2023-03-04T09:33:17.572258Z",
     "shell.execute_reply.started": "2023-03-04T09:33:17.291476Z"
    }
   },
   "outputs": [],
   "source": [
    "# Weitere Spalten in flexion verpacken (mit cols_to_defaultdict\n",
    "lexeme_manuell = pak.cols_to_defaultdict(  lexeme_manuell, col_dict='flexion', cols_add=['Genus','def']   )  "
   ]
  },
  {
   "cell_type": "code",
   "execution_count": 160,
   "metadata": {
    "execution": {
     "iopub.execute_input": "2023-03-04T09:33:17.574212Z",
     "iopub.status.busy": "2023-03-04T09:33:17.573985Z",
     "iopub.status.idle": "2023-03-04T09:33:17.607023Z",
     "shell.execute_reply": "2023-03-04T09:33:17.606340Z",
     "shell.execute_reply.started": "2023-03-04T09:33:17.574192Z"
    }
   },
   "outputs": [],
   "source": [
    "# Spalte tab brauchen wir nicht mehr >> löschen\n",
    "lexeme_manuell = pak.drop_cols(lexeme_manuell, ['tab'])"
   ]
  },
  {
   "cell_type": "code",
   "execution_count": 161,
   "metadata": {
    "execution": {
     "iopub.execute_input": "2023-03-04T09:33:17.608256Z",
     "iopub.status.busy": "2023-03-04T09:33:17.608017Z",
     "iopub.status.idle": "2023-03-04T09:33:17.652299Z",
     "shell.execute_reply": "2023-03-04T09:33:17.651559Z",
     "shell.execute_reply.started": "2023-03-04T09:33:17.608234Z"
    }
   },
   "outputs": [],
   "source": [
    "# suche_debug\n",
    "#search_str(lexeme_manuell, suche_debug)"
   ]
  },
  {
   "cell_type": "code",
   "execution_count": 162,
   "metadata": {
    "execution": {
     "iopub.execute_input": "2023-03-04T09:33:17.654383Z",
     "iopub.status.busy": "2023-03-04T09:33:17.654051Z",
     "iopub.status.idle": "2023-03-04T09:33:18.871024Z",
     "shell.execute_reply": "2023-03-04T09:33:18.870054Z",
     "shell.execute_reply.started": "2023-03-04T09:33:17.654356Z"
    }
   },
   "outputs": [
    {
     "name": "stdout",
     "output_type": "stream",
     "text": [
      "604 rows less, now 1792 rows\n"
     ]
    }
   ],
   "source": [
    "# gruppieren\n",
    "lexeme_manuell = pak.group_and_agg(lexeme_manuell,\n",
    "                               ['lemma', 'tag',   'member',              'flexion',            'score', ],\n",
    "                               ['group', 'group',  pak.agg_words_nodup,  pak.agg_defaultdicts, 'max',   ],\n",
    "                               ['lemma', 'tag',   'member',              'flexion',            'score', ]\n",
    "                              )"
   ]
  },
  {
   "cell_type": "code",
   "execution_count": 163,
   "metadata": {
    "execution": {
     "iopub.execute_input": "2023-03-04T09:33:18.872253Z",
     "iopub.status.busy": "2023-03-04T09:33:18.871982Z",
     "iopub.status.idle": "2023-03-04T09:33:18.929364Z",
     "shell.execute_reply": "2023-03-04T09:33:18.928566Z",
     "shell.execute_reply.started": "2023-03-04T09:33:18.872226Z"
    }
   },
   "outputs": [],
   "source": [
    "# Felder ergänzen\n",
    "lexeme_manuell['title']       = lexeme_manuell.lemma\n",
    "lexeme_manuell['lemma_lower'] = lexeme_manuell.lemma.str.lower() \n",
    "lexeme_manuell = pak.move_cols( lexeme_manuell, 'lemma_lower','lemma')"
   ]
  },
  {
   "cell_type": "code",
   "execution_count": 164,
   "metadata": {
    "execution": {
     "iopub.execute_input": "2023-03-04T09:33:18.930375Z",
     "iopub.status.busy": "2023-03-04T09:33:18.930138Z",
     "iopub.status.idle": "2023-03-04T09:33:19.085736Z",
     "shell.execute_reply": "2023-03-04T09:33:19.085083Z",
     "shell.execute_reply.started": "2023-03-04T09:33:18.930354Z"
    }
   },
   "outputs": [],
   "source": [
    "# tagZ und tagZZ ermitteln\n",
    "lexeme_manuell = pflege_tag_felder(lexeme_manuell, translate_tagZ)"
   ]
  },
  {
   "cell_type": "code",
   "execution_count": 165,
   "metadata": {
    "execution": {
     "iopub.execute_input": "2023-03-04T09:33:19.086815Z",
     "iopub.status.busy": "2023-03-04T09:33:19.086598Z",
     "iopub.status.idle": "2023-03-04T09:33:19.353025Z",
     "shell.execute_reply": "2023-03-04T09:33:19.352259Z",
     "shell.execute_reply.started": "2023-03-04T09:33:19.086794Z"
    }
   },
   "outputs": [
    {
     "name": "stdout",
     "output_type": "stream",
     "text": [
      "100 rows out of 1792\n"
     ]
    },
    {
     "data": {
      "text/html": [
       "<div>\n",
       "<style scoped>\n",
       "    .dataframe tbody tr th:only-of-type {\n",
       "        vertical-align: middle;\n",
       "    }\n",
       "\n",
       "    .dataframe tbody tr th {\n",
       "        vertical-align: top;\n",
       "    }\n",
       "\n",
       "    .dataframe thead th {\n",
       "        text-align: right;\n",
       "    }\n",
       "</style>\n",
       "<table border=\"1\" class=\"dataframe\">\n",
       "  <thead>\n",
       "    <tr style=\"text-align: right;\">\n",
       "      <th></th>\n",
       "      <th>lemma</th>\n",
       "      <th>lemma_lower</th>\n",
       "      <th>tag</th>\n",
       "      <th>tag_0</th>\n",
       "      <th>tag_1</th>\n",
       "      <th>tagZ</th>\n",
       "      <th>tagZZ</th>\n",
       "      <th>member</th>\n",
       "      <th>flexion</th>\n",
       "      <th>score</th>\n",
       "      <th>title</th>\n",
       "    </tr>\n",
       "  </thead>\n",
       "  <tbody>\n",
       "    <tr>\n",
       "      <th>0</th>\n",
       "      <td>!</td>\n",
       "      <td>!</td>\n",
       "      <td>$.</td>\n",
       "      <td>$.</td>\n",
       "      <td>lYPZV1atVf</td>\n",
       "      <td>SYM</td>\n",
       "      <td>Y</td>\n",
       "      <td>manuell ergänzt</td>\n",
       "      <td>{}</td>\n",
       "      <td>2.239462</td>\n",
       "      <td>!</td>\n",
       "    </tr>\n",
       "    <tr>\n",
       "      <th>42</th>\n",
       "      <td>Acht</td>\n",
       "      <td>acht</td>\n",
       "      <td>NN</td>\n",
       "      <td>NN</td>\n",
       "      <td>9frkmFKAsq</td>\n",
       "      <td>NOM</td>\n",
       "      <td>N</td>\n",
       "      <td>Zahlwort manuell</td>\n",
       "      <td>{'Genus': ['f'], 'def': ['8']}</td>\n",
       "      <td>4.239462</td>\n",
       "      <td>Acht</td>\n",
       "    </tr>\n",
       "    <tr>\n",
       "      <th>42</th>\n",
       "      <td>Acht</td>\n",
       "      <td>acht</td>\n",
       "      <td>NN</td>\n",
       "      <td>NN</td>\n",
       "      <td>9frkmFKAsq</td>\n",
       "      <td>NOM</td>\n",
       "      <td>N</td>\n",
       "      <td>Zahlwort manuell</td>\n",
       "      <td>{'Genus': ['f'], 'def': ['8']}</td>\n",
       "      <td>4.239462</td>\n",
       "      <td>Acht</td>\n",
       "    </tr>\n",
       "    <tr>\n",
       "      <th>49</th>\n",
       "      <td>Achtunddreißigtausend</td>\n",
       "      <td>achtunddreißigtausend</td>\n",
       "      <td>NN</td>\n",
       "      <td>NN</td>\n",
       "      <td>iRdtXdT0PL</td>\n",
       "      <td>NOM</td>\n",
       "      <td>N</td>\n",
       "      <td>Zahlwort manuell</td>\n",
       "      <td>{'Genus': ['f'], 'def': ['38000']}</td>\n",
       "      <td>2.692792</td>\n",
       "      <td>Achtunddreißigtausend</td>\n",
       "    </tr>\n",
       "    <tr>\n",
       "      <th>54</th>\n",
       "      <td>Achtundsechzig</td>\n",
       "      <td>achtundsechzig</td>\n",
       "      <td>NN</td>\n",
       "      <td>NN</td>\n",
       "      <td>41J854fUIF</td>\n",
       "      <td>NOM</td>\n",
       "      <td>N</td>\n",
       "      <td>Zahlwort manuell</td>\n",
       "      <td>{'Genus': ['f'], 'def': ['68']}</td>\n",
       "      <td>3.600619</td>\n",
       "      <td>Achtundsechzig</td>\n",
       "    </tr>\n",
       "    <tr>\n",
       "      <th>...</th>\n",
       "      <td>...</td>\n",
       "      <td>...</td>\n",
       "      <td>...</td>\n",
       "      <td>...</td>\n",
       "      <td>...</td>\n",
       "      <td>...</td>\n",
       "      <td>...</td>\n",
       "      <td>...</td>\n",
       "      <td>...</td>\n",
       "      <td>...</td>\n",
       "      <td>...</td>\n",
       "    </tr>\n",
       "    <tr>\n",
       "      <th>1663</th>\n",
       "      <td>wollen</td>\n",
       "      <td>wollen</td>\n",
       "      <td>VMFIN</td>\n",
       "      <td>VMFIN</td>\n",
       "      <td>gQhee2h25r</td>\n",
       "      <td>VER_mod</td>\n",
       "      <td>V</td>\n",
       "      <td>manuell</td>\n",
       "      <td>{'lex': ['wills']}</td>\n",
       "      <td>2.239462</td>\n",
       "      <td>wollen</td>\n",
       "    </tr>\n",
       "    <tr>\n",
       "      <th>1686</th>\n",
       "      <td>zerlassen</td>\n",
       "      <td>zerlassen</td>\n",
       "      <td>VVFIN</td>\n",
       "      <td>VVFIN</td>\n",
       "      <td>jlzpMFP1TJ</td>\n",
       "      <td>VER</td>\n",
       "      <td>V</td>\n",
       "      <td>manuell</td>\n",
       "      <td>{}</td>\n",
       "      <td>2.239462</td>\n",
       "      <td>zerlassen</td>\n",
       "    </tr>\n",
       "    <tr>\n",
       "      <th>1731</th>\n",
       "      <td>zweite</td>\n",
       "      <td>zweite</td>\n",
       "      <td>ADJA</td>\n",
       "      <td>ADJA</td>\n",
       "      <td>TgJlxjy5Wy</td>\n",
       "      <td>ADJ</td>\n",
       "      <td>A</td>\n",
       "      <td>manuell ergänzt</td>\n",
       "      <td>{}</td>\n",
       "      <td>2.239462</td>\n",
       "      <td>zweite</td>\n",
       "    </tr>\n",
       "    <tr>\n",
       "      <th>1765</th>\n",
       "      <td>überein</td>\n",
       "      <td>überein</td>\n",
       "      <td>PTKVZ</td>\n",
       "      <td>PTKVZ</td>\n",
       "      <td>pevOonb6PZ</td>\n",
       "      <td>X_div</td>\n",
       "      <td>X</td>\n",
       "      <td>manuell ergänzt</td>\n",
       "      <td>{}</td>\n",
       "      <td>2.239462</td>\n",
       "      <td>überein</td>\n",
       "    </tr>\n",
       "    <tr>\n",
       "      <th>1791</th>\n",
       "      <td>…</td>\n",
       "      <td>…</td>\n",
       "      <td>$(</td>\n",
       "      <td>$(</td>\n",
       "      <td>vpYQsUQdlw</td>\n",
       "      <td>SYM</td>\n",
       "      <td>Y</td>\n",
       "      <td>manuell ergänzt</td>\n",
       "      <td>{}</td>\n",
       "      <td>2.239462</td>\n",
       "      <td>…</td>\n",
       "    </tr>\n",
       "  </tbody>\n",
       "</table>\n",
       "<p>100 rows × 11 columns</p>\n",
       "</div>"
      ],
      "text/plain": [
       "                      lemma            lemma_lower    tag  tag_0       tag_1  \\\n",
       "0                         !                      !     $.     $.  lYPZV1atVf   \n",
       "42                     Acht                   acht     NN     NN  9frkmFKAsq   \n",
       "42                     Acht                   acht     NN     NN  9frkmFKAsq   \n",
       "49    Achtunddreißigtausend  achtunddreißigtausend     NN     NN  iRdtXdT0PL   \n",
       "54           Achtundsechzig         achtundsechzig     NN     NN  41J854fUIF   \n",
       "...                     ...                    ...    ...    ...         ...   \n",
       "1663                 wollen                 wollen  VMFIN  VMFIN  gQhee2h25r   \n",
       "1686              zerlassen              zerlassen  VVFIN  VVFIN  jlzpMFP1TJ   \n",
       "1731                 zweite                 zweite   ADJA   ADJA  TgJlxjy5Wy   \n",
       "1765                überein                überein  PTKVZ  PTKVZ  pevOonb6PZ   \n",
       "1791                      …                      …     $(     $(  vpYQsUQdlw   \n",
       "\n",
       "         tagZ tagZZ            member                             flexion  \\\n",
       "0         SYM     Y   manuell ergänzt                                  {}   \n",
       "42        NOM     N  Zahlwort manuell      {'Genus': ['f'], 'def': ['8']}   \n",
       "42        NOM     N  Zahlwort manuell      {'Genus': ['f'], 'def': ['8']}   \n",
       "49        NOM     N  Zahlwort manuell  {'Genus': ['f'], 'def': ['38000']}   \n",
       "54        NOM     N  Zahlwort manuell     {'Genus': ['f'], 'def': ['68']}   \n",
       "...       ...   ...               ...                                 ...   \n",
       "1663  VER_mod     V           manuell                  {'lex': ['wills']}   \n",
       "1686      VER     V           manuell                                  {}   \n",
       "1731      ADJ     A   manuell ergänzt                                  {}   \n",
       "1765    X_div     X   manuell ergänzt                                  {}   \n",
       "1791      SYM     Y   manuell ergänzt                                  {}   \n",
       "\n",
       "         score                  title  \n",
       "0     2.239462                      !  \n",
       "42    4.239462                   Acht  \n",
       "42    4.239462                   Acht  \n",
       "49    2.692792  Achtunddreißigtausend  \n",
       "54    3.600619         Achtundsechzig  \n",
       "...        ...                    ...  \n",
       "1663  2.239462                 wollen  \n",
       "1686  2.239462              zerlassen  \n",
       "1731  2.239462                 zweite  \n",
       "1765  2.239462                überein  \n",
       "1791  2.239462                      …  \n",
       "\n",
       "[100 rows x 11 columns]"
      ]
     },
     "execution_count": 165,
     "metadata": {},
     "output_type": "execute_result"
    }
   ],
   "source": [
    "# anschauen\n",
    "grid(lexeme_manuell, pak.sample_100)"
   ]
  },
  {
   "cell_type": "code",
   "execution_count": 166,
   "metadata": {
    "execution": {
     "iopub.execute_input": "2023-03-04T09:33:19.356952Z",
     "iopub.status.busy": "2023-03-04T09:33:19.356665Z",
     "iopub.status.idle": "2023-03-04T09:33:19.410119Z",
     "shell.execute_reply": "2023-03-04T09:33:19.409367Z",
     "shell.execute_reply.started": "2023-03-04T09:33:19.356929Z"
    },
    "tags": []
   },
   "outputs": [
    {
     "data": {
      "text/html": [
       "<div>\n",
       "<style scoped>\n",
       "    .dataframe tbody tr th:only-of-type {\n",
       "        vertical-align: middle;\n",
       "    }\n",
       "\n",
       "    .dataframe tbody tr th {\n",
       "        vertical-align: top;\n",
       "    }\n",
       "\n",
       "    .dataframe thead th {\n",
       "        text-align: right;\n",
       "    }\n",
       "</style>\n",
       "<table border=\"1\" class=\"dataframe\">\n",
       "  <thead>\n",
       "    <tr style=\"text-align: right;\">\n",
       "      <th></th>\n",
       "      <th>lemma</th>\n",
       "      <th>lemma_lower</th>\n",
       "      <th>tag</th>\n",
       "      <th>tag_0</th>\n",
       "      <th>tag_1</th>\n",
       "      <th>tagZ</th>\n",
       "      <th>tagZZ</th>\n",
       "      <th>member</th>\n",
       "      <th>flexion</th>\n",
       "      <th>score</th>\n",
       "      <th>title</th>\n",
       "    </tr>\n",
       "  </thead>\n",
       "  <tbody>\n",
       "  </tbody>\n",
       "</table>\n",
       "</div>"
      ],
      "text/plain": [
       "Empty DataFrame\n",
       "Columns: [lemma, lemma_lower, tag, tag_0, tag_1, tagZ, tagZZ, member, flexion, score, title]\n",
       "Index: []"
      ]
     },
     "execution_count": 166,
     "metadata": {},
     "output_type": "execute_result"
    }
   ],
   "source": [
    "# suche_debug\n",
    "search_str(lexeme_manuell, suche_debug)"
   ]
  },
  {
   "cell_type": "code",
   "execution_count": 167,
   "metadata": {
    "execution": {
     "iopub.execute_input": "2023-03-04T09:33:19.416077Z",
     "iopub.status.busy": "2023-03-04T09:33:19.413767Z",
     "iopub.status.idle": "2023-03-04T09:33:19.447538Z",
     "shell.execute_reply": "2023-03-04T09:33:19.446918Z",
     "shell.execute_reply.started": "2023-03-04T09:33:19.416041Z"
    },
    "tags": []
   },
   "outputs": [],
   "source": [
    "#suche_debug"
   ]
  },
  {
   "cell_type": "code",
   "execution_count": 168,
   "metadata": {
    "execution": {
     "iopub.execute_input": "2023-03-04T09:33:19.453689Z",
     "iopub.status.busy": "2023-03-04T09:33:19.451225Z",
     "iopub.status.idle": "2023-03-04T09:33:19.518225Z",
     "shell.execute_reply": "2023-03-04T09:33:19.517431Z",
     "shell.execute_reply.started": "2023-03-04T09:33:19.453650Z"
    }
   },
   "outputs": [
    {
     "data": {
      "text/html": [
       "<div>\n",
       "<style scoped>\n",
       "    .dataframe tbody tr th:only-of-type {\n",
       "        vertical-align: middle;\n",
       "    }\n",
       "\n",
       "    .dataframe tbody tr th {\n",
       "        vertical-align: top;\n",
       "    }\n",
       "\n",
       "    .dataframe thead th {\n",
       "        text-align: right;\n",
       "    }\n",
       "</style>\n",
       "<table border=\"1\" class=\"dataframe\">\n",
       "  <thead>\n",
       "    <tr style=\"text-align: right;\">\n",
       "      <th></th>\n",
       "      <th>lemma</th>\n",
       "      <th>lemma_lower</th>\n",
       "      <th>tag</th>\n",
       "      <th>tag_0</th>\n",
       "      <th>tag_1</th>\n",
       "      <th>tagZ</th>\n",
       "      <th>tagZZ</th>\n",
       "      <th>member</th>\n",
       "      <th>flexion</th>\n",
       "      <th>score</th>\n",
       "      <th>title</th>\n",
       "    </tr>\n",
       "  </thead>\n",
       "  <tbody>\n",
       "    <tr>\n",
       "      <th>1636</th>\n",
       "      <td>welch</td>\n",
       "      <td>welch</td>\n",
       "      <td>PRELS PWAT</td>\n",
       "      <td>PRELS</td>\n",
       "      <td>PWAT</td>\n",
       "      <td>PRO</td>\n",
       "      <td>P</td>\n",
       "      <td>manuell</td>\n",
       "      <td>{'lex': ['welche', 'welchem', 'welchen', 'welcher', 'welches']}</td>\n",
       "      <td>2.239462</td>\n",
       "      <td>welch</td>\n",
       "    </tr>\n",
       "  </tbody>\n",
       "</table>\n",
       "</div>"
      ],
      "text/plain": [
       "      lemma lemma_lower         tag  tag_0 tag_1 tagZ tagZZ   member  \\\n",
       "1636  welch       welch  PRELS PWAT  PRELS  PWAT  PRO     P  manuell   \n",
       "\n",
       "                                                              flexion  \\\n",
       "1636  {'lex': ['welche', 'welchem', 'welchen', 'welcher', 'welches']}   \n",
       "\n",
       "         score  title  \n",
       "1636  2.239462  welch  "
      ]
     },
     "execution_count": 168,
     "metadata": {},
     "output_type": "execute_result"
    }
   ],
   "source": [
    "# anschauen: mehr als ein tag\n",
    "mask = (lexeme_manuell.tag.str.split().str.len() > 1)\n",
    "lexeme_manuell[mask]"
   ]
  },
  {
   "cell_type": "code",
   "execution_count": 169,
   "metadata": {
    "execution": {
     "iopub.execute_input": "2023-03-04T09:33:19.529448Z",
     "iopub.status.busy": "2023-03-04T09:33:19.523916Z",
     "iopub.status.idle": "2023-03-04T09:33:19.594312Z",
     "shell.execute_reply": "2023-03-04T09:33:19.593655Z",
     "shell.execute_reply.started": "2023-03-04T09:33:19.529344Z"
    }
   },
   "outputs": [],
   "source": [
    "# section_id2 schreiben\n",
    "lexeme_manuell['section_id2'] = lexeme_manuell.lemma.str.replace(' ','_') + '_M'\n",
    "mask = lexeme_manuell.tag == 'CARD'\n",
    "lexeme_manuell.loc[mask,'section_id2'] = lexeme_manuell[mask].lemma.str.replace(' ','_') + '_Z'\n",
    "lexeme_manuell = pak.move_cols(lexeme_manuell, ['section_id2','title'])"
   ]
  },
  {
   "cell_type": "code",
   "execution_count": 170,
   "metadata": {
    "execution": {
     "iopub.execute_input": "2023-03-04T09:33:19.595441Z",
     "iopub.status.busy": "2023-03-04T09:33:19.595161Z",
     "iopub.status.idle": "2023-03-04T09:33:19.632290Z",
     "shell.execute_reply": "2023-03-04T09:33:19.631257Z",
     "shell.execute_reply.started": "2023-03-04T09:33:19.595420Z"
    }
   },
   "outputs": [],
   "source": [
    "# suche_debug\n",
    "#search_str(lexeme_manuell, suche_debug)"
   ]
  },
  {
   "cell_type": "code",
   "execution_count": 171,
   "metadata": {
    "execution": {
     "iopub.execute_input": "2023-03-04T09:33:19.639143Z",
     "iopub.status.busy": "2023-03-04T09:33:19.637097Z",
     "iopub.status.idle": "2023-03-04T09:33:23.261910Z",
     "shell.execute_reply": "2023-03-04T09:33:23.261193Z",
     "shell.execute_reply.started": "2023-03-04T09:33:19.639110Z"
    }
   },
   "outputs": [
    {
     "name": "stdout",
     "output_type": "stream",
     "text": [
      "update_col: col_score score applied, 3336 records less!\n",
      "update_col: 1194 cells written into existing column\n",
      "update_col: col_score score applied, 2318 records less!\n",
      "update_col: 1170 cells written into existing column\n",
      "update_col: col_score score applied, 3528 records less!\n",
      "update_col: 1155 cells written into existing column\n",
      "update_col: col_score score applied, 4 records less!\n",
      "update_col: 34 cells written into existing column\n"
     ]
    }
   ],
   "source": [
    "# Bekannte section_id2 aus wiktionary übertragen\n",
    "\n",
    "mask = (wiktionary.lemma == wiktionary.title)  # wichtig! Gerade die Datensätze, die nicht darunter fallen, verursachen Probleme bei Partizipien.\n",
    "\n",
    "# tagZZ\n",
    "lexeme_manuell = pak.update_col(lexeme_manuell, wiktionary[mask], on=['lemma_lower','tagZZ'], col='section_id2',  col_score='score'  )\n",
    "\n",
    "#tagZ\n",
    "lexeme_manuell = pak.update_col(lexeme_manuell, wiktionary[mask], on=['lemma_lower','tagZ'],  col='section_id2',  col_score='score'  )\n",
    "\n",
    "# tag\n",
    "lexeme_manuell = pak.update_col(lexeme_manuell, wiktionary[mask], on=['lemma_lower','tag'],   col='section_id2',  col_score='score'  )\n",
    "\n",
    "# Wenn ein sinnvoller tag fehlt, reicht lemma\n",
    "mask = (wiktionary.lemma == wiktionary.title)   &   wiktionary.tag.str.contains('TODO')\n",
    "lexeme_manuell = pak.update_col(lexeme_manuell, wiktionary[mask], on=['lemma'], col='section_id2',  col_score='score' )"
   ]
  },
  {
   "cell_type": "code",
   "execution_count": 172,
   "metadata": {
    "execution": {
     "iopub.execute_input": "2023-03-04T09:33:23.262913Z",
     "iopub.status.busy": "2023-03-04T09:33:23.262676Z",
     "iopub.status.idle": "2023-03-04T09:33:23.331958Z",
     "shell.execute_reply": "2023-03-04T09:33:23.330331Z",
     "shell.execute_reply.started": "2023-03-04T09:33:23.262893Z"
    }
   },
   "outputs": [
    {
     "data": {
      "text/html": [
       "<div>\n",
       "<style scoped>\n",
       "    .dataframe tbody tr th:only-of-type {\n",
       "        vertical-align: middle;\n",
       "    }\n",
       "\n",
       "    .dataframe tbody tr th {\n",
       "        vertical-align: top;\n",
       "    }\n",
       "\n",
       "    .dataframe thead th {\n",
       "        text-align: right;\n",
       "    }\n",
       "</style>\n",
       "<table border=\"1\" class=\"dataframe\">\n",
       "  <thead>\n",
       "    <tr style=\"text-align: right;\">\n",
       "      <th></th>\n",
       "      <th>section_id2</th>\n",
       "      <th>title</th>\n",
       "      <th>lemma</th>\n",
       "      <th>lemma_lower</th>\n",
       "      <th>tag</th>\n",
       "      <th>tag_0</th>\n",
       "      <th>tag_1</th>\n",
       "      <th>tagZ</th>\n",
       "      <th>tagZZ</th>\n",
       "      <th>member</th>\n",
       "      <th>flexion</th>\n",
       "      <th>score</th>\n",
       "    </tr>\n",
       "  </thead>\n",
       "  <tbody>\n",
       "  </tbody>\n",
       "</table>\n",
       "</div>"
      ],
      "text/plain": [
       "Empty DataFrame\n",
       "Columns: [section_id2, title, lemma, lemma_lower, tag, tag_0, tag_1, tagZ, tagZZ, member, flexion, score]\n",
       "Index: []"
      ]
     },
     "execution_count": 172,
     "metadata": {},
     "output_type": "execute_result"
    }
   ],
   "source": [
    "# suche_debug\n",
    "search_str(lexeme_manuell, suche_debug)"
   ]
  },
  {
   "cell_type": "code",
   "execution_count": 173,
   "metadata": {
    "execution": {
     "iopub.execute_input": "2023-03-04T09:33:23.335306Z",
     "iopub.status.busy": "2023-03-04T09:33:23.334639Z",
     "iopub.status.idle": "2023-03-04T09:33:23.380592Z",
     "shell.execute_reply": "2023-03-04T09:33:23.379727Z",
     "shell.execute_reply.started": "2023-03-04T09:33:23.335246Z"
    }
   },
   "outputs": [],
   "source": [
    "# anschauen\n",
    "#grid(lexeme_manuell, pak.sample_100)"
   ]
  },
  {
   "cell_type": "code",
   "execution_count": 174,
   "metadata": {
    "execution": {
     "iopub.execute_input": "2023-03-04T09:33:23.388774Z",
     "iopub.status.busy": "2023-03-04T09:33:23.386292Z",
     "iopub.status.idle": "2023-03-04T09:33:23.426156Z",
     "shell.execute_reply": "2023-03-04T09:33:23.425495Z",
     "shell.execute_reply.started": "2023-03-04T09:33:23.388736Z"
    },
    "tags": []
   },
   "outputs": [
    {
     "name": "stdout",
     "output_type": "stream",
     "text": [
      "left_only:  {'page_part', 'lang', 'page_id', 'error', 'syllables', 'rhymes', 'ipa', 'pos', 'inflected', 'lang_code'}\n",
      "right_only: {}\n",
      "\n"
     ]
    }
   ],
   "source": [
    "bpy.minivenn(wiktionary.columns, lexeme_manuell.columns, format='print2')"
   ]
  },
  {
   "cell_type": "code",
   "execution_count": 175,
   "metadata": {
    "execution": {
     "iopub.execute_input": "2023-03-04T09:33:23.427810Z",
     "iopub.status.busy": "2023-03-04T09:33:23.427360Z",
     "iopub.status.idle": "2023-03-04T09:33:24.257214Z",
     "shell.execute_reply": "2023-03-04T09:33:24.256510Z",
     "shell.execute_reply.started": "2023-03-04T09:33:23.427785Z"
    },
    "tags": []
   },
   "outputs": [
    {
     "name": "stdout",
     "output_type": "stream",
     "text": [
      "1792 rows added, now a total of 843357\n"
     ]
    }
   ],
   "source": [
    "# anfügen\n",
    "wiktionary = pak.add_rows(wiktionary, lexeme_manuell, assert_subset=True)"
   ]
  },
  {
   "cell_type": "code",
   "execution_count": 176,
   "metadata": {
    "execution": {
     "iopub.execute_input": "2023-03-04T09:33:24.258441Z",
     "iopub.status.busy": "2023-03-04T09:33:24.258188Z",
     "iopub.status.idle": "2023-03-04T09:33:24.809980Z",
     "shell.execute_reply": "2023-03-04T09:33:24.809208Z",
     "shell.execute_reply.started": "2023-03-04T09:33:24.258420Z"
    },
    "tags": []
   },
   "outputs": [
    {
     "name": "stdout",
     "output_type": "stream",
     "text": [
      "check_mask:  4932 rows\n"
     ]
    }
   ],
   "source": [
    "# section_id2 ist jetzt nicht mehr eindeutig\n",
    "mask = wiktionary.duplicated(subset=['section_id2'], keep=False)\n",
    "check_mask(wiktionary,mask,5507) \n",
    "#a = wiktionary[mask].sort_values(['section_id2'])\n",
    "#grid(a)"
   ]
  },
  {
   "cell_type": "code",
   "execution_count": 177,
   "metadata": {
    "execution": {
     "iopub.execute_input": "2023-03-04T09:33:24.813825Z",
     "iopub.status.busy": "2023-03-04T09:33:24.813550Z",
     "iopub.status.idle": "2023-03-04T09:33:25.075100Z",
     "shell.execute_reply": "2023-03-04T09:33:25.074399Z",
     "shell.execute_reply.started": "2023-03-04T09:33:24.813802Z"
    },
    "tags": []
   },
   "outputs": [],
   "source": [
    "assert pak.ntypes(wiktionary.flexion) == 1"
   ]
  },
  {
   "cell_type": "markdown",
   "metadata": {},
   "source": [
    "## ipa, syllables & rhymes"
   ]
  },
  {
   "cell_type": "code",
   "execution_count": 178,
   "metadata": {
    "execution": {
     "iopub.execute_input": "2023-03-04T09:33:25.077203Z",
     "iopub.status.busy": "2023-03-04T09:33:25.076944Z",
     "iopub.status.idle": "2023-03-04T09:33:25.486782Z",
     "shell.execute_reply": "2023-03-04T09:33:25.486185Z",
     "shell.execute_reply.started": "2023-03-04T09:33:25.077179Z"
    }
   },
   "outputs": [],
   "source": [
    "# Datentypen sind in jeder Zeile gleich\n",
    "assert pak.ntypes(wiktionary.ipa) == 1\n",
    "assert pak.ntypes(wiktionary.syllables) == 1"
   ]
  },
  {
   "cell_type": "code",
   "execution_count": 179,
   "metadata": {
    "execution": {
     "iopub.execute_input": "2023-03-04T09:33:25.487971Z",
     "iopub.status.busy": "2023-03-04T09:33:25.487666Z",
     "iopub.status.idle": "2023-03-04T09:33:28.258958Z",
     "shell.execute_reply": "2023-03-04T09:33:28.258205Z",
     "shell.execute_reply.started": "2023-03-04T09:33:25.487949Z"
    }
   },
   "outputs": [],
   "source": [
    "# Listen zu Strings\n",
    "mask = ~wiktionary.ipa.isnull()\n",
    "wiktionary.loc[mask,'ipa'] = wiktionary[mask].ipa.str[0]\n",
    "\n",
    "mask = ~wiktionary.syllables.isnull()\n",
    "wiktionary.loc[mask,'syllables'] = wiktionary[mask].syllables.str.join('⇀')\n",
    "\n",
    "mask = ~wiktionary.rhymes.isnull()\n",
    "wiktionary.loc[mask,'rhymes'] = wiktionary[mask].rhymes.str[0]"
   ]
  },
  {
   "cell_type": "code",
   "execution_count": 180,
   "metadata": {
    "execution": {
     "iopub.execute_input": "2023-03-04T09:33:28.260197Z",
     "iopub.status.busy": "2023-03-04T09:33:28.259933Z",
     "iopub.status.idle": "2023-03-04T09:35:01.462443Z",
     "shell.execute_reply": "2023-03-04T09:35:01.461788Z",
     "shell.execute_reply.started": "2023-03-04T09:33:28.260174Z"
    }
   },
   "outputs": [],
   "source": [
    "# cols_to_defaultdict\n",
    "# 1 min\n",
    "wiktionary = pak.cols_to_defaultdict( wiktionary, col_dict='flexion', cols_add=['ipa','syllables','rhymes']  )"
   ]
  },
  {
   "cell_type": "code",
   "execution_count": 181,
   "metadata": {
    "execution": {
     "iopub.execute_input": "2023-03-04T09:35:01.463465Z",
     "iopub.status.busy": "2023-03-04T09:35:01.463248Z",
     "iopub.status.idle": "2023-03-04T09:35:01.495858Z",
     "shell.execute_reply": "2023-03-04T09:35:01.495132Z",
     "shell.execute_reply.started": "2023-03-04T09:35:01.463444Z"
    }
   },
   "outputs": [],
   "source": [
    "# wiktionary anschauen\n",
    "#grid(wiktionary, pak.sample)"
   ]
  },
  {
   "cell_type": "markdown",
   "metadata": {},
   "source": [
    "## flexion nach wiktionary_merkmal exploden\n",
    "* braucht viel RAM\n",
    "* hiernach muss die löschliste nochmal angewendet werden"
   ]
  },
  {
   "cell_type": "code",
   "execution_count": 182,
   "metadata": {
    "execution": {
     "iopub.execute_input": "2023-03-04T09:35:01.497076Z",
     "iopub.status.busy": "2023-03-04T09:35:01.496824Z",
     "iopub.status.idle": "2023-03-04T09:38:58.961057Z",
     "shell.execute_reply": "2023-03-04T09:38:58.956879Z",
     "shell.execute_reply.started": "2023-03-04T09:35:01.497054Z"
    },
    "tags": []
   },
   "outputs": [],
   "source": [
    "# flexion: vorbereiten\n",
    "# 5 min\n",
    "mask1 = wiktionary.flexion.notnull() \n",
    "mask2 = wiktionary.flexion != {}\n",
    "mask3 = wiktionary.flexion != defaultdict(list)\n",
    "mask = mask1  &  mask2  &  mask3 \n",
    "\n",
    "spalten = ['section_id2','flexion']\n",
    "df = pak.explode_dict(wiktionary[spalten][mask], col_dict='flexion', col_key='node_kontext', col_value='data', from_defaultdict=True)\n",
    "df['merkmal']    = 'flexion'\n",
    "df['node_debug'] = ''\n",
    "df['num']        = ''\n",
    "df['meta']       = ''"
   ]
  },
  {
   "cell_type": "code",
   "execution_count": 183,
   "metadata": {
    "execution": {
     "iopub.execute_input": "2023-03-04T09:38:58.971488Z",
     "iopub.status.busy": "2023-03-04T09:38:58.970937Z",
     "iopub.status.idle": "2023-03-04T09:39:16.965579Z",
     "shell.execute_reply": "2023-03-04T09:39:16.964876Z",
     "shell.execute_reply.started": "2023-03-04T09:38:58.971451Z"
    }
   },
   "outputs": [],
   "source": [
    "# change_datatype\n",
    "wiktionary = pak.change_datatype(wiktionary, verbose=False)"
   ]
  },
  {
   "cell_type": "code",
   "execution_count": 184,
   "metadata": {
    "execution": {
     "iopub.execute_input": "2023-03-04T09:39:16.966780Z",
     "iopub.status.busy": "2023-03-04T09:39:16.966548Z",
     "iopub.status.idle": "2023-03-04T09:39:17.704714Z",
     "shell.execute_reply": "2023-03-04T09:39:17.703807Z",
     "shell.execute_reply.started": "2023-03-04T09:39:16.966760Z"
    }
   },
   "outputs": [
    {
     "name": "stdout",
     "output_type": "stream",
     "text": [
      "3 rows out of 3006801\n"
     ]
    },
    {
     "data": {
      "text/html": [
       "<div>\n",
       "<style scoped>\n",
       "    .dataframe tbody tr th:only-of-type {\n",
       "        vertical-align: middle;\n",
       "    }\n",
       "\n",
       "    .dataframe tbody tr th {\n",
       "        vertical-align: top;\n",
       "    }\n",
       "\n",
       "    .dataframe thead th {\n",
       "        text-align: right;\n",
       "    }\n",
       "</style>\n",
       "<table border=\"1\" class=\"dataframe\">\n",
       "  <thead>\n",
       "    <tr style=\"text-align: right;\">\n",
       "      <th></th>\n",
       "      <th>section_id2</th>\n",
       "      <th>node_kontext</th>\n",
       "      <th>data</th>\n",
       "      <th>merkmal</th>\n",
       "      <th>node_debug</th>\n",
       "      <th>num</th>\n",
       "      <th>meta</th>\n",
       "    </tr>\n",
       "  </thead>\n",
       "  <tbody>\n",
       "    <tr>\n",
       "      <th>46086</th>\n",
       "      <td>lachend</td>\n",
       "      <td>ipa</td>\n",
       "      <td>laxn̩t</td>\n",
       "      <td>flexion</td>\n",
       "      <td></td>\n",
       "      <td></td>\n",
       "      <td></td>\n",
       "    </tr>\n",
       "    <tr>\n",
       "      <th>46086</th>\n",
       "      <td>lachend</td>\n",
       "      <td>syllables</td>\n",
       "      <td>la⇀chend</td>\n",
       "      <td>flexion</td>\n",
       "      <td></td>\n",
       "      <td></td>\n",
       "      <td></td>\n",
       "    </tr>\n",
       "    <tr>\n",
       "      <th>46086</th>\n",
       "      <td>lachend</td>\n",
       "      <td>rhymes</td>\n",
       "      <td>axn̩t</td>\n",
       "      <td>flexion</td>\n",
       "      <td></td>\n",
       "      <td></td>\n",
       "      <td></td>\n",
       "    </tr>\n",
       "  </tbody>\n",
       "</table>\n",
       "</div>"
      ],
      "text/plain": [
       "      section_id2 node_kontext      data  merkmal node_debug num meta\n",
       "46086     lachend          ipa    laxn̩t  flexion                    \n",
       "46086     lachend    syllables  la⇀chend  flexion                    \n",
       "46086     lachend       rhymes     axn̩t  flexion                    "
      ]
     },
     "execution_count": 184,
     "metadata": {},
     "output_type": "execute_result"
    }
   ],
   "source": [
    "# Beispiel anschauen\n",
    "mask = df.section_id2 == suche_debug[0]\n",
    "grid(df,mask)"
   ]
  },
  {
   "cell_type": "code",
   "execution_count": 185,
   "metadata": {
    "execution": {
     "iopub.execute_input": "2023-03-04T09:39:17.706553Z",
     "iopub.status.busy": "2023-03-04T09:39:17.706301Z",
     "iopub.status.idle": "2023-03-04T09:39:17.750657Z",
     "shell.execute_reply": "2023-03-04T09:39:17.749857Z",
     "shell.execute_reply.started": "2023-03-04T09:39:17.706532Z"
    }
   },
   "outputs": [
    {
     "name": "stdout",
     "output_type": "stream",
     "text": [
      "left_only:  {}\n",
      "right_only: {}\n",
      "\n"
     ]
    }
   ],
   "source": [
    "bpy.minivenn(wiktionary_merkmal.columns, df.columns, format='print2')"
   ]
  },
  {
   "cell_type": "code",
   "execution_count": 186,
   "metadata": {
    "execution": {
     "iopub.execute_input": "2023-03-04T09:39:17.752178Z",
     "iopub.status.busy": "2023-03-04T09:39:17.751787Z",
     "iopub.status.idle": "2023-03-04T09:39:22.855953Z",
     "shell.execute_reply": "2023-03-04T09:39:22.855371Z",
     "shell.execute_reply.started": "2023-03-04T09:39:17.752156Z"
    }
   },
   "outputs": [
    {
     "name": "stdout",
     "output_type": "stream",
     "text": [
      "3006801 rows added, now a total of 6261406\n"
     ]
    }
   ],
   "source": [
    "# an wiktionary_merkmal anfügen\n",
    "wiktionary_merkmal = pak.add_rows(wiktionary_merkmal, df, assert_subset=True)\n",
    "wiktionary   = pak.drop_cols(wiktionary, ['flexion'])  "
   ]
  },
  {
   "cell_type": "code",
   "execution_count": 187,
   "metadata": {
    "execution": {
     "iopub.execute_input": "2023-03-04T09:39:22.857835Z",
     "iopub.status.busy": "2023-03-04T09:39:22.857546Z",
     "iopub.status.idle": "2023-03-04T09:39:23.056562Z",
     "shell.execute_reply": "2023-03-04T09:39:23.055786Z",
     "shell.execute_reply.started": "2023-03-04T09:39:22.857812Z"
    },
    "tags": []
   },
   "outputs": [
    {
     "name": "stdout",
     "output_type": "stream",
     "text": [
      "4 rows\n"
     ]
    },
    {
     "data": {
      "text/html": [
       "<div>\n",
       "<style scoped>\n",
       "    .dataframe tbody tr th:only-of-type {\n",
       "        vertical-align: middle;\n",
       "    }\n",
       "\n",
       "    .dataframe tbody tr th {\n",
       "        vertical-align: top;\n",
       "    }\n",
       "\n",
       "    .dataframe thead th {\n",
       "        text-align: right;\n",
       "    }\n",
       "</style>\n",
       "<table border=\"1\" class=\"dataframe\">\n",
       "  <thead>\n",
       "    <tr style=\"text-align: right;\">\n",
       "      <th></th>\n",
       "      <th>section_id2</th>\n",
       "      <th>merkmal</th>\n",
       "      <th>node_debug</th>\n",
       "      <th>node_kontext</th>\n",
       "      <th>data</th>\n",
       "      <th>num</th>\n",
       "      <th>meta</th>\n",
       "    </tr>\n",
       "  </thead>\n",
       "  <tbody>\n",
       "    <tr>\n",
       "      <th>3636184</th>\n",
       "      <td>lachend</td>\n",
       "      <td>flexion</td>\n",
       "      <td></td>\n",
       "      <td>ipa</td>\n",
       "      <td>laxn̩t</td>\n",
       "      <td></td>\n",
       "      <td></td>\n",
       "    </tr>\n",
       "    <tr>\n",
       "      <th>3636185</th>\n",
       "      <td>lachend</td>\n",
       "      <td>flexion</td>\n",
       "      <td></td>\n",
       "      <td>syllables</td>\n",
       "      <td>la⇀chend</td>\n",
       "      <td></td>\n",
       "      <td></td>\n",
       "    </tr>\n",
       "    <tr>\n",
       "      <th>3636186</th>\n",
       "      <td>lachend</td>\n",
       "      <td>flexion</td>\n",
       "      <td></td>\n",
       "      <td>rhymes</td>\n",
       "      <td>axn̩t</td>\n",
       "      <td></td>\n",
       "      <td></td>\n",
       "    </tr>\n",
       "    <tr>\n",
       "      <th>959744</th>\n",
       "      <td>lachend</td>\n",
       "      <td>gm</td>\n",
       "      <td></td>\n",
       "      <td></td>\n",
       "      <td>lachen</td>\n",
       "      <td></td>\n",
       "      <td></td>\n",
       "    </tr>\n",
       "  </tbody>\n",
       "</table>\n",
       "</div>"
      ],
      "text/plain": [
       "        section_id2  merkmal node_debug node_kontext      data num meta\n",
       "3636184     lachend  flexion                     ipa    laxn̩t         \n",
       "3636185     lachend  flexion               syllables  la⇀chend         \n",
       "3636186     lachend  flexion                  rhymes     axn̩t         \n",
       "959744      lachend       gm                            lachen         "
      ]
     },
     "execution_count": 187,
     "metadata": {},
     "output_type": "execute_result"
    }
   ],
   "source": [
    "# suche_debug\n",
    "mask = wiktionary_merkmal.section_id2.isin(suche_debug[0:1])\n",
    "grid(wiktionary_merkmal[mask].sort_values(['section_id2','merkmal']))"
   ]
  },
  {
   "cell_type": "markdown",
   "metadata": {},
   "source": [
    "## wiktionary in 3 Teile aufteilen"
   ]
  },
  {
   "cell_type": "code",
   "execution_count": 188,
   "metadata": {
    "execution": {
     "iopub.execute_input": "2023-03-04T09:39:23.061226Z",
     "iopub.status.busy": "2023-03-04T09:39:23.058977Z",
     "iopub.status.idle": "2023-03-04T09:39:23.167564Z",
     "shell.execute_reply": "2023-03-04T09:39:23.166929Z",
     "shell.execute_reply.started": "2023-03-04T09:39:23.061190Z"
    },
    "tags": []
   },
   "outputs": [
    {
     "name": "stdout",
     "output_type": "stream",
     "text": [
      "1 rows\n"
     ]
    },
    {
     "data": {
      "text/html": [
       "<div>\n",
       "<style scoped>\n",
       "    .dataframe tbody tr th:only-of-type {\n",
       "        vertical-align: middle;\n",
       "    }\n",
       "\n",
       "    .dataframe tbody tr th {\n",
       "        vertical-align: top;\n",
       "    }\n",
       "\n",
       "    .dataframe thead th {\n",
       "        text-align: right;\n",
       "    }\n",
       "</style>\n",
       "<table border=\"1\" class=\"dataframe\">\n",
       "  <thead>\n",
       "    <tr style=\"text-align: right;\">\n",
       "      <th></th>\n",
       "      <th>page_id</th>\n",
       "      <th>page_part</th>\n",
       "      <th>section_id2</th>\n",
       "      <th>title</th>\n",
       "      <th>lemma</th>\n",
       "      <th>inflected</th>\n",
       "      <th>pos</th>\n",
       "      <th>tag</th>\n",
       "      <th>tag_0</th>\n",
       "      <th>tag_1</th>\n",
       "      <th>tagZ</th>\n",
       "      <th>tagZZ</th>\n",
       "      <th>member</th>\n",
       "      <th>lang</th>\n",
       "      <th>lang_code</th>\n",
       "      <th>error</th>\n",
       "      <th>lemma_lower</th>\n",
       "      <th>score</th>\n",
       "    </tr>\n",
       "  </thead>\n",
       "  <tbody>\n",
       "    <tr>\n",
       "      <th>46086</th>\n",
       "      <td>120123</td>\n",
       "      <td>0</td>\n",
       "      <td>lachend</td>\n",
       "      <td>lachend</td>\n",
       "      <td>lachend</td>\n",
       "      <td>False</td>\n",
       "      <td>{'Adjektiv': ['Partizip I']}</td>\n",
       "      <td>ADJ1</td>\n",
       "      <td>ADJ1</td>\n",
       "      <td>fPbjtBa8Lr</td>\n",
       "      <td>ADJ</td>\n",
       "      <td>A</td>\n",
       "      <td>Adjektiv Ptz1</td>\n",
       "      <td>Deutsch</td>\n",
       "      <td>de</td>\n",
       "      <td></td>\n",
       "      <td>lachend</td>\n",
       "      <td>2.053587</td>\n",
       "    </tr>\n",
       "  </tbody>\n",
       "</table>\n",
       "</div>"
      ],
      "text/plain": [
       "       page_id  page_part section_id2    title    lemma inflected  \\\n",
       "46086   120123          0     lachend  lachend  lachend     False   \n",
       "\n",
       "                                pos   tag tag_0       tag_1 tagZ tagZZ  \\\n",
       "46086  {'Adjektiv': ['Partizip I']}  ADJ1  ADJ1  fPbjtBa8Lr  ADJ     A   \n",
       "\n",
       "              member     lang lang_code error lemma_lower     score  \n",
       "46086  Adjektiv Ptz1  Deutsch        de           lachend  2.053587  "
      ]
     },
     "execution_count": 188,
     "metadata": {},
     "output_type": "execute_result"
    }
   ],
   "source": [
    "# suche_debug \n",
    "mask = wiktionary.title.isin(suche_debug)\n",
    "grid(wiktionary[mask].sort_values(['section_id2',]))"
   ]
  },
  {
   "cell_type": "code",
   "execution_count": 189,
   "metadata": {
    "execution": {
     "iopub.execute_input": "2023-03-04T09:39:23.173850Z",
     "iopub.status.busy": "2023-03-04T09:39:23.171530Z",
     "iopub.status.idle": "2023-03-04T09:39:49.611574Z",
     "shell.execute_reply": "2023-03-04T09:39:49.610735Z",
     "shell.execute_reply.started": "2023-03-04T09:39:23.173813Z"
    },
    "tags": []
   },
   "outputs": [],
   "source": [
    "# pflege_tag_felder (zur Sicherheit noch mal)\n",
    "wiktionary = pflege_tag_felder(wiktionary, translate_tagZ)"
   ]
  },
  {
   "cell_type": "code",
   "execution_count": 190,
   "metadata": {
    "execution": {
     "iopub.execute_input": "2023-03-04T09:39:49.614135Z",
     "iopub.status.busy": "2023-03-04T09:39:49.613771Z",
     "iopub.status.idle": "2023-03-04T09:39:50.635865Z",
     "shell.execute_reply": "2023-03-04T09:39:50.634903Z",
     "shell.execute_reply.started": "2023-03-04T09:39:49.614106Z"
    },
    "tags": []
   },
   "outputs": [
    {
     "name": "stdout",
     "output_type": "stream",
     "text": [
      "check_mask:  0 rows\n"
     ]
    }
   ],
   "source": [
    "# LEX-Kennzeichnung sollte eineindeutig sein, außer bei FIX\n",
    "mask1 =  wiktionary.tag.str.contains('LEX_')   \n",
    "mask2 =  wiktionary.tag.str.contains(' ')\n",
    "mask3 = ~wiktionary.tag.str.contains('FIX')\n",
    "mask = mask1  &  mask2  &  mask3\n",
    "check_mask(wiktionary,mask, 0)"
   ]
  },
  {
   "cell_type": "code",
   "execution_count": 191,
   "metadata": {
    "execution": {
     "iopub.execute_input": "2023-03-04T09:39:50.637601Z",
     "iopub.status.busy": "2023-03-04T09:39:50.637299Z",
     "iopub.status.idle": "2023-03-04T09:39:50.776248Z",
     "shell.execute_reply": "2023-03-04T09:39:50.774958Z",
     "shell.execute_reply.started": "2023-03-04T09:39:50.637573Z"
    },
    "tags": []
   },
   "outputs": [],
   "source": [
    "# inflected >> bool\n",
    "wiktionary['inflected'] = wiktionary.inflected.astype('bool')"
   ]
  },
  {
   "cell_type": "code",
   "execution_count": 192,
   "metadata": {
    "execution": {
     "iopub.execute_input": "2023-03-04T09:39:50.778610Z",
     "iopub.status.busy": "2023-03-04T09:39:50.778236Z",
     "iopub.status.idle": "2023-03-04T09:39:51.656114Z",
     "shell.execute_reply": "2023-03-04T09:39:51.654943Z",
     "shell.execute_reply.started": "2023-03-04T09:39:50.778587Z"
    },
    "tags": []
   },
   "outputs": [
    {
     "data": {
      "text/plain": [
       "page_id        6336\n",
       "page_part      6336\n",
       "pos            6340\n",
       "tagZ         669686\n",
       "lang           6336\n",
       "lang_code      6336\n",
       "error          6336\n",
       "dtype: int64"
      ]
     },
     "execution_count": 192,
     "metadata": {},
     "output_type": "execute_result"
    }
   ],
   "source": [
    "pak.nnan(wiktionary)"
   ]
  },
  {
   "cell_type": "code",
   "execution_count": 193,
   "metadata": {
    "execution": {
     "iopub.execute_input": "2023-03-04T09:39:51.666517Z",
     "iopub.status.busy": "2023-03-04T09:39:51.663346Z",
     "iopub.status.idle": "2023-03-04T09:39:51.722415Z",
     "shell.execute_reply": "2023-03-04T09:39:51.721437Z",
     "shell.execute_reply.started": "2023-03-04T09:39:51.666479Z"
    },
    "tags": []
   },
   "outputs": [
    {
     "name": "stdout",
     "output_type": "stream",
     "text": [
      "check_mask:  0 rows\n"
     ]
    }
   ],
   "source": [
    "# score\n",
    "mask = wiktionary.score.isnull()\n",
    "check_mask(wiktionary,mask,0)\n",
    "#wiktionary['score'] = wiktionary.score.fillna(wiktionary.score.quantile(0.95)).astype('float')"
   ]
  },
  {
   "cell_type": "code",
   "execution_count": 194,
   "metadata": {
    "execution": {
     "iopub.execute_input": "2023-03-04T09:39:51.730083Z",
     "iopub.status.busy": "2023-03-04T09:39:51.727264Z",
     "iopub.status.idle": "2023-03-04T09:40:02.801116Z",
     "shell.execute_reply": "2023-03-04T09:40:02.800344Z",
     "shell.execute_reply.started": "2023-03-04T09:39:51.730045Z"
    },
    "tags": []
   },
   "outputs": [
    {
     "data": {
      "text/html": [
       "<div>\n",
       "<style scoped>\n",
       "    .dataframe tbody tr th:only-of-type {\n",
       "        vertical-align: middle;\n",
       "    }\n",
       "\n",
       "    .dataframe tbody tr th {\n",
       "        vertical-align: top;\n",
       "    }\n",
       "\n",
       "    .dataframe thead th {\n",
       "        text-align: right;\n",
       "    }\n",
       "</style>\n",
       "<table border=\"1\" class=\"dataframe\">\n",
       "  <thead>\n",
       "    <tr style=\"text-align: right;\">\n",
       "      <th></th>\n",
       "      <th>col_name</th>\n",
       "      <th>datatype_instance</th>\n",
       "      <th>datatype</th>\n",
       "      <th>datatype_short</th>\n",
       "      <th>datatype_suggest</th>\n",
       "      <th>is_numeric</th>\n",
       "      <th>is_string</th>\n",
       "      <th>is_hashable</th>\n",
       "      <th>nan_allowed</th>\n",
       "      <th>mem_usage</th>\n",
       "      <th>ntypes</th>\n",
       "      <th>nunique</th>\n",
       "      <th>nnan</th>\n",
       "      <th>ndups</th>\n",
       "      <th>n</th>\n",
       "      <th>vmin</th>\n",
       "      <th>vmean</th>\n",
       "      <th>vmedian</th>\n",
       "      <th>vmax</th>\n",
       "      <th>vsum</th>\n",
       "    </tr>\n",
       "  </thead>\n",
       "  <tbody>\n",
       "    <tr>\n",
       "      <th>0</th>\n",
       "      <td>__index__</td>\n",
       "      <td>int64</td>\n",
       "      <td>np.int64</td>\n",
       "      <td>int64</td>\n",
       "      <td>np.int32</td>\n",
       "      <td>True</td>\n",
       "      <td>False</td>\n",
       "      <td>True</td>\n",
       "      <td>False</td>\n",
       "      <td>80.0 B</td>\n",
       "      <td>1</td>\n",
       "      <td>843357</td>\n",
       "      <td>0</td>\n",
       "      <td>0</td>\n",
       "      <td>843357</td>\n",
       "      <td>0.0</td>\n",
       "      <td>421678.00</td>\n",
       "      <td>421678.00</td>\n",
       "      <td>843356.0</td>\n",
       "      <td>3.556251e+11</td>\n",
       "    </tr>\n",
       "    <tr>\n",
       "      <th>1</th>\n",
       "      <td>page_id</td>\n",
       "      <td>int32</td>\n",
       "      <td>pd.Int32</td>\n",
       "      <td>Int32</td>\n",
       "      <td></td>\n",
       "      <td>True</td>\n",
       "      <td>False</td>\n",
       "      <td>True</td>\n",
       "      <td>True</td>\n",
       "      <td>50.0 B</td>\n",
       "      <td>1</td>\n",
       "      <td>801553</td>\n",
       "      <td>6336</td>\n",
       "      <td>35468</td>\n",
       "      <td>843357</td>\n",
       "      <td>0.0</td>\n",
       "      <td>622283.84</td>\n",
       "      <td>623269.00</td>\n",
       "      <td>1118318.0</td>\n",
       "      <td>5.208646e+11</td>\n",
       "    </tr>\n",
       "    <tr>\n",
       "      <th>2</th>\n",
       "      <td>page_part</td>\n",
       "      <td>int8</td>\n",
       "      <td>pd.Int8</td>\n",
       "      <td>Int8</td>\n",
       "      <td></td>\n",
       "      <td>True</td>\n",
       "      <td>False</td>\n",
       "      <td>True</td>\n",
       "      <td>True</td>\n",
       "      <td>20.0 B</td>\n",
       "      <td>1</td>\n",
       "      <td>7</td>\n",
       "      <td>6336</td>\n",
       "      <td>837014</td>\n",
       "      <td>843357</td>\n",
       "      <td>0.0</td>\n",
       "      <td>0.04</td>\n",
       "      <td>0.00</td>\n",
       "      <td>6.0</td>\n",
       "      <td>3.743400e+04</td>\n",
       "    </tr>\n",
       "    <tr>\n",
       "      <th>3</th>\n",
       "      <td>section_id2</td>\n",
       "      <td>str</td>\n",
       "      <td>pd.string</td>\n",
       "      <td>string</td>\n",
       "      <td></td>\n",
       "      <td>False</td>\n",
       "      <td>True</td>\n",
       "      <td>True</td>\n",
       "      <td>True</td>\n",
       "      <td>773.0 B</td>\n",
       "      <td>1</td>\n",
       "      <td>840889</td>\n",
       "      <td>0</td>\n",
       "      <td>2468</td>\n",
       "      <td>843357</td>\n",
       "      <td>!_M</td>\n",
       "      <td>NaN</td>\n",
       "      <td>NaN</td>\n",
       "      <td>…_M</td>\n",
       "      <td>NaN</td>\n",
       "    </tr>\n",
       "    <tr>\n",
       "      <th>4</th>\n",
       "      <td>title</td>\n",
       "      <td>str</td>\n",
       "      <td>pd.string</td>\n",
       "      <td>string</td>\n",
       "      <td></td>\n",
       "      <td>False</td>\n",
       "      <td>True</td>\n",
       "      <td>True</td>\n",
       "      <td>True</td>\n",
       "      <td>767.0 B</td>\n",
       "      <td>1</td>\n",
       "      <td>805228</td>\n",
       "      <td>0</td>\n",
       "      <td>38129</td>\n",
       "      <td>843357</td>\n",
       "      <td>!</td>\n",
       "      <td>NaN</td>\n",
       "      <td>NaN</td>\n",
       "      <td>…</td>\n",
       "      <td>NaN</td>\n",
       "    </tr>\n",
       "    <tr>\n",
       "      <th>5</th>\n",
       "      <td>lemma</td>\n",
       "      <td>str</td>\n",
       "      <td>pd.string</td>\n",
       "      <td>string</td>\n",
       "      <td></td>\n",
       "      <td>False</td>\n",
       "      <td>True</td>\n",
       "      <td>True</td>\n",
       "      <td>True</td>\n",
       "      <td>758.0 B</td>\n",
       "      <td>1</td>\n",
       "      <td>163093</td>\n",
       "      <td>0</td>\n",
       "      <td>680264</td>\n",
       "      <td>843357</td>\n",
       "      <td>!</td>\n",
       "      <td>NaN</td>\n",
       "      <td>NaN</td>\n",
       "      <td>…</td>\n",
       "      <td>NaN</td>\n",
       "    </tr>\n",
       "    <tr>\n",
       "      <th>6</th>\n",
       "      <td>inflected</td>\n",
       "      <td>bool_</td>\n",
       "      <td>bool</td>\n",
       "      <td>bool</td>\n",
       "      <td></td>\n",
       "      <td>True</td>\n",
       "      <td>False</td>\n",
       "      <td>True</td>\n",
       "      <td>True</td>\n",
       "      <td>10.0 B</td>\n",
       "      <td>1</td>\n",
       "      <td>2</td>\n",
       "      <td>0</td>\n",
       "      <td>843355</td>\n",
       "      <td>843357</td>\n",
       "      <td>0.0</td>\n",
       "      <td>0.83</td>\n",
       "      <td>NaN</td>\n",
       "      <td>1.0</td>\n",
       "      <td>7.032070e+05</td>\n",
       "    </tr>\n",
       "    <tr>\n",
       "      <th>7</th>\n",
       "      <td>pos</td>\n",
       "      <td>dict</td>\n",
       "      <td>object</td>\n",
       "      <td>object</td>\n",
       "      <td></td>\n",
       "      <td>False</td>\n",
       "      <td>True</td>\n",
       "      <td>False</td>\n",
       "      <td>True</td>\n",
       "      <td>1.8 KB</td>\n",
       "      <td>1</td>\n",
       "      <td>159</td>\n",
       "      <td>6340</td>\n",
       "      <td>836858</td>\n",
       "      <td>843357</td>\n",
       "      <td>NaN</td>\n",
       "      <td>NaN</td>\n",
       "      <td>NaN</td>\n",
       "      <td>NaN</td>\n",
       "      <td>NaN</td>\n",
       "    </tr>\n",
       "    <tr>\n",
       "      <th>8</th>\n",
       "      <td>tag</td>\n",
       "      <td>str</td>\n",
       "      <td>pd.string</td>\n",
       "      <td>string</td>\n",
       "      <td></td>\n",
       "      <td>False</td>\n",
       "      <td>True</td>\n",
       "      <td>True</td>\n",
       "      <td>True</td>\n",
       "      <td>610.0 B</td>\n",
       "      <td>1</td>\n",
       "      <td>66</td>\n",
       "      <td>0</td>\n",
       "      <td>843291</td>\n",
       "      <td>843357</td>\n",
       "      <td>$(</td>\n",
       "      <td>NaN</td>\n",
       "      <td>NaN</td>\n",
       "      <td>ZFIX TRUNC</td>\n",
       "      <td>NaN</td>\n",
       "    </tr>\n",
       "    <tr>\n",
       "      <th>9</th>\n",
       "      <td>tag_0</td>\n",
       "      <td>str</td>\n",
       "      <td>pd.string</td>\n",
       "      <td>string</td>\n",
       "      <td></td>\n",
       "      <td>False</td>\n",
       "      <td>True</td>\n",
       "      <td>True</td>\n",
       "      <td>True</td>\n",
       "      <td>610.0 B</td>\n",
       "      <td>1</td>\n",
       "      <td>45</td>\n",
       "      <td>0</td>\n",
       "      <td>843312</td>\n",
       "      <td>843357</td>\n",
       "      <td>$(</td>\n",
       "      <td>NaN</td>\n",
       "      <td>NaN</td>\n",
       "      <td>ZFIX</td>\n",
       "      <td>NaN</td>\n",
       "    </tr>\n",
       "    <tr>\n",
       "      <th>10</th>\n",
       "      <td>tag_1</td>\n",
       "      <td>str</td>\n",
       "      <td>pd.string</td>\n",
       "      <td>string</td>\n",
       "      <td></td>\n",
       "      <td>False</td>\n",
       "      <td>True</td>\n",
       "      <td>True</td>\n",
       "      <td>True</td>\n",
       "      <td>670.0 B</td>\n",
       "      <td>1</td>\n",
       "      <td>842195</td>\n",
       "      <td>0</td>\n",
       "      <td>1162</td>\n",
       "      <td>843357</td>\n",
       "      <td>000wt0d0Uq</td>\n",
       "      <td>NaN</td>\n",
       "      <td>NaN</td>\n",
       "      <td>zzzjHSloyA</td>\n",
       "      <td>NaN</td>\n",
       "    </tr>\n",
       "    <tr>\n",
       "      <th>11</th>\n",
       "      <td>tagZ</td>\n",
       "      <td>str</td>\n",
       "      <td>pd.string</td>\n",
       "      <td>string</td>\n",
       "      <td></td>\n",
       "      <td>False</td>\n",
       "      <td>True</td>\n",
       "      <td>True</td>\n",
       "      <td>True</td>\n",
       "      <td>503.0 B</td>\n",
       "      <td>1</td>\n",
       "      <td>21</td>\n",
       "      <td>669686</td>\n",
       "      <td>173650</td>\n",
       "      <td>843357</td>\n",
       "      <td>ADJ</td>\n",
       "      <td>NaN</td>\n",
       "      <td>NaN</td>\n",
       "      <td>z</td>\n",
       "      <td>NaN</td>\n",
       "    </tr>\n",
       "    <tr>\n",
       "      <th>12</th>\n",
       "      <td>tagZZ</td>\n",
       "      <td>str</td>\n",
       "      <td>pd.string</td>\n",
       "      <td>string</td>\n",
       "      <td></td>\n",
       "      <td>False</td>\n",
       "      <td>True</td>\n",
       "      <td>True</td>\n",
       "      <td>True</td>\n",
       "      <td>575.0 B</td>\n",
       "      <td>1</td>\n",
       "      <td>8</td>\n",
       "      <td>0</td>\n",
       "      <td>843349</td>\n",
       "      <td>843357</td>\n",
       "      <td></td>\n",
       "      <td>NaN</td>\n",
       "      <td>NaN</td>\n",
       "      <td>Z</td>\n",
       "      <td>NaN</td>\n",
       "    </tr>\n",
       "    <tr>\n",
       "      <th>13</th>\n",
       "      <td>member</td>\n",
       "      <td>str</td>\n",
       "      <td>pd.string</td>\n",
       "      <td>string</td>\n",
       "      <td></td>\n",
       "      <td>False</td>\n",
       "      <td>True</td>\n",
       "      <td>True</td>\n",
       "      <td>True</td>\n",
       "      <td>787.0 B</td>\n",
       "      <td>1</td>\n",
       "      <td>173</td>\n",
       "      <td>0</td>\n",
       "      <td>843184</td>\n",
       "      <td>843357</td>\n",
       "      <td></td>\n",
       "      <td>NaN</td>\n",
       "      <td>NaN</td>\n",
       "      <td>modal lexAlt manuell</td>\n",
       "      <td>NaN</td>\n",
       "    </tr>\n",
       "    <tr>\n",
       "      <th>14</th>\n",
       "      <td>lang</td>\n",
       "      <td>str</td>\n",
       "      <td>pd.string</td>\n",
       "      <td>string</td>\n",
       "      <td></td>\n",
       "      <td>False</td>\n",
       "      <td>True</td>\n",
       "      <td>True</td>\n",
       "      <td>True</td>\n",
       "      <td>592.0 B</td>\n",
       "      <td>1</td>\n",
       "      <td>1</td>\n",
       "      <td>6336</td>\n",
       "      <td>837020</td>\n",
       "      <td>843357</td>\n",
       "      <td>Deutsch</td>\n",
       "      <td>NaN</td>\n",
       "      <td>NaN</td>\n",
       "      <td>Deutsch</td>\n",
       "      <td>NaN</td>\n",
       "    </tr>\n",
       "    <tr>\n",
       "      <th>15</th>\n",
       "      <td>lang_code</td>\n",
       "      <td>str</td>\n",
       "      <td>pd.string</td>\n",
       "      <td>string</td>\n",
       "      <td></td>\n",
       "      <td>False</td>\n",
       "      <td>True</td>\n",
       "      <td>True</td>\n",
       "      <td>True</td>\n",
       "      <td>552.0 B</td>\n",
       "      <td>1</td>\n",
       "      <td>1</td>\n",
       "      <td>6336</td>\n",
       "      <td>837020</td>\n",
       "      <td>843357</td>\n",
       "      <td>de</td>\n",
       "      <td>NaN</td>\n",
       "      <td>NaN</td>\n",
       "      <td>de</td>\n",
       "      <td>NaN</td>\n",
       "    </tr>\n",
       "    <tr>\n",
       "      <th>16</th>\n",
       "      <td>error</td>\n",
       "      <td>str</td>\n",
       "      <td>pd.string</td>\n",
       "      <td>string</td>\n",
       "      <td></td>\n",
       "      <td>False</td>\n",
       "      <td>True</td>\n",
       "      <td>True</td>\n",
       "      <td>True</td>\n",
       "      <td>536.0 B</td>\n",
       "      <td>1</td>\n",
       "      <td>1</td>\n",
       "      <td>6336</td>\n",
       "      <td>837020</td>\n",
       "      <td>843357</td>\n",
       "      <td></td>\n",
       "      <td>NaN</td>\n",
       "      <td>NaN</td>\n",
       "      <td></td>\n",
       "      <td>NaN</td>\n",
       "    </tr>\n",
       "    <tr>\n",
       "      <th>17</th>\n",
       "      <td>lemma_lower</td>\n",
       "      <td>str</td>\n",
       "      <td>pd.string</td>\n",
       "      <td>string</td>\n",
       "      <td></td>\n",
       "      <td>False</td>\n",
       "      <td>True</td>\n",
       "      <td>True</td>\n",
       "      <td>True</td>\n",
       "      <td>758.0 B</td>\n",
       "      <td>1</td>\n",
       "      <td>160968</td>\n",
       "      <td>0</td>\n",
       "      <td>682389</td>\n",
       "      <td>843357</td>\n",
       "      <td>!</td>\n",
       "      <td>NaN</td>\n",
       "      <td>NaN</td>\n",
       "      <td>…</td>\n",
       "      <td>NaN</td>\n",
       "    </tr>\n",
       "    <tr>\n",
       "      <th>18</th>\n",
       "      <td>score</td>\n",
       "      <td>float32</td>\n",
       "      <td>np.float32</td>\n",
       "      <td>float32</td>\n",
       "      <td></td>\n",
       "      <td>True</td>\n",
       "      <td>False</td>\n",
       "      <td>True</td>\n",
       "      <td>True</td>\n",
       "      <td>40.0 B</td>\n",
       "      <td>1</td>\n",
       "      <td>78100</td>\n",
       "      <td>0</td>\n",
       "      <td>765257</td>\n",
       "      <td>843357</td>\n",
       "      <td>0.0</td>\n",
       "      <td>10.30</td>\n",
       "      <td>0.95</td>\n",
       "      <td>12106.77</td>\n",
       "      <td>8.682916e+06</td>\n",
       "    </tr>\n",
       "  </tbody>\n",
       "</table>\n",
       "</div>"
      ],
      "text/plain": [
       "       col_name datatype_instance    datatype datatype_short datatype_suggest  \\\n",
       "0     __index__             int64    np.int64          int64         np.int32   \n",
       "1       page_id             int32    pd.Int32          Int32                    \n",
       "2     page_part              int8     pd.Int8           Int8                    \n",
       "3   section_id2               str   pd.string         string                    \n",
       "4         title               str   pd.string         string                    \n",
       "5         lemma               str   pd.string         string                    \n",
       "6     inflected             bool_        bool           bool                    \n",
       "7           pos              dict      object         object                    \n",
       "8           tag               str   pd.string         string                    \n",
       "9         tag_0               str   pd.string         string                    \n",
       "10        tag_1               str   pd.string         string                    \n",
       "11         tagZ               str   pd.string         string                    \n",
       "12        tagZZ               str   pd.string         string                    \n",
       "13       member               str   pd.string         string                    \n",
       "14         lang               str   pd.string         string                    \n",
       "15    lang_code               str   pd.string         string                    \n",
       "16        error               str   pd.string         string                    \n",
       "17  lemma_lower               str   pd.string         string                    \n",
       "18        score           float32  np.float32        float32                    \n",
       "\n",
       "    is_numeric  is_string  is_hashable  nan_allowed mem_usage  ntypes  \\\n",
       "0         True      False         True        False    80.0 B       1   \n",
       "1         True      False         True         True    50.0 B       1   \n",
       "2         True      False         True         True    20.0 B       1   \n",
       "3        False       True         True         True   773.0 B       1   \n",
       "4        False       True         True         True   767.0 B       1   \n",
       "5        False       True         True         True   758.0 B       1   \n",
       "6         True      False         True         True    10.0 B       1   \n",
       "7        False       True        False         True    1.8 KB       1   \n",
       "8        False       True         True         True   610.0 B       1   \n",
       "9        False       True         True         True   610.0 B       1   \n",
       "10       False       True         True         True   670.0 B       1   \n",
       "11       False       True         True         True   503.0 B       1   \n",
       "12       False       True         True         True   575.0 B       1   \n",
       "13       False       True         True         True   787.0 B       1   \n",
       "14       False       True         True         True   592.0 B       1   \n",
       "15       False       True         True         True   552.0 B       1   \n",
       "16       False       True         True         True   536.0 B       1   \n",
       "17       False       True         True         True   758.0 B       1   \n",
       "18        True      False         True         True    40.0 B       1   \n",
       "\n",
       "    nunique    nnan   ndups       n        vmin      vmean    vmedian  \\\n",
       "0    843357       0       0  843357         0.0  421678.00  421678.00   \n",
       "1    801553    6336   35468  843357         0.0  622283.84  623269.00   \n",
       "2         7    6336  837014  843357         0.0       0.04       0.00   \n",
       "3    840889       0    2468  843357         !_M        NaN        NaN   \n",
       "4    805228       0   38129  843357           !        NaN        NaN   \n",
       "5    163093       0  680264  843357           !        NaN        NaN   \n",
       "6         2       0  843355  843357         0.0       0.83        NaN   \n",
       "7       159    6340  836858  843357         NaN        NaN        NaN   \n",
       "8        66       0  843291  843357          $(        NaN        NaN   \n",
       "9        45       0  843312  843357          $(        NaN        NaN   \n",
       "10   842195       0    1162  843357  000wt0d0Uq        NaN        NaN   \n",
       "11       21  669686  173650  843357         ADJ        NaN        NaN   \n",
       "12        8       0  843349  843357                    NaN        NaN   \n",
       "13      173       0  843184  843357                    NaN        NaN   \n",
       "14        1    6336  837020  843357     Deutsch        NaN        NaN   \n",
       "15        1    6336  837020  843357          de        NaN        NaN   \n",
       "16        1    6336  837020  843357                    NaN        NaN   \n",
       "17   160968       0  682389  843357           !        NaN        NaN   \n",
       "18    78100       0  765257  843357         0.0      10.30       0.95   \n",
       "\n",
       "                    vmax          vsum  \n",
       "0               843356.0  3.556251e+11  \n",
       "1              1118318.0  5.208646e+11  \n",
       "2                    6.0  3.743400e+04  \n",
       "3                    …_M           NaN  \n",
       "4                      …           NaN  \n",
       "5                      …           NaN  \n",
       "6                    1.0  7.032070e+05  \n",
       "7                    NaN           NaN  \n",
       "8             ZFIX TRUNC           NaN  \n",
       "9                   ZFIX           NaN  \n",
       "10            zzzjHSloyA           NaN  \n",
       "11                     z           NaN  \n",
       "12                     Z           NaN  \n",
       "13  modal lexAlt manuell           NaN  \n",
       "14               Deutsch           NaN  \n",
       "15                    de           NaN  \n",
       "16                                 NaN  \n",
       "17                     …           NaN  \n",
       "18              12106.77  8.682916e+06  "
      ]
     },
     "execution_count": 194,
     "metadata": {},
     "output_type": "execute_result"
    }
   ],
   "source": [
    "pak.analyse_cols(wiktionary)"
   ]
  },
  {
   "cell_type": "code",
   "execution_count": 195,
   "metadata": {
    "execution": {
     "iopub.execute_input": "2023-03-04T09:40:02.802355Z",
     "iopub.status.busy": "2023-03-04T09:40:02.802109Z",
     "iopub.status.idle": "2023-03-04T09:40:02.836060Z",
     "shell.execute_reply": "2023-03-04T09:40:02.835321Z",
     "shell.execute_reply.started": "2023-03-04T09:40:02.802333Z"
    },
    "tags": []
   },
   "outputs": [],
   "source": [
    "#pak.sample(wiktionary)"
   ]
  },
  {
   "cell_type": "code",
   "execution_count": 203,
   "metadata": {
    "execution": {
     "iopub.execute_input": "2023-03-04T09:49:25.500724Z",
     "iopub.status.busy": "2023-03-04T09:49:25.499974Z",
     "iopub.status.idle": "2023-03-04T09:49:25.544982Z",
     "shell.execute_reply": "2023-03-04T09:49:25.544199Z",
     "shell.execute_reply.started": "2023-03-04T09:49:25.500678Z"
    },
    "tags": []
   },
   "outputs": [],
   "source": [
    "#a = pak.analyse_freqs(wiktionary,['member','tag','lemma'], splits=[' '])\n",
    "#gridt(a)"
   ]
  },
  {
   "cell_type": "code",
   "execution_count": 204,
   "metadata": {
    "execution": {
     "iopub.execute_input": "2023-03-04T09:49:35.902545Z",
     "iopub.status.busy": "2023-03-04T09:49:35.902292Z",
     "iopub.status.idle": "2023-03-04T09:49:35.943294Z",
     "shell.execute_reply": "2023-03-04T09:49:35.942665Z",
     "shell.execute_reply.started": "2023-03-04T09:49:35.902525Z"
    },
    "tags": []
   },
   "outputs": [],
   "source": [
    "#pak.sample(wiktionary)"
   ]
  },
  {
   "cell_type": "markdown",
   "metadata": {},
   "source": [
    "### wiktionary_partizip\n",
    "* Enthält Partizipien in Form von Partizipialadjektiven\n",
    "* Aber keine Verben mit Partizip-Lexem!"
   ]
  },
  {
   "cell_type": "code",
   "execution_count": 202,
   "metadata": {
    "execution": {
     "iopub.execute_input": "2023-03-04T09:48:20.557144Z",
     "iopub.status.busy": "2023-03-04T09:48:20.556779Z",
     "iopub.status.idle": "2023-03-04T09:48:21.029665Z",
     "shell.execute_reply": "2023-03-04T09:48:21.028431Z",
     "shell.execute_reply.started": "2023-03-04T09:48:20.557120Z"
    },
    "tags": []
   },
   "outputs": [
    {
     "name": "stdout",
     "output_type": "stream",
     "text": [
      "check_mask:  0 rows\n",
      "\u001b[1m\u001b[7m\u001b[34mNo rows, mask filters them all away\u001b[0m\n"
     ]
    }
   ],
   "source": [
    "# Vergewissern: Alle Ptz1 sind ADJ1\n",
    "mask1 = wiktionary.member.str.contains('Ptz1')\n",
    "mask2 = wiktionary.tag != 'ADJ1'\n",
    "mask = mask1  &  mask2\n",
    "check_mask(wiktionary,mask,0)"
   ]
  },
  {
   "cell_type": "code",
   "execution_count": 206,
   "metadata": {
    "execution": {
     "iopub.execute_input": "2023-03-04T09:50:27.538120Z",
     "iopub.status.busy": "2023-03-04T09:50:27.537462Z",
     "iopub.status.idle": "2023-03-04T09:50:28.018983Z",
     "shell.execute_reply": "2023-03-04T09:50:28.018236Z",
     "shell.execute_reply.started": "2023-03-04T09:50:27.538092Z"
    },
    "tags": []
   },
   "outputs": [
    {
     "name": "stdout",
     "output_type": "stream",
     "text": [
      "check_mask:  0 rows\n"
     ]
    }
   ],
   "source": [
    "# Vergewissern: Alle Ptz2 sind ADJ2\n",
    "mask1 = wiktionary.member.str.contains('Ptz2')\n",
    "mask2 = wiktionary.tag != 'ADJ2'\n",
    "mask = mask1  &  mask2\n",
    "check_mask(wiktionary,mask,0)"
   ]
  },
  {
   "cell_type": "code",
   "execution_count": 209,
   "metadata": {
    "execution": {
     "iopub.execute_input": "2023-03-04T09:55:02.213531Z",
     "iopub.status.busy": "2023-03-04T09:55:02.213002Z",
     "iopub.status.idle": "2023-03-04T09:55:03.602923Z",
     "shell.execute_reply": "2023-03-04T09:55:03.602014Z",
     "shell.execute_reply.started": "2023-03-04T09:55:02.213486Z"
    },
    "tags": []
   },
   "outputs": [
    {
     "name": "stdout",
     "output_type": "stream",
     "text": [
      "check_mask:  0 rows\n"
     ]
    }
   ],
   "source": [
    "# Ptz ganz aus member entfernen\n",
    "wiktionary['member'] = pak.remove_words(wiktionary.member, ['Ptz1','Ptz2'] )\n",
    "mask1 = wiktionary.member.str.contains('Ptz')\n",
    "check_mask(wiktionary,mask,0)"
   ]
  },
  {
   "cell_type": "markdown",
   "metadata": {},
   "source": [
    "### IDs zusammenlegen"
   ]
  },
  {
   "cell_type": "code",
   "execution_count": null,
   "metadata": {},
   "outputs": [],
   "source": [
    "mask1 = wiktionary.page_part == 0\n",
    "mask2 = wiktionary.tag == 'ADJA'\n",
    "main = "
   ]
  },
  {
   "cell_type": "code",
   "execution_count": 220,
   "metadata": {
    "execution": {
     "iopub.execute_input": "2023-03-04T10:02:21.474323Z",
     "iopub.status.busy": "2023-03-04T10:02:21.473978Z",
     "iopub.status.idle": "2023-03-04T10:02:22.397764Z",
     "shell.execute_reply": "2023-03-04T10:02:22.397091Z",
     "shell.execute_reply.started": "2023-03-04T10:02:21.474292Z"
    },
    "tags": []
   },
   "outputs": [
    {
     "data": {
      "text/html": [
       "<div>\n",
       "<style scoped>\n",
       "    .dataframe tbody tr th:only-of-type {\n",
       "        vertical-align: middle;\n",
       "    }\n",
       "\n",
       "    .dataframe tbody tr th {\n",
       "        vertical-align: top;\n",
       "    }\n",
       "\n",
       "    .dataframe thead th {\n",
       "        text-align: right;\n",
       "    }\n",
       "</style>\n",
       "<table border=\"1\" class=\"dataframe\">\n",
       "  <thead>\n",
       "    <tr style=\"text-align: right;\">\n",
       "      <th></th>\n",
       "      <th>page_id</th>\n",
       "      <th>page_part</th>\n",
       "      <th>section_id2</th>\n",
       "      <th>title</th>\n",
       "      <th>lemma</th>\n",
       "      <th>inflected</th>\n",
       "      <th>pos</th>\n",
       "      <th>tag</th>\n",
       "      <th>tag_0</th>\n",
       "      <th>tag_1</th>\n",
       "      <th>tagZ</th>\n",
       "      <th>tagZZ</th>\n",
       "      <th>member</th>\n",
       "      <th>lang</th>\n",
       "      <th>lang_code</th>\n",
       "      <th>error</th>\n",
       "      <th>lemma_lower</th>\n",
       "      <th>score</th>\n",
       "    </tr>\n",
       "  </thead>\n",
       "  <tbody>\n",
       "    <tr>\n",
       "      <th>56903</th>\n",
       "      <td>137199</td>\n",
       "      <td>0</td>\n",
       "      <td>beeindruckend</td>\n",
       "      <td>beeindruckend</td>\n",
       "      <td>beeindruckend</td>\n",
       "      <td>False</td>\n",
       "      <td>{'Adjektiv': []}</td>\n",
       "      <td>ADJA</td>\n",
       "      <td>ADJA</td>\n",
       "      <td>f3OBS4TLf1</td>\n",
       "      <td>ADJ</td>\n",
       "      <td>A</td>\n",
       "      <td>Adjektiv</td>\n",
       "      <td>Deutsch</td>\n",
       "      <td>de</td>\n",
       "      <td></td>\n",
       "      <td>beeindruckend</td>\n",
       "      <td>28.150461</td>\n",
       "    </tr>\n",
       "    <tr>\n",
       "      <th>817902</th>\n",
       "      <td>137199</td>\n",
       "      <td>1</td>\n",
       "      <td>beeindruckend_1</td>\n",
       "      <td>beeindruckend</td>\n",
       "      <td>beeindrucken</td>\n",
       "      <td>True</td>\n",
       "      <td>{'Adjektiv': ['Partizip I']}</td>\n",
       "      <td>ADJ1</td>\n",
       "      <td>ADJ1</td>\n",
       "      <td>DwGYxckTca</td>\n",
       "      <td>ADJ</td>\n",
       "      <td>A</td>\n",
       "      <td>Adjektiv</td>\n",
       "      <td>Deutsch</td>\n",
       "      <td>de</td>\n",
       "      <td></td>\n",
       "      <td>beeindrucken</td>\n",
       "      <td>0.069082</td>\n",
       "    </tr>\n",
       "    <tr>\n",
       "      <th>294775</th>\n",
       "      <td>483632</td>\n",
       "      <td>0</td>\n",
       "      <td>beeindruckende</td>\n",
       "      <td>beeindruckende</td>\n",
       "      <td>beeindruckend</td>\n",
       "      <td>True</td>\n",
       "      <td>{'Deklinierte Form': []}</td>\n",
       "      <td>LEX_A</td>\n",
       "      <td>LEX_A</td>\n",
       "      <td>F69cHYnVnp</td>\n",
       "      <td>&lt;NA&gt;</td>\n",
       "      <td></td>\n",
       "      <td>Deklinierte_Form</td>\n",
       "      <td>Deutsch</td>\n",
       "      <td>de</td>\n",
       "      <td></td>\n",
       "      <td>beeindruckend</td>\n",
       "      <td>1.835615</td>\n",
       "    </tr>\n",
       "    <tr>\n",
       "      <th>294770</th>\n",
       "      <td>483627</td>\n",
       "      <td>0</td>\n",
       "      <td>beeindruckendem</td>\n",
       "      <td>beeindruckendem</td>\n",
       "      <td>beeindruckend</td>\n",
       "      <td>True</td>\n",
       "      <td>{'Deklinierte Form': []}</td>\n",
       "      <td>LEX_A</td>\n",
       "      <td>LEX_A</td>\n",
       "      <td>3hlVaFmieA</td>\n",
       "      <td>&lt;NA&gt;</td>\n",
       "      <td></td>\n",
       "      <td>Deklinierte_Form</td>\n",
       "      <td>Deutsch</td>\n",
       "      <td>de</td>\n",
       "      <td></td>\n",
       "      <td>beeindruckend</td>\n",
       "      <td>0.784058</td>\n",
       "    </tr>\n",
       "    <tr>\n",
       "      <th>294771</th>\n",
       "      <td>483628</td>\n",
       "      <td>0</td>\n",
       "      <td>beeindruckenden</td>\n",
       "      <td>beeindruckenden</td>\n",
       "      <td>beeindruckend</td>\n",
       "      <td>True</td>\n",
       "      <td>{'Deklinierte Form': []}</td>\n",
       "      <td>LEX_A</td>\n",
       "      <td>LEX_A</td>\n",
       "      <td>bIbKMyQAxr</td>\n",
       "      <td>&lt;NA&gt;</td>\n",
       "      <td></td>\n",
       "      <td>Deklinierte_Form</td>\n",
       "      <td>Deutsch</td>\n",
       "      <td>de</td>\n",
       "      <td></td>\n",
       "      <td>beeindruckend</td>\n",
       "      <td>2.245872</td>\n",
       "    </tr>\n",
       "    <tr>\n",
       "      <th>294772</th>\n",
       "      <td>483629</td>\n",
       "      <td>0</td>\n",
       "      <td>beeindruckender</td>\n",
       "      <td>beeindruckender</td>\n",
       "      <td>beeindruckend</td>\n",
       "      <td>True</td>\n",
       "      <td>{'Deklinierte Form': []}</td>\n",
       "      <td>LEX_A</td>\n",
       "      <td>LEX_A</td>\n",
       "      <td>UVfg6Ypzuq</td>\n",
       "      <td>&lt;NA&gt;</td>\n",
       "      <td></td>\n",
       "      <td>Deklinierte_Form</td>\n",
       "      <td>Deutsch</td>\n",
       "      <td>de</td>\n",
       "      <td></td>\n",
       "      <td>beeindruckend</td>\n",
       "      <td>1.252282</td>\n",
       "    </tr>\n",
       "    <tr>\n",
       "      <th>294773</th>\n",
       "      <td>483629</td>\n",
       "      <td>1</td>\n",
       "      <td>beeindruckender_1</td>\n",
       "      <td>beeindruckender</td>\n",
       "      <td>beeindruckend</td>\n",
       "      <td>True</td>\n",
       "      <td>{'Adjektiv': ['Komparativ']}</td>\n",
       "      <td>LEX_A</td>\n",
       "      <td>LEX_A</td>\n",
       "      <td>azdp2YKHDn</td>\n",
       "      <td>&lt;NA&gt;</td>\n",
       "      <td></td>\n",
       "      <td>Komparativ Adjektiv</td>\n",
       "      <td>Deutsch</td>\n",
       "      <td>de</td>\n",
       "      <td></td>\n",
       "      <td>beeindruckend</td>\n",
       "      <td>0.067274</td>\n",
       "    </tr>\n",
       "    <tr>\n",
       "      <th>294780</th>\n",
       "      <td>483637</td>\n",
       "      <td>0</td>\n",
       "      <td>beeindruckendere</td>\n",
       "      <td>beeindruckendere</td>\n",
       "      <td>beeindruckend</td>\n",
       "      <td>True</td>\n",
       "      <td>{'Deklinierte Form': []}</td>\n",
       "      <td>LEX_A</td>\n",
       "      <td>LEX_A</td>\n",
       "      <td>cgFmXYgfBI</td>\n",
       "      <td>&lt;NA&gt;</td>\n",
       "      <td></td>\n",
       "      <td>Deklinierte_Form</td>\n",
       "      <td>Deutsch</td>\n",
       "      <td>de</td>\n",
       "      <td></td>\n",
       "      <td>beeindruckend</td>\n",
       "      <td>1.879205</td>\n",
       "    </tr>\n",
       "    <tr>\n",
       "      <th>294776</th>\n",
       "      <td>483633</td>\n",
       "      <td>0</td>\n",
       "      <td>beeindruckenderem</td>\n",
       "      <td>beeindruckenderem</td>\n",
       "      <td>beeindruckend</td>\n",
       "      <td>True</td>\n",
       "      <td>{'Deklinierte Form': []}</td>\n",
       "      <td>LEX_A</td>\n",
       "      <td>LEX_A</td>\n",
       "      <td>jcdmOqGptn</td>\n",
       "      <td>&lt;NA&gt;</td>\n",
       "      <td></td>\n",
       "      <td>Deklinierte_Form</td>\n",
       "      <td>Deutsch</td>\n",
       "      <td>de</td>\n",
       "      <td></td>\n",
       "      <td>beeindruckend</td>\n",
       "      <td>0.810917</td>\n",
       "    </tr>\n",
       "    <tr>\n",
       "      <th>294777</th>\n",
       "      <td>483634</td>\n",
       "      <td>0</td>\n",
       "      <td>beeindruckenderen</td>\n",
       "      <td>beeindruckenderen</td>\n",
       "      <td>beeindruckend</td>\n",
       "      <td>True</td>\n",
       "      <td>{'Deklinierte Form': []}</td>\n",
       "      <td>LEX_A</td>\n",
       "      <td>LEX_A</td>\n",
       "      <td>KtIOUmzlBe</td>\n",
       "      <td>&lt;NA&gt;</td>\n",
       "      <td></td>\n",
       "      <td>Deklinierte_Form</td>\n",
       "      <td>Deutsch</td>\n",
       "      <td>de</td>\n",
       "      <td></td>\n",
       "      <td>beeindruckend</td>\n",
       "      <td>2.301000</td>\n",
       "    </tr>\n",
       "    <tr>\n",
       "      <th>294778</th>\n",
       "      <td>483635</td>\n",
       "      <td>0</td>\n",
       "      <td>beeindruckenderer</td>\n",
       "      <td>beeindruckenderer</td>\n",
       "      <td>beeindruckend</td>\n",
       "      <td>True</td>\n",
       "      <td>{'Deklinierte Form': []}</td>\n",
       "      <td>LEX_A</td>\n",
       "      <td>LEX_A</td>\n",
       "      <td>LkXAo3rmsG</td>\n",
       "      <td>&lt;NA&gt;</td>\n",
       "      <td></td>\n",
       "      <td>Deklinierte_Form</td>\n",
       "      <td>Deutsch</td>\n",
       "      <td>de</td>\n",
       "      <td></td>\n",
       "      <td>beeindruckend</td>\n",
       "      <td>1.304846</td>\n",
       "    </tr>\n",
       "    <tr>\n",
       "      <th>294779</th>\n",
       "      <td>483636</td>\n",
       "      <td>0</td>\n",
       "      <td>beeindruckenderes</td>\n",
       "      <td>beeindruckenderes</td>\n",
       "      <td>beeindruckend</td>\n",
       "      <td>True</td>\n",
       "      <td>{'Deklinierte Form': []}</td>\n",
       "      <td>LEX_A</td>\n",
       "      <td>LEX_A</td>\n",
       "      <td>sZZUFWTDRz</td>\n",
       "      <td>&lt;NA&gt;</td>\n",
       "      <td></td>\n",
       "      <td>Deklinierte_Form</td>\n",
       "      <td>Deutsch</td>\n",
       "      <td>de</td>\n",
       "      <td></td>\n",
       "      <td>beeindruckend</td>\n",
       "      <td>1.167667</td>\n",
       "    </tr>\n",
       "    <tr>\n",
       "      <th>294774</th>\n",
       "      <td>483631</td>\n",
       "      <td>0</td>\n",
       "      <td>beeindruckendes</td>\n",
       "      <td>beeindruckendes</td>\n",
       "      <td>beeindruckend</td>\n",
       "      <td>True</td>\n",
       "      <td>{'Deklinierte Form': []}</td>\n",
       "      <td>LEX_A</td>\n",
       "      <td>LEX_A</td>\n",
       "      <td>boEeafG0ea</td>\n",
       "      <td>&lt;NA&gt;</td>\n",
       "      <td></td>\n",
       "      <td>Deklinierte_Form</td>\n",
       "      <td>Deutsch</td>\n",
       "      <td>de</td>\n",
       "      <td></td>\n",
       "      <td>beeindruckend</td>\n",
       "      <td>1.143308</td>\n",
       "    </tr>\n",
       "    <tr>\n",
       "      <th>294786</th>\n",
       "      <td>483643</td>\n",
       "      <td>0</td>\n",
       "      <td>beeindruckendste</td>\n",
       "      <td>beeindruckendste</td>\n",
       "      <td>beeindruckend</td>\n",
       "      <td>True</td>\n",
       "      <td>{'Deklinierte Form': []}</td>\n",
       "      <td>LEX_A</td>\n",
       "      <td>LEX_A</td>\n",
       "      <td>BRQLkcyBbn</td>\n",
       "      <td>&lt;NA&gt;</td>\n",
       "      <td></td>\n",
       "      <td>Deklinierte_Form</td>\n",
       "      <td>Deutsch</td>\n",
       "      <td>de</td>\n",
       "      <td></td>\n",
       "      <td>beeindruckend</td>\n",
       "      <td>1.879205</td>\n",
       "    </tr>\n",
       "    <tr>\n",
       "      <th>294781</th>\n",
       "      <td>483638</td>\n",
       "      <td>0</td>\n",
       "      <td>beeindruckendstem</td>\n",
       "      <td>beeindruckendstem</td>\n",
       "      <td>beeindruckend</td>\n",
       "      <td>True</td>\n",
       "      <td>{'Deklinierte Form': []}</td>\n",
       "      <td>LEX_A</td>\n",
       "      <td>LEX_A</td>\n",
       "      <td>Kbu7OFLR9o</td>\n",
       "      <td>&lt;NA&gt;</td>\n",
       "      <td></td>\n",
       "      <td>Deklinierte_Form</td>\n",
       "      <td>Deutsch</td>\n",
       "      <td>de</td>\n",
       "      <td></td>\n",
       "      <td>beeindruckend</td>\n",
       "      <td>0.810917</td>\n",
       "    </tr>\n",
       "    <tr>\n",
       "      <th>294782</th>\n",
       "      <td>483639</td>\n",
       "      <td>0</td>\n",
       "      <td>beeindruckendsten</td>\n",
       "      <td>beeindruckendsten</td>\n",
       "      <td>beeindruckend</td>\n",
       "      <td>True</td>\n",
       "      <td>{'Deklinierte Form': []}</td>\n",
       "      <td>LEX_A</td>\n",
       "      <td>LEX_A</td>\n",
       "      <td>pYabg3EPWs</td>\n",
       "      <td>&lt;NA&gt;</td>\n",
       "      <td></td>\n",
       "      <td>Deklinierte_Form</td>\n",
       "      <td>Deutsch</td>\n",
       "      <td>de</td>\n",
       "      <td></td>\n",
       "      <td>beeindruckend</td>\n",
       "      <td>2.240744</td>\n",
       "    </tr>\n",
       "    <tr>\n",
       "      <th>294783</th>\n",
       "      <td>483639</td>\n",
       "      <td>1</td>\n",
       "      <td>beeindruckendsten_1</td>\n",
       "      <td>beeindruckendsten</td>\n",
       "      <td>beeindruckend</td>\n",
       "      <td>True</td>\n",
       "      <td>{'Adjektiv': ['Superlativ']}</td>\n",
       "      <td>LEX_A</td>\n",
       "      <td>LEX_A</td>\n",
       "      <td>SinsXsVNJ3</td>\n",
       "      <td>&lt;NA&gt;</td>\n",
       "      <td></td>\n",
       "      <td>Superlativ Adjektiv</td>\n",
       "      <td>Deutsch</td>\n",
       "      <td>de</td>\n",
       "      <td></td>\n",
       "      <td>beeindruckend</td>\n",
       "      <td>0.072697</td>\n",
       "    </tr>\n",
       "    <tr>\n",
       "      <th>294784</th>\n",
       "      <td>483641</td>\n",
       "      <td>0</td>\n",
       "      <td>beeindruckendster</td>\n",
       "      <td>beeindruckendster</td>\n",
       "      <td>beeindruckend</td>\n",
       "      <td>True</td>\n",
       "      <td>{'Deklinierte Form': []}</td>\n",
       "      <td>LEX_A</td>\n",
       "      <td>LEX_A</td>\n",
       "      <td>yMnyVjfQMv</td>\n",
       "      <td>&lt;NA&gt;</td>\n",
       "      <td></td>\n",
       "      <td>Deklinierte_Form</td>\n",
       "      <td>Deutsch</td>\n",
       "      <td>de</td>\n",
       "      <td></td>\n",
       "      <td>beeindruckend</td>\n",
       "      <td>1.304846</td>\n",
       "    </tr>\n",
       "    <tr>\n",
       "      <th>294785</th>\n",
       "      <td>483642</td>\n",
       "      <td>0</td>\n",
       "      <td>beeindruckendstes</td>\n",
       "      <td>beeindruckendstes</td>\n",
       "      <td>beeindruckend</td>\n",
       "      <td>True</td>\n",
       "      <td>{'Deklinierte Form': []}</td>\n",
       "      <td>LEX_A</td>\n",
       "      <td>LEX_A</td>\n",
       "      <td>1H4JAOEien</td>\n",
       "      <td>&lt;NA&gt;</td>\n",
       "      <td></td>\n",
       "      <td>Deklinierte_Form</td>\n",
       "      <td>Deutsch</td>\n",
       "      <td>de</td>\n",
       "      <td></td>\n",
       "      <td>beeindruckend</td>\n",
       "      <td>1.167667</td>\n",
       "    </tr>\n",
       "  </tbody>\n",
       "</table>\n",
       "</div>"
      ],
      "text/plain": [
       "        page_id  page_part          section_id2              title  \\\n",
       "56903    137199          0        beeindruckend      beeindruckend   \n",
       "817902   137199          1      beeindruckend_1      beeindruckend   \n",
       "294775   483632          0       beeindruckende     beeindruckende   \n",
       "294770   483627          0      beeindruckendem    beeindruckendem   \n",
       "294771   483628          0      beeindruckenden    beeindruckenden   \n",
       "294772   483629          0      beeindruckender    beeindruckender   \n",
       "294773   483629          1    beeindruckender_1    beeindruckender   \n",
       "294780   483637          0     beeindruckendere   beeindruckendere   \n",
       "294776   483633          0    beeindruckenderem  beeindruckenderem   \n",
       "294777   483634          0    beeindruckenderen  beeindruckenderen   \n",
       "294778   483635          0    beeindruckenderer  beeindruckenderer   \n",
       "294779   483636          0    beeindruckenderes  beeindruckenderes   \n",
       "294774   483631          0      beeindruckendes    beeindruckendes   \n",
       "294786   483643          0     beeindruckendste   beeindruckendste   \n",
       "294781   483638          0    beeindruckendstem  beeindruckendstem   \n",
       "294782   483639          0    beeindruckendsten  beeindruckendsten   \n",
       "294783   483639          1  beeindruckendsten_1  beeindruckendsten   \n",
       "294784   483641          0    beeindruckendster  beeindruckendster   \n",
       "294785   483642          0    beeindruckendstes  beeindruckendstes   \n",
       "\n",
       "                lemma  inflected                           pos    tag  tag_0  \\\n",
       "56903   beeindruckend      False              {'Adjektiv': []}   ADJA   ADJA   \n",
       "817902   beeindrucken       True  {'Adjektiv': ['Partizip I']}   ADJ1   ADJ1   \n",
       "294775  beeindruckend       True      {'Deklinierte Form': []}  LEX_A  LEX_A   \n",
       "294770  beeindruckend       True      {'Deklinierte Form': []}  LEX_A  LEX_A   \n",
       "294771  beeindruckend       True      {'Deklinierte Form': []}  LEX_A  LEX_A   \n",
       "294772  beeindruckend       True      {'Deklinierte Form': []}  LEX_A  LEX_A   \n",
       "294773  beeindruckend       True  {'Adjektiv': ['Komparativ']}  LEX_A  LEX_A   \n",
       "294780  beeindruckend       True      {'Deklinierte Form': []}  LEX_A  LEX_A   \n",
       "294776  beeindruckend       True      {'Deklinierte Form': []}  LEX_A  LEX_A   \n",
       "294777  beeindruckend       True      {'Deklinierte Form': []}  LEX_A  LEX_A   \n",
       "294778  beeindruckend       True      {'Deklinierte Form': []}  LEX_A  LEX_A   \n",
       "294779  beeindruckend       True      {'Deklinierte Form': []}  LEX_A  LEX_A   \n",
       "294774  beeindruckend       True      {'Deklinierte Form': []}  LEX_A  LEX_A   \n",
       "294786  beeindruckend       True      {'Deklinierte Form': []}  LEX_A  LEX_A   \n",
       "294781  beeindruckend       True      {'Deklinierte Form': []}  LEX_A  LEX_A   \n",
       "294782  beeindruckend       True      {'Deklinierte Form': []}  LEX_A  LEX_A   \n",
       "294783  beeindruckend       True  {'Adjektiv': ['Superlativ']}  LEX_A  LEX_A   \n",
       "294784  beeindruckend       True      {'Deklinierte Form': []}  LEX_A  LEX_A   \n",
       "294785  beeindruckend       True      {'Deklinierte Form': []}  LEX_A  LEX_A   \n",
       "\n",
       "             tag_1  tagZ tagZZ               member     lang lang_code error  \\\n",
       "56903   f3OBS4TLf1   ADJ     A             Adjektiv  Deutsch        de         \n",
       "817902  DwGYxckTca   ADJ     A             Adjektiv  Deutsch        de         \n",
       "294775  F69cHYnVnp  <NA>           Deklinierte_Form  Deutsch        de         \n",
       "294770  3hlVaFmieA  <NA>           Deklinierte_Form  Deutsch        de         \n",
       "294771  bIbKMyQAxr  <NA>           Deklinierte_Form  Deutsch        de         \n",
       "294772  UVfg6Ypzuq  <NA>           Deklinierte_Form  Deutsch        de         \n",
       "294773  azdp2YKHDn  <NA>        Komparativ Adjektiv  Deutsch        de         \n",
       "294780  cgFmXYgfBI  <NA>           Deklinierte_Form  Deutsch        de         \n",
       "294776  jcdmOqGptn  <NA>           Deklinierte_Form  Deutsch        de         \n",
       "294777  KtIOUmzlBe  <NA>           Deklinierte_Form  Deutsch        de         \n",
       "294778  LkXAo3rmsG  <NA>           Deklinierte_Form  Deutsch        de         \n",
       "294779  sZZUFWTDRz  <NA>           Deklinierte_Form  Deutsch        de         \n",
       "294774  boEeafG0ea  <NA>           Deklinierte_Form  Deutsch        de         \n",
       "294786  BRQLkcyBbn  <NA>           Deklinierte_Form  Deutsch        de         \n",
       "294781  Kbu7OFLR9o  <NA>           Deklinierte_Form  Deutsch        de         \n",
       "294782  pYabg3EPWs  <NA>           Deklinierte_Form  Deutsch        de         \n",
       "294783  SinsXsVNJ3  <NA>        Superlativ Adjektiv  Deutsch        de         \n",
       "294784  yMnyVjfQMv  <NA>           Deklinierte_Form  Deutsch        de         \n",
       "294785  1H4JAOEien  <NA>           Deklinierte_Form  Deutsch        de         \n",
       "\n",
       "          lemma_lower      score  \n",
       "56903   beeindruckend  28.150461  \n",
       "817902   beeindrucken   0.069082  \n",
       "294775  beeindruckend   1.835615  \n",
       "294770  beeindruckend   0.784058  \n",
       "294771  beeindruckend   2.245872  \n",
       "294772  beeindruckend   1.252282  \n",
       "294773  beeindruckend   0.067274  \n",
       "294780  beeindruckend   1.879205  \n",
       "294776  beeindruckend   0.810917  \n",
       "294777  beeindruckend   2.301000  \n",
       "294778  beeindruckend   1.304846  \n",
       "294779  beeindruckend   1.167667  \n",
       "294774  beeindruckend   1.143308  \n",
       "294786  beeindruckend   1.879205  \n",
       "294781  beeindruckend   0.810917  \n",
       "294782  beeindruckend   2.240744  \n",
       "294783  beeindruckend   0.072697  \n",
       "294784  beeindruckend   1.304846  \n",
       "294785  beeindruckend   1.167667  "
      ]
     },
     "execution_count": 220,
     "metadata": {},
     "output_type": "execute_result"
    }
   ],
   "source": [
    "search_str(wiktionary,'beeindruckend').sort_values('section_id2')"
   ]
  },
  {
   "cell_type": "code",
   "execution_count": null,
   "metadata": {},
   "outputs": [],
   "source": [
    "raise Stop"
   ]
  },
  {
   "cell_type": "code",
   "execution_count": 210,
   "metadata": {
    "execution": {
     "iopub.execute_input": "2023-03-04T09:56:13.180095Z",
     "iopub.status.busy": "2023-03-04T09:56:13.179119Z",
     "iopub.status.idle": "2023-03-04T09:56:14.446634Z",
     "shell.execute_reply": "2023-03-04T09:56:14.445953Z",
     "shell.execute_reply.started": "2023-03-04T09:56:13.180044Z"
    },
    "tags": []
   },
   "outputs": [
    {
     "name": "stdout",
     "output_type": "stream",
     "text": [
      "Move 27156 rows from 843357\n"
     ]
    }
   ],
   "source": [
    "# Partizipien nach wiktionary_partizip abspalten\n",
    "mask = wiktionary.tag.isin(['ADJ1','ADJ2'])\n",
    "wiktionary, wiktionary_partizip = pak.move_rows( wiktionary, mask, msg=None )  "
   ]
  },
  {
   "cell_type": "code",
   "execution_count": 211,
   "metadata": {
    "execution": {
     "iopub.execute_input": "2023-03-04T09:56:17.539761Z",
     "iopub.status.busy": "2023-03-04T09:56:17.539209Z",
     "iopub.status.idle": "2023-03-04T09:56:17.740692Z",
     "shell.execute_reply": "2023-03-04T09:56:17.739971Z",
     "shell.execute_reply.started": "2023-03-04T09:56:17.539737Z"
    },
    "tags": []
   },
   "outputs": [
    {
     "data": {
      "text/html": [
       "<div>\n",
       "<style scoped>\n",
       "    .dataframe tbody tr th:only-of-type {\n",
       "        vertical-align: middle;\n",
       "    }\n",
       "\n",
       "    .dataframe tbody tr th {\n",
       "        vertical-align: top;\n",
       "    }\n",
       "\n",
       "    .dataframe thead th {\n",
       "        text-align: right;\n",
       "    }\n",
       "</style>\n",
       "<table border=\"1\" class=\"dataframe\">\n",
       "  <thead>\n",
       "    <tr style=\"text-align: right;\">\n",
       "      <th></th>\n",
       "      <th>page_id</th>\n",
       "      <th>page_part</th>\n",
       "      <th>section_id2</th>\n",
       "      <th>title</th>\n",
       "      <th>lemma</th>\n",
       "      <th>inflected</th>\n",
       "      <th>pos</th>\n",
       "      <th>tag</th>\n",
       "      <th>tag_0</th>\n",
       "      <th>tag_1</th>\n",
       "      <th>tagZ</th>\n",
       "      <th>tagZZ</th>\n",
       "      <th>member</th>\n",
       "      <th>lang</th>\n",
       "      <th>lang_code</th>\n",
       "      <th>error</th>\n",
       "      <th>lemma_lower</th>\n",
       "      <th>score</th>\n",
       "    </tr>\n",
       "  </thead>\n",
       "  <tbody>\n",
       "  </tbody>\n",
       "</table>\n",
       "</div>"
      ],
      "text/plain": [
       "Empty DataFrame\n",
       "Columns: [page_id, page_part, section_id2, title, lemma, inflected, pos, tag, tag_0, tag_1, tagZ, tagZZ, member, lang, lang_code, error, lemma_lower, score]\n",
       "Index: []"
      ]
     },
     "execution_count": 211,
     "metadata": {},
     "output_type": "execute_result"
    }
   ],
   "source": [
    "## verblieben in wiktionary\n",
    "mask1 = (wiktionary.lemma == wiktionary.title)  \n",
    "mask2 = wiktionary.lemma.isin(suche_debug) \n",
    "mask = mask1 & mask2\n",
    "wiktionary[mask]"
   ]
  },
  {
   "cell_type": "code",
   "execution_count": 212,
   "metadata": {
    "execution": {
     "iopub.execute_input": "2023-03-04T09:56:26.820442Z",
     "iopub.status.busy": "2023-03-04T09:56:26.820177Z",
     "iopub.status.idle": "2023-03-04T09:56:26.877082Z",
     "shell.execute_reply": "2023-03-04T09:56:26.876413Z",
     "shell.execute_reply.started": "2023-03-04T09:56:26.820421Z"
    },
    "tags": []
   },
   "outputs": [
    {
     "data": {
      "text/html": [
       "<div>\n",
       "<style scoped>\n",
       "    .dataframe tbody tr th:only-of-type {\n",
       "        vertical-align: middle;\n",
       "    }\n",
       "\n",
       "    .dataframe tbody tr th {\n",
       "        vertical-align: top;\n",
       "    }\n",
       "\n",
       "    .dataframe thead th {\n",
       "        text-align: right;\n",
       "    }\n",
       "</style>\n",
       "<table border=\"1\" class=\"dataframe\">\n",
       "  <thead>\n",
       "    <tr style=\"text-align: right;\">\n",
       "      <th></th>\n",
       "      <th>page_id</th>\n",
       "      <th>page_part</th>\n",
       "      <th>section_id2</th>\n",
       "      <th>title</th>\n",
       "      <th>lemma</th>\n",
       "      <th>inflected</th>\n",
       "      <th>pos</th>\n",
       "      <th>tag</th>\n",
       "      <th>tag_0</th>\n",
       "      <th>tag_1</th>\n",
       "      <th>tagZ</th>\n",
       "      <th>tagZZ</th>\n",
       "      <th>member</th>\n",
       "      <th>lang</th>\n",
       "      <th>lang_code</th>\n",
       "      <th>error</th>\n",
       "      <th>lemma_lower</th>\n",
       "      <th>score</th>\n",
       "    </tr>\n",
       "  </thead>\n",
       "  <tbody>\n",
       "    <tr>\n",
       "      <th>46086</th>\n",
       "      <td>120123</td>\n",
       "      <td>0</td>\n",
       "      <td>lachend</td>\n",
       "      <td>lachend</td>\n",
       "      <td>lachend</td>\n",
       "      <td>False</td>\n",
       "      <td>{'Adjektiv': ['Partizip I']}</td>\n",
       "      <td>ADJ1</td>\n",
       "      <td>ADJ1</td>\n",
       "      <td>Gq88HjxO8s</td>\n",
       "      <td>ADJ</td>\n",
       "      <td>A</td>\n",
       "      <td>Adjektiv</td>\n",
       "      <td>Deutsch</td>\n",
       "      <td>de</td>\n",
       "      <td></td>\n",
       "      <td>lachend</td>\n",
       "      <td>2.053587</td>\n",
       "    </tr>\n",
       "  </tbody>\n",
       "</table>\n",
       "</div>"
      ],
      "text/plain": [
       "       page_id  page_part section_id2    title    lemma  inflected  \\\n",
       "46086   120123          0     lachend  lachend  lachend      False   \n",
       "\n",
       "                                pos   tag tag_0       tag_1 tagZ tagZZ  \\\n",
       "46086  {'Adjektiv': ['Partizip I']}  ADJ1  ADJ1  Gq88HjxO8s  ADJ     A   \n",
       "\n",
       "         member     lang lang_code error lemma_lower     score  \n",
       "46086  Adjektiv  Deutsch        de           lachend  2.053587  "
      ]
     },
     "execution_count": 212,
     "metadata": {},
     "output_type": "execute_result"
    }
   ],
   "source": [
    "## jetzt in wiktionary_partizip\n",
    "mask = wiktionary_partizip.lemma.isin(suche_debug) \n",
    "wiktionary_partizip[mask]"
   ]
  },
  {
   "cell_type": "code",
   "execution_count": 213,
   "metadata": {
    "execution": {
     "iopub.execute_input": "2023-03-04T09:56:40.711755Z",
     "iopub.status.busy": "2023-03-04T09:56:40.710711Z",
     "iopub.status.idle": "2023-03-04T09:56:41.311878Z",
     "shell.execute_reply": "2023-03-04T09:56:41.311197Z",
     "shell.execute_reply.started": "2023-03-04T09:56:40.711722Z"
    },
    "tags": []
   },
   "outputs": [
    {
     "data": {
      "text/html": [
       "<div>\n",
       "<style scoped>\n",
       "    .dataframe tbody tr th:only-of-type {\n",
       "        vertical-align: middle;\n",
       "    }\n",
       "\n",
       "    .dataframe tbody tr th {\n",
       "        vertical-align: top;\n",
       "    }\n",
       "\n",
       "    .dataframe thead th {\n",
       "        text-align: right;\n",
       "    }\n",
       "</style>\n",
       "<table border=\"1\" class=\"dataframe\">\n",
       "  <thead>\n",
       "    <tr style=\"text-align: right;\">\n",
       "      <th></th>\n",
       "      <th>page_id</th>\n",
       "      <th>page_part</th>\n",
       "      <th>section_id2</th>\n",
       "      <th>title</th>\n",
       "      <th>lemma</th>\n",
       "      <th>inflected</th>\n",
       "      <th>pos</th>\n",
       "      <th>tag</th>\n",
       "      <th>tag_0</th>\n",
       "      <th>tag_1</th>\n",
       "      <th>tagZ</th>\n",
       "      <th>tagZZ</th>\n",
       "      <th>member</th>\n",
       "      <th>lang</th>\n",
       "      <th>lang_code</th>\n",
       "      <th>error</th>\n",
       "      <th>lemma_lower</th>\n",
       "      <th>score</th>\n",
       "    </tr>\n",
       "  </thead>\n",
       "  <tbody>\n",
       "    <tr>\n",
       "      <th>2016</th>\n",
       "      <td>2864</td>\n",
       "      <td>2</td>\n",
       "      <td>wollen_2</td>\n",
       "      <td>wollen</td>\n",
       "      <td>wollen</td>\n",
       "      <td>False</td>\n",
       "      <td>{'Adjektiv': []}</td>\n",
       "      <td>ADJA</td>\n",
       "      <td>ADJA</td>\n",
       "      <td>8BdSeH3p5L</td>\n",
       "      <td>ADJ</td>\n",
       "      <td>A</td>\n",
       "      <td>Adjektiv</td>\n",
       "      <td>Deutsch</td>\n",
       "      <td>de</td>\n",
       "      <td></td>\n",
       "      <td>wollen</td>\n",
       "      <td>4.586331</td>\n",
       "    </tr>\n",
       "    <tr>\n",
       "      <th>5803</th>\n",
       "      <td>9281</td>\n",
       "      <td>0</td>\n",
       "      <td>übertragen</td>\n",
       "      <td>übertragen</td>\n",
       "      <td>übertragen</td>\n",
       "      <td>False</td>\n",
       "      <td>{'Adjektiv': []}</td>\n",
       "      <td>ADJA</td>\n",
       "      <td>ADJA</td>\n",
       "      <td>QtaNfCgDHW</td>\n",
       "      <td>ADJ</td>\n",
       "      <td>A</td>\n",
       "      <td>Adjektiv</td>\n",
       "      <td>Deutsch</td>\n",
       "      <td>de</td>\n",
       "      <td></td>\n",
       "      <td>übertragen</td>\n",
       "      <td>49.847878</td>\n",
       "    </tr>\n",
       "    <tr>\n",
       "      <th>15286</th>\n",
       "      <td>25944</td>\n",
       "      <td>0</td>\n",
       "      <td>albern</td>\n",
       "      <td>albern</td>\n",
       "      <td>albern</td>\n",
       "      <td>False</td>\n",
       "      <td>{'Adjektiv': []}</td>\n",
       "      <td>ADJA</td>\n",
       "      <td>ADJA</td>\n",
       "      <td>9qls9nQxSZ</td>\n",
       "      <td>ADJ</td>\n",
       "      <td>A</td>\n",
       "      <td>Adjektiv</td>\n",
       "      <td>Deutsch</td>\n",
       "      <td>de</td>\n",
       "      <td></td>\n",
       "      <td>albern</td>\n",
       "      <td>36.796616</td>\n",
       "    </tr>\n",
       "    <tr>\n",
       "      <th>21384</th>\n",
       "      <td>57003</td>\n",
       "      <td>0</td>\n",
       "      <td>vergeben</td>\n",
       "      <td>vergeben</td>\n",
       "      <td>vergeben</td>\n",
       "      <td>False</td>\n",
       "      <td>{'Adjektiv': []}</td>\n",
       "      <td>ADJA</td>\n",
       "      <td>ADJA</td>\n",
       "      <td>59myDpFOFb</td>\n",
       "      <td>ADJ</td>\n",
       "      <td>A</td>\n",
       "      <td>Adjektiv</td>\n",
       "      <td>Deutsch</td>\n",
       "      <td>de</td>\n",
       "      <td></td>\n",
       "      <td>vergeben</td>\n",
       "      <td>158.687744</td>\n",
       "    </tr>\n",
       "    <tr>\n",
       "      <th>36173</th>\n",
       "      <td>101324</td>\n",
       "      <td>0</td>\n",
       "      <td>erwachsen</td>\n",
       "      <td>erwachsen</td>\n",
       "      <td>erwachsen</td>\n",
       "      <td>False</td>\n",
       "      <td>{'Adjektiv': []}</td>\n",
       "      <td>ADJA</td>\n",
       "      <td>ADJA</td>\n",
       "      <td>kZIVHhpQZX</td>\n",
       "      <td>ADJ</td>\n",
       "      <td>A</td>\n",
       "      <td>Adjektiv</td>\n",
       "      <td>Deutsch</td>\n",
       "      <td>de</td>\n",
       "      <td></td>\n",
       "      <td>erwachsen</td>\n",
       "      <td>121.997086</td>\n",
       "    </tr>\n",
       "    <tr>\n",
       "      <th>50362</th>\n",
       "      <td>126121</td>\n",
       "      <td>0</td>\n",
       "      <td>ledern</td>\n",
       "      <td>ledern</td>\n",
       "      <td>ledern</td>\n",
       "      <td>False</td>\n",
       "      <td>{'Adjektiv': []}</td>\n",
       "      <td>ADJA</td>\n",
       "      <td>ADJA</td>\n",
       "      <td>yT2GufafIL</td>\n",
       "      <td>ADJ</td>\n",
       "      <td>A</td>\n",
       "      <td>Adjektiv</td>\n",
       "      <td>Deutsch</td>\n",
       "      <td>de</td>\n",
       "      <td></td>\n",
       "      <td>ledern</td>\n",
       "      <td>75.557732</td>\n",
       "    </tr>\n",
       "    <tr>\n",
       "      <th>86973</th>\n",
       "      <td>200956</td>\n",
       "      <td>2</td>\n",
       "      <td>überlaufen_2</td>\n",
       "      <td>überlaufen</td>\n",
       "      <td>überlaufen</td>\n",
       "      <td>False</td>\n",
       "      <td>{'Adjektiv': []}</td>\n",
       "      <td>ADJA</td>\n",
       "      <td>ADJA</td>\n",
       "      <td>iKlCby1pNU</td>\n",
       "      <td>ADJ</td>\n",
       "      <td>A</td>\n",
       "      <td>Adjektiv</td>\n",
       "      <td>Deutsch</td>\n",
       "      <td>de</td>\n",
       "      <td></td>\n",
       "      <td>überlaufen</td>\n",
       "      <td>0.978308</td>\n",
       "    </tr>\n",
       "    <tr>\n",
       "      <th>747327</th>\n",
       "      <td>1017955</td>\n",
       "      <td>0</td>\n",
       "      <td>auserlesen</td>\n",
       "      <td>auserlesen</td>\n",
       "      <td>auserlesen</td>\n",
       "      <td>False</td>\n",
       "      <td>{'Adjektiv': []}</td>\n",
       "      <td>ADJA</td>\n",
       "      <td>ADJA</td>\n",
       "      <td>CL1x1g15Ys</td>\n",
       "      <td>ADJ</td>\n",
       "      <td>A</td>\n",
       "      <td>Adjektiv</td>\n",
       "      <td>Deutsch</td>\n",
       "      <td>de</td>\n",
       "      <td></td>\n",
       "      <td>auserlesen</td>\n",
       "      <td>20.579056</td>\n",
       "    </tr>\n",
       "    <tr>\n",
       "      <th>843172</th>\n",
       "      <td>&lt;NA&gt;</td>\n",
       "      <td>&lt;NA&gt;</td>\n",
       "      <td>vorbehalten_M</td>\n",
       "      <td>vorbehalten</td>\n",
       "      <td>vorbehalten</td>\n",
       "      <td>True</td>\n",
       "      <td>NaN</td>\n",
       "      <td>ADJA</td>\n",
       "      <td>ADJA</td>\n",
       "      <td>0IycbRGtFH</td>\n",
       "      <td>ADJ</td>\n",
       "      <td>A</td>\n",
       "      <td>manuell ergänzt</td>\n",
       "      <td>&lt;NA&gt;</td>\n",
       "      <td>&lt;NA&gt;</td>\n",
       "      <td>&lt;NA&gt;</td>\n",
       "      <td>vorbehalten</td>\n",
       "      <td>2.239461</td>\n",
       "    </tr>\n",
       "    <tr>\n",
       "      <th>843177</th>\n",
       "      <td>&lt;NA&gt;</td>\n",
       "      <td>&lt;NA&gt;</td>\n",
       "      <td>vorenthalten_M</td>\n",
       "      <td>vorenthalten</td>\n",
       "      <td>vorenthalten</td>\n",
       "      <td>True</td>\n",
       "      <td>NaN</td>\n",
       "      <td>ADJA</td>\n",
       "      <td>ADJA</td>\n",
       "      <td>nolmo1dl2X</td>\n",
       "      <td>ADJ</td>\n",
       "      <td>A</td>\n",
       "      <td>manuell ergänzt</td>\n",
       "      <td>&lt;NA&gt;</td>\n",
       "      <td>&lt;NA&gt;</td>\n",
       "      <td>&lt;NA&gt;</td>\n",
       "      <td>vorenthalten</td>\n",
       "      <td>2.239461</td>\n",
       "    </tr>\n",
       "  </tbody>\n",
       "</table>\n",
       "</div>"
      ],
      "text/plain": [
       "        page_id  page_part     section_id2         title         lemma  \\\n",
       "2016       2864          2        wollen_2        wollen        wollen   \n",
       "5803       9281          0      übertragen    übertragen    übertragen   \n",
       "15286     25944          0          albern        albern        albern   \n",
       "21384     57003          0        vergeben      vergeben      vergeben   \n",
       "36173    101324          0       erwachsen     erwachsen     erwachsen   \n",
       "50362    126121          0          ledern        ledern        ledern   \n",
       "86973    200956          2    überlaufen_2    überlaufen    überlaufen   \n",
       "747327  1017955          0      auserlesen    auserlesen    auserlesen   \n",
       "843172     <NA>       <NA>   vorbehalten_M   vorbehalten   vorbehalten   \n",
       "843177     <NA>       <NA>  vorenthalten_M  vorenthalten  vorenthalten   \n",
       "\n",
       "        inflected               pos   tag tag_0       tag_1 tagZ tagZZ  \\\n",
       "2016        False  {'Adjektiv': []}  ADJA  ADJA  8BdSeH3p5L  ADJ     A   \n",
       "5803        False  {'Adjektiv': []}  ADJA  ADJA  QtaNfCgDHW  ADJ     A   \n",
       "15286       False  {'Adjektiv': []}  ADJA  ADJA  9qls9nQxSZ  ADJ     A   \n",
       "21384       False  {'Adjektiv': []}  ADJA  ADJA  59myDpFOFb  ADJ     A   \n",
       "36173       False  {'Adjektiv': []}  ADJA  ADJA  kZIVHhpQZX  ADJ     A   \n",
       "50362       False  {'Adjektiv': []}  ADJA  ADJA  yT2GufafIL  ADJ     A   \n",
       "86973       False  {'Adjektiv': []}  ADJA  ADJA  iKlCby1pNU  ADJ     A   \n",
       "747327      False  {'Adjektiv': []}  ADJA  ADJA  CL1x1g15Ys  ADJ     A   \n",
       "843172       True               NaN  ADJA  ADJA  0IycbRGtFH  ADJ     A   \n",
       "843177       True               NaN  ADJA  ADJA  nolmo1dl2X  ADJ     A   \n",
       "\n",
       "                 member     lang lang_code error   lemma_lower       score  \n",
       "2016           Adjektiv  Deutsch        de              wollen    4.586331  \n",
       "5803           Adjektiv  Deutsch        de          übertragen   49.847878  \n",
       "15286          Adjektiv  Deutsch        de              albern   36.796616  \n",
       "21384          Adjektiv  Deutsch        de            vergeben  158.687744  \n",
       "36173          Adjektiv  Deutsch        de           erwachsen  121.997086  \n",
       "50362          Adjektiv  Deutsch        de              ledern   75.557732  \n",
       "86973          Adjektiv  Deutsch        de          überlaufen    0.978308  \n",
       "747327         Adjektiv  Deutsch        de          auserlesen   20.579056  \n",
       "843172  manuell ergänzt     <NA>      <NA>  <NA>   vorbehalten    2.239461  \n",
       "843177  manuell ergänzt     <NA>      <NA>  <NA>  vorenthalten    2.239461  "
      ]
     },
     "execution_count": 213,
     "metadata": {},
     "output_type": "execute_result"
    }
   ],
   "source": [
    "mask1 = wiktionary.tag == 'ADJA'\n",
    "mask2 = wiktionary.lemma.isin(wiktionary_partizip.lemma) \n",
    "mask = mask1  &  mask2\n",
    "pak.sample(wiktionary[mask])\n",
    "#gridt(wiktionary,mask)"
   ]
  },
  {
   "cell_type": "markdown",
   "metadata": {},
   "source": [
    "### wiktionary_nolemma"
   ]
  },
  {
   "cell_type": "code",
   "execution_count": null,
   "metadata": {
    "execution": {
     "iopub.status.busy": "2023-03-04T09:40:02.917691Z",
     "iopub.status.idle": "2023-03-04T09:40:02.918081Z",
     "shell.execute_reply": "2023-03-04T09:40:02.917923Z",
     "shell.execute_reply.started": "2023-03-04T09:40:02.917904Z"
    },
    "tags": []
   },
   "outputs": [],
   "source": [
    "wiktionary_nolemma       = wiktionary.head(0)\n",
    "wiktionary_nolemma_trash = wiktionary.head(0)"
   ]
  },
  {
   "cell_type": "code",
   "execution_count": null,
   "metadata": {
    "execution": {
     "iopub.status.busy": "2023-03-04T09:40:02.918733Z",
     "iopub.status.idle": "2023-03-04T09:40:02.919061Z",
     "shell.execute_reply": "2023-03-04T09:40:02.918917Z",
     "shell.execute_reply.started": "2023-03-04T09:40:02.918902Z"
    },
    "tags": []
   },
   "outputs": [],
   "source": [
    "# LEX-Datensätze nach wiktionary_nolemma verschieben\n",
    "mask = wiktionary.tag.str.contains('LEX_')    \n",
    "check_mask(wiktionary,mask,639734)\n",
    "wiktionary, wiktionary_nolemma = pak.move_rows( df_from=wiktionary, df_to=wiktionary_nolemma, mask=mask, msg='tag_LEX' )  "
   ]
  },
  {
   "cell_type": "code",
   "execution_count": null,
   "metadata": {
    "execution": {
     "iopub.status.busy": "2023-03-04T09:40:02.919698Z",
     "iopub.status.idle": "2023-03-04T09:40:02.920009Z",
     "shell.execute_reply": "2023-03-04T09:40:02.919869Z",
     "shell.execute_reply.started": "2023-03-04T09:40:02.919855Z"
    },
    "tags": []
   },
   "outputs": [],
   "source": [
    "# auch nach wiktionary_nolemma verschieben\n",
    "mask = wiktionary.member.str.contains('Deklinierte_Form')   # 2 Datensätze\n",
    "check_mask(wiktionary, mask, 0, 10)\n",
    "wiktionary, wiktionary_nolemma = pak.move_rows( df_from=wiktionary, df_to=wiktionary_nolemma, mask=mask, msg='member_Deklinierte_Form' )  "
   ]
  },
  {
   "cell_type": "code",
   "execution_count": null,
   "metadata": {
    "execution": {
     "iopub.status.busy": "2023-03-04T09:40:02.920738Z",
     "iopub.status.idle": "2023-03-04T09:40:02.934003Z",
     "shell.execute_reply": "2023-03-04T09:40:02.933787Z",
     "shell.execute_reply.started": "2023-03-04T09:40:02.933757Z"
    }
   },
   "outputs": [],
   "source": [
    "# auch nach wiktionary_nolemma verschieben\n",
    "mask = (wiktionary.title != wiktionary.lemma)               \n",
    "check_mask(wiktionary, mask, 10)\n",
    "wiktionary, wiktionary_nolemma = pak.move_rows( df_from=wiktionary, df_to=wiktionary_nolemma, mask=mask, msg='title_ungleich_lemma' )  "
   ]
  },
  {
   "cell_type": "code",
   "execution_count": null,
   "metadata": {
    "execution": {
     "iopub.status.busy": "2023-03-04T09:40:02.937740Z",
     "iopub.status.idle": "2023-03-04T09:40:02.939015Z",
     "shell.execute_reply": "2023-03-04T09:40:02.938820Z",
     "shell.execute_reply.started": "2023-03-04T09:40:02.938795Z"
    },
    "tags": []
   },
   "outputs": [],
   "source": [
    "# wiktionary suche_debug\n",
    "grid(search_str(wiktionary_nolemma, suche_debug))"
   ]
  },
  {
   "cell_type": "code",
   "execution_count": null,
   "metadata": {
    "execution": {
     "iopub.status.busy": "2023-03-04T09:40:02.942049Z",
     "iopub.status.idle": "2023-03-04T09:40:02.943827Z",
     "shell.execute_reply": "2023-03-04T09:40:02.943616Z",
     "shell.execute_reply.started": "2023-03-04T09:40:02.943556Z"
    }
   },
   "outputs": [],
   "source": [
    "# wiktionary_nolemma: Spalten pflegen\n",
    "wiktionary_nolemma = pak.rename_col(wiktionary_nolemma, 'title', 'lex')\n",
    "wiktionary_nolemma = pak.rename_col(wiktionary_nolemma, 'section_id2','nolemma_id')\n",
    "wiktionary_nolemma = pak.rename_col(wiktionary_nolemma, 'score', 'data_score')\n",
    "wiktionary_nolemma = pak.drop_cols(wiktionary_nolemma, ['pos','tag_anz','ipa','syllables','msg','page_id','page_part','inflected','rhymes'])\n",
    "#wiktionary_nolemma = pak.rename_col( wiktionary_nolemma, 'tag_0', 'tag') # Jetzt gibt es definitiv keine Mehrfachtags mehr"
   ]
  },
  {
   "cell_type": "code",
   "execution_count": null,
   "metadata": {
    "execution": {
     "iopub.status.busy": "2023-03-04T09:40:02.955828Z",
     "iopub.status.idle": "2023-03-04T09:40:02.956231Z",
     "shell.execute_reply": "2023-03-04T09:40:02.956072Z",
     "shell.execute_reply.started": "2023-03-04T09:40:02.956057Z"
    },
    "tags": []
   },
   "outputs": [],
   "source": [
    "# anschauen\n",
    "pak.sample(wiktionary_nolemma)"
   ]
  },
  {
   "cell_type": "markdown",
   "metadata": {},
   "source": [
    "### wiktionary_lemma"
   ]
  },
  {
   "cell_type": "code",
   "execution_count": null,
   "metadata": {
    "execution": {
     "iopub.status.busy": "2023-03-04T09:40:02.957403Z",
     "iopub.status.idle": "2023-03-04T09:40:02.957750Z",
     "shell.execute_reply": "2023-03-04T09:40:02.957623Z",
     "shell.execute_reply.started": "2023-03-04T09:40:02.957608Z"
    }
   },
   "outputs": [],
   "source": [
    "# wiktionary_lemma: erstellen und Spalten pflegen\n",
    "wiktionary_lemma  = pak.drop_cols(wiktionary, ['title','pos'])\n",
    "wiktionary_lemma = pak.rename_col(wiktionary_lemma, 'score', 'lemma_score')"
   ]
  },
  {
   "cell_type": "code",
   "execution_count": null,
   "metadata": {
    "execution": {
     "iopub.status.busy": "2023-03-04T09:40:02.961222Z",
     "iopub.status.idle": "2023-03-04T09:40:02.963619Z",
     "shell.execute_reply": "2023-03-04T09:40:02.963387Z",
     "shell.execute_reply.started": "2023-03-04T09:40:02.963356Z"
    },
    "tags": []
   },
   "outputs": [],
   "source": [
    "wiktionary_lemma_trash = wiktionary_lemma.head(0)"
   ]
  },
  {
   "cell_type": "code",
   "execution_count": null,
   "metadata": {
    "execution": {
     "iopub.status.busy": "2023-03-04T09:40:02.964317Z",
     "iopub.status.idle": "2023-03-04T09:40:02.964710Z",
     "shell.execute_reply": "2023-03-04T09:40:02.964475Z",
     "shell.execute_reply.started": "2023-03-04T09:40:02.964462Z"
    },
    "tags": []
   },
   "outputs": [],
   "source": [
    "#del wiktionary"
   ]
  },
  {
   "cell_type": "code",
   "execution_count": null,
   "metadata": {
    "execution": {
     "iopub.status.busy": "2023-03-04T09:40:02.965265Z",
     "iopub.status.idle": "2023-03-04T09:40:02.965521Z",
     "shell.execute_reply": "2023-03-04T09:40:02.965405Z",
     "shell.execute_reply.started": "2023-03-04T09:40:02.965392Z"
    },
    "tags": []
   },
   "outputs": [],
   "source": [
    "# wiktionary_lemma suche_debug\n",
    "grid(search_str(wiktionary_lemma, suche_debug))"
   ]
  },
  {
   "cell_type": "markdown",
   "metadata": {},
   "source": [
    "## Partizipien\n",
    "Die Partizipien werden<br> \n",
    "a) an wiktionary_merkmal angefügt (als Partizip-Flexion des Verbs)<br> \n",
    "b) an wiktionary_lemma angefügt   (als Adjektiv mit member Partizip)\n",
    "\n",
    "Danach findet sich alles aus wiktionary in wiktionary_lemma und wiktionary_nolemma"
   ]
  },
  {
   "cell_type": "markdown",
   "metadata": {},
   "source": [
    "### wiktionary_partizip pflegen"
   ]
  },
  {
   "cell_type": "code",
   "execution_count": null,
   "metadata": {
    "execution": {
     "iopub.status.busy": "2023-03-04T09:40:02.966139Z",
     "iopub.status.idle": "2023-03-04T09:40:02.966394Z",
     "shell.execute_reply": "2023-03-04T09:40:02.966277Z",
     "shell.execute_reply.started": "2023-03-04T09:40:02.966264Z"
    },
    "tags": []
   },
   "outputs": [],
   "source": [
    "pak.sample(wiktionary_partizip)"
   ]
  },
  {
   "cell_type": "code",
   "execution_count": null,
   "metadata": {
    "execution": {
     "iopub.status.busy": "2023-03-04T09:40:02.966931Z",
     "iopub.status.idle": "2023-03-04T09:40:02.967179Z",
     "shell.execute_reply": "2023-03-04T09:40:02.967060Z",
     "shell.execute_reply.started": "2023-03-04T09:40:02.967047Z"
    },
    "tags": []
   },
   "outputs": [],
   "source": [
    "# rename_col\n",
    "wiktionary_partizip = pak.rename_col(wiktionary_partizip,  'section_id2', 'adjektiv_id' )\n",
    "wiktionary_partizip = pak.rename_col(wiktionary_partizip,  'title',       'adjektiv'    )\n",
    "wiktionary_partizip = pak.rename_col(wiktionary_partizip,  'lemma',       'verb'        )\n",
    "\n",
    "#wiktionary_partizip = pak.move_cols(wiktionary_partizip,'verb_lower','verb')"
   ]
  },
  {
   "cell_type": "code",
   "execution_count": null,
   "metadata": {
    "execution": {
     "iopub.status.busy": "2023-03-04T09:40:02.967736Z",
     "iopub.status.idle": "2023-03-04T09:40:02.967980Z",
     "shell.execute_reply": "2023-03-04T09:40:02.967865Z",
     "shell.execute_reply.started": "2023-03-04T09:40:02.967853Z"
    },
    "tags": []
   },
   "outputs": [],
   "source": [
    "# drop_cols\n",
    "lösche_spalten = ['pos','error','lang','lang_code','lemma_lower','inflected','tag_0','tag_1']\n",
    "wiktionary_partizip = pak.drop_cols(wiktionary_partizip,lösche_spalten)"
   ]
  },
  {
   "cell_type": "code",
   "execution_count": null,
   "metadata": {
    "execution": {
     "iopub.status.busy": "2023-03-04T09:40:02.971302Z",
     "iopub.status.idle": "2023-03-04T09:40:02.971796Z",
     "shell.execute_reply": "2023-03-04T09:40:02.971605Z",
     "shell.execute_reply.started": "2023-03-04T09:40:02.971583Z"
    },
    "tags": []
   },
   "outputs": [],
   "source": [
    "# change_datatype\n",
    "wiktionary_partizip = pak.change_datatype(wiktionary_partizip)"
   ]
  },
  {
   "cell_type": "code",
   "execution_count": null,
   "metadata": {
    "execution": {
     "iopub.status.busy": "2023-03-04T09:40:02.977296Z",
     "iopub.status.idle": "2023-03-04T09:40:02.977976Z",
     "shell.execute_reply": "2023-03-04T09:40:02.977684Z",
     "shell.execute_reply.started": "2023-03-04T09:40:02.977654Z"
    },
    "tags": []
   },
   "outputs": [],
   "source": [
    "# falsche Partizipien löschen\n",
    "falsche_partizipien = ['sehen','hören','wollen','lassen','mögen','sollen',]\n",
    "mask = wiktionary_partizip.adjektiv.isin(falsche_partizipien) \n",
    "check_mask(wiktionary_partizip, mask, 0, 6)\n",
    "\n",
    "wiktionary_partizip, df = pak.move_rows(wiktionary_partizip, mask)\n",
    "df"
   ]
  },
  {
   "cell_type": "code",
   "execution_count": null,
   "metadata": {
    "execution": {
     "iopub.status.busy": "2023-03-04T09:40:02.981794Z",
     "iopub.status.idle": "2023-03-04T09:40:02.989343Z",
     "shell.execute_reply": "2023-03-04T09:40:02.988962Z",
     "shell.execute_reply.started": "2023-03-04T09:40:02.988923Z"
    },
    "tags": []
   },
   "outputs": [],
   "source": [
    "# wiktionary suche_debug\n",
    "grid(search_str(wiktionary_partizip, suche_debug))"
   ]
  },
  {
   "cell_type": "code",
   "execution_count": null,
   "metadata": {
    "execution": {
     "iopub.status.busy": "2023-03-04T09:40:02.991319Z",
     "iopub.status.idle": "2023-03-04T09:40:02.992050Z",
     "shell.execute_reply": "2023-03-04T09:40:02.991740Z",
     "shell.execute_reply.started": "2023-03-04T09:40:02.991704Z"
    },
    "tags": []
   },
   "outputs": [],
   "source": [
    "# So sehen normale Partizipien 1 aus\n",
    "mask1 = wiktionary_partizip.verb.str.endswith(verbendungen)\n",
    "mask2 = wiktionary_partizip.member.str.contains('Ptz1')\n",
    "mask = mask1 & mask2\n",
    "check_mask(wiktionary_partizip,mask,13554)\n",
    "\n",
    "pak.sample(wiktionary_partizip[mask])"
   ]
  },
  {
   "cell_type": "code",
   "execution_count": null,
   "metadata": {
    "execution": {
     "iopub.status.busy": "2023-03-04T09:40:02.996245Z",
     "iopub.status.idle": "2023-03-04T09:40:02.996684Z",
     "shell.execute_reply": "2023-03-04T09:40:02.996540Z",
     "shell.execute_reply.started": "2023-03-04T09:40:02.996523Z"
    },
    "tags": []
   },
   "outputs": [],
   "source": [
    "# Dies sind kaputte Partizipien 1: Das verb ist falsch, kann aber leicht korrigiert werden\n",
    "mask1 = ~wiktionary_partizip.verb.str.endswith(verbendungen)\n",
    "mask2 =  wiktionary_partizip.member.str.contains('Ptz1')\n",
    "mask3 =  wiktionary_partizip.adjektiv == wiktionary_partizip.verb\n",
    "mask4 =  wiktionary_partizip.verb.str.endswith(('end','ernd'))\n",
    "mask = mask1  &  mask2  &  mask3  &  mask4\n",
    "check_mask(wiktionary_partizip,mask,11)\n",
    "\n",
    "wiktionary_partizip.loc[mask,'verb'] = wiktionary_partizip[mask].verb.str[:-1]\n",
    "wiktionary_partizip[mask]"
   ]
  },
  {
   "cell_type": "code",
   "execution_count": null,
   "metadata": {
    "execution": {
     "iopub.status.busy": "2023-03-04T09:40:02.997777Z",
     "iopub.status.idle": "2023-03-04T09:40:02.998290Z",
     "shell.execute_reply": "2023-03-04T09:40:02.998147Z",
     "shell.execute_reply.started": "2023-03-04T09:40:02.998129Z"
    },
    "tags": []
   },
   "outputs": [],
   "source": [
    "# So sehen normale Partizipien 2 aus\n",
    "mask1 = wiktionary_partizip.verb.str.endswith(verbendungen)\n",
    "mask2 = wiktionary_partizip.member.str.contains('Ptz2')\n",
    "mask = mask1 & mask2\n",
    "check_mask(wiktionary_partizip,mask,13592)\n",
    "\n",
    "pak.sample(wiktionary_partizip[mask])"
   ]
  },
  {
   "cell_type": "code",
   "execution_count": null,
   "metadata": {
    "execution": {
     "iopub.status.busy": "2023-03-04T09:40:03.002792Z",
     "iopub.status.idle": "2023-03-04T09:40:03.003206Z",
     "shell.execute_reply": "2023-03-04T09:40:03.003067Z",
     "shell.execute_reply.started": "2023-03-04T09:40:03.003052Z"
    },
    "tags": []
   },
   "outputs": [],
   "source": [
    "# Dies sind kaputte Partizipien 2: Das verb ist falsch, kann auch nicht gut korrigiert werden.\n",
    "mask1 = ~wiktionary_partizip.verb.str.endswith(verbendungen)\n",
    "mask2 = wiktionary_partizip.member.str.contains('Ptz2')\n",
    "mask3 = wiktionary_partizip.adjektiv == wiktionary_partizip.verb\n",
    "mask4 = wiktionary_partizip.verb.str.endswith('t')\n",
    "mask = mask1  &  mask2  &  mask3  &  mask4\n",
    "check_mask(wiktionary_partizip,mask,0,10)\n",
    "\n",
    "wiktionary_partizip[mask]"
   ]
  },
  {
   "cell_type": "code",
   "execution_count": null,
   "metadata": {
    "execution": {
     "iopub.status.busy": "2023-03-04T09:40:03.004357Z",
     "iopub.status.idle": "2023-03-04T09:40:03.004742Z",
     "shell.execute_reply": "2023-03-04T09:40:03.004607Z",
     "shell.execute_reply.started": "2023-03-04T09:40:03.004591Z"
    },
    "tags": []
   },
   "outputs": [],
   "source": [
    "# Kaputte Partizipien 2 löschen\n",
    "wiktionary_partizip = pak.drop_rows(wiktionary_partizip,mask)"
   ]
  },
  {
   "cell_type": "code",
   "execution_count": null,
   "metadata": {
    "execution": {
     "iopub.status.busy": "2023-03-04T09:40:03.005836Z",
     "iopub.status.idle": "2023-03-04T09:40:03.008981Z",
     "shell.execute_reply": "2023-03-04T09:40:03.008764Z",
     "shell.execute_reply.started": "2023-03-04T09:40:03.008738Z"
    },
    "tags": []
   },
   "outputs": [],
   "source": [
    "# Gibt es weitere kaputte Partizipien?\n",
    "mask = ~wiktionary_partizip.verb.str.endswith(verbendungen)\n",
    "check_mask(wiktionary_partizip,mask,0)\n",
    "#grid(wiktionary_partizip,mask)"
   ]
  },
  {
   "cell_type": "code",
   "execution_count": null,
   "metadata": {
    "execution": {
     "iopub.status.busy": "2023-03-04T09:40:03.009936Z",
     "iopub.status.idle": "2023-03-04T09:40:03.010707Z",
     "shell.execute_reply": "2023-03-04T09:40:03.010544Z",
     "shell.execute_reply.started": "2023-03-04T09:40:03.010522Z"
    },
    "tags": []
   },
   "outputs": [],
   "source": [
    "# Wenn es verb nicht auch als Wort gibt, dann ist das Müll und kann weg.\n",
    "# Wenn man das nicht will: Als Partizipien in lexeme_manuell aufnehmen!\n",
    "\n",
    "mask = ~wiktionary_partizip.verb.isin(wiktionary_lemma.lemma)\n",
    "check_mask(wiktionary_partizip,mask,0,10)\n",
    "wiktionary_partizip,df = pak.move_rows(wiktionary_partizip,mask)\n",
    "df"
   ]
  },
  {
   "cell_type": "code",
   "execution_count": null,
   "metadata": {
    "execution": {
     "iopub.status.busy": "2023-03-04T09:40:03.011791Z",
     "iopub.status.idle": "2023-03-04T09:40:03.013067Z",
     "shell.execute_reply": "2023-03-04T09:40:03.012876Z",
     "shell.execute_reply.started": "2023-03-04T09:40:03.012854Z"
    },
    "tags": []
   },
   "outputs": [],
   "source": [
    "mask = wiktionary_lemma.tagZZ == 'V'\n",
    "pak.analyse_freqs( wiktionary_lemma[mask], ['tag', 'member'])\n",
    "#wiktionary_lemma[mask]"
   ]
  },
  {
   "cell_type": "code",
   "execution_count": null,
   "metadata": {
    "execution": {
     "iopub.status.busy": "2023-03-04T09:40:03.017426Z",
     "iopub.status.idle": "2023-03-04T09:40:03.017895Z",
     "shell.execute_reply": "2023-03-04T09:40:03.017730Z",
     "shell.execute_reply.started": "2023-03-04T09:40:03.017711Z"
    },
    "tags": []
   },
   "outputs": [],
   "source": [
    "# verb_id ermitteln\n",
    "mask = wiktionary_lemma.tagZZ == 'V'\n",
    "wiktionary_partizip = pak.update_col( wiktionary_partizip,  wiktionary_lemma[mask], \n",
    "                                      left_on='verb',       right_on='lemma', \n",
    "                                      col_rename='verb_id', col='section_id2',    \n",
    "                                                            col_score='lemma_score' \n",
    "                                    )\n",
    "wiktionary_partizip = pak.move_cols(wiktionary_partizip, 'verb_id','adjektiv')"
   ]
  },
  {
   "cell_type": "code",
   "execution_count": null,
   "metadata": {
    "execution": {
     "iopub.status.busy": "2023-03-04T09:40:03.019057Z",
     "iopub.status.idle": "2023-03-04T09:40:03.019725Z",
     "shell.execute_reply": "2023-03-04T09:40:03.019570Z",
     "shell.execute_reply.started": "2023-03-04T09:40:03.019550Z"
    },
    "tags": []
   },
   "outputs": [],
   "source": [
    "# keine verb_id? Dann ist das Müll und kann weg.\n",
    "# Wenn man das nicht will: Als Partizipien in lexeme_manuell aufnehmen!\n",
    "\n",
    "mask = wiktionary_partizip.verb_id.isnull()\n",
    "check_mask(wiktionary_partizip,mask,0,5)\n",
    "wiktionary_partizip,df = pak.move_rows(wiktionary_partizip,mask)\n",
    "df"
   ]
  },
  {
   "cell_type": "code",
   "execution_count": null,
   "metadata": {
    "execution": {
     "iopub.status.busy": "2023-03-04T09:40:03.022996Z",
     "iopub.status.idle": "2023-03-04T09:40:03.023423Z",
     "shell.execute_reply": "2023-03-04T09:40:03.023279Z",
     "shell.execute_reply.started": "2023-03-04T09:40:03.023264Z"
    },
    "tags": []
   },
   "outputs": [],
   "source": [
    "# member pflegen. Enthält danach genau Ptz1 x-oder Ptz2.\n",
    "wiktionary_partizip['member'] = pak.remove_str(wiktionary_partizip.member,['Adjektiv','Wortverbindung'])\n",
    "mask = ~wiktionary_partizip.member.isin(['Ptz1','Ptz2'])\n",
    "check_mask(wiktionary_partizip,mask,0)\n",
    "mask = wiktionary_partizip.member.isnull()  |  (wiktionary_partizip.member=='')\n",
    "check_mask(wiktionary_partizip,mask,0)"
   ]
  },
  {
   "cell_type": "code",
   "execution_count": null,
   "metadata": {
    "execution": {
     "iopub.status.busy": "2023-03-04T09:40:03.024710Z",
     "iopub.status.idle": "2023-03-04T09:40:03.025877Z",
     "shell.execute_reply": "2023-03-04T09:40:03.025709Z",
     "shell.execute_reply.started": "2023-03-04T09:40:03.025687Z"
    },
    "tags": []
   },
   "outputs": [],
   "source": [
    "# Dups sollten eigentlich nicht drin sein\n",
    "mask = wiktionary_partizip.duplicated()\n",
    "check_mask(wiktionary_partizip,mask,0)"
   ]
  },
  {
   "cell_type": "code",
   "execution_count": null,
   "metadata": {
    "execution": {
     "iopub.status.busy": "2023-03-04T09:40:03.028889Z",
     "iopub.status.idle": "2023-03-04T09:40:03.029279Z",
     "shell.execute_reply": "2023-03-04T09:40:03.029113Z",
     "shell.execute_reply.started": "2023-03-04T09:40:03.029095Z"
    }
   },
   "outputs": [],
   "source": [
    "# wiktionary_partizip.member analysieren\n",
    "#r = pak.analyse_freqs( wiktionary_partizip, ['member', 'verb','adjektiv'])\n",
    "#r"
   ]
  },
  {
   "cell_type": "code",
   "execution_count": null,
   "metadata": {
    "execution": {
     "iopub.status.busy": "2023-03-04T09:40:03.032227Z",
     "iopub.status.idle": "2023-03-04T09:40:03.033218Z",
     "shell.execute_reply": "2023-03-04T09:40:03.033028Z",
     "shell.execute_reply.started": "2023-03-04T09:40:03.033005Z"
    },
    "tags": []
   },
   "outputs": [],
   "source": [
    "mask = wiktionary_partizip.adjektiv.isin(['betroffen','dienend'])\n",
    "wiktionary_partizip[mask]"
   ]
  },
  {
   "cell_type": "code",
   "execution_count": null,
   "metadata": {
    "execution": {
     "iopub.status.busy": "2023-03-04T09:40:03.034634Z",
     "iopub.status.idle": "2023-03-04T09:40:03.035297Z",
     "shell.execute_reply": "2023-03-04T09:40:03.035017Z",
     "shell.execute_reply.started": "2023-03-04T09:40:03.034985Z"
    }
   },
   "outputs": [],
   "source": [
    "pak.sample(wiktionary_partizip)"
   ]
  },
  {
   "cell_type": "markdown",
   "metadata": {},
   "source": [
    "### Partizipien als Flexion des Verbs eintragen"
   ]
  },
  {
   "cell_type": "code",
   "execution_count": null,
   "metadata": {
    "execution": {
     "iopub.status.busy": "2023-03-04T09:40:03.041890Z",
     "iopub.status.idle": "2023-03-04T09:40:03.044931Z",
     "shell.execute_reply": "2023-03-04T09:40:03.044724Z",
     "shell.execute_reply.started": "2023-03-04T09:40:03.044699Z"
    },
    "tags": []
   },
   "outputs": [],
   "source": [
    "# wiktionary_merkmal_partizip\n",
    "wiktionary_merkmal_partizip = wiktionary_partizip.copy()\n",
    "wiktionary_merkmal_partizip = pak.rename_col(wiktionary_merkmal_partizip, 'score',       'data_score')\n",
    "wiktionary_merkmal_partizip = pak.rename_col(wiktionary_merkmal_partizip, 'member',      'merkmal')\n",
    "wiktionary_merkmal_partizip = pak.rename_col(wiktionary_merkmal_partizip, 'verb_id',     'section_id2')\n",
    "wiktionary_merkmal_partizip = pak.rename_col(wiktionary_merkmal_partizip, 'adjektiv_id', 'data_id')\n",
    "wiktionary_merkmal_partizip = pak.rename_col(wiktionary_merkmal_partizip, 'adjektiv',    'data')\n",
    "wiktionary_merkmal_partizip = pak.drop_cols(wiktionary_merkmal_partizip,['tag','tagZ','tagZZ','score','verb','page_id','page_part'])\n",
    "wiktionary_merkmal_partizip = pak.move_cols(wiktionary_merkmal_partizip,['section_id2','merkmal'])\n",
    "#assert set(wiktionary_merkmal_partizip.columns) == set(['section_id2','merkmal','data_id','data'])\n",
    "pak.sample(wiktionary_merkmal_partizip)"
   ]
  },
  {
   "cell_type": "code",
   "execution_count": null,
   "metadata": {
    "execution": {
     "iopub.status.busy": "2023-03-04T09:40:03.046075Z",
     "iopub.status.idle": "2023-03-04T09:40:03.047647Z",
     "shell.execute_reply": "2023-03-04T09:40:03.047448Z",
     "shell.execute_reply.started": "2023-03-04T09:40:03.047423Z"
    },
    "tags": []
   },
   "outputs": [],
   "source": [
    "# wiktionary_partizip suche_debug\n",
    "search_str(wiktionary_merkmal_partizip, suche_debug)"
   ]
  },
  {
   "cell_type": "code",
   "execution_count": null,
   "metadata": {
    "execution": {
     "iopub.status.busy": "2023-03-04T09:40:03.049289Z",
     "iopub.status.idle": "2023-03-04T09:40:03.049695Z",
     "shell.execute_reply": "2023-03-04T09:40:03.049557Z",
     "shell.execute_reply.started": "2023-03-04T09:40:03.049540Z"
    },
    "tags": []
   },
   "outputs": [],
   "source": [
    "# Spalten vergleichen\n",
    "bpy.minivenn(wiktionary_merkmal.columns,wiktionary_merkmal_partizip.columns, format='print2')"
   ]
  },
  {
   "cell_type": "code",
   "execution_count": null,
   "metadata": {
    "execution": {
     "iopub.status.busy": "2023-03-04T09:40:03.051601Z",
     "iopub.status.idle": "2023-03-04T09:40:03.052001Z",
     "shell.execute_reply": "2023-03-04T09:40:03.051863Z",
     "shell.execute_reply.started": "2023-03-04T09:40:03.051847Z"
    },
    "tags": []
   },
   "outputs": [],
   "source": [
    "# wiktionary_merkmal_partizip als merkmal anfügen\n",
    "wiktionary_merkmal = pak.add_rows(wiktionary_merkmal, wiktionary_merkmal_partizip)"
   ]
  },
  {
   "cell_type": "markdown",
   "metadata": {},
   "source": [
    "### Partizipien als Adjektiv einpflegen"
   ]
  },
  {
   "cell_type": "code",
   "execution_count": null,
   "metadata": {
    "execution": {
     "iopub.status.busy": "2023-03-04T09:40:03.057236Z",
     "iopub.status.idle": "2023-03-04T09:40:03.061032Z",
     "shell.execute_reply": "2023-03-04T09:40:03.060770Z",
     "shell.execute_reply.started": "2023-03-04T09:40:03.060736Z"
    },
    "tags": []
   },
   "outputs": [],
   "source": [
    "#wiktionary_partizip.head(1)"
   ]
  },
  {
   "cell_type": "code",
   "execution_count": null,
   "metadata": {
    "execution": {
     "iopub.status.busy": "2023-03-04T09:40:03.062115Z",
     "iopub.status.idle": "2023-03-04T09:40:03.062502Z",
     "shell.execute_reply": "2023-03-04T09:40:03.062365Z",
     "shell.execute_reply.started": "2023-03-04T09:40:03.062350Z"
    },
    "tags": []
   },
   "outputs": [],
   "source": [
    "#wiktionary_lemma.head(1)"
   ]
  },
  {
   "cell_type": "code",
   "execution_count": null,
   "metadata": {
    "execution": {
     "iopub.status.busy": "2023-03-04T09:40:03.065674Z",
     "iopub.status.idle": "2023-03-04T09:40:03.066535Z",
     "shell.execute_reply": "2023-03-04T09:40:03.066352Z",
     "shell.execute_reply.started": "2023-03-04T09:40:03.066328Z"
    },
    "tags": []
   },
   "outputs": [],
   "source": [
    "# wiktionary_lemma_partizip\n",
    "wiktionary_lemma_partizip = wiktionary_partizip.copy()\n",
    "wiktionary_lemma_partizip = pak.rename_col(wiktionary_lemma_partizip, 'score',           'lemma_score')\n",
    "wiktionary_lemma_partizip = pak.rename_col(wiktionary_lemma_partizip, 'adjektiv_id',     'section_id2')\n",
    "wiktionary_lemma_partizip = pak.rename_col(wiktionary_lemma_partizip, 'adjektiv',        'lemma')\n",
    "wiktionary_lemma_partizip = pak.rename_col(wiktionary_lemma_partizip, 'verb_id',         'data_id')\n",
    "wiktionary_lemma_partizip = pak.drop_cols(wiktionary_lemma_partizip, ['verb'] )\n",
    "wiktionary_lemma_partizip = ergänze_felder(wiktionary_lemma_partizip)\n",
    "wiktionary_lemma_partizip = pflege_tag_felder(wiktionary_lemma_partizip, translate_tagZ)\n",
    "\n",
    "pak.sample(wiktionary_lemma_partizip)"
   ]
  },
  {
   "cell_type": "code",
   "execution_count": null,
   "metadata": {
    "execution": {
     "iopub.status.busy": "2023-03-04T09:40:03.067550Z",
     "iopub.status.idle": "2023-03-04T09:40:03.069197Z",
     "shell.execute_reply": "2023-03-04T09:40:03.068972Z",
     "shell.execute_reply.started": "2023-03-04T09:40:03.068944Z"
    },
    "tags": []
   },
   "outputs": [],
   "source": [
    "# Einige ungeeignete Partizipien löschen\n",
    "mask1 = ~wiktionary_lemma_partizip.lemma.str.endswith(('d','t','en'))\n",
    "mask2 = ~wiktionary_lemma_partizip.lemma.isin(['vertan','angetan','zugetan'])\n",
    "mask = mask1  &  mask2\n",
    "check_mask(wiktionary_lemma_partizip,mask,35)\n",
    "wiktionary_lemma_partizip, df = pak.move_rows(wiktionary_lemma_partizip,mask)\n",
    "df"
   ]
  },
  {
   "cell_type": "code",
   "execution_count": null,
   "metadata": {
    "execution": {
     "iopub.status.busy": "2023-03-04T09:40:03.070357Z",
     "iopub.status.idle": "2023-03-04T09:40:03.074656Z",
     "shell.execute_reply": "2023-03-04T09:40:03.074405Z",
     "shell.execute_reply.started": "2023-03-04T09:40:03.074374Z"
    },
    "tags": []
   },
   "outputs": [],
   "source": [
    "# wiktionary_lemma suche_debug\n",
    "grid(search_str(wiktionary_lemma_partizip, suche_debug))"
   ]
  },
  {
   "cell_type": "code",
   "execution_count": null,
   "metadata": {
    "execution": {
     "iopub.status.busy": "2023-03-04T09:40:03.075931Z",
     "iopub.status.idle": "2023-03-04T09:40:03.077065Z",
     "shell.execute_reply": "2023-03-04T09:40:03.076874Z",
     "shell.execute_reply.started": "2023-03-04T09:40:03.076850Z"
    },
    "tags": []
   },
   "outputs": [],
   "source": [
    "# Spalten vergleichen\n",
    "bpy.minivenn( wiktionary_lemma.columns, wiktionary_lemma_partizip.columns, format='print2')"
   ]
  },
  {
   "cell_type": "code",
   "execution_count": null,
   "metadata": {
    "execution": {
     "iopub.status.busy": "2023-03-04T09:40:03.081715Z",
     "iopub.status.idle": "2023-03-04T09:40:03.082310Z",
     "shell.execute_reply": "2023-03-04T09:40:03.082096Z",
     "shell.execute_reply.started": "2023-03-04T09:40:03.082071Z"
    },
    "tags": []
   },
   "outputs": [],
   "source": [
    "# wiktionary_lemma_partizip als lemma anfügen\n",
    "wiktionary_lemma = pak.add_rows(wiktionary_lemma, wiktionary_lemma_partizip)"
   ]
  },
  {
   "cell_type": "markdown",
   "metadata": {},
   "source": [
    "### Manuelle Partizipien als Adjektiv einpflegen"
   ]
  },
  {
   "cell_type": "code",
   "execution_count": null,
   "metadata": {
    "execution": {
     "iopub.status.busy": "2023-03-04T09:40:03.086665Z",
     "iopub.status.idle": "2023-03-04T09:40:03.087210Z",
     "shell.execute_reply": "2023-03-04T09:40:03.087019Z",
     "shell.execute_reply.started": "2023-03-04T09:40:03.086996Z"
    },
    "tags": []
   },
   "outputs": [],
   "source": [
    "# lexeme_manuell_copy als Basis\n",
    "mask = lexeme_manuell_copy.tab == 'Partizipien'\n",
    "ptz_manuell = lexeme_manuell_copy[mask]"
   ]
  },
  {
   "cell_type": "code",
   "execution_count": null,
   "metadata": {
    "execution": {
     "iopub.status.busy": "2023-03-04T09:40:03.088290Z",
     "iopub.status.idle": "2023-03-04T09:40:03.088693Z",
     "shell.execute_reply": "2023-03-04T09:40:03.088525Z",
     "shell.execute_reply.started": "2023-03-04T09:40:03.088505Z"
    },
    "tags": []
   },
   "outputs": [],
   "source": [
    "# id des Verbs holen (dirty)\n",
    "ptz_manuell = pak.update_col(ptz_manuell, \n",
    "                             lexeme_manuell,\n",
    "                             on=['lemma','tag'],  \n",
    "                             col='section_id2',\n",
    "                             col_rename='data_id'\n",
    "                            )"
   ]
  },
  {
   "cell_type": "code",
   "execution_count": null,
   "metadata": {
    "execution": {
     "iopub.status.busy": "2023-03-04T09:40:03.089503Z",
     "iopub.status.idle": "2023-03-04T09:40:03.089811Z",
     "shell.execute_reply": "2023-03-04T09:40:03.089676Z",
     "shell.execute_reply.started": "2023-03-04T09:40:03.089662Z"
    },
    "tags": []
   },
   "outputs": [],
   "source": [
    "pak.sample(ptz_manuell)"
   ]
  },
  {
   "cell_type": "code",
   "execution_count": null,
   "metadata": {
    "execution": {
     "iopub.status.busy": "2023-03-04T09:40:03.090414Z",
     "iopub.status.idle": "2023-03-04T09:40:03.090783Z",
     "shell.execute_reply": "2023-03-04T09:40:03.090604Z",
     "shell.execute_reply.started": "2023-03-04T09:40:03.090585Z"
    },
    "tags": []
   },
   "outputs": [],
   "source": [
    "# Weitere Spalten\n",
    "ptz_manuell['section_id2'] = ptz_manuell.lex.str.replace(' ','_') + '_MADJ'\n",
    "spalten = ['section_id2','lex','tag_lex','data_id','score']\n",
    "ptz_manuell = ptz_manuell[spalten]\n",
    "ptz_manuell = pak.rename_col(ptz_manuell, 'score',  'lemma_score')\n",
    "ptz_manuell = pak.rename_col(ptz_manuell, 'lex',    'lemma')\n",
    "ptz_manuell = pak.rename_col(ptz_manuell, 'tag_lex','member')\n",
    "\n",
    "ptz_manuell['member'] += ' manuell'\n",
    "ptz_manuell['tag'] = 'ADJA'\n",
    "\n",
    "ptz_manuell = ergänze_felder(ptz_manuell)\n",
    "ptz_manuell = pflege_tag_felder(ptz_manuell, translate_tagZ)\n",
    "\n",
    "#grid(ptz_manuell)"
   ]
  },
  {
   "cell_type": "code",
   "execution_count": null,
   "metadata": {
    "execution": {
     "iopub.status.busy": "2023-03-04T09:40:03.091878Z",
     "iopub.status.idle": "2023-03-04T09:40:03.092304Z",
     "shell.execute_reply": "2023-03-04T09:40:03.092127Z",
     "shell.execute_reply.started": "2023-03-04T09:40:03.092108Z"
    },
    "tags": []
   },
   "outputs": [],
   "source": [
    "# ptz_manuell suche_debug\n",
    "grid(search_str(ptz_manuell, suche_debug))"
   ]
  },
  {
   "cell_type": "code",
   "execution_count": null,
   "metadata": {
    "execution": {
     "iopub.status.busy": "2023-03-04T09:40:03.103110Z",
     "iopub.status.idle": "2023-03-04T09:40:03.103446Z",
     "shell.execute_reply": "2023-03-04T09:40:03.103314Z",
     "shell.execute_reply.started": "2023-03-04T09:40:03.103300Z"
    },
    "tags": []
   },
   "outputs": [],
   "source": [
    "# section_id2 ermitteln\n",
    "mask = wiktionary_lemma.tagZ == 'ADJ'\n",
    "ptz_manuell = pak.update_col( ptz_manuell,  \n",
    "                              wiktionary_lemma[mask], \n",
    "                              on='lemma',     \n",
    "                              col='section_id2',    \n",
    "                              col_score='lemma_score' \n",
    "                                    )"
   ]
  },
  {
   "cell_type": "code",
   "execution_count": null,
   "metadata": {
    "execution": {
     "iopub.status.busy": "2023-03-04T09:40:03.104113Z",
     "iopub.status.idle": "2023-03-04T09:40:03.104382Z",
     "shell.execute_reply": "2023-03-04T09:40:03.104259Z",
     "shell.execute_reply.started": "2023-03-04T09:40:03.104246Z"
    },
    "tags": []
   },
   "outputs": [],
   "source": [
    "pak.sample(ptz_manuell)"
   ]
  },
  {
   "cell_type": "code",
   "execution_count": null,
   "metadata": {
    "execution": {
     "iopub.status.busy": "2023-03-04T09:40:03.105070Z",
     "iopub.status.idle": "2023-03-04T09:40:03.105348Z",
     "shell.execute_reply": "2023-03-04T09:40:03.105227Z",
     "shell.execute_reply.started": "2023-03-04T09:40:03.105214Z"
    },
    "tags": []
   },
   "outputs": [],
   "source": [
    "bpy.minivenn(wiktionary_lemma.columns,wiktionary_lemma_partizip.columns, format='print2')"
   ]
  },
  {
   "cell_type": "code",
   "execution_count": null,
   "metadata": {
    "execution": {
     "iopub.status.busy": "2023-03-04T09:40:03.105861Z",
     "iopub.status.idle": "2023-03-04T09:40:03.106113Z",
     "shell.execute_reply": "2023-03-04T09:40:03.105996Z",
     "shell.execute_reply.started": "2023-03-04T09:40:03.105984Z"
    },
    "tags": []
   },
   "outputs": [],
   "source": [
    "# ptz_manuell als lemma anfügen\n",
    "wiktionary_lemma = pak.add_rows(wiktionary_lemma, ptz_manuell, assert_subset=True)"
   ]
  },
  {
   "cell_type": "code",
   "execution_count": null,
   "metadata": {
    "execution": {
     "iopub.status.busy": "2023-03-04T09:40:03.106652Z",
     "iopub.status.idle": "2023-03-04T09:40:03.106904Z",
     "shell.execute_reply": "2023-03-04T09:40:03.106787Z",
     "shell.execute_reply.started": "2023-03-04T09:40:03.106774Z"
    },
    "tags": []
   },
   "outputs": [],
   "source": [
    "mask = wiktionary_merkmal.data_id != ''\n",
    "check_mask(wiktionary_merkmal,mask,27140)\n",
    "pak.sample(wiktionary_merkmal[mask])"
   ]
  },
  {
   "cell_type": "markdown",
   "metadata": {},
   "source": [
    "## wiktionary_lemma weiterbearbeiten"
   ]
  },
  {
   "cell_type": "markdown",
   "metadata": {},
   "source": [
    "### Grundpflege"
   ]
  },
  {
   "cell_type": "code",
   "execution_count": null,
   "metadata": {
    "execution": {
     "iopub.status.busy": "2023-03-04T09:40:03.107441Z",
     "iopub.status.idle": "2023-03-04T09:40:03.107693Z",
     "shell.execute_reply": "2023-03-04T09:40:03.107575Z",
     "shell.execute_reply.started": "2023-03-04T09:40:03.107563Z"
    },
    "tags": []
   },
   "outputs": [],
   "source": [
    "# reset_index\n",
    "wiktionary_lemma = pak.reset_index(wiktionary_lemma)"
   ]
  },
  {
   "cell_type": "code",
   "execution_count": null,
   "metadata": {
    "execution": {
     "iopub.status.busy": "2023-03-04T09:40:03.108240Z",
     "iopub.status.idle": "2023-03-04T09:40:03.108704Z",
     "shell.execute_reply": "2023-03-04T09:40:03.108375Z",
     "shell.execute_reply.started": "2023-03-04T09:40:03.108363Z"
    },
    "tags": []
   },
   "outputs": [],
   "source": [
    "# drop_cols\n",
    "wiktionary_lemma = pak.drop_cols(wiktionary_lemma,['msg','inflected','error','lang','lang_code'])"
   ]
  },
  {
   "cell_type": "code",
   "execution_count": null,
   "metadata": {
    "execution": {
     "iopub.status.busy": "2023-03-04T09:40:03.111511Z",
     "iopub.status.idle": "2023-03-04T09:40:03.111845Z",
     "shell.execute_reply": "2023-03-04T09:40:03.111714Z",
     "shell.execute_reply.started": "2023-03-04T09:40:03.111700Z"
    },
    "tags": []
   },
   "outputs": [],
   "source": [
    "# ergänze_felder\n",
    "#from x32_Funktionen import *\n",
    "wiktionary_lemma = ergänze_felder(wiktionary_lemma)"
   ]
  },
  {
   "cell_type": "code",
   "execution_count": null,
   "metadata": {
    "execution": {
     "iopub.status.busy": "2023-03-04T09:40:03.118006Z",
     "iopub.status.idle": "2023-03-04T09:40:03.118638Z",
     "shell.execute_reply": "2023-03-04T09:40:03.118280Z",
     "shell.execute_reply.started": "2023-03-04T09:40:03.118241Z"
    },
    "tags": []
   },
   "outputs": [],
   "source": [
    "mask = wiktionary_lemma.lemma_score.isnull()\n",
    "wiktionary_lemma[mask]"
   ]
  },
  {
   "cell_type": "code",
   "execution_count": null,
   "metadata": {
    "execution": {
     "iopub.status.busy": "2023-03-04T09:40:03.121696Z",
     "iopub.status.idle": "2023-03-04T09:40:03.122504Z",
     "shell.execute_reply": "2023-03-04T09:40:03.122152Z",
     "shell.execute_reply.started": "2023-03-04T09:40:03.122113Z"
    },
    "tags": []
   },
   "outputs": [],
   "source": [
    "# NaN\n",
    "#wiktionary_lemma['lemma_score'] = wiktionary_lemma.lemma_score.fillna(0.45)\n",
    "assert not pak.any_nan(wiktionary_lemma, without=['page_id','page_part','data_id',])\n",
    "#pak.nnan(wiktionary_lemma)"
   ]
  },
  {
   "cell_type": "markdown",
   "metadata": {},
   "source": [
    "## wiktionary_merkmal_text"
   ]
  },
  {
   "cell_type": "code",
   "execution_count": null,
   "metadata": {
    "execution": {
     "iopub.status.busy": "2023-03-04T09:40:03.130954Z",
     "iopub.status.idle": "2023-03-04T09:40:03.131426Z",
     "shell.execute_reply": "2023-03-04T09:40:03.131248Z",
     "shell.execute_reply.started": "2023-03-04T09:40:03.131226Z"
    }
   },
   "outputs": [],
   "source": [
    "# ist schon geladen\n",
    "# wiktionary_merkmal_text = pak.load_pickle(wiktionary_merkmal_text_filename)\n",
    "assert not pak.any_nan(wiktionary_merkmal_text)\n",
    "# pak.nnan(wiktionary_merkmal_text)"
   ]
  },
  {
   "cell_type": "markdown",
   "metadata": {},
   "source": [
    "### Grundpflege"
   ]
  },
  {
   "cell_type": "code",
   "execution_count": null,
   "metadata": {
    "execution": {
     "iopub.status.busy": "2023-03-04T09:40:03.133874Z",
     "iopub.status.idle": "2023-03-04T09:40:03.134233Z",
     "shell.execute_reply": "2023-03-04T09:40:03.134089Z",
     "shell.execute_reply.started": "2023-03-04T09:40:03.134075Z"
    }
   },
   "outputs": [],
   "source": [
    "# drop_cols\n",
    "wiktionary_merkmal_text = pak.drop_cols( wiktionary_merkmal_text, ['section_id'])"
   ]
  },
  {
   "cell_type": "code",
   "execution_count": null,
   "metadata": {
    "execution": {
     "iopub.status.busy": "2023-03-04T09:40:03.137064Z",
     "iopub.status.idle": "2023-03-04T09:40:03.137838Z",
     "shell.execute_reply": "2023-03-04T09:40:03.137505Z",
     "shell.execute_reply.started": "2023-03-04T09:40:03.137471Z"
    }
   },
   "outputs": [],
   "source": [
    "# wiktionary_merkmal_text: list_to_string\n",
    "wiktionary_merkmal_text['num'] = pak.list_to_string(wiktionary_merkmal_text.num)"
   ]
  },
  {
   "cell_type": "code",
   "execution_count": null,
   "metadata": {
    "execution": {
     "iopub.status.busy": "2023-03-04T09:40:03.149472Z",
     "iopub.status.idle": "2023-03-04T09:40:03.149976Z",
     "shell.execute_reply": "2023-03-04T09:40:03.149773Z",
     "shell.execute_reply.started": "2023-03-04T09:40:03.149750Z"
    }
   },
   "outputs": [],
   "source": [
    "# wiktionary_merkmal_text: drop_duplicates\n",
    "vorher = wiktionary_merkmal_text.shape[0]\n",
    "wiktionary_merkmal_text = wiktionary_merkmal_text.drop_duplicates()\n",
    "nachher = wiktionary_merkmal_text.shape[0]\n",
    "print(vorher-nachher,'Datensätze gelöscht')"
   ]
  },
  {
   "cell_type": "code",
   "execution_count": null,
   "metadata": {
    "execution": {
     "iopub.status.busy": "2023-03-04T09:40:03.152175Z",
     "iopub.status.idle": "2023-03-04T09:40:03.153882Z",
     "shell.execute_reply": "2023-03-04T09:40:03.153416Z",
     "shell.execute_reply.started": "2023-03-04T09:40:03.153365Z"
    },
    "tags": []
   },
   "outputs": [],
   "source": [
    "pak.sample(wiktionary_merkmal_text)"
   ]
  },
  {
   "cell_type": "code",
   "execution_count": null,
   "metadata": {
    "execution": {
     "iopub.status.busy": "2023-03-04T09:40:03.158865Z",
     "iopub.status.idle": "2023-03-04T09:40:03.159232Z",
     "shell.execute_reply": "2023-03-04T09:40:03.159077Z",
     "shell.execute_reply.started": "2023-03-04T09:40:03.159060Z"
    }
   },
   "outputs": [],
   "source": [
    "# Grobreinigung \n",
    "\n",
    "r = { ' !':'!',  ' ?':'?',  ' ,':',',  ' en ':'en ',  ' e ':'e ',  ' en,':'en,',  ' e,':'e,',  ' es,':'es,',  '  ':' ', }\n",
    "wiktionary_merkmal_text['data'] = pak.replace_str( wiktionary_merkmal_text.data, r )\n",
    "\n",
    "r = ['[1]', '[2]', '[3]', '[4]', '[5]', '[6]', '[7]', '[8]', '[9]', '[10]', '[11]', '[12]', '[1a]', '[*]']\n",
    "wiktionary_merkmal_text['data'] = pak.remove_str( wiktionary_merkmal_text.data, r )"
   ]
  },
  {
   "cell_type": "code",
   "execution_count": null,
   "metadata": {
    "execution": {
     "iopub.status.busy": "2023-03-04T09:40:03.160221Z",
     "iopub.status.idle": "2023-03-04T09:40:03.160575Z",
     "shell.execute_reply": "2023-03-04T09:40:03.160414Z",
     "shell.execute_reply.started": "2023-03-04T09:40:03.160398Z"
    }
   },
   "outputs": [],
   "source": [
    "pak.nnan(wiktionary_lemma)"
   ]
  },
  {
   "cell_type": "markdown",
   "metadata": {},
   "source": [
    "### Aufzählungen in Einzeldatensätze aufsplitten\n",
    "* Die merkmale bsp_re und bsp_sp enthalten Aufzählungen. Diese werden in Einzeldatensätze aufgesplittet. \n",
    "* Das Feld rank_merkmal erhält die Reihenfolge."
   ]
  },
  {
   "cell_type": "code",
   "execution_count": null,
   "metadata": {
    "execution": {
     "iopub.status.busy": "2023-03-04T09:40:03.161801Z",
     "iopub.status.idle": "2023-03-04T09:40:03.162125Z",
     "shell.execute_reply": "2023-03-04T09:40:03.161986Z",
     "shell.execute_reply.started": "2023-03-04T09:40:03.161970Z"
    }
   },
   "outputs": [],
   "source": [
    "# Splitten vorbereiten\n",
    "\n",
    "mask = wiktionary_merkmal_text.merkmal.isin(['bsp_re','bsp_sp'])\n",
    "r = { '–':'➤',  '—':'➤',  ';':'➤',  '/':'➤',  }\n",
    "wiktionary_merkmal_text.loc[mask,'data'] = pak.replace_str( wiktionary_merkmal_text[mask].data, r )\n",
    "\n",
    "grid( wiktionary_merkmal_text, mask )"
   ]
  },
  {
   "cell_type": "code",
   "execution_count": null,
   "metadata": {
    "execution": {
     "iopub.status.busy": "2023-03-04T09:40:03.169252Z",
     "iopub.status.idle": "2023-03-04T09:40:03.170256Z",
     "shell.execute_reply": "2023-03-04T09:40:03.169822Z",
     "shell.execute_reply.started": "2023-03-04T09:40:03.169773Z"
    }
   },
   "outputs": [],
   "source": [
    "# rank_merkmal\n",
    "wiktionary_merkmal_text = wiktionary_merkmal_text.reset_index() # spalte 'index' erzeugen\n",
    "wiktionary_merkmal_text = pak.rank( wiktionary_merkmal_text, cols_group=['section_id2','merkmal'], col_score='index', find='min', col_target='rank_merkmal')\n",
    "wiktionary_merkmal_text = pak.rename_col(wiktionary_merkmal_text,'index','i')\n",
    "wiktionary_merkmal_text = pak.force_index(wiktionary_merkmal_text,'i')"
   ]
  },
  {
   "cell_type": "code",
   "execution_count": null,
   "metadata": {
    "execution": {
     "iopub.status.busy": "2023-03-04T09:40:03.189923Z",
     "iopub.status.idle": "2023-03-04T09:40:03.191743Z",
     "shell.execute_reply": "2023-03-04T09:40:03.191525Z",
     "shell.execute_reply.started": "2023-03-04T09:40:03.191497Z"
    }
   },
   "outputs": [],
   "source": [
    "# zu splittende Datensätze abtrennen\n",
    "mask1 = wiktionary_merkmal_text.merkmal.isin(['bsp_re','bsp_sp'])\n",
    "mask2 = wiktionary_merkmal_text.data.str.contains('➤')\n",
    "mask  = mask1  &  mask2\n",
    "\n",
    "wiktionary_merkmal_text, df = pak.move_rows( wiktionary_merkmal_text, mask, msg=None )"
   ]
  },
  {
   "cell_type": "code",
   "execution_count": null,
   "metadata": {
    "execution": {
     "iopub.status.busy": "2023-03-04T09:40:03.192714Z",
     "iopub.status.idle": "2023-03-04T09:40:03.193355Z",
     "shell.execute_reply": "2023-03-04T09:40:03.193217Z",
     "shell.execute_reply.started": "2023-03-04T09:40:03.193200Z"
    },
    "tags": []
   },
   "outputs": [],
   "source": [
    "# splitten\n",
    "df['data'] = df.data.str.split('➤')\n",
    "df = df.explode('data')"
   ]
  },
  {
   "cell_type": "code",
   "execution_count": null,
   "metadata": {
    "execution": {
     "iopub.status.busy": "2023-03-04T09:40:03.199288Z",
     "iopub.status.idle": "2023-03-04T09:40:03.200937Z",
     "shell.execute_reply": "2023-03-04T09:40:03.200666Z",
     "shell.execute_reply.started": "2023-03-04T09:40:03.200611Z"
    }
   },
   "outputs": [],
   "source": [
    "df.head(5)"
   ]
  },
  {
   "cell_type": "code",
   "execution_count": null,
   "metadata": {
    "execution": {
     "iopub.status.busy": "2023-03-04T09:40:03.207587Z",
     "iopub.status.idle": "2023-03-04T09:40:03.208510Z",
     "shell.execute_reply": "2023-03-04T09:40:03.208304Z",
     "shell.execute_reply.started": "2023-03-04T09:40:03.208279Z"
    }
   },
   "outputs": [],
   "source": [
    "# rank_merkmal2\n",
    "df = df.reset_index()\n",
    "df = pak.rank(df, cols_group=['section_id2','merkmal','rank_merkmal'], col_score='i', find='min', col_target='rank_merkmal2')\n",
    "df = pak.force_index(df,'i')"
   ]
  },
  {
   "cell_type": "code",
   "execution_count": null,
   "metadata": {
    "execution": {
     "iopub.status.busy": "2023-03-04T09:40:03.213359Z",
     "iopub.status.idle": "2023-03-04T09:40:03.214211Z",
     "shell.execute_reply": "2023-03-04T09:40:03.214032Z",
     "shell.execute_reply.started": "2023-03-04T09:40:03.214009Z"
    },
    "tags": []
   },
   "outputs": [],
   "source": [
    "bpy.minivenn(wiktionary_merkmal_text.columns, df.columns, format='print2')"
   ]
  },
  {
   "cell_type": "code",
   "execution_count": null,
   "metadata": {
    "execution": {
     "iopub.status.busy": "2023-03-04T09:40:03.215138Z",
     "iopub.status.idle": "2023-03-04T09:40:03.219840Z",
     "shell.execute_reply": "2023-03-04T09:40:03.219547Z",
     "shell.execute_reply.started": "2023-03-04T09:40:03.219511Z"
    }
   },
   "outputs": [],
   "source": [
    "df.head(5)"
   ]
  },
  {
   "cell_type": "code",
   "execution_count": null,
   "metadata": {
    "execution": {
     "iopub.status.busy": "2023-03-04T09:40:03.222399Z",
     "iopub.status.idle": "2023-03-04T09:40:03.222972Z",
     "shell.execute_reply": "2023-03-04T09:40:03.222714Z",
     "shell.execute_reply.started": "2023-03-04T09:40:03.222692Z"
    },
    "tags": []
   },
   "outputs": [],
   "source": [
    "# wieder anfügen\n",
    "wiktionary_merkmal_text = pak.add_rows(wiktionary_merkmal_text, df)\n",
    "wiktionary_merkmal_text['rank_merkmal2'] = wiktionary_merkmal_text.rank_merkmal2.fillna(0) "
   ]
  },
  {
   "cell_type": "code",
   "execution_count": null,
   "metadata": {
    "execution": {
     "iopub.status.busy": "2023-03-04T09:40:03.227988Z",
     "iopub.status.idle": "2023-03-04T09:40:03.231962Z",
     "shell.execute_reply": "2023-03-04T09:40:03.231665Z",
     "shell.execute_reply.started": "2023-03-04T09:40:03.231609Z"
    },
    "tags": []
   },
   "outputs": [],
   "source": [
    "# rank_merkmal endgültig schreiben\n",
    "assert wiktionary_merkmal_text.rank_merkmal2.max() < 100\n",
    "assert not pak.any_nan(wiktionary_merkmal_text.rank_merkmal)\n",
    "assert not pak.any_nan(wiktionary_merkmal_text.rank_merkmal2)\n",
    "wiktionary_merkmal_text['rank_merkmal'] = (wiktionary_merkmal_text.rank_merkmal * 100 + wiktionary_merkmal_text.rank_merkmal2).astype('int')\n",
    "wiktionary_merkmal_text = pak.drop_cols(wiktionary_merkmal_text,['rank_merkmal2'])"
   ]
  },
  {
   "cell_type": "code",
   "execution_count": null,
   "metadata": {
    "execution": {
     "iopub.status.busy": "2023-03-04T09:40:03.234629Z",
     "iopub.status.idle": "2023-03-04T09:40:03.236698Z",
     "shell.execute_reply": "2023-03-04T09:40:03.236109Z",
     "shell.execute_reply.started": "2023-03-04T09:40:03.236043Z"
    }
   },
   "outputs": [],
   "source": [
    "#mask = wiktionary_merkmal_text.merkmal.isin( ['bsp_re'] )\n",
    "#grid(wiktionary_merkmal_text,mask)"
   ]
  },
  {
   "cell_type": "markdown",
   "metadata": {},
   "source": [
    "## Preprocessing"
   ]
  },
  {
   "cell_type": "code",
   "execution_count": null,
   "metadata": {
    "execution": {
     "iopub.status.busy": "2023-03-04T09:40:03.245174Z",
     "iopub.status.idle": "2023-03-04T09:40:03.246135Z",
     "shell.execute_reply": "2023-03-04T09:40:03.245935Z",
     "shell.execute_reply.started": "2023-03-04T09:40:03.245909Z"
    },
    "tags": []
   },
   "outputs": [],
   "source": [
    "text = '€ ' + bj_nlp.TESTTEXT_0\n",
    "text"
   ]
  },
  {
   "cell_type": "code",
   "execution_count": null,
   "metadata": {
    "execution": {
     "iopub.status.busy": "2023-03-04T09:40:03.248194Z",
     "iopub.status.idle": "2023-03-04T09:40:03.250449Z",
     "shell.execute_reply": "2023-03-04T09:40:03.250199Z",
     "shell.execute_reply.started": "2023-03-04T09:40:03.250168Z"
    },
    "tags": []
   },
   "outputs": [],
   "source": [
    "# Standardkonfiguration\n",
    "bj_nlp.preprocess(text)"
   ]
  },
  {
   "cell_type": "code",
   "execution_count": null,
   "metadata": {
    "execution": {
     "iopub.status.busy": "2023-03-04T09:40:03.251366Z",
     "iopub.status.idle": "2023-03-04T09:40:03.252182Z",
     "shell.execute_reply": "2023-03-04T09:40:03.251806Z",
     "shell.execute_reply.started": "2023-03-04T09:40:03.251767Z"
    }
   },
   "outputs": [],
   "source": [
    "a = 'Hej U+1F600 världen'\n",
    "print(a)"
   ]
  },
  {
   "cell_type": "code",
   "execution_count": null,
   "metadata": {
    "execution": {
     "iopub.status.busy": "2023-03-04T09:40:03.258287Z",
     "iopub.status.idle": "2023-03-04T09:40:03.261560Z",
     "shell.execute_reply": "2023-03-04T09:40:03.261130Z",
     "shell.execute_reply.started": "2023-03-04T09:40:03.261084Z"
    }
   },
   "outputs": [],
   "source": [
    "pak.analyse_datatypes(wiktionary_merkmal)"
   ]
  },
  {
   "cell_type": "code",
   "execution_count": null,
   "metadata": {
    "execution": {
     "iopub.status.busy": "2023-03-04T09:40:03.266520Z",
     "iopub.status.idle": "2023-03-04T09:40:03.266873Z",
     "shell.execute_reply": "2023-03-04T09:40:03.266736Z",
     "shell.execute_reply.started": "2023-03-04T09:40:03.266721Z"
    },
    "tags": []
   },
   "outputs": [],
   "source": [
    "# wiktionary_lemma\n",
    "cols = pak.col_names(wiktionary_lemma, only='str')\n",
    "cols = [ c for c in cols if c not in ['error']  and not c.startswith('tag')] \n",
    "#print(cols)\n",
    "\n",
    "for feld in cols:\n",
    "    print(feld)\n",
    "    wiktionary_lemma[feld] = wiktionary_lemma[feld].fillna('').apply(   lambda x: bj_nlp.preprocess(x)       )"
   ]
  },
  {
   "cell_type": "code",
   "execution_count": null,
   "metadata": {
    "execution": {
     "iopub.status.busy": "2023-03-04T09:40:03.267413Z",
     "iopub.status.idle": "2023-03-04T09:40:03.267694Z",
     "shell.execute_reply": "2023-03-04T09:40:03.267570Z",
     "shell.execute_reply.started": "2023-03-04T09:40:03.267557Z"
    },
    "tags": []
   },
   "outputs": [],
   "source": [
    "# wiktionary_nolemma\n",
    "cols = pak.col_names(wiktionary_nolemma, only='str')\n",
    "cols = [ c for c in cols if c not in ['error']  and not c.startswith('tag')] \n",
    "#print(cols)\n",
    "\n",
    "for feld in cols:\n",
    "    print(feld)\n",
    "    wiktionary_nolemma[feld] = wiktionary_nolemma[feld].fillna('').apply(   lambda x: bj_nlp.preprocess(x)   )"
   ]
  },
  {
   "cell_type": "code",
   "execution_count": null,
   "metadata": {
    "execution": {
     "iopub.status.busy": "2023-03-04T09:40:03.268203Z",
     "iopub.status.idle": "2023-03-04T09:40:03.268462Z",
     "shell.execute_reply": "2023-03-04T09:40:03.268344Z",
     "shell.execute_reply.started": "2023-03-04T09:40:03.268331Z"
    },
    "tags": []
   },
   "outputs": [],
   "source": [
    "# wiktionary_merkmal\n",
    "\n",
    "if gründlich:\n",
    "    cols = pak.col_names(wiktionary_merkmal, only='str')\n",
    "    cols = [ c for c in cols if c not in ['error']  and not c.startswith('tag')] \n",
    "    # print(cols)\n",
    "    \n",
    "    for feld in cols:\n",
    "        print(feld)\n",
    "        wiktionary_merkmal[feld] = wiktionary_merkmal[feld].fillna('').apply(   lambda x: bj_nlp.preprocess(x)   )"
   ]
  },
  {
   "cell_type": "code",
   "execution_count": null,
   "metadata": {
    "execution": {
     "iopub.status.busy": "2023-03-04T09:40:03.270296Z",
     "iopub.status.idle": "2023-03-04T09:40:03.270740Z",
     "shell.execute_reply": "2023-03-04T09:40:03.270549Z",
     "shell.execute_reply.started": "2023-03-04T09:40:03.270527Z"
    },
    "tags": []
   },
   "outputs": [],
   "source": [
    "# Doppelspaces prüfen\n",
    "if gründlich:\n",
    "    mask = wiktionary_merkmal.data.str.contains('  ')\n",
    "    check_mask( wiktionary_merkmal, mask, 0)\n",
    "    #wiktionary_merkmal[mask]"
   ]
  },
  {
   "cell_type": "code",
   "execution_count": null,
   "metadata": {
    "execution": {
     "iopub.status.busy": "2023-03-04T09:40:03.271587Z",
     "iopub.status.idle": "2023-03-04T09:40:03.272200Z",
     "shell.execute_reply": "2023-03-04T09:40:03.271924Z",
     "shell.execute_reply.started": "2023-03-04T09:40:03.271894Z"
    },
    "tags": []
   },
   "outputs": [],
   "source": [
    "# wiktionary_merkmal_text\n",
    "\n",
    "if gründlich:\n",
    "    cols = pak.col_names(wiktionary_merkmal_text, only='str')\n",
    "    cols = [ c for c in cols if c not in ['error']  and not c.startswith('tag')] \n",
    "    #print(cols)\n",
    "    \n",
    "    for feld in cols:\n",
    "        print(feld)\n",
    "        wiktionary_merkmal_text[feld] = wiktionary_merkmal_text[feld].fillna('').apply(   lambda x: bj_nlp.preprocess(x)   )"
   ]
  },
  {
   "cell_type": "markdown",
   "metadata": {},
   "source": [
    "## Sonderzeichen"
   ]
  },
  {
   "cell_type": "code",
   "execution_count": null,
   "metadata": {
    "execution": {
     "iopub.status.busy": "2023-03-04T09:40:03.273679Z",
     "iopub.status.idle": "2023-03-04T09:40:03.274296Z",
     "shell.execute_reply": "2023-03-04T09:40:03.274013Z",
     "shell.execute_reply.started": "2023-03-04T09:40:03.273983Z"
    },
    "tags": []
   },
   "outputs": [],
   "source": [
    "# Sonderfälle\n",
    "#mask = wiktionary_merkmal.data.str.contains('{{')\n",
    "r = { '{{NNBSP}}'   :   ' '  ,   \n",
    "             \"''\"   :   ''   ,\n",
    "    }\n",
    "wiktionary_merkmal['data'] = pak.replace_str(wiktionary_merkmal.data, r)"
   ]
  },
  {
   "cell_type": "code",
   "execution_count": null,
   "metadata": {
    "execution": {
     "iopub.status.busy": "2023-03-04T09:40:03.280788Z",
     "iopub.status.idle": "2023-03-04T09:40:03.284452Z",
     "shell.execute_reply": "2023-03-04T09:40:03.284253Z",
     "shell.execute_reply.started": "2023-03-04T09:40:03.284226Z"
    },
    "tags": []
   },
   "outputs": [],
   "source": [
    "# Beispiel anschauen\n",
    "mask = wiktionary_merkmal.section_id2 == suche_debug[0]\n",
    "grid(wiktionary_merkmal,mask)"
   ]
  },
  {
   "cell_type": "code",
   "execution_count": null,
   "metadata": {
    "execution": {
     "iopub.status.busy": "2023-03-04T09:40:03.285658Z",
     "iopub.status.idle": "2023-03-04T09:40:03.289434Z",
     "shell.execute_reply": "2023-03-04T09:40:03.288966Z",
     "shell.execute_reply.started": "2023-03-04T09:40:03.288913Z"
    },
    "tags": []
   },
   "outputs": [],
   "source": [
    "# wiktionary_lemma enthält nicht_erlaubte_sonderzeichen (siehe Steuertabellen)\n",
    "mask = wiktionary_lemma.lemma.str.contains(nicht_erlaubte_sonderzeichen_lemma)   &   ~wiktionary_lemma.section_id2.str.endswith('_M')\n",
    "check_mask(wiktionary_lemma, mask, 0, 50)\n",
    "\n",
    "msg = 'lemma_nicht_erlaubte_sonderzeichen'\n",
    "wiktionary_lemma, wiktionary_lemma_trash = pak.move_rows(df_from=wiktionary_lemma, df_to=wiktionary_lemma_trash, mask=mask, msg=msg)\n",
    "grid(wiktionary_lemma_trash,msg, color='green')"
   ]
  },
  {
   "cell_type": "code",
   "execution_count": null,
   "metadata": {
    "execution": {
     "iopub.status.busy": "2023-03-04T09:40:03.293073Z",
     "iopub.status.idle": "2023-03-04T09:40:03.297159Z",
     "shell.execute_reply": "2023-03-04T09:40:03.296774Z",
     "shell.execute_reply.started": "2023-03-04T09:40:03.296725Z"
    },
    "tags": []
   },
   "outputs": [],
   "source": [
    "# wiktionary_nolemma enthält nicht_erlaubte_sonderzeichen\n",
    "mask = wiktionary_nolemma.lemma.str.contains(nicht_erlaubte_sonderzeichen_lemma) # siehe Steuertabellen\n",
    "check_mask(wiktionary_nolemma, mask, 0, 100)\n",
    "\n",
    "msg='lemma_nicht_erlaubte_sonderzeichen'\n",
    "wiktionary_nolemma, wiktionary_nolemma_trash = pak.move_rows(df_from=wiktionary_nolemma, df_to=wiktionary_nolemma_trash, mask=mask, msg=msg)\n",
    "grid(wiktionary_nolemma_trash,msg, color='green')"
   ]
  },
  {
   "cell_type": "code",
   "execution_count": null,
   "metadata": {
    "execution": {
     "iopub.status.busy": "2023-03-04T09:40:03.300327Z",
     "iopub.status.idle": "2023-03-04T09:40:03.304886Z",
     "shell.execute_reply": "2023-03-04T09:40:03.304626Z",
     "shell.execute_reply.started": "2023-03-04T09:40:03.304589Z"
    },
    "tags": []
   },
   "outputs": [],
   "source": [
    "# wiktionary_nolemma enthält nicht_erlaubte_sonderzeichen\n",
    "mask = wiktionary_nolemma.lex.str.contains(nicht_erlaubte_sonderzeichen_lemma) # siehe Steuertabellen\n",
    "check_mask(wiktionary_nolemma, mask, 0, 100)\n",
    "\n",
    "msg='lex_nicht_erlaubte_sonderzeichen'\n",
    "wiktionary_nolemma, wiktionary_nolemma_trash = pak.move_rows(df_from=wiktionary_nolemma, df_to=wiktionary_nolemma_trash, mask=mask, msg=msg)\n",
    "grid(wiktionary_nolemma_trash,msg, color='green')"
   ]
  },
  {
   "cell_type": "code",
   "execution_count": null,
   "metadata": {
    "execution": {
     "iopub.status.busy": "2023-03-04T09:40:03.306217Z",
     "iopub.status.idle": "2023-03-04T09:40:03.306891Z",
     "shell.execute_reply": "2023-03-04T09:40:03.306744Z",
     "shell.execute_reply.started": "2023-03-04T09:40:03.306726Z"
    },
    "tags": []
   },
   "outputs": [],
   "source": [
    "# data remove_str\n",
    "r = ['Verzeichnis:Deutsch/','Verzeichnis:','<sub>','</sub>','<sup>','</sup>','Wikipedia:de:','Wikipedia:',]\n",
    "wiktionary_merkmal['data'] = pak.remove_str(wiktionary_merkmal.data, r )"
   ]
  },
  {
   "cell_type": "code",
   "execution_count": null,
   "metadata": {
    "execution": {
     "iopub.status.busy": "2023-03-04T09:40:03.307671Z",
     "iopub.status.idle": "2023-03-04T09:40:03.308293Z",
     "shell.execute_reply": "2023-03-04T09:40:03.308155Z",
     "shell.execute_reply.started": "2023-03-04T09:40:03.308138Z"
    },
    "tags": []
   },
   "outputs": [],
   "source": [
    "# data enthält Reste von Tags >> absplitten\n",
    "mask = wiktionary_merkmal.data.str.contains('<',regex=False)\n",
    "wiktionary_merkmal.loc[mask,'data'] = wiktionary_merkmal[mask].data.str.split('<').str[0]\n",
    "#wiktionary_merkmal[mask]"
   ]
  },
  {
   "cell_type": "code",
   "execution_count": null,
   "metadata": {
    "execution": {
     "iopub.status.busy": "2023-03-04T09:40:03.309084Z",
     "iopub.status.idle": "2023-03-04T09:40:03.310609Z",
     "shell.execute_reply": "2023-03-04T09:40:03.310421Z",
     "shell.execute_reply.started": "2023-03-04T09:40:03.310397Z"
    },
    "tags": []
   },
   "outputs": [],
   "source": [
    "# data enthält Reste von Tags >> absplitten\n",
    "mask = wiktionary_merkmal.data.str.contains('{',regex=False)\n",
    "wiktionary_merkmal.loc[mask,'data'] = wiktionary_merkmal[mask].data.str.split('{').str[0]\n",
    "#wiktionary_merkmal[mask]"
   ]
  },
  {
   "cell_type": "code",
   "execution_count": null,
   "metadata": {
    "execution": {
     "iopub.status.busy": "2023-03-04T09:40:03.311489Z",
     "iopub.status.idle": "2023-03-04T09:40:03.312180Z",
     "shell.execute_reply": "2023-03-04T09:40:03.312033Z",
     "shell.execute_reply.started": "2023-03-04T09:40:03.312015Z"
    },
    "tags": []
   },
   "outputs": [],
   "source": [
    "# wiktionary_merkmal data belöschen\n",
    "mask = wiktionary_merkmal.data.str.startswith(('http:','https:'))\n",
    "check_mask(wiktionary_merkmal, mask, 65)\n",
    "\n",
    "msg='data_startswith'\n",
    "wiktionary_merkmal, wiktionary_merkmal_trash = pak.move_rows( df_from=wiktionary_merkmal, df_to=wiktionary_merkmal_trash, mask=mask, msg=msg)\n",
    "grid(wiktionary_merkmal_trash,msg, color='green')"
   ]
  },
  {
   "cell_type": "code",
   "execution_count": null,
   "metadata": {
    "execution": {
     "iopub.status.busy": "2023-03-04T09:40:03.313092Z",
     "iopub.status.idle": "2023-03-04T09:40:03.315420Z",
     "shell.execute_reply": "2023-03-04T09:40:03.315241Z",
     "shell.execute_reply.started": "2023-03-04T09:40:03.315217Z"
    },
    "tags": []
   },
   "outputs": [],
   "source": [
    "# wiktionary_merkmal data belöschen\n",
    "mask = wiktionary_merkmal.data.str.lower().str.endswith(('.jpg','.png','.gif'))\n",
    "check_mask(wiktionary_merkmal, mask, 6)\n",
    "\n",
    "msg='data_endswith'\n",
    "wiktionary_merkmal, wiktionary_merkmal_trash = pak.move_rows( df_from=wiktionary_merkmal, df_to=wiktionary_merkmal_trash, mask=mask, msg=msg)\n",
    "grid(wiktionary_merkmal_trash,msg, color='green')"
   ]
  },
  {
   "cell_type": "code",
   "execution_count": null,
   "metadata": {
    "execution": {
     "iopub.status.busy": "2023-03-04T09:40:03.317306Z",
     "iopub.status.idle": "2023-03-04T09:40:03.321427Z",
     "shell.execute_reply": "2023-03-04T09:40:03.321211Z",
     "shell.execute_reply.started": "2023-03-04T09:40:03.321183Z"
    },
    "tags": []
   },
   "outputs": [],
   "source": [
    "# wiktionary_merkmal node_kontext belöschen\n",
    "mask = wiktionary_merkmal.node_kontext.str.startswith(('mini|','thumb|','|'))\n",
    "check_mask(wiktionary_merkmal, mask, 40)\n",
    "\n",
    "msg='node_kontext_startswith'\n",
    "wiktionary_merkmal, wiktionary_merkmal_trash = pak.move_rows( df_from=wiktionary_merkmal, df_to=wiktionary_merkmal_trash, mask=mask, msg=msg)\n",
    "grid(wiktionary_merkmal_trash,msg, color='green')"
   ]
  },
  {
   "cell_type": "code",
   "execution_count": null,
   "metadata": {
    "execution": {
     "iopub.status.busy": "2023-03-04T09:40:03.322453Z",
     "iopub.status.idle": "2023-03-04T09:40:03.323240Z",
     "shell.execute_reply": "2023-03-04T09:40:03.323079Z",
     "shell.execute_reply.started": "2023-03-04T09:40:03.323060Z"
    },
    "tags": []
   },
   "outputs": [],
   "source": [
    "# wiktionary_merkmal node_kontext belöschen\n",
    "mask = wiktionary_merkmal.node_kontext.str.contains('px|', regex=False)\n",
    "check_mask(wiktionary_merkmal, mask, 3)\n",
    "\n",
    "msg='node_kontext_contains'\n",
    "wiktionary_merkmal, wiktionary_merkmal_trash = pak.move_rows( df_from=wiktionary_merkmal, df_to=wiktionary_merkmal_trash, mask=mask, msg=msg)\n",
    "grid(wiktionary_merkmal_trash,msg, color='green')"
   ]
  },
  {
   "cell_type": "code",
   "execution_count": null,
   "metadata": {
    "execution": {
     "iopub.status.busy": "2023-03-04T09:40:03.324344Z",
     "iopub.status.idle": "2023-03-04T09:40:03.330233Z",
     "shell.execute_reply": "2023-03-04T09:40:03.329884Z",
     "shell.execute_reply.started": "2023-03-04T09:40:03.329835Z"
    },
    "tags": []
   },
   "outputs": [],
   "source": [
    "# wiktionary_merkmal enthält nicht_erlaubte_sonderzeichen\n",
    "# Das weist auf Fehler beim Parsen hin >> löschen\n",
    "\n",
    "felder = ['node_debug','node_kontext','meta','data'] \n",
    "for feld in felder: \n",
    "    mask = wiktionary_merkmal[feld].str.contains(nicht_erlaubte_sonderzeichen_gnädig) \n",
    "    print(feld, wiktionary_merkmal[mask].shape[0], 'Datensätze')\n",
    "    wiktionary_merkmal, wiktionary_merkmal_trash = pak.move_rows( df_from=wiktionary_merkmal, df_to=wiktionary_merkmal_trash, mask=mask, msg= feld + '_sonderzeichen', verbose=False)"
   ]
  },
  {
   "cell_type": "code",
   "execution_count": null,
   "metadata": {
    "execution": {
     "iopub.status.busy": "2023-03-04T09:40:03.334801Z",
     "iopub.status.idle": "2023-03-04T09:40:03.336188Z",
     "shell.execute_reply": "2023-03-04T09:40:03.335861Z",
     "shell.execute_reply.started": "2023-03-04T09:40:03.335831Z"
    },
    "tags": []
   },
   "outputs": [],
   "source": [
    "# Häufigkeiten\n",
    "mask = wiktionary_merkmal_trash.msg.str.endswith('_sonderzeichen')\n",
    "a = pak.analyse_freqs(wiktionary_merkmal_trash[mask], ['msg','merkmal'])\n",
    "a"
   ]
  },
  {
   "cell_type": "code",
   "execution_count": null,
   "metadata": {
    "execution": {
     "iopub.status.busy": "2023-03-04T09:40:03.341937Z",
     "iopub.status.idle": "2023-03-04T09:40:03.343254Z",
     "shell.execute_reply": "2023-03-04T09:40:03.342993Z",
     "shell.execute_reply.started": "2023-03-04T09:40:03.342962Z"
    },
    "tags": []
   },
   "outputs": [],
   "source": [
    "# Anzeigen\n",
    "#mask = wiktionary_merkmal_trash.msg.str.endswith('_sonderzeichen')\n",
    "#gridt(wiktionary_merkmal_trash[mask])"
   ]
  },
  {
   "cell_type": "code",
   "execution_count": null,
   "metadata": {
    "execution": {
     "iopub.status.busy": "2023-03-04T09:40:03.346798Z",
     "iopub.status.idle": "2023-03-04T09:40:03.347665Z",
     "shell.execute_reply": "2023-03-04T09:40:03.347491Z",
     "shell.execute_reply.started": "2023-03-04T09:40:03.347469Z"
    },
    "tags": []
   },
   "outputs": [],
   "source": [
    "assert not pak.any_nan(wiktionary_merkmal.data) "
   ]
  },
  {
   "cell_type": "code",
   "execution_count": null,
   "metadata": {
    "execution": {
     "iopub.status.busy": "2023-03-04T09:40:03.349094Z",
     "iopub.status.idle": "2023-03-04T09:40:03.352644Z",
     "shell.execute_reply": "2023-03-04T09:40:03.352330Z",
     "shell.execute_reply.started": "2023-03-04T09:40:03.352293Z"
    },
    "tags": []
   },
   "outputs": [],
   "source": [
    "#a = pak.analyse_freqs(wiktionary_merkmal_trash,['msg','data','meta'])\n",
    "#grid(a)"
   ]
  },
  {
   "cell_type": "code",
   "execution_count": null,
   "metadata": {
    "execution": {
     "iopub.status.busy": "2023-03-04T09:40:03.354041Z",
     "iopub.status.idle": "2023-03-04T09:40:03.354991Z",
     "shell.execute_reply": "2023-03-04T09:40:03.354811Z",
     "shell.execute_reply.started": "2023-03-04T09:40:03.354787Z"
    }
   },
   "outputs": [],
   "source": [
    "#mask = (wiktionary_merkmal_trash.msg == 'data_endswith')\n",
    "#grid(wiktionary_merkmal_trash,mask)"
   ]
  },
  {
   "cell_type": "code",
   "execution_count": null,
   "metadata": {
    "execution": {
     "iopub.status.busy": "2023-03-04T09:40:03.356829Z",
     "iopub.status.idle": "2023-03-04T09:40:03.357525Z",
     "shell.execute_reply": "2023-03-04T09:40:03.357230Z",
     "shell.execute_reply.started": "2023-03-04T09:40:03.357198Z"
    },
    "tags": []
   },
   "outputs": [],
   "source": [
    "# Beispiel anschauen\n",
    "#mask = wiktionary_merkmal.section_id2 == suche_debug[0]\n",
    "#grid(wiktionary_merkmal,mask)"
   ]
  },
  {
   "cell_type": "markdown",
   "metadata": {},
   "source": [
    "## wiktionary_merkmal"
   ]
  },
  {
   "cell_type": "markdown",
   "metadata": {},
   "source": [
    "### node_debug >> member\n",
    "* member durch Daten aus der Spalte node_debug ergänzen"
   ]
  },
  {
   "cell_type": "code",
   "execution_count": null,
   "metadata": {
    "execution": {
     "iopub.status.busy": "2023-03-04T09:40:03.361994Z",
     "iopub.status.idle": "2023-03-04T09:40:03.363679Z",
     "shell.execute_reply": "2023-03-04T09:40:03.363416Z",
     "shell.execute_reply.started": "2023-03-04T09:40:03.363381Z"
    },
    "tags": []
   },
   "outputs": [],
   "source": [
    "# übersicht reinigen mit remove_str und replace_str\n",
    "mask = (wiktionary_merkmal.merkmal == 'übersicht')\n",
    "r = ['-sch', 'Bairisch','Deutsch', ' f',' m',' n', 'Übersicht']\n",
    "wiktionary_merkmal.loc[mask, 'node_debug'] = pak.remove_str(wiktionary_merkmal[mask].node_debug, r)\n",
    "\n",
    "r = {'Pronomina-Tabelle': 'Pronomen', 'adjektivisch':'adjNN', 'Eigenname':'Name'}\n",
    "wiktionary_merkmal.loc[mask, 'node_debug'] = pak.replace_str(wiktionary_merkmal[mask].node_debug, r)"
   ]
  },
  {
   "cell_type": "code",
   "execution_count": null,
   "metadata": {
    "execution": {
     "iopub.status.busy": "2023-03-04T09:40:03.369237Z",
     "iopub.status.idle": "2023-03-04T09:40:03.369865Z",
     "shell.execute_reply": "2023-03-04T09:40:03.369546Z",
     "shell.execute_reply.started": "2023-03-04T09:40:03.369507Z"
    },
    "tags": []
   },
   "outputs": [],
   "source": [
    "# Was enthält node_debug?\n",
    "mask = (wiktionary_merkmal.merkmal == 'übersicht')\n",
    "a = pak.analyse_freqs(wiktionary_merkmal[mask], ['node_debug', 'section_id2'], splits=[' ',None])\n",
    "a"
   ]
  },
  {
   "cell_type": "code",
   "execution_count": null,
   "metadata": {
    "execution": {
     "iopub.status.busy": "2023-03-04T09:40:03.371797Z",
     "iopub.status.idle": "2023-03-04T09:40:03.378674Z",
     "shell.execute_reply": "2023-03-04T09:40:03.378346Z",
     "shell.execute_reply.started": "2023-03-04T09:40:03.378309Z"
    },
    "tags": []
   },
   "outputs": [],
   "source": [
    "# member_plus festlegen\n",
    "mask = (wiktionary_merkmal.merkmal == 'übersicht')   &   (wiktionary_merkmal.node_debug.str.len() > 0)\n",
    "spalten = ['section_id2','node_debug']\n",
    "df = wiktionary_merkmal[mask][spalten].drop_duplicates()\n",
    "df.columns = ['section_id2','member_plus']\n",
    "#grid(df,sample)"
   ]
  },
  {
   "cell_type": "code",
   "execution_count": null,
   "metadata": {
    "execution": {
     "iopub.status.busy": "2023-03-04T09:40:03.380265Z",
     "iopub.status.idle": "2023-03-04T09:40:03.381075Z",
     "shell.execute_reply": "2023-03-04T09:40:03.380905Z",
     "shell.execute_reply.started": "2023-03-04T09:40:03.380884Z"
    },
    "tags": []
   },
   "outputs": [],
   "source": [
    "# an member anhängen\n",
    "wiktionary_lemma = pak.update_col(wiktionary_lemma, df, on='section_id2',col='member_plus')\n",
    "mask = (wiktionary_lemma.member_plus.str.len() > 0)\n",
    "wiktionary_lemma.loc[mask,'member'] = wiktionary_lemma[mask].member.str.strip() + ' ' + wiktionary_lemma[mask].member_plus.str.strip()\n",
    "wiktionary_lemma = pak.drop_cols(wiktionary_lemma, 'member_plus')"
   ]
  },
  {
   "cell_type": "code",
   "execution_count": null,
   "metadata": {
    "execution": {
     "iopub.status.busy": "2023-03-04T09:40:03.382922Z",
     "iopub.status.idle": "2023-03-04T09:40:03.384936Z",
     "shell.execute_reply": "2023-03-04T09:40:03.384734Z",
     "shell.execute_reply.started": "2023-03-04T09:40:03.384709Z"
    },
    "tags": []
   },
   "outputs": [],
   "source": [
    "# node_debug leeren\n",
    "mask = (wiktionary_merkmal.merkmal == 'übersicht')\n",
    "wiktionary_merkmal.loc[mask,'node_debug'] = ''"
   ]
  },
  {
   "cell_type": "code",
   "execution_count": null,
   "metadata": {
    "execution": {
     "iopub.status.busy": "2023-03-04T09:40:03.386400Z",
     "iopub.status.idle": "2023-03-04T09:40:03.387207Z",
     "shell.execute_reply": "2023-03-04T09:40:03.387044Z",
     "shell.execute_reply.started": "2023-03-04T09:40:03.387024Z"
    },
    "tags": []
   },
   "outputs": [],
   "source": [
    "# Letzte Löschungen\n",
    "r = ['Wortart fehlt']\n",
    "wiktionary_merkmal.node_debug = pak.remove_str( wiktionary_merkmal.node_debug, r )"
   ]
  },
  {
   "cell_type": "code",
   "execution_count": null,
   "metadata": {
    "execution": {
     "iopub.status.busy": "2023-03-04T09:40:03.388113Z",
     "iopub.status.idle": "2023-03-04T09:40:03.388890Z",
     "shell.execute_reply": "2023-03-04T09:40:03.388732Z",
     "shell.execute_reply.started": "2023-03-04T09:40:03.388714Z"
    },
    "tags": []
   },
   "outputs": [],
   "source": [
    "# node_debug löschen (müsste jetzt überall leer sein)\n",
    "mask = (wiktionary_merkmal.node_debug.str.len() > 0)\n",
    "if version == '_all':\n",
    "    check_mask(wiktionary_merkmal, mask, 0, 0)\n",
    "wiktionary_merkmal = pak.drop_cols(wiktionary_merkmal, 'node_debug')   "
   ]
  },
  {
   "cell_type": "markdown",
   "metadata": {},
   "source": [
    "### übersicht und flexion\n",
    "* aus wiktionary_merkmal herausnehmen, pflegen und wieder anfügen"
   ]
  },
  {
   "cell_type": "code",
   "execution_count": null,
   "metadata": {
    "execution": {
     "iopub.status.busy": "2023-03-04T09:40:03.393827Z",
     "iopub.status.idle": "2023-03-04T09:40:03.395018Z",
     "shell.execute_reply": "2023-03-04T09:40:03.394734Z",
     "shell.execute_reply.started": "2023-03-04T09:40:03.394711Z"
    },
    "tags": []
   },
   "outputs": [],
   "source": [
    "# Beispiel anschauen\n",
    "#mask = wiktionary_merkmal.section_id2 == suche_debug[0]\n",
    "#grid(wiktionary_merkmal,mask)"
   ]
  },
  {
   "cell_type": "code",
   "execution_count": null,
   "metadata": {
    "execution": {
     "iopub.status.busy": "2023-03-04T09:40:03.396774Z",
     "iopub.status.idle": "2023-03-04T09:40:03.402500Z",
     "shell.execute_reply": "2023-03-04T09:40:03.402209Z",
     "shell.execute_reply.started": "2023-03-04T09:40:03.402172Z"
    },
    "tags": []
   },
   "outputs": [],
   "source": [
    "# nach flexion auslagern\n",
    "mask = wiktionary_merkmal.merkmal.isin(['übersicht','flexion']) \n",
    "wiktionary_merkmal, flexion = pak.move_rows( wiktionary_merkmal, mask, msg=None ) \n",
    "flexion_trash = flexion.head(0)"
   ]
  },
  {
   "cell_type": "code",
   "execution_count": null,
   "metadata": {
    "execution": {
     "iopub.status.busy": "2023-03-04T09:40:03.403793Z",
     "iopub.status.idle": "2023-03-04T09:40:03.408967Z",
     "shell.execute_reply": "2023-03-04T09:40:03.408733Z",
     "shell.execute_reply.started": "2023-03-04T09:40:03.408704Z"
    },
    "tags": []
   },
   "outputs": [],
   "source": [
    "mask = flexion.data == '€'\n",
    "flexion[mask]"
   ]
  },
  {
   "cell_type": "code",
   "execution_count": null,
   "metadata": {
    "execution": {
     "iopub.status.busy": "2023-03-04T09:40:03.410019Z",
     "iopub.status.idle": "2023-03-04T09:40:03.410748Z",
     "shell.execute_reply": "2023-03-04T09:40:03.410592Z",
     "shell.execute_reply.started": "2023-03-04T09:40:03.410573Z"
    },
    "tags": []
   },
   "outputs": [],
   "source": [
    "# In wiktionary_merkmal ist node_kontext jetzt überflüssig\n",
    "wiktionary_merkmal = pak.drop_cols(wiktionary_merkmal, 'node_kontext') "
   ]
  },
  {
   "cell_type": "code",
   "execution_count": null,
   "metadata": {
    "execution": {
     "iopub.status.busy": "2023-03-04T09:40:03.411585Z",
     "iopub.status.idle": "2023-03-04T09:40:03.412244Z",
     "shell.execute_reply": "2023-03-04T09:40:03.412098Z",
     "shell.execute_reply.started": "2023-03-04T09:40:03.412081Z"
    },
    "tags": []
   },
   "outputs": [],
   "source": [
    "flexion = pak.rename_col(flexion, 'merkmal',      'quelle')\n",
    "flexion = pak.rename_col(flexion, 'node_kontext', 'merkmal_lang')\n",
    "flexion = pak.drop_cols(flexion, ['num','meta','msg','section_id','quelle'])\n",
    "flexion['merkmal'] = flexion.merkmal_lang.copy()\n",
    "flexion = pak.move_cols( flexion, ['section_id2', 'merkmal_lang', 'merkmal', 'data'])"
   ]
  },
  {
   "cell_type": "code",
   "execution_count": null,
   "metadata": {
    "execution": {
     "iopub.status.busy": "2023-03-04T09:40:03.413089Z",
     "iopub.status.idle": "2023-03-04T09:40:03.415006Z",
     "shell.execute_reply": "2023-03-04T09:40:03.414791Z",
     "shell.execute_reply.started": "2023-03-04T09:40:03.414766Z"
    },
    "tags": []
   },
   "outputs": [],
   "source": [
    "# Dups entfernen\n",
    "flexion = pak.reset_index(flexion.drop_duplicates())"
   ]
  },
  {
   "cell_type": "code",
   "execution_count": null,
   "metadata": {
    "execution": {
     "iopub.status.busy": "2023-03-04T09:40:03.415975Z",
     "iopub.status.idle": "2023-03-04T09:40:03.416724Z",
     "shell.execute_reply": "2023-03-04T09:40:03.416565Z",
     "shell.execute_reply.started": "2023-03-04T09:40:03.416546Z"
    },
    "tags": []
   },
   "outputs": [],
   "source": [
    "# meta schreiben\n",
    "# dazu lexeme_manuell nochmal aufklappen, um an die lexeme heranzukommen\n",
    "df = pak.explode_dict(lexeme_manuell, col_dict='flexion', col_key='key', col_value='data', from_defaultdict=True)\n",
    "mask = df.section_id2 == 'und'\n",
    "df[mask]"
   ]
  },
  {
   "cell_type": "code",
   "execution_count": null,
   "metadata": {
    "execution": {
     "iopub.status.busy": "2023-03-04T09:40:03.417629Z",
     "iopub.status.idle": "2023-03-04T09:40:03.418285Z",
     "shell.execute_reply": "2023-03-04T09:40:03.418136Z",
     "shell.execute_reply.started": "2023-03-04T09:40:03.418118Z"
    },
    "tags": []
   },
   "outputs": [],
   "source": [
    "# meta schreiben\n",
    "flexion['meta'] = ''\n",
    "mask = pak.isin( flexion, df, on=['section_id2','data'])\n",
    "check_mask(flexion,mask)\n",
    "flexion.loc[mask,'meta'] = 'manuell'"
   ]
  },
  {
   "cell_type": "code",
   "execution_count": null,
   "metadata": {
    "execution": {
     "iopub.status.busy": "2023-03-04T09:40:03.425566Z",
     "iopub.status.idle": "2023-03-04T09:40:03.426566Z",
     "shell.execute_reply": "2023-03-04T09:40:03.426342Z",
     "shell.execute_reply.started": "2023-03-04T09:40:03.426316Z"
    },
    "tags": []
   },
   "outputs": [],
   "source": [
    "# abspalten\n",
    "flexion, df = pak.move_rows(flexion, mask, msg=None)\n",
    "\n",
    "# auswählen\n",
    "df = df.drop_duplicates(subset=['section_id2','merkmal'])\n",
    "\n",
    "# wieder anfügen\n",
    "flexion = pak.add_rows(flexion, df, assert_subset=True)"
   ]
  },
  {
   "cell_type": "code",
   "execution_count": null,
   "metadata": {
    "execution": {
     "iopub.status.busy": "2023-03-04T09:40:03.427624Z",
     "iopub.status.idle": "2023-03-04T09:40:03.428459Z",
     "shell.execute_reply": "2023-03-04T09:40:03.428282Z",
     "shell.execute_reply.started": "2023-03-04T09:40:03.428261Z"
    },
    "tags": []
   },
   "outputs": [],
   "source": [
    "# merkmal reinigen\n",
    "\n",
    "# 'Ptz1' und 'Ptz2' maskieren\n",
    "flexion['merkmal'] = pak.replace_str(flexion.merkmal, {'Ptz1':'PtzA', 'Ptz2':'PtzB'})\n",
    "\n",
    "# merkmal reinigen\n",
    "r = ['*','1','2','3','4','stark','schwach','gemischt']\n",
    "flexion['merkmal'] = pak.remove_str(flexion.merkmal, r)\n",
    "\n",
    "# 'Ptz1' und 'Ptz2' demaskieren\n",
    "flexion['merkmal'] = pak.replace_str(flexion.merkmal, {'PtzA':'Ptz1', 'PtzB':'Ptz2'})"
   ]
  },
  {
   "cell_type": "code",
   "execution_count": null,
   "metadata": {
    "execution": {
     "iopub.status.busy": "2023-03-04T09:40:03.429375Z",
     "iopub.status.idle": "2023-03-04T09:40:03.432990Z",
     "shell.execute_reply": "2023-03-04T09:40:03.432614Z",
     "shell.execute_reply.started": "2023-03-04T09:40:03.432579Z"
    },
    "tags": []
   },
   "outputs": [],
   "source": [
    "# Beispiel anschauen\n",
    "#mask = flexion.section_id2 == suche_debug[0]\n",
    "#grid(flexion,mask)"
   ]
  },
  {
   "cell_type": "code",
   "execution_count": null,
   "metadata": {
    "execution": {
     "iopub.status.busy": "2023-03-04T09:40:03.435290Z",
     "iopub.status.idle": "2023-03-04T09:40:03.436836Z",
     "shell.execute_reply": "2023-03-04T09:40:03.436626Z",
     "shell.execute_reply.started": "2023-03-04T09:40:03.436601Z"
    },
    "tags": []
   },
   "outputs": [],
   "source": [
    "# translate_first\n",
    "\n",
    "print(translate_first1)\n",
    "print(translate_first2)\n",
    "\n",
    "for quelle, ziel in translate_first1:\n",
    "    flexion.merkmal = flexion.merkmal.str.replace( quelle, ziel )\n",
    "\n",
    "for quelle, ziel in translate_first2:\n",
    "    flexion.merkmal = flexion.merkmal.str.replace( quelle, ziel )"
   ]
  },
  {
   "cell_type": "code",
   "execution_count": null,
   "metadata": {
    "execution": {
     "iopub.status.busy": "2023-03-04T09:40:03.437877Z",
     "iopub.status.idle": "2023-03-04T09:40:03.438559Z",
     "shell.execute_reply": "2023-03-04T09:40:03.438413Z",
     "shell.execute_reply.started": "2023-03-04T09:40:03.438395Z"
    },
    "tags": []
   },
   "outputs": [],
   "source": [
    "translate_merkmal"
   ]
  },
  {
   "cell_type": "code",
   "execution_count": null,
   "metadata": {
    "execution": {
     "iopub.status.busy": "2023-03-04T09:40:03.439444Z",
     "iopub.status.idle": "2023-03-04T09:40:03.445562Z",
     "shell.execute_reply": "2023-03-04T09:40:03.445306Z",
     "shell.execute_reply.started": "2023-03-04T09:40:03.445276Z"
    },
    "tags": []
   },
   "outputs": [],
   "source": [
    "# translate_merkmal: merkmal reinigen\n",
    "flexion['merkmal'] = pak.replace_str(flexion.merkmal, translate_merkmal)"
   ]
  },
  {
   "cell_type": "code",
   "execution_count": null,
   "metadata": {
    "execution": {
     "iopub.status.busy": "2023-03-04T09:40:03.446689Z",
     "iopub.status.idle": "2023-03-04T09:40:03.447566Z",
     "shell.execute_reply": "2023-03-04T09:40:03.447369Z",
     "shell.execute_reply.started": "2023-03-04T09:40:03.447346Z"
    },
    "tags": []
   },
   "outputs": [],
   "source": [
    "#a = analyse_freqs(flexion,'merkmal','data', split_A=' ', style='top') # \n",
    "#grid(a)"
   ]
  },
  {
   "cell_type": "code",
   "execution_count": null,
   "metadata": {
    "execution": {
     "iopub.status.busy": "2023-03-04T09:40:03.448574Z",
     "iopub.status.idle": "2023-03-04T09:40:03.449499Z",
     "shell.execute_reply": "2023-03-04T09:40:03.449278Z",
     "shell.execute_reply.started": "2023-03-04T09:40:03.449254Z"
    },
    "tags": []
   },
   "outputs": [],
   "source": [
    "# strip\n",
    "flexion.merkmal = flexion.merkmal.str.replace('  ',' ').str.strip()"
   ]
  },
  {
   "cell_type": "code",
   "execution_count": null,
   "metadata": {
    "execution": {
     "iopub.status.busy": "2023-03-04T09:40:03.453671Z",
     "iopub.status.idle": "2023-03-04T09:40:03.454639Z",
     "shell.execute_reply": "2023-03-04T09:40:03.454428Z",
     "shell.execute_reply.started": "2023-03-04T09:40:03.454401Z"
    },
    "tags": []
   },
   "outputs": [],
   "source": [
    "# Einige Merkmale löschen\n",
    "r = ['','Weitere Konjugationen','beschreibung','bezug','breite','Jahr','Titel','am','Zugriff','Monat','Tag','Autor','Bild','Flexion','unpersönlich',\n",
    "     'Kommentar','zugriff','hrsg','Artikel','größe','titel','Ort','spr','Verlag','Seiten','autor','datum','Weitere','kein-s', 'Kein-ens','Datum',\n",
    "     'EW','ISBN','Originalsprache','TitelErg','dim','kommentar','name','region','sprache','text','Keine weiteren Formen',   \n",
    "    ]\n",
    "mask = flexion.merkmal.isin(r)\n",
    "check_mask(flexion,mask,1500)\n",
    "\n",
    "msg = 'ungenutzte_Merkmale'\n",
    "flexion, flexion_trash = pak.move_rows(df_from=flexion, df_to=flexion_trash, mask=mask, msg=msg)\n",
    "grid(flexion_trash,msg)"
   ]
  },
  {
   "cell_type": "code",
   "execution_count": null,
   "metadata": {
    "execution": {
     "iopub.status.busy": "2023-03-04T09:40:03.455658Z",
     "iopub.status.idle": "2023-03-04T09:40:03.461434Z",
     "shell.execute_reply": "2023-03-04T09:40:03.461210Z",
     "shell.execute_reply.started": "2023-03-04T09:40:03.461181Z"
    },
    "tags": []
   },
   "outputs": [],
   "source": [
    "# merkmale sortieren\n",
    "flexion = sort_merkmale(flexion)"
   ]
  },
  {
   "cell_type": "code",
   "execution_count": null,
   "metadata": {
    "execution": {
     "iopub.status.busy": "2023-03-04T09:40:03.462626Z",
     "iopub.status.idle": "2023-03-04T09:40:03.463623Z",
     "shell.execute_reply": "2023-03-04T09:40:03.463408Z",
     "shell.execute_reply.started": "2023-03-04T09:40:03.463380Z"
    },
    "tags": []
   },
   "outputs": [],
   "source": [
    "# Müll löschen (obsolet: Das wurde weiter oben schon gelöscht)\n",
    "mask = flexion.merkmal.str.contains('|', regex=False)\n",
    "check_mask(flexion,mask,0)\n",
    "#flexion, flexion_trash = pak.move_rows(df_from=flexion, df_to=flexion_trash, mask=mask, msg='Müll1')"
   ]
  },
  {
   "cell_type": "code",
   "execution_count": null,
   "metadata": {
    "execution": {
     "iopub.status.busy": "2023-03-04T09:40:03.464870Z",
     "iopub.status.idle": "2023-03-04T09:40:03.466023Z",
     "shell.execute_reply": "2023-03-04T09:40:03.465786Z",
     "shell.execute_reply.started": "2023-03-04T09:40:03.465756Z"
    },
    "tags": []
   },
   "outputs": [],
   "source": [
    "# Müll löschen (obsolet: Das wurde weiter oben schon gelöscht)\n",
    "mask = flexion.data.str.contains('<', regex=False)\n",
    "check_mask(flexion,mask,0)\n",
    "#flexion, flexion_trash = pak.move_rows(df_from=flexion, df_to=flexion_trash, mask=mask, msg='Müll2') "
   ]
  },
  {
   "cell_type": "code",
   "execution_count": null,
   "metadata": {
    "execution": {
     "iopub.status.busy": "2023-03-04T09:40:03.474215Z",
     "iopub.status.idle": "2023-03-04T09:40:03.475220Z",
     "shell.execute_reply": "2023-03-04T09:40:03.474996Z",
     "shell.execute_reply.started": "2023-03-04T09:40:03.474974Z"
    },
    "tags": []
   },
   "outputs": [],
   "source": [
    "# Striche vereinheitlichen\n",
    "r = {'—':'-', '–':'-'}\n",
    "flexion.data = pak.replace_str(flexion.data, r)"
   ]
  },
  {
   "cell_type": "code",
   "execution_count": null,
   "metadata": {
    "execution": {
     "iopub.status.busy": "2023-03-04T09:40:03.476353Z",
     "iopub.status.idle": "2023-03-04T09:40:03.479680Z",
     "shell.execute_reply": "2023-03-04T09:40:03.479039Z",
     "shell.execute_reply.started": "2023-03-04T09:40:03.478966Z"
    },
    "tags": []
   },
   "outputs": [],
   "source": [
    "#a = pak.analyse_freqs(flexion,['merkmal','data'], splits=[' ', None]) # \n",
    "#gridt(a)"
   ]
  },
  {
   "cell_type": "code",
   "execution_count": null,
   "metadata": {
    "execution": {
     "iopub.status.busy": "2023-03-04T09:40:03.483346Z",
     "iopub.status.idle": "2023-03-04T09:40:03.489419Z",
     "shell.execute_reply": "2023-03-04T09:40:03.489202Z",
     "shell.execute_reply.started": "2023-03-04T09:40:03.489174Z"
    },
    "tags": []
   },
   "outputs": [],
   "source": [
    "#a = pak.analyse_freqs(flexion,['merkmal','data']) \n",
    "#gridt(a)"
   ]
  },
  {
   "cell_type": "code",
   "execution_count": null,
   "metadata": {
    "execution": {
     "iopub.status.busy": "2023-03-04T09:40:03.490394Z",
     "iopub.status.idle": "2023-03-04T09:40:03.491101Z",
     "shell.execute_reply": "2023-03-04T09:40:03.490945Z",
     "shell.execute_reply.started": "2023-03-04T09:40:03.490926Z"
    },
    "tags": []
   },
   "outputs": [],
   "source": [
    "#a = pak.analyse_freqs(flexion,['sort','merkmal']) # \n",
    "#gridt(a)"
   ]
  },
  {
   "cell_type": "code",
   "execution_count": null,
   "metadata": {
    "execution": {
     "iopub.status.busy": "2023-03-04T09:40:03.491924Z",
     "iopub.status.idle": "2023-03-04T09:40:03.494809Z",
     "shell.execute_reply": "2023-03-04T09:40:03.494602Z",
     "shell.execute_reply.started": "2023-03-04T09:40:03.494575Z"
    },
    "tags": []
   },
   "outputs": [],
   "source": [
    "# flexion wieder an wiktionary_merkmal anfügen\n",
    "\n",
    "df = pak.drop_cols(flexion, ['merkmal_lang','sort'])\n",
    "df = df.drop_duplicates()\n",
    "#grid(df)\n",
    "wiktionary_merkmal = pak.add_rows(wiktionary_merkmal, df, assert_subset=True)"
   ]
  },
  {
   "cell_type": "code",
   "execution_count": null,
   "metadata": {
    "execution": {
     "iopub.status.busy": "2023-03-04T09:40:03.495777Z",
     "iopub.status.idle": "2023-03-04T09:40:03.502184Z",
     "shell.execute_reply": "2023-03-04T09:40:03.501614Z",
     "shell.execute_reply.started": "2023-03-04T09:40:03.501581Z"
    },
    "tags": []
   },
   "outputs": [],
   "source": [
    "# Beispiel anzeigen \n",
    "mask = (wiktionary_merkmal.section_id2 == suche_debug[0])\n",
    "grid(wiktionary_merkmal,mask)"
   ]
  },
  {
   "cell_type": "code",
   "execution_count": null,
   "metadata": {
    "execution": {
     "iopub.status.busy": "2023-03-04T09:40:03.505304Z",
     "iopub.status.idle": "2023-03-04T09:40:03.510403Z",
     "shell.execute_reply": "2023-03-04T09:40:03.509939Z",
     "shell.execute_reply.started": "2023-03-04T09:40:03.509886Z"
    },
    "tags": []
   },
   "outputs": [],
   "source": [
    "# Speicher sparen\n",
    "if speicher_freigeben:\n",
    "    del flexion"
   ]
  },
  {
   "cell_type": "markdown",
   "metadata": {},
   "source": [
    "### wiktionary_merkmal pflegen\n",
    "* Diverse Pflegeschritte"
   ]
  },
  {
   "cell_type": "code",
   "execution_count": null,
   "metadata": {
    "execution": {
     "iopub.status.busy": "2023-03-04T09:40:03.515175Z",
     "iopub.status.idle": "2023-03-04T09:40:03.515645Z",
     "shell.execute_reply": "2023-03-04T09:40:03.515452Z",
     "shell.execute_reply.started": "2023-03-04T09:40:03.515431Z"
    },
    "tags": []
   },
   "outputs": [],
   "source": [
    "# drop_cols\n",
    "wiktionary_merkmal = pak.drop_cols(wiktionary_merkmal,['rhymes','inflected','lang','lang_code','lemma_lower'])"
   ]
  },
  {
   "cell_type": "code",
   "execution_count": null,
   "metadata": {
    "execution": {
     "iopub.status.busy": "2023-03-04T09:40:03.516901Z",
     "iopub.status.idle": "2023-03-04T09:40:03.517683Z",
     "shell.execute_reply": "2023-03-04T09:40:03.517290Z",
     "shell.execute_reply.started": "2023-03-04T09:40:03.517252Z"
    },
    "tags": []
   },
   "outputs": [],
   "source": [
    "mask = wiktionary_merkmal.merkmal == 'rhymes'\n",
    "pak.sample(wiktionary_merkmal[mask])"
   ]
  },
  {
   "cell_type": "code",
   "execution_count": null,
   "metadata": {
    "execution": {
     "iopub.status.busy": "2023-03-04T09:40:03.522553Z",
     "iopub.status.idle": "2023-03-04T09:40:03.523369Z",
     "shell.execute_reply": "2023-03-04T09:40:03.523197Z",
     "shell.execute_reply.started": "2023-03-04T09:40:03.523174Z"
    },
    "tags": []
   },
   "outputs": [],
   "source": [
    "# change_datatype\n",
    "wiktionary_merkmal = pak.change_datatype(wiktionary_merkmal)"
   ]
  },
  {
   "cell_type": "code",
   "execution_count": null,
   "metadata": {
    "execution": {
     "iopub.status.busy": "2023-03-04T09:40:03.524241Z",
     "iopub.status.idle": "2023-03-04T09:40:03.524963Z",
     "shell.execute_reply": "2023-03-04T09:40:03.524809Z",
     "shell.execute_reply.started": "2023-03-04T09:40:03.524790Z"
    },
    "tags": []
   },
   "outputs": [],
   "source": [
    "# Keine nan in data\n",
    "assert not pak.any_nan(wiktionary_merkmal.data) "
   ]
  },
  {
   "cell_type": "code",
   "execution_count": null,
   "metadata": {
    "execution": {
     "iopub.status.busy": "2023-03-04T09:40:03.534025Z",
     "iopub.status.idle": "2023-03-04T09:40:03.535291Z",
     "shell.execute_reply": "2023-03-04T09:40:03.535045Z",
     "shell.execute_reply.started": "2023-03-04T09:40:03.535015Z"
    },
    "tags": []
   },
   "outputs": [],
   "source": [
    "# herkunft: meta leeren\n",
    "mask = wiktionary_merkmal.merkmal.isin(['herkunft']) \n",
    "wiktionary_merkmal.loc[mask,'meta'] = ''\n",
    "#grid(wiktionary_merkmal, mask)"
   ]
  },
  {
   "cell_type": "code",
   "execution_count": null,
   "metadata": {
    "execution": {
     "iopub.status.busy": "2023-03-04T09:40:03.536597Z",
     "iopub.status.idle": "2023-03-04T09:40:03.537446Z",
     "shell.execute_reply": "2023-03-04T09:40:03.537048Z",
     "shell.execute_reply.started": "2023-03-04T09:40:03.537009Z"
    },
    "tags": []
   },
   "outputs": [],
   "source": [
    "#grid(wiktionary_merkmal_trash)"
   ]
  },
  {
   "cell_type": "code",
   "execution_count": null,
   "metadata": {
    "execution": {
     "iopub.status.busy": "2023-03-04T09:40:03.543030Z",
     "iopub.status.idle": "2023-03-04T09:40:03.544458Z",
     "shell.execute_reply": "2023-03-04T09:40:03.544267Z",
     "shell.execute_reply.started": "2023-03-04T09:40:03.544243Z"
    },
    "tags": []
   },
   "outputs": [],
   "source": [
    "# noPl\n",
    "mask = (wiktionary_merkmal.data.str.len() <= 1)  &   wiktionary_merkmal.merkmal.str.endswith('Pl')   &   (wiktionary_merkmal.merkmal != 'noPl')\n",
    "wiktionary_merkmal.loc[mask,'merkmal'] = 'noPl¼'\n",
    "wiktionary_merkmal.loc[mask,'data']    = '1'"
   ]
  },
  {
   "cell_type": "code",
   "execution_count": null,
   "metadata": {
    "execution": {
     "iopub.status.busy": "2023-03-04T09:40:03.545362Z",
     "iopub.status.idle": "2023-03-04T09:40:03.551504Z",
     "shell.execute_reply": "2023-03-04T09:40:03.551241Z",
     "shell.execute_reply.started": "2023-03-04T09:40:03.551209Z"
    },
    "tags": []
   },
   "outputs": [],
   "source": [
    "# noSg\n",
    "mask = (wiktionary_merkmal.data.str.len() <= 1)  &   wiktionary_merkmal.merkmal.str.endswith('Sg')   &   (wiktionary_merkmal.merkmal != 'noSg')\n",
    "wiktionary_merkmal.loc[mask,'merkmal'] = 'noSg¼'\n",
    "wiktionary_merkmal.loc[mask,'data']    = '1'"
   ]
  },
  {
   "cell_type": "code",
   "execution_count": null,
   "metadata": {
    "execution": {
     "iopub.status.busy": "2023-03-04T09:40:03.553659Z",
     "iopub.status.idle": "2023-03-04T09:40:03.555538Z",
     "shell.execute_reply": "2023-03-04T09:40:03.555247Z",
     "shell.execute_reply.started": "2023-03-04T09:40:03.555202Z"
    },
    "tags": []
   },
   "outputs": [],
   "source": [
    "# mindestens 2 Zeichen deuten auf noSg hin\n",
    "\n",
    "# finden\n",
    "mask = (wiktionary_merkmal.merkmal == 'noSg¼')\n",
    "df = wiktionary_merkmal[mask].groupby('section_id2')['merkmal'].agg('count').reset_index()\n",
    "mask = (df.merkmal > 1)\n",
    "markiere = df[mask]['section_id2']\n",
    "\n",
    "# nach wiktionary_lemma übertragen\n",
    "mask = wiktionary_lemma.section_id2.isin(markiere)\n",
    "wiktionary_lemma.loc[mask,'member'] += ' noSg'"
   ]
  },
  {
   "cell_type": "code",
   "execution_count": null,
   "metadata": {
    "execution": {
     "iopub.status.busy": "2023-03-04T09:40:03.559422Z",
     "iopub.status.idle": "2023-03-04T09:40:03.563574Z",
     "shell.execute_reply": "2023-03-04T09:40:03.563346Z",
     "shell.execute_reply.started": "2023-03-04T09:40:03.563319Z"
    },
    "tags": []
   },
   "outputs": [],
   "source": [
    "# mindestens 2 Zeichen deuten auf noPl hin\n",
    "\n",
    "# finden\n",
    "mask = (wiktionary_merkmal.merkmal == 'noPl¼')\n",
    "df = wiktionary_merkmal[mask].groupby('section_id2')['merkmal'].agg('count').reset_index()\n",
    "mask = (df.merkmal > 1)\n",
    "markiere = df[mask]['section_id2']\n",
    "\n",
    "# nach wiktionary_lemma übertragen\n",
    "mask = wiktionary_lemma.section_id2.isin(markiere)\n",
    "wiktionary_lemma.loc[mask,'member'] += ' noPl'"
   ]
  },
  {
   "cell_type": "code",
   "execution_count": null,
   "metadata": {
    "execution": {
     "iopub.status.busy": "2023-03-04T09:40:03.565502Z",
     "iopub.status.idle": "2023-03-04T09:40:03.569712Z",
     "shell.execute_reply": "2023-03-04T09:40:03.569080Z",
     "shell.execute_reply.started": "2023-03-04T09:40:03.569005Z"
    },
    "tags": []
   },
   "outputs": [],
   "source": [
    "# entfernen\n",
    "mask = wiktionary_merkmal.merkmal.isin(['noSg¼','noPl¼'])\n",
    "wiktionary_merkmal, wiktionary_merkmal_trash = pak.move_rows(df_from=wiktionary_merkmal, df_to=wiktionary_merkmal_trash, mask=mask, msg='noSg¼ noPl¼')"
   ]
  },
  {
   "cell_type": "code",
   "execution_count": null,
   "metadata": {
    "execution": {
     "iopub.status.busy": "2023-03-04T09:40:03.572260Z",
     "iopub.status.idle": "2023-03-04T09:40:03.576981Z",
     "shell.execute_reply": "2023-03-04T09:40:03.576707Z",
     "shell.execute_reply.started": "2023-03-04T09:40:03.576678Z"
    },
    "tags": []
   },
   "outputs": [],
   "source": [
    "# entfernen\n",
    "mask = wiktionary_merkmal.merkmal.isin(['beschreibung 5','bezug 5','breite 5'])\n",
    "wiktionary_merkmal, wiktionary_merkmal_trash = pak.move_rows(df_from=wiktionary_merkmal, df_to=wiktionary_merkmal_trash, mask=mask, msg='Artefakte')"
   ]
  },
  {
   "cell_type": "code",
   "execution_count": null,
   "metadata": {
    "execution": {
     "iopub.status.busy": "2023-03-04T09:40:03.579181Z",
     "iopub.status.idle": "2023-03-04T09:40:03.580475Z",
     "shell.execute_reply": "2023-03-04T09:40:03.580272Z",
     "shell.execute_reply.started": "2023-03-04T09:40:03.580247Z"
    },
    "tags": []
   },
   "outputs": [],
   "source": [
    "# entfernen\n",
    "mask = wiktionary_merkmal.merkmal.isin(['Weitere Formen'])\n",
    "wiktionary_merkmal, wiktionary_merkmal_trash = pak.move_rows(df_from=wiktionary_merkmal, df_to=wiktionary_merkmal_trash, mask=mask, msg='Weitere Formen')"
   ]
  },
  {
   "cell_type": "code",
   "execution_count": null,
   "metadata": {
    "execution": {
     "iopub.status.busy": "2023-03-04T09:40:03.588449Z",
     "iopub.status.idle": "2023-03-04T09:40:03.589046Z",
     "shell.execute_reply": "2023-03-04T09:40:03.588814Z",
     "shell.execute_reply.started": "2023-03-04T09:40:03.588788Z"
    },
    "tags": []
   },
   "outputs": [],
   "source": [
    "#a = pak.analyse_freqs(wiktionary_merkmal,['merkmal','data'], splits=[' ', None]) # \n",
    "#grid(a)"
   ]
  },
  {
   "cell_type": "code",
   "execution_count": null,
   "metadata": {
    "execution": {
     "iopub.status.busy": "2023-03-04T09:40:03.590657Z",
     "iopub.status.idle": "2023-03-04T09:40:03.591717Z",
     "shell.execute_reply": "2023-03-04T09:40:03.591524Z",
     "shell.execute_reply.started": "2023-03-04T09:40:03.591502Z"
    },
    "tags": []
   },
   "outputs": [],
   "source": [
    "# data enthält nicht_erlaubte_sonderzeichen\n",
    "mask = wiktionary_merkmal.data.str.contains(nicht_erlaubte_sonderzeichen_gnädig) # siehe Steuertabellen\n",
    "check_mask(wiktionary_merkmal, mask, 0, 10000)\n",
    "\n",
    "msg='Sonderzeichen'\n",
    "wiktionary_merkmal, wiktionary_merkmal_trash = pak.move_rows(df_from=wiktionary_merkmal, df_to=wiktionary_merkmal_trash, mask=mask, msg=msg)\n",
    "grid(wiktionary_merkmal_trash,msg, color='green')"
   ]
  },
  {
   "cell_type": "code",
   "execution_count": null,
   "metadata": {
    "execution": {
     "iopub.status.busy": "2023-03-04T09:40:03.593115Z",
     "iopub.status.idle": "2023-03-04T09:40:03.596399Z",
     "shell.execute_reply": "2023-03-04T09:40:03.596168Z",
     "shell.execute_reply.started": "2023-03-04T09:40:03.596138Z"
    },
    "tags": []
   },
   "outputs": [],
   "source": [
    "# E-Merkmale \n",
    "mask = (plan_merkmal.collect == 'E')\n",
    "merkmale_E = list(plan_merkmal[mask].merkmal)\n",
    "merkmale_E "
   ]
  },
  {
   "cell_type": "code",
   "execution_count": null,
   "metadata": {
    "execution": {
     "iopub.status.busy": "2023-03-04T09:40:03.601907Z",
     "iopub.status.idle": "2023-03-04T09:40:03.602748Z",
     "shell.execute_reply": "2023-03-04T09:40:03.602569Z",
     "shell.execute_reply.started": "2023-03-04T09:40:03.602548Z"
    },
    "tags": []
   },
   "outputs": [],
   "source": [
    "# data ist zu kurz \n",
    "mask1 =  wiktionary_merkmal.data.str.len() == 1\n",
    "mask2 = ~wiktionary_merkmal.merkmal.isin( merkmale_E + ['Genus','ipa','rhymes','def','lex','abk'] )\n",
    "mask3 = ~wiktionary_merkmal.data.isin(['-'])\n",
    "mask = mask1  &  mask2  &  mask3\n",
    "check_mask(wiktionary_merkmal, mask, 0, 30)\n",
    "\n",
    "msg = 'zu kurz'\n",
    "wiktionary_merkmal, wiktionary_merkmal_trash = pak.move_rows( df_from=wiktionary_merkmal, df_to=wiktionary_merkmal_trash, mask=mask, msg=msg)\n",
    "grid(wiktionary_merkmal_trash,msg)"
   ]
  },
  {
   "cell_type": "code",
   "execution_count": null,
   "metadata": {
    "execution": {
     "iopub.status.busy": "2023-03-04T09:40:03.603624Z",
     "iopub.status.idle": "2023-03-04T09:40:03.604303Z",
     "shell.execute_reply": "2023-03-04T09:40:03.604152Z",
     "shell.execute_reply.started": "2023-03-04T09:40:03.604134Z"
    },
    "tags": []
   },
   "outputs": [],
   "source": [
    "mask = wiktionary_merkmal.data == '€'\n",
    "wiktionary_merkmal[mask]"
   ]
  },
  {
   "cell_type": "code",
   "execution_count": null,
   "metadata": {
    "execution": {
     "iopub.status.busy": "2023-03-04T09:40:03.608275Z",
     "iopub.status.idle": "2023-03-04T09:40:03.609276Z",
     "shell.execute_reply": "2023-03-04T09:40:03.609086Z",
     "shell.execute_reply.started": "2023-03-04T09:40:03.609061Z"
    },
    "tags": []
   },
   "outputs": [],
   "source": [
    "# wiktionary_merkmal belöschen: Wortbildungen\n",
    "mask = wiktionary_merkmal.data.str.contains('Wortbildungen/')\n",
    "check_mask(wiktionary_merkmal,mask,201)\n",
    "\n",
    "msg = 'Wortbildungen'\n",
    "wiktionary_merkmal, wiktionary_merkmal_trash = pak.move_rows( wiktionary_merkmal, wiktionary_merkmal_trash, mask, msg  ) \n",
    "grid(wiktionary_merkmal_trash, msg, color='green')"
   ]
  },
  {
   "cell_type": "code",
   "execution_count": null,
   "metadata": {
    "execution": {
     "iopub.status.busy": "2023-03-04T09:40:03.610240Z",
     "iopub.status.idle": "2023-03-04T09:40:03.610997Z",
     "shell.execute_reply": "2023-03-04T09:40:03.610833Z",
     "shell.execute_reply.started": "2023-03-04T09:40:03.610813Z"
    },
    "tags": []
   },
   "outputs": [],
   "source": [
    "# meta remove_str replace_str\n",
    "wiktionary_merkmal['meta'] = pak.remove_str(  wiktionary_merkmal.meta, '()'         )\n",
    "wiktionary_merkmal['meta'] = pak.replace_str( wiktionary_merkmal.meta, {'/':' '}    )"
   ]
  },
  {
   "cell_type": "code",
   "execution_count": null,
   "metadata": {
    "execution": {
     "iopub.status.busy": "2023-03-04T09:40:03.616143Z",
     "iopub.status.idle": "2023-03-04T09:40:03.617409Z",
     "shell.execute_reply": "2023-03-04T09:40:03.617083Z",
     "shell.execute_reply.started": "2023-03-04T09:40:03.617048Z"
    },
    "tags": []
   },
   "outputs": [],
   "source": [
    "# data Klammer am Ende schließen\n",
    "mask1 =  wiktionary_merkmal.data.str.contains('(', regex=False)\n",
    "mask2 = ~wiktionary_merkmal.data.str.contains(')', regex=False)\n",
    "mask = mask1  &  mask2\n",
    "wiktionary_merkmal.loc[mask,'data'] += ')'\n",
    "# grid(wiktionary_merkmal, mask)"
   ]
  },
  {
   "cell_type": "code",
   "execution_count": null,
   "metadata": {
    "execution": {
     "iopub.status.busy": "2023-03-04T09:40:03.621385Z",
     "iopub.status.idle": "2023-03-04T09:40:03.622262Z",
     "shell.execute_reply": "2023-03-04T09:40:03.622083Z",
     "shell.execute_reply.started": "2023-03-04T09:40:03.622061Z"
    },
    "tags": []
   },
   "outputs": [],
   "source": [
    "# Beispiel anzeigen \n",
    "mask = (wiktionary_merkmal.section_id2 == suche_debug[0])\n",
    "grid(wiktionary_merkmal,mask)"
   ]
  },
  {
   "cell_type": "markdown",
   "metadata": {},
   "source": [
    "### Kontrolle wiktionary_merkmal\n",
    "* Diverse Kontrollen"
   ]
  },
  {
   "cell_type": "code",
   "execution_count": null,
   "metadata": {
    "execution": {
     "iopub.status.busy": "2023-03-04T09:40:03.623331Z",
     "iopub.status.idle": "2023-03-04T09:40:03.624019Z",
     "shell.execute_reply": "2023-03-04T09:40:03.623869Z",
     "shell.execute_reply.started": "2023-03-04T09:40:03.623851Z"
    },
    "tags": []
   },
   "outputs": [],
   "source": [
    "# plan_merkmal Steuertabelle neu erstellen\n",
    "try:\n",
    "    del plan_merkmal\n",
    "except:\n",
    "    pass\n",
    "\n",
    "from Steuertabellen.s01_Steuertabellen import *\n",
    "plan_merkmal = plan_merkmal_erstellen()\n",
    "#pak.sample(plan_merkmal)\n",
    "grid(plan_merkmal)"
   ]
  },
  {
   "cell_type": "code",
   "execution_count": null,
   "metadata": {
    "execution": {
     "iopub.status.busy": "2023-03-04T09:40:03.624855Z",
     "iopub.status.idle": "2023-03-04T09:40:03.629395Z",
     "shell.execute_reply": "2023-03-04T09:40:03.629183Z",
     "shell.execute_reply.started": "2023-03-04T09:40:03.629158Z"
    },
    "tags": []
   },
   "outputs": [],
   "source": [
    "# Merkmale lt. Steuertabelle und lt. Realität\n",
    "mask = (plan_merkmal.plan != 2)\n",
    "merkmale_plan = set(plan_merkmal[mask].merkmal)\n",
    "merkmale_data = set(wiktionary_merkmal.merkmal.unique())"
   ]
  },
  {
   "cell_type": "code",
   "execution_count": null,
   "metadata": {
    "execution": {
     "iopub.status.busy": "2023-03-04T09:40:03.630379Z",
     "iopub.status.idle": "2023-03-04T09:40:03.631082Z",
     "shell.execute_reply": "2023-03-04T09:40:03.630929Z",
     "shell.execute_reply.started": "2023-03-04T09:40:03.630911Z"
    },
    "tags": []
   },
   "outputs": [],
   "source": [
    "# left_only:  Merkmale, die in er Realität nicht auftreten\n",
    "# right_only: Merkmale, die nicht geplant sind\n",
    "bpy.minivenn(merkmale_plan,merkmale_data,format='print2')"
   ]
  },
  {
   "cell_type": "code",
   "execution_count": null,
   "metadata": {
    "execution": {
     "iopub.status.busy": "2023-03-04T09:40:03.631906Z",
     "iopub.status.idle": "2023-03-04T09:40:03.638166Z",
     "shell.execute_reply": "2023-03-04T09:40:03.637921Z",
     "shell.execute_reply.started": "2023-03-04T09:40:03.637893Z"
    },
    "tags": []
   },
   "outputs": [],
   "source": [
    "# Fast alle in der Steuertabelle plan_merkmal erfassten Merkmale kommen in wiktionary_merkmal tatsächlich vor.\n",
    "ausnahmen = {'PTKVZ', 'Konj2', 'Konj', 'lemma', 'down_part', 'Konj1', 'Imp', 'Gerundivum', 'übersicht'}\n",
    "fehlende_merkmale = bpy.minivenn(merkmale_plan - ausnahmen,merkmale_data,format='dict')['left_only']\n",
    "assert len(fehlende_merkmale) == 0"
   ]
  },
  {
   "cell_type": "code",
   "execution_count": null,
   "metadata": {
    "execution": {
     "iopub.status.busy": "2023-03-04T09:40:03.642688Z",
     "iopub.status.idle": "2023-03-04T09:40:03.643496Z",
     "shell.execute_reply": "2023-03-04T09:40:03.643319Z",
     "shell.execute_reply.started": "2023-03-04T09:40:03.643298Z"
    },
    "tags": []
   },
   "outputs": [],
   "source": [
    "# Tauchen die Ausnahmen in wiktionary_merkmal_trash auf?\n",
    "# Sollten sie nicht.\n",
    "mask1 =  wiktionary_merkmal_trash.merkmal.isin(  ausnahmen - {'nurWortart'}  )\n",
    "mask2 = ~wiktionary_merkmal_trash.merkmal.isin(['übersicht'])\n",
    "mask = mask1  & mask2\n",
    "check_mask(wiktionary_merkmal_trash,mask,0)\n",
    "#wiktionary_merkmal_trash[mask]"
   ]
  },
  {
   "cell_type": "code",
   "execution_count": null,
   "metadata": {
    "execution": {
     "iopub.status.busy": "2023-03-04T09:40:03.644433Z",
     "iopub.status.idle": "2023-03-04T09:40:03.644814Z",
     "shell.execute_reply": "2023-03-04T09:40:03.644667Z",
     "shell.execute_reply.started": "2023-03-04T09:40:03.644650Z"
    },
    "tags": []
   },
   "outputs": [],
   "source": [
    "# alle Merkmale in wiktionary_merkmal sind in der Steuertabelle plan_merkmal erfasst\n",
    "alle_tags = set(translate_tagZ.tag) # tags werden als merkmal akzeptiert\n",
    "unregistrierte_merkmale = bpy.minivenn(merkmale_plan, merkmale_data - alle_tags, format='dict')['right_only']\n",
    "print(unregistrierte_merkmale)"
   ]
  },
  {
   "cell_type": "code",
   "execution_count": null,
   "metadata": {
    "execution": {
     "iopub.status.busy": "2023-03-04T09:40:03.647353Z",
     "iopub.status.idle": "2023-03-04T09:40:03.648291Z",
     "shell.execute_reply": "2023-03-04T09:40:03.648108Z",
     "shell.execute_reply.started": "2023-03-04T09:40:03.648087Z"
    },
    "tags": []
   },
   "outputs": [],
   "source": [
    "# Probleme anschauen\n",
    "mask = wiktionary_merkmal.merkmal.isin(unregistrierte_merkmale)\n",
    "check_mask(wiktionary_merkmal,mask,0,3)\n",
    "grid(wiktionary_merkmal, mask, color='green')"
   ]
  },
  {
   "cell_type": "code",
   "execution_count": null,
   "metadata": {
    "execution": {
     "iopub.status.busy": "2023-03-04T09:40:03.653458Z",
     "iopub.status.idle": "2023-03-04T09:40:03.654960Z",
     "shell.execute_reply": "2023-03-04T09:40:03.654651Z",
     "shell.execute_reply.started": "2023-03-04T09:40:03.654613Z"
    },
    "tags": []
   },
   "outputs": [],
   "source": [
    "# Keine nan in data\n",
    "assert pak.nnan(wiktionary_merkmal.data) == 0"
   ]
  },
  {
   "cell_type": "code",
   "execution_count": null,
   "metadata": {
    "execution": {
     "iopub.status.busy": "2023-03-04T09:40:03.656397Z",
     "iopub.status.idle": "2023-03-04T09:40:03.659431Z",
     "shell.execute_reply": "2023-03-04T09:40:03.657605Z",
     "shell.execute_reply.started": "2023-03-04T09:40:03.657571Z"
    },
    "tags": []
   },
   "outputs": [],
   "source": [
    "# Eindeutige Datentypen\n",
    "for col in wiktionary_merkmal.columns:\n",
    "    print(col)\n",
    "    if col == 'num':\n",
    "        continue\n",
    "    assert pak.ntypes(wiktionary_merkmal[col]) == 1"
   ]
  },
  {
   "cell_type": "code",
   "execution_count": null,
   "metadata": {
    "execution": {
     "iopub.status.busy": "2023-03-04T09:40:03.663393Z",
     "iopub.status.idle": "2023-03-04T09:40:03.667865Z",
     "shell.execute_reply": "2023-03-04T09:40:03.664990Z",
     "shell.execute_reply.started": "2023-03-04T09:40:03.664963Z"
    },
    "tags": []
   },
   "outputs": [],
   "source": [
    "wiktionary_merkmal.shape"
   ]
  },
  {
   "cell_type": "markdown",
   "metadata": {},
   "source": [
    "## wiktionary_lemma"
   ]
  },
  {
   "cell_type": "code",
   "execution_count": null,
   "metadata": {
    "execution": {
     "iopub.status.busy": "2023-03-04T09:40:03.669176Z",
     "iopub.status.idle": "2023-03-04T09:40:03.670272Z",
     "shell.execute_reply": "2023-03-04T09:40:03.670062Z",
     "shell.execute_reply.started": "2023-03-04T09:40:03.670036Z"
    },
    "tags": []
   },
   "outputs": [],
   "source": [
    "# suche_debug\n",
    "mask = wiktionary_lemma.lemma.isin(suche_debug) #== 'gefriergetrocknet'\n",
    "wiktionary_lemma[mask]"
   ]
  },
  {
   "cell_type": "markdown",
   "metadata": {},
   "source": [
    "### member erweitern\n",
    "* Einige Merkmale aus wiktionary_merkmal nach member in wiktionary_lemma verschieben\n",
    "* und zwar die E-Merkmale. das sind die, bei denen es einzig auf die Existenz ankommt. Diese Merkmale können keine verschiedenen Werte annehmen."
   ]
  },
  {
   "cell_type": "code",
   "execution_count": null,
   "metadata": {
    "execution": {
     "iopub.status.busy": "2023-03-04T09:40:03.671348Z",
     "iopub.status.idle": "2023-03-04T09:40:03.672571Z",
     "shell.execute_reply": "2023-03-04T09:40:03.672339Z",
     "shell.execute_reply.started": "2023-03-04T09:40:03.672311Z"
    },
    "tags": []
   },
   "outputs": [],
   "source": [
    "# noSing >> noSg\n",
    "mask = (wiktionary_merkmal.merkmal == 'noSing')\n",
    "wiktionary_merkmal.loc[mask,'merkmal'] = 'noSg'"
   ]
  },
  {
   "cell_type": "code",
   "execution_count": null,
   "metadata": {
    "execution": {
     "iopub.status.busy": "2023-03-04T09:40:03.677645Z",
     "iopub.status.idle": "2023-03-04T09:40:03.678098Z",
     "shell.execute_reply": "2023-03-04T09:40:03.677907Z",
     "shell.execute_reply.started": "2023-03-04T09:40:03.677886Z"
    },
    "tags": []
   },
   "outputs": [],
   "source": [
    "# E-Merkmale \n",
    "print(merkmale_E)"
   ]
  },
  {
   "cell_type": "code",
   "execution_count": null,
   "metadata": {
    "execution": {
     "iopub.status.busy": "2023-03-04T09:40:03.681955Z",
     "iopub.status.idle": "2023-03-04T09:40:03.689220Z",
     "shell.execute_reply": "2023-03-04T09:40:03.688847Z",
     "shell.execute_reply.started": "2023-03-04T09:40:03.688801Z"
    },
    "tags": []
   },
   "outputs": [],
   "source": [
    "# anschauen\n",
    "mask = wiktionary_merkmal.merkmal.isin(merkmale_E)\n",
    "a = pak.analyse_freqs(wiktionary_merkmal[mask],['merkmal','data']) # \n",
    "grid(a)"
   ]
  },
  {
   "cell_type": "code",
   "execution_count": null,
   "metadata": {
    "execution": {
     "iopub.status.busy": "2023-03-04T09:40:03.690940Z",
     "iopub.status.idle": "2023-03-04T09:40:03.692024Z",
     "shell.execute_reply": "2023-03-04T09:40:03.691814Z",
     "shell.execute_reply.started": "2023-03-04T09:40:03.691789Z"
    },
    "tags": []
   },
   "outputs": [],
   "source": [
    "# update-Tabelle erstellen\n",
    "mask = wiktionary_merkmal.merkmal.isin(merkmale_E)\n",
    "df = pak.group_and_agg(wiktionary_merkmal[mask], \n",
    "              col_origins=['section_id2', 'merkmal',             'merkmal',       ],\n",
    "              col_funcs  =['group',       pak.agg_words_nodup,   'count',         ],\n",
    "              col_names  =['',            'member_plus',         'count',         ],  \n",
    "             )\n",
    "#df"
   ]
  },
  {
   "cell_type": "code",
   "execution_count": null,
   "metadata": {
    "execution": {
     "iopub.status.busy": "2023-03-04T09:40:03.693199Z",
     "iopub.status.idle": "2023-03-04T09:40:03.693618Z",
     "shell.execute_reply": "2023-03-04T09:40:03.693430Z",
     "shell.execute_reply.started": "2023-03-04T09:40:03.693411Z"
    },
    "tags": []
   },
   "outputs": [],
   "source": [
    "# member_plus schreiben\n",
    "wiktionary_lemma = pak.update_col(wiktionary_lemma, df, on='section_id2', col='member_plus')"
   ]
  },
  {
   "cell_type": "code",
   "execution_count": null,
   "metadata": {
    "execution": {
     "iopub.status.busy": "2023-03-04T09:40:03.697365Z",
     "iopub.status.idle": "2023-03-04T09:40:03.698278Z",
     "shell.execute_reply": "2023-03-04T09:40:03.698100Z",
     "shell.execute_reply.started": "2023-03-04T09:40:03.698076Z"
    },
    "tags": []
   },
   "outputs": [],
   "source": [
    "# member schreiben\n",
    "mask = (wiktionary_lemma.member_plus.str.len() > 0)\n",
    "wiktionary_lemma.loc[mask,'member'] = wiktionary_lemma[mask].member + ' ' + wiktionary_lemma[mask].member_plus\n",
    "wiktionary_lemma = pak.drop_cols(wiktionary_lemma,'member_plus')\n",
    "#grid(wiktionary_lemma, mask)"
   ]
  },
  {
   "cell_type": "code",
   "execution_count": null,
   "metadata": {
    "execution": {
     "iopub.status.busy": "2023-03-04T09:40:03.699186Z",
     "iopub.status.idle": "2023-03-04T09:40:03.701739Z",
     "shell.execute_reply": "2023-03-04T09:40:03.701498Z",
     "shell.execute_reply.started": "2023-03-04T09:40:03.701468Z"
    },
    "tags": []
   },
   "outputs": [],
   "source": [
    "# wiktionary_merkmal belöschen\n",
    "mask = wiktionary_merkmal.merkmal.isin(merkmale_E)\n",
    "wiktionary_merkmal, wiktionary_merkmal_trash = pak.move_rows(df_from=wiktionary_merkmal, df_to=wiktionary_merkmal_trash, mask=mask, msg='merkmale_E')"
   ]
  },
  {
   "cell_type": "markdown",
   "metadata": {},
   "source": [
    "### member pflegen"
   ]
  },
  {
   "cell_type": "code",
   "execution_count": null,
   "metadata": {
    "execution": {
     "iopub.status.busy": "2023-03-04T09:40:03.702800Z",
     "iopub.status.idle": "2023-03-04T09:40:03.703534Z",
     "shell.execute_reply": "2023-03-04T09:40:03.703377Z",
     "shell.execute_reply.started": "2023-03-04T09:40:03.703357Z"
    },
    "tags": []
   },
   "outputs": [],
   "source": [
    "# werte_anz\n",
    "df = pak.group_and_agg(wiktionary_merkmal, \n",
    "              col_origins=['merkmal',    'data',                  ],\n",
    "              col_funcs  =['group',       pak.nunique,            ],\n",
    "              col_names  =['',           'werte_anz',             ],              \n",
    "             )\n",
    "#df"
   ]
  },
  {
   "cell_type": "code",
   "execution_count": null,
   "metadata": {
    "execution": {
     "iopub.status.busy": "2023-03-04T09:40:03.704356Z",
     "iopub.status.idle": "2023-03-04T09:40:03.709649Z",
     "shell.execute_reply": "2023-03-04T09:40:03.709334Z",
     "shell.execute_reply.started": "2023-03-04T09:40:03.709302Z"
    },
    "tags": []
   },
   "outputs": [],
   "source": [
    "# merkmale mit kleiner werte_anz\n",
    "mask = (df.werte_anz < 3)   &   ~df.merkmal.str.startswith(('Nom','Gen','Dat','Akk', 'Konj', 'Ptz1'))\n",
    "m = list(df[mask].merkmal)\n",
    "\n",
    "mask = wiktionary_merkmal.merkmal.isin(m)\n",
    "assert wiktionary_merkmal[mask].shape[0] <= 10  \n",
    "\n",
    "a = pak.analyse_freqs(wiktionary_merkmal[mask], ['merkmal','data'])\n",
    "a \n",
    "\n",
    "#wiktionary_merkmal[mask]"
   ]
  },
  {
   "cell_type": "code",
   "execution_count": null,
   "metadata": {
    "execution": {
     "iopub.status.busy": "2023-03-04T09:40:03.711340Z",
     "iopub.status.idle": "2023-03-04T09:40:03.716710Z",
     "shell.execute_reply": "2023-03-04T09:40:03.716393Z",
     "shell.execute_reply.started": "2023-03-04T09:40:03.716358Z"
    },
    "tags": []
   },
   "outputs": [],
   "source": [
    "wiktionary_merkmal[mask]"
   ]
  },
  {
   "cell_type": "code",
   "execution_count": null,
   "metadata": {
    "execution": {
     "iopub.status.busy": "2023-03-04T09:40:03.718989Z",
     "iopub.status.idle": "2023-03-04T09:40:03.720008Z",
     "shell.execute_reply": "2023-03-04T09:40:03.719819Z",
     "shell.execute_reply.started": "2023-03-04T09:40:03.719796Z"
    },
    "tags": []
   },
   "outputs": [],
   "source": [
    "# In list wandeln\n",
    "wiktionary_lemma.member = wiktionary_lemma.member.str.split()\n",
    "\n",
    "# nach Priorität sortieren (laut Steuertabellen)\n",
    "wiktionary_lemma.member = member_sortieren(wiktionary_lemma.member) \n",
    "\n",
    "# In string wandeln\n",
    "wiktionary_lemma.member = wiktionary_lemma.member.str.join(' ')"
   ]
  },
  {
   "cell_type": "code",
   "execution_count": null,
   "metadata": {
    "execution": {
     "iopub.status.busy": "2023-03-04T09:40:03.721039Z",
     "iopub.status.idle": "2023-03-04T09:40:03.721740Z",
     "shell.execute_reply": "2023-03-04T09:40:03.721585Z",
     "shell.execute_reply.started": "2023-03-04T09:40:03.721567Z"
    },
    "tags": []
   },
   "outputs": [],
   "source": [
    "# Seltene member finden\n",
    "member_selten = pak.analyse_freqs(wiktionary_lemma, ['member', 'section_id2'], splits=[' ',None])\n",
    "mask = (member_selten.member_count == 1)\n",
    "member_selten = member_selten[mask]\n",
    "member_selten_member      = list(member_selten.member)\n",
    "member_selten_section_id2 = list(member_selten.section_id2)\n",
    "\n",
    "# und entfernen\n",
    "mask = wiktionary_lemma.section_id2.isin(member_selten_section_id2)\n",
    "wiktionary_lemma.loc[mask,'member'] = pak.remove_str(wiktionary_lemma[mask].member, member_selten_member)\n",
    "#wiktionary_lemma[mask]"
   ]
  },
  {
   "cell_type": "code",
   "execution_count": null,
   "metadata": {
    "execution": {
     "iopub.status.busy": "2023-03-04T09:40:03.724970Z",
     "iopub.status.idle": "2023-03-04T09:40:03.725374Z",
     "shell.execute_reply": "2023-03-04T09:40:03.725201Z",
     "shell.execute_reply.started": "2023-03-04T09:40:03.725182Z"
    },
    "tags": []
   },
   "outputs": [],
   "source": [
    "member_selten"
   ]
  },
  {
   "cell_type": "code",
   "execution_count": null,
   "metadata": {
    "execution": {
     "iopub.status.busy": "2023-03-04T09:40:03.726626Z",
     "iopub.status.idle": "2023-03-04T09:40:03.734568Z",
     "shell.execute_reply": "2023-03-04T09:40:03.733066Z",
     "shell.execute_reply.started": "2023-03-04T09:40:03.733011Z"
    },
    "tags": []
   },
   "outputs": [],
   "source": [
    "# anschauen wiktionary_lemma\n",
    "a = pak.analyse_freqs(wiktionary_lemma,['member','tag'], splits=[' ', None])\n",
    "gridt(a)"
   ]
  },
  {
   "cell_type": "code",
   "execution_count": null,
   "metadata": {
    "execution": {
     "iopub.status.busy": "2023-03-04T09:40:03.736876Z",
     "iopub.status.idle": "2023-03-04T09:40:03.737529Z",
     "shell.execute_reply": "2023-03-04T09:40:03.737264Z",
     "shell.execute_reply.started": "2023-03-04T09:40:03.737237Z"
    },
    "tags": []
   },
   "outputs": [],
   "source": [
    "# anschauen wiktionary_nolemma\n",
    "b = pak.analyse_freqs(wiktionary_nolemma,['member','tag'], splits=[' ', None])\n",
    "gridt(b)"
   ]
  },
  {
   "cell_type": "code",
   "execution_count": null,
   "metadata": {
    "execution": {
     "iopub.status.busy": "2023-03-04T09:40:03.738960Z",
     "iopub.status.idle": "2023-03-04T09:40:03.745296Z",
     "shell.execute_reply": "2023-03-04T09:40:03.745113Z",
     "shell.execute_reply.started": "2023-03-04T09:40:03.745089Z"
    },
    "tags": []
   },
   "outputs": [],
   "source": [
    "# suche_debug\n",
    "mask = wiktionary_lemma.lemma.isin(suche_debug) #== 'gefriergetrocknet'\n",
    "wiktionary_lemma[mask]"
   ]
  },
  {
   "cell_type": "markdown",
   "metadata": {},
   "source": [
    "### member weiter pflegen"
   ]
  },
  {
   "cell_type": "code",
   "execution_count": null,
   "metadata": {
    "execution": {
     "iopub.status.busy": "2023-03-04T09:40:03.747872Z",
     "iopub.status.idle": "2023-03-04T09:40:03.748210Z",
     "shell.execute_reply": "2023-03-04T09:40:03.748073Z",
     "shell.execute_reply.started": "2023-03-04T09:40:03.748059Z"
    },
    "tags": []
   },
   "outputs": [],
   "source": [
    "# Ersetzungen im member laut member_replaces (definiert in Steuertabellen)\n",
    "print(member_replaces)\n",
    "wiktionary_lemma.loc[:,'member'] = pak.replace_str(wiktionary_lemma.member, member_replaces)"
   ]
  },
  {
   "cell_type": "code",
   "execution_count": null,
   "metadata": {
    "execution": {
     "iopub.status.busy": "2023-03-04T09:40:03.749334Z",
     "iopub.status.idle": "2023-03-04T09:40:03.749656Z",
     "shell.execute_reply": "2023-03-04T09:40:03.749524Z",
     "shell.execute_reply.started": "2023-03-04T09:40:03.749510Z"
    },
    "tags": []
   },
   "outputs": [],
   "source": [
    "# redundantes Substantiv\n",
    "mask = wiktionary_lemma.member.str.contains('Substantiv')   &   (wiktionary_lemma.tagZZ == 'N') \n",
    "check_mask( wiktionary_lemma, mask, 104832 )\n",
    "wiktionary_lemma.loc[ mask, 'member' ] = wiktionary_lemma[mask].member.str.replace('Substantiv','')"
   ]
  },
  {
   "cell_type": "code",
   "execution_count": null,
   "metadata": {
    "execution": {
     "iopub.status.busy": "2023-03-04T09:40:03.758396Z",
     "iopub.status.idle": "2023-03-04T09:40:03.759242Z",
     "shell.execute_reply": "2023-03-04T09:40:03.759068Z",
     "shell.execute_reply.started": "2023-03-04T09:40:03.759046Z"
    },
    "tags": []
   },
   "outputs": [],
   "source": [
    "# redundantes Adjektiv\n",
    "mask = wiktionary_lemma.member.str.contains('Adjektiv')   &   (wiktionary_lemma.tagZ == 'ADJ') \n",
    "check_mask( wiktionary_lemma, mask, 14312 )\n",
    "wiktionary_lemma.loc[ mask, 'member' ] = wiktionary_lemma[mask].member.str.replace('Adjektiv','')"
   ]
  },
  {
   "cell_type": "code",
   "execution_count": null,
   "metadata": {
    "execution": {
     "iopub.status.busy": "2023-03-04T09:40:03.760164Z",
     "iopub.status.idle": "2023-03-04T09:40:03.760981Z",
     "shell.execute_reply": "2023-03-04T09:40:03.760811Z",
     "shell.execute_reply.started": "2023-03-04T09:40:03.760789Z"
    },
    "tags": []
   },
   "outputs": [],
   "source": [
    "# redundantes Verb\n",
    "mask = wiktionary_lemma.member.str.contains('Verb')   &   (wiktionary_lemma.tagZZ == 'V') \n",
    "check_mask( wiktionary_lemma, mask, 14333 )\n",
    "wiktionary_lemma.loc[ mask, 'member' ] = wiktionary_lemma[mask].member.str.replace('Verb','')"
   ]
  },
  {
   "cell_type": "code",
   "execution_count": null,
   "metadata": {
    "execution": {
     "iopub.status.busy": "2023-03-04T09:40:03.765533Z",
     "iopub.status.idle": "2023-03-04T09:40:03.766280Z",
     "shell.execute_reply": "2023-03-04T09:40:03.766128Z",
     "shell.execute_reply.started": "2023-03-04T09:40:03.766109Z"
    },
    "tags": []
   },
   "outputs": [],
   "source": [
    "# redundantes istName, außerdem 1 falsches istName das NN ist\n",
    "mask = wiktionary_lemma.member.str.contains('istName')   &   ( wiktionary_lemma.tagZZ == 'N' ) \n",
    "check_mask( wiktionary_lemma, mask, 2339 )\n",
    "wiktionary_lemma.loc[ mask, 'member' ] = wiktionary_lemma[mask].member.str.replace('istName','')"
   ]
  },
  {
   "cell_type": "code",
   "execution_count": null,
   "metadata": {
    "execution": {
     "iopub.status.busy": "2023-03-04T09:40:03.767123Z",
     "iopub.status.idle": "2023-03-04T09:40:03.767800Z",
     "shell.execute_reply": "2023-03-04T09:40:03.767648Z",
     "shell.execute_reply.started": "2023-03-04T09:40:03.767630Z"
    },
    "tags": []
   },
   "outputs": [],
   "source": [
    "# redundantes Name\n",
    "mask = wiktionary_lemma.member.str.contains('Name')   &   ( wiktionary_lemma.tag_0.isin(['NE']) | wiktionary_lemma.tag_1.isin(['NE']) )\n",
    "check_mask( wiktionary_lemma, mask, 177 )\n",
    "wiktionary_lemma.loc[ mask, 'member' ] = wiktionary_lemma[mask].member.str.replace('Name','')"
   ]
  },
  {
   "cell_type": "code",
   "execution_count": null,
   "metadata": {
    "execution": {
     "iopub.status.busy": "2023-03-04T09:40:03.769515Z",
     "iopub.status.idle": "2023-03-04T09:40:03.777085Z",
     "shell.execute_reply": "2023-03-04T09:40:03.776753Z",
     "shell.execute_reply.started": "2023-03-04T09:40:03.776719Z"
    },
    "tags": []
   },
   "outputs": [],
   "source": [
    "# redundantes Konjunktion\n",
    "#mask = wiktionary_lemma.member.str.contains('Konjunktion')   &   ~wiktionary_lemma.member.str.contains('Konjunktionaladverb')   &   \\\n",
    "#     ( wiktionary_lemma.tag_0.isin(['KOUS','KON','KOKOM','KOUI']) | wiktionary_lemma.tag_1.isin(['KOUS','KON','KOKOM','KOUI']) ) \n",
    "\n",
    "mask1 =   wiktionary_lemma.member.str.contains('Konjunktion') \n",
    "mask2 =  ~wiktionary_lemma.member.str.contains('Konjunktionaladverb') \n",
    "mask3A =  wiktionary_lemma.tag_0.isin(['KOUS','KON','KOKOM','KOUI'])\n",
    "mask3B =  wiktionary_lemma.tag_1.isin(['KOUS','KON','KOKOM','KOUI'])\n",
    "mask = mask1  &  mask2  &  (mask3A | mask3B)\n",
    "check_mask( wiktionary_lemma, mask, 104 )\n",
    "\n",
    "##wiktionary_lemma.loc[ mask, 'member' ] = wiktionary_lemma[mask].member.str.replace('Konjunktion','')\n",
    "#grid(wiktionary_lemma[mask])"
   ]
  },
  {
   "cell_type": "code",
   "execution_count": null,
   "metadata": {
    "execution": {
     "iopub.status.busy": "2023-03-04T09:40:03.778160Z",
     "iopub.status.idle": "2023-03-04T09:40:03.778935Z",
     "shell.execute_reply": "2023-03-04T09:40:03.778766Z",
     "shell.execute_reply.started": "2023-03-04T09:40:03.778745Z"
    },
    "tags": []
   },
   "outputs": [],
   "source": [
    "# redundantes Indefinitpronomen\n",
    "mask = wiktionary_lemma.member.str.contains('Indefinitpronomen')   &   ( wiktionary_lemma.tag_0.isin(['PIAT','PIS']) | wiktionary_lemma.tag_1.isin(['PIAT','PIS']) )\n",
    "check_mask( wiktionary_lemma, mask, 66 )\n",
    "wiktionary_lemma.loc[ mask, 'member' ] = wiktionary_lemma[mask].member.str.replace('Indefinitpronomen','')"
   ]
  },
  {
   "cell_type": "code",
   "execution_count": null,
   "metadata": {
    "execution": {
     "iopub.status.busy": "2023-03-04T09:40:03.779869Z",
     "iopub.status.idle": "2023-03-04T09:40:03.780207Z",
     "shell.execute_reply": "2023-03-04T09:40:03.780062Z",
     "shell.execute_reply.started": "2023-03-04T09:40:03.780046Z"
    },
    "tags": []
   },
   "outputs": [],
   "source": [
    "# redundantes Interjektion\n",
    "mask = wiktionary_lemma.member.str.contains('Interjektion')   &   ( wiktionary_lemma.tag_0.isin(['ITJ']) | wiktionary_lemma.tag_1.isin(['ITJ']) )\n",
    "check_mask( wiktionary_lemma, mask, 245 )\n",
    "wiktionary_lemma.loc[ mask, 'member' ] = wiktionary_lemma[mask].member.str.replace('Interjektion','')"
   ]
  },
  {
   "cell_type": "code",
   "execution_count": null,
   "metadata": {
    "execution": {
     "iopub.status.busy": "2023-03-04T09:40:03.781331Z",
     "iopub.status.idle": "2023-03-04T09:40:03.782020Z",
     "shell.execute_reply": "2023-03-04T09:40:03.781864Z",
     "shell.execute_reply.started": "2023-03-04T09:40:03.781845Z"
    },
    "tags": []
   },
   "outputs": [],
   "source": [
    "# redundantes Adverb\n",
    "mask = wiktionary_lemma.member.str.contains('Adverb')   &   ( wiktionary_lemma.tag_0.isin(['ADV']) | wiktionary_lemma.tag_1.isin(['ADV']) )\n",
    "check_mask( wiktionary_lemma, mask, 1524 )\n",
    "wiktionary_lemma.loc[ mask, 'member' ] = wiktionary_lemma[mask].member.str.replace('Adverb','')"
   ]
  },
  {
   "cell_type": "code",
   "execution_count": null,
   "metadata": {
    "execution": {
     "iopub.status.busy": "2023-03-04T09:40:03.782896Z",
     "iopub.status.idle": "2023-03-04T09:40:03.784936Z",
     "shell.execute_reply": "2023-03-04T09:40:03.784707Z",
     "shell.execute_reply.started": "2023-03-04T09:40:03.784677Z"
    },
    "tags": []
   },
   "outputs": [],
   "source": [
    "# redundantes Subjunktion\n",
    "mask = wiktionary_lemma.member.str.contains('Subjunktion')   &   ( wiktionary_lemma.tag_0.isin(['KOUS']) | wiktionary_lemma.tag_1.isin(['KOUS']) )\n",
    "check_mask( wiktionary_lemma, mask, 58 )\n",
    "wiktionary_lemma.loc[ mask, 'member' ] = wiktionary_lemma[mask].member.str.replace('Subjunktion','')"
   ]
  },
  {
   "cell_type": "code",
   "execution_count": null,
   "metadata": {
    "execution": {
     "iopub.status.busy": "2023-03-04T09:40:03.786025Z",
     "iopub.status.idle": "2023-03-04T09:40:03.786782Z",
     "shell.execute_reply": "2023-03-04T09:40:03.786615Z",
     "shell.execute_reply.started": "2023-03-04T09:40:03.786595Z"
    },
    "tags": []
   },
   "outputs": [],
   "source": [
    "# redundantes Personalpronomen\n",
    "mask = wiktionary_lemma.member.str.contains('Personalpronomen')   &   ( wiktionary_lemma.tag_0.isin(['PPER']) | wiktionary_lemma.tag_1.isin(['PPER']) )\n",
    "check_mask( wiktionary_lemma, mask, 33 )\n",
    "wiktionary_lemma.loc[ mask, 'member' ] = wiktionary_lemma[mask].member.str.replace('Personalpronomen','')"
   ]
  },
  {
   "cell_type": "code",
   "execution_count": null,
   "metadata": {
    "execution": {
     "iopub.status.busy": "2023-03-04T09:40:03.787646Z",
     "iopub.status.idle": "2023-03-04T09:40:03.793116Z",
     "shell.execute_reply": "2023-03-04T09:40:03.792824Z",
     "shell.execute_reply.started": "2023-03-04T09:40:03.792789Z"
    },
    "tags": []
   },
   "outputs": [],
   "source": [
    "# redundantes Demonstrativpronomen\n",
    "mask = wiktionary_lemma.member.str.contains('Demonstrativpronomen')   &   ( wiktionary_lemma.tag_0.isin(['PDAT']) | wiktionary_lemma.tag_1.isin(['PDAT']) )\n",
    "check_mask( wiktionary_lemma, mask, 32 )\n",
    "wiktionary_lemma.loc[ mask, 'member' ] = wiktionary_lemma[mask].member.str.replace('Demonstrativpronomen','')"
   ]
  },
  {
   "cell_type": "code",
   "execution_count": null,
   "metadata": {
    "execution": {
     "iopub.status.busy": "2023-03-04T09:40:03.794266Z",
     "iopub.status.idle": "2023-03-04T09:40:03.797158Z",
     "shell.execute_reply": "2023-03-04T09:40:03.796833Z",
     "shell.execute_reply.started": "2023-03-04T09:40:03.796790Z"
    },
    "tags": []
   },
   "outputs": [],
   "source": [
    "# redundantes Artikel\n",
    "mask = wiktionary_lemma.member.str.contains('Artikel')   &   ( wiktionary_lemma.tag_0.isin(['ART']) | wiktionary_lemma.tag_1.isin(['ART']) )\n",
    "check_mask( wiktionary_lemma, mask, 16 )\n",
    "wiktionary_lemma.loc[ mask, 'member' ] = wiktionary_lemma[mask].member.str.replace('Artikel','')"
   ]
  },
  {
   "cell_type": "code",
   "execution_count": null,
   "metadata": {
    "execution": {
     "iopub.status.busy": "2023-03-04T09:40:03.805448Z",
     "iopub.status.idle": "2023-03-04T09:40:03.806434Z",
     "shell.execute_reply": "2023-03-04T09:40:03.806222Z",
     "shell.execute_reply.started": "2023-03-04T09:40:03.806198Z"
    },
    "tags": []
   },
   "outputs": [],
   "source": [
    "# redundantes Postposition\n",
    "mask = wiktionary_lemma.member.str.contains('Postposition')   &   ( wiktionary_lemma.tag_0.isin(['APPO']) | wiktionary_lemma.tag_1.isin(['APPO']) )\n",
    "check_mask( wiktionary_lemma, mask, 13 )\n",
    "wiktionary_lemma.loc[ mask, 'member' ] = wiktionary_lemma[mask].member.str.replace('Postposition','')"
   ]
  },
  {
   "cell_type": "code",
   "execution_count": null,
   "metadata": {
    "execution": {
     "iopub.status.busy": "2023-03-04T09:40:03.807509Z",
     "iopub.status.idle": "2023-03-04T09:40:03.808429Z",
     "shell.execute_reply": "2023-03-04T09:40:03.808235Z",
     "shell.execute_reply.started": "2023-03-04T09:40:03.808211Z"
    },
    "tags": []
   },
   "outputs": [],
   "source": [
    "# redundantes Relativpronomen\n",
    "mask = wiktionary_lemma.member.str.contains('Relativpronomen')   &   ( wiktionary_lemma.tag_0.isin(['PRELAT']) | wiktionary_lemma.tag_1.isin(['PRELAT']) )\n",
    "check_mask( wiktionary_lemma, mask, 10 )\n",
    "wiktionary_lemma.loc[ mask, 'member' ] = wiktionary_lemma[mask].member.str.replace('Relativpronomen','')"
   ]
  },
  {
   "cell_type": "code",
   "execution_count": null,
   "metadata": {
    "execution": {
     "iopub.status.busy": "2023-03-04T09:40:03.809549Z",
     "iopub.status.idle": "2023-03-04T09:40:03.810424Z",
     "shell.execute_reply": "2023-03-04T09:40:03.810231Z",
     "shell.execute_reply.started": "2023-03-04T09:40:03.810209Z"
    },
    "tags": []
   },
   "outputs": [],
   "source": [
    "# redundantes Possessivpronomen\n",
    "mask = wiktionary_lemma.member.str.contains('Possessivpronomen')   &   ( wiktionary_lemma.tag_0.isin(['PPOSS']) | wiktionary_lemma.tag_1.isin(['PPOSS']) )\n",
    "check_mask( wiktionary_lemma, mask, 9 )\n",
    "wiktionary_lemma.loc[ mask, 'member' ] = wiktionary_lemma[mask].member.str.replace('Possessivpronomen','')"
   ]
  },
  {
   "cell_type": "code",
   "execution_count": null,
   "metadata": {
    "execution": {
     "iopub.status.busy": "2023-03-04T09:40:03.811408Z",
     "iopub.status.idle": "2023-03-04T09:40:03.812903Z",
     "shell.execute_reply": "2023-03-04T09:40:03.812695Z",
     "shell.execute_reply.started": "2023-03-04T09:40:03.812669Z"
    },
    "tags": []
   },
   "outputs": [],
   "source": [
    "# redundantes Negationspartikel\n",
    "mask = wiktionary_lemma.member.str.contains('Negationspartikel')   &   ( wiktionary_lemma.tag_0.isin(['PTKNEG']) | wiktionary_lemma.tag_1.isin(['PTKNEG']) )\n",
    "check_mask( wiktionary_lemma, mask, 4 )\n",
    "wiktionary_lemma.loc[ mask, 'member' ] = wiktionary_lemma[mask].member.str.replace('Negationspartikel','')"
   ]
  },
  {
   "cell_type": "code",
   "execution_count": null,
   "metadata": {
    "execution": {
     "iopub.status.busy": "2023-03-04T09:40:03.816533Z",
     "iopub.status.idle": "2023-03-04T09:40:03.817389Z",
     "shell.execute_reply": "2023-03-04T09:40:03.817208Z",
     "shell.execute_reply.started": "2023-03-04T09:40:03.817187Z"
    },
    "tags": []
   },
   "outputs": [],
   "source": [
    "# redundantes Interrogativpronomen\n",
    "mask = wiktionary_lemma.member.str.contains('Interrogativpronomen')   &   ( wiktionary_lemma.tag_0.isin(['PWAT']) | wiktionary_lemma.tag_1.isin(['PWAT']) )\n",
    "check_mask( wiktionary_lemma, mask, 4 )\n",
    "wiktionary_lemma.loc[ mask, 'member' ] = wiktionary_lemma[mask].member.str.replace('Interrogativpronomen','')"
   ]
  },
  {
   "cell_type": "code",
   "execution_count": null,
   "metadata": {
    "execution": {
     "iopub.status.busy": "2023-03-04T09:40:03.818496Z",
     "iopub.status.idle": "2023-03-04T09:40:03.819245Z",
     "shell.execute_reply": "2023-03-04T09:40:03.819085Z",
     "shell.execute_reply.started": "2023-03-04T09:40:03.819066Z"
    },
    "tags": []
   },
   "outputs": [],
   "source": [
    "# falsches noPl (das betrifft vorwiegend NE-Datensätze)\n",
    "mask = wiktionary_lemma.member.str.contains('noPl')   &   ~wiktionary_lemma.tag_0.isin(['NN','TODO',])   &   ~wiktionary_lemma.tagZZ.isin(['P'])\n",
    "check_mask(wiktionary_lemma,mask, 1452)\n",
    "wiktionary_lemma.loc[mask,'member'] = wiktionary_lemma[mask].member.str.replace('noPl','')\n",
    "#grid( wiktionary_lemma, mask )"
   ]
  },
  {
   "cell_type": "code",
   "execution_count": null,
   "metadata": {
    "execution": {
     "iopub.status.busy": "2023-03-04T09:40:03.820131Z",
     "iopub.status.idle": "2023-03-04T09:40:03.825387Z",
     "shell.execute_reply": "2023-03-04T09:40:03.825171Z",
     "shell.execute_reply.started": "2023-03-04T09:40:03.825144Z"
    },
    "tags": []
   },
   "outputs": [],
   "source": [
    "# falsches noSg\n",
    "mask = wiktionary_lemma.member.str.contains('noSg')   &   ~wiktionary_lemma.tag_0.isin(['NN','NE','TODO','PPER'])\n",
    "check_mask(wiktionary_lemma,mask,3)\n",
    "wiktionary_lemma.loc[mask,'member'] = wiktionary_lemma[mask].member.str.replace('noSg','')\n",
    "#grid( wiktionary_lemma, mask )"
   ]
  },
  {
   "cell_type": "code",
   "execution_count": null,
   "metadata": {
    "execution": {
     "iopub.status.busy": "2023-03-04T09:40:03.826403Z",
     "iopub.status.idle": "2023-03-04T09:40:03.832374Z",
     "shell.execute_reply": "2023-03-04T09:40:03.832131Z",
     "shell.execute_reply.started": "2023-03-04T09:40:03.832104Z"
    },
    "tags": []
   },
   "outputs": [],
   "source": [
    "# falsches noSteig\n",
    "mask = wiktionary_lemma.member.str.contains('noSteig')   &   ~wiktionary_lemma.tag_0.isin(['ADJA'])\n",
    "check_mask(wiktionary_lemma,mask, 22)\n",
    "wiktionary_lemma.loc[mask,'member'] = wiktionary_lemma[mask].member.str.replace('noSteig','')"
   ]
  },
  {
   "cell_type": "code",
   "execution_count": null,
   "metadata": {
    "execution": {
     "iopub.status.busy": "2023-03-04T09:40:03.833409Z",
     "iopub.status.idle": "2023-03-04T09:40:03.834163Z",
     "shell.execute_reply": "2023-03-04T09:40:03.834002Z",
     "shell.execute_reply.started": "2023-03-04T09:40:03.833982Z"
    },
    "tags": []
   },
   "outputs": [],
   "source": [
    "# falsches noFlex\n",
    "mask = wiktionary_lemma.member.str.contains('noFlex')   &   ~wiktionary_lemma.tagZ.isin(['ADJ',])\n",
    "check_mask( wiktionary_lemma, mask, 2 )\n",
    "wiktionary_lemma.loc[ mask, 'member' ] = wiktionary_lemma[mask].member.str.replace('noFlex','')"
   ]
  },
  {
   "cell_type": "code",
   "execution_count": null,
   "metadata": {
    "execution": {
     "iopub.status.busy": "2023-03-04T09:40:03.836699Z",
     "iopub.status.idle": "2023-03-04T09:40:03.837752Z",
     "shell.execute_reply": "2023-03-04T09:40:03.837510Z",
     "shell.execute_reply.started": "2023-03-04T09:40:03.837481Z"
    },
    "tags": []
   },
   "outputs": [],
   "source": [
    "# falsches Interjektion\n",
    "mask = wiktionary_lemma.member.str.contains('Interjektion')  &   wiktionary_lemma.tag_0.isin(['PTKANT',])\n",
    "check_mask( wiktionary_lemma, mask, 31 )\n",
    "wiktionary_lemma.loc[ mask, 'member' ] = wiktionary_lemma[mask].member.str.replace('Interjektion','')"
   ]
  },
  {
   "cell_type": "code",
   "execution_count": null,
   "metadata": {
    "execution": {
     "iopub.status.busy": "2023-03-04T09:40:03.841187Z",
     "iopub.status.idle": "2023-03-04T09:40:03.842093Z",
     "shell.execute_reply": "2023-03-04T09:40:03.841909Z",
     "shell.execute_reply.started": "2023-03-04T09:40:03.841886Z"
    },
    "tags": []
   },
   "outputs": [],
   "source": [
    "# falsches Präfix\n",
    "mask = wiktionary_lemma.member.str.contains('Präfix')   &   ~wiktionary_lemma.tagZ.isin(['FIX',])\n",
    "check_mask( wiktionary_lemma, mask, 3 )\n",
    "wiktionary_lemma.loc[ mask, 'member' ] = wiktionary_lemma[mask].member.str.replace('Präfix','')"
   ]
  },
  {
   "cell_type": "code",
   "execution_count": null,
   "metadata": {
    "execution": {
     "iopub.status.busy": "2023-03-04T09:40:03.843064Z",
     "iopub.status.idle": "2023-03-04T09:40:03.843831Z",
     "shell.execute_reply": "2023-03-04T09:40:03.843647Z",
     "shell.execute_reply.started": "2023-03-04T09:40:03.843626Z"
    },
    "tags": []
   },
   "outputs": [],
   "source": [
    "# Taxonomie >> Spezies\n",
    "mask = wiktionary_lemma.member.str.contains('Taxonomie')   &   (wiktionary_lemma.tagZZ == 'N') \n",
    "check_mask( wiktionary_lemma, mask, 169 )\n",
    "wiktionary_lemma.loc[ mask, 'member' ] = wiktionary_lemma[mask].member.str.replace('Taxonomie','Spezies')"
   ]
  },
  {
   "cell_type": "code",
   "execution_count": null,
   "metadata": {
    "execution": {
     "iopub.status.busy": "2023-03-04T09:40:03.844885Z",
     "iopub.status.idle": "2023-03-04T09:40:03.849590Z",
     "shell.execute_reply": "2023-03-04T09:40:03.849301Z",
     "shell.execute_reply.started": "2023-03-04T09:40:03.849265Z"
    },
    "tags": []
   },
   "outputs": [],
   "source": [
    "# falsches Vorname\n",
    "mask = wiktionary_lemma.member.str.contains('Person_vorname')   &   ~wiktionary_lemma.tag_0.isin(['NE'])\n",
    "check_mask( wiktionary_lemma, mask, 1 )\n",
    "wiktionary_lemma.loc[ mask, 'member' ] = wiktionary_lemma[mask].member.str.replace('Person_vorname','')\n",
    "#grid( wiktionary_lemma, mask )"
   ]
  },
  {
   "cell_type": "code",
   "execution_count": null,
   "metadata": {
    "execution": {
     "iopub.status.busy": "2023-03-04T09:40:03.854180Z",
     "iopub.status.idle": "2023-03-04T09:40:03.855169Z",
     "shell.execute_reply": "2023-03-04T09:40:03.854960Z",
     "shell.execute_reply.started": "2023-03-04T09:40:03.854935Z"
    },
    "tags": []
   },
   "outputs": [],
   "source": [
    "# Streichungen im member       \n",
    "member_removes = [ 'Numerale', 'Pronomen', 'noWortart', 'Hilfsverb', 'Taxonomie', 'Geflügeltes_Wort', ] \n",
    "\n",
    "wiktionary_lemma.loc[:,'member'] = pak.remove_str(wiktionary_lemma.member, member_removes)"
   ]
  },
  {
   "cell_type": "code",
   "execution_count": null,
   "metadata": {
    "execution": {
     "iopub.status.busy": "2023-03-04T09:40:03.856201Z",
     "iopub.status.idle": "2023-03-04T09:40:03.857051Z",
     "shell.execute_reply": "2023-03-04T09:40:03.856878Z",
     "shell.execute_reply.started": "2023-03-04T09:40:03.856855Z"
    },
    "tags": []
   },
   "outputs": [],
   "source": [
    "# wiktionary_lemma_bak = wiktionary_lemma.copy()\n",
    "#wiktionary_lemma = wiktionary_lemma_bak.copy()"
   ]
  },
  {
   "cell_type": "code",
   "execution_count": null,
   "metadata": {
    "execution": {
     "iopub.status.busy": "2023-03-04T09:40:03.858027Z",
     "iopub.status.idle": "2023-03-04T09:40:03.865524Z",
     "shell.execute_reply": "2023-03-04T09:40:03.865287Z",
     "shell.execute_reply.started": "2023-03-04T09:40:03.865259Z"
    },
    "tags": []
   },
   "outputs": [],
   "source": [
    "# Substantiv aber kein NN\n",
    "mask1 =  wiktionary_lemma.member.str.contains('Substantiv')\n",
    "mask2 = ~wiktionary_lemma.tag.str.contains(' ')\n",
    "mask = mask1  &  mask2\n",
    "check_mask(wiktionary_lemma,mask,3)\n",
    "wiktionary_lemma.loc[mask,'tag'] = 'NN ' + wiktionary_lemma[mask].tag\n",
    "wiktionary_lemma[mask]"
   ]
  },
  {
   "cell_type": "code",
   "execution_count": null,
   "metadata": {
    "execution": {
     "iopub.status.busy": "2023-03-04T09:40:03.866791Z",
     "iopub.status.idle": "2023-03-04T09:40:03.867612Z",
     "shell.execute_reply": "2023-03-04T09:40:03.867436Z",
     "shell.execute_reply.started": "2023-03-04T09:40:03.867412Z"
    },
    "tags": []
   },
   "outputs": [],
   "source": [
    "# korrigieren\n",
    "wiktionary_lemma, df = pak.move_rows(wiktionary_lemma,mask,msg=None)\n",
    "df = pflege_tag_felder(df, translate_tagZ)\n",
    "wiktionary_lemma = pak.add_rows(wiktionary_lemma,df)"
   ]
  },
  {
   "cell_type": "code",
   "execution_count": null,
   "metadata": {
    "execution": {
     "iopub.status.busy": "2023-03-04T09:40:03.868618Z",
     "iopub.status.idle": "2023-03-04T09:40:03.872762Z",
     "shell.execute_reply": "2023-03-04T09:40:03.872420Z",
     "shell.execute_reply.started": "2023-03-04T09:40:03.872372Z"
    },
    "tags": []
   },
   "outputs": [],
   "source": [
    "# anschauen\n",
    "mask1 =  wiktionary_lemma.member.str.contains('Substantiv')\n",
    "mask2 =  wiktionary_lemma.tag.str.contains(' ')\n",
    "mask = mask1  &  mask2\n",
    "pak.analyse_freqs(wiktionary_lemma[mask],['tag','lemma'])"
   ]
  },
  {
   "cell_type": "markdown",
   "metadata": {},
   "source": [
    "### member prüfen"
   ]
  },
  {
   "cell_type": "code",
   "execution_count": null,
   "metadata": {
    "execution": {
     "iopub.status.busy": "2023-03-04T09:40:03.874005Z",
     "iopub.status.idle": "2023-03-04T09:40:03.874965Z",
     "shell.execute_reply": "2023-03-04T09:40:03.874753Z",
     "shell.execute_reply.started": "2023-03-04T09:40:03.874729Z"
    },
    "tags": []
   },
   "outputs": [],
   "source": [
    "# alle member in den realen Daten zusammensammeln\n",
    "\n",
    "a = pak.analyse_freqs(wiktionary_lemma, ['member','tag'], splits=[' ', None] )\n",
    "#grid(a)\n",
    "\n",
    "b = pak.analyse_freqs(wiktionary_nolemma, ['member','tag'], splits=[' ', None] )\n",
    "#grid(b)\n",
    "\n",
    "# Member lt. Steuertabelle und lt. Realität\n",
    "member_plan = set(priorität_member) #- set(member_replaces.keys())\n",
    "\n",
    "member_data1 = set(a.member)\n",
    "member_data2 = set(b.member)\n",
    "member_data  = member_data1.union(member_data2)\n",
    "#member_data"
   ]
  },
  {
   "cell_type": "code",
   "execution_count": null,
   "metadata": {
    "execution": {
     "iopub.status.busy": "2023-03-04T09:40:03.876057Z",
     "iopub.status.idle": "2023-03-04T09:40:03.879816Z",
     "shell.execute_reply": "2023-03-04T09:40:03.879524Z",
     "shell.execute_reply.started": "2023-03-04T09:40:03.879489Z"
    },
    "tags": []
   },
   "outputs": [],
   "source": [
    "# left_only:  member, die geplant sind aber in der Realität nicht vorkommen\n",
    "# right_only: member, die in der Realität vorkommen aber nicht geplant sind\n",
    "bpy.minivenn( member_plan, member_data, format='print2')"
   ]
  },
  {
   "cell_type": "code",
   "execution_count": null,
   "metadata": {
    "execution": {
     "iopub.status.busy": "2023-03-04T09:40:03.883855Z",
     "iopub.status.idle": "2023-03-04T09:40:03.888569Z",
     "shell.execute_reply": "2023-03-04T09:40:03.888257Z",
     "shell.execute_reply.started": "2023-03-04T09:40:03.888223Z"
    },
    "tags": []
   },
   "outputs": [],
   "source": [
    "# alle Merkmale in wiktionary_merkmal sollten in der Steuertabelle plan_merkmal erfasst sein.\n",
    "ungeplante_member = bpy.minivenn(member_plan,member_data)['right_only'] - {''}\n",
    "assert len(ungeplante_member) == 0"
   ]
  },
  {
   "cell_type": "code",
   "execution_count": null,
   "metadata": {
    "execution": {
     "iopub.status.busy": "2023-03-04T09:40:03.889821Z",
     "iopub.status.idle": "2023-03-04T09:40:03.891216Z",
     "shell.execute_reply": "2023-03-04T09:40:03.890832Z",
     "shell.execute_reply.started": "2023-03-04T09:40:03.890790Z"
    },
    "tags": []
   },
   "outputs": [],
   "source": [
    "# Beispiel anzeigen \n",
    "mask = (wiktionary_merkmal.section_id2 == suche_debug[0])\n",
    "grid(wiktionary_merkmal,mask)"
   ]
  },
  {
   "cell_type": "markdown",
   "metadata": {},
   "source": [
    "### wiktionary_lemma pflegen und prüfen\n",
    "* Diverse Pflegeschritte"
   ]
  },
  {
   "cell_type": "code",
   "execution_count": null,
   "metadata": {
    "execution": {
     "iopub.status.busy": "2023-03-04T09:40:03.895920Z",
     "iopub.status.idle": "2023-03-04T09:40:03.897890Z",
     "shell.execute_reply": "2023-03-04T09:40:03.897541Z",
     "shell.execute_reply.started": "2023-03-04T09:40:03.897514Z"
    },
    "tags": []
   },
   "outputs": [],
   "source": [
    "# lemma_lower, isupper, lemma_len\n",
    "wiktionary_lemma = ergänze_felder(wiktionary_lemma)"
   ]
  },
  {
   "cell_type": "code",
   "execution_count": null,
   "metadata": {
    "execution": {
     "iopub.status.busy": "2023-03-04T09:40:03.901346Z",
     "iopub.status.idle": "2023-03-04T09:40:03.902503Z",
     "shell.execute_reply": "2023-03-04T09:40:03.902283Z",
     "shell.execute_reply.started": "2023-03-04T09:40:03.902256Z"
    },
    "tags": []
   },
   "outputs": [],
   "source": [
    "# Eindeutige Datentypen\n",
    "for col in wiktionary_lemma.columns:\n",
    "    print(col)\n",
    "    if col in ['num','error']:\n",
    "        continue\n",
    "    assert pak.ntypes(wiktionary_lemma[col]) == 1"
   ]
  },
  {
   "cell_type": "code",
   "execution_count": null,
   "metadata": {
    "execution": {
     "iopub.status.busy": "2023-03-04T09:40:03.910080Z",
     "iopub.status.idle": "2023-03-04T09:40:03.911385Z",
     "shell.execute_reply": "2023-03-04T09:40:03.911102Z",
     "shell.execute_reply.started": "2023-03-04T09:40:03.911071Z"
    },
    "tags": []
   },
   "outputs": [],
   "source": [
    "# Keine unbekannten tags\n",
    "a = pak.analyse_freqs(wiktionary_lemma, ['tag'], splits=[' '])\n",
    "mask = ~a.tag.isin(alle_tags)\n",
    "check_mask( a, mask, 0)\n",
    "a[mask]"
   ]
  },
  {
   "cell_type": "code",
   "execution_count": null,
   "metadata": {
    "execution": {
     "iopub.status.busy": "2023-03-04T09:40:03.913127Z",
     "iopub.status.idle": "2023-03-04T09:40:03.919572Z",
     "shell.execute_reply": "2023-03-04T09:40:03.919159Z",
     "shell.execute_reply.started": "2023-03-04T09:40:03.919123Z"
    },
    "tags": []
   },
   "outputs": [],
   "source": [
    "# finden\n",
    "mask = wiktionary_lemma.tag == 'Zirkumfix'\n",
    "grid(wiktionary_lemma, mask, color='green')"
   ]
  },
  {
   "cell_type": "code",
   "execution_count": null,
   "metadata": {
    "execution": {
     "iopub.status.busy": "2023-03-04T09:40:03.921051Z",
     "iopub.status.idle": "2023-03-04T09:40:03.921962Z",
     "shell.execute_reply": "2023-03-04T09:40:03.921434Z",
     "shell.execute_reply.started": "2023-03-04T09:40:03.921398Z"
    },
    "tags": []
   },
   "outputs": [],
   "source": [
    "# NaN\n",
    "wiktionary_lemma['page_id']   = wiktionary_lemma.page_id.fillna(-1) \n",
    "wiktionary_lemma['page_part'] = wiktionary_lemma.page_part.fillna(-1) "
   ]
  },
  {
   "cell_type": "markdown",
   "metadata": {},
   "source": [
    "## Letzte Pflegeschritte"
   ]
  },
  {
   "cell_type": "code",
   "execution_count": null,
   "metadata": {
    "execution": {
     "iopub.status.busy": "2023-03-04T09:40:03.924271Z",
     "iopub.status.idle": "2023-03-04T09:40:03.926747Z",
     "shell.execute_reply": "2023-03-04T09:40:03.926540Z",
     "shell.execute_reply.started": "2023-03-04T09:40:03.926516Z"
    },
    "tags": []
   },
   "outputs": [],
   "source": [
    "wiktionary_lemma        = pak.reset_index( wiktionary_lemma.sort_values('section_id2') )"
   ]
  },
  {
   "cell_type": "code",
   "execution_count": null,
   "metadata": {
    "execution": {
     "iopub.status.busy": "2023-03-04T09:40:03.928740Z",
     "iopub.status.idle": "2023-03-04T09:40:03.929127Z",
     "shell.execute_reply": "2023-03-04T09:40:03.928962Z",
     "shell.execute_reply.started": "2023-03-04T09:40:03.928944Z"
    },
    "tags": []
   },
   "outputs": [],
   "source": [
    "wiktionary_nolemma      = pak.drop_cols(wiktionary_nolemma,['lang','lang_code','error'])\n",
    "wiktionary_nolemma      = pak.move_cols(wiktionary_nolemma,'lemma_lower','lemma')"
   ]
  },
  {
   "cell_type": "code",
   "execution_count": null,
   "metadata": {
    "execution": {
     "iopub.status.busy": "2023-03-04T09:40:03.933776Z",
     "iopub.status.idle": "2023-03-04T09:40:03.934162Z",
     "shell.execute_reply": "2023-03-04T09:40:03.934002Z",
     "shell.execute_reply.started": "2023-03-04T09:40:03.933984Z"
    },
    "tags": []
   },
   "outputs": [],
   "source": [
    "#wiktionary_merkmal_bak = wiktionary_merkmal.copy()"
   ]
  },
  {
   "cell_type": "code",
   "execution_count": null,
   "metadata": {
    "execution": {
     "iopub.status.busy": "2023-03-04T09:40:03.945508Z",
     "iopub.status.idle": "2023-03-04T09:40:03.945919Z",
     "shell.execute_reply": "2023-03-04T09:40:03.945746Z",
     "shell.execute_reply.started": "2023-03-04T09:40:03.945727Z"
    },
    "tags": []
   },
   "outputs": [],
   "source": [
    "# score übertragen und ggf. ergänzen\n",
    "wiktionary_merkmal = pak.update_col(df_to=wiktionary_merkmal, df_from=wiktionary_lemma,        on='section_id2',                        col='lemma_score', col_rename='data_score', func='max', cond='null')\n",
    "wiktionary_merkmal = pak.update_col(df_to=wiktionary_merkmal, df_from=wiktionary_nolemma, left_on='section_id2', right_on='nolemma_id', col='data_score',                           func='max', cond='null')\n",
    "wiktionary_merkmal['data_score'] = wiktionary_merkmal.data_score.fillna(wiktionary_merkmal.data_score.quantile(0.5)).astype('float')"
   ]
  },
  {
   "cell_type": "code",
   "execution_count": null,
   "metadata": {
    "execution": {
     "iopub.status.busy": "2023-03-04T09:40:03.947282Z",
     "iopub.status.idle": "2023-03-04T09:40:03.947691Z",
     "shell.execute_reply": "2023-03-04T09:40:03.947538Z",
     "shell.execute_reply.started": "2023-03-04T09:40:03.947520Z"
    },
    "tags": []
   },
   "outputs": [],
   "source": [
    "# Keine Leerzeichen in der ID\n",
    "mask = wiktionary_lemma.section_id2.str.contains(' ')\n",
    "check_mask(wiktionary_lemma,mask,0)\n",
    "\n",
    "mask = wiktionary_nolemma.nolemma_id.str.contains(' ')\n",
    "check_mask(wiktionary_nolemma,mask,0)\n",
    "\n",
    "mask = wiktionary_merkmal.section_id2.str.contains(' ')\n",
    "check_mask(wiktionary_merkmal,mask,0)"
   ]
  },
  {
   "cell_type": "markdown",
   "metadata": {},
   "source": [
    "## Löschliste nochmal"
   ]
  },
  {
   "cell_type": "code",
   "execution_count": null,
   "metadata": {
    "execution": {
     "iopub.status.busy": "2023-03-04T09:40:03.949436Z",
     "iopub.status.idle": "2023-03-04T09:40:03.950881Z",
     "shell.execute_reply": "2023-03-04T09:40:03.950688Z",
     "shell.execute_reply.started": "2023-03-04T09:40:03.950664Z"
    }
   },
   "outputs": [],
   "source": [
    "# wiktionary_lemma belöschen nach section_id2\n",
    "mask = wiktionary_lemma.section_id2.isin(löschliste_section_id2)   \n",
    "\n",
    "msg='löschliste_B1'\n",
    "wiktionary_lemma, wiktionary_lemma_trash = pak.move_rows( df_from=wiktionary_lemma, df_to=wiktionary_lemma_trash, mask=mask, msg=msg)       # Löschen\n",
    "grid(wiktionary_lemma_trash,msg)"
   ]
  },
  {
   "cell_type": "code",
   "execution_count": null,
   "metadata": {
    "execution": {
     "iopub.status.busy": "2023-03-04T09:40:03.954962Z",
     "iopub.status.idle": "2023-03-04T09:40:03.956859Z",
     "shell.execute_reply": "2023-03-04T09:40:03.955246Z",
     "shell.execute_reply.started": "2023-03-04T09:40:03.955224Z"
    }
   },
   "outputs": [],
   "source": [
    "# wiktionary_lemma belöschen nach lex\n",
    "mask = wiktionary_lemma.lemma.isin(löschliste_lex)\n",
    "\n",
    "msg='löschliste_B2'\n",
    "wiktionary_lemma, wiktionary_lemma_trash = pak.move_rows( df_from=wiktionary_lemma, df_to=wiktionary_lemma_trash, mask=mask, msg=msg)       # Löschen\n",
    "grid(wiktionary_lemma_trash,msg)"
   ]
  },
  {
   "cell_type": "code",
   "execution_count": null,
   "metadata": {
    "execution": {
     "iopub.status.busy": "2023-03-04T09:40:03.964068Z",
     "iopub.status.idle": "2023-03-04T09:40:03.966024Z",
     "shell.execute_reply": "2023-03-04T09:40:03.965461Z",
     "shell.execute_reply.started": "2023-03-04T09:40:03.964383Z"
    }
   },
   "outputs": [],
   "source": [
    "# wiktionary_nolemma belöschen nach lex\n",
    "mask = wiktionary_nolemma.lemma.isin(löschliste_lex)   \n",
    "\n",
    "msg='löschliste_B3'\n",
    "wiktionary_nolemma, wiktionary_nolemma_trash = pak.move_rows( df_from=wiktionary_nolemma, df_to=wiktionary_nolemma_trash, mask=mask, msg=msg )\n",
    "grid(wiktionary_nolemma_trash,msg)"
   ]
  },
  {
   "cell_type": "code",
   "execution_count": null,
   "metadata": {
    "execution": {
     "iopub.status.busy": "2023-03-04T09:40:03.968899Z",
     "iopub.status.idle": "2023-03-04T09:40:03.969351Z",
     "shell.execute_reply": "2023-03-04T09:40:03.969162Z",
     "shell.execute_reply.started": "2023-03-04T09:40:03.969141Z"
    }
   },
   "outputs": [],
   "source": [
    "# wiktionary_nolemma belöschen nach lex\n",
    "mask = wiktionary_nolemma.lex.isin(löschliste_lex)   \n",
    "\n",
    "msg='löschliste_B4'\n",
    "wiktionary_nolemma, wiktionary_nolemma_trash = pak.move_rows( df_from=wiktionary_nolemma, df_to=wiktionary_nolemma_trash, mask=mask, msg=msg )\n",
    "grid(wiktionary_nolemma_trash,msg)"
   ]
  },
  {
   "cell_type": "code",
   "execution_count": null,
   "metadata": {
    "execution": {
     "iopub.status.busy": "2023-03-04T09:40:03.975213Z",
     "iopub.status.idle": "2023-03-04T09:40:03.976761Z",
     "shell.execute_reply": "2023-03-04T09:40:03.976540Z",
     "shell.execute_reply.started": "2023-03-04T09:40:03.976513Z"
    }
   },
   "outputs": [],
   "source": [
    "# wiktionary_merkmal belöschen nach section_id2\n",
    "mask = wiktionary_merkmal.section_id2.isin(löschliste_section_id2) \n",
    "\n",
    "msg='löschliste_B5'\n",
    "wiktionary_merkmal, wiktionary_merkmal_trash = pak.move_rows(df_from=wiktionary_merkmal, df_to=wiktionary_merkmal_trash, mask=mask, msg=msg)\n",
    "grid(wiktionary_merkmal_trash,msg)"
   ]
  },
  {
   "cell_type": "code",
   "execution_count": null,
   "metadata": {
    "execution": {
     "iopub.status.busy": "2023-03-04T09:40:03.981269Z",
     "iopub.status.idle": "2023-03-04T09:40:03.982133Z",
     "shell.execute_reply": "2023-03-04T09:40:03.981953Z",
     "shell.execute_reply.started": "2023-03-04T09:40:03.981931Z"
    }
   },
   "outputs": [],
   "source": [
    "# wiktionary_merkmal belöschen nach lex\n",
    "mask = wiktionary_merkmal.data.isin(löschliste_lex) \n",
    "\n",
    "msg='löschliste_B6'\n",
    "wiktionary_merkmal, wiktionary_merkmal_trash = pak.move_rows(df_from=wiktionary_merkmal, df_to=wiktionary_merkmal_trash, mask=mask, msg=msg)\n",
    "grid(wiktionary_merkmal_trash,msg)"
   ]
  },
  {
   "cell_type": "code",
   "execution_count": null,
   "metadata": {
    "execution": {
     "iopub.status.busy": "2023-03-04T09:40:03.983199Z",
     "iopub.status.idle": "2023-03-04T09:40:03.989003Z",
     "shell.execute_reply": "2023-03-04T09:40:03.988750Z",
     "shell.execute_reply.started": "2023-03-04T09:40:03.988720Z"
    }
   },
   "outputs": [],
   "source": [
    "# wiktionary_merkmal belöschen nach data\n",
    "mask = wiktionary_merkmal.data.isin(löschliste_data) \n",
    "\n",
    "msg='löschliste_B7'\n",
    "wiktionary_merkmal, wiktionary_merkmal_trash = pak.move_rows(df_from=wiktionary_merkmal, df_to=wiktionary_merkmal_trash, mask=mask, msg=msg)\n",
    "grid(wiktionary_merkmal_trash,msg)"
   ]
  },
  {
   "cell_type": "markdown",
   "metadata": {},
   "source": [
    "## Prüfen"
   ]
  },
  {
   "cell_type": "code",
   "execution_count": null,
   "metadata": {
    "execution": {
     "iopub.status.busy": "2023-03-04T09:40:03.990265Z",
     "iopub.status.idle": "2023-03-04T09:40:03.991050Z",
     "shell.execute_reply": "2023-03-04T09:40:03.990884Z",
     "shell.execute_reply.started": "2023-03-04T09:40:03.990864Z"
    },
    "tags": []
   },
   "outputs": [],
   "source": [
    "# lex_test, lemma_test\n",
    "from x32_Funktionen import *\n",
    "lex_test, lemma_test = lade_lex_text( lex_test_filename, level=1 )\n",
    "#grid(lemma_test)"
   ]
  },
  {
   "cell_type": "code",
   "execution_count": null,
   "metadata": {
    "execution": {
     "iopub.status.busy": "2023-03-04T09:40:03.991937Z",
     "iopub.status.idle": "2023-03-04T09:40:03.992655Z",
     "shell.execute_reply": "2023-03-04T09:40:03.992486Z",
     "shell.execute_reply.started": "2023-03-04T09:40:03.992468Z"
    },
    "tags": []
   },
   "outputs": [],
   "source": [
    "# lemma_test\n",
    "from x32_Funktionen import *\n",
    "lemma_test = check_lemma_test(lemma_test, wiktionary_lemma)\n",
    "#lemma_test"
   ]
  },
  {
   "cell_type": "code",
   "execution_count": null,
   "metadata": {
    "execution": {
     "iopub.status.busy": "2023-03-04T09:40:03.993497Z",
     "iopub.status.idle": "2023-03-04T09:40:03.997001Z",
     "shell.execute_reply": "2023-03-04T09:40:03.996744Z",
     "shell.execute_reply.started": "2023-03-04T09:40:03.996712Z"
    },
    "tags": []
   },
   "outputs": [],
   "source": [
    "# Fehler\n",
    "maskA = lemma_test.lemma_id == ''\n",
    "maskB = lemma_test.check_tag == ''\n",
    "mask = maskA | maskB\n",
    "check_mask(lemma_test,mask)\n",
    "\n",
    "probleme = list(lemma_test[mask].lemma)\n",
    "lemma_test[mask]"
   ]
  },
  {
   "cell_type": "code",
   "execution_count": null,
   "metadata": {
    "execution": {
     "iopub.status.busy": "2023-03-04T09:40:03.998085Z",
     "iopub.status.idle": "2023-03-04T09:40:03.998861Z",
     "shell.execute_reply": "2023-03-04T09:40:03.998694Z",
     "shell.execute_reply.started": "2023-03-04T09:40:03.998673Z"
    },
    "tags": []
   },
   "outputs": [],
   "source": [
    "# Sicherstellen: Keine Fehler\n",
    "check_mask(lemma_test,mask,0)"
   ]
  },
  {
   "cell_type": "markdown",
   "metadata": {},
   "source": [
    "## Speichern"
   ]
  },
  {
   "cell_type": "code",
   "execution_count": null,
   "metadata": {
    "execution": {
     "iopub.status.busy": "2023-03-04T09:40:04.005478Z",
     "iopub.status.idle": "2023-03-04T09:40:04.006312Z",
     "shell.execute_reply": "2023-03-04T09:40:04.006136Z",
     "shell.execute_reply.started": "2023-03-04T09:40:04.006114Z"
    }
   },
   "outputs": [],
   "source": [
    "# Doppelspaces prüfen\n",
    "if gründlich:\n",
    "    mask = wiktionary_merkmal.data.str.contains('  ')\n",
    "    check_mask( wiktionary_merkmal, mask, 0)"
   ]
  },
  {
   "cell_type": "code",
   "execution_count": null,
   "metadata": {
    "execution": {
     "iopub.status.busy": "2023-03-04T09:40:04.007189Z",
     "iopub.status.idle": "2023-03-04T09:40:04.007892Z",
     "shell.execute_reply": "2023-03-04T09:40:04.007734Z",
     "shell.execute_reply.started": "2023-03-04T09:40:04.007715Z"
    }
   },
   "outputs": [],
   "source": [
    "pak.analyse_cols(wiktionary_merkmal)"
   ]
  },
  {
   "cell_type": "code",
   "execution_count": null,
   "metadata": {
    "execution": {
     "iopub.status.busy": "2023-03-04T09:40:04.008766Z",
     "iopub.status.idle": "2023-03-04T09:40:04.009494Z",
     "shell.execute_reply": "2023-03-04T09:40:04.009331Z",
     "shell.execute_reply.started": "2023-03-04T09:40:04.009312Z"
    }
   },
   "outputs": [],
   "source": [
    "# wiktionary_merkmal: drop_duplicates\n",
    "wiktionary_merkmal = wiktionary_merkmal.drop_duplicates()"
   ]
  },
  {
   "cell_type": "code",
   "execution_count": null,
   "metadata": {
    "execution": {
     "iopub.status.busy": "2023-03-04T09:40:04.010343Z",
     "iopub.status.idle": "2023-03-04T09:40:04.015951Z",
     "shell.execute_reply": "2023-03-04T09:40:04.015706Z",
     "shell.execute_reply.started": "2023-03-04T09:40:04.015676Z"
    }
   },
   "outputs": [],
   "source": [
    "assert gründlich"
   ]
  },
  {
   "cell_type": "code",
   "execution_count": null,
   "metadata": {
    "execution": {
     "iopub.status.busy": "2023-03-04T09:40:04.017045Z",
     "iopub.status.idle": "2023-03-04T09:40:04.017824Z",
     "shell.execute_reply": "2023-03-04T09:40:04.017657Z",
     "shell.execute_reply.started": "2023-03-04T09:40:04.017636Z"
    }
   },
   "outputs": [],
   "source": [
    "# Speichern  \n",
    "pak.dump_pickle(wiktionary_lemma,            wiktionary_lemma_filename_save)   \n",
    "pak.dump_pickle(wiktionary_nolemma,          wiktionary_nolemma_filename_save)  \n",
    "pak.dump_pickle(wiktionary_merkmal,          wiktionary_merkmal_filename_save) \n",
    "pak.dump_pickle(wiktionary_merkmal_text,     wiktionary_merkmal_text_filename_save)  \n",
    "os.utime(verzeichnis_save)"
   ]
  },
  {
   "cell_type": "code",
   "execution_count": null,
   "metadata": {
    "colab": {
     "base_uri": "https://localhost:8080/"
    },
    "execution": {
     "iopub.status.busy": "2023-03-04T09:40:04.018677Z",
     "iopub.status.idle": "2023-03-04T09:40:04.019372Z",
     "shell.execute_reply": "2023-03-04T09:40:04.019223Z",
     "shell.execute_reply.started": "2023-03-04T09:40:04.019204Z"
    },
    "executionInfo": {
     "elapsed": 7425,
     "status": "ok",
     "timestamp": 1676479015113,
     "user": {
      "displayName": "Hups Hopsalla",
      "userId": "10020718461385065661"
     },
     "user_tz": -60
    },
    "id": "dbiDceKXyUx7",
    "outputId": "beb0cf2a-bc86-47c4-81e6-b11c7354957c"
   },
   "outputs": [],
   "source": [
    "# Save in Google Drive\n",
    "if environment['in_colab']:\n",
    "    from google.colab import drive\n",
    "    drive.mount('/content/drive') \n",
    "    !cd /content\n",
    "    !cp -av {verzeichnis_save} /content/drive/MyDrive"
   ]
  },
  {
   "cell_type": "code",
   "execution_count": null,
   "metadata": {
    "execution": {
     "iopub.status.busy": "2023-03-04T09:40:04.022484Z",
     "iopub.status.idle": "2023-03-04T09:40:04.023346Z",
     "shell.execute_reply": "2023-03-04T09:40:04.023167Z",
     "shell.execute_reply.started": "2023-03-04T09:40:04.023145Z"
    }
   },
   "outputs": [],
   "source": [
    "pak.memory_consumption(locals())"
   ]
  },
  {
   "cell_type": "markdown",
   "metadata": {},
   "source": [
    "## Trash anschauen"
   ]
  },
  {
   "cell_type": "markdown",
   "metadata": {},
   "source": [
    "### wiktionary_trash"
   ]
  },
  {
   "cell_type": "code",
   "execution_count": null,
   "metadata": {
    "execution": {
     "iopub.status.busy": "2023-03-04T09:40:04.024266Z",
     "iopub.status.idle": "2023-03-04T09:40:04.028045Z",
     "shell.execute_reply": "2023-03-04T09:40:04.027796Z",
     "shell.execute_reply.started": "2023-03-04T09:40:04.027767Z"
    }
   },
   "outputs": [],
   "source": [
    "wiktionary_trash.msg = wiktionary_trash.msg.fillna('')"
   ]
  },
  {
   "cell_type": "code",
   "execution_count": null,
   "metadata": {
    "execution": {
     "iopub.status.busy": "2023-03-04T09:40:04.029123Z",
     "iopub.status.idle": "2023-03-04T09:40:04.029881Z",
     "shell.execute_reply": "2023-03-04T09:40:04.029720Z",
     "shell.execute_reply.started": "2023-03-04T09:40:04.029701Z"
    }
   },
   "outputs": [],
   "source": [
    "# Übersicht\n",
    "a = pak.analyse_freqs(wiktionary_trash, ['msg','member'], splits=[None,' '])\n",
    "a"
   ]
  },
  {
   "cell_type": "code",
   "execution_count": null,
   "metadata": {
    "execution": {
     "iopub.status.busy": "2023-03-04T09:40:04.030769Z",
     "iopub.status.idle": "2023-03-04T09:40:04.031466Z",
     "shell.execute_reply": "2023-03-04T09:40:04.031311Z",
     "shell.execute_reply.started": "2023-03-04T09:40:04.031293Z"
    }
   },
   "outputs": [],
   "source": [
    "# Datensätze\n",
    "mask = (wiktionary_trash.msg == 'MFIX')\n",
    "#grid( wiktionary_trash, mask )"
   ]
  },
  {
   "cell_type": "code",
   "execution_count": null,
   "metadata": {
    "execution": {
     "iopub.status.busy": "2023-03-04T09:40:04.036268Z",
     "iopub.status.idle": "2023-03-04T09:40:04.036756Z",
     "shell.execute_reply": "2023-03-04T09:40:04.036556Z",
     "shell.execute_reply.started": "2023-03-04T09:40:04.036533Z"
    }
   },
   "outputs": [],
   "source": [
    "# suche_debug\n",
    "grid(search_str(wiktionary_trash, suche_debug))"
   ]
  },
  {
   "cell_type": "markdown",
   "metadata": {},
   "source": [
    "### wiktionary_merkmal_trash"
   ]
  },
  {
   "cell_type": "code",
   "execution_count": null,
   "metadata": {
    "execution": {
     "iopub.status.busy": "2023-03-04T09:40:04.038405Z",
     "iopub.status.idle": "2023-03-04T09:40:04.044363Z",
     "shell.execute_reply": "2023-03-04T09:40:04.044021Z",
     "shell.execute_reply.started": "2023-03-04T09:40:04.043977Z"
    }
   },
   "outputs": [],
   "source": [
    "wiktionary_merkmal_trash.msg = wiktionary_merkmal_trash.msg.fillna('')"
   ]
  },
  {
   "cell_type": "code",
   "execution_count": null,
   "metadata": {
    "execution": {
     "iopub.status.busy": "2023-03-04T09:40:04.045660Z",
     "iopub.status.idle": "2023-03-04T09:40:04.046595Z",
     "shell.execute_reply": "2023-03-04T09:40:04.046394Z",
     "shell.execute_reply.started": "2023-03-04T09:40:04.046370Z"
    }
   },
   "outputs": [],
   "source": [
    "# Übersicht\n",
    "#a = pak.analyse_freqs(wiktionary_merkmal_trash, ['msg','merkmal', 'data', ])\n",
    "a = pak.analyse_freqs(wiktionary_merkmal_trash, ['msg','merkmal', 'data', ])\n",
    "a = pak.drop_cols(a, ['msg_percent','data_count'])\n",
    "grid(a,  max_column_width=300)"
   ]
  },
  {
   "cell_type": "code",
   "execution_count": null,
   "metadata": {
    "execution": {
     "iopub.status.busy": "2023-03-04T09:40:04.047630Z",
     "iopub.status.idle": "2023-03-04T09:40:04.053301Z",
     "shell.execute_reply": "2023-03-04T09:40:04.053058Z",
     "shell.execute_reply.started": "2023-03-04T09:40:04.053028Z"
    }
   },
   "outputs": [],
   "source": [
    "# Datensätze\n",
    "mask = (wiktionary_merkmal_trash.msg == 'data_endswith')\n",
    "grid( wiktionary_merkmal_trash)"
   ]
  },
  {
   "cell_type": "code",
   "execution_count": null,
   "metadata": {
    "execution": {
     "iopub.status.busy": "2023-03-04T09:40:04.054339Z",
     "iopub.status.idle": "2023-03-04T09:40:04.055146Z",
     "shell.execute_reply": "2023-03-04T09:40:04.054975Z",
     "shell.execute_reply.started": "2023-03-04T09:40:04.054956Z"
    },
    "tags": []
   },
   "outputs": [],
   "source": [
    "# suche_debug\n",
    "maskA = wiktionary_merkmal_trash.data.isin(suche_debug)\n",
    "maskB = wiktionary_merkmal_trash.section_id2.isin(suche_debug)\n",
    "mask  = maskA | maskB\n",
    "grid(wiktionary_merkmal_trash,mask, color='green')"
   ]
  },
  {
   "cell_type": "markdown",
   "metadata": {},
   "source": [
    "### flexion_trash\n",
    "* flexion_trash enthält Datensätze, die ursprünglich aus wiktionary_merkmal stammen"
   ]
  },
  {
   "cell_type": "code",
   "execution_count": null,
   "metadata": {
    "execution": {
     "iopub.status.busy": "2023-03-04T09:40:04.056063Z",
     "iopub.status.idle": "2023-03-04T09:40:04.060939Z",
     "shell.execute_reply": "2023-03-04T09:40:04.060717Z",
     "shell.execute_reply.started": "2023-03-04T09:40:04.060690Z"
    }
   },
   "outputs": [],
   "source": [
    "# Übersicht\n",
    "a = pak.analyse_freqs(flexion_trash, ['merkmal', 'data' , 'msg'])\n",
    "a = pak.drop_cols(a, ['merkmal_percent','msg_count','data_count'])\n",
    "grid(a)"
   ]
  },
  {
   "cell_type": "markdown",
   "metadata": {},
   "source": [
    "### wiktionary_lemma_trash"
   ]
  },
  {
   "cell_type": "code",
   "execution_count": null,
   "metadata": {
    "execution": {
     "iopub.status.busy": "2023-03-04T09:40:04.062006Z",
     "iopub.status.idle": "2023-03-04T09:40:04.062868Z",
     "shell.execute_reply": "2023-03-04T09:40:04.062681Z",
     "shell.execute_reply.started": "2023-03-04T09:40:04.062656Z"
    },
    "tags": []
   },
   "outputs": [],
   "source": [
    "# suche_debug\n",
    "mask = wiktionary_lemma_trash.lemma.isin(suche_debug) \n",
    "wiktionary_lemma_trash[mask]"
   ]
  },
  {
   "cell_type": "code",
   "execution_count": null,
   "metadata": {
    "execution": {
     "iopub.status.busy": "2023-03-04T09:40:04.063985Z",
     "iopub.status.idle": "2023-03-04T09:40:04.069010Z",
     "shell.execute_reply": "2023-03-04T09:40:04.068789Z",
     "shell.execute_reply.started": "2023-03-04T09:40:04.068762Z"
    },
    "tags": []
   },
   "outputs": [],
   "source": [
    "# Übersicht\n",
    "a = pak.analyse_freqs(wiktionary_lemma_trash,['member','msg','lemma'], splits=[None,' '])\n",
    "grid(a)"
   ]
  },
  {
   "cell_type": "markdown",
   "metadata": {},
   "source": [
    "### wiktionary_nolemma_trash"
   ]
  },
  {
   "cell_type": "code",
   "execution_count": null,
   "metadata": {
    "execution": {
     "iopub.status.busy": "2023-03-04T09:40:04.069937Z",
     "iopub.status.idle": "2023-03-04T09:40:04.070596Z",
     "shell.execute_reply": "2023-03-04T09:40:04.070454Z",
     "shell.execute_reply.started": "2023-03-04T09:40:04.070438Z"
    },
    "tags": []
   },
   "outputs": [],
   "source": [
    "# suche_debug\n",
    "mask = wiktionary_nolemma_trash.lemma.isin(suche_debug) \n",
    "wiktionary_nolemma_trash[mask]"
   ]
  },
  {
   "cell_type": "code",
   "execution_count": null,
   "metadata": {
    "execution": {
     "iopub.status.busy": "2023-03-04T09:40:04.071398Z",
     "iopub.status.idle": "2023-03-04T09:40:04.072361Z",
     "shell.execute_reply": "2023-03-04T09:40:04.072143Z",
     "shell.execute_reply.started": "2023-03-04T09:40:04.072118Z"
    }
   },
   "outputs": [],
   "source": [
    "# Übersicht\n",
    "a = pak.analyse_freqs(wiktionary_nolemma_trash,['member','lex'], splits=[None,' '])\n",
    "grid(a)"
   ]
  },
  {
   "cell_type": "markdown",
   "metadata": {},
   "source": [
    "## Nutzdaten anschauen"
   ]
  },
  {
   "cell_type": "code",
   "execution_count": null,
   "metadata": {
    "execution": {
     "iopub.status.busy": "2023-03-04T09:40:04.073528Z",
     "iopub.status.idle": "2023-03-04T09:40:04.077577Z",
     "shell.execute_reply": "2023-03-04T09:40:04.077329Z",
     "shell.execute_reply.started": "2023-03-04T09:40:04.077299Z"
    },
    "tags": []
   },
   "outputs": [],
   "source": [
    "suche_debug"
   ]
  },
  {
   "cell_type": "markdown",
   "metadata": {},
   "source": [
    "### wiktionary_lemma"
   ]
  },
  {
   "cell_type": "code",
   "execution_count": null,
   "metadata": {
    "execution": {
     "iopub.status.busy": "2023-03-04T09:40:04.078558Z",
     "iopub.status.idle": "2023-03-04T09:40:04.079356Z",
     "shell.execute_reply": "2023-03-04T09:40:04.079187Z",
     "shell.execute_reply.started": "2023-03-04T09:40:04.079168Z"
    },
    "tags": []
   },
   "outputs": [],
   "source": [
    "mask = wiktionary_lemma.lemma.isin(suche_debug) #== 'gefriergetrocknet'\n",
    "wiktionary_lemma[mask]"
   ]
  },
  {
   "cell_type": "markdown",
   "metadata": {},
   "source": [
    "### wiktionary_merkmal"
   ]
  },
  {
   "cell_type": "code",
   "execution_count": null,
   "metadata": {
    "execution": {
     "iopub.status.busy": "2023-03-04T09:40:04.083701Z",
     "iopub.status.idle": "2023-03-04T09:40:04.084544Z",
     "shell.execute_reply": "2023-03-04T09:40:04.084373Z",
     "shell.execute_reply.started": "2023-03-04T09:40:04.084353Z"
    },
    "tags": []
   },
   "outputs": [],
   "source": [
    "mask = wiktionary_merkmal.section_id2 == suche_debug[0]\n",
    "a = wiktionary_merkmal[mask].sort_values(['merkmal','section_id2','data'])\n",
    "grid(a)"
   ]
  },
  {
   "cell_type": "code",
   "execution_count": null,
   "metadata": {
    "execution": {
     "iopub.status.busy": "2023-03-04T09:40:04.085322Z",
     "iopub.status.idle": "2023-03-04T09:40:04.088947Z",
     "shell.execute_reply": "2023-03-04T09:40:04.088730Z",
     "shell.execute_reply.started": "2023-03-04T09:40:04.088703Z"
    },
    "tags": []
   },
   "outputs": [],
   "source": [
    "mask = wiktionary_merkmal.data.isin(suche_debug) #== 'gefriergetrocknet'\n",
    "a = wiktionary_merkmal[mask].sort_values(['merkmal','section_id2','data'])\n",
    "grid(a)"
   ]
  },
  {
   "cell_type": "markdown",
   "metadata": {},
   "source": [
    "### wiktionary_nolemma"
   ]
  },
  {
   "cell_type": "code",
   "execution_count": null,
   "metadata": {
    "execution": {
     "iopub.status.busy": "2023-03-04T09:40:04.089817Z",
     "iopub.status.idle": "2023-03-04T09:40:04.090452Z",
     "shell.execute_reply": "2023-03-04T09:40:04.090313Z",
     "shell.execute_reply.started": "2023-03-04T09:40:04.090296Z"
    },
    "tags": []
   },
   "outputs": [],
   "source": [
    "# wiktionary_nolemma suche_debug\n",
    "grid(search_str(wiktionary_nolemma, suche_debug))"
   ]
  },
  {
   "cell_type": "code",
   "execution_count": null,
   "metadata": {
    "execution": {
     "iopub.status.busy": "2023-03-04T09:40:04.091179Z",
     "iopub.status.idle": "2023-03-04T09:40:04.091794Z",
     "shell.execute_reply": "2023-03-04T09:40:04.091656Z",
     "shell.execute_reply.started": "2023-03-04T09:40:04.091638Z"
    },
    "tags": []
   },
   "outputs": [],
   "source": [
    "raise Stop"
   ]
  }
 ],
 "metadata": {
  "kernelspec": {
   "display_name": "Python 3 (ipykernel)",
   "language": "python",
   "name": "python3"
  },
  "language_info": {
   "codemirror_mode": {
    "name": "ipython",
    "version": 3
   },
   "file_extension": ".py",
   "mimetype": "text/x-python",
   "name": "python",
   "nbconvert_exporter": "python",
   "pygments_lexer": "ipython3",
   "version": "3.9.13"
  }
 },
 "nbformat": 4,
 "nbformat_minor": 4
}
