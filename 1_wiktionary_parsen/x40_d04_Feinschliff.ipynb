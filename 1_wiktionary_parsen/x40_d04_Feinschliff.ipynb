{
 "cells": [
  {
   "cell_type": "markdown",
   "id": "6bd219db-c2c7-47f7-b321-6426561a0453",
   "metadata": {
    "id": "lSehjmZun5OP"
   },
   "source": [
    "__[Open and try this file online (Colab)](https://colab.research.google.com/github/djekra/wiktionary_wortschatz/blob/master/1_wiktionary_parsen/x40_d04_Feinschliff.ipynb)__"
   ]
  },
  {
   "cell_type": "markdown",
   "id": "4812164d-b1e3-452d-8e21-5fd559ca31fa",
   "metadata": {},
   "source": [
    "# Feinschliff\n",
    "* speichert in data_04\n",
    "* lex_test level 4"
   ]
  },
  {
   "cell_type": "markdown",
   "id": "1809d13c-c215-4bc1-8f95-dad69448de65",
   "metadata": {},
   "source": [
    "## Import"
   ]
  },
  {
   "cell_type": "code",
   "execution_count": 1,
   "id": "d1178b9d-a132-4ea3-a8cc-74833f9c2638",
   "metadata": {},
   "outputs": [
    {
     "name": "stdout",
     "output_type": "stream",
     "text": [
      "blab init\n",
      "environment['dropbox_path'] = /home/me/Data_Linux/Dropbox\n",
      "environment['lib_path']     = /home/me/Data_Linux/Dropbox/31_Projekte/01_Python/libs\n",
      "Start Time: 18:10:14\n"
     ]
    },
    {
     "data": {
      "text/html": [
       "<img src onerror=\"var cell = this.closest('.jp-CodeCell');var editor = cell.querySelector('.jp-Editor');editor.style.background='Beige';this.parentNode.removeChild(this)\">"
      ],
      "text/plain": [
       "<IPython.core.display.HTML object>"
      ]
     },
     "metadata": {},
     "output_type": "display_data"
    },
    {
     "name": "stdout",
     "output_type": "stream",
     "text": [
      "time: 390 ms\n"
     ]
    }
   ],
   "source": [
    "# blab init\n",
    "try:\n",
    "    import blab\n",
    "except ImportError as e:\n",
    "    !pip install blab\n",
    "    import blab    \n",
    "startup_notebook = blab.blab_startup()\n",
    "%run $startup_notebook "
   ]
  },
  {
   "cell_type": "code",
   "execution_count": null,
   "id": "92b81291-9044-4e46-b03c-0369a768a3ea",
   "metadata": {},
   "outputs": [],
   "source": [
    "# pandas\n",
    "if environment['in_colab']:\n",
    "    !pip install --upgrade pandas\n",
    "import pandas as pd"
   ]
  },
  {
   "cell_type": "code",
   "execution_count": 2,
   "id": "af845b4d-ab6d-44b2-9b5f-0495e62087a8",
   "metadata": {},
   "outputs": [
    {
     "name": "stdout",
     "output_type": "stream",
     "text": [
      "time: 4.2 s\n"
     ]
    }
   ],
   "source": [
    "# alle anderen\n",
    "try:\n",
    "    import pandasklar as pak, bpyth as bpy\n",
    "\n",
    "except ImportError as e:\n",
    "    !pip install pandasklar \n",
    "    import pandasklar as pak, bpyth as bpy\n",
    "    \n",
    "grid       = pak.grid\n",
    "check_mask = pak.check_mask      "
   ]
  },
  {
   "cell_type": "markdown",
   "id": "558fb97a-508e-4916-944c-951b59a354fe",
   "metadata": {},
   "source": [
    "## Einstellungen"
   ]
  },
  {
   "cell_type": "code",
   "execution_count": 5,
   "id": "e2c179f4-2ec0-4325-85e5-ef5311375742",
   "metadata": {},
   "outputs": [
    {
     "name": "stdout",
     "output_type": "stream",
     "text": [
      "VERBOSE = True\n",
      "--> setting verbose=True as default for all pandasklar functions\n",
      "\n",
      "time: 43.6 ms\n"
     ]
    }
   ],
   "source": [
    "# Einstellungen\n",
    "\n",
    "# Was debuggen?\n",
    "suche_debug = ['gefriergetrocknet','gefriertrocknen','missraten']  \n",
    "\n",
    "gründlich = True # einige Arbeitsschritte können weggelassen werden, wenn gründlich = True\n",
    "\n",
    "# verbose\n",
    "pak.Config.set('VERBOSE', True)\n",
    "\n",
    "# Load\n",
    "verzeichnis_load                       = 'data_03'\n",
    "wiktionary_lemma_filename             = verzeichnis_load + '/wiktionary_lemma.pickle'   \n",
    "wiktionary_merkmal_filename           = verzeichnis_load + '/wiktionary_merkmal.pickle'  \n",
    "wiktionary_merkmal_text_filename      = verzeichnis_load + '/wiktionary_merkmal_text.pickle'  \n",
    "translate_lex_filename                = verzeichnis_load + '/translate_lex.pickle'      \n",
    "translate_lemma_filename              = verzeichnis_load + '/translate_lemma.pickle'  \n",
    "    \n",
    "# Steuertabellen\n",
    "lex_test_filename                      = 'Steuertabellen/lex_test.xlsx'  \n",
    "\n",
    "     \n",
    "# Save\n",
    "verzeichnis_save                       = 'data_04'\n",
    "wiktionary_lemma_filename_save         = verzeichnis_save + '/wiktionary_lemma.pickle'  \n",
    "translate_lex_filename_save            = verzeichnis_save + '/translate_lex.pickle'  \n",
    "translate_lemma_filename_save          = verzeichnis_save + '/translate_lemma.pickle'  \n",
    "wiktionary_merkmal_filename_save       = verzeichnis_save + '/wiktionary_merkmal.pickle'  \n",
    "wiktionary_merkmal_text_filename_save  = verzeichnis_save + '/wiktionary_merkmal_text.pickle'  \n",
    "\n"
   ]
  },
  {
   "cell_type": "markdown",
   "id": "6a60582f-b9b6-428e-a2e5-d4e9f2155329",
   "metadata": {
    "id": "p1lM3YLgn5Ou"
   },
   "source": [
    "## Vorbereiten"
   ]
  },
  {
   "cell_type": "code",
   "execution_count": 4,
   "id": "38aa00e2-7d6f-4f8a-a50d-aeca4b5596ce",
   "metadata": {
    "colab": {
     "base_uri": "https://localhost:8080/"
    },
    "executionInfo": {
     "elapsed": 13,
     "status": "ok",
     "timestamp": 1676476829076,
     "user": {
      "displayName": "Hups Hopsalla",
      "userId": "10020718461385065661"
     },
     "user_tz": -60
    },
    "id": "Oy4Rb6WZn5Ow",
    "outputId": "6b94d1aa-3ffa-4388-d3f4-53b785e09406"
   },
   "outputs": [
    {
     "name": "stdout",
     "output_type": "stream",
     "text": [
      "time: 44.4 ms\n"
     ]
    }
   ],
   "source": [
    "# Verzeichnisse erzeugen\n",
    "os.makedirs(verzeichnis_load, exist_ok=True) \n",
    "os.makedirs(verzeichnis_save, exist_ok=True) "
   ]
  },
  {
   "cell_type": "code",
   "execution_count": 5,
   "id": "014894de-e9dc-446d-9b76-b05c34c93063",
   "metadata": {},
   "outputs": [
    {
     "name": "stdout",
     "output_type": "stream",
     "text": [
      "time: 38.9 ms\n"
     ]
    }
   ],
   "source": [
    "# Steuertabellen und Python-Files von Github herunterladen\n",
    "import os\n",
    "if not os.path.exists('Steuertabellen'):\n",
    "   !git clone https://github.com/djekra/wiktionary_wortschatz.git\n",
    "   !cp -r wiktionary_wortschatz/1_wiktionary_parsen/Steuertabellen Steuertabellen\n",
    "   !cp -r wiktionary_wortschatz/1_wiktionary_parsen/*.py .\n",
    "#   !rm -r wiktionary_wortschatz"
   ]
  },
  {
   "cell_type": "code",
   "execution_count": 6,
   "id": "053a1468-ff8d-4877-a35d-6067033163e9",
   "metadata": {
    "colab": {
     "base_uri": "https://localhost:8080/"
    },
    "executionInfo": {
     "elapsed": 7425,
     "status": "ok",
     "timestamp": 1676479015113,
     "user": {
      "displayName": "Hups Hopsalla",
      "userId": "10020718461385065661"
     },
     "user_tz": -60
    },
    "id": "dbiDceKXyUx7",
    "outputId": "beb0cf2a-bc86-47c4-81e6-b11c7354957c"
   },
   "outputs": [
    {
     "name": "stdout",
     "output_type": "stream",
     "text": [
      "time: 43.8 ms\n"
     ]
    }
   ],
   "source": [
    "# Lade Ergebnisse der vorherigen Verarbeitungsstufe von Google Drive, falls nicht lokal vorhanden\n",
    "# Dieses Verzeichnis wurde in der vorherigen Verarbeitungsstufe angelegt \n",
    "if environment['in_colab']:\n",
    "    from google.colab import drive\n",
    "    drive.mount('/content/drive') \n",
    "    !cd /content\n",
    "    !cp -av /content/drive/MyDrive/{verzeichnis_load} ."
   ]
  },
  {
   "cell_type": "code",
   "execution_count": 3,
   "id": "bcfe4286-822e-4e92-ae68-64f17fe888fc",
   "metadata": {},
   "outputs": [
    {
     "name": "stdout",
     "output_type": "stream",
     "text": [
      "time: 1.64 s\n"
     ]
    }
   ],
   "source": [
    "# Weitere Imports\n",
    "from Steuertabellen.s01_Steuertabellen import *\n",
    "from x32_Funktionen                    import *"
   ]
  },
  {
   "cell_type": "markdown",
   "id": "25376596-b512-4271-bec5-eaede2458b50",
   "metadata": {},
   "source": [
    "## Daten laden\n",
    "* Steuertabellen\n",
    "* wiktionary_lemma\n",
    "* translate_lex\n",
    "* wiktionary_merkmal     \n",
    "* wiktionary_merkmal_text \n",
    "* jeweils einen Trash generieren"
   ]
  },
  {
   "cell_type": "code",
   "execution_count": 6,
   "id": "8a965cb9-807a-4b10-b4a4-73c374db8fa4",
   "metadata": {},
   "outputs": [
    {
     "name": "stdout",
     "output_type": "stream",
     "text": [
      "time: 54.4 ms\n"
     ]
    }
   ],
   "source": [
    "#blab.help(plan_merkmal_erstellen)"
   ]
  },
  {
   "cell_type": "code",
   "execution_count": 7,
   "id": "f5c26e17-f6c2-4bbe-8255-8877fa0015a2",
   "metadata": {},
   "outputs": [
    {
     "name": "stdout",
     "output_type": "stream",
     "text": [
      "time: 82.5 ms\n"
     ]
    }
   ],
   "source": [
    "# plan_merkmal Steuertabelle\n",
    "plan_merkmal = plan_merkmal_erstellen()\n",
    "#grid(plan_merkmal, rows=9, column_definitions={ 'collect': {'maxWidth': 50,}, ' ': {'maxWidth': 50,}                   },     )"
   ]
  },
  {
   "cell_type": "code",
   "execution_count": 8,
   "id": "cdfef40d-5e5c-4f9b-839e-9337c6260c28",
   "metadata": {},
   "outputs": [
    {
     "name": "stdout",
     "output_type": "stream",
     "text": [
      "165737 rows loaded\n",
      "2479965 rows loaded\n",
      "613027 rows loaded\n",
      "1163429 rows loaded\n",
      "62712 rows loaded\n",
      "time: 8.99 s\n"
     ]
    }
   ],
   "source": [
    "# Laden     \n",
    "wiktionary_lemma         = pak.load_pickle(wiktionary_lemma_filename)\n",
    "wiktionary_merkmal       = pak.load_pickle(wiktionary_merkmal_filename)\n",
    "wiktionary_merkmal_text  = pak.load_pickle(wiktionary_merkmal_text_filename)\n",
    "translate_lex            = pak.load_pickle(translate_lex_filename)  \n",
    "translate_lemma          = pak.load_pickle(translate_lemma_filename)"
   ]
  },
  {
   "cell_type": "code",
   "execution_count": 12,
   "id": "28ed1fe2-f499-451a-b1b7-20f8d1213af8",
   "metadata": {},
   "outputs": [
    {
     "name": "stdout",
     "output_type": "stream",
     "text": [
      "time: 42.1 ms\n"
     ]
    }
   ],
   "source": [
    "# trash erzeugen     \n",
    "wiktionary_lemma_trash        = wiktionary_lemma.head(0)\n",
    "wiktionary_lemma_trash        = pak.write_empty_col(wiktionary_lemma_trash, 'msg', 'string')\n",
    "\n",
    "wiktionary_merkmal_trash      = wiktionary_merkmal.head(0)\n",
    "wiktionary_merkmal_trash      = pak.write_empty_col(wiktionary_merkmal_trash, 'msg', 'string')\n",
    "\n",
    "wiktionary_merkmal_text_trash = wiktionary_merkmal_text.head(0)\n",
    "wiktionary_merkmal_text_trash = pak.write_empty_col(wiktionary_merkmal_text_trash, 'msg', 'string')\n",
    "\n",
    "translate_lex_trash           = translate_lex.head(0)\n",
    "translate_lex_trash           = pak.write_empty_col(translate_lex_trash, 'msg', 'string')\n",
    "\n",
    "translate_lemma_trash         = translate_lemma.head(0)\n",
    "translate_lemma_trash         = pak.write_empty_col(translate_lemma_trash, 'msg', 'string')"
   ]
  },
  {
   "cell_type": "markdown",
   "id": "22b2cc08-7f9d-474c-893f-d8473ac5dbc0",
   "metadata": {},
   "source": [
    "## Prüfen =========="
   ]
  },
  {
   "cell_type": "code",
   "execution_count": 9,
   "id": "a73e80c1-6238-4d54-a7c3-88791505b1d1",
   "metadata": {},
   "outputs": [
    {
     "name": "stdout",
     "output_type": "stream",
     "text": [
      "time: 35.1 ms\n"
     ]
    }
   ],
   "source": [
    "# Genügend Datensätze?\n",
    "assert wiktionary_merkmal.shape[0] > 2479 * 1000"
   ]
  },
  {
   "cell_type": "markdown",
   "id": "fa4929e5-c461-4bff-8231-04cdea4dff0e",
   "metadata": {},
   "source": [
    "### Unique"
   ]
  },
  {
   "cell_type": "code",
   "execution_count": 13,
   "id": "56acce77-63a0-41e6-b8dc-b31d66cf9606",
   "metadata": {},
   "outputs": [
    {
     "name": "stdout",
     "output_type": "stream",
     "text": [
      "check_mask:  0 rows\n",
      "time: 102 ms\n"
     ]
    }
   ],
   "source": [
    "# wiktionary_lemma: lemma_id vorhanden und eindeutig?\n",
    "mask = wiktionary_lemma.lemma_id == ''\n",
    "check_mask(wiktionary_lemma,mask,0)\n",
    "\n",
    "assert wiktionary_lemma.lemma_id.is_unique"
   ]
  },
  {
   "cell_type": "code",
   "execution_count": 14,
   "id": "e368ee88-77e8-4328-a1a7-797a54d091fc",
   "metadata": {},
   "outputs": [
    {
     "name": "stdout",
     "output_type": "stream",
     "text": [
      "check_mask:  0 rows\n",
      "time: 4.61 s\n"
     ]
    }
   ],
   "source": [
    "# wiktionary_merkmal: data_id vorhanden und nicht widersprüchlich?\n",
    "mask1 = wiktionary_merkmal.data_id == ''\n",
    "mask2 = wiktionary_merkmal.is_lex == True\n",
    "mask = mask1  &  mask2\n",
    "check_mask(wiktionary_merkmal,mask,0)\n",
    "\n",
    "# Vergebene data_id nicht widersprüchlich?\n",
    "mask_notempty = wiktionary_merkmal.data_id != ''\n",
    "a = pak.same_but_different(wiktionary_merkmal[mask_notempty],same='data_id',different='data')\n",
    "assert a.shape[0] == 0\n",
    "#grid(a)"
   ]
  },
  {
   "cell_type": "code",
   "execution_count": 15,
   "id": "1bb1f323-de40-4f44-a4e0-a5c9b761a277",
   "metadata": {},
   "outputs": [
    {
     "name": "stdout",
     "output_type": "stream",
     "text": [
      "check_mask:  0 rows\n",
      "time: 1.71 s\n"
     ]
    }
   ],
   "source": [
    "# translate_lex: data_id vorhanden und eindeutig?\n",
    "mask = translate_lex.data_id == ''\n",
    "check_mask(translate_lex,mask,0)\n",
    "\n",
    "#assert translate_lex.data_id.is_unique\n",
    "\n",
    "a = pak.same_but_different(translate_lex,same='data_id',different='data')\n",
    "assert a.shape[0] == 0\n",
    "#grid(a)"
   ]
  },
  {
   "cell_type": "markdown",
   "id": "5841c467-7c84-4e87-9e38-492bc5a27d03",
   "metadata": {},
   "source": [
    "### Mögliche Probleme"
   ]
  },
  {
   "cell_type": "code",
   "execution_count": 16,
   "id": "1a3f269c-81b0-499a-8c7b-5f1bd12de29e",
   "metadata": {},
   "outputs": [
    {
     "name": "stdout",
     "output_type": "stream",
     "text": [
      "834 rows\n"
     ]
    },
    {
     "data": {
      "text/html": [
       "\n",
       "        <iframe\n",
       "            width=\"100%\"\n",
       "            height=\"475\"\n",
       "            src=\"http://pop-os:40000/dtale/iframe/1\"\n",
       "            frameborder=\"0\"\n",
       "            allowfullscreen\n",
       "            \n",
       "        ></iframe>\n",
       "        "
      ],
      "text/plain": [
       "<IPython.lib.display.IFrame at 0x7f091e52a9a0>"
      ]
     },
     "metadata": {},
     "output_type": "display_data"
    },
    {
     "data": {
      "text/plain": []
     },
     "execution_count": 16,
     "metadata": {},
     "output_type": "execute_result"
    },
    {
     "name": "stdout",
     "output_type": "stream",
     "text": [
      "time: 162 ms\n"
     ]
    }
   ],
   "source": [
    "# Mögliche Probleme\n",
    "spalten = ['data','lemma','lemma_score']\n",
    "mask =  translate_lex['same_lexlemma'] < 0.3\n",
    "a = translate_lex[mask][spalten].sort_values(['lemma_score'], ascending=[False])\n",
    "grid(a)"
   ]
  },
  {
   "cell_type": "code",
   "execution_count": 17,
   "id": "83cd1170-4fb8-454d-9fb0-0803b3b7abe2",
   "metadata": {},
   "outputs": [
    {
     "name": "stdout",
     "output_type": "stream",
     "text": [
      "1301 rows\n"
     ]
    },
    {
     "data": {
      "text/html": [
       "\n",
       "        <iframe\n",
       "            width=\"100%\"\n",
       "            height=\"475\"\n",
       "            src=\"http://pop-os:40000/dtale/iframe/2\"\n",
       "            frameborder=\"0\"\n",
       "            allowfullscreen\n",
       "            \n",
       "        ></iframe>\n",
       "        "
      ],
      "text/plain": [
       "<IPython.lib.display.IFrame at 0x7f091e3ee790>"
      ]
     },
     "metadata": {},
     "output_type": "display_data"
    },
    {
     "data": {
      "text/plain": []
     },
     "execution_count": 17,
     "metadata": {},
     "output_type": "execute_result"
    },
    {
     "name": "stdout",
     "output_type": "stream",
     "text": [
      "time: 401 ms\n"
     ]
    }
   ],
   "source": [
    "mask = translate_lex.same_lexlemma < 0.5\n",
    "a = pak.analyse_freqs(translate_lex[mask],['lemma','data'])\n",
    "grid(a)"
   ]
  },
  {
   "cell_type": "markdown",
   "id": "72b83153-6f7d-4dbe-b91c-bc2ebb3e1554",
   "metadata": {},
   "source": [
    "### Verwaisungen"
   ]
  },
  {
   "cell_type": "code",
   "execution_count": 52,
   "id": "360703bf-6f42-447a-9a8b-45d97b477e63",
   "metadata": {},
   "outputs": [
    {
     "name": "stdout",
     "output_type": "stream",
     "text": [
      "check_mask:  0 rows\n",
      "No rows moved\n",
      "\u001b[1m\u001b[7m\u001b[32mNo rows\u001b[0m\n",
      "time: 391 ms\n"
     ]
    }
   ],
   "source": [
    "# translate_lex lemma_id\n",
    "mask = ~translate_lex.lemma_id.isin(wiktionary_lemma.lemma_id)\n",
    "check_mask(translate_lex,mask,0,140)\n",
    "\n",
    "msg = 'verwaist_lemma_id_anfangskontrolle'\n",
    "translate_lex, translate_lex_trash = pak.move_rows( translate_lex, translate_lex_trash, mask, msg )\n",
    "grid(translate_lex_trash,msg, color='green')"
   ]
  },
  {
   "cell_type": "code",
   "execution_count": 53,
   "id": "a6eac841-d4d6-40b8-829f-925c2e387b59",
   "metadata": {},
   "outputs": [
    {
     "name": "stdout",
     "output_type": "stream",
     "text": [
      "check_mask:  0 rows\n",
      "No rows moved\n",
      "\u001b[1m\u001b[7m\u001b[32mNo rows\u001b[0m\n",
      "time: 121 ms\n"
     ]
    }
   ],
   "source": [
    "# translate_lemma lem_id\n",
    "mask = ~translate_lemma.lem_id.isin(wiktionary_lemma.lemma_id)\n",
    "check_mask(translate_lemma,mask,0,32)\n",
    "# translate_lemma[mask]\n",
    "\n",
    "msg = 'verwaist_lem_id_anfangskontrolle'\n",
    "translate_lemma, translate_lemma_trash = pak.move_rows( translate_lemma, translate_lemma_trash, mask, msg )\n",
    "grid(translate_lemma_trash,msg, color='green')"
   ]
  },
  {
   "cell_type": "code",
   "execution_count": 54,
   "id": "e45afcc2-28ee-4cca-b366-d507627fe9b9",
   "metadata": {},
   "outputs": [
    {
     "name": "stdout",
     "output_type": "stream",
     "text": [
      "check_mask:  0 rows\n",
      "No rows moved\n",
      "\u001b[1m\u001b[7m\u001b[32mNo rows\u001b[0m\n",
      "time: 77.4 ms\n"
     ]
    }
   ],
   "source": [
    "# translate_lemma lemma_id\n",
    "mask = ~translate_lemma.lemma_id.isin(wiktionary_lemma.lemma_id)\n",
    "check_mask(translate_lemma,mask,0)\n",
    "# translate_lemma[mask]\n",
    "\n",
    "msg = 'verwaist_lemma_id_anfangskontrolle'\n",
    "translate_lemma, translate_lemma_trash = pak.move_rows( translate_lemma, translate_lemma_trash, mask, msg )\n",
    "grid(translate_lemma_trash,msg, color='green')"
   ]
  },
  {
   "cell_type": "code",
   "execution_count": 55,
   "id": "5a86537d-bcd2-4f36-9fd6-f6c026020487",
   "metadata": {},
   "outputs": [
    {
     "name": "stdout",
     "output_type": "stream",
     "text": [
      "check_mask:  0 rows\n",
      "\u001b[1m\u001b[7m\u001b[32mNo rows, mask filters them all away\u001b[0m\n",
      "time: 296 ms\n"
     ]
    }
   ],
   "source": [
    "# wiktionary_lemma.data_id (nur leeren)\n",
    "mask1 =  wiktionary_lemma.data_id != ''\n",
    "mask2 = ~wiktionary_lemma.data_id.isin(wiktionary_lemma.lemma_id)\n",
    "mask3 = ~wiktionary_lemma.data_id.isin(translate_lex.data_id)\n",
    "mask = mask1  &  mask2  &  mask3\n",
    "check_mask(wiktionary_lemma,mask,1)\n",
    "\n",
    "wiktionary_lemma.loc[mask,'data_id'] = ''\n",
    "grid(wiktionary_lemma,mask, color='green')"
   ]
  },
  {
   "cell_type": "code",
   "execution_count": 56,
   "id": "873285d8-b79b-412c-8699-f53213693c80",
   "metadata": {},
   "outputs": [
    {
     "name": "stdout",
     "output_type": "stream",
     "text": [
      "check_mask:  0 rows\n",
      "No rows moved\n",
      "\u001b[1m\u001b[7m\u001b[32mNo rows\u001b[0m\n",
      "time: 615 ms\n"
     ]
    }
   ],
   "source": [
    "# wiktionary_merkmal lemma_id\n",
    "mask = ~wiktionary_merkmal.lemma_id.isin(wiktionary_lemma.lemma_id)\n",
    "check_mask(wiktionary_merkmal,mask,0,140)\n",
    "# wiktionary_merkmal[mask]\n",
    "\n",
    "msg = 'verwaist_lemma_id_anfangskontrolle'\n",
    "wiktionary_merkmal, wiktionary_merkmal_trash = pak.move_rows( wiktionary_merkmal, wiktionary_merkmal_trash, mask, msg )\n",
    "grid(wiktionary_merkmal_trash,msg, color='green')"
   ]
  },
  {
   "cell_type": "code",
   "execution_count": 57,
   "id": "4759e0c7-87b6-4a73-b2fa-ca2b2ab8f233",
   "metadata": {},
   "outputs": [
    {
     "name": "stdout",
     "output_type": "stream",
     "text": [
      "check_mask:  311 rows\n",
      "311 rows out of 2479965\n"
     ]
    },
    {
     "data": {
      "text/html": [
       "\n",
       "        <iframe\n",
       "            width=\"100%\"\n",
       "            height=\"475\"\n",
       "            src=\"http://pop-os:40000/dtale/iframe/7\"\n",
       "            frameborder=\"0\"\n",
       "            allowfullscreen\n",
       "            \n",
       "        ></iframe>\n",
       "        "
      ],
      "text/plain": [
       "<IPython.lib.display.IFrame at 0x7f0967982310>"
      ]
     },
     "metadata": {},
     "output_type": "display_data"
    },
    {
     "data": {
      "text/plain": []
     },
     "execution_count": 57,
     "metadata": {},
     "output_type": "execute_result"
    },
    {
     "name": "stdout",
     "output_type": "stream",
     "text": [
      "time: 1.9 s\n"
     ]
    }
   ],
   "source": [
    "# verwaist wiktionary_merkmal data_id?\n",
    "mask1 =  wiktionary_merkmal.data_id != ''\n",
    "mask2 = ~wiktionary_merkmal.data_id.isin(wiktionary_lemma.lemma_id)\n",
    "mask3 = ~wiktionary_merkmal.data_id.isin(translate_lex.data_id)\n",
    "mask = mask1  &  mask2  &  mask3 # &  mask4\n",
    "check_mask(wiktionary_merkmal,mask)\n",
    "\n",
    "grid(wiktionary_merkmal,mask)"
   ]
  },
  {
   "cell_type": "code",
   "execution_count": 59,
   "id": "4adb461a-02c4-44aa-8140-eb0bc6086ffc",
   "metadata": {},
   "outputs": [
    {
     "name": "stdout",
     "output_type": "stream",
     "text": [
      "check_mask:  0 rows\n",
      "No rows moved\n",
      "\u001b[1m\u001b[7m\u001b[32mNo rows\u001b[0m\n",
      "time: 2 s\n"
     ]
    }
   ],
   "source": [
    "# wiktionary_merkmal data_id\n",
    "mask1 =  wiktionary_merkmal.data_id != ''\n",
    "mask2 =  wiktionary_merkmal.is_lex == True\n",
    "mask3 = ~wiktionary_merkmal.data_id.isin(wiktionary_lemma.lemma_id)\n",
    "mask4 = ~wiktionary_merkmal.data_id.isin(translate_lex.data_id)\n",
    "mask = mask1  &  mask2  &  mask3  &  mask4\n",
    "check_mask(wiktionary_merkmal,mask,0,40)\n",
    "\n",
    "msg = 'verwaist_data_id_endkontrolle'\n",
    "wiktionary_merkmal, wiktionary_merkmal_trash = pak.move_rows( wiktionary_merkmal, wiktionary_merkmal_trash, mask, msg )\n",
    "grid(wiktionary_merkmal_trash,msg, color='green')"
   ]
  },
  {
   "cell_type": "code",
   "execution_count": 60,
   "id": "2a23c9fd-03d1-4515-b020-ab2ff870a41c",
   "metadata": {},
   "outputs": [
    {
     "name": "stdout",
     "output_type": "stream",
     "text": [
      "check_mask:  0 rows\n",
      "time: 154 ms\n"
     ]
    }
   ],
   "source": [
    "# wiktionary_merkmal_text lemma_id\n",
    "mask = ~wiktionary_merkmal_text.lemma_id.isin(wiktionary_lemma.lemma_id)\n",
    "check_mask(wiktionary_merkmal_text,mask,0)"
   ]
  },
  {
   "cell_type": "markdown",
   "id": "da3fd883-c130-4deb-a13c-457a9533d5f6",
   "metadata": {},
   "source": [
    "### NaN"
   ]
  },
  {
   "cell_type": "code",
   "execution_count": 28,
   "id": "ac285e6a-d8be-471c-81e9-9b6af54a16ed",
   "metadata": {},
   "outputs": [
    {
     "name": "stdout",
     "output_type": "stream",
     "text": [
      "time: 138 ms\n"
     ]
    }
   ],
   "source": [
    "assert not pak.any_nan(wiktionary_lemma)\n",
    "#pak.nnan(wiktionary_lemma)"
   ]
  },
  {
   "cell_type": "code",
   "execution_count": 29,
   "id": "5eba83d7-0b1a-49aa-bdb1-026eb8730763",
   "metadata": {},
   "outputs": [
    {
     "name": "stdout",
     "output_type": "stream",
     "text": [
      "time: 1.36 s\n"
     ]
    }
   ],
   "source": [
    "assert not pak.any_nan(wiktionary_merkmal)\n",
    "#pak.nnan(wiktionary_merkmal)"
   ]
  },
  {
   "cell_type": "code",
   "execution_count": 30,
   "id": "41761269-0deb-4516-84f4-b24492bab165",
   "metadata": {},
   "outputs": [
    {
     "name": "stdout",
     "output_type": "stream",
     "text": [
      "time: 166 ms\n"
     ]
    }
   ],
   "source": [
    "assert not pak.any_nan(wiktionary_merkmal_text)\n",
    "#pak.nnan(wiktionary_merkmal_text)"
   ]
  },
  {
   "cell_type": "code",
   "execution_count": 31,
   "id": "93d71afb-7319-488d-a85d-100cbdd5cd20",
   "metadata": {},
   "outputs": [
    {
     "name": "stdout",
     "output_type": "stream",
     "text": [
      "time: 68 ms\n"
     ]
    }
   ],
   "source": [
    "assert not pak.any_nan(translate_lemma)\n",
    "#pak.nnan(translate_lemma)"
   ]
  },
  {
   "cell_type": "code",
   "execution_count": 32,
   "id": "219eba4b-4f01-405d-829a-e4e0cfce2352",
   "metadata": {},
   "outputs": [
    {
     "name": "stdout",
     "output_type": "stream",
     "text": [
      "time: 679 ms\n"
     ]
    }
   ],
   "source": [
    "assert not pak.any_nan(translate_lex)\n",
    "#pak.nnan(translate_lex)"
   ]
  },
  {
   "cell_type": "markdown",
   "id": "769a7755-2890-4298-8bfe-a0255d3e7944",
   "metadata": {},
   "source": [
    "### Div"
   ]
  },
  {
   "cell_type": "code",
   "execution_count": 33,
   "id": "2363523a-aaa1-47f4-8f94-d24d0311c89e",
   "metadata": {},
   "outputs": [
    {
     "name": "stdout",
     "output_type": "stream",
     "text": [
      "check_mask:  0 rows\n",
      "time: 683 ms\n"
     ]
    }
   ],
   "source": [
    "# lemma_id und data_id müssen gleich sein\n",
    "mask1 = wiktionary_merkmal.merkmal == 'lemma'\n",
    "mask2 = wiktionary_merkmal.lemma_id != wiktionary_merkmal.data_id\n",
    "mask = mask1  &  mask2\n",
    "check_mask(wiktionary_merkmal,mask,0)"
   ]
  },
  {
   "cell_type": "code",
   "execution_count": 34,
   "id": "67c7172d-0946-420d-a0fd-051f9e54742f",
   "metadata": {},
   "outputs": [
    {
     "name": "stdout",
     "output_type": "stream",
     "text": [
      "check_mask:  0 rows\n",
      "time: 734 ms\n"
     ]
    }
   ],
   "source": [
    "# lemma und data müssen gleich sein\n",
    "mask1 = wiktionary_merkmal.merkmal == 'lemma'\n",
    "mask2 = wiktionary_merkmal.lemma != wiktionary_merkmal.data\n",
    "mask = mask1  &  mask2\n",
    "check_mask(wiktionary_merkmal,mask,0)"
   ]
  },
  {
   "cell_type": "markdown",
   "id": "c7e8c73a-ba20-41b2-a0de-55b6f615928b",
   "metadata": {},
   "source": [
    "### Partizipien prüfen"
   ]
  },
  {
   "cell_type": "code",
   "execution_count": 35,
   "id": "e5a1264b-4d6e-4e91-8dd4-6f5ed8982c09",
   "metadata": {},
   "outputs": [
    {
     "name": "stdout",
     "output_type": "stream",
     "text": [
      "time: 52.5 ms\n"
     ]
    }
   ],
   "source": [
    "#suche_L = 'missraten' \n",
    "#suche_P = 'missraten'  \n",
    "\n",
    "suche_L = 'gefriertrocknen' \n",
    "suche_P = 'gefriergetrocknet'  "
   ]
  },
  {
   "cell_type": "code",
   "execution_count": 36,
   "id": "a5e457e1-1cde-4273-9ba4-b454de297413",
   "metadata": {},
   "outputs": [
    {
     "data": {
      "text/html": [
       "<div>\n",
       "<style scoped>\n",
       "    .dataframe tbody tr th:only-of-type {\n",
       "        vertical-align: middle;\n",
       "    }\n",
       "\n",
       "    .dataframe tbody tr th {\n",
       "        vertical-align: top;\n",
       "    }\n",
       "\n",
       "    .dataframe thead th {\n",
       "        text-align: right;\n",
       "    }\n",
       "</style>\n",
       "<table border=\"1\" class=\"dataframe\">\n",
       "  <thead>\n",
       "    <tr style=\"text-align: right;\">\n",
       "      <th></th>\n",
       "      <th>lemma_id</th>\n",
       "      <th>merkmal</th>\n",
       "      <th>is_lex</th>\n",
       "      <th>data_id</th>\n",
       "      <th>data</th>\n",
       "      <th>data_tag</th>\n",
       "      <th>data_tagZ</th>\n",
       "      <th>data_tagZZ</th>\n",
       "      <th>lemma</th>\n",
       "      <th>lemma_tag</th>\n",
       "      <th>lemma_tagZZ</th>\n",
       "      <th>num</th>\n",
       "      <th>meta</th>\n",
       "      <th>merkmal_order</th>\n",
       "      <th>score</th>\n",
       "      <th>hunspell</th>\n",
       "    </tr>\n",
       "  </thead>\n",
       "  <tbody>\n",
       "    <tr>\n",
       "      <th>1931610</th>\n",
       "      <td>gefriertrocknen</td>\n",
       "      <td>Ptz2</td>\n",
       "      <td>True</td>\n",
       "      <td>gefriergetrocknet</td>\n",
       "      <td>gefriergetrocknet</td>\n",
       "      <td>VVPP</td>\n",
       "      <td>ADJ</td>\n",
       "      <td>A</td>\n",
       "      <td>gefriertrocknen</td>\n",
       "      <td>VVFIN</td>\n",
       "      <td>V</td>\n",
       "      <td></td>\n",
       "      <td>manuell</td>\n",
       "      <td>1</td>\n",
       "      <td>1.442266</td>\n",
       "      <td>0</td>\n",
       "    </tr>\n",
       "    <tr>\n",
       "      <th>2283095</th>\n",
       "      <td>gefriergetrocknet</td>\n",
       "      <td>lemma</td>\n",
       "      <td>True</td>\n",
       "      <td>gefriergetrocknet</td>\n",
       "      <td>gefriergetrocknet</td>\n",
       "      <td>ADJA</td>\n",
       "      <td>ADJ</td>\n",
       "      <td>A</td>\n",
       "      <td>gefriergetrocknet</td>\n",
       "      <td>ADJA</td>\n",
       "      <td>A</td>\n",
       "      <td></td>\n",
       "      <td></td>\n",
       "      <td>0</td>\n",
       "      <td>1.034178</td>\n",
       "      <td>0</td>\n",
       "    </tr>\n",
       "    <tr>\n",
       "      <th>2473586</th>\n",
       "      <td>gefriertrocknen</td>\n",
       "      <td>Ptz2</td>\n",
       "      <td>True</td>\n",
       "      <td>gefriergetrocknet</td>\n",
       "      <td>gefriergetrocknet</td>\n",
       "      <td>ADJA</td>\n",
       "      <td>ADJ</td>\n",
       "      <td>A</td>\n",
       "      <td>gefriertrocknen</td>\n",
       "      <td>VVFIN</td>\n",
       "      <td>V</td>\n",
       "      <td></td>\n",
       "      <td>manuell</td>\n",
       "      <td>11</td>\n",
       "      <td>1.442266</td>\n",
       "      <td>0</td>\n",
       "    </tr>\n",
       "  </tbody>\n",
       "</table>\n",
       "</div>"
      ],
      "text/plain": [
       "                  lemma_id merkmal  is_lex            data_id  \\\n",
       "1931610    gefriertrocknen    Ptz2    True  gefriergetrocknet   \n",
       "2283095  gefriergetrocknet   lemma    True  gefriergetrocknet   \n",
       "2473586    gefriertrocknen    Ptz2    True  gefriergetrocknet   \n",
       "\n",
       "                      data data_tag data_tagZ data_tagZZ              lemma  \\\n",
       "1931610  gefriergetrocknet     VVPP       ADJ          A    gefriertrocknen   \n",
       "2283095  gefriergetrocknet     ADJA       ADJ          A  gefriergetrocknet   \n",
       "2473586  gefriergetrocknet     ADJA       ADJ          A    gefriertrocknen   \n",
       "\n",
       "        lemma_tag lemma_tagZZ num     meta  merkmal_order     score  hunspell  \n",
       "1931610     VVFIN           V      manuell              1  1.442266         0  \n",
       "2283095      ADJA           A                           0  1.034178         0  \n",
       "2473586     VVFIN           V      manuell             11  1.442266         0  "
      ]
     },
     "execution_count": 36,
     "metadata": {},
     "output_type": "execute_result"
    },
    {
     "name": "stdout",
     "output_type": "stream",
     "text": [
      "time: 299 ms\n"
     ]
    }
   ],
   "source": [
    "# wiktionary_merkmal\n",
    "mask1 = wiktionary_merkmal.is_lex == True\n",
    "mask2 = wiktionary_merkmal.data  == suche_P\n",
    "mask = mask1  &  mask2\n",
    "wiktionary_merkmal[mask]"
   ]
  },
  {
   "cell_type": "code",
   "execution_count": 37,
   "id": "cffa5900-c859-489f-aff0-b7803ec56433",
   "metadata": {},
   "outputs": [
    {
     "data": {
      "text/html": [
       "<div>\n",
       "<style scoped>\n",
       "    .dataframe tbody tr th:only-of-type {\n",
       "        vertical-align: middle;\n",
       "    }\n",
       "\n",
       "    .dataframe tbody tr th {\n",
       "        vertical-align: top;\n",
       "    }\n",
       "\n",
       "    .dataframe thead th {\n",
       "        text-align: right;\n",
       "    }\n",
       "</style>\n",
       "<table border=\"1\" class=\"dataframe\">\n",
       "  <thead>\n",
       "    <tr style=\"text-align: right;\">\n",
       "      <th></th>\n",
       "      <th>lemma_id</th>\n",
       "      <th>page_id</th>\n",
       "      <th>page_part</th>\n",
       "      <th>lemma</th>\n",
       "      <th>lemma_lower</th>\n",
       "      <th>isupper</th>\n",
       "      <th>lemma_len</th>\n",
       "      <th>tag</th>\n",
       "      <th>tag_0</th>\n",
       "      <th>tag_1</th>\n",
       "      <th>tagZ</th>\n",
       "      <th>tagZZ</th>\n",
       "      <th>member</th>\n",
       "      <th>data_id</th>\n",
       "      <th>score</th>\n",
       "      <th>doc_len</th>\n",
       "      <th>doc_lemma</th>\n",
       "      <th>doc_tag</th>\n",
       "      <th>lex_anz</th>\n",
       "      <th>nolex_anz</th>\n",
       "    </tr>\n",
       "  </thead>\n",
       "  <tbody>\n",
       "    <tr>\n",
       "      <th>2049</th>\n",
       "      <td>gefriertrocknen</td>\n",
       "      <td>1054310</td>\n",
       "      <td>0</td>\n",
       "      <td>gefriertrocknen</td>\n",
       "      <td>gefriertrocknen</td>\n",
       "      <td>False</td>\n",
       "      <td>1</td>\n",
       "      <td>VVFIN</td>\n",
       "      <td>VVFIN</td>\n",
       "      <td>XkCBLk3Wge</td>\n",
       "      <td>VER</td>\n",
       "      <td>V</td>\n",
       "      <td>manuell</td>\n",
       "      <td></td>\n",
       "      <td>31.451887</td>\n",
       "      <td>1</td>\n",
       "      <td>gefriertrockn</td>\n",
       "      <td>VVPP</td>\n",
       "      <td>18</td>\n",
       "      <td>18</td>\n",
       "    </tr>\n",
       "  </tbody>\n",
       "</table>\n",
       "</div>"
      ],
      "text/plain": [
       "             lemma_id  page_id  page_part            lemma      lemma_lower  \\\n",
       "2049  gefriertrocknen  1054310          0  gefriertrocknen  gefriertrocknen   \n",
       "\n",
       "      isupper  lemma_len    tag  tag_0       tag_1 tagZ tagZZ   member  \\\n",
       "2049    False          1  VVFIN  VVFIN  XkCBLk3Wge  VER     V  manuell   \n",
       "\n",
       "     data_id      score doc_len      doc_lemma doc_tag  lex_anz  nolex_anz  \n",
       "2049          31.451887       1  gefriertrockn    VVPP       18         18  "
      ]
     },
     "execution_count": 37,
     "metadata": {},
     "output_type": "execute_result"
    },
    {
     "name": "stdout",
     "output_type": "stream",
     "text": [
      "time: 93.4 ms\n"
     ]
    }
   ],
   "source": [
    "# das Verb in wiktionary_lemma\n",
    "mask1 = wiktionary_lemma.lemma == suche_L\n",
    "mask2 = wiktionary_lemma.tagZZ == 'V'\n",
    "mask = mask1  &  mask2\n",
    "\n",
    "suche_L_id = wiktionary_lemma[mask].iloc[0].lemma_id\n",
    "wiktionary_lemma[mask]"
   ]
  },
  {
   "cell_type": "code",
   "execution_count": 38,
   "id": "53bd728b-0f50-4a9b-baba-da12b22472a3",
   "metadata": {},
   "outputs": [
    {
     "data": {
      "text/html": [
       "<div>\n",
       "<style scoped>\n",
       "    .dataframe tbody tr th:only-of-type {\n",
       "        vertical-align: middle;\n",
       "    }\n",
       "\n",
       "    .dataframe tbody tr th {\n",
       "        vertical-align: top;\n",
       "    }\n",
       "\n",
       "    .dataframe thead th {\n",
       "        text-align: right;\n",
       "    }\n",
       "</style>\n",
       "<table border=\"1\" class=\"dataframe\">\n",
       "  <thead>\n",
       "    <tr style=\"text-align: right;\">\n",
       "      <th></th>\n",
       "      <th>lemma_id</th>\n",
       "      <th>page_id</th>\n",
       "      <th>page_part</th>\n",
       "      <th>lemma</th>\n",
       "      <th>lemma_lower</th>\n",
       "      <th>isupper</th>\n",
       "      <th>lemma_len</th>\n",
       "      <th>tag</th>\n",
       "      <th>tag_0</th>\n",
       "      <th>tag_1</th>\n",
       "      <th>tagZ</th>\n",
       "      <th>tagZZ</th>\n",
       "      <th>member</th>\n",
       "      <th>data_id</th>\n",
       "      <th>score</th>\n",
       "      <th>doc_len</th>\n",
       "      <th>doc_lemma</th>\n",
       "      <th>doc_tag</th>\n",
       "      <th>lex_anz</th>\n",
       "      <th>nolex_anz</th>\n",
       "    </tr>\n",
       "  </thead>\n",
       "  <tbody>\n",
       "    <tr>\n",
       "      <th>2048</th>\n",
       "      <td>gefriergetrocknet</td>\n",
       "      <td>273380</td>\n",
       "      <td>0</td>\n",
       "      <td>gefriergetrocknet</td>\n",
       "      <td>gefriergetrocknet</td>\n",
       "      <td>False</td>\n",
       "      <td>1</td>\n",
       "      <td>ADJA</td>\n",
       "      <td>ADJA</td>\n",
       "      <td>PQFyiOn9vW</td>\n",
       "      <td>ADJ</td>\n",
       "      <td>A</td>\n",
       "      <td>Ptz2 noSteig manuell</td>\n",
       "      <td>gefriertrocknen</td>\n",
       "      <td>10.341779</td>\n",
       "      <td>1</td>\n",
       "      <td>friergetrocknen</td>\n",
       "      <td>VVPP</td>\n",
       "      <td>1</td>\n",
       "      <td>4</td>\n",
       "    </tr>\n",
       "  </tbody>\n",
       "</table>\n",
       "</div>"
      ],
      "text/plain": [
       "               lemma_id  page_id  page_part              lemma  \\\n",
       "2048  gefriergetrocknet   273380          0  gefriergetrocknet   \n",
       "\n",
       "            lemma_lower  isupper  lemma_len   tag tag_0       tag_1 tagZ  \\\n",
       "2048  gefriergetrocknet    False          1  ADJA  ADJA  PQFyiOn9vW  ADJ   \n",
       "\n",
       "     tagZZ                member          data_id      score doc_len  \\\n",
       "2048     A  Ptz2 noSteig manuell  gefriertrocknen  10.341779       1   \n",
       "\n",
       "            doc_lemma doc_tag  lex_anz  nolex_anz  \n",
       "2048  friergetrocknen    VVPP        1          4  "
      ]
     },
     "execution_count": 38,
     "metadata": {},
     "output_type": "execute_result"
    },
    {
     "name": "stdout",
     "output_type": "stream",
     "text": [
      "time: 166 ms\n"
     ]
    }
   ],
   "source": [
    "# das Adjektiv in wiktionary_lemma\n",
    "mask1 = wiktionary_lemma.lemma == suche_P\n",
    "mask2 = wiktionary_lemma.tagZZ == 'A'\n",
    "mask3 = wiktionary_lemma.member.str.contains('Ptz')\n",
    "mask4 = wiktionary_lemma.data_id == suche_L_id\n",
    "mask = mask1  &  mask2  &  mask3  &  mask4\n",
    "\n",
    "suche_P_id = wiktionary_lemma[mask].iloc[0].lemma_id\n",
    "wiktionary_lemma[mask]"
   ]
  },
  {
   "cell_type": "code",
   "execution_count": 39,
   "id": "bbc577e2-61b7-437b-b233-2050eabb484d",
   "metadata": {},
   "outputs": [
    {
     "data": {
      "text/html": [
       "<div>\n",
       "<style scoped>\n",
       "    .dataframe tbody tr th:only-of-type {\n",
       "        vertical-align: middle;\n",
       "    }\n",
       "\n",
       "    .dataframe tbody tr th {\n",
       "        vertical-align: top;\n",
       "    }\n",
       "\n",
       "    .dataframe thead th {\n",
       "        text-align: right;\n",
       "    }\n",
       "</style>\n",
       "<table border=\"1\" class=\"dataframe\">\n",
       "  <thead>\n",
       "    <tr style=\"text-align: right;\">\n",
       "      <th></th>\n",
       "      <th>lemma_id</th>\n",
       "      <th>merkmal</th>\n",
       "      <th>is_lex</th>\n",
       "      <th>data_id</th>\n",
       "      <th>data</th>\n",
       "      <th>data_tag</th>\n",
       "      <th>data_tagZ</th>\n",
       "      <th>data_tagZZ</th>\n",
       "      <th>lemma</th>\n",
       "      <th>lemma_tag</th>\n",
       "      <th>lemma_tagZZ</th>\n",
       "      <th>num</th>\n",
       "      <th>meta</th>\n",
       "      <th>merkmal_order</th>\n",
       "      <th>score</th>\n",
       "      <th>hunspell</th>\n",
       "    </tr>\n",
       "  </thead>\n",
       "  <tbody>\n",
       "    <tr>\n",
       "      <th>1931610</th>\n",
       "      <td>gefriertrocknen</td>\n",
       "      <td>Ptz2</td>\n",
       "      <td>True</td>\n",
       "      <td>gefriergetrocknet</td>\n",
       "      <td>gefriergetrocknet</td>\n",
       "      <td>VVPP</td>\n",
       "      <td>ADJ</td>\n",
       "      <td>A</td>\n",
       "      <td>gefriertrocknen</td>\n",
       "      <td>VVFIN</td>\n",
       "      <td>V</td>\n",
       "      <td></td>\n",
       "      <td>manuell</td>\n",
       "      <td>1</td>\n",
       "      <td>1.442266</td>\n",
       "      <td>0</td>\n",
       "    </tr>\n",
       "    <tr>\n",
       "      <th>2473586</th>\n",
       "      <td>gefriertrocknen</td>\n",
       "      <td>Ptz2</td>\n",
       "      <td>True</td>\n",
       "      <td>gefriergetrocknet</td>\n",
       "      <td>gefriergetrocknet</td>\n",
       "      <td>ADJA</td>\n",
       "      <td>ADJ</td>\n",
       "      <td>A</td>\n",
       "      <td>gefriertrocknen</td>\n",
       "      <td>VVFIN</td>\n",
       "      <td>V</td>\n",
       "      <td></td>\n",
       "      <td>manuell</td>\n",
       "      <td>11</td>\n",
       "      <td>1.442266</td>\n",
       "      <td>0</td>\n",
       "    </tr>\n",
       "  </tbody>\n",
       "</table>\n",
       "</div>"
      ],
      "text/plain": [
       "                lemma_id merkmal  is_lex            data_id  \\\n",
       "1931610  gefriertrocknen    Ptz2    True  gefriergetrocknet   \n",
       "2473586  gefriertrocknen    Ptz2    True  gefriergetrocknet   \n",
       "\n",
       "                      data data_tag data_tagZ data_tagZZ            lemma  \\\n",
       "1931610  gefriergetrocknet     VVPP       ADJ          A  gefriertrocknen   \n",
       "2473586  gefriergetrocknet     ADJA       ADJ          A  gefriertrocknen   \n",
       "\n",
       "        lemma_tag lemma_tagZZ num     meta  merkmal_order     score  hunspell  \n",
       "1931610     VVFIN           V      manuell              1  1.442266         0  \n",
       "2473586     VVFIN           V      manuell             11  1.442266         0  "
      ]
     },
     "execution_count": 39,
     "metadata": {},
     "output_type": "execute_result"
    },
    {
     "name": "stdout",
     "output_type": "stream",
     "text": [
      "time: 2.69 s\n"
     ]
    }
   ],
   "source": [
    "# Das Ptz-Merkmal in wiktionary_lemma\n",
    "mask1 = wiktionary_merkmal.data == suche_P\n",
    "mask2 = wiktionary_merkmal.merkmal.str.startswith('Ptz')\n",
    "mask3 = wiktionary_merkmal.lemma_tag.str.startswith('V')\n",
    "mask4 = wiktionary_merkmal.lemma_id == suche_L_id   # zeigt aufs Verb\n",
    "mask5 = wiktionary_merkmal.data_id  == suche_P_id   # zeigt aufs Adjektiv\n",
    "mask = mask1  &  mask2  &  mask3  &  mask4  &  mask5\n",
    "wiktionary_merkmal[mask]"
   ]
  },
  {
   "cell_type": "markdown",
   "id": "8cc47b14-f770-4bdc-9857-52400f7834ba",
   "metadata": {},
   "source": [
    "### Testlexeme"
   ]
  },
  {
   "cell_type": "code",
   "execution_count": 64,
   "id": "135e0d75-b2cd-46c0-a8d0-d48fc6339c7d",
   "metadata": {},
   "outputs": [
    {
     "name": "stdout",
     "output_type": "stream",
     "text": [
      "79 rows loaded\n",
      "No rows deleted\n",
      "time: 108 ms\n"
     ]
    }
   ],
   "source": [
    "# lex_test, lemma_test\n",
    "from x32_Funktionen import *\n",
    "lex_test, lemma_test = lade_lex_text( lex_test_filename, level=4 )\n",
    "#grid(lemma_test)"
   ]
  },
  {
   "cell_type": "code",
   "execution_count": 65,
   "id": "88f75752-27cf-4e2e-ba97-1b692d769499",
   "metadata": {},
   "outputs": [
    {
     "name": "stdout",
     "output_type": "stream",
     "text": [
      "time: 4.11 s\n"
     ]
    }
   ],
   "source": [
    "# lemma_test\n",
    "from x32_Funktionen import *\n",
    "lemma_test = check_lemma_test(lemma_test, wiktionary_lemma)\n",
    "#lemma_test"
   ]
  },
  {
   "cell_type": "code",
   "execution_count": 66,
   "id": "43749768-2493-4178-abee-4a62685b260d",
   "metadata": {},
   "outputs": [
    {
     "name": "stdout",
     "output_type": "stream",
     "text": [
      "check_mask:  0 rows\n"
     ]
    },
    {
     "data": {
      "text/html": [
       "<div>\n",
       "<style scoped>\n",
       "    .dataframe tbody tr th:only-of-type {\n",
       "        vertical-align: middle;\n",
       "    }\n",
       "\n",
       "    .dataframe tbody tr th {\n",
       "        vertical-align: top;\n",
       "    }\n",
       "\n",
       "    .dataframe thead th {\n",
       "        text-align: right;\n",
       "    }\n",
       "</style>\n",
       "<table border=\"1\" class=\"dataframe\">\n",
       "  <thead>\n",
       "    <tr style=\"text-align: right;\">\n",
       "      <th></th>\n",
       "      <th>level</th>\n",
       "      <th>lemma_id</th>\n",
       "      <th>lemma</th>\n",
       "      <th>tag_soll</th>\n",
       "      <th>tag_ist</th>\n",
       "      <th>member_soll</th>\n",
       "      <th>check_tag</th>\n",
       "      <th>member_ist</th>\n",
       "      <th>check_member</th>\n",
       "    </tr>\n",
       "  </thead>\n",
       "  <tbody>\n",
       "  </tbody>\n",
       "</table>\n",
       "</div>"
      ],
      "text/plain": [
       "Empty DataFrame\n",
       "Columns: [level, lemma_id, lemma, tag_soll, tag_ist, member_soll, check_tag, member_ist, check_member]\n",
       "Index: []"
      ]
     },
     "execution_count": 66,
     "metadata": {},
     "output_type": "execute_result"
    },
    {
     "name": "stdout",
     "output_type": "stream",
     "text": [
      "time: 44.3 ms\n"
     ]
    }
   ],
   "source": [
    "# Fehler\n",
    "maskA = lemma_test.lemma_id == ''\n",
    "maskB = lemma_test.check_tag == ''\n",
    "maskC = lemma_test.check_member == ''\n",
    "mask = maskA | maskB | maskC\n",
    "check_mask(lemma_test,mask)\n",
    "\n",
    "probleme = list(lemma_test[mask].lemma)\n",
    "lemma_test[mask]"
   ]
  },
  {
   "cell_type": "code",
   "execution_count": 67,
   "id": "de3afaa9-8b89-423c-bf22-e1b9ac03a3b0",
   "metadata": {},
   "outputs": [
    {
     "name": "stdout",
     "output_type": "stream",
     "text": [
      "check_mask:  0 rows\n",
      "time: 43.7 ms\n"
     ]
    }
   ],
   "source": [
    "# Sicherstellen: Keine Fehler\n",
    "check_mask(lemma_test,mask,0)"
   ]
  },
  {
   "cell_type": "markdown",
   "id": "706e7c96-cf4b-4733-bbab-7a2e1c80e6b5",
   "metadata": {},
   "source": [
    "### lex_test"
   ]
  },
  {
   "cell_type": "code",
   "execution_count": 68,
   "id": "f9c05395-cac0-4dc1-957a-c909edc4e40e",
   "metadata": {},
   "outputs": [
    {
     "name": "stdout",
     "output_type": "stream",
     "text": [
      "time: 23 s\n"
     ]
    }
   ],
   "source": [
    "# lex_test\n",
    "from x32_Funktionen import *\n",
    "lex_test = check_lex_test(lex_test, translate_lex)\n",
    "#lex_test"
   ]
  },
  {
   "cell_type": "code",
   "execution_count": 69,
   "id": "4a6ad556-704e-4ebf-b076-0ff5138dbf0b",
   "metadata": {},
   "outputs": [
    {
     "name": "stdout",
     "output_type": "stream",
     "text": [
      "check_mask:  2 rows\n"
     ]
    },
    {
     "data": {
      "text/html": [
       "<div>\n",
       "<style scoped>\n",
       "    .dataframe tbody tr th:only-of-type {\n",
       "        vertical-align: middle;\n",
       "    }\n",
       "\n",
       "    .dataframe tbody tr th {\n",
       "        vertical-align: top;\n",
       "    }\n",
       "\n",
       "    .dataframe thead th {\n",
       "        text-align: right;\n",
       "    }\n",
       "</style>\n",
       "<table border=\"1\" class=\"dataframe\">\n",
       "  <thead>\n",
       "    <tr style=\"text-align: right;\">\n",
       "      <th></th>\n",
       "      <th>level</th>\n",
       "      <th>lex_id</th>\n",
       "      <th>lex</th>\n",
       "      <th>lex_tag_soll</th>\n",
       "      <th>lex_tag_ist</th>\n",
       "      <th>lemma</th>\n",
       "      <th>lemma_ist</th>\n",
       "      <th>notiz</th>\n",
       "      <th>check_tag</th>\n",
       "    </tr>\n",
       "  </thead>\n",
       "  <tbody>\n",
       "    <tr>\n",
       "      <th>35</th>\n",
       "      <td>4</td>\n",
       "      <td>Ackermänner</td>\n",
       "      <td>Ackermänner</td>\n",
       "      <td>NE</td>\n",
       "      <td>NN</td>\n",
       "      <td>Ackermann</td>\n",
       "      <td>Ackermann</td>\n",
       "      <td></td>\n",
       "      <td></td>\n",
       "    </tr>\n",
       "    <tr>\n",
       "      <th>60</th>\n",
       "      <td>4</td>\n",
       "      <td>habs</td>\n",
       "      <td>habs</td>\n",
       "      <td>VAFIN</td>\n",
       "      <td>DIV</td>\n",
       "      <td>haben</td>\n",
       "      <td>habs</td>\n",
       "      <td></td>\n",
       "      <td></td>\n",
       "    </tr>\n",
       "  </tbody>\n",
       "</table>\n",
       "</div>"
      ],
      "text/plain": [
       "    level       lex_id          lex lex_tag_soll lex_tag_ist      lemma  \\\n",
       "35      4  Ackermänner  Ackermänner           NE          NN  Ackermann   \n",
       "60      4         habs         habs        VAFIN         DIV      haben   \n",
       "\n",
       "    lemma_ist notiz check_tag  \n",
       "35  Ackermann                  \n",
       "60       habs                  "
      ]
     },
     "execution_count": 69,
     "metadata": {},
     "output_type": "execute_result"
    },
    {
     "name": "stdout",
     "output_type": "stream",
     "text": [
      "time: 56.5 ms\n"
     ]
    }
   ],
   "source": [
    "# Fehler\n",
    "maskA = lex_test.lex_id == ''\n",
    "maskB = lex_test.check_tag == ''\n",
    "mask = maskA | maskB \n",
    "check_mask(lex_test,mask)\n",
    "\n",
    "probleme = list(lex_test[mask].lemma)\n",
    "lex_test[mask]"
   ]
  },
  {
   "cell_type": "code",
   "execution_count": 70,
   "id": "6a6bc795-129d-4517-8819-fdfb74d00311",
   "metadata": {},
   "outputs": [
    {
     "ename": "Exception",
     "evalue": "ERROR: 2 rows, but it should be a maximum of 0",
     "output_type": "error",
     "traceback": [
      "\u001b[0;31m---------------------------------------------------------------------------\u001b[0m",
      "\u001b[0;31mException\u001b[0m                                 Traceback (most recent call last)",
      "Cell \u001b[0;32mIn [70], line 2\u001b[0m\n\u001b[1;32m      1\u001b[0m \u001b[38;5;66;03m# Sicherstellen: Keine Fehler\u001b[39;00m\n\u001b[0;32m----> 2\u001b[0m \u001b[43mcheck_mask\u001b[49m\u001b[43m(\u001b[49m\u001b[43mlex_test\u001b[49m\u001b[43m,\u001b[49m\u001b[43mmask\u001b[49m\u001b[43m,\u001b[49m\u001b[38;5;241;43m0\u001b[39;49m\u001b[43m)\u001b[49m\n",
      "File \u001b[0;32m~/mambaforge/envs/python_06/lib/python3.9/site-packages/pandasklar/develop.py:90\u001b[0m, in \u001b[0;36mcheck_mask\u001b[0;34m(df, mask, expectation_min, expectation_max, msg, stop, verbose)\u001b[0m\n\u001b[1;32m     88\u001b[0m         e_min \u001b[38;5;241m=\u001b[39m \u001b[38;5;28mint\u001b[39m(expectation_min \u001b[38;5;241m*\u001b[39m \u001b[38;5;241m0.5\u001b[39m) \u001b[38;5;66;03m# Verdoppelung oder Halbierung wird toleriert\u001b[39;00m\n\u001b[1;32m     89\u001b[0m         e_max \u001b[38;5;241m=\u001b[39m \u001b[38;5;28mint\u001b[39m(expectation_min \u001b[38;5;241m*\u001b[39m \u001b[38;5;241m2.0\u001b[39m) \u001b[38;5;241m+\u001b[39m \u001b[38;5;241m1\u001b[39m        \n\u001b[0;32m---> 90\u001b[0m     \u001b[38;5;28;01mreturn\u001b[39;00m \u001b[43mcheck_mask\u001b[49m\u001b[43m(\u001b[49m\u001b[43mdf\u001b[49m\u001b[43m,\u001b[49m\u001b[43m \u001b[49m\u001b[43mmask\u001b[49m\u001b[43m,\u001b[49m\u001b[43m \u001b[49m\u001b[43me_min\u001b[49m\u001b[43m,\u001b[49m\u001b[43m \u001b[49m\u001b[43me_max\u001b[49m\u001b[43m,\u001b[49m\u001b[43m \u001b[49m\u001b[43mmsg\u001b[49m\u001b[38;5;241;43m=\u001b[39;49m\u001b[43mmsg\u001b[49m\u001b[43m,\u001b[49m\u001b[43m \u001b[49m\u001b[43mstop\u001b[49m\u001b[38;5;241;43m=\u001b[39;49m\u001b[43mstop\u001b[49m\u001b[43m,\u001b[49m\u001b[43m \u001b[49m\u001b[43mverbose\u001b[49m\u001b[38;5;241;43m=\u001b[39;49m\u001b[43mverbose\u001b[49m\u001b[43m)\u001b[49m \n\u001b[1;32m     92\u001b[0m \u001b[38;5;28;01mif\u001b[39;00m \u001b[38;5;28mtype\u001b[39m(mask) \u001b[38;5;241m==\u001b[39m pd\u001b[38;5;241m.\u001b[39mSeries   \u001b[38;5;129;01mor\u001b[39;00m   \u001b[38;5;28mtype\u001b[39m(mask) \u001b[38;5;241m==\u001b[39m np\u001b[38;5;241m.\u001b[39mndarray:\n\u001b[1;32m     93\u001b[0m     anz_ds \u001b[38;5;241m=\u001b[39m df[mask]\u001b[38;5;241m.\u001b[39mshape[\u001b[38;5;241m0\u001b[39m]\n",
      "File \u001b[0;32m~/mambaforge/envs/python_06/lib/python3.9/site-packages/pandasklar/develop.py:118\u001b[0m, in \u001b[0;36mcheck_mask\u001b[0;34m(df, mask, expectation_min, expectation_max, msg, stop, verbose)\u001b[0m\n\u001b[1;32m    116\u001b[0m \u001b[38;5;28;01mif\u001b[39;00m (anz_ds \u001b[38;5;241m>\u001b[39m expectation_max)  \u001b[38;5;129;01mor\u001b[39;00m (anz_ds \u001b[38;5;241m<\u001b[39m expectation_min):\n\u001b[1;32m    117\u001b[0m     \u001b[38;5;28;01mif\u001b[39;00m stop:\n\u001b[0;32m--> 118\u001b[0m         \u001b[38;5;28;01mraise\u001b[39;00m \u001b[38;5;167;01mException\u001b[39;00m(  (msg \u001b[38;5;241m+\u001b[39m error)\u001b[38;5;241m.\u001b[39mstrip()  )\n\u001b[1;32m    120\u001b[0m     \u001b[38;5;28;01melse\u001b[39;00m:\n\u001b[1;32m    121\u001b[0m         print_red(   (msg \u001b[38;5;241m+\u001b[39m error)\u001b[38;5;241m.\u001b[39mstrip()  )\n",
      "\u001b[0;31mException\u001b[0m: ERROR: 2 rows, but it should be a maximum of 0"
     ]
    },
    {
     "name": "stdout",
     "output_type": "stream",
     "text": [
      "time: 732 ms\n"
     ]
    }
   ],
   "source": [
    "# Sicherstellen: Keine Fehler\n",
    "check_mask(lex_test,mask,0)"
   ]
  },
  {
   "cell_type": "code",
   "execution_count": null,
   "id": "3c2159e7-cc7a-4479-8167-3ecaceaa273e",
   "metadata": {
    "tags": []
   },
   "outputs": [],
   "source": [
    "bgc('green')"
   ]
  },
  {
   "cell_type": "markdown",
   "id": "a34ab9be-7153-4cf4-a005-a1e7f2daec5e",
   "metadata": {},
   "source": [
    "## suche_debug"
   ]
  },
  {
   "cell_type": "code",
   "execution_count": null,
   "id": "e93493bd-bbd9-4a6e-bc37-88c1a10aed3e",
   "metadata": {},
   "outputs": [],
   "source": [
    "# wiktionary_lemma suche_debug\n",
    "grid(search_str(wiktionary_lemma, suche_debug))"
   ]
  },
  {
   "cell_type": "code",
   "execution_count": null,
   "id": "a915d852-babd-449e-b598-38bf1b1a7340",
   "metadata": {},
   "outputs": [],
   "source": [
    "# translate_lex suche_debug\n",
    "grid(search_str(translate_lex, suche_debug))"
   ]
  },
  {
   "cell_type": "code",
   "execution_count": null,
   "id": "1a4a1261-abd8-46c4-8655-965b47afde32",
   "metadata": {},
   "outputs": [],
   "source": [
    "# wiktionary_merkmal\n",
    "mask = wiktionary_merkmal.lemma_id == suche_debug[0]\n",
    "a = wiktionary_merkmal[mask].sort_values(['merkmal','lemma_id','data'])\n",
    "grid(a)"
   ]
  },
  {
   "cell_type": "code",
   "execution_count": null,
   "id": "2d75475e-49cb-4c83-a048-916919c259f8",
   "metadata": {},
   "outputs": [],
   "source": [
    "# wiktionary_merkmal\n",
    "mask = wiktionary_merkmal.data.isin(suche_debug) \n",
    "a = wiktionary_merkmal[mask].sort_values(['merkmal','lemma_id','data'])\n",
    "grid(a)"
   ]
  },
  {
   "cell_type": "markdown",
   "id": "19e8b7a6-06d5-4b56-9883-4eeac385c19a",
   "metadata": {},
   "source": [
    "## Work =========="
   ]
  },
  {
   "cell_type": "markdown",
   "id": "48679372-6cf0-4ffe-978c-5804a933b41d",
   "metadata": {},
   "source": [
    "## Speichern =========="
   ]
  },
  {
   "cell_type": "code",
   "execution_count": null,
   "id": "a33a20ab",
   "metadata": {
    "tags": []
   },
   "outputs": [],
   "source": [
    "assert gründlich"
   ]
  },
  {
   "cell_type": "code",
   "execution_count": null,
   "id": "4e9d3aa1",
   "metadata": {},
   "outputs": [],
   "source": [
    "# Speichern  \n",
    "pak.dump_pickle(wiktionary_lemma,         wiktionary_lemma_filename_save)   \n",
    "pak.dump_pickle(wiktionary_merkmal,       wiktionary_merkmal_filename_save) \n",
    "pak.dump_pickle(wiktionary_merkmal_text,  wiktionary_merkmal_text_filename_save)  \n",
    "pak.dump_pickle(translate_lemma,          translate_lemma_filename_save) \n",
    "pak.dump_pickle(translate_lex,            translate_lex_filename_save)\n",
    "os.utime(verzeichnis_save)"
   ]
  },
  {
   "cell_type": "code",
   "execution_count": null,
   "id": "a8a08fc2-8914-43b7-982d-33d1dac0b954",
   "metadata": {
    "colab": {
     "base_uri": "https://localhost:8080/"
    },
    "executionInfo": {
     "elapsed": 7425,
     "status": "ok",
     "timestamp": 1676479015113,
     "user": {
      "displayName": "Hups Hopsalla",
      "userId": "10020718461385065661"
     },
     "user_tz": -60
    },
    "id": "dbiDceKXyUx7",
    "outputId": "beb0cf2a-bc86-47c4-81e6-b11c7354957c"
   },
   "outputs": [],
   "source": [
    "# Save in Google Drive\n",
    "if environment['in_colab']:\n",
    "    from google.colab import drive\n",
    "    drive.mount('/content/drive') \n",
    "    !cd /content\n",
    "    !cp -av {verzeichnis_save} /content/drive/MyDrive"
   ]
  },
  {
   "cell_type": "code",
   "execution_count": null,
   "id": "36ab1941-6981-458d-9161-1a5dee3dbd30",
   "metadata": {},
   "outputs": [],
   "source": [
    "raise Stop"
   ]
  },
  {
   "cell_type": "markdown",
   "id": "da3bab5e-463c-4974-872d-e1e1b79844a1",
   "metadata": {},
   "source": [
    "## suche_error =========="
   ]
  },
  {
   "cell_type": "code",
   "execution_count": null,
   "id": "24c03f7e-258d-49b1-a124-f23ddf2c5cdd",
   "metadata": {},
   "outputs": [],
   "source": [
    "suche_debug = [suche_error[1]]\n",
    "suche_debug"
   ]
  },
  {
   "cell_type": "code",
   "execution_count": null,
   "id": "88773037-0db2-4046-b43a-15f17e679149",
   "metadata": {},
   "outputs": [],
   "source": [
    "# suche_debug wiktionary_lemma\n",
    "mask = wiktionary_lemma.lemma.isin(suche_debug)\n",
    "(wiktionary_lemma[mask])"
   ]
  },
  {
   "cell_type": "code",
   "execution_count": null,
   "id": "40faf83c-fc88-418b-8a2b-8380713ab24d",
   "metadata": {},
   "outputs": [],
   "source": [
    "# suche_debug wiktionary_lemma_trash\n",
    "mask = wiktionary_lemma_trash.lemma.isin(suche_debug)\n",
    "(wiktionary_lemma_trash[mask])"
   ]
  },
  {
   "cell_type": "code",
   "execution_count": null,
   "id": "c9e70e15-6152-43ee-9fe5-737ea458f9b1",
   "metadata": {},
   "outputs": [],
   "source": [
    "# translate_lex\n",
    "search_str(translate_lex, suche_debug)"
   ]
  },
  {
   "cell_type": "code",
   "execution_count": null,
   "id": "c0e3a49b-0d1b-48b8-b14f-a6aa1a821dd7",
   "metadata": {},
   "outputs": [],
   "source": [
    "# translate_lex_full\n",
    "search_str(translate_lex_full, suche_debug)"
   ]
  },
  {
   "cell_type": "code",
   "execution_count": null,
   "id": "00983009-8dcf-46b7-bfcc-149fa6791c28",
   "metadata": {},
   "outputs": [],
   "source": [
    "# suche_debug translate_lemma\n",
    "search_str(translate_lemma, suche_debug)"
   ]
  },
  {
   "cell_type": "code",
   "execution_count": null,
   "id": "2fc4bafd-6b42-4c13-ba06-75006aa12460",
   "metadata": {},
   "outputs": [],
   "source": [
    "# wiktionary_merkmal\n",
    "mask = wiktionary_merkmal.lemma.isin(suche_debug)\n",
    "grid(wiktionary_merkmal,mask)"
   ]
  },
  {
   "cell_type": "code",
   "execution_count": null,
   "id": "ae164b8e-1732-4cf5-a694-132e0f6c055a",
   "metadata": {},
   "outputs": [],
   "source": [
    "# wiktionary_merkmal\n",
    "mask = wiktionary_merkmal.data.isin(['besonne'])\n",
    "grid(wiktionary_merkmal,mask)"
   ]
  },
  {
   "cell_type": "code",
   "execution_count": null,
   "id": "46b088c6-eb41-436d-9591-e6b5cdf1aebe",
   "metadata": {},
   "outputs": [],
   "source": [
    "# suche_debug wiktionary_merkmal\n",
    "mask = wiktionary_merkmal.is_lex == True\n",
    "a = search_str(wiktionary_merkmal[mask], suche_debug)\n",
    "grid(a.sort_values(['lemma_id','merkmal']))"
   ]
  },
  {
   "cell_type": "code",
   "execution_count": null,
   "id": "1f93716f-977b-460b-af0e-896e39f50e86",
   "metadata": {},
   "outputs": [],
   "source": [
    "# suche_debug wiktionary_merkmal\n",
    "mask = wiktionary_merkmal.is_lex == True\n",
    "a = search_str(wiktionary_merkmal[mask], suche_debug)\n",
    "grid(a.sort_values(['lemma_id','merkmal']))"
   ]
  },
  {
   "cell_type": "code",
   "execution_count": null,
   "id": "d30ef5f4-f78a-49fe-83f3-87a41d41889d",
   "metadata": {},
   "outputs": [],
   "source": [
    "# suche_debug wiktionary_merkmal_text\n",
    "mask = wiktionary_merkmal.lemma_id.isin(suche_debug)\n",
    "ids = set(wiktionary_merkmal[mask].lemma_id)\n",
    "mask = wiktionary_merkmal_text.lemma_id.isin(ids)\n",
    "grid(wiktionary_merkmal_text,mask)"
   ]
  },
  {
   "cell_type": "code",
   "execution_count": null,
   "id": "5414a0f7-4e31-43dd-90e4-714dd9b6b661",
   "metadata": {
    "tags": []
   },
   "outputs": [],
   "source": [
    "raise Stop"
   ]
  }
 ],
 "metadata": {
  "kernelspec": {
   "display_name": "Python 3 (ipykernel)",
   "language": "python",
   "name": "python3"
  },
  "language_info": {
   "codemirror_mode": {
    "name": "ipython",
    "version": 3
   },
   "file_extension": ".py",
   "mimetype": "text/x-python",
   "name": "python",
   "nbconvert_exporter": "python",
   "pygments_lexer": "ipython3",
   "version": "3.9.13"
  }
 },
 "nbformat": 4,
 "nbformat_minor": 5
}
