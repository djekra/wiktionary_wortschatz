{
 "cells": [
  {
   "cell_type": "markdown",
   "id": "292f513d-b9c9-4744-a552-be9ca7bf6e64",
   "metadata": {
    "id": "lSehjmZun5OP"
   },
   "source": [
    "__[Open and try this file online (Colab)](https://colab.research.google.com/github/djekra/wiktionary_wortschatz/blob/master/1_wiktionary_parsen/x36_d02_identifizieren.ipynb)__"
   ]
  },
  {
   "cell_type": "markdown",
   "id": "58fc9afb",
   "metadata": {},
   "source": [
    "# Identifizieren\n",
    "* speichert in data_02\n",
    "* lex_test level 2"
   ]
  },
  {
   "cell_type": "markdown",
   "id": "add82721-3db4-4a4e-893f-de5a95582df4",
   "metadata": {},
   "source": [
    "## Import"
   ]
  },
  {
   "cell_type": "code",
   "execution_count": 1,
   "id": "54e6875f-19a3-4095-a876-807e0ff092fa",
   "metadata": {
    "execution": {
     "iopub.execute_input": "2023-03-02T23:17:45.249806Z",
     "iopub.status.busy": "2023-03-02T23:17:45.249316Z",
     "iopub.status.idle": "2023-03-02T23:17:46.360467Z",
     "shell.execute_reply": "2023-03-02T23:17:46.359796Z",
     "shell.execute_reply.started": "2023-03-02T23:17:45.249704Z"
    }
   },
   "outputs": [
    {
     "name": "stdout",
     "output_type": "stream",
     "text": [
      "blab init\n",
      "environment['in_colab']     = False\n",
      "environment['dropbox_path'] = /home/me/Data_Linux/Dropbox\n",
      "environment['lib_path']     = /home/me/Data_Linux/Dropbox/31_Projekte/01_Python/libs\n",
      "Start Time: 00:17:45\n"
     ]
    },
    {
     "data": {
      "text/html": [
       "<img src onerror=\"var cell = this.closest('.jp-CodeCell');var editor = cell.querySelector('.jp-Editor');editor.style.background='Beige';this.parentNode.removeChild(this)\">"
      ],
      "text/plain": [
       "<IPython.core.display.HTML object>"
      ]
     },
     "metadata": {},
     "output_type": "display_data"
    }
   ],
   "source": [
    "# blab init\n",
    "try:\n",
    "    import blab\n",
    "except ImportError as e:\n",
    "    !pip install blab\n",
    "    import blab    \n",
    "startup_notebook = blab.blab_startup()\n",
    "%run $startup_notebook "
   ]
  },
  {
   "cell_type": "code",
   "execution_count": 2,
   "id": "73c3d6d3-a70a-4c0c-9076-bcf9f4126d71",
   "metadata": {
    "execution": {
     "iopub.execute_input": "2023-03-02T23:17:46.362118Z",
     "iopub.status.busy": "2023-03-02T23:17:46.361777Z",
     "iopub.status.idle": "2023-03-02T23:17:46.755095Z",
     "shell.execute_reply": "2023-03-02T23:17:46.754458Z",
     "shell.execute_reply.started": "2023-03-02T23:17:46.362092Z"
    }
   },
   "outputs": [],
   "source": [
    "# pandas\n",
    "if environment['in_colab']:\n",
    "    !pip install --upgrade pandas\n",
    "import pandas as pd"
   ]
  },
  {
   "cell_type": "code",
   "execution_count": 3,
   "id": "e765a221-def0-4b65-8fa6-d6ce29659386",
   "metadata": {
    "execution": {
     "iopub.execute_input": "2023-03-02T23:17:46.759294Z",
     "iopub.status.busy": "2023-03-02T23:17:46.758984Z",
     "iopub.status.idle": "2023-03-02T23:17:52.615232Z",
     "shell.execute_reply": "2023-03-02T23:17:52.614517Z",
     "shell.execute_reply.started": "2023-03-02T23:17:46.759266Z"
    }
   },
   "outputs": [],
   "source": [
    "# alle anderen\n",
    "try:\n",
    "    import pandasklar as pak, bpyth as bpy, bj_nlp, swifter\n",
    "\n",
    "except ImportError as e:\n",
    "    !pip install pandasklar swifter bj_nlp\n",
    "    import pandasklar as pak, bpyth as bpy, bj_nlp, swifter\n",
    "    \n",
    "grid       = pak.grid\n",
    "from functools import partial\n",
    "gridt = partial(grid, backend='dtale')    # dTale-Nutzung erzwungen\n",
    "\n",
    "check_mask = pak.check_mask      "
   ]
  },
  {
   "cell_type": "markdown",
   "id": "47f543b9-c3ac-4e41-af85-4b8467d1af9e",
   "metadata": {},
   "source": [
    "## Einstellungen"
   ]
  },
  {
   "cell_type": "code",
   "execution_count": 4,
   "id": "4382d29c",
   "metadata": {
    "execution": {
     "iopub.execute_input": "2023-03-02T23:17:52.617391Z",
     "iopub.status.busy": "2023-03-02T23:17:52.616837Z",
     "iopub.status.idle": "2023-03-02T23:17:52.673011Z",
     "shell.execute_reply": "2023-03-02T23:17:52.671885Z",
     "shell.execute_reply.started": "2023-03-02T23:17:52.617363Z"
    },
    "tags": []
   },
   "outputs": [
    {
     "name": "stdout",
     "output_type": "stream",
     "text": [
      "VERBOSE = True\n",
      "--> setting verbose=True as default for all pandasklar functions\n",
      "\n",
      "GRID_BACKEND = \n",
      "--> setting backend= as default for all pandasklar functions\n",
      "\n"
     ]
    }
   ],
   "source": [
    "# Einstellungen\n",
    "\n",
    "# Was debuggen?\n",
    "suche_debug = ['Euro','€','tugendhaftestes','zu viele','zuviele', 'zu viel']  \n",
    "suche_debug = ['€'] \n",
    "\n",
    "gründlich = True # einige Arbeitsschritte können weggelassen werden, wenn gründlich = True\n",
    "version = '_all'\n",
    "#version = '_100K'\n",
    "\n",
    "# verbose\n",
    "pak.Config.set('VERBOSE', True)\n",
    "\n",
    "# Darstellung der Dataframes\n",
    "pak.Config.set('GRID_BACKEND', '')   # standardmäßig kein dTale\n",
    "pd.set_option('max_colwidth', 2000)  # aber dafür breiter\n",
    "\n",
    "# Load\n",
    "verzeichnis_load                         = 'data_01'\n",
    "wiktionary_lemma_filename                = verzeichnis_load + '/wiktionary_lemma'        + version + '.pickle'  \n",
    "wiktionary_nolemma_filename              = verzeichnis_load + '/wiktionary_nolemma'      + version + '.pickle'  \n",
    "wiktionary_merkmal_filename              = verzeichnis_load + '/wiktionary_merkmal'      + version + '.pickle'  \n",
    "wiktionary_merkmal_text_filename         = verzeichnis_load + '/wiktionary_merkmal_text' + version + '.pickle'  \n",
    "\n",
    "# Steuertabellen\n",
    "lex_test_filename                        = 'Steuertabellen/lex_test.xlsx'  \n",
    "löschliste_filename                      = 'Steuertabellen/löschliste.xlsx'     \n",
    "     \n",
    "# Save\n",
    "verzeichnis_save                         = 'data_02'\n",
    "wiktionary_lemma_filename_save           = verzeichnis_save + '/wiktionary_lemma.pickle'  \n",
    "wiktionary_nolemma_filename_save         = verzeichnis_save + '/wiktionary_nolemma.pickle'  # wird als translate_lex wieder geladen\n",
    "wiktionary_merkmal_filename_save         = verzeichnis_save + '/wiktionary_merkmal.pickle'  \n",
    "wiktionary_merkmal_text_filename_save    = verzeichnis_save + '/wiktionary_merkmal_text.pickle'  \n",
    "wiktionary_merkmal_wertlos_filename_save = verzeichnis_save + '/wiktionary_merkmal_wertlos.pickle'  \n"
   ]
  },
  {
   "cell_type": "markdown",
   "id": "ca29735a-beda-407e-b05d-0c678faa7858",
   "metadata": {
    "id": "p1lM3YLgn5Ou"
   },
   "source": [
    "## Vorbereiten"
   ]
  },
  {
   "cell_type": "code",
   "execution_count": 5,
   "id": "82ffc21c-6a5d-4a23-8c64-20c86e7d572d",
   "metadata": {
    "colab": {
     "base_uri": "https://localhost:8080/"
    },
    "execution": {
     "iopub.execute_input": "2023-03-02T23:17:52.675496Z",
     "iopub.status.busy": "2023-03-02T23:17:52.675166Z",
     "iopub.status.idle": "2023-03-02T23:17:52.743042Z",
     "shell.execute_reply": "2023-03-02T23:17:52.742114Z",
     "shell.execute_reply.started": "2023-03-02T23:17:52.675468Z"
    },
    "executionInfo": {
     "elapsed": 13,
     "status": "ok",
     "timestamp": 1676476829076,
     "user": {
      "displayName": "Hups Hopsalla",
      "userId": "10020718461385065661"
     },
     "user_tz": -60
    },
    "id": "Oy4Rb6WZn5Ow",
    "outputId": "6b94d1aa-3ffa-4388-d3f4-53b785e09406"
   },
   "outputs": [],
   "source": [
    "# Verzeichnisse erzeugen\n",
    "os.makedirs(verzeichnis_load, exist_ok=True) \n",
    "os.makedirs(verzeichnis_save, exist_ok=True) "
   ]
  },
  {
   "cell_type": "code",
   "execution_count": 6,
   "id": "d37038fd-874c-49c4-a1db-3ae5a681f327",
   "metadata": {
    "execution": {
     "iopub.execute_input": "2023-03-02T23:17:52.750065Z",
     "iopub.status.busy": "2023-03-02T23:17:52.749789Z",
     "iopub.status.idle": "2023-03-02T23:17:52.802799Z",
     "shell.execute_reply": "2023-03-02T23:17:52.801798Z",
     "shell.execute_reply.started": "2023-03-02T23:17:52.750044Z"
    }
   },
   "outputs": [],
   "source": [
    "# Steuertabellen und Python-Files von Github herunterladen\n",
    "import os\n",
    "if not os.path.exists('Steuertabellen'):\n",
    "   !git clone https://github.com/djekra/wiktionary_wortschatz.git\n",
    "   !cp -r wiktionary_wortschatz/1_wiktionary_parsen/Steuertabellen Steuertabellen\n",
    "   !cp -r wiktionary_wortschatz/1_wiktionary_parsen/*.py .\n",
    "#   !rm -r wiktionary_wortschatz"
   ]
  },
  {
   "cell_type": "code",
   "execution_count": 7,
   "id": "1710b09d-0db6-489a-9c3e-30a606830a42",
   "metadata": {
    "colab": {
     "base_uri": "https://localhost:8080/"
    },
    "execution": {
     "iopub.execute_input": "2023-03-02T23:17:52.805769Z",
     "iopub.status.busy": "2023-03-02T23:17:52.805327Z",
     "iopub.status.idle": "2023-03-02T23:17:52.862893Z",
     "shell.execute_reply": "2023-03-02T23:17:52.860722Z",
     "shell.execute_reply.started": "2023-03-02T23:17:52.805734Z"
    },
    "executionInfo": {
     "elapsed": 7425,
     "status": "ok",
     "timestamp": 1676479015113,
     "user": {
      "displayName": "Hups Hopsalla",
      "userId": "10020718461385065661"
     },
     "user_tz": -60
    },
    "id": "dbiDceKXyUx7",
    "outputId": "beb0cf2a-bc86-47c4-81e6-b11c7354957c"
   },
   "outputs": [],
   "source": [
    "# Lade Ergebnisse der vorherigen Verarbeitungsstufe von Google Drive, falls nicht lokal vorhanden\n",
    "# Dieses Verzeichnis wurde in der vorherigen Verarbeitungsstufe angelegt \n",
    "if environment['in_colab']:\n",
    "    from google.colab import drive\n",
    "    drive.mount('/content/drive') \n",
    "    !cd /content\n",
    "    !cp -av /content/drive/MyDrive/{verzeichnis_load} ."
   ]
  },
  {
   "cell_type": "code",
   "execution_count": 8,
   "id": "0dd297b6",
   "metadata": {
    "execution": {
     "iopub.execute_input": "2023-03-02T23:17:52.869456Z",
     "iopub.status.busy": "2023-03-02T23:17:52.868721Z",
     "iopub.status.idle": "2023-03-02T23:17:52.970944Z",
     "shell.execute_reply": "2023-03-02T23:17:52.967849Z",
     "shell.execute_reply.started": "2023-03-02T23:17:52.869423Z"
    }
   },
   "outputs": [],
   "source": [
    "# Weitere Imports\n",
    "from Steuertabellen.s01_Steuertabellen import *\n",
    "from x32_Funktionen                    import *"
   ]
  },
  {
   "cell_type": "code",
   "execution_count": 9,
   "id": "6443dce1-13d0-4052-bd07-bd2b1f414a6f",
   "metadata": {
    "execution": {
     "iopub.execute_input": "2023-03-02T23:17:52.972656Z",
     "iopub.status.busy": "2023-03-02T23:17:52.972278Z",
     "iopub.status.idle": "2023-03-02T23:17:53.028818Z",
     "shell.execute_reply": "2023-03-02T23:17:53.026481Z",
     "shell.execute_reply.started": "2023-03-02T23:17:52.972623Z"
    }
   },
   "outputs": [],
   "source": [
    "#!python -m spacy download de_core_news_sm"
   ]
  },
  {
   "cell_type": "code",
   "execution_count": 10,
   "id": "d7ab2a1a-a14c-4e1a-92b0-ffa912a3dd83",
   "metadata": {
    "execution": {
     "iopub.execute_input": "2023-03-02T23:17:53.055710Z",
     "iopub.status.busy": "2023-03-02T23:17:53.048695Z",
     "iopub.status.idle": "2023-03-02T23:17:54.697211Z",
     "shell.execute_reply": "2023-03-02T23:17:54.696531Z",
     "shell.execute_reply.started": "2023-03-02T23:17:53.055673Z"
    }
   },
   "outputs": [
    {
     "name": "stdout",
     "output_type": "stream",
     "text": [
      "Input rtype=('dict', 'dict', 'list', 'str') shape=(-77, -77)\n",
      "rotated=True Output rtype=('DataFrame', 'Series') shape=(4, 6)\n",
      "model_name: de_core_news_sm\n",
      "vocab_len: 682\n",
      "pipe component disabled: ['senter']\n"
     ]
    },
    {
     "data": {
      "text/html": [
       "<div>\n",
       "<style scoped>\n",
       "    .dataframe tbody tr th:only-of-type {\n",
       "        vertical-align: middle;\n",
       "    }\n",
       "\n",
       "    .dataframe tbody tr th {\n",
       "        vertical-align: top;\n",
       "    }\n",
       "\n",
       "    .dataframe thead th {\n",
       "        text-align: right;\n",
       "    }\n",
       "</style>\n",
       "<table border=\"1\" class=\"dataframe\">\n",
       "  <thead>\n",
       "    <tr style=\"text-align: right;\">\n",
       "      <th></th>\n",
       "      <th>component</th>\n",
       "      <th>assigns</th>\n",
       "      <th>requires</th>\n",
       "      <th>scores</th>\n",
       "      <th>retokenizes</th>\n",
       "    </tr>\n",
       "  </thead>\n",
       "  <tbody>\n",
       "    <tr>\n",
       "      <th>0</th>\n",
       "      <td>tok2vec</td>\n",
       "      <td>[doc.tensor]</td>\n",
       "      <td>[]</td>\n",
       "      <td>[]</td>\n",
       "      <td>False</td>\n",
       "    </tr>\n",
       "    <tr>\n",
       "      <th>1</th>\n",
       "      <td>tagger</td>\n",
       "      <td>[token.tag]</td>\n",
       "      <td>[]</td>\n",
       "      <td>[tag_acc]</td>\n",
       "      <td>False</td>\n",
       "    </tr>\n",
       "    <tr>\n",
       "      <th>2</th>\n",
       "      <td>morphologizer</td>\n",
       "      <td>[token.morph, token.pos]</td>\n",
       "      <td>[]</td>\n",
       "      <td>[pos_acc, morph_acc, morph_per_feat]</td>\n",
       "      <td>False</td>\n",
       "    </tr>\n",
       "    <tr>\n",
       "      <th>3</th>\n",
       "      <td>lemmatizer</td>\n",
       "      <td>[token.lemma]</td>\n",
       "      <td>[]</td>\n",
       "      <td>[lemma_acc]</td>\n",
       "      <td>False</td>\n",
       "    </tr>\n",
       "    <tr>\n",
       "      <th>4</th>\n",
       "      <td>attribute_ruler</td>\n",
       "      <td>[]</td>\n",
       "      <td>[]</td>\n",
       "      <td>[]</td>\n",
       "      <td>False</td>\n",
       "    </tr>\n",
       "    <tr>\n",
       "      <th>5</th>\n",
       "      <td>ner</td>\n",
       "      <td>[doc.ents, token.ent_iob, token.ent_type]</td>\n",
       "      <td>[]</td>\n",
       "      <td>[ents_f, ents_p, ents_r, ents_per_type]</td>\n",
       "      <td>False</td>\n",
       "    </tr>\n",
       "  </tbody>\n",
       "</table>\n",
       "</div>"
      ],
      "text/plain": [
       "         component                                    assigns requires  \\\n",
       "0          tok2vec                               [doc.tensor]       []   \n",
       "1           tagger                                [token.tag]       []   \n",
       "2    morphologizer                   [token.morph, token.pos]       []   \n",
       "3       lemmatizer                              [token.lemma]       []   \n",
       "4  attribute_ruler                                         []       []   \n",
       "5              ner  [doc.ents, token.ent_iob, token.ent_type]       []   \n",
       "\n",
       "                                    scores retokenizes  \n",
       "0                                       []       False  \n",
       "1                                [tag_acc]       False  \n",
       "2     [pos_acc, morph_acc, morph_per_feat]       False  \n",
       "3                              [lemma_acc]       False  \n",
       "4                                       []       False  \n",
       "5  [ents_f, ents_p, ents_r, ents_per_type]       False  "
      ]
     },
     "execution_count": 10,
     "metadata": {},
     "output_type": "execute_result"
    }
   ],
   "source": [
    "# nlp-Objekt erstellen\n",
    "   \n",
    "if not 'blp' in globals() or True:\n",
    "    blp = bj_nlp.blpClass(lang='de', verbose=False)    \n",
    "    \n",
    "nlp     = blp.nlp    \n",
    "nlp.blp = blp\n",
    "\n",
    "# Pipeline\n",
    "nlp.remove_pipe('parser')\n",
    "blp.analyze_pipes()"
   ]
  },
  {
   "cell_type": "code",
   "execution_count": 11,
   "id": "6410bfef-9047-45f6-b754-845e2a397022",
   "metadata": {
    "execution": {
     "iopub.execute_input": "2023-03-02T23:17:54.701142Z",
     "iopub.status.busy": "2023-03-02T23:17:54.698984Z",
     "iopub.status.idle": "2023-03-02T23:17:54.788428Z",
     "shell.execute_reply": "2023-03-02T23:17:54.787530Z",
     "shell.execute_reply.started": "2023-03-02T23:17:54.701105Z"
    }
   },
   "outputs": [
    {
     "data": {
      "text/plain": [
       "{"
      ]
     },
     "execution_count": 11,
     "metadata": {},
     "output_type": "execute_result"
    }
   ],
   "source": [
    "# Ausprobieren\n",
    "text = 'Hallo {{NNBSP}} Welt'\n",
    "doc = nlp(text)\n",
    "doc[1] # }"
   ]
  },
  {
   "cell_type": "markdown",
   "id": "41df4100",
   "metadata": {},
   "source": [
    "## Daten laden"
   ]
  },
  {
   "cell_type": "code",
   "execution_count": 12,
   "id": "f16f664f",
   "metadata": {
    "execution": {
     "iopub.execute_input": "2023-03-02T23:17:54.792433Z",
     "iopub.status.busy": "2023-03-02T23:17:54.790692Z",
     "iopub.status.idle": "2023-03-02T23:18:03.158418Z",
     "shell.execute_reply": "2023-03-02T23:18:03.157652Z",
     "shell.execute_reply.started": "2023-03-02T23:17:54.792401Z"
    }
   },
   "outputs": [
    {
     "name": "stdout",
     "output_type": "stream",
     "text": [
      "173920 rows loaded\n",
      "667597 rows loaded\n",
      "5176185 rows loaded\n",
      "657508 rows loaded\n"
     ]
    }
   ],
   "source": [
    "# Laden     \n",
    "wiktionary_lemma         = pak.load_pickle(wiktionary_lemma_filename)\n",
    "wiktionary_nolemma       = pak.load_pickle(wiktionary_nolemma_filename)\n",
    "wiktionary_merkmal       = pak.load_pickle(wiktionary_merkmal_filename)\n",
    "wiktionary_merkmal_text  = pak.load_pickle(wiktionary_merkmal_text_filename)"
   ]
  },
  {
   "cell_type": "code",
   "execution_count": 13,
   "id": "0f4f32b9-0255-4114-926d-a2e22b522c01",
   "metadata": {
    "execution": {
     "iopub.execute_input": "2023-03-02T23:18:03.162288Z",
     "iopub.status.busy": "2023-03-02T23:18:03.161957Z",
     "iopub.status.idle": "2023-03-02T23:18:05.266543Z",
     "shell.execute_reply": "2023-03-02T23:18:05.265919Z",
     "shell.execute_reply.started": "2023-03-02T23:18:03.162260Z"
    }
   },
   "outputs": [
    {
     "name": "stdout",
     "output_type": "stream",
     "text": [
      "180 rows loaded\n",
      "Delete 84 rows from 180\n",
      "83 rows\n"
     ]
    },
    {
     "data": {
      "text/html": [
       "<div>\n",
       "<style scoped>\n",
       "    .dataframe tbody tr th:only-of-type {\n",
       "        vertical-align: middle;\n",
       "    }\n",
       "\n",
       "    .dataframe tbody tr th {\n",
       "        vertical-align: top;\n",
       "    }\n",
       "\n",
       "    .dataframe thead th {\n",
       "        text-align: right;\n",
       "    }\n",
       "</style>\n",
       "<table border=\"1\" class=\"dataframe\">\n",
       "  <thead>\n",
       "    <tr style=\"text-align: right;\">\n",
       "      <th></th>\n",
       "      <th>level</th>\n",
       "      <th>lemma</th>\n",
       "      <th>tag_soll</th>\n",
       "      <th>member_soll</th>\n",
       "      <th>check_tag</th>\n",
       "    </tr>\n",
       "  </thead>\n",
       "  <tbody>\n",
       "    <tr>\n",
       "      <th>0</th>\n",
       "      <td>1</td>\n",
       "      <td>…</td>\n",
       "      <td>$(</td>\n",
       "      <td>manuell</td>\n",
       "      <td></td>\n",
       "    </tr>\n",
       "    <tr>\n",
       "      <th>1</th>\n",
       "      <td>1</td>\n",
       "      <td>Ackermann</td>\n",
       "      <td>NE</td>\n",
       "      <td>Person_nachname</td>\n",
       "      <td></td>\n",
       "    </tr>\n",
       "    <tr>\n",
       "      <th>2</th>\n",
       "      <td>1</td>\n",
       "      <td>Album</td>\n",
       "      <td>NN</td>\n",
       "      <td></td>\n",
       "      <td></td>\n",
       "    </tr>\n",
       "    <tr>\n",
       "      <th>3</th>\n",
       "      <td>1</td>\n",
       "      <td>Anna</td>\n",
       "      <td>NE</td>\n",
       "      <td>Person_vorname</td>\n",
       "      <td></td>\n",
       "    </tr>\n",
       "    <tr>\n",
       "      <th>4</th>\n",
       "      <td>1</td>\n",
       "      <td>angucken</td>\n",
       "      <td>VVFIN</td>\n",
       "      <td>manuell</td>\n",
       "      <td></td>\n",
       "    </tr>\n",
       "    <tr>\n",
       "      <th>...</th>\n",
       "      <td>...</td>\n",
       "      <td>...</td>\n",
       "      <td>...</td>\n",
       "      <td>...</td>\n",
       "      <td>...</td>\n",
       "    </tr>\n",
       "    <tr>\n",
       "      <th>78</th>\n",
       "      <td>1</td>\n",
       "      <td>welch</td>\n",
       "      <td>PWAT</td>\n",
       "      <td></td>\n",
       "      <td></td>\n",
       "    </tr>\n",
       "    <tr>\n",
       "      <th>79</th>\n",
       "      <td>1</td>\n",
       "      <td>wenig</td>\n",
       "      <td>ADJA</td>\n",
       "      <td></td>\n",
       "      <td></td>\n",
       "    </tr>\n",
       "    <tr>\n",
       "      <th>80</th>\n",
       "      <td>1</td>\n",
       "      <td>wenig</td>\n",
       "      <td>PIAT</td>\n",
       "      <td></td>\n",
       "      <td></td>\n",
       "    </tr>\n",
       "    <tr>\n",
       "      <th>81</th>\n",
       "      <td>1</td>\n",
       "      <td>zeichnen</td>\n",
       "      <td>VVFIN</td>\n",
       "      <td></td>\n",
       "      <td></td>\n",
       "    </tr>\n",
       "    <tr>\n",
       "      <th>82</th>\n",
       "      <td>1</td>\n",
       "      <td>zurecht</td>\n",
       "      <td>PTKVZ</td>\n",
       "      <td></td>\n",
       "      <td></td>\n",
       "    </tr>\n",
       "  </tbody>\n",
       "</table>\n",
       "<p>83 rows × 5 columns</p>\n",
       "</div>"
      ],
      "text/plain": [
       "    level      lemma tag_soll      member_soll check_tag\n",
       "0       1          …       $(          manuell          \n",
       "1       1  Ackermann       NE  Person_nachname          \n",
       "2       1      Album       NN                           \n",
       "3       1       Anna       NE   Person_vorname          \n",
       "4       1   angucken    VVFIN          manuell          \n",
       "..    ...        ...      ...              ...       ...\n",
       "78      1      welch     PWAT                           \n",
       "79      1      wenig     ADJA                           \n",
       "80      1      wenig     PIAT                           \n",
       "81      1   zeichnen    VVFIN                           \n",
       "82      1    zurecht    PTKVZ                           \n",
       "\n",
       "[83 rows x 5 columns]"
      ]
     },
     "execution_count": 13,
     "metadata": {},
     "output_type": "execute_result"
    }
   ],
   "source": [
    "# lex_test, lemma_test\n",
    "lex_test, lemma_test = lade_lex_text( lex_test_filename, level=2 )\n",
    "grid(lemma_test)"
   ]
  },
  {
   "cell_type": "code",
   "execution_count": 14,
   "id": "52a1e702-70f9-46af-a210-847fd83d640f",
   "metadata": {
    "execution": {
     "iopub.execute_input": "2023-03-02T23:18:05.272059Z",
     "iopub.status.busy": "2023-03-02T23:18:05.269858Z",
     "iopub.status.idle": "2023-03-02T23:18:05.377873Z",
     "shell.execute_reply": "2023-03-02T23:18:05.375723Z",
     "shell.execute_reply.started": "2023-03-02T23:18:05.272025Z"
    }
   },
   "outputs": [
    {
     "name": "stdout",
     "output_type": "stream",
     "text": [
      "103 rows\n"
     ]
    },
    {
     "data": {
      "text/html": [
       "<div>\n",
       "<style scoped>\n",
       "    .dataframe tbody tr th:only-of-type {\n",
       "        vertical-align: middle;\n",
       "    }\n",
       "\n",
       "    .dataframe tbody tr th {\n",
       "        vertical-align: top;\n",
       "    }\n",
       "\n",
       "    .dataframe thead th {\n",
       "        text-align: right;\n",
       "    }\n",
       "</style>\n",
       "<table border=\"1\" class=\"dataframe\">\n",
       "  <thead>\n",
       "    <tr style=\"text-align: right;\">\n",
       "      <th></th>\n",
       "      <th>merkmal</th>\n",
       "      <th>template</th>\n",
       "      <th>collect</th>\n",
       "      <th>plan</th>\n",
       "      <th>sort</th>\n",
       "      <th>is_lex</th>\n",
       "    </tr>\n",
       "  </thead>\n",
       "  <tbody>\n",
       "    <tr>\n",
       "      <th>0</th>\n",
       "      <td>noSteig</td>\n",
       "      <td>kSt.</td>\n",
       "      <td>E</td>\n",
       "      <td>1</td>\n",
       "      <td></td>\n",
       "      <td>False</td>\n",
       "    </tr>\n",
       "    <tr>\n",
       "      <th>1</th>\n",
       "      <td>noSing</td>\n",
       "      <td>kSg.</td>\n",
       "      <td>E</td>\n",
       "      <td>1</td>\n",
       "      <td></td>\n",
       "      <td>False</td>\n",
       "    </tr>\n",
       "    <tr>\n",
       "      <th>2</th>\n",
       "      <td>nurWortart</td>\n",
       "      <td>Wortart fehlt</td>\n",
       "      <td>P</td>\n",
       "      <td>1</td>\n",
       "      <td></td>\n",
       "      <td>False</td>\n",
       "    </tr>\n",
       "    <tr>\n",
       "      <th>3</th>\n",
       "      <td>istName</td>\n",
       "      <td>Navigationsleiste Anthroponyme</td>\n",
       "      <td>E</td>\n",
       "      <td>1</td>\n",
       "      <td></td>\n",
       "      <td>False</td>\n",
       "    </tr>\n",
       "    <tr>\n",
       "      <th>4</th>\n",
       "      <td>Wikispecies</td>\n",
       "      <td>Wikispecies</td>\n",
       "      <td>E</td>\n",
       "      <td>1</td>\n",
       "      <td></td>\n",
       "      <td>False</td>\n",
       "    </tr>\n",
       "    <tr>\n",
       "      <th>...</th>\n",
       "      <td>...</td>\n",
       "      <td>...</td>\n",
       "      <td>...</td>\n",
       "      <td>...</td>\n",
       "      <td>...</td>\n",
       "      <td>...</td>\n",
       "    </tr>\n",
       "    <tr>\n",
       "      <th>98</th>\n",
       "      <td>Superlativ</td>\n",
       "      <td></td>\n",
       "      <td></td>\n",
       "      <td>3</td>\n",
       "      <td>x3 Superlativ</td>\n",
       "      <td>True</td>\n",
       "    </tr>\n",
       "    <tr>\n",
       "      <th>99</th>\n",
       "      <td>Stamm</td>\n",
       "      <td></td>\n",
       "      <td></td>\n",
       "      <td>3</td>\n",
       "      <td>z1 Stamm</td>\n",
       "      <td>False</td>\n",
       "    </tr>\n",
       "    <tr>\n",
       "      <th>100</th>\n",
       "      <td>ipa</td>\n",
       "      <td></td>\n",
       "      <td></td>\n",
       "      <td>3</td>\n",
       "      <td>z1 ipa</td>\n",
       "      <td>False</td>\n",
       "    </tr>\n",
       "    <tr>\n",
       "      <th>101</th>\n",
       "      <td>noFlex</td>\n",
       "      <td></td>\n",
       "      <td>E</td>\n",
       "      <td>3</td>\n",
       "      <td>z1 noFlex</td>\n",
       "      <td>True</td>\n",
       "    </tr>\n",
       "    <tr>\n",
       "      <th>102</th>\n",
       "      <td>syllables</td>\n",
       "      <td></td>\n",
       "      <td></td>\n",
       "      <td>3</td>\n",
       "      <td>z1 syllables</td>\n",
       "      <td>False</td>\n",
       "    </tr>\n",
       "  </tbody>\n",
       "</table>\n",
       "<p>103 rows × 6 columns</p>\n",
       "</div>"
      ],
      "text/plain": [
       "         merkmal                        template collect  plan           sort  \\\n",
       "0        noSteig                            kSt.       E     1                  \n",
       "1         noSing                            kSg.       E     1                  \n",
       "2     nurWortart                   Wortart fehlt       P     1                  \n",
       "3        istName  Navigationsleiste Anthroponyme       E     1                  \n",
       "4    Wikispecies                     Wikispecies       E     1                  \n",
       "..           ...                             ...     ...   ...            ...   \n",
       "98    Superlativ                                             3  x3 Superlativ   \n",
       "99         Stamm                                             3       z1 Stamm   \n",
       "100          ipa                                             3         z1 ipa   \n",
       "101       noFlex                                       E     3      z1 noFlex   \n",
       "102    syllables                                             3   z1 syllables   \n",
       "\n",
       "     is_lex  \n",
       "0     False  \n",
       "1     False  \n",
       "2     False  \n",
       "3     False  \n",
       "4     False  \n",
       "..      ...  \n",
       "98     True  \n",
       "99    False  \n",
       "100   False  \n",
       "101    True  \n",
       "102   False  \n",
       "\n",
       "[103 rows x 6 columns]"
      ]
     },
     "execution_count": 14,
     "metadata": {},
     "output_type": "execute_result"
    }
   ],
   "source": [
    "# plan_merkmal Steuertabelle\n",
    "plan_merkmal = plan_merkmal_erstellen()\n",
    "grid(plan_merkmal, rows=9, column_definitions={ 'collect': {'maxWidth': 50,}, ' ': {'maxWidth': 50,}                   },     )"
   ]
  },
  {
   "cell_type": "code",
   "execution_count": 15,
   "id": "06e9f358-4afe-4756-9548-1d9fef89d6bc",
   "metadata": {
    "execution": {
     "iopub.execute_input": "2023-03-02T23:18:05.388431Z",
     "iopub.status.busy": "2023-03-02T23:18:05.385167Z",
     "iopub.status.idle": "2023-03-02T23:18:05.761497Z",
     "shell.execute_reply": "2023-03-02T23:18:05.760761Z",
     "shell.execute_reply.started": "2023-03-02T23:18:05.388394Z"
    }
   },
   "outputs": [
    {
     "data": {
      "text/html": [
       "<div>\n",
       "<style scoped>\n",
       "    .dataframe tbody tr th:only-of-type {\n",
       "        vertical-align: middle;\n",
       "    }\n",
       "\n",
       "    .dataframe tbody tr th {\n",
       "        vertical-align: top;\n",
       "    }\n",
       "\n",
       "    .dataframe thead th {\n",
       "        text-align: right;\n",
       "    }\n",
       "</style>\n",
       "<table border=\"1\" class=\"dataframe\">\n",
       "  <thead>\n",
       "    <tr style=\"text-align: right;\">\n",
       "      <th></th>\n",
       "      <th>page_id</th>\n",
       "      <th>page_part</th>\n",
       "      <th>section_id2</th>\n",
       "      <th>lemma</th>\n",
       "      <th>lemma_lower</th>\n",
       "      <th>isupper</th>\n",
       "      <th>lemma_len</th>\n",
       "      <th>tag</th>\n",
       "      <th>tag_0</th>\n",
       "      <th>tag_1</th>\n",
       "      <th>tagZ</th>\n",
       "      <th>tagZZ</th>\n",
       "      <th>member</th>\n",
       "      <th>lemma_score</th>\n",
       "      <th>data_id</th>\n",
       "    </tr>\n",
       "  </thead>\n",
       "  <tbody>\n",
       "  </tbody>\n",
       "</table>\n",
       "</div>"
      ],
      "text/plain": [
       "Empty DataFrame\n",
       "Columns: [page_id, page_part, section_id2, lemma, lemma_lower, isupper, lemma_len, tag, tag_0, tag_1, tagZ, tagZZ, member, lemma_score, data_id]\n",
       "Index: []"
      ]
     },
     "execution_count": 15,
     "metadata": {},
     "output_type": "execute_result"
    }
   ],
   "source": [
    "#mask = wiktionary_lemma.lemma == 'gefriergetrocknet'\n",
    "#wiktionary_lemma[mask]\n",
    "search_str(wiktionary_lemma, suche_debug)"
   ]
  },
  {
   "cell_type": "code",
   "execution_count": 16,
   "id": "5916c72b-96ab-467c-8611-657bed1da0e0",
   "metadata": {
    "execution": {
     "iopub.execute_input": "2023-03-02T23:18:05.767401Z",
     "iopub.status.busy": "2023-03-02T23:18:05.764837Z",
     "iopub.status.idle": "2023-03-02T23:18:09.859900Z",
     "shell.execute_reply": "2023-03-02T23:18:09.859091Z",
     "shell.execute_reply.started": "2023-03-02T23:18:05.767360Z"
    }
   },
   "outputs": [
    {
     "data": {
      "text/html": [
       "<div>\n",
       "<style scoped>\n",
       "    .dataframe tbody tr th:only-of-type {\n",
       "        vertical-align: middle;\n",
       "    }\n",
       "\n",
       "    .dataframe tbody tr th {\n",
       "        vertical-align: top;\n",
       "    }\n",
       "\n",
       "    .dataframe thead th {\n",
       "        text-align: right;\n",
       "    }\n",
       "</style>\n",
       "<table border=\"1\" class=\"dataframe\">\n",
       "  <thead>\n",
       "    <tr style=\"text-align: right;\">\n",
       "      <th></th>\n",
       "      <th>section_id2</th>\n",
       "      <th>merkmal</th>\n",
       "      <th>data</th>\n",
       "      <th>num</th>\n",
       "      <th>meta</th>\n",
       "      <th>data_id</th>\n",
       "      <th>data_score</th>\n",
       "    </tr>\n",
       "  </thead>\n",
       "  <tbody>\n",
       "    <tr>\n",
       "      <th>2154574</th>\n",
       "      <td>Euro</td>\n",
       "      <td>abk</td>\n",
       "      <td>€</td>\n",
       "      <td>&lt;NA&gt;</td>\n",
       "      <td>manuell</td>\n",
       "      <td></td>\n",
       "      <td>153.715988</td>\n",
       "    </tr>\n",
       "  </tbody>\n",
       "</table>\n",
       "</div>"
      ],
      "text/plain": [
       "        section_id2 merkmal data   num     meta data_id  data_score\n",
       "2154574        Euro     abk    €  <NA>  manuell          153.715988"
      ]
     },
     "execution_count": 16,
     "metadata": {},
     "output_type": "execute_result"
    }
   ],
   "source": [
    "# suche_debug wiktionary_merkmal\n",
    "search_str(wiktionary_merkmal, suche_debug)"
   ]
  },
  {
   "cell_type": "code",
   "execution_count": 17,
   "id": "5936c648-33b8-49c9-8765-87a0df3dbe14",
   "metadata": {
    "execution": {
     "iopub.execute_input": "2023-03-02T23:18:09.863345Z",
     "iopub.status.busy": "2023-03-02T23:18:09.860840Z",
     "iopub.status.idle": "2023-03-02T23:18:10.491725Z",
     "shell.execute_reply": "2023-03-02T23:18:10.491049Z",
     "shell.execute_reply.started": "2023-03-02T23:18:09.863291Z"
    }
   },
   "outputs": [
    {
     "data": {
      "text/html": [
       "<div>\n",
       "<style scoped>\n",
       "    .dataframe tbody tr th:only-of-type {\n",
       "        vertical-align: middle;\n",
       "    }\n",
       "\n",
       "    .dataframe tbody tr th {\n",
       "        vertical-align: top;\n",
       "    }\n",
       "\n",
       "    .dataframe thead th {\n",
       "        text-align: right;\n",
       "    }\n",
       "</style>\n",
       "<table border=\"1\" class=\"dataframe\">\n",
       "  <thead>\n",
       "    <tr style=\"text-align: right;\">\n",
       "      <th></th>\n",
       "      <th>nolemma_id</th>\n",
       "      <th>lex</th>\n",
       "      <th>lemma</th>\n",
       "      <th>lemma_lower</th>\n",
       "      <th>tag</th>\n",
       "      <th>tag_0</th>\n",
       "      <th>tag_1</th>\n",
       "      <th>tagZ</th>\n",
       "      <th>tagZZ</th>\n",
       "      <th>member</th>\n",
       "      <th>data_score</th>\n",
       "    </tr>\n",
       "  </thead>\n",
       "  <tbody>\n",
       "  </tbody>\n",
       "</table>\n",
       "</div>"
      ],
      "text/plain": [
       "Empty DataFrame\n",
       "Columns: [nolemma_id, lex, lemma, lemma_lower, tag, tag_0, tag_1, tagZ, tagZZ, member, data_score]\n",
       "Index: []"
      ]
     },
     "execution_count": 17,
     "metadata": {},
     "output_type": "execute_result"
    }
   ],
   "source": [
    "# suche_debug wiktionary_nolemma\n",
    "search_str(wiktionary_nolemma, suche_debug)"
   ]
  },
  {
   "cell_type": "code",
   "execution_count": 18,
   "id": "0fdcd430-c48d-4d0a-9be1-70fd32c61505",
   "metadata": {
    "execution": {
     "iopub.execute_input": "2023-03-02T23:18:10.495891Z",
     "iopub.status.busy": "2023-03-02T23:18:10.495616Z",
     "iopub.status.idle": "2023-03-02T23:18:10.534043Z",
     "shell.execute_reply": "2023-03-02T23:18:10.532973Z",
     "shell.execute_reply.started": "2023-03-02T23:18:10.495869Z"
    }
   },
   "outputs": [],
   "source": [
    "#pak.analyse_cols(wiktionary_merkmal_text)"
   ]
  },
  {
   "cell_type": "markdown",
   "id": "d65e23a2-d02b-4ea5-8efa-aa9d7137300b",
   "metadata": {},
   "source": [
    "## IDs schreiben, Erstbearbeitung, Daten übertragen"
   ]
  },
  {
   "cell_type": "markdown",
   "id": "785c8196-fff3-4a57-9358-d46b3e3af71a",
   "metadata": {},
   "source": [
    "### wiktionary_merkmal"
   ]
  },
  {
   "cell_type": "code",
   "execution_count": 19,
   "id": "9fe80bef-d7ef-46f3-9c6d-609a9b418f78",
   "metadata": {
    "execution": {
     "iopub.execute_input": "2023-03-02T23:18:10.539534Z",
     "iopub.status.busy": "2023-03-02T23:18:10.537855Z",
     "iopub.status.idle": "2023-03-02T23:18:11.023740Z",
     "shell.execute_reply": "2023-03-02T23:18:11.022957Z",
     "shell.execute_reply.started": "2023-03-02T23:18:10.539495Z"
    },
    "tags": []
   },
   "outputs": [
    {
     "data": {
      "text/html": [
       "<div>\n",
       "<style scoped>\n",
       "    .dataframe tbody tr th:only-of-type {\n",
       "        vertical-align: middle;\n",
       "    }\n",
       "\n",
       "    .dataframe tbody tr th {\n",
       "        vertical-align: top;\n",
       "    }\n",
       "\n",
       "    .dataframe thead th {\n",
       "        text-align: right;\n",
       "    }\n",
       "</style>\n",
       "<table border=\"1\" class=\"dataframe\">\n",
       "  <thead>\n",
       "    <tr style=\"text-align: right;\">\n",
       "      <th></th>\n",
       "      <th>section_id2</th>\n",
       "      <th>merkmal</th>\n",
       "      <th>data</th>\n",
       "      <th>num</th>\n",
       "      <th>meta</th>\n",
       "      <th>data_id</th>\n",
       "      <th>data_score</th>\n",
       "    </tr>\n",
       "  </thead>\n",
       "  <tbody>\n",
       "    <tr>\n",
       "      <th>2154574</th>\n",
       "      <td>Euro</td>\n",
       "      <td>abk</td>\n",
       "      <td>€</td>\n",
       "      <td>&lt;NA&gt;</td>\n",
       "      <td>manuell</td>\n",
       "      <td></td>\n",
       "      <td>153.715988</td>\n",
       "    </tr>\n",
       "  </tbody>\n",
       "</table>\n",
       "</div>"
      ],
      "text/plain": [
       "        section_id2 merkmal data   num     meta data_id  data_score\n",
       "2154574        Euro     abk    €  <NA>  manuell          153.715988"
      ]
     },
     "execution_count": 19,
     "metadata": {},
     "output_type": "execute_result"
    }
   ],
   "source": [
    "mask = wiktionary_merkmal.data == '€'\n",
    "wiktionary_merkmal[mask]"
   ]
  },
  {
   "cell_type": "code",
   "execution_count": 20,
   "id": "caf5bbbe-8743-4be4-b780-9886a5e4e674",
   "metadata": {
    "execution": {
     "iopub.execute_input": "2023-03-02T23:18:11.027850Z",
     "iopub.status.busy": "2023-03-02T23:18:11.025661Z",
     "iopub.status.idle": "2023-03-02T23:18:24.615527Z",
     "shell.execute_reply": "2023-03-02T23:18:24.614741Z",
     "shell.execute_reply.started": "2023-03-02T23:18:11.027814Z"
    }
   },
   "outputs": [
    {
     "name": "stdout",
     "output_type": "stream",
     "text": [
      "update_col: func min applied, 3 records less!\n",
      "update_col: 5176185 cells written into new column\n"
     ]
    }
   ],
   "source": [
    "# is_lex nach wiktionary_merkmal übertragen\n",
    "#wiktionary_merkmal = pak.drop_cols(wiktionary_merkmal,'is_lex')\n",
    "wiktionary_merkmal = pak.update_col(wiktionary_merkmal, plan_merkmal, on='merkmal', col='is_lex', func='min') \n",
    "wiktionary_merkmal = pak.move_cols(wiktionary_merkmal, 'is_lex', 'merkmal')"
   ]
  },
  {
   "cell_type": "code",
   "execution_count": 21,
   "id": "07102f15-4716-4291-9c70-f14d6a71ce33",
   "metadata": {
    "execution": {
     "iopub.execute_input": "2023-03-02T23:18:24.621841Z",
     "iopub.status.busy": "2023-03-02T23:18:24.621482Z",
     "iopub.status.idle": "2023-03-02T23:18:26.118747Z",
     "shell.execute_reply": "2023-03-02T23:18:26.117788Z",
     "shell.execute_reply.started": "2023-03-02T23:18:24.621810Z"
    }
   },
   "outputs": [
    {
     "name": "stdout",
     "output_type": "stream",
     "text": [
      "check_mask:  0 rows\n"
     ]
    },
    {
     "data": {
      "text/html": [
       "<div>\n",
       "<style scoped>\n",
       "    .dataframe tbody tr th:only-of-type {\n",
       "        vertical-align: middle;\n",
       "    }\n",
       "\n",
       "    .dataframe tbody tr th {\n",
       "        vertical-align: top;\n",
       "    }\n",
       "\n",
       "    .dataframe thead th {\n",
       "        text-align: right;\n",
       "    }\n",
       "</style>\n",
       "<table border=\"1\" class=\"dataframe\">\n",
       "  <thead>\n",
       "    <tr style=\"text-align: right;\">\n",
       "      <th></th>\n",
       "      <th>section_id2</th>\n",
       "      <th>merkmal</th>\n",
       "      <th>is_lex</th>\n",
       "      <th>data</th>\n",
       "      <th>num</th>\n",
       "      <th>meta</th>\n",
       "      <th>data_id</th>\n",
       "      <th>data_score</th>\n",
       "    </tr>\n",
       "  </thead>\n",
       "  <tbody>\n",
       "  </tbody>\n",
       "</table>\n",
       "</div>"
      ],
      "text/plain": [
       "Empty DataFrame\n",
       "Columns: [section_id2, merkmal, is_lex, data, num, meta, data_id, data_score]\n",
       "Index: []"
      ]
     },
     "execution_count": 21,
     "metadata": {},
     "output_type": "execute_result"
    }
   ],
   "source": [
    "# is_lex manuell\n",
    "mask1 = wiktionary_merkmal.is_lex.isnull()\n",
    "mask2 = wiktionary_merkmal.meta.str.contains('manuell')\n",
    "mask = mask1  &  mask2\n",
    "check_mask(wiktionary_merkmal,mask,0,5)\n",
    "\n",
    "wiktionary_merkmal.loc[mask,'is_lex'] = True\n",
    "wiktionary_merkmal[mask]"
   ]
  },
  {
   "cell_type": "markdown",
   "id": "72cf8d68-7777-4749-b5ef-46defe1c83c1",
   "metadata": {},
   "source": [
    "### wiktionary_lemma"
   ]
  },
  {
   "cell_type": "code",
   "execution_count": 22,
   "id": "7558a1b7-01f5-4426-922c-176fd045b2a1",
   "metadata": {
    "execution": {
     "iopub.execute_input": "2023-03-02T23:18:26.119913Z",
     "iopub.status.busy": "2023-03-02T23:18:26.119636Z",
     "iopub.status.idle": "2023-03-02T23:18:27.341134Z",
     "shell.execute_reply": "2023-03-02T23:18:27.340519Z",
     "shell.execute_reply.started": "2023-03-02T23:18:26.119887Z"
    }
   },
   "outputs": [],
   "source": [
    "# lemma_id \n",
    "wiktionary_lemma   = pak.rename_col( wiktionary_lemma,   'section_id2', 'lemma_id' )\n",
    "wiktionary_merkmal = pak.rename_col( wiktionary_merkmal, 'section_id2', 'lemma_id' )"
   ]
  },
  {
   "cell_type": "code",
   "execution_count": 23,
   "id": "5b01ba9d-86e9-4254-9b16-c5a487918bb2",
   "metadata": {
    "execution": {
     "iopub.execute_input": "2023-03-02T23:18:27.348942Z",
     "iopub.status.busy": "2023-03-02T23:18:27.348398Z",
     "iopub.status.idle": "2023-03-02T23:18:27.536256Z",
     "shell.execute_reply": "2023-03-02T23:18:27.535386Z",
     "shell.execute_reply.started": "2023-03-02T23:18:27.348913Z"
    }
   },
   "outputs": [
    {
     "data": {
      "text/html": [
       "<div>\n",
       "<style scoped>\n",
       "    .dataframe tbody tr th:only-of-type {\n",
       "        vertical-align: middle;\n",
       "    }\n",
       "\n",
       "    .dataframe tbody tr th {\n",
       "        vertical-align: top;\n",
       "    }\n",
       "\n",
       "    .dataframe thead th {\n",
       "        text-align: right;\n",
       "    }\n",
       "</style>\n",
       "<table border=\"1\" class=\"dataframe\">\n",
       "  <thead>\n",
       "    <tr style=\"text-align: right;\">\n",
       "      <th></th>\n",
       "      <th>page_id</th>\n",
       "      <th>page_part</th>\n",
       "      <th>lemma_id</th>\n",
       "      <th>lemma</th>\n",
       "      <th>lemma_lower</th>\n",
       "      <th>isupper</th>\n",
       "      <th>lemma_len</th>\n",
       "      <th>tag</th>\n",
       "      <th>tag_0</th>\n",
       "      <th>tag_1</th>\n",
       "      <th>tagZ</th>\n",
       "      <th>tagZZ</th>\n",
       "      <th>member</th>\n",
       "      <th>lemma_score</th>\n",
       "      <th>data_id</th>\n",
       "    </tr>\n",
       "  </thead>\n",
       "  <tbody>\n",
       "  </tbody>\n",
       "</table>\n",
       "</div>"
      ],
      "text/plain": [
       "Empty DataFrame\n",
       "Columns: [page_id, page_part, lemma_id, lemma, lemma_lower, isupper, lemma_len, tag, tag_0, tag_1, tagZ, tagZZ, member, lemma_score, data_id]\n",
       "Index: []"
      ]
     },
     "execution_count": 23,
     "metadata": {},
     "output_type": "execute_result"
    }
   ],
   "source": [
    "# suche_debug wiktionary_lemma\n",
    "search_str(wiktionary_lemma, suche_debug)"
   ]
  },
  {
   "cell_type": "code",
   "execution_count": 24,
   "id": "16a14a88-1de5-43dc-964a-6735cc62ed24",
   "metadata": {
    "execution": {
     "iopub.execute_input": "2023-03-02T23:18:27.543597Z",
     "iopub.status.busy": "2023-03-02T23:18:27.540999Z",
     "iopub.status.idle": "2023-03-02T23:18:27.600419Z",
     "shell.execute_reply": "2023-03-02T23:18:27.599758Z",
     "shell.execute_reply.started": "2023-03-02T23:18:27.543558Z"
    }
   },
   "outputs": [],
   "source": [
    "# fillna\n",
    "wiktionary_lemma['data_id'] = wiktionary_lemma.data_id.fillna('')"
   ]
  },
  {
   "cell_type": "code",
   "execution_count": 25,
   "id": "21cbedc2-2f2b-427f-9ed6-fadfb0932c4a",
   "metadata": {
    "execution": {
     "iopub.execute_input": "2023-03-02T23:18:27.606855Z",
     "iopub.status.busy": "2023-03-02T23:18:27.604131Z",
     "iopub.status.idle": "2023-03-02T23:18:31.928184Z",
     "shell.execute_reply": "2023-03-02T23:18:31.927505Z",
     "shell.execute_reply.started": "2023-03-02T23:18:27.606816Z"
    }
   },
   "outputs": [
    {
     "name": "stdout",
     "output_type": "stream",
     "text": [
      "168524 unique rows and 5396 rows with duplicates\n",
      "2700 rows less, now 171220 rows\n"
     ]
    }
   ],
   "source": [
    "# group + agg_words_nodup\n",
    "\n",
    "cols_vorher = wiktionary_lemma.columns\n",
    "\n",
    "wiktionary_lemma = pak.group_and_agg( wiktionary_lemma, \n",
    "              ['lemma_id',  'page_id',  'page_part',  'lemma',  'tag',                 'member',             'data_id', 'lemma_score',  ],\n",
    "              [ 'group',    'max',      'max',        'first',  pak.agg_words_nodup,   pak.agg_words_nodup,  'max',     'sum',          ],\n",
    "              ['lemma_id',  'page_id',  'page_part',  'lemma',  'tag',                 'member',             'data_id', 'lemma_score',  ],\n",
    "              optimize=True\n",
    "             )"
   ]
  },
  {
   "cell_type": "code",
   "execution_count": 26,
   "id": "9bec8a9a-38b7-4d81-8a4e-64fc905dcb19",
   "metadata": {
    "execution": {
     "iopub.execute_input": "2023-03-02T23:18:31.932356Z",
     "iopub.status.busy": "2023-03-02T23:18:31.931996Z",
     "iopub.status.idle": "2023-03-02T23:18:32.050601Z",
     "shell.execute_reply": "2023-03-02T23:18:32.049980Z",
     "shell.execute_reply.started": "2023-03-02T23:18:31.932332Z"
    }
   },
   "outputs": [
    {
     "data": {
      "text/html": [
       "<div>\n",
       "<style scoped>\n",
       "    .dataframe tbody tr th:only-of-type {\n",
       "        vertical-align: middle;\n",
       "    }\n",
       "\n",
       "    .dataframe tbody tr th {\n",
       "        vertical-align: top;\n",
       "    }\n",
       "\n",
       "    .dataframe thead th {\n",
       "        text-align: right;\n",
       "    }\n",
       "</style>\n",
       "<table border=\"1\" class=\"dataframe\">\n",
       "  <thead>\n",
       "    <tr style=\"text-align: right;\">\n",
       "      <th></th>\n",
       "      <th>lemma_id</th>\n",
       "      <th>page_id</th>\n",
       "      <th>page_part</th>\n",
       "      <th>lemma</th>\n",
       "      <th>tag</th>\n",
       "      <th>member</th>\n",
       "      <th>data_id</th>\n",
       "      <th>lemma_score</th>\n",
       "    </tr>\n",
       "  </thead>\n",
       "  <tbody>\n",
       "  </tbody>\n",
       "</table>\n",
       "</div>"
      ],
      "text/plain": [
       "Empty DataFrame\n",
       "Columns: [lemma_id, page_id, page_part, lemma, tag, member, data_id, lemma_score]\n",
       "Index: []"
      ]
     },
     "execution_count": 26,
     "metadata": {},
     "output_type": "execute_result"
    }
   ],
   "source": [
    "# suche_debug wiktionary_lemma\n",
    "search_str(wiktionary_lemma, suche_debug)"
   ]
  },
  {
   "cell_type": "code",
   "execution_count": 27,
   "id": "22931044-dd34-4c9f-bb83-8a8abfb43996",
   "metadata": {
    "execution": {
     "iopub.execute_input": "2023-03-02T23:18:32.054459Z",
     "iopub.status.busy": "2023-03-02T23:18:32.053992Z",
     "iopub.status.idle": "2023-03-02T23:18:32.296286Z",
     "shell.execute_reply": "2023-03-02T23:18:32.295318Z",
     "shell.execute_reply.started": "2023-03-02T23:18:32.054436Z"
    }
   },
   "outputs": [],
   "source": [
    "# nach Priorität sortieren (laut Steuertabellen)\n",
    "wiktionary_lemma['tag'] = tag_sortieren(wiktionary_lemma.tag)"
   ]
  },
  {
   "cell_type": "code",
   "execution_count": 28,
   "id": "43f689b0-988e-49c3-8d7c-2110999a0eea",
   "metadata": {
    "execution": {
     "iopub.execute_input": "2023-03-02T23:18:32.312726Z",
     "iopub.status.busy": "2023-03-02T23:18:32.308810Z",
     "iopub.status.idle": "2023-03-02T23:18:36.220742Z",
     "shell.execute_reply": "2023-03-02T23:18:36.219904Z",
     "shell.execute_reply.started": "2023-03-02T23:18:32.312679Z"
    }
   },
   "outputs": [
    {
     "name": "stdout",
     "output_type": "stream",
     "text": [
      "check_mask:  303 rows\n",
      "check_mask:  0 rows\n"
     ]
    }
   ],
   "source": [
    "# Spalten wiederherstellen\n",
    "wiktionary_lemma = pflege_tag_felder(wiktionary_lemma, translate_tagZ)  # tagZ, tagZZ, tag_0, tag_1, tagZ_0, tagZ_1\n",
    "wiktionary_lemma = ergänze_felder(wiktionary_lemma)                     # lemma_lower, isupper, lemma_len\n",
    "\n",
    "# Fehler?\n",
    "mask = (wiktionary_lemma.tagZZ.str.len() > 1)\n",
    "check_mask(wiktionary_lemma,mask,0,10) # ein paar können wir tolerieren"
   ]
  },
  {
   "cell_type": "code",
   "execution_count": 29,
   "id": "b9da30dc-41fe-4622-bb07-925465b36441",
   "metadata": {
    "execution": {
     "iopub.execute_input": "2023-03-02T23:18:36.224976Z",
     "iopub.status.busy": "2023-03-02T23:18:36.224622Z",
     "iopub.status.idle": "2023-03-02T23:18:36.289251Z",
     "shell.execute_reply": "2023-03-02T23:18:36.288053Z",
     "shell.execute_reply.started": "2023-03-02T23:18:36.224943Z"
    },
    "tags": []
   },
   "outputs": [
    {
     "name": "stdout",
     "output_type": "stream",
     "text": [
      "left_only:  {}\n",
      "right_only: {}\n",
      "\n"
     ]
    }
   ],
   "source": [
    "bpy.minivenn(cols_vorher, wiktionary_lemma.columns, format='print2')\n",
    "assert set(cols_vorher) == set(wiktionary_lemma.columns)"
   ]
  },
  {
   "cell_type": "code",
   "execution_count": 30,
   "id": "7eeef934",
   "metadata": {
    "execution": {
     "iopub.execute_input": "2023-03-02T23:18:36.290796Z",
     "iopub.status.busy": "2023-03-02T23:18:36.290141Z",
     "iopub.status.idle": "2023-03-02T23:18:36.491498Z",
     "shell.execute_reply": "2023-03-02T23:18:36.490813Z",
     "shell.execute_reply.started": "2023-03-02T23:18:36.290738Z"
    },
    "tags": []
   },
   "outputs": [
    {
     "name": "stdout",
     "output_type": "stream",
     "text": [
      "\u001b[1m\u001b[7m\u001b[34mNo rows, mask filters them all away\u001b[0m\n"
     ]
    }
   ],
   "source": [
    "# # TODO Klappt noch nicht # ADV ergänzen. Ebenso: Substantiv, istName, Name\n",
    "mask1 =  wiktionary_lemma.member.str.contains('Substantiv')\n",
    "mask2 = ~wiktionary_lemma.tag.str.contains('NN')\n",
    "mask3 = ~wiktionary_lemma.tag.str.contains(' ') \n",
    "mask = mask1  &  mask2  &  mask3\n",
    "grid(wiktionary_lemma, mask)"
   ]
  },
  {
   "cell_type": "code",
   "execution_count": 31,
   "id": "d82fad01",
   "metadata": {
    "execution": {
     "iopub.execute_input": "2023-03-02T23:18:36.492352Z",
     "iopub.status.busy": "2023-03-02T23:18:36.492130Z",
     "iopub.status.idle": "2023-03-02T23:18:36.742786Z",
     "shell.execute_reply": "2023-03-02T23:18:36.742157Z",
     "shell.execute_reply.started": "2023-03-02T23:18:36.492331Z"
    },
    "tags": []
   },
   "outputs": [],
   "source": [
    "# AFIX MFIX ZFIX und zusätzliches TODO \n",
    "r = {'AFIX TRUNC':'AFIX', \n",
    "     'MFIX TRUNC':'MFIX', \n",
    "     'ZFIX TRUNC':'ZFIX', \n",
    "     ' TODO':'', \n",
    "    }\n",
    "wiktionary_lemma['tag'] = pak.replace_str(wiktionary_lemma.tag, r)"
   ]
  },
  {
   "cell_type": "code",
   "execution_count": 32,
   "id": "890cfa34-fcd5-4cc4-a2df-ea9faaaddce5",
   "metadata": {
    "execution": {
     "iopub.execute_input": "2023-03-02T23:18:36.745021Z",
     "iopub.status.busy": "2023-03-02T23:18:36.744732Z",
     "iopub.status.idle": "2023-03-02T23:18:40.644632Z",
     "shell.execute_reply": "2023-03-02T23:18:40.643873Z",
     "shell.execute_reply.started": "2023-03-02T23:18:36.745000Z"
    },
    "tags": []
   },
   "outputs": [
    {
     "name": "stdout",
     "output_type": "stream",
     "text": [
      "check_mask:  303 rows\n",
      "check_mask:  0 rows\n"
     ]
    }
   ],
   "source": [
    "# Spalten nach den Ersetzungen wiederherstellen\n",
    "wiktionary_lemma = pflege_tag_felder(wiktionary_lemma, translate_tagZ)  # tagZ, tagZZ, tag_0, tag_1, tagZ_0, tagZ_1\n",
    "wiktionary_lemma = ergänze_felder(wiktionary_lemma)                     # lemma_lower, isupper, lemma_len\n",
    "\n",
    "# Fehler?\n",
    "mask = (wiktionary_lemma.tagZZ.str.len() > 1)\n",
    "check_mask(wiktionary_lemma, mask, 0) # diesmal tolerieren wir nichts. tagZZ ist jetzt eindeutig."
   ]
  },
  {
   "cell_type": "code",
   "execution_count": 33,
   "id": "6fc22942-038f-4791-9dc2-17ba2763a9cf",
   "metadata": {
    "execution": {
     "iopub.execute_input": "2023-03-02T23:18:40.648691Z",
     "iopub.status.busy": "2023-03-02T23:18:40.648288Z",
     "iopub.status.idle": "2023-03-02T23:18:41.338094Z",
     "shell.execute_reply": "2023-03-02T23:18:41.337408Z",
     "shell.execute_reply.started": "2023-03-02T23:18:40.648662Z"
    },
    "tags": []
   },
   "outputs": [
    {
     "name": "stdout",
     "output_type": "stream",
     "text": [
      "17 rows out of 27508\n"
     ]
    },
    {
     "data": {
      "text/html": [
       "<div>\n",
       "<style scoped>\n",
       "    .dataframe tbody tr th:only-of-type {\n",
       "        vertical-align: middle;\n",
       "    }\n",
       "\n",
       "    .dataframe tbody tr th {\n",
       "        vertical-align: top;\n",
       "    }\n",
       "\n",
       "    .dataframe thead th {\n",
       "        text-align: right;\n",
       "    }\n",
       "</style>\n",
       "<table border=\"1\" class=\"dataframe\">\n",
       "  <thead>\n",
       "    <tr style=\"text-align: right;\">\n",
       "      <th></th>\n",
       "      <th>lemma_id</th>\n",
       "      <th>page_id</th>\n",
       "      <th>page_part</th>\n",
       "      <th>lemma</th>\n",
       "      <th>lemma_lower</th>\n",
       "      <th>isupper</th>\n",
       "      <th>lemma_len</th>\n",
       "      <th>tag</th>\n",
       "      <th>tag_0</th>\n",
       "      <th>tag_1</th>\n",
       "      <th>tagZ</th>\n",
       "      <th>tagZZ</th>\n",
       "      <th>member</th>\n",
       "      <th>data_id</th>\n",
       "      <th>lemma_score</th>\n",
       "    </tr>\n",
       "  </thead>\n",
       "  <tbody>\n",
       "    <tr>\n",
       "      <th>1691</th>\n",
       "      <td>abfahrend</td>\n",
       "      <td>553217</td>\n",
       "      <td>0</td>\n",
       "      <td>abfahrend</td>\n",
       "      <td>abfahrend</td>\n",
       "      <td>False</td>\n",
       "      <td>1</td>\n",
       "      <td>ADJA</td>\n",
       "      <td>ADJA</td>\n",
       "      <td>IjAycFzLOL</td>\n",
       "      <td>ADJ</td>\n",
       "      <td>A</td>\n",
       "      <td>Ptz1 noSteig manuell</td>\n",
       "      <td>abfahren</td>\n",
       "      <td>20.903891</td>\n",
       "    </tr>\n",
       "    <tr>\n",
       "      <th>1805</th>\n",
       "      <td>befallen</td>\n",
       "      <td>164351</td>\n",
       "      <td>0</td>\n",
       "      <td>befallen</td>\n",
       "      <td>befallen</td>\n",
       "      <td>False</td>\n",
       "      <td>1</td>\n",
       "      <td>ADJA</td>\n",
       "      <td>ADJA</td>\n",
       "      <td>mkDGzuEPWA</td>\n",
       "      <td>ADJ</td>\n",
       "      <td>A</td>\n",
       "      <td>noSteig Ptz2 manuell</td>\n",
       "      <td>befallen_1</td>\n",
       "      <td>14.801308</td>\n",
       "    </tr>\n",
       "    <tr>\n",
       "      <th>2393</th>\n",
       "      <td>strahlend</td>\n",
       "      <td>125820</td>\n",
       "      <td>0</td>\n",
       "      <td>strahlend</td>\n",
       "      <td>strahlend</td>\n",
       "      <td>False</td>\n",
       "      <td>1</td>\n",
       "      <td>ADJA</td>\n",
       "      <td>ADJA</td>\n",
       "      <td>02jdG7g7jG</td>\n",
       "      <td>ADJ</td>\n",
       "      <td>A</td>\n",
       "      <td>Ptz1 manuell</td>\n",
       "      <td>strahlen</td>\n",
       "      <td>597.622498</td>\n",
       "    </tr>\n",
       "    <tr>\n",
       "      <th>2527</th>\n",
       "      <td>vorbehalten_M</td>\n",
       "      <td>-1</td>\n",
       "      <td>-1</td>\n",
       "      <td>vorbehalten</td>\n",
       "      <td>vorbehalten</td>\n",
       "      <td>False</td>\n",
       "      <td>1</td>\n",
       "      <td>ADJA</td>\n",
       "      <td>ADJA</td>\n",
       "      <td>JjPuluFlcM</td>\n",
       "      <td>ADJ</td>\n",
       "      <td>A</td>\n",
       "      <td>manuell ergänzt Ptz2</td>\n",
       "      <td>vorbehalten</td>\n",
       "      <td>4.478923</td>\n",
       "    </tr>\n",
       "    <tr>\n",
       "      <th>2678</th>\n",
       "      <td>überragend</td>\n",
       "      <td>399665</td>\n",
       "      <td>0</td>\n",
       "      <td>überragend</td>\n",
       "      <td>überragend</td>\n",
       "      <td>False</td>\n",
       "      <td>1</td>\n",
       "      <td>ADJA</td>\n",
       "      <td>ADJA</td>\n",
       "      <td>LabDiVszES</td>\n",
       "      <td>ADJ</td>\n",
       "      <td>A</td>\n",
       "      <td>Ptz1 manuell</td>\n",
       "      <td>überragen</td>\n",
       "      <td>40.470448</td>\n",
       "    </tr>\n",
       "    <tr>\n",
       "      <th>4971</th>\n",
       "      <td>Acht_gebend</td>\n",
       "      <td>555699</td>\n",
       "      <td>0</td>\n",
       "      <td>Acht gebend</td>\n",
       "      <td>acht gebend</td>\n",
       "      <td>True</td>\n",
       "      <td>2</td>\n",
       "      <td>ADJA</td>\n",
       "      <td>ADJA</td>\n",
       "      <td>s9zPd0Dpky</td>\n",
       "      <td>ADJ</td>\n",
       "      <td>A</td>\n",
       "      <td>Ptz1</td>\n",
       "      <td>Acht_geben</td>\n",
       "      <td>0.209178</td>\n",
       "    </tr>\n",
       "    <tr>\n",
       "      <th>4972</th>\n",
       "      <td>Acht_gegeben</td>\n",
       "      <td>503505</td>\n",
       "      <td>0</td>\n",
       "      <td>Acht gegeben</td>\n",
       "      <td>acht gegeben</td>\n",
       "      <td>True</td>\n",
       "      <td>2</td>\n",
       "      <td>ADJA</td>\n",
       "      <td>ADJA</td>\n",
       "      <td>YQqZlKtKkY</td>\n",
       "      <td>ADJ</td>\n",
       "      <td>A</td>\n",
       "      <td>Ptz2</td>\n",
       "      <td>Acht_geben</td>\n",
       "      <td>0.214343</td>\n",
       "    </tr>\n",
       "    <tr>\n",
       "      <th>111690</th>\n",
       "      <td>aalend</td>\n",
       "      <td>463119</td>\n",
       "      <td>0</td>\n",
       "      <td>aalend</td>\n",
       "      <td>aalend</td>\n",
       "      <td>False</td>\n",
       "      <td>1</td>\n",
       "      <td>ADJA</td>\n",
       "      <td>ADJA</td>\n",
       "      <td>kCfSyCa7Wr</td>\n",
       "      <td>ADJ</td>\n",
       "      <td>A</td>\n",
       "      <td>Ptz1</td>\n",
       "      <td>aalen</td>\n",
       "      <td>0.523727</td>\n",
       "    </tr>\n",
       "    <tr>\n",
       "      <th>112196</th>\n",
       "      <td>abgeböscht</td>\n",
       "      <td>513373</td>\n",
       "      <td>0</td>\n",
       "      <td>abgeböscht</td>\n",
       "      <td>abgeböscht</td>\n",
       "      <td>False</td>\n",
       "      <td>1</td>\n",
       "      <td>ADJA</td>\n",
       "      <td>ADJA</td>\n",
       "      <td>f2to8rtPl6</td>\n",
       "      <td>ADJ</td>\n",
       "      <td>A</td>\n",
       "      <td>Ptz2</td>\n",
       "      <td>abböschen</td>\n",
       "      <td>0.470008</td>\n",
       "    </tr>\n",
       "    <tr>\n",
       "      <th>114822</th>\n",
       "      <td>angekündigt</td>\n",
       "      <td>110836</td>\n",
       "      <td>0</td>\n",
       "      <td>angekündigt</td>\n",
       "      <td>angekündigt</td>\n",
       "      <td>False</td>\n",
       "      <td>1</td>\n",
       "      <td>ADJA</td>\n",
       "      <td>ADJA</td>\n",
       "      <td>00Hw51WOVW</td>\n",
       "      <td>ADJ</td>\n",
       "      <td>A</td>\n",
       "      <td>Ptz2</td>\n",
       "      <td>ankündigen</td>\n",
       "      <td>0.930752</td>\n",
       "    </tr>\n",
       "    <tr>\n",
       "      <th>119870</th>\n",
       "      <td>beigemischt</td>\n",
       "      <td>791774</td>\n",
       "      <td>0</td>\n",
       "      <td>beigemischt</td>\n",
       "      <td>beigemischt</td>\n",
       "      <td>False</td>\n",
       "      <td>1</td>\n",
       "      <td>ADJA</td>\n",
       "      <td>ADJA</td>\n",
       "      <td>zzuSrTJtXk</td>\n",
       "      <td>ADJ</td>\n",
       "      <td>A</td>\n",
       "      <td>Ptz2</td>\n",
       "      <td>beimischen</td>\n",
       "      <td>0.517529</td>\n",
       "    </tr>\n",
       "    <tr>\n",
       "      <th>125110</th>\n",
       "      <td>durchgangen</td>\n",
       "      <td>611729</td>\n",
       "      <td>0</td>\n",
       "      <td>durchgangen</td>\n",
       "      <td>durchgangen</td>\n",
       "      <td>False</td>\n",
       "      <td>1</td>\n",
       "      <td>ADJA</td>\n",
       "      <td>ADJA</td>\n",
       "      <td>NLfawZM8uq</td>\n",
       "      <td>ADJ</td>\n",
       "      <td>A</td>\n",
       "      <td>Ptz2</td>\n",
       "      <td>durchgehen</td>\n",
       "      <td>0.660091</td>\n",
       "    </tr>\n",
       "    <tr>\n",
       "      <th>161992</th>\n",
       "      <td>verschieden_3</td>\n",
       "      <td>7368</td>\n",
       "      <td>3</td>\n",
       "      <td>verschieden</td>\n",
       "      <td>verschieden</td>\n",
       "      <td>False</td>\n",
       "      <td>1</td>\n",
       "      <td>ADJA</td>\n",
       "      <td>ADJA</td>\n",
       "      <td>dpGEcFN2hf</td>\n",
       "      <td>ADJ</td>\n",
       "      <td>A</td>\n",
       "      <td>Ptz2</td>\n",
       "      <td>verscheiden</td>\n",
       "      <td>0.003958</td>\n",
       "    </tr>\n",
       "    <tr>\n",
       "      <th>164816</th>\n",
       "      <td>weggezaubert</td>\n",
       "      <td>884084</td>\n",
       "      <td>0</td>\n",
       "      <td>weggezaubert</td>\n",
       "      <td>weggezaubert</td>\n",
       "      <td>False</td>\n",
       "      <td>1</td>\n",
       "      <td>ADJA</td>\n",
       "      <td>ADJA</td>\n",
       "      <td>00BeDhJ0KG</td>\n",
       "      <td>ADJ</td>\n",
       "      <td>A</td>\n",
       "      <td>Ptz2</td>\n",
       "      <td>wegzaubern</td>\n",
       "      <td>0.434884</td>\n",
       "    </tr>\n",
       "    <tr>\n",
       "      <th>170491</th>\n",
       "      <td>überdacht_4</td>\n",
       "      <td>91988</td>\n",
       "      <td>4</td>\n",
       "      <td>überdacht</td>\n",
       "      <td>überdacht</td>\n",
       "      <td>False</td>\n",
       "      <td>1</td>\n",
       "      <td>ADJA</td>\n",
       "      <td>ADJA</td>\n",
       "      <td>fHDOgv5ZJl</td>\n",
       "      <td>ADJ</td>\n",
       "      <td>A</td>\n",
       "      <td>Ptz2</td>\n",
       "      <td>überdenken</td>\n",
       "      <td>0.028046</td>\n",
       "    </tr>\n",
       "    <tr>\n",
       "      <th>171103</th>\n",
       "      <td>übertölpelt</td>\n",
       "      <td>1118227</td>\n",
       "      <td>0</td>\n",
       "      <td>übertölpelt</td>\n",
       "      <td>übertölpelt</td>\n",
       "      <td>False</td>\n",
       "      <td>1</td>\n",
       "      <td>ADJA</td>\n",
       "      <td>ADJA</td>\n",
       "      <td>2ilMGawSMu</td>\n",
       "      <td>ADJ</td>\n",
       "      <td>A</td>\n",
       "      <td>Ptz2</td>\n",
       "      <td>übertölpeln</td>\n",
       "      <td>0.389430</td>\n",
       "    </tr>\n",
       "    <tr>\n",
       "      <th>171211</th>\n",
       "      <td>übriglassend</td>\n",
       "      <td>1023746</td>\n",
       "      <td>0</td>\n",
       "      <td>übriglassend</td>\n",
       "      <td>übriglassend</td>\n",
       "      <td>False</td>\n",
       "      <td>1</td>\n",
       "      <td>ADJA</td>\n",
       "      <td>ADJA</td>\n",
       "      <td>qjxAb7RRka</td>\n",
       "      <td>ADJ</td>\n",
       "      <td>A</td>\n",
       "      <td>Ptz1</td>\n",
       "      <td>übriglassen</td>\n",
       "      <td>0.565050</td>\n",
       "    </tr>\n",
       "  </tbody>\n",
       "</table>\n",
       "</div>"
      ],
      "text/plain": [
       "             lemma_id  page_id  page_part         lemma   lemma_lower  \\\n",
       "1691        abfahrend   553217          0     abfahrend     abfahrend   \n",
       "1805         befallen   164351          0      befallen      befallen   \n",
       "2393        strahlend   125820          0     strahlend     strahlend   \n",
       "2527    vorbehalten_M       -1         -1   vorbehalten   vorbehalten   \n",
       "2678       überragend   399665          0    überragend    überragend   \n",
       "4971      Acht_gebend   555699          0   Acht gebend   acht gebend   \n",
       "4972     Acht_gegeben   503505          0  Acht gegeben  acht gegeben   \n",
       "111690         aalend   463119          0        aalend        aalend   \n",
       "112196     abgeböscht   513373          0    abgeböscht    abgeböscht   \n",
       "114822    angekündigt   110836          0   angekündigt   angekündigt   \n",
       "119870    beigemischt   791774          0   beigemischt   beigemischt   \n",
       "125110    durchgangen   611729          0   durchgangen   durchgangen   \n",
       "161992  verschieden_3     7368          3   verschieden   verschieden   \n",
       "164816   weggezaubert   884084          0  weggezaubert  weggezaubert   \n",
       "170491    überdacht_4    91988          4     überdacht     überdacht   \n",
       "171103    übertölpelt  1118227          0   übertölpelt   übertölpelt   \n",
       "171211   übriglassend  1023746          0  übriglassend  übriglassend   \n",
       "\n",
       "        isupper  lemma_len   tag tag_0       tag_1 tagZ tagZZ  \\\n",
       "1691      False          1  ADJA  ADJA  IjAycFzLOL  ADJ     A   \n",
       "1805      False          1  ADJA  ADJA  mkDGzuEPWA  ADJ     A   \n",
       "2393      False          1  ADJA  ADJA  02jdG7g7jG  ADJ     A   \n",
       "2527      False          1  ADJA  ADJA  JjPuluFlcM  ADJ     A   \n",
       "2678      False          1  ADJA  ADJA  LabDiVszES  ADJ     A   \n",
       "4971       True          2  ADJA  ADJA  s9zPd0Dpky  ADJ     A   \n",
       "4972       True          2  ADJA  ADJA  YQqZlKtKkY  ADJ     A   \n",
       "111690    False          1  ADJA  ADJA  kCfSyCa7Wr  ADJ     A   \n",
       "112196    False          1  ADJA  ADJA  f2to8rtPl6  ADJ     A   \n",
       "114822    False          1  ADJA  ADJA  00Hw51WOVW  ADJ     A   \n",
       "119870    False          1  ADJA  ADJA  zzuSrTJtXk  ADJ     A   \n",
       "125110    False          1  ADJA  ADJA  NLfawZM8uq  ADJ     A   \n",
       "161992    False          1  ADJA  ADJA  dpGEcFN2hf  ADJ     A   \n",
       "164816    False          1  ADJA  ADJA  00BeDhJ0KG  ADJ     A   \n",
       "170491    False          1  ADJA  ADJA  fHDOgv5ZJl  ADJ     A   \n",
       "171103    False          1  ADJA  ADJA  2ilMGawSMu  ADJ     A   \n",
       "171211    False          1  ADJA  ADJA  qjxAb7RRka  ADJ     A   \n",
       "\n",
       "                      member      data_id  lemma_score  \n",
       "1691    Ptz1 noSteig manuell     abfahren    20.903891  \n",
       "1805    noSteig Ptz2 manuell   befallen_1    14.801308  \n",
       "2393            Ptz1 manuell     strahlen   597.622498  \n",
       "2527    manuell ergänzt Ptz2  vorbehalten     4.478923  \n",
       "2678            Ptz1 manuell    überragen    40.470448  \n",
       "4971                    Ptz1   Acht_geben     0.209178  \n",
       "4972                    Ptz2   Acht_geben     0.214343  \n",
       "111690                  Ptz1        aalen     0.523727  \n",
       "112196                  Ptz2    abböschen     0.470008  \n",
       "114822                  Ptz2   ankündigen     0.930752  \n",
       "119870                  Ptz2   beimischen     0.517529  \n",
       "125110                  Ptz2   durchgehen     0.660091  \n",
       "161992                  Ptz2  verscheiden     0.003958  \n",
       "164816                  Ptz2   wegzaubern     0.434884  \n",
       "170491                  Ptz2   überdenken     0.028046  \n",
       "171103                  Ptz2  übertölpeln     0.389430  \n",
       "171211                  Ptz1  übriglassen     0.565050  "
      ]
     },
     "execution_count": 33,
     "metadata": {},
     "output_type": "execute_result"
    }
   ],
   "source": [
    "# alle_ptz\n",
    "mask_Ptz = wiktionary_lemma.data_id != ''\n",
    "alle_ptz = wiktionary_lemma[mask_Ptz]\n",
    "grid(alle_ptz,pak.sample)"
   ]
  },
  {
   "cell_type": "code",
   "execution_count": 34,
   "id": "552456f9-6118-44e8-a8aa-bbbff9cbb904",
   "metadata": {
    "execution": {
     "iopub.execute_input": "2023-03-02T23:18:41.341877Z",
     "iopub.status.busy": "2023-03-02T23:18:41.341599Z",
     "iopub.status.idle": "2023-03-02T23:18:41.392099Z",
     "shell.execute_reply": "2023-03-02T23:18:41.387110Z",
     "shell.execute_reply.started": "2023-03-02T23:18:41.341854Z"
    },
    "tags": []
   },
   "outputs": [
    {
     "name": "stdout",
     "output_type": "stream",
     "text": [
      "check_mask:  0 rows\n"
     ]
    }
   ],
   "source": [
    "# alle_ptz enthält nur Adjektive\n",
    "mask = alle_ptz.tagZZ != 'A'\n",
    "check_mask(alle_ptz,mask,0)\n",
    "#alle_ptz[mask]"
   ]
  },
  {
   "cell_type": "code",
   "execution_count": 35,
   "id": "a4e69a95-dfd6-4083-9414-b882bf0c8e70",
   "metadata": {
    "execution": {
     "iopub.execute_input": "2023-03-02T23:18:41.393389Z",
     "iopub.status.busy": "2023-03-02T23:18:41.393086Z",
     "iopub.status.idle": "2023-03-02T23:18:41.495288Z",
     "shell.execute_reply": "2023-03-02T23:18:41.494569Z",
     "shell.execute_reply.started": "2023-03-02T23:18:41.393360Z"
    }
   },
   "outputs": [
    {
     "name": "stdout",
     "output_type": "stream",
     "text": [
      "check_mask:  0 rows\n"
     ]
    }
   ],
   "source": [
    "# Alle alle_ptz.data_id weisen auf Verben\n",
    "mask1 = wiktionary_lemma.lemma_id.isin(alle_ptz.data_id)\n",
    "mask2 = wiktionary_lemma.tagZZ != 'V'\n",
    "mask = mask1  &  mask2\n",
    "check_mask(wiktionary_lemma,mask,0)\n",
    "#wiktionary_lemma[mask]"
   ]
  },
  {
   "cell_type": "code",
   "execution_count": 36,
   "id": "1c3e68fb-946d-4706-8c91-8f8641f03e71",
   "metadata": {
    "execution": {
     "iopub.execute_input": "2023-03-02T23:18:41.499037Z",
     "iopub.status.busy": "2023-03-02T23:18:41.498657Z",
     "iopub.status.idle": "2023-03-02T23:18:41.670216Z",
     "shell.execute_reply": "2023-03-02T23:18:41.669517Z",
     "shell.execute_reply.started": "2023-03-02T23:18:41.499005Z"
    }
   },
   "outputs": [
    {
     "data": {
      "text/html": [
       "<div>\n",
       "<style scoped>\n",
       "    .dataframe tbody tr th:only-of-type {\n",
       "        vertical-align: middle;\n",
       "    }\n",
       "\n",
       "    .dataframe tbody tr th {\n",
       "        vertical-align: top;\n",
       "    }\n",
       "\n",
       "    .dataframe thead th {\n",
       "        text-align: right;\n",
       "    }\n",
       "</style>\n",
       "<table border=\"1\" class=\"dataframe\">\n",
       "  <thead>\n",
       "    <tr style=\"text-align: right;\">\n",
       "      <th></th>\n",
       "      <th>lemma_id</th>\n",
       "      <th>page_id</th>\n",
       "      <th>page_part</th>\n",
       "      <th>lemma</th>\n",
       "      <th>lemma_lower</th>\n",
       "      <th>isupper</th>\n",
       "      <th>lemma_len</th>\n",
       "      <th>tag</th>\n",
       "      <th>tag_0</th>\n",
       "      <th>tag_1</th>\n",
       "      <th>tagZ</th>\n",
       "      <th>tagZZ</th>\n",
       "      <th>member</th>\n",
       "      <th>data_id</th>\n",
       "      <th>lemma_score</th>\n",
       "    </tr>\n",
       "  </thead>\n",
       "  <tbody>\n",
       "  </tbody>\n",
       "</table>\n",
       "</div>"
      ],
      "text/plain": [
       "Empty DataFrame\n",
       "Columns: [lemma_id, page_id, page_part, lemma, lemma_lower, isupper, lemma_len, tag, tag_0, tag_1, tagZ, tagZZ, member, data_id, lemma_score]\n",
       "Index: []"
      ]
     },
     "execution_count": 36,
     "metadata": {},
     "output_type": "execute_result"
    }
   ],
   "source": [
    "# suche_debug wiktionary_lemma\n",
    "search_str(wiktionary_lemma, suche_debug)"
   ]
  },
  {
   "cell_type": "markdown",
   "id": "bd6d3882-492a-4462-863b-facc4eb33daf",
   "metadata": {},
   "source": [
    "#### score & spacy"
   ]
  },
  {
   "cell_type": "code",
   "execution_count": 37,
   "id": "e6843268-1790-40e6-8992-bb92766fe029",
   "metadata": {
    "execution": {
     "iopub.execute_input": "2023-03-02T23:18:41.671436Z",
     "iopub.status.busy": "2023-03-02T23:18:41.671170Z",
     "iopub.status.idle": "2023-03-02T23:18:41.784965Z",
     "shell.execute_reply": "2023-03-02T23:18:41.784255Z",
     "shell.execute_reply.started": "2023-03-02T23:18:41.671410Z"
    },
    "tags": []
   },
   "outputs": [
    {
     "name": "stdout",
     "output_type": "stream",
     "text": [
      "check_mask:  203 rows\n"
     ]
    }
   ],
   "source": [
    "# abwerten, wenn großgeschrieben\n",
    "mask1 = wiktionary_lemma.tagZZ.isin(['A','V']) \n",
    "mask2 = wiktionary_lemma.lemma != wiktionary_lemma.lemma_lower\n",
    "mask3 = wiktionary_lemma.lemma_len == 1\n",
    "mask = mask1  &  mask2  &  mask3\n",
    "check_mask(wiktionary_lemma,mask,203)\n",
    "wiktionary_lemma.loc[mask,'lemma_score'] *= 0.5"
   ]
  },
  {
   "cell_type": "code",
   "execution_count": 38,
   "id": "b63ec564-0c4b-4e8f-972f-edba81289e01",
   "metadata": {
    "execution": {
     "iopub.execute_input": "2023-03-02T23:18:41.795331Z",
     "iopub.status.busy": "2023-03-02T23:18:41.791194Z",
     "iopub.status.idle": "2023-03-02T23:18:41.851114Z",
     "shell.execute_reply": "2023-03-02T23:18:41.850546Z",
     "shell.execute_reply.started": "2023-03-02T23:18:41.795287Z"
    },
    "tags": []
   },
   "outputs": [],
   "source": [
    "def analyse_spacy_wl(zeile):\n",
    "    doc = nlp(zeile.lemma)\n",
    "    zeile['doc_len']   = len(doc)  \n",
    "    if zeile['doc_len']  < 1:\n",
    "        return zeile    \n",
    "    \n",
    "    zeile['doc_lemma'] = ' '.join([token.lemma_ for token in doc])\n",
    "    zeile['doc_tag']   = ' '.join([token.tag_   for token in doc])    \n",
    "    \n",
    "    return zeile"
   ]
  },
  {
   "cell_type": "code",
   "execution_count": 39,
   "id": "19fbf708-6adf-4e05-aff3-2a3fa2292846",
   "metadata": {
    "execution": {
     "iopub.execute_input": "2023-03-02T23:18:41.852446Z",
     "iopub.status.busy": "2023-03-02T23:18:41.852182Z",
     "iopub.status.idle": "2023-03-03T07:02:41.711902Z",
     "shell.execute_reply": "2023-03-03T07:02:41.711297Z",
     "shell.execute_reply.started": "2023-03-02T23:18:41.852424Z"
    },
    "tags": []
   },
   "outputs": [
    {
     "data": {
      "application/vnd.jupyter.widget-view+json": {
       "model_id": "0e0634486df94fdd827b23d1e6faf0ef",
       "version_major": 2,
       "version_minor": 0
      },
      "text/plain": [
       "Pandas Apply:   0%|          | 0/171220 [00:00<?, ?it/s]"
      ]
     },
     "metadata": {},
     "output_type": "display_data"
    }
   ],
   "source": [
    "# apply analyse_spacy_wl \n",
    "if gründlich:\n",
    "    wiktionary_lemma['doc_len']   = None\n",
    "    wiktionary_lemma['doc_lemma'] = None  # Welches lemma ermittelt Spacy?\n",
    "    wiktionary_lemma['doc_tag']   = None  # Welchen tag ermittelt Spacy?\n",
    "\n",
    "    wiktionary_lemma = wiktionary_lemma.swifter.apply( analyse_spacy_wl, axis=1 )\n",
    "    wiktionary_lemma = pak.change_datatype(wiktionary_lemma, verbose=False)  "
   ]
  },
  {
   "cell_type": "code",
   "execution_count": 40,
   "id": "c7488273-3de9-4766-ba01-72323e5a1900",
   "metadata": {
    "execution": {
     "iopub.execute_input": "2023-03-03T07:02:41.712916Z",
     "iopub.status.busy": "2023-03-03T07:02:41.712691Z",
     "iopub.status.idle": "2023-03-03T07:02:41.750440Z",
     "shell.execute_reply": "2023-03-03T07:02:41.748170Z",
     "shell.execute_reply.started": "2023-03-03T07:02:41.712895Z"
    },
    "tags": []
   },
   "outputs": [],
   "source": [
    "#wiktionary_lemma_bak = wiktionary_lemma.copy()\n",
    "#wiktionary_lemma = wiktionary_lemma_bak.copy()"
   ]
  },
  {
   "cell_type": "code",
   "execution_count": 41,
   "id": "d273877c-a979-4502-95b6-691f26794d36",
   "metadata": {
    "execution": {
     "iopub.execute_input": "2023-03-03T07:02:41.755788Z",
     "iopub.status.busy": "2023-03-03T07:02:41.754981Z",
     "iopub.status.idle": "2023-03-03T07:02:42.461364Z",
     "shell.execute_reply": "2023-03-03T07:02:42.460678Z",
     "shell.execute_reply.started": "2023-03-03T07:02:41.755718Z"
    },
    "tags": []
   },
   "outputs": [
    {
     "name": "stdout",
     "output_type": "stream",
     "text": [
      "rank: 0 rows less, now 171220 rows\n",
      "check_mask:  1966 rows\n",
      "1966 rows out of 171220\n"
     ]
    },
    {
     "data": {
      "text/html": [
       "\n",
       "        <iframe\n",
       "            width=\"100%\"\n",
       "            height=\"475\"\n",
       "            src=\"http://pop-os:40000/dtale/iframe/1\"\n",
       "            frameborder=\"0\"\n",
       "            allowfullscreen\n",
       "            \n",
       "        ></iframe>\n",
       "        "
      ],
      "text/plain": [
       "<IPython.lib.display.IFrame at 0x7fb1ee03e040>"
      ]
     },
     "metadata": {},
     "output_type": "display_data"
    },
    {
     "data": {
      "text/plain": []
     },
     "execution_count": 41,
     "metadata": {},
     "output_type": "execute_result"
    }
   ],
   "source": [
    "# page_part 0 ist nicht immer der höchste score\n",
    "wiktionary_lemma = pak.drop_cols(wiktionary_lemma,'rank_score')\n",
    "wiktionary_lemma = pak.rank(wiktionary_lemma, col_score='lemma_score', cols_group=['lemma','tagZZ'], col_target='rank_score')\n",
    "\n",
    "mask1 = wiktionary_lemma.rank_score == 1\n",
    "mask2 = wiktionary_lemma.page_part > 0\n",
    "mask = mask1  &  mask2\n",
    "check_mask(wiktionary_lemma,mask,1966)\n",
    "\n",
    "gridt(wiktionary_lemma,mask)"
   ]
  },
  {
   "cell_type": "code",
   "execution_count": 42,
   "id": "85fb9ce3-0943-41b0-8232-1904af3d2dce",
   "metadata": {
    "execution": {
     "iopub.execute_input": "2023-03-03T07:02:42.465196Z",
     "iopub.status.busy": "2023-03-03T07:02:42.464926Z",
     "iopub.status.idle": "2023-03-03T07:02:42.563174Z",
     "shell.execute_reply": "2023-03-03T07:02:42.562420Z",
     "shell.execute_reply.started": "2023-03-03T07:02:42.465174Z"
    },
    "tags": []
   },
   "outputs": [],
   "source": [
    "#mask = wiktionary_lemma.lemma == 'Maurer'\n",
    "#wiktionary_lemma[mask]"
   ]
  },
  {
   "cell_type": "code",
   "execution_count": 43,
   "id": "bbe7b783-a3e1-4870-9962-9a8e621a1c3a",
   "metadata": {
    "execution": {
     "iopub.execute_input": "2023-03-03T07:02:42.564106Z",
     "iopub.status.busy": "2023-03-03T07:02:42.563874Z",
     "iopub.status.idle": "2023-03-03T07:02:42.950792Z",
     "shell.execute_reply": "2023-03-03T07:02:42.950067Z",
     "shell.execute_reply.started": "2023-03-03T07:02:42.564085Z"
    },
    "tags": []
   },
   "outputs": [
    {
     "name": "stdout",
     "output_type": "stream",
     "text": [
      "check_mask:  145821 rows\n"
     ]
    }
   ],
   "source": [
    "# aufwerten, wenn doc_lemma gleich\n",
    "mask1 =  wiktionary_lemma.lemma_lower == wiktionary_lemma.doc_lemma.str.lower()\n",
    "mask2 = wiktionary_lemma.lemma_len == wiktionary_lemma.doc_len\n",
    "mask = mask1  &  mask2 \n",
    "check_mask(wiktionary_lemma,mask,145821)\n",
    "\n",
    "wiktionary_lemma.loc[mask,'lemma_score'] *= 3.0\n",
    "#pak.sample(wiktionary_lemma[mask])"
   ]
  },
  {
   "cell_type": "code",
   "execution_count": 44,
   "id": "978557dd-f5af-481b-8f48-5c56cf77e123",
   "metadata": {
    "execution": {
     "iopub.execute_input": "2023-03-03T07:02:42.951818Z",
     "iopub.status.busy": "2023-03-03T07:02:42.951589Z",
     "iopub.status.idle": "2023-03-03T07:02:43.153490Z",
     "shell.execute_reply": "2023-03-03T07:02:43.152694Z",
     "shell.execute_reply.started": "2023-03-03T07:02:42.951797Z"
    },
    "tags": []
   },
   "outputs": [
    {
     "name": "stdout",
     "output_type": "stream",
     "text": [
      "check_mask:  80284 rows\n"
     ]
    }
   ],
   "source": [
    "# aufwerten, wenn doc_tag gleich\n",
    "mask1 = wiktionary_lemma.tag_0 == wiktionary_lemma.doc_tag\n",
    "mask2 = wiktionary_lemma.lemma_len == wiktionary_lemma.doc_len\n",
    "mask = mask1  &  mask2 \n",
    "check_mask(wiktionary_lemma,mask,80284)\n",
    "\n",
    "wiktionary_lemma.loc[mask,'lemma_score'] *= 3.0\n",
    "#gridt(wiktionary_lemma[mask], pak.sample)"
   ]
  },
  {
   "cell_type": "code",
   "execution_count": 45,
   "id": "c5f3cc95-e63c-4be3-a54e-2e8cac2e2dd3",
   "metadata": {
    "execution": {
     "iopub.execute_input": "2023-03-03T07:02:43.154566Z",
     "iopub.status.busy": "2023-03-03T07:02:43.154330Z",
     "iopub.status.idle": "2023-03-03T07:02:43.812198Z",
     "shell.execute_reply": "2023-03-03T07:02:43.811182Z",
     "shell.execute_reply.started": "2023-03-03T07:02:43.154546Z"
    },
    "tags": []
   },
   "outputs": [
    {
     "name": "stdout",
     "output_type": "stream",
     "text": [
      "rank: 0 rows less, now 171220 rows\n",
      "check_mask:  104 rows\n",
      "104 rows out of 171220\n"
     ]
    },
    {
     "data": {
      "text/html": [
       "\n",
       "        <iframe\n",
       "            width=\"100%\"\n",
       "            height=\"475\"\n",
       "            src=\"http://pop-os:40000/dtale/iframe/2\"\n",
       "            frameborder=\"0\"\n",
       "            allowfullscreen\n",
       "            \n",
       "        ></iframe>\n",
       "        "
      ],
      "text/plain": [
       "<IPython.lib.display.IFrame at 0x7fb1d75f3b20>"
      ]
     },
     "metadata": {},
     "output_type": "display_data"
    },
    {
     "data": {
      "text/plain": []
     },
     "execution_count": 45,
     "metadata": {},
     "output_type": "execute_result"
    }
   ],
   "source": [
    "# Veränderungen im Ranking\n",
    "wiktionary_lemma = pak.drop_cols(wiktionary_lemma,'rank_score2')\n",
    "wiktionary_lemma = pak.rank(wiktionary_lemma, col_score='lemma_score', cols_group=['lemma','tagZZ'], col_target='rank_score2')\n",
    "\n",
    "mask1 = wiktionary_lemma.rank_score2 != wiktionary_lemma.rank_score\n",
    "mask2 = wiktionary_lemma.page_part > 0\n",
    "mask = mask1  &  mask2  \n",
    "check_mask(wiktionary_lemma,mask,104)\n",
    "\n",
    "gridt(wiktionary_lemma,mask)"
   ]
  },
  {
   "cell_type": "code",
   "execution_count": 46,
   "id": "68b4f212-f24c-4203-851b-5f929326bb3d",
   "metadata": {
    "execution": {
     "iopub.execute_input": "2023-03-03T07:02:43.816332Z",
     "iopub.status.busy": "2023-03-03T07:02:43.816003Z",
     "iopub.status.idle": "2023-03-03T07:02:44.063806Z",
     "shell.execute_reply": "2023-03-03T07:02:44.062912Z",
     "shell.execute_reply.started": "2023-03-03T07:02:43.816302Z"
    },
    "tags": []
   },
   "outputs": [],
   "source": [
    "# Spalten wieder löschen\n",
    "wiktionary_lemma = pak.drop_cols(wiktionary_lemma,['rank_score','rank_score2','doc_lemma','doc_len','doc_tag'])"
   ]
  },
  {
   "cell_type": "code",
   "execution_count": 47,
   "id": "9c7dc00e-8ec9-42d0-bcb3-a876e2e3c025",
   "metadata": {
    "execution": {
     "iopub.execute_input": "2023-03-03T07:02:44.064944Z",
     "iopub.status.busy": "2023-03-03T07:02:44.064633Z",
     "iopub.status.idle": "2023-03-03T07:02:46.451053Z",
     "shell.execute_reply": "2023-03-03T07:02:46.450220Z",
     "shell.execute_reply.started": "2023-03-03T07:02:44.064914Z"
    },
    "tags": []
   },
   "outputs": [
    {
     "data": {
      "text/html": [
       "<div>\n",
       "<style scoped>\n",
       "    .dataframe tbody tr th:only-of-type {\n",
       "        vertical-align: middle;\n",
       "    }\n",
       "\n",
       "    .dataframe tbody tr th {\n",
       "        vertical-align: top;\n",
       "    }\n",
       "\n",
       "    .dataframe thead th {\n",
       "        text-align: right;\n",
       "    }\n",
       "</style>\n",
       "<table border=\"1\" class=\"dataframe\">\n",
       "  <thead>\n",
       "    <tr style=\"text-align: right;\">\n",
       "      <th></th>\n",
       "      <th>lemma_id</th>\n",
       "      <th>page_id</th>\n",
       "      <th>page_part</th>\n",
       "      <th>lemma</th>\n",
       "      <th>lemma_lower</th>\n",
       "      <th>isupper</th>\n",
       "      <th>lemma_len</th>\n",
       "      <th>tag</th>\n",
       "      <th>tag_0</th>\n",
       "      <th>tag_1</th>\n",
       "      <th>tagZ</th>\n",
       "      <th>tagZZ</th>\n",
       "      <th>member</th>\n",
       "      <th>data_id</th>\n",
       "      <th>lemma_score</th>\n",
       "    </tr>\n",
       "  </thead>\n",
       "  <tbody>\n",
       "    <tr>\n",
       "      <th>0</th>\n",
       "      <td>24/7</td>\n",
       "      <td>584619</td>\n",
       "      <td>0</td>\n",
       "      <td>24/7</td>\n",
       "      <td>24/7</td>\n",
       "      <td>True</td>\n",
       "      <td>1</td>\n",
       "      <td>ADJA</td>\n",
       "      <td>ADJA</td>\n",
       "      <td>RwimB7zH02</td>\n",
       "      <td>ADJ</td>\n",
       "      <td>A</td>\n",
       "      <td>Abkürzung manuell ergänzt</td>\n",
       "      <td></td>\n",
       "      <td>14.942436</td>\n",
       "    </tr>\n",
       "    <tr>\n",
       "      <th>1312</th>\n",
       "      <td>Roth</td>\n",
       "      <td>111157</td>\n",
       "      <td>0</td>\n",
       "      <td>Roth</td>\n",
       "      <td>roth</td>\n",
       "      <td>True</td>\n",
       "      <td>1</td>\n",
       "      <td>NE</td>\n",
       "      <td>NE</td>\n",
       "      <td>bLisjdRzOK</td>\n",
       "      <td>NAM</td>\n",
       "      <td>N</td>\n",
       "      <td>Person_nachname</td>\n",
       "      <td></td>\n",
       "      <td>627.031616</td>\n",
       "    </tr>\n",
       "    <tr>\n",
       "      <th>1814</th>\n",
       "      <td>beide</td>\n",
       "      <td>16788</td>\n",
       "      <td>0</td>\n",
       "      <td>beide</td>\n",
       "      <td>beide</td>\n",
       "      <td>False</td>\n",
       "      <td>1</td>\n",
       "      <td>PIAT CARD</td>\n",
       "      <td>PIAT</td>\n",
       "      <td>CARD</td>\n",
       "      <td>PRO</td>\n",
       "      <td>P</td>\n",
       "      <td>manuell</td>\n",
       "      <td></td>\n",
       "      <td>309.213531</td>\n",
       "    </tr>\n",
       "    <tr>\n",
       "      <th>2130</th>\n",
       "      <td>http</td>\n",
       "      <td>209862</td>\n",
       "      <td>0</td>\n",
       "      <td>http</td>\n",
       "      <td>http</td>\n",
       "      <td>False</td>\n",
       "      <td>1</td>\n",
       "      <td>TRUNC</td>\n",
       "      <td>TRUNC</td>\n",
       "      <td>6vseHunsSW</td>\n",
       "      <td>z</td>\n",
       "      <td>Z</td>\n",
       "      <td>Abkürzung manuell ergänzt</td>\n",
       "      <td></td>\n",
       "      <td>19.930384</td>\n",
       "    </tr>\n",
       "    <tr>\n",
       "      <th>2696</th>\n",
       "      <td>!_M</td>\n",
       "      <td>-1</td>\n",
       "      <td>-1</td>\n",
       "      <td>!</td>\n",
       "      <td>!</td>\n",
       "      <td>False</td>\n",
       "      <td>1</td>\n",
       "      <td>$.</td>\n",
       "      <td>$.</td>\n",
       "      <td>uqHcyVFuvv</td>\n",
       "      <td>SYM</td>\n",
       "      <td>Y</td>\n",
       "      <td>manuell ergänzt</td>\n",
       "      <td></td>\n",
       "      <td>6.718384</td>\n",
       "    </tr>\n",
       "    <tr>\n",
       "      <th>2701</th>\n",
       "      <td>*_M</td>\n",
       "      <td>-1</td>\n",
       "      <td>-1</td>\n",
       "      <td>*</td>\n",
       "      <td>*</td>\n",
       "      <td>False</td>\n",
       "      <td>1</td>\n",
       "      <td>$(</td>\n",
       "      <td>$(</td>\n",
       "      <td>sDN7Lp4GtV</td>\n",
       "      <td>SYM</td>\n",
       "      <td>Y</td>\n",
       "      <td>manuell ergänzt</td>\n",
       "      <td></td>\n",
       "      <td>6.718384</td>\n",
       "    </tr>\n",
       "    <tr>\n",
       "      <th>3018</th>\n",
       "      <td>-se</td>\n",
       "      <td>378398</td>\n",
       "      <td>0</td>\n",
       "      <td>-se</td>\n",
       "      <td>-se</td>\n",
       "      <td>False</td>\n",
       "      <td>1</td>\n",
       "      <td>ZFIX PPER</td>\n",
       "      <td>ZFIX</td>\n",
       "      <td>PPER</td>\n",
       "      <td>FIX</td>\n",
       "      <td>Z</td>\n",
       "      <td></td>\n",
       "      <td></td>\n",
       "      <td>23.231831</td>\n",
       "    </tr>\n",
       "    <tr>\n",
       "      <th>3284</th>\n",
       "      <td>30er</td>\n",
       "      <td>945804</td>\n",
       "      <td>0</td>\n",
       "      <td>30er</td>\n",
       "      <td>30er</td>\n",
       "      <td>True</td>\n",
       "      <td>1</td>\n",
       "      <td>ADJA</td>\n",
       "      <td>ADJA</td>\n",
       "      <td>BHlCkq8gis</td>\n",
       "      <td>ADJ</td>\n",
       "      <td>A</td>\n",
       "      <td>noSteig noFlex</td>\n",
       "      <td></td>\n",
       "      <td>514.831238</td>\n",
       "    </tr>\n",
       "    <tr>\n",
       "      <th>3618</th>\n",
       "      <td>Aadolf_V</td>\n",
       "      <td>-1</td>\n",
       "      <td>-1</td>\n",
       "      <td>Aadolf</td>\n",
       "      <td>aadolf</td>\n",
       "      <td>True</td>\n",
       "      <td>1</td>\n",
       "      <td>NE</td>\n",
       "      <td>NE</td>\n",
       "      <td>7ozp0ZV2wr</td>\n",
       "      <td>NAM</td>\n",
       "      <td>N</td>\n",
       "      <td>Person_vorname</td>\n",
       "      <td></td>\n",
       "      <td>6.708904</td>\n",
       "    </tr>\n",
       "    <tr>\n",
       "      <th>7255</th>\n",
       "      <td>Ami_6</td>\n",
       "      <td>243606</td>\n",
       "      <td>6</td>\n",
       "      <td>Ami</td>\n",
       "      <td>ami</td>\n",
       "      <td>True</td>\n",
       "      <td>1</td>\n",
       "      <td>NE</td>\n",
       "      <td>NE</td>\n",
       "      <td>w9s2VtSo18</td>\n",
       "      <td>NAM</td>\n",
       "      <td>N</td>\n",
       "      <td>Person_vorname</td>\n",
       "      <td></td>\n",
       "      <td>2.051993</td>\n",
       "    </tr>\n",
       "    <tr>\n",
       "      <th>8073</th>\n",
       "      <td>Anmerkung_der_Redaktion_M</td>\n",
       "      <td>-1</td>\n",
       "      <td>-1</td>\n",
       "      <td>Anmerkung der Redaktion</td>\n",
       "      <td>anmerkung der redaktion</td>\n",
       "      <td>True</td>\n",
       "      <td>3</td>\n",
       "      <td>KOMBI</td>\n",
       "      <td>KOMBI</td>\n",
       "      <td>Jr1QH8WVHu</td>\n",
       "      <td>X_kombi</td>\n",
       "      <td>X</td>\n",
       "      <td>Wortverbindung manuell</td>\n",
       "      <td></td>\n",
       "      <td>6.718384</td>\n",
       "    </tr>\n",
       "    <tr>\n",
       "      <th>13705</th>\n",
       "      <td>Beamtenlaufbahn</td>\n",
       "      <td>441534</td>\n",
       "      <td>0</td>\n",
       "      <td>Beamtenlaufbahn</td>\n",
       "      <td>beamtenlaufbahn</td>\n",
       "      <td>True</td>\n",
       "      <td>1</td>\n",
       "      <td>NN</td>\n",
       "      <td>NN</td>\n",
       "      <td>w1K4RqxY8G</td>\n",
       "      <td>NOM</td>\n",
       "      <td>N</td>\n",
       "      <td></td>\n",
       "      <td></td>\n",
       "      <td>87.445618</td>\n",
       "    </tr>\n",
       "    <tr>\n",
       "      <th>20547</th>\n",
       "      <td>Chinakohl</td>\n",
       "      <td>489287</td>\n",
       "      <td>0</td>\n",
       "      <td>Chinakohl</td>\n",
       "      <td>chinakohl</td>\n",
       "      <td>True</td>\n",
       "      <td>1</td>\n",
       "      <td>NN</td>\n",
       "      <td>NN</td>\n",
       "      <td>zzxcJmcnHO</td>\n",
       "      <td>NOM</td>\n",
       "      <td>N</td>\n",
       "      <td>noPl</td>\n",
       "      <td></td>\n",
       "      <td>123.552353</td>\n",
       "    </tr>\n",
       "    <tr>\n",
       "      <th>42660</th>\n",
       "      <td>Hau</td>\n",
       "      <td>1027792</td>\n",
       "      <td>0</td>\n",
       "      <td>Hau</td>\n",
       "      <td>hau</td>\n",
       "      <td>True</td>\n",
       "      <td>1</td>\n",
       "      <td>NN</td>\n",
       "      <td>NN</td>\n",
       "      <td>002j75YYQ4</td>\n",
       "      <td>NOM</td>\n",
       "      <td>N</td>\n",
       "      <td></td>\n",
       "      <td></td>\n",
       "      <td>80.355438</td>\n",
       "    </tr>\n",
       "    <tr>\n",
       "      <th>42847</th>\n",
       "      <td>Haus</td>\n",
       "      <td>217</td>\n",
       "      <td>0</td>\n",
       "      <td>Haus</td>\n",
       "      <td>haus</td>\n",
       "      <td>True</td>\n",
       "      <td>1</td>\n",
       "      <td>NN</td>\n",
       "      <td>NN</td>\n",
       "      <td>r712UB1M2l</td>\n",
       "      <td>NOM</td>\n",
       "      <td>N</td>\n",
       "      <td></td>\n",
       "      <td></td>\n",
       "      <td>108960.914062</td>\n",
       "    </tr>\n",
       "    <tr>\n",
       "      <th>81474</th>\n",
       "      <td>Riß_2</td>\n",
       "      <td>47220</td>\n",
       "      <td>2</td>\n",
       "      <td>Riß</td>\n",
       "      <td>riß</td>\n",
       "      <td>True</td>\n",
       "      <td>1</td>\n",
       "      <td>NN</td>\n",
       "      <td>NN</td>\n",
       "      <td>QVYvNENI8f</td>\n",
       "      <td>NOM</td>\n",
       "      <td>N</td>\n",
       "      <td></td>\n",
       "      <td></td>\n",
       "      <td>0.000300</td>\n",
       "    </tr>\n",
       "    <tr>\n",
       "      <th>170109</th>\n",
       "      <td>Überreichweite</td>\n",
       "      <td>1118317</td>\n",
       "      <td>0</td>\n",
       "      <td>Überreichweite</td>\n",
       "      <td>überreichweite</td>\n",
       "      <td>True</td>\n",
       "      <td>1</td>\n",
       "      <td>NN</td>\n",
       "      <td>NN</td>\n",
       "      <td>osSrGrNG3w</td>\n",
       "      <td>NOM</td>\n",
       "      <td>N</td>\n",
       "      <td></td>\n",
       "      <td></td>\n",
       "      <td>99.390076</td>\n",
       "    </tr>\n",
       "    <tr>\n",
       "      <th>171207</th>\n",
       "      <td>übriggelassen</td>\n",
       "      <td>1023752</td>\n",
       "      <td>0</td>\n",
       "      <td>übriggelassen</td>\n",
       "      <td>übriggelassen</td>\n",
       "      <td>False</td>\n",
       "      <td>1</td>\n",
       "      <td>ADJA</td>\n",
       "      <td>ADJA</td>\n",
       "      <td>8G70Aa7OqV</td>\n",
       "      <td>ADJ</td>\n",
       "      <td>A</td>\n",
       "      <td>Ptz2</td>\n",
       "      <td>übriglassen</td>\n",
       "      <td>1.738537</td>\n",
       "    </tr>\n",
       "    <tr>\n",
       "      <th>171219</th>\n",
       "      <td>…_M</td>\n",
       "      <td>-1</td>\n",
       "      <td>-1</td>\n",
       "      <td>…</td>\n",
       "      <td>…</td>\n",
       "      <td>False</td>\n",
       "      <td>1</td>\n",
       "      <td>$(</td>\n",
       "      <td>$(</td>\n",
       "      <td>D3iN1Uo95m</td>\n",
       "      <td>SYM</td>\n",
       "      <td>Y</td>\n",
       "      <td>manuell ergänzt</td>\n",
       "      <td></td>\n",
       "      <td>6.718384</td>\n",
       "    </tr>\n",
       "  </tbody>\n",
       "</table>\n",
       "</div>"
      ],
      "text/plain": [
       "                         lemma_id  page_id  page_part  \\\n",
       "0                            24/7   584619          0   \n",
       "1312                         Roth   111157          0   \n",
       "1814                        beide    16788          0   \n",
       "2130                         http   209862          0   \n",
       "2696                          !_M       -1         -1   \n",
       "2701                          *_M       -1         -1   \n",
       "3018                          -se   378398          0   \n",
       "3284                         30er   945804          0   \n",
       "3618                     Aadolf_V       -1         -1   \n",
       "7255                        Ami_6   243606          6   \n",
       "8073    Anmerkung_der_Redaktion_M       -1         -1   \n",
       "13705             Beamtenlaufbahn   441534          0   \n",
       "20547                   Chinakohl   489287          0   \n",
       "42660                         Hau  1027792          0   \n",
       "42847                        Haus      217          0   \n",
       "81474                       Riß_2    47220          2   \n",
       "170109             Überreichweite  1118317          0   \n",
       "171207              übriggelassen  1023752          0   \n",
       "171219                        …_M       -1         -1   \n",
       "\n",
       "                          lemma              lemma_lower  isupper  lemma_len  \\\n",
       "0                          24/7                     24/7     True          1   \n",
       "1312                       Roth                     roth     True          1   \n",
       "1814                      beide                    beide    False          1   \n",
       "2130                       http                     http    False          1   \n",
       "2696                          !                        !    False          1   \n",
       "2701                          *                        *    False          1   \n",
       "3018                        -se                      -se    False          1   \n",
       "3284                       30er                     30er     True          1   \n",
       "3618                     Aadolf                   aadolf     True          1   \n",
       "7255                        Ami                      ami     True          1   \n",
       "8073    Anmerkung der Redaktion  anmerkung der redaktion     True          3   \n",
       "13705           Beamtenlaufbahn          beamtenlaufbahn     True          1   \n",
       "20547                 Chinakohl                chinakohl     True          1   \n",
       "42660                       Hau                      hau     True          1   \n",
       "42847                      Haus                     haus     True          1   \n",
       "81474                       Riß                      riß     True          1   \n",
       "170109           Überreichweite           überreichweite     True          1   \n",
       "171207            übriggelassen            übriggelassen    False          1   \n",
       "171219                        …                        …    False          1   \n",
       "\n",
       "              tag  tag_0       tag_1     tagZ tagZZ  \\\n",
       "0            ADJA   ADJA  RwimB7zH02      ADJ     A   \n",
       "1312           NE     NE  bLisjdRzOK      NAM     N   \n",
       "1814    PIAT CARD   PIAT        CARD      PRO     P   \n",
       "2130        TRUNC  TRUNC  6vseHunsSW        z     Z   \n",
       "2696           $.     $.  uqHcyVFuvv      SYM     Y   \n",
       "2701           $(     $(  sDN7Lp4GtV      SYM     Y   \n",
       "3018    ZFIX PPER   ZFIX        PPER      FIX     Z   \n",
       "3284         ADJA   ADJA  BHlCkq8gis      ADJ     A   \n",
       "3618           NE     NE  7ozp0ZV2wr      NAM     N   \n",
       "7255           NE     NE  w9s2VtSo18      NAM     N   \n",
       "8073        KOMBI  KOMBI  Jr1QH8WVHu  X_kombi     X   \n",
       "13705          NN     NN  w1K4RqxY8G      NOM     N   \n",
       "20547          NN     NN  zzxcJmcnHO      NOM     N   \n",
       "42660          NN     NN  002j75YYQ4      NOM     N   \n",
       "42847          NN     NN  r712UB1M2l      NOM     N   \n",
       "81474          NN     NN  QVYvNENI8f      NOM     N   \n",
       "170109         NN     NN  osSrGrNG3w      NOM     N   \n",
       "171207       ADJA   ADJA  8G70Aa7OqV      ADJ     A   \n",
       "171219         $(     $(  D3iN1Uo95m      SYM     Y   \n",
       "\n",
       "                           member      data_id    lemma_score  \n",
       "0       Abkürzung manuell ergänzt                   14.942436  \n",
       "1312              Person_nachname                  627.031616  \n",
       "1814                      manuell                  309.213531  \n",
       "2130    Abkürzung manuell ergänzt                   19.930384  \n",
       "2696              manuell ergänzt                    6.718384  \n",
       "2701              manuell ergänzt                    6.718384  \n",
       "3018                                                23.231831  \n",
       "3284               noSteig noFlex                  514.831238  \n",
       "3618               Person_vorname                    6.708904  \n",
       "7255               Person_vorname                    2.051993  \n",
       "8073       Wortverbindung manuell                    6.718384  \n",
       "13705                                               87.445618  \n",
       "20547                        noPl                  123.552353  \n",
       "42660                                               80.355438  \n",
       "42847                                           108960.914062  \n",
       "81474                                                0.000300  \n",
       "170109                                              99.390076  \n",
       "171207                       Ptz2  übriglassen       1.738537  \n",
       "171219            manuell ergänzt                    6.718384  "
      ]
     },
     "execution_count": 47,
     "metadata": {},
     "output_type": "execute_result"
    }
   ],
   "source": [
    "pak.sample(wiktionary_lemma)"
   ]
  },
  {
   "cell_type": "markdown",
   "id": "d29853c3-5eab-47aa-9689-4dd540f7e7de",
   "metadata": {},
   "source": [
    "### wiktionary_nolemma\n",
    "* in wiktionary_nolemma sind keine Lemmas, sondern irgendwelche Lexeme, die aber einen eigene section auf der Wiktionary-Seite hatten\n",
    "* nolemma_id ist der Schlüssel zu weiteren Merkmalen dieser Lexeme (siehe wiktionary_nomerkmal)\n",
    "* lemma_id ist der Schlüssel zum Lemma (siehe wiktionary_lemma)"
   ]
  },
  {
   "cell_type": "markdown",
   "id": "211de9fa-35a7-4df0-8090-27b825819215",
   "metadata": {},
   "source": [
    "* Es wird versucht, jedes lemma in wiktionary_lemma zu finden und eine lemma_id zuzuweisen.\n",
    "* Dazu wird zuallererst `lemma_tagZZ` geschrieben, also eine Grobklassifizierung des lemmas."
   ]
  },
  {
   "cell_type": "code",
   "execution_count": 48,
   "id": "df1abb6f-6d23-43c5-a99e-dacbe3ed6b6f",
   "metadata": {
    "execution": {
     "iopub.execute_input": "2023-03-03T07:02:46.452424Z",
     "iopub.status.busy": "2023-03-03T07:02:46.452116Z",
     "iopub.status.idle": "2023-03-03T07:02:46.982188Z",
     "shell.execute_reply": "2023-03-03T07:02:46.981510Z",
     "shell.execute_reply.started": "2023-03-03T07:02:46.452396Z"
    }
   },
   "outputs": [
    {
     "data": {
      "text/html": [
       "<div>\n",
       "<style scoped>\n",
       "    .dataframe tbody tr th:only-of-type {\n",
       "        vertical-align: middle;\n",
       "    }\n",
       "\n",
       "    .dataframe tbody tr th {\n",
       "        vertical-align: top;\n",
       "    }\n",
       "\n",
       "    .dataframe thead th {\n",
       "        text-align: right;\n",
       "    }\n",
       "</style>\n",
       "<table border=\"1\" class=\"dataframe\">\n",
       "  <thead>\n",
       "    <tr style=\"text-align: right;\">\n",
       "      <th></th>\n",
       "      <th>nolemma_id</th>\n",
       "      <th>lex</th>\n",
       "      <th>lemma</th>\n",
       "      <th>lemma_lower</th>\n",
       "      <th>tag</th>\n",
       "      <th>tag_0</th>\n",
       "      <th>tag_1</th>\n",
       "      <th>tagZ</th>\n",
       "      <th>tagZZ</th>\n",
       "      <th>member</th>\n",
       "      <th>data_score</th>\n",
       "    </tr>\n",
       "  </thead>\n",
       "  <tbody>\n",
       "  </tbody>\n",
       "</table>\n",
       "</div>"
      ],
      "text/plain": [
       "Empty DataFrame\n",
       "Columns: [nolemma_id, lex, lemma, lemma_lower, tag, tag_0, tag_1, tagZ, tagZZ, member, data_score]\n",
       "Index: []"
      ]
     },
     "execution_count": 48,
     "metadata": {},
     "output_type": "execute_result"
    }
   ],
   "source": [
    "# suche_debug wiktionary_lemma\n",
    "search_str(wiktionary_nolemma, suche_debug)"
   ]
  },
  {
   "cell_type": "code",
   "execution_count": 49,
   "id": "2b74ffc9-7ea0-4c54-b280-29861dd55838",
   "metadata": {
    "execution": {
     "iopub.execute_input": "2023-03-03T07:02:46.986305Z",
     "iopub.status.busy": "2023-03-03T07:02:46.985954Z",
     "iopub.status.idle": "2023-03-03T07:02:47.878528Z",
     "shell.execute_reply": "2023-03-03T07:02:47.877867Z",
     "shell.execute_reply.started": "2023-03-03T07:02:46.986283Z"
    }
   },
   "outputs": [
    {
     "name": "stdout",
     "output_type": "stream",
     "text": [
      "check_mask:  55 rows\n",
      "Move 55 rows from 667597\n"
     ]
    }
   ],
   "source": [
    "# lex == lemma abtrennen\n",
    "mask = wiktionary_nolemma.lex == wiktionary_nolemma.lemma\n",
    "check_mask(wiktionary_nolemma,mask,55)\n",
    "\n",
    "wiktionary_nolemma, df = pak.move_rows(wiktionary_nolemma,mask,msg=None)\n",
    "#wiktionary_nolemma.loc[mask,'lemma'] = '' # TODO\n",
    "df['lemma'] = ''"
   ]
  },
  {
   "cell_type": "code",
   "execution_count": 50,
   "id": "b55742c8-ea4c-4d67-8eaa-262d455becfd",
   "metadata": {
    "execution": {
     "iopub.execute_input": "2023-03-03T07:02:47.883786Z",
     "iopub.status.busy": "2023-03-03T07:02:47.883421Z",
     "iopub.status.idle": "2023-03-03T07:02:48.138483Z",
     "shell.execute_reply": "2023-03-03T07:02:48.137824Z",
     "shell.execute_reply.started": "2023-03-03T07:02:47.883763Z"
    }
   },
   "outputs": [
    {
     "data": {
      "text/html": [
       "<div>\n",
       "<style scoped>\n",
       "    .dataframe tbody tr th:only-of-type {\n",
       "        vertical-align: middle;\n",
       "    }\n",
       "\n",
       "    .dataframe tbody tr th {\n",
       "        vertical-align: top;\n",
       "    }\n",
       "\n",
       "    .dataframe thead th {\n",
       "        text-align: right;\n",
       "    }\n",
       "</style>\n",
       "<table border=\"1\" class=\"dataframe\">\n",
       "  <thead>\n",
       "    <tr style=\"text-align: right;\">\n",
       "      <th></th>\n",
       "      <th>nolemma_id</th>\n",
       "      <th>lex</th>\n",
       "      <th>lemma</th>\n",
       "      <th>lemma_lower</th>\n",
       "      <th>tag</th>\n",
       "      <th>tag_0</th>\n",
       "      <th>tag_1</th>\n",
       "      <th>tagZ</th>\n",
       "      <th>tagZZ</th>\n",
       "      <th>member</th>\n",
       "      <th>data_score</th>\n",
       "    </tr>\n",
       "  </thead>\n",
       "  <tbody>\n",
       "    <tr>\n",
       "      <th>120</th>\n",
       "      <td>des</td>\n",
       "      <td>des</td>\n",
       "      <td></td>\n",
       "      <td>des</td>\n",
       "      <td>LEX_A</td>\n",
       "      <td>LEX_A</td>\n",
       "      <td>HRmm4TC6bH</td>\n",
       "      <td>&lt;NA&gt;</td>\n",
       "      <td></td>\n",
       "      <td>Deklinierte_Form Artikel</td>\n",
       "      <td>31.915634</td>\n",
       "    </tr>\n",
       "    <tr>\n",
       "      <th>2462</th>\n",
       "      <td>Fachleute</td>\n",
       "      <td>Fachleute</td>\n",
       "      <td></td>\n",
       "      <td>fachleute</td>\n",
       "      <td>LEX_A</td>\n",
       "      <td>LEX_A</td>\n",
       "      <td>jSXRPcnONv</td>\n",
       "      <td>&lt;NA&gt;</td>\n",
       "      <td></td>\n",
       "      <td>Deklinierte_Form Substantiv</td>\n",
       "      <td>63.546085</td>\n",
       "    </tr>\n",
       "    <tr>\n",
       "      <th>37327</th>\n",
       "      <td>zugrunde_liegen_1</td>\n",
       "      <td>zugrunde liegen</td>\n",
       "      <td></td>\n",
       "      <td>zugrunde liegen</td>\n",
       "      <td>LEX_V</td>\n",
       "      <td>LEX_V</td>\n",
       "      <td>N86CrcmCDs</td>\n",
       "      <td>&lt;NA&gt;</td>\n",
       "      <td></td>\n",
       "      <td>Konjugierte_Form Verb Wortverbindung</td>\n",
       "      <td>0.646537</td>\n",
       "    </tr>\n",
       "    <tr>\n",
       "      <th>151334</th>\n",
       "      <td>übergösse_1</td>\n",
       "      <td>übergösse</td>\n",
       "      <td></td>\n",
       "      <td>übergösse</td>\n",
       "      <td>LEX_V</td>\n",
       "      <td>LEX_V</td>\n",
       "      <td>P0r5JZjLwA</td>\n",
       "      <td>&lt;NA&gt;</td>\n",
       "      <td></td>\n",
       "      <td>Konjugierte_Form Verb</td>\n",
       "      <td>0.348641</td>\n",
       "    </tr>\n",
       "    <tr>\n",
       "      <th>249049</th>\n",
       "      <td>Brünste</td>\n",
       "      <td>Brünste</td>\n",
       "      <td></td>\n",
       "      <td>brünste</td>\n",
       "      <td>LEX_A</td>\n",
       "      <td>LEX_A</td>\n",
       "      <td>Fmd43NAAzF</td>\n",
       "      <td>&lt;NA&gt;</td>\n",
       "      <td></td>\n",
       "      <td>Deklinierte_Form</td>\n",
       "      <td>2.425488</td>\n",
       "    </tr>\n",
       "    <tr>\n",
       "      <th>306900</th>\n",
       "      <td>Körpermasse_1</td>\n",
       "      <td>Körpermasse</td>\n",
       "      <td></td>\n",
       "      <td>körpermasse</td>\n",
       "      <td>LEX_A</td>\n",
       "      <td>LEX_A</td>\n",
       "      <td>sAzKBgAuFr</td>\n",
       "      <td>&lt;NA&gt;</td>\n",
       "      <td></td>\n",
       "      <td>Deklinierte_Form</td>\n",
       "      <td>0.002013</td>\n",
       "    </tr>\n",
       "    <tr>\n",
       "      <th>311795</th>\n",
       "      <td>angesprochenen</td>\n",
       "      <td>angesprochenen</td>\n",
       "      <td></td>\n",
       "      <td>angesprochenen</td>\n",
       "      <td>LEX_A</td>\n",
       "      <td>LEX_A</td>\n",
       "      <td>J4ypc2PC6i</td>\n",
       "      <td>&lt;NA&gt;</td>\n",
       "      <td></td>\n",
       "      <td>Deklinierte_Form</td>\n",
       "      <td>8.875794</td>\n",
       "    </tr>\n",
       "    <tr>\n",
       "      <th>329702</th>\n",
       "      <td>Geschosshöhen_1</td>\n",
       "      <td>Geschosshöhen</td>\n",
       "      <td></td>\n",
       "      <td>geschosshöhen</td>\n",
       "      <td>LEX_A</td>\n",
       "      <td>LEX_A</td>\n",
       "      <td>yYaiBBvjD8</td>\n",
       "      <td>&lt;NA&gt;</td>\n",
       "      <td></td>\n",
       "      <td>Deklinierte_Form</td>\n",
       "      <td>0.010897</td>\n",
       "    </tr>\n",
       "    <tr>\n",
       "      <th>370696</th>\n",
       "      <td>Canadiern_1</td>\n",
       "      <td>Canadiern</td>\n",
       "      <td></td>\n",
       "      <td>canadiern</td>\n",
       "      <td>LEX_A</td>\n",
       "      <td>LEX_A</td>\n",
       "      <td>08bf0852Xk</td>\n",
       "      <td>&lt;NA&gt;</td>\n",
       "      <td></td>\n",
       "      <td>Deklinierte_Form</td>\n",
       "      <td>0.002839</td>\n",
       "    </tr>\n",
       "    <tr>\n",
       "      <th>666053</th>\n",
       "      <td>spaltenweise_1</td>\n",
       "      <td>spaltenweise</td>\n",
       "      <td></td>\n",
       "      <td>spaltenweise</td>\n",
       "      <td>LEX_A</td>\n",
       "      <td>LEX_A</td>\n",
       "      <td>SxCjL9OGjQ</td>\n",
       "      <td>&lt;NA&gt;</td>\n",
       "      <td></td>\n",
       "      <td>Deklinierte_Form</td>\n",
       "      <td>0.894090</td>\n",
       "    </tr>\n",
       "  </tbody>\n",
       "</table>\n",
       "</div>"
      ],
      "text/plain": [
       "               nolemma_id              lex lemma      lemma_lower    tag  \\\n",
       "120                   des              des                    des  LEX_A   \n",
       "2462            Fachleute        Fachleute              fachleute  LEX_A   \n",
       "37327   zugrunde_liegen_1  zugrunde liegen        zugrunde liegen  LEX_V   \n",
       "151334        übergösse_1        übergösse              übergösse  LEX_V   \n",
       "249049            Brünste          Brünste                brünste  LEX_A   \n",
       "306900      Körpermasse_1      Körpermasse            körpermasse  LEX_A   \n",
       "311795     angesprochenen   angesprochenen         angesprochenen  LEX_A   \n",
       "329702    Geschosshöhen_1    Geschosshöhen          geschosshöhen  LEX_A   \n",
       "370696        Canadiern_1        Canadiern              canadiern  LEX_A   \n",
       "666053     spaltenweise_1     spaltenweise           spaltenweise  LEX_A   \n",
       "\n",
       "        tag_0       tag_1  tagZ tagZZ                                member  \\\n",
       "120     LEX_A  HRmm4TC6bH  <NA>                    Deklinierte_Form Artikel   \n",
       "2462    LEX_A  jSXRPcnONv  <NA>                 Deklinierte_Form Substantiv   \n",
       "37327   LEX_V  N86CrcmCDs  <NA>        Konjugierte_Form Verb Wortverbindung   \n",
       "151334  LEX_V  P0r5JZjLwA  <NA>                       Konjugierte_Form Verb   \n",
       "249049  LEX_A  Fmd43NAAzF  <NA>                            Deklinierte_Form   \n",
       "306900  LEX_A  sAzKBgAuFr  <NA>                            Deklinierte_Form   \n",
       "311795  LEX_A  J4ypc2PC6i  <NA>                            Deklinierte_Form   \n",
       "329702  LEX_A  yYaiBBvjD8  <NA>                            Deklinierte_Form   \n",
       "370696  LEX_A  08bf0852Xk  <NA>                            Deklinierte_Form   \n",
       "666053  LEX_A  SxCjL9OGjQ  <NA>                            Deklinierte_Form   \n",
       "\n",
       "        data_score  \n",
       "120      31.915634  \n",
       "2462     63.546085  \n",
       "37327     0.646537  \n",
       "151334    0.348641  \n",
       "249049    2.425488  \n",
       "306900    0.002013  \n",
       "311795    8.875794  \n",
       "329702    0.010897  \n",
       "370696    0.002839  \n",
       "666053    0.894090  "
      ]
     },
     "execution_count": 50,
     "metadata": {},
     "output_type": "execute_result"
    }
   ],
   "source": [
    "pak.sample(df)"
   ]
  },
  {
   "cell_type": "code",
   "execution_count": 51,
   "id": "89275702-00df-4d0e-b628-d1a6e7dbe4e2",
   "metadata": {
    "execution": {
     "iopub.execute_input": "2023-03-03T07:02:48.142729Z",
     "iopub.status.busy": "2023-03-03T07:02:48.142378Z",
     "iopub.status.idle": "2023-03-03T07:02:52.169584Z",
     "shell.execute_reply": "2023-03-03T07:02:52.168819Z",
     "shell.execute_reply.started": "2023-03-03T07:02:48.142707Z"
    }
   },
   "outputs": [
    {
     "name": "stdout",
     "output_type": "stream",
     "text": [
      "update_col: col_score data_score applied, 15697 records less!\n",
      "update_col: 13 cells written into existing column\n"
     ]
    }
   ],
   "source": [
    "# lemma von anderen Datensätzen abschreiben\n",
    "df = pak.update_col( df_to = df, \n",
    "                     df_from = wiktionary_nolemma, \n",
    "                     on = ['lex','tag'],\n",
    "                     col = 'lemma',\n",
    "                     col_score = 'data_score'\n",
    "                    )"
   ]
  },
  {
   "cell_type": "code",
   "execution_count": 52,
   "id": "28cbc256-85e9-4d8a-a95f-70ee345768b6",
   "metadata": {
    "execution": {
     "iopub.execute_input": "2023-03-03T07:02:52.170880Z",
     "iopub.status.busy": "2023-03-03T07:02:52.170593Z",
     "iopub.status.idle": "2023-03-03T07:02:52.207379Z",
     "shell.execute_reply": "2023-03-03T07:02:52.206686Z",
     "shell.execute_reply.started": "2023-03-03T07:02:52.170859Z"
    }
   },
   "outputs": [],
   "source": [
    "# manuelle Korrekturen\n",
    "mask = df.lex.isin(['des','dem']) \n",
    "df.loc[mask,'lemma'] = 'der'"
   ]
  },
  {
   "cell_type": "code",
   "execution_count": 53,
   "id": "5b9dd4bd-d9ac-41fe-aea8-a1210d8992d2",
   "metadata": {
    "execution": {
     "iopub.execute_input": "2023-03-03T07:02:52.209157Z",
     "iopub.status.busy": "2023-03-03T07:02:52.208601Z",
     "iopub.status.idle": "2023-03-03T07:02:52.259602Z",
     "shell.execute_reply": "2023-03-03T07:02:52.258519Z",
     "shell.execute_reply.started": "2023-03-03T07:02:52.209131Z"
    }
   },
   "outputs": [],
   "source": [
    "df['lemma_lower'] = df.lemma.str.lower()"
   ]
  },
  {
   "cell_type": "code",
   "execution_count": 54,
   "id": "9146df6f-6932-442e-81bd-9042a64e81ea",
   "metadata": {
    "execution": {
     "iopub.execute_input": "2023-03-03T07:02:52.261568Z",
     "iopub.status.busy": "2023-03-03T07:02:52.261224Z",
     "iopub.status.idle": "2023-03-03T07:02:52.333658Z",
     "shell.execute_reply": "2023-03-03T07:02:52.332391Z",
     "shell.execute_reply.started": "2023-03-03T07:02:52.261536Z"
    }
   },
   "outputs": [
    {
     "data": {
      "text/html": [
       "<div>\n",
       "<style scoped>\n",
       "    .dataframe tbody tr th:only-of-type {\n",
       "        vertical-align: middle;\n",
       "    }\n",
       "\n",
       "    .dataframe tbody tr th {\n",
       "        vertical-align: top;\n",
       "    }\n",
       "\n",
       "    .dataframe thead th {\n",
       "        text-align: right;\n",
       "    }\n",
       "</style>\n",
       "<table border=\"1\" class=\"dataframe\">\n",
       "  <thead>\n",
       "    <tr style=\"text-align: right;\">\n",
       "      <th></th>\n",
       "      <th>nolemma_id</th>\n",
       "      <th>lex</th>\n",
       "      <th>lemma</th>\n",
       "      <th>lemma_lower</th>\n",
       "      <th>tag</th>\n",
       "      <th>tag_0</th>\n",
       "      <th>tag_1</th>\n",
       "      <th>tagZ</th>\n",
       "      <th>tagZZ</th>\n",
       "      <th>member</th>\n",
       "      <th>data_score</th>\n",
       "    </tr>\n",
       "  </thead>\n",
       "  <tbody>\n",
       "  </tbody>\n",
       "</table>\n",
       "</div>"
      ],
      "text/plain": [
       "Empty DataFrame\n",
       "Columns: [nolemma_id, lex, lemma, lemma_lower, tag, tag_0, tag_1, tagZ, tagZZ, member, data_score]\n",
       "Index: []"
      ]
     },
     "execution_count": 54,
     "metadata": {},
     "output_type": "execute_result"
    }
   ],
   "source": [
    "search_str(df,suche_debug)"
   ]
  },
  {
   "cell_type": "code",
   "execution_count": 55,
   "id": "66a66758-71e6-4c27-a1c7-a4fcc403927e",
   "metadata": {
    "execution": {
     "iopub.execute_input": "2023-03-03T07:02:52.335212Z",
     "iopub.status.busy": "2023-03-03T07:02:52.334850Z",
     "iopub.status.idle": "2023-03-03T07:02:52.399165Z",
     "shell.execute_reply": "2023-03-03T07:02:52.398349Z",
     "shell.execute_reply.started": "2023-03-03T07:02:52.335179Z"
    }
   },
   "outputs": [
    {
     "data": {
      "text/html": [
       "<div>\n",
       "<style scoped>\n",
       "    .dataframe tbody tr th:only-of-type {\n",
       "        vertical-align: middle;\n",
       "    }\n",
       "\n",
       "    .dataframe tbody tr th {\n",
       "        vertical-align: top;\n",
       "    }\n",
       "\n",
       "    .dataframe thead th {\n",
       "        text-align: right;\n",
       "    }\n",
       "</style>\n",
       "<table border=\"1\" class=\"dataframe\">\n",
       "  <thead>\n",
       "    <tr style=\"text-align: right;\">\n",
       "      <th></th>\n",
       "      <th>nolemma_id</th>\n",
       "      <th>lex</th>\n",
       "      <th>lemma</th>\n",
       "      <th>lemma_lower</th>\n",
       "      <th>tag</th>\n",
       "      <th>tag_0</th>\n",
       "      <th>tag_1</th>\n",
       "      <th>tagZ</th>\n",
       "      <th>tagZZ</th>\n",
       "      <th>member</th>\n",
       "      <th>data_score</th>\n",
       "    </tr>\n",
       "  </thead>\n",
       "  <tbody>\n",
       "    <tr>\n",
       "      <th>120</th>\n",
       "      <td>des</td>\n",
       "      <td>des</td>\n",
       "      <td>der</td>\n",
       "      <td>der</td>\n",
       "      <td>LEX_A</td>\n",
       "      <td>LEX_A</td>\n",
       "      <td>HRmm4TC6bH</td>\n",
       "      <td>&lt;NA&gt;</td>\n",
       "      <td></td>\n",
       "      <td>Deklinierte_Form Artikel</td>\n",
       "      <td>31.915634</td>\n",
       "    </tr>\n",
       "    <tr>\n",
       "      <th>121</th>\n",
       "      <td>dem</td>\n",
       "      <td>dem</td>\n",
       "      <td>der</td>\n",
       "      <td>der</td>\n",
       "      <td>LEX_A</td>\n",
       "      <td>LEX_A</td>\n",
       "      <td>yQfXZAkTKX</td>\n",
       "      <td>&lt;NA&gt;</td>\n",
       "      <td></td>\n",
       "      <td>Deklinierte_Form Artikel</td>\n",
       "      <td>38.961239</td>\n",
       "    </tr>\n",
       "    <tr>\n",
       "      <th>122</th>\n",
       "      <td>eine</td>\n",
       "      <td>eine</td>\n",
       "      <td>ein</td>\n",
       "      <td>ein</td>\n",
       "      <td>LEX_A</td>\n",
       "      <td>LEX_A</td>\n",
       "      <td>Vi2WgfklBf</td>\n",
       "      <td>&lt;NA&gt;</td>\n",
       "      <td></td>\n",
       "      <td>Deklinierte_Form Artikel</td>\n",
       "      <td>36.811817</td>\n",
       "    </tr>\n",
       "    <tr>\n",
       "      <th>126</th>\n",
       "      <td>einer</td>\n",
       "      <td>einer</td>\n",
       "      <td>ein</td>\n",
       "      <td>ein</td>\n",
       "      <td>LEX_A</td>\n",
       "      <td>LEX_A</td>\n",
       "      <td>jtenrcHzBF</td>\n",
       "      <td>&lt;NA&gt;</td>\n",
       "      <td></td>\n",
       "      <td>Deklinierte_Form Artikel</td>\n",
       "      <td>46.378887</td>\n",
       "    </tr>\n",
       "    <tr>\n",
       "      <th>129</th>\n",
       "      <td>einem</td>\n",
       "      <td>einem</td>\n",
       "      <td>ein</td>\n",
       "      <td>ein</td>\n",
       "      <td>LEX_A</td>\n",
       "      <td>LEX_A</td>\n",
       "      <td>J3RNe3td7b</td>\n",
       "      <td>&lt;NA&gt;</td>\n",
       "      <td></td>\n",
       "      <td>Deklinierte_Form Artikel</td>\n",
       "      <td>31.327354</td>\n",
       "    </tr>\n",
       "    <tr>\n",
       "      <th>10685</th>\n",
       "      <td>heißet_1</td>\n",
       "      <td>heißet</td>\n",
       "      <td>heißen</td>\n",
       "      <td>heißen</td>\n",
       "      <td>LEX_V</td>\n",
       "      <td>LEX_V</td>\n",
       "      <td>bXqrYefUYw</td>\n",
       "      <td>&lt;NA&gt;</td>\n",
       "      <td></td>\n",
       "      <td>Konjugierte_Form Verb</td>\n",
       "      <td>0.847209</td>\n",
       "    </tr>\n",
       "    <tr>\n",
       "      <th>46552</th>\n",
       "      <td>Dummies_1</td>\n",
       "      <td>Dummies</td>\n",
       "      <td>Dummie</td>\n",
       "      <td>dummie</td>\n",
       "      <td>LEX_A</td>\n",
       "      <td>LEX_A</td>\n",
       "      <td>4zXtQDuUjz</td>\n",
       "      <td>&lt;NA&gt;</td>\n",
       "      <td></td>\n",
       "      <td>Deklinierte_Form</td>\n",
       "      <td>0.006042</td>\n",
       "    </tr>\n",
       "    <tr>\n",
       "      <th>131057</th>\n",
       "      <td>Thors_1</td>\n",
       "      <td>Thors</td>\n",
       "      <td>Thor</td>\n",
       "      <td>thor</td>\n",
       "      <td>LEX_A</td>\n",
       "      <td>LEX_A</td>\n",
       "      <td>IUY1JanTev</td>\n",
       "      <td>&lt;NA&gt;</td>\n",
       "      <td></td>\n",
       "      <td>Deklinierte_Form</td>\n",
       "      <td>0.002839</td>\n",
       "    </tr>\n",
       "    <tr>\n",
       "      <th>151334</th>\n",
       "      <td>übergösse_1</td>\n",
       "      <td>übergösse</td>\n",
       "      <td>übergießen</td>\n",
       "      <td>übergießen</td>\n",
       "      <td>LEX_V</td>\n",
       "      <td>LEX_V</td>\n",
       "      <td>P0r5JZjLwA</td>\n",
       "      <td>&lt;NA&gt;</td>\n",
       "      <td></td>\n",
       "      <td>Konjugierte_Form Verb</td>\n",
       "      <td>0.348641</td>\n",
       "    </tr>\n",
       "    <tr>\n",
       "      <th>306910</th>\n",
       "      <td>Körpermassen_1</td>\n",
       "      <td>Körpermassen</td>\n",
       "      <td>Körpermasse</td>\n",
       "      <td>körpermasse</td>\n",
       "      <td>LEX_A</td>\n",
       "      <td>LEX_A</td>\n",
       "      <td>lzfqTfYR1O</td>\n",
       "      <td>&lt;NA&gt;</td>\n",
       "      <td></td>\n",
       "      <td>Deklinierte_Form</td>\n",
       "      <td>0.002013</td>\n",
       "    </tr>\n",
       "    <tr>\n",
       "      <th>327506</th>\n",
       "      <td>düstrer</td>\n",
       "      <td>düstrer</td>\n",
       "      <td>düster</td>\n",
       "      <td>düster</td>\n",
       "      <td>LEX_A</td>\n",
       "      <td>LEX_A</td>\n",
       "      <td>Dy5h9nRucX</td>\n",
       "      <td>&lt;NA&gt;</td>\n",
       "      <td></td>\n",
       "      <td>Deklinierte_Form</td>\n",
       "      <td>5.836568</td>\n",
       "    </tr>\n",
       "    <tr>\n",
       "      <th>329702</th>\n",
       "      <td>Geschosshöhen_1</td>\n",
       "      <td>Geschosshöhen</td>\n",
       "      <td>Geschosshöhe</td>\n",
       "      <td>geschosshöhe</td>\n",
       "      <td>LEX_A</td>\n",
       "      <td>LEX_A</td>\n",
       "      <td>yYaiBBvjD8</td>\n",
       "      <td>&lt;NA&gt;</td>\n",
       "      <td></td>\n",
       "      <td>Deklinierte_Form</td>\n",
       "      <td>0.010897</td>\n",
       "    </tr>\n",
       "    <tr>\n",
       "      <th>370696</th>\n",
       "      <td>Canadiern_1</td>\n",
       "      <td>Canadiern</td>\n",
       "      <td>Canadier</td>\n",
       "      <td>canadier</td>\n",
       "      <td>LEX_A</td>\n",
       "      <td>LEX_A</td>\n",
       "      <td>08bf0852Xk</td>\n",
       "      <td>&lt;NA&gt;</td>\n",
       "      <td></td>\n",
       "      <td>Deklinierte_Form</td>\n",
       "      <td>0.002839</td>\n",
       "    </tr>\n",
       "    <tr>\n",
       "      <th>370698</th>\n",
       "      <td>Canadiers_1</td>\n",
       "      <td>Canadiers</td>\n",
       "      <td>Canadier</td>\n",
       "      <td>canadier</td>\n",
       "      <td>LEX_A</td>\n",
       "      <td>LEX_A</td>\n",
       "      <td>q2gqz12nMV</td>\n",
       "      <td>&lt;NA&gt;</td>\n",
       "      <td></td>\n",
       "      <td>Deklinierte_Form</td>\n",
       "      <td>0.002839</td>\n",
       "    </tr>\n",
       "    <tr>\n",
       "      <th>524759</th>\n",
       "      <td>durchfegt_1</td>\n",
       "      <td>durchfegt</td>\n",
       "      <td>durchfegen</td>\n",
       "      <td>durchfegen</td>\n",
       "      <td>LEX_V</td>\n",
       "      <td>LEX_V</td>\n",
       "      <td>lLr9qblbI1</td>\n",
       "      <td>&lt;NA&gt;</td>\n",
       "      <td></td>\n",
       "      <td>Konjugierte_Form Verb</td>\n",
       "      <td>0.017922</td>\n",
       "    </tr>\n",
       "  </tbody>\n",
       "</table>\n",
       "</div>"
      ],
      "text/plain": [
       "             nolemma_id            lex         lemma   lemma_lower    tag  \\\n",
       "120                 des            des           der           der  LEX_A   \n",
       "121                 dem            dem           der           der  LEX_A   \n",
       "122                eine           eine           ein           ein  LEX_A   \n",
       "126               einer          einer           ein           ein  LEX_A   \n",
       "129               einem          einem           ein           ein  LEX_A   \n",
       "10685          heißet_1         heißet        heißen        heißen  LEX_V   \n",
       "46552         Dummies_1        Dummies        Dummie        dummie  LEX_A   \n",
       "131057          Thors_1          Thors          Thor          thor  LEX_A   \n",
       "151334      übergösse_1      übergösse    übergießen    übergießen  LEX_V   \n",
       "306910   Körpermassen_1   Körpermassen   Körpermasse   körpermasse  LEX_A   \n",
       "327506          düstrer        düstrer        düster        düster  LEX_A   \n",
       "329702  Geschosshöhen_1  Geschosshöhen  Geschosshöhe  geschosshöhe  LEX_A   \n",
       "370696      Canadiern_1      Canadiern      Canadier      canadier  LEX_A   \n",
       "370698      Canadiers_1      Canadiers      Canadier      canadier  LEX_A   \n",
       "524759      durchfegt_1      durchfegt    durchfegen    durchfegen  LEX_V   \n",
       "\n",
       "        tag_0       tag_1  tagZ tagZZ                    member  data_score  \n",
       "120     LEX_A  HRmm4TC6bH  <NA>        Deklinierte_Form Artikel   31.915634  \n",
       "121     LEX_A  yQfXZAkTKX  <NA>        Deklinierte_Form Artikel   38.961239  \n",
       "122     LEX_A  Vi2WgfklBf  <NA>        Deklinierte_Form Artikel   36.811817  \n",
       "126     LEX_A  jtenrcHzBF  <NA>        Deklinierte_Form Artikel   46.378887  \n",
       "129     LEX_A  J3RNe3td7b  <NA>        Deklinierte_Form Artikel   31.327354  \n",
       "10685   LEX_V  bXqrYefUYw  <NA>           Konjugierte_Form Verb    0.847209  \n",
       "46552   LEX_A  4zXtQDuUjz  <NA>                Deklinierte_Form    0.006042  \n",
       "131057  LEX_A  IUY1JanTev  <NA>                Deklinierte_Form    0.002839  \n",
       "151334  LEX_V  P0r5JZjLwA  <NA>           Konjugierte_Form Verb    0.348641  \n",
       "306910  LEX_A  lzfqTfYR1O  <NA>                Deklinierte_Form    0.002013  \n",
       "327506  LEX_A  Dy5h9nRucX  <NA>                Deklinierte_Form    5.836568  \n",
       "329702  LEX_A  yYaiBBvjD8  <NA>                Deklinierte_Form    0.010897  \n",
       "370696  LEX_A  08bf0852Xk  <NA>                Deklinierte_Form    0.002839  \n",
       "370698  LEX_A  q2gqz12nMV  <NA>                Deklinierte_Form    0.002839  \n",
       "524759  LEX_V  lLr9qblbI1  <NA>           Konjugierte_Form Verb    0.017922  "
      ]
     },
     "execution_count": 55,
     "metadata": {},
     "output_type": "execute_result"
    }
   ],
   "source": [
    "mask = df.lemma != ''\n",
    "df[mask]"
   ]
  },
  {
   "cell_type": "code",
   "execution_count": 56,
   "id": "57c0a282-4c40-4431-b77c-4d586066e57b",
   "metadata": {
    "execution": {
     "iopub.execute_input": "2023-03-03T07:02:52.403647Z",
     "iopub.status.busy": "2023-03-03T07:02:52.403049Z",
     "iopub.status.idle": "2023-03-03T07:02:52.660925Z",
     "shell.execute_reply": "2023-03-03T07:02:52.660271Z",
     "shell.execute_reply.started": "2023-03-03T07:02:52.403615Z"
    },
    "tags": []
   },
   "outputs": [
    {
     "data": {
      "text/html": [
       "<div>\n",
       "<style scoped>\n",
       "    .dataframe tbody tr th:only-of-type {\n",
       "        vertical-align: middle;\n",
       "    }\n",
       "\n",
       "    .dataframe tbody tr th {\n",
       "        vertical-align: top;\n",
       "    }\n",
       "\n",
       "    .dataframe thead th {\n",
       "        text-align: right;\n",
       "    }\n",
       "</style>\n",
       "<table border=\"1\" class=\"dataframe\">\n",
       "  <thead>\n",
       "    <tr style=\"text-align: right;\">\n",
       "      <th></th>\n",
       "      <th>nolemma_id</th>\n",
       "      <th>lex</th>\n",
       "      <th>lemma</th>\n",
       "      <th>lemma_lower</th>\n",
       "      <th>tag</th>\n",
       "      <th>tag_0</th>\n",
       "      <th>tag_1</th>\n",
       "      <th>tagZ</th>\n",
       "      <th>tagZZ</th>\n",
       "      <th>member</th>\n",
       "      <th>data_score</th>\n",
       "    </tr>\n",
       "  </thead>\n",
       "  <tbody>\n",
       "    <tr>\n",
       "      <th>284</th>\n",
       "      <td>safe_1</td>\n",
       "      <td>safe</td>\n",
       "      <td></td>\n",
       "      <td></td>\n",
       "      <td>LEX_A</td>\n",
       "      <td>LEX_A</td>\n",
       "      <td>AfBiJLND7D</td>\n",
       "      <td>&lt;NA&gt;</td>\n",
       "      <td></td>\n",
       "      <td>Deklinierte_Form</td>\n",
       "      <td>0.999218</td>\n",
       "    </tr>\n",
       "    <tr>\n",
       "      <th>2462</th>\n",
       "      <td>Fachleute</td>\n",
       "      <td>Fachleute</td>\n",
       "      <td></td>\n",
       "      <td></td>\n",
       "      <td>LEX_A</td>\n",
       "      <td>LEX_A</td>\n",
       "      <td>jSXRPcnONv</td>\n",
       "      <td>&lt;NA&gt;</td>\n",
       "      <td></td>\n",
       "      <td>Deklinierte_Form Substantiv</td>\n",
       "      <td>63.546085</td>\n",
       "    </tr>\n",
       "    <tr>\n",
       "      <th>37327</th>\n",
       "      <td>zugrunde_liegen_1</td>\n",
       "      <td>zugrunde liegen</td>\n",
       "      <td></td>\n",
       "      <td></td>\n",
       "      <td>LEX_V</td>\n",
       "      <td>LEX_V</td>\n",
       "      <td>N86CrcmCDs</td>\n",
       "      <td>&lt;NA&gt;</td>\n",
       "      <td></td>\n",
       "      <td>Konjugierte_Form Verb Wortverbindung</td>\n",
       "      <td>0.646537</td>\n",
       "    </tr>\n",
       "    <tr>\n",
       "      <th>105447</th>\n",
       "      <td>Läufern</td>\n",
       "      <td>Läufern</td>\n",
       "      <td></td>\n",
       "      <td></td>\n",
       "      <td>LEX_A</td>\n",
       "      <td>LEX_A</td>\n",
       "      <td>y3i25CFZva</td>\n",
       "      <td>&lt;NA&gt;</td>\n",
       "      <td></td>\n",
       "      <td>Deklinierte_Form</td>\n",
       "      <td>1.574248</td>\n",
       "    </tr>\n",
       "    <tr>\n",
       "      <th>187454</th>\n",
       "      <td>russest_1</td>\n",
       "      <td>russest</td>\n",
       "      <td></td>\n",
       "      <td></td>\n",
       "      <td>LEX_V</td>\n",
       "      <td>LEX_V</td>\n",
       "      <td>ZUMq9XiPvt</td>\n",
       "      <td>&lt;NA&gt;</td>\n",
       "      <td></td>\n",
       "      <td>Konjugierte_Form Verb</td>\n",
       "      <td>0.008314</td>\n",
       "    </tr>\n",
       "    <tr>\n",
       "      <th>249049</th>\n",
       "      <td>Brünste</td>\n",
       "      <td>Brünste</td>\n",
       "      <td></td>\n",
       "      <td></td>\n",
       "      <td>LEX_A</td>\n",
       "      <td>LEX_A</td>\n",
       "      <td>Fmd43NAAzF</td>\n",
       "      <td>&lt;NA&gt;</td>\n",
       "      <td></td>\n",
       "      <td>Deklinierte_Form</td>\n",
       "      <td>2.425488</td>\n",
       "    </tr>\n",
       "    <tr>\n",
       "      <th>306900</th>\n",
       "      <td>Körpermasse_1</td>\n",
       "      <td>Körpermasse</td>\n",
       "      <td></td>\n",
       "      <td></td>\n",
       "      <td>LEX_A</td>\n",
       "      <td>LEX_A</td>\n",
       "      <td>sAzKBgAuFr</td>\n",
       "      <td>&lt;NA&gt;</td>\n",
       "      <td></td>\n",
       "      <td>Deklinierte_Form</td>\n",
       "      <td>0.002013</td>\n",
       "    </tr>\n",
       "    <tr>\n",
       "      <th>376373</th>\n",
       "      <td>verrussenden_1</td>\n",
       "      <td>verrussenden</td>\n",
       "      <td></td>\n",
       "      <td></td>\n",
       "      <td>LEX_A</td>\n",
       "      <td>LEX_A</td>\n",
       "      <td>2SNCUcK3fa</td>\n",
       "      <td>&lt;NA&gt;</td>\n",
       "      <td></td>\n",
       "      <td>Deklinierte_Form</td>\n",
       "      <td>0.007488</td>\n",
       "    </tr>\n",
       "    <tr>\n",
       "      <th>666053</th>\n",
       "      <td>spaltenweise_1</td>\n",
       "      <td>spaltenweise</td>\n",
       "      <td></td>\n",
       "      <td></td>\n",
       "      <td>LEX_A</td>\n",
       "      <td>LEX_A</td>\n",
       "      <td>SxCjL9OGjQ</td>\n",
       "      <td>&lt;NA&gt;</td>\n",
       "      <td></td>\n",
       "      <td>Deklinierte_Form</td>\n",
       "      <td>0.894090</td>\n",
       "    </tr>\n",
       "  </tbody>\n",
       "</table>\n",
       "</div>"
      ],
      "text/plain": [
       "               nolemma_id              lex lemma lemma_lower    tag  tag_0  \\\n",
       "284                safe_1             safe                    LEX_A  LEX_A   \n",
       "2462            Fachleute        Fachleute                    LEX_A  LEX_A   \n",
       "37327   zugrunde_liegen_1  zugrunde liegen                    LEX_V  LEX_V   \n",
       "105447            Läufern          Läufern                    LEX_A  LEX_A   \n",
       "187454          russest_1          russest                    LEX_V  LEX_V   \n",
       "249049            Brünste          Brünste                    LEX_A  LEX_A   \n",
       "306900      Körpermasse_1      Körpermasse                    LEX_A  LEX_A   \n",
       "376373     verrussenden_1     verrussenden                    LEX_A  LEX_A   \n",
       "666053     spaltenweise_1     spaltenweise                    LEX_A  LEX_A   \n",
       "\n",
       "             tag_1  tagZ tagZZ                                member  \\\n",
       "284     AfBiJLND7D  <NA>                            Deklinierte_Form   \n",
       "2462    jSXRPcnONv  <NA>                 Deklinierte_Form Substantiv   \n",
       "37327   N86CrcmCDs  <NA>        Konjugierte_Form Verb Wortverbindung   \n",
       "105447  y3i25CFZva  <NA>                            Deklinierte_Form   \n",
       "187454  ZUMq9XiPvt  <NA>                       Konjugierte_Form Verb   \n",
       "249049  Fmd43NAAzF  <NA>                            Deklinierte_Form   \n",
       "306900  sAzKBgAuFr  <NA>                            Deklinierte_Form   \n",
       "376373  2SNCUcK3fa  <NA>                            Deklinierte_Form   \n",
       "666053  SxCjL9OGjQ  <NA>                            Deklinierte_Form   \n",
       "\n",
       "        data_score  \n",
       "284       0.999218  \n",
       "2462     63.546085  \n",
       "37327     0.646537  \n",
       "105447    1.574248  \n",
       "187454    0.008314  \n",
       "249049    2.425488  \n",
       "306900    0.002013  \n",
       "376373    0.007488  \n",
       "666053    0.894090  "
      ]
     },
     "execution_count": 56,
     "metadata": {},
     "output_type": "execute_result"
    }
   ],
   "source": [
    "mask = df.lemma == ''\n",
    "pak.sample(df[mask])"
   ]
  },
  {
   "cell_type": "code",
   "execution_count": 57,
   "id": "1c916bd0-c48d-476f-ac1d-b3f792009b6d",
   "metadata": {
    "execution": {
     "iopub.execute_input": "2023-03-03T07:02:52.664989Z",
     "iopub.status.busy": "2023-03-03T07:02:52.664644Z",
     "iopub.status.idle": "2023-03-03T07:02:53.046402Z",
     "shell.execute_reply": "2023-03-03T07:02:53.045497Z",
     "shell.execute_reply.started": "2023-03-03T07:02:52.664967Z"
    }
   },
   "outputs": [
    {
     "name": "stdout",
     "output_type": "stream",
     "text": [
      "check_mask:  15 rows\n",
      "15 rows added, now a total of 667557\n"
     ]
    }
   ],
   "source": [
    "# wieder anfügen\n",
    "mask = df.lemma != ''\n",
    "check_mask(df,mask,15)\n",
    "wiktionary_nolemma = pak.add_rows(wiktionary_nolemma,df[mask])"
   ]
  },
  {
   "cell_type": "code",
   "execution_count": 58,
   "id": "d80dd616-3186-485f-9b43-35ba5bc40683",
   "metadata": {
    "execution": {
     "iopub.execute_input": "2023-03-03T07:02:53.052056Z",
     "iopub.status.busy": "2023-03-03T07:02:53.049900Z",
     "iopub.status.idle": "2023-03-03T07:02:53.557282Z",
     "shell.execute_reply": "2023-03-03T07:02:53.556658Z",
     "shell.execute_reply.started": "2023-03-03T07:02:53.052020Z"
    }
   },
   "outputs": [
    {
     "data": {
      "text/html": [
       "<div>\n",
       "<style scoped>\n",
       "    .dataframe tbody tr th:only-of-type {\n",
       "        vertical-align: middle;\n",
       "    }\n",
       "\n",
       "    .dataframe tbody tr th {\n",
       "        vertical-align: top;\n",
       "    }\n",
       "\n",
       "    .dataframe thead th {\n",
       "        text-align: right;\n",
       "    }\n",
       "</style>\n",
       "<table border=\"1\" class=\"dataframe\">\n",
       "  <thead>\n",
       "    <tr style=\"text-align: right;\">\n",
       "      <th></th>\n",
       "      <th>nolemma_id</th>\n",
       "      <th>lex</th>\n",
       "      <th>lemma</th>\n",
       "      <th>lemma_lower</th>\n",
       "      <th>tag</th>\n",
       "      <th>tag_0</th>\n",
       "      <th>tag_1</th>\n",
       "      <th>tagZ</th>\n",
       "      <th>tagZZ</th>\n",
       "      <th>member</th>\n",
       "      <th>data_score</th>\n",
       "    </tr>\n",
       "  </thead>\n",
       "  <tbody>\n",
       "  </tbody>\n",
       "</table>\n",
       "</div>"
      ],
      "text/plain": [
       "Empty DataFrame\n",
       "Columns: [nolemma_id, lex, lemma, lemma_lower, tag, tag_0, tag_1, tagZ, tagZZ, member, data_score]\n",
       "Index: []"
      ]
     },
     "execution_count": 58,
     "metadata": {},
     "output_type": "execute_result"
    }
   ],
   "source": [
    "# suche_debug \n",
    "search_str(wiktionary_nolemma, suche_debug)"
   ]
  },
  {
   "cell_type": "code",
   "execution_count": 59,
   "id": "754b697f-fd3d-4dc6-902d-2b76c01e2451",
   "metadata": {
    "execution": {
     "iopub.execute_input": "2023-03-03T07:02:53.562608Z",
     "iopub.status.busy": "2023-03-03T07:02:53.560415Z",
     "iopub.status.idle": "2023-03-03T07:02:53.617996Z",
     "shell.execute_reply": "2023-03-03T07:02:53.617319Z",
     "shell.execute_reply.started": "2023-03-03T07:02:53.562571Z"
    }
   },
   "outputs": [],
   "source": [
    "# lemma_tagZZ\n",
    "wiktionary_nolemma['lemma_tagZZ'] = wiktionary_nolemma.tagZZ\n",
    "wiktionary_nolemma = pak.move_cols(wiktionary_nolemma,'lemma_tagZZ','lemma_lower')"
   ]
  },
  {
   "cell_type": "code",
   "execution_count": 60,
   "id": "092f0d10-36d2-4221-a74e-6eef1bb2b34e",
   "metadata": {
    "execution": {
     "iopub.execute_input": "2023-03-03T07:02:53.624074Z",
     "iopub.status.busy": "2023-03-03T07:02:53.621679Z",
     "iopub.status.idle": "2023-03-03T07:02:54.792848Z",
     "shell.execute_reply": "2023-03-03T07:02:54.791911Z",
     "shell.execute_reply.started": "2023-03-03T07:02:53.624037Z"
    }
   },
   "outputs": [
    {
     "name": "stdout",
     "output_type": "stream",
     "text": [
      "check_mask:  184085 rows\n"
     ]
    }
   ],
   "source": [
    "# lemma_tagZZ = 'N' schreiben \n",
    "mask1 =  wiktionary_nolemma.tag.isin(['LEX_A','NN','NE'])\n",
    "mask2a = wiktionary_nolemma.member.str.contains('Deklinierte_Form')\n",
    "mask2b = wiktionary_nolemma.member.str.contains('Substantiv')\n",
    "mask2c = wiktionary_nolemma.member.str.contains('adjektivische_Deklination')\n",
    "mask3 =  wiktionary_nolemma.lemma.str[0].str.isupper()\n",
    "mask4 =  wiktionary_nolemma.lemma_tagZZ == ''\n",
    "mask = mask1  &  (mask2a | mask2b | mask2c)  &  mask3  &  mask4\n",
    "check_mask(wiktionary_nolemma,mask, 184721)\n",
    "\n",
    "#wiktionary_nolemma[mask] \n",
    "wiktionary_nolemma.loc[mask,'lemma_tagZZ'] = 'N'"
   ]
  },
  {
   "cell_type": "code",
   "execution_count": 61,
   "id": "add255a2-10e4-4f41-8560-712dcba99506",
   "metadata": {
    "execution": {
     "iopub.execute_input": "2023-03-03T07:02:54.796815Z",
     "iopub.status.busy": "2023-03-03T07:02:54.796451Z",
     "iopub.status.idle": "2023-03-03T07:02:56.402051Z",
     "shell.execute_reply": "2023-03-03T07:02:56.401005Z",
     "shell.execute_reply.started": "2023-03-03T07:02:54.796789Z"
    }
   },
   "outputs": [
    {
     "name": "stdout",
     "output_type": "stream",
     "text": [
      "check_mask:  214803 rows\n"
     ]
    }
   ],
   "source": [
    "# lemma_tagZZ = 'V' schreiben\n",
    "mask1 =  wiktionary_nolemma.tag == 'LEX_V'\n",
    "mask2a = wiktionary_nolemma.member.str.contains('Verb') \n",
    "mask2b = wiktionary_nolemma.member.str.contains('Konjugierte_Form')\n",
    "mask2c = wiktionary_nolemma.member.str.contains('Erweiterter_Infinitiv') \n",
    "mask3a = wiktionary_nolemma.lemma.str[0].str.islower()\n",
    "mask3b = wiktionary_nolemma.lemma.str.contains(' ')\n",
    "mask4 =  wiktionary_nolemma.lemma_tagZZ == ''\n",
    "mask5 =  wiktionary_nolemma.lemma.str.endswith(verbendungen) # definiert in Steuertabellen\n",
    "mask = mask1  &  (mask2a | mask2b | mask2c)  &  (mask3a | mask3b)  &  mask4  &  mask5\n",
    "check_mask(wiktionary_nolemma,mask, 214803)\n",
    "\n",
    "#wiktionary_nolemma[mask] \n",
    "wiktionary_nolemma.loc[mask,'lemma_tagZZ'] = 'V'"
   ]
  },
  {
   "cell_type": "code",
   "execution_count": 62,
   "id": "e3eaf9de-7517-46c6-bc39-e413f9051258",
   "metadata": {
    "execution": {
     "iopub.execute_input": "2023-03-03T07:02:56.403557Z",
     "iopub.status.busy": "2023-03-03T07:02:56.403247Z",
     "iopub.status.idle": "2023-03-03T07:02:57.430387Z",
     "shell.execute_reply": "2023-03-03T07:02:57.429713Z",
     "shell.execute_reply.started": "2023-03-03T07:02:56.403527Z"
    }
   },
   "outputs": [
    {
     "name": "stdout",
     "output_type": "stream",
     "text": [
      "check_mask:  16480 rows\n"
     ]
    }
   ],
   "source": [
    "# lemma_tagZZ = 'V' schreiben\n",
    "mask1 =  wiktionary_nolemma.tag == 'LEX_A'\n",
    "mask2 =  wiktionary_nolemma.member.str.contains('Dekliniertes_Gerundivum')\n",
    "mask3a = wiktionary_nolemma.lemma.str[0].str.islower()\n",
    "mask3b = wiktionary_nolemma.lemma.str.contains(' ')\n",
    "mask4 =  wiktionary_nolemma.lemma_tagZZ == ''\n",
    "mask5 =  wiktionary_nolemma.lemma.str.endswith(verbendungen) # definiert in Steuertabellen\n",
    "mask = mask1  &  mask2  &  (mask3a | mask3b)  &  mask4  &  mask5\n",
    "check_mask(wiktionary_nolemma,mask, 16480)\n",
    "\n",
    "#wiktionary_nolemma[mask] \n",
    "wiktionary_nolemma.loc[mask,'lemma_tagZZ'] = 'V'"
   ]
  },
  {
   "cell_type": "code",
   "execution_count": 63,
   "id": "344a8cb4-d6d1-4280-8121-5cb035a7881e",
   "metadata": {
    "execution": {
     "iopub.execute_input": "2023-03-03T07:02:57.431627Z",
     "iopub.status.busy": "2023-03-03T07:02:57.431378Z",
     "iopub.status.idle": "2023-03-03T07:02:59.040047Z",
     "shell.execute_reply": "2023-03-03T07:02:59.039310Z",
     "shell.execute_reply.started": "2023-03-03T07:02:57.431607Z"
    }
   },
   "outputs": [
    {
     "name": "stdout",
     "output_type": "stream",
     "text": [
      "check_mask:  251284 rows\n"
     ]
    }
   ],
   "source": [
    "# lemma_tagZZ = 'A' schreiben\n",
    "mask1 =  wiktionary_nolemma.tag == 'LEX_A'\n",
    "mask2a = wiktionary_nolemma.member.str.contains('Deklinierte_Form')  &  ~wiktionary_nolemma.member.str.contains('Artikel')  \n",
    "mask2b = wiktionary_nolemma.member.str.contains('Adjektiv')\n",
    "mask2c = wiktionary_nolemma.member.str.contains('Komparativ')\n",
    "mask2d = wiktionary_nolemma.member.str.contains('Superlativ')\n",
    "mask3 =  wiktionary_nolemma.lemma.str[0].str.islower()\n",
    "mask4 =  wiktionary_nolemma.lemma_tagZZ == ''\n",
    "mask = mask1  &  (mask2a | mask2b | mask2c | mask2d)  &  mask3  &  mask4 \n",
    "check_mask(wiktionary_nolemma,mask,252449)\n",
    "\n",
    "#wiktionary_nolemma[mask] \n",
    "wiktionary_nolemma.loc[mask,'lemma_tagZZ'] = 'A'"
   ]
  },
  {
   "cell_type": "code",
   "execution_count": 64,
   "id": "27ac9d00-c3f7-4949-9b09-8808a0fd9f17",
   "metadata": {
    "execution": {
     "iopub.execute_input": "2023-03-03T07:02:59.043938Z",
     "iopub.status.busy": "2023-03-03T07:02:59.043442Z",
     "iopub.status.idle": "2023-03-03T07:02:59.551874Z",
     "shell.execute_reply": "2023-03-03T07:02:59.551140Z",
     "shell.execute_reply.started": "2023-03-03T07:02:59.043913Z"
    }
   },
   "outputs": [
    {
     "data": {
      "text/html": [
       "<div>\n",
       "<style scoped>\n",
       "    .dataframe tbody tr th:only-of-type {\n",
       "        vertical-align: middle;\n",
       "    }\n",
       "\n",
       "    .dataframe tbody tr th {\n",
       "        vertical-align: top;\n",
       "    }\n",
       "\n",
       "    .dataframe thead th {\n",
       "        text-align: right;\n",
       "    }\n",
       "</style>\n",
       "<table border=\"1\" class=\"dataframe\">\n",
       "  <thead>\n",
       "    <tr style=\"text-align: right;\">\n",
       "      <th></th>\n",
       "      <th>nolemma_id</th>\n",
       "      <th>lex</th>\n",
       "      <th>lemma</th>\n",
       "      <th>lemma_lower</th>\n",
       "      <th>lemma_tagZZ</th>\n",
       "      <th>tag</th>\n",
       "      <th>tag_0</th>\n",
       "      <th>tag_1</th>\n",
       "      <th>tagZ</th>\n",
       "      <th>tagZZ</th>\n",
       "      <th>member</th>\n",
       "      <th>data_score</th>\n",
       "    </tr>\n",
       "  </thead>\n",
       "  <tbody>\n",
       "  </tbody>\n",
       "</table>\n",
       "</div>"
      ],
      "text/plain": [
       "Empty DataFrame\n",
       "Columns: [nolemma_id, lex, lemma, lemma_lower, lemma_tagZZ, tag, tag_0, tag_1, tagZ, tagZZ, member, data_score]\n",
       "Index: []"
      ]
     },
     "execution_count": 64,
     "metadata": {},
     "output_type": "execute_result"
    }
   ],
   "source": [
    "# suche_debug \n",
    "search_str(wiktionary_nolemma, suche_debug)"
   ]
  },
  {
   "cell_type": "code",
   "execution_count": 65,
   "id": "e4cd2073-39b7-4f91-9ead-f3a3310c9a23",
   "metadata": {
    "execution": {
     "iopub.execute_input": "2023-03-03T07:02:59.554538Z",
     "iopub.status.busy": "2023-03-03T07:02:59.554235Z",
     "iopub.status.idle": "2023-03-03T07:02:59.590346Z",
     "shell.execute_reply": "2023-03-03T07:02:59.589667Z",
     "shell.execute_reply.started": "2023-03-03T07:02:59.554512Z"
    }
   },
   "outputs": [],
   "source": [
    "# bak\n",
    "#wiktionary_nolemma_bak = wiktionary_nolemma.copy()"
   ]
  },
  {
   "cell_type": "code",
   "execution_count": 66,
   "id": "652d7e50-5c76-4080-87dc-5513eda58eda",
   "metadata": {
    "execution": {
     "iopub.execute_input": "2023-03-03T07:02:59.591365Z",
     "iopub.status.busy": "2023-03-03T07:02:59.591100Z",
     "iopub.status.idle": "2023-03-03T07:03:03.257734Z",
     "shell.execute_reply": "2023-03-03T07:03:03.256899Z",
     "shell.execute_reply.started": "2023-03-03T07:02:59.591338Z"
    }
   },
   "outputs": [
    {
     "name": "stdout",
     "output_type": "stream",
     "text": [
      "update_col: col_score lemma_score applied, 4249 records less!\n",
      "update_col: 663249 cells written into new column\n"
     ]
    }
   ],
   "source": [
    "# lemma_id schreiben\n",
    "wiktionary_nolemma = pak.update_col( df_to =      wiktionary_nolemma, \n",
    "                                     df_from =    wiktionary_lemma, \n",
    "                                     left_on =    ['lemma','lemma_tagZZ'],\n",
    "                                     right_on =   ['lemma','tagZZ'],\n",
    "                                     col =        'lemma_id',\n",
    "                                     col_score = 'lemma_score'\n",
    "                                            )\n",
    "wiktionary_nolemma = pak.move_cols(wiktionary_nolemma,['lemma_id','lemma','lemma_lower','lemma_tagZZ'],-1)"
   ]
  },
  {
   "cell_type": "code",
   "execution_count": 67,
   "id": "e37498ee-40ab-4a36-b56d-0628fe1465c9",
   "metadata": {
    "execution": {
     "iopub.execute_input": "2023-03-03T07:03:03.258796Z",
     "iopub.status.busy": "2023-03-03T07:03:03.258504Z",
     "iopub.status.idle": "2023-03-03T07:03:07.013523Z",
     "shell.execute_reply": "2023-03-03T07:03:07.012538Z",
     "shell.execute_reply.started": "2023-03-03T07:03:03.258768Z"
    }
   },
   "outputs": [
    {
     "name": "stdout",
     "output_type": "stream",
     "text": [
      "update_col: col_score lemma_score applied, 4844 records less!\n",
      "update_col: 3706 cells written into existing column\n"
     ]
    }
   ],
   "source": [
    "# lemma_id ergänzen\n",
    "wiktionary_nolemma, mask = pak.update_col( df_to =      wiktionary_nolemma, \n",
    "                                           df_from =    wiktionary_lemma, \n",
    "                                           on =         'lemma',\n",
    "                                           col =        'lemma_id',\n",
    "                                           col_score =  'lemma_score',\n",
    "                                           cond =       'null',\n",
    "                                           return_mask= True\n",
    "                                            )\n",
    "#wiktionary_nolemma.loc[mask,'member'] += ' lemma_id?'"
   ]
  },
  {
   "cell_type": "code",
   "execution_count": 68,
   "id": "1151ecd8-94d5-44aa-95e5-e4e9a426a33f",
   "metadata": {
    "execution": {
     "iopub.execute_input": "2023-03-03T07:03:07.021377Z",
     "iopub.status.busy": "2023-03-03T07:03:07.018236Z",
     "iopub.status.idle": "2023-03-03T07:03:07.060441Z",
     "shell.execute_reply": "2023-03-03T07:03:07.059325Z",
     "shell.execute_reply.started": "2023-03-03T07:03:07.021337Z"
    }
   },
   "outputs": [],
   "source": [
    "#grid(wiktionary_nolemma,mask)"
   ]
  },
  {
   "cell_type": "code",
   "execution_count": 69,
   "id": "c4af8067-a7ff-417c-88cf-414a7e26ee11",
   "metadata": {
    "execution": {
     "iopub.execute_input": "2023-03-03T07:03:07.070223Z",
     "iopub.status.busy": "2023-03-03T07:03:07.066433Z",
     "iopub.status.idle": "2023-03-03T07:03:10.360647Z",
     "shell.execute_reply": "2023-03-03T07:03:10.359906Z",
     "shell.execute_reply.started": "2023-03-03T07:03:07.070181Z"
    }
   },
   "outputs": [
    {
     "name": "stdout",
     "output_type": "stream",
     "text": [
      "555597 rows less, now 597207 rows\n",
      "rank: 132584 rows less, now 464623 rows\n"
     ]
    },
    {
     "data": {
      "text/html": [
       "<div>\n",
       "<style scoped>\n",
       "    .dataframe tbody tr th:only-of-type {\n",
       "        vertical-align: middle;\n",
       "    }\n",
       "\n",
       "    .dataframe tbody tr th {\n",
       "        vertical-align: top;\n",
       "    }\n",
       "\n",
       "    .dataframe thead th {\n",
       "        text-align: right;\n",
       "    }\n",
       "</style>\n",
       "<table border=\"1\" class=\"dataframe\">\n",
       "  <thead>\n",
       "    <tr style=\"text-align: right;\">\n",
       "      <th></th>\n",
       "      <th>data</th>\n",
       "      <th>lemma_id</th>\n",
       "      <th>data_score</th>\n",
       "    </tr>\n",
       "  </thead>\n",
       "  <tbody>\n",
       "    <tr>\n",
       "      <th>101325</th>\n",
       "      <td>Fachleute</td>\n",
       "      <td>Fachmann</td>\n",
       "      <td>880.42981</td>\n",
       "    </tr>\n",
       "  </tbody>\n",
       "</table>\n",
       "</div>"
      ],
      "text/plain": [
       "             data  lemma_id  data_score\n",
       "101325  Fachleute  Fachmann   880.42981"
      ]
     },
     "execution_count": 69,
     "metadata": {},
     "output_type": "execute_result"
    }
   ],
   "source": [
    "# translate-Tabelle bauen für lemmas aus wiktionary_merkmal\n",
    "mask = wiktionary_merkmal.is_lex == True\n",
    "translate = pak.group_and_agg( wiktionary_merkmal[mask], \n",
    "              [ 'data',    'lemma_id',  'data_score',   ],\n",
    "              [ 'group',   'group',     'sum',     ],\n",
    "              [ '',        '',          'data_score',   ],        \n",
    "             )\n",
    "translate = pak.rank(translate, col_score='data_score', cols_group='data', on_conflict='first')\n",
    "\n",
    "mask = translate.data == 'Fachleute'\n",
    "translate[mask]"
   ]
  },
  {
   "cell_type": "code",
   "execution_count": 70,
   "id": "0ce8f791-58b2-4d7c-b5ad-15fbec5ad753",
   "metadata": {
    "execution": {
     "iopub.execute_input": "2023-03-03T07:03:10.361826Z",
     "iopub.status.busy": "2023-03-03T07:03:10.361557Z",
     "iopub.status.idle": "2023-03-03T07:03:14.407719Z",
     "shell.execute_reply": "2023-03-03T07:03:14.407039Z",
     "shell.execute_reply.started": "2023-03-03T07:03:10.361803Z"
    }
   },
   "outputs": [
    {
     "name": "stdout",
     "output_type": "stream",
     "text": [
      "update_col: 38 cells written into existing column\n"
     ]
    }
   ],
   "source": [
    "# lemma_id via lex aus translate ergänzen\n",
    "wiktionary_nolemma = pak.update_col( df_to =      wiktionary_nolemma, \n",
    "                                     df_from =    translate, \n",
    "                                     left_on =    'lex',\n",
    "                                     right_on =   'data',                                    \n",
    "                                     col =        'lemma_id',\n",
    "                                     cond =       'null',\n",
    "                                            )"
   ]
  },
  {
   "cell_type": "code",
   "execution_count": 71,
   "id": "f008415e-3974-4b90-834a-2372250deb10",
   "metadata": {
    "execution": {
     "iopub.execute_input": "2023-03-03T07:03:14.411737Z",
     "iopub.status.busy": "2023-03-03T07:03:14.411399Z",
     "iopub.status.idle": "2023-03-03T07:03:18.117630Z",
     "shell.execute_reply": "2023-03-03T07:03:18.114928Z",
     "shell.execute_reply.started": "2023-03-03T07:03:14.411708Z"
    }
   },
   "outputs": [
    {
     "name": "stdout",
     "output_type": "stream",
     "text": [
      "update_col: 463 cells written into existing column\n"
     ]
    }
   ],
   "source": [
    "# lemma_id via lemma aus translate ergänzen\n",
    "wiktionary_nolemma = pak.update_col( df_to =      wiktionary_nolemma, \n",
    "                                     df_from =    translate, \n",
    "                                     left_on =    'lemma',\n",
    "                                     right_on =   'data',                                    \n",
    "                                     col =        'lemma_id',\n",
    "                                     cond =       'null',\n",
    "                                            )"
   ]
  },
  {
   "cell_type": "code",
   "execution_count": 72,
   "id": "69b16dfa-0b97-419f-85a2-8ac8c97c156a",
   "metadata": {
    "execution": {
     "iopub.execute_input": "2023-03-03T07:03:18.121081Z",
     "iopub.status.busy": "2023-03-03T07:03:18.120727Z",
     "iopub.status.idle": "2023-03-03T07:03:20.437721Z",
     "shell.execute_reply": "2023-03-03T07:03:20.436995Z",
     "shell.execute_reply.started": "2023-03-03T07:03:18.121050Z"
    }
   },
   "outputs": [
    {
     "name": "stdout",
     "output_type": "stream",
     "text": [
      "14279 rows less, now 653278 rows\n",
      "rank: 9831 rows less, now 643447 rows\n"
     ]
    },
    {
     "data": {
      "text/html": [
       "<div>\n",
       "<style scoped>\n",
       "    .dataframe tbody tr th:only-of-type {\n",
       "        vertical-align: middle;\n",
       "    }\n",
       "\n",
       "    .dataframe tbody tr th {\n",
       "        vertical-align: top;\n",
       "    }\n",
       "\n",
       "    .dataframe thead th {\n",
       "        text-align: right;\n",
       "    }\n",
       "</style>\n",
       "<table border=\"1\" class=\"dataframe\">\n",
       "  <thead>\n",
       "    <tr style=\"text-align: right;\">\n",
       "      <th></th>\n",
       "      <th>data</th>\n",
       "      <th>lemma_id</th>\n",
       "      <th>data_score</th>\n",
       "    </tr>\n",
       "  </thead>\n",
       "  <tbody>\n",
       "    <tr>\n",
       "      <th>24182</th>\n",
       "      <td>Brandschutzverantwortlichen</td>\n",
       "      <td>Brandschutzverantwortlicher</td>\n",
       "      <td>2.155772</td>\n",
       "    </tr>\n",
       "    <tr>\n",
       "      <th>24180</th>\n",
       "      <td>Brandschutzverantwortliche</td>\n",
       "      <td>Brandschutzverantwortlicher</td>\n",
       "      <td>1.043308</td>\n",
       "    </tr>\n",
       "    <tr>\n",
       "      <th>24183</th>\n",
       "      <td>Brandschutzverantwortlicher</td>\n",
       "      <td>Brandschutzverantwortlicher</td>\n",
       "      <td>0.126888</td>\n",
       "    </tr>\n",
       "  </tbody>\n",
       "</table>\n",
       "</div>"
      ],
      "text/plain": [
       "                              data                     lemma_id  data_score\n",
       "24182  Brandschutzverantwortlichen  Brandschutzverantwortlicher    2.155772\n",
       "24180   Brandschutzverantwortliche  Brandschutzverantwortlicher    1.043308\n",
       "24183  Brandschutzverantwortlicher  Brandschutzverantwortlicher    0.126888"
      ]
     },
     "execution_count": 72,
     "metadata": {},
     "output_type": "execute_result"
    }
   ],
   "source": [
    "# translate-Tabelle bauen für Deklinierte Formen aus wiktionary_nolemma\n",
    "# Beispiel: Brandschutzverantwortliche \n",
    "#mask = wiktionary_merkmal.is_lex == True\n",
    "translate = pak.group_and_agg( wiktionary_nolemma, \n",
    "              [ 'lex',    'lemma_id',  'data_score',   ],\n",
    "              [ 'group',   'group',    'sum',     ],\n",
    "              [ 'data',    '',         'data_score',   ],        \n",
    "             )\n",
    "translate = pak.rank(translate, col_score='data_score', cols_group='data', on_conflict='first')\n",
    "\n",
    "mask = translate.data.isin(['Brandschutzverantwortliche','Brandschutzverantwortlicher','Brandschutzverantwortlichen'])\n",
    "translate[mask]"
   ]
  },
  {
   "cell_type": "code",
   "execution_count": 73,
   "id": "71a5c5b3-1f69-41b7-a2f9-a2890b2fdf42",
   "metadata": {
    "execution": {
     "iopub.execute_input": "2023-03-03T07:03:20.441249Z",
     "iopub.status.busy": "2023-03-03T07:03:20.440965Z",
     "iopub.status.idle": "2023-03-03T07:03:24.351371Z",
     "shell.execute_reply": "2023-03-03T07:03:24.350636Z",
     "shell.execute_reply.started": "2023-03-03T07:03:20.441228Z"
    }
   },
   "outputs": [
    {
     "name": "stdout",
     "output_type": "stream",
     "text": [
      "update_col: 45 cells written into existing column\n"
     ]
    }
   ],
   "source": [
    "# lemma_id via lex aus translate ergänzen\n",
    "wiktionary_nolemma = pak.update_col( df_to =      wiktionary_nolemma, \n",
    "                                     df_from =    translate, \n",
    "                                     left_on =    'lex',\n",
    "                                     right_on =   'data',                                    \n",
    "                                     col =        'lemma_id',\n",
    "                                     cond =       'null',\n",
    "                                            )"
   ]
  },
  {
   "cell_type": "code",
   "execution_count": 74,
   "id": "148ac92a-b3c7-4014-944c-de3d7341b8d7",
   "metadata": {
    "execution": {
     "iopub.execute_input": "2023-03-03T07:03:24.352635Z",
     "iopub.status.busy": "2023-03-03T07:03:24.352360Z",
     "iopub.status.idle": "2023-03-03T07:03:28.077838Z",
     "shell.execute_reply": "2023-03-03T07:03:28.077109Z",
     "shell.execute_reply.started": "2023-03-03T07:03:24.352608Z"
    }
   },
   "outputs": [
    {
     "name": "stdout",
     "output_type": "stream",
     "text": [
      "update_col: 47 cells written into existing column\n"
     ]
    }
   ],
   "source": [
    "# lemma_id via lemma aus translate ergänzen\n",
    "wiktionary_nolemma = pak.update_col( df_to =      wiktionary_nolemma, \n",
    "                                     df_from =    translate, \n",
    "                                     left_on =    'lemma',\n",
    "                                     right_on =   'data',                                    \n",
    "                                     col =        'lemma_id',\n",
    "                                     cond =       'null',\n",
    "                                            )"
   ]
  },
  {
   "cell_type": "code",
   "execution_count": 75,
   "id": "899198a4-bc5c-4b66-8287-cc71e6bf87fc",
   "metadata": {
    "execution": {
     "iopub.execute_input": "2023-03-03T07:03:28.081291Z",
     "iopub.status.busy": "2023-03-03T07:03:28.081011Z",
     "iopub.status.idle": "2023-03-03T07:03:31.873397Z",
     "shell.execute_reply": "2023-03-03T07:03:31.871271Z",
     "shell.execute_reply.started": "2023-03-03T07:03:28.081270Z"
    }
   },
   "outputs": [
    {
     "name": "stdout",
     "output_type": "stream",
     "text": [
      "update_col: col_score lemma_score applied, but it was pointless!\n",
      "update_col: 667539 cells written into existing column\n"
     ]
    }
   ],
   "source": [
    "# lemma_tagZZ zurückschreiben\n",
    "wiktionary_nolemma = pak.update_col( df_to =      wiktionary_nolemma, \n",
    "                                     df_from =    wiktionary_lemma, \n",
    "                                     on =         'lemma_id',\n",
    "                                     col =        'tagZZ',\n",
    "                                     col_rename = 'lemma_tagZZ',                                    \n",
    "                                     col_score =  'lemma_score',\n",
    "                                            )"
   ]
  },
  {
   "cell_type": "code",
   "execution_count": 76,
   "id": "66dc8326-2c26-431b-9b04-9976701c62e0",
   "metadata": {
    "execution": {
     "iopub.execute_input": "2023-03-03T07:03:31.874821Z",
     "iopub.status.busy": "2023-03-03T07:03:31.874510Z",
     "iopub.status.idle": "2023-03-03T07:03:32.895393Z",
     "shell.execute_reply": "2023-03-03T07:03:32.894606Z",
     "shell.execute_reply.started": "2023-03-03T07:03:31.874792Z"
    },
    "tags": []
   },
   "outputs": [
    {
     "name": "stdout",
     "output_type": "stream",
     "text": [
      "3 rows\n"
     ]
    },
    {
     "data": {
      "text/html": [
       "<div>\n",
       "<style scoped>\n",
       "    .dataframe tbody tr th:only-of-type {\n",
       "        vertical-align: middle;\n",
       "    }\n",
       "\n",
       "    .dataframe tbody tr th {\n",
       "        vertical-align: top;\n",
       "    }\n",
       "\n",
       "    .dataframe thead th {\n",
       "        text-align: right;\n",
       "    }\n",
       "</style>\n",
       "<table border=\"1\" class=\"dataframe\">\n",
       "  <thead>\n",
       "    <tr style=\"text-align: right;\">\n",
       "      <th></th>\n",
       "      <th>member</th>\n",
       "      <th>member_count</th>\n",
       "      <th>member_percent</th>\n",
       "      <th>tag</th>\n",
       "      <th>tag_count</th>\n",
       "      <th>lemma</th>\n",
       "      <th>lemma_count</th>\n",
       "    </tr>\n",
       "  </thead>\n",
       "  <tbody>\n",
       "    <tr>\n",
       "      <th>0</th>\n",
       "      <td>Deklinierte_Form</td>\n",
       "      <td>186299</td>\n",
       "      <td>100.0</td>\n",
       "      <td>LEX_A</td>\n",
       "      <td>186299</td>\n",
       "      <td>[Band, alter Fahrensmann, amerikanischer Traum, frommer Wunsch, elektrischer Stuhl, kalter Entzug, gebranntes Kind, falscher Freund, Strauß, Vollzug, Wachtraum, absoluter Krieg, aktiver Wortschatz, menschlicher Schutzschild, offener Brief, passiver Wortschatz, totaler Krieg, ewiges Talent, Wolf, neues Bundesland, Bruch, Schwarzes Loch, schwarzes Loch, Weißer Hai, öffentliches Gut, Akademischer Rat, eingefrorener Konflikt, harter Hund, Geistlicher Rat, Gemeiner Holzbock, Gewöhnlicher Schweinswal, Großer Zapfenstreich, Indischer Wolf, kleiner Fisch, luzider Traum, Mexikanischer Wolf, plötzlicher Kindstod, Weißer Zwerg, chemisches Element, geflügeltes Wort, Grünes Heupferd, hohes Tier, kalter Hund, kaltes Licht, leeres Wort, schwarzes Brett, Schwarzes Brett, Potemkinsches Dorf, soziales Netzwerk, ökologischer Fußabdruck, Hippokratischer Eid, hippokratischer Eid, Hummel, Dreh, Wiek, Eisernes Kreuz, baltischer Staat, Wehrmann, siamesischer Zwilling, feuchter Traum, kategorischer Imperativ, blinder Passagier, Heiliger Abend, stilles Wasser, Römisches Reich, Bus, Abel, Hintermann, Seemann, Zweites Gesicht, Fund, Balg, Boot, Edelmann, Gerundium, Geschmack, Gewährsmann, Muffel, Stock, Schauermann, Instmann, Brack, Tenor, Sacktuch, Bug, Simplex, Steuermann, Werbefachmann, Lehnsmann, Schutzmann, Räuberhauptmann, Lüftungsfachmann, Fährmann, Gefolgsmann, Frontmann, Computerfachmann, Privatmann, Strohmann, Vordermann, Nordmann]</td>\n",
       "      <td>[13, 11, 11, 11, 11, 11, 11, 10, 10, 10, 10, 10, 10, 10, 10, 10, 10, 10, 9, 9, 9, 9, 9, 9, 9, 9, 9, 9, 9, 9, 9, 9, 9, 9, 9, 9, 9, 9, 9, 9, 9, 9, 9, 9, 9, 9, 9, 9, 9, 9, 9, 9, 8, 8, 8, 8, 8, 8, 8, 8, 8, 8, 8, 8, 7, 7, 7, 7, 7, 7, 7, 7, 7, 7, 7, 7, 7, 7, 7, 7, 7, 7, 7, 7, 7, 7, 7, 7, 7, 7, 7, 7, 7, 7, 7, 7, 7, 7, 7, 7]</td>\n",
       "    </tr>\n",
       "    <tr>\n",
       "      <th>1</th>\n",
       "      <td>Substantiv</td>\n",
       "      <td>2</td>\n",
       "      <td>0.0</td>\n",
       "      <td>NN</td>\n",
       "      <td>2</td>\n",
       "      <td>[Junges, Wolfsjunges]</td>\n",
       "      <td>[1, 1]</td>\n",
       "    </tr>\n",
       "    <tr>\n",
       "      <th>2</th>\n",
       "      <td>Substantiv adjektivische_Deklination</td>\n",
       "      <td>1</td>\n",
       "      <td>0.0</td>\n",
       "      <td>NN</td>\n",
       "      <td>1</td>\n",
       "      <td>Spielender</td>\n",
       "      <td>1</td>\n",
       "    </tr>\n",
       "  </tbody>\n",
       "</table>\n",
       "</div>"
      ],
      "text/plain": [
       "                                 member  member_count  member_percent    tag  \\\n",
       "0                      Deklinierte_Form        186299           100.0  LEX_A   \n",
       "1                            Substantiv             2             0.0     NN   \n",
       "2  Substantiv adjektivische_Deklination             1             0.0     NN   \n",
       "\n",
       "   tag_count  \\\n",
       "0     186299   \n",
       "1          2   \n",
       "2          1   \n",
       "\n",
       "                                                                                                                                                                                                                                                                                                                                                                                                                                                                                                                                                                                                                                                                                                                                                                                                                                                                                                                                                                                                                                                                                                                                                                                                                                                                                                                                                                                                                                                                                           lemma  \\\n",
       "0  [Band, alter Fahrensmann, amerikanischer Traum, frommer Wunsch, elektrischer Stuhl, kalter Entzug, gebranntes Kind, falscher Freund, Strauß, Vollzug, Wachtraum, absoluter Krieg, aktiver Wortschatz, menschlicher Schutzschild, offener Brief, passiver Wortschatz, totaler Krieg, ewiges Talent, Wolf, neues Bundesland, Bruch, Schwarzes Loch, schwarzes Loch, Weißer Hai, öffentliches Gut, Akademischer Rat, eingefrorener Konflikt, harter Hund, Geistlicher Rat, Gemeiner Holzbock, Gewöhnlicher Schweinswal, Großer Zapfenstreich, Indischer Wolf, kleiner Fisch, luzider Traum, Mexikanischer Wolf, plötzlicher Kindstod, Weißer Zwerg, chemisches Element, geflügeltes Wort, Grünes Heupferd, hohes Tier, kalter Hund, kaltes Licht, leeres Wort, schwarzes Brett, Schwarzes Brett, Potemkinsches Dorf, soziales Netzwerk, ökologischer Fußabdruck, Hippokratischer Eid, hippokratischer Eid, Hummel, Dreh, Wiek, Eisernes Kreuz, baltischer Staat, Wehrmann, siamesischer Zwilling, feuchter Traum, kategorischer Imperativ, blinder Passagier, Heiliger Abend, stilles Wasser, Römisches Reich, Bus, Abel, Hintermann, Seemann, Zweites Gesicht, Fund, Balg, Boot, Edelmann, Gerundium, Geschmack, Gewährsmann, Muffel, Stock, Schauermann, Instmann, Brack, Tenor, Sacktuch, Bug, Simplex, Steuermann, Werbefachmann, Lehnsmann, Schutzmann, Räuberhauptmann, Lüftungsfachmann, Fährmann, Gefolgsmann, Frontmann, Computerfachmann, Privatmann, Strohmann, Vordermann, Nordmann]   \n",
       "1                                                                                                                                                                                                                                                                                                                                                                                                                                                                                                                                                                                                                                                                                                                                                                                                                                                                                                                                                                                                                                                                                                                                                                                                                                                                                                                                                                                                                                                                          [Junges, Wolfsjunges]   \n",
       "2                                                                                                                                                                                                                                                                                                                                                                                                                                                                                                                                                                                                                                                                                                                                                                                                                                                                                                                                                                                                                                                                                                                                                                                                                                                                                                                                                                                                                                                                                     Spielender   \n",
       "\n",
       "                                                                                                                                                                                                                                                                                                                      lemma_count  \n",
       "0  [13, 11, 11, 11, 11, 11, 11, 10, 10, 10, 10, 10, 10, 10, 10, 10, 10, 10, 9, 9, 9, 9, 9, 9, 9, 9, 9, 9, 9, 9, 9, 9, 9, 9, 9, 9, 9, 9, 9, 9, 9, 9, 9, 9, 9, 9, 9, 9, 9, 9, 9, 9, 8, 8, 8, 8, 8, 8, 8, 8, 8, 8, 8, 8, 7, 7, 7, 7, 7, 7, 7, 7, 7, 7, 7, 7, 7, 7, 7, 7, 7, 7, 7, 7, 7, 7, 7, 7, 7, 7, 7, 7, 7, 7, 7, 7, 7, 7, 7, 7]  \n",
       "1                                                                                                                                                                                                                                                                                                                          [1, 1]  \n",
       "2                                                                                                                                                                                                                                                                                                                               1  "
      ]
     },
     "execution_count": 76,
     "metadata": {},
     "output_type": "execute_result"
    }
   ],
   "source": [
    "# Kontrolle (ändere mask auf A, V oder N und kontrolliere die lemmas)\n",
    "mask = wiktionary_nolemma.lemma_tagZZ == 'N'\n",
    "a = pak.analyse_freqs(wiktionary_nolemma[mask], cols=['member','tag','lemma'], limits=[None,None,100])\n",
    "grid(a)"
   ]
  },
  {
   "cell_type": "code",
   "execution_count": 77,
   "id": "65fa6e6f-8249-480d-ae00-d871d3a1af66",
   "metadata": {
    "execution": {
     "iopub.execute_input": "2023-03-03T07:03:32.896401Z",
     "iopub.status.busy": "2023-03-03T07:03:32.896137Z",
     "iopub.status.idle": "2023-03-03T07:03:32.933754Z",
     "shell.execute_reply": "2023-03-03T07:03:32.933075Z",
     "shell.execute_reply.started": "2023-03-03T07:03:32.896379Z"
    },
    "tags": []
   },
   "outputs": [],
   "source": [
    "#for i in a.iloc[0].lemma:\n",
    "#    if ' ' in i:\n",
    "#        print(i)"
   ]
  },
  {
   "cell_type": "code",
   "execution_count": 78,
   "id": "cb34b893-640e-4d65-8aba-b2d01a357b13",
   "metadata": {
    "execution": {
     "iopub.execute_input": "2023-03-03T07:03:32.935003Z",
     "iopub.status.busy": "2023-03-03T07:03:32.934732Z",
     "iopub.status.idle": "2023-03-03T07:03:33.053398Z",
     "shell.execute_reply": "2023-03-03T07:03:33.052504Z",
     "shell.execute_reply.started": "2023-03-03T07:03:32.934978Z"
    },
    "tags": []
   },
   "outputs": [
    {
     "name": "stdout",
     "output_type": "stream",
     "text": [
      "check_mask:  9 rows\n",
      "9 rows out of 667557\n"
     ]
    },
    {
     "data": {
      "text/html": [
       "<div>\n",
       "<style scoped>\n",
       "    .dataframe tbody tr th:only-of-type {\n",
       "        vertical-align: middle;\n",
       "    }\n",
       "\n",
       "    .dataframe tbody tr th {\n",
       "        vertical-align: top;\n",
       "    }\n",
       "\n",
       "    .dataframe thead th {\n",
       "        text-align: right;\n",
       "    }\n",
       "</style>\n",
       "<table border=\"1\" class=\"dataframe\">\n",
       "  <thead>\n",
       "    <tr style=\"text-align: right;\">\n",
       "      <th></th>\n",
       "      <th>nolemma_id</th>\n",
       "      <th>lex</th>\n",
       "      <th>tag</th>\n",
       "      <th>tag_0</th>\n",
       "      <th>tag_1</th>\n",
       "      <th>tagZ</th>\n",
       "      <th>tagZZ</th>\n",
       "      <th>member</th>\n",
       "      <th>data_score</th>\n",
       "      <th>lemma_id</th>\n",
       "      <th>lemma</th>\n",
       "      <th>lemma_lower</th>\n",
       "      <th>lemma_tagZZ</th>\n",
       "    </tr>\n",
       "  </thead>\n",
       "  <tbody>\n",
       "    <tr>\n",
       "      <th>446</th>\n",
       "      <td>animale</td>\n",
       "      <td>animale</td>\n",
       "      <td>LEX_A</td>\n",
       "      <td>LEX_A</td>\n",
       "      <td>rwJOXL7Sty</td>\n",
       "      <td>&lt;NA&gt;</td>\n",
       "      <td></td>\n",
       "      <td>Deklinierte_Form</td>\n",
       "      <td>1.758692</td>\n",
       "      <td>&lt;NA&gt;</td>\n",
       "      <td>animal</td>\n",
       "      <td>animal</td>\n",
       "      <td>A</td>\n",
       "    </tr>\n",
       "    <tr>\n",
       "      <th>496</th>\n",
       "      <td>materiale</td>\n",
       "      <td>materiale</td>\n",
       "      <td>LEX_A</td>\n",
       "      <td>LEX_A</td>\n",
       "      <td>HOLoqFb6x0</td>\n",
       "      <td>&lt;NA&gt;</td>\n",
       "      <td></td>\n",
       "      <td>Deklinierte_Form</td>\n",
       "      <td>1.795872</td>\n",
       "      <td>&lt;NA&gt;</td>\n",
       "      <td>material</td>\n",
       "      <td>material</td>\n",
       "      <td>A</td>\n",
       "    </tr>\n",
       "    <tr>\n",
       "      <th>149319</th>\n",
       "      <td>Gands</td>\n",
       "      <td>Gands</td>\n",
       "      <td>LEX_A</td>\n",
       "      <td>LEX_A</td>\n",
       "      <td>HOdIzepkvh</td>\n",
       "      <td>&lt;NA&gt;</td>\n",
       "      <td></td>\n",
       "      <td>Deklinierte_Form</td>\n",
       "      <td>0.529926</td>\n",
       "      <td>&lt;NA&gt;</td>\n",
       "      <td>Gand</td>\n",
       "      <td>gand</td>\n",
       "      <td>N</td>\n",
       "    </tr>\n",
       "    <tr>\n",
       "      <th>214466</th>\n",
       "      <td>hieigem</td>\n",
       "      <td>hieigem</td>\n",
       "      <td>LEX_A</td>\n",
       "      <td>LEX_A</td>\n",
       "      <td>EIFdin2aNj</td>\n",
       "      <td>&lt;NA&gt;</td>\n",
       "      <td></td>\n",
       "      <td>Deklinierte_Form</td>\n",
       "      <td>0.676620</td>\n",
       "      <td>&lt;NA&gt;</td>\n",
       "      <td>hieig</td>\n",
       "      <td>hieig</td>\n",
       "      <td>A</td>\n",
       "    </tr>\n",
       "    <tr>\n",
       "      <th>214467</th>\n",
       "      <td>hieigen</td>\n",
       "      <td>hieigen</td>\n",
       "      <td>LEX_A</td>\n",
       "      <td>LEX_A</td>\n",
       "      <td>47pdPIvvTZ</td>\n",
       "      <td>&lt;NA&gt;</td>\n",
       "      <td></td>\n",
       "      <td>Deklinierte_Form</td>\n",
       "      <td>2.111256</td>\n",
       "      <td>&lt;NA&gt;</td>\n",
       "      <td>hieig</td>\n",
       "      <td>hieig</td>\n",
       "      <td>A</td>\n",
       "    </tr>\n",
       "    <tr>\n",
       "      <th>214468</th>\n",
       "      <td>hieiger</td>\n",
       "      <td>hieiger</td>\n",
       "      <td>LEX_A</td>\n",
       "      <td>LEX_A</td>\n",
       "      <td>r38OVLSckf</td>\n",
       "      <td>&lt;NA&gt;</td>\n",
       "      <td></td>\n",
       "      <td>Deklinierte_Form</td>\n",
       "      <td>1.179205</td>\n",
       "      <td>&lt;NA&gt;</td>\n",
       "      <td>hieig</td>\n",
       "      <td>hieig</td>\n",
       "      <td>A</td>\n",
       "    </tr>\n",
       "    <tr>\n",
       "      <th>214469</th>\n",
       "      <td>hieiges</td>\n",
       "      <td>hieiges</td>\n",
       "      <td>LEX_A</td>\n",
       "      <td>LEX_A</td>\n",
       "      <td>yKjKzSJAvs</td>\n",
       "      <td>&lt;NA&gt;</td>\n",
       "      <td></td>\n",
       "      <td>Deklinierte_Form</td>\n",
       "      <td>1.056128</td>\n",
       "      <td>&lt;NA&gt;</td>\n",
       "      <td>hieig</td>\n",
       "      <td>hieig</td>\n",
       "      <td>A</td>\n",
       "    </tr>\n",
       "    <tr>\n",
       "      <th>214470</th>\n",
       "      <td>hieige</td>\n",
       "      <td>hieige</td>\n",
       "      <td>LEX_A</td>\n",
       "      <td>LEX_A</td>\n",
       "      <td>zhuboeUWFq</td>\n",
       "      <td>&lt;NA&gt;</td>\n",
       "      <td></td>\n",
       "      <td>Deklinierte_Form</td>\n",
       "      <td>1.697154</td>\n",
       "      <td>&lt;NA&gt;</td>\n",
       "      <td>hieig</td>\n",
       "      <td>hieig</td>\n",
       "      <td>A</td>\n",
       "    </tr>\n",
       "    <tr>\n",
       "      <th>349249</th>\n",
       "      <td>Consiliums_abeundi</td>\n",
       "      <td>Consiliums abeundi</td>\n",
       "      <td>LEX_A</td>\n",
       "      <td>LEX_A</td>\n",
       "      <td>iWr5nIlS4p</td>\n",
       "      <td>&lt;NA&gt;</td>\n",
       "      <td></td>\n",
       "      <td>Deklinierte_Form</td>\n",
       "      <td>0.215376</td>\n",
       "      <td>&lt;NA&gt;</td>\n",
       "      <td>Consilium abeundi</td>\n",
       "      <td>consilium abeundi</td>\n",
       "      <td>N</td>\n",
       "    </tr>\n",
       "  </tbody>\n",
       "</table>\n",
       "</div>"
      ],
      "text/plain": [
       "                nolemma_id                 lex    tag  tag_0       tag_1  \\\n",
       "446                animale             animale  LEX_A  LEX_A  rwJOXL7Sty   \n",
       "496              materiale           materiale  LEX_A  LEX_A  HOLoqFb6x0   \n",
       "149319               Gands               Gands  LEX_A  LEX_A  HOdIzepkvh   \n",
       "214466             hieigem             hieigem  LEX_A  LEX_A  EIFdin2aNj   \n",
       "214467             hieigen             hieigen  LEX_A  LEX_A  47pdPIvvTZ   \n",
       "214468             hieiger             hieiger  LEX_A  LEX_A  r38OVLSckf   \n",
       "214469             hieiges             hieiges  LEX_A  LEX_A  yKjKzSJAvs   \n",
       "214470              hieige              hieige  LEX_A  LEX_A  zhuboeUWFq   \n",
       "349249  Consiliums_abeundi  Consiliums abeundi  LEX_A  LEX_A  iWr5nIlS4p   \n",
       "\n",
       "        tagZ tagZZ            member  data_score lemma_id              lemma  \\\n",
       "446     <NA>        Deklinierte_Form    1.758692     <NA>             animal   \n",
       "496     <NA>        Deklinierte_Form    1.795872     <NA>           material   \n",
       "149319  <NA>        Deklinierte_Form    0.529926     <NA>               Gand   \n",
       "214466  <NA>        Deklinierte_Form    0.676620     <NA>              hieig   \n",
       "214467  <NA>        Deklinierte_Form    2.111256     <NA>              hieig   \n",
       "214468  <NA>        Deklinierte_Form    1.179205     <NA>              hieig   \n",
       "214469  <NA>        Deklinierte_Form    1.056128     <NA>              hieig   \n",
       "214470  <NA>        Deklinierte_Form    1.697154     <NA>              hieig   \n",
       "349249  <NA>        Deklinierte_Form    0.215376     <NA>  Consilium abeundi   \n",
       "\n",
       "              lemma_lower lemma_tagZZ  \n",
       "446                animal           A  \n",
       "496              material           A  \n",
       "149319               gand           N  \n",
       "214466              hieig           A  \n",
       "214467              hieig           A  \n",
       "214468              hieig           A  \n",
       "214469              hieig           A  \n",
       "214470              hieig           A  \n",
       "349249  consilium abeundi           N  "
      ]
     },
     "execution_count": 78,
     "metadata": {},
     "output_type": "execute_result"
    }
   ],
   "source": [
    "# Die meisten lemma_id konnten gefunden werden\n",
    "mask = wiktionary_nolemma.lemma_id.isnull()\n",
    "check_mask(wiktionary_nolemma,mask,0,20)\n",
    "grid(wiktionary_nolemma,mask)"
   ]
  },
  {
   "cell_type": "code",
   "execution_count": 79,
   "id": "d9751638-a9eb-4d94-be44-933b47e9f4a4",
   "metadata": {
    "execution": {
     "iopub.execute_input": "2023-03-03T07:03:33.060868Z",
     "iopub.status.busy": "2023-03-03T07:03:33.056408Z",
     "iopub.status.idle": "2023-03-03T07:03:33.105341Z",
     "shell.execute_reply": "2023-03-03T07:03:33.104647Z",
     "shell.execute_reply.started": "2023-03-03T07:03:33.060821Z"
    },
    "tags": []
   },
   "outputs": [],
   "source": [
    "#mask1 = wiktionary_nolemma.lemma_id.isnull()\n",
    "#mask2 = wiktionary_nolemma.member.str.contains('Erweiterter_Infinitiv')\n",
    "#mask = mask1  &  mask2\n",
    "#grid(wiktionary_nolemma,mask)"
   ]
  },
  {
   "cell_type": "code",
   "execution_count": 80,
   "id": "c8e63bba-bf05-4b56-8b69-ba4efbc3ea60",
   "metadata": {
    "execution": {
     "iopub.execute_input": "2023-03-03T07:03:33.106417Z",
     "iopub.status.busy": "2023-03-03T07:03:33.106128Z",
     "iopub.status.idle": "2023-03-03T07:03:33.724382Z",
     "shell.execute_reply": "2023-03-03T07:03:33.723589Z",
     "shell.execute_reply.started": "2023-03-03T07:03:33.106391Z"
    },
    "tags": []
   },
   "outputs": [
    {
     "data": {
      "text/html": [
       "<div>\n",
       "<style scoped>\n",
       "    .dataframe tbody tr th:only-of-type {\n",
       "        vertical-align: middle;\n",
       "    }\n",
       "\n",
       "    .dataframe tbody tr th {\n",
       "        vertical-align: top;\n",
       "    }\n",
       "\n",
       "    .dataframe thead th {\n",
       "        text-align: right;\n",
       "    }\n",
       "</style>\n",
       "<table border=\"1\" class=\"dataframe\">\n",
       "  <thead>\n",
       "    <tr style=\"text-align: right;\">\n",
       "      <th></th>\n",
       "      <th>nolemma_id</th>\n",
       "      <th>lex</th>\n",
       "      <th>tag</th>\n",
       "      <th>tag_0</th>\n",
       "      <th>tag_1</th>\n",
       "      <th>tagZ</th>\n",
       "      <th>tagZZ</th>\n",
       "      <th>member</th>\n",
       "      <th>data_score</th>\n",
       "      <th>lemma_id</th>\n",
       "      <th>lemma</th>\n",
       "      <th>lemma_lower</th>\n",
       "      <th>lemma_tagZZ</th>\n",
       "    </tr>\n",
       "  </thead>\n",
       "  <tbody>\n",
       "  </tbody>\n",
       "</table>\n",
       "</div>"
      ],
      "text/plain": [
       "Empty DataFrame\n",
       "Columns: [nolemma_id, lex, tag, tag_0, tag_1, tagZ, tagZZ, member, data_score, lemma_id, lemma, lemma_lower, lemma_tagZZ]\n",
       "Index: []"
      ]
     },
     "execution_count": 80,
     "metadata": {},
     "output_type": "execute_result"
    }
   ],
   "source": [
    "# suche_debug \n",
    "search_str(wiktionary_nolemma, suche_debug)"
   ]
  },
  {
   "cell_type": "code",
   "execution_count": 81,
   "id": "f5bcf6ed-f3b4-4acf-96f7-2a3cb0cb5270",
   "metadata": {
    "execution": {
     "iopub.execute_input": "2023-03-03T07:03:33.725747Z",
     "iopub.status.busy": "2023-03-03T07:03:33.725407Z",
     "iopub.status.idle": "2023-03-03T07:03:33.764139Z",
     "shell.execute_reply": "2023-03-03T07:03:33.763466Z",
     "shell.execute_reply.started": "2023-03-03T07:03:33.725718Z"
    },
    "tags": []
   },
   "outputs": [],
   "source": [
    "# trash erzeugen  \n",
    "wiktionary_nolemma_trash = wiktionary_nolemma.head(0)\n",
    "wiktionary_nolemma_trash['msg'] = None"
   ]
  },
  {
   "cell_type": "code",
   "execution_count": 82,
   "id": "e0772661-a5a2-4a2b-ba03-289e6705d176",
   "metadata": {
    "execution": {
     "iopub.execute_input": "2023-03-03T07:03:33.774532Z",
     "iopub.status.busy": "2023-03-03T07:03:33.774214Z",
     "iopub.status.idle": "2023-03-03T07:03:34.614369Z",
     "shell.execute_reply": "2023-03-03T07:03:34.613759Z",
     "shell.execute_reply.started": "2023-03-03T07:03:33.774504Z"
    },
    "tags": []
   },
   "outputs": [
    {
     "name": "stdout",
     "output_type": "stream",
     "text": [
      "check_mask:  9 rows\n",
      "Move 9 rows from 667557\n",
      "9 rows\n"
     ]
    },
    {
     "data": {
      "text/html": [
       "<div>\n",
       "<style scoped>\n",
       "    .dataframe tbody tr th:only-of-type {\n",
       "        vertical-align: middle;\n",
       "    }\n",
       "\n",
       "    .dataframe tbody tr th {\n",
       "        vertical-align: top;\n",
       "    }\n",
       "\n",
       "    .dataframe thead th {\n",
       "        text-align: right;\n",
       "    }\n",
       "</style>\n",
       "<table border=\"1\" class=\"dataframe\">\n",
       "  <thead>\n",
       "    <tr style=\"text-align: right;\">\n",
       "      <th></th>\n",
       "      <th>nolemma_id</th>\n",
       "      <th>lex</th>\n",
       "      <th>tag</th>\n",
       "      <th>tag_0</th>\n",
       "      <th>tag_1</th>\n",
       "      <th>tagZ</th>\n",
       "      <th>tagZZ</th>\n",
       "      <th>member</th>\n",
       "      <th>data_score</th>\n",
       "      <th>lemma_id</th>\n",
       "      <th>lemma</th>\n",
       "      <th>lemma_lower</th>\n",
       "      <th>lemma_tagZZ</th>\n",
       "      <th>msg</th>\n",
       "    </tr>\n",
       "  </thead>\n",
       "  <tbody>\n",
       "    <tr>\n",
       "      <th>446</th>\n",
       "      <td>animale</td>\n",
       "      <td>animale</td>\n",
       "      <td>LEX_A</td>\n",
       "      <td>LEX_A</td>\n",
       "      <td>rwJOXL7Sty</td>\n",
       "      <td>&lt;NA&gt;</td>\n",
       "      <td></td>\n",
       "      <td>Deklinierte_Form</td>\n",
       "      <td>1.758692</td>\n",
       "      <td>&lt;NA&gt;</td>\n",
       "      <td>animal</td>\n",
       "      <td>animal</td>\n",
       "      <td>A</td>\n",
       "      <td>Schrott_lemma_id</td>\n",
       "    </tr>\n",
       "    <tr>\n",
       "      <th>496</th>\n",
       "      <td>materiale</td>\n",
       "      <td>materiale</td>\n",
       "      <td>LEX_A</td>\n",
       "      <td>LEX_A</td>\n",
       "      <td>HOLoqFb6x0</td>\n",
       "      <td>&lt;NA&gt;</td>\n",
       "      <td></td>\n",
       "      <td>Deklinierte_Form</td>\n",
       "      <td>1.795872</td>\n",
       "      <td>&lt;NA&gt;</td>\n",
       "      <td>material</td>\n",
       "      <td>material</td>\n",
       "      <td>A</td>\n",
       "      <td>Schrott_lemma_id</td>\n",
       "    </tr>\n",
       "    <tr>\n",
       "      <th>149319</th>\n",
       "      <td>Gands</td>\n",
       "      <td>Gands</td>\n",
       "      <td>LEX_A</td>\n",
       "      <td>LEX_A</td>\n",
       "      <td>HOdIzepkvh</td>\n",
       "      <td>&lt;NA&gt;</td>\n",
       "      <td></td>\n",
       "      <td>Deklinierte_Form</td>\n",
       "      <td>0.529926</td>\n",
       "      <td>&lt;NA&gt;</td>\n",
       "      <td>Gand</td>\n",
       "      <td>gand</td>\n",
       "      <td>N</td>\n",
       "      <td>Schrott_lemma_id</td>\n",
       "    </tr>\n",
       "    <tr>\n",
       "      <th>214466</th>\n",
       "      <td>hieigem</td>\n",
       "      <td>hieigem</td>\n",
       "      <td>LEX_A</td>\n",
       "      <td>LEX_A</td>\n",
       "      <td>EIFdin2aNj</td>\n",
       "      <td>&lt;NA&gt;</td>\n",
       "      <td></td>\n",
       "      <td>Deklinierte_Form</td>\n",
       "      <td>0.676620</td>\n",
       "      <td>&lt;NA&gt;</td>\n",
       "      <td>hieig</td>\n",
       "      <td>hieig</td>\n",
       "      <td>A</td>\n",
       "      <td>Schrott_lemma_id</td>\n",
       "    </tr>\n",
       "    <tr>\n",
       "      <th>214467</th>\n",
       "      <td>hieigen</td>\n",
       "      <td>hieigen</td>\n",
       "      <td>LEX_A</td>\n",
       "      <td>LEX_A</td>\n",
       "      <td>47pdPIvvTZ</td>\n",
       "      <td>&lt;NA&gt;</td>\n",
       "      <td></td>\n",
       "      <td>Deklinierte_Form</td>\n",
       "      <td>2.111256</td>\n",
       "      <td>&lt;NA&gt;</td>\n",
       "      <td>hieig</td>\n",
       "      <td>hieig</td>\n",
       "      <td>A</td>\n",
       "      <td>Schrott_lemma_id</td>\n",
       "    </tr>\n",
       "    <tr>\n",
       "      <th>214468</th>\n",
       "      <td>hieiger</td>\n",
       "      <td>hieiger</td>\n",
       "      <td>LEX_A</td>\n",
       "      <td>LEX_A</td>\n",
       "      <td>r38OVLSckf</td>\n",
       "      <td>&lt;NA&gt;</td>\n",
       "      <td></td>\n",
       "      <td>Deklinierte_Form</td>\n",
       "      <td>1.179205</td>\n",
       "      <td>&lt;NA&gt;</td>\n",
       "      <td>hieig</td>\n",
       "      <td>hieig</td>\n",
       "      <td>A</td>\n",
       "      <td>Schrott_lemma_id</td>\n",
       "    </tr>\n",
       "    <tr>\n",
       "      <th>214469</th>\n",
       "      <td>hieiges</td>\n",
       "      <td>hieiges</td>\n",
       "      <td>LEX_A</td>\n",
       "      <td>LEX_A</td>\n",
       "      <td>yKjKzSJAvs</td>\n",
       "      <td>&lt;NA&gt;</td>\n",
       "      <td></td>\n",
       "      <td>Deklinierte_Form</td>\n",
       "      <td>1.056128</td>\n",
       "      <td>&lt;NA&gt;</td>\n",
       "      <td>hieig</td>\n",
       "      <td>hieig</td>\n",
       "      <td>A</td>\n",
       "      <td>Schrott_lemma_id</td>\n",
       "    </tr>\n",
       "    <tr>\n",
       "      <th>214470</th>\n",
       "      <td>hieige</td>\n",
       "      <td>hieige</td>\n",
       "      <td>LEX_A</td>\n",
       "      <td>LEX_A</td>\n",
       "      <td>zhuboeUWFq</td>\n",
       "      <td>&lt;NA&gt;</td>\n",
       "      <td></td>\n",
       "      <td>Deklinierte_Form</td>\n",
       "      <td>1.697154</td>\n",
       "      <td>&lt;NA&gt;</td>\n",
       "      <td>hieig</td>\n",
       "      <td>hieig</td>\n",
       "      <td>A</td>\n",
       "      <td>Schrott_lemma_id</td>\n",
       "    </tr>\n",
       "    <tr>\n",
       "      <th>349249</th>\n",
       "      <td>Consiliums_abeundi</td>\n",
       "      <td>Consiliums abeundi</td>\n",
       "      <td>LEX_A</td>\n",
       "      <td>LEX_A</td>\n",
       "      <td>iWr5nIlS4p</td>\n",
       "      <td>&lt;NA&gt;</td>\n",
       "      <td></td>\n",
       "      <td>Deklinierte_Form</td>\n",
       "      <td>0.215376</td>\n",
       "      <td>&lt;NA&gt;</td>\n",
       "      <td>Consilium abeundi</td>\n",
       "      <td>consilium abeundi</td>\n",
       "      <td>N</td>\n",
       "      <td>Schrott_lemma_id</td>\n",
       "    </tr>\n",
       "  </tbody>\n",
       "</table>\n",
       "</div>"
      ],
      "text/plain": [
       "                nolemma_id                 lex    tag  tag_0       tag_1  \\\n",
       "446                animale             animale  LEX_A  LEX_A  rwJOXL7Sty   \n",
       "496              materiale           materiale  LEX_A  LEX_A  HOLoqFb6x0   \n",
       "149319               Gands               Gands  LEX_A  LEX_A  HOdIzepkvh   \n",
       "214466             hieigem             hieigem  LEX_A  LEX_A  EIFdin2aNj   \n",
       "214467             hieigen             hieigen  LEX_A  LEX_A  47pdPIvvTZ   \n",
       "214468             hieiger             hieiger  LEX_A  LEX_A  r38OVLSckf   \n",
       "214469             hieiges             hieiges  LEX_A  LEX_A  yKjKzSJAvs   \n",
       "214470              hieige              hieige  LEX_A  LEX_A  zhuboeUWFq   \n",
       "349249  Consiliums_abeundi  Consiliums abeundi  LEX_A  LEX_A  iWr5nIlS4p   \n",
       "\n",
       "        tagZ tagZZ            member  data_score lemma_id              lemma  \\\n",
       "446     <NA>        Deklinierte_Form    1.758692     <NA>             animal   \n",
       "496     <NA>        Deklinierte_Form    1.795872     <NA>           material   \n",
       "149319  <NA>        Deklinierte_Form    0.529926     <NA>               Gand   \n",
       "214466  <NA>        Deklinierte_Form    0.676620     <NA>              hieig   \n",
       "214467  <NA>        Deklinierte_Form    2.111256     <NA>              hieig   \n",
       "214468  <NA>        Deklinierte_Form    1.179205     <NA>              hieig   \n",
       "214469  <NA>        Deklinierte_Form    1.056128     <NA>              hieig   \n",
       "214470  <NA>        Deklinierte_Form    1.697154     <NA>              hieig   \n",
       "349249  <NA>        Deklinierte_Form    0.215376     <NA>  Consilium abeundi   \n",
       "\n",
       "              lemma_lower lemma_tagZZ               msg  \n",
       "446                animal           A  Schrott_lemma_id  \n",
       "496              material           A  Schrott_lemma_id  \n",
       "149319               gand           N  Schrott_lemma_id  \n",
       "214466              hieig           A  Schrott_lemma_id  \n",
       "214467              hieig           A  Schrott_lemma_id  \n",
       "214468              hieig           A  Schrott_lemma_id  \n",
       "214469              hieig           A  Schrott_lemma_id  \n",
       "214470              hieig           A  Schrott_lemma_id  \n",
       "349249  consilium abeundi           N  Schrott_lemma_id  "
      ]
     },
     "execution_count": 82,
     "metadata": {},
     "output_type": "execute_result"
    }
   ],
   "source": [
    "# Schrott löschen\n",
    "mask = wiktionary_nolemma.lemma_id.isnull()\n",
    "check_mask( wiktionary_nolemma, mask, 0, 20)\n",
    "\n",
    "msg = 'Schrott_lemma_id'\n",
    "wiktionary_nolemma, wiktionary_nolemma_trash = pak.move_rows(wiktionary_nolemma, wiktionary_nolemma_trash, mask, msg)\n",
    "grid(wiktionary_nolemma_trash, msg)"
   ]
  },
  {
   "cell_type": "code",
   "execution_count": 83,
   "id": "d215bb64-dae8-4656-b042-32203ebeca65",
   "metadata": {
    "execution": {
     "iopub.execute_input": "2023-03-03T07:03:34.615529Z",
     "iopub.status.busy": "2023-03-03T07:03:34.615281Z",
     "iopub.status.idle": "2023-03-03T07:03:34.660902Z",
     "shell.execute_reply": "2023-03-03T07:03:34.660250Z",
     "shell.execute_reply.started": "2023-03-03T07:03:34.615507Z"
    },
    "tags": []
   },
   "outputs": [
    {
     "data": {
      "text/html": [
       "<div>\n",
       "<style scoped>\n",
       "    .dataframe tbody tr th:only-of-type {\n",
       "        vertical-align: middle;\n",
       "    }\n",
       "\n",
       "    .dataframe tbody tr th {\n",
       "        vertical-align: top;\n",
       "    }\n",
       "\n",
       "    .dataframe thead th {\n",
       "        text-align: right;\n",
       "    }\n",
       "</style>\n",
       "<table border=\"1\" class=\"dataframe\">\n",
       "  <thead>\n",
       "    <tr style=\"text-align: right;\">\n",
       "      <th></th>\n",
       "      <th>nolemma_id</th>\n",
       "      <th>lex</th>\n",
       "      <th>tag</th>\n",
       "      <th>tag_0</th>\n",
       "      <th>tag_1</th>\n",
       "      <th>tagZ</th>\n",
       "      <th>tagZZ</th>\n",
       "      <th>member</th>\n",
       "      <th>data_score</th>\n",
       "      <th>lemma_id</th>\n",
       "      <th>lemma</th>\n",
       "      <th>lemma_lower</th>\n",
       "      <th>lemma_tagZZ</th>\n",
       "      <th>msg</th>\n",
       "    </tr>\n",
       "  </thead>\n",
       "  <tbody>\n",
       "  </tbody>\n",
       "</table>\n",
       "</div>"
      ],
      "text/plain": [
       "Empty DataFrame\n",
       "Columns: [nolemma_id, lex, tag, tag_0, tag_1, tagZ, tagZZ, member, data_score, lemma_id, lemma, lemma_lower, lemma_tagZZ, msg]\n",
       "Index: []"
      ]
     },
     "execution_count": 83,
     "metadata": {},
     "output_type": "execute_result"
    }
   ],
   "source": [
    "# suche_debug wiktionary_nolemma\n",
    "mask = wiktionary_nolemma_trash.lemma.isin(suche_debug)\n",
    "wiktionary_nolemma_trash[mask]"
   ]
  },
  {
   "cell_type": "code",
   "execution_count": 84,
   "id": "f3785a33",
   "metadata": {
    "execution": {
     "iopub.execute_input": "2023-03-03T07:03:34.662116Z",
     "iopub.status.busy": "2023-03-03T07:03:34.661867Z",
     "iopub.status.idle": "2023-03-03T07:03:40.432563Z",
     "shell.execute_reply": "2023-03-03T07:03:40.431900Z",
     "shell.execute_reply.started": "2023-03-03T07:03:34.662094Z"
    },
    "tags": []
   },
   "outputs": [
    {
     "name": "stdout",
     "output_type": "stream",
     "text": [
      "17 rows out of 667548\n"
     ]
    },
    {
     "data": {
      "text/html": [
       "<div>\n",
       "<style scoped>\n",
       "    .dataframe tbody tr th:only-of-type {\n",
       "        vertical-align: middle;\n",
       "    }\n",
       "\n",
       "    .dataframe tbody tr th {\n",
       "        vertical-align: top;\n",
       "    }\n",
       "\n",
       "    .dataframe thead th {\n",
       "        text-align: right;\n",
       "    }\n",
       "</style>\n",
       "<table border=\"1\" class=\"dataframe\">\n",
       "  <thead>\n",
       "    <tr style=\"text-align: right;\">\n",
       "      <th></th>\n",
       "      <th>nolemma_id</th>\n",
       "      <th>lex</th>\n",
       "      <th>tag</th>\n",
       "      <th>tag_0</th>\n",
       "      <th>tag_1</th>\n",
       "      <th>tagZ</th>\n",
       "      <th>tagZZ</th>\n",
       "      <th>member</th>\n",
       "      <th>data_score</th>\n",
       "      <th>lemma_id</th>\n",
       "      <th>lemma</th>\n",
       "      <th>lemma_lower</th>\n",
       "      <th>lemma_tagZZ</th>\n",
       "    </tr>\n",
       "  </thead>\n",
       "  <tbody>\n",
       "    <tr>\n",
       "      <th>0</th>\n",
       "      <td>lieben_1</td>\n",
       "      <td>lieben</td>\n",
       "      <td>LEX_A</td>\n",
       "      <td>LEX_A</td>\n",
       "      <td>ynV0OZiWC2</td>\n",
       "      <td>&lt;NA&gt;</td>\n",
       "      <td></td>\n",
       "      <td>Deklinierte_Form</td>\n",
       "      <td>0.311824</td>\n",
       "      <td>lieb</td>\n",
       "      <td>lieb</td>\n",
       "      <td>lieb</td>\n",
       "      <td>A</td>\n",
       "    </tr>\n",
       "    <tr>\n",
       "      <th>1</th>\n",
       "      <td>Polen_1</td>\n",
       "      <td>Polen</td>\n",
       "      <td>LEX_A</td>\n",
       "      <td>LEX_A</td>\n",
       "      <td>5w3A1beuqj</td>\n",
       "      <td>&lt;NA&gt;</td>\n",
       "      <td></td>\n",
       "      <td>Deklinierte_Form</td>\n",
       "      <td>0.113761</td>\n",
       "      <td>Pole</td>\n",
       "      <td>Pole</td>\n",
       "      <td>pole</td>\n",
       "      <td>N</td>\n",
       "    </tr>\n",
       "    <tr>\n",
       "      <th>1360</th>\n",
       "      <td>Juden</td>\n",
       "      <td>Juden</td>\n",
       "      <td>LEX_A</td>\n",
       "      <td>LEX_A</td>\n",
       "      <td>gwunMD9fEs</td>\n",
       "      <td>&lt;NA&gt;</td>\n",
       "      <td></td>\n",
       "      <td>Deklinierte_Form</td>\n",
       "      <td>0.742736</td>\n",
       "      <td>Jude</td>\n",
       "      <td>Jude</td>\n",
       "      <td>jude</td>\n",
       "      <td>N</td>\n",
       "    </tr>\n",
       "    <tr>\n",
       "      <th>7905</th>\n",
       "      <td>fernzusehen</td>\n",
       "      <td>fernzusehen</td>\n",
       "      <td>LEX_V</td>\n",
       "      <td>LEX_V</td>\n",
       "      <td>bXzuzo5Qbt</td>\n",
       "      <td>&lt;NA&gt;</td>\n",
       "      <td></td>\n",
       "      <td>Erweiterter_Infinitiv Verb</td>\n",
       "      <td>0.457612</td>\n",
       "      <td>fernsehen</td>\n",
       "      <td>fernsehen</td>\n",
       "      <td>fernsehen</td>\n",
       "      <td>V</td>\n",
       "    </tr>\n",
       "    <tr>\n",
       "      <th>8276</th>\n",
       "      <td>aufzusteigen</td>\n",
       "      <td>aufzusteigen</td>\n",
       "      <td>LEX_V</td>\n",
       "      <td>LEX_V</td>\n",
       "      <td>qo1TusAyfw</td>\n",
       "      <td>&lt;NA&gt;</td>\n",
       "      <td></td>\n",
       "      <td>Erweiterter_Infinitiv Verb</td>\n",
       "      <td>0.565050</td>\n",
       "      <td>aufsteigen</td>\n",
       "      <td>aufsteigen</td>\n",
       "      <td>aufsteigen</td>\n",
       "      <td>V</td>\n",
       "    </tr>\n",
       "    <tr>\n",
       "      <th>148742</th>\n",
       "      <td>schwuren</td>\n",
       "      <td>schwuren</td>\n",
       "      <td>LEX_V</td>\n",
       "      <td>LEX_V</td>\n",
       "      <td>zzzkbjmvrP</td>\n",
       "      <td>&lt;NA&gt;</td>\n",
       "      <td></td>\n",
       "      <td>Konjugierte_Form Verb</td>\n",
       "      <td>1.214015</td>\n",
       "      <td>schwören</td>\n",
       "      <td>schwören</td>\n",
       "      <td>schwören</td>\n",
       "      <td>V</td>\n",
       "    </tr>\n",
       "    <tr>\n",
       "      <th>188320</th>\n",
       "      <td>α-Zerfällen</td>\n",
       "      <td>α-Zerfällen</td>\n",
       "      <td>LEX_A</td>\n",
       "      <td>LEX_A</td>\n",
       "      <td>M7Gsp3XIzt</td>\n",
       "      <td>&lt;NA&gt;</td>\n",
       "      <td></td>\n",
       "      <td>Deklinierte_Form</td>\n",
       "      <td>0.441083</td>\n",
       "      <td>α-Zerfall</td>\n",
       "      <td>α-Zerfall</td>\n",
       "      <td>α-zerfall</td>\n",
       "      <td>N</td>\n",
       "    </tr>\n",
       "    <tr>\n",
       "      <th>307997</th>\n",
       "      <td>hallten</td>\n",
       "      <td>hallten</td>\n",
       "      <td>LEX_V</td>\n",
       "      <td>LEX_V</td>\n",
       "      <td>00XCAn0nub</td>\n",
       "      <td>&lt;NA&gt;</td>\n",
       "      <td></td>\n",
       "      <td>Konjugierte_Form Verb</td>\n",
       "      <td>0.755132</td>\n",
       "      <td>hallen</td>\n",
       "      <td>hallen</td>\n",
       "      <td>hallen</td>\n",
       "      <td>V</td>\n",
       "    </tr>\n",
       "    <tr>\n",
       "      <th>404492</th>\n",
       "      <td>10-jährigem</td>\n",
       "      <td>10-jährigem</td>\n",
       "      <td>LEX_A</td>\n",
       "      <td>LEX_A</td>\n",
       "      <td>jUtfKH4S0A</td>\n",
       "      <td>&lt;NA&gt;</td>\n",
       "      <td></td>\n",
       "      <td>Deklinierte_Form</td>\n",
       "      <td>0.734471</td>\n",
       "      <td>10-jährig</td>\n",
       "      <td>10-jährig</td>\n",
       "      <td>10-jährig</td>\n",
       "      <td>A</td>\n",
       "    </tr>\n",
       "    <tr>\n",
       "      <th>438477</th>\n",
       "      <td>durchrängt</td>\n",
       "      <td>durchrängt</td>\n",
       "      <td>LEX_V</td>\n",
       "      <td>LEX_V</td>\n",
       "      <td>vEhj99W6on</td>\n",
       "      <td>&lt;NA&gt;</td>\n",
       "      <td></td>\n",
       "      <td>Konjugierte_Form Verb</td>\n",
       "      <td>0.863383</td>\n",
       "      <td>durchringen</td>\n",
       "      <td>durchringen</td>\n",
       "      <td>durchringen</td>\n",
       "      <td>V</td>\n",
       "    </tr>\n",
       "    <tr>\n",
       "      <th>574421</th>\n",
       "      <td>-abelste</td>\n",
       "      <td>-abelste</td>\n",
       "      <td>ZFIX LEX_A</td>\n",
       "      <td>ZFIX</td>\n",
       "      <td>LEX_A</td>\n",
       "      <td>FIX</td>\n",
       "      <td>Z</td>\n",
       "      <td>Deklinierte_Form</td>\n",
       "      <td>1.736897</td>\n",
       "      <td>-abel</td>\n",
       "      <td>-abel</td>\n",
       "      <td>-abel</td>\n",
       "      <td>Z</td>\n",
       "    </tr>\n",
       "    <tr>\n",
       "      <th>583645</th>\n",
       "      <td>kutschierendem</td>\n",
       "      <td>kutschierendem</td>\n",
       "      <td>LEX_A</td>\n",
       "      <td>LEX_A</td>\n",
       "      <td>000LKEaCzD</td>\n",
       "      <td>&lt;NA&gt;</td>\n",
       "      <td></td>\n",
       "      <td>Deklinierte_Form</td>\n",
       "      <td>0.839843</td>\n",
       "      <td>kutschierend</td>\n",
       "      <td>kutschierend</td>\n",
       "      <td>kutschierend</td>\n",
       "      <td>A</td>\n",
       "    </tr>\n",
       "    <tr>\n",
       "      <th>667535</th>\n",
       "      <td>Junge_2</td>\n",
       "      <td>Junge</td>\n",
       "      <td>NN</td>\n",
       "      <td>NN</td>\n",
       "      <td>yM1L17B263</td>\n",
       "      <td>NOM</td>\n",
       "      <td>N</td>\n",
       "      <td>Substantiv</td>\n",
       "      <td>0.095382</td>\n",
       "      <td>Junges</td>\n",
       "      <td>Junges</td>\n",
       "      <td>junges</td>\n",
       "      <td>N</td>\n",
       "    </tr>\n",
       "    <tr>\n",
       "      <th>667538</th>\n",
       "      <td>zu_viele</td>\n",
       "      <td>zu viele</td>\n",
       "      <td>TODO</td>\n",
       "      <td>TODO</td>\n",
       "      <td>B7iKjBrNnY</td>\n",
       "      <td>X_todo</td>\n",
       "      <td>X</td>\n",
       "      <td>Wortverbindung</td>\n",
       "      <td>1.020573</td>\n",
       "      <td>zu_viel</td>\n",
       "      <td>zu viel</td>\n",
       "      <td>zu viel</td>\n",
       "      <td>A</td>\n",
       "    </tr>\n",
       "    <tr>\n",
       "      <th>667545</th>\n",
       "      <td>einer</td>\n",
       "      <td>einer</td>\n",
       "      <td>LEX_A</td>\n",
       "      <td>LEX_A</td>\n",
       "      <td>jtenrcHzBF</td>\n",
       "      <td>&lt;NA&gt;</td>\n",
       "      <td></td>\n",
       "      <td>Deklinierte_Form Artikel</td>\n",
       "      <td>46.378887</td>\n",
       "      <td>ein</td>\n",
       "      <td>ein</td>\n",
       "      <td>ein</td>\n",
       "      <td>X</td>\n",
       "    </tr>\n",
       "    <tr>\n",
       "      <th>667551</th>\n",
       "      <td>Körpermassen_1</td>\n",
       "      <td>Körpermassen</td>\n",
       "      <td>LEX_A</td>\n",
       "      <td>LEX_A</td>\n",
       "      <td>lzfqTfYR1O</td>\n",
       "      <td>&lt;NA&gt;</td>\n",
       "      <td></td>\n",
       "      <td>Deklinierte_Form</td>\n",
       "      <td>0.002013</td>\n",
       "      <td>Körpermasse</td>\n",
       "      <td>Körpermasse</td>\n",
       "      <td>körpermasse</td>\n",
       "      <td>N</td>\n",
       "    </tr>\n",
       "    <tr>\n",
       "      <th>667556</th>\n",
       "      <td>durchfegt_1</td>\n",
       "      <td>durchfegt</td>\n",
       "      <td>LEX_V</td>\n",
       "      <td>LEX_V</td>\n",
       "      <td>lLr9qblbI1</td>\n",
       "      <td>&lt;NA&gt;</td>\n",
       "      <td></td>\n",
       "      <td>Konjugierte_Form Verb</td>\n",
       "      <td>0.017922</td>\n",
       "      <td>durchfegen</td>\n",
       "      <td>durchfegen</td>\n",
       "      <td>durchfegen</td>\n",
       "      <td>V</td>\n",
       "    </tr>\n",
       "  </tbody>\n",
       "</table>\n",
       "</div>"
      ],
      "text/plain": [
       "            nolemma_id             lex         tag  tag_0       tag_1    tagZ  \\\n",
       "0             lieben_1          lieben       LEX_A  LEX_A  ynV0OZiWC2    <NA>   \n",
       "1              Polen_1           Polen       LEX_A  LEX_A  5w3A1beuqj    <NA>   \n",
       "1360             Juden           Juden       LEX_A  LEX_A  gwunMD9fEs    <NA>   \n",
       "7905       fernzusehen     fernzusehen       LEX_V  LEX_V  bXzuzo5Qbt    <NA>   \n",
       "8276      aufzusteigen    aufzusteigen       LEX_V  LEX_V  qo1TusAyfw    <NA>   \n",
       "148742        schwuren        schwuren       LEX_V  LEX_V  zzzkbjmvrP    <NA>   \n",
       "188320     α-Zerfällen     α-Zerfällen       LEX_A  LEX_A  M7Gsp3XIzt    <NA>   \n",
       "307997         hallten         hallten       LEX_V  LEX_V  00XCAn0nub    <NA>   \n",
       "404492     10-jährigem     10-jährigem       LEX_A  LEX_A  jUtfKH4S0A    <NA>   \n",
       "438477      durchrängt      durchrängt       LEX_V  LEX_V  vEhj99W6on    <NA>   \n",
       "574421        -abelste        -abelste  ZFIX LEX_A   ZFIX       LEX_A     FIX   \n",
       "583645  kutschierendem  kutschierendem       LEX_A  LEX_A  000LKEaCzD    <NA>   \n",
       "667535         Junge_2           Junge          NN     NN  yM1L17B263     NOM   \n",
       "667538        zu_viele        zu viele        TODO   TODO  B7iKjBrNnY  X_todo   \n",
       "667545           einer           einer       LEX_A  LEX_A  jtenrcHzBF    <NA>   \n",
       "667551  Körpermassen_1    Körpermassen       LEX_A  LEX_A  lzfqTfYR1O    <NA>   \n",
       "667556     durchfegt_1       durchfegt       LEX_V  LEX_V  lLr9qblbI1    <NA>   \n",
       "\n",
       "       tagZZ                      member  data_score      lemma_id  \\\n",
       "0                       Deklinierte_Form    0.311824          lieb   \n",
       "1                       Deklinierte_Form    0.113761          Pole   \n",
       "1360                    Deklinierte_Form    0.742736          Jude   \n",
       "7905          Erweiterter_Infinitiv Verb    0.457612     fernsehen   \n",
       "8276          Erweiterter_Infinitiv Verb    0.565050    aufsteigen   \n",
       "148742             Konjugierte_Form Verb    1.214015      schwören   \n",
       "188320                  Deklinierte_Form    0.441083     α-Zerfall   \n",
       "307997             Konjugierte_Form Verb    0.755132        hallen   \n",
       "404492                  Deklinierte_Form    0.734471     10-jährig   \n",
       "438477             Konjugierte_Form Verb    0.863383   durchringen   \n",
       "574421     Z            Deklinierte_Form    1.736897         -abel   \n",
       "583645                  Deklinierte_Form    0.839843  kutschierend   \n",
       "667535     N                  Substantiv    0.095382        Junges   \n",
       "667538     X              Wortverbindung    1.020573       zu_viel   \n",
       "667545          Deklinierte_Form Artikel   46.378887           ein   \n",
       "667551                  Deklinierte_Form    0.002013   Körpermasse   \n",
       "667556             Konjugierte_Form Verb    0.017922    durchfegen   \n",
       "\n",
       "               lemma   lemma_lower lemma_tagZZ  \n",
       "0               lieb          lieb           A  \n",
       "1               Pole          pole           N  \n",
       "1360            Jude          jude           N  \n",
       "7905       fernsehen     fernsehen           V  \n",
       "8276      aufsteigen    aufsteigen           V  \n",
       "148742      schwören      schwören           V  \n",
       "188320     α-Zerfall     α-zerfall           N  \n",
       "307997        hallen        hallen           V  \n",
       "404492     10-jährig     10-jährig           A  \n",
       "438477   durchringen   durchringen           V  \n",
       "574421         -abel         -abel           Z  \n",
       "583645  kutschierend  kutschierend           A  \n",
       "667535        Junges        junges           N  \n",
       "667538       zu viel       zu viel           A  \n",
       "667545           ein           ein           X  \n",
       "667551   Körpermasse   körpermasse           N  \n",
       "667556    durchfegen    durchfegen           V  "
      ]
     },
     "execution_count": 84,
     "metadata": {},
     "output_type": "execute_result"
    }
   ],
   "source": [
    "grid(wiktionary_nolemma, pak.sample)"
   ]
  },
  {
   "cell_type": "code",
   "execution_count": 85,
   "id": "3ab41517-8c30-47d4-beb8-7b54c547fe79",
   "metadata": {
    "execution": {
     "iopub.execute_input": "2023-03-03T07:03:40.436233Z",
     "iopub.status.busy": "2023-03-03T07:03:40.435904Z",
     "iopub.status.idle": "2023-03-03T07:03:40.545266Z",
     "shell.execute_reply": "2023-03-03T07:03:40.544411Z",
     "shell.execute_reply.started": "2023-03-03T07:03:40.436205Z"
    },
    "tags": []
   },
   "outputs": [],
   "source": [
    "# fillna\n",
    "wiktionary_nolemma['tagZ'] = wiktionary_nolemma.tagZ.fillna('')"
   ]
  },
  {
   "cell_type": "markdown",
   "id": "8495a8b9-33b7-44e0-b1af-b3fc8d95c7d9",
   "metadata": {},
   "source": [
    "### Trash erzeugen"
   ]
  },
  {
   "cell_type": "code",
   "execution_count": 86,
   "id": "71c1f6ab-b7ae-4271-a766-2ce0189d1347",
   "metadata": {
    "execution": {
     "iopub.execute_input": "2023-03-03T07:03:40.546904Z",
     "iopub.status.busy": "2023-03-03T07:03:40.546405Z",
     "iopub.status.idle": "2023-03-03T07:03:40.604555Z",
     "shell.execute_reply": "2023-03-03T07:03:40.603919Z",
     "shell.execute_reply.started": "2023-03-03T07:03:40.546874Z"
    },
    "tags": []
   },
   "outputs": [],
   "source": [
    "# trash erzeugen     \n",
    "wiktionary_lemma_trash   = wiktionary_lemma.head(0)\n",
    "wiktionary_lemma_trash['msg'] = None\n",
    "\n",
    "# ist bereits erzeugt\n",
    "#wiktionary_nolemma_trash = wiktionary_nolemma.head(0)\n",
    "#wiktionary_nolemma_trash['msg'] = None\n",
    "\n",
    "wiktionary_merkmal_trash = wiktionary_merkmal.head(0)\n",
    "wiktionary_merkmal_trash['msg'] = None\n",
    "\n",
    "wiktionary_merkmal_text_trash = wiktionary_merkmal_text.head(0)\n",
    "wiktionary_merkmal_text_trash['msg'] = None"
   ]
  },
  {
   "cell_type": "markdown",
   "id": "b527c36a-0be4-4657-a9fd-6814edb5f7d4",
   "metadata": {},
   "source": [
    "### wiktionary_merkmal\n",
    "* Es wird versucht, möglichst jedes `data` in wiktionary_lemma oder wiktionary_nolemma zu finden und diese id als `data_id` zu schreiben.\n",
    "* Zuerst werden die data_id spezieller Fälle geschieben, anschließend alle anderen data_id."
   ]
  },
  {
   "cell_type": "code",
   "execution_count": 87,
   "id": "58016f3c-a8cd-4dc1-8247-d74e5830f1f8",
   "metadata": {
    "execution": {
     "iopub.execute_input": "2023-03-03T07:03:40.605646Z",
     "iopub.status.busy": "2023-03-03T07:03:40.605405Z",
     "iopub.status.idle": "2023-03-03T07:03:41.719389Z",
     "shell.execute_reply": "2023-03-03T07:03:41.717824Z",
     "shell.execute_reply.started": "2023-03-03T07:03:40.605624Z"
    },
    "tags": []
   },
   "outputs": [
    {
     "data": {
      "text/plain": [
       "num    3021721\n",
       "dtype: int64"
      ]
     },
     "execution_count": 87,
     "metadata": {},
     "output_type": "execute_result"
    }
   ],
   "source": [
    "pak.nnan(wiktionary_merkmal)"
   ]
  },
  {
   "cell_type": "code",
   "execution_count": 88,
   "id": "d6632193-3427-4fa4-9fc0-6b9a6ec009c4",
   "metadata": {
    "execution": {
     "iopub.execute_input": "2023-03-03T07:03:41.721989Z",
     "iopub.status.busy": "2023-03-03T07:03:41.721141Z",
     "iopub.status.idle": "2023-03-03T07:03:42.543456Z",
     "shell.execute_reply": "2023-03-03T07:03:42.542870Z",
     "shell.execute_reply.started": "2023-03-03T07:03:41.721593Z"
    },
    "tags": []
   },
   "outputs": [],
   "source": [
    "# fillna\n",
    "wiktionary_merkmal['num']        = wiktionary_merkmal.num.fillna('')\n",
    "wiktionary_merkmal['data_id']    = wiktionary_merkmal.data_id.fillna('')"
   ]
  },
  {
   "cell_type": "code",
   "execution_count": 89,
   "id": "6720a060-aaca-41c6-ac28-85a699edc7f9",
   "metadata": {
    "execution": {
     "iopub.execute_input": "2023-03-03T07:03:42.544526Z",
     "iopub.status.busy": "2023-03-03T07:03:42.544298Z",
     "iopub.status.idle": "2023-03-03T07:03:44.476493Z",
     "shell.execute_reply": "2023-03-03T07:03:44.475863Z",
     "shell.execute_reply.started": "2023-03-03T07:03:42.544504Z"
    },
    "tags": []
   },
   "outputs": [],
   "source": [
    "# Hochkomma in data streichen\n",
    "mask1 = wiktionary_merkmal.data.str.contains(\"'\")\n",
    "mask2 = wiktionary_merkmal.merkmal.isin(['def'])\n",
    "mask = mask1  &  mask2\n",
    "wiktionary_merkmal.loc[mask,'data'] = pak.remove_str(wiktionary_merkmal[mask].data,\"'\")"
   ]
  },
  {
   "cell_type": "code",
   "execution_count": 90,
   "id": "554b566a-21f1-4b26-894f-d798e6653048",
   "metadata": {
    "execution": {
     "iopub.execute_input": "2023-03-03T07:03:44.477528Z",
     "iopub.status.busy": "2023-03-03T07:03:44.477305Z",
     "iopub.status.idle": "2023-03-03T07:03:52.913168Z",
     "shell.execute_reply": "2023-03-03T07:03:52.912499Z",
     "shell.execute_reply.started": "2023-03-03T07:03:44.477508Z"
    },
    "tags": []
   },
   "outputs": [
    {
     "name": "stdout",
     "output_type": "stream",
     "text": [
      "Move 13533 rows from 5176185\n"
     ]
    }
   ],
   "source": [
    "# Dups entfernen\n",
    "mask = wiktionary_merkmal.duplicated(subset=['lemma_id','merkmal','data','num','meta'])\n",
    "wiktionary_merkmal, wiktionary_merkmal_trash = pak.move_rows(wiktionary_merkmal, wiktionary_merkmal_trash, mask, 'dup')"
   ]
  },
  {
   "cell_type": "code",
   "execution_count": 91,
   "id": "54477d1b-d997-414e-9416-5c4e86c0c8e4",
   "metadata": {
    "execution": {
     "iopub.execute_input": "2023-03-03T07:03:52.914118Z",
     "iopub.status.busy": "2023-03-03T07:03:52.913892Z",
     "iopub.status.idle": "2023-03-03T07:04:07.620313Z",
     "shell.execute_reply": "2023-03-03T07:04:07.619680Z",
     "shell.execute_reply.started": "2023-03-03T07:03:52.914098Z"
    },
    "tags": []
   },
   "outputs": [
    {
     "name": "stdout",
     "output_type": "stream",
     "text": [
      "update_col: 2774890 cells written into new column\n"
     ]
    }
   ],
   "source": [
    "# lemma_tag schreiben\n",
    "wiktionary_merkmal = pak.update_col( df_to =      wiktionary_merkmal, \n",
    "                                     df_from =    wiktionary_lemma, \n",
    "                                     on =         'lemma_id',\n",
    "                                     col =        'tag',\n",
    "                                     col_rename = 'lemma_tag',\n",
    "                                            )\n",
    "wiktionary_merkmal = pak.move_cols(wiktionary_merkmal,'lemma_tag','lemma_id')\n",
    "wiktionary_merkmal['lemma_tag'] = wiktionary_merkmal.lemma_tag.fillna('')"
   ]
  },
  {
   "cell_type": "code",
   "execution_count": 92,
   "id": "8ad96f33-4927-41f5-b959-a295ade52f0a",
   "metadata": {
    "execution": {
     "iopub.execute_input": "2023-03-03T07:04:07.621365Z",
     "iopub.status.busy": "2023-03-03T07:04:07.621141Z",
     "iopub.status.idle": "2023-03-03T07:04:07.967306Z",
     "shell.execute_reply": "2023-03-03T07:04:07.966593Z",
     "shell.execute_reply.started": "2023-03-03T07:04:07.621344Z"
    },
    "tags": []
   },
   "outputs": [],
   "source": [
    "# Vergebene data_id eindeutig?\n",
    "mask_notempty = wiktionary_merkmal.data_id != ''\n",
    "a = pak.same_but_different(wiktionary_merkmal[mask_notempty],same='data_id',different='data')\n",
    "assert a.shape[0] == 0\n",
    "#grid(a)"
   ]
  },
  {
   "cell_type": "code",
   "execution_count": 93,
   "id": "d5587fea-637e-42b5-8d42-61f57c97ff1f",
   "metadata": {
    "execution": {
     "iopub.execute_input": "2023-03-03T07:04:07.970323Z",
     "iopub.status.busy": "2023-03-03T07:04:07.969439Z",
     "iopub.status.idle": "2023-03-03T07:04:12.780731Z",
     "shell.execute_reply": "2023-03-03T07:04:12.780032Z",
     "shell.execute_reply.started": "2023-03-03T07:04:07.970288Z"
    },
    "tags": []
   },
   "outputs": [
    {
     "name": "stdout",
     "output_type": "stream",
     "text": [
      "update_col: col_score lemma_score applied, 1164 records less!\n",
      "update_col: 814 cells written into existing column\n"
     ]
    }
   ],
   "source": [
    "# Nur Adjektive / Ptz1: data_id schreiben aus wiktionary_lemma\n",
    "mask_L = wiktionary_lemma.tagZ == 'ADJ'\n",
    "mask_M = wiktionary_merkmal.merkmal.str.contains('Ptz1')  |  wiktionary_merkmal.merkmal.str.contains('Ptz2')\n",
    "\n",
    "wiktionary_merkmal.loc[mask_M] = pak.update_col( df_to =      wiktionary_merkmal[mask_M], \n",
    "                                                 df_from =    wiktionary_lemma[mask_L], \n",
    "                                                 left_on =    'data',\n",
    "                                                 right_on =   'lemma',\n",
    "                                                 col =        'lemma_id',\n",
    "                                                 col_rename = 'data_id',\n",
    "                                                 col_score =  'lemma_score',\n",
    "                                                 cond =       'null',                                       \n",
    "                                            )"
   ]
  },
  {
   "cell_type": "code",
   "execution_count": 94,
   "id": "06311add-2528-49dc-9336-f04972e67ca6",
   "metadata": {
    "execution": {
     "iopub.execute_input": "2023-03-03T07:04:12.781881Z",
     "iopub.status.busy": "2023-03-03T07:04:12.781604Z",
     "iopub.status.idle": "2023-03-03T07:04:12.830663Z",
     "shell.execute_reply": "2023-03-03T07:04:12.829955Z",
     "shell.execute_reply.started": "2023-03-03T07:04:12.781855Z"
    }
   },
   "outputs": [],
   "source": [
    "# mask_L = wiktionary_lemma.tagZ == 'ADJ'\n",
    "# mask4 = wiktionary_lemma.data_id == suche_L_id\n",
    "# mask = mask_L  &  mask4\n",
    "# wiktionary_lemma[mask]"
   ]
  },
  {
   "cell_type": "code",
   "execution_count": 95,
   "id": "5e9e640f-cefe-4465-b872-bf600fa99fec",
   "metadata": {
    "execution": {
     "iopub.execute_input": "2023-03-03T07:04:12.836984Z",
     "iopub.status.busy": "2023-03-03T07:04:12.834520Z",
     "iopub.status.idle": "2023-03-03T07:04:13.200741Z",
     "shell.execute_reply": "2023-03-03T07:04:13.200046Z",
     "shell.execute_reply.started": "2023-03-03T07:04:12.836946Z"
    },
    "tags": []
   },
   "outputs": [],
   "source": [
    "# Vergebene data_id eindeutig?\n",
    "mask_notempty = wiktionary_merkmal.data_id != ''\n",
    "a = pak.same_but_different(wiktionary_merkmal[mask_notempty],same='data_id',different='data')\n",
    "assert a.shape[0] == 0\n",
    "#grid(a)"
   ]
  },
  {
   "cell_type": "code",
   "execution_count": 96,
   "id": "9546e157-28b9-4135-8aae-db21422a4de8",
   "metadata": {
    "execution": {
     "iopub.execute_input": "2023-03-03T07:04:13.201905Z",
     "iopub.status.busy": "2023-03-03T07:04:13.201645Z",
     "iopub.status.idle": "2023-03-03T07:04:13.251057Z",
     "shell.execute_reply": "2023-03-03T07:04:13.249842Z",
     "shell.execute_reply.started": "2023-03-03T07:04:13.201878Z"
    },
    "tags": []
   },
   "outputs": [],
   "source": [
    "#mask = wiktionary_merkmal.data == 'anscheinend'\n",
    "#wiktionary_merkmal[mask]"
   ]
  },
  {
   "cell_type": "code",
   "execution_count": 97,
   "id": "dab90464-bafb-4219-afd8-642db5a8846d",
   "metadata": {
    "execution": {
     "iopub.execute_input": "2023-03-03T07:04:13.266096Z",
     "iopub.status.busy": "2023-03-03T07:04:13.261808Z",
     "iopub.status.idle": "2023-03-03T07:04:31.942869Z",
     "shell.execute_reply": "2023-03-03T07:04:31.942141Z",
     "shell.execute_reply.started": "2023-03-03T07:04:13.266021Z"
    },
    "tags": []
   },
   "outputs": [
    {
     "name": "stdout",
     "output_type": "stream",
     "text": [
      "update_col: col_score lemma_score applied, 3104 records less!\n",
      "update_col: 1032985 cells written into existing column\n"
     ]
    }
   ],
   "source": [
    "# data_id schreiben aus wiktionary_lemma, tag muss übereinstimmen\n",
    "wiktionary_merkmal = pak.update_col( df_to =      wiktionary_merkmal, \n",
    "                                     df_from =    wiktionary_lemma, \n",
    "                                     left_on =    ['data','lemma_tag'],\n",
    "                                     right_on =   ['lemma','tag'],\n",
    "                                     col =        'lemma_id',\n",
    "                                     col_rename = 'data_id',\n",
    "                                     col_score =  'lemma_score',\n",
    "                                     cond =       'null',                                    \n",
    "                                            )"
   ]
  },
  {
   "cell_type": "code",
   "execution_count": 98,
   "id": "9a01f644-8495-401e-a0f8-b5b03bffe70c",
   "metadata": {
    "execution": {
     "iopub.execute_input": "2023-03-03T07:04:31.943930Z",
     "iopub.status.busy": "2023-03-03T07:04:31.943702Z",
     "iopub.status.idle": "2023-03-03T07:04:34.047876Z",
     "shell.execute_reply": "2023-03-03T07:04:34.047210Z",
     "shell.execute_reply.started": "2023-03-03T07:04:31.943909Z"
    },
    "tags": []
   },
   "outputs": [],
   "source": [
    "# Vergebene data_id eindeutig?\n",
    "mask_notempty = wiktionary_merkmal.data_id != ''\n",
    "a = pak.same_but_different(wiktionary_merkmal[mask_notempty],same='data_id',different='data')\n",
    "assert a.shape[0] == 0\n",
    "#grid(a)"
   ]
  },
  {
   "cell_type": "code",
   "execution_count": 99,
   "id": "10bbea8e-8c9f-487b-9270-e69f1728107f",
   "metadata": {
    "execution": {
     "iopub.execute_input": "2023-03-03T07:04:34.052070Z",
     "iopub.status.busy": "2023-03-03T07:04:34.051709Z",
     "iopub.status.idle": "2023-03-03T07:04:52.001738Z",
     "shell.execute_reply": "2023-03-03T07:04:52.001112Z",
     "shell.execute_reply.started": "2023-03-03T07:04:34.052047Z"
    },
    "tags": []
   },
   "outputs": [
    {
     "name": "stdout",
     "output_type": "stream",
     "text": [
      "update_col: col_score lemma_score applied, 4844 records less!\n",
      "update_col: 1030550 cells written into existing column\n"
     ]
    }
   ],
   "source": [
    "# data_id ergänzen aus wiktionary_lemma, alle sonstigen\n",
    "wiktionary_merkmal = pak.update_col( df_to =      wiktionary_merkmal, \n",
    "                                     df_from =    wiktionary_lemma, \n",
    "                                     left_on =    'data',\n",
    "                                     right_on =   'lemma',\n",
    "                                     col =        'lemma_id',\n",
    "                                     col_rename = 'data_id',\n",
    "                                     col_score =  'lemma_score',\n",
    "                                     cond =       'null',\n",
    "                                            )"
   ]
  },
  {
   "cell_type": "code",
   "execution_count": 100,
   "id": "876a777f-1b4e-4940-9fe2-464d742ca08a",
   "metadata": {
    "execution": {
     "iopub.execute_input": "2023-03-03T07:04:52.002708Z",
     "iopub.status.busy": "2023-03-03T07:04:52.002493Z",
     "iopub.status.idle": "2023-03-03T07:04:54.965152Z",
     "shell.execute_reply": "2023-03-03T07:04:54.964516Z",
     "shell.execute_reply.started": "2023-03-03T07:04:52.002688Z"
    },
    "tags": []
   },
   "outputs": [],
   "source": [
    "# Vergebene data_id eindeutig?\n",
    "mask_notempty = wiktionary_merkmal.data_id != ''\n",
    "a = pak.same_but_different(wiktionary_merkmal[mask_notempty],same='data_id',different='data')\n",
    "assert a.shape[0] == 0\n",
    "#grid(a)"
   ]
  },
  {
   "cell_type": "code",
   "execution_count": 101,
   "id": "3b3f3cfa-e617-4948-ad04-928dd95c59da",
   "metadata": {
    "execution": {
     "iopub.execute_input": "2023-03-03T07:04:54.966338Z",
     "iopub.status.busy": "2023-03-03T07:04:54.966026Z",
     "iopub.status.idle": "2023-03-03T07:05:15.705873Z",
     "shell.execute_reply": "2023-03-03T07:05:15.705177Z",
     "shell.execute_reply.started": "2023-03-03T07:04:54.966314Z"
    },
    "tags": []
   },
   "outputs": [
    {
     "name": "stdout",
     "output_type": "stream",
     "text": [
      "update_col: col_score data_score applied, 24054 records less!\n",
      "update_col: 631391 cells written into existing column\n"
     ]
    }
   ],
   "source": [
    "# data_id ergänzen aus wiktionary_nolemma\n",
    "wiktionary_merkmal = pak.update_col( df_to =      wiktionary_merkmal, \n",
    "                                     df_from =    wiktionary_nolemma, \n",
    "                                     left_on =    'data',\n",
    "                                     right_on =   'lex',\n",
    "                                     col =        'nolemma_id',\n",
    "                                     col_rename = 'data_id',\n",
    "                                     col_score =  'data_score',\n",
    "                                     cond =       'null',\n",
    "                                            )"
   ]
  },
  {
   "cell_type": "code",
   "execution_count": 102,
   "id": "a1be66a4-37d2-4dfa-89ac-310d32d56677",
   "metadata": {
    "execution": {
     "iopub.execute_input": "2023-03-03T07:05:15.706821Z",
     "iopub.status.busy": "2023-03-03T07:05:15.706610Z",
     "iopub.status.idle": "2023-03-03T07:05:20.144100Z",
     "shell.execute_reply": "2023-03-03T07:05:20.143436Z",
     "shell.execute_reply.started": "2023-03-03T07:05:15.706801Z"
    },
    "tags": []
   },
   "outputs": [],
   "source": [
    "# Vergebene data_id eindeutig?\n",
    "mask_notempty = wiktionary_merkmal.data_id != ''\n",
    "a = pak.same_but_different(wiktionary_merkmal[mask_notempty],same='data_id',different='data')\n",
    "assert a.shape[0] == 0\n",
    "#grid(a)"
   ]
  },
  {
   "cell_type": "code",
   "execution_count": 103,
   "id": "8add8d88-b48e-437d-aaea-552f04032ee5",
   "metadata": {
    "execution": {
     "iopub.execute_input": "2023-03-03T07:05:20.145134Z",
     "iopub.status.busy": "2023-03-03T07:05:20.144920Z",
     "iopub.status.idle": "2023-03-03T07:05:20.189876Z",
     "shell.execute_reply": "2023-03-03T07:05:20.187625Z",
     "shell.execute_reply.started": "2023-03-03T07:05:20.145114Z"
    },
    "tags": []
   },
   "outputs": [],
   "source": [
    "# Backup ziehen\n",
    "#wiktionary_merkmal_bak = wiktionary_merkmal.copy()\n",
    "#wiktionary_merkmal = wiktionary_merkmal_bak.copy()"
   ]
  },
  {
   "cell_type": "code",
   "execution_count": 104,
   "id": "3c11397c-5c07-49e7-8d3f-29feefe0d873",
   "metadata": {
    "execution": {
     "iopub.execute_input": "2023-03-03T07:05:20.193574Z",
     "iopub.status.busy": "2023-03-03T07:05:20.192817Z",
     "iopub.status.idle": "2023-03-03T07:05:24.677172Z",
     "shell.execute_reply": "2023-03-03T07:05:24.676307Z",
     "shell.execute_reply.started": "2023-03-03T07:05:20.193511Z"
    },
    "tags": []
   },
   "outputs": [
    {
     "name": "stdout",
     "output_type": "stream",
     "text": [
      "check_mask:  53780 rows\n"
     ]
    }
   ],
   "source": [
    "# data_id ist Verweis auf das eigene lemma\n",
    "mask1a = wiktionary_merkmal.merkmal.str.endswith(('Sg','Pl','Sg m','Sg f','Sg n', 'Pl m', 'Pl f', 'Pl n'))\n",
    "mask1b = wiktionary_merkmal.merkmal.str.endswith((' ich',' du',' ersiees',' wir',' ihr',' sie'))\n",
    "mask1c = wiktionary_merkmal.merkmal.isin(['VAFIN','lex','weib','gm','klein','abk','Ptz2','männ','alt','alt_1','alt_2',\n",
    "                                          'alt_3','lexAlt','alt_abk','alt_klein','alt_weib','alt_männ','Gen','VVIZU','Superlativ','Komparativ','VMFIN'])\n",
    "mask2 =  wiktionary_merkmal.data_id == ''\n",
    "mask3 =  wiktionary_merkmal.is_lex == True\n",
    "mask = (mask1a | mask1b | mask1c)  &  mask2  &  mask3  \n",
    "check_mask(wiktionary_merkmal,mask,55025)\n",
    "\n",
    "wiktionary_merkmal.loc[mask,'data_id'] = wiktionary_merkmal[mask].lemma_id + '~' + wiktionary_merkmal[mask].data"
   ]
  },
  {
   "cell_type": "code",
   "execution_count": 105,
   "id": "5f96094e-5c8f-44c2-bd24-f7a52aacd5ca",
   "metadata": {
    "execution": {
     "iopub.execute_input": "2023-03-03T07:05:24.678370Z",
     "iopub.status.busy": "2023-03-03T07:05:24.678010Z",
     "iopub.status.idle": "2023-03-03T07:05:24.721360Z",
     "shell.execute_reply": "2023-03-03T07:05:24.720557Z",
     "shell.execute_reply.started": "2023-03-03T07:05:24.678340Z"
    },
    "tags": []
   },
   "outputs": [],
   "source": [
    "#grid(wiktionary_merkmal,mask)"
   ]
  },
  {
   "cell_type": "code",
   "execution_count": 106,
   "id": "84a08a07-1ffd-4f08-be0a-dd816e3c95a8",
   "metadata": {
    "execution": {
     "iopub.execute_input": "2023-03-03T07:05:24.728195Z",
     "iopub.status.busy": "2023-03-03T07:05:24.725362Z",
     "iopub.status.idle": "2023-03-03T07:05:29.339042Z",
     "shell.execute_reply": "2023-03-03T07:05:29.338325Z",
     "shell.execute_reply.started": "2023-03-03T07:05:24.728155Z"
    },
    "tags": []
   },
   "outputs": [],
   "source": [
    "# Vergebene data_id eindeutig?\n",
    "mask_notempty = wiktionary_merkmal.data_id != ''\n",
    "a = pak.same_but_different(wiktionary_merkmal[mask_notempty],same='data_id',different='data')\n",
    "assert a.shape[0] == 0\n",
    "#grid(a)"
   ]
  },
  {
   "cell_type": "code",
   "execution_count": 107,
   "id": "7e20a7b4-8d2e-4109-90c8-7608b0a80df6",
   "metadata": {
    "execution": {
     "iopub.execute_input": "2023-03-03T07:05:29.339983Z",
     "iopub.status.busy": "2023-03-03T07:05:29.339776Z",
     "iopub.status.idle": "2023-03-03T07:05:32.588701Z",
     "shell.execute_reply": "2023-03-03T07:05:32.588096Z",
     "shell.execute_reply.started": "2023-03-03T07:05:29.339963Z"
    },
    "tags": []
   },
   "outputs": [
    {
     "name": "stdout",
     "output_type": "stream",
     "text": [
      "check_mask:  60 rows\n",
      "Move 60 rows from 5162652\n"
     ]
    }
   ],
   "source": [
    "# Artefakte\n",
    "artefakte = ['Nebensatzkonjugation','Hauptsatzkonjugation']\n",
    "mask = wiktionary_merkmal.data.isin(artefakte)\n",
    "check_mask(wiktionary_merkmal,mask,60)\n",
    "wiktionary_merkmal, wiktionary_merkmal_trash = pak.move_rows(wiktionary_merkmal,wiktionary_merkmal_trash, mask, 'artefakte')"
   ]
  },
  {
   "cell_type": "code",
   "execution_count": 108,
   "id": "b56050c6-29b7-44ad-961c-6a747f2a461b",
   "metadata": {
    "execution": {
     "iopub.execute_input": "2023-03-03T07:05:32.589751Z",
     "iopub.status.busy": "2023-03-03T07:05:32.589516Z",
     "iopub.status.idle": "2023-03-03T07:05:35.426170Z",
     "shell.execute_reply": "2023-03-03T07:05:35.425448Z",
     "shell.execute_reply.started": "2023-03-03T07:05:32.589730Z"
    },
    "tags": []
   },
   "outputs": [
    {
     "name": "stdout",
     "output_type": "stream",
     "text": [
      "check_mask:  112 rows\n"
     ]
    }
   ],
   "source": [
    "# gm Merkmale\n",
    "mask1 =  wiktionary_merkmal.merkmal == 'gm'\n",
    "mask2 =  wiktionary_merkmal.data_id == ''\n",
    "mask3 = ~wiktionary_merkmal.data.str.contains('\\(')\n",
    "mask = mask1  &  mask2  &  mask3\n",
    "check_mask(wiktionary_merkmal,mask,114)\n",
    "#grid(wiktionary_merkmal,mask)\n",
    "wiktionary_merkmal.loc[mask,'data_id'] = wiktionary_merkmal[mask].lemma_id + '~' + wiktionary_merkmal[mask].data"
   ]
  },
  {
   "cell_type": "code",
   "execution_count": 109,
   "id": "8b297a15-f436-47e7-9a20-5064aac32363",
   "metadata": {
    "execution": {
     "iopub.execute_input": "2023-03-03T07:05:35.430576Z",
     "iopub.status.busy": "2023-03-03T07:05:35.430149Z",
     "iopub.status.idle": "2023-03-03T07:05:40.023594Z",
     "shell.execute_reply": "2023-03-03T07:05:40.022818Z",
     "shell.execute_reply.started": "2023-03-03T07:05:35.430545Z"
    },
    "tags": []
   },
   "outputs": [],
   "source": [
    "# Vergebene data_id eindeutig?\n",
    "mask_notempty = wiktionary_merkmal.data_id != ''\n",
    "a = pak.same_but_different(wiktionary_merkmal[mask_notempty],same='data_id',different='data')\n",
    "assert a.shape[0] == 0\n",
    "#grid(a)"
   ]
  },
  {
   "cell_type": "code",
   "execution_count": 110,
   "id": "c587420a-af56-40ea-babf-ad2f0cde9d52",
   "metadata": {
    "execution": {
     "iopub.execute_input": "2023-03-03T07:05:40.024928Z",
     "iopub.status.busy": "2023-03-03T07:05:40.024603Z",
     "iopub.status.idle": "2023-03-03T07:05:40.104860Z",
     "shell.execute_reply": "2023-03-03T07:05:40.104207Z",
     "shell.execute_reply.started": "2023-03-03T07:05:40.024899Z"
    },
    "tags": []
   },
   "outputs": [],
   "source": [
    "# data_tag\n",
    "wiktionary_merkmal['data_tag'] = ''"
   ]
  },
  {
   "cell_type": "code",
   "execution_count": 111,
   "id": "7939419b-14bc-442a-ad8a-6e44130b9ec5",
   "metadata": {
    "execution": {
     "iopub.execute_input": "2023-03-03T07:05:40.106405Z",
     "iopub.status.busy": "2023-03-03T07:05:40.106170Z",
     "iopub.status.idle": "2023-03-03T07:05:40.246159Z",
     "shell.execute_reply": "2023-03-03T07:05:40.245419Z",
     "shell.execute_reply.started": "2023-03-03T07:05:40.106385Z"
    },
    "tags": []
   },
   "outputs": [
    {
     "data": {
      "text/html": [
       "<div>\n",
       "<style scoped>\n",
       "    .dataframe tbody tr th:only-of-type {\n",
       "        vertical-align: middle;\n",
       "    }\n",
       "\n",
       "    .dataframe tbody tr th {\n",
       "        vertical-align: top;\n",
       "    }\n",
       "\n",
       "    .dataframe thead th {\n",
       "        text-align: right;\n",
       "    }\n",
       "</style>\n",
       "<table border=\"1\" class=\"dataframe\">\n",
       "  <thead>\n",
       "    <tr style=\"text-align: right;\">\n",
       "      <th></th>\n",
       "      <th>lemma_id</th>\n",
       "      <th>merkmal</th>\n",
       "      <th>data_id</th>\n",
       "      <th>data</th>\n",
       "      <th>data_tag</th>\n",
       "      <th>lemma_tag</th>\n",
       "      <th>num</th>\n",
       "      <th>meta</th>\n",
       "      <th>data_score</th>\n",
       "      <th>is_lex</th>\n",
       "    </tr>\n",
       "  </thead>\n",
       "  <tbody>\n",
       "    <tr>\n",
       "      <th>0</th>\n",
       "      <td>Hallo</td>\n",
       "      <td>syn</td>\n",
       "      <td>Gejohle</td>\n",
       "      <td>Gejohle</td>\n",
       "      <td></td>\n",
       "      <td>NN</td>\n",
       "      <td>1</td>\n",
       "      <td></td>\n",
       "      <td>34.813919</td>\n",
       "      <td>False</td>\n",
       "    </tr>\n",
       "  </tbody>\n",
       "</table>\n",
       "</div>"
      ],
      "text/plain": [
       "  lemma_id merkmal  data_id     data data_tag lemma_tag num meta  data_score  \\\n",
       "0    Hallo     syn  Gejohle  Gejohle                 NN   1        34.813919   \n",
       "\n",
       "   is_lex  \n",
       "0   False  "
      ]
     },
     "execution_count": 111,
     "metadata": {},
     "output_type": "execute_result"
    }
   ],
   "source": [
    "# Spalten sortieren\n",
    "wiktionary_merkmal = pak.move_cols(wiktionary_merkmal,['lemma_id','merkmal','data_id','data','data_tag','lemma_tag','num','meta','data_score'])\n",
    "wiktionary_merkmal.head(1)"
   ]
  },
  {
   "cell_type": "code",
   "execution_count": 112,
   "id": "001717f5-573b-4c57-82ed-727d4c1b403b",
   "metadata": {
    "execution": {
     "iopub.execute_input": "2023-03-03T07:05:40.249809Z",
     "iopub.status.busy": "2023-03-03T07:05:40.249432Z",
     "iopub.status.idle": "2023-03-03T07:05:40.878192Z",
     "shell.execute_reply": "2023-03-03T07:05:40.877254Z",
     "shell.execute_reply.started": "2023-03-03T07:05:40.249785Z"
    },
    "tags": []
   },
   "outputs": [
    {
     "name": "stdout",
     "output_type": "stream",
     "text": [
      "check_mask:  5 rows\n"
     ]
    }
   ],
   "source": [
    "# Prüfen: Fast alle Lexeme haben eine data_id\n",
    "mask1 = wiktionary_merkmal.data_id == ''\n",
    "mask2 = wiktionary_merkmal.is_lex == True\n",
    "mask_noid = mask1  &  mask2\n",
    "check_mask(wiktionary_merkmal,mask_noid,0,6)"
   ]
  },
  {
   "cell_type": "code",
   "execution_count": 113,
   "id": "c8070e53-7271-47d6-9cdd-2575085e35cf",
   "metadata": {
    "execution": {
     "iopub.execute_input": "2023-03-03T07:05:40.883036Z",
     "iopub.status.busy": "2023-03-03T07:05:40.882395Z",
     "iopub.status.idle": "2023-03-03T07:05:41.731268Z",
     "shell.execute_reply": "2023-03-03T07:05:41.730532Z",
     "shell.execute_reply.started": "2023-03-03T07:05:40.883000Z"
    },
    "tags": []
   },
   "outputs": [
    {
     "data": {
      "text/html": [
       "<div>\n",
       "<style scoped>\n",
       "    .dataframe tbody tr th:only-of-type {\n",
       "        vertical-align: middle;\n",
       "    }\n",
       "\n",
       "    .dataframe tbody tr th {\n",
       "        vertical-align: top;\n",
       "    }\n",
       "\n",
       "    .dataframe thead th {\n",
       "        text-align: right;\n",
       "    }\n",
       "</style>\n",
       "<table border=\"1\" class=\"dataframe\">\n",
       "  <thead>\n",
       "    <tr style=\"text-align: right;\">\n",
       "      <th></th>\n",
       "      <th>lemma_id</th>\n",
       "      <th>merkmal</th>\n",
       "      <th>data_id</th>\n",
       "      <th>data</th>\n",
       "      <th>data_tag</th>\n",
       "      <th>lemma_tag</th>\n",
       "      <th>num</th>\n",
       "      <th>meta</th>\n",
       "      <th>data_score</th>\n",
       "      <th>is_lex</th>\n",
       "    </tr>\n",
       "  </thead>\n",
       "  <tbody>\n",
       "    <tr>\n",
       "      <th>1656543</th>\n",
       "      <td>zu_viele</td>\n",
       "      <td>alt</td>\n",
       "      <td>zu_viele~zuviele</td>\n",
       "      <td>zuviele</td>\n",
       "      <td></td>\n",
       "      <td></td>\n",
       "      <td></td>\n",
       "      <td></td>\n",
       "      <td>1.020573</td>\n",
       "      <td>True</td>\n",
       "    </tr>\n",
       "  </tbody>\n",
       "</table>\n",
       "</div>"
      ],
      "text/plain": [
       "         lemma_id merkmal           data_id     data data_tag lemma_tag num  \\\n",
       "1656543  zu_viele     alt  zu_viele~zuviele  zuviele                          \n",
       "\n",
       "        meta  data_score  is_lex  \n",
       "1656543         1.020573    True  "
      ]
     },
     "execution_count": 113,
     "metadata": {},
     "output_type": "execute_result"
    }
   ],
   "source": [
    "# Fehlende data_id finden\n",
    "mask1 = wiktionary_merkmal.data.isin(wiktionary_merkmal[mask_noid].data)\n",
    "mask2 = wiktionary_merkmal.data_id != ''\n",
    "mask = mask1  &  mask2\n",
    "wiktionary_merkmal[mask]"
   ]
  },
  {
   "cell_type": "code",
   "execution_count": 114,
   "id": "34504983-30e3-49cf-a3f1-385d80970a31",
   "metadata": {
    "execution": {
     "iopub.execute_input": "2023-03-03T07:05:41.732275Z",
     "iopub.status.busy": "2023-03-03T07:05:41.732008Z",
     "iopub.status.idle": "2023-03-03T07:05:43.774078Z",
     "shell.execute_reply": "2023-03-03T07:05:43.773467Z",
     "shell.execute_reply.started": "2023-03-03T07:05:41.732248Z"
    },
    "tags": []
   },
   "outputs": [
    {
     "name": "stdout",
     "output_type": "stream",
     "text": [
      "update_col: 1 cells written into existing column\n"
     ]
    }
   ],
   "source": [
    "# data_id ergänzen aus wiktionary_merkmal selbst\n",
    "wiktionary_merkmal.loc[mask_noid] = pak.update_col( df_to =      wiktionary_merkmal[mask_noid], \n",
    "                                                    df_from =    wiktionary_merkmal[mask],\n",
    "                                                    on =         'data',\n",
    "                                                    col =        'data_id',\n",
    "                                            )"
   ]
  },
  {
   "cell_type": "code",
   "execution_count": 115,
   "id": "62807395-f925-4cce-b9b2-e44881543841",
   "metadata": {
    "execution": {
     "iopub.execute_input": "2023-03-03T07:05:43.776260Z",
     "iopub.status.busy": "2023-03-03T07:05:43.775995Z",
     "iopub.status.idle": "2023-03-03T07:05:47.725934Z",
     "shell.execute_reply": "2023-03-03T07:05:47.725105Z",
     "shell.execute_reply.started": "2023-03-03T07:05:43.776239Z"
    },
    "tags": []
   },
   "outputs": [
    {
     "name": "stdout",
     "output_type": "stream",
     "text": [
      "check_mask:  11 rows\n",
      "Move 11 rows from 5162592\n",
      "11 rows out of 13604\n"
     ]
    },
    {
     "data": {
      "text/html": [
       "<div>\n",
       "<style scoped>\n",
       "    .dataframe tbody tr th:only-of-type {\n",
       "        vertical-align: middle;\n",
       "    }\n",
       "\n",
       "    .dataframe tbody tr th {\n",
       "        vertical-align: top;\n",
       "    }\n",
       "\n",
       "    .dataframe thead th {\n",
       "        text-align: right;\n",
       "    }\n",
       "</style>\n",
       "<table border=\"1\" class=\"dataframe\">\n",
       "  <thead>\n",
       "    <tr style=\"text-align: right;\">\n",
       "      <th></th>\n",
       "      <th>lemma_id</th>\n",
       "      <th>merkmal</th>\n",
       "      <th>is_lex</th>\n",
       "      <th>data</th>\n",
       "      <th>num</th>\n",
       "      <th>meta</th>\n",
       "      <th>data_id</th>\n",
       "      <th>data_score</th>\n",
       "      <th>msg</th>\n",
       "      <th>lemma_tag</th>\n",
       "      <th>data_tag</th>\n",
       "    </tr>\n",
       "  </thead>\n",
       "  <tbody>\n",
       "    <tr>\n",
       "      <th>870830</th>\n",
       "      <td>Services</td>\n",
       "      <td>gm</td>\n",
       "      <td>False</td>\n",
       "      <td>Service (Dienstleistung/Bedienung/Tennis)</td>\n",
       "      <td></td>\n",
       "      <td></td>\n",
       "      <td></td>\n",
       "      <td>2.140866</td>\n",
       "      <td>no data_id</td>\n",
       "      <td></td>\n",
       "      <td></td>\n",
       "    </tr>\n",
       "    <tr>\n",
       "      <th>870831</th>\n",
       "      <td>Services_1</td>\n",
       "      <td>gm</td>\n",
       "      <td>False</td>\n",
       "      <td>Service (Geschirr)</td>\n",
       "      <td></td>\n",
       "      <td></td>\n",
       "      <td></td>\n",
       "      <td>0.077863</td>\n",
       "      <td>no data_id</td>\n",
       "      <td></td>\n",
       "      <td></td>\n",
       "    </tr>\n",
       "    <tr>\n",
       "      <th>893934</th>\n",
       "      <td>Spielenden_1</td>\n",
       "      <td>gm</td>\n",
       "      <td>False</td>\n",
       "      <td>Spielende (weibliche Person, die spielt)</td>\n",
       "      <td></td>\n",
       "      <td></td>\n",
       "      <td></td>\n",
       "      <td>0.268715</td>\n",
       "      <td>no data_id</td>\n",
       "      <td></td>\n",
       "      <td></td>\n",
       "    </tr>\n",
       "    <tr>\n",
       "      <th>1049388</th>\n",
       "      <td>Pilzes</td>\n",
       "      <td>gm</td>\n",
       "      <td>False</td>\n",
       "      <td>Pilz (Nachname)</td>\n",
       "      <td></td>\n",
       "      <td></td>\n",
       "      <td></td>\n",
       "      <td>1.468207</td>\n",
       "      <td>no data_id</td>\n",
       "      <td></td>\n",
       "      <td></td>\n",
       "    </tr>\n",
       "    <tr>\n",
       "      <th>1320980</th>\n",
       "      <td>gebackt</td>\n",
       "      <td>gm</td>\n",
       "      <td>False</td>\n",
       "      <td>backen (regelmäßig)</td>\n",
       "      <td></td>\n",
       "      <td></td>\n",
       "      <td></td>\n",
       "      <td>0.822476</td>\n",
       "      <td>no data_id</td>\n",
       "      <td>ADJA</td>\n",
       "      <td></td>\n",
       "    </tr>\n",
       "    <tr>\n",
       "      <th>1503968</th>\n",
       "      <td>Sofias</td>\n",
       "      <td>gm</td>\n",
       "      <td>False</td>\n",
       "      <td>Sofia (Toponym)</td>\n",
       "      <td></td>\n",
       "      <td></td>\n",
       "      <td></td>\n",
       "      <td>0.560917</td>\n",
       "      <td>no data_id</td>\n",
       "      <td></td>\n",
       "      <td></td>\n",
       "    </tr>\n",
       "    <tr>\n",
       "      <th>1503969</th>\n",
       "      <td>Sofias_1</td>\n",
       "      <td>gm</td>\n",
       "      <td>False</td>\n",
       "      <td>Sofia (Vorname)</td>\n",
       "      <td></td>\n",
       "      <td></td>\n",
       "      <td></td>\n",
       "      <td>0.146760</td>\n",
       "      <td>no data_id</td>\n",
       "      <td></td>\n",
       "      <td></td>\n",
       "    </tr>\n",
       "    <tr>\n",
       "      <th>3481122</th>\n",
       "      <td>klein_kariert</td>\n",
       "      <td>Positiv</td>\n",
       "      <td>True</td>\n",
       "      <td>klein kariert kleinkariert</td>\n",
       "      <td></td>\n",
       "      <td></td>\n",
       "      <td></td>\n",
       "      <td>12.206000</td>\n",
       "      <td>no data_id</td>\n",
       "      <td>ADJA</td>\n",
       "      <td></td>\n",
       "    </tr>\n",
       "    <tr>\n",
       "      <th>3488274</th>\n",
       "      <td>äußer_glex</td>\n",
       "      <td>Positiv</td>\n",
       "      <td>True</td>\n",
       "      <td>äußer(er)</td>\n",
       "      <td></td>\n",
       "      <td></td>\n",
       "      <td></td>\n",
       "      <td>101.480789</td>\n",
       "      <td>no data_id</td>\n",
       "      <td>ADJA</td>\n",
       "      <td></td>\n",
       "    </tr>\n",
       "    <tr>\n",
       "      <th>3488342</th>\n",
       "      <td>inner_glex</td>\n",
       "      <td>Positiv</td>\n",
       "      <td>True</td>\n",
       "      <td>inner(er)</td>\n",
       "      <td></td>\n",
       "      <td></td>\n",
       "      <td></td>\n",
       "      <td>84.878235</td>\n",
       "      <td>no data_id</td>\n",
       "      <td>ADJA</td>\n",
       "      <td></td>\n",
       "    </tr>\n",
       "    <tr>\n",
       "      <th>3491896</th>\n",
       "      <td>unter-_1</td>\n",
       "      <td>Positiv</td>\n",
       "      <td>True</td>\n",
       "      <td>unter-</td>\n",
       "      <td></td>\n",
       "      <td></td>\n",
       "      <td></td>\n",
       "      <td>3.932130</td>\n",
       "      <td>no data_id</td>\n",
       "      <td>ADJA</td>\n",
       "      <td></td>\n",
       "    </tr>\n",
       "  </tbody>\n",
       "</table>\n",
       "</div>"
      ],
      "text/plain": [
       "              lemma_id  merkmal  is_lex  \\\n",
       "870830        Services       gm   False   \n",
       "870831      Services_1       gm   False   \n",
       "893934    Spielenden_1       gm   False   \n",
       "1049388         Pilzes       gm   False   \n",
       "1320980        gebackt       gm   False   \n",
       "1503968         Sofias       gm   False   \n",
       "1503969       Sofias_1       gm   False   \n",
       "3481122  klein_kariert  Positiv    True   \n",
       "3488274     äußer_glex  Positiv    True   \n",
       "3488342     inner_glex  Positiv    True   \n",
       "3491896       unter-_1  Positiv    True   \n",
       "\n",
       "                                              data num meta data_id  \\\n",
       "870830   Service (Dienstleistung/Bedienung/Tennis)                    \n",
       "870831                          Service (Geschirr)                    \n",
       "893934    Spielende (weibliche Person, die spielt)                    \n",
       "1049388                            Pilz (Nachname)                    \n",
       "1320980                        backen (regelmäßig)                    \n",
       "1503968                            Sofia (Toponym)                    \n",
       "1503969                            Sofia (Vorname)                    \n",
       "3481122                 klein kariert kleinkariert                    \n",
       "3488274                                  äußer(er)                    \n",
       "3488342                                  inner(er)                    \n",
       "3491896                                     unter-                    \n",
       "\n",
       "         data_score         msg lemma_tag data_tag  \n",
       "870830     2.140866  no data_id                     \n",
       "870831     0.077863  no data_id                     \n",
       "893934     0.268715  no data_id                     \n",
       "1049388    1.468207  no data_id                     \n",
       "1320980    0.822476  no data_id      ADJA           \n",
       "1503968    0.560917  no data_id                     \n",
       "1503969    0.146760  no data_id                     \n",
       "3481122   12.206000  no data_id      ADJA           \n",
       "3488274  101.480789  no data_id      ADJA           \n",
       "3488342   84.878235  no data_id      ADJA           \n",
       "3491896    3.932130  no data_id      ADJA           "
      ]
     },
     "execution_count": 115,
     "metadata": {},
     "output_type": "execute_result"
    }
   ],
   "source": [
    "# Löschen: Lexeme ohne data_id\n",
    "mask1  = wiktionary_merkmal.data_id == ''\n",
    "mask2A = wiktionary_merkmal.is_lex == True\n",
    "mask2B = wiktionary_merkmal.merkmal == 'gm'\n",
    "mask_noid = mask1  &  (mask2A | mask2B)\n",
    "check_mask(wiktionary_merkmal,mask_noid,0,15)\n",
    "\n",
    "msg = 'no data_id'\n",
    "wiktionary_merkmal, wiktionary_merkmal_trash = pak.move_rows(wiktionary_merkmal,wiktionary_merkmal_trash, mask_noid, msg)\n",
    "grid(wiktionary_merkmal_trash,msg)"
   ]
  },
  {
   "cell_type": "markdown",
   "id": "1d862639-4771-4994-b27b-24b55c0adb9d",
   "metadata": {},
   "source": [
    "### wiktionary_merkmal_wertlos\n",
    "* nimmt alle Datensätze aus wiktionary_merkmal, deren data_id leer geblieben ist und die auch sonst keinen Nutzen haben"
   ]
  },
  {
   "cell_type": "code",
   "execution_count": 116,
   "id": "f7bfb468-6a43-4957-aad7-dbe5c0bf7fb8",
   "metadata": {
    "execution": {
     "iopub.execute_input": "2023-03-03T07:05:47.729965Z",
     "iopub.status.busy": "2023-03-03T07:05:47.729629Z",
     "iopub.status.idle": "2023-03-03T07:05:47.772517Z",
     "shell.execute_reply": "2023-03-03T07:05:47.771820Z",
     "shell.execute_reply.started": "2023-03-03T07:05:47.729935Z"
    },
    "tags": []
   },
   "outputs": [
    {
     "name": "stdout",
     "output_type": "stream",
     "text": [
      "['ipa', 'syllables', 'rhymes', 'Genus', 'up']\n"
     ]
    }
   ],
   "source": [
    "# Merkmale, die ohne data_id auskommen\n",
    "print(merkmale_ohne_data_id)"
   ]
  },
  {
   "cell_type": "code",
   "execution_count": 117,
   "id": "bbb3764b-1bea-475f-ba5c-c9dbdadf9011",
   "metadata": {
    "execution": {
     "iopub.execute_input": "2023-03-03T07:05:47.779451Z",
     "iopub.status.busy": "2023-03-03T07:05:47.776912Z",
     "iopub.status.idle": "2023-03-03T07:05:50.123791Z",
     "shell.execute_reply": "2023-03-03T07:05:50.122878Z",
     "shell.execute_reply.started": "2023-03-03T07:05:47.779414Z"
    },
    "tags": []
   },
   "outputs": [
    {
     "name": "stdout",
     "output_type": "stream",
     "text": [
      "check_mask:  323408 rows\n"
     ]
    }
   ],
   "source": [
    "# Datensätze ohne data_id\n",
    "mask1 =  wiktionary_merkmal.data_id == ''\n",
    "mask2 = ~wiktionary_merkmal.merkmal.isin(merkmale_ohne_data_id)\n",
    "mask3 = ~wiktionary_merkmal.meta.str.contains('manuell')\n",
    "mask = mask1  &  mask2  &  mask3\n",
    "check_mask(wiktionary_merkmal,mask,323475) \n",
    "#grid(wiktionary_merkmal[mask]) "
   ]
  },
  {
   "cell_type": "code",
   "execution_count": 118,
   "id": "89003f14-7e16-4aac-bde1-c37f68ccc6cb",
   "metadata": {
    "execution": {
     "iopub.execute_input": "2023-03-03T07:05:50.129175Z",
     "iopub.status.busy": "2023-03-03T07:05:50.128845Z",
     "iopub.status.idle": "2023-03-03T07:05:51.602819Z",
     "shell.execute_reply": "2023-03-03T07:05:51.601937Z",
     "shell.execute_reply.started": "2023-03-03T07:05:50.129144Z"
    },
    "tags": []
   },
   "outputs": [
    {
     "name": "stdout",
     "output_type": "stream",
     "text": [
      "12 rows\n"
     ]
    },
    {
     "data": {
      "text/html": [
       "<div>\n",
       "<style scoped>\n",
       "    .dataframe tbody tr th:only-of-type {\n",
       "        vertical-align: middle;\n",
       "    }\n",
       "\n",
       "    .dataframe tbody tr th {\n",
       "        vertical-align: top;\n",
       "    }\n",
       "\n",
       "    .dataframe thead th {\n",
       "        text-align: right;\n",
       "    }\n",
       "</style>\n",
       "<table border=\"1\" class=\"dataframe\">\n",
       "  <thead>\n",
       "    <tr style=\"text-align: right;\">\n",
       "      <th></th>\n",
       "      <th>merkmal</th>\n",
       "      <th>merkmal_count</th>\n",
       "      <th>merkmal_percent</th>\n",
       "      <th>data</th>\n",
       "      <th>data_count</th>\n",
       "    </tr>\n",
       "  </thead>\n",
       "  <tbody>\n",
       "    <tr>\n",
       "      <th>0</th>\n",
       "      <td>familie</td>\n",
       "      <td>99133</td>\n",
       "      <td>30.7</td>\n",
       "      <td>[Zahlenbegriffe, dahinterher, manisch-depressiv, Paraboloid, Kraushaar, Krauskopf, poetisieren, schwadenweise, mimisch, Verliebtsein, Zeitzeichen, Rotkopp, Spielmann, Erlebnishunger, technophil, artgemäß, Normung, todlangweilig, Falzbein, Nordfinnland]</td>\n",
       "      <td>[10, 4, 4, 4, 4, 4, 4, 4, 4, 3, 3, 3, 3, 3, 3, 3, 3, 3, 3, 3]</td>\n",
       "    </tr>\n",
       "    <tr>\n",
       "      <th>1</th>\n",
       "      <td>down</td>\n",
       "      <td>92070</td>\n",
       "      <td>28.5</td>\n",
       "      <td>[Centavo, Zeit und Kalender, Kapitän zur See, Seeschlange, Akzentzeichen, Ländername, Dschabrit, Generalstabsarzt, Admiralstabsarzt, Admiralarzt, Stoffbezeichnung, Westnordwest, Westsüdwest, Chardschitin, Dschabritin, Mutazilitin, Ultraleichtfliegen, Familia, Blindsimultanschach, Mohnöl]</td>\n",
       "      <td>[9, 8, 6, 6, 5, 5, 5, 5, 5, 5, 5, 5, 5, 5, 5, 5, 5, 4, 4, 4]</td>\n",
       "    </tr>\n",
       "    <tr>\n",
       "      <th>2</th>\n",
       "      <td>syn</td>\n",
       "      <td>41914</td>\n",
       "      <td>13.0</td>\n",
       "      <td>[ableben, Lausbub, Nischel, ganz und gar, ab und zu, Filzlatschenkino, Flimmerkiste, Latschenkino, Patschenkino, afr, Gummiadler, aus diesem Grund, in der Tat, ab und an, hin und wieder, ausquetschen, in der Regel, Putschiauto, Tebe, Fussgängerstreifen]</td>\n",
       "      <td>[9, 9, 8, 8, 8, 8, 8, 8, 8, 8, 7, 7, 7, 7, 7, 7, 7, 7, 6, 6]</td>\n",
       "    </tr>\n",
       "    <tr>\n",
       "      <th>3</th>\n",
       "      <td>def</td>\n",
       "      <td>27555</td>\n",
       "      <td>8.5</td>\n",
       "      <td>[Art und Weise, Vereinigten Staaten von Amerika, ungesättigt, bzw, etc, in der Regel, Ziehen, wulstartig, Weiterbestehen, Computersystem, Fremd, Gummirand, Revolutionskalender, Randbereich, Streichfarbe, Mischgetränk, Produktionsmittel, Öffnen, Bosnien und Herzegowina, Fahrfläche]</td>\n",
       "      <td>[123, 26, 24, 17, 17, 17, 17, 17, 17, 16, 16, 16, 15, 15, 14, 14, 14, 14, 14, 14]</td>\n",
       "    </tr>\n",
       "    <tr>\n",
       "      <th>4</th>\n",
       "      <td>herkunft</td>\n",
       "      <td>21610</td>\n",
       "      <td>6.7</td>\n",
       "      <td>[con, facere, unus, sub, com, capere, nihil, agere, dis, ponere, stare, prae, tri, manus, trahere, ferre, valere, forma, similis, passus]</td>\n",
       "      <td>[49, 35, 33, 22, 19, 15, 15, 14, 13, 13, 12, 12, 12, 11, 11, 10, 10, 10, 10, 9]</td>\n",
       "    </tr>\n",
       "    <tr>\n",
       "      <th>5</th>\n",
       "      <td>lateral</td>\n",
       "      <td>21242</td>\n",
       "      <td>6.6</td>\n",
       "      <td>[anrennen, Quatsch mit Soße, Unbesonnenheit, Unbedachtsamkeit, mega, hinhauen, Unbedachtheit, anschesen, raushauen, Behelfs-Mundschutz, Mundabdeckung, Mundbedeckung, hyper, bekanntmachen, Gugus, Hafenkäse, die Biege machen, die Finger über etwas gleiten lassen, übersinnlich, Befreiungskämpfer]</td>\n",
       "      <td>[15, 14, 12, 12, 11, 11, 11, 11, 10, 10, 10, 10, 9, 9, 9, 9, 9, 9, 8, 8]</td>\n",
       "    </tr>\n",
       "    <tr>\n",
       "      <th>6</th>\n",
       "      <td>gegen</td>\n",
       "      <td>12435</td>\n",
       "      <td>3.8</td>\n",
       "      <td>[dermatisch, palpebral, Orangeton, Zyanton, Ruffall, Nehmfall, Tertia, Sekundaner, Womitfall, Ortsfall, Diable, Diabolus, Samiel, südwesteuropäisch, Thermikkraftwerk, Valenzgrammatik, Bedachtsamkeit, zerebellar, Dreisprachigkeit, absenken]</td>\n",
       "      <td>[17, 16, 12, 12, 11, 11, 11, 11, 9, 9, 9, 9, 9, 9, 9, 8, 8, 8, 8, 8]</td>\n",
       "    </tr>\n",
       "    <tr>\n",
       "      <th>7</th>\n",
       "      <td>kombi</td>\n",
       "      <td>6326</td>\n",
       "      <td>2.0</td>\n",
       "      <td>[wechselwillig, wenden sich ab, Geschäftsfeld, Geschäftsbericht, GuV, Nachhaltigkeitsbericht, einstellbar, besonder, traumhaft, energieeffizient, Art und Weise, marktbeherrschend, absenken, rückständig, dreinschauen, Lichterglanz, hin und her, halbrund, Schneelage, Ski fahren]</td>\n",
       "      <td>[14, 14, 12, 12, 12, 12, 8, 7, 6, 6, 6, 6, 6, 5, 5, 5, 5, 5, 5, 5]</td>\n",
       "    </tr>\n",
       "    <tr>\n",
       "      <th>8</th>\n",
       "      <td>down_part_1</td>\n",
       "      <td>591</td>\n",
       "      <td>0.2</td>\n",
       "      <td>[Alservorstadt, Dornbach, Urvertrag, Zwischenbrücken, Ethrog, Etrog, Essrog, Laubhütte, Lulav, Lulaw, Lulew, Paradiesapfel, Zickes, Schlott, Westpolen, Mittelfrankreich, Zentralfrankreich, Horn von Afrika, Bulbus oculi, Augenkammer]</td>\n",
       "      <td>[2, 2, 2, 2, 2, 2, 2, 2, 2, 2, 2, 2, 2, 2, 1, 1, 1, 1, 1, 1]</td>\n",
       "    </tr>\n",
       "    <tr>\n",
       "      <th>9</th>\n",
       "      <td>familie_1</td>\n",
       "      <td>429</td>\n",
       "      <td>0.1</td>\n",
       "      <td>[Haussier, parodisch, Parodistik, Auskultant, Ostasiat, Ostasiatin, mystagogisch, Binge-Watching, Famulant, Famulus, Puncher, herzoglich, Herzogswürde, Überstand, kurzhaarig, langhaarig, grauhaarig, silberhaarig, Haarbehandlung, Haarbogen]</td>\n",
       "      <td>[2, 2, 2, 2, 2, 2, 2, 2, 2, 2, 2, 1, 1, 1, 1, 1, 1, 1, 1, 1]</td>\n",
       "    </tr>\n",
       "    <tr>\n",
       "      <th>10</th>\n",
       "      <td>up_part</td>\n",
       "      <td>57</td>\n",
       "      <td>0.0</td>\n",
       "      <td>[Frankfurt am Main, Hohenems, Kleine Antillen, semantisches Netz, Homosphäre, Kansai, Zwettl-Niederösterreich, Cutis, Kutis, Kabinenbesatzung, Staubblatt, Adoptivfamilie, Himmelsatlas, Sternatlas, Sternenatlas, Paläomagnetismus, Appenin, Äolische Inseln, Ensdorf, Großkrut]</td>\n",
       "      <td>[2, 2, 1, 1, 1, 1, 1, 1, 1, 1, 1, 1, 1, 1, 1, 1, 1, 1, 1, 1]</td>\n",
       "    </tr>\n",
       "    <tr>\n",
       "      <th>11</th>\n",
       "      <td>nurWortart</td>\n",
       "      <td>46</td>\n",
       "      <td>0.0</td>\n",
       "      <td>[, de, , n, Toponym, , , Verb, untrennbar, Substantiv, n]</td>\n",
       "      <td>[41, 1, 1, 1, 1, 1]</td>\n",
       "    </tr>\n",
       "  </tbody>\n",
       "</table>\n",
       "</div>"
      ],
      "text/plain": [
       "        merkmal  merkmal_count  merkmal_percent  \\\n",
       "0       familie          99133             30.7   \n",
       "1          down          92070             28.5   \n",
       "2           syn          41914             13.0   \n",
       "3           def          27555              8.5   \n",
       "4      herkunft          21610              6.7   \n",
       "5       lateral          21242              6.6   \n",
       "6         gegen          12435              3.8   \n",
       "7         kombi           6326              2.0   \n",
       "8   down_part_1            591              0.2   \n",
       "9     familie_1            429              0.1   \n",
       "10      up_part             57              0.0   \n",
       "11   nurWortart             46              0.0   \n",
       "\n",
       "                                                                                                                                                                                                                                                                                                      data  \\\n",
       "0                                             [Zahlenbegriffe, dahinterher, manisch-depressiv, Paraboloid, Kraushaar, Krauskopf, poetisieren, schwadenweise, mimisch, Verliebtsein, Zeitzeichen, Rotkopp, Spielmann, Erlebnishunger, technophil, artgemäß, Normung, todlangweilig, Falzbein, Nordfinnland]   \n",
       "1         [Centavo, Zeit und Kalender, Kapitän zur See, Seeschlange, Akzentzeichen, Ländername, Dschabrit, Generalstabsarzt, Admiralstabsarzt, Admiralarzt, Stoffbezeichnung, Westnordwest, Westsüdwest, Chardschitin, Dschabritin, Mutazilitin, Ultraleichtfliegen, Familia, Blindsimultanschach, Mohnöl]   \n",
       "2                                            [ableben, Lausbub, Nischel, ganz und gar, ab und zu, Filzlatschenkino, Flimmerkiste, Latschenkino, Patschenkino, afr, Gummiadler, aus diesem Grund, in der Tat, ab und an, hin und wieder, ausquetschen, in der Regel, Putschiauto, Tebe, Fussgängerstreifen]   \n",
       "3                [Art und Weise, Vereinigten Staaten von Amerika, ungesättigt, bzw, etc, in der Regel, Ziehen, wulstartig, Weiterbestehen, Computersystem, Fremd, Gummirand, Revolutionskalender, Randbereich, Streichfarbe, Mischgetränk, Produktionsmittel, Öffnen, Bosnien und Herzegowina, Fahrfläche]   \n",
       "4                                                                                                                                                                [con, facere, unus, sub, com, capere, nihil, agere, dis, ponere, stare, prae, tri, manus, trahere, ferre, valere, forma, similis, passus]   \n",
       "5   [anrennen, Quatsch mit Soße, Unbesonnenheit, Unbedachtsamkeit, mega, hinhauen, Unbedachtheit, anschesen, raushauen, Behelfs-Mundschutz, Mundabdeckung, Mundbedeckung, hyper, bekanntmachen, Gugus, Hafenkäse, die Biege machen, die Finger über etwas gleiten lassen, übersinnlich, Befreiungskämpfer]   \n",
       "6                                                          [dermatisch, palpebral, Orangeton, Zyanton, Ruffall, Nehmfall, Tertia, Sekundaner, Womitfall, Ortsfall, Diable, Diabolus, Samiel, südwesteuropäisch, Thermikkraftwerk, Valenzgrammatik, Bedachtsamkeit, zerebellar, Dreisprachigkeit, absenken]   \n",
       "7                    [wechselwillig, wenden sich ab, Geschäftsfeld, Geschäftsbericht, GuV, Nachhaltigkeitsbericht, einstellbar, besonder, traumhaft, energieeffizient, Art und Weise, marktbeherrschend, absenken, rückständig, dreinschauen, Lichterglanz, hin und her, halbrund, Schneelage, Ski fahren]   \n",
       "8                                                                 [Alservorstadt, Dornbach, Urvertrag, Zwischenbrücken, Ethrog, Etrog, Essrog, Laubhütte, Lulav, Lulaw, Lulew, Paradiesapfel, Zickes, Schlott, Westpolen, Mittelfrankreich, Zentralfrankreich, Horn von Afrika, Bulbus oculi, Augenkammer]   \n",
       "9                                                          [Haussier, parodisch, Parodistik, Auskultant, Ostasiat, Ostasiatin, mystagogisch, Binge-Watching, Famulant, Famulus, Puncher, herzoglich, Herzogswürde, Überstand, kurzhaarig, langhaarig, grauhaarig, silberhaarig, Haarbehandlung, Haarbogen]   \n",
       "10                       [Frankfurt am Main, Hohenems, Kleine Antillen, semantisches Netz, Homosphäre, Kansai, Zwettl-Niederösterreich, Cutis, Kutis, Kabinenbesatzung, Staubblatt, Adoptivfamilie, Himmelsatlas, Sternatlas, Sternenatlas, Paläomagnetismus, Appenin, Äolische Inseln, Ensdorf, Großkrut]   \n",
       "11                                                                                                                                                                                                                                               [, de, , n, Toponym, , , Verb, untrennbar, Substantiv, n]   \n",
       "\n",
       "                                                                           data_count  \n",
       "0                       [10, 4, 4, 4, 4, 4, 4, 4, 4, 3, 3, 3, 3, 3, 3, 3, 3, 3, 3, 3]  \n",
       "1                        [9, 8, 6, 6, 5, 5, 5, 5, 5, 5, 5, 5, 5, 5, 5, 5, 5, 4, 4, 4]  \n",
       "2                        [9, 9, 8, 8, 8, 8, 8, 8, 8, 8, 7, 7, 7, 7, 7, 7, 7, 7, 6, 6]  \n",
       "3   [123, 26, 24, 17, 17, 17, 17, 17, 17, 16, 16, 16, 15, 15, 14, 14, 14, 14, 14, 14]  \n",
       "4     [49, 35, 33, 22, 19, 15, 15, 14, 13, 13, 12, 12, 12, 11, 11, 10, 10, 10, 10, 9]  \n",
       "5            [15, 14, 12, 12, 11, 11, 11, 11, 10, 10, 10, 10, 9, 9, 9, 9, 9, 9, 8, 8]  \n",
       "6                [17, 16, 12, 12, 11, 11, 11, 11, 9, 9, 9, 9, 9, 9, 9, 8, 8, 8, 8, 8]  \n",
       "7                  [14, 14, 12, 12, 12, 12, 8, 7, 6, 6, 6, 6, 6, 5, 5, 5, 5, 5, 5, 5]  \n",
       "8                        [2, 2, 2, 2, 2, 2, 2, 2, 2, 2, 2, 2, 2, 2, 1, 1, 1, 1, 1, 1]  \n",
       "9                        [2, 2, 2, 2, 2, 2, 2, 2, 2, 2, 2, 1, 1, 1, 1, 1, 1, 1, 1, 1]  \n",
       "10                       [2, 2, 1, 1, 1, 1, 1, 1, 1, 1, 1, 1, 1, 1, 1, 1, 1, 1, 1, 1]  \n",
       "11                                                                [41, 1, 1, 1, 1, 1]  "
      ]
     },
     "execution_count": 118,
     "metadata": {},
     "output_type": "execute_result"
    }
   ],
   "source": [
    "# Reste: data_id ist null geblieben\n",
    "a = pak.analyse_freqs(wiktionary_merkmal[mask],cols=['merkmal','data'], limits=[None,20])\n",
    "grid(a)"
   ]
  },
  {
   "cell_type": "code",
   "execution_count": 119,
   "id": "9bc61780-76ee-43e9-b398-2be8b681460c",
   "metadata": {
    "execution": {
     "iopub.execute_input": "2023-03-03T07:05:51.607453Z",
     "iopub.status.busy": "2023-03-03T07:05:51.606987Z",
     "iopub.status.idle": "2023-03-03T07:05:51.650820Z",
     "shell.execute_reply": "2023-03-03T07:05:51.649870Z",
     "shell.execute_reply.started": "2023-03-03T07:05:51.607419Z"
    },
    "tags": []
   },
   "outputs": [],
   "source": [
    "# einzelne Merkmale betrachten\n",
    "#mask3 = wiktionary_merkmal.merkmal == 'def'\n",
    "#grid(wiktionary_merkmal[mask & mask3]) "
   ]
  },
  {
   "cell_type": "code",
   "execution_count": 120,
   "id": "b9a4f416-345e-47ee-b08b-18cf0d4f298b",
   "metadata": {
    "execution": {
     "iopub.execute_input": "2023-03-03T07:05:51.656068Z",
     "iopub.status.busy": "2023-03-03T07:05:51.655671Z",
     "iopub.status.idle": "2023-03-03T07:05:55.133498Z",
     "shell.execute_reply": "2023-03-03T07:05:55.132899Z",
     "shell.execute_reply.started": "2023-03-03T07:05:51.656038Z"
    },
    "tags": []
   },
   "outputs": [
    {
     "name": "stdout",
     "output_type": "stream",
     "text": [
      "Move 323408 rows from 5162581\n"
     ]
    }
   ],
   "source": [
    "# Datensätze in wiktionary_merkmal_wertlos verschieben\n",
    "wiktionary_merkmal, wiktionary_merkmal_wertlos = pak.move_rows(wiktionary_merkmal,mask, msg=None)"
   ]
  },
  {
   "cell_type": "code",
   "execution_count": 121,
   "id": "7e03f4d6-f2a6-4716-9229-c85d3a41f04f",
   "metadata": {
    "execution": {
     "iopub.execute_input": "2023-03-03T07:05:55.135728Z",
     "iopub.status.busy": "2023-03-03T07:05:55.135443Z",
     "iopub.status.idle": "2023-03-03T07:05:55.324160Z",
     "shell.execute_reply": "2023-03-03T07:05:55.323579Z",
     "shell.execute_reply.started": "2023-03-03T07:05:55.135702Z"
    },
    "tags": []
   },
   "outputs": [],
   "source": [
    "# drop_cols\n",
    "wiktionary_merkmal_wertlos = pak.drop_cols(wiktionary_merkmal_wertlos,['data_id'])"
   ]
  },
  {
   "cell_type": "code",
   "execution_count": 122,
   "id": "a1b7087c-d3e7-4290-b577-50ecdd7441a7",
   "metadata": {
    "execution": {
     "iopub.execute_input": "2023-03-03T07:05:55.326195Z",
     "iopub.status.busy": "2023-03-03T07:05:55.325944Z",
     "iopub.status.idle": "2023-03-03T07:05:55.486536Z",
     "shell.execute_reply": "2023-03-03T07:05:55.485798Z",
     "shell.execute_reply.started": "2023-03-03T07:05:55.326174Z"
    },
    "tags": []
   },
   "outputs": [
    {
     "name": "stdout",
     "output_type": "stream",
     "text": [
      "check_mask:  0 rows\n"
     ]
    }
   ],
   "source": [
    "# Prüfen, ob da unerlaubte Merkmale drin sind\n",
    "mask1 = ~wiktionary_merkmal_wertlos.merkmal.isin(merkmale_in_wiktionary_merkmal_wertlos)\n",
    "mask2 = ~wiktionary_merkmal_wertlos.meta.str.contains('manuell')\n",
    "mask = mask1  &  mask2\n",
    "check_mask(wiktionary_merkmal_wertlos,mask,0)\n",
    "#grid(wiktionary_merkmal_wertlos,mask)"
   ]
  },
  {
   "cell_type": "code",
   "execution_count": 123,
   "id": "6f58049f-5301-4d70-9912-67c8c1049dfb",
   "metadata": {
    "execution": {
     "iopub.execute_input": "2023-03-03T07:05:55.490111Z",
     "iopub.status.busy": "2023-03-03T07:05:55.489772Z",
     "iopub.status.idle": "2023-03-03T07:05:55.534356Z",
     "shell.execute_reply": "2023-03-03T07:05:55.533231Z",
     "shell.execute_reply.started": "2023-03-03T07:05:55.490089Z"
    },
    "tags": []
   },
   "outputs": [],
   "source": [
    "#mask = wiktionary_merkmal.data_id == ''\n",
    "#wiktionary_merkmal[mask]"
   ]
  },
  {
   "cell_type": "markdown",
   "id": "7826772e-0c16-454f-865e-a1727a6b0f4a",
   "metadata": {},
   "source": [
    "## Prüfen NaN"
   ]
  },
  {
   "cell_type": "code",
   "execution_count": 124,
   "id": "08b65111-bef8-48c8-ae7e-c20e305d998c",
   "metadata": {
    "execution": {
     "iopub.execute_input": "2023-03-03T07:05:55.536490Z",
     "iopub.status.busy": "2023-03-03T07:05:55.536122Z",
     "iopub.status.idle": "2023-03-03T07:05:55.661900Z",
     "shell.execute_reply": "2023-03-03T07:05:55.661262Z",
     "shell.execute_reply.started": "2023-03-03T07:05:55.536457Z"
    }
   },
   "outputs": [],
   "source": [
    "assert not pak.any_nan(wiktionary_lemma)\n",
    "#pak.nnan(wiktionary_lemma)"
   ]
  },
  {
   "cell_type": "code",
   "execution_count": 125,
   "id": "a827ccf6-d210-4337-9aa9-55f2dd31198b",
   "metadata": {
    "execution": {
     "iopub.execute_input": "2023-03-03T07:05:55.663030Z",
     "iopub.status.busy": "2023-03-03T07:05:55.662773Z",
     "iopub.status.idle": "2023-03-03T07:05:56.000752Z",
     "shell.execute_reply": "2023-03-03T07:05:56.000151Z",
     "shell.execute_reply.started": "2023-03-03T07:05:55.663006Z"
    }
   },
   "outputs": [],
   "source": [
    "assert not pak.any_nan(wiktionary_nolemma)\n",
    "#pak.nnan(wiktionary_nolemma)"
   ]
  },
  {
   "cell_type": "code",
   "execution_count": 126,
   "id": "fbcec8cf-6cfd-4d26-b3f4-6a29c9f0ca7b",
   "metadata": {
    "execution": {
     "iopub.execute_input": "2023-03-03T07:05:56.002065Z",
     "iopub.status.busy": "2023-03-03T07:05:56.001807Z",
     "iopub.status.idle": "2023-03-03T07:05:58.022172Z",
     "shell.execute_reply": "2023-03-03T07:05:58.021528Z",
     "shell.execute_reply.started": "2023-03-03T07:05:56.002040Z"
    }
   },
   "outputs": [],
   "source": [
    "assert not pak.any_nan(wiktionary_merkmal)\n",
    "#pak.nnan(wiktionary_merkmal)"
   ]
  },
  {
   "cell_type": "code",
   "execution_count": 127,
   "id": "fcee137e-91b6-4b56-89d5-d6814433f704",
   "metadata": {
    "execution": {
     "iopub.execute_input": "2023-03-03T07:05:58.023079Z",
     "iopub.status.busy": "2023-03-03T07:05:58.022871Z",
     "iopub.status.idle": "2023-03-03T07:05:58.245066Z",
     "shell.execute_reply": "2023-03-03T07:05:58.244299Z",
     "shell.execute_reply.started": "2023-03-03T07:05:58.023058Z"
    }
   },
   "outputs": [],
   "source": [
    "assert not pak.any_nan(wiktionary_merkmal_wertlos)\n",
    "#pak.nnan(wiktionary_merkmal_wertlos)"
   ]
  },
  {
   "cell_type": "code",
   "execution_count": 128,
   "id": "f2d9642b-b35b-471d-9611-40115cb60f07",
   "metadata": {
    "execution": {
     "iopub.execute_input": "2023-03-03T07:05:58.246398Z",
     "iopub.status.busy": "2023-03-03T07:05:58.246120Z",
     "iopub.status.idle": "2023-03-03T07:05:58.354907Z",
     "shell.execute_reply": "2023-03-03T07:05:58.354210Z",
     "shell.execute_reply.started": "2023-03-03T07:05:58.246371Z"
    }
   },
   "outputs": [],
   "source": [
    "# Prüfen: is_unique\n",
    "assert wiktionary_lemma.lemma_id.is_unique"
   ]
  },
  {
   "cell_type": "code",
   "execution_count": 129,
   "id": "75f6b90c-4cf9-48b5-af14-fefab5608e79",
   "metadata": {
    "execution": {
     "iopub.execute_input": "2023-03-03T07:05:58.356479Z",
     "iopub.status.busy": "2023-03-03T07:05:58.356187Z",
     "iopub.status.idle": "2023-03-03T07:05:58.580762Z",
     "shell.execute_reply": "2023-03-03T07:05:58.580104Z",
     "shell.execute_reply.started": "2023-03-03T07:05:58.356452Z"
    }
   },
   "outputs": [],
   "source": [
    "# Prüfen: is_unique\n",
    "assert wiktionary_nolemma.nolemma_id.is_unique"
   ]
  },
  {
   "cell_type": "markdown",
   "id": "c213d4d3-ec3b-4cfc-9091-6b97cbabbe33",
   "metadata": {},
   "source": [
    "## Prüfen lex_test"
   ]
  },
  {
   "cell_type": "code",
   "execution_count": 130,
   "id": "17e1de92-cc04-4699-a201-2f4391b21ccf",
   "metadata": {
    "execution": {
     "iopub.execute_input": "2023-03-03T07:05:58.581908Z",
     "iopub.status.busy": "2023-03-03T07:05:58.581652Z",
     "iopub.status.idle": "2023-03-03T07:06:00.166426Z",
     "shell.execute_reply": "2023-03-03T07:06:00.165637Z",
     "shell.execute_reply.started": "2023-03-03T07:05:58.581883Z"
    }
   },
   "outputs": [
    {
     "name": "stdout",
     "output_type": "stream",
     "text": [
      "180 rows loaded\n",
      "Delete 84 rows from 180\n"
     ]
    }
   ],
   "source": [
    "# lex_test, lemma_test\n",
    "from x32_Funktionen import *\n",
    "lex_test, lemma_test = lade_lex_text( lex_test_filename, level=2 )\n",
    "#grid(lemma_test)"
   ]
  },
  {
   "cell_type": "code",
   "execution_count": 131,
   "id": "9f7e6af7-ef1a-4cf2-8d5b-48838266cf74",
   "metadata": {
    "execution": {
     "iopub.execute_input": "2023-03-03T07:06:00.167479Z",
     "iopub.status.busy": "2023-03-03T07:06:00.167187Z",
     "iopub.status.idle": "2023-03-03T07:06:03.341201Z",
     "shell.execute_reply": "2023-03-03T07:06:03.340543Z",
     "shell.execute_reply.started": "2023-03-03T07:06:00.167451Z"
    }
   },
   "outputs": [],
   "source": [
    "# lemma_test\n",
    "from x32_Funktionen import *\n",
    "lemma_test = check_lemma_test(lemma_test, wiktionary_lemma)\n",
    "#lemma_test"
   ]
  },
  {
   "cell_type": "code",
   "execution_count": 132,
   "id": "d12dabec-1bed-49cb-9665-b98078793e0f",
   "metadata": {
    "execution": {
     "iopub.execute_input": "2023-03-03T07:06:03.342286Z",
     "iopub.status.busy": "2023-03-03T07:06:03.342031Z",
     "iopub.status.idle": "2023-03-03T07:06:03.413361Z",
     "shell.execute_reply": "2023-03-03T07:06:03.412037Z",
     "shell.execute_reply.started": "2023-03-03T07:06:03.342261Z"
    }
   },
   "outputs": [
    {
     "name": "stdout",
     "output_type": "stream",
     "text": [
      "check_mask:  0 rows\n"
     ]
    },
    {
     "data": {
      "text/html": [
       "<div>\n",
       "<style scoped>\n",
       "    .dataframe tbody tr th:only-of-type {\n",
       "        vertical-align: middle;\n",
       "    }\n",
       "\n",
       "    .dataframe tbody tr th {\n",
       "        vertical-align: top;\n",
       "    }\n",
       "\n",
       "    .dataframe thead th {\n",
       "        text-align: right;\n",
       "    }\n",
       "</style>\n",
       "<table border=\"1\" class=\"dataframe\">\n",
       "  <thead>\n",
       "    <tr style=\"text-align: right;\">\n",
       "      <th></th>\n",
       "      <th>level</th>\n",
       "      <th>lemma_id</th>\n",
       "      <th>lemma</th>\n",
       "      <th>tag_soll</th>\n",
       "      <th>tag_ist</th>\n",
       "      <th>member_soll</th>\n",
       "      <th>check_tag</th>\n",
       "      <th>member_ist</th>\n",
       "      <th>check_member</th>\n",
       "    </tr>\n",
       "  </thead>\n",
       "  <tbody>\n",
       "  </tbody>\n",
       "</table>\n",
       "</div>"
      ],
      "text/plain": [
       "Empty DataFrame\n",
       "Columns: [level, lemma_id, lemma, tag_soll, tag_ist, member_soll, check_tag, member_ist, check_member]\n",
       "Index: []"
      ]
     },
     "execution_count": 132,
     "metadata": {},
     "output_type": "execute_result"
    }
   ],
   "source": [
    "# Fehler\n",
    "maskA = lemma_test.lemma_id == ''\n",
    "maskB = lemma_test.check_tag == ''\n",
    "mask = maskA | maskB\n",
    "check_mask(lemma_test,mask)\n",
    "\n",
    "probleme = list(lemma_test[mask].lemma)\n",
    "lemma_test[mask]"
   ]
  },
  {
   "cell_type": "code",
   "execution_count": 133,
   "id": "4834b7fb-95df-47c2-8b88-cbd5912b1e9f",
   "metadata": {
    "execution": {
     "iopub.execute_input": "2023-03-03T07:06:03.421429Z",
     "iopub.status.busy": "2023-03-03T07:06:03.420970Z",
     "iopub.status.idle": "2023-03-03T07:06:03.472136Z",
     "shell.execute_reply": "2023-03-03T07:06:03.471299Z",
     "shell.execute_reply.started": "2023-03-03T07:06:03.421400Z"
    }
   },
   "outputs": [
    {
     "name": "stdout",
     "output_type": "stream",
     "text": [
      "check_mask:  0 rows\n"
     ]
    }
   ],
   "source": [
    "# Sicherstellen: Keine Fehler\n",
    "check_mask(lemma_test,mask,0)"
   ]
  },
  {
   "cell_type": "markdown",
   "id": "c4f29b26-f087-4cfb-9dd8-7887c124d6d9",
   "metadata": {},
   "source": [
    "## suche_debug"
   ]
  },
  {
   "cell_type": "markdown",
   "id": "6205b609-51fa-4556-9b74-1c0689e00fae",
   "metadata": {},
   "source": [
    "### wiktionary_lemma"
   ]
  },
  {
   "cell_type": "code",
   "execution_count": 134,
   "id": "e9c5c089-1f09-4cc1-ac82-a9db0e3aee10",
   "metadata": {
    "execution": {
     "iopub.execute_input": "2023-03-03T07:06:03.476503Z",
     "iopub.status.busy": "2023-03-03T07:06:03.474925Z",
     "iopub.status.idle": "2023-03-03T07:06:03.538080Z",
     "shell.execute_reply": "2023-03-03T07:06:03.537307Z",
     "shell.execute_reply.started": "2023-03-03T07:06:03.476470Z"
    }
   },
   "outputs": [
    {
     "data": {
      "text/html": [
       "<div>\n",
       "<style scoped>\n",
       "    .dataframe tbody tr th:only-of-type {\n",
       "        vertical-align: middle;\n",
       "    }\n",
       "\n",
       "    .dataframe tbody tr th {\n",
       "        vertical-align: top;\n",
       "    }\n",
       "\n",
       "    .dataframe thead th {\n",
       "        text-align: right;\n",
       "    }\n",
       "</style>\n",
       "<table border=\"1\" class=\"dataframe\">\n",
       "  <thead>\n",
       "    <tr style=\"text-align: right;\">\n",
       "      <th></th>\n",
       "      <th>lemma_id</th>\n",
       "      <th>page_id</th>\n",
       "      <th>page_part</th>\n",
       "      <th>lemma</th>\n",
       "      <th>lemma_lower</th>\n",
       "      <th>isupper</th>\n",
       "      <th>lemma_len</th>\n",
       "      <th>tag</th>\n",
       "      <th>tag_0</th>\n",
       "      <th>tag_1</th>\n",
       "      <th>tagZ</th>\n",
       "      <th>tagZZ</th>\n",
       "      <th>member</th>\n",
       "      <th>data_id</th>\n",
       "      <th>lemma_score</th>\n",
       "    </tr>\n",
       "  </thead>\n",
       "  <tbody>\n",
       "  </tbody>\n",
       "</table>\n",
       "</div>"
      ],
      "text/plain": [
       "Empty DataFrame\n",
       "Columns: [lemma_id, page_id, page_part, lemma, lemma_lower, isupper, lemma_len, tag, tag_0, tag_1, tagZ, tagZZ, member, data_id, lemma_score]\n",
       "Index: []"
      ]
     },
     "execution_count": 134,
     "metadata": {},
     "output_type": "execute_result"
    }
   ],
   "source": [
    "mask = wiktionary_lemma.lemma.isin(suche_debug) \n",
    "wiktionary_lemma[mask]"
   ]
  },
  {
   "cell_type": "markdown",
   "id": "c81cf120-40cd-406d-92f7-bf6d91892cf0",
   "metadata": {},
   "source": [
    "### wiktionary_nolemma"
   ]
  },
  {
   "cell_type": "code",
   "execution_count": 135,
   "id": "a62f3393-272d-403a-84d3-3a426eb266f3",
   "metadata": {
    "execution": {
     "iopub.execute_input": "2023-03-03T07:06:03.547019Z",
     "iopub.status.busy": "2023-03-03T07:06:03.542755Z",
     "iopub.status.idle": "2023-03-03T07:06:04.150484Z",
     "shell.execute_reply": "2023-03-03T07:06:04.149747Z",
     "shell.execute_reply.started": "2023-03-03T07:06:03.546959Z"
    }
   },
   "outputs": [
    {
     "name": "stdout",
     "output_type": "stream",
     "text": [
      "\u001b[1m\u001b[7m\u001b[34mNo rows\u001b[0m\n"
     ]
    }
   ],
   "source": [
    "# wiktionary_nolemma suche_debug\n",
    "grid(search_str(wiktionary_nolemma, suche_debug))"
   ]
  },
  {
   "cell_type": "markdown",
   "id": "a06aab01-918b-4812-a2c6-36e02d94e37a",
   "metadata": {},
   "source": [
    "### wiktionary_merkmal"
   ]
  },
  {
   "cell_type": "code",
   "execution_count": 136,
   "id": "cd626516-1989-4017-8324-e546b3093b03",
   "metadata": {
    "execution": {
     "iopub.execute_input": "2023-03-03T07:06:04.154331Z",
     "iopub.status.busy": "2023-03-03T07:06:04.153835Z",
     "iopub.status.idle": "2023-03-03T07:06:04.565078Z",
     "shell.execute_reply": "2023-03-03T07:06:04.564313Z",
     "shell.execute_reply.started": "2023-03-03T07:06:04.154308Z"
    }
   },
   "outputs": [
    {
     "name": "stdout",
     "output_type": "stream",
     "text": [
      "\u001b[1m\u001b[7m\u001b[34mNo rows\u001b[0m\n"
     ]
    }
   ],
   "source": [
    "mask = wiktionary_merkmal.lemma_id == suche_debug[0]\n",
    "a = wiktionary_merkmal[mask].sort_values(['merkmal','lemma_id','data'])\n",
    "grid(a)"
   ]
  },
  {
   "cell_type": "code",
   "execution_count": 137,
   "id": "21946cba-f0d5-4ae8-a0f2-7b96f25567cd",
   "metadata": {
    "execution": {
     "iopub.execute_input": "2023-03-03T07:06:04.566309Z",
     "iopub.status.busy": "2023-03-03T07:06:04.565980Z",
     "iopub.status.idle": "2023-03-03T07:06:04.736572Z",
     "shell.execute_reply": "2023-03-03T07:06:04.735963Z",
     "shell.execute_reply.started": "2023-03-03T07:06:04.566276Z"
    }
   },
   "outputs": [
    {
     "name": "stdout",
     "output_type": "stream",
     "text": [
      "1 rows\n"
     ]
    },
    {
     "data": {
      "text/html": [
       "<div>\n",
       "<style scoped>\n",
       "    .dataframe tbody tr th:only-of-type {\n",
       "        vertical-align: middle;\n",
       "    }\n",
       "\n",
       "    .dataframe tbody tr th {\n",
       "        vertical-align: top;\n",
       "    }\n",
       "\n",
       "    .dataframe thead th {\n",
       "        text-align: right;\n",
       "    }\n",
       "</style>\n",
       "<table border=\"1\" class=\"dataframe\">\n",
       "  <thead>\n",
       "    <tr style=\"text-align: right;\">\n",
       "      <th></th>\n",
       "      <th>lemma_id</th>\n",
       "      <th>merkmal</th>\n",
       "      <th>data_id</th>\n",
       "      <th>data</th>\n",
       "      <th>data_tag</th>\n",
       "      <th>lemma_tag</th>\n",
       "      <th>num</th>\n",
       "      <th>meta</th>\n",
       "      <th>data_score</th>\n",
       "      <th>is_lex</th>\n",
       "    </tr>\n",
       "  </thead>\n",
       "  <tbody>\n",
       "    <tr>\n",
       "      <th>2154574</th>\n",
       "      <td>Euro</td>\n",
       "      <td>abk</td>\n",
       "      <td>Euro~€</td>\n",
       "      <td>€</td>\n",
       "      <td></td>\n",
       "      <td>NN</td>\n",
       "      <td></td>\n",
       "      <td>manuell</td>\n",
       "      <td>153.715988</td>\n",
       "      <td>True</td>\n",
       "    </tr>\n",
       "  </tbody>\n",
       "</table>\n",
       "</div>"
      ],
      "text/plain": [
       "        lemma_id merkmal data_id data data_tag lemma_tag num     meta  \\\n",
       "2154574     Euro     abk  Euro~€    €                 NN      manuell   \n",
       "\n",
       "         data_score  is_lex  \n",
       "2154574  153.715988    True  "
      ]
     },
     "execution_count": 137,
     "metadata": {},
     "output_type": "execute_result"
    }
   ],
   "source": [
    "mask = wiktionary_merkmal.data.isin(suche_debug) \n",
    "a = wiktionary_merkmal[mask].sort_values(['merkmal','lemma_id','data'])\n",
    "grid(a)"
   ]
  },
  {
   "cell_type": "code",
   "execution_count": 138,
   "id": "32160579-66ae-4d36-9545-9ad39c548557",
   "metadata": {
    "execution": {
     "iopub.execute_input": "2023-03-03T07:06:04.737662Z",
     "iopub.status.busy": "2023-03-03T07:06:04.737406Z",
     "iopub.status.idle": "2023-03-03T07:06:04.916636Z",
     "shell.execute_reply": "2023-03-03T07:06:04.916027Z",
     "shell.execute_reply.started": "2023-03-03T07:06:04.737640Z"
    }
   },
   "outputs": [
    {
     "name": "stdout",
     "output_type": "stream",
     "text": [
      "1 rows\n"
     ]
    },
    {
     "data": {
      "text/html": [
       "<div>\n",
       "<style scoped>\n",
       "    .dataframe tbody tr th:only-of-type {\n",
       "        vertical-align: middle;\n",
       "    }\n",
       "\n",
       "    .dataframe tbody tr th {\n",
       "        vertical-align: top;\n",
       "    }\n",
       "\n",
       "    .dataframe thead th {\n",
       "        text-align: right;\n",
       "    }\n",
       "</style>\n",
       "<table border=\"1\" class=\"dataframe\">\n",
       "  <thead>\n",
       "    <tr style=\"text-align: right;\">\n",
       "      <th></th>\n",
       "      <th>lemma_id</th>\n",
       "      <th>merkmal</th>\n",
       "      <th>data_id</th>\n",
       "      <th>data</th>\n",
       "      <th>data_tag</th>\n",
       "      <th>lemma_tag</th>\n",
       "      <th>num</th>\n",
       "      <th>meta</th>\n",
       "      <th>data_score</th>\n",
       "      <th>is_lex</th>\n",
       "    </tr>\n",
       "  </thead>\n",
       "  <tbody>\n",
       "    <tr>\n",
       "      <th>2154574</th>\n",
       "      <td>Euro</td>\n",
       "      <td>abk</td>\n",
       "      <td>Euro~€</td>\n",
       "      <td>€</td>\n",
       "      <td></td>\n",
       "      <td>NN</td>\n",
       "      <td></td>\n",
       "      <td>manuell</td>\n",
       "      <td>153.715988</td>\n",
       "      <td>True</td>\n",
       "    </tr>\n",
       "  </tbody>\n",
       "</table>\n",
       "</div>"
      ],
      "text/plain": [
       "        lemma_id merkmal data_id data data_tag lemma_tag num     meta  \\\n",
       "2154574     Euro     abk  Euro~€    €                 NN      manuell   \n",
       "\n",
       "         data_score  is_lex  \n",
       "2154574  153.715988    True  "
      ]
     },
     "execution_count": 138,
     "metadata": {},
     "output_type": "execute_result"
    }
   ],
   "source": [
    "mask = wiktionary_merkmal.data.isin(suche_debug) \n",
    "a = wiktionary_merkmal[mask]\n",
    "grid(a)"
   ]
  },
  {
   "cell_type": "code",
   "execution_count": 139,
   "id": "e73f6125",
   "metadata": {
    "execution": {
     "iopub.execute_input": "2023-03-03T07:06:04.918088Z",
     "iopub.status.busy": "2023-03-03T07:06:04.917498Z",
     "iopub.status.idle": "2023-03-03T07:06:04.954644Z",
     "shell.execute_reply": "2023-03-03T07:06:04.953951Z",
     "shell.execute_reply.started": "2023-03-03T07:06:04.918062Z"
    }
   },
   "outputs": [],
   "source": [
    "# Genügend Datensätze?\n",
    "if version == '_all':\n",
    "    assert wiktionary_merkmal.shape[0] > 3320 * 1000"
   ]
  },
  {
   "cell_type": "markdown",
   "id": "89641ba1-95ea-40b8-967d-e71259ece332",
   "metadata": {},
   "source": [
    "### wiktionary_merkmal_wertlos"
   ]
  },
  {
   "cell_type": "code",
   "execution_count": 140,
   "id": "d2ccc5e4-a277-402b-bc98-8a9d800ae448",
   "metadata": {
    "execution": {
     "iopub.execute_input": "2023-03-03T07:06:04.956311Z",
     "iopub.status.busy": "2023-03-03T07:06:04.955675Z",
     "iopub.status.idle": "2023-03-03T07:06:05.055927Z",
     "shell.execute_reply": "2023-03-03T07:06:05.055345Z",
     "shell.execute_reply.started": "2023-03-03T07:06:04.956282Z"
    }
   },
   "outputs": [
    {
     "name": "stdout",
     "output_type": "stream",
     "text": [
      "\u001b[1m\u001b[7m\u001b[34mNo rows\u001b[0m\n"
     ]
    }
   ],
   "source": [
    "mask = wiktionary_merkmal_wertlos.lemma_id == suche_debug[0]\n",
    "a = wiktionary_merkmal_wertlos[mask].sort_values(['merkmal','lemma_id','data'])\n",
    "grid(a)"
   ]
  },
  {
   "cell_type": "code",
   "execution_count": 141,
   "id": "f0133bb4-fb35-4610-a8c4-64addf218aa3",
   "metadata": {
    "execution": {
     "iopub.execute_input": "2023-03-03T07:06:05.061728Z",
     "iopub.status.busy": "2023-03-03T07:06:05.059295Z",
     "iopub.status.idle": "2023-03-03T07:06:07.743716Z",
     "shell.execute_reply": "2023-03-03T07:06:07.743066Z",
     "shell.execute_reply.started": "2023-03-03T07:06:05.061689Z"
    }
   },
   "outputs": [
    {
     "name": "stdout",
     "output_type": "stream",
     "text": [
      "14 rows out of 323408\n"
     ]
    },
    {
     "data": {
      "text/html": [
       "<div>\n",
       "<style scoped>\n",
       "    .dataframe tbody tr th:only-of-type {\n",
       "        vertical-align: middle;\n",
       "    }\n",
       "\n",
       "    .dataframe tbody tr th {\n",
       "        vertical-align: top;\n",
       "    }\n",
       "\n",
       "    .dataframe thead th {\n",
       "        text-align: right;\n",
       "    }\n",
       "</style>\n",
       "<table border=\"1\" class=\"dataframe\">\n",
       "  <thead>\n",
       "    <tr style=\"text-align: right;\">\n",
       "      <th></th>\n",
       "      <th>lemma_id</th>\n",
       "      <th>merkmal</th>\n",
       "      <th>data</th>\n",
       "      <th>data_tag</th>\n",
       "      <th>lemma_tag</th>\n",
       "      <th>num</th>\n",
       "      <th>meta</th>\n",
       "      <th>data_score</th>\n",
       "      <th>is_lex</th>\n",
       "    </tr>\n",
       "  </thead>\n",
       "  <tbody>\n",
       "    <tr>\n",
       "      <th>3</th>\n",
       "      <td>Subfamilia</td>\n",
       "      <td>def</td>\n",
       "      <td>Familia</td>\n",
       "      <td></td>\n",
       "      <td>NN</td>\n",
       "      <td>1</td>\n",
       "      <td>Biologie</td>\n",
       "      <td>31.373240</td>\n",
       "      <td>False</td>\n",
       "    </tr>\n",
       "    <tr>\n",
       "      <th>5830</th>\n",
       "      <td>Licht</td>\n",
       "      <td>def</td>\n",
       "      <td>Ultraviolett</td>\n",
       "      <td></td>\n",
       "      <td>NN</td>\n",
       "      <td>9</td>\n",
       "      <td>Physik</td>\n",
       "      <td>971.624084</td>\n",
       "      <td>False</td>\n",
       "    </tr>\n",
       "    <tr>\n",
       "      <th>9324</th>\n",
       "      <td>Haus</td>\n",
       "      <td>herkunft</td>\n",
       "      <td>hus</td>\n",
       "      <td></td>\n",
       "      <td>NN</td>\n",
       "      <td></td>\n",
       "      <td></td>\n",
       "      <td>12106.767578</td>\n",
       "      <td>False</td>\n",
       "    </tr>\n",
       "    <tr>\n",
       "      <th>16622</th>\n",
       "      <td>Rauch</td>\n",
       "      <td>nurWortart</td>\n",
       "      <td></td>\n",
       "      <td></td>\n",
       "      <td>NN</td>\n",
       "      <td></td>\n",
       "      <td></td>\n",
       "      <td>381.538757</td>\n",
       "      <td>False</td>\n",
       "    </tr>\n",
       "    <tr>\n",
       "      <th>40435</th>\n",
       "      <td>Art</td>\n",
       "      <td>syn</td>\n",
       "      <td>Art und Weise</td>\n",
       "      <td></td>\n",
       "      <td>NN</td>\n",
       "      <td>2</td>\n",
       "      <td></td>\n",
       "      <td>678.518555</td>\n",
       "      <td>False</td>\n",
       "    </tr>\n",
       "    <tr>\n",
       "      <th>86326</th>\n",
       "      <td>Steuer_1</td>\n",
       "      <td>down</td>\n",
       "      <td>Beisteuer</td>\n",
       "      <td></td>\n",
       "      <td>NN</td>\n",
       "      <td>1</td>\n",
       "      <td>übrige</td>\n",
       "      <td>126.621284</td>\n",
       "      <td>False</td>\n",
       "    </tr>\n",
       "    <tr>\n",
       "      <th>98319</th>\n",
       "      <td>a._D.</td>\n",
       "      <td>def</td>\n",
       "      <td>außer Dienst</td>\n",
       "      <td></td>\n",
       "      <td></td>\n",
       "      <td>2</td>\n",
       "      <td></td>\n",
       "      <td>11.471608</td>\n",
       "      <td>False</td>\n",
       "    </tr>\n",
       "    <tr>\n",
       "      <th>182547</th>\n",
       "      <td>Joch</td>\n",
       "      <td>herkunft</td>\n",
       "      <td>𒄿𒌑𒃷</td>\n",
       "      <td></td>\n",
       "      <td>NN</td>\n",
       "      <td></td>\n",
       "      <td></td>\n",
       "      <td>255.691696</td>\n",
       "      <td>False</td>\n",
       "    </tr>\n",
       "    <tr>\n",
       "      <th>221212</th>\n",
       "      <td>Wahl</td>\n",
       "      <td>def</td>\n",
       "      <td>Abstimmen</td>\n",
       "      <td></td>\n",
       "      <td>NN</td>\n",
       "      <td>2</td>\n",
       "      <td>Politik</td>\n",
       "      <td>3498.780518</td>\n",
       "      <td>False</td>\n",
       "    </tr>\n",
       "    <tr>\n",
       "      <th>246046</th>\n",
       "      <td>-au</td>\n",
       "      <td>familie</td>\n",
       "      <td>Aschau</td>\n",
       "      <td></td>\n",
       "      <td>ZFIX NE</td>\n",
       "      <td></td>\n",
       "      <td></td>\n",
       "      <td>107.082916</td>\n",
       "      <td>False</td>\n",
       "    </tr>\n",
       "    <tr>\n",
       "      <th>303112</th>\n",
       "      <td>Guadeloupe</td>\n",
       "      <td>up_part</td>\n",
       "      <td>Kleine Antillen</td>\n",
       "      <td></td>\n",
       "      <td>NE</td>\n",
       "      <td>1</td>\n",
       "      <td></td>\n",
       "      <td>21.016516</td>\n",
       "      <td>False</td>\n",
       "    </tr>\n",
       "    <tr>\n",
       "      <th>728606</th>\n",
       "      <td>beklemmend_1</td>\n",
       "      <td>familie</td>\n",
       "      <td>herzbeklemmend</td>\n",
       "      <td></td>\n",
       "      <td>ADJA</td>\n",
       "      <td></td>\n",
       "      <td></td>\n",
       "      <td>0.120706</td>\n",
       "      <td>False</td>\n",
       "    </tr>\n",
       "    <tr>\n",
       "      <th>821168</th>\n",
       "      <td>μm</td>\n",
       "      <td>familie</td>\n",
       "      <td>μm²</td>\n",
       "      <td></td>\n",
       "      <td>TODO</td>\n",
       "      <td></td>\n",
       "      <td></td>\n",
       "      <td>13.975769</td>\n",
       "      <td>False</td>\n",
       "    </tr>\n",
       "    <tr>\n",
       "      <th>2466340</th>\n",
       "      <td>(_M</td>\n",
       "      <td>syn</td>\n",
       "      <td></td>\n",
       "      <td></td>\n",
       "      <td>$(</td>\n",
       "      <td></td>\n",
       "      <td></td>\n",
       "      <td>2.239461</td>\n",
       "      <td>False</td>\n",
       "    </tr>\n",
       "  </tbody>\n",
       "</table>\n",
       "</div>"
      ],
      "text/plain": [
       "             lemma_id     merkmal             data data_tag lemma_tag num  \\\n",
       "3          Subfamilia         def          Familia                 NN   1   \n",
       "5830            Licht         def     Ultraviolett                 NN   9   \n",
       "9324             Haus    herkunft              hus                 NN       \n",
       "16622           Rauch  nurWortart                                  NN       \n",
       "40435             Art         syn    Art und Weise                 NN   2   \n",
       "86326        Steuer_1        down        Beisteuer                 NN   1   \n",
       "98319           a._D.         def     außer Dienst                      2   \n",
       "182547           Joch    herkunft              𒄿𒌑𒃷                 NN       \n",
       "221212           Wahl         def        Abstimmen                 NN   2   \n",
       "246046            -au     familie           Aschau            ZFIX NE       \n",
       "303112     Guadeloupe     up_part  Kleine Antillen                 NE   1   \n",
       "728606   beklemmend_1     familie   herzbeklemmend               ADJA       \n",
       "821168             μm     familie              μm²               TODO       \n",
       "2466340           (_M         syn                                  $(       \n",
       "\n",
       "             meta    data_score  is_lex  \n",
       "3        Biologie     31.373240   False  \n",
       "5830       Physik    971.624084   False  \n",
       "9324               12106.767578   False  \n",
       "16622                381.538757   False  \n",
       "40435                678.518555   False  \n",
       "86326      übrige    126.621284   False  \n",
       "98319                 11.471608   False  \n",
       "182547               255.691696   False  \n",
       "221212    Politik   3498.780518   False  \n",
       "246046               107.082916   False  \n",
       "303112                21.016516   False  \n",
       "728606                 0.120706   False  \n",
       "821168                13.975769   False  \n",
       "2466340                2.239461   False  "
      ]
     },
     "execution_count": 141,
     "metadata": {},
     "output_type": "execute_result"
    }
   ],
   "source": [
    "grid(wiktionary_merkmal_wertlos,pak.sample)"
   ]
  },
  {
   "cell_type": "markdown",
   "id": "db2121f2-6314-49c6-8bcf-29fa6ca408da",
   "metadata": {},
   "source": [
    "## Partizipien prüfen"
   ]
  },
  {
   "cell_type": "code",
   "execution_count": 142,
   "id": "c8029f44-34c4-45a5-a749-cbe67b0277e4",
   "metadata": {
    "execution": {
     "iopub.execute_input": "2023-03-03T07:06:07.747658Z",
     "iopub.status.busy": "2023-03-03T07:06:07.747319Z",
     "iopub.status.idle": "2023-03-03T07:06:07.790733Z",
     "shell.execute_reply": "2023-03-03T07:06:07.790034Z",
     "shell.execute_reply.started": "2023-03-03T07:06:07.747628Z"
    }
   },
   "outputs": [],
   "source": [
    "suche_L = 'missraten' \n",
    "suche_P = 'missraten'  \n",
    "\n",
    "#suche_L = 'gefriertrocknen' \n",
    "#suche_P = 'gefriergetrocknet'  "
   ]
  },
  {
   "cell_type": "code",
   "execution_count": 143,
   "id": "60e93cfb-8a87-493b-80da-6c1fd40d3b18",
   "metadata": {
    "execution": {
     "iopub.execute_input": "2023-03-03T07:06:07.796633Z",
     "iopub.status.busy": "2023-03-03T07:06:07.794285Z",
     "iopub.status.idle": "2023-03-03T07:06:07.884201Z",
     "shell.execute_reply": "2023-03-03T07:06:07.883243Z",
     "shell.execute_reply.started": "2023-03-03T07:06:07.796595Z"
    }
   },
   "outputs": [
    {
     "data": {
      "text/html": [
       "<div>\n",
       "<style scoped>\n",
       "    .dataframe tbody tr th:only-of-type {\n",
       "        vertical-align: middle;\n",
       "    }\n",
       "\n",
       "    .dataframe tbody tr th {\n",
       "        vertical-align: top;\n",
       "    }\n",
       "\n",
       "    .dataframe thead th {\n",
       "        text-align: right;\n",
       "    }\n",
       "</style>\n",
       "<table border=\"1\" class=\"dataframe\">\n",
       "  <thead>\n",
       "    <tr style=\"text-align: right;\">\n",
       "      <th></th>\n",
       "      <th>lemma_id</th>\n",
       "      <th>page_id</th>\n",
       "      <th>page_part</th>\n",
       "      <th>lemma</th>\n",
       "      <th>lemma_lower</th>\n",
       "      <th>isupper</th>\n",
       "      <th>lemma_len</th>\n",
       "      <th>tag</th>\n",
       "      <th>tag_0</th>\n",
       "      <th>tag_1</th>\n",
       "      <th>tagZ</th>\n",
       "      <th>tagZZ</th>\n",
       "      <th>member</th>\n",
       "      <th>data_id</th>\n",
       "      <th>lemma_score</th>\n",
       "    </tr>\n",
       "  </thead>\n",
       "  <tbody>\n",
       "    <tr>\n",
       "      <th>2214</th>\n",
       "      <td>missraten</td>\n",
       "      <td>242838</td>\n",
       "      <td>0</td>\n",
       "      <td>missraten</td>\n",
       "      <td>missraten</td>\n",
       "      <td>False</td>\n",
       "      <td>1</td>\n",
       "      <td>VVFIN</td>\n",
       "      <td>VVFIN</td>\n",
       "      <td>FtWyhwYugt</td>\n",
       "      <td>VER</td>\n",
       "      <td>V</td>\n",
       "      <td>manuell</td>\n",
       "      <td></td>\n",
       "      <td>83.956558</td>\n",
       "    </tr>\n",
       "  </tbody>\n",
       "</table>\n",
       "</div>"
      ],
      "text/plain": [
       "       lemma_id  page_id  page_part      lemma lemma_lower  isupper  \\\n",
       "2214  missraten   242838          0  missraten   missraten    False   \n",
       "\n",
       "      lemma_len    tag  tag_0       tag_1 tagZ tagZZ   member data_id  \\\n",
       "2214          1  VVFIN  VVFIN  FtWyhwYugt  VER     V  manuell           \n",
       "\n",
       "      lemma_score  \n",
       "2214    83.956558  "
      ]
     },
     "execution_count": 143,
     "metadata": {},
     "output_type": "execute_result"
    }
   ],
   "source": [
    "# das Verb in wiktionary_lemma\n",
    "mask1 = wiktionary_lemma.lemma == suche_L\n",
    "mask2 = wiktionary_lemma.tagZZ == 'V'\n",
    "mask = mask1  &  mask2\n",
    "\n",
    "suche_L_id = wiktionary_lemma[mask].iloc[0].lemma_id\n",
    "wiktionary_lemma[mask]"
   ]
  },
  {
   "cell_type": "code",
   "execution_count": 144,
   "id": "bb82028c-1bf2-40b5-b740-761f68456fc7",
   "metadata": {
    "execution": {
     "iopub.execute_input": "2023-03-03T07:06:07.888299Z",
     "iopub.status.busy": "2023-03-03T07:06:07.887968Z",
     "iopub.status.idle": "2023-03-03T07:06:08.041403Z",
     "shell.execute_reply": "2023-03-03T07:06:08.040159Z",
     "shell.execute_reply.started": "2023-03-03T07:06:07.888269Z"
    }
   },
   "outputs": [
    {
     "data": {
      "text/html": [
       "<div>\n",
       "<style scoped>\n",
       "    .dataframe tbody tr th:only-of-type {\n",
       "        vertical-align: middle;\n",
       "    }\n",
       "\n",
       "    .dataframe tbody tr th {\n",
       "        vertical-align: top;\n",
       "    }\n",
       "\n",
       "    .dataframe thead th {\n",
       "        text-align: right;\n",
       "    }\n",
       "</style>\n",
       "<table border=\"1\" class=\"dataframe\">\n",
       "  <thead>\n",
       "    <tr style=\"text-align: right;\">\n",
       "      <th></th>\n",
       "      <th>lemma_id</th>\n",
       "      <th>page_id</th>\n",
       "      <th>page_part</th>\n",
       "      <th>lemma</th>\n",
       "      <th>lemma_lower</th>\n",
       "      <th>isupper</th>\n",
       "      <th>lemma_len</th>\n",
       "      <th>tag</th>\n",
       "      <th>tag_0</th>\n",
       "      <th>tag_1</th>\n",
       "      <th>tagZ</th>\n",
       "      <th>tagZZ</th>\n",
       "      <th>member</th>\n",
       "      <th>data_id</th>\n",
       "      <th>lemma_score</th>\n",
       "    </tr>\n",
       "  </thead>\n",
       "  <tbody>\n",
       "    <tr>\n",
       "      <th>145763</th>\n",
       "      <td>missraten_MADJ</td>\n",
       "      <td>-1</td>\n",
       "      <td>-1</td>\n",
       "      <td>missraten</td>\n",
       "      <td>missraten</td>\n",
       "      <td>False</td>\n",
       "      <td>1</td>\n",
       "      <td>ADJA</td>\n",
       "      <td>ADJA</td>\n",
       "      <td>TkS2AKRNHA</td>\n",
       "      <td>ADJ</td>\n",
       "      <td>A</td>\n",
       "      <td>Ptz2 manuell</td>\n",
       "      <td>missraten</td>\n",
       "      <td>2.239461</td>\n",
       "    </tr>\n",
       "  </tbody>\n",
       "</table>\n",
       "</div>"
      ],
      "text/plain": [
       "              lemma_id  page_id  page_part      lemma lemma_lower  isupper  \\\n",
       "145763  missraten_MADJ       -1         -1  missraten   missraten    False   \n",
       "\n",
       "        lemma_len   tag tag_0       tag_1 tagZ tagZZ        member    data_id  \\\n",
       "145763          1  ADJA  ADJA  TkS2AKRNHA  ADJ     A  Ptz2 manuell  missraten   \n",
       "\n",
       "        lemma_score  \n",
       "145763     2.239461  "
      ]
     },
     "execution_count": 144,
     "metadata": {},
     "output_type": "execute_result"
    }
   ],
   "source": [
    "# das Adjektiv in wiktionary_lemma\n",
    "mask1 = wiktionary_lemma.lemma == suche_P\n",
    "mask2 = wiktionary_lemma.tagZZ == 'A'\n",
    "mask3 = wiktionary_lemma.member.str.contains('Ptz')\n",
    "mask4 = wiktionary_lemma.data_id == suche_L_id\n",
    "mask = mask1  &  mask2  &  mask3  &  mask4\n",
    "\n",
    "suche_P_id = wiktionary_lemma[mask].iloc[0].lemma_id\n",
    "wiktionary_lemma[mask]"
   ]
  },
  {
   "cell_type": "code",
   "execution_count": 145,
   "id": "57cc302f-5e61-4e6c-8cfd-a11bfebdb3ef",
   "metadata": {
    "execution": {
     "iopub.execute_input": "2023-03-03T07:06:08.043924Z",
     "iopub.status.busy": "2023-03-03T07:06:08.043218Z",
     "iopub.status.idle": "2023-03-03T07:06:12.138337Z",
     "shell.execute_reply": "2023-03-03T07:06:12.137652Z",
     "shell.execute_reply.started": "2023-03-03T07:06:08.043874Z"
    }
   },
   "outputs": [
    {
     "data": {
      "text/html": [
       "<div>\n",
       "<style scoped>\n",
       "    .dataframe tbody tr th:only-of-type {\n",
       "        vertical-align: middle;\n",
       "    }\n",
       "\n",
       "    .dataframe tbody tr th {\n",
       "        vertical-align: top;\n",
       "    }\n",
       "\n",
       "    .dataframe thead th {\n",
       "        text-align: right;\n",
       "    }\n",
       "</style>\n",
       "<table border=\"1\" class=\"dataframe\">\n",
       "  <thead>\n",
       "    <tr style=\"text-align: right;\">\n",
       "      <th></th>\n",
       "      <th>lemma_id</th>\n",
       "      <th>merkmal</th>\n",
       "      <th>data_id</th>\n",
       "      <th>data</th>\n",
       "      <th>data_tag</th>\n",
       "      <th>lemma_tag</th>\n",
       "      <th>num</th>\n",
       "      <th>meta</th>\n",
       "      <th>data_score</th>\n",
       "      <th>is_lex</th>\n",
       "    </tr>\n",
       "  </thead>\n",
       "  <tbody>\n",
       "    <tr>\n",
       "      <th>3454756</th>\n",
       "      <td>missraten</td>\n",
       "      <td>Ptz2</td>\n",
       "      <td>missraten_MADJ</td>\n",
       "      <td>missraten</td>\n",
       "      <td></td>\n",
       "      <td>VVFIN</td>\n",
       "      <td></td>\n",
       "      <td></td>\n",
       "      <td>25.746058</td>\n",
       "      <td>True</td>\n",
       "    </tr>\n",
       "  </tbody>\n",
       "</table>\n",
       "</div>"
      ],
      "text/plain": [
       "          lemma_id merkmal         data_id       data data_tag lemma_tag num  \\\n",
       "3454756  missraten    Ptz2  missraten_MADJ  missraten              VVFIN       \n",
       "\n",
       "        meta  data_score  is_lex  \n",
       "3454756        25.746058    True  "
      ]
     },
     "execution_count": 145,
     "metadata": {},
     "output_type": "execute_result"
    }
   ],
   "source": [
    "# Das Ptz-Merkmal in wiktionary_lemma\n",
    "mask1 = wiktionary_merkmal.data == suche_P\n",
    "mask2 = wiktionary_merkmal.merkmal.str.startswith('Ptz')\n",
    "mask3 = wiktionary_merkmal.lemma_tag.str.startswith('V')\n",
    "mask4 = wiktionary_merkmal.lemma_id == suche_L_id   # zeigt aufs Verb\n",
    "mask5 = wiktionary_merkmal.data_id  == suche_P_id   # zeigt aufs Adjektiv\n",
    "mask = mask1  &  mask2  &  mask3  &  mask4  &  mask5\n",
    "wiktionary_merkmal[mask]"
   ]
  },
  {
   "cell_type": "markdown",
   "id": "1c8ecfd9-b120-4837-a969-199988d73e17",
   "metadata": {},
   "source": [
    "## Speichern"
   ]
  },
  {
   "cell_type": "code",
   "execution_count": 146,
   "id": "a33a20ab",
   "metadata": {
    "execution": {
     "iopub.execute_input": "2023-03-03T07:06:12.147948Z",
     "iopub.status.busy": "2023-03-03T07:06:12.142012Z",
     "iopub.status.idle": "2023-03-03T07:06:12.187479Z",
     "shell.execute_reply": "2023-03-03T07:06:12.186724Z",
     "shell.execute_reply.started": "2023-03-03T07:06:12.147909Z"
    }
   },
   "outputs": [],
   "source": [
    "assert gründlich"
   ]
  },
  {
   "cell_type": "code",
   "execution_count": 147,
   "id": "4e9d3aa1",
   "metadata": {
    "execution": {
     "iopub.execute_input": "2023-03-03T07:06:12.193520Z",
     "iopub.status.busy": "2023-03-03T07:06:12.191298Z",
     "iopub.status.idle": "2023-03-03T07:07:01.095125Z",
     "shell.execute_reply": "2023-03-03T07:07:01.094462Z",
     "shell.execute_reply.started": "2023-03-03T07:06:12.193483Z"
    }
   },
   "outputs": [],
   "source": [
    "# Speichern  \n",
    "pak.dump_pickle(wiktionary_lemma,            wiktionary_lemma_filename_save)   \n",
    "pak.dump_pickle(wiktionary_nolemma,          wiktionary_nolemma_filename_save)  \n",
    "pak.dump_pickle(wiktionary_merkmal,          wiktionary_merkmal_filename_save) \n",
    "pak.dump_pickle(wiktionary_merkmal_text,     wiktionary_merkmal_text_filename_save)  \n",
    "pak.dump_pickle(wiktionary_merkmal_wertlos,  wiktionary_merkmal_wertlos_filename_save)  \n",
    "os.utime(verzeichnis_save)"
   ]
  },
  {
   "cell_type": "code",
   "execution_count": 148,
   "id": "aa246a78-082c-4e2b-9e8a-35332fbb829c",
   "metadata": {
    "colab": {
     "base_uri": "https://localhost:8080/"
    },
    "execution": {
     "iopub.execute_input": "2023-03-03T07:07:01.096296Z",
     "iopub.status.busy": "2023-03-03T07:07:01.095944Z",
     "iopub.status.idle": "2023-03-03T07:07:01.132154Z",
     "shell.execute_reply": "2023-03-03T07:07:01.131478Z",
     "shell.execute_reply.started": "2023-03-03T07:07:01.096270Z"
    },
    "executionInfo": {
     "elapsed": 7425,
     "status": "ok",
     "timestamp": 1676479015113,
     "user": {
      "displayName": "Hups Hopsalla",
      "userId": "10020718461385065661"
     },
     "user_tz": -60
    },
    "id": "dbiDceKXyUx7",
    "outputId": "beb0cf2a-bc86-47c4-81e6-b11c7354957c",
    "tags": []
   },
   "outputs": [],
   "source": [
    "# Save in Google Drive\n",
    "if environment['in_colab']:\n",
    "    from google.colab import drive\n",
    "    drive.mount('/content/drive') \n",
    "    !cd /content\n",
    "    !cp -av {verzeichnis_save} /content/drive/MyDrive"
   ]
  },
  {
   "cell_type": "code",
   "execution_count": 149,
   "id": "e73c9f00-8d72-46ad-84d6-f7d3e359b625",
   "metadata": {
    "execution": {
     "iopub.execute_input": "2023-03-03T07:07:01.133304Z",
     "iopub.status.busy": "2023-03-03T07:07:01.133049Z",
     "iopub.status.idle": "2023-03-03T07:07:01.200849Z",
     "shell.execute_reply": "2023-03-03T07:07:01.199717Z",
     "shell.execute_reply.started": "2023-03-03T07:07:01.133280Z"
    },
    "tags": []
   },
   "outputs": [
    {
     "name": "stdout",
     "output_type": "stream",
     "text": [
      "Stop Time:  08:07:01\n",
      "Elapsed:    7 hours, 49 mins, 15 secs\n"
     ]
    },
    {
     "data": {
      "text/html": [
       "<img src onerror=\"var cell = this.closest('.jp-CodeCell');var editor = cell.querySelector('.jp-Editor');editor.style.background='DarkGray';this.parentNode.removeChild(this)\">"
      ],
      "text/plain": [
       "<IPython.core.display.HTML object>"
      ]
     },
     "metadata": {},
     "output_type": "display_data"
    },
    {
     "name": "stdout",
     "output_type": "stream",
     "text": [
      "Executing shutdown due to inactivity...\n"
     ]
    },
    {
     "name": "stderr",
     "output_type": "stream",
     "text": [
      "2023-03-03 09:02:45,670 - INFO     - Executing shutdown due to inactivity...\n"
     ]
    },
    {
     "name": "stdout",
     "output_type": "stream",
     "text": [
      "Executing shutdown...\n"
     ]
    },
    {
     "name": "stderr",
     "output_type": "stream",
     "text": [
      "2023-03-03 09:02:45,684 - INFO     - Executing shutdown...\n"
     ]
    },
    {
     "name": "stdout",
     "output_type": "stream",
     "text": [
      "Exception on /shutdown [GET]\n",
      "Traceback (most recent call last):\n",
      "  File \"/home/me/mambaforge/envs/python_06/lib/python3.9/site-packages/flask/app.py\", line 2525, in wsgi_app\n",
      "    response = self.full_dispatch_request()\n",
      "  File \"/home/me/mambaforge/envs/python_06/lib/python3.9/site-packages/flask/app.py\", line 1822, in full_dispatch_request\n",
      "    rv = self.handle_user_exception(e)\n",
      "  File \"/home/me/mambaforge/envs/python_06/lib/python3.9/site-packages/flask/app.py\", line 1820, in full_dispatch_request\n",
      "    rv = self.dispatch_request()\n",
      "  File \"/home/me/mambaforge/envs/python_06/lib/python3.9/site-packages/flask/app.py\", line 1796, in dispatch_request\n",
      "    return self.ensure_sync(self.view_functions[rule.endpoint])(**view_args)\n",
      "  File \"/home/me/mambaforge/envs/python_06/lib/python3.9/site-packages/dtale/app.py\", line 435, in shutdown\n",
      "    shutdown_server()\n",
      "  File \"/home/me/mambaforge/envs/python_06/lib/python3.9/site-packages/dtale/app.py\", line 421, in shutdown_server\n",
      "    raise RuntimeError(\"Not running with the Werkzeug Server\")\n",
      "RuntimeError: Not running with the Werkzeug Server\n"
     ]
    },
    {
     "name": "stderr",
     "output_type": "stream",
     "text": [
      "2023-03-03 09:02:45,689 - ERROR    - Exception on /shutdown [GET]\n",
      "Traceback (most recent call last):\n",
      "  File \"/home/me/mambaforge/envs/python_06/lib/python3.9/site-packages/flask/app.py\", line 2525, in wsgi_app\n",
      "    response = self.full_dispatch_request()\n",
      "  File \"/home/me/mambaforge/envs/python_06/lib/python3.9/site-packages/flask/app.py\", line 1822, in full_dispatch_request\n",
      "    rv = self.handle_user_exception(e)\n",
      "  File \"/home/me/mambaforge/envs/python_06/lib/python3.9/site-packages/flask/app.py\", line 1820, in full_dispatch_request\n",
      "    rv = self.dispatch_request()\n",
      "  File \"/home/me/mambaforge/envs/python_06/lib/python3.9/site-packages/flask/app.py\", line 1796, in dispatch_request\n",
      "    return self.ensure_sync(self.view_functions[rule.endpoint])(**view_args)\n",
      "  File \"/home/me/mambaforge/envs/python_06/lib/python3.9/site-packages/dtale/app.py\", line 435, in shutdown\n",
      "    shutdown_server()\n",
      "  File \"/home/me/mambaforge/envs/python_06/lib/python3.9/site-packages/dtale/app.py\", line 421, in shutdown_server\n",
      "    raise RuntimeError(\"Not running with the Werkzeug Server\")\n",
      "RuntimeError: Not running with the Werkzeug Server\n"
     ]
    }
   ],
   "source": [
    "raise Stop"
   ]
  }
 ],
 "metadata": {
  "kernelspec": {
   "display_name": "Python 3 (ipykernel)",
   "language": "python",
   "name": "python3"
  },
  "language_info": {
   "codemirror_mode": {
    "name": "ipython",
    "version": 3
   },
   "file_extension": ".py",
   "mimetype": "text/x-python",
   "name": "python",
   "nbconvert_exporter": "python",
   "pygments_lexer": "ipython3",
   "version": "3.9.13"
  }
 },
 "nbformat": 4,
 "nbformat_minor": 5
}
