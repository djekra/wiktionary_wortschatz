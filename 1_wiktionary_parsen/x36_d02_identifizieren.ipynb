{
 "cells": [
  {
   "cell_type": "markdown",
   "id": "292f513d-b9c9-4744-a552-be9ca7bf6e64",
   "metadata": {
    "id": "lSehjmZun5OP"
   },
   "source": [
    "__[Open and try this file online (Colab)](https://colab.research.google.com/github/djekra/wiktionary_wortschatz/blob/master/1_wiktionary_parsen/x36_d02_identifizieren.ipynb)__"
   ]
  },
  {
   "cell_type": "markdown",
   "id": "58fc9afb",
   "metadata": {},
   "source": [
    "# Identifizieren\n",
    "* speichert in data_02\n",
    "* lex_test level 2"
   ]
  },
  {
   "cell_type": "markdown",
   "id": "add82721-3db4-4a4e-893f-de5a95582df4",
   "metadata": {},
   "source": [
    "## Import"
   ]
  },
  {
   "cell_type": "code",
   "execution_count": 1,
   "id": "54e6875f-19a3-4095-a876-807e0ff092fa",
   "metadata": {},
   "outputs": [
    {
     "name": "stdout",
     "output_type": "stream",
     "text": [
      "blab init\n",
      "environment['dropbox_path'] = /home/me/Data_Linux/Dropbox\n",
      "environment['lib_path']     = /home/me/Data_Linux/Dropbox/31_Projekte/01_Python/libs\n",
      "Start Time: 17:51:44\n"
     ]
    },
    {
     "data": {
      "text/html": [
       "<img src onerror=\"var cell = this.closest('.jp-CodeCell');var editor = cell.querySelector('.jp-Editor');editor.style.background='Beige';this.parentNode.removeChild(this)\">"
      ],
      "text/plain": [
       "<IPython.core.display.HTML object>"
      ]
     },
     "metadata": {},
     "output_type": "display_data"
    },
    {
     "name": "stdout",
     "output_type": "stream",
     "text": [
      "time: 409 ms\n"
     ]
    }
   ],
   "source": [
    "# blab init\n",
    "try:\n",
    "    import blab\n",
    "except ImportError as e:\n",
    "    !pip install blab\n",
    "    import blab    \n",
    "startup_notebook = blab.blab_startup()\n",
    "%run $startup_notebook "
   ]
  },
  {
   "cell_type": "code",
   "execution_count": null,
   "id": "73c3d6d3-a70a-4c0c-9076-bcf9f4126d71",
   "metadata": {},
   "outputs": [],
   "source": [
    "# pandas\n",
    "if environment['in_colab']:\n",
    "    !pip install --upgrade pandas\n",
    "import pandas as pd"
   ]
  },
  {
   "cell_type": "code",
   "execution_count": 2,
   "id": "e765a221-def0-4b65-8fa6-d6ce29659386",
   "metadata": {},
   "outputs": [
    {
     "name": "stdout",
     "output_type": "stream",
     "text": [
      "time: 4.2 s\n"
     ]
    }
   ],
   "source": [
    "# alle anderen\n",
    "try:\n",
    "    import pandasklar as pak, bpyth as bpy, bj_nlp, swifter\n",
    "\n",
    "except ImportError as e:\n",
    "    !pip install pandasklar swifter bj_nlp\n",
    "    import pandasklar as pak, bpyth as bpy, bj_nlp, swifter\n",
    "    \n",
    "grid       = pak.grid\n",
    "check_mask = pak.check_mask      "
   ]
  },
  {
   "cell_type": "markdown",
   "id": "47f543b9-c3ac-4e41-af85-4b8467d1af9e",
   "metadata": {},
   "source": [
    "## Einstellungen"
   ]
  },
  {
   "cell_type": "code",
   "execution_count": 5,
   "id": "4382d29c",
   "metadata": {},
   "outputs": [
    {
     "name": "stdout",
     "output_type": "stream",
     "text": [
      "VERBOSE = True\n",
      "--> setting verbose=True as default for all pandasklar functions\n",
      "\n",
      "time: 48.9 ms\n"
     ]
    }
   ],
   "source": [
    "# Einstellungen\n",
    "\n",
    "# Was debuggen?\n",
    "suche_debug = ['umhänge','umhängst','umhängen']  \n",
    "suche_debug = ['inner-','innere','inner']  \n",
    "suche_debug = ['Citrone','zuviele']  \n",
    "suche_debug      = ['gefriergetrocknet','gefriertrocknen','missraten']  \n",
    "\n",
    "gründlich = True # einige Arbeitsschritte können weggelassen werden, wenn gründlich = True\n",
    "version = '_all'\n",
    "#version = '_100K'\n",
    "\n",
    "# verbose\n",
    "pak.Config.set('VERBOSE', True)\n",
    "\n",
    "# Load\n",
    "verzeichnis_load                         = 'data_01'\n",
    "wiktionary_lemma_filename                = verzeichnis_load + '/wiktionary_lemma'        + version + '.pickle'  \n",
    "wiktionary_nolemma_filename              = verzeichnis_load + '/wiktionary_nolemma'      + version + '.pickle'  \n",
    "wiktionary_merkmal_filename              = verzeichnis_load + '/wiktionary_merkmal'      + version + '.pickle'  \n",
    "wiktionary_merkmal_text_filename         = verzeichnis_load + '/wiktionary_merkmal_text' + version + '.pickle'  \n",
    "\n",
    "# Steuertabellen\n",
    "lex_test_filename                        = 'Steuertabellen/lex_test.xlsx'  \n",
    "löschliste_filename                      = 'Steuertabellen/löschliste.xlsx'     \n",
    "     \n",
    "# Save\n",
    "verzeichnis_save                         = 'data_02'\n",
    "wiktionary_lemma_filename_save           = verzeichnis_save + '/wiktionary_lemma.pickle'  \n",
    "wiktionary_nolemma_filename_save         = verzeichnis_save + '/wiktionary_nolemma.pickle'  # wird als translate_lex wieder geladen\n",
    "wiktionary_merkmal_filename_save         = verzeichnis_save + '/wiktionary_merkmal.pickle'  \n",
    "wiktionary_merkmal_text_filename_save    = verzeichnis_save + '/wiktionary_merkmal_text.pickle'  \n",
    "wiktionary_merkmal_wertlos_filename_save = verzeichnis_save + '/wiktionary_merkmal_wertlos.pickle'  \n"
   ]
  },
  {
   "cell_type": "markdown",
   "id": "ca29735a-beda-407e-b05d-0c678faa7858",
   "metadata": {
    "id": "p1lM3YLgn5Ou"
   },
   "source": [
    "## Vorbereiten"
   ]
  },
  {
   "cell_type": "code",
   "execution_count": 4,
   "id": "82ffc21c-6a5d-4a23-8c64-20c86e7d572d",
   "metadata": {
    "colab": {
     "base_uri": "https://localhost:8080/"
    },
    "executionInfo": {
     "elapsed": 13,
     "status": "ok",
     "timestamp": 1676476829076,
     "user": {
      "displayName": "Hups Hopsalla",
      "userId": "10020718461385065661"
     },
     "user_tz": -60
    },
    "id": "Oy4Rb6WZn5Ow",
    "outputId": "6b94d1aa-3ffa-4388-d3f4-53b785e09406"
   },
   "outputs": [
    {
     "name": "stdout",
     "output_type": "stream",
     "text": [
      "time: 44.4 ms\n"
     ]
    }
   ],
   "source": [
    "# Verzeichnisse erzeugen\n",
    "os.makedirs(verzeichnis_load, exist_ok=True) \n",
    "os.makedirs(verzeichnis_save, exist_ok=True) "
   ]
  },
  {
   "cell_type": "code",
   "execution_count": 5,
   "id": "d37038fd-874c-49c4-a1db-3ae5a681f327",
   "metadata": {},
   "outputs": [
    {
     "name": "stdout",
     "output_type": "stream",
     "text": [
      "time: 38.9 ms\n"
     ]
    }
   ],
   "source": [
    "# Steuertabellen und Python-Files von Github herunterladen\n",
    "import os\n",
    "if not os.path.exists('Steuertabellen'):\n",
    "   !git clone https://github.com/djekra/wiktionary_wortschatz.git\n",
    "   !cp -r wiktionary_wortschatz/1_wiktionary_parsen/Steuertabellen Steuertabellen\n",
    "   !cp -r wiktionary_wortschatz/1_wiktionary_parsen/*.py .\n",
    "#   !rm -r wiktionary_wortschatz"
   ]
  },
  {
   "cell_type": "code",
   "execution_count": 6,
   "id": "1710b09d-0db6-489a-9c3e-30a606830a42",
   "metadata": {
    "colab": {
     "base_uri": "https://localhost:8080/"
    },
    "executionInfo": {
     "elapsed": 7425,
     "status": "ok",
     "timestamp": 1676479015113,
     "user": {
      "displayName": "Hups Hopsalla",
      "userId": "10020718461385065661"
     },
     "user_tz": -60
    },
    "id": "dbiDceKXyUx7",
    "outputId": "beb0cf2a-bc86-47c4-81e6-b11c7354957c"
   },
   "outputs": [
    {
     "name": "stdout",
     "output_type": "stream",
     "text": [
      "time: 43.8 ms\n"
     ]
    }
   ],
   "source": [
    "# Lade Ergebnisse der vorherigen Verarbeitungsstufe von Google Drive, falls nicht lokal vorhanden\n",
    "# Dieses Verzeichnis wurde in der vorherigen Verarbeitungsstufe angelegt \n",
    "if environment['in_colab']:\n",
    "    from google.colab import drive\n",
    "    drive.mount('/content/drive') \n",
    "    !cd /content\n",
    "    !cp -av /content/drive/MyDrive/{verzeichnis_load} ."
   ]
  },
  {
   "cell_type": "code",
   "execution_count": 3,
   "id": "0dd297b6",
   "metadata": {},
   "outputs": [
    {
     "name": "stdout",
     "output_type": "stream",
     "text": [
      "time: 1.56 s\n"
     ]
    }
   ],
   "source": [
    "# Weitere Imports\n",
    "from Steuertabellen.s01_Steuertabellen import *\n",
    "from x32_Funktionen                    import *"
   ]
  },
  {
   "cell_type": "raw",
   "id": "42c4f203-b527-4d64-814c-3cc5ca863964",
   "metadata": {
    "tags": []
   },
   "source": [
    "from pandarallel import pandarallel\n",
    "nb_workers = os.cpu_count()\n",
    "if nb_workers > 2:\n",
    "    nb_workers = int((nb_workers / 2) - 1)\n",
    "pandarallel.initialize(use_memory_fs=True, nb_workers=nb_workers, progress_bar=True)  "
   ]
  },
  {
   "cell_type": "code",
   "execution_count": 6,
   "id": "6443dce1-13d0-4052-bd07-bd2b1f414a6f",
   "metadata": {},
   "outputs": [
    {
     "name": "stdout",
     "output_type": "stream",
     "text": [
      "time: 44.4 ms\n"
     ]
    }
   ],
   "source": [
    "#!python -m spacy download de_core_news_sm"
   ]
  },
  {
   "cell_type": "code",
   "execution_count": 7,
   "id": "d7ab2a1a-a14c-4e1a-92b0-ffa912a3dd83",
   "metadata": {},
   "outputs": [
    {
     "name": "stdout",
     "output_type": "stream",
     "text": [
      "Input rtype=('dict', 'dict', 'list', 'str') shape=(-77, -77)\n",
      "rotated=True Output rtype=('DataFrame', 'Series') shape=(4, 6)\n",
      "model_name: de_core_news_sm\n",
      "vocab_len: 682\n",
      "pipe component disabled: ['senter']\n"
     ]
    },
    {
     "data": {
      "text/html": [
       "<div>\n",
       "<style scoped>\n",
       "    .dataframe tbody tr th:only-of-type {\n",
       "        vertical-align: middle;\n",
       "    }\n",
       "\n",
       "    .dataframe tbody tr th {\n",
       "        vertical-align: top;\n",
       "    }\n",
       "\n",
       "    .dataframe thead th {\n",
       "        text-align: right;\n",
       "    }\n",
       "</style>\n",
       "<table border=\"1\" class=\"dataframe\">\n",
       "  <thead>\n",
       "    <tr style=\"text-align: right;\">\n",
       "      <th></th>\n",
       "      <th>component</th>\n",
       "      <th>assigns</th>\n",
       "      <th>requires</th>\n",
       "      <th>scores</th>\n",
       "      <th>retokenizes</th>\n",
       "    </tr>\n",
       "  </thead>\n",
       "  <tbody>\n",
       "    <tr>\n",
       "      <th>0</th>\n",
       "      <td>tok2vec</td>\n",
       "      <td>[doc.tensor]</td>\n",
       "      <td>[]</td>\n",
       "      <td>[]</td>\n",
       "      <td>False</td>\n",
       "    </tr>\n",
       "    <tr>\n",
       "      <th>1</th>\n",
       "      <td>tagger</td>\n",
       "      <td>[token.tag]</td>\n",
       "      <td>[]</td>\n",
       "      <td>[tag_acc]</td>\n",
       "      <td>False</td>\n",
       "    </tr>\n",
       "    <tr>\n",
       "      <th>2</th>\n",
       "      <td>morphologizer</td>\n",
       "      <td>[token.morph, token.pos]</td>\n",
       "      <td>[]</td>\n",
       "      <td>[pos_acc, morph_acc, morph_per_feat]</td>\n",
       "      <td>False</td>\n",
       "    </tr>\n",
       "    <tr>\n",
       "      <th>3</th>\n",
       "      <td>lemmatizer</td>\n",
       "      <td>[token.lemma]</td>\n",
       "      <td>[]</td>\n",
       "      <td>[lemma_acc]</td>\n",
       "      <td>False</td>\n",
       "    </tr>\n",
       "    <tr>\n",
       "      <th>4</th>\n",
       "      <td>attribute_ruler</td>\n",
       "      <td>[]</td>\n",
       "      <td>[]</td>\n",
       "      <td>[]</td>\n",
       "      <td>False</td>\n",
       "    </tr>\n",
       "    <tr>\n",
       "      <th>5</th>\n",
       "      <td>ner</td>\n",
       "      <td>[doc.ents, token.ent_iob, token.ent_type]</td>\n",
       "      <td>[]</td>\n",
       "      <td>[ents_f, ents_p, ents_r, ents_per_type]</td>\n",
       "      <td>False</td>\n",
       "    </tr>\n",
       "  </tbody>\n",
       "</table>\n",
       "</div>"
      ],
      "text/plain": [
       "         component                                    assigns requires  \\\n",
       "0          tok2vec                               [doc.tensor]       []   \n",
       "1           tagger                                [token.tag]       []   \n",
       "2    morphologizer                   [token.morph, token.pos]       []   \n",
       "3       lemmatizer                              [token.lemma]       []   \n",
       "4  attribute_ruler                                         []       []   \n",
       "5              ner  [doc.ents, token.ent_iob, token.ent_type]       []   \n",
       "\n",
       "                                    scores retokenizes  \n",
       "0                                       []       False  \n",
       "1                                [tag_acc]       False  \n",
       "2     [pos_acc, morph_acc, morph_per_feat]       False  \n",
       "3                              [lemma_acc]       False  \n",
       "4                                       []       False  \n",
       "5  [ents_f, ents_p, ents_r, ents_per_type]       False  "
      ]
     },
     "execution_count": 7,
     "metadata": {},
     "output_type": "execute_result"
    },
    {
     "name": "stdout",
     "output_type": "stream",
     "text": [
      "time: 1.18 s\n"
     ]
    }
   ],
   "source": [
    "# nlp-Objekt erstellen\n",
    "   \n",
    "if not 'blp' in globals() or True:\n",
    "    blp = bj_nlp.blpClass(lang='de', verbose=False)    \n",
    "    \n",
    "nlp     = blp.nlp    \n",
    "nlp.blp = blp\n",
    "\n",
    "# Pipeline\n",
    "nlp.remove_pipe('parser')\n",
    "blp.analyze_pipes()"
   ]
  },
  {
   "cell_type": "code",
   "execution_count": 8,
   "id": "6410bfef-9047-45f6-b754-845e2a397022",
   "metadata": {},
   "outputs": [
    {
     "data": {
      "text/plain": [
       "{"
      ]
     },
     "execution_count": 8,
     "metadata": {},
     "output_type": "execute_result"
    },
    {
     "name": "stdout",
     "output_type": "stream",
     "text": [
      "time: 63.8 ms\n"
     ]
    }
   ],
   "source": [
    "# Ausprobieren\n",
    "text = 'Hallo {{NNBSP}} Welt'\n",
    "doc = nlp(text)\n",
    "doc[1] # }"
   ]
  },
  {
   "cell_type": "markdown",
   "id": "41df4100",
   "metadata": {},
   "source": [
    "## Daten laden"
   ]
  },
  {
   "cell_type": "code",
   "execution_count": 9,
   "id": "f16f664f",
   "metadata": {},
   "outputs": [
    {
     "name": "stdout",
     "output_type": "stream",
     "text": [
      "168017 rows loaded\n",
      "644849 rows loaded\n",
      "4987597 rows loaded\n",
      "621260 rows loaded\n",
      "time: 6.93 s\n"
     ]
    }
   ],
   "source": [
    "# Laden     \n",
    "wiktionary_lemma         = pak.load_pickle(wiktionary_lemma_filename)\n",
    "wiktionary_nolemma       = pak.load_pickle(wiktionary_nolemma_filename)\n",
    "wiktionary_merkmal       = pak.load_pickle(wiktionary_merkmal_filename)\n",
    "wiktionary_merkmal_text  = pak.load_pickle(wiktionary_merkmal_text_filename)"
   ]
  },
  {
   "cell_type": "code",
   "execution_count": 10,
   "id": "0f4f32b9-0255-4114-926d-a2e22b522c01",
   "metadata": {},
   "outputs": [
    {
     "name": "stdout",
     "output_type": "stream",
     "text": [
      "74 rows loaded\n",
      "Delete 17 rows from 74\n",
      "47 rows\n"
     ]
    },
    {
     "data": {
      "text/html": [
       "\n",
       "        <iframe\n",
       "            width=\"100%\"\n",
       "            height=\"475\"\n",
       "            src=\"http://pop-os:40000/dtale/iframe/1\"\n",
       "            frameborder=\"0\"\n",
       "            allowfullscreen\n",
       "            \n",
       "        ></iframe>\n",
       "        "
      ],
      "text/plain": [
       "<IPython.lib.display.IFrame at 0x7f6d7a45b610>"
      ]
     },
     "metadata": {},
     "output_type": "display_data"
    },
    {
     "data": {
      "text/plain": []
     },
     "execution_count": 10,
     "metadata": {},
     "output_type": "execute_result"
    },
    {
     "name": "stdout",
     "output_type": "stream",
     "text": [
      "time: 1.89 s\n"
     ]
    }
   ],
   "source": [
    "# lex_test, lemma_test\n",
    "lex_test, lemma_test = lade_lex_text( lex_test_filename, level=2 )\n",
    "grid(lemma_test)"
   ]
  },
  {
   "cell_type": "code",
   "execution_count": 11,
   "id": "52a1e702-70f9-46af-a210-847fd83d640f",
   "metadata": {},
   "outputs": [
    {
     "name": "stdout",
     "output_type": "stream",
     "text": [
      "103 rows\n"
     ]
    },
    {
     "data": {
      "text/html": [
       "\n",
       "        <iframe\n",
       "            width=\"100%\"\n",
       "            height=\"475\"\n",
       "            src=\"http://pop-os:40000/dtale/iframe/2\"\n",
       "            frameborder=\"0\"\n",
       "            allowfullscreen\n",
       "            \n",
       "        ></iframe>\n",
       "        "
      ],
      "text/plain": [
       "<IPython.lib.display.IFrame at 0x7f6dfd66ee80>"
      ]
     },
     "metadata": {},
     "output_type": "display_data"
    },
    {
     "data": {
      "text/plain": []
     },
     "execution_count": 11,
     "metadata": {},
     "output_type": "execute_result"
    },
    {
     "name": "stdout",
     "output_type": "stream",
     "text": [
      "time: 211 ms\n"
     ]
    }
   ],
   "source": [
    "# plan_merkmal Steuertabelle\n",
    "plan_merkmal = plan_merkmal_erstellen()\n",
    "grid(plan_merkmal, rows=9, column_definitions={ 'collect': {'maxWidth': 50,}, ' ': {'maxWidth': 50,}                   },     )"
   ]
  },
  {
   "cell_type": "code",
   "execution_count": 12,
   "id": "06e9f358-4afe-4756-9548-1d9fef89d6bc",
   "metadata": {},
   "outputs": [
    {
     "data": {
      "text/html": [
       "<div>\n",
       "<style scoped>\n",
       "    .dataframe tbody tr th:only-of-type {\n",
       "        vertical-align: middle;\n",
       "    }\n",
       "\n",
       "    .dataframe tbody tr th {\n",
       "        vertical-align: top;\n",
       "    }\n",
       "\n",
       "    .dataframe thead th {\n",
       "        text-align: right;\n",
       "    }\n",
       "</style>\n",
       "<table border=\"1\" class=\"dataframe\">\n",
       "  <thead>\n",
       "    <tr style=\"text-align: right;\">\n",
       "      <th></th>\n",
       "      <th>page_id</th>\n",
       "      <th>page_part</th>\n",
       "      <th>section_id2</th>\n",
       "      <th>lemma</th>\n",
       "      <th>lemma_lower</th>\n",
       "      <th>isupper</th>\n",
       "      <th>lemma_len</th>\n",
       "      <th>tag</th>\n",
       "      <th>tag_0</th>\n",
       "      <th>tag_1</th>\n",
       "      <th>tagZ</th>\n",
       "      <th>tagZZ</th>\n",
       "      <th>member</th>\n",
       "      <th>score</th>\n",
       "      <th>data_id</th>\n",
       "    </tr>\n",
       "  </thead>\n",
       "  <tbody>\n",
       "    <tr>\n",
       "      <th>129338</th>\n",
       "      <td>-1</td>\n",
       "      <td>-1</td>\n",
       "      <td>gefriergetrocknet</td>\n",
       "      <td>gefriergetrocknet</td>\n",
       "      <td>gefriergetrocknet</td>\n",
       "      <td>False</td>\n",
       "      <td>1</td>\n",
       "      <td>ADJA</td>\n",
       "      <td>ADJA</td>\n",
       "      <td>ATraUFcN5L</td>\n",
       "      <td>ADJ</td>\n",
       "      <td>A</td>\n",
       "      <td>Ptz2 noSteig manuell</td>\n",
       "      <td>0.500000</td>\n",
       "      <td>gefriertrocknen</td>\n",
       "    </tr>\n",
       "    <tr>\n",
       "      <th>129339</th>\n",
       "      <td>273380</td>\n",
       "      <td>0</td>\n",
       "      <td>gefriergetrocknet</td>\n",
       "      <td>gefriergetrocknet</td>\n",
       "      <td>gefriergetrocknet</td>\n",
       "      <td>False</td>\n",
       "      <td>1</td>\n",
       "      <td>ADJA</td>\n",
       "      <td>ADJA</td>\n",
       "      <td>M9yT3byKKu</td>\n",
       "      <td>ADJ</td>\n",
       "      <td>A</td>\n",
       "      <td>noSteig</td>\n",
       "      <td>3.807552</td>\n",
       "      <td></td>\n",
       "    </tr>\n",
       "    <tr>\n",
       "      <th>129340</th>\n",
       "      <td>1054310</td>\n",
       "      <td>0</td>\n",
       "      <td>gefriertrocknen</td>\n",
       "      <td>gefriertrocknen</td>\n",
       "      <td>gefriertrocknen</td>\n",
       "      <td>False</td>\n",
       "      <td>1</td>\n",
       "      <td>VVFIN</td>\n",
       "      <td>VVFIN</td>\n",
       "      <td>TLhfFhOWFO</td>\n",
       "      <td>VER</td>\n",
       "      <td>V</td>\n",
       "      <td></td>\n",
       "      <td>14.422655</td>\n",
       "      <td></td>\n",
       "    </tr>\n",
       "    <tr>\n",
       "      <th>129341</th>\n",
       "      <td>-1</td>\n",
       "      <td>-1</td>\n",
       "      <td>gefriertrocknen</td>\n",
       "      <td>gefriertrocknen</td>\n",
       "      <td>gefriertrocknen</td>\n",
       "      <td>False</td>\n",
       "      <td>1</td>\n",
       "      <td>VVFIN</td>\n",
       "      <td>VVFIN</td>\n",
       "      <td>dFIK2wex3d</td>\n",
       "      <td>VER</td>\n",
       "      <td>V</td>\n",
       "      <td>manuell</td>\n",
       "      <td>0.450000</td>\n",
       "      <td></td>\n",
       "    </tr>\n",
       "    <tr>\n",
       "      <th>129342</th>\n",
       "      <td>1054319</td>\n",
       "      <td>0</td>\n",
       "      <td>gefriertrocknend</td>\n",
       "      <td>gefriertrocknend</td>\n",
       "      <td>gefriertrocknend</td>\n",
       "      <td>False</td>\n",
       "      <td>1</td>\n",
       "      <td>ADJA</td>\n",
       "      <td>ADJA</td>\n",
       "      <td>Ah4pELiP74</td>\n",
       "      <td>ADJ</td>\n",
       "      <td>A</td>\n",
       "      <td>Ptz1</td>\n",
       "      <td>0.467347</td>\n",
       "      <td>gefriertrocknen</td>\n",
       "    </tr>\n",
       "    <tr>\n",
       "      <th>142186</th>\n",
       "      <td>242150</td>\n",
       "      <td>0</td>\n",
       "      <td>missraten</td>\n",
       "      <td>missraten</td>\n",
       "      <td>missraten</td>\n",
       "      <td>False</td>\n",
       "      <td>1</td>\n",
       "      <td>VVFIN</td>\n",
       "      <td>VVFIN</td>\n",
       "      <td>foLRX8vFnm</td>\n",
       "      <td>VER</td>\n",
       "      <td>V</td>\n",
       "      <td></td>\n",
       "      <td>4.472594</td>\n",
       "      <td></td>\n",
       "    </tr>\n",
       "    <tr>\n",
       "      <th>142187</th>\n",
       "      <td>-1</td>\n",
       "      <td>-1</td>\n",
       "      <td>missraten</td>\n",
       "      <td>missraten</td>\n",
       "      <td>missraten</td>\n",
       "      <td>False</td>\n",
       "      <td>1</td>\n",
       "      <td>VVFIN</td>\n",
       "      <td>VVFIN</td>\n",
       "      <td>hMbvB8jNwL</td>\n",
       "      <td>VER</td>\n",
       "      <td>V</td>\n",
       "      <td>manuell</td>\n",
       "      <td>0.450000</td>\n",
       "      <td></td>\n",
       "    </tr>\n",
       "    <tr>\n",
       "      <th>142188</th>\n",
       "      <td>-1</td>\n",
       "      <td>-1</td>\n",
       "      <td>missraten_MADJ</td>\n",
       "      <td>missraten</td>\n",
       "      <td>missraten</td>\n",
       "      <td>False</td>\n",
       "      <td>1</td>\n",
       "      <td>ADJA</td>\n",
       "      <td>ADJA</td>\n",
       "      <td>IBpowZE9hp</td>\n",
       "      <td>ADJ</td>\n",
       "      <td>A</td>\n",
       "      <td>Ptz2 manuell</td>\n",
       "      <td>0.500000</td>\n",
       "      <td>missraten</td>\n",
       "    </tr>\n",
       "    <tr>\n",
       "      <th>142189</th>\n",
       "      <td>446280</td>\n",
       "      <td>0</td>\n",
       "      <td>missratend</td>\n",
       "      <td>missratend</td>\n",
       "      <td>missratend</td>\n",
       "      <td>False</td>\n",
       "      <td>1</td>\n",
       "      <td>ADJA</td>\n",
       "      <td>ADJA</td>\n",
       "      <td>i9VVIKLe4m</td>\n",
       "      <td>ADJ</td>\n",
       "      <td>A</td>\n",
       "      <td>Ptz1</td>\n",
       "      <td>0.579592</td>\n",
       "      <td>missraten</td>\n",
       "    </tr>\n",
       "    <tr>\n",
       "      <th>142562</th>\n",
       "      <td>-1</td>\n",
       "      <td>-1</td>\n",
       "      <td>mißraten_MADJ</td>\n",
       "      <td>mißraten</td>\n",
       "      <td>mißraten</td>\n",
       "      <td>False</td>\n",
       "      <td>1</td>\n",
       "      <td>ADJA</td>\n",
       "      <td>ADJA</td>\n",
       "      <td>rNQ5memXrO</td>\n",
       "      <td>ADJ</td>\n",
       "      <td>A</td>\n",
       "      <td>Ptz2 manuell</td>\n",
       "      <td>0.500000</td>\n",
       "      <td>missraten</td>\n",
       "    </tr>\n",
       "  </tbody>\n",
       "</table>\n",
       "</div>"
      ],
      "text/plain": [
       "        page_id  page_part        section_id2              lemma  \\\n",
       "129338       -1         -1  gefriergetrocknet  gefriergetrocknet   \n",
       "129339   273380          0  gefriergetrocknet  gefriergetrocknet   \n",
       "129340  1054310          0    gefriertrocknen    gefriertrocknen   \n",
       "129341       -1         -1    gefriertrocknen    gefriertrocknen   \n",
       "129342  1054319          0   gefriertrocknend   gefriertrocknend   \n",
       "142186   242150          0          missraten          missraten   \n",
       "142187       -1         -1          missraten          missraten   \n",
       "142188       -1         -1     missraten_MADJ          missraten   \n",
       "142189   446280          0         missratend         missratend   \n",
       "142562       -1         -1      mißraten_MADJ           mißraten   \n",
       "\n",
       "              lemma_lower  isupper  lemma_len    tag  tag_0       tag_1 tagZ  \\\n",
       "129338  gefriergetrocknet    False          1   ADJA   ADJA  ATraUFcN5L  ADJ   \n",
       "129339  gefriergetrocknet    False          1   ADJA   ADJA  M9yT3byKKu  ADJ   \n",
       "129340    gefriertrocknen    False          1  VVFIN  VVFIN  TLhfFhOWFO  VER   \n",
       "129341    gefriertrocknen    False          1  VVFIN  VVFIN  dFIK2wex3d  VER   \n",
       "129342   gefriertrocknend    False          1   ADJA   ADJA  Ah4pELiP74  ADJ   \n",
       "142186          missraten    False          1  VVFIN  VVFIN  foLRX8vFnm  VER   \n",
       "142187          missraten    False          1  VVFIN  VVFIN  hMbvB8jNwL  VER   \n",
       "142188          missraten    False          1   ADJA   ADJA  IBpowZE9hp  ADJ   \n",
       "142189         missratend    False          1   ADJA   ADJA  i9VVIKLe4m  ADJ   \n",
       "142562           mißraten    False          1   ADJA   ADJA  rNQ5memXrO  ADJ   \n",
       "\n",
       "       tagZZ                member      score          data_id  \n",
       "129338     A  Ptz2 noSteig manuell   0.500000  gefriertrocknen  \n",
       "129339     A               noSteig   3.807552                   \n",
       "129340     V                        14.422655                   \n",
       "129341     V               manuell   0.450000                   \n",
       "129342     A                  Ptz1   0.467347  gefriertrocknen  \n",
       "142186     V                         4.472594                   \n",
       "142187     V               manuell   0.450000                   \n",
       "142188     A          Ptz2 manuell   0.500000        missraten  \n",
       "142189     A                  Ptz1   0.579592        missraten  \n",
       "142562     A          Ptz2 manuell   0.500000        missraten  "
      ]
     },
     "execution_count": 12,
     "metadata": {},
     "output_type": "execute_result"
    },
    {
     "name": "stdout",
     "output_type": "stream",
     "text": [
      "time: 318 ms\n"
     ]
    }
   ],
   "source": [
    "#mask = wiktionary_lemma.lemma == 'gefriergetrocknet'\n",
    "#wiktionary_lemma[mask]\n",
    "search_str(wiktionary_lemma, suche_debug)"
   ]
  },
  {
   "cell_type": "code",
   "execution_count": 13,
   "id": "5916c72b-96ab-467c-8611-657bed1da0e0",
   "metadata": {},
   "outputs": [
    {
     "data": {
      "text/html": [
       "<div>\n",
       "<style scoped>\n",
       "    .dataframe tbody tr th:only-of-type {\n",
       "        vertical-align: middle;\n",
       "    }\n",
       "\n",
       "    .dataframe tbody tr th {\n",
       "        vertical-align: top;\n",
       "    }\n",
       "\n",
       "    .dataframe thead th {\n",
       "        text-align: right;\n",
       "    }\n",
       "</style>\n",
       "<table border=\"1\" class=\"dataframe\">\n",
       "  <thead>\n",
       "    <tr style=\"text-align: right;\">\n",
       "      <th></th>\n",
       "      <th>section_id2</th>\n",
       "      <th>merkmal</th>\n",
       "      <th>data</th>\n",
       "      <th>num</th>\n",
       "      <th>meta</th>\n",
       "      <th>data_id</th>\n",
       "      <th>score</th>\n",
       "    </tr>\n",
       "  </thead>\n",
       "  <tbody>\n",
       "    <tr>\n",
       "      <th>252288</th>\n",
       "      <td>raten</td>\n",
       "      <td>familie</td>\n",
       "      <td>missraten</td>\n",
       "      <td></td>\n",
       "      <td>Adjektiv</td>\n",
       "      <td></td>\n",
       "      <td>16.867235</td>\n",
       "    </tr>\n",
       "    <tr>\n",
       "      <th>255828</th>\n",
       "      <td>gefrieren</td>\n",
       "      <td>familie</td>\n",
       "      <td>gefriertrocknen</td>\n",
       "      <td></td>\n",
       "      <td>Adjektive</td>\n",
       "      <td></td>\n",
       "      <td>13.330085</td>\n",
       "    </tr>\n",
       "    <tr>\n",
       "      <th>264234</th>\n",
       "      <td>fehlschlagen</td>\n",
       "      <td>syn</td>\n",
       "      <td>missraten</td>\n",
       "      <td>1</td>\n",
       "      <td></td>\n",
       "      <td></td>\n",
       "      <td>6.317905</td>\n",
       "    </tr>\n",
       "    <tr>\n",
       "      <th>515080</th>\n",
       "      <td>ausrutschen</td>\n",
       "      <td>lateral</td>\n",
       "      <td>missraten</td>\n",
       "      <td>3</td>\n",
       "      <td></td>\n",
       "      <td></td>\n",
       "      <td>9.354445</td>\n",
       "    </tr>\n",
       "    <tr>\n",
       "      <th>519887</th>\n",
       "      <td>Trockenblume</td>\n",
       "      <td>syn</td>\n",
       "      <td>gefriergetrocknet</td>\n",
       "      <td>1</td>\n",
       "      <td></td>\n",
       "      <td></td>\n",
       "      <td>7.348356</td>\n",
       "    </tr>\n",
       "    <tr>\n",
       "      <th>...</th>\n",
       "      <td>...</td>\n",
       "      <td>...</td>\n",
       "      <td>...</td>\n",
       "      <td>...</td>\n",
       "      <td>...</td>\n",
       "      <td>...</td>\n",
       "      <td>...</td>\n",
       "    </tr>\n",
       "    <tr>\n",
       "      <th>4097356</th>\n",
       "      <td>missraten</td>\n",
       "      <td>ipa</td>\n",
       "      <td>mɪsˈʁaːtn</td>\n",
       "      <td>&lt;NA&gt;</td>\n",
       "      <td></td>\n",
       "      <td></td>\n",
       "      <td>4.472594</td>\n",
       "    </tr>\n",
       "    <tr>\n",
       "      <th>4102697</th>\n",
       "      <td>gefriergetrocknet</td>\n",
       "      <td>ipa</td>\n",
       "      <td>ɡəˈfʁiːɐɡəˌtʁɔknət</td>\n",
       "      <td>&lt;NA&gt;</td>\n",
       "      <td></td>\n",
       "      <td></td>\n",
       "      <td>3.807552</td>\n",
       "    </tr>\n",
       "    <tr>\n",
       "      <th>4227770</th>\n",
       "      <td>missraten</td>\n",
       "      <td>syllables</td>\n",
       "      <td>miss⇀ra⇀ten</td>\n",
       "      <td>&lt;NA&gt;</td>\n",
       "      <td></td>\n",
       "      <td></td>\n",
       "      <td>4.472594</td>\n",
       "    </tr>\n",
       "    <tr>\n",
       "      <th>4342447</th>\n",
       "      <td>gefriergetrocknet</td>\n",
       "      <td>syllables</td>\n",
       "      <td>ge⇀frier⇀ge⇀trock⇀net</td>\n",
       "      <td>&lt;NA&gt;</td>\n",
       "      <td></td>\n",
       "      <td></td>\n",
       "      <td>3.807552</td>\n",
       "    </tr>\n",
       "    <tr>\n",
       "      <th>4376396</th>\n",
       "      <td>gefriertrocknen</td>\n",
       "      <td>syllables</td>\n",
       "      <td>ge⇀frier⇀trock⇀nen</td>\n",
       "      <td>&lt;NA&gt;</td>\n",
       "      <td></td>\n",
       "      <td></td>\n",
       "      <td>14.422655</td>\n",
       "    </tr>\n",
       "  </tbody>\n",
       "</table>\n",
       "<p>108 rows × 7 columns</p>\n",
       "</div>"
      ],
      "text/plain": [
       "               section_id2    merkmal                   data   num       meta  \\\n",
       "252288               raten    familie              missraten         Adjektiv   \n",
       "255828           gefrieren    familie        gefriertrocknen        Adjektive   \n",
       "264234        fehlschlagen        syn              missraten     1              \n",
       "515080         ausrutschen    lateral              missraten     3              \n",
       "519887        Trockenblume        syn      gefriergetrocknet     1              \n",
       "...                    ...        ...                    ...   ...        ...   \n",
       "4097356          missraten        ipa              mɪsˈʁaːtn  <NA>              \n",
       "4102697  gefriergetrocknet        ipa     ɡəˈfʁiːɐɡəˌtʁɔknət  <NA>              \n",
       "4227770          missraten  syllables            miss⇀ra⇀ten  <NA>              \n",
       "4342447  gefriergetrocknet  syllables  ge⇀frier⇀ge⇀trock⇀net  <NA>              \n",
       "4376396    gefriertrocknen  syllables     ge⇀frier⇀trock⇀nen  <NA>              \n",
       "\n",
       "        data_id      score  \n",
       "252288           16.867235  \n",
       "255828           13.330085  \n",
       "264234            6.317905  \n",
       "515080            9.354445  \n",
       "519887            7.348356  \n",
       "...         ...        ...  \n",
       "4097356           4.472594  \n",
       "4102697           3.807552  \n",
       "4227770           4.472594  \n",
       "4342447           3.807552  \n",
       "4376396          14.422655  \n",
       "\n",
       "[108 rows x 7 columns]"
      ]
     },
     "execution_count": 13,
     "metadata": {},
     "output_type": "execute_result"
    },
    {
     "name": "stdout",
     "output_type": "stream",
     "text": [
      "time: 6.28 s\n"
     ]
    }
   ],
   "source": [
    "# suche_debug wiktionary_merkmal\n",
    "search_str(wiktionary_merkmal, suche_debug)"
   ]
  },
  {
   "cell_type": "code",
   "execution_count": 14,
   "id": "5936c648-33b8-49c9-8765-87a0df3dbe14",
   "metadata": {},
   "outputs": [
    {
     "data": {
      "text/html": [
       "<div>\n",
       "<style scoped>\n",
       "    .dataframe tbody tr th:only-of-type {\n",
       "        vertical-align: middle;\n",
       "    }\n",
       "\n",
       "    .dataframe tbody tr th {\n",
       "        vertical-align: top;\n",
       "    }\n",
       "\n",
       "    .dataframe thead th {\n",
       "        text-align: right;\n",
       "    }\n",
       "</style>\n",
       "<table border=\"1\" class=\"dataframe\">\n",
       "  <thead>\n",
       "    <tr style=\"text-align: right;\">\n",
       "      <th></th>\n",
       "      <th>nolemma_id</th>\n",
       "      <th>lex</th>\n",
       "      <th>lemma</th>\n",
       "      <th>lemma_lower</th>\n",
       "      <th>tag</th>\n",
       "      <th>tag_0</th>\n",
       "      <th>tag_1</th>\n",
       "      <th>tagZ</th>\n",
       "      <th>tagZZ</th>\n",
       "      <th>member</th>\n",
       "      <th>score</th>\n",
       "    </tr>\n",
       "  </thead>\n",
       "  <tbody>\n",
       "    <tr>\n",
       "      <th>63720</th>\n",
       "      <td>gefriergetrocknetem</td>\n",
       "      <td>gefriergetrocknetem</td>\n",
       "      <td>gefriergetrocknet</td>\n",
       "      <td>gefriergetrocknet</td>\n",
       "      <td>LEX_A</td>\n",
       "      <td>LEX_A</td>\n",
       "      <td>qfxGEFcaEM</td>\n",
       "      <td>&lt;NA&gt;</td>\n",
       "      <td></td>\n",
       "      <td>Deklinierte_Form</td>\n",
       "      <td>0.822449</td>\n",
       "    </tr>\n",
       "    <tr>\n",
       "      <th>63721</th>\n",
       "      <td>gefriergetrockneten</td>\n",
       "      <td>gefriergetrockneten</td>\n",
       "      <td>gefriergetrocknet</td>\n",
       "      <td>gefriergetrocknet</td>\n",
       "      <td>LEX_A</td>\n",
       "      <td>LEX_A</td>\n",
       "      <td>cSrtFUpYCE</td>\n",
       "      <td>&lt;NA&gt;</td>\n",
       "      <td></td>\n",
       "      <td>Deklinierte_Form</td>\n",
       "      <td>2.253350</td>\n",
       "    </tr>\n",
       "    <tr>\n",
       "      <th>63722</th>\n",
       "      <td>gefriergetrockneter</td>\n",
       "      <td>gefriergetrockneter</td>\n",
       "      <td>gefriergetrocknet</td>\n",
       "      <td>gefriergetrocknet</td>\n",
       "      <td>LEX_A</td>\n",
       "      <td>LEX_A</td>\n",
       "      <td>cJeBRmnkEZ</td>\n",
       "      <td>&lt;NA&gt;</td>\n",
       "      <td></td>\n",
       "      <td>Deklinierte_Form</td>\n",
       "      <td>1.298417</td>\n",
       "    </tr>\n",
       "    <tr>\n",
       "      <th>63723</th>\n",
       "      <td>gefriergetrocknetes</td>\n",
       "      <td>gefriergetrocknetes</td>\n",
       "      <td>gefriergetrocknet</td>\n",
       "      <td>gefriergetrocknet</td>\n",
       "      <td>LEX_A</td>\n",
       "      <td>LEX_A</td>\n",
       "      <td>ztSD6oEkot</td>\n",
       "      <td>&lt;NA&gt;</td>\n",
       "      <td></td>\n",
       "      <td>Deklinierte_Form</td>\n",
       "      <td>1.166870</td>\n",
       "    </tr>\n",
       "    <tr>\n",
       "      <th>63724</th>\n",
       "      <td>gefriergetrocknete</td>\n",
       "      <td>gefriergetrocknete</td>\n",
       "      <td>gefriergetrocknet</td>\n",
       "      <td>gefriergetrocknet</td>\n",
       "      <td>LEX_A</td>\n",
       "      <td>LEX_A</td>\n",
       "      <td>UYh5zwEhfx</td>\n",
       "      <td>&lt;NA&gt;</td>\n",
       "      <td></td>\n",
       "      <td>Deklinierte_Form</td>\n",
       "      <td>1.848965</td>\n",
       "    </tr>\n",
       "    <tr>\n",
       "      <th>178159</th>\n",
       "      <td>missrietet</td>\n",
       "      <td>missrietet</td>\n",
       "      <td>missraten</td>\n",
       "      <td>missraten</td>\n",
       "      <td>LEX_V</td>\n",
       "      <td>LEX_V</td>\n",
       "      <td>y9ZTeYS8SU</td>\n",
       "      <td>&lt;NA&gt;</td>\n",
       "      <td></td>\n",
       "      <td>Konjugierte_Form Verb</td>\n",
       "      <td>0.963265</td>\n",
       "    </tr>\n",
       "    <tr>\n",
       "      <th>178160</th>\n",
       "      <td>missrieten</td>\n",
       "      <td>missrieten</td>\n",
       "      <td>missraten</td>\n",
       "      <td>missraten</td>\n",
       "      <td>LEX_V</td>\n",
       "      <td>LEX_V</td>\n",
       "      <td>VhpO1YDYiF</td>\n",
       "      <td>&lt;NA&gt;</td>\n",
       "      <td></td>\n",
       "      <td>Konjugierte_Form Verb</td>\n",
       "      <td>1.144945</td>\n",
       "    </tr>\n",
       "    <tr>\n",
       "      <th>178161</th>\n",
       "      <td>missrietst</td>\n",
       "      <td>missrietst</td>\n",
       "      <td>missraten</td>\n",
       "      <td>missraten</td>\n",
       "      <td>LEX_V</td>\n",
       "      <td>LEX_V</td>\n",
       "      <td>5Jms1aP5H9</td>\n",
       "      <td>&lt;NA&gt;</td>\n",
       "      <td></td>\n",
       "      <td>Konjugierte_Form Verb</td>\n",
       "      <td>0.812245</td>\n",
       "    </tr>\n",
       "    <tr>\n",
       "      <th>178162</th>\n",
       "      <td>missrietest</td>\n",
       "      <td>missrietest</td>\n",
       "      <td>missraten</td>\n",
       "      <td>missraten</td>\n",
       "      <td>LEX_V</td>\n",
       "      <td>LEX_V</td>\n",
       "      <td>N0lyUCwTOa</td>\n",
       "      <td>&lt;NA&gt;</td>\n",
       "      <td></td>\n",
       "      <td>Konjugierte_Form Verb</td>\n",
       "      <td>0.993878</td>\n",
       "    </tr>\n",
       "    <tr>\n",
       "      <th>178163</th>\n",
       "      <td>missriete</td>\n",
       "      <td>missriete</td>\n",
       "      <td>missraten</td>\n",
       "      <td>missraten</td>\n",
       "      <td>LEX_V</td>\n",
       "      <td>LEX_V</td>\n",
       "      <td>p6ksoWbv4K</td>\n",
       "      <td>&lt;NA&gt;</td>\n",
       "      <td></td>\n",
       "      <td>Konjugierte_Form Verb</td>\n",
       "      <td>0.810204</td>\n",
       "    </tr>\n",
       "    <tr>\n",
       "      <th>178164</th>\n",
       "      <td>missriet</td>\n",
       "      <td>missriet</td>\n",
       "      <td>missraten</td>\n",
       "      <td>missraten</td>\n",
       "      <td>LEX_V</td>\n",
       "      <td>LEX_V</td>\n",
       "      <td>ABDkLdtzEs</td>\n",
       "      <td>&lt;NA&gt;</td>\n",
       "      <td></td>\n",
       "      <td>Konjugierte_Form Verb</td>\n",
       "      <td>0.871429</td>\n",
       "    </tr>\n",
       "    <tr>\n",
       "      <th>178165</th>\n",
       "      <td>missrät</td>\n",
       "      <td>missrät</td>\n",
       "      <td>missraten</td>\n",
       "      <td>missraten</td>\n",
       "      <td>LEX_V</td>\n",
       "      <td>LEX_V</td>\n",
       "      <td>qAbhpS76tt</td>\n",
       "      <td>&lt;NA&gt;</td>\n",
       "      <td></td>\n",
       "      <td>Konjugierte_Form Verb</td>\n",
       "      <td>0.612245</td>\n",
       "    </tr>\n",
       "    <tr>\n",
       "      <th>178166</th>\n",
       "      <td>missratest</td>\n",
       "      <td>missratest</td>\n",
       "      <td>missraten</td>\n",
       "      <td>missraten</td>\n",
       "      <td>LEX_V</td>\n",
       "      <td>LEX_V</td>\n",
       "      <td>BOBxYuoohY</td>\n",
       "      <td>&lt;NA&gt;</td>\n",
       "      <td></td>\n",
       "      <td>Konjugierte_Form Verb</td>\n",
       "      <td>0.651020</td>\n",
       "    </tr>\n",
       "    <tr>\n",
       "      <th>178167</th>\n",
       "      <td>missrätst</td>\n",
       "      <td>missrätst</td>\n",
       "      <td>missraten</td>\n",
       "      <td>missraten</td>\n",
       "      <td>LEX_V</td>\n",
       "      <td>LEX_V</td>\n",
       "      <td>v1mBxMLjcB</td>\n",
       "      <td>&lt;NA&gt;</td>\n",
       "      <td></td>\n",
       "      <td>Konjugierte_Form Verb</td>\n",
       "      <td>0.636735</td>\n",
       "    </tr>\n",
       "    <tr>\n",
       "      <th>178168</th>\n",
       "      <td>missratet</td>\n",
       "      <td>missratet</td>\n",
       "      <td>missraten</td>\n",
       "      <td>missraten</td>\n",
       "      <td>LEX_V</td>\n",
       "      <td>LEX_V</td>\n",
       "      <td>x4gwnCOvaT</td>\n",
       "      <td>&lt;NA&gt;</td>\n",
       "      <td></td>\n",
       "      <td>Konjugierte_Form Verb</td>\n",
       "      <td>1.030451</td>\n",
       "    </tr>\n",
       "    <tr>\n",
       "      <th>178169</th>\n",
       "      <td>missrate</td>\n",
       "      <td>missrate</td>\n",
       "      <td>missraten</td>\n",
       "      <td>missraten</td>\n",
       "      <td>LEX_V</td>\n",
       "      <td>LEX_V</td>\n",
       "      <td>jsNDCQhyPM</td>\n",
       "      <td>&lt;NA&gt;</td>\n",
       "      <td></td>\n",
       "      <td>Konjugierte_Form Verb</td>\n",
       "      <td>1.200974</td>\n",
       "    </tr>\n",
       "    <tr>\n",
       "      <th>178170</th>\n",
       "      <td>missrat</td>\n",
       "      <td>missrat</td>\n",
       "      <td>missraten</td>\n",
       "      <td>missraten</td>\n",
       "      <td>LEX_V</td>\n",
       "      <td>LEX_V</td>\n",
       "      <td>CTNtsfhX4D</td>\n",
       "      <td>&lt;NA&gt;</td>\n",
       "      <td></td>\n",
       "      <td>Konjugierte_Form Verb</td>\n",
       "      <td>0.675510</td>\n",
       "    </tr>\n",
       "    <tr>\n",
       "      <th>497386</th>\n",
       "      <td>missratene</td>\n",
       "      <td>missratene</td>\n",
       "      <td>missraten</td>\n",
       "      <td>missraten</td>\n",
       "      <td>LEX_A</td>\n",
       "      <td>LEX_A</td>\n",
       "      <td>3P2rsBDB3U</td>\n",
       "      <td>&lt;NA&gt;</td>\n",
       "      <td></td>\n",
       "      <td>Deklinierte_Form</td>\n",
       "      <td>1.940317</td>\n",
       "    </tr>\n",
       "    <tr>\n",
       "      <th>497387</th>\n",
       "      <td>missratenes</td>\n",
       "      <td>missratenes</td>\n",
       "      <td>missraten</td>\n",
       "      <td>missraten</td>\n",
       "      <td>LEX_A</td>\n",
       "      <td>LEX_A</td>\n",
       "      <td>br6vYqpXFY</td>\n",
       "      <td>&lt;NA&gt;</td>\n",
       "      <td></td>\n",
       "      <td>Deklinierte_Form</td>\n",
       "      <td>1.194884</td>\n",
       "    </tr>\n",
       "    <tr>\n",
       "      <th>497388</th>\n",
       "      <td>missratener</td>\n",
       "      <td>missratener</td>\n",
       "      <td>missraten</td>\n",
       "      <td>missraten</td>\n",
       "      <td>LEX_A</td>\n",
       "      <td>LEX_A</td>\n",
       "      <td>DzOVma9k4l</td>\n",
       "      <td>&lt;NA&gt;</td>\n",
       "      <td></td>\n",
       "      <td>Deklinierte_Form</td>\n",
       "      <td>1.315469</td>\n",
       "    </tr>\n",
       "    <tr>\n",
       "      <th>497389</th>\n",
       "      <td>missratenen</td>\n",
       "      <td>missratenen</td>\n",
       "      <td>missraten</td>\n",
       "      <td>missraten</td>\n",
       "      <td>LEX_A</td>\n",
       "      <td>LEX_A</td>\n",
       "      <td>VZ3MYcMPnP</td>\n",
       "      <td>&lt;NA&gt;</td>\n",
       "      <td></td>\n",
       "      <td>Deklinierte_Form</td>\n",
       "      <td>2.260658</td>\n",
       "    </tr>\n",
       "    <tr>\n",
       "      <th>497390</th>\n",
       "      <td>missratenem</td>\n",
       "      <td>missratenem</td>\n",
       "      <td>missraten</td>\n",
       "      <td>missraten</td>\n",
       "      <td>LEX_A</td>\n",
       "      <td>LEX_A</td>\n",
       "      <td>lsCNroyOi6</td>\n",
       "      <td>&lt;NA&gt;</td>\n",
       "      <td></td>\n",
       "      <td>Deklinierte_Form</td>\n",
       "      <td>0.902041</td>\n",
       "    </tr>\n",
       "    <tr>\n",
       "      <th>625636</th>\n",
       "      <td>gefrierzutrocknen</td>\n",
       "      <td>gefrierzutrocknen</td>\n",
       "      <td>gefriertrocknen</td>\n",
       "      <td>gefriertrocknen</td>\n",
       "      <td>LEX_V</td>\n",
       "      <td>LEX_V</td>\n",
       "      <td>3DLDV6uP1M</td>\n",
       "      <td>&lt;NA&gt;</td>\n",
       "      <td></td>\n",
       "      <td>Erweiterter_Infinitiv Verb</td>\n",
       "      <td>0.524490</td>\n",
       "    </tr>\n",
       "    <tr>\n",
       "      <th>625637</th>\n",
       "      <td>gefriertrockne</td>\n",
       "      <td>gefriertrockne</td>\n",
       "      <td>gefriertrocknen</td>\n",
       "      <td>gefriertrocknen</td>\n",
       "      <td>LEX_V</td>\n",
       "      <td>LEX_V</td>\n",
       "      <td>BaSRlEoxK0</td>\n",
       "      <td>&lt;NA&gt;</td>\n",
       "      <td></td>\n",
       "      <td>Konjugierte_Form Verb</td>\n",
       "      <td>1.012180</td>\n",
       "    </tr>\n",
       "    <tr>\n",
       "      <th>625638</th>\n",
       "      <td>gefriertrocknet</td>\n",
       "      <td>gefriertrocknet</td>\n",
       "      <td>gefriertrocknen</td>\n",
       "      <td>gefriertrocknen</td>\n",
       "      <td>LEX_V</td>\n",
       "      <td>LEX_V</td>\n",
       "      <td>hqLOq1VMi5</td>\n",
       "      <td>&lt;NA&gt;</td>\n",
       "      <td></td>\n",
       "      <td>Konjugierte_Form Verb</td>\n",
       "      <td>1.004872</td>\n",
       "    </tr>\n",
       "    <tr>\n",
       "      <th>625639</th>\n",
       "      <td>gefriertrocknest</td>\n",
       "      <td>gefriertrocknest</td>\n",
       "      <td>gefriertrocknen</td>\n",
       "      <td>gefriertrocknen</td>\n",
       "      <td>LEX_V</td>\n",
       "      <td>LEX_V</td>\n",
       "      <td>OSmrUBU98Z</td>\n",
       "      <td>&lt;NA&gt;</td>\n",
       "      <td></td>\n",
       "      <td>Konjugierte_Form Verb</td>\n",
       "      <td>0.702041</td>\n",
       "    </tr>\n",
       "    <tr>\n",
       "      <th>625640</th>\n",
       "      <td>gefriertrocknete</td>\n",
       "      <td>gefriertrocknete</td>\n",
       "      <td>gefriertrocknen</td>\n",
       "      <td>gefriertrocknen</td>\n",
       "      <td>LEX_V</td>\n",
       "      <td>LEX_V</td>\n",
       "      <td>ss6UGaJGSt</td>\n",
       "      <td>&lt;NA&gt;</td>\n",
       "      <td></td>\n",
       "      <td>Konjugierte_Form Verb</td>\n",
       "      <td>1.037759</td>\n",
       "    </tr>\n",
       "    <tr>\n",
       "      <th>625641</th>\n",
       "      <td>gefriertrocknetest</td>\n",
       "      <td>gefriertrocknetest</td>\n",
       "      <td>gefriertrocknen</td>\n",
       "      <td>gefriertrocknen</td>\n",
       "      <td>LEX_V</td>\n",
       "      <td>LEX_V</td>\n",
       "      <td>yje5CSqhZZ</td>\n",
       "      <td>&lt;NA&gt;</td>\n",
       "      <td></td>\n",
       "      <td>Konjugierte_Form Verb</td>\n",
       "      <td>0.730612</td>\n",
       "    </tr>\n",
       "    <tr>\n",
       "      <th>625642</th>\n",
       "      <td>gefriertrockneten</td>\n",
       "      <td>gefriertrockneten</td>\n",
       "      <td>gefriertrocknen</td>\n",
       "      <td>gefriertrocknen</td>\n",
       "      <td>LEX_V</td>\n",
       "      <td>LEX_V</td>\n",
       "      <td>jaCgxfnTqk</td>\n",
       "      <td>&lt;NA&gt;</td>\n",
       "      <td></td>\n",
       "      <td>Konjugierte_Form Verb</td>\n",
       "      <td>1.031669</td>\n",
       "    </tr>\n",
       "    <tr>\n",
       "      <th>625643</th>\n",
       "      <td>gefriertrocknetet</td>\n",
       "      <td>gefriertrocknetet</td>\n",
       "      <td>gefriertrocknen</td>\n",
       "      <td>gefriertrocknen</td>\n",
       "      <td>LEX_V</td>\n",
       "      <td>LEX_V</td>\n",
       "      <td>g2NzkBPzpw</td>\n",
       "      <td>&lt;NA&gt;</td>\n",
       "      <td></td>\n",
       "      <td>Konjugierte_Form Verb</td>\n",
       "      <td>0.716327</td>\n",
       "    </tr>\n",
       "    <tr>\n",
       "      <th>625649</th>\n",
       "      <td>gefrierzutrocknende</td>\n",
       "      <td>gefrierzutrocknende</td>\n",
       "      <td>gefriertrocknen</td>\n",
       "      <td>gefriertrocknen</td>\n",
       "      <td>LEX_A</td>\n",
       "      <td>LEX_A</td>\n",
       "      <td>i4f5iRCOFa</td>\n",
       "      <td>&lt;NA&gt;</td>\n",
       "      <td></td>\n",
       "      <td>Dekliniertes_Gerundivum Adjektiv</td>\n",
       "      <td>1.834348</td>\n",
       "    </tr>\n",
       "    <tr>\n",
       "      <th>625650</th>\n",
       "      <td>gefrierzutrocknendem</td>\n",
       "      <td>gefrierzutrocknendem</td>\n",
       "      <td>gefriertrocknen</td>\n",
       "      <td>gefriertrocknen</td>\n",
       "      <td>LEX_A</td>\n",
       "      <td>LEX_A</td>\n",
       "      <td>zf1ff572bZ</td>\n",
       "      <td>&lt;NA&gt;</td>\n",
       "      <td></td>\n",
       "      <td>Dekliniertes_Gerundivum Adjektiv</td>\n",
       "      <td>0.897959</td>\n",
       "    </tr>\n",
       "    <tr>\n",
       "      <th>625651</th>\n",
       "      <td>gefrierzutrocknenden</td>\n",
       "      <td>gefrierzutrocknenden</td>\n",
       "      <td>gefriertrocknen</td>\n",
       "      <td>gefriertrocknen</td>\n",
       "      <td>LEX_A</td>\n",
       "      <td>LEX_A</td>\n",
       "      <td>DxzOPFVgE0</td>\n",
       "      <td>&lt;NA&gt;</td>\n",
       "      <td></td>\n",
       "      <td>Dekliniertes_Gerundivum Adjektiv</td>\n",
       "      <td>2.213155</td>\n",
       "    </tr>\n",
       "    <tr>\n",
       "      <th>625652</th>\n",
       "      <td>gefrierzutrocknender</td>\n",
       "      <td>gefrierzutrocknender</td>\n",
       "      <td>gefriertrocknen</td>\n",
       "      <td>gefriertrocknen</td>\n",
       "      <td>LEX_A</td>\n",
       "      <td>LEX_A</td>\n",
       "      <td>Y0KIDQDTwI</td>\n",
       "      <td>&lt;NA&gt;</td>\n",
       "      <td></td>\n",
       "      <td>Dekliniertes_Gerundivum Adjektiv</td>\n",
       "      <td>1.317905</td>\n",
       "    </tr>\n",
       "    <tr>\n",
       "      <th>625653</th>\n",
       "      <td>gefrierzutrocknendes</td>\n",
       "      <td>gefrierzutrocknendes</td>\n",
       "      <td>gefriertrocknen</td>\n",
       "      <td>gefriertrocknen</td>\n",
       "      <td>LEX_A</td>\n",
       "      <td>LEX_A</td>\n",
       "      <td>B6xnJefbok</td>\n",
       "      <td>&lt;NA&gt;</td>\n",
       "      <td></td>\n",
       "      <td>Dekliniertes_Gerundivum Adjektiv</td>\n",
       "      <td>1.194884</td>\n",
       "    </tr>\n",
       "  </tbody>\n",
       "</table>\n",
       "</div>"
      ],
      "text/plain": [
       "                  nolemma_id                   lex              lemma  \\\n",
       "63720    gefriergetrocknetem   gefriergetrocknetem  gefriergetrocknet   \n",
       "63721    gefriergetrockneten   gefriergetrockneten  gefriergetrocknet   \n",
       "63722    gefriergetrockneter   gefriergetrockneter  gefriergetrocknet   \n",
       "63723    gefriergetrocknetes   gefriergetrocknetes  gefriergetrocknet   \n",
       "63724     gefriergetrocknete    gefriergetrocknete  gefriergetrocknet   \n",
       "178159            missrietet            missrietet          missraten   \n",
       "178160            missrieten            missrieten          missraten   \n",
       "178161            missrietst            missrietst          missraten   \n",
       "178162           missrietest           missrietest          missraten   \n",
       "178163             missriete             missriete          missraten   \n",
       "178164              missriet              missriet          missraten   \n",
       "178165               missrät               missrät          missraten   \n",
       "178166            missratest            missratest          missraten   \n",
       "178167             missrätst             missrätst          missraten   \n",
       "178168             missratet             missratet          missraten   \n",
       "178169              missrate              missrate          missraten   \n",
       "178170               missrat               missrat          missraten   \n",
       "497386            missratene            missratene          missraten   \n",
       "497387           missratenes           missratenes          missraten   \n",
       "497388           missratener           missratener          missraten   \n",
       "497389           missratenen           missratenen          missraten   \n",
       "497390           missratenem           missratenem          missraten   \n",
       "625636     gefrierzutrocknen     gefrierzutrocknen    gefriertrocknen   \n",
       "625637        gefriertrockne        gefriertrockne    gefriertrocknen   \n",
       "625638       gefriertrocknet       gefriertrocknet    gefriertrocknen   \n",
       "625639      gefriertrocknest      gefriertrocknest    gefriertrocknen   \n",
       "625640      gefriertrocknete      gefriertrocknete    gefriertrocknen   \n",
       "625641    gefriertrocknetest    gefriertrocknetest    gefriertrocknen   \n",
       "625642     gefriertrockneten     gefriertrockneten    gefriertrocknen   \n",
       "625643     gefriertrocknetet     gefriertrocknetet    gefriertrocknen   \n",
       "625649   gefrierzutrocknende   gefrierzutrocknende    gefriertrocknen   \n",
       "625650  gefrierzutrocknendem  gefrierzutrocknendem    gefriertrocknen   \n",
       "625651  gefrierzutrocknenden  gefrierzutrocknenden    gefriertrocknen   \n",
       "625652  gefrierzutrocknender  gefrierzutrocknender    gefriertrocknen   \n",
       "625653  gefrierzutrocknendes  gefrierzutrocknendes    gefriertrocknen   \n",
       "\n",
       "              lemma_lower    tag  tag_0       tag_1  tagZ tagZZ  \\\n",
       "63720   gefriergetrocknet  LEX_A  LEX_A  qfxGEFcaEM  <NA>         \n",
       "63721   gefriergetrocknet  LEX_A  LEX_A  cSrtFUpYCE  <NA>         \n",
       "63722   gefriergetrocknet  LEX_A  LEX_A  cJeBRmnkEZ  <NA>         \n",
       "63723   gefriergetrocknet  LEX_A  LEX_A  ztSD6oEkot  <NA>         \n",
       "63724   gefriergetrocknet  LEX_A  LEX_A  UYh5zwEhfx  <NA>         \n",
       "178159          missraten  LEX_V  LEX_V  y9ZTeYS8SU  <NA>         \n",
       "178160          missraten  LEX_V  LEX_V  VhpO1YDYiF  <NA>         \n",
       "178161          missraten  LEX_V  LEX_V  5Jms1aP5H9  <NA>         \n",
       "178162          missraten  LEX_V  LEX_V  N0lyUCwTOa  <NA>         \n",
       "178163          missraten  LEX_V  LEX_V  p6ksoWbv4K  <NA>         \n",
       "178164          missraten  LEX_V  LEX_V  ABDkLdtzEs  <NA>         \n",
       "178165          missraten  LEX_V  LEX_V  qAbhpS76tt  <NA>         \n",
       "178166          missraten  LEX_V  LEX_V  BOBxYuoohY  <NA>         \n",
       "178167          missraten  LEX_V  LEX_V  v1mBxMLjcB  <NA>         \n",
       "178168          missraten  LEX_V  LEX_V  x4gwnCOvaT  <NA>         \n",
       "178169          missraten  LEX_V  LEX_V  jsNDCQhyPM  <NA>         \n",
       "178170          missraten  LEX_V  LEX_V  CTNtsfhX4D  <NA>         \n",
       "497386          missraten  LEX_A  LEX_A  3P2rsBDB3U  <NA>         \n",
       "497387          missraten  LEX_A  LEX_A  br6vYqpXFY  <NA>         \n",
       "497388          missraten  LEX_A  LEX_A  DzOVma9k4l  <NA>         \n",
       "497389          missraten  LEX_A  LEX_A  VZ3MYcMPnP  <NA>         \n",
       "497390          missraten  LEX_A  LEX_A  lsCNroyOi6  <NA>         \n",
       "625636    gefriertrocknen  LEX_V  LEX_V  3DLDV6uP1M  <NA>         \n",
       "625637    gefriertrocknen  LEX_V  LEX_V  BaSRlEoxK0  <NA>         \n",
       "625638    gefriertrocknen  LEX_V  LEX_V  hqLOq1VMi5  <NA>         \n",
       "625639    gefriertrocknen  LEX_V  LEX_V  OSmrUBU98Z  <NA>         \n",
       "625640    gefriertrocknen  LEX_V  LEX_V  ss6UGaJGSt  <NA>         \n",
       "625641    gefriertrocknen  LEX_V  LEX_V  yje5CSqhZZ  <NA>         \n",
       "625642    gefriertrocknen  LEX_V  LEX_V  jaCgxfnTqk  <NA>         \n",
       "625643    gefriertrocknen  LEX_V  LEX_V  g2NzkBPzpw  <NA>         \n",
       "625649    gefriertrocknen  LEX_A  LEX_A  i4f5iRCOFa  <NA>         \n",
       "625650    gefriertrocknen  LEX_A  LEX_A  zf1ff572bZ  <NA>         \n",
       "625651    gefriertrocknen  LEX_A  LEX_A  DxzOPFVgE0  <NA>         \n",
       "625652    gefriertrocknen  LEX_A  LEX_A  Y0KIDQDTwI  <NA>         \n",
       "625653    gefriertrocknen  LEX_A  LEX_A  B6xnJefbok  <NA>         \n",
       "\n",
       "                                  member     score  \n",
       "63720                   Deklinierte_Form  0.822449  \n",
       "63721                   Deklinierte_Form  2.253350  \n",
       "63722                   Deklinierte_Form  1.298417  \n",
       "63723                   Deklinierte_Form  1.166870  \n",
       "63724                   Deklinierte_Form  1.848965  \n",
       "178159             Konjugierte_Form Verb  0.963265  \n",
       "178160             Konjugierte_Form Verb  1.144945  \n",
       "178161             Konjugierte_Form Verb  0.812245  \n",
       "178162             Konjugierte_Form Verb  0.993878  \n",
       "178163             Konjugierte_Form Verb  0.810204  \n",
       "178164             Konjugierte_Form Verb  0.871429  \n",
       "178165             Konjugierte_Form Verb  0.612245  \n",
       "178166             Konjugierte_Form Verb  0.651020  \n",
       "178167             Konjugierte_Form Verb  0.636735  \n",
       "178168             Konjugierte_Form Verb  1.030451  \n",
       "178169             Konjugierte_Form Verb  1.200974  \n",
       "178170             Konjugierte_Form Verb  0.675510  \n",
       "497386                  Deklinierte_Form  1.940317  \n",
       "497387                  Deklinierte_Form  1.194884  \n",
       "497388                  Deklinierte_Form  1.315469  \n",
       "497389                  Deklinierte_Form  2.260658  \n",
       "497390                  Deklinierte_Form  0.902041  \n",
       "625636        Erweiterter_Infinitiv Verb  0.524490  \n",
       "625637             Konjugierte_Form Verb  1.012180  \n",
       "625638             Konjugierte_Form Verb  1.004872  \n",
       "625639             Konjugierte_Form Verb  0.702041  \n",
       "625640             Konjugierte_Form Verb  1.037759  \n",
       "625641             Konjugierte_Form Verb  0.730612  \n",
       "625642             Konjugierte_Form Verb  1.031669  \n",
       "625643             Konjugierte_Form Verb  0.716327  \n",
       "625649  Dekliniertes_Gerundivum Adjektiv  1.834348  \n",
       "625650  Dekliniertes_Gerundivum Adjektiv  0.897959  \n",
       "625651  Dekliniertes_Gerundivum Adjektiv  2.213155  \n",
       "625652  Dekliniertes_Gerundivum Adjektiv  1.317905  \n",
       "625653  Dekliniertes_Gerundivum Adjektiv  1.194884  "
      ]
     },
     "execution_count": 14,
     "metadata": {},
     "output_type": "execute_result"
    },
    {
     "name": "stdout",
     "output_type": "stream",
     "text": [
      "time: 651 ms\n"
     ]
    }
   ],
   "source": [
    "# suche_debug wiktionary_nolemma\n",
    "search_str(wiktionary_nolemma, suche_debug)"
   ]
  },
  {
   "cell_type": "code",
   "execution_count": 15,
   "id": "0fdcd430-c48d-4d0a-9be1-70fd32c61505",
   "metadata": {},
   "outputs": [
    {
     "name": "stdout",
     "output_type": "stream",
     "text": [
      "time: 32.7 ms\n"
     ]
    }
   ],
   "source": [
    "#pak.analyse_cols(wiktionary_merkmal_text)"
   ]
  },
  {
   "cell_type": "markdown",
   "id": "d65e23a2-d02b-4ea5-8efa-aa9d7137300b",
   "metadata": {},
   "source": [
    "## IDs schreiben, Erstbearbeitung, Daten übertragen"
   ]
  },
  {
   "cell_type": "markdown",
   "id": "785c8196-fff3-4a57-9358-d46b3e3af71a",
   "metadata": {},
   "source": [
    "### wiktionary_merkmal"
   ]
  },
  {
   "cell_type": "code",
   "execution_count": 16,
   "id": "caf5bbbe-8743-4be4-b780-9886a5e4e674",
   "metadata": {},
   "outputs": [
    {
     "name": "stdout",
     "output_type": "stream",
     "text": [
      "update_col: func min applied, 3 records less!\n",
      "update_col: 4987597 cells written into new column\n",
      "time: 11.5 s\n"
     ]
    }
   ],
   "source": [
    "# is_lex nach wiktionary_merkmal übertragen\n",
    "#wiktionary_merkmal = pak.drop_cols(wiktionary_merkmal,'is_lex')\n",
    "wiktionary_merkmal = pak.update_col(wiktionary_merkmal, plan_merkmal, on='merkmal', col='is_lex', func='min') \n",
    "wiktionary_merkmal = pak.move_cols(wiktionary_merkmal, 'is_lex', 'merkmal')"
   ]
  },
  {
   "cell_type": "code",
   "execution_count": 17,
   "id": "07102f15-4716-4291-9c70-f14d6a71ce33",
   "metadata": {},
   "outputs": [
    {
     "name": "stdout",
     "output_type": "stream",
     "text": [
      "check_mask:  0 rows\n"
     ]
    },
    {
     "data": {
      "text/html": [
       "<div>\n",
       "<style scoped>\n",
       "    .dataframe tbody tr th:only-of-type {\n",
       "        vertical-align: middle;\n",
       "    }\n",
       "\n",
       "    .dataframe tbody tr th {\n",
       "        vertical-align: top;\n",
       "    }\n",
       "\n",
       "    .dataframe thead th {\n",
       "        text-align: right;\n",
       "    }\n",
       "</style>\n",
       "<table border=\"1\" class=\"dataframe\">\n",
       "  <thead>\n",
       "    <tr style=\"text-align: right;\">\n",
       "      <th></th>\n",
       "      <th>section_id2</th>\n",
       "      <th>merkmal</th>\n",
       "      <th>is_lex</th>\n",
       "      <th>data</th>\n",
       "      <th>num</th>\n",
       "      <th>meta</th>\n",
       "      <th>data_id</th>\n",
       "      <th>score</th>\n",
       "    </tr>\n",
       "  </thead>\n",
       "  <tbody>\n",
       "  </tbody>\n",
       "</table>\n",
       "</div>"
      ],
      "text/plain": [
       "Empty DataFrame\n",
       "Columns: [section_id2, merkmal, is_lex, data, num, meta, data_id, score]\n",
       "Index: []"
      ]
     },
     "execution_count": 17,
     "metadata": {},
     "output_type": "execute_result"
    },
    {
     "name": "stdout",
     "output_type": "stream",
     "text": [
      "time: 1.37 s\n"
     ]
    }
   ],
   "source": [
    "# is_lex manuell\n",
    "mask1 = wiktionary_merkmal.is_lex.isnull()\n",
    "mask2 = wiktionary_merkmal.meta.str.contains('manuell')\n",
    "mask = mask1  &  mask2\n",
    "check_mask(wiktionary_merkmal,mask,0,5)\n",
    "wiktionary_merkmal.loc[mask,'is_lex'] = True\n",
    "wiktionary_merkmal[mask]"
   ]
  },
  {
   "cell_type": "markdown",
   "id": "72cf8d68-7777-4749-b5ef-46defe1c83c1",
   "metadata": {},
   "source": [
    "### wiktionary_lemma"
   ]
  },
  {
   "cell_type": "code",
   "execution_count": 18,
   "id": "7558a1b7-01f5-4426-922c-176fd045b2a1",
   "metadata": {},
   "outputs": [
    {
     "name": "stdout",
     "output_type": "stream",
     "text": [
      "time: 1.22 s\n"
     ]
    }
   ],
   "source": [
    "# lemma_id \n",
    "wiktionary_lemma   = pak.rename_col( wiktionary_lemma,   'section_id2', 'lemma_id' )\n",
    "wiktionary_merkmal = pak.rename_col( wiktionary_merkmal, 'section_id2', 'lemma_id' )"
   ]
  },
  {
   "cell_type": "code",
   "execution_count": 19,
   "id": "5b01ba9d-86e9-4254-9b16-c5a487918bb2",
   "metadata": {},
   "outputs": [
    {
     "data": {
      "text/html": [
       "<div>\n",
       "<style scoped>\n",
       "    .dataframe tbody tr th:only-of-type {\n",
       "        vertical-align: middle;\n",
       "    }\n",
       "\n",
       "    .dataframe tbody tr th {\n",
       "        vertical-align: top;\n",
       "    }\n",
       "\n",
       "    .dataframe thead th {\n",
       "        text-align: right;\n",
       "    }\n",
       "</style>\n",
       "<table border=\"1\" class=\"dataframe\">\n",
       "  <thead>\n",
       "    <tr style=\"text-align: right;\">\n",
       "      <th></th>\n",
       "      <th>page_id</th>\n",
       "      <th>page_part</th>\n",
       "      <th>lemma_id</th>\n",
       "      <th>lemma</th>\n",
       "      <th>lemma_lower</th>\n",
       "      <th>isupper</th>\n",
       "      <th>lemma_len</th>\n",
       "      <th>tag</th>\n",
       "      <th>tag_0</th>\n",
       "      <th>tag_1</th>\n",
       "      <th>tagZ</th>\n",
       "      <th>tagZZ</th>\n",
       "      <th>member</th>\n",
       "      <th>score</th>\n",
       "      <th>data_id</th>\n",
       "    </tr>\n",
       "  </thead>\n",
       "  <tbody>\n",
       "    <tr>\n",
       "      <th>129338</th>\n",
       "      <td>-1</td>\n",
       "      <td>-1</td>\n",
       "      <td>gefriergetrocknet</td>\n",
       "      <td>gefriergetrocknet</td>\n",
       "      <td>gefriergetrocknet</td>\n",
       "      <td>False</td>\n",
       "      <td>1</td>\n",
       "      <td>ADJA</td>\n",
       "      <td>ADJA</td>\n",
       "      <td>ATraUFcN5L</td>\n",
       "      <td>ADJ</td>\n",
       "      <td>A</td>\n",
       "      <td>Ptz2 noSteig manuell</td>\n",
       "      <td>0.500000</td>\n",
       "      <td>gefriertrocknen</td>\n",
       "    </tr>\n",
       "    <tr>\n",
       "      <th>129339</th>\n",
       "      <td>273380</td>\n",
       "      <td>0</td>\n",
       "      <td>gefriergetrocknet</td>\n",
       "      <td>gefriergetrocknet</td>\n",
       "      <td>gefriergetrocknet</td>\n",
       "      <td>False</td>\n",
       "      <td>1</td>\n",
       "      <td>ADJA</td>\n",
       "      <td>ADJA</td>\n",
       "      <td>M9yT3byKKu</td>\n",
       "      <td>ADJ</td>\n",
       "      <td>A</td>\n",
       "      <td>noSteig</td>\n",
       "      <td>3.807552</td>\n",
       "      <td></td>\n",
       "    </tr>\n",
       "    <tr>\n",
       "      <th>129340</th>\n",
       "      <td>1054310</td>\n",
       "      <td>0</td>\n",
       "      <td>gefriertrocknen</td>\n",
       "      <td>gefriertrocknen</td>\n",
       "      <td>gefriertrocknen</td>\n",
       "      <td>False</td>\n",
       "      <td>1</td>\n",
       "      <td>VVFIN</td>\n",
       "      <td>VVFIN</td>\n",
       "      <td>TLhfFhOWFO</td>\n",
       "      <td>VER</td>\n",
       "      <td>V</td>\n",
       "      <td></td>\n",
       "      <td>14.422655</td>\n",
       "      <td></td>\n",
       "    </tr>\n",
       "    <tr>\n",
       "      <th>129341</th>\n",
       "      <td>-1</td>\n",
       "      <td>-1</td>\n",
       "      <td>gefriertrocknen</td>\n",
       "      <td>gefriertrocknen</td>\n",
       "      <td>gefriertrocknen</td>\n",
       "      <td>False</td>\n",
       "      <td>1</td>\n",
       "      <td>VVFIN</td>\n",
       "      <td>VVFIN</td>\n",
       "      <td>dFIK2wex3d</td>\n",
       "      <td>VER</td>\n",
       "      <td>V</td>\n",
       "      <td>manuell</td>\n",
       "      <td>0.450000</td>\n",
       "      <td></td>\n",
       "    </tr>\n",
       "    <tr>\n",
       "      <th>129342</th>\n",
       "      <td>1054319</td>\n",
       "      <td>0</td>\n",
       "      <td>gefriertrocknend</td>\n",
       "      <td>gefriertrocknend</td>\n",
       "      <td>gefriertrocknend</td>\n",
       "      <td>False</td>\n",
       "      <td>1</td>\n",
       "      <td>ADJA</td>\n",
       "      <td>ADJA</td>\n",
       "      <td>Ah4pELiP74</td>\n",
       "      <td>ADJ</td>\n",
       "      <td>A</td>\n",
       "      <td>Ptz1</td>\n",
       "      <td>0.467347</td>\n",
       "      <td>gefriertrocknen</td>\n",
       "    </tr>\n",
       "    <tr>\n",
       "      <th>142186</th>\n",
       "      <td>242150</td>\n",
       "      <td>0</td>\n",
       "      <td>missraten</td>\n",
       "      <td>missraten</td>\n",
       "      <td>missraten</td>\n",
       "      <td>False</td>\n",
       "      <td>1</td>\n",
       "      <td>VVFIN</td>\n",
       "      <td>VVFIN</td>\n",
       "      <td>foLRX8vFnm</td>\n",
       "      <td>VER</td>\n",
       "      <td>V</td>\n",
       "      <td></td>\n",
       "      <td>4.472594</td>\n",
       "      <td></td>\n",
       "    </tr>\n",
       "    <tr>\n",
       "      <th>142187</th>\n",
       "      <td>-1</td>\n",
       "      <td>-1</td>\n",
       "      <td>missraten</td>\n",
       "      <td>missraten</td>\n",
       "      <td>missraten</td>\n",
       "      <td>False</td>\n",
       "      <td>1</td>\n",
       "      <td>VVFIN</td>\n",
       "      <td>VVFIN</td>\n",
       "      <td>hMbvB8jNwL</td>\n",
       "      <td>VER</td>\n",
       "      <td>V</td>\n",
       "      <td>manuell</td>\n",
       "      <td>0.450000</td>\n",
       "      <td></td>\n",
       "    </tr>\n",
       "    <tr>\n",
       "      <th>142188</th>\n",
       "      <td>-1</td>\n",
       "      <td>-1</td>\n",
       "      <td>missraten_MADJ</td>\n",
       "      <td>missraten</td>\n",
       "      <td>missraten</td>\n",
       "      <td>False</td>\n",
       "      <td>1</td>\n",
       "      <td>ADJA</td>\n",
       "      <td>ADJA</td>\n",
       "      <td>IBpowZE9hp</td>\n",
       "      <td>ADJ</td>\n",
       "      <td>A</td>\n",
       "      <td>Ptz2 manuell</td>\n",
       "      <td>0.500000</td>\n",
       "      <td>missraten</td>\n",
       "    </tr>\n",
       "    <tr>\n",
       "      <th>142189</th>\n",
       "      <td>446280</td>\n",
       "      <td>0</td>\n",
       "      <td>missratend</td>\n",
       "      <td>missratend</td>\n",
       "      <td>missratend</td>\n",
       "      <td>False</td>\n",
       "      <td>1</td>\n",
       "      <td>ADJA</td>\n",
       "      <td>ADJA</td>\n",
       "      <td>i9VVIKLe4m</td>\n",
       "      <td>ADJ</td>\n",
       "      <td>A</td>\n",
       "      <td>Ptz1</td>\n",
       "      <td>0.579592</td>\n",
       "      <td>missraten</td>\n",
       "    </tr>\n",
       "    <tr>\n",
       "      <th>142562</th>\n",
       "      <td>-1</td>\n",
       "      <td>-1</td>\n",
       "      <td>mißraten_MADJ</td>\n",
       "      <td>mißraten</td>\n",
       "      <td>mißraten</td>\n",
       "      <td>False</td>\n",
       "      <td>1</td>\n",
       "      <td>ADJA</td>\n",
       "      <td>ADJA</td>\n",
       "      <td>rNQ5memXrO</td>\n",
       "      <td>ADJ</td>\n",
       "      <td>A</td>\n",
       "      <td>Ptz2 manuell</td>\n",
       "      <td>0.500000</td>\n",
       "      <td>missraten</td>\n",
       "    </tr>\n",
       "  </tbody>\n",
       "</table>\n",
       "</div>"
      ],
      "text/plain": [
       "        page_id  page_part           lemma_id              lemma  \\\n",
       "129338       -1         -1  gefriergetrocknet  gefriergetrocknet   \n",
       "129339   273380          0  gefriergetrocknet  gefriergetrocknet   \n",
       "129340  1054310          0    gefriertrocknen    gefriertrocknen   \n",
       "129341       -1         -1    gefriertrocknen    gefriertrocknen   \n",
       "129342  1054319          0   gefriertrocknend   gefriertrocknend   \n",
       "142186   242150          0          missraten          missraten   \n",
       "142187       -1         -1          missraten          missraten   \n",
       "142188       -1         -1     missraten_MADJ          missraten   \n",
       "142189   446280          0         missratend         missratend   \n",
       "142562       -1         -1      mißraten_MADJ           mißraten   \n",
       "\n",
       "              lemma_lower  isupper  lemma_len    tag  tag_0       tag_1 tagZ  \\\n",
       "129338  gefriergetrocknet    False          1   ADJA   ADJA  ATraUFcN5L  ADJ   \n",
       "129339  gefriergetrocknet    False          1   ADJA   ADJA  M9yT3byKKu  ADJ   \n",
       "129340    gefriertrocknen    False          1  VVFIN  VVFIN  TLhfFhOWFO  VER   \n",
       "129341    gefriertrocknen    False          1  VVFIN  VVFIN  dFIK2wex3d  VER   \n",
       "129342   gefriertrocknend    False          1   ADJA   ADJA  Ah4pELiP74  ADJ   \n",
       "142186          missraten    False          1  VVFIN  VVFIN  foLRX8vFnm  VER   \n",
       "142187          missraten    False          1  VVFIN  VVFIN  hMbvB8jNwL  VER   \n",
       "142188          missraten    False          1   ADJA   ADJA  IBpowZE9hp  ADJ   \n",
       "142189         missratend    False          1   ADJA   ADJA  i9VVIKLe4m  ADJ   \n",
       "142562           mißraten    False          1   ADJA   ADJA  rNQ5memXrO  ADJ   \n",
       "\n",
       "       tagZZ                member      score          data_id  \n",
       "129338     A  Ptz2 noSteig manuell   0.500000  gefriertrocknen  \n",
       "129339     A               noSteig   3.807552                   \n",
       "129340     V                        14.422655                   \n",
       "129341     V               manuell   0.450000                   \n",
       "129342     A                  Ptz1   0.467347  gefriertrocknen  \n",
       "142186     V                         4.472594                   \n",
       "142187     V               manuell   0.450000                   \n",
       "142188     A          Ptz2 manuell   0.500000        missraten  \n",
       "142189     A                  Ptz1   0.579592        missraten  \n",
       "142562     A          Ptz2 manuell   0.500000        missraten  "
      ]
     },
     "execution_count": 19,
     "metadata": {},
     "output_type": "execute_result"
    },
    {
     "name": "stdout",
     "output_type": "stream",
     "text": [
      "time: 209 ms\n"
     ]
    }
   ],
   "source": [
    "# suche_debug wiktionary_lemma\n",
    "search_str(wiktionary_lemma, suche_debug)"
   ]
  },
  {
   "cell_type": "code",
   "execution_count": 20,
   "id": "16a14a88-1de5-43dc-964a-6735cc62ed24",
   "metadata": {},
   "outputs": [
    {
     "name": "stdout",
     "output_type": "stream",
     "text": [
      "time: 51.3 ms\n"
     ]
    }
   ],
   "source": [
    "# fillna\n",
    "wiktionary_lemma['data_id'] = wiktionary_lemma.data_id.fillna('')"
   ]
  },
  {
   "cell_type": "code",
   "execution_count": 21,
   "id": "21cbedc2-2f2b-427f-9ed6-fadfb0932c4a",
   "metadata": {},
   "outputs": [
    {
     "name": "stdout",
     "output_type": "stream",
     "text": [
      "162679 unique rows and 5338 rows with duplicates\n",
      "2671 rows less, now 165346 rows\n",
      "time: 3.44 s\n"
     ]
    }
   ],
   "source": [
    "# group + agg_words_nodup\n",
    "\n",
    "cols_vorher = wiktionary_lemma.columns\n",
    "\n",
    "wiktionary_lemma = pak.group_and_agg( wiktionary_lemma, \n",
    "              ['lemma_id',  'page_id',  'page_part',  'lemma',  'tag',                 'member',             'data_id', 'score',  ],\n",
    "              [ 'group',    'max',      'max',        'first',  pak.agg_words_nodup,   pak.agg_words_nodup,  'max',     'sum',    ],\n",
    "              ['lemma_id',  'page_id',  'page_part',  'lemma',  'tag',                 'member',             'data_id', 'score',  ],\n",
    "              optimize=True\n",
    "             )"
   ]
  },
  {
   "cell_type": "code",
   "execution_count": 22,
   "id": "9bec8a9a-38b7-4d81-8a4e-64fc905dcb19",
   "metadata": {},
   "outputs": [
    {
     "data": {
      "text/html": [
       "<div>\n",
       "<style scoped>\n",
       "    .dataframe tbody tr th:only-of-type {\n",
       "        vertical-align: middle;\n",
       "    }\n",
       "\n",
       "    .dataframe tbody tr th {\n",
       "        vertical-align: top;\n",
       "    }\n",
       "\n",
       "    .dataframe thead th {\n",
       "        text-align: right;\n",
       "    }\n",
       "</style>\n",
       "<table border=\"1\" class=\"dataframe\">\n",
       "  <thead>\n",
       "    <tr style=\"text-align: right;\">\n",
       "      <th></th>\n",
       "      <th>lemma_id</th>\n",
       "      <th>page_id</th>\n",
       "      <th>page_part</th>\n",
       "      <th>lemma</th>\n",
       "      <th>tag</th>\n",
       "      <th>member</th>\n",
       "      <th>data_id</th>\n",
       "      <th>score</th>\n",
       "    </tr>\n",
       "  </thead>\n",
       "  <tbody>\n",
       "    <tr>\n",
       "      <th>2054</th>\n",
       "      <td>gefriergetrocknet</td>\n",
       "      <td>273380</td>\n",
       "      <td>0</td>\n",
       "      <td>gefriergetrocknet</td>\n",
       "      <td>ADJA</td>\n",
       "      <td>Ptz2 noSteig manuell</td>\n",
       "      <td>gefriertrocknen</td>\n",
       "      <td>4.307552</td>\n",
       "    </tr>\n",
       "    <tr>\n",
       "      <th>2055</th>\n",
       "      <td>gefriertrocknen</td>\n",
       "      <td>1054310</td>\n",
       "      <td>0</td>\n",
       "      <td>gefriertrocknen</td>\n",
       "      <td>VVFIN</td>\n",
       "      <td>manuell</td>\n",
       "      <td></td>\n",
       "      <td>14.872655</td>\n",
       "    </tr>\n",
       "    <tr>\n",
       "      <th>2194</th>\n",
       "      <td>missraten</td>\n",
       "      <td>242150</td>\n",
       "      <td>0</td>\n",
       "      <td>missraten</td>\n",
       "      <td>VVFIN</td>\n",
       "      <td>manuell</td>\n",
       "      <td></td>\n",
       "      <td>4.922594</td>\n",
       "    </tr>\n",
       "    <tr>\n",
       "      <th>127895</th>\n",
       "      <td>gefriertrocknend</td>\n",
       "      <td>1054319</td>\n",
       "      <td>0</td>\n",
       "      <td>gefriertrocknend</td>\n",
       "      <td>ADJA</td>\n",
       "      <td>Ptz1</td>\n",
       "      <td>gefriertrocknen</td>\n",
       "      <td>0.467347</td>\n",
       "    </tr>\n",
       "    <tr>\n",
       "      <th>140462</th>\n",
       "      <td>missraten_MADJ</td>\n",
       "      <td>-1</td>\n",
       "      <td>-1</td>\n",
       "      <td>missraten</td>\n",
       "      <td>ADJA</td>\n",
       "      <td>Ptz2 manuell</td>\n",
       "      <td>missraten</td>\n",
       "      <td>0.500000</td>\n",
       "    </tr>\n",
       "    <tr>\n",
       "      <th>140463</th>\n",
       "      <td>missratend</td>\n",
       "      <td>446280</td>\n",
       "      <td>0</td>\n",
       "      <td>missratend</td>\n",
       "      <td>ADJA</td>\n",
       "      <td>Ptz1</td>\n",
       "      <td>missraten</td>\n",
       "      <td>0.579592</td>\n",
       "    </tr>\n",
       "    <tr>\n",
       "      <th>140820</th>\n",
       "      <td>mißraten_MADJ</td>\n",
       "      <td>-1</td>\n",
       "      <td>-1</td>\n",
       "      <td>mißraten</td>\n",
       "      <td>ADJA</td>\n",
       "      <td>Ptz2 manuell</td>\n",
       "      <td>missraten</td>\n",
       "      <td>0.500000</td>\n",
       "    </tr>\n",
       "  </tbody>\n",
       "</table>\n",
       "</div>"
      ],
      "text/plain": [
       "                 lemma_id  page_id  page_part              lemma    tag  \\\n",
       "2054    gefriergetrocknet   273380          0  gefriergetrocknet   ADJA   \n",
       "2055      gefriertrocknen  1054310          0    gefriertrocknen  VVFIN   \n",
       "2194            missraten   242150          0          missraten  VVFIN   \n",
       "127895   gefriertrocknend  1054319          0   gefriertrocknend   ADJA   \n",
       "140462     missraten_MADJ       -1         -1          missraten   ADJA   \n",
       "140463         missratend   446280          0         missratend   ADJA   \n",
       "140820      mißraten_MADJ       -1         -1           mißraten   ADJA   \n",
       "\n",
       "                      member          data_id      score  \n",
       "2054    Ptz2 noSteig manuell  gefriertrocknen   4.307552  \n",
       "2055                 manuell                   14.872655  \n",
       "2194                 manuell                    4.922594  \n",
       "127895                  Ptz1  gefriertrocknen   0.467347  \n",
       "140462          Ptz2 manuell        missraten   0.500000  \n",
       "140463                  Ptz1        missraten   0.579592  \n",
       "140820          Ptz2 manuell        missraten   0.500000  "
      ]
     },
     "execution_count": 22,
     "metadata": {},
     "output_type": "execute_result"
    },
    {
     "name": "stdout",
     "output_type": "stream",
     "text": [
      "time: 126 ms\n"
     ]
    }
   ],
   "source": [
    "# suche_debug wiktionary_lemma\n",
    "search_str(wiktionary_lemma, suche_debug)"
   ]
  },
  {
   "cell_type": "code",
   "execution_count": 23,
   "id": "22931044-dd34-4c9f-bb83-8a8abfb43996",
   "metadata": {},
   "outputs": [
    {
     "name": "stdout",
     "output_type": "stream",
     "text": [
      "time: 191 ms\n"
     ]
    }
   ],
   "source": [
    "# nach Priorität sortieren (laut Steuertabellen)\n",
    "wiktionary_lemma['tag'] = tag_sortieren(wiktionary_lemma.tag)"
   ]
  },
  {
   "cell_type": "code",
   "execution_count": 24,
   "id": "43f689b0-988e-49c3-8d7c-2110999a0eea",
   "metadata": {},
   "outputs": [
    {
     "name": "stdout",
     "output_type": "stream",
     "text": [
      "check_mask:  287 rows\n",
      "check_mask:  0 rows\n",
      "time: 3.42 s\n"
     ]
    }
   ],
   "source": [
    "# Spalten wiederherstellen\n",
    "wiktionary_lemma = pflege_tag_felder(wiktionary_lemma, translate_tagZ)  # tagZ, tagZZ, tag_0, tag_1, tagZ_0, tagZ_1\n",
    "wiktionary_lemma = ergänze_felder(wiktionary_lemma)                     # lemma_lower, isupper, lemma_len\n",
    "\n",
    "# Fehler?\n",
    "mask = (wiktionary_lemma.tagZZ.str.len() > 1)\n",
    "check_mask(wiktionary_lemma,mask,0,10) # ein paar können wir tolerieren"
   ]
  },
  {
   "cell_type": "code",
   "execution_count": 25,
   "id": "b9da30dc-41fe-4622-bb07-925465b36441",
   "metadata": {},
   "outputs": [
    {
     "name": "stdout",
     "output_type": "stream",
     "text": [
      "time: 34.5 ms\n"
     ]
    }
   ],
   "source": [
    "bpy.minivenn(cols_vorher, wiktionary_lemma.columns, format='diff')\n",
    "assert cols_vorher == wiktionary_lemma.columns"
   ]
  },
  {
   "cell_type": "code",
   "execution_count": 26,
   "id": "7eeef934",
   "metadata": {},
   "outputs": [
    {
     "name": "stdout",
     "output_type": "stream",
     "text": [
      "3 rows out of 165346\n"
     ]
    },
    {
     "data": {
      "text/html": [
       "\n",
       "        <iframe\n",
       "            width=\"100%\"\n",
       "            height=\"475\"\n",
       "            src=\"http://pop-os:40000/dtale/iframe/3\"\n",
       "            frameborder=\"0\"\n",
       "            allowfullscreen\n",
       "            \n",
       "        ></iframe>\n",
       "        "
      ],
      "text/plain": [
       "<IPython.lib.display.IFrame at 0x7f6d765727c0>"
      ]
     },
     "metadata": {},
     "output_type": "display_data"
    },
    {
     "data": {
      "text/plain": []
     },
     "execution_count": 26,
     "metadata": {},
     "output_type": "execute_result"
    },
    {
     "name": "stdout",
     "output_type": "stream",
     "text": [
      "time: 242 ms\n"
     ]
    }
   ],
   "source": [
    "# # TODO Klappt noch nicht # ADV ergänzen. Ebenso: Substantiv, istName, Name\n",
    "mask1 =  wiktionary_lemma.member.str.contains('Substantiv')\n",
    "mask2 = ~wiktionary_lemma.tag.str.contains('NN')\n",
    "mask3 = ~wiktionary_lemma.tag.str.contains(' ') \n",
    "mask = mask1  &  mask2  &  mask3\n",
    "grid(wiktionary_lemma, mask)\n"
   ]
  },
  {
   "cell_type": "code",
   "execution_count": 27,
   "id": "d82fad01",
   "metadata": {},
   "outputs": [
    {
     "name": "stdout",
     "output_type": "stream",
     "text": [
      "time: 345 ms\n"
     ]
    }
   ],
   "source": [
    "# AFIX MFIX ZFIX und zusätzliches TODO \n",
    "r = {'AFIX TRUNC':'AFIX', \n",
    "     'MFIX TRUNC':'MFIX', \n",
    "     'ZFIX TRUNC':'ZFIX', \n",
    "     ' TODO':'', \n",
    "    }\n",
    "wiktionary_lemma['tag'] = pak.replace_str(wiktionary_lemma.tag, r)"
   ]
  },
  {
   "cell_type": "code",
   "execution_count": 28,
   "id": "890cfa34-fcd5-4cc4-a2df-ea9faaaddce5",
   "metadata": {},
   "outputs": [
    {
     "name": "stdout",
     "output_type": "stream",
     "text": [
      "check_mask:  287 rows\n",
      "check_mask:  0 rows\n",
      "time: 4.09 s\n"
     ]
    }
   ],
   "source": [
    "# Spalten nach den Ersetzungen wiederherstellen\n",
    "wiktionary_lemma = pflege_tag_felder(wiktionary_lemma, translate_tagZ)  # tagZ, tagZZ, tag_0, tag_1, tagZ_0, tagZ_1\n",
    "wiktionary_lemma = ergänze_felder(wiktionary_lemma)                     # lemma_lower, isupper, lemma_len\n",
    "\n",
    "# Fehler?\n",
    "mask = (wiktionary_lemma.tagZZ.str.len() > 1)\n",
    "check_mask(wiktionary_lemma, mask, 0) # diesmal tolerieren wir nichts. tagZZ ist jetzt eindeutig."
   ]
  },
  {
   "cell_type": "code",
   "execution_count": 29,
   "id": "6fc22942-038f-4791-9dc2-17ba2763a9cf",
   "metadata": {},
   "outputs": [
    {
     "name": "stdout",
     "output_type": "stream",
     "text": [
      "16 rows out of 26944\n"
     ]
    },
    {
     "data": {
      "text/html": [
       "\n",
       "        <iframe\n",
       "            width=\"100%\"\n",
       "            height=\"475\"\n",
       "            src=\"http://pop-os:40000/dtale/iframe/4\"\n",
       "            frameborder=\"0\"\n",
       "            allowfullscreen\n",
       "            \n",
       "        ></iframe>\n",
       "        "
      ],
      "text/plain": [
       "<IPython.lib.display.IFrame at 0x7f6d7a4790d0>"
      ]
     },
     "metadata": {},
     "output_type": "display_data"
    },
    {
     "data": {
      "text/plain": []
     },
     "execution_count": 29,
     "metadata": {},
     "output_type": "execute_result"
    },
    {
     "name": "stdout",
     "output_type": "stream",
     "text": [
      "time: 713 ms\n"
     ]
    }
   ],
   "source": [
    "# alle_ptz\n",
    "mask_Ptz = wiktionary_lemma.data_id != ''\n",
    "alle_ptz = wiktionary_lemma[mask_Ptz]\n",
    "grid(alle_ptz,pak.sample)"
   ]
  },
  {
   "cell_type": "code",
   "execution_count": 30,
   "id": "552456f9-6118-44e8-a8aa-bbbff9cbb904",
   "metadata": {},
   "outputs": [
    {
     "name": "stdout",
     "output_type": "stream",
     "text": [
      "check_mask:  0 rows\n",
      "time: 61.3 ms\n"
     ]
    }
   ],
   "source": [
    "# alle_ptz enthält nur Adjektive\n",
    "mask = alle_ptz.tagZZ != 'A'\n",
    "check_mask(alle_ptz,mask,0)\n",
    "#alle_ptz[mask]"
   ]
  },
  {
   "cell_type": "code",
   "execution_count": 31,
   "id": "a4e69a95-dfd6-4083-9414-b882bf0c8e70",
   "metadata": {},
   "outputs": [
    {
     "name": "stdout",
     "output_type": "stream",
     "text": [
      "check_mask:  0 rows\n",
      "time: 129 ms\n"
     ]
    }
   ],
   "source": [
    "# Alle alle_ptz.data_id weisen auf Verben\n",
    "mask1 = wiktionary_lemma.lemma_id.isin(alle_ptz.data_id)\n",
    "mask2 = wiktionary_lemma.tagZZ != 'V'\n",
    "mask = mask1  &  mask2\n",
    "check_mask(wiktionary_lemma,mask,0)\n",
    "#wiktionary_lemma[mask]"
   ]
  },
  {
   "cell_type": "code",
   "execution_count": 32,
   "id": "1c3e68fb-946d-4706-8c91-8f8641f03e71",
   "metadata": {},
   "outputs": [
    {
     "data": {
      "text/html": [
       "<div>\n",
       "<style scoped>\n",
       "    .dataframe tbody tr th:only-of-type {\n",
       "        vertical-align: middle;\n",
       "    }\n",
       "\n",
       "    .dataframe tbody tr th {\n",
       "        vertical-align: top;\n",
       "    }\n",
       "\n",
       "    .dataframe thead th {\n",
       "        text-align: right;\n",
       "    }\n",
       "</style>\n",
       "<table border=\"1\" class=\"dataframe\">\n",
       "  <thead>\n",
       "    <tr style=\"text-align: right;\">\n",
       "      <th></th>\n",
       "      <th>lemma_id</th>\n",
       "      <th>page_id</th>\n",
       "      <th>page_part</th>\n",
       "      <th>lemma</th>\n",
       "      <th>lemma_lower</th>\n",
       "      <th>isupper</th>\n",
       "      <th>lemma_len</th>\n",
       "      <th>tag</th>\n",
       "      <th>tag_0</th>\n",
       "      <th>tag_1</th>\n",
       "      <th>tagZ</th>\n",
       "      <th>tagZZ</th>\n",
       "      <th>member</th>\n",
       "      <th>data_id</th>\n",
       "      <th>score</th>\n",
       "    </tr>\n",
       "  </thead>\n",
       "  <tbody>\n",
       "    <tr>\n",
       "      <th>2054</th>\n",
       "      <td>gefriergetrocknet</td>\n",
       "      <td>273380</td>\n",
       "      <td>0</td>\n",
       "      <td>gefriergetrocknet</td>\n",
       "      <td>gefriergetrocknet</td>\n",
       "      <td>False</td>\n",
       "      <td>1</td>\n",
       "      <td>ADJA</td>\n",
       "      <td>ADJA</td>\n",
       "      <td>s6ixiUi9BM</td>\n",
       "      <td>ADJ</td>\n",
       "      <td>A</td>\n",
       "      <td>Ptz2 noSteig manuell</td>\n",
       "      <td>gefriertrocknen</td>\n",
       "      <td>4.307552</td>\n",
       "    </tr>\n",
       "    <tr>\n",
       "      <th>2055</th>\n",
       "      <td>gefriertrocknen</td>\n",
       "      <td>1054310</td>\n",
       "      <td>0</td>\n",
       "      <td>gefriertrocknen</td>\n",
       "      <td>gefriertrocknen</td>\n",
       "      <td>False</td>\n",
       "      <td>1</td>\n",
       "      <td>VVFIN</td>\n",
       "      <td>VVFIN</td>\n",
       "      <td>yJnWihTkXL</td>\n",
       "      <td>VER</td>\n",
       "      <td>V</td>\n",
       "      <td>manuell</td>\n",
       "      <td></td>\n",
       "      <td>14.872655</td>\n",
       "    </tr>\n",
       "    <tr>\n",
       "      <th>2194</th>\n",
       "      <td>missraten</td>\n",
       "      <td>242150</td>\n",
       "      <td>0</td>\n",
       "      <td>missraten</td>\n",
       "      <td>missraten</td>\n",
       "      <td>False</td>\n",
       "      <td>1</td>\n",
       "      <td>VVFIN</td>\n",
       "      <td>VVFIN</td>\n",
       "      <td>DXXh04S9JZ</td>\n",
       "      <td>VER</td>\n",
       "      <td>V</td>\n",
       "      <td>manuell</td>\n",
       "      <td></td>\n",
       "      <td>4.922594</td>\n",
       "    </tr>\n",
       "    <tr>\n",
       "      <th>127895</th>\n",
       "      <td>gefriertrocknend</td>\n",
       "      <td>1054319</td>\n",
       "      <td>0</td>\n",
       "      <td>gefriertrocknend</td>\n",
       "      <td>gefriertrocknend</td>\n",
       "      <td>False</td>\n",
       "      <td>1</td>\n",
       "      <td>ADJA</td>\n",
       "      <td>ADJA</td>\n",
       "      <td>1HqGYAdhah</td>\n",
       "      <td>ADJ</td>\n",
       "      <td>A</td>\n",
       "      <td>Ptz1</td>\n",
       "      <td>gefriertrocknen</td>\n",
       "      <td>0.467347</td>\n",
       "    </tr>\n",
       "    <tr>\n",
       "      <th>140462</th>\n",
       "      <td>missraten_MADJ</td>\n",
       "      <td>-1</td>\n",
       "      <td>-1</td>\n",
       "      <td>missraten</td>\n",
       "      <td>missraten</td>\n",
       "      <td>False</td>\n",
       "      <td>1</td>\n",
       "      <td>ADJA</td>\n",
       "      <td>ADJA</td>\n",
       "      <td>dJ48jJBIod</td>\n",
       "      <td>ADJ</td>\n",
       "      <td>A</td>\n",
       "      <td>Ptz2 manuell</td>\n",
       "      <td>missraten</td>\n",
       "      <td>0.500000</td>\n",
       "    </tr>\n",
       "    <tr>\n",
       "      <th>140463</th>\n",
       "      <td>missratend</td>\n",
       "      <td>446280</td>\n",
       "      <td>0</td>\n",
       "      <td>missratend</td>\n",
       "      <td>missratend</td>\n",
       "      <td>False</td>\n",
       "      <td>1</td>\n",
       "      <td>ADJA</td>\n",
       "      <td>ADJA</td>\n",
       "      <td>xpAe81jVwT</td>\n",
       "      <td>ADJ</td>\n",
       "      <td>A</td>\n",
       "      <td>Ptz1</td>\n",
       "      <td>missraten</td>\n",
       "      <td>0.579592</td>\n",
       "    </tr>\n",
       "    <tr>\n",
       "      <th>140820</th>\n",
       "      <td>mißraten_MADJ</td>\n",
       "      <td>-1</td>\n",
       "      <td>-1</td>\n",
       "      <td>mißraten</td>\n",
       "      <td>mißraten</td>\n",
       "      <td>False</td>\n",
       "      <td>1</td>\n",
       "      <td>ADJA</td>\n",
       "      <td>ADJA</td>\n",
       "      <td>DpUQoGbzJB</td>\n",
       "      <td>ADJ</td>\n",
       "      <td>A</td>\n",
       "      <td>Ptz2 manuell</td>\n",
       "      <td>missraten</td>\n",
       "      <td>0.500000</td>\n",
       "    </tr>\n",
       "  </tbody>\n",
       "</table>\n",
       "</div>"
      ],
      "text/plain": [
       "                 lemma_id  page_id  page_part              lemma  \\\n",
       "2054    gefriergetrocknet   273380          0  gefriergetrocknet   \n",
       "2055      gefriertrocknen  1054310          0    gefriertrocknen   \n",
       "2194            missraten   242150          0          missraten   \n",
       "127895   gefriertrocknend  1054319          0   gefriertrocknend   \n",
       "140462     missraten_MADJ       -1         -1          missraten   \n",
       "140463         missratend   446280          0         missratend   \n",
       "140820      mißraten_MADJ       -1         -1           mißraten   \n",
       "\n",
       "              lemma_lower  isupper  lemma_len    tag  tag_0       tag_1 tagZ  \\\n",
       "2054    gefriergetrocknet    False          1   ADJA   ADJA  s6ixiUi9BM  ADJ   \n",
       "2055      gefriertrocknen    False          1  VVFIN  VVFIN  yJnWihTkXL  VER   \n",
       "2194            missraten    False          1  VVFIN  VVFIN  DXXh04S9JZ  VER   \n",
       "127895   gefriertrocknend    False          1   ADJA   ADJA  1HqGYAdhah  ADJ   \n",
       "140462          missraten    False          1   ADJA   ADJA  dJ48jJBIod  ADJ   \n",
       "140463         missratend    False          1   ADJA   ADJA  xpAe81jVwT  ADJ   \n",
       "140820           mißraten    False          1   ADJA   ADJA  DpUQoGbzJB  ADJ   \n",
       "\n",
       "       tagZZ                member          data_id      score  \n",
       "2054       A  Ptz2 noSteig manuell  gefriertrocknen   4.307552  \n",
       "2055       V               manuell                   14.872655  \n",
       "2194       V               manuell                    4.922594  \n",
       "127895     A                  Ptz1  gefriertrocknen   0.467347  \n",
       "140462     A          Ptz2 manuell        missraten   0.500000  \n",
       "140463     A                  Ptz1        missraten   0.579592  \n",
       "140820     A          Ptz2 manuell        missraten   0.500000  "
      ]
     },
     "execution_count": 32,
     "metadata": {},
     "output_type": "execute_result"
    },
    {
     "name": "stdout",
     "output_type": "stream",
     "text": [
      "time: 300 ms\n"
     ]
    }
   ],
   "source": [
    "# suche_debug wiktionary_lemma\n",
    "search_str(wiktionary_lemma, suche_debug)"
   ]
  },
  {
   "cell_type": "markdown",
   "id": "d29853c3-5eab-47aa-9689-4dd540f7e7de",
   "metadata": {},
   "source": [
    "### wiktionary_nolemma\n",
    "* in wiktionary_nolemma sind keine Lemmas, sondern irgendwelche Lexeme, die aber einen eigene section auf der Wiktionary-Seite hatten\n",
    "* nolemma_id ist der Schlüssel zu weiteren Merkmalen dieser Lexeme (siehe wiktionary_nomerkmal)\n",
    "* lemma_id ist der Schlüssel zum Lemma (siehe wiktionary_lemma)"
   ]
  },
  {
   "cell_type": "markdown",
   "id": "211de9fa-35a7-4df0-8090-27b825819215",
   "metadata": {},
   "source": [
    "* Es wird versucht, jedes lemma in wiktionary_lemma zu finden und eine lemma_id zuzuweisen.\n",
    "* Dazu wird zuallererst `lemma_tagZZ` geschrieben, also eine Grobklassifizierung des lemmas."
   ]
  },
  {
   "cell_type": "code",
   "execution_count": 33,
   "id": "df1abb6f-6d23-43c5-a99e-dacbe3ed6b6f",
   "metadata": {},
   "outputs": [
    {
     "data": {
      "text/html": [
       "<div>\n",
       "<style scoped>\n",
       "    .dataframe tbody tr th:only-of-type {\n",
       "        vertical-align: middle;\n",
       "    }\n",
       "\n",
       "    .dataframe tbody tr th {\n",
       "        vertical-align: top;\n",
       "    }\n",
       "\n",
       "    .dataframe thead th {\n",
       "        text-align: right;\n",
       "    }\n",
       "</style>\n",
       "<table border=\"1\" class=\"dataframe\">\n",
       "  <thead>\n",
       "    <tr style=\"text-align: right;\">\n",
       "      <th></th>\n",
       "      <th>nolemma_id</th>\n",
       "      <th>lex</th>\n",
       "      <th>lemma</th>\n",
       "      <th>lemma_lower</th>\n",
       "      <th>tag</th>\n",
       "      <th>tag_0</th>\n",
       "      <th>tag_1</th>\n",
       "      <th>tagZ</th>\n",
       "      <th>tagZZ</th>\n",
       "      <th>member</th>\n",
       "      <th>score</th>\n",
       "    </tr>\n",
       "  </thead>\n",
       "  <tbody>\n",
       "    <tr>\n",
       "      <th>63720</th>\n",
       "      <td>gefriergetrocknetem</td>\n",
       "      <td>gefriergetrocknetem</td>\n",
       "      <td>gefriergetrocknet</td>\n",
       "      <td>gefriergetrocknet</td>\n",
       "      <td>LEX_A</td>\n",
       "      <td>LEX_A</td>\n",
       "      <td>qfxGEFcaEM</td>\n",
       "      <td>&lt;NA&gt;</td>\n",
       "      <td></td>\n",
       "      <td>Deklinierte_Form</td>\n",
       "      <td>0.822449</td>\n",
       "    </tr>\n",
       "    <tr>\n",
       "      <th>63721</th>\n",
       "      <td>gefriergetrockneten</td>\n",
       "      <td>gefriergetrockneten</td>\n",
       "      <td>gefriergetrocknet</td>\n",
       "      <td>gefriergetrocknet</td>\n",
       "      <td>LEX_A</td>\n",
       "      <td>LEX_A</td>\n",
       "      <td>cSrtFUpYCE</td>\n",
       "      <td>&lt;NA&gt;</td>\n",
       "      <td></td>\n",
       "      <td>Deklinierte_Form</td>\n",
       "      <td>2.253350</td>\n",
       "    </tr>\n",
       "    <tr>\n",
       "      <th>63722</th>\n",
       "      <td>gefriergetrockneter</td>\n",
       "      <td>gefriergetrockneter</td>\n",
       "      <td>gefriergetrocknet</td>\n",
       "      <td>gefriergetrocknet</td>\n",
       "      <td>LEX_A</td>\n",
       "      <td>LEX_A</td>\n",
       "      <td>cJeBRmnkEZ</td>\n",
       "      <td>&lt;NA&gt;</td>\n",
       "      <td></td>\n",
       "      <td>Deklinierte_Form</td>\n",
       "      <td>1.298417</td>\n",
       "    </tr>\n",
       "    <tr>\n",
       "      <th>63723</th>\n",
       "      <td>gefriergetrocknetes</td>\n",
       "      <td>gefriergetrocknetes</td>\n",
       "      <td>gefriergetrocknet</td>\n",
       "      <td>gefriergetrocknet</td>\n",
       "      <td>LEX_A</td>\n",
       "      <td>LEX_A</td>\n",
       "      <td>ztSD6oEkot</td>\n",
       "      <td>&lt;NA&gt;</td>\n",
       "      <td></td>\n",
       "      <td>Deklinierte_Form</td>\n",
       "      <td>1.166870</td>\n",
       "    </tr>\n",
       "    <tr>\n",
       "      <th>63724</th>\n",
       "      <td>gefriergetrocknete</td>\n",
       "      <td>gefriergetrocknete</td>\n",
       "      <td>gefriergetrocknet</td>\n",
       "      <td>gefriergetrocknet</td>\n",
       "      <td>LEX_A</td>\n",
       "      <td>LEX_A</td>\n",
       "      <td>UYh5zwEhfx</td>\n",
       "      <td>&lt;NA&gt;</td>\n",
       "      <td></td>\n",
       "      <td>Deklinierte_Form</td>\n",
       "      <td>1.848965</td>\n",
       "    </tr>\n",
       "    <tr>\n",
       "      <th>178159</th>\n",
       "      <td>missrietet</td>\n",
       "      <td>missrietet</td>\n",
       "      <td>missraten</td>\n",
       "      <td>missraten</td>\n",
       "      <td>LEX_V</td>\n",
       "      <td>LEX_V</td>\n",
       "      <td>y9ZTeYS8SU</td>\n",
       "      <td>&lt;NA&gt;</td>\n",
       "      <td></td>\n",
       "      <td>Konjugierte_Form Verb</td>\n",
       "      <td>0.963265</td>\n",
       "    </tr>\n",
       "    <tr>\n",
       "      <th>178160</th>\n",
       "      <td>missrieten</td>\n",
       "      <td>missrieten</td>\n",
       "      <td>missraten</td>\n",
       "      <td>missraten</td>\n",
       "      <td>LEX_V</td>\n",
       "      <td>LEX_V</td>\n",
       "      <td>VhpO1YDYiF</td>\n",
       "      <td>&lt;NA&gt;</td>\n",
       "      <td></td>\n",
       "      <td>Konjugierte_Form Verb</td>\n",
       "      <td>1.144945</td>\n",
       "    </tr>\n",
       "    <tr>\n",
       "      <th>178161</th>\n",
       "      <td>missrietst</td>\n",
       "      <td>missrietst</td>\n",
       "      <td>missraten</td>\n",
       "      <td>missraten</td>\n",
       "      <td>LEX_V</td>\n",
       "      <td>LEX_V</td>\n",
       "      <td>5Jms1aP5H9</td>\n",
       "      <td>&lt;NA&gt;</td>\n",
       "      <td></td>\n",
       "      <td>Konjugierte_Form Verb</td>\n",
       "      <td>0.812245</td>\n",
       "    </tr>\n",
       "    <tr>\n",
       "      <th>178162</th>\n",
       "      <td>missrietest</td>\n",
       "      <td>missrietest</td>\n",
       "      <td>missraten</td>\n",
       "      <td>missraten</td>\n",
       "      <td>LEX_V</td>\n",
       "      <td>LEX_V</td>\n",
       "      <td>N0lyUCwTOa</td>\n",
       "      <td>&lt;NA&gt;</td>\n",
       "      <td></td>\n",
       "      <td>Konjugierte_Form Verb</td>\n",
       "      <td>0.993878</td>\n",
       "    </tr>\n",
       "    <tr>\n",
       "      <th>178163</th>\n",
       "      <td>missriete</td>\n",
       "      <td>missriete</td>\n",
       "      <td>missraten</td>\n",
       "      <td>missraten</td>\n",
       "      <td>LEX_V</td>\n",
       "      <td>LEX_V</td>\n",
       "      <td>p6ksoWbv4K</td>\n",
       "      <td>&lt;NA&gt;</td>\n",
       "      <td></td>\n",
       "      <td>Konjugierte_Form Verb</td>\n",
       "      <td>0.810204</td>\n",
       "    </tr>\n",
       "    <tr>\n",
       "      <th>178164</th>\n",
       "      <td>missriet</td>\n",
       "      <td>missriet</td>\n",
       "      <td>missraten</td>\n",
       "      <td>missraten</td>\n",
       "      <td>LEX_V</td>\n",
       "      <td>LEX_V</td>\n",
       "      <td>ABDkLdtzEs</td>\n",
       "      <td>&lt;NA&gt;</td>\n",
       "      <td></td>\n",
       "      <td>Konjugierte_Form Verb</td>\n",
       "      <td>0.871429</td>\n",
       "    </tr>\n",
       "    <tr>\n",
       "      <th>178165</th>\n",
       "      <td>missrät</td>\n",
       "      <td>missrät</td>\n",
       "      <td>missraten</td>\n",
       "      <td>missraten</td>\n",
       "      <td>LEX_V</td>\n",
       "      <td>LEX_V</td>\n",
       "      <td>qAbhpS76tt</td>\n",
       "      <td>&lt;NA&gt;</td>\n",
       "      <td></td>\n",
       "      <td>Konjugierte_Form Verb</td>\n",
       "      <td>0.612245</td>\n",
       "    </tr>\n",
       "    <tr>\n",
       "      <th>178166</th>\n",
       "      <td>missratest</td>\n",
       "      <td>missratest</td>\n",
       "      <td>missraten</td>\n",
       "      <td>missraten</td>\n",
       "      <td>LEX_V</td>\n",
       "      <td>LEX_V</td>\n",
       "      <td>BOBxYuoohY</td>\n",
       "      <td>&lt;NA&gt;</td>\n",
       "      <td></td>\n",
       "      <td>Konjugierte_Form Verb</td>\n",
       "      <td>0.651020</td>\n",
       "    </tr>\n",
       "    <tr>\n",
       "      <th>178167</th>\n",
       "      <td>missrätst</td>\n",
       "      <td>missrätst</td>\n",
       "      <td>missraten</td>\n",
       "      <td>missraten</td>\n",
       "      <td>LEX_V</td>\n",
       "      <td>LEX_V</td>\n",
       "      <td>v1mBxMLjcB</td>\n",
       "      <td>&lt;NA&gt;</td>\n",
       "      <td></td>\n",
       "      <td>Konjugierte_Form Verb</td>\n",
       "      <td>0.636735</td>\n",
       "    </tr>\n",
       "    <tr>\n",
       "      <th>178168</th>\n",
       "      <td>missratet</td>\n",
       "      <td>missratet</td>\n",
       "      <td>missraten</td>\n",
       "      <td>missraten</td>\n",
       "      <td>LEX_V</td>\n",
       "      <td>LEX_V</td>\n",
       "      <td>x4gwnCOvaT</td>\n",
       "      <td>&lt;NA&gt;</td>\n",
       "      <td></td>\n",
       "      <td>Konjugierte_Form Verb</td>\n",
       "      <td>1.030451</td>\n",
       "    </tr>\n",
       "    <tr>\n",
       "      <th>178169</th>\n",
       "      <td>missrate</td>\n",
       "      <td>missrate</td>\n",
       "      <td>missraten</td>\n",
       "      <td>missraten</td>\n",
       "      <td>LEX_V</td>\n",
       "      <td>LEX_V</td>\n",
       "      <td>jsNDCQhyPM</td>\n",
       "      <td>&lt;NA&gt;</td>\n",
       "      <td></td>\n",
       "      <td>Konjugierte_Form Verb</td>\n",
       "      <td>1.200974</td>\n",
       "    </tr>\n",
       "    <tr>\n",
       "      <th>178170</th>\n",
       "      <td>missrat</td>\n",
       "      <td>missrat</td>\n",
       "      <td>missraten</td>\n",
       "      <td>missraten</td>\n",
       "      <td>LEX_V</td>\n",
       "      <td>LEX_V</td>\n",
       "      <td>CTNtsfhX4D</td>\n",
       "      <td>&lt;NA&gt;</td>\n",
       "      <td></td>\n",
       "      <td>Konjugierte_Form Verb</td>\n",
       "      <td>0.675510</td>\n",
       "    </tr>\n",
       "    <tr>\n",
       "      <th>497386</th>\n",
       "      <td>missratene</td>\n",
       "      <td>missratene</td>\n",
       "      <td>missraten</td>\n",
       "      <td>missraten</td>\n",
       "      <td>LEX_A</td>\n",
       "      <td>LEX_A</td>\n",
       "      <td>3P2rsBDB3U</td>\n",
       "      <td>&lt;NA&gt;</td>\n",
       "      <td></td>\n",
       "      <td>Deklinierte_Form</td>\n",
       "      <td>1.940317</td>\n",
       "    </tr>\n",
       "    <tr>\n",
       "      <th>497387</th>\n",
       "      <td>missratenes</td>\n",
       "      <td>missratenes</td>\n",
       "      <td>missraten</td>\n",
       "      <td>missraten</td>\n",
       "      <td>LEX_A</td>\n",
       "      <td>LEX_A</td>\n",
       "      <td>br6vYqpXFY</td>\n",
       "      <td>&lt;NA&gt;</td>\n",
       "      <td></td>\n",
       "      <td>Deklinierte_Form</td>\n",
       "      <td>1.194884</td>\n",
       "    </tr>\n",
       "    <tr>\n",
       "      <th>497388</th>\n",
       "      <td>missratener</td>\n",
       "      <td>missratener</td>\n",
       "      <td>missraten</td>\n",
       "      <td>missraten</td>\n",
       "      <td>LEX_A</td>\n",
       "      <td>LEX_A</td>\n",
       "      <td>DzOVma9k4l</td>\n",
       "      <td>&lt;NA&gt;</td>\n",
       "      <td></td>\n",
       "      <td>Deklinierte_Form</td>\n",
       "      <td>1.315469</td>\n",
       "    </tr>\n",
       "    <tr>\n",
       "      <th>497389</th>\n",
       "      <td>missratenen</td>\n",
       "      <td>missratenen</td>\n",
       "      <td>missraten</td>\n",
       "      <td>missraten</td>\n",
       "      <td>LEX_A</td>\n",
       "      <td>LEX_A</td>\n",
       "      <td>VZ3MYcMPnP</td>\n",
       "      <td>&lt;NA&gt;</td>\n",
       "      <td></td>\n",
       "      <td>Deklinierte_Form</td>\n",
       "      <td>2.260658</td>\n",
       "    </tr>\n",
       "    <tr>\n",
       "      <th>497390</th>\n",
       "      <td>missratenem</td>\n",
       "      <td>missratenem</td>\n",
       "      <td>missraten</td>\n",
       "      <td>missraten</td>\n",
       "      <td>LEX_A</td>\n",
       "      <td>LEX_A</td>\n",
       "      <td>lsCNroyOi6</td>\n",
       "      <td>&lt;NA&gt;</td>\n",
       "      <td></td>\n",
       "      <td>Deklinierte_Form</td>\n",
       "      <td>0.902041</td>\n",
       "    </tr>\n",
       "    <tr>\n",
       "      <th>625636</th>\n",
       "      <td>gefrierzutrocknen</td>\n",
       "      <td>gefrierzutrocknen</td>\n",
       "      <td>gefriertrocknen</td>\n",
       "      <td>gefriertrocknen</td>\n",
       "      <td>LEX_V</td>\n",
       "      <td>LEX_V</td>\n",
       "      <td>3DLDV6uP1M</td>\n",
       "      <td>&lt;NA&gt;</td>\n",
       "      <td></td>\n",
       "      <td>Erweiterter_Infinitiv Verb</td>\n",
       "      <td>0.524490</td>\n",
       "    </tr>\n",
       "    <tr>\n",
       "      <th>625637</th>\n",
       "      <td>gefriertrockne</td>\n",
       "      <td>gefriertrockne</td>\n",
       "      <td>gefriertrocknen</td>\n",
       "      <td>gefriertrocknen</td>\n",
       "      <td>LEX_V</td>\n",
       "      <td>LEX_V</td>\n",
       "      <td>BaSRlEoxK0</td>\n",
       "      <td>&lt;NA&gt;</td>\n",
       "      <td></td>\n",
       "      <td>Konjugierte_Form Verb</td>\n",
       "      <td>1.012180</td>\n",
       "    </tr>\n",
       "    <tr>\n",
       "      <th>625638</th>\n",
       "      <td>gefriertrocknet</td>\n",
       "      <td>gefriertrocknet</td>\n",
       "      <td>gefriertrocknen</td>\n",
       "      <td>gefriertrocknen</td>\n",
       "      <td>LEX_V</td>\n",
       "      <td>LEX_V</td>\n",
       "      <td>hqLOq1VMi5</td>\n",
       "      <td>&lt;NA&gt;</td>\n",
       "      <td></td>\n",
       "      <td>Konjugierte_Form Verb</td>\n",
       "      <td>1.004872</td>\n",
       "    </tr>\n",
       "    <tr>\n",
       "      <th>625639</th>\n",
       "      <td>gefriertrocknest</td>\n",
       "      <td>gefriertrocknest</td>\n",
       "      <td>gefriertrocknen</td>\n",
       "      <td>gefriertrocknen</td>\n",
       "      <td>LEX_V</td>\n",
       "      <td>LEX_V</td>\n",
       "      <td>OSmrUBU98Z</td>\n",
       "      <td>&lt;NA&gt;</td>\n",
       "      <td></td>\n",
       "      <td>Konjugierte_Form Verb</td>\n",
       "      <td>0.702041</td>\n",
       "    </tr>\n",
       "    <tr>\n",
       "      <th>625640</th>\n",
       "      <td>gefriertrocknete</td>\n",
       "      <td>gefriertrocknete</td>\n",
       "      <td>gefriertrocknen</td>\n",
       "      <td>gefriertrocknen</td>\n",
       "      <td>LEX_V</td>\n",
       "      <td>LEX_V</td>\n",
       "      <td>ss6UGaJGSt</td>\n",
       "      <td>&lt;NA&gt;</td>\n",
       "      <td></td>\n",
       "      <td>Konjugierte_Form Verb</td>\n",
       "      <td>1.037759</td>\n",
       "    </tr>\n",
       "    <tr>\n",
       "      <th>625641</th>\n",
       "      <td>gefriertrocknetest</td>\n",
       "      <td>gefriertrocknetest</td>\n",
       "      <td>gefriertrocknen</td>\n",
       "      <td>gefriertrocknen</td>\n",
       "      <td>LEX_V</td>\n",
       "      <td>LEX_V</td>\n",
       "      <td>yje5CSqhZZ</td>\n",
       "      <td>&lt;NA&gt;</td>\n",
       "      <td></td>\n",
       "      <td>Konjugierte_Form Verb</td>\n",
       "      <td>0.730612</td>\n",
       "    </tr>\n",
       "    <tr>\n",
       "      <th>625642</th>\n",
       "      <td>gefriertrockneten</td>\n",
       "      <td>gefriertrockneten</td>\n",
       "      <td>gefriertrocknen</td>\n",
       "      <td>gefriertrocknen</td>\n",
       "      <td>LEX_V</td>\n",
       "      <td>LEX_V</td>\n",
       "      <td>jaCgxfnTqk</td>\n",
       "      <td>&lt;NA&gt;</td>\n",
       "      <td></td>\n",
       "      <td>Konjugierte_Form Verb</td>\n",
       "      <td>1.031669</td>\n",
       "    </tr>\n",
       "    <tr>\n",
       "      <th>625643</th>\n",
       "      <td>gefriertrocknetet</td>\n",
       "      <td>gefriertrocknetet</td>\n",
       "      <td>gefriertrocknen</td>\n",
       "      <td>gefriertrocknen</td>\n",
       "      <td>LEX_V</td>\n",
       "      <td>LEX_V</td>\n",
       "      <td>g2NzkBPzpw</td>\n",
       "      <td>&lt;NA&gt;</td>\n",
       "      <td></td>\n",
       "      <td>Konjugierte_Form Verb</td>\n",
       "      <td>0.716327</td>\n",
       "    </tr>\n",
       "    <tr>\n",
       "      <th>625649</th>\n",
       "      <td>gefrierzutrocknende</td>\n",
       "      <td>gefrierzutrocknende</td>\n",
       "      <td>gefriertrocknen</td>\n",
       "      <td>gefriertrocknen</td>\n",
       "      <td>LEX_A</td>\n",
       "      <td>LEX_A</td>\n",
       "      <td>i4f5iRCOFa</td>\n",
       "      <td>&lt;NA&gt;</td>\n",
       "      <td></td>\n",
       "      <td>Dekliniertes_Gerundivum Adjektiv</td>\n",
       "      <td>1.834348</td>\n",
       "    </tr>\n",
       "    <tr>\n",
       "      <th>625650</th>\n",
       "      <td>gefrierzutrocknendem</td>\n",
       "      <td>gefrierzutrocknendem</td>\n",
       "      <td>gefriertrocknen</td>\n",
       "      <td>gefriertrocknen</td>\n",
       "      <td>LEX_A</td>\n",
       "      <td>LEX_A</td>\n",
       "      <td>zf1ff572bZ</td>\n",
       "      <td>&lt;NA&gt;</td>\n",
       "      <td></td>\n",
       "      <td>Dekliniertes_Gerundivum Adjektiv</td>\n",
       "      <td>0.897959</td>\n",
       "    </tr>\n",
       "    <tr>\n",
       "      <th>625651</th>\n",
       "      <td>gefrierzutrocknenden</td>\n",
       "      <td>gefrierzutrocknenden</td>\n",
       "      <td>gefriertrocknen</td>\n",
       "      <td>gefriertrocknen</td>\n",
       "      <td>LEX_A</td>\n",
       "      <td>LEX_A</td>\n",
       "      <td>DxzOPFVgE0</td>\n",
       "      <td>&lt;NA&gt;</td>\n",
       "      <td></td>\n",
       "      <td>Dekliniertes_Gerundivum Adjektiv</td>\n",
       "      <td>2.213155</td>\n",
       "    </tr>\n",
       "    <tr>\n",
       "      <th>625652</th>\n",
       "      <td>gefrierzutrocknender</td>\n",
       "      <td>gefrierzutrocknender</td>\n",
       "      <td>gefriertrocknen</td>\n",
       "      <td>gefriertrocknen</td>\n",
       "      <td>LEX_A</td>\n",
       "      <td>LEX_A</td>\n",
       "      <td>Y0KIDQDTwI</td>\n",
       "      <td>&lt;NA&gt;</td>\n",
       "      <td></td>\n",
       "      <td>Dekliniertes_Gerundivum Adjektiv</td>\n",
       "      <td>1.317905</td>\n",
       "    </tr>\n",
       "    <tr>\n",
       "      <th>625653</th>\n",
       "      <td>gefrierzutrocknendes</td>\n",
       "      <td>gefrierzutrocknendes</td>\n",
       "      <td>gefriertrocknen</td>\n",
       "      <td>gefriertrocknen</td>\n",
       "      <td>LEX_A</td>\n",
       "      <td>LEX_A</td>\n",
       "      <td>B6xnJefbok</td>\n",
       "      <td>&lt;NA&gt;</td>\n",
       "      <td></td>\n",
       "      <td>Dekliniertes_Gerundivum Adjektiv</td>\n",
       "      <td>1.194884</td>\n",
       "    </tr>\n",
       "  </tbody>\n",
       "</table>\n",
       "</div>"
      ],
      "text/plain": [
       "                  nolemma_id                   lex              lemma  \\\n",
       "63720    gefriergetrocknetem   gefriergetrocknetem  gefriergetrocknet   \n",
       "63721    gefriergetrockneten   gefriergetrockneten  gefriergetrocknet   \n",
       "63722    gefriergetrockneter   gefriergetrockneter  gefriergetrocknet   \n",
       "63723    gefriergetrocknetes   gefriergetrocknetes  gefriergetrocknet   \n",
       "63724     gefriergetrocknete    gefriergetrocknete  gefriergetrocknet   \n",
       "178159            missrietet            missrietet          missraten   \n",
       "178160            missrieten            missrieten          missraten   \n",
       "178161            missrietst            missrietst          missraten   \n",
       "178162           missrietest           missrietest          missraten   \n",
       "178163             missriete             missriete          missraten   \n",
       "178164              missriet              missriet          missraten   \n",
       "178165               missrät               missrät          missraten   \n",
       "178166            missratest            missratest          missraten   \n",
       "178167             missrätst             missrätst          missraten   \n",
       "178168             missratet             missratet          missraten   \n",
       "178169              missrate              missrate          missraten   \n",
       "178170               missrat               missrat          missraten   \n",
       "497386            missratene            missratene          missraten   \n",
       "497387           missratenes           missratenes          missraten   \n",
       "497388           missratener           missratener          missraten   \n",
       "497389           missratenen           missratenen          missraten   \n",
       "497390           missratenem           missratenem          missraten   \n",
       "625636     gefrierzutrocknen     gefrierzutrocknen    gefriertrocknen   \n",
       "625637        gefriertrockne        gefriertrockne    gefriertrocknen   \n",
       "625638       gefriertrocknet       gefriertrocknet    gefriertrocknen   \n",
       "625639      gefriertrocknest      gefriertrocknest    gefriertrocknen   \n",
       "625640      gefriertrocknete      gefriertrocknete    gefriertrocknen   \n",
       "625641    gefriertrocknetest    gefriertrocknetest    gefriertrocknen   \n",
       "625642     gefriertrockneten     gefriertrockneten    gefriertrocknen   \n",
       "625643     gefriertrocknetet     gefriertrocknetet    gefriertrocknen   \n",
       "625649   gefrierzutrocknende   gefrierzutrocknende    gefriertrocknen   \n",
       "625650  gefrierzutrocknendem  gefrierzutrocknendem    gefriertrocknen   \n",
       "625651  gefrierzutrocknenden  gefrierzutrocknenden    gefriertrocknen   \n",
       "625652  gefrierzutrocknender  gefrierzutrocknender    gefriertrocknen   \n",
       "625653  gefrierzutrocknendes  gefrierzutrocknendes    gefriertrocknen   \n",
       "\n",
       "              lemma_lower    tag  tag_0       tag_1  tagZ tagZZ  \\\n",
       "63720   gefriergetrocknet  LEX_A  LEX_A  qfxGEFcaEM  <NA>         \n",
       "63721   gefriergetrocknet  LEX_A  LEX_A  cSrtFUpYCE  <NA>         \n",
       "63722   gefriergetrocknet  LEX_A  LEX_A  cJeBRmnkEZ  <NA>         \n",
       "63723   gefriergetrocknet  LEX_A  LEX_A  ztSD6oEkot  <NA>         \n",
       "63724   gefriergetrocknet  LEX_A  LEX_A  UYh5zwEhfx  <NA>         \n",
       "178159          missraten  LEX_V  LEX_V  y9ZTeYS8SU  <NA>         \n",
       "178160          missraten  LEX_V  LEX_V  VhpO1YDYiF  <NA>         \n",
       "178161          missraten  LEX_V  LEX_V  5Jms1aP5H9  <NA>         \n",
       "178162          missraten  LEX_V  LEX_V  N0lyUCwTOa  <NA>         \n",
       "178163          missraten  LEX_V  LEX_V  p6ksoWbv4K  <NA>         \n",
       "178164          missraten  LEX_V  LEX_V  ABDkLdtzEs  <NA>         \n",
       "178165          missraten  LEX_V  LEX_V  qAbhpS76tt  <NA>         \n",
       "178166          missraten  LEX_V  LEX_V  BOBxYuoohY  <NA>         \n",
       "178167          missraten  LEX_V  LEX_V  v1mBxMLjcB  <NA>         \n",
       "178168          missraten  LEX_V  LEX_V  x4gwnCOvaT  <NA>         \n",
       "178169          missraten  LEX_V  LEX_V  jsNDCQhyPM  <NA>         \n",
       "178170          missraten  LEX_V  LEX_V  CTNtsfhX4D  <NA>         \n",
       "497386          missraten  LEX_A  LEX_A  3P2rsBDB3U  <NA>         \n",
       "497387          missraten  LEX_A  LEX_A  br6vYqpXFY  <NA>         \n",
       "497388          missraten  LEX_A  LEX_A  DzOVma9k4l  <NA>         \n",
       "497389          missraten  LEX_A  LEX_A  VZ3MYcMPnP  <NA>         \n",
       "497390          missraten  LEX_A  LEX_A  lsCNroyOi6  <NA>         \n",
       "625636    gefriertrocknen  LEX_V  LEX_V  3DLDV6uP1M  <NA>         \n",
       "625637    gefriertrocknen  LEX_V  LEX_V  BaSRlEoxK0  <NA>         \n",
       "625638    gefriertrocknen  LEX_V  LEX_V  hqLOq1VMi5  <NA>         \n",
       "625639    gefriertrocknen  LEX_V  LEX_V  OSmrUBU98Z  <NA>         \n",
       "625640    gefriertrocknen  LEX_V  LEX_V  ss6UGaJGSt  <NA>         \n",
       "625641    gefriertrocknen  LEX_V  LEX_V  yje5CSqhZZ  <NA>         \n",
       "625642    gefriertrocknen  LEX_V  LEX_V  jaCgxfnTqk  <NA>         \n",
       "625643    gefriertrocknen  LEX_V  LEX_V  g2NzkBPzpw  <NA>         \n",
       "625649    gefriertrocknen  LEX_A  LEX_A  i4f5iRCOFa  <NA>         \n",
       "625650    gefriertrocknen  LEX_A  LEX_A  zf1ff572bZ  <NA>         \n",
       "625651    gefriertrocknen  LEX_A  LEX_A  DxzOPFVgE0  <NA>         \n",
       "625652    gefriertrocknen  LEX_A  LEX_A  Y0KIDQDTwI  <NA>         \n",
       "625653    gefriertrocknen  LEX_A  LEX_A  B6xnJefbok  <NA>         \n",
       "\n",
       "                                  member     score  \n",
       "63720                   Deklinierte_Form  0.822449  \n",
       "63721                   Deklinierte_Form  2.253350  \n",
       "63722                   Deklinierte_Form  1.298417  \n",
       "63723                   Deklinierte_Form  1.166870  \n",
       "63724                   Deklinierte_Form  1.848965  \n",
       "178159             Konjugierte_Form Verb  0.963265  \n",
       "178160             Konjugierte_Form Verb  1.144945  \n",
       "178161             Konjugierte_Form Verb  0.812245  \n",
       "178162             Konjugierte_Form Verb  0.993878  \n",
       "178163             Konjugierte_Form Verb  0.810204  \n",
       "178164             Konjugierte_Form Verb  0.871429  \n",
       "178165             Konjugierte_Form Verb  0.612245  \n",
       "178166             Konjugierte_Form Verb  0.651020  \n",
       "178167             Konjugierte_Form Verb  0.636735  \n",
       "178168             Konjugierte_Form Verb  1.030451  \n",
       "178169             Konjugierte_Form Verb  1.200974  \n",
       "178170             Konjugierte_Form Verb  0.675510  \n",
       "497386                  Deklinierte_Form  1.940317  \n",
       "497387                  Deklinierte_Form  1.194884  \n",
       "497388                  Deklinierte_Form  1.315469  \n",
       "497389                  Deklinierte_Form  2.260658  \n",
       "497390                  Deklinierte_Form  0.902041  \n",
       "625636        Erweiterter_Infinitiv Verb  0.524490  \n",
       "625637             Konjugierte_Form Verb  1.012180  \n",
       "625638             Konjugierte_Form Verb  1.004872  \n",
       "625639             Konjugierte_Form Verb  0.702041  \n",
       "625640             Konjugierte_Form Verb  1.037759  \n",
       "625641             Konjugierte_Form Verb  0.730612  \n",
       "625642             Konjugierte_Form Verb  1.031669  \n",
       "625643             Konjugierte_Form Verb  0.716327  \n",
       "625649  Dekliniertes_Gerundivum Adjektiv  1.834348  \n",
       "625650  Dekliniertes_Gerundivum Adjektiv  0.897959  \n",
       "625651  Dekliniertes_Gerundivum Adjektiv  2.213155  \n",
       "625652  Dekliniertes_Gerundivum Adjektiv  1.317905  \n",
       "625653  Dekliniertes_Gerundivum Adjektiv  1.194884  "
      ]
     },
     "execution_count": 33,
     "metadata": {},
     "output_type": "execute_result"
    },
    {
     "name": "stdout",
     "output_type": "stream",
     "text": [
      "time: 688 ms\n"
     ]
    }
   ],
   "source": [
    "# suche_debug wiktionary_lemma\n",
    "search_str(wiktionary_nolemma, suche_debug)"
   ]
  },
  {
   "cell_type": "code",
   "execution_count": 34,
   "id": "2b74ffc9-7ea0-4c54-b280-29861dd55838",
   "metadata": {},
   "outputs": [
    {
     "name": "stdout",
     "output_type": "stream",
     "text": [
      "Move 54 rows from 644849\n",
      "time: 879 ms\n"
     ]
    }
   ],
   "source": [
    "# lex == lemma abtrennen\n",
    "mask = wiktionary_nolemma.lex == wiktionary_nolemma.lemma\n",
    "wiktionary_nolemma, df = pak.move_rows(wiktionary_nolemma,mask,msg=None)\n",
    "#wiktionary_nolemma.loc[mask,'lemma'] = '' # TODO\n",
    "df['lemma'] = ''"
   ]
  },
  {
   "cell_type": "code",
   "execution_count": 35,
   "id": "b55742c8-ea4c-4d67-8eaa-262d455becfd",
   "metadata": {},
   "outputs": [
    {
     "data": {
      "text/html": [
       "<div>\n",
       "<style scoped>\n",
       "    .dataframe tbody tr th:only-of-type {\n",
       "        vertical-align: middle;\n",
       "    }\n",
       "\n",
       "    .dataframe tbody tr th {\n",
       "        vertical-align: top;\n",
       "    }\n",
       "\n",
       "    .dataframe thead th {\n",
       "        text-align: right;\n",
       "    }\n",
       "</style>\n",
       "<table border=\"1\" class=\"dataframe\">\n",
       "  <thead>\n",
       "    <tr style=\"text-align: right;\">\n",
       "      <th></th>\n",
       "      <th>nolemma_id</th>\n",
       "      <th>lex</th>\n",
       "      <th>lemma</th>\n",
       "      <th>lemma_lower</th>\n",
       "      <th>tag</th>\n",
       "      <th>tag_0</th>\n",
       "      <th>tag_1</th>\n",
       "      <th>tagZ</th>\n",
       "      <th>tagZZ</th>\n",
       "      <th>member</th>\n",
       "      <th>score</th>\n",
       "    </tr>\n",
       "  </thead>\n",
       "  <tbody>\n",
       "    <tr>\n",
       "      <th>120</th>\n",
       "      <td>des</td>\n",
       "      <td>des</td>\n",
       "      <td></td>\n",
       "      <td>des</td>\n",
       "      <td>LEX_A</td>\n",
       "      <td>LEX_A</td>\n",
       "      <td>VcEqMU7kd0</td>\n",
       "      <td>&lt;NA&gt;</td>\n",
       "      <td></td>\n",
       "      <td>Deklinierte_Form Artikel</td>\n",
       "      <td>4.706456</td>\n",
       "    </tr>\n",
       "    <tr>\n",
       "      <th>2415</th>\n",
       "      <td>Wecken_2</td>\n",
       "      <td>Wecken</td>\n",
       "      <td></td>\n",
       "      <td>wecken</td>\n",
       "      <td>LEX_A</td>\n",
       "      <td>LEX_A</td>\n",
       "      <td>4fN72Kodlj</td>\n",
       "      <td>&lt;NA&gt;</td>\n",
       "      <td></td>\n",
       "      <td>Deklinierte_Form</td>\n",
       "      <td>0.895918</td>\n",
       "    </tr>\n",
       "    <tr>\n",
       "      <th>37296</th>\n",
       "      <td>zugrunde_liegen_1</td>\n",
       "      <td>zugrunde liegen</td>\n",
       "      <td></td>\n",
       "      <td>zugrunde liegen</td>\n",
       "      <td>LEX_V</td>\n",
       "      <td>LEX_V</td>\n",
       "      <td>BDK74c4iDg</td>\n",
       "      <td>&lt;NA&gt;</td>\n",
       "      <td></td>\n",
       "      <td>Konjugierte_Form Verb Wortverbindung</td>\n",
       "      <td>1.344702</td>\n",
       "    </tr>\n",
       "    <tr>\n",
       "      <th>131013</th>\n",
       "      <td>Thors_1</td>\n",
       "      <td>Thors</td>\n",
       "      <td></td>\n",
       "      <td>thors</td>\n",
       "      <td>LEX_A</td>\n",
       "      <td>LEX_A</td>\n",
       "      <td>ebkM4tNjw0</td>\n",
       "      <td>&lt;NA&gt;</td>\n",
       "      <td></td>\n",
       "      <td>Deklinierte_Form</td>\n",
       "      <td>0.055102</td>\n",
       "    </tr>\n",
       "    <tr>\n",
       "      <th>151298</th>\n",
       "      <td>übergösse_1</td>\n",
       "      <td>übergösse</td>\n",
       "      <td></td>\n",
       "      <td>übergösse</td>\n",
       "      <td>LEX_V</td>\n",
       "      <td>LEX_V</td>\n",
       "      <td>x2Uj0lvBjq</td>\n",
       "      <td>&lt;NA&gt;</td>\n",
       "      <td></td>\n",
       "      <td>Konjugierte_Form Verb</td>\n",
       "      <td>0.687755</td>\n",
       "    </tr>\n",
       "    <tr>\n",
       "      <th>249026</th>\n",
       "      <td>Brünste</td>\n",
       "      <td>Brünste</td>\n",
       "      <td></td>\n",
       "      <td>brünste</td>\n",
       "      <td>LEX_A</td>\n",
       "      <td>LEX_A</td>\n",
       "      <td>k9EqmmVUaG</td>\n",
       "      <td>&lt;NA&gt;</td>\n",
       "      <td></td>\n",
       "      <td>Deklinierte_Form</td>\n",
       "      <td>1.677223</td>\n",
       "    </tr>\n",
       "    <tr>\n",
       "      <th>306877</th>\n",
       "      <td>Körpermasse_1</td>\n",
       "      <td>Körpermasse</td>\n",
       "      <td></td>\n",
       "      <td>körpermasse</td>\n",
       "      <td>LEX_A</td>\n",
       "      <td>LEX_A</td>\n",
       "      <td>bIf1qblVpr</td>\n",
       "      <td>&lt;NA&gt;</td>\n",
       "      <td></td>\n",
       "      <td>Deklinierte_Form</td>\n",
       "      <td>0.038776</td>\n",
       "    </tr>\n",
       "    <tr>\n",
       "      <th>311771</th>\n",
       "      <td>angesprochenen</td>\n",
       "      <td>angesprochenen</td>\n",
       "      <td></td>\n",
       "      <td>angesprochenen</td>\n",
       "      <td>LEX_A</td>\n",
       "      <td>LEX_A</td>\n",
       "      <td>SR4oes70ev</td>\n",
       "      <td>&lt;NA&gt;</td>\n",
       "      <td></td>\n",
       "      <td>Deklinierte_Form</td>\n",
       "      <td>5.850183</td>\n",
       "    </tr>\n",
       "    <tr>\n",
       "      <th>376406</th>\n",
       "      <td>verrussende_1</td>\n",
       "      <td>verrussende</td>\n",
       "      <td></td>\n",
       "      <td>verrussende</td>\n",
       "      <td>LEX_A</td>\n",
       "      <td>LEX_A</td>\n",
       "      <td>z2L4apgJia</td>\n",
       "      <td>&lt;NA&gt;</td>\n",
       "      <td></td>\n",
       "      <td>Deklinierte_Form</td>\n",
       "      <td>0.142857</td>\n",
       "    </tr>\n",
       "    <tr>\n",
       "      <th>644838</th>\n",
       "      <td>Fachleute</td>\n",
       "      <td>Fachleute</td>\n",
       "      <td></td>\n",
       "      <td>fachleute</td>\n",
       "      <td>NN</td>\n",
       "      <td>NN</td>\n",
       "      <td>fQsLHPCpnX</td>\n",
       "      <td>NOM</td>\n",
       "      <td>N</td>\n",
       "      <td>Deklinierte_Form Substantiv</td>\n",
       "      <td>8.773447</td>\n",
       "    </tr>\n",
       "  </tbody>\n",
       "</table>\n",
       "</div>"
      ],
      "text/plain": [
       "               nolemma_id              lex lemma      lemma_lower    tag  \\\n",
       "120                   des              des                    des  LEX_A   \n",
       "2415             Wecken_2           Wecken                 wecken  LEX_A   \n",
       "37296   zugrunde_liegen_1  zugrunde liegen        zugrunde liegen  LEX_V   \n",
       "131013            Thors_1            Thors                  thors  LEX_A   \n",
       "151298        übergösse_1        übergösse              übergösse  LEX_V   \n",
       "249026            Brünste          Brünste                brünste  LEX_A   \n",
       "306877      Körpermasse_1      Körpermasse            körpermasse  LEX_A   \n",
       "311771     angesprochenen   angesprochenen         angesprochenen  LEX_A   \n",
       "376406      verrussende_1      verrussende            verrussende  LEX_A   \n",
       "644838          Fachleute        Fachleute              fachleute     NN   \n",
       "\n",
       "        tag_0       tag_1  tagZ tagZZ                                member  \\\n",
       "120     LEX_A  VcEqMU7kd0  <NA>                    Deklinierte_Form Artikel   \n",
       "2415    LEX_A  4fN72Kodlj  <NA>                            Deklinierte_Form   \n",
       "37296   LEX_V  BDK74c4iDg  <NA>        Konjugierte_Form Verb Wortverbindung   \n",
       "131013  LEX_A  ebkM4tNjw0  <NA>                            Deklinierte_Form   \n",
       "151298  LEX_V  x2Uj0lvBjq  <NA>                       Konjugierte_Form Verb   \n",
       "249026  LEX_A  k9EqmmVUaG  <NA>                            Deklinierte_Form   \n",
       "306877  LEX_A  bIf1qblVpr  <NA>                            Deklinierte_Form   \n",
       "311771  LEX_A  SR4oes70ev  <NA>                            Deklinierte_Form   \n",
       "376406  LEX_A  z2L4apgJia  <NA>                            Deklinierte_Form   \n",
       "644838     NN  fQsLHPCpnX   NOM     N           Deklinierte_Form Substantiv   \n",
       "\n",
       "           score  \n",
       "120     4.706456  \n",
       "2415    0.895918  \n",
       "37296   1.344702  \n",
       "131013  0.055102  \n",
       "151298  0.687755  \n",
       "249026  1.677223  \n",
       "306877  0.038776  \n",
       "311771  5.850183  \n",
       "376406  0.142857  \n",
       "644838  8.773447  "
      ]
     },
     "execution_count": 35,
     "metadata": {},
     "output_type": "execute_result"
    },
    {
     "name": "stdout",
     "output_type": "stream",
     "text": [
      "time: 325 ms\n"
     ]
    }
   ],
   "source": [
    "pak.sample(df)"
   ]
  },
  {
   "cell_type": "code",
   "execution_count": 36,
   "id": "89275702-00df-4d0e-b628-d1a6e7dbe4e2",
   "metadata": {},
   "outputs": [
    {
     "name": "stdout",
     "output_type": "stream",
     "text": [
      "update_col: col_score score applied, 15135 records less!\n",
      "update_col: 13 cells written into existing column\n",
      "time: 3.83 s\n"
     ]
    }
   ],
   "source": [
    "# lemma von anderen Datensätzen abschreiben\n",
    "df = pak.update_col( df_to = df, \n",
    "                     df_from = wiktionary_nolemma, \n",
    "                     on = ['lex','tag'],\n",
    "                     col = 'lemma',\n",
    "                     col_score = 'score'\n",
    "                    )"
   ]
  },
  {
   "cell_type": "code",
   "execution_count": 37,
   "id": "28cbc256-85e9-4d8a-a95f-70ee345768b6",
   "metadata": {},
   "outputs": [
    {
     "name": "stdout",
     "output_type": "stream",
     "text": [
      "time: 31.9 ms\n"
     ]
    }
   ],
   "source": [
    "# manuelle Korrekturen\n",
    "mask = df.lex.isin(['des','dem']) \n",
    "df.loc[mask,'lemma'] = 'der'"
   ]
  },
  {
   "cell_type": "code",
   "execution_count": 38,
   "id": "5b9dd4bd-d9ac-41fe-aea8-a1210d8992d2",
   "metadata": {},
   "outputs": [
    {
     "name": "stdout",
     "output_type": "stream",
     "text": [
      "time: 38.2 ms\n"
     ]
    }
   ],
   "source": [
    "df['lemma_lower'] = df.lemma.str.lower()"
   ]
  },
  {
   "cell_type": "code",
   "execution_count": 39,
   "id": "9146df6f-6932-442e-81bd-9042a64e81ea",
   "metadata": {},
   "outputs": [
    {
     "data": {
      "text/html": [
       "<div>\n",
       "<style scoped>\n",
       "    .dataframe tbody tr th:only-of-type {\n",
       "        vertical-align: middle;\n",
       "    }\n",
       "\n",
       "    .dataframe tbody tr th {\n",
       "        vertical-align: top;\n",
       "    }\n",
       "\n",
       "    .dataframe thead th {\n",
       "        text-align: right;\n",
       "    }\n",
       "</style>\n",
       "<table border=\"1\" class=\"dataframe\">\n",
       "  <thead>\n",
       "    <tr style=\"text-align: right;\">\n",
       "      <th></th>\n",
       "      <th>nolemma_id</th>\n",
       "      <th>lex</th>\n",
       "      <th>lemma</th>\n",
       "      <th>lemma_lower</th>\n",
       "      <th>tag</th>\n",
       "      <th>tag_0</th>\n",
       "      <th>tag_1</th>\n",
       "      <th>tagZ</th>\n",
       "      <th>tagZZ</th>\n",
       "      <th>member</th>\n",
       "      <th>score</th>\n",
       "    </tr>\n",
       "  </thead>\n",
       "  <tbody>\n",
       "  </tbody>\n",
       "</table>\n",
       "</div>"
      ],
      "text/plain": [
       "Empty DataFrame\n",
       "Columns: [nolemma_id, lex, lemma, lemma_lower, tag, tag_0, tag_1, tagZ, tagZZ, member, score]\n",
       "Index: []"
      ]
     },
     "execution_count": 39,
     "metadata": {},
     "output_type": "execute_result"
    },
    {
     "name": "stdout",
     "output_type": "stream",
     "text": [
      "time: 74.9 ms\n"
     ]
    }
   ],
   "source": [
    "search_str(df,suche_debug)"
   ]
  },
  {
   "cell_type": "code",
   "execution_count": 40,
   "id": "66a66758-71e6-4c27-a1c7-a4fcc403927e",
   "metadata": {},
   "outputs": [
    {
     "data": {
      "text/html": [
       "<div>\n",
       "<style scoped>\n",
       "    .dataframe tbody tr th:only-of-type {\n",
       "        vertical-align: middle;\n",
       "    }\n",
       "\n",
       "    .dataframe tbody tr th {\n",
       "        vertical-align: top;\n",
       "    }\n",
       "\n",
       "    .dataframe thead th {\n",
       "        text-align: right;\n",
       "    }\n",
       "</style>\n",
       "<table border=\"1\" class=\"dataframe\">\n",
       "  <thead>\n",
       "    <tr style=\"text-align: right;\">\n",
       "      <th></th>\n",
       "      <th>nolemma_id</th>\n",
       "      <th>lex</th>\n",
       "      <th>lemma</th>\n",
       "      <th>lemma_lower</th>\n",
       "      <th>tag</th>\n",
       "      <th>tag_0</th>\n",
       "      <th>tag_1</th>\n",
       "      <th>tagZ</th>\n",
       "      <th>tagZZ</th>\n",
       "      <th>member</th>\n",
       "      <th>score</th>\n",
       "    </tr>\n",
       "  </thead>\n",
       "  <tbody>\n",
       "    <tr>\n",
       "      <th>120</th>\n",
       "      <td>des</td>\n",
       "      <td>des</td>\n",
       "      <td>der</td>\n",
       "      <td>der</td>\n",
       "      <td>LEX_A</td>\n",
       "      <td>LEX_A</td>\n",
       "      <td>VcEqMU7kd0</td>\n",
       "      <td>&lt;NA&gt;</td>\n",
       "      <td></td>\n",
       "      <td>Deklinierte_Form Artikel</td>\n",
       "      <td>4.706456</td>\n",
       "    </tr>\n",
       "    <tr>\n",
       "      <th>121</th>\n",
       "      <td>dem</td>\n",
       "      <td>dem</td>\n",
       "      <td>der</td>\n",
       "      <td>der</td>\n",
       "      <td>LEX_A</td>\n",
       "      <td>LEX_A</td>\n",
       "      <td>DTP9HljRXI</td>\n",
       "      <td>&lt;NA&gt;</td>\n",
       "      <td></td>\n",
       "      <td>Deklinierte_Form Artikel</td>\n",
       "      <td>4.933009</td>\n",
       "    </tr>\n",
       "    <tr>\n",
       "      <th>122</th>\n",
       "      <td>eine</td>\n",
       "      <td>eine</td>\n",
       "      <td>ein</td>\n",
       "      <td>ein</td>\n",
       "      <td>LEX_A</td>\n",
       "      <td>LEX_A</td>\n",
       "      <td>SSmKoBiIl6</td>\n",
       "      <td>&lt;NA&gt;</td>\n",
       "      <td></td>\n",
       "      <td>Deklinierte_Form Artikel</td>\n",
       "      <td>5.035323</td>\n",
       "    </tr>\n",
       "    <tr>\n",
       "      <th>126</th>\n",
       "      <td>einer</td>\n",
       "      <td>einer</td>\n",
       "      <td>ein</td>\n",
       "      <td>ein</td>\n",
       "      <td>LEX_A</td>\n",
       "      <td>LEX_A</td>\n",
       "      <td>vymWo0djqE</td>\n",
       "      <td>&lt;NA&gt;</td>\n",
       "      <td></td>\n",
       "      <td>Deklinierte_Form Artikel</td>\n",
       "      <td>6.456760</td>\n",
       "    </tr>\n",
       "    <tr>\n",
       "      <th>129</th>\n",
       "      <td>einem</td>\n",
       "      <td>einem</td>\n",
       "      <td>ein</td>\n",
       "      <td>ein</td>\n",
       "      <td>LEX_A</td>\n",
       "      <td>LEX_A</td>\n",
       "      <td>hQKwDHLsnN</td>\n",
       "      <td>&lt;NA&gt;</td>\n",
       "      <td></td>\n",
       "      <td>Deklinierte_Form Artikel</td>\n",
       "      <td>4.180268</td>\n",
       "    </tr>\n",
       "    <tr>\n",
       "      <th>10665</th>\n",
       "      <td>heißet_1</td>\n",
       "      <td>heißet</td>\n",
       "      <td>heißen</td>\n",
       "      <td>heißen</td>\n",
       "      <td>LEX_V</td>\n",
       "      <td>LEX_V</td>\n",
       "      <td>VlfISrygIt</td>\n",
       "      <td>&lt;NA&gt;</td>\n",
       "      <td></td>\n",
       "      <td>Konjugierte_Form Verb</td>\n",
       "      <td>0.965306</td>\n",
       "    </tr>\n",
       "    <tr>\n",
       "      <th>46515</th>\n",
       "      <td>Dummies_1</td>\n",
       "      <td>Dummies</td>\n",
       "      <td>Dummie</td>\n",
       "      <td>dummie</td>\n",
       "      <td>LEX_A</td>\n",
       "      <td>LEX_A</td>\n",
       "      <td>5RSrO59nw8</td>\n",
       "      <td>&lt;NA&gt;</td>\n",
       "      <td></td>\n",
       "      <td>Deklinierte_Form</td>\n",
       "      <td>0.118367</td>\n",
       "    </tr>\n",
       "    <tr>\n",
       "      <th>131013</th>\n",
       "      <td>Thors_1</td>\n",
       "      <td>Thors</td>\n",
       "      <td>Thor</td>\n",
       "      <td>thor</td>\n",
       "      <td>LEX_A</td>\n",
       "      <td>LEX_A</td>\n",
       "      <td>ebkM4tNjw0</td>\n",
       "      <td>&lt;NA&gt;</td>\n",
       "      <td></td>\n",
       "      <td>Deklinierte_Form</td>\n",
       "      <td>0.055102</td>\n",
       "    </tr>\n",
       "    <tr>\n",
       "      <th>151298</th>\n",
       "      <td>übergösse_1</td>\n",
       "      <td>übergösse</td>\n",
       "      <td>übergießen</td>\n",
       "      <td>übergießen</td>\n",
       "      <td>LEX_V</td>\n",
       "      <td>LEX_V</td>\n",
       "      <td>x2Uj0lvBjq</td>\n",
       "      <td>&lt;NA&gt;</td>\n",
       "      <td></td>\n",
       "      <td>Konjugierte_Form Verb</td>\n",
       "      <td>0.687755</td>\n",
       "    </tr>\n",
       "    <tr>\n",
       "      <th>306887</th>\n",
       "      <td>Körpermassen_1</td>\n",
       "      <td>Körpermassen</td>\n",
       "      <td>Körpermasse</td>\n",
       "      <td>körpermasse</td>\n",
       "      <td>LEX_A</td>\n",
       "      <td>LEX_A</td>\n",
       "      <td>Jm3Mlvi8Mp</td>\n",
       "      <td>&lt;NA&gt;</td>\n",
       "      <td></td>\n",
       "      <td>Deklinierte_Form</td>\n",
       "      <td>0.038776</td>\n",
       "    </tr>\n",
       "    <tr>\n",
       "      <th>327471</th>\n",
       "      <td>düstrer</td>\n",
       "      <td>düstrer</td>\n",
       "      <td>düster</td>\n",
       "      <td>düster</td>\n",
       "      <td>LEX_A</td>\n",
       "      <td>LEX_A</td>\n",
       "      <td>v1fi8PMbHc</td>\n",
       "      <td>&lt;NA&gt;</td>\n",
       "      <td></td>\n",
       "      <td>Deklinierte_Form</td>\n",
       "      <td>2.466504</td>\n",
       "    </tr>\n",
       "    <tr>\n",
       "      <th>329667</th>\n",
       "      <td>Geschosshöhen_1</td>\n",
       "      <td>Geschosshöhen</td>\n",
       "      <td>Geschosshöhe</td>\n",
       "      <td>geschosshöhe</td>\n",
       "      <td>LEX_A</td>\n",
       "      <td>LEX_A</td>\n",
       "      <td>4oZZhB93x8</td>\n",
       "      <td>&lt;NA&gt;</td>\n",
       "      <td></td>\n",
       "      <td>Deklinierte_Form</td>\n",
       "      <td>0.214286</td>\n",
       "    </tr>\n",
       "    <tr>\n",
       "      <th>370700</th>\n",
       "      <td>Canadiern_1</td>\n",
       "      <td>Canadiern</td>\n",
       "      <td>Canadier</td>\n",
       "      <td>canadier</td>\n",
       "      <td>LEX_A</td>\n",
       "      <td>LEX_A</td>\n",
       "      <td>rInXPQ2mKY</td>\n",
       "      <td>&lt;NA&gt;</td>\n",
       "      <td></td>\n",
       "      <td>Deklinierte_Form</td>\n",
       "      <td>0.055102</td>\n",
       "    </tr>\n",
       "    <tr>\n",
       "      <th>370702</th>\n",
       "      <td>Canadiers_1</td>\n",
       "      <td>Canadiers</td>\n",
       "      <td>Canadier</td>\n",
       "      <td>canadier</td>\n",
       "      <td>LEX_A</td>\n",
       "      <td>LEX_A</td>\n",
       "      <td>mHokag1GTi</td>\n",
       "      <td>&lt;NA&gt;</td>\n",
       "      <td></td>\n",
       "      <td>Deklinierte_Form</td>\n",
       "      <td>0.055102</td>\n",
       "    </tr>\n",
       "    <tr>\n",
       "      <th>524953</th>\n",
       "      <td>durchfegt_1</td>\n",
       "      <td>durchfegt</td>\n",
       "      <td>durchfegen</td>\n",
       "      <td>durchfegen</td>\n",
       "      <td>LEX_V</td>\n",
       "      <td>LEX_V</td>\n",
       "      <td>sWkcgzFR9x</td>\n",
       "      <td>&lt;NA&gt;</td>\n",
       "      <td></td>\n",
       "      <td>Konjugierte_Form Verb</td>\n",
       "      <td>0.353061</td>\n",
       "    </tr>\n",
       "  </tbody>\n",
       "</table>\n",
       "</div>"
      ],
      "text/plain": [
       "             nolemma_id            lex         lemma   lemma_lower    tag  \\\n",
       "120                 des            des           der           der  LEX_A   \n",
       "121                 dem            dem           der           der  LEX_A   \n",
       "122                eine           eine           ein           ein  LEX_A   \n",
       "126               einer          einer           ein           ein  LEX_A   \n",
       "129               einem          einem           ein           ein  LEX_A   \n",
       "10665          heißet_1         heißet        heißen        heißen  LEX_V   \n",
       "46515         Dummies_1        Dummies        Dummie        dummie  LEX_A   \n",
       "131013          Thors_1          Thors          Thor          thor  LEX_A   \n",
       "151298      übergösse_1      übergösse    übergießen    übergießen  LEX_V   \n",
       "306887   Körpermassen_1   Körpermassen   Körpermasse   körpermasse  LEX_A   \n",
       "327471          düstrer        düstrer        düster        düster  LEX_A   \n",
       "329667  Geschosshöhen_1  Geschosshöhen  Geschosshöhe  geschosshöhe  LEX_A   \n",
       "370700      Canadiern_1      Canadiern      Canadier      canadier  LEX_A   \n",
       "370702      Canadiers_1      Canadiers      Canadier      canadier  LEX_A   \n",
       "524953      durchfegt_1      durchfegt    durchfegen    durchfegen  LEX_V   \n",
       "\n",
       "        tag_0       tag_1  tagZ tagZZ                    member     score  \n",
       "120     LEX_A  VcEqMU7kd0  <NA>        Deklinierte_Form Artikel  4.706456  \n",
       "121     LEX_A  DTP9HljRXI  <NA>        Deklinierte_Form Artikel  4.933009  \n",
       "122     LEX_A  SSmKoBiIl6  <NA>        Deklinierte_Form Artikel  5.035323  \n",
       "126     LEX_A  vymWo0djqE  <NA>        Deklinierte_Form Artikel  6.456760  \n",
       "129     LEX_A  hQKwDHLsnN  <NA>        Deklinierte_Form Artikel  4.180268  \n",
       "10665   LEX_V  VlfISrygIt  <NA>           Konjugierte_Form Verb  0.965306  \n",
       "46515   LEX_A  5RSrO59nw8  <NA>                Deklinierte_Form  0.118367  \n",
       "131013  LEX_A  ebkM4tNjw0  <NA>                Deklinierte_Form  0.055102  \n",
       "151298  LEX_V  x2Uj0lvBjq  <NA>           Konjugierte_Form Verb  0.687755  \n",
       "306887  LEX_A  Jm3Mlvi8Mp  <NA>                Deklinierte_Form  0.038776  \n",
       "327471  LEX_A  v1fi8PMbHc  <NA>                Deklinierte_Form  2.466504  \n",
       "329667  LEX_A  4oZZhB93x8  <NA>                Deklinierte_Form  0.214286  \n",
       "370700  LEX_A  rInXPQ2mKY  <NA>                Deklinierte_Form  0.055102  \n",
       "370702  LEX_A  mHokag1GTi  <NA>                Deklinierte_Form  0.055102  \n",
       "524953  LEX_V  sWkcgzFR9x  <NA>           Konjugierte_Form Verb  0.353061  "
      ]
     },
     "execution_count": 40,
     "metadata": {},
     "output_type": "execute_result"
    },
    {
     "name": "stdout",
     "output_type": "stream",
     "text": [
      "time: 58.9 ms\n"
     ]
    }
   ],
   "source": [
    "mask = df.lemma != ''\n",
    "df[mask]"
   ]
  },
  {
   "cell_type": "code",
   "execution_count": 41,
   "id": "1c916bd0-c48d-476f-ac1d-b3f792009b6d",
   "metadata": {},
   "outputs": [
    {
     "name": "stdout",
     "output_type": "stream",
     "text": [
      "15 rows added, now a total of 644810\n",
      "time: 353 ms\n"
     ]
    }
   ],
   "source": [
    "# wieder anfügen\n",
    "mask = df.lemma != ''\n",
    "wiktionary_nolemma = pak.add_rows(wiktionary_nolemma,df[mask])"
   ]
  },
  {
   "cell_type": "code",
   "execution_count": 42,
   "id": "d80dd616-3186-485f-9b43-35ba5bc40683",
   "metadata": {},
   "outputs": [
    {
     "data": {
      "text/html": [
       "<div>\n",
       "<style scoped>\n",
       "    .dataframe tbody tr th:only-of-type {\n",
       "        vertical-align: middle;\n",
       "    }\n",
       "\n",
       "    .dataframe tbody tr th {\n",
       "        vertical-align: top;\n",
       "    }\n",
       "\n",
       "    .dataframe thead th {\n",
       "        text-align: right;\n",
       "    }\n",
       "</style>\n",
       "<table border=\"1\" class=\"dataframe\">\n",
       "  <thead>\n",
       "    <tr style=\"text-align: right;\">\n",
       "      <th></th>\n",
       "      <th>nolemma_id</th>\n",
       "      <th>lex</th>\n",
       "      <th>lemma</th>\n",
       "      <th>lemma_lower</th>\n",
       "      <th>tag</th>\n",
       "      <th>tag_0</th>\n",
       "      <th>tag_1</th>\n",
       "      <th>tagZ</th>\n",
       "      <th>tagZZ</th>\n",
       "      <th>member</th>\n",
       "      <th>score</th>\n",
       "    </tr>\n",
       "  </thead>\n",
       "  <tbody>\n",
       "    <tr>\n",
       "      <th>63700</th>\n",
       "      <td>gefriergetrocknetem</td>\n",
       "      <td>gefriergetrocknetem</td>\n",
       "      <td>gefriergetrocknet</td>\n",
       "      <td>gefriergetrocknet</td>\n",
       "      <td>LEX_A</td>\n",
       "      <td>LEX_A</td>\n",
       "      <td>qfxGEFcaEM</td>\n",
       "      <td>&lt;NA&gt;</td>\n",
       "      <td></td>\n",
       "      <td>Deklinierte_Form</td>\n",
       "      <td>0.822449</td>\n",
       "    </tr>\n",
       "    <tr>\n",
       "      <th>63701</th>\n",
       "      <td>gefriergetrockneten</td>\n",
       "      <td>gefriergetrockneten</td>\n",
       "      <td>gefriergetrocknet</td>\n",
       "      <td>gefriergetrocknet</td>\n",
       "      <td>LEX_A</td>\n",
       "      <td>LEX_A</td>\n",
       "      <td>cSrtFUpYCE</td>\n",
       "      <td>&lt;NA&gt;</td>\n",
       "      <td></td>\n",
       "      <td>Deklinierte_Form</td>\n",
       "      <td>2.253350</td>\n",
       "    </tr>\n",
       "    <tr>\n",
       "      <th>63702</th>\n",
       "      <td>gefriergetrockneter</td>\n",
       "      <td>gefriergetrockneter</td>\n",
       "      <td>gefriergetrocknet</td>\n",
       "      <td>gefriergetrocknet</td>\n",
       "      <td>LEX_A</td>\n",
       "      <td>LEX_A</td>\n",
       "      <td>cJeBRmnkEZ</td>\n",
       "      <td>&lt;NA&gt;</td>\n",
       "      <td></td>\n",
       "      <td>Deklinierte_Form</td>\n",
       "      <td>1.298417</td>\n",
       "    </tr>\n",
       "    <tr>\n",
       "      <th>63703</th>\n",
       "      <td>gefriergetrocknetes</td>\n",
       "      <td>gefriergetrocknetes</td>\n",
       "      <td>gefriergetrocknet</td>\n",
       "      <td>gefriergetrocknet</td>\n",
       "      <td>LEX_A</td>\n",
       "      <td>LEX_A</td>\n",
       "      <td>ztSD6oEkot</td>\n",
       "      <td>&lt;NA&gt;</td>\n",
       "      <td></td>\n",
       "      <td>Deklinierte_Form</td>\n",
       "      <td>1.166870</td>\n",
       "    </tr>\n",
       "    <tr>\n",
       "      <th>63704</th>\n",
       "      <td>gefriergetrocknete</td>\n",
       "      <td>gefriergetrocknete</td>\n",
       "      <td>gefriergetrocknet</td>\n",
       "      <td>gefriergetrocknet</td>\n",
       "      <td>LEX_A</td>\n",
       "      <td>LEX_A</td>\n",
       "      <td>UYh5zwEhfx</td>\n",
       "      <td>&lt;NA&gt;</td>\n",
       "      <td></td>\n",
       "      <td>Deklinierte_Form</td>\n",
       "      <td>1.848965</td>\n",
       "    </tr>\n",
       "    <tr>\n",
       "      <th>178132</th>\n",
       "      <td>missrietet</td>\n",
       "      <td>missrietet</td>\n",
       "      <td>missraten</td>\n",
       "      <td>missraten</td>\n",
       "      <td>LEX_V</td>\n",
       "      <td>LEX_V</td>\n",
       "      <td>y9ZTeYS8SU</td>\n",
       "      <td>&lt;NA&gt;</td>\n",
       "      <td></td>\n",
       "      <td>Konjugierte_Form Verb</td>\n",
       "      <td>0.963265</td>\n",
       "    </tr>\n",
       "    <tr>\n",
       "      <th>178133</th>\n",
       "      <td>missrieten</td>\n",
       "      <td>missrieten</td>\n",
       "      <td>missraten</td>\n",
       "      <td>missraten</td>\n",
       "      <td>LEX_V</td>\n",
       "      <td>LEX_V</td>\n",
       "      <td>VhpO1YDYiF</td>\n",
       "      <td>&lt;NA&gt;</td>\n",
       "      <td></td>\n",
       "      <td>Konjugierte_Form Verb</td>\n",
       "      <td>1.144945</td>\n",
       "    </tr>\n",
       "    <tr>\n",
       "      <th>178134</th>\n",
       "      <td>missrietst</td>\n",
       "      <td>missrietst</td>\n",
       "      <td>missraten</td>\n",
       "      <td>missraten</td>\n",
       "      <td>LEX_V</td>\n",
       "      <td>LEX_V</td>\n",
       "      <td>5Jms1aP5H9</td>\n",
       "      <td>&lt;NA&gt;</td>\n",
       "      <td></td>\n",
       "      <td>Konjugierte_Form Verb</td>\n",
       "      <td>0.812245</td>\n",
       "    </tr>\n",
       "    <tr>\n",
       "      <th>178135</th>\n",
       "      <td>missrietest</td>\n",
       "      <td>missrietest</td>\n",
       "      <td>missraten</td>\n",
       "      <td>missraten</td>\n",
       "      <td>LEX_V</td>\n",
       "      <td>LEX_V</td>\n",
       "      <td>N0lyUCwTOa</td>\n",
       "      <td>&lt;NA&gt;</td>\n",
       "      <td></td>\n",
       "      <td>Konjugierte_Form Verb</td>\n",
       "      <td>0.993878</td>\n",
       "    </tr>\n",
       "    <tr>\n",
       "      <th>178136</th>\n",
       "      <td>missriete</td>\n",
       "      <td>missriete</td>\n",
       "      <td>missraten</td>\n",
       "      <td>missraten</td>\n",
       "      <td>LEX_V</td>\n",
       "      <td>LEX_V</td>\n",
       "      <td>p6ksoWbv4K</td>\n",
       "      <td>&lt;NA&gt;</td>\n",
       "      <td></td>\n",
       "      <td>Konjugierte_Form Verb</td>\n",
       "      <td>0.810204</td>\n",
       "    </tr>\n",
       "    <tr>\n",
       "      <th>178137</th>\n",
       "      <td>missriet</td>\n",
       "      <td>missriet</td>\n",
       "      <td>missraten</td>\n",
       "      <td>missraten</td>\n",
       "      <td>LEX_V</td>\n",
       "      <td>LEX_V</td>\n",
       "      <td>ABDkLdtzEs</td>\n",
       "      <td>&lt;NA&gt;</td>\n",
       "      <td></td>\n",
       "      <td>Konjugierte_Form Verb</td>\n",
       "      <td>0.871429</td>\n",
       "    </tr>\n",
       "    <tr>\n",
       "      <th>178138</th>\n",
       "      <td>missrät</td>\n",
       "      <td>missrät</td>\n",
       "      <td>missraten</td>\n",
       "      <td>missraten</td>\n",
       "      <td>LEX_V</td>\n",
       "      <td>LEX_V</td>\n",
       "      <td>qAbhpS76tt</td>\n",
       "      <td>&lt;NA&gt;</td>\n",
       "      <td></td>\n",
       "      <td>Konjugierte_Form Verb</td>\n",
       "      <td>0.612245</td>\n",
       "    </tr>\n",
       "    <tr>\n",
       "      <th>178139</th>\n",
       "      <td>missratest</td>\n",
       "      <td>missratest</td>\n",
       "      <td>missraten</td>\n",
       "      <td>missraten</td>\n",
       "      <td>LEX_V</td>\n",
       "      <td>LEX_V</td>\n",
       "      <td>BOBxYuoohY</td>\n",
       "      <td>&lt;NA&gt;</td>\n",
       "      <td></td>\n",
       "      <td>Konjugierte_Form Verb</td>\n",
       "      <td>0.651020</td>\n",
       "    </tr>\n",
       "    <tr>\n",
       "      <th>178140</th>\n",
       "      <td>missrätst</td>\n",
       "      <td>missrätst</td>\n",
       "      <td>missraten</td>\n",
       "      <td>missraten</td>\n",
       "      <td>LEX_V</td>\n",
       "      <td>LEX_V</td>\n",
       "      <td>v1mBxMLjcB</td>\n",
       "      <td>&lt;NA&gt;</td>\n",
       "      <td></td>\n",
       "      <td>Konjugierte_Form Verb</td>\n",
       "      <td>0.636735</td>\n",
       "    </tr>\n",
       "    <tr>\n",
       "      <th>178141</th>\n",
       "      <td>missratet</td>\n",
       "      <td>missratet</td>\n",
       "      <td>missraten</td>\n",
       "      <td>missraten</td>\n",
       "      <td>LEX_V</td>\n",
       "      <td>LEX_V</td>\n",
       "      <td>x4gwnCOvaT</td>\n",
       "      <td>&lt;NA&gt;</td>\n",
       "      <td></td>\n",
       "      <td>Konjugierte_Form Verb</td>\n",
       "      <td>1.030451</td>\n",
       "    </tr>\n",
       "    <tr>\n",
       "      <th>178142</th>\n",
       "      <td>missrate</td>\n",
       "      <td>missrate</td>\n",
       "      <td>missraten</td>\n",
       "      <td>missraten</td>\n",
       "      <td>LEX_V</td>\n",
       "      <td>LEX_V</td>\n",
       "      <td>jsNDCQhyPM</td>\n",
       "      <td>&lt;NA&gt;</td>\n",
       "      <td></td>\n",
       "      <td>Konjugierte_Form Verb</td>\n",
       "      <td>1.200974</td>\n",
       "    </tr>\n",
       "    <tr>\n",
       "      <th>178143</th>\n",
       "      <td>missrat</td>\n",
       "      <td>missrat</td>\n",
       "      <td>missraten</td>\n",
       "      <td>missraten</td>\n",
       "      <td>LEX_V</td>\n",
       "      <td>LEX_V</td>\n",
       "      <td>CTNtsfhX4D</td>\n",
       "      <td>&lt;NA&gt;</td>\n",
       "      <td></td>\n",
       "      <td>Konjugierte_Form Verb</td>\n",
       "      <td>0.675510</td>\n",
       "    </tr>\n",
       "    <tr>\n",
       "      <th>497337</th>\n",
       "      <td>missratene</td>\n",
       "      <td>missratene</td>\n",
       "      <td>missraten</td>\n",
       "      <td>missraten</td>\n",
       "      <td>LEX_A</td>\n",
       "      <td>LEX_A</td>\n",
       "      <td>3P2rsBDB3U</td>\n",
       "      <td>&lt;NA&gt;</td>\n",
       "      <td></td>\n",
       "      <td>Deklinierte_Form</td>\n",
       "      <td>1.940317</td>\n",
       "    </tr>\n",
       "    <tr>\n",
       "      <th>497338</th>\n",
       "      <td>missratenes</td>\n",
       "      <td>missratenes</td>\n",
       "      <td>missraten</td>\n",
       "      <td>missraten</td>\n",
       "      <td>LEX_A</td>\n",
       "      <td>LEX_A</td>\n",
       "      <td>br6vYqpXFY</td>\n",
       "      <td>&lt;NA&gt;</td>\n",
       "      <td></td>\n",
       "      <td>Deklinierte_Form</td>\n",
       "      <td>1.194884</td>\n",
       "    </tr>\n",
       "    <tr>\n",
       "      <th>497339</th>\n",
       "      <td>missratener</td>\n",
       "      <td>missratener</td>\n",
       "      <td>missraten</td>\n",
       "      <td>missraten</td>\n",
       "      <td>LEX_A</td>\n",
       "      <td>LEX_A</td>\n",
       "      <td>DzOVma9k4l</td>\n",
       "      <td>&lt;NA&gt;</td>\n",
       "      <td></td>\n",
       "      <td>Deklinierte_Form</td>\n",
       "      <td>1.315469</td>\n",
       "    </tr>\n",
       "    <tr>\n",
       "      <th>497340</th>\n",
       "      <td>missratenen</td>\n",
       "      <td>missratenen</td>\n",
       "      <td>missraten</td>\n",
       "      <td>missraten</td>\n",
       "      <td>LEX_A</td>\n",
       "      <td>LEX_A</td>\n",
       "      <td>VZ3MYcMPnP</td>\n",
       "      <td>&lt;NA&gt;</td>\n",
       "      <td></td>\n",
       "      <td>Deklinierte_Form</td>\n",
       "      <td>2.260658</td>\n",
       "    </tr>\n",
       "    <tr>\n",
       "      <th>497341</th>\n",
       "      <td>missratenem</td>\n",
       "      <td>missratenem</td>\n",
       "      <td>missraten</td>\n",
       "      <td>missraten</td>\n",
       "      <td>LEX_A</td>\n",
       "      <td>LEX_A</td>\n",
       "      <td>lsCNroyOi6</td>\n",
       "      <td>&lt;NA&gt;</td>\n",
       "      <td></td>\n",
       "      <td>Deklinierte_Form</td>\n",
       "      <td>0.902041</td>\n",
       "    </tr>\n",
       "    <tr>\n",
       "      <th>625584</th>\n",
       "      <td>gefrierzutrocknen</td>\n",
       "      <td>gefrierzutrocknen</td>\n",
       "      <td>gefriertrocknen</td>\n",
       "      <td>gefriertrocknen</td>\n",
       "      <td>LEX_V</td>\n",
       "      <td>LEX_V</td>\n",
       "      <td>3DLDV6uP1M</td>\n",
       "      <td>&lt;NA&gt;</td>\n",
       "      <td></td>\n",
       "      <td>Erweiterter_Infinitiv Verb</td>\n",
       "      <td>0.524490</td>\n",
       "    </tr>\n",
       "    <tr>\n",
       "      <th>625585</th>\n",
       "      <td>gefriertrockne</td>\n",
       "      <td>gefriertrockne</td>\n",
       "      <td>gefriertrocknen</td>\n",
       "      <td>gefriertrocknen</td>\n",
       "      <td>LEX_V</td>\n",
       "      <td>LEX_V</td>\n",
       "      <td>BaSRlEoxK0</td>\n",
       "      <td>&lt;NA&gt;</td>\n",
       "      <td></td>\n",
       "      <td>Konjugierte_Form Verb</td>\n",
       "      <td>1.012180</td>\n",
       "    </tr>\n",
       "    <tr>\n",
       "      <th>625586</th>\n",
       "      <td>gefriertrocknet</td>\n",
       "      <td>gefriertrocknet</td>\n",
       "      <td>gefriertrocknen</td>\n",
       "      <td>gefriertrocknen</td>\n",
       "      <td>LEX_V</td>\n",
       "      <td>LEX_V</td>\n",
       "      <td>hqLOq1VMi5</td>\n",
       "      <td>&lt;NA&gt;</td>\n",
       "      <td></td>\n",
       "      <td>Konjugierte_Form Verb</td>\n",
       "      <td>1.004872</td>\n",
       "    </tr>\n",
       "    <tr>\n",
       "      <th>625587</th>\n",
       "      <td>gefriertrocknest</td>\n",
       "      <td>gefriertrocknest</td>\n",
       "      <td>gefriertrocknen</td>\n",
       "      <td>gefriertrocknen</td>\n",
       "      <td>LEX_V</td>\n",
       "      <td>LEX_V</td>\n",
       "      <td>OSmrUBU98Z</td>\n",
       "      <td>&lt;NA&gt;</td>\n",
       "      <td></td>\n",
       "      <td>Konjugierte_Form Verb</td>\n",
       "      <td>0.702041</td>\n",
       "    </tr>\n",
       "    <tr>\n",
       "      <th>625588</th>\n",
       "      <td>gefriertrocknete</td>\n",
       "      <td>gefriertrocknete</td>\n",
       "      <td>gefriertrocknen</td>\n",
       "      <td>gefriertrocknen</td>\n",
       "      <td>LEX_V</td>\n",
       "      <td>LEX_V</td>\n",
       "      <td>ss6UGaJGSt</td>\n",
       "      <td>&lt;NA&gt;</td>\n",
       "      <td></td>\n",
       "      <td>Konjugierte_Form Verb</td>\n",
       "      <td>1.037759</td>\n",
       "    </tr>\n",
       "    <tr>\n",
       "      <th>625589</th>\n",
       "      <td>gefriertrocknetest</td>\n",
       "      <td>gefriertrocknetest</td>\n",
       "      <td>gefriertrocknen</td>\n",
       "      <td>gefriertrocknen</td>\n",
       "      <td>LEX_V</td>\n",
       "      <td>LEX_V</td>\n",
       "      <td>yje5CSqhZZ</td>\n",
       "      <td>&lt;NA&gt;</td>\n",
       "      <td></td>\n",
       "      <td>Konjugierte_Form Verb</td>\n",
       "      <td>0.730612</td>\n",
       "    </tr>\n",
       "    <tr>\n",
       "      <th>625590</th>\n",
       "      <td>gefriertrockneten</td>\n",
       "      <td>gefriertrockneten</td>\n",
       "      <td>gefriertrocknen</td>\n",
       "      <td>gefriertrocknen</td>\n",
       "      <td>LEX_V</td>\n",
       "      <td>LEX_V</td>\n",
       "      <td>jaCgxfnTqk</td>\n",
       "      <td>&lt;NA&gt;</td>\n",
       "      <td></td>\n",
       "      <td>Konjugierte_Form Verb</td>\n",
       "      <td>1.031669</td>\n",
       "    </tr>\n",
       "    <tr>\n",
       "      <th>625591</th>\n",
       "      <td>gefriertrocknetet</td>\n",
       "      <td>gefriertrocknetet</td>\n",
       "      <td>gefriertrocknen</td>\n",
       "      <td>gefriertrocknen</td>\n",
       "      <td>LEX_V</td>\n",
       "      <td>LEX_V</td>\n",
       "      <td>g2NzkBPzpw</td>\n",
       "      <td>&lt;NA&gt;</td>\n",
       "      <td></td>\n",
       "      <td>Konjugierte_Form Verb</td>\n",
       "      <td>0.716327</td>\n",
       "    </tr>\n",
       "    <tr>\n",
       "      <th>625597</th>\n",
       "      <td>gefrierzutrocknende</td>\n",
       "      <td>gefrierzutrocknende</td>\n",
       "      <td>gefriertrocknen</td>\n",
       "      <td>gefriertrocknen</td>\n",
       "      <td>LEX_A</td>\n",
       "      <td>LEX_A</td>\n",
       "      <td>i4f5iRCOFa</td>\n",
       "      <td>&lt;NA&gt;</td>\n",
       "      <td></td>\n",
       "      <td>Dekliniertes_Gerundivum Adjektiv</td>\n",
       "      <td>1.834348</td>\n",
       "    </tr>\n",
       "    <tr>\n",
       "      <th>625598</th>\n",
       "      <td>gefrierzutrocknendem</td>\n",
       "      <td>gefrierzutrocknendem</td>\n",
       "      <td>gefriertrocknen</td>\n",
       "      <td>gefriertrocknen</td>\n",
       "      <td>LEX_A</td>\n",
       "      <td>LEX_A</td>\n",
       "      <td>zf1ff572bZ</td>\n",
       "      <td>&lt;NA&gt;</td>\n",
       "      <td></td>\n",
       "      <td>Dekliniertes_Gerundivum Adjektiv</td>\n",
       "      <td>0.897959</td>\n",
       "    </tr>\n",
       "    <tr>\n",
       "      <th>625599</th>\n",
       "      <td>gefrierzutrocknenden</td>\n",
       "      <td>gefrierzutrocknenden</td>\n",
       "      <td>gefriertrocknen</td>\n",
       "      <td>gefriertrocknen</td>\n",
       "      <td>LEX_A</td>\n",
       "      <td>LEX_A</td>\n",
       "      <td>DxzOPFVgE0</td>\n",
       "      <td>&lt;NA&gt;</td>\n",
       "      <td></td>\n",
       "      <td>Dekliniertes_Gerundivum Adjektiv</td>\n",
       "      <td>2.213155</td>\n",
       "    </tr>\n",
       "    <tr>\n",
       "      <th>625600</th>\n",
       "      <td>gefrierzutrocknender</td>\n",
       "      <td>gefrierzutrocknender</td>\n",
       "      <td>gefriertrocknen</td>\n",
       "      <td>gefriertrocknen</td>\n",
       "      <td>LEX_A</td>\n",
       "      <td>LEX_A</td>\n",
       "      <td>Y0KIDQDTwI</td>\n",
       "      <td>&lt;NA&gt;</td>\n",
       "      <td></td>\n",
       "      <td>Dekliniertes_Gerundivum Adjektiv</td>\n",
       "      <td>1.317905</td>\n",
       "    </tr>\n",
       "    <tr>\n",
       "      <th>625601</th>\n",
       "      <td>gefrierzutrocknendes</td>\n",
       "      <td>gefrierzutrocknendes</td>\n",
       "      <td>gefriertrocknen</td>\n",
       "      <td>gefriertrocknen</td>\n",
       "      <td>LEX_A</td>\n",
       "      <td>LEX_A</td>\n",
       "      <td>B6xnJefbok</td>\n",
       "      <td>&lt;NA&gt;</td>\n",
       "      <td></td>\n",
       "      <td>Dekliniertes_Gerundivum Adjektiv</td>\n",
       "      <td>1.194884</td>\n",
       "    </tr>\n",
       "  </tbody>\n",
       "</table>\n",
       "</div>"
      ],
      "text/plain": [
       "                  nolemma_id                   lex              lemma  \\\n",
       "63700    gefriergetrocknetem   gefriergetrocknetem  gefriergetrocknet   \n",
       "63701    gefriergetrockneten   gefriergetrockneten  gefriergetrocknet   \n",
       "63702    gefriergetrockneter   gefriergetrockneter  gefriergetrocknet   \n",
       "63703    gefriergetrocknetes   gefriergetrocknetes  gefriergetrocknet   \n",
       "63704     gefriergetrocknete    gefriergetrocknete  gefriergetrocknet   \n",
       "178132            missrietet            missrietet          missraten   \n",
       "178133            missrieten            missrieten          missraten   \n",
       "178134            missrietst            missrietst          missraten   \n",
       "178135           missrietest           missrietest          missraten   \n",
       "178136             missriete             missriete          missraten   \n",
       "178137              missriet              missriet          missraten   \n",
       "178138               missrät               missrät          missraten   \n",
       "178139            missratest            missratest          missraten   \n",
       "178140             missrätst             missrätst          missraten   \n",
       "178141             missratet             missratet          missraten   \n",
       "178142              missrate              missrate          missraten   \n",
       "178143               missrat               missrat          missraten   \n",
       "497337            missratene            missratene          missraten   \n",
       "497338           missratenes           missratenes          missraten   \n",
       "497339           missratener           missratener          missraten   \n",
       "497340           missratenen           missratenen          missraten   \n",
       "497341           missratenem           missratenem          missraten   \n",
       "625584     gefrierzutrocknen     gefrierzutrocknen    gefriertrocknen   \n",
       "625585        gefriertrockne        gefriertrockne    gefriertrocknen   \n",
       "625586       gefriertrocknet       gefriertrocknet    gefriertrocknen   \n",
       "625587      gefriertrocknest      gefriertrocknest    gefriertrocknen   \n",
       "625588      gefriertrocknete      gefriertrocknete    gefriertrocknen   \n",
       "625589    gefriertrocknetest    gefriertrocknetest    gefriertrocknen   \n",
       "625590     gefriertrockneten     gefriertrockneten    gefriertrocknen   \n",
       "625591     gefriertrocknetet     gefriertrocknetet    gefriertrocknen   \n",
       "625597   gefrierzutrocknende   gefrierzutrocknende    gefriertrocknen   \n",
       "625598  gefrierzutrocknendem  gefrierzutrocknendem    gefriertrocknen   \n",
       "625599  gefrierzutrocknenden  gefrierzutrocknenden    gefriertrocknen   \n",
       "625600  gefrierzutrocknender  gefrierzutrocknender    gefriertrocknen   \n",
       "625601  gefrierzutrocknendes  gefrierzutrocknendes    gefriertrocknen   \n",
       "\n",
       "              lemma_lower    tag  tag_0       tag_1  tagZ tagZZ  \\\n",
       "63700   gefriergetrocknet  LEX_A  LEX_A  qfxGEFcaEM  <NA>         \n",
       "63701   gefriergetrocknet  LEX_A  LEX_A  cSrtFUpYCE  <NA>         \n",
       "63702   gefriergetrocknet  LEX_A  LEX_A  cJeBRmnkEZ  <NA>         \n",
       "63703   gefriergetrocknet  LEX_A  LEX_A  ztSD6oEkot  <NA>         \n",
       "63704   gefriergetrocknet  LEX_A  LEX_A  UYh5zwEhfx  <NA>         \n",
       "178132          missraten  LEX_V  LEX_V  y9ZTeYS8SU  <NA>         \n",
       "178133          missraten  LEX_V  LEX_V  VhpO1YDYiF  <NA>         \n",
       "178134          missraten  LEX_V  LEX_V  5Jms1aP5H9  <NA>         \n",
       "178135          missraten  LEX_V  LEX_V  N0lyUCwTOa  <NA>         \n",
       "178136          missraten  LEX_V  LEX_V  p6ksoWbv4K  <NA>         \n",
       "178137          missraten  LEX_V  LEX_V  ABDkLdtzEs  <NA>         \n",
       "178138          missraten  LEX_V  LEX_V  qAbhpS76tt  <NA>         \n",
       "178139          missraten  LEX_V  LEX_V  BOBxYuoohY  <NA>         \n",
       "178140          missraten  LEX_V  LEX_V  v1mBxMLjcB  <NA>         \n",
       "178141          missraten  LEX_V  LEX_V  x4gwnCOvaT  <NA>         \n",
       "178142          missraten  LEX_V  LEX_V  jsNDCQhyPM  <NA>         \n",
       "178143          missraten  LEX_V  LEX_V  CTNtsfhX4D  <NA>         \n",
       "497337          missraten  LEX_A  LEX_A  3P2rsBDB3U  <NA>         \n",
       "497338          missraten  LEX_A  LEX_A  br6vYqpXFY  <NA>         \n",
       "497339          missraten  LEX_A  LEX_A  DzOVma9k4l  <NA>         \n",
       "497340          missraten  LEX_A  LEX_A  VZ3MYcMPnP  <NA>         \n",
       "497341          missraten  LEX_A  LEX_A  lsCNroyOi6  <NA>         \n",
       "625584    gefriertrocknen  LEX_V  LEX_V  3DLDV6uP1M  <NA>         \n",
       "625585    gefriertrocknen  LEX_V  LEX_V  BaSRlEoxK0  <NA>         \n",
       "625586    gefriertrocknen  LEX_V  LEX_V  hqLOq1VMi5  <NA>         \n",
       "625587    gefriertrocknen  LEX_V  LEX_V  OSmrUBU98Z  <NA>         \n",
       "625588    gefriertrocknen  LEX_V  LEX_V  ss6UGaJGSt  <NA>         \n",
       "625589    gefriertrocknen  LEX_V  LEX_V  yje5CSqhZZ  <NA>         \n",
       "625590    gefriertrocknen  LEX_V  LEX_V  jaCgxfnTqk  <NA>         \n",
       "625591    gefriertrocknen  LEX_V  LEX_V  g2NzkBPzpw  <NA>         \n",
       "625597    gefriertrocknen  LEX_A  LEX_A  i4f5iRCOFa  <NA>         \n",
       "625598    gefriertrocknen  LEX_A  LEX_A  zf1ff572bZ  <NA>         \n",
       "625599    gefriertrocknen  LEX_A  LEX_A  DxzOPFVgE0  <NA>         \n",
       "625600    gefriertrocknen  LEX_A  LEX_A  Y0KIDQDTwI  <NA>         \n",
       "625601    gefriertrocknen  LEX_A  LEX_A  B6xnJefbok  <NA>         \n",
       "\n",
       "                                  member     score  \n",
       "63700                   Deklinierte_Form  0.822449  \n",
       "63701                   Deklinierte_Form  2.253350  \n",
       "63702                   Deklinierte_Form  1.298417  \n",
       "63703                   Deklinierte_Form  1.166870  \n",
       "63704                   Deklinierte_Form  1.848965  \n",
       "178132             Konjugierte_Form Verb  0.963265  \n",
       "178133             Konjugierte_Form Verb  1.144945  \n",
       "178134             Konjugierte_Form Verb  0.812245  \n",
       "178135             Konjugierte_Form Verb  0.993878  \n",
       "178136             Konjugierte_Form Verb  0.810204  \n",
       "178137             Konjugierte_Form Verb  0.871429  \n",
       "178138             Konjugierte_Form Verb  0.612245  \n",
       "178139             Konjugierte_Form Verb  0.651020  \n",
       "178140             Konjugierte_Form Verb  0.636735  \n",
       "178141             Konjugierte_Form Verb  1.030451  \n",
       "178142             Konjugierte_Form Verb  1.200974  \n",
       "178143             Konjugierte_Form Verb  0.675510  \n",
       "497337                  Deklinierte_Form  1.940317  \n",
       "497338                  Deklinierte_Form  1.194884  \n",
       "497339                  Deklinierte_Form  1.315469  \n",
       "497340                  Deklinierte_Form  2.260658  \n",
       "497341                  Deklinierte_Form  0.902041  \n",
       "625584        Erweiterter_Infinitiv Verb  0.524490  \n",
       "625585             Konjugierte_Form Verb  1.012180  \n",
       "625586             Konjugierte_Form Verb  1.004872  \n",
       "625587             Konjugierte_Form Verb  0.702041  \n",
       "625588             Konjugierte_Form Verb  1.037759  \n",
       "625589             Konjugierte_Form Verb  0.730612  \n",
       "625590             Konjugierte_Form Verb  1.031669  \n",
       "625591             Konjugierte_Form Verb  0.716327  \n",
       "625597  Dekliniertes_Gerundivum Adjektiv  1.834348  \n",
       "625598  Dekliniertes_Gerundivum Adjektiv  0.897959  \n",
       "625599  Dekliniertes_Gerundivum Adjektiv  2.213155  \n",
       "625600  Dekliniertes_Gerundivum Adjektiv  1.317905  \n",
       "625601  Dekliniertes_Gerundivum Adjektiv  1.194884  "
      ]
     },
     "execution_count": 42,
     "metadata": {},
     "output_type": "execute_result"
    },
    {
     "name": "stdout",
     "output_type": "stream",
     "text": [
      "time: 511 ms\n"
     ]
    }
   ],
   "source": [
    "# suche_debug \n",
    "search_str(wiktionary_nolemma, suche_debug)"
   ]
  },
  {
   "cell_type": "code",
   "execution_count": 43,
   "id": "754b697f-fd3d-4dc6-902d-2b76c01e2451",
   "metadata": {},
   "outputs": [
    {
     "name": "stdout",
     "output_type": "stream",
     "text": [
      "time: 52.5 ms\n"
     ]
    }
   ],
   "source": [
    "# lemma_tagZZ\n",
    "wiktionary_nolemma['lemma_tagZZ'] = wiktionary_nolemma.tagZZ\n",
    "wiktionary_nolemma = pak.move_cols(wiktionary_nolemma,'lemma_tagZZ','lemma_lower')"
   ]
  },
  {
   "cell_type": "code",
   "execution_count": 44,
   "id": "092f0d10-36d2-4221-a74e-6eef1bb2b34e",
   "metadata": {},
   "outputs": [
    {
     "name": "stdout",
     "output_type": "stream",
     "text": [
      "check_mask:  175707 rows\n",
      "time: 1.09 s\n"
     ]
    }
   ],
   "source": [
    "# lemma_tagZZ = 'N' schreiben \n",
    "mask1 =  wiktionary_nolemma.tag.isin(['LEX_A','NN','NE'])\n",
    "mask2a = wiktionary_nolemma.member.str.contains('Deklinierte_Form')\n",
    "mask2b = wiktionary_nolemma.member.str.contains('Substantiv')\n",
    "mask2c = wiktionary_nolemma.member.str.contains('adjektivische_Deklination')\n",
    "mask3 =  wiktionary_nolemma.lemma.str[0].str.isupper()\n",
    "mask4 =  wiktionary_nolemma.lemma_tagZZ == ''\n",
    "mask = mask1  &  (mask2a | mask2b | mask2c)  &  mask3  &  mask4\n",
    "check_mask(wiktionary_nolemma,mask, 175735)\n",
    "#wiktionary_nolemma[mask] \n",
    "wiktionary_nolemma.loc[mask,'lemma_tagZZ'] = 'N'"
   ]
  },
  {
   "cell_type": "code",
   "execution_count": 45,
   "id": "add255a2-10e4-4f41-8560-712dcba99506",
   "metadata": {},
   "outputs": [
    {
     "name": "stdout",
     "output_type": "stream",
     "text": [
      "check_mask:  208878 rows\n",
      "time: 1.53 s\n"
     ]
    }
   ],
   "source": [
    "# lemma_tagZZ = 'V' schreiben\n",
    "mask1 =  wiktionary_nolemma.tag == 'LEX_V'\n",
    "mask2a = wiktionary_nolemma.member.str.contains('Verb') \n",
    "mask2b = wiktionary_nolemma.member.str.contains('Konjugierte_Form')\n",
    "mask2c = wiktionary_nolemma.member.str.contains('Erweiterter_Infinitiv') \n",
    "mask3a = wiktionary_nolemma.lemma.str[0].str.islower()\n",
    "mask3b = wiktionary_nolemma.lemma.str.contains(' ')\n",
    "mask4 =  wiktionary_nolemma.lemma_tagZZ == ''\n",
    "mask5 =  wiktionary_nolemma.lemma.str.endswith(verbendungen) # definiert in Steuertabellen\n",
    "mask = mask1  &  (mask2a | mask2b | mask2c)  &  (mask3a | mask3b)  &  mask4  &  mask5\n",
    "check_mask(wiktionary_nolemma,mask, 208898)\n",
    "#wiktionary_nolemma[mask] \n",
    "wiktionary_nolemma.loc[mask,'lemma_tagZZ'] = 'V'"
   ]
  },
  {
   "cell_type": "code",
   "execution_count": 46,
   "id": "e3eaf9de-7517-46c6-bc39-e413f9051258",
   "metadata": {},
   "outputs": [
    {
     "name": "stdout",
     "output_type": "stream",
     "text": [
      "check_mask:  16065 rows\n",
      "time: 988 ms\n"
     ]
    }
   ],
   "source": [
    "# lemma_tagZZ = 'V' schreiben\n",
    "mask1 =  wiktionary_nolemma.tag == 'LEX_A'\n",
    "mask2 =  wiktionary_nolemma.member.str.contains('Dekliniertes_Gerundivum')\n",
    "mask3a = wiktionary_nolemma.lemma.str[0].str.islower()\n",
    "mask3b = wiktionary_nolemma.lemma.str.contains(' ')\n",
    "mask4 =  wiktionary_nolemma.lemma_tagZZ == ''\n",
    "mask5 =  wiktionary_nolemma.lemma.str.endswith(verbendungen) # definiert in Steuertabellen\n",
    "mask = mask1  &  mask2  &  (mask3a | mask3b)  &  mask4  &  mask5\n",
    "check_mask(wiktionary_nolemma,mask, 16065)\n",
    "#wiktionary_nolemma[mask] \n",
    "wiktionary_nolemma.loc[mask,'lemma_tagZZ'] = 'V'"
   ]
  },
  {
   "cell_type": "code",
   "execution_count": 47,
   "id": "344a8cb4-d6d1-4280-8121-5cb035a7881e",
   "metadata": {},
   "outputs": [
    {
     "name": "stdout",
     "output_type": "stream",
     "text": [
      "check_mask:  243296 rows\n",
      "time: 1.58 s\n"
     ]
    }
   ],
   "source": [
    "# lemma_tagZZ = 'A' schreiben\n",
    "mask1 =  wiktionary_nolemma.tag == 'LEX_A'\n",
    "mask2a = wiktionary_nolemma.member.str.contains('Deklinierte_Form')  &  ~wiktionary_nolemma.member.str.contains('Artikel')  \n",
    "mask2b = wiktionary_nolemma.member.str.contains('Adjektiv')\n",
    "mask2c = wiktionary_nolemma.member.str.contains('Komparativ')\n",
    "mask2d = wiktionary_nolemma.member.str.contains('Superlativ')\n",
    "mask3 =  wiktionary_nolemma.lemma.str[0].str.islower()\n",
    "mask4 =  wiktionary_nolemma.lemma_tagZZ == ''\n",
    "mask = mask1  &  (mask2a | mask2b | mask2c | mask2d)  &  mask3  &  mask4 \n",
    "check_mask(wiktionary_nolemma,mask,243281)\n",
    "#wiktionary_nolemma[mask] \n",
    "wiktionary_nolemma.loc[mask,'lemma_tagZZ'] = 'A'"
   ]
  },
  {
   "cell_type": "code",
   "execution_count": 48,
   "id": "27ac9d00-c3f7-4949-9b09-8808a0fd9f17",
   "metadata": {},
   "outputs": [
    {
     "data": {
      "text/html": [
       "<div>\n",
       "<style scoped>\n",
       "    .dataframe tbody tr th:only-of-type {\n",
       "        vertical-align: middle;\n",
       "    }\n",
       "\n",
       "    .dataframe tbody tr th {\n",
       "        vertical-align: top;\n",
       "    }\n",
       "\n",
       "    .dataframe thead th {\n",
       "        text-align: right;\n",
       "    }\n",
       "</style>\n",
       "<table border=\"1\" class=\"dataframe\">\n",
       "  <thead>\n",
       "    <tr style=\"text-align: right;\">\n",
       "      <th></th>\n",
       "      <th>nolemma_id</th>\n",
       "      <th>lex</th>\n",
       "      <th>lemma</th>\n",
       "      <th>lemma_lower</th>\n",
       "      <th>lemma_tagZZ</th>\n",
       "      <th>tag</th>\n",
       "      <th>tag_0</th>\n",
       "      <th>tag_1</th>\n",
       "      <th>tagZ</th>\n",
       "      <th>tagZZ</th>\n",
       "      <th>member</th>\n",
       "      <th>score</th>\n",
       "    </tr>\n",
       "  </thead>\n",
       "  <tbody>\n",
       "    <tr>\n",
       "      <th>63700</th>\n",
       "      <td>gefriergetrocknetem</td>\n",
       "      <td>gefriergetrocknetem</td>\n",
       "      <td>gefriergetrocknet</td>\n",
       "      <td>gefriergetrocknet</td>\n",
       "      <td>A</td>\n",
       "      <td>LEX_A</td>\n",
       "      <td>LEX_A</td>\n",
       "      <td>qfxGEFcaEM</td>\n",
       "      <td>&lt;NA&gt;</td>\n",
       "      <td></td>\n",
       "      <td>Deklinierte_Form</td>\n",
       "      <td>0.822449</td>\n",
       "    </tr>\n",
       "    <tr>\n",
       "      <th>63701</th>\n",
       "      <td>gefriergetrockneten</td>\n",
       "      <td>gefriergetrockneten</td>\n",
       "      <td>gefriergetrocknet</td>\n",
       "      <td>gefriergetrocknet</td>\n",
       "      <td>A</td>\n",
       "      <td>LEX_A</td>\n",
       "      <td>LEX_A</td>\n",
       "      <td>cSrtFUpYCE</td>\n",
       "      <td>&lt;NA&gt;</td>\n",
       "      <td></td>\n",
       "      <td>Deklinierte_Form</td>\n",
       "      <td>2.253350</td>\n",
       "    </tr>\n",
       "    <tr>\n",
       "      <th>63702</th>\n",
       "      <td>gefriergetrockneter</td>\n",
       "      <td>gefriergetrockneter</td>\n",
       "      <td>gefriergetrocknet</td>\n",
       "      <td>gefriergetrocknet</td>\n",
       "      <td>A</td>\n",
       "      <td>LEX_A</td>\n",
       "      <td>LEX_A</td>\n",
       "      <td>cJeBRmnkEZ</td>\n",
       "      <td>&lt;NA&gt;</td>\n",
       "      <td></td>\n",
       "      <td>Deklinierte_Form</td>\n",
       "      <td>1.298417</td>\n",
       "    </tr>\n",
       "    <tr>\n",
       "      <th>63703</th>\n",
       "      <td>gefriergetrocknetes</td>\n",
       "      <td>gefriergetrocknetes</td>\n",
       "      <td>gefriergetrocknet</td>\n",
       "      <td>gefriergetrocknet</td>\n",
       "      <td>A</td>\n",
       "      <td>LEX_A</td>\n",
       "      <td>LEX_A</td>\n",
       "      <td>ztSD6oEkot</td>\n",
       "      <td>&lt;NA&gt;</td>\n",
       "      <td></td>\n",
       "      <td>Deklinierte_Form</td>\n",
       "      <td>1.166870</td>\n",
       "    </tr>\n",
       "    <tr>\n",
       "      <th>63704</th>\n",
       "      <td>gefriergetrocknete</td>\n",
       "      <td>gefriergetrocknete</td>\n",
       "      <td>gefriergetrocknet</td>\n",
       "      <td>gefriergetrocknet</td>\n",
       "      <td>A</td>\n",
       "      <td>LEX_A</td>\n",
       "      <td>LEX_A</td>\n",
       "      <td>UYh5zwEhfx</td>\n",
       "      <td>&lt;NA&gt;</td>\n",
       "      <td></td>\n",
       "      <td>Deklinierte_Form</td>\n",
       "      <td>1.848965</td>\n",
       "    </tr>\n",
       "    <tr>\n",
       "      <th>178132</th>\n",
       "      <td>missrietet</td>\n",
       "      <td>missrietet</td>\n",
       "      <td>missraten</td>\n",
       "      <td>missraten</td>\n",
       "      <td>V</td>\n",
       "      <td>LEX_V</td>\n",
       "      <td>LEX_V</td>\n",
       "      <td>y9ZTeYS8SU</td>\n",
       "      <td>&lt;NA&gt;</td>\n",
       "      <td></td>\n",
       "      <td>Konjugierte_Form Verb</td>\n",
       "      <td>0.963265</td>\n",
       "    </tr>\n",
       "    <tr>\n",
       "      <th>178133</th>\n",
       "      <td>missrieten</td>\n",
       "      <td>missrieten</td>\n",
       "      <td>missraten</td>\n",
       "      <td>missraten</td>\n",
       "      <td>V</td>\n",
       "      <td>LEX_V</td>\n",
       "      <td>LEX_V</td>\n",
       "      <td>VhpO1YDYiF</td>\n",
       "      <td>&lt;NA&gt;</td>\n",
       "      <td></td>\n",
       "      <td>Konjugierte_Form Verb</td>\n",
       "      <td>1.144945</td>\n",
       "    </tr>\n",
       "    <tr>\n",
       "      <th>178134</th>\n",
       "      <td>missrietst</td>\n",
       "      <td>missrietst</td>\n",
       "      <td>missraten</td>\n",
       "      <td>missraten</td>\n",
       "      <td>V</td>\n",
       "      <td>LEX_V</td>\n",
       "      <td>LEX_V</td>\n",
       "      <td>5Jms1aP5H9</td>\n",
       "      <td>&lt;NA&gt;</td>\n",
       "      <td></td>\n",
       "      <td>Konjugierte_Form Verb</td>\n",
       "      <td>0.812245</td>\n",
       "    </tr>\n",
       "    <tr>\n",
       "      <th>178135</th>\n",
       "      <td>missrietest</td>\n",
       "      <td>missrietest</td>\n",
       "      <td>missraten</td>\n",
       "      <td>missraten</td>\n",
       "      <td>V</td>\n",
       "      <td>LEX_V</td>\n",
       "      <td>LEX_V</td>\n",
       "      <td>N0lyUCwTOa</td>\n",
       "      <td>&lt;NA&gt;</td>\n",
       "      <td></td>\n",
       "      <td>Konjugierte_Form Verb</td>\n",
       "      <td>0.993878</td>\n",
       "    </tr>\n",
       "    <tr>\n",
       "      <th>178136</th>\n",
       "      <td>missriete</td>\n",
       "      <td>missriete</td>\n",
       "      <td>missraten</td>\n",
       "      <td>missraten</td>\n",
       "      <td>V</td>\n",
       "      <td>LEX_V</td>\n",
       "      <td>LEX_V</td>\n",
       "      <td>p6ksoWbv4K</td>\n",
       "      <td>&lt;NA&gt;</td>\n",
       "      <td></td>\n",
       "      <td>Konjugierte_Form Verb</td>\n",
       "      <td>0.810204</td>\n",
       "    </tr>\n",
       "    <tr>\n",
       "      <th>178137</th>\n",
       "      <td>missriet</td>\n",
       "      <td>missriet</td>\n",
       "      <td>missraten</td>\n",
       "      <td>missraten</td>\n",
       "      <td>V</td>\n",
       "      <td>LEX_V</td>\n",
       "      <td>LEX_V</td>\n",
       "      <td>ABDkLdtzEs</td>\n",
       "      <td>&lt;NA&gt;</td>\n",
       "      <td></td>\n",
       "      <td>Konjugierte_Form Verb</td>\n",
       "      <td>0.871429</td>\n",
       "    </tr>\n",
       "    <tr>\n",
       "      <th>178138</th>\n",
       "      <td>missrät</td>\n",
       "      <td>missrät</td>\n",
       "      <td>missraten</td>\n",
       "      <td>missraten</td>\n",
       "      <td>V</td>\n",
       "      <td>LEX_V</td>\n",
       "      <td>LEX_V</td>\n",
       "      <td>qAbhpS76tt</td>\n",
       "      <td>&lt;NA&gt;</td>\n",
       "      <td></td>\n",
       "      <td>Konjugierte_Form Verb</td>\n",
       "      <td>0.612245</td>\n",
       "    </tr>\n",
       "    <tr>\n",
       "      <th>178139</th>\n",
       "      <td>missratest</td>\n",
       "      <td>missratest</td>\n",
       "      <td>missraten</td>\n",
       "      <td>missraten</td>\n",
       "      <td>V</td>\n",
       "      <td>LEX_V</td>\n",
       "      <td>LEX_V</td>\n",
       "      <td>BOBxYuoohY</td>\n",
       "      <td>&lt;NA&gt;</td>\n",
       "      <td></td>\n",
       "      <td>Konjugierte_Form Verb</td>\n",
       "      <td>0.651020</td>\n",
       "    </tr>\n",
       "    <tr>\n",
       "      <th>178140</th>\n",
       "      <td>missrätst</td>\n",
       "      <td>missrätst</td>\n",
       "      <td>missraten</td>\n",
       "      <td>missraten</td>\n",
       "      <td>V</td>\n",
       "      <td>LEX_V</td>\n",
       "      <td>LEX_V</td>\n",
       "      <td>v1mBxMLjcB</td>\n",
       "      <td>&lt;NA&gt;</td>\n",
       "      <td></td>\n",
       "      <td>Konjugierte_Form Verb</td>\n",
       "      <td>0.636735</td>\n",
       "    </tr>\n",
       "    <tr>\n",
       "      <th>178141</th>\n",
       "      <td>missratet</td>\n",
       "      <td>missratet</td>\n",
       "      <td>missraten</td>\n",
       "      <td>missraten</td>\n",
       "      <td>V</td>\n",
       "      <td>LEX_V</td>\n",
       "      <td>LEX_V</td>\n",
       "      <td>x4gwnCOvaT</td>\n",
       "      <td>&lt;NA&gt;</td>\n",
       "      <td></td>\n",
       "      <td>Konjugierte_Form Verb</td>\n",
       "      <td>1.030451</td>\n",
       "    </tr>\n",
       "    <tr>\n",
       "      <th>178142</th>\n",
       "      <td>missrate</td>\n",
       "      <td>missrate</td>\n",
       "      <td>missraten</td>\n",
       "      <td>missraten</td>\n",
       "      <td>V</td>\n",
       "      <td>LEX_V</td>\n",
       "      <td>LEX_V</td>\n",
       "      <td>jsNDCQhyPM</td>\n",
       "      <td>&lt;NA&gt;</td>\n",
       "      <td></td>\n",
       "      <td>Konjugierte_Form Verb</td>\n",
       "      <td>1.200974</td>\n",
       "    </tr>\n",
       "    <tr>\n",
       "      <th>178143</th>\n",
       "      <td>missrat</td>\n",
       "      <td>missrat</td>\n",
       "      <td>missraten</td>\n",
       "      <td>missraten</td>\n",
       "      <td>V</td>\n",
       "      <td>LEX_V</td>\n",
       "      <td>LEX_V</td>\n",
       "      <td>CTNtsfhX4D</td>\n",
       "      <td>&lt;NA&gt;</td>\n",
       "      <td></td>\n",
       "      <td>Konjugierte_Form Verb</td>\n",
       "      <td>0.675510</td>\n",
       "    </tr>\n",
       "    <tr>\n",
       "      <th>497337</th>\n",
       "      <td>missratene</td>\n",
       "      <td>missratene</td>\n",
       "      <td>missraten</td>\n",
       "      <td>missraten</td>\n",
       "      <td>A</td>\n",
       "      <td>LEX_A</td>\n",
       "      <td>LEX_A</td>\n",
       "      <td>3P2rsBDB3U</td>\n",
       "      <td>&lt;NA&gt;</td>\n",
       "      <td></td>\n",
       "      <td>Deklinierte_Form</td>\n",
       "      <td>1.940317</td>\n",
       "    </tr>\n",
       "    <tr>\n",
       "      <th>497338</th>\n",
       "      <td>missratenes</td>\n",
       "      <td>missratenes</td>\n",
       "      <td>missraten</td>\n",
       "      <td>missraten</td>\n",
       "      <td>A</td>\n",
       "      <td>LEX_A</td>\n",
       "      <td>LEX_A</td>\n",
       "      <td>br6vYqpXFY</td>\n",
       "      <td>&lt;NA&gt;</td>\n",
       "      <td></td>\n",
       "      <td>Deklinierte_Form</td>\n",
       "      <td>1.194884</td>\n",
       "    </tr>\n",
       "    <tr>\n",
       "      <th>497339</th>\n",
       "      <td>missratener</td>\n",
       "      <td>missratener</td>\n",
       "      <td>missraten</td>\n",
       "      <td>missraten</td>\n",
       "      <td>A</td>\n",
       "      <td>LEX_A</td>\n",
       "      <td>LEX_A</td>\n",
       "      <td>DzOVma9k4l</td>\n",
       "      <td>&lt;NA&gt;</td>\n",
       "      <td></td>\n",
       "      <td>Deklinierte_Form</td>\n",
       "      <td>1.315469</td>\n",
       "    </tr>\n",
       "    <tr>\n",
       "      <th>497340</th>\n",
       "      <td>missratenen</td>\n",
       "      <td>missratenen</td>\n",
       "      <td>missraten</td>\n",
       "      <td>missraten</td>\n",
       "      <td>A</td>\n",
       "      <td>LEX_A</td>\n",
       "      <td>LEX_A</td>\n",
       "      <td>VZ3MYcMPnP</td>\n",
       "      <td>&lt;NA&gt;</td>\n",
       "      <td></td>\n",
       "      <td>Deklinierte_Form</td>\n",
       "      <td>2.260658</td>\n",
       "    </tr>\n",
       "    <tr>\n",
       "      <th>497341</th>\n",
       "      <td>missratenem</td>\n",
       "      <td>missratenem</td>\n",
       "      <td>missraten</td>\n",
       "      <td>missraten</td>\n",
       "      <td>A</td>\n",
       "      <td>LEX_A</td>\n",
       "      <td>LEX_A</td>\n",
       "      <td>lsCNroyOi6</td>\n",
       "      <td>&lt;NA&gt;</td>\n",
       "      <td></td>\n",
       "      <td>Deklinierte_Form</td>\n",
       "      <td>0.902041</td>\n",
       "    </tr>\n",
       "    <tr>\n",
       "      <th>625584</th>\n",
       "      <td>gefrierzutrocknen</td>\n",
       "      <td>gefrierzutrocknen</td>\n",
       "      <td>gefriertrocknen</td>\n",
       "      <td>gefriertrocknen</td>\n",
       "      <td>V</td>\n",
       "      <td>LEX_V</td>\n",
       "      <td>LEX_V</td>\n",
       "      <td>3DLDV6uP1M</td>\n",
       "      <td>&lt;NA&gt;</td>\n",
       "      <td></td>\n",
       "      <td>Erweiterter_Infinitiv Verb</td>\n",
       "      <td>0.524490</td>\n",
       "    </tr>\n",
       "    <tr>\n",
       "      <th>625585</th>\n",
       "      <td>gefriertrockne</td>\n",
       "      <td>gefriertrockne</td>\n",
       "      <td>gefriertrocknen</td>\n",
       "      <td>gefriertrocknen</td>\n",
       "      <td>V</td>\n",
       "      <td>LEX_V</td>\n",
       "      <td>LEX_V</td>\n",
       "      <td>BaSRlEoxK0</td>\n",
       "      <td>&lt;NA&gt;</td>\n",
       "      <td></td>\n",
       "      <td>Konjugierte_Form Verb</td>\n",
       "      <td>1.012180</td>\n",
       "    </tr>\n",
       "    <tr>\n",
       "      <th>625586</th>\n",
       "      <td>gefriertrocknet</td>\n",
       "      <td>gefriertrocknet</td>\n",
       "      <td>gefriertrocknen</td>\n",
       "      <td>gefriertrocknen</td>\n",
       "      <td>V</td>\n",
       "      <td>LEX_V</td>\n",
       "      <td>LEX_V</td>\n",
       "      <td>hqLOq1VMi5</td>\n",
       "      <td>&lt;NA&gt;</td>\n",
       "      <td></td>\n",
       "      <td>Konjugierte_Form Verb</td>\n",
       "      <td>1.004872</td>\n",
       "    </tr>\n",
       "    <tr>\n",
       "      <th>625587</th>\n",
       "      <td>gefriertrocknest</td>\n",
       "      <td>gefriertrocknest</td>\n",
       "      <td>gefriertrocknen</td>\n",
       "      <td>gefriertrocknen</td>\n",
       "      <td>V</td>\n",
       "      <td>LEX_V</td>\n",
       "      <td>LEX_V</td>\n",
       "      <td>OSmrUBU98Z</td>\n",
       "      <td>&lt;NA&gt;</td>\n",
       "      <td></td>\n",
       "      <td>Konjugierte_Form Verb</td>\n",
       "      <td>0.702041</td>\n",
       "    </tr>\n",
       "    <tr>\n",
       "      <th>625588</th>\n",
       "      <td>gefriertrocknete</td>\n",
       "      <td>gefriertrocknete</td>\n",
       "      <td>gefriertrocknen</td>\n",
       "      <td>gefriertrocknen</td>\n",
       "      <td>V</td>\n",
       "      <td>LEX_V</td>\n",
       "      <td>LEX_V</td>\n",
       "      <td>ss6UGaJGSt</td>\n",
       "      <td>&lt;NA&gt;</td>\n",
       "      <td></td>\n",
       "      <td>Konjugierte_Form Verb</td>\n",
       "      <td>1.037759</td>\n",
       "    </tr>\n",
       "    <tr>\n",
       "      <th>625589</th>\n",
       "      <td>gefriertrocknetest</td>\n",
       "      <td>gefriertrocknetest</td>\n",
       "      <td>gefriertrocknen</td>\n",
       "      <td>gefriertrocknen</td>\n",
       "      <td>V</td>\n",
       "      <td>LEX_V</td>\n",
       "      <td>LEX_V</td>\n",
       "      <td>yje5CSqhZZ</td>\n",
       "      <td>&lt;NA&gt;</td>\n",
       "      <td></td>\n",
       "      <td>Konjugierte_Form Verb</td>\n",
       "      <td>0.730612</td>\n",
       "    </tr>\n",
       "    <tr>\n",
       "      <th>625590</th>\n",
       "      <td>gefriertrockneten</td>\n",
       "      <td>gefriertrockneten</td>\n",
       "      <td>gefriertrocknen</td>\n",
       "      <td>gefriertrocknen</td>\n",
       "      <td>V</td>\n",
       "      <td>LEX_V</td>\n",
       "      <td>LEX_V</td>\n",
       "      <td>jaCgxfnTqk</td>\n",
       "      <td>&lt;NA&gt;</td>\n",
       "      <td></td>\n",
       "      <td>Konjugierte_Form Verb</td>\n",
       "      <td>1.031669</td>\n",
       "    </tr>\n",
       "    <tr>\n",
       "      <th>625591</th>\n",
       "      <td>gefriertrocknetet</td>\n",
       "      <td>gefriertrocknetet</td>\n",
       "      <td>gefriertrocknen</td>\n",
       "      <td>gefriertrocknen</td>\n",
       "      <td>V</td>\n",
       "      <td>LEX_V</td>\n",
       "      <td>LEX_V</td>\n",
       "      <td>g2NzkBPzpw</td>\n",
       "      <td>&lt;NA&gt;</td>\n",
       "      <td></td>\n",
       "      <td>Konjugierte_Form Verb</td>\n",
       "      <td>0.716327</td>\n",
       "    </tr>\n",
       "    <tr>\n",
       "      <th>625597</th>\n",
       "      <td>gefrierzutrocknende</td>\n",
       "      <td>gefrierzutrocknende</td>\n",
       "      <td>gefriertrocknen</td>\n",
       "      <td>gefriertrocknen</td>\n",
       "      <td>V</td>\n",
       "      <td>LEX_A</td>\n",
       "      <td>LEX_A</td>\n",
       "      <td>i4f5iRCOFa</td>\n",
       "      <td>&lt;NA&gt;</td>\n",
       "      <td></td>\n",
       "      <td>Dekliniertes_Gerundivum Adjektiv</td>\n",
       "      <td>1.834348</td>\n",
       "    </tr>\n",
       "    <tr>\n",
       "      <th>625598</th>\n",
       "      <td>gefrierzutrocknendem</td>\n",
       "      <td>gefrierzutrocknendem</td>\n",
       "      <td>gefriertrocknen</td>\n",
       "      <td>gefriertrocknen</td>\n",
       "      <td>V</td>\n",
       "      <td>LEX_A</td>\n",
       "      <td>LEX_A</td>\n",
       "      <td>zf1ff572bZ</td>\n",
       "      <td>&lt;NA&gt;</td>\n",
       "      <td></td>\n",
       "      <td>Dekliniertes_Gerundivum Adjektiv</td>\n",
       "      <td>0.897959</td>\n",
       "    </tr>\n",
       "    <tr>\n",
       "      <th>625599</th>\n",
       "      <td>gefrierzutrocknenden</td>\n",
       "      <td>gefrierzutrocknenden</td>\n",
       "      <td>gefriertrocknen</td>\n",
       "      <td>gefriertrocknen</td>\n",
       "      <td>V</td>\n",
       "      <td>LEX_A</td>\n",
       "      <td>LEX_A</td>\n",
       "      <td>DxzOPFVgE0</td>\n",
       "      <td>&lt;NA&gt;</td>\n",
       "      <td></td>\n",
       "      <td>Dekliniertes_Gerundivum Adjektiv</td>\n",
       "      <td>2.213155</td>\n",
       "    </tr>\n",
       "    <tr>\n",
       "      <th>625600</th>\n",
       "      <td>gefrierzutrocknender</td>\n",
       "      <td>gefrierzutrocknender</td>\n",
       "      <td>gefriertrocknen</td>\n",
       "      <td>gefriertrocknen</td>\n",
       "      <td>V</td>\n",
       "      <td>LEX_A</td>\n",
       "      <td>LEX_A</td>\n",
       "      <td>Y0KIDQDTwI</td>\n",
       "      <td>&lt;NA&gt;</td>\n",
       "      <td></td>\n",
       "      <td>Dekliniertes_Gerundivum Adjektiv</td>\n",
       "      <td>1.317905</td>\n",
       "    </tr>\n",
       "    <tr>\n",
       "      <th>625601</th>\n",
       "      <td>gefrierzutrocknendes</td>\n",
       "      <td>gefrierzutrocknendes</td>\n",
       "      <td>gefriertrocknen</td>\n",
       "      <td>gefriertrocknen</td>\n",
       "      <td>V</td>\n",
       "      <td>LEX_A</td>\n",
       "      <td>LEX_A</td>\n",
       "      <td>B6xnJefbok</td>\n",
       "      <td>&lt;NA&gt;</td>\n",
       "      <td></td>\n",
       "      <td>Dekliniertes_Gerundivum Adjektiv</td>\n",
       "      <td>1.194884</td>\n",
       "    </tr>\n",
       "  </tbody>\n",
       "</table>\n",
       "</div>"
      ],
      "text/plain": [
       "                  nolemma_id                   lex              lemma  \\\n",
       "63700    gefriergetrocknetem   gefriergetrocknetem  gefriergetrocknet   \n",
       "63701    gefriergetrockneten   gefriergetrockneten  gefriergetrocknet   \n",
       "63702    gefriergetrockneter   gefriergetrockneter  gefriergetrocknet   \n",
       "63703    gefriergetrocknetes   gefriergetrocknetes  gefriergetrocknet   \n",
       "63704     gefriergetrocknete    gefriergetrocknete  gefriergetrocknet   \n",
       "178132            missrietet            missrietet          missraten   \n",
       "178133            missrieten            missrieten          missraten   \n",
       "178134            missrietst            missrietst          missraten   \n",
       "178135           missrietest           missrietest          missraten   \n",
       "178136             missriete             missriete          missraten   \n",
       "178137              missriet              missriet          missraten   \n",
       "178138               missrät               missrät          missraten   \n",
       "178139            missratest            missratest          missraten   \n",
       "178140             missrätst             missrätst          missraten   \n",
       "178141             missratet             missratet          missraten   \n",
       "178142              missrate              missrate          missraten   \n",
       "178143               missrat               missrat          missraten   \n",
       "497337            missratene            missratene          missraten   \n",
       "497338           missratenes           missratenes          missraten   \n",
       "497339           missratener           missratener          missraten   \n",
       "497340           missratenen           missratenen          missraten   \n",
       "497341           missratenem           missratenem          missraten   \n",
       "625584     gefrierzutrocknen     gefrierzutrocknen    gefriertrocknen   \n",
       "625585        gefriertrockne        gefriertrockne    gefriertrocknen   \n",
       "625586       gefriertrocknet       gefriertrocknet    gefriertrocknen   \n",
       "625587      gefriertrocknest      gefriertrocknest    gefriertrocknen   \n",
       "625588      gefriertrocknete      gefriertrocknete    gefriertrocknen   \n",
       "625589    gefriertrocknetest    gefriertrocknetest    gefriertrocknen   \n",
       "625590     gefriertrockneten     gefriertrockneten    gefriertrocknen   \n",
       "625591     gefriertrocknetet     gefriertrocknetet    gefriertrocknen   \n",
       "625597   gefrierzutrocknende   gefrierzutrocknende    gefriertrocknen   \n",
       "625598  gefrierzutrocknendem  gefrierzutrocknendem    gefriertrocknen   \n",
       "625599  gefrierzutrocknenden  gefrierzutrocknenden    gefriertrocknen   \n",
       "625600  gefrierzutrocknender  gefrierzutrocknender    gefriertrocknen   \n",
       "625601  gefrierzutrocknendes  gefrierzutrocknendes    gefriertrocknen   \n",
       "\n",
       "              lemma_lower lemma_tagZZ    tag  tag_0       tag_1  tagZ tagZZ  \\\n",
       "63700   gefriergetrocknet           A  LEX_A  LEX_A  qfxGEFcaEM  <NA>         \n",
       "63701   gefriergetrocknet           A  LEX_A  LEX_A  cSrtFUpYCE  <NA>         \n",
       "63702   gefriergetrocknet           A  LEX_A  LEX_A  cJeBRmnkEZ  <NA>         \n",
       "63703   gefriergetrocknet           A  LEX_A  LEX_A  ztSD6oEkot  <NA>         \n",
       "63704   gefriergetrocknet           A  LEX_A  LEX_A  UYh5zwEhfx  <NA>         \n",
       "178132          missraten           V  LEX_V  LEX_V  y9ZTeYS8SU  <NA>         \n",
       "178133          missraten           V  LEX_V  LEX_V  VhpO1YDYiF  <NA>         \n",
       "178134          missraten           V  LEX_V  LEX_V  5Jms1aP5H9  <NA>         \n",
       "178135          missraten           V  LEX_V  LEX_V  N0lyUCwTOa  <NA>         \n",
       "178136          missraten           V  LEX_V  LEX_V  p6ksoWbv4K  <NA>         \n",
       "178137          missraten           V  LEX_V  LEX_V  ABDkLdtzEs  <NA>         \n",
       "178138          missraten           V  LEX_V  LEX_V  qAbhpS76tt  <NA>         \n",
       "178139          missraten           V  LEX_V  LEX_V  BOBxYuoohY  <NA>         \n",
       "178140          missraten           V  LEX_V  LEX_V  v1mBxMLjcB  <NA>         \n",
       "178141          missraten           V  LEX_V  LEX_V  x4gwnCOvaT  <NA>         \n",
       "178142          missraten           V  LEX_V  LEX_V  jsNDCQhyPM  <NA>         \n",
       "178143          missraten           V  LEX_V  LEX_V  CTNtsfhX4D  <NA>         \n",
       "497337          missraten           A  LEX_A  LEX_A  3P2rsBDB3U  <NA>         \n",
       "497338          missraten           A  LEX_A  LEX_A  br6vYqpXFY  <NA>         \n",
       "497339          missraten           A  LEX_A  LEX_A  DzOVma9k4l  <NA>         \n",
       "497340          missraten           A  LEX_A  LEX_A  VZ3MYcMPnP  <NA>         \n",
       "497341          missraten           A  LEX_A  LEX_A  lsCNroyOi6  <NA>         \n",
       "625584    gefriertrocknen           V  LEX_V  LEX_V  3DLDV6uP1M  <NA>         \n",
       "625585    gefriertrocknen           V  LEX_V  LEX_V  BaSRlEoxK0  <NA>         \n",
       "625586    gefriertrocknen           V  LEX_V  LEX_V  hqLOq1VMi5  <NA>         \n",
       "625587    gefriertrocknen           V  LEX_V  LEX_V  OSmrUBU98Z  <NA>         \n",
       "625588    gefriertrocknen           V  LEX_V  LEX_V  ss6UGaJGSt  <NA>         \n",
       "625589    gefriertrocknen           V  LEX_V  LEX_V  yje5CSqhZZ  <NA>         \n",
       "625590    gefriertrocknen           V  LEX_V  LEX_V  jaCgxfnTqk  <NA>         \n",
       "625591    gefriertrocknen           V  LEX_V  LEX_V  g2NzkBPzpw  <NA>         \n",
       "625597    gefriertrocknen           V  LEX_A  LEX_A  i4f5iRCOFa  <NA>         \n",
       "625598    gefriertrocknen           V  LEX_A  LEX_A  zf1ff572bZ  <NA>         \n",
       "625599    gefriertrocknen           V  LEX_A  LEX_A  DxzOPFVgE0  <NA>         \n",
       "625600    gefriertrocknen           V  LEX_A  LEX_A  Y0KIDQDTwI  <NA>         \n",
       "625601    gefriertrocknen           V  LEX_A  LEX_A  B6xnJefbok  <NA>         \n",
       "\n",
       "                                  member     score  \n",
       "63700                   Deklinierte_Form  0.822449  \n",
       "63701                   Deklinierte_Form  2.253350  \n",
       "63702                   Deklinierte_Form  1.298417  \n",
       "63703                   Deklinierte_Form  1.166870  \n",
       "63704                   Deklinierte_Form  1.848965  \n",
       "178132             Konjugierte_Form Verb  0.963265  \n",
       "178133             Konjugierte_Form Verb  1.144945  \n",
       "178134             Konjugierte_Form Verb  0.812245  \n",
       "178135             Konjugierte_Form Verb  0.993878  \n",
       "178136             Konjugierte_Form Verb  0.810204  \n",
       "178137             Konjugierte_Form Verb  0.871429  \n",
       "178138             Konjugierte_Form Verb  0.612245  \n",
       "178139             Konjugierte_Form Verb  0.651020  \n",
       "178140             Konjugierte_Form Verb  0.636735  \n",
       "178141             Konjugierte_Form Verb  1.030451  \n",
       "178142             Konjugierte_Form Verb  1.200974  \n",
       "178143             Konjugierte_Form Verb  0.675510  \n",
       "497337                  Deklinierte_Form  1.940317  \n",
       "497338                  Deklinierte_Form  1.194884  \n",
       "497339                  Deklinierte_Form  1.315469  \n",
       "497340                  Deklinierte_Form  2.260658  \n",
       "497341                  Deklinierte_Form  0.902041  \n",
       "625584        Erweiterter_Infinitiv Verb  0.524490  \n",
       "625585             Konjugierte_Form Verb  1.012180  \n",
       "625586             Konjugierte_Form Verb  1.004872  \n",
       "625587             Konjugierte_Form Verb  0.702041  \n",
       "625588             Konjugierte_Form Verb  1.037759  \n",
       "625589             Konjugierte_Form Verb  0.730612  \n",
       "625590             Konjugierte_Form Verb  1.031669  \n",
       "625591             Konjugierte_Form Verb  0.716327  \n",
       "625597  Dekliniertes_Gerundivum Adjektiv  1.834348  \n",
       "625598  Dekliniertes_Gerundivum Adjektiv  0.897959  \n",
       "625599  Dekliniertes_Gerundivum Adjektiv  2.213155  \n",
       "625600  Dekliniertes_Gerundivum Adjektiv  1.317905  \n",
       "625601  Dekliniertes_Gerundivum Adjektiv  1.194884  "
      ]
     },
     "execution_count": 48,
     "metadata": {},
     "output_type": "execute_result"
    },
    {
     "name": "stdout",
     "output_type": "stream",
     "text": [
      "time: 580 ms\n"
     ]
    }
   ],
   "source": [
    "# suche_debug \n",
    "search_str(wiktionary_nolemma, suche_debug)"
   ]
  },
  {
   "cell_type": "code",
   "execution_count": 49,
   "id": "e4cd2073-39b7-4f91-9ead-f3a3310c9a23",
   "metadata": {},
   "outputs": [
    {
     "name": "stdout",
     "output_type": "stream",
     "text": [
      "time: 293 ms\n"
     ]
    }
   ],
   "source": [
    "# bak\n",
    "wiktionary_nolemma_bak = wiktionary_nolemma.copy()"
   ]
  },
  {
   "cell_type": "code",
   "execution_count": 50,
   "id": "652d7e50-5c76-4080-87dc-5513eda58eda",
   "metadata": {},
   "outputs": [
    {
     "name": "stdout",
     "output_type": "stream",
     "text": [
      "update_col: col_score score applied, 4126 records less!\n",
      "update_col: 640609 cells written into new column\n",
      "time: 3.57 s\n"
     ]
    }
   ],
   "source": [
    "# lemma_id schreiben\n",
    "wiktionary_nolemma = pak.update_col( df_to =      wiktionary_nolemma, \n",
    "                                     df_from =    wiktionary_lemma, \n",
    "                                     left_on =    ['lemma','lemma_tagZZ'],\n",
    "                                     right_on =   ['lemma','tagZZ'],\n",
    "                                     col =        'lemma_id',\n",
    "                                     col_score = 'score'\n",
    "                                            )\n",
    "wiktionary_nolemma = pak.move_cols(wiktionary_nolemma,['lemma_id','lemma','lemma_lower','lemma_tagZZ'],-1)"
   ]
  },
  {
   "cell_type": "code",
   "execution_count": 51,
   "id": "e37498ee-40ab-4a36-b56d-0628fe1465c9",
   "metadata": {},
   "outputs": [
    {
     "name": "stdout",
     "output_type": "stream",
     "text": [
      "update_col: col_score score applied, 4711 records less!\n",
      "update_col: 3593 cells written into existing column\n",
      "time: 3.74 s\n"
     ]
    }
   ],
   "source": [
    "# lemma_id ergänzen\n",
    "wiktionary_nolemma, mask = pak.update_col( df_to =      wiktionary_nolemma, \n",
    "                                           df_from =    wiktionary_lemma, \n",
    "                                           on =         'lemma',\n",
    "                                           col =        'lemma_id',\n",
    "                                           col_score =  'score',\n",
    "                                           cond =       'null',\n",
    "                                           return_mask= True\n",
    "                                            )\n",
    "#wiktionary_nolemma.loc[mask,'member'] += ' lemma_id?'"
   ]
  },
  {
   "cell_type": "code",
   "execution_count": 52,
   "id": "1151ecd8-94d5-44aa-95e5-e4e9a426a33f",
   "metadata": {},
   "outputs": [
    {
     "name": "stdout",
     "output_type": "stream",
     "text": [
      "time: 40.9 ms\n"
     ]
    }
   ],
   "source": [
    "#grid(wiktionary_nolemma,mask)"
   ]
  },
  {
   "cell_type": "code",
   "execution_count": 53,
   "id": "c4af8067-a7ff-417c-88cf-414a7e26ee11",
   "metadata": {},
   "outputs": [
    {
     "name": "stdout",
     "output_type": "stream",
     "text": [
      "532862 rows less, now 575388 rows\n",
      "rank: 126682 rows less, now 448706 rows\n"
     ]
    },
    {
     "data": {
      "text/html": [
       "<div>\n",
       "<style scoped>\n",
       "    .dataframe tbody tr th:only-of-type {\n",
       "        vertical-align: middle;\n",
       "    }\n",
       "\n",
       "    .dataframe tbody tr th {\n",
       "        vertical-align: top;\n",
       "    }\n",
       "\n",
       "    .dataframe thead th {\n",
       "        text-align: right;\n",
       "    }\n",
       "</style>\n",
       "<table border=\"1\" class=\"dataframe\">\n",
       "  <thead>\n",
       "    <tr style=\"text-align: right;\">\n",
       "      <th></th>\n",
       "      <th>data</th>\n",
       "      <th>lemma_id</th>\n",
       "      <th>score</th>\n",
       "    </tr>\n",
       "  </thead>\n",
       "  <tbody>\n",
       "    <tr>\n",
       "      <th>96776</th>\n",
       "      <td>Fachleute</td>\n",
       "      <td>Fachmann</td>\n",
       "      <td>54.887939</td>\n",
       "    </tr>\n",
       "  </tbody>\n",
       "</table>\n",
       "</div>"
      ],
      "text/plain": [
       "            data  lemma_id      score\n",
       "96776  Fachleute  Fachmann  54.887939"
      ]
     },
     "execution_count": 53,
     "metadata": {},
     "output_type": "execute_result"
    },
    {
     "name": "stdout",
     "output_type": "stream",
     "text": [
      "time: 3.2 s\n"
     ]
    }
   ],
   "source": [
    "# translate-Tabelle bauen für lemmas aus wiktionary_merkmal\n",
    "mask = wiktionary_merkmal.is_lex == True\n",
    "translate = pak.group_and_agg( wiktionary_merkmal[mask], \n",
    "              [ 'data',    'lemma_id',  'score',   ],\n",
    "              [ 'group',   'group',     'sum',     ],\n",
    "              [ '',        '',          'score',   ],        \n",
    "             )\n",
    "translate = pak.rank(translate, col_score='score', cols_group='data', on_conflict='first')\n",
    "\n",
    "mask = translate.data == 'Fachleute'\n",
    "translate[mask]"
   ]
  },
  {
   "cell_type": "code",
   "execution_count": 54,
   "id": "0ce8f791-58b2-4d7c-b5ad-15fbec5ad753",
   "metadata": {},
   "outputs": [
    {
     "name": "stdout",
     "output_type": "stream",
     "text": [
      "update_col: 35 cells written into existing column\n",
      "time: 3.87 s\n"
     ]
    }
   ],
   "source": [
    "# lemma_id via lex aus translate ergänzen\n",
    "wiktionary_nolemma = pak.update_col( df_to =      wiktionary_nolemma, \n",
    "                                     df_from =    translate, \n",
    "                                     left_on =    'lex',\n",
    "                                     right_on =   'data',                                    \n",
    "                                     col =        'lemma_id',\n",
    "                                     cond =       'null',\n",
    "                                            )"
   ]
  },
  {
   "cell_type": "code",
   "execution_count": 55,
   "id": "f008415e-3974-4b90-834a-2372250deb10",
   "metadata": {},
   "outputs": [
    {
     "name": "stdout",
     "output_type": "stream",
     "text": [
      "update_col: 467 cells written into existing column\n",
      "time: 3.76 s\n"
     ]
    }
   ],
   "source": [
    "# lemma_id via lemma aus translate ergänzen\n",
    "wiktionary_nolemma = pak.update_col( df_to =      wiktionary_nolemma, \n",
    "                                     df_from =    translate, \n",
    "                                     left_on =    'lemma',\n",
    "                                     right_on =   'data',                                    \n",
    "                                     col =        'lemma_id',\n",
    "                                     cond =       'null',\n",
    "                                            )"
   ]
  },
  {
   "cell_type": "code",
   "execution_count": 56,
   "id": "69b16dfa-0b97-419f-85a2-8ac8c97c156a",
   "metadata": {},
   "outputs": [
    {
     "name": "stdout",
     "output_type": "stream",
     "text": [
      "13826 rows less, now 630984 rows\n",
      "rank: 9662 rows less, now 621322 rows\n"
     ]
    },
    {
     "data": {
      "text/html": [
       "<div>\n",
       "<style scoped>\n",
       "    .dataframe tbody tr th:only-of-type {\n",
       "        vertical-align: middle;\n",
       "    }\n",
       "\n",
       "    .dataframe tbody tr th {\n",
       "        vertical-align: top;\n",
       "    }\n",
       "\n",
       "    .dataframe thead th {\n",
       "        text-align: right;\n",
       "    }\n",
       "</style>\n",
       "<table border=\"1\" class=\"dataframe\">\n",
       "  <thead>\n",
       "    <tr style=\"text-align: right;\">\n",
       "      <th></th>\n",
       "      <th>data</th>\n",
       "      <th>lemma_id</th>\n",
       "      <th>score</th>\n",
       "    </tr>\n",
       "  </thead>\n",
       "  <tbody>\n",
       "    <tr>\n",
       "      <th>23080</th>\n",
       "      <td>Brandschutzverantwortlichen</td>\n",
       "      <td>Brandschutzverantwortlicher</td>\n",
       "      <td>3.356882</td>\n",
       "    </tr>\n",
       "    <tr>\n",
       "      <th>23078</th>\n",
       "      <td>Brandschutzverantwortliche</td>\n",
       "      <td>Brandschutzverantwortlicher</td>\n",
       "      <td>1.032887</td>\n",
       "    </tr>\n",
       "    <tr>\n",
       "      <th>23081</th>\n",
       "      <td>Brandschutzverantwortlicher</td>\n",
       "      <td>Brandschutzverantwortlicher</td>\n",
       "      <td>1.006090</td>\n",
       "    </tr>\n",
       "  </tbody>\n",
       "</table>\n",
       "</div>"
      ],
      "text/plain": [
       "                              data                     lemma_id     score\n",
       "23080  Brandschutzverantwortlichen  Brandschutzverantwortlicher  3.356882\n",
       "23078   Brandschutzverantwortliche  Brandschutzverantwortlicher  1.032887\n",
       "23081  Brandschutzverantwortlicher  Brandschutzverantwortlicher  1.006090"
      ]
     },
     "execution_count": 56,
     "metadata": {},
     "output_type": "execute_result"
    },
    {
     "name": "stdout",
     "output_type": "stream",
     "text": [
      "time: 2.27 s\n"
     ]
    }
   ],
   "source": [
    "# translate-Tabelle bauen für Deklinierte Formen aus wiktionary_nolemma\n",
    "# Beispiel: Brandschutzverantwortliche \n",
    "#mask = wiktionary_merkmal.is_lex == True\n",
    "translate = pak.group_and_agg( wiktionary_nolemma, \n",
    "              [ 'lex',    'lemma_id',  'score',   ],\n",
    "              [ 'group',   'group',    'sum',     ],\n",
    "              [ 'data',    '',         'score',   ],        \n",
    "             )\n",
    "translate = pak.rank(translate, col_score='score', cols_group='data', on_conflict='first')\n",
    "\n",
    "mask = translate.data.isin(['Brandschutzverantwortliche','Brandschutzverantwortlicher','Brandschutzverantwortlichen'])\n",
    "translate[mask]"
   ]
  },
  {
   "cell_type": "code",
   "execution_count": 57,
   "id": "71a5c5b3-1f69-41b7-a2f9-a2890b2fdf42",
   "metadata": {},
   "outputs": [
    {
     "name": "stdout",
     "output_type": "stream",
     "text": [
      "update_col: 45 cells written into existing column\n",
      "time: 3.89 s\n"
     ]
    }
   ],
   "source": [
    "# lemma_id via lex aus translate ergänzen\n",
    "wiktionary_nolemma = pak.update_col( df_to =      wiktionary_nolemma, \n",
    "                                     df_from =    translate, \n",
    "                                     left_on =    'lex',\n",
    "                                     right_on =   'data',                                    \n",
    "                                     col =        'lemma_id',\n",
    "                                     cond =       'null',\n",
    "                                            )"
   ]
  },
  {
   "cell_type": "code",
   "execution_count": 58,
   "id": "148ac92a-b3c7-4014-944c-de3d7341b8d7",
   "metadata": {},
   "outputs": [
    {
     "name": "stdout",
     "output_type": "stream",
     "text": [
      "update_col: 48 cells written into existing column\n",
      "time: 3.69 s\n"
     ]
    }
   ],
   "source": [
    "# lemma_id via lemma aus translate ergänzen\n",
    "wiktionary_nolemma = pak.update_col( df_to =      wiktionary_nolemma, \n",
    "                                     df_from =    translate, \n",
    "                                     left_on =    'lemma',\n",
    "                                     right_on =   'data',                                    \n",
    "                                     col =        'lemma_id',\n",
    "                                     cond =       'null',\n",
    "                                            )"
   ]
  },
  {
   "cell_type": "code",
   "execution_count": 59,
   "id": "899198a4-bc5c-4b66-8287-cc71e6bf87fc",
   "metadata": {},
   "outputs": [
    {
     "name": "stdout",
     "output_type": "stream",
     "text": [
      "update_col: col_score score applied, but it was pointless!\n",
      "update_col: 644790 cells written into existing column\n",
      "time: 4.06 s\n"
     ]
    }
   ],
   "source": [
    "# lemma_tagZZ zurückschreiben\n",
    "wiktionary_nolemma = pak.update_col( df_to =      wiktionary_nolemma, \n",
    "                                     df_from =    wiktionary_lemma, \n",
    "                                     on =         'lemma_id',\n",
    "                                     col =        'tagZZ',\n",
    "                                     col_rename = 'lemma_tagZZ',                                    \n",
    "                                     col_score =  'score',\n",
    "                                            )"
   ]
  },
  {
   "cell_type": "code",
   "execution_count": 60,
   "id": "66dc8326-2c26-431b-9b04-9976701c62e0",
   "metadata": {},
   "outputs": [
    {
     "name": "stdout",
     "output_type": "stream",
     "text": [
      "6 rows\n"
     ]
    },
    {
     "data": {
      "text/html": [
       "\n",
       "        <iframe\n",
       "            width=\"100%\"\n",
       "            height=\"475\"\n",
       "            src=\"http://pop-os:40000/dtale/iframe/5\"\n",
       "            frameborder=\"0\"\n",
       "            allowfullscreen\n",
       "            \n",
       "        ></iframe>\n",
       "        "
      ],
      "text/plain": [
       "<IPython.lib.display.IFrame at 0x7f6d795e4310>"
      ]
     },
     "metadata": {},
     "output_type": "display_data"
    },
    {
     "data": {
      "text/plain": []
     },
     "execution_count": 60,
     "metadata": {},
     "output_type": "execute_result"
    },
    {
     "name": "stdout",
     "output_type": "stream",
     "text": [
      "time: 1.41 s\n"
     ]
    }
   ],
   "source": [
    "# Kontrolle (ändere mask auf A, V oder N und kontrolliere die lemmas)\n",
    "mask = wiktionary_nolemma.lemma_tagZZ == 'A'\n",
    "a = pak.analyse_freqs(wiktionary_nolemma[mask], ['member','tag','lemma'])\n",
    "grid(a)"
   ]
  },
  {
   "cell_type": "code",
   "execution_count": 61,
   "id": "cb34b893-640e-4d65-8aba-b2d01a357b13",
   "metadata": {},
   "outputs": [
    {
     "name": "stdout",
     "output_type": "stream",
     "text": [
      "check_mask:  13 rows\n",
      "13 rows out of 644810\n"
     ]
    },
    {
     "data": {
      "text/html": [
       "\n",
       "        <iframe\n",
       "            width=\"100%\"\n",
       "            height=\"475\"\n",
       "            src=\"http://pop-os:40000/dtale/iframe/6\"\n",
       "            frameborder=\"0\"\n",
       "            allowfullscreen\n",
       "            \n",
       "        ></iframe>\n",
       "        "
      ],
      "text/plain": [
       "<IPython.lib.display.IFrame at 0x7f6dfd66ef10>"
      ]
     },
     "metadata": {},
     "output_type": "display_data"
    },
    {
     "data": {
      "text/plain": []
     },
     "execution_count": 61,
     "metadata": {},
     "output_type": "execute_result"
    },
    {
     "name": "stdout",
     "output_type": "stream",
     "text": [
      "time: 257 ms\n"
     ]
    }
   ],
   "source": [
    "# Die meisten lemma_id konnten gefunden werden\n",
    "mask = wiktionary_nolemma.lemma_id.isnull()\n",
    "check_mask(wiktionary_nolemma,mask,0,20)\n",
    "grid(wiktionary_nolemma,mask)"
   ]
  },
  {
   "cell_type": "code",
   "execution_count": 62,
   "id": "d9751638-a9eb-4d94-be44-933b47e9f4a4",
   "metadata": {},
   "outputs": [
    {
     "name": "stdout",
     "output_type": "stream",
     "text": [
      "time: 72.1 ms\n"
     ]
    }
   ],
   "source": [
    "#mask1 = wiktionary_nolemma.lemma_id.isnull()\n",
    "#mask2 = wiktionary_nolemma.member.str.contains('Erweiterter_Infinitiv')\n",
    "#mask = mask1  &  mask2\n",
    "#grid(wiktionary_nolemma,mask)"
   ]
  },
  {
   "cell_type": "code",
   "execution_count": 63,
   "id": "c8e63bba-bf05-4b56-8b69-ba4efbc3ea60",
   "metadata": {},
   "outputs": [
    {
     "data": {
      "text/html": [
       "<div>\n",
       "<style scoped>\n",
       "    .dataframe tbody tr th:only-of-type {\n",
       "        vertical-align: middle;\n",
       "    }\n",
       "\n",
       "    .dataframe tbody tr th {\n",
       "        vertical-align: top;\n",
       "    }\n",
       "\n",
       "    .dataframe thead th {\n",
       "        text-align: right;\n",
       "    }\n",
       "</style>\n",
       "<table border=\"1\" class=\"dataframe\">\n",
       "  <thead>\n",
       "    <tr style=\"text-align: right;\">\n",
       "      <th></th>\n",
       "      <th>nolemma_id</th>\n",
       "      <th>lex</th>\n",
       "      <th>tag</th>\n",
       "      <th>tag_0</th>\n",
       "      <th>tag_1</th>\n",
       "      <th>tagZ</th>\n",
       "      <th>tagZZ</th>\n",
       "      <th>member</th>\n",
       "      <th>score</th>\n",
       "      <th>lemma_id</th>\n",
       "      <th>lemma</th>\n",
       "      <th>lemma_lower</th>\n",
       "      <th>lemma_tagZZ</th>\n",
       "    </tr>\n",
       "  </thead>\n",
       "  <tbody>\n",
       "    <tr>\n",
       "      <th>63700</th>\n",
       "      <td>gefriergetrocknetem</td>\n",
       "      <td>gefriergetrocknetem</td>\n",
       "      <td>LEX_A</td>\n",
       "      <td>LEX_A</td>\n",
       "      <td>qfxGEFcaEM</td>\n",
       "      <td>&lt;NA&gt;</td>\n",
       "      <td></td>\n",
       "      <td>Deklinierte_Form</td>\n",
       "      <td>0.822449</td>\n",
       "      <td>gefriergetrocknet</td>\n",
       "      <td>gefriergetrocknet</td>\n",
       "      <td>gefriergetrocknet</td>\n",
       "      <td>A</td>\n",
       "    </tr>\n",
       "    <tr>\n",
       "      <th>63701</th>\n",
       "      <td>gefriergetrockneten</td>\n",
       "      <td>gefriergetrockneten</td>\n",
       "      <td>LEX_A</td>\n",
       "      <td>LEX_A</td>\n",
       "      <td>cSrtFUpYCE</td>\n",
       "      <td>&lt;NA&gt;</td>\n",
       "      <td></td>\n",
       "      <td>Deklinierte_Form</td>\n",
       "      <td>2.253350</td>\n",
       "      <td>gefriergetrocknet</td>\n",
       "      <td>gefriergetrocknet</td>\n",
       "      <td>gefriergetrocknet</td>\n",
       "      <td>A</td>\n",
       "    </tr>\n",
       "    <tr>\n",
       "      <th>63702</th>\n",
       "      <td>gefriergetrockneter</td>\n",
       "      <td>gefriergetrockneter</td>\n",
       "      <td>LEX_A</td>\n",
       "      <td>LEX_A</td>\n",
       "      <td>cJeBRmnkEZ</td>\n",
       "      <td>&lt;NA&gt;</td>\n",
       "      <td></td>\n",
       "      <td>Deklinierte_Form</td>\n",
       "      <td>1.298417</td>\n",
       "      <td>gefriergetrocknet</td>\n",
       "      <td>gefriergetrocknet</td>\n",
       "      <td>gefriergetrocknet</td>\n",
       "      <td>A</td>\n",
       "    </tr>\n",
       "    <tr>\n",
       "      <th>63703</th>\n",
       "      <td>gefriergetrocknetes</td>\n",
       "      <td>gefriergetrocknetes</td>\n",
       "      <td>LEX_A</td>\n",
       "      <td>LEX_A</td>\n",
       "      <td>ztSD6oEkot</td>\n",
       "      <td>&lt;NA&gt;</td>\n",
       "      <td></td>\n",
       "      <td>Deklinierte_Form</td>\n",
       "      <td>1.166870</td>\n",
       "      <td>gefriergetrocknet</td>\n",
       "      <td>gefriergetrocknet</td>\n",
       "      <td>gefriergetrocknet</td>\n",
       "      <td>A</td>\n",
       "    </tr>\n",
       "    <tr>\n",
       "      <th>63704</th>\n",
       "      <td>gefriergetrocknete</td>\n",
       "      <td>gefriergetrocknete</td>\n",
       "      <td>LEX_A</td>\n",
       "      <td>LEX_A</td>\n",
       "      <td>UYh5zwEhfx</td>\n",
       "      <td>&lt;NA&gt;</td>\n",
       "      <td></td>\n",
       "      <td>Deklinierte_Form</td>\n",
       "      <td>1.848965</td>\n",
       "      <td>gefriergetrocknet</td>\n",
       "      <td>gefriergetrocknet</td>\n",
       "      <td>gefriergetrocknet</td>\n",
       "      <td>A</td>\n",
       "    </tr>\n",
       "    <tr>\n",
       "      <th>178132</th>\n",
       "      <td>missrietet</td>\n",
       "      <td>missrietet</td>\n",
       "      <td>LEX_V</td>\n",
       "      <td>LEX_V</td>\n",
       "      <td>y9ZTeYS8SU</td>\n",
       "      <td>&lt;NA&gt;</td>\n",
       "      <td></td>\n",
       "      <td>Konjugierte_Form Verb</td>\n",
       "      <td>0.963265</td>\n",
       "      <td>missraten</td>\n",
       "      <td>missraten</td>\n",
       "      <td>missraten</td>\n",
       "      <td>V</td>\n",
       "    </tr>\n",
       "    <tr>\n",
       "      <th>178133</th>\n",
       "      <td>missrieten</td>\n",
       "      <td>missrieten</td>\n",
       "      <td>LEX_V</td>\n",
       "      <td>LEX_V</td>\n",
       "      <td>VhpO1YDYiF</td>\n",
       "      <td>&lt;NA&gt;</td>\n",
       "      <td></td>\n",
       "      <td>Konjugierte_Form Verb</td>\n",
       "      <td>1.144945</td>\n",
       "      <td>missraten</td>\n",
       "      <td>missraten</td>\n",
       "      <td>missraten</td>\n",
       "      <td>V</td>\n",
       "    </tr>\n",
       "    <tr>\n",
       "      <th>178134</th>\n",
       "      <td>missrietst</td>\n",
       "      <td>missrietst</td>\n",
       "      <td>LEX_V</td>\n",
       "      <td>LEX_V</td>\n",
       "      <td>5Jms1aP5H9</td>\n",
       "      <td>&lt;NA&gt;</td>\n",
       "      <td></td>\n",
       "      <td>Konjugierte_Form Verb</td>\n",
       "      <td>0.812245</td>\n",
       "      <td>missraten</td>\n",
       "      <td>missraten</td>\n",
       "      <td>missraten</td>\n",
       "      <td>V</td>\n",
       "    </tr>\n",
       "    <tr>\n",
       "      <th>178135</th>\n",
       "      <td>missrietest</td>\n",
       "      <td>missrietest</td>\n",
       "      <td>LEX_V</td>\n",
       "      <td>LEX_V</td>\n",
       "      <td>N0lyUCwTOa</td>\n",
       "      <td>&lt;NA&gt;</td>\n",
       "      <td></td>\n",
       "      <td>Konjugierte_Form Verb</td>\n",
       "      <td>0.993878</td>\n",
       "      <td>missraten</td>\n",
       "      <td>missraten</td>\n",
       "      <td>missraten</td>\n",
       "      <td>V</td>\n",
       "    </tr>\n",
       "    <tr>\n",
       "      <th>178136</th>\n",
       "      <td>missriete</td>\n",
       "      <td>missriete</td>\n",
       "      <td>LEX_V</td>\n",
       "      <td>LEX_V</td>\n",
       "      <td>p6ksoWbv4K</td>\n",
       "      <td>&lt;NA&gt;</td>\n",
       "      <td></td>\n",
       "      <td>Konjugierte_Form Verb</td>\n",
       "      <td>0.810204</td>\n",
       "      <td>missraten</td>\n",
       "      <td>missraten</td>\n",
       "      <td>missraten</td>\n",
       "      <td>V</td>\n",
       "    </tr>\n",
       "    <tr>\n",
       "      <th>178137</th>\n",
       "      <td>missriet</td>\n",
       "      <td>missriet</td>\n",
       "      <td>LEX_V</td>\n",
       "      <td>LEX_V</td>\n",
       "      <td>ABDkLdtzEs</td>\n",
       "      <td>&lt;NA&gt;</td>\n",
       "      <td></td>\n",
       "      <td>Konjugierte_Form Verb</td>\n",
       "      <td>0.871429</td>\n",
       "      <td>missraten</td>\n",
       "      <td>missraten</td>\n",
       "      <td>missraten</td>\n",
       "      <td>V</td>\n",
       "    </tr>\n",
       "    <tr>\n",
       "      <th>178138</th>\n",
       "      <td>missrät</td>\n",
       "      <td>missrät</td>\n",
       "      <td>LEX_V</td>\n",
       "      <td>LEX_V</td>\n",
       "      <td>qAbhpS76tt</td>\n",
       "      <td>&lt;NA&gt;</td>\n",
       "      <td></td>\n",
       "      <td>Konjugierte_Form Verb</td>\n",
       "      <td>0.612245</td>\n",
       "      <td>missraten</td>\n",
       "      <td>missraten</td>\n",
       "      <td>missraten</td>\n",
       "      <td>V</td>\n",
       "    </tr>\n",
       "    <tr>\n",
       "      <th>178139</th>\n",
       "      <td>missratest</td>\n",
       "      <td>missratest</td>\n",
       "      <td>LEX_V</td>\n",
       "      <td>LEX_V</td>\n",
       "      <td>BOBxYuoohY</td>\n",
       "      <td>&lt;NA&gt;</td>\n",
       "      <td></td>\n",
       "      <td>Konjugierte_Form Verb</td>\n",
       "      <td>0.651020</td>\n",
       "      <td>missraten</td>\n",
       "      <td>missraten</td>\n",
       "      <td>missraten</td>\n",
       "      <td>V</td>\n",
       "    </tr>\n",
       "    <tr>\n",
       "      <th>178140</th>\n",
       "      <td>missrätst</td>\n",
       "      <td>missrätst</td>\n",
       "      <td>LEX_V</td>\n",
       "      <td>LEX_V</td>\n",
       "      <td>v1mBxMLjcB</td>\n",
       "      <td>&lt;NA&gt;</td>\n",
       "      <td></td>\n",
       "      <td>Konjugierte_Form Verb</td>\n",
       "      <td>0.636735</td>\n",
       "      <td>missraten</td>\n",
       "      <td>missraten</td>\n",
       "      <td>missraten</td>\n",
       "      <td>V</td>\n",
       "    </tr>\n",
       "    <tr>\n",
       "      <th>178141</th>\n",
       "      <td>missratet</td>\n",
       "      <td>missratet</td>\n",
       "      <td>LEX_V</td>\n",
       "      <td>LEX_V</td>\n",
       "      <td>x4gwnCOvaT</td>\n",
       "      <td>&lt;NA&gt;</td>\n",
       "      <td></td>\n",
       "      <td>Konjugierte_Form Verb</td>\n",
       "      <td>1.030451</td>\n",
       "      <td>missraten</td>\n",
       "      <td>missraten</td>\n",
       "      <td>missraten</td>\n",
       "      <td>V</td>\n",
       "    </tr>\n",
       "    <tr>\n",
       "      <th>178142</th>\n",
       "      <td>missrate</td>\n",
       "      <td>missrate</td>\n",
       "      <td>LEX_V</td>\n",
       "      <td>LEX_V</td>\n",
       "      <td>jsNDCQhyPM</td>\n",
       "      <td>&lt;NA&gt;</td>\n",
       "      <td></td>\n",
       "      <td>Konjugierte_Form Verb</td>\n",
       "      <td>1.200974</td>\n",
       "      <td>missraten</td>\n",
       "      <td>missraten</td>\n",
       "      <td>missraten</td>\n",
       "      <td>V</td>\n",
       "    </tr>\n",
       "    <tr>\n",
       "      <th>178143</th>\n",
       "      <td>missrat</td>\n",
       "      <td>missrat</td>\n",
       "      <td>LEX_V</td>\n",
       "      <td>LEX_V</td>\n",
       "      <td>CTNtsfhX4D</td>\n",
       "      <td>&lt;NA&gt;</td>\n",
       "      <td></td>\n",
       "      <td>Konjugierte_Form Verb</td>\n",
       "      <td>0.675510</td>\n",
       "      <td>missraten</td>\n",
       "      <td>missraten</td>\n",
       "      <td>missraten</td>\n",
       "      <td>V</td>\n",
       "    </tr>\n",
       "    <tr>\n",
       "      <th>497337</th>\n",
       "      <td>missratene</td>\n",
       "      <td>missratene</td>\n",
       "      <td>LEX_A</td>\n",
       "      <td>LEX_A</td>\n",
       "      <td>3P2rsBDB3U</td>\n",
       "      <td>&lt;NA&gt;</td>\n",
       "      <td></td>\n",
       "      <td>Deklinierte_Form</td>\n",
       "      <td>1.940317</td>\n",
       "      <td>missraten_MADJ</td>\n",
       "      <td>missraten</td>\n",
       "      <td>missraten</td>\n",
       "      <td>A</td>\n",
       "    </tr>\n",
       "    <tr>\n",
       "      <th>497338</th>\n",
       "      <td>missratenes</td>\n",
       "      <td>missratenes</td>\n",
       "      <td>LEX_A</td>\n",
       "      <td>LEX_A</td>\n",
       "      <td>br6vYqpXFY</td>\n",
       "      <td>&lt;NA&gt;</td>\n",
       "      <td></td>\n",
       "      <td>Deklinierte_Form</td>\n",
       "      <td>1.194884</td>\n",
       "      <td>missraten_MADJ</td>\n",
       "      <td>missraten</td>\n",
       "      <td>missraten</td>\n",
       "      <td>A</td>\n",
       "    </tr>\n",
       "    <tr>\n",
       "      <th>497339</th>\n",
       "      <td>missratener</td>\n",
       "      <td>missratener</td>\n",
       "      <td>LEX_A</td>\n",
       "      <td>LEX_A</td>\n",
       "      <td>DzOVma9k4l</td>\n",
       "      <td>&lt;NA&gt;</td>\n",
       "      <td></td>\n",
       "      <td>Deklinierte_Form</td>\n",
       "      <td>1.315469</td>\n",
       "      <td>missraten_MADJ</td>\n",
       "      <td>missraten</td>\n",
       "      <td>missraten</td>\n",
       "      <td>A</td>\n",
       "    </tr>\n",
       "    <tr>\n",
       "      <th>497340</th>\n",
       "      <td>missratenen</td>\n",
       "      <td>missratenen</td>\n",
       "      <td>LEX_A</td>\n",
       "      <td>LEX_A</td>\n",
       "      <td>VZ3MYcMPnP</td>\n",
       "      <td>&lt;NA&gt;</td>\n",
       "      <td></td>\n",
       "      <td>Deklinierte_Form</td>\n",
       "      <td>2.260658</td>\n",
       "      <td>missraten_MADJ</td>\n",
       "      <td>missraten</td>\n",
       "      <td>missraten</td>\n",
       "      <td>A</td>\n",
       "    </tr>\n",
       "    <tr>\n",
       "      <th>497341</th>\n",
       "      <td>missratenem</td>\n",
       "      <td>missratenem</td>\n",
       "      <td>LEX_A</td>\n",
       "      <td>LEX_A</td>\n",
       "      <td>lsCNroyOi6</td>\n",
       "      <td>&lt;NA&gt;</td>\n",
       "      <td></td>\n",
       "      <td>Deklinierte_Form</td>\n",
       "      <td>0.902041</td>\n",
       "      <td>missraten_MADJ</td>\n",
       "      <td>missraten</td>\n",
       "      <td>missraten</td>\n",
       "      <td>A</td>\n",
       "    </tr>\n",
       "    <tr>\n",
       "      <th>625584</th>\n",
       "      <td>gefrierzutrocknen</td>\n",
       "      <td>gefrierzutrocknen</td>\n",
       "      <td>LEX_V</td>\n",
       "      <td>LEX_V</td>\n",
       "      <td>3DLDV6uP1M</td>\n",
       "      <td>&lt;NA&gt;</td>\n",
       "      <td></td>\n",
       "      <td>Erweiterter_Infinitiv Verb</td>\n",
       "      <td>0.524490</td>\n",
       "      <td>gefriertrocknen</td>\n",
       "      <td>gefriertrocknen</td>\n",
       "      <td>gefriertrocknen</td>\n",
       "      <td>V</td>\n",
       "    </tr>\n",
       "    <tr>\n",
       "      <th>625585</th>\n",
       "      <td>gefriertrockne</td>\n",
       "      <td>gefriertrockne</td>\n",
       "      <td>LEX_V</td>\n",
       "      <td>LEX_V</td>\n",
       "      <td>BaSRlEoxK0</td>\n",
       "      <td>&lt;NA&gt;</td>\n",
       "      <td></td>\n",
       "      <td>Konjugierte_Form Verb</td>\n",
       "      <td>1.012180</td>\n",
       "      <td>gefriertrocknen</td>\n",
       "      <td>gefriertrocknen</td>\n",
       "      <td>gefriertrocknen</td>\n",
       "      <td>V</td>\n",
       "    </tr>\n",
       "    <tr>\n",
       "      <th>625586</th>\n",
       "      <td>gefriertrocknet</td>\n",
       "      <td>gefriertrocknet</td>\n",
       "      <td>LEX_V</td>\n",
       "      <td>LEX_V</td>\n",
       "      <td>hqLOq1VMi5</td>\n",
       "      <td>&lt;NA&gt;</td>\n",
       "      <td></td>\n",
       "      <td>Konjugierte_Form Verb</td>\n",
       "      <td>1.004872</td>\n",
       "      <td>gefriertrocknen</td>\n",
       "      <td>gefriertrocknen</td>\n",
       "      <td>gefriertrocknen</td>\n",
       "      <td>V</td>\n",
       "    </tr>\n",
       "    <tr>\n",
       "      <th>625587</th>\n",
       "      <td>gefriertrocknest</td>\n",
       "      <td>gefriertrocknest</td>\n",
       "      <td>LEX_V</td>\n",
       "      <td>LEX_V</td>\n",
       "      <td>OSmrUBU98Z</td>\n",
       "      <td>&lt;NA&gt;</td>\n",
       "      <td></td>\n",
       "      <td>Konjugierte_Form Verb</td>\n",
       "      <td>0.702041</td>\n",
       "      <td>gefriertrocknen</td>\n",
       "      <td>gefriertrocknen</td>\n",
       "      <td>gefriertrocknen</td>\n",
       "      <td>V</td>\n",
       "    </tr>\n",
       "    <tr>\n",
       "      <th>625588</th>\n",
       "      <td>gefriertrocknete</td>\n",
       "      <td>gefriertrocknete</td>\n",
       "      <td>LEX_V</td>\n",
       "      <td>LEX_V</td>\n",
       "      <td>ss6UGaJGSt</td>\n",
       "      <td>&lt;NA&gt;</td>\n",
       "      <td></td>\n",
       "      <td>Konjugierte_Form Verb</td>\n",
       "      <td>1.037759</td>\n",
       "      <td>gefriertrocknen</td>\n",
       "      <td>gefriertrocknen</td>\n",
       "      <td>gefriertrocknen</td>\n",
       "      <td>V</td>\n",
       "    </tr>\n",
       "    <tr>\n",
       "      <th>625589</th>\n",
       "      <td>gefriertrocknetest</td>\n",
       "      <td>gefriertrocknetest</td>\n",
       "      <td>LEX_V</td>\n",
       "      <td>LEX_V</td>\n",
       "      <td>yje5CSqhZZ</td>\n",
       "      <td>&lt;NA&gt;</td>\n",
       "      <td></td>\n",
       "      <td>Konjugierte_Form Verb</td>\n",
       "      <td>0.730612</td>\n",
       "      <td>gefriertrocknen</td>\n",
       "      <td>gefriertrocknen</td>\n",
       "      <td>gefriertrocknen</td>\n",
       "      <td>V</td>\n",
       "    </tr>\n",
       "    <tr>\n",
       "      <th>625590</th>\n",
       "      <td>gefriertrockneten</td>\n",
       "      <td>gefriertrockneten</td>\n",
       "      <td>LEX_V</td>\n",
       "      <td>LEX_V</td>\n",
       "      <td>jaCgxfnTqk</td>\n",
       "      <td>&lt;NA&gt;</td>\n",
       "      <td></td>\n",
       "      <td>Konjugierte_Form Verb</td>\n",
       "      <td>1.031669</td>\n",
       "      <td>gefriertrocknen</td>\n",
       "      <td>gefriertrocknen</td>\n",
       "      <td>gefriertrocknen</td>\n",
       "      <td>V</td>\n",
       "    </tr>\n",
       "    <tr>\n",
       "      <th>625591</th>\n",
       "      <td>gefriertrocknetet</td>\n",
       "      <td>gefriertrocknetet</td>\n",
       "      <td>LEX_V</td>\n",
       "      <td>LEX_V</td>\n",
       "      <td>g2NzkBPzpw</td>\n",
       "      <td>&lt;NA&gt;</td>\n",
       "      <td></td>\n",
       "      <td>Konjugierte_Form Verb</td>\n",
       "      <td>0.716327</td>\n",
       "      <td>gefriertrocknen</td>\n",
       "      <td>gefriertrocknen</td>\n",
       "      <td>gefriertrocknen</td>\n",
       "      <td>V</td>\n",
       "    </tr>\n",
       "    <tr>\n",
       "      <th>625597</th>\n",
       "      <td>gefrierzutrocknende</td>\n",
       "      <td>gefrierzutrocknende</td>\n",
       "      <td>LEX_A</td>\n",
       "      <td>LEX_A</td>\n",
       "      <td>i4f5iRCOFa</td>\n",
       "      <td>&lt;NA&gt;</td>\n",
       "      <td></td>\n",
       "      <td>Dekliniertes_Gerundivum Adjektiv</td>\n",
       "      <td>1.834348</td>\n",
       "      <td>gefriertrocknen</td>\n",
       "      <td>gefriertrocknen</td>\n",
       "      <td>gefriertrocknen</td>\n",
       "      <td>V</td>\n",
       "    </tr>\n",
       "    <tr>\n",
       "      <th>625598</th>\n",
       "      <td>gefrierzutrocknendem</td>\n",
       "      <td>gefrierzutrocknendem</td>\n",
       "      <td>LEX_A</td>\n",
       "      <td>LEX_A</td>\n",
       "      <td>zf1ff572bZ</td>\n",
       "      <td>&lt;NA&gt;</td>\n",
       "      <td></td>\n",
       "      <td>Dekliniertes_Gerundivum Adjektiv</td>\n",
       "      <td>0.897959</td>\n",
       "      <td>gefriertrocknen</td>\n",
       "      <td>gefriertrocknen</td>\n",
       "      <td>gefriertrocknen</td>\n",
       "      <td>V</td>\n",
       "    </tr>\n",
       "    <tr>\n",
       "      <th>625599</th>\n",
       "      <td>gefrierzutrocknenden</td>\n",
       "      <td>gefrierzutrocknenden</td>\n",
       "      <td>LEX_A</td>\n",
       "      <td>LEX_A</td>\n",
       "      <td>DxzOPFVgE0</td>\n",
       "      <td>&lt;NA&gt;</td>\n",
       "      <td></td>\n",
       "      <td>Dekliniertes_Gerundivum Adjektiv</td>\n",
       "      <td>2.213155</td>\n",
       "      <td>gefriertrocknen</td>\n",
       "      <td>gefriertrocknen</td>\n",
       "      <td>gefriertrocknen</td>\n",
       "      <td>V</td>\n",
       "    </tr>\n",
       "    <tr>\n",
       "      <th>625600</th>\n",
       "      <td>gefrierzutrocknender</td>\n",
       "      <td>gefrierzutrocknender</td>\n",
       "      <td>LEX_A</td>\n",
       "      <td>LEX_A</td>\n",
       "      <td>Y0KIDQDTwI</td>\n",
       "      <td>&lt;NA&gt;</td>\n",
       "      <td></td>\n",
       "      <td>Dekliniertes_Gerundivum Adjektiv</td>\n",
       "      <td>1.317905</td>\n",
       "      <td>gefriertrocknen</td>\n",
       "      <td>gefriertrocknen</td>\n",
       "      <td>gefriertrocknen</td>\n",
       "      <td>V</td>\n",
       "    </tr>\n",
       "    <tr>\n",
       "      <th>625601</th>\n",
       "      <td>gefrierzutrocknendes</td>\n",
       "      <td>gefrierzutrocknendes</td>\n",
       "      <td>LEX_A</td>\n",
       "      <td>LEX_A</td>\n",
       "      <td>B6xnJefbok</td>\n",
       "      <td>&lt;NA&gt;</td>\n",
       "      <td></td>\n",
       "      <td>Dekliniertes_Gerundivum Adjektiv</td>\n",
       "      <td>1.194884</td>\n",
       "      <td>gefriertrocknen</td>\n",
       "      <td>gefriertrocknen</td>\n",
       "      <td>gefriertrocknen</td>\n",
       "      <td>V</td>\n",
       "    </tr>\n",
       "  </tbody>\n",
       "</table>\n",
       "</div>"
      ],
      "text/plain": [
       "                  nolemma_id                   lex    tag  tag_0       tag_1  \\\n",
       "63700    gefriergetrocknetem   gefriergetrocknetem  LEX_A  LEX_A  qfxGEFcaEM   \n",
       "63701    gefriergetrockneten   gefriergetrockneten  LEX_A  LEX_A  cSrtFUpYCE   \n",
       "63702    gefriergetrockneter   gefriergetrockneter  LEX_A  LEX_A  cJeBRmnkEZ   \n",
       "63703    gefriergetrocknetes   gefriergetrocknetes  LEX_A  LEX_A  ztSD6oEkot   \n",
       "63704     gefriergetrocknete    gefriergetrocknete  LEX_A  LEX_A  UYh5zwEhfx   \n",
       "178132            missrietet            missrietet  LEX_V  LEX_V  y9ZTeYS8SU   \n",
       "178133            missrieten            missrieten  LEX_V  LEX_V  VhpO1YDYiF   \n",
       "178134            missrietst            missrietst  LEX_V  LEX_V  5Jms1aP5H9   \n",
       "178135           missrietest           missrietest  LEX_V  LEX_V  N0lyUCwTOa   \n",
       "178136             missriete             missriete  LEX_V  LEX_V  p6ksoWbv4K   \n",
       "178137              missriet              missriet  LEX_V  LEX_V  ABDkLdtzEs   \n",
       "178138               missrät               missrät  LEX_V  LEX_V  qAbhpS76tt   \n",
       "178139            missratest            missratest  LEX_V  LEX_V  BOBxYuoohY   \n",
       "178140             missrätst             missrätst  LEX_V  LEX_V  v1mBxMLjcB   \n",
       "178141             missratet             missratet  LEX_V  LEX_V  x4gwnCOvaT   \n",
       "178142              missrate              missrate  LEX_V  LEX_V  jsNDCQhyPM   \n",
       "178143               missrat               missrat  LEX_V  LEX_V  CTNtsfhX4D   \n",
       "497337            missratene            missratene  LEX_A  LEX_A  3P2rsBDB3U   \n",
       "497338           missratenes           missratenes  LEX_A  LEX_A  br6vYqpXFY   \n",
       "497339           missratener           missratener  LEX_A  LEX_A  DzOVma9k4l   \n",
       "497340           missratenen           missratenen  LEX_A  LEX_A  VZ3MYcMPnP   \n",
       "497341           missratenem           missratenem  LEX_A  LEX_A  lsCNroyOi6   \n",
       "625584     gefrierzutrocknen     gefrierzutrocknen  LEX_V  LEX_V  3DLDV6uP1M   \n",
       "625585        gefriertrockne        gefriertrockne  LEX_V  LEX_V  BaSRlEoxK0   \n",
       "625586       gefriertrocknet       gefriertrocknet  LEX_V  LEX_V  hqLOq1VMi5   \n",
       "625587      gefriertrocknest      gefriertrocknest  LEX_V  LEX_V  OSmrUBU98Z   \n",
       "625588      gefriertrocknete      gefriertrocknete  LEX_V  LEX_V  ss6UGaJGSt   \n",
       "625589    gefriertrocknetest    gefriertrocknetest  LEX_V  LEX_V  yje5CSqhZZ   \n",
       "625590     gefriertrockneten     gefriertrockneten  LEX_V  LEX_V  jaCgxfnTqk   \n",
       "625591     gefriertrocknetet     gefriertrocknetet  LEX_V  LEX_V  g2NzkBPzpw   \n",
       "625597   gefrierzutrocknende   gefrierzutrocknende  LEX_A  LEX_A  i4f5iRCOFa   \n",
       "625598  gefrierzutrocknendem  gefrierzutrocknendem  LEX_A  LEX_A  zf1ff572bZ   \n",
       "625599  gefrierzutrocknenden  gefrierzutrocknenden  LEX_A  LEX_A  DxzOPFVgE0   \n",
       "625600  gefrierzutrocknender  gefrierzutrocknender  LEX_A  LEX_A  Y0KIDQDTwI   \n",
       "625601  gefrierzutrocknendes  gefrierzutrocknendes  LEX_A  LEX_A  B6xnJefbok   \n",
       "\n",
       "        tagZ tagZZ                            member     score  \\\n",
       "63700   <NA>                        Deklinierte_Form  0.822449   \n",
       "63701   <NA>                        Deklinierte_Form  2.253350   \n",
       "63702   <NA>                        Deklinierte_Form  1.298417   \n",
       "63703   <NA>                        Deklinierte_Form  1.166870   \n",
       "63704   <NA>                        Deklinierte_Form  1.848965   \n",
       "178132  <NA>                   Konjugierte_Form Verb  0.963265   \n",
       "178133  <NA>                   Konjugierte_Form Verb  1.144945   \n",
       "178134  <NA>                   Konjugierte_Form Verb  0.812245   \n",
       "178135  <NA>                   Konjugierte_Form Verb  0.993878   \n",
       "178136  <NA>                   Konjugierte_Form Verb  0.810204   \n",
       "178137  <NA>                   Konjugierte_Form Verb  0.871429   \n",
       "178138  <NA>                   Konjugierte_Form Verb  0.612245   \n",
       "178139  <NA>                   Konjugierte_Form Verb  0.651020   \n",
       "178140  <NA>                   Konjugierte_Form Verb  0.636735   \n",
       "178141  <NA>                   Konjugierte_Form Verb  1.030451   \n",
       "178142  <NA>                   Konjugierte_Form Verb  1.200974   \n",
       "178143  <NA>                   Konjugierte_Form Verb  0.675510   \n",
       "497337  <NA>                        Deklinierte_Form  1.940317   \n",
       "497338  <NA>                        Deklinierte_Form  1.194884   \n",
       "497339  <NA>                        Deklinierte_Form  1.315469   \n",
       "497340  <NA>                        Deklinierte_Form  2.260658   \n",
       "497341  <NA>                        Deklinierte_Form  0.902041   \n",
       "625584  <NA>              Erweiterter_Infinitiv Verb  0.524490   \n",
       "625585  <NA>                   Konjugierte_Form Verb  1.012180   \n",
       "625586  <NA>                   Konjugierte_Form Verb  1.004872   \n",
       "625587  <NA>                   Konjugierte_Form Verb  0.702041   \n",
       "625588  <NA>                   Konjugierte_Form Verb  1.037759   \n",
       "625589  <NA>                   Konjugierte_Form Verb  0.730612   \n",
       "625590  <NA>                   Konjugierte_Form Verb  1.031669   \n",
       "625591  <NA>                   Konjugierte_Form Verb  0.716327   \n",
       "625597  <NA>        Dekliniertes_Gerundivum Adjektiv  1.834348   \n",
       "625598  <NA>        Dekliniertes_Gerundivum Adjektiv  0.897959   \n",
       "625599  <NA>        Dekliniertes_Gerundivum Adjektiv  2.213155   \n",
       "625600  <NA>        Dekliniertes_Gerundivum Adjektiv  1.317905   \n",
       "625601  <NA>        Dekliniertes_Gerundivum Adjektiv  1.194884   \n",
       "\n",
       "                 lemma_id              lemma        lemma_lower lemma_tagZZ  \n",
       "63700   gefriergetrocknet  gefriergetrocknet  gefriergetrocknet           A  \n",
       "63701   gefriergetrocknet  gefriergetrocknet  gefriergetrocknet           A  \n",
       "63702   gefriergetrocknet  gefriergetrocknet  gefriergetrocknet           A  \n",
       "63703   gefriergetrocknet  gefriergetrocknet  gefriergetrocknet           A  \n",
       "63704   gefriergetrocknet  gefriergetrocknet  gefriergetrocknet           A  \n",
       "178132          missraten          missraten          missraten           V  \n",
       "178133          missraten          missraten          missraten           V  \n",
       "178134          missraten          missraten          missraten           V  \n",
       "178135          missraten          missraten          missraten           V  \n",
       "178136          missraten          missraten          missraten           V  \n",
       "178137          missraten          missraten          missraten           V  \n",
       "178138          missraten          missraten          missraten           V  \n",
       "178139          missraten          missraten          missraten           V  \n",
       "178140          missraten          missraten          missraten           V  \n",
       "178141          missraten          missraten          missraten           V  \n",
       "178142          missraten          missraten          missraten           V  \n",
       "178143          missraten          missraten          missraten           V  \n",
       "497337     missraten_MADJ          missraten          missraten           A  \n",
       "497338     missraten_MADJ          missraten          missraten           A  \n",
       "497339     missraten_MADJ          missraten          missraten           A  \n",
       "497340     missraten_MADJ          missraten          missraten           A  \n",
       "497341     missraten_MADJ          missraten          missraten           A  \n",
       "625584    gefriertrocknen    gefriertrocknen    gefriertrocknen           V  \n",
       "625585    gefriertrocknen    gefriertrocknen    gefriertrocknen           V  \n",
       "625586    gefriertrocknen    gefriertrocknen    gefriertrocknen           V  \n",
       "625587    gefriertrocknen    gefriertrocknen    gefriertrocknen           V  \n",
       "625588    gefriertrocknen    gefriertrocknen    gefriertrocknen           V  \n",
       "625589    gefriertrocknen    gefriertrocknen    gefriertrocknen           V  \n",
       "625590    gefriertrocknen    gefriertrocknen    gefriertrocknen           V  \n",
       "625591    gefriertrocknen    gefriertrocknen    gefriertrocknen           V  \n",
       "625597    gefriertrocknen    gefriertrocknen    gefriertrocknen           V  \n",
       "625598    gefriertrocknen    gefriertrocknen    gefriertrocknen           V  \n",
       "625599    gefriertrocknen    gefriertrocknen    gefriertrocknen           V  \n",
       "625600    gefriertrocknen    gefriertrocknen    gefriertrocknen           V  \n",
       "625601    gefriertrocknen    gefriertrocknen    gefriertrocknen           V  "
      ]
     },
     "execution_count": 63,
     "metadata": {},
     "output_type": "execute_result"
    },
    {
     "name": "stdout",
     "output_type": "stream",
     "text": [
      "time: 957 ms\n"
     ]
    }
   ],
   "source": [
    "# suche_debug \n",
    "search_str(wiktionary_nolemma, suche_debug)"
   ]
  },
  {
   "cell_type": "code",
   "execution_count": 64,
   "id": "f5bcf6ed-f3b4-4acf-96f7-2a3cb0cb5270",
   "metadata": {},
   "outputs": [
    {
     "name": "stdout",
     "output_type": "stream",
     "text": [
      "time: 38.6 ms\n"
     ]
    }
   ],
   "source": [
    "# trash erzeugen  \n",
    "wiktionary_nolemma_trash = wiktionary_nolemma.head(0)\n",
    "wiktionary_nolemma_trash['msg'] = None"
   ]
  },
  {
   "cell_type": "code",
   "execution_count": 65,
   "id": "e0772661-a5a2-4a2b-ba03-289e6705d176",
   "metadata": {},
   "outputs": [
    {
     "name": "stdout",
     "output_type": "stream",
     "text": [
      "check_mask:  13 rows\n",
      "Move 13 rows from 644810\n",
      "13 rows\n"
     ]
    },
    {
     "data": {
      "text/html": [
       "\n",
       "        <iframe\n",
       "            width=\"100%\"\n",
       "            height=\"475\"\n",
       "            src=\"http://pop-os:40000/dtale/iframe/7\"\n",
       "            frameborder=\"0\"\n",
       "            allowfullscreen\n",
       "            \n",
       "        ></iframe>\n",
       "        "
      ],
      "text/plain": [
       "<IPython.lib.display.IFrame at 0x7f6d795e0610>"
      ]
     },
     "metadata": {},
     "output_type": "display_data"
    },
    {
     "data": {
      "text/plain": []
     },
     "execution_count": 65,
     "metadata": {},
     "output_type": "execute_result"
    },
    {
     "name": "stdout",
     "output_type": "stream",
     "text": [
      "time: 983 ms\n"
     ]
    }
   ],
   "source": [
    "# Schrott löschen\n",
    "mask = wiktionary_nolemma.lemma_id.isnull()\n",
    "check_mask( wiktionary_nolemma, mask, 0, 20)\n",
    "msg = 'Schrott_lemma_id'\n",
    "wiktionary_nolemma, wiktionary_nolemma_trash = pak.move_rows(wiktionary_nolemma, wiktionary_nolemma_trash, mask, msg)\n",
    "grid(wiktionary_nolemma_trash, msg)"
   ]
  },
  {
   "cell_type": "code",
   "execution_count": 66,
   "id": "d215bb64-dae8-4656-b042-32203ebeca65",
   "metadata": {},
   "outputs": [
    {
     "data": {
      "text/html": [
       "<div>\n",
       "<style scoped>\n",
       "    .dataframe tbody tr th:only-of-type {\n",
       "        vertical-align: middle;\n",
       "    }\n",
       "\n",
       "    .dataframe tbody tr th {\n",
       "        vertical-align: top;\n",
       "    }\n",
       "\n",
       "    .dataframe thead th {\n",
       "        text-align: right;\n",
       "    }\n",
       "</style>\n",
       "<table border=\"1\" class=\"dataframe\">\n",
       "  <thead>\n",
       "    <tr style=\"text-align: right;\">\n",
       "      <th></th>\n",
       "      <th>nolemma_id</th>\n",
       "      <th>lex</th>\n",
       "      <th>tag</th>\n",
       "      <th>tag_0</th>\n",
       "      <th>tag_1</th>\n",
       "      <th>tagZ</th>\n",
       "      <th>tagZZ</th>\n",
       "      <th>member</th>\n",
       "      <th>score</th>\n",
       "      <th>lemma_id</th>\n",
       "      <th>lemma</th>\n",
       "      <th>lemma_lower</th>\n",
       "      <th>lemma_tagZZ</th>\n",
       "      <th>msg</th>\n",
       "    </tr>\n",
       "  </thead>\n",
       "  <tbody>\n",
       "  </tbody>\n",
       "</table>\n",
       "</div>"
      ],
      "text/plain": [
       "Empty DataFrame\n",
       "Columns: [nolemma_id, lex, tag, tag_0, tag_1, tagZ, tagZZ, member, score, lemma_id, lemma, lemma_lower, lemma_tagZZ, msg]\n",
       "Index: []"
      ]
     },
     "execution_count": 66,
     "metadata": {},
     "output_type": "execute_result"
    },
    {
     "name": "stdout",
     "output_type": "stream",
     "text": [
      "time: 90 ms\n"
     ]
    }
   ],
   "source": [
    "# suche_debug wiktionary_nolemma\n",
    "mask = wiktionary_nolemma_trash.lemma.isin(suche_debug)\n",
    "wiktionary_nolemma_trash[mask]"
   ]
  },
  {
   "cell_type": "code",
   "execution_count": 67,
   "id": "f3785a33",
   "metadata": {},
   "outputs": [
    {
     "name": "stdout",
     "output_type": "stream",
     "text": [
      "17 rows out of 644797\n"
     ]
    },
    {
     "data": {
      "text/html": [
       "\n",
       "        <iframe\n",
       "            width=\"100%\"\n",
       "            height=\"475\"\n",
       "            src=\"http://pop-os:40000/dtale/iframe/8\"\n",
       "            frameborder=\"0\"\n",
       "            allowfullscreen\n",
       "            \n",
       "        ></iframe>\n",
       "        "
      ],
      "text/plain": [
       "<IPython.lib.display.IFrame at 0x7f6df2b1e190>"
      ]
     },
     "metadata": {},
     "output_type": "display_data"
    },
    {
     "data": {
      "text/plain": []
     },
     "execution_count": 67,
     "metadata": {},
     "output_type": "execute_result"
    },
    {
     "name": "stdout",
     "output_type": "stream",
     "text": [
      "time: 5.76 s\n"
     ]
    }
   ],
   "source": [
    "grid(wiktionary_nolemma, pak.sample)"
   ]
  },
  {
   "cell_type": "code",
   "execution_count": 68,
   "id": "3ab41517-8c30-47d4-beb8-7b54c547fe79",
   "metadata": {},
   "outputs": [
    {
     "name": "stdout",
     "output_type": "stream",
     "text": [
      "time: 146 ms\n"
     ]
    }
   ],
   "source": [
    "# fillna\n",
    "wiktionary_nolemma['tagZ'] = wiktionary_nolemma.tagZ.fillna('')"
   ]
  },
  {
   "cell_type": "markdown",
   "id": "8495a8b9-33b7-44e0-b1af-b3fc8d95c7d9",
   "metadata": {},
   "source": [
    "### Trash erzeugen"
   ]
  },
  {
   "cell_type": "code",
   "execution_count": 69,
   "id": "71c1f6ab-b7ae-4271-a766-2ce0189d1347",
   "metadata": {},
   "outputs": [
    {
     "name": "stdout",
     "output_type": "stream",
     "text": [
      "time: 75.4 ms\n"
     ]
    }
   ],
   "source": [
    "# trash erzeugen     \n",
    "wiktionary_lemma_trash   = wiktionary_lemma.head(0)\n",
    "wiktionary_lemma_trash['msg'] = None\n",
    "\n",
    "# ist bereits erzeugt\n",
    "#wiktionary_nolemma_trash = wiktionary_nolemma.head(0)\n",
    "#wiktionary_nolemma_trash['msg'] = None\n",
    "\n",
    "wiktionary_merkmal_trash = wiktionary_merkmal.head(0)\n",
    "wiktionary_merkmal_trash['msg'] = None\n",
    "\n",
    "wiktionary_merkmal_text_trash = wiktionary_merkmal_text.head(0)\n",
    "wiktionary_merkmal_text_trash['msg'] = None"
   ]
  },
  {
   "cell_type": "markdown",
   "id": "b527c36a-0be4-4657-a9fd-6814edb5f7d4",
   "metadata": {},
   "source": [
    "### wiktionary_merkmal\n",
    "* Es wird versucht, möglichst jedes `data` in wiktionary_lemma oder wiktionary_nolemma zu finden und diese id als `data_id` zu schreiben.\n",
    "* Zuerst werden die data_id spezieller Fälle geschieben, anschließend alle anderen data_id."
   ]
  },
  {
   "cell_type": "code",
   "execution_count": 70,
   "id": "d6632193-3427-4fa4-9fc0-6b9a6ec009c4",
   "metadata": {},
   "outputs": [
    {
     "name": "stdout",
     "output_type": "stream",
     "text": [
      "time: 886 ms\n"
     ]
    }
   ],
   "source": [
    "# fillna\n",
    "wiktionary_merkmal['num']     = wiktionary_merkmal.num.fillna('')\n",
    "wiktionary_merkmal['data_id'] = wiktionary_merkmal.data_id.fillna('')\n",
    "wiktionary_merkmal['score']   = wiktionary_merkmal.score.fillna(0)"
   ]
  },
  {
   "cell_type": "code",
   "execution_count": 71,
   "id": "6720a060-aaca-41c6-ac28-85a699edc7f9",
   "metadata": {},
   "outputs": [
    {
     "name": "stdout",
     "output_type": "stream",
     "text": [
      "time: 1.9 s\n"
     ]
    }
   ],
   "source": [
    "# Hochkomma in data streichen\n",
    "mask1 = wiktionary_merkmal.data.str.contains(\"'\")\n",
    "mask2 = wiktionary_merkmal.merkmal.isin(['def'])\n",
    "mask = mask1  &  mask2\n",
    "wiktionary_merkmal.loc[mask,'data'] = pak.remove_str(wiktionary_merkmal[mask].data,\"'\")"
   ]
  },
  {
   "cell_type": "code",
   "execution_count": 72,
   "id": "554b566a-21f1-4b26-894f-d798e6653048",
   "metadata": {},
   "outputs": [
    {
     "name": "stdout",
     "output_type": "stream",
     "text": [
      "Move 13247 rows from 4987597\n",
      "time: 8.19 s\n"
     ]
    }
   ],
   "source": [
    "# Dups entfernen\n",
    "mask = wiktionary_merkmal.duplicated(subset=['lemma_id','merkmal','data','num','meta'])\n",
    "wiktionary_merkmal, wiktionary_merkmal_trash = pak.move_rows(wiktionary_merkmal, wiktionary_merkmal_trash, mask, 'dup')"
   ]
  },
  {
   "cell_type": "code",
   "execution_count": 73,
   "id": "54477d1b-d997-414e-9416-5c4e86c0c8e4",
   "metadata": {},
   "outputs": [
    {
     "name": "stdout",
     "output_type": "stream",
     "text": [
      "update_col: 2669660 cells written into new column\n",
      "time: 13.8 s\n"
     ]
    }
   ],
   "source": [
    "# lemma_tag schreiben\n",
    "wiktionary_merkmal = pak.update_col( df_to =      wiktionary_merkmal, \n",
    "                                     df_from =    wiktionary_lemma, \n",
    "                                     on =         'lemma_id',\n",
    "                                     col =        'tag',\n",
    "                                     col_rename = 'lemma_tag',\n",
    "                                            )\n",
    "wiktionary_merkmal = pak.move_cols(wiktionary_merkmal,'lemma_tag','lemma_id')\n",
    "wiktionary_merkmal['lemma_tag'] = wiktionary_merkmal.lemma_tag.fillna('')"
   ]
  },
  {
   "cell_type": "code",
   "execution_count": 74,
   "id": "8ad96f33-4927-41f5-b959-a295ade52f0a",
   "metadata": {},
   "outputs": [
    {
     "name": "stdout",
     "output_type": "stream",
     "text": [
      "time: 321 ms\n"
     ]
    }
   ],
   "source": [
    "# Vergebene data_id eindeutig?\n",
    "mask_notempty = wiktionary_merkmal.data_id != ''\n",
    "a = pak.same_but_different(wiktionary_merkmal[mask_notempty],same='data_id',different='data')\n",
    "assert a.shape[0] == 0\n",
    "#grid(a)"
   ]
  },
  {
   "cell_type": "code",
   "execution_count": 75,
   "id": "d5587fea-637e-42b5-8d42-61f57c97ff1f",
   "metadata": {},
   "outputs": [
    {
     "name": "stdout",
     "output_type": "stream",
     "text": [
      "update_col: col_score score applied, 1134 records less!\n",
      "update_col: 811 cells written into existing column\n",
      "time: 4.65 s\n"
     ]
    }
   ],
   "source": [
    "# Nur Adjektive / Ptz1: data_id schreiben aus wiktionary_lemma\n",
    "mask_L = wiktionary_lemma.tagZ == 'ADJ'\n",
    "mask_M = wiktionary_merkmal.merkmal.str.contains('Ptz1')  |  wiktionary_merkmal.merkmal.str.contains('Ptz2')\n",
    "\n",
    "wiktionary_merkmal.loc[mask_M] = pak.update_col( df_to =      wiktionary_merkmal[mask_M], \n",
    "                                                 df_from =    wiktionary_lemma[mask_L], \n",
    "                                                 left_on =    'data',\n",
    "                                                 right_on =   'lemma',\n",
    "                                                 col =        'lemma_id',\n",
    "                                                 col_rename = 'data_id',\n",
    "                                                 col_score =  'score',\n",
    "                                                 cond =       'null',                                       \n",
    "                                            )"
   ]
  },
  {
   "cell_type": "raw",
   "id": "0dbdf54e-d91a-45df-8042-dc60a9c2bd99",
   "metadata": {},
   "source": [
    "mask_L = wiktionary_lemma.tagZ == 'ADJ'\n",
    "mask4 = wiktionary_lemma.data_id == suche_L_id\n",
    "mask = mask_L  &  mask4\n",
    "wiktionary_lemma[mask]"
   ]
  },
  {
   "cell_type": "code",
   "execution_count": 76,
   "id": "5e9e640f-cefe-4465-b872-bf600fa99fec",
   "metadata": {},
   "outputs": [
    {
     "name": "stdout",
     "output_type": "stream",
     "text": [
      "time: 329 ms\n"
     ]
    }
   ],
   "source": [
    "# Vergebene data_id eindeutig?\n",
    "mask_notempty = wiktionary_merkmal.data_id != ''\n",
    "a = pak.same_but_different(wiktionary_merkmal[mask_notempty],same='data_id',different='data')\n",
    "assert a.shape[0] == 0\n",
    "#grid(a)"
   ]
  },
  {
   "cell_type": "code",
   "execution_count": 77,
   "id": "9546e157-28b9-4135-8aae-db21422a4de8",
   "metadata": {},
   "outputs": [
    {
     "name": "stdout",
     "output_type": "stream",
     "text": [
      "time: 37.1 ms\n"
     ]
    }
   ],
   "source": [
    "#mask = wiktionary_merkmal.data == 'anscheinend'\n",
    "#wiktionary_merkmal[mask]"
   ]
  },
  {
   "cell_type": "code",
   "execution_count": 78,
   "id": "dab90464-bafb-4219-afd8-642db5a8846d",
   "metadata": {},
   "outputs": [
    {
     "name": "stdout",
     "output_type": "stream",
     "text": [
      "update_col: col_score score applied, 3019 records less!\n",
      "update_col: 984655 cells written into existing column\n",
      "time: 18.3 s\n"
     ]
    }
   ],
   "source": [
    "# data_id schreiben aus wiktionary_lemma, tag muss übereinstimmen\n",
    "wiktionary_merkmal = pak.update_col( df_to =      wiktionary_merkmal, \n",
    "                                     df_from =    wiktionary_lemma, \n",
    "                                     left_on =    ['data','lemma_tag'],\n",
    "                                     right_on =   ['lemma','tag'],\n",
    "                                     col =        'lemma_id',\n",
    "                                     col_rename = 'data_id',\n",
    "                                     col_score =  'score',\n",
    "                                     cond =       'null',                                    \n",
    "                                            )"
   ]
  },
  {
   "cell_type": "code",
   "execution_count": 79,
   "id": "9a01f644-8495-401e-a0f8-b5b03bffe70c",
   "metadata": {},
   "outputs": [
    {
     "name": "stdout",
     "output_type": "stream",
     "text": [
      "time: 1.92 s\n"
     ]
    }
   ],
   "source": [
    "# Vergebene data_id eindeutig?\n",
    "mask_notempty = wiktionary_merkmal.data_id != ''\n",
    "a = pak.same_but_different(wiktionary_merkmal[mask_notempty],same='data_id',different='data')\n",
    "assert a.shape[0] == 0\n",
    "#grid(a)"
   ]
  },
  {
   "cell_type": "code",
   "execution_count": 80,
   "id": "10bbea8e-8c9f-487b-9270-e69f1728107f",
   "metadata": {},
   "outputs": [
    {
     "name": "stdout",
     "output_type": "stream",
     "text": [
      "update_col: col_score score applied, 4711 records less!\n",
      "update_col: 988475 cells written into existing column\n",
      "time: 17.4 s\n"
     ]
    }
   ],
   "source": [
    "# data_id ergänzen aus wiktionary_lemma, alle sonstigen\n",
    "wiktionary_merkmal = pak.update_col( df_to =      wiktionary_merkmal, \n",
    "                                     df_from =    wiktionary_lemma, \n",
    "                                     left_on =    'data',\n",
    "                                     right_on =   'lemma',\n",
    "                                     col =        'lemma_id',\n",
    "                                     col_rename = 'data_id',\n",
    "                                     col_score =  'score',\n",
    "                                     cond =       'null',\n",
    "                                            )"
   ]
  },
  {
   "cell_type": "code",
   "execution_count": 81,
   "id": "876a777f-1b4e-4940-9fe2-464d742ca08a",
   "metadata": {},
   "outputs": [
    {
     "name": "stdout",
     "output_type": "stream",
     "text": [
      "time: 2.79 s\n"
     ]
    }
   ],
   "source": [
    "# Vergebene data_id eindeutig?\n",
    "mask_notempty = wiktionary_merkmal.data_id != ''\n",
    "a = pak.same_but_different(wiktionary_merkmal[mask_notempty],same='data_id',different='data')\n",
    "assert a.shape[0] == 0\n",
    "#grid(a)"
   ]
  },
  {
   "cell_type": "code",
   "execution_count": 82,
   "id": "3b3f3cfa-e617-4948-ad04-928dd95c59da",
   "metadata": {},
   "outputs": [
    {
     "name": "stdout",
     "output_type": "stream",
     "text": [
      "update_col: col_score score applied, 23427 records less!\n",
      "update_col: 605081 cells written into existing column\n",
      "time: 19.9 s\n"
     ]
    }
   ],
   "source": [
    "# data_id ergänzen aus wiktionary_nolemma\n",
    "wiktionary_merkmal = pak.update_col( df_to =      wiktionary_merkmal, \n",
    "                                     df_from =    wiktionary_nolemma, \n",
    "                                     left_on =    'data',\n",
    "                                     right_on =   'lex',\n",
    "                                     col =        'nolemma_id',\n",
    "                                     col_rename = 'data_id',\n",
    "                                     col_score =  'score',\n",
    "                                     cond =       'null',\n",
    "                                            )"
   ]
  },
  {
   "cell_type": "code",
   "execution_count": 83,
   "id": "a1be66a4-37d2-4dfa-89ac-310d32d56677",
   "metadata": {},
   "outputs": [
    {
     "name": "stdout",
     "output_type": "stream",
     "text": [
      "time: 4.11 s\n"
     ]
    }
   ],
   "source": [
    "# Vergebene data_id eindeutig?\n",
    "mask_notempty = wiktionary_merkmal.data_id != ''\n",
    "a = pak.same_but_different(wiktionary_merkmal[mask_notempty],same='data_id',different='data')\n",
    "assert a.shape[0] == 0\n",
    "#grid(a)"
   ]
  },
  {
   "cell_type": "code",
   "execution_count": 84,
   "id": "8add8d88-b48e-437d-aaea-552f04032ee5",
   "metadata": {},
   "outputs": [
    {
     "name": "stdout",
     "output_type": "stream",
     "text": [
      "time: 37.4 ms\n"
     ]
    }
   ],
   "source": [
    "# Backup ziehen\n",
    "#wiktionary_merkmal_bak = wiktionary_merkmal.copy()\n",
    "#wiktionary_merkmal = wiktionary_merkmal_bak.copy()"
   ]
  },
  {
   "cell_type": "code",
   "execution_count": 85,
   "id": "3c11397c-5c07-49e7-8d3f-29feefe0d873",
   "metadata": {},
   "outputs": [
    {
     "name": "stdout",
     "output_type": "stream",
     "text": [
      "check_mask:  55067 rows\n",
      "time: 4.28 s\n"
     ]
    }
   ],
   "source": [
    "# data_id ist Verweis auf das eigene lemma\n",
    "mask1a = wiktionary_merkmal.merkmal.str.endswith(('Sg','Pl','Sg m','Sg f','Sg n', 'Pl m', 'Pl f', 'Pl n'))\n",
    "mask1b = wiktionary_merkmal.merkmal.str.endswith((' ich',' du',' ersiees',' wir',' ihr',' sie'))\n",
    "mask1c = wiktionary_merkmal.merkmal.isin(['VAFIN','lex','weib','gm','klein','abk','Ptz2','männ','alt','alt_1','alt_2',\n",
    "                                          'alt_3','lexAlt','alt_abk','alt_klein','alt_weib','alt_männ','Gen','VVIZU','Superlativ','Komparativ','VMFIN'])\n",
    "mask2 =  wiktionary_merkmal.data_id == ''\n",
    "mask3 =  wiktionary_merkmal.is_lex == True\n",
    "mask = (mask1a | mask1b | mask1c)  &  mask2  &  mask3  \n",
    "check_mask(wiktionary_merkmal,mask,55025)\n",
    "\n",
    "wiktionary_merkmal.loc[mask,'data_id'] = wiktionary_merkmal[mask].lemma_id + '~' + wiktionary_merkmal[mask].data"
   ]
  },
  {
   "cell_type": "code",
   "execution_count": 86,
   "id": "5f96094e-5c8f-44c2-bd24-f7a52aacd5ca",
   "metadata": {},
   "outputs": [
    {
     "name": "stdout",
     "output_type": "stream",
     "text": [
      "time: 38.1 ms\n"
     ]
    }
   ],
   "source": [
    "#grid(wiktionary_merkmal,mask)"
   ]
  },
  {
   "cell_type": "code",
   "execution_count": 87,
   "id": "84a08a07-1ffd-4f08-be0a-dd816e3c95a8",
   "metadata": {},
   "outputs": [
    {
     "name": "stdout",
     "output_type": "stream",
     "text": [
      "time: 4.36 s\n"
     ]
    }
   ],
   "source": [
    "# Vergebene data_id eindeutig?\n",
    "mask_notempty = wiktionary_merkmal.data_id != ''\n",
    "a = pak.same_but_different(wiktionary_merkmal[mask_notempty],same='data_id',different='data')\n",
    "assert a.shape[0] == 0\n",
    "#grid(a)"
   ]
  },
  {
   "cell_type": "code",
   "execution_count": 88,
   "id": "7e20a7b4-8d2e-4109-90c8-7608b0a80df6",
   "metadata": {},
   "outputs": [
    {
     "name": "stdout",
     "output_type": "stream",
     "text": [
      "check_mask:  61 rows\n",
      "Move 61 rows from 4974350\n",
      "time: 3.21 s\n"
     ]
    }
   ],
   "source": [
    "# Artefakte\n",
    "artefakte = ['Nebensatzkonjugation','Hauptsatzkonjugation']\n",
    "mask = wiktionary_merkmal.data.isin(artefakte)\n",
    "check_mask(wiktionary_merkmal,mask,60)\n",
    "wiktionary_merkmal, wiktionary_merkmal_trash = pak.move_rows(wiktionary_merkmal,wiktionary_merkmal_trash, mask, 'artefakte')"
   ]
  },
  {
   "cell_type": "code",
   "execution_count": 89,
   "id": "b56050c6-29b7-44ad-961c-6a747f2a461b",
   "metadata": {},
   "outputs": [
    {
     "name": "stdout",
     "output_type": "stream",
     "text": [
      "check_mask:  108 rows\n",
      "time: 2.74 s\n"
     ]
    }
   ],
   "source": [
    "# gm Merkmale\n",
    "mask1 =  wiktionary_merkmal.merkmal == 'gm'\n",
    "mask2 =  wiktionary_merkmal.data_id == ''\n",
    "mask3 = ~wiktionary_merkmal.data.str.contains('\\(')\n",
    "mask = mask1  &  mask2  &  mask3\n",
    "check_mask(wiktionary_merkmal,mask,114)\n",
    "#grid(wiktionary_merkmal,mask)\n",
    "wiktionary_merkmal.loc[mask,'data_id'] = wiktionary_merkmal[mask].lemma_id + '~' + wiktionary_merkmal[mask].data"
   ]
  },
  {
   "cell_type": "code",
   "execution_count": 90,
   "id": "8b297a15-f436-47e7-9a20-5064aac32363",
   "metadata": {},
   "outputs": [
    {
     "name": "stdout",
     "output_type": "stream",
     "text": [
      "time: 4.5 s\n"
     ]
    }
   ],
   "source": [
    "# Vergebene data_id eindeutig?\n",
    "mask_notempty = wiktionary_merkmal.data_id != ''\n",
    "a = pak.same_but_different(wiktionary_merkmal[mask_notempty],same='data_id',different='data')\n",
    "assert a.shape[0] == 0\n",
    "#grid(a)"
   ]
  },
  {
   "cell_type": "code",
   "execution_count": 91,
   "id": "c587420a-af56-40ea-babf-ad2f0cde9d52",
   "metadata": {},
   "outputs": [
    {
     "name": "stdout",
     "output_type": "stream",
     "text": [
      "time: 58.7 ms\n"
     ]
    }
   ],
   "source": [
    "# data_tag\n",
    "wiktionary_merkmal['data_tag'] = ''"
   ]
  },
  {
   "cell_type": "code",
   "execution_count": 92,
   "id": "7939419b-14bc-442a-ad8a-6e44130b9ec5",
   "metadata": {},
   "outputs": [
    {
     "data": {
      "text/html": [
       "<div>\n",
       "<style scoped>\n",
       "    .dataframe tbody tr th:only-of-type {\n",
       "        vertical-align: middle;\n",
       "    }\n",
       "\n",
       "    .dataframe tbody tr th {\n",
       "        vertical-align: top;\n",
       "    }\n",
       "\n",
       "    .dataframe thead th {\n",
       "        text-align: right;\n",
       "    }\n",
       "</style>\n",
       "<table border=\"1\" class=\"dataframe\">\n",
       "  <thead>\n",
       "    <tr style=\"text-align: right;\">\n",
       "      <th></th>\n",
       "      <th>lemma_id</th>\n",
       "      <th>merkmal</th>\n",
       "      <th>data_id</th>\n",
       "      <th>data</th>\n",
       "      <th>data_tag</th>\n",
       "      <th>lemma_tag</th>\n",
       "      <th>num</th>\n",
       "      <th>meta</th>\n",
       "      <th>score</th>\n",
       "      <th>is_lex</th>\n",
       "    </tr>\n",
       "  </thead>\n",
       "  <tbody>\n",
       "    <tr>\n",
       "      <th>0</th>\n",
       "      <td>Hallo</td>\n",
       "      <td>syn</td>\n",
       "      <td>Gejohle</td>\n",
       "      <td>Gejohle</td>\n",
       "      <td></td>\n",
       "      <td>NN</td>\n",
       "      <td>1</td>\n",
       "      <td></td>\n",
       "      <td>7.282582</td>\n",
       "      <td>False</td>\n",
       "    </tr>\n",
       "  </tbody>\n",
       "</table>\n",
       "</div>"
      ],
      "text/plain": [
       "  lemma_id merkmal  data_id     data data_tag lemma_tag num meta     score  \\\n",
       "0    Hallo     syn  Gejohle  Gejohle                 NN   1       7.282582   \n",
       "\n",
       "   is_lex  \n",
       "0   False  "
      ]
     },
     "execution_count": 92,
     "metadata": {},
     "output_type": "execute_result"
    },
    {
     "name": "stdout",
     "output_type": "stream",
     "text": [
      "time: 127 ms\n"
     ]
    }
   ],
   "source": [
    "# Spalten sortieren\n",
    "wiktionary_merkmal = pak.move_cols(wiktionary_merkmal,['lemma_id','merkmal','data_id','data','data_tag','lemma_tag','num','meta','score'])\n",
    "wiktionary_merkmal.head(1)"
   ]
  },
  {
   "cell_type": "code",
   "execution_count": 93,
   "id": "001717f5-573b-4c57-82ed-727d4c1b403b",
   "metadata": {},
   "outputs": [
    {
     "name": "stdout",
     "output_type": "stream",
     "text": [
      "check_mask:  6 rows\n",
      "time: 578 ms\n"
     ]
    }
   ],
   "source": [
    "# Prüfen: Fast alle Lexeme haben eine data_id\n",
    "mask1 = wiktionary_merkmal.data_id == ''\n",
    "mask2 = wiktionary_merkmal.is_lex == True\n",
    "mask_noid = mask1  &  mask2\n",
    "check_mask(wiktionary_merkmal,mask_noid,0,6)"
   ]
  },
  {
   "cell_type": "code",
   "execution_count": 94,
   "id": "c8070e53-7271-47d6-9cdd-2575085e35cf",
   "metadata": {},
   "outputs": [
    {
     "data": {
      "text/html": [
       "<div>\n",
       "<style scoped>\n",
       "    .dataframe tbody tr th:only-of-type {\n",
       "        vertical-align: middle;\n",
       "    }\n",
       "\n",
       "    .dataframe tbody tr th {\n",
       "        vertical-align: top;\n",
       "    }\n",
       "\n",
       "    .dataframe thead th {\n",
       "        text-align: right;\n",
       "    }\n",
       "</style>\n",
       "<table border=\"1\" class=\"dataframe\">\n",
       "  <thead>\n",
       "    <tr style=\"text-align: right;\">\n",
       "      <th></th>\n",
       "      <th>lemma_id</th>\n",
       "      <th>merkmal</th>\n",
       "      <th>data_id</th>\n",
       "      <th>data</th>\n",
       "      <th>data_tag</th>\n",
       "      <th>lemma_tag</th>\n",
       "      <th>num</th>\n",
       "      <th>meta</th>\n",
       "      <th>score</th>\n",
       "      <th>is_lex</th>\n",
       "    </tr>\n",
       "  </thead>\n",
       "  <tbody>\n",
       "    <tr>\n",
       "      <th>1642057</th>\n",
       "      <td>zu_viele</td>\n",
       "      <td>alt</td>\n",
       "      <td>zu_viele~zuviele</td>\n",
       "      <td>zuviele</td>\n",
       "      <td></td>\n",
       "      <td></td>\n",
       "      <td></td>\n",
       "      <td></td>\n",
       "      <td>1.412911</td>\n",
       "      <td>True</td>\n",
       "    </tr>\n",
       "  </tbody>\n",
       "</table>\n",
       "</div>"
      ],
      "text/plain": [
       "         lemma_id merkmal           data_id     data data_tag lemma_tag num  \\\n",
       "1642057  zu_viele     alt  zu_viele~zuviele  zuviele                          \n",
       "\n",
       "        meta     score  is_lex  \n",
       "1642057       1.412911    True  "
      ]
     },
     "execution_count": 94,
     "metadata": {},
     "output_type": "execute_result"
    },
    {
     "name": "stdout",
     "output_type": "stream",
     "text": [
      "time: 815 ms\n"
     ]
    }
   ],
   "source": [
    "# Fehlende data_id finden\n",
    "mask1 = wiktionary_merkmal.data.isin(wiktionary_merkmal[mask_noid].data)\n",
    "mask2 = wiktionary_merkmal.data_id != ''\n",
    "mask = mask1  &  mask2\n",
    "wiktionary_merkmal[mask]"
   ]
  },
  {
   "cell_type": "code",
   "execution_count": 95,
   "id": "34504983-30e3-49cf-a3f1-385d80970a31",
   "metadata": {},
   "outputs": [
    {
     "name": "stdout",
     "output_type": "stream",
     "text": [
      "update_col: 1 cells written into existing column\n",
      "time: 1.97 s\n"
     ]
    }
   ],
   "source": [
    "# data_id ergänzen aus wiktionary_merkmal selbst\n",
    "wiktionary_merkmal.loc[mask_noid] = pak.update_col( df_to =      wiktionary_merkmal[mask_noid], \n",
    "                                                    df_from =    wiktionary_merkmal[mask],\n",
    "                                                    on =         'data',\n",
    "                                                    col =        'data_id',\n",
    "                                            )"
   ]
  },
  {
   "cell_type": "code",
   "execution_count": 96,
   "id": "62807395-f925-4cce-b9b2-e44881543841",
   "metadata": {},
   "outputs": [
    {
     "name": "stdout",
     "output_type": "stream",
     "text": [
      "check_mask:  12 rows\n",
      "Move 12 rows from 4974289\n",
      "12 rows out of 13320\n"
     ]
    },
    {
     "data": {
      "text/html": [
       "\n",
       "        <iframe\n",
       "            width=\"100%\"\n",
       "            height=\"475\"\n",
       "            src=\"http://pop-os:40000/dtale/iframe/9\"\n",
       "            frameborder=\"0\"\n",
       "            allowfullscreen\n",
       "            \n",
       "        ></iframe>\n",
       "        "
      ],
      "text/plain": [
       "<IPython.lib.display.IFrame at 0x7f6d79581a90>"
      ]
     },
     "metadata": {},
     "output_type": "display_data"
    },
    {
     "data": {
      "text/plain": []
     },
     "execution_count": 96,
     "metadata": {},
     "output_type": "execute_result"
    },
    {
     "name": "stdout",
     "output_type": "stream",
     "text": [
      "time: 3.89 s\n"
     ]
    }
   ],
   "source": [
    "# Löschen: Lexeme ohne data_id\n",
    "mask1  = wiktionary_merkmal.data_id == ''\n",
    "mask2A = wiktionary_merkmal.is_lex == True\n",
    "mask2B = wiktionary_merkmal.merkmal == 'gm'\n",
    "mask_noid = mask1  &  (mask2A | mask2B)\n",
    "check_mask(wiktionary_merkmal,mask_noid,0,15)\n",
    "\n",
    "msg = 'no data_id'\n",
    "wiktionary_merkmal, wiktionary_merkmal_trash = pak.move_rows(wiktionary_merkmal,wiktionary_merkmal_trash, mask_noid, msg)\n",
    "grid(wiktionary_merkmal_trash,msg)"
   ]
  },
  {
   "cell_type": "markdown",
   "id": "1d862639-4771-4994-b27b-24b55c0adb9d",
   "metadata": {},
   "source": [
    "### wiktionary_merkmal_wertlos\n",
    "* nimmt alle Datensätze aus wiktionary_merkmal, deren data_id leer geblieben ist und die auch sonst keinen Nutzen haben"
   ]
  },
  {
   "cell_type": "code",
   "execution_count": 97,
   "id": "f7bfb468-6a43-4957-aad7-dbe5c0bf7fb8",
   "metadata": {},
   "outputs": [
    {
     "name": "stdout",
     "output_type": "stream",
     "text": [
      "['ipa', 'syllables', 'rhymes', 'Genus', 'up']\n",
      "time: 45.5 ms\n"
     ]
    }
   ],
   "source": [
    "# Merkmale, die ohne data_id auskommen\n",
    "print(merkmale_ohne_data_id)"
   ]
  },
  {
   "cell_type": "code",
   "execution_count": 98,
   "id": "bbb3764b-1bea-475f-ba5c-c9dbdadf9011",
   "metadata": {},
   "outputs": [
    {
     "name": "stdout",
     "output_type": "stream",
     "text": [
      "check_mask:  323913 rows\n",
      "time: 993 ms\n"
     ]
    }
   ],
   "source": [
    "# Datensätze ohne data_id\n",
    "mask1 =  wiktionary_merkmal.data_id == ''\n",
    "mask2 = ~wiktionary_merkmal.merkmal.isin(merkmale_ohne_data_id)\n",
    "mask = mask1  &  mask2\n",
    "check_mask(wiktionary_merkmal,mask,323911) \n",
    "#grid(wiktionary_merkmal[mask]) "
   ]
  },
  {
   "cell_type": "code",
   "execution_count": 99,
   "id": "89003f14-7e16-4aac-bde1-c37f68ccc6cb",
   "metadata": {},
   "outputs": [
    {
     "name": "stdout",
     "output_type": "stream",
     "text": [
      "14 rows\n"
     ]
    },
    {
     "data": {
      "text/html": [
       "\n",
       "        <iframe\n",
       "            width=\"100%\"\n",
       "            height=\"475\"\n",
       "            src=\"http://pop-os:40000/dtale/iframe/10\"\n",
       "            frameborder=\"0\"\n",
       "            allowfullscreen\n",
       "            \n",
       "        ></iframe>\n",
       "        "
      ],
      "text/plain": [
       "<IPython.lib.display.IFrame at 0x7f6dc4f14eb0>"
      ]
     },
     "metadata": {},
     "output_type": "display_data"
    },
    {
     "data": {
      "text/plain": []
     },
     "execution_count": 99,
     "metadata": {},
     "output_type": "execute_result"
    },
    {
     "name": "stdout",
     "output_type": "stream",
     "text": [
      "time: 490 ms\n"
     ]
    }
   ],
   "source": [
    "# Reste: data_id ist null geblieben\n",
    "a = pak.analyse_freqs(wiktionary_merkmal[mask],'merkmal')\n",
    "grid(a)"
   ]
  },
  {
   "cell_type": "code",
   "execution_count": 100,
   "id": "9bc61780-76ee-43e9-b398-2be8b681460c",
   "metadata": {},
   "outputs": [
    {
     "name": "stdout",
     "output_type": "stream",
     "text": [
      "28007 rows\n"
     ]
    },
    {
     "data": {
      "text/html": [
       "\n",
       "        <iframe\n",
       "            width=\"100%\"\n",
       "            height=\"475\"\n",
       "            src=\"http://pop-os:40000/dtale/iframe/11\"\n",
       "            frameborder=\"0\"\n",
       "            allowfullscreen\n",
       "            \n",
       "        ></iframe>\n",
       "        "
      ],
      "text/plain": [
       "<IPython.lib.display.IFrame at 0x7f6d46d6eaf0>"
      ]
     },
     "metadata": {},
     "output_type": "display_data"
    },
    {
     "data": {
      "text/plain": []
     },
     "execution_count": 100,
     "metadata": {},
     "output_type": "execute_result"
    },
    {
     "name": "stdout",
     "output_type": "stream",
     "text": [
      "time: 999 ms\n"
     ]
    }
   ],
   "source": [
    "# einzelne Merkmale betrachten\n",
    "mask3 = wiktionary_merkmal.merkmal == 'def'\n",
    "grid(wiktionary_merkmal[mask & mask3]) "
   ]
  },
  {
   "cell_type": "code",
   "execution_count": 101,
   "id": "b9a4f416-345e-47ee-b08b-18cf0d4f298b",
   "metadata": {},
   "outputs": [
    {
     "name": "stdout",
     "output_type": "stream",
     "text": [
      "Move 323913 rows from 4974277\n",
      "time: 4 s\n"
     ]
    }
   ],
   "source": [
    "# Datensätze in wiktionary_merkmal_wertlos verschieben\n",
    "wiktionary_merkmal, wiktionary_merkmal_wertlos = pak.move_rows(wiktionary_merkmal,mask, msg=None)"
   ]
  },
  {
   "cell_type": "code",
   "execution_count": 102,
   "id": "7e03f4d6-f2a6-4716-9229-c85d3a41f04f",
   "metadata": {},
   "outputs": [
    {
     "name": "stdout",
     "output_type": "stream",
     "text": [
      "time: 152 ms\n"
     ]
    }
   ],
   "source": [
    "# drop_cols\n",
    "wiktionary_merkmal_wertlos = pak.drop_cols(wiktionary_merkmal_wertlos,['data_id'])"
   ]
  },
  {
   "cell_type": "code",
   "execution_count": 103,
   "id": "a1b7087c-d3e7-4290-b577-50ecdd7441a7",
   "metadata": {},
   "outputs": [
    {
     "name": "stdout",
     "output_type": "stream",
     "text": [
      "check_mask:  0 rows\n",
      "time: 164 ms\n"
     ]
    }
   ],
   "source": [
    "# Prüfen, ob da unerlaubte Merkmale drin sind\n",
    "mask1 = ~wiktionary_merkmal_wertlos.merkmal.isin(merkmale_in_wiktionary_merkmal_wertlos)\n",
    "mask2 = ~wiktionary_merkmal_wertlos.meta.str.contains('manuell')\n",
    "mask = mask1  &  mask2\n",
    "check_mask(wiktionary_merkmal_wertlos,mask,0)\n",
    "#grid(wiktionary_merkmal_wertlos,mask)"
   ]
  },
  {
   "cell_type": "code",
   "execution_count": 104,
   "id": "107ca86e-1c8a-475f-a899-dcfc811ebca6",
   "metadata": {},
   "outputs": [
    {
     "name": "stdout",
     "output_type": "stream",
     "text": [
      "20 rows\n"
     ]
    },
    {
     "data": {
      "text/html": [
       "\n",
       "        <iframe\n",
       "            width=\"100%\"\n",
       "            height=\"475\"\n",
       "            src=\"http://pop-os:40000/dtale/iframe/12\"\n",
       "            frameborder=\"0\"\n",
       "            allowfullscreen\n",
       "            \n",
       "        ></iframe>\n",
       "        "
      ],
      "text/plain": [
       "<IPython.lib.display.IFrame at 0x7f6dc4e9db50>"
      ]
     },
     "metadata": {},
     "output_type": "display_data"
    },
    {
     "data": {
      "text/plain": []
     },
     "execution_count": 104,
     "metadata": {},
     "output_type": "execute_result"
    },
    {
     "name": "stdout",
     "output_type": "stream",
     "text": [
      "time: 687 ms\n"
     ]
    }
   ],
   "source": [
    "# Häufig vorkommende Worte\n",
    "a = pak.analyse_freqs(wiktionary_merkmal_wertlos,'data')\n",
    "grid(a.head(20))"
   ]
  },
  {
   "cell_type": "code",
   "execution_count": 105,
   "id": "3adfc8f8-cd16-493b-afc4-cb528d2bf311",
   "metadata": {},
   "outputs": [
    {
     "name": "stdout",
     "output_type": "stream",
     "text": [
      "time: 67.7 ms\n"
     ]
    }
   ],
   "source": [
    "#mask = wiktionary_merkmal_wertlos.data == 'Essen und Trinken/Küchenkräuter und Gewürze'\n",
    "#wiktionary_merkmal_wertlos[mask]"
   ]
  },
  {
   "cell_type": "code",
   "execution_count": 106,
   "id": "32ebab77-7bd6-4c71-8150-0d0de79cd963",
   "metadata": {},
   "outputs": [
    {
     "name": "stdout",
     "output_type": "stream",
     "text": [
      "time: 92.7 ms\n"
     ]
    }
   ],
   "source": [
    "#pak.analyse_cols(wiktionary_merkmal_wertlos)"
   ]
  },
  {
   "cell_type": "code",
   "execution_count": 107,
   "id": "6f58049f-5301-4d70-9912-67c8c1049dfb",
   "metadata": {},
   "outputs": [
    {
     "data": {
      "text/html": [
       "<div>\n",
       "<style scoped>\n",
       "    .dataframe tbody tr th:only-of-type {\n",
       "        vertical-align: middle;\n",
       "    }\n",
       "\n",
       "    .dataframe tbody tr th {\n",
       "        vertical-align: top;\n",
       "    }\n",
       "\n",
       "    .dataframe thead th {\n",
       "        text-align: right;\n",
       "    }\n",
       "</style>\n",
       "<table border=\"1\" class=\"dataframe\">\n",
       "  <thead>\n",
       "    <tr style=\"text-align: right;\">\n",
       "      <th></th>\n",
       "      <th>lemma_id</th>\n",
       "      <th>merkmal</th>\n",
       "      <th>data_id</th>\n",
       "      <th>data</th>\n",
       "      <th>data_tag</th>\n",
       "      <th>lemma_tag</th>\n",
       "      <th>num</th>\n",
       "      <th>meta</th>\n",
       "      <th>score</th>\n",
       "      <th>is_lex</th>\n",
       "    </tr>\n",
       "  </thead>\n",
       "  <tbody>\n",
       "    <tr>\n",
       "      <th>8</th>\n",
       "      <td>Subfamilia</td>\n",
       "      <td>up</td>\n",
       "      <td></td>\n",
       "      <td>Familia</td>\n",
       "      <td></td>\n",
       "      <td>NN</td>\n",
       "      <td>1</td>\n",
       "      <td></td>\n",
       "      <td>5.028015</td>\n",
       "      <td>False</td>\n",
       "    </tr>\n",
       "    <tr>\n",
       "      <th>104</th>\n",
       "      <td>Dezember</td>\n",
       "      <td>up</td>\n",
       "      <td></td>\n",
       "      <td>Zeit und Kalender</td>\n",
       "      <td></td>\n",
       "      <td>NN</td>\n",
       "      <td>1</td>\n",
       "      <td></td>\n",
       "      <td>23.587090</td>\n",
       "      <td>False</td>\n",
       "    </tr>\n",
       "    <tr>\n",
       "      <th>227</th>\n",
       "      <td>März</td>\n",
       "      <td>up</td>\n",
       "      <td></td>\n",
       "      <td>Zeit und Kalender</td>\n",
       "      <td></td>\n",
       "      <td>NN</td>\n",
       "      <td>1</td>\n",
       "      <td>auch</td>\n",
       "      <td>20.813643</td>\n",
       "      <td>False</td>\n",
       "    </tr>\n",
       "    <tr>\n",
       "      <th>258</th>\n",
       "      <td>April</td>\n",
       "      <td>up</td>\n",
       "      <td></td>\n",
       "      <td>Zeit und Kalender</td>\n",
       "      <td></td>\n",
       "      <td>NN</td>\n",
       "      <td>1</td>\n",
       "      <td>auch</td>\n",
       "      <td>28.487211</td>\n",
       "      <td>False</td>\n",
       "    </tr>\n",
       "    <tr>\n",
       "      <th>288</th>\n",
       "      <td>Mai</td>\n",
       "      <td>up</td>\n",
       "      <td></td>\n",
       "      <td>Zeit und Kalender</td>\n",
       "      <td></td>\n",
       "      <td>NN</td>\n",
       "      <td>1</td>\n",
       "      <td>auch</td>\n",
       "      <td>25.984165</td>\n",
       "      <td>False</td>\n",
       "    </tr>\n",
       "    <tr>\n",
       "      <th>...</th>\n",
       "      <td>...</td>\n",
       "      <td>...</td>\n",
       "      <td>...</td>\n",
       "      <td>...</td>\n",
       "      <td>...</td>\n",
       "      <td>...</td>\n",
       "      <td>...</td>\n",
       "      <td>...</td>\n",
       "      <td>...</td>\n",
       "      <td>...</td>\n",
       "    </tr>\n",
       "    <tr>\n",
       "      <th>4987591</th>\n",
       "      <td>rüffel</td>\n",
       "      <td>syllables</td>\n",
       "      <td></td>\n",
       "      <td>rüf⇀fel</td>\n",
       "      <td></td>\n",
       "      <td></td>\n",
       "      <td></td>\n",
       "      <td></td>\n",
       "      <td>1.153471</td>\n",
       "      <td>False</td>\n",
       "    </tr>\n",
       "    <tr>\n",
       "      <th>4987592</th>\n",
       "      <td>anmaulte</td>\n",
       "      <td>syllables</td>\n",
       "      <td></td>\n",
       "      <td>an⇀maul⇀te</td>\n",
       "      <td></td>\n",
       "      <td></td>\n",
       "      <td></td>\n",
       "      <td></td>\n",
       "      <td>1.140073</td>\n",
       "      <td>False</td>\n",
       "    </tr>\n",
       "    <tr>\n",
       "      <th>4987594</th>\n",
       "      <td>maultest_an</td>\n",
       "      <td>syllables</td>\n",
       "      <td></td>\n",
       "      <td>maul⇀test⇀an</td>\n",
       "      <td></td>\n",
       "      <td></td>\n",
       "      <td></td>\n",
       "      <td></td>\n",
       "      <td>0.742857</td>\n",
       "      <td>False</td>\n",
       "    </tr>\n",
       "    <tr>\n",
       "      <th>4987595</th>\n",
       "      <td>prekärster</td>\n",
       "      <td>syllables</td>\n",
       "      <td></td>\n",
       "      <td>pre⇀kärs⇀ter</td>\n",
       "      <td></td>\n",
       "      <td></td>\n",
       "      <td></td>\n",
       "      <td></td>\n",
       "      <td>1.244823</td>\n",
       "      <td>False</td>\n",
       "    </tr>\n",
       "    <tr>\n",
       "      <th>4987596</th>\n",
       "      <td>gestaunter</td>\n",
       "      <td>syllables</td>\n",
       "      <td></td>\n",
       "      <td>ge⇀staun⇀ter</td>\n",
       "      <td></td>\n",
       "      <td></td>\n",
       "      <td></td>\n",
       "      <td></td>\n",
       "      <td>1.333739</td>\n",
       "      <td>False</td>\n",
       "    </tr>\n",
       "  </tbody>\n",
       "</table>\n",
       "<p>1989764 rows × 10 columns</p>\n",
       "</div>"
      ],
      "text/plain": [
       "            lemma_id    merkmal data_id               data data_tag lemma_tag  \\\n",
       "8         Subfamilia         up                    Familia                 NN   \n",
       "104         Dezember         up          Zeit und Kalender                 NN   \n",
       "227             März         up          Zeit und Kalender                 NN   \n",
       "258            April         up          Zeit und Kalender                 NN   \n",
       "288              Mai         up          Zeit und Kalender                 NN   \n",
       "...              ...        ...     ...                ...      ...       ...   \n",
       "4987591       rüffel  syllables                    rüf⇀fel                      \n",
       "4987592     anmaulte  syllables                 an⇀maul⇀te                      \n",
       "4987594  maultest_an  syllables               maul⇀test⇀an                      \n",
       "4987595   prekärster  syllables               pre⇀kärs⇀ter                      \n",
       "4987596   gestaunter  syllables               ge⇀staun⇀ter                      \n",
       "\n",
       "        num  meta      score  is_lex  \n",
       "8         1         5.028015   False  \n",
       "104       1        23.587090   False  \n",
       "227       1  auch  20.813643   False  \n",
       "258       1  auch  28.487211   False  \n",
       "288       1  auch  25.984165   False  \n",
       "...      ..   ...        ...     ...  \n",
       "4987591             1.153471   False  \n",
       "4987592             1.140073   False  \n",
       "4987594             0.742857   False  \n",
       "4987595             1.244823   False  \n",
       "4987596             1.333739   False  \n",
       "\n",
       "[1989764 rows x 10 columns]"
      ]
     },
     "execution_count": 107,
     "metadata": {},
     "output_type": "execute_result"
    },
    {
     "name": "stdout",
     "output_type": "stream",
     "text": [
      "time: 1.22 s\n"
     ]
    }
   ],
   "source": [
    "mask = wiktionary_merkmal.data_id == ''\n",
    "wiktionary_merkmal[mask]"
   ]
  },
  {
   "cell_type": "markdown",
   "id": "eb44744f-7b4a-4260-b294-17ccfc57d376",
   "metadata": {},
   "source": [
    "### wiktionary_lemma Spacy\n",
    "* doc_lemma: Welches lemma ermittelt Spacy?\n",
    "* doc_lemma: Welchen tag ermittelt Spacy?\n",
    "* doc_len"
   ]
  },
  {
   "cell_type": "code",
   "execution_count": 108,
   "id": "b63ec564-0c4b-4e8f-972f-edba81289e01",
   "metadata": {},
   "outputs": [
    {
     "name": "stdout",
     "output_type": "stream",
     "text": [
      "time: 36.7 ms\n"
     ]
    }
   ],
   "source": [
    "def analyse_spacy_wl(zeile):\n",
    "    doc = nlp(zeile.lemma)\n",
    "    zeile['doc_len']   = len(doc)  \n",
    "    if zeile['doc_len']  < 1:\n",
    "        return zeile    \n",
    "    \n",
    "    zeile['doc_lemma'] = ' '.join([token.lemma_ for token in doc])\n",
    "    zeile['doc_tag']   = ' '.join([token.tag_   for token in doc])    \n",
    "    \n",
    "    return zeile"
   ]
  },
  {
   "cell_type": "code",
   "execution_count": 109,
   "id": "19fbf708-6adf-4e05-aff3-2a3fa2292846",
   "metadata": {},
   "outputs": [
    {
     "data": {
      "application/vnd.jupyter.widget-view+json": {
       "model_id": "24c96371d4c54684b753559f35d61cd0",
       "version_major": 2,
       "version_minor": 0
      },
      "text/plain": [
       "VBox(children=(HBox(children=(IntProgress(value=0, description='0.00%', max=82673), Label(value='0 / 82673')))…"
      ]
     },
     "metadata": {},
     "output_type": "display_data"
    },
    {
     "name": "stdout",
     "output_type": "stream",
     "text": [
      "time: 9min 28s\n"
     ]
    }
   ],
   "source": [
    "# apply analyse_spacy_wl \n",
    "if gründlich:\n",
    "    wiktionary_lemma['doc_len']   = None\n",
    "    wiktionary_lemma['doc_lemma'] = None\n",
    "    wiktionary_lemma['doc_tag']   = None \n",
    "\n",
    "    wiktionary_lemma = wiktionary_lemma.swifter.apply( analyse_spacy_wl, axis=1 )\n",
    "    wiktionary_lemma = pak.change_datatype(wiktionary_lemma, verbose=False)  "
   ]
  },
  {
   "cell_type": "code",
   "execution_count": 110,
   "id": "2542f2aa-1496-4e75-9d12-362552cc2acc",
   "metadata": {},
   "outputs": [
    {
     "name": "stdout",
     "output_type": "stream",
     "text": [
      "time: 150 ms\n"
     ]
    }
   ],
   "source": [
    "# suche_debug wiktionary_lemma\n",
    "if gründlich:\n",
    "    spalten = ['lemma_id','lemma','page_part','tag','doc_len','doc_lemma','doc_tag']\n",
    "    search_str(wiktionary_lemma[spalten], suche_debug)"
   ]
  },
  {
   "cell_type": "markdown",
   "id": "7826772e-0c16-454f-865e-a1727a6b0f4a",
   "metadata": {},
   "source": [
    "## Prüfen NaN"
   ]
  },
  {
   "cell_type": "code",
   "execution_count": 111,
   "id": "08b65111-bef8-48c8-ae7e-c20e305d998c",
   "metadata": {},
   "outputs": [
    {
     "name": "stdout",
     "output_type": "stream",
     "text": [
      "time: 122 ms\n"
     ]
    }
   ],
   "source": [
    "assert not pak.any_nan(wiktionary_lemma)\n",
    "#pak.nnan(wiktionary_lemma)"
   ]
  },
  {
   "cell_type": "code",
   "execution_count": 112,
   "id": "a827ccf6-d210-4337-9aa9-55f2dd31198b",
   "metadata": {},
   "outputs": [
    {
     "name": "stdout",
     "output_type": "stream",
     "text": [
      "time: 411 ms\n"
     ]
    }
   ],
   "source": [
    "assert not pak.any_nan(wiktionary_nolemma)\n",
    "#pak.nnan(wiktionary_nolemma)"
   ]
  },
  {
   "cell_type": "code",
   "execution_count": 113,
   "id": "fbcec8cf-6cfd-4d26-b3f4-6a29c9f0ca7b",
   "metadata": {},
   "outputs": [
    {
     "name": "stdout",
     "output_type": "stream",
     "text": [
      "time: 2.09 s\n"
     ]
    }
   ],
   "source": [
    "assert not pak.any_nan(wiktionary_merkmal)\n",
    "#pak.nnan(wiktionary_merkmal)"
   ]
  },
  {
   "cell_type": "code",
   "execution_count": 114,
   "id": "fcee137e-91b6-4b56-89d5-d6814433f704",
   "metadata": {},
   "outputs": [
    {
     "name": "stdout",
     "output_type": "stream",
     "text": [
      "time: 167 ms\n"
     ]
    }
   ],
   "source": [
    "assert not pak.any_nan(wiktionary_merkmal_wertlos)\n",
    "#pak.nnan(wiktionary_merkmal_wertlos)"
   ]
  },
  {
   "cell_type": "code",
   "execution_count": 115,
   "id": "f2d9642b-b35b-471d-9611-40115cb60f07",
   "metadata": {},
   "outputs": [
    {
     "name": "stdout",
     "output_type": "stream",
     "text": [
      "time: 81.1 ms\n"
     ]
    }
   ],
   "source": [
    "# Prüfen: is_unique\n",
    "assert wiktionary_lemma.lemma_id.is_unique"
   ]
  },
  {
   "cell_type": "code",
   "execution_count": 116,
   "id": "75f6b90c-4cf9-48b5-af14-fefab5608e79",
   "metadata": {},
   "outputs": [
    {
     "name": "stdout",
     "output_type": "stream",
     "text": [
      "time: 198 ms\n"
     ]
    }
   ],
   "source": [
    "# Prüfen: is_unique\n",
    "assert wiktionary_nolemma.nolemma_id.is_unique"
   ]
  },
  {
   "cell_type": "markdown",
   "id": "c213d4d3-ec3b-4cfc-9091-6b97cbabbe33",
   "metadata": {},
   "source": [
    "## Prüfen lex_test"
   ]
  },
  {
   "cell_type": "code",
   "execution_count": 117,
   "id": "17e1de92-cc04-4699-a201-2f4391b21ccf",
   "metadata": {},
   "outputs": [
    {
     "name": "stdout",
     "output_type": "stream",
     "text": [
      "74 rows loaded\n",
      "Delete 17 rows from 74\n",
      "time: 1.61 s\n"
     ]
    }
   ],
   "source": [
    "# lex_test, lemma_test\n",
    "from x32_Funktionen import *\n",
    "lex_test, lemma_test = lade_lex_text( lex_test_filename, level=2 )\n",
    "#grid(lemma_test)"
   ]
  },
  {
   "cell_type": "code",
   "execution_count": 118,
   "id": "9f7e6af7-ef1a-4cf2-8d5b-48838266cf74",
   "metadata": {},
   "outputs": [
    {
     "name": "stdout",
     "output_type": "stream",
     "text": [
      "time: 3.38 s\n"
     ]
    }
   ],
   "source": [
    "# lemma_test\n",
    "from x32_Funktionen import *\n",
    "lemma_test = check_lemma_test(lemma_test, wiktionary_lemma)\n",
    "#lemma_test"
   ]
  },
  {
   "cell_type": "code",
   "execution_count": 119,
   "id": "d12dabec-1bed-49cb-9665-b98078793e0f",
   "metadata": {},
   "outputs": [
    {
     "name": "stdout",
     "output_type": "stream",
     "text": [
      "check_mask:  0 rows\n"
     ]
    },
    {
     "data": {
      "text/html": [
       "<div>\n",
       "<style scoped>\n",
       "    .dataframe tbody tr th:only-of-type {\n",
       "        vertical-align: middle;\n",
       "    }\n",
       "\n",
       "    .dataframe tbody tr th {\n",
       "        vertical-align: top;\n",
       "    }\n",
       "\n",
       "    .dataframe thead th {\n",
       "        text-align: right;\n",
       "    }\n",
       "</style>\n",
       "<table border=\"1\" class=\"dataframe\">\n",
       "  <thead>\n",
       "    <tr style=\"text-align: right;\">\n",
       "      <th></th>\n",
       "      <th>level</th>\n",
       "      <th>lemma_id</th>\n",
       "      <th>lemma</th>\n",
       "      <th>tag_soll</th>\n",
       "      <th>tag_ist</th>\n",
       "      <th>member_soll</th>\n",
       "      <th>check_tag</th>\n",
       "      <th>member_ist</th>\n",
       "      <th>check_member</th>\n",
       "    </tr>\n",
       "  </thead>\n",
       "  <tbody>\n",
       "  </tbody>\n",
       "</table>\n",
       "</div>"
      ],
      "text/plain": [
       "Empty DataFrame\n",
       "Columns: [level, lemma_id, lemma, tag_soll, tag_ist, member_soll, check_tag, member_ist, check_member]\n",
       "Index: []"
      ]
     },
     "execution_count": 119,
     "metadata": {},
     "output_type": "execute_result"
    },
    {
     "name": "stdout",
     "output_type": "stream",
     "text": [
      "time: 45.3 ms\n"
     ]
    }
   ],
   "source": [
    "# Fehler\n",
    "maskA = lemma_test.lemma_id == ''\n",
    "maskB = lemma_test.check_tag == ''\n",
    "mask = maskA | maskB\n",
    "check_mask(lemma_test,mask)\n",
    "\n",
    "probleme = list(lemma_test[mask].lemma)\n",
    "lemma_test[mask]"
   ]
  },
  {
   "cell_type": "code",
   "execution_count": 120,
   "id": "4834b7fb-95df-47c2-8b88-cbd5912b1e9f",
   "metadata": {},
   "outputs": [
    {
     "name": "stdout",
     "output_type": "stream",
     "text": [
      "check_mask:  0 rows\n",
      "time: 46.5 ms\n"
     ]
    }
   ],
   "source": [
    "# Sicherstellen: Keine Fehler\n",
    "check_mask(lemma_test,mask,0)"
   ]
  },
  {
   "cell_type": "markdown",
   "id": "c4f29b26-f087-4cfb-9dd8-7887c124d6d9",
   "metadata": {},
   "source": [
    "## suche_debug"
   ]
  },
  {
   "cell_type": "markdown",
   "id": "6205b609-51fa-4556-9b74-1c0689e00fae",
   "metadata": {},
   "source": [
    "### wiktionary_lemma"
   ]
  },
  {
   "cell_type": "code",
   "execution_count": 121,
   "id": "e9c5c089-1f09-4cc1-ac82-a9db0e3aee10",
   "metadata": {},
   "outputs": [
    {
     "data": {
      "text/html": [
       "<div>\n",
       "<style scoped>\n",
       "    .dataframe tbody tr th:only-of-type {\n",
       "        vertical-align: middle;\n",
       "    }\n",
       "\n",
       "    .dataframe tbody tr th {\n",
       "        vertical-align: top;\n",
       "    }\n",
       "\n",
       "    .dataframe thead th {\n",
       "        text-align: right;\n",
       "    }\n",
       "</style>\n",
       "<table border=\"1\" class=\"dataframe\">\n",
       "  <thead>\n",
       "    <tr style=\"text-align: right;\">\n",
       "      <th></th>\n",
       "      <th>lemma_id</th>\n",
       "      <th>page_id</th>\n",
       "      <th>page_part</th>\n",
       "      <th>lemma</th>\n",
       "      <th>lemma_lower</th>\n",
       "      <th>isupper</th>\n",
       "      <th>lemma_len</th>\n",
       "      <th>tag</th>\n",
       "      <th>tag_0</th>\n",
       "      <th>tag_1</th>\n",
       "      <th>tagZ</th>\n",
       "      <th>tagZZ</th>\n",
       "      <th>member</th>\n",
       "      <th>data_id</th>\n",
       "      <th>score</th>\n",
       "      <th>doc_len</th>\n",
       "      <th>doc_lemma</th>\n",
       "      <th>doc_tag</th>\n",
       "    </tr>\n",
       "  </thead>\n",
       "  <tbody>\n",
       "    <tr>\n",
       "      <th>2054</th>\n",
       "      <td>gefriergetrocknet</td>\n",
       "      <td>273380</td>\n",
       "      <td>0</td>\n",
       "      <td>gefriergetrocknet</td>\n",
       "      <td>gefriergetrocknet</td>\n",
       "      <td>False</td>\n",
       "      <td>1</td>\n",
       "      <td>ADJA</td>\n",
       "      <td>ADJA</td>\n",
       "      <td>s6ixiUi9BM</td>\n",
       "      <td>ADJ</td>\n",
       "      <td>A</td>\n",
       "      <td>Ptz2 noSteig manuell</td>\n",
       "      <td>gefriertrocknen</td>\n",
       "      <td>4.307552</td>\n",
       "      <td>1</td>\n",
       "      <td>friergetrocknen</td>\n",
       "      <td>VVPP</td>\n",
       "    </tr>\n",
       "    <tr>\n",
       "      <th>2055</th>\n",
       "      <td>gefriertrocknen</td>\n",
       "      <td>1054310</td>\n",
       "      <td>0</td>\n",
       "      <td>gefriertrocknen</td>\n",
       "      <td>gefriertrocknen</td>\n",
       "      <td>False</td>\n",
       "      <td>1</td>\n",
       "      <td>VVFIN</td>\n",
       "      <td>VVFIN</td>\n",
       "      <td>yJnWihTkXL</td>\n",
       "      <td>VER</td>\n",
       "      <td>V</td>\n",
       "      <td>manuell</td>\n",
       "      <td></td>\n",
       "      <td>14.872655</td>\n",
       "      <td>1</td>\n",
       "      <td>gefriertrockn</td>\n",
       "      <td>VVPP</td>\n",
       "    </tr>\n",
       "    <tr>\n",
       "      <th>2194</th>\n",
       "      <td>missraten</td>\n",
       "      <td>242150</td>\n",
       "      <td>0</td>\n",
       "      <td>missraten</td>\n",
       "      <td>missraten</td>\n",
       "      <td>False</td>\n",
       "      <td>1</td>\n",
       "      <td>VVFIN</td>\n",
       "      <td>VVFIN</td>\n",
       "      <td>DXXh04S9JZ</td>\n",
       "      <td>VER</td>\n",
       "      <td>V</td>\n",
       "      <td>manuell</td>\n",
       "      <td></td>\n",
       "      <td>4.922594</td>\n",
       "      <td>1</td>\n",
       "      <td>Missrat</td>\n",
       "      <td>VVFIN</td>\n",
       "    </tr>\n",
       "    <tr>\n",
       "      <th>140462</th>\n",
       "      <td>missraten_MADJ</td>\n",
       "      <td>-1</td>\n",
       "      <td>-1</td>\n",
       "      <td>missraten</td>\n",
       "      <td>missraten</td>\n",
       "      <td>False</td>\n",
       "      <td>1</td>\n",
       "      <td>ADJA</td>\n",
       "      <td>ADJA</td>\n",
       "      <td>dJ48jJBIod</td>\n",
       "      <td>ADJ</td>\n",
       "      <td>A</td>\n",
       "      <td>Ptz2 manuell</td>\n",
       "      <td>missraten</td>\n",
       "      <td>0.500000</td>\n",
       "      <td>1</td>\n",
       "      <td>Missrat</td>\n",
       "      <td>VVFIN</td>\n",
       "    </tr>\n",
       "  </tbody>\n",
       "</table>\n",
       "</div>"
      ],
      "text/plain": [
       "                 lemma_id  page_id  page_part              lemma  \\\n",
       "2054    gefriergetrocknet   273380          0  gefriergetrocknet   \n",
       "2055      gefriertrocknen  1054310          0    gefriertrocknen   \n",
       "2194            missraten   242150          0          missraten   \n",
       "140462     missraten_MADJ       -1         -1          missraten   \n",
       "\n",
       "              lemma_lower  isupper  lemma_len    tag  tag_0       tag_1 tagZ  \\\n",
       "2054    gefriergetrocknet    False          1   ADJA   ADJA  s6ixiUi9BM  ADJ   \n",
       "2055      gefriertrocknen    False          1  VVFIN  VVFIN  yJnWihTkXL  VER   \n",
       "2194            missraten    False          1  VVFIN  VVFIN  DXXh04S9JZ  VER   \n",
       "140462          missraten    False          1   ADJA   ADJA  dJ48jJBIod  ADJ   \n",
       "\n",
       "       tagZZ                member          data_id      score  doc_len  \\\n",
       "2054       A  Ptz2 noSteig manuell  gefriertrocknen   4.307552        1   \n",
       "2055       V               manuell                   14.872655        1   \n",
       "2194       V               manuell                    4.922594        1   \n",
       "140462     A          Ptz2 manuell        missraten   0.500000        1   \n",
       "\n",
       "              doc_lemma doc_tag  \n",
       "2054    friergetrocknen    VVPP  \n",
       "2055      gefriertrockn    VVPP  \n",
       "2194            Missrat   VVFIN  \n",
       "140462          Missrat   VVFIN  "
      ]
     },
     "execution_count": 121,
     "metadata": {},
     "output_type": "execute_result"
    },
    {
     "name": "stdout",
     "output_type": "stream",
     "text": [
      "time: 70.6 ms\n"
     ]
    }
   ],
   "source": [
    "mask = wiktionary_lemma.lemma.isin(suche_debug) \n",
    "wiktionary_lemma[mask]"
   ]
  },
  {
   "cell_type": "markdown",
   "id": "c81cf120-40cd-406d-92f7-bf6d91892cf0",
   "metadata": {},
   "source": [
    "### wiktionary_nolemma"
   ]
  },
  {
   "cell_type": "code",
   "execution_count": 122,
   "id": "a62f3393-272d-403a-84d3-3a426eb266f3",
   "metadata": {},
   "outputs": [
    {
     "name": "stdout",
     "output_type": "stream",
     "text": [
      "35 rows\n"
     ]
    },
    {
     "data": {
      "text/html": [
       "\n",
       "        <iframe\n",
       "            width=\"100%\"\n",
       "            height=\"475\"\n",
       "            src=\"http://pop-os:40000/dtale/iframe/13\"\n",
       "            frameborder=\"0\"\n",
       "            allowfullscreen\n",
       "            \n",
       "        ></iframe>\n",
       "        "
      ],
      "text/plain": [
       "<IPython.lib.display.IFrame at 0x7f6eb4284070>"
      ]
     },
     "metadata": {},
     "output_type": "display_data"
    },
    {
     "data": {
      "text/plain": []
     },
     "execution_count": 122,
     "metadata": {},
     "output_type": "execute_result"
    },
    {
     "name": "stdout",
     "output_type": "stream",
     "text": [
      "time: 735 ms\n"
     ]
    }
   ],
   "source": [
    "# wiktionary_nolemma suche_debug\n",
    "grid(search_str(wiktionary_nolemma, suche_debug))"
   ]
  },
  {
   "cell_type": "markdown",
   "id": "a06aab01-918b-4812-a2c6-36e02d94e37a",
   "metadata": {},
   "source": [
    "### wiktionary_merkmal"
   ]
  },
  {
   "cell_type": "code",
   "execution_count": 123,
   "id": "cd626516-1989-4017-8324-e546b3093b03",
   "metadata": {},
   "outputs": [
    {
     "name": "stdout",
     "output_type": "stream",
     "text": [
      "7 rows\n"
     ]
    },
    {
     "data": {
      "text/html": [
       "\n",
       "        <iframe\n",
       "            width=\"100%\"\n",
       "            height=\"475\"\n",
       "            src=\"http://pop-os:40000/dtale/iframe/14\"\n",
       "            frameborder=\"0\"\n",
       "            allowfullscreen\n",
       "            \n",
       "        ></iframe>\n",
       "        "
      ],
      "text/plain": [
       "<IPython.lib.display.IFrame at 0x7f6d7aa4a610>"
      ]
     },
     "metadata": {},
     "output_type": "display_data"
    },
    {
     "data": {
      "text/plain": []
     },
     "execution_count": 123,
     "metadata": {},
     "output_type": "execute_result"
    },
    {
     "name": "stdout",
     "output_type": "stream",
     "text": [
      "time: 647 ms\n"
     ]
    }
   ],
   "source": [
    "mask = wiktionary_merkmal.lemma_id == suche_debug[0]\n",
    "a = wiktionary_merkmal[mask].sort_values(['merkmal','lemma_id','data'])\n",
    "grid(a)"
   ]
  },
  {
   "cell_type": "code",
   "execution_count": 124,
   "id": "21946cba-f0d5-4ae8-a0f2-7b96f25567cd",
   "metadata": {},
   "outputs": [
    {
     "name": "stdout",
     "output_type": "stream",
     "text": [
      "55 rows\n"
     ]
    },
    {
     "data": {
      "text/html": [
       "\n",
       "        <iframe\n",
       "            width=\"100%\"\n",
       "            height=\"475\"\n",
       "            src=\"http://pop-os:40000/dtale/iframe/15\"\n",
       "            frameborder=\"0\"\n",
       "            allowfullscreen\n",
       "            \n",
       "        ></iframe>\n",
       "        "
      ],
      "text/plain": [
       "<IPython.lib.display.IFrame at 0x7f6d7a537850>"
      ]
     },
     "metadata": {},
     "output_type": "display_data"
    },
    {
     "data": {
      "text/plain": []
     },
     "execution_count": 124,
     "metadata": {},
     "output_type": "execute_result"
    },
    {
     "name": "stdout",
     "output_type": "stream",
     "text": [
      "time: 371 ms\n"
     ]
    }
   ],
   "source": [
    "mask = wiktionary_merkmal.data.isin(suche_debug) \n",
    "a = wiktionary_merkmal[mask].sort_values(['merkmal','lemma_id','data'])\n",
    "grid(a)"
   ]
  },
  {
   "cell_type": "code",
   "execution_count": 125,
   "id": "32160579-66ae-4d36-9545-9ad39c548557",
   "metadata": {},
   "outputs": [
    {
     "name": "stdout",
     "output_type": "stream",
     "text": [
      "55 rows\n"
     ]
    },
    {
     "data": {
      "text/html": [
       "\n",
       "        <iframe\n",
       "            width=\"100%\"\n",
       "            height=\"475\"\n",
       "            src=\"http://pop-os:40000/dtale/iframe/16\"\n",
       "            frameborder=\"0\"\n",
       "            allowfullscreen\n",
       "            \n",
       "        ></iframe>\n",
       "        "
      ],
      "text/plain": [
       "<IPython.lib.display.IFrame at 0x7f6d79713eb0>"
      ]
     },
     "metadata": {},
     "output_type": "display_data"
    },
    {
     "data": {
      "text/plain": []
     },
     "execution_count": 125,
     "metadata": {},
     "output_type": "execute_result"
    },
    {
     "name": "stdout",
     "output_type": "stream",
     "text": [
      "time: 461 ms\n"
     ]
    }
   ],
   "source": [
    "mask = wiktionary_merkmal.data.isin(suche_debug) \n",
    "a = wiktionary_merkmal[mask]\n",
    "grid(a)"
   ]
  },
  {
   "cell_type": "code",
   "execution_count": 126,
   "id": "e73f6125",
   "metadata": {},
   "outputs": [
    {
     "name": "stdout",
     "output_type": "stream",
     "text": [
      "time: 43.7 ms\n"
     ]
    }
   ],
   "source": [
    "# Genügend Datensätze?\n",
    "if version == '_all':\n",
    "    assert wiktionary_merkmal.shape[0] > 3320 * 1000"
   ]
  },
  {
   "cell_type": "markdown",
   "id": "89641ba1-95ea-40b8-967d-e71259ece332",
   "metadata": {},
   "source": [
    "### wiktionary_merkmal_wertlos"
   ]
  },
  {
   "cell_type": "code",
   "execution_count": 127,
   "id": "d2ccc5e4-a277-402b-bc98-8a9d800ae448",
   "metadata": {},
   "outputs": [
    {
     "name": "stdout",
     "output_type": "stream",
     "text": [
      "\u001b[1m\u001b[7m\u001b[34mNo rows\u001b[0m\n",
      "time: 162 ms\n"
     ]
    }
   ],
   "source": [
    "mask = wiktionary_merkmal_wertlos.lemma_id == suche_debug[0]\n",
    "a = wiktionary_merkmal_wertlos[mask].sort_values(['merkmal','lemma_id','data'])\n",
    "grid(a)"
   ]
  },
  {
   "cell_type": "code",
   "execution_count": 128,
   "id": "f0133bb4-fb35-4610-a8c4-64addf218aa3",
   "metadata": {},
   "outputs": [
    {
     "name": "stdout",
     "output_type": "stream",
     "text": [
      "15 rows out of 323913\n"
     ]
    },
    {
     "data": {
      "text/html": [
       "\n",
       "        <iframe\n",
       "            width=\"100%\"\n",
       "            height=\"475\"\n",
       "            src=\"http://pop-os:40000/dtale/iframe/17\"\n",
       "            frameborder=\"0\"\n",
       "            allowfullscreen\n",
       "            \n",
       "        ></iframe>\n",
       "        "
      ],
      "text/plain": [
       "<IPython.lib.display.IFrame at 0x7f6ea4ff3bb0>"
      ]
     },
     "metadata": {},
     "output_type": "display_data"
    },
    {
     "data": {
      "text/plain": []
     },
     "execution_count": 128,
     "metadata": {},
     "output_type": "execute_result"
    },
    {
     "name": "stdout",
     "output_type": "stream",
     "text": [
      "time: 3.1 s\n"
     ]
    }
   ],
   "source": [
    "grid(wiktionary_merkmal_wertlos,pak.sample)"
   ]
  },
  {
   "cell_type": "markdown",
   "id": "db2121f2-6314-49c6-8bcf-29fa6ca408da",
   "metadata": {},
   "source": [
    "## Partizipien prüfen"
   ]
  },
  {
   "cell_type": "code",
   "execution_count": 129,
   "id": "c8029f44-34c4-45a5-a749-cbe67b0277e4",
   "metadata": {},
   "outputs": [
    {
     "name": "stdout",
     "output_type": "stream",
     "text": [
      "time: 49.1 ms\n"
     ]
    }
   ],
   "source": [
    "suche_L = 'missraten' \n",
    "suche_P = 'missraten'  \n",
    "\n",
    "#suche_L = 'gefriertrocknen' \n",
    "#suche_P = 'gefriergetrocknet'  "
   ]
  },
  {
   "cell_type": "code",
   "execution_count": 130,
   "id": "60e93cfb-8a87-493b-80da-6c1fd40d3b18",
   "metadata": {},
   "outputs": [
    {
     "data": {
      "text/html": [
       "<div>\n",
       "<style scoped>\n",
       "    .dataframe tbody tr th:only-of-type {\n",
       "        vertical-align: middle;\n",
       "    }\n",
       "\n",
       "    .dataframe tbody tr th {\n",
       "        vertical-align: top;\n",
       "    }\n",
       "\n",
       "    .dataframe thead th {\n",
       "        text-align: right;\n",
       "    }\n",
       "</style>\n",
       "<table border=\"1\" class=\"dataframe\">\n",
       "  <thead>\n",
       "    <tr style=\"text-align: right;\">\n",
       "      <th></th>\n",
       "      <th>lemma_id</th>\n",
       "      <th>page_id</th>\n",
       "      <th>page_part</th>\n",
       "      <th>lemma</th>\n",
       "      <th>lemma_lower</th>\n",
       "      <th>isupper</th>\n",
       "      <th>lemma_len</th>\n",
       "      <th>tag</th>\n",
       "      <th>tag_0</th>\n",
       "      <th>tag_1</th>\n",
       "      <th>tagZ</th>\n",
       "      <th>tagZZ</th>\n",
       "      <th>member</th>\n",
       "      <th>data_id</th>\n",
       "      <th>score</th>\n",
       "      <th>doc_len</th>\n",
       "      <th>doc_lemma</th>\n",
       "      <th>doc_tag</th>\n",
       "    </tr>\n",
       "  </thead>\n",
       "  <tbody>\n",
       "    <tr>\n",
       "      <th>2194</th>\n",
       "      <td>missraten</td>\n",
       "      <td>242150</td>\n",
       "      <td>0</td>\n",
       "      <td>missraten</td>\n",
       "      <td>missraten</td>\n",
       "      <td>False</td>\n",
       "      <td>1</td>\n",
       "      <td>VVFIN</td>\n",
       "      <td>VVFIN</td>\n",
       "      <td>DXXh04S9JZ</td>\n",
       "      <td>VER</td>\n",
       "      <td>V</td>\n",
       "      <td>manuell</td>\n",
       "      <td></td>\n",
       "      <td>4.922594</td>\n",
       "      <td>1</td>\n",
       "      <td>Missrat</td>\n",
       "      <td>VVFIN</td>\n",
       "    </tr>\n",
       "  </tbody>\n",
       "</table>\n",
       "</div>"
      ],
      "text/plain": [
       "       lemma_id  page_id  page_part      lemma lemma_lower  isupper  \\\n",
       "2194  missraten   242150          0  missraten   missraten    False   \n",
       "\n",
       "      lemma_len    tag  tag_0       tag_1 tagZ tagZZ   member data_id  \\\n",
       "2194          1  VVFIN  VVFIN  DXXh04S9JZ  VER     V  manuell           \n",
       "\n",
       "         score  doc_len doc_lemma doc_tag  \n",
       "2194  4.922594        1   Missrat   VVFIN  "
      ]
     },
     "execution_count": 130,
     "metadata": {},
     "output_type": "execute_result"
    },
    {
     "name": "stdout",
     "output_type": "stream",
     "text": [
      "time: 110 ms\n"
     ]
    }
   ],
   "source": [
    "# das Verb in wiktionary_lemma\n",
    "mask1 = wiktionary_lemma.lemma == suche_L\n",
    "mask2 = wiktionary_lemma.tagZZ == 'V'\n",
    "mask = mask1  &  mask2\n",
    "\n",
    "suche_L_id = wiktionary_lemma[mask].iloc[0].lemma_id\n",
    "wiktionary_lemma[mask]"
   ]
  },
  {
   "cell_type": "code",
   "execution_count": 131,
   "id": "bb82028c-1bf2-40b5-b740-761f68456fc7",
   "metadata": {},
   "outputs": [
    {
     "data": {
      "text/html": [
       "<div>\n",
       "<style scoped>\n",
       "    .dataframe tbody tr th:only-of-type {\n",
       "        vertical-align: middle;\n",
       "    }\n",
       "\n",
       "    .dataframe tbody tr th {\n",
       "        vertical-align: top;\n",
       "    }\n",
       "\n",
       "    .dataframe thead th {\n",
       "        text-align: right;\n",
       "    }\n",
       "</style>\n",
       "<table border=\"1\" class=\"dataframe\">\n",
       "  <thead>\n",
       "    <tr style=\"text-align: right;\">\n",
       "      <th></th>\n",
       "      <th>lemma_id</th>\n",
       "      <th>page_id</th>\n",
       "      <th>page_part</th>\n",
       "      <th>lemma</th>\n",
       "      <th>lemma_lower</th>\n",
       "      <th>isupper</th>\n",
       "      <th>lemma_len</th>\n",
       "      <th>tag</th>\n",
       "      <th>tag_0</th>\n",
       "      <th>tag_1</th>\n",
       "      <th>tagZ</th>\n",
       "      <th>tagZZ</th>\n",
       "      <th>member</th>\n",
       "      <th>data_id</th>\n",
       "      <th>score</th>\n",
       "      <th>doc_len</th>\n",
       "      <th>doc_lemma</th>\n",
       "      <th>doc_tag</th>\n",
       "    </tr>\n",
       "  </thead>\n",
       "  <tbody>\n",
       "    <tr>\n",
       "      <th>140462</th>\n",
       "      <td>missraten_MADJ</td>\n",
       "      <td>-1</td>\n",
       "      <td>-1</td>\n",
       "      <td>missraten</td>\n",
       "      <td>missraten</td>\n",
       "      <td>False</td>\n",
       "      <td>1</td>\n",
       "      <td>ADJA</td>\n",
       "      <td>ADJA</td>\n",
       "      <td>dJ48jJBIod</td>\n",
       "      <td>ADJ</td>\n",
       "      <td>A</td>\n",
       "      <td>Ptz2 manuell</td>\n",
       "      <td>missraten</td>\n",
       "      <td>0.5</td>\n",
       "      <td>1</td>\n",
       "      <td>Missrat</td>\n",
       "      <td>VVFIN</td>\n",
       "    </tr>\n",
       "  </tbody>\n",
       "</table>\n",
       "</div>"
      ],
      "text/plain": [
       "              lemma_id  page_id  page_part      lemma lemma_lower  isupper  \\\n",
       "140462  missraten_MADJ       -1         -1  missraten   missraten    False   \n",
       "\n",
       "        lemma_len   tag tag_0       tag_1 tagZ tagZZ        member    data_id  \\\n",
       "140462          1  ADJA  ADJA  dJ48jJBIod  ADJ     A  Ptz2 manuell  missraten   \n",
       "\n",
       "        score  doc_len doc_lemma doc_tag  \n",
       "140462    0.5        1   Missrat   VVFIN  "
      ]
     },
     "execution_count": 131,
     "metadata": {},
     "output_type": "execute_result"
    },
    {
     "name": "stdout",
     "output_type": "stream",
     "text": [
      "time: 189 ms\n"
     ]
    }
   ],
   "source": [
    "# das Adjektiv in wiktionary_lemma\n",
    "mask1 = wiktionary_lemma.lemma == suche_P\n",
    "mask2 = wiktionary_lemma.tagZZ == 'A'\n",
    "mask3 = wiktionary_lemma.member.str.contains('Ptz')\n",
    "mask4 = wiktionary_lemma.data_id == suche_L_id\n",
    "mask = mask1  &  mask2  &  mask3  &  mask4\n",
    "\n",
    "suche_P_id = wiktionary_lemma[mask].iloc[0].lemma_id\n",
    "wiktionary_lemma[mask]"
   ]
  },
  {
   "cell_type": "code",
   "execution_count": 132,
   "id": "57cc302f-5e61-4e6c-8cfd-a11bfebdb3ef",
   "metadata": {},
   "outputs": [
    {
     "data": {
      "text/html": [
       "<div>\n",
       "<style scoped>\n",
       "    .dataframe tbody tr th:only-of-type {\n",
       "        vertical-align: middle;\n",
       "    }\n",
       "\n",
       "    .dataframe tbody tr th {\n",
       "        vertical-align: top;\n",
       "    }\n",
       "\n",
       "    .dataframe thead th {\n",
       "        text-align: right;\n",
       "    }\n",
       "</style>\n",
       "<table border=\"1\" class=\"dataframe\">\n",
       "  <thead>\n",
       "    <tr style=\"text-align: right;\">\n",
       "      <th></th>\n",
       "      <th>lemma_id</th>\n",
       "      <th>merkmal</th>\n",
       "      <th>data_id</th>\n",
       "      <th>data</th>\n",
       "      <th>data_tag</th>\n",
       "      <th>lemma_tag</th>\n",
       "      <th>num</th>\n",
       "      <th>meta</th>\n",
       "      <th>score</th>\n",
       "      <th>is_lex</th>\n",
       "    </tr>\n",
       "  </thead>\n",
       "  <tbody>\n",
       "    <tr>\n",
       "      <th>3325725</th>\n",
       "      <td>missraten</td>\n",
       "      <td>Ptz2</td>\n",
       "      <td>missraten_MADJ</td>\n",
       "      <td>missraten</td>\n",
       "      <td></td>\n",
       "      <td>VVFIN</td>\n",
       "      <td></td>\n",
       "      <td></td>\n",
       "      <td>4.472594</td>\n",
       "      <td>True</td>\n",
       "    </tr>\n",
       "  </tbody>\n",
       "</table>\n",
       "</div>"
      ],
      "text/plain": [
       "          lemma_id merkmal         data_id       data data_tag lemma_tag num  \\\n",
       "3325725  missraten    Ptz2  missraten_MADJ  missraten              VVFIN       \n",
       "\n",
       "        meta     score  is_lex  \n",
       "3325725       4.472594    True  "
      ]
     },
     "execution_count": 132,
     "metadata": {},
     "output_type": "execute_result"
    },
    {
     "name": "stdout",
     "output_type": "stream",
     "text": [
      "time: 4.22 s\n"
     ]
    }
   ],
   "source": [
    "# Das Ptz-Merkmal in wiktionary_lemma\n",
    "mask1 = wiktionary_merkmal.data == suche_P\n",
    "mask2 = wiktionary_merkmal.merkmal.str.startswith('Ptz')\n",
    "mask3 = wiktionary_merkmal.lemma_tag.str.startswith('V')\n",
    "mask4 = wiktionary_merkmal.lemma_id == suche_L_id   # zeigt aufs Verb\n",
    "mask5 = wiktionary_merkmal.data_id  == suche_P_id   # zeigt aufs Adjektiv\n",
    "mask = mask1  &  mask2  &  mask3  &  mask4  &  mask5\n",
    "wiktionary_merkmal[mask]"
   ]
  },
  {
   "cell_type": "markdown",
   "id": "1c8ecfd9-b120-4837-a969-199988d73e17",
   "metadata": {},
   "source": [
    "## Speichern"
   ]
  },
  {
   "cell_type": "code",
   "execution_count": 133,
   "id": "a33a20ab",
   "metadata": {},
   "outputs": [
    {
     "name": "stdout",
     "output_type": "stream",
     "text": [
      "time: 34.3 ms\n"
     ]
    }
   ],
   "source": [
    "assert gründlich"
   ]
  },
  {
   "cell_type": "code",
   "execution_count": 134,
   "id": "4e9d3aa1",
   "metadata": {},
   "outputs": [
    {
     "name": "stdout",
     "output_type": "stream",
     "text": [
      "time: 47.9 s\n"
     ]
    }
   ],
   "source": [
    "# Speichern  \n",
    "pak.dump_pickle(wiktionary_lemma,            wiktionary_lemma_filename_save)   \n",
    "pak.dump_pickle(wiktionary_nolemma,          wiktionary_nolemma_filename_save)  \n",
    "pak.dump_pickle(wiktionary_merkmal,          wiktionary_merkmal_filename_save) \n",
    "pak.dump_pickle(wiktionary_merkmal_text,     wiktionary_merkmal_text_filename_save)  \n",
    "pak.dump_pickle(wiktionary_merkmal_wertlos,  wiktionary_merkmal_wertlos_filename_save)  \n",
    "os.utime(verzeichnis_save)"
   ]
  },
  {
   "cell_type": "code",
   "execution_count": null,
   "id": "aa246a78-082c-4e2b-9e8a-35332fbb829c",
   "metadata": {
    "colab": {
     "base_uri": "https://localhost:8080/"
    },
    "executionInfo": {
     "elapsed": 7425,
     "status": "ok",
     "timestamp": 1676479015113,
     "user": {
      "displayName": "Hups Hopsalla",
      "userId": "10020718461385065661"
     },
     "user_tz": -60
    },
    "id": "dbiDceKXyUx7",
    "outputId": "beb0cf2a-bc86-47c4-81e6-b11c7354957c"
   },
   "outputs": [],
   "source": [
    "# Save in Google Drive\n",
    "if environment['in_colab']:\n",
    "    from google.colab import drive\n",
    "    drive.mount('/content/drive') \n",
    "    !cd /content\n",
    "    !cp -av {verzeichnis_save} /content/drive/MyDrive"
   ]
  }
 ],
 "metadata": {
  "kernelspec": {
   "display_name": "Python 3 (ipykernel)",
   "language": "python",
   "name": "python3"
  },
  "language_info": {
   "codemirror_mode": {
    "name": "ipython",
    "version": 3
   },
   "file_extension": ".py",
   "mimetype": "text/x-python",
   "name": "python",
   "nbconvert_exporter": "python",
   "pygments_lexer": "ipython3",
   "version": "3.9.13"
  }
 },
 "nbformat": 4,
 "nbformat_minor": 5
}
