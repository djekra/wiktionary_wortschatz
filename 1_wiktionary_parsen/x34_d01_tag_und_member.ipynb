{
 "cells": [
  {
   "cell_type": "markdown",
   "metadata": {
    "id": "lSehjmZun5OP"
   },
   "source": [
    "__[Open and try this file online (Colab, Pro / Extended RAM needed)](https://colab.research.google.com/github/djekra/wiktionary_wortschatz/blob/master/1_wiktionary_parsen/x34_d01_tag_und_member.ipynb)__"
   ]
  },
  {
   "cell_type": "markdown",
   "metadata": {},
   "source": [
    "# tag und member\n",
    "Verarbeitungsschritt Nr.3. Setzt das Verzeichnis data_00 voraus, in dem die vorherige Verarbeitungsstufe (d00_mwparserfromhell) die bisherigen Ergebnisse gespeichert hat. \n",
    "* speichert in data_01\n",
    "* erstellt die Felder tag und member \n",
    "* integriert lexeme_manuell, named_entities und Zahlwörter\n",
    "* Löschen laut löschliste\n",
    "* behandelt Partizipien\n",
    "* formt die grundlegende Datenstruktur (s.u.)\n",
    "* testet Lexeme gemäß lex_test level 1\n",
    "* Datei wiktionary ist danach überflüssig\n",
    "* Dauer: Colab 37 min, Altrechner 26 min\n",
    "\n",
    "\n",
    "### Doku\n",
    "* __wiktionary_lemma__ enthält alle Grundformen. Ihr Identifikator ist die lemma_id.\n",
    "* __wiktionary_merkmal__ enthält Merkmale, die einer Grundform zugeordnet werden. Manche Merkmale sind Lexeme, andere nicht. Merkmale eines Adjektivs sind z.B. seine Steigerungen (das sind Lexeme der Grundform) oder ein Gegenteilswort zur Grundform (das sind keine Lexeme der Grundform).\n",
    "* __wiktionary_merkmal_text__ enthält ebenfalls Merkmale zu einer lemma_id. Allerdings keine einzelnen Wörter, sondern Textabsätze. Z..B. Definitionen oder Beispielsätze.\n",
    "\n",
    "* __Abkürzungen__ stehen immer in wiktionary_merkmal (merkmal abk) und manchmal auch als eigenständiges Lemma in wiktionary_lemma.\n",
    "  In wiktionary_lemma werden Abkürzungen durch das member 'Abkürzung' gekennzeichnet. \n",
    "  Das gibt die Information, dass es sich lohnt, in wiktionary_merkmal nachzuschlagen, um die Bedeutung einer Abkürzung zu erfahren.\n",
    "\n",
    "* __Partizipien__ stehen in wiktionary_merkmal. Ihr lemma ist das Verb im Infinitiv (das ist oft falsch eingetragen). Ihr tag lautet 'VVPP ADJA' für Ptz2 bzw. 'VVFIN ADJA' für Ptz1, ihr member ist Ptz1 bzw. Ptz2.\n",
    "  Zusätzlich sind alle Partizipien aber auch als Adjektiv als eigenständiges lemma registriert. Dort weist data_id auf das Verb zurück."
   ]
  },
  {
   "cell_type": "markdown",
   "metadata": {},
   "source": [
    "## Import"
   ]
  },
  {
   "cell_type": "code",
   "execution_count": 1,
   "metadata": {
    "execution": {
     "iopub.execute_input": "2023-03-05T16:24:48.168333Z",
     "iopub.status.busy": "2023-03-05T16:24:48.167543Z",
     "iopub.status.idle": "2023-03-05T16:24:49.290065Z",
     "shell.execute_reply": "2023-03-05T16:24:49.289384Z",
     "shell.execute_reply.started": "2023-03-05T16:24:48.168242Z"
    }
   },
   "outputs": [
    {
     "name": "stdout",
     "output_type": "stream",
     "text": [
      "blab init\n",
      "environment['in_colab']     = False\n",
      "environment['dropbox_path'] = /home/me/Data_Linux/Dropbox\n",
      "environment['lib_path']     = /home/me/Data_Linux/Dropbox/31_Projekte/01_Python/libs\n",
      "Start Time: 17:24:48\n"
     ]
    },
    {
     "data": {
      "text/html": [
       "<img src onerror=\"var cell = this.closest('.jp-CodeCell');var editor = cell.querySelector('.jp-Editor');editor.style.background='Beige';this.parentNode.removeChild(this)\">"
      ],
      "text/plain": [
       "<IPython.core.display.HTML object>"
      ]
     },
     "metadata": {},
     "output_type": "display_data"
    }
   ],
   "source": [
    "# blab init\n",
    "try:\n",
    "    import blab\n",
    "except ImportError as e:\n",
    "    !pip install blab\n",
    "    import blab    \n",
    "startup_notebook = blab.blab_startup()\n",
    "%run $startup_notebook "
   ]
  },
  {
   "cell_type": "code",
   "execution_count": 2,
   "metadata": {
    "execution": {
     "iopub.execute_input": "2023-03-05T16:24:49.291556Z",
     "iopub.status.busy": "2023-03-05T16:24:49.291244Z",
     "iopub.status.idle": "2023-03-05T16:24:49.678576Z",
     "shell.execute_reply": "2023-03-05T16:24:49.677949Z",
     "shell.execute_reply.started": "2023-03-05T16:24:49.291533Z"
    }
   },
   "outputs": [],
   "source": [
    "# pandas\n",
    "if environment['in_colab']:\n",
    "    !pip install --upgrade pandas\n",
    "import pandas as pd"
   ]
  },
  {
   "cell_type": "code",
   "execution_count": 3,
   "metadata": {
    "execution": {
     "iopub.execute_input": "2023-03-05T16:24:49.681650Z",
     "iopub.status.busy": "2023-03-05T16:24:49.681376Z",
     "iopub.status.idle": "2023-03-05T16:24:54.760467Z",
     "shell.execute_reply": "2023-03-05T16:24:54.759832Z",
     "shell.execute_reply.started": "2023-03-05T16:24:49.681628Z"
    }
   },
   "outputs": [],
   "source": [
    "# alle anderen\n",
    "try:\n",
    "    import pandasklar as pak, bpyth as bpy, bj_nlp\n",
    "\n",
    "except ImportError as e:\n",
    "    !pip install pandasklar bj_nlp\n",
    "    import pandasklar as pak, bpyth as bpy, bj_nlp\n",
    "    \n",
    "grid       = pak.grid                     # dTale-Nutzung gemäß Config\n",
    "from functools import partial\n",
    "gridt = partial(grid, backend='dtale')    # dTale-Nutzung erzwungen\n",
    "\n",
    "check_mask = pak.check_mask      "
   ]
  },
  {
   "cell_type": "markdown",
   "metadata": {},
   "source": [
    "## Einstellungen"
   ]
  },
  {
   "cell_type": "code",
   "execution_count": 4,
   "metadata": {
    "execution": {
     "iopub.execute_input": "2023-03-05T16:24:54.763294Z",
     "iopub.status.busy": "2023-03-05T16:24:54.762595Z",
     "iopub.status.idle": "2023-03-05T16:24:54.822747Z",
     "shell.execute_reply": "2023-03-05T16:24:54.816353Z",
     "shell.execute_reply.started": "2023-03-05T16:24:54.763267Z"
    },
    "tags": []
   },
   "outputs": [
    {
     "name": "stdout",
     "output_type": "stream",
     "text": [
      "VERBOSE = True\n",
      "--> setting verbose=True as default for all pandasklar functions\n",
      "\n",
      "GRID_BACKEND = \n",
      "--> setting backend= as default for all pandasklar functions\n",
      "\n"
     ]
    }
   ],
   "source": [
    "# Einstellungen\n",
    "\n",
    "# Was debuggen?\n",
    "suche_debug = ['Euro','€','tugendhaftestes','zu viele','zuviele', 'zu viel']  \n",
    "suche_debug = ['notgetan']  \n",
    "\n",
    "gründlich          = True    # einige Arbeitsschritte können weggelassen werden, wenn gründlich = False\n",
    "speicher_freigeben = False    # sollen alte Ergebnisse gelöscht werden\n",
    "version            = '_all'\n",
    "#version           = '_100K'\n",
    "\n",
    "\n",
    "# verbose\n",
    "pak.Config.set('VERBOSE', True)\n",
    "\n",
    "# Darstellung der Dataframes\n",
    "pak.Config.set('GRID_BACKEND', '')   # standardmäßig kein dTale\n",
    "pd.set_option('max_colwidth', 2000)  # aber dafür breiter\n",
    "\n",
    "# Load\n",
    "verzeichnis_load                      = 'data_00'\n",
    "wiktionary_filename                   = verzeichnis_load + '/wiktionary'              + version + '.pickle'  \n",
    "wiktionary_trash_filename             = verzeichnis_load + '/wiktionary_trash'        + version + '.pickle'\n",
    "wiktionary_merkmal_filename           = verzeichnis_load + '/wiktionary_merkmal'      + version + '.pickle'  \n",
    "wiktionary_merkmal_text_filename      = verzeichnis_load + '/wiktionary_merkmal_text' + version + '.pickle'  \n",
    "\n",
    "# Steuertabellen, externe und manuelle Daten\n",
    "löschliste_filename                   = 'Steuertabellen/löschliste.xlsx'     \n",
    "lexeme_manuell_filename               = 'Steuertabellen/lexeme_manuell.xlsx'       # manuell eingepflegte Lexeme \n",
    "named_entities_filename               = 'Steuertabellen/named_entities_02.xlsx'    # Vornamen, Nachnamen, Orte\n",
    "lex_test_filename                     = 'Steuertabellen/lex_test.xlsx'     \n",
    "\n",
    "# Save\n",
    "verzeichnis_save                      = 'data_01'\n",
    "wiktionary_lemma_filename_save        = verzeichnis_save + '/wiktionary_lemma'        + version + '.pickle'  \n",
    "wiktionary_nolemma_filename_save      = verzeichnis_save + '/wiktionary_nolemma'      + version + '.pickle'  \n",
    "wiktionary_merkmal_filename_save      = verzeichnis_save + '/wiktionary_merkmal'      + version + '.pickle'  \n",
    "wiktionary_merkmal_text_filename_save = verzeichnis_save + '/wiktionary_merkmal_text' + version + '.pickle'  \n",
    "\n",
    "#\n",
    "# Einige hardcodierte Tags finden sich unter wiktionary Einzelkorrekturen\n",
    "# !!!"
   ]
  },
  {
   "cell_type": "markdown",
   "metadata": {
    "id": "p1lM3YLgn5Ou"
   },
   "source": [
    "## Vorbereiten"
   ]
  },
  {
   "cell_type": "code",
   "execution_count": 5,
   "metadata": {
    "colab": {
     "base_uri": "https://localhost:8080/"
    },
    "execution": {
     "iopub.execute_input": "2023-03-05T16:24:54.829025Z",
     "iopub.status.busy": "2023-03-05T16:24:54.828687Z",
     "iopub.status.idle": "2023-03-05T16:24:54.877425Z",
     "shell.execute_reply": "2023-03-05T16:24:54.873106Z",
     "shell.execute_reply.started": "2023-03-05T16:24:54.828994Z"
    },
    "executionInfo": {
     "elapsed": 13,
     "status": "ok",
     "timestamp": 1676476829076,
     "user": {
      "displayName": "Hups Hopsalla",
      "userId": "10020718461385065661"
     },
     "user_tz": -60
    },
    "id": "Oy4Rb6WZn5Ow",
    "outputId": "6b94d1aa-3ffa-4388-d3f4-53b785e09406"
   },
   "outputs": [],
   "source": [
    "# Verzeichnisse erzeugen\n",
    "os.makedirs(verzeichnis_load, exist_ok=True) \n",
    "os.makedirs(verzeichnis_save, exist_ok=True) "
   ]
  },
  {
   "cell_type": "code",
   "execution_count": 6,
   "metadata": {
    "execution": {
     "iopub.execute_input": "2023-03-05T16:24:54.878587Z",
     "iopub.status.busy": "2023-03-05T16:24:54.878299Z",
     "iopub.status.idle": "2023-03-05T16:24:54.925871Z",
     "shell.execute_reply": "2023-03-05T16:24:54.925093Z",
     "shell.execute_reply.started": "2023-03-05T16:24:54.878557Z"
    }
   },
   "outputs": [],
   "source": [
    "# Steuertabellen und Python-Files von Github herunterladen\n",
    "import os\n",
    "if not os.path.exists('Steuertabellen'):\n",
    "   !git clone https://github.com/djekra/wiktionary_wortschatz.git\n",
    "   !cp -r wiktionary_wortschatz/1_wiktionary_parsen/Steuertabellen Steuertabellen\n",
    "   !cp -r wiktionary_wortschatz/1_wiktionary_parsen/*.py .\n",
    "#   !rm -r wiktionary_wortschatz"
   ]
  },
  {
   "cell_type": "code",
   "execution_count": 7,
   "metadata": {
    "colab": {
     "base_uri": "https://localhost:8080/"
    },
    "execution": {
     "iopub.execute_input": "2023-03-05T16:24:54.927048Z",
     "iopub.status.busy": "2023-03-05T16:24:54.926760Z",
     "iopub.status.idle": "2023-03-05T16:24:54.971767Z",
     "shell.execute_reply": "2023-03-05T16:24:54.971051Z",
     "shell.execute_reply.started": "2023-03-05T16:24:54.927019Z"
    },
    "executionInfo": {
     "elapsed": 7425,
     "status": "ok",
     "timestamp": 1676479015113,
     "user": {
      "displayName": "Hups Hopsalla",
      "userId": "10020718461385065661"
     },
     "user_tz": -60
    },
    "id": "dbiDceKXyUx7",
    "outputId": "beb0cf2a-bc86-47c4-81e6-b11c7354957c"
   },
   "outputs": [],
   "source": [
    "# Lade Ergebnisse der vorherigen Verarbeitungsstufe von Google Drive, falls nicht lokal vorhanden\n",
    "# Dieses Verzeichnis wurde in der vorherigen Verarbeitungsstufe angelegt \n",
    "if environment['in_colab']:\n",
    "    from google.colab import drive\n",
    "    drive.mount('/content/drive') \n",
    "    !cd /content\n",
    "    !cp -av /content/drive/MyDrive/{verzeichnis_load} ."
   ]
  },
  {
   "cell_type": "code",
   "execution_count": 8,
   "metadata": {
    "execution": {
     "iopub.execute_input": "2023-03-05T16:24:54.972868Z",
     "iopub.status.busy": "2023-03-05T16:24:54.972594Z",
     "iopub.status.idle": "2023-03-05T16:24:55.035161Z",
     "shell.execute_reply": "2023-03-05T16:24:55.034572Z",
     "shell.execute_reply.started": "2023-03-05T16:24:54.972840Z"
    }
   },
   "outputs": [],
   "source": [
    "# Weitere Imports\n",
    "from x32_Funktionen                    import *\n",
    "from Steuertabellen.s01_Steuertabellen import *\n",
    "from collections                       import defaultdict"
   ]
  },
  {
   "cell_type": "markdown",
   "metadata": {},
   "source": [
    "## Daten laden"
   ]
  },
  {
   "cell_type": "code",
   "execution_count": 9,
   "metadata": {
    "execution": {
     "iopub.execute_input": "2023-03-05T16:24:55.038710Z",
     "iopub.status.busy": "2023-03-05T16:24:55.038435Z",
     "iopub.status.idle": "2023-03-05T16:25:19.219834Z",
     "shell.execute_reply": "2023-03-05T16:25:19.218822Z",
     "shell.execute_reply.started": "2023-03-05T16:24:55.038688Z"
    }
   },
   "outputs": [
    {
     "name": "stdout",
     "output_type": "stream",
     "text": [
      "837593 rows loaded\n",
      "4152 rows loaded\n",
      "5171417 rows loaded\n",
      "654677 rows loaded\n"
     ]
    }
   ],
   "source": [
    "# wiktionary laden     \n",
    "wiktionary               = pak.load_pickle(wiktionary_filename)\n",
    "wiktionary               = pak.drop_cols(wiktionary,['wikitext','section_id'])\n",
    "\n",
    "wiktionary_trash         = pak.load_pickle(wiktionary_trash_filename)\n",
    "wiktionary_trash         = pak.drop_cols(wiktionary_trash,['msg','section_id','wikitext'])\n",
    "wiktionary_trash         = pak.rename_col(wiktionary_trash,'error','msg')\n",
    "\n",
    "wiktionary_merkmal       = pak.load_pickle(wiktionary_merkmal_filename)\n",
    "wiktionary_merkmal       = pak.drop_cols(wiktionary_merkmal,['section_id'])\n",
    "\n",
    "wiktionary_merkmal_trash = wiktionary_merkmal.head(0)\n",
    "\n",
    "wiktionary_merkmal_text  = pak.load_pickle(wiktionary_merkmal_text_filename)"
   ]
  },
  {
   "cell_type": "code",
   "execution_count": 10,
   "metadata": {
    "execution": {
     "iopub.execute_input": "2023-03-05T16:25:19.220927Z",
     "iopub.status.busy": "2023-03-05T16:25:19.220638Z",
     "iopub.status.idle": "2023-03-05T16:25:19.263756Z",
     "shell.execute_reply": "2023-03-05T16:25:19.262494Z",
     "shell.execute_reply.started": "2023-03-05T16:25:19.220897Z"
    }
   },
   "outputs": [],
   "source": [
    "# laden\n",
    "\n",
    "# pak.nnan(wiktionary_merkmal_text)"
   ]
  },
  {
   "cell_type": "code",
   "execution_count": 11,
   "metadata": {
    "execution": {
     "iopub.execute_input": "2023-03-05T16:25:19.275366Z",
     "iopub.status.busy": "2023-03-05T16:25:19.272823Z",
     "iopub.status.idle": "2023-03-05T16:25:20.121295Z",
     "shell.execute_reply": "2023-03-05T16:25:20.120685Z",
     "shell.execute_reply.started": "2023-03-05T16:25:19.275327Z"
    }
   },
   "outputs": [],
   "source": [
    "# Keine NaN\n",
    "assert not pak.any_nan(wiktionary, without=['syllables','rhymes','flexion','ipa'])"
   ]
  },
  {
   "cell_type": "code",
   "execution_count": 12,
   "metadata": {
    "execution": {
     "iopub.execute_input": "2023-03-05T16:25:20.124859Z",
     "iopub.status.busy": "2023-03-05T16:25:20.124579Z",
     "iopub.status.idle": "2023-03-05T16:25:20.418939Z",
     "shell.execute_reply": "2023-03-05T16:25:20.418150Z",
     "shell.execute_reply.started": "2023-03-05T16:25:20.124837Z"
    }
   },
   "outputs": [
    {
     "name": "stdout",
     "output_type": "stream",
     "text": [
      "check_mask:  0 rows\n"
     ]
    }
   ],
   "source": [
    "# Keine Leerzeichen in der ID\n",
    "mask = wiktionary.section_id2.str.contains(' ')\n",
    "check_mask(wiktionary,mask,0)"
   ]
  },
  {
   "cell_type": "code",
   "execution_count": 13,
   "metadata": {
    "execution": {
     "iopub.execute_input": "2023-03-05T16:25:20.419855Z",
     "iopub.status.busy": "2023-03-05T16:25:20.419609Z",
     "iopub.status.idle": "2023-03-05T16:25:24.619426Z",
     "shell.execute_reply": "2023-03-05T16:25:24.618848Z",
     "shell.execute_reply.started": "2023-03-05T16:25:20.419831Z"
    }
   },
   "outputs": [
    {
     "data": {
      "text/html": [
       "<div>\n",
       "<style scoped>\n",
       "    .dataframe tbody tr th:only-of-type {\n",
       "        vertical-align: middle;\n",
       "    }\n",
       "\n",
       "    .dataframe tbody tr th {\n",
       "        vertical-align: top;\n",
       "    }\n",
       "\n",
       "    .dataframe thead th {\n",
       "        text-align: right;\n",
       "    }\n",
       "</style>\n",
       "<table border=\"1\" class=\"dataframe\">\n",
       "  <thead>\n",
       "    <tr style=\"text-align: right;\">\n",
       "      <th></th>\n",
       "      <th>name</th>\n",
       "      <th>rtype</th>\n",
       "      <th>size</th>\n",
       "    </tr>\n",
       "  </thead>\n",
       "  <tbody>\n",
       "    <tr>\n",
       "      <th>0</th>\n",
       "      <td>wiktionary_merkmal</td>\n",
       "      <td>(DataFrame, Series)</td>\n",
       "      <td>2.1 GB</td>\n",
       "    </tr>\n",
       "    <tr>\n",
       "      <th>1</th>\n",
       "      <td>wiktionary</td>\n",
       "      <td>(DataFrame, Series)</td>\n",
       "      <td>769.9 MB</td>\n",
       "    </tr>\n",
       "    <tr>\n",
       "      <th>2</th>\n",
       "      <td>wiktionary_merkmal_text</td>\n",
       "      <td>(DataFrame, Series)</td>\n",
       "      <td>326.5 MB</td>\n",
       "    </tr>\n",
       "    <tr>\n",
       "      <th>3</th>\n",
       "      <td>wiktionary_trash</td>\n",
       "      <td>(DataFrame, Series)</td>\n",
       "      <td>4.0 MB</td>\n",
       "    </tr>\n",
       "    <tr>\n",
       "      <th>4</th>\n",
       "      <td>mask</td>\n",
       "      <td>(Series,)</td>\n",
       "      <td>1.6 MB</td>\n",
       "    </tr>\n",
       "    <tr>\n",
       "      <th>5</th>\n",
       "      <td>translate_tag</td>\n",
       "      <td>(DataFrame, Series)</td>\n",
       "      <td>39.6 KB</td>\n",
       "    </tr>\n",
       "    <tr>\n",
       "      <th>6</th>\n",
       "      <td>translate_tagZ</td>\n",
       "      <td>(DataFrame, Series)</td>\n",
       "      <td>21.6 KB</td>\n",
       "    </tr>\n",
       "    <tr>\n",
       "      <th>7</th>\n",
       "      <td>_i4</td>\n",
       "      <td>(str,)</td>\n",
       "      <td>6.2 KB</td>\n",
       "    </tr>\n",
       "    <tr>\n",
       "      <th>8</th>\n",
       "      <td>Stop</td>\n",
       "      <td>(type,)</td>\n",
       "      <td>1.0 KB</td>\n",
       "    </tr>\n",
       "    <tr>\n",
       "      <th>9</th>\n",
       "      <td>Markdown</td>\n",
       "      <td>(type,)</td>\n",
       "      <td>1.0 KB</td>\n",
       "    </tr>\n",
       "  </tbody>\n",
       "</table>\n",
       "</div>"
      ],
      "text/plain": [
       "                      name                rtype      size\n",
       "0       wiktionary_merkmal  (DataFrame, Series)    2.1 GB\n",
       "1               wiktionary  (DataFrame, Series)  769.9 MB\n",
       "2  wiktionary_merkmal_text  (DataFrame, Series)  326.5 MB\n",
       "3         wiktionary_trash  (DataFrame, Series)    4.0 MB\n",
       "4                     mask            (Series,)    1.6 MB\n",
       "5            translate_tag  (DataFrame, Series)   39.6 KB\n",
       "6           translate_tagZ  (DataFrame, Series)   21.6 KB\n",
       "7                      _i4               (str,)    6.2 KB\n",
       "8                     Stop              (type,)    1.0 KB\n",
       "9                 Markdown              (type,)    1.0 KB"
      ]
     },
     "execution_count": 13,
     "metadata": {},
     "output_type": "execute_result"
    }
   ],
   "source": [
    "pak.memory_consumption(locals())"
   ]
  },
  {
   "cell_type": "markdown",
   "metadata": {},
   "source": [
    "### wiktionary anschauen"
   ]
  },
  {
   "cell_type": "code",
   "execution_count": 14,
   "metadata": {
    "execution": {
     "iopub.execute_input": "2023-03-05T16:25:24.624238Z",
     "iopub.status.busy": "2023-03-05T16:25:24.623902Z",
     "iopub.status.idle": "2023-03-05T16:25:24.743898Z",
     "shell.execute_reply": "2023-03-05T16:25:24.743286Z",
     "shell.execute_reply.started": "2023-03-05T16:25:24.624207Z"
    }
   },
   "outputs": [
    {
     "data": {
      "text/html": [
       "<div>\n",
       "<style scoped>\n",
       "    .dataframe tbody tr th:only-of-type {\n",
       "        vertical-align: middle;\n",
       "    }\n",
       "\n",
       "    .dataframe tbody tr th {\n",
       "        vertical-align: top;\n",
       "    }\n",
       "\n",
       "    .dataframe thead th {\n",
       "        text-align: right;\n",
       "    }\n",
       "</style>\n",
       "<table border=\"1\" class=\"dataframe\">\n",
       "  <thead>\n",
       "    <tr style=\"text-align: right;\">\n",
       "      <th></th>\n",
       "      <th>page_id</th>\n",
       "      <th>page_part</th>\n",
       "      <th>section_id2</th>\n",
       "      <th>title</th>\n",
       "      <th>lemma</th>\n",
       "      <th>inflected</th>\n",
       "      <th>pos</th>\n",
       "      <th>rhymes</th>\n",
       "      <th>section_len</th>\n",
       "      <th>flexion</th>\n",
       "      <th>ipa</th>\n",
       "      <th>syllables</th>\n",
       "      <th>lang</th>\n",
       "      <th>lang_code</th>\n",
       "      <th>error</th>\n",
       "    </tr>\n",
       "  </thead>\n",
       "  <tbody>\n",
       "    <tr>\n",
       "      <th>449830</th>\n",
       "      <td>672369</td>\n",
       "      <td>0</td>\n",
       "      <td>notgetan</td>\n",
       "      <td>notgetan</td>\n",
       "      <td>nottun</td>\n",
       "      <td>True</td>\n",
       "      <td>{'Adjektiv': ['Partizip II']}</td>\n",
       "      <td>NaN</td>\n",
       "      <td>273</td>\n",
       "      <td>NaN</td>\n",
       "      <td>[ˈnoːtɡəˌtaːn]</td>\n",
       "      <td>[not, ge, tan]</td>\n",
       "      <td>Deutsch</td>\n",
       "      <td>de</td>\n",
       "      <td></td>\n",
       "    </tr>\n",
       "  </tbody>\n",
       "</table>\n",
       "</div>"
      ],
      "text/plain": [
       "        page_id  page_part section_id2     title   lemma  inflected  \\\n",
       "449830   672369          0    notgetan  notgetan  nottun       True   \n",
       "\n",
       "                                  pos rhymes  section_len flexion  \\\n",
       "449830  {'Adjektiv': ['Partizip II']}    NaN          273     NaN   \n",
       "\n",
       "                   ipa       syllables     lang lang_code error  \n",
       "449830  [ˈnoːtɡəˌtaːn]  [not, ge, tan]  Deutsch        de        "
      ]
     },
     "execution_count": 14,
     "metadata": {},
     "output_type": "execute_result"
    }
   ],
   "source": [
    "# suche_debug \n",
    "mask = wiktionary.title.isin(suche_debug)\n",
    "wiktionary[mask].sort_values(['section_id2',])"
   ]
  },
  {
   "cell_type": "code",
   "execution_count": 15,
   "metadata": {
    "execution": {
     "iopub.execute_input": "2023-03-05T16:25:24.749626Z",
     "iopub.status.busy": "2023-03-05T16:25:24.747435Z",
     "iopub.status.idle": "2023-03-05T16:25:24.791406Z",
     "shell.execute_reply": "2023-03-05T16:25:24.790653Z",
     "shell.execute_reply.started": "2023-03-05T16:25:24.749591Z"
    },
    "tags": []
   },
   "outputs": [],
   "source": [
    "#pak.sample(wiktionary)"
   ]
  },
  {
   "cell_type": "code",
   "execution_count": 16,
   "metadata": {
    "execution": {
     "iopub.execute_input": "2023-03-05T16:25:24.796046Z",
     "iopub.status.busy": "2023-03-05T16:25:24.795613Z",
     "iopub.status.idle": "2023-03-05T16:25:24.838940Z",
     "shell.execute_reply": "2023-03-05T16:25:24.837878Z",
     "shell.execute_reply.started": "2023-03-05T16:25:24.796014Z"
    }
   },
   "outputs": [
    {
     "name": "stdout",
     "output_type": "stream",
     "text": [
      "\u001b[1m\u001b[7m\u001b[34mNo rows\u001b[0m\n"
     ]
    }
   ],
   "source": [
    "# suche_debug \n",
    "mask = wiktionary_trash.title.isin(suche_debug)\n",
    "grid(wiktionary_trash[mask].sort_values(['section_id2',]))"
   ]
  },
  {
   "cell_type": "code",
   "execution_count": 17,
   "metadata": {
    "execution": {
     "iopub.execute_input": "2023-03-05T16:25:24.846351Z",
     "iopub.status.busy": "2023-03-05T16:25:24.845934Z",
     "iopub.status.idle": "2023-03-05T16:25:24.910671Z",
     "shell.execute_reply": "2023-03-05T16:25:24.909915Z",
     "shell.execute_reply.started": "2023-03-05T16:25:24.846314Z"
    }
   },
   "outputs": [
    {
     "data": {
      "text/html": [
       "<div>\n",
       "<style scoped>\n",
       "    .dataframe tbody tr th:only-of-type {\n",
       "        vertical-align: middle;\n",
       "    }\n",
       "\n",
       "    .dataframe tbody tr th {\n",
       "        vertical-align: top;\n",
       "    }\n",
       "\n",
       "    .dataframe thead th {\n",
       "        text-align: right;\n",
       "    }\n",
       "</style>\n",
       "<table border=\"1\" class=\"dataframe\">\n",
       "  <thead>\n",
       "    <tr style=\"text-align: right;\">\n",
       "      <th></th>\n",
       "      <th>msg</th>\n",
       "      <th>msg_count</th>\n",
       "      <th>msg_percent</th>\n",
       "      <th>graph</th>\n",
       "    </tr>\n",
       "  </thead>\n",
       "  <tbody>\n",
       "    <tr>\n",
       "      <th>0</th>\n",
       "      <td>title zu viele Wörter</td>\n",
       "      <td>3910</td>\n",
       "      <td>94.2</td>\n",
       "      <td>###############################################</td>\n",
       "    </tr>\n",
       "    <tr>\n",
       "      <th>1</th>\n",
       "      <td>title zu kurz</td>\n",
       "      <td>206</td>\n",
       "      <td>5.0</td>\n",
       "      <td>##</td>\n",
       "    </tr>\n",
       "    <tr>\n",
       "      <th>2</th>\n",
       "      <td>lemma zu kurz</td>\n",
       "      <td>26</td>\n",
       "      <td>0.6</td>\n",
       "      <td></td>\n",
       "    </tr>\n",
       "    <tr>\n",
       "      <th>3</th>\n",
       "      <td>lang_code ist nan</td>\n",
       "      <td>10</td>\n",
       "      <td>0.2</td>\n",
       "      <td></td>\n",
       "    </tr>\n",
       "  </tbody>\n",
       "</table>\n",
       "</div>"
      ],
      "text/plain": [
       "                     msg  msg_count  msg_percent  \\\n",
       "0  title zu viele Wörter       3910         94.2   \n",
       "1          title zu kurz        206          5.0   \n",
       "2          lemma zu kurz         26          0.6   \n",
       "3      lang_code ist nan         10          0.2   \n",
       "\n",
       "                                             graph  \n",
       "0  ###############################################  \n",
       "1                                               ##  \n",
       "2                                                   \n",
       "3                                                   "
      ]
     },
     "execution_count": 17,
     "metadata": {},
     "output_type": "execute_result"
    }
   ],
   "source": [
    "# wiktionary_trash\n",
    "a = pak.analyse_freqs(wiktionary_trash, 'msg')\n",
    "a"
   ]
  },
  {
   "cell_type": "markdown",
   "metadata": {},
   "source": [
    "### wiktionary_merkmal anschauen"
   ]
  },
  {
   "cell_type": "code",
   "execution_count": 18,
   "metadata": {
    "execution": {
     "iopub.execute_input": "2023-03-05T16:25:24.916634Z",
     "iopub.status.busy": "2023-03-05T16:25:24.916265Z",
     "iopub.status.idle": "2023-03-05T16:25:25.247500Z",
     "shell.execute_reply": "2023-03-05T16:25:25.246809Z",
     "shell.execute_reply.started": "2023-03-05T16:25:24.916606Z"
    }
   },
   "outputs": [],
   "source": [
    "# suche_debug \n",
    "mask = wiktionary_merkmal.data.isin(suche_debug)\n",
    "a = wiktionary_merkmal[mask].sort_values(['section_id2','merkmal'])\n",
    "#a"
   ]
  },
  {
   "cell_type": "code",
   "execution_count": 19,
   "metadata": {
    "execution": {
     "iopub.execute_input": "2023-03-05T16:25:25.248597Z",
     "iopub.status.busy": "2023-03-05T16:25:25.248314Z",
     "iopub.status.idle": "2023-03-05T16:25:44.456650Z",
     "shell.execute_reply": "2023-03-05T16:25:44.455989Z",
     "shell.execute_reply.started": "2023-03-05T16:25:25.248574Z"
    },
    "tags": []
   },
   "outputs": [
    {
     "data": {
      "text/html": [
       "<div>\n",
       "<style scoped>\n",
       "    .dataframe tbody tr th:only-of-type {\n",
       "        vertical-align: middle;\n",
       "    }\n",
       "\n",
       "    .dataframe tbody tr th {\n",
       "        vertical-align: top;\n",
       "    }\n",
       "\n",
       "    .dataframe thead th {\n",
       "        text-align: right;\n",
       "    }\n",
       "</style>\n",
       "<table border=\"1\" class=\"dataframe\">\n",
       "  <thead>\n",
       "    <tr style=\"text-align: right;\">\n",
       "      <th></th>\n",
       "      <th>section_id2</th>\n",
       "      <th>merkmal</th>\n",
       "      <th>node_debug</th>\n",
       "      <th>node_kontext</th>\n",
       "      <th>data</th>\n",
       "      <th>num</th>\n",
       "      <th>meta</th>\n",
       "    </tr>\n",
       "  </thead>\n",
       "  <tbody>\n",
       "    <tr>\n",
       "      <th>0</th>\n",
       "      <td>Hallo</td>\n",
       "      <td>übersicht</td>\n",
       "      <td>Deutsch Substantiv Übersicht</td>\n",
       "      <td>Genus</td>\n",
       "      <td>n</td>\n",
       "      <td>NaN</td>\n",
       "      <td>&lt;NA&gt;</td>\n",
       "    </tr>\n",
       "    <tr>\n",
       "      <th>446</th>\n",
       "      <td>April_1</td>\n",
       "      <td>istName</td>\n",
       "      <td>&lt;NA&gt;</td>\n",
       "      <td>&lt;NA&gt;</td>\n",
       "      <td>exists</td>\n",
       "      <td>NaN</td>\n",
       "      <td>&lt;NA&gt;</td>\n",
       "    </tr>\n",
       "    <tr>\n",
       "      <th>1031</th>\n",
       "      <td>Liebe_1</td>\n",
       "      <td>übersicht</td>\n",
       "      <td>Deutsch Substantiv Übersicht</td>\n",
       "      <td>Nominativ Plural</td>\n",
       "      <td>—</td>\n",
       "      <td>NaN</td>\n",
       "      <td>&lt;NA&gt;</td>\n",
       "    </tr>\n",
       "    <tr>\n",
       "      <th>18515</th>\n",
       "      <td>Rauch</td>\n",
       "      <td>nurWortart</td>\n",
       "      <td>Wortart fehlt</td>\n",
       "      <td>1</td>\n",
       "      <td>Substantiv</td>\n",
       "      <td>NaN</td>\n",
       "      <td>&lt;NA&gt;</td>\n",
       "    </tr>\n",
       "    <tr>\n",
       "      <th>20173</th>\n",
       "      <td>Musik</td>\n",
       "      <td>übersicht</td>\n",
       "      <td>Deutsch Substantiv Übersicht</td>\n",
       "      <td>Genus</td>\n",
       "      <td>f</td>\n",
       "      <td>NaN</td>\n",
       "      <td>&lt;NA&gt;</td>\n",
       "    </tr>\n",
       "    <tr>\n",
       "      <th>81347</th>\n",
       "      <td>spulgen</td>\n",
       "      <td>übersicht</td>\n",
       "      <td>Deutsch Verb Übersicht</td>\n",
       "      <td>Präteritum_ich</td>\n",
       "      <td></td>\n",
       "      <td>NaN</td>\n",
       "      <td>&lt;NA&gt;</td>\n",
       "    </tr>\n",
       "    <tr>\n",
       "      <th>175097</th>\n",
       "      <td>ein-</td>\n",
       "      <td>Präfix</td>\n",
       "      <td>&lt;NA&gt;</td>\n",
       "      <td>&lt;NA&gt;</td>\n",
       "      <td>exists</td>\n",
       "      <td>NaN</td>\n",
       "      <td>&lt;NA&gt;</td>\n",
       "    </tr>\n",
       "    <tr>\n",
       "      <th>230371</th>\n",
       "      <td>Joch</td>\n",
       "      <td>herkunft</td>\n",
       "      <td></td>\n",
       "      <td>Ü</td>\n",
       "      <td>𒄿𒌑𒃷</td>\n",
       "      <td>[]</td>\n",
       "      <td></td>\n",
       "    </tr>\n",
       "    <tr>\n",
       "      <th>1308756</th>\n",
       "      <td>μm</td>\n",
       "      <td>up</td>\n",
       "      <td></td>\n",
       "      <td></td>\n",
       "      <td>Einheit</td>\n",
       "      <td>[1]</td>\n",
       "      <td></td>\n",
       "    </tr>\n",
       "    <tr>\n",
       "      <th>1314648</th>\n",
       "      <td>&amp;c.</td>\n",
       "      <td>def</td>\n",
       "      <td></td>\n",
       "      <td></td>\n",
       "      <td>et cetera</td>\n",
       "      <td>[1]</td>\n",
       "      <td></td>\n",
       "    </tr>\n",
       "    <tr>\n",
       "      <th>1492067</th>\n",
       "      <td>Pathovar</td>\n",
       "      <td>herkunft</td>\n",
       "      <td></td>\n",
       "      <td>Ü</td>\n",
       "      <td>varius</td>\n",
       "      <td>[]</td>\n",
       "      <td>παθοs</td>\n",
       "    </tr>\n",
       "    <tr>\n",
       "      <th>5171413</th>\n",
       "      <td>Überreichweiten</td>\n",
       "      <td>gm</td>\n",
       "      <td></td>\n",
       "      <td></td>\n",
       "      <td>Überreichweite</td>\n",
       "      <td>[]</td>\n",
       "      <td></td>\n",
       "    </tr>\n",
       "    <tr>\n",
       "      <th>5171416</th>\n",
       "      <td>Überreichweiten</td>\n",
       "      <td>gm</td>\n",
       "      <td></td>\n",
       "      <td></td>\n",
       "      <td>Überreichweite</td>\n",
       "      <td>[]</td>\n",
       "      <td></td>\n",
       "    </tr>\n",
       "  </tbody>\n",
       "</table>\n",
       "</div>"
      ],
      "text/plain": [
       "             section_id2     merkmal                     node_debug  \\\n",
       "0                  Hallo   übersicht  Deutsch Substantiv Übersicht\n",
       "   \n",
       "446              April_1     istName                           <NA>   \n",
       "1031             Liebe_1   übersicht  Deutsch Substantiv Übersicht\n",
       "   \n",
       "18515              Rauch  nurWortart                  Wortart fehlt   \n",
       "20173              Musik   übersicht  Deutsch Substantiv Übersicht\n",
       "   \n",
       "81347            spulgen   übersicht        Deutsch Verb Übersicht\n",
       "   \n",
       "175097              ein-      Präfix                           <NA>   \n",
       "230371              Joch    herkunft                                  \n",
       "1308756               μm          up                                  \n",
       "1314648              &c.         def                                  \n",
       "1492067         Pathovar    herkunft                                  \n",
       "5171413  Überreichweiten          gm                                  \n",
       "5171416  Überreichweiten          gm                                  \n",
       "\n",
       "             node_kontext            data  num   meta  \n",
       "0                   Genus               n  NaN   <NA>  \n",
       "446                  <NA>          exists  NaN   <NA>  \n",
       "1031     Nominativ Plural               —  NaN   <NA>  \n",
       "18515                   1      Substantiv  NaN   <NA>  \n",
       "20173               Genus               f  NaN   <NA>  \n",
       "81347      Präteritum_ich                  NaN   <NA>  \n",
       "175097               <NA>          exists  NaN   <NA>  \n",
       "230371                  Ü             𒄿𒌑𒃷   []         \n",
       "1308756                           Einheit  [1]         \n",
       "1314648                         et cetera  [1]         \n",
       "1492067                 Ü          varius   []  παθοs  \n",
       "5171413                    Überreichweite   []         \n",
       "5171416                    Überreichweite   []         "
      ]
     },
     "execution_count": 19,
     "metadata": {},
     "output_type": "execute_result"
    }
   ],
   "source": [
    "pak.sample(wiktionary_merkmal)"
   ]
  },
  {
   "cell_type": "code",
   "execution_count": 20,
   "metadata": {
    "execution": {
     "iopub.execute_input": "2023-03-05T16:25:44.462632Z",
     "iopub.status.busy": "2023-03-05T16:25:44.459958Z",
     "iopub.status.idle": "2023-03-05T16:26:05.577592Z",
     "shell.execute_reply": "2023-03-05T16:26:05.576998Z",
     "shell.execute_reply.started": "2023-03-05T16:25:44.462594Z"
    }
   },
   "outputs": [
    {
     "data": {
      "text/html": [
       "<div>\n",
       "<style scoped>\n",
       "    .dataframe tbody tr th:only-of-type {\n",
       "        vertical-align: middle;\n",
       "    }\n",
       "\n",
       "    .dataframe tbody tr th {\n",
       "        vertical-align: top;\n",
       "    }\n",
       "\n",
       "    .dataframe thead th {\n",
       "        text-align: right;\n",
       "    }\n",
       "</style>\n",
       "<table border=\"1\" class=\"dataframe\">\n",
       "  <thead>\n",
       "    <tr style=\"text-align: right;\">\n",
       "      <th></th>\n",
       "      <th>col_name</th>\n",
       "      <th>datatype_instance</th>\n",
       "      <th>datatype</th>\n",
       "      <th>datatype_short</th>\n",
       "      <th>datatype_suggest</th>\n",
       "      <th>is_numeric</th>\n",
       "      <th>is_string</th>\n",
       "      <th>is_hashable</th>\n",
       "      <th>nan_allowed</th>\n",
       "      <th>mem_usage</th>\n",
       "      <th>ntypes</th>\n",
       "      <th>nunique</th>\n",
       "      <th>nnan</th>\n",
       "      <th>ndups</th>\n",
       "      <th>n</th>\n",
       "      <th>vmin</th>\n",
       "      <th>vmean</th>\n",
       "      <th>vmedian</th>\n",
       "      <th>vmax</th>\n",
       "      <th>vsum</th>\n",
       "    </tr>\n",
       "  </thead>\n",
       "  <tbody>\n",
       "    <tr>\n",
       "      <th>0</th>\n",
       "      <td>__index__</td>\n",
       "      <td>int64</td>\n",
       "      <td>np.int64</td>\n",
       "      <td>int64</td>\n",
       "      <td>np.int32</td>\n",
       "      <td>True</td>\n",
       "      <td>False</td>\n",
       "      <td>True</td>\n",
       "      <td>False</td>\n",
       "      <td>80.0 B</td>\n",
       "      <td>1</td>\n",
       "      <td>5171417</td>\n",
       "      <td>0</td>\n",
       "      <td>0</td>\n",
       "      <td>5171417</td>\n",
       "      <td>0.0</td>\n",
       "      <td>2585708.0</td>\n",
       "      <td>2585708.0</td>\n",
       "      <td>5171416.0</td>\n",
       "      <td>1.337177e+13</td>\n",
       "    </tr>\n",
       "    <tr>\n",
       "      <th>1</th>\n",
       "      <td>section_id2</td>\n",
       "      <td>str</td>\n",
       "      <td>pd.string</td>\n",
       "      <td>string</td>\n",
       "      <td></td>\n",
       "      <td>False</td>\n",
       "      <td>True</td>\n",
       "      <td>True</td>\n",
       "      <td>True</td>\n",
       "      <td>836.0 B</td>\n",
       "      <td>1</td>\n",
       "      <td>836708</td>\n",
       "      <td>0</td>\n",
       "      <td>4334709</td>\n",
       "      <td>5171417</td>\n",
       "      <td>&amp;c.</td>\n",
       "      <td>NaN</td>\n",
       "      <td>NaN</td>\n",
       "      <td>μm</td>\n",
       "      <td>NaN</td>\n",
       "    </tr>\n",
       "    <tr>\n",
       "      <th>2</th>\n",
       "      <td>merkmal</td>\n",
       "      <td>str</td>\n",
       "      <td>pd.string</td>\n",
       "      <td>string</td>\n",
       "      <td></td>\n",
       "      <td>False</td>\n",
       "      <td>True</td>\n",
       "      <td>True</td>\n",
       "      <td>True</td>\n",
       "      <td>676.0 B</td>\n",
       "      <td>1</td>\n",
       "      <td>36</td>\n",
       "      <td>0</td>\n",
       "      <td>5171381</td>\n",
       "      <td>5171417</td>\n",
       "      <td>Präfix</td>\n",
       "      <td>NaN</td>\n",
       "      <td>NaN</td>\n",
       "      <td>übersicht</td>\n",
       "      <td>NaN</td>\n",
       "    </tr>\n",
       "    <tr>\n",
       "      <th>3</th>\n",
       "      <td>node_debug</td>\n",
       "      <td>str</td>\n",
       "      <td>pd.string</td>\n",
       "      <td>string</td>\n",
       "      <td></td>\n",
       "      <td>False</td>\n",
       "      <td>True</td>\n",
       "      <td>True</td>\n",
       "      <td>True</td>\n",
       "      <td>676.0 B</td>\n",
       "      <td>1</td>\n",
       "      <td>31</td>\n",
       "      <td>11465</td>\n",
       "      <td>5159921</td>\n",
       "      <td>5171417</td>\n",
       "      <td></td>\n",
       "      <td>NaN</td>\n",
       "      <td>NaN</td>\n",
       "      <td>Wortart fehlt</td>\n",
       "      <td>NaN</td>\n",
       "    </tr>\n",
       "    <tr>\n",
       "      <th>4</th>\n",
       "      <td>node_kontext</td>\n",
       "      <td>str</td>\n",
       "      <td>pd.string</td>\n",
       "      <td>string</td>\n",
       "      <td></td>\n",
       "      <td>False</td>\n",
       "      <td>True</td>\n",
       "      <td>True</td>\n",
       "      <td>True</td>\n",
       "      <td>593.0 B</td>\n",
       "      <td>1</td>\n",
       "      <td>235</td>\n",
       "      <td>11465</td>\n",
       "      <td>5159717</td>\n",
       "      <td>5171417</td>\n",
       "      <td></td>\n",
       "      <td>NaN</td>\n",
       "      <td>NaN</td>\n",
       "      <td>Ü</td>\n",
       "      <td>NaN</td>\n",
       "    </tr>\n",
       "    <tr>\n",
       "      <th>5</th>\n",
       "      <td>data</td>\n",
       "      <td>str</td>\n",
       "      <td>pd.string</td>\n",
       "      <td>string</td>\n",
       "      <td></td>\n",
       "      <td>False</td>\n",
       "      <td>True</td>\n",
       "      <td>True</td>\n",
       "      <td>True</td>\n",
       "      <td>766.0 B</td>\n",
       "      <td>1</td>\n",
       "      <td>725566</td>\n",
       "      <td>0</td>\n",
       "      <td>4445851</td>\n",
       "      <td>5171417</td>\n",
       "      <td></td>\n",
       "      <td>NaN</td>\n",
       "      <td>NaN</td>\n",
       "      <td>𒄿𒌑𒃷</td>\n",
       "      <td>NaN</td>\n",
       "    </tr>\n",
       "    <tr>\n",
       "      <th>6</th>\n",
       "      <td>num</td>\n",
       "      <td>list</td>\n",
       "      <td>object</td>\n",
       "      <td>object</td>\n",
       "      <td></td>\n",
       "      <td>False</td>\n",
       "      <td>True</td>\n",
       "      <td>False</td>\n",
       "      <td>True</td>\n",
       "      <td>512.0 B</td>\n",
       "      <td>1</td>\n",
       "      <td>224</td>\n",
       "      <td>1133103</td>\n",
       "      <td>4038090</td>\n",
       "      <td>5171417</td>\n",
       "      <td>[]</td>\n",
       "      <td>NaN</td>\n",
       "      <td>NaN</td>\n",
       "      <td>[1225]</td>\n",
       "      <td>NaN</td>\n",
       "    </tr>\n",
       "    <tr>\n",
       "      <th>7</th>\n",
       "      <td>meta</td>\n",
       "      <td>str</td>\n",
       "      <td>pd.string</td>\n",
       "      <td>string</td>\n",
       "      <td></td>\n",
       "      <td>False</td>\n",
       "      <td>True</td>\n",
       "      <td>True</td>\n",
       "      <td>True</td>\n",
       "      <td>544.0 B</td>\n",
       "      <td>1</td>\n",
       "      <td>18571</td>\n",
       "      <td>1133103</td>\n",
       "      <td>4019743</td>\n",
       "      <td>5171417</td>\n",
       "      <td></td>\n",
       "      <td>NaN</td>\n",
       "      <td>NaN</td>\n",
       "      <td>παθοs</td>\n",
       "      <td>NaN</td>\n",
       "    </tr>\n",
       "  </tbody>\n",
       "</table>\n",
       "</div>"
      ],
      "text/plain": [
       "       col_name datatype_instance   datatype datatype_short datatype_suggest  \\\n",
       "0     __index__             int64   np.int64          int64         np.int32   \n",
       "1   section_id2               str  pd.string         string                    \n",
       "2       merkmal               str  pd.string         string                    \n",
       "3    node_debug               str  pd.string         string                    \n",
       "4  node_kontext               str  pd.string         string                    \n",
       "5          data               str  pd.string         string                    \n",
       "6           num              list     object         object                    \n",
       "7          meta               str  pd.string         string                    \n",
       "\n",
       "   is_numeric  is_string  is_hashable  nan_allowed mem_usage  ntypes  nunique  \\\n",
       "0        True      False         True        False    80.0 B       1  5171417   \n",
       "1       False       True         True         True   836.0 B       1   836708   \n",
       "2       False       True         True         True   676.0 B       1       36   \n",
       "3       False       True         True         True   676.0 B       1       31   \n",
       "4       False       True         True         True   593.0 B       1      235   \n",
       "5       False       True         True         True   766.0 B       1   725566   \n",
       "6       False       True        False         True   512.0 B       1      224   \n",
       "7       False       True         True         True   544.0 B       1    18571   \n",
       "\n",
       "      nnan    ndups        n    vmin      vmean    vmedian           vmax  \\\n",
       "0        0        0  5171417     0.0  2585708.0  2585708.0      5171416.0   \n",
       "1        0  4334709  5171417     &c.        NaN        NaN             μm   \n",
       "2        0  5171381  5171417  Präfix        NaN        NaN      übersicht   \n",
       "3    11465  5159921  5171417                NaN        NaN  Wortart fehlt   \n",
       "4    11465  5159717  5171417                NaN        NaN              Ü   \n",
       "5        0  4445851  5171417                NaN        NaN            𒄿𒌑𒃷   \n",
       "6  1133103  4038090  5171417      []        NaN        NaN         [1225]   \n",
       "7  1133103  4019743  5171417                NaN        NaN          παθοs   \n",
       "\n",
       "           vsum  \n",
       "0  1.337177e+13  \n",
       "1           NaN  \n",
       "2           NaN  \n",
       "3           NaN  \n",
       "4           NaN  \n",
       "5           NaN  \n",
       "6           NaN  \n",
       "7           NaN  "
      ]
     },
     "execution_count": 20,
     "metadata": {},
     "output_type": "execute_result"
    }
   ],
   "source": [
    "pak.analyse_cols(wiktionary_merkmal)"
   ]
  },
  {
   "cell_type": "code",
   "execution_count": 21,
   "metadata": {
    "execution": {
     "iopub.execute_input": "2023-03-05T16:26:05.580960Z",
     "iopub.status.busy": "2023-03-05T16:26:05.580676Z",
     "iopub.status.idle": "2023-03-05T16:26:16.743603Z",
     "shell.execute_reply": "2023-03-05T16:26:16.742954Z",
     "shell.execute_reply.started": "2023-03-05T16:26:05.580936Z"
    },
    "tags": []
   },
   "outputs": [
    {
     "name": "stdout",
     "output_type": "stream",
     "text": [
      "36 rows\n"
     ]
    },
    {
     "data": {
      "text/html": [
       "\n",
       "        <iframe\n",
       "            width=\"100%\"\n",
       "            height=\"475\"\n",
       "            src=\"http://pop-os:40000/dtale/iframe/1\"\n",
       "            frameborder=\"0\"\n",
       "            allowfullscreen\n",
       "            \n",
       "        ></iframe>\n",
       "        "
      ],
      "text/plain": [
       "<IPython.lib.display.IFrame at 0x7f58f2bf2160>"
      ]
     },
     "metadata": {},
     "output_type": "display_data"
    },
    {
     "data": {
      "text/plain": []
     },
     "execution_count": 21,
     "metadata": {},
     "output_type": "execute_result"
    }
   ],
   "source": [
    "# Häufigkeit der Merkmale\n",
    "a = pak.analyse_freqs(wiktionary_merkmal,['merkmal','data'])\n",
    "gridt(a)"
   ]
  },
  {
   "cell_type": "code",
   "execution_count": 22,
   "metadata": {
    "execution": {
     "iopub.execute_input": "2023-03-05T16:26:16.749175Z",
     "iopub.status.busy": "2023-03-05T16:26:16.746878Z",
     "iopub.status.idle": "2023-03-05T16:26:17.042598Z",
     "shell.execute_reply": "2023-03-05T16:26:17.041788Z",
     "shell.execute_reply.started": "2023-03-05T16:26:16.749111Z"
    }
   },
   "outputs": [],
   "source": [
    "# ursprüngliche_merkmale merken\n",
    "ursprüngliche_merkmale = wiktionary_merkmal.merkmal.unique()"
   ]
  },
  {
   "cell_type": "markdown",
   "metadata": {},
   "source": [
    "## Vorverarbeitung\n",
    "* Feld num in String wandeln, um dups entfernen zu können\n",
    "* Dups entfernen\n",
    "* wiktionary: flexion in defaultdict wandeln"
   ]
  },
  {
   "cell_type": "code",
   "execution_count": 23,
   "metadata": {
    "execution": {
     "iopub.execute_input": "2023-03-05T16:26:17.043662Z",
     "iopub.status.busy": "2023-03-05T16:26:17.043427Z",
     "iopub.status.idle": "2023-03-05T16:26:18.365508Z",
     "shell.execute_reply": "2023-03-05T16:26:18.364242Z",
     "shell.execute_reply.started": "2023-03-05T16:26:17.043641Z"
    }
   },
   "outputs": [],
   "source": [
    "# num ist leere Liste \n",
    "mask = (wiktionary_merkmal.num.str.len() == 0)  \n",
    "#wiktionary_merkmal[mask]\n",
    "wiktionary_merkmal.loc[mask,'num'] = ''"
   ]
  },
  {
   "cell_type": "code",
   "execution_count": 24,
   "metadata": {
    "execution": {
     "iopub.execute_input": "2023-03-05T16:26:18.366741Z",
     "iopub.status.busy": "2023-03-05T16:26:18.366410Z",
     "iopub.status.idle": "2023-03-05T16:26:18.756344Z",
     "shell.execute_reply": "2023-03-05T16:26:18.755549Z",
     "shell.execute_reply.started": "2023-03-05T16:26:18.366710Z"
    }
   },
   "outputs": [],
   "source": [
    "# fillna\n",
    "wiktionary_merkmal['num'] = wiktionary_merkmal.num.fillna('')"
   ]
  },
  {
   "cell_type": "code",
   "execution_count": 25,
   "metadata": {
    "execution": {
     "iopub.execute_input": "2023-03-05T16:26:18.757538Z",
     "iopub.status.busy": "2023-03-05T16:26:18.757257Z",
     "iopub.status.idle": "2023-03-05T16:26:21.097848Z",
     "shell.execute_reply": "2023-03-05T16:26:21.097195Z",
     "shell.execute_reply.started": "2023-03-05T16:26:18.757510Z"
    }
   },
   "outputs": [],
   "source": [
    "# num ist Liste mit einem Eintrag >> diesen verwenden\n",
    "mask = (wiktionary_merkmal.num.str.len() == 1)\n",
    "wiktionary_merkmal.loc[mask,'num'] = wiktionary_merkmal[mask].num.str[0]\n",
    "#wiktionary_merkmal[mask]"
   ]
  },
  {
   "cell_type": "code",
   "execution_count": 26,
   "metadata": {
    "execution": {
     "iopub.execute_input": "2023-03-05T16:26:21.098775Z",
     "iopub.status.busy": "2023-03-05T16:26:21.098564Z",
     "iopub.status.idle": "2023-03-05T16:26:21.197931Z",
     "shell.execute_reply": "2023-03-05T16:26:21.197240Z",
     "shell.execute_reply.started": "2023-03-05T16:26:21.098754Z"
    }
   },
   "outputs": [
    {
     "data": {
      "text/plain": [
       "\u001b[0;31mSignature:\u001b[0m \u001b[0mpak\u001b[0m\u001b[0;34m.\u001b[0m\u001b[0mlist_to_string\u001b[0m\u001b[0;34m(\u001b[0m\u001b[0mseries\u001b[0m\u001b[0;34m,\u001b[0m \u001b[0msep\u001b[0m\u001b[0;34m=\u001b[0m\u001b[0;34m','\u001b[0m\u001b[0;34m)\u001b[0m\u001b[0;34m\u001b[0m\u001b[0;34m\u001b[0m\u001b[0m\n",
       "\u001b[0;31mDocstring:\u001b[0m\n",
       "Converts a Series of lists of strings into a Series of strings.\n",
       "* sep: The separator, default is ','\n",
       "Example:\n",
       "df = pak.people()\n",
       "df['history2'] = pak.list_to_string(df.history)    \n",
       "\u001b[0;31mFile:\u001b[0m      ~/Data_Linux/Dropbox/31_Projekte/01_Python/git/pandasklar/src/pandasklar/pandas.py\n",
       "\u001b[0;31mType:\u001b[0m      function\n"
      ]
     },
     "metadata": {},
     "output_type": "display_data"
    }
   ],
   "source": [
    "?pak.list_to_string"
   ]
  },
  {
   "cell_type": "code",
   "execution_count": 27,
   "metadata": {
    "execution": {
     "iopub.execute_input": "2023-03-05T16:26:21.199156Z",
     "iopub.status.busy": "2023-03-05T16:26:21.198893Z",
     "iopub.status.idle": "2023-03-05T16:26:23.170611Z",
     "shell.execute_reply": "2023-03-05T16:26:23.169968Z",
     "shell.execute_reply.started": "2023-03-05T16:26:21.199134Z"
    }
   },
   "outputs": [],
   "source": [
    "# Liste in String wandeln, damit wir Dups entfernen können\n",
    "# wiktionary_merkmal: list_to_string\n",
    "wiktionary_merkmal['num'] = pak.list_to_string(wiktionary_merkmal.num)"
   ]
  },
  {
   "cell_type": "code",
   "execution_count": 28,
   "metadata": {
    "execution": {
     "iopub.execute_input": "2023-03-05T16:26:23.172561Z",
     "iopub.status.busy": "2023-03-05T16:26:23.172306Z",
     "iopub.status.idle": "2023-03-05T16:26:30.646342Z",
     "shell.execute_reply": "2023-03-05T16:26:30.645704Z",
     "shell.execute_reply.started": "2023-03-05T16:26:23.172539Z"
    }
   },
   "outputs": [
    {
     "name": "stdout",
     "output_type": "stream",
     "text": [
      "Delete 1902922 rows from 5171417\n"
     ]
    }
   ],
   "source": [
    "# Dups entfernen. \n",
    "# Die Duplikate entstehen z.B. dadurch, dass für manche Merkmale nur der Linktext verwendet wird. \n",
    "# Beispiel Wolf_1, Merkmal kombi: die Wolf _mündet_, in die Wolf _mündet_ führt zu einem Duplikat.\n",
    "mask = wiktionary_merkmal.duplicated()\n",
    "wiktionary_merkmal = pak.drop_rows(wiktionary_merkmal, mask)"
   ]
  },
  {
   "cell_type": "code",
   "execution_count": 29,
   "metadata": {
    "execution": {
     "iopub.execute_input": "2023-03-05T16:26:30.647261Z",
     "iopub.status.busy": "2023-03-05T16:26:30.647047Z",
     "iopub.status.idle": "2023-03-05T16:26:31.030577Z",
     "shell.execute_reply": "2023-03-05T16:26:31.029909Z",
     "shell.execute_reply.started": "2023-03-05T16:26:30.647240Z"
    }
   },
   "outputs": [],
   "source": [
    "# lemma_lower\n",
    "wiktionary['lemma_lower'] = wiktionary.lemma.str.lower() "
   ]
  },
  {
   "cell_type": "code",
   "execution_count": 30,
   "metadata": {
    "execution": {
     "iopub.execute_input": "2023-03-05T16:26:31.035485Z",
     "iopub.status.busy": "2023-03-05T16:26:31.035132Z",
     "iopub.status.idle": "2023-03-05T16:27:34.020779Z",
     "shell.execute_reply": "2023-03-05T16:27:34.020037Z",
     "shell.execute_reply.started": "2023-03-05T16:26:31.035462Z"
    },
    "tags": []
   },
   "outputs": [],
   "source": [
    "# wiktionary: flexion in defaultdict wandeln\n",
    "# 1 min\n",
    "wiktionary = pak.cols_to_defaultdict( wiktionary, col_dict='flexion')"
   ]
  },
  {
   "cell_type": "code",
   "execution_count": 31,
   "metadata": {
    "execution": {
     "iopub.execute_input": "2023-03-05T16:27:34.022888Z",
     "iopub.status.busy": "2023-03-05T16:27:34.022516Z",
     "iopub.status.idle": "2023-03-05T16:27:44.784462Z",
     "shell.execute_reply": "2023-03-05T16:27:44.783543Z",
     "shell.execute_reply.started": "2023-03-05T16:27:34.022795Z"
    },
    "tags": []
   },
   "outputs": [],
   "source": [
    "# change_datatype\n",
    "wiktionary = pak.change_datatype(wiktionary, verbose=False)"
   ]
  },
  {
   "cell_type": "markdown",
   "metadata": {},
   "source": [
    "## score"
   ]
  },
  {
   "cell_type": "code",
   "execution_count": 32,
   "metadata": {
    "execution": {
     "iopub.execute_input": "2023-03-05T16:27:44.785681Z",
     "iopub.status.busy": "2023-03-05T16:27:44.785402Z",
     "iopub.status.idle": "2023-03-05T16:27:44.958097Z",
     "shell.execute_reply": "2023-03-05T16:27:44.957166Z",
     "shell.execute_reply.started": "2023-03-05T16:27:44.785653Z"
    },
    "tags": []
   },
   "outputs": [],
   "source": [
    "# Basis ist erstmal die Länge des Wiktionary-Eintrags\n",
    "wiktionary['score_base'] = pak.scale( wiktionary.section_len, 'compare_median') + 0.001"
   ]
  },
  {
   "cell_type": "code",
   "execution_count": 33,
   "metadata": {
    "execution": {
     "iopub.execute_input": "2023-03-05T16:27:44.962210Z",
     "iopub.status.busy": "2023-03-05T16:27:44.959085Z",
     "iopub.status.idle": "2023-03-05T16:27:45.132239Z",
     "shell.execute_reply": "2023-03-05T16:27:45.131596Z",
     "shell.execute_reply.started": "2023-03-05T16:27:44.962172Z"
    },
    "tags": []
   },
   "outputs": [],
   "source": [
    "# Lemmas sind besser\n",
    "wiktionary['f0'] = 0.5\n",
    "mask = (wiktionary.title == wiktionary.lemma)\n",
    "wiktionary.loc[mask,'f0'] = 2.0"
   ]
  },
  {
   "cell_type": "code",
   "execution_count": 34,
   "metadata": {
    "execution": {
     "iopub.execute_input": "2023-03-05T16:27:45.133325Z",
     "iopub.status.busy": "2023-03-05T16:27:45.133084Z",
     "iopub.status.idle": "2023-03-05T16:27:45.471046Z",
     "shell.execute_reply": "2023-03-05T16:27:45.470414Z",
     "shell.execute_reply.started": "2023-03-05T16:27:45.133304Z"
    },
    "tags": []
   },
   "outputs": [],
   "source": [
    "# Je mehr _ die ID enthält, desto schlechter\n",
    "wiktionary['f1'] = 1 / (1 + wiktionary.section_id2.str.count('_'))  "
   ]
  },
  {
   "cell_type": "code",
   "execution_count": 35,
   "metadata": {
    "execution": {
     "iopub.execute_input": "2023-03-05T16:27:45.474254Z",
     "iopub.status.busy": "2023-03-05T16:27:45.473939Z",
     "iopub.status.idle": "2023-03-05T16:27:45.575967Z",
     "shell.execute_reply": "2023-03-05T16:27:45.573638Z",
     "shell.execute_reply.started": "2023-03-05T16:27:45.474230Z"
    },
    "tags": []
   },
   "outputs": [],
   "source": [
    "# Je weiter unten auf der Seite, desto schlechter\n",
    "wiktionary['f2'] = 1 / (1 + wiktionary.page_part) \n",
    "\n",
    "mask = wiktionary.page_part == 0\n",
    "wiktionary.loc[mask,'f2'] += 1"
   ]
  },
  {
   "cell_type": "code",
   "execution_count": 36,
   "metadata": {
    "execution": {
     "iopub.execute_input": "2023-03-05T16:27:45.583506Z",
     "iopub.status.busy": "2023-03-05T16:27:45.583058Z",
     "iopub.status.idle": "2023-03-05T16:27:55.083397Z",
     "shell.execute_reply": "2023-03-05T16:27:55.082624Z",
     "shell.execute_reply.started": "2023-03-05T16:27:45.583473Z"
    },
    "tags": []
   },
   "outputs": [
    {
     "name": "stdout",
     "output_type": "stream",
     "text": [
      "2431787 rows less, now 836708 rows\n",
      "update_col: 836708 cells written into new column\n"
     ]
    }
   ],
   "source": [
    "# Merkmale zählen. Je mehr Merkmale, desto besser\n",
    "df = pak.group_and_agg( wiktionary_merkmal,\n",
    "                        col_origins = ['section_id2','data',],\n",
    "                        col_funcs   = ['',           'size'],\n",
    "                        col_names   = ['',           'm_count'] )\n",
    "wiktionary = pak.update_col(wiktionary, df, on='section_id2',col='m_count')\n",
    "wiktionary['f3'] = (wiktionary.m_count**0.5).fillna(0.1)"
   ]
  },
  {
   "cell_type": "code",
   "execution_count": 37,
   "metadata": {
    "execution": {
     "iopub.execute_input": "2023-03-05T16:27:55.084560Z",
     "iopub.status.busy": "2023-03-05T16:27:55.084273Z",
     "iopub.status.idle": "2023-03-05T16:27:55.153519Z",
     "shell.execute_reply": "2023-03-05T16:27:55.150402Z",
     "shell.execute_reply.started": "2023-03-05T16:27:55.084536Z"
    },
    "tags": []
   },
   "outputs": [],
   "source": [
    "# alles zusammenrechnen\n",
    "wiktionary['score'] = wiktionary.score_base * wiktionary.f0 * wiktionary.f1 * wiktionary.f2 * wiktionary.f3"
   ]
  },
  {
   "cell_type": "code",
   "execution_count": 38,
   "metadata": {
    "execution": {
     "iopub.execute_input": "2023-03-05T16:27:55.154630Z",
     "iopub.status.busy": "2023-03-05T16:27:55.154388Z",
     "iopub.status.idle": "2023-03-05T16:28:00.198292Z",
     "shell.execute_reply": "2023-03-05T16:28:00.196443Z",
     "shell.execute_reply.started": "2023-03-05T16:27:55.154608Z"
    },
    "tags": []
   },
   "outputs": [
    {
     "name": "stdout",
     "output_type": "stream",
     "text": [
      "Exception occurred while processing request: 'NoneType' object is not iterable\n",
      "Traceback (most recent call last):\n",
      "  File \"/home/me/mambaforge/envs/python_06/lib/python3.9/site-packages/dtale/views.py\", line 120, in _handle_exceptions\n",
      "    return func(*args, **kwargs)\n",
      "  File \"/home/me/mambaforge/envs/python_06/lib/python3.9/site-packages/dtale/views.py\", line 2480, in get_data\n",
      "    curr_dtypes = [c[\"name\"] for c in global_state.get_dtypes(data_id)]\n",
      "TypeError: 'NoneType' object is not iterable\n"
     ]
    },
    {
     "name": "stderr",
     "output_type": "stream",
     "text": [
      "2023-03-05 17:27:55,624 - ERROR    - Exception occurred while processing request: 'NoneType' object is not iterable\n",
      "Traceback (most recent call last):\n",
      "  File \"/home/me/mambaforge/envs/python_06/lib/python3.9/site-packages/dtale/views.py\", line 120, in _handle_exceptions\n",
      "    return func(*args, **kwargs)\n",
      "  File \"/home/me/mambaforge/envs/python_06/lib/python3.9/site-packages/dtale/views.py\", line 2480, in get_data\n",
      "    curr_dtypes = [c[\"name\"] for c in global_state.get_dtypes(data_id)]\n",
      "TypeError: 'NoneType' object is not iterable\n"
     ]
    },
    {
     "name": "stdout",
     "output_type": "stream",
     "text": [
      "Exception occurred while processing request: 'NoneType' object is not iterable\n",
      "Traceback (most recent call last):\n",
      "  File \"/home/me/mambaforge/envs/python_06/lib/python3.9/site-packages/dtale/views.py\", line 120, in _handle_exceptions\n",
      "    return func(*args, **kwargs)\n",
      "  File \"/home/me/mambaforge/envs/python_06/lib/python3.9/site-packages/dtale/views.py\", line 2480, in get_data\n",
      "    curr_dtypes = [c[\"name\"] for c in global_state.get_dtypes(data_id)]\n",
      "TypeError: 'NoneType' object is not iterable\n"
     ]
    },
    {
     "name": "stderr",
     "output_type": "stream",
     "text": [
      "2023-03-05 17:27:59,837 - ERROR    - Exception occurred while processing request: 'NoneType' object is not iterable\n",
      "Traceback (most recent call last):\n",
      "  File \"/home/me/mambaforge/envs/python_06/lib/python3.9/site-packages/dtale/views.py\", line 120, in _handle_exceptions\n",
      "    return func(*args, **kwargs)\n",
      "  File \"/home/me/mambaforge/envs/python_06/lib/python3.9/site-packages/dtale/views.py\", line 2480, in get_data\n",
      "    curr_dtypes = [c[\"name\"] for c in global_state.get_dtypes(data_id)]\n",
      "TypeError: 'NoneType' object is not iterable\n"
     ]
    },
    {
     "data": {
      "text/html": [
       "<div>\n",
       "<style scoped>\n",
       "    .dataframe tbody tr th:only-of-type {\n",
       "        vertical-align: middle;\n",
       "    }\n",
       "\n",
       "    .dataframe tbody tr th {\n",
       "        vertical-align: top;\n",
       "    }\n",
       "\n",
       "    .dataframe thead th {\n",
       "        text-align: right;\n",
       "    }\n",
       "</style>\n",
       "<table border=\"1\" class=\"dataframe\">\n",
       "  <thead>\n",
       "    <tr style=\"text-align: right;\">\n",
       "      <th></th>\n",
       "      <th>page_id</th>\n",
       "      <th>page_part</th>\n",
       "      <th>section_id2</th>\n",
       "      <th>title</th>\n",
       "      <th>lemma</th>\n",
       "      <th>section_len</th>\n",
       "      <th>score_base</th>\n",
       "      <th>f0</th>\n",
       "      <th>f1</th>\n",
       "      <th>f2</th>\n",
       "      <th>m_count</th>\n",
       "      <th>f3</th>\n",
       "      <th>score</th>\n",
       "    </tr>\n",
       "  </thead>\n",
       "  <tbody>\n",
       "    <tr>\n",
       "      <th>0</th>\n",
       "      <td>0</td>\n",
       "      <td>0</td>\n",
       "      <td>Hallo</td>\n",
       "      <td>Hallo</td>\n",
       "      <td>Hallo</td>\n",
       "      <td>1935</td>\n",
       "      <td>2.752282</td>\n",
       "      <td>2.0</td>\n",
       "      <td>1.0</td>\n",
       "      <td>2.0</td>\n",
       "      <td>10.0</td>\n",
       "      <td>3.162278</td>\n",
       "      <td>34.81392</td>\n",
       "    </tr>\n",
       "    <tr>\n",
       "      <th>27</th>\n",
       "      <td>50</td>\n",
       "      <td>0</td>\n",
       "      <td>ich</td>\n",
       "      <td>ich</td>\n",
       "      <td>ich</td>\n",
       "      <td>86973</td>\n",
       "      <td>111.775359</td>\n",
       "      <td>2.0</td>\n",
       "      <td>1.0</td>\n",
       "      <td>2.0</td>\n",
       "      <td>29.0</td>\n",
       "      <td>5.385165</td>\n",
       "      <td>2407.714918</td>\n",
       "    </tr>\n",
       "    <tr>\n",
       "      <th>135</th>\n",
       "      <td>217</td>\n",
       "      <td>0</td>\n",
       "      <td>Haus</td>\n",
       "      <td>Haus</td>\n",
       "      <td>Haus</td>\n",
       "      <td>70143</td>\n",
       "      <td>90.198436</td>\n",
       "      <td>2.0</td>\n",
       "      <td>1.0</td>\n",
       "      <td>2.0</td>\n",
       "      <td>1126.0</td>\n",
       "      <td>33.555923</td>\n",
       "      <td>12106.767249</td>\n",
       "    </tr>\n",
       "    <tr>\n",
       "      <th>8706</th>\n",
       "      <td>14581</td>\n",
       "      <td>0</td>\n",
       "      <td>jugendsprachl.</td>\n",
       "      <td>jugendsprachl.</td>\n",
       "      <td>jugendsprachl.</td>\n",
       "      <td>340</td>\n",
       "      <td>0.529926</td>\n",
       "      <td>2.0</td>\n",
       "      <td>1.0</td>\n",
       "      <td>2.0</td>\n",
       "      <td>2.0</td>\n",
       "      <td>1.414214</td>\n",
       "      <td>2.997712</td>\n",
       "    </tr>\n",
       "    <tr>\n",
       "      <th>9954</th>\n",
       "      <td>17156</td>\n",
       "      <td>0</td>\n",
       "      <td>JAG</td>\n",
       "      <td>JAG</td>\n",
       "      <td>JAG</td>\n",
       "      <td>344</td>\n",
       "      <td>0.53819</td>\n",
       "      <td>2.0</td>\n",
       "      <td>1.0</td>\n",
       "      <td>2.0</td>\n",
       "      <td>1.0</td>\n",
       "      <td>1.000000</td>\n",
       "      <td>2.15276</td>\n",
       "    </tr>\n",
       "    <tr>\n",
       "      <th>13086</th>\n",
       "      <td>21980</td>\n",
       "      <td>1</td>\n",
       "      <td>North_Carolina_1</td>\n",
       "      <td>North Carolina</td>\n",
       "      <td>North Carolina</td>\n",
       "      <td>1055</td>\n",
       "      <td>1.624077</td>\n",
       "      <td>2.0</td>\n",
       "      <td>0.333333</td>\n",
       "      <td>0.5</td>\n",
       "      <td>9.0</td>\n",
       "      <td>3.000000</td>\n",
       "      <td>1.624077</td>\n",
       "    </tr>\n",
       "    <tr>\n",
       "      <th>18971</th>\n",
       "      <td>47220</td>\n",
       "      <td>2</td>\n",
       "      <td>Riß_2</td>\n",
       "      <td>Riß</td>\n",
       "      <td>Riß</td>\n",
       "      <td>84</td>\n",
       "      <td>0.001</td>\n",
       "      <td>2.0</td>\n",
       "      <td>0.5</td>\n",
       "      <td>0.333333</td>\n",
       "      <td>NaN</td>\n",
       "      <td>0.100000</td>\n",
       "      <td>0.000033</td>\n",
       "    </tr>\n",
       "    <tr>\n",
       "      <th>28940</th>\n",
       "      <td>75293</td>\n",
       "      <td>0</td>\n",
       "      <td>enthält</td>\n",
       "      <td>enthält</td>\n",
       "      <td>enthalten</td>\n",
       "      <td>335</td>\n",
       "      <td>0.519595</td>\n",
       "      <td>0.5</td>\n",
       "      <td>1.0</td>\n",
       "      <td>2.0</td>\n",
       "      <td>1.0</td>\n",
       "      <td>1.000000</td>\n",
       "      <td>0.519595</td>\n",
       "    </tr>\n",
       "    <tr>\n",
       "      <th>95827</th>\n",
       "      <td>239700</td>\n",
       "      <td>0</td>\n",
       "      <td>μm</td>\n",
       "      <td>μm</td>\n",
       "      <td>μm</td>\n",
       "      <td>1007</td>\n",
       "      <td>1.562538</td>\n",
       "      <td>2.0</td>\n",
       "      <td>1.0</td>\n",
       "      <td>2.0</td>\n",
       "      <td>5.0</td>\n",
       "      <td>2.236068</td>\n",
       "      <td>13.975769</td>\n",
       "    </tr>\n",
       "    <tr>\n",
       "      <th>96368</th>\n",
       "      <td>240350</td>\n",
       "      <td>0</td>\n",
       "      <td>&amp;c.</td>\n",
       "      <td>&amp;c.</td>\n",
       "      <td>&amp;c.</td>\n",
       "      <td>430</td>\n",
       "      <td>0.715876</td>\n",
       "      <td>2.0</td>\n",
       "      <td>1.0</td>\n",
       "      <td>2.0</td>\n",
       "      <td>2.0</td>\n",
       "      <td>1.414214</td>\n",
       "      <td>4.049606</td>\n",
       "    </tr>\n",
       "    <tr>\n",
       "      <th>98800</th>\n",
       "      <td>243606</td>\n",
       "      <td>6</td>\n",
       "      <td>Ami_6</td>\n",
       "      <td>Ami</td>\n",
       "      <td>Ami</td>\n",
       "      <td>2429</td>\n",
       "      <td>3.385615</td>\n",
       "      <td>2.0</td>\n",
       "      <td>0.5</td>\n",
       "      <td>0.142857</td>\n",
       "      <td>2.0</td>\n",
       "      <td>1.414214</td>\n",
       "      <td>0.683998</td>\n",
       "    </tr>\n",
       "    <tr>\n",
       "      <th>170533</th>\n",
       "      <td>327669</td>\n",
       "      <td>0</td>\n",
       "      <td>brillanter</td>\n",
       "      <td>brillanter</td>\n",
       "      <td>brillant</td>\n",
       "      <td>749</td>\n",
       "      <td>1.231769</td>\n",
       "      <td>0.5</td>\n",
       "      <td>1.0</td>\n",
       "      <td>2.0</td>\n",
       "      <td>1.0</td>\n",
       "      <td>1.000000</td>\n",
       "      <td>1.231769</td>\n",
       "    </tr>\n",
       "    <tr>\n",
       "      <th>357381</th>\n",
       "      <td>542119</td>\n",
       "      <td>0</td>\n",
       "      <td>-anter</td>\n",
       "      <td>-anter</td>\n",
       "      <td>-ant</td>\n",
       "      <td>238</td>\n",
       "      <td>0.319182</td>\n",
       "      <td>0.5</td>\n",
       "      <td>1.0</td>\n",
       "      <td>2.0</td>\n",
       "      <td>1.0</td>\n",
       "      <td>1.000000</td>\n",
       "      <td>0.319182</td>\n",
       "    </tr>\n",
       "    <tr>\n",
       "      <th>441321</th>\n",
       "      <td>660263</td>\n",
       "      <td>0</td>\n",
       "      <td>beaugenscheinigt</td>\n",
       "      <td>beaugenscheinigt</td>\n",
       "      <td>beaugenscheinigen</td>\n",
       "      <td>394</td>\n",
       "      <td>0.641496</td>\n",
       "      <td>0.5</td>\n",
       "      <td>1.0</td>\n",
       "      <td>2.0</td>\n",
       "      <td>1.0</td>\n",
       "      <td>1.000000</td>\n",
       "      <td>0.641496</td>\n",
       "    </tr>\n",
       "    <tr>\n",
       "      <th>648921</th>\n",
       "      <td>912680</td>\n",
       "      <td>0</td>\n",
       "      <td>davonkommen</td>\n",
       "      <td>davonkommen</td>\n",
       "      <td>davonkommen</td>\n",
       "      <td>2466</td>\n",
       "      <td>3.433051</td>\n",
       "      <td>2.0</td>\n",
       "      <td>1.0</td>\n",
       "      <td>2.0</td>\n",
       "      <td>18.0</td>\n",
       "      <td>4.242641</td>\n",
       "      <td>58.260812</td>\n",
       "    </tr>\n",
       "    <tr>\n",
       "      <th>837592</th>\n",
       "      <td>1118318</td>\n",
       "      <td>0</td>\n",
       "      <td>Überreichweiten</td>\n",
       "      <td>Überreichweiten</td>\n",
       "      <td>Überreichweite</td>\n",
       "      <td>452</td>\n",
       "      <td>0.761331</td>\n",
       "      <td>0.5</td>\n",
       "      <td>1.0</td>\n",
       "      <td>2.0</td>\n",
       "      <td>1.0</td>\n",
       "      <td>1.000000</td>\n",
       "      <td>0.761331</td>\n",
       "    </tr>\n",
       "  </tbody>\n",
       "</table>\n",
       "</div>"
      ],
      "text/plain": [
       "        page_id  page_part       section_id2             title  \\\n",
       "0             0          0             Hallo             Hallo   \n",
       "27           50          0               ich               ich   \n",
       "135         217          0              Haus              Haus   \n",
       "8706      14581          0    jugendsprachl.    jugendsprachl.   \n",
       "9954      17156          0               JAG               JAG   \n",
       "13086     21980          1  North_Carolina_1    North Carolina   \n",
       "18971     47220          2             Riß_2               Riß   \n",
       "28940     75293          0           enthält           enthält   \n",
       "95827    239700          0                μm                μm   \n",
       "96368    240350          0               &c.               &c.   \n",
       "98800    243606          6             Ami_6               Ami   \n",
       "170533   327669          0        brillanter        brillanter   \n",
       "357381   542119          0            -anter            -anter   \n",
       "441321   660263          0  beaugenscheinigt  beaugenscheinigt   \n",
       "648921   912680          0       davonkommen       davonkommen   \n",
       "837592  1118318          0   Überreichweiten   Überreichweiten   \n",
       "\n",
       "                    lemma  section_len  score_base   f0        f1        f2  \\\n",
       "0                   Hallo         1935    2.752282  2.0       1.0       2.0   \n",
       "27                    ich        86973  111.775359  2.0       1.0       2.0   \n",
       "135                  Haus        70143   90.198436  2.0       1.0       2.0   \n",
       "8706       jugendsprachl.          340    0.529926  2.0       1.0       2.0   \n",
       "9954                  JAG          344     0.53819  2.0       1.0       2.0   \n",
       "13086      North Carolina         1055    1.624077  2.0  0.333333       0.5   \n",
       "18971                 Riß           84       0.001  2.0       0.5  0.333333   \n",
       "28940           enthalten          335    0.519595  0.5       1.0       2.0   \n",
       "95827                  μm         1007    1.562538  2.0       1.0       2.0   \n",
       "96368                 &c.          430    0.715876  2.0       1.0       2.0   \n",
       "98800                 Ami         2429    3.385615  2.0       0.5  0.142857   \n",
       "170533           brillant          749    1.231769  0.5       1.0       2.0   \n",
       "357381               -ant          238    0.319182  0.5       1.0       2.0   \n",
       "441321  beaugenscheinigen          394    0.641496  0.5       1.0       2.0   \n",
       "648921        davonkommen         2466    3.433051  2.0       1.0       2.0   \n",
       "837592     Überreichweite          452    0.761331  0.5       1.0       2.0   \n",
       "\n",
       "        m_count         f3         score  \n",
       "0          10.0   3.162278      34.81392  \n",
       "27         29.0   5.385165   2407.714918  \n",
       "135      1126.0  33.555923  12106.767249  \n",
       "8706        2.0   1.414214      2.997712  \n",
       "9954        1.0   1.000000       2.15276  \n",
       "13086       9.0   3.000000      1.624077  \n",
       "18971       NaN   0.100000      0.000033  \n",
       "28940       1.0   1.000000      0.519595  \n",
       "95827       5.0   2.236068     13.975769  \n",
       "96368       2.0   1.414214      4.049606  \n",
       "98800       2.0   1.414214      0.683998  \n",
       "170533      1.0   1.000000      1.231769  \n",
       "357381      1.0   1.000000      0.319182  \n",
       "441321      1.0   1.000000      0.641496  \n",
       "648921     18.0   4.242641     58.260812  \n",
       "837592      1.0   1.000000      0.761331  "
      ]
     },
     "execution_count": 38,
     "metadata": {},
     "output_type": "execute_result"
    }
   ],
   "source": [
    "spalten = ['page_id','page_part','section_id2','title','lemma','section_len','score_base','f0','f1','f2','m_count','f3','score']\n",
    "pak.sample(wiktionary[spalten])"
   ]
  },
  {
   "cell_type": "code",
   "execution_count": 39,
   "metadata": {
    "execution": {
     "iopub.execute_input": "2023-03-05T16:28:00.199521Z",
     "iopub.status.busy": "2023-03-05T16:28:00.199266Z",
     "iopub.status.idle": "2023-03-05T16:28:02.132325Z",
     "shell.execute_reply": "2023-03-05T16:28:02.130877Z",
     "shell.execute_reply.started": "2023-03-05T16:28:00.199498Z"
    },
    "tags": []
   },
   "outputs": [],
   "source": [
    "# Zwischenwerte löschen\n",
    "wiktionary = pak.drop_cols(wiktionary, ['section_len','score_base','f0','f1','f2','m_count','f3'])"
   ]
  },
  {
   "cell_type": "code",
   "execution_count": 40,
   "metadata": {
    "execution": {
     "iopub.execute_input": "2023-03-05T16:28:02.133879Z",
     "iopub.status.busy": "2023-03-05T16:28:02.133520Z",
     "iopub.status.idle": "2023-03-05T16:28:02.289556Z",
     "shell.execute_reply": "2023-03-05T16:28:02.283254Z",
     "shell.execute_reply.started": "2023-03-05T16:28:02.133843Z"
    },
    "tags": []
   },
   "outputs": [
    {
     "data": {
      "text/html": [
       "<div>\n",
       "<style scoped>\n",
       "    .dataframe tbody tr th:only-of-type {\n",
       "        vertical-align: middle;\n",
       "    }\n",
       "\n",
       "    .dataframe tbody tr th {\n",
       "        vertical-align: top;\n",
       "    }\n",
       "\n",
       "    .dataframe thead th {\n",
       "        text-align: right;\n",
       "    }\n",
       "</style>\n",
       "<table border=\"1\" class=\"dataframe\">\n",
       "  <thead>\n",
       "    <tr style=\"text-align: right;\">\n",
       "      <th></th>\n",
       "      <th>item</th>\n",
       "      <th>item_count</th>\n",
       "      <th>item_percent</th>\n",
       "      <th>graph</th>\n",
       "    </tr>\n",
       "  </thead>\n",
       "  <tbody>\n",
       "    <tr>\n",
       "      <th>0</th>\n",
       "      <td>0.0</td>\n",
       "      <td>727445</td>\n",
       "      <td>86.8</td>\n",
       "      <td>###########################################</td>\n",
       "    </tr>\n",
       "    <tr>\n",
       "      <th>1</th>\n",
       "      <td>50.0</td>\n",
       "      <td>88335</td>\n",
       "      <td>10.5</td>\n",
       "      <td>#####</td>\n",
       "    </tr>\n",
       "    <tr>\n",
       "      <th>2</th>\n",
       "      <td>100.0</td>\n",
       "      <td>12370</td>\n",
       "      <td>1.5</td>\n",
       "      <td></td>\n",
       "    </tr>\n",
       "    <tr>\n",
       "      <th>3</th>\n",
       "      <td>150.0</td>\n",
       "      <td>3912</td>\n",
       "      <td>0.5</td>\n",
       "      <td></td>\n",
       "    </tr>\n",
       "    <tr>\n",
       "      <th>4</th>\n",
       "      <td>200.0</td>\n",
       "      <td>1909</td>\n",
       "      <td>0.2</td>\n",
       "      <td></td>\n",
       "    </tr>\n",
       "    <tr>\n",
       "      <th>5</th>\n",
       "      <td>250.0</td>\n",
       "      <td>1083</td>\n",
       "      <td>0.1</td>\n",
       "      <td></td>\n",
       "    </tr>\n",
       "    <tr>\n",
       "      <th>6</th>\n",
       "      <td>300.0</td>\n",
       "      <td>660</td>\n",
       "      <td>0.1</td>\n",
       "      <td></td>\n",
       "    </tr>\n",
       "    <tr>\n",
       "      <th>7</th>\n",
       "      <td>350.0</td>\n",
       "      <td>430</td>\n",
       "      <td>0.1</td>\n",
       "      <td></td>\n",
       "    </tr>\n",
       "    <tr>\n",
       "      <th>8</th>\n",
       "      <td>400.0</td>\n",
       "      <td>283</td>\n",
       "      <td>0.0</td>\n",
       "      <td></td>\n",
       "    </tr>\n",
       "    <tr>\n",
       "      <th>9</th>\n",
       "      <td>450.0</td>\n",
       "      <td>191</td>\n",
       "      <td>0.0</td>\n",
       "      <td></td>\n",
       "    </tr>\n",
       "  </tbody>\n",
       "</table>\n",
       "</div>"
      ],
      "text/plain": [
       "    item  item_count  item_percent  \\\n",
       "0    0.0      727445          86.8   \n",
       "1   50.0       88335          10.5   \n",
       "2  100.0       12370           1.5   \n",
       "3  150.0        3912           0.5   \n",
       "4  200.0        1909           0.2   \n",
       "5  250.0        1083           0.1   \n",
       "6  300.0         660           0.1   \n",
       "7  350.0         430           0.1   \n",
       "8  400.0         283           0.0   \n",
       "9  450.0         191           0.0   \n",
       "\n",
       "                                         graph  \n",
       "0  ###########################################  \n",
       "1                                        #####  \n",
       "2                                               \n",
       "3                                               \n",
       "4                                               \n",
       "5                                               \n",
       "6                                               \n",
       "7                                               \n",
       "8                                               \n",
       "9                                               "
      ]
     },
     "execution_count": 40,
     "metadata": {},
     "output_type": "execute_result"
    }
   ],
   "source": [
    "# Häufigkeiten score\n",
    "pak.analyse_freqs( (wiktionary.score/50).round(0) * 50 ).head(10)"
   ]
  },
  {
   "cell_type": "code",
   "execution_count": 41,
   "metadata": {
    "execution": {
     "iopub.execute_input": "2023-03-05T16:28:02.303451Z",
     "iopub.status.busy": "2023-03-05T16:28:02.302385Z",
     "iopub.status.idle": "2023-03-05T16:28:05.639318Z",
     "shell.execute_reply": "2023-03-05T16:28:05.638433Z",
     "shell.execute_reply.started": "2023-03-05T16:28:02.303356Z"
    },
    "tags": []
   },
   "outputs": [
    {
     "name": "stdout",
     "output_type": "stream",
     "text": [
      "Exception occurred while processing request: 'NoneType' object is not iterable\n",
      "Traceback (most recent call last):\n",
      "  File \"/home/me/mambaforge/envs/python_06/lib/python3.9/site-packages/dtale/views.py\", line 120, in _handle_exceptions\n",
      "    return func(*args, **kwargs)\n",
      "  File \"/home/me/mambaforge/envs/python_06/lib/python3.9/site-packages/dtale/views.py\", line 2480, in get_data\n",
      "    curr_dtypes = [c[\"name\"] for c in global_state.get_dtypes(data_id)]\n",
      "TypeError: 'NoneType' object is not iterable\n"
     ]
    },
    {
     "name": "stderr",
     "output_type": "stream",
     "text": [
      "2023-03-05 17:28:05,490 - ERROR    - Exception occurred while processing request: 'NoneType' object is not iterable\n",
      "Traceback (most recent call last):\n",
      "  File \"/home/me/mambaforge/envs/python_06/lib/python3.9/site-packages/dtale/views.py\", line 120, in _handle_exceptions\n",
      "    return func(*args, **kwargs)\n",
      "  File \"/home/me/mambaforge/envs/python_06/lib/python3.9/site-packages/dtale/views.py\", line 2480, in get_data\n",
      "    curr_dtypes = [c[\"name\"] for c in global_state.get_dtypes(data_id)]\n",
      "TypeError: 'NoneType' object is not iterable\n"
     ]
    },
    {
     "data": {
      "text/html": [
       "<div>\n",
       "<style scoped>\n",
       "    .dataframe tbody tr th:only-of-type {\n",
       "        vertical-align: middle;\n",
       "    }\n",
       "\n",
       "    .dataframe tbody tr th {\n",
       "        vertical-align: top;\n",
       "    }\n",
       "\n",
       "    .dataframe thead th {\n",
       "        text-align: right;\n",
       "    }\n",
       "</style>\n",
       "<table border=\"1\" class=\"dataframe\">\n",
       "  <thead>\n",
       "    <tr style=\"text-align: right;\">\n",
       "      <th></th>\n",
       "      <th>section_id2</th>\n",
       "      <th>title</th>\n",
       "      <th>lemma</th>\n",
       "      <th>pos</th>\n",
       "      <th>flexion</th>\n",
       "      <th>score</th>\n",
       "    </tr>\n",
       "  </thead>\n",
       "  <tbody>\n",
       "    <tr>\n",
       "      <th>135</th>\n",
       "      <td>Haus</td>\n",
       "      <td>Haus</td>\n",
       "      <td>Haus</td>\n",
       "      <td>{'Substantiv': []}</td>\n",
       "      <td>{'Genus': ['n'], 'Nominativ Singular': ['Haus'], 'Nominativ Plural': ['Häuser'], 'Genitiv Singular': ['Hauses'], 'Genitiv Plural': ['Häuser'], 'Dativ Singular': ['Haus'], 'Dativ Singular*': ['Hause'], 'Dativ Plural': ['Häusern'], 'Akkusativ Singular': ['Haus'], 'Akkusativ Plural': ['Häuser']}</td>\n",
       "      <td>12106.767249</td>\n",
       "    </tr>\n",
       "    <tr>\n",
       "      <th>6315</th>\n",
       "      <td>schwimmen</td>\n",
       "      <td>schwimmen</td>\n",
       "      <td>schwimmen</td>\n",
       "      <td>{'Verb': []}</td>\n",
       "      <td>{'Präsens_ich': ['schwimme'], 'Präsens_du': ['schwimmst'], 'Präsens_er, sie, es': ['schwimmt'], 'Präteritum_ich': ['schwamm'], 'Präteritum_ich*': ['schwomm'], 'Partizip II': ['geschwommen'], 'Konjunktiv II_ich': ['schwämme'], 'Konjunktiv II_ich*': ['schwömme'], 'Imperativ Singular': ['schwimm'], 'Imperativ Plural': ['schwimmt'], 'Hilfsverb': ['sein'], 'Hilfsverb*': ['haben']}</td>\n",
       "      <td>8328.625148</td>\n",
       "    </tr>\n",
       "    <tr>\n",
       "      <th>12146</th>\n",
       "      <td>Schnecke</td>\n",
       "      <td>Schnecke</td>\n",
       "      <td>Schnecke</td>\n",
       "      <td>{'Substantiv': []}</td>\n",
       "      <td>{'Genus': ['f'], 'Nominativ Singular': ['Schnecke'], 'Nominativ Plural': ['Schnecken'], 'Genitiv Singular': ['Schnecke'], 'Genitiv Plural': ['Schnecken'], 'Dativ Singular': ['Schnecke'], 'Dativ Plural': ['Schnecken'], 'Akkusativ Singular': ['Schnecke'], 'Akkusativ Plural': ['Schnecken']}</td>\n",
       "      <td>7218.973809</td>\n",
       "    </tr>\n",
       "    <tr>\n",
       "      <th>862</th>\n",
       "      <td>Katze</td>\n",
       "      <td>Katze</td>\n",
       "      <td>Katze</td>\n",
       "      <td>{'Substantiv': []}</td>\n",
       "      <td>{'Genus': ['f'], 'Nominativ Singular': ['Katze'], 'Nominativ Plural': ['Katzen'], 'Genitiv Singular': ['Katze'], 'Genitiv Plural': ['Katzen'], 'Dativ Singular': ['Katze'], 'Dativ Plural': ['Katzen'], 'Akkusativ Singular': ['Katze'], 'Akkusativ Plural': ['Katzen']}</td>\n",
       "      <td>6405.19632</td>\n",
       "    </tr>\n",
       "    <tr>\n",
       "      <th>128</th>\n",
       "      <td>Wasser</td>\n",
       "      <td>Wasser</td>\n",
       "      <td>Wasser</td>\n",
       "      <td>{'Substantiv': []}</td>\n",
       "      <td>{'Genus': ['n'], 'Nominativ Singular': ['Wasser'], 'Nominativ Plural 1': ['Wasser'], 'Nominativ Plural 2': ['Wässer'], 'Genitiv Singular': ['Wassers'], 'Genitiv Plural 1': ['Wasser'], 'Genitiv Plural 2': ['Wässer'], 'Dativ Singular': ['Wasser'], 'Dativ Plural 1': ['Wassern'], 'Dativ Plural 2': ['Wässern'], 'Akkusativ Singular': ['Wasser'], 'Akkusativ Plural 1': ['Wasser'], 'Akkusativ Plural 2': ['Wässer']}</td>\n",
       "      <td>6229.017</td>\n",
       "    </tr>\n",
       "    <tr>\n",
       "      <th>2735</th>\n",
       "      <td>Papagei</td>\n",
       "      <td>Papagei</td>\n",
       "      <td>Papagei</td>\n",
       "      <td>{'Substantiv': []}</td>\n",
       "      <td>{'Genus': ['m'], 'Nominativ Singular': ['Papagei'], 'Nominativ Plural': ['Papageien'], 'Genitiv Singular': ['Papageien'], 'Genitiv Plural': ['Papageien'], 'Dativ Singular': ['Papageien'], 'Dativ Plural': ['Papageien'], 'Akkusativ Singular': ['Papageien'], 'Akkusativ Plural': ['Papageien']}</td>\n",
       "      <td>5875.737306</td>\n",
       "    </tr>\n",
       "    <tr>\n",
       "      <th>466</th>\n",
       "      <td>Krankenhaus</td>\n",
       "      <td>Krankenhaus</td>\n",
       "      <td>Krankenhaus</td>\n",
       "      <td>{'Substantiv': []}</td>\n",
       "      <td>{'Genus': ['n'], 'Nominativ Singular': ['Krankenhaus'], 'Nominativ Plural': ['Krankenhäuser'], 'Genitiv Singular': ['Krankenhauses'], 'Genitiv Plural': ['Krankenhäuser'], 'Dativ Singular': ['Krankenhaus'], 'Dativ Singular*': ['Krankenhause'], 'Dativ Plural': ['Krankenhäusern'], 'Akkusativ Singular': ['Krankenhaus'], 'Akkusativ Plural': ['Krankenhäuser']}</td>\n",
       "      <td>5780.693006</td>\n",
       "    </tr>\n",
       "    <tr>\n",
       "      <th>6139</th>\n",
       "      <td>Esel</td>\n",
       "      <td>Esel</td>\n",
       "      <td>Esel</td>\n",
       "      <td>{'Substantiv': []}</td>\n",
       "      <td>{'Genus': ['m'], 'Nominativ Singular': ['Esel'], 'Nominativ Plural': ['Esel'], 'Genitiv Singular': ['Esels'], 'Genitiv Plural': ['Esel'], 'Dativ Singular': ['Esel'], 'Dativ Plural': ['Eseln'], 'Akkusativ Singular': ['Esel'], 'Akkusativ Plural': ['Esel']}</td>\n",
       "      <td>4922.37385</td>\n",
       "    </tr>\n",
       "    <tr>\n",
       "      <th>24531</th>\n",
       "      <td>schräg</td>\n",
       "      <td>schräg</td>\n",
       "      <td>schräg</td>\n",
       "      <td>{'Adjektiv': []}</td>\n",
       "      <td>{'Positiv': ['schräg'], 'Komparativ': ['schräger'], 'Superlativ': ['schrägsten']}</td>\n",
       "      <td>4879.18033</td>\n",
       "    </tr>\n",
       "    <tr>\n",
       "      <th>7045</th>\n",
       "      <td>Band</td>\n",
       "      <td>Band</td>\n",
       "      <td>Band</td>\n",
       "      <td>{'Substantiv': []}</td>\n",
       "      <td>{'Genus': ['n'], 'Nominativ Singular': ['Band'], 'Nominativ Plural 1': ['Bänder'], 'Nominativ Plural 2': ['Bande'], 'Genitiv Singular': ['Bandes'], 'Genitiv Singular*': ['Bands'], 'Genitiv Plural 1': ['Bänder'], 'Genitiv Plural 2': ['Bande'], 'Dativ Singular': ['Band'], 'Dativ Singular*': ['Bande'], 'Dativ Plural 1': ['Bändern'], 'Dativ Plural 2': ['Banden'], 'Akkusativ Singular': ['Band'], 'Akkusativ Plural 1': ['Bänder'], 'Akkusativ Plural 2': ['Bande']}</td>\n",
       "      <td>4616.801168</td>\n",
       "    </tr>\n",
       "  </tbody>\n",
       "</table>\n",
       "</div>"
      ],
      "text/plain": [
       "       section_id2        title        lemma                 pos  \\\n",
       "135           Haus         Haus         Haus  {'Substantiv': []}   \n",
       "6315     schwimmen    schwimmen    schwimmen        {'Verb': []}   \n",
       "12146     Schnecke     Schnecke     Schnecke  {'Substantiv': []}   \n",
       "862          Katze        Katze        Katze  {'Substantiv': []}   \n",
       "128         Wasser       Wasser       Wasser  {'Substantiv': []}   \n",
       "2735       Papagei      Papagei      Papagei  {'Substantiv': []}   \n",
       "466    Krankenhaus  Krankenhaus  Krankenhaus  {'Substantiv': []}   \n",
       "6139          Esel         Esel         Esel  {'Substantiv': []}   \n",
       "24531       schräg       schräg       schräg    {'Adjektiv': []}   \n",
       "7045          Band         Band         Band  {'Substantiv': []}   \n",
       "\n",
       "                                                                                                                                                                                                                                                                                                                                                                                                                                                                            flexion  \\\n",
       "135                                                                                                                                                                           {'Genus': ['n'], 'Nominativ Singular': ['Haus'], 'Nominativ Plural': ['Häuser'], 'Genitiv Singular': ['Hauses'], 'Genitiv Plural': ['Häuser'], 'Dativ Singular': ['Haus'], 'Dativ Singular*': ['Hause'], 'Dativ Plural': ['Häusern'], 'Akkusativ Singular': ['Haus'], 'Akkusativ Plural': ['Häuser']}   \n",
       "6315                                                                                     {'Präsens_ich': ['schwimme'], 'Präsens_du': ['schwimmst'], 'Präsens_er, sie, es': ['schwimmt'], 'Präteritum_ich': ['schwamm'], 'Präteritum_ich*': ['schwomm'], 'Partizip II': ['geschwommen'], 'Konjunktiv II_ich': ['schwämme'], 'Konjunktiv II_ich*': ['schwömme'], 'Imperativ Singular': ['schwimm'], 'Imperativ Plural': ['schwimmt'], 'Hilfsverb': ['sein'], 'Hilfsverb*': ['haben']}   \n",
       "12146                                                                                                                                                                              {'Genus': ['f'], 'Nominativ Singular': ['Schnecke'], 'Nominativ Plural': ['Schnecken'], 'Genitiv Singular': ['Schnecke'], 'Genitiv Plural': ['Schnecken'], 'Dativ Singular': ['Schnecke'], 'Dativ Plural': ['Schnecken'], 'Akkusativ Singular': ['Schnecke'], 'Akkusativ Plural': ['Schnecken']}   \n",
       "862                                                                                                                                                                                                        {'Genus': ['f'], 'Nominativ Singular': ['Katze'], 'Nominativ Plural': ['Katzen'], 'Genitiv Singular': ['Katze'], 'Genitiv Plural': ['Katzen'], 'Dativ Singular': ['Katze'], 'Dativ Plural': ['Katzen'], 'Akkusativ Singular': ['Katze'], 'Akkusativ Plural': ['Katzen']}   \n",
       "128                                                       {'Genus': ['n'], 'Nominativ Singular': ['Wasser'], 'Nominativ Plural 1': ['Wasser'], 'Nominativ Plural 2': ['Wässer'], 'Genitiv Singular': ['Wassers'], 'Genitiv Plural 1': ['Wasser'], 'Genitiv Plural 2': ['Wässer'], 'Dativ Singular': ['Wasser'], 'Dativ Plural 1': ['Wassern'], 'Dativ Plural 2': ['Wässern'], 'Akkusativ Singular': ['Wasser'], 'Akkusativ Plural 1': ['Wasser'], 'Akkusativ Plural 2': ['Wässer']}   \n",
       "2735                                                                                                                                                                             {'Genus': ['m'], 'Nominativ Singular': ['Papagei'], 'Nominativ Plural': ['Papageien'], 'Genitiv Singular': ['Papageien'], 'Genitiv Plural': ['Papageien'], 'Dativ Singular': ['Papageien'], 'Dativ Plural': ['Papageien'], 'Akkusativ Singular': ['Papageien'], 'Akkusativ Plural': ['Papageien']}   \n",
       "466                                                                                                            {'Genus': ['n'], 'Nominativ Singular': ['Krankenhaus'], 'Nominativ Plural': ['Krankenhäuser'], 'Genitiv Singular': ['Krankenhauses'], 'Genitiv Plural': ['Krankenhäuser'], 'Dativ Singular': ['Krankenhaus'], 'Dativ Singular*': ['Krankenhause'], 'Dativ Plural': ['Krankenhäusern'], 'Akkusativ Singular': ['Krankenhaus'], 'Akkusativ Plural': ['Krankenhäuser']}   \n",
       "6139                                                                                                                                                                                                                 {'Genus': ['m'], 'Nominativ Singular': ['Esel'], 'Nominativ Plural': ['Esel'], 'Genitiv Singular': ['Esels'], 'Genitiv Plural': ['Esel'], 'Dativ Singular': ['Esel'], 'Dativ Plural': ['Eseln'], 'Akkusativ Singular': ['Esel'], 'Akkusativ Plural': ['Esel']}   \n",
       "24531                                                                                                                                                                                                                                                                                                                                                                                             {'Positiv': ['schräg'], 'Komparativ': ['schräger'], 'Superlativ': ['schrägsten']}   \n",
       "7045   {'Genus': ['n'], 'Nominativ Singular': ['Band'], 'Nominativ Plural 1': ['Bänder'], 'Nominativ Plural 2': ['Bande'], 'Genitiv Singular': ['Bandes'], 'Genitiv Singular*': ['Bands'], 'Genitiv Plural 1': ['Bänder'], 'Genitiv Plural 2': ['Bande'], 'Dativ Singular': ['Band'], 'Dativ Singular*': ['Bande'], 'Dativ Plural 1': ['Bändern'], 'Dativ Plural 2': ['Banden'], 'Akkusativ Singular': ['Band'], 'Akkusativ Plural 1': ['Bänder'], 'Akkusativ Plural 2': ['Bande']}   \n",
       "\n",
       "              score  \n",
       "135    12106.767249  \n",
       "6315    8328.625148  \n",
       "12146   7218.973809  \n",
       "862      6405.19632  \n",
       "128        6229.017  \n",
       "2735    5875.737306  \n",
       "466     5780.693006  \n",
       "6139     4922.37385  \n",
       "24531    4879.18033  \n",
       "7045    4616.801168  "
      ]
     },
     "execution_count": 41,
     "metadata": {},
     "output_type": "execute_result"
    }
   ],
   "source": [
    "# Einträge mit dem höchsten Score\n",
    "a = wiktionary.sort_values('score',ascending=False).head(10)\n",
    "spalten = ['section_id2','title','lemma','pos','flexion','score']\n",
    "a[spalten]"
   ]
  },
  {
   "cell_type": "code",
   "execution_count": 42,
   "metadata": {
    "execution": {
     "iopub.execute_input": "2023-03-05T16:28:05.643538Z",
     "iopub.status.busy": "2023-03-05T16:28:05.643218Z",
     "iopub.status.idle": "2023-03-05T16:28:05.712926Z",
     "shell.execute_reply": "2023-03-05T16:28:05.712159Z",
     "shell.execute_reply.started": "2023-03-05T16:28:05.643509Z"
    }
   },
   "outputs": [],
   "source": [
    "#grid(wiktionary, pak.sample)"
   ]
  },
  {
   "cell_type": "markdown",
   "metadata": {},
   "source": [
    "## Steuertabellen laden"
   ]
  },
  {
   "cell_type": "code",
   "execution_count": 43,
   "metadata": {
    "execution": {
     "iopub.execute_input": "2023-03-05T16:28:05.716960Z",
     "iopub.status.busy": "2023-03-05T16:28:05.716643Z",
     "iopub.status.idle": "2023-03-05T16:28:05.796884Z",
     "shell.execute_reply": "2023-03-05T16:28:05.796170Z",
     "shell.execute_reply.started": "2023-03-05T16:28:05.716933Z"
    }
   },
   "outputs": [
    {
     "name": "stdout",
     "output_type": "stream",
     "text": [
      "<class 'IPython.core.display.Markdown'>\n"
     ]
    },
    {
     "data": {
      "text/markdown": [
       "<span style=\"font-size:larger;\">plan_merkmal_erstellen():</span>\n",
       "\n",
       "* definiert in Steuertabellen/s01_Steuertabellen.py\n",
       "* `merkmal`: Name des Merkmals\n",
       "* `template`: Name des Mediawiki-Templates, das diese Information enthält\n",
       "* `collect`: Extractionsmethode\n",
       "   * L extrahiert nur Links \n",
       "   * T extrahiert komplette Text-Absätze\n",
       "   * Ü extrahiert Übersetzungen\n",
       "   * P extrahiert Template-Parameter (Substring reicht)\n",
       "   * E checkt nur auf Existenz\n",
       "* `plan`:\n",
       "   * 1: die Merkmale, die in wiktionary_merkmal gespeichert werden\n",
       "   * 2: die Merkmale, die in wiktionary_merkmal_text gespeichert werden   \n",
       "   * 3: Reihenfolge und Liste aller Merkmale aus flexion / übersicht <br>\n",
       "        sowie die Merkmale aus named_entities und lexeme_manuell\n",
       "* `sort`: Irgendwas zum Sortieren der Merkmale\n",
       "* `is_lex`: Ist das Merkmal ein Lexem?    "
      ],
      "text/plain": [
       "<IPython.core.display.Markdown object>"
      ]
     },
     "metadata": {},
     "output_type": "display_data"
    }
   ],
   "source": [
    "blab.help(plan_merkmal_erstellen)"
   ]
  },
  {
   "cell_type": "code",
   "execution_count": 44,
   "metadata": {
    "execution": {
     "iopub.execute_input": "2023-03-05T16:28:05.802008Z",
     "iopub.status.busy": "2023-03-05T16:28:05.797868Z",
     "iopub.status.idle": "2023-03-05T16:28:06.365354Z",
     "shell.execute_reply": "2023-03-05T16:28:06.364615Z",
     "shell.execute_reply.started": "2023-03-05T16:28:05.801964Z"
    }
   },
   "outputs": [
    {
     "data": {
      "text/html": [
       "<div>\n",
       "<style scoped>\n",
       "    .dataframe tbody tr th:only-of-type {\n",
       "        vertical-align: middle;\n",
       "    }\n",
       "\n",
       "    .dataframe tbody tr th {\n",
       "        vertical-align: top;\n",
       "    }\n",
       "\n",
       "    .dataframe thead th {\n",
       "        text-align: right;\n",
       "    }\n",
       "</style>\n",
       "<table border=\"1\" class=\"dataframe\">\n",
       "  <thead>\n",
       "    <tr style=\"text-align: right;\">\n",
       "      <th></th>\n",
       "      <th>merkmal</th>\n",
       "      <th>template</th>\n",
       "      <th>collect</th>\n",
       "      <th>plan</th>\n",
       "      <th>sort</th>\n",
       "      <th>is_lex</th>\n",
       "    </tr>\n",
       "  </thead>\n",
       "  <tbody>\n",
       "    <tr>\n",
       "      <th>0</th>\n",
       "      <td>noSteig</td>\n",
       "      <td>kSt.</td>\n",
       "      <td>E</td>\n",
       "      <td>1</td>\n",
       "      <td></td>\n",
       "      <td>False</td>\n",
       "    </tr>\n",
       "    <tr>\n",
       "      <th>12</th>\n",
       "      <td>def</td>\n",
       "      <td>Bedeutungen</td>\n",
       "      <td>L</td>\n",
       "      <td>1</td>\n",
       "      <td></td>\n",
       "      <td>False</td>\n",
       "    </tr>\n",
       "    <tr>\n",
       "      <th>17</th>\n",
       "      <td>klein</td>\n",
       "      <td>Verkleinerungsformen</td>\n",
       "      <td>L</td>\n",
       "      <td>1</td>\n",
       "      <td></td>\n",
       "      <td>True</td>\n",
       "    </tr>\n",
       "    <tr>\n",
       "      <th>102</th>\n",
       "      <td>syllables</td>\n",
       "      <td></td>\n",
       "      <td></td>\n",
       "      <td>3</td>\n",
       "      <td>z1 syllables</td>\n",
       "      <td>False</td>\n",
       "    </tr>\n",
       "  </tbody>\n",
       "</table>\n",
       "</div>"
      ],
      "text/plain": [
       "       merkmal              template collect  plan          sort  is_lex\n",
       "0      noSteig                  kSt.       E     1                 False\n",
       "12         def           Bedeutungen       L     1                 False\n",
       "17       klein  Verkleinerungsformen       L     1                  True\n",
       "102  syllables                                   3  z1 syllables   False"
      ]
     },
     "execution_count": 44,
     "metadata": {},
     "output_type": "execute_result"
    }
   ],
   "source": [
    "# plan_merkmal Steuertabelle\n",
    "try:\n",
    "    del plan_merkmal\n",
    "except:\n",
    "    pass\n",
    "\n",
    "from Steuertabellen.s01_Steuertabellen import *\n",
    "plan_merkmal = plan_merkmal_erstellen()\n",
    "#grid(plan_merkmal)\n",
    "pak.sample(plan_merkmal)"
   ]
  },
  {
   "cell_type": "code",
   "execution_count": 45,
   "metadata": {
    "execution": {
     "iopub.execute_input": "2023-03-05T16:28:06.371811Z",
     "iopub.status.busy": "2023-03-05T16:28:06.371511Z",
     "iopub.status.idle": "2023-03-05T16:28:06.522159Z",
     "shell.execute_reply": "2023-03-05T16:28:06.521224Z",
     "shell.execute_reply.started": "2023-03-05T16:28:06.371788Z"
    }
   },
   "outputs": [
    {
     "data": {
      "text/html": [
       "<div>\n",
       "<style scoped>\n",
       "    .dataframe tbody tr th:only-of-type {\n",
       "        vertical-align: middle;\n",
       "    }\n",
       "\n",
       "    .dataframe tbody tr th {\n",
       "        vertical-align: top;\n",
       "    }\n",
       "\n",
       "    .dataframe thead th {\n",
       "        text-align: right;\n",
       "    }\n",
       "</style>\n",
       "<table border=\"1\" class=\"dataframe\">\n",
       "  <thead>\n",
       "    <tr style=\"text-align: right;\">\n",
       "      <th></th>\n",
       "      <th>quelle</th>\n",
       "      <th>ziel</th>\n",
       "      <th>notiz</th>\n",
       "    </tr>\n",
       "  </thead>\n",
       "  <tbody>\n",
       "    <tr>\n",
       "      <th>0</th>\n",
       "      <td>Konjugierte_Form</td>\n",
       "      <td>LEX_V</td>\n",
       "      <td>Keine Grundform</td>\n",
       "    </tr>\n",
       "    <tr>\n",
       "      <th>76</th>\n",
       "      <td>Präfix</td>\n",
       "      <td>TRUNC</td>\n",
       "      <td>Wortartenlisten</td>\n",
       "    </tr>\n",
       "    <tr>\n",
       "      <th>101</th>\n",
       "      <td>LEX_V LEX_V</td>\n",
       "      <td>LEX_V</td>\n",
       "      <td>Vorrang Durchlauf2</td>\n",
       "    </tr>\n",
       "    <tr>\n",
       "      <th>185</th>\n",
       "      <td>ADJ1 ADJ1</td>\n",
       "      <td>ADJ1</td>\n",
       "      <td>Doppelung1</td>\n",
       "    </tr>\n",
       "    <tr>\n",
       "      <th>212</th>\n",
       "      <td>Vergleichspartikel</td>\n",
       "      <td></td>\n",
       "      <td>löschmich</td>\n",
       "    </tr>\n",
       "  </tbody>\n",
       "</table>\n",
       "</div>"
      ],
      "text/plain": [
       "                 quelle   ziel               notiz\n",
       "0      Konjugierte_Form  LEX_V     Keine Grundform\n",
       "76               Präfix  TRUNC     Wortartenlisten\n",
       "101         LEX_V LEX_V  LEX_V  Vorrang Durchlauf2\n",
       "185           ADJ1 ADJ1   ADJ1          Doppelung1\n",
       "212  Vergleichspartikel                  löschmich"
      ]
     },
     "execution_count": 45,
     "metadata": {},
     "output_type": "execute_result"
    }
   ],
   "source": [
    "# translate_tag: Wortarten >> tags\n",
    "\n",
    "try:\n",
    "    del translate_tag\n",
    "except:\n",
    "    pass\n",
    "\n",
    "from Steuertabellen.s01_Steuertabellen import *\n",
    "#grid(translate_tag)\n",
    "pak.sample(translate_tag)"
   ]
  },
  {
   "cell_type": "code",
   "execution_count": 46,
   "metadata": {
    "execution": {
     "iopub.execute_input": "2023-03-05T16:28:06.527975Z",
     "iopub.status.busy": "2023-03-05T16:28:06.525793Z",
     "iopub.status.idle": "2023-03-05T16:28:06.729923Z",
     "shell.execute_reply": "2023-03-05T16:28:06.729188Z",
     "shell.execute_reply.started": "2023-03-05T16:28:06.527937Z"
    }
   },
   "outputs": [
    {
     "data": {
      "text/html": [
       "<div>\n",
       "<style scoped>\n",
       "    .dataframe tbody tr th:only-of-type {\n",
       "        vertical-align: middle;\n",
       "    }\n",
       "\n",
       "    .dataframe tbody tr th {\n",
       "        vertical-align: top;\n",
       "    }\n",
       "\n",
       "    .dataframe thead th {\n",
       "        text-align: right;\n",
       "    }\n",
       "</style>\n",
       "<table border=\"1\" class=\"dataframe\">\n",
       "  <thead>\n",
       "    <tr style=\"text-align: right;\">\n",
       "      <th></th>\n",
       "      <th>tag</th>\n",
       "      <th>wortart_lang</th>\n",
       "      <th>tagZ</th>\n",
       "      <th>tagZZ</th>\n",
       "      <th>is_mutable</th>\n",
       "      <th>to_lemma</th>\n",
       "    </tr>\n",
       "  </thead>\n",
       "  <tbody>\n",
       "    <tr>\n",
       "      <th>0</th>\n",
       "      <td>AFIX</td>\n",
       "      <td>Präfix</td>\n",
       "      <td>FIX</td>\n",
       "      <td>Z</td>\n",
       "      <td>False</td>\n",
       "      <td>W</td>\n",
       "    </tr>\n",
       "    <tr>\n",
       "      <th>21</th>\n",
       "      <td>VAFIN</td>\n",
       "      <td>Hilfsverb</td>\n",
       "      <td>VER_hilf</td>\n",
       "      <td>V</td>\n",
       "      <td>True</td>\n",
       "      <td>V</td>\n",
       "    </tr>\n",
       "    <tr>\n",
       "      <th>25</th>\n",
       "      <td>PPER</td>\n",
       "      <td>Personalpronomen</td>\n",
       "      <td>PRO</td>\n",
       "      <td>P</td>\n",
       "      <td>True</td>\n",
       "      <td>W</td>\n",
       "    </tr>\n",
       "    <tr>\n",
       "      <th>55</th>\n",
       "      <td>$(</td>\n",
       "      <td>Satzzeichen</td>\n",
       "      <td>SYM</td>\n",
       "      <td>Y</td>\n",
       "      <td>False</td>\n",
       "      <td>W</td>\n",
       "    </tr>\n",
       "    <tr>\n",
       "      <th>63</th>\n",
       "      <td>TODO</td>\n",
       "      <td>(todo!)</td>\n",
       "      <td>X_todo</td>\n",
       "      <td>X</td>\n",
       "      <td>False</td>\n",
       "      <td>W</td>\n",
       "    </tr>\n",
       "  </tbody>\n",
       "</table>\n",
       "</div>"
      ],
      "text/plain": [
       "      tag      wortart_lang      tagZ tagZZ is_mutable to_lemma\n",
       "0    AFIX            Präfix       FIX     Z      False        W\n",
       "21  VAFIN         Hilfsverb  VER_hilf     V       True        V\n",
       "25   PPER  Personalpronomen       PRO     P       True        W\n",
       "55     $(       Satzzeichen       SYM     Y      False        W\n",
       "63   TODO           (todo!)    X_todo     X      False        W"
      ]
     },
     "execution_count": 46,
     "metadata": {},
     "output_type": "execute_result"
    }
   ],
   "source": [
    "# translate_tagZ: tag >> tagZ und tagZZ\n",
    "\n",
    "try:\n",
    "    del translate_tagZ\n",
    "except:\n",
    "    pass\n",
    "\n",
    "from Steuertabellen.s01_Steuertabellen import *\n",
    "#grid(translate_tagZ)\n",
    "pak.sample(translate_tagZ)"
   ]
  },
  {
   "cell_type": "code",
   "execution_count": 47,
   "metadata": {
    "execution": {
     "iopub.execute_input": "2023-03-05T16:28:06.738362Z",
     "iopub.status.busy": "2023-03-05T16:28:06.732950Z",
     "iopub.status.idle": "2023-03-05T16:28:07.414007Z",
     "shell.execute_reply": "2023-03-05T16:28:07.413199Z",
     "shell.execute_reply.started": "2023-03-05T16:28:06.738322Z"
    }
   },
   "outputs": [
    {
     "name": "stdout",
     "output_type": "stream",
     "text": [
      "185 rows loaded\n",
      "Delete 89 rows from 185\n"
     ]
    },
    {
     "data": {
      "text/html": [
       "<div>\n",
       "<style scoped>\n",
       "    .dataframe tbody tr th:only-of-type {\n",
       "        vertical-align: middle;\n",
       "    }\n",
       "\n",
       "    .dataframe tbody tr th {\n",
       "        vertical-align: top;\n",
       "    }\n",
       "\n",
       "    .dataframe thead th {\n",
       "        text-align: right;\n",
       "    }\n",
       "</style>\n",
       "<table border=\"1\" class=\"dataframe\">\n",
       "  <thead>\n",
       "    <tr style=\"text-align: right;\">\n",
       "      <th></th>\n",
       "      <th>level</th>\n",
       "      <th>lemma</th>\n",
       "      <th>lemma_tag_soll</th>\n",
       "      <th>lemma_member_soll</th>\n",
       "      <th>check_tag</th>\n",
       "    </tr>\n",
       "  </thead>\n",
       "  <tbody>\n",
       "    <tr>\n",
       "      <th>0</th>\n",
       "      <td>1</td>\n",
       "      <td>…</td>\n",
       "      <td>$(</td>\n",
       "      <td></td>\n",
       "      <td></td>\n",
       "    </tr>\n",
       "    <tr>\n",
       "      <th>1</th>\n",
       "      <td>1</td>\n",
       "      <td>Ackermann</td>\n",
       "      <td>NE</td>\n",
       "      <td>Person_nachname</td>\n",
       "      <td></td>\n",
       "    </tr>\n",
       "    <tr>\n",
       "      <th>4</th>\n",
       "      <td>1</td>\n",
       "      <td>angucken</td>\n",
       "      <td>VVFIN</td>\n",
       "      <td>manuell</td>\n",
       "      <td></td>\n",
       "    </tr>\n",
       "    <tr>\n",
       "      <th>16</th>\n",
       "      <td>1</td>\n",
       "      <td>Bussi</td>\n",
       "      <td>NN</td>\n",
       "      <td></td>\n",
       "      <td></td>\n",
       "    </tr>\n",
       "    <tr>\n",
       "      <th>82</th>\n",
       "      <td>1</td>\n",
       "      <td>zurecht</td>\n",
       "      <td>PTKVZ</td>\n",
       "      <td></td>\n",
       "      <td></td>\n",
       "    </tr>\n",
       "  </tbody>\n",
       "</table>\n",
       "</div>"
      ],
      "text/plain": [
       "    level      lemma lemma_tag_soll lemma_member_soll check_tag\n",
       "0       1          …             $(                            \n",
       "1       1  Ackermann             NE   Person_nachname          \n",
       "4       1   angucken          VVFIN           manuell          \n",
       "16      1      Bussi             NN                            \n",
       "82      1    zurecht          PTKVZ                            "
      ]
     },
     "execution_count": 47,
     "metadata": {},
     "output_type": "execute_result"
    }
   ],
   "source": [
    "# lex_test, lemma_test\n",
    "lex_test, lemma_test = lade_lex_text( lex_test_filename, level=1)\n",
    "#grid(lemma_test)\n",
    "pak.sample(lemma_test)"
   ]
  },
  {
   "cell_type": "markdown",
   "metadata": {},
   "source": [
    "## Löschliste\n",
    "* Excel-Datei aufbereiten\n",
    "* wiktionary belöschen\n",
    "* wiktionary_merkmal belöschen\n",
    "* Falls löschliste und lexeme_manuell in Konflikt stehen, siegt lexeme_manuell. Es wird erst gelöscht und dann manuell ergänzt."
   ]
  },
  {
   "cell_type": "code",
   "execution_count": 48,
   "metadata": {
    "execution": {
     "iopub.execute_input": "2023-03-05T16:28:07.422733Z",
     "iopub.status.busy": "2023-03-05T16:28:07.422284Z",
     "iopub.status.idle": "2023-03-05T16:28:07.652349Z",
     "shell.execute_reply": "2023-03-05T16:28:07.651545Z",
     "shell.execute_reply.started": "2023-03-05T16:28:07.422692Z"
    },
    "tags": []
   },
   "outputs": [
    {
     "name": "stdout",
     "output_type": "stream",
     "text": [
      "607 rows loaded\n"
     ]
    }
   ],
   "source": [
    "# Laden\n",
    "löschliste = pak.load_excel( löschliste_filename )"
   ]
  },
  {
   "cell_type": "code",
   "execution_count": 49,
   "metadata": {
    "execution": {
     "iopub.execute_input": "2023-03-05T16:28:07.657967Z",
     "iopub.status.busy": "2023-03-05T16:28:07.655567Z",
     "iopub.status.idle": "2023-03-05T16:28:07.738090Z",
     "shell.execute_reply": "2023-03-05T16:28:07.737177Z",
     "shell.execute_reply.started": "2023-03-05T16:28:07.657929Z"
    },
    "tags": []
   },
   "outputs": [
    {
     "name": "stdout",
     "output_type": "stream",
     "text": [
      "check_mask:  0 rows\n",
      "\u001b[1m\u001b[7m\u001b[32mNo rows, mask filters them all away\u001b[0m\n"
     ]
    }
   ],
   "source": [
    "# Format prüfen\n",
    "löschliste['check'] = löschliste.isnull().sum(axis=1)\n",
    "mask = löschliste.check != 3\n",
    "error = check_mask(löschliste,mask,0, stop=False)\n",
    "grid(löschliste,mask, color='green')"
   ]
  },
  {
   "cell_type": "code",
   "execution_count": 50,
   "metadata": {
    "execution": {
     "iopub.execute_input": "2023-03-05T16:28:07.741929Z",
     "iopub.status.busy": "2023-03-05T16:28:07.741604Z",
     "iopub.status.idle": "2023-03-05T16:28:07.806312Z",
     "shell.execute_reply": "2023-03-05T16:28:07.805291Z",
     "shell.execute_reply.started": "2023-03-05T16:28:07.741898Z"
    },
    "tags": []
   },
   "outputs": [],
   "source": [
    "löschliste = pak.drop_cols(löschliste,'check')\n",
    "bpy.raise_if(error)"
   ]
  },
  {
   "cell_type": "code",
   "execution_count": 51,
   "metadata": {
    "execution": {
     "iopub.execute_input": "2023-03-05T16:28:07.811110Z",
     "iopub.status.busy": "2023-03-05T16:28:07.810167Z",
     "iopub.status.idle": "2023-03-05T16:28:07.895029Z",
     "shell.execute_reply": "2023-03-05T16:28:07.894208Z",
     "shell.execute_reply.started": "2023-03-05T16:28:07.811073Z"
    }
   },
   "outputs": [],
   "source": [
    "# Einzelne löschlisten\n",
    "\n",
    "mask = löschliste.section_id2.notnull()\n",
    "löschliste_section_id2 = list(löschliste[mask].drop_duplicates().section_id2)\n",
    "\n",
    "mask = löschliste.lemma.notnull()\n",
    "löschliste_lemma = list(löschliste[mask].drop_duplicates().lemma)\n",
    "\n",
    "mask = löschliste.lex.notnull()\n",
    "löschliste_lex = list(löschliste[mask].drop_duplicates().lex)\n",
    "löschliste_lex += löschliste_lemma\n",
    "\n",
    "mask = löschliste.data.notnull()\n",
    "löschliste_data = list(löschliste[mask].drop_duplicates().data)"
   ]
  },
  {
   "cell_type": "code",
   "execution_count": 52,
   "metadata": {
    "execution": {
     "iopub.execute_input": "2023-03-05T16:28:07.898767Z",
     "iopub.status.busy": "2023-03-05T16:28:07.898499Z",
     "iopub.status.idle": "2023-03-05T16:28:07.979216Z",
     "shell.execute_reply": "2023-03-05T16:28:07.978526Z",
     "shell.execute_reply.started": "2023-03-05T16:28:07.898745Z"
    },
    "tags": []
   },
   "outputs": [
    {
     "data": {
      "text/html": [
       "<div>\n",
       "<style scoped>\n",
       "    .dataframe tbody tr th:only-of-type {\n",
       "        vertical-align: middle;\n",
       "    }\n",
       "\n",
       "    .dataframe tbody tr th {\n",
       "        vertical-align: top;\n",
       "    }\n",
       "\n",
       "    .dataframe thead th {\n",
       "        text-align: right;\n",
       "    }\n",
       "</style>\n",
       "<table border=\"1\" class=\"dataframe\">\n",
       "  <thead>\n",
       "    <tr style=\"text-align: right;\">\n",
       "      <th></th>\n",
       "      <th>lex</th>\n",
       "      <th>lemma</th>\n",
       "      <th>section_id2</th>\n",
       "      <th>data</th>\n",
       "    </tr>\n",
       "  </thead>\n",
       "  <tbody>\n",
       "    <tr>\n",
       "      <th>0</th>\n",
       "      <td>g'rad</td>\n",
       "      <td>&lt;NA&gt;</td>\n",
       "      <td>&lt;NA&gt;</td>\n",
       "      <td>&lt;NA&gt;</td>\n",
       "    </tr>\n",
       "    <tr>\n",
       "      <th>1</th>\n",
       "      <td>hapax legomenon</td>\n",
       "      <td>&lt;NA&gt;</td>\n",
       "      <td>&lt;NA&gt;</td>\n",
       "      <td>&lt;NA&gt;</td>\n",
       "    </tr>\n",
       "    <tr>\n",
       "      <th>2</th>\n",
       "      <td>Hapaxlegomenon</td>\n",
       "      <td>&lt;NA&gt;</td>\n",
       "      <td>&lt;NA&gt;</td>\n",
       "      <td>&lt;NA&gt;</td>\n",
       "    </tr>\n",
       "    <tr>\n",
       "      <th>3</th>\n",
       "      <td>Jacob Ruff</td>\n",
       "      <td>&lt;NA&gt;</td>\n",
       "      <td>&lt;NA&gt;</td>\n",
       "      <td>&lt;NA&gt;</td>\n",
       "    </tr>\n",
       "    <tr>\n",
       "      <th>4</th>\n",
       "      <td>SARS CoV 2 AMVV</td>\n",
       "      <td>&lt;NA&gt;</td>\n",
       "      <td>&lt;NA&gt;</td>\n",
       "      <td>&lt;NA&gt;</td>\n",
       "    </tr>\n",
       "    <tr>\n",
       "      <th>...</th>\n",
       "      <td>...</td>\n",
       "      <td>...</td>\n",
       "      <td>...</td>\n",
       "      <td>...</td>\n",
       "    </tr>\n",
       "    <tr>\n",
       "      <th>602</th>\n",
       "      <td>&lt;NA&gt;</td>\n",
       "      <td>&lt;NA&gt;</td>\n",
       "      <td>&lt;NA&gt;</td>\n",
       "      <td>endbetonte Form</td>\n",
       "    </tr>\n",
       "    <tr>\n",
       "      <th>603</th>\n",
       "      <td>&lt;NA&gt;</td>\n",
       "      <td>&lt;NA&gt;</td>\n",
       "      <td>&lt;NA&gt;</td>\n",
       "      <td>Laut Online-Duden kann es auch ein weiblicher (Berg-)Steiger sein.</td>\n",
       "    </tr>\n",
       "    <tr>\n",
       "      <th>604</th>\n",
       "      <td>&lt;NA&gt;</td>\n",
       "      <td>&lt;NA&gt;</td>\n",
       "      <td>&lt;NA&gt;</td>\n",
       "      <td>Plural der maskulinen Form</td>\n",
       "    </tr>\n",
       "    <tr>\n",
       "      <th>605</th>\n",
       "      <td>&lt;NA&gt;</td>\n",
       "      <td>&lt;NA&gt;</td>\n",
       "      <td>&lt;NA&gt;</td>\n",
       "      <td>homm</td>\n",
       "    </tr>\n",
       "    <tr>\n",
       "      <th>606</th>\n",
       "      <td>&lt;NA&gt;</td>\n",
       "      <td>&lt;NA&gt;</td>\n",
       "      <td>&lt;NA&gt;</td>\n",
       "      <td>Alter,</td>\n",
       "    </tr>\n",
       "  </tbody>\n",
       "</table>\n",
       "<p>607 rows × 4 columns</p>\n",
       "</div>"
      ],
      "text/plain": [
       "                 lex lemma section_id2  \\\n",
       "0              g'rad  <NA>        <NA>   \n",
       "1    hapax legomenon  <NA>        <NA>   \n",
       "2     Hapaxlegomenon  <NA>        <NA>   \n",
       "3         Jacob Ruff  <NA>        <NA>   \n",
       "4    SARS CoV 2 AMVV  <NA>        <NA>   \n",
       "..               ...   ...         ...   \n",
       "602             <NA>  <NA>        <NA>   \n",
       "603             <NA>  <NA>        <NA>   \n",
       "604             <NA>  <NA>        <NA>   \n",
       "605             <NA>  <NA>        <NA>   \n",
       "606             <NA>  <NA>        <NA>   \n",
       "\n",
       "                                                                   data  \n",
       "0                                                                  <NA>  \n",
       "1                                                                  <NA>  \n",
       "2                                                                  <NA>  \n",
       "3                                                                  <NA>  \n",
       "4                                                                  <NA>  \n",
       "..                                                                  ...  \n",
       "602                                                     endbetonte Form  \n",
       "603  Laut Online-Duden kann es auch ein weiblicher (Berg-)Steiger sein.  \n",
       "604                                          Plural der maskulinen Form  \n",
       "605                                                                homm  \n",
       "606                                                              Alter,  \n",
       "\n",
       "[607 rows x 4 columns]"
      ]
     },
     "execution_count": 52,
     "metadata": {},
     "output_type": "execute_result"
    }
   ],
   "source": [
    "löschliste"
   ]
  },
  {
   "cell_type": "code",
   "execution_count": 53,
   "metadata": {
    "execution": {
     "iopub.execute_input": "2023-03-05T16:28:07.983957Z",
     "iopub.status.busy": "2023-03-05T16:28:07.980159Z",
     "iopub.status.idle": "2023-03-05T16:28:08.501501Z",
     "shell.execute_reply": "2023-03-05T16:28:08.500759Z",
     "shell.execute_reply.started": "2023-03-05T16:28:07.983919Z"
    }
   },
   "outputs": [
    {
     "name": "stdout",
     "output_type": "stream",
     "text": [
      "Exception occurred while processing request: 'NoneType' object is not iterable\n",
      "Traceback (most recent call last):\n",
      "  File \"/home/me/mambaforge/envs/python_06/lib/python3.9/site-packages/dtale/views.py\", line 120, in _handle_exceptions\n",
      "    return func(*args, **kwargs)\n",
      "  File \"/home/me/mambaforge/envs/python_06/lib/python3.9/site-packages/dtale/views.py\", line 2480, in get_data\n",
      "    curr_dtypes = [c[\"name\"] for c in global_state.get_dtypes(data_id)]\n",
      "TypeError: 'NoneType' object is not iterable\n"
     ]
    },
    {
     "name": "stderr",
     "output_type": "stream",
     "text": [
      "2023-03-05 17:28:08,381 - ERROR    - Exception occurred while processing request: 'NoneType' object is not iterable\n",
      "Traceback (most recent call last):\n",
      "  File \"/home/me/mambaforge/envs/python_06/lib/python3.9/site-packages/dtale/views.py\", line 120, in _handle_exceptions\n",
      "    return func(*args, **kwargs)\n",
      "  File \"/home/me/mambaforge/envs/python_06/lib/python3.9/site-packages/dtale/views.py\", line 2480, in get_data\n",
      "    curr_dtypes = [c[\"name\"] for c in global_state.get_dtypes(data_id)]\n",
      "TypeError: 'NoneType' object is not iterable\n"
     ]
    }
   ],
   "source": [
    "# löschliste_lemma nach löschliste_section_id2 übertragen\n",
    "mask1 =  wiktionary.title.isin(löschliste_lemma)   &   (wiktionary.title == wiktionary.lemma)\n",
    "mask2 = ~wiktionary.section_id2.isin(löschliste_section_id2)\n",
    "mask = mask1  &  mask2\n",
    "#wiktionary[mask]\n",
    "löschliste_section_id2 += list(wiktionary[mask].section_id2)"
   ]
  },
  {
   "cell_type": "code",
   "execution_count": 54,
   "metadata": {
    "execution": {
     "iopub.execute_input": "2023-03-05T16:28:08.507280Z",
     "iopub.status.busy": "2023-03-05T16:28:08.505675Z",
     "iopub.status.idle": "2023-03-05T16:28:09.705883Z",
     "shell.execute_reply": "2023-03-05T16:28:09.705046Z",
     "shell.execute_reply.started": "2023-03-05T16:28:08.507243Z"
    }
   },
   "outputs": [
    {
     "name": "stdout",
     "output_type": "stream",
     "text": [
      "Move 504 rows from 837593\n"
     ]
    }
   ],
   "source": [
    "# wiktionary belöschen nach section_id2\n",
    "mask = wiktionary.section_id2.isin(löschliste_section_id2)   \n",
    "wiktionary, wiktionary_trash = pak.move_rows( df_from=wiktionary, df_to=wiktionary_trash, mask=mask, msg='löschliste_section_id2' )       # Löschen"
   ]
  },
  {
   "cell_type": "code",
   "execution_count": 55,
   "metadata": {
    "execution": {
     "iopub.execute_input": "2023-03-05T16:28:09.707105Z",
     "iopub.status.busy": "2023-03-05T16:28:09.706817Z",
     "iopub.status.idle": "2023-03-05T16:28:10.868057Z",
     "shell.execute_reply": "2023-03-05T16:28:10.867305Z",
     "shell.execute_reply.started": "2023-03-05T16:28:09.707077Z"
    }
   },
   "outputs": [
    {
     "name": "stdout",
     "output_type": "stream",
     "text": [
      "Move 51 rows from 837089\n",
      "Exception occurred while processing request: 'NoneType' object is not iterable\n",
      "Traceback (most recent call last):\n",
      "  File \"/home/me/mambaforge/envs/python_06/lib/python3.9/site-packages/dtale/views.py\", line 120, in _handle_exceptions\n",
      "    return func(*args, **kwargs)\n",
      "  File \"/home/me/mambaforge/envs/python_06/lib/python3.9/site-packages/dtale/views.py\", line 2480, in get_data\n",
      "    curr_dtypes = [c[\"name\"] for c in global_state.get_dtypes(data_id)]\n",
      "TypeError: 'NoneType' object is not iterable\n"
     ]
    },
    {
     "name": "stderr",
     "output_type": "stream",
     "text": [
      "2023-03-05 17:28:10,306 - ERROR    - Exception occurred while processing request: 'NoneType' object is not iterable\n",
      "Traceback (most recent call last):\n",
      "  File \"/home/me/mambaforge/envs/python_06/lib/python3.9/site-packages/dtale/views.py\", line 120, in _handle_exceptions\n",
      "    return func(*args, **kwargs)\n",
      "  File \"/home/me/mambaforge/envs/python_06/lib/python3.9/site-packages/dtale/views.py\", line 2480, in get_data\n",
      "    curr_dtypes = [c[\"name\"] for c in global_state.get_dtypes(data_id)]\n",
      "TypeError: 'NoneType' object is not iterable\n"
     ]
    }
   ],
   "source": [
    "# wiktionary belöschen nach lex\n",
    "mask = wiktionary.title.isin(löschliste_lex)   \n",
    "wiktionary, wiktionary_trash = pak.move_rows( df_from=wiktionary, df_to=wiktionary_trash, mask=mask, msg='löschliste_lex' )       # Löschen"
   ]
  },
  {
   "cell_type": "code",
   "execution_count": 56,
   "metadata": {
    "execution": {
     "iopub.execute_input": "2023-03-05T16:28:10.869498Z",
     "iopub.status.busy": "2023-03-05T16:28:10.869003Z",
     "iopub.status.idle": "2023-03-05T16:28:13.105243Z",
     "shell.execute_reply": "2023-03-05T16:28:13.104284Z",
     "shell.execute_reply.started": "2023-03-05T16:28:10.869466Z"
    }
   },
   "outputs": [
    {
     "name": "stdout",
     "output_type": "stream",
     "text": [
      "Move 11008 rows from 3268495\n",
      "13 rows out of 11008\n"
     ]
    },
    {
     "data": {
      "text/html": [
       "<div>\n",
       "<style scoped>\n",
       "    .dataframe tbody tr th:only-of-type {\n",
       "        vertical-align: middle;\n",
       "    }\n",
       "\n",
       "    .dataframe tbody tr th {\n",
       "        vertical-align: top;\n",
       "    }\n",
       "\n",
       "    .dataframe thead th {\n",
       "        text-align: right;\n",
       "    }\n",
       "</style>\n",
       "<table border=\"1\" class=\"dataframe\">\n",
       "  <thead>\n",
       "    <tr style=\"text-align: right;\">\n",
       "      <th></th>\n",
       "      <th>section_id2</th>\n",
       "      <th>merkmal</th>\n",
       "      <th>node_debug</th>\n",
       "      <th>node_kontext</th>\n",
       "      <th>data</th>\n",
       "      <th>num</th>\n",
       "      <th>meta</th>\n",
       "      <th>msg</th>\n",
       "    </tr>\n",
       "  </thead>\n",
       "  <tbody>\n",
       "    <tr>\n",
       "      <th>446</th>\n",
       "      <td>April_1</td>\n",
       "      <td>istName</td>\n",
       "      <td>&lt;NA&gt;</td>\n",
       "      <td>&lt;NA&gt;</td>\n",
       "      <td>exists</td>\n",
       "      <td></td>\n",
       "      <td>&lt;NA&gt;</td>\n",
       "      <td>löschliste_section_id2</td>\n",
       "    </tr>\n",
       "    <tr>\n",
       "      <th>5236</th>\n",
       "      <td>Mutter_2</td>\n",
       "      <td>übersicht</td>\n",
       "      <td>Deutsch Substantiv Übersicht</td>\n",
       "      <td>Nominativ Plural</td>\n",
       "      <td>—</td>\n",
       "      <td></td>\n",
       "      <td>&lt;NA&gt;</td>\n",
       "      <td>löschliste_section_id2</td>\n",
       "    </tr>\n",
       "    <tr>\n",
       "      <th>5962</th>\n",
       "      <td>Boot_1</td>\n",
       "      <td>herkunft</td>\n",
       "      <td></td>\n",
       "      <td>Ü</td>\n",
       "      <td>boot</td>\n",
       "      <td></td>\n",
       "      <td></td>\n",
       "      <td>löschliste_section_id2</td>\n",
       "    </tr>\n",
       "    <tr>\n",
       "      <th>81347</th>\n",
       "      <td>spulgen</td>\n",
       "      <td>übersicht</td>\n",
       "      <td>Deutsch Verb Übersicht</td>\n",
       "      <td>Präteritum_ich</td>\n",
       "      <td></td>\n",
       "      <td></td>\n",
       "      <td>&lt;NA&gt;</td>\n",
       "      <td>löschliste_section_id2</td>\n",
       "    </tr>\n",
       "    <tr>\n",
       "      <th>344673</th>\n",
       "      <td>ABl.EG</td>\n",
       "      <td>def</td>\n",
       "      <td></td>\n",
       "      <td></td>\n",
       "      <td>Amtsblatt der Europäischen Gemeinschaft</td>\n",
       "      <td>1</td>\n",
       "      <td></td>\n",
       "      <td>löschliste_section_id2</td>\n",
       "    </tr>\n",
       "    <tr>\n",
       "      <th>479758</th>\n",
       "      <td>daselbst</td>\n",
       "      <td>abk</td>\n",
       "      <td></td>\n",
       "      <td></td>\n",
       "      <td>das</td>\n",
       "      <td>1</td>\n",
       "      <td></td>\n",
       "      <td>löschliste_section_id2</td>\n",
       "    </tr>\n",
       "    <tr>\n",
       "      <th>592682</th>\n",
       "      <td>festkehren</td>\n",
       "      <td>übersicht</td>\n",
       "      <td>Deutsch Verb Übersicht</td>\n",
       "      <td>Präsens_ich</td>\n",
       "      <td>festkehre</td>\n",
       "      <td></td>\n",
       "      <td>&lt;NA&gt;</td>\n",
       "      <td>löschliste_section_id2</td>\n",
       "    </tr>\n",
       "    <tr>\n",
       "      <th>670864</th>\n",
       "      <td>γ-Aminobuttersäure</td>\n",
       "      <td>übersicht</td>\n",
       "      <td>Deutsch Substantiv Übersicht</td>\n",
       "      <td>Genus</td>\n",
       "      <td>f</td>\n",
       "      <td></td>\n",
       "      <td>&lt;NA&gt;</td>\n",
       "      <td>löschliste_section_id2</td>\n",
       "    </tr>\n",
       "    <tr>\n",
       "      <th>737003</th>\n",
       "      <td>fettarme_Milch</td>\n",
       "      <td>übersicht</td>\n",
       "      <td>Deutsch adjektivisch Übersicht</td>\n",
       "      <td>Nominativ Plural stark</td>\n",
       "      <td>——</td>\n",
       "      <td></td>\n",
       "      <td>&lt;NA&gt;</td>\n",
       "      <td>löschliste_section_id2</td>\n",
       "    </tr>\n",
       "    <tr>\n",
       "      <th>1233898</th>\n",
       "      <td>geheien</td>\n",
       "      <td>def</td>\n",
       "      <td></td>\n",
       "      <td></td>\n",
       "      <td>werfen</td>\n",
       "      <td>5</td>\n",
       "      <td>alemannisch</td>\n",
       "      <td>löschliste_section_id2</td>\n",
       "    </tr>\n",
       "    <tr>\n",
       "      <th>4856329</th>\n",
       "      <td>geder</td>\n",
       "      <td>übersicht</td>\n",
       "      <td>Pronomina-Tabelle</td>\n",
       "      <td>Nominativ Singular m</td>\n",
       "      <td>geder</td>\n",
       "      <td></td>\n",
       "      <td>&lt;NA&gt;</td>\n",
       "      <td>löschliste_section_id2</td>\n",
       "    </tr>\n",
       "    <tr>\n",
       "      <th>4975798</th>\n",
       "      <td>inzendieren</td>\n",
       "      <td>def</td>\n",
       "      <td></td>\n",
       "      <td></td>\n",
       "      <td>erregen</td>\n",
       "      <td>2</td>\n",
       "      <td>übertragen</td>\n",
       "      <td>löschliste_section_id2</td>\n",
       "    </tr>\n",
       "    <tr>\n",
       "      <th>5110276</th>\n",
       "      <td>Norddeutscher_Postbezirk</td>\n",
       "      <td>up</td>\n",
       "      <td></td>\n",
       "      <td></td>\n",
       "      <td>Post</td>\n",
       "      <td>1</td>\n",
       "      <td></td>\n",
       "      <td>löschliste_section_id2</td>\n",
       "    </tr>\n",
       "  </tbody>\n",
       "</table>\n",
       "</div>"
      ],
      "text/plain": [
       "                      section_id2    merkmal                       node_debug  \\\n",
       "446                       April_1    istName                             <NA>   \n",
       "5236                     Mutter_2  übersicht    Deutsch Substantiv Übersicht\n",
       "   \n",
       "5962                       Boot_1   herkunft                                    \n",
       "81347                     spulgen  übersicht          Deutsch Verb Übersicht\n",
       "   \n",
       "344673                     ABl.EG        def                                    \n",
       "479758                   daselbst        abk                                    \n",
       "592682                 festkehren  übersicht          Deutsch Verb Übersicht\n",
       "   \n",
       "670864         γ-Aminobuttersäure  übersicht    Deutsch Substantiv Übersicht\n",
       "   \n",
       "737003             fettarme_Milch  übersicht  Deutsch adjektivisch Übersicht\n",
       "   \n",
       "1233898                   geheien        def                                    \n",
       "4856329                     geder  übersicht               Pronomina-Tabelle\n",
       "   \n",
       "4975798               inzendieren        def                                    \n",
       "5110276  Norddeutscher_Postbezirk         up                                    \n",
       "\n",
       "                   node_kontext                                     data num  \\\n",
       "446                        <NA>                                   exists       \n",
       "5236           Nominativ Plural                                        —       \n",
       "5962                          Ü                                     boot       \n",
       "81347            Präteritum_ich                                                \n",
       "344673                           Amtsblatt der Europäischen Gemeinschaft   1   \n",
       "479758                                                               das   1   \n",
       "592682              Präsens_ich                                festkehre       \n",
       "670864                    Genus                                        f       \n",
       "737003   Nominativ Plural stark                                       ——       \n",
       "1233898                                                           werfen   5   \n",
       "4856329    Nominativ Singular m                                    geder       \n",
       "4975798                                                          erregen   2   \n",
       "5110276                                                             Post   1   \n",
       "\n",
       "                meta                     msg  \n",
       "446             <NA>  löschliste_section_id2  \n",
       "5236            <NA>  löschliste_section_id2  \n",
       "5962                  löschliste_section_id2  \n",
       "81347           <NA>  löschliste_section_id2  \n",
       "344673                löschliste_section_id2  \n",
       "479758                löschliste_section_id2  \n",
       "592682          <NA>  löschliste_section_id2  \n",
       "670864          <NA>  löschliste_section_id2  \n",
       "737003          <NA>  löschliste_section_id2  \n",
       "1233898  alemannisch  löschliste_section_id2  \n",
       "4856329         <NA>  löschliste_section_id2  \n",
       "4975798   übertragen  löschliste_section_id2  \n",
       "5110276               löschliste_section_id2  "
      ]
     },
     "execution_count": 56,
     "metadata": {},
     "output_type": "execute_result"
    }
   ],
   "source": [
    "# wiktionary_merkmal belöschen nach section_id2\n",
    "mask = wiktionary_merkmal.section_id2.isin(löschliste_section_id2) \n",
    "wiktionary_merkmal, wiktionary_merkmal_trash = pak.move_rows(df_from=wiktionary_merkmal, df_to=wiktionary_merkmal_trash, mask=mask, msg='löschliste_section_id2')\n",
    "\n",
    "mask = wiktionary_merkmal_trash.msg == 'löschliste_section_id2'\n",
    "grid(wiktionary_merkmal_trash[mask],pak.sample)"
   ]
  },
  {
   "cell_type": "code",
   "execution_count": 57,
   "metadata": {
    "execution": {
     "iopub.execute_input": "2023-03-05T16:28:13.109230Z",
     "iopub.status.busy": "2023-03-05T16:28:13.108846Z",
     "iopub.status.idle": "2023-03-05T16:28:15.076124Z",
     "shell.execute_reply": "2023-03-05T16:28:15.075323Z",
     "shell.execute_reply.started": "2023-03-05T16:28:13.109207Z"
    }
   },
   "outputs": [
    {
     "name": "stdout",
     "output_type": "stream",
     "text": [
      "Move 2882 rows from 3257487\n",
      "13 rows out of 2882\n"
     ]
    },
    {
     "data": {
      "text/html": [
       "<div>\n",
       "<style scoped>\n",
       "    .dataframe tbody tr th:only-of-type {\n",
       "        vertical-align: middle;\n",
       "    }\n",
       "\n",
       "    .dataframe tbody tr th {\n",
       "        vertical-align: top;\n",
       "    }\n",
       "\n",
       "    .dataframe thead th {\n",
       "        text-align: right;\n",
       "    }\n",
       "</style>\n",
       "<table border=\"1\" class=\"dataframe\">\n",
       "  <thead>\n",
       "    <tr style=\"text-align: right;\">\n",
       "      <th></th>\n",
       "      <th>section_id2</th>\n",
       "      <th>merkmal</th>\n",
       "      <th>node_debug</th>\n",
       "      <th>node_kontext</th>\n",
       "      <th>data</th>\n",
       "      <th>num</th>\n",
       "      <th>meta</th>\n",
       "      <th>msg</th>\n",
       "    </tr>\n",
       "  </thead>\n",
       "  <tbody>\n",
       "    <tr>\n",
       "      <th>1950</th>\n",
       "      <td>sein</td>\n",
       "      <td>alt</td>\n",
       "      <td></td>\n",
       "      <td></td>\n",
       "      <td>Sebastian Brant</td>\n",
       "      <td></td>\n",
       "      <td></td>\n",
       "      <td>löschliste_lex</td>\n",
       "    </tr>\n",
       "    <tr>\n",
       "      <th>49302</th>\n",
       "      <td>Geld</td>\n",
       "      <td>herkunft</td>\n",
       "      <td></td>\n",
       "      <td>Ü</td>\n",
       "      <td>gelt</td>\n",
       "      <td></td>\n",
       "      <td></td>\n",
       "      <td>löschliste_lex</td>\n",
       "    </tr>\n",
       "    <tr>\n",
       "      <th>50817</th>\n",
       "      <td>Kreuzer</td>\n",
       "      <td>abk</td>\n",
       "      <td></td>\n",
       "      <td></td>\n",
       "      <td>Xer</td>\n",
       "      <td>2</td>\n",
       "      <td></td>\n",
       "      <td>löschliste_lex</td>\n",
       "    </tr>\n",
       "    <tr>\n",
       "      <th>177755</th>\n",
       "      <td>Morphem</td>\n",
       "      <td>def</td>\n",
       "      <td></td>\n",
       "      <td></td>\n",
       "      <td>grammatisches Morphem</td>\n",
       "      <td>2</td>\n",
       "      <td>der</td>\n",
       "      <td>löschliste_lex</td>\n",
       "    </tr>\n",
       "    <tr>\n",
       "      <th>311374</th>\n",
       "      <td>fladern_1</td>\n",
       "      <td>übersicht</td>\n",
       "      <td>Deutsch Verb Übersicht</td>\n",
       "      <td>Partizip II</td>\n",
       "      <td>gefladerd</td>\n",
       "      <td></td>\n",
       "      <td>&lt;NA&gt;</td>\n",
       "      <td>löschliste_lex</td>\n",
       "    </tr>\n",
       "    <tr>\n",
       "      <th>534518</th>\n",
       "      <td>absolut</td>\n",
       "      <td>kombi</td>\n",
       "      <td></td>\n",
       "      <td></td>\n",
       "      <td>absolute Dichtung</td>\n",
       "      <td>9</td>\n",
       "      <td></td>\n",
       "      <td>löschliste_lex</td>\n",
       "    </tr>\n",
       "    <tr>\n",
       "      <th>633262</th>\n",
       "      <td>Piperidinsäure</td>\n",
       "      <td>def</td>\n",
       "      <td></td>\n",
       "      <td></td>\n",
       "      <td>γ-Aminobuttersäure</td>\n",
       "      <td>1</td>\n",
       "      <td>Chemie</td>\n",
       "      <td>löschliste_lex</td>\n",
       "    </tr>\n",
       "    <tr>\n",
       "      <th>1216474</th>\n",
       "      <td>-loge</td>\n",
       "      <td>def</td>\n",
       "      <td></td>\n",
       "      <td></td>\n",
       "      <td>gebundenes Lexem</td>\n",
       "      <td>1</td>\n",
       "      <td></td>\n",
       "      <td>löschliste_lex</td>\n",
       "    </tr>\n",
       "    <tr>\n",
       "      <th>1432136</th>\n",
       "      <td>β-Ketobuttersäuren</td>\n",
       "      <td>gm</td>\n",
       "      <td></td>\n",
       "      <td></td>\n",
       "      <td>β-Ketobuttersäure</td>\n",
       "      <td></td>\n",
       "      <td></td>\n",
       "      <td>löschliste_lex</td>\n",
       "    </tr>\n",
       "    <tr>\n",
       "      <th>2196656</th>\n",
       "      <td>rußen</td>\n",
       "      <td>alt_1</td>\n",
       "      <td></td>\n",
       "      <td></td>\n",
       "      <td>russen</td>\n",
       "      <td></td>\n",
       "      <td>Österreich</td>\n",
       "      <td>löschliste_lex</td>\n",
       "    </tr>\n",
       "    <tr>\n",
       "      <th>3699533</th>\n",
       "      <td>ALARA</td>\n",
       "      <td>gegen</td>\n",
       "      <td></td>\n",
       "      <td></td>\n",
       "      <td>ALARP</td>\n",
       "      <td>1</td>\n",
       "      <td></td>\n",
       "      <td>löschliste_lex</td>\n",
       "    </tr>\n",
       "    <tr>\n",
       "      <th>4388348</th>\n",
       "      <td>viraler_Vektor</td>\n",
       "      <td>übersicht</td>\n",
       "      <td>Deutsch adjektivisch Übersicht</td>\n",
       "      <td>Nominativ Singular schwach</td>\n",
       "      <td>virale Vektor</td>\n",
       "      <td></td>\n",
       "      <td>&lt;NA&gt;</td>\n",
       "      <td>löschliste_lex</td>\n",
       "    </tr>\n",
       "    <tr>\n",
       "      <th>5121305</th>\n",
       "      <td>definit</td>\n",
       "      <td>kombi</td>\n",
       "      <td></td>\n",
       "      <td></td>\n",
       "      <td>persönliches Fürwort</td>\n",
       "      <td>1</td>\n",
       "      <td></td>\n",
       "      <td>löschliste_lex</td>\n",
       "    </tr>\n",
       "  </tbody>\n",
       "</table>\n",
       "</div>"
      ],
      "text/plain": [
       "                section_id2    merkmal                       node_debug  \\\n",
       "1950                   sein        alt                                    \n",
       "49302                  Geld   herkunft                                    \n",
       "50817               Kreuzer        abk                                    \n",
       "177755              Morphem        def                                    \n",
       "311374            fladern_1  übersicht          Deutsch Verb Übersicht\n",
       "   \n",
       "534518              absolut      kombi                                    \n",
       "633262       Piperidinsäure        def                                    \n",
       "1216474               -loge        def                                    \n",
       "1432136  β-Ketobuttersäuren         gm                                    \n",
       "2196656               rußen      alt_1                                    \n",
       "3699533               ALARA      gegen                                    \n",
       "4388348      viraler_Vektor  übersicht  Deutsch adjektivisch Übersicht\n",
       "   \n",
       "5121305             definit      kombi                                    \n",
       "\n",
       "                       node_kontext                   data num        meta  \\\n",
       "1950                                       Sebastian Brant                   \n",
       "49302                             Ü                   gelt                   \n",
       "50817                                                  Xer   2               \n",
       "177755                               grammatisches Morphem   2         der   \n",
       "311374                  Partizip II              gefladerd            <NA>   \n",
       "534518                                   absolute Dichtung   9               \n",
       "633262                                  γ-Aminobuttersäure   1      Chemie   \n",
       "1216474                                   gebundenes Lexem   1               \n",
       "1432136                                  β-Ketobuttersäure                   \n",
       "2196656                                             russen      Österreich   \n",
       "3699533                                              ALARP   1               \n",
       "4388348  Nominativ Singular schwach          virale Vektor            <NA>   \n",
       "5121305                               persönliches Fürwort   1               \n",
       "\n",
       "                    msg  \n",
       "1950     löschliste_lex  \n",
       "49302    löschliste_lex  \n",
       "50817    löschliste_lex  \n",
       "177755   löschliste_lex  \n",
       "311374   löschliste_lex  \n",
       "534518   löschliste_lex  \n",
       "633262   löschliste_lex  \n",
       "1216474  löschliste_lex  \n",
       "1432136  löschliste_lex  \n",
       "2196656  löschliste_lex  \n",
       "3699533  löschliste_lex  \n",
       "4388348  löschliste_lex  \n",
       "5121305  löschliste_lex  "
      ]
     },
     "execution_count": 57,
     "metadata": {},
     "output_type": "execute_result"
    }
   ],
   "source": [
    "# wiktionary_merkmal belöschen nach lex\n",
    "mask = wiktionary_merkmal.data.isin(löschliste_lex) \n",
    "wiktionary_merkmal, wiktionary_merkmal_trash = pak.move_rows(df_from=wiktionary_merkmal, df_to=wiktionary_merkmal_trash, mask=mask, msg='löschliste_lex')\n",
    "\n",
    "mask = wiktionary_merkmal_trash.msg == 'löschliste_lex'\n",
    "grid(wiktionary_merkmal_trash[mask], pak.sample)"
   ]
  },
  {
   "cell_type": "code",
   "execution_count": 58,
   "metadata": {
    "execution": {
     "iopub.execute_input": "2023-03-05T16:28:15.080773Z",
     "iopub.status.busy": "2023-03-05T16:28:15.079884Z",
     "iopub.status.idle": "2023-03-05T16:28:15.128740Z",
     "shell.execute_reply": "2023-03-05T16:28:15.127944Z",
     "shell.execute_reply.started": "2023-03-05T16:28:15.080729Z"
    }
   },
   "outputs": [],
   "source": [
    "# aufräumen\n",
    "del löschliste_lemma\n",
    "del löschliste"
   ]
  },
  {
   "cell_type": "markdown",
   "metadata": {},
   "source": [
    "## tag und member\n",
    "* Aus dem Feld pos entstehen die Felder tag (standardisiert) und member (vollständig)"
   ]
  },
  {
   "cell_type": "code",
   "execution_count": 59,
   "metadata": {
    "execution": {
     "iopub.execute_input": "2023-03-05T16:28:15.129828Z",
     "iopub.status.busy": "2023-03-05T16:28:15.129541Z",
     "iopub.status.idle": "2023-03-05T16:28:21.138686Z",
     "shell.execute_reply": "2023-03-05T16:28:21.137899Z",
     "shell.execute_reply.started": "2023-03-05T16:28:15.129799Z"
    }
   },
   "outputs": [],
   "source": [
    "# Kaputte Datenstruktur in str wandeln\n",
    "wiktionary['tag'] = wiktionary.pos.apply( lambda x: str(x) )\n",
    "wiktionary = pak.move_cols(wiktionary,'tag','pos')\n",
    "\n",
    "# translate\n",
    "translate_chars = str.maketrans(\"{}'[]:\", \"     ,\")\n",
    "wiktionary.tag = wiktionary.tag.str.translate(translate_chars)\n",
    "\n",
    "# Liste ohne Dups draus machen\n",
    "wiktionary.tag = wiktionary.tag.str.split(\",\")\n",
    "wiktionary.tag = wiktionary.tag.apply( lambda x: list(set(x)) )\n",
    "\n",
    "# Strings pflegen\n",
    "wiktionary.tag = wiktionary.tag.apply( lambda x: [ e.strip().replace(' ','_')  for e in x ] )\n",
    "\n",
    "# Leere Strings entfernen\n",
    "wiktionary.tag = wiktionary.tag.apply( lambda x: [ e for e in x  if e != ''] )"
   ]
  },
  {
   "cell_type": "code",
   "execution_count": 60,
   "metadata": {
    "execution": {
     "iopub.execute_input": "2023-03-05T16:28:21.140050Z",
     "iopub.status.busy": "2023-03-05T16:28:21.139756Z",
     "iopub.status.idle": "2023-03-05T16:28:21.175734Z",
     "shell.execute_reply": "2023-03-05T16:28:21.175046Z",
     "shell.execute_reply.started": "2023-03-05T16:28:21.140022Z"
    }
   },
   "outputs": [],
   "source": [
    "#grid(wiktionary, pak.sample)"
   ]
  },
  {
   "cell_type": "code",
   "execution_count": 61,
   "metadata": {
    "execution": {
     "iopub.execute_input": "2023-03-05T16:28:21.178727Z",
     "iopub.status.busy": "2023-03-05T16:28:21.178406Z",
     "iopub.status.idle": "2023-03-05T16:28:22.050079Z",
     "shell.execute_reply": "2023-03-05T16:28:22.049378Z",
     "shell.execute_reply.started": "2023-03-05T16:28:21.178699Z"
    }
   },
   "outputs": [],
   "source": [
    "# nach Priorität sortieren (laut Steuertabellen)\n",
    "wiktionary.loc[:,'tag'] = member_sortieren(wiktionary.tag) "
   ]
  },
  {
   "cell_type": "code",
   "execution_count": 62,
   "metadata": {
    "execution": {
     "iopub.execute_input": "2023-03-05T16:28:22.051059Z",
     "iopub.status.busy": "2023-03-05T16:28:22.050845Z",
     "iopub.status.idle": "2023-03-05T16:28:22.324221Z",
     "shell.execute_reply": "2023-03-05T16:28:22.323464Z",
     "shell.execute_reply.started": "2023-03-05T16:28:22.051038Z"
    }
   },
   "outputs": [],
   "source": [
    "# In string wandeln\n",
    "wiktionary.tag = wiktionary.tag.str.join(' ')"
   ]
  },
  {
   "cell_type": "code",
   "execution_count": 63,
   "metadata": {
    "execution": {
     "iopub.execute_input": "2023-03-05T16:28:22.325499Z",
     "iopub.status.busy": "2023-03-05T16:28:22.325217Z",
     "iopub.status.idle": "2023-03-05T16:28:26.721454Z",
     "shell.execute_reply": "2023-03-05T16:28:26.720725Z",
     "shell.execute_reply.started": "2023-03-05T16:28:22.325471Z"
    }
   },
   "outputs": [
    {
     "name": "stdout",
     "output_type": "stream",
     "text": [
      "[('  ', ' '), ('Partizip II', 'Ptz2'), ('Partizip_II', 'Ptz2'), ('PartizipII', 'Ptz2'), ('Konjunktiv II', 'Konj2'), ('Konjunktiv_II', 'Konj2'), ('KonjunktivII', 'Konj2'), ('  ', ' ')]\n",
      "[('  ', ' '), ('Partizip I', 'Ptz1'), ('Partizip_I', 'Ptz1'), ('PartizipI', 'Ptz1'), ('Konjunktiv I', 'Konj1'), ('Konjunktiv_I', 'Konj1'), ('KonjunktivI', 'Konj1'), ('  ', ' ')]\n"
     ]
    }
   ],
   "source": [
    "# translate_first\n",
    "\n",
    "print(translate_first1)\n",
    "print(translate_first2)\n",
    "\n",
    "wiktionary['tag'] = pak.replace_str( wiktionary.tag, translate_first1).str.strip()\n",
    "wiktionary['tag'] = pak.replace_str( wiktionary.tag, translate_first2).str.strip()"
   ]
  },
  {
   "cell_type": "code",
   "execution_count": 64,
   "metadata": {
    "execution": {
     "iopub.execute_input": "2023-03-05T16:28:26.722844Z",
     "iopub.status.busy": "2023-03-05T16:28:26.722493Z",
     "iopub.status.idle": "2023-03-05T16:28:26.756863Z",
     "shell.execute_reply": "2023-03-05T16:28:26.756237Z",
     "shell.execute_reply.started": "2023-03-05T16:28:26.722819Z"
    }
   },
   "outputs": [],
   "source": [
    "#mask = (wiktionary.tag.str.count(' ') + 1)  > 2   \n",
    "#wiktionary[mask]"
   ]
  },
  {
   "cell_type": "code",
   "execution_count": 65,
   "metadata": {
    "execution": {
     "iopub.execute_input": "2023-03-05T16:28:26.757809Z",
     "iopub.status.busy": "2023-03-05T16:28:26.757561Z",
     "iopub.status.idle": "2023-03-05T16:28:27.653989Z",
     "shell.execute_reply": "2023-03-05T16:28:27.653256Z",
     "shell.execute_reply.started": "2023-03-05T16:28:26.757783Z"
    }
   },
   "outputs": [],
   "source": [
    "# Spalte member bewahrt die ursprüngliche Klassifizierung vollständig\n",
    "wiktionary['member'] = wiktionary.tag.copy()\n",
    "wiktionary = pak.move_cols(wiktionary,'member','tag')"
   ]
  },
  {
   "cell_type": "code",
   "execution_count": 66,
   "metadata": {
    "execution": {
     "iopub.execute_input": "2023-03-05T16:28:27.655942Z",
     "iopub.status.busy": "2023-03-05T16:28:27.655670Z",
     "iopub.status.idle": "2023-03-05T16:28:27.726372Z",
     "shell.execute_reply": "2023-03-05T16:28:27.725673Z",
     "shell.execute_reply.started": "2023-03-05T16:28:27.655916Z"
    }
   },
   "outputs": [
    {
     "name": "stdout",
     "output_type": "stream",
     "text": [
      "1 rows out of 837038\n"
     ]
    },
    {
     "data": {
      "text/html": [
       "<div>\n",
       "<style scoped>\n",
       "    .dataframe tbody tr th:only-of-type {\n",
       "        vertical-align: middle;\n",
       "    }\n",
       "\n",
       "    .dataframe tbody tr th {\n",
       "        vertical-align: top;\n",
       "    }\n",
       "\n",
       "    .dataframe thead th {\n",
       "        text-align: right;\n",
       "    }\n",
       "</style>\n",
       "<table border=\"1\" class=\"dataframe\">\n",
       "  <thead>\n",
       "    <tr style=\"text-align: right;\">\n",
       "      <th></th>\n",
       "      <th>page_id</th>\n",
       "      <th>page_part</th>\n",
       "      <th>section_id2</th>\n",
       "      <th>title</th>\n",
       "      <th>lemma</th>\n",
       "      <th>inflected</th>\n",
       "      <th>pos</th>\n",
       "      <th>tag</th>\n",
       "      <th>member</th>\n",
       "      <th>rhymes</th>\n",
       "      <th>flexion</th>\n",
       "      <th>ipa</th>\n",
       "      <th>syllables</th>\n",
       "      <th>lang</th>\n",
       "      <th>lang_code</th>\n",
       "      <th>error</th>\n",
       "      <th>lemma_lower</th>\n",
       "      <th>score</th>\n",
       "    </tr>\n",
       "  </thead>\n",
       "  <tbody>\n",
       "    <tr>\n",
       "      <th>449830</th>\n",
       "      <td>672369</td>\n",
       "      <td>0</td>\n",
       "      <td>notgetan</td>\n",
       "      <td>notgetan</td>\n",
       "      <td>nottun</td>\n",
       "      <td>True</td>\n",
       "      <td>{'Adjektiv': ['Partizip II']}</td>\n",
       "      <td>Adjektiv Ptz2</td>\n",
       "      <td>Adjektiv Ptz2</td>\n",
       "      <td>NaN</td>\n",
       "      <td>{}</td>\n",
       "      <td>[ˈnoːtɡəˌtaːn]</td>\n",
       "      <td>[not, ge, tan]</td>\n",
       "      <td>Deutsch</td>\n",
       "      <td>de</td>\n",
       "      <td></td>\n",
       "      <td>nottun</td>\n",
       "      <td>0.391496</td>\n",
       "    </tr>\n",
       "  </tbody>\n",
       "</table>\n",
       "</div>"
      ],
      "text/plain": [
       "        page_id  page_part section_id2     title   lemma  inflected  \\\n",
       "449830   672369          0    notgetan  notgetan  nottun       True   \n",
       "\n",
       "                                  pos            tag         member rhymes  \\\n",
       "449830  {'Adjektiv': ['Partizip II']}  Adjektiv Ptz2  Adjektiv Ptz2    NaN   \n",
       "\n",
       "       flexion             ipa       syllables     lang lang_code error  \\\n",
       "449830      {}  [ˈnoːtɡəˌtaːn]  [not, ge, tan]  Deutsch        de         \n",
       "\n",
       "       lemma_lower     score  \n",
       "449830      nottun  0.391496  "
      ]
     },
     "execution_count": 66,
     "metadata": {},
     "output_type": "execute_result"
    }
   ],
   "source": [
    "# wiktionary anschauen\n",
    "#mask = wiktionary.tag == 'ADJA ADV PRO'\n",
    "mask = wiktionary.title.isin( suche_debug )\n",
    "grid(wiktionary,mask)"
   ]
  },
  {
   "cell_type": "code",
   "execution_count": 67,
   "metadata": {
    "execution": {
     "iopub.execute_input": "2023-03-05T16:28:27.727781Z",
     "iopub.status.busy": "2023-03-05T16:28:27.727481Z",
     "iopub.status.idle": "2023-03-05T16:28:27.769225Z",
     "shell.execute_reply": "2023-03-05T16:28:27.768439Z",
     "shell.execute_reply.started": "2023-03-05T16:28:27.727751Z"
    }
   },
   "outputs": [],
   "source": [
    "#pak.sample(wiktionary)"
   ]
  },
  {
   "cell_type": "code",
   "execution_count": 68,
   "metadata": {
    "execution": {
     "iopub.execute_input": "2023-03-05T16:28:27.770538Z",
     "iopub.status.busy": "2023-03-05T16:28:27.770232Z",
     "iopub.status.idle": "2023-03-05T16:28:27.859147Z",
     "shell.execute_reply": "2023-03-05T16:28:27.858464Z",
     "shell.execute_reply.started": "2023-03-05T16:28:27.770508Z"
    }
   },
   "outputs": [
    {
     "data": {
      "text/html": [
       "<div>\n",
       "<style scoped>\n",
       "    .dataframe tbody tr th:only-of-type {\n",
       "        vertical-align: middle;\n",
       "    }\n",
       "\n",
       "    .dataframe tbody tr th {\n",
       "        vertical-align: top;\n",
       "    }\n",
       "\n",
       "    .dataframe thead th {\n",
       "        text-align: right;\n",
       "    }\n",
       "</style>\n",
       "<table border=\"1\" class=\"dataframe\">\n",
       "  <thead>\n",
       "    <tr style=\"text-align: right;\">\n",
       "      <th></th>\n",
       "      <th>quelle</th>\n",
       "      <th>ziel</th>\n",
       "      <th>notiz</th>\n",
       "    </tr>\n",
       "  </thead>\n",
       "  <tbody>\n",
       "    <tr>\n",
       "      <th>0</th>\n",
       "      <td>Konjugierte_Form</td>\n",
       "      <td>LEX_V</td>\n",
       "      <td>Keine Grundform</td>\n",
       "    </tr>\n",
       "    <tr>\n",
       "      <th>76</th>\n",
       "      <td>Präfix</td>\n",
       "      <td>TRUNC</td>\n",
       "      <td>Wortartenlisten</td>\n",
       "    </tr>\n",
       "    <tr>\n",
       "      <th>101</th>\n",
       "      <td>LEX_V LEX_V</td>\n",
       "      <td>LEX_V</td>\n",
       "      <td>Vorrang Durchlauf2</td>\n",
       "    </tr>\n",
       "    <tr>\n",
       "      <th>185</th>\n",
       "      <td>ADJ1 ADJ1</td>\n",
       "      <td>ADJ1</td>\n",
       "      <td>Doppelung1</td>\n",
       "    </tr>\n",
       "    <tr>\n",
       "      <th>212</th>\n",
       "      <td>Vergleichspartikel</td>\n",
       "      <td></td>\n",
       "      <td>löschmich</td>\n",
       "    </tr>\n",
       "  </tbody>\n",
       "</table>\n",
       "</div>"
      ],
      "text/plain": [
       "                 quelle   ziel               notiz\n",
       "0      Konjugierte_Form  LEX_V     Keine Grundform\n",
       "76               Präfix  TRUNC     Wortartenlisten\n",
       "101         LEX_V LEX_V  LEX_V  Vorrang Durchlauf2\n",
       "185           ADJ1 ADJ1   ADJ1          Doppelung1\n",
       "212  Vergleichspartikel                  löschmich"
      ]
     },
     "execution_count": 68,
     "metadata": {},
     "output_type": "execute_result"
    }
   ],
   "source": [
    "pak.sample(translate_tag)"
   ]
  },
  {
   "cell_type": "code",
   "execution_count": null,
   "metadata": {
    "execution": {
     "iopub.execute_input": "2023-03-05T16:28:27.862696Z",
     "iopub.status.busy": "2023-03-05T16:28:27.862221Z"
    }
   },
   "outputs": [],
   "source": [
    "# anwenden\n",
    "wiktionary['tag'] = pak.replace_str( wiktionary.tag, translate_tag )\n",
    "wiktionary['tag'] = wiktionary.tag.str.replace('  ',' ').str.strip()    "
   ]
  },
  {
   "cell_type": "code",
   "execution_count": null,
   "metadata": {},
   "outputs": [],
   "source": [
    "# Durchlauf2: translate_tag erneut anwenden \n",
    "mask = translate_tag.notiz.str.contains('Durchlauf2')\n",
    "wiktionary['tag'] = pak.replace_str( wiktionary.tag, translate_tag[mask] )\n",
    "wiktionary['tag'] = wiktionary.tag.str.replace('  ',' ').str.strip()    "
   ]
  },
  {
   "cell_type": "code",
   "execution_count": null,
   "metadata": {},
   "outputs": [],
   "source": [
    "# tag TODO für alles, was noch weiterverarbeitet werden muss\n",
    "mask = (wiktionary.tag.str.len() == 0)\n",
    "wiktionary.loc[mask,'tag'] = 'TODO'\n",
    "#grid(wiktionary,mask)"
   ]
  },
  {
   "cell_type": "code",
   "execution_count": null,
   "metadata": {},
   "outputs": [],
   "source": [
    "# wiktionary anschauen\n",
    "#mask = wiktionary.tag == 'ADJA ADV PRO'\n",
    "mask = wiktionary.title.isin( suche_debug )\n",
    "grid(wiktionary,mask, backend='')"
   ]
  },
  {
   "cell_type": "code",
   "execution_count": null,
   "metadata": {},
   "outputs": [],
   "source": [
    "# Dekliniertes_Gerundivum: beizubehaltende\n",
    "# VMaßeinheiten"
   ]
  },
  {
   "cell_type": "markdown",
   "metadata": {},
   "source": [
    "## Bindestrich"
   ]
  },
  {
   "cell_type": "markdown",
   "metadata": {},
   "source": [
    "### Gebundene Adjektiv-Lexeme"
   ]
  },
  {
   "cell_type": "code",
   "execution_count": null,
   "metadata": {
    "tags": []
   },
   "outputs": [],
   "source": [
    "# Gebundene Adjektiv-Lexeme in wiktionary\n",
    "suche = ['ober-','unter-','äußer-','inner-',]\n",
    "mask = wiktionary.section_id2.isin(suche)\n",
    "\n",
    "check_mask(wiktionary,mask,0,4)\n",
    "wiktionary[mask]"
   ]
  },
  {
   "cell_type": "code",
   "execution_count": null,
   "metadata": {},
   "outputs": [],
   "source": [
    "wiktionary.loc[mask,'title']       = wiktionary[mask].title.str.replace('-','')\n",
    "wiktionary.loc[mask,'lemma']       = wiktionary[mask].lemma.str.replace('-','')\n",
    "wiktionary.loc[mask,'lemma_lower'] = wiktionary[mask].lemma_lower.str.replace('-','')\n",
    "wiktionary.loc[mask,'member']      = 'Adjektiv'\n",
    "wiktionary.loc[mask,'tag']         = 'ADJA'\n",
    "wiktionary.loc[mask,'pos']         = None # {'Adjektiv': []}\n",
    "wiktionary.loc[mask,'section_id2'] = wiktionary[mask].section_id2.str.replace('-','_glex')\n",
    "wiktionary[mask]"
   ]
  },
  {
   "cell_type": "code",
   "execution_count": null,
   "metadata": {
    "tags": []
   },
   "outputs": [],
   "source": [
    "#pak.analyse_datatypes(wiktionary)"
   ]
  },
  {
   "cell_type": "code",
   "execution_count": null,
   "metadata": {},
   "outputs": [],
   "source": [
    "# Gebundene Adjektiv-Lexeme in wiktionary_merkmal\n",
    "suche = ['ober-','unter-','äußer-','inner-',]\n",
    "mask = wiktionary_merkmal.section_id2.isin(suche)\n",
    "check_mask(wiktionary_merkmal,mask,80)\n",
    "wiktionary_merkmal.loc[mask,'section_id2'] = wiktionary_merkmal[mask].section_id2.str.replace('-','_glex')\n",
    "#wiktionary_merkmal[mask]"
   ]
  },
  {
   "cell_type": "code",
   "execution_count": null,
   "metadata": {},
   "outputs": [],
   "source": [
    "# Gebundene Adjektiv-Lexeme in wiktionary_merkmal_text\n",
    "suche = ['ober-','unter-','äußer-','inner-',]\n",
    "mask = wiktionary_merkmal_text.section_id2.isin(suche)\n",
    "check_mask(wiktionary_merkmal_text,mask,46)\n",
    "wiktionary_merkmal_text.loc[mask,'section_id2'] = wiktionary_merkmal_text[mask].section_id2.str.replace('-','_glex')\n",
    "#wiktionary_merkmal_text[mask]"
   ]
  },
  {
   "cell_type": "code",
   "execution_count": null,
   "metadata": {},
   "outputs": [],
   "source": [
    "# Gebundene Adjektiv-Lexeme in wiktionary\n",
    "suche = ['ober-','unter-','äußer-','inner-',]\n",
    "mask = wiktionary.lemma.isin(suche)\n",
    "check_mask(wiktionary,mask,36)\n",
    "\n",
    "wiktionary.loc[mask,'title']       = wiktionary[mask].title.str.replace('-','')\n",
    "wiktionary.loc[mask,'lemma']       = wiktionary[mask].lemma.str.replace('-','')\n",
    "wiktionary.loc[mask,'lemma_lower'] = wiktionary[mask].lemma_lower.str.replace('-','')\n",
    "# wiktionary[mask]"
   ]
  },
  {
   "cell_type": "code",
   "execution_count": null,
   "metadata": {},
   "outputs": [],
   "source": [
    "# Gebundene Adjektiv-Lexeme in wiktionary_merkmal\n",
    "suche = ['ober-','unter-','äußer-','inner-',]\n",
    "mask = wiktionary_merkmal.data.isin(suche)\n",
    "check_mask(wiktionary_merkmal,mask,0,10)\n",
    "wiktionary_merkmal.loc[mask,'data'] = wiktionary_merkmal[mask].data.str.replace('-','')\n",
    "wiktionary_merkmal[mask]"
   ]
  },
  {
   "cell_type": "markdown",
   "metadata": {},
   "source": [
    "### Präfix"
   ]
  },
  {
   "cell_type": "code",
   "execution_count": null,
   "metadata": {},
   "outputs": [],
   "source": [
    "# AFIX 551\n",
    "mask0 = ~wiktionary.lemma.str.startswith('-')   \n",
    "mask1 =  wiktionary.lemma.str.endswith('-')  \n",
    "mask2 = ~wiktionary.lemma.str[0].str.isdigit()\n",
    "mask3 =  wiktionary.lemma.str.len() > 1\n",
    "mask4 = ~wiktionary.tag.str.contains(' ')   \n",
    "mask = mask0  &  mask1  &  mask2  &  mask3  &  mask4 \n",
    "pak.check_mask(wiktionary, mask, 551)\n",
    "\n",
    "wiktionary.loc[mask,'tag']    = 'AFIX ' + wiktionary[mask].tag\n",
    "wiktionary.loc[mask,'member'] = pak.remove_str(wiktionary[mask].member, ['Affix'])\n",
    "grid(wiktionary, mask)"
   ]
  },
  {
   "cell_type": "code",
   "execution_count": null,
   "metadata": {
    "tags": []
   },
   "outputs": [],
   "source": [
    "# dar: Präfix ohne Bindestrich\n",
    "mask1 = wiktionary.lemma == 'dar'\n",
    "mask2 = wiktionary.member.str.contains('Präfix')\n",
    "mask = mask1  &  mask2\n",
    "pak.check_mask(wiktionary, mask, 1)\n",
    "\n",
    "wiktionary.loc[mask,'tag']    = 'AFIX TRUNC'\n",
    "wiktionary.loc[mask,'member'] = 'Präfix'\n",
    "wiktionary[mask]"
   ]
  },
  {
   "cell_type": "code",
   "execution_count": null,
   "metadata": {
    "tags": []
   },
   "outputs": [],
   "source": [
    "# Kontrolle und Statistik AFIX\n",
    "mask_AFIX = wiktionary.tag.str.contains('AFIX')\n",
    "a = wiktionary[mask_AFIX].sort_values(['section_id2'])\n",
    "mask = a.tag != 'AFIX TRUNC'\n",
    "check_mask(a,0)\n",
    "\n",
    "df = pak.analyse_freqs(a, ['member','lemma'])\n",
    "df = pak.drop_cols(df,'lemma_count')\n",
    "grid(df)"
   ]
  },
  {
   "cell_type": "markdown",
   "metadata": {},
   "source": [
    "### Suffix"
   ]
  },
  {
   "cell_type": "code",
   "execution_count": null,
   "metadata": {},
   "outputs": [],
   "source": [
    "# ZFIX 480\n",
    "mask0 =  wiktionary.lemma.str.startswith('-')\n",
    "mask1 = ~wiktionary.lemma.str.endswith('-')\n",
    "mask2 = ~wiktionary.lemma.str[-1].str.isdigit()\n",
    "mask3 =  wiktionary.lemma.str.len() > 1\n",
    "mask4 = ~wiktionary.tag.str.contains(' ')   \n",
    "mask = mask0  &  mask1  &  mask2  &  mask3  &  mask4 \n",
    "pak.check_mask(wiktionary, mask, 480)\n",
    "\n",
    "wiktionary.loc[mask, 'tag']   = 'ZFIX ' + wiktionary[mask].tag\n",
    "wiktionary.loc[mask,'member'] = pak.remove_str(wiktionary[mask].member, ['Affix'])\n",
    "grid(wiktionary, mask)"
   ]
  },
  {
   "cell_type": "code",
   "execution_count": null,
   "metadata": {
    "tags": []
   },
   "outputs": [],
   "source": [
    "# Kontrolle und Statistik ZFIX\n",
    "mask_ZFIX = wiktionary.tag.str.contains('ZFIX')\n",
    "a = wiktionary[mask_ZFIX].sort_values(['section_id2'])\n",
    "mask = a.tag != 'ZFIX TRUNC'\n",
    "check_mask(a,0)\n",
    "\n",
    "df = pak.analyse_freqs(a, ['member','lemma'])\n",
    "df = pak.drop_cols(df,'lemma_count')\n",
    "grid(df)"
   ]
  },
  {
   "cell_type": "markdown",
   "metadata": {},
   "source": [
    "### Sonstige"
   ]
  },
  {
   "cell_type": "code",
   "execution_count": null,
   "metadata": {},
   "outputs": [],
   "source": [
    "# MFIX >> löschen\n",
    "mask0 =  wiktionary.lemma.str.startswith('-')\n",
    "mask1 =  wiktionary.lemma.str.endswith('-') \n",
    "mask2 =  wiktionary.lemma.str.len() > 2\n",
    "mask3 = ~wiktionary.tag.str.contains(' ')   \n",
    "mask = mask0  &  mask1  &  mask2  &  mask3\n",
    "check_mask(wiktionary, mask, 4)\n",
    "\n",
    "msg = 'MFIX'\n",
    "wiktionary, wiktionary_trash = pak.move_rows(df_from=wiktionary, df_to=wiktionary_trash, mask=mask, msg=msg) \n",
    "grid(wiktionary_trash, msg)"
   ]
  },
  {
   "cell_type": "code",
   "execution_count": null,
   "metadata": {
    "tags": []
   },
   "outputs": [],
   "source": [
    "# FIX_ZU_KURZ >> löschen\n",
    "mask1A = wiktionary.tag.str.contains('AFIX')\n",
    "mask1B = wiktionary.tag.str.contains('ZFIX')\n",
    "mask2  = wiktionary.lemma.str.len() <= 2\n",
    "mask = (mask1A | mask1B)  &  mask2\n",
    "check_mask(wiktionary, mask, 9)\n",
    "\n",
    "msg = 'FIX_ZU_KURZ'\n",
    "wiktionary, wiktionary_trash = pak.move_rows(df_from=wiktionary, df_to=wiktionary_trash, mask=mask, msg=msg) \n",
    "grid(wiktionary_trash, msg)"
   ]
  },
  {
   "cell_type": "code",
   "execution_count": null,
   "metadata": {
    "tags": []
   },
   "outputs": [],
   "source": [
    "# Zirkumfix >> löschen\n",
    "maskA = wiktionary.lemma.str.contains('-…-')\n",
    "maskB = wiktionary.member.str.contains('Zirkumfix')\n",
    "mask = maskA | maskB\n",
    "check_mask(wiktionary, mask, 3)\n",
    "\n",
    "msg = 'Zirkumfix'\n",
    "wiktionary, wiktionary_trash = pak.move_rows(df_from=wiktionary, df_to=wiktionary_trash, mask=mask, msg=msg) \n",
    "grid(wiktionary_trash, msg)"
   ]
  },
  {
   "cell_type": "code",
   "execution_count": null,
   "metadata": {
    "tags": []
   },
   "outputs": [],
   "source": [
    "# dar ist ein Präfix ohne Bindestrich\n",
    "mask = wiktionary.member.str.contains('Affix')\n",
    "check_mask(wiktionary, mask, 1)\n",
    "\n",
    "wiktionary.loc[mask,'member'] = pak.remove_str(wiktionary[mask].member, ['Affix'])\n",
    "grid(wiktionary, mask)"
   ]
  },
  {
   "cell_type": "code",
   "execution_count": null,
   "metadata": {
    "tags": []
   },
   "outputs": [],
   "source": [
    "# Kontrolle und Statistik TRUNC\n",
    "mask = wiktionary.tag.str.contains('TRUNC')\n",
    "a = pak.analyse_freqs(wiktionary[mask], ['tag','member','lemma'])\n",
    "assert a.shape[0] == 2\n",
    "grid(a)"
   ]
  },
  {
   "cell_type": "markdown",
   "metadata": {},
   "source": [
    "## Einzelkorrekturen"
   ]
  },
  {
   "cell_type": "code",
   "execution_count": null,
   "metadata": {
    "tags": []
   },
   "outputs": [],
   "source": [
    "# member Häufigkeitsanalyse\n",
    "a = pak.analyse_freqs(wiktionary,['member','lemma'], splits=[' ',None])\n",
    "a = pak.drop_cols(a,'lemma_count')\n",
    "gridt(a)"
   ]
  },
  {
   "cell_type": "code",
   "execution_count": null,
   "metadata": {},
   "outputs": [],
   "source": [
    "# Einzelkorrekturen (das sind section_id2)       \n",
    "einzelkorrekturen = { 'viel'        : 'ADJA PIAT',  # war: ADJA ADV PIAT CARD\n",
    "                      'zig'         : 'ADJA',\n",
    "                      'bis'         : 'KOUS APPR',      \n",
    "                      'derentwegen' : 'PDAT PRELAT',\n",
    "                      'Rheinland'   : 'NE',          # war: NN       \n",
    "}"
   ]
  },
  {
   "cell_type": "code",
   "execution_count": null,
   "metadata": {
    "tags": []
   },
   "outputs": [],
   "source": [
    "# anschauen (alle title, nicht nur die section_id2)\n",
    "mask = wiktionary.title.isin(einzelkorrekturen.keys())\n",
    "df = wiktionary[mask].sort_values('section_id2')\n",
    "spalten = ['section_id2','title','lemma','tag','member','score']\n",
    "grid(df[spalten])"
   ]
  },
  {
   "cell_type": "code",
   "execution_count": null,
   "metadata": {},
   "outputs": [],
   "source": [
    "# ändern lt. section_id2\n",
    "for i,t in einzelkorrekturen.items():\n",
    "    mask = (wiktionary.section_id2 == i)\n",
    "    wiktionary.loc[mask,'tag'] = t"
   ]
  },
  {
   "cell_type": "code",
   "execution_count": null,
   "metadata": {},
   "outputs": [],
   "source": [
    "# pflege_tag_felder (schreibe tagZZ usw.)\n",
    "wiktionary = pflege_tag_felder(wiktionary, translate_tagZ)"
   ]
  },
  {
   "cell_type": "code",
   "execution_count": null,
   "metadata": {
    "tags": []
   },
   "outputs": [],
   "source": [
    "# anschauen (alle title, nicht nur die section_id2)\n",
    "mask = wiktionary.title.isin(einzelkorrekturen.keys())\n",
    "df = wiktionary[mask].sort_values('section_id2')\n",
    "spalten = ['section_id2','title','lemma','tag','tagZZ','member','score']\n",
    "grid(df[spalten])"
   ]
  },
  {
   "cell_type": "markdown",
   "metadata": {},
   "source": [
    "## named_entities"
   ]
  },
  {
   "cell_type": "code",
   "execution_count": null,
   "metadata": {
    "tags": []
   },
   "outputs": [],
   "source": [
    "# laden\n",
    "named_entities = pak.load_excel(named_entities_filename, tabcol='quelle')"
   ]
  },
  {
   "cell_type": "code",
   "execution_count": null,
   "metadata": {
    "tags": []
   },
   "outputs": [],
   "source": [
    "# Überblick\n",
    "a = pak.analyse_freqs(named_entities, cols=['quelle','member','lemma'], splits=[None,' '])\n",
    "a = pak.drop_cols(a,'lemma_count')\n",
    "grid(a)"
   ]
  },
  {
   "cell_type": "code",
   "execution_count": null,
   "metadata": {
    "tags": []
   },
   "outputs": [],
   "source": [
    "# score anpassen\n",
    "# es gilt nahezu: wiktionary.score.quantile(0.5)  == named_entities.score.quantile(0.5) \n",
    "named_entities.score *= wiktionary.score.quantile(0.5) / named_entities.score.quantile(0.5) "
   ]
  },
  {
   "cell_type": "code",
   "execution_count": null,
   "metadata": {
    "tags": []
   },
   "outputs": [],
   "source": [
    "# je mehr Funktionen, desto besser\n",
    "named_entities.score *= (1 + named_entities.member.str.count(' '))  "
   ]
  },
  {
   "cell_type": "code",
   "execution_count": null,
   "metadata": {
    "tags": []
   },
   "outputs": [],
   "source": [
    "pak.sample(named_entities)"
   ]
  },
  {
   "cell_type": "code",
   "execution_count": null,
   "metadata": {
    "tags": []
   },
   "outputs": [],
   "source": [
    "# Felder ergänzen\n",
    "named_entities['title']       = named_entities.lemma\n",
    "named_entities['lemma_lower'] = named_entities.lemma.str.lower() \n",
    "named_entities = pak.move_cols( named_entities, 'lemma_lower','lemma')"
   ]
  },
  {
   "cell_type": "code",
   "execution_count": null,
   "metadata": {
    "tags": []
   },
   "outputs": [],
   "source": [
    "# section_id2\n",
    "named_entities['section_id2'] = named_entities.lemma + '_' + named_entities.quelle.str[0].str.upper().copy()\n",
    "named_entities['section_id2'] = named_entities.section_id2.str.replace(' ','_').copy()\n",
    "named_entities = pak.move_cols(named_entities, ['section_id2','title'])"
   ]
  },
  {
   "cell_type": "code",
   "execution_count": null,
   "metadata": {
    "tags": []
   },
   "outputs": [],
   "source": [
    "# Bekannte section_id2 aus wiktionary übertragen. Aber nur wenn der tag wirklich gleich ist.\n",
    "mask = (wiktionary.lemma == wiktionary.title)  # wichtig\n",
    "named_entities = pak.update_col(named_entities, wiktionary[mask], on=['lemma_lower','tag'], col='section_id2',  col_score='score' )"
   ]
  },
  {
   "cell_type": "code",
   "execution_count": null,
   "metadata": {
    "tags": []
   },
   "outputs": [],
   "source": [
    "pak.sample(named_entities)"
   ]
  },
  {
   "cell_type": "code",
   "execution_count": null,
   "metadata": {},
   "outputs": [],
   "source": [
    "# drop_cols\n",
    "named_entities = pak.drop_cols(named_entities,['sex_f', 'sex_m', 'Land', 'Stadt','quelle'])"
   ]
  },
  {
   "cell_type": "code",
   "execution_count": null,
   "metadata": {},
   "outputs": [],
   "source": [
    "grid(named_entities, pak.sample)"
   ]
  },
  {
   "cell_type": "code",
   "execution_count": null,
   "metadata": {},
   "outputs": [],
   "source": [
    "# Dups?\n",
    "mask = named_entities.section_id2.duplicated()\n",
    "check_mask(named_entities,mask,0,0)"
   ]
  },
  {
   "cell_type": "code",
   "execution_count": null,
   "metadata": {},
   "outputs": [],
   "source": [
    "blab.help(pak.cols_to_dict)"
   ]
  },
  {
   "cell_type": "code",
   "execution_count": null,
   "metadata": {},
   "outputs": [],
   "source": [
    "named_entities = pak.cols_to_dict(named_entities,col_dict='flexion',cols_add=['Genus','Nom Sg','Gen Sg',], use_defaultdict=True)\n",
    "named_entities"
   ]
  },
  {
   "cell_type": "code",
   "execution_count": null,
   "metadata": {},
   "outputs": [],
   "source": [
    "grid(named_entities, pak.sample)"
   ]
  },
  {
   "cell_type": "code",
   "execution_count": null,
   "metadata": {
    "tags": []
   },
   "outputs": [],
   "source": [
    "# anfügen\n",
    "wiktionary = pak.add_rows(wiktionary, named_entities, assert_subset=True)"
   ]
  },
  {
   "cell_type": "code",
   "execution_count": null,
   "metadata": {
    "tags": []
   },
   "outputs": [],
   "source": [
    "# flexion type korrekt?\n",
    "assert pak.ntypes(wiktionary.flexion) == 1"
   ]
  },
  {
   "cell_type": "code",
   "execution_count": null,
   "metadata": {},
   "outputs": [],
   "source": [
    "# wiktionary anschauen\n",
    "mask = wiktionary.title.isin(suche_debug) \n",
    "r = wiktionary[mask].sort_values(['title','section_id2'])\n",
    "grid(r)"
   ]
  },
  {
   "cell_type": "markdown",
   "metadata": {},
   "source": [
    "## Zahlwörter\n",
    "* werden anschließend lexeme_manuell zugeschlagen"
   ]
  },
  {
   "cell_type": "code",
   "execution_count": null,
   "metadata": {},
   "outputs": [],
   "source": [
    "# Wandelt eine Zahl in Worte um\n",
    "def zahl_in_worten(n, s=True, z=False):\n",
    "    \n",
    "    w1 = \"null ein zwei drei vier fünf sechs sieben acht neun zehn elf zwölf dreizehn vierzehn fünfzehn sechzehn siebzehn achtzehn neunzehn\".split()\n",
    "    w2 = \"zwanzig dreißig vierzig fünfzig sechzig siebzig achtzig neunzig\".split()    \n",
    "    if n < 0: raise ValueError\n",
    "    if n == 0 and z: return \"\"\n",
    "    if n == 1 and s: return \"eins\"\n",
    "    if n < 20: return w1[n]\n",
    "    if n < 100:\n",
    "        w = w2[(n - 20) // 10]\n",
    "        if n % 10:\n",
    "            w = w1[n % 10] + \"und\" + w\n",
    "        return w\n",
    "    if n < 1000:\n",
    "        return w1[n // 100] + \"hundert\" + zahl_in_worten(n % 100, z=True)\n",
    "    if n < 1000000:\n",
    "        return zahl_in_worten(n // 1000, s=False) + \"tausend\" + zahl_in_worten(n % 1000, z=True)\n",
    "    raise ValueError"
   ]
  },
  {
   "cell_type": "code",
   "execution_count": null,
   "metadata": {},
   "outputs": [],
   "source": [
    "print(zahl_in_worten(3107))"
   ]
  },
  {
   "cell_type": "code",
   "execution_count": null,
   "metadata": {},
   "outputs": [],
   "source": [
    "def zahlwörter_liste(range_): \n",
    "    return [ \n",
    "    {'lex' : [zahl_in_worten(z), str(z)], \n",
    "     'lemma' : zahl_in_worten(z),      \n",
    "     'def'   : str(z),\n",
    "    } for z in range_]\n",
    "\n",
    "zahlwörter_liste(range(0,20,10))"
   ]
  },
  {
   "cell_type": "code",
   "execution_count": null,
   "metadata": {
    "tags": []
   },
   "outputs": [],
   "source": [
    "# 0..99 zahlwörter_a erzeugen\n",
    "range_ = range(0,100)\n",
    "zahlwörter_a = pd.DataFrame(zahlwörter_liste( range_ ))\n",
    "zahlwörter_a['score'] = wiktionary.score.quantile(0.8)  +  1/(zahlwörter_a.index.astype(int)+1)**0.5*3+1\n",
    "#zahlwörter_a\n",
    "# wiktionary.score.quantile(0.7) / "
   ]
  },
  {
   "cell_type": "code",
   "execution_count": null,
   "metadata": {
    "tags": []
   },
   "outputs": [],
   "source": [
    "# Hunderter Zahlwörter erzeugen\n",
    "range_ = range(100,1000,100)\n",
    "zahlwörter_b = pd.DataFrame(zahlwörter_liste( range_ ))\n",
    "zahlwörter_b['score'] = wiktionary.score.quantile(0.8)  +  1/(zahlwörter_b.index.astype(int)+1)**0.5*3+1\n",
    "#zahlwörter_b"
   ]
  },
  {
   "cell_type": "code",
   "execution_count": null,
   "metadata": {
    "tags": []
   },
   "outputs": [],
   "source": [
    "# Tausender Zahlwörter erzeugen\n",
    "range_ = range(1000,99001,1000)\n",
    "zahlwörter_c = pd.DataFrame(zahlwörter_liste( range_ ))\n",
    "zahlwörter_c['score'] = wiktionary.score.quantile(0.6)  +  1/(zahlwörter_c.index.astype(int)+1)**0.5*3+1\n",
    "#zahlwörter_c"
   ]
  },
  {
   "cell_type": "code",
   "execution_count": null,
   "metadata": {
    "tags": []
   },
   "outputs": [],
   "source": [
    "# Zehntausender Zahlwörter erzeugen\n",
    "range_ = range(10000,99001,10000)\n",
    "zahlwörter_d = pd.DataFrame(zahlwörter_liste( range_ ))\n",
    "zahlwörter_d['score'] = wiktionary.score.quantile(0.5)  +  1/(zahlwörter_d.index.astype(int)+1)**0.5*3+1\n",
    "#zahlwörter_d"
   ]
  },
  {
   "cell_type": "code",
   "execution_count": null,
   "metadata": {
    "tags": []
   },
   "outputs": [],
   "source": [
    "# Hunderttausender Zahlwörter erzeugen\n",
    "range_ = range(100000,990001,100000)\n",
    "zahlwörter_e = pd.DataFrame(zahlwörter_liste( range_ ))\n",
    "zahlwörter_e['score'] = wiktionary.score.quantile(0.7)  +  1/(zahlwörter_e.index.astype(int)+1)**0.5*3+1\n",
    "#zahlwörter_e"
   ]
  },
  {
   "cell_type": "code",
   "execution_count": null,
   "metadata": {
    "tags": []
   },
   "outputs": [],
   "source": [
    "# concat\n",
    "zahlwörter_all = pd.concat([  zahlwörter_a, zahlwörter_b, zahlwörter_c, zahlwörter_d, zahlwörter_e,  ])"
   ]
  },
  {
   "cell_type": "code",
   "execution_count": null,
   "metadata": {
    "tags": []
   },
   "outputs": [],
   "source": [
    "# explode lex\n",
    "zahlwörter_all = zahlwörter_all.explode('lex')"
   ]
  },
  {
   "cell_type": "code",
   "execution_count": null,
   "metadata": {
    "tags": []
   },
   "outputs": [],
   "source": [
    "# Sonstige Spalten\n",
    "zahlwörter_all['tag']         = 'CARD'\n",
    "zahlwörter_all['tag_lex']     = 'lex' # ja\n",
    "zahlwörter_all['genus']       = 'f'\n",
    "zahlwörter_all['member']      = 'Zahlwort'\n",
    "zahlwörter_all['tab']         = 'Zahlwort' # Wird später wieder gelöscht, dient der Kompatibilität zu lexeme_manuell"
   ]
  },
  {
   "cell_type": "code",
   "execution_count": null,
   "metadata": {
    "tags": []
   },
   "outputs": [],
   "source": [
    "# Substantive ergänzen\n",
    "mask = zahlwörter_all.lex == zahlwörter_all.lemma\n",
    "df = zahlwörter_all[mask].copy()\n",
    "df['lex']   = df.lex.str.capitalize()\n",
    "df['lemma'] = df.lex.str.capitalize()\n",
    "df['tag']   = 'NN'\n",
    "zahlwörter_all = pak.add_rows(zahlwörter_all, df)\n",
    "#df"
   ]
  },
  {
   "cell_type": "code",
   "execution_count": null,
   "metadata": {
    "tags": []
   },
   "outputs": [],
   "source": [
    "#zahlwörter_all['score'] = wiktionary.score.quantile(0.5)"
   ]
  },
  {
   "cell_type": "code",
   "execution_count": null,
   "metadata": {
    "tags": []
   },
   "outputs": [],
   "source": [
    "# zahlwörter_all anschauen\n",
    "pak.sample(zahlwörter_all)"
   ]
  },
  {
   "cell_type": "markdown",
   "metadata": {},
   "source": [
    "## lexeme_manuell"
   ]
  },
  {
   "cell_type": "code",
   "execution_count": null,
   "metadata": {
    "tags": []
   },
   "outputs": [],
   "source": [
    "# laden\n",
    "lexeme_manuell = pak.load_excel( lexeme_manuell_filename, tabcol='tab' )\n",
    "lexeme_manuell = pak.move_cols(  lexeme_manuell, 'tag_lex')"
   ]
  },
  {
   "cell_type": "code",
   "execution_count": null,
   "metadata": {
    "tags": []
   },
   "outputs": [],
   "source": [
    "#pak.sample(lexeme_manuell)"
   ]
  },
  {
   "cell_type": "code",
   "execution_count": null,
   "metadata": {
    "tags": []
   },
   "outputs": [],
   "source": [
    "# suche_debug\n",
    "search_str(lexeme_manuell, suche_debug)"
   ]
  },
  {
   "cell_type": "code",
   "execution_count": null,
   "metadata": {
    "tags": []
   },
   "outputs": [],
   "source": [
    "# Partizipien im falschen Tab definiert?\n",
    "mask1 = lexeme_manuell.tag.isin(['ADJ1','ADJ2'])\n",
    "mask2 = lexeme_manuell.tab != 'Partizipien'\n",
    "mask = mask1  &  mask2\n",
    "check_mask(lexeme_manuell,mask,0)"
   ]
  },
  {
   "cell_type": "code",
   "execution_count": null,
   "metadata": {
    "tags": []
   },
   "outputs": [],
   "source": [
    "# Partizipien falsch definiert?\n",
    "mask1 =  lexeme_manuell.tab == 'Partizipien'\n",
    "mask2 = ~lexeme_manuell.tag.isin(['ADJ1','ADJ2'])\n",
    "mask = mask1  &  mask2\n",
    "check_mask(lexeme_manuell,mask,0)"
   ]
  },
  {
   "cell_type": "code",
   "execution_count": null,
   "metadata": {
    "tags": []
   },
   "outputs": [],
   "source": [
    "# Partizipien falsch definiert?\n",
    "mask1 = lexeme_manuell.tab == 'Partizipien'\n",
    "mask2 = lexeme_manuell.verb == ''\n",
    "mask = mask1  &  mask2\n",
    "check_mask(lexeme_manuell,mask,0)"
   ]
  },
  {
   "cell_type": "code",
   "execution_count": null,
   "metadata": {
    "tags": []
   },
   "outputs": [],
   "source": [
    "# Partizipien falsch definiert?\n",
    "mask = lexeme_manuell.member.str.contains('Ptz')\n",
    "check_mask(lexeme_manuell,mask,0)"
   ]
  },
  {
   "cell_type": "code",
   "execution_count": null,
   "metadata": {
    "tags": []
   },
   "outputs": [],
   "source": [
    "# Abkürzungen falsch definiert?\n",
    "# Das Schlüsselwort 'Abkürzung' darf nirgends in lexeme_manuell vorkommen.\n",
    "mask1A = lexeme_manuell.member.str.contains('Abkürzung')\n",
    "mask1B = lexeme_manuell.member.str.contains('Abkürzung')\n",
    "mask = (mask1A | mask1B) \n",
    "check_mask(lexeme_manuell,mask,0)\n",
    "#lexeme_manuell[mask]"
   ]
  },
  {
   "cell_type": "code",
   "execution_count": null,
   "metadata": {
    "tags": []
   },
   "outputs": [],
   "source": [
    "# score\n",
    "lexeme_manuell['score'] = wiktionary.score.quantile(0.8)"
   ]
  },
  {
   "cell_type": "code",
   "execution_count": null,
   "metadata": {
    "tags": []
   },
   "outputs": [],
   "source": [
    "#pak.sample(zahlwörter_all)"
   ]
  },
  {
   "cell_type": "code",
   "execution_count": null,
   "metadata": {
    "tags": []
   },
   "outputs": [],
   "source": [
    "s = zahlwörter_all.columns\n",
    "t = lexeme_manuell.columns\n",
    "bpy.minivenn(s,t, format='print2')"
   ]
  },
  {
   "cell_type": "code",
   "execution_count": null,
   "metadata": {
    "tags": []
   },
   "outputs": [],
   "source": [
    "# assert subset\n",
    "assert set(zahlwörter_all.columns) - set(['def']) <= set(lexeme_manuell.columns)"
   ]
  },
  {
   "cell_type": "code",
   "execution_count": null,
   "metadata": {
    "tags": []
   },
   "outputs": [],
   "source": [
    "# zahlwörter_all anfügen\n",
    "lexeme_manuell = pak.add_rows(lexeme_manuell, zahlwörter_all)"
   ]
  },
  {
   "cell_type": "code",
   "execution_count": null,
   "metadata": {
    "tags": []
   },
   "outputs": [],
   "source": [
    "# tab analysieren\n",
    "pak.analyse_freqs( lexeme_manuell, cols=['tab','tag'])"
   ]
  },
  {
   "cell_type": "code",
   "execution_count": null,
   "metadata": {
    "tags": []
   },
   "outputs": [],
   "source": [
    "# NaN\n",
    "\n",
    "# def\n",
    "lexeme_manuell['def'] = lexeme_manuell['def'].fillna('')\n",
    "\n",
    "# def\n",
    "lexeme_manuell['verb'] = lexeme_manuell['verb'].fillna('')\n",
    "\n",
    "# member\n",
    "mask = lexeme_manuell.member.isnull()   |   lexeme_manuell.member.isin(['nan'])\n",
    "lexeme_manuell.loc[mask,'member'] = ''\n",
    "lexeme_manuell.member += ' manuell'\n",
    "\n",
    "# lemma und lex\n",
    "mask = lexeme_manuell.lemma.isnull()   |   lexeme_manuell.lemma.isin(['nan',''])\n",
    "lexeme_manuell.loc[mask,'lemma'] = lexeme_manuell[mask].lex\n",
    "#lexeme_manuell.loc[mask,'member'] += ' ergänzt'\n",
    "\n",
    "mask = lexeme_manuell.lex.isnull()   |   lexeme_manuell.lex.isin(['nan',''])\n",
    "lexeme_manuell.loc[mask,'lex'] = lexeme_manuell[mask].lemma\n",
    "#lexeme_manuell.loc[mask,'member'] += ' ergänzt'\n",
    "\n",
    "# genus\n",
    "mask = lexeme_manuell.genus.isnull()   |   lexeme_manuell.genus.isin(['nan'])\n",
    "lexeme_manuell.loc[mask,'genus'] = ''\n",
    "\n",
    "# tag_lex\n",
    "mask = lexeme_manuell.tag_lex.isnull()   |   lexeme_manuell.tag_lex.isin(['nan'])\n",
    "lexeme_manuell.loc[mask,'tag_lex'] = ''\n",
    "\n",
    "mask = (lexeme_manuell.lex != lexeme_manuell.lemma)   &   (lexeme_manuell.tag_lex == '')\n",
    "lexeme_manuell.loc[mask,'tag_lex'] = 'lex'\n",
    "\n",
    "mask = (lexeme_manuell.lex == lexeme_manuell.lemma)   &   (  (lexeme_manuell.tag_lex == 'lex')  | (lexeme_manuell.tag_lex == '')  )\n",
    "lexeme_manuell.loc[mask,'tag_lex'] = 'lemma'\n",
    "\n",
    "# tag\n",
    "mask = lexeme_manuell.tag.isnull()   |   lexeme_manuell.tag.isin(['nan',''])\n",
    "check_mask( lexeme_manuell, mask, 0, 0)\n",
    "\n",
    "# Abschluss\n",
    "lexeme_manuell.member = lexeme_manuell.member.str.strip()\n",
    "lexeme_manuell = pak.rename_col(lexeme_manuell, 'genus','Genus')\n",
    "\n",
    "#lexeme_manuell = pak.move_cols(lexeme_manuell, ['Genus','abk'], -1)\n",
    "#lexeme_manuell['abk'] = ''"
   ]
  },
  {
   "cell_type": "code",
   "execution_count": null,
   "metadata": {
    "tags": []
   },
   "outputs": [],
   "source": [
    "# Dups löschen\n",
    "mask = lexeme_manuell.duplicated()\n",
    "lexeme_manuell, df = pak.move_rows(lexeme_manuell,mask)\n",
    "grid(df)"
   ]
  },
  {
   "cell_type": "code",
   "execution_count": null,
   "metadata": {
    "tags": []
   },
   "outputs": [],
   "source": [
    "pak.sample(lexeme_manuell)"
   ]
  },
  {
   "cell_type": "code",
   "execution_count": null,
   "metadata": {
    "tags": []
   },
   "outputs": [],
   "source": [
    "# suche_debug\n",
    "search_str(lexeme_manuell, suche_debug)"
   ]
  },
  {
   "cell_type": "code",
   "execution_count": null,
   "metadata": {
    "tags": []
   },
   "outputs": [],
   "source": [
    "# strip\n",
    "for c in pak.col_names(lexeme_manuell, only='str'):\n",
    "    lexeme_manuell[c] = lexeme_manuell[c].str.replace('  ',' ').str.strip()"
   ]
  },
  {
   "cell_type": "code",
   "execution_count": null,
   "metadata": {
    "tags": []
   },
   "outputs": [],
   "source": [
    "# member analysieren\n",
    "pak.analyse_freqs( lexeme_manuell, cols=['member',], splits=[' '])"
   ]
  },
  {
   "cell_type": "code",
   "execution_count": null,
   "metadata": {
    "tags": []
   },
   "outputs": [],
   "source": [
    "# Derzeit nicht nötig: Ersetzungen im member\n",
    "r = {  'Abkürzungen'        :  'Abkürzung',      \n",
    "       'Abkürzung Abkürzung':  'Abkürzung',        \n",
    "    }\n",
    "lexeme_manuell['member'] = pak.replace_str(lexeme_manuell.member, r)\n",
    "#grid(lexeme_manuell)"
   ]
  },
  {
   "cell_type": "code",
   "execution_count": null,
   "metadata": {
    "tags": []
   },
   "outputs": [],
   "source": [
    "# Tab Esszett: tag_lex setzen\n",
    "mask1 = lexeme_manuell.tab == 'esszett'\n",
    "mask2A = lexeme_manuell.tag_lex == ''\n",
    "mask2B = lexeme_manuell.tag_lex == 'lex'\n",
    "mask = mask1  &  (mask2A | mask2B)\n",
    "check_mask(lexeme_manuell,mask,653)\n",
    "lexeme_manuell.loc[mask,'tag_lex'] = 'lexAlt'"
   ]
  },
  {
   "cell_type": "code",
   "execution_count": null,
   "metadata": {
    "tags": []
   },
   "outputs": [],
   "source": [
    "# Tab Esszett: member setzen\n",
    "mask1 =  lexeme_manuell.tab == 'esszett'\n",
    "mask2 = ~lexeme_manuell.member.str.contains('lexAlt')\n",
    "mask = mask1  &  mask2\n",
    "check_mask(lexeme_manuell,mask)\n",
    "lexeme_manuell.loc[mask,'member'] += 'lexAlt'"
   ]
  },
  {
   "cell_type": "code",
   "execution_count": null,
   "metadata": {
    "tags": []
   },
   "outputs": [],
   "source": [
    "# Tab Abkuerzungen: tag_lex setzen\n",
    "mask = (lexeme_manuell.tab == 'Abkuerzungen')\n",
    "lexeme_manuell.loc[mask,'tag_lex'] = 'abk'\n",
    "\n",
    "mask = lexeme_manuell.member.str.contains('Abkürzung')\n",
    "lexeme_manuell.loc[mask,'tag_lex'] = 'abk'"
   ]
  },
  {
   "cell_type": "code",
   "execution_count": null,
   "metadata": {
    "tags": []
   },
   "outputs": [],
   "source": [
    "# anschauen\n",
    "pak.sample(lexeme_manuell)"
   ]
  },
  {
   "cell_type": "code",
   "execution_count": null,
   "metadata": {},
   "outputs": [],
   "source": [
    "# suche_debug\n",
    "search_str(lexeme_manuell, suche_debug)"
   ]
  },
  {
   "cell_type": "code",
   "execution_count": null,
   "metadata": {
    "tags": []
   },
   "outputs": [],
   "source": [
    "# tag_lex analysieren\n",
    "r = pak.analyse_freqs(lexeme_manuell, ['tag_lex', 'lex', 'member'], splits=[None,None,' '])\n",
    "grid(r)"
   ]
  },
  {
   "cell_type": "code",
   "execution_count": null,
   "metadata": {},
   "outputs": [],
   "source": [
    "# Kopie erzeugen, verwenden wir später um alle Partizipien als Adjektive einpflegen zu können\n",
    "# TODO Nötig??\n",
    "lexeme_manuell_copy = lexeme_manuell.copy()"
   ]
  },
  {
   "cell_type": "code",
   "execution_count": null,
   "metadata": {
    "tags": []
   },
   "outputs": [],
   "source": [
    "# anschauen\n",
    "pak.sample(lexeme_manuell)"
   ]
  },
  {
   "cell_type": "code",
   "execution_count": null,
   "metadata": {
    "tags": []
   },
   "outputs": [],
   "source": [
    "# Spalte flexion erstellen und lex darin verpacken\n",
    "lexeme_manuell['lex_bak'] = lexeme_manuell.lex.copy()\n",
    "lexeme_manuell = pak.implode_to_defaultdict(lexeme_manuell, col_key='tag_lex', col_value='lex', col_result='flexion')"
   ]
  },
  {
   "cell_type": "code",
   "execution_count": null,
   "metadata": {
    "tags": []
   },
   "outputs": [],
   "source": [
    "# suche_debug\n",
    "#search_str(lexeme_manuell, suche_debug)"
   ]
  },
  {
   "cell_type": "code",
   "execution_count": null,
   "metadata": {
    "tags": []
   },
   "outputs": [],
   "source": [
    "# lex == lemma: flexion soll leeres defaultdict sein\n",
    "mask = (lexeme_manuell.lex_bak == lexeme_manuell.lemma) \n",
    "lexeme_manuell.loc[mask,'flexion'] = lexeme_manuell[mask].flexion.apply(lambda x: defaultdict(list))  # auf leeres defaultdict setzen\n",
    "lexeme_manuell = pak.drop_cols(lexeme_manuell, 'lex_bak')\n",
    "#grid(lexeme_manuell,~mask)"
   ]
  },
  {
   "cell_type": "code",
   "execution_count": null,
   "metadata": {
    "tags": []
   },
   "outputs": [],
   "source": [
    "# suche_debug\n",
    "search_str(lexeme_manuell, suche_debug)"
   ]
  },
  {
   "cell_type": "code",
   "execution_count": null,
   "metadata": {},
   "outputs": [],
   "source": [
    "# Weitere Spalten in flexion verpacken (mit cols_to_defaultdict\n",
    "lexeme_manuell = pak.cols_to_defaultdict(  lexeme_manuell, col_dict='flexion', cols_add=['Genus','def']   )  "
   ]
  },
  {
   "cell_type": "code",
   "execution_count": null,
   "metadata": {},
   "outputs": [],
   "source": [
    "# Spalte tab brauchen wir nicht mehr >> löschen\n",
    "lexeme_manuell = pak.drop_cols(lexeme_manuell, ['tab'])"
   ]
  },
  {
   "cell_type": "code",
   "execution_count": null,
   "metadata": {},
   "outputs": [],
   "source": [
    "# suche_debug\n",
    "#search_str(lexeme_manuell, suche_debug)"
   ]
  },
  {
   "cell_type": "code",
   "execution_count": null,
   "metadata": {},
   "outputs": [],
   "source": [
    "# gruppieren\n",
    "lexeme_manuell = pak.group_and_agg(lexeme_manuell,\n",
    "                               ['lemma', 'tag',   'member',             'verb',   'flexion',             'score', ],\n",
    "                               ['group', 'group',  pak.agg_words_nodup, 'group',   pak.agg_defaultdicts, 'max',   ],\n",
    "                               ['lemma', 'tag',   'member',             'verb',   'flexion',             'score', ]\n",
    "                              )"
   ]
  },
  {
   "cell_type": "code",
   "execution_count": null,
   "metadata": {},
   "outputs": [],
   "source": [
    "# Felder ergänzen\n",
    "lexeme_manuell['title']       = lexeme_manuell.lemma\n",
    "lexeme_manuell['lemma_lower'] = lexeme_manuell.lemma.str.lower() \n",
    "lexeme_manuell = pak.move_cols( lexeme_manuell, 'lemma_lower','lemma')"
   ]
  },
  {
   "cell_type": "code",
   "execution_count": null,
   "metadata": {},
   "outputs": [],
   "source": [
    "# tagZ und tagZZ ermitteln\n",
    "lexeme_manuell = pflege_tag_felder(lexeme_manuell, translate_tagZ)"
   ]
  },
  {
   "cell_type": "code",
   "execution_count": null,
   "metadata": {
    "tags": []
   },
   "outputs": [],
   "source": [
    "# anschauen\n",
    "grid(lexeme_manuell, pak.sample)"
   ]
  },
  {
   "cell_type": "code",
   "execution_count": null,
   "metadata": {
    "tags": []
   },
   "outputs": [],
   "source": [
    "# suche_debug\n",
    "search_str(lexeme_manuell, suche_debug)"
   ]
  },
  {
   "cell_type": "code",
   "execution_count": null,
   "metadata": {
    "tags": []
   },
   "outputs": [],
   "source": [
    "#suche_debug"
   ]
  },
  {
   "cell_type": "code",
   "execution_count": null,
   "metadata": {},
   "outputs": [],
   "source": [
    "# anschauen: mehr als ein tag\n",
    "mask = (lexeme_manuell.tag.str.split().str.len() > 1)\n",
    "lexeme_manuell[mask]"
   ]
  },
  {
   "cell_type": "code",
   "execution_count": null,
   "metadata": {},
   "outputs": [],
   "source": [
    "# section_id2 schreiben\n",
    "lexeme_manuell['section_id2'] = lexeme_manuell.lemma.str.replace(' ','_') + '_M'\n",
    "mask = lexeme_manuell.tag == 'CARD'\n",
    "lexeme_manuell.loc[mask,'section_id2'] = lexeme_manuell[mask].lemma.str.replace(' ','_') + '_Z'\n",
    "lexeme_manuell = pak.move_cols(lexeme_manuell, ['section_id2','title'])"
   ]
  },
  {
   "cell_type": "code",
   "execution_count": null,
   "metadata": {},
   "outputs": [],
   "source": [
    "# suche_debug\n",
    "#search_str(lexeme_manuell, suche_debug)"
   ]
  },
  {
   "cell_type": "code",
   "execution_count": null,
   "metadata": {},
   "outputs": [],
   "source": [
    "# Bekannte section_id2 aus wiktionary übertragen\n",
    "\n",
    "mask = (wiktionary.lemma == wiktionary.title)  # wichtig! Gerade die Datensätze, die nicht darunter fallen, verursachen Probleme bei Partizipien.\n",
    "\n",
    "# tagZZ\n",
    "lexeme_manuell = pak.update_col(lexeme_manuell, wiktionary[mask], on=['lemma_lower','tagZZ'], col='section_id2',  col_score='score'  )\n",
    "\n",
    "#tagZ\n",
    "lexeme_manuell = pak.update_col(lexeme_manuell, wiktionary[mask], on=['lemma_lower','tagZ'],  col='section_id2',  col_score='score'  )\n",
    "\n",
    "# tag\n",
    "lexeme_manuell = pak.update_col(lexeme_manuell, wiktionary[mask], on=['lemma_lower','tag'],   col='section_id2',  col_score='score'  )\n",
    "\n",
    "# Wenn ein sinnvoller tag fehlt, reicht lemma\n",
    "mask = (wiktionary.lemma == wiktionary.title)   &   wiktionary.tag.str.contains('TODO')\n",
    "lexeme_manuell = pak.update_col(lexeme_manuell, wiktionary[mask], on=['lemma'], col='section_id2',  col_score='score' )"
   ]
  },
  {
   "cell_type": "code",
   "execution_count": null,
   "metadata": {},
   "outputs": [],
   "source": [
    "# suche_debug\n",
    "search_str(lexeme_manuell, suche_debug)"
   ]
  },
  {
   "cell_type": "code",
   "execution_count": null,
   "metadata": {},
   "outputs": [],
   "source": [
    "# anschauen\n",
    "#grid(lexeme_manuell, pak.sample_100)"
   ]
  },
  {
   "cell_type": "code",
   "execution_count": null,
   "metadata": {
    "tags": []
   },
   "outputs": [],
   "source": [
    "# Neue Spalte\n",
    "wiktionary['verb'] = ''"
   ]
  },
  {
   "cell_type": "code",
   "execution_count": null,
   "metadata": {
    "tags": []
   },
   "outputs": [],
   "source": [
    "bpy.minivenn(wiktionary.columns, lexeme_manuell.columns, format='print2')"
   ]
  },
  {
   "cell_type": "code",
   "execution_count": null,
   "metadata": {
    "tags": []
   },
   "outputs": [],
   "source": [
    "# anfügen\n",
    "wiktionary = pak.add_rows(wiktionary, lexeme_manuell, assert_subset=True)"
   ]
  },
  {
   "cell_type": "code",
   "execution_count": null,
   "metadata": {
    "tags": []
   },
   "outputs": [],
   "source": [
    "# section_id2 ist jetzt nicht mehr eindeutig\n",
    "mask = wiktionary.duplicated(subset=['section_id2'], keep=False)\n",
    "check_mask(wiktionary,mask,5507) \n",
    "#a = wiktionary[mask].sort_values(['section_id2'])\n",
    "#grid(a)"
   ]
  },
  {
   "cell_type": "code",
   "execution_count": null,
   "metadata": {
    "tags": []
   },
   "outputs": [],
   "source": [
    "assert pak.ntypes(wiktionary.flexion) == 1"
   ]
  },
  {
   "cell_type": "markdown",
   "metadata": {},
   "source": [
    "## ipa, syllables & rhymes"
   ]
  },
  {
   "cell_type": "code",
   "execution_count": null,
   "metadata": {},
   "outputs": [],
   "source": [
    "# Datentypen sind in jeder Zeile gleich\n",
    "assert pak.ntypes(wiktionary.ipa) == 1\n",
    "assert pak.ntypes(wiktionary.syllables) == 1"
   ]
  },
  {
   "cell_type": "code",
   "execution_count": null,
   "metadata": {},
   "outputs": [],
   "source": [
    "# Listen zu Strings\n",
    "mask = ~wiktionary.ipa.isnull()\n",
    "wiktionary.loc[mask,'ipa'] = wiktionary[mask].ipa.str[0]\n",
    "\n",
    "mask = ~wiktionary.syllables.isnull()\n",
    "wiktionary.loc[mask,'syllables'] = wiktionary[mask].syllables.str.join('⇀')\n",
    "\n",
    "mask = ~wiktionary.rhymes.isnull()\n",
    "wiktionary.loc[mask,'rhymes'] = wiktionary[mask].rhymes.str[0]"
   ]
  },
  {
   "cell_type": "code",
   "execution_count": null,
   "metadata": {},
   "outputs": [],
   "source": [
    "# cols_to_defaultdict\n",
    "# 1 min\n",
    "wiktionary = pak.cols_to_defaultdict( wiktionary, col_dict='flexion', cols_add=['ipa','syllables','rhymes']  )"
   ]
  },
  {
   "cell_type": "code",
   "execution_count": null,
   "metadata": {},
   "outputs": [],
   "source": [
    "# wiktionary anschauen\n",
    "#grid(wiktionary, pak.sample)"
   ]
  },
  {
   "cell_type": "markdown",
   "metadata": {},
   "source": [
    "## flexion nach wiktionary_merkmal exploden\n",
    "* braucht viel RAM\n",
    "* hiernach muss die löschliste nochmal angewendet werden"
   ]
  },
  {
   "cell_type": "code",
   "execution_count": null,
   "metadata": {
    "tags": []
   },
   "outputs": [],
   "source": [
    "# flexion: vorbereiten\n",
    "# 5 min\n",
    "mask1 = wiktionary.flexion.notnull() \n",
    "mask2 = wiktionary.flexion != {}\n",
    "mask3 = wiktionary.flexion != defaultdict(list)\n",
    "mask = mask1  &  mask2  &  mask3 \n",
    "\n",
    "spalten = ['section_id2','flexion']\n",
    "df = pak.explode_dict(wiktionary[spalten][mask], col_dict='flexion', col_key='node_kontext', col_value='data', from_defaultdict=True)\n",
    "df['merkmal']    = 'flexion'\n",
    "df['node_debug'] = ''\n",
    "df['num']        = ''\n",
    "df['meta']       = ''"
   ]
  },
  {
   "cell_type": "code",
   "execution_count": null,
   "metadata": {},
   "outputs": [],
   "source": [
    "# change_datatype\n",
    "wiktionary = pak.change_datatype(wiktionary, verbose=False)"
   ]
  },
  {
   "cell_type": "code",
   "execution_count": null,
   "metadata": {},
   "outputs": [],
   "source": [
    "# Beispiel anschauen\n",
    "mask = df.section_id2 == suche_debug[0]\n",
    "grid(df,mask)"
   ]
  },
  {
   "cell_type": "code",
   "execution_count": null,
   "metadata": {},
   "outputs": [],
   "source": [
    "bpy.minivenn(wiktionary_merkmal.columns, df.columns, format='print2')"
   ]
  },
  {
   "cell_type": "code",
   "execution_count": null,
   "metadata": {},
   "outputs": [],
   "source": [
    "# an wiktionary_merkmal anfügen\n",
    "wiktionary_merkmal = pak.add_rows(wiktionary_merkmal, df, assert_subset=True)\n",
    "wiktionary   = pak.drop_cols(wiktionary, ['flexion'])  "
   ]
  },
  {
   "cell_type": "code",
   "execution_count": null,
   "metadata": {
    "tags": []
   },
   "outputs": [],
   "source": [
    "# suche_debug\n",
    "mask = wiktionary_merkmal.section_id2.isin(suche_debug[0:1])\n",
    "grid(wiktionary_merkmal[mask].sort_values(['section_id2','merkmal']))"
   ]
  },
  {
   "cell_type": "markdown",
   "metadata": {},
   "source": [
    "## Pflegen"
   ]
  },
  {
   "cell_type": "code",
   "execution_count": null,
   "metadata": {
    "tags": []
   },
   "outputs": [],
   "source": [
    "# suche_debug \n",
    "mask = wiktionary.title.isin(suche_debug)\n",
    "grid(wiktionary[mask].sort_values(['section_id2',]))"
   ]
  },
  {
   "cell_type": "code",
   "execution_count": null,
   "metadata": {
    "tags": []
   },
   "outputs": [],
   "source": [
    "# pflege_tag_felder (zur Sicherheit noch mal)\n",
    "wiktionary = pflege_tag_felder(wiktionary, translate_tagZ)"
   ]
  },
  {
   "cell_type": "code",
   "execution_count": null,
   "metadata": {
    "tags": []
   },
   "outputs": [],
   "source": [
    "# LEX-Kennzeichnung sollte eineindeutig sein, außer bei FIX\n",
    "mask1 =  wiktionary.tag.str.contains('LEX_')   \n",
    "mask2 =  wiktionary.tag.str.contains(' ')\n",
    "mask3 = ~wiktionary.tag.str.contains('FIX')\n",
    "mask = mask1  &  mask2  &  mask3\n",
    "check_mask(wiktionary,mask, 0)"
   ]
  },
  {
   "cell_type": "code",
   "execution_count": null,
   "metadata": {
    "tags": []
   },
   "outputs": [],
   "source": [
    "# inflected >> bool\n",
    "wiktionary['inflected'] = wiktionary.inflected.astype('bool')"
   ]
  },
  {
   "cell_type": "code",
   "execution_count": null,
   "metadata": {
    "tags": []
   },
   "outputs": [],
   "source": [
    "pak.nnan(wiktionary)"
   ]
  },
  {
   "cell_type": "code",
   "execution_count": null,
   "metadata": {
    "tags": []
   },
   "outputs": [],
   "source": [
    "# score\n",
    "mask = wiktionary.score.isnull()\n",
    "check_mask(wiktionary,mask,0)\n",
    "#wiktionary['score'] = wiktionary.score.fillna(wiktionary.score.quantile(0.95)).astype('float')"
   ]
  },
  {
   "cell_type": "code",
   "execution_count": null,
   "metadata": {
    "tags": []
   },
   "outputs": [],
   "source": [
    "pak.analyse_cols(wiktionary)"
   ]
  },
  {
   "cell_type": "code",
   "execution_count": null,
   "metadata": {
    "tags": []
   },
   "outputs": [],
   "source": [
    "#pak.sample(wiktionary)"
   ]
  },
  {
   "cell_type": "code",
   "execution_count": null,
   "metadata": {
    "tags": []
   },
   "outputs": [],
   "source": [
    "#a = pak.analyse_freqs(wiktionary,['member','tag','lemma'], splits=[' '])\n",
    "#gridt(a)"
   ]
  },
  {
   "cell_type": "code",
   "execution_count": null,
   "metadata": {
    "tags": []
   },
   "outputs": [],
   "source": [
    "#pak.sample(wiktionary)"
   ]
  },
  {
   "cell_type": "markdown",
   "metadata": {},
   "source": [
    "## Partizipien\n",
    "Die Partizipien finden sich<br> \n",
    "a) in wiktionary_lemma (als ADJ1 oder ADJ2) \n",
    "b) in wiktionary_merkmal (als Partizip-Flexion des Verbs)<br> "
   ]
  },
  {
   "cell_type": "code",
   "execution_count": null,
   "metadata": {
    "tags": []
   },
   "outputs": [],
   "source": [
    "# Diese Spalten brauchen wir nicht anzuzeigen\n",
    "without=['pos','tag_0','tag_1','lang','lang_code','error','lemma_lower']"
   ]
  },
  {
   "cell_type": "code",
   "execution_count": null,
   "metadata": {
    "tags": []
   },
   "outputs": [],
   "source": [
    "# manuelle Partizipien anschauen\n",
    "mask1 =  wiktionary.tag.isin(['ADJ1','ADJ2'])\n",
    "mask2 = wiktionary.member.str.contains('manuell')\n",
    "mask = mask1  &  mask2\n",
    "grid(wiktionary,mask,without=without)"
   ]
  },
  {
   "cell_type": "code",
   "execution_count": null,
   "metadata": {
    "tags": []
   },
   "outputs": [],
   "source": [
    "# Vergewissern: Alle Ptz1 sind ADJ1\n",
    "mask1 = wiktionary.member.str.contains('Ptz1')\n",
    "mask2 = wiktionary.tag != 'ADJ1'\n",
    "mask = mask1  &  mask2\n",
    "check_mask(wiktionary,mask,0)"
   ]
  },
  {
   "cell_type": "code",
   "execution_count": null,
   "metadata": {
    "tags": []
   },
   "outputs": [],
   "source": [
    "# Vergewissern: Alle Ptz2 sind ADJ2\n",
    "mask1 = wiktionary.member.str.contains('Ptz2')\n",
    "mask2 = wiktionary.tag != 'ADJ2'\n",
    "mask = mask1  &  mask2\n",
    "check_mask(wiktionary,mask,0)"
   ]
  },
  {
   "cell_type": "code",
   "execution_count": null,
   "metadata": {
    "tags": []
   },
   "outputs": [],
   "source": [
    "# Ptz-Markierung ganz aus member entfernen\n",
    "wiktionary['member'] = pak.remove_words(wiktionary.member, ['Ptz1','Ptz2'] )\n",
    "mask1 = wiktionary.member.str.contains('Ptz')\n",
    "check_mask(wiktionary,mask,0)"
   ]
  },
  {
   "cell_type": "code",
   "execution_count": null,
   "metadata": {
    "tags": []
   },
   "outputs": [],
   "source": [
    "# member säubern\n",
    "r = ['Adjektiv','Wortverbindung']\n",
    "mask = wiktionary.tag.isin(['ADJ1','ADJ2'])\n",
    "wiktionary.loc[mask,'member'] = pak.remove_str(wiktionary[mask].member,r)"
   ]
  },
  {
   "cell_type": "code",
   "execution_count": null,
   "metadata": {
    "tags": []
   },
   "outputs": [],
   "source": [
    "# Falsche Partizipien löschen\n",
    "falsche_partizipien = ['sehen','hören','wollen','lassen','mögen','sollen',]\n",
    "mask1 = wiktionary.title.isin(falsche_partizipien) \n",
    "mask2 =  wiktionary.tag.isin(['ADJ1','ADJ2'])\n",
    "mask = mask1  &  mask2 \n",
    "check_mask(wiktionary, mask, 0, 10)\n",
    "\n",
    "msg = 'Falsche Partizipien'\n",
    "wiktionary, wiktionary_trash = pak.move_rows(df_from=wiktionary, df_to=wiktionary_trash, mask=mask, msg=msg) \n",
    "grid(wiktionary_trash, msg,without=without)"
   ]
  },
  {
   "cell_type": "code",
   "execution_count": null,
   "metadata": {
    "tags": []
   },
   "outputs": [],
   "source": [
    "# Verb merken\n",
    "mask1 =  wiktionary.tag.isin(['ADJ1','ADJ2'])\n",
    "mask2 =  wiktionary.verb == ''  # oder ~wiktionary.member.str.contains('manuell')\n",
    "mask = mask1  &  mask2\n",
    "check_mask(wiktionary,mask,27150)\n",
    "\n",
    "wiktionary.loc[mask,'verb'] = wiktionary[mask].lemma.copy()\n",
    "grid(wiktionary,mask,without=without)"
   ]
  },
  {
   "cell_type": "code",
   "execution_count": null,
   "metadata": {
    "tags": []
   },
   "outputs": [],
   "source": [
    "# Verb korrigieren\n",
    "mask1 =  wiktionary.tag == 'ADJ1'\n",
    "mask2 = ~wiktionary.verb.str.endswith(verbendungen)\n",
    "mask3 =  wiktionary.verb.str.endswith('end')\n",
    "mask = mask1  &  mask2  &  mask3\n",
    "check_mask(wiktionary,mask,10)\n",
    "\n",
    "wiktionary.loc[mask,'verb'] = wiktionary[mask].lemma.str[:-1]\n",
    "grid(wiktionary,mask,without=without)"
   ]
  },
  {
   "cell_type": "code",
   "execution_count": null,
   "metadata": {
    "tags": []
   },
   "outputs": [],
   "source": [
    "# lemma = title setzen \n",
    "mask =  wiktionary.tag.isin(['ADJ1','ADJ2'])\n",
    "wiktionary.loc[mask,'lemma'] = wiktionary[mask].title\n",
    "check_mask(wiktionary,mask,27562)\n",
    "#grid(wiktionary,mask,without=without)"
   ]
  },
  {
   "cell_type": "code",
   "execution_count": null,
   "metadata": {
    "tags": []
   },
   "outputs": [],
   "source": [
    "# Irreparable Partizipien (werden als lexeme_manuell eingespeist)\n",
    "mask1 =  wiktionary.tag.isin(['ADJ1','ADJ2'])\n",
    "mask2 = ~wiktionary.verb.str.endswith(verbendungen)\n",
    "mask = mask1  &  mask2  \n",
    "check_mask(wiktionary,mask,5)\n",
    "\n",
    "#wiktionary.loc[mask,'tag']  = 'ADJA' # degradieren\n",
    "#wiktionary.loc[mask,'verb'] = '' \n",
    "#grid(wiktionary, mask)\n",
    "\n",
    "msg = 'Irreparable Partizipien'\n",
    "wiktionary, wiktionary_trash = pak.move_rows(df_from=wiktionary, df_to=wiktionary_trash, mask=mask, msg=msg) \n",
    "mask = wiktionary_trash.msg == msg\n",
    "prüfe_adja = set(wiktionary_trash[mask].lemma)\n",
    "spalten = wiktionary_trash.columns\n",
    "grid(wiktionary_trash, msg, without=without)"
   ]
  },
  {
   "cell_type": "code",
   "execution_count": null,
   "metadata": {
    "tags": []
   },
   "outputs": [],
   "source": [
    "# Statt zu löschen hätte man auch einfach normale 'ADJA'-Datensätze draus machen können.\n",
    "# Hier wird kontrolliert, ob denn für jeden gelöschten DS ein alternativer DS vorhanden ist.\n",
    "\n",
    "mask1 = wiktionary.tag.isin(['ADJ1','ADJ2','ADJA',])\n",
    "mask2 = wiktionary.lemma.isin(prüfe_adja)\n",
    "mask = mask1  &  mask2\n",
    "\n",
    "gefundene_adja = set(wiktionary[mask].lemma)\n",
    "assert prüfe_adja == gefundene_adja\n",
    "#bpy.minivenn(prüfe_adja,gefundene_adja,format='print2')"
   ]
  },
  {
   "cell_type": "code",
   "execution_count": null,
   "metadata": {
    "tags": []
   },
   "outputs": [],
   "source": [
    "# Wenn es verb nicht auch als Wort gibt, dann ist das Müll und kann weg.\n",
    "# Wenn man das nicht will: Als Partizipien in lexeme_manuell aufnehmen!\n",
    "\n",
    "mask_Verben = (wiktionary.tagZZ == 'V')  &  (wiktionary.lemma == wiktionary.title)\n",
    "mask1 = wiktionary.tag.isin(['ADJ1','ADJ2'])\n",
    "mask2 = ~wiktionary.verb.isin(wiktionary[mask_Verben].lemma)\n",
    "mask = mask1  &  mask2\n",
    "check_mask(wiktionary,mask,0,10)\n",
    "\n",
    "msg = 'Verb fehlt'\n",
    "wiktionary, wiktionary_trash = pak.move_rows(df_from=wiktionary, df_to=wiktionary_trash, mask=mask, msg=msg) \n",
    "grid(wiktionary_trash, msg, without=without)"
   ]
  },
  {
   "cell_type": "code",
   "execution_count": null,
   "metadata": {
    "tags": []
   },
   "outputs": [],
   "source": [
    "# data_id ermitteln\n",
    "wiktionary['data_id'] = ''\n",
    "mask_Verben = (wiktionary.tagZZ == 'V')  &  (wiktionary.lemma == wiktionary.title)\n",
    "\n",
    "mask = wiktionary.tag.isin(['ADJ1','ADJ2',])\n",
    "wiktionary.loc[mask] = pak.update_col( df_to   = wiktionary[mask],  \n",
    "                                       df_from = wiktionary[mask_Verben], \n",
    "                                       left_on='verb',       \n",
    "                                       right_on='lemma', \n",
    "                                       col_score='score',\n",
    "                                       col='section_id2', \n",
    "                                       col_rename='data_id'                                 \n",
    "                                    )"
   ]
  },
  {
   "cell_type": "code",
   "execution_count": null,
   "metadata": {
    "tags": []
   },
   "outputs": [],
   "source": [
    "# Alle Partizipien haben eine data_id abbekommen:\n",
    "# dann Spalte verb löschen\n",
    "mask1 = wiktionary.tag.isin(['ADJ1','ADJ2',])\n",
    "mask2 = wiktionary.data_id == ''\n",
    "mask = mask1  &  mask2\n",
    "check_mask(wiktionary,mask,0)\n",
    "\n",
    "wiktionary = pak.drop_cols(wiktionary, ['verb'] )"
   ]
  },
  {
   "cell_type": "code",
   "execution_count": null,
   "metadata": {
    "tags": []
   },
   "outputs": [],
   "source": [
    "# ergänze_felder nochmal\n",
    "mask = wiktionary.tag.isin(['ADJ1','ADJ2',])\n",
    "wiktionary.loc[mask] = ergänze_felder(wiktionary[mask])"
   ]
  },
  {
   "cell_type": "code",
   "execution_count": null,
   "metadata": {
    "tags": []
   },
   "outputs": [],
   "source": [
    "# anschauen\n",
    "mask1 = wiktionary.tag.isin(['ADJ1','ADJ2'])\n",
    "mask2 = wiktionary.member.str.contains('manuell')\n",
    "mask = mask1  &  mask2\n",
    "                                       \n",
    "grid( wiktionary[mask].sort_values(['tag','title']), pak.sample, without=without)"
   ]
  },
  {
   "cell_type": "markdown",
   "metadata": {},
   "source": [
    "### IDs zusammenlegen"
   ]
  },
  {
   "cell_type": "raw",
   "metadata": {
    "execution": {
     "iopub.status.busy": "2023-03-05T10:07:34.519553Z",
     "iopub.status.idle": "2023-03-05T10:07:34.519852Z",
     "shell.execute_reply": "2023-03-05T10:07:34.519716Z",
     "shell.execute_reply.started": "2023-03-05T10:07:34.519702Z"
    }
   },
   "source": [
    "mask1 = wiktionary.page_part == 0\n",
    "mask2 = wiktionary.tag == 'ADJA'\n",
    "main = "
   ]
  },
  {
   "cell_type": "code",
   "execution_count": null,
   "metadata": {
    "tags": []
   },
   "outputs": [],
   "source": [
    "search_str(wiktionary,'beeindruckend').sort_values('section_id2')"
   ]
  },
  {
   "cell_type": "markdown",
   "metadata": {},
   "source": [
    "### als Flexion des Verbs eintragen"
   ]
  },
  {
   "cell_type": "code",
   "execution_count": null,
   "metadata": {
    "tags": []
   },
   "outputs": [],
   "source": [
    "# wiktionary_merkmal_partizip erstellen\n",
    "spalten = ['data_id','lemma','section_id2','tag']\n",
    "mask = wiktionary.tag.isin(['ADJ1','ADJ2',])\n",
    "wiktionary_merkmal_partizip = wiktionary[mask][spalten].copy()\n",
    "\n",
    "wiktionary_merkmal_partizip = pak.rename_col(wiktionary_merkmal_partizip, 'section_id2',   'data_ID')\n",
    "wiktionary_merkmal_partizip = pak.rename_col(wiktionary_merkmal_partizip, 'data_id',       'section_id2')\n",
    "wiktionary_merkmal_partizip = pak.rename_col(wiktionary_merkmal_partizip, 'data_ID',       'data_id')\n",
    "wiktionary_merkmal_partizip = pak.rename_col(wiktionary_merkmal_partizip, 'lemma',         'data')\n",
    "wiktionary_merkmal_partizip['merkmal']      = 'Ptz' + wiktionary_merkmal_partizip.tag.str[-1]\n",
    "wiktionary_merkmal_partizip['node_debug']   = '' \n",
    "wiktionary_merkmal_partizip['node_kontext'] = '' \n",
    "wiktionary_merkmal_partizip['num']          = '' \n",
    "wiktionary_merkmal_partizip['meta']         = '' \n",
    "wiktionary_merkmal_partizip = pak.drop_cols(wiktionary_merkmal_partizip, 'tag')"
   ]
  },
  {
   "cell_type": "code",
   "execution_count": null,
   "metadata": {
    "tags": []
   },
   "outputs": [],
   "source": [
    "# anschauen\n",
    "pak.sample(wiktionary_merkmal_partizip)"
   ]
  },
  {
   "cell_type": "code",
   "execution_count": null,
   "metadata": {
    "tags": []
   },
   "outputs": [],
   "source": [
    "# wiktionary_partizip suche_debug\n",
    "search_str(wiktionary_merkmal_partizip, suche_debug)"
   ]
  },
  {
   "cell_type": "code",
   "execution_count": null,
   "metadata": {
    "tags": []
   },
   "outputs": [],
   "source": [
    "# Spalten vergleichen\n",
    "bpy.minivenn(wiktionary_merkmal.columns,wiktionary_merkmal_partizip.columns, format='print2')"
   ]
  },
  {
   "cell_type": "code",
   "execution_count": null,
   "metadata": {
    "tags": []
   },
   "outputs": [],
   "source": [
    "# wiktionary_merkmal_partizip als merkmal anfügen\n",
    "wiktionary_merkmal = pak.add_rows(wiktionary_merkmal, wiktionary_merkmal_partizip)"
   ]
  },
  {
   "cell_type": "code",
   "execution_count": null,
   "metadata": {
    "tags": []
   },
   "outputs": [],
   "source": [
    "# Einige als Adjektiv ungeeignete Partizipien löschen\n",
    "# (als Partizipformen des Verbs waren sie geeignet)\n",
    "mask1 =  wiktionary.tag.isin(['ADJ1','ADJ2'])\n",
    "mask2 = ~wiktionary.lemma.str.endswith(('d','t','en'))\n",
    "mask3 = ~wiktionary.lemma.isin(['vertan','angetan','zugetan'])\n",
    "mask = mask1  &  mask2  &  mask3\n",
    "check_mask(wiktionary,mask,36)\n",
    "\n",
    "msg = 'als Adjektiv ungeeignete Partizipien'\n",
    "wiktionary, wiktionary_trash = pak.move_rows(df_from=wiktionary, df_to=wiktionary_trash, mask=mask, msg=msg) \n",
    "grid(wiktionary_trash, msg)"
   ]
  },
  {
   "cell_type": "code",
   "execution_count": null,
   "metadata": {},
   "outputs": [],
   "source": [
    "raise Stop"
   ]
  },
  {
   "cell_type": "markdown",
   "metadata": {
    "execution": {
     "iopub.execute_input": "2023-03-04T10:14:53.782534Z",
     "iopub.status.busy": "2023-03-04T10:14:53.781570Z",
     "iopub.status.idle": "2023-03-04T10:14:53.817673Z",
     "shell.execute_reply": "2023-03-04T10:14:53.816991Z",
     "shell.execute_reply.started": "2023-03-04T10:14:53.782499Z"
    },
    "tags": []
   },
   "source": [
    "## wiktionary in 2 Teile aufsplitten"
   ]
  },
  {
   "cell_type": "markdown",
   "metadata": {},
   "source": [
    "### wiktionary_nolemma"
   ]
  },
  {
   "cell_type": "code",
   "execution_count": null,
   "metadata": {
    "tags": []
   },
   "outputs": [],
   "source": [
    "wiktionary_nolemma       = wiktionary.head(0)\n",
    "wiktionary_nolemma_trash = wiktionary.head(0)"
   ]
  },
  {
   "cell_type": "code",
   "execution_count": null,
   "metadata": {
    "tags": []
   },
   "outputs": [],
   "source": [
    "# LEX-Datensätze nach wiktionary_nolemma verschieben\n",
    "mask = wiktionary.tag.str.contains('LEX_')    \n",
    "check_mask(wiktionary,mask,639734)\n",
    "wiktionary, wiktionary_nolemma = pak.move_rows( df_from=wiktionary, df_to=wiktionary_nolemma, mask=mask, msg='tag_LEX' )  "
   ]
  },
  {
   "cell_type": "code",
   "execution_count": null,
   "metadata": {
    "tags": []
   },
   "outputs": [],
   "source": [
    "# auch nach wiktionary_nolemma verschieben\n",
    "mask = wiktionary.member.str.contains('Deklinierte_Form')   # 2 Datensätze\n",
    "check_mask(wiktionary, mask, 0, 10)\n",
    "wiktionary, wiktionary_nolemma = pak.move_rows( df_from=wiktionary, df_to=wiktionary_nolemma, mask=mask, msg='member_Deklinierte_Form' )  "
   ]
  },
  {
   "cell_type": "code",
   "execution_count": null,
   "metadata": {},
   "outputs": [],
   "source": [
    "# auch nach wiktionary_nolemma verschieben\n",
    "mask = (wiktionary.title != wiktionary.lemma)               \n",
    "check_mask(wiktionary, mask, 10)\n",
    "wiktionary, wiktionary_nolemma = pak.move_rows( df_from=wiktionary, df_to=wiktionary_nolemma, mask=mask, msg='title_ungleich_lemma' )  "
   ]
  },
  {
   "cell_type": "code",
   "execution_count": null,
   "metadata": {
    "tags": []
   },
   "outputs": [],
   "source": [
    "# wiktionary suche_debug\n",
    "grid(search_str(wiktionary_nolemma, suche_debug))"
   ]
  },
  {
   "cell_type": "code",
   "execution_count": null,
   "metadata": {},
   "outputs": [],
   "source": [
    "# wiktionary_nolemma: Spalten pflegen\n",
    "wiktionary_nolemma = pak.rename_col(wiktionary_nolemma, 'title', 'lex')\n",
    "wiktionary_nolemma = pak.rename_col(wiktionary_nolemma, 'section_id2','nolemma_id')\n",
    "wiktionary_nolemma = pak.rename_col(wiktionary_nolemma, 'score', 'data_score')\n",
    "wiktionary_nolemma = pak.drop_cols(wiktionary_nolemma, ['pos','tag_anz','ipa','syllables','msg','page_id','page_part','inflected','rhymes'])\n",
    "#wiktionary_nolemma = pak.rename_col( wiktionary_nolemma, 'tag_0', 'tag') # Jetzt gibt es definitiv keine Mehrfachtags mehr"
   ]
  },
  {
   "cell_type": "code",
   "execution_count": null,
   "metadata": {
    "tags": []
   },
   "outputs": [],
   "source": [
    "# anschauen\n",
    "pak.sample(wiktionary_nolemma)"
   ]
  },
  {
   "cell_type": "markdown",
   "metadata": {},
   "source": [
    "### wiktionary_lemma"
   ]
  },
  {
   "cell_type": "code",
   "execution_count": null,
   "metadata": {},
   "outputs": [],
   "source": [
    "# wiktionary_lemma: erstellen und Spalten pflegen\n",
    "wiktionary_lemma  = pak.drop_cols(wiktionary, ['title','pos'])\n",
    "wiktionary_lemma = pak.rename_col(wiktionary_lemma, 'score', 'lemma_score')"
   ]
  },
  {
   "cell_type": "code",
   "execution_count": null,
   "metadata": {
    "tags": []
   },
   "outputs": [],
   "source": [
    "wiktionary_lemma_trash = wiktionary_lemma.head(0)"
   ]
  },
  {
   "cell_type": "code",
   "execution_count": null,
   "metadata": {
    "tags": []
   },
   "outputs": [],
   "source": [
    "#del wiktionary"
   ]
  },
  {
   "cell_type": "code",
   "execution_count": null,
   "metadata": {
    "tags": []
   },
   "outputs": [],
   "source": [
    "# wiktionary_lemma suche_debug\n",
    "grid(search_str(wiktionary_lemma, suche_debug))"
   ]
  },
  {
   "cell_type": "markdown",
   "metadata": {},
   "source": [
    "## wiktionary_lemma weiterbearbeiten"
   ]
  },
  {
   "cell_type": "markdown",
   "metadata": {},
   "source": [
    "### Grundpflege"
   ]
  },
  {
   "cell_type": "code",
   "execution_count": null,
   "metadata": {
    "tags": []
   },
   "outputs": [],
   "source": [
    "# reset_index\n",
    "wiktionary_lemma = pak.reset_index(wiktionary_lemma)"
   ]
  },
  {
   "cell_type": "code",
   "execution_count": null,
   "metadata": {
    "tags": []
   },
   "outputs": [],
   "source": [
    "# drop_cols\n",
    "wiktionary_lemma = pak.drop_cols(wiktionary_lemma,['msg','inflected','error','lang','lang_code'])"
   ]
  },
  {
   "cell_type": "code",
   "execution_count": null,
   "metadata": {
    "tags": []
   },
   "outputs": [],
   "source": [
    "# ergänze_felder\n",
    "#from x32_Funktionen import *\n",
    "wiktionary_lemma = ergänze_felder(wiktionary_lemma)"
   ]
  },
  {
   "cell_type": "code",
   "execution_count": null,
   "metadata": {
    "tags": []
   },
   "outputs": [],
   "source": [
    "mask = wiktionary_lemma.lemma_score.isnull()\n",
    "wiktionary_lemma[mask]"
   ]
  },
  {
   "cell_type": "code",
   "execution_count": null,
   "metadata": {
    "tags": []
   },
   "outputs": [],
   "source": [
    "# NaN\n",
    "#wiktionary_lemma['lemma_score'] = wiktionary_lemma.lemma_score.fillna(0.45)\n",
    "assert not pak.any_nan(wiktionary_lemma, without=['page_id','page_part','data_id',])\n",
    "#pak.nnan(wiktionary_lemma)"
   ]
  },
  {
   "cell_type": "markdown",
   "metadata": {},
   "source": [
    "## wiktionary_merkmal_text"
   ]
  },
  {
   "cell_type": "code",
   "execution_count": null,
   "metadata": {},
   "outputs": [],
   "source": [
    "# ist schon geladen\n",
    "# wiktionary_merkmal_text = pak.load_pickle(wiktionary_merkmal_text_filename)\n",
    "assert not pak.any_nan(wiktionary_merkmal_text)\n",
    "# pak.nnan(wiktionary_merkmal_text)"
   ]
  },
  {
   "cell_type": "markdown",
   "metadata": {},
   "source": [
    "### Grundpflege"
   ]
  },
  {
   "cell_type": "code",
   "execution_count": null,
   "metadata": {},
   "outputs": [],
   "source": [
    "# drop_cols\n",
    "wiktionary_merkmal_text = pak.drop_cols( wiktionary_merkmal_text, ['section_id'])"
   ]
  },
  {
   "cell_type": "code",
   "execution_count": null,
   "metadata": {},
   "outputs": [],
   "source": [
    "# wiktionary_merkmal_text: list_to_string\n",
    "wiktionary_merkmal_text['num'] = pak.list_to_string(wiktionary_merkmal_text.num)"
   ]
  },
  {
   "cell_type": "code",
   "execution_count": null,
   "metadata": {},
   "outputs": [],
   "source": [
    "# wiktionary_merkmal_text: drop_duplicates\n",
    "vorher = wiktionary_merkmal_text.shape[0]\n",
    "wiktionary_merkmal_text = wiktionary_merkmal_text.drop_duplicates()\n",
    "nachher = wiktionary_merkmal_text.shape[0]\n",
    "print(vorher-nachher,'Datensätze gelöscht')"
   ]
  },
  {
   "cell_type": "code",
   "execution_count": null,
   "metadata": {
    "tags": []
   },
   "outputs": [],
   "source": [
    "pak.sample(wiktionary_merkmal_text)"
   ]
  },
  {
   "cell_type": "code",
   "execution_count": null,
   "metadata": {},
   "outputs": [],
   "source": [
    "# Grobreinigung \n",
    "\n",
    "r = { ' !':'!',  ' ?':'?',  ' ,':',',  ' en ':'en ',  ' e ':'e ',  ' en,':'en,',  ' e,':'e,',  ' es,':'es,',  '  ':' ', }\n",
    "wiktionary_merkmal_text['data'] = pak.replace_str( wiktionary_merkmal_text.data, r )\n",
    "\n",
    "r = ['[1]', '[2]', '[3]', '[4]', '[5]', '[6]', '[7]', '[8]', '[9]', '[10]', '[11]', '[12]', '[1a]', '[*]']\n",
    "wiktionary_merkmal_text['data'] = pak.remove_str( wiktionary_merkmal_text.data, r )"
   ]
  },
  {
   "cell_type": "code",
   "execution_count": null,
   "metadata": {},
   "outputs": [],
   "source": [
    "pak.nnan(wiktionary_lemma)"
   ]
  },
  {
   "cell_type": "markdown",
   "metadata": {},
   "source": [
    "### Aufzählungen in Einzeldatensätze aufsplitten\n",
    "* Die merkmale bsp_re und bsp_sp enthalten Aufzählungen. Diese werden in Einzeldatensätze aufgesplittet. \n",
    "* Das Feld rank_merkmal erhält die Reihenfolge."
   ]
  },
  {
   "cell_type": "code",
   "execution_count": null,
   "metadata": {},
   "outputs": [],
   "source": [
    "# Splitten vorbereiten\n",
    "\n",
    "mask = wiktionary_merkmal_text.merkmal.isin(['bsp_re','bsp_sp'])\n",
    "r = { '–':'➤',  '—':'➤',  ';':'➤',  '/':'➤',  }\n",
    "wiktionary_merkmal_text.loc[mask,'data'] = pak.replace_str( wiktionary_merkmal_text[mask].data, r )\n",
    "\n",
    "grid( wiktionary_merkmal_text, mask )"
   ]
  },
  {
   "cell_type": "code",
   "execution_count": null,
   "metadata": {},
   "outputs": [],
   "source": [
    "# rank_merkmal\n",
    "wiktionary_merkmal_text = wiktionary_merkmal_text.reset_index() # spalte 'index' erzeugen\n",
    "wiktionary_merkmal_text = pak.rank( wiktionary_merkmal_text, cols_group=['section_id2','merkmal'], col_score='index', find='min', col_target='rank_merkmal')\n",
    "wiktionary_merkmal_text = pak.rename_col(wiktionary_merkmal_text,'index','i')\n",
    "wiktionary_merkmal_text = pak.force_index(wiktionary_merkmal_text,'i')"
   ]
  },
  {
   "cell_type": "code",
   "execution_count": null,
   "metadata": {},
   "outputs": [],
   "source": [
    "# zu splittende Datensätze abtrennen\n",
    "mask1 = wiktionary_merkmal_text.merkmal.isin(['bsp_re','bsp_sp'])\n",
    "mask2 = wiktionary_merkmal_text.data.str.contains('➤')\n",
    "mask  = mask1  &  mask2\n",
    "\n",
    "wiktionary_merkmal_text, df = pak.move_rows( wiktionary_merkmal_text, mask, msg=None )"
   ]
  },
  {
   "cell_type": "code",
   "execution_count": null,
   "metadata": {
    "tags": []
   },
   "outputs": [],
   "source": [
    "# splitten\n",
    "df['data'] = df.data.str.split('➤')\n",
    "df = df.explode('data')"
   ]
  },
  {
   "cell_type": "code",
   "execution_count": null,
   "metadata": {},
   "outputs": [],
   "source": [
    "df.head(5)"
   ]
  },
  {
   "cell_type": "code",
   "execution_count": null,
   "metadata": {},
   "outputs": [],
   "source": [
    "# rank_merkmal2\n",
    "df = df.reset_index()\n",
    "df = pak.rank(df, cols_group=['section_id2','merkmal','rank_merkmal'], col_score='i', find='min', col_target='rank_merkmal2')\n",
    "df = pak.force_index(df,'i')"
   ]
  },
  {
   "cell_type": "code",
   "execution_count": null,
   "metadata": {
    "tags": []
   },
   "outputs": [],
   "source": [
    "bpy.minivenn(wiktionary_merkmal_text.columns, df.columns, format='print2')"
   ]
  },
  {
   "cell_type": "code",
   "execution_count": null,
   "metadata": {},
   "outputs": [],
   "source": [
    "df.head(5)"
   ]
  },
  {
   "cell_type": "code",
   "execution_count": null,
   "metadata": {
    "tags": []
   },
   "outputs": [],
   "source": [
    "# wieder anfügen\n",
    "wiktionary_merkmal_text = pak.add_rows(wiktionary_merkmal_text, df)\n",
    "wiktionary_merkmal_text['rank_merkmal2'] = wiktionary_merkmal_text.rank_merkmal2.fillna(0) "
   ]
  },
  {
   "cell_type": "code",
   "execution_count": null,
   "metadata": {
    "tags": []
   },
   "outputs": [],
   "source": [
    "# rank_merkmal endgültig schreiben\n",
    "assert wiktionary_merkmal_text.rank_merkmal2.max() < 100\n",
    "assert not pak.any_nan(wiktionary_merkmal_text.rank_merkmal)\n",
    "assert not pak.any_nan(wiktionary_merkmal_text.rank_merkmal2)\n",
    "wiktionary_merkmal_text['rank_merkmal'] = (wiktionary_merkmal_text.rank_merkmal * 100 + wiktionary_merkmal_text.rank_merkmal2).astype('int')\n",
    "wiktionary_merkmal_text = pak.drop_cols(wiktionary_merkmal_text,['rank_merkmal2'])"
   ]
  },
  {
   "cell_type": "code",
   "execution_count": null,
   "metadata": {},
   "outputs": [],
   "source": [
    "#mask = wiktionary_merkmal_text.merkmal.isin( ['bsp_re'] )\n",
    "#grid(wiktionary_merkmal_text,mask)"
   ]
  },
  {
   "cell_type": "markdown",
   "metadata": {},
   "source": [
    "## Preprocessing"
   ]
  },
  {
   "cell_type": "code",
   "execution_count": null,
   "metadata": {
    "tags": []
   },
   "outputs": [],
   "source": [
    "text = '€ ' + bj_nlp.TESTTEXT_0\n",
    "text"
   ]
  },
  {
   "cell_type": "code",
   "execution_count": null,
   "metadata": {
    "tags": []
   },
   "outputs": [],
   "source": [
    "# Standardkonfiguration\n",
    "bj_nlp.preprocess(text)"
   ]
  },
  {
   "cell_type": "code",
   "execution_count": null,
   "metadata": {},
   "outputs": [],
   "source": [
    "a = 'Hej U+1F600 världen'\n",
    "print(a)"
   ]
  },
  {
   "cell_type": "code",
   "execution_count": null,
   "metadata": {},
   "outputs": [],
   "source": [
    "pak.analyse_datatypes(wiktionary_merkmal)"
   ]
  },
  {
   "cell_type": "code",
   "execution_count": null,
   "metadata": {
    "tags": []
   },
   "outputs": [],
   "source": [
    "# wiktionary_lemma\n",
    "cols = pak.col_names(wiktionary_lemma, only='str')\n",
    "cols = [ c for c in cols if c not in ['error']  and not c.startswith('tag')] \n",
    "#print(cols)\n",
    "\n",
    "for feld in cols:\n",
    "    print(feld)\n",
    "    wiktionary_lemma[feld] = wiktionary_lemma[feld].fillna('').apply(   lambda x: bj_nlp.preprocess(x)       )"
   ]
  },
  {
   "cell_type": "code",
   "execution_count": null,
   "metadata": {
    "tags": []
   },
   "outputs": [],
   "source": [
    "# wiktionary_nolemma\n",
    "cols = pak.col_names(wiktionary_nolemma, only='str')\n",
    "cols = [ c for c in cols if c not in ['error']  and not c.startswith('tag')] \n",
    "#print(cols)\n",
    "\n",
    "for feld in cols:\n",
    "    print(feld)\n",
    "    wiktionary_nolemma[feld] = wiktionary_nolemma[feld].fillna('').apply(   lambda x: bj_nlp.preprocess(x)   )"
   ]
  },
  {
   "cell_type": "code",
   "execution_count": null,
   "metadata": {
    "tags": []
   },
   "outputs": [],
   "source": [
    "# wiktionary_merkmal\n",
    "\n",
    "if gründlich:\n",
    "    cols = pak.col_names(wiktionary_merkmal, only='str')\n",
    "    cols = [ c for c in cols if c not in ['error']  and not c.startswith('tag')] \n",
    "    # print(cols)\n",
    "    \n",
    "    for feld in cols:\n",
    "        print(feld)\n",
    "        wiktionary_merkmal[feld] = wiktionary_merkmal[feld].fillna('').apply(   lambda x: bj_nlp.preprocess(x)   )"
   ]
  },
  {
   "cell_type": "code",
   "execution_count": null,
   "metadata": {
    "tags": []
   },
   "outputs": [],
   "source": [
    "# Doppelspaces prüfen\n",
    "if gründlich:\n",
    "    mask = wiktionary_merkmal.data.str.contains('  ')\n",
    "    check_mask( wiktionary_merkmal, mask, 0)\n",
    "    #wiktionary_merkmal[mask]"
   ]
  },
  {
   "cell_type": "code",
   "execution_count": null,
   "metadata": {
    "tags": []
   },
   "outputs": [],
   "source": [
    "# wiktionary_merkmal_text\n",
    "\n",
    "if gründlich:\n",
    "    cols = pak.col_names(wiktionary_merkmal_text, only='str')\n",
    "    cols = [ c for c in cols if c not in ['error']  and not c.startswith('tag')] \n",
    "    #print(cols)\n",
    "    \n",
    "    for feld in cols:\n",
    "        print(feld)\n",
    "        wiktionary_merkmal_text[feld] = wiktionary_merkmal_text[feld].fillna('').apply(   lambda x: bj_nlp.preprocess(x)   )"
   ]
  },
  {
   "cell_type": "markdown",
   "metadata": {},
   "source": [
    "## Sonderzeichen"
   ]
  },
  {
   "cell_type": "code",
   "execution_count": null,
   "metadata": {
    "tags": []
   },
   "outputs": [],
   "source": [
    "# Sonderfälle\n",
    "#mask = wiktionary_merkmal.data.str.contains('{{')\n",
    "r = { '{{NNBSP}}'   :   ' '  ,   \n",
    "             \"''\"   :   ''   ,\n",
    "    }\n",
    "wiktionary_merkmal['data'] = pak.replace_str(wiktionary_merkmal.data, r)"
   ]
  },
  {
   "cell_type": "code",
   "execution_count": null,
   "metadata": {
    "tags": []
   },
   "outputs": [],
   "source": [
    "# Beispiel anschauen\n",
    "mask = wiktionary_merkmal.section_id2 == suche_debug[0]\n",
    "grid(wiktionary_merkmal,mask)"
   ]
  },
  {
   "cell_type": "code",
   "execution_count": null,
   "metadata": {
    "tags": []
   },
   "outputs": [],
   "source": [
    "# wiktionary_lemma enthält nicht_erlaubte_sonderzeichen (siehe Steuertabellen)\n",
    "mask = wiktionary_lemma.lemma.str.contains(nicht_erlaubte_sonderzeichen_lemma)   &   ~wiktionary_lemma.section_id2.str.endswith('_M')\n",
    "check_mask(wiktionary_lemma, mask, 0, 50)\n",
    "\n",
    "msg = 'lemma_nicht_erlaubte_sonderzeichen'\n",
    "wiktionary_lemma, wiktionary_lemma_trash = pak.move_rows(df_from=wiktionary_lemma, df_to=wiktionary_lemma_trash, mask=mask, msg=msg)\n",
    "grid(wiktionary_lemma_trash,msg, color='green')"
   ]
  },
  {
   "cell_type": "code",
   "execution_count": null,
   "metadata": {
    "tags": []
   },
   "outputs": [],
   "source": [
    "# wiktionary_nolemma enthält nicht_erlaubte_sonderzeichen\n",
    "mask = wiktionary_nolemma.lemma.str.contains(nicht_erlaubte_sonderzeichen_lemma) # siehe Steuertabellen\n",
    "check_mask(wiktionary_nolemma, mask, 0, 100)\n",
    "\n",
    "msg='lemma_nicht_erlaubte_sonderzeichen'\n",
    "wiktionary_nolemma, wiktionary_nolemma_trash = pak.move_rows(df_from=wiktionary_nolemma, df_to=wiktionary_nolemma_trash, mask=mask, msg=msg)\n",
    "grid(wiktionary_nolemma_trash,msg, color='green')"
   ]
  },
  {
   "cell_type": "code",
   "execution_count": null,
   "metadata": {
    "tags": []
   },
   "outputs": [],
   "source": [
    "# wiktionary_nolemma enthält nicht_erlaubte_sonderzeichen\n",
    "mask = wiktionary_nolemma.lex.str.contains(nicht_erlaubte_sonderzeichen_lemma) # siehe Steuertabellen\n",
    "check_mask(wiktionary_nolemma, mask, 0, 100)\n",
    "\n",
    "msg='lex_nicht_erlaubte_sonderzeichen'\n",
    "wiktionary_nolemma, wiktionary_nolemma_trash = pak.move_rows(df_from=wiktionary_nolemma, df_to=wiktionary_nolemma_trash, mask=mask, msg=msg)\n",
    "grid(wiktionary_nolemma_trash,msg, color='green')"
   ]
  },
  {
   "cell_type": "code",
   "execution_count": null,
   "metadata": {
    "tags": []
   },
   "outputs": [],
   "source": [
    "# data remove_str\n",
    "r = ['Verzeichnis:Deutsch/','Verzeichnis:','<sub>','</sub>','<sup>','</sup>','Wikipedia:de:','Wikipedia:',]\n",
    "wiktionary_merkmal['data'] = pak.remove_str(wiktionary_merkmal.data, r )"
   ]
  },
  {
   "cell_type": "code",
   "execution_count": null,
   "metadata": {
    "tags": []
   },
   "outputs": [],
   "source": [
    "# data enthält Reste von Tags >> absplitten\n",
    "mask = wiktionary_merkmal.data.str.contains('<',regex=False)\n",
    "wiktionary_merkmal.loc[mask,'data'] = wiktionary_merkmal[mask].data.str.split('<').str[0]\n",
    "#wiktionary_merkmal[mask]"
   ]
  },
  {
   "cell_type": "code",
   "execution_count": null,
   "metadata": {
    "tags": []
   },
   "outputs": [],
   "source": [
    "# data enthält Reste von Tags >> absplitten\n",
    "mask = wiktionary_merkmal.data.str.contains('{',regex=False)\n",
    "wiktionary_merkmal.loc[mask,'data'] = wiktionary_merkmal[mask].data.str.split('{').str[0]\n",
    "#wiktionary_merkmal[mask]"
   ]
  },
  {
   "cell_type": "code",
   "execution_count": null,
   "metadata": {
    "tags": []
   },
   "outputs": [],
   "source": [
    "# wiktionary_merkmal data belöschen\n",
    "mask = wiktionary_merkmal.data.str.startswith(('http:','https:'))\n",
    "check_mask(wiktionary_merkmal, mask, 65)\n",
    "\n",
    "msg='data_startswith'\n",
    "wiktionary_merkmal, wiktionary_merkmal_trash = pak.move_rows( df_from=wiktionary_merkmal, df_to=wiktionary_merkmal_trash, mask=mask, msg=msg)\n",
    "grid(wiktionary_merkmal_trash,msg, color='green')"
   ]
  },
  {
   "cell_type": "code",
   "execution_count": null,
   "metadata": {
    "tags": []
   },
   "outputs": [],
   "source": [
    "# wiktionary_merkmal data belöschen\n",
    "mask = wiktionary_merkmal.data.str.lower().str.endswith(('.jpg','.png','.gif'))\n",
    "check_mask(wiktionary_merkmal, mask, 6)\n",
    "\n",
    "msg='data_endswith'\n",
    "wiktionary_merkmal, wiktionary_merkmal_trash = pak.move_rows( df_from=wiktionary_merkmal, df_to=wiktionary_merkmal_trash, mask=mask, msg=msg)\n",
    "grid(wiktionary_merkmal_trash,msg, color='green')"
   ]
  },
  {
   "cell_type": "code",
   "execution_count": null,
   "metadata": {
    "tags": []
   },
   "outputs": [],
   "source": [
    "# wiktionary_merkmal node_kontext belöschen\n",
    "mask = wiktionary_merkmal.node_kontext.str.startswith(('mini|','thumb|','|'))\n",
    "check_mask(wiktionary_merkmal, mask, 40)\n",
    "\n",
    "msg='node_kontext_startswith'\n",
    "wiktionary_merkmal, wiktionary_merkmal_trash = pak.move_rows( df_from=wiktionary_merkmal, df_to=wiktionary_merkmal_trash, mask=mask, msg=msg)\n",
    "grid(wiktionary_merkmal_trash,msg, color='green')"
   ]
  },
  {
   "cell_type": "code",
   "execution_count": null,
   "metadata": {
    "tags": []
   },
   "outputs": [],
   "source": [
    "# wiktionary_merkmal node_kontext belöschen\n",
    "mask = wiktionary_merkmal.node_kontext.str.contains('px|', regex=False)\n",
    "check_mask(wiktionary_merkmal, mask, 3)\n",
    "\n",
    "msg='node_kontext_contains'\n",
    "wiktionary_merkmal, wiktionary_merkmal_trash = pak.move_rows( df_from=wiktionary_merkmal, df_to=wiktionary_merkmal_trash, mask=mask, msg=msg)\n",
    "grid(wiktionary_merkmal_trash,msg, color='green')"
   ]
  },
  {
   "cell_type": "code",
   "execution_count": null,
   "metadata": {
    "tags": []
   },
   "outputs": [],
   "source": [
    "# wiktionary_merkmal enthält nicht_erlaubte_sonderzeichen\n",
    "# Das weist auf Fehler beim Parsen hin >> löschen\n",
    "\n",
    "felder = ['node_debug','node_kontext','meta','data'] \n",
    "for feld in felder: \n",
    "    mask = wiktionary_merkmal[feld].str.contains(nicht_erlaubte_sonderzeichen_gnädig) \n",
    "    print(feld, wiktionary_merkmal[mask].shape[0], 'Datensätze')\n",
    "    wiktionary_merkmal, wiktionary_merkmal_trash = pak.move_rows( df_from=wiktionary_merkmal, df_to=wiktionary_merkmal_trash, mask=mask, msg= feld + '_sonderzeichen', verbose=False)"
   ]
  },
  {
   "cell_type": "code",
   "execution_count": null,
   "metadata": {
    "tags": []
   },
   "outputs": [],
   "source": [
    "# Häufigkeiten\n",
    "mask = wiktionary_merkmal_trash.msg.str.endswith('_sonderzeichen')\n",
    "a = pak.analyse_freqs(wiktionary_merkmal_trash[mask], ['msg','merkmal'])\n",
    "a"
   ]
  },
  {
   "cell_type": "code",
   "execution_count": null,
   "metadata": {
    "tags": []
   },
   "outputs": [],
   "source": [
    "# Anzeigen\n",
    "#mask = wiktionary_merkmal_trash.msg.str.endswith('_sonderzeichen')\n",
    "#gridt(wiktionary_merkmal_trash[mask])"
   ]
  },
  {
   "cell_type": "code",
   "execution_count": null,
   "metadata": {
    "tags": []
   },
   "outputs": [],
   "source": [
    "assert not pak.any_nan(wiktionary_merkmal.data) "
   ]
  },
  {
   "cell_type": "code",
   "execution_count": null,
   "metadata": {
    "tags": []
   },
   "outputs": [],
   "source": [
    "#a = pak.analyse_freqs(wiktionary_merkmal_trash,['msg','data','meta'])\n",
    "#grid(a)"
   ]
  },
  {
   "cell_type": "code",
   "execution_count": null,
   "metadata": {},
   "outputs": [],
   "source": [
    "#mask = (wiktionary_merkmal_trash.msg == 'data_endswith')\n",
    "#grid(wiktionary_merkmal_trash,mask)"
   ]
  },
  {
   "cell_type": "code",
   "execution_count": null,
   "metadata": {
    "tags": []
   },
   "outputs": [],
   "source": [
    "# Beispiel anschauen\n",
    "#mask = wiktionary_merkmal.section_id2 == suche_debug[0]\n",
    "#grid(wiktionary_merkmal,mask)"
   ]
  },
  {
   "cell_type": "markdown",
   "metadata": {},
   "source": [
    "## wiktionary_merkmal"
   ]
  },
  {
   "cell_type": "markdown",
   "metadata": {},
   "source": [
    "### node_debug >> member\n",
    "* member durch Daten aus der Spalte node_debug ergänzen"
   ]
  },
  {
   "cell_type": "code",
   "execution_count": null,
   "metadata": {
    "tags": []
   },
   "outputs": [],
   "source": [
    "# übersicht reinigen mit remove_str und replace_str\n",
    "mask = (wiktionary_merkmal.merkmal == 'übersicht')\n",
    "r = ['-sch', 'Bairisch','Deutsch', ' f',' m',' n', 'Übersicht']\n",
    "wiktionary_merkmal.loc[mask, 'node_debug'] = pak.remove_str(wiktionary_merkmal[mask].node_debug, r)\n",
    "\n",
    "r = {'Pronomina-Tabelle': 'Pronomen', 'adjektivisch':'adjNN', 'Eigenname':'Name'}\n",
    "wiktionary_merkmal.loc[mask, 'node_debug'] = pak.replace_str(wiktionary_merkmal[mask].node_debug, r)"
   ]
  },
  {
   "cell_type": "code",
   "execution_count": null,
   "metadata": {
    "tags": []
   },
   "outputs": [],
   "source": [
    "# Was enthält node_debug?\n",
    "mask = (wiktionary_merkmal.merkmal == 'übersicht')\n",
    "a = pak.analyse_freqs(wiktionary_merkmal[mask], ['node_debug', 'section_id2'], splits=[' ',None])\n",
    "a"
   ]
  },
  {
   "cell_type": "code",
   "execution_count": null,
   "metadata": {
    "tags": []
   },
   "outputs": [],
   "source": [
    "# member_plus festlegen\n",
    "mask = (wiktionary_merkmal.merkmal == 'übersicht')   &   (wiktionary_merkmal.node_debug.str.len() > 0)\n",
    "spalten = ['section_id2','node_debug']\n",
    "df = wiktionary_merkmal[mask][spalten].drop_duplicates()\n",
    "df.columns = ['section_id2','member_plus']\n",
    "#grid(df,sample)"
   ]
  },
  {
   "cell_type": "code",
   "execution_count": null,
   "metadata": {
    "tags": []
   },
   "outputs": [],
   "source": [
    "# an member anhängen\n",
    "wiktionary_lemma = pak.update_col(wiktionary_lemma, df, on='section_id2',col='member_plus')\n",
    "mask = (wiktionary_lemma.member_plus.str.len() > 0)\n",
    "wiktionary_lemma.loc[mask,'member'] = wiktionary_lemma[mask].member.str.strip() + ' ' + wiktionary_lemma[mask].member_plus.str.strip()\n",
    "wiktionary_lemma = pak.drop_cols(wiktionary_lemma, 'member_plus')"
   ]
  },
  {
   "cell_type": "code",
   "execution_count": null,
   "metadata": {
    "tags": []
   },
   "outputs": [],
   "source": [
    "# node_debug leeren\n",
    "mask = (wiktionary_merkmal.merkmal == 'übersicht')\n",
    "wiktionary_merkmal.loc[mask,'node_debug'] = ''"
   ]
  },
  {
   "cell_type": "code",
   "execution_count": null,
   "metadata": {
    "tags": []
   },
   "outputs": [],
   "source": [
    "# Letzte Löschungen\n",
    "r = ['Wortart fehlt']\n",
    "wiktionary_merkmal.node_debug = pak.remove_str( wiktionary_merkmal.node_debug, r )"
   ]
  },
  {
   "cell_type": "code",
   "execution_count": null,
   "metadata": {
    "tags": []
   },
   "outputs": [],
   "source": [
    "# node_debug löschen (müsste jetzt überall leer sein)\n",
    "mask = (wiktionary_merkmal.node_debug.str.len() > 0)\n",
    "if version == '_all':\n",
    "    check_mask(wiktionary_merkmal, mask, 0, 0)\n",
    "wiktionary_merkmal = pak.drop_cols(wiktionary_merkmal, 'node_debug')   "
   ]
  },
  {
   "cell_type": "markdown",
   "metadata": {},
   "source": [
    "### übersicht und flexion\n",
    "* aus wiktionary_merkmal herausnehmen, pflegen und wieder anfügen"
   ]
  },
  {
   "cell_type": "code",
   "execution_count": null,
   "metadata": {
    "tags": []
   },
   "outputs": [],
   "source": [
    "# Beispiel anschauen\n",
    "#mask = wiktionary_merkmal.section_id2 == suche_debug[0]\n",
    "#grid(wiktionary_merkmal,mask)"
   ]
  },
  {
   "cell_type": "code",
   "execution_count": null,
   "metadata": {
    "tags": []
   },
   "outputs": [],
   "source": [
    "# nach flexion auslagern\n",
    "mask = wiktionary_merkmal.merkmal.isin(['übersicht','flexion']) \n",
    "wiktionary_merkmal, flexion = pak.move_rows( wiktionary_merkmal, mask, msg=None ) \n",
    "flexion_trash = flexion.head(0)"
   ]
  },
  {
   "cell_type": "code",
   "execution_count": null,
   "metadata": {
    "tags": []
   },
   "outputs": [],
   "source": [
    "mask = flexion.data == '€'\n",
    "flexion[mask]"
   ]
  },
  {
   "cell_type": "code",
   "execution_count": null,
   "metadata": {
    "tags": []
   },
   "outputs": [],
   "source": [
    "# In wiktionary_merkmal ist node_kontext jetzt überflüssig\n",
    "wiktionary_merkmal = pak.drop_cols(wiktionary_merkmal, 'node_kontext') "
   ]
  },
  {
   "cell_type": "code",
   "execution_count": null,
   "metadata": {
    "tags": []
   },
   "outputs": [],
   "source": [
    "flexion = pak.rename_col(flexion, 'merkmal',      'quelle')\n",
    "flexion = pak.rename_col(flexion, 'node_kontext', 'merkmal_lang')\n",
    "flexion = pak.drop_cols(flexion, ['num','meta','msg','section_id','quelle'])\n",
    "flexion['merkmal'] = flexion.merkmal_lang.copy()\n",
    "flexion = pak.move_cols( flexion, ['section_id2', 'merkmal_lang', 'merkmal', 'data'])"
   ]
  },
  {
   "cell_type": "code",
   "execution_count": null,
   "metadata": {
    "tags": []
   },
   "outputs": [],
   "source": [
    "# Dups entfernen\n",
    "flexion = pak.reset_index(flexion.drop_duplicates())"
   ]
  },
  {
   "cell_type": "code",
   "execution_count": null,
   "metadata": {
    "tags": []
   },
   "outputs": [],
   "source": [
    "# meta schreiben\n",
    "# dazu lexeme_manuell nochmal aufklappen, um an die lexeme heranzukommen\n",
    "df = pak.explode_dict(lexeme_manuell, col_dict='flexion', col_key='key', col_value='data', from_defaultdict=True)\n",
    "mask = df.section_id2 == 'und'\n",
    "df[mask]"
   ]
  },
  {
   "cell_type": "code",
   "execution_count": null,
   "metadata": {
    "tags": []
   },
   "outputs": [],
   "source": [
    "# meta schreiben\n",
    "flexion['meta'] = ''\n",
    "mask = pak.isin( flexion, df, on=['section_id2','data'])\n",
    "check_mask(flexion,mask)\n",
    "flexion.loc[mask,'meta'] = 'manuell'"
   ]
  },
  {
   "cell_type": "code",
   "execution_count": null,
   "metadata": {
    "tags": []
   },
   "outputs": [],
   "source": [
    "# abspalten\n",
    "flexion, df = pak.move_rows(flexion, mask, msg=None)\n",
    "\n",
    "# auswählen\n",
    "df = df.drop_duplicates(subset=['section_id2','merkmal'])\n",
    "\n",
    "# wieder anfügen\n",
    "flexion = pak.add_rows(flexion, df, assert_subset=True)"
   ]
  },
  {
   "cell_type": "code",
   "execution_count": null,
   "metadata": {
    "tags": []
   },
   "outputs": [],
   "source": [
    "# merkmal reinigen\n",
    "\n",
    "# 'Ptz1' und 'Ptz2' maskieren\n",
    "flexion['merkmal'] = pak.replace_str(flexion.merkmal, {'Ptz1':'PtzA', 'Ptz2':'PtzB'})\n",
    "\n",
    "# merkmal reinigen\n",
    "r = ['*','1','2','3','4','stark','schwach','gemischt']\n",
    "flexion['merkmal'] = pak.remove_str(flexion.merkmal, r)\n",
    "\n",
    "# 'Ptz1' und 'Ptz2' demaskieren\n",
    "flexion['merkmal'] = pak.replace_str(flexion.merkmal, {'PtzA':'Ptz1', 'PtzB':'Ptz2'})"
   ]
  },
  {
   "cell_type": "code",
   "execution_count": null,
   "metadata": {
    "tags": []
   },
   "outputs": [],
   "source": [
    "# Beispiel anschauen\n",
    "#mask = flexion.section_id2 == suche_debug[0]\n",
    "#grid(flexion,mask)"
   ]
  },
  {
   "cell_type": "code",
   "execution_count": null,
   "metadata": {
    "tags": []
   },
   "outputs": [],
   "source": [
    "# translate_first\n",
    "\n",
    "print(translate_first1)\n",
    "print(translate_first2)\n",
    "\n",
    "for quelle, ziel in translate_first1:\n",
    "    flexion.merkmal = flexion.merkmal.str.replace( quelle, ziel )\n",
    "\n",
    "for quelle, ziel in translate_first2:\n",
    "    flexion.merkmal = flexion.merkmal.str.replace( quelle, ziel )"
   ]
  },
  {
   "cell_type": "code",
   "execution_count": null,
   "metadata": {
    "tags": []
   },
   "outputs": [],
   "source": [
    "translate_merkmal"
   ]
  },
  {
   "cell_type": "code",
   "execution_count": null,
   "metadata": {
    "tags": []
   },
   "outputs": [],
   "source": [
    "# translate_merkmal: merkmal reinigen\n",
    "flexion['merkmal'] = pak.replace_str(flexion.merkmal, translate_merkmal)"
   ]
  },
  {
   "cell_type": "code",
   "execution_count": null,
   "metadata": {
    "tags": []
   },
   "outputs": [],
   "source": [
    "#a = analyse_freqs(flexion,'merkmal','data', split_A=' ', style='top') # \n",
    "#grid(a)"
   ]
  },
  {
   "cell_type": "code",
   "execution_count": null,
   "metadata": {
    "tags": []
   },
   "outputs": [],
   "source": [
    "# strip\n",
    "flexion.merkmal = flexion.merkmal.str.replace('  ',' ').str.strip()"
   ]
  },
  {
   "cell_type": "code",
   "execution_count": null,
   "metadata": {
    "tags": []
   },
   "outputs": [],
   "source": [
    "# Einige Merkmale löschen\n",
    "r = ['','Weitere Konjugationen','beschreibung','bezug','breite','Jahr','Titel','am','Zugriff','Monat','Tag','Autor','Bild','Flexion','unpersönlich',\n",
    "     'Kommentar','zugriff','hrsg','Artikel','größe','titel','Ort','spr','Verlag','Seiten','autor','datum','Weitere','kein-s', 'Kein-ens','Datum',\n",
    "     'EW','ISBN','Originalsprache','TitelErg','dim','kommentar','name','region','sprache','text','Keine weiteren Formen',   \n",
    "    ]\n",
    "mask = flexion.merkmal.isin(r)\n",
    "check_mask(flexion,mask,1500)\n",
    "\n",
    "msg = 'ungenutzte_Merkmale'\n",
    "flexion, flexion_trash = pak.move_rows(df_from=flexion, df_to=flexion_trash, mask=mask, msg=msg)\n",
    "grid(flexion_trash,msg)"
   ]
  },
  {
   "cell_type": "code",
   "execution_count": null,
   "metadata": {
    "tags": []
   },
   "outputs": [],
   "source": [
    "# merkmale sortieren\n",
    "flexion = sort_merkmale(flexion)"
   ]
  },
  {
   "cell_type": "code",
   "execution_count": null,
   "metadata": {
    "tags": []
   },
   "outputs": [],
   "source": [
    "# Müll löschen (obsolet: Das wurde weiter oben schon gelöscht)\n",
    "mask = flexion.merkmal.str.contains('|', regex=False)\n",
    "check_mask(flexion,mask,0)\n",
    "#flexion, flexion_trash = pak.move_rows(df_from=flexion, df_to=flexion_trash, mask=mask, msg='Müll1')"
   ]
  },
  {
   "cell_type": "code",
   "execution_count": null,
   "metadata": {
    "tags": []
   },
   "outputs": [],
   "source": [
    "# Müll löschen (obsolet: Das wurde weiter oben schon gelöscht)\n",
    "mask = flexion.data.str.contains('<', regex=False)\n",
    "check_mask(flexion,mask,0)\n",
    "#flexion, flexion_trash = pak.move_rows(df_from=flexion, df_to=flexion_trash, mask=mask, msg='Müll2') "
   ]
  },
  {
   "cell_type": "code",
   "execution_count": null,
   "metadata": {
    "tags": []
   },
   "outputs": [],
   "source": [
    "# Striche vereinheitlichen\n",
    "r = {'—':'-', '–':'-'}\n",
    "flexion.data = pak.replace_str(flexion.data, r)"
   ]
  },
  {
   "cell_type": "code",
   "execution_count": null,
   "metadata": {
    "tags": []
   },
   "outputs": [],
   "source": [
    "#a = pak.analyse_freqs(flexion,['merkmal','data'], splits=[' ', None]) # \n",
    "#gridt(a)"
   ]
  },
  {
   "cell_type": "code",
   "execution_count": null,
   "metadata": {
    "tags": []
   },
   "outputs": [],
   "source": [
    "#a = pak.analyse_freqs(flexion,['merkmal','data']) \n",
    "#gridt(a)"
   ]
  },
  {
   "cell_type": "code",
   "execution_count": null,
   "metadata": {
    "tags": []
   },
   "outputs": [],
   "source": [
    "#a = pak.analyse_freqs(flexion,['sort','merkmal']) # \n",
    "#gridt(a)"
   ]
  },
  {
   "cell_type": "code",
   "execution_count": null,
   "metadata": {
    "tags": []
   },
   "outputs": [],
   "source": [
    "# flexion wieder an wiktionary_merkmal anfügen\n",
    "\n",
    "df = pak.drop_cols(flexion, ['merkmal_lang','sort'])\n",
    "df = df.drop_duplicates()\n",
    "#grid(df)\n",
    "wiktionary_merkmal = pak.add_rows(wiktionary_merkmal, df, assert_subset=True)"
   ]
  },
  {
   "cell_type": "code",
   "execution_count": null,
   "metadata": {
    "tags": []
   },
   "outputs": [],
   "source": [
    "# Beispiel anzeigen \n",
    "mask = (wiktionary_merkmal.section_id2 == suche_debug[0])\n",
    "grid(wiktionary_merkmal,mask)"
   ]
  },
  {
   "cell_type": "code",
   "execution_count": null,
   "metadata": {
    "tags": []
   },
   "outputs": [],
   "source": [
    "# Speicher sparen\n",
    "if speicher_freigeben:\n",
    "    del flexion"
   ]
  },
  {
   "cell_type": "markdown",
   "metadata": {},
   "source": [
    "### wiktionary_merkmal pflegen\n",
    "* Diverse Pflegeschritte"
   ]
  },
  {
   "cell_type": "code",
   "execution_count": null,
   "metadata": {
    "tags": []
   },
   "outputs": [],
   "source": [
    "# drop_cols\n",
    "wiktionary_merkmal = pak.drop_cols(wiktionary_merkmal,['rhymes','inflected','lang','lang_code','lemma_lower'])"
   ]
  },
  {
   "cell_type": "code",
   "execution_count": null,
   "metadata": {
    "tags": []
   },
   "outputs": [],
   "source": [
    "mask = wiktionary_merkmal.merkmal == 'rhymes'\n",
    "pak.sample(wiktionary_merkmal[mask])"
   ]
  },
  {
   "cell_type": "code",
   "execution_count": null,
   "metadata": {
    "tags": []
   },
   "outputs": [],
   "source": [
    "# change_datatype\n",
    "wiktionary_merkmal = pak.change_datatype(wiktionary_merkmal)"
   ]
  },
  {
   "cell_type": "code",
   "execution_count": null,
   "metadata": {
    "tags": []
   },
   "outputs": [],
   "source": [
    "# Keine nan in data\n",
    "assert not pak.any_nan(wiktionary_merkmal.data) "
   ]
  },
  {
   "cell_type": "code",
   "execution_count": null,
   "metadata": {
    "tags": []
   },
   "outputs": [],
   "source": [
    "# herkunft: meta leeren\n",
    "mask = wiktionary_merkmal.merkmal.isin(['herkunft']) \n",
    "wiktionary_merkmal.loc[mask,'meta'] = ''\n",
    "#grid(wiktionary_merkmal, mask)"
   ]
  },
  {
   "cell_type": "code",
   "execution_count": null,
   "metadata": {
    "tags": []
   },
   "outputs": [],
   "source": [
    "#grid(wiktionary_merkmal_trash)"
   ]
  },
  {
   "cell_type": "code",
   "execution_count": null,
   "metadata": {
    "tags": []
   },
   "outputs": [],
   "source": [
    "# noPl\n",
    "mask = (wiktionary_merkmal.data.str.len() <= 1)  &   wiktionary_merkmal.merkmal.str.endswith('Pl')   &   (wiktionary_merkmal.merkmal != 'noPl')\n",
    "wiktionary_merkmal.loc[mask,'merkmal'] = 'noPl¼'\n",
    "wiktionary_merkmal.loc[mask,'data']    = '1'"
   ]
  },
  {
   "cell_type": "code",
   "execution_count": null,
   "metadata": {
    "tags": []
   },
   "outputs": [],
   "source": [
    "# noSg\n",
    "mask = (wiktionary_merkmal.data.str.len() <= 1)  &   wiktionary_merkmal.merkmal.str.endswith('Sg')   &   (wiktionary_merkmal.merkmal != 'noSg')\n",
    "wiktionary_merkmal.loc[mask,'merkmal'] = 'noSg¼'\n",
    "wiktionary_merkmal.loc[mask,'data']    = '1'"
   ]
  },
  {
   "cell_type": "code",
   "execution_count": null,
   "metadata": {
    "tags": []
   },
   "outputs": [],
   "source": [
    "# mindestens 2 Zeichen deuten auf noSg hin\n",
    "\n",
    "# finden\n",
    "mask = (wiktionary_merkmal.merkmal == 'noSg¼')\n",
    "df = wiktionary_merkmal[mask].groupby('section_id2')['merkmal'].agg('count').reset_index()\n",
    "mask = (df.merkmal > 1)\n",
    "markiere = df[mask]['section_id2']\n",
    "\n",
    "# nach wiktionary_lemma übertragen\n",
    "mask = wiktionary_lemma.section_id2.isin(markiere)\n",
    "wiktionary_lemma.loc[mask,'member'] += ' noSg'"
   ]
  },
  {
   "cell_type": "code",
   "execution_count": null,
   "metadata": {
    "tags": []
   },
   "outputs": [],
   "source": [
    "# mindestens 2 Zeichen deuten auf noPl hin\n",
    "\n",
    "# finden\n",
    "mask = (wiktionary_merkmal.merkmal == 'noPl¼')\n",
    "df = wiktionary_merkmal[mask].groupby('section_id2')['merkmal'].agg('count').reset_index()\n",
    "mask = (df.merkmal > 1)\n",
    "markiere = df[mask]['section_id2']\n",
    "\n",
    "# nach wiktionary_lemma übertragen\n",
    "mask = wiktionary_lemma.section_id2.isin(markiere)\n",
    "wiktionary_lemma.loc[mask,'member'] += ' noPl'"
   ]
  },
  {
   "cell_type": "code",
   "execution_count": null,
   "metadata": {
    "tags": []
   },
   "outputs": [],
   "source": [
    "# entfernen\n",
    "mask = wiktionary_merkmal.merkmal.isin(['noSg¼','noPl¼'])\n",
    "wiktionary_merkmal, wiktionary_merkmal_trash = pak.move_rows(df_from=wiktionary_merkmal, df_to=wiktionary_merkmal_trash, mask=mask, msg='noSg¼ noPl¼')"
   ]
  },
  {
   "cell_type": "code",
   "execution_count": null,
   "metadata": {
    "tags": []
   },
   "outputs": [],
   "source": [
    "# entfernen\n",
    "mask = wiktionary_merkmal.merkmal.isin(['beschreibung 5','bezug 5','breite 5'])\n",
    "wiktionary_merkmal, wiktionary_merkmal_trash = pak.move_rows(df_from=wiktionary_merkmal, df_to=wiktionary_merkmal_trash, mask=mask, msg='Artefakte')"
   ]
  },
  {
   "cell_type": "code",
   "execution_count": null,
   "metadata": {
    "tags": []
   },
   "outputs": [],
   "source": [
    "# entfernen\n",
    "mask = wiktionary_merkmal.merkmal.isin(['Weitere Formen'])\n",
    "wiktionary_merkmal, wiktionary_merkmal_trash = pak.move_rows(df_from=wiktionary_merkmal, df_to=wiktionary_merkmal_trash, mask=mask, msg='Weitere Formen')"
   ]
  },
  {
   "cell_type": "code",
   "execution_count": null,
   "metadata": {
    "tags": []
   },
   "outputs": [],
   "source": [
    "#a = pak.analyse_freqs(wiktionary_merkmal,['merkmal','data'], splits=[' ', None]) # \n",
    "#grid(a)"
   ]
  },
  {
   "cell_type": "code",
   "execution_count": null,
   "metadata": {
    "tags": []
   },
   "outputs": [],
   "source": [
    "# data enthält nicht_erlaubte_sonderzeichen\n",
    "mask = wiktionary_merkmal.data.str.contains(nicht_erlaubte_sonderzeichen_gnädig) # siehe Steuertabellen\n",
    "check_mask(wiktionary_merkmal, mask, 0, 10000)\n",
    "\n",
    "msg='Sonderzeichen'\n",
    "wiktionary_merkmal, wiktionary_merkmal_trash = pak.move_rows(df_from=wiktionary_merkmal, df_to=wiktionary_merkmal_trash, mask=mask, msg=msg)\n",
    "grid(wiktionary_merkmal_trash,msg, color='green')"
   ]
  },
  {
   "cell_type": "code",
   "execution_count": null,
   "metadata": {
    "tags": []
   },
   "outputs": [],
   "source": [
    "# E-Merkmale \n",
    "mask = (plan_merkmal.collect == 'E')\n",
    "merkmale_E = list(plan_merkmal[mask].merkmal)\n",
    "merkmale_E "
   ]
  },
  {
   "cell_type": "code",
   "execution_count": null,
   "metadata": {
    "tags": []
   },
   "outputs": [],
   "source": [
    "# data ist zu kurz \n",
    "mask1 =  wiktionary_merkmal.data.str.len() == 1\n",
    "mask2 = ~wiktionary_merkmal.merkmal.isin( merkmale_E + ['Genus','ipa','rhymes','def','lex','abk'] )\n",
    "mask3 = ~wiktionary_merkmal.data.isin(['-'])\n",
    "mask = mask1  &  mask2  &  mask3\n",
    "check_mask(wiktionary_merkmal, mask, 0, 30)\n",
    "\n",
    "msg = 'zu kurz'\n",
    "wiktionary_merkmal, wiktionary_merkmal_trash = pak.move_rows( df_from=wiktionary_merkmal, df_to=wiktionary_merkmal_trash, mask=mask, msg=msg)\n",
    "grid(wiktionary_merkmal_trash,msg)"
   ]
  },
  {
   "cell_type": "code",
   "execution_count": null,
   "metadata": {
    "tags": []
   },
   "outputs": [],
   "source": [
    "mask = wiktionary_merkmal.data == '€'\n",
    "wiktionary_merkmal[mask]"
   ]
  },
  {
   "cell_type": "code",
   "execution_count": null,
   "metadata": {
    "tags": []
   },
   "outputs": [],
   "source": [
    "# wiktionary_merkmal belöschen: Wortbildungen\n",
    "mask = wiktionary_merkmal.data.str.contains('Wortbildungen/')\n",
    "check_mask(wiktionary_merkmal,mask,201)\n",
    "\n",
    "msg = 'Wortbildungen'\n",
    "wiktionary_merkmal, wiktionary_merkmal_trash = pak.move_rows( wiktionary_merkmal, wiktionary_merkmal_trash, mask, msg  ) \n",
    "grid(wiktionary_merkmal_trash, msg, color='green')"
   ]
  },
  {
   "cell_type": "code",
   "execution_count": null,
   "metadata": {
    "tags": []
   },
   "outputs": [],
   "source": [
    "# meta remove_str replace_str\n",
    "wiktionary_merkmal['meta'] = pak.remove_str(  wiktionary_merkmal.meta, '()'         )\n",
    "wiktionary_merkmal['meta'] = pak.replace_str( wiktionary_merkmal.meta, {'/':' '}    )"
   ]
  },
  {
   "cell_type": "code",
   "execution_count": null,
   "metadata": {
    "tags": []
   },
   "outputs": [],
   "source": [
    "# data Klammer am Ende schließen\n",
    "mask1 =  wiktionary_merkmal.data.str.contains('(', regex=False)\n",
    "mask2 = ~wiktionary_merkmal.data.str.contains(')', regex=False)\n",
    "mask = mask1  &  mask2\n",
    "wiktionary_merkmal.loc[mask,'data'] += ')'\n",
    "# grid(wiktionary_merkmal, mask)"
   ]
  },
  {
   "cell_type": "code",
   "execution_count": null,
   "metadata": {
    "tags": []
   },
   "outputs": [],
   "source": [
    "# Beispiel anzeigen \n",
    "mask = (wiktionary_merkmal.section_id2 == suche_debug[0])\n",
    "grid(wiktionary_merkmal,mask)"
   ]
  },
  {
   "cell_type": "markdown",
   "metadata": {},
   "source": [
    "### Kontrolle wiktionary_merkmal\n",
    "* Diverse Kontrollen"
   ]
  },
  {
   "cell_type": "code",
   "execution_count": null,
   "metadata": {
    "tags": []
   },
   "outputs": [],
   "source": [
    "# plan_merkmal Steuertabelle neu erstellen\n",
    "try:\n",
    "    del plan_merkmal\n",
    "except:\n",
    "    pass\n",
    "\n",
    "from Steuertabellen.s01_Steuertabellen import *\n",
    "plan_merkmal = plan_merkmal_erstellen()\n",
    "#pak.sample(plan_merkmal)\n",
    "grid(plan_merkmal)"
   ]
  },
  {
   "cell_type": "code",
   "execution_count": null,
   "metadata": {
    "tags": []
   },
   "outputs": [],
   "source": [
    "# Merkmale lt. Steuertabelle und lt. Realität\n",
    "mask = (plan_merkmal.plan != 2)\n",
    "merkmale_plan = set(plan_merkmal[mask].merkmal)\n",
    "merkmale_data = set(wiktionary_merkmal.merkmal.unique())"
   ]
  },
  {
   "cell_type": "code",
   "execution_count": null,
   "metadata": {
    "tags": []
   },
   "outputs": [],
   "source": [
    "# left_only:  Merkmale, die in er Realität nicht auftreten\n",
    "# right_only: Merkmale, die nicht geplant sind\n",
    "bpy.minivenn(merkmale_plan,merkmale_data,format='print2')"
   ]
  },
  {
   "cell_type": "code",
   "execution_count": null,
   "metadata": {
    "tags": []
   },
   "outputs": [],
   "source": [
    "# Fast alle in der Steuertabelle plan_merkmal erfassten Merkmale kommen in wiktionary_merkmal tatsächlich vor.\n",
    "ausnahmen = {'PTKVZ', 'Konj2', 'Konj', 'lemma', 'down_part', 'Konj1', 'Imp', 'Gerundivum', 'übersicht'}\n",
    "fehlende_merkmale = bpy.minivenn(merkmale_plan - ausnahmen,merkmale_data,format='dict')['left_only']\n",
    "assert len(fehlende_merkmale) == 0"
   ]
  },
  {
   "cell_type": "code",
   "execution_count": null,
   "metadata": {
    "tags": []
   },
   "outputs": [],
   "source": [
    "# Tauchen die Ausnahmen in wiktionary_merkmal_trash auf?\n",
    "# Sollten sie nicht.\n",
    "mask1 =  wiktionary_merkmal_trash.merkmal.isin(  ausnahmen - {'nurWortart'}  )\n",
    "mask2 = ~wiktionary_merkmal_trash.merkmal.isin(['übersicht'])\n",
    "mask = mask1  & mask2\n",
    "check_mask(wiktionary_merkmal_trash,mask,0)\n",
    "#wiktionary_merkmal_trash[mask]"
   ]
  },
  {
   "cell_type": "code",
   "execution_count": null,
   "metadata": {
    "tags": []
   },
   "outputs": [],
   "source": [
    "# alle Merkmale in wiktionary_merkmal sind in der Steuertabelle plan_merkmal erfasst\n",
    "alle_tags = set(translate_tagZ.tag) # tags werden als merkmal akzeptiert\n",
    "unregistrierte_merkmale = bpy.minivenn(merkmale_plan, merkmale_data - alle_tags, format='dict')['right_only']\n",
    "print(unregistrierte_merkmale)"
   ]
  },
  {
   "cell_type": "code",
   "execution_count": null,
   "metadata": {
    "tags": []
   },
   "outputs": [],
   "source": [
    "# Probleme anschauen\n",
    "mask = wiktionary_merkmal.merkmal.isin(unregistrierte_merkmale)\n",
    "check_mask(wiktionary_merkmal,mask,0,3)\n",
    "grid(wiktionary_merkmal, mask, color='green')"
   ]
  },
  {
   "cell_type": "code",
   "execution_count": null,
   "metadata": {
    "tags": []
   },
   "outputs": [],
   "source": [
    "# Keine nan in data\n",
    "assert pak.nnan(wiktionary_merkmal.data) == 0"
   ]
  },
  {
   "cell_type": "code",
   "execution_count": null,
   "metadata": {
    "tags": []
   },
   "outputs": [],
   "source": [
    "# Eindeutige Datentypen\n",
    "for col in wiktionary_merkmal.columns:\n",
    "    print(col)\n",
    "    if col == 'num':\n",
    "        continue\n",
    "    assert pak.ntypes(wiktionary_merkmal[col]) == 1"
   ]
  },
  {
   "cell_type": "code",
   "execution_count": null,
   "metadata": {
    "tags": []
   },
   "outputs": [],
   "source": [
    "wiktionary_merkmal.shape"
   ]
  },
  {
   "cell_type": "markdown",
   "metadata": {},
   "source": [
    "## wiktionary_lemma"
   ]
  },
  {
   "cell_type": "code",
   "execution_count": null,
   "metadata": {
    "tags": []
   },
   "outputs": [],
   "source": [
    "# suche_debug\n",
    "mask = wiktionary_lemma.lemma.isin(suche_debug) #== 'gefriergetrocknet'\n",
    "wiktionary_lemma[mask]"
   ]
  },
  {
   "cell_type": "markdown",
   "metadata": {},
   "source": [
    "### member erweitern\n",
    "* Einige Merkmale aus wiktionary_merkmal nach member in wiktionary_lemma verschieben\n",
    "* und zwar die E-Merkmale. das sind die, bei denen es einzig auf die Existenz ankommt. Diese Merkmale können keine verschiedenen Werte annehmen."
   ]
  },
  {
   "cell_type": "code",
   "execution_count": null,
   "metadata": {
    "tags": []
   },
   "outputs": [],
   "source": [
    "# noSing >> noSg\n",
    "mask = (wiktionary_merkmal.merkmal == 'noSing')\n",
    "wiktionary_merkmal.loc[mask,'merkmal'] = 'noSg'"
   ]
  },
  {
   "cell_type": "code",
   "execution_count": null,
   "metadata": {
    "tags": []
   },
   "outputs": [],
   "source": [
    "# E-Merkmale \n",
    "print(merkmale_E)"
   ]
  },
  {
   "cell_type": "code",
   "execution_count": null,
   "metadata": {
    "tags": []
   },
   "outputs": [],
   "source": [
    "# anschauen\n",
    "mask = wiktionary_merkmal.merkmal.isin(merkmale_E)\n",
    "a = pak.analyse_freqs(wiktionary_merkmal[mask],['merkmal','data']) # \n",
    "grid(a)"
   ]
  },
  {
   "cell_type": "code",
   "execution_count": null,
   "metadata": {
    "tags": []
   },
   "outputs": [],
   "source": [
    "# update-Tabelle erstellen\n",
    "mask = wiktionary_merkmal.merkmal.isin(merkmale_E)\n",
    "df = pak.group_and_agg(wiktionary_merkmal[mask], \n",
    "              col_origins=['section_id2', 'merkmal',             'merkmal',       ],\n",
    "              col_funcs  =['group',       pak.agg_words_nodup,   'count',         ],\n",
    "              col_names  =['',            'member_plus',         'count',         ],  \n",
    "             )\n",
    "#df"
   ]
  },
  {
   "cell_type": "code",
   "execution_count": null,
   "metadata": {
    "tags": []
   },
   "outputs": [],
   "source": [
    "# member_plus schreiben\n",
    "wiktionary_lemma = pak.update_col(wiktionary_lemma, df, on='section_id2', col='member_plus')"
   ]
  },
  {
   "cell_type": "code",
   "execution_count": null,
   "metadata": {
    "tags": []
   },
   "outputs": [],
   "source": [
    "# member schreiben\n",
    "mask = (wiktionary_lemma.member_plus.str.len() > 0)\n",
    "wiktionary_lemma.loc[mask,'member'] = wiktionary_lemma[mask].member + ' ' + wiktionary_lemma[mask].member_plus\n",
    "wiktionary_lemma = pak.drop_cols(wiktionary_lemma,'member_plus')\n",
    "#grid(wiktionary_lemma, mask)"
   ]
  },
  {
   "cell_type": "code",
   "execution_count": null,
   "metadata": {
    "tags": []
   },
   "outputs": [],
   "source": [
    "# wiktionary_merkmal belöschen\n",
    "mask = wiktionary_merkmal.merkmal.isin(merkmale_E)\n",
    "wiktionary_merkmal, wiktionary_merkmal_trash = pak.move_rows(df_from=wiktionary_merkmal, df_to=wiktionary_merkmal_trash, mask=mask, msg='merkmale_E')"
   ]
  },
  {
   "cell_type": "markdown",
   "metadata": {},
   "source": [
    "### member pflegen"
   ]
  },
  {
   "cell_type": "code",
   "execution_count": null,
   "metadata": {
    "tags": []
   },
   "outputs": [],
   "source": [
    "# werte_anz\n",
    "df = pak.group_and_agg(wiktionary_merkmal, \n",
    "              col_origins=['merkmal',    'data',                  ],\n",
    "              col_funcs  =['group',       pak.nunique,            ],\n",
    "              col_names  =['',           'werte_anz',             ],              \n",
    "             )\n",
    "#df"
   ]
  },
  {
   "cell_type": "code",
   "execution_count": null,
   "metadata": {
    "tags": []
   },
   "outputs": [],
   "source": [
    "# merkmale mit kleiner werte_anz\n",
    "mask = (df.werte_anz < 3)   &   ~df.merkmal.str.startswith(('Nom','Gen','Dat','Akk', 'Konj', 'Ptz1'))\n",
    "m = list(df[mask].merkmal)\n",
    "\n",
    "mask = wiktionary_merkmal.merkmal.isin(m)\n",
    "assert wiktionary_merkmal[mask].shape[0] <= 10  \n",
    "\n",
    "a = pak.analyse_freqs(wiktionary_merkmal[mask], ['merkmal','data'])\n",
    "a \n",
    "\n",
    "#wiktionary_merkmal[mask]"
   ]
  },
  {
   "cell_type": "code",
   "execution_count": null,
   "metadata": {
    "tags": []
   },
   "outputs": [],
   "source": [
    "wiktionary_merkmal[mask]"
   ]
  },
  {
   "cell_type": "code",
   "execution_count": null,
   "metadata": {
    "tags": []
   },
   "outputs": [],
   "source": [
    "# In list wandeln\n",
    "wiktionary_lemma.member = wiktionary_lemma.member.str.split()\n",
    "\n",
    "# nach Priorität sortieren (laut Steuertabellen)\n",
    "wiktionary_lemma.member = member_sortieren(wiktionary_lemma.member) \n",
    "\n",
    "# In string wandeln\n",
    "wiktionary_lemma.member = wiktionary_lemma.member.str.join(' ')"
   ]
  },
  {
   "cell_type": "code",
   "execution_count": null,
   "metadata": {
    "tags": []
   },
   "outputs": [],
   "source": [
    "# Seltene member finden\n",
    "member_selten = pak.analyse_freqs(wiktionary_lemma, ['member', 'section_id2'], splits=[' ',None])\n",
    "mask = (member_selten.member_count == 1)\n",
    "member_selten = member_selten[mask]\n",
    "member_selten_member      = list(member_selten.member)\n",
    "member_selten_section_id2 = list(member_selten.section_id2)\n",
    "\n",
    "# und entfernen\n",
    "mask = wiktionary_lemma.section_id2.isin(member_selten_section_id2)\n",
    "wiktionary_lemma.loc[mask,'member'] = pak.remove_str(wiktionary_lemma[mask].member, member_selten_member)\n",
    "#wiktionary_lemma[mask]"
   ]
  },
  {
   "cell_type": "code",
   "execution_count": null,
   "metadata": {
    "tags": []
   },
   "outputs": [],
   "source": [
    "member_selten"
   ]
  },
  {
   "cell_type": "code",
   "execution_count": null,
   "metadata": {
    "tags": []
   },
   "outputs": [],
   "source": [
    "# anschauen wiktionary_lemma\n",
    "a = pak.analyse_freqs(wiktionary_lemma,['member','tag'], splits=[' ', None])\n",
    "gridt(a)"
   ]
  },
  {
   "cell_type": "code",
   "execution_count": null,
   "metadata": {
    "tags": []
   },
   "outputs": [],
   "source": [
    "# anschauen wiktionary_nolemma\n",
    "b = pak.analyse_freqs(wiktionary_nolemma,['member','tag'], splits=[' ', None])\n",
    "gridt(b)"
   ]
  },
  {
   "cell_type": "code",
   "execution_count": null,
   "metadata": {
    "tags": []
   },
   "outputs": [],
   "source": [
    "# suche_debug\n",
    "mask = wiktionary_lemma.lemma.isin(suche_debug) #== 'gefriergetrocknet'\n",
    "wiktionary_lemma[mask]"
   ]
  },
  {
   "cell_type": "markdown",
   "metadata": {},
   "source": [
    "### member weiter pflegen"
   ]
  },
  {
   "cell_type": "code",
   "execution_count": null,
   "metadata": {
    "tags": []
   },
   "outputs": [],
   "source": [
    "# Ersetzungen im member laut member_replaces (definiert in Steuertabellen)\n",
    "print(member_replaces)\n",
    "wiktionary_lemma.loc[:,'member'] = pak.replace_str(wiktionary_lemma.member, member_replaces)"
   ]
  },
  {
   "cell_type": "code",
   "execution_count": null,
   "metadata": {
    "tags": []
   },
   "outputs": [],
   "source": [
    "# redundantes Substantiv\n",
    "mask = wiktionary_lemma.member.str.contains('Substantiv')   &   (wiktionary_lemma.tagZZ == 'N') \n",
    "check_mask( wiktionary_lemma, mask, 104832 )\n",
    "wiktionary_lemma.loc[ mask, 'member' ] = wiktionary_lemma[mask].member.str.replace('Substantiv','')"
   ]
  },
  {
   "cell_type": "code",
   "execution_count": null,
   "metadata": {
    "tags": []
   },
   "outputs": [],
   "source": [
    "# redundantes Adjektiv\n",
    "mask = wiktionary_lemma.member.str.contains('Adjektiv')   &   (wiktionary_lemma.tagZ == 'ADJ') \n",
    "check_mask( wiktionary_lemma, mask, 14312 )\n",
    "wiktionary_lemma.loc[ mask, 'member' ] = wiktionary_lemma[mask].member.str.replace('Adjektiv','')"
   ]
  },
  {
   "cell_type": "code",
   "execution_count": null,
   "metadata": {
    "tags": []
   },
   "outputs": [],
   "source": [
    "# redundantes Verb\n",
    "mask = wiktionary_lemma.member.str.contains('Verb')   &   (wiktionary_lemma.tagZZ == 'V') \n",
    "check_mask( wiktionary_lemma, mask, 14333 )\n",
    "wiktionary_lemma.loc[ mask, 'member' ] = wiktionary_lemma[mask].member.str.replace('Verb','')"
   ]
  },
  {
   "cell_type": "code",
   "execution_count": null,
   "metadata": {
    "tags": []
   },
   "outputs": [],
   "source": [
    "# redundantes istName, außerdem 1 falsches istName das NN ist\n",
    "mask = wiktionary_lemma.member.str.contains('istName')   &   ( wiktionary_lemma.tagZZ == 'N' ) \n",
    "check_mask( wiktionary_lemma, mask, 2339 )\n",
    "wiktionary_lemma.loc[ mask, 'member' ] = wiktionary_lemma[mask].member.str.replace('istName','')"
   ]
  },
  {
   "cell_type": "code",
   "execution_count": null,
   "metadata": {
    "tags": []
   },
   "outputs": [],
   "source": [
    "# redundantes Name\n",
    "mask = wiktionary_lemma.member.str.contains('Name')   &   ( wiktionary_lemma.tag_0.isin(['NE']) | wiktionary_lemma.tag_1.isin(['NE']) )\n",
    "check_mask( wiktionary_lemma, mask, 177 )\n",
    "wiktionary_lemma.loc[ mask, 'member' ] = wiktionary_lemma[mask].member.str.replace('Name','')"
   ]
  },
  {
   "cell_type": "code",
   "execution_count": null,
   "metadata": {
    "tags": []
   },
   "outputs": [],
   "source": [
    "# redundantes Konjunktion\n",
    "#mask = wiktionary_lemma.member.str.contains('Konjunktion')   &   ~wiktionary_lemma.member.str.contains('Konjunktionaladverb')   &   \\\n",
    "#     ( wiktionary_lemma.tag_0.isin(['KOUS','KON','KOKOM','KOUI']) | wiktionary_lemma.tag_1.isin(['KOUS','KON','KOKOM','KOUI']) ) \n",
    "\n",
    "mask1 =   wiktionary_lemma.member.str.contains('Konjunktion') \n",
    "mask2 =  ~wiktionary_lemma.member.str.contains('Konjunktionaladverb') \n",
    "mask3A =  wiktionary_lemma.tag_0.isin(['KOUS','KON','KOKOM','KOUI'])\n",
    "mask3B =  wiktionary_lemma.tag_1.isin(['KOUS','KON','KOKOM','KOUI'])\n",
    "mask = mask1  &  mask2  &  (mask3A | mask3B)\n",
    "check_mask( wiktionary_lemma, mask, 104 )\n",
    "\n",
    "##wiktionary_lemma.loc[ mask, 'member' ] = wiktionary_lemma[mask].member.str.replace('Konjunktion','')\n",
    "#grid(wiktionary_lemma[mask])"
   ]
  },
  {
   "cell_type": "code",
   "execution_count": null,
   "metadata": {
    "tags": []
   },
   "outputs": [],
   "source": [
    "# redundantes Indefinitpronomen\n",
    "mask = wiktionary_lemma.member.str.contains('Indefinitpronomen')   &   ( wiktionary_lemma.tag_0.isin(['PIAT','PIS']) | wiktionary_lemma.tag_1.isin(['PIAT','PIS']) )\n",
    "check_mask( wiktionary_lemma, mask, 66 )\n",
    "wiktionary_lemma.loc[ mask, 'member' ] = wiktionary_lemma[mask].member.str.replace('Indefinitpronomen','')"
   ]
  },
  {
   "cell_type": "code",
   "execution_count": null,
   "metadata": {
    "tags": []
   },
   "outputs": [],
   "source": [
    "# redundantes Interjektion\n",
    "mask = wiktionary_lemma.member.str.contains('Interjektion')   &   ( wiktionary_lemma.tag_0.isin(['ITJ']) | wiktionary_lemma.tag_1.isin(['ITJ']) )\n",
    "check_mask( wiktionary_lemma, mask, 245 )\n",
    "wiktionary_lemma.loc[ mask, 'member' ] = wiktionary_lemma[mask].member.str.replace('Interjektion','')"
   ]
  },
  {
   "cell_type": "code",
   "execution_count": null,
   "metadata": {
    "tags": []
   },
   "outputs": [],
   "source": [
    "# redundantes Adverb\n",
    "mask = wiktionary_lemma.member.str.contains('Adverb')   &   ( wiktionary_lemma.tag_0.isin(['ADV']) | wiktionary_lemma.tag_1.isin(['ADV']) )\n",
    "check_mask( wiktionary_lemma, mask, 1524 )\n",
    "wiktionary_lemma.loc[ mask, 'member' ] = wiktionary_lemma[mask].member.str.replace('Adverb','')"
   ]
  },
  {
   "cell_type": "code",
   "execution_count": null,
   "metadata": {
    "tags": []
   },
   "outputs": [],
   "source": [
    "# redundantes Subjunktion\n",
    "mask = wiktionary_lemma.member.str.contains('Subjunktion')   &   ( wiktionary_lemma.tag_0.isin(['KOUS']) | wiktionary_lemma.tag_1.isin(['KOUS']) )\n",
    "check_mask( wiktionary_lemma, mask, 58 )\n",
    "wiktionary_lemma.loc[ mask, 'member' ] = wiktionary_lemma[mask].member.str.replace('Subjunktion','')"
   ]
  },
  {
   "cell_type": "code",
   "execution_count": null,
   "metadata": {
    "tags": []
   },
   "outputs": [],
   "source": [
    "# redundantes Personalpronomen\n",
    "mask = wiktionary_lemma.member.str.contains('Personalpronomen')   &   ( wiktionary_lemma.tag_0.isin(['PPER']) | wiktionary_lemma.tag_1.isin(['PPER']) )\n",
    "check_mask( wiktionary_lemma, mask, 33 )\n",
    "wiktionary_lemma.loc[ mask, 'member' ] = wiktionary_lemma[mask].member.str.replace('Personalpronomen','')"
   ]
  },
  {
   "cell_type": "code",
   "execution_count": null,
   "metadata": {
    "tags": []
   },
   "outputs": [],
   "source": [
    "# redundantes Demonstrativpronomen\n",
    "mask = wiktionary_lemma.member.str.contains('Demonstrativpronomen')   &   ( wiktionary_lemma.tag_0.isin(['PDAT']) | wiktionary_lemma.tag_1.isin(['PDAT']) )\n",
    "check_mask( wiktionary_lemma, mask, 32 )\n",
    "wiktionary_lemma.loc[ mask, 'member' ] = wiktionary_lemma[mask].member.str.replace('Demonstrativpronomen','')"
   ]
  },
  {
   "cell_type": "code",
   "execution_count": null,
   "metadata": {
    "tags": []
   },
   "outputs": [],
   "source": [
    "# redundantes Artikel\n",
    "mask = wiktionary_lemma.member.str.contains('Artikel')   &   ( wiktionary_lemma.tag_0.isin(['ART']) | wiktionary_lemma.tag_1.isin(['ART']) )\n",
    "check_mask( wiktionary_lemma, mask, 16 )\n",
    "wiktionary_lemma.loc[ mask, 'member' ] = wiktionary_lemma[mask].member.str.replace('Artikel','')"
   ]
  },
  {
   "cell_type": "code",
   "execution_count": null,
   "metadata": {
    "tags": []
   },
   "outputs": [],
   "source": [
    "# redundantes Postposition\n",
    "mask = wiktionary_lemma.member.str.contains('Postposition')   &   ( wiktionary_lemma.tag_0.isin(['APPO']) | wiktionary_lemma.tag_1.isin(['APPO']) )\n",
    "check_mask( wiktionary_lemma, mask, 13 )\n",
    "wiktionary_lemma.loc[ mask, 'member' ] = wiktionary_lemma[mask].member.str.replace('Postposition','')"
   ]
  },
  {
   "cell_type": "code",
   "execution_count": null,
   "metadata": {
    "tags": []
   },
   "outputs": [],
   "source": [
    "# redundantes Relativpronomen\n",
    "mask = wiktionary_lemma.member.str.contains('Relativpronomen')   &   ( wiktionary_lemma.tag_0.isin(['PRELAT']) | wiktionary_lemma.tag_1.isin(['PRELAT']) )\n",
    "check_mask( wiktionary_lemma, mask, 10 )\n",
    "wiktionary_lemma.loc[ mask, 'member' ] = wiktionary_lemma[mask].member.str.replace('Relativpronomen','')"
   ]
  },
  {
   "cell_type": "code",
   "execution_count": null,
   "metadata": {
    "tags": []
   },
   "outputs": [],
   "source": [
    "# redundantes Possessivpronomen\n",
    "mask = wiktionary_lemma.member.str.contains('Possessivpronomen')   &   ( wiktionary_lemma.tag_0.isin(['PPOSS']) | wiktionary_lemma.tag_1.isin(['PPOSS']) )\n",
    "check_mask( wiktionary_lemma, mask, 9 )\n",
    "wiktionary_lemma.loc[ mask, 'member' ] = wiktionary_lemma[mask].member.str.replace('Possessivpronomen','')"
   ]
  },
  {
   "cell_type": "code",
   "execution_count": null,
   "metadata": {
    "tags": []
   },
   "outputs": [],
   "source": [
    "# redundantes Negationspartikel\n",
    "mask = wiktionary_lemma.member.str.contains('Negationspartikel')   &   ( wiktionary_lemma.tag_0.isin(['PTKNEG']) | wiktionary_lemma.tag_1.isin(['PTKNEG']) )\n",
    "check_mask( wiktionary_lemma, mask, 4 )\n",
    "wiktionary_lemma.loc[ mask, 'member' ] = wiktionary_lemma[mask].member.str.replace('Negationspartikel','')"
   ]
  },
  {
   "cell_type": "code",
   "execution_count": null,
   "metadata": {
    "tags": []
   },
   "outputs": [],
   "source": [
    "# redundantes Interrogativpronomen\n",
    "mask = wiktionary_lemma.member.str.contains('Interrogativpronomen')   &   ( wiktionary_lemma.tag_0.isin(['PWAT']) | wiktionary_lemma.tag_1.isin(['PWAT']) )\n",
    "check_mask( wiktionary_lemma, mask, 4 )\n",
    "wiktionary_lemma.loc[ mask, 'member' ] = wiktionary_lemma[mask].member.str.replace('Interrogativpronomen','')"
   ]
  },
  {
   "cell_type": "code",
   "execution_count": null,
   "metadata": {
    "tags": []
   },
   "outputs": [],
   "source": [
    "# falsches noPl (das betrifft vorwiegend NE-Datensätze)\n",
    "mask = wiktionary_lemma.member.str.contains('noPl')   &   ~wiktionary_lemma.tag_0.isin(['NN','TODO',])   &   ~wiktionary_lemma.tagZZ.isin(['P'])\n",
    "check_mask(wiktionary_lemma,mask, 1452)\n",
    "wiktionary_lemma.loc[mask,'member'] = wiktionary_lemma[mask].member.str.replace('noPl','')\n",
    "#grid( wiktionary_lemma, mask )"
   ]
  },
  {
   "cell_type": "code",
   "execution_count": null,
   "metadata": {
    "tags": []
   },
   "outputs": [],
   "source": [
    "# falsches noSg\n",
    "mask = wiktionary_lemma.member.str.contains('noSg')   &   ~wiktionary_lemma.tag_0.isin(['NN','NE','TODO','PPER'])\n",
    "check_mask(wiktionary_lemma,mask,3)\n",
    "wiktionary_lemma.loc[mask,'member'] = wiktionary_lemma[mask].member.str.replace('noSg','')\n",
    "#grid( wiktionary_lemma, mask )"
   ]
  },
  {
   "cell_type": "code",
   "execution_count": null,
   "metadata": {
    "tags": []
   },
   "outputs": [],
   "source": [
    "# falsches noSteig\n",
    "mask = wiktionary_lemma.member.str.contains('noSteig')   &   ~wiktionary_lemma.tag_0.isin(['ADJA'])\n",
    "check_mask(wiktionary_lemma,mask, 22)\n",
    "wiktionary_lemma.loc[mask,'member'] = wiktionary_lemma[mask].member.str.replace('noSteig','')"
   ]
  },
  {
   "cell_type": "code",
   "execution_count": null,
   "metadata": {
    "tags": []
   },
   "outputs": [],
   "source": [
    "# falsches noFlex\n",
    "mask = wiktionary_lemma.member.str.contains('noFlex')   &   ~wiktionary_lemma.tagZ.isin(['ADJ',])\n",
    "check_mask( wiktionary_lemma, mask, 2 )\n",
    "wiktionary_lemma.loc[ mask, 'member' ] = wiktionary_lemma[mask].member.str.replace('noFlex','')"
   ]
  },
  {
   "cell_type": "code",
   "execution_count": null,
   "metadata": {
    "tags": []
   },
   "outputs": [],
   "source": [
    "# falsches Interjektion\n",
    "mask = wiktionary_lemma.member.str.contains('Interjektion')  &   wiktionary_lemma.tag_0.isin(['PTKANT',])\n",
    "check_mask( wiktionary_lemma, mask, 31 )\n",
    "wiktionary_lemma.loc[ mask, 'member' ] = wiktionary_lemma[mask].member.str.replace('Interjektion','')"
   ]
  },
  {
   "cell_type": "code",
   "execution_count": null,
   "metadata": {
    "tags": []
   },
   "outputs": [],
   "source": [
    "# falsches Präfix\n",
    "mask = wiktionary_lemma.member.str.contains('Präfix')   &   ~wiktionary_lemma.tagZ.isin(['FIX',])\n",
    "check_mask( wiktionary_lemma, mask, 3 )\n",
    "wiktionary_lemma.loc[ mask, 'member' ] = wiktionary_lemma[mask].member.str.replace('Präfix','')"
   ]
  },
  {
   "cell_type": "code",
   "execution_count": null,
   "metadata": {
    "tags": []
   },
   "outputs": [],
   "source": [
    "# Taxonomie >> Spezies\n",
    "mask = wiktionary_lemma.member.str.contains('Taxonomie')   &   (wiktionary_lemma.tagZZ == 'N') \n",
    "check_mask( wiktionary_lemma, mask, 169 )\n",
    "wiktionary_lemma.loc[ mask, 'member' ] = wiktionary_lemma[mask].member.str.replace('Taxonomie','Spezies')"
   ]
  },
  {
   "cell_type": "code",
   "execution_count": null,
   "metadata": {
    "tags": []
   },
   "outputs": [],
   "source": [
    "# falsches Vorname\n",
    "mask = wiktionary_lemma.member.str.contains('Person_vorname')   &   ~wiktionary_lemma.tag_0.isin(['NE'])\n",
    "check_mask( wiktionary_lemma, mask, 1 )\n",
    "wiktionary_lemma.loc[ mask, 'member' ] = wiktionary_lemma[mask].member.str.replace('Person_vorname','')\n",
    "#grid( wiktionary_lemma, mask )"
   ]
  },
  {
   "cell_type": "code",
   "execution_count": null,
   "metadata": {
    "tags": []
   },
   "outputs": [],
   "source": [
    "# Streichungen im member       \n",
    "member_removes = [ 'Numerale', 'Pronomen', 'noWortart', 'Hilfsverb', 'Taxonomie', 'Geflügeltes_Wort', ] \n",
    "\n",
    "wiktionary_lemma.loc[:,'member'] = pak.remove_str(wiktionary_lemma.member, member_removes)"
   ]
  },
  {
   "cell_type": "code",
   "execution_count": null,
   "metadata": {
    "tags": []
   },
   "outputs": [],
   "source": [
    "# wiktionary_lemma_bak = wiktionary_lemma.copy()\n",
    "#wiktionary_lemma = wiktionary_lemma_bak.copy()"
   ]
  },
  {
   "cell_type": "code",
   "execution_count": null,
   "metadata": {
    "tags": []
   },
   "outputs": [],
   "source": [
    "# Substantiv aber kein NN\n",
    "mask1 =  wiktionary_lemma.member.str.contains('Substantiv')\n",
    "mask2 = ~wiktionary_lemma.tag.str.contains(' ')\n",
    "mask = mask1  &  mask2\n",
    "check_mask(wiktionary_lemma,mask,3)\n",
    "wiktionary_lemma.loc[mask,'tag'] = 'NN ' + wiktionary_lemma[mask].tag\n",
    "wiktionary_lemma[mask]"
   ]
  },
  {
   "cell_type": "code",
   "execution_count": null,
   "metadata": {
    "tags": []
   },
   "outputs": [],
   "source": [
    "# korrigieren\n",
    "wiktionary_lemma, df = pak.move_rows(wiktionary_lemma,mask,msg=None)\n",
    "df = pflege_tag_felder(df, translate_tagZ)\n",
    "wiktionary_lemma = pak.add_rows(wiktionary_lemma,df)"
   ]
  },
  {
   "cell_type": "code",
   "execution_count": null,
   "metadata": {
    "tags": []
   },
   "outputs": [],
   "source": [
    "# anschauen\n",
    "mask1 =  wiktionary_lemma.member.str.contains('Substantiv')\n",
    "mask2 =  wiktionary_lemma.tag.str.contains(' ')\n",
    "mask = mask1  &  mask2\n",
    "pak.analyse_freqs(wiktionary_lemma[mask],['tag','lemma'])"
   ]
  },
  {
   "cell_type": "markdown",
   "metadata": {},
   "source": [
    "### member prüfen"
   ]
  },
  {
   "cell_type": "code",
   "execution_count": null,
   "metadata": {
    "tags": []
   },
   "outputs": [],
   "source": [
    "# alle member in den realen Daten zusammensammeln\n",
    "\n",
    "a = pak.analyse_freqs(wiktionary_lemma, ['member','tag'], splits=[' ', None] )\n",
    "#grid(a)\n",
    "\n",
    "b = pak.analyse_freqs(wiktionary_nolemma, ['member','tag'], splits=[' ', None] )\n",
    "#grid(b)\n",
    "\n",
    "# Member lt. Steuertabelle und lt. Realität\n",
    "member_plan = set(priorität_member) #- set(member_replaces.keys())\n",
    "\n",
    "member_data1 = set(a.member)\n",
    "member_data2 = set(b.member)\n",
    "member_data  = member_data1.union(member_data2)\n",
    "#member_data"
   ]
  },
  {
   "cell_type": "code",
   "execution_count": null,
   "metadata": {
    "tags": []
   },
   "outputs": [],
   "source": [
    "# left_only:  member, die geplant sind aber in der Realität nicht vorkommen\n",
    "# right_only: member, die in der Realität vorkommen aber nicht geplant sind\n",
    "bpy.minivenn( member_plan, member_data, format='print2')"
   ]
  },
  {
   "cell_type": "code",
   "execution_count": null,
   "metadata": {
    "tags": []
   },
   "outputs": [],
   "source": [
    "# alle Merkmale in wiktionary_merkmal sollten in der Steuertabelle plan_merkmal erfasst sein.\n",
    "ungeplante_member = bpy.minivenn(member_plan,member_data)['right_only'] - {''}\n",
    "assert len(ungeplante_member) == 0"
   ]
  },
  {
   "cell_type": "code",
   "execution_count": null,
   "metadata": {
    "tags": []
   },
   "outputs": [],
   "source": [
    "# Beispiel anzeigen \n",
    "mask = (wiktionary_merkmal.section_id2 == suche_debug[0])\n",
    "grid(wiktionary_merkmal,mask)"
   ]
  },
  {
   "cell_type": "markdown",
   "metadata": {},
   "source": [
    "### wiktionary_lemma pflegen und prüfen\n",
    "* Diverse Pflegeschritte"
   ]
  },
  {
   "cell_type": "code",
   "execution_count": null,
   "metadata": {
    "tags": []
   },
   "outputs": [],
   "source": [
    "# lemma_lower, isupper, lemma_len\n",
    "wiktionary_lemma = ergänze_felder(wiktionary_lemma)"
   ]
  },
  {
   "cell_type": "code",
   "execution_count": null,
   "metadata": {
    "tags": []
   },
   "outputs": [],
   "source": [
    "# Eindeutige Datentypen\n",
    "for col in wiktionary_lemma.columns:\n",
    "    print(col)\n",
    "    if col in ['num','error']:\n",
    "        continue\n",
    "    assert pak.ntypes(wiktionary_lemma[col]) == 1"
   ]
  },
  {
   "cell_type": "code",
   "execution_count": null,
   "metadata": {
    "tags": []
   },
   "outputs": [],
   "source": [
    "# Keine unbekannten tags\n",
    "a = pak.analyse_freqs(wiktionary_lemma, ['tag'], splits=[' '])\n",
    "mask = ~a.tag.isin(alle_tags)\n",
    "check_mask( a, mask, 0)\n",
    "a[mask]"
   ]
  },
  {
   "cell_type": "code",
   "execution_count": null,
   "metadata": {
    "tags": []
   },
   "outputs": [],
   "source": [
    "# finden\n",
    "mask = wiktionary_lemma.tag == 'Zirkumfix'\n",
    "grid(wiktionary_lemma, mask, color='green')"
   ]
  },
  {
   "cell_type": "code",
   "execution_count": null,
   "metadata": {
    "tags": []
   },
   "outputs": [],
   "source": [
    "# NaN\n",
    "wiktionary_lemma['page_id']   = wiktionary_lemma.page_id.fillna(-1) \n",
    "wiktionary_lemma['page_part'] = wiktionary_lemma.page_part.fillna(-1) "
   ]
  },
  {
   "cell_type": "markdown",
   "metadata": {},
   "source": [
    "## Letzte Pflegeschritte"
   ]
  },
  {
   "cell_type": "code",
   "execution_count": null,
   "metadata": {
    "tags": []
   },
   "outputs": [],
   "source": [
    "wiktionary_lemma        = pak.reset_index( wiktionary_lemma.sort_values('section_id2') )"
   ]
  },
  {
   "cell_type": "code",
   "execution_count": null,
   "metadata": {
    "tags": []
   },
   "outputs": [],
   "source": [
    "wiktionary_nolemma      = pak.drop_cols(wiktionary_nolemma,['lang','lang_code','error'])\n",
    "wiktionary_nolemma      = pak.move_cols(wiktionary_nolemma,'lemma_lower','lemma')"
   ]
  },
  {
   "cell_type": "code",
   "execution_count": null,
   "metadata": {
    "tags": []
   },
   "outputs": [],
   "source": [
    "#wiktionary_merkmal_bak = wiktionary_merkmal.copy()"
   ]
  },
  {
   "cell_type": "code",
   "execution_count": null,
   "metadata": {
    "tags": []
   },
   "outputs": [],
   "source": [
    "# score übertragen und ggf. ergänzen\n",
    "wiktionary_merkmal = pak.update_col(df_to=wiktionary_merkmal, df_from=wiktionary_lemma,        on='section_id2',                        col='lemma_score', col_rename='data_score', func='max', cond='null')\n",
    "wiktionary_merkmal = pak.update_col(df_to=wiktionary_merkmal, df_from=wiktionary_nolemma, left_on='section_id2', right_on='nolemma_id', col='data_score',                           func='max', cond='null')\n",
    "wiktionary_merkmal['data_score'] = wiktionary_merkmal.data_score.fillna(wiktionary_merkmal.data_score.quantile(0.5)).astype('float')"
   ]
  },
  {
   "cell_type": "code",
   "execution_count": null,
   "metadata": {
    "tags": []
   },
   "outputs": [],
   "source": [
    "# Keine Leerzeichen in der ID\n",
    "mask = wiktionary_lemma.section_id2.str.contains(' ')\n",
    "check_mask(wiktionary_lemma,mask,0)\n",
    "\n",
    "mask = wiktionary_nolemma.nolemma_id.str.contains(' ')\n",
    "check_mask(wiktionary_nolemma,mask,0)\n",
    "\n",
    "mask = wiktionary_merkmal.section_id2.str.contains(' ')\n",
    "check_mask(wiktionary_merkmal,mask,0)"
   ]
  },
  {
   "cell_type": "markdown",
   "metadata": {},
   "source": [
    "## Löschliste nochmal"
   ]
  },
  {
   "cell_type": "code",
   "execution_count": null,
   "metadata": {},
   "outputs": [],
   "source": [
    "# wiktionary_lemma belöschen nach section_id2\n",
    "mask = wiktionary_lemma.section_id2.isin(löschliste_section_id2)   \n",
    "\n",
    "msg='löschliste_B1'\n",
    "wiktionary_lemma, wiktionary_lemma_trash = pak.move_rows( df_from=wiktionary_lemma, df_to=wiktionary_lemma_trash, mask=mask, msg=msg)       # Löschen\n",
    "grid(wiktionary_lemma_trash,msg)"
   ]
  },
  {
   "cell_type": "code",
   "execution_count": null,
   "metadata": {},
   "outputs": [],
   "source": [
    "# wiktionary_lemma belöschen nach lex\n",
    "mask = wiktionary_lemma.lemma.isin(löschliste_lex)\n",
    "\n",
    "msg='löschliste_B2'\n",
    "wiktionary_lemma, wiktionary_lemma_trash = pak.move_rows( df_from=wiktionary_lemma, df_to=wiktionary_lemma_trash, mask=mask, msg=msg)       # Löschen\n",
    "grid(wiktionary_lemma_trash,msg)"
   ]
  },
  {
   "cell_type": "code",
   "execution_count": null,
   "metadata": {},
   "outputs": [],
   "source": [
    "# wiktionary_nolemma belöschen nach lex\n",
    "mask = wiktionary_nolemma.lemma.isin(löschliste_lex)   \n",
    "\n",
    "msg='löschliste_B3'\n",
    "wiktionary_nolemma, wiktionary_nolemma_trash = pak.move_rows( df_from=wiktionary_nolemma, df_to=wiktionary_nolemma_trash, mask=mask, msg=msg )\n",
    "grid(wiktionary_nolemma_trash,msg)"
   ]
  },
  {
   "cell_type": "code",
   "execution_count": null,
   "metadata": {},
   "outputs": [],
   "source": [
    "# wiktionary_nolemma belöschen nach lex\n",
    "mask = wiktionary_nolemma.lex.isin(löschliste_lex)   \n",
    "\n",
    "msg='löschliste_B4'\n",
    "wiktionary_nolemma, wiktionary_nolemma_trash = pak.move_rows( df_from=wiktionary_nolemma, df_to=wiktionary_nolemma_trash, mask=mask, msg=msg )\n",
    "grid(wiktionary_nolemma_trash,msg)"
   ]
  },
  {
   "cell_type": "code",
   "execution_count": null,
   "metadata": {},
   "outputs": [],
   "source": [
    "# wiktionary_merkmal belöschen nach section_id2\n",
    "mask = wiktionary_merkmal.section_id2.isin(löschliste_section_id2) \n",
    "\n",
    "msg='löschliste_B5'\n",
    "wiktionary_merkmal, wiktionary_merkmal_trash = pak.move_rows(df_from=wiktionary_merkmal, df_to=wiktionary_merkmal_trash, mask=mask, msg=msg)\n",
    "grid(wiktionary_merkmal_trash,msg)"
   ]
  },
  {
   "cell_type": "code",
   "execution_count": null,
   "metadata": {},
   "outputs": [],
   "source": [
    "# wiktionary_merkmal belöschen nach lex\n",
    "mask = wiktionary_merkmal.data.isin(löschliste_lex) \n",
    "\n",
    "msg='löschliste_B6'\n",
    "wiktionary_merkmal, wiktionary_merkmal_trash = pak.move_rows(df_from=wiktionary_merkmal, df_to=wiktionary_merkmal_trash, mask=mask, msg=msg)\n",
    "grid(wiktionary_merkmal_trash,msg)"
   ]
  },
  {
   "cell_type": "code",
   "execution_count": null,
   "metadata": {},
   "outputs": [],
   "source": [
    "# wiktionary_merkmal belöschen nach data\n",
    "mask = wiktionary_merkmal.data.isin(löschliste_data) \n",
    "\n",
    "msg='löschliste_B7'\n",
    "wiktionary_merkmal, wiktionary_merkmal_trash = pak.move_rows(df_from=wiktionary_merkmal, df_to=wiktionary_merkmal_trash, mask=mask, msg=msg)\n",
    "grid(wiktionary_merkmal_trash,msg)"
   ]
  },
  {
   "cell_type": "markdown",
   "metadata": {},
   "source": [
    "## Prüfen"
   ]
  },
  {
   "cell_type": "code",
   "execution_count": null,
   "metadata": {
    "tags": []
   },
   "outputs": [],
   "source": [
    "# lex_test, lemma_test\n",
    "from x32_Funktionen import *\n",
    "lex_test, lemma_test = lade_lex_text( lex_test_filename, level=1 )\n",
    "#grid(lemma_test)"
   ]
  },
  {
   "cell_type": "code",
   "execution_count": null,
   "metadata": {
    "tags": []
   },
   "outputs": [],
   "source": [
    "# lemma_test\n",
    "from x32_Funktionen import *\n",
    "lemma_test = check_lemma_test(lemma_test, wiktionary_lemma)\n",
    "#lemma_test"
   ]
  },
  {
   "cell_type": "code",
   "execution_count": null,
   "metadata": {
    "tags": []
   },
   "outputs": [],
   "source": [
    "# Fehler\n",
    "maskA = lemma_test.lemma_id == ''\n",
    "maskB = lemma_test.check_tag == ''\n",
    "mask = maskA | maskB\n",
    "check_mask(lemma_test,mask)\n",
    "\n",
    "probleme = list(lemma_test[mask].lemma)\n",
    "lemma_test[mask]"
   ]
  },
  {
   "cell_type": "code",
   "execution_count": null,
   "metadata": {
    "tags": []
   },
   "outputs": [],
   "source": [
    "# Sicherstellen: Keine Fehler\n",
    "check_mask(lemma_test,mask,0)"
   ]
  },
  {
   "cell_type": "markdown",
   "metadata": {},
   "source": [
    "## Speichern"
   ]
  },
  {
   "cell_type": "code",
   "execution_count": null,
   "metadata": {},
   "outputs": [],
   "source": [
    "# Doppelspaces prüfen\n",
    "if gründlich:\n",
    "    mask = wiktionary_merkmal.data.str.contains('  ')\n",
    "    check_mask( wiktionary_merkmal, mask, 0)"
   ]
  },
  {
   "cell_type": "code",
   "execution_count": null,
   "metadata": {},
   "outputs": [],
   "source": [
    "pak.analyse_cols(wiktionary_merkmal)"
   ]
  },
  {
   "cell_type": "code",
   "execution_count": null,
   "metadata": {},
   "outputs": [],
   "source": [
    "# wiktionary_merkmal: drop_duplicates\n",
    "wiktionary_merkmal = wiktionary_merkmal.drop_duplicates()"
   ]
  },
  {
   "cell_type": "code",
   "execution_count": null,
   "metadata": {},
   "outputs": [],
   "source": [
    "assert gründlich"
   ]
  },
  {
   "cell_type": "code",
   "execution_count": null,
   "metadata": {},
   "outputs": [],
   "source": [
    "# Speichern  \n",
    "pak.dump_pickle(wiktionary_lemma,            wiktionary_lemma_filename_save)   \n",
    "pak.dump_pickle(wiktionary_nolemma,          wiktionary_nolemma_filename_save)  \n",
    "pak.dump_pickle(wiktionary_merkmal,          wiktionary_merkmal_filename_save) \n",
    "pak.dump_pickle(wiktionary_merkmal_text,     wiktionary_merkmal_text_filename_save)  \n",
    "os.utime(verzeichnis_save)"
   ]
  },
  {
   "cell_type": "code",
   "execution_count": null,
   "metadata": {
    "colab": {
     "base_uri": "https://localhost:8080/"
    },
    "executionInfo": {
     "elapsed": 7425,
     "status": "ok",
     "timestamp": 1676479015113,
     "user": {
      "displayName": "Hups Hopsalla",
      "userId": "10020718461385065661"
     },
     "user_tz": -60
    },
    "id": "dbiDceKXyUx7",
    "outputId": "beb0cf2a-bc86-47c4-81e6-b11c7354957c"
   },
   "outputs": [],
   "source": [
    "# Save in Google Drive\n",
    "if environment['in_colab']:\n",
    "    from google.colab import drive\n",
    "    drive.mount('/content/drive') \n",
    "    !cd /content\n",
    "    !cp -av {verzeichnis_save} /content/drive/MyDrive"
   ]
  },
  {
   "cell_type": "code",
   "execution_count": null,
   "metadata": {},
   "outputs": [],
   "source": [
    "pak.memory_consumption(locals())"
   ]
  },
  {
   "cell_type": "markdown",
   "metadata": {},
   "source": [
    "## Trash anschauen"
   ]
  },
  {
   "cell_type": "markdown",
   "metadata": {},
   "source": [
    "### wiktionary_trash"
   ]
  },
  {
   "cell_type": "code",
   "execution_count": null,
   "metadata": {},
   "outputs": [],
   "source": [
    "wiktionary_trash.msg = wiktionary_trash.msg.fillna('')"
   ]
  },
  {
   "cell_type": "code",
   "execution_count": null,
   "metadata": {},
   "outputs": [],
   "source": [
    "# Übersicht\n",
    "a = pak.analyse_freqs(wiktionary_trash, ['msg','member'], splits=[None,' '])\n",
    "a"
   ]
  },
  {
   "cell_type": "code",
   "execution_count": null,
   "metadata": {},
   "outputs": [],
   "source": [
    "# Datensätze\n",
    "mask = (wiktionary_trash.msg == 'MFIX')\n",
    "#grid( wiktionary_trash, mask )"
   ]
  },
  {
   "cell_type": "code",
   "execution_count": null,
   "metadata": {},
   "outputs": [],
   "source": [
    "# suche_debug\n",
    "grid(search_str(wiktionary_trash, suche_debug))"
   ]
  },
  {
   "cell_type": "markdown",
   "metadata": {},
   "source": [
    "### wiktionary_merkmal_trash"
   ]
  },
  {
   "cell_type": "code",
   "execution_count": null,
   "metadata": {},
   "outputs": [],
   "source": [
    "wiktionary_merkmal_trash.msg = wiktionary_merkmal_trash.msg.fillna('')"
   ]
  },
  {
   "cell_type": "code",
   "execution_count": null,
   "metadata": {},
   "outputs": [],
   "source": [
    "# Übersicht\n",
    "#a = pak.analyse_freqs(wiktionary_merkmal_trash, ['msg','merkmal', 'data', ])\n",
    "a = pak.analyse_freqs(wiktionary_merkmal_trash, ['msg','merkmal', 'data', ])\n",
    "a = pak.drop_cols(a, ['msg_percent','data_count'])\n",
    "grid(a,  max_column_width=300)"
   ]
  },
  {
   "cell_type": "code",
   "execution_count": null,
   "metadata": {},
   "outputs": [],
   "source": [
    "# Datensätze\n",
    "mask = (wiktionary_merkmal_trash.msg == 'data_endswith')\n",
    "grid( wiktionary_merkmal_trash)"
   ]
  },
  {
   "cell_type": "code",
   "execution_count": null,
   "metadata": {
    "tags": []
   },
   "outputs": [],
   "source": [
    "# suche_debug\n",
    "maskA = wiktionary_merkmal_trash.data.isin(suche_debug)\n",
    "maskB = wiktionary_merkmal_trash.section_id2.isin(suche_debug)\n",
    "mask  = maskA | maskB\n",
    "grid(wiktionary_merkmal_trash,mask, color='green')"
   ]
  },
  {
   "cell_type": "markdown",
   "metadata": {},
   "source": [
    "### flexion_trash\n",
    "* flexion_trash enthält Datensätze, die ursprünglich aus wiktionary_merkmal stammen"
   ]
  },
  {
   "cell_type": "code",
   "execution_count": null,
   "metadata": {},
   "outputs": [],
   "source": [
    "# Übersicht\n",
    "a = pak.analyse_freqs(flexion_trash, ['merkmal', 'data' , 'msg'])\n",
    "a = pak.drop_cols(a, ['merkmal_percent','msg_count','data_count'])\n",
    "grid(a)"
   ]
  },
  {
   "cell_type": "markdown",
   "metadata": {},
   "source": [
    "### wiktionary_lemma_trash"
   ]
  },
  {
   "cell_type": "code",
   "execution_count": null,
   "metadata": {
    "tags": []
   },
   "outputs": [],
   "source": [
    "# suche_debug\n",
    "mask = wiktionary_lemma_trash.lemma.isin(suche_debug) \n",
    "wiktionary_lemma_trash[mask]"
   ]
  },
  {
   "cell_type": "code",
   "execution_count": null,
   "metadata": {
    "tags": []
   },
   "outputs": [],
   "source": [
    "# Übersicht\n",
    "a = pak.analyse_freqs(wiktionary_lemma_trash,['member','msg','lemma'], splits=[None,' '])\n",
    "grid(a)"
   ]
  },
  {
   "cell_type": "markdown",
   "metadata": {},
   "source": [
    "### wiktionary_nolemma_trash"
   ]
  },
  {
   "cell_type": "code",
   "execution_count": null,
   "metadata": {
    "tags": []
   },
   "outputs": [],
   "source": [
    "# suche_debug\n",
    "mask = wiktionary_nolemma_trash.lemma.isin(suche_debug) \n",
    "wiktionary_nolemma_trash[mask]"
   ]
  },
  {
   "cell_type": "code",
   "execution_count": null,
   "metadata": {},
   "outputs": [],
   "source": [
    "# Übersicht\n",
    "a = pak.analyse_freqs(wiktionary_nolemma_trash,['member','lex'], splits=[None,' '])\n",
    "grid(a)"
   ]
  },
  {
   "cell_type": "markdown",
   "metadata": {},
   "source": [
    "## Nutzdaten anschauen"
   ]
  },
  {
   "cell_type": "code",
   "execution_count": null,
   "metadata": {
    "tags": []
   },
   "outputs": [],
   "source": [
    "suche_debug"
   ]
  },
  {
   "cell_type": "markdown",
   "metadata": {},
   "source": [
    "### wiktionary_lemma"
   ]
  },
  {
   "cell_type": "code",
   "execution_count": null,
   "metadata": {
    "tags": []
   },
   "outputs": [],
   "source": [
    "mask = wiktionary_lemma.lemma.isin(suche_debug) #== 'gefriergetrocknet'\n",
    "wiktionary_lemma[mask]"
   ]
  },
  {
   "cell_type": "markdown",
   "metadata": {},
   "source": [
    "### wiktionary_merkmal"
   ]
  },
  {
   "cell_type": "code",
   "execution_count": null,
   "metadata": {
    "tags": []
   },
   "outputs": [],
   "source": [
    "mask = wiktionary_merkmal.section_id2 == suche_debug[0]\n",
    "a = wiktionary_merkmal[mask].sort_values(['merkmal','section_id2','data'])\n",
    "grid(a)"
   ]
  },
  {
   "cell_type": "code",
   "execution_count": null,
   "metadata": {
    "tags": []
   },
   "outputs": [],
   "source": [
    "mask = wiktionary_merkmal.data.isin(suche_debug) #== 'gefriergetrocknet'\n",
    "a = wiktionary_merkmal[mask].sort_values(['merkmal','section_id2','data'])\n",
    "grid(a)"
   ]
  },
  {
   "cell_type": "markdown",
   "metadata": {},
   "source": [
    "### wiktionary_nolemma"
   ]
  },
  {
   "cell_type": "code",
   "execution_count": null,
   "metadata": {
    "tags": []
   },
   "outputs": [],
   "source": [
    "# wiktionary_nolemma suche_debug\n",
    "grid(search_str(wiktionary_nolemma, suche_debug))"
   ]
  },
  {
   "cell_type": "code",
   "execution_count": null,
   "metadata": {
    "tags": []
   },
   "outputs": [],
   "source": [
    "raise Stop"
   ]
  }
 ],
 "metadata": {
  "kernelspec": {
   "display_name": "Python 3 (ipykernel)",
   "language": "python",
   "name": "python3"
  },
  "language_info": {
   "codemirror_mode": {
    "name": "ipython",
    "version": 3
   },
   "file_extension": ".py",
   "mimetype": "text/x-python",
   "name": "python",
   "nbconvert_exporter": "python",
   "pygments_lexer": "ipython3",
   "version": "3.9.13"
  }
 },
 "nbformat": 4,
 "nbformat_minor": 4
}
