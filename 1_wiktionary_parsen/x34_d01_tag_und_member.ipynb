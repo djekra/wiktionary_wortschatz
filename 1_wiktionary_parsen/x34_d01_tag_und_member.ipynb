{
 "cells": [
  {
   "cell_type": "markdown",
   "metadata": {
    "id": "lSehjmZun5OP"
   },
   "source": [
    "__[Open and try this file online (Colab, Pro / Extended RAM needed)](https://colab.research.google.com/github/djekra/wiktionary_wortschatz/blob/master/1_wiktionary_parsen/x34_d01_tag_und_member.ipynb)__"
   ]
  },
  {
   "cell_type": "markdown",
   "metadata": {},
   "source": [
    "# tag und member\n",
    "* speichert in data_01\n",
    "* Dauer: Colab 37 min\n",
    "* lex_test level 1\n",
    "-----\n",
    "\n",
    "\n",
    "* erstellt die Felder tag und member \n",
    "* integriert lexeme_manuell und named_entities\n",
    "* Löschen laut löschliste\n",
    "* behandelt Partizipien\n",
    "\n",
    "* erstellt dort wiktionary_lemma und wiktionary_nolemma\n",
    "* wiktionary ist danach überflüssig\n",
    "\n",
    "\n",
    "### Doku\n",
    "* __Abkürzungen__ stehen immer in wiktionary_merkmal (merkmal abk) und manchmal auch als eigenständiges Lemma in wiktionary_lemma.\n",
    "  In wiktionary_lemma werden Abkürzungen durch das member 'Abkürzung' gekennzeichnet. \n",
    "  Das gibt die Information, dass es sich lohnt, in wiktionary_merkmal nachzuschlagen, um die Bedeutung einer Abkürzung zu erfahren.\n",
    "\n",
    "* __Partizipien__ stehen in wiktionary_merkmal. Ihr lemma ist das Verb im Infinitiv (das ist oft falsch eingetragen). Ihr tag lautet 'VVPP ADJA' für Ptz2 bzw. 'VVFIN ADJA' für Ptz1, ihr member ist Ptz1 bzw. Ptz2.\n",
    "  Zusätzlich sind alle Partizipien aber auch als Adjektiv als eigenständiges lemma registriert. Dort weist data_id auf das Verb zurück.\n",
    "  \n",
    "### TODO\n",
    "* TODO_verwaiste_Wörter: Wichtige Wörter nachverfolgen. \n",
    "* TODO_TAGS_IN_MERKMALE: Sind diese Lexeme im Endergebnis enthalten? Gehören die nicht in wiktionary_nolemma??\n",
    "* TODO_MEMBER_ÜBERPRÜFEN: Sind diese Informationen im Endergebnis enthalten?\n",
    "* TODO_Widersprüchliche_Angaben"
   ]
  },
  {
   "cell_type": "markdown",
   "metadata": {},
   "source": [
    "## Import"
   ]
  },
  {
   "cell_type": "code",
   "execution_count": 1,
   "metadata": {
    "execution": {
     "iopub.execute_input": "2023-02-20T12:55:40.556280Z",
     "iopub.status.busy": "2023-02-20T12:55:40.556036Z",
     "iopub.status.idle": "2023-02-20T12:55:41.619112Z",
     "shell.execute_reply": "2023-02-20T12:55:41.618518Z",
     "shell.execute_reply.started": "2023-02-20T12:55:40.556221Z"
    }
   },
   "outputs": [
    {
     "name": "stdout",
     "output_type": "stream",
     "text": [
      "blab init\n",
      "environment['in_colab']     = False\n",
      "environment['dropbox_path'] = /home/me/Data_Linux/Dropbox\n",
      "environment['lib_path']     = /home/me/Data_Linux/Dropbox/31_Projekte/01_Python/libs\n",
      "Start Time: 13:55:40\n"
     ]
    },
    {
     "data": {
      "text/html": [
       "<img src onerror=\"var cell = this.closest('.jp-CodeCell');var editor = cell.querySelector('.jp-Editor');editor.style.background='Beige';this.parentNode.removeChild(this)\">"
      ],
      "text/plain": [
       "<IPython.core.display.HTML object>"
      ]
     },
     "metadata": {},
     "output_type": "display_data"
    }
   ],
   "source": [
    "# blab init\n",
    "try:\n",
    "    import blab\n",
    "except ImportError as e:\n",
    "    !pip install blab\n",
    "    import blab    \n",
    "startup_notebook = blab.blab_startup()\n",
    "%run $startup_notebook "
   ]
  },
  {
   "cell_type": "code",
   "execution_count": 2,
   "metadata": {
    "execution": {
     "iopub.execute_input": "2023-02-20T12:55:41.621081Z",
     "iopub.status.busy": "2023-02-20T12:55:41.620398Z",
     "iopub.status.idle": "2023-02-20T12:55:41.984140Z",
     "shell.execute_reply": "2023-02-20T12:55:41.983506Z",
     "shell.execute_reply.started": "2023-02-20T12:55:41.621053Z"
    }
   },
   "outputs": [],
   "source": [
    "# pandas\n",
    "if environment['in_colab']:\n",
    "    !pip install --upgrade pandas\n",
    "import pandas as pd"
   ]
  },
  {
   "cell_type": "code",
   "execution_count": 3,
   "metadata": {
    "execution": {
     "iopub.execute_input": "2023-02-20T12:55:41.986284Z",
     "iopub.status.busy": "2023-02-20T12:55:41.985891Z",
     "iopub.status.idle": "2023-02-20T12:55:47.013438Z",
     "shell.execute_reply": "2023-02-20T12:55:47.012751Z",
     "shell.execute_reply.started": "2023-02-20T12:55:41.986260Z"
    }
   },
   "outputs": [],
   "source": [
    "# alle anderen\n",
    "try:\n",
    "    import pandasklar as pak, bpyth as bpy, bj_nlp\n",
    "\n",
    "except ImportError as e:\n",
    "    !pip install pandasklar bj_nlp\n",
    "    import pandasklar as pak, bpyth as bpy, bj_nlp\n",
    "    \n",
    "grid       = pak.grid                     # dTale-Nutzung gemäß Config\n",
    "from functools import partial\n",
    "gridt = partial(grid, backend='dtale')    # dTale-Nutzung erzwungen\n",
    "\n",
    "check_mask = pak.check_mask      "
   ]
  },
  {
   "cell_type": "markdown",
   "metadata": {},
   "source": [
    "## Einstellungen"
   ]
  },
  {
   "cell_type": "code",
   "execution_count": 4,
   "metadata": {
    "execution": {
     "iopub.execute_input": "2023-02-20T12:55:47.015735Z",
     "iopub.status.busy": "2023-02-20T12:55:47.015220Z",
     "iopub.status.idle": "2023-02-20T12:55:47.067065Z",
     "shell.execute_reply": "2023-02-20T12:55:47.066220Z",
     "shell.execute_reply.started": "2023-02-20T12:55:47.015710Z"
    }
   },
   "outputs": [
    {
     "name": "stdout",
     "output_type": "stream",
     "text": [
      "VERBOSE = True\n",
      "--> setting verbose=True as default for all pandasklar functions\n",
      "\n",
      "GRID_BACKEND = \n",
      "--> setting backend= as default for all pandasklar functions\n",
      "\n"
     ]
    }
   ],
   "source": [
    "# Einstellungen\n",
    "\n",
    "# Was debuggen?\n",
    "suche_debug = ['gefriergetrocknet','gefriertrocknen','missraten']  \n",
    "\n",
    "gründlich          = True    # einige Arbeitsschritte können weggelassen werden, wenn gründlich = False\n",
    "speicher_freigeben = False    # sollen alte Ergebnisse gelöscht werden\n",
    "version            = '_all'\n",
    "#version           = '_100K'\n",
    "\n",
    "\n",
    "# verbose\n",
    "pak.Config.set('VERBOSE', True)\n",
    "\n",
    "# Darstellung der Dataframes\n",
    "pak.Config.set('GRID_BACKEND', '')   # standardmäßig kein dTale\n",
    "pd.set_option('max_colwidth', 2000)  # aber dafür breiter\n",
    "\n",
    "# Load\n",
    "verzeichnis_load                      = 'data_00'\n",
    "wiktionary_filename                   = verzeichnis_load + '/wiktionary'              + version + '.pickle'  \n",
    "wiktionary_trash_filename             = verzeichnis_load + '/wiktionary_trash'        + version + '.pickle'\n",
    "wiktionary_merkmal_filename           = verzeichnis_load + '/wiktionary_merkmal'      + version + '.pickle'  \n",
    "wiktionary_merkmal_text_filename      = verzeichnis_load + '/wiktionary_merkmal_text' + version + '.pickle'  \n",
    "\n",
    "# Steuertabellen, externe und manuelle Daten\n",
    "löschliste_filename                   = 'Steuertabellen/löschliste.xlsx'     \n",
    "lexeme_manuell_filename               = 'Steuertabellen/lexeme_manuell.xlsx'       # manuell eingepflegte Lexeme \n",
    "named_entities_filename               = 'Steuertabellen/named_entities_02.xlsx'    # Vornamen, Nachnamen, Orte\n",
    "lex_test_filename                     = 'Steuertabellen/lex_test.xlsx'     \n",
    "\n",
    "# Save\n",
    "verzeichnis_save                      = 'data_01'\n",
    "wiktionary_lemma_filename_save        = verzeichnis_save + '/wiktionary_lemma'        + version + '.pickle'  \n",
    "wiktionary_nolemma_filename_save      = verzeichnis_save + '/wiktionary_nolemma'      + version + '.pickle'  \n",
    "wiktionary_merkmal_filename_save      = verzeichnis_save + '/wiktionary_merkmal'      + version + '.pickle'  \n",
    "wiktionary_merkmal_text_filename_save = verzeichnis_save + '/wiktionary_merkmal_text' + version + '.pickle'  \n",
    "\n",
    "#\n",
    "# Einige hardcodierte Tags finden sich unter wiktionary Einzelkorrekturen\n",
    "# !!!"
   ]
  },
  {
   "cell_type": "markdown",
   "metadata": {
    "id": "p1lM3YLgn5Ou"
   },
   "source": [
    "## Vorbereiten"
   ]
  },
  {
   "cell_type": "code",
   "execution_count": 5,
   "metadata": {
    "colab": {
     "base_uri": "https://localhost:8080/"
    },
    "execution": {
     "iopub.execute_input": "2023-02-20T12:55:47.069098Z",
     "iopub.status.busy": "2023-02-20T12:55:47.068794Z",
     "iopub.status.idle": "2023-02-20T12:55:47.115133Z",
     "shell.execute_reply": "2023-02-20T12:55:47.113493Z",
     "shell.execute_reply.started": "2023-02-20T12:55:47.069073Z"
    },
    "executionInfo": {
     "elapsed": 13,
     "status": "ok",
     "timestamp": 1676476829076,
     "user": {
      "displayName": "Hups Hopsalla",
      "userId": "10020718461385065661"
     },
     "user_tz": -60
    },
    "id": "Oy4Rb6WZn5Ow",
    "outputId": "6b94d1aa-3ffa-4388-d3f4-53b785e09406"
   },
   "outputs": [],
   "source": [
    "# Verzeichnisse erzeugen\n",
    "os.makedirs(verzeichnis_load, exist_ok=True) \n",
    "os.makedirs(verzeichnis_save, exist_ok=True) "
   ]
  },
  {
   "cell_type": "code",
   "execution_count": 6,
   "metadata": {
    "execution": {
     "iopub.execute_input": "2023-02-20T12:55:47.120925Z",
     "iopub.status.busy": "2023-02-20T12:55:47.120520Z",
     "iopub.status.idle": "2023-02-20T12:55:47.179252Z",
     "shell.execute_reply": "2023-02-20T12:55:47.178024Z",
     "shell.execute_reply.started": "2023-02-20T12:55:47.120889Z"
    }
   },
   "outputs": [],
   "source": [
    "# Steuertabellen und Python-Files von Github herunterladen\n",
    "import os\n",
    "if not os.path.exists('Steuertabellen'):\n",
    "   !git clone https://github.com/djekra/wiktionary_wortschatz.git\n",
    "   !cp -r wiktionary_wortschatz/1_wiktionary_parsen/Steuertabellen Steuertabellen\n",
    "   !cp -r wiktionary_wortschatz/1_wiktionary_parsen/*.py .\n",
    "#   !rm -r wiktionary_wortschatz"
   ]
  },
  {
   "cell_type": "code",
   "execution_count": 7,
   "metadata": {
    "colab": {
     "base_uri": "https://localhost:8080/"
    },
    "execution": {
     "iopub.execute_input": "2023-02-20T12:55:47.191085Z",
     "iopub.status.busy": "2023-02-20T12:55:47.185464Z",
     "iopub.status.idle": "2023-02-20T12:55:47.229400Z",
     "shell.execute_reply": "2023-02-20T12:55:47.227919Z",
     "shell.execute_reply.started": "2023-02-20T12:55:47.191008Z"
    },
    "executionInfo": {
     "elapsed": 7425,
     "status": "ok",
     "timestamp": 1676479015113,
     "user": {
      "displayName": "Hups Hopsalla",
      "userId": "10020718461385065661"
     },
     "user_tz": -60
    },
    "id": "dbiDceKXyUx7",
    "outputId": "beb0cf2a-bc86-47c4-81e6-b11c7354957c"
   },
   "outputs": [],
   "source": [
    "# Lade Ergebnisse der vorherigen Verarbeitungsstufe von Google Drive, falls nicht lokal vorhanden\n",
    "# Dieses Verzeichnis wurde in der vorherigen Verarbeitungsstufe angelegt \n",
    "if environment['in_colab']:\n",
    "    from google.colab import drive\n",
    "    drive.mount('/content/drive') \n",
    "    !cd /content\n",
    "    !cp -av /content/drive/MyDrive/{verzeichnis_load} ."
   ]
  },
  {
   "cell_type": "code",
   "execution_count": 8,
   "metadata": {
    "execution": {
     "iopub.execute_input": "2023-02-20T12:55:47.238501Z",
     "iopub.status.busy": "2023-02-20T12:55:47.234618Z",
     "iopub.status.idle": "2023-02-20T12:55:47.295375Z",
     "shell.execute_reply": "2023-02-20T12:55:47.294804Z",
     "shell.execute_reply.started": "2023-02-20T12:55:47.238447Z"
    }
   },
   "outputs": [],
   "source": [
    "# Weitere Imports\n",
    "from x32_Funktionen                    import *\n",
    "from Steuertabellen.s01_Steuertabellen import *\n",
    "from collections                       import defaultdict"
   ]
  },
  {
   "cell_type": "markdown",
   "metadata": {},
   "source": [
    "## Daten laden"
   ]
  },
  {
   "cell_type": "code",
   "execution_count": 9,
   "metadata": {
    "execution": {
     "iopub.execute_input": "2023-02-20T12:55:47.301617Z",
     "iopub.status.busy": "2023-02-20T12:55:47.301204Z",
     "iopub.status.idle": "2023-02-20T12:56:11.684681Z",
     "shell.execute_reply": "2023-02-20T12:56:11.683692Z",
     "shell.execute_reply.started": "2023-02-20T12:55:47.301582Z"
    }
   },
   "outputs": [
    {
     "name": "stdout",
     "output_type": "stream",
     "text": [
      "837593 rows loaded\n",
      "4152 rows loaded\n",
      "5171417 rows loaded\n",
      "654677 rows loaded\n"
     ]
    }
   ],
   "source": [
    "# wiktionary laden     \n",
    "wiktionary               = pak.load_pickle(wiktionary_filename)\n",
    "wiktionary               = pak.drop_cols(wiktionary,['wikitext','section_id'])\n",
    "\n",
    "wiktionary_trash         = pak.load_pickle(wiktionary_trash_filename)\n",
    "wiktionary_trash         = pak.drop_cols(wiktionary_trash,['msg','section_id','wikitext'])\n",
    "wiktionary_trash         = pak.rename_col(wiktionary_trash,'error','msg')\n",
    "\n",
    "wiktionary_merkmal       = pak.load_pickle(wiktionary_merkmal_filename)\n",
    "wiktionary_merkmal       = pak.drop_cols(wiktionary_merkmal,['section_id'])\n",
    "\n",
    "wiktionary_merkmal_trash = wiktionary_merkmal.head(0)\n",
    "\n",
    "wiktionary_merkmal_text  = pak.load_pickle(wiktionary_merkmal_text_filename)"
   ]
  },
  {
   "cell_type": "code",
   "execution_count": 10,
   "metadata": {
    "execution": {
     "iopub.execute_input": "2023-02-20T12:56:11.685632Z",
     "iopub.status.busy": "2023-02-20T12:56:11.685379Z",
     "iopub.status.idle": "2023-02-20T12:56:11.723159Z",
     "shell.execute_reply": "2023-02-20T12:56:11.721907Z",
     "shell.execute_reply.started": "2023-02-20T12:56:11.685609Z"
    }
   },
   "outputs": [],
   "source": [
    "# laden\n",
    "\n",
    "# pak.nnan(wiktionary_merkmal_text)"
   ]
  },
  {
   "cell_type": "code",
   "execution_count": 11,
   "metadata": {
    "execution": {
     "iopub.execute_input": "2023-02-20T12:56:11.725820Z",
     "iopub.status.busy": "2023-02-20T12:56:11.725292Z",
     "iopub.status.idle": "2023-02-20T12:56:12.574708Z",
     "shell.execute_reply": "2023-02-20T12:56:12.574085Z",
     "shell.execute_reply.started": "2023-02-20T12:56:11.725772Z"
    }
   },
   "outputs": [],
   "source": [
    "# Keine NaN\n",
    "assert not pak.any_nan(wiktionary, without=['syllables','rhymes','flexion','ipa'])"
   ]
  },
  {
   "cell_type": "code",
   "execution_count": 12,
   "metadata": {
    "execution": {
     "iopub.execute_input": "2023-02-20T12:56:12.576066Z",
     "iopub.status.busy": "2023-02-20T12:56:12.575830Z",
     "iopub.status.idle": "2023-02-20T12:56:12.859920Z",
     "shell.execute_reply": "2023-02-20T12:56:12.859129Z",
     "shell.execute_reply.started": "2023-02-20T12:56:12.576045Z"
    }
   },
   "outputs": [
    {
     "name": "stdout",
     "output_type": "stream",
     "text": [
      "check_mask:  0 rows\n"
     ]
    }
   ],
   "source": [
    "# Keine Leerzeichen in der ID\n",
    "mask = wiktionary.section_id2.str.contains(' ')\n",
    "check_mask(wiktionary,mask,0)"
   ]
  },
  {
   "cell_type": "code",
   "execution_count": 13,
   "metadata": {
    "execution": {
     "iopub.execute_input": "2023-02-20T12:56:12.863028Z",
     "iopub.status.busy": "2023-02-20T12:56:12.862713Z",
     "iopub.status.idle": "2023-02-20T12:56:17.031087Z",
     "shell.execute_reply": "2023-02-20T12:56:17.030371Z",
     "shell.execute_reply.started": "2023-02-20T12:56:12.862956Z"
    }
   },
   "outputs": [
    {
     "data": {
      "text/html": [
       "<div>\n",
       "<style scoped>\n",
       "    .dataframe tbody tr th:only-of-type {\n",
       "        vertical-align: middle;\n",
       "    }\n",
       "\n",
       "    .dataframe tbody tr th {\n",
       "        vertical-align: top;\n",
       "    }\n",
       "\n",
       "    .dataframe thead th {\n",
       "        text-align: right;\n",
       "    }\n",
       "</style>\n",
       "<table border=\"1\" class=\"dataframe\">\n",
       "  <thead>\n",
       "    <tr style=\"text-align: right;\">\n",
       "      <th></th>\n",
       "      <th>name</th>\n",
       "      <th>rtype</th>\n",
       "      <th>size</th>\n",
       "    </tr>\n",
       "  </thead>\n",
       "  <tbody>\n",
       "    <tr>\n",
       "      <th>0</th>\n",
       "      <td>wiktionary_merkmal</td>\n",
       "      <td>(DataFrame, Series)</td>\n",
       "      <td>2.1 GB</td>\n",
       "    </tr>\n",
       "    <tr>\n",
       "      <th>1</th>\n",
       "      <td>wiktionary</td>\n",
       "      <td>(DataFrame, Series)</td>\n",
       "      <td>769.9 MB</td>\n",
       "    </tr>\n",
       "    <tr>\n",
       "      <th>2</th>\n",
       "      <td>wiktionary_merkmal_text</td>\n",
       "      <td>(DataFrame, Series)</td>\n",
       "      <td>326.5 MB</td>\n",
       "    </tr>\n",
       "    <tr>\n",
       "      <th>3</th>\n",
       "      <td>wiktionary_trash</td>\n",
       "      <td>(DataFrame, Series)</td>\n",
       "      <td>4.0 MB</td>\n",
       "    </tr>\n",
       "    <tr>\n",
       "      <th>4</th>\n",
       "      <td>mask</td>\n",
       "      <td>(Series,)</td>\n",
       "      <td>1.6 MB</td>\n",
       "    </tr>\n",
       "    <tr>\n",
       "      <th>5</th>\n",
       "      <td>translate_tag</td>\n",
       "      <td>(DataFrame, Series)</td>\n",
       "      <td>37.3 KB</td>\n",
       "    </tr>\n",
       "    <tr>\n",
       "      <th>6</th>\n",
       "      <td>translate_tagZ</td>\n",
       "      <td>(DataFrame, Series)</td>\n",
       "      <td>20.9 KB</td>\n",
       "    </tr>\n",
       "    <tr>\n",
       "      <th>7</th>\n",
       "      <td>_i4</td>\n",
       "      <td>(str,)</td>\n",
       "      <td>4.0 KB</td>\n",
       "    </tr>\n",
       "    <tr>\n",
       "      <th>8</th>\n",
       "      <td>Stop</td>\n",
       "      <td>(type,)</td>\n",
       "      <td>1.0 KB</td>\n",
       "    </tr>\n",
       "    <tr>\n",
       "      <th>9</th>\n",
       "      <td>Markdown</td>\n",
       "      <td>(type,)</td>\n",
       "      <td>1.0 KB</td>\n",
       "    </tr>\n",
       "  </tbody>\n",
       "</table>\n",
       "</div>"
      ],
      "text/plain": [
       "                      name                rtype      size\n",
       "0       wiktionary_merkmal  (DataFrame, Series)    2.1 GB\n",
       "1               wiktionary  (DataFrame, Series)  769.9 MB\n",
       "2  wiktionary_merkmal_text  (DataFrame, Series)  326.5 MB\n",
       "3         wiktionary_trash  (DataFrame, Series)    4.0 MB\n",
       "4                     mask            (Series,)    1.6 MB\n",
       "5            translate_tag  (DataFrame, Series)   37.3 KB\n",
       "6           translate_tagZ  (DataFrame, Series)   20.9 KB\n",
       "7                      _i4               (str,)    4.0 KB\n",
       "8                     Stop              (type,)    1.0 KB\n",
       "9                 Markdown              (type,)    1.0 KB"
      ]
     },
     "execution_count": 13,
     "metadata": {},
     "output_type": "execute_result"
    }
   ],
   "source": [
    "pak.memory_consumption(locals())"
   ]
  },
  {
   "cell_type": "markdown",
   "metadata": {},
   "source": [
    "### wiktionary anschauen"
   ]
  },
  {
   "cell_type": "code",
   "execution_count": 14,
   "metadata": {
    "execution": {
     "iopub.execute_input": "2023-02-20T12:56:17.034523Z",
     "iopub.status.busy": "2023-02-20T12:56:17.034247Z",
     "iopub.status.idle": "2023-02-20T12:56:17.178457Z",
     "shell.execute_reply": "2023-02-20T12:56:17.177334Z",
     "shell.execute_reply.started": "2023-02-20T12:56:17.034497Z"
    }
   },
   "outputs": [
    {
     "data": {
      "text/html": [
       "<div>\n",
       "<style scoped>\n",
       "    .dataframe tbody tr th:only-of-type {\n",
       "        vertical-align: middle;\n",
       "    }\n",
       "\n",
       "    .dataframe tbody tr th {\n",
       "        vertical-align: top;\n",
       "    }\n",
       "\n",
       "    .dataframe thead th {\n",
       "        text-align: right;\n",
       "    }\n",
       "</style>\n",
       "<table border=\"1\" class=\"dataframe\">\n",
       "  <thead>\n",
       "    <tr style=\"text-align: right;\">\n",
       "      <th></th>\n",
       "      <th>page_id</th>\n",
       "      <th>page_part</th>\n",
       "      <th>section_id2</th>\n",
       "      <th>title</th>\n",
       "      <th>lemma</th>\n",
       "      <th>inflected</th>\n",
       "      <th>pos</th>\n",
       "      <th>rhymes</th>\n",
       "      <th>section_len</th>\n",
       "      <th>flexion</th>\n",
       "      <th>ipa</th>\n",
       "      <th>syllables</th>\n",
       "      <th>lang</th>\n",
       "      <th>lang_code</th>\n",
       "      <th>error</th>\n",
       "    </tr>\n",
       "  </thead>\n",
       "  <tbody>\n",
       "    <tr>\n",
       "      <th>121344</th>\n",
       "      <td>274097</td>\n",
       "      <td>0</td>\n",
       "      <td>gefriergetrocknet</td>\n",
       "      <td>gefriergetrocknet</td>\n",
       "      <td>gefriergetrocknet</td>\n",
       "      <td>False</td>\n",
       "      <td>{'Adjektiv': []}</td>\n",
       "      <td>NaN</td>\n",
       "      <td>988</td>\n",
       "      <td>{'Positiv': 'gefriergetrocknet'}</td>\n",
       "      <td>[ɡəˈfʁiːɐ̯ɡəˌtʁɔknət]</td>\n",
       "      <td>[ge, frier, ge, trock, net]</td>\n",
       "      <td>Deutsch</td>\n",
       "      <td>de</td>\n",
       "      <td></td>\n",
       "    </tr>\n",
       "    <tr>\n",
       "      <th>784281</th>\n",
       "      <td>1055347</td>\n",
       "      <td>0</td>\n",
       "      <td>gefriertrocknen</td>\n",
       "      <td>gefriertrocknen</td>\n",
       "      <td>gefriertrocknen</td>\n",
       "      <td>False</td>\n",
       "      <td>{'Verb': []}</td>\n",
       "      <td>NaN</td>\n",
       "      <td>3920</td>\n",
       "      <td>{'Präsens_ich': 'gefriertrockne', 'Präsens_du': 'gefriertrocknest', 'Präsens_er, sie, es': 'gefriertrocknet', 'Präteritum_ich': 'gefriertrocknete', 'Konjunktiv II_ich': 'gefriertrocknete', 'Imperativ Singular': 'gefriertrockne', 'Imperativ Plural': 'gefriertrocknet', 'Partizip II': 'gefriergetrocknet', 'Hilfsverb': 'haben'}</td>\n",
       "      <td>[ɡəˈfʁiːɐ̯ˌtʁɔknən]</td>\n",
       "      <td>[ge, frier, trock, nen]</td>\n",
       "      <td>Deutsch</td>\n",
       "      <td>de</td>\n",
       "      <td></td>\n",
       "    </tr>\n",
       "    <tr>\n",
       "      <th>98190</th>\n",
       "      <td>242838</td>\n",
       "      <td>0</td>\n",
       "      <td>missraten</td>\n",
       "      <td>missraten</td>\n",
       "      <td>missraten</td>\n",
       "      <td>False</td>\n",
       "      <td>{'Verb': []}</td>\n",
       "      <td>[aːtn̩]</td>\n",
       "      <td>1130</td>\n",
       "      <td>{'Präsens_ich': 'missrate', 'Präsens_du': 'missrätst', 'Präsens_er, sie, es': 'missrät', 'Präteritum_ich': 'missriet', 'Partizip II': 'missraten', 'Konjunktiv II_ich': 'missriete', 'Imperativ Singular': 'missrate', 'Imperativ Plural': 'missratet', 'Hilfsverb': 'sein'}</td>\n",
       "      <td>[mɪsˈʁaːtn̩]</td>\n",
       "      <td>[miss, ra, ten]</td>\n",
       "      <td>Deutsch</td>\n",
       "      <td>de</td>\n",
       "      <td></td>\n",
       "    </tr>\n",
       "  </tbody>\n",
       "</table>\n",
       "</div>"
      ],
      "text/plain": [
       "        page_id  page_part        section_id2              title  \\\n",
       "121344   274097          0  gefriergetrocknet  gefriergetrocknet   \n",
       "784281  1055347          0    gefriertrocknen    gefriertrocknen   \n",
       "98190    242838          0          missraten          missraten   \n",
       "\n",
       "                    lemma  inflected               pos   rhymes  section_len  \\\n",
       "121344  gefriergetrocknet      False  {'Adjektiv': []}      NaN          988   \n",
       "784281    gefriertrocknen      False      {'Verb': []}      NaN         3920   \n",
       "98190           missraten      False      {'Verb': []}  [aːtn̩]         1130   \n",
       "\n",
       "                                                                                                                                                                                                                                                                                                                                      flexion  \\\n",
       "121344                                                                                                                                                                                                                                                                                                       {'Positiv': 'gefriergetrocknet'}   \n",
       "784281  {'Präsens_ich': 'gefriertrockne', 'Präsens_du': 'gefriertrocknest', 'Präsens_er, sie, es': 'gefriertrocknet', 'Präteritum_ich': 'gefriertrocknete', 'Konjunktiv II_ich': 'gefriertrocknete', 'Imperativ Singular': 'gefriertrockne', 'Imperativ Plural': 'gefriertrocknet', 'Partizip II': 'gefriergetrocknet', 'Hilfsverb': 'haben'}   \n",
       "98190                                                            {'Präsens_ich': 'missrate', 'Präsens_du': 'missrätst', 'Präsens_er, sie, es': 'missrät', 'Präteritum_ich': 'missriet', 'Partizip II': 'missraten', 'Konjunktiv II_ich': 'missriete', 'Imperativ Singular': 'missrate', 'Imperativ Plural': 'missratet', 'Hilfsverb': 'sein'}   \n",
       "\n",
       "                          ipa                    syllables     lang lang_code  \\\n",
       "121344  [ɡəˈfʁiːɐ̯ɡəˌtʁɔknət]  [ge, frier, ge, trock, net]  Deutsch        de   \n",
       "784281    [ɡəˈfʁiːɐ̯ˌtʁɔknən]      [ge, frier, trock, nen]  Deutsch        de   \n",
       "98190            [mɪsˈʁaːtn̩]              [miss, ra, ten]  Deutsch        de   \n",
       "\n",
       "       error  \n",
       "121344        \n",
       "784281        \n",
       "98190         "
      ]
     },
     "execution_count": 14,
     "metadata": {},
     "output_type": "execute_result"
    }
   ],
   "source": [
    "# suche_debug \n",
    "mask = wiktionary.title.isin(suche_debug)\n",
    "wiktionary[mask].sort_values(['section_id2',])"
   ]
  },
  {
   "cell_type": "code",
   "execution_count": 15,
   "metadata": {
    "execution": {
     "iopub.execute_input": "2023-02-20T12:56:17.180881Z",
     "iopub.status.busy": "2023-02-20T12:56:17.180622Z",
     "iopub.status.idle": "2023-02-20T12:56:17.217151Z",
     "shell.execute_reply": "2023-02-20T12:56:17.216327Z",
     "shell.execute_reply.started": "2023-02-20T12:56:17.180860Z"
    },
    "tags": []
   },
   "outputs": [],
   "source": [
    "#pak.sample(wiktionary)"
   ]
  },
  {
   "cell_type": "code",
   "execution_count": 16,
   "metadata": {
    "execution": {
     "iopub.execute_input": "2023-02-20T12:56:17.218535Z",
     "iopub.status.busy": "2023-02-20T12:56:17.218242Z",
     "iopub.status.idle": "2023-02-20T12:56:17.262229Z",
     "shell.execute_reply": "2023-02-20T12:56:17.258066Z",
     "shell.execute_reply.started": "2023-02-20T12:56:17.218507Z"
    }
   },
   "outputs": [
    {
     "name": "stdout",
     "output_type": "stream",
     "text": [
      "\u001b[1m\u001b[7m\u001b[34mNo rows\u001b[0m\n"
     ]
    }
   ],
   "source": [
    "# suche_debug \n",
    "mask = wiktionary_trash.title.isin(suche_debug)\n",
    "grid(wiktionary_trash[mask].sort_values(['section_id2',]))"
   ]
  },
  {
   "cell_type": "code",
   "execution_count": 17,
   "metadata": {
    "execution": {
     "iopub.execute_input": "2023-02-20T12:56:17.263599Z",
     "iopub.status.busy": "2023-02-20T12:56:17.263298Z",
     "iopub.status.idle": "2023-02-20T12:56:17.335321Z",
     "shell.execute_reply": "2023-02-20T12:56:17.334583Z",
     "shell.execute_reply.started": "2023-02-20T12:56:17.263573Z"
    }
   },
   "outputs": [
    {
     "data": {
      "text/html": [
       "<div>\n",
       "<style scoped>\n",
       "    .dataframe tbody tr th:only-of-type {\n",
       "        vertical-align: middle;\n",
       "    }\n",
       "\n",
       "    .dataframe tbody tr th {\n",
       "        vertical-align: top;\n",
       "    }\n",
       "\n",
       "    .dataframe thead th {\n",
       "        text-align: right;\n",
       "    }\n",
       "</style>\n",
       "<table border=\"1\" class=\"dataframe\">\n",
       "  <thead>\n",
       "    <tr style=\"text-align: right;\">\n",
       "      <th></th>\n",
       "      <th>msg</th>\n",
       "      <th>msg_count</th>\n",
       "      <th>msg_percent</th>\n",
       "      <th>graph</th>\n",
       "    </tr>\n",
       "  </thead>\n",
       "  <tbody>\n",
       "    <tr>\n",
       "      <th>0</th>\n",
       "      <td>title zu viele Wörter</td>\n",
       "      <td>3910</td>\n",
       "      <td>94.2</td>\n",
       "      <td>###############################################</td>\n",
       "    </tr>\n",
       "    <tr>\n",
       "      <th>1</th>\n",
       "      <td>title zu kurz</td>\n",
       "      <td>206</td>\n",
       "      <td>5.0</td>\n",
       "      <td>##</td>\n",
       "    </tr>\n",
       "    <tr>\n",
       "      <th>2</th>\n",
       "      <td>lemma zu kurz</td>\n",
       "      <td>26</td>\n",
       "      <td>0.6</td>\n",
       "      <td></td>\n",
       "    </tr>\n",
       "    <tr>\n",
       "      <th>3</th>\n",
       "      <td>lang_code ist nan</td>\n",
       "      <td>10</td>\n",
       "      <td>0.2</td>\n",
       "      <td></td>\n",
       "    </tr>\n",
       "  </tbody>\n",
       "</table>\n",
       "</div>"
      ],
      "text/plain": [
       "                     msg  msg_count  msg_percent  \\\n",
       "0  title zu viele Wörter       3910         94.2   \n",
       "1          title zu kurz        206          5.0   \n",
       "2          lemma zu kurz         26          0.6   \n",
       "3      lang_code ist nan         10          0.2   \n",
       "\n",
       "                                             graph  \n",
       "0  ###############################################  \n",
       "1                                               ##  \n",
       "2                                                   \n",
       "3                                                   "
      ]
     },
     "execution_count": 17,
     "metadata": {},
     "output_type": "execute_result"
    }
   ],
   "source": [
    "# wiktionary_trash\n",
    "a = pak.analyse_freqs(wiktionary_trash, 'msg')\n",
    "a"
   ]
  },
  {
   "cell_type": "markdown",
   "metadata": {},
   "source": [
    "### wiktionary_merkmal anschauen"
   ]
  },
  {
   "cell_type": "code",
   "execution_count": 18,
   "metadata": {
    "execution": {
     "iopub.execute_input": "2023-02-20T12:56:17.336633Z",
     "iopub.status.busy": "2023-02-20T12:56:17.336383Z",
     "iopub.status.idle": "2023-02-20T12:56:17.729038Z",
     "shell.execute_reply": "2023-02-20T12:56:17.728468Z",
     "shell.execute_reply.started": "2023-02-20T12:56:17.336612Z"
    }
   },
   "outputs": [],
   "source": [
    "# suche_debug \n",
    "mask = wiktionary_merkmal.data.isin(suche_debug)\n",
    "a = wiktionary_merkmal[mask].sort_values(['section_id2','merkmal'])\n",
    "#a"
   ]
  },
  {
   "cell_type": "code",
   "execution_count": 19,
   "metadata": {
    "execution": {
     "iopub.execute_input": "2023-02-20T12:56:17.729847Z",
     "iopub.status.busy": "2023-02-20T12:56:17.729650Z",
     "iopub.status.idle": "2023-02-20T12:56:35.601703Z",
     "shell.execute_reply": "2023-02-20T12:56:35.600648Z",
     "shell.execute_reply.started": "2023-02-20T12:56:17.729827Z"
    },
    "tags": []
   },
   "outputs": [
    {
     "data": {
      "text/html": [
       "<div>\n",
       "<style scoped>\n",
       "    .dataframe tbody tr th:only-of-type {\n",
       "        vertical-align: middle;\n",
       "    }\n",
       "\n",
       "    .dataframe tbody tr th {\n",
       "        vertical-align: top;\n",
       "    }\n",
       "\n",
       "    .dataframe thead th {\n",
       "        text-align: right;\n",
       "    }\n",
       "</style>\n",
       "<table border=\"1\" class=\"dataframe\">\n",
       "  <thead>\n",
       "    <tr style=\"text-align: right;\">\n",
       "      <th></th>\n",
       "      <th>section_id2</th>\n",
       "      <th>merkmal</th>\n",
       "      <th>node_debug</th>\n",
       "      <th>node_kontext</th>\n",
       "      <th>data</th>\n",
       "      <th>num</th>\n",
       "      <th>meta</th>\n",
       "    </tr>\n",
       "  </thead>\n",
       "  <tbody>\n",
       "    <tr>\n",
       "      <th>0</th>\n",
       "      <td>Hallo</td>\n",
       "      <td>übersicht</td>\n",
       "      <td>Deutsch Substantiv Übersicht</td>\n",
       "      <td>Genus</td>\n",
       "      <td>n</td>\n",
       "      <td>NaN</td>\n",
       "      <td>&lt;NA&gt;</td>\n",
       "    </tr>\n",
       "    <tr>\n",
       "      <th>446</th>\n",
       "      <td>April_1</td>\n",
       "      <td>istName</td>\n",
       "      <td>&lt;NA&gt;</td>\n",
       "      <td>&lt;NA&gt;</td>\n",
       "      <td>exists</td>\n",
       "      <td>NaN</td>\n",
       "      <td>&lt;NA&gt;</td>\n",
       "    </tr>\n",
       "    <tr>\n",
       "      <th>1031</th>\n",
       "      <td>Liebe_1</td>\n",
       "      <td>übersicht</td>\n",
       "      <td>Deutsch Substantiv Übersicht</td>\n",
       "      <td>Nominativ Plural</td>\n",
       "      <td>—</td>\n",
       "      <td>NaN</td>\n",
       "      <td>&lt;NA&gt;</td>\n",
       "    </tr>\n",
       "    <tr>\n",
       "      <th>18515</th>\n",
       "      <td>Rauch</td>\n",
       "      <td>nurWortart</td>\n",
       "      <td>Wortart fehlt</td>\n",
       "      <td>1</td>\n",
       "      <td>Substantiv</td>\n",
       "      <td>NaN</td>\n",
       "      <td>&lt;NA&gt;</td>\n",
       "    </tr>\n",
       "    <tr>\n",
       "      <th>81347</th>\n",
       "      <td>spulgen</td>\n",
       "      <td>übersicht</td>\n",
       "      <td>Deutsch Verb Übersicht</td>\n",
       "      <td>Präteritum_ich</td>\n",
       "      <td></td>\n",
       "      <td>NaN</td>\n",
       "      <td>&lt;NA&gt;</td>\n",
       "    </tr>\n",
       "    <tr>\n",
       "      <th>175097</th>\n",
       "      <td>ein-</td>\n",
       "      <td>Präfix</td>\n",
       "      <td>&lt;NA&gt;</td>\n",
       "      <td>&lt;NA&gt;</td>\n",
       "      <td>exists</td>\n",
       "      <td>NaN</td>\n",
       "      <td>&lt;NA&gt;</td>\n",
       "    </tr>\n",
       "    <tr>\n",
       "      <th>230371</th>\n",
       "      <td>Joch</td>\n",
       "      <td>herkunft</td>\n",
       "      <td></td>\n",
       "      <td>Ü</td>\n",
       "      <td>𒄿𒌑𒃷</td>\n",
       "      <td>[]</td>\n",
       "      <td></td>\n",
       "    </tr>\n",
       "    <tr>\n",
       "      <th>380397</th>\n",
       "      <td>Abfall</td>\n",
       "      <td>übersicht</td>\n",
       "      <td>Deutsch Substantiv Übersicht</td>\n",
       "      <td>Genus</td>\n",
       "      <td>m</td>\n",
       "      <td>NaN</td>\n",
       "      <td>&lt;NA&gt;</td>\n",
       "    </tr>\n",
       "    <tr>\n",
       "      <th>1308756</th>\n",
       "      <td>μm</td>\n",
       "      <td>up</td>\n",
       "      <td></td>\n",
       "      <td></td>\n",
       "      <td>Einheit</td>\n",
       "      <td>[1]</td>\n",
       "      <td></td>\n",
       "    </tr>\n",
       "    <tr>\n",
       "      <th>1314648</th>\n",
       "      <td>&amp;c.</td>\n",
       "      <td>def</td>\n",
       "      <td></td>\n",
       "      <td></td>\n",
       "      <td>et cetera</td>\n",
       "      <td>[1]</td>\n",
       "      <td></td>\n",
       "    </tr>\n",
       "    <tr>\n",
       "      <th>1492067</th>\n",
       "      <td>Pathovar</td>\n",
       "      <td>herkunft</td>\n",
       "      <td></td>\n",
       "      <td>Ü</td>\n",
       "      <td>varius</td>\n",
       "      <td>[]</td>\n",
       "      <td>παθοs</td>\n",
       "    </tr>\n",
       "    <tr>\n",
       "      <th>5171413</th>\n",
       "      <td>Überreichweiten</td>\n",
       "      <td>gm</td>\n",
       "      <td></td>\n",
       "      <td></td>\n",
       "      <td>Überreichweite</td>\n",
       "      <td>[]</td>\n",
       "      <td></td>\n",
       "    </tr>\n",
       "    <tr>\n",
       "      <th>5171416</th>\n",
       "      <td>Überreichweiten</td>\n",
       "      <td>gm</td>\n",
       "      <td></td>\n",
       "      <td></td>\n",
       "      <td>Überreichweite</td>\n",
       "      <td>[]</td>\n",
       "      <td></td>\n",
       "    </tr>\n",
       "  </tbody>\n",
       "</table>\n",
       "</div>"
      ],
      "text/plain": [
       "             section_id2     merkmal                     node_debug  \\\n",
       "0                  Hallo   übersicht  Deutsch Substantiv Übersicht\n",
       "   \n",
       "446              April_1     istName                           <NA>   \n",
       "1031             Liebe_1   übersicht  Deutsch Substantiv Übersicht\n",
       "   \n",
       "18515              Rauch  nurWortart                  Wortart fehlt   \n",
       "81347            spulgen   übersicht        Deutsch Verb Übersicht\n",
       "   \n",
       "175097              ein-      Präfix                           <NA>   \n",
       "230371              Joch    herkunft                                  \n",
       "380397            Abfall   übersicht  Deutsch Substantiv Übersicht\n",
       "   \n",
       "1308756               μm          up                                  \n",
       "1314648              &c.         def                                  \n",
       "1492067         Pathovar    herkunft                                  \n",
       "5171413  Überreichweiten          gm                                  \n",
       "5171416  Überreichweiten          gm                                  \n",
       "\n",
       "             node_kontext            data  num   meta  \n",
       "0                   Genus               n  NaN   <NA>  \n",
       "446                  <NA>          exists  NaN   <NA>  \n",
       "1031     Nominativ Plural               —  NaN   <NA>  \n",
       "18515                   1      Substantiv  NaN   <NA>  \n",
       "81347      Präteritum_ich                  NaN   <NA>  \n",
       "175097               <NA>          exists  NaN   <NA>  \n",
       "230371                  Ü             𒄿𒌑𒃷   []         \n",
       "380397              Genus               m  NaN   <NA>  \n",
       "1308756                           Einheit  [1]         \n",
       "1314648                         et cetera  [1]         \n",
       "1492067                 Ü          varius   []  παθοs  \n",
       "5171413                    Überreichweite   []         \n",
       "5171416                    Überreichweite   []         "
      ]
     },
     "execution_count": 19,
     "metadata": {},
     "output_type": "execute_result"
    }
   ],
   "source": [
    "pak.sample(wiktionary_merkmal)"
   ]
  },
  {
   "cell_type": "code",
   "execution_count": 20,
   "metadata": {
    "execution": {
     "iopub.execute_input": "2023-02-20T12:56:35.603003Z",
     "iopub.status.busy": "2023-02-20T12:56:35.602702Z",
     "iopub.status.idle": "2023-02-20T12:56:56.224221Z",
     "shell.execute_reply": "2023-02-20T12:56:56.223406Z",
     "shell.execute_reply.started": "2023-02-20T12:56:35.602974Z"
    }
   },
   "outputs": [
    {
     "data": {
      "text/html": [
       "<div>\n",
       "<style scoped>\n",
       "    .dataframe tbody tr th:only-of-type {\n",
       "        vertical-align: middle;\n",
       "    }\n",
       "\n",
       "    .dataframe tbody tr th {\n",
       "        vertical-align: top;\n",
       "    }\n",
       "\n",
       "    .dataframe thead th {\n",
       "        text-align: right;\n",
       "    }\n",
       "</style>\n",
       "<table border=\"1\" class=\"dataframe\">\n",
       "  <thead>\n",
       "    <tr style=\"text-align: right;\">\n",
       "      <th></th>\n",
       "      <th>col_name</th>\n",
       "      <th>datatype_instance</th>\n",
       "      <th>datatype</th>\n",
       "      <th>datatype_short</th>\n",
       "      <th>datatype_suggest</th>\n",
       "      <th>is_numeric</th>\n",
       "      <th>is_string</th>\n",
       "      <th>is_hashable</th>\n",
       "      <th>nan_allowed</th>\n",
       "      <th>mem_usage</th>\n",
       "      <th>ntypes</th>\n",
       "      <th>nunique</th>\n",
       "      <th>nnan</th>\n",
       "      <th>ndups</th>\n",
       "      <th>n</th>\n",
       "      <th>vmin</th>\n",
       "      <th>vmean</th>\n",
       "      <th>vmedian</th>\n",
       "      <th>vmax</th>\n",
       "      <th>vsum</th>\n",
       "    </tr>\n",
       "  </thead>\n",
       "  <tbody>\n",
       "    <tr>\n",
       "      <th>0</th>\n",
       "      <td>__index__</td>\n",
       "      <td>int64</td>\n",
       "      <td>np.int64</td>\n",
       "      <td>int64</td>\n",
       "      <td>np.int32</td>\n",
       "      <td>True</td>\n",
       "      <td>False</td>\n",
       "      <td>True</td>\n",
       "      <td>False</td>\n",
       "      <td>80.0 B</td>\n",
       "      <td>1</td>\n",
       "      <td>5171417</td>\n",
       "      <td>0</td>\n",
       "      <td>0</td>\n",
       "      <td>5171417</td>\n",
       "      <td>0.0</td>\n",
       "      <td>2585708.0</td>\n",
       "      <td>2585708.0</td>\n",
       "      <td>5171416.0</td>\n",
       "      <td>1.337177e+13</td>\n",
       "    </tr>\n",
       "    <tr>\n",
       "      <th>1</th>\n",
       "      <td>section_id2</td>\n",
       "      <td>str</td>\n",
       "      <td>pd.string</td>\n",
       "      <td>string</td>\n",
       "      <td></td>\n",
       "      <td>False</td>\n",
       "      <td>True</td>\n",
       "      <td>True</td>\n",
       "      <td>True</td>\n",
       "      <td>788.0 B</td>\n",
       "      <td>1</td>\n",
       "      <td>836708</td>\n",
       "      <td>0</td>\n",
       "      <td>4334709</td>\n",
       "      <td>5171417</td>\n",
       "      <td>&amp;c.</td>\n",
       "      <td>NaN</td>\n",
       "      <td>NaN</td>\n",
       "      <td>μm</td>\n",
       "      <td>NaN</td>\n",
       "    </tr>\n",
       "    <tr>\n",
       "      <th>2</th>\n",
       "      <td>merkmal</td>\n",
       "      <td>str</td>\n",
       "      <td>pd.string</td>\n",
       "      <td>string</td>\n",
       "      <td></td>\n",
       "      <td>False</td>\n",
       "      <td>True</td>\n",
       "      <td>True</td>\n",
       "      <td>True</td>\n",
       "      <td>717.0 B</td>\n",
       "      <td>1</td>\n",
       "      <td>36</td>\n",
       "      <td>0</td>\n",
       "      <td>5171381</td>\n",
       "      <td>5171417</td>\n",
       "      <td>Präfix</td>\n",
       "      <td>NaN</td>\n",
       "      <td>NaN</td>\n",
       "      <td>übersicht</td>\n",
       "      <td>NaN</td>\n",
       "    </tr>\n",
       "    <tr>\n",
       "      <th>3</th>\n",
       "      <td>node_debug</td>\n",
       "      <td>str</td>\n",
       "      <td>pd.string</td>\n",
       "      <td>string</td>\n",
       "      <td></td>\n",
       "      <td>False</td>\n",
       "      <td>True</td>\n",
       "      <td>True</td>\n",
       "      <td>True</td>\n",
       "      <td>729.0 B</td>\n",
       "      <td>1</td>\n",
       "      <td>31</td>\n",
       "      <td>11465</td>\n",
       "      <td>5159921</td>\n",
       "      <td>5171417</td>\n",
       "      <td></td>\n",
       "      <td>NaN</td>\n",
       "      <td>NaN</td>\n",
       "      <td>Wortart fehlt</td>\n",
       "      <td>NaN</td>\n",
       "    </tr>\n",
       "    <tr>\n",
       "      <th>4</th>\n",
       "      <td>node_kontext</td>\n",
       "      <td>str</td>\n",
       "      <td>pd.string</td>\n",
       "      <td>string</td>\n",
       "      <td></td>\n",
       "      <td>False</td>\n",
       "      <td>True</td>\n",
       "      <td>True</td>\n",
       "      <td>True</td>\n",
       "      <td>607.0 B</td>\n",
       "      <td>1</td>\n",
       "      <td>235</td>\n",
       "      <td>11465</td>\n",
       "      <td>5159717</td>\n",
       "      <td>5171417</td>\n",
       "      <td></td>\n",
       "      <td>NaN</td>\n",
       "      <td>NaN</td>\n",
       "      <td>Ü</td>\n",
       "      <td>NaN</td>\n",
       "    </tr>\n",
       "    <tr>\n",
       "      <th>5</th>\n",
       "      <td>data</td>\n",
       "      <td>str</td>\n",
       "      <td>pd.string</td>\n",
       "      <td>string</td>\n",
       "      <td></td>\n",
       "      <td>False</td>\n",
       "      <td>True</td>\n",
       "      <td>True</td>\n",
       "      <td>True</td>\n",
       "      <td>774.0 B</td>\n",
       "      <td>1</td>\n",
       "      <td>725566</td>\n",
       "      <td>0</td>\n",
       "      <td>4445851</td>\n",
       "      <td>5171417</td>\n",
       "      <td></td>\n",
       "      <td>NaN</td>\n",
       "      <td>NaN</td>\n",
       "      <td>𒄿𒌑𒃷</td>\n",
       "      <td>NaN</td>\n",
       "    </tr>\n",
       "    <tr>\n",
       "      <th>6</th>\n",
       "      <td>num</td>\n",
       "      <td>list</td>\n",
       "      <td>object</td>\n",
       "      <td>object</td>\n",
       "      <td></td>\n",
       "      <td>False</td>\n",
       "      <td>True</td>\n",
       "      <td>False</td>\n",
       "      <td>True</td>\n",
       "      <td>464.0 B</td>\n",
       "      <td>1</td>\n",
       "      <td>224</td>\n",
       "      <td>1133103</td>\n",
       "      <td>4038090</td>\n",
       "      <td>5171417</td>\n",
       "      <td>[]</td>\n",
       "      <td>NaN</td>\n",
       "      <td>NaN</td>\n",
       "      <td>[1225]</td>\n",
       "      <td>NaN</td>\n",
       "    </tr>\n",
       "    <tr>\n",
       "      <th>7</th>\n",
       "      <td>meta</td>\n",
       "      <td>str</td>\n",
       "      <td>pd.string</td>\n",
       "      <td>string</td>\n",
       "      <td></td>\n",
       "      <td>False</td>\n",
       "      <td>True</td>\n",
       "      <td>True</td>\n",
       "      <td>True</td>\n",
       "      <td>519.0 B</td>\n",
       "      <td>1</td>\n",
       "      <td>18571</td>\n",
       "      <td>1133103</td>\n",
       "      <td>4019743</td>\n",
       "      <td>5171417</td>\n",
       "      <td></td>\n",
       "      <td>NaN</td>\n",
       "      <td>NaN</td>\n",
       "      <td>παθοs</td>\n",
       "      <td>NaN</td>\n",
       "    </tr>\n",
       "  </tbody>\n",
       "</table>\n",
       "</div>"
      ],
      "text/plain": [
       "       col_name datatype_instance   datatype datatype_short datatype_suggest  \\\n",
       "0     __index__             int64   np.int64          int64         np.int32   \n",
       "1   section_id2               str  pd.string         string                    \n",
       "2       merkmal               str  pd.string         string                    \n",
       "3    node_debug               str  pd.string         string                    \n",
       "4  node_kontext               str  pd.string         string                    \n",
       "5          data               str  pd.string         string                    \n",
       "6           num              list     object         object                    \n",
       "7          meta               str  pd.string         string                    \n",
       "\n",
       "   is_numeric  is_string  is_hashable  nan_allowed mem_usage  ntypes  nunique  \\\n",
       "0        True      False         True        False    80.0 B       1  5171417   \n",
       "1       False       True         True         True   788.0 B       1   836708   \n",
       "2       False       True         True         True   717.0 B       1       36   \n",
       "3       False       True         True         True   729.0 B       1       31   \n",
       "4       False       True         True         True   607.0 B       1      235   \n",
       "5       False       True         True         True   774.0 B       1   725566   \n",
       "6       False       True        False         True   464.0 B       1      224   \n",
       "7       False       True         True         True   519.0 B       1    18571   \n",
       "\n",
       "      nnan    ndups        n    vmin      vmean    vmedian           vmax  \\\n",
       "0        0        0  5171417     0.0  2585708.0  2585708.0      5171416.0   \n",
       "1        0  4334709  5171417     &c.        NaN        NaN             μm   \n",
       "2        0  5171381  5171417  Präfix        NaN        NaN      übersicht   \n",
       "3    11465  5159921  5171417                NaN        NaN  Wortart fehlt   \n",
       "4    11465  5159717  5171417                NaN        NaN              Ü   \n",
       "5        0  4445851  5171417                NaN        NaN            𒄿𒌑𒃷   \n",
       "6  1133103  4038090  5171417      []        NaN        NaN         [1225]   \n",
       "7  1133103  4019743  5171417                NaN        NaN          παθοs   \n",
       "\n",
       "           vsum  \n",
       "0  1.337177e+13  \n",
       "1           NaN  \n",
       "2           NaN  \n",
       "3           NaN  \n",
       "4           NaN  \n",
       "5           NaN  \n",
       "6           NaN  \n",
       "7           NaN  "
      ]
     },
     "execution_count": 20,
     "metadata": {},
     "output_type": "execute_result"
    }
   ],
   "source": [
    "pak.analyse_cols(wiktionary_merkmal)"
   ]
  },
  {
   "cell_type": "code",
   "execution_count": 21,
   "metadata": {
    "execution": {
     "iopub.execute_input": "2023-02-20T12:56:56.225351Z",
     "iopub.status.busy": "2023-02-20T12:56:56.225101Z",
     "iopub.status.idle": "2023-02-20T12:57:06.846967Z",
     "shell.execute_reply": "2023-02-20T12:57:06.846225Z",
     "shell.execute_reply.started": "2023-02-20T12:56:56.225328Z"
    }
   },
   "outputs": [
    {
     "data": {
      "text/html": [
       "<div>\n",
       "<style scoped>\n",
       "    .dataframe tbody tr th:only-of-type {\n",
       "        vertical-align: middle;\n",
       "    }\n",
       "\n",
       "    .dataframe tbody tr th {\n",
       "        vertical-align: top;\n",
       "    }\n",
       "\n",
       "    .dataframe thead th {\n",
       "        text-align: right;\n",
       "    }\n",
       "</style>\n",
       "<table border=\"1\" class=\"dataframe\">\n",
       "  <thead>\n",
       "    <tr style=\"text-align: right;\">\n",
       "      <th></th>\n",
       "      <th>merkmal</th>\n",
       "      <th>merkmal_count</th>\n",
       "      <th>merkmal_percent</th>\n",
       "      <th>data</th>\n",
       "      <th>data_count</th>\n",
       "    </tr>\n",
       "  </thead>\n",
       "  <tbody>\n",
       "    <tr>\n",
       "      <th>0</th>\n",
       "      <td>gm</td>\n",
       "      <td>2565289</td>\n",
       "      <td>49.6</td>\n",
       "      <td>[überlegen, auserlesen, dunkelrot, praxisnah, erdnah, lebensnah, wirtschaftsnah, durchfressen, unterlegen, rot, naheliegend, kirschrot, schmal, fromm, gesund, bescheiden, glatt, karg, krumm, lammfromm]</td>\n",
       "      <td>[243, 213, 199, 199, 197, 197, 195, 190, 185, 174, 166, 165, 164, 164, 164, 164, 164, 164, 164, 164]</td>\n",
       "    </tr>\n",
       "    <tr>\n",
       "      <th>1</th>\n",
       "      <td>übersicht</td>\n",
       "      <td>1121446</td>\n",
       "      <td>21.7</td>\n",
       "      <td>[—, f, m, n, haben, -, –, sein, 1, 0, ja, , sie, nein, ?, keine, die, mini, der, Butzen]</td>\n",
       "      <td>[58205, 41060, 35808, 20346, 12628, 8656, 6524, 2151, 773, 640, 527, 386, 209, 97, 96, 63, 44, 37, 34, 32]</td>\n",
       "    </tr>\n",
       "    <tr>\n",
       "      <th>2</th>\n",
       "      <td>def</td>\n",
       "      <td>290370</td>\n",
       "      <td>5.6</td>\n",
       "      <td>[Deutschland, Stadt, Person, Vorname, Familienname, Eigenschaft, Mensch, Ort, bestimmt, Teil, Wasser, klein, Bayern, Baden-Württemberg, weiblich, Zustand, Handlung, Sprache, groß, Gruppe]</td>\n",
       "      <td>[2179, 2121, 1682, 1278, 928, 725, 514, 470, 412, 371, 361, 358, 354, 346, 343, 343, 334, 331, 323, 312]</td>\n",
       "    </tr>\n",
       "    <tr>\n",
       "      <th>3</th>\n",
       "      <td>familie</td>\n",
       "      <td>181434</td>\n",
       "      <td>3.5</td>\n",
       "      <td>[Verzeichnis:Deutsch/Zahlenbegriffe, Adjektiv, Verzeichnis:Deutsch/Wortbildungen/sub, Substantiv, Wohlwollen, darein, dagegen, Verzeichnis:Deutsch/Wortbildungen/kon, beiderseits, diesseits, Obligation, Langeweile, Maurer, Viertel, herab, langweilig, Nordamerika, Nordirland, Nordkorea, Nordosten]</td>\n",
       "      <td>[10, 9, 6, 5, 5, 5, 5, 5, 4, 4, 4, 4, 4, 4, 4, 4, 4, 4, 4, 4]</td>\n",
       "    </tr>\n",
       "    <tr>\n",
       "      <th>4</th>\n",
       "      <td>down</td>\n",
       "      <td>170792</td>\n",
       "      <td>3.3</td>\n",
       "      <td>[Sekunde, sein, Widder, Krebs, Löwe, Mutter, Fisch, Krone, Tochter, Vater, Pferd, Quadrat, Schiff, Fußball, Alkohol, Centavo, Sohn, Stier, König, Verzeichnis:Deutsch/Werkzeuge]</td>\n",
       "      <td>[14, 14, 12, 11, 11, 11, 11, 11, 10, 10, 10, 10, 10, 10, 10, 10, 9, 9, 9, 9]</td>\n",
       "    </tr>\n",
       "    <tr>\n",
       "      <th>5</th>\n",
       "      <td>kombi</td>\n",
       "      <td>153988</td>\n",
       "      <td>3.0</td>\n",
       "      <td>[fahren, kommen, nach, leben, arbeiten, stammen, über, gehen, durch, besuchen, aufhalten, aufwachsen, reisen, zurückkehren, verweilen, anlangen, ein, sein, wohnen, haben]</td>\n",
       "      <td>[3663, 2081, 2015, 1975, 1929, 1909, 1905, 1885, 1868, 1859, 1814, 1811, 1804, 1804, 1785, 1732, 1051, 758, 564, 500]</td>\n",
       "    </tr>\n",
       "    <tr>\n",
       "      <th>6</th>\n",
       "      <td>alt_1</td>\n",
       "      <td>147359</td>\n",
       "      <td>2.8</td>\n",
       "      <td>[wandle, scharwenzle, scharwenzele, eiere, wandele, übersiedele, übersiedle, umlagere, umlagre, durchsegele, durchsegle, unterstempele, unterstemple, umsegele, umsegle, durchschüttele, durchschüttle, durchwandere, durchwandre, durchschnüffele]</td>\n",
       "      <td>[12, 12, 12, 12, 12, 10, 10, 10, 10, 10, 10, 10, 10, 10, 10, 10, 10, 10, 10, 10]</td>\n",
       "    </tr>\n",
       "    <tr>\n",
       "      <th>7</th>\n",
       "      <td>syn</td>\n",
       "      <td>143937</td>\n",
       "      <td>2.8</td>\n",
       "      <td>[machen, sehr, Unsinn, entfernen, Dummkopf, Verzeichnis:Deutsch/Essen und Trinken/Küchenkräuter und Gewürze, passieren, ziehen, stark, abhauen, Geschwätz, gut, nicht, sein, alt, weggehen, wegen, schlagen, Trottel, gewaltig]</td>\n",
       "      <td>[50, 44, 30, 28, 28, 27, 27, 27, 27, 26, 26, 26, 26, 25, 25, 24, 24, 24, 23, 23]</td>\n",
       "    </tr>\n",
       "    <tr>\n",
       "      <th>8</th>\n",
       "      <td>up</td>\n",
       "      <td>111771</td>\n",
       "      <td>2.2</td>\n",
       "      <td>[Stadt, Person, Frau, Pflanze, Tier, Sprache, Siedlung, Vogel, Staat, Lebewesen, Linguistik, Chemie, Mensch, Ort, Fluss, Hauptstadt, Technik, Gerät, Pilz, Gemeinde]</td>\n",
       "      <td>[2413, 780, 706, 582, 540, 491, 391, 357, 328, 327, 320, 304, 290, 287, 280, 272, 269, 246, 242, 239]</td>\n",
       "    </tr>\n",
       "    <tr>\n",
       "      <th>9</th>\n",
       "      <td>lateral</td>\n",
       "      <td>110180</td>\n",
       "      <td>2.1</td>\n",
       "      <td>[sein, lassen, machen, entfernen, nicht, verschwinden, verbinden, wegnehmen, zerstören, verschließen, wegbringen, wegschaffen, anmachen, passieren, aufnehmen, anpassen, reduzieren, abnehmen, klar, zeigen]</td>\n",
       "      <td>[81, 81, 79, 66, 57, 51, 48, 47, 44, 41, 40, 38, 34, 33, 32, 32, 32, 31, 30, 30]</td>\n",
       "    </tr>\n",
       "    <tr>\n",
       "      <th>10</th>\n",
       "      <td>gegen</td>\n",
       "      <td>70131</td>\n",
       "      <td>1.4</td>\n",
       "      <td>[belassen, trennen, ablehnen, bleiben, loben, beruhigen, öffnen, klar, lösen, freundlich, schweigen, entfernen, ignorieren, lassen, aufhören, aufgeben, zurückhaltend, glätten, nüchtern, weggehen]</td>\n",
       "      <td>[57, 56, 54, 51, 49, 47, 47, 45, 44, 43, 42, 42, 41, 39, 39, 38, 38, 38, 36, 36]</td>\n",
       "    </tr>\n",
       "    <tr>\n",
       "      <th>11</th>\n",
       "      <td>alt_2</td>\n",
       "      <td>29581</td>\n",
       "      <td>0.6</td>\n",
       "      <td>[Anna, ind, Bhf, Strauss, Dekan, Jiu-Jitsu, Ju-Jitsu, Jujutsu, Ju-Jutsu, Jiu Jitsu, Halle an der Saale, Ann, St. Galler, St.-Galler, weiss, ggb, ggbfs, g. F, Hgb, Sarah]</td>\n",
       "      <td>[12, 6, 5, 4, 4, 4, 4, 4, 4, 4, 4, 4, 4, 4, 3, 3, 3, 3, 3, 3]</td>\n",
       "    </tr>\n",
       "    <tr>\n",
       "      <th>12</th>\n",
       "      <td>herkunft</td>\n",
       "      <td>24538</td>\n",
       "      <td>0.5</td>\n",
       "      <td>[con, facere, unus, sub, com, bis, trans, nihil, agere, capere, inter, stare, dis, prae, ponere, tri, valere, manus, trahere, ferre]</td>\n",
       "      <td>[49, 35, 33, 22, 19, 19, 17, 15, 14, 14, 13, 12, 12, 12, 12, 12, 11, 11, 11, 10]</td>\n",
       "    </tr>\n",
       "    <tr>\n",
       "      <th>13</th>\n",
       "      <td>alt</td>\n",
       "      <td>9452</td>\n",
       "      <td>0.2</td>\n",
       "      <td>[dreiviertel, vermißt, beeinflußt, verblaßt, 100prozentig, mißglückt, Thor, Staar, Stahr, Theil, Yoghurt, Abtheilung, Fast food, nemlich, blaß, Costaricaner, plazieren, rauh, Bißchen, Schiffahrt]</td>\n",
       "      <td>[4, 3, 3, 3, 3, 3, 2, 2, 2, 2, 2, 2, 2, 2, 2, 2, 2, 2, 2, 2]</td>\n",
       "    </tr>\n",
       "    <tr>\n",
       "      <th>14</th>\n",
       "      <td>noSteig</td>\n",
       "      <td>8101</td>\n",
       "      <td>0.2</td>\n",
       "      <td>exists</td>\n",
       "      <td>8101</td>\n",
       "    </tr>\n",
       "    <tr>\n",
       "      <th>15</th>\n",
       "      <td>weib</td>\n",
       "      <td>6859</td>\n",
       "      <td>0.1</td>\n",
       "      <td>[weiblich, Keeperin, Torfrau, Taxlerin, Fähe, Weibchen, Torhüterin, Täubin, Taubenweibchen, Taube, Klassenbeste, Klassenerste, Lehrmädchen, Lehrtochter, Mutter, Hündin, Großmutter, Mährin, Elefantenkuh, Maurerin]</td>\n",
       "      <td>[4, 4, 4, 4, 3, 3, 3, 3, 3, 3, 3, 3, 3, 3, 2, 2, 2, 2, 2, 2]</td>\n",
       "    </tr>\n",
       "    <tr>\n",
       "      <th>16</th>\n",
       "      <td>alt_3</td>\n",
       "      <td>5968</td>\n",
       "      <td>0.1</td>\n",
       "      <td>[Maria, Peterson, Maier, Mair, Mayer, Mayr, Meier, Meyr, Meyer, Anna, Petersen, Baan, Banne, Bannert, Bantje, Christine, Adolar, Schwantje, Zwaantje, Swana]</td>\n",
       "      <td>[7, 6, 6, 6, 6, 6, 6, 6, 6, 6, 5, 5, 5, 5, 5, 5, 5, 5, 5, 5]</td>\n",
       "    </tr>\n",
       "    <tr>\n",
       "      <th>17</th>\n",
       "      <td>männ</td>\n",
       "      <td>5619</td>\n",
       "      <td>0.1</td>\n",
       "      <td>[männlich, Elefantenbulle, Elf, welcher, welchen, welches, Truthahn, Bauer, Dipl.-Kfm, Vater, Kater, Vetter, Cousin, Onkel, Oheim, Bruder, Mönch, Großvater, Maurer, Hexer]</td>\n",
       "      <td>[5, 3, 3, 3, 3, 3, 3, 3, 3, 2, 2, 2, 2, 2, 2, 2, 2, 2, 2, 2]</td>\n",
       "    </tr>\n",
       "    <tr>\n",
       "      <th>18</th>\n",
       "      <td>abk</td>\n",
       "      <td>5061</td>\n",
       "      <td>0.1</td>\n",
       "      <td>[Kfz-Kennzeichen, ICD-10, Str, Summenformel, chi, zho, gel, Imp, Reg, inf, ind, Konv, Pfl, Gen, Ins, imp, erk, Balder, Chr, Verzeichnis:Chemie]</td>\n",
       "      <td>[20, 19, 16, 14, 11, 11, 11, 9, 9, 9, 8, 7, 7, 7, 6, 6, 6, 6, 6, 6]</td>\n",
       "    </tr>\n",
       "    <tr>\n",
       "      <th>19</th>\n",
       "      <td>istName</td>\n",
       "      <td>1809</td>\n",
       "      <td>0.0</td>\n",
       "      <td>exists</td>\n",
       "      <td>1809</td>\n",
       "    </tr>\n",
       "    <tr>\n",
       "      <th>20</th>\n",
       "      <td>klein</td>\n",
       "      <td>1216</td>\n",
       "      <td>0.0</td>\n",
       "      <td>[Fischchen, Zuckerchen, Küchlein, Kaile, Kailinka, Dani, Knöchelchen, Möpschen, Friedel, Walli, Walti, Lädchen, Stef, Kästchen, Rübchen, Röhrchen, Bübchen, Büblein, Schäffchen, Älchen]</td>\n",
       "      <td>[2, 2, 2, 2, 2, 2, 2, 2, 2, 2, 2, 2, 2, 2, 2, 2, 2, 2, 2, 1]</td>\n",
       "    </tr>\n",
       "    <tr>\n",
       "      <th>21</th>\n",
       "      <td>down_part_1</td>\n",
       "      <td>1076</td>\n",
       "      <td>0.0</td>\n",
       "      <td>[Baden, Knacklaut, Neunkirchen, Ostersonntag, Ostermontag, Loge, Parkett, Alservorstadt, Melk, Dornbach, Hollabrunn, Gesellschaftsvertrag, Leviathan, Naturzustand, Urvertrag, Urzustand, Zwischenbrücken, Feldspat, Adamsapfel, Ethrog]</td>\n",
       "      <td>[3, 3, 3, 2, 2, 2, 2, 2, 2, 2, 2, 2, 2, 2, 2, 2, 2, 2, 2, 2]</td>\n",
       "    </tr>\n",
       "    <tr>\n",
       "      <th>22</th>\n",
       "      <td>familie_1</td>\n",
       "      <td>1031</td>\n",
       "      <td>0.0</td>\n",
       "      <td>[konzelebrieren, Konzelebration, Altruismus, Altruist, altruistisch, Haussier, parodieren, parodisch, Parodist, Parodistik, managen, Manager, Management, Auskultant, Auskultation, Auskultator, misogyn, Misogyn, Misogynie, Kriegsdienstverweigerung]</td>\n",
       "      <td>[3, 3, 2, 2, 2, 2, 2, 2, 2, 2, 2, 2, 2, 2, 2, 2, 2, 2, 2, 2]</td>\n",
       "    </tr>\n",
       "    <tr>\n",
       "      <th>23</th>\n",
       "      <td>alt_abk</td>\n",
       "      <td>798</td>\n",
       "      <td>0.0</td>\n",
       "      <td>[Ado, Teddy, Tina, Abo, Isa, Albrand, Almar, Almund, Adhelm, Tine, Bea, Haube, Gust, Limo, Bert, Fred, Adwin, Alwin, Alix, Ago]</td>\n",
       "      <td>[4, 4, 4, 3, 3, 3, 3, 3, 3, 3, 3, 3, 2, 2, 2, 2, 2, 2, 2, 2]</td>\n",
       "    </tr>\n",
       "    <tr>\n",
       "      <th>24</th>\n",
       "      <td>alt_klein</td>\n",
       "      <td>667</td>\n",
       "      <td>0.0</td>\n",
       "      <td>[Aldo, Aldi, Alto, Alti, Adi, Zenzi, Aggi, Reni, Lenchen, Gustel, Gustl, Wölfchen, Wolfi, Nikki, Baldi, Babs, Babsi, Conny, Mani, Lei]</td>\n",
       "      <td>[5, 5, 5, 5, 3, 3, 3, 3, 3, 2, 2, 2, 2, 2, 2, 2, 2, 2, 2, 2]</td>\n",
       "    </tr>\n",
       "    <tr>\n",
       "      <th>25</th>\n",
       "      <td>noSing</td>\n",
       "      <td>650</td>\n",
       "      <td>0.0</td>\n",
       "      <td>exists</td>\n",
       "      <td>650</td>\n",
       "    </tr>\n",
       "    <tr>\n",
       "      <th>26</th>\n",
       "      <td>up_part</td>\n",
       "      <td>438</td>\n",
       "      <td>0.0</td>\n",
       "      <td>[Niederösterreich, Burgenland, Wien, Mödling, Nordfriesland, Tirol, Donaustadt, Salzburg, Liesing, Graz, Frankreich, Marburg, Döbling, Hietzing, Wikimedia, Oberösterreich, Industrieviertel, Hamburg, Hannover, Hessen]</td>\n",
       "      <td>[50, 32, 21, 18, 10, 8, 8, 7, 6, 5, 5, 4, 4, 4, 3, 3, 3, 3, 3, 3]</td>\n",
       "    </tr>\n",
       "    <tr>\n",
       "      <th>27</th>\n",
       "      <td>alt_männ</td>\n",
       "      <td>383</td>\n",
       "      <td>0.0</td>\n",
       "      <td>[Nikola, Justine, Nicole, Patrizia, Hanna, Imma, Johanna, Basilia, Basilea, Gerharda, Franziska, Eberta, Ebrikke, Eberharda, Laurentia, Ivana, Sixta, Sixtina, Augusta, Auguste]</td>\n",
       "      <td>[3, 2, 2, 2, 2, 2, 2, 2, 2, 2, 2, 2, 2, 2, 2, 2, 2, 2, 1, 1]</td>\n",
       "    </tr>\n",
       "    <tr>\n",
       "      <th>28</th>\n",
       "      <td>alt_weib</td>\n",
       "      <td>376</td>\n",
       "      <td>0.0</td>\n",
       "      <td>[Sebastian, Egbert, Natalis, David, Auszubildender, Azubi, Junge, Lehrjunge, Lehrknabe, Lehrling, Birger, Swen, Sven, Svend, Jan, Paul, Johannes, Johanan, Valerius, Yan]</td>\n",
       "      <td>[4, 4, 3, 3, 3, 3, 3, 3, 3, 3, 2, 2, 2, 2, 2, 2, 2, 2, 2, 2]</td>\n",
       "    </tr>\n",
       "    <tr>\n",
       "      <th>29</th>\n",
       "      <td>Wikivoyage</td>\n",
       "      <td>243</td>\n",
       "      <td>0.0</td>\n",
       "      <td>exists</td>\n",
       "      <td>243</td>\n",
       "    </tr>\n",
       "    <tr>\n",
       "      <th>30</th>\n",
       "      <td>Wikispecies</td>\n",
       "      <td>202</td>\n",
       "      <td>0.0</td>\n",
       "      <td>exists</td>\n",
       "      <td>202</td>\n",
       "    </tr>\n",
       "    <tr>\n",
       "      <th>31</th>\n",
       "      <td>nurWortart</td>\n",
       "      <td>192</td>\n",
       "      <td>0.0</td>\n",
       "      <td>[Deutsch, Substantiv, Verb, Adjektiv, Konjugierte Form, Deklinierte Form, Toponym, Verb: krauten, j, {{Ref-Duden|Rauch_Pelz_Haar}}, {{Ref-Duden|Muenster_Kaese|Münster (Käse)}}, {{Ref-Duden|Kokos_Nuss|Kokos (Nuss)}}, {{Ref-Duden|schmirgeln_riechen}}, Adverb, {{Ref-Duden|nach_spaeter_hinterher_danach}} – dort auch ''nach und nach'', {{Ref-Duden|Lusche_Wasser_Pfuetze}}, {{Ref-Duden|Maerchen_Vertiefung_Senke_Krater|Märchen (Vertiefung, Senke, Krater)}}, kleines [[Maar]], Konjunktion, {{Ref-Duden|waehrenddessen_waehrend}}, {{Ref-Duden|summen_summieren_addieren}}]</td>\n",
       "      <td>[50, 25, 20, 9, 7, 4, 3, 3, 2, 1, 1, 1, 1, 1, 1, 1, 1, 1, 1, 1]</td>\n",
       "    </tr>\n",
       "    <tr>\n",
       "      <th>32</th>\n",
       "      <td>Taxonomie</td>\n",
       "      <td>171</td>\n",
       "      <td>0.0</td>\n",
       "      <td>exists</td>\n",
       "      <td>171</td>\n",
       "    </tr>\n",
       "    <tr>\n",
       "      <th>33</th>\n",
       "      <td>Präfix</td>\n",
       "      <td>111</td>\n",
       "      <td>0.0</td>\n",
       "      <td>exists</td>\n",
       "      <td>111</td>\n",
       "    </tr>\n",
       "    <tr>\n",
       "      <th>34</th>\n",
       "      <td>Suffix</td>\n",
       "      <td>105</td>\n",
       "      <td>0.0</td>\n",
       "      <td>exists</td>\n",
       "      <td>105</td>\n",
       "    </tr>\n",
       "    <tr>\n",
       "      <th>35</th>\n",
       "      <td>VMaßeinheiten</td>\n",
       "      <td>73</td>\n",
       "      <td>0.0</td>\n",
       "      <td>exists</td>\n",
       "      <td>73</td>\n",
       "    </tr>\n",
       "  </tbody>\n",
       "</table>\n",
       "</div>"
      ],
      "text/plain": [
       "          merkmal  merkmal_count  merkmal_percent  \\\n",
       "0              gm        2565289             49.6   \n",
       "1       übersicht        1121446             21.7   \n",
       "2             def         290370              5.6   \n",
       "3         familie         181434              3.5   \n",
       "4            down         170792              3.3   \n",
       "5           kombi         153988              3.0   \n",
       "6           alt_1         147359              2.8   \n",
       "7             syn         143937              2.8   \n",
       "8              up         111771              2.2   \n",
       "9         lateral         110180              2.1   \n",
       "10          gegen          70131              1.4   \n",
       "11          alt_2          29581              0.6   \n",
       "12       herkunft          24538              0.5   \n",
       "13            alt           9452              0.2   \n",
       "14        noSteig           8101              0.2   \n",
       "15           weib           6859              0.1   \n",
       "16          alt_3           5968              0.1   \n",
       "17           männ           5619              0.1   \n",
       "18            abk           5061              0.1   \n",
       "19        istName           1809              0.0   \n",
       "20          klein           1216              0.0   \n",
       "21    down_part_1           1076              0.0   \n",
       "22      familie_1           1031              0.0   \n",
       "23        alt_abk            798              0.0   \n",
       "24      alt_klein            667              0.0   \n",
       "25         noSing            650              0.0   \n",
       "26        up_part            438              0.0   \n",
       "27       alt_männ            383              0.0   \n",
       "28       alt_weib            376              0.0   \n",
       "29     Wikivoyage            243              0.0   \n",
       "30    Wikispecies            202              0.0   \n",
       "31     nurWortart            192              0.0   \n",
       "32      Taxonomie            171              0.0   \n",
       "33         Präfix            111              0.0   \n",
       "34         Suffix            105              0.0   \n",
       "35  VMaßeinheiten             73              0.0   \n",
       "\n",
       "                                                                                                                                                                                                                                                                                                                                                                                                                                                                                                                                                                                    data  \\\n",
       "0                                                                                                                                                                                                                                                                                                                                                                              [überlegen, auserlesen, dunkelrot, praxisnah, erdnah, lebensnah, wirtschaftsnah, durchfressen, unterlegen, rot, naheliegend, kirschrot, schmal, fromm, gesund, bescheiden, glatt, karg, krumm, lammfromm]   \n",
       "1                                                                                                                                                                                                                                                                                                                                                                                                                                                                                               [—, f, m, n, haben, -, –, sein, 1, 0, ja, , sie, nein, ?, keine, die, mini, der, Butzen]   \n",
       "2                                                                                                                                                                                                                                                                                                                                                                                            [Deutschland, Stadt, Person, Vorname, Familienname, Eigenschaft, Mensch, Ort, bestimmt, Teil, Wasser, klein, Bayern, Baden-Württemberg, weiblich, Zustand, Handlung, Sprache, groß, Gruppe]   \n",
       "3                                                                                                                                                                                                                                                                               [Verzeichnis:Deutsch/Zahlenbegriffe, Adjektiv, Verzeichnis:Deutsch/Wortbildungen/sub, Substantiv, Wohlwollen, darein, dagegen, Verzeichnis:Deutsch/Wortbildungen/kon, beiderseits, diesseits, Obligation, Langeweile, Maurer, Viertel, herab, langweilig, Nordamerika, Nordirland, Nordkorea, Nordosten]   \n",
       "4                                                                                                                                                                                                                                                                                                                                                                                                       [Sekunde, sein, Widder, Krebs, Löwe, Mutter, Fisch, Krone, Tochter, Vater, Pferd, Quadrat, Schiff, Fußball, Alkohol, Centavo, Sohn, Stier, König, Verzeichnis:Deutsch/Werkzeuge]   \n",
       "5                                                                                                                                                                                                                                                                                                                                                                                                             [fahren, kommen, nach, leben, arbeiten, stammen, über, gehen, durch, besuchen, aufhalten, aufwachsen, reisen, zurückkehren, verweilen, anlangen, ein, sein, wohnen, haben]   \n",
       "6                                                                                                                                                                                                                                                                                                                                    [wandle, scharwenzle, scharwenzele, eiere, wandele, übersiedele, übersiedle, umlagere, umlagre, durchsegele, durchsegle, unterstempele, unterstemple, umsegele, umsegle, durchschüttele, durchschüttle, durchwandere, durchwandre, durchschnüffele]   \n",
       "7                                                                                                                                                                                                                                                                                                                                                        [machen, sehr, Unsinn, entfernen, Dummkopf, Verzeichnis:Deutsch/Essen und Trinken/Küchenkräuter und Gewürze, passieren, ziehen, stark, abhauen, Geschwätz, gut, nicht, sein, alt, weggehen, wegen, schlagen, Trottel, gewaltig]   \n",
       "8                                                                                                                                                                                                                                                                                                                                                                                                                   [Stadt, Person, Frau, Pflanze, Tier, Sprache, Siedlung, Vogel, Staat, Lebewesen, Linguistik, Chemie, Mensch, Ort, Fluss, Hauptstadt, Technik, Gerät, Pilz, Gemeinde]   \n",
       "9                                                                                                                                                                                                                                                                                                                                                                           [sein, lassen, machen, entfernen, nicht, verschwinden, verbinden, wegnehmen, zerstören, verschließen, wegbringen, wegschaffen, anmachen, passieren, aufnehmen, anpassen, reduzieren, abnehmen, klar, zeigen]   \n",
       "10                                                                                                                                                                                                                                                                                                                                                                                   [belassen, trennen, ablehnen, bleiben, loben, beruhigen, öffnen, klar, lösen, freundlich, schweigen, entfernen, ignorieren, lassen, aufhören, aufgeben, zurückhaltend, glätten, nüchtern, weggehen]   \n",
       "11                                                                                                                                                                                                                                                                                                                                                                                                             [Anna, ind, Bhf, Strauss, Dekan, Jiu-Jitsu, Ju-Jitsu, Jujutsu, Ju-Jutsu, Jiu Jitsu, Halle an der Saale, Ann, St. Galler, St.-Galler, weiss, ggb, ggbfs, g. F, Hgb, Sarah]   \n",
       "12                                                                                                                                                                                                                                                                                                                                                                                                                                                  [con, facere, unus, sub, com, bis, trans, nihil, agere, capere, inter, stare, dis, prae, ponere, tri, valere, manus, trahere, ferre]   \n",
       "13                                                                                                                                                                                                                                                                                                                                                                                   [dreiviertel, vermißt, beeinflußt, verblaßt, 100prozentig, mißglückt, Thor, Staar, Stahr, Theil, Yoghurt, Abtheilung, Fast food, nemlich, blaß, Costaricaner, plazieren, rauh, Bißchen, Schiffahrt]   \n",
       "14                                                                                                                                                                                                                                                                                                                                                                                                                                                                                                                                                                                exists   \n",
       "15                                                                                                                                                                                                                                                                                                                                                                  [weiblich, Keeperin, Torfrau, Taxlerin, Fähe, Weibchen, Torhüterin, Täubin, Taubenweibchen, Taube, Klassenbeste, Klassenerste, Lehrmädchen, Lehrtochter, Mutter, Hündin, Großmutter, Mährin, Elefantenkuh, Maurerin]   \n",
       "16                                                                                                                                                                                                                                                                                                                                                                                                                          [Maria, Peterson, Maier, Mair, Mayer, Mayr, Meier, Meyr, Meyer, Anna, Petersen, Baan, Banne, Bannert, Bantje, Christine, Adolar, Schwantje, Zwaantje, Swana]   \n",
       "17                                                                                                                                                                                                                                                                                                                                                                                                           [männlich, Elefantenbulle, Elf, welcher, welchen, welches, Truthahn, Bauer, Dipl.-Kfm, Vater, Kater, Vetter, Cousin, Onkel, Oheim, Bruder, Mönch, Großvater, Maurer, Hexer]   \n",
       "18                                                                                                                                                                                                                                                                                                                                                                                                                                       [Kfz-Kennzeichen, ICD-10, Str, Summenformel, chi, zho, gel, Imp, Reg, inf, ind, Konv, Pfl, Gen, Ins, imp, erk, Balder, Chr, Verzeichnis:Chemie]   \n",
       "19                                                                                                                                                                                                                                                                                                                                                                                                                                                                                                                                                                                exists   \n",
       "20                                                                                                                                                                                                                                                                                                                                                                                              [Fischchen, Zuckerchen, Küchlein, Kaile, Kailinka, Dani, Knöchelchen, Möpschen, Friedel, Walli, Walti, Lädchen, Stef, Kästchen, Rübchen, Röhrchen, Bübchen, Büblein, Schäffchen, Älchen]   \n",
       "21                                                                                                                                                                                                                                                                                                                                              [Baden, Knacklaut, Neunkirchen, Ostersonntag, Ostermontag, Loge, Parkett, Alservorstadt, Melk, Dornbach, Hollabrunn, Gesellschaftsvertrag, Leviathan, Naturzustand, Urvertrag, Urzustand, Zwischenbrücken, Feldspat, Adamsapfel, Ethrog]   \n",
       "22                                                                                                                                                                                                                                                                                                                               [konzelebrieren, Konzelebration, Altruismus, Altruist, altruistisch, Haussier, parodieren, parodisch, Parodist, Parodistik, managen, Manager, Management, Auskultant, Auskultation, Auskultator, misogyn, Misogyn, Misogynie, Kriegsdienstverweigerung]   \n",
       "23                                                                                                                                                                                                                                                                                                                                                                                                                                                       [Ado, Teddy, Tina, Abo, Isa, Albrand, Almar, Almund, Adhelm, Tine, Bea, Haube, Gust, Limo, Bert, Fred, Adwin, Alwin, Alix, Ago]   \n",
       "24                                                                                                                                                                                                                                                                                                                                                                                                                                                [Aldo, Aldi, Alto, Alti, Adi, Zenzi, Aggi, Reni, Lenchen, Gustel, Gustl, Wölfchen, Wolfi, Nikki, Baldi, Babs, Babsi, Conny, Mani, Lei]   \n",
       "25                                                                                                                                                                                                                                                                                                                                                                                                                                                                                                                                                                                exists   \n",
       "26                                                                                                                                                                                                                                                                                                                                                              [Niederösterreich, Burgenland, Wien, Mödling, Nordfriesland, Tirol, Donaustadt, Salzburg, Liesing, Graz, Frankreich, Marburg, Döbling, Hietzing, Wikimedia, Oberösterreich, Industrieviertel, Hamburg, Hannover, Hessen]   \n",
       "27                                                                                                                                                                                                                                                                                                                                                                                                      [Nikola, Justine, Nicole, Patrizia, Hanna, Imma, Johanna, Basilia, Basilea, Gerharda, Franziska, Eberta, Ebrikke, Eberharda, Laurentia, Ivana, Sixta, Sixtina, Augusta, Auguste]   \n",
       "28                                                                                                                                                                                                                                                                                                                                                                                                             [Sebastian, Egbert, Natalis, David, Auszubildender, Azubi, Junge, Lehrjunge, Lehrknabe, Lehrling, Birger, Swen, Sven, Svend, Jan, Paul, Johannes, Johanan, Valerius, Yan]   \n",
       "29                                                                                                                                                                                                                                                                                                                                                                                                                                                                                                                                                                                exists   \n",
       "30                                                                                                                                                                                                                                                                                                                                                                                                                                                                                                                                                                                exists   \n",
       "31  [Deutsch, Substantiv, Verb, Adjektiv, Konjugierte Form, Deklinierte Form, Toponym, Verb: krauten, j, {{Ref-Duden|Rauch_Pelz_Haar}}, {{Ref-Duden|Muenster_Kaese|Münster (Käse)}}, {{Ref-Duden|Kokos_Nuss|Kokos (Nuss)}}, {{Ref-Duden|schmirgeln_riechen}}, Adverb, {{Ref-Duden|nach_spaeter_hinterher_danach}} – dort auch ''nach und nach'', {{Ref-Duden|Lusche_Wasser_Pfuetze}}, {{Ref-Duden|Maerchen_Vertiefung_Senke_Krater|Märchen (Vertiefung, Senke, Krater)}}, kleines [[Maar]], Konjunktion, {{Ref-Duden|waehrenddessen_waehrend}}, {{Ref-Duden|summen_summieren_addieren}}]   \n",
       "32                                                                                                                                                                                                                                                                                                                                                                                                                                                                                                                                                                                exists   \n",
       "33                                                                                                                                                                                                                                                                                                                                                                                                                                                                                                                                                                                exists   \n",
       "34                                                                                                                                                                                                                                                                                                                                                                                                                                                                                                                                                                                exists   \n",
       "35                                                                                                                                                                                                                                                                                                                                                                                                                                                                                                                                                                                exists   \n",
       "\n",
       "                                                                                                               data_count  \n",
       "0                    [243, 213, 199, 199, 197, 197, 195, 190, 185, 174, 166, 165, 164, 164, 164, 164, 164, 164, 164, 164]  \n",
       "1              [58205, 41060, 35808, 20346, 12628, 8656, 6524, 2151, 773, 640, 527, 386, 209, 97, 96, 63, 44, 37, 34, 32]  \n",
       "2                [2179, 2121, 1682, 1278, 928, 725, 514, 470, 412, 371, 361, 358, 354, 346, 343, 343, 334, 331, 323, 312]  \n",
       "3                                                           [10, 9, 6, 5, 5, 5, 5, 5, 4, 4, 4, 4, 4, 4, 4, 4, 4, 4, 4, 4]  \n",
       "4                                            [14, 14, 12, 11, 11, 11, 11, 11, 10, 10, 10, 10, 10, 10, 10, 10, 9, 9, 9, 9]  \n",
       "5   [3663, 2081, 2015, 1975, 1929, 1909, 1905, 1885, 1868, 1859, 1814, 1811, 1804, 1804, 1785, 1732, 1051, 758, 564, 500]  \n",
       "6                                        [12, 12, 12, 12, 12, 10, 10, 10, 10, 10, 10, 10, 10, 10, 10, 10, 10, 10, 10, 10]  \n",
       "7                                        [50, 44, 30, 28, 28, 27, 27, 27, 27, 26, 26, 26, 26, 25, 25, 24, 24, 24, 23, 23]  \n",
       "8                   [2413, 780, 706, 582, 540, 491, 391, 357, 328, 327, 320, 304, 290, 287, 280, 272, 269, 246, 242, 239]  \n",
       "9                                        [81, 81, 79, 66, 57, 51, 48, 47, 44, 41, 40, 38, 34, 33, 32, 32, 32, 31, 30, 30]  \n",
       "10                                       [57, 56, 54, 51, 49, 47, 47, 45, 44, 43, 42, 42, 41, 39, 39, 38, 38, 38, 36, 36]  \n",
       "11                                                          [12, 6, 5, 4, 4, 4, 4, 4, 4, 4, 4, 4, 4, 4, 3, 3, 3, 3, 3, 3]  \n",
       "12                                       [49, 35, 33, 22, 19, 19, 17, 15, 14, 14, 13, 12, 12, 12, 12, 12, 11, 11, 11, 10]  \n",
       "13                                                           [4, 3, 3, 3, 3, 3, 2, 2, 2, 2, 2, 2, 2, 2, 2, 2, 2, 2, 2, 2]  \n",
       "14                                                                                                                   8101  \n",
       "15                                                           [4, 4, 4, 4, 3, 3, 3, 3, 3, 3, 3, 3, 3, 3, 2, 2, 2, 2, 2, 2]  \n",
       "16                                                           [7, 6, 6, 6, 6, 6, 6, 6, 6, 6, 5, 5, 5, 5, 5, 5, 5, 5, 5, 5]  \n",
       "17                                                           [5, 3, 3, 3, 3, 3, 3, 3, 3, 2, 2, 2, 2, 2, 2, 2, 2, 2, 2, 2]  \n",
       "18                                                    [20, 19, 16, 14, 11, 11, 11, 9, 9, 9, 8, 7, 7, 7, 6, 6, 6, 6, 6, 6]  \n",
       "19                                                                                                                   1809  \n",
       "20                                                           [2, 2, 2, 2, 2, 2, 2, 2, 2, 2, 2, 2, 2, 2, 2, 2, 2, 2, 2, 1]  \n",
       "21                                                           [3, 3, 3, 2, 2, 2, 2, 2, 2, 2, 2, 2, 2, 2, 2, 2, 2, 2, 2, 2]  \n",
       "22                                                           [3, 3, 2, 2, 2, 2, 2, 2, 2, 2, 2, 2, 2, 2, 2, 2, 2, 2, 2, 2]  \n",
       "23                                                           [4, 4, 4, 3, 3, 3, 3, 3, 3, 3, 3, 3, 2, 2, 2, 2, 2, 2, 2, 2]  \n",
       "24                                                           [5, 5, 5, 5, 3, 3, 3, 3, 3, 2, 2, 2, 2, 2, 2, 2, 2, 2, 2, 2]  \n",
       "25                                                                                                                    650  \n",
       "26                                                      [50, 32, 21, 18, 10, 8, 8, 7, 6, 5, 5, 4, 4, 4, 3, 3, 3, 3, 3, 3]  \n",
       "27                                                           [3, 2, 2, 2, 2, 2, 2, 2, 2, 2, 2, 2, 2, 2, 2, 2, 2, 2, 1, 1]  \n",
       "28                                                           [4, 4, 3, 3, 3, 3, 3, 3, 3, 3, 2, 2, 2, 2, 2, 2, 2, 2, 2, 2]  \n",
       "29                                                                                                                    243  \n",
       "30                                                                                                                    202  \n",
       "31                                                        [50, 25, 20, 9, 7, 4, 3, 3, 2, 1, 1, 1, 1, 1, 1, 1, 1, 1, 1, 1]  \n",
       "32                                                                                                                    171  \n",
       "33                                                                                                                    111  \n",
       "34                                                                                                                    105  \n",
       "35                                                                                                                     73  "
      ]
     },
     "execution_count": 21,
     "metadata": {},
     "output_type": "execute_result"
    }
   ],
   "source": [
    "# Häufigkeit der Merkmale\n",
    "pak.analyse_freqs(wiktionary_merkmal,['merkmal','data'])"
   ]
  },
  {
   "cell_type": "code",
   "execution_count": 22,
   "metadata": {
    "execution": {
     "iopub.execute_input": "2023-02-20T12:57:06.848564Z",
     "iopub.status.busy": "2023-02-20T12:57:06.848261Z",
     "iopub.status.idle": "2023-02-20T12:57:07.111281Z",
     "shell.execute_reply": "2023-02-20T12:57:07.110645Z",
     "shell.execute_reply.started": "2023-02-20T12:57:06.848540Z"
    }
   },
   "outputs": [],
   "source": [
    "# ursprüngliche_merkmale merken\n",
    "ursprüngliche_merkmale = wiktionary_merkmal.merkmal.unique()"
   ]
  },
  {
   "cell_type": "markdown",
   "metadata": {},
   "source": [
    "## Vorverarbeitung\n",
    "* Feld num in String wandeln, um dups entfernen zu können\n",
    "* Dups entfernen\n",
    "* wiktionary: flexion in defaultdict wandeln"
   ]
  },
  {
   "cell_type": "code",
   "execution_count": 23,
   "metadata": {
    "execution": {
     "iopub.execute_input": "2023-02-20T12:57:07.112355Z",
     "iopub.status.busy": "2023-02-20T12:57:07.112149Z",
     "iopub.status.idle": "2023-02-20T12:57:08.364571Z",
     "shell.execute_reply": "2023-02-20T12:57:08.363853Z",
     "shell.execute_reply.started": "2023-02-20T12:57:07.112334Z"
    }
   },
   "outputs": [],
   "source": [
    "# num ist leere Liste \n",
    "mask = (wiktionary_merkmal.num.str.len() == 0)  \n",
    "#wiktionary_merkmal[mask]\n",
    "wiktionary_merkmal.loc[mask,'num'] = ''"
   ]
  },
  {
   "cell_type": "code",
   "execution_count": 24,
   "metadata": {
    "execution": {
     "iopub.execute_input": "2023-02-20T12:57:08.368991Z",
     "iopub.status.busy": "2023-02-20T12:57:08.368626Z",
     "iopub.status.idle": "2023-02-20T12:57:08.690071Z",
     "shell.execute_reply": "2023-02-20T12:57:08.689445Z",
     "shell.execute_reply.started": "2023-02-20T12:57:08.368964Z"
    }
   },
   "outputs": [],
   "source": [
    "# fillna\n",
    "wiktionary_merkmal['num'] = wiktionary_merkmal.num.fillna('')"
   ]
  },
  {
   "cell_type": "code",
   "execution_count": 25,
   "metadata": {
    "execution": {
     "iopub.execute_input": "2023-02-20T12:57:08.691157Z",
     "iopub.status.busy": "2023-02-20T12:57:08.690941Z",
     "iopub.status.idle": "2023-02-20T12:57:10.946411Z",
     "shell.execute_reply": "2023-02-20T12:57:10.945423Z",
     "shell.execute_reply.started": "2023-02-20T12:57:08.691136Z"
    }
   },
   "outputs": [],
   "source": [
    "# num ist Liste mit einem Eintrag >> diesen verwenden\n",
    "mask = (wiktionary_merkmal.num.str.len() == 1)\n",
    "wiktionary_merkmal.loc[mask,'num'] = wiktionary_merkmal[mask].num.str[0]\n",
    "#wiktionary_merkmal[mask]"
   ]
  },
  {
   "cell_type": "code",
   "execution_count": 26,
   "metadata": {
    "execution": {
     "iopub.execute_input": "2023-02-20T12:57:10.952499Z",
     "iopub.status.busy": "2023-02-20T12:57:10.952157Z",
     "iopub.status.idle": "2023-02-20T12:57:11.071606Z",
     "shell.execute_reply": "2023-02-20T12:57:11.070782Z",
     "shell.execute_reply.started": "2023-02-20T12:57:10.952469Z"
    }
   },
   "outputs": [
    {
     "data": {
      "text/plain": [
       "\u001b[0;31mSignature:\u001b[0m \u001b[0mpak\u001b[0m\u001b[0;34m.\u001b[0m\u001b[0mlist_to_string\u001b[0m\u001b[0;34m(\u001b[0m\u001b[0mseries\u001b[0m\u001b[0;34m,\u001b[0m \u001b[0msep\u001b[0m\u001b[0;34m=\u001b[0m\u001b[0;34m','\u001b[0m\u001b[0;34m)\u001b[0m\u001b[0;34m\u001b[0m\u001b[0;34m\u001b[0m\u001b[0m\n",
       "\u001b[0;31mDocstring:\u001b[0m\n",
       "Converts a Series of lists of strings into a Series of strings.\n",
       "* sep: The separator, default is ','\n",
       "Example:\n",
       "df = pak.people()\n",
       "df['history2'] = pak.list_to_string(df.history)    \n",
       "\u001b[0;31mFile:\u001b[0m      ~/Data_Linux/Dropbox/31_Projekte/01_Python/git/pandasklar/src/pandasklar/pandas.py\n",
       "\u001b[0;31mType:\u001b[0m      function\n"
      ]
     },
     "metadata": {},
     "output_type": "display_data"
    }
   ],
   "source": [
    "?pak.list_to_string"
   ]
  },
  {
   "cell_type": "code",
   "execution_count": 27,
   "metadata": {
    "execution": {
     "iopub.execute_input": "2023-02-20T12:57:11.073837Z",
     "iopub.status.busy": "2023-02-20T12:57:11.073304Z",
     "iopub.status.idle": "2023-02-20T12:57:13.018093Z",
     "shell.execute_reply": "2023-02-20T12:57:13.017494Z",
     "shell.execute_reply.started": "2023-02-20T12:57:11.073812Z"
    }
   },
   "outputs": [],
   "source": [
    "# Liste in String wandeln, damit wir Dups entfernen können\n",
    "# wiktionary_merkmal: list_to_string\n",
    "wiktionary_merkmal['num'] = pak.list_to_string(wiktionary_merkmal.num)"
   ]
  },
  {
   "cell_type": "code",
   "execution_count": 28,
   "metadata": {
    "execution": {
     "iopub.execute_input": "2023-02-20T12:57:13.031323Z",
     "iopub.status.busy": "2023-02-20T12:57:13.022351Z",
     "iopub.status.idle": "2023-02-20T12:57:20.126348Z",
     "shell.execute_reply": "2023-02-20T12:57:20.125727Z",
     "shell.execute_reply.started": "2023-02-20T12:57:13.031283Z"
    }
   },
   "outputs": [
    {
     "name": "stdout",
     "output_type": "stream",
     "text": [
      "Delete 1902922 rows from 5171417\n"
     ]
    }
   ],
   "source": [
    "# Dups entfernen. \n",
    "# Die Duplikate entstehen z.B. dadurch, dass für manche Merkmale nur der Linktext verwendet wird. \n",
    "# Beispiel Wolf_1, Merkmal kombi: die Wolf _mündet_, in die Wolf _mündet_ führt zu einem Duplikat.\n",
    "mask = wiktionary_merkmal.duplicated()\n",
    "wiktionary_merkmal = pak.drop_rows(wiktionary_merkmal, mask)"
   ]
  },
  {
   "cell_type": "code",
   "execution_count": 29,
   "metadata": {
    "execution": {
     "iopub.execute_input": "2023-02-20T12:57:20.127499Z",
     "iopub.status.busy": "2023-02-20T12:57:20.127280Z",
     "iopub.status.idle": "2023-02-20T12:57:32.957035Z",
     "shell.execute_reply": "2023-02-20T12:57:32.956353Z",
     "shell.execute_reply.started": "2023-02-20T12:57:20.127479Z"
    }
   },
   "outputs": [
    {
     "data": {
      "text/html": [
       "<div>\n",
       "<style scoped>\n",
       "    .dataframe tbody tr th:only-of-type {\n",
       "        vertical-align: middle;\n",
       "    }\n",
       "\n",
       "    .dataframe tbody tr th {\n",
       "        vertical-align: top;\n",
       "    }\n",
       "\n",
       "    .dataframe thead th {\n",
       "        text-align: right;\n",
       "    }\n",
       "</style>\n",
       "<table border=\"1\" class=\"dataframe\">\n",
       "  <thead>\n",
       "    <tr style=\"text-align: right;\">\n",
       "      <th></th>\n",
       "      <th>col_name</th>\n",
       "      <th>datatype_instance</th>\n",
       "      <th>datatype</th>\n",
       "      <th>datatype_short</th>\n",
       "      <th>datatype_suggest</th>\n",
       "      <th>is_numeric</th>\n",
       "      <th>is_string</th>\n",
       "      <th>is_hashable</th>\n",
       "      <th>nan_allowed</th>\n",
       "      <th>mem_usage</th>\n",
       "      <th>ntypes</th>\n",
       "      <th>nunique</th>\n",
       "      <th>nnan</th>\n",
       "      <th>ndups</th>\n",
       "      <th>n</th>\n",
       "      <th>vmin</th>\n",
       "      <th>vmean</th>\n",
       "      <th>vmedian</th>\n",
       "      <th>vmax</th>\n",
       "      <th>vsum</th>\n",
       "    </tr>\n",
       "  </thead>\n",
       "  <tbody>\n",
       "    <tr>\n",
       "      <th>0</th>\n",
       "      <td>__index__</td>\n",
       "      <td>int64</td>\n",
       "      <td>np.int64</td>\n",
       "      <td>int64</td>\n",
       "      <td>np.int32</td>\n",
       "      <td>True</td>\n",
       "      <td>False</td>\n",
       "      <td>True</td>\n",
       "      <td>False</td>\n",
       "      <td>80.0 B</td>\n",
       "      <td>1</td>\n",
       "      <td>3268495</td>\n",
       "      <td>0</td>\n",
       "      <td>0</td>\n",
       "      <td>3268495</td>\n",
       "      <td>0.0</td>\n",
       "      <td>2229677.05</td>\n",
       "      <td>2126302.0</td>\n",
       "      <td>5171413.0</td>\n",
       "      <td>7.287688e+12</td>\n",
       "    </tr>\n",
       "    <tr>\n",
       "      <th>1</th>\n",
       "      <td>section_id2</td>\n",
       "      <td>str</td>\n",
       "      <td>pd.string</td>\n",
       "      <td>string</td>\n",
       "      <td></td>\n",
       "      <td>False</td>\n",
       "      <td>True</td>\n",
       "      <td>True</td>\n",
       "      <td>True</td>\n",
       "      <td>789.0 B</td>\n",
       "      <td>1</td>\n",
       "      <td>836708</td>\n",
       "      <td>0</td>\n",
       "      <td>2431787</td>\n",
       "      <td>3268495</td>\n",
       "      <td>&amp;c.</td>\n",
       "      <td>NaN</td>\n",
       "      <td>NaN</td>\n",
       "      <td>μm</td>\n",
       "      <td>NaN</td>\n",
       "    </tr>\n",
       "    <tr>\n",
       "      <th>2</th>\n",
       "      <td>merkmal</td>\n",
       "      <td>str</td>\n",
       "      <td>pd.string</td>\n",
       "      <td>string</td>\n",
       "      <td></td>\n",
       "      <td>False</td>\n",
       "      <td>True</td>\n",
       "      <td>True</td>\n",
       "      <td>True</td>\n",
       "      <td>803.0 B</td>\n",
       "      <td>1</td>\n",
       "      <td>36</td>\n",
       "      <td>0</td>\n",
       "      <td>3268459</td>\n",
       "      <td>3268495</td>\n",
       "      <td>Präfix</td>\n",
       "      <td>NaN</td>\n",
       "      <td>NaN</td>\n",
       "      <td>übersicht</td>\n",
       "      <td>NaN</td>\n",
       "    </tr>\n",
       "    <tr>\n",
       "      <th>3</th>\n",
       "      <td>node_debug</td>\n",
       "      <td>str</td>\n",
       "      <td>pd.string</td>\n",
       "      <td>string</td>\n",
       "      <td></td>\n",
       "      <td>False</td>\n",
       "      <td>True</td>\n",
       "      <td>True</td>\n",
       "      <td>True</td>\n",
       "      <td>835.0 B</td>\n",
       "      <td>1</td>\n",
       "      <td>31</td>\n",
       "      <td>11465</td>\n",
       "      <td>3256999</td>\n",
       "      <td>3268495</td>\n",
       "      <td></td>\n",
       "      <td>NaN</td>\n",
       "      <td>NaN</td>\n",
       "      <td>Wortart fehlt</td>\n",
       "      <td>NaN</td>\n",
       "    </tr>\n",
       "    <tr>\n",
       "      <th>4</th>\n",
       "      <td>node_kontext</td>\n",
       "      <td>str</td>\n",
       "      <td>pd.string</td>\n",
       "      <td>string</td>\n",
       "      <td></td>\n",
       "      <td>False</td>\n",
       "      <td>True</td>\n",
       "      <td>True</td>\n",
       "      <td>True</td>\n",
       "      <td>635.0 B</td>\n",
       "      <td>1</td>\n",
       "      <td>235</td>\n",
       "      <td>11465</td>\n",
       "      <td>3256795</td>\n",
       "      <td>3268495</td>\n",
       "      <td></td>\n",
       "      <td>NaN</td>\n",
       "      <td>NaN</td>\n",
       "      <td>Ü</td>\n",
       "      <td>NaN</td>\n",
       "    </tr>\n",
       "    <tr>\n",
       "      <th>5</th>\n",
       "      <td>data</td>\n",
       "      <td>str</td>\n",
       "      <td>pd.string</td>\n",
       "      <td>string</td>\n",
       "      <td></td>\n",
       "      <td>False</td>\n",
       "      <td>True</td>\n",
       "      <td>True</td>\n",
       "      <td>True</td>\n",
       "      <td>762.0 B</td>\n",
       "      <td>1</td>\n",
       "      <td>725566</td>\n",
       "      <td>0</td>\n",
       "      <td>2542929</td>\n",
       "      <td>3268495</td>\n",
       "      <td></td>\n",
       "      <td>NaN</td>\n",
       "      <td>NaN</td>\n",
       "      <td>𒄿𒌑𒃷</td>\n",
       "      <td>NaN</td>\n",
       "    </tr>\n",
       "    <tr>\n",
       "      <th>6</th>\n",
       "      <td>num</td>\n",
       "      <td>str</td>\n",
       "      <td>pd.string</td>\n",
       "      <td>string</td>\n",
       "      <td></td>\n",
       "      <td>False</td>\n",
       "      <td>True</td>\n",
       "      <td>True</td>\n",
       "      <td>True</td>\n",
       "      <td>573.0 B</td>\n",
       "      <td>1</td>\n",
       "      <td>224</td>\n",
       "      <td>0</td>\n",
       "      <td>3268271</td>\n",
       "      <td>3268495</td>\n",
       "      <td></td>\n",
       "      <td>NaN</td>\n",
       "      <td>NaN</td>\n",
       "      <td>9,14</td>\n",
       "      <td>NaN</td>\n",
       "    </tr>\n",
       "    <tr>\n",
       "      <th>7</th>\n",
       "      <td>meta</td>\n",
       "      <td>str</td>\n",
       "      <td>pd.string</td>\n",
       "      <td>string</td>\n",
       "      <td></td>\n",
       "      <td>False</td>\n",
       "      <td>True</td>\n",
       "      <td>True</td>\n",
       "      <td>True</td>\n",
       "      <td>485.0 B</td>\n",
       "      <td>1</td>\n",
       "      <td>18571</td>\n",
       "      <td>1133103</td>\n",
       "      <td>2116821</td>\n",
       "      <td>3268495</td>\n",
       "      <td></td>\n",
       "      <td>NaN</td>\n",
       "      <td>NaN</td>\n",
       "      <td>παθοs</td>\n",
       "      <td>NaN</td>\n",
       "    </tr>\n",
       "  </tbody>\n",
       "</table>\n",
       "</div>"
      ],
      "text/plain": [
       "       col_name datatype_instance   datatype datatype_short datatype_suggest  \\\n",
       "0     __index__             int64   np.int64          int64         np.int32   \n",
       "1   section_id2               str  pd.string         string                    \n",
       "2       merkmal               str  pd.string         string                    \n",
       "3    node_debug               str  pd.string         string                    \n",
       "4  node_kontext               str  pd.string         string                    \n",
       "5          data               str  pd.string         string                    \n",
       "6           num               str  pd.string         string                    \n",
       "7          meta               str  pd.string         string                    \n",
       "\n",
       "   is_numeric  is_string  is_hashable  nan_allowed mem_usage  ntypes  nunique  \\\n",
       "0        True      False         True        False    80.0 B       1  3268495   \n",
       "1       False       True         True         True   789.0 B       1   836708   \n",
       "2       False       True         True         True   803.0 B       1       36   \n",
       "3       False       True         True         True   835.0 B       1       31   \n",
       "4       False       True         True         True   635.0 B       1      235   \n",
       "5       False       True         True         True   762.0 B       1   725566   \n",
       "6       False       True         True         True   573.0 B       1      224   \n",
       "7       False       True         True         True   485.0 B       1    18571   \n",
       "\n",
       "      nnan    ndups        n    vmin       vmean    vmedian           vmax  \\\n",
       "0        0        0  3268495     0.0  2229677.05  2126302.0      5171413.0   \n",
       "1        0  2431787  3268495     &c.         NaN        NaN             μm   \n",
       "2        0  3268459  3268495  Präfix         NaN        NaN      übersicht   \n",
       "3    11465  3256999  3268495                 NaN        NaN  Wortart fehlt   \n",
       "4    11465  3256795  3268495                 NaN        NaN              Ü   \n",
       "5        0  2542929  3268495                 NaN        NaN            𒄿𒌑𒃷   \n",
       "6        0  3268271  3268495                 NaN        NaN           9,14   \n",
       "7  1133103  2116821  3268495                 NaN        NaN          παθοs   \n",
       "\n",
       "           vsum  \n",
       "0  7.287688e+12  \n",
       "1           NaN  \n",
       "2           NaN  \n",
       "3           NaN  \n",
       "4           NaN  \n",
       "5           NaN  \n",
       "6           NaN  \n",
       "7           NaN  "
      ]
     },
     "execution_count": 29,
     "metadata": {},
     "output_type": "execute_result"
    }
   ],
   "source": [
    "pak.analyse_cols(wiktionary_merkmal)"
   ]
  },
  {
   "cell_type": "code",
   "execution_count": 30,
   "metadata": {
    "execution": {
     "iopub.execute_input": "2023-02-20T12:57:32.958173Z",
     "iopub.status.busy": "2023-02-20T12:57:32.957915Z",
     "iopub.status.idle": "2023-02-20T12:57:33.225743Z",
     "shell.execute_reply": "2023-02-20T12:57:33.225032Z",
     "shell.execute_reply.started": "2023-02-20T12:57:32.958150Z"
    }
   },
   "outputs": [],
   "source": [
    "# lemma_lower\n",
    "wiktionary['lemma_lower'] = wiktionary.lemma.str.lower() "
   ]
  },
  {
   "cell_type": "code",
   "execution_count": 31,
   "metadata": {
    "execution": {
     "iopub.execute_input": "2023-02-20T12:57:33.227035Z",
     "iopub.status.busy": "2023-02-20T12:57:33.226771Z",
     "iopub.status.idle": "2023-02-20T12:58:31.349837Z",
     "shell.execute_reply": "2023-02-20T12:58:31.349146Z",
     "shell.execute_reply.started": "2023-02-20T12:57:33.227011Z"
    }
   },
   "outputs": [],
   "source": [
    "# wiktionary: flexion in defaultdict wandeln\n",
    "# 1 min\n",
    "wiktionary = pak.cols_to_defaultdict( wiktionary, col_dict='flexion')"
   ]
  },
  {
   "cell_type": "code",
   "execution_count": 32,
   "metadata": {
    "execution": {
     "iopub.execute_input": "2023-02-20T12:58:31.351247Z",
     "iopub.status.busy": "2023-02-20T12:58:31.351005Z",
     "iopub.status.idle": "2023-02-20T12:58:31.818077Z",
     "shell.execute_reply": "2023-02-20T12:58:31.817514Z",
     "shell.execute_reply.started": "2023-02-20T12:58:31.351226Z"
    }
   },
   "outputs": [],
   "source": [
    "# section_len >> score\n",
    "wiktionary = pak.rename_col(wiktionary,'section_len','score')\n",
    "\n",
    "# page_part 0 aufwerten\n",
    "mask = (wiktionary.lemma == wiktionary.section_id2)\n",
    "wiktionary.loc[mask,'score'] = wiktionary[mask].score * 3\n",
    "\n",
    "wiktionary['score'] = pak.scale( wiktionary.score, 'compare_median')\n",
    "mask = wiktionary.score < 0.01\n",
    "wiktionary.loc[mask,'score'] += 0.01"
   ]
  },
  {
   "cell_type": "code",
   "execution_count": 33,
   "metadata": {
    "execution": {
     "iopub.execute_input": "2023-02-20T12:58:31.819201Z",
     "iopub.status.busy": "2023-02-20T12:58:31.818892Z",
     "iopub.status.idle": "2023-02-20T12:58:31.893287Z",
     "shell.execute_reply": "2023-02-20T12:58:31.892526Z",
     "shell.execute_reply.started": "2023-02-20T12:58:31.819089Z"
    },
    "tags": []
   },
   "outputs": [
    {
     "data": {
      "text/html": [
       "<div>\n",
       "<style scoped>\n",
       "    .dataframe tbody tr th:only-of-type {\n",
       "        vertical-align: middle;\n",
       "    }\n",
       "\n",
       "    .dataframe tbody tr th {\n",
       "        vertical-align: top;\n",
       "    }\n",
       "\n",
       "    .dataframe thead th {\n",
       "        text-align: right;\n",
       "    }\n",
       "</style>\n",
       "<table border=\"1\" class=\"dataframe\">\n",
       "  <thead>\n",
       "    <tr style=\"text-align: right;\">\n",
       "      <th></th>\n",
       "      <th>item</th>\n",
       "      <th>item_count</th>\n",
       "      <th>item_percent</th>\n",
       "      <th>graph</th>\n",
       "    </tr>\n",
       "  </thead>\n",
       "  <tbody>\n",
       "    <tr>\n",
       "      <th>0</th>\n",
       "      <td>0.0</td>\n",
       "      <td>834568</td>\n",
       "      <td>99.6</td>\n",
       "      <td>#################################################</td>\n",
       "    </tr>\n",
       "    <tr>\n",
       "      <th>1</th>\n",
       "      <td>50.0</td>\n",
       "      <td>2899</td>\n",
       "      <td>0.3</td>\n",
       "      <td></td>\n",
       "    </tr>\n",
       "    <tr>\n",
       "      <th>2</th>\n",
       "      <td>100.0</td>\n",
       "      <td>98</td>\n",
       "      <td>0.0</td>\n",
       "      <td></td>\n",
       "    </tr>\n",
       "    <tr>\n",
       "      <th>3</th>\n",
       "      <td>150.0</td>\n",
       "      <td>18</td>\n",
       "      <td>0.0</td>\n",
       "      <td></td>\n",
       "    </tr>\n",
       "    <tr>\n",
       "      <th>4</th>\n",
       "      <td>250.0</td>\n",
       "      <td>4</td>\n",
       "      <td>0.0</td>\n",
       "      <td></td>\n",
       "    </tr>\n",
       "    <tr>\n",
       "      <th>5</th>\n",
       "      <td>300.0</td>\n",
       "      <td>3</td>\n",
       "      <td>0.0</td>\n",
       "      <td></td>\n",
       "    </tr>\n",
       "    <tr>\n",
       "      <th>6</th>\n",
       "      <td>200.0</td>\n",
       "      <td>3</td>\n",
       "      <td>0.0</td>\n",
       "      <td></td>\n",
       "    </tr>\n",
       "  </tbody>\n",
       "</table>\n",
       "</div>"
      ],
      "text/plain": [
       "    item  item_count  item_percent  \\\n",
       "0    0.0      834568          99.6   \n",
       "1   50.0        2899           0.3   \n",
       "2  100.0          98           0.0   \n",
       "3  150.0          18           0.0   \n",
       "4  250.0           4           0.0   \n",
       "5  300.0           3           0.0   \n",
       "6  200.0           3           0.0   \n",
       "\n",
       "                                               graph  \n",
       "0  #################################################  \n",
       "1                                                     \n",
       "2                                                     \n",
       "3                                                     \n",
       "4                                                     \n",
       "5                                                     \n",
       "6                                                     "
      ]
     },
     "execution_count": 33,
     "metadata": {},
     "output_type": "execute_result"
    }
   ],
   "source": [
    "# Häufigkeiten score\n",
    "pak.analyse_freqs( (wiktionary.score/50).round(0) * 50 )"
   ]
  },
  {
   "cell_type": "code",
   "execution_count": 34,
   "metadata": {
    "execution": {
     "iopub.execute_input": "2023-02-20T12:58:31.895379Z",
     "iopub.status.busy": "2023-02-20T12:58:31.894583Z",
     "iopub.status.idle": "2023-02-20T12:58:31.967802Z",
     "shell.execute_reply": "2023-02-20T12:58:31.967218Z",
     "shell.execute_reply.started": "2023-02-20T12:58:31.895343Z"
    },
    "tags": []
   },
   "outputs": [
    {
     "data": {
      "text/html": [
       "<div>\n",
       "<style scoped>\n",
       "    .dataframe tbody tr th:only-of-type {\n",
       "        vertical-align: middle;\n",
       "    }\n",
       "\n",
       "    .dataframe tbody tr th {\n",
       "        vertical-align: top;\n",
       "    }\n",
       "\n",
       "    .dataframe thead th {\n",
       "        text-align: right;\n",
       "    }\n",
       "</style>\n",
       "<table border=\"1\" class=\"dataframe\">\n",
       "  <thead>\n",
       "    <tr style=\"text-align: right;\">\n",
       "      <th></th>\n",
       "      <th>section_id2</th>\n",
       "      <th>title</th>\n",
       "      <th>lemma</th>\n",
       "      <th>pos</th>\n",
       "      <th>flexion</th>\n",
       "      <th>score</th>\n",
       "    </tr>\n",
       "  </thead>\n",
       "  <tbody>\n",
       "    <tr>\n",
       "      <th>27</th>\n",
       "      <td>ich</td>\n",
       "      <td>ich</td>\n",
       "      <td>ich</td>\n",
       "      <td>{'Pronomen': ['Personalpronomen']}</td>\n",
       "      <td>{}</td>\n",
       "      <td>317.335358</td>\n",
       "    </tr>\n",
       "    <tr>\n",
       "      <th>6315</th>\n",
       "      <td>schwimmen</td>\n",
       "      <td>schwimmen</td>\n",
       "      <td>schwimmen</td>\n",
       "      <td>{'Verb': []}</td>\n",
       "      <td>{'Präsens_ich': ['schwimme'], 'Präsens_du': ['schwimmst'], 'Präsens_er, sie, es': ['schwimmt'], 'Präteritum_ich': ['schwamm'], 'Präteritum_ich*': ['schwomm'], 'Partizip II': ['geschwommen'], 'Konjunktiv II_ich': ['schwämme'], 'Konjunktiv II_ich*': ['schwömme'], 'Imperativ Singular': ['schwimm'], 'Imperativ Plural': ['schwimmt'], 'Hilfsverb': ['sein'], 'Hilfsverb*': ['haben']}</td>\n",
       "      <td>295.165249</td>\n",
       "    </tr>\n",
       "    <tr>\n",
       "      <th>12146</th>\n",
       "      <td>Schnecke</td>\n",
       "      <td>Schnecke</td>\n",
       "      <td>Schnecke</td>\n",
       "      <td>{'Substantiv': []}</td>\n",
       "      <td>{'Genus': ['f'], 'Nominativ Singular': ['Schnecke'], 'Nominativ Plural': ['Schnecken'], 'Genitiv Singular': ['Schnecke'], 'Genitiv Plural': ['Schnecken'], 'Dativ Singular': ['Schnecke'], 'Dativ Plural': ['Schnecken'], 'Akkusativ Singular': ['Schnecke'], 'Akkusativ Plural': ['Schnecken']}</td>\n",
       "      <td>278.637910</td>\n",
       "    </tr>\n",
       "    <tr>\n",
       "      <th>2735</th>\n",
       "      <td>Papagei</td>\n",
       "      <td>Papagei</td>\n",
       "      <td>Papagei</td>\n",
       "      <td>{'Substantiv': []}</td>\n",
       "      <td>{'Genus': ['m'], 'Nominativ Singular': ['Papagei'], 'Nominativ Plural': ['Papageien'], 'Genitiv Singular': ['Papageien'], 'Genitiv Plural': ['Papageien'], 'Dativ Singular': ['Papageien'], 'Dativ Plural': ['Papageien'], 'Akkusativ Singular': ['Papageien'], 'Akkusativ Plural': ['Papageien']}</td>\n",
       "      <td>263.678007</td>\n",
       "    </tr>\n",
       "    <tr>\n",
       "      <th>135</th>\n",
       "      <td>Haus</td>\n",
       "      <td>Haus</td>\n",
       "      <td>Haus</td>\n",
       "      <td>{'Substantiv': []}</td>\n",
       "      <td>{'Genus': ['n'], 'Nominativ Singular': ['Haus'], 'Nominativ Plural': ['Häuser'], 'Genitiv Singular': ['Hauses'], 'Genitiv Plural': ['Häuser'], 'Dativ Singular': ['Haus'], 'Dativ Singular*': ['Hause'], 'Dativ Plural': ['Häusern'], 'Akkusativ Singular': ['Haus'], 'Akkusativ Plural': ['Häuser']}</td>\n",
       "      <td>255.986634</td>\n",
       "    </tr>\n",
       "    <tr>\n",
       "      <th>862</th>\n",
       "      <td>Katze</td>\n",
       "      <td>Katze</td>\n",
       "      <td>Katze</td>\n",
       "      <td>{'Substantiv': []}</td>\n",
       "      <td>{'Genus': ['f'], 'Nominativ Singular': ['Katze'], 'Nominativ Plural': ['Katzen'], 'Genitiv Singular': ['Katze'], 'Genitiv Plural': ['Katzen'], 'Dativ Singular': ['Katze'], 'Dativ Plural': ['Katzen'], 'Akkusativ Singular': ['Katze'], 'Akkusativ Plural': ['Katzen']}</td>\n",
       "      <td>239.488457</td>\n",
       "    </tr>\n",
       "    <tr>\n",
       "      <th>466</th>\n",
       "      <td>Krankenhaus</td>\n",
       "      <td>Krankenhaus</td>\n",
       "      <td>Krankenhaus</td>\n",
       "      <td>{'Substantiv': []}</td>\n",
       "      <td>{'Genus': ['n'], 'Nominativ Singular': ['Krankenhaus'], 'Nominativ Plural': ['Krankenhäuser'], 'Genitiv Singular': ['Krankenhauses'], 'Genitiv Plural': ['Krankenhäuser'], 'Dativ Singular': ['Krankenhaus'], 'Dativ Singular*': ['Krankenhause'], 'Dativ Plural': ['Krankenhäusern'], 'Akkusativ Singular': ['Krankenhaus'], 'Akkusativ Plural': ['Krankenhäuser']}</td>\n",
       "      <td>227.105711</td>\n",
       "    </tr>\n",
       "    <tr>\n",
       "      <th>25582</th>\n",
       "      <td>Synagoge</td>\n",
       "      <td>Synagoge</td>\n",
       "      <td>Synagoge</td>\n",
       "      <td>{'Substantiv': []}</td>\n",
       "      <td>{'Genus': ['f'], 'Nominativ Singular': ['Synagoge'], 'Nominativ Plural': ['Synagogen'], 'Genitiv Singular': ['Synagoge'], 'Genitiv Plural': ['Synagogen'], 'Dativ Singular': ['Synagoge'], 'Dativ Plural': ['Synagogen'], 'Akkusativ Singular': ['Synagoge'], 'Akkusativ Plural': ['Synagogen']}</td>\n",
       "      <td>214.588092</td>\n",
       "    </tr>\n",
       "    <tr>\n",
       "      <th>6139</th>\n",
       "      <td>Esel</td>\n",
       "      <td>Esel</td>\n",
       "      <td>Esel</td>\n",
       "      <td>{'Substantiv': []}</td>\n",
       "      <td>{'Genus': ['m'], 'Nominativ Singular': ['Esel'], 'Nominativ Plural': ['Esel'], 'Genitiv Singular': ['Esels'], 'Genitiv Plural': ['Esel'], 'Dativ Singular': ['Esel'], 'Dativ Plural': ['Eseln'], 'Akkusativ Singular': ['Esel'], 'Akkusativ Plural': ['Esel']}</td>\n",
       "      <td>208.628190</td>\n",
       "    </tr>\n",
       "  </tbody>\n",
       "</table>\n",
       "</div>"
      ],
      "text/plain": [
       "       section_id2        title        lemma  \\\n",
       "27             ich          ich          ich   \n",
       "6315     schwimmen    schwimmen    schwimmen   \n",
       "12146     Schnecke     Schnecke     Schnecke   \n",
       "2735       Papagei      Papagei      Papagei   \n",
       "135           Haus         Haus         Haus   \n",
       "862          Katze        Katze        Katze   \n",
       "466    Krankenhaus  Krankenhaus  Krankenhaus   \n",
       "25582     Synagoge     Synagoge     Synagoge   \n",
       "6139          Esel         Esel         Esel   \n",
       "\n",
       "                                      pos  \\\n",
       "27     {'Pronomen': ['Personalpronomen']}   \n",
       "6315                         {'Verb': []}   \n",
       "12146                  {'Substantiv': []}   \n",
       "2735                   {'Substantiv': []}   \n",
       "135                    {'Substantiv': []}   \n",
       "862                    {'Substantiv': []}   \n",
       "466                    {'Substantiv': []}   \n",
       "25582                  {'Substantiv': []}   \n",
       "6139                   {'Substantiv': []}   \n",
       "\n",
       "                                                                                                                                                                                                                                                                                                                                                                                          flexion  \\\n",
       "27                                                                                                                                                                                                                                                                                                                                                                                             {}   \n",
       "6315   {'Präsens_ich': ['schwimme'], 'Präsens_du': ['schwimmst'], 'Präsens_er, sie, es': ['schwimmt'], 'Präteritum_ich': ['schwamm'], 'Präteritum_ich*': ['schwomm'], 'Partizip II': ['geschwommen'], 'Konjunktiv II_ich': ['schwämme'], 'Konjunktiv II_ich*': ['schwömme'], 'Imperativ Singular': ['schwimm'], 'Imperativ Plural': ['schwimmt'], 'Hilfsverb': ['sein'], 'Hilfsverb*': ['haben']}   \n",
       "12146                                                                                            {'Genus': ['f'], 'Nominativ Singular': ['Schnecke'], 'Nominativ Plural': ['Schnecken'], 'Genitiv Singular': ['Schnecke'], 'Genitiv Plural': ['Schnecken'], 'Dativ Singular': ['Schnecke'], 'Dativ Plural': ['Schnecken'], 'Akkusativ Singular': ['Schnecke'], 'Akkusativ Plural': ['Schnecken']}   \n",
       "2735                                                                                           {'Genus': ['m'], 'Nominativ Singular': ['Papagei'], 'Nominativ Plural': ['Papageien'], 'Genitiv Singular': ['Papageien'], 'Genitiv Plural': ['Papageien'], 'Dativ Singular': ['Papageien'], 'Dativ Plural': ['Papageien'], 'Akkusativ Singular': ['Papageien'], 'Akkusativ Plural': ['Papageien']}   \n",
       "135                                                                                         {'Genus': ['n'], 'Nominativ Singular': ['Haus'], 'Nominativ Plural': ['Häuser'], 'Genitiv Singular': ['Hauses'], 'Genitiv Plural': ['Häuser'], 'Dativ Singular': ['Haus'], 'Dativ Singular*': ['Hause'], 'Dativ Plural': ['Häusern'], 'Akkusativ Singular': ['Haus'], 'Akkusativ Plural': ['Häuser']}   \n",
       "862                                                                                                                      {'Genus': ['f'], 'Nominativ Singular': ['Katze'], 'Nominativ Plural': ['Katzen'], 'Genitiv Singular': ['Katze'], 'Genitiv Plural': ['Katzen'], 'Dativ Singular': ['Katze'], 'Dativ Plural': ['Katzen'], 'Akkusativ Singular': ['Katze'], 'Akkusativ Plural': ['Katzen']}   \n",
       "466                          {'Genus': ['n'], 'Nominativ Singular': ['Krankenhaus'], 'Nominativ Plural': ['Krankenhäuser'], 'Genitiv Singular': ['Krankenhauses'], 'Genitiv Plural': ['Krankenhäuser'], 'Dativ Singular': ['Krankenhaus'], 'Dativ Singular*': ['Krankenhause'], 'Dativ Plural': ['Krankenhäusern'], 'Akkusativ Singular': ['Krankenhaus'], 'Akkusativ Plural': ['Krankenhäuser']}   \n",
       "25582                                                                                            {'Genus': ['f'], 'Nominativ Singular': ['Synagoge'], 'Nominativ Plural': ['Synagogen'], 'Genitiv Singular': ['Synagoge'], 'Genitiv Plural': ['Synagogen'], 'Dativ Singular': ['Synagoge'], 'Dativ Plural': ['Synagogen'], 'Akkusativ Singular': ['Synagoge'], 'Akkusativ Plural': ['Synagogen']}   \n",
       "6139                                                                                                                               {'Genus': ['m'], 'Nominativ Singular': ['Esel'], 'Nominativ Plural': ['Esel'], 'Genitiv Singular': ['Esels'], 'Genitiv Plural': ['Esel'], 'Dativ Singular': ['Esel'], 'Dativ Plural': ['Eseln'], 'Akkusativ Singular': ['Esel'], 'Akkusativ Plural': ['Esel']}   \n",
       "\n",
       "            score  \n",
       "27     317.335358  \n",
       "6315   295.165249  \n",
       "12146  278.637910  \n",
       "2735   263.678007  \n",
       "135    255.986634  \n",
       "862    239.488457  \n",
       "466    227.105711  \n",
       "25582  214.588092  \n",
       "6139   208.628190  "
      ]
     },
     "execution_count": 34,
     "metadata": {},
     "output_type": "execute_result"
    }
   ],
   "source": [
    "# Einträge mit dem höchsten Score\n",
    "mask = wiktionary.score > 200\n",
    "a = wiktionary[mask].sort_values('score',ascending=False)\n",
    "spalten = ['section_id2','title','lemma','pos','flexion','score']\n",
    "a[spalten]"
   ]
  },
  {
   "cell_type": "code",
   "execution_count": 35,
   "metadata": {
    "execution": {
     "iopub.execute_input": "2023-02-20T12:58:31.969333Z",
     "iopub.status.busy": "2023-02-20T12:58:31.968701Z",
     "iopub.status.idle": "2023-02-20T12:58:32.002983Z",
     "shell.execute_reply": "2023-02-20T12:58:32.002333Z",
     "shell.execute_reply.started": "2023-02-20T12:58:31.969305Z"
    }
   },
   "outputs": [],
   "source": [
    "#grid(wiktionary, pak.sample)"
   ]
  },
  {
   "cell_type": "markdown",
   "metadata": {},
   "source": [
    "## Steuertabellen laden"
   ]
  },
  {
   "cell_type": "code",
   "execution_count": 36,
   "metadata": {
    "execution": {
     "iopub.execute_input": "2023-02-20T12:58:32.004613Z",
     "iopub.status.busy": "2023-02-20T12:58:32.004006Z",
     "iopub.status.idle": "2023-02-20T12:58:32.049258Z",
     "shell.execute_reply": "2023-02-20T12:58:32.048446Z",
     "shell.execute_reply.started": "2023-02-20T12:58:32.004586Z"
    }
   },
   "outputs": [
    {
     "name": "stdout",
     "output_type": "stream",
     "text": [
      "<class 'IPython.core.display.Markdown'>\n"
     ]
    },
    {
     "data": {
      "text/markdown": [
       "<span style=\"font-size:larger;\">plan_merkmal_erstellen():</span>\n",
       "\n",
       "* definiert in Steuertabellen/s01_Steuertabellen.py\n",
       "* `merkmal`: Name des Merkmals\n",
       "* `template`: Name des Mediawiki-Templates, das diese Information enthält\n",
       "* `collect`: Extractionsmethode\n",
       "   * L extrahiert nur Links \n",
       "   * T extrahiert komplette Text-Absätze\n",
       "   * Ü extrahiert Übersetzungen\n",
       "   * P extrahiert Template-Parameter (Substring reicht)\n",
       "   * E checkt nur auf Existenz\n",
       "* `plan`:\n",
       "   * 1: die Merkmale, die in wiktionary_merkmal gespeichert werden\n",
       "   * 2: die Merkmale, die in wiktionary_merkmal_text gespeichert werden   \n",
       "   * 3: Reihenfolge und Liste aller Merkmale aus flexion / übersicht <br>\n",
       "        sowie die Merkmale aus named_entities und lexeme_manuell\n",
       "* `sort`: Irgendwas zum Sortieren der Merkmale\n",
       "* `is_lex`: Ist das Merkmal ein Lexem?    "
      ],
      "text/plain": [
       "<IPython.core.display.Markdown object>"
      ]
     },
     "metadata": {},
     "output_type": "display_data"
    }
   ],
   "source": [
    "blab.help(plan_merkmal_erstellen)"
   ]
  },
  {
   "cell_type": "code",
   "execution_count": 37,
   "metadata": {
    "execution": {
     "iopub.execute_input": "2023-02-20T12:58:32.050343Z",
     "iopub.status.busy": "2023-02-20T12:58:32.050094Z",
     "iopub.status.idle": "2023-02-20T12:58:32.216329Z",
     "shell.execute_reply": "2023-02-20T12:58:32.215315Z",
     "shell.execute_reply.started": "2023-02-20T12:58:32.050321Z"
    }
   },
   "outputs": [
    {
     "data": {
      "text/html": [
       "<div>\n",
       "<style scoped>\n",
       "    .dataframe tbody tr th:only-of-type {\n",
       "        vertical-align: middle;\n",
       "    }\n",
       "\n",
       "    .dataframe tbody tr th {\n",
       "        vertical-align: top;\n",
       "    }\n",
       "\n",
       "    .dataframe thead th {\n",
       "        text-align: right;\n",
       "    }\n",
       "</style>\n",
       "<table border=\"1\" class=\"dataframe\">\n",
       "  <thead>\n",
       "    <tr style=\"text-align: right;\">\n",
       "      <th></th>\n",
       "      <th>merkmal</th>\n",
       "      <th>template</th>\n",
       "      <th>collect</th>\n",
       "      <th>plan</th>\n",
       "      <th>sort</th>\n",
       "      <th>is_lex</th>\n",
       "    </tr>\n",
       "  </thead>\n",
       "  <tbody>\n",
       "    <tr>\n",
       "      <th>0</th>\n",
       "      <td>noSteig</td>\n",
       "      <td>kSt.</td>\n",
       "      <td>E</td>\n",
       "      <td>1</td>\n",
       "      <td></td>\n",
       "      <td>False</td>\n",
       "    </tr>\n",
       "    <tr>\n",
       "      <th>12</th>\n",
       "      <td>def</td>\n",
       "      <td>Bedeutungen</td>\n",
       "      <td>L</td>\n",
       "      <td>1</td>\n",
       "      <td></td>\n",
       "      <td>False</td>\n",
       "    </tr>\n",
       "    <tr>\n",
       "      <th>17</th>\n",
       "      <td>klein</td>\n",
       "      <td>Verkleinerungsformen</td>\n",
       "      <td>L</td>\n",
       "      <td>1</td>\n",
       "      <td></td>\n",
       "      <td>True</td>\n",
       "    </tr>\n",
       "    <tr>\n",
       "      <th>102</th>\n",
       "      <td>syllables</td>\n",
       "      <td></td>\n",
       "      <td></td>\n",
       "      <td>3</td>\n",
       "      <td>z1 syllables</td>\n",
       "      <td>False</td>\n",
       "    </tr>\n",
       "  </tbody>\n",
       "</table>\n",
       "</div>"
      ],
      "text/plain": [
       "       merkmal              template collect  plan          sort  is_lex\n",
       "0      noSteig                  kSt.       E     1                 False\n",
       "12         def           Bedeutungen       L     1                 False\n",
       "17       klein  Verkleinerungsformen       L     1                  True\n",
       "102  syllables                                   3  z1 syllables   False"
      ]
     },
     "execution_count": 37,
     "metadata": {},
     "output_type": "execute_result"
    }
   ],
   "source": [
    "# plan_merkmal Steuertabelle\n",
    "try:\n",
    "    del plan_merkmal\n",
    "except:\n",
    "    pass\n",
    "\n",
    "from Steuertabellen.s01_Steuertabellen import *\n",
    "plan_merkmal = plan_merkmal_erstellen()\n",
    "#grid(plan_merkmal)\n",
    "pak.sample(plan_merkmal)"
   ]
  },
  {
   "cell_type": "code",
   "execution_count": 38,
   "metadata": {
    "execution": {
     "iopub.execute_input": "2023-02-20T12:58:32.217293Z",
     "iopub.status.busy": "2023-02-20T12:58:32.217042Z",
     "iopub.status.idle": "2023-02-20T12:58:32.307163Z",
     "shell.execute_reply": "2023-02-20T12:58:32.306224Z",
     "shell.execute_reply.started": "2023-02-20T12:58:32.217270Z"
    }
   },
   "outputs": [
    {
     "data": {
      "text/html": [
       "<div>\n",
       "<style scoped>\n",
       "    .dataframe tbody tr th:only-of-type {\n",
       "        vertical-align: middle;\n",
       "    }\n",
       "\n",
       "    .dataframe tbody tr th {\n",
       "        vertical-align: top;\n",
       "    }\n",
       "\n",
       "    .dataframe thead th {\n",
       "        text-align: right;\n",
       "    }\n",
       "</style>\n",
       "<table border=\"1\" class=\"dataframe\">\n",
       "  <thead>\n",
       "    <tr style=\"text-align: right;\">\n",
       "      <th></th>\n",
       "      <th>quelle</th>\n",
       "      <th>ziel</th>\n",
       "      <th>notiz</th>\n",
       "    </tr>\n",
       "  </thead>\n",
       "  <tbody>\n",
       "    <tr>\n",
       "      <th>0</th>\n",
       "      <td>Konjugierte_Form</td>\n",
       "      <td>LEX_V</td>\n",
       "      <td>Keine Grundform</td>\n",
       "    </tr>\n",
       "    <tr>\n",
       "      <th>76</th>\n",
       "      <td>Präfix</td>\n",
       "      <td>TRUNC</td>\n",
       "      <td>Wortartenlisten</td>\n",
       "    </tr>\n",
       "    <tr>\n",
       "      <th>100</th>\n",
       "      <td>LEX_V LEX_V</td>\n",
       "      <td>LEX_V</td>\n",
       "      <td>Vorrang Durchlauf2</td>\n",
       "    </tr>\n",
       "    <tr>\n",
       "      <th>176</th>\n",
       "      <td>ADJA ADJA</td>\n",
       "      <td>ADJA</td>\n",
       "      <td>Doppelung1</td>\n",
       "    </tr>\n",
       "    <tr>\n",
       "      <th>201</th>\n",
       "      <td>Vergleichspartikel</td>\n",
       "      <td></td>\n",
       "      <td>löschmich</td>\n",
       "    </tr>\n",
       "  </tbody>\n",
       "</table>\n",
       "</div>"
      ],
      "text/plain": [
       "                 quelle   ziel               notiz\n",
       "0      Konjugierte_Form  LEX_V     Keine Grundform\n",
       "76               Präfix  TRUNC     Wortartenlisten\n",
       "100         LEX_V LEX_V  LEX_V  Vorrang Durchlauf2\n",
       "176           ADJA ADJA   ADJA          Doppelung1\n",
       "201  Vergleichspartikel                  löschmich"
      ]
     },
     "execution_count": 38,
     "metadata": {},
     "output_type": "execute_result"
    }
   ],
   "source": [
    "# translate_tag: Wortarten >> tags\n",
    "\n",
    "try:\n",
    "    del translate_tag\n",
    "except:\n",
    "    pass\n",
    "\n",
    "from Steuertabellen.s01_Steuertabellen import *\n",
    "#grid(translate_tag)\n",
    "pak.sample(translate_tag)"
   ]
  },
  {
   "cell_type": "code",
   "execution_count": 39,
   "metadata": {
    "execution": {
     "iopub.execute_input": "2023-02-20T12:58:32.310441Z",
     "iopub.status.busy": "2023-02-20T12:58:32.309420Z",
     "iopub.status.idle": "2023-02-20T12:58:32.448917Z",
     "shell.execute_reply": "2023-02-20T12:58:32.447895Z",
     "shell.execute_reply.started": "2023-02-20T12:58:32.310403Z"
    }
   },
   "outputs": [
    {
     "data": {
      "text/html": [
       "<div>\n",
       "<style scoped>\n",
       "    .dataframe tbody tr th:only-of-type {\n",
       "        vertical-align: middle;\n",
       "    }\n",
       "\n",
       "    .dataframe tbody tr th {\n",
       "        vertical-align: top;\n",
       "    }\n",
       "\n",
       "    .dataframe thead th {\n",
       "        text-align: right;\n",
       "    }\n",
       "</style>\n",
       "<table border=\"1\" class=\"dataframe\">\n",
       "  <thead>\n",
       "    <tr style=\"text-align: right;\">\n",
       "      <th></th>\n",
       "      <th>tag</th>\n",
       "      <th>wortart_lang</th>\n",
       "      <th>tagZ</th>\n",
       "      <th>tagZZ</th>\n",
       "      <th>is_mutable</th>\n",
       "      <th>to_lemma</th>\n",
       "    </tr>\n",
       "  </thead>\n",
       "  <tbody>\n",
       "    <tr>\n",
       "      <th>0</th>\n",
       "      <td>AFIX</td>\n",
       "      <td>Präfix</td>\n",
       "      <td>FIX</td>\n",
       "      <td>Z</td>\n",
       "      <td>False</td>\n",
       "      <td>W</td>\n",
       "    </tr>\n",
       "    <tr>\n",
       "      <th>12</th>\n",
       "      <td>VVIZU</td>\n",
       "      <td>Verb</td>\n",
       "      <td>VER</td>\n",
       "      <td>V</td>\n",
       "      <td>True</td>\n",
       "      <td>V</td>\n",
       "    </tr>\n",
       "    <tr>\n",
       "      <th>24</th>\n",
       "      <td>PPER</td>\n",
       "      <td>Personalpronomen</td>\n",
       "      <td>PRO</td>\n",
       "      <td>P</td>\n",
       "      <td>True</td>\n",
       "      <td>W</td>\n",
       "    </tr>\n",
       "    <tr>\n",
       "      <th>53</th>\n",
       "      <td>$(</td>\n",
       "      <td>Satzzeichen</td>\n",
       "      <td>SYM</td>\n",
       "      <td>Y</td>\n",
       "      <td>False</td>\n",
       "      <td>W</td>\n",
       "    </tr>\n",
       "    <tr>\n",
       "      <th>61</th>\n",
       "      <td>TODO</td>\n",
       "      <td>(todo!)</td>\n",
       "      <td>X_todo</td>\n",
       "      <td>X</td>\n",
       "      <td>False</td>\n",
       "      <td>W</td>\n",
       "    </tr>\n",
       "  </tbody>\n",
       "</table>\n",
       "</div>"
      ],
      "text/plain": [
       "      tag      wortart_lang    tagZ tagZZ is_mutable to_lemma\n",
       "0    AFIX            Präfix     FIX     Z      False        W\n",
       "12  VVIZU              Verb     VER     V       True        V\n",
       "24   PPER  Personalpronomen     PRO     P       True        W\n",
       "53     $(       Satzzeichen     SYM     Y      False        W\n",
       "61   TODO           (todo!)  X_todo     X      False        W"
      ]
     },
     "execution_count": 39,
     "metadata": {},
     "output_type": "execute_result"
    }
   ],
   "source": [
    "# translate_tagZ: tag >> tagZ und tagZZ\n",
    "\n",
    "try:\n",
    "    del translate_tagZ\n",
    "except:\n",
    "    pass\n",
    "\n",
    "from Steuertabellen.s01_Steuertabellen import *\n",
    "#grid(translate_tagZ)\n",
    "pak.sample(translate_tagZ)"
   ]
  },
  {
   "cell_type": "code",
   "execution_count": 40,
   "metadata": {
    "execution": {
     "iopub.execute_input": "2023-02-20T12:58:32.450234Z",
     "iopub.status.busy": "2023-02-20T12:58:32.449888Z",
     "iopub.status.idle": "2023-02-20T12:58:33.339780Z",
     "shell.execute_reply": "2023-02-20T12:58:33.338911Z",
     "shell.execute_reply.started": "2023-02-20T12:58:32.450203Z"
    }
   },
   "outputs": [
    {
     "name": "stdout",
     "output_type": "stream",
     "text": [
      "95 rows loaded\n",
      "Delete 21 rows from 95\n"
     ]
    },
    {
     "data": {
      "text/html": [
       "<div>\n",
       "<style scoped>\n",
       "    .dataframe tbody tr th:only-of-type {\n",
       "        vertical-align: middle;\n",
       "    }\n",
       "\n",
       "    .dataframe tbody tr th {\n",
       "        vertical-align: top;\n",
       "    }\n",
       "\n",
       "    .dataframe thead th {\n",
       "        text-align: right;\n",
       "    }\n",
       "</style>\n",
       "<table border=\"1\" class=\"dataframe\">\n",
       "  <thead>\n",
       "    <tr style=\"text-align: right;\">\n",
       "      <th></th>\n",
       "      <th>level</th>\n",
       "      <th>lemma</th>\n",
       "      <th>tag_soll</th>\n",
       "      <th>member_soll</th>\n",
       "      <th>check_tag</th>\n",
       "    </tr>\n",
       "  </thead>\n",
       "  <tbody>\n",
       "    <tr>\n",
       "      <th>0</th>\n",
       "      <td>1</td>\n",
       "      <td>…</td>\n",
       "      <td>$(</td>\n",
       "      <td>manuell</td>\n",
       "      <td></td>\n",
       "    </tr>\n",
       "    <tr>\n",
       "      <th>1</th>\n",
       "      <td>1</td>\n",
       "      <td>Ackermann</td>\n",
       "      <td>NE</td>\n",
       "      <td>Person_nachname</td>\n",
       "      <td></td>\n",
       "    </tr>\n",
       "    <tr>\n",
       "      <th>4</th>\n",
       "      <td>1</td>\n",
       "      <td>angucken</td>\n",
       "      <td>VVFIN</td>\n",
       "      <td>manuell</td>\n",
       "      <td></td>\n",
       "    </tr>\n",
       "    <tr>\n",
       "      <th>5</th>\n",
       "      <td>0</td>\n",
       "      <td>auspowern</td>\n",
       "      <td>VVFIN</td>\n",
       "      <td></td>\n",
       "      <td></td>\n",
       "    </tr>\n",
       "    <tr>\n",
       "      <th>19</th>\n",
       "      <td>1</td>\n",
       "      <td>Europa</td>\n",
       "      <td>NE</td>\n",
       "      <td>Geo</td>\n",
       "      <td></td>\n",
       "    </tr>\n",
       "    <tr>\n",
       "      <th>60</th>\n",
       "      <td>1</td>\n",
       "      <td>vergleichen</td>\n",
       "      <td>VVIMP</td>\n",
       "      <td></td>\n",
       "      <td></td>\n",
       "    </tr>\n",
       "    <tr>\n",
       "      <th>61</th>\n",
       "      <td>1</td>\n",
       "      <td>welch</td>\n",
       "      <td>PRELS</td>\n",
       "      <td></td>\n",
       "      <td></td>\n",
       "    </tr>\n",
       "    <tr>\n",
       "      <th>62</th>\n",
       "      <td>1</td>\n",
       "      <td>welch</td>\n",
       "      <td>PWAT</td>\n",
       "      <td></td>\n",
       "      <td></td>\n",
       "    </tr>\n",
       "  </tbody>\n",
       "</table>\n",
       "</div>"
      ],
      "text/plain": [
       "    level        lemma tag_soll      member_soll check_tag\n",
       "0       1            …       $(          manuell          \n",
       "1       1    Ackermann       NE  Person_nachname          \n",
       "4       1     angucken    VVFIN          manuell          \n",
       "5       0    auspowern    VVFIN                           \n",
       "19      1       Europa       NE              Geo          \n",
       "60      1  vergleichen    VVIMP                           \n",
       "61      1        welch    PRELS                           \n",
       "62      1        welch     PWAT                           "
      ]
     },
     "execution_count": 40,
     "metadata": {},
     "output_type": "execute_result"
    }
   ],
   "source": [
    "# lex_test, lemma_test\n",
    "lex_test, lemma_test = lade_lex_text( lex_test_filename, level=1)\n",
    "#grid(lemma_test)\n",
    "pak.sample(lemma_test)"
   ]
  },
  {
   "cell_type": "markdown",
   "metadata": {},
   "source": [
    "## Löschliste\n",
    "* Excel-Datei aufbereiten\n",
    "* wiktionary belöschen\n",
    "* wiktionary_merkmal belöschen\n",
    "* Falls löschliste und lexeme_manuell in Konflikt stehen, siegt lexeme_manuell. Es wird erst gelöscht und dann manuell ergänzt."
   ]
  },
  {
   "cell_type": "code",
   "execution_count": 41,
   "metadata": {
    "execution": {
     "iopub.execute_input": "2023-02-20T12:58:33.350232Z",
     "iopub.status.busy": "2023-02-20T12:58:33.349948Z",
     "iopub.status.idle": "2023-02-20T12:58:33.502859Z",
     "shell.execute_reply": "2023-02-20T12:58:33.502076Z",
     "shell.execute_reply.started": "2023-02-20T12:58:33.350208Z"
    }
   },
   "outputs": [
    {
     "name": "stdout",
     "output_type": "stream",
     "text": [
      "379 rows loaded\n"
     ]
    }
   ],
   "source": [
    "# Laden\n",
    "löschliste = pak.load_excel( löschliste_filename )"
   ]
  },
  {
   "cell_type": "code",
   "execution_count": 42,
   "metadata": {
    "execution": {
     "iopub.execute_input": "2023-02-20T12:58:33.505075Z",
     "iopub.status.busy": "2023-02-20T12:58:33.504808Z",
     "iopub.status.idle": "2023-02-20T12:58:33.550132Z",
     "shell.execute_reply": "2023-02-20T12:58:33.549166Z",
     "shell.execute_reply.started": "2023-02-20T12:58:33.505053Z"
    }
   },
   "outputs": [
    {
     "name": "stdout",
     "output_type": "stream",
     "text": [
      "check_mask:  0 rows\n",
      "\u001b[1m\u001b[7m\u001b[32mNo rows, mask filters them all away\u001b[0m\n"
     ]
    }
   ],
   "source": [
    "# Format prüfen\n",
    "löschliste['check'] = löschliste.isnull().sum(axis=1)\n",
    "mask = löschliste.check != 2\n",
    "error = check_mask(löschliste,mask,0, stop=False)\n",
    "grid(löschliste,mask, color='green')"
   ]
  },
  {
   "cell_type": "code",
   "execution_count": 43,
   "metadata": {
    "execution": {
     "iopub.execute_input": "2023-02-20T12:58:33.552193Z",
     "iopub.status.busy": "2023-02-20T12:58:33.551883Z",
     "iopub.status.idle": "2023-02-20T12:58:33.596174Z",
     "shell.execute_reply": "2023-02-20T12:58:33.595338Z",
     "shell.execute_reply.started": "2023-02-20T12:58:33.552163Z"
    }
   },
   "outputs": [],
   "source": [
    "löschliste = pak.drop_cols(löschliste,'check')\n",
    "bpy.raise_if(error)"
   ]
  },
  {
   "cell_type": "code",
   "execution_count": 44,
   "metadata": {
    "execution": {
     "iopub.execute_input": "2023-02-20T12:58:33.597237Z",
     "iopub.status.busy": "2023-02-20T12:58:33.596995Z",
     "iopub.status.idle": "2023-02-20T12:58:33.658200Z",
     "shell.execute_reply": "2023-02-20T12:58:33.657044Z",
     "shell.execute_reply.started": "2023-02-20T12:58:33.597217Z"
    }
   },
   "outputs": [],
   "source": [
    "# Einzelne löschlisten\n",
    "\n",
    "mask = löschliste.section_id2.notnull()\n",
    "löschliste_section_id2 = list(löschliste[mask].drop_duplicates().section_id2)\n",
    "\n",
    "mask = löschliste.lemma.notnull()\n",
    "löschliste_lemma = list(löschliste[mask].drop_duplicates().lemma)\n",
    "\n",
    "mask = löschliste.lex.notnull()\n",
    "löschliste_lex = list(löschliste[mask].drop_duplicates().lex)\n",
    "löschliste_lex += löschliste_lemma"
   ]
  },
  {
   "cell_type": "code",
   "execution_count": 45,
   "metadata": {
    "execution": {
     "iopub.execute_input": "2023-02-20T12:58:33.659575Z",
     "iopub.status.busy": "2023-02-20T12:58:33.659269Z",
     "iopub.status.idle": "2023-02-20T12:58:33.887512Z",
     "shell.execute_reply": "2023-02-20T12:58:33.886886Z",
     "shell.execute_reply.started": "2023-02-20T12:58:33.659546Z"
    }
   },
   "outputs": [],
   "source": [
    "# löschliste_lemma nach löschliste_section_id2 übertragen\n",
    "mask1 =  wiktionary.title.isin(löschliste_lemma)   &   (wiktionary.title == wiktionary.lemma)\n",
    "mask2 = ~wiktionary.section_id2.isin(löschliste_section_id2)\n",
    "mask = mask1  &  mask2\n",
    "#wiktionary[mask]\n",
    "löschliste_section_id2 += list(wiktionary[mask].section_id2)"
   ]
  },
  {
   "cell_type": "code",
   "execution_count": 46,
   "metadata": {
    "execution": {
     "iopub.execute_input": "2023-02-20T12:58:33.889563Z",
     "iopub.status.busy": "2023-02-20T12:58:33.889303Z",
     "iopub.status.idle": "2023-02-20T12:58:34.527213Z",
     "shell.execute_reply": "2023-02-20T12:58:34.526482Z",
     "shell.execute_reply.started": "2023-02-20T12:58:33.889542Z"
    }
   },
   "outputs": [
    {
     "name": "stdout",
     "output_type": "stream",
     "text": [
      "Move 288 rows from 837593\n"
     ]
    }
   ],
   "source": [
    "# wiktionary belöschen nach section_id2\n",
    "mask = wiktionary.section_id2.isin(löschliste_section_id2)   \n",
    "wiktionary, wiktionary_trash = pak.move_rows( df_from=wiktionary, df_to=wiktionary_trash, mask=mask, msg='löschliste_section_id2' )       # Löschen"
   ]
  },
  {
   "cell_type": "code",
   "execution_count": 47,
   "metadata": {
    "execution": {
     "iopub.execute_input": "2023-02-20T12:58:34.534359Z",
     "iopub.status.busy": "2023-02-20T12:58:34.531252Z",
     "iopub.status.idle": "2023-02-20T12:58:35.147600Z",
     "shell.execute_reply": "2023-02-20T12:58:35.146947Z",
     "shell.execute_reply.started": "2023-02-20T12:58:34.534319Z"
    }
   },
   "outputs": [
    {
     "name": "stdout",
     "output_type": "stream",
     "text": [
      "Move 51 rows from 837305\n"
     ]
    }
   ],
   "source": [
    "# wiktionary belöschen nach lex\n",
    "mask = wiktionary.title.isin(löschliste_lex)   \n",
    "wiktionary, wiktionary_trash = pak.move_rows( df_from=wiktionary, df_to=wiktionary_trash, mask=mask, msg='löschliste_lex' )       # Löschen"
   ]
  },
  {
   "cell_type": "code",
   "execution_count": 48,
   "metadata": {
    "execution": {
     "iopub.execute_input": "2023-02-20T12:58:35.148716Z",
     "iopub.status.busy": "2023-02-20T12:58:35.148442Z",
     "iopub.status.idle": "2023-02-20T12:58:37.066072Z",
     "shell.execute_reply": "2023-02-20T12:58:37.065342Z",
     "shell.execute_reply.started": "2023-02-20T12:58:35.148691Z"
    }
   },
   "outputs": [
    {
     "name": "stdout",
     "output_type": "stream",
     "text": [
      "Move 3563 rows from 3268495\n",
      "13 rows out of 3563\n"
     ]
    },
    {
     "data": {
      "text/html": [
       "<div>\n",
       "<style scoped>\n",
       "    .dataframe tbody tr th:only-of-type {\n",
       "        vertical-align: middle;\n",
       "    }\n",
       "\n",
       "    .dataframe tbody tr th {\n",
       "        vertical-align: top;\n",
       "    }\n",
       "\n",
       "    .dataframe thead th {\n",
       "        text-align: right;\n",
       "    }\n",
       "</style>\n",
       "<table border=\"1\" class=\"dataframe\">\n",
       "  <thead>\n",
       "    <tr style=\"text-align: right;\">\n",
       "      <th></th>\n",
       "      <th>section_id2</th>\n",
       "      <th>merkmal</th>\n",
       "      <th>node_debug</th>\n",
       "      <th>node_kontext</th>\n",
       "      <th>data</th>\n",
       "      <th>num</th>\n",
       "      <th>meta</th>\n",
       "      <th>msg</th>\n",
       "    </tr>\n",
       "  </thead>\n",
       "  <tbody>\n",
       "    <tr>\n",
       "      <th>446</th>\n",
       "      <td>April_1</td>\n",
       "      <td>istName</td>\n",
       "      <td>&lt;NA&gt;</td>\n",
       "      <td>&lt;NA&gt;</td>\n",
       "      <td>exists</td>\n",
       "      <td></td>\n",
       "      <td>&lt;NA&gt;</td>\n",
       "      <td>löschliste_section_id2</td>\n",
       "    </tr>\n",
       "    <tr>\n",
       "      <th>5236</th>\n",
       "      <td>Mutter_2</td>\n",
       "      <td>übersicht</td>\n",
       "      <td>Deutsch Substantiv Übersicht</td>\n",
       "      <td>Nominativ Plural</td>\n",
       "      <td>—</td>\n",
       "      <td></td>\n",
       "      <td>&lt;NA&gt;</td>\n",
       "      <td>löschliste_section_id2</td>\n",
       "    </tr>\n",
       "    <tr>\n",
       "      <th>5962</th>\n",
       "      <td>Boot_1</td>\n",
       "      <td>herkunft</td>\n",
       "      <td></td>\n",
       "      <td>Ü</td>\n",
       "      <td>boot</td>\n",
       "      <td></td>\n",
       "      <td></td>\n",
       "      <td>löschliste_section_id2</td>\n",
       "    </tr>\n",
       "    <tr>\n",
       "      <th>81347</th>\n",
       "      <td>spulgen</td>\n",
       "      <td>übersicht</td>\n",
       "      <td>Deutsch Verb Übersicht</td>\n",
       "      <td>Präteritum_ich</td>\n",
       "      <td></td>\n",
       "      <td></td>\n",
       "      <td>&lt;NA&gt;</td>\n",
       "      <td>löschliste_section_id2</td>\n",
       "    </tr>\n",
       "    <tr>\n",
       "      <th>344673</th>\n",
       "      <td>ABl.EG</td>\n",
       "      <td>def</td>\n",
       "      <td></td>\n",
       "      <td></td>\n",
       "      <td>Amtsblatt der Europäischen Gemeinschaft</td>\n",
       "      <td>1</td>\n",
       "      <td></td>\n",
       "      <td>löschliste_section_id2</td>\n",
       "    </tr>\n",
       "    <tr>\n",
       "      <th>479758</th>\n",
       "      <td>daselbst</td>\n",
       "      <td>abk</td>\n",
       "      <td></td>\n",
       "      <td></td>\n",
       "      <td>das</td>\n",
       "      <td>1</td>\n",
       "      <td></td>\n",
       "      <td>löschliste_section_id2</td>\n",
       "    </tr>\n",
       "    <tr>\n",
       "      <th>592682</th>\n",
       "      <td>festkehren</td>\n",
       "      <td>übersicht</td>\n",
       "      <td>Deutsch Verb Übersicht</td>\n",
       "      <td>Präsens_ich</td>\n",
       "      <td>festkehre</td>\n",
       "      <td></td>\n",
       "      <td>&lt;NA&gt;</td>\n",
       "      <td>löschliste_section_id2</td>\n",
       "    </tr>\n",
       "    <tr>\n",
       "      <th>670864</th>\n",
       "      <td>γ-Aminobuttersäure</td>\n",
       "      <td>übersicht</td>\n",
       "      <td>Deutsch Substantiv Übersicht</td>\n",
       "      <td>Genus</td>\n",
       "      <td>f</td>\n",
       "      <td></td>\n",
       "      <td>&lt;NA&gt;</td>\n",
       "      <td>löschliste_section_id2</td>\n",
       "    </tr>\n",
       "    <tr>\n",
       "      <th>737003</th>\n",
       "      <td>fettarme_Milch</td>\n",
       "      <td>übersicht</td>\n",
       "      <td>Deutsch adjektivisch Übersicht</td>\n",
       "      <td>Nominativ Plural stark</td>\n",
       "      <td>——</td>\n",
       "      <td></td>\n",
       "      <td>&lt;NA&gt;</td>\n",
       "      <td>löschliste_section_id2</td>\n",
       "    </tr>\n",
       "    <tr>\n",
       "      <th>1233898</th>\n",
       "      <td>geheien</td>\n",
       "      <td>def</td>\n",
       "      <td></td>\n",
       "      <td></td>\n",
       "      <td>werfen</td>\n",
       "      <td>5</td>\n",
       "      <td>alemannisch</td>\n",
       "      <td>löschliste_section_id2</td>\n",
       "    </tr>\n",
       "    <tr>\n",
       "      <th>4856329</th>\n",
       "      <td>geder</td>\n",
       "      <td>übersicht</td>\n",
       "      <td>Pronomina-Tabelle</td>\n",
       "      <td>Nominativ Singular m</td>\n",
       "      <td>geder</td>\n",
       "      <td></td>\n",
       "      <td>&lt;NA&gt;</td>\n",
       "      <td>löschliste_section_id2</td>\n",
       "    </tr>\n",
       "    <tr>\n",
       "      <th>4975798</th>\n",
       "      <td>inzendieren</td>\n",
       "      <td>def</td>\n",
       "      <td></td>\n",
       "      <td></td>\n",
       "      <td>erregen</td>\n",
       "      <td>2</td>\n",
       "      <td>übertragen</td>\n",
       "      <td>löschliste_section_id2</td>\n",
       "    </tr>\n",
       "    <tr>\n",
       "      <th>4975801</th>\n",
       "      <td>inzendieren</td>\n",
       "      <td>alt</td>\n",
       "      <td></td>\n",
       "      <td></td>\n",
       "      <td>incendieren</td>\n",
       "      <td></td>\n",
       "      <td></td>\n",
       "      <td>löschliste_section_id2</td>\n",
       "    </tr>\n",
       "  </tbody>\n",
       "</table>\n",
       "</div>"
      ],
      "text/plain": [
       "                section_id2    merkmal                       node_debug  \\\n",
       "446                 April_1    istName                             <NA>   \n",
       "5236               Mutter_2  übersicht    Deutsch Substantiv Übersicht\n",
       "   \n",
       "5962                 Boot_1   herkunft                                    \n",
       "81347               spulgen  übersicht          Deutsch Verb Übersicht\n",
       "   \n",
       "344673               ABl.EG        def                                    \n",
       "479758             daselbst        abk                                    \n",
       "592682           festkehren  übersicht          Deutsch Verb Übersicht\n",
       "   \n",
       "670864   γ-Aminobuttersäure  übersicht    Deutsch Substantiv Übersicht\n",
       "   \n",
       "737003       fettarme_Milch  übersicht  Deutsch adjektivisch Übersicht\n",
       "   \n",
       "1233898             geheien        def                                    \n",
       "4856329               geder  übersicht               Pronomina-Tabelle\n",
       "   \n",
       "4975798         inzendieren        def                                    \n",
       "4975801         inzendieren        alt                                    \n",
       "\n",
       "                   node_kontext                                     data num  \\\n",
       "446                        <NA>                                   exists       \n",
       "5236           Nominativ Plural                                        —       \n",
       "5962                          Ü                                     boot       \n",
       "81347            Präteritum_ich                                                \n",
       "344673                           Amtsblatt der Europäischen Gemeinschaft   1   \n",
       "479758                                                               das   1   \n",
       "592682              Präsens_ich                                festkehre       \n",
       "670864                    Genus                                        f       \n",
       "737003   Nominativ Plural stark                                       ——       \n",
       "1233898                                                           werfen   5   \n",
       "4856329    Nominativ Singular m                                    geder       \n",
       "4975798                                                          erregen   2   \n",
       "4975801                                                      incendieren       \n",
       "\n",
       "                meta                     msg  \n",
       "446             <NA>  löschliste_section_id2  \n",
       "5236            <NA>  löschliste_section_id2  \n",
       "5962                  löschliste_section_id2  \n",
       "81347           <NA>  löschliste_section_id2  \n",
       "344673                löschliste_section_id2  \n",
       "479758                löschliste_section_id2  \n",
       "592682          <NA>  löschliste_section_id2  \n",
       "670864          <NA>  löschliste_section_id2  \n",
       "737003          <NA>  löschliste_section_id2  \n",
       "1233898  alemannisch  löschliste_section_id2  \n",
       "4856329         <NA>  löschliste_section_id2  \n",
       "4975798   übertragen  löschliste_section_id2  \n",
       "4975801               löschliste_section_id2  "
      ]
     },
     "execution_count": 48,
     "metadata": {},
     "output_type": "execute_result"
    }
   ],
   "source": [
    "# wiktionary_merkmal belöschen nach section_id2\n",
    "mask = wiktionary_merkmal.section_id2.isin(löschliste_section_id2) \n",
    "wiktionary_merkmal, wiktionary_merkmal_trash = pak.move_rows(df_from=wiktionary_merkmal, df_to=wiktionary_merkmal_trash, mask=mask, msg='löschliste_section_id2')\n",
    "\n",
    "mask = wiktionary_merkmal_trash.msg == 'löschliste_section_id2'\n",
    "grid(wiktionary_merkmal_trash[mask],pak.sample)"
   ]
  },
  {
   "cell_type": "code",
   "execution_count": 49,
   "metadata": {
    "execution": {
     "iopub.execute_input": "2023-02-20T12:58:37.067300Z",
     "iopub.status.busy": "2023-02-20T12:58:37.067033Z",
     "iopub.status.idle": "2023-02-20T12:58:38.752783Z",
     "shell.execute_reply": "2023-02-20T12:58:38.752092Z",
     "shell.execute_reply.started": "2023-02-20T12:58:37.067277Z"
    }
   },
   "outputs": [
    {
     "name": "stdout",
     "output_type": "stream",
     "text": [
      "Move 655 rows from 3264932\n",
      "11 rows out of 655\n"
     ]
    },
    {
     "data": {
      "text/html": [
       "<div>\n",
       "<style scoped>\n",
       "    .dataframe tbody tr th:only-of-type {\n",
       "        vertical-align: middle;\n",
       "    }\n",
       "\n",
       "    .dataframe tbody tr th {\n",
       "        vertical-align: top;\n",
       "    }\n",
       "\n",
       "    .dataframe thead th {\n",
       "        text-align: right;\n",
       "    }\n",
       "</style>\n",
       "<table border=\"1\" class=\"dataframe\">\n",
       "  <thead>\n",
       "    <tr style=\"text-align: right;\">\n",
       "      <th></th>\n",
       "      <th>section_id2</th>\n",
       "      <th>merkmal</th>\n",
       "      <th>node_debug</th>\n",
       "      <th>node_kontext</th>\n",
       "      <th>data</th>\n",
       "      <th>num</th>\n",
       "      <th>meta</th>\n",
       "      <th>msg</th>\n",
       "    </tr>\n",
       "  </thead>\n",
       "  <tbody>\n",
       "    <tr>\n",
       "      <th>1950</th>\n",
       "      <td>sein</td>\n",
       "      <td>alt</td>\n",
       "      <td></td>\n",
       "      <td></td>\n",
       "      <td>Sebastian Brant</td>\n",
       "      <td></td>\n",
       "      <td></td>\n",
       "      <td>löschliste_lex</td>\n",
       "    </tr>\n",
       "    <tr>\n",
       "      <th>49302</th>\n",
       "      <td>Geld</td>\n",
       "      <td>herkunft</td>\n",
       "      <td></td>\n",
       "      <td>Ü</td>\n",
       "      <td>gelt</td>\n",
       "      <td></td>\n",
       "      <td></td>\n",
       "      <td>löschliste_lex</td>\n",
       "    </tr>\n",
       "    <tr>\n",
       "      <th>50817</th>\n",
       "      <td>Kreuzer</td>\n",
       "      <td>abk</td>\n",
       "      <td></td>\n",
       "      <td></td>\n",
       "      <td>Xer</td>\n",
       "      <td>2</td>\n",
       "      <td></td>\n",
       "      <td>löschliste_lex</td>\n",
       "    </tr>\n",
       "    <tr>\n",
       "      <th>464876</th>\n",
       "      <td>Heim</td>\n",
       "      <td>familie</td>\n",
       "      <td></td>\n",
       "      <td></td>\n",
       "      <td>anheimeln</td>\n",
       "      <td>1</td>\n",
       "      <td></td>\n",
       "      <td>löschliste_lex</td>\n",
       "    </tr>\n",
       "    <tr>\n",
       "      <th>534518</th>\n",
       "      <td>absolut</td>\n",
       "      <td>kombi</td>\n",
       "      <td></td>\n",
       "      <td></td>\n",
       "      <td>absolute Dichtung</td>\n",
       "      <td>9</td>\n",
       "      <td></td>\n",
       "      <td>löschliste_lex</td>\n",
       "    </tr>\n",
       "    <tr>\n",
       "      <th>671892</th>\n",
       "      <td>4-Aminobutansäure</td>\n",
       "      <td>def</td>\n",
       "      <td></td>\n",
       "      <td></td>\n",
       "      <td>γ-Aminobuttersäure</td>\n",
       "      <td>1</td>\n",
       "      <td>Chemie</td>\n",
       "      <td>löschliste_lex</td>\n",
       "    </tr>\n",
       "    <tr>\n",
       "      <th>1432136</th>\n",
       "      <td>β-Ketobuttersäuren</td>\n",
       "      <td>gm</td>\n",
       "      <td></td>\n",
       "      <td></td>\n",
       "      <td>β-Ketobuttersäure</td>\n",
       "      <td></td>\n",
       "      <td></td>\n",
       "      <td>löschliste_lex</td>\n",
       "    </tr>\n",
       "    <tr>\n",
       "      <th>2196656</th>\n",
       "      <td>rußen</td>\n",
       "      <td>alt_1</td>\n",
       "      <td></td>\n",
       "      <td></td>\n",
       "      <td>russen</td>\n",
       "      <td></td>\n",
       "      <td>Österreich</td>\n",
       "      <td>löschliste_lex</td>\n",
       "    </tr>\n",
       "    <tr>\n",
       "      <th>3704371</th>\n",
       "      <td>ALARP</td>\n",
       "      <td>übersicht</td>\n",
       "      <td>Deutsch Substantiv Übersicht</td>\n",
       "      <td>Nominativ Singular</td>\n",
       "      <td>ALARP</td>\n",
       "      <td></td>\n",
       "      <td>&lt;NA&gt;</td>\n",
       "      <td>löschliste_lex</td>\n",
       "    </tr>\n",
       "    <tr>\n",
       "      <th>4388348</th>\n",
       "      <td>viraler_Vektor</td>\n",
       "      <td>übersicht</td>\n",
       "      <td>Deutsch adjektivisch Übersicht</td>\n",
       "      <td>Nominativ Singular schwach</td>\n",
       "      <td>virale Vektor</td>\n",
       "      <td></td>\n",
       "      <td>&lt;NA&gt;</td>\n",
       "      <td>löschliste_lex</td>\n",
       "    </tr>\n",
       "    <tr>\n",
       "      <th>4979694</th>\n",
       "      <td>Weiße_Anischampignon</td>\n",
       "      <td>gm</td>\n",
       "      <td></td>\n",
       "      <td></td>\n",
       "      <td>Astronomischer Kalender</td>\n",
       "      <td></td>\n",
       "      <td></td>\n",
       "      <td>löschliste_lex</td>\n",
       "    </tr>\n",
       "  </tbody>\n",
       "</table>\n",
       "</div>"
      ],
      "text/plain": [
       "                  section_id2    merkmal                       node_debug  \\\n",
       "1950                     sein        alt                                    \n",
       "49302                    Geld   herkunft                                    \n",
       "50817                 Kreuzer        abk                                    \n",
       "464876                   Heim    familie                                    \n",
       "534518                absolut      kombi                                    \n",
       "671892      4-Aminobutansäure        def                                    \n",
       "1432136    β-Ketobuttersäuren         gm                                    \n",
       "2196656                 rußen      alt_1                                    \n",
       "3704371                 ALARP  übersicht    Deutsch Substantiv Übersicht\n",
       "   \n",
       "4388348        viraler_Vektor  übersicht  Deutsch adjektivisch Übersicht\n",
       "   \n",
       "4979694  Weiße_Anischampignon         gm                                    \n",
       "\n",
       "                       node_kontext                     data num        meta  \\\n",
       "1950                                         Sebastian Brant                   \n",
       "49302                             Ü                     gelt                   \n",
       "50817                                                    Xer   2               \n",
       "464876                                             anheimeln   1               \n",
       "534518                                     absolute Dichtung   9               \n",
       "671892                                    γ-Aminobuttersäure   1      Chemie   \n",
       "1432136                                    β-Ketobuttersäure                   \n",
       "2196656                                               russen      Österreich   \n",
       "3704371          Nominativ Singular                    ALARP            <NA>   \n",
       "4388348  Nominativ Singular schwach            virale Vektor            <NA>   \n",
       "4979694                              Astronomischer Kalender                   \n",
       "\n",
       "                    msg  \n",
       "1950     löschliste_lex  \n",
       "49302    löschliste_lex  \n",
       "50817    löschliste_lex  \n",
       "464876   löschliste_lex  \n",
       "534518   löschliste_lex  \n",
       "671892   löschliste_lex  \n",
       "1432136  löschliste_lex  \n",
       "2196656  löschliste_lex  \n",
       "3704371  löschliste_lex  \n",
       "4388348  löschliste_lex  \n",
       "4979694  löschliste_lex  "
      ]
     },
     "execution_count": 49,
     "metadata": {},
     "output_type": "execute_result"
    }
   ],
   "source": [
    "# wiktionary_merkmal belöschen nach lex\n",
    "mask = wiktionary_merkmal.data.isin(löschliste_lex) \n",
    "wiktionary_merkmal, wiktionary_merkmal_trash = pak.move_rows(df_from=wiktionary_merkmal, df_to=wiktionary_merkmal_trash, mask=mask, msg='löschliste_lex')\n",
    "\n",
    "mask = wiktionary_merkmal_trash.msg == 'löschliste_lex'\n",
    "grid(wiktionary_merkmal_trash[mask], pak.sample)"
   ]
  },
  {
   "cell_type": "code",
   "execution_count": 50,
   "metadata": {
    "execution": {
     "iopub.execute_input": "2023-02-20T12:58:38.757815Z",
     "iopub.status.busy": "2023-02-20T12:58:38.757467Z",
     "iopub.status.idle": "2023-02-20T12:58:38.799072Z",
     "shell.execute_reply": "2023-02-20T12:58:38.797850Z",
     "shell.execute_reply.started": "2023-02-20T12:58:38.757791Z"
    }
   },
   "outputs": [],
   "source": [
    "# aufräumen\n",
    "del löschliste_lemma\n",
    "del löschliste"
   ]
  },
  {
   "cell_type": "markdown",
   "metadata": {},
   "source": [
    "## tag und member\n",
    "* Aus dem Feld pos entstehen die Felder tag (standardisiert) und member (vollständig)"
   ]
  },
  {
   "cell_type": "code",
   "execution_count": 51,
   "metadata": {
    "execution": {
     "iopub.execute_input": "2023-02-20T12:58:38.806114Z",
     "iopub.status.busy": "2023-02-20T12:58:38.805621Z",
     "iopub.status.idle": "2023-02-20T12:58:46.066645Z",
     "shell.execute_reply": "2023-02-20T12:58:46.066020Z",
     "shell.execute_reply.started": "2023-02-20T12:58:38.806090Z"
    }
   },
   "outputs": [],
   "source": [
    "# Kaputte Datenstruktur in str wandeln\n",
    "wiktionary['tag'] = wiktionary.pos.apply( lambda x: str(x) )\n",
    "wiktionary = pak.move_cols(wiktionary,'tag','pos')\n",
    "\n",
    "# translate\n",
    "translate_chars = str.maketrans(\"{}'[]:\", \"     ,\")\n",
    "wiktionary.tag = wiktionary.tag.str.translate(translate_chars)\n",
    "\n",
    "# Liste ohne Dups draus machen\n",
    "wiktionary.tag = wiktionary.tag.str.split(\",\")\n",
    "wiktionary.tag = wiktionary.tag.apply( lambda x: list(set(x)) )\n",
    "\n",
    "# Strings pflegen\n",
    "wiktionary.tag = wiktionary.tag.apply( lambda x: [ e.strip().replace(' ','_')  for e in x ] )\n",
    "\n",
    "# Leere Strings entfernen\n",
    "wiktionary.tag = wiktionary.tag.apply( lambda x: [ e for e in x  if e != ''] )"
   ]
  },
  {
   "cell_type": "code",
   "execution_count": 52,
   "metadata": {
    "execution": {
     "iopub.execute_input": "2023-02-20T12:58:46.067658Z",
     "iopub.status.busy": "2023-02-20T12:58:46.067451Z",
     "iopub.status.idle": "2023-02-20T12:58:46.099422Z",
     "shell.execute_reply": "2023-02-20T12:58:46.098660Z",
     "shell.execute_reply.started": "2023-02-20T12:58:46.067638Z"
    }
   },
   "outputs": [],
   "source": [
    "#grid(wiktionary, pak.sample)"
   ]
  },
  {
   "cell_type": "code",
   "execution_count": 53,
   "metadata": {
    "execution": {
     "iopub.execute_input": "2023-02-20T12:58:46.100591Z",
     "iopub.status.busy": "2023-02-20T12:58:46.100328Z",
     "iopub.status.idle": "2023-02-20T12:58:47.001987Z",
     "shell.execute_reply": "2023-02-20T12:58:47.001349Z",
     "shell.execute_reply.started": "2023-02-20T12:58:46.100569Z"
    }
   },
   "outputs": [],
   "source": [
    "# nach Priorität sortieren (laut Steuertabellen)\n",
    "wiktionary.loc[:,'tag'] = member_sortieren(wiktionary.tag) "
   ]
  },
  {
   "cell_type": "code",
   "execution_count": 54,
   "metadata": {
    "execution": {
     "iopub.execute_input": "2023-02-20T12:58:47.002997Z",
     "iopub.status.busy": "2023-02-20T12:58:47.002777Z",
     "iopub.status.idle": "2023-02-20T12:58:47.281048Z",
     "shell.execute_reply": "2023-02-20T12:58:47.280334Z",
     "shell.execute_reply.started": "2023-02-20T12:58:47.002976Z"
    }
   },
   "outputs": [],
   "source": [
    "# In string wandeln\n",
    "wiktionary.tag = wiktionary.tag.str.join(' ')"
   ]
  },
  {
   "cell_type": "code",
   "execution_count": 55,
   "metadata": {
    "execution": {
     "iopub.execute_input": "2023-02-20T12:58:47.282129Z",
     "iopub.status.busy": "2023-02-20T12:58:47.281879Z",
     "iopub.status.idle": "2023-02-20T12:58:51.566241Z",
     "shell.execute_reply": "2023-02-20T12:58:51.565549Z",
     "shell.execute_reply.started": "2023-02-20T12:58:47.282104Z"
    }
   },
   "outputs": [
    {
     "name": "stdout",
     "output_type": "stream",
     "text": [
      "[('  ', ' '), ('Partizip II', 'Ptz2'), ('Partizip_II', 'Ptz2'), ('PartizipII', 'Ptz2'), ('Konjunktiv II', 'Konj2'), ('Konjunktiv_II', 'Konj2'), ('KonjunktivII', 'Konj2'), ('  ', ' ')]\n",
      "[('  ', ' '), ('Partizip I', 'Ptz1'), ('Partizip_I', 'Ptz1'), ('PartizipI', 'Ptz1'), ('Konjunktiv I', 'Konj1'), ('Konjunktiv_I', 'Konj1'), ('KonjunktivI', 'Konj1'), ('  ', ' ')]\n"
     ]
    }
   ],
   "source": [
    "# translate_first\n",
    "\n",
    "print(translate_first1)\n",
    "print(translate_first2)\n",
    "\n",
    "wiktionary['tag'] = pak.replace_str( wiktionary.tag, translate_first1).str.strip()\n",
    "wiktionary['tag'] = pak.replace_str( wiktionary.tag, translate_first2).str.strip()"
   ]
  },
  {
   "cell_type": "code",
   "execution_count": 56,
   "metadata": {
    "execution": {
     "iopub.execute_input": "2023-02-20T12:58:51.567395Z",
     "iopub.status.busy": "2023-02-20T12:58:51.567135Z",
     "iopub.status.idle": "2023-02-20T12:58:51.610616Z",
     "shell.execute_reply": "2023-02-20T12:58:51.609332Z",
     "shell.execute_reply.started": "2023-02-20T12:58:51.567370Z"
    }
   },
   "outputs": [],
   "source": [
    "#mask = (wiktionary.tag.str.count(' ') + 1)  > 2   \n",
    "#wiktionary[mask]"
   ]
  },
  {
   "cell_type": "code",
   "execution_count": 57,
   "metadata": {
    "execution": {
     "iopub.execute_input": "2023-02-20T12:58:51.613044Z",
     "iopub.status.busy": "2023-02-20T12:58:51.612537Z",
     "iopub.status.idle": "2023-02-20T12:58:52.537254Z",
     "shell.execute_reply": "2023-02-20T12:58:52.536616Z",
     "shell.execute_reply.started": "2023-02-20T12:58:51.613001Z"
    }
   },
   "outputs": [],
   "source": [
    "# Spalte member bewahrt die ursprüngliche Klassifizierung vollständig\n",
    "wiktionary['member'] = wiktionary.tag.copy()\n",
    "wiktionary = pak.move_cols(wiktionary,'member','tag')"
   ]
  },
  {
   "cell_type": "code",
   "execution_count": 58,
   "metadata": {
    "execution": {
     "iopub.execute_input": "2023-02-20T12:58:52.539654Z",
     "iopub.status.busy": "2023-02-20T12:58:52.539360Z",
     "iopub.status.idle": "2023-02-20T12:58:52.915564Z",
     "shell.execute_reply": "2023-02-20T12:58:52.914785Z",
     "shell.execute_reply.started": "2023-02-20T12:58:52.539627Z"
    }
   },
   "outputs": [
    {
     "name": "stdout",
     "output_type": "stream",
     "text": [
      "3 rows out of 837254\n"
     ]
    },
    {
     "data": {
      "text/html": [
       "<div>\n",
       "<style scoped>\n",
       "    .dataframe tbody tr th:only-of-type {\n",
       "        vertical-align: middle;\n",
       "    }\n",
       "\n",
       "    .dataframe tbody tr th {\n",
       "        vertical-align: top;\n",
       "    }\n",
       "\n",
       "    .dataframe thead th {\n",
       "        text-align: right;\n",
       "    }\n",
       "</style>\n",
       "<table border=\"1\" class=\"dataframe\">\n",
       "  <thead>\n",
       "    <tr style=\"text-align: right;\">\n",
       "      <th></th>\n",
       "      <th>page_id</th>\n",
       "      <th>page_part</th>\n",
       "      <th>section_id2</th>\n",
       "      <th>title</th>\n",
       "      <th>lemma</th>\n",
       "      <th>inflected</th>\n",
       "      <th>pos</th>\n",
       "      <th>tag</th>\n",
       "      <th>member</th>\n",
       "      <th>rhymes</th>\n",
       "      <th>score</th>\n",
       "      <th>flexion</th>\n",
       "      <th>ipa</th>\n",
       "      <th>syllables</th>\n",
       "      <th>lang</th>\n",
       "      <th>lang_code</th>\n",
       "      <th>error</th>\n",
       "      <th>lemma_lower</th>\n",
       "    </tr>\n",
       "  </thead>\n",
       "  <tbody>\n",
       "    <tr>\n",
       "      <th>98190</th>\n",
       "      <td>242838</td>\n",
       "      <td>0</td>\n",
       "      <td>missraten</td>\n",
       "      <td>missraten</td>\n",
       "      <td>missraten</td>\n",
       "      <td>False</td>\n",
       "      <td>{'Verb': []}</td>\n",
       "      <td>Verb</td>\n",
       "      <td>Verb</td>\n",
       "      <td>[aːtn̩]</td>\n",
       "      <td>4.420413</td>\n",
       "      <td>{'Präsens_ich': ['missrate'], 'Präsens_du': ['missrätst'], 'Präsens_er, sie, es': ['missrät'], 'Präteritum_ich': ['missriet'], 'Partizip II': ['missraten'], 'Konjunktiv II_ich': ['missriete'], 'Imperativ Singular': ['missrate'], 'Imperativ Plural': ['missratet'], 'Hilfsverb': ['sein']}</td>\n",
       "      <td>[mɪsˈʁaːtn̩]</td>\n",
       "      <td>[miss, ra, ten]</td>\n",
       "      <td>Deutsch</td>\n",
       "      <td>de</td>\n",
       "      <td></td>\n",
       "      <td>missraten</td>\n",
       "    </tr>\n",
       "    <tr>\n",
       "      <th>121344</th>\n",
       "      <td>274097</td>\n",
       "      <td>0</td>\n",
       "      <td>gefriergetrocknet</td>\n",
       "      <td>gefriergetrocknet</td>\n",
       "      <td>gefriergetrocknet</td>\n",
       "      <td>False</td>\n",
       "      <td>{'Adjektiv': []}</td>\n",
       "      <td>Adjektiv</td>\n",
       "      <td>Adjektiv</td>\n",
       "      <td>NaN</td>\n",
       "      <td>3.902795</td>\n",
       "      <td>{'Positiv': ['gefriergetrocknet']}</td>\n",
       "      <td>[ɡəˈfʁiːɐ̯ɡəˌtʁɔknət]</td>\n",
       "      <td>[ge, frier, ge, trock, net]</td>\n",
       "      <td>Deutsch</td>\n",
       "      <td>de</td>\n",
       "      <td></td>\n",
       "      <td>gefriergetrocknet</td>\n",
       "    </tr>\n",
       "    <tr>\n",
       "      <th>784281</th>\n",
       "      <td>1055347</td>\n",
       "      <td>0</td>\n",
       "      <td>gefriertrocknen</td>\n",
       "      <td>gefriertrocknen</td>\n",
       "      <td>gefriertrocknen</td>\n",
       "      <td>False</td>\n",
       "      <td>{'Verb': []}</td>\n",
       "      <td>Verb</td>\n",
       "      <td>Verb</td>\n",
       "      <td>NaN</td>\n",
       "      <td>14.590522</td>\n",
       "      <td>{'Präsens_ich': ['gefriertrockne'], 'Präsens_du': ['gefriertrocknest'], 'Präsens_er, sie, es': ['gefriertrocknet'], 'Präteritum_ich': ['gefriertrocknete'], 'Konjunktiv II_ich': ['gefriertrocknete'], 'Imperativ Singular': ['gefriertrockne'], 'Imperativ Plural': ['gefriertrocknet'], 'Partizip II': ['gefriergetrocknet'], 'Hilfsverb': ['haben']}</td>\n",
       "      <td>[ɡəˈfʁiːɐ̯ˌtʁɔknən]</td>\n",
       "      <td>[ge, frier, trock, nen]</td>\n",
       "      <td>Deutsch</td>\n",
       "      <td>de</td>\n",
       "      <td></td>\n",
       "      <td>gefriertrocknen</td>\n",
       "    </tr>\n",
       "  </tbody>\n",
       "</table>\n",
       "</div>"
      ],
      "text/plain": [
       "        page_id  page_part        section_id2              title  \\\n",
       "98190    242838          0          missraten          missraten   \n",
       "121344   274097          0  gefriergetrocknet  gefriergetrocknet   \n",
       "784281  1055347          0    gefriertrocknen    gefriertrocknen   \n",
       "\n",
       "                    lemma  inflected               pos       tag    member  \\\n",
       "98190           missraten      False      {'Verb': []}      Verb      Verb   \n",
       "121344  gefriergetrocknet      False  {'Adjektiv': []}  Adjektiv  Adjektiv   \n",
       "784281    gefriertrocknen      False      {'Verb': []}      Verb      Verb   \n",
       "\n",
       "         rhymes      score  \\\n",
       "98190   [aːtn̩]   4.420413   \n",
       "121344      NaN   3.902795   \n",
       "784281      NaN  14.590522   \n",
       "\n",
       "                                                                                                                                                                                                                                                                                                                                                        flexion  \\\n",
       "98190                                                            {'Präsens_ich': ['missrate'], 'Präsens_du': ['missrätst'], 'Präsens_er, sie, es': ['missrät'], 'Präteritum_ich': ['missriet'], 'Partizip II': ['missraten'], 'Konjunktiv II_ich': ['missriete'], 'Imperativ Singular': ['missrate'], 'Imperativ Plural': ['missratet'], 'Hilfsverb': ['sein']}   \n",
       "121344                                                                                                                                                                                                                                                                                                                       {'Positiv': ['gefriergetrocknet']}   \n",
       "784281  {'Präsens_ich': ['gefriertrockne'], 'Präsens_du': ['gefriertrocknest'], 'Präsens_er, sie, es': ['gefriertrocknet'], 'Präteritum_ich': ['gefriertrocknete'], 'Konjunktiv II_ich': ['gefriertrocknete'], 'Imperativ Singular': ['gefriertrockne'], 'Imperativ Plural': ['gefriertrocknet'], 'Partizip II': ['gefriergetrocknet'], 'Hilfsverb': ['haben']}   \n",
       "\n",
       "                          ipa                    syllables     lang lang_code  \\\n",
       "98190            [mɪsˈʁaːtn̩]              [miss, ra, ten]  Deutsch        de   \n",
       "121344  [ɡəˈfʁiːɐ̯ɡəˌtʁɔknət]  [ge, frier, ge, trock, net]  Deutsch        de   \n",
       "784281    [ɡəˈfʁiːɐ̯ˌtʁɔknən]      [ge, frier, trock, nen]  Deutsch        de   \n",
       "\n",
       "       error        lemma_lower  \n",
       "98190                 missraten  \n",
       "121344        gefriergetrocknet  \n",
       "784281          gefriertrocknen  "
      ]
     },
     "execution_count": 58,
     "metadata": {},
     "output_type": "execute_result"
    }
   ],
   "source": [
    "# wiktionary anschauen\n",
    "#mask = wiktionary.tag == 'ADJA ADV PRO'\n",
    "mask = wiktionary.title.isin( suche_debug )\n",
    "grid(wiktionary,mask)"
   ]
  },
  {
   "cell_type": "code",
   "execution_count": 59,
   "metadata": {
    "execution": {
     "iopub.execute_input": "2023-02-20T12:58:52.916818Z",
     "iopub.status.busy": "2023-02-20T12:58:52.916554Z",
     "iopub.status.idle": "2023-02-20T12:58:52.949127Z",
     "shell.execute_reply": "2023-02-20T12:58:52.948365Z",
     "shell.execute_reply.started": "2023-02-20T12:58:52.916795Z"
    }
   },
   "outputs": [],
   "source": [
    "#pak.sample(wiktionary)"
   ]
  },
  {
   "cell_type": "code",
   "execution_count": 60,
   "metadata": {
    "execution": {
     "iopub.execute_input": "2023-02-20T12:58:52.950401Z",
     "iopub.status.busy": "2023-02-20T12:58:52.950128Z",
     "iopub.status.idle": "2023-02-20T12:59:03.686780Z",
     "shell.execute_reply": "2023-02-20T12:59:03.685775Z",
     "shell.execute_reply.started": "2023-02-20T12:58:52.950373Z"
    }
   },
   "outputs": [
    {
     "data": {
      "text/html": [
       "<div>\n",
       "<style scoped>\n",
       "    .dataframe tbody tr th:only-of-type {\n",
       "        vertical-align: middle;\n",
       "    }\n",
       "\n",
       "    .dataframe tbody tr th {\n",
       "        vertical-align: top;\n",
       "    }\n",
       "\n",
       "    .dataframe thead th {\n",
       "        text-align: right;\n",
       "    }\n",
       "</style>\n",
       "<table border=\"1\" class=\"dataframe\">\n",
       "  <thead>\n",
       "    <tr style=\"text-align: right;\">\n",
       "      <th></th>\n",
       "      <th>col_name</th>\n",
       "      <th>datatype_instance</th>\n",
       "      <th>datatype</th>\n",
       "      <th>datatype_short</th>\n",
       "      <th>datatype_suggest</th>\n",
       "      <th>is_numeric</th>\n",
       "      <th>is_string</th>\n",
       "      <th>is_hashable</th>\n",
       "      <th>nan_allowed</th>\n",
       "      <th>mem_usage</th>\n",
       "      <th>ntypes</th>\n",
       "      <th>nunique</th>\n",
       "      <th>nnan</th>\n",
       "      <th>ndups</th>\n",
       "      <th>n</th>\n",
       "      <th>vmin</th>\n",
       "      <th>vmean</th>\n",
       "      <th>vmedian</th>\n",
       "      <th>vmax</th>\n",
       "      <th>vsum</th>\n",
       "    </tr>\n",
       "  </thead>\n",
       "  <tbody>\n",
       "    <tr>\n",
       "      <th>0</th>\n",
       "      <td>__index__</td>\n",
       "      <td>int64</td>\n",
       "      <td>np.int64</td>\n",
       "      <td>int64</td>\n",
       "      <td>np.int32</td>\n",
       "      <td>True</td>\n",
       "      <td>False</td>\n",
       "      <td>True</td>\n",
       "      <td>False</td>\n",
       "      <td>80.0 B</td>\n",
       "      <td>1</td>\n",
       "      <td>837254</td>\n",
       "      <td>0</td>\n",
       "      <td>0</td>\n",
       "      <td>837254</td>\n",
       "      <td>0.0</td>\n",
       "      <td>418844.41</td>\n",
       "      <td>418843.5</td>\n",
       "      <td>837592.0</td>\n",
       "      <td>3.506792e+11</td>\n",
       "    </tr>\n",
       "    <tr>\n",
       "      <th>1</th>\n",
       "      <td>page_id</td>\n",
       "      <td>int64</td>\n",
       "      <td>np.int64</td>\n",
       "      <td>int64</td>\n",
       "      <td>pd.Int32</td>\n",
       "      <td>True</td>\n",
       "      <td>False</td>\n",
       "      <td>True</td>\n",
       "      <td>False</td>\n",
       "      <td>80.0 B</td>\n",
       "      <td>1</td>\n",
       "      <td>801783</td>\n",
       "      <td>0</td>\n",
       "      <td>35471</td>\n",
       "      <td>837254</td>\n",
       "      <td>0.0</td>\n",
       "      <td>622165.26</td>\n",
       "      <td>623174.5</td>\n",
       "      <td>1118318.0</td>\n",
       "      <td>5.209104e+11</td>\n",
       "    </tr>\n",
       "    <tr>\n",
       "      <th>2</th>\n",
       "      <td>page_part</td>\n",
       "      <td>int64</td>\n",
       "      <td>np.int64</td>\n",
       "      <td>int64</td>\n",
       "      <td>pd.Int8</td>\n",
       "      <td>True</td>\n",
       "      <td>False</td>\n",
       "      <td>True</td>\n",
       "      <td>False</td>\n",
       "      <td>80.0 B</td>\n",
       "      <td>1</td>\n",
       "      <td>7</td>\n",
       "      <td>0</td>\n",
       "      <td>837247</td>\n",
       "      <td>837254</td>\n",
       "      <td>0.0</td>\n",
       "      <td>0.04</td>\n",
       "      <td>0.0</td>\n",
       "      <td>6.0</td>\n",
       "      <td>3.743700e+04</td>\n",
       "    </tr>\n",
       "    <tr>\n",
       "      <th>3</th>\n",
       "      <td>section_id2</td>\n",
       "      <td>str</td>\n",
       "      <td>object</td>\n",
       "      <td>object</td>\n",
       "      <td>pd.string</td>\n",
       "      <td>False</td>\n",
       "      <td>True</td>\n",
       "      <td>True</td>\n",
       "      <td>True</td>\n",
       "      <td>777.0 B</td>\n",
       "      <td>1</td>\n",
       "      <td>837254</td>\n",
       "      <td>0</td>\n",
       "      <td>0</td>\n",
       "      <td>837254</td>\n",
       "      <td>&amp;c.</td>\n",
       "      <td>NaN</td>\n",
       "      <td>NaN</td>\n",
       "      <td>μm</td>\n",
       "      <td>NaN</td>\n",
       "    </tr>\n",
       "    <tr>\n",
       "      <th>4</th>\n",
       "      <td>title</td>\n",
       "      <td>str</td>\n",
       "      <td>object</td>\n",
       "      <td>object</td>\n",
       "      <td>pd.string</td>\n",
       "      <td>False</td>\n",
       "      <td>True</td>\n",
       "      <td>True</td>\n",
       "      <td>True</td>\n",
       "      <td>777.0 B</td>\n",
       "      <td>1</td>\n",
       "      <td>801781</td>\n",
       "      <td>0</td>\n",
       "      <td>35473</td>\n",
       "      <td>837254</td>\n",
       "      <td>&amp;c.</td>\n",
       "      <td>NaN</td>\n",
       "      <td>NaN</td>\n",
       "      <td>μm</td>\n",
       "      <td>NaN</td>\n",
       "    </tr>\n",
       "    <tr>\n",
       "      <th>5</th>\n",
       "      <td>lemma</td>\n",
       "      <td>str</td>\n",
       "      <td>object</td>\n",
       "      <td>object</td>\n",
       "      <td>pd.string</td>\n",
       "      <td>False</td>\n",
       "      <td>True</td>\n",
       "      <td>True</td>\n",
       "      <td>True</td>\n",
       "      <td>748.0 B</td>\n",
       "      <td>1</td>\n",
       "      <td>159400</td>\n",
       "      <td>0</td>\n",
       "      <td>677854</td>\n",
       "      <td>837254</td>\n",
       "      <td>&amp;c.</td>\n",
       "      <td>NaN</td>\n",
       "      <td>NaN</td>\n",
       "      <td>μm</td>\n",
       "      <td>NaN</td>\n",
       "    </tr>\n",
       "    <tr>\n",
       "      <th>6</th>\n",
       "      <td>inflected</td>\n",
       "      <td>bool_</td>\n",
       "      <td>bool</td>\n",
       "      <td>bool</td>\n",
       "      <td></td>\n",
       "      <td>True</td>\n",
       "      <td>False</td>\n",
       "      <td>True</td>\n",
       "      <td>True</td>\n",
       "      <td>10.0 B</td>\n",
       "      <td>1</td>\n",
       "      <td>2</td>\n",
       "      <td>0</td>\n",
       "      <td>837252</td>\n",
       "      <td>837254</td>\n",
       "      <td>0.0</td>\n",
       "      <td>0.83</td>\n",
       "      <td>NaN</td>\n",
       "      <td>1.0</td>\n",
       "      <td>6.968710e+05</td>\n",
       "    </tr>\n",
       "    <tr>\n",
       "      <th>7</th>\n",
       "      <td>pos</td>\n",
       "      <td>dict</td>\n",
       "      <td>object</td>\n",
       "      <td>object</td>\n",
       "      <td></td>\n",
       "      <td>False</td>\n",
       "      <td>True</td>\n",
       "      <td>False</td>\n",
       "      <td>True</td>\n",
       "      <td>2.2 KB</td>\n",
       "      <td>1</td>\n",
       "      <td>161</td>\n",
       "      <td>0</td>\n",
       "      <td>837093</td>\n",
       "      <td>837254</td>\n",
       "      <td>NaN</td>\n",
       "      <td>NaN</td>\n",
       "      <td>NaN</td>\n",
       "      <td>NaN</td>\n",
       "      <td>NaN</td>\n",
       "    </tr>\n",
       "    <tr>\n",
       "      <th>8</th>\n",
       "      <td>tag</td>\n",
       "      <td>str</td>\n",
       "      <td>object</td>\n",
       "      <td>object</td>\n",
       "      <td>pd.string</td>\n",
       "      <td>False</td>\n",
       "      <td>True</td>\n",
       "      <td>True</td>\n",
       "      <td>True</td>\n",
       "      <td>711.0 B</td>\n",
       "      <td>1</td>\n",
       "      <td>155</td>\n",
       "      <td>0</td>\n",
       "      <td>837099</td>\n",
       "      <td>837254</td>\n",
       "      <td>Abkürzung</td>\n",
       "      <td>NaN</td>\n",
       "      <td>NaN</td>\n",
       "      <td>Wortverbindung Partikel</td>\n",
       "      <td>NaN</td>\n",
       "    </tr>\n",
       "    <tr>\n",
       "      <th>9</th>\n",
       "      <td>member</td>\n",
       "      <td>str</td>\n",
       "      <td>object</td>\n",
       "      <td>object</td>\n",
       "      <td>pd.string</td>\n",
       "      <td>False</td>\n",
       "      <td>True</td>\n",
       "      <td>True</td>\n",
       "      <td>True</td>\n",
       "      <td>711.0 B</td>\n",
       "      <td>1</td>\n",
       "      <td>155</td>\n",
       "      <td>0</td>\n",
       "      <td>837099</td>\n",
       "      <td>837254</td>\n",
       "      <td>Abkürzung</td>\n",
       "      <td>NaN</td>\n",
       "      <td>NaN</td>\n",
       "      <td>Wortverbindung Partikel</td>\n",
       "      <td>NaN</td>\n",
       "    </tr>\n",
       "    <tr>\n",
       "      <th>10</th>\n",
       "      <td>rhymes</td>\n",
       "      <td>list</td>\n",
       "      <td>object</td>\n",
       "      <td>object</td>\n",
       "      <td></td>\n",
       "      <td>False</td>\n",
       "      <td>True</td>\n",
       "      <td>False</td>\n",
       "      <td>True</td>\n",
       "      <td>560.0 B</td>\n",
       "      <td>1</td>\n",
       "      <td>39528</td>\n",
       "      <td>526978</td>\n",
       "      <td>270748</td>\n",
       "      <td>837254</td>\n",
       "      <td>[a]</td>\n",
       "      <td>NaN</td>\n",
       "      <td>NaN</td>\n",
       "      <td>[ʏʃəs, yːʃəs]</td>\n",
       "      <td>NaN</td>\n",
       "    </tr>\n",
       "    <tr>\n",
       "      <th>11</th>\n",
       "      <td>score</td>\n",
       "      <td>float64</td>\n",
       "      <td>np.float64</td>\n",
       "      <td>float64</td>\n",
       "      <td>np.float32</td>\n",
       "      <td>True</td>\n",
       "      <td>False</td>\n",
       "      <td>True</td>\n",
       "      <td>True</td>\n",
       "      <td>80.0 B</td>\n",
       "      <td>1</td>\n",
       "      <td>11054</td>\n",
       "      <td>0</td>\n",
       "      <td>826200</td>\n",
       "      <td>837254</td>\n",
       "      <td>0.01</td>\n",
       "      <td>2.20</td>\n",
       "      <td>1.0</td>\n",
       "      <td>317.34</td>\n",
       "      <td>1.842402e+06</td>\n",
       "    </tr>\n",
       "    <tr>\n",
       "      <th>12</th>\n",
       "      <td>flexion</td>\n",
       "      <td>defaultdict</td>\n",
       "      <td>object</td>\n",
       "      <td>object</td>\n",
       "      <td></td>\n",
       "      <td>False</td>\n",
       "      <td>True</td>\n",
       "      <td>False</td>\n",
       "      <td>True</td>\n",
       "      <td>2.8 KB</td>\n",
       "      <td>1</td>\n",
       "      <td>123435</td>\n",
       "      <td>0</td>\n",
       "      <td>713819</td>\n",
       "      <td>837254</td>\n",
       "      <td>NaN</td>\n",
       "      <td>NaN</td>\n",
       "      <td>NaN</td>\n",
       "      <td>NaN</td>\n",
       "      <td>NaN</td>\n",
       "    </tr>\n",
       "    <tr>\n",
       "      <th>13</th>\n",
       "      <td>ipa</td>\n",
       "      <td>list</td>\n",
       "      <td>object</td>\n",
       "      <td>object</td>\n",
       "      <td></td>\n",
       "      <td>False</td>\n",
       "      <td>True</td>\n",
       "      <td>False</td>\n",
       "      <td>True</td>\n",
       "      <td>656.0 B</td>\n",
       "      <td>1</td>\n",
       "      <td>774431</td>\n",
       "      <td>13922</td>\n",
       "      <td>48901</td>\n",
       "      <td>837254</td>\n",
       "      <td>[-a]</td>\n",
       "      <td>NaN</td>\n",
       "      <td>NaN</td>\n",
       "      <td>[θʁɪls]</td>\n",
       "      <td>NaN</td>\n",
       "    </tr>\n",
       "    <tr>\n",
       "      <th>14</th>\n",
       "      <td>syllables</td>\n",
       "      <td>list</td>\n",
       "      <td>object</td>\n",
       "      <td>object</td>\n",
       "      <td></td>\n",
       "      <td>False</td>\n",
       "      <td>True</td>\n",
       "      <td>False</td>\n",
       "      <td>True</td>\n",
       "      <td>1.1 KB</td>\n",
       "      <td>1</td>\n",
       "      <td>796070</td>\n",
       "      <td>4896</td>\n",
       "      <td>36288</td>\n",
       "      <td>837254</td>\n",
       "      <td>[02, Li, ter, Fla, sche]</td>\n",
       "      <td>NaN</td>\n",
       "      <td>NaN</td>\n",
       "      <td>[’s, Her, to, gen, boschs]</td>\n",
       "      <td>NaN</td>\n",
       "    </tr>\n",
       "    <tr>\n",
       "      <th>15</th>\n",
       "      <td>lang</td>\n",
       "      <td>str</td>\n",
       "      <td>object</td>\n",
       "      <td>object</td>\n",
       "      <td>pd.string</td>\n",
       "      <td>False</td>\n",
       "      <td>True</td>\n",
       "      <td>True</td>\n",
       "      <td>True</td>\n",
       "      <td>640.0 B</td>\n",
       "      <td>1</td>\n",
       "      <td>1</td>\n",
       "      <td>0</td>\n",
       "      <td>837253</td>\n",
       "      <td>837254</td>\n",
       "      <td>Deutsch</td>\n",
       "      <td>NaN</td>\n",
       "      <td>NaN</td>\n",
       "      <td>Deutsch</td>\n",
       "      <td>NaN</td>\n",
       "    </tr>\n",
       "    <tr>\n",
       "      <th>16</th>\n",
       "      <td>lang_code</td>\n",
       "      <td>str</td>\n",
       "      <td>object</td>\n",
       "      <td>object</td>\n",
       "      <td>pd.string</td>\n",
       "      <td>False</td>\n",
       "      <td>True</td>\n",
       "      <td>True</td>\n",
       "      <td>True</td>\n",
       "      <td>590.0 B</td>\n",
       "      <td>1</td>\n",
       "      <td>1</td>\n",
       "      <td>0</td>\n",
       "      <td>837253</td>\n",
       "      <td>837254</td>\n",
       "      <td>de</td>\n",
       "      <td>NaN</td>\n",
       "      <td>NaN</td>\n",
       "      <td>de</td>\n",
       "      <td>NaN</td>\n",
       "    </tr>\n",
       "    <tr>\n",
       "      <th>17</th>\n",
       "      <td>error</td>\n",
       "      <td>str</td>\n",
       "      <td>object</td>\n",
       "      <td>object</td>\n",
       "      <td>pd.string</td>\n",
       "      <td>False</td>\n",
       "      <td>True</td>\n",
       "      <td>True</td>\n",
       "      <td>True</td>\n",
       "      <td>570.0 B</td>\n",
       "      <td>1</td>\n",
       "      <td>1</td>\n",
       "      <td>0</td>\n",
       "      <td>837253</td>\n",
       "      <td>837254</td>\n",
       "      <td></td>\n",
       "      <td>NaN</td>\n",
       "      <td>NaN</td>\n",
       "      <td></td>\n",
       "      <td>NaN</td>\n",
       "    </tr>\n",
       "    <tr>\n",
       "      <th>18</th>\n",
       "      <td>lemma_lower</td>\n",
       "      <td>str</td>\n",
       "      <td>object</td>\n",
       "      <td>object</td>\n",
       "      <td>pd.string</td>\n",
       "      <td>False</td>\n",
       "      <td>True</td>\n",
       "      <td>True</td>\n",
       "      <td>True</td>\n",
       "      <td>748.0 B</td>\n",
       "      <td>1</td>\n",
       "      <td>157512</td>\n",
       "      <td>0</td>\n",
       "      <td>679742</td>\n",
       "      <td>837254</td>\n",
       "      <td>&amp;c.</td>\n",
       "      <td>NaN</td>\n",
       "      <td>NaN</td>\n",
       "      <td>μm</td>\n",
       "      <td>NaN</td>\n",
       "    </tr>\n",
       "  </tbody>\n",
       "</table>\n",
       "</div>"
      ],
      "text/plain": [
       "       col_name datatype_instance    datatype datatype_short datatype_suggest  \\\n",
       "0     __index__             int64    np.int64          int64         np.int32   \n",
       "1       page_id             int64    np.int64          int64         pd.Int32   \n",
       "2     page_part             int64    np.int64          int64          pd.Int8   \n",
       "3   section_id2               str      object         object        pd.string   \n",
       "4         title               str      object         object        pd.string   \n",
       "5         lemma               str      object         object        pd.string   \n",
       "6     inflected             bool_        bool           bool                    \n",
       "7           pos              dict      object         object                    \n",
       "8           tag               str      object         object        pd.string   \n",
       "9        member               str      object         object        pd.string   \n",
       "10       rhymes              list      object         object                    \n",
       "11        score           float64  np.float64        float64       np.float32   \n",
       "12      flexion       defaultdict      object         object                    \n",
       "13          ipa              list      object         object                    \n",
       "14    syllables              list      object         object                    \n",
       "15         lang               str      object         object        pd.string   \n",
       "16    lang_code               str      object         object        pd.string   \n",
       "17        error               str      object         object        pd.string   \n",
       "18  lemma_lower               str      object         object        pd.string   \n",
       "\n",
       "    is_numeric  is_string  is_hashable  nan_allowed mem_usage  ntypes  \\\n",
       "0         True      False         True        False    80.0 B       1   \n",
       "1         True      False         True        False    80.0 B       1   \n",
       "2         True      False         True        False    80.0 B       1   \n",
       "3        False       True         True         True   777.0 B       1   \n",
       "4        False       True         True         True   777.0 B       1   \n",
       "5        False       True         True         True   748.0 B       1   \n",
       "6         True      False         True         True    10.0 B       1   \n",
       "7        False       True        False         True    2.2 KB       1   \n",
       "8        False       True         True         True   711.0 B       1   \n",
       "9        False       True         True         True   711.0 B       1   \n",
       "10       False       True        False         True   560.0 B       1   \n",
       "11        True      False         True         True    80.0 B       1   \n",
       "12       False       True        False         True    2.8 KB       1   \n",
       "13       False       True        False         True   656.0 B       1   \n",
       "14       False       True        False         True    1.1 KB       1   \n",
       "15       False       True         True         True   640.0 B       1   \n",
       "16       False       True         True         True   590.0 B       1   \n",
       "17       False       True         True         True   570.0 B       1   \n",
       "18       False       True         True         True   748.0 B       1   \n",
       "\n",
       "    nunique    nnan   ndups       n                      vmin      vmean  \\\n",
       "0    837254       0       0  837254                       0.0  418844.41   \n",
       "1    801783       0   35471  837254                       0.0  622165.26   \n",
       "2         7       0  837247  837254                       0.0       0.04   \n",
       "3    837254       0       0  837254                       &c.        NaN   \n",
       "4    801781       0   35473  837254                       &c.        NaN   \n",
       "5    159400       0  677854  837254                       &c.        NaN   \n",
       "6         2       0  837252  837254                       0.0       0.83   \n",
       "7       161       0  837093  837254                       NaN        NaN   \n",
       "8       155       0  837099  837254                 Abkürzung        NaN   \n",
       "9       155       0  837099  837254                 Abkürzung        NaN   \n",
       "10    39528  526978  270748  837254                       [a]        NaN   \n",
       "11    11054       0  826200  837254                      0.01       2.20   \n",
       "12   123435       0  713819  837254                       NaN        NaN   \n",
       "13   774431   13922   48901  837254                      [-a]        NaN   \n",
       "14   796070    4896   36288  837254  [02, Li, ter, Fla, sche]        NaN   \n",
       "15        1       0  837253  837254                   Deutsch        NaN   \n",
       "16        1       0  837253  837254                        de        NaN   \n",
       "17        1       0  837253  837254                                  NaN   \n",
       "18   157512       0  679742  837254                       &c.        NaN   \n",
       "\n",
       "     vmedian                        vmax          vsum  \n",
       "0   418843.5                    837592.0  3.506792e+11  \n",
       "1   623174.5                   1118318.0  5.209104e+11  \n",
       "2        0.0                         6.0  3.743700e+04  \n",
       "3        NaN                          μm           NaN  \n",
       "4        NaN                          μm           NaN  \n",
       "5        NaN                          μm           NaN  \n",
       "6        NaN                         1.0  6.968710e+05  \n",
       "7        NaN                         NaN           NaN  \n",
       "8        NaN     Wortverbindung Partikel           NaN  \n",
       "9        NaN     Wortverbindung Partikel           NaN  \n",
       "10       NaN               [ʏʃəs, yːʃəs]           NaN  \n",
       "11       1.0                      317.34  1.842402e+06  \n",
       "12       NaN                         NaN           NaN  \n",
       "13       NaN                     [θʁɪls]           NaN  \n",
       "14       NaN  [’s, Her, to, gen, boschs]           NaN  \n",
       "15       NaN                     Deutsch           NaN  \n",
       "16       NaN                          de           NaN  \n",
       "17       NaN                                       NaN  \n",
       "18       NaN                          μm           NaN  "
      ]
     },
     "execution_count": 60,
     "metadata": {},
     "output_type": "execute_result"
    }
   ],
   "source": [
    "pak.analyse_cols(wiktionary)"
   ]
  },
  {
   "cell_type": "code",
   "execution_count": 61,
   "metadata": {
    "execution": {
     "iopub.execute_input": "2023-02-20T12:59:03.687843Z",
     "iopub.status.busy": "2023-02-20T12:59:03.687552Z",
     "iopub.status.idle": "2023-02-20T12:59:03.782036Z",
     "shell.execute_reply": "2023-02-20T12:59:03.781146Z",
     "shell.execute_reply.started": "2023-02-20T12:59:03.687814Z"
    }
   },
   "outputs": [
    {
     "data": {
      "text/html": [
       "<div>\n",
       "<style scoped>\n",
       "    .dataframe tbody tr th:only-of-type {\n",
       "        vertical-align: middle;\n",
       "    }\n",
       "\n",
       "    .dataframe tbody tr th {\n",
       "        vertical-align: top;\n",
       "    }\n",
       "\n",
       "    .dataframe thead th {\n",
       "        text-align: right;\n",
       "    }\n",
       "</style>\n",
       "<table border=\"1\" class=\"dataframe\">\n",
       "  <thead>\n",
       "    <tr style=\"text-align: right;\">\n",
       "      <th></th>\n",
       "      <th>quelle</th>\n",
       "      <th>ziel</th>\n",
       "      <th>notiz</th>\n",
       "    </tr>\n",
       "  </thead>\n",
       "  <tbody>\n",
       "    <tr>\n",
       "      <th>0</th>\n",
       "      <td>Konjugierte_Form</td>\n",
       "      <td>LEX_V</td>\n",
       "      <td>Keine Grundform</td>\n",
       "    </tr>\n",
       "    <tr>\n",
       "      <th>76</th>\n",
       "      <td>Präfix</td>\n",
       "      <td>TRUNC</td>\n",
       "      <td>Wortartenlisten</td>\n",
       "    </tr>\n",
       "    <tr>\n",
       "      <th>100</th>\n",
       "      <td>LEX_V LEX_V</td>\n",
       "      <td>LEX_V</td>\n",
       "      <td>Vorrang Durchlauf2</td>\n",
       "    </tr>\n",
       "    <tr>\n",
       "      <th>176</th>\n",
       "      <td>ADJA ADJA</td>\n",
       "      <td>ADJA</td>\n",
       "      <td>Doppelung1</td>\n",
       "    </tr>\n",
       "    <tr>\n",
       "      <th>201</th>\n",
       "      <td>Vergleichspartikel</td>\n",
       "      <td></td>\n",
       "      <td>löschmich</td>\n",
       "    </tr>\n",
       "  </tbody>\n",
       "</table>\n",
       "</div>"
      ],
      "text/plain": [
       "                 quelle   ziel               notiz\n",
       "0      Konjugierte_Form  LEX_V     Keine Grundform\n",
       "76               Präfix  TRUNC     Wortartenlisten\n",
       "100         LEX_V LEX_V  LEX_V  Vorrang Durchlauf2\n",
       "176           ADJA ADJA   ADJA          Doppelung1\n",
       "201  Vergleichspartikel                  löschmich"
      ]
     },
     "execution_count": 61,
     "metadata": {},
     "output_type": "execute_result"
    }
   ],
   "source": [
    "pak.sample(translate_tag)"
   ]
  },
  {
   "cell_type": "code",
   "execution_count": 62,
   "metadata": {
    "execution": {
     "iopub.execute_input": "2023-02-20T12:59:03.789086Z",
     "iopub.status.busy": "2023-02-20T12:59:03.787969Z",
     "iopub.status.idle": "2023-02-20T12:59:47.776401Z",
     "shell.execute_reply": "2023-02-20T12:59:47.775811Z",
     "shell.execute_reply.started": "2023-02-20T12:59:03.789049Z"
    }
   },
   "outputs": [],
   "source": [
    "# anwenden\n",
    "wiktionary['tag'] = pak.replace_str( wiktionary.tag, translate_tag )\n",
    "wiktionary['tag'] = wiktionary.tag.str.replace('  ',' ').str.strip()    "
   ]
  },
  {
   "cell_type": "code",
   "execution_count": 63,
   "metadata": {
    "execution": {
     "iopub.execute_input": "2023-02-20T12:59:47.777370Z",
     "iopub.status.busy": "2023-02-20T12:59:47.777166Z",
     "iopub.status.idle": "2023-02-20T13:00:03.892056Z",
     "shell.execute_reply": "2023-02-20T13:00:03.891413Z",
     "shell.execute_reply.started": "2023-02-20T12:59:47.777350Z"
    }
   },
   "outputs": [],
   "source": [
    "# Durchlauf2: translate_tag erneut anwenden \n",
    "mask = translate_tag.notiz.str.contains('Durchlauf2')\n",
    "wiktionary['tag'] = pak.replace_str( wiktionary.tag, translate_tag[mask] )\n",
    "wiktionary['tag'] = wiktionary.tag.str.replace('  ',' ').str.strip()    "
   ]
  },
  {
   "cell_type": "code",
   "execution_count": 64,
   "metadata": {
    "execution": {
     "iopub.execute_input": "2023-02-20T13:00:03.893029Z",
     "iopub.status.busy": "2023-02-20T13:00:03.892815Z",
     "iopub.status.idle": "2023-02-20T13:00:04.204944Z",
     "shell.execute_reply": "2023-02-20T13:00:04.204032Z",
     "shell.execute_reply.started": "2023-02-20T13:00:03.893008Z"
    }
   },
   "outputs": [],
   "source": [
    "# tag TODO für alles, was noch weiterverarbeitet werden muss\n",
    "mask = (wiktionary.tag.str.len() == 0)\n",
    "wiktionary.loc[mask,'tag'] = 'TODO'\n",
    "#grid(wiktionary,mask)"
   ]
  },
  {
   "cell_type": "code",
   "execution_count": 65,
   "metadata": {
    "execution": {
     "iopub.execute_input": "2023-02-20T13:00:04.206981Z",
     "iopub.status.busy": "2023-02-20T13:00:04.206494Z",
     "iopub.status.idle": "2023-02-20T13:00:05.496856Z",
     "shell.execute_reply": "2023-02-20T13:00:05.496117Z",
     "shell.execute_reply.started": "2023-02-20T13:00:04.206935Z"
    }
   },
   "outputs": [
    {
     "name": "stdout",
     "output_type": "stream",
     "text": [
      "3 rows out of 837254\n"
     ]
    },
    {
     "data": {
      "text/html": [
       "<div>\n",
       "<style scoped>\n",
       "    .dataframe tbody tr th:only-of-type {\n",
       "        vertical-align: middle;\n",
       "    }\n",
       "\n",
       "    .dataframe tbody tr th {\n",
       "        vertical-align: top;\n",
       "    }\n",
       "\n",
       "    .dataframe thead th {\n",
       "        text-align: right;\n",
       "    }\n",
       "</style>\n",
       "<table border=\"1\" class=\"dataframe\">\n",
       "  <thead>\n",
       "    <tr style=\"text-align: right;\">\n",
       "      <th></th>\n",
       "      <th>page_id</th>\n",
       "      <th>page_part</th>\n",
       "      <th>section_id2</th>\n",
       "      <th>title</th>\n",
       "      <th>lemma</th>\n",
       "      <th>inflected</th>\n",
       "      <th>pos</th>\n",
       "      <th>tag</th>\n",
       "      <th>member</th>\n",
       "      <th>rhymes</th>\n",
       "      <th>score</th>\n",
       "      <th>flexion</th>\n",
       "      <th>ipa</th>\n",
       "      <th>syllables</th>\n",
       "      <th>lang</th>\n",
       "      <th>lang_code</th>\n",
       "      <th>error</th>\n",
       "      <th>lemma_lower</th>\n",
       "    </tr>\n",
       "  </thead>\n",
       "  <tbody>\n",
       "    <tr>\n",
       "      <th>98190</th>\n",
       "      <td>242838</td>\n",
       "      <td>0</td>\n",
       "      <td>missraten</td>\n",
       "      <td>missraten</td>\n",
       "      <td>missraten</td>\n",
       "      <td>False</td>\n",
       "      <td>{'Verb': []}</td>\n",
       "      <td>VVFIN</td>\n",
       "      <td>Verb</td>\n",
       "      <td>[aːtn̩]</td>\n",
       "      <td>4.420413</td>\n",
       "      <td>{'Präsens_ich': ['missrate'], 'Präsens_du': ['missrätst'], 'Präsens_er, sie, es': ['missrät'], 'Präteritum_ich': ['missriet'], 'Partizip II': ['missraten'], 'Konjunktiv II_ich': ['missriete'], 'Imperativ Singular': ['missrate'], 'Imperativ Plural': ['missratet'], 'Hilfsverb': ['sein']}</td>\n",
       "      <td>[mɪsˈʁaːtn̩]</td>\n",
       "      <td>[miss, ra, ten]</td>\n",
       "      <td>Deutsch</td>\n",
       "      <td>de</td>\n",
       "      <td></td>\n",
       "      <td>missraten</td>\n",
       "    </tr>\n",
       "    <tr>\n",
       "      <th>121344</th>\n",
       "      <td>274097</td>\n",
       "      <td>0</td>\n",
       "      <td>gefriergetrocknet</td>\n",
       "      <td>gefriergetrocknet</td>\n",
       "      <td>gefriergetrocknet</td>\n",
       "      <td>False</td>\n",
       "      <td>{'Adjektiv': []}</td>\n",
       "      <td>ADJA</td>\n",
       "      <td>Adjektiv</td>\n",
       "      <td>NaN</td>\n",
       "      <td>3.902795</td>\n",
       "      <td>{'Positiv': ['gefriergetrocknet']}</td>\n",
       "      <td>[ɡəˈfʁiːɐ̯ɡəˌtʁɔknət]</td>\n",
       "      <td>[ge, frier, ge, trock, net]</td>\n",
       "      <td>Deutsch</td>\n",
       "      <td>de</td>\n",
       "      <td></td>\n",
       "      <td>gefriergetrocknet</td>\n",
       "    </tr>\n",
       "    <tr>\n",
       "      <th>784281</th>\n",
       "      <td>1055347</td>\n",
       "      <td>0</td>\n",
       "      <td>gefriertrocknen</td>\n",
       "      <td>gefriertrocknen</td>\n",
       "      <td>gefriertrocknen</td>\n",
       "      <td>False</td>\n",
       "      <td>{'Verb': []}</td>\n",
       "      <td>VVFIN</td>\n",
       "      <td>Verb</td>\n",
       "      <td>NaN</td>\n",
       "      <td>14.590522</td>\n",
       "      <td>{'Präsens_ich': ['gefriertrockne'], 'Präsens_du': ['gefriertrocknest'], 'Präsens_er, sie, es': ['gefriertrocknet'], 'Präteritum_ich': ['gefriertrocknete'], 'Konjunktiv II_ich': ['gefriertrocknete'], 'Imperativ Singular': ['gefriertrockne'], 'Imperativ Plural': ['gefriertrocknet'], 'Partizip II': ['gefriergetrocknet'], 'Hilfsverb': ['haben']}</td>\n",
       "      <td>[ɡəˈfʁiːɐ̯ˌtʁɔknən]</td>\n",
       "      <td>[ge, frier, trock, nen]</td>\n",
       "      <td>Deutsch</td>\n",
       "      <td>de</td>\n",
       "      <td></td>\n",
       "      <td>gefriertrocknen</td>\n",
       "    </tr>\n",
       "  </tbody>\n",
       "</table>\n",
       "</div>"
      ],
      "text/plain": [
       "        page_id  page_part        section_id2              title  \\\n",
       "98190    242838          0          missraten          missraten   \n",
       "121344   274097          0  gefriergetrocknet  gefriergetrocknet   \n",
       "784281  1055347          0    gefriertrocknen    gefriertrocknen   \n",
       "\n",
       "                    lemma  inflected               pos    tag    member  \\\n",
       "98190           missraten      False      {'Verb': []}  VVFIN      Verb   \n",
       "121344  gefriergetrocknet      False  {'Adjektiv': []}   ADJA  Adjektiv   \n",
       "784281    gefriertrocknen      False      {'Verb': []}  VVFIN      Verb   \n",
       "\n",
       "         rhymes      score  \\\n",
       "98190   [aːtn̩]   4.420413   \n",
       "121344      NaN   3.902795   \n",
       "784281      NaN  14.590522   \n",
       "\n",
       "                                                                                                                                                                                                                                                                                                                                                        flexion  \\\n",
       "98190                                                            {'Präsens_ich': ['missrate'], 'Präsens_du': ['missrätst'], 'Präsens_er, sie, es': ['missrät'], 'Präteritum_ich': ['missriet'], 'Partizip II': ['missraten'], 'Konjunktiv II_ich': ['missriete'], 'Imperativ Singular': ['missrate'], 'Imperativ Plural': ['missratet'], 'Hilfsverb': ['sein']}   \n",
       "121344                                                                                                                                                                                                                                                                                                                       {'Positiv': ['gefriergetrocknet']}   \n",
       "784281  {'Präsens_ich': ['gefriertrockne'], 'Präsens_du': ['gefriertrocknest'], 'Präsens_er, sie, es': ['gefriertrocknet'], 'Präteritum_ich': ['gefriertrocknete'], 'Konjunktiv II_ich': ['gefriertrocknete'], 'Imperativ Singular': ['gefriertrockne'], 'Imperativ Plural': ['gefriertrocknet'], 'Partizip II': ['gefriergetrocknet'], 'Hilfsverb': ['haben']}   \n",
       "\n",
       "                          ipa                    syllables     lang lang_code  \\\n",
       "98190            [mɪsˈʁaːtn̩]              [miss, ra, ten]  Deutsch        de   \n",
       "121344  [ɡəˈfʁiːɐ̯ɡəˌtʁɔknət]  [ge, frier, ge, trock, net]  Deutsch        de   \n",
       "784281    [ɡəˈfʁiːɐ̯ˌtʁɔknən]      [ge, frier, trock, nen]  Deutsch        de   \n",
       "\n",
       "       error        lemma_lower  \n",
       "98190                 missraten  \n",
       "121344        gefriergetrocknet  \n",
       "784281          gefriertrocknen  "
      ]
     },
     "execution_count": 65,
     "metadata": {},
     "output_type": "execute_result"
    }
   ],
   "source": [
    "# wiktionary anschauen\n",
    "#mask = wiktionary.tag == 'ADJA ADV PRO'\n",
    "mask = wiktionary.title.isin( suche_debug )\n",
    "grid(wiktionary,mask, backend='')"
   ]
  },
  {
   "cell_type": "code",
   "execution_count": 66,
   "metadata": {
    "execution": {
     "iopub.execute_input": "2023-02-20T13:00:05.499031Z",
     "iopub.status.busy": "2023-02-20T13:00:05.498769Z",
     "iopub.status.idle": "2023-02-20T13:00:05.541857Z",
     "shell.execute_reply": "2023-02-20T13:00:05.541102Z",
     "shell.execute_reply.started": "2023-02-20T13:00:05.499009Z"
    }
   },
   "outputs": [],
   "source": [
    "# Dekliniertes_Gerundivum: beizubehaltende\n",
    "# VMaßeinheiten"
   ]
  },
  {
   "cell_type": "markdown",
   "metadata": {},
   "source": [
    "## Bindestrich"
   ]
  },
  {
   "cell_type": "markdown",
   "metadata": {},
   "source": [
    "### Gebundene Adjektiv-Lexeme"
   ]
  },
  {
   "cell_type": "code",
   "execution_count": 67,
   "metadata": {
    "execution": {
     "iopub.execute_input": "2023-02-20T13:00:05.544099Z",
     "iopub.status.busy": "2023-02-20T13:00:05.543584Z",
     "iopub.status.idle": "2023-02-20T13:00:05.634330Z",
     "shell.execute_reply": "2023-02-20T13:00:05.633449Z",
     "shell.execute_reply.started": "2023-02-20T13:00:05.544052Z"
    },
    "tags": []
   },
   "outputs": [
    {
     "name": "stdout",
     "output_type": "stream",
     "text": [
      "check_mask:  4 rows\n"
     ]
    },
    {
     "data": {
      "text/html": [
       "<div>\n",
       "<style scoped>\n",
       "    .dataframe tbody tr th:only-of-type {\n",
       "        vertical-align: middle;\n",
       "    }\n",
       "\n",
       "    .dataframe tbody tr th {\n",
       "        vertical-align: top;\n",
       "    }\n",
       "\n",
       "    .dataframe thead th {\n",
       "        text-align: right;\n",
       "    }\n",
       "</style>\n",
       "<table border=\"1\" class=\"dataframe\">\n",
       "  <thead>\n",
       "    <tr style=\"text-align: right;\">\n",
       "      <th></th>\n",
       "      <th>page_id</th>\n",
       "      <th>page_part</th>\n",
       "      <th>section_id2</th>\n",
       "      <th>title</th>\n",
       "      <th>lemma</th>\n",
       "      <th>inflected</th>\n",
       "      <th>pos</th>\n",
       "      <th>tag</th>\n",
       "      <th>member</th>\n",
       "      <th>rhymes</th>\n",
       "      <th>score</th>\n",
       "      <th>flexion</th>\n",
       "      <th>ipa</th>\n",
       "      <th>syllables</th>\n",
       "      <th>lang</th>\n",
       "      <th>lang_code</th>\n",
       "      <th>error</th>\n",
       "      <th>lemma_lower</th>\n",
       "    </tr>\n",
       "  </thead>\n",
       "  <tbody>\n",
       "    <tr>\n",
       "      <th>25872</th>\n",
       "      <td>68346</td>\n",
       "      <td>0</td>\n",
       "      <td>unter-</td>\n",
       "      <td>unter-</td>\n",
       "      <td>unter-</td>\n",
       "      <td>False</td>\n",
       "      <td>{'Affix': ['Präfix']}</td>\n",
       "      <td>TRUNC</td>\n",
       "      <td>Affix Präfix</td>\n",
       "      <td>NaN</td>\n",
       "      <td>10.343864</td>\n",
       "      <td>{}</td>\n",
       "      <td>[ʊntɐ]</td>\n",
       "      <td>[un, ter]</td>\n",
       "      <td>Deutsch</td>\n",
       "      <td>de</td>\n",
       "      <td></td>\n",
       "      <td>unter-</td>\n",
       "    </tr>\n",
       "    <tr>\n",
       "      <th>214016</th>\n",
       "      <td>380261</td>\n",
       "      <td>0</td>\n",
       "      <td>ober-</td>\n",
       "      <td>ober-</td>\n",
       "      <td>ober-</td>\n",
       "      <td>False</td>\n",
       "      <td>{'Affix': ['Präfix', 'Präfixoid']}</td>\n",
       "      <td>TRUNC</td>\n",
       "      <td>Affix Präfixoid Präfix</td>\n",
       "      <td>NaN</td>\n",
       "      <td>7.959903</td>\n",
       "      <td>{}</td>\n",
       "      <td>[ˈoːbɐ]</td>\n",
       "      <td>[ober]</td>\n",
       "      <td>Deutsch</td>\n",
       "      <td>de</td>\n",
       "      <td></td>\n",
       "      <td>ober-</td>\n",
       "    </tr>\n",
       "    <tr>\n",
       "      <th>457256</th>\n",
       "      <td>681179</td>\n",
       "      <td>0</td>\n",
       "      <td>äußer-</td>\n",
       "      <td>äußer-</td>\n",
       "      <td>äußer-</td>\n",
       "      <td>False</td>\n",
       "      <td>{'Adjektiv': []}</td>\n",
       "      <td>ADJA</td>\n",
       "      <td>Adjektiv</td>\n",
       "      <td>NaN</td>\n",
       "      <td>12.086270</td>\n",
       "      <td>{'Positiv': ['äußer(er)'], 'Superlativ': ['äußersten']}</td>\n",
       "      <td>[ˈɔɪ̯səʁɐ]</td>\n",
       "      <td>NaN</td>\n",
       "      <td>Deutsch</td>\n",
       "      <td>de</td>\n",
       "      <td></td>\n",
       "      <td>äußer-</td>\n",
       "    </tr>\n",
       "    <tr>\n",
       "      <th>457269</th>\n",
       "      <td>681193</td>\n",
       "      <td>0</td>\n",
       "      <td>inner-</td>\n",
       "      <td>inner-</td>\n",
       "      <td>inner-</td>\n",
       "      <td>False</td>\n",
       "      <td>{'Adjektiv': []}</td>\n",
       "      <td>ADJA</td>\n",
       "      <td>Adjektiv</td>\n",
       "      <td>NaN</td>\n",
       "      <td>12.695018</td>\n",
       "      <td>{'Positiv': ['inner(er)'], 'Superlativ': ['innersten']}</td>\n",
       "      <td>[ˈɪnɐ]</td>\n",
       "      <td>NaN</td>\n",
       "      <td>Deutsch</td>\n",
       "      <td>de</td>\n",
       "      <td></td>\n",
       "      <td>inner-</td>\n",
       "    </tr>\n",
       "  </tbody>\n",
       "</table>\n",
       "</div>"
      ],
      "text/plain": [
       "        page_id  page_part section_id2   title   lemma  inflected  \\\n",
       "25872     68346          0      unter-  unter-  unter-      False   \n",
       "214016   380261          0       ober-   ober-   ober-      False   \n",
       "457256   681179          0      äußer-  äußer-  äußer-      False   \n",
       "457269   681193          0      inner-  inner-  inner-      False   \n",
       "\n",
       "                                       pos    tag                  member  \\\n",
       "25872                {'Affix': ['Präfix']}  TRUNC            Affix Präfix   \n",
       "214016  {'Affix': ['Präfix', 'Präfixoid']}  TRUNC  Affix Präfixoid Präfix   \n",
       "457256                    {'Adjektiv': []}   ADJA                Adjektiv   \n",
       "457269                    {'Adjektiv': []}   ADJA                Adjektiv   \n",
       "\n",
       "       rhymes      score  \\\n",
       "25872     NaN  10.343864   \n",
       "214016    NaN   7.959903   \n",
       "457256    NaN  12.086270   \n",
       "457269    NaN  12.695018   \n",
       "\n",
       "                                                        flexion         ipa  \\\n",
       "25872                                                        {}      [ʊntɐ]   \n",
       "214016                                                       {}     [ˈoːbɐ]   \n",
       "457256  {'Positiv': ['äußer(er)'], 'Superlativ': ['äußersten']}  [ˈɔɪ̯səʁɐ]   \n",
       "457269  {'Positiv': ['inner(er)'], 'Superlativ': ['innersten']}      [ˈɪnɐ]   \n",
       "\n",
       "        syllables     lang lang_code error lemma_lower  \n",
       "25872   [un, ter]  Deutsch        de            unter-  \n",
       "214016     [ober]  Deutsch        de             ober-  \n",
       "457256        NaN  Deutsch        de            äußer-  \n",
       "457269        NaN  Deutsch        de            inner-  "
      ]
     },
     "execution_count": 67,
     "metadata": {},
     "output_type": "execute_result"
    }
   ],
   "source": [
    "# Gebundene Adjektiv-Lexeme in wiktionary\n",
    "suche = ['ober-','unter-','äußer-','inner-',]\n",
    "mask = wiktionary.section_id2.isin(suche)\n",
    "\n",
    "check_mask(wiktionary,mask,0,4)\n",
    "wiktionary[mask]"
   ]
  },
  {
   "cell_type": "code",
   "execution_count": 68,
   "metadata": {
    "execution": {
     "iopub.execute_input": "2023-02-20T13:00:05.635346Z",
     "iopub.status.busy": "2023-02-20T13:00:05.635088Z",
     "iopub.status.idle": "2023-02-20T13:00:05.824448Z",
     "shell.execute_reply": "2023-02-20T13:00:05.823492Z",
     "shell.execute_reply.started": "2023-02-20T13:00:05.635324Z"
    }
   },
   "outputs": [
    {
     "data": {
      "text/html": [
       "<div>\n",
       "<style scoped>\n",
       "    .dataframe tbody tr th:only-of-type {\n",
       "        vertical-align: middle;\n",
       "    }\n",
       "\n",
       "    .dataframe tbody tr th {\n",
       "        vertical-align: top;\n",
       "    }\n",
       "\n",
       "    .dataframe thead th {\n",
       "        text-align: right;\n",
       "    }\n",
       "</style>\n",
       "<table border=\"1\" class=\"dataframe\">\n",
       "  <thead>\n",
       "    <tr style=\"text-align: right;\">\n",
       "      <th></th>\n",
       "      <th>page_id</th>\n",
       "      <th>page_part</th>\n",
       "      <th>section_id2</th>\n",
       "      <th>title</th>\n",
       "      <th>lemma</th>\n",
       "      <th>inflected</th>\n",
       "      <th>pos</th>\n",
       "      <th>tag</th>\n",
       "      <th>member</th>\n",
       "      <th>rhymes</th>\n",
       "      <th>score</th>\n",
       "      <th>flexion</th>\n",
       "      <th>ipa</th>\n",
       "      <th>syllables</th>\n",
       "      <th>lang</th>\n",
       "      <th>lang_code</th>\n",
       "      <th>error</th>\n",
       "      <th>lemma_lower</th>\n",
       "    </tr>\n",
       "  </thead>\n",
       "  <tbody>\n",
       "    <tr>\n",
       "      <th>25872</th>\n",
       "      <td>68346</td>\n",
       "      <td>0</td>\n",
       "      <td>unter_glex</td>\n",
       "      <td>unter</td>\n",
       "      <td>unter</td>\n",
       "      <td>False</td>\n",
       "      <td>None</td>\n",
       "      <td>ADJA</td>\n",
       "      <td>Adjektiv</td>\n",
       "      <td>NaN</td>\n",
       "      <td>10.343864</td>\n",
       "      <td>{}</td>\n",
       "      <td>[ʊntɐ]</td>\n",
       "      <td>[un, ter]</td>\n",
       "      <td>Deutsch</td>\n",
       "      <td>de</td>\n",
       "      <td></td>\n",
       "      <td>unter</td>\n",
       "    </tr>\n",
       "    <tr>\n",
       "      <th>214016</th>\n",
       "      <td>380261</td>\n",
       "      <td>0</td>\n",
       "      <td>ober_glex</td>\n",
       "      <td>ober</td>\n",
       "      <td>ober</td>\n",
       "      <td>False</td>\n",
       "      <td>None</td>\n",
       "      <td>ADJA</td>\n",
       "      <td>Adjektiv</td>\n",
       "      <td>NaN</td>\n",
       "      <td>7.959903</td>\n",
       "      <td>{}</td>\n",
       "      <td>[ˈoːbɐ]</td>\n",
       "      <td>[ober]</td>\n",
       "      <td>Deutsch</td>\n",
       "      <td>de</td>\n",
       "      <td></td>\n",
       "      <td>ober</td>\n",
       "    </tr>\n",
       "    <tr>\n",
       "      <th>457256</th>\n",
       "      <td>681179</td>\n",
       "      <td>0</td>\n",
       "      <td>äußer_glex</td>\n",
       "      <td>äußer</td>\n",
       "      <td>äußer</td>\n",
       "      <td>False</td>\n",
       "      <td>None</td>\n",
       "      <td>ADJA</td>\n",
       "      <td>Adjektiv</td>\n",
       "      <td>NaN</td>\n",
       "      <td>12.086270</td>\n",
       "      <td>{'Positiv': ['äußer(er)'], 'Superlativ': ['äußersten']}</td>\n",
       "      <td>[ˈɔɪ̯səʁɐ]</td>\n",
       "      <td>NaN</td>\n",
       "      <td>Deutsch</td>\n",
       "      <td>de</td>\n",
       "      <td></td>\n",
       "      <td>äußer</td>\n",
       "    </tr>\n",
       "    <tr>\n",
       "      <th>457269</th>\n",
       "      <td>681193</td>\n",
       "      <td>0</td>\n",
       "      <td>inner_glex</td>\n",
       "      <td>inner</td>\n",
       "      <td>inner</td>\n",
       "      <td>False</td>\n",
       "      <td>None</td>\n",
       "      <td>ADJA</td>\n",
       "      <td>Adjektiv</td>\n",
       "      <td>NaN</td>\n",
       "      <td>12.695018</td>\n",
       "      <td>{'Positiv': ['inner(er)'], 'Superlativ': ['innersten']}</td>\n",
       "      <td>[ˈɪnɐ]</td>\n",
       "      <td>NaN</td>\n",
       "      <td>Deutsch</td>\n",
       "      <td>de</td>\n",
       "      <td></td>\n",
       "      <td>inner</td>\n",
       "    </tr>\n",
       "  </tbody>\n",
       "</table>\n",
       "</div>"
      ],
      "text/plain": [
       "        page_id  page_part section_id2  title  lemma  inflected   pos   tag  \\\n",
       "25872     68346          0  unter_glex  unter  unter      False  None  ADJA   \n",
       "214016   380261          0   ober_glex   ober   ober      False  None  ADJA   \n",
       "457256   681179          0  äußer_glex  äußer  äußer      False  None  ADJA   \n",
       "457269   681193          0  inner_glex  inner  inner      False  None  ADJA   \n",
       "\n",
       "          member rhymes      score  \\\n",
       "25872   Adjektiv    NaN  10.343864   \n",
       "214016  Adjektiv    NaN   7.959903   \n",
       "457256  Adjektiv    NaN  12.086270   \n",
       "457269  Adjektiv    NaN  12.695018   \n",
       "\n",
       "                                                        flexion         ipa  \\\n",
       "25872                                                        {}      [ʊntɐ]   \n",
       "214016                                                       {}     [ˈoːbɐ]   \n",
       "457256  {'Positiv': ['äußer(er)'], 'Superlativ': ['äußersten']}  [ˈɔɪ̯səʁɐ]   \n",
       "457269  {'Positiv': ['inner(er)'], 'Superlativ': ['innersten']}      [ˈɪnɐ]   \n",
       "\n",
       "        syllables     lang lang_code error lemma_lower  \n",
       "25872   [un, ter]  Deutsch        de             unter  \n",
       "214016     [ober]  Deutsch        de              ober  \n",
       "457256        NaN  Deutsch        de             äußer  \n",
       "457269        NaN  Deutsch        de             inner  "
      ]
     },
     "execution_count": 68,
     "metadata": {},
     "output_type": "execute_result"
    }
   ],
   "source": [
    "wiktionary.loc[mask,'title']       = wiktionary[mask].title.str.replace('-','')\n",
    "wiktionary.loc[mask,'lemma']       = wiktionary[mask].lemma.str.replace('-','')\n",
    "wiktionary.loc[mask,'lemma_lower'] = wiktionary[mask].lemma_lower.str.replace('-','')\n",
    "wiktionary.loc[mask,'member']      = 'Adjektiv'\n",
    "wiktionary.loc[mask,'tag']         = 'ADJA'\n",
    "wiktionary.loc[mask,'pos']         = None # {'Adjektiv': []}\n",
    "wiktionary.loc[mask,'section_id2'] = wiktionary[mask].section_id2.str.replace('-','_glex')\n",
    "wiktionary[mask]"
   ]
  },
  {
   "cell_type": "code",
   "execution_count": 69,
   "metadata": {
    "execution": {
     "iopub.execute_input": "2023-02-20T13:00:05.828571Z",
     "iopub.status.busy": "2023-02-20T13:00:05.827905Z",
     "iopub.status.idle": "2023-02-20T13:00:05.867335Z",
     "shell.execute_reply": "2023-02-20T13:00:05.866711Z",
     "shell.execute_reply.started": "2023-02-20T13:00:05.828441Z"
    },
    "tags": []
   },
   "outputs": [],
   "source": [
    "#pak.analyse_datatypes(wiktionary)"
   ]
  },
  {
   "cell_type": "code",
   "execution_count": 70,
   "metadata": {
    "execution": {
     "iopub.execute_input": "2023-02-20T13:00:05.871294Z",
     "iopub.status.busy": "2023-02-20T13:00:05.871027Z",
     "iopub.status.idle": "2023-02-20T13:00:06.153934Z",
     "shell.execute_reply": "2023-02-20T13:00:06.153168Z",
     "shell.execute_reply.started": "2023-02-20T13:00:05.871271Z"
    }
   },
   "outputs": [
    {
     "name": "stdout",
     "output_type": "stream",
     "text": [
      "check_mask:  80 rows\n"
     ]
    }
   ],
   "source": [
    "# Gebundene Adjektiv-Lexeme in wiktionary_merkmal\n",
    "suche = ['ober-','unter-','äußer-','inner-',]\n",
    "mask = wiktionary_merkmal.section_id2.isin(suche)\n",
    "check_mask(wiktionary_merkmal,mask,80)\n",
    "wiktionary_merkmal.loc[mask,'section_id2'] = wiktionary_merkmal[mask].section_id2.str.replace('-','_glex')\n",
    "#wiktionary_merkmal[mask]"
   ]
  },
  {
   "cell_type": "code",
   "execution_count": 71,
   "metadata": {
    "execution": {
     "iopub.execute_input": "2023-02-20T13:00:06.155189Z",
     "iopub.status.busy": "2023-02-20T13:00:06.154888Z",
     "iopub.status.idle": "2023-02-20T13:00:06.270427Z",
     "shell.execute_reply": "2023-02-20T13:00:06.269669Z",
     "shell.execute_reply.started": "2023-02-20T13:00:06.155161Z"
    }
   },
   "outputs": [
    {
     "name": "stdout",
     "output_type": "stream",
     "text": [
      "check_mask:  46 rows\n"
     ]
    }
   ],
   "source": [
    "# Gebundene Adjektiv-Lexeme in wiktionary_merkmal_text\n",
    "suche = ['ober-','unter-','äußer-','inner-',]\n",
    "mask = wiktionary_merkmal_text.section_id2.isin(suche)\n",
    "check_mask(wiktionary_merkmal_text,mask,46)\n",
    "wiktionary_merkmal_text.loc[mask,'section_id2'] = wiktionary_merkmal_text[mask].section_id2.str.replace('-','_glex')\n",
    "#wiktionary_merkmal_text[mask]"
   ]
  },
  {
   "cell_type": "code",
   "execution_count": 72,
   "metadata": {
    "execution": {
     "iopub.execute_input": "2023-02-20T13:00:06.274639Z",
     "iopub.status.busy": "2023-02-20T13:00:06.274349Z",
     "iopub.status.idle": "2023-02-20T13:00:06.414407Z",
     "shell.execute_reply": "2023-02-20T13:00:06.413530Z",
     "shell.execute_reply.started": "2023-02-20T13:00:06.274614Z"
    }
   },
   "outputs": [
    {
     "name": "stdout",
     "output_type": "stream",
     "text": [
      "check_mask:  36 rows\n"
     ]
    }
   ],
   "source": [
    "# Gebundene Adjektiv-Lexeme in wiktionary\n",
    "suche = ['ober-','unter-','äußer-','inner-',]\n",
    "mask = wiktionary.lemma.isin(suche)\n",
    "check_mask(wiktionary,mask,36)\n",
    "\n",
    "wiktionary.loc[mask,'title']       = wiktionary[mask].title.str.replace('-','')\n",
    "wiktionary.loc[mask,'lemma']       = wiktionary[mask].lemma.str.replace('-','')\n",
    "wiktionary.loc[mask,'lemma_lower'] = wiktionary[mask].lemma_lower.str.replace('-','')\n",
    "# wiktionary[mask]"
   ]
  },
  {
   "cell_type": "code",
   "execution_count": 73,
   "metadata": {
    "execution": {
     "iopub.execute_input": "2023-02-20T13:00:06.415539Z",
     "iopub.status.busy": "2023-02-20T13:00:06.415272Z",
     "iopub.status.idle": "2023-02-20T13:00:06.781961Z",
     "shell.execute_reply": "2023-02-20T13:00:06.781351Z",
     "shell.execute_reply.started": "2023-02-20T13:00:06.415512Z"
    }
   },
   "outputs": [
    {
     "name": "stdout",
     "output_type": "stream",
     "text": [
      "check_mask:  1 rows\n"
     ]
    },
    {
     "data": {
      "text/html": [
       "<div>\n",
       "<style scoped>\n",
       "    .dataframe tbody tr th:only-of-type {\n",
       "        vertical-align: middle;\n",
       "    }\n",
       "\n",
       "    .dataframe tbody tr th {\n",
       "        vertical-align: top;\n",
       "    }\n",
       "\n",
       "    .dataframe thead th {\n",
       "        text-align: right;\n",
       "    }\n",
       "</style>\n",
       "<table border=\"1\" class=\"dataframe\">\n",
       "  <thead>\n",
       "    <tr style=\"text-align: right;\">\n",
       "      <th></th>\n",
       "      <th>section_id2</th>\n",
       "      <th>merkmal</th>\n",
       "      <th>node_debug</th>\n",
       "      <th>node_kontext</th>\n",
       "      <th>data</th>\n",
       "      <th>num</th>\n",
       "      <th>meta</th>\n",
       "    </tr>\n",
       "  </thead>\n",
       "  <tbody>\n",
       "    <tr>\n",
       "      <th>652252</th>\n",
       "      <td>unter-_1</td>\n",
       "      <td>übersicht</td>\n",
       "      <td>Deutsch Adjektiv Übersicht</td>\n",
       "      <td>Positiv</td>\n",
       "      <td>unter</td>\n",
       "      <td></td>\n",
       "      <td>&lt;NA&gt;</td>\n",
       "    </tr>\n",
       "  </tbody>\n",
       "</table>\n",
       "</div>"
      ],
      "text/plain": [
       "       section_id2    merkmal                   node_debug node_kontext  \\\n",
       "652252    unter-_1  übersicht  Deutsch Adjektiv Übersicht\n",
       "      Positiv   \n",
       "\n",
       "         data num  meta  \n",
       "652252  unter      <NA>  "
      ]
     },
     "execution_count": 73,
     "metadata": {},
     "output_type": "execute_result"
    }
   ],
   "source": [
    "# Gebundene Adjektiv-Lexeme in wiktionary_merkmal\n",
    "suche = ['ober-','unter-','äußer-','inner-',]\n",
    "mask = wiktionary_merkmal.data.isin(suche)\n",
    "check_mask(wiktionary_merkmal,mask,0,10)\n",
    "wiktionary_merkmal.loc[mask,'data'] = wiktionary_merkmal[mask].data.str.replace('-','')\n",
    "wiktionary_merkmal[mask]"
   ]
  },
  {
   "cell_type": "markdown",
   "metadata": {},
   "source": [
    "### Präfix"
   ]
  },
  {
   "cell_type": "code",
   "execution_count": 74,
   "metadata": {
    "execution": {
     "iopub.execute_input": "2023-02-20T13:00:06.783214Z",
     "iopub.status.busy": "2023-02-20T13:00:06.782980Z",
     "iopub.status.idle": "2023-02-20T13:00:08.203115Z",
     "shell.execute_reply": "2023-02-20T13:00:08.202354Z",
     "shell.execute_reply.started": "2023-02-20T13:00:06.783193Z"
    }
   },
   "outputs": [
    {
     "name": "stdout",
     "output_type": "stream",
     "text": [
      "check_mask:  551 rows\n",
      "551 rows out of 837254\n"
     ]
    },
    {
     "data": {
      "text/html": [
       "<div>\n",
       "<style scoped>\n",
       "    .dataframe tbody tr th:only-of-type {\n",
       "        vertical-align: middle;\n",
       "    }\n",
       "\n",
       "    .dataframe tbody tr th {\n",
       "        vertical-align: top;\n",
       "    }\n",
       "\n",
       "    .dataframe thead th {\n",
       "        text-align: right;\n",
       "    }\n",
       "</style>\n",
       "<table border=\"1\" class=\"dataframe\">\n",
       "  <thead>\n",
       "    <tr style=\"text-align: right;\">\n",
       "      <th></th>\n",
       "      <th>page_id</th>\n",
       "      <th>page_part</th>\n",
       "      <th>section_id2</th>\n",
       "      <th>title</th>\n",
       "      <th>lemma</th>\n",
       "      <th>inflected</th>\n",
       "      <th>pos</th>\n",
       "      <th>tag</th>\n",
       "      <th>member</th>\n",
       "      <th>rhymes</th>\n",
       "      <th>score</th>\n",
       "      <th>flexion</th>\n",
       "      <th>ipa</th>\n",
       "      <th>syllables</th>\n",
       "      <th>lang</th>\n",
       "      <th>lang_code</th>\n",
       "      <th>error</th>\n",
       "      <th>lemma_lower</th>\n",
       "    </tr>\n",
       "  </thead>\n",
       "  <tbody>\n",
       "    <tr>\n",
       "      <th>161</th>\n",
       "      <td>248</td>\n",
       "      <td>0</td>\n",
       "      <td>auto-</td>\n",
       "      <td>auto-</td>\n",
       "      <td>auto-</td>\n",
       "      <td>False</td>\n",
       "      <td>{'Gebundenes Lexem': []}</td>\n",
       "      <td>AFIX TRUNC</td>\n",
       "      <td>Gebundenes_Lexem</td>\n",
       "      <td>NaN</td>\n",
       "      <td>7.591738</td>\n",
       "      <td>{}</td>\n",
       "      <td>[aʊ̯toː]</td>\n",
       "      <td>[au, to]</td>\n",
       "      <td>Deutsch</td>\n",
       "      <td>de</td>\n",
       "      <td></td>\n",
       "      <td>auto-</td>\n",
       "    </tr>\n",
       "    <tr>\n",
       "      <th>269</th>\n",
       "      <td>388</td>\n",
       "      <td>0</td>\n",
       "      <td>ambi-</td>\n",
       "      <td>ambi-</td>\n",
       "      <td>ambi-</td>\n",
       "      <td>False</td>\n",
       "      <td>{'Gebundenes Lexem': []}</td>\n",
       "      <td>AFIX TRUNC</td>\n",
       "      <td>Gebundenes_Lexem</td>\n",
       "      <td>NaN</td>\n",
       "      <td>3.458080</td>\n",
       "      <td>{}</td>\n",
       "      <td>[ambi]</td>\n",
       "      <td>[am, bi]</td>\n",
       "      <td>Deutsch</td>\n",
       "      <td>de</td>\n",
       "      <td></td>\n",
       "      <td>ambi-</td>\n",
       "    </tr>\n",
       "    <tr>\n",
       "      <th>2694</th>\n",
       "      <td>3700</td>\n",
       "      <td>0</td>\n",
       "      <td>stief-</td>\n",
       "      <td>stief-</td>\n",
       "      <td>stief-</td>\n",
       "      <td>False</td>\n",
       "      <td>{'Gebundenes Lexem': []}</td>\n",
       "      <td>AFIX TRUNC</td>\n",
       "      <td>Gebundenes_Lexem</td>\n",
       "      <td>NaN</td>\n",
       "      <td>4.978129</td>\n",
       "      <td>{}</td>\n",
       "      <td>[ʃtiːf]</td>\n",
       "      <td>[stief]</td>\n",
       "      <td>Deutsch</td>\n",
       "      <td>de</td>\n",
       "      <td></td>\n",
       "      <td>stief-</td>\n",
       "    </tr>\n",
       "    <tr>\n",
       "      <th>4142</th>\n",
       "      <td>6082</td>\n",
       "      <td>0</td>\n",
       "      <td>plagio-</td>\n",
       "      <td>plagio-</td>\n",
       "      <td>plagio-</td>\n",
       "      <td>False</td>\n",
       "      <td>{'Gebundenes Lexem': []}</td>\n",
       "      <td>AFIX TRUNC</td>\n",
       "      <td>Gebundenes_Lexem</td>\n",
       "      <td>NaN</td>\n",
       "      <td>5.306197</td>\n",
       "      <td>{}</td>\n",
       "      <td>[plaɡi̯o-]</td>\n",
       "      <td>[pla, gio]</td>\n",
       "      <td>Deutsch</td>\n",
       "      <td>de</td>\n",
       "      <td></td>\n",
       "      <td>plagio-</td>\n",
       "    </tr>\n",
       "    <tr>\n",
       "      <th>4144</th>\n",
       "      <td>6084</td>\n",
       "      <td>0</td>\n",
       "      <td>ortho-</td>\n",
       "      <td>ortho-</td>\n",
       "      <td>ortho-</td>\n",
       "      <td>False</td>\n",
       "      <td>{'Gebundenes Lexem': []}</td>\n",
       "      <td>AFIX TRUNC</td>\n",
       "      <td>Gebundenes_Lexem</td>\n",
       "      <td>NaN</td>\n",
       "      <td>6.217497</td>\n",
       "      <td>{}</td>\n",
       "      <td>[ˈɔʁto]</td>\n",
       "      <td>[or, tho]</td>\n",
       "      <td>Deutsch</td>\n",
       "      <td>de</td>\n",
       "      <td></td>\n",
       "      <td>ortho-</td>\n",
       "    </tr>\n",
       "    <tr>\n",
       "      <th>...</th>\n",
       "      <td>...</td>\n",
       "      <td>...</td>\n",
       "      <td>...</td>\n",
       "      <td>...</td>\n",
       "      <td>...</td>\n",
       "      <td>...</td>\n",
       "      <td>...</td>\n",
       "      <td>...</td>\n",
       "      <td>...</td>\n",
       "      <td>...</td>\n",
       "      <td>...</td>\n",
       "      <td>...</td>\n",
       "      <td>...</td>\n",
       "      <td>...</td>\n",
       "      <td>...</td>\n",
       "      <td>...</td>\n",
       "      <td>...</td>\n",
       "      <td>...</td>\n",
       "    </tr>\n",
       "    <tr>\n",
       "      <th>806614</th>\n",
       "      <td>1078889</td>\n",
       "      <td>0</td>\n",
       "      <td>nord-</td>\n",
       "      <td>nord-</td>\n",
       "      <td>nord-</td>\n",
       "      <td>False</td>\n",
       "      <td>{'Gebundenes Lexem': []}</td>\n",
       "      <td>AFIX TRUNC</td>\n",
       "      <td>Gebundenes_Lexem</td>\n",
       "      <td>NaN</td>\n",
       "      <td>5.364520</td>\n",
       "      <td>{}</td>\n",
       "      <td>[nɔʁt]</td>\n",
       "      <td>[nord]</td>\n",
       "      <td>Deutsch</td>\n",
       "      <td>de</td>\n",
       "      <td></td>\n",
       "      <td>nord-</td>\n",
       "    </tr>\n",
       "    <tr>\n",
       "      <th>808534</th>\n",
       "      <td>1080874</td>\n",
       "      <td>0</td>\n",
       "      <td>Nobel-</td>\n",
       "      <td>Nobel-</td>\n",
       "      <td>Nobel-</td>\n",
       "      <td>False</td>\n",
       "      <td>{'Affix': ['Präfixoid']}</td>\n",
       "      <td>AFIX TRUNC</td>\n",
       "      <td>Präfixoid</td>\n",
       "      <td>NaN</td>\n",
       "      <td>3.345079</td>\n",
       "      <td>{}</td>\n",
       "      <td>[ˈnoːbl̩]</td>\n",
       "      <td>[No, bel]</td>\n",
       "      <td>Deutsch</td>\n",
       "      <td>de</td>\n",
       "      <td></td>\n",
       "      <td>nobel-</td>\n",
       "    </tr>\n",
       "    <tr>\n",
       "      <th>809124</th>\n",
       "      <td>1081469</td>\n",
       "      <td>0</td>\n",
       "      <td>Operetten-</td>\n",
       "      <td>Operetten-</td>\n",
       "      <td>Operetten-</td>\n",
       "      <td>False</td>\n",
       "      <td>{'Affix': ['Präfixoid']}</td>\n",
       "      <td>AFIX TRUNC</td>\n",
       "      <td>Präfixoid</td>\n",
       "      <td>NaN</td>\n",
       "      <td>4.088700</td>\n",
       "      <td>{}</td>\n",
       "      <td>[opəˈʁɛtn̩]</td>\n",
       "      <td>[Ope, ret, ten]</td>\n",
       "      <td>Deutsch</td>\n",
       "      <td>de</td>\n",
       "      <td></td>\n",
       "      <td>operetten-</td>\n",
       "    </tr>\n",
       "    <tr>\n",
       "      <th>814132</th>\n",
       "      <td>1086984</td>\n",
       "      <td>0</td>\n",
       "      <td>divers-</td>\n",
       "      <td>divers-</td>\n",
       "      <td>divers-</td>\n",
       "      <td>False</td>\n",
       "      <td>{'Gebundenes Lexem': []}</td>\n",
       "      <td>AFIX TRUNC</td>\n",
       "      <td>Gebundenes_Lexem</td>\n",
       "      <td>NaN</td>\n",
       "      <td>20.612394</td>\n",
       "      <td>{}</td>\n",
       "      <td>[diˈvɛʁs]</td>\n",
       "      <td>[di, vers]</td>\n",
       "      <td>Deutsch</td>\n",
       "      <td>de</td>\n",
       "      <td></td>\n",
       "      <td>divers-</td>\n",
       "    </tr>\n",
       "    <tr>\n",
       "      <th>816448</th>\n",
       "      <td>1089957</td>\n",
       "      <td>0</td>\n",
       "      <td>Schmalspur-</td>\n",
       "      <td>Schmalspur-</td>\n",
       "      <td>Schmalspur-</td>\n",
       "      <td>False</td>\n",
       "      <td>{'Affix': ['Präfixoid']}</td>\n",
       "      <td>AFIX TRUNC</td>\n",
       "      <td>Präfixoid</td>\n",
       "      <td>NaN</td>\n",
       "      <td>6.148238</td>\n",
       "      <td>{}</td>\n",
       "      <td>[ˈʃmaːlʃpuːɐ̯]</td>\n",
       "      <td>[Schmal, spur]</td>\n",
       "      <td>Deutsch</td>\n",
       "      <td>de</td>\n",
       "      <td></td>\n",
       "      <td>schmalspur-</td>\n",
       "    </tr>\n",
       "  </tbody>\n",
       "</table>\n",
       "<p>551 rows × 18 columns</p>\n",
       "</div>"
      ],
      "text/plain": [
       "        page_id  page_part  section_id2        title        lemma  inflected  \\\n",
       "161         248          0        auto-        auto-        auto-      False   \n",
       "269         388          0        ambi-        ambi-        ambi-      False   \n",
       "2694       3700          0       stief-       stief-       stief-      False   \n",
       "4142       6082          0      plagio-      plagio-      plagio-      False   \n",
       "4144       6084          0       ortho-       ortho-       ortho-      False   \n",
       "...         ...        ...          ...          ...          ...        ...   \n",
       "806614  1078889          0        nord-        nord-        nord-      False   \n",
       "808534  1080874          0       Nobel-       Nobel-       Nobel-      False   \n",
       "809124  1081469          0   Operetten-   Operetten-   Operetten-      False   \n",
       "814132  1086984          0      divers-      divers-      divers-      False   \n",
       "816448  1089957          0  Schmalspur-  Schmalspur-  Schmalspur-      False   \n",
       "\n",
       "                             pos         tag            member rhymes  \\\n",
       "161     {'Gebundenes Lexem': []}  AFIX TRUNC  Gebundenes_Lexem    NaN   \n",
       "269     {'Gebundenes Lexem': []}  AFIX TRUNC  Gebundenes_Lexem    NaN   \n",
       "2694    {'Gebundenes Lexem': []}  AFIX TRUNC  Gebundenes_Lexem    NaN   \n",
       "4142    {'Gebundenes Lexem': []}  AFIX TRUNC  Gebundenes_Lexem    NaN   \n",
       "4144    {'Gebundenes Lexem': []}  AFIX TRUNC  Gebundenes_Lexem    NaN   \n",
       "...                          ...         ...               ...    ...   \n",
       "806614  {'Gebundenes Lexem': []}  AFIX TRUNC  Gebundenes_Lexem    NaN   \n",
       "808534  {'Affix': ['Präfixoid']}  AFIX TRUNC         Präfixoid    NaN   \n",
       "809124  {'Affix': ['Präfixoid']}  AFIX TRUNC         Präfixoid    NaN   \n",
       "814132  {'Gebundenes Lexem': []}  AFIX TRUNC  Gebundenes_Lexem    NaN   \n",
       "816448  {'Affix': ['Präfixoid']}  AFIX TRUNC         Präfixoid    NaN   \n",
       "\n",
       "            score flexion             ipa        syllables     lang lang_code  \\\n",
       "161      7.591738      {}        [aʊ̯toː]         [au, to]  Deutsch        de   \n",
       "269      3.458080      {}          [ambi]         [am, bi]  Deutsch        de   \n",
       "2694     4.978129      {}         [ʃtiːf]          [stief]  Deutsch        de   \n",
       "4142     5.306197      {}      [plaɡi̯o-]       [pla, gio]  Deutsch        de   \n",
       "4144     6.217497      {}         [ˈɔʁto]        [or, tho]  Deutsch        de   \n",
       "...           ...     ...             ...              ...      ...       ...   \n",
       "806614   5.364520      {}          [nɔʁt]           [nord]  Deutsch        de   \n",
       "808534   3.345079      {}       [ˈnoːbl̩]        [No, bel]  Deutsch        de   \n",
       "809124   4.088700      {}     [opəˈʁɛtn̩]  [Ope, ret, ten]  Deutsch        de   \n",
       "814132  20.612394      {}       [diˈvɛʁs]       [di, vers]  Deutsch        de   \n",
       "816448   6.148238      {}  [ˈʃmaːlʃpuːɐ̯]   [Schmal, spur]  Deutsch        de   \n",
       "\n",
       "       error  lemma_lower  \n",
       "161                 auto-  \n",
       "269                 ambi-  \n",
       "2694               stief-  \n",
       "4142              plagio-  \n",
       "4144               ortho-  \n",
       "...      ...          ...  \n",
       "806614              nord-  \n",
       "808534             nobel-  \n",
       "809124         operetten-  \n",
       "814132            divers-  \n",
       "816448        schmalspur-  \n",
       "\n",
       "[551 rows x 18 columns]"
      ]
     },
     "execution_count": 74,
     "metadata": {},
     "output_type": "execute_result"
    }
   ],
   "source": [
    "# AFIX 551\n",
    "mask0 = ~wiktionary.lemma.str.startswith('-')   \n",
    "mask1 =  wiktionary.lemma.str.endswith('-')  \n",
    "mask2 = ~wiktionary.lemma.str[0].str.isdigit()\n",
    "mask3 =  wiktionary.lemma.str.len() > 1\n",
    "mask4 = ~wiktionary.tag.str.contains(' ')   \n",
    "mask = mask0  &  mask1  &  mask2  &  mask3  &  mask4 \n",
    "pak.check_mask(wiktionary, mask, 551)\n",
    "\n",
    "wiktionary.loc[mask,'tag']    = 'AFIX ' + wiktionary[mask].tag\n",
    "wiktionary.loc[mask,'member'] = pak.remove_str(wiktionary[mask].member, ['Affix'])\n",
    "grid(wiktionary, mask)"
   ]
  },
  {
   "cell_type": "code",
   "execution_count": 75,
   "metadata": {
    "execution": {
     "iopub.execute_input": "2023-02-20T13:00:08.204046Z",
     "iopub.status.busy": "2023-02-20T13:00:08.203802Z",
     "iopub.status.idle": "2023-02-20T13:00:08.645026Z",
     "shell.execute_reply": "2023-02-20T13:00:08.644335Z",
     "shell.execute_reply.started": "2023-02-20T13:00:08.204024Z"
    },
    "tags": []
   },
   "outputs": [
    {
     "name": "stdout",
     "output_type": "stream",
     "text": [
      "check_mask:  1 rows\n"
     ]
    },
    {
     "data": {
      "text/html": [
       "<div>\n",
       "<style scoped>\n",
       "    .dataframe tbody tr th:only-of-type {\n",
       "        vertical-align: middle;\n",
       "    }\n",
       "\n",
       "    .dataframe tbody tr th {\n",
       "        vertical-align: top;\n",
       "    }\n",
       "\n",
       "    .dataframe thead th {\n",
       "        text-align: right;\n",
       "    }\n",
       "</style>\n",
       "<table border=\"1\" class=\"dataframe\">\n",
       "  <thead>\n",
       "    <tr style=\"text-align: right;\">\n",
       "      <th></th>\n",
       "      <th>page_id</th>\n",
       "      <th>page_part</th>\n",
       "      <th>section_id2</th>\n",
       "      <th>title</th>\n",
       "      <th>lemma</th>\n",
       "      <th>inflected</th>\n",
       "      <th>pos</th>\n",
       "      <th>tag</th>\n",
       "      <th>member</th>\n",
       "      <th>rhymes</th>\n",
       "      <th>score</th>\n",
       "      <th>flexion</th>\n",
       "      <th>ipa</th>\n",
       "      <th>syllables</th>\n",
       "      <th>lang</th>\n",
       "      <th>lang_code</th>\n",
       "      <th>error</th>\n",
       "      <th>lemma_lower</th>\n",
       "    </tr>\n",
       "  </thead>\n",
       "  <tbody>\n",
       "    <tr>\n",
       "      <th>20014</th>\n",
       "      <td>50798</td>\n",
       "      <td>0</td>\n",
       "      <td>dar</td>\n",
       "      <td>dar</td>\n",
       "      <td>dar</td>\n",
       "      <td>False</td>\n",
       "      <td>{'Affix': ['Präfix']}</td>\n",
       "      <td>AFIX TRUNC</td>\n",
       "      <td>Präfix</td>\n",
       "      <td>[aːɐ̯]</td>\n",
       "      <td>3.133657</td>\n",
       "      <td>{}</td>\n",
       "      <td>[daːɐ̯]</td>\n",
       "      <td>[dar]</td>\n",
       "      <td>Deutsch</td>\n",
       "      <td>de</td>\n",
       "      <td></td>\n",
       "      <td>dar</td>\n",
       "    </tr>\n",
       "  </tbody>\n",
       "</table>\n",
       "</div>"
      ],
      "text/plain": [
       "       page_id  page_part section_id2 title lemma  inflected  \\\n",
       "20014    50798          0         dar   dar   dar      False   \n",
       "\n",
       "                         pos         tag  member  rhymes     score flexion  \\\n",
       "20014  {'Affix': ['Präfix']}  AFIX TRUNC  Präfix  [aːɐ̯]  3.133657      {}   \n",
       "\n",
       "           ipa syllables     lang lang_code error lemma_lower  \n",
       "20014  [daːɐ̯]     [dar]  Deutsch        de               dar  "
      ]
     },
     "execution_count": 75,
     "metadata": {},
     "output_type": "execute_result"
    }
   ],
   "source": [
    "# dar: Präfix ohne Bindestrich\n",
    "mask1 = wiktionary.lemma == 'dar'\n",
    "mask2 = wiktionary.member.str.contains('Präfix')\n",
    "mask = mask1  &  mask2\n",
    "pak.check_mask(wiktionary, mask, 1)\n",
    "\n",
    "wiktionary.loc[mask,'tag']    = 'AFIX TRUNC'\n",
    "wiktionary.loc[mask,'member'] = 'Präfix'\n",
    "wiktionary[mask]"
   ]
  },
  {
   "cell_type": "code",
   "execution_count": 76,
   "metadata": {
    "execution": {
     "iopub.execute_input": "2023-02-20T13:00:08.649136Z",
     "iopub.status.busy": "2023-02-20T13:00:08.648852Z",
     "iopub.status.idle": "2023-02-20T13:00:09.022664Z",
     "shell.execute_reply": "2023-02-20T13:00:09.021444Z",
     "shell.execute_reply.started": "2023-02-20T13:00:08.649113Z"
    },
    "tags": []
   },
   "outputs": [
    {
     "name": "stdout",
     "output_type": "stream",
     "text": [
      "check_mask:  552 rows\n",
      "3 rows\n"
     ]
    },
    {
     "data": {
      "text/html": [
       "<div>\n",
       "<style scoped>\n",
       "    .dataframe tbody tr th:only-of-type {\n",
       "        vertical-align: middle;\n",
       "    }\n",
       "\n",
       "    .dataframe tbody tr th {\n",
       "        vertical-align: top;\n",
       "    }\n",
       "\n",
       "    .dataframe thead th {\n",
       "        text-align: right;\n",
       "    }\n",
       "</style>\n",
       "<table border=\"1\" class=\"dataframe\">\n",
       "  <thead>\n",
       "    <tr style=\"text-align: right;\">\n",
       "      <th></th>\n",
       "      <th>member</th>\n",
       "      <th>member_count</th>\n",
       "      <th>member_percent</th>\n",
       "      <th>lemma</th>\n",
       "    </tr>\n",
       "  </thead>\n",
       "  <tbody>\n",
       "    <tr>\n",
       "      <th>0</th>\n",
       "      <td>Gebundenes_Lexem</td>\n",
       "      <td>378</td>\n",
       "      <td>68.5</td>\n",
       "      <td>[tele-, Allround-, Atto-, Breitband-, Dezi-, Exa-, Femto-, Giga-, Hekto-, Kilo-, Kurzzeit-, Langzeit-, Lieblings-, Möchtegern-, Nachkriegs-, Nano-, Nullachtfünfzehn-, Peta-, Piko-, Polit-]</td>\n",
       "    </tr>\n",
       "    <tr>\n",
       "      <th>1</th>\n",
       "      <td>Präfix</td>\n",
       "      <td>144</td>\n",
       "      <td>26.1</td>\n",
       "      <td>[a-, ab-, an-, über-, Haupt-, Ingen-, abs-, ac-, ad-, af-, ag-, ak-, al-, anti-, ap-, ar-, as-, at-, auf-, aus-]</td>\n",
       "    </tr>\n",
       "    <tr>\n",
       "      <th>2</th>\n",
       "      <td>Präfixoid</td>\n",
       "      <td>30</td>\n",
       "      <td>5.4</td>\n",
       "      <td>[Allerwelts-, Bilderbuch-, Duodez-, General-, Heiden-, Mammut-, Nobel-, Operetten-, Pilot-, Quadrat-, Schmalspur-, Vollblut-, Westentaschen-, arsch-, bomben-, bären-, erz-, granaten-, grund-, hunde-]</td>\n",
       "    </tr>\n",
       "  </tbody>\n",
       "</table>\n",
       "</div>"
      ],
      "text/plain": [
       "             member  member_count  member_percent  \\\n",
       "0  Gebundenes_Lexem           378            68.5   \n",
       "1            Präfix           144            26.1   \n",
       "2         Präfixoid            30             5.4   \n",
       "\n",
       "                                                                                                                                                                                                     lemma  \n",
       "0             [tele-, Allround-, Atto-, Breitband-, Dezi-, Exa-, Femto-, Giga-, Hekto-, Kilo-, Kurzzeit-, Langzeit-, Lieblings-, Möchtegern-, Nachkriegs-, Nano-, Nullachtfünfzehn-, Peta-, Piko-, Polit-]  \n",
       "1                                                                                         [a-, ab-, an-, über-, Haupt-, Ingen-, abs-, ac-, ad-, af-, ag-, ak-, al-, anti-, ap-, ar-, as-, at-, auf-, aus-]  \n",
       "2  [Allerwelts-, Bilderbuch-, Duodez-, General-, Heiden-, Mammut-, Nobel-, Operetten-, Pilot-, Quadrat-, Schmalspur-, Vollblut-, Westentaschen-, arsch-, bomben-, bären-, erz-, granaten-, grund-, hunde-]  "
      ]
     },
     "execution_count": 76,
     "metadata": {},
     "output_type": "execute_result"
    }
   ],
   "source": [
    "# Kontrolle und Statistik AFIX\n",
    "mask_AFIX = wiktionary.tag.str.contains('AFIX')\n",
    "a = wiktionary[mask_AFIX].sort_values(['section_id2'])\n",
    "mask = a.tag != 'AFIX TRUNC'\n",
    "check_mask(a,0)\n",
    "\n",
    "df = pak.analyse_freqs(a, ['member','lemma'])\n",
    "df = pak.drop_cols(df,'lemma_count')\n",
    "grid(df)"
   ]
  },
  {
   "cell_type": "markdown",
   "metadata": {},
   "source": [
    "### Suffix"
   ]
  },
  {
   "cell_type": "code",
   "execution_count": 77,
   "metadata": {
    "execution": {
     "iopub.execute_input": "2023-02-20T13:00:09.025044Z",
     "iopub.status.busy": "2023-02-20T13:00:09.024571Z",
     "iopub.status.idle": "2023-02-20T13:00:10.457396Z",
     "shell.execute_reply": "2023-02-20T13:00:10.456471Z",
     "shell.execute_reply.started": "2023-02-20T13:00:09.025005Z"
    }
   },
   "outputs": [
    {
     "name": "stdout",
     "output_type": "stream",
     "text": [
      "check_mask:  480 rows\n",
      "480 rows out of 837254\n"
     ]
    },
    {
     "data": {
      "text/html": [
       "<div>\n",
       "<style scoped>\n",
       "    .dataframe tbody tr th:only-of-type {\n",
       "        vertical-align: middle;\n",
       "    }\n",
       "\n",
       "    .dataframe tbody tr th {\n",
       "        vertical-align: top;\n",
       "    }\n",
       "\n",
       "    .dataframe thead th {\n",
       "        text-align: right;\n",
       "    }\n",
       "</style>\n",
       "<table border=\"1\" class=\"dataframe\">\n",
       "  <thead>\n",
       "    <tr style=\"text-align: right;\">\n",
       "      <th></th>\n",
       "      <th>page_id</th>\n",
       "      <th>page_part</th>\n",
       "      <th>section_id2</th>\n",
       "      <th>title</th>\n",
       "      <th>lemma</th>\n",
       "      <th>inflected</th>\n",
       "      <th>pos</th>\n",
       "      <th>tag</th>\n",
       "      <th>member</th>\n",
       "      <th>rhymes</th>\n",
       "      <th>score</th>\n",
       "      <th>flexion</th>\n",
       "      <th>ipa</th>\n",
       "      <th>syllables</th>\n",
       "      <th>lang</th>\n",
       "      <th>lang_code</th>\n",
       "      <th>error</th>\n",
       "      <th>lemma_lower</th>\n",
       "    </tr>\n",
       "  </thead>\n",
       "  <tbody>\n",
       "    <tr>\n",
       "      <th>1483</th>\n",
       "      <td>2140</td>\n",
       "      <td>0</td>\n",
       "      <td>-ow</td>\n",
       "      <td>-ow</td>\n",
       "      <td>-ow</td>\n",
       "      <td>False</td>\n",
       "      <td>{'Affix': ['Suffix']}</td>\n",
       "      <td>ZFIX TRUNC</td>\n",
       "      <td>Suffix</td>\n",
       "      <td>NaN</td>\n",
       "      <td>6.330498</td>\n",
       "      <td>{}</td>\n",
       "      <td>[oː]</td>\n",
       "      <td>[ow]</td>\n",
       "      <td>Deutsch</td>\n",
       "      <td>de</td>\n",
       "      <td></td>\n",
       "      <td>-ow</td>\n",
       "    </tr>\n",
       "    <tr>\n",
       "      <th>3151</th>\n",
       "      <td>4533</td>\n",
       "      <td>0</td>\n",
       "      <td>-in</td>\n",
       "      <td>-in</td>\n",
       "      <td>-in</td>\n",
       "      <td>False</td>\n",
       "      <td>{'Substantiv': [], 'Affix': ['Suffix']}</td>\n",
       "      <td>ZFIX TRUNC</td>\n",
       "      <td>Substantiv  Suffix</td>\n",
       "      <td>NaN</td>\n",
       "      <td>9.297691</td>\n",
       "      <td>{'Genus': ['f'], 'Nominativ Singular': ['-in'], 'Nominativ Plural': ['-innen'], 'Genitiv Singular': ['-in'], 'Genitiv Plural': ['-innen'], 'Dativ Singular': ['-in'], 'Dativ Plural': ['-innen'], 'Akkusativ Singular': ['-in'], 'Akkusativ Plural': ['-innen']}</td>\n",
       "      <td>[ɪn]</td>\n",
       "      <td>[in]</td>\n",
       "      <td>Deutsch</td>\n",
       "      <td>de</td>\n",
       "      <td></td>\n",
       "      <td>-in</td>\n",
       "    </tr>\n",
       "    <tr>\n",
       "      <th>3152</th>\n",
       "      <td>4533</td>\n",
       "      <td>1</td>\n",
       "      <td>-in_1</td>\n",
       "      <td>-in</td>\n",
       "      <td>-in</td>\n",
       "      <td>False</td>\n",
       "      <td>{'Affix': ['Suffix']}</td>\n",
       "      <td>ZFIX TRUNC</td>\n",
       "      <td>Suffix</td>\n",
       "      <td>NaN</td>\n",
       "      <td>1.484812</td>\n",
       "      <td>{}</td>\n",
       "      <td>[ˈiːn, in]</td>\n",
       "      <td>[in]</td>\n",
       "      <td>Deutsch</td>\n",
       "      <td>de</td>\n",
       "      <td></td>\n",
       "      <td>-in</td>\n",
       "    </tr>\n",
       "    <tr>\n",
       "      <th>3153</th>\n",
       "      <td>4533</td>\n",
       "      <td>2</td>\n",
       "      <td>-in_2</td>\n",
       "      <td>-in</td>\n",
       "      <td>-in</td>\n",
       "      <td>False</td>\n",
       "      <td>{'Affix': ['Suffix']}</td>\n",
       "      <td>ZFIX TRUNC</td>\n",
       "      <td>Suffix</td>\n",
       "      <td>NaN</td>\n",
       "      <td>1.532199</td>\n",
       "      <td>{}</td>\n",
       "      <td>[iːn]</td>\n",
       "      <td>[in]</td>\n",
       "      <td>Deutsch</td>\n",
       "      <td>de</td>\n",
       "      <td></td>\n",
       "      <td>-in</td>\n",
       "    </tr>\n",
       "    <tr>\n",
       "      <th>4875</th>\n",
       "      <td>7314</td>\n",
       "      <td>0</td>\n",
       "      <td>-zid</td>\n",
       "      <td>-zid</td>\n",
       "      <td>-zid</td>\n",
       "      <td>False</td>\n",
       "      <td>{'Gebundenes Lexem': []}</td>\n",
       "      <td>ZFIX TRUNC</td>\n",
       "      <td>Gebundenes_Lexem</td>\n",
       "      <td>NaN</td>\n",
       "      <td>6.556501</td>\n",
       "      <td>{}</td>\n",
       "      <td>[-t͡siːt]</td>\n",
       "      <td>[zid]</td>\n",
       "      <td>Deutsch</td>\n",
       "      <td>de</td>\n",
       "      <td></td>\n",
       "      <td>-zid</td>\n",
       "    </tr>\n",
       "    <tr>\n",
       "      <th>...</th>\n",
       "      <td>...</td>\n",
       "      <td>...</td>\n",
       "      <td>...</td>\n",
       "      <td>...</td>\n",
       "      <td>...</td>\n",
       "      <td>...</td>\n",
       "      <td>...</td>\n",
       "      <td>...</td>\n",
       "      <td>...</td>\n",
       "      <td>...</td>\n",
       "      <td>...</td>\n",
       "      <td>...</td>\n",
       "      <td>...</td>\n",
       "      <td>...</td>\n",
       "      <td>...</td>\n",
       "      <td>...</td>\n",
       "      <td>...</td>\n",
       "      <td>...</td>\n",
       "    </tr>\n",
       "    <tr>\n",
       "      <th>818059</th>\n",
       "      <td>1092226</td>\n",
       "      <td>0</td>\n",
       "      <td>-hältig</td>\n",
       "      <td>-hältig</td>\n",
       "      <td>-hältig</td>\n",
       "      <td>False</td>\n",
       "      <td>{'Affix': ['Suffix']}</td>\n",
       "      <td>ZFIX TRUNC</td>\n",
       "      <td>Suffix</td>\n",
       "      <td>NaN</td>\n",
       "      <td>6.658566</td>\n",
       "      <td>{}</td>\n",
       "      <td>[ˌhɛltɪç, ˌhɛltɪk]</td>\n",
       "      <td>[häl, tig]</td>\n",
       "      <td>Deutsch</td>\n",
       "      <td>de</td>\n",
       "      <td></td>\n",
       "      <td>-hältig</td>\n",
       "    </tr>\n",
       "    <tr>\n",
       "      <th>818239</th>\n",
       "      <td>1092548</td>\n",
       "      <td>0</td>\n",
       "      <td>-halber</td>\n",
       "      <td>-halber</td>\n",
       "      <td>-halber</td>\n",
       "      <td>False</td>\n",
       "      <td>{'Affix': ['Suffix']}</td>\n",
       "      <td>ZFIX TRUNC</td>\n",
       "      <td>Suffix</td>\n",
       "      <td>NaN</td>\n",
       "      <td>2.965978</td>\n",
       "      <td>{}</td>\n",
       "      <td>[ˈhalbɐ]</td>\n",
       "      <td>[hal, ber]</td>\n",
       "      <td>Deutsch</td>\n",
       "      <td>de</td>\n",
       "      <td></td>\n",
       "      <td>-halber</td>\n",
       "    </tr>\n",
       "    <tr>\n",
       "      <th>828638</th>\n",
       "      <td>1106151</td>\n",
       "      <td>0</td>\n",
       "      <td>-biont</td>\n",
       "      <td>-biont</td>\n",
       "      <td>-biont</td>\n",
       "      <td>False</td>\n",
       "      <td>{'Gebundenes Lexem': []}</td>\n",
       "      <td>ZFIX TRUNC</td>\n",
       "      <td>Gebundenes_Lexem</td>\n",
       "      <td>NaN</td>\n",
       "      <td>3.191981</td>\n",
       "      <td>{}</td>\n",
       "      <td>[ˈbi̯ɔnt]</td>\n",
       "      <td>[bi, ont]</td>\n",
       "      <td>Deutsch</td>\n",
       "      <td>de</td>\n",
       "      <td></td>\n",
       "      <td>-biont</td>\n",
       "    </tr>\n",
       "    <tr>\n",
       "      <th>829642</th>\n",
       "      <td>1107769</td>\n",
       "      <td>0</td>\n",
       "      <td>-seits</td>\n",
       "      <td>-seits</td>\n",
       "      <td>-seits</td>\n",
       "      <td>False</td>\n",
       "      <td>{'Affix': ['Suffix']}</td>\n",
       "      <td>ZFIX TRUNC</td>\n",
       "      <td>Suffix</td>\n",
       "      <td>NaN</td>\n",
       "      <td>4.996355</td>\n",
       "      <td>{}</td>\n",
       "      <td>[zaɪ̯ts]</td>\n",
       "      <td>[seits]</td>\n",
       "      <td>Deutsch</td>\n",
       "      <td>de</td>\n",
       "      <td></td>\n",
       "      <td>-seits</td>\n",
       "    </tr>\n",
       "    <tr>\n",
       "      <th>830209</th>\n",
       "      <td>1108535</td>\n",
       "      <td>0</td>\n",
       "      <td>-seitig</td>\n",
       "      <td>-seitig</td>\n",
       "      <td>-seitig</td>\n",
       "      <td>False</td>\n",
       "      <td>{'Affix': ['Suffix']}</td>\n",
       "      <td>ZFIX TRUNC</td>\n",
       "      <td>Suffix</td>\n",
       "      <td>NaN</td>\n",
       "      <td>3.859052</td>\n",
       "      <td>{}</td>\n",
       "      <td>[zaɪ̯tɪç]</td>\n",
       "      <td>[sei, tig]</td>\n",
       "      <td>Deutsch</td>\n",
       "      <td>de</td>\n",
       "      <td></td>\n",
       "      <td>-seitig</td>\n",
       "    </tr>\n",
       "  </tbody>\n",
       "</table>\n",
       "<p>480 rows × 18 columns</p>\n",
       "</div>"
      ],
      "text/plain": [
       "        page_id  page_part section_id2    title    lemma  inflected  \\\n",
       "1483       2140          0         -ow      -ow      -ow      False   \n",
       "3151       4533          0         -in      -in      -in      False   \n",
       "3152       4533          1       -in_1      -in      -in      False   \n",
       "3153       4533          2       -in_2      -in      -in      False   \n",
       "4875       7314          0        -zid     -zid     -zid      False   \n",
       "...         ...        ...         ...      ...      ...        ...   \n",
       "818059  1092226          0     -hältig  -hältig  -hältig      False   \n",
       "818239  1092548          0     -halber  -halber  -halber      False   \n",
       "828638  1106151          0      -biont   -biont   -biont      False   \n",
       "829642  1107769          0      -seits   -seits   -seits      False   \n",
       "830209  1108535          0     -seitig  -seitig  -seitig      False   \n",
       "\n",
       "                                            pos         tag  \\\n",
       "1483                      {'Affix': ['Suffix']}  ZFIX TRUNC   \n",
       "3151    {'Substantiv': [], 'Affix': ['Suffix']}  ZFIX TRUNC   \n",
       "3152                      {'Affix': ['Suffix']}  ZFIX TRUNC   \n",
       "3153                      {'Affix': ['Suffix']}  ZFIX TRUNC   \n",
       "4875                   {'Gebundenes Lexem': []}  ZFIX TRUNC   \n",
       "...                                         ...         ...   \n",
       "818059                    {'Affix': ['Suffix']}  ZFIX TRUNC   \n",
       "818239                    {'Affix': ['Suffix']}  ZFIX TRUNC   \n",
       "828638                 {'Gebundenes Lexem': []}  ZFIX TRUNC   \n",
       "829642                    {'Affix': ['Suffix']}  ZFIX TRUNC   \n",
       "830209                    {'Affix': ['Suffix']}  ZFIX TRUNC   \n",
       "\n",
       "                    member rhymes     score  \\\n",
       "1483                Suffix    NaN  6.330498   \n",
       "3151    Substantiv  Suffix    NaN  9.297691   \n",
       "3152                Suffix    NaN  1.484812   \n",
       "3153                Suffix    NaN  1.532199   \n",
       "4875      Gebundenes_Lexem    NaN  6.556501   \n",
       "...                    ...    ...       ...   \n",
       "818059              Suffix    NaN  6.658566   \n",
       "818239              Suffix    NaN  2.965978   \n",
       "828638    Gebundenes_Lexem    NaN  3.191981   \n",
       "829642              Suffix    NaN  4.996355   \n",
       "830209              Suffix    NaN  3.859052   \n",
       "\n",
       "                                                                                                                                                                                                                                                                 flexion  \\\n",
       "1483                                                                                                                                                                                                                                                                  {}   \n",
       "3151    {'Genus': ['f'], 'Nominativ Singular': ['-in'], 'Nominativ Plural': ['-innen'], 'Genitiv Singular': ['-in'], 'Genitiv Plural': ['-innen'], 'Dativ Singular': ['-in'], 'Dativ Plural': ['-innen'], 'Akkusativ Singular': ['-in'], 'Akkusativ Plural': ['-innen']}   \n",
       "3152                                                                                                                                                                                                                                                                  {}   \n",
       "3153                                                                                                                                                                                                                                                                  {}   \n",
       "4875                                                                                                                                                                                                                                                                  {}   \n",
       "...                                                                                                                                                                                                                                                                  ...   \n",
       "818059                                                                                                                                                                                                                                                                {}   \n",
       "818239                                                                                                                                                                                                                                                                {}   \n",
       "828638                                                                                                                                                                                                                                                                {}   \n",
       "829642                                                                                                                                                                                                                                                                {}   \n",
       "830209                                                                                                                                                                                                                                                                {}   \n",
       "\n",
       "                       ipa   syllables     lang lang_code error lemma_lower  \n",
       "1483                  [oː]        [ow]  Deutsch        de               -ow  \n",
       "3151                  [ɪn]        [in]  Deutsch        de               -in  \n",
       "3152            [ˈiːn, in]        [in]  Deutsch        de               -in  \n",
       "3153                 [iːn]        [in]  Deutsch        de               -in  \n",
       "4875             [-t͡siːt]       [zid]  Deutsch        de              -zid  \n",
       "...                    ...         ...      ...       ...   ...         ...  \n",
       "818059  [ˌhɛltɪç, ˌhɛltɪk]  [häl, tig]  Deutsch        de           -hältig  \n",
       "818239            [ˈhalbɐ]  [hal, ber]  Deutsch        de           -halber  \n",
       "828638           [ˈbi̯ɔnt]   [bi, ont]  Deutsch        de            -biont  \n",
       "829642            [zaɪ̯ts]     [seits]  Deutsch        de            -seits  \n",
       "830209           [zaɪ̯tɪç]  [sei, tig]  Deutsch        de           -seitig  \n",
       "\n",
       "[480 rows x 18 columns]"
      ]
     },
     "execution_count": 77,
     "metadata": {},
     "output_type": "execute_result"
    }
   ],
   "source": [
    "# ZFIX 480\n",
    "mask0 =  wiktionary.lemma.str.startswith('-')\n",
    "mask1 = ~wiktionary.lemma.str.endswith('-')\n",
    "mask2 = ~wiktionary.lemma.str[-1].str.isdigit()\n",
    "mask3 =  wiktionary.lemma.str.len() > 1\n",
    "mask4 = ~wiktionary.tag.str.contains(' ')   \n",
    "mask = mask0  &  mask1  &  mask2  &  mask3  &  mask4 \n",
    "pak.check_mask(wiktionary, mask, 480)\n",
    "\n",
    "wiktionary.loc[mask, 'tag']   = 'ZFIX ' + wiktionary[mask].tag\n",
    "wiktionary.loc[mask,'member'] = pak.remove_str(wiktionary[mask].member, ['Affix'])\n",
    "grid(wiktionary, mask)"
   ]
  },
  {
   "cell_type": "code",
   "execution_count": 78,
   "metadata": {
    "execution": {
     "iopub.execute_input": "2023-02-20T13:00:10.459178Z",
     "iopub.status.busy": "2023-02-20T13:00:10.458916Z",
     "iopub.status.idle": "2023-02-20T13:00:10.853003Z",
     "shell.execute_reply": "2023-02-20T13:00:10.852300Z",
     "shell.execute_reply.started": "2023-02-20T13:00:10.459156Z"
    },
    "tags": []
   },
   "outputs": [
    {
     "name": "stdout",
     "output_type": "stream",
     "text": [
      "check_mask:  480 rows\n",
      "15 rows\n"
     ]
    },
    {
     "data": {
      "text/html": [
       "<div>\n",
       "<style scoped>\n",
       "    .dataframe tbody tr th:only-of-type {\n",
       "        vertical-align: middle;\n",
       "    }\n",
       "\n",
       "    .dataframe tbody tr th {\n",
       "        vertical-align: top;\n",
       "    }\n",
       "\n",
       "    .dataframe thead th {\n",
       "        text-align: right;\n",
       "    }\n",
       "</style>\n",
       "<table border=\"1\" class=\"dataframe\">\n",
       "  <thead>\n",
       "    <tr style=\"text-align: right;\">\n",
       "      <th></th>\n",
       "      <th>member</th>\n",
       "      <th>member_count</th>\n",
       "      <th>member_percent</th>\n",
       "      <th>lemma</th>\n",
       "    </tr>\n",
       "  </thead>\n",
       "  <tbody>\n",
       "    <tr>\n",
       "      <th>0</th>\n",
       "      <td>Suffix</td>\n",
       "      <td>137</td>\n",
       "      <td>28.5</td>\n",
       "      <td>[-en, -in, -ab, -aceae, -ade, -affin, -age, -al, -ales, -an, -ar, -arisch, -arm, -at, -ation, -au, -bar, -basiert, -blütig, -brüstig]</td>\n",
       "    </tr>\n",
       "    <tr>\n",
       "      <th>1</th>\n",
       "      <td>Gebundenes_Lexem</td>\n",
       "      <td>102</td>\n",
       "      <td>21.2</td>\n",
       "      <td>[-gon, -and, -arch, -archie, -arium, -artig, -artige, -ase, -bedürftig, -biont, -bräu, -cele, -chinesisch, -chorie, -coel, -cöl, -derm, -dermie, -drom, -echt]</td>\n",
       "    </tr>\n",
       "    <tr>\n",
       "      <th>2</th>\n",
       "      <td>Ortsnamengrundwort</td>\n",
       "      <td>94</td>\n",
       "      <td>19.6</td>\n",
       "      <td>[-a, -ach, -au, -aue, -bach, -beck, -bek, -berg, -borg, -born, -broich, -brunn, -brunnen, -brück, -brücke, -brügge, -burg, -busch, -by, -dal]</td>\n",
       "    </tr>\n",
       "    <tr>\n",
       "      <th>3</th>\n",
       "      <td>Deklinierte_Form</td>\n",
       "      <td>77</td>\n",
       "      <td>16.0</td>\n",
       "      <td>[-abel, -ibel, -jährig, -sal, -ant, -ier, -ling, -tum, -er, -meter, -algie, -anz, -chen, -elchen, -enz, -erchen, -ette, -gate, -heit, -in]</td>\n",
       "    </tr>\n",
       "    <tr>\n",
       "      <th>4</th>\n",
       "      <td>Substantiv  Suffix</td>\n",
       "      <td>23</td>\n",
       "      <td>4.8</td>\n",
       "      <td>[-ier, -ant, -anz, -chen, -elchen, -enz, -er, -erchen, -ette, -heit, -in, -ismus, -keit, -kunde, -le, -lein, -ling, -sal, -schaft, -stan]</td>\n",
       "    </tr>\n",
       "    <tr>\n",
       "      <th>5</th>\n",
       "      <td>Substantiv Gebundenes_Lexem</td>\n",
       "      <td>13</td>\n",
       "      <td>2.7</td>\n",
       "      <td>[-meter, -algie, -loge, -logie, -manie, -mantie, -phagie, -philie, -phobie, -schrecke, -skopie, -urie]</td>\n",
       "    </tr>\n",
       "    <tr>\n",
       "      <th>6</th>\n",
       "      <td>Suffixoid</td>\n",
       "      <td>7</td>\n",
       "      <td>1.5</td>\n",
       "      <td>[-fritze, -hai, -heini, -mäßig, -schwanger, -tiger, -trächtig]</td>\n",
       "    </tr>\n",
       "    <tr>\n",
       "      <th>7</th>\n",
       "      <td>Superlativ Adjektiv</td>\n",
       "      <td>6</td>\n",
       "      <td>1.2</td>\n",
       "      <td>[-abel, -ant, -ell, -fähig, -ibel, -lastig]</td>\n",
       "    </tr>\n",
       "    <tr>\n",
       "      <th>8</th>\n",
       "      <td>Komparativ Adjektiv</td>\n",
       "      <td>6</td>\n",
       "      <td>1.2</td>\n",
       "      <td>[-abel, -ant, -ell, -fähig, -ibel, -lastig]</td>\n",
       "    </tr>\n",
       "    <tr>\n",
       "      <th>9</th>\n",
       "      <td>Verb  Suffix</td>\n",
       "      <td>5</td>\n",
       "      <td>1.0</td>\n",
       "      <td>[-el, -fizier, -ier, -ig, -zen]</td>\n",
       "    </tr>\n",
       "    <tr>\n",
       "      <th>10</th>\n",
       "      <td></td>\n",
       "      <td>4</td>\n",
       "      <td>0.8</td>\n",
       "      <td>[-e, -es, -n, -ns]</td>\n",
       "    </tr>\n",
       "    <tr>\n",
       "      <th>11</th>\n",
       "      <td>Adjektiv  Suffix</td>\n",
       "      <td>2</td>\n",
       "      <td>0.4</td>\n",
       "      <td>[-abel, -ibel]</td>\n",
       "    </tr>\n",
       "    <tr>\n",
       "      <th>12</th>\n",
       "      <td>Pronomen Personalpronomen</td>\n",
       "      <td>2</td>\n",
       "      <td>0.4</td>\n",
       "      <td>[-e, -se]</td>\n",
       "    </tr>\n",
       "    <tr>\n",
       "      <th>13</th>\n",
       "      <td>Adjektiv Gebundenes_Lexem</td>\n",
       "      <td>1</td>\n",
       "      <td>0.2</td>\n",
       "      <td>-jährig</td>\n",
       "    </tr>\n",
       "    <tr>\n",
       "      <th>14</th>\n",
       "      <td>Interfix</td>\n",
       "      <td>1</td>\n",
       "      <td>0.2</td>\n",
       "      <td>-s</td>\n",
       "    </tr>\n",
       "  </tbody>\n",
       "</table>\n",
       "</div>"
      ],
      "text/plain": [
       "                         member  member_count  member_percent  \\\n",
       "0                        Suffix           137            28.5   \n",
       "1              Gebundenes_Lexem           102            21.2   \n",
       "2            Ortsnamengrundwort            94            19.6   \n",
       "3              Deklinierte_Form            77            16.0   \n",
       "4            Substantiv  Suffix            23             4.8   \n",
       "5   Substantiv Gebundenes_Lexem            13             2.7   \n",
       "6                     Suffixoid             7             1.5   \n",
       "7           Superlativ Adjektiv             6             1.2   \n",
       "8           Komparativ Adjektiv             6             1.2   \n",
       "9                  Verb  Suffix             5             1.0   \n",
       "10                                          4             0.8   \n",
       "11             Adjektiv  Suffix             2             0.4   \n",
       "12    Pronomen Personalpronomen             2             0.4   \n",
       "13    Adjektiv Gebundenes_Lexem             1             0.2   \n",
       "14                     Interfix             1             0.2   \n",
       "\n",
       "                                                                                                                                                             lemma  \n",
       "0                            [-en, -in, -ab, -aceae, -ade, -affin, -age, -al, -ales, -an, -ar, -arisch, -arm, -at, -ation, -au, -bar, -basiert, -blütig, -brüstig]  \n",
       "1   [-gon, -and, -arch, -archie, -arium, -artig, -artige, -ase, -bedürftig, -biont, -bräu, -cele, -chinesisch, -chorie, -coel, -cöl, -derm, -dermie, -drom, -echt]  \n",
       "2                    [-a, -ach, -au, -aue, -bach, -beck, -bek, -berg, -borg, -born, -broich, -brunn, -brunnen, -brück, -brücke, -brügge, -burg, -busch, -by, -dal]  \n",
       "3                       [-abel, -ibel, -jährig, -sal, -ant, -ier, -ling, -tum, -er, -meter, -algie, -anz, -chen, -elchen, -enz, -erchen, -ette, -gate, -heit, -in]  \n",
       "4                        [-ier, -ant, -anz, -chen, -elchen, -enz, -er, -erchen, -ette, -heit, -in, -ismus, -keit, -kunde, -le, -lein, -ling, -sal, -schaft, -stan]  \n",
       "5                                                           [-meter, -algie, -loge, -logie, -manie, -mantie, -phagie, -philie, -phobie, -schrecke, -skopie, -urie]  \n",
       "6                                                                                                   [-fritze, -hai, -heini, -mäßig, -schwanger, -tiger, -trächtig]  \n",
       "7                                                                                                                      [-abel, -ant, -ell, -fähig, -ibel, -lastig]  \n",
       "8                                                                                                                      [-abel, -ant, -ell, -fähig, -ibel, -lastig]  \n",
       "9                                                                                                                                  [-el, -fizier, -ier, -ig, -zen]  \n",
       "10                                                                                                                                              [-e, -es, -n, -ns]  \n",
       "11                                                                                                                                                  [-abel, -ibel]  \n",
       "12                                                                                                                                                       [-e, -se]  \n",
       "13                                                                                                                                                         -jährig  \n",
       "14                                                                                                                                                              -s  "
      ]
     },
     "execution_count": 78,
     "metadata": {},
     "output_type": "execute_result"
    }
   ],
   "source": [
    "# Kontrolle und Statistik ZFIX\n",
    "mask_ZFIX = wiktionary.tag.str.contains('ZFIX')\n",
    "a = wiktionary[mask_ZFIX].sort_values(['section_id2'])\n",
    "mask = a.tag != 'ZFIX TRUNC'\n",
    "check_mask(a,0)\n",
    "\n",
    "df = pak.analyse_freqs(a, ['member','lemma'])\n",
    "df = pak.drop_cols(df,'lemma_count')\n",
    "grid(df)"
   ]
  },
  {
   "cell_type": "markdown",
   "metadata": {},
   "source": [
    "### Sonstige"
   ]
  },
  {
   "cell_type": "code",
   "execution_count": 79,
   "metadata": {
    "execution": {
     "iopub.execute_input": "2023-02-20T13:00:10.854324Z",
     "iopub.status.busy": "2023-02-20T13:00:10.853993Z",
     "iopub.status.idle": "2023-02-20T13:00:12.354495Z",
     "shell.execute_reply": "2023-02-20T13:00:12.353775Z",
     "shell.execute_reply.started": "2023-02-20T13:00:10.854295Z"
    }
   },
   "outputs": [
    {
     "name": "stdout",
     "output_type": "stream",
     "text": [
      "check_mask:  4 rows\n",
      "Move 4 rows from 837254\n",
      "4 rows out of 4495\n"
     ]
    },
    {
     "data": {
      "text/html": [
       "<div>\n",
       "<style scoped>\n",
       "    .dataframe tbody tr th:only-of-type {\n",
       "        vertical-align: middle;\n",
       "    }\n",
       "\n",
       "    .dataframe tbody tr th {\n",
       "        vertical-align: top;\n",
       "    }\n",
       "\n",
       "    .dataframe thead th {\n",
       "        text-align: right;\n",
       "    }\n",
       "</style>\n",
       "<table border=\"1\" class=\"dataframe\">\n",
       "  <thead>\n",
       "    <tr style=\"text-align: right;\">\n",
       "      <th></th>\n",
       "      <th>page_id</th>\n",
       "      <th>page_part</th>\n",
       "      <th>section_id2</th>\n",
       "      <th>title</th>\n",
       "      <th>lemma</th>\n",
       "      <th>inflected</th>\n",
       "      <th>pos</th>\n",
       "      <th>rhymes</th>\n",
       "      <th>section_len</th>\n",
       "      <th>flexion</th>\n",
       "      <th>ipa</th>\n",
       "      <th>syllables</th>\n",
       "      <th>lang</th>\n",
       "      <th>lang_code</th>\n",
       "      <th>msg</th>\n",
       "      <th>score</th>\n",
       "      <th>error</th>\n",
       "      <th>lemma_lower</th>\n",
       "      <th>tag</th>\n",
       "      <th>member</th>\n",
       "    </tr>\n",
       "  </thead>\n",
       "  <tbody>\n",
       "    <tr>\n",
       "      <th>44323</th>\n",
       "      <td>116824</td>\n",
       "      <td>0</td>\n",
       "      <td>-acid-</td>\n",
       "      <td>-acid-</td>\n",
       "      <td>-acid-</td>\n",
       "      <td>False</td>\n",
       "      <td>{'Gebundenes Lexem': []}</td>\n",
       "      <td>NaN</td>\n",
       "      <td>&lt;NA&gt;</td>\n",
       "      <td>{}</td>\n",
       "      <td>[at͡siːt]</td>\n",
       "      <td>[acid]</td>\n",
       "      <td>Deutsch</td>\n",
       "      <td>de</td>\n",
       "      <td>MFIX</td>\n",
       "      <td>2.189550</td>\n",
       "      <td></td>\n",
       "      <td>-acid-</td>\n",
       "      <td>TRUNC</td>\n",
       "      <td>Gebundenes_Lexem</td>\n",
       "    </tr>\n",
       "    <tr>\n",
       "      <th>44332</th>\n",
       "      <td>116859</td>\n",
       "      <td>0</td>\n",
       "      <td>-azid-</td>\n",
       "      <td>-azid-</td>\n",
       "      <td>-azid-</td>\n",
       "      <td>False</td>\n",
       "      <td>{'Gebundenes Lexem': []}</td>\n",
       "      <td>NaN</td>\n",
       "      <td>&lt;NA&gt;</td>\n",
       "      <td>{}</td>\n",
       "      <td>[at͡siːt]</td>\n",
       "      <td>[azid]</td>\n",
       "      <td>Deutsch</td>\n",
       "      <td>de</td>\n",
       "      <td>MFIX</td>\n",
       "      <td>2.543135</td>\n",
       "      <td></td>\n",
       "      <td>-azid-</td>\n",
       "      <td>TRUNC</td>\n",
       "      <td>Gebundenes_Lexem</td>\n",
       "    </tr>\n",
       "    <tr>\n",
       "      <th>369954</th>\n",
       "      <td>556685</td>\n",
       "      <td>0</td>\n",
       "      <td>-o-</td>\n",
       "      <td>-o-</td>\n",
       "      <td>-o-</td>\n",
       "      <td>False</td>\n",
       "      <td>{'Affix': ['Interfix']}</td>\n",
       "      <td>NaN</td>\n",
       "      <td>&lt;NA&gt;</td>\n",
       "      <td>{}</td>\n",
       "      <td>[o]</td>\n",
       "      <td>[o]</td>\n",
       "      <td>Deutsch</td>\n",
       "      <td>de</td>\n",
       "      <td>MFIX</td>\n",
       "      <td>4.755772</td>\n",
       "      <td></td>\n",
       "      <td>-o-</td>\n",
       "      <td>TRUNC</td>\n",
       "      <td>Affix Interfix</td>\n",
       "    </tr>\n",
       "    <tr>\n",
       "      <th>369955</th>\n",
       "      <td>556686</td>\n",
       "      <td>0</td>\n",
       "      <td>-i-</td>\n",
       "      <td>-i-</td>\n",
       "      <td>-i-</td>\n",
       "      <td>False</td>\n",
       "      <td>{'Affix': ['Interfix']}</td>\n",
       "      <td>NaN</td>\n",
       "      <td>&lt;NA&gt;</td>\n",
       "      <td>{}</td>\n",
       "      <td>[iː]</td>\n",
       "      <td>[i]</td>\n",
       "      <td>Deutsch</td>\n",
       "      <td>de</td>\n",
       "      <td>MFIX</td>\n",
       "      <td>4.511543</td>\n",
       "      <td></td>\n",
       "      <td>-i-</td>\n",
       "      <td>TRUNC</td>\n",
       "      <td>Affix Interfix</td>\n",
       "    </tr>\n",
       "  </tbody>\n",
       "</table>\n",
       "</div>"
      ],
      "text/plain": [
       "        page_id  page_part section_id2   title   lemma  inflected  \\\n",
       "44323    116824          0      -acid-  -acid-  -acid-      False   \n",
       "44332    116859          0      -azid-  -azid-  -azid-      False   \n",
       "369954   556685          0         -o-     -o-     -o-      False   \n",
       "369955   556686          0         -i-     -i-     -i-      False   \n",
       "\n",
       "                             pos rhymes  section_len flexion        ipa  \\\n",
       "44323   {'Gebundenes Lexem': []}    NaN         <NA>      {}  [at͡siːt]   \n",
       "44332   {'Gebundenes Lexem': []}    NaN         <NA>      {}  [at͡siːt]   \n",
       "369954   {'Affix': ['Interfix']}    NaN         <NA>      {}        [o]   \n",
       "369955   {'Affix': ['Interfix']}    NaN         <NA>      {}       [iː]   \n",
       "\n",
       "       syllables     lang lang_code   msg     score error lemma_lower    tag  \\\n",
       "44323     [acid]  Deutsch        de  MFIX  2.189550            -acid-  TRUNC   \n",
       "44332     [azid]  Deutsch        de  MFIX  2.543135            -azid-  TRUNC   \n",
       "369954       [o]  Deutsch        de  MFIX  4.755772               -o-  TRUNC   \n",
       "369955       [i]  Deutsch        de  MFIX  4.511543               -i-  TRUNC   \n",
       "\n",
       "                  member  \n",
       "44323   Gebundenes_Lexem  \n",
       "44332   Gebundenes_Lexem  \n",
       "369954    Affix Interfix  \n",
       "369955    Affix Interfix  "
      ]
     },
     "execution_count": 79,
     "metadata": {},
     "output_type": "execute_result"
    }
   ],
   "source": [
    "# MFIX >> löschen\n",
    "mask0 =  wiktionary.lemma.str.startswith('-')\n",
    "mask1 =  wiktionary.lemma.str.endswith('-') \n",
    "mask2 =  wiktionary.lemma.str.len() > 2\n",
    "mask3 = ~wiktionary.tag.str.contains(' ')   \n",
    "mask = mask0  &  mask1  &  mask2  &  mask3\n",
    "check_mask(wiktionary, mask, 4)\n",
    "\n",
    "msg = 'MFIX'\n",
    "wiktionary, wiktionary_trash = pak.move_rows(df_from=wiktionary, df_to=wiktionary_trash, mask=mask, msg=msg) \n",
    "grid(wiktionary_trash, msg)"
   ]
  },
  {
   "cell_type": "code",
   "execution_count": 80,
   "metadata": {
    "execution": {
     "iopub.execute_input": "2023-02-20T13:00:12.358317Z",
     "iopub.status.busy": "2023-02-20T13:00:12.357940Z",
     "iopub.status.idle": "2023-02-20T13:00:13.848749Z",
     "shell.execute_reply": "2023-02-20T13:00:13.846603Z",
     "shell.execute_reply.started": "2023-02-20T13:00:12.358293Z"
    },
    "tags": []
   },
   "outputs": [
    {
     "name": "stdout",
     "output_type": "stream",
     "text": [
      "check_mask:  10 rows\n",
      "Move 10 rows from 837250\n",
      "10 rows out of 4505\n"
     ]
    },
    {
     "data": {
      "text/html": [
       "<div>\n",
       "<style scoped>\n",
       "    .dataframe tbody tr th:only-of-type {\n",
       "        vertical-align: middle;\n",
       "    }\n",
       "\n",
       "    .dataframe tbody tr th {\n",
       "        vertical-align: top;\n",
       "    }\n",
       "\n",
       "    .dataframe thead th {\n",
       "        text-align: right;\n",
       "    }\n",
       "</style>\n",
       "<table border=\"1\" class=\"dataframe\">\n",
       "  <thead>\n",
       "    <tr style=\"text-align: right;\">\n",
       "      <th></th>\n",
       "      <th>page_id</th>\n",
       "      <th>page_part</th>\n",
       "      <th>section_id2</th>\n",
       "      <th>title</th>\n",
       "      <th>lemma</th>\n",
       "      <th>inflected</th>\n",
       "      <th>pos</th>\n",
       "      <th>rhymes</th>\n",
       "      <th>section_len</th>\n",
       "      <th>flexion</th>\n",
       "      <th>ipa</th>\n",
       "      <th>syllables</th>\n",
       "      <th>lang</th>\n",
       "      <th>lang_code</th>\n",
       "      <th>msg</th>\n",
       "      <th>score</th>\n",
       "      <th>error</th>\n",
       "      <th>lemma_lower</th>\n",
       "      <th>tag</th>\n",
       "      <th>member</th>\n",
       "    </tr>\n",
       "  </thead>\n",
       "  <tbody>\n",
       "    <tr>\n",
       "      <th>9582</th>\n",
       "      <td>16406</td>\n",
       "      <td>0</td>\n",
       "      <td>a-</td>\n",
       "      <td>a-</td>\n",
       "      <td>a-</td>\n",
       "      <td>False</td>\n",
       "      <td>{'Affix': ['Präfix']}</td>\n",
       "      <td>NaN</td>\n",
       "      <td>&lt;NA&gt;</td>\n",
       "      <td>{}</td>\n",
       "      <td>[a(ː)]</td>\n",
       "      <td>[a]</td>\n",
       "      <td>Deutsch</td>\n",
       "      <td>de</td>\n",
       "      <td>FIX_ZU_KURZ</td>\n",
       "      <td>8.007290</td>\n",
       "      <td></td>\n",
       "      <td>a-</td>\n",
       "      <td>AFIX TRUNC</td>\n",
       "      <td>Präfix</td>\n",
       "    </tr>\n",
       "    <tr>\n",
       "      <th>9583</th>\n",
       "      <td>16406</td>\n",
       "      <td>1</td>\n",
       "      <td>a-_1</td>\n",
       "      <td>a-</td>\n",
       "      <td>a-</td>\n",
       "      <td>False</td>\n",
       "      <td>{'Affix': ['Präfix']}</td>\n",
       "      <td>NaN</td>\n",
       "      <td>&lt;NA&gt;</td>\n",
       "      <td>{}</td>\n",
       "      <td>NaN</td>\n",
       "      <td>NaN</td>\n",
       "      <td>Deutsch</td>\n",
       "      <td>de</td>\n",
       "      <td>FIX_ZU_KURZ</td>\n",
       "      <td>2.641555</td>\n",
       "      <td></td>\n",
       "      <td>a-</td>\n",
       "      <td>AFIX TRUNC</td>\n",
       "      <td>Präfix</td>\n",
       "    </tr>\n",
       "    <tr>\n",
       "      <th>25834</th>\n",
       "      <td>68299</td>\n",
       "      <td>0</td>\n",
       "      <td>-a</td>\n",
       "      <td>-a</td>\n",
       "      <td>-a</td>\n",
       "      <td>False</td>\n",
       "      <td>{'Ortsnamengrundwort': []}</td>\n",
       "      <td>NaN</td>\n",
       "      <td>&lt;NA&gt;</td>\n",
       "      <td>{}</td>\n",
       "      <td>[-a]</td>\n",
       "      <td>[a]</td>\n",
       "      <td>Deutsch</td>\n",
       "      <td>de</td>\n",
       "      <td>FIX_ZU_KURZ</td>\n",
       "      <td>5.641555</td>\n",
       "      <td></td>\n",
       "      <td>-a</td>\n",
       "      <td>ZFIX NE</td>\n",
       "      <td>Ortsnamengrundwort</td>\n",
       "    </tr>\n",
       "    <tr>\n",
       "      <th>27408</th>\n",
       "      <td>71752</td>\n",
       "      <td>0</td>\n",
       "      <td>e-</td>\n",
       "      <td>e-</td>\n",
       "      <td>e-</td>\n",
       "      <td>False</td>\n",
       "      <td>{'Affix': ['Präfix']}</td>\n",
       "      <td>NaN</td>\n",
       "      <td>&lt;NA&gt;</td>\n",
       "      <td>{}</td>\n",
       "      <td>[e]</td>\n",
       "      <td>[e]</td>\n",
       "      <td>Deutsch</td>\n",
       "      <td>de</td>\n",
       "      <td>FIX_ZU_KURZ</td>\n",
       "      <td>3.931956</td>\n",
       "      <td></td>\n",
       "      <td>e-</td>\n",
       "      <td>AFIX TRUNC</td>\n",
       "      <td>Präfix</td>\n",
       "    </tr>\n",
       "    <tr>\n",
       "      <th>35053</th>\n",
       "      <td>98034</td>\n",
       "      <td>0</td>\n",
       "      <td>-s</td>\n",
       "      <td>-s</td>\n",
       "      <td>-s</td>\n",
       "      <td>False</td>\n",
       "      <td>{'Affix': ['Suffix']}</td>\n",
       "      <td>NaN</td>\n",
       "      <td>&lt;NA&gt;</td>\n",
       "      <td>{}</td>\n",
       "      <td>[s]</td>\n",
       "      <td>[s]</td>\n",
       "      <td>Deutsch</td>\n",
       "      <td>de</td>\n",
       "      <td>FIX_ZU_KURZ</td>\n",
       "      <td>2.947752</td>\n",
       "      <td></td>\n",
       "      <td>-s</td>\n",
       "      <td>ZFIX TRUNC</td>\n",
       "      <td>Suffix</td>\n",
       "    </tr>\n",
       "    <tr>\n",
       "      <th>35054</th>\n",
       "      <td>98034</td>\n",
       "      <td>1</td>\n",
       "      <td>-s_1</td>\n",
       "      <td>-s</td>\n",
       "      <td>-s</td>\n",
       "      <td>False</td>\n",
       "      <td>{'Affix': ['Interfix']}</td>\n",
       "      <td>NaN</td>\n",
       "      <td>&lt;NA&gt;</td>\n",
       "      <td>{}</td>\n",
       "      <td>[s]</td>\n",
       "      <td>[s]</td>\n",
       "      <td>Deutsch</td>\n",
       "      <td>de</td>\n",
       "      <td>FIX_ZU_KURZ</td>\n",
       "      <td>1.290401</td>\n",
       "      <td></td>\n",
       "      <td>-s</td>\n",
       "      <td>ZFIX TRUNC</td>\n",
       "      <td>Interfix</td>\n",
       "    </tr>\n",
       "    <tr>\n",
       "      <th>39772</th>\n",
       "      <td>108322</td>\n",
       "      <td>0</td>\n",
       "      <td>-n</td>\n",
       "      <td>-n</td>\n",
       "      <td>-n</td>\n",
       "      <td>False</td>\n",
       "      <td>{'Affix': []}</td>\n",
       "      <td>NaN</td>\n",
       "      <td>&lt;NA&gt;</td>\n",
       "      <td>{}</td>\n",
       "      <td>[n]</td>\n",
       "      <td>[n]</td>\n",
       "      <td>Deutsch</td>\n",
       "      <td>de</td>\n",
       "      <td>FIX_ZU_KURZ</td>\n",
       "      <td>4.657351</td>\n",
       "      <td></td>\n",
       "      <td>-n</td>\n",
       "      <td>ZFIX TRUNC</td>\n",
       "      <td></td>\n",
       "    </tr>\n",
       "    <tr>\n",
       "      <th>39780</th>\n",
       "      <td>108330</td>\n",
       "      <td>0</td>\n",
       "      <td>-e</td>\n",
       "      <td>-e</td>\n",
       "      <td>-e</td>\n",
       "      <td>False</td>\n",
       "      <td>{'Affix': []}</td>\n",
       "      <td>NaN</td>\n",
       "      <td>&lt;NA&gt;</td>\n",
       "      <td>{}</td>\n",
       "      <td>[ə]</td>\n",
       "      <td>[e]</td>\n",
       "      <td>Deutsch</td>\n",
       "      <td>de</td>\n",
       "      <td>FIX_ZU_KURZ</td>\n",
       "      <td>3.808019</td>\n",
       "      <td></td>\n",
       "      <td>-e</td>\n",
       "      <td>ZFIX TRUNC</td>\n",
       "      <td></td>\n",
       "    </tr>\n",
       "    <tr>\n",
       "      <th>39781</th>\n",
       "      <td>108330</td>\n",
       "      <td>1</td>\n",
       "      <td>-e_1</td>\n",
       "      <td>-e</td>\n",
       "      <td>-e</td>\n",
       "      <td>False</td>\n",
       "      <td>{'Pronomen': ['Personalpronomen']}</td>\n",
       "      <td>NaN</td>\n",
       "      <td>&lt;NA&gt;</td>\n",
       "      <td>{}</td>\n",
       "      <td>[ə]</td>\n",
       "      <td>[e]</td>\n",
       "      <td>Deutsch</td>\n",
       "      <td>de</td>\n",
       "      <td>FIX_ZU_KURZ</td>\n",
       "      <td>1.010936</td>\n",
       "      <td></td>\n",
       "      <td>-e</td>\n",
       "      <td>ZFIX PPER</td>\n",
       "      <td>Pronomen Personalpronomen</td>\n",
       "    </tr>\n",
       "    <tr>\n",
       "      <th>734488</th>\n",
       "      <td>1003815</td>\n",
       "      <td>0</td>\n",
       "      <td>-i</td>\n",
       "      <td>-i</td>\n",
       "      <td>-i</td>\n",
       "      <td>False</td>\n",
       "      <td>{'Affix': ['Suffix']}</td>\n",
       "      <td>NaN</td>\n",
       "      <td>&lt;NA&gt;</td>\n",
       "      <td>{}</td>\n",
       "      <td>[i]</td>\n",
       "      <td>[i]</td>\n",
       "      <td>Deutsch</td>\n",
       "      <td>de</td>\n",
       "      <td>FIX_ZU_KURZ</td>\n",
       "      <td>6.636695</td>\n",
       "      <td></td>\n",
       "      <td>-i</td>\n",
       "      <td>ZFIX TRUNC</td>\n",
       "      <td>Suffix</td>\n",
       "    </tr>\n",
       "  </tbody>\n",
       "</table>\n",
       "</div>"
      ],
      "text/plain": [
       "        page_id  page_part section_id2 title lemma  inflected  \\\n",
       "9582      16406          0          a-    a-    a-      False   \n",
       "9583      16406          1        a-_1    a-    a-      False   \n",
       "25834     68299          0          -a    -a    -a      False   \n",
       "27408     71752          0          e-    e-    e-      False   \n",
       "35053     98034          0          -s    -s    -s      False   \n",
       "35054     98034          1        -s_1    -s    -s      False   \n",
       "39772    108322          0          -n    -n    -n      False   \n",
       "39780    108330          0          -e    -e    -e      False   \n",
       "39781    108330          1        -e_1    -e    -e      False   \n",
       "734488  1003815          0          -i    -i    -i      False   \n",
       "\n",
       "                                       pos rhymes  section_len flexion  \\\n",
       "9582                 {'Affix': ['Präfix']}    NaN         <NA>      {}   \n",
       "9583                 {'Affix': ['Präfix']}    NaN         <NA>      {}   \n",
       "25834           {'Ortsnamengrundwort': []}    NaN         <NA>      {}   \n",
       "27408                {'Affix': ['Präfix']}    NaN         <NA>      {}   \n",
       "35053                {'Affix': ['Suffix']}    NaN         <NA>      {}   \n",
       "35054              {'Affix': ['Interfix']}    NaN         <NA>      {}   \n",
       "39772                        {'Affix': []}    NaN         <NA>      {}   \n",
       "39780                        {'Affix': []}    NaN         <NA>      {}   \n",
       "39781   {'Pronomen': ['Personalpronomen']}    NaN         <NA>      {}   \n",
       "734488               {'Affix': ['Suffix']}    NaN         <NA>      {}   \n",
       "\n",
       "           ipa syllables     lang lang_code          msg     score error  \\\n",
       "9582    [a(ː)]       [a]  Deutsch        de  FIX_ZU_KURZ  8.007290         \n",
       "9583       NaN       NaN  Deutsch        de  FIX_ZU_KURZ  2.641555         \n",
       "25834     [-a]       [a]  Deutsch        de  FIX_ZU_KURZ  5.641555         \n",
       "27408      [e]       [e]  Deutsch        de  FIX_ZU_KURZ  3.931956         \n",
       "35053      [s]       [s]  Deutsch        de  FIX_ZU_KURZ  2.947752         \n",
       "35054      [s]       [s]  Deutsch        de  FIX_ZU_KURZ  1.290401         \n",
       "39772      [n]       [n]  Deutsch        de  FIX_ZU_KURZ  4.657351         \n",
       "39780      [ə]       [e]  Deutsch        de  FIX_ZU_KURZ  3.808019         \n",
       "39781      [ə]       [e]  Deutsch        de  FIX_ZU_KURZ  1.010936         \n",
       "734488     [i]       [i]  Deutsch        de  FIX_ZU_KURZ  6.636695         \n",
       "\n",
       "       lemma_lower         tag                     member  \n",
       "9582            a-  AFIX TRUNC                     Präfix  \n",
       "9583            a-  AFIX TRUNC                     Präfix  \n",
       "25834           -a     ZFIX NE         Ortsnamengrundwort  \n",
       "27408           e-  AFIX TRUNC                     Präfix  \n",
       "35053           -s  ZFIX TRUNC                     Suffix  \n",
       "35054           -s  ZFIX TRUNC                   Interfix  \n",
       "39772           -n  ZFIX TRUNC                             \n",
       "39780           -e  ZFIX TRUNC                             \n",
       "39781           -e   ZFIX PPER  Pronomen Personalpronomen  \n",
       "734488          -i  ZFIX TRUNC                     Suffix  "
      ]
     },
     "execution_count": 80,
     "metadata": {},
     "output_type": "execute_result"
    }
   ],
   "source": [
    "# FIX_ZU_KURZ >> löschen\n",
    "mask1A = wiktionary.tag.str.contains('AFIX')\n",
    "mask1B = wiktionary.tag.str.contains('ZFIX')\n",
    "mask2  = wiktionary.lemma.str.len() <= 2\n",
    "mask = (mask1A | mask1B)  &  mask2\n",
    "check_mask(wiktionary, mask, 9)\n",
    "\n",
    "msg = 'FIX_ZU_KURZ'\n",
    "wiktionary, wiktionary_trash = pak.move_rows(df_from=wiktionary, df_to=wiktionary_trash, mask=mask, msg=msg) \n",
    "grid(wiktionary_trash, msg)"
   ]
  },
  {
   "cell_type": "code",
   "execution_count": 81,
   "metadata": {
    "execution": {
     "iopub.execute_input": "2023-02-20T13:00:13.850138Z",
     "iopub.status.busy": "2023-02-20T13:00:13.849832Z",
     "iopub.status.idle": "2023-02-20T13:00:14.979138Z",
     "shell.execute_reply": "2023-02-20T13:00:14.978344Z",
     "shell.execute_reply.started": "2023-02-20T13:00:13.850113Z"
    },
    "tags": []
   },
   "outputs": [
    {
     "name": "stdout",
     "output_type": "stream",
     "text": [
      "check_mask:  3 rows\n",
      "Move 3 rows from 837240\n",
      "3 rows out of 4508\n"
     ]
    },
    {
     "data": {
      "text/html": [
       "<div>\n",
       "<style scoped>\n",
       "    .dataframe tbody tr th:only-of-type {\n",
       "        vertical-align: middle;\n",
       "    }\n",
       "\n",
       "    .dataframe tbody tr th {\n",
       "        vertical-align: top;\n",
       "    }\n",
       "\n",
       "    .dataframe thead th {\n",
       "        text-align: right;\n",
       "    }\n",
       "</style>\n",
       "<table border=\"1\" class=\"dataframe\">\n",
       "  <thead>\n",
       "    <tr style=\"text-align: right;\">\n",
       "      <th></th>\n",
       "      <th>page_id</th>\n",
       "      <th>page_part</th>\n",
       "      <th>section_id2</th>\n",
       "      <th>title</th>\n",
       "      <th>lemma</th>\n",
       "      <th>inflected</th>\n",
       "      <th>pos</th>\n",
       "      <th>rhymes</th>\n",
       "      <th>section_len</th>\n",
       "      <th>flexion</th>\n",
       "      <th>ipa</th>\n",
       "      <th>syllables</th>\n",
       "      <th>lang</th>\n",
       "      <th>lang_code</th>\n",
       "      <th>msg</th>\n",
       "      <th>score</th>\n",
       "      <th>error</th>\n",
       "      <th>lemma_lower</th>\n",
       "      <th>tag</th>\n",
       "      <th>member</th>\n",
       "    </tr>\n",
       "  </thead>\n",
       "  <tbody>\n",
       "    <tr>\n",
       "      <th>788475</th>\n",
       "      <td>1059723</td>\n",
       "      <td>0</td>\n",
       "      <td>Ge-…-e</td>\n",
       "      <td>Ge-…-e</td>\n",
       "      <td>Ge-…-e</td>\n",
       "      <td>False</td>\n",
       "      <td>{'Affix': ['Zirkumfix']}</td>\n",
       "      <td>NaN</td>\n",
       "      <td>&lt;NA&gt;</td>\n",
       "      <td>{}</td>\n",
       "      <td>[ɡəˈə]</td>\n",
       "      <td>NaN</td>\n",
       "      <td>Deutsch</td>\n",
       "      <td>de</td>\n",
       "      <td>Zirkumfix</td>\n",
       "      <td>3.253949</td>\n",
       "      <td></td>\n",
       "      <td>ge-…-e</td>\n",
       "      <td>TRUNC</td>\n",
       "      <td>Affix Zirkumfix</td>\n",
       "    </tr>\n",
       "    <tr>\n",
       "      <th>828474</th>\n",
       "      <td>1105850</td>\n",
       "      <td>0</td>\n",
       "      <td>be-…-t</td>\n",
       "      <td>be-…-t</td>\n",
       "      <td>be-…-t</td>\n",
       "      <td>False</td>\n",
       "      <td>{'Affix': ['Zirkumfix']}</td>\n",
       "      <td>NaN</td>\n",
       "      <td>&lt;NA&gt;</td>\n",
       "      <td>{}</td>\n",
       "      <td>[bəˈt]</td>\n",
       "      <td>NaN</td>\n",
       "      <td>Deutsch</td>\n",
       "      <td>de</td>\n",
       "      <td>Zirkumfix</td>\n",
       "      <td>4.486027</td>\n",
       "      <td></td>\n",
       "      <td>be-…-t</td>\n",
       "      <td>TRUNC</td>\n",
       "      <td>Affix Zirkumfix</td>\n",
       "    </tr>\n",
       "    <tr>\n",
       "      <th>828507</th>\n",
       "      <td>1105899</td>\n",
       "      <td>0</td>\n",
       "      <td>zer-…-t</td>\n",
       "      <td>zer-…-t</td>\n",
       "      <td>zer-…-t</td>\n",
       "      <td>False</td>\n",
       "      <td>{'Affix': ['Zirkumfix']}</td>\n",
       "      <td>NaN</td>\n",
       "      <td>&lt;NA&gt;</td>\n",
       "      <td>{}</td>\n",
       "      <td>[t͡sɛɐ̯ˈt]</td>\n",
       "      <td>NaN</td>\n",
       "      <td>Deutsch</td>\n",
       "      <td>de</td>\n",
       "      <td>Zirkumfix</td>\n",
       "      <td>3.323208</td>\n",
       "      <td></td>\n",
       "      <td>zer-…-t</td>\n",
       "      <td>TRUNC</td>\n",
       "      <td>Affix Zirkumfix</td>\n",
       "    </tr>\n",
       "  </tbody>\n",
       "</table>\n",
       "</div>"
      ],
      "text/plain": [
       "        page_id  page_part section_id2    title    lemma  inflected  \\\n",
       "788475  1059723          0      Ge-…-e   Ge-…-e   Ge-…-e      False   \n",
       "828474  1105850          0      be-…-t   be-…-t   be-…-t      False   \n",
       "828507  1105899          0     zer-…-t  zer-…-t  zer-…-t      False   \n",
       "\n",
       "                             pos rhymes  section_len flexion         ipa  \\\n",
       "788475  {'Affix': ['Zirkumfix']}    NaN         <NA>      {}      [ɡəˈə]   \n",
       "828474  {'Affix': ['Zirkumfix']}    NaN         <NA>      {}      [bəˈt]   \n",
       "828507  {'Affix': ['Zirkumfix']}    NaN         <NA>      {}  [t͡sɛɐ̯ˈt]   \n",
       "\n",
       "       syllables     lang lang_code        msg     score error lemma_lower  \\\n",
       "788475       NaN  Deutsch        de  Zirkumfix  3.253949            ge-…-e   \n",
       "828474       NaN  Deutsch        de  Zirkumfix  4.486027            be-…-t   \n",
       "828507       NaN  Deutsch        de  Zirkumfix  3.323208           zer-…-t   \n",
       "\n",
       "          tag           member  \n",
       "788475  TRUNC  Affix Zirkumfix  \n",
       "828474  TRUNC  Affix Zirkumfix  \n",
       "828507  TRUNC  Affix Zirkumfix  "
      ]
     },
     "execution_count": 81,
     "metadata": {},
     "output_type": "execute_result"
    }
   ],
   "source": [
    "# Zirkumfix >> löschen\n",
    "maskA = wiktionary.lemma.str.contains('-…-')\n",
    "maskB = wiktionary.member.str.contains('Zirkumfix')\n",
    "mask = maskA | maskB\n",
    "check_mask(wiktionary, mask, 3)\n",
    "\n",
    "msg = 'Zirkumfix'\n",
    "wiktionary, wiktionary_trash = pak.move_rows(df_from=wiktionary, df_to=wiktionary_trash, mask=mask, msg=msg) \n",
    "grid(wiktionary_trash, msg)"
   ]
  },
  {
   "cell_type": "code",
   "execution_count": 82,
   "metadata": {
    "execution": {
     "iopub.execute_input": "2023-02-20T13:00:14.982318Z",
     "iopub.status.busy": "2023-02-20T13:00:14.981979Z",
     "iopub.status.idle": "2023-02-20T13:00:15.353733Z",
     "shell.execute_reply": "2023-02-20T13:00:15.352901Z",
     "shell.execute_reply.started": "2023-02-20T13:00:14.982291Z"
    },
    "tags": []
   },
   "outputs": [
    {
     "name": "stdout",
     "output_type": "stream",
     "text": [
      "check_mask:  0 rows\n",
      "\u001b[1m\u001b[7m\u001b[34mNo rows, mask filters them all away\u001b[0m\n"
     ]
    }
   ],
   "source": [
    "# dar ist ein Präfix ohne Bindestrich\n",
    "mask = wiktionary.member.str.contains('Affix')\n",
    "check_mask(wiktionary, mask, 1)\n",
    "\n",
    "wiktionary.loc[mask,'member'] = pak.remove_str(wiktionary[mask].member, ['Affix'])\n",
    "grid(wiktionary, mask)"
   ]
  },
  {
   "cell_type": "code",
   "execution_count": 83,
   "metadata": {
    "execution": {
     "iopub.execute_input": "2023-02-20T13:00:15.355773Z",
     "iopub.status.busy": "2023-02-20T13:00:15.355487Z",
     "iopub.status.idle": "2023-02-20T13:00:15.727468Z",
     "shell.execute_reply": "2023-02-20T13:00:15.724848Z",
     "shell.execute_reply.started": "2023-02-20T13:00:15.355745Z"
    },
    "tags": []
   },
   "outputs": [
    {
     "name": "stdout",
     "output_type": "stream",
     "text": [
      "2 rows\n"
     ]
    },
    {
     "data": {
      "text/html": [
       "<div>\n",
       "<style scoped>\n",
       "    .dataframe tbody tr th:only-of-type {\n",
       "        vertical-align: middle;\n",
       "    }\n",
       "\n",
       "    .dataframe tbody tr th {\n",
       "        vertical-align: top;\n",
       "    }\n",
       "\n",
       "    .dataframe thead th {\n",
       "        text-align: right;\n",
       "    }\n",
       "</style>\n",
       "<table border=\"1\" class=\"dataframe\">\n",
       "  <thead>\n",
       "    <tr style=\"text-align: right;\">\n",
       "      <th></th>\n",
       "      <th>tag</th>\n",
       "      <th>tag_count</th>\n",
       "      <th>tag_percent</th>\n",
       "      <th>member</th>\n",
       "      <th>member_count</th>\n",
       "      <th>lemma</th>\n",
       "      <th>lemma_count</th>\n",
       "    </tr>\n",
       "  </thead>\n",
       "  <tbody>\n",
       "    <tr>\n",
       "      <th>0</th>\n",
       "      <td>AFIX TRUNC</td>\n",
       "      <td>549</td>\n",
       "      <td>65.4</td>\n",
       "      <td>[Gebundenes_Lexem, Präfix, Präfixoid]</td>\n",
       "      <td>[378, 141, 30]</td>\n",
       "      <td>[ab-, an-, über-, tele-, top-, auto-, ambi-, stief-, plagio-, ortho-, ein-, anglo-, hemi-, un-, poly-, erz-, infra-, anti-, hypo-, Ingen-]</td>\n",
       "      <td>[2, 2, 2, 2, 2, 1, 1, 1, 1, 1, 1, 1, 1, 1, 1, 1, 1, 1, 1, 1]</td>\n",
       "    </tr>\n",
       "    <tr>\n",
       "      <th>1</th>\n",
       "      <td>ZFIX TRUNC</td>\n",
       "      <td>290</td>\n",
       "      <td>34.6</td>\n",
       "      <td>[Suffix, Gebundenes_Lexem, Substantiv  Suffix, Substantiv Gebundenes_Lexem, Suffixoid, Verb  Suffix, Adjektiv  Suffix, , Adjektiv Gebundenes_Lexem]</td>\n",
       "      <td>[135, 102, 23, 13, 7, 5, 2, 2, 1]</td>\n",
       "      <td>[-in, -ier, -el, -ig, -meter, -en, -gon, -ow, -zid, -kunde, -fizier, -erl, -stat, -schrecke, -au, -trop, -eck, -egk, -legen, -mar]</td>\n",
       "      <td>[3, 3, 2, 2, 2, 2, 2, 1, 1, 1, 1, 1, 1, 1, 1, 1, 1, 1, 1, 1]</td>\n",
       "    </tr>\n",
       "  </tbody>\n",
       "</table>\n",
       "</div>"
      ],
      "text/plain": [
       "          tag  tag_count  tag_percent  \\\n",
       "0  AFIX TRUNC        549         65.4   \n",
       "1  ZFIX TRUNC        290         34.6   \n",
       "\n",
       "                                                                                                                                                member  \\\n",
       "0                                                                                                                [Gebundenes_Lexem, Präfix, Präfixoid]   \n",
       "1  [Suffix, Gebundenes_Lexem, Substantiv  Suffix, Substantiv Gebundenes_Lexem, Suffixoid, Verb  Suffix, Adjektiv  Suffix, , Adjektiv Gebundenes_Lexem]   \n",
       "\n",
       "                        member_count  \\\n",
       "0                     [378, 141, 30]   \n",
       "1  [135, 102, 23, 13, 7, 5, 2, 2, 1]   \n",
       "\n",
       "                                                                                                                                        lemma  \\\n",
       "0  [ab-, an-, über-, tele-, top-, auto-, ambi-, stief-, plagio-, ortho-, ein-, anglo-, hemi-, un-, poly-, erz-, infra-, anti-, hypo-, Ingen-]   \n",
       "1          [-in, -ier, -el, -ig, -meter, -en, -gon, -ow, -zid, -kunde, -fizier, -erl, -stat, -schrecke, -au, -trop, -eck, -egk, -legen, -mar]   \n",
       "\n",
       "                                                    lemma_count  \n",
       "0  [2, 2, 2, 2, 2, 1, 1, 1, 1, 1, 1, 1, 1, 1, 1, 1, 1, 1, 1, 1]  \n",
       "1  [3, 3, 2, 2, 2, 2, 2, 1, 1, 1, 1, 1, 1, 1, 1, 1, 1, 1, 1, 1]  "
      ]
     },
     "execution_count": 83,
     "metadata": {},
     "output_type": "execute_result"
    }
   ],
   "source": [
    "# Kontrolle und Statistik TRUNC\n",
    "mask = wiktionary.tag.str.contains('TRUNC')\n",
    "a = pak.analyse_freqs(wiktionary[mask], ['tag','member','lemma'])\n",
    "assert a.shape[0] == 2\n",
    "grid(a)"
   ]
  },
  {
   "cell_type": "markdown",
   "metadata": {},
   "source": [
    "## Einzelkorrekturen"
   ]
  },
  {
   "cell_type": "code",
   "execution_count": 84,
   "metadata": {
    "execution": {
     "iopub.execute_input": "2023-02-20T13:00:15.728763Z",
     "iopub.status.busy": "2023-02-20T13:00:15.728500Z",
     "iopub.status.idle": "2023-02-20T13:00:21.602034Z",
     "shell.execute_reply": "2023-02-20T13:00:21.601267Z",
     "shell.execute_reply.started": "2023-02-20T13:00:15.728741Z"
    },
    "tags": []
   },
   "outputs": [
    {
     "name": "stdout",
     "output_type": "stream",
     "text": [
      "66 rows\n"
     ]
    },
    {
     "data": {
      "text/html": [
       "\n",
       "        <iframe\n",
       "            width=\"100%\"\n",
       "            height=\"475\"\n",
       "            src=\"http://pop-os:40000/dtale/iframe/1\"\n",
       "            frameborder=\"0\"\n",
       "            allowfullscreen\n",
       "            \n",
       "        ></iframe>\n",
       "        "
      ],
      "text/plain": [
       "<IPython.lib.display.IFrame at 0x7f4ce2996910>"
      ]
     },
     "metadata": {},
     "output_type": "display_data"
    },
    {
     "data": {
      "text/plain": []
     },
     "execution_count": 84,
     "metadata": {},
     "output_type": "execute_result"
    }
   ],
   "source": [
    "# member Häufigkeitsanalyse\n",
    "a = pak.analyse_freqs(wiktionary,['member','lemma'], splits=[' ',None])\n",
    "a = pak.drop_cols(a,'lemma_count')\n",
    "gridt(a)"
   ]
  },
  {
   "cell_type": "code",
   "execution_count": 85,
   "metadata": {
    "execution": {
     "iopub.execute_input": "2023-02-20T13:00:21.602949Z",
     "iopub.status.busy": "2023-02-20T13:00:21.602718Z",
     "iopub.status.idle": "2023-02-20T13:00:21.652536Z",
     "shell.execute_reply": "2023-02-20T13:00:21.648981Z",
     "shell.execute_reply.started": "2023-02-20T13:00:21.602927Z"
    }
   },
   "outputs": [],
   "source": [
    "# Einzelkorrekturen (das sind section_id2)       \n",
    "einzelkorrekturen = { 'viel'        : 'ADJA PIAT',  # war: ADJA ADV PIAT CARD\n",
    "                      'zig'         : 'ADJA',\n",
    "                      'bis'         : 'KOUS APPR',      \n",
    "                      'derentwegen' : 'PDAT PRELAT',\n",
    "                      'Rheinland'   : 'NE',          # war: NN       \n",
    "}"
   ]
  },
  {
   "cell_type": "code",
   "execution_count": 86,
   "metadata": {
    "execution": {
     "iopub.execute_input": "2023-02-20T13:00:21.654151Z",
     "iopub.status.busy": "2023-02-20T13:00:21.653805Z",
     "iopub.status.idle": "2023-02-20T13:00:21.772878Z",
     "shell.execute_reply": "2023-02-20T13:00:21.771873Z",
     "shell.execute_reply.started": "2023-02-20T13:00:21.654124Z"
    },
    "tags": []
   },
   "outputs": [
    {
     "name": "stdout",
     "output_type": "stream",
     "text": [
      "6 rows\n"
     ]
    },
    {
     "data": {
      "text/html": [
       "<div>\n",
       "<style scoped>\n",
       "    .dataframe tbody tr th:only-of-type {\n",
       "        vertical-align: middle;\n",
       "    }\n",
       "\n",
       "    .dataframe tbody tr th {\n",
       "        vertical-align: top;\n",
       "    }\n",
       "\n",
       "    .dataframe thead th {\n",
       "        text-align: right;\n",
       "    }\n",
       "</style>\n",
       "<table border=\"1\" class=\"dataframe\">\n",
       "  <thead>\n",
       "    <tr style=\"text-align: right;\">\n",
       "      <th></th>\n",
       "      <th>section_id2</th>\n",
       "      <th>title</th>\n",
       "      <th>lemma</th>\n",
       "      <th>tag</th>\n",
       "      <th>member</th>\n",
       "      <th>score</th>\n",
       "    </tr>\n",
       "  </thead>\n",
       "  <tbody>\n",
       "    <tr>\n",
       "      <th>22599</th>\n",
       "      <td>Rheinland</td>\n",
       "      <td>Rheinland</td>\n",
       "      <td>Rheinland</td>\n",
       "      <td>NN</td>\n",
       "      <td>Substantiv</td>\n",
       "      <td>10.821385</td>\n",
       "    </tr>\n",
       "    <tr>\n",
       "      <th>45932</th>\n",
       "      <td>bis</td>\n",
       "      <td>bis</td>\n",
       "      <td>bis</td>\n",
       "      <td>ITJ KON APPR</td>\n",
       "      <td>Partikel Konjunktion Adposition Präposition</td>\n",
       "      <td>24.574727</td>\n",
       "    </tr>\n",
       "    <tr>\n",
       "      <th>45933</th>\n",
       "      <td>bis_1</td>\n",
       "      <td>bis</td>\n",
       "      <td>bis</td>\n",
       "      <td>KOUS</td>\n",
       "      <td>Konjunktion Subjunktion</td>\n",
       "      <td>1.806804</td>\n",
       "    </tr>\n",
       "    <tr>\n",
       "      <th>58741</th>\n",
       "      <td>derentwegen</td>\n",
       "      <td>derentwegen</td>\n",
       "      <td>derentwegen</td>\n",
       "      <td>ADV PDAT PRELAT</td>\n",
       "      <td>Adverb Pronomen Demonstrativpronomen Relativpronomen</td>\n",
       "      <td>11.174970</td>\n",
       "    </tr>\n",
       "    <tr>\n",
       "      <th>4128</th>\n",
       "      <td>viel</td>\n",
       "      <td>viel</td>\n",
       "      <td>viel</td>\n",
       "      <td>ADJA ADV PIAT CARD</td>\n",
       "      <td>Adjektiv Adverb Pronomen Indefinitpronomen Numerale</td>\n",
       "      <td>44.134872</td>\n",
       "    </tr>\n",
       "    <tr>\n",
       "      <th>29519</th>\n",
       "      <td>zig</td>\n",
       "      <td>zig</td>\n",
       "      <td>zig</td>\n",
       "      <td>NN ADJA</td>\n",
       "      <td>Substantiv Adjektiv Zahlklassifikator</td>\n",
       "      <td>8.601458</td>\n",
       "    </tr>\n",
       "  </tbody>\n",
       "</table>\n",
       "</div>"
      ],
      "text/plain": [
       "       section_id2        title        lemma                 tag  \\\n",
       "22599    Rheinland    Rheinland    Rheinland                  NN   \n",
       "45932          bis          bis          bis        ITJ KON APPR   \n",
       "45933        bis_1          bis          bis                KOUS   \n",
       "58741  derentwegen  derentwegen  derentwegen     ADV PDAT PRELAT   \n",
       "4128          viel         viel         viel  ADJA ADV PIAT CARD   \n",
       "29519          zig          zig          zig             NN ADJA   \n",
       "\n",
       "                                                     member      score  \n",
       "22599                                            Substantiv  10.821385  \n",
       "45932           Partikel Konjunktion Adposition Präposition  24.574727  \n",
       "45933                               Konjunktion Subjunktion   1.806804  \n",
       "58741  Adverb Pronomen Demonstrativpronomen Relativpronomen  11.174970  \n",
       "4128    Adjektiv Adverb Pronomen Indefinitpronomen Numerale  44.134872  \n",
       "29519                 Substantiv Adjektiv Zahlklassifikator   8.601458  "
      ]
     },
     "execution_count": 86,
     "metadata": {},
     "output_type": "execute_result"
    }
   ],
   "source": [
    "# anschauen (alle title, nicht nur die section_id2)\n",
    "mask = wiktionary.title.isin(einzelkorrekturen.keys())\n",
    "df = wiktionary[mask].sort_values('section_id2')\n",
    "spalten = ['section_id2','title','lemma','tag','member','score']\n",
    "grid(df[spalten])"
   ]
  },
  {
   "cell_type": "code",
   "execution_count": 87,
   "metadata": {
    "execution": {
     "iopub.execute_input": "2023-02-20T13:00:21.774441Z",
     "iopub.status.busy": "2023-02-20T13:00:21.773967Z",
     "iopub.status.idle": "2023-02-20T13:00:22.166339Z",
     "shell.execute_reply": "2023-02-20T13:00:22.164532Z",
     "shell.execute_reply.started": "2023-02-20T13:00:21.774399Z"
    }
   },
   "outputs": [],
   "source": [
    "# ändern lt. section_id2\n",
    "for i,t in einzelkorrekturen.items():\n",
    "    mask = (wiktionary.section_id2 == i)\n",
    "    wiktionary.loc[mask,'tag'] = t"
   ]
  },
  {
   "cell_type": "code",
   "execution_count": 88,
   "metadata": {
    "execution": {
     "iopub.execute_input": "2023-02-20T13:00:22.167492Z",
     "iopub.status.busy": "2023-02-20T13:00:22.167262Z",
     "iopub.status.idle": "2023-02-20T13:00:53.670311Z",
     "shell.execute_reply": "2023-02-20T13:00:53.669617Z",
     "shell.execute_reply.started": "2023-02-20T13:00:22.167471Z"
    }
   },
   "outputs": [],
   "source": [
    "# pflege_tag_felder (schreibe tagZZ usw.)\n",
    "wiktionary = pflege_tag_felder(wiktionary, translate_tagZ)"
   ]
  },
  {
   "cell_type": "code",
   "execution_count": 89,
   "metadata": {
    "execution": {
     "iopub.execute_input": "2023-02-20T13:00:53.671394Z",
     "iopub.status.busy": "2023-02-20T13:00:53.671143Z",
     "iopub.status.idle": "2023-02-20T13:00:53.766800Z",
     "shell.execute_reply": "2023-02-20T13:00:53.765827Z",
     "shell.execute_reply.started": "2023-02-20T13:00:53.671368Z"
    },
    "tags": []
   },
   "outputs": [
    {
     "name": "stdout",
     "output_type": "stream",
     "text": [
      "6 rows\n"
     ]
    },
    {
     "data": {
      "text/html": [
       "<div>\n",
       "<style scoped>\n",
       "    .dataframe tbody tr th:only-of-type {\n",
       "        vertical-align: middle;\n",
       "    }\n",
       "\n",
       "    .dataframe tbody tr th {\n",
       "        vertical-align: top;\n",
       "    }\n",
       "\n",
       "    .dataframe thead th {\n",
       "        text-align: right;\n",
       "    }\n",
       "</style>\n",
       "<table border=\"1\" class=\"dataframe\">\n",
       "  <thead>\n",
       "    <tr style=\"text-align: right;\">\n",
       "      <th></th>\n",
       "      <th>section_id2</th>\n",
       "      <th>title</th>\n",
       "      <th>lemma</th>\n",
       "      <th>tag</th>\n",
       "      <th>tagZZ</th>\n",
       "      <th>member</th>\n",
       "      <th>score</th>\n",
       "    </tr>\n",
       "  </thead>\n",
       "  <tbody>\n",
       "    <tr>\n",
       "      <th>22541</th>\n",
       "      <td>Rheinland</td>\n",
       "      <td>Rheinland</td>\n",
       "      <td>Rheinland</td>\n",
       "      <td>NE</td>\n",
       "      <td>N</td>\n",
       "      <td>Substantiv</td>\n",
       "      <td>10.821385</td>\n",
       "    </tr>\n",
       "    <tr>\n",
       "      <th>45836</th>\n",
       "      <td>bis</td>\n",
       "      <td>bis</td>\n",
       "      <td>bis</td>\n",
       "      <td>KOUS APPR</td>\n",
       "      <td>X</td>\n",
       "      <td>Partikel Konjunktion Adposition Präposition</td>\n",
       "      <td>24.574727</td>\n",
       "    </tr>\n",
       "    <tr>\n",
       "      <th>45837</th>\n",
       "      <td>bis_1</td>\n",
       "      <td>bis</td>\n",
       "      <td>bis</td>\n",
       "      <td>KOUS</td>\n",
       "      <td>X</td>\n",
       "      <td>Konjunktion Subjunktion</td>\n",
       "      <td>1.806804</td>\n",
       "    </tr>\n",
       "    <tr>\n",
       "      <th>58636</th>\n",
       "      <td>derentwegen</td>\n",
       "      <td>derentwegen</td>\n",
       "      <td>derentwegen</td>\n",
       "      <td>PDAT PRELAT</td>\n",
       "      <td>P</td>\n",
       "      <td>Adverb Pronomen Demonstrativpronomen Relativpronomen</td>\n",
       "      <td>11.174970</td>\n",
       "    </tr>\n",
       "    <tr>\n",
       "      <th>4110</th>\n",
       "      <td>viel</td>\n",
       "      <td>viel</td>\n",
       "      <td>viel</td>\n",
       "      <td>ADJA PIAT</td>\n",
       "      <td>A</td>\n",
       "      <td>Adjektiv Adverb Pronomen Indefinitpronomen Numerale</td>\n",
       "      <td>44.134872</td>\n",
       "    </tr>\n",
       "    <tr>\n",
       "      <th>29446</th>\n",
       "      <td>zig</td>\n",
       "      <td>zig</td>\n",
       "      <td>zig</td>\n",
       "      <td>ADJA</td>\n",
       "      <td>A</td>\n",
       "      <td>Substantiv Adjektiv Zahlklassifikator</td>\n",
       "      <td>8.601458</td>\n",
       "    </tr>\n",
       "  </tbody>\n",
       "</table>\n",
       "</div>"
      ],
      "text/plain": [
       "       section_id2        title        lemma          tag tagZZ  \\\n",
       "22541    Rheinland    Rheinland    Rheinland           NE     N   \n",
       "45836          bis          bis          bis    KOUS APPR     X   \n",
       "45837        bis_1          bis          bis         KOUS     X   \n",
       "58636  derentwegen  derentwegen  derentwegen  PDAT PRELAT     P   \n",
       "4110          viel         viel         viel    ADJA PIAT     A   \n",
       "29446          zig          zig          zig         ADJA     A   \n",
       "\n",
       "                                                     member      score  \n",
       "22541                                            Substantiv  10.821385  \n",
       "45836           Partikel Konjunktion Adposition Präposition  24.574727  \n",
       "45837                               Konjunktion Subjunktion   1.806804  \n",
       "58636  Adverb Pronomen Demonstrativpronomen Relativpronomen  11.174970  \n",
       "4110    Adjektiv Adverb Pronomen Indefinitpronomen Numerale  44.134872  \n",
       "29446                 Substantiv Adjektiv Zahlklassifikator   8.601458  "
      ]
     },
     "execution_count": 89,
     "metadata": {},
     "output_type": "execute_result"
    }
   ],
   "source": [
    "# anschauen (alle title, nicht nur die section_id2)\n",
    "mask = wiktionary.title.isin(einzelkorrekturen.keys())\n",
    "df = wiktionary[mask].sort_values('section_id2')\n",
    "spalten = ['section_id2','title','lemma','tag','tagZZ','member','score']\n",
    "grid(df[spalten])"
   ]
  },
  {
   "cell_type": "markdown",
   "metadata": {},
   "source": [
    "## named_entities"
   ]
  },
  {
   "cell_type": "code",
   "execution_count": 90,
   "metadata": {
    "execution": {
     "iopub.execute_input": "2023-02-20T13:00:53.768006Z",
     "iopub.status.busy": "2023-02-20T13:00:53.767744Z",
     "iopub.status.idle": "2023-02-20T13:00:54.633740Z",
     "shell.execute_reply": "2023-02-20T13:00:54.633013Z",
     "shell.execute_reply.started": "2023-02-20T13:00:53.767983Z"
    }
   },
   "outputs": [
    {
     "name": "stdout",
     "output_type": "stream",
     "text": [
      "4544 rows loaded\n"
     ]
    }
   ],
   "source": [
    "# laden\n",
    "named_entities = pak.load_excel(named_entities_filename, tabcol='quelle')"
   ]
  },
  {
   "cell_type": "code",
   "execution_count": 91,
   "metadata": {
    "execution": {
     "iopub.execute_input": "2023-02-20T13:00:54.637033Z",
     "iopub.status.busy": "2023-02-20T13:00:54.636714Z",
     "iopub.status.idle": "2023-02-20T13:00:54.757607Z",
     "shell.execute_reply": "2023-02-20T13:00:54.756874Z",
     "shell.execute_reply.started": "2023-02-20T13:00:54.637004Z"
    }
   },
   "outputs": [
    {
     "name": "stdout",
     "output_type": "stream",
     "text": [
      "3 rows\n"
     ]
    },
    {
     "data": {
      "text/html": [
       "<div>\n",
       "<style scoped>\n",
       "    .dataframe tbody tr th:only-of-type {\n",
       "        vertical-align: middle;\n",
       "    }\n",
       "\n",
       "    .dataframe tbody tr th {\n",
       "        vertical-align: top;\n",
       "    }\n",
       "\n",
       "    .dataframe thead th {\n",
       "        text-align: right;\n",
       "    }\n",
       "</style>\n",
       "<table border=\"1\" class=\"dataframe\">\n",
       "  <thead>\n",
       "    <tr style=\"text-align: right;\">\n",
       "      <th></th>\n",
       "      <th>quelle</th>\n",
       "      <th>quelle_count</th>\n",
       "      <th>quelle_percent</th>\n",
       "      <th>member</th>\n",
       "      <th>member_count</th>\n",
       "      <th>lemma</th>\n",
       "    </tr>\n",
       "  </thead>\n",
       "  <tbody>\n",
       "    <tr>\n",
       "      <th>0</th>\n",
       "      <td>Vorname</td>\n",
       "      <td>3825</td>\n",
       "      <td>84.2</td>\n",
       "      <td>[Vorname, Nachname]</td>\n",
       "      <td>[3825, 11]</td>\n",
       "      <td>[Hagen, Jordan, Menzel, Oswald, Reinhardt, Sander, Timm, Urban, Wichmann, Wieland, Wulf, Anna, Elisabeth, Johanna, Marie, Julia, Katharina, Christina, Eva, Charlotte]</td>\n",
       "    </tr>\n",
       "    <tr>\n",
       "      <th>1</th>\n",
       "      <td>Toponym</td>\n",
       "      <td>389</td>\n",
       "      <td>8.6</td>\n",
       "      <td>[Toponym, Stadt, Land]</td>\n",
       "      <td>[389, 293, 103]</td>\n",
       "      <td>[Berlin, Frankfurt, London, Paris, Tokio, Wien, München, New York, Amsterdam, Madrid, Zürich, Sydney, Hamburg, Toronto, Los Angeles, Stockholm, Chicago, Seoul, Brüssel, Peking]</td>\n",
       "    </tr>\n",
       "    <tr>\n",
       "      <th>2</th>\n",
       "      <td>Nachname</td>\n",
       "      <td>330</td>\n",
       "      <td>7.3</td>\n",
       "      <td>Nachname</td>\n",
       "      <td>330</td>\n",
       "      <td>[Ackermann, Ahrens, Albers, Altmann, Appel, Bachmann, Bader, Baier, Bartels, Barth, Barthel, Bartsch, Baumann, Baur, Bayer, Beck, Becker, Beckmann, Beer, Behrendt]</td>\n",
       "    </tr>\n",
       "  </tbody>\n",
       "</table>\n",
       "</div>"
      ],
      "text/plain": [
       "     quelle  quelle_count  quelle_percent                  member  \\\n",
       "0   Vorname          3825            84.2     [Vorname, Nachname]   \n",
       "1   Toponym           389             8.6  [Toponym, Stadt, Land]   \n",
       "2  Nachname           330             7.3                Nachname   \n",
       "\n",
       "      member_count  \\\n",
       "0       [3825, 11]   \n",
       "1  [389, 293, 103]   \n",
       "2              330   \n",
       "\n",
       "                                                                                                                                                                              lemma  \n",
       "0            [Hagen, Jordan, Menzel, Oswald, Reinhardt, Sander, Timm, Urban, Wichmann, Wieland, Wulf, Anna, Elisabeth, Johanna, Marie, Julia, Katharina, Christina, Eva, Charlotte]  \n",
       "1  [Berlin, Frankfurt, London, Paris, Tokio, Wien, München, New York, Amsterdam, Madrid, Zürich, Sydney, Hamburg, Toronto, Los Angeles, Stockholm, Chicago, Seoul, Brüssel, Peking]  \n",
       "2               [Ackermann, Ahrens, Albers, Altmann, Appel, Bachmann, Bader, Baier, Bartels, Barth, Barthel, Bartsch, Baumann, Baur, Bayer, Beck, Becker, Beckmann, Beer, Behrendt]  "
      ]
     },
     "execution_count": 91,
     "metadata": {},
     "output_type": "execute_result"
    }
   ],
   "source": [
    "# Überblick\n",
    "a = pak.analyse_freqs(named_entities, cols=['quelle','member','lemma'], splits=[None,' '])\n",
    "a = pak.drop_cols(a,'lemma_count')\n",
    "grid(a)"
   ]
  },
  {
   "cell_type": "code",
   "execution_count": 92,
   "metadata": {
    "execution": {
     "iopub.execute_input": "2023-02-20T13:00:54.761978Z",
     "iopub.status.busy": "2023-02-20T13:00:54.761679Z",
     "iopub.status.idle": "2023-02-20T13:00:54.799842Z",
     "shell.execute_reply": "2023-02-20T13:00:54.799244Z",
     "shell.execute_reply.started": "2023-02-20T13:00:54.761954Z"
    }
   },
   "outputs": [],
   "source": [
    "# Felder ergänzen\n",
    "named_entities['title']       = named_entities.lemma\n",
    "named_entities['lemma_lower'] = named_entities.lemma.str.lower() \n",
    "named_entities = pak.move_cols( named_entities, 'lemma_lower','lemma')"
   ]
  },
  {
   "cell_type": "code",
   "execution_count": 93,
   "metadata": {
    "execution": {
     "iopub.execute_input": "2023-02-20T13:00:54.801113Z",
     "iopub.status.busy": "2023-02-20T13:00:54.800784Z",
     "iopub.status.idle": "2023-02-20T13:00:54.848788Z",
     "shell.execute_reply": "2023-02-20T13:00:54.848137Z",
     "shell.execute_reply.started": "2023-02-20T13:00:54.801090Z"
    }
   },
   "outputs": [],
   "source": [
    "# section_id2\n",
    "named_entities['section_id2'] = named_entities.lemma + '_' + named_entities.quelle.str[0].str.upper().copy()\n",
    "named_entities['section_id2'] = named_entities.section_id2.str.replace(' ','_').copy()\n",
    "named_entities = pak.move_cols(named_entities, ['section_id2','title'])"
   ]
  },
  {
   "cell_type": "code",
   "execution_count": 94,
   "metadata": {
    "execution": {
     "iopub.execute_input": "2023-02-20T13:00:54.850278Z",
     "iopub.status.busy": "2023-02-20T13:00:54.849989Z",
     "iopub.status.idle": "2023-02-20T13:00:55.774253Z",
     "shell.execute_reply": "2023-02-20T13:00:55.773425Z",
     "shell.execute_reply.started": "2023-02-20T13:00:54.850256Z"
    }
   },
   "outputs": [
    {
     "name": "stdout",
     "output_type": "stream",
     "text": [
      "update_col: col_score score applied, 2289 records less!\n",
      "update_col: 1251 cells written into existing column\n"
     ]
    }
   ],
   "source": [
    "# Bekannte section_id2 aus wiktionary übertragen. Aber nur wenn der tag wirklich gleich ist.\n",
    "mask = (wiktionary.lemma == wiktionary.title)  # wichtig\n",
    "named_entities = pak.update_col(named_entities, wiktionary[mask], on=['lemma_lower','tag'], col='section_id2',  col_score='score' )"
   ]
  },
  {
   "cell_type": "code",
   "execution_count": 95,
   "metadata": {
    "execution": {
     "iopub.execute_input": "2023-02-20T13:00:55.775407Z",
     "iopub.status.busy": "2023-02-20T13:00:55.775142Z",
     "iopub.status.idle": "2023-02-20T13:00:55.829882Z",
     "shell.execute_reply": "2023-02-20T13:00:55.829246Z",
     "shell.execute_reply.started": "2023-02-20T13:00:55.775381Z"
    }
   },
   "outputs": [],
   "source": [
    "# drop_cols\n",
    "named_entities = pak.drop_cols(named_entities,['sex_f', 'sex_m', 'Land', 'Stadt','quelle'])"
   ]
  },
  {
   "cell_type": "code",
   "execution_count": 96,
   "metadata": {
    "execution": {
     "iopub.execute_input": "2023-02-20T13:00:55.841096Z",
     "iopub.status.busy": "2023-02-20T13:00:55.834703Z",
     "iopub.status.idle": "2023-02-20T13:00:55.887139Z",
     "shell.execute_reply": "2023-02-20T13:00:55.885815Z",
     "shell.execute_reply.started": "2023-02-20T13:00:55.841054Z"
    }
   },
   "outputs": [],
   "source": [
    "# score erhöhen\n",
    "named_entities.score += 1.0\n",
    "named_entities.score *= 2.0"
   ]
  },
  {
   "cell_type": "code",
   "execution_count": 97,
   "metadata": {
    "execution": {
     "iopub.execute_input": "2023-02-20T13:00:55.888819Z",
     "iopub.status.busy": "2023-02-20T13:00:55.888298Z",
     "iopub.status.idle": "2023-02-20T13:00:56.159494Z",
     "shell.execute_reply": "2023-02-20T13:00:56.158769Z",
     "shell.execute_reply.started": "2023-02-20T13:00:55.888789Z"
    }
   },
   "outputs": [
    {
     "name": "stdout",
     "output_type": "stream",
     "text": [
      "7 rows out of 4544\n"
     ]
    },
    {
     "data": {
      "text/html": [
       "<div>\n",
       "<style scoped>\n",
       "    .dataframe tbody tr th:only-of-type {\n",
       "        vertical-align: middle;\n",
       "    }\n",
       "\n",
       "    .dataframe tbody tr th {\n",
       "        vertical-align: top;\n",
       "    }\n",
       "\n",
       "    .dataframe thead th {\n",
       "        text-align: right;\n",
       "    }\n",
       "</style>\n",
       "<table border=\"1\" class=\"dataframe\">\n",
       "  <thead>\n",
       "    <tr style=\"text-align: right;\">\n",
       "      <th></th>\n",
       "      <th>section_id2</th>\n",
       "      <th>title</th>\n",
       "      <th>lemma</th>\n",
       "      <th>lemma_lower</th>\n",
       "      <th>tag</th>\n",
       "      <th>member</th>\n",
       "      <th>score</th>\n",
       "      <th>Genus</th>\n",
       "      <th>Nom Sg</th>\n",
       "      <th>Gen Sg</th>\n",
       "    </tr>\n",
       "  </thead>\n",
       "  <tbody>\n",
       "    <tr>\n",
       "      <th>0</th>\n",
       "      <td>Hagen</td>\n",
       "      <td>Hagen</td>\n",
       "      <td>Hagen</td>\n",
       "      <td>hagen</td>\n",
       "      <td>NE</td>\n",
       "      <td>Vorname Nachname</td>\n",
       "      <td>2.989899</td>\n",
       "      <td>m</td>\n",
       "      <td>Hagen</td>\n",
       "      <td>Hagens</td>\n",
       "    </tr>\n",
       "    <tr>\n",
       "      <th>11</th>\n",
       "      <td>Anna_1</td>\n",
       "      <td>Anna</td>\n",
       "      <td>Anna</td>\n",
       "      <td>anna</td>\n",
       "      <td>NE</td>\n",
       "      <td>Vorname</td>\n",
       "      <td>4.000000</td>\n",
       "      <td>f</td>\n",
       "      <td>Anna</td>\n",
       "      <td>Annas</td>\n",
       "    </tr>\n",
       "    <tr>\n",
       "      <th>140</th>\n",
       "      <td>Doris</td>\n",
       "      <td>Doris</td>\n",
       "      <td>Doris</td>\n",
       "      <td>doris</td>\n",
       "      <td>NE</td>\n",
       "      <td>Vorname</td>\n",
       "      <td>2.530279</td>\n",
       "      <td>f</td>\n",
       "      <td>Doris</td>\n",
       "      <td>&lt;NA&gt;</td>\n",
       "    </tr>\n",
       "    <tr>\n",
       "      <th>1875</th>\n",
       "      <td>Aytac_V</td>\n",
       "      <td>Aytac</td>\n",
       "      <td>Aytac</td>\n",
       "      <td>aytac</td>\n",
       "      <td>NE</td>\n",
       "      <td>Vorname</td>\n",
       "      <td>2.021720</td>\n",
       "      <td>x</td>\n",
       "      <td>Aytac</td>\n",
       "      <td>Aytacs</td>\n",
       "    </tr>\n",
       "    <tr>\n",
       "      <th>3824</th>\n",
       "      <td>Ünal_V</td>\n",
       "      <td>Ünal</td>\n",
       "      <td>Ünal</td>\n",
       "      <td>ünal</td>\n",
       "      <td>NE</td>\n",
       "      <td>Vorname</td>\n",
       "      <td>2.020000</td>\n",
       "      <td>m</td>\n",
       "      <td>Ünal</td>\n",
       "      <td>Ünals</td>\n",
       "    </tr>\n",
       "    <tr>\n",
       "      <th>3867</th>\n",
       "      <td>Aachen</td>\n",
       "      <td>Aachen</td>\n",
       "      <td>Aachen</td>\n",
       "      <td>aachen</td>\n",
       "      <td>NE</td>\n",
       "      <td>Toponym Stadt</td>\n",
       "      <td>2.038498</td>\n",
       "      <td>&lt;NA&gt;</td>\n",
       "      <td>Aachen</td>\n",
       "      <td>Aachens</td>\n",
       "    </tr>\n",
       "    <tr>\n",
       "      <th>4543</th>\n",
       "      <td>Ziegler</td>\n",
       "      <td>Ziegler</td>\n",
       "      <td>Ziegler</td>\n",
       "      <td>ziegler</td>\n",
       "      <td>NE</td>\n",
       "      <td>Nachname</td>\n",
       "      <td>2.989899</td>\n",
       "      <td>&lt;NA&gt;</td>\n",
       "      <td>Ziegler</td>\n",
       "      <td>Zieglers</td>\n",
       "    </tr>\n",
       "  </tbody>\n",
       "</table>\n",
       "</div>"
      ],
      "text/plain": [
       "     section_id2    title    lemma lemma_lower tag            member  \\\n",
       "0          Hagen    Hagen    Hagen       hagen  NE  Vorname Nachname   \n",
       "11        Anna_1     Anna     Anna        anna  NE           Vorname   \n",
       "140        Doris    Doris    Doris       doris  NE           Vorname   \n",
       "1875     Aytac_V    Aytac    Aytac       aytac  NE           Vorname   \n",
       "3824      Ünal_V     Ünal     Ünal        ünal  NE           Vorname   \n",
       "3867      Aachen   Aachen   Aachen      aachen  NE     Toponym Stadt   \n",
       "4543     Ziegler  Ziegler  Ziegler     ziegler  NE          Nachname   \n",
       "\n",
       "         score Genus   Nom Sg    Gen Sg  \n",
       "0     2.989899     m    Hagen    Hagens  \n",
       "11    4.000000     f     Anna     Annas  \n",
       "140   2.530279     f    Doris      <NA>  \n",
       "1875  2.021720     x    Aytac    Aytacs  \n",
       "3824  2.020000     m     Ünal     Ünals  \n",
       "3867  2.038498  <NA>   Aachen   Aachens  \n",
       "4543  2.989899  <NA>  Ziegler  Zieglers  "
      ]
     },
     "execution_count": 97,
     "metadata": {},
     "output_type": "execute_result"
    }
   ],
   "source": [
    "grid(named_entities, pak.sample)"
   ]
  },
  {
   "cell_type": "code",
   "execution_count": 98,
   "metadata": {
    "execution": {
     "iopub.execute_input": "2023-02-20T13:00:56.160471Z",
     "iopub.status.busy": "2023-02-20T13:00:56.160207Z",
     "iopub.status.idle": "2023-02-20T13:00:56.197778Z",
     "shell.execute_reply": "2023-02-20T13:00:56.197173Z",
     "shell.execute_reply.started": "2023-02-20T13:00:56.160433Z"
    }
   },
   "outputs": [
    {
     "name": "stdout",
     "output_type": "stream",
     "text": [
      "check_mask:  0 rows\n"
     ]
    }
   ],
   "source": [
    "# Dups?\n",
    "mask = named_entities.section_id2.duplicated()\n",
    "check_mask(named_entities,mask,0,0)"
   ]
  },
  {
   "cell_type": "code",
   "execution_count": 99,
   "metadata": {
    "execution": {
     "iopub.execute_input": "2023-02-20T13:00:56.199228Z",
     "iopub.status.busy": "2023-02-20T13:00:56.198535Z",
     "iopub.status.idle": "2023-02-20T13:00:56.235502Z",
     "shell.execute_reply": "2023-02-20T13:00:56.234424Z",
     "shell.execute_reply.started": "2023-02-20T13:00:56.199198Z"
    }
   },
   "outputs": [
    {
     "name": "stdout",
     "output_type": "stream",
     "text": [
      "<class 'IPython.core.display.Markdown'>\n"
     ]
    },
    {
     "data": {
      "text/markdown": [
       "<span style=\"font-size:larger;\">cols_to_dict(df, col_dict='', cols_add=[], use_defaultdict=False, drop=True):</span>\n",
       "\n",
       "Moves columns into a dict or defaultdict.\n",
       "This is \n",
       "* col_dict:         name of the target column. Can be empty, but may already contain a dict or defaultdict. \n",
       "* cols_add:         Columns to be packed.\n",
       "* use_defaultdict:  Should a defaultdict be used as data structure? Otherwise keys can only occur once.\n",
       "* drop:             Should the packed columns be dropped (>> move) or not (>> copy)?"
      ],
      "text/plain": [
       "<IPython.core.display.Markdown object>"
      ]
     },
     "metadata": {},
     "output_type": "display_data"
    }
   ],
   "source": [
    "blab.help(pak.cols_to_dict)"
   ]
  },
  {
   "cell_type": "code",
   "execution_count": 100,
   "metadata": {
    "execution": {
     "iopub.execute_input": "2023-02-20T13:00:56.236932Z",
     "iopub.status.busy": "2023-02-20T13:00:56.236673Z",
     "iopub.status.idle": "2023-02-20T13:00:58.965557Z",
     "shell.execute_reply": "2023-02-20T13:00:58.964749Z",
     "shell.execute_reply.started": "2023-02-20T13:00:56.236911Z"
    }
   },
   "outputs": [
    {
     "data": {
      "text/html": [
       "<div>\n",
       "<style scoped>\n",
       "    .dataframe tbody tr th:only-of-type {\n",
       "        vertical-align: middle;\n",
       "    }\n",
       "\n",
       "    .dataframe tbody tr th {\n",
       "        vertical-align: top;\n",
       "    }\n",
       "\n",
       "    .dataframe thead th {\n",
       "        text-align: right;\n",
       "    }\n",
       "</style>\n",
       "<table border=\"1\" class=\"dataframe\">\n",
       "  <thead>\n",
       "    <tr style=\"text-align: right;\">\n",
       "      <th></th>\n",
       "      <th>section_id2</th>\n",
       "      <th>title</th>\n",
       "      <th>lemma</th>\n",
       "      <th>lemma_lower</th>\n",
       "      <th>tag</th>\n",
       "      <th>member</th>\n",
       "      <th>score</th>\n",
       "      <th>flexion</th>\n",
       "    </tr>\n",
       "  </thead>\n",
       "  <tbody>\n",
       "    <tr>\n",
       "      <th>0</th>\n",
       "      <td>Hagen</td>\n",
       "      <td>Hagen</td>\n",
       "      <td>Hagen</td>\n",
       "      <td>hagen</td>\n",
       "      <td>NE</td>\n",
       "      <td>Vorname Nachname</td>\n",
       "      <td>2.989899</td>\n",
       "      <td>{'Genus': ['m'], 'Nom Sg': ['Hagen'], 'Gen Sg': ['Hagens']}</td>\n",
       "    </tr>\n",
       "    <tr>\n",
       "      <th>1</th>\n",
       "      <td>Jordan</td>\n",
       "      <td>Jordan</td>\n",
       "      <td>Jordan</td>\n",
       "      <td>jordan</td>\n",
       "      <td>NE</td>\n",
       "      <td>Vorname Nachname</td>\n",
       "      <td>2.989899</td>\n",
       "      <td>{'Genus': ['m'], 'Nom Sg': ['Jordan'], 'Gen Sg': ['Jordans']}</td>\n",
       "    </tr>\n",
       "    <tr>\n",
       "      <th>2</th>\n",
       "      <td>Menzel_V</td>\n",
       "      <td>Menzel</td>\n",
       "      <td>Menzel</td>\n",
       "      <td>menzel</td>\n",
       "      <td>NE</td>\n",
       "      <td>Vorname Nachname</td>\n",
       "      <td>2.989899</td>\n",
       "      <td>{'Genus': ['m'], 'Nom Sg': ['Menzel'], 'Gen Sg': ['Menzels']}</td>\n",
       "    </tr>\n",
       "    <tr>\n",
       "      <th>3</th>\n",
       "      <td>Oswald_V</td>\n",
       "      <td>Oswald</td>\n",
       "      <td>Oswald</td>\n",
       "      <td>oswald</td>\n",
       "      <td>NE</td>\n",
       "      <td>Vorname Nachname</td>\n",
       "      <td>2.989899</td>\n",
       "      <td>{'Genus': ['m'], 'Nom Sg': ['Oswald'], 'Gen Sg': ['Oswalds']}</td>\n",
       "    </tr>\n",
       "    <tr>\n",
       "      <th>4</th>\n",
       "      <td>Reinhardt_V</td>\n",
       "      <td>Reinhardt</td>\n",
       "      <td>Reinhardt</td>\n",
       "      <td>reinhardt</td>\n",
       "      <td>NE</td>\n",
       "      <td>Vorname Nachname</td>\n",
       "      <td>2.989899</td>\n",
       "      <td>{'Genus': ['m'], 'Nom Sg': ['Reinhardt'], 'Gen Sg': ['Reinhardts']}</td>\n",
       "    </tr>\n",
       "    <tr>\n",
       "      <th>...</th>\n",
       "      <td>...</td>\n",
       "      <td>...</td>\n",
       "      <td>...</td>\n",
       "      <td>...</td>\n",
       "      <td>...</td>\n",
       "      <td>...</td>\n",
       "      <td>...</td>\n",
       "      <td>...</td>\n",
       "    </tr>\n",
       "    <tr>\n",
       "      <th>4539</th>\n",
       "      <td>Wolff</td>\n",
       "      <td>Wolff</td>\n",
       "      <td>Wolff</td>\n",
       "      <td>wolff</td>\n",
       "      <td>NE</td>\n",
       "      <td>Nachname</td>\n",
       "      <td>2.989899</td>\n",
       "      <td>{'Nom Sg': ['Wolff'], 'Gen Sg': ['Wolffs']}</td>\n",
       "    </tr>\n",
       "    <tr>\n",
       "      <th>4540</th>\n",
       "      <td>Wolter_N</td>\n",
       "      <td>Wolter</td>\n",
       "      <td>Wolter</td>\n",
       "      <td>wolter</td>\n",
       "      <td>NE</td>\n",
       "      <td>Nachname</td>\n",
       "      <td>2.989899</td>\n",
       "      <td>{'Nom Sg': ['Wolter'], 'Gen Sg': ['Wolters']}</td>\n",
       "    </tr>\n",
       "    <tr>\n",
       "      <th>4541</th>\n",
       "      <td>Zander_2</td>\n",
       "      <td>Zander</td>\n",
       "      <td>Zander</td>\n",
       "      <td>zander</td>\n",
       "      <td>NE</td>\n",
       "      <td>Nachname</td>\n",
       "      <td>2.989899</td>\n",
       "      <td>{'Nom Sg': ['Zander'], 'Gen Sg': ['Zanders']}</td>\n",
       "    </tr>\n",
       "    <tr>\n",
       "      <th>4542</th>\n",
       "      <td>Zeller_N</td>\n",
       "      <td>Zeller</td>\n",
       "      <td>Zeller</td>\n",
       "      <td>zeller</td>\n",
       "      <td>NE</td>\n",
       "      <td>Nachname</td>\n",
       "      <td>2.989899</td>\n",
       "      <td>{'Nom Sg': ['Zeller'], 'Gen Sg': ['Zellers']}</td>\n",
       "    </tr>\n",
       "    <tr>\n",
       "      <th>4543</th>\n",
       "      <td>Ziegler</td>\n",
       "      <td>Ziegler</td>\n",
       "      <td>Ziegler</td>\n",
       "      <td>ziegler</td>\n",
       "      <td>NE</td>\n",
       "      <td>Nachname</td>\n",
       "      <td>2.989899</td>\n",
       "      <td>{'Nom Sg': ['Ziegler'], 'Gen Sg': ['Zieglers']}</td>\n",
       "    </tr>\n",
       "  </tbody>\n",
       "</table>\n",
       "<p>4544 rows × 8 columns</p>\n",
       "</div>"
      ],
      "text/plain": [
       "      section_id2      title      lemma lemma_lower tag            member  \\\n",
       "0           Hagen      Hagen      Hagen       hagen  NE  Vorname Nachname   \n",
       "1          Jordan     Jordan     Jordan      jordan  NE  Vorname Nachname   \n",
       "2        Menzel_V     Menzel     Menzel      menzel  NE  Vorname Nachname   \n",
       "3        Oswald_V     Oswald     Oswald      oswald  NE  Vorname Nachname   \n",
       "4     Reinhardt_V  Reinhardt  Reinhardt   reinhardt  NE  Vorname Nachname   \n",
       "...           ...        ...        ...         ...  ..               ...   \n",
       "4539        Wolff      Wolff      Wolff       wolff  NE          Nachname   \n",
       "4540     Wolter_N     Wolter     Wolter      wolter  NE          Nachname   \n",
       "4541     Zander_2     Zander     Zander      zander  NE          Nachname   \n",
       "4542     Zeller_N     Zeller     Zeller      zeller  NE          Nachname   \n",
       "4543      Ziegler    Ziegler    Ziegler     ziegler  NE          Nachname   \n",
       "\n",
       "         score  \\\n",
       "0     2.989899   \n",
       "1     2.989899   \n",
       "2     2.989899   \n",
       "3     2.989899   \n",
       "4     2.989899   \n",
       "...        ...   \n",
       "4539  2.989899   \n",
       "4540  2.989899   \n",
       "4541  2.989899   \n",
       "4542  2.989899   \n",
       "4543  2.989899   \n",
       "\n",
       "                                                                  flexion  \n",
       "0             {'Genus': ['m'], 'Nom Sg': ['Hagen'], 'Gen Sg': ['Hagens']}  \n",
       "1           {'Genus': ['m'], 'Nom Sg': ['Jordan'], 'Gen Sg': ['Jordans']}  \n",
       "2           {'Genus': ['m'], 'Nom Sg': ['Menzel'], 'Gen Sg': ['Menzels']}  \n",
       "3           {'Genus': ['m'], 'Nom Sg': ['Oswald'], 'Gen Sg': ['Oswalds']}  \n",
       "4     {'Genus': ['m'], 'Nom Sg': ['Reinhardt'], 'Gen Sg': ['Reinhardts']}  \n",
       "...                                                                   ...  \n",
       "4539                          {'Nom Sg': ['Wolff'], 'Gen Sg': ['Wolffs']}  \n",
       "4540                        {'Nom Sg': ['Wolter'], 'Gen Sg': ['Wolters']}  \n",
       "4541                        {'Nom Sg': ['Zander'], 'Gen Sg': ['Zanders']}  \n",
       "4542                        {'Nom Sg': ['Zeller'], 'Gen Sg': ['Zellers']}  \n",
       "4543                      {'Nom Sg': ['Ziegler'], 'Gen Sg': ['Zieglers']}  \n",
       "\n",
       "[4544 rows x 8 columns]"
      ]
     },
     "execution_count": 100,
     "metadata": {},
     "output_type": "execute_result"
    }
   ],
   "source": [
    "named_entities = pak.cols_to_dict(named_entities,col_dict='flexion',cols_add=['Genus','Nom Sg','Gen Sg',], use_defaultdict=True)\n",
    "named_entities"
   ]
  },
  {
   "cell_type": "code",
   "execution_count": 101,
   "metadata": {
    "execution": {
     "iopub.execute_input": "2023-02-20T13:00:58.966780Z",
     "iopub.status.busy": "2023-02-20T13:00:58.966510Z",
     "iopub.status.idle": "2023-02-20T13:00:59.337327Z",
     "shell.execute_reply": "2023-02-20T13:00:59.336600Z",
     "shell.execute_reply.started": "2023-02-20T13:00:58.966756Z"
    }
   },
   "outputs": [
    {
     "name": "stdout",
     "output_type": "stream",
     "text": [
      "5 rows out of 4544\n"
     ]
    },
    {
     "data": {
      "text/html": [
       "<div>\n",
       "<style scoped>\n",
       "    .dataframe tbody tr th:only-of-type {\n",
       "        vertical-align: middle;\n",
       "    }\n",
       "\n",
       "    .dataframe tbody tr th {\n",
       "        vertical-align: top;\n",
       "    }\n",
       "\n",
       "    .dataframe thead th {\n",
       "        text-align: right;\n",
       "    }\n",
       "</style>\n",
       "<table border=\"1\" class=\"dataframe\">\n",
       "  <thead>\n",
       "    <tr style=\"text-align: right;\">\n",
       "      <th></th>\n",
       "      <th>section_id2</th>\n",
       "      <th>title</th>\n",
       "      <th>lemma</th>\n",
       "      <th>lemma_lower</th>\n",
       "      <th>tag</th>\n",
       "      <th>member</th>\n",
       "      <th>score</th>\n",
       "      <th>flexion</th>\n",
       "    </tr>\n",
       "  </thead>\n",
       "  <tbody>\n",
       "    <tr>\n",
       "      <th>0</th>\n",
       "      <td>Hagen</td>\n",
       "      <td>Hagen</td>\n",
       "      <td>Hagen</td>\n",
       "      <td>hagen</td>\n",
       "      <td>NE</td>\n",
       "      <td>Vorname Nachname</td>\n",
       "      <td>2.989899</td>\n",
       "      <td>{'Genus': ['m'], 'Nom Sg': ['Hagen'], 'Gen Sg': ['Hagens']}</td>\n",
       "    </tr>\n",
       "    <tr>\n",
       "      <th>11</th>\n",
       "      <td>Anna_1</td>\n",
       "      <td>Anna</td>\n",
       "      <td>Anna</td>\n",
       "      <td>anna</td>\n",
       "      <td>NE</td>\n",
       "      <td>Vorname</td>\n",
       "      <td>4.000000</td>\n",
       "      <td>{'Genus': ['f'], 'Nom Sg': ['Anna'], 'Gen Sg': ['Annas']}</td>\n",
       "    </tr>\n",
       "    <tr>\n",
       "      <th>1002</th>\n",
       "      <td>Abelina_V</td>\n",
       "      <td>Abelina</td>\n",
       "      <td>Abelina</td>\n",
       "      <td>abelina</td>\n",
       "      <td>NE</td>\n",
       "      <td>Vorname</td>\n",
       "      <td>2.020000</td>\n",
       "      <td>{'Genus': ['f'], 'Nom Sg': ['Abelina'], 'Gen Sg': ['Abelinas']}</td>\n",
       "    </tr>\n",
       "    <tr>\n",
       "      <th>3867</th>\n",
       "      <td>Aachen</td>\n",
       "      <td>Aachen</td>\n",
       "      <td>Aachen</td>\n",
       "      <td>aachen</td>\n",
       "      <td>NE</td>\n",
       "      <td>Toponym Stadt</td>\n",
       "      <td>2.038498</td>\n",
       "      <td>{'Nom Sg': ['Aachen'], 'Gen Sg': ['Aachens']}</td>\n",
       "    </tr>\n",
       "    <tr>\n",
       "      <th>4543</th>\n",
       "      <td>Ziegler</td>\n",
       "      <td>Ziegler</td>\n",
       "      <td>Ziegler</td>\n",
       "      <td>ziegler</td>\n",
       "      <td>NE</td>\n",
       "      <td>Nachname</td>\n",
       "      <td>2.989899</td>\n",
       "      <td>{'Nom Sg': ['Ziegler'], 'Gen Sg': ['Zieglers']}</td>\n",
       "    </tr>\n",
       "  </tbody>\n",
       "</table>\n",
       "</div>"
      ],
      "text/plain": [
       "     section_id2    title    lemma lemma_lower tag            member  \\\n",
       "0          Hagen    Hagen    Hagen       hagen  NE  Vorname Nachname   \n",
       "11        Anna_1     Anna     Anna        anna  NE           Vorname   \n",
       "1002   Abelina_V  Abelina  Abelina     abelina  NE           Vorname   \n",
       "3867      Aachen   Aachen   Aachen      aachen  NE     Toponym Stadt   \n",
       "4543     Ziegler  Ziegler  Ziegler     ziegler  NE          Nachname   \n",
       "\n",
       "         score  \\\n",
       "0     2.989899   \n",
       "11    4.000000   \n",
       "1002  2.020000   \n",
       "3867  2.038498   \n",
       "4543  2.989899   \n",
       "\n",
       "                                                              flexion  \n",
       "0         {'Genus': ['m'], 'Nom Sg': ['Hagen'], 'Gen Sg': ['Hagens']}  \n",
       "11          {'Genus': ['f'], 'Nom Sg': ['Anna'], 'Gen Sg': ['Annas']}  \n",
       "1002  {'Genus': ['f'], 'Nom Sg': ['Abelina'], 'Gen Sg': ['Abelinas']}  \n",
       "3867                    {'Nom Sg': ['Aachen'], 'Gen Sg': ['Aachens']}  \n",
       "4543                  {'Nom Sg': ['Ziegler'], 'Gen Sg': ['Zieglers']}  "
      ]
     },
     "execution_count": 101,
     "metadata": {},
     "output_type": "execute_result"
    }
   ],
   "source": [
    "grid(named_entities, pak.sample)"
   ]
  },
  {
   "cell_type": "code",
   "execution_count": 102,
   "metadata": {
    "execution": {
     "iopub.execute_input": "2023-02-20T13:00:59.339451Z",
     "iopub.status.busy": "2023-02-20T13:00:59.339190Z",
     "iopub.status.idle": "2023-02-20T13:01:00.148229Z",
     "shell.execute_reply": "2023-02-20T13:01:00.147351Z",
     "shell.execute_reply.started": "2023-02-20T13:00:59.339429Z"
    }
   },
   "outputs": [
    {
     "name": "stdout",
     "output_type": "stream",
     "text": [
      "4544 rows added, now a total of 841781\n"
     ]
    }
   ],
   "source": [
    "# anfügen\n",
    "wiktionary = pak.add_rows(wiktionary, named_entities, assert_subset=True)"
   ]
  },
  {
   "cell_type": "code",
   "execution_count": 103,
   "metadata": {
    "execution": {
     "iopub.execute_input": "2023-02-20T13:01:00.149378Z",
     "iopub.status.busy": "2023-02-20T13:01:00.149114Z",
     "iopub.status.idle": "2023-02-20T13:01:00.404548Z",
     "shell.execute_reply": "2023-02-20T13:01:00.403889Z",
     "shell.execute_reply.started": "2023-02-20T13:01:00.149353Z"
    },
    "tags": []
   },
   "outputs": [],
   "source": [
    "# flexion type korrekt?\n",
    "assert pak.ntypes(wiktionary.flexion) == 1"
   ]
  },
  {
   "cell_type": "code",
   "execution_count": 104,
   "metadata": {
    "execution": {
     "iopub.execute_input": "2023-02-20T13:01:00.406916Z",
     "iopub.status.busy": "2023-02-20T13:01:00.406619Z",
     "iopub.status.idle": "2023-02-20T13:01:00.980912Z",
     "shell.execute_reply": "2023-02-20T13:01:00.980123Z",
     "shell.execute_reply.started": "2023-02-20T13:01:00.406889Z"
    }
   },
   "outputs": [
    {
     "name": "stdout",
     "output_type": "stream",
     "text": [
      "3 rows\n"
     ]
    },
    {
     "data": {
      "text/html": [
       "<div>\n",
       "<style scoped>\n",
       "    .dataframe tbody tr th:only-of-type {\n",
       "        vertical-align: middle;\n",
       "    }\n",
       "\n",
       "    .dataframe tbody tr th {\n",
       "        vertical-align: top;\n",
       "    }\n",
       "\n",
       "    .dataframe thead th {\n",
       "        text-align: right;\n",
       "    }\n",
       "</style>\n",
       "<table border=\"1\" class=\"dataframe\">\n",
       "  <thead>\n",
       "    <tr style=\"text-align: right;\">\n",
       "      <th></th>\n",
       "      <th>page_id</th>\n",
       "      <th>page_part</th>\n",
       "      <th>section_id2</th>\n",
       "      <th>title</th>\n",
       "      <th>lemma</th>\n",
       "      <th>inflected</th>\n",
       "      <th>pos</th>\n",
       "      <th>tag</th>\n",
       "      <th>tag_0</th>\n",
       "      <th>tag_1</th>\n",
       "      <th>...</th>\n",
       "      <th>member</th>\n",
       "      <th>rhymes</th>\n",
       "      <th>score</th>\n",
       "      <th>flexion</th>\n",
       "      <th>ipa</th>\n",
       "      <th>syllables</th>\n",
       "      <th>lang</th>\n",
       "      <th>lang_code</th>\n",
       "      <th>error</th>\n",
       "      <th>lemma_lower</th>\n",
       "    </tr>\n",
       "  </thead>\n",
       "  <tbody>\n",
       "    <tr>\n",
       "      <th>121213</th>\n",
       "      <td>274097.0</td>\n",
       "      <td>0.0</td>\n",
       "      <td>gefriergetrocknet</td>\n",
       "      <td>gefriergetrocknet</td>\n",
       "      <td>gefriergetrocknet</td>\n",
       "      <td>False</td>\n",
       "      <td>{'Adjektiv': []}</td>\n",
       "      <td>ADJA</td>\n",
       "      <td>ADJA</td>\n",
       "      <td>F60ZzhWP4K</td>\n",
       "      <td>...</td>\n",
       "      <td>Adjektiv</td>\n",
       "      <td>NaN</td>\n",
       "      <td>3.902795</td>\n",
       "      <td>{'Positiv': ['gefriergetrocknet']}</td>\n",
       "      <td>[ɡəˈfʁiːɐ̯ɡəˌtʁɔknət]</td>\n",
       "      <td>[ge, frier, ge, trock, net]</td>\n",
       "      <td>Deutsch</td>\n",
       "      <td>de</td>\n",
       "      <td></td>\n",
       "      <td>gefriergetrocknet</td>\n",
       "    </tr>\n",
       "    <tr>\n",
       "      <th>783939</th>\n",
       "      <td>1055347.0</td>\n",
       "      <td>0.0</td>\n",
       "      <td>gefriertrocknen</td>\n",
       "      <td>gefriertrocknen</td>\n",
       "      <td>gefriertrocknen</td>\n",
       "      <td>False</td>\n",
       "      <td>{'Verb': []}</td>\n",
       "      <td>VVFIN</td>\n",
       "      <td>VVFIN</td>\n",
       "      <td>3fbGMxWJaM</td>\n",
       "      <td>...</td>\n",
       "      <td>Verb</td>\n",
       "      <td>NaN</td>\n",
       "      <td>14.590522</td>\n",
       "      <td>{'Präsens_ich': ['gefriertrockne'], 'Präsens_du': ['gefriertrocknest'], 'Präsens_er, sie, es': ['gefriertrocknet'], 'Präteritum_ich': ['gefriertrocknete'], 'Konjunktiv II_ich': ['gefriertrocknete'], 'Imperativ Singular': ['gefriertrockne'], 'Imperativ Plural': ['gefriertrocknet'], 'Partizip II': ['gefriergetrocknet'], 'Hilfsverb': ['haben']}</td>\n",
       "      <td>[ɡəˈfʁiːɐ̯ˌtʁɔknən]</td>\n",
       "      <td>[ge, frier, trock, nen]</td>\n",
       "      <td>Deutsch</td>\n",
       "      <td>de</td>\n",
       "      <td></td>\n",
       "      <td>gefriertrocknen</td>\n",
       "    </tr>\n",
       "    <tr>\n",
       "      <th>98068</th>\n",
       "      <td>242838.0</td>\n",
       "      <td>0.0</td>\n",
       "      <td>missraten</td>\n",
       "      <td>missraten</td>\n",
       "      <td>missraten</td>\n",
       "      <td>False</td>\n",
       "      <td>{'Verb': []}</td>\n",
       "      <td>VVFIN</td>\n",
       "      <td>VVFIN</td>\n",
       "      <td>9sTqXvBc9L</td>\n",
       "      <td>...</td>\n",
       "      <td>Verb</td>\n",
       "      <td>[aːtn̩]</td>\n",
       "      <td>4.420413</td>\n",
       "      <td>{'Präsens_ich': ['missrate'], 'Präsens_du': ['missrätst'], 'Präsens_er, sie, es': ['missrät'], 'Präteritum_ich': ['missriet'], 'Partizip II': ['missraten'], 'Konjunktiv II_ich': ['missriete'], 'Imperativ Singular': ['missrate'], 'Imperativ Plural': ['missratet'], 'Hilfsverb': ['sein']}</td>\n",
       "      <td>[mɪsˈʁaːtn̩]</td>\n",
       "      <td>[miss, ra, ten]</td>\n",
       "      <td>Deutsch</td>\n",
       "      <td>de</td>\n",
       "      <td></td>\n",
       "      <td>missraten</td>\n",
       "    </tr>\n",
       "  </tbody>\n",
       "</table>\n",
       "<p>3 rows × 22 columns</p>\n",
       "</div>"
      ],
      "text/plain": [
       "          page_id  page_part        section_id2              title  \\\n",
       "121213   274097.0        0.0  gefriergetrocknet  gefriergetrocknet   \n",
       "783939  1055347.0        0.0    gefriertrocknen    gefriertrocknen   \n",
       "98068    242838.0        0.0          missraten          missraten   \n",
       "\n",
       "                    lemma inflected               pos    tag  tag_0  \\\n",
       "121213  gefriergetrocknet     False  {'Adjektiv': []}   ADJA   ADJA   \n",
       "783939    gefriertrocknen     False      {'Verb': []}  VVFIN  VVFIN   \n",
       "98068           missraten     False      {'Verb': []}  VVFIN  VVFIN   \n",
       "\n",
       "             tag_1  ...    member   rhymes      score  \\\n",
       "121213  F60ZzhWP4K  ...  Adjektiv      NaN   3.902795   \n",
       "783939  3fbGMxWJaM  ...      Verb      NaN  14.590522   \n",
       "98068   9sTqXvBc9L  ...      Verb  [aːtn̩]   4.420413   \n",
       "\n",
       "                                                                                                                                                                                                                                                                                                                                                        flexion  \\\n",
       "121213                                                                                                                                                                                                                                                                                                                       {'Positiv': ['gefriergetrocknet']}   \n",
       "783939  {'Präsens_ich': ['gefriertrockne'], 'Präsens_du': ['gefriertrocknest'], 'Präsens_er, sie, es': ['gefriertrocknet'], 'Präteritum_ich': ['gefriertrocknete'], 'Konjunktiv II_ich': ['gefriertrocknete'], 'Imperativ Singular': ['gefriertrockne'], 'Imperativ Plural': ['gefriertrocknet'], 'Partizip II': ['gefriergetrocknet'], 'Hilfsverb': ['haben']}   \n",
       "98068                                                            {'Präsens_ich': ['missrate'], 'Präsens_du': ['missrätst'], 'Präsens_er, sie, es': ['missrät'], 'Präteritum_ich': ['missriet'], 'Partizip II': ['missraten'], 'Konjunktiv II_ich': ['missriete'], 'Imperativ Singular': ['missrate'], 'Imperativ Plural': ['missratet'], 'Hilfsverb': ['sein']}   \n",
       "\n",
       "                          ipa                    syllables     lang lang_code  \\\n",
       "121213  [ɡəˈfʁiːɐ̯ɡəˌtʁɔknət]  [ge, frier, ge, trock, net]  Deutsch        de   \n",
       "783939    [ɡəˈfʁiːɐ̯ˌtʁɔknən]      [ge, frier, trock, nen]  Deutsch        de   \n",
       "98068            [mɪsˈʁaːtn̩]              [miss, ra, ten]  Deutsch        de   \n",
       "\n",
       "       error        lemma_lower  \n",
       "121213        gefriergetrocknet  \n",
       "783939          gefriertrocknen  \n",
       "98068                 missraten  \n",
       "\n",
       "[3 rows x 22 columns]"
      ]
     },
     "execution_count": 104,
     "metadata": {},
     "output_type": "execute_result"
    }
   ],
   "source": [
    "# wiktionary anschauen\n",
    "mask = wiktionary.title.isin(suche_debug) \n",
    "r = wiktionary[mask].sort_values(['title','section_id2'])\n",
    "grid(r)"
   ]
  },
  {
   "cell_type": "markdown",
   "metadata": {},
   "source": [
    "## Zahlwörter\n",
    "* werden anschließend lexeme_manuell zugeschlagen"
   ]
  },
  {
   "cell_type": "code",
   "execution_count": 105,
   "metadata": {
    "execution": {
     "iopub.execute_input": "2023-02-20T13:01:00.981920Z",
     "iopub.status.busy": "2023-02-20T13:01:00.981697Z",
     "iopub.status.idle": "2023-02-20T13:01:01.022410Z",
     "shell.execute_reply": "2023-02-20T13:01:01.021391Z",
     "shell.execute_reply.started": "2023-02-20T13:01:00.981899Z"
    }
   },
   "outputs": [],
   "source": [
    "# Wandelt eine Zahl in Worte um\n",
    "def zahl_in_worten(n, s=True, z=False):\n",
    "    \n",
    "    w1 = \"null ein zwei drei vier fünf sechs sieben acht neun zehn elf zwölf dreizehn vierzehn fünfzehn sechzehn siebzehn achtzehn neunzehn\".split()\n",
    "    w2 = \"zwanzig dreißig vierzig fünfzig sechzig siebzig achtzig neunzig\".split()    \n",
    "    if n < 0: raise ValueError\n",
    "    if n == 0 and z: return \"\"\n",
    "    if n == 1 and s: return \"eins\"\n",
    "    if n < 20: return w1[n]\n",
    "    if n < 100:\n",
    "        w = w2[(n - 20) // 10]\n",
    "        if n % 10:\n",
    "            w = w1[n % 10] + \"und\" + w\n",
    "        return w\n",
    "    if n < 1000:\n",
    "        return w1[n // 100] + \"hundert\" + zahl_in_worten(n % 100, z=True)\n",
    "    if n < 1000000:\n",
    "        return zahl_in_worten(n // 1000, s=False) + \"tausend\" + zahl_in_worten(n % 1000, z=True)\n",
    "    raise ValueError"
   ]
  },
  {
   "cell_type": "code",
   "execution_count": 106,
   "metadata": {
    "execution": {
     "iopub.execute_input": "2023-02-20T13:01:01.027849Z",
     "iopub.status.busy": "2023-02-20T13:01:01.027273Z",
     "iopub.status.idle": "2023-02-20T13:01:01.063514Z",
     "shell.execute_reply": "2023-02-20T13:01:01.062915Z",
     "shell.execute_reply.started": "2023-02-20T13:01:01.027819Z"
    }
   },
   "outputs": [
    {
     "name": "stdout",
     "output_type": "stream",
     "text": [
      "dreitausendeinhundertsieben\n"
     ]
    }
   ],
   "source": [
    "print(zahl_in_worten(3107))"
   ]
  },
  {
   "cell_type": "code",
   "execution_count": 107,
   "metadata": {
    "execution": {
     "iopub.execute_input": "2023-02-20T13:01:01.064923Z",
     "iopub.status.busy": "2023-02-20T13:01:01.064335Z",
     "iopub.status.idle": "2023-02-20T13:01:01.112630Z",
     "shell.execute_reply": "2023-02-20T13:01:01.111647Z",
     "shell.execute_reply.started": "2023-02-20T13:01:01.064897Z"
    }
   },
   "outputs": [
    {
     "data": {
      "text/plain": [
       "[{'lex': ['null', '0'], 'lemma': 'null', 'def': '0'},\n",
       " {'lex': ['zehn', '10'], 'lemma': 'zehn', 'def': '10'}]"
      ]
     },
     "execution_count": 107,
     "metadata": {},
     "output_type": "execute_result"
    }
   ],
   "source": [
    "def zahlwörter_liste(range_): \n",
    "    return [ \n",
    "    {'lex' : [zahl_in_worten(z), str(z)], \n",
    "     'lemma' : zahl_in_worten(z),      \n",
    "     'def'   : str(z),\n",
    "    } for z in range_]\n",
    "\n",
    "zahlwörter_liste(range(0,20,10))"
   ]
  },
  {
   "cell_type": "code",
   "execution_count": 108,
   "metadata": {
    "execution": {
     "iopub.execute_input": "2023-02-20T13:01:01.113806Z",
     "iopub.status.busy": "2023-02-20T13:01:01.113491Z",
     "iopub.status.idle": "2023-02-20T13:01:01.158062Z",
     "shell.execute_reply": "2023-02-20T13:01:01.157215Z",
     "shell.execute_reply.started": "2023-02-20T13:01:01.113780Z"
    }
   },
   "outputs": [],
   "source": [
    "# 0..99 zahlwörter_a erzeugen\n",
    "range_ = range(0,100)\n",
    "zahlwörter_a = pd.DataFrame(zahlwörter_liste( range_ ))\n",
    "#zahlwörter_a"
   ]
  },
  {
   "cell_type": "code",
   "execution_count": 109,
   "metadata": {
    "execution": {
     "iopub.execute_input": "2023-02-20T13:01:01.159229Z",
     "iopub.status.busy": "2023-02-20T13:01:01.158962Z",
     "iopub.status.idle": "2023-02-20T13:01:01.201607Z",
     "shell.execute_reply": "2023-02-20T13:01:01.200861Z",
     "shell.execute_reply.started": "2023-02-20T13:01:01.159206Z"
    }
   },
   "outputs": [],
   "source": [
    "# Hunderter Zahlwörter erzeugen\n",
    "range_ = range(100,1000,100)\n",
    "zahlwörter_b = pd.DataFrame(zahlwörter_liste( range_ ))\n",
    "#zahlwörter_b"
   ]
  },
  {
   "cell_type": "code",
   "execution_count": 110,
   "metadata": {
    "execution": {
     "iopub.execute_input": "2023-02-20T13:01:01.206623Z",
     "iopub.status.busy": "2023-02-20T13:01:01.203619Z",
     "iopub.status.idle": "2023-02-20T13:01:01.252443Z",
     "shell.execute_reply": "2023-02-20T13:01:01.251640Z",
     "shell.execute_reply.started": "2023-02-20T13:01:01.206580Z"
    }
   },
   "outputs": [],
   "source": [
    "# Tausender Zahlwörter erzeugen\n",
    "range_ = range(1000,99001,1000)\n",
    "zahlwörter_c = pd.DataFrame(zahlwörter_liste( range_ ))\n",
    "#zahlwörter_c"
   ]
  },
  {
   "cell_type": "code",
   "execution_count": 111,
   "metadata": {
    "execution": {
     "iopub.execute_input": "2023-02-20T13:01:01.258371Z",
     "iopub.status.busy": "2023-02-20T13:01:01.258085Z",
     "iopub.status.idle": "2023-02-20T13:01:01.303503Z",
     "shell.execute_reply": "2023-02-20T13:01:01.302845Z",
     "shell.execute_reply.started": "2023-02-20T13:01:01.258347Z"
    }
   },
   "outputs": [],
   "source": [
    "# Zehntausender Zahlwörter erzeugen\n",
    "range_ = range(10000,99001,10000)\n",
    "zahlwörter_d = pd.DataFrame(zahlwörter_liste( range_ ))\n",
    "#zahlwörter_d"
   ]
  },
  {
   "cell_type": "code",
   "execution_count": 112,
   "metadata": {
    "execution": {
     "iopub.execute_input": "2023-02-20T13:01:01.305147Z",
     "iopub.status.busy": "2023-02-20T13:01:01.304602Z",
     "iopub.status.idle": "2023-02-20T13:01:01.341076Z",
     "shell.execute_reply": "2023-02-20T13:01:01.340398Z",
     "shell.execute_reply.started": "2023-02-20T13:01:01.305119Z"
    }
   },
   "outputs": [],
   "source": [
    "# Hunderttausender Zahlwörter erzeugen\n",
    "range_ = range(100000,990001,100000)\n",
    "zahlwörter_e = pd.DataFrame(zahlwörter_liste( range_ ))\n",
    "#zahlwörter_e"
   ]
  },
  {
   "cell_type": "code",
   "execution_count": 113,
   "metadata": {
    "execution": {
     "iopub.execute_input": "2023-02-20T13:01:01.342593Z",
     "iopub.status.busy": "2023-02-20T13:01:01.342138Z",
     "iopub.status.idle": "2023-02-20T13:01:01.389498Z",
     "shell.execute_reply": "2023-02-20T13:01:01.388649Z",
     "shell.execute_reply.started": "2023-02-20T13:01:01.342569Z"
    }
   },
   "outputs": [],
   "source": [
    "# concat\n",
    "zahlwörter_all = pd.concat([  zahlwörter_a, zahlwörter_b, zahlwörter_c, zahlwörter_d, zahlwörter_e,  ])"
   ]
  },
  {
   "cell_type": "code",
   "execution_count": 114,
   "metadata": {
    "execution": {
     "iopub.execute_input": "2023-02-20T13:01:01.391048Z",
     "iopub.status.busy": "2023-02-20T13:01:01.390260Z",
     "iopub.status.idle": "2023-02-20T13:01:01.442407Z",
     "shell.execute_reply": "2023-02-20T13:01:01.441635Z",
     "shell.execute_reply.started": "2023-02-20T13:01:01.391008Z"
    }
   },
   "outputs": [],
   "source": [
    "# explode lex\n",
    "zahlwörter_all = zahlwörter_all.explode('lex')"
   ]
  },
  {
   "cell_type": "code",
   "execution_count": 115,
   "metadata": {
    "execution": {
     "iopub.execute_input": "2023-02-20T13:01:01.447616Z",
     "iopub.status.busy": "2023-02-20T13:01:01.447105Z",
     "iopub.status.idle": "2023-02-20T13:01:01.491433Z",
     "shell.execute_reply": "2023-02-20T13:01:01.490254Z",
     "shell.execute_reply.started": "2023-02-20T13:01:01.447590Z"
    }
   },
   "outputs": [],
   "source": [
    "# Sonstige Spalten\n",
    "zahlwörter_all['tag']         = 'CARD'\n",
    "zahlwörter_all['tag_lex']     = 'lex' # ja\n",
    "zahlwörter_all['genus']       = 'f'\n",
    "zahlwörter_all['member']      = 'Zahlwort'\n",
    "zahlwörter_all['tab']         = 'Zahlwort' # Wird später wieder gelöscht, dient der Kompatibilität zu lexeme_manuell"
   ]
  },
  {
   "cell_type": "code",
   "execution_count": 116,
   "metadata": {
    "execution": {
     "iopub.execute_input": "2023-02-20T13:01:01.497421Z",
     "iopub.status.busy": "2023-02-20T13:01:01.497067Z",
     "iopub.status.idle": "2023-02-20T13:01:01.549554Z",
     "shell.execute_reply": "2023-02-20T13:01:01.548650Z",
     "shell.execute_reply.started": "2023-02-20T13:01:01.497394Z"
    }
   },
   "outputs": [
    {
     "name": "stdout",
     "output_type": "stream",
     "text": [
      "226 rows added, now a total of 678\n"
     ]
    }
   ],
   "source": [
    "# Substantive ergänzen\n",
    "mask = zahlwörter_all.lex == zahlwörter_all.lemma\n",
    "df = zahlwörter_all[mask].copy()\n",
    "df['lex']   = df.lex.str.capitalize()\n",
    "df['lemma'] = df.lex.str.capitalize()\n",
    "df['tag']   = 'NN'\n",
    "zahlwörter_all = pak.add_rows(zahlwörter_all, df)\n",
    "#df"
   ]
  },
  {
   "cell_type": "code",
   "execution_count": 117,
   "metadata": {
    "execution": {
     "iopub.execute_input": "2023-02-20T13:01:01.551074Z",
     "iopub.status.busy": "2023-02-20T13:01:01.550739Z",
     "iopub.status.idle": "2023-02-20T13:01:01.680929Z",
     "shell.execute_reply": "2023-02-20T13:01:01.680343Z",
     "shell.execute_reply.started": "2023-02-20T13:01:01.551045Z"
    }
   },
   "outputs": [
    {
     "data": {
      "text/html": [
       "<div>\n",
       "<style scoped>\n",
       "    .dataframe tbody tr th:only-of-type {\n",
       "        vertical-align: middle;\n",
       "    }\n",
       "\n",
       "    .dataframe tbody tr th {\n",
       "        vertical-align: top;\n",
       "    }\n",
       "\n",
       "    .dataframe thead th {\n",
       "        text-align: right;\n",
       "    }\n",
       "</style>\n",
       "<table border=\"1\" class=\"dataframe\">\n",
       "  <thead>\n",
       "    <tr style=\"text-align: right;\">\n",
       "      <th></th>\n",
       "      <th>lex</th>\n",
       "      <th>lemma</th>\n",
       "      <th>def</th>\n",
       "      <th>tag</th>\n",
       "      <th>tag_lex</th>\n",
       "      <th>genus</th>\n",
       "      <th>member</th>\n",
       "      <th>tab</th>\n",
       "    </tr>\n",
       "  </thead>\n",
       "  <tbody>\n",
       "    <tr>\n",
       "      <th>0</th>\n",
       "      <td>null</td>\n",
       "      <td>null</td>\n",
       "      <td>0</td>\n",
       "      <td>CARD</td>\n",
       "      <td>lex</td>\n",
       "      <td>f</td>\n",
       "      <td>Zahlwort</td>\n",
       "      <td>Zahlwort</td>\n",
       "    </tr>\n",
       "    <tr>\n",
       "      <th>237</th>\n",
       "      <td>10000</td>\n",
       "      <td>zehntausend</td>\n",
       "      <td>10000</td>\n",
       "      <td>CARD</td>\n",
       "      <td>lex</td>\n",
       "      <td>f</td>\n",
       "      <td>Zahlwort</td>\n",
       "      <td>Zahlwort</td>\n",
       "    </tr>\n",
       "    <tr>\n",
       "      <th>376</th>\n",
       "      <td>achtzigtausend</td>\n",
       "      <td>achtzigtausend</td>\n",
       "      <td>80000</td>\n",
       "      <td>CARD</td>\n",
       "      <td>lex</td>\n",
       "      <td>f</td>\n",
       "      <td>Zahlwort</td>\n",
       "      <td>Zahlwort</td>\n",
       "    </tr>\n",
       "    <tr>\n",
       "      <th>677</th>\n",
       "      <td>Neunhunderttausend</td>\n",
       "      <td>Neunhunderttausend</td>\n",
       "      <td>900000</td>\n",
       "      <td>NN</td>\n",
       "      <td>lex</td>\n",
       "      <td>f</td>\n",
       "      <td>Zahlwort</td>\n",
       "      <td>Zahlwort</td>\n",
       "    </tr>\n",
       "  </tbody>\n",
       "</table>\n",
       "</div>"
      ],
      "text/plain": [
       "                    lex               lemma     def   tag tag_lex genus  \\\n",
       "0                  null                null       0  CARD     lex     f   \n",
       "237               10000         zehntausend   10000  CARD     lex     f   \n",
       "376      achtzigtausend      achtzigtausend   80000  CARD     lex     f   \n",
       "677  Neunhunderttausend  Neunhunderttausend  900000    NN     lex     f   \n",
       "\n",
       "       member       tab  \n",
       "0    Zahlwort  Zahlwort  \n",
       "237  Zahlwort  Zahlwort  \n",
       "376  Zahlwort  Zahlwort  \n",
       "677  Zahlwort  Zahlwort  "
      ]
     },
     "execution_count": 117,
     "metadata": {},
     "output_type": "execute_result"
    }
   ],
   "source": [
    "# zahlwörter_all anschauen\n",
    "pak.sample(zahlwörter_all)"
   ]
  },
  {
   "cell_type": "markdown",
   "metadata": {},
   "source": [
    "## lexeme_manuell"
   ]
  },
  {
   "cell_type": "code",
   "execution_count": 118,
   "metadata": {
    "execution": {
     "iopub.execute_input": "2023-02-20T13:01:01.681778Z",
     "iopub.status.busy": "2023-02-20T13:01:01.681557Z",
     "iopub.status.idle": "2023-02-20T13:01:01.966492Z",
     "shell.execute_reply": "2023-02-20T13:01:01.965767Z",
     "shell.execute_reply.started": "2023-02-20T13:01:01.681756Z"
    }
   },
   "outputs": [
    {
     "name": "stdout",
     "output_type": "stream",
     "text": [
      "1794 rows loaded\n"
     ]
    }
   ],
   "source": [
    "# laden\n",
    "lexeme_manuell = pak.load_excel( lexeme_manuell_filename, tabcol='tab' )\n",
    "lexeme_manuell = pak.move_cols(  lexeme_manuell, 'tag_lex')"
   ]
  },
  {
   "cell_type": "code",
   "execution_count": 119,
   "metadata": {
    "execution": {
     "iopub.execute_input": "2023-02-20T13:01:01.968497Z",
     "iopub.status.busy": "2023-02-20T13:01:01.968211Z",
     "iopub.status.idle": "2023-02-20T13:01:02.028244Z",
     "shell.execute_reply": "2023-02-20T13:01:02.027301Z",
     "shell.execute_reply.started": "2023-02-20T13:01:01.968474Z"
    }
   },
   "outputs": [
    {
     "data": {
      "text/html": [
       "<div>\n",
       "<style scoped>\n",
       "    .dataframe tbody tr th:only-of-type {\n",
       "        vertical-align: middle;\n",
       "    }\n",
       "\n",
       "    .dataframe tbody tr th {\n",
       "        vertical-align: top;\n",
       "    }\n",
       "\n",
       "    .dataframe thead th {\n",
       "        text-align: right;\n",
       "    }\n",
       "</style>\n",
       "<table border=\"1\" class=\"dataframe\">\n",
       "  <thead>\n",
       "    <tr style=\"text-align: right;\">\n",
       "      <th></th>\n",
       "      <th>tag_lex</th>\n",
       "      <th>lex</th>\n",
       "      <th>lemma</th>\n",
       "      <th>tag</th>\n",
       "      <th>member</th>\n",
       "      <th>genus</th>\n",
       "      <th>tab</th>\n",
       "    </tr>\n",
       "  </thead>\n",
       "  <tbody>\n",
       "    <tr>\n",
       "      <th>154</th>\n",
       "      <td>Ptz2</td>\n",
       "      <td>gefriergetrocknet</td>\n",
       "      <td>gefriertrocknen</td>\n",
       "      <td>VVFIN</td>\n",
       "      <td>&lt;NA&gt;</td>\n",
       "      <td>&lt;NA&gt;</td>\n",
       "      <td>Partizipien</td>\n",
       "    </tr>\n",
       "    <tr>\n",
       "      <th>216</th>\n",
       "      <td>Ptz2</td>\n",
       "      <td>missraten</td>\n",
       "      <td>missraten</td>\n",
       "      <td>VVFIN</td>\n",
       "      <td>&lt;NA&gt;</td>\n",
       "      <td>&lt;NA&gt;</td>\n",
       "      <td>Partizipien</td>\n",
       "    </tr>\n",
       "    <tr>\n",
       "      <th>217</th>\n",
       "      <td>Ptz2</td>\n",
       "      <td>mißraten</td>\n",
       "      <td>missraten</td>\n",
       "      <td>VVFIN</td>\n",
       "      <td>&lt;NA&gt;</td>\n",
       "      <td>&lt;NA&gt;</td>\n",
       "      <td>Partizipien</td>\n",
       "    </tr>\n",
       "  </tbody>\n",
       "</table>\n",
       "</div>"
      ],
      "text/plain": [
       "    tag_lex                lex            lemma    tag member genus  \\\n",
       "154    Ptz2  gefriergetrocknet  gefriertrocknen  VVFIN   <NA>  <NA>   \n",
       "216    Ptz2          missraten        missraten  VVFIN   <NA>  <NA>   \n",
       "217    Ptz2           mißraten        missraten  VVFIN   <NA>  <NA>   \n",
       "\n",
       "             tab  \n",
       "154  Partizipien  \n",
       "216  Partizipien  \n",
       "217  Partizipien  "
      ]
     },
     "execution_count": 119,
     "metadata": {},
     "output_type": "execute_result"
    }
   ],
   "source": [
    "# suche_debug\n",
    "search_str(lexeme_manuell, suche_debug)"
   ]
  },
  {
   "cell_type": "code",
   "execution_count": 120,
   "metadata": {
    "execution": {
     "iopub.execute_input": "2023-02-20T13:01:02.029661Z",
     "iopub.status.busy": "2023-02-20T13:01:02.029364Z",
     "iopub.status.idle": "2023-02-20T13:01:02.068961Z",
     "shell.execute_reply": "2023-02-20T13:01:02.067756Z",
     "shell.execute_reply.started": "2023-02-20T13:01:02.029635Z"
    }
   },
   "outputs": [
    {
     "name": "stdout",
     "output_type": "stream",
     "text": [
      "check_mask:  0 rows\n"
     ]
    }
   ],
   "source": [
    "# Partizipien falsch definiert?\n",
    "mask1  = lexeme_manuell.tag_lex.str.startswith('Ptz')\n",
    "mask2A = lexeme_manuell.tab != 'Partizipien'\n",
    "mask2B = lexeme_manuell.tag != 'VVFIN'\n",
    "mask = mask1  &  (mask2A | mask2B)\n",
    "check_mask(lexeme_manuell,mask,0)\n",
    "#lexeme_manuell[mask]"
   ]
  },
  {
   "cell_type": "code",
   "execution_count": 121,
   "metadata": {
    "execution": {
     "iopub.execute_input": "2023-02-20T13:01:02.070226Z",
     "iopub.status.busy": "2023-02-20T13:01:02.069963Z",
     "iopub.status.idle": "2023-02-20T13:01:02.110380Z",
     "shell.execute_reply": "2023-02-20T13:01:02.109804Z",
     "shell.execute_reply.started": "2023-02-20T13:01:02.070205Z"
    }
   },
   "outputs": [
    {
     "name": "stdout",
     "output_type": "stream",
     "text": [
      "check_mask:  0 rows\n"
     ]
    }
   ],
   "source": [
    "# Abkürzungen falsch definiert?\n",
    "# Das Schlüsselwort 'Abkürzung' darf nirgends in lexeme_manuell vorkommen.\n",
    "mask1A = lexeme_manuell.member.str.contains('Abkürzung')\n",
    "mask1B = lexeme_manuell.member.str.contains('Abkürzung')\n",
    "mask = (mask1A | mask1B) \n",
    "check_mask(lexeme_manuell,mask,0)\n",
    "#lexeme_manuell[mask]"
   ]
  },
  {
   "cell_type": "code",
   "execution_count": 122,
   "metadata": {
    "execution": {
     "iopub.execute_input": "2023-02-20T13:01:02.139004Z",
     "iopub.status.busy": "2023-02-20T13:01:02.138727Z",
     "iopub.status.idle": "2023-02-20T13:01:02.306202Z",
     "shell.execute_reply": "2023-02-20T13:01:02.305244Z",
     "shell.execute_reply.started": "2023-02-20T13:01:02.138982Z"
    }
   },
   "outputs": [
    {
     "data": {
      "text/html": [
       "<div>\n",
       "<style scoped>\n",
       "    .dataframe tbody tr th:only-of-type {\n",
       "        vertical-align: middle;\n",
       "    }\n",
       "\n",
       "    .dataframe tbody tr th {\n",
       "        vertical-align: top;\n",
       "    }\n",
       "\n",
       "    .dataframe thead th {\n",
       "        text-align: right;\n",
       "    }\n",
       "</style>\n",
       "<table border=\"1\" class=\"dataframe\">\n",
       "  <thead>\n",
       "    <tr style=\"text-align: right;\">\n",
       "      <th></th>\n",
       "      <th>lex</th>\n",
       "      <th>lemma</th>\n",
       "      <th>def</th>\n",
       "      <th>tag</th>\n",
       "      <th>tag_lex</th>\n",
       "      <th>genus</th>\n",
       "      <th>member</th>\n",
       "      <th>tab</th>\n",
       "    </tr>\n",
       "  </thead>\n",
       "  <tbody>\n",
       "    <tr>\n",
       "      <th>0</th>\n",
       "      <td>null</td>\n",
       "      <td>null</td>\n",
       "      <td>0</td>\n",
       "      <td>CARD</td>\n",
       "      <td>lex</td>\n",
       "      <td>f</td>\n",
       "      <td>Zahlwort</td>\n",
       "      <td>Zahlwort</td>\n",
       "    </tr>\n",
       "    <tr>\n",
       "      <th>237</th>\n",
       "      <td>10000</td>\n",
       "      <td>zehntausend</td>\n",
       "      <td>10000</td>\n",
       "      <td>CARD</td>\n",
       "      <td>lex</td>\n",
       "      <td>f</td>\n",
       "      <td>Zahlwort</td>\n",
       "      <td>Zahlwort</td>\n",
       "    </tr>\n",
       "    <tr>\n",
       "      <th>376</th>\n",
       "      <td>achtzigtausend</td>\n",
       "      <td>achtzigtausend</td>\n",
       "      <td>80000</td>\n",
       "      <td>CARD</td>\n",
       "      <td>lex</td>\n",
       "      <td>f</td>\n",
       "      <td>Zahlwort</td>\n",
       "      <td>Zahlwort</td>\n",
       "    </tr>\n",
       "    <tr>\n",
       "      <th>677</th>\n",
       "      <td>Neunhunderttausend</td>\n",
       "      <td>Neunhunderttausend</td>\n",
       "      <td>900000</td>\n",
       "      <td>NN</td>\n",
       "      <td>lex</td>\n",
       "      <td>f</td>\n",
       "      <td>Zahlwort</td>\n",
       "      <td>Zahlwort</td>\n",
       "    </tr>\n",
       "  </tbody>\n",
       "</table>\n",
       "</div>"
      ],
      "text/plain": [
       "                    lex               lemma     def   tag tag_lex genus  \\\n",
       "0                  null                null       0  CARD     lex     f   \n",
       "237               10000         zehntausend   10000  CARD     lex     f   \n",
       "376      achtzigtausend      achtzigtausend   80000  CARD     lex     f   \n",
       "677  Neunhunderttausend  Neunhunderttausend  900000    NN     lex     f   \n",
       "\n",
       "       member       tab  \n",
       "0    Zahlwort  Zahlwort  \n",
       "237  Zahlwort  Zahlwort  \n",
       "376  Zahlwort  Zahlwort  \n",
       "677  Zahlwort  Zahlwort  "
      ]
     },
     "execution_count": 122,
     "metadata": {},
     "output_type": "execute_result"
    }
   ],
   "source": [
    "pak.sample(zahlwörter_all)"
   ]
  },
  {
   "cell_type": "code",
   "execution_count": 123,
   "metadata": {
    "execution": {
     "iopub.execute_input": "2023-02-20T13:01:02.308005Z",
     "iopub.status.busy": "2023-02-20T13:01:02.307696Z",
     "iopub.status.idle": "2023-02-20T13:01:02.342746Z",
     "shell.execute_reply": "2023-02-20T13:01:02.342118Z",
     "shell.execute_reply.started": "2023-02-20T13:01:02.307977Z"
    },
    "tags": []
   },
   "outputs": [
    {
     "name": "stdout",
     "output_type": "stream",
     "text": [
      "left_only:  {'def'}\n",
      "both:       {'genus', 'tag_lex', 'tab', 'lex', 'lemma', 'member', 'tag'}\n",
      "right_only: {}\n",
      "\n"
     ]
    }
   ],
   "source": [
    "s = zahlwörter_all.columns\n",
    "t = lexeme_manuell.columns\n",
    "bpy.minivenn(s,t, format='print')"
   ]
  },
  {
   "cell_type": "code",
   "execution_count": 124,
   "metadata": {
    "execution": {
     "iopub.execute_input": "2023-02-20T13:01:02.343948Z",
     "iopub.status.busy": "2023-02-20T13:01:02.343684Z",
     "iopub.status.idle": "2023-02-20T13:01:02.378653Z",
     "shell.execute_reply": "2023-02-20T13:01:02.377996Z",
     "shell.execute_reply.started": "2023-02-20T13:01:02.343923Z"
    }
   },
   "outputs": [],
   "source": [
    "# assert subset\n",
    "assert set(zahlwörter_all.columns) - set(['def']) <= set(lexeme_manuell.columns)"
   ]
  },
  {
   "cell_type": "code",
   "execution_count": 125,
   "metadata": {
    "execution": {
     "iopub.execute_input": "2023-02-20T13:01:02.380038Z",
     "iopub.status.busy": "2023-02-20T13:01:02.379636Z",
     "iopub.status.idle": "2023-02-20T13:01:02.436683Z",
     "shell.execute_reply": "2023-02-20T13:01:02.435858Z",
     "shell.execute_reply.started": "2023-02-20T13:01:02.380013Z"
    }
   },
   "outputs": [
    {
     "name": "stdout",
     "output_type": "stream",
     "text": [
      "678 rows added, now a total of 2472\n"
     ]
    }
   ],
   "source": [
    "# zahlwörter_all anfügen\n",
    "lexeme_manuell = pak.add_rows(lexeme_manuell, zahlwörter_all)"
   ]
  },
  {
   "cell_type": "code",
   "execution_count": 126,
   "metadata": {
    "execution": {
     "iopub.execute_input": "2023-02-20T13:01:02.439437Z",
     "iopub.status.busy": "2023-02-20T13:01:02.438498Z",
     "iopub.status.idle": "2023-02-20T13:01:02.502080Z",
     "shell.execute_reply": "2023-02-20T13:01:02.501122Z",
     "shell.execute_reply.started": "2023-02-20T13:01:02.439383Z"
    }
   },
   "outputs": [
    {
     "data": {
      "text/html": [
       "<div>\n",
       "<style scoped>\n",
       "    .dataframe tbody tr th:only-of-type {\n",
       "        vertical-align: middle;\n",
       "    }\n",
       "\n",
       "    .dataframe tbody tr th {\n",
       "        vertical-align: top;\n",
       "    }\n",
       "\n",
       "    .dataframe thead th {\n",
       "        text-align: right;\n",
       "    }\n",
       "</style>\n",
       "<table border=\"1\" class=\"dataframe\">\n",
       "  <thead>\n",
       "    <tr style=\"text-align: right;\">\n",
       "      <th></th>\n",
       "      <th>tab</th>\n",
       "      <th>tab_count</th>\n",
       "      <th>tab_percent</th>\n",
       "      <th>graph</th>\n",
       "    </tr>\n",
       "  </thead>\n",
       "  <tbody>\n",
       "    <tr>\n",
       "      <th>0</th>\n",
       "      <td>esszett</td>\n",
       "      <td>729</td>\n",
       "      <td>29.5</td>\n",
       "      <td>##############</td>\n",
       "    </tr>\n",
       "    <tr>\n",
       "      <th>1</th>\n",
       "      <td>Zahlwort</td>\n",
       "      <td>678</td>\n",
       "      <td>27.4</td>\n",
       "      <td>#############</td>\n",
       "    </tr>\n",
       "    <tr>\n",
       "      <th>2</th>\n",
       "      <td>Partizipien</td>\n",
       "      <td>413</td>\n",
       "      <td>16.7</td>\n",
       "      <td>########</td>\n",
       "    </tr>\n",
       "    <tr>\n",
       "      <th>3</th>\n",
       "      <td>Diverses</td>\n",
       "      <td>300</td>\n",
       "      <td>12.1</td>\n",
       "      <td>######</td>\n",
       "    </tr>\n",
       "    <tr>\n",
       "      <th>4</th>\n",
       "      <td>Abkuerzungen</td>\n",
       "      <td>156</td>\n",
       "      <td>6.3</td>\n",
       "      <td>###</td>\n",
       "    </tr>\n",
       "    <tr>\n",
       "      <th>5</th>\n",
       "      <td>FM</td>\n",
       "      <td>102</td>\n",
       "      <td>4.1</td>\n",
       "      <td>##</td>\n",
       "    </tr>\n",
       "    <tr>\n",
       "      <th>6</th>\n",
       "      <td>Symbole</td>\n",
       "      <td>48</td>\n",
       "      <td>1.9</td>\n",
       "      <td></td>\n",
       "    </tr>\n",
       "    <tr>\n",
       "      <th>7</th>\n",
       "      <td>Partikel</td>\n",
       "      <td>44</td>\n",
       "      <td>1.8</td>\n",
       "      <td></td>\n",
       "    </tr>\n",
       "    <tr>\n",
       "      <th>8</th>\n",
       "      <td>Namen</td>\n",
       "      <td>2</td>\n",
       "      <td>0.1</td>\n",
       "      <td></td>\n",
       "    </tr>\n",
       "  </tbody>\n",
       "</table>\n",
       "</div>"
      ],
      "text/plain": [
       "            tab  tab_count  tab_percent           graph\n",
       "0       esszett        729         29.5  ##############\n",
       "1      Zahlwort        678         27.4   #############\n",
       "2   Partizipien        413         16.7        ########\n",
       "3      Diverses        300         12.1          ######\n",
       "4  Abkuerzungen        156          6.3             ###\n",
       "5            FM        102          4.1              ##\n",
       "6       Symbole         48          1.9                \n",
       "7      Partikel         44          1.8                \n",
       "8         Namen          2          0.1                "
      ]
     },
     "execution_count": 126,
     "metadata": {},
     "output_type": "execute_result"
    }
   ],
   "source": [
    "# tab analysieren\n",
    "pak.analyse_freqs( lexeme_manuell, cols='tab')"
   ]
  },
  {
   "cell_type": "code",
   "execution_count": 127,
   "metadata": {
    "execution": {
     "iopub.execute_input": "2023-02-20T13:01:02.503306Z",
     "iopub.status.busy": "2023-02-20T13:01:02.503061Z",
     "iopub.status.idle": "2023-02-20T13:01:02.577699Z",
     "shell.execute_reply": "2023-02-20T13:01:02.576942Z",
     "shell.execute_reply.started": "2023-02-20T13:01:02.503284Z"
    }
   },
   "outputs": [
    {
     "name": "stdout",
     "output_type": "stream",
     "text": [
      "check_mask:  0 rows\n"
     ]
    }
   ],
   "source": [
    "# NaN\n",
    "\n",
    "# def\n",
    "lexeme_manuell['def'] = lexeme_manuell['def'].fillna('')\n",
    "\n",
    "# member\n",
    "mask = lexeme_manuell.member.isnull()   |   lexeme_manuell.member.isin(['nan'])\n",
    "lexeme_manuell.loc[mask,'member'] = ''\n",
    "lexeme_manuell.member += ' manuell'\n",
    "\n",
    "# lemma und lex\n",
    "mask = lexeme_manuell.lemma.isnull()   |   lexeme_manuell.lemma.isin(['nan',''])\n",
    "lexeme_manuell.loc[mask,'lemma'] = lexeme_manuell[mask].lex\n",
    "lexeme_manuell.loc[mask,'member'] += ' ergänzt'\n",
    "\n",
    "mask = lexeme_manuell.lex.isnull()   |   lexeme_manuell.lex.isin(['nan',''])\n",
    "lexeme_manuell.loc[mask,'lex'] = lexeme_manuell[mask].lemma\n",
    "lexeme_manuell.loc[mask,'member'] += ' ergänzt'\n",
    "\n",
    "# genus\n",
    "mask = lexeme_manuell.genus.isnull()   |   lexeme_manuell.genus.isin(['nan'])\n",
    "lexeme_manuell.loc[mask,'genus'] = ''\n",
    "\n",
    "# tag_lex\n",
    "mask = lexeme_manuell.tag_lex.isnull()   |   lexeme_manuell.tag_lex.isin(['nan'])\n",
    "lexeme_manuell.loc[mask,'tag_lex'] = ''\n",
    "\n",
    "mask = (lexeme_manuell.lex != lexeme_manuell.lemma)   &   (lexeme_manuell.tag_lex == '')\n",
    "lexeme_manuell.loc[mask,'tag_lex'] = 'lex'\n",
    "\n",
    "mask = (lexeme_manuell.lex == lexeme_manuell.lemma)   &   (  (lexeme_manuell.tag_lex == 'lex')  | (lexeme_manuell.tag_lex == '')  )\n",
    "lexeme_manuell.loc[mask,'tag_lex'] = 'lemma'\n",
    "\n",
    "# tag\n",
    "mask = lexeme_manuell.tag.isnull()   |   lexeme_manuell.tag.isin(['nan',''])\n",
    "check_mask( lexeme_manuell, mask, 0, 0)\n",
    "\n",
    "# Abschluss\n",
    "lexeme_manuell.member = lexeme_manuell.member.str.strip()\n",
    "lexeme_manuell = pak.rename_col(lexeme_manuell, 'genus','Genus')\n",
    "\n",
    "#lexeme_manuell = pak.move_cols(lexeme_manuell, ['Genus','abk'], -1)\n",
    "#lexeme_manuell['abk'] = ''"
   ]
  },
  {
   "cell_type": "code",
   "execution_count": 128,
   "metadata": {
    "execution": {
     "iopub.execute_input": "2023-02-20T13:01:02.578920Z",
     "iopub.status.busy": "2023-02-20T13:01:02.578443Z",
     "iopub.status.idle": "2023-02-20T13:01:02.651765Z",
     "shell.execute_reply": "2023-02-20T13:01:02.651098Z",
     "shell.execute_reply.started": "2023-02-20T13:01:02.578893Z"
    }
   },
   "outputs": [
    {
     "name": "stdout",
     "output_type": "stream",
     "text": [
      "Move 103 rows from 2472\n",
      "103 rows\n"
     ]
    },
    {
     "data": {
      "text/html": [
       "<div>\n",
       "<style scoped>\n",
       "    .dataframe tbody tr th:only-of-type {\n",
       "        vertical-align: middle;\n",
       "    }\n",
       "\n",
       "    .dataframe tbody tr th {\n",
       "        vertical-align: top;\n",
       "    }\n",
       "\n",
       "    .dataframe thead th {\n",
       "        text-align: right;\n",
       "    }\n",
       "</style>\n",
       "<table border=\"1\" class=\"dataframe\">\n",
       "  <thead>\n",
       "    <tr style=\"text-align: right;\">\n",
       "      <th></th>\n",
       "      <th>tag_lex</th>\n",
       "      <th>lex</th>\n",
       "      <th>lemma</th>\n",
       "      <th>tag</th>\n",
       "      <th>member</th>\n",
       "      <th>Genus</th>\n",
       "      <th>tab</th>\n",
       "      <th>def</th>\n",
       "      <th>msg</th>\n",
       "    </tr>\n",
       "  </thead>\n",
       "  <tbody>\n",
       "    <tr>\n",
       "      <th>889</th>\n",
       "      <td>lex</td>\n",
       "      <td>einflußreiche</td>\n",
       "      <td>einflussreich</td>\n",
       "      <td>ADJA</td>\n",
       "      <td>lexAlt manuell</td>\n",
       "      <td></td>\n",
       "      <td>esszett</td>\n",
       "      <td></td>\n",
       "      <td>7</td>\n",
       "    </tr>\n",
       "    <tr>\n",
       "      <th>902</th>\n",
       "      <td>lex</td>\n",
       "      <td>gewiße</td>\n",
       "      <td>gewiss</td>\n",
       "      <td>ADJA</td>\n",
       "      <td>lexAlt manuell</td>\n",
       "      <td></td>\n",
       "      <td>esszett</td>\n",
       "      <td></td>\n",
       "      <td>7</td>\n",
       "    </tr>\n",
       "    <tr>\n",
       "      <th>907</th>\n",
       "      <td>lex</td>\n",
       "      <td>gräßlicher</td>\n",
       "      <td>grässlich</td>\n",
       "      <td>ADJA</td>\n",
       "      <td>lexAlt manuell</td>\n",
       "      <td></td>\n",
       "      <td>esszett</td>\n",
       "      <td></td>\n",
       "      <td>7</td>\n",
       "    </tr>\n",
       "    <tr>\n",
       "      <th>909</th>\n",
       "      <td>lex</td>\n",
       "      <td>gräßliches</td>\n",
       "      <td>grässlich</td>\n",
       "      <td>ADJA</td>\n",
       "      <td>lexAlt manuell</td>\n",
       "      <td></td>\n",
       "      <td>esszett</td>\n",
       "      <td></td>\n",
       "      <td>7</td>\n",
       "    </tr>\n",
       "    <tr>\n",
       "      <th>929</th>\n",
       "      <td>lex</td>\n",
       "      <td>läßliche</td>\n",
       "      <td>lässlich</td>\n",
       "      <td>ADJA</td>\n",
       "      <td>lexAlt manuell</td>\n",
       "      <td></td>\n",
       "      <td>esszett</td>\n",
       "      <td></td>\n",
       "      <td>7</td>\n",
       "    </tr>\n",
       "    <tr>\n",
       "      <th>...</th>\n",
       "      <td>...</td>\n",
       "      <td>...</td>\n",
       "      <td>...</td>\n",
       "      <td>...</td>\n",
       "      <td>...</td>\n",
       "      <td>...</td>\n",
       "      <td>...</td>\n",
       "      <td>...</td>\n",
       "      <td>...</td>\n",
       "    </tr>\n",
       "    <tr>\n",
       "      <th>2458</th>\n",
       "      <td>lemma</td>\n",
       "      <td>Fünfzigtausend</td>\n",
       "      <td>Fünfzigtausend</td>\n",
       "      <td>NN</td>\n",
       "      <td>Zahlwort manuell</td>\n",
       "      <td>f</td>\n",
       "      <td>Zahlwort</td>\n",
       "      <td>50000</td>\n",
       "      <td>7</td>\n",
       "    </tr>\n",
       "    <tr>\n",
       "      <th>2459</th>\n",
       "      <td>lemma</td>\n",
       "      <td>Sechzigtausend</td>\n",
       "      <td>Sechzigtausend</td>\n",
       "      <td>NN</td>\n",
       "      <td>Zahlwort manuell</td>\n",
       "      <td>f</td>\n",
       "      <td>Zahlwort</td>\n",
       "      <td>60000</td>\n",
       "      <td>7</td>\n",
       "    </tr>\n",
       "    <tr>\n",
       "      <th>2460</th>\n",
       "      <td>lemma</td>\n",
       "      <td>Siebzigtausend</td>\n",
       "      <td>Siebzigtausend</td>\n",
       "      <td>NN</td>\n",
       "      <td>Zahlwort manuell</td>\n",
       "      <td>f</td>\n",
       "      <td>Zahlwort</td>\n",
       "      <td>70000</td>\n",
       "      <td>7</td>\n",
       "    </tr>\n",
       "    <tr>\n",
       "      <th>2461</th>\n",
       "      <td>lemma</td>\n",
       "      <td>Achtzigtausend</td>\n",
       "      <td>Achtzigtausend</td>\n",
       "      <td>NN</td>\n",
       "      <td>Zahlwort manuell</td>\n",
       "      <td>f</td>\n",
       "      <td>Zahlwort</td>\n",
       "      <td>80000</td>\n",
       "      <td>7</td>\n",
       "    </tr>\n",
       "    <tr>\n",
       "      <th>2462</th>\n",
       "      <td>lemma</td>\n",
       "      <td>Neunzigtausend</td>\n",
       "      <td>Neunzigtausend</td>\n",
       "      <td>NN</td>\n",
       "      <td>Zahlwort manuell</td>\n",
       "      <td>f</td>\n",
       "      <td>Zahlwort</td>\n",
       "      <td>90000</td>\n",
       "      <td>7</td>\n",
       "    </tr>\n",
       "  </tbody>\n",
       "</table>\n",
       "<p>103 rows × 9 columns</p>\n",
       "</div>"
      ],
      "text/plain": [
       "     tag_lex             lex           lemma   tag            member Genus  \\\n",
       "889      lex   einflußreiche   einflussreich  ADJA    lexAlt manuell         \n",
       "902      lex          gewiße          gewiss  ADJA    lexAlt manuell         \n",
       "907      lex      gräßlicher       grässlich  ADJA    lexAlt manuell         \n",
       "909      lex      gräßliches       grässlich  ADJA    lexAlt manuell         \n",
       "929      lex        läßliche        lässlich  ADJA    lexAlt manuell         \n",
       "...      ...             ...             ...   ...               ...   ...   \n",
       "2458   lemma  Fünfzigtausend  Fünfzigtausend    NN  Zahlwort manuell     f   \n",
       "2459   lemma  Sechzigtausend  Sechzigtausend    NN  Zahlwort manuell     f   \n",
       "2460   lemma  Siebzigtausend  Siebzigtausend    NN  Zahlwort manuell     f   \n",
       "2461   lemma  Achtzigtausend  Achtzigtausend    NN  Zahlwort manuell     f   \n",
       "2462   lemma  Neunzigtausend  Neunzigtausend    NN  Zahlwort manuell     f   \n",
       "\n",
       "           tab    def msg  \n",
       "889    esszett          7  \n",
       "902    esszett          7  \n",
       "907    esszett          7  \n",
       "909    esszett          7  \n",
       "929    esszett          7  \n",
       "...        ...    ...  ..  \n",
       "2458  Zahlwort  50000   7  \n",
       "2459  Zahlwort  60000   7  \n",
       "2460  Zahlwort  70000   7  \n",
       "2461  Zahlwort  80000   7  \n",
       "2462  Zahlwort  90000   7  \n",
       "\n",
       "[103 rows x 9 columns]"
      ]
     },
     "execution_count": 128,
     "metadata": {},
     "output_type": "execute_result"
    }
   ],
   "source": [
    "# Dups löschen\n",
    "mask = lexeme_manuell.duplicated()\n",
    "lexeme_manuell, df = pak.move_rows(lexeme_manuell,mask)\n",
    "grid(df)"
   ]
  },
  {
   "cell_type": "code",
   "execution_count": 129,
   "metadata": {
    "execution": {
     "iopub.execute_input": "2023-02-20T13:01:02.656074Z",
     "iopub.status.busy": "2023-02-20T13:01:02.655712Z",
     "iopub.status.idle": "2023-02-20T13:01:02.865546Z",
     "shell.execute_reply": "2023-02-20T13:01:02.864639Z",
     "shell.execute_reply.started": "2023-02-20T13:01:02.656049Z"
    }
   },
   "outputs": [
    {
     "data": {
      "text/html": [
       "<div>\n",
       "<style scoped>\n",
       "    .dataframe tbody tr th:only-of-type {\n",
       "        vertical-align: middle;\n",
       "    }\n",
       "\n",
       "    .dataframe tbody tr th {\n",
       "        vertical-align: top;\n",
       "    }\n",
       "\n",
       "    .dataframe thead th {\n",
       "        text-align: right;\n",
       "    }\n",
       "</style>\n",
       "<table border=\"1\" class=\"dataframe\">\n",
       "  <thead>\n",
       "    <tr style=\"text-align: right;\">\n",
       "      <th></th>\n",
       "      <th>tag_lex</th>\n",
       "      <th>lex</th>\n",
       "      <th>lemma</th>\n",
       "      <th>tag</th>\n",
       "      <th>member</th>\n",
       "      <th>Genus</th>\n",
       "      <th>tab</th>\n",
       "      <th>def</th>\n",
       "    </tr>\n",
       "  </thead>\n",
       "  <tbody>\n",
       "    <tr>\n",
       "      <th>0</th>\n",
       "      <td>Ptz2</td>\n",
       "      <td>abberufen</td>\n",
       "      <td>abberufen</td>\n",
       "      <td>VVFIN</td>\n",
       "      <td>manuell</td>\n",
       "      <td></td>\n",
       "      <td>Partizipien</td>\n",
       "      <td></td>\n",
       "    </tr>\n",
       "    <tr>\n",
       "      <th>481</th>\n",
       "      <td>lex</td>\n",
       "      <td>Kids</td>\n",
       "      <td>Kid</td>\n",
       "      <td>NN</td>\n",
       "      <td>manuell</td>\n",
       "      <td>n</td>\n",
       "      <td>Diverses</td>\n",
       "      <td></td>\n",
       "    </tr>\n",
       "    <tr>\n",
       "      <th>496</th>\n",
       "      <td>lex</td>\n",
       "      <td>musses</td>\n",
       "      <td>müssen</td>\n",
       "      <td>VMFIN</td>\n",
       "      <td>manuell</td>\n",
       "      <td></td>\n",
       "      <td>Diverses</td>\n",
       "      <td></td>\n",
       "    </tr>\n",
       "    <tr>\n",
       "      <th>553</th>\n",
       "      <td>ADV</td>\n",
       "      <td>zu viele</td>\n",
       "      <td>zu viel</td>\n",
       "      <td>ADV</td>\n",
       "      <td>manuell</td>\n",
       "      <td></td>\n",
       "      <td>Diverses</td>\n",
       "      <td></td>\n",
       "    </tr>\n",
       "    <tr>\n",
       "      <th>652</th>\n",
       "      <td>lemma</td>\n",
       "      <td>5G</td>\n",
       "      <td>5G</td>\n",
       "      <td>NN</td>\n",
       "      <td>manuell ergänzt</td>\n",
       "      <td></td>\n",
       "      <td>Diverses</td>\n",
       "      <td></td>\n",
       "    </tr>\n",
       "    <tr>\n",
       "      <th>713</th>\n",
       "      <td>lex</td>\n",
       "      <td>❀</td>\n",
       "      <td>_</td>\n",
       "      <td>$(</td>\n",
       "      <td>manuell</td>\n",
       "      <td></td>\n",
       "      <td>Symbole</td>\n",
       "      <td></td>\n",
       "    </tr>\n",
       "    <tr>\n",
       "      <th>715</th>\n",
       "      <td>syn</td>\n",
       "      <td>[</td>\n",
       "      <td>(</td>\n",
       "      <td>$(</td>\n",
       "      <td>manuell</td>\n",
       "      <td></td>\n",
       "      <td>Symbole</td>\n",
       "      <td></td>\n",
       "    </tr>\n",
       "    <tr>\n",
       "      <th>748</th>\n",
       "      <td>lemma</td>\n",
       "      <td>!</td>\n",
       "      <td>!</td>\n",
       "      <td>$.</td>\n",
       "      <td>manuell ergänzt</td>\n",
       "      <td></td>\n",
       "      <td>Symbole</td>\n",
       "      <td></td>\n",
       "    </tr>\n",
       "    <tr>\n",
       "      <th>751</th>\n",
       "      <td>lemma</td>\n",
       "      <td>…</td>\n",
       "      <td>…</td>\n",
       "      <td>$(</td>\n",
       "      <td>manuell ergänzt</td>\n",
       "      <td></td>\n",
       "      <td>Symbole</td>\n",
       "      <td></td>\n",
       "    </tr>\n",
       "    <tr>\n",
       "      <th>1014</th>\n",
       "      <td>lex</td>\n",
       "      <td>gewiß</td>\n",
       "      <td>gewiss</td>\n",
       "      <td>ADV</td>\n",
       "      <td>modal lexAlt manuell</td>\n",
       "      <td></td>\n",
       "      <td>esszett</td>\n",
       "      <td></td>\n",
       "    </tr>\n",
       "    <tr>\n",
       "      <th>1673</th>\n",
       "      <td>lex</td>\n",
       "      <td>Mo-Fr</td>\n",
       "      <td>Montag-Freitag</td>\n",
       "      <td>NN</td>\n",
       "      <td>Einheit Wortverbindung manuell</td>\n",
       "      <td></td>\n",
       "      <td>Abkuerzungen</td>\n",
       "      <td></td>\n",
       "    </tr>\n",
       "    <tr>\n",
       "      <th>2471</th>\n",
       "      <td>lemma</td>\n",
       "      <td>Neunhunderttausend</td>\n",
       "      <td>Neunhunderttausend</td>\n",
       "      <td>NN</td>\n",
       "      <td>Zahlwort manuell</td>\n",
       "      <td>f</td>\n",
       "      <td>Zahlwort</td>\n",
       "      <td>900000</td>\n",
       "    </tr>\n",
       "  </tbody>\n",
       "</table>\n",
       "</div>"
      ],
      "text/plain": [
       "     tag_lex                 lex               lemma    tag  \\\n",
       "0       Ptz2           abberufen           abberufen  VVFIN   \n",
       "481      lex                Kids                 Kid     NN   \n",
       "496      lex              musses              müssen  VMFIN   \n",
       "553      ADV            zu viele             zu viel    ADV   \n",
       "652    lemma                  5G                  5G     NN   \n",
       "713      lex                   ❀                   _     $(   \n",
       "715      syn                   [                   (     $(   \n",
       "748    lemma                   !                   !     $.   \n",
       "751    lemma                   …                   …     $(   \n",
       "1014     lex               gewiß              gewiss    ADV   \n",
       "1673     lex               Mo-Fr      Montag-Freitag     NN   \n",
       "2471   lemma  Neunhunderttausend  Neunhunderttausend     NN   \n",
       "\n",
       "                              member Genus           tab     def  \n",
       "0                            manuell         Partizipien          \n",
       "481                          manuell     n      Diverses          \n",
       "496                          manuell            Diverses          \n",
       "553                          manuell            Diverses          \n",
       "652                  manuell ergänzt            Diverses          \n",
       "713                          manuell             Symbole          \n",
       "715                          manuell             Symbole          \n",
       "748                  manuell ergänzt             Symbole          \n",
       "751                  manuell ergänzt             Symbole          \n",
       "1014            modal lexAlt manuell             esszett          \n",
       "1673  Einheit Wortverbindung manuell        Abkuerzungen          \n",
       "2471                Zahlwort manuell     f      Zahlwort  900000  "
      ]
     },
     "execution_count": 129,
     "metadata": {},
     "output_type": "execute_result"
    }
   ],
   "source": [
    "pak.sample(lexeme_manuell)"
   ]
  },
  {
   "cell_type": "code",
   "execution_count": 130,
   "metadata": {
    "execution": {
     "iopub.execute_input": "2023-02-20T13:01:02.869863Z",
     "iopub.status.busy": "2023-02-20T13:01:02.869582Z",
     "iopub.status.idle": "2023-02-20T13:01:02.936145Z",
     "shell.execute_reply": "2023-02-20T13:01:02.935520Z",
     "shell.execute_reply.started": "2023-02-20T13:01:02.869841Z"
    }
   },
   "outputs": [
    {
     "data": {
      "text/html": [
       "<div>\n",
       "<style scoped>\n",
       "    .dataframe tbody tr th:only-of-type {\n",
       "        vertical-align: middle;\n",
       "    }\n",
       "\n",
       "    .dataframe tbody tr th {\n",
       "        vertical-align: top;\n",
       "    }\n",
       "\n",
       "    .dataframe thead th {\n",
       "        text-align: right;\n",
       "    }\n",
       "</style>\n",
       "<table border=\"1\" class=\"dataframe\">\n",
       "  <thead>\n",
       "    <tr style=\"text-align: right;\">\n",
       "      <th></th>\n",
       "      <th>tag_lex</th>\n",
       "      <th>lex</th>\n",
       "      <th>lemma</th>\n",
       "      <th>tag</th>\n",
       "      <th>member</th>\n",
       "      <th>Genus</th>\n",
       "      <th>tab</th>\n",
       "      <th>def</th>\n",
       "    </tr>\n",
       "  </thead>\n",
       "  <tbody>\n",
       "    <tr>\n",
       "      <th>154</th>\n",
       "      <td>Ptz2</td>\n",
       "      <td>gefriergetrocknet</td>\n",
       "      <td>gefriertrocknen</td>\n",
       "      <td>VVFIN</td>\n",
       "      <td>manuell</td>\n",
       "      <td></td>\n",
       "      <td>Partizipien</td>\n",
       "      <td></td>\n",
       "    </tr>\n",
       "    <tr>\n",
       "      <th>216</th>\n",
       "      <td>Ptz2</td>\n",
       "      <td>missraten</td>\n",
       "      <td>missraten</td>\n",
       "      <td>VVFIN</td>\n",
       "      <td>manuell</td>\n",
       "      <td></td>\n",
       "      <td>Partizipien</td>\n",
       "      <td></td>\n",
       "    </tr>\n",
       "    <tr>\n",
       "      <th>217</th>\n",
       "      <td>Ptz2</td>\n",
       "      <td>mißraten</td>\n",
       "      <td>missraten</td>\n",
       "      <td>VVFIN</td>\n",
       "      <td>manuell</td>\n",
       "      <td></td>\n",
       "      <td>Partizipien</td>\n",
       "      <td></td>\n",
       "    </tr>\n",
       "  </tbody>\n",
       "</table>\n",
       "</div>"
      ],
      "text/plain": [
       "    tag_lex                lex            lemma    tag   member Genus  \\\n",
       "154    Ptz2  gefriergetrocknet  gefriertrocknen  VVFIN  manuell         \n",
       "216    Ptz2          missraten        missraten  VVFIN  manuell         \n",
       "217    Ptz2           mißraten        missraten  VVFIN  manuell         \n",
       "\n",
       "             tab def  \n",
       "154  Partizipien      \n",
       "216  Partizipien      \n",
       "217  Partizipien      "
      ]
     },
     "execution_count": 130,
     "metadata": {},
     "output_type": "execute_result"
    }
   ],
   "source": [
    "# suche_debug\n",
    "search_str(lexeme_manuell, suche_debug)"
   ]
  },
  {
   "cell_type": "code",
   "execution_count": 131,
   "metadata": {
    "execution": {
     "iopub.execute_input": "2023-02-20T13:01:02.940206Z",
     "iopub.status.busy": "2023-02-20T13:01:02.939855Z",
     "iopub.status.idle": "2023-02-20T13:01:02.996988Z",
     "shell.execute_reply": "2023-02-20T13:01:02.994914Z",
     "shell.execute_reply.started": "2023-02-20T13:01:02.940182Z"
    }
   },
   "outputs": [],
   "source": [
    "# strip\n",
    "for c in lexeme_manuell.columns:\n",
    "    lexeme_manuell[c] = lexeme_manuell[c].str.replace('  ',' ').str.strip()"
   ]
  },
  {
   "cell_type": "code",
   "execution_count": 132,
   "metadata": {
    "execution": {
     "iopub.execute_input": "2023-02-20T13:01:02.998934Z",
     "iopub.status.busy": "2023-02-20T13:01:02.998435Z",
     "iopub.status.idle": "2023-02-20T13:01:03.067706Z",
     "shell.execute_reply": "2023-02-20T13:01:03.066995Z",
     "shell.execute_reply.started": "2023-02-20T13:01:02.998889Z"
    }
   },
   "outputs": [
    {
     "data": {
      "text/html": [
       "<div>\n",
       "<style scoped>\n",
       "    .dataframe tbody tr th:only-of-type {\n",
       "        vertical-align: middle;\n",
       "    }\n",
       "\n",
       "    .dataframe tbody tr th {\n",
       "        vertical-align: top;\n",
       "    }\n",
       "\n",
       "    .dataframe thead th {\n",
       "        text-align: right;\n",
       "    }\n",
       "</style>\n",
       "<table border=\"1\" class=\"dataframe\">\n",
       "  <thead>\n",
       "    <tr style=\"text-align: right;\">\n",
       "      <th></th>\n",
       "      <th>member</th>\n",
       "      <th>member_count</th>\n",
       "      <th>member_percent</th>\n",
       "      <th>graph</th>\n",
       "    </tr>\n",
       "  </thead>\n",
       "  <tbody>\n",
       "    <tr>\n",
       "      <th>0</th>\n",
       "      <td>manuell</td>\n",
       "      <td>2369</td>\n",
       "      <td>57.1</td>\n",
       "      <td>############################</td>\n",
       "    </tr>\n",
       "    <tr>\n",
       "      <th>1</th>\n",
       "      <td>lexAlt</td>\n",
       "      <td>653</td>\n",
       "      <td>15.7</td>\n",
       "      <td>#######</td>\n",
       "    </tr>\n",
       "    <tr>\n",
       "      <th>2</th>\n",
       "      <td>Zahlwort</td>\n",
       "      <td>651</td>\n",
       "      <td>15.7</td>\n",
       "      <td>#######</td>\n",
       "    </tr>\n",
       "    <tr>\n",
       "      <th>3</th>\n",
       "      <td>ergänzt</td>\n",
       "      <td>345</td>\n",
       "      <td>8.3</td>\n",
       "      <td>####</td>\n",
       "    </tr>\n",
       "    <tr>\n",
       "      <th>4</th>\n",
       "      <td>Einheit</td>\n",
       "      <td>56</td>\n",
       "      <td>1.3</td>\n",
       "      <td></td>\n",
       "    </tr>\n",
       "    <tr>\n",
       "      <th>5</th>\n",
       "      <td>PRE</td>\n",
       "      <td>42</td>\n",
       "      <td>1.0</td>\n",
       "      <td></td>\n",
       "    </tr>\n",
       "    <tr>\n",
       "      <th>6</th>\n",
       "      <td>Wortverbindung</td>\n",
       "      <td>28</td>\n",
       "      <td>0.7</td>\n",
       "      <td></td>\n",
       "    </tr>\n",
       "    <tr>\n",
       "      <th>7</th>\n",
       "      <td>Ort</td>\n",
       "      <td>2</td>\n",
       "      <td>0.0</td>\n",
       "      <td></td>\n",
       "    </tr>\n",
       "    <tr>\n",
       "      <th>8</th>\n",
       "      <td>modal</td>\n",
       "      <td>1</td>\n",
       "      <td>0.0</td>\n",
       "      <td></td>\n",
       "    </tr>\n",
       "    <tr>\n",
       "      <th>9</th>\n",
       "      <td>Land</td>\n",
       "      <td>1</td>\n",
       "      <td>0.0</td>\n",
       "      <td></td>\n",
       "    </tr>\n",
       "    <tr>\n",
       "      <th>10</th>\n",
       "      <td>Vorname</td>\n",
       "      <td>1</td>\n",
       "      <td>0.0</td>\n",
       "      <td></td>\n",
       "    </tr>\n",
       "    <tr>\n",
       "      <th>11</th>\n",
       "      <td>Toponym</td>\n",
       "      <td>1</td>\n",
       "      <td>0.0</td>\n",
       "      <td></td>\n",
       "    </tr>\n",
       "  </tbody>\n",
       "</table>\n",
       "</div>"
      ],
      "text/plain": [
       "            member  member_count  member_percent                         graph\n",
       "0          manuell          2369            57.1  ############################\n",
       "1           lexAlt           653            15.7                       #######\n",
       "2         Zahlwort           651            15.7                       #######\n",
       "3          ergänzt           345             8.3                          ####\n",
       "4          Einheit            56             1.3                              \n",
       "5              PRE            42             1.0                              \n",
       "6   Wortverbindung            28             0.7                              \n",
       "7              Ort             2             0.0                              \n",
       "8            modal             1             0.0                              \n",
       "9             Land             1             0.0                              \n",
       "10         Vorname             1             0.0                              \n",
       "11         Toponym             1             0.0                              "
      ]
     },
     "execution_count": 132,
     "metadata": {},
     "output_type": "execute_result"
    }
   ],
   "source": [
    "# member analysieren\n",
    "pak.analyse_freqs( lexeme_manuell, cols='member', splits=' ')"
   ]
  },
  {
   "cell_type": "code",
   "execution_count": 133,
   "metadata": {
    "execution": {
     "iopub.execute_input": "2023-02-20T13:01:03.071469Z",
     "iopub.status.busy": "2023-02-20T13:01:03.071200Z",
     "iopub.status.idle": "2023-02-20T13:01:03.123802Z",
     "shell.execute_reply": "2023-02-20T13:01:03.122888Z",
     "shell.execute_reply.started": "2023-02-20T13:01:03.071448Z"
    }
   },
   "outputs": [],
   "source": [
    "# Derzeit nicht nötig: Ersetzungen im member\n",
    "r = {  'Partizip1'          :  'Ptz1',        \n",
    "       'Partizip_1'         :  'Ptz1',       \n",
    "       'Partizip2'          :  'Ptz2',        \n",
    "       'Partizip_2'         :  'Ptz2',   \n",
    "       'Abkürzungen'        :  'Abkürzung',      \n",
    "       'Abkürzung Abkürzung':  'Abkürzung',        \n",
    "    }\n",
    "lexeme_manuell['member'] = pak.replace_str(lexeme_manuell.member, r)\n",
    "#grid(lexeme_manuell)"
   ]
  },
  {
   "cell_type": "code",
   "execution_count": 134,
   "metadata": {
    "execution": {
     "iopub.execute_input": "2023-02-20T13:01:03.132439Z",
     "iopub.status.busy": "2023-02-20T13:01:03.131885Z",
     "iopub.status.idle": "2023-02-20T13:01:03.188013Z",
     "shell.execute_reply": "2023-02-20T13:01:03.187183Z",
     "shell.execute_reply.started": "2023-02-20T13:01:03.132406Z"
    }
   },
   "outputs": [],
   "source": [
    "# Partizipien: tag_lex setzen \n",
    "mask = lexeme_manuell.member.str.contains('Ptz1')\n",
    "lexeme_manuell.loc[mask,'tag_lex'] = 'Ptz1'\n",
    "\n",
    "mask = lexeme_manuell.member.str.contains('Ptz2')\n",
    "lexeme_manuell.loc[mask,'tag_lex'] = 'Ptz2'"
   ]
  },
  {
   "cell_type": "code",
   "execution_count": 135,
   "metadata": {
    "execution": {
     "iopub.execute_input": "2023-02-20T13:01:03.192543Z",
     "iopub.status.busy": "2023-02-20T13:01:03.192191Z",
     "iopub.status.idle": "2023-02-20T13:01:03.228829Z",
     "shell.execute_reply": "2023-02-20T13:01:03.228144Z",
     "shell.execute_reply.started": "2023-02-20T13:01:03.192521Z"
    }
   },
   "outputs": [],
   "source": [
    "# These: Auch member muss gesetzt werden, weil Partizipien ja doppelt eingetragen werden\n",
    "# NEIN: Das Partizip wandert ja nach flexion\n",
    "#mask1 =  lexeme_manuell.tag_lex.str.startswith('Ptz')\n",
    "#mask2 = ~lexeme_manuell.member.str.contains('Ptz1')\n",
    "#mask3 = ~lexeme_manuell.member.str.contains('Ptz2')\n",
    "#mask = mask1  &  mask2  &  mask3\n",
    "#lexeme_manuell.loc[mask,'member'] = lexeme_manuell[mask].member + ' ' + lexeme_manuell[mask].tag_lex\n",
    "#grid(lexeme_manuell[mask])"
   ]
  },
  {
   "cell_type": "code",
   "execution_count": 136,
   "metadata": {
    "execution": {
     "iopub.execute_input": "2023-02-20T13:01:03.233669Z",
     "iopub.status.busy": "2023-02-20T13:01:03.233313Z",
     "iopub.status.idle": "2023-02-20T13:01:03.289432Z",
     "shell.execute_reply": "2023-02-20T13:01:03.288810Z",
     "shell.execute_reply.started": "2023-02-20T13:01:03.233645Z"
    }
   },
   "outputs": [
    {
     "name": "stdout",
     "output_type": "stream",
     "text": [
      "check_mask:  653 rows\n"
     ]
    }
   ],
   "source": [
    "# Tab Esszett: tag_lex setzen\n",
    "mask1 = lexeme_manuell.tab == 'esszett'\n",
    "mask2A = lexeme_manuell.tag_lex == ''\n",
    "mask2B = lexeme_manuell.tag_lex == 'lex'\n",
    "mask = mask1  &  (mask2A | mask2B)\n",
    "check_mask(lexeme_manuell,mask,653)\n",
    "lexeme_manuell.loc[mask,'tag_lex'] = 'lexAlt'"
   ]
  },
  {
   "cell_type": "code",
   "execution_count": 137,
   "metadata": {
    "execution": {
     "iopub.execute_input": "2023-02-20T13:01:03.294226Z",
     "iopub.status.busy": "2023-02-20T13:01:03.293652Z",
     "iopub.status.idle": "2023-02-20T13:01:03.342548Z",
     "shell.execute_reply": "2023-02-20T13:01:03.341747Z",
     "shell.execute_reply.started": "2023-02-20T13:01:03.294201Z"
    }
   },
   "outputs": [
    {
     "name": "stdout",
     "output_type": "stream",
     "text": [
      "check_mask:  0 rows\n"
     ]
    }
   ],
   "source": [
    "# Tab Esszett: member setzen\n",
    "mask1 =  lexeme_manuell.tab == 'esszett'\n",
    "mask2 = ~lexeme_manuell.member.str.contains('lexAlt')\n",
    "mask = mask1  &  mask2\n",
    "check_mask(lexeme_manuell,mask)\n",
    "lexeme_manuell.loc[mask,'member'] += 'lexAlt'"
   ]
  },
  {
   "cell_type": "code",
   "execution_count": 138,
   "metadata": {
    "execution": {
     "iopub.execute_input": "2023-02-20T13:01:03.344372Z",
     "iopub.status.busy": "2023-02-20T13:01:03.343935Z",
     "iopub.status.idle": "2023-02-20T13:01:03.391972Z",
     "shell.execute_reply": "2023-02-20T13:01:03.391266Z",
     "shell.execute_reply.started": "2023-02-20T13:01:03.344337Z"
    }
   },
   "outputs": [],
   "source": [
    "# Tab Abkuerzungen: tag_lex setzen\n",
    "mask = (lexeme_manuell.tab == 'Abkuerzungen')\n",
    "lexeme_manuell.loc[mask,'tag_lex'] = 'abk'\n",
    "\n",
    "mask = lexeme_manuell.member.str.contains('Abkürzung')\n",
    "lexeme_manuell.loc[mask,'tag_lex'] = 'abk'"
   ]
  },
  {
   "cell_type": "code",
   "execution_count": 139,
   "metadata": {
    "execution": {
     "iopub.execute_input": "2023-02-20T13:01:03.393258Z",
     "iopub.status.busy": "2023-02-20T13:01:03.393011Z",
     "iopub.status.idle": "2023-02-20T13:01:03.595227Z",
     "shell.execute_reply": "2023-02-20T13:01:03.594522Z",
     "shell.execute_reply.started": "2023-02-20T13:01:03.393235Z"
    }
   },
   "outputs": [
    {
     "data": {
      "text/html": [
       "<div>\n",
       "<style scoped>\n",
       "    .dataframe tbody tr th:only-of-type {\n",
       "        vertical-align: middle;\n",
       "    }\n",
       "\n",
       "    .dataframe tbody tr th {\n",
       "        vertical-align: top;\n",
       "    }\n",
       "\n",
       "    .dataframe thead th {\n",
       "        text-align: right;\n",
       "    }\n",
       "</style>\n",
       "<table border=\"1\" class=\"dataframe\">\n",
       "  <thead>\n",
       "    <tr style=\"text-align: right;\">\n",
       "      <th></th>\n",
       "      <th>tag_lex</th>\n",
       "      <th>lex</th>\n",
       "      <th>lemma</th>\n",
       "      <th>tag</th>\n",
       "      <th>member</th>\n",
       "      <th>Genus</th>\n",
       "      <th>tab</th>\n",
       "      <th>def</th>\n",
       "    </tr>\n",
       "  </thead>\n",
       "  <tbody>\n",
       "    <tr>\n",
       "      <th>0</th>\n",
       "      <td>Ptz2</td>\n",
       "      <td>abberufen</td>\n",
       "      <td>abberufen</td>\n",
       "      <td>VVFIN</td>\n",
       "      <td>manuell</td>\n",
       "      <td></td>\n",
       "      <td>Partizipien</td>\n",
       "      <td></td>\n",
       "    </tr>\n",
       "    <tr>\n",
       "      <th>481</th>\n",
       "      <td>lex</td>\n",
       "      <td>Kids</td>\n",
       "      <td>Kid</td>\n",
       "      <td>NN</td>\n",
       "      <td>manuell</td>\n",
       "      <td>n</td>\n",
       "      <td>Diverses</td>\n",
       "      <td></td>\n",
       "    </tr>\n",
       "    <tr>\n",
       "      <th>496</th>\n",
       "      <td>lex</td>\n",
       "      <td>musses</td>\n",
       "      <td>müssen</td>\n",
       "      <td>VMFIN</td>\n",
       "      <td>manuell</td>\n",
       "      <td></td>\n",
       "      <td>Diverses</td>\n",
       "      <td></td>\n",
       "    </tr>\n",
       "    <tr>\n",
       "      <th>553</th>\n",
       "      <td>ADV</td>\n",
       "      <td>zu viele</td>\n",
       "      <td>zu viel</td>\n",
       "      <td>ADV</td>\n",
       "      <td>manuell</td>\n",
       "      <td></td>\n",
       "      <td>Diverses</td>\n",
       "      <td></td>\n",
       "    </tr>\n",
       "    <tr>\n",
       "      <th>652</th>\n",
       "      <td>lemma</td>\n",
       "      <td>5G</td>\n",
       "      <td>5G</td>\n",
       "      <td>NN</td>\n",
       "      <td>manuell ergänzt</td>\n",
       "      <td></td>\n",
       "      <td>Diverses</td>\n",
       "      <td></td>\n",
       "    </tr>\n",
       "    <tr>\n",
       "      <th>713</th>\n",
       "      <td>lex</td>\n",
       "      <td>❀</td>\n",
       "      <td>_</td>\n",
       "      <td>$(</td>\n",
       "      <td>manuell</td>\n",
       "      <td></td>\n",
       "      <td>Symbole</td>\n",
       "      <td></td>\n",
       "    </tr>\n",
       "    <tr>\n",
       "      <th>715</th>\n",
       "      <td>syn</td>\n",
       "      <td>[</td>\n",
       "      <td>(</td>\n",
       "      <td>$(</td>\n",
       "      <td>manuell</td>\n",
       "      <td></td>\n",
       "      <td>Symbole</td>\n",
       "      <td></td>\n",
       "    </tr>\n",
       "    <tr>\n",
       "      <th>748</th>\n",
       "      <td>lemma</td>\n",
       "      <td>!</td>\n",
       "      <td>!</td>\n",
       "      <td>$.</td>\n",
       "      <td>manuell ergänzt</td>\n",
       "      <td></td>\n",
       "      <td>Symbole</td>\n",
       "      <td></td>\n",
       "    </tr>\n",
       "    <tr>\n",
       "      <th>751</th>\n",
       "      <td>lemma</td>\n",
       "      <td>…</td>\n",
       "      <td>…</td>\n",
       "      <td>$(</td>\n",
       "      <td>manuell ergänzt</td>\n",
       "      <td></td>\n",
       "      <td>Symbole</td>\n",
       "      <td></td>\n",
       "    </tr>\n",
       "    <tr>\n",
       "      <th>1014</th>\n",
       "      <td>lexAlt</td>\n",
       "      <td>gewiß</td>\n",
       "      <td>gewiss</td>\n",
       "      <td>ADV</td>\n",
       "      <td>modal lexAlt manuell</td>\n",
       "      <td></td>\n",
       "      <td>esszett</td>\n",
       "      <td></td>\n",
       "    </tr>\n",
       "    <tr>\n",
       "      <th>1673</th>\n",
       "      <td>abk</td>\n",
       "      <td>Mo-Fr</td>\n",
       "      <td>Montag-Freitag</td>\n",
       "      <td>NN</td>\n",
       "      <td>Einheit Wortverbindung manuell</td>\n",
       "      <td></td>\n",
       "      <td>Abkuerzungen</td>\n",
       "      <td></td>\n",
       "    </tr>\n",
       "    <tr>\n",
       "      <th>2471</th>\n",
       "      <td>lemma</td>\n",
       "      <td>Neunhunderttausend</td>\n",
       "      <td>Neunhunderttausend</td>\n",
       "      <td>NN</td>\n",
       "      <td>Zahlwort manuell</td>\n",
       "      <td>f</td>\n",
       "      <td>Zahlwort</td>\n",
       "      <td>900000</td>\n",
       "    </tr>\n",
       "  </tbody>\n",
       "</table>\n",
       "</div>"
      ],
      "text/plain": [
       "     tag_lex                 lex               lemma    tag  \\\n",
       "0       Ptz2           abberufen           abberufen  VVFIN   \n",
       "481      lex                Kids                 Kid     NN   \n",
       "496      lex              musses              müssen  VMFIN   \n",
       "553      ADV            zu viele             zu viel    ADV   \n",
       "652    lemma                  5G                  5G     NN   \n",
       "713      lex                   ❀                   _     $(   \n",
       "715      syn                   [                   (     $(   \n",
       "748    lemma                   !                   !     $.   \n",
       "751    lemma                   …                   …     $(   \n",
       "1014  lexAlt               gewiß              gewiss    ADV   \n",
       "1673     abk               Mo-Fr      Montag-Freitag     NN   \n",
       "2471   lemma  Neunhunderttausend  Neunhunderttausend     NN   \n",
       "\n",
       "                              member Genus           tab     def  \n",
       "0                            manuell         Partizipien          \n",
       "481                          manuell     n      Diverses          \n",
       "496                          manuell            Diverses          \n",
       "553                          manuell            Diverses          \n",
       "652                  manuell ergänzt            Diverses          \n",
       "713                          manuell             Symbole          \n",
       "715                          manuell             Symbole          \n",
       "748                  manuell ergänzt             Symbole          \n",
       "751                  manuell ergänzt             Symbole          \n",
       "1014            modal lexAlt manuell             esszett          \n",
       "1673  Einheit Wortverbindung manuell        Abkuerzungen          \n",
       "2471                Zahlwort manuell     f      Zahlwort  900000  "
      ]
     },
     "execution_count": 139,
     "metadata": {},
     "output_type": "execute_result"
    }
   ],
   "source": [
    "# anschauen\n",
    "pak.sample(lexeme_manuell)"
   ]
  },
  {
   "cell_type": "code",
   "execution_count": 140,
   "metadata": {
    "execution": {
     "iopub.execute_input": "2023-02-20T13:01:03.597199Z",
     "iopub.status.busy": "2023-02-20T13:01:03.596954Z",
     "iopub.status.idle": "2023-02-20T13:01:03.654282Z",
     "shell.execute_reply": "2023-02-20T13:01:03.653699Z",
     "shell.execute_reply.started": "2023-02-20T13:01:03.597178Z"
    }
   },
   "outputs": [
    {
     "data": {
      "text/html": [
       "<div>\n",
       "<style scoped>\n",
       "    .dataframe tbody tr th:only-of-type {\n",
       "        vertical-align: middle;\n",
       "    }\n",
       "\n",
       "    .dataframe tbody tr th {\n",
       "        vertical-align: top;\n",
       "    }\n",
       "\n",
       "    .dataframe thead th {\n",
       "        text-align: right;\n",
       "    }\n",
       "</style>\n",
       "<table border=\"1\" class=\"dataframe\">\n",
       "  <thead>\n",
       "    <tr style=\"text-align: right;\">\n",
       "      <th></th>\n",
       "      <th>tag_lex</th>\n",
       "      <th>lex</th>\n",
       "      <th>lemma</th>\n",
       "      <th>tag</th>\n",
       "      <th>member</th>\n",
       "      <th>Genus</th>\n",
       "      <th>tab</th>\n",
       "      <th>def</th>\n",
       "    </tr>\n",
       "  </thead>\n",
       "  <tbody>\n",
       "    <tr>\n",
       "      <th>154</th>\n",
       "      <td>Ptz2</td>\n",
       "      <td>gefriergetrocknet</td>\n",
       "      <td>gefriertrocknen</td>\n",
       "      <td>VVFIN</td>\n",
       "      <td>manuell</td>\n",
       "      <td></td>\n",
       "      <td>Partizipien</td>\n",
       "      <td></td>\n",
       "    </tr>\n",
       "    <tr>\n",
       "      <th>216</th>\n",
       "      <td>Ptz2</td>\n",
       "      <td>missraten</td>\n",
       "      <td>missraten</td>\n",
       "      <td>VVFIN</td>\n",
       "      <td>manuell</td>\n",
       "      <td></td>\n",
       "      <td>Partizipien</td>\n",
       "      <td></td>\n",
       "    </tr>\n",
       "    <tr>\n",
       "      <th>217</th>\n",
       "      <td>Ptz2</td>\n",
       "      <td>mißraten</td>\n",
       "      <td>missraten</td>\n",
       "      <td>VVFIN</td>\n",
       "      <td>manuell</td>\n",
       "      <td></td>\n",
       "      <td>Partizipien</td>\n",
       "      <td></td>\n",
       "    </tr>\n",
       "  </tbody>\n",
       "</table>\n",
       "</div>"
      ],
      "text/plain": [
       "    tag_lex                lex            lemma    tag   member Genus  \\\n",
       "154    Ptz2  gefriergetrocknet  gefriertrocknen  VVFIN  manuell         \n",
       "216    Ptz2          missraten        missraten  VVFIN  manuell         \n",
       "217    Ptz2           mißraten        missraten  VVFIN  manuell         \n",
       "\n",
       "             tab def  \n",
       "154  Partizipien      \n",
       "216  Partizipien      \n",
       "217  Partizipien      "
      ]
     },
     "execution_count": 140,
     "metadata": {},
     "output_type": "execute_result"
    }
   ],
   "source": [
    "# suche_debug\n",
    "search_str(lexeme_manuell, suche_debug)"
   ]
  },
  {
   "cell_type": "code",
   "execution_count": 141,
   "metadata": {
    "execution": {
     "iopub.execute_input": "2023-02-20T13:01:03.656202Z",
     "iopub.status.busy": "2023-02-20T13:01:03.655937Z",
     "iopub.status.idle": "2023-02-20T13:01:03.780536Z",
     "shell.execute_reply": "2023-02-20T13:01:03.779828Z",
     "shell.execute_reply.started": "2023-02-20T13:01:03.656180Z"
    }
   },
   "outputs": [
    {
     "name": "stdout",
     "output_type": "stream",
     "text": [
      "11 rows\n"
     ]
    },
    {
     "data": {
      "text/html": [
       "<div>\n",
       "<style scoped>\n",
       "    .dataframe tbody tr th:only-of-type {\n",
       "        vertical-align: middle;\n",
       "    }\n",
       "\n",
       "    .dataframe tbody tr th {\n",
       "        vertical-align: top;\n",
       "    }\n",
       "\n",
       "    .dataframe thead th {\n",
       "        text-align: right;\n",
       "    }\n",
       "</style>\n",
       "<table border=\"1\" class=\"dataframe\">\n",
       "  <thead>\n",
       "    <tr style=\"text-align: right;\">\n",
       "      <th></th>\n",
       "      <th>tag_lex</th>\n",
       "      <th>tag_lex_count</th>\n",
       "      <th>tag_lex_percent</th>\n",
       "      <th>lex</th>\n",
       "      <th>lex_count</th>\n",
       "      <th>member</th>\n",
       "      <th>member_count</th>\n",
       "    </tr>\n",
       "  </thead>\n",
       "  <tbody>\n",
       "    <tr>\n",
       "      <th>0</th>\n",
       "      <td>lemma</td>\n",
       "      <td>762</td>\n",
       "      <td>32.2</td>\n",
       "      <td>[dies, grade, die, einander, hiervon, sein, was, wem, wen, wessen, wieviel, woraus, worum, wovor, 24/7, 2D, 3D, 4D, breitbeinig, CO2-arm]</td>\n",
       "      <td>[2, 2, 1, 1, 1, 1, 1, 1, 1, 1, 1, 1, 1, 1, 1, 1, 1, 1, 1, 1]</td>\n",
       "      <td>[manuell, Zahlwort, ergänzt, PRE, Einheit, Vorname, Toponym]</td>\n",
       "      <td>[762, 434, 324, 30, 11, 1, 1]</td>\n",
       "    </tr>\n",
       "    <tr>\n",
       "      <th>1</th>\n",
       "      <td>lexAlt</td>\n",
       "      <td>653</td>\n",
       "      <td>27.6</td>\n",
       "      <td>[muß, müßen, mußt, müßt, mußte, müßte, mußten, müßten, mußtest, müßtest, mußtet, müßtet, aufschlußreiche, aufschlußreichen, bewußt, bewußte, bewußtem, bewußten, bewußter, bewußtes]</td>\n",
       "      <td>[1, 1, 1, 1, 1, 1, 1, 1, 1, 1, 1, 1, 1, 1, 1, 1, 1, 1, 1, 1]</td>\n",
       "      <td>[lexAlt, manuell, Ort, modal, Land]</td>\n",
       "      <td>[653, 653, 2, 1, 1]</td>\n",
       "    </tr>\n",
       "    <tr>\n",
       "      <th>2</th>\n",
       "      <td>lex</td>\n",
       "      <td>363</td>\n",
       "      <td>15.3</td>\n",
       "      <td>[allem, allermeisten, allerwenigsten, allerwenigstens, als Erstes, als Letztes, beidem, bins, biste, brannt, brauchs, brochen, CO₂, CO₂-Messgerät, CO₂-Reduktion, CO₂-Reduzierung, CO₂-Steuer, darfs, dasses, deinereiner]</td>\n",
       "      <td>[1, 1, 1, 1, 1, 1, 1, 1, 1, 1, 1, 1, 1, 1, 1, 1, 1, 1, 1, 1]</td>\n",
       "      <td>[manuell, Zahlwort, PRE]</td>\n",
       "      <td>[363, 217, 6]</td>\n",
       "    </tr>\n",
       "    <tr>\n",
       "      <th>3</th>\n",
       "      <td>Ptz1</td>\n",
       "      <td>253</td>\n",
       "      <td>10.7</td>\n",
       "      <td>[abfahrend, abschreckend, abstoßend, abtörnend, abwertend, achtend, adstringierend, affigierend, agglutinierend, alarmierend, alleinstehend, alternierend, amtierend, andauernd, angrenzend, anhaltend, anliegend, anmaßend, anregend, anschließend]</td>\n",
       "      <td>[1, 1, 1, 1, 1, 1, 1, 1, 1, 1, 1, 1, 1, 1, 1, 1, 1, 1, 1, 1]</td>\n",
       "      <td>manuell</td>\n",
       "      <td>253</td>\n",
       "    </tr>\n",
       "    <tr>\n",
       "      <th>4</th>\n",
       "      <td>Ptz2</td>\n",
       "      <td>160</td>\n",
       "      <td>6.8</td>\n",
       "      <td>[abberufen, abgepaßt, anbehalten, aneinandergepreßt, angepaßt, aufrechterhalten, auserlesen, autogestoppt, befahren, befallen, begraben, behauen, beladen, belassen, belaufen, bemessen, bepißt, beraten, berufen, beschrieen]</td>\n",
       "      <td>[1, 1, 1, 1, 1, 1, 1, 1, 1, 1, 1, 1, 1, 1, 1, 1, 1, 1, 1, 1]</td>\n",
       "      <td>manuell</td>\n",
       "      <td>160</td>\n",
       "    </tr>\n",
       "    <tr>\n",
       "      <th>5</th>\n",
       "      <td>abk</td>\n",
       "      <td>156</td>\n",
       "      <td>6.6</td>\n",
       "      <td>[Abb., Abschn., Abs., Anm. d. Red., Anm.d.Red., Apr., AI, Aufl., Aug., Bd., bspw., bzw., BH, Chr., ca., d.h., Dez., dm, Di, Di.]</td>\n",
       "      <td>[1, 1, 1, 1, 1, 1, 1, 1, 1, 1, 1, 1, 1, 1, 1, 1, 1, 1, 1, 1]</td>\n",
       "      <td>[manuell, Einheit, Wortverbindung, ergänzt, PRE]</td>\n",
       "      <td>[156, 45, 28, 16, 6]</td>\n",
       "    </tr>\n",
       "    <tr>\n",
       "      <th>6</th>\n",
       "      <td>VVIZU</td>\n",
       "      <td>8</td>\n",
       "      <td>0.3</td>\n",
       "      <td>[anzugucken, anzustaunen, aufzurütteln, einzureden, herauszulassen, hereinzulassen, herumzupimpeln, loszuwerden]</td>\n",
       "      <td>[1, 1, 1, 1, 1, 1, 1, 1]</td>\n",
       "      <td>manuell</td>\n",
       "      <td>8</td>\n",
       "    </tr>\n",
       "    <tr>\n",
       "      <th>7</th>\n",
       "      <td>syn</td>\n",
       "      <td>6</td>\n",
       "      <td>0.3</td>\n",
       "      <td>[[, {, &lt;, ], }, &gt;]</td>\n",
       "      <td>[1, 1, 1, 1, 1, 1]</td>\n",
       "      <td>manuell</td>\n",
       "      <td>6</td>\n",
       "    </tr>\n",
       "    <tr>\n",
       "      <th>8</th>\n",
       "      <td>PTKVZ</td>\n",
       "      <td>5</td>\n",
       "      <td>0.2</td>\n",
       "      <td>[dar, drein, inne, überein, zurecht]</td>\n",
       "      <td>[1, 1, 1, 1, 1]</td>\n",
       "      <td>[manuell, ergänzt]</td>\n",
       "      <td>[5, 5]</td>\n",
       "    </tr>\n",
       "    <tr>\n",
       "      <th>9</th>\n",
       "      <td>ADV</td>\n",
       "      <td>2</td>\n",
       "      <td>0.1</td>\n",
       "      <td>[zu viele, zuviele]</td>\n",
       "      <td>[1, 1]</td>\n",
       "      <td>manuell</td>\n",
       "      <td>2</td>\n",
       "    </tr>\n",
       "    <tr>\n",
       "      <th>10</th>\n",
       "      <td>VVIMP</td>\n",
       "      <td>1</td>\n",
       "      <td>0.0</td>\n",
       "      <td>vergleiche</td>\n",
       "      <td>1</td>\n",
       "      <td>manuell</td>\n",
       "      <td>1</td>\n",
       "    </tr>\n",
       "  </tbody>\n",
       "</table>\n",
       "</div>"
      ],
      "text/plain": [
       "   tag_lex  tag_lex_count  tag_lex_percent  \\\n",
       "0    lemma            762             32.2   \n",
       "1   lexAlt            653             27.6   \n",
       "2      lex            363             15.3   \n",
       "3     Ptz1            253             10.7   \n",
       "4     Ptz2            160              6.8   \n",
       "5      abk            156              6.6   \n",
       "6    VVIZU              8              0.3   \n",
       "7      syn              6              0.3   \n",
       "8    PTKVZ              5              0.2   \n",
       "9      ADV              2              0.1   \n",
       "10   VVIMP              1              0.0   \n",
       "\n",
       "                                                                                                                                                                                                                                                     lex  \\\n",
       "0                                                                                                              [dies, grade, die, einander, hiervon, sein, was, wem, wen, wessen, wieviel, woraus, worum, wovor, 24/7, 2D, 3D, 4D, breitbeinig, CO2-arm]   \n",
       "1                                                                   [muß, müßen, mußt, müßt, mußte, müßte, mußten, müßten, mußtest, müßtest, mußtet, müßtet, aufschlußreiche, aufschlußreichen, bewußt, bewußte, bewußtem, bewußten, bewußter, bewußtes]   \n",
       "2                             [allem, allermeisten, allerwenigsten, allerwenigstens, als Erstes, als Letztes, beidem, bins, biste, brannt, brauchs, brochen, CO₂, CO₂-Messgerät, CO₂-Reduktion, CO₂-Reduzierung, CO₂-Steuer, darfs, dasses, deinereiner]   \n",
       "3   [abfahrend, abschreckend, abstoßend, abtörnend, abwertend, achtend, adstringierend, affigierend, agglutinierend, alarmierend, alleinstehend, alternierend, amtierend, andauernd, angrenzend, anhaltend, anliegend, anmaßend, anregend, anschließend]   \n",
       "4                         [abberufen, abgepaßt, anbehalten, aneinandergepreßt, angepaßt, aufrechterhalten, auserlesen, autogestoppt, befahren, befallen, begraben, behauen, beladen, belassen, belaufen, bemessen, bepißt, beraten, berufen, beschrieen]   \n",
       "5                                                                                                                       [Abb., Abschn., Abs., Anm. d. Red., Anm.d.Red., Apr., AI, Aufl., Aug., Bd., bspw., bzw., BH, Chr., ca., d.h., Dez., dm, Di, Di.]   \n",
       "6                                                                                                                                       [anzugucken, anzustaunen, aufzurütteln, einzureden, herauszulassen, hereinzulassen, herumzupimpeln, loszuwerden]   \n",
       "7                                                                                                                                                                                                                                     [[, {, <, ], }, >]   \n",
       "8                                                                                                                                                                                                                   [dar, drein, inne, überein, zurecht]   \n",
       "9                                                                                                                                                                                                                                    [zu viele, zuviele]   \n",
       "10                                                                                                                                                                                                                                            vergleiche   \n",
       "\n",
       "                                                       lex_count  \\\n",
       "0   [2, 2, 1, 1, 1, 1, 1, 1, 1, 1, 1, 1, 1, 1, 1, 1, 1, 1, 1, 1]   \n",
       "1   [1, 1, 1, 1, 1, 1, 1, 1, 1, 1, 1, 1, 1, 1, 1, 1, 1, 1, 1, 1]   \n",
       "2   [1, 1, 1, 1, 1, 1, 1, 1, 1, 1, 1, 1, 1, 1, 1, 1, 1, 1, 1, 1]   \n",
       "3   [1, 1, 1, 1, 1, 1, 1, 1, 1, 1, 1, 1, 1, 1, 1, 1, 1, 1, 1, 1]   \n",
       "4   [1, 1, 1, 1, 1, 1, 1, 1, 1, 1, 1, 1, 1, 1, 1, 1, 1, 1, 1, 1]   \n",
       "5   [1, 1, 1, 1, 1, 1, 1, 1, 1, 1, 1, 1, 1, 1, 1, 1, 1, 1, 1, 1]   \n",
       "6                                       [1, 1, 1, 1, 1, 1, 1, 1]   \n",
       "7                                             [1, 1, 1, 1, 1, 1]   \n",
       "8                                                [1, 1, 1, 1, 1]   \n",
       "9                                                         [1, 1]   \n",
       "10                                                             1   \n",
       "\n",
       "                                                          member  \\\n",
       "0   [manuell, Zahlwort, ergänzt, PRE, Einheit, Vorname, Toponym]   \n",
       "1                            [lexAlt, manuell, Ort, modal, Land]   \n",
       "2                                       [manuell, Zahlwort, PRE]   \n",
       "3                                                        manuell   \n",
       "4                                                        manuell   \n",
       "5               [manuell, Einheit, Wortverbindung, ergänzt, PRE]   \n",
       "6                                                        manuell   \n",
       "7                                                        manuell   \n",
       "8                                             [manuell, ergänzt]   \n",
       "9                                                        manuell   \n",
       "10                                                       manuell   \n",
       "\n",
       "                     member_count  \n",
       "0   [762, 434, 324, 30, 11, 1, 1]  \n",
       "1             [653, 653, 2, 1, 1]  \n",
       "2                   [363, 217, 6]  \n",
       "3                             253  \n",
       "4                             160  \n",
       "5            [156, 45, 28, 16, 6]  \n",
       "6                               8  \n",
       "7                               6  \n",
       "8                          [5, 5]  \n",
       "9                               2  \n",
       "10                              1  "
      ]
     },
     "execution_count": 141,
     "metadata": {},
     "output_type": "execute_result"
    }
   ],
   "source": [
    "# tag_lex analysieren\n",
    "r = pak.analyse_freqs(lexeme_manuell, ['tag_lex', 'lex', 'member'], splits=[None,None,' '])\n",
    "grid(r)"
   ]
  },
  {
   "cell_type": "code",
   "execution_count": 142,
   "metadata": {
    "execution": {
     "iopub.execute_input": "2023-02-20T13:01:03.782237Z",
     "iopub.status.busy": "2023-02-20T13:01:03.781989Z",
     "iopub.status.idle": "2023-02-20T13:01:03.819628Z",
     "shell.execute_reply": "2023-02-20T13:01:03.818940Z",
     "shell.execute_reply.started": "2023-02-20T13:01:03.782215Z"
    }
   },
   "outputs": [],
   "source": [
    "# Kopie erzeugen, verwenden wir später um alle Partizipien als Adjektive einpflegen zu können\n",
    "lexeme_manuell_copy = lexeme_manuell.copy()"
   ]
  },
  {
   "cell_type": "code",
   "execution_count": 143,
   "metadata": {
    "execution": {
     "iopub.execute_input": "2023-02-20T13:01:03.823834Z",
     "iopub.status.busy": "2023-02-20T13:01:03.823538Z",
     "iopub.status.idle": "2023-02-20T13:01:05.428352Z",
     "shell.execute_reply": "2023-02-20T13:01:05.427618Z",
     "shell.execute_reply.started": "2023-02-20T13:01:03.823812Z"
    }
   },
   "outputs": [
    {
     "name": "stdout",
     "output_type": "stream",
     "text": [
      "0 rows less, now 2369 rows\n"
     ]
    }
   ],
   "source": [
    "# Spalte flexion erstellen\n",
    "lexeme_manuell['lex_bak'] = lexeme_manuell.lex.copy()\n",
    "lexeme_manuell = pak.implode_to_defaultdict(lexeme_manuell, col_key='tag_lex', col_value='lex', col_result='flexion')"
   ]
  },
  {
   "cell_type": "code",
   "execution_count": 144,
   "metadata": {
    "execution": {
     "iopub.execute_input": "2023-02-20T13:01:05.429627Z",
     "iopub.status.busy": "2023-02-20T13:01:05.429337Z",
     "iopub.status.idle": "2023-02-20T13:01:05.471654Z",
     "shell.execute_reply": "2023-02-20T13:01:05.470832Z",
     "shell.execute_reply.started": "2023-02-20T13:01:05.429604Z"
    }
   },
   "outputs": [],
   "source": [
    "# suche_debug\n",
    "#search_str(lexeme_manuell, suche_debug)"
   ]
  },
  {
   "cell_type": "code",
   "execution_count": 145,
   "metadata": {
    "execution": {
     "iopub.execute_input": "2023-02-20T13:01:05.472983Z",
     "iopub.status.busy": "2023-02-20T13:01:05.472701Z",
     "iopub.status.idle": "2023-02-20T13:01:05.525170Z",
     "shell.execute_reply": "2023-02-20T13:01:05.524317Z",
     "shell.execute_reply.started": "2023-02-20T13:01:05.472960Z"
    }
   },
   "outputs": [],
   "source": [
    "# lex == lemma: flexion soll leeres defaultdict sein\n",
    "mask = (lexeme_manuell.lex_bak == lexeme_manuell.lemma) \n",
    "lexeme_manuell.loc[mask,'flexion'] = lexeme_manuell[mask].flexion.apply(lambda x: defaultdict(list))  # auf leeres defaultdict setzen\n",
    "lexeme_manuell = pak.drop_cols(lexeme_manuell, 'lex_bak')\n",
    "#grid(lexeme_manuell,~mask)"
   ]
  },
  {
   "cell_type": "code",
   "execution_count": 146,
   "metadata": {
    "execution": {
     "iopub.execute_input": "2023-02-20T13:01:05.526231Z",
     "iopub.status.busy": "2023-02-20T13:01:05.525958Z",
     "iopub.status.idle": "2023-02-20T13:01:05.576222Z",
     "shell.execute_reply": "2023-02-20T13:01:05.575144Z",
     "shell.execute_reply.started": "2023-02-20T13:01:05.526207Z"
    }
   },
   "outputs": [],
   "source": [
    "# suche_debug\n",
    "#search_str(lexeme_manuell, suche_debug)"
   ]
  },
  {
   "cell_type": "code",
   "execution_count": 147,
   "metadata": {
    "execution": {
     "iopub.execute_input": "2023-02-20T13:01:05.577408Z",
     "iopub.status.busy": "2023-02-20T13:01:05.577124Z",
     "iopub.status.idle": "2023-02-20T13:01:05.807748Z",
     "shell.execute_reply": "2023-02-20T13:01:05.807160Z",
     "shell.execute_reply.started": "2023-02-20T13:01:05.577382Z"
    }
   },
   "outputs": [],
   "source": [
    "# Weitere Spalten in flexion verpacken (mit cols_to_defaultdict\n",
    "lexeme_manuell = pak.cols_to_defaultdict(  lexeme_manuell, col_dict='flexion', cols_add=['Genus','def']   )  "
   ]
  },
  {
   "cell_type": "code",
   "execution_count": 148,
   "metadata": {
    "execution": {
     "iopub.execute_input": "2023-02-20T13:01:05.808710Z",
     "iopub.status.busy": "2023-02-20T13:01:05.808499Z",
     "iopub.status.idle": "2023-02-20T13:01:05.845812Z",
     "shell.execute_reply": "2023-02-20T13:01:05.844755Z",
     "shell.execute_reply.started": "2023-02-20T13:01:05.808690Z"
    }
   },
   "outputs": [],
   "source": [
    "# Spalte tab brauchen wir nicht mehr >> löschen\n",
    "lexeme_manuell = pak.drop_cols(lexeme_manuell, ['tab'])"
   ]
  },
  {
   "cell_type": "code",
   "execution_count": 149,
   "metadata": {
    "execution": {
     "iopub.execute_input": "2023-02-20T13:01:05.848558Z",
     "iopub.status.busy": "2023-02-20T13:01:05.847612Z",
     "iopub.status.idle": "2023-02-20T13:01:05.884577Z",
     "shell.execute_reply": "2023-02-20T13:01:05.883867Z",
     "shell.execute_reply.started": "2023-02-20T13:01:05.848509Z"
    }
   },
   "outputs": [],
   "source": [
    "# suche_debug\n",
    "#search_str(lexeme_manuell, suche_debug)"
   ]
  },
  {
   "cell_type": "code",
   "execution_count": 150,
   "metadata": {
    "execution": {
     "iopub.execute_input": "2023-02-20T13:01:05.885943Z",
     "iopub.status.busy": "2023-02-20T13:01:05.885463Z",
     "iopub.status.idle": "2023-02-20T13:01:06.896594Z",
     "shell.execute_reply": "2023-02-20T13:01:06.893397Z",
     "shell.execute_reply.started": "2023-02-20T13:01:05.885915Z"
    }
   },
   "outputs": [
    {
     "name": "stdout",
     "output_type": "stream",
     "text": [
      "577 rows less, now 1792 rows\n"
     ]
    }
   ],
   "source": [
    "# gruppieren\n",
    "lexeme_manuell = pak.group_and_agg(lexeme_manuell,\n",
    "                               ['lemma', 'tag',   'member',              'flexion',            ],\n",
    "                               ['group', 'group',  pak.agg_words_nodup,  pak.agg_defaultdicts, ],\n",
    "                               ['lemma', 'tag',   'member',              'flexion',            ]\n",
    "                              )"
   ]
  },
  {
   "cell_type": "code",
   "execution_count": 151,
   "metadata": {
    "execution": {
     "iopub.execute_input": "2023-02-20T13:01:06.897809Z",
     "iopub.status.busy": "2023-02-20T13:01:06.897559Z",
     "iopub.status.idle": "2023-02-20T13:01:06.943500Z",
     "shell.execute_reply": "2023-02-20T13:01:06.942811Z",
     "shell.execute_reply.started": "2023-02-20T13:01:06.897787Z"
    }
   },
   "outputs": [],
   "source": [
    "# Felder ergänzen\n",
    "lexeme_manuell['title']       = lexeme_manuell.lemma\n",
    "lexeme_manuell['lemma_lower'] = lexeme_manuell.lemma.str.lower() \n",
    "lexeme_manuell = pak.move_cols( lexeme_manuell, 'lemma_lower','lemma')"
   ]
  },
  {
   "cell_type": "code",
   "execution_count": 152,
   "metadata": {
    "execution": {
     "iopub.execute_input": "2023-02-20T13:01:06.949213Z",
     "iopub.status.busy": "2023-02-20T13:01:06.948739Z",
     "iopub.status.idle": "2023-02-20T13:01:07.070291Z",
     "shell.execute_reply": "2023-02-20T13:01:07.069687Z",
     "shell.execute_reply.started": "2023-02-20T13:01:06.949184Z"
    }
   },
   "outputs": [],
   "source": [
    "# tagZ und tagZZ ermitteln\n",
    "lexeme_manuell = pflege_tag_felder(lexeme_manuell, translate_tagZ)"
   ]
  },
  {
   "cell_type": "code",
   "execution_count": 153,
   "metadata": {
    "execution": {
     "iopub.execute_input": "2023-02-20T13:01:07.072139Z",
     "iopub.status.busy": "2023-02-20T13:01:07.071890Z",
     "iopub.status.idle": "2023-02-20T13:01:07.310010Z",
     "shell.execute_reply": "2023-02-20T13:01:07.309318Z",
     "shell.execute_reply.started": "2023-02-20T13:01:07.072117Z"
    }
   },
   "outputs": [
    {
     "name": "stdout",
     "output_type": "stream",
     "text": [
      "100 rows out of 1792\n"
     ]
    },
    {
     "data": {
      "text/html": [
       "<div>\n",
       "<style scoped>\n",
       "    .dataframe tbody tr th:only-of-type {\n",
       "        vertical-align: middle;\n",
       "    }\n",
       "\n",
       "    .dataframe tbody tr th {\n",
       "        vertical-align: top;\n",
       "    }\n",
       "\n",
       "    .dataframe thead th {\n",
       "        text-align: right;\n",
       "    }\n",
       "</style>\n",
       "<table border=\"1\" class=\"dataframe\">\n",
       "  <thead>\n",
       "    <tr style=\"text-align: right;\">\n",
       "      <th></th>\n",
       "      <th>lemma</th>\n",
       "      <th>lemma_lower</th>\n",
       "      <th>tag</th>\n",
       "      <th>tag_0</th>\n",
       "      <th>tag_1</th>\n",
       "      <th>tagZ</th>\n",
       "      <th>tagZZ</th>\n",
       "      <th>member</th>\n",
       "      <th>flexion</th>\n",
       "      <th>title</th>\n",
       "    </tr>\n",
       "  </thead>\n",
       "  <tbody>\n",
       "    <tr>\n",
       "      <th>0</th>\n",
       "      <td>!</td>\n",
       "      <td>!</td>\n",
       "      <td>$.</td>\n",
       "      <td>$.</td>\n",
       "      <td>aUpG14doXe</td>\n",
       "      <td>SYM</td>\n",
       "      <td>Y</td>\n",
       "      <td>manuell ergänzt</td>\n",
       "      <td>{}</td>\n",
       "      <td>!</td>\n",
       "    </tr>\n",
       "    <tr>\n",
       "      <th>3</th>\n",
       "      <td>)</td>\n",
       "      <td>)</td>\n",
       "      <td>$(</td>\n",
       "      <td>$(</td>\n",
       "      <td>aYTLIiHR0l</td>\n",
       "      <td>SYM</td>\n",
       "      <td>Y</td>\n",
       "      <td>manuell ergänzt</td>\n",
       "      <td>{'syn': ['&gt;', ']', '}']}</td>\n",
       "      <td>)</td>\n",
       "    </tr>\n",
       "    <tr>\n",
       "      <th>12</th>\n",
       "      <td>24/7</td>\n",
       "      <td>24/7</td>\n",
       "      <td>ADJA</td>\n",
       "      <td>ADJA</td>\n",
       "      <td>EQLElqyS1B</td>\n",
       "      <td>ADJ</td>\n",
       "      <td>A</td>\n",
       "      <td>manuell ergänzt</td>\n",
       "      <td>{}</td>\n",
       "      <td>24/7</td>\n",
       "    </tr>\n",
       "    <tr>\n",
       "      <th>42</th>\n",
       "      <td>Acht</td>\n",
       "      <td>acht</td>\n",
       "      <td>NN</td>\n",
       "      <td>NN</td>\n",
       "      <td>vzNK0MYYtL</td>\n",
       "      <td>NOM</td>\n",
       "      <td>N</td>\n",
       "      <td>Zahlwort manuell</td>\n",
       "      <td>{'Genus': ['f'], 'def': ['8']}</td>\n",
       "      <td>Acht</td>\n",
       "    </tr>\n",
       "    <tr>\n",
       "      <th>48</th>\n",
       "      <td>Achtunddreißig</td>\n",
       "      <td>achtunddreißig</td>\n",
       "      <td>NN</td>\n",
       "      <td>NN</td>\n",
       "      <td>O9AE68rY0t</td>\n",
       "      <td>NOM</td>\n",
       "      <td>N</td>\n",
       "      <td>Zahlwort manuell</td>\n",
       "      <td>{'Genus': ['f'], 'def': ['38']}</td>\n",
       "      <td>Achtunddreißig</td>\n",
       "    </tr>\n",
       "    <tr>\n",
       "      <th>...</th>\n",
       "      <td>...</td>\n",
       "      <td>...</td>\n",
       "      <td>...</td>\n",
       "      <td>...</td>\n",
       "      <td>...</td>\n",
       "      <td>...</td>\n",
       "      <td>...</td>\n",
       "      <td>...</td>\n",
       "      <td>...</td>\n",
       "      <td>...</td>\n",
       "    </tr>\n",
       "    <tr>\n",
       "      <th>1701</th>\n",
       "      <td>zulassen</td>\n",
       "      <td>zulassen</td>\n",
       "      <td>VVFIN</td>\n",
       "      <td>VVFIN</td>\n",
       "      <td>XTDjkDmoMq</td>\n",
       "      <td>VER</td>\n",
       "      <td>V</td>\n",
       "      <td>lexAlt manuell</td>\n",
       "      <td>{'lexAlt': ['zuläßt']}</td>\n",
       "      <td>zulassen</td>\n",
       "    </tr>\n",
       "    <tr>\n",
       "      <th>1706</th>\n",
       "      <td>zupressen</td>\n",
       "      <td>zupressen</td>\n",
       "      <td>VVFIN</td>\n",
       "      <td>VVFIN</td>\n",
       "      <td>7lHPDbUXFX</td>\n",
       "      <td>VER</td>\n",
       "      <td>V</td>\n",
       "      <td>lexAlt manuell</td>\n",
       "      <td>{'lexAlt': ['zupreßte']}</td>\n",
       "      <td>zupressen</td>\n",
       "    </tr>\n",
       "    <tr>\n",
       "      <th>1740</th>\n",
       "      <td>zweiundneunzigtausend</td>\n",
       "      <td>zweiundneunzigtausend</td>\n",
       "      <td>CARD</td>\n",
       "      <td>CARD</td>\n",
       "      <td>dbX8jcUMAN</td>\n",
       "      <td>X_zahl</td>\n",
       "      <td>X</td>\n",
       "      <td>Zahlwort manuell</td>\n",
       "      <td>{'lex': ['92000'], 'Genus': ['f'], 'def': ['92000']}</td>\n",
       "      <td>zweiundneunzigtausend</td>\n",
       "    </tr>\n",
       "    <tr>\n",
       "      <th>1753</th>\n",
       "      <td>|</td>\n",
       "      <td>|</td>\n",
       "      <td>$(</td>\n",
       "      <td>$(</td>\n",
       "      <td>mXzETMebiP</td>\n",
       "      <td>SYM</td>\n",
       "      <td>Y</td>\n",
       "      <td>manuell ergänzt</td>\n",
       "      <td>{}</td>\n",
       "      <td>|</td>\n",
       "    </tr>\n",
       "    <tr>\n",
       "      <th>1791</th>\n",
       "      <td>…</td>\n",
       "      <td>…</td>\n",
       "      <td>$(</td>\n",
       "      <td>$(</td>\n",
       "      <td>xgsdV6drcF</td>\n",
       "      <td>SYM</td>\n",
       "      <td>Y</td>\n",
       "      <td>manuell ergänzt</td>\n",
       "      <td>{}</td>\n",
       "      <td>…</td>\n",
       "    </tr>\n",
       "  </tbody>\n",
       "</table>\n",
       "<p>100 rows × 10 columns</p>\n",
       "</div>"
      ],
      "text/plain": [
       "                      lemma            lemma_lower    tag  tag_0       tag_1  \\\n",
       "0                         !                      !     $.     $.  aUpG14doXe   \n",
       "3                         )                      )     $(     $(  aYTLIiHR0l   \n",
       "12                     24/7                   24/7   ADJA   ADJA  EQLElqyS1B   \n",
       "42                     Acht                   acht     NN     NN  vzNK0MYYtL   \n",
       "48           Achtunddreißig         achtunddreißig     NN     NN  O9AE68rY0t   \n",
       "...                     ...                    ...    ...    ...         ...   \n",
       "1701               zulassen               zulassen  VVFIN  VVFIN  XTDjkDmoMq   \n",
       "1706              zupressen              zupressen  VVFIN  VVFIN  7lHPDbUXFX   \n",
       "1740  zweiundneunzigtausend  zweiundneunzigtausend   CARD   CARD  dbX8jcUMAN   \n",
       "1753                      |                      |     $(     $(  mXzETMebiP   \n",
       "1791                      …                      …     $(     $(  xgsdV6drcF   \n",
       "\n",
       "        tagZ tagZZ            member  \\\n",
       "0        SYM     Y   manuell ergänzt   \n",
       "3        SYM     Y   manuell ergänzt   \n",
       "12       ADJ     A   manuell ergänzt   \n",
       "42       NOM     N  Zahlwort manuell   \n",
       "48       NOM     N  Zahlwort manuell   \n",
       "...      ...   ...               ...   \n",
       "1701     VER     V    lexAlt manuell   \n",
       "1706     VER     V    lexAlt manuell   \n",
       "1740  X_zahl     X  Zahlwort manuell   \n",
       "1753     SYM     Y   manuell ergänzt   \n",
       "1791     SYM     Y   manuell ergänzt   \n",
       "\n",
       "                                                   flexion  \\\n",
       "0                                                       {}   \n",
       "3                                 {'syn': ['>', ']', '}']}   \n",
       "12                                                      {}   \n",
       "42                          {'Genus': ['f'], 'def': ['8']}   \n",
       "48                         {'Genus': ['f'], 'def': ['38']}   \n",
       "...                                                    ...   \n",
       "1701                                {'lexAlt': ['zuläßt']}   \n",
       "1706                              {'lexAlt': ['zupreßte']}   \n",
       "1740  {'lex': ['92000'], 'Genus': ['f'], 'def': ['92000']}   \n",
       "1753                                                    {}   \n",
       "1791                                                    {}   \n",
       "\n",
       "                      title  \n",
       "0                         !  \n",
       "3                         )  \n",
       "12                     24/7  \n",
       "42                     Acht  \n",
       "48           Achtunddreißig  \n",
       "...                     ...  \n",
       "1701               zulassen  \n",
       "1706              zupressen  \n",
       "1740  zweiundneunzigtausend  \n",
       "1753                      |  \n",
       "1791                      …  \n",
       "\n",
       "[100 rows x 10 columns]"
      ]
     },
     "execution_count": 153,
     "metadata": {},
     "output_type": "execute_result"
    }
   ],
   "source": [
    "# anschauen\n",
    "grid(lexeme_manuell, pak.sample_100)"
   ]
  },
  {
   "cell_type": "code",
   "execution_count": 154,
   "metadata": {
    "execution": {
     "iopub.execute_input": "2023-02-20T13:01:07.311244Z",
     "iopub.status.busy": "2023-02-20T13:01:07.310963Z",
     "iopub.status.idle": "2023-02-20T13:01:07.362417Z",
     "shell.execute_reply": "2023-02-20T13:01:07.361505Z",
     "shell.execute_reply.started": "2023-02-20T13:01:07.311220Z"
    }
   },
   "outputs": [
    {
     "data": {
      "text/html": [
       "<div>\n",
       "<style scoped>\n",
       "    .dataframe tbody tr th:only-of-type {\n",
       "        vertical-align: middle;\n",
       "    }\n",
       "\n",
       "    .dataframe tbody tr th {\n",
       "        vertical-align: top;\n",
       "    }\n",
       "\n",
       "    .dataframe thead th {\n",
       "        text-align: right;\n",
       "    }\n",
       "</style>\n",
       "<table border=\"1\" class=\"dataframe\">\n",
       "  <thead>\n",
       "    <tr style=\"text-align: right;\">\n",
       "      <th></th>\n",
       "      <th>lemma</th>\n",
       "      <th>lemma_lower</th>\n",
       "      <th>tag</th>\n",
       "      <th>tag_0</th>\n",
       "      <th>tag_1</th>\n",
       "      <th>tagZ</th>\n",
       "      <th>tagZZ</th>\n",
       "      <th>member</th>\n",
       "      <th>flexion</th>\n",
       "      <th>title</th>\n",
       "    </tr>\n",
       "  </thead>\n",
       "  <tbody>\n",
       "    <tr>\n",
       "      <th>1091</th>\n",
       "      <td>gefriertrocknen</td>\n",
       "      <td>gefriertrocknen</td>\n",
       "      <td>VVFIN</td>\n",
       "      <td>VVFIN</td>\n",
       "      <td>b1fqLbkF72</td>\n",
       "      <td>VER</td>\n",
       "      <td>V</td>\n",
       "      <td>manuell</td>\n",
       "      <td>{'Ptz2': ['gefriergetrocknet']}</td>\n",
       "      <td>gefriertrocknen</td>\n",
       "    </tr>\n",
       "    <tr>\n",
       "      <th>1236</th>\n",
       "      <td>missraten</td>\n",
       "      <td>missraten</td>\n",
       "      <td>VVFIN</td>\n",
       "      <td>VVFIN</td>\n",
       "      <td>dL16wAKkg3</td>\n",
       "      <td>VER</td>\n",
       "      <td>V</td>\n",
       "      <td>manuell</td>\n",
       "      <td>{'Ptz2': ['mißraten']}</td>\n",
       "      <td>missraten</td>\n",
       "    </tr>\n",
       "  </tbody>\n",
       "</table>\n",
       "</div>"
      ],
      "text/plain": [
       "                lemma      lemma_lower    tag  tag_0       tag_1 tagZ tagZZ  \\\n",
       "1091  gefriertrocknen  gefriertrocknen  VVFIN  VVFIN  b1fqLbkF72  VER     V   \n",
       "1236        missraten        missraten  VVFIN  VVFIN  dL16wAKkg3  VER     V   \n",
       "\n",
       "       member                          flexion            title  \n",
       "1091  manuell  {'Ptz2': ['gefriergetrocknet']}  gefriertrocknen  \n",
       "1236  manuell           {'Ptz2': ['mißraten']}        missraten  "
      ]
     },
     "execution_count": 154,
     "metadata": {},
     "output_type": "execute_result"
    }
   ],
   "source": [
    "# suche_debug\n",
    "search_str(lexeme_manuell, suche_debug)"
   ]
  },
  {
   "cell_type": "code",
   "execution_count": 155,
   "metadata": {
    "execution": {
     "iopub.execute_input": "2023-02-20T13:01:07.363541Z",
     "iopub.status.busy": "2023-02-20T13:01:07.363308Z",
     "iopub.status.idle": "2023-02-20T13:01:07.418686Z",
     "shell.execute_reply": "2023-02-20T13:01:07.418039Z",
     "shell.execute_reply.started": "2023-02-20T13:01:07.363519Z"
    }
   },
   "outputs": [
    {
     "data": {
      "text/html": [
       "<div>\n",
       "<style scoped>\n",
       "    .dataframe tbody tr th:only-of-type {\n",
       "        vertical-align: middle;\n",
       "    }\n",
       "\n",
       "    .dataframe tbody tr th {\n",
       "        vertical-align: top;\n",
       "    }\n",
       "\n",
       "    .dataframe thead th {\n",
       "        text-align: right;\n",
       "    }\n",
       "</style>\n",
       "<table border=\"1\" class=\"dataframe\">\n",
       "  <thead>\n",
       "    <tr style=\"text-align: right;\">\n",
       "      <th></th>\n",
       "      <th>lemma</th>\n",
       "      <th>lemma_lower</th>\n",
       "      <th>tag</th>\n",
       "      <th>tag_0</th>\n",
       "      <th>tag_1</th>\n",
       "      <th>tagZ</th>\n",
       "      <th>tagZZ</th>\n",
       "      <th>member</th>\n",
       "      <th>flexion</th>\n",
       "      <th>title</th>\n",
       "    </tr>\n",
       "  </thead>\n",
       "  <tbody>\n",
       "    <tr>\n",
       "      <th>1636</th>\n",
       "      <td>welch</td>\n",
       "      <td>welch</td>\n",
       "      <td>PRELS PWAT</td>\n",
       "      <td>PRELS</td>\n",
       "      <td>PWAT</td>\n",
       "      <td>PRO</td>\n",
       "      <td>P</td>\n",
       "      <td>manuell</td>\n",
       "      <td>{'lex': ['welche', 'welchem', 'welchen', 'welcher', 'welches']}</td>\n",
       "      <td>welch</td>\n",
       "    </tr>\n",
       "  </tbody>\n",
       "</table>\n",
       "</div>"
      ],
      "text/plain": [
       "      lemma lemma_lower         tag  tag_0 tag_1 tagZ tagZZ   member  \\\n",
       "1636  welch       welch  PRELS PWAT  PRELS  PWAT  PRO     P  manuell   \n",
       "\n",
       "                                                              flexion  title  \n",
       "1636  {'lex': ['welche', 'welchem', 'welchen', 'welcher', 'welches']}  welch  "
      ]
     },
     "execution_count": 155,
     "metadata": {},
     "output_type": "execute_result"
    }
   ],
   "source": [
    "# anschauen: mehr als ein tag\n",
    "mask = (lexeme_manuell.tag.str.split().str.len() > 1)\n",
    "lexeme_manuell[mask]"
   ]
  },
  {
   "cell_type": "code",
   "execution_count": 156,
   "metadata": {
    "execution": {
     "iopub.execute_input": "2023-02-20T13:01:07.429476Z",
     "iopub.status.busy": "2023-02-20T13:01:07.428850Z",
     "iopub.status.idle": "2023-02-20T13:01:07.490238Z",
     "shell.execute_reply": "2023-02-20T13:01:07.489590Z",
     "shell.execute_reply.started": "2023-02-20T13:01:07.429429Z"
    }
   },
   "outputs": [],
   "source": [
    "# section_id2 schreiben\n",
    "lexeme_manuell['section_id2'] = lexeme_manuell.lemma.str.replace(' ','_') + '_M'\n",
    "mask = lexeme_manuell.tag == 'CARD'\n",
    "lexeme_manuell.loc[mask,'section_id2'] = lexeme_manuell[mask].lemma.str.replace(' ','_') + '_Z'\n",
    "lexeme_manuell = pak.move_cols(lexeme_manuell, ['section_id2','title'])"
   ]
  },
  {
   "cell_type": "code",
   "execution_count": 157,
   "metadata": {
    "execution": {
     "iopub.execute_input": "2023-02-20T13:01:07.494992Z",
     "iopub.status.busy": "2023-02-20T13:01:07.494515Z",
     "iopub.status.idle": "2023-02-20T13:01:07.529836Z",
     "shell.execute_reply": "2023-02-20T13:01:07.529225Z",
     "shell.execute_reply.started": "2023-02-20T13:01:07.494969Z"
    }
   },
   "outputs": [],
   "source": [
    "# suche_debug\n",
    "#search_str(lexeme_manuell, suche_debug)"
   ]
  },
  {
   "cell_type": "code",
   "execution_count": 158,
   "metadata": {
    "execution": {
     "iopub.execute_input": "2023-02-20T13:01:07.534612Z",
     "iopub.status.busy": "2023-02-20T13:01:07.534249Z",
     "iopub.status.idle": "2023-02-20T13:01:10.246037Z",
     "shell.execute_reply": "2023-02-20T13:01:10.245277Z",
     "shell.execute_reply.started": "2023-02-20T13:01:07.534589Z"
    }
   },
   "outputs": [
    {
     "name": "stdout",
     "output_type": "stream",
     "text": [
      "update_col: col_score score applied, 3337 records less!\n",
      "update_col: 1194 cells written into existing column\n",
      "update_col: col_score score applied, 2319 records less!\n",
      "update_col: 1170 cells written into existing column\n",
      "update_col: col_score score applied, 3540 records less!\n",
      "update_col: 1155 cells written into existing column\n",
      "update_col: col_score score applied, 4 records less!\n",
      "update_col: 34 cells written into existing column\n"
     ]
    }
   ],
   "source": [
    "# Bekannte section_id2 aus wiktionary übertragen\n",
    "\n",
    "mask = (wiktionary.lemma == wiktionary.title)  # wichtig! Gerade die Datensätze, die nicht darunter fallen, verursachen Probleme bei Partizipien.\n",
    "\n",
    "# tagZZ\n",
    "lexeme_manuell = pak.update_col(lexeme_manuell, wiktionary[mask], on=['lemma_lower','tagZZ'], col='section_id2',  col_score='score'  )\n",
    "\n",
    "#tagZ\n",
    "lexeme_manuell = pak.update_col(lexeme_manuell, wiktionary[mask], on=['lemma_lower','tagZ'],  col='section_id2',  col_score='score'  )\n",
    "\n",
    "# tag\n",
    "lexeme_manuell = pak.update_col(lexeme_manuell, wiktionary[mask], on=['lemma_lower','tag'],   col='section_id2',  col_score='score'  )\n",
    "\n",
    "# Wenn ein sinnvoller tag fehlt, reicht lemma\n",
    "mask = (wiktionary.lemma == wiktionary.title)   &   wiktionary.tag.str.contains('TODO')\n",
    "lexeme_manuell = pak.update_col(lexeme_manuell, wiktionary[mask], on=['lemma'], col='section_id2',  col_score='score' )"
   ]
  },
  {
   "cell_type": "code",
   "execution_count": 159,
   "metadata": {
    "execution": {
     "iopub.execute_input": "2023-02-20T13:01:10.247044Z",
     "iopub.status.busy": "2023-02-20T13:01:10.246813Z",
     "iopub.status.idle": "2023-02-20T13:01:10.315022Z",
     "shell.execute_reply": "2023-02-20T13:01:10.314146Z",
     "shell.execute_reply.started": "2023-02-20T13:01:10.247022Z"
    }
   },
   "outputs": [
    {
     "data": {
      "text/html": [
       "<div>\n",
       "<style scoped>\n",
       "    .dataframe tbody tr th:only-of-type {\n",
       "        vertical-align: middle;\n",
       "    }\n",
       "\n",
       "    .dataframe tbody tr th {\n",
       "        vertical-align: top;\n",
       "    }\n",
       "\n",
       "    .dataframe thead th {\n",
       "        text-align: right;\n",
       "    }\n",
       "</style>\n",
       "<table border=\"1\" class=\"dataframe\">\n",
       "  <thead>\n",
       "    <tr style=\"text-align: right;\">\n",
       "      <th></th>\n",
       "      <th>section_id2</th>\n",
       "      <th>title</th>\n",
       "      <th>lemma</th>\n",
       "      <th>lemma_lower</th>\n",
       "      <th>tag</th>\n",
       "      <th>tag_0</th>\n",
       "      <th>tag_1</th>\n",
       "      <th>tagZ</th>\n",
       "      <th>tagZZ</th>\n",
       "      <th>member</th>\n",
       "      <th>flexion</th>\n",
       "    </tr>\n",
       "  </thead>\n",
       "  <tbody>\n",
       "    <tr>\n",
       "      <th>1091</th>\n",
       "      <td>gefriertrocknen</td>\n",
       "      <td>gefriertrocknen</td>\n",
       "      <td>gefriertrocknen</td>\n",
       "      <td>gefriertrocknen</td>\n",
       "      <td>VVFIN</td>\n",
       "      <td>VVFIN</td>\n",
       "      <td>b1fqLbkF72</td>\n",
       "      <td>VER</td>\n",
       "      <td>V</td>\n",
       "      <td>manuell</td>\n",
       "      <td>{'Ptz2': ['gefriergetrocknet']}</td>\n",
       "    </tr>\n",
       "    <tr>\n",
       "      <th>1236</th>\n",
       "      <td>missraten</td>\n",
       "      <td>missraten</td>\n",
       "      <td>missraten</td>\n",
       "      <td>missraten</td>\n",
       "      <td>VVFIN</td>\n",
       "      <td>VVFIN</td>\n",
       "      <td>dL16wAKkg3</td>\n",
       "      <td>VER</td>\n",
       "      <td>V</td>\n",
       "      <td>manuell</td>\n",
       "      <td>{'Ptz2': ['mißraten']}</td>\n",
       "    </tr>\n",
       "  </tbody>\n",
       "</table>\n",
       "</div>"
      ],
      "text/plain": [
       "          section_id2            title            lemma      lemma_lower  \\\n",
       "1091  gefriertrocknen  gefriertrocknen  gefriertrocknen  gefriertrocknen   \n",
       "1236        missraten        missraten        missraten        missraten   \n",
       "\n",
       "        tag  tag_0       tag_1 tagZ tagZZ   member  \\\n",
       "1091  VVFIN  VVFIN  b1fqLbkF72  VER     V  manuell   \n",
       "1236  VVFIN  VVFIN  dL16wAKkg3  VER     V  manuell   \n",
       "\n",
       "                              flexion  \n",
       "1091  {'Ptz2': ['gefriergetrocknet']}  \n",
       "1236           {'Ptz2': ['mißraten']}  "
      ]
     },
     "execution_count": 159,
     "metadata": {},
     "output_type": "execute_result"
    }
   ],
   "source": [
    "# suche_debug\n",
    "search_str(lexeme_manuell, suche_debug)"
   ]
  },
  {
   "cell_type": "code",
   "execution_count": 160,
   "metadata": {
    "execution": {
     "iopub.execute_input": "2023-02-20T13:01:10.323773Z",
     "iopub.status.busy": "2023-02-20T13:01:10.318845Z",
     "iopub.status.idle": "2023-02-20T13:01:10.363466Z",
     "shell.execute_reply": "2023-02-20T13:01:10.362785Z",
     "shell.execute_reply.started": "2023-02-20T13:01:10.323693Z"
    }
   },
   "outputs": [],
   "source": [
    "# anschauen\n",
    "#grid(lexeme_manuell, pak.sample_100)"
   ]
  },
  {
   "cell_type": "code",
   "execution_count": 161,
   "metadata": {
    "execution": {
     "iopub.execute_input": "2023-02-20T13:01:10.364713Z",
     "iopub.status.busy": "2023-02-20T13:01:10.364428Z",
     "iopub.status.idle": "2023-02-20T13:01:10.402401Z",
     "shell.execute_reply": "2023-02-20T13:01:10.401792Z",
     "shell.execute_reply.started": "2023-02-20T13:01:10.364691Z"
    },
    "tags": []
   },
   "outputs": [
    {
     "name": "stdout",
     "output_type": "stream",
     "text": [
      "left_only:  {'syllables', 'lang', 'page_id', 'pos', 'score', 'rhymes', 'page_part', 'error', 'inflected', 'lang_code', 'ipa'}\n",
      "both:       {'flexion', 'tag_0', 'tag_1', 'title', 'section_id2', 'lemma', 'lemma_lower', 'member', 'tagZ', 'tag', 'tagZZ'}\n",
      "right_only: {}\n",
      "\n"
     ]
    }
   ],
   "source": [
    "bpy.minivenn(wiktionary.columns, lexeme_manuell.columns, format='print')"
   ]
  },
  {
   "cell_type": "code",
   "execution_count": 162,
   "metadata": {
    "execution": {
     "iopub.execute_input": "2023-02-20T13:01:10.410112Z",
     "iopub.status.busy": "2023-02-20T13:01:10.406865Z",
     "iopub.status.idle": "2023-02-20T13:01:11.195220Z",
     "shell.execute_reply": "2023-02-20T13:01:11.194233Z",
     "shell.execute_reply.started": "2023-02-20T13:01:10.410073Z"
    }
   },
   "outputs": [
    {
     "name": "stdout",
     "output_type": "stream",
     "text": [
      "1792 rows added, now a total of 843573\n"
     ]
    }
   ],
   "source": [
    "# anfügen\n",
    "wiktionary = pak.add_rows(wiktionary, lexeme_manuell, assert_subset=True)"
   ]
  },
  {
   "cell_type": "code",
   "execution_count": 163,
   "metadata": {
    "execution": {
     "iopub.execute_input": "2023-02-20T13:01:11.196310Z",
     "iopub.status.busy": "2023-02-20T13:01:11.196016Z",
     "iopub.status.idle": "2023-02-20T13:01:11.839076Z",
     "shell.execute_reply": "2023-02-20T13:01:11.838505Z",
     "shell.execute_reply.started": "2023-02-20T13:01:11.196281Z"
    }
   },
   "outputs": [
    {
     "name": "stdout",
     "output_type": "stream",
     "text": [
      "check_mask:  4932 rows\n"
     ]
    }
   ],
   "source": [
    "# section_id2 ist jetzt nicht mehr eindeutig\n",
    "mask = wiktionary.duplicated(subset=['section_id2'], keep=False)\n",
    "check_mask(wiktionary,mask,5507) \n",
    "#a = wiktionary[mask].sort_values(['section_id2'])\n",
    "#grid(a)"
   ]
  },
  {
   "cell_type": "code",
   "execution_count": 164,
   "metadata": {
    "execution": {
     "iopub.execute_input": "2023-02-20T13:01:11.839929Z",
     "iopub.status.busy": "2023-02-20T13:01:11.839701Z",
     "iopub.status.idle": "2023-02-20T13:01:12.095721Z",
     "shell.execute_reply": "2023-02-20T13:01:12.095052Z",
     "shell.execute_reply.started": "2023-02-20T13:01:11.839907Z"
    },
    "tags": []
   },
   "outputs": [],
   "source": [
    "assert pak.ntypes(wiktionary.flexion) == 1"
   ]
  },
  {
   "cell_type": "markdown",
   "metadata": {},
   "source": [
    "## ipa, syllables & rhymes"
   ]
  },
  {
   "cell_type": "code",
   "execution_count": 165,
   "metadata": {
    "execution": {
     "iopub.execute_input": "2023-02-20T13:01:12.096797Z",
     "iopub.status.busy": "2023-02-20T13:01:12.096544Z",
     "iopub.status.idle": "2023-02-20T13:01:12.473932Z",
     "shell.execute_reply": "2023-02-20T13:01:12.472917Z",
     "shell.execute_reply.started": "2023-02-20T13:01:12.096771Z"
    }
   },
   "outputs": [],
   "source": [
    "# Datentypen sind in jeder Zeile gleich\n",
    "assert pak.ntypes(wiktionary.ipa) == 1\n",
    "assert pak.ntypes(wiktionary.syllables) == 1"
   ]
  },
  {
   "cell_type": "code",
   "execution_count": 166,
   "metadata": {
    "execution": {
     "iopub.execute_input": "2023-02-20T13:01:12.477310Z",
     "iopub.status.busy": "2023-02-20T13:01:12.476887Z",
     "iopub.status.idle": "2023-02-20T13:01:14.441139Z",
     "shell.execute_reply": "2023-02-20T13:01:14.440545Z",
     "shell.execute_reply.started": "2023-02-20T13:01:12.477278Z"
    }
   },
   "outputs": [],
   "source": [
    "# Listen zu Strings\n",
    "mask = ~wiktionary.ipa.isnull()\n",
    "wiktionary.loc[mask,'ipa'] = wiktionary[mask].ipa.str[0]\n",
    "\n",
    "mask = ~wiktionary.syllables.isnull()\n",
    "wiktionary.loc[mask,'syllables'] = wiktionary[mask].syllables.str.join('⇀')\n",
    "\n",
    "mask = ~wiktionary.rhymes.isnull()\n",
    "wiktionary.loc[mask,'rhymes'] = wiktionary[mask].rhymes.str[0]"
   ]
  },
  {
   "cell_type": "code",
   "execution_count": 167,
   "metadata": {
    "execution": {
     "iopub.execute_input": "2023-02-20T13:01:14.442195Z",
     "iopub.status.busy": "2023-02-20T13:01:14.441970Z",
     "iopub.status.idle": "2023-02-20T13:02:50.098218Z",
     "shell.execute_reply": "2023-02-20T13:02:50.097518Z",
     "shell.execute_reply.started": "2023-02-20T13:01:14.442173Z"
    }
   },
   "outputs": [],
   "source": [
    "# cols_to_defaultdict\n",
    "# 1 min\n",
    "wiktionary = pak.cols_to_defaultdict( wiktionary, col_dict='flexion', cols_add=['ipa','syllables','rhymes']  )"
   ]
  },
  {
   "cell_type": "code",
   "execution_count": 168,
   "metadata": {
    "execution": {
     "iopub.execute_input": "2023-02-20T13:02:50.099380Z",
     "iopub.status.busy": "2023-02-20T13:02:50.099122Z",
     "iopub.status.idle": "2023-02-20T13:02:50.130807Z",
     "shell.execute_reply": "2023-02-20T13:02:50.130127Z",
     "shell.execute_reply.started": "2023-02-20T13:02:50.099354Z"
    }
   },
   "outputs": [],
   "source": [
    "# wiktionary anschauen\n",
    "#grid(wiktionary, pak.sample)"
   ]
  },
  {
   "cell_type": "markdown",
   "metadata": {},
   "source": [
    "## flexion nach wiktionary_merkmal exploden\n",
    "* braucht viel RAM\n",
    "* hiernach muss die löschliste nochmal angewendet werden"
   ]
  },
  {
   "cell_type": "code",
   "execution_count": 169,
   "metadata": {
    "execution": {
     "iopub.execute_input": "2023-02-20T13:02:50.131851Z",
     "iopub.status.busy": "2023-02-20T13:02:50.131608Z",
     "iopub.status.idle": "2023-02-20T13:08:08.587209Z",
     "shell.execute_reply": "2023-02-20T13:08:08.569601Z",
     "shell.execute_reply.started": "2023-02-20T13:02:50.131826Z"
    },
    "tags": []
   },
   "outputs": [
    {
     "name": "stdout",
     "output_type": "stream",
     "text": [
      "Exception occurred while processing request: 'NoneType' object is not iterable\n",
      "Traceback (most recent call last):\n",
      "  File \"/home/me/mambaforge/envs/python_06/lib/python3.9/site-packages/dtale/views.py\", line 120, in _handle_exceptions\n",
      "    return func(*args, **kwargs)\n",
      "  File \"/home/me/mambaforge/envs/python_06/lib/python3.9/site-packages/dtale/views.py\", line 2480, in get_data\n",
      "    curr_dtypes = [c[\"name\"] for c in global_state.get_dtypes(data_id)]\n",
      "TypeError: 'NoneType' object is not iterable\n"
     ]
    },
    {
     "name": "stderr",
     "output_type": "stream",
     "text": [
      "2023-02-20 14:05:44,268 - ERROR    - Exception occurred while processing request: 'NoneType' object is not iterable\n",
      "Traceback (most recent call last):\n",
      "  File \"/home/me/mambaforge/envs/python_06/lib/python3.9/site-packages/dtale/views.py\", line 120, in _handle_exceptions\n",
      "    return func(*args, **kwargs)\n",
      "  File \"/home/me/mambaforge/envs/python_06/lib/python3.9/site-packages/dtale/views.py\", line 2480, in get_data\n",
      "    curr_dtypes = [c[\"name\"] for c in global_state.get_dtypes(data_id)]\n",
      "TypeError: 'NoneType' object is not iterable\n"
     ]
    },
    {
     "name": "stdout",
     "output_type": "stream",
     "text": [
      "Exception occurred while processing request: 'NoneType' object is not iterable\n",
      "Traceback (most recent call last):\n",
      "  File \"/home/me/mambaforge/envs/python_06/lib/python3.9/site-packages/dtale/views.py\", line 120, in _handle_exceptions\n",
      "    return func(*args, **kwargs)\n",
      "  File \"/home/me/mambaforge/envs/python_06/lib/python3.9/site-packages/dtale/views.py\", line 2480, in get_data\n",
      "    curr_dtypes = [c[\"name\"] for c in global_state.get_dtypes(data_id)]\n",
      "TypeError: 'NoneType' object is not iterable\n"
     ]
    },
    {
     "name": "stderr",
     "output_type": "stream",
     "text": [
      "2023-02-20 14:05:46,784 - ERROR    - Exception occurred while processing request: 'NoneType' object is not iterable\n",
      "Traceback (most recent call last):\n",
      "  File \"/home/me/mambaforge/envs/python_06/lib/python3.9/site-packages/dtale/views.py\", line 120, in _handle_exceptions\n",
      "    return func(*args, **kwargs)\n",
      "  File \"/home/me/mambaforge/envs/python_06/lib/python3.9/site-packages/dtale/views.py\", line 2480, in get_data\n",
      "    curr_dtypes = [c[\"name\"] for c in global_state.get_dtypes(data_id)]\n",
      "TypeError: 'NoneType' object is not iterable\n"
     ]
    },
    {
     "name": "stdout",
     "output_type": "stream",
     "text": [
      "Exception occurred while processing request: 'NoneType' object is not iterable\n",
      "Traceback (most recent call last):\n",
      "  File \"/home/me/mambaforge/envs/python_06/lib/python3.9/site-packages/dtale/views.py\", line 120, in _handle_exceptions\n",
      "    return func(*args, **kwargs)\n",
      "  File \"/home/me/mambaforge/envs/python_06/lib/python3.9/site-packages/dtale/views.py\", line 2480, in get_data\n",
      "    curr_dtypes = [c[\"name\"] for c in global_state.get_dtypes(data_id)]\n",
      "TypeError: 'NoneType' object is not iterable\n"
     ]
    },
    {
     "name": "stderr",
     "output_type": "stream",
     "text": [
      "2023-02-20 14:05:48,398 - ERROR    - Exception occurred while processing request: 'NoneType' object is not iterable\n",
      "Traceback (most recent call last):\n",
      "  File \"/home/me/mambaforge/envs/python_06/lib/python3.9/site-packages/dtale/views.py\", line 120, in _handle_exceptions\n",
      "    return func(*args, **kwargs)\n",
      "  File \"/home/me/mambaforge/envs/python_06/lib/python3.9/site-packages/dtale/views.py\", line 2480, in get_data\n",
      "    curr_dtypes = [c[\"name\"] for c in global_state.get_dtypes(data_id)]\n",
      "TypeError: 'NoneType' object is not iterable\n"
     ]
    },
    {
     "name": "stdout",
     "output_type": "stream",
     "text": [
      "Exception occurred while processing request: 'NoneType' object is not iterable\n",
      "Traceback (most recent call last):\n",
      "  File \"/home/me/mambaforge/envs/python_06/lib/python3.9/site-packages/dtale/views.py\", line 120, in _handle_exceptions\n",
      "    return func(*args, **kwargs)\n",
      "  File \"/home/me/mambaforge/envs/python_06/lib/python3.9/site-packages/dtale/views.py\", line 2480, in get_data\n",
      "    curr_dtypes = [c[\"name\"] for c in global_state.get_dtypes(data_id)]\n",
      "TypeError: 'NoneType' object is not iterable\n"
     ]
    },
    {
     "name": "stderr",
     "output_type": "stream",
     "text": [
      "2023-02-20 14:05:49,213 - ERROR    - Exception occurred while processing request: 'NoneType' object is not iterable\n",
      "Traceback (most recent call last):\n",
      "  File \"/home/me/mambaforge/envs/python_06/lib/python3.9/site-packages/dtale/views.py\", line 120, in _handle_exceptions\n",
      "    return func(*args, **kwargs)\n",
      "  File \"/home/me/mambaforge/envs/python_06/lib/python3.9/site-packages/dtale/views.py\", line 2480, in get_data\n",
      "    curr_dtypes = [c[\"name\"] for c in global_state.get_dtypes(data_id)]\n",
      "TypeError: 'NoneType' object is not iterable\n"
     ]
    },
    {
     "name": "stdout",
     "output_type": "stream",
     "text": [
      "Exception occurred while processing request: 'NoneType' object is not iterable\n",
      "Traceback (most recent call last):\n",
      "  File \"/home/me/mambaforge/envs/python_06/lib/python3.9/site-packages/dtale/views.py\", line 120, in _handle_exceptions\n",
      "    return func(*args, **kwargs)\n",
      "  File \"/home/me/mambaforge/envs/python_06/lib/python3.9/site-packages/dtale/views.py\", line 2480, in get_data\n",
      "    curr_dtypes = [c[\"name\"] for c in global_state.get_dtypes(data_id)]\n",
      "TypeError: 'NoneType' object is not iterable\n"
     ]
    },
    {
     "name": "stderr",
     "output_type": "stream",
     "text": [
      "2023-02-20 14:05:50,386 - ERROR    - Exception occurred while processing request: 'NoneType' object is not iterable\n",
      "Traceback (most recent call last):\n",
      "  File \"/home/me/mambaforge/envs/python_06/lib/python3.9/site-packages/dtale/views.py\", line 120, in _handle_exceptions\n",
      "    return func(*args, **kwargs)\n",
      "  File \"/home/me/mambaforge/envs/python_06/lib/python3.9/site-packages/dtale/views.py\", line 2480, in get_data\n",
      "    curr_dtypes = [c[\"name\"] for c in global_state.get_dtypes(data_id)]\n",
      "TypeError: 'NoneType' object is not iterable\n"
     ]
    }
   ],
   "source": [
    "# flexion: vorbereiten\n",
    "mask1 = wiktionary.flexion.notnull() \n",
    "mask2 = wiktionary.flexion != {}\n",
    "mask3 = wiktionary.flexion != defaultdict(list)\n",
    "mask = mask1  &  mask2  &  mask3 \n",
    "\n",
    "spalten = ['section_id2','flexion']\n",
    "df = pak.explode_dict(wiktionary[spalten][mask], col_dict='flexion', col_key='node_kontext', col_value='data', from_defaultdict=True)\n",
    "df['merkmal'] = 'flexion'"
   ]
  },
  {
   "cell_type": "code",
   "execution_count": 170,
   "metadata": {
    "execution": {
     "iopub.execute_input": "2023-02-20T13:08:08.623443Z",
     "iopub.status.busy": "2023-02-20T13:08:08.622583Z",
     "iopub.status.idle": "2023-02-20T13:08:09.645907Z",
     "shell.execute_reply": "2023-02-20T13:08:09.644814Z",
     "shell.execute_reply.started": "2023-02-20T13:08:08.623411Z"
    }
   },
   "outputs": [
    {
     "name": "stdout",
     "output_type": "stream",
     "text": [
      "3 rows out of 3012923\n"
     ]
    },
    {
     "data": {
      "text/html": [
       "<div>\n",
       "<style scoped>\n",
       "    .dataframe tbody tr th:only-of-type {\n",
       "        vertical-align: middle;\n",
       "    }\n",
       "\n",
       "    .dataframe tbody tr th {\n",
       "        vertical-align: top;\n",
       "    }\n",
       "\n",
       "    .dataframe thead th {\n",
       "        text-align: right;\n",
       "    }\n",
       "</style>\n",
       "<table border=\"1\" class=\"dataframe\">\n",
       "  <thead>\n",
       "    <tr style=\"text-align: right;\">\n",
       "      <th></th>\n",
       "      <th>section_id2</th>\n",
       "      <th>node_kontext</th>\n",
       "      <th>data</th>\n",
       "      <th>merkmal</th>\n",
       "    </tr>\n",
       "  </thead>\n",
       "  <tbody>\n",
       "    <tr>\n",
       "      <th>121213</th>\n",
       "      <td>gefriergetrocknet</td>\n",
       "      <td>ipa</td>\n",
       "      <td>ɡəˈfʁiːɐ̯ɡəˌtʁɔknət</td>\n",
       "      <td>flexion</td>\n",
       "    </tr>\n",
       "    <tr>\n",
       "      <th>121213</th>\n",
       "      <td>gefriergetrocknet</td>\n",
       "      <td>syllables</td>\n",
       "      <td>ge⇀frier⇀ge⇀trock⇀net</td>\n",
       "      <td>flexion</td>\n",
       "    </tr>\n",
       "    <tr>\n",
       "      <th>121213</th>\n",
       "      <td>gefriergetrocknet</td>\n",
       "      <td>Positiv</td>\n",
       "      <td>gefriergetrocknet</td>\n",
       "      <td>flexion</td>\n",
       "    </tr>\n",
       "  </tbody>\n",
       "</table>\n",
       "</div>"
      ],
      "text/plain": [
       "              section_id2 node_kontext                   data  merkmal\n",
       "121213  gefriergetrocknet          ipa    ɡəˈfʁiːɐ̯ɡəˌtʁɔknət  flexion\n",
       "121213  gefriergetrocknet    syllables  ge⇀frier⇀ge⇀trock⇀net  flexion\n",
       "121213  gefriergetrocknet      Positiv      gefriergetrocknet  flexion"
      ]
     },
     "execution_count": 170,
     "metadata": {},
     "output_type": "execute_result"
    }
   ],
   "source": [
    "# Beispiel anschauen\n",
    "mask = df.section_id2 == suche_debug[0]\n",
    "grid(df,mask)"
   ]
  },
  {
   "cell_type": "code",
   "execution_count": 171,
   "metadata": {
    "execution": {
     "iopub.execute_input": "2023-02-20T13:08:09.648422Z",
     "iopub.status.busy": "2023-02-20T13:08:09.648132Z",
     "iopub.status.idle": "2023-02-20T13:08:09.692709Z",
     "shell.execute_reply": "2023-02-20T13:08:09.689087Z",
     "shell.execute_reply.started": "2023-02-20T13:08:09.648400Z"
    }
   },
   "outputs": [],
   "source": [
    "#bpy.minivenn(wiktionary_merkmal.columns, df.columns)"
   ]
  },
  {
   "cell_type": "code",
   "execution_count": 172,
   "metadata": {
    "execution": {
     "iopub.execute_input": "2023-02-20T13:08:09.706936Z",
     "iopub.status.busy": "2023-02-20T13:08:09.699640Z",
     "iopub.status.idle": "2023-02-20T13:08:17.500375Z",
     "shell.execute_reply": "2023-02-20T13:08:17.499682Z",
     "shell.execute_reply.started": "2023-02-20T13:08:09.706843Z"
    }
   },
   "outputs": [
    {
     "name": "stdout",
     "output_type": "stream",
     "text": [
      "3012923 rows added, now a total of 6277200\n"
     ]
    }
   ],
   "source": [
    "# an wiktionary_merkmal anfügen\n",
    "wiktionary_merkmal = pak.add_rows(wiktionary_merkmal, df, assert_subset=True)\n",
    "wiktionary   = pak.drop_cols(wiktionary, ['flexion'])  "
   ]
  },
  {
   "cell_type": "code",
   "execution_count": 173,
   "metadata": {
    "execution": {
     "iopub.execute_input": "2023-02-20T13:08:17.501496Z",
     "iopub.status.busy": "2023-02-20T13:08:17.501267Z",
     "iopub.status.idle": "2023-02-20T13:08:17.787705Z",
     "shell.execute_reply": "2023-02-20T13:08:17.787059Z",
     "shell.execute_reply.started": "2023-02-20T13:08:17.501475Z"
    },
    "tags": []
   },
   "outputs": [],
   "source": [
    "# Beispiel anschauen\n",
    "mask = wiktionary_merkmal.section_id2.isin(suche_debug)\n",
    "#grid(wiktionary_merkmal,mask)"
   ]
  },
  {
   "cell_type": "markdown",
   "metadata": {},
   "source": [
    "## wiktionary in 3 Teile aufteilen"
   ]
  },
  {
   "cell_type": "code",
   "execution_count": 174,
   "metadata": {
    "execution": {
     "iopub.execute_input": "2023-02-20T13:08:17.789338Z",
     "iopub.status.busy": "2023-02-20T13:08:17.788757Z",
     "iopub.status.idle": "2023-02-20T13:08:17.846992Z",
     "shell.execute_reply": "2023-02-20T13:08:17.834705Z",
     "shell.execute_reply.started": "2023-02-20T13:08:17.789312Z"
    }
   },
   "outputs": [
    {
     "name": "stdout",
     "output_type": "stream",
     "text": [
      "Stop Time:  14:08:17\n",
      "Elapsed:    12 mins, 36 secs\n"
     ]
    },
    {
     "data": {
      "text/html": [
       "<img src onerror=\"var cell = this.closest('.jp-CodeCell');var editor = cell.querySelector('.jp-Editor');editor.style.background='DarkGray';this.parentNode.removeChild(this)\">"
      ],
      "text/plain": [
       "<IPython.core.display.HTML object>"
      ]
     },
     "metadata": {},
     "output_type": "display_data"
    }
   ],
   "source": [
    "raise Stop"
   ]
  },
  {
   "cell_type": "code",
   "execution_count": null,
   "metadata": {
    "execution": {
     "iopub.status.busy": "2023-02-20T13:08:17.848207Z",
     "iopub.status.idle": "2023-02-20T13:08:17.848708Z",
     "shell.execute_reply": "2023-02-20T13:08:17.848448Z",
     "shell.execute_reply.started": "2023-02-20T13:08:17.848432Z"
    },
    "tags": []
   },
   "outputs": [],
   "source": [
    "# suche_debug \n",
    "mask = wiktionary.title.isin(suche_debug)\n",
    "grid(wiktionary[mask].sort_values(['section_id2',]))"
   ]
  },
  {
   "cell_type": "code",
   "execution_count": null,
   "metadata": {
    "execution": {
     "iopub.status.busy": "2023-02-20T13:08:17.850005Z",
     "iopub.status.idle": "2023-02-20T13:08:17.850680Z",
     "shell.execute_reply": "2023-02-20T13:08:17.850535Z",
     "shell.execute_reply.started": "2023-02-20T13:08:17.850516Z"
    },
    "tags": []
   },
   "outputs": [],
   "source": [
    "# pflege_tag_felder (zur Sicherheit noch mal)\n",
    "wiktionary = pflege_tag_felder(wiktionary, translate_tagZ)"
   ]
  },
  {
   "cell_type": "code",
   "execution_count": null,
   "metadata": {
    "execution": {
     "iopub.status.busy": "2023-02-20T13:08:17.851541Z",
     "iopub.status.idle": "2023-02-20T13:08:17.852200Z",
     "shell.execute_reply": "2023-02-20T13:08:17.852058Z",
     "shell.execute_reply.started": "2023-02-20T13:08:17.852040Z"
    },
    "tags": []
   },
   "outputs": [],
   "source": [
    "# LEX-Kennzeichnung sollte eineindeutig sein, außer bei FIX\n",
    "mask1 =  wiktionary.tag.str.contains('LEX_')   \n",
    "mask2 =  wiktionary.tag.str.contains(' ')\n",
    "mask3 = ~wiktionary.tag.str.contains('FIX')\n",
    "mask = mask1  &  mask2  &  mask3\n",
    "check_mask(wiktionary,mask, 0)"
   ]
  },
  {
   "cell_type": "markdown",
   "metadata": {},
   "source": [
    "### wiktionary_partizip\n",
    "* Enthält Partizipien in Form von Partizipialadjektiven\n",
    "* Aber keine Verben mit Partizip-Lexem!"
   ]
  },
  {
   "cell_type": "code",
   "execution_count": null,
   "metadata": {
    "execution": {
     "iopub.status.busy": "2023-02-20T13:08:17.853465Z",
     "iopub.status.idle": "2023-02-20T13:08:17.853801Z",
     "shell.execute_reply": "2023-02-20T13:08:17.853663Z",
     "shell.execute_reply.started": "2023-02-20T13:08:17.853648Z"
    }
   },
   "outputs": [],
   "source": [
    "# Partizipien nach wiktionary_partizip abspalten\n",
    "mask1 = wiktionary.tag == 'ADJA'\n",
    "mask2 = wiktionary.member.str.contains('Ptz')  \n",
    "mask = mask1  &  mask2\n",
    "wiktionary, wiktionary_partizip = pak.move_rows( wiktionary, mask, msg=None )  "
   ]
  },
  {
   "cell_type": "code",
   "execution_count": null,
   "metadata": {
    "execution": {
     "iopub.status.busy": "2023-02-20T13:08:17.855098Z",
     "iopub.status.idle": "2023-02-20T13:08:17.855409Z",
     "shell.execute_reply": "2023-02-20T13:08:17.855279Z",
     "shell.execute_reply.started": "2023-02-20T13:08:17.855265Z"
    }
   },
   "outputs": [],
   "source": [
    "## verblieben in wiktionary\n",
    "mask1 = (wiktionary.lemma == wiktionary.title)  \n",
    "mask2 = wiktionary.lemma.isin(suche_debug) \n",
    "mask = mask1 & mask2\n",
    "wiktionary[mask]"
   ]
  },
  {
   "cell_type": "code",
   "execution_count": null,
   "metadata": {
    "execution": {
     "iopub.status.busy": "2023-02-20T13:08:17.856569Z",
     "iopub.status.idle": "2023-02-20T13:08:17.859566Z",
     "shell.execute_reply": "2023-02-20T13:08:17.859240Z",
     "shell.execute_reply.started": "2023-02-20T13:08:17.859207Z"
    }
   },
   "outputs": [],
   "source": [
    "## jetzt in wiktionary_partizip\n",
    "mask = wiktionary_partizip.lemma.isin(suche_debug) \n",
    "wiktionary_partizip[mask]"
   ]
  },
  {
   "cell_type": "code",
   "execution_count": null,
   "metadata": {
    "execution": {
     "iopub.status.busy": "2023-02-20T13:08:17.861104Z",
     "iopub.status.idle": "2023-02-20T13:08:17.861543Z",
     "shell.execute_reply": "2023-02-20T13:08:17.861373Z",
     "shell.execute_reply.started": "2023-02-20T13:08:17.861357Z"
    },
    "tags": []
   },
   "outputs": [],
   "source": [
    "mask1 = wiktionary.tag == 'ADJA'\n",
    "mask2 = wiktionary.lemma.isin(wiktionary_partizip.lemma) \n",
    "mask = mask1  &  mask2\n",
    "gridt(wiktionary,mask)\n",
    "#wiktionary, wiktionary_partizip = pak.move_rows( wiktionary, mask, msg=None )  "
   ]
  },
  {
   "cell_type": "markdown",
   "metadata": {},
   "source": [
    "### wiktionary_nolemma"
   ]
  },
  {
   "cell_type": "code",
   "execution_count": null,
   "metadata": {
    "execution": {
     "iopub.status.busy": "2023-02-20T13:08:17.864731Z",
     "iopub.status.idle": "2023-02-20T13:08:17.866704Z",
     "shell.execute_reply": "2023-02-20T13:08:17.866378Z",
     "shell.execute_reply.started": "2023-02-20T13:08:17.866334Z"
    }
   },
   "outputs": [],
   "source": [
    "wiktionary_nolemma       = wiktionary.head(0)\n",
    "wiktionary_nolemma_trash = wiktionary.head(0)"
   ]
  },
  {
   "cell_type": "code",
   "execution_count": null,
   "metadata": {
    "execution": {
     "iopub.status.busy": "2023-02-20T13:08:17.869033Z",
     "iopub.status.idle": "2023-02-20T13:08:17.869734Z",
     "shell.execute_reply": "2023-02-20T13:08:17.869457Z",
     "shell.execute_reply.started": "2023-02-20T13:08:17.869429Z"
    }
   },
   "outputs": [],
   "source": [
    "# LEX-Datensätze nach wiktionary_nolemma verschieben\n",
    "mask = wiktionary.tag.str.contains('LEX_')    \n",
    "check_mask(wiktionary,mask,639734)\n",
    "wiktionary, wiktionary_nolemma = pak.move_rows( df_from=wiktionary, df_to=wiktionary_nolemma, mask=mask, msg='tag_LEX' )  "
   ]
  },
  {
   "cell_type": "code",
   "execution_count": null,
   "metadata": {
    "execution": {
     "iopub.status.busy": "2023-02-20T13:08:17.872243Z",
     "iopub.status.idle": "2023-02-20T13:08:17.873384Z",
     "shell.execute_reply": "2023-02-20T13:08:17.872887Z",
     "shell.execute_reply.started": "2023-02-20T13:08:17.872868Z"
    }
   },
   "outputs": [],
   "source": [
    "# auch nach wiktionary_nolemma verschieben\n",
    "mask = wiktionary.member.str.contains('Deklinierte_Form')   # 2 Datensätze\n",
    "check_mask(wiktionary, mask, 0, 10)\n",
    "wiktionary, wiktionary_nolemma = pak.move_rows( df_from=wiktionary, df_to=wiktionary_nolemma, mask=mask, msg='member_Deklinierte_Form' )  "
   ]
  },
  {
   "cell_type": "code",
   "execution_count": null,
   "metadata": {
    "execution": {
     "iopub.status.busy": "2023-02-20T13:08:17.874917Z",
     "iopub.status.idle": "2023-02-20T13:08:17.875831Z",
     "shell.execute_reply": "2023-02-20T13:08:17.875675Z",
     "shell.execute_reply.started": "2023-02-20T13:08:17.875656Z"
    }
   },
   "outputs": [],
   "source": [
    "# auch nach wiktionary_nolemma verschieben\n",
    "mask = (wiktionary.title != wiktionary.lemma)               # Es waren mal 10 Datensätze, jetzt sind es 5501\n",
    "check_mask(wiktionary, mask, 10)\n",
    "wiktionary, wiktionary_nolemma = pak.move_rows( df_from=wiktionary, df_to=wiktionary_nolemma, mask=mask, msg='title_ungleich_lemma' )  "
   ]
  },
  {
   "cell_type": "code",
   "execution_count": null,
   "metadata": {
    "execution": {
     "iopub.status.busy": "2023-02-20T13:08:17.877374Z",
     "iopub.status.idle": "2023-02-20T13:08:17.877773Z",
     "shell.execute_reply": "2023-02-20T13:08:17.877614Z",
     "shell.execute_reply.started": "2023-02-20T13:08:17.877599Z"
    },
    "tags": []
   },
   "outputs": [],
   "source": [
    "# wiktionary suche_debug\n",
    "#grid(search_str(wiktionary_nolemma, suche_debug))"
   ]
  },
  {
   "cell_type": "code",
   "execution_count": null,
   "metadata": {
    "execution": {
     "iopub.status.busy": "2023-02-20T13:08:17.887602Z",
     "iopub.status.idle": "2023-02-20T13:08:17.887997Z",
     "shell.execute_reply": "2023-02-20T13:08:17.887836Z",
     "shell.execute_reply.started": "2023-02-20T13:08:17.887820Z"
    }
   },
   "outputs": [],
   "source": [
    "# wiktionary_nolemma: Spalten pflegen\n",
    "wiktionary_nolemma = pak.rename_col(wiktionary_nolemma, 'title', 'lex')\n",
    "wiktionary_nolemma = pak.rename_col(wiktionary_nolemma, 'section_id2','nolemma_id')\n",
    "wiktionary_nolemma = pak.drop_cols(wiktionary_nolemma, ['pos','tag_anz','ipa','syllables','msg','page_id','page_part','inflected','rhymes'])\n",
    "#wiktionary_nolemma = pak.rename_col( wiktionary_nolemma, 'tag_0', 'tag') # Jetzt gibt es definitiv keine Mehrfachtags mehr"
   ]
  },
  {
   "cell_type": "code",
   "execution_count": null,
   "metadata": {
    "execution": {
     "iopub.status.busy": "2023-02-20T13:08:17.889106Z",
     "iopub.status.idle": "2023-02-20T13:08:17.892487Z",
     "shell.execute_reply": "2023-02-20T13:08:17.892266Z",
     "shell.execute_reply.started": "2023-02-20T13:08:17.892237Z"
    }
   },
   "outputs": [],
   "source": [
    "# anschauen\n",
    "pak.sample(wiktionary_nolemma)"
   ]
  },
  {
   "cell_type": "markdown",
   "metadata": {},
   "source": [
    "### wiktionary_lemma"
   ]
  },
  {
   "cell_type": "code",
   "execution_count": null,
   "metadata": {
    "execution": {
     "iopub.status.busy": "2023-02-20T13:08:17.894047Z",
     "iopub.status.idle": "2023-02-20T13:08:17.894412Z",
     "shell.execute_reply": "2023-02-20T13:08:17.894263Z",
     "shell.execute_reply.started": "2023-02-20T13:08:17.894248Z"
    }
   },
   "outputs": [],
   "source": [
    "# wiktionary_lemma: erstellen und Spalten pflegen\n",
    "wiktionary_lemma       = pak.drop_cols(wiktionary, ['title','pos'])\n",
    "wiktionary_lemma_trash = wiktionary_lemma.head(0)"
   ]
  },
  {
   "cell_type": "code",
   "execution_count": null,
   "metadata": {
    "execution": {
     "iopub.status.busy": "2023-02-20T13:08:17.895663Z",
     "iopub.status.idle": "2023-02-20T13:08:17.896003Z",
     "shell.execute_reply": "2023-02-20T13:08:17.895871Z",
     "shell.execute_reply.started": "2023-02-20T13:08:17.895856Z"
    }
   },
   "outputs": [],
   "source": [
    "#del wiktionary"
   ]
  },
  {
   "cell_type": "code",
   "execution_count": null,
   "metadata": {
    "execution": {
     "iopub.status.busy": "2023-02-20T13:08:17.897205Z",
     "iopub.status.idle": "2023-02-20T13:08:17.898054Z",
     "shell.execute_reply": "2023-02-20T13:08:17.897904Z",
     "shell.execute_reply.started": "2023-02-20T13:08:17.897884Z"
    }
   },
   "outputs": [],
   "source": [
    "# wiktionary_lemma suche_debug\n",
    "grid(search_str(wiktionary_lemma, suche_debug))"
   ]
  },
  {
   "cell_type": "code",
   "execution_count": null,
   "metadata": {
    "execution": {
     "iopub.status.busy": "2023-02-20T13:08:17.899317Z",
     "iopub.status.idle": "2023-02-20T13:08:17.900232Z",
     "shell.execute_reply": "2023-02-20T13:08:17.900074Z",
     "shell.execute_reply.started": "2023-02-20T13:08:17.900054Z"
    }
   },
   "outputs": [],
   "source": [
    "raise Stop"
   ]
  },
  {
   "cell_type": "markdown",
   "metadata": {},
   "source": [
    "## Partizipien\n",
    "Die Partizipien werden<br> \n",
    "a) an wiktionary_merkmal angefügt (als Partizip-Flexion des Verbs)<br> \n",
    "b) an wiktionary_lemma angefügt   (als Adjektiv mit member Partizip)\n",
    "\n",
    "Danach findet sich alles aus wiktionary in wiktionary_lemma und wiktionary_nolemma"
   ]
  },
  {
   "cell_type": "markdown",
   "metadata": {},
   "source": [
    "### wiktionary_partizip pflegen"
   ]
  },
  {
   "cell_type": "code",
   "execution_count": null,
   "metadata": {
    "execution": {
     "iopub.status.busy": "2023-02-20T13:08:17.901414Z",
     "iopub.status.idle": "2023-02-20T13:08:17.902204Z",
     "shell.execute_reply": "2023-02-20T13:08:17.902054Z",
     "shell.execute_reply.started": "2023-02-20T13:08:17.902037Z"
    }
   },
   "outputs": [],
   "source": [
    "# rename_col\n",
    "wiktionary_partizip = pak.rename_col(wiktionary_partizip,  'section_id2', 'adjektiv_id' )\n",
    "wiktionary_partizip = pak.rename_col(wiktionary_partizip,  'title',       'adjektiv'    )\n",
    "wiktionary_partizip = pak.rename_col(wiktionary_partizip,  'lemma',       'verb'        )\n",
    "\n",
    "#wiktionary_partizip = pak.move_cols(wiktionary_partizip,'verb_lower','verb')"
   ]
  },
  {
   "cell_type": "code",
   "execution_count": null,
   "metadata": {
    "execution": {
     "iopub.status.busy": "2023-02-20T13:08:17.903101Z",
     "iopub.status.idle": "2023-02-20T13:08:17.903861Z",
     "shell.execute_reply": "2023-02-20T13:08:17.903712Z",
     "shell.execute_reply.started": "2023-02-20T13:08:17.903693Z"
    }
   },
   "outputs": [],
   "source": [
    "# drop_cols\n",
    "lösche_spalten = ['pos','error','lang','lang_code','lemma_lower','inflected','tag_0','tag_1']\n",
    "wiktionary_partizip = pak.drop_cols(wiktionary_partizip,lösche_spalten)"
   ]
  },
  {
   "cell_type": "code",
   "execution_count": null,
   "metadata": {
    "execution": {
     "iopub.status.busy": "2023-02-20T13:08:17.905057Z",
     "iopub.status.idle": "2023-02-20T13:08:17.905364Z",
     "shell.execute_reply": "2023-02-20T13:08:17.905234Z",
     "shell.execute_reply.started": "2023-02-20T13:08:17.905220Z"
    }
   },
   "outputs": [],
   "source": [
    "# change_datatype\n",
    "wiktionary_partizip = pak.change_datatype(wiktionary_partizip)"
   ]
  },
  {
   "cell_type": "code",
   "execution_count": null,
   "metadata": {
    "execution": {
     "iopub.status.busy": "2023-02-20T13:08:17.906480Z",
     "iopub.status.idle": "2023-02-20T13:08:17.906790Z",
     "shell.execute_reply": "2023-02-20T13:08:17.906659Z",
     "shell.execute_reply.started": "2023-02-20T13:08:17.906644Z"
    }
   },
   "outputs": [],
   "source": [
    "# falsche Partizipien löschen\n",
    "falsche_partizipien = ['sehen','hören','wollen','lassen','mögen','sollen',]\n",
    "mask = wiktionary_partizip.adjektiv.isin(falsche_partizipien) \n",
    "check_mask(wiktionary_partizip, mask, 0, 6)\n",
    "wiktionary_partizip, df = pak.move_rows(wiktionary_partizip, mask)\n",
    "df"
   ]
  },
  {
   "cell_type": "code",
   "execution_count": null,
   "metadata": {
    "execution": {
     "iopub.status.busy": "2023-02-20T13:08:17.907953Z",
     "iopub.status.idle": "2023-02-20T13:08:17.908699Z",
     "shell.execute_reply": "2023-02-20T13:08:17.908541Z",
     "shell.execute_reply.started": "2023-02-20T13:08:17.908520Z"
    }
   },
   "outputs": [],
   "source": [
    "#grid(wiktionary_partizip)"
   ]
  },
  {
   "cell_type": "code",
   "execution_count": null,
   "metadata": {
    "execution": {
     "iopub.status.busy": "2023-02-20T13:08:17.910032Z",
     "iopub.status.idle": "2023-02-20T13:08:17.910632Z",
     "shell.execute_reply": "2023-02-20T13:08:17.910469Z",
     "shell.execute_reply.started": "2023-02-20T13:08:17.910450Z"
    }
   },
   "outputs": [],
   "source": [
    "# wiktionary suche_debug\n",
    "grid(search_str(wiktionary_partizip, suche_debug))"
   ]
  },
  {
   "cell_type": "code",
   "execution_count": null,
   "metadata": {
    "execution": {
     "iopub.status.busy": "2023-02-20T13:08:17.912038Z",
     "iopub.status.idle": "2023-02-20T13:08:17.912966Z",
     "shell.execute_reply": "2023-02-20T13:08:17.912781Z",
     "shell.execute_reply.started": "2023-02-20T13:08:17.912759Z"
    }
   },
   "outputs": [],
   "source": [
    "# So sehen normale Partizipien 1 aus\n",
    "mask1 = wiktionary_partizip.verb.str.endswith(verbendungen)\n",
    "mask2 = wiktionary_partizip.member.str.contains('Ptz1')\n",
    "mask = mask1 & mask2\n",
    "grid(wiktionary_partizip,mask)"
   ]
  },
  {
   "cell_type": "code",
   "execution_count": null,
   "metadata": {
    "execution": {
     "iopub.status.busy": "2023-02-20T13:08:17.914121Z",
     "iopub.status.idle": "2023-02-20T13:08:17.915057Z",
     "shell.execute_reply": "2023-02-20T13:08:17.914879Z",
     "shell.execute_reply.started": "2023-02-20T13:08:17.914856Z"
    }
   },
   "outputs": [],
   "source": [
    "# Dies sind kaputte Partizipien 1: Das verb ist falsch, kann aber leicht korrigiert werden\n",
    "mask1 = ~wiktionary_partizip.verb.str.endswith(verbendungen)\n",
    "mask2 =  wiktionary_partizip.member.str.contains('Ptz1')\n",
    "mask3 =  wiktionary_partizip.adjektiv == wiktionary_partizip.verb\n",
    "mask4 =  wiktionary_partizip.verb.str.endswith(('end','ernd'))\n",
    "mask = mask1  &  mask2  &  mask3  &  mask4\n",
    "\n",
    "wiktionary_partizip.loc[mask,'verb'] = wiktionary_partizip[mask].verb.str[:-1]\n",
    "grid(wiktionary_partizip,mask)"
   ]
  },
  {
   "cell_type": "code",
   "execution_count": null,
   "metadata": {
    "execution": {
     "iopub.status.busy": "2023-02-20T13:08:17.916149Z",
     "iopub.status.idle": "2023-02-20T13:08:17.917358Z",
     "shell.execute_reply": "2023-02-20T13:08:17.917175Z",
     "shell.execute_reply.started": "2023-02-20T13:08:17.917150Z"
    }
   },
   "outputs": [],
   "source": [
    "# So sehen normale Partizipien 2 aus\n",
    "mask1 = wiktionary_partizip.verb.str.endswith(verbendungen)\n",
    "mask2 = wiktionary_partizip.member.str.contains('Ptz2')\n",
    "mask = mask1 & mask2\n",
    "grid(wiktionary_partizip,mask)"
   ]
  },
  {
   "cell_type": "code",
   "execution_count": null,
   "metadata": {
    "execution": {
     "iopub.status.busy": "2023-02-20T13:08:17.918551Z",
     "iopub.status.idle": "2023-02-20T13:08:17.919490Z",
     "shell.execute_reply": "2023-02-20T13:08:17.919310Z",
     "shell.execute_reply.started": "2023-02-20T13:08:17.919286Z"
    }
   },
   "outputs": [],
   "source": [
    "# Dies sind kaputte Partizipien 2: Das verb ist falsch, kann auch nicht gut korrigiert werden.\n",
    "mask1 = ~wiktionary_partizip.verb.str.endswith(verbendungen)\n",
    "mask2 = wiktionary_partizip.member.str.contains('Ptz2')\n",
    "mask3 = wiktionary_partizip.adjektiv == wiktionary_partizip.verb\n",
    "mask4 = wiktionary_partizip.verb.str.endswith('t')\n",
    "mask = mask1  &  mask2  &  mask3  &  mask4\n",
    "grid(wiktionary_partizip,mask)"
   ]
  },
  {
   "cell_type": "code",
   "execution_count": null,
   "metadata": {
    "execution": {
     "iopub.status.busy": "2023-02-20T13:08:17.920621Z",
     "iopub.status.idle": "2023-02-20T13:08:17.921603Z",
     "shell.execute_reply": "2023-02-20T13:08:17.921407Z",
     "shell.execute_reply.started": "2023-02-20T13:08:17.921382Z"
    }
   },
   "outputs": [],
   "source": [
    "# Kaputte Partizipien 2 löschen\n",
    "check_mask(wiktionary_partizip,mask,0,10)\n",
    "wiktionary_partizip = pak.drop_rows(wiktionary_partizip,mask)"
   ]
  },
  {
   "cell_type": "code",
   "execution_count": null,
   "metadata": {
    "execution": {
     "iopub.status.busy": "2023-02-20T13:08:17.922687Z",
     "iopub.status.idle": "2023-02-20T13:08:17.923555Z",
     "shell.execute_reply": "2023-02-20T13:08:17.923404Z",
     "shell.execute_reply.started": "2023-02-20T13:08:17.923385Z"
    }
   },
   "outputs": [],
   "source": [
    "# Gibt es weitere kaputte Partizipien?\n",
    "mask = ~wiktionary_partizip.verb.str.endswith(verbendungen)\n",
    "check_mask(wiktionary_partizip,mask,0)\n",
    "#grid(wiktionary_partizip,mask)"
   ]
  },
  {
   "cell_type": "code",
   "execution_count": null,
   "metadata": {
    "execution": {
     "iopub.status.busy": "2023-02-20T13:08:17.924485Z",
     "iopub.status.idle": "2023-02-20T13:08:17.924784Z",
     "shell.execute_reply": "2023-02-20T13:08:17.924656Z",
     "shell.execute_reply.started": "2023-02-20T13:08:17.924642Z"
    }
   },
   "outputs": [],
   "source": [
    "# Wenn es verb nicht auch als Wort gibt, dann ist das Müll und kann weg.\n",
    "# Wenn man das nicht will: Als Partizipien in lexeme_manuell aufnehmen!\n",
    "\n",
    "mask = ~wiktionary_partizip.verb.isin(wiktionary_lemma.lemma)\n",
    "check_mask(wiktionary_partizip,mask,0,10)\n",
    "wiktionary_partizip,df = pak.move_rows(wiktionary_partizip,mask)\n",
    "df"
   ]
  },
  {
   "cell_type": "code",
   "execution_count": null,
   "metadata": {
    "execution": {
     "iopub.status.busy": "2023-02-20T13:08:17.925983Z",
     "iopub.status.idle": "2023-02-20T13:08:17.926693Z",
     "shell.execute_reply": "2023-02-20T13:08:17.926549Z",
     "shell.execute_reply.started": "2023-02-20T13:08:17.926531Z"
    }
   },
   "outputs": [],
   "source": [
    "mask = wiktionary_lemma.tagZZ == 'V'\n",
    "pak.analyse_freqs( wiktionary_lemma[mask], ['tag', 'member'])\n",
    "#wiktionary_lemma[mask]"
   ]
  },
  {
   "cell_type": "code",
   "execution_count": null,
   "metadata": {
    "execution": {
     "iopub.status.busy": "2023-02-20T13:08:17.928096Z",
     "iopub.status.idle": "2023-02-20T13:08:17.928490Z",
     "shell.execute_reply": "2023-02-20T13:08:17.928325Z",
     "shell.execute_reply.started": "2023-02-20T13:08:17.928311Z"
    }
   },
   "outputs": [],
   "source": [
    "# verb_id ermitteln\n",
    "mask = wiktionary_lemma.tagZZ == 'V'\n",
    "wiktionary_partizip = pak.update_col( wiktionary_partizip,  wiktionary_lemma[mask], \n",
    "                                      left_on='verb',       right_on='lemma', \n",
    "                                      col_rename='verb_id', col='section_id2',    \n",
    "                                                            col_score='score' \n",
    "                                    )\n",
    "wiktionary_partizip = pak.move_cols(wiktionary_partizip, 'verb_id','adjektiv')"
   ]
  },
  {
   "cell_type": "code",
   "execution_count": null,
   "metadata": {
    "execution": {
     "iopub.status.busy": "2023-02-20T13:08:17.933399Z",
     "iopub.status.idle": "2023-02-20T13:08:17.934276Z",
     "shell.execute_reply": "2023-02-20T13:08:17.934119Z",
     "shell.execute_reply.started": "2023-02-20T13:08:17.934098Z"
    }
   },
   "outputs": [],
   "source": [
    "# keine verb_id? Dann ist das Müll und kann weg.\n",
    "# Wenn man das nicht will: Als Partizipien in lexeme_manuell aufnehmen!\n",
    "\n",
    "mask = wiktionary_partizip.verb_id.isnull()\n",
    "check_mask(wiktionary_partizip,mask,0,5)\n",
    "wiktionary_partizip,df = pak.move_rows(wiktionary_partizip,mask)\n",
    "df"
   ]
  },
  {
   "cell_type": "code",
   "execution_count": null,
   "metadata": {
    "execution": {
     "iopub.status.busy": "2023-02-20T13:08:17.935383Z",
     "iopub.status.idle": "2023-02-20T13:08:17.936814Z",
     "shell.execute_reply": "2023-02-20T13:08:17.936534Z",
     "shell.execute_reply.started": "2023-02-20T13:08:17.936502Z"
    }
   },
   "outputs": [],
   "source": [
    "# member pflegen. Enthält danach genau Ptz1 x-oder Ptz2.\n",
    "wiktionary_partizip['member'] = pak.remove_str(wiktionary_partizip.member,['Adjektiv','Wortverbindung'])\n",
    "mask = ~wiktionary_partizip.member.isin(['Ptz1','Ptz2'])\n",
    "check_mask(wiktionary_partizip,mask,0)\n",
    "mask = wiktionary_partizip.member.isnull()  |  (wiktionary_partizip.member=='')\n",
    "check_mask(wiktionary_partizip,mask,0)"
   ]
  },
  {
   "cell_type": "code",
   "execution_count": null,
   "metadata": {
    "execution": {
     "iopub.status.busy": "2023-02-20T13:08:17.939336Z",
     "iopub.status.idle": "2023-02-20T13:08:17.939958Z",
     "shell.execute_reply": "2023-02-20T13:08:17.939711Z",
     "shell.execute_reply.started": "2023-02-20T13:08:17.939685Z"
    }
   },
   "outputs": [],
   "source": [
    "# Dups sollten eigentlich nicht drin sein\n",
    "mask = wiktionary_partizip.duplicated()\n",
    "check_mask(wiktionary_partizip,mask,0)"
   ]
  },
  {
   "cell_type": "code",
   "execution_count": null,
   "metadata": {
    "execution": {
     "iopub.status.busy": "2023-02-20T13:08:17.946040Z",
     "iopub.status.idle": "2023-02-20T13:08:17.946434Z",
     "shell.execute_reply": "2023-02-20T13:08:17.946276Z",
     "shell.execute_reply.started": "2023-02-20T13:08:17.946261Z"
    }
   },
   "outputs": [],
   "source": [
    "# wiktionary_partizip.member analysieren\n",
    "#r = pak.analyse_freqs( wiktionary_partizip, ['member', 'verb','adjektiv'])\n",
    "#r"
   ]
  },
  {
   "cell_type": "code",
   "execution_count": null,
   "metadata": {
    "execution": {
     "iopub.status.busy": "2023-02-20T13:08:17.953254Z",
     "iopub.status.idle": "2023-02-20T13:08:17.954036Z",
     "shell.execute_reply": "2023-02-20T13:08:17.953886Z",
     "shell.execute_reply.started": "2023-02-20T13:08:17.953867Z"
    }
   },
   "outputs": [],
   "source": [
    "mask = wiktionary_partizip.adjektiv.isin(['betroffen','dienend'])\n",
    "wiktionary_partizip[mask]"
   ]
  },
  {
   "cell_type": "markdown",
   "metadata": {},
   "source": [
    "### Partizipien als Flexion des Verbs eintragen"
   ]
  },
  {
   "cell_type": "code",
   "execution_count": null,
   "metadata": {
    "execution": {
     "iopub.status.busy": "2023-02-20T13:08:17.954901Z",
     "iopub.status.idle": "2023-02-20T13:08:17.955702Z",
     "shell.execute_reply": "2023-02-20T13:08:17.955530Z",
     "shell.execute_reply.started": "2023-02-20T13:08:17.955509Z"
    }
   },
   "outputs": [],
   "source": [
    "#wiktionary_merkmal"
   ]
  },
  {
   "cell_type": "code",
   "execution_count": null,
   "metadata": {
    "execution": {
     "iopub.status.busy": "2023-02-20T13:08:17.956910Z",
     "iopub.status.idle": "2023-02-20T13:08:17.957310Z",
     "shell.execute_reply": "2023-02-20T13:08:17.957153Z",
     "shell.execute_reply.started": "2023-02-20T13:08:17.957137Z"
    }
   },
   "outputs": [],
   "source": [
    "# wiktionary_merkmal_partizip\n",
    "wiktionary_merkmal_partizip = wiktionary_partizip.copy()\n",
    "wiktionary_merkmal_partizip = pak.rename_col(wiktionary_merkmal_partizip, 'member',      'merkmal')\n",
    "wiktionary_merkmal_partizip = pak.rename_col(wiktionary_merkmal_partizip, 'verb_id',     'section_id2')\n",
    "wiktionary_merkmal_partizip = pak.rename_col(wiktionary_merkmal_partizip, 'adjektiv_id', 'data_id')\n",
    "wiktionary_merkmal_partizip = pak.rename_col(wiktionary_merkmal_partizip, 'adjektiv',    'data')\n",
    "wiktionary_merkmal_partizip = pak.drop_cols(wiktionary_merkmal_partizip,['tag','tagZ','tagZZ','score','verb','page_id','page_part'])\n",
    "wiktionary_merkmal_partizip = pak.move_cols(wiktionary_merkmal_partizip,['section_id2','merkmal'])\n",
    "assert set(wiktionary_merkmal_partizip.columns) == set(['section_id2','merkmal','data_id','data'])\n",
    "pak.sample(wiktionary_merkmal_partizip)"
   ]
  },
  {
   "cell_type": "code",
   "execution_count": null,
   "metadata": {
    "execution": {
     "iopub.status.busy": "2023-02-20T13:08:17.958744Z",
     "iopub.status.idle": "2023-02-20T13:08:17.959793Z",
     "shell.execute_reply": "2023-02-20T13:08:17.959603Z",
     "shell.execute_reply.started": "2023-02-20T13:08:17.959580Z"
    }
   },
   "outputs": [],
   "source": [
    "# wiktionary_partizip suche_debug\n",
    "search_str(wiktionary_merkmal_partizip, suche_debug)"
   ]
  },
  {
   "cell_type": "code",
   "execution_count": null,
   "metadata": {
    "execution": {
     "iopub.status.busy": "2023-02-20T13:08:17.961183Z",
     "iopub.status.idle": "2023-02-20T13:08:17.962157Z",
     "shell.execute_reply": "2023-02-20T13:08:17.961961Z",
     "shell.execute_reply.started": "2023-02-20T13:08:17.961936Z"
    }
   },
   "outputs": [],
   "source": [
    "# wiktionary_merkmal_partizip als merkmal anfügen\n",
    "wiktionary_merkmal = pak.add_rows(wiktionary_merkmal, wiktionary_merkmal_partizip)"
   ]
  },
  {
   "cell_type": "markdown",
   "metadata": {},
   "source": [
    "### Partizipien als Adjektiv einpflegen"
   ]
  },
  {
   "cell_type": "code",
   "execution_count": null,
   "metadata": {
    "execution": {
     "iopub.status.busy": "2023-02-20T13:08:17.963497Z",
     "iopub.status.idle": "2023-02-20T13:08:17.964254Z",
     "shell.execute_reply": "2023-02-20T13:08:17.964106Z",
     "shell.execute_reply.started": "2023-02-20T13:08:17.964082Z"
    }
   },
   "outputs": [],
   "source": [
    "wiktionary_partizip.head(1)"
   ]
  },
  {
   "cell_type": "code",
   "execution_count": null,
   "metadata": {
    "execution": {
     "iopub.status.busy": "2023-02-20T13:08:17.965199Z",
     "iopub.status.idle": "2023-02-20T13:08:17.965917Z",
     "shell.execute_reply": "2023-02-20T13:08:17.965773Z",
     "shell.execute_reply.started": "2023-02-20T13:08:17.965755Z"
    }
   },
   "outputs": [],
   "source": [
    "wiktionary_lemma.head(1)"
   ]
  },
  {
   "cell_type": "code",
   "execution_count": null,
   "metadata": {
    "execution": {
     "iopub.status.busy": "2023-02-20T13:08:17.966940Z",
     "iopub.status.idle": "2023-02-20T13:08:17.968754Z",
     "shell.execute_reply": "2023-02-20T13:08:17.968514Z",
     "shell.execute_reply.started": "2023-02-20T13:08:17.968482Z"
    }
   },
   "outputs": [],
   "source": [
    "# wiktionary_lemma_partizip\n",
    "wiktionary_lemma_partizip = wiktionary_partizip.copy()\n",
    "wiktionary_lemma_partizip = pak.rename_col(wiktionary_lemma_partizip, 'adjektiv_id',     'section_id2')\n",
    "wiktionary_lemma_partizip = pak.rename_col(wiktionary_lemma_partizip, 'adjektiv',        'lemma')\n",
    "wiktionary_lemma_partizip = pak.rename_col(wiktionary_lemma_partizip, 'verb_id',         'data_id')\n",
    "wiktionary_lemma_partizip = pak.drop_cols(wiktionary_lemma_partizip, ['verb'] )\n",
    "wiktionary_lemma_partizip = ergänze_felder(wiktionary_lemma_partizip)\n",
    "wiktionary_lemma_partizip = pflege_tag_felder(wiktionary_lemma_partizip, translate_tagZ)\n",
    "\n",
    "pak.sample(wiktionary_lemma_partizip)"
   ]
  },
  {
   "cell_type": "code",
   "execution_count": null,
   "metadata": {
    "execution": {
     "iopub.status.busy": "2023-02-20T13:08:17.970356Z",
     "iopub.status.idle": "2023-02-20T13:08:17.972919Z",
     "shell.execute_reply": "2023-02-20T13:08:17.972702Z",
     "shell.execute_reply.started": "2023-02-20T13:08:17.972675Z"
    }
   },
   "outputs": [],
   "source": [
    "# Einige ungeeignete Partizipien löschen\n",
    "mask1 = ~wiktionary_lemma_partizip.lemma.str.endswith(('d','t','en'))\n",
    "mask2 = ~wiktionary_lemma_partizip.lemma.isin(['vertan',])\n",
    "mask = mask1  &  mask2\n",
    "check_mask(wiktionary_lemma_partizip,mask,37)\n",
    "wiktionary_lemma_partizip, df = pak.move_rows(wiktionary_lemma_partizip,mask)\n",
    "grid(df)"
   ]
  },
  {
   "cell_type": "code",
   "execution_count": null,
   "metadata": {
    "execution": {
     "iopub.status.busy": "2023-02-20T13:08:17.974016Z",
     "iopub.status.idle": "2023-02-20T13:08:17.976787Z",
     "shell.execute_reply": "2023-02-20T13:08:17.976564Z",
     "shell.execute_reply.started": "2023-02-20T13:08:17.976537Z"
    }
   },
   "outputs": [],
   "source": [
    "# wiktionary_lemma suche_debug\n",
    "grid(search_str(wiktionary_lemma_partizip, suche_debug))"
   ]
  },
  {
   "cell_type": "code",
   "execution_count": null,
   "metadata": {
    "execution": {
     "iopub.status.busy": "2023-02-20T13:08:17.978275Z",
     "iopub.status.idle": "2023-02-20T13:08:17.978600Z",
     "shell.execute_reply": "2023-02-20T13:08:17.978465Z",
     "shell.execute_reply.started": "2023-02-20T13:08:17.978451Z"
    }
   },
   "outputs": [],
   "source": [
    "# wiktionary_lemma_partizip als lemma anfügen\n",
    "wiktionary_lemma = pak.add_rows(wiktionary_lemma, wiktionary_lemma_partizip)"
   ]
  },
  {
   "cell_type": "markdown",
   "metadata": {},
   "source": [
    "### Manuelle Partizipien als Adjektiv einpflegen"
   ]
  },
  {
   "cell_type": "code",
   "execution_count": null,
   "metadata": {
    "execution": {
     "iopub.status.busy": "2023-02-20T13:08:17.979765Z",
     "iopub.status.idle": "2023-02-20T13:08:17.981216Z",
     "shell.execute_reply": "2023-02-20T13:08:17.980984Z",
     "shell.execute_reply.started": "2023-02-20T13:08:17.980951Z"
    }
   },
   "outputs": [],
   "source": [
    "# lexeme_manuell_copy als Basis\n",
    "mask = lexeme_manuell_copy.tab == 'Partizipien'\n",
    "ptz_manuell = lexeme_manuell_copy[mask]"
   ]
  },
  {
   "cell_type": "code",
   "execution_count": null,
   "metadata": {
    "execution": {
     "iopub.status.busy": "2023-02-20T13:08:17.983335Z",
     "iopub.status.idle": "2023-02-20T13:08:17.985674Z",
     "shell.execute_reply": "2023-02-20T13:08:17.985446Z",
     "shell.execute_reply.started": "2023-02-20T13:08:17.985416Z"
    }
   },
   "outputs": [],
   "source": [
    "# id des Verbs holen (dirty)\n",
    "ptz_manuell = pak.update_col(ptz_manuell, \n",
    "                             lexeme_manuell,\n",
    "                             on=['lemma','tag'],  \n",
    "                             col='section_id2',\n",
    "                             col_rename='data_id'\n",
    "                            )"
   ]
  },
  {
   "cell_type": "code",
   "execution_count": null,
   "metadata": {
    "execution": {
     "iopub.status.busy": "2023-02-20T13:08:17.987041Z",
     "iopub.status.idle": "2023-02-20T13:08:17.988186Z",
     "shell.execute_reply": "2023-02-20T13:08:17.987973Z",
     "shell.execute_reply.started": "2023-02-20T13:08:17.987945Z"
    }
   },
   "outputs": [],
   "source": [
    "# Weitere Spalten\n",
    "ptz_manuell['section_id2'] = ptz_manuell.lex.str.replace(' ','_') + '_MADJ'\n",
    "spalten = ['section_id2','lex','tag_lex','data_id']\n",
    "ptz_manuell = ptz_manuell[spalten]\n",
    "ptz_manuell = pak.rename_col(ptz_manuell, 'lex',    'lemma')\n",
    "ptz_manuell = pak.rename_col(ptz_manuell, 'tag_lex','member')\n",
    "\n",
    "ptz_manuell['member'] += ' manuell'\n",
    "ptz_manuell['tag'] = 'ADJA'\n",
    "ptz_manuell['score'] = 0.5\n",
    "\n",
    "ptz_manuell = ergänze_felder(ptz_manuell)\n",
    "ptz_manuell = pflege_tag_felder(ptz_manuell, translate_tagZ)\n",
    "\n",
    "#grid(ptz_manuell)"
   ]
  },
  {
   "cell_type": "code",
   "execution_count": null,
   "metadata": {
    "execution": {
     "iopub.status.busy": "2023-02-20T13:08:17.989690Z",
     "iopub.status.idle": "2023-02-20T13:08:17.990640Z",
     "shell.execute_reply": "2023-02-20T13:08:17.990481Z",
     "shell.execute_reply.started": "2023-02-20T13:08:17.990460Z"
    }
   },
   "outputs": [],
   "source": [
    "# ptz_manuell suche_debug\n",
    "grid(search_str(ptz_manuell, suche_debug))"
   ]
  },
  {
   "cell_type": "code",
   "execution_count": null,
   "metadata": {
    "execution": {
     "iopub.status.busy": "2023-02-20T13:08:17.991678Z",
     "iopub.status.idle": "2023-02-20T13:08:17.992675Z",
     "shell.execute_reply": "2023-02-20T13:08:17.992503Z",
     "shell.execute_reply.started": "2023-02-20T13:08:17.992481Z"
    }
   },
   "outputs": [],
   "source": [
    "# section_id2 ermitteln\n",
    "mask = wiktionary_lemma.tagZ == 'ADJ'\n",
    "ptz_manuell = pak.update_col( ptz_manuell,  \n",
    "                              wiktionary_lemma[mask], \n",
    "                              on='lemma',     \n",
    "                              col='section_id2',    \n",
    "                              col_score='score' \n",
    "                                    )\n",
    "ptz_manuell"
   ]
  },
  {
   "cell_type": "code",
   "execution_count": null,
   "metadata": {
    "execution": {
     "iopub.status.busy": "2023-02-20T13:08:17.993923Z",
     "iopub.status.idle": "2023-02-20T13:08:17.999608Z",
     "shell.execute_reply": "2023-02-20T13:08:17.999424Z",
     "shell.execute_reply.started": "2023-02-20T13:08:17.999398Z"
    }
   },
   "outputs": [],
   "source": [
    "# ptz_manuell als lemma anfügen\n",
    "wiktionary_lemma = pak.add_rows(wiktionary_lemma, ptz_manuell)"
   ]
  },
  {
   "cell_type": "code",
   "execution_count": null,
   "metadata": {
    "execution": {
     "iopub.status.busy": "2023-02-20T13:08:18.000526Z",
     "iopub.status.idle": "2023-02-20T13:08:18.000826Z",
     "shell.execute_reply": "2023-02-20T13:08:18.000699Z",
     "shell.execute_reply.started": "2023-02-20T13:08:18.000685Z"
    }
   },
   "outputs": [],
   "source": [
    "mask = wiktionary_merkmal.data_id != ''\n",
    "wiktionary_merkmal[mask]"
   ]
  },
  {
   "cell_type": "markdown",
   "metadata": {},
   "source": [
    "## wiktionary_lemma weiterbearbeiten"
   ]
  },
  {
   "cell_type": "markdown",
   "metadata": {},
   "source": [
    "### Grundpflege"
   ]
  },
  {
   "cell_type": "code",
   "execution_count": null,
   "metadata": {
    "execution": {
     "iopub.status.busy": "2023-02-20T13:08:18.005240Z",
     "iopub.status.idle": "2023-02-20T13:08:18.006006Z",
     "shell.execute_reply": "2023-02-20T13:08:18.005857Z",
     "shell.execute_reply.started": "2023-02-20T13:08:18.005839Z"
    }
   },
   "outputs": [],
   "source": [
    "# reset_index\n",
    "wiktionary_lemma = pak.reset_index(wiktionary_lemma)"
   ]
  },
  {
   "cell_type": "code",
   "execution_count": null,
   "metadata": {
    "execution": {
     "iopub.status.busy": "2023-02-20T13:08:18.006809Z",
     "iopub.status.idle": "2023-02-20T13:08:18.007463Z",
     "shell.execute_reply": "2023-02-20T13:08:18.007326Z",
     "shell.execute_reply.started": "2023-02-20T13:08:18.007309Z"
    }
   },
   "outputs": [],
   "source": [
    "# drop_cols\n",
    "wiktionary_lemma = pak.drop_cols(wiktionary_lemma,['msg','inflected','error','lang','lang_code'])"
   ]
  },
  {
   "cell_type": "code",
   "execution_count": null,
   "metadata": {
    "execution": {
     "iopub.status.busy": "2023-02-20T13:08:18.008438Z",
     "iopub.status.idle": "2023-02-20T13:08:18.008788Z",
     "shell.execute_reply": "2023-02-20T13:08:18.008648Z",
     "shell.execute_reply.started": "2023-02-20T13:08:18.008633Z"
    }
   },
   "outputs": [],
   "source": [
    "# ergänze_felder\n",
    "#from x32_Funktionen import *\n",
    "wiktionary_lemma = ergänze_felder(wiktionary_lemma)"
   ]
  },
  {
   "cell_type": "code",
   "execution_count": null,
   "metadata": {
    "execution": {
     "iopub.status.busy": "2023-02-20T13:08:18.011163Z",
     "iopub.status.idle": "2023-02-20T13:08:18.014493Z",
     "shell.execute_reply": "2023-02-20T13:08:18.014273Z",
     "shell.execute_reply.started": "2023-02-20T13:08:18.014243Z"
    }
   },
   "outputs": [],
   "source": [
    "# fillna\n",
    "wiktionary_lemma['score'] = wiktionary_lemma.score.fillna(0.45)\n",
    "assert not pak.any_nan(wiktionary_lemma, without=['page_id','page_part','data_id',])\n",
    "#pak.nnan(wiktionary_lemma)"
   ]
  },
  {
   "cell_type": "markdown",
   "metadata": {},
   "source": [
    "## wiktionary_merkmal_text"
   ]
  },
  {
   "cell_type": "code",
   "execution_count": null,
   "metadata": {
    "execution": {
     "iopub.status.busy": "2023-02-20T13:08:18.015428Z",
     "iopub.status.idle": "2023-02-20T13:08:18.016184Z",
     "shell.execute_reply": "2023-02-20T13:08:18.016037Z",
     "shell.execute_reply.started": "2023-02-20T13:08:18.016019Z"
    }
   },
   "outputs": [],
   "source": [
    "# ist scho geladen\n",
    "# wiktionary_merkmal_text = pak.load_pickle(wiktionary_merkmal_text_filename)\n",
    "assert not pak.any_nan(wiktionary_merkmal_text)\n",
    "# pak.nnan(wiktionary_merkmal_text)"
   ]
  },
  {
   "cell_type": "markdown",
   "metadata": {},
   "source": [
    "### Grundpflege"
   ]
  },
  {
   "cell_type": "code",
   "execution_count": null,
   "metadata": {
    "execution": {
     "iopub.status.busy": "2023-02-20T13:08:18.017120Z",
     "iopub.status.idle": "2023-02-20T13:08:18.020525Z",
     "shell.execute_reply": "2023-02-20T13:08:18.020294Z",
     "shell.execute_reply.started": "2023-02-20T13:08:18.020266Z"
    }
   },
   "outputs": [],
   "source": [
    "# drop_cols\n",
    "wiktionary_merkmal_text = pak.drop_cols( wiktionary_merkmal_text, ['section_id'])"
   ]
  },
  {
   "cell_type": "code",
   "execution_count": null,
   "metadata": {
    "execution": {
     "iopub.status.busy": "2023-02-20T13:08:18.021506Z",
     "iopub.status.idle": "2023-02-20T13:08:18.022306Z",
     "shell.execute_reply": "2023-02-20T13:08:18.022159Z",
     "shell.execute_reply.started": "2023-02-20T13:08:18.022142Z"
    }
   },
   "outputs": [],
   "source": [
    "# wiktionary_merkmal_text: list_to_string\n",
    "wiktionary_merkmal_text['num'] = pak.list_to_string(wiktionary_merkmal_text.num)"
   ]
  },
  {
   "cell_type": "code",
   "execution_count": null,
   "metadata": {
    "execution": {
     "iopub.status.busy": "2023-02-20T13:08:18.023357Z",
     "iopub.status.idle": "2023-02-20T13:08:18.024070Z",
     "shell.execute_reply": "2023-02-20T13:08:18.023926Z",
     "shell.execute_reply.started": "2023-02-20T13:08:18.023908Z"
    }
   },
   "outputs": [],
   "source": [
    "# wiktionary_merkmal_text: drop_duplicates\n",
    "vorher = wiktionary_merkmal_text.shape[0]\n",
    "wiktionary_merkmal_text = wiktionary_merkmal_text.drop_duplicates()\n",
    "nachher = wiktionary_merkmal_text.shape[0]\n",
    "print(vorher-nachher,'Datensätze gelöscht')"
   ]
  },
  {
   "cell_type": "code",
   "execution_count": null,
   "metadata": {
    "execution": {
     "iopub.status.busy": "2023-02-20T13:08:18.026178Z",
     "iopub.status.idle": "2023-02-20T13:08:18.027372Z",
     "shell.execute_reply": "2023-02-20T13:08:18.027196Z",
     "shell.execute_reply.started": "2023-02-20T13:08:18.027173Z"
    }
   },
   "outputs": [],
   "source": [
    "pak.sample(wiktionary_merkmal_text)"
   ]
  },
  {
   "cell_type": "code",
   "execution_count": null,
   "metadata": {
    "execution": {
     "iopub.status.busy": "2023-02-20T13:08:18.033538Z",
     "iopub.status.idle": "2023-02-20T13:08:18.034361Z",
     "shell.execute_reply": "2023-02-20T13:08:18.034186Z",
     "shell.execute_reply.started": "2023-02-20T13:08:18.034163Z"
    }
   },
   "outputs": [],
   "source": [
    "# lemma übertragen\n",
    "assert not pak.any_nan(wiktionary_lemma, without=['page_id','page_part','data_id',])\n",
    "wiktionary_merkmal_text = pak.update_col( wiktionary_merkmal_text, wiktionary_lemma, on='section_id2', col='lemma'  )"
   ]
  },
  {
   "cell_type": "code",
   "execution_count": null,
   "metadata": {
    "execution": {
     "iopub.status.busy": "2023-02-20T13:08:18.035470Z",
     "iopub.status.idle": "2023-02-20T13:08:18.036255Z",
     "shell.execute_reply": "2023-02-20T13:08:18.036106Z",
     "shell.execute_reply.started": "2023-02-20T13:08:18.036087Z"
    }
   },
   "outputs": [],
   "source": [
    "# verwaise_section_id2 finden\n",
    "mask = wiktionary_merkmal_text.lemma.isnull()\n",
    "verwaise_section_id2 = wiktionary_merkmal_text[mask].section_id2.drop_duplicates()\n",
    "verwaise_section_id2"
   ]
  },
  {
   "cell_type": "code",
   "execution_count": null,
   "metadata": {
    "execution": {
     "iopub.status.busy": "2023-02-20T13:08:18.037172Z",
     "iopub.status.idle": "2023-02-20T13:08:18.037879Z",
     "shell.execute_reply": "2023-02-20T13:08:18.037734Z",
     "shell.execute_reply.started": "2023-02-20T13:08:18.037717Z"
    }
   },
   "outputs": [],
   "source": [
    "bgc('orange') ## TODO_verwaiste_Wörter\n",
    "mask1 =  wiktionary_merkmal_text.section_id2.isin(verwaise_section_id2)\n",
    "mask2 = ~wiktionary_merkmal_text.section_id2.isin(wiktionary_trash.section_id2)\n",
    "mask = mask1  &  mask2\n",
    "grid(wiktionary_merkmal_text[mask].sort_values('section_id2'))"
   ]
  },
  {
   "cell_type": "code",
   "execution_count": null,
   "metadata": {
    "execution": {
     "iopub.status.busy": "2023-02-20T13:08:18.038699Z",
     "iopub.status.idle": "2023-02-20T13:08:18.040992Z",
     "shell.execute_reply": "2023-02-20T13:08:18.040776Z",
     "shell.execute_reply.started": "2023-02-20T13:08:18.040748Z"
    }
   },
   "outputs": [],
   "source": [
    "# verwaiste Datensätze anschauen\n",
    "mask = wiktionary_merkmal_text.lemma.isnull()\n",
    "grid(wiktionary_merkmal_text,mask)"
   ]
  },
  {
   "cell_type": "code",
   "execution_count": null,
   "metadata": {
    "execution": {
     "iopub.status.busy": "2023-02-20T13:08:18.042044Z",
     "iopub.status.idle": "2023-02-20T13:08:18.044200Z",
     "shell.execute_reply": "2023-02-20T13:08:18.043966Z",
     "shell.execute_reply.started": "2023-02-20T13:08:18.043937Z"
    }
   },
   "outputs": [],
   "source": [
    "# verwaiste Datensätze löschen\n",
    "mask = wiktionary_merkmal_text.lemma.isnull()\n",
    "check_mask(wiktionary_merkmal_text,mask,1217)\n",
    "wiktionary_merkmal_text = pak.drop_rows(wiktionary_merkmal_text,mask)"
   ]
  },
  {
   "cell_type": "code",
   "execution_count": null,
   "metadata": {
    "execution": {
     "iopub.status.busy": "2023-02-20T13:08:18.045304Z",
     "iopub.status.idle": "2023-02-20T13:08:18.046479Z",
     "shell.execute_reply": "2023-02-20T13:08:18.046266Z",
     "shell.execute_reply.started": "2023-02-20T13:08:18.046239Z"
    }
   },
   "outputs": [],
   "source": [
    "# suche_debug\n",
    "\n",
    "mask = wiktionary_merkmal_text.lemma.isin(suche_debug)\n",
    "wiktionary_merkmal_text[mask]\n",
    "#wiktionary_lemma[mask].lemma"
   ]
  },
  {
   "cell_type": "code",
   "execution_count": null,
   "metadata": {
    "execution": {
     "iopub.status.busy": "2023-02-20T13:08:18.047689Z",
     "iopub.status.idle": "2023-02-20T13:08:18.051360Z",
     "shell.execute_reply": "2023-02-20T13:08:18.050977Z",
     "shell.execute_reply.started": "2023-02-20T13:08:18.050903Z"
    }
   },
   "outputs": [],
   "source": [
    "# Grobreinigung \n",
    "\n",
    "r = { ' !':'!',  ' ?':'?',  ' ,':',',  ' en ':'en ',  ' e ':'e ',  ' en,':'en,',  ' e,':'e,',  ' es,':'es,',  '  ':' ', }\n",
    "wiktionary_merkmal_text['data'] = pak.replace_str( wiktionary_merkmal_text.data, r )\n",
    "\n",
    "r = ['[1]', '[2]', '[3]', '[4]', '[5]', '[6]', '[7]', '[8]', '[9]', '[10]', '[11]', '[12]', '[1a]', '[*]']\n",
    "wiktionary_merkmal_text['data'] = pak.remove_str( wiktionary_merkmal_text.data, r )"
   ]
  },
  {
   "cell_type": "code",
   "execution_count": null,
   "metadata": {
    "execution": {
     "iopub.status.busy": "2023-02-20T13:08:18.052794Z",
     "iopub.status.idle": "2023-02-20T13:08:18.053835Z",
     "shell.execute_reply": "2023-02-20T13:08:18.053662Z",
     "shell.execute_reply.started": "2023-02-20T13:08:18.053638Z"
    }
   },
   "outputs": [],
   "source": [
    "pak.nnan(wiktionary_lemma)"
   ]
  },
  {
   "cell_type": "code",
   "execution_count": null,
   "metadata": {
    "execution": {
     "iopub.status.busy": "2023-02-20T13:08:18.055291Z",
     "iopub.status.idle": "2023-02-20T13:08:18.057137Z",
     "shell.execute_reply": "2023-02-20T13:08:18.056447Z",
     "shell.execute_reply.started": "2023-02-20T13:08:18.056415Z"
    }
   },
   "outputs": [],
   "source": [
    "#mask = wiktionary_merkmal_text.data.str.endswith(  ( ' e', ' en', ' es' )  )\n",
    "#r = { ' e':'e',   ' en':'en',   ' es':'es',  }\n",
    "#wiktionary_merkmal_text.loc[mask,'data'] = pak.replace_str( wiktionary_merkmal_text[mask].data, r )\n",
    "#grid(wiktionary_merkmal_text,mask)"
   ]
  },
  {
   "cell_type": "markdown",
   "metadata": {},
   "source": [
    "### Aufzählungen in Einzeldatensätze aufsplitten\n",
    "* Die merkmale bsp_re und bsp_sp enthalten Aufzählungen. Diese werden in Einzeldatensätze aufgesplittet. \n",
    "* Das Feld rank_merkmal erhält die Reihenfolge."
   ]
  },
  {
   "cell_type": "code",
   "execution_count": null,
   "metadata": {
    "execution": {
     "iopub.status.busy": "2023-02-20T13:08:18.058598Z",
     "iopub.status.idle": "2023-02-20T13:08:18.061241Z",
     "shell.execute_reply": "2023-02-20T13:08:18.060944Z",
     "shell.execute_reply.started": "2023-02-20T13:08:18.060891Z"
    }
   },
   "outputs": [],
   "source": [
    "# Splitten vorbereiten\n",
    "\n",
    "mask = wiktionary_merkmal_text.merkmal.isin(['bsp_re','bsp_sp'])\n",
    "r = { '–':'➤',  '—':'➤',  ';':'➤',  '/':'➤',  }\n",
    "wiktionary_merkmal_text.loc[mask,'data'] = pak.replace_str( wiktionary_merkmal_text[mask].data, r )\n",
    "\n",
    "grid( wiktionary_merkmal_text, mask )"
   ]
  },
  {
   "cell_type": "code",
   "execution_count": null,
   "metadata": {
    "execution": {
     "iopub.status.busy": "2023-02-20T13:08:18.062679Z",
     "iopub.status.idle": "2023-02-20T13:08:18.063013Z",
     "shell.execute_reply": "2023-02-20T13:08:18.062876Z",
     "shell.execute_reply.started": "2023-02-20T13:08:18.062862Z"
    }
   },
   "outputs": [],
   "source": [
    "# rank_merkmal\n",
    "wiktionary_merkmal_text = wiktionary_merkmal_text.reset_index() # spalte 'index' erzeugen\n",
    "wiktionary_merkmal_text = pak.rank( wiktionary_merkmal_text, cols_group=['section_id2','merkmal'], col_score='index', find='min', col_target='rank_merkmal')\n",
    "wiktionary_merkmal_text = pak.rename_col(wiktionary_merkmal_text,'index','i')\n",
    "wiktionary_merkmal_text = pak.force_index(wiktionary_merkmal_text,'i')"
   ]
  },
  {
   "cell_type": "code",
   "execution_count": null,
   "metadata": {
    "execution": {
     "iopub.status.busy": "2023-02-20T13:08:18.064328Z",
     "iopub.status.idle": "2023-02-20T13:08:18.064783Z",
     "shell.execute_reply": "2023-02-20T13:08:18.064637Z",
     "shell.execute_reply.started": "2023-02-20T13:08:18.064620Z"
    }
   },
   "outputs": [],
   "source": [
    "# zu splittende Datensätze abtrennen\n",
    "mask1 = wiktionary_merkmal_text.merkmal.isin(['bsp_re','bsp_sp'])\n",
    "mask2 = wiktionary_merkmal_text.data.str.contains('➤')\n",
    "mask  = mask1  &  mask2\n",
    "\n",
    "wiktionary_merkmal_text, df = pak.move_rows( wiktionary_merkmal_text, mask, msg=None )"
   ]
  },
  {
   "cell_type": "code",
   "execution_count": null,
   "metadata": {
    "execution": {
     "iopub.status.busy": "2023-02-20T13:08:18.065892Z",
     "iopub.status.idle": "2023-02-20T13:08:18.066933Z",
     "shell.execute_reply": "2023-02-20T13:08:18.066773Z",
     "shell.execute_reply.started": "2023-02-20T13:08:18.066753Z"
    },
    "tags": []
   },
   "outputs": [],
   "source": [
    "# splitten\n",
    "df['data'] = df.data.str.split('➤')\n",
    "df = df.explode('data')"
   ]
  },
  {
   "cell_type": "code",
   "execution_count": null,
   "metadata": {
    "execution": {
     "iopub.status.busy": "2023-02-20T13:08:18.067874Z",
     "iopub.status.idle": "2023-02-20T13:08:18.069104Z",
     "shell.execute_reply": "2023-02-20T13:08:18.068939Z",
     "shell.execute_reply.started": "2023-02-20T13:08:18.068918Z"
    }
   },
   "outputs": [],
   "source": [
    "df.head(5)"
   ]
  },
  {
   "cell_type": "code",
   "execution_count": null,
   "metadata": {
    "execution": {
     "iopub.status.busy": "2023-02-20T13:08:18.070212Z",
     "iopub.status.idle": "2023-02-20T13:08:18.070629Z",
     "shell.execute_reply": "2023-02-20T13:08:18.070430Z",
     "shell.execute_reply.started": "2023-02-20T13:08:18.070415Z"
    }
   },
   "outputs": [],
   "source": [
    "# rank_merkmal2\n",
    "df = df.reset_index()\n",
    "df = pak.rank(df, cols_group=['section_id2','merkmal','rank_merkmal'], col_score='i', find='min', col_target='rank_merkmal2')\n",
    "df = pak.force_index(df,'i')"
   ]
  },
  {
   "cell_type": "code",
   "execution_count": null,
   "metadata": {
    "execution": {
     "iopub.status.busy": "2023-02-20T13:08:18.072937Z",
     "iopub.status.idle": "2023-02-20T13:08:18.073317Z",
     "shell.execute_reply": "2023-02-20T13:08:18.073155Z",
     "shell.execute_reply.started": "2023-02-20T13:08:18.073140Z"
    }
   },
   "outputs": [],
   "source": [
    "df.head(5)"
   ]
  },
  {
   "cell_type": "code",
   "execution_count": null,
   "metadata": {
    "execution": {
     "iopub.status.busy": "2023-02-20T13:08:18.073912Z",
     "iopub.status.idle": "2023-02-20T13:08:18.074171Z",
     "shell.execute_reply": "2023-02-20T13:08:18.074052Z",
     "shell.execute_reply.started": "2023-02-20T13:08:18.074039Z"
    }
   },
   "outputs": [],
   "source": [
    "# wieder anfügen\n",
    "wiktionary_merkmal_text = pak.add_rows(wiktionary_merkmal_text, df)\n",
    "wiktionary_merkmal_text['rank_merkmal2'] = wiktionary_merkmal_text.rank_merkmal2.fillna(0) "
   ]
  },
  {
   "cell_type": "code",
   "execution_count": null,
   "metadata": {
    "execution": {
     "iopub.status.busy": "2023-02-20T13:08:18.074722Z",
     "iopub.status.idle": "2023-02-20T13:08:18.074982Z",
     "shell.execute_reply": "2023-02-20T13:08:18.074861Z",
     "shell.execute_reply.started": "2023-02-20T13:08:18.074848Z"
    }
   },
   "outputs": [],
   "source": [
    "# rank_merkmal endgültig schreiben\n",
    "assert wiktionary_merkmal_text.rank_merkmal2.max() < 100\n",
    "assert not pak.any_nan(wiktionary_merkmal_text.rank_merkmal)\n",
    "assert not pak.any_nan(wiktionary_merkmal_text.rank_merkmal2)\n",
    "wiktionary_merkmal_text['rank_merkmal'] = (wiktionary_merkmal_text.rank_merkmal * 100 + wiktionary_merkmal_text.rank_merkmal2).astype('int')\n",
    "wiktionary_merkmal_text = pak.drop_cols(wiktionary_merkmal_text,['rank_merkmal2'])"
   ]
  },
  {
   "cell_type": "code",
   "execution_count": null,
   "metadata": {
    "execution": {
     "iopub.status.busy": "2023-02-20T13:08:18.075503Z",
     "iopub.status.idle": "2023-02-20T13:08:18.075757Z",
     "shell.execute_reply": "2023-02-20T13:08:18.075638Z",
     "shell.execute_reply.started": "2023-02-20T13:08:18.075626Z"
    }
   },
   "outputs": [],
   "source": [
    "#mask = wiktionary_merkmal_text.merkmal.isin( ['bsp_re'] )\n",
    "#grid(wiktionary_merkmal_text,mask)"
   ]
  },
  {
   "cell_type": "markdown",
   "metadata": {},
   "source": [
    "## Preprocessing"
   ]
  },
  {
   "cell_type": "code",
   "execution_count": null,
   "metadata": {
    "execution": {
     "iopub.status.busy": "2023-02-20T13:08:18.076265Z",
     "iopub.status.idle": "2023-02-20T13:08:18.081564Z",
     "shell.execute_reply": "2023-02-20T13:08:18.076397Z",
     "shell.execute_reply.started": "2023-02-20T13:08:18.076384Z"
    }
   },
   "outputs": [],
   "source": [
    "text = bj_nlp.TESTTEXT_0\n",
    "text"
   ]
  },
  {
   "cell_type": "code",
   "execution_count": null,
   "metadata": {
    "execution": {
     "iopub.status.busy": "2023-02-20T13:08:18.082446Z",
     "iopub.status.idle": "2023-02-20T13:08:18.082745Z",
     "shell.execute_reply": "2023-02-20T13:08:18.082618Z",
     "shell.execute_reply.started": "2023-02-20T13:08:18.082603Z"
    }
   },
   "outputs": [],
   "source": [
    "# Standardkonfiguration\n",
    "bj_nlp.preprocess(text)"
   ]
  },
  {
   "cell_type": "code",
   "execution_count": null,
   "metadata": {
    "execution": {
     "iopub.status.busy": "2023-02-20T13:08:18.083266Z",
     "iopub.status.idle": "2023-02-20T13:08:18.083521Z",
     "shell.execute_reply": "2023-02-20T13:08:18.083401Z",
     "shell.execute_reply.started": "2023-02-20T13:08:18.083388Z"
    }
   },
   "outputs": [],
   "source": [
    "a = 'Hej U+1F600 världen'\n",
    "print(a)"
   ]
  },
  {
   "cell_type": "code",
   "execution_count": null,
   "metadata": {
    "execution": {
     "iopub.status.busy": "2023-02-20T13:08:18.084057Z",
     "iopub.status.idle": "2023-02-20T13:08:18.084315Z",
     "shell.execute_reply": "2023-02-20T13:08:18.084196Z",
     "shell.execute_reply.started": "2023-02-20T13:08:18.084183Z"
    }
   },
   "outputs": [],
   "source": [
    "pak.analyse_datatypes(wiktionary_merkmal)"
   ]
  },
  {
   "cell_type": "code",
   "execution_count": null,
   "metadata": {
    "execution": {
     "iopub.status.busy": "2023-02-20T13:08:18.087666Z",
     "iopub.status.idle": "2023-02-20T13:08:18.088137Z",
     "shell.execute_reply": "2023-02-20T13:08:18.087873Z",
     "shell.execute_reply.started": "2023-02-20T13:08:18.087858Z"
    }
   },
   "outputs": [],
   "source": [
    "# wiktionary_lemma\n",
    "cols = pak.col_names(wiktionary_lemma, only='str')\n",
    "cols = [ c for c in cols if c not in ['error']  and not c.startswith('tag')] \n",
    "\n",
    "print(cols)\n",
    "for feld in cols:\n",
    "    wiktionary_lemma.loc[:,feld] = wiktionary_lemma[feld].fillna('').apply(   lambda x: bj_nlp.preprocess(x)       )"
   ]
  },
  {
   "cell_type": "code",
   "execution_count": null,
   "metadata": {
    "execution": {
     "iopub.status.busy": "2023-02-20T13:08:18.095552Z",
     "iopub.status.idle": "2023-02-20T13:08:18.095897Z",
     "shell.execute_reply": "2023-02-20T13:08:18.095756Z",
     "shell.execute_reply.started": "2023-02-20T13:08:18.095741Z"
    }
   },
   "outputs": [],
   "source": [
    "# wiktionary_nolemma\n",
    "cols = pak.col_names(wiktionary_nolemma, only='str')\n",
    "cols = [ c for c in cols if c not in ['error']  and not c.startswith('tag')] \n",
    "\n",
    "print(cols)\n",
    "for feld in cols:\n",
    "    wiktionary_nolemma.loc[:,feld] = wiktionary_nolemma[feld].fillna('').apply(   lambda x: bj_nlp.preprocess(x)   )"
   ]
  },
  {
   "cell_type": "code",
   "execution_count": null,
   "metadata": {
    "execution": {
     "iopub.status.busy": "2023-02-20T13:08:18.097408Z",
     "iopub.status.idle": "2023-02-20T13:08:18.099977Z",
     "shell.execute_reply": "2023-02-20T13:08:18.099786Z",
     "shell.execute_reply.started": "2023-02-20T13:08:18.099760Z"
    }
   },
   "outputs": [],
   "source": [
    "# wiktionary_merkmal\n",
    "\n",
    "if gründlich:\n",
    "    cols = pak.col_names(wiktionary_merkmal, only='str')\n",
    "    cols = [ c for c in cols if c not in ['error']  and not c.startswith('tag')] \n",
    "\n",
    "    print(cols)\n",
    "    for feld in cols:\n",
    "        print(feld)\n",
    "        wiktionary_merkmal[feld] = wiktionary_merkmal[feld].fillna('').apply(   lambda x: bj_nlp.preprocess(x)   )"
   ]
  },
  {
   "cell_type": "code",
   "execution_count": null,
   "metadata": {
    "execution": {
     "iopub.status.busy": "2023-02-20T13:08:18.100683Z",
     "iopub.status.idle": "2023-02-20T13:08:18.100967Z",
     "shell.execute_reply": "2023-02-20T13:08:18.100841Z",
     "shell.execute_reply.started": "2023-02-20T13:08:18.100827Z"
    }
   },
   "outputs": [],
   "source": [
    "# Doppelspaces prüfen\n",
    "if gründlich:\n",
    "    mask = wiktionary_merkmal.data.str.contains('  ')\n",
    "    check_mask( wiktionary_merkmal, mask, 0)\n",
    "    #wiktionary_merkmal[mask]"
   ]
  },
  {
   "cell_type": "code",
   "execution_count": null,
   "metadata": {
    "execution": {
     "iopub.status.busy": "2023-02-20T13:08:18.105493Z",
     "iopub.status.idle": "2023-02-20T13:08:18.106239Z",
     "shell.execute_reply": "2023-02-20T13:08:18.106086Z",
     "shell.execute_reply.started": "2023-02-20T13:08:18.106067Z"
    }
   },
   "outputs": [],
   "source": [
    "# wiktionary_merkmal_text\n",
    "\n",
    "if gründlich:\n",
    "    cols = pak.col_names(wiktionary_merkmal_text, only='str')\n",
    "    cols = [ c for c in cols if c not in ['error']  and not c.startswith('tag')] \n",
    "\n",
    "    print(cols)\n",
    "    for feld in cols:\n",
    "        wiktionary_merkmal_text[feld] = wiktionary_merkmal_text[feld].fillna('').apply(   lambda x: bj_nlp.preprocess(x)   )"
   ]
  },
  {
   "cell_type": "markdown",
   "metadata": {},
   "source": [
    "## Sonderzeichen"
   ]
  },
  {
   "cell_type": "code",
   "execution_count": null,
   "metadata": {
    "execution": {
     "iopub.status.busy": "2023-02-20T13:08:18.107009Z",
     "iopub.status.idle": "2023-02-20T13:08:18.107312Z",
     "shell.execute_reply": "2023-02-20T13:08:18.107180Z",
     "shell.execute_reply.started": "2023-02-20T13:08:18.107167Z"
    }
   },
   "outputs": [],
   "source": [
    "# Sonderfälle\n",
    "#mask = wiktionary_merkmal.data.str.contains('{{')\n",
    "r = { '{{NNBSP}}'   :   ' '  ,   \n",
    "             \"''\"   :   ''   ,\n",
    "    }\n",
    "wiktionary_merkmal['data'] = pak.replace_str(wiktionary_merkmal.data, r)"
   ]
  },
  {
   "cell_type": "code",
   "execution_count": null,
   "metadata": {
    "execution": {
     "iopub.status.busy": "2023-02-20T13:08:18.109998Z",
     "iopub.status.idle": "2023-02-20T13:08:18.111859Z",
     "shell.execute_reply": "2023-02-20T13:08:18.111671Z",
     "shell.execute_reply.started": "2023-02-20T13:08:18.111645Z"
    }
   },
   "outputs": [],
   "source": [
    "# Beispiel anschauen\n",
    "mask = wiktionary_merkmal.section_id2 == suche_debug[0]\n",
    "grid(wiktionary_merkmal,mask)"
   ]
  },
  {
   "cell_type": "code",
   "execution_count": null,
   "metadata": {
    "execution": {
     "iopub.status.busy": "2023-02-20T13:08:18.112523Z",
     "iopub.status.idle": "2023-02-20T13:08:18.112807Z",
     "shell.execute_reply": "2023-02-20T13:08:18.112680Z",
     "shell.execute_reply.started": "2023-02-20T13:08:18.112667Z"
    }
   },
   "outputs": [],
   "source": [
    "# wiktionary_lemma enthält nicht_erlaubte_sonderzeichen (siehe Steuertabellen)\n",
    "mask = wiktionary_lemma.lemma.str.contains(nicht_erlaubte_sonderzeichen_lemma)   &   ~wiktionary_lemma.section_id2.str.endswith('_M')\n",
    "check_mask(wiktionary_lemma, mask, 0, 50)\n",
    "wiktionary_lemma, wiktionary_lemma_trash = pak.move_rows(df_from=wiktionary_lemma, df_to=wiktionary_lemma_trash, mask=mask, msg='lemma_nicht_erlaubte_sonderzeichen')"
   ]
  },
  {
   "cell_type": "code",
   "execution_count": null,
   "metadata": {
    "execution": {
     "iopub.status.busy": "2023-02-20T13:08:18.116072Z",
     "iopub.status.idle": "2023-02-20T13:08:18.118374Z",
     "shell.execute_reply": "2023-02-20T13:08:18.118188Z",
     "shell.execute_reply.started": "2023-02-20T13:08:18.118163Z"
    }
   },
   "outputs": [],
   "source": [
    "# wiktionary_nolemma enthält nicht_erlaubte_sonderzeichen\n",
    "mask = wiktionary_nolemma.lemma.str.contains(nicht_erlaubte_sonderzeichen_lemma) # siehe Steuertabellen\n",
    "check_mask(wiktionary_nolemma, mask, 0, 100)\n",
    "wiktionary_nolemma, wiktionary_nolemma_trash = pak.move_rows(df_from=wiktionary_nolemma, df_to=wiktionary_nolemma_trash, mask=mask, msg='lemma_nicht_erlaubte_sonderzeichen')\n",
    "grid(df, color='green')"
   ]
  },
  {
   "cell_type": "code",
   "execution_count": null,
   "metadata": {
    "execution": {
     "iopub.status.busy": "2023-02-20T13:08:18.119069Z",
     "iopub.status.idle": "2023-02-20T13:08:18.119355Z",
     "shell.execute_reply": "2023-02-20T13:08:18.119224Z",
     "shell.execute_reply.started": "2023-02-20T13:08:18.119210Z"
    }
   },
   "outputs": [],
   "source": [
    "# wiktionary_nolemma enthält nicht_erlaubte_sonderzeichen\n",
    "mask = wiktionary_nolemma.lex.str.contains(nicht_erlaubte_sonderzeichen_lemma) # siehe Steuertabellen\n",
    "check_mask(wiktionary_nolemma, mask, 0, 100)\n",
    "wiktionary_nolemma, wiktionary_nolemma_trash = pak.move_rows(df_from=wiktionary_nolemma, df_to=wiktionary_nolemma_trash, mask=mask, msg='lex_nicht_erlaubte_sonderzeichen')\n",
    "grid(df, color='green')"
   ]
  },
  {
   "cell_type": "code",
   "execution_count": null,
   "metadata": {
    "execution": {
     "iopub.status.busy": "2023-02-20T13:08:18.121538Z",
     "iopub.status.idle": "2023-02-20T13:08:18.123370Z",
     "shell.execute_reply": "2023-02-20T13:08:18.123171Z",
     "shell.execute_reply.started": "2023-02-20T13:08:18.123146Z"
    }
   },
   "outputs": [],
   "source": [
    "# data remove_str\n",
    "r = ['Verzeichnis:Deutsch/','Verzeichnis:','<sub>','</sub>','<sup>','</sup>','Wikipedia:de:','Wikipedia:',]\n",
    "wiktionary_merkmal['data'] = pak.remove_str(wiktionary_merkmal.data, r )"
   ]
  },
  {
   "cell_type": "code",
   "execution_count": null,
   "metadata": {
    "execution": {
     "iopub.status.busy": "2023-02-20T13:08:18.124048Z",
     "iopub.status.idle": "2023-02-20T13:08:18.124344Z",
     "shell.execute_reply": "2023-02-20T13:08:18.124215Z",
     "shell.execute_reply.started": "2023-02-20T13:08:18.124201Z"
    }
   },
   "outputs": [],
   "source": [
    "# data enthält Reste von Tags >> absplitten\n",
    "mask = wiktionary_merkmal.data.str.contains('<',regex=False)\n",
    "wiktionary_merkmal.loc[mask,'data'] = wiktionary_merkmal[mask].data.str.split('<').str[0]\n",
    "#wiktionary_merkmal[mask]"
   ]
  },
  {
   "cell_type": "code",
   "execution_count": null,
   "metadata": {
    "execution": {
     "iopub.status.busy": "2023-02-20T13:08:18.127242Z",
     "iopub.status.idle": "2023-02-20T13:08:18.129137Z",
     "shell.execute_reply": "2023-02-20T13:08:18.128950Z",
     "shell.execute_reply.started": "2023-02-20T13:08:18.128924Z"
    }
   },
   "outputs": [],
   "source": [
    "# data enthält Reste von Tags >> absplitten\n",
    "mask = wiktionary_merkmal.data.str.contains('{',regex=False)\n",
    "wiktionary_merkmal.loc[mask,'data'] = wiktionary_merkmal[mask].data.str.split('{').str[0]\n",
    "#wiktionary_merkmal[mask]"
   ]
  },
  {
   "cell_type": "code",
   "execution_count": null,
   "metadata": {
    "execution": {
     "iopub.status.busy": "2023-02-20T13:08:18.129808Z",
     "iopub.status.idle": "2023-02-20T13:08:18.130090Z",
     "shell.execute_reply": "2023-02-20T13:08:18.129966Z",
     "shell.execute_reply.started": "2023-02-20T13:08:18.129952Z"
    }
   },
   "outputs": [],
   "source": [
    "# wiktionary_merkmal data belöschen\n",
    "mask = wiktionary_merkmal.data.str.startswith(('http:','https:'))\n",
    "wiktionary_merkmal, wiktionary_merkmal_trash = pak.move_rows( df_from=wiktionary_merkmal, df_to=wiktionary_merkmal_trash, mask=mask, msg='data_startswith')"
   ]
  },
  {
   "cell_type": "code",
   "execution_count": null,
   "metadata": {
    "execution": {
     "iopub.status.busy": "2023-02-20T13:08:18.132803Z",
     "iopub.status.idle": "2023-02-20T13:08:18.135249Z",
     "shell.execute_reply": "2023-02-20T13:08:18.135060Z",
     "shell.execute_reply.started": "2023-02-20T13:08:18.135035Z"
    }
   },
   "outputs": [],
   "source": [
    "# wiktionary_merkmal data belöschen\n",
    "mask = wiktionary_merkmal.data.str.lower().str.endswith(('.jpg','.png','.gif'))\n",
    "wiktionary_merkmal, wiktionary_merkmal_trash = pak.move_rows( df_from=wiktionary_merkmal, df_to=wiktionary_merkmal_trash, mask=mask,  msg='data_endswith')"
   ]
  },
  {
   "cell_type": "code",
   "execution_count": null,
   "metadata": {
    "execution": {
     "iopub.status.busy": "2023-02-20T13:08:18.136085Z",
     "iopub.status.idle": "2023-02-20T13:08:18.136378Z",
     "shell.execute_reply": "2023-02-20T13:08:18.136250Z",
     "shell.execute_reply.started": "2023-02-20T13:08:18.136236Z"
    }
   },
   "outputs": [],
   "source": [
    "# wiktionary_merkmal node_kontext belöschen\n",
    "mask = wiktionary_merkmal.node_kontext.str.startswith(('mini|','thumb|','|'))\n",
    "wiktionary_merkmal, wiktionary_merkmal_trash = pak.move_rows( df_from=wiktionary_merkmal, df_to=wiktionary_merkmal_trash, mask=mask, msg='node_kontext_startswith')"
   ]
  },
  {
   "cell_type": "code",
   "execution_count": null,
   "metadata": {
    "execution": {
     "iopub.status.busy": "2023-02-20T13:08:18.138722Z",
     "iopub.status.idle": "2023-02-20T13:08:18.140977Z",
     "shell.execute_reply": "2023-02-20T13:08:18.140783Z",
     "shell.execute_reply.started": "2023-02-20T13:08:18.140756Z"
    }
   },
   "outputs": [],
   "source": [
    "# wiktionary_merkmal node_kontext belöschen\n",
    "mask = wiktionary_merkmal.node_kontext.str.contains('px|', regex=False)\n",
    "wiktionary_merkmal, wiktionary_merkmal_trash = pak.move_rows( df_from=wiktionary_merkmal, df_to=wiktionary_merkmal_trash, mask=mask, msg='node_kontext_contains')"
   ]
  },
  {
   "cell_type": "code",
   "execution_count": null,
   "metadata": {
    "execution": {
     "iopub.status.busy": "2023-02-20T13:08:18.141632Z",
     "iopub.status.idle": "2023-02-20T13:08:18.141914Z",
     "shell.execute_reply": "2023-02-20T13:08:18.141788Z",
     "shell.execute_reply.started": "2023-02-20T13:08:18.141774Z"
    }
   },
   "outputs": [],
   "source": [
    "# wiktionary_merkmal enthält nicht_erlaubte_sonderzeichen\n",
    "# >> löschen\n",
    "\n",
    "felder = ['node_debug','node_kontext','meta','data'] \n",
    "for feld in felder: \n",
    "    mask = wiktionary_merkmal[feld].str.contains(nicht_erlaubte_sonderzeichen_gnädig) \n",
    "    print(feld)\n",
    "    #check_mask(wiktionary_merkmal, mask, 0, 20)\n",
    "    wiktionary_merkmal, wiktionary_merkmal_trash = pak.move_rows( df_from=wiktionary_merkmal, df_to=wiktionary_merkmal_trash, mask=mask, msg= feld + '_sonderzeichen')\n",
    "    "
   ]
  },
  {
   "cell_type": "code",
   "execution_count": null,
   "metadata": {
    "execution": {
     "iopub.status.busy": "2023-02-20T13:08:18.144693Z",
     "iopub.status.idle": "2023-02-20T13:08:18.145404Z",
     "shell.execute_reply": "2023-02-20T13:08:18.145252Z",
     "shell.execute_reply.started": "2023-02-20T13:08:18.145231Z"
    }
   },
   "outputs": [],
   "source": [
    "assert not pak.any_nan(wiktionary_merkmal.data) "
   ]
  },
  {
   "cell_type": "code",
   "execution_count": null,
   "metadata": {
    "execution": {
     "iopub.status.busy": "2023-02-20T13:08:18.146099Z",
     "iopub.status.idle": "2023-02-20T13:08:18.146389Z",
     "shell.execute_reply": "2023-02-20T13:08:18.146262Z",
     "shell.execute_reply.started": "2023-02-20T13:08:18.146248Z"
    }
   },
   "outputs": [],
   "source": [
    "#mask = wiktionary_merkmal.data.isnull()\n",
    "#grid(wiktionary_merkmal, mask, color='green')"
   ]
  },
  {
   "cell_type": "code",
   "execution_count": null,
   "metadata": {
    "execution": {
     "iopub.status.busy": "2023-02-20T13:08:18.148568Z",
     "iopub.status.idle": "2023-02-20T13:08:18.149993Z",
     "shell.execute_reply": "2023-02-20T13:08:18.149808Z",
     "shell.execute_reply.started": "2023-02-20T13:08:18.149782Z"
    }
   },
   "outputs": [],
   "source": [
    "a = pak.analyse_freqs(wiktionary_merkmal_trash,['msg','data','meta'])\n",
    "grid(a)"
   ]
  },
  {
   "cell_type": "code",
   "execution_count": null,
   "metadata": {
    "execution": {
     "iopub.status.busy": "2023-02-20T13:08:18.150633Z",
     "iopub.status.idle": "2023-02-20T13:08:18.150918Z",
     "shell.execute_reply": "2023-02-20T13:08:18.150791Z",
     "shell.execute_reply.started": "2023-02-20T13:08:18.150777Z"
    }
   },
   "outputs": [],
   "source": [
    "mask = (wiktionary_merkmal_trash.msg == 'data_endswith')\n",
    "#grid(wiktionary_merkmal_trash,mask)\n",
    "grid(wiktionary_merkmal_trash,mask)"
   ]
  },
  {
   "cell_type": "code",
   "execution_count": null,
   "metadata": {
    "execution": {
     "iopub.status.busy": "2023-02-20T13:08:18.153649Z",
     "iopub.status.idle": "2023-02-20T13:08:18.157012Z",
     "shell.execute_reply": "2023-02-20T13:08:18.156822Z",
     "shell.execute_reply.started": "2023-02-20T13:08:18.156797Z"
    }
   },
   "outputs": [],
   "source": [
    "# Beispiel anschauen\n",
    "mask = wiktionary_merkmal.section_id2 == suche_debug[0]\n",
    "grid(wiktionary_merkmal,mask)"
   ]
  },
  {
   "cell_type": "markdown",
   "metadata": {},
   "source": [
    "## wiktionary_merkmal"
   ]
  },
  {
   "cell_type": "markdown",
   "metadata": {},
   "source": [
    "### node_debug >> member\n",
    "* member durch Daten aus der Spalte node_debug ergänzen"
   ]
  },
  {
   "cell_type": "code",
   "execution_count": null,
   "metadata": {
    "execution": {
     "iopub.status.busy": "2023-02-20T13:08:18.157716Z",
     "iopub.status.idle": "2023-02-20T13:08:18.157999Z",
     "shell.execute_reply": "2023-02-20T13:08:18.157873Z",
     "shell.execute_reply.started": "2023-02-20T13:08:18.157859Z"
    }
   },
   "outputs": [],
   "source": [
    "# übersicht reinigen mit remove_str und replace_str\n",
    "mask = (wiktionary_merkmal.merkmal == 'übersicht')\n",
    "r = ['-sch', 'Bairisch','Deutsch', ' f',' m',' n', 'Übersicht']\n",
    "wiktionary_merkmal.loc[mask, 'node_debug'] = pak.remove_str(wiktionary_merkmal[mask].node_debug, r)\n",
    "\n",
    "r = {'Pronomina-Tabelle': 'Pronomen', 'adjektivisch':'adjNN', 'Eigenname':'Name'}\n",
    "wiktionary_merkmal.loc[mask, 'node_debug'] = pak.replace_str(wiktionary_merkmal[mask].node_debug, r)"
   ]
  },
  {
   "cell_type": "code",
   "execution_count": null,
   "metadata": {
    "execution": {
     "iopub.status.busy": "2023-02-20T13:08:18.159047Z",
     "iopub.status.idle": "2023-02-20T13:08:18.159663Z",
     "shell.execute_reply": "2023-02-20T13:08:18.159522Z",
     "shell.execute_reply.started": "2023-02-20T13:08:18.159505Z"
    }
   },
   "outputs": [],
   "source": [
    "mask = (wiktionary_merkmal.merkmal == 'übersicht')\n",
    "a = pak.analyse_freqs(wiktionary_merkmal[mask], ['node_debug', 'section_id2'], splits=[' ',None])\n",
    "a"
   ]
  },
  {
   "cell_type": "code",
   "execution_count": null,
   "metadata": {
    "execution": {
     "iopub.status.busy": "2023-02-20T13:08:18.160246Z",
     "iopub.status.idle": "2023-02-20T13:08:18.160594Z",
     "shell.execute_reply": "2023-02-20T13:08:18.160394Z",
     "shell.execute_reply.started": "2023-02-20T13:08:18.160380Z"
    }
   },
   "outputs": [],
   "source": [
    "# member_plus festlegen\n",
    "mask = (wiktionary_merkmal.merkmal == 'übersicht')   &   (wiktionary_merkmal.node_debug.str.len() > 0)\n",
    "spalten = ['section_id2','node_debug']\n",
    "df = wiktionary_merkmal[mask][spalten].drop_duplicates()\n",
    "df.columns = ['section_id2','member_plus']\n",
    "#grid(df,sample)"
   ]
  },
  {
   "cell_type": "code",
   "execution_count": null,
   "metadata": {
    "execution": {
     "iopub.status.busy": "2023-02-20T13:08:18.161166Z",
     "iopub.status.idle": "2023-02-20T13:08:18.161439Z",
     "shell.execute_reply": "2023-02-20T13:08:18.161317Z",
     "shell.execute_reply.started": "2023-02-20T13:08:18.161303Z"
    }
   },
   "outputs": [],
   "source": [
    "# an member anhängen\n",
    "wiktionary_lemma = pak.update_col(wiktionary_lemma, df, on='section_id2',col='member_plus')\n",
    "mask = (wiktionary_lemma.member_plus.str.len() > 0)\n",
    "wiktionary_lemma.loc[mask,'member'] = wiktionary_lemma[mask].member.str.strip() + ' ' + wiktionary_lemma[mask].member_plus.str.strip()\n",
    "wiktionary_lemma = pak.drop_cols(wiktionary_lemma, 'member_plus')"
   ]
  },
  {
   "cell_type": "code",
   "execution_count": null,
   "metadata": {
    "execution": {
     "iopub.status.busy": "2023-02-20T13:08:18.162029Z",
     "iopub.status.idle": "2023-02-20T13:08:18.162291Z",
     "shell.execute_reply": "2023-02-20T13:08:18.162170Z",
     "shell.execute_reply.started": "2023-02-20T13:08:18.162157Z"
    }
   },
   "outputs": [],
   "source": [
    "# node_debug leeren\n",
    "mask = (wiktionary_merkmal.merkmal == 'übersicht')\n",
    "wiktionary_merkmal.loc[mask,'node_debug'] = ''"
   ]
  },
  {
   "cell_type": "code",
   "execution_count": null,
   "metadata": {
    "execution": {
     "iopub.status.busy": "2023-02-20T13:08:18.162856Z",
     "iopub.status.idle": "2023-02-20T13:08:18.163119Z",
     "shell.execute_reply": "2023-02-20T13:08:18.162998Z",
     "shell.execute_reply.started": "2023-02-20T13:08:18.162984Z"
    }
   },
   "outputs": [],
   "source": [
    "# Letzte Löschungen\n",
    "r = ['Wortart fehlt']\n",
    "wiktionary_merkmal.node_debug = pak.remove_str( wiktionary_merkmal.node_debug, r )"
   ]
  },
  {
   "cell_type": "code",
   "execution_count": null,
   "metadata": {
    "execution": {
     "iopub.status.busy": "2023-02-20T13:08:18.163760Z",
     "iopub.status.idle": "2023-02-20T13:08:18.164029Z",
     "shell.execute_reply": "2023-02-20T13:08:18.163904Z",
     "shell.execute_reply.started": "2023-02-20T13:08:18.163890Z"
    }
   },
   "outputs": [],
   "source": [
    "# node_debug löschen (müsste jetzt überall leer sein)\n",
    "mask = (wiktionary_merkmal.node_debug.str.len() > 0)\n",
    "if version == '_all':\n",
    "    check_mask(wiktionary_merkmal, mask, 0, 0)\n",
    "wiktionary_merkmal = pak.drop_cols(wiktionary_merkmal, 'node_debug')   "
   ]
  },
  {
   "cell_type": "markdown",
   "metadata": {},
   "source": [
    "### übersicht und flexion\n",
    "* aus wiktionary_merkmal herausnehmen, pflegen und wieder anfügen"
   ]
  },
  {
   "cell_type": "code",
   "execution_count": null,
   "metadata": {
    "execution": {
     "iopub.status.busy": "2023-02-20T13:08:18.165493Z",
     "iopub.status.idle": "2023-02-20T13:08:18.167714Z",
     "shell.execute_reply": "2023-02-20T13:08:18.167471Z",
     "shell.execute_reply.started": "2023-02-20T13:08:18.167430Z"
    }
   },
   "outputs": [],
   "source": [
    "# Beispiel anschauen\n",
    "mask = wiktionary_merkmal.section_id2 == suche_debug[0]\n",
    "grid(wiktionary_merkmal,mask)"
   ]
  },
  {
   "cell_type": "code",
   "execution_count": null,
   "metadata": {
    "execution": {
     "iopub.status.busy": "2023-02-20T13:08:18.168677Z",
     "iopub.status.idle": "2023-02-20T13:08:18.172765Z",
     "shell.execute_reply": "2023-02-20T13:08:18.172506Z",
     "shell.execute_reply.started": "2023-02-20T13:08:18.168847Z"
    }
   },
   "outputs": [],
   "source": [
    "# nach flexion auslagern\n",
    "mask = wiktionary_merkmal.merkmal.isin(['übersicht','flexion']) \n",
    "wiktionary_merkmal, flexion = pak.move_rows( wiktionary_merkmal, mask, msg=None ) \n",
    "flexion_trash = flexion.head(0)"
   ]
  },
  {
   "cell_type": "code",
   "execution_count": null,
   "metadata": {
    "execution": {
     "iopub.status.busy": "2023-02-20T13:08:18.173503Z",
     "iopub.status.idle": "2023-02-20T13:08:18.173792Z",
     "shell.execute_reply": "2023-02-20T13:08:18.173669Z",
     "shell.execute_reply.started": "2023-02-20T13:08:18.173655Z"
    }
   },
   "outputs": [],
   "source": [
    "# In wiktionary_merkmal ist node_kontext jetzt überflüssig\n",
    "wiktionary_merkmal = pak.drop_cols(wiktionary_merkmal, 'node_kontext') "
   ]
  },
  {
   "cell_type": "code",
   "execution_count": null,
   "metadata": {
    "execution": {
     "iopub.status.busy": "2023-02-20T13:08:18.174315Z",
     "iopub.status.idle": "2023-02-20T13:08:18.174572Z",
     "shell.execute_reply": "2023-02-20T13:08:18.174451Z",
     "shell.execute_reply.started": "2023-02-20T13:08:18.174438Z"
    }
   },
   "outputs": [],
   "source": [
    "flexion = pak.rename_col(flexion, 'merkmal',      'quelle')\n",
    "flexion = pak.rename_col(flexion, 'node_kontext', 'merkmal_lang')\n",
    "flexion = pak.drop_cols(flexion, ['num','meta','msg','section_id','quelle'])\n",
    "flexion['merkmal'] = flexion.merkmal_lang.copy()\n",
    "flexion = pak.move_cols( flexion, ['section_id2', 'merkmal_lang', 'merkmal', 'data'])"
   ]
  },
  {
   "cell_type": "code",
   "execution_count": null,
   "metadata": {
    "execution": {
     "iopub.status.busy": "2023-02-20T13:08:18.175259Z",
     "iopub.status.idle": "2023-02-20T13:08:18.175523Z",
     "shell.execute_reply": "2023-02-20T13:08:18.175403Z",
     "shell.execute_reply.started": "2023-02-20T13:08:18.175389Z"
    }
   },
   "outputs": [],
   "source": [
    "# Dups entfernen\n",
    "flexion = pak.reset_index(flexion.drop_duplicates())"
   ]
  },
  {
   "cell_type": "code",
   "execution_count": null,
   "metadata": {
    "execution": {
     "iopub.status.busy": "2023-02-20T13:08:18.176119Z",
     "iopub.status.idle": "2023-02-20T13:08:18.176389Z",
     "shell.execute_reply": "2023-02-20T13:08:18.176268Z",
     "shell.execute_reply.started": "2023-02-20T13:08:18.176254Z"
    }
   },
   "outputs": [],
   "source": [
    "# meta schreiben\n",
    "# dazu lexeme_manuell nochmal aufklappen, um an die lexeme heranzukommen\n",
    "df = pak.explode_dict(lexeme_manuell, col_dict='flexion', col_key='key', col_value='data', from_defaultdict=True)\n",
    "mask = df.section_id2 == 'und'\n",
    "df[mask]"
   ]
  },
  {
   "cell_type": "code",
   "execution_count": null,
   "metadata": {
    "execution": {
     "iopub.status.busy": "2023-02-20T13:08:18.181285Z",
     "iopub.status.idle": "2023-02-20T13:08:18.181680Z",
     "shell.execute_reply": "2023-02-20T13:08:18.181522Z",
     "shell.execute_reply.started": "2023-02-20T13:08:18.181507Z"
    }
   },
   "outputs": [],
   "source": [
    "# meta schreiben\n",
    "flexion['meta'] = ''\n",
    "mask = pak.isin( flexion, df, on=['section_id2','data'])\n",
    "check_mask(flexion,mask)\n",
    "flexion.loc[mask,'meta'] = 'manuell'"
   ]
  },
  {
   "cell_type": "code",
   "execution_count": null,
   "metadata": {
    "execution": {
     "iopub.status.busy": "2023-02-20T13:08:18.182364Z",
     "iopub.status.idle": "2023-02-20T13:08:18.182633Z",
     "shell.execute_reply": "2023-02-20T13:08:18.182510Z",
     "shell.execute_reply.started": "2023-02-20T13:08:18.182497Z"
    }
   },
   "outputs": [],
   "source": [
    "# TODO_Widersprüchliche_Angaben l\n",
    "mask1 = pak.same_but_different(flexion, same=['section_id2','merkmal_lang'], different='data', return_mask=True)\n",
    "mask2 = flexion.merkmal == 'Genus'\n",
    "mask3 = flexion.section_id2 != 'Fräulein'\n",
    "mask = mask1  &  mask2  &  mask3\n",
    "check_mask(flexion, mask, 0, 20)\n",
    "bgc('orange')"
   ]
  },
  {
   "cell_type": "code",
   "execution_count": null,
   "metadata": {
    "execution": {
     "iopub.status.busy": "2023-02-20T13:08:18.183341Z",
     "iopub.status.idle": "2023-02-20T13:08:18.183711Z",
     "shell.execute_reply": "2023-02-20T13:08:18.183549Z",
     "shell.execute_reply.started": "2023-02-20T13:08:18.183532Z"
    }
   },
   "outputs": [],
   "source": [
    "grid(flexion[mask].sort_values(['section_id2']))"
   ]
  },
  {
   "cell_type": "code",
   "execution_count": null,
   "metadata": {
    "execution": {
     "iopub.status.busy": "2023-02-20T13:08:18.190268Z",
     "iopub.status.idle": "2023-02-20T13:08:18.190724Z",
     "shell.execute_reply": "2023-02-20T13:08:18.190546Z",
     "shell.execute_reply.started": "2023-02-20T13:08:18.190529Z"
    }
   },
   "outputs": [],
   "source": [
    "# abspalten\n",
    "flexion, df = pak.move_rows(flexion, mask, msg=None)\n",
    "\n",
    "# auswählen\n",
    "df = df.drop_duplicates(subset=['section_id2','merkmal'])\n",
    "\n",
    "# wieder anfügen\n",
    "flexion = pak.add_rows(flexion, df)"
   ]
  },
  {
   "cell_type": "code",
   "execution_count": null,
   "metadata": {
    "execution": {
     "iopub.status.busy": "2023-02-20T13:08:18.191712Z",
     "iopub.status.idle": "2023-02-20T13:08:18.192044Z",
     "shell.execute_reply": "2023-02-20T13:08:18.191897Z",
     "shell.execute_reply.started": "2023-02-20T13:08:18.191882Z"
    }
   },
   "outputs": [],
   "source": [
    "# merkmal reinigen\n",
    "\n",
    "# 'Ptz1' und 'Ptz2' maskieren\n",
    "flexion['merkmal'] = pak.replace_str(flexion.merkmal, {'Ptz1':'PtzA', 'Ptz2':'PtzB'})\n",
    "\n",
    "# merkmal reinigen\n",
    "r = ['*','1','2','3','4','stark','schwach','gemischt']\n",
    "flexion['merkmal'] = pak.remove_str(flexion.merkmal, r)\n",
    "\n",
    "# 'Ptz1' und 'Ptz2' demaskieren\n",
    "flexion['merkmal'] = pak.replace_str(flexion.merkmal, {'PtzA':'Ptz1', 'PtzB':'Ptz2'})"
   ]
  },
  {
   "cell_type": "code",
   "execution_count": null,
   "metadata": {
    "execution": {
     "iopub.status.busy": "2023-02-20T13:08:18.192820Z",
     "iopub.status.idle": "2023-02-20T13:08:18.193195Z",
     "shell.execute_reply": "2023-02-20T13:08:18.193037Z",
     "shell.execute_reply.started": "2023-02-20T13:08:18.193020Z"
    }
   },
   "outputs": [],
   "source": [
    "# Beispiel anschauen\n",
    "mask = flexion.section_id2 == suche_debug[0]\n",
    "grid(flexion,mask)"
   ]
  },
  {
   "cell_type": "code",
   "execution_count": null,
   "metadata": {
    "execution": {
     "iopub.status.busy": "2023-02-20T13:08:18.193956Z",
     "iopub.status.idle": "2023-02-20T13:08:18.194377Z",
     "shell.execute_reply": "2023-02-20T13:08:18.194193Z",
     "shell.execute_reply.started": "2023-02-20T13:08:18.194172Z"
    }
   },
   "outputs": [],
   "source": [
    "# translate_first\n",
    "\n",
    "print(translate_first1)\n",
    "print(translate_first2)\n",
    "\n",
    "for quelle, ziel in translate_first1:\n",
    "    flexion.merkmal = flexion.merkmal.str.replace( quelle, ziel )\n",
    "\n",
    "for quelle, ziel in translate_first2:\n",
    "    flexion.merkmal = flexion.merkmal.str.replace( quelle, ziel )"
   ]
  },
  {
   "cell_type": "code",
   "execution_count": null,
   "metadata": {
    "execution": {
     "iopub.status.busy": "2023-02-20T13:08:18.195167Z",
     "iopub.status.idle": "2023-02-20T13:08:18.199488Z",
     "shell.execute_reply": "2023-02-20T13:08:18.199258Z",
     "shell.execute_reply.started": "2023-02-20T13:08:18.199223Z"
    }
   },
   "outputs": [],
   "source": [
    "translate_merkmal"
   ]
  },
  {
   "cell_type": "code",
   "execution_count": null,
   "metadata": {
    "execution": {
     "iopub.status.busy": "2023-02-20T13:08:18.200261Z",
     "iopub.status.idle": "2023-02-20T13:08:18.200556Z",
     "shell.execute_reply": "2023-02-20T13:08:18.200416Z",
     "shell.execute_reply.started": "2023-02-20T13:08:18.200402Z"
    }
   },
   "outputs": [],
   "source": [
    "# translate_merkmal: merkmal reinigen\n",
    "flexion['merkmal'] = pak.replace_str(flexion.merkmal, translate_merkmal)"
   ]
  },
  {
   "cell_type": "code",
   "execution_count": null,
   "metadata": {
    "execution": {
     "iopub.status.busy": "2023-02-20T13:08:18.201134Z",
     "iopub.status.idle": "2023-02-20T13:08:18.201396Z",
     "shell.execute_reply": "2023-02-20T13:08:18.201277Z",
     "shell.execute_reply.started": "2023-02-20T13:08:18.201264Z"
    }
   },
   "outputs": [],
   "source": [
    "#a = analyse_freqs(flexion,'merkmal','data', split_A=' ', style='top') # \n",
    "#grid(a)"
   ]
  },
  {
   "cell_type": "code",
   "execution_count": null,
   "metadata": {
    "execution": {
     "iopub.status.busy": "2023-02-20T13:08:18.201938Z",
     "iopub.status.idle": "2023-02-20T13:08:18.202303Z",
     "shell.execute_reply": "2023-02-20T13:08:18.202079Z",
     "shell.execute_reply.started": "2023-02-20T13:08:18.202066Z"
    }
   },
   "outputs": [],
   "source": [
    "# strip\n",
    "flexion.merkmal = flexion.merkmal.str.replace('  ',' ').str.strip()"
   ]
  },
  {
   "cell_type": "code",
   "execution_count": null,
   "metadata": {
    "execution": {
     "iopub.status.busy": "2023-02-20T13:08:18.213061Z",
     "iopub.status.idle": "2023-02-20T13:08:18.213453Z",
     "shell.execute_reply": "2023-02-20T13:08:18.213306Z",
     "shell.execute_reply.started": "2023-02-20T13:08:18.213290Z"
    }
   },
   "outputs": [],
   "source": [
    "# Einige Merkmale löschen\n",
    "r = ['','Weitere Konjugationen','beschreibung','bezug','breite','Jahr','Titel','am','Zugriff','Monat','Tag','Autor','Bild','Flexion','unpersönlich',\n",
    "     'Kommentar','zugriff','hrsg','Artikel','größe','titel','Ort','spr','Verlag','Seiten','autor','datum','Weitere','kein-s', 'Kein-ens','Datum',\n",
    "     'EW','ISBN','Originalsprache','TitelErg','dim','kommentar','name','region','sprache','text','Keine weiteren Formen',   \n",
    "    ]\n",
    "mask = flexion.merkmal.isin(r)\n",
    "flexion, flexion_trash = pak.move_rows(df_from=flexion, df_to=flexion_trash, mask=mask, msg='ungenutzte_Merkmale')\n",
    "grid(df)"
   ]
  },
  {
   "cell_type": "code",
   "execution_count": null,
   "metadata": {
    "execution": {
     "iopub.status.busy": "2023-02-20T13:08:18.214190Z",
     "iopub.status.idle": "2023-02-20T13:08:18.214529Z",
     "shell.execute_reply": "2023-02-20T13:08:18.214382Z",
     "shell.execute_reply.started": "2023-02-20T13:08:18.214367Z"
    }
   },
   "outputs": [],
   "source": [
    "# merkmale sortieren\n",
    "flexion = sort_merkmale(flexion)"
   ]
  },
  {
   "cell_type": "code",
   "execution_count": null,
   "metadata": {
    "execution": {
     "iopub.status.busy": "2023-02-20T13:08:18.215781Z",
     "iopub.status.idle": "2023-02-20T13:08:18.216170Z",
     "shell.execute_reply": "2023-02-20T13:08:18.216008Z",
     "shell.execute_reply.started": "2023-02-20T13:08:18.215993Z"
    }
   },
   "outputs": [],
   "source": [
    "# Müll löschen (obsolet: Das wurde weiter oben schon gelöscht)\n",
    "mask = flexion.merkmal.str.contains('|', regex=False)\n",
    "flexion, flexion_trash = pak.move_rows(df_from=flexion, df_to=flexion_trash, mask=mask, msg='Müll1')\n",
    "grid(df, color='green')"
   ]
  },
  {
   "cell_type": "code",
   "execution_count": null,
   "metadata": {
    "execution": {
     "iopub.status.busy": "2023-02-20T13:08:18.216931Z",
     "iopub.status.idle": "2023-02-20T13:08:18.217266Z",
     "shell.execute_reply": "2023-02-20T13:08:18.217124Z",
     "shell.execute_reply.started": "2023-02-20T13:08:18.217110Z"
    }
   },
   "outputs": [],
   "source": [
    "# Müll löschen (obsolet: Das wurde weiter oben schon gelöscht)\n",
    "mask = flexion.data.str.contains('<', regex=False)\n",
    "flexion, flexion_trash = pak.move_rows(df_from=flexion, df_to=flexion_trash, mask=mask, msg='Müll2') \n",
    "grid(df, color='green')"
   ]
  },
  {
   "cell_type": "code",
   "execution_count": null,
   "metadata": {
    "execution": {
     "iopub.status.busy": "2023-02-20T13:08:18.217932Z",
     "iopub.status.idle": "2023-02-20T13:08:18.218223Z",
     "shell.execute_reply": "2023-02-20T13:08:18.218096Z",
     "shell.execute_reply.started": "2023-02-20T13:08:18.218082Z"
    }
   },
   "outputs": [],
   "source": [
    "# Striche vereinheitlichen\n",
    "r = {'—':'-', '–':'-'}\n",
    "flexion.data = pak.replace_str(flexion.data, r)"
   ]
  },
  {
   "cell_type": "code",
   "execution_count": null,
   "metadata": {
    "execution": {
     "iopub.status.busy": "2023-02-20T13:08:18.218779Z",
     "iopub.status.idle": "2023-02-20T13:08:18.219042Z",
     "shell.execute_reply": "2023-02-20T13:08:18.218920Z",
     "shell.execute_reply.started": "2023-02-20T13:08:18.218907Z"
    }
   },
   "outputs": [],
   "source": [
    "a = pak.analyse_freqs(flexion,['merkmal','data'], splits=[' ', None]) # \n",
    "grid(a)"
   ]
  },
  {
   "cell_type": "code",
   "execution_count": null,
   "metadata": {
    "execution": {
     "iopub.status.busy": "2023-02-20T13:08:18.219850Z",
     "iopub.status.idle": "2023-02-20T13:08:18.220153Z",
     "shell.execute_reply": "2023-02-20T13:08:18.220019Z",
     "shell.execute_reply.started": "2023-02-20T13:08:18.220005Z"
    }
   },
   "outputs": [],
   "source": [
    "a = pak.analyse_freqs(flexion,['merkmal','data']) \n",
    "grid(a)"
   ]
  },
  {
   "cell_type": "code",
   "execution_count": null,
   "metadata": {
    "execution": {
     "iopub.status.busy": "2023-02-20T13:08:18.221281Z",
     "iopub.status.idle": "2023-02-20T13:08:18.221616Z",
     "shell.execute_reply": "2023-02-20T13:08:18.221471Z",
     "shell.execute_reply.started": "2023-02-20T13:08:18.221457Z"
    }
   },
   "outputs": [],
   "source": [
    "a = pak.analyse_freqs(flexion,['sort','merkmal']) # \n",
    "grid(a)"
   ]
  },
  {
   "cell_type": "code",
   "execution_count": null,
   "metadata": {
    "execution": {
     "iopub.status.busy": "2023-02-20T13:08:18.222580Z",
     "iopub.status.idle": "2023-02-20T13:08:18.222944Z",
     "shell.execute_reply": "2023-02-20T13:08:18.222792Z",
     "shell.execute_reply.started": "2023-02-20T13:08:18.222777Z"
    }
   },
   "outputs": [],
   "source": [
    "# flexion wieder an wiktionary_merkmal anfügen\n",
    "\n",
    "df = pak.drop_cols(flexion, ['merkmal_lang','sort'])\n",
    "df = df.drop_duplicates()\n",
    "#grid(df)\n",
    "wiktionary_merkmal = pak.add_rows(wiktionary_merkmal, df)"
   ]
  },
  {
   "cell_type": "code",
   "execution_count": null,
   "metadata": {
    "execution": {
     "iopub.status.busy": "2023-02-20T13:08:18.223773Z",
     "iopub.status.idle": "2023-02-20T13:08:18.224130Z",
     "shell.execute_reply": "2023-02-20T13:08:18.223980Z",
     "shell.execute_reply.started": "2023-02-20T13:08:18.223966Z"
    }
   },
   "outputs": [],
   "source": [
    "# Beispiel anzeigen \n",
    "mask = (wiktionary_merkmal.section_id2 == suche_debug[0])\n",
    "grid(wiktionary_merkmal,mask)"
   ]
  },
  {
   "cell_type": "code",
   "execution_count": null,
   "metadata": {
    "execution": {
     "iopub.status.busy": "2023-02-20T13:08:18.224901Z",
     "iopub.status.idle": "2023-02-20T13:08:18.225254Z",
     "shell.execute_reply": "2023-02-20T13:08:18.225104Z",
     "shell.execute_reply.started": "2023-02-20T13:08:18.225089Z"
    }
   },
   "outputs": [],
   "source": [
    "# Speicher sparen\n",
    "if speicher_freigeben:\n",
    "    del flexion"
   ]
  },
  {
   "cell_type": "markdown",
   "metadata": {},
   "source": [
    "### wiktionary_merkmal pflegen\n",
    "* Diverse Pflegeschritte"
   ]
  },
  {
   "cell_type": "code",
   "execution_count": null,
   "metadata": {
    "execution": {
     "iopub.status.busy": "2023-02-20T13:08:18.225971Z",
     "iopub.status.idle": "2023-02-20T13:08:18.226509Z",
     "shell.execute_reply": "2023-02-20T13:08:18.226360Z",
     "shell.execute_reply.started": "2023-02-20T13:08:18.226344Z"
    }
   },
   "outputs": [],
   "source": [
    "# drop_cols\n",
    "wiktionary_merkmal = pak.drop_cols(wiktionary_merkmal,['rhymes','inflected','lang','lang_code','lemma_lower'])"
   ]
  },
  {
   "cell_type": "code",
   "execution_count": null,
   "metadata": {
    "execution": {
     "iopub.status.busy": "2023-02-20T13:08:18.227263Z",
     "iopub.status.idle": "2023-02-20T13:08:18.227557Z",
     "shell.execute_reply": "2023-02-20T13:08:18.227428Z",
     "shell.execute_reply.started": "2023-02-20T13:08:18.227414Z"
    }
   },
   "outputs": [],
   "source": [
    "mask = wiktionary_merkmal.merkmal == 'rhymes'\n",
    "wiktionary_merkmal[mask]"
   ]
  },
  {
   "cell_type": "code",
   "execution_count": null,
   "metadata": {
    "execution": {
     "iopub.status.busy": "2023-02-20T13:08:18.228477Z",
     "iopub.status.idle": "2023-02-20T13:08:18.228905Z",
     "shell.execute_reply": "2023-02-20T13:08:18.228654Z",
     "shell.execute_reply.started": "2023-02-20T13:08:18.228641Z"
    }
   },
   "outputs": [],
   "source": [
    "# change_datatype\n",
    "wiktionary_merkmal = pak.change_datatype(wiktionary_merkmal)"
   ]
  },
  {
   "cell_type": "code",
   "execution_count": null,
   "metadata": {
    "execution": {
     "iopub.status.busy": "2023-02-20T13:08:18.229555Z",
     "iopub.status.idle": "2023-02-20T13:08:18.229837Z",
     "shell.execute_reply": "2023-02-20T13:08:18.229710Z",
     "shell.execute_reply.started": "2023-02-20T13:08:18.229697Z"
    }
   },
   "outputs": [],
   "source": [
    "# Keine nan in data\n",
    "assert not pak.any_nan(wiktionary_merkmal.data) "
   ]
  },
  {
   "cell_type": "code",
   "execution_count": null,
   "metadata": {
    "execution": {
     "iopub.status.busy": "2023-02-20T13:08:18.230494Z",
     "iopub.status.idle": "2023-02-20T13:08:18.230827Z",
     "shell.execute_reply": "2023-02-20T13:08:18.230682Z",
     "shell.execute_reply.started": "2023-02-20T13:08:18.230668Z"
    }
   },
   "outputs": [],
   "source": [
    "# herkunft: meta leeren\n",
    "mask = wiktionary_merkmal.merkmal.isin(['herkunft']) \n",
    "wiktionary_merkmal.loc[mask,'meta'] = ''\n",
    "#grid(wiktionary_merkmal, mask)"
   ]
  },
  {
   "cell_type": "code",
   "execution_count": null,
   "metadata": {
    "execution": {
     "iopub.status.busy": "2023-02-20T13:08:18.231713Z",
     "iopub.status.idle": "2023-02-20T13:08:18.232211Z",
     "shell.execute_reply": "2023-02-20T13:08:18.231884Z",
     "shell.execute_reply.started": "2023-02-20T13:08:18.231871Z"
    }
   },
   "outputs": [],
   "source": [
    "#grid(wiktionary_merkmal_trash)"
   ]
  },
  {
   "cell_type": "code",
   "execution_count": null,
   "metadata": {
    "execution": {
     "iopub.status.busy": "2023-02-20T13:08:18.233047Z",
     "iopub.status.idle": "2023-02-20T13:08:18.233357Z",
     "shell.execute_reply": "2023-02-20T13:08:18.233224Z",
     "shell.execute_reply.started": "2023-02-20T13:08:18.233211Z"
    }
   },
   "outputs": [],
   "source": [
    "# noPl\n",
    "mask = (wiktionary_merkmal.data.str.len() <= 1)  &   wiktionary_merkmal.merkmal.str.endswith('Pl')   &   (wiktionary_merkmal.merkmal != 'noPl')\n",
    "wiktionary_merkmal.loc[mask,'merkmal'] = 'noPl¼'\n",
    "wiktionary_merkmal.loc[mask,'data']    = '1'"
   ]
  },
  {
   "cell_type": "code",
   "execution_count": null,
   "metadata": {
    "execution": {
     "iopub.status.busy": "2023-02-20T13:08:18.234168Z",
     "iopub.status.idle": "2023-02-20T13:08:18.234725Z",
     "shell.execute_reply": "2023-02-20T13:08:18.234364Z",
     "shell.execute_reply.started": "2023-02-20T13:08:18.234349Z"
    }
   },
   "outputs": [],
   "source": [
    "# noSg\n",
    "mask = (wiktionary_merkmal.data.str.len() <= 1)  &   wiktionary_merkmal.merkmal.str.endswith('Sg')   &   (wiktionary_merkmal.merkmal != 'noSg')\n",
    "wiktionary_merkmal.loc[mask,'merkmal'] = 'noSg¼'\n",
    "wiktionary_merkmal.loc[mask,'data']    = '1'"
   ]
  },
  {
   "cell_type": "code",
   "execution_count": null,
   "metadata": {
    "execution": {
     "iopub.status.busy": "2023-02-20T13:08:18.235461Z",
     "iopub.status.idle": "2023-02-20T13:08:18.235929Z",
     "shell.execute_reply": "2023-02-20T13:08:18.235637Z",
     "shell.execute_reply.started": "2023-02-20T13:08:18.235623Z"
    }
   },
   "outputs": [],
   "source": [
    "# mindestens 2 Zeichen deuten auf noSg hin\n",
    "\n",
    "# finden\n",
    "mask = (wiktionary_merkmal.merkmal == 'noSg¼')\n",
    "df = wiktionary_merkmal[mask].groupby('section_id2')['merkmal'].agg('count').reset_index()\n",
    "mask = (df.merkmal > 1)\n",
    "markiere = df[mask]['section_id2']\n",
    "\n",
    "# nach wiktionary_lemma übertragen\n",
    "mask = wiktionary_lemma.section_id2.isin(markiere)\n",
    "wiktionary_lemma.loc[mask,'member'] += ' noSg'"
   ]
  },
  {
   "cell_type": "code",
   "execution_count": null,
   "metadata": {
    "execution": {
     "iopub.status.busy": "2023-02-20T13:08:18.236932Z",
     "iopub.status.idle": "2023-02-20T13:08:18.237247Z",
     "shell.execute_reply": "2023-02-20T13:08:18.237112Z",
     "shell.execute_reply.started": "2023-02-20T13:08:18.237098Z"
    }
   },
   "outputs": [],
   "source": [
    "# mindestens 2 Zeichen deuten auf noPl hin\n",
    "\n",
    "# finden\n",
    "mask = (wiktionary_merkmal.merkmal == 'noPl¼')\n",
    "df = wiktionary_merkmal[mask].groupby('section_id2')['merkmal'].agg('count').reset_index()\n",
    "mask = (df.merkmal > 1)\n",
    "markiere = df[mask]['section_id2']\n",
    "\n",
    "# nach wiktionary_lemma übertragen\n",
    "mask = wiktionary_lemma.section_id2.isin(markiere)\n",
    "wiktionary_lemma.loc[mask,'member'] += ' noPl'"
   ]
  },
  {
   "cell_type": "code",
   "execution_count": null,
   "metadata": {
    "execution": {
     "iopub.status.busy": "2023-02-20T13:08:18.237891Z",
     "iopub.status.idle": "2023-02-20T13:08:18.238302Z",
     "shell.execute_reply": "2023-02-20T13:08:18.238152Z",
     "shell.execute_reply.started": "2023-02-20T13:08:18.238136Z"
    }
   },
   "outputs": [],
   "source": [
    "# entfernen\n",
    "mask = wiktionary_merkmal.merkmal.isin(['noSg¼','noPl¼'])\n",
    "wiktionary_merkmal, wiktionary_merkmal_trash = pak.move_rows(df_from=wiktionary_merkmal, df_to=wiktionary_merkmal_trash, mask=mask, msg='noSg¼ noPl¼')"
   ]
  },
  {
   "cell_type": "code",
   "execution_count": null,
   "metadata": {
    "execution": {
     "iopub.status.busy": "2023-02-20T13:08:18.239032Z",
     "iopub.status.idle": "2023-02-20T13:08:18.240053Z",
     "shell.execute_reply": "2023-02-20T13:08:18.239201Z",
     "shell.execute_reply.started": "2023-02-20T13:08:18.239187Z"
    }
   },
   "outputs": [],
   "source": [
    "# entfernen\n",
    "mask = wiktionary_merkmal.merkmal.isin(['beschreibung 5','bezug 5','breite 5'])\n",
    "wiktionary_merkmal, wiktionary_merkmal_trash = pak.move_rows(df_from=wiktionary_merkmal, df_to=wiktionary_merkmal_trash, mask=mask, msg='Artefakte')"
   ]
  },
  {
   "cell_type": "code",
   "execution_count": null,
   "metadata": {
    "execution": {
     "iopub.status.busy": "2023-02-20T13:08:18.241029Z",
     "iopub.status.idle": "2023-02-20T13:08:18.241393Z",
     "shell.execute_reply": "2023-02-20T13:08:18.241239Z",
     "shell.execute_reply.started": "2023-02-20T13:08:18.241224Z"
    }
   },
   "outputs": [],
   "source": [
    "# entfernen\n",
    "mask = wiktionary_merkmal.merkmal.isin(['Weitere Formen'])\n",
    "wiktionary_merkmal, wiktionary_merkmal_trash = pak.move_rows(df_from=wiktionary_merkmal, df_to=wiktionary_merkmal_trash, mask=mask, msg='Weitere Formen')"
   ]
  },
  {
   "cell_type": "code",
   "execution_count": null,
   "metadata": {
    "execution": {
     "iopub.status.busy": "2023-02-20T13:08:18.242099Z",
     "iopub.status.idle": "2023-02-20T13:08:18.242395Z",
     "shell.execute_reply": "2023-02-20T13:08:18.242266Z",
     "shell.execute_reply.started": "2023-02-20T13:08:18.242252Z"
    }
   },
   "outputs": [],
   "source": [
    "a = pak.analyse_freqs(wiktionary_merkmal,['merkmal','data'], splits=[' ', None]) # \n",
    "grid(a)"
   ]
  },
  {
   "cell_type": "code",
   "execution_count": null,
   "metadata": {
    "execution": {
     "iopub.status.busy": "2023-02-20T13:08:18.243173Z",
     "iopub.status.idle": "2023-02-20T13:08:18.243516Z",
     "shell.execute_reply": "2023-02-20T13:08:18.243371Z",
     "shell.execute_reply.started": "2023-02-20T13:08:18.243355Z"
    }
   },
   "outputs": [],
   "source": [
    "# data enthält nicht_erlaubte_sonderzeichen\n",
    "mask = wiktionary_merkmal.data.str.contains(nicht_erlaubte_sonderzeichen_gnädig) # siehe Steuertabellen\n",
    "check_mask(wiktionary_merkmal, mask, 0, 10000)\n",
    "wiktionary_merkmal, wiktionary_merkmal_trash = pak.move_rows(df_from=wiktionary_merkmal, df_to=wiktionary_merkmal_trash, mask=mask, msg='Sonderzeichen')\n",
    "\n",
    "mask = wiktionary_merkmal_trash.msg == 'Sonderzeichen'\n",
    "grid(wiktionary_merkmal_trash,mask, color='green')"
   ]
  },
  {
   "cell_type": "code",
   "execution_count": null,
   "metadata": {
    "execution": {
     "iopub.status.busy": "2023-02-20T13:08:18.244203Z",
     "iopub.status.idle": "2023-02-20T13:08:18.244515Z",
     "shell.execute_reply": "2023-02-20T13:08:18.244373Z",
     "shell.execute_reply.started": "2023-02-20T13:08:18.244360Z"
    }
   },
   "outputs": [],
   "source": [
    "# E-Merkmale \n",
    "mask = (plan_merkmal.collect == 'E')\n",
    "merkmale_E = list(plan_merkmal[mask].merkmal)\n",
    "merkmale_E "
   ]
  },
  {
   "cell_type": "code",
   "execution_count": null,
   "metadata": {
    "execution": {
     "iopub.status.busy": "2023-02-20T13:08:18.245343Z",
     "iopub.status.idle": "2023-02-20T13:08:18.245761Z",
     "shell.execute_reply": "2023-02-20T13:08:18.245621Z",
     "shell.execute_reply.started": "2023-02-20T13:08:18.245606Z"
    }
   },
   "outputs": [],
   "source": [
    "# data ist zu kurz \n",
    "mask1 =  wiktionary_merkmal.data.str.len() == 1\n",
    "mask2 = ~wiktionary_merkmal.merkmal.isin( merkmale_E + ['Genus','ipa','rhymes','def','lex','abk'] )\n",
    "mask3 = ~wiktionary_merkmal.data.isin(['-'])\n",
    "mask = mask1  &  mask2  &  mask3\n",
    "\n",
    "check_mask(wiktionary_merkmal, mask, 0, 30)\n",
    "wiktionary_merkmal, wiktionary_merkmal_trash = pak.move_rows( df_from=wiktionary_merkmal, df_to=wiktionary_merkmal_trash, mask=mask, msg='zu kurz')\n",
    "\n",
    "#grid(wiktionary_merkmal,mask)\n",
    "#pak.analyse_freqs( wiktionary_merkmal[mask], ['merkmal', 'data'])"
   ]
  },
  {
   "cell_type": "code",
   "execution_count": null,
   "metadata": {
    "execution": {
     "iopub.status.busy": "2023-02-20T13:08:18.246603Z",
     "iopub.status.idle": "2023-02-20T13:08:18.246905Z",
     "shell.execute_reply": "2023-02-20T13:08:18.246776Z",
     "shell.execute_reply.started": "2023-02-20T13:08:18.246762Z"
    }
   },
   "outputs": [],
   "source": [
    "# meta remove_str replace_str\n",
    "wiktionary_merkmal['meta'] = pak.remove_str(  wiktionary_merkmal.meta, '()'         )\n",
    "wiktionary_merkmal['meta'] = pak.replace_str( wiktionary_merkmal.meta, {'/':' '}    )"
   ]
  },
  {
   "cell_type": "code",
   "execution_count": null,
   "metadata": {
    "execution": {
     "iopub.status.busy": "2023-02-20T13:08:18.247878Z",
     "iopub.status.idle": "2023-02-20T13:08:18.248185Z",
     "shell.execute_reply": "2023-02-20T13:08:18.248054Z",
     "shell.execute_reply.started": "2023-02-20T13:08:18.248040Z"
    }
   },
   "outputs": [],
   "source": [
    "# data Klammer am Ende schließen\n",
    "mask1 =  wiktionary_merkmal.data.str.contains('(', regex=False)\n",
    "mask2 = ~wiktionary_merkmal.data.str.contains(')', regex=False)\n",
    "mask = mask1  &  mask2\n",
    "wiktionary_merkmal.loc[mask,'data'] += ')'\n",
    "# grid(wiktionary_merkmal, mask)"
   ]
  },
  {
   "cell_type": "code",
   "execution_count": null,
   "metadata": {
    "execution": {
     "iopub.status.busy": "2023-02-20T13:08:18.249117Z",
     "iopub.status.idle": "2023-02-20T13:08:18.249482Z",
     "shell.execute_reply": "2023-02-20T13:08:18.249327Z",
     "shell.execute_reply.started": "2023-02-20T13:08:18.249312Z"
    }
   },
   "outputs": [],
   "source": [
    "# Beispiel anzeigen \n",
    "mask = (wiktionary_merkmal.section_id2 == suche_debug[0])\n",
    "grid(wiktionary_merkmal,mask)"
   ]
  },
  {
   "cell_type": "markdown",
   "metadata": {},
   "source": [
    "### Kontrolle wiktionary_merkmal\n",
    "* Diverse Kontrollen"
   ]
  },
  {
   "cell_type": "code",
   "execution_count": null,
   "metadata": {
    "execution": {
     "iopub.status.busy": "2023-02-20T13:08:18.250332Z",
     "iopub.status.idle": "2023-02-20T13:08:18.250679Z",
     "shell.execute_reply": "2023-02-20T13:08:18.250531Z",
     "shell.execute_reply.started": "2023-02-20T13:08:18.250515Z"
    }
   },
   "outputs": [],
   "source": [
    "# plan_merkmal Steuertabelle neu erstellen\n",
    "try:\n",
    "    del plan_merkmal\n",
    "except:\n",
    "    pass\n",
    "\n",
    "from Steuertabellen.s01_Steuertabellen import *\n",
    "plan_merkmal = plan_merkmal_erstellen()\n",
    "#pak.sample(plan_merkmal)\n",
    "grid(plan_merkmal)"
   ]
  },
  {
   "cell_type": "code",
   "execution_count": null,
   "metadata": {
    "execution": {
     "iopub.status.busy": "2023-02-20T13:08:18.251411Z",
     "iopub.status.idle": "2023-02-20T13:08:18.251751Z",
     "shell.execute_reply": "2023-02-20T13:08:18.251603Z",
     "shell.execute_reply.started": "2023-02-20T13:08:18.251589Z"
    }
   },
   "outputs": [],
   "source": [
    "# Merkmale lt. Steuertabelle und lt. Realität\n",
    "mask = (plan_merkmal.plan != 2)\n",
    "merkmale_plan = set(plan_merkmal[mask].merkmal)\n",
    "merkmale_data = set(wiktionary_merkmal.merkmal.unique())"
   ]
  },
  {
   "cell_type": "code",
   "execution_count": null,
   "metadata": {
    "execution": {
     "iopub.status.busy": "2023-02-20T13:08:18.252440Z",
     "iopub.status.idle": "2023-02-20T13:08:18.252825Z",
     "shell.execute_reply": "2023-02-20T13:08:18.252679Z",
     "shell.execute_reply.started": "2023-02-20T13:08:18.252663Z"
    }
   },
   "outputs": [],
   "source": [
    "# Fast alle in der Steuertabelle plan_merkmal erfassten Merkmale kommen in wiktionary_merkmal tatsächlich vor.\n",
    "# Ausnahmen! 'übersicht'\n",
    "if version == '_all':\n",
    "    ausnahmen = {'Konj1', 'Konj2', 'übersicht','Gerundivum', 'Imp', 'Konj','lemma','nurWortart','PTKVZ','down_part'} # Konj1 und Konj2 sind jeweils mit 'ich' vorhanden, aber nicht solitär.\n",
    "    merkmale = { m for m in merkmale_plan.difference(merkmale_data) if not m in ausnahmen}\n",
    "    print(merkmale)\n",
    "    assert len(merkmale) == 0"
   ]
  },
  {
   "cell_type": "code",
   "execution_count": null,
   "metadata": {
    "execution": {
     "iopub.status.busy": "2023-02-20T13:08:18.253490Z",
     "iopub.status.idle": "2023-02-20T13:08:18.254036Z",
     "shell.execute_reply": "2023-02-20T13:08:18.253881Z",
     "shell.execute_reply.started": "2023-02-20T13:08:18.253864Z"
    }
   },
   "outputs": [],
   "source": [
    "# Tauchen die Ausnahmen in wiktionary_merkmal_trash auf?\n",
    "# Sollten sie nicht.\n",
    "mask1 =  wiktionary_merkmal_trash.merkmal.isin(  ausnahmen - {'nurWortart'}  )\n",
    "mask2 = ~wiktionary_merkmal_trash.merkmal.isin(['übersicht'])\n",
    "mask = mask1  & mask2\n",
    "check_mask(wiktionary_merkmal_trash,mask,0)\n",
    "#wiktionary_merkmal_trash[mask]"
   ]
  },
  {
   "cell_type": "code",
   "execution_count": null,
   "metadata": {
    "execution": {
     "iopub.status.busy": "2023-02-20T13:08:18.255014Z",
     "iopub.status.idle": "2023-02-20T13:08:18.255320Z",
     "shell.execute_reply": "2023-02-20T13:08:18.255188Z",
     "shell.execute_reply.started": "2023-02-20T13:08:18.255174Z"
    }
   },
   "outputs": [],
   "source": [
    "# TODO_TAGS_IN_MERKMALE\n",
    "bgc('orange')\n",
    "mask = wiktionary_merkmal.merkmal.isin({'VAFIN', 'VMFIN', 'VVIMP', 'VVIZU',})\n",
    "wiktionary_merkmal[mask]"
   ]
  },
  {
   "cell_type": "code",
   "execution_count": null,
   "metadata": {
    "execution": {
     "iopub.status.busy": "2023-02-20T13:08:18.256436Z",
     "iopub.status.idle": "2023-02-20T13:08:18.257126Z",
     "shell.execute_reply": "2023-02-20T13:08:18.256979Z",
     "shell.execute_reply.started": "2023-02-20T13:08:18.256961Z"
    }
   },
   "outputs": [],
   "source": [
    "# alle Merkmale in wiktionary_merkmal sind in der Steuertabelle plan_merkmal erfasst\n",
    "ausnahmen = {'VAFIN', 'VMFIN', 'VVIMP', 'VVIZU',} ## TODO_TAGS_IN_MERKMALE eigentlich sollte es keine Ausnahmen geben!!\n",
    "merkmale = merkmale_data.difference(merkmale_plan) - ausnahmen\n",
    "if len(merkmale) > 0:\n",
    "    print_color(merkmale, 'red')\n",
    "assert len(merkmale) < 5"
   ]
  },
  {
   "cell_type": "code",
   "execution_count": null,
   "metadata": {
    "execution": {
     "iopub.status.busy": "2023-02-20T13:08:18.258288Z",
     "iopub.status.idle": "2023-02-20T13:08:18.258782Z",
     "shell.execute_reply": "2023-02-20T13:08:18.258497Z",
     "shell.execute_reply.started": "2023-02-20T13:08:18.258483Z"
    }
   },
   "outputs": [],
   "source": [
    "# Probleme anschauen\n",
    "print('Problemmerkmale:',merkmale)\n",
    "mask = wiktionary_merkmal.merkmal.isin(merkmale)\n",
    "grid(wiktionary_merkmal, mask, color='green')"
   ]
  },
  {
   "cell_type": "code",
   "execution_count": null,
   "metadata": {
    "execution": {
     "iopub.status.busy": "2023-02-20T13:08:18.259464Z",
     "iopub.status.idle": "2023-02-20T13:08:18.259802Z",
     "shell.execute_reply": "2023-02-20T13:08:18.259654Z",
     "shell.execute_reply.started": "2023-02-20T13:08:18.259639Z"
    }
   },
   "outputs": [],
   "source": [
    "# Keine nan in data\n",
    "assert pak.nnan(wiktionary_merkmal.data) == 0"
   ]
  },
  {
   "cell_type": "code",
   "execution_count": null,
   "metadata": {
    "execution": {
     "iopub.status.busy": "2023-02-20T13:08:18.260846Z",
     "iopub.status.idle": "2023-02-20T13:08:18.261225Z",
     "shell.execute_reply": "2023-02-20T13:08:18.261068Z",
     "shell.execute_reply.started": "2023-02-20T13:08:18.261052Z"
    }
   },
   "outputs": [],
   "source": [
    "# Eindeutige Datentypen\n",
    "for col in wiktionary_merkmal.columns:\n",
    "    print(col)\n",
    "    if col == 'num':\n",
    "        continue\n",
    "    assert pak.ntypes(wiktionary_merkmal[col]) == 1"
   ]
  },
  {
   "cell_type": "code",
   "execution_count": null,
   "metadata": {
    "execution": {
     "iopub.status.busy": "2023-02-20T13:08:18.262179Z",
     "iopub.status.idle": "2023-02-20T13:08:18.262507Z",
     "shell.execute_reply": "2023-02-20T13:08:18.262371Z",
     "shell.execute_reply.started": "2023-02-20T13:08:18.262356Z"
    }
   },
   "outputs": [],
   "source": [
    "wiktionary_merkmal.shape"
   ]
  },
  {
   "cell_type": "markdown",
   "metadata": {},
   "source": [
    "## wiktionary_lemma"
   ]
  },
  {
   "cell_type": "code",
   "execution_count": null,
   "metadata": {
    "execution": {
     "iopub.status.busy": "2023-02-20T13:08:18.263383Z",
     "iopub.status.idle": "2023-02-20T13:08:18.263845Z",
     "shell.execute_reply": "2023-02-20T13:08:18.263556Z",
     "shell.execute_reply.started": "2023-02-20T13:08:18.263542Z"
    }
   },
   "outputs": [],
   "source": [
    "# suche_debug\n",
    "mask = wiktionary_lemma.lemma.isin(suche_debug) #== 'gefriergetrocknet'\n",
    "wiktionary_lemma[mask]"
   ]
  },
  {
   "cell_type": "markdown",
   "metadata": {},
   "source": [
    "### member erweitern\n",
    "* Einige Merkmale aus wiktionary_merkmal nach member in wiktionary_lemma verschieben\n",
    "* und zwar die E-Merkmale. das sind die, bei denen es einzig auf die Existenz ankommt. Diese Merkmale können keine verschiedenen Werte annehmen."
   ]
  },
  {
   "cell_type": "code",
   "execution_count": null,
   "metadata": {
    "execution": {
     "iopub.status.busy": "2023-02-20T13:08:18.272068Z",
     "iopub.status.idle": "2023-02-20T13:08:18.272492Z",
     "shell.execute_reply": "2023-02-20T13:08:18.272301Z",
     "shell.execute_reply.started": "2023-02-20T13:08:18.272285Z"
    }
   },
   "outputs": [],
   "source": [
    "# noSing >> noSg\n",
    "mask = (wiktionary_merkmal.merkmal == 'noSing')\n",
    "wiktionary_merkmal.loc[mask,'merkmal'] = 'noSg'"
   ]
  },
  {
   "cell_type": "code",
   "execution_count": null,
   "metadata": {
    "execution": {
     "iopub.status.busy": "2023-02-20T13:08:18.273171Z",
     "iopub.status.idle": "2023-02-20T13:08:18.273479Z",
     "shell.execute_reply": "2023-02-20T13:08:18.273348Z",
     "shell.execute_reply.started": "2023-02-20T13:08:18.273334Z"
    }
   },
   "outputs": [],
   "source": [
    "# E-Merkmale \n",
    "print(merkmale_E)"
   ]
  },
  {
   "cell_type": "code",
   "execution_count": null,
   "metadata": {
    "execution": {
     "iopub.status.busy": "2023-02-20T13:08:18.274314Z",
     "iopub.status.idle": "2023-02-20T13:08:18.274785Z",
     "shell.execute_reply": "2023-02-20T13:08:18.274493Z",
     "shell.execute_reply.started": "2023-02-20T13:08:18.274478Z"
    }
   },
   "outputs": [],
   "source": [
    "# anschauen\n",
    "mask = wiktionary_merkmal.merkmal.isin(merkmale_E)\n",
    "a = pak.analyse_freqs(wiktionary_merkmal[mask],['merkmal','data']) # \n",
    "grid(a)"
   ]
  },
  {
   "cell_type": "code",
   "execution_count": null,
   "metadata": {
    "execution": {
     "iopub.status.busy": "2023-02-20T13:08:18.275356Z",
     "iopub.status.idle": "2023-02-20T13:08:18.275625Z",
     "shell.execute_reply": "2023-02-20T13:08:18.275503Z",
     "shell.execute_reply.started": "2023-02-20T13:08:18.275490Z"
    }
   },
   "outputs": [],
   "source": [
    "# update-Tabelle erstellen\n",
    "mask = wiktionary_merkmal.merkmal.isin(merkmale_E)\n",
    "df = pak.group_and_agg(wiktionary_merkmal[mask], \n",
    "              col_origins=['section_id2', 'merkmal',             'merkmal',       ],\n",
    "              col_funcs  =['group',       pak.agg_words_nodup,   'count',         ],\n",
    "              col_names  =['',            'member_plus',         'count',         ],              \n",
    "             )\n",
    "#df"
   ]
  },
  {
   "cell_type": "code",
   "execution_count": null,
   "metadata": {
    "execution": {
     "iopub.status.busy": "2023-02-20T13:08:18.276275Z",
     "iopub.status.idle": "2023-02-20T13:08:18.276709Z",
     "shell.execute_reply": "2023-02-20T13:08:18.276442Z",
     "shell.execute_reply.started": "2023-02-20T13:08:18.276428Z"
    }
   },
   "outputs": [],
   "source": [
    "# member_plus schreiben\n",
    "wiktionary_lemma = pak.update_col(wiktionary_lemma, df, on='section_id2', col='member_plus')"
   ]
  },
  {
   "cell_type": "code",
   "execution_count": null,
   "metadata": {
    "execution": {
     "iopub.status.busy": "2023-02-20T13:08:18.277878Z",
     "iopub.status.idle": "2023-02-20T13:08:18.278227Z",
     "shell.execute_reply": "2023-02-20T13:08:18.278081Z",
     "shell.execute_reply.started": "2023-02-20T13:08:18.278066Z"
    }
   },
   "outputs": [],
   "source": [
    "# member schreiben\n",
    "mask = (wiktionary_lemma.member_plus.str.len() > 0)\n",
    "wiktionary_lemma.loc[mask,'member'] = wiktionary_lemma[mask].member + ' ' + wiktionary_lemma[mask].member_plus\n",
    "wiktionary_lemma = pak.drop_cols(wiktionary_lemma,'member_plus')\n",
    "#grid(wiktionary_lemma, mask)"
   ]
  },
  {
   "cell_type": "code",
   "execution_count": null,
   "metadata": {
    "execution": {
     "iopub.status.busy": "2023-02-20T13:08:18.278967Z",
     "iopub.status.idle": "2023-02-20T13:08:18.279255Z",
     "shell.execute_reply": "2023-02-20T13:08:18.279124Z",
     "shell.execute_reply.started": "2023-02-20T13:08:18.279111Z"
    }
   },
   "outputs": [],
   "source": [
    "# wiktionary_merkmal belöschen\n",
    "mask = wiktionary_merkmal.merkmal.isin(merkmale_E)\n",
    "wiktionary_merkmal, wiktionary_merkmal_trash = pak.move_rows(df_from=wiktionary_merkmal, df_to=wiktionary_merkmal_trash, mask=mask, msg='merkmale_E')"
   ]
  },
  {
   "cell_type": "markdown",
   "metadata": {},
   "source": [
    "### member pflegen"
   ]
  },
  {
   "cell_type": "code",
   "execution_count": null,
   "metadata": {
    "execution": {
     "iopub.status.busy": "2023-02-20T13:08:18.281460Z",
     "iopub.status.idle": "2023-02-20T13:08:18.281850Z",
     "shell.execute_reply": "2023-02-20T13:08:18.281693Z",
     "shell.execute_reply.started": "2023-02-20T13:08:18.281676Z"
    }
   },
   "outputs": [],
   "source": [
    "# werte_anz\n",
    "df = pak.group_and_agg(wiktionary_merkmal, \n",
    "              col_origins=['merkmal',    'data',                  ],\n",
    "              col_funcs  =['group',       pak.nunique,            ],\n",
    "              col_names  =['',           'werte_anz',             ],              \n",
    "             )\n",
    "#df"
   ]
  },
  {
   "cell_type": "code",
   "execution_count": null,
   "metadata": {
    "execution": {
     "iopub.status.busy": "2023-02-20T13:08:18.282588Z",
     "iopub.status.idle": "2023-02-20T13:08:18.282931Z",
     "shell.execute_reply": "2023-02-20T13:08:18.282781Z",
     "shell.execute_reply.started": "2023-02-20T13:08:18.282766Z"
    }
   },
   "outputs": [],
   "source": [
    "# merkmale mit kleiner werte_anz\n",
    "mask = (df.werte_anz < 3)   &   ~df.merkmal.str.startswith(('Nom','Gen','Dat','Akk', 'Konj', 'Ptz1'))\n",
    "m = list(df[mask].merkmal)\n",
    "\n",
    "mask = wiktionary_merkmal.merkmal.isin(m)\n",
    "assert wiktionary_merkmal[mask].shape[0] <= 10  \n",
    "\n",
    "a = pak.analyse_freqs(wiktionary_merkmal[mask], ['merkmal','data'])\n",
    "a \n",
    "\n",
    "#wiktionary_merkmal[mask]"
   ]
  },
  {
   "cell_type": "code",
   "execution_count": null,
   "metadata": {
    "execution": {
     "iopub.status.busy": "2023-02-20T13:08:18.283549Z",
     "iopub.status.idle": "2023-02-20T13:08:18.283832Z",
     "shell.execute_reply": "2023-02-20T13:08:18.283708Z",
     "shell.execute_reply.started": "2023-02-20T13:08:18.283694Z"
    }
   },
   "outputs": [],
   "source": [
    "wiktionary_merkmal[mask]"
   ]
  },
  {
   "cell_type": "code",
   "execution_count": null,
   "metadata": {
    "execution": {
     "iopub.status.busy": "2023-02-20T13:08:18.284516Z",
     "iopub.status.idle": "2023-02-20T13:08:18.285304Z",
     "shell.execute_reply": "2023-02-20T13:08:18.284914Z",
     "shell.execute_reply.started": "2023-02-20T13:08:18.284896Z"
    }
   },
   "outputs": [],
   "source": [
    "# In list wandeln\n",
    "wiktionary_lemma.member = wiktionary_lemma.member.str.split()\n",
    "\n",
    "# nach Priorität sortieren (laut Steuertabellen)\n",
    "wiktionary_lemma.member = member_sortieren(wiktionary_lemma.member) \n",
    "\n",
    "# In string wandeln\n",
    "wiktionary_lemma.member = wiktionary_lemma.member.str.join(' ')"
   ]
  },
  {
   "cell_type": "code",
   "execution_count": null,
   "metadata": {
    "execution": {
     "iopub.status.busy": "2023-02-20T13:08:18.294506Z",
     "iopub.status.idle": "2023-02-20T13:08:18.294839Z",
     "shell.execute_reply": "2023-02-20T13:08:18.294699Z",
     "shell.execute_reply.started": "2023-02-20T13:08:18.294684Z"
    }
   },
   "outputs": [],
   "source": [
    "# Seltene member finden\n",
    "member_selten = pak.analyse_freqs(wiktionary_lemma, ['member', 'section_id2'], splits=[' ',None])\n",
    "mask = (member_selten.member_count == 1)\n",
    "member_selten = member_selten[mask]\n",
    "member_selten_member      = list(member_selten.member)\n",
    "member_selten_section_id2 = list(member_selten.section_id2)\n",
    "\n",
    "# und entfernen\n",
    "mask = wiktionary_lemma.section_id2.isin(member_selten_section_id2)\n",
    "wiktionary_lemma.loc[mask,'member'] = pak.remove_str(wiktionary_lemma[mask].member, member_selten_member)\n",
    "#wiktionary_lemma[mask]"
   ]
  },
  {
   "cell_type": "code",
   "execution_count": null,
   "metadata": {
    "execution": {
     "iopub.status.busy": "2023-02-20T13:08:18.295520Z",
     "iopub.status.idle": "2023-02-20T13:08:18.300780Z",
     "shell.execute_reply": "2023-02-20T13:08:18.300534Z",
     "shell.execute_reply.started": "2023-02-20T13:08:18.295651Z"
    }
   },
   "outputs": [],
   "source": [
    "member_selten"
   ]
  },
  {
   "cell_type": "code",
   "execution_count": null,
   "metadata": {
    "execution": {
     "iopub.status.busy": "2023-02-20T13:08:18.301756Z",
     "iopub.status.idle": "2023-02-20T13:08:18.302086Z",
     "shell.execute_reply": "2023-02-20T13:08:18.301949Z",
     "shell.execute_reply.started": "2023-02-20T13:08:18.301935Z"
    }
   },
   "outputs": [],
   "source": [
    "# anschauen wiktionary_lemma\n",
    "a = pak.analyse_freqs(wiktionary_lemma,['member','tag'], splits=[' ', None])\n",
    "grid(a)"
   ]
  },
  {
   "cell_type": "code",
   "execution_count": null,
   "metadata": {
    "execution": {
     "iopub.status.busy": "2023-02-20T13:08:18.302813Z",
     "iopub.status.idle": "2023-02-20T13:08:18.303086Z",
     "shell.execute_reply": "2023-02-20T13:08:18.302963Z",
     "shell.execute_reply.started": "2023-02-20T13:08:18.302950Z"
    }
   },
   "outputs": [],
   "source": [
    "# anschauen wiktionary_nolemma\n",
    "b = pak.analyse_freqs(wiktionary_nolemma,['member','tag'], splits=[' ', None])\n",
    "grid(b)"
   ]
  },
  {
   "cell_type": "code",
   "execution_count": null,
   "metadata": {
    "execution": {
     "iopub.status.busy": "2023-02-20T13:08:18.303573Z",
     "iopub.status.idle": "2023-02-20T13:08:18.303825Z",
     "shell.execute_reply": "2023-02-20T13:08:18.303705Z",
     "shell.execute_reply.started": "2023-02-20T13:08:18.303692Z"
    }
   },
   "outputs": [],
   "source": [
    "# suche_debug\n",
    "mask = wiktionary_lemma.lemma.isin(suche_debug) #== 'gefriergetrocknet'\n",
    "wiktionary_lemma[mask]"
   ]
  },
  {
   "cell_type": "markdown",
   "metadata": {},
   "source": [
    "### member weiter pflegen"
   ]
  },
  {
   "cell_type": "code",
   "execution_count": null,
   "metadata": {
    "execution": {
     "iopub.status.busy": "2023-02-20T13:08:18.304338Z",
     "iopub.status.idle": "2023-02-20T13:08:18.304647Z",
     "shell.execute_reply": "2023-02-20T13:08:18.304518Z",
     "shell.execute_reply.started": "2023-02-20T13:08:18.304503Z"
    }
   },
   "outputs": [],
   "source": [
    "# Ersetzungen im member laut member_replaces (definiert in Steuertabellen)\n",
    "print(member_replaces)\n",
    "wiktionary_lemma.loc[:,'member'] = pak.replace_str(wiktionary_lemma.member, member_replaces)"
   ]
  },
  {
   "cell_type": "code",
   "execution_count": null,
   "metadata": {
    "execution": {
     "iopub.status.busy": "2023-02-20T13:08:18.305234Z",
     "iopub.status.idle": "2023-02-20T13:08:18.305560Z",
     "shell.execute_reply": "2023-02-20T13:08:18.305416Z",
     "shell.execute_reply.started": "2023-02-20T13:08:18.305401Z"
    }
   },
   "outputs": [],
   "source": [
    "# redundantes Substantiv\n",
    "mask = wiktionary_lemma.member.str.contains('Substantiv')   &   (wiktionary_lemma.tagZZ == 'N') \n",
    "check_mask( wiktionary_lemma, mask )\n",
    "wiktionary_lemma.loc[ mask, 'member' ] = wiktionary_lemma[mask].member.str.replace('Substantiv','')"
   ]
  },
  {
   "cell_type": "code",
   "execution_count": null,
   "metadata": {
    "execution": {
     "iopub.status.busy": "2023-02-20T13:08:18.306201Z",
     "iopub.status.idle": "2023-02-20T13:08:18.306517Z",
     "shell.execute_reply": "2023-02-20T13:08:18.306378Z",
     "shell.execute_reply.started": "2023-02-20T13:08:18.306364Z"
    }
   },
   "outputs": [],
   "source": [
    "# redundantes Adjektiv\n",
    "mask = wiktionary_lemma.member.str.contains('Adjektiv')   &   (wiktionary_lemma.tagZ == 'ADJ') \n",
    "check_mask( wiktionary_lemma, mask )\n",
    "wiktionary_lemma.loc[ mask, 'member' ] = wiktionary_lemma[mask].member.str.replace('Adjektiv','')"
   ]
  },
  {
   "cell_type": "code",
   "execution_count": null,
   "metadata": {
    "execution": {
     "iopub.status.busy": "2023-02-20T13:08:18.307129Z",
     "iopub.status.idle": "2023-02-20T13:08:18.307455Z",
     "shell.execute_reply": "2023-02-20T13:08:18.307313Z",
     "shell.execute_reply.started": "2023-02-20T13:08:18.307299Z"
    }
   },
   "outputs": [],
   "source": [
    "# redundantes Verb\n",
    "mask = wiktionary_lemma.member.str.contains('Verb')   &   (wiktionary_lemma.tagZZ == 'V') \n",
    "check_mask( wiktionary_lemma, mask )\n",
    "wiktionary_lemma.loc[ mask, 'member' ] = wiktionary_lemma[mask].member.str.replace('Verb','')"
   ]
  },
  {
   "cell_type": "code",
   "execution_count": null,
   "metadata": {
    "execution": {
     "iopub.status.busy": "2023-02-20T13:08:18.308108Z",
     "iopub.status.idle": "2023-02-20T13:08:18.308413Z",
     "shell.execute_reply": "2023-02-20T13:08:18.308273Z",
     "shell.execute_reply.started": "2023-02-20T13:08:18.308259Z"
    }
   },
   "outputs": [],
   "source": [
    "# redundantes istName, außerdem 1 falsches istName das NN ist\n",
    "mask = wiktionary_lemma.member.str.contains('istName')   &   ( wiktionary_lemma.tagZZ == 'N' ) \n",
    "check_mask( wiktionary_lemma, mask )\n",
    "wiktionary_lemma.loc[ mask, 'member' ] = wiktionary_lemma[mask].member.str.replace('istName','')"
   ]
  },
  {
   "cell_type": "code",
   "execution_count": null,
   "metadata": {
    "execution": {
     "iopub.status.busy": "2023-02-20T13:08:18.310321Z",
     "iopub.status.idle": "2023-02-20T13:08:18.310626Z",
     "shell.execute_reply": "2023-02-20T13:08:18.310498Z",
     "shell.execute_reply.started": "2023-02-20T13:08:18.310483Z"
    }
   },
   "outputs": [],
   "source": [
    "# redundantes Name\n",
    "mask = wiktionary_lemma.member.str.contains('Name')   &   ( wiktionary_lemma.tag_0.isin(['NE']) | wiktionary_lemma.tag_1.isin(['NE']) )\n",
    "check_mask( wiktionary_lemma, mask )\n",
    "wiktionary_lemma.loc[ mask, 'member' ] = wiktionary_lemma[mask].member.str.replace('Name','')"
   ]
  },
  {
   "cell_type": "code",
   "execution_count": null,
   "metadata": {
    "execution": {
     "iopub.status.busy": "2023-02-20T13:08:18.316843Z",
     "iopub.status.idle": "2023-02-20T13:08:18.317210Z",
     "shell.execute_reply": "2023-02-20T13:08:18.317055Z",
     "shell.execute_reply.started": "2023-02-20T13:08:18.317040Z"
    }
   },
   "outputs": [],
   "source": [
    "# redundantes Konjunktion\n",
    "#mask = wiktionary_lemma.member.str.contains('Konjunktion')   &   ~wiktionary_lemma.member.str.contains('Konjunktionaladverb')   &   \\\n",
    "#     ( wiktionary_lemma.tag_0.isin(['KOUS','KON','KOKOM','KOUI']) | wiktionary_lemma.tag_1.isin(['KOUS','KON','KOKOM','KOUI']) ) \n",
    "\n",
    "mask1 =   wiktionary_lemma.member.str.contains('Konjunktion') \n",
    "mask2 =  ~wiktionary_lemma.member.str.contains('Konjunktionaladverb') \n",
    "mask3A =  wiktionary_lemma.tag_0.isin(['KOUS','KON','KOKOM','KOUI'])\n",
    "mask3B =  wiktionary_lemma.tag_1.isin(['KOUS','KON','KOKOM','KOUI'])\n",
    "mask = mask1  &  mask2  &  (mask3A | mask3B)\n",
    "check_mask( wiktionary_lemma, mask )\n",
    "\n",
    "##wiktionary_lemma.loc[ mask, 'member' ] = wiktionary_lemma[mask].member.str.replace('Konjunktion','')\n",
    "#grid(wiktionary_lemma[mask])"
   ]
  },
  {
   "cell_type": "code",
   "execution_count": null,
   "metadata": {
    "execution": {
     "iopub.status.busy": "2023-02-20T13:08:18.323705Z",
     "iopub.status.idle": "2023-02-20T13:08:18.324038Z",
     "shell.execute_reply": "2023-02-20T13:08:18.323900Z",
     "shell.execute_reply.started": "2023-02-20T13:08:18.323885Z"
    }
   },
   "outputs": [],
   "source": [
    "# redundantes Indefinitpronomen\n",
    "mask = wiktionary_lemma.member.str.contains('Indefinitpronomen')   &   ( wiktionary_lemma.tag_0.isin(['PIAT','PIS']) | wiktionary_lemma.tag_1.isin(['PIAT','PIS']) )\n",
    "check_mask( wiktionary_lemma, mask )\n",
    "wiktionary_lemma.loc[ mask, 'member' ] = wiktionary_lemma[mask].member.str.replace('Indefinitpronomen','')"
   ]
  },
  {
   "cell_type": "code",
   "execution_count": null,
   "metadata": {
    "execution": {
     "iopub.status.busy": "2023-02-20T13:08:18.324668Z",
     "iopub.status.idle": "2023-02-20T13:08:18.324938Z",
     "shell.execute_reply": "2023-02-20T13:08:18.324816Z",
     "shell.execute_reply.started": "2023-02-20T13:08:18.324803Z"
    }
   },
   "outputs": [],
   "source": [
    "# redundantes Interjektion\n",
    "mask = wiktionary_lemma.member.str.contains('Interjektion')   &   ( wiktionary_lemma.tag_0.isin(['ITJ']) | wiktionary_lemma.tag_1.isin(['ITJ']) )\n",
    "check_mask( wiktionary_lemma, mask )\n",
    "wiktionary_lemma.loc[ mask, 'member' ] = wiktionary_lemma[mask].member.str.replace('Interjektion','')"
   ]
  },
  {
   "cell_type": "code",
   "execution_count": null,
   "metadata": {
    "execution": {
     "iopub.status.busy": "2023-02-20T13:08:18.325492Z",
     "iopub.status.idle": "2023-02-20T13:08:18.325754Z",
     "shell.execute_reply": "2023-02-20T13:08:18.325634Z",
     "shell.execute_reply.started": "2023-02-20T13:08:18.325621Z"
    }
   },
   "outputs": [],
   "source": [
    "# redundantes Adverb\n",
    "mask = wiktionary_lemma.member.str.contains('Adverb')   &   ( wiktionary_lemma.tag_0.isin(['ADV']) | wiktionary_lemma.tag_1.isin(['ADV']) )\n",
    "check_mask( wiktionary_lemma, mask )\n",
    "wiktionary_lemma.loc[ mask, 'member' ] = wiktionary_lemma[mask].member.str.replace('Adverb','')"
   ]
  },
  {
   "cell_type": "code",
   "execution_count": null,
   "metadata": {
    "execution": {
     "iopub.status.busy": "2023-02-20T13:08:18.326281Z",
     "iopub.status.idle": "2023-02-20T13:08:18.326537Z",
     "shell.execute_reply": "2023-02-20T13:08:18.326417Z",
     "shell.execute_reply.started": "2023-02-20T13:08:18.326404Z"
    }
   },
   "outputs": [],
   "source": [
    "# redundantes Subjunktion\n",
    "mask = wiktionary_lemma.member.str.contains('Subjunktion')   &   ( wiktionary_lemma.tag_0.isin(['KOUS']) | wiktionary_lemma.tag_1.isin(['KOUS']) )\n",
    "check_mask( wiktionary_lemma, mask )\n",
    "wiktionary_lemma.loc[ mask, 'member' ] = wiktionary_lemma[mask].member.str.replace('Subjunktion','')"
   ]
  },
  {
   "cell_type": "code",
   "execution_count": null,
   "metadata": {
    "execution": {
     "iopub.status.busy": "2023-02-20T13:08:18.327147Z",
     "iopub.status.idle": "2023-02-20T13:08:18.327404Z",
     "shell.execute_reply": "2023-02-20T13:08:18.327284Z",
     "shell.execute_reply.started": "2023-02-20T13:08:18.327271Z"
    }
   },
   "outputs": [],
   "source": [
    "# redundantes Personalpronomen\n",
    "mask = wiktionary_lemma.member.str.contains('Personalpronomen')   &   ( wiktionary_lemma.tag_0.isin(['PPER']) | wiktionary_lemma.tag_1.isin(['PPER']) )\n",
    "check_mask( wiktionary_lemma, mask )\n",
    "wiktionary_lemma.loc[ mask, 'member' ] = wiktionary_lemma[mask].member.str.replace('Personalpronomen','')"
   ]
  },
  {
   "cell_type": "code",
   "execution_count": null,
   "metadata": {
    "execution": {
     "iopub.status.busy": "2023-02-20T13:08:18.333195Z",
     "iopub.status.idle": "2023-02-20T13:08:18.333532Z",
     "shell.execute_reply": "2023-02-20T13:08:18.333395Z",
     "shell.execute_reply.started": "2023-02-20T13:08:18.333380Z"
    }
   },
   "outputs": [],
   "source": [
    "# redundantes Demonstrativpronomen\n",
    "mask = wiktionary_lemma.member.str.contains('Demonstrativpronomen')   &   ( wiktionary_lemma.tag_0.isin(['PDAT']) | wiktionary_lemma.tag_1.isin(['PDAT']) )\n",
    "check_mask( wiktionary_lemma, mask )\n",
    "wiktionary_lemma.loc[ mask, 'member' ] = wiktionary_lemma[mask].member.str.replace('Demonstrativpronomen','')"
   ]
  },
  {
   "cell_type": "code",
   "execution_count": null,
   "metadata": {
    "execution": {
     "iopub.status.busy": "2023-02-20T13:08:18.334109Z",
     "iopub.status.idle": "2023-02-20T13:08:18.334389Z",
     "shell.execute_reply": "2023-02-20T13:08:18.334262Z",
     "shell.execute_reply.started": "2023-02-20T13:08:18.334248Z"
    }
   },
   "outputs": [],
   "source": [
    "# redundantes Artikel\n",
    "mask = wiktionary_lemma.member.str.contains('Artikel')   &   ( wiktionary_lemma.tag_0.isin(['ART']) | wiktionary_lemma.tag_1.isin(['ART']) )\n",
    "check_mask( wiktionary_lemma, mask )\n",
    "wiktionary_lemma.loc[ mask, 'member' ] = wiktionary_lemma[mask].member.str.replace('Artikel','')"
   ]
  },
  {
   "cell_type": "code",
   "execution_count": null,
   "metadata": {
    "execution": {
     "iopub.status.busy": "2023-02-20T13:08:18.334919Z",
     "iopub.status.idle": "2023-02-20T13:08:18.335178Z",
     "shell.execute_reply": "2023-02-20T13:08:18.335058Z",
     "shell.execute_reply.started": "2023-02-20T13:08:18.335044Z"
    }
   },
   "outputs": [],
   "source": [
    "# redundantes Postposition\n",
    "mask = wiktionary_lemma.member.str.contains('Postposition')   &   ( wiktionary_lemma.tag_0.isin(['APPO']) | wiktionary_lemma.tag_1.isin(['APPO']) )\n",
    "check_mask( wiktionary_lemma, mask )\n",
    "wiktionary_lemma.loc[ mask, 'member' ] = wiktionary_lemma[mask].member.str.replace('Postposition','')"
   ]
  },
  {
   "cell_type": "code",
   "execution_count": null,
   "metadata": {
    "execution": {
     "iopub.status.busy": "2023-02-20T13:08:18.335684Z",
     "iopub.status.idle": "2023-02-20T13:08:18.335937Z",
     "shell.execute_reply": "2023-02-20T13:08:18.335819Z",
     "shell.execute_reply.started": "2023-02-20T13:08:18.335806Z"
    }
   },
   "outputs": [],
   "source": [
    "# redundantes Relativpronomen\n",
    "mask = wiktionary_lemma.member.str.contains('Relativpronomen')   &   ( wiktionary_lemma.tag_0.isin(['PRELAT']) | wiktionary_lemma.tag_1.isin(['PRELAT']) )\n",
    "check_mask( wiktionary_lemma, mask )\n",
    "wiktionary_lemma.loc[ mask, 'member' ] = wiktionary_lemma[mask].member.str.replace('Relativpronomen','')"
   ]
  },
  {
   "cell_type": "code",
   "execution_count": null,
   "metadata": {
    "execution": {
     "iopub.status.busy": "2023-02-20T13:08:18.336419Z",
     "iopub.status.idle": "2023-02-20T13:08:18.336727Z",
     "shell.execute_reply": "2023-02-20T13:08:18.336605Z",
     "shell.execute_reply.started": "2023-02-20T13:08:18.336591Z"
    }
   },
   "outputs": [],
   "source": [
    "# redundantes Possessivpronomen\n",
    "mask = wiktionary_lemma.member.str.contains('Possessivpronomen')   &   ( wiktionary_lemma.tag_0.isin(['PPOSS']) | wiktionary_lemma.tag_1.isin(['PPOSS']) )\n",
    "check_mask( wiktionary_lemma, mask )\n",
    "wiktionary_lemma.loc[ mask, 'member' ] = wiktionary_lemma[mask].member.str.replace('Possessivpronomen','')"
   ]
  },
  {
   "cell_type": "code",
   "execution_count": null,
   "metadata": {
    "execution": {
     "iopub.status.busy": "2023-02-20T13:08:18.337249Z",
     "iopub.status.idle": "2023-02-20T13:08:18.337508Z",
     "shell.execute_reply": "2023-02-20T13:08:18.337386Z",
     "shell.execute_reply.started": "2023-02-20T13:08:18.337373Z"
    }
   },
   "outputs": [],
   "source": [
    "# redundantes Negationspartikel\n",
    "mask = wiktionary_lemma.member.str.contains('Negationspartikel')   &   ( wiktionary_lemma.tag_0.isin(['PTKNEG']) | wiktionary_lemma.tag_1.isin(['PTKNEG']) )\n",
    "check_mask( wiktionary_lemma, mask )\n",
    "wiktionary_lemma.loc[ mask, 'member' ] = wiktionary_lemma[mask].member.str.replace('Negationspartikel','')"
   ]
  },
  {
   "cell_type": "code",
   "execution_count": null,
   "metadata": {
    "execution": {
     "iopub.status.busy": "2023-02-20T13:08:18.338035Z",
     "iopub.status.idle": "2023-02-20T13:08:18.338289Z",
     "shell.execute_reply": "2023-02-20T13:08:18.338171Z",
     "shell.execute_reply.started": "2023-02-20T13:08:18.338158Z"
    }
   },
   "outputs": [],
   "source": [
    "# redundantes Interrogativpronomen\n",
    "mask = wiktionary_lemma.member.str.contains('Interrogativpronomen')   &   ( wiktionary_lemma.tag_0.isin(['PWAT']) | wiktionary_lemma.tag_1.isin(['PWAT']) )\n",
    "check_mask( wiktionary_lemma, mask )\n",
    "wiktionary_lemma.loc[ mask, 'member' ] = wiktionary_lemma[mask].member.str.replace('Interrogativpronomen','')"
   ]
  },
  {
   "cell_type": "code",
   "execution_count": null,
   "metadata": {
    "execution": {
     "iopub.status.busy": "2023-02-20T13:08:18.338798Z",
     "iopub.status.idle": "2023-02-20T13:08:18.339047Z",
     "shell.execute_reply": "2023-02-20T13:08:18.338931Z",
     "shell.execute_reply.started": "2023-02-20T13:08:18.338917Z"
    }
   },
   "outputs": [],
   "source": [
    "# falsches noPl (das betrifft vorwiegend NE-Datensätze)\n",
    "mask = wiktionary_lemma.member.str.contains('noPl')   &   ~wiktionary_lemma.tag_0.isin(['NN','TODO',])   &   ~wiktionary_lemma.tagZZ.isin(['P'])\n",
    "check_mask(wiktionary_lemma,mask)\n",
    "wiktionary_lemma.loc[mask,'member'] = wiktionary_lemma[mask].member.str.replace('noPl','')\n",
    "#grid( wiktionary_lemma, mask )"
   ]
  },
  {
   "cell_type": "code",
   "execution_count": null,
   "metadata": {
    "execution": {
     "iopub.status.busy": "2023-02-20T13:08:18.339545Z",
     "iopub.status.idle": "2023-02-20T13:08:18.339793Z",
     "shell.execute_reply": "2023-02-20T13:08:18.339676Z",
     "shell.execute_reply.started": "2023-02-20T13:08:18.339663Z"
    }
   },
   "outputs": [],
   "source": [
    "# falsches noSg\n",
    "mask = wiktionary_lemma.member.str.contains('noSg')   &   ~wiktionary_lemma.tag_0.isin(['NN','NE','TODO','PPER'])\n",
    "check_mask(wiktionary_lemma,mask,0,20)\n",
    "wiktionary_lemma.loc[mask,'member'] = wiktionary_lemma[mask].member.str.replace('noSg','')\n",
    "#grid( wiktionary_lemma, mask )"
   ]
  },
  {
   "cell_type": "code",
   "execution_count": null,
   "metadata": {
    "execution": {
     "iopub.status.busy": "2023-02-20T13:08:18.340336Z",
     "iopub.status.idle": "2023-02-20T13:08:18.345668Z",
     "shell.execute_reply": "2023-02-20T13:08:18.345436Z",
     "shell.execute_reply.started": "2023-02-20T13:08:18.345398Z"
    }
   },
   "outputs": [],
   "source": [
    "# falsches noSteig\n",
    "mask = wiktionary_lemma.member.str.contains('noSteig')   &   ~wiktionary_lemma.tag_0.isin(['ADJA'])\n",
    "check_mask(wiktionary_lemma,mask, 0, 30)\n",
    "wiktionary_lemma.loc[mask,'member'] = wiktionary_lemma[mask].member.str.replace('noSteig','')"
   ]
  },
  {
   "cell_type": "code",
   "execution_count": null,
   "metadata": {
    "execution": {
     "iopub.status.busy": "2023-02-20T13:08:18.354257Z",
     "iopub.status.idle": "2023-02-20T13:08:18.354599Z",
     "shell.execute_reply": "2023-02-20T13:08:18.354462Z",
     "shell.execute_reply.started": "2023-02-20T13:08:18.354447Z"
    }
   },
   "outputs": [],
   "source": [
    "# falsches noFlex\n",
    "mask = wiktionary_lemma.member.str.contains('noFlex')   &   ~wiktionary_lemma.tagZ.isin(['ADJ',])\n",
    "check_mask( wiktionary_lemma, mask, 0, 9 )\n",
    "wiktionary_lemma.loc[ mask, 'member' ] = wiktionary_lemma[mask].member.str.replace('noFlex','')"
   ]
  },
  {
   "cell_type": "code",
   "execution_count": null,
   "metadata": {
    "execution": {
     "iopub.status.busy": "2023-02-20T13:08:18.355427Z",
     "iopub.status.idle": "2023-02-20T13:08:18.355715Z",
     "shell.execute_reply": "2023-02-20T13:08:18.355590Z",
     "shell.execute_reply.started": "2023-02-20T13:08:18.355576Z"
    }
   },
   "outputs": [],
   "source": [
    "# falsches Interjektion\n",
    "mask = wiktionary_lemma.member.str.contains('Interjektion')  &   wiktionary_lemma.tag_0.isin(['PTKANT',])\n",
    "check_mask( wiktionary_lemma, mask, 0, 60 )\n",
    "wiktionary_lemma.loc[ mask, 'member' ] = wiktionary_lemma[mask].member.str.replace('Interjektion','')"
   ]
  },
  {
   "cell_type": "code",
   "execution_count": null,
   "metadata": {
    "execution": {
     "iopub.status.busy": "2023-02-20T13:08:18.356578Z",
     "iopub.status.idle": "2023-02-20T13:08:18.356873Z",
     "shell.execute_reply": "2023-02-20T13:08:18.356743Z",
     "shell.execute_reply.started": "2023-02-20T13:08:18.356729Z"
    }
   },
   "outputs": [],
   "source": [
    "# falsches Präfix\n",
    "mask = wiktionary_lemma.member.str.contains('Präfix')   &   ~wiktionary_lemma.tagZ.isin(['FIX',])\n",
    "check_mask( wiktionary_lemma, mask, 0, 9 )\n",
    "wiktionary_lemma.loc[ mask, 'member' ] = wiktionary_lemma[mask].member.str.replace('Präfix','')"
   ]
  },
  {
   "cell_type": "code",
   "execution_count": null,
   "metadata": {
    "execution": {
     "iopub.status.busy": "2023-02-20T13:08:18.359436Z",
     "iopub.status.idle": "2023-02-20T13:08:18.359777Z",
     "shell.execute_reply": "2023-02-20T13:08:18.359641Z",
     "shell.execute_reply.started": "2023-02-20T13:08:18.359626Z"
    }
   },
   "outputs": [],
   "source": [
    "# Taxonomie >> Spezies\n",
    "mask = wiktionary_lemma.member.str.contains('Taxonomie')   &   (wiktionary_lemma.tagZZ == 'N') \n",
    "check_mask( wiktionary_lemma, mask, 0, 200 )\n",
    "wiktionary_lemma.loc[ mask, 'member' ] = wiktionary_lemma[mask].member.str.replace('Taxonomie','Spezies')"
   ]
  },
  {
   "cell_type": "code",
   "execution_count": null,
   "metadata": {
    "execution": {
     "iopub.status.busy": "2023-02-20T13:08:18.360979Z",
     "iopub.status.idle": "2023-02-20T13:08:18.361299Z",
     "shell.execute_reply": "2023-02-20T13:08:18.361165Z",
     "shell.execute_reply.started": "2023-02-20T13:08:18.361151Z"
    }
   },
   "outputs": [],
   "source": [
    "# falsches Vorname\n",
    "mask = wiktionary_lemma.member.str.contains('Person_vorname')   &   ~wiktionary_lemma.tag_0.isin(['NE'])\n",
    "check_mask( wiktionary_lemma, mask, 0, 9 )\n",
    "wiktionary_lemma.loc[ mask, 'member' ] = wiktionary_lemma[mask].member.str.replace('Person_vorname','')\n",
    "#grid( wiktionary_lemma, mask )"
   ]
  },
  {
   "cell_type": "code",
   "execution_count": null,
   "metadata": {
    "execution": {
     "iopub.status.busy": "2023-02-20T13:08:18.365357Z",
     "iopub.status.idle": "2023-02-20T13:08:18.365687Z",
     "shell.execute_reply": "2023-02-20T13:08:18.365557Z",
     "shell.execute_reply.started": "2023-02-20T13:08:18.365542Z"
    }
   },
   "outputs": [],
   "source": [
    "# Streichungen im member       \n",
    "member_removes = [ 'Numerale', 'Pronomen', 'noWortart', 'Hilfsverb', 'Taxonomie', 'Geflügeltes_Wort', ] \n",
    "\n",
    "wiktionary_lemma.loc[:,'member'] = pak.remove_str(wiktionary_lemma.member, member_removes)"
   ]
  },
  {
   "cell_type": "markdown",
   "metadata": {},
   "source": [
    "### member prüfen"
   ]
  },
  {
   "cell_type": "code",
   "execution_count": null,
   "metadata": {
    "execution": {
     "iopub.status.busy": "2023-02-20T13:08:18.366725Z",
     "iopub.status.idle": "2023-02-20T13:08:18.367030Z",
     "shell.execute_reply": "2023-02-20T13:08:18.366902Z",
     "shell.execute_reply.started": "2023-02-20T13:08:18.366888Z"
    }
   },
   "outputs": [],
   "source": [
    "# alle member in den realen Daten zusammensammeln\n",
    "\n",
    "a = pak.analyse_freqs(wiktionary_lemma, ['member','tag'], splits=[' ', None] )\n",
    "#grid(a)\n",
    "\n",
    "b = pak.analyse_freqs(wiktionary_nolemma, ['member','tag'], splits=[' ', None] )\n",
    "#grid(b)\n",
    "\n",
    "# Member lt. Steuertabelle und lt. Realität\n",
    "member_plan = set(priorität_member)\n",
    "member_data1 = set(a.member)\n",
    "member_data2 = set(b.member)\n",
    "member_data  = member_data1.union(member_data2)\n",
    "#member_data"
   ]
  },
  {
   "cell_type": "code",
   "execution_count": null,
   "metadata": {
    "execution": {
     "iopub.status.busy": "2023-02-20T13:08:18.369688Z",
     "iopub.status.idle": "2023-02-20T13:08:18.370024Z",
     "shell.execute_reply": "2023-02-20T13:08:18.369891Z",
     "shell.execute_reply.started": "2023-02-20T13:08:18.369876Z"
    }
   },
   "outputs": [],
   "source": [
    "#for m in bpy.minivenn(member_plan,member_data):\n",
    "#    print(m) "
   ]
  },
  {
   "cell_type": "code",
   "execution_count": null,
   "metadata": {
    "execution": {
     "iopub.status.busy": "2023-02-20T13:08:18.371987Z",
     "iopub.status.idle": "2023-02-20T13:08:18.372320Z",
     "shell.execute_reply": "2023-02-20T13:08:18.372187Z",
     "shell.execute_reply.started": "2023-02-20T13:08:18.372173Z"
    },
    "tags": []
   },
   "outputs": [],
   "source": [
    "s = member_plan\n",
    "t = member_data\n",
    "bpy.minivenn(s,t, format='print')"
   ]
  },
  {
   "cell_type": "code",
   "execution_count": null,
   "metadata": {
    "execution": {
     "iopub.status.busy": "2023-02-20T13:08:18.374749Z",
     "iopub.status.idle": "2023-02-20T13:08:18.375092Z",
     "shell.execute_reply": "2023-02-20T13:08:18.374957Z",
     "shell.execute_reply.started": "2023-02-20T13:08:18.374943Z"
    }
   },
   "outputs": [],
   "source": [
    "# TODO_MEMBER_ÜBERPRÜFEN: Diese Member überprüfen, Wo sind sie geblieben?\n",
    "# alle in der Steuertabelle priorität_member erfassten Member kommen in wiktionary_lemma tatsächlich vor\n",
    "# Ausnahmen: \n",
    "#assert \n",
    "bgc('orange')\n",
    "merkmale_und_member_data = member_data.union(merkmale_data)\n",
    "result = member_plan.difference(merkmale_und_member_data)\n",
    "result -= {'Partizip_1','Partizip_2','Partizip_I','Partizip_II','Interjektion'}\n",
    "result -= set(member_removes)\n",
    "result -= set(member_replaces.keys())\n",
    "result"
   ]
  },
  {
   "cell_type": "code",
   "execution_count": null,
   "metadata": {
    "execution": {
     "iopub.status.busy": "2023-02-20T13:08:18.377862Z",
     "iopub.status.idle": "2023-02-20T13:08:18.378206Z",
     "shell.execute_reply": "2023-02-20T13:08:18.378069Z",
     "shell.execute_reply.started": "2023-02-20T13:08:18.378054Z"
    }
   },
   "outputs": [],
   "source": [
    "# alle Merkmale in wiktionary_merkmal sollten in der Steuertabelle plan_merkmal erfasst sein.\n",
    "fehlende_merkmale = member_data.difference(member_plan) - {''}\n",
    "assert len(fehlende_merkmale) == 0 "
   ]
  },
  {
   "cell_type": "code",
   "execution_count": null,
   "metadata": {
    "execution": {
     "iopub.status.busy": "2023-02-20T13:08:18.381430Z",
     "iopub.status.idle": "2023-02-20T13:08:18.381768Z",
     "shell.execute_reply": "2023-02-20T13:08:18.381636Z",
     "shell.execute_reply.started": "2023-02-20T13:08:18.381621Z"
    }
   },
   "outputs": [],
   "source": [
    "fehlende_merkmale"
   ]
  },
  {
   "cell_type": "code",
   "execution_count": null,
   "metadata": {
    "execution": {
     "iopub.status.busy": "2023-02-20T13:08:18.383008Z",
     "iopub.status.idle": "2023-02-20T13:08:18.383332Z",
     "shell.execute_reply": "2023-02-20T13:08:18.383198Z",
     "shell.execute_reply.started": "2023-02-20T13:08:18.383183Z"
    }
   },
   "outputs": [],
   "source": [
    "#mask = wiktionary_lemma.member.str.contains(' Person_')\n",
    "#grid(wiktionary_lemma,mask)"
   ]
  },
  {
   "cell_type": "code",
   "execution_count": null,
   "metadata": {
    "execution": {
     "iopub.status.busy": "2023-02-20T13:08:18.389326Z",
     "iopub.status.idle": "2023-02-20T13:08:18.389686Z",
     "shell.execute_reply": "2023-02-20T13:08:18.389538Z",
     "shell.execute_reply.started": "2023-02-20T13:08:18.389523Z"
    }
   },
   "outputs": [],
   "source": [
    "# Beispiel anzeigen \n",
    "mask = (wiktionary_merkmal.section_id2 == suche_debug[0])\n",
    "grid(wiktionary_merkmal,mask)"
   ]
  },
  {
   "cell_type": "markdown",
   "metadata": {},
   "source": [
    "### wiktionary_lemma pflegen und prüfen\n",
    "* Diverse Pflegeschritte"
   ]
  },
  {
   "cell_type": "code",
   "execution_count": null,
   "metadata": {
    "execution": {
     "iopub.status.busy": "2023-02-20T13:08:18.390374Z",
     "iopub.status.idle": "2023-02-20T13:08:18.390710Z",
     "shell.execute_reply": "2023-02-20T13:08:18.390565Z",
     "shell.execute_reply.started": "2023-02-20T13:08:18.390550Z"
    }
   },
   "outputs": [],
   "source": [
    "# lemma_lower, isupper, lemma_len\n",
    "wiktionary_lemma = ergänze_felder(wiktionary_lemma)"
   ]
  },
  {
   "cell_type": "code",
   "execution_count": null,
   "metadata": {
    "execution": {
     "iopub.status.busy": "2023-02-20T13:08:18.391376Z",
     "iopub.status.idle": "2023-02-20T13:08:18.391718Z",
     "shell.execute_reply": "2023-02-20T13:08:18.391571Z",
     "shell.execute_reply.started": "2023-02-20T13:08:18.391556Z"
    }
   },
   "outputs": [],
   "source": [
    "# Eindeutige Datentypen\n",
    "for col in wiktionary_lemma.columns:\n",
    "    print(col)\n",
    "    if col in ['num','error']:\n",
    "        continue\n",
    "    assert pak.ntypes(wiktionary_lemma[col]) == 1"
   ]
  },
  {
   "cell_type": "code",
   "execution_count": null,
   "metadata": {
    "execution": {
     "iopub.status.busy": "2023-02-20T13:08:18.392383Z",
     "iopub.status.idle": "2023-02-20T13:08:18.392804Z",
     "shell.execute_reply": "2023-02-20T13:08:18.392649Z",
     "shell.execute_reply.started": "2023-02-20T13:08:18.392633Z"
    }
   },
   "outputs": [],
   "source": [
    "# Keine unbekannten tags\n",
    "a = pak.analyse_freqs(wiktionary_lemma, ['tag'], splits=[' '])\n",
    "mask = ~a.tag.isin(alle_tags)\n",
    "check_mask( a, mask, 0)\n",
    "a[mask]"
   ]
  },
  {
   "cell_type": "code",
   "execution_count": null,
   "metadata": {
    "execution": {
     "iopub.status.busy": "2023-02-20T13:08:18.393514Z",
     "iopub.status.idle": "2023-02-20T13:08:18.393855Z",
     "shell.execute_reply": "2023-02-20T13:08:18.393707Z",
     "shell.execute_reply.started": "2023-02-20T13:08:18.393693Z"
    }
   },
   "outputs": [],
   "source": [
    "# finden\n",
    "mask = wiktionary_lemma.tag == 'Zirkumfix'\n",
    "grid(wiktionary_lemma, mask, color='green')"
   ]
  },
  {
   "cell_type": "code",
   "execution_count": null,
   "metadata": {
    "execution": {
     "iopub.status.busy": "2023-02-20T13:08:18.394511Z",
     "iopub.status.idle": "2023-02-20T13:08:18.394809Z",
     "shell.execute_reply": "2023-02-20T13:08:18.394678Z",
     "shell.execute_reply.started": "2023-02-20T13:08:18.394665Z"
    }
   },
   "outputs": [],
   "source": [
    "# NaN\n",
    "wiktionary_lemma['page_id']   = wiktionary_lemma.page_id.fillna(-1) \n",
    "wiktionary_lemma['page_part'] = wiktionary_lemma.page_part.fillna(-1) "
   ]
  },
  {
   "cell_type": "markdown",
   "metadata": {},
   "source": [
    "## Letzte Pflegeschritte"
   ]
  },
  {
   "cell_type": "code",
   "execution_count": null,
   "metadata": {
    "execution": {
     "iopub.status.busy": "2023-02-20T13:08:18.395610Z",
     "iopub.status.idle": "2023-02-20T13:08:18.395882Z",
     "shell.execute_reply": "2023-02-20T13:08:18.395759Z",
     "shell.execute_reply.started": "2023-02-20T13:08:18.395746Z"
    }
   },
   "outputs": [],
   "source": [
    "wiktionary_lemma        = pak.reset_index( wiktionary_lemma.sort_values('section_id2') )"
   ]
  },
  {
   "cell_type": "code",
   "execution_count": null,
   "metadata": {
    "execution": {
     "iopub.status.busy": "2023-02-20T13:08:18.396423Z",
     "iopub.status.idle": "2023-02-20T13:08:18.397671Z",
     "shell.execute_reply": "2023-02-20T13:08:18.397489Z",
     "shell.execute_reply.started": "2023-02-20T13:08:18.397462Z"
    }
   },
   "outputs": [],
   "source": [
    "wiktionary_nolemma      = pak.drop_cols(wiktionary_nolemma,['lang','lang_code','error'])\n",
    "wiktionary_nolemma      = pak.move_cols(wiktionary_nolemma,'lemma_lower','lemma')"
   ]
  },
  {
   "cell_type": "code",
   "execution_count": null,
   "metadata": {
    "execution": {
     "iopub.status.busy": "2023-02-20T13:08:18.399868Z",
     "iopub.status.idle": "2023-02-20T13:08:18.400193Z",
     "shell.execute_reply": "2023-02-20T13:08:18.400062Z",
     "shell.execute_reply.started": "2023-02-20T13:08:18.400048Z"
    }
   },
   "outputs": [],
   "source": [
    "# score übertragen\n",
    "wiktionary_merkmal = pak.update_col(df_to=wiktionary_merkmal, df_from=wiktionary_lemma, on='section_id2',col='score', func='max')\n",
    "wiktionary_merkmal = pak.update_col(df_to=wiktionary_merkmal, df_from=wiktionary_nolemma, left_on='section_id2', right_on='nolemma_id', col='score', func='max', cond='null')"
   ]
  },
  {
   "cell_type": "code",
   "execution_count": null,
   "metadata": {
    "execution": {
     "iopub.status.busy": "2023-02-20T13:08:18.401235Z",
     "iopub.status.idle": "2023-02-20T13:08:18.401620Z",
     "shell.execute_reply": "2023-02-20T13:08:18.401463Z",
     "shell.execute_reply.started": "2023-02-20T13:08:18.401447Z"
    }
   },
   "outputs": [],
   "source": [
    "# Keine Leerzeichen in der ID\n",
    "mask = wiktionary_lemma.section_id2.str.contains(' ')\n",
    "check_mask(wiktionary_lemma,mask,0)\n",
    "\n",
    "mask = wiktionary_nolemma.nolemma_id.str.contains(' ')\n",
    "check_mask(wiktionary_nolemma,mask,0)\n",
    "\n",
    "mask = wiktionary_merkmal.section_id2.str.contains(' ')\n",
    "check_mask(wiktionary_merkmal,mask,0)"
   ]
  },
  {
   "cell_type": "markdown",
   "metadata": {},
   "source": [
    "## Löschliste nochmal"
   ]
  },
  {
   "cell_type": "code",
   "execution_count": null,
   "metadata": {
    "execution": {
     "iopub.status.busy": "2023-02-20T13:08:18.402325Z",
     "iopub.status.idle": "2023-02-20T13:08:18.402667Z",
     "shell.execute_reply": "2023-02-20T13:08:18.402517Z",
     "shell.execute_reply.started": "2023-02-20T13:08:18.402502Z"
    }
   },
   "outputs": [],
   "source": [
    "# wiktionary_lemma belöschen nach section_id2\n",
    "mask = wiktionary_lemma.section_id2.isin(löschliste_section_id2)   \n",
    "wiktionary_lemma, wiktionary_lemma_trash = pak.move_rows( df_from=wiktionary_lemma, df_to=wiktionary_lemma_trash, mask=mask, msg='löschliste_B1' )       # Löschen\n",
    "\n",
    "mask = wiktionary_lemma_trash.msg == 'löschliste_B1'\n",
    "grid(wiktionary_lemma_trash,mask)"
   ]
  },
  {
   "cell_type": "code",
   "execution_count": null,
   "metadata": {
    "execution": {
     "iopub.status.busy": "2023-02-20T13:08:18.403332Z",
     "iopub.status.idle": "2023-02-20T13:08:18.403644Z",
     "shell.execute_reply": "2023-02-20T13:08:18.403506Z",
     "shell.execute_reply.started": "2023-02-20T13:08:18.403492Z"
    }
   },
   "outputs": [],
   "source": [
    "# wiktionary_lemma belöschen nach lex\n",
    "mask = wiktionary_lemma.lemma.isin(löschliste_lex)   \n",
    "wiktionary_lemma, wiktionary_lemma_trash = pak.move_rows( df_from=wiktionary_lemma, df_to=wiktionary_lemma_trash, mask=mask, msg='löschliste_B2' )       # Löschen\n",
    "\n",
    "mask = wiktionary_lemma_trash.msg == 'löschliste_B2'\n",
    "grid(wiktionary_lemma_trash,mask)"
   ]
  },
  {
   "cell_type": "code",
   "execution_count": null,
   "metadata": {
    "execution": {
     "iopub.status.busy": "2023-02-20T13:08:18.404296Z",
     "iopub.status.idle": "2023-02-20T13:08:18.404749Z",
     "shell.execute_reply": "2023-02-20T13:08:18.404588Z",
     "shell.execute_reply.started": "2023-02-20T13:08:18.404569Z"
    }
   },
   "outputs": [],
   "source": [
    "# wiktionary_nolemma belöschen nach lex\n",
    "mask = wiktionary_nolemma.lemma.isin(löschliste_lex)   \n",
    "wiktionary_nolemma, wiktionary_nolemma_trash = pak.move_rows( df_from=wiktionary_nolemma, df_to=wiktionary_nolemma_trash, mask=mask, msg='löschliste_B3' ) \n",
    "\n",
    "mask = wiktionary_nolemma_trash.msg == 'löschliste_B3'\n",
    "grid(wiktionary_nolemma_trash,mask)"
   ]
  },
  {
   "cell_type": "code",
   "execution_count": null,
   "metadata": {
    "execution": {
     "iopub.status.busy": "2023-02-20T13:08:18.405421Z",
     "iopub.status.idle": "2023-02-20T13:08:18.405729Z",
     "shell.execute_reply": "2023-02-20T13:08:18.405596Z",
     "shell.execute_reply.started": "2023-02-20T13:08:18.405582Z"
    }
   },
   "outputs": [],
   "source": [
    "# wiktionary_nolemma belöschen nach lex\n",
    "mask = wiktionary_nolemma.lex.isin(löschliste_lex)   \n",
    "wiktionary_nolemma, wiktionary_nolemma_trash = pak.move_rows( df_from=wiktionary_nolemma, df_to=wiktionary_nolemma_trash, mask=mask, msg='löschliste_B4' )\n",
    "\n",
    "mask = wiktionary_nolemma_trash.msg == 'löschliste_B4'\n",
    "grid(wiktionary_nolemma_trash,mask)"
   ]
  },
  {
   "cell_type": "code",
   "execution_count": null,
   "metadata": {
    "execution": {
     "iopub.status.busy": "2023-02-20T13:08:18.406352Z",
     "iopub.status.idle": "2023-02-20T13:08:18.406850Z",
     "shell.execute_reply": "2023-02-20T13:08:18.406718Z",
     "shell.execute_reply.started": "2023-02-20T13:08:18.406703Z"
    }
   },
   "outputs": [],
   "source": [
    "# wiktionary_merkmal belöschen nach section_id2\n",
    "mask = wiktionary_merkmal.section_id2.isin(löschliste_section_id2) \n",
    "wiktionary_merkmal, wiktionary_merkmal_trash = pak.move_rows(df_from=wiktionary_merkmal, df_to=wiktionary_merkmal_trash, mask=mask, msg='löschliste_B5')\n",
    "\n",
    "mask = wiktionary_merkmal_trash.msg == 'löschliste_B5'\n",
    "grid(wiktionary_merkmal_trash,mask)"
   ]
  },
  {
   "cell_type": "code",
   "execution_count": null,
   "metadata": {
    "execution": {
     "iopub.status.busy": "2023-02-20T13:08:18.407560Z",
     "iopub.status.idle": "2023-02-20T13:08:18.407831Z",
     "shell.execute_reply": "2023-02-20T13:08:18.407708Z",
     "shell.execute_reply.started": "2023-02-20T13:08:18.407695Z"
    }
   },
   "outputs": [],
   "source": [
    "# wiktionary_merkmal belöschen nach lex\n",
    "mask = wiktionary_merkmal.data.isin(löschliste_lex) \n",
    "wiktionary_merkmal, wiktionary_merkmal_trash = pak.move_rows(df_from=wiktionary_merkmal, df_to=wiktionary_merkmal_trash, mask=mask, msg='löschliste_B6')\n",
    "\n",
    "mask = wiktionary_merkmal_trash.msg == 'löschliste_B6'\n",
    "grid(wiktionary_merkmal_trash,mask)"
   ]
  },
  {
   "cell_type": "markdown",
   "metadata": {},
   "source": [
    "## Prüfen"
   ]
  },
  {
   "cell_type": "code",
   "execution_count": null,
   "metadata": {
    "execution": {
     "iopub.status.busy": "2023-02-20T13:08:18.408347Z",
     "iopub.status.idle": "2023-02-20T13:08:18.408869Z",
     "shell.execute_reply": "2023-02-20T13:08:18.408709Z",
     "shell.execute_reply.started": "2023-02-20T13:08:18.408690Z"
    }
   },
   "outputs": [],
   "source": [
    "# lex_test, lemma_test\n",
    "from x32_Funktionen import *\n",
    "lex_test, lemma_test = lade_lex_text( lex_test_filename, level=1 )\n",
    "#grid(lemma_test)"
   ]
  },
  {
   "cell_type": "code",
   "execution_count": null,
   "metadata": {
    "execution": {
     "iopub.status.busy": "2023-02-20T13:08:18.409694Z",
     "iopub.status.idle": "2023-02-20T13:08:18.410194Z",
     "shell.execute_reply": "2023-02-20T13:08:18.410053Z",
     "shell.execute_reply.started": "2023-02-20T13:08:18.410037Z"
    }
   },
   "outputs": [],
   "source": [
    "# lemma_test\n",
    "from x32_Funktionen import *\n",
    "lemma_test = check_lemma_test(lemma_test, wiktionary_lemma)\n",
    "#lemma_test"
   ]
  },
  {
   "cell_type": "code",
   "execution_count": null,
   "metadata": {
    "execution": {
     "iopub.status.busy": "2023-02-20T13:08:18.413026Z",
     "iopub.status.idle": "2023-02-20T13:08:18.413400Z",
     "shell.execute_reply": "2023-02-20T13:08:18.413248Z",
     "shell.execute_reply.started": "2023-02-20T13:08:18.413233Z"
    }
   },
   "outputs": [],
   "source": [
    "# Fehler\n",
    "maskA = lemma_test.lemma_id == ''\n",
    "maskB = lemma_test.check_tag == ''\n",
    "mask = maskA | maskB\n",
    "check_mask(lemma_test,mask)\n",
    "\n",
    "probleme = list(lemma_test[mask].lemma)\n",
    "lemma_test[mask]"
   ]
  },
  {
   "cell_type": "code",
   "execution_count": null,
   "metadata": {
    "execution": {
     "iopub.status.busy": "2023-02-20T13:08:18.414441Z",
     "iopub.status.idle": "2023-02-20T13:08:18.415197Z",
     "shell.execute_reply": "2023-02-20T13:08:18.414867Z",
     "shell.execute_reply.started": "2023-02-20T13:08:18.414851Z"
    }
   },
   "outputs": [],
   "source": [
    "# Sicherstellen: Keine Fehler\n",
    "check_mask(lemma_test,mask,0)"
   ]
  },
  {
   "cell_type": "markdown",
   "metadata": {},
   "source": [
    "## Speichern"
   ]
  },
  {
   "cell_type": "code",
   "execution_count": null,
   "metadata": {
    "execution": {
     "iopub.status.busy": "2023-02-20T13:08:18.415938Z",
     "iopub.status.idle": "2023-02-20T13:08:18.416226Z",
     "shell.execute_reply": "2023-02-20T13:08:18.416100Z",
     "shell.execute_reply.started": "2023-02-20T13:08:18.416086Z"
    }
   },
   "outputs": [],
   "source": [
    "# Doppelspaces prüfen\n",
    "if gründlich:\n",
    "    mask = wiktionary_merkmal.data.str.contains('  ')\n",
    "    check_mask( wiktionary_merkmal, mask, 0)"
   ]
  },
  {
   "cell_type": "code",
   "execution_count": null,
   "metadata": {
    "execution": {
     "iopub.status.busy": "2023-02-20T13:08:18.416889Z",
     "iopub.status.idle": "2023-02-20T13:08:18.417333Z",
     "shell.execute_reply": "2023-02-20T13:08:18.417050Z",
     "shell.execute_reply.started": "2023-02-20T13:08:18.417036Z"
    }
   },
   "outputs": [],
   "source": [
    "pak.analyse_cols(wiktionary_merkmal)"
   ]
  },
  {
   "cell_type": "code",
   "execution_count": null,
   "metadata": {
    "execution": {
     "iopub.status.busy": "2023-02-20T13:08:18.418017Z",
     "iopub.status.idle": "2023-02-20T13:08:18.418356Z",
     "shell.execute_reply": "2023-02-20T13:08:18.418208Z",
     "shell.execute_reply.started": "2023-02-20T13:08:18.418194Z"
    }
   },
   "outputs": [],
   "source": [
    "# wiktionary_merkmal: drop_duplicates\n",
    "wiktionary_merkmal = wiktionary_merkmal.drop_duplicates()"
   ]
  },
  {
   "cell_type": "code",
   "execution_count": null,
   "metadata": {
    "execution": {
     "iopub.status.busy": "2023-02-20T13:08:18.419230Z",
     "iopub.status.idle": "2023-02-20T13:08:18.419550Z",
     "shell.execute_reply": "2023-02-20T13:08:18.419415Z",
     "shell.execute_reply.started": "2023-02-20T13:08:18.419401Z"
    }
   },
   "outputs": [],
   "source": [
    "assert gründlich"
   ]
  },
  {
   "cell_type": "code",
   "execution_count": null,
   "metadata": {
    "execution": {
     "iopub.status.busy": "2023-02-20T13:08:18.421435Z",
     "iopub.status.idle": "2023-02-20T13:08:18.421976Z",
     "shell.execute_reply": "2023-02-20T13:08:18.421829Z",
     "shell.execute_reply.started": "2023-02-20T13:08:18.421811Z"
    }
   },
   "outputs": [],
   "source": [
    "# Speichern  \n",
    "pak.dump_pickle(wiktionary_lemma,            wiktionary_lemma_filename_save)   \n",
    "pak.dump_pickle(wiktionary_nolemma,          wiktionary_nolemma_filename_save)  \n",
    "pak.dump_pickle(wiktionary_merkmal,          wiktionary_merkmal_filename_save) \n",
    "pak.dump_pickle(wiktionary_merkmal_text,     wiktionary_merkmal_text_filename_save)  \n",
    "os.utime(verzeichnis_save)"
   ]
  },
  {
   "cell_type": "code",
   "execution_count": null,
   "metadata": {
    "colab": {
     "base_uri": "https://localhost:8080/"
    },
    "execution": {
     "iopub.status.busy": "2023-02-20T13:08:18.423316Z",
     "iopub.status.idle": "2023-02-20T13:08:18.424300Z",
     "shell.execute_reply": "2023-02-20T13:08:18.424028Z",
     "shell.execute_reply.started": "2023-02-20T13:08:18.424009Z"
    },
    "executionInfo": {
     "elapsed": 7425,
     "status": "ok",
     "timestamp": 1676479015113,
     "user": {
      "displayName": "Hups Hopsalla",
      "userId": "10020718461385065661"
     },
     "user_tz": -60
    },
    "id": "dbiDceKXyUx7",
    "outputId": "beb0cf2a-bc86-47c4-81e6-b11c7354957c"
   },
   "outputs": [],
   "source": [
    "# Save in Google Drive\n",
    "if environment['in_colab']:\n",
    "    from google.colab import drive\n",
    "    drive.mount('/content/drive') \n",
    "    !cd /content\n",
    "    !cp -av {verzeichnis_save} /content/drive/MyDrive"
   ]
  },
  {
   "cell_type": "code",
   "execution_count": null,
   "metadata": {
    "execution": {
     "iopub.status.busy": "2023-02-20T13:08:18.425274Z",
     "iopub.status.idle": "2023-02-20T13:08:18.426120Z",
     "shell.execute_reply": "2023-02-20T13:08:18.425967Z",
     "shell.execute_reply.started": "2023-02-20T13:08:18.425949Z"
    }
   },
   "outputs": [],
   "source": [
    "pak.memory_consumption(locals())"
   ]
  },
  {
   "cell_type": "markdown",
   "metadata": {},
   "source": [
    "## Trash anschauen"
   ]
  },
  {
   "cell_type": "markdown",
   "metadata": {},
   "source": [
    "### wiktionary_trash"
   ]
  },
  {
   "cell_type": "code",
   "execution_count": null,
   "metadata": {
    "execution": {
     "iopub.status.busy": "2023-02-20T13:08:18.427196Z",
     "iopub.status.idle": "2023-02-20T13:08:18.427966Z",
     "shell.execute_reply": "2023-02-20T13:08:18.427799Z",
     "shell.execute_reply.started": "2023-02-20T13:08:18.427778Z"
    }
   },
   "outputs": [],
   "source": [
    "wiktionary_trash.msg = wiktionary_trash.msg.fillna('')"
   ]
  },
  {
   "cell_type": "code",
   "execution_count": null,
   "metadata": {
    "execution": {
     "iopub.status.busy": "2023-02-20T13:08:18.428970Z",
     "iopub.status.idle": "2023-02-20T13:08:18.429823Z",
     "shell.execute_reply": "2023-02-20T13:08:18.429641Z",
     "shell.execute_reply.started": "2023-02-20T13:08:18.429616Z"
    }
   },
   "outputs": [],
   "source": [
    "# Übersicht\n",
    "a = pak.analyse_freqs(wiktionary_trash, ['msg','member'], splits=[None,' '])\n",
    "a"
   ]
  },
  {
   "cell_type": "code",
   "execution_count": null,
   "metadata": {
    "execution": {
     "iopub.status.busy": "2023-02-20T13:08:18.430827Z",
     "iopub.status.idle": "2023-02-20T13:08:18.431782Z",
     "shell.execute_reply": "2023-02-20T13:08:18.431590Z",
     "shell.execute_reply.started": "2023-02-20T13:08:18.431564Z"
    }
   },
   "outputs": [],
   "source": [
    "# Datensätze\n",
    "mask = (wiktionary_trash.msg == 'MFIX')\n",
    "#grid( wiktionary_trash, mask )"
   ]
  },
  {
   "cell_type": "code",
   "execution_count": null,
   "metadata": {
    "execution": {
     "iopub.status.busy": "2023-02-20T13:08:18.433222Z",
     "iopub.status.idle": "2023-02-20T13:08:18.434267Z",
     "shell.execute_reply": "2023-02-20T13:08:18.434067Z",
     "shell.execute_reply.started": "2023-02-20T13:08:18.434040Z"
    }
   },
   "outputs": [],
   "source": [
    "# suche_debug\n",
    "grid(search_str(wiktionary_trash, suche_debug))"
   ]
  },
  {
   "cell_type": "markdown",
   "metadata": {},
   "source": [
    "### wiktionary_merkmal_trash"
   ]
  },
  {
   "cell_type": "code",
   "execution_count": null,
   "metadata": {
    "execution": {
     "iopub.status.busy": "2023-02-20T13:08:18.435353Z",
     "iopub.status.idle": "2023-02-20T13:08:18.436592Z",
     "shell.execute_reply": "2023-02-20T13:08:18.436403Z",
     "shell.execute_reply.started": "2023-02-20T13:08:18.436381Z"
    }
   },
   "outputs": [],
   "source": [
    "wiktionary_merkmal_trash.msg = wiktionary_merkmal_trash.msg.fillna('')"
   ]
  },
  {
   "cell_type": "code",
   "execution_count": null,
   "metadata": {
    "execution": {
     "iopub.status.busy": "2023-02-20T13:08:18.437674Z",
     "iopub.status.idle": "2023-02-20T13:08:18.438159Z",
     "shell.execute_reply": "2023-02-20T13:08:18.438017Z",
     "shell.execute_reply.started": "2023-02-20T13:08:18.438000Z"
    }
   },
   "outputs": [],
   "source": [
    "# Übersicht\n",
    "#a = pak.analyse_freqs(wiktionary_merkmal_trash, ['msg','merkmal', 'data', ])\n",
    "a = pak.analyse_freqs(wiktionary_merkmal_trash, ['msg','merkmal', 'data', ])\n",
    "a = pak.drop_cols(a, ['msg_percent','data_count'])\n",
    "grid(a,  max_column_width=300)"
   ]
  },
  {
   "cell_type": "code",
   "execution_count": null,
   "metadata": {
    "execution": {
     "iopub.status.busy": "2023-02-20T13:08:18.439484Z",
     "iopub.status.idle": "2023-02-20T13:08:18.440808Z",
     "shell.execute_reply": "2023-02-20T13:08:18.440259Z",
     "shell.execute_reply.started": "2023-02-20T13:08:18.440240Z"
    }
   },
   "outputs": [],
   "source": [
    "# Datensätze\n",
    "mask = (wiktionary_merkmal_trash.msg == 'data_endswith')\n",
    "grid( wiktionary_merkmal_trash)"
   ]
  },
  {
   "cell_type": "code",
   "execution_count": null,
   "metadata": {
    "execution": {
     "iopub.status.busy": "2023-02-20T13:08:18.441819Z",
     "iopub.status.idle": "2023-02-20T13:08:18.442294Z",
     "shell.execute_reply": "2023-02-20T13:08:18.442149Z",
     "shell.execute_reply.started": "2023-02-20T13:08:18.442132Z"
    }
   },
   "outputs": [],
   "source": [
    "# suche_debug\n",
    "maskA = wiktionary_merkmal_trash.data.isin(suche_debug)\n",
    "maskB = wiktionary_merkmal_trash.section_id2.isin(suche_debug)\n",
    "mask  = maskA | maskB\n",
    "grid(wiktionary_merkmal_trash,mask, color='green')"
   ]
  },
  {
   "cell_type": "markdown",
   "metadata": {},
   "source": [
    "### flexion_trash\n",
    "* flexion_trash enthält Datensätze, die ursprünglich aus wiktionary_merkmal stammen"
   ]
  },
  {
   "cell_type": "code",
   "execution_count": null,
   "metadata": {
    "execution": {
     "iopub.status.busy": "2023-02-20T13:08:18.443024Z",
     "iopub.status.idle": "2023-02-20T13:08:18.443303Z",
     "shell.execute_reply": "2023-02-20T13:08:18.443180Z",
     "shell.execute_reply.started": "2023-02-20T13:08:18.443166Z"
    }
   },
   "outputs": [],
   "source": [
    "# Übersicht\n",
    "a = pak.analyse_freqs(flexion_trash, ['merkmal', 'data' , 'msg'])\n",
    "a = pak.drop_cols(a, ['merkmal_percent','msg_count','data_count'])\n",
    "grid(a)"
   ]
  },
  {
   "cell_type": "markdown",
   "metadata": {},
   "source": [
    "### wiktionary_lemma_trash"
   ]
  },
  {
   "cell_type": "code",
   "execution_count": null,
   "metadata": {
    "execution": {
     "iopub.status.busy": "2023-02-20T13:08:18.444256Z",
     "iopub.status.idle": "2023-02-20T13:08:18.444602Z",
     "shell.execute_reply": "2023-02-20T13:08:18.444448Z",
     "shell.execute_reply.started": "2023-02-20T13:08:18.444433Z"
    }
   },
   "outputs": [],
   "source": [
    "# Übersicht\n",
    "a = pak.analyse_freqs(wiktionary_lemma_trash,['member','msg','lemma'], splits=[None,' '])\n",
    "grid(a)"
   ]
  },
  {
   "cell_type": "markdown",
   "metadata": {},
   "source": [
    "### wiktionary_nolemma_trash"
   ]
  },
  {
   "cell_type": "code",
   "execution_count": null,
   "metadata": {
    "execution": {
     "iopub.status.busy": "2023-02-20T13:08:18.446713Z",
     "iopub.status.idle": "2023-02-20T13:08:18.447778Z",
     "shell.execute_reply": "2023-02-20T13:08:18.447579Z",
     "shell.execute_reply.started": "2023-02-20T13:08:18.447553Z"
    }
   },
   "outputs": [],
   "source": [
    "# Übersicht\n",
    "a = pak.analyse_freqs(wiktionary_nolemma_trash,['member','lex'], splits=[None,' '])\n",
    "grid(a)"
   ]
  },
  {
   "cell_type": "markdown",
   "metadata": {},
   "source": [
    "## Nutzdaten anschauen"
   ]
  },
  {
   "cell_type": "markdown",
   "metadata": {},
   "source": [
    "### wiktionary_lemma"
   ]
  },
  {
   "cell_type": "code",
   "execution_count": null,
   "metadata": {
    "execution": {
     "iopub.status.busy": "2023-02-20T13:08:18.448979Z",
     "iopub.status.idle": "2023-02-20T13:08:18.449903Z",
     "shell.execute_reply": "2023-02-20T13:08:18.449724Z",
     "shell.execute_reply.started": "2023-02-20T13:08:18.449703Z"
    }
   },
   "outputs": [],
   "source": [
    "mask = wiktionary_lemma.lemma.isin(suche_debug) #== 'gefriergetrocknet'\n",
    "wiktionary_lemma[mask]"
   ]
  },
  {
   "cell_type": "markdown",
   "metadata": {},
   "source": [
    "### wiktionary_merkmal"
   ]
  },
  {
   "cell_type": "code",
   "execution_count": null,
   "metadata": {
    "execution": {
     "iopub.status.busy": "2023-02-20T13:08:18.450990Z",
     "iopub.status.idle": "2023-02-20T13:08:18.451973Z",
     "shell.execute_reply": "2023-02-20T13:08:18.451772Z",
     "shell.execute_reply.started": "2023-02-20T13:08:18.451746Z"
    }
   },
   "outputs": [],
   "source": [
    "mask = wiktionary_merkmal.section_id2 == suche_debug[0]\n",
    "a = wiktionary_merkmal[mask].sort_values(['merkmal','section_id2','data'])\n",
    "grid(a)"
   ]
  },
  {
   "cell_type": "code",
   "execution_count": null,
   "metadata": {
    "execution": {
     "iopub.status.busy": "2023-02-20T13:08:18.453072Z",
     "iopub.status.idle": "2023-02-20T13:08:18.454067Z",
     "shell.execute_reply": "2023-02-20T13:08:18.453903Z",
     "shell.execute_reply.started": "2023-02-20T13:08:18.453882Z"
    }
   },
   "outputs": [],
   "source": [
    "mask = wiktionary_merkmal.data.isin(suche_debug) #== 'gefriergetrocknet'\n",
    "a = wiktionary_merkmal[mask].sort_values(['merkmal','section_id2','data'])\n",
    "grid(a)"
   ]
  },
  {
   "cell_type": "markdown",
   "metadata": {},
   "source": [
    "### wiktionary_nolemma"
   ]
  },
  {
   "cell_type": "code",
   "execution_count": null,
   "metadata": {
    "execution": {
     "iopub.status.busy": "2023-02-20T13:08:18.455099Z",
     "iopub.status.idle": "2023-02-20T13:08:18.456102Z",
     "shell.execute_reply": "2023-02-20T13:08:18.455943Z",
     "shell.execute_reply.started": "2023-02-20T13:08:18.455923Z"
    }
   },
   "outputs": [],
   "source": [
    "# wiktionary_nolemma suche_debug\n",
    "grid(search_str(wiktionary_nolemma, suche_debug))"
   ]
  },
  {
   "cell_type": "code",
   "execution_count": null,
   "metadata": {
    "execution": {
     "iopub.status.busy": "2023-02-20T13:08:18.457091Z",
     "iopub.status.idle": "2023-02-20T13:08:18.458059Z",
     "shell.execute_reply": "2023-02-20T13:08:18.457865Z",
     "shell.execute_reply.started": "2023-02-20T13:08:18.457841Z"
    }
   },
   "outputs": [],
   "source": [
    "#grid(wiktionary_nolemma)"
   ]
  },
  {
   "cell_type": "code",
   "execution_count": null,
   "metadata": {
    "execution": {
     "iopub.status.busy": "2023-02-20T13:08:18.461383Z",
     "iopub.status.idle": "2023-02-20T13:08:18.461688Z",
     "shell.execute_reply": "2023-02-20T13:08:18.461557Z",
     "shell.execute_reply.started": "2023-02-20T13:08:18.461543Z"
    }
   },
   "outputs": [],
   "source": [
    "#a = pak.analyse_freqs(wiktionary_trash,['msg','member'], splits=[None,' '])\n",
    "#grid(a)"
   ]
  },
  {
   "cell_type": "code",
   "execution_count": null,
   "metadata": {
    "execution": {
     "iopub.status.busy": "2023-02-20T13:08:18.462221Z",
     "iopub.status.idle": "2023-02-20T13:08:18.462477Z",
     "shell.execute_reply": "2023-02-20T13:08:18.462356Z",
     "shell.execute_reply.started": "2023-02-20T13:08:18.462343Z"
    },
    "tags": []
   },
   "outputs": [],
   "source": [
    "raise Stop"
   ]
  }
 ],
 "metadata": {
  "kernelspec": {
   "display_name": "Python 3 (ipykernel)",
   "language": "python",
   "name": "python3"
  },
  "language_info": {
   "codemirror_mode": {
    "name": "ipython",
    "version": 3
   },
   "file_extension": ".py",
   "mimetype": "text/x-python",
   "name": "python",
   "nbconvert_exporter": "python",
   "pygments_lexer": "ipython3",
   "version": "3.9.13"
  }
 },
 "nbformat": 4,
 "nbformat_minor": 4
}
