{
 "cells": [
  {
   "cell_type": "markdown",
   "metadata": {
    "id": "lSehjmZun5OP"
   },
   "source": [
    "__[Open and try this file online (Colab, Pro / Extended RAM needed)](https://colab.research.google.com/github/djekra/wiktionary_wortschatz/blob/master/1_wiktionary_parsen/x34_d01_tag_und_member.ipynb)__"
   ]
  },
  {
   "cell_type": "markdown",
   "metadata": {},
   "source": [
    "# tag und member\n",
    "* speichert in data_01\n",
    "* Dauer: Colab 37 min\n",
    "* lex_test level 1\n",
    "-----\n",
    "\n",
    "\n",
    "* erstellt die Felder tag und member \n",
    "* integriert lexeme_manuell und named_entities\n",
    "* Löschen laut löschliste\n",
    "* behandelt Partizipien\n",
    "\n",
    "* erstellt dort wiktionary_lemma und wiktionary_nolemma\n",
    "* wiktionary ist danach überflüssig\n",
    "\n",
    "\n",
    "### Doku\n",
    "* __Abkürzungen__ stehen immer in wiktionary_merkmal (merkmal abk) und manchmal auch als eigenständiges Lemma in wiktionary_lemma.\n",
    "  In wiktionary_lemma werden Abkürzungen durch das member 'Abkürzung' gekennzeichnet. \n",
    "  Das gibt die Information, dass es sich lohnt, in wiktionary_merkmal nachzuschlagen, um die Bedeutung einer Abkürzung zu erfahren.\n",
    "\n",
    "* __Partizipien__ stehen in wiktionary_merkmal. Ihr lemma ist das Verb im Infinitiv (das ist oft falsch eingetragen). Ihr tag lautet 'VVPP ADJA' für Ptz2 bzw. 'VVFIN ADJA' für Ptz1, ihr member ist Ptz1 bzw. Ptz2.\n",
    "  Zusätzlich sind alle Partizipien aber auch als Adjektiv als eigenständiges lemma registriert. Dort weist data_id auf das Verb zurück.\n",
    "  \n",
    "### TODO\n",
    "* TODO_verwaiste_Wörter: Wichtige Wörter nachverfolgen. \n",
    "* TODO_TAGS_IN_MERKMALE: Sind diese Lexeme im Endergebnis enthalten? Gehören die nicht in wiktionary_nolemma??\n",
    "* TODO_MEMBER_ÜBERPRÜFEN: Sind diese Informationen im Endergebnis enthalten?\n",
    "* TODO_Widersprüchliche_Angaben"
   ]
  },
  {
   "cell_type": "markdown",
   "metadata": {},
   "source": [
    "## Import"
   ]
  },
  {
   "cell_type": "code",
   "execution_count": 1,
   "metadata": {
    "execution": {
     "iopub.execute_input": "2023-02-20T16:08:30.769022Z",
     "iopub.status.busy": "2023-02-20T16:08:30.768625Z",
     "iopub.status.idle": "2023-02-20T16:08:32.159038Z",
     "shell.execute_reply": "2023-02-20T16:08:32.158374Z",
     "shell.execute_reply.started": "2023-02-20T16:08:30.768901Z"
    }
   },
   "outputs": [
    {
     "name": "stdout",
     "output_type": "stream",
     "text": [
      "blab init\n",
      "environment['in_colab']     = False\n",
      "environment['dropbox_path'] = /home/me/Data_Linux/Dropbox\n",
      "environment['lib_path']     = /home/me/Data_Linux/Dropbox/31_Projekte/01_Python/libs\n",
      "Start Time: 17:08:31\n"
     ]
    },
    {
     "data": {
      "text/html": [
       "<img src onerror=\"var cell = this.closest('.jp-CodeCell');var editor = cell.querySelector('.jp-Editor');editor.style.background='Beige';this.parentNode.removeChild(this)\">"
      ],
      "text/plain": [
       "<IPython.core.display.HTML object>"
      ]
     },
     "metadata": {},
     "output_type": "display_data"
    }
   ],
   "source": [
    "# blab init\n",
    "try:\n",
    "    import blab\n",
    "except ImportError as e:\n",
    "    !pip install blab\n",
    "    import blab    \n",
    "startup_notebook = blab.blab_startup()\n",
    "%run $startup_notebook "
   ]
  },
  {
   "cell_type": "code",
   "execution_count": 2,
   "metadata": {
    "execution": {
     "iopub.execute_input": "2023-02-20T16:08:32.162651Z",
     "iopub.status.busy": "2023-02-20T16:08:32.162232Z",
     "iopub.status.idle": "2023-02-20T16:08:32.543045Z",
     "shell.execute_reply": "2023-02-20T16:08:32.542411Z",
     "shell.execute_reply.started": "2023-02-20T16:08:32.162619Z"
    }
   },
   "outputs": [],
   "source": [
    "# pandas\n",
    "if environment['in_colab']:\n",
    "    !pip install --upgrade pandas\n",
    "import pandas as pd"
   ]
  },
  {
   "cell_type": "code",
   "execution_count": 3,
   "metadata": {
    "execution": {
     "iopub.execute_input": "2023-02-20T16:08:32.544000Z",
     "iopub.status.busy": "2023-02-20T16:08:32.543797Z",
     "iopub.status.idle": "2023-02-20T16:08:37.891775Z",
     "shell.execute_reply": "2023-02-20T16:08:37.890706Z",
     "shell.execute_reply.started": "2023-02-20T16:08:32.543980Z"
    }
   },
   "outputs": [],
   "source": [
    "# alle anderen\n",
    "try:\n",
    "    import pandasklar as pak, bpyth as bpy, bj_nlp\n",
    "\n",
    "except ImportError as e:\n",
    "    !pip install pandasklar bj_nlp\n",
    "    import pandasklar as pak, bpyth as bpy, bj_nlp\n",
    "    \n",
    "grid       = pak.grid                     # dTale-Nutzung gemäß Config\n",
    "from functools import partial\n",
    "gridt = partial(grid, backend='dtale')    # dTale-Nutzung erzwungen\n",
    "\n",
    "check_mask = pak.check_mask      "
   ]
  },
  {
   "cell_type": "markdown",
   "metadata": {},
   "source": [
    "## Einstellungen"
   ]
  },
  {
   "cell_type": "code",
   "execution_count": 4,
   "metadata": {
    "execution": {
     "iopub.execute_input": "2023-02-20T16:08:37.894726Z",
     "iopub.status.busy": "2023-02-20T16:08:37.893583Z",
     "iopub.status.idle": "2023-02-20T16:08:37.940630Z",
     "shell.execute_reply": "2023-02-20T16:08:37.938912Z",
     "shell.execute_reply.started": "2023-02-20T16:08:37.894684Z"
    }
   },
   "outputs": [
    {
     "name": "stdout",
     "output_type": "stream",
     "text": [
      "VERBOSE = True\n",
      "--> setting verbose=True as default for all pandasklar functions\n",
      "\n",
      "GRID_BACKEND = \n",
      "--> setting backend= as default for all pandasklar functions\n",
      "\n"
     ]
    }
   ],
   "source": [
    "# Einstellungen\n",
    "\n",
    "# Was debuggen?\n",
    "suche_debug = ['gefriergetrocknet','gefriertrocknen','missraten']  \n",
    "\n",
    "gründlich          = True    # einige Arbeitsschritte können weggelassen werden, wenn gründlich = False\n",
    "speicher_freigeben = False    # sollen alte Ergebnisse gelöscht werden\n",
    "version            = '_all'\n",
    "#version           = '_100K'\n",
    "\n",
    "\n",
    "# verbose\n",
    "pak.Config.set('VERBOSE', True)\n",
    "\n",
    "# Darstellung der Dataframes\n",
    "pak.Config.set('GRID_BACKEND', '')   # standardmäßig kein dTale\n",
    "pd.set_option('max_colwidth', 2000)  # aber dafür breiter\n",
    "\n",
    "# Load\n",
    "verzeichnis_load                      = 'data_00'\n",
    "wiktionary_filename                   = verzeichnis_load + '/wiktionary'              + version + '.pickle'  \n",
    "wiktionary_trash_filename             = verzeichnis_load + '/wiktionary_trash'        + version + '.pickle'\n",
    "wiktionary_merkmal_filename           = verzeichnis_load + '/wiktionary_merkmal'      + version + '.pickle'  \n",
    "wiktionary_merkmal_text_filename      = verzeichnis_load + '/wiktionary_merkmal_text' + version + '.pickle'  \n",
    "\n",
    "# Steuertabellen, externe und manuelle Daten\n",
    "löschliste_filename                   = 'Steuertabellen/löschliste.xlsx'     \n",
    "lexeme_manuell_filename               = 'Steuertabellen/lexeme_manuell.xlsx'       # manuell eingepflegte Lexeme \n",
    "named_entities_filename               = 'Steuertabellen/named_entities_02.xlsx'    # Vornamen, Nachnamen, Orte\n",
    "lex_test_filename                     = 'Steuertabellen/lex_test.xlsx'     \n",
    "\n",
    "# Save\n",
    "verzeichnis_save                      = 'data_01'\n",
    "wiktionary_lemma_filename_save        = verzeichnis_save + '/wiktionary_lemma'        + version + '.pickle'  \n",
    "wiktionary_nolemma_filename_save      = verzeichnis_save + '/wiktionary_nolemma'      + version + '.pickle'  \n",
    "wiktionary_merkmal_filename_save      = verzeichnis_save + '/wiktionary_merkmal'      + version + '.pickle'  \n",
    "wiktionary_merkmal_text_filename_save = verzeichnis_save + '/wiktionary_merkmal_text' + version + '.pickle'  \n",
    "\n",
    "#\n",
    "# Einige hardcodierte Tags finden sich unter wiktionary Einzelkorrekturen\n",
    "# !!!"
   ]
  },
  {
   "cell_type": "markdown",
   "metadata": {
    "id": "p1lM3YLgn5Ou"
   },
   "source": [
    "## Vorbereiten"
   ]
  },
  {
   "cell_type": "code",
   "execution_count": 5,
   "metadata": {
    "colab": {
     "base_uri": "https://localhost:8080/"
    },
    "execution": {
     "iopub.execute_input": "2023-02-20T16:08:37.941625Z",
     "iopub.status.busy": "2023-02-20T16:08:37.941359Z",
     "iopub.status.idle": "2023-02-20T16:08:37.994508Z",
     "shell.execute_reply": "2023-02-20T16:08:37.992580Z",
     "shell.execute_reply.started": "2023-02-20T16:08:37.941602Z"
    },
    "executionInfo": {
     "elapsed": 13,
     "status": "ok",
     "timestamp": 1676476829076,
     "user": {
      "displayName": "Hups Hopsalla",
      "userId": "10020718461385065661"
     },
     "user_tz": -60
    },
    "id": "Oy4Rb6WZn5Ow",
    "outputId": "6b94d1aa-3ffa-4388-d3f4-53b785e09406"
   },
   "outputs": [],
   "source": [
    "# Verzeichnisse erzeugen\n",
    "os.makedirs(verzeichnis_load, exist_ok=True) \n",
    "os.makedirs(verzeichnis_save, exist_ok=True) "
   ]
  },
  {
   "cell_type": "code",
   "execution_count": 6,
   "metadata": {
    "execution": {
     "iopub.execute_input": "2023-02-20T16:08:38.002669Z",
     "iopub.status.busy": "2023-02-20T16:08:38.001515Z",
     "iopub.status.idle": "2023-02-20T16:08:38.059797Z",
     "shell.execute_reply": "2023-02-20T16:08:38.058779Z",
     "shell.execute_reply.started": "2023-02-20T16:08:38.002607Z"
    }
   },
   "outputs": [],
   "source": [
    "# Steuertabellen und Python-Files von Github herunterladen\n",
    "import os\n",
    "if not os.path.exists('Steuertabellen'):\n",
    "   !git clone https://github.com/djekra/wiktionary_wortschatz.git\n",
    "   !cp -r wiktionary_wortschatz/1_wiktionary_parsen/Steuertabellen Steuertabellen\n",
    "   !cp -r wiktionary_wortschatz/1_wiktionary_parsen/*.py .\n",
    "#   !rm -r wiktionary_wortschatz"
   ]
  },
  {
   "cell_type": "code",
   "execution_count": 7,
   "metadata": {
    "colab": {
     "base_uri": "https://localhost:8080/"
    },
    "execution": {
     "iopub.execute_input": "2023-02-20T16:08:38.068595Z",
     "iopub.status.busy": "2023-02-20T16:08:38.068264Z",
     "iopub.status.idle": "2023-02-20T16:08:38.137315Z",
     "shell.execute_reply": "2023-02-20T16:08:38.135321Z",
     "shell.execute_reply.started": "2023-02-20T16:08:38.068570Z"
    },
    "executionInfo": {
     "elapsed": 7425,
     "status": "ok",
     "timestamp": 1676479015113,
     "user": {
      "displayName": "Hups Hopsalla",
      "userId": "10020718461385065661"
     },
     "user_tz": -60
    },
    "id": "dbiDceKXyUx7",
    "outputId": "beb0cf2a-bc86-47c4-81e6-b11c7354957c"
   },
   "outputs": [],
   "source": [
    "# Lade Ergebnisse der vorherigen Verarbeitungsstufe von Google Drive, falls nicht lokal vorhanden\n",
    "# Dieses Verzeichnis wurde in der vorherigen Verarbeitungsstufe angelegt \n",
    "if environment['in_colab']:\n",
    "    from google.colab import drive\n",
    "    drive.mount('/content/drive') \n",
    "    !cd /content\n",
    "    !cp -av /content/drive/MyDrive/{verzeichnis_load} ."
   ]
  },
  {
   "cell_type": "code",
   "execution_count": 8,
   "metadata": {
    "execution": {
     "iopub.execute_input": "2023-02-20T16:08:38.143657Z",
     "iopub.status.busy": "2023-02-20T16:08:38.143328Z",
     "iopub.status.idle": "2023-02-20T16:08:38.221302Z",
     "shell.execute_reply": "2023-02-20T16:08:38.220472Z",
     "shell.execute_reply.started": "2023-02-20T16:08:38.143632Z"
    }
   },
   "outputs": [],
   "source": [
    "# Weitere Imports\n",
    "from x32_Funktionen                    import *\n",
    "from Steuertabellen.s01_Steuertabellen import *\n",
    "from collections                       import defaultdict"
   ]
  },
  {
   "cell_type": "markdown",
   "metadata": {},
   "source": [
    "## Daten laden"
   ]
  },
  {
   "cell_type": "code",
   "execution_count": 9,
   "metadata": {
    "execution": {
     "iopub.execute_input": "2023-02-20T16:08:38.230652Z",
     "iopub.status.busy": "2023-02-20T16:08:38.228313Z",
     "iopub.status.idle": "2023-02-20T16:09:02.227647Z",
     "shell.execute_reply": "2023-02-20T16:09:02.226807Z",
     "shell.execute_reply.started": "2023-02-20T16:08:38.230614Z"
    }
   },
   "outputs": [
    {
     "name": "stdout",
     "output_type": "stream",
     "text": [
      "837593 rows loaded\n",
      "4152 rows loaded\n",
      "5171417 rows loaded\n",
      "654677 rows loaded\n"
     ]
    }
   ],
   "source": [
    "# wiktionary laden     \n",
    "wiktionary               = pak.load_pickle(wiktionary_filename)\n",
    "wiktionary               = pak.drop_cols(wiktionary,['wikitext','section_id'])\n",
    "\n",
    "wiktionary_trash         = pak.load_pickle(wiktionary_trash_filename)\n",
    "wiktionary_trash         = pak.drop_cols(wiktionary_trash,['msg','section_id','wikitext'])\n",
    "wiktionary_trash         = pak.rename_col(wiktionary_trash,'error','msg')\n",
    "\n",
    "wiktionary_merkmal       = pak.load_pickle(wiktionary_merkmal_filename)\n",
    "wiktionary_merkmal       = pak.drop_cols(wiktionary_merkmal,['section_id'])\n",
    "\n",
    "wiktionary_merkmal_trash = wiktionary_merkmal.head(0)\n",
    "\n",
    "wiktionary_merkmal_text  = pak.load_pickle(wiktionary_merkmal_text_filename)"
   ]
  },
  {
   "cell_type": "code",
   "execution_count": 10,
   "metadata": {
    "execution": {
     "iopub.execute_input": "2023-02-20T16:09:02.232228Z",
     "iopub.status.busy": "2023-02-20T16:09:02.231925Z",
     "iopub.status.idle": "2023-02-20T16:09:02.275198Z",
     "shell.execute_reply": "2023-02-20T16:09:02.274227Z",
     "shell.execute_reply.started": "2023-02-20T16:09:02.232203Z"
    }
   },
   "outputs": [],
   "source": [
    "# laden\n",
    "\n",
    "# pak.nnan(wiktionary_merkmal_text)"
   ]
  },
  {
   "cell_type": "code",
   "execution_count": 11,
   "metadata": {
    "execution": {
     "iopub.execute_input": "2023-02-20T16:09:02.281114Z",
     "iopub.status.busy": "2023-02-20T16:09:02.275975Z",
     "iopub.status.idle": "2023-02-20T16:09:03.120150Z",
     "shell.execute_reply": "2023-02-20T16:09:03.119514Z",
     "shell.execute_reply.started": "2023-02-20T16:09:02.281075Z"
    }
   },
   "outputs": [],
   "source": [
    "# Keine NaN\n",
    "assert not pak.any_nan(wiktionary, without=['syllables','rhymes','flexion','ipa'])"
   ]
  },
  {
   "cell_type": "code",
   "execution_count": 12,
   "metadata": {
    "execution": {
     "iopub.execute_input": "2023-02-20T16:09:03.122732Z",
     "iopub.status.busy": "2023-02-20T16:09:03.122148Z",
     "iopub.status.idle": "2023-02-20T16:09:03.409697Z",
     "shell.execute_reply": "2023-02-20T16:09:03.408949Z",
     "shell.execute_reply.started": "2023-02-20T16:09:03.122707Z"
    }
   },
   "outputs": [
    {
     "name": "stdout",
     "output_type": "stream",
     "text": [
      "check_mask:  0 rows\n"
     ]
    }
   ],
   "source": [
    "# Keine Leerzeichen in der ID\n",
    "mask = wiktionary.section_id2.str.contains(' ')\n",
    "check_mask(wiktionary,mask,0)"
   ]
  },
  {
   "cell_type": "code",
   "execution_count": 13,
   "metadata": {
    "execution": {
     "iopub.execute_input": "2023-02-20T16:09:03.411679Z",
     "iopub.status.busy": "2023-02-20T16:09:03.410913Z",
     "iopub.status.idle": "2023-02-20T16:09:07.588766Z",
     "shell.execute_reply": "2023-02-20T16:09:07.588144Z",
     "shell.execute_reply.started": "2023-02-20T16:09:03.411645Z"
    }
   },
   "outputs": [
    {
     "data": {
      "text/html": [
       "<div>\n",
       "<style scoped>\n",
       "    .dataframe tbody tr th:only-of-type {\n",
       "        vertical-align: middle;\n",
       "    }\n",
       "\n",
       "    .dataframe tbody tr th {\n",
       "        vertical-align: top;\n",
       "    }\n",
       "\n",
       "    .dataframe thead th {\n",
       "        text-align: right;\n",
       "    }\n",
       "</style>\n",
       "<table border=\"1\" class=\"dataframe\">\n",
       "  <thead>\n",
       "    <tr style=\"text-align: right;\">\n",
       "      <th></th>\n",
       "      <th>name</th>\n",
       "      <th>rtype</th>\n",
       "      <th>size</th>\n",
       "    </tr>\n",
       "  </thead>\n",
       "  <tbody>\n",
       "    <tr>\n",
       "      <th>0</th>\n",
       "      <td>wiktionary_merkmal</td>\n",
       "      <td>(DataFrame, Series)</td>\n",
       "      <td>2.1 GB</td>\n",
       "    </tr>\n",
       "    <tr>\n",
       "      <th>1</th>\n",
       "      <td>wiktionary</td>\n",
       "      <td>(DataFrame, Series)</td>\n",
       "      <td>769.9 MB</td>\n",
       "    </tr>\n",
       "    <tr>\n",
       "      <th>2</th>\n",
       "      <td>wiktionary_merkmal_text</td>\n",
       "      <td>(DataFrame, Series)</td>\n",
       "      <td>326.5 MB</td>\n",
       "    </tr>\n",
       "    <tr>\n",
       "      <th>3</th>\n",
       "      <td>wiktionary_trash</td>\n",
       "      <td>(DataFrame, Series)</td>\n",
       "      <td>4.0 MB</td>\n",
       "    </tr>\n",
       "    <tr>\n",
       "      <th>4</th>\n",
       "      <td>mask</td>\n",
       "      <td>(Series,)</td>\n",
       "      <td>1.6 MB</td>\n",
       "    </tr>\n",
       "    <tr>\n",
       "      <th>5</th>\n",
       "      <td>translate_tag</td>\n",
       "      <td>(DataFrame, Series)</td>\n",
       "      <td>37.3 KB</td>\n",
       "    </tr>\n",
       "    <tr>\n",
       "      <th>6</th>\n",
       "      <td>translate_tagZ</td>\n",
       "      <td>(DataFrame, Series)</td>\n",
       "      <td>20.9 KB</td>\n",
       "    </tr>\n",
       "    <tr>\n",
       "      <th>7</th>\n",
       "      <td>_i4</td>\n",
       "      <td>(str,)</td>\n",
       "      <td>4.0 KB</td>\n",
       "    </tr>\n",
       "    <tr>\n",
       "      <th>8</th>\n",
       "      <td>Stop</td>\n",
       "      <td>(type,)</td>\n",
       "      <td>1.0 KB</td>\n",
       "    </tr>\n",
       "    <tr>\n",
       "      <th>9</th>\n",
       "      <td>Markdown</td>\n",
       "      <td>(type,)</td>\n",
       "      <td>1.0 KB</td>\n",
       "    </tr>\n",
       "  </tbody>\n",
       "</table>\n",
       "</div>"
      ],
      "text/plain": [
       "                      name                rtype      size\n",
       "0       wiktionary_merkmal  (DataFrame, Series)    2.1 GB\n",
       "1               wiktionary  (DataFrame, Series)  769.9 MB\n",
       "2  wiktionary_merkmal_text  (DataFrame, Series)  326.5 MB\n",
       "3         wiktionary_trash  (DataFrame, Series)    4.0 MB\n",
       "4                     mask            (Series,)    1.6 MB\n",
       "5            translate_tag  (DataFrame, Series)   37.3 KB\n",
       "6           translate_tagZ  (DataFrame, Series)   20.9 KB\n",
       "7                      _i4               (str,)    4.0 KB\n",
       "8                     Stop              (type,)    1.0 KB\n",
       "9                 Markdown              (type,)    1.0 KB"
      ]
     },
     "execution_count": 13,
     "metadata": {},
     "output_type": "execute_result"
    }
   ],
   "source": [
    "pak.memory_consumption(locals())"
   ]
  },
  {
   "cell_type": "markdown",
   "metadata": {},
   "source": [
    "### wiktionary anschauen"
   ]
  },
  {
   "cell_type": "code",
   "execution_count": 14,
   "metadata": {
    "execution": {
     "iopub.execute_input": "2023-02-20T16:09:07.590328Z",
     "iopub.status.busy": "2023-02-20T16:09:07.589755Z",
     "iopub.status.idle": "2023-02-20T16:09:07.733522Z",
     "shell.execute_reply": "2023-02-20T16:09:07.732234Z",
     "shell.execute_reply.started": "2023-02-20T16:09:07.590304Z"
    }
   },
   "outputs": [
    {
     "data": {
      "text/html": [
       "<div>\n",
       "<style scoped>\n",
       "    .dataframe tbody tr th:only-of-type {\n",
       "        vertical-align: middle;\n",
       "    }\n",
       "\n",
       "    .dataframe tbody tr th {\n",
       "        vertical-align: top;\n",
       "    }\n",
       "\n",
       "    .dataframe thead th {\n",
       "        text-align: right;\n",
       "    }\n",
       "</style>\n",
       "<table border=\"1\" class=\"dataframe\">\n",
       "  <thead>\n",
       "    <tr style=\"text-align: right;\">\n",
       "      <th></th>\n",
       "      <th>page_id</th>\n",
       "      <th>page_part</th>\n",
       "      <th>section_id2</th>\n",
       "      <th>title</th>\n",
       "      <th>lemma</th>\n",
       "      <th>inflected</th>\n",
       "      <th>pos</th>\n",
       "      <th>rhymes</th>\n",
       "      <th>section_len</th>\n",
       "      <th>flexion</th>\n",
       "      <th>ipa</th>\n",
       "      <th>syllables</th>\n",
       "      <th>lang</th>\n",
       "      <th>lang_code</th>\n",
       "      <th>error</th>\n",
       "    </tr>\n",
       "  </thead>\n",
       "  <tbody>\n",
       "    <tr>\n",
       "      <th>121344</th>\n",
       "      <td>274097</td>\n",
       "      <td>0</td>\n",
       "      <td>gefriergetrocknet</td>\n",
       "      <td>gefriergetrocknet</td>\n",
       "      <td>gefriergetrocknet</td>\n",
       "      <td>False</td>\n",
       "      <td>{'Adjektiv': []}</td>\n",
       "      <td>NaN</td>\n",
       "      <td>988</td>\n",
       "      <td>{'Positiv': 'gefriergetrocknet'}</td>\n",
       "      <td>[ɡəˈfʁiːɐ̯ɡəˌtʁɔknət]</td>\n",
       "      <td>[ge, frier, ge, trock, net]</td>\n",
       "      <td>Deutsch</td>\n",
       "      <td>de</td>\n",
       "      <td></td>\n",
       "    </tr>\n",
       "    <tr>\n",
       "      <th>784281</th>\n",
       "      <td>1055347</td>\n",
       "      <td>0</td>\n",
       "      <td>gefriertrocknen</td>\n",
       "      <td>gefriertrocknen</td>\n",
       "      <td>gefriertrocknen</td>\n",
       "      <td>False</td>\n",
       "      <td>{'Verb': []}</td>\n",
       "      <td>NaN</td>\n",
       "      <td>3920</td>\n",
       "      <td>{'Präsens_ich': 'gefriertrockne', 'Präsens_du': 'gefriertrocknest', 'Präsens_er, sie, es': 'gefriertrocknet', 'Präteritum_ich': 'gefriertrocknete', 'Konjunktiv II_ich': 'gefriertrocknete', 'Imperativ Singular': 'gefriertrockne', 'Imperativ Plural': 'gefriertrocknet', 'Partizip II': 'gefriergetrocknet', 'Hilfsverb': 'haben'}</td>\n",
       "      <td>[ɡəˈfʁiːɐ̯ˌtʁɔknən]</td>\n",
       "      <td>[ge, frier, trock, nen]</td>\n",
       "      <td>Deutsch</td>\n",
       "      <td>de</td>\n",
       "      <td></td>\n",
       "    </tr>\n",
       "    <tr>\n",
       "      <th>98190</th>\n",
       "      <td>242838</td>\n",
       "      <td>0</td>\n",
       "      <td>missraten</td>\n",
       "      <td>missraten</td>\n",
       "      <td>missraten</td>\n",
       "      <td>False</td>\n",
       "      <td>{'Verb': []}</td>\n",
       "      <td>[aːtn̩]</td>\n",
       "      <td>1130</td>\n",
       "      <td>{'Präsens_ich': 'missrate', 'Präsens_du': 'missrätst', 'Präsens_er, sie, es': 'missrät', 'Präteritum_ich': 'missriet', 'Partizip II': 'missraten', 'Konjunktiv II_ich': 'missriete', 'Imperativ Singular': 'missrate', 'Imperativ Plural': 'missratet', 'Hilfsverb': 'sein'}</td>\n",
       "      <td>[mɪsˈʁaːtn̩]</td>\n",
       "      <td>[miss, ra, ten]</td>\n",
       "      <td>Deutsch</td>\n",
       "      <td>de</td>\n",
       "      <td></td>\n",
       "    </tr>\n",
       "  </tbody>\n",
       "</table>\n",
       "</div>"
      ],
      "text/plain": [
       "        page_id  page_part        section_id2              title  \\\n",
       "121344   274097          0  gefriergetrocknet  gefriergetrocknet   \n",
       "784281  1055347          0    gefriertrocknen    gefriertrocknen   \n",
       "98190    242838          0          missraten          missraten   \n",
       "\n",
       "                    lemma  inflected               pos   rhymes  section_len  \\\n",
       "121344  gefriergetrocknet      False  {'Adjektiv': []}      NaN          988   \n",
       "784281    gefriertrocknen      False      {'Verb': []}      NaN         3920   \n",
       "98190           missraten      False      {'Verb': []}  [aːtn̩]         1130   \n",
       "\n",
       "                                                                                                                                                                                                                                                                                                                                      flexion  \\\n",
       "121344                                                                                                                                                                                                                                                                                                       {'Positiv': 'gefriergetrocknet'}   \n",
       "784281  {'Präsens_ich': 'gefriertrockne', 'Präsens_du': 'gefriertrocknest', 'Präsens_er, sie, es': 'gefriertrocknet', 'Präteritum_ich': 'gefriertrocknete', 'Konjunktiv II_ich': 'gefriertrocknete', 'Imperativ Singular': 'gefriertrockne', 'Imperativ Plural': 'gefriertrocknet', 'Partizip II': 'gefriergetrocknet', 'Hilfsverb': 'haben'}   \n",
       "98190                                                            {'Präsens_ich': 'missrate', 'Präsens_du': 'missrätst', 'Präsens_er, sie, es': 'missrät', 'Präteritum_ich': 'missriet', 'Partizip II': 'missraten', 'Konjunktiv II_ich': 'missriete', 'Imperativ Singular': 'missrate', 'Imperativ Plural': 'missratet', 'Hilfsverb': 'sein'}   \n",
       "\n",
       "                          ipa                    syllables     lang lang_code  \\\n",
       "121344  [ɡəˈfʁiːɐ̯ɡəˌtʁɔknət]  [ge, frier, ge, trock, net]  Deutsch        de   \n",
       "784281    [ɡəˈfʁiːɐ̯ˌtʁɔknən]      [ge, frier, trock, nen]  Deutsch        de   \n",
       "98190            [mɪsˈʁaːtn̩]              [miss, ra, ten]  Deutsch        de   \n",
       "\n",
       "       error  \n",
       "121344        \n",
       "784281        \n",
       "98190         "
      ]
     },
     "execution_count": 14,
     "metadata": {},
     "output_type": "execute_result"
    }
   ],
   "source": [
    "# suche_debug \n",
    "mask = wiktionary.title.isin(suche_debug)\n",
    "wiktionary[mask].sort_values(['section_id2',])"
   ]
  },
  {
   "cell_type": "code",
   "execution_count": 15,
   "metadata": {
    "execution": {
     "iopub.execute_input": "2023-02-20T16:09:07.743431Z",
     "iopub.status.busy": "2023-02-20T16:09:07.739169Z",
     "iopub.status.idle": "2023-02-20T16:09:07.792513Z",
     "shell.execute_reply": "2023-02-20T16:09:07.791858Z",
     "shell.execute_reply.started": "2023-02-20T16:09:07.743391Z"
    },
    "tags": []
   },
   "outputs": [],
   "source": [
    "#pak.sample(wiktionary)"
   ]
  },
  {
   "cell_type": "code",
   "execution_count": 16,
   "metadata": {
    "execution": {
     "iopub.execute_input": "2023-02-20T16:09:07.795847Z",
     "iopub.status.busy": "2023-02-20T16:09:07.795571Z",
     "iopub.status.idle": "2023-02-20T16:09:07.834924Z",
     "shell.execute_reply": "2023-02-20T16:09:07.834045Z",
     "shell.execute_reply.started": "2023-02-20T16:09:07.795826Z"
    }
   },
   "outputs": [
    {
     "name": "stdout",
     "output_type": "stream",
     "text": [
      "\u001b[1m\u001b[7m\u001b[34mNo rows\u001b[0m\n"
     ]
    }
   ],
   "source": [
    "# suche_debug \n",
    "mask = wiktionary_trash.title.isin(suche_debug)\n",
    "grid(wiktionary_trash[mask].sort_values(['section_id2',]))"
   ]
  },
  {
   "cell_type": "code",
   "execution_count": 17,
   "metadata": {
    "execution": {
     "iopub.execute_input": "2023-02-20T16:09:07.839077Z",
     "iopub.status.busy": "2023-02-20T16:09:07.835873Z",
     "iopub.status.idle": "2023-02-20T16:09:07.919211Z",
     "shell.execute_reply": "2023-02-20T16:09:07.918506Z",
     "shell.execute_reply.started": "2023-02-20T16:09:07.839040Z"
    }
   },
   "outputs": [
    {
     "data": {
      "text/html": [
       "<div>\n",
       "<style scoped>\n",
       "    .dataframe tbody tr th:only-of-type {\n",
       "        vertical-align: middle;\n",
       "    }\n",
       "\n",
       "    .dataframe tbody tr th {\n",
       "        vertical-align: top;\n",
       "    }\n",
       "\n",
       "    .dataframe thead th {\n",
       "        text-align: right;\n",
       "    }\n",
       "</style>\n",
       "<table border=\"1\" class=\"dataframe\">\n",
       "  <thead>\n",
       "    <tr style=\"text-align: right;\">\n",
       "      <th></th>\n",
       "      <th>msg</th>\n",
       "      <th>msg_count</th>\n",
       "      <th>msg_percent</th>\n",
       "      <th>graph</th>\n",
       "    </tr>\n",
       "  </thead>\n",
       "  <tbody>\n",
       "    <tr>\n",
       "      <th>0</th>\n",
       "      <td>title zu viele Wörter</td>\n",
       "      <td>3910</td>\n",
       "      <td>94.2</td>\n",
       "      <td>###############################################</td>\n",
       "    </tr>\n",
       "    <tr>\n",
       "      <th>1</th>\n",
       "      <td>title zu kurz</td>\n",
       "      <td>206</td>\n",
       "      <td>5.0</td>\n",
       "      <td>##</td>\n",
       "    </tr>\n",
       "    <tr>\n",
       "      <th>2</th>\n",
       "      <td>lemma zu kurz</td>\n",
       "      <td>26</td>\n",
       "      <td>0.6</td>\n",
       "      <td></td>\n",
       "    </tr>\n",
       "    <tr>\n",
       "      <th>3</th>\n",
       "      <td>lang_code ist nan</td>\n",
       "      <td>10</td>\n",
       "      <td>0.2</td>\n",
       "      <td></td>\n",
       "    </tr>\n",
       "  </tbody>\n",
       "</table>\n",
       "</div>"
      ],
      "text/plain": [
       "                     msg  msg_count  msg_percent  \\\n",
       "0  title zu viele Wörter       3910         94.2   \n",
       "1          title zu kurz        206          5.0   \n",
       "2          lemma zu kurz         26          0.6   \n",
       "3      lang_code ist nan         10          0.2   \n",
       "\n",
       "                                             graph  \n",
       "0  ###############################################  \n",
       "1                                               ##  \n",
       "2                                                   \n",
       "3                                                   "
      ]
     },
     "execution_count": 17,
     "metadata": {},
     "output_type": "execute_result"
    }
   ],
   "source": [
    "# wiktionary_trash\n",
    "a = pak.analyse_freqs(wiktionary_trash, 'msg')\n",
    "a"
   ]
  },
  {
   "cell_type": "markdown",
   "metadata": {},
   "source": [
    "### wiktionary_merkmal anschauen"
   ]
  },
  {
   "cell_type": "code",
   "execution_count": 18,
   "metadata": {
    "execution": {
     "iopub.execute_input": "2023-02-20T16:09:07.925579Z",
     "iopub.status.busy": "2023-02-20T16:09:07.925038Z",
     "iopub.status.idle": "2023-02-20T16:09:08.340313Z",
     "shell.execute_reply": "2023-02-20T16:09:08.339725Z",
     "shell.execute_reply.started": "2023-02-20T16:09:07.925553Z"
    }
   },
   "outputs": [],
   "source": [
    "# suche_debug \n",
    "mask = wiktionary_merkmal.data.isin(suche_debug)\n",
    "a = wiktionary_merkmal[mask].sort_values(['section_id2','merkmal'])\n",
    "#a"
   ]
  },
  {
   "cell_type": "code",
   "execution_count": 19,
   "metadata": {
    "execution": {
     "iopub.execute_input": "2023-02-20T16:09:08.342565Z",
     "iopub.status.busy": "2023-02-20T16:09:08.342292Z",
     "iopub.status.idle": "2023-02-20T16:09:26.265390Z",
     "shell.execute_reply": "2023-02-20T16:09:26.264554Z",
     "shell.execute_reply.started": "2023-02-20T16:09:08.342542Z"
    },
    "tags": []
   },
   "outputs": [
    {
     "data": {
      "text/html": [
       "<div>\n",
       "<style scoped>\n",
       "    .dataframe tbody tr th:only-of-type {\n",
       "        vertical-align: middle;\n",
       "    }\n",
       "\n",
       "    .dataframe tbody tr th {\n",
       "        vertical-align: top;\n",
       "    }\n",
       "\n",
       "    .dataframe thead th {\n",
       "        text-align: right;\n",
       "    }\n",
       "</style>\n",
       "<table border=\"1\" class=\"dataframe\">\n",
       "  <thead>\n",
       "    <tr style=\"text-align: right;\">\n",
       "      <th></th>\n",
       "      <th>section_id2</th>\n",
       "      <th>merkmal</th>\n",
       "      <th>node_debug</th>\n",
       "      <th>node_kontext</th>\n",
       "      <th>data</th>\n",
       "      <th>num</th>\n",
       "      <th>meta</th>\n",
       "    </tr>\n",
       "  </thead>\n",
       "  <tbody>\n",
       "    <tr>\n",
       "      <th>0</th>\n",
       "      <td>Hallo</td>\n",
       "      <td>übersicht</td>\n",
       "      <td>Deutsch Substantiv Übersicht</td>\n",
       "      <td>Genus</td>\n",
       "      <td>n</td>\n",
       "      <td>NaN</td>\n",
       "      <td>&lt;NA&gt;</td>\n",
       "    </tr>\n",
       "    <tr>\n",
       "      <th>446</th>\n",
       "      <td>April_1</td>\n",
       "      <td>istName</td>\n",
       "      <td>&lt;NA&gt;</td>\n",
       "      <td>&lt;NA&gt;</td>\n",
       "      <td>exists</td>\n",
       "      <td>NaN</td>\n",
       "      <td>&lt;NA&gt;</td>\n",
       "    </tr>\n",
       "    <tr>\n",
       "      <th>1031</th>\n",
       "      <td>Liebe_1</td>\n",
       "      <td>übersicht</td>\n",
       "      <td>Deutsch Substantiv Übersicht</td>\n",
       "      <td>Nominativ Plural</td>\n",
       "      <td>—</td>\n",
       "      <td>NaN</td>\n",
       "      <td>&lt;NA&gt;</td>\n",
       "    </tr>\n",
       "    <tr>\n",
       "      <th>10413</th>\n",
       "      <td>Haus</td>\n",
       "      <td>übersicht</td>\n",
       "      <td>Deutsch Substantiv Übersicht</td>\n",
       "      <td>Genus</td>\n",
       "      <td>n</td>\n",
       "      <td>NaN</td>\n",
       "      <td>&lt;NA&gt;</td>\n",
       "    </tr>\n",
       "    <tr>\n",
       "      <th>18515</th>\n",
       "      <td>Rauch</td>\n",
       "      <td>nurWortart</td>\n",
       "      <td>Wortart fehlt</td>\n",
       "      <td>1</td>\n",
       "      <td>Substantiv</td>\n",
       "      <td>NaN</td>\n",
       "      <td>&lt;NA&gt;</td>\n",
       "    </tr>\n",
       "    <tr>\n",
       "      <th>81347</th>\n",
       "      <td>spulgen</td>\n",
       "      <td>übersicht</td>\n",
       "      <td>Deutsch Verb Übersicht</td>\n",
       "      <td>Präteritum_ich</td>\n",
       "      <td></td>\n",
       "      <td>NaN</td>\n",
       "      <td>&lt;NA&gt;</td>\n",
       "    </tr>\n",
       "    <tr>\n",
       "      <th>175097</th>\n",
       "      <td>ein-</td>\n",
       "      <td>Präfix</td>\n",
       "      <td>&lt;NA&gt;</td>\n",
       "      <td>&lt;NA&gt;</td>\n",
       "      <td>exists</td>\n",
       "      <td>NaN</td>\n",
       "      <td>&lt;NA&gt;</td>\n",
       "    </tr>\n",
       "    <tr>\n",
       "      <th>230371</th>\n",
       "      <td>Joch</td>\n",
       "      <td>herkunft</td>\n",
       "      <td></td>\n",
       "      <td>Ü</td>\n",
       "      <td>𒄿𒌑𒃷</td>\n",
       "      <td>[]</td>\n",
       "      <td></td>\n",
       "    </tr>\n",
       "    <tr>\n",
       "      <th>1308756</th>\n",
       "      <td>μm</td>\n",
       "      <td>up</td>\n",
       "      <td></td>\n",
       "      <td></td>\n",
       "      <td>Einheit</td>\n",
       "      <td>[1]</td>\n",
       "      <td></td>\n",
       "    </tr>\n",
       "    <tr>\n",
       "      <th>1314648</th>\n",
       "      <td>&amp;c.</td>\n",
       "      <td>def</td>\n",
       "      <td></td>\n",
       "      <td></td>\n",
       "      <td>et cetera</td>\n",
       "      <td>[1]</td>\n",
       "      <td></td>\n",
       "    </tr>\n",
       "    <tr>\n",
       "      <th>1492067</th>\n",
       "      <td>Pathovar</td>\n",
       "      <td>herkunft</td>\n",
       "      <td></td>\n",
       "      <td>Ü</td>\n",
       "      <td>varius</td>\n",
       "      <td>[]</td>\n",
       "      <td>παθοs</td>\n",
       "    </tr>\n",
       "    <tr>\n",
       "      <th>5171413</th>\n",
       "      <td>Überreichweiten</td>\n",
       "      <td>gm</td>\n",
       "      <td></td>\n",
       "      <td></td>\n",
       "      <td>Überreichweite</td>\n",
       "      <td>[]</td>\n",
       "      <td></td>\n",
       "    </tr>\n",
       "    <tr>\n",
       "      <th>5171416</th>\n",
       "      <td>Überreichweiten</td>\n",
       "      <td>gm</td>\n",
       "      <td></td>\n",
       "      <td></td>\n",
       "      <td>Überreichweite</td>\n",
       "      <td>[]</td>\n",
       "      <td></td>\n",
       "    </tr>\n",
       "  </tbody>\n",
       "</table>\n",
       "</div>"
      ],
      "text/plain": [
       "             section_id2     merkmal                     node_debug  \\\n",
       "0                  Hallo   übersicht  Deutsch Substantiv Übersicht\n",
       "   \n",
       "446              April_1     istName                           <NA>   \n",
       "1031             Liebe_1   übersicht  Deutsch Substantiv Übersicht\n",
       "   \n",
       "10413               Haus   übersicht  Deutsch Substantiv Übersicht\n",
       "   \n",
       "18515              Rauch  nurWortart                  Wortart fehlt   \n",
       "81347            spulgen   übersicht        Deutsch Verb Übersicht\n",
       "   \n",
       "175097              ein-      Präfix                           <NA>   \n",
       "230371              Joch    herkunft                                  \n",
       "1308756               μm          up                                  \n",
       "1314648              &c.         def                                  \n",
       "1492067         Pathovar    herkunft                                  \n",
       "5171413  Überreichweiten          gm                                  \n",
       "5171416  Überreichweiten          gm                                  \n",
       "\n",
       "             node_kontext            data  num   meta  \n",
       "0                   Genus               n  NaN   <NA>  \n",
       "446                  <NA>          exists  NaN   <NA>  \n",
       "1031     Nominativ Plural               —  NaN   <NA>  \n",
       "10413               Genus               n  NaN   <NA>  \n",
       "18515                   1      Substantiv  NaN   <NA>  \n",
       "81347      Präteritum_ich                  NaN   <NA>  \n",
       "175097               <NA>          exists  NaN   <NA>  \n",
       "230371                  Ü             𒄿𒌑𒃷   []         \n",
       "1308756                           Einheit  [1]         \n",
       "1314648                         et cetera  [1]         \n",
       "1492067                 Ü          varius   []  παθοs  \n",
       "5171413                    Überreichweite   []         \n",
       "5171416                    Überreichweite   []         "
      ]
     },
     "execution_count": 19,
     "metadata": {},
     "output_type": "execute_result"
    }
   ],
   "source": [
    "pak.sample(wiktionary_merkmal)"
   ]
  },
  {
   "cell_type": "code",
   "execution_count": 20,
   "metadata": {
    "execution": {
     "iopub.execute_input": "2023-02-20T16:09:26.271206Z",
     "iopub.status.busy": "2023-02-20T16:09:26.270604Z",
     "iopub.status.idle": "2023-02-20T16:09:46.913118Z",
     "shell.execute_reply": "2023-02-20T16:09:46.912225Z",
     "shell.execute_reply.started": "2023-02-20T16:09:26.271177Z"
    }
   },
   "outputs": [
    {
     "data": {
      "text/html": [
       "<div>\n",
       "<style scoped>\n",
       "    .dataframe tbody tr th:only-of-type {\n",
       "        vertical-align: middle;\n",
       "    }\n",
       "\n",
       "    .dataframe tbody tr th {\n",
       "        vertical-align: top;\n",
       "    }\n",
       "\n",
       "    .dataframe thead th {\n",
       "        text-align: right;\n",
       "    }\n",
       "</style>\n",
       "<table border=\"1\" class=\"dataframe\">\n",
       "  <thead>\n",
       "    <tr style=\"text-align: right;\">\n",
       "      <th></th>\n",
       "      <th>col_name</th>\n",
       "      <th>datatype_instance</th>\n",
       "      <th>datatype</th>\n",
       "      <th>datatype_short</th>\n",
       "      <th>datatype_suggest</th>\n",
       "      <th>is_numeric</th>\n",
       "      <th>is_string</th>\n",
       "      <th>is_hashable</th>\n",
       "      <th>nan_allowed</th>\n",
       "      <th>mem_usage</th>\n",
       "      <th>ntypes</th>\n",
       "      <th>nunique</th>\n",
       "      <th>nnan</th>\n",
       "      <th>ndups</th>\n",
       "      <th>n</th>\n",
       "      <th>vmin</th>\n",
       "      <th>vmean</th>\n",
       "      <th>vmedian</th>\n",
       "      <th>vmax</th>\n",
       "      <th>vsum</th>\n",
       "    </tr>\n",
       "  </thead>\n",
       "  <tbody>\n",
       "    <tr>\n",
       "      <th>0</th>\n",
       "      <td>__index__</td>\n",
       "      <td>int64</td>\n",
       "      <td>np.int64</td>\n",
       "      <td>int64</td>\n",
       "      <td>np.int32</td>\n",
       "      <td>True</td>\n",
       "      <td>False</td>\n",
       "      <td>True</td>\n",
       "      <td>False</td>\n",
       "      <td>80.0 B</td>\n",
       "      <td>1</td>\n",
       "      <td>5171417</td>\n",
       "      <td>0</td>\n",
       "      <td>0</td>\n",
       "      <td>5171417</td>\n",
       "      <td>0.0</td>\n",
       "      <td>2585708.0</td>\n",
       "      <td>2585708.0</td>\n",
       "      <td>5171416.0</td>\n",
       "      <td>1.337177e+13</td>\n",
       "    </tr>\n",
       "    <tr>\n",
       "      <th>1</th>\n",
       "      <td>section_id2</td>\n",
       "      <td>str</td>\n",
       "      <td>pd.string</td>\n",
       "      <td>string</td>\n",
       "      <td></td>\n",
       "      <td>False</td>\n",
       "      <td>True</td>\n",
       "      <td>True</td>\n",
       "      <td>True</td>\n",
       "      <td>776.0 B</td>\n",
       "      <td>1</td>\n",
       "      <td>836708</td>\n",
       "      <td>0</td>\n",
       "      <td>4334709</td>\n",
       "      <td>5171417</td>\n",
       "      <td>&amp;c.</td>\n",
       "      <td>NaN</td>\n",
       "      <td>NaN</td>\n",
       "      <td>μm</td>\n",
       "      <td>NaN</td>\n",
       "    </tr>\n",
       "    <tr>\n",
       "      <th>2</th>\n",
       "      <td>merkmal</td>\n",
       "      <td>str</td>\n",
       "      <td>pd.string</td>\n",
       "      <td>string</td>\n",
       "      <td></td>\n",
       "      <td>False</td>\n",
       "      <td>True</td>\n",
       "      <td>True</td>\n",
       "      <td>True</td>\n",
       "      <td>758.0 B</td>\n",
       "      <td>1</td>\n",
       "      <td>36</td>\n",
       "      <td>0</td>\n",
       "      <td>5171381</td>\n",
       "      <td>5171417</td>\n",
       "      <td>Präfix</td>\n",
       "      <td>NaN</td>\n",
       "      <td>NaN</td>\n",
       "      <td>übersicht</td>\n",
       "      <td>NaN</td>\n",
       "    </tr>\n",
       "    <tr>\n",
       "      <th>3</th>\n",
       "      <td>node_debug</td>\n",
       "      <td>str</td>\n",
       "      <td>pd.string</td>\n",
       "      <td>string</td>\n",
       "      <td></td>\n",
       "      <td>False</td>\n",
       "      <td>True</td>\n",
       "      <td>True</td>\n",
       "      <td>True</td>\n",
       "      <td>776.0 B</td>\n",
       "      <td>1</td>\n",
       "      <td>31</td>\n",
       "      <td>11465</td>\n",
       "      <td>5159921</td>\n",
       "      <td>5171417</td>\n",
       "      <td></td>\n",
       "      <td>NaN</td>\n",
       "      <td>NaN</td>\n",
       "      <td>Wortart fehlt</td>\n",
       "      <td>NaN</td>\n",
       "    </tr>\n",
       "    <tr>\n",
       "      <th>4</th>\n",
       "      <td>node_kontext</td>\n",
       "      <td>str</td>\n",
       "      <td>pd.string</td>\n",
       "      <td>string</td>\n",
       "      <td></td>\n",
       "      <td>False</td>\n",
       "      <td>True</td>\n",
       "      <td>True</td>\n",
       "      <td>True</td>\n",
       "      <td>623.0 B</td>\n",
       "      <td>1</td>\n",
       "      <td>235</td>\n",
       "      <td>11465</td>\n",
       "      <td>5159717</td>\n",
       "      <td>5171417</td>\n",
       "      <td></td>\n",
       "      <td>NaN</td>\n",
       "      <td>NaN</td>\n",
       "      <td>Ü</td>\n",
       "      <td>NaN</td>\n",
       "    </tr>\n",
       "    <tr>\n",
       "      <th>5</th>\n",
       "      <td>data</td>\n",
       "      <td>str</td>\n",
       "      <td>pd.string</td>\n",
       "      <td>string</td>\n",
       "      <td></td>\n",
       "      <td>False</td>\n",
       "      <td>True</td>\n",
       "      <td>True</td>\n",
       "      <td>True</td>\n",
       "      <td>753.0 B</td>\n",
       "      <td>1</td>\n",
       "      <td>725566</td>\n",
       "      <td>0</td>\n",
       "      <td>4445851</td>\n",
       "      <td>5171417</td>\n",
       "      <td></td>\n",
       "      <td>NaN</td>\n",
       "      <td>NaN</td>\n",
       "      <td>𒄿𒌑𒃷</td>\n",
       "      <td>NaN</td>\n",
       "    </tr>\n",
       "    <tr>\n",
       "      <th>6</th>\n",
       "      <td>num</td>\n",
       "      <td>list</td>\n",
       "      <td>object</td>\n",
       "      <td>object</td>\n",
       "      <td></td>\n",
       "      <td>False</td>\n",
       "      <td>True</td>\n",
       "      <td>False</td>\n",
       "      <td>True</td>\n",
       "      <td>416.0 B</td>\n",
       "      <td>1</td>\n",
       "      <td>224</td>\n",
       "      <td>1133103</td>\n",
       "      <td>4038090</td>\n",
       "      <td>5171417</td>\n",
       "      <td>[]</td>\n",
       "      <td>NaN</td>\n",
       "      <td>NaN</td>\n",
       "      <td>[1225]</td>\n",
       "      <td>NaN</td>\n",
       "    </tr>\n",
       "    <tr>\n",
       "      <th>7</th>\n",
       "      <td>meta</td>\n",
       "      <td>str</td>\n",
       "      <td>pd.string</td>\n",
       "      <td>string</td>\n",
       "      <td></td>\n",
       "      <td>False</td>\n",
       "      <td>True</td>\n",
       "      <td>True</td>\n",
       "      <td>True</td>\n",
       "      <td>502.0 B</td>\n",
       "      <td>1</td>\n",
       "      <td>18571</td>\n",
       "      <td>1133103</td>\n",
       "      <td>4019743</td>\n",
       "      <td>5171417</td>\n",
       "      <td></td>\n",
       "      <td>NaN</td>\n",
       "      <td>NaN</td>\n",
       "      <td>παθοs</td>\n",
       "      <td>NaN</td>\n",
       "    </tr>\n",
       "  </tbody>\n",
       "</table>\n",
       "</div>"
      ],
      "text/plain": [
       "       col_name datatype_instance   datatype datatype_short datatype_suggest  \\\n",
       "0     __index__             int64   np.int64          int64         np.int32   \n",
       "1   section_id2               str  pd.string         string                    \n",
       "2       merkmal               str  pd.string         string                    \n",
       "3    node_debug               str  pd.string         string                    \n",
       "4  node_kontext               str  pd.string         string                    \n",
       "5          data               str  pd.string         string                    \n",
       "6           num              list     object         object                    \n",
       "7          meta               str  pd.string         string                    \n",
       "\n",
       "   is_numeric  is_string  is_hashable  nan_allowed mem_usage  ntypes  nunique  \\\n",
       "0        True      False         True        False    80.0 B       1  5171417   \n",
       "1       False       True         True         True   776.0 B       1   836708   \n",
       "2       False       True         True         True   758.0 B       1       36   \n",
       "3       False       True         True         True   776.0 B       1       31   \n",
       "4       False       True         True         True   623.0 B       1      235   \n",
       "5       False       True         True         True   753.0 B       1   725566   \n",
       "6       False       True        False         True   416.0 B       1      224   \n",
       "7       False       True         True         True   502.0 B       1    18571   \n",
       "\n",
       "      nnan    ndups        n    vmin      vmean    vmedian           vmax  \\\n",
       "0        0        0  5171417     0.0  2585708.0  2585708.0      5171416.0   \n",
       "1        0  4334709  5171417     &c.        NaN        NaN             μm   \n",
       "2        0  5171381  5171417  Präfix        NaN        NaN      übersicht   \n",
       "3    11465  5159921  5171417                NaN        NaN  Wortart fehlt   \n",
       "4    11465  5159717  5171417                NaN        NaN              Ü   \n",
       "5        0  4445851  5171417                NaN        NaN            𒄿𒌑𒃷   \n",
       "6  1133103  4038090  5171417      []        NaN        NaN         [1225]   \n",
       "7  1133103  4019743  5171417                NaN        NaN          παθοs   \n",
       "\n",
       "           vsum  \n",
       "0  1.337177e+13  \n",
       "1           NaN  \n",
       "2           NaN  \n",
       "3           NaN  \n",
       "4           NaN  \n",
       "5           NaN  \n",
       "6           NaN  \n",
       "7           NaN  "
      ]
     },
     "execution_count": 20,
     "metadata": {},
     "output_type": "execute_result"
    }
   ],
   "source": [
    "pak.analyse_cols(wiktionary_merkmal)"
   ]
  },
  {
   "cell_type": "code",
   "execution_count": 21,
   "metadata": {
    "execution": {
     "iopub.execute_input": "2023-02-20T16:09:46.918263Z",
     "iopub.status.busy": "2023-02-20T16:09:46.917968Z",
     "iopub.status.idle": "2023-02-20T16:09:57.496702Z",
     "shell.execute_reply": "2023-02-20T16:09:57.495929Z",
     "shell.execute_reply.started": "2023-02-20T16:09:46.918240Z"
    },
    "tags": []
   },
   "outputs": [
    {
     "name": "stdout",
     "output_type": "stream",
     "text": [
      "36 rows\n"
     ]
    },
    {
     "data": {
      "text/html": [
       "\n",
       "        <iframe\n",
       "            width=\"100%\"\n",
       "            height=\"475\"\n",
       "            src=\"http://pop-os:40000/dtale/iframe/1\"\n",
       "            frameborder=\"0\"\n",
       "            allowfullscreen\n",
       "            \n",
       "        ></iframe>\n",
       "        "
      ],
      "text/plain": [
       "<IPython.lib.display.IFrame at 0x7f7934e02160>"
      ]
     },
     "metadata": {},
     "output_type": "display_data"
    },
    {
     "data": {
      "text/plain": []
     },
     "execution_count": 21,
     "metadata": {},
     "output_type": "execute_result"
    }
   ],
   "source": [
    "# Häufigkeit der Merkmale\n",
    "a = pak.analyse_freqs(wiktionary_merkmal,['merkmal','data'])\n",
    "gridt(a)"
   ]
  },
  {
   "cell_type": "code",
   "execution_count": 22,
   "metadata": {
    "execution": {
     "iopub.execute_input": "2023-02-20T16:09:57.501411Z",
     "iopub.status.busy": "2023-02-20T16:09:57.501141Z",
     "iopub.status.idle": "2023-02-20T16:09:57.854321Z",
     "shell.execute_reply": "2023-02-20T16:09:57.853371Z",
     "shell.execute_reply.started": "2023-02-20T16:09:57.501389Z"
    }
   },
   "outputs": [],
   "source": [
    "# ursprüngliche_merkmale merken\n",
    "ursprüngliche_merkmale = wiktionary_merkmal.merkmal.unique()"
   ]
  },
  {
   "cell_type": "markdown",
   "metadata": {},
   "source": [
    "## Vorverarbeitung\n",
    "* Feld num in String wandeln, um dups entfernen zu können\n",
    "* Dups entfernen\n",
    "* wiktionary: flexion in defaultdict wandeln"
   ]
  },
  {
   "cell_type": "code",
   "execution_count": 23,
   "metadata": {
    "execution": {
     "iopub.execute_input": "2023-02-20T16:09:57.855216Z",
     "iopub.status.busy": "2023-02-20T16:09:57.854987Z",
     "iopub.status.idle": "2023-02-20T16:09:59.195151Z",
     "shell.execute_reply": "2023-02-20T16:09:59.194482Z",
     "shell.execute_reply.started": "2023-02-20T16:09:57.855195Z"
    }
   },
   "outputs": [],
   "source": [
    "# num ist leere Liste \n",
    "mask = (wiktionary_merkmal.num.str.len() == 0)  \n",
    "#wiktionary_merkmal[mask]\n",
    "wiktionary_merkmal.loc[mask,'num'] = ''"
   ]
  },
  {
   "cell_type": "code",
   "execution_count": 24,
   "metadata": {
    "execution": {
     "iopub.execute_input": "2023-02-20T16:09:59.199540Z",
     "iopub.status.busy": "2023-02-20T16:09:59.196050Z",
     "iopub.status.idle": "2023-02-20T16:09:59.563798Z",
     "shell.execute_reply": "2023-02-20T16:09:59.563141Z",
     "shell.execute_reply.started": "2023-02-20T16:09:59.199501Z"
    }
   },
   "outputs": [],
   "source": [
    "# fillna\n",
    "wiktionary_merkmal['num'] = wiktionary_merkmal.num.fillna('')"
   ]
  },
  {
   "cell_type": "code",
   "execution_count": 25,
   "metadata": {
    "execution": {
     "iopub.execute_input": "2023-02-20T16:09:59.578434Z",
     "iopub.status.busy": "2023-02-20T16:09:59.568047Z",
     "iopub.status.idle": "2023-02-20T16:10:01.753322Z",
     "shell.execute_reply": "2023-02-20T16:10:01.752476Z",
     "shell.execute_reply.started": "2023-02-20T16:09:59.578394Z"
    }
   },
   "outputs": [],
   "source": [
    "# num ist Liste mit einem Eintrag >> diesen verwenden\n",
    "mask = (wiktionary_merkmal.num.str.len() == 1)\n",
    "wiktionary_merkmal.loc[mask,'num'] = wiktionary_merkmal[mask].num.str[0]\n",
    "#wiktionary_merkmal[mask]"
   ]
  },
  {
   "cell_type": "code",
   "execution_count": 26,
   "metadata": {
    "execution": {
     "iopub.execute_input": "2023-02-20T16:10:01.754472Z",
     "iopub.status.busy": "2023-02-20T16:10:01.754225Z",
     "iopub.status.idle": "2023-02-20T16:10:01.854408Z",
     "shell.execute_reply": "2023-02-20T16:10:01.852184Z",
     "shell.execute_reply.started": "2023-02-20T16:10:01.754450Z"
    }
   },
   "outputs": [
    {
     "data": {
      "text/plain": [
       "\u001b[0;31mSignature:\u001b[0m \u001b[0mpak\u001b[0m\u001b[0;34m.\u001b[0m\u001b[0mlist_to_string\u001b[0m\u001b[0;34m(\u001b[0m\u001b[0mseries\u001b[0m\u001b[0;34m,\u001b[0m \u001b[0msep\u001b[0m\u001b[0;34m=\u001b[0m\u001b[0;34m','\u001b[0m\u001b[0;34m)\u001b[0m\u001b[0;34m\u001b[0m\u001b[0;34m\u001b[0m\u001b[0m\n",
       "\u001b[0;31mDocstring:\u001b[0m\n",
       "Converts a Series of lists of strings into a Series of strings.\n",
       "* sep: The separator, default is ','\n",
       "Example:\n",
       "df = pak.people()\n",
       "df['history2'] = pak.list_to_string(df.history)    \n",
       "\u001b[0;31mFile:\u001b[0m      ~/Data_Linux/Dropbox/31_Projekte/01_Python/git/pandasklar/src/pandasklar/pandas.py\n",
       "\u001b[0;31mType:\u001b[0m      function\n"
      ]
     },
     "metadata": {},
     "output_type": "display_data"
    }
   ],
   "source": [
    "?pak.list_to_string"
   ]
  },
  {
   "cell_type": "code",
   "execution_count": 27,
   "metadata": {
    "execution": {
     "iopub.execute_input": "2023-02-20T16:10:01.856110Z",
     "iopub.status.busy": "2023-02-20T16:10:01.855858Z",
     "iopub.status.idle": "2023-02-20T16:10:03.892885Z",
     "shell.execute_reply": "2023-02-20T16:10:03.892217Z",
     "shell.execute_reply.started": "2023-02-20T16:10:01.856088Z"
    }
   },
   "outputs": [],
   "source": [
    "# Liste in String wandeln, damit wir Dups entfernen können\n",
    "# wiktionary_merkmal: list_to_string\n",
    "wiktionary_merkmal['num'] = pak.list_to_string(wiktionary_merkmal.num)"
   ]
  },
  {
   "cell_type": "code",
   "execution_count": 28,
   "metadata": {
    "execution": {
     "iopub.execute_input": "2023-02-20T16:10:03.893881Z",
     "iopub.status.busy": "2023-02-20T16:10:03.893635Z",
     "iopub.status.idle": "2023-02-20T16:10:10.936516Z",
     "shell.execute_reply": "2023-02-20T16:10:10.935900Z",
     "shell.execute_reply.started": "2023-02-20T16:10:03.893859Z"
    }
   },
   "outputs": [
    {
     "name": "stdout",
     "output_type": "stream",
     "text": [
      "Delete 1902922 rows from 5171417\n"
     ]
    }
   ],
   "source": [
    "# Dups entfernen. \n",
    "# Die Duplikate entstehen z.B. dadurch, dass für manche Merkmale nur der Linktext verwendet wird. \n",
    "# Beispiel Wolf_1, Merkmal kombi: die Wolf _mündet_, in die Wolf _mündet_ führt zu einem Duplikat.\n",
    "mask = wiktionary_merkmal.duplicated()\n",
    "wiktionary_merkmal = pak.drop_rows(wiktionary_merkmal, mask)"
   ]
  },
  {
   "cell_type": "code",
   "execution_count": 29,
   "metadata": {
    "execution": {
     "iopub.execute_input": "2023-02-20T16:10:10.937557Z",
     "iopub.status.busy": "2023-02-20T16:10:10.937332Z",
     "iopub.status.idle": "2023-02-20T16:10:23.709091Z",
     "shell.execute_reply": "2023-02-20T16:10:23.708385Z",
     "shell.execute_reply.started": "2023-02-20T16:10:10.937536Z"
    }
   },
   "outputs": [
    {
     "data": {
      "text/html": [
       "<div>\n",
       "<style scoped>\n",
       "    .dataframe tbody tr th:only-of-type {\n",
       "        vertical-align: middle;\n",
       "    }\n",
       "\n",
       "    .dataframe tbody tr th {\n",
       "        vertical-align: top;\n",
       "    }\n",
       "\n",
       "    .dataframe thead th {\n",
       "        text-align: right;\n",
       "    }\n",
       "</style>\n",
       "<table border=\"1\" class=\"dataframe\">\n",
       "  <thead>\n",
       "    <tr style=\"text-align: right;\">\n",
       "      <th></th>\n",
       "      <th>col_name</th>\n",
       "      <th>datatype_instance</th>\n",
       "      <th>datatype</th>\n",
       "      <th>datatype_short</th>\n",
       "      <th>datatype_suggest</th>\n",
       "      <th>is_numeric</th>\n",
       "      <th>is_string</th>\n",
       "      <th>is_hashable</th>\n",
       "      <th>nan_allowed</th>\n",
       "      <th>mem_usage</th>\n",
       "      <th>ntypes</th>\n",
       "      <th>nunique</th>\n",
       "      <th>nnan</th>\n",
       "      <th>ndups</th>\n",
       "      <th>n</th>\n",
       "      <th>vmin</th>\n",
       "      <th>vmean</th>\n",
       "      <th>vmedian</th>\n",
       "      <th>vmax</th>\n",
       "      <th>vsum</th>\n",
       "    </tr>\n",
       "  </thead>\n",
       "  <tbody>\n",
       "    <tr>\n",
       "      <th>0</th>\n",
       "      <td>__index__</td>\n",
       "      <td>int64</td>\n",
       "      <td>np.int64</td>\n",
       "      <td>int64</td>\n",
       "      <td>np.int32</td>\n",
       "      <td>True</td>\n",
       "      <td>False</td>\n",
       "      <td>True</td>\n",
       "      <td>False</td>\n",
       "      <td>80.0 B</td>\n",
       "      <td>1</td>\n",
       "      <td>3268495</td>\n",
       "      <td>0</td>\n",
       "      <td>0</td>\n",
       "      <td>3268495</td>\n",
       "      <td>0.0</td>\n",
       "      <td>2229677.05</td>\n",
       "      <td>2126302.0</td>\n",
       "      <td>5171413.0</td>\n",
       "      <td>7.287688e+12</td>\n",
       "    </tr>\n",
       "    <tr>\n",
       "      <th>1</th>\n",
       "      <td>section_id2</td>\n",
       "      <td>str</td>\n",
       "      <td>pd.string</td>\n",
       "      <td>string</td>\n",
       "      <td></td>\n",
       "      <td>False</td>\n",
       "      <td>True</td>\n",
       "      <td>True</td>\n",
       "      <td>True</td>\n",
       "      <td>790.0 B</td>\n",
       "      <td>1</td>\n",
       "      <td>836708</td>\n",
       "      <td>0</td>\n",
       "      <td>2431787</td>\n",
       "      <td>3268495</td>\n",
       "      <td>&amp;c.</td>\n",
       "      <td>NaN</td>\n",
       "      <td>NaN</td>\n",
       "      <td>μm</td>\n",
       "      <td>NaN</td>\n",
       "    </tr>\n",
       "    <tr>\n",
       "      <th>2</th>\n",
       "      <td>merkmal</td>\n",
       "      <td>str</td>\n",
       "      <td>pd.string</td>\n",
       "      <td>string</td>\n",
       "      <td></td>\n",
       "      <td>False</td>\n",
       "      <td>True</td>\n",
       "      <td>True</td>\n",
       "      <td>True</td>\n",
       "      <td>684.0 B</td>\n",
       "      <td>1</td>\n",
       "      <td>36</td>\n",
       "      <td>0</td>\n",
       "      <td>3268459</td>\n",
       "      <td>3268495</td>\n",
       "      <td>Präfix</td>\n",
       "      <td>NaN</td>\n",
       "      <td>NaN</td>\n",
       "      <td>übersicht</td>\n",
       "      <td>NaN</td>\n",
       "    </tr>\n",
       "    <tr>\n",
       "      <th>3</th>\n",
       "      <td>node_debug</td>\n",
       "      <td>str</td>\n",
       "      <td>pd.string</td>\n",
       "      <td>string</td>\n",
       "      <td></td>\n",
       "      <td>False</td>\n",
       "      <td>True</td>\n",
       "      <td>True</td>\n",
       "      <td>True</td>\n",
       "      <td>676.0 B</td>\n",
       "      <td>1</td>\n",
       "      <td>31</td>\n",
       "      <td>11465</td>\n",
       "      <td>3256999</td>\n",
       "      <td>3268495</td>\n",
       "      <td></td>\n",
       "      <td>NaN</td>\n",
       "      <td>NaN</td>\n",
       "      <td>Wortart fehlt</td>\n",
       "      <td>NaN</td>\n",
       "    </tr>\n",
       "    <tr>\n",
       "      <th>4</th>\n",
       "      <td>node_kontext</td>\n",
       "      <td>str</td>\n",
       "      <td>pd.string</td>\n",
       "      <td>string</td>\n",
       "      <td></td>\n",
       "      <td>False</td>\n",
       "      <td>True</td>\n",
       "      <td>True</td>\n",
       "      <td>True</td>\n",
       "      <td>593.0 B</td>\n",
       "      <td>1</td>\n",
       "      <td>235</td>\n",
       "      <td>11465</td>\n",
       "      <td>3256795</td>\n",
       "      <td>3268495</td>\n",
       "      <td></td>\n",
       "      <td>NaN</td>\n",
       "      <td>NaN</td>\n",
       "      <td>Ü</td>\n",
       "      <td>NaN</td>\n",
       "    </tr>\n",
       "    <tr>\n",
       "      <th>5</th>\n",
       "      <td>data</td>\n",
       "      <td>str</td>\n",
       "      <td>pd.string</td>\n",
       "      <td>string</td>\n",
       "      <td></td>\n",
       "      <td>False</td>\n",
       "      <td>True</td>\n",
       "      <td>True</td>\n",
       "      <td>True</td>\n",
       "      <td>756.0 B</td>\n",
       "      <td>1</td>\n",
       "      <td>725566</td>\n",
       "      <td>0</td>\n",
       "      <td>2542929</td>\n",
       "      <td>3268495</td>\n",
       "      <td></td>\n",
       "      <td>NaN</td>\n",
       "      <td>NaN</td>\n",
       "      <td>𒄿𒌑𒃷</td>\n",
       "      <td>NaN</td>\n",
       "    </tr>\n",
       "    <tr>\n",
       "      <th>6</th>\n",
       "      <td>num</td>\n",
       "      <td>str</td>\n",
       "      <td>pd.string</td>\n",
       "      <td>string</td>\n",
       "      <td></td>\n",
       "      <td>False</td>\n",
       "      <td>True</td>\n",
       "      <td>True</td>\n",
       "      <td>True</td>\n",
       "      <td>574.0 B</td>\n",
       "      <td>1</td>\n",
       "      <td>224</td>\n",
       "      <td>0</td>\n",
       "      <td>3268271</td>\n",
       "      <td>3268495</td>\n",
       "      <td></td>\n",
       "      <td>NaN</td>\n",
       "      <td>NaN</td>\n",
       "      <td>9,14</td>\n",
       "      <td>NaN</td>\n",
       "    </tr>\n",
       "    <tr>\n",
       "      <th>7</th>\n",
       "      <td>meta</td>\n",
       "      <td>str</td>\n",
       "      <td>pd.string</td>\n",
       "      <td>string</td>\n",
       "      <td></td>\n",
       "      <td>False</td>\n",
       "      <td>True</td>\n",
       "      <td>True</td>\n",
       "      <td>True</td>\n",
       "      <td>541.0 B</td>\n",
       "      <td>1</td>\n",
       "      <td>18571</td>\n",
       "      <td>1133103</td>\n",
       "      <td>2116821</td>\n",
       "      <td>3268495</td>\n",
       "      <td></td>\n",
       "      <td>NaN</td>\n",
       "      <td>NaN</td>\n",
       "      <td>παθοs</td>\n",
       "      <td>NaN</td>\n",
       "    </tr>\n",
       "  </tbody>\n",
       "</table>\n",
       "</div>"
      ],
      "text/plain": [
       "       col_name datatype_instance   datatype datatype_short datatype_suggest  \\\n",
       "0     __index__             int64   np.int64          int64         np.int32   \n",
       "1   section_id2               str  pd.string         string                    \n",
       "2       merkmal               str  pd.string         string                    \n",
       "3    node_debug               str  pd.string         string                    \n",
       "4  node_kontext               str  pd.string         string                    \n",
       "5          data               str  pd.string         string                    \n",
       "6           num               str  pd.string         string                    \n",
       "7          meta               str  pd.string         string                    \n",
       "\n",
       "   is_numeric  is_string  is_hashable  nan_allowed mem_usage  ntypes  nunique  \\\n",
       "0        True      False         True        False    80.0 B       1  3268495   \n",
       "1       False       True         True         True   790.0 B       1   836708   \n",
       "2       False       True         True         True   684.0 B       1       36   \n",
       "3       False       True         True         True   676.0 B       1       31   \n",
       "4       False       True         True         True   593.0 B       1      235   \n",
       "5       False       True         True         True   756.0 B       1   725566   \n",
       "6       False       True         True         True   574.0 B       1      224   \n",
       "7       False       True         True         True   541.0 B       1    18571   \n",
       "\n",
       "      nnan    ndups        n    vmin       vmean    vmedian           vmax  \\\n",
       "0        0        0  3268495     0.0  2229677.05  2126302.0      5171413.0   \n",
       "1        0  2431787  3268495     &c.         NaN        NaN             μm   \n",
       "2        0  3268459  3268495  Präfix         NaN        NaN      übersicht   \n",
       "3    11465  3256999  3268495                 NaN        NaN  Wortart fehlt   \n",
       "4    11465  3256795  3268495                 NaN        NaN              Ü   \n",
       "5        0  2542929  3268495                 NaN        NaN            𒄿𒌑𒃷   \n",
       "6        0  3268271  3268495                 NaN        NaN           9,14   \n",
       "7  1133103  2116821  3268495                 NaN        NaN          παθοs   \n",
       "\n",
       "           vsum  \n",
       "0  7.287688e+12  \n",
       "1           NaN  \n",
       "2           NaN  \n",
       "3           NaN  \n",
       "4           NaN  \n",
       "5           NaN  \n",
       "6           NaN  \n",
       "7           NaN  "
      ]
     },
     "execution_count": 29,
     "metadata": {},
     "output_type": "execute_result"
    }
   ],
   "source": [
    "pak.analyse_cols(wiktionary_merkmal)"
   ]
  },
  {
   "cell_type": "code",
   "execution_count": 30,
   "metadata": {
    "execution": {
     "iopub.execute_input": "2023-02-20T16:10:23.710359Z",
     "iopub.status.busy": "2023-02-20T16:10:23.710094Z",
     "iopub.status.idle": "2023-02-20T16:10:23.983288Z",
     "shell.execute_reply": "2023-02-20T16:10:23.982586Z",
     "shell.execute_reply.started": "2023-02-20T16:10:23.710337Z"
    }
   },
   "outputs": [],
   "source": [
    "# lemma_lower\n",
    "wiktionary['lemma_lower'] = wiktionary.lemma.str.lower() "
   ]
  },
  {
   "cell_type": "code",
   "execution_count": 31,
   "metadata": {
    "execution": {
     "iopub.execute_input": "2023-02-20T16:10:23.985662Z",
     "iopub.status.busy": "2023-02-20T16:10:23.985392Z",
     "iopub.status.idle": "2023-02-20T16:11:23.228806Z",
     "shell.execute_reply": "2023-02-20T16:11:23.228197Z",
     "shell.execute_reply.started": "2023-02-20T16:10:23.985640Z"
    }
   },
   "outputs": [],
   "source": [
    "# wiktionary: flexion in defaultdict wandeln\n",
    "# 1 min\n",
    "wiktionary = pak.cols_to_defaultdict( wiktionary, col_dict='flexion')"
   ]
  },
  {
   "cell_type": "code",
   "execution_count": 32,
   "metadata": {
    "execution": {
     "iopub.execute_input": "2023-02-20T16:11:23.229799Z",
     "iopub.status.busy": "2023-02-20T16:11:23.229578Z",
     "iopub.status.idle": "2023-02-20T16:11:33.236781Z",
     "shell.execute_reply": "2023-02-20T16:11:33.236123Z",
     "shell.execute_reply.started": "2023-02-20T16:11:23.229778Z"
    }
   },
   "outputs": [],
   "source": [
    "# change_datatype\n",
    "wiktionary = pak.change_datatype(wiktionary, verbose=False)"
   ]
  },
  {
   "cell_type": "code",
   "execution_count": 33,
   "metadata": {
    "execution": {
     "iopub.execute_input": "2023-02-20T16:11:33.237731Z",
     "iopub.status.busy": "2023-02-20T16:11:33.237518Z",
     "iopub.status.idle": "2023-02-20T16:11:33.969589Z",
     "shell.execute_reply": "2023-02-20T16:11:33.968869Z",
     "shell.execute_reply.started": "2023-02-20T16:11:33.237712Z"
    }
   },
   "outputs": [],
   "source": [
    "# section_len >> score\n",
    "wiktionary = pak.rename_col(wiktionary,'section_len','score')\n",
    "\n",
    "# page_part 0 aufwerten\n",
    "mask = (wiktionary.lemma == wiktionary.section_id2)\n",
    "wiktionary.loc[mask,'score'] = wiktionary[mask].score * 3\n",
    "\n",
    "wiktionary['score'] = pak.scale( wiktionary.score, 'compare_median')\n",
    "mask = wiktionary.score < 0.01\n",
    "wiktionary.loc[mask,'score'] += 0.01"
   ]
  },
  {
   "cell_type": "code",
   "execution_count": 34,
   "metadata": {
    "execution": {
     "iopub.execute_input": "2023-02-20T16:11:33.971806Z",
     "iopub.status.busy": "2023-02-20T16:11:33.971544Z",
     "iopub.status.idle": "2023-02-20T16:11:34.040155Z",
     "shell.execute_reply": "2023-02-20T16:11:34.039510Z",
     "shell.execute_reply.started": "2023-02-20T16:11:33.971785Z"
    },
    "tags": []
   },
   "outputs": [
    {
     "data": {
      "text/html": [
       "<div>\n",
       "<style scoped>\n",
       "    .dataframe tbody tr th:only-of-type {\n",
       "        vertical-align: middle;\n",
       "    }\n",
       "\n",
       "    .dataframe tbody tr th {\n",
       "        vertical-align: top;\n",
       "    }\n",
       "\n",
       "    .dataframe thead th {\n",
       "        text-align: right;\n",
       "    }\n",
       "</style>\n",
       "<table border=\"1\" class=\"dataframe\">\n",
       "  <thead>\n",
       "    <tr style=\"text-align: right;\">\n",
       "      <th></th>\n",
       "      <th>item</th>\n",
       "      <th>item_count</th>\n",
       "      <th>item_percent</th>\n",
       "      <th>graph</th>\n",
       "    </tr>\n",
       "  </thead>\n",
       "  <tbody>\n",
       "    <tr>\n",
       "      <th>0</th>\n",
       "      <td>0.0</td>\n",
       "      <td>834568</td>\n",
       "      <td>99.6</td>\n",
       "      <td>#################################################</td>\n",
       "    </tr>\n",
       "    <tr>\n",
       "      <th>1</th>\n",
       "      <td>50.0</td>\n",
       "      <td>2899</td>\n",
       "      <td>0.3</td>\n",
       "      <td></td>\n",
       "    </tr>\n",
       "    <tr>\n",
       "      <th>2</th>\n",
       "      <td>100.0</td>\n",
       "      <td>98</td>\n",
       "      <td>0.0</td>\n",
       "      <td></td>\n",
       "    </tr>\n",
       "    <tr>\n",
       "      <th>3</th>\n",
       "      <td>150.0</td>\n",
       "      <td>18</td>\n",
       "      <td>0.0</td>\n",
       "      <td></td>\n",
       "    </tr>\n",
       "    <tr>\n",
       "      <th>4</th>\n",
       "      <td>250.0</td>\n",
       "      <td>4</td>\n",
       "      <td>0.0</td>\n",
       "      <td></td>\n",
       "    </tr>\n",
       "    <tr>\n",
       "      <th>5</th>\n",
       "      <td>300.0</td>\n",
       "      <td>3</td>\n",
       "      <td>0.0</td>\n",
       "      <td></td>\n",
       "    </tr>\n",
       "    <tr>\n",
       "      <th>6</th>\n",
       "      <td>200.0</td>\n",
       "      <td>3</td>\n",
       "      <td>0.0</td>\n",
       "      <td></td>\n",
       "    </tr>\n",
       "  </tbody>\n",
       "</table>\n",
       "</div>"
      ],
      "text/plain": [
       "    item  item_count  item_percent  \\\n",
       "0    0.0      834568          99.6   \n",
       "1   50.0        2899           0.3   \n",
       "2  100.0          98           0.0   \n",
       "3  150.0          18           0.0   \n",
       "4  250.0           4           0.0   \n",
       "5  300.0           3           0.0   \n",
       "6  200.0           3           0.0   \n",
       "\n",
       "                                               graph  \n",
       "0  #################################################  \n",
       "1                                                     \n",
       "2                                                     \n",
       "3                                                     \n",
       "4                                                     \n",
       "5                                                     \n",
       "6                                                     "
      ]
     },
     "execution_count": 34,
     "metadata": {},
     "output_type": "execute_result"
    }
   ],
   "source": [
    "# Häufigkeiten score\n",
    "pak.analyse_freqs( (wiktionary.score/50).round(0) * 50 )"
   ]
  },
  {
   "cell_type": "code",
   "execution_count": 35,
   "metadata": {
    "execution": {
     "iopub.execute_input": "2023-02-20T16:11:34.041513Z",
     "iopub.status.busy": "2023-02-20T16:11:34.041263Z",
     "iopub.status.idle": "2023-02-20T16:11:34.115169Z",
     "shell.execute_reply": "2023-02-20T16:11:34.114574Z",
     "shell.execute_reply.started": "2023-02-20T16:11:34.041492Z"
    },
    "tags": []
   },
   "outputs": [
    {
     "data": {
      "text/html": [
       "<div>\n",
       "<style scoped>\n",
       "    .dataframe tbody tr th:only-of-type {\n",
       "        vertical-align: middle;\n",
       "    }\n",
       "\n",
       "    .dataframe tbody tr th {\n",
       "        vertical-align: top;\n",
       "    }\n",
       "\n",
       "    .dataframe thead th {\n",
       "        text-align: right;\n",
       "    }\n",
       "</style>\n",
       "<table border=\"1\" class=\"dataframe\">\n",
       "  <thead>\n",
       "    <tr style=\"text-align: right;\">\n",
       "      <th></th>\n",
       "      <th>section_id2</th>\n",
       "      <th>title</th>\n",
       "      <th>lemma</th>\n",
       "      <th>pos</th>\n",
       "      <th>flexion</th>\n",
       "      <th>score</th>\n",
       "    </tr>\n",
       "  </thead>\n",
       "  <tbody>\n",
       "    <tr>\n",
       "      <th>27</th>\n",
       "      <td>ich</td>\n",
       "      <td>ich</td>\n",
       "      <td>ich</td>\n",
       "      <td>{'Pronomen': ['Personalpronomen']}</td>\n",
       "      <td>{}</td>\n",
       "      <td>317.335358</td>\n",
       "    </tr>\n",
       "    <tr>\n",
       "      <th>6315</th>\n",
       "      <td>schwimmen</td>\n",
       "      <td>schwimmen</td>\n",
       "      <td>schwimmen</td>\n",
       "      <td>{'Verb': []}</td>\n",
       "      <td>{'Präsens_ich': ['schwimme'], 'Präsens_du': ['schwimmst'], 'Präsens_er, sie, es': ['schwimmt'], 'Präteritum_ich': ['schwamm'], 'Präteritum_ich*': ['schwomm'], 'Partizip II': ['geschwommen'], 'Konjunktiv II_ich': ['schwämme'], 'Konjunktiv II_ich*': ['schwömme'], 'Imperativ Singular': ['schwimm'], 'Imperativ Plural': ['schwimmt'], 'Hilfsverb': ['sein'], 'Hilfsverb*': ['haben']}</td>\n",
       "      <td>295.165249</td>\n",
       "    </tr>\n",
       "    <tr>\n",
       "      <th>12146</th>\n",
       "      <td>Schnecke</td>\n",
       "      <td>Schnecke</td>\n",
       "      <td>Schnecke</td>\n",
       "      <td>{'Substantiv': []}</td>\n",
       "      <td>{'Genus': ['f'], 'Nominativ Singular': ['Schnecke'], 'Nominativ Plural': ['Schnecken'], 'Genitiv Singular': ['Schnecke'], 'Genitiv Plural': ['Schnecken'], 'Dativ Singular': ['Schnecke'], 'Dativ Plural': ['Schnecken'], 'Akkusativ Singular': ['Schnecke'], 'Akkusativ Plural': ['Schnecken']}</td>\n",
       "      <td>278.63791</td>\n",
       "    </tr>\n",
       "    <tr>\n",
       "      <th>2735</th>\n",
       "      <td>Papagei</td>\n",
       "      <td>Papagei</td>\n",
       "      <td>Papagei</td>\n",
       "      <td>{'Substantiv': []}</td>\n",
       "      <td>{'Genus': ['m'], 'Nominativ Singular': ['Papagei'], 'Nominativ Plural': ['Papageien'], 'Genitiv Singular': ['Papageien'], 'Genitiv Plural': ['Papageien'], 'Dativ Singular': ['Papageien'], 'Dativ Plural': ['Papageien'], 'Akkusativ Singular': ['Papageien'], 'Akkusativ Plural': ['Papageien']}</td>\n",
       "      <td>263.678007</td>\n",
       "    </tr>\n",
       "    <tr>\n",
       "      <th>135</th>\n",
       "      <td>Haus</td>\n",
       "      <td>Haus</td>\n",
       "      <td>Haus</td>\n",
       "      <td>{'Substantiv': []}</td>\n",
       "      <td>{'Genus': ['n'], 'Nominativ Singular': ['Haus'], 'Nominativ Plural': ['Häuser'], 'Genitiv Singular': ['Hauses'], 'Genitiv Plural': ['Häuser'], 'Dativ Singular': ['Haus'], 'Dativ Singular*': ['Hause'], 'Dativ Plural': ['Häusern'], 'Akkusativ Singular': ['Haus'], 'Akkusativ Plural': ['Häuser']}</td>\n",
       "      <td>255.986634</td>\n",
       "    </tr>\n",
       "    <tr>\n",
       "      <th>862</th>\n",
       "      <td>Katze</td>\n",
       "      <td>Katze</td>\n",
       "      <td>Katze</td>\n",
       "      <td>{'Substantiv': []}</td>\n",
       "      <td>{'Genus': ['f'], 'Nominativ Singular': ['Katze'], 'Nominativ Plural': ['Katzen'], 'Genitiv Singular': ['Katze'], 'Genitiv Plural': ['Katzen'], 'Dativ Singular': ['Katze'], 'Dativ Plural': ['Katzen'], 'Akkusativ Singular': ['Katze'], 'Akkusativ Plural': ['Katzen']}</td>\n",
       "      <td>239.488457</td>\n",
       "    </tr>\n",
       "    <tr>\n",
       "      <th>466</th>\n",
       "      <td>Krankenhaus</td>\n",
       "      <td>Krankenhaus</td>\n",
       "      <td>Krankenhaus</td>\n",
       "      <td>{'Substantiv': []}</td>\n",
       "      <td>{'Genus': ['n'], 'Nominativ Singular': ['Krankenhaus'], 'Nominativ Plural': ['Krankenhäuser'], 'Genitiv Singular': ['Krankenhauses'], 'Genitiv Plural': ['Krankenhäuser'], 'Dativ Singular': ['Krankenhaus'], 'Dativ Singular*': ['Krankenhause'], 'Dativ Plural': ['Krankenhäusern'], 'Akkusativ Singular': ['Krankenhaus'], 'Akkusativ Plural': ['Krankenhäuser']}</td>\n",
       "      <td>227.105711</td>\n",
       "    </tr>\n",
       "    <tr>\n",
       "      <th>25582</th>\n",
       "      <td>Synagoge</td>\n",
       "      <td>Synagoge</td>\n",
       "      <td>Synagoge</td>\n",
       "      <td>{'Substantiv': []}</td>\n",
       "      <td>{'Genus': ['f'], 'Nominativ Singular': ['Synagoge'], 'Nominativ Plural': ['Synagogen'], 'Genitiv Singular': ['Synagoge'], 'Genitiv Plural': ['Synagogen'], 'Dativ Singular': ['Synagoge'], 'Dativ Plural': ['Synagogen'], 'Akkusativ Singular': ['Synagoge'], 'Akkusativ Plural': ['Synagogen']}</td>\n",
       "      <td>214.588092</td>\n",
       "    </tr>\n",
       "    <tr>\n",
       "      <th>6139</th>\n",
       "      <td>Esel</td>\n",
       "      <td>Esel</td>\n",
       "      <td>Esel</td>\n",
       "      <td>{'Substantiv': []}</td>\n",
       "      <td>{'Genus': ['m'], 'Nominativ Singular': ['Esel'], 'Nominativ Plural': ['Esel'], 'Genitiv Singular': ['Esels'], 'Genitiv Plural': ['Esel'], 'Dativ Singular': ['Esel'], 'Dativ Plural': ['Eseln'], 'Akkusativ Singular': ['Esel'], 'Akkusativ Plural': ['Esel']}</td>\n",
       "      <td>208.62819</td>\n",
       "    </tr>\n",
       "  </tbody>\n",
       "</table>\n",
       "</div>"
      ],
      "text/plain": [
       "       section_id2        title        lemma  \\\n",
       "27             ich          ich          ich   \n",
       "6315     schwimmen    schwimmen    schwimmen   \n",
       "12146     Schnecke     Schnecke     Schnecke   \n",
       "2735       Papagei      Papagei      Papagei   \n",
       "135           Haus         Haus         Haus   \n",
       "862          Katze        Katze        Katze   \n",
       "466    Krankenhaus  Krankenhaus  Krankenhaus   \n",
       "25582     Synagoge     Synagoge     Synagoge   \n",
       "6139          Esel         Esel         Esel   \n",
       "\n",
       "                                      pos  \\\n",
       "27     {'Pronomen': ['Personalpronomen']}   \n",
       "6315                         {'Verb': []}   \n",
       "12146                  {'Substantiv': []}   \n",
       "2735                   {'Substantiv': []}   \n",
       "135                    {'Substantiv': []}   \n",
       "862                    {'Substantiv': []}   \n",
       "466                    {'Substantiv': []}   \n",
       "25582                  {'Substantiv': []}   \n",
       "6139                   {'Substantiv': []}   \n",
       "\n",
       "                                                                                                                                                                                                                                                                                                                                                                                          flexion  \\\n",
       "27                                                                                                                                                                                                                                                                                                                                                                                             {}   \n",
       "6315   {'Präsens_ich': ['schwimme'], 'Präsens_du': ['schwimmst'], 'Präsens_er, sie, es': ['schwimmt'], 'Präteritum_ich': ['schwamm'], 'Präteritum_ich*': ['schwomm'], 'Partizip II': ['geschwommen'], 'Konjunktiv II_ich': ['schwämme'], 'Konjunktiv II_ich*': ['schwömme'], 'Imperativ Singular': ['schwimm'], 'Imperativ Plural': ['schwimmt'], 'Hilfsverb': ['sein'], 'Hilfsverb*': ['haben']}   \n",
       "12146                                                                                            {'Genus': ['f'], 'Nominativ Singular': ['Schnecke'], 'Nominativ Plural': ['Schnecken'], 'Genitiv Singular': ['Schnecke'], 'Genitiv Plural': ['Schnecken'], 'Dativ Singular': ['Schnecke'], 'Dativ Plural': ['Schnecken'], 'Akkusativ Singular': ['Schnecke'], 'Akkusativ Plural': ['Schnecken']}   \n",
       "2735                                                                                           {'Genus': ['m'], 'Nominativ Singular': ['Papagei'], 'Nominativ Plural': ['Papageien'], 'Genitiv Singular': ['Papageien'], 'Genitiv Plural': ['Papageien'], 'Dativ Singular': ['Papageien'], 'Dativ Plural': ['Papageien'], 'Akkusativ Singular': ['Papageien'], 'Akkusativ Plural': ['Papageien']}   \n",
       "135                                                                                         {'Genus': ['n'], 'Nominativ Singular': ['Haus'], 'Nominativ Plural': ['Häuser'], 'Genitiv Singular': ['Hauses'], 'Genitiv Plural': ['Häuser'], 'Dativ Singular': ['Haus'], 'Dativ Singular*': ['Hause'], 'Dativ Plural': ['Häusern'], 'Akkusativ Singular': ['Haus'], 'Akkusativ Plural': ['Häuser']}   \n",
       "862                                                                                                                      {'Genus': ['f'], 'Nominativ Singular': ['Katze'], 'Nominativ Plural': ['Katzen'], 'Genitiv Singular': ['Katze'], 'Genitiv Plural': ['Katzen'], 'Dativ Singular': ['Katze'], 'Dativ Plural': ['Katzen'], 'Akkusativ Singular': ['Katze'], 'Akkusativ Plural': ['Katzen']}   \n",
       "466                          {'Genus': ['n'], 'Nominativ Singular': ['Krankenhaus'], 'Nominativ Plural': ['Krankenhäuser'], 'Genitiv Singular': ['Krankenhauses'], 'Genitiv Plural': ['Krankenhäuser'], 'Dativ Singular': ['Krankenhaus'], 'Dativ Singular*': ['Krankenhause'], 'Dativ Plural': ['Krankenhäusern'], 'Akkusativ Singular': ['Krankenhaus'], 'Akkusativ Plural': ['Krankenhäuser']}   \n",
       "25582                                                                                            {'Genus': ['f'], 'Nominativ Singular': ['Synagoge'], 'Nominativ Plural': ['Synagogen'], 'Genitiv Singular': ['Synagoge'], 'Genitiv Plural': ['Synagogen'], 'Dativ Singular': ['Synagoge'], 'Dativ Plural': ['Synagogen'], 'Akkusativ Singular': ['Synagoge'], 'Akkusativ Plural': ['Synagogen']}   \n",
       "6139                                                                                                                               {'Genus': ['m'], 'Nominativ Singular': ['Esel'], 'Nominativ Plural': ['Esel'], 'Genitiv Singular': ['Esels'], 'Genitiv Plural': ['Esel'], 'Dativ Singular': ['Esel'], 'Dativ Plural': ['Eseln'], 'Akkusativ Singular': ['Esel'], 'Akkusativ Plural': ['Esel']}   \n",
       "\n",
       "            score  \n",
       "27     317.335358  \n",
       "6315   295.165249  \n",
       "12146   278.63791  \n",
       "2735   263.678007  \n",
       "135    255.986634  \n",
       "862    239.488457  \n",
       "466    227.105711  \n",
       "25582  214.588092  \n",
       "6139    208.62819  "
      ]
     },
     "execution_count": 35,
     "metadata": {},
     "output_type": "execute_result"
    }
   ],
   "source": [
    "# Einträge mit dem höchsten Score\n",
    "mask = wiktionary.score > 200\n",
    "a = wiktionary[mask].sort_values('score',ascending=False)\n",
    "spalten = ['section_id2','title','lemma','pos','flexion','score']\n",
    "a[spalten]"
   ]
  },
  {
   "cell_type": "code",
   "execution_count": 36,
   "metadata": {
    "execution": {
     "iopub.execute_input": "2023-02-20T16:11:34.116775Z",
     "iopub.status.busy": "2023-02-20T16:11:34.116149Z",
     "iopub.status.idle": "2023-02-20T16:11:34.152322Z",
     "shell.execute_reply": "2023-02-20T16:11:34.151421Z",
     "shell.execute_reply.started": "2023-02-20T16:11:34.116749Z"
    }
   },
   "outputs": [],
   "source": [
    "#grid(wiktionary, pak.sample)"
   ]
  },
  {
   "cell_type": "markdown",
   "metadata": {},
   "source": [
    "## Steuertabellen laden"
   ]
  },
  {
   "cell_type": "code",
   "execution_count": 37,
   "metadata": {
    "execution": {
     "iopub.execute_input": "2023-02-20T16:11:34.157401Z",
     "iopub.status.busy": "2023-02-20T16:11:34.153158Z",
     "iopub.status.idle": "2023-02-20T16:11:34.201244Z",
     "shell.execute_reply": "2023-02-20T16:11:34.200481Z",
     "shell.execute_reply.started": "2023-02-20T16:11:34.157363Z"
    }
   },
   "outputs": [
    {
     "name": "stdout",
     "output_type": "stream",
     "text": [
      "<class 'IPython.core.display.Markdown'>\n"
     ]
    },
    {
     "data": {
      "text/markdown": [
       "<span style=\"font-size:larger;\">plan_merkmal_erstellen():</span>\n",
       "\n",
       "* definiert in Steuertabellen/s01_Steuertabellen.py\n",
       "* `merkmal`: Name des Merkmals\n",
       "* `template`: Name des Mediawiki-Templates, das diese Information enthält\n",
       "* `collect`: Extractionsmethode\n",
       "   * L extrahiert nur Links \n",
       "   * T extrahiert komplette Text-Absätze\n",
       "   * Ü extrahiert Übersetzungen\n",
       "   * P extrahiert Template-Parameter (Substring reicht)\n",
       "   * E checkt nur auf Existenz\n",
       "* `plan`:\n",
       "   * 1: die Merkmale, die in wiktionary_merkmal gespeichert werden\n",
       "   * 2: die Merkmale, die in wiktionary_merkmal_text gespeichert werden   \n",
       "   * 3: Reihenfolge und Liste aller Merkmale aus flexion / übersicht <br>\n",
       "        sowie die Merkmale aus named_entities und lexeme_manuell\n",
       "* `sort`: Irgendwas zum Sortieren der Merkmale\n",
       "* `is_lex`: Ist das Merkmal ein Lexem?    "
      ],
      "text/plain": [
       "<IPython.core.display.Markdown object>"
      ]
     },
     "metadata": {},
     "output_type": "display_data"
    }
   ],
   "source": [
    "blab.help(plan_merkmal_erstellen)"
   ]
  },
  {
   "cell_type": "code",
   "execution_count": 38,
   "metadata": {
    "execution": {
     "iopub.execute_input": "2023-02-20T16:11:34.202210Z",
     "iopub.status.busy": "2023-02-20T16:11:34.201967Z",
     "iopub.status.idle": "2023-02-20T16:11:34.370059Z",
     "shell.execute_reply": "2023-02-20T16:11:34.369414Z",
     "shell.execute_reply.started": "2023-02-20T16:11:34.202189Z"
    }
   },
   "outputs": [
    {
     "data": {
      "text/html": [
       "<div>\n",
       "<style scoped>\n",
       "    .dataframe tbody tr th:only-of-type {\n",
       "        vertical-align: middle;\n",
       "    }\n",
       "\n",
       "    .dataframe tbody tr th {\n",
       "        vertical-align: top;\n",
       "    }\n",
       "\n",
       "    .dataframe thead th {\n",
       "        text-align: right;\n",
       "    }\n",
       "</style>\n",
       "<table border=\"1\" class=\"dataframe\">\n",
       "  <thead>\n",
       "    <tr style=\"text-align: right;\">\n",
       "      <th></th>\n",
       "      <th>merkmal</th>\n",
       "      <th>template</th>\n",
       "      <th>collect</th>\n",
       "      <th>plan</th>\n",
       "      <th>sort</th>\n",
       "      <th>is_lex</th>\n",
       "    </tr>\n",
       "  </thead>\n",
       "  <tbody>\n",
       "    <tr>\n",
       "      <th>0</th>\n",
       "      <td>noSteig</td>\n",
       "      <td>kSt.</td>\n",
       "      <td>E</td>\n",
       "      <td>1</td>\n",
       "      <td></td>\n",
       "      <td>False</td>\n",
       "    </tr>\n",
       "    <tr>\n",
       "      <th>12</th>\n",
       "      <td>def</td>\n",
       "      <td>Bedeutungen</td>\n",
       "      <td>L</td>\n",
       "      <td>1</td>\n",
       "      <td></td>\n",
       "      <td>False</td>\n",
       "    </tr>\n",
       "    <tr>\n",
       "      <th>17</th>\n",
       "      <td>klein</td>\n",
       "      <td>Verkleinerungsformen</td>\n",
       "      <td>L</td>\n",
       "      <td>1</td>\n",
       "      <td></td>\n",
       "      <td>True</td>\n",
       "    </tr>\n",
       "    <tr>\n",
       "      <th>102</th>\n",
       "      <td>syllables</td>\n",
       "      <td></td>\n",
       "      <td></td>\n",
       "      <td>3</td>\n",
       "      <td>z1 syllables</td>\n",
       "      <td>False</td>\n",
       "    </tr>\n",
       "  </tbody>\n",
       "</table>\n",
       "</div>"
      ],
      "text/plain": [
       "       merkmal              template collect  plan          sort  is_lex\n",
       "0      noSteig                  kSt.       E     1                 False\n",
       "12         def           Bedeutungen       L     1                 False\n",
       "17       klein  Verkleinerungsformen       L     1                  True\n",
       "102  syllables                                   3  z1 syllables   False"
      ]
     },
     "execution_count": 38,
     "metadata": {},
     "output_type": "execute_result"
    }
   ],
   "source": [
    "# plan_merkmal Steuertabelle\n",
    "try:\n",
    "    del plan_merkmal\n",
    "except:\n",
    "    pass\n",
    "\n",
    "from Steuertabellen.s01_Steuertabellen import *\n",
    "plan_merkmal = plan_merkmal_erstellen()\n",
    "#grid(plan_merkmal)\n",
    "pak.sample(plan_merkmal)"
   ]
  },
  {
   "cell_type": "code",
   "execution_count": 39,
   "metadata": {
    "execution": {
     "iopub.execute_input": "2023-02-20T16:11:34.371099Z",
     "iopub.status.busy": "2023-02-20T16:11:34.370836Z",
     "iopub.status.idle": "2023-02-20T16:11:34.485057Z",
     "shell.execute_reply": "2023-02-20T16:11:34.483546Z",
     "shell.execute_reply.started": "2023-02-20T16:11:34.371078Z"
    }
   },
   "outputs": [
    {
     "data": {
      "text/html": [
       "<div>\n",
       "<style scoped>\n",
       "    .dataframe tbody tr th:only-of-type {\n",
       "        vertical-align: middle;\n",
       "    }\n",
       "\n",
       "    .dataframe tbody tr th {\n",
       "        vertical-align: top;\n",
       "    }\n",
       "\n",
       "    .dataframe thead th {\n",
       "        text-align: right;\n",
       "    }\n",
       "</style>\n",
       "<table border=\"1\" class=\"dataframe\">\n",
       "  <thead>\n",
       "    <tr style=\"text-align: right;\">\n",
       "      <th></th>\n",
       "      <th>quelle</th>\n",
       "      <th>ziel</th>\n",
       "      <th>notiz</th>\n",
       "    </tr>\n",
       "  </thead>\n",
       "  <tbody>\n",
       "    <tr>\n",
       "      <th>0</th>\n",
       "      <td>Konjugierte_Form</td>\n",
       "      <td>LEX_V</td>\n",
       "      <td>Keine Grundform</td>\n",
       "    </tr>\n",
       "    <tr>\n",
       "      <th>76</th>\n",
       "      <td>Präfix</td>\n",
       "      <td>TRUNC</td>\n",
       "      <td>Wortartenlisten</td>\n",
       "    </tr>\n",
       "    <tr>\n",
       "      <th>100</th>\n",
       "      <td>LEX_V LEX_V</td>\n",
       "      <td>LEX_V</td>\n",
       "      <td>Vorrang Durchlauf2</td>\n",
       "    </tr>\n",
       "    <tr>\n",
       "      <th>176</th>\n",
       "      <td>ADJA ADJA</td>\n",
       "      <td>ADJA</td>\n",
       "      <td>Doppelung1</td>\n",
       "    </tr>\n",
       "    <tr>\n",
       "      <th>201</th>\n",
       "      <td>Vergleichspartikel</td>\n",
       "      <td></td>\n",
       "      <td>löschmich</td>\n",
       "    </tr>\n",
       "  </tbody>\n",
       "</table>\n",
       "</div>"
      ],
      "text/plain": [
       "                 quelle   ziel               notiz\n",
       "0      Konjugierte_Form  LEX_V     Keine Grundform\n",
       "76               Präfix  TRUNC     Wortartenlisten\n",
       "100         LEX_V LEX_V  LEX_V  Vorrang Durchlauf2\n",
       "176           ADJA ADJA   ADJA          Doppelung1\n",
       "201  Vergleichspartikel                  löschmich"
      ]
     },
     "execution_count": 39,
     "metadata": {},
     "output_type": "execute_result"
    }
   ],
   "source": [
    "# translate_tag: Wortarten >> tags\n",
    "\n",
    "try:\n",
    "    del translate_tag\n",
    "except:\n",
    "    pass\n",
    "\n",
    "from Steuertabellen.s01_Steuertabellen import *\n",
    "#grid(translate_tag)\n",
    "pak.sample(translate_tag)"
   ]
  },
  {
   "cell_type": "code",
   "execution_count": 40,
   "metadata": {
    "execution": {
     "iopub.execute_input": "2023-02-20T16:11:34.487303Z",
     "iopub.status.busy": "2023-02-20T16:11:34.486944Z",
     "iopub.status.idle": "2023-02-20T16:11:34.619627Z",
     "shell.execute_reply": "2023-02-20T16:11:34.619025Z",
     "shell.execute_reply.started": "2023-02-20T16:11:34.487280Z"
    }
   },
   "outputs": [
    {
     "data": {
      "text/html": [
       "<div>\n",
       "<style scoped>\n",
       "    .dataframe tbody tr th:only-of-type {\n",
       "        vertical-align: middle;\n",
       "    }\n",
       "\n",
       "    .dataframe tbody tr th {\n",
       "        vertical-align: top;\n",
       "    }\n",
       "\n",
       "    .dataframe thead th {\n",
       "        text-align: right;\n",
       "    }\n",
       "</style>\n",
       "<table border=\"1\" class=\"dataframe\">\n",
       "  <thead>\n",
       "    <tr style=\"text-align: right;\">\n",
       "      <th></th>\n",
       "      <th>tag</th>\n",
       "      <th>wortart_lang</th>\n",
       "      <th>tagZ</th>\n",
       "      <th>tagZZ</th>\n",
       "      <th>is_mutable</th>\n",
       "      <th>to_lemma</th>\n",
       "    </tr>\n",
       "  </thead>\n",
       "  <tbody>\n",
       "    <tr>\n",
       "      <th>0</th>\n",
       "      <td>AFIX</td>\n",
       "      <td>Präfix</td>\n",
       "      <td>FIX</td>\n",
       "      <td>Z</td>\n",
       "      <td>False</td>\n",
       "      <td>W</td>\n",
       "    </tr>\n",
       "    <tr>\n",
       "      <th>12</th>\n",
       "      <td>VVIZU</td>\n",
       "      <td>Verb</td>\n",
       "      <td>VER</td>\n",
       "      <td>V</td>\n",
       "      <td>True</td>\n",
       "      <td>V</td>\n",
       "    </tr>\n",
       "    <tr>\n",
       "      <th>24</th>\n",
       "      <td>PPER</td>\n",
       "      <td>Personalpronomen</td>\n",
       "      <td>PRO</td>\n",
       "      <td>P</td>\n",
       "      <td>True</td>\n",
       "      <td>W</td>\n",
       "    </tr>\n",
       "    <tr>\n",
       "      <th>53</th>\n",
       "      <td>$(</td>\n",
       "      <td>Satzzeichen</td>\n",
       "      <td>SYM</td>\n",
       "      <td>Y</td>\n",
       "      <td>False</td>\n",
       "      <td>W</td>\n",
       "    </tr>\n",
       "    <tr>\n",
       "      <th>61</th>\n",
       "      <td>TODO</td>\n",
       "      <td>(todo!)</td>\n",
       "      <td>X_todo</td>\n",
       "      <td>X</td>\n",
       "      <td>False</td>\n",
       "      <td>W</td>\n",
       "    </tr>\n",
       "  </tbody>\n",
       "</table>\n",
       "</div>"
      ],
      "text/plain": [
       "      tag      wortart_lang    tagZ tagZZ is_mutable to_lemma\n",
       "0    AFIX            Präfix     FIX     Z      False        W\n",
       "12  VVIZU              Verb     VER     V       True        V\n",
       "24   PPER  Personalpronomen     PRO     P       True        W\n",
       "53     $(       Satzzeichen     SYM     Y      False        W\n",
       "61   TODO           (todo!)  X_todo     X      False        W"
      ]
     },
     "execution_count": 40,
     "metadata": {},
     "output_type": "execute_result"
    }
   ],
   "source": [
    "# translate_tagZ: tag >> tagZ und tagZZ\n",
    "\n",
    "try:\n",
    "    del translate_tagZ\n",
    "except:\n",
    "    pass\n",
    "\n",
    "from Steuertabellen.s01_Steuertabellen import *\n",
    "#grid(translate_tagZ)\n",
    "pak.sample(translate_tagZ)"
   ]
  },
  {
   "cell_type": "code",
   "execution_count": 41,
   "metadata": {
    "execution": {
     "iopub.execute_input": "2023-02-20T16:11:34.620868Z",
     "iopub.status.busy": "2023-02-20T16:11:34.620632Z",
     "iopub.status.idle": "2023-02-20T16:11:35.505278Z",
     "shell.execute_reply": "2023-02-20T16:11:35.504475Z",
     "shell.execute_reply.started": "2023-02-20T16:11:34.620847Z"
    }
   },
   "outputs": [
    {
     "name": "stdout",
     "output_type": "stream",
     "text": [
      "106 rows loaded\n",
      "Delete 29 rows from 106\n"
     ]
    },
    {
     "data": {
      "text/html": [
       "<div>\n",
       "<style scoped>\n",
       "    .dataframe tbody tr th:only-of-type {\n",
       "        vertical-align: middle;\n",
       "    }\n",
       "\n",
       "    .dataframe tbody tr th {\n",
       "        vertical-align: top;\n",
       "    }\n",
       "\n",
       "    .dataframe thead th {\n",
       "        text-align: right;\n",
       "    }\n",
       "</style>\n",
       "<table border=\"1\" class=\"dataframe\">\n",
       "  <thead>\n",
       "    <tr style=\"text-align: right;\">\n",
       "      <th></th>\n",
       "      <th>level</th>\n",
       "      <th>lemma</th>\n",
       "      <th>tag_soll</th>\n",
       "      <th>member_soll</th>\n",
       "      <th>check_tag</th>\n",
       "    </tr>\n",
       "  </thead>\n",
       "  <tbody>\n",
       "    <tr>\n",
       "      <th>0</th>\n",
       "      <td>1</td>\n",
       "      <td>entlassen</td>\n",
       "      <td>VVFIN</td>\n",
       "      <td></td>\n",
       "      <td></td>\n",
       "    </tr>\n",
       "    <tr>\n",
       "      <th>3</th>\n",
       "      <td>1</td>\n",
       "      <td>…</td>\n",
       "      <td>$(</td>\n",
       "      <td>manuell</td>\n",
       "      <td></td>\n",
       "    </tr>\n",
       "    <tr>\n",
       "      <th>4</th>\n",
       "      <td>1</td>\n",
       "      <td>Ackermann</td>\n",
       "      <td>NE</td>\n",
       "      <td>Person_nachname</td>\n",
       "      <td></td>\n",
       "    </tr>\n",
       "    <tr>\n",
       "      <th>8</th>\n",
       "      <td>0</td>\n",
       "      <td>auspowern</td>\n",
       "      <td>VVFIN</td>\n",
       "      <td></td>\n",
       "      <td></td>\n",
       "    </tr>\n",
       "    <tr>\n",
       "      <th>23</th>\n",
       "      <td>1</td>\n",
       "      <td>Europa</td>\n",
       "      <td>NE</td>\n",
       "      <td>Geo</td>\n",
       "      <td></td>\n",
       "    </tr>\n",
       "    <tr>\n",
       "      <th>53</th>\n",
       "      <td>1</td>\n",
       "      <td>vergleichen</td>\n",
       "      <td>VVIMP</td>\n",
       "      <td></td>\n",
       "      <td></td>\n",
       "    </tr>\n",
       "    <tr>\n",
       "      <th>65</th>\n",
       "      <td>1</td>\n",
       "      <td>modern</td>\n",
       "      <td>VVFIN</td>\n",
       "      <td></td>\n",
       "      <td></td>\n",
       "    </tr>\n",
       "  </tbody>\n",
       "</table>\n",
       "</div>"
      ],
      "text/plain": [
       "    level        lemma tag_soll      member_soll check_tag\n",
       "0       1    entlassen    VVFIN                           \n",
       "3       1            …       $(          manuell          \n",
       "4       1    Ackermann       NE  Person_nachname          \n",
       "8       0    auspowern    VVFIN                           \n",
       "23      1       Europa       NE              Geo          \n",
       "53      1  vergleichen    VVIMP                           \n",
       "65      1       modern    VVFIN                           "
      ]
     },
     "execution_count": 41,
     "metadata": {},
     "output_type": "execute_result"
    }
   ],
   "source": [
    "# lex_test, lemma_test\n",
    "lex_test, lemma_test = lade_lex_text( lex_test_filename, level=1)\n",
    "#grid(lemma_test)\n",
    "pak.sample(lemma_test)"
   ]
  },
  {
   "cell_type": "markdown",
   "metadata": {},
   "source": [
    "## Löschliste\n",
    "* Excel-Datei aufbereiten\n",
    "* wiktionary belöschen\n",
    "* wiktionary_merkmal belöschen\n",
    "* Falls löschliste und lexeme_manuell in Konflikt stehen, siegt lexeme_manuell. Es wird erst gelöscht und dann manuell ergänzt."
   ]
  },
  {
   "cell_type": "code",
   "execution_count": 42,
   "metadata": {
    "execution": {
     "iopub.execute_input": "2023-02-20T16:11:35.507000Z",
     "iopub.status.busy": "2023-02-20T16:11:35.506354Z",
     "iopub.status.idle": "2023-02-20T16:11:35.621395Z",
     "shell.execute_reply": "2023-02-20T16:11:35.620064Z",
     "shell.execute_reply.started": "2023-02-20T16:11:35.506973Z"
    }
   },
   "outputs": [
    {
     "name": "stdout",
     "output_type": "stream",
     "text": [
      "379 rows loaded\n"
     ]
    }
   ],
   "source": [
    "# Laden\n",
    "löschliste = pak.load_excel( löschliste_filename )"
   ]
  },
  {
   "cell_type": "code",
   "execution_count": 43,
   "metadata": {
    "execution": {
     "iopub.execute_input": "2023-02-20T16:11:35.623432Z",
     "iopub.status.busy": "2023-02-20T16:11:35.622922Z",
     "iopub.status.idle": "2023-02-20T16:11:35.666360Z",
     "shell.execute_reply": "2023-02-20T16:11:35.665795Z",
     "shell.execute_reply.started": "2023-02-20T16:11:35.623385Z"
    }
   },
   "outputs": [
    {
     "name": "stdout",
     "output_type": "stream",
     "text": [
      "check_mask:  0 rows\n",
      "\u001b[1m\u001b[7m\u001b[32mNo rows, mask filters them all away\u001b[0m\n"
     ]
    }
   ],
   "source": [
    "# Format prüfen\n",
    "löschliste['check'] = löschliste.isnull().sum(axis=1)\n",
    "mask = löschliste.check != 2\n",
    "error = check_mask(löschliste,mask,0, stop=False)\n",
    "grid(löschliste,mask, color='green')"
   ]
  },
  {
   "cell_type": "code",
   "execution_count": 44,
   "metadata": {
    "execution": {
     "iopub.execute_input": "2023-02-20T16:11:35.667471Z",
     "iopub.status.busy": "2023-02-20T16:11:35.667242Z",
     "iopub.status.idle": "2023-02-20T16:11:35.704484Z",
     "shell.execute_reply": "2023-02-20T16:11:35.703891Z",
     "shell.execute_reply.started": "2023-02-20T16:11:35.667450Z"
    }
   },
   "outputs": [],
   "source": [
    "löschliste = pak.drop_cols(löschliste,'check')\n",
    "bpy.raise_if(error)"
   ]
  },
  {
   "cell_type": "code",
   "execution_count": 45,
   "metadata": {
    "execution": {
     "iopub.execute_input": "2023-02-20T16:11:35.705747Z",
     "iopub.status.busy": "2023-02-20T16:11:35.705505Z",
     "iopub.status.idle": "2023-02-20T16:11:35.754838Z",
     "shell.execute_reply": "2023-02-20T16:11:35.752190Z",
     "shell.execute_reply.started": "2023-02-20T16:11:35.705725Z"
    }
   },
   "outputs": [],
   "source": [
    "# Einzelne löschlisten\n",
    "\n",
    "mask = löschliste.section_id2.notnull()\n",
    "löschliste_section_id2 = list(löschliste[mask].drop_duplicates().section_id2)\n",
    "\n",
    "mask = löschliste.lemma.notnull()\n",
    "löschliste_lemma = list(löschliste[mask].drop_duplicates().lemma)\n",
    "\n",
    "mask = löschliste.lex.notnull()\n",
    "löschliste_lex = list(löschliste[mask].drop_duplicates().lex)\n",
    "löschliste_lex += löschliste_lemma"
   ]
  },
  {
   "cell_type": "code",
   "execution_count": 46,
   "metadata": {
    "execution": {
     "iopub.execute_input": "2023-02-20T16:11:35.757022Z",
     "iopub.status.busy": "2023-02-20T16:11:35.756582Z",
     "iopub.status.idle": "2023-02-20T16:11:36.049664Z",
     "shell.execute_reply": "2023-02-20T16:11:36.049068Z",
     "shell.execute_reply.started": "2023-02-20T16:11:35.756998Z"
    }
   },
   "outputs": [],
   "source": [
    "# löschliste_lemma nach löschliste_section_id2 übertragen\n",
    "mask1 =  wiktionary.title.isin(löschliste_lemma)   &   (wiktionary.title == wiktionary.lemma)\n",
    "mask2 = ~wiktionary.section_id2.isin(löschliste_section_id2)\n",
    "mask = mask1  &  mask2\n",
    "#wiktionary[mask]\n",
    "löschliste_section_id2 += list(wiktionary[mask].section_id2)"
   ]
  },
  {
   "cell_type": "code",
   "execution_count": 47,
   "metadata": {
    "execution": {
     "iopub.execute_input": "2023-02-20T16:11:36.051829Z",
     "iopub.status.busy": "2023-02-20T16:11:36.051560Z",
     "iopub.status.idle": "2023-02-20T16:11:36.960085Z",
     "shell.execute_reply": "2023-02-20T16:11:36.959460Z",
     "shell.execute_reply.started": "2023-02-20T16:11:36.051807Z"
    }
   },
   "outputs": [
    {
     "name": "stdout",
     "output_type": "stream",
     "text": [
      "Move 288 rows from 837593\n"
     ]
    }
   ],
   "source": [
    "# wiktionary belöschen nach section_id2\n",
    "mask = wiktionary.section_id2.isin(löschliste_section_id2)   \n",
    "wiktionary, wiktionary_trash = pak.move_rows( df_from=wiktionary, df_to=wiktionary_trash, mask=mask, msg='löschliste_section_id2' )       # Löschen"
   ]
  },
  {
   "cell_type": "code",
   "execution_count": 48,
   "metadata": {
    "execution": {
     "iopub.execute_input": "2023-02-20T16:11:36.961102Z",
     "iopub.status.busy": "2023-02-20T16:11:36.960863Z",
     "iopub.status.idle": "2023-02-20T16:11:37.811086Z",
     "shell.execute_reply": "2023-02-20T16:11:37.810444Z",
     "shell.execute_reply.started": "2023-02-20T16:11:36.961081Z"
    }
   },
   "outputs": [
    {
     "name": "stdout",
     "output_type": "stream",
     "text": [
      "Move 51 rows from 837305\n"
     ]
    }
   ],
   "source": [
    "# wiktionary belöschen nach lex\n",
    "mask = wiktionary.title.isin(löschliste_lex)   \n",
    "wiktionary, wiktionary_trash = pak.move_rows( df_from=wiktionary, df_to=wiktionary_trash, mask=mask, msg='löschliste_lex' )       # Löschen"
   ]
  },
  {
   "cell_type": "code",
   "execution_count": 49,
   "metadata": {
    "execution": {
     "iopub.execute_input": "2023-02-20T16:11:37.812914Z",
     "iopub.status.busy": "2023-02-20T16:11:37.812659Z",
     "iopub.status.idle": "2023-02-20T16:11:39.688583Z",
     "shell.execute_reply": "2023-02-20T16:11:39.684892Z",
     "shell.execute_reply.started": "2023-02-20T16:11:37.812891Z"
    }
   },
   "outputs": [
    {
     "name": "stdout",
     "output_type": "stream",
     "text": [
      "Move 3563 rows from 3268495\n",
      "13 rows out of 3563\n"
     ]
    },
    {
     "data": {
      "text/html": [
       "<div>\n",
       "<style scoped>\n",
       "    .dataframe tbody tr th:only-of-type {\n",
       "        vertical-align: middle;\n",
       "    }\n",
       "\n",
       "    .dataframe tbody tr th {\n",
       "        vertical-align: top;\n",
       "    }\n",
       "\n",
       "    .dataframe thead th {\n",
       "        text-align: right;\n",
       "    }\n",
       "</style>\n",
       "<table border=\"1\" class=\"dataframe\">\n",
       "  <thead>\n",
       "    <tr style=\"text-align: right;\">\n",
       "      <th></th>\n",
       "      <th>section_id2</th>\n",
       "      <th>merkmal</th>\n",
       "      <th>node_debug</th>\n",
       "      <th>node_kontext</th>\n",
       "      <th>data</th>\n",
       "      <th>num</th>\n",
       "      <th>meta</th>\n",
       "      <th>msg</th>\n",
       "    </tr>\n",
       "  </thead>\n",
       "  <tbody>\n",
       "    <tr>\n",
       "      <th>446</th>\n",
       "      <td>April_1</td>\n",
       "      <td>istName</td>\n",
       "      <td>&lt;NA&gt;</td>\n",
       "      <td>&lt;NA&gt;</td>\n",
       "      <td>exists</td>\n",
       "      <td></td>\n",
       "      <td>&lt;NA&gt;</td>\n",
       "      <td>löschliste_section_id2</td>\n",
       "    </tr>\n",
       "    <tr>\n",
       "      <th>5236</th>\n",
       "      <td>Mutter_2</td>\n",
       "      <td>übersicht</td>\n",
       "      <td>Deutsch Substantiv Übersicht</td>\n",
       "      <td>Nominativ Plural</td>\n",
       "      <td>—</td>\n",
       "      <td></td>\n",
       "      <td>&lt;NA&gt;</td>\n",
       "      <td>löschliste_section_id2</td>\n",
       "    </tr>\n",
       "    <tr>\n",
       "      <th>5962</th>\n",
       "      <td>Boot_1</td>\n",
       "      <td>herkunft</td>\n",
       "      <td></td>\n",
       "      <td>Ü</td>\n",
       "      <td>boot</td>\n",
       "      <td></td>\n",
       "      <td></td>\n",
       "      <td>löschliste_section_id2</td>\n",
       "    </tr>\n",
       "    <tr>\n",
       "      <th>81347</th>\n",
       "      <td>spulgen</td>\n",
       "      <td>übersicht</td>\n",
       "      <td>Deutsch Verb Übersicht</td>\n",
       "      <td>Präteritum_ich</td>\n",
       "      <td></td>\n",
       "      <td></td>\n",
       "      <td>&lt;NA&gt;</td>\n",
       "      <td>löschliste_section_id2</td>\n",
       "    </tr>\n",
       "    <tr>\n",
       "      <th>344673</th>\n",
       "      <td>ABl.EG</td>\n",
       "      <td>def</td>\n",
       "      <td></td>\n",
       "      <td></td>\n",
       "      <td>Amtsblatt der Europäischen Gemeinschaft</td>\n",
       "      <td>1</td>\n",
       "      <td></td>\n",
       "      <td>löschliste_section_id2</td>\n",
       "    </tr>\n",
       "    <tr>\n",
       "      <th>479758</th>\n",
       "      <td>daselbst</td>\n",
       "      <td>abk</td>\n",
       "      <td></td>\n",
       "      <td></td>\n",
       "      <td>das</td>\n",
       "      <td>1</td>\n",
       "      <td></td>\n",
       "      <td>löschliste_section_id2</td>\n",
       "    </tr>\n",
       "    <tr>\n",
       "      <th>592682</th>\n",
       "      <td>festkehren</td>\n",
       "      <td>übersicht</td>\n",
       "      <td>Deutsch Verb Übersicht</td>\n",
       "      <td>Präsens_ich</td>\n",
       "      <td>festkehre</td>\n",
       "      <td></td>\n",
       "      <td>&lt;NA&gt;</td>\n",
       "      <td>löschliste_section_id2</td>\n",
       "    </tr>\n",
       "    <tr>\n",
       "      <th>670864</th>\n",
       "      <td>γ-Aminobuttersäure</td>\n",
       "      <td>übersicht</td>\n",
       "      <td>Deutsch Substantiv Übersicht</td>\n",
       "      <td>Genus</td>\n",
       "      <td>f</td>\n",
       "      <td></td>\n",
       "      <td>&lt;NA&gt;</td>\n",
       "      <td>löschliste_section_id2</td>\n",
       "    </tr>\n",
       "    <tr>\n",
       "      <th>737003</th>\n",
       "      <td>fettarme_Milch</td>\n",
       "      <td>übersicht</td>\n",
       "      <td>Deutsch adjektivisch Übersicht</td>\n",
       "      <td>Nominativ Plural stark</td>\n",
       "      <td>——</td>\n",
       "      <td></td>\n",
       "      <td>&lt;NA&gt;</td>\n",
       "      <td>löschliste_section_id2</td>\n",
       "    </tr>\n",
       "    <tr>\n",
       "      <th>1233898</th>\n",
       "      <td>geheien</td>\n",
       "      <td>def</td>\n",
       "      <td></td>\n",
       "      <td></td>\n",
       "      <td>werfen</td>\n",
       "      <td>5</td>\n",
       "      <td>alemannisch</td>\n",
       "      <td>löschliste_section_id2</td>\n",
       "    </tr>\n",
       "    <tr>\n",
       "      <th>4856329</th>\n",
       "      <td>geder</td>\n",
       "      <td>übersicht</td>\n",
       "      <td>Pronomina-Tabelle</td>\n",
       "      <td>Nominativ Singular m</td>\n",
       "      <td>geder</td>\n",
       "      <td></td>\n",
       "      <td>&lt;NA&gt;</td>\n",
       "      <td>löschliste_section_id2</td>\n",
       "    </tr>\n",
       "    <tr>\n",
       "      <th>4975798</th>\n",
       "      <td>inzendieren</td>\n",
       "      <td>def</td>\n",
       "      <td></td>\n",
       "      <td></td>\n",
       "      <td>erregen</td>\n",
       "      <td>2</td>\n",
       "      <td>übertragen</td>\n",
       "      <td>löschliste_section_id2</td>\n",
       "    </tr>\n",
       "    <tr>\n",
       "      <th>4975801</th>\n",
       "      <td>inzendieren</td>\n",
       "      <td>alt</td>\n",
       "      <td></td>\n",
       "      <td></td>\n",
       "      <td>incendieren</td>\n",
       "      <td></td>\n",
       "      <td></td>\n",
       "      <td>löschliste_section_id2</td>\n",
       "    </tr>\n",
       "  </tbody>\n",
       "</table>\n",
       "</div>"
      ],
      "text/plain": [
       "                section_id2    merkmal                       node_debug  \\\n",
       "446                 April_1    istName                             <NA>   \n",
       "5236               Mutter_2  übersicht    Deutsch Substantiv Übersicht\n",
       "   \n",
       "5962                 Boot_1   herkunft                                    \n",
       "81347               spulgen  übersicht          Deutsch Verb Übersicht\n",
       "   \n",
       "344673               ABl.EG        def                                    \n",
       "479758             daselbst        abk                                    \n",
       "592682           festkehren  übersicht          Deutsch Verb Übersicht\n",
       "   \n",
       "670864   γ-Aminobuttersäure  übersicht    Deutsch Substantiv Übersicht\n",
       "   \n",
       "737003       fettarme_Milch  übersicht  Deutsch adjektivisch Übersicht\n",
       "   \n",
       "1233898             geheien        def                                    \n",
       "4856329               geder  übersicht               Pronomina-Tabelle\n",
       "   \n",
       "4975798         inzendieren        def                                    \n",
       "4975801         inzendieren        alt                                    \n",
       "\n",
       "                   node_kontext                                     data num  \\\n",
       "446                        <NA>                                   exists       \n",
       "5236           Nominativ Plural                                        —       \n",
       "5962                          Ü                                     boot       \n",
       "81347            Präteritum_ich                                                \n",
       "344673                           Amtsblatt der Europäischen Gemeinschaft   1   \n",
       "479758                                                               das   1   \n",
       "592682              Präsens_ich                                festkehre       \n",
       "670864                    Genus                                        f       \n",
       "737003   Nominativ Plural stark                                       ——       \n",
       "1233898                                                           werfen   5   \n",
       "4856329    Nominativ Singular m                                    geder       \n",
       "4975798                                                          erregen   2   \n",
       "4975801                                                      incendieren       \n",
       "\n",
       "                meta                     msg  \n",
       "446             <NA>  löschliste_section_id2  \n",
       "5236            <NA>  löschliste_section_id2  \n",
       "5962                  löschliste_section_id2  \n",
       "81347           <NA>  löschliste_section_id2  \n",
       "344673                löschliste_section_id2  \n",
       "479758                löschliste_section_id2  \n",
       "592682          <NA>  löschliste_section_id2  \n",
       "670864          <NA>  löschliste_section_id2  \n",
       "737003          <NA>  löschliste_section_id2  \n",
       "1233898  alemannisch  löschliste_section_id2  \n",
       "4856329         <NA>  löschliste_section_id2  \n",
       "4975798   übertragen  löschliste_section_id2  \n",
       "4975801               löschliste_section_id2  "
      ]
     },
     "execution_count": 49,
     "metadata": {},
     "output_type": "execute_result"
    }
   ],
   "source": [
    "# wiktionary_merkmal belöschen nach section_id2\n",
    "mask = wiktionary_merkmal.section_id2.isin(löschliste_section_id2) \n",
    "wiktionary_merkmal, wiktionary_merkmal_trash = pak.move_rows(df_from=wiktionary_merkmal, df_to=wiktionary_merkmal_trash, mask=mask, msg='löschliste_section_id2')\n",
    "\n",
    "mask = wiktionary_merkmal_trash.msg == 'löschliste_section_id2'\n",
    "grid(wiktionary_merkmal_trash[mask],pak.sample)"
   ]
  },
  {
   "cell_type": "code",
   "execution_count": 50,
   "metadata": {
    "execution": {
     "iopub.execute_input": "2023-02-20T16:11:39.689648Z",
     "iopub.status.busy": "2023-02-20T16:11:39.689410Z",
     "iopub.status.idle": "2023-02-20T16:11:41.378369Z",
     "shell.execute_reply": "2023-02-20T16:11:41.377577Z",
     "shell.execute_reply.started": "2023-02-20T16:11:39.689627Z"
    }
   },
   "outputs": [
    {
     "name": "stdout",
     "output_type": "stream",
     "text": [
      "Move 655 rows from 3264932\n",
      "11 rows out of 655\n"
     ]
    },
    {
     "data": {
      "text/html": [
       "<div>\n",
       "<style scoped>\n",
       "    .dataframe tbody tr th:only-of-type {\n",
       "        vertical-align: middle;\n",
       "    }\n",
       "\n",
       "    .dataframe tbody tr th {\n",
       "        vertical-align: top;\n",
       "    }\n",
       "\n",
       "    .dataframe thead th {\n",
       "        text-align: right;\n",
       "    }\n",
       "</style>\n",
       "<table border=\"1\" class=\"dataframe\">\n",
       "  <thead>\n",
       "    <tr style=\"text-align: right;\">\n",
       "      <th></th>\n",
       "      <th>section_id2</th>\n",
       "      <th>merkmal</th>\n",
       "      <th>node_debug</th>\n",
       "      <th>node_kontext</th>\n",
       "      <th>data</th>\n",
       "      <th>num</th>\n",
       "      <th>meta</th>\n",
       "      <th>msg</th>\n",
       "    </tr>\n",
       "  </thead>\n",
       "  <tbody>\n",
       "    <tr>\n",
       "      <th>1950</th>\n",
       "      <td>sein</td>\n",
       "      <td>alt</td>\n",
       "      <td></td>\n",
       "      <td></td>\n",
       "      <td>Sebastian Brant</td>\n",
       "      <td></td>\n",
       "      <td></td>\n",
       "      <td>löschliste_lex</td>\n",
       "    </tr>\n",
       "    <tr>\n",
       "      <th>49302</th>\n",
       "      <td>Geld</td>\n",
       "      <td>herkunft</td>\n",
       "      <td></td>\n",
       "      <td>Ü</td>\n",
       "      <td>gelt</td>\n",
       "      <td></td>\n",
       "      <td></td>\n",
       "      <td>löschliste_lex</td>\n",
       "    </tr>\n",
       "    <tr>\n",
       "      <th>50817</th>\n",
       "      <td>Kreuzer</td>\n",
       "      <td>abk</td>\n",
       "      <td></td>\n",
       "      <td></td>\n",
       "      <td>Xer</td>\n",
       "      <td>2</td>\n",
       "      <td></td>\n",
       "      <td>löschliste_lex</td>\n",
       "    </tr>\n",
       "    <tr>\n",
       "      <th>464876</th>\n",
       "      <td>Heim</td>\n",
       "      <td>familie</td>\n",
       "      <td></td>\n",
       "      <td></td>\n",
       "      <td>anheimeln</td>\n",
       "      <td>1</td>\n",
       "      <td></td>\n",
       "      <td>löschliste_lex</td>\n",
       "    </tr>\n",
       "    <tr>\n",
       "      <th>534518</th>\n",
       "      <td>absolut</td>\n",
       "      <td>kombi</td>\n",
       "      <td></td>\n",
       "      <td></td>\n",
       "      <td>absolute Dichtung</td>\n",
       "      <td>9</td>\n",
       "      <td></td>\n",
       "      <td>löschliste_lex</td>\n",
       "    </tr>\n",
       "    <tr>\n",
       "      <th>671892</th>\n",
       "      <td>4-Aminobutansäure</td>\n",
       "      <td>def</td>\n",
       "      <td></td>\n",
       "      <td></td>\n",
       "      <td>γ-Aminobuttersäure</td>\n",
       "      <td>1</td>\n",
       "      <td>Chemie</td>\n",
       "      <td>löschliste_lex</td>\n",
       "    </tr>\n",
       "    <tr>\n",
       "      <th>1432136</th>\n",
       "      <td>β-Ketobuttersäuren</td>\n",
       "      <td>gm</td>\n",
       "      <td></td>\n",
       "      <td></td>\n",
       "      <td>β-Ketobuttersäure</td>\n",
       "      <td></td>\n",
       "      <td></td>\n",
       "      <td>löschliste_lex</td>\n",
       "    </tr>\n",
       "    <tr>\n",
       "      <th>2196656</th>\n",
       "      <td>rußen</td>\n",
       "      <td>alt_1</td>\n",
       "      <td></td>\n",
       "      <td></td>\n",
       "      <td>russen</td>\n",
       "      <td></td>\n",
       "      <td>Österreich</td>\n",
       "      <td>löschliste_lex</td>\n",
       "    </tr>\n",
       "    <tr>\n",
       "      <th>3704371</th>\n",
       "      <td>ALARP</td>\n",
       "      <td>übersicht</td>\n",
       "      <td>Deutsch Substantiv Übersicht</td>\n",
       "      <td>Nominativ Singular</td>\n",
       "      <td>ALARP</td>\n",
       "      <td></td>\n",
       "      <td>&lt;NA&gt;</td>\n",
       "      <td>löschliste_lex</td>\n",
       "    </tr>\n",
       "    <tr>\n",
       "      <th>4388348</th>\n",
       "      <td>viraler_Vektor</td>\n",
       "      <td>übersicht</td>\n",
       "      <td>Deutsch adjektivisch Übersicht</td>\n",
       "      <td>Nominativ Singular schwach</td>\n",
       "      <td>virale Vektor</td>\n",
       "      <td></td>\n",
       "      <td>&lt;NA&gt;</td>\n",
       "      <td>löschliste_lex</td>\n",
       "    </tr>\n",
       "    <tr>\n",
       "      <th>4979694</th>\n",
       "      <td>Weiße_Anischampignon</td>\n",
       "      <td>gm</td>\n",
       "      <td></td>\n",
       "      <td></td>\n",
       "      <td>Astronomischer Kalender</td>\n",
       "      <td></td>\n",
       "      <td></td>\n",
       "      <td>löschliste_lex</td>\n",
       "    </tr>\n",
       "  </tbody>\n",
       "</table>\n",
       "</div>"
      ],
      "text/plain": [
       "                  section_id2    merkmal                       node_debug  \\\n",
       "1950                     sein        alt                                    \n",
       "49302                    Geld   herkunft                                    \n",
       "50817                 Kreuzer        abk                                    \n",
       "464876                   Heim    familie                                    \n",
       "534518                absolut      kombi                                    \n",
       "671892      4-Aminobutansäure        def                                    \n",
       "1432136    β-Ketobuttersäuren         gm                                    \n",
       "2196656                 rußen      alt_1                                    \n",
       "3704371                 ALARP  übersicht    Deutsch Substantiv Übersicht\n",
       "   \n",
       "4388348        viraler_Vektor  übersicht  Deutsch adjektivisch Übersicht\n",
       "   \n",
       "4979694  Weiße_Anischampignon         gm                                    \n",
       "\n",
       "                       node_kontext                     data num        meta  \\\n",
       "1950                                         Sebastian Brant                   \n",
       "49302                             Ü                     gelt                   \n",
       "50817                                                    Xer   2               \n",
       "464876                                             anheimeln   1               \n",
       "534518                                     absolute Dichtung   9               \n",
       "671892                                    γ-Aminobuttersäure   1      Chemie   \n",
       "1432136                                    β-Ketobuttersäure                   \n",
       "2196656                                               russen      Österreich   \n",
       "3704371          Nominativ Singular                    ALARP            <NA>   \n",
       "4388348  Nominativ Singular schwach            virale Vektor            <NA>   \n",
       "4979694                              Astronomischer Kalender                   \n",
       "\n",
       "                    msg  \n",
       "1950     löschliste_lex  \n",
       "49302    löschliste_lex  \n",
       "50817    löschliste_lex  \n",
       "464876   löschliste_lex  \n",
       "534518   löschliste_lex  \n",
       "671892   löschliste_lex  \n",
       "1432136  löschliste_lex  \n",
       "2196656  löschliste_lex  \n",
       "3704371  löschliste_lex  \n",
       "4388348  löschliste_lex  \n",
       "4979694  löschliste_lex  "
      ]
     },
     "execution_count": 50,
     "metadata": {},
     "output_type": "execute_result"
    }
   ],
   "source": [
    "# wiktionary_merkmal belöschen nach lex\n",
    "mask = wiktionary_merkmal.data.isin(löschliste_lex) \n",
    "wiktionary_merkmal, wiktionary_merkmal_trash = pak.move_rows(df_from=wiktionary_merkmal, df_to=wiktionary_merkmal_trash, mask=mask, msg='löschliste_lex')\n",
    "\n",
    "mask = wiktionary_merkmal_trash.msg == 'löschliste_lex'\n",
    "grid(wiktionary_merkmal_trash[mask], pak.sample)"
   ]
  },
  {
   "cell_type": "code",
   "execution_count": 51,
   "metadata": {
    "execution": {
     "iopub.execute_input": "2023-02-20T16:11:41.379486Z",
     "iopub.status.busy": "2023-02-20T16:11:41.379245Z",
     "iopub.status.idle": "2023-02-20T16:11:41.416495Z",
     "shell.execute_reply": "2023-02-20T16:11:41.415720Z",
     "shell.execute_reply.started": "2023-02-20T16:11:41.379464Z"
    }
   },
   "outputs": [],
   "source": [
    "# aufräumen\n",
    "del löschliste_lemma\n",
    "del löschliste"
   ]
  },
  {
   "cell_type": "markdown",
   "metadata": {},
   "source": [
    "## tag und member\n",
    "* Aus dem Feld pos entstehen die Felder tag (standardisiert) und member (vollständig)"
   ]
  },
  {
   "cell_type": "code",
   "execution_count": 52,
   "metadata": {
    "execution": {
     "iopub.execute_input": "2023-02-20T16:11:41.417990Z",
     "iopub.status.busy": "2023-02-20T16:11:41.417703Z",
     "iopub.status.idle": "2023-02-20T16:11:48.315560Z",
     "shell.execute_reply": "2023-02-20T16:11:48.314958Z",
     "shell.execute_reply.started": "2023-02-20T16:11:41.417967Z"
    }
   },
   "outputs": [],
   "source": [
    "# Kaputte Datenstruktur in str wandeln\n",
    "wiktionary['tag'] = wiktionary.pos.apply( lambda x: str(x) )\n",
    "wiktionary = pak.move_cols(wiktionary,'tag','pos')\n",
    "\n",
    "# translate\n",
    "translate_chars = str.maketrans(\"{}'[]:\", \"     ,\")\n",
    "wiktionary.tag = wiktionary.tag.str.translate(translate_chars)\n",
    "\n",
    "# Liste ohne Dups draus machen\n",
    "wiktionary.tag = wiktionary.tag.str.split(\",\")\n",
    "wiktionary.tag = wiktionary.tag.apply( lambda x: list(set(x)) )\n",
    "\n",
    "# Strings pflegen\n",
    "wiktionary.tag = wiktionary.tag.apply( lambda x: [ e.strip().replace(' ','_')  for e in x ] )\n",
    "\n",
    "# Leere Strings entfernen\n",
    "wiktionary.tag = wiktionary.tag.apply( lambda x: [ e for e in x  if e != ''] )"
   ]
  },
  {
   "cell_type": "code",
   "execution_count": 53,
   "metadata": {
    "execution": {
     "iopub.execute_input": "2023-02-20T16:11:48.316606Z",
     "iopub.status.busy": "2023-02-20T16:11:48.316368Z",
     "iopub.status.idle": "2023-02-20T16:11:48.366859Z",
     "shell.execute_reply": "2023-02-20T16:11:48.365478Z",
     "shell.execute_reply.started": "2023-02-20T16:11:48.316584Z"
    }
   },
   "outputs": [],
   "source": [
    "#grid(wiktionary, pak.sample)"
   ]
  },
  {
   "cell_type": "code",
   "execution_count": 54,
   "metadata": {
    "execution": {
     "iopub.execute_input": "2023-02-20T16:11:48.368224Z",
     "iopub.status.busy": "2023-02-20T16:11:48.367975Z",
     "iopub.status.idle": "2023-02-20T16:11:49.263392Z",
     "shell.execute_reply": "2023-02-20T16:11:49.262800Z",
     "shell.execute_reply.started": "2023-02-20T16:11:48.368202Z"
    }
   },
   "outputs": [],
   "source": [
    "# nach Priorität sortieren (laut Steuertabellen)\n",
    "wiktionary.loc[:,'tag'] = member_sortieren(wiktionary.tag) "
   ]
  },
  {
   "cell_type": "code",
   "execution_count": 55,
   "metadata": {
    "execution": {
     "iopub.execute_input": "2023-02-20T16:11:49.264531Z",
     "iopub.status.busy": "2023-02-20T16:11:49.264215Z",
     "iopub.status.idle": "2023-02-20T16:11:49.552259Z",
     "shell.execute_reply": "2023-02-20T16:11:49.551609Z",
     "shell.execute_reply.started": "2023-02-20T16:11:49.264507Z"
    }
   },
   "outputs": [],
   "source": [
    "# In string wandeln\n",
    "wiktionary.tag = wiktionary.tag.str.join(' ')"
   ]
  },
  {
   "cell_type": "code",
   "execution_count": 56,
   "metadata": {
    "execution": {
     "iopub.execute_input": "2023-02-20T16:11:49.553265Z",
     "iopub.status.busy": "2023-02-20T16:11:49.553036Z",
     "iopub.status.idle": "2023-02-20T16:11:53.749944Z",
     "shell.execute_reply": "2023-02-20T16:11:53.749341Z",
     "shell.execute_reply.started": "2023-02-20T16:11:49.553245Z"
    }
   },
   "outputs": [
    {
     "name": "stdout",
     "output_type": "stream",
     "text": [
      "[('  ', ' '), ('Partizip II', 'Ptz2'), ('Partizip_II', 'Ptz2'), ('PartizipII', 'Ptz2'), ('Konjunktiv II', 'Konj2'), ('Konjunktiv_II', 'Konj2'), ('KonjunktivII', 'Konj2'), ('  ', ' ')]\n",
      "[('  ', ' '), ('Partizip I', 'Ptz1'), ('Partizip_I', 'Ptz1'), ('PartizipI', 'Ptz1'), ('Konjunktiv I', 'Konj1'), ('Konjunktiv_I', 'Konj1'), ('KonjunktivI', 'Konj1'), ('  ', ' ')]\n"
     ]
    }
   ],
   "source": [
    "# translate_first\n",
    "\n",
    "print(translate_first1)\n",
    "print(translate_first2)\n",
    "\n",
    "wiktionary['tag'] = pak.replace_str( wiktionary.tag, translate_first1).str.strip()\n",
    "wiktionary['tag'] = pak.replace_str( wiktionary.tag, translate_first2).str.strip()"
   ]
  },
  {
   "cell_type": "code",
   "execution_count": 57,
   "metadata": {
    "execution": {
     "iopub.execute_input": "2023-02-20T16:11:53.752274Z",
     "iopub.status.busy": "2023-02-20T16:11:53.752009Z",
     "iopub.status.idle": "2023-02-20T16:11:53.788345Z",
     "shell.execute_reply": "2023-02-20T16:11:53.787573Z",
     "shell.execute_reply.started": "2023-02-20T16:11:53.752252Z"
    }
   },
   "outputs": [],
   "source": [
    "#mask = (wiktionary.tag.str.count(' ') + 1)  > 2   \n",
    "#wiktionary[mask]"
   ]
  },
  {
   "cell_type": "code",
   "execution_count": 58,
   "metadata": {
    "execution": {
     "iopub.execute_input": "2023-02-20T16:11:53.797552Z",
     "iopub.status.busy": "2023-02-20T16:11:53.797005Z",
     "iopub.status.idle": "2023-02-20T16:11:54.681985Z",
     "shell.execute_reply": "2023-02-20T16:11:54.681341Z",
     "shell.execute_reply.started": "2023-02-20T16:11:53.797491Z"
    }
   },
   "outputs": [],
   "source": [
    "# Spalte member bewahrt die ursprüngliche Klassifizierung vollständig\n",
    "wiktionary['member'] = wiktionary.tag.copy()\n",
    "wiktionary = pak.move_cols(wiktionary,'member','tag')"
   ]
  },
  {
   "cell_type": "code",
   "execution_count": 59,
   "metadata": {
    "execution": {
     "iopub.execute_input": "2023-02-20T16:11:54.684242Z",
     "iopub.status.busy": "2023-02-20T16:11:54.683976Z",
     "iopub.status.idle": "2023-02-20T16:11:54.789077Z",
     "shell.execute_reply": "2023-02-20T16:11:54.788330Z",
     "shell.execute_reply.started": "2023-02-20T16:11:54.684220Z"
    }
   },
   "outputs": [
    {
     "name": "stdout",
     "output_type": "stream",
     "text": [
      "3 rows out of 837254\n"
     ]
    },
    {
     "data": {
      "text/html": [
       "<div>\n",
       "<style scoped>\n",
       "    .dataframe tbody tr th:only-of-type {\n",
       "        vertical-align: middle;\n",
       "    }\n",
       "\n",
       "    .dataframe tbody tr th {\n",
       "        vertical-align: top;\n",
       "    }\n",
       "\n",
       "    .dataframe thead th {\n",
       "        text-align: right;\n",
       "    }\n",
       "</style>\n",
       "<table border=\"1\" class=\"dataframe\">\n",
       "  <thead>\n",
       "    <tr style=\"text-align: right;\">\n",
       "      <th></th>\n",
       "      <th>page_id</th>\n",
       "      <th>page_part</th>\n",
       "      <th>section_id2</th>\n",
       "      <th>title</th>\n",
       "      <th>lemma</th>\n",
       "      <th>inflected</th>\n",
       "      <th>pos</th>\n",
       "      <th>tag</th>\n",
       "      <th>member</th>\n",
       "      <th>rhymes</th>\n",
       "      <th>score</th>\n",
       "      <th>flexion</th>\n",
       "      <th>ipa</th>\n",
       "      <th>syllables</th>\n",
       "      <th>lang</th>\n",
       "      <th>lang_code</th>\n",
       "      <th>error</th>\n",
       "      <th>lemma_lower</th>\n",
       "    </tr>\n",
       "  </thead>\n",
       "  <tbody>\n",
       "    <tr>\n",
       "      <th>98190</th>\n",
       "      <td>242838</td>\n",
       "      <td>0</td>\n",
       "      <td>missraten</td>\n",
       "      <td>missraten</td>\n",
       "      <td>missraten</td>\n",
       "      <td>False</td>\n",
       "      <td>{'Verb': []}</td>\n",
       "      <td>Verb</td>\n",
       "      <td>Verb</td>\n",
       "      <td>[aːtn̩]</td>\n",
       "      <td>4.420413</td>\n",
       "      <td>{'Präsens_ich': ['missrate'], 'Präsens_du': ['missrätst'], 'Präsens_er, sie, es': ['missrät'], 'Präteritum_ich': ['missriet'], 'Partizip II': ['missraten'], 'Konjunktiv II_ich': ['missriete'], 'Imperativ Singular': ['missrate'], 'Imperativ Plural': ['missratet'], 'Hilfsverb': ['sein']}</td>\n",
       "      <td>[mɪsˈʁaːtn̩]</td>\n",
       "      <td>[miss, ra, ten]</td>\n",
       "      <td>Deutsch</td>\n",
       "      <td>de</td>\n",
       "      <td></td>\n",
       "      <td>missraten</td>\n",
       "    </tr>\n",
       "    <tr>\n",
       "      <th>121344</th>\n",
       "      <td>274097</td>\n",
       "      <td>0</td>\n",
       "      <td>gefriergetrocknet</td>\n",
       "      <td>gefriergetrocknet</td>\n",
       "      <td>gefriergetrocknet</td>\n",
       "      <td>False</td>\n",
       "      <td>{'Adjektiv': []}</td>\n",
       "      <td>Adjektiv</td>\n",
       "      <td>Adjektiv</td>\n",
       "      <td>NaN</td>\n",
       "      <td>3.902795</td>\n",
       "      <td>{'Positiv': ['gefriergetrocknet']}</td>\n",
       "      <td>[ɡəˈfʁiːɐ̯ɡəˌtʁɔknət]</td>\n",
       "      <td>[ge, frier, ge, trock, net]</td>\n",
       "      <td>Deutsch</td>\n",
       "      <td>de</td>\n",
       "      <td></td>\n",
       "      <td>gefriergetrocknet</td>\n",
       "    </tr>\n",
       "    <tr>\n",
       "      <th>784281</th>\n",
       "      <td>1055347</td>\n",
       "      <td>0</td>\n",
       "      <td>gefriertrocknen</td>\n",
       "      <td>gefriertrocknen</td>\n",
       "      <td>gefriertrocknen</td>\n",
       "      <td>False</td>\n",
       "      <td>{'Verb': []}</td>\n",
       "      <td>Verb</td>\n",
       "      <td>Verb</td>\n",
       "      <td>NaN</td>\n",
       "      <td>14.590522</td>\n",
       "      <td>{'Präsens_ich': ['gefriertrockne'], 'Präsens_du': ['gefriertrocknest'], 'Präsens_er, sie, es': ['gefriertrocknet'], 'Präteritum_ich': ['gefriertrocknete'], 'Konjunktiv II_ich': ['gefriertrocknete'], 'Imperativ Singular': ['gefriertrockne'], 'Imperativ Plural': ['gefriertrocknet'], 'Partizip II': ['gefriergetrocknet'], 'Hilfsverb': ['haben']}</td>\n",
       "      <td>[ɡəˈfʁiːɐ̯ˌtʁɔknən]</td>\n",
       "      <td>[ge, frier, trock, nen]</td>\n",
       "      <td>Deutsch</td>\n",
       "      <td>de</td>\n",
       "      <td></td>\n",
       "      <td>gefriertrocknen</td>\n",
       "    </tr>\n",
       "  </tbody>\n",
       "</table>\n",
       "</div>"
      ],
      "text/plain": [
       "        page_id  page_part        section_id2              title  \\\n",
       "98190    242838          0          missraten          missraten   \n",
       "121344   274097          0  gefriergetrocknet  gefriergetrocknet   \n",
       "784281  1055347          0    gefriertrocknen    gefriertrocknen   \n",
       "\n",
       "                    lemma  inflected               pos       tag    member  \\\n",
       "98190           missraten      False      {'Verb': []}      Verb      Verb   \n",
       "121344  gefriergetrocknet      False  {'Adjektiv': []}  Adjektiv  Adjektiv   \n",
       "784281    gefriertrocknen      False      {'Verb': []}      Verb      Verb   \n",
       "\n",
       "         rhymes      score  \\\n",
       "98190   [aːtn̩]   4.420413   \n",
       "121344      NaN   3.902795   \n",
       "784281      NaN  14.590522   \n",
       "\n",
       "                                                                                                                                                                                                                                                                                                                                                        flexion  \\\n",
       "98190                                                            {'Präsens_ich': ['missrate'], 'Präsens_du': ['missrätst'], 'Präsens_er, sie, es': ['missrät'], 'Präteritum_ich': ['missriet'], 'Partizip II': ['missraten'], 'Konjunktiv II_ich': ['missriete'], 'Imperativ Singular': ['missrate'], 'Imperativ Plural': ['missratet'], 'Hilfsverb': ['sein']}   \n",
       "121344                                                                                                                                                                                                                                                                                                                       {'Positiv': ['gefriergetrocknet']}   \n",
       "784281  {'Präsens_ich': ['gefriertrockne'], 'Präsens_du': ['gefriertrocknest'], 'Präsens_er, sie, es': ['gefriertrocknet'], 'Präteritum_ich': ['gefriertrocknete'], 'Konjunktiv II_ich': ['gefriertrocknete'], 'Imperativ Singular': ['gefriertrockne'], 'Imperativ Plural': ['gefriertrocknet'], 'Partizip II': ['gefriergetrocknet'], 'Hilfsverb': ['haben']}   \n",
       "\n",
       "                          ipa                    syllables     lang lang_code  \\\n",
       "98190            [mɪsˈʁaːtn̩]              [miss, ra, ten]  Deutsch        de   \n",
       "121344  [ɡəˈfʁiːɐ̯ɡəˌtʁɔknət]  [ge, frier, ge, trock, net]  Deutsch        de   \n",
       "784281    [ɡəˈfʁiːɐ̯ˌtʁɔknən]      [ge, frier, trock, nen]  Deutsch        de   \n",
       "\n",
       "       error        lemma_lower  \n",
       "98190                 missraten  \n",
       "121344        gefriergetrocknet  \n",
       "784281          gefriertrocknen  "
      ]
     },
     "execution_count": 59,
     "metadata": {},
     "output_type": "execute_result"
    }
   ],
   "source": [
    "# wiktionary anschauen\n",
    "#mask = wiktionary.tag == 'ADJA ADV PRO'\n",
    "mask = wiktionary.title.isin( suche_debug )\n",
    "grid(wiktionary,mask)"
   ]
  },
  {
   "cell_type": "code",
   "execution_count": 60,
   "metadata": {
    "execution": {
     "iopub.execute_input": "2023-02-20T16:11:54.790251Z",
     "iopub.status.busy": "2023-02-20T16:11:54.789822Z",
     "iopub.status.idle": "2023-02-20T16:11:54.833804Z",
     "shell.execute_reply": "2023-02-20T16:11:54.833144Z",
     "shell.execute_reply.started": "2023-02-20T16:11:54.790032Z"
    }
   },
   "outputs": [],
   "source": [
    "#pak.sample(wiktionary)"
   ]
  },
  {
   "cell_type": "code",
   "execution_count": 61,
   "metadata": {
    "execution": {
     "iopub.execute_input": "2023-02-20T16:11:54.840978Z",
     "iopub.status.busy": "2023-02-20T16:11:54.835796Z",
     "iopub.status.idle": "2023-02-20T16:11:54.949500Z",
     "shell.execute_reply": "2023-02-20T16:11:54.948691Z",
     "shell.execute_reply.started": "2023-02-20T16:11:54.840942Z"
    }
   },
   "outputs": [
    {
     "data": {
      "text/html": [
       "<div>\n",
       "<style scoped>\n",
       "    .dataframe tbody tr th:only-of-type {\n",
       "        vertical-align: middle;\n",
       "    }\n",
       "\n",
       "    .dataframe tbody tr th {\n",
       "        vertical-align: top;\n",
       "    }\n",
       "\n",
       "    .dataframe thead th {\n",
       "        text-align: right;\n",
       "    }\n",
       "</style>\n",
       "<table border=\"1\" class=\"dataframe\">\n",
       "  <thead>\n",
       "    <tr style=\"text-align: right;\">\n",
       "      <th></th>\n",
       "      <th>quelle</th>\n",
       "      <th>ziel</th>\n",
       "      <th>notiz</th>\n",
       "    </tr>\n",
       "  </thead>\n",
       "  <tbody>\n",
       "    <tr>\n",
       "      <th>0</th>\n",
       "      <td>Konjugierte_Form</td>\n",
       "      <td>LEX_V</td>\n",
       "      <td>Keine Grundform</td>\n",
       "    </tr>\n",
       "    <tr>\n",
       "      <th>76</th>\n",
       "      <td>Präfix</td>\n",
       "      <td>TRUNC</td>\n",
       "      <td>Wortartenlisten</td>\n",
       "    </tr>\n",
       "    <tr>\n",
       "      <th>100</th>\n",
       "      <td>LEX_V LEX_V</td>\n",
       "      <td>LEX_V</td>\n",
       "      <td>Vorrang Durchlauf2</td>\n",
       "    </tr>\n",
       "    <tr>\n",
       "      <th>176</th>\n",
       "      <td>ADJA ADJA</td>\n",
       "      <td>ADJA</td>\n",
       "      <td>Doppelung1</td>\n",
       "    </tr>\n",
       "    <tr>\n",
       "      <th>201</th>\n",
       "      <td>Vergleichspartikel</td>\n",
       "      <td></td>\n",
       "      <td>löschmich</td>\n",
       "    </tr>\n",
       "  </tbody>\n",
       "</table>\n",
       "</div>"
      ],
      "text/plain": [
       "                 quelle   ziel               notiz\n",
       "0      Konjugierte_Form  LEX_V     Keine Grundform\n",
       "76               Präfix  TRUNC     Wortartenlisten\n",
       "100         LEX_V LEX_V  LEX_V  Vorrang Durchlauf2\n",
       "176           ADJA ADJA   ADJA          Doppelung1\n",
       "201  Vergleichspartikel                  löschmich"
      ]
     },
     "execution_count": 61,
     "metadata": {},
     "output_type": "execute_result"
    }
   ],
   "source": [
    "pak.sample(translate_tag)"
   ]
  },
  {
   "cell_type": "code",
   "execution_count": 62,
   "metadata": {
    "execution": {
     "iopub.execute_input": "2023-02-20T16:11:54.953378Z",
     "iopub.status.busy": "2023-02-20T16:11:54.953111Z",
     "iopub.status.idle": "2023-02-20T16:12:40.487600Z",
     "shell.execute_reply": "2023-02-20T16:12:40.487012Z",
     "shell.execute_reply.started": "2023-02-20T16:11:54.953355Z"
    }
   },
   "outputs": [],
   "source": [
    "# anwenden\n",
    "wiktionary['tag'] = pak.replace_str( wiktionary.tag, translate_tag )\n",
    "wiktionary['tag'] = wiktionary.tag.str.replace('  ',' ').str.strip()    "
   ]
  },
  {
   "cell_type": "code",
   "execution_count": 63,
   "metadata": {
    "execution": {
     "iopub.execute_input": "2023-02-20T16:12:40.488555Z",
     "iopub.status.busy": "2023-02-20T16:12:40.488332Z",
     "iopub.status.idle": "2023-02-20T16:12:56.902857Z",
     "shell.execute_reply": "2023-02-20T16:12:56.901614Z",
     "shell.execute_reply.started": "2023-02-20T16:12:40.488535Z"
    }
   },
   "outputs": [],
   "source": [
    "# Durchlauf2: translate_tag erneut anwenden \n",
    "mask = translate_tag.notiz.str.contains('Durchlauf2')\n",
    "wiktionary['tag'] = pak.replace_str( wiktionary.tag, translate_tag[mask] )\n",
    "wiktionary['tag'] = wiktionary.tag.str.replace('  ',' ').str.strip()    "
   ]
  },
  {
   "cell_type": "code",
   "execution_count": 64,
   "metadata": {
    "execution": {
     "iopub.execute_input": "2023-02-20T16:12:56.905546Z",
     "iopub.status.busy": "2023-02-20T16:12:56.905279Z",
     "iopub.status.idle": "2023-02-20T16:12:57.215236Z",
     "shell.execute_reply": "2023-02-20T16:12:57.214502Z",
     "shell.execute_reply.started": "2023-02-20T16:12:56.905523Z"
    }
   },
   "outputs": [],
   "source": [
    "# tag TODO für alles, was noch weiterverarbeitet werden muss\n",
    "mask = (wiktionary.tag.str.len() == 0)\n",
    "wiktionary.loc[mask,'tag'] = 'TODO'\n",
    "#grid(wiktionary,mask)"
   ]
  },
  {
   "cell_type": "code",
   "execution_count": 65,
   "metadata": {
    "execution": {
     "iopub.execute_input": "2023-02-20T16:12:57.217445Z",
     "iopub.status.busy": "2023-02-20T16:12:57.217185Z",
     "iopub.status.idle": "2023-02-20T16:12:58.028353Z",
     "shell.execute_reply": "2023-02-20T16:12:58.027631Z",
     "shell.execute_reply.started": "2023-02-20T16:12:57.217424Z"
    }
   },
   "outputs": [
    {
     "name": "stdout",
     "output_type": "stream",
     "text": [
      "3 rows out of 837254\n"
     ]
    },
    {
     "data": {
      "text/html": [
       "<div>\n",
       "<style scoped>\n",
       "    .dataframe tbody tr th:only-of-type {\n",
       "        vertical-align: middle;\n",
       "    }\n",
       "\n",
       "    .dataframe tbody tr th {\n",
       "        vertical-align: top;\n",
       "    }\n",
       "\n",
       "    .dataframe thead th {\n",
       "        text-align: right;\n",
       "    }\n",
       "</style>\n",
       "<table border=\"1\" class=\"dataframe\">\n",
       "  <thead>\n",
       "    <tr style=\"text-align: right;\">\n",
       "      <th></th>\n",
       "      <th>page_id</th>\n",
       "      <th>page_part</th>\n",
       "      <th>section_id2</th>\n",
       "      <th>title</th>\n",
       "      <th>lemma</th>\n",
       "      <th>inflected</th>\n",
       "      <th>pos</th>\n",
       "      <th>tag</th>\n",
       "      <th>member</th>\n",
       "      <th>rhymes</th>\n",
       "      <th>score</th>\n",
       "      <th>flexion</th>\n",
       "      <th>ipa</th>\n",
       "      <th>syllables</th>\n",
       "      <th>lang</th>\n",
       "      <th>lang_code</th>\n",
       "      <th>error</th>\n",
       "      <th>lemma_lower</th>\n",
       "    </tr>\n",
       "  </thead>\n",
       "  <tbody>\n",
       "    <tr>\n",
       "      <th>98190</th>\n",
       "      <td>242838</td>\n",
       "      <td>0</td>\n",
       "      <td>missraten</td>\n",
       "      <td>missraten</td>\n",
       "      <td>missraten</td>\n",
       "      <td>False</td>\n",
       "      <td>{'Verb': []}</td>\n",
       "      <td>VVFIN</td>\n",
       "      <td>Verb</td>\n",
       "      <td>[aːtn̩]</td>\n",
       "      <td>4.420413</td>\n",
       "      <td>{'Präsens_ich': ['missrate'], 'Präsens_du': ['missrätst'], 'Präsens_er, sie, es': ['missrät'], 'Präteritum_ich': ['missriet'], 'Partizip II': ['missraten'], 'Konjunktiv II_ich': ['missriete'], 'Imperativ Singular': ['missrate'], 'Imperativ Plural': ['missratet'], 'Hilfsverb': ['sein']}</td>\n",
       "      <td>[mɪsˈʁaːtn̩]</td>\n",
       "      <td>[miss, ra, ten]</td>\n",
       "      <td>Deutsch</td>\n",
       "      <td>de</td>\n",
       "      <td></td>\n",
       "      <td>missraten</td>\n",
       "    </tr>\n",
       "    <tr>\n",
       "      <th>121344</th>\n",
       "      <td>274097</td>\n",
       "      <td>0</td>\n",
       "      <td>gefriergetrocknet</td>\n",
       "      <td>gefriergetrocknet</td>\n",
       "      <td>gefriergetrocknet</td>\n",
       "      <td>False</td>\n",
       "      <td>{'Adjektiv': []}</td>\n",
       "      <td>ADJA</td>\n",
       "      <td>Adjektiv</td>\n",
       "      <td>NaN</td>\n",
       "      <td>3.902795</td>\n",
       "      <td>{'Positiv': ['gefriergetrocknet']}</td>\n",
       "      <td>[ɡəˈfʁiːɐ̯ɡəˌtʁɔknət]</td>\n",
       "      <td>[ge, frier, ge, trock, net]</td>\n",
       "      <td>Deutsch</td>\n",
       "      <td>de</td>\n",
       "      <td></td>\n",
       "      <td>gefriergetrocknet</td>\n",
       "    </tr>\n",
       "    <tr>\n",
       "      <th>784281</th>\n",
       "      <td>1055347</td>\n",
       "      <td>0</td>\n",
       "      <td>gefriertrocknen</td>\n",
       "      <td>gefriertrocknen</td>\n",
       "      <td>gefriertrocknen</td>\n",
       "      <td>False</td>\n",
       "      <td>{'Verb': []}</td>\n",
       "      <td>VVFIN</td>\n",
       "      <td>Verb</td>\n",
       "      <td>NaN</td>\n",
       "      <td>14.590522</td>\n",
       "      <td>{'Präsens_ich': ['gefriertrockne'], 'Präsens_du': ['gefriertrocknest'], 'Präsens_er, sie, es': ['gefriertrocknet'], 'Präteritum_ich': ['gefriertrocknete'], 'Konjunktiv II_ich': ['gefriertrocknete'], 'Imperativ Singular': ['gefriertrockne'], 'Imperativ Plural': ['gefriertrocknet'], 'Partizip II': ['gefriergetrocknet'], 'Hilfsverb': ['haben']}</td>\n",
       "      <td>[ɡəˈfʁiːɐ̯ˌtʁɔknən]</td>\n",
       "      <td>[ge, frier, trock, nen]</td>\n",
       "      <td>Deutsch</td>\n",
       "      <td>de</td>\n",
       "      <td></td>\n",
       "      <td>gefriertrocknen</td>\n",
       "    </tr>\n",
       "  </tbody>\n",
       "</table>\n",
       "</div>"
      ],
      "text/plain": [
       "        page_id  page_part        section_id2              title  \\\n",
       "98190    242838          0          missraten          missraten   \n",
       "121344   274097          0  gefriergetrocknet  gefriergetrocknet   \n",
       "784281  1055347          0    gefriertrocknen    gefriertrocknen   \n",
       "\n",
       "                    lemma  inflected               pos    tag    member  \\\n",
       "98190           missraten      False      {'Verb': []}  VVFIN      Verb   \n",
       "121344  gefriergetrocknet      False  {'Adjektiv': []}   ADJA  Adjektiv   \n",
       "784281    gefriertrocknen      False      {'Verb': []}  VVFIN      Verb   \n",
       "\n",
       "         rhymes      score  \\\n",
       "98190   [aːtn̩]   4.420413   \n",
       "121344      NaN   3.902795   \n",
       "784281      NaN  14.590522   \n",
       "\n",
       "                                                                                                                                                                                                                                                                                                                                                        flexion  \\\n",
       "98190                                                            {'Präsens_ich': ['missrate'], 'Präsens_du': ['missrätst'], 'Präsens_er, sie, es': ['missrät'], 'Präteritum_ich': ['missriet'], 'Partizip II': ['missraten'], 'Konjunktiv II_ich': ['missriete'], 'Imperativ Singular': ['missrate'], 'Imperativ Plural': ['missratet'], 'Hilfsverb': ['sein']}   \n",
       "121344                                                                                                                                                                                                                                                                                                                       {'Positiv': ['gefriergetrocknet']}   \n",
       "784281  {'Präsens_ich': ['gefriertrockne'], 'Präsens_du': ['gefriertrocknest'], 'Präsens_er, sie, es': ['gefriertrocknet'], 'Präteritum_ich': ['gefriertrocknete'], 'Konjunktiv II_ich': ['gefriertrocknete'], 'Imperativ Singular': ['gefriertrockne'], 'Imperativ Plural': ['gefriertrocknet'], 'Partizip II': ['gefriergetrocknet'], 'Hilfsverb': ['haben']}   \n",
       "\n",
       "                          ipa                    syllables     lang lang_code  \\\n",
       "98190            [mɪsˈʁaːtn̩]              [miss, ra, ten]  Deutsch        de   \n",
       "121344  [ɡəˈfʁiːɐ̯ɡəˌtʁɔknət]  [ge, frier, ge, trock, net]  Deutsch        de   \n",
       "784281    [ɡəˈfʁiːɐ̯ˌtʁɔknən]      [ge, frier, trock, nen]  Deutsch        de   \n",
       "\n",
       "       error        lemma_lower  \n",
       "98190                 missraten  \n",
       "121344        gefriergetrocknet  \n",
       "784281          gefriertrocknen  "
      ]
     },
     "execution_count": 65,
     "metadata": {},
     "output_type": "execute_result"
    }
   ],
   "source": [
    "# wiktionary anschauen\n",
    "#mask = wiktionary.tag == 'ADJA ADV PRO'\n",
    "mask = wiktionary.title.isin( suche_debug )\n",
    "grid(wiktionary,mask, backend='')"
   ]
  },
  {
   "cell_type": "code",
   "execution_count": 66,
   "metadata": {
    "execution": {
     "iopub.execute_input": "2023-02-20T16:12:58.031751Z",
     "iopub.status.busy": "2023-02-20T16:12:58.031480Z",
     "iopub.status.idle": "2023-02-20T16:12:58.066925Z",
     "shell.execute_reply": "2023-02-20T16:12:58.066266Z",
     "shell.execute_reply.started": "2023-02-20T16:12:58.031730Z"
    }
   },
   "outputs": [],
   "source": [
    "# Dekliniertes_Gerundivum: beizubehaltende\n",
    "# VMaßeinheiten"
   ]
  },
  {
   "cell_type": "markdown",
   "metadata": {},
   "source": [
    "## Bindestrich"
   ]
  },
  {
   "cell_type": "markdown",
   "metadata": {},
   "source": [
    "### Gebundene Adjektiv-Lexeme"
   ]
  },
  {
   "cell_type": "code",
   "execution_count": 69,
   "metadata": {
    "execution": {
     "iopub.execute_input": "2023-02-20T16:17:08.304129Z",
     "iopub.status.busy": "2023-02-20T16:17:08.303839Z",
     "iopub.status.idle": "2023-02-20T16:17:08.428252Z",
     "shell.execute_reply": "2023-02-20T16:17:08.427570Z",
     "shell.execute_reply.started": "2023-02-20T16:17:08.304107Z"
    },
    "tags": []
   },
   "outputs": [
    {
     "name": "stdout",
     "output_type": "stream",
     "text": [
      "check_mask:  4 rows\n"
     ]
    },
    {
     "data": {
      "text/html": [
       "<div>\n",
       "<style scoped>\n",
       "    .dataframe tbody tr th:only-of-type {\n",
       "        vertical-align: middle;\n",
       "    }\n",
       "\n",
       "    .dataframe tbody tr th {\n",
       "        vertical-align: top;\n",
       "    }\n",
       "\n",
       "    .dataframe thead th {\n",
       "        text-align: right;\n",
       "    }\n",
       "</style>\n",
       "<table border=\"1\" class=\"dataframe\">\n",
       "  <thead>\n",
       "    <tr style=\"text-align: right;\">\n",
       "      <th></th>\n",
       "      <th>page_id</th>\n",
       "      <th>page_part</th>\n",
       "      <th>section_id2</th>\n",
       "      <th>title</th>\n",
       "      <th>lemma</th>\n",
       "      <th>inflected</th>\n",
       "      <th>pos</th>\n",
       "      <th>tag</th>\n",
       "      <th>member</th>\n",
       "      <th>rhymes</th>\n",
       "      <th>score</th>\n",
       "      <th>flexion</th>\n",
       "      <th>ipa</th>\n",
       "      <th>syllables</th>\n",
       "      <th>lang</th>\n",
       "      <th>lang_code</th>\n",
       "      <th>error</th>\n",
       "      <th>lemma_lower</th>\n",
       "    </tr>\n",
       "  </thead>\n",
       "  <tbody>\n",
       "    <tr>\n",
       "      <th>25872</th>\n",
       "      <td>68346</td>\n",
       "      <td>0</td>\n",
       "      <td>unter-</td>\n",
       "      <td>unter-</td>\n",
       "      <td>unter-</td>\n",
       "      <td>False</td>\n",
       "      <td>{'Affix': ['Präfix']}</td>\n",
       "      <td>TRUNC</td>\n",
       "      <td>Affix Präfix</td>\n",
       "      <td>NaN</td>\n",
       "      <td>10.343864</td>\n",
       "      <td>{}</td>\n",
       "      <td>[ʊntɐ]</td>\n",
       "      <td>[un, ter]</td>\n",
       "      <td>Deutsch</td>\n",
       "      <td>de</td>\n",
       "      <td></td>\n",
       "      <td>unter-</td>\n",
       "    </tr>\n",
       "    <tr>\n",
       "      <th>214016</th>\n",
       "      <td>380261</td>\n",
       "      <td>0</td>\n",
       "      <td>ober-</td>\n",
       "      <td>ober-</td>\n",
       "      <td>ober-</td>\n",
       "      <td>False</td>\n",
       "      <td>{'Affix': ['Präfix', 'Präfixoid']}</td>\n",
       "      <td>TRUNC</td>\n",
       "      <td>Affix Präfixoid Präfix</td>\n",
       "      <td>NaN</td>\n",
       "      <td>7.959903</td>\n",
       "      <td>{}</td>\n",
       "      <td>[ˈoːbɐ]</td>\n",
       "      <td>[ober]</td>\n",
       "      <td>Deutsch</td>\n",
       "      <td>de</td>\n",
       "      <td></td>\n",
       "      <td>ober-</td>\n",
       "    </tr>\n",
       "    <tr>\n",
       "      <th>457256</th>\n",
       "      <td>681179</td>\n",
       "      <td>0</td>\n",
       "      <td>äußer-</td>\n",
       "      <td>äußer-</td>\n",
       "      <td>äußer-</td>\n",
       "      <td>False</td>\n",
       "      <td>{'Adjektiv': []}</td>\n",
       "      <td>ADJA</td>\n",
       "      <td>Adjektiv</td>\n",
       "      <td>NaN</td>\n",
       "      <td>12.08627</td>\n",
       "      <td>{'Positiv': ['äußer(er)'], 'Superlativ': ['äußersten']}</td>\n",
       "      <td>[ˈɔɪ̯səʁɐ]</td>\n",
       "      <td>NaN</td>\n",
       "      <td>Deutsch</td>\n",
       "      <td>de</td>\n",
       "      <td></td>\n",
       "      <td>äußer-</td>\n",
       "    </tr>\n",
       "    <tr>\n",
       "      <th>457269</th>\n",
       "      <td>681193</td>\n",
       "      <td>0</td>\n",
       "      <td>inner-</td>\n",
       "      <td>inner-</td>\n",
       "      <td>inner-</td>\n",
       "      <td>False</td>\n",
       "      <td>{'Adjektiv': []}</td>\n",
       "      <td>ADJA</td>\n",
       "      <td>Adjektiv</td>\n",
       "      <td>NaN</td>\n",
       "      <td>12.695018</td>\n",
       "      <td>{'Positiv': ['inner(er)'], 'Superlativ': ['innersten']}</td>\n",
       "      <td>[ˈɪnɐ]</td>\n",
       "      <td>NaN</td>\n",
       "      <td>Deutsch</td>\n",
       "      <td>de</td>\n",
       "      <td></td>\n",
       "      <td>inner-</td>\n",
       "    </tr>\n",
       "  </tbody>\n",
       "</table>\n",
       "</div>"
      ],
      "text/plain": [
       "        page_id  page_part section_id2   title   lemma  inflected  \\\n",
       "25872     68346          0      unter-  unter-  unter-      False   \n",
       "214016   380261          0       ober-   ober-   ober-      False   \n",
       "457256   681179          0      äußer-  äußer-  äußer-      False   \n",
       "457269   681193          0      inner-  inner-  inner-      False   \n",
       "\n",
       "                                       pos    tag                  member  \\\n",
       "25872                {'Affix': ['Präfix']}  TRUNC            Affix Präfix   \n",
       "214016  {'Affix': ['Präfix', 'Präfixoid']}  TRUNC  Affix Präfixoid Präfix   \n",
       "457256                    {'Adjektiv': []}   ADJA                Adjektiv   \n",
       "457269                    {'Adjektiv': []}   ADJA                Adjektiv   \n",
       "\n",
       "       rhymes      score  \\\n",
       "25872     NaN  10.343864   \n",
       "214016    NaN   7.959903   \n",
       "457256    NaN   12.08627   \n",
       "457269    NaN  12.695018   \n",
       "\n",
       "                                                        flexion         ipa  \\\n",
       "25872                                                        {}      [ʊntɐ]   \n",
       "214016                                                       {}     [ˈoːbɐ]   \n",
       "457256  {'Positiv': ['äußer(er)'], 'Superlativ': ['äußersten']}  [ˈɔɪ̯səʁɐ]   \n",
       "457269  {'Positiv': ['inner(er)'], 'Superlativ': ['innersten']}      [ˈɪnɐ]   \n",
       "\n",
       "        syllables     lang lang_code error lemma_lower  \n",
       "25872   [un, ter]  Deutsch        de            unter-  \n",
       "214016     [ober]  Deutsch        de             ober-  \n",
       "457256        NaN  Deutsch        de            äußer-  \n",
       "457269        NaN  Deutsch        de            inner-  "
      ]
     },
     "execution_count": 69,
     "metadata": {},
     "output_type": "execute_result"
    }
   ],
   "source": [
    "# Gebundene Adjektiv-Lexeme in wiktionary\n",
    "suche = ['ober-','unter-','äußer-','inner-',]\n",
    "mask = wiktionary.section_id2.isin(suche)\n",
    "\n",
    "check_mask(wiktionary,mask,0,4)\n",
    "wiktionary[mask]"
   ]
  },
  {
   "cell_type": "code",
   "execution_count": 70,
   "metadata": {
    "execution": {
     "iopub.execute_input": "2023-02-20T16:17:08.429761Z",
     "iopub.status.busy": "2023-02-20T16:17:08.429484Z",
     "iopub.status.idle": "2023-02-20T16:17:08.743783Z",
     "shell.execute_reply": "2023-02-20T16:17:08.742816Z",
     "shell.execute_reply.started": "2023-02-20T16:17:08.429740Z"
    }
   },
   "outputs": [
    {
     "data": {
      "text/html": [
       "<div>\n",
       "<style scoped>\n",
       "    .dataframe tbody tr th:only-of-type {\n",
       "        vertical-align: middle;\n",
       "    }\n",
       "\n",
       "    .dataframe tbody tr th {\n",
       "        vertical-align: top;\n",
       "    }\n",
       "\n",
       "    .dataframe thead th {\n",
       "        text-align: right;\n",
       "    }\n",
       "</style>\n",
       "<table border=\"1\" class=\"dataframe\">\n",
       "  <thead>\n",
       "    <tr style=\"text-align: right;\">\n",
       "      <th></th>\n",
       "      <th>page_id</th>\n",
       "      <th>page_part</th>\n",
       "      <th>section_id2</th>\n",
       "      <th>title</th>\n",
       "      <th>lemma</th>\n",
       "      <th>inflected</th>\n",
       "      <th>pos</th>\n",
       "      <th>tag</th>\n",
       "      <th>member</th>\n",
       "      <th>rhymes</th>\n",
       "      <th>score</th>\n",
       "      <th>flexion</th>\n",
       "      <th>ipa</th>\n",
       "      <th>syllables</th>\n",
       "      <th>lang</th>\n",
       "      <th>lang_code</th>\n",
       "      <th>error</th>\n",
       "      <th>lemma_lower</th>\n",
       "    </tr>\n",
       "  </thead>\n",
       "  <tbody>\n",
       "    <tr>\n",
       "      <th>25872</th>\n",
       "      <td>68346</td>\n",
       "      <td>0</td>\n",
       "      <td>unter_glex</td>\n",
       "      <td>unter</td>\n",
       "      <td>unter</td>\n",
       "      <td>False</td>\n",
       "      <td>None</td>\n",
       "      <td>ADJA</td>\n",
       "      <td>Adjektiv</td>\n",
       "      <td>NaN</td>\n",
       "      <td>10.343864</td>\n",
       "      <td>{}</td>\n",
       "      <td>[ʊntɐ]</td>\n",
       "      <td>[un, ter]</td>\n",
       "      <td>Deutsch</td>\n",
       "      <td>de</td>\n",
       "      <td></td>\n",
       "      <td>unter</td>\n",
       "    </tr>\n",
       "    <tr>\n",
       "      <th>214016</th>\n",
       "      <td>380261</td>\n",
       "      <td>0</td>\n",
       "      <td>ober_glex</td>\n",
       "      <td>ober</td>\n",
       "      <td>ober</td>\n",
       "      <td>False</td>\n",
       "      <td>None</td>\n",
       "      <td>ADJA</td>\n",
       "      <td>Adjektiv</td>\n",
       "      <td>NaN</td>\n",
       "      <td>7.959903</td>\n",
       "      <td>{}</td>\n",
       "      <td>[ˈoːbɐ]</td>\n",
       "      <td>[ober]</td>\n",
       "      <td>Deutsch</td>\n",
       "      <td>de</td>\n",
       "      <td></td>\n",
       "      <td>ober</td>\n",
       "    </tr>\n",
       "    <tr>\n",
       "      <th>457256</th>\n",
       "      <td>681179</td>\n",
       "      <td>0</td>\n",
       "      <td>äußer_glex</td>\n",
       "      <td>äußer</td>\n",
       "      <td>äußer</td>\n",
       "      <td>False</td>\n",
       "      <td>None</td>\n",
       "      <td>ADJA</td>\n",
       "      <td>Adjektiv</td>\n",
       "      <td>NaN</td>\n",
       "      <td>12.08627</td>\n",
       "      <td>{'Positiv': ['äußer(er)'], 'Superlativ': ['äußersten']}</td>\n",
       "      <td>[ˈɔɪ̯səʁɐ]</td>\n",
       "      <td>NaN</td>\n",
       "      <td>Deutsch</td>\n",
       "      <td>de</td>\n",
       "      <td></td>\n",
       "      <td>äußer</td>\n",
       "    </tr>\n",
       "    <tr>\n",
       "      <th>457269</th>\n",
       "      <td>681193</td>\n",
       "      <td>0</td>\n",
       "      <td>inner_glex</td>\n",
       "      <td>inner</td>\n",
       "      <td>inner</td>\n",
       "      <td>False</td>\n",
       "      <td>None</td>\n",
       "      <td>ADJA</td>\n",
       "      <td>Adjektiv</td>\n",
       "      <td>NaN</td>\n",
       "      <td>12.695018</td>\n",
       "      <td>{'Positiv': ['inner(er)'], 'Superlativ': ['innersten']}</td>\n",
       "      <td>[ˈɪnɐ]</td>\n",
       "      <td>NaN</td>\n",
       "      <td>Deutsch</td>\n",
       "      <td>de</td>\n",
       "      <td></td>\n",
       "      <td>inner</td>\n",
       "    </tr>\n",
       "  </tbody>\n",
       "</table>\n",
       "</div>"
      ],
      "text/plain": [
       "        page_id  page_part section_id2  title  lemma  inflected   pos   tag  \\\n",
       "25872     68346          0  unter_glex  unter  unter      False  None  ADJA   \n",
       "214016   380261          0   ober_glex   ober   ober      False  None  ADJA   \n",
       "457256   681179          0  äußer_glex  äußer  äußer      False  None  ADJA   \n",
       "457269   681193          0  inner_glex  inner  inner      False  None  ADJA   \n",
       "\n",
       "          member rhymes      score  \\\n",
       "25872   Adjektiv    NaN  10.343864   \n",
       "214016  Adjektiv    NaN   7.959903   \n",
       "457256  Adjektiv    NaN   12.08627   \n",
       "457269  Adjektiv    NaN  12.695018   \n",
       "\n",
       "                                                        flexion         ipa  \\\n",
       "25872                                                        {}      [ʊntɐ]   \n",
       "214016                                                       {}     [ˈoːbɐ]   \n",
       "457256  {'Positiv': ['äußer(er)'], 'Superlativ': ['äußersten']}  [ˈɔɪ̯səʁɐ]   \n",
       "457269  {'Positiv': ['inner(er)'], 'Superlativ': ['innersten']}      [ˈɪnɐ]   \n",
       "\n",
       "        syllables     lang lang_code error lemma_lower  \n",
       "25872   [un, ter]  Deutsch        de             unter  \n",
       "214016     [ober]  Deutsch        de              ober  \n",
       "457256        NaN  Deutsch        de             äußer  \n",
       "457269        NaN  Deutsch        de             inner  "
      ]
     },
     "execution_count": 70,
     "metadata": {},
     "output_type": "execute_result"
    }
   ],
   "source": [
    "wiktionary.loc[mask,'title']       = wiktionary[mask].title.str.replace('-','')\n",
    "wiktionary.loc[mask,'lemma']       = wiktionary[mask].lemma.str.replace('-','')\n",
    "wiktionary.loc[mask,'lemma_lower'] = wiktionary[mask].lemma_lower.str.replace('-','')\n",
    "wiktionary.loc[mask,'member']      = 'Adjektiv'\n",
    "wiktionary.loc[mask,'tag']         = 'ADJA'\n",
    "wiktionary.loc[mask,'pos']         = None # {'Adjektiv': []}\n",
    "wiktionary.loc[mask,'section_id2'] = wiktionary[mask].section_id2.str.replace('-','_glex')\n",
    "wiktionary[mask]"
   ]
  },
  {
   "cell_type": "code",
   "execution_count": 71,
   "metadata": {
    "execution": {
     "iopub.execute_input": "2023-02-20T16:17:08.744757Z",
     "iopub.status.busy": "2023-02-20T16:17:08.744504Z",
     "iopub.status.idle": "2023-02-20T16:17:08.783246Z",
     "shell.execute_reply": "2023-02-20T16:17:08.781518Z",
     "shell.execute_reply.started": "2023-02-20T16:17:08.744735Z"
    },
    "tags": []
   },
   "outputs": [],
   "source": [
    "#pak.analyse_datatypes(wiktionary)"
   ]
  },
  {
   "cell_type": "code",
   "execution_count": 72,
   "metadata": {
    "execution": {
     "iopub.execute_input": "2023-02-20T16:17:08.793235Z",
     "iopub.status.busy": "2023-02-20T16:17:08.789170Z",
     "iopub.status.idle": "2023-02-20T16:17:09.135092Z",
     "shell.execute_reply": "2023-02-20T16:17:09.133299Z",
     "shell.execute_reply.started": "2023-02-20T16:17:08.793195Z"
    }
   },
   "outputs": [
    {
     "name": "stdout",
     "output_type": "stream",
     "text": [
      "check_mask:  80 rows\n"
     ]
    }
   ],
   "source": [
    "# Gebundene Adjektiv-Lexeme in wiktionary_merkmal\n",
    "suche = ['ober-','unter-','äußer-','inner-',]\n",
    "mask = wiktionary_merkmal.section_id2.isin(suche)\n",
    "check_mask(wiktionary_merkmal,mask,80)\n",
    "wiktionary_merkmal.loc[mask,'section_id2'] = wiktionary_merkmal[mask].section_id2.str.replace('-','_glex')\n",
    "#wiktionary_merkmal[mask]"
   ]
  },
  {
   "cell_type": "code",
   "execution_count": 73,
   "metadata": {
    "execution": {
     "iopub.execute_input": "2023-02-20T16:17:09.145217Z",
     "iopub.status.busy": "2023-02-20T16:17:09.140389Z",
     "iopub.status.idle": "2023-02-20T16:17:09.269662Z",
     "shell.execute_reply": "2023-02-20T16:17:09.268934Z",
     "shell.execute_reply.started": "2023-02-20T16:17:09.145177Z"
    }
   },
   "outputs": [
    {
     "name": "stdout",
     "output_type": "stream",
     "text": [
      "check_mask:  46 rows\n"
     ]
    }
   ],
   "source": [
    "# Gebundene Adjektiv-Lexeme in wiktionary_merkmal_text\n",
    "suche = ['ober-','unter-','äußer-','inner-',]\n",
    "mask = wiktionary_merkmal_text.section_id2.isin(suche)\n",
    "check_mask(wiktionary_merkmal_text,mask,46)\n",
    "wiktionary_merkmal_text.loc[mask,'section_id2'] = wiktionary_merkmal_text[mask].section_id2.str.replace('-','_glex')\n",
    "#wiktionary_merkmal_text[mask]"
   ]
  },
  {
   "cell_type": "code",
   "execution_count": 74,
   "metadata": {
    "execution": {
     "iopub.execute_input": "2023-02-20T16:17:09.277304Z",
     "iopub.status.busy": "2023-02-20T16:17:09.275266Z",
     "iopub.status.idle": "2023-02-20T16:17:09.561357Z",
     "shell.execute_reply": "2023-02-20T16:17:09.560577Z",
     "shell.execute_reply.started": "2023-02-20T16:17:09.277264Z"
    }
   },
   "outputs": [
    {
     "name": "stdout",
     "output_type": "stream",
     "text": [
      "check_mask:  36 rows\n"
     ]
    }
   ],
   "source": [
    "# Gebundene Adjektiv-Lexeme in wiktionary\n",
    "suche = ['ober-','unter-','äußer-','inner-',]\n",
    "mask = wiktionary.lemma.isin(suche)\n",
    "check_mask(wiktionary,mask,36)\n",
    "\n",
    "wiktionary.loc[mask,'title']       = wiktionary[mask].title.str.replace('-','')\n",
    "wiktionary.loc[mask,'lemma']       = wiktionary[mask].lemma.str.replace('-','')\n",
    "wiktionary.loc[mask,'lemma_lower'] = wiktionary[mask].lemma_lower.str.replace('-','')\n",
    "# wiktionary[mask]"
   ]
  },
  {
   "cell_type": "code",
   "execution_count": 75,
   "metadata": {
    "execution": {
     "iopub.execute_input": "2023-02-20T16:17:09.568366Z",
     "iopub.status.busy": "2023-02-20T16:17:09.565299Z",
     "iopub.status.idle": "2023-02-20T16:17:10.049284Z",
     "shell.execute_reply": "2023-02-20T16:17:10.048536Z",
     "shell.execute_reply.started": "2023-02-20T16:17:09.568328Z"
    }
   },
   "outputs": [
    {
     "name": "stdout",
     "output_type": "stream",
     "text": [
      "check_mask:  1 rows\n"
     ]
    },
    {
     "data": {
      "text/html": [
       "<div>\n",
       "<style scoped>\n",
       "    .dataframe tbody tr th:only-of-type {\n",
       "        vertical-align: middle;\n",
       "    }\n",
       "\n",
       "    .dataframe tbody tr th {\n",
       "        vertical-align: top;\n",
       "    }\n",
       "\n",
       "    .dataframe thead th {\n",
       "        text-align: right;\n",
       "    }\n",
       "</style>\n",
       "<table border=\"1\" class=\"dataframe\">\n",
       "  <thead>\n",
       "    <tr style=\"text-align: right;\">\n",
       "      <th></th>\n",
       "      <th>section_id2</th>\n",
       "      <th>merkmal</th>\n",
       "      <th>node_debug</th>\n",
       "      <th>node_kontext</th>\n",
       "      <th>data</th>\n",
       "      <th>num</th>\n",
       "      <th>meta</th>\n",
       "    </tr>\n",
       "  </thead>\n",
       "  <tbody>\n",
       "    <tr>\n",
       "      <th>652252</th>\n",
       "      <td>unter-_1</td>\n",
       "      <td>übersicht</td>\n",
       "      <td>Deutsch Adjektiv Übersicht</td>\n",
       "      <td>Positiv</td>\n",
       "      <td>unter</td>\n",
       "      <td></td>\n",
       "      <td>&lt;NA&gt;</td>\n",
       "    </tr>\n",
       "  </tbody>\n",
       "</table>\n",
       "</div>"
      ],
      "text/plain": [
       "       section_id2    merkmal                   node_debug node_kontext  \\\n",
       "652252    unter-_1  übersicht  Deutsch Adjektiv Übersicht\n",
       "      Positiv   \n",
       "\n",
       "         data num  meta  \n",
       "652252  unter      <NA>  "
      ]
     },
     "execution_count": 75,
     "metadata": {},
     "output_type": "execute_result"
    }
   ],
   "source": [
    "# Gebundene Adjektiv-Lexeme in wiktionary_merkmal\n",
    "suche = ['ober-','unter-','äußer-','inner-',]\n",
    "mask = wiktionary_merkmal.data.isin(suche)\n",
    "check_mask(wiktionary_merkmal,mask,0,10)\n",
    "wiktionary_merkmal.loc[mask,'data'] = wiktionary_merkmal[mask].data.str.replace('-','')\n",
    "wiktionary_merkmal[mask]"
   ]
  },
  {
   "cell_type": "markdown",
   "metadata": {},
   "source": [
    "### Präfix"
   ]
  },
  {
   "cell_type": "code",
   "execution_count": 76,
   "metadata": {
    "execution": {
     "iopub.execute_input": "2023-02-20T16:17:10.062334Z",
     "iopub.status.busy": "2023-02-20T16:17:10.054739Z",
     "iopub.status.idle": "2023-02-20T16:17:11.960325Z",
     "shell.execute_reply": "2023-02-20T16:17:11.956054Z",
     "shell.execute_reply.started": "2023-02-20T16:17:10.062295Z"
    }
   },
   "outputs": [
    {
     "name": "stdout",
     "output_type": "stream",
     "text": [
      "check_mask:  551 rows\n",
      "551 rows out of 837254\n"
     ]
    },
    {
     "data": {
      "text/html": [
       "<div>\n",
       "<style scoped>\n",
       "    .dataframe tbody tr th:only-of-type {\n",
       "        vertical-align: middle;\n",
       "    }\n",
       "\n",
       "    .dataframe tbody tr th {\n",
       "        vertical-align: top;\n",
       "    }\n",
       "\n",
       "    .dataframe thead th {\n",
       "        text-align: right;\n",
       "    }\n",
       "</style>\n",
       "<table border=\"1\" class=\"dataframe\">\n",
       "  <thead>\n",
       "    <tr style=\"text-align: right;\">\n",
       "      <th></th>\n",
       "      <th>page_id</th>\n",
       "      <th>page_part</th>\n",
       "      <th>section_id2</th>\n",
       "      <th>title</th>\n",
       "      <th>lemma</th>\n",
       "      <th>inflected</th>\n",
       "      <th>pos</th>\n",
       "      <th>tag</th>\n",
       "      <th>member</th>\n",
       "      <th>rhymes</th>\n",
       "      <th>score</th>\n",
       "      <th>flexion</th>\n",
       "      <th>ipa</th>\n",
       "      <th>syllables</th>\n",
       "      <th>lang</th>\n",
       "      <th>lang_code</th>\n",
       "      <th>error</th>\n",
       "      <th>lemma_lower</th>\n",
       "    </tr>\n",
       "  </thead>\n",
       "  <tbody>\n",
       "    <tr>\n",
       "      <th>161</th>\n",
       "      <td>248</td>\n",
       "      <td>0</td>\n",
       "      <td>auto-</td>\n",
       "      <td>auto-</td>\n",
       "      <td>auto-</td>\n",
       "      <td>False</td>\n",
       "      <td>{'Gebundenes Lexem': []}</td>\n",
       "      <td>AFIX TRUNC</td>\n",
       "      <td>Gebundenes_Lexem</td>\n",
       "      <td>NaN</td>\n",
       "      <td>7.591738</td>\n",
       "      <td>{}</td>\n",
       "      <td>[aʊ̯toː]</td>\n",
       "      <td>[au, to]</td>\n",
       "      <td>Deutsch</td>\n",
       "      <td>de</td>\n",
       "      <td></td>\n",
       "      <td>auto-</td>\n",
       "    </tr>\n",
       "    <tr>\n",
       "      <th>269</th>\n",
       "      <td>388</td>\n",
       "      <td>0</td>\n",
       "      <td>ambi-</td>\n",
       "      <td>ambi-</td>\n",
       "      <td>ambi-</td>\n",
       "      <td>False</td>\n",
       "      <td>{'Gebundenes Lexem': []}</td>\n",
       "      <td>AFIX TRUNC</td>\n",
       "      <td>Gebundenes_Lexem</td>\n",
       "      <td>NaN</td>\n",
       "      <td>3.45808</td>\n",
       "      <td>{}</td>\n",
       "      <td>[ambi]</td>\n",
       "      <td>[am, bi]</td>\n",
       "      <td>Deutsch</td>\n",
       "      <td>de</td>\n",
       "      <td></td>\n",
       "      <td>ambi-</td>\n",
       "    </tr>\n",
       "    <tr>\n",
       "      <th>2694</th>\n",
       "      <td>3700</td>\n",
       "      <td>0</td>\n",
       "      <td>stief-</td>\n",
       "      <td>stief-</td>\n",
       "      <td>stief-</td>\n",
       "      <td>False</td>\n",
       "      <td>{'Gebundenes Lexem': []}</td>\n",
       "      <td>AFIX TRUNC</td>\n",
       "      <td>Gebundenes_Lexem</td>\n",
       "      <td>NaN</td>\n",
       "      <td>4.978129</td>\n",
       "      <td>{}</td>\n",
       "      <td>[ʃtiːf]</td>\n",
       "      <td>[stief]</td>\n",
       "      <td>Deutsch</td>\n",
       "      <td>de</td>\n",
       "      <td></td>\n",
       "      <td>stief-</td>\n",
       "    </tr>\n",
       "    <tr>\n",
       "      <th>4142</th>\n",
       "      <td>6082</td>\n",
       "      <td>0</td>\n",
       "      <td>plagio-</td>\n",
       "      <td>plagio-</td>\n",
       "      <td>plagio-</td>\n",
       "      <td>False</td>\n",
       "      <td>{'Gebundenes Lexem': []}</td>\n",
       "      <td>AFIX TRUNC</td>\n",
       "      <td>Gebundenes_Lexem</td>\n",
       "      <td>NaN</td>\n",
       "      <td>5.306197</td>\n",
       "      <td>{}</td>\n",
       "      <td>[plaɡi̯o-]</td>\n",
       "      <td>[pla, gio]</td>\n",
       "      <td>Deutsch</td>\n",
       "      <td>de</td>\n",
       "      <td></td>\n",
       "      <td>plagio-</td>\n",
       "    </tr>\n",
       "    <tr>\n",
       "      <th>4144</th>\n",
       "      <td>6084</td>\n",
       "      <td>0</td>\n",
       "      <td>ortho-</td>\n",
       "      <td>ortho-</td>\n",
       "      <td>ortho-</td>\n",
       "      <td>False</td>\n",
       "      <td>{'Gebundenes Lexem': []}</td>\n",
       "      <td>AFIX TRUNC</td>\n",
       "      <td>Gebundenes_Lexem</td>\n",
       "      <td>NaN</td>\n",
       "      <td>6.217497</td>\n",
       "      <td>{}</td>\n",
       "      <td>[ˈɔʁto]</td>\n",
       "      <td>[or, tho]</td>\n",
       "      <td>Deutsch</td>\n",
       "      <td>de</td>\n",
       "      <td></td>\n",
       "      <td>ortho-</td>\n",
       "    </tr>\n",
       "    <tr>\n",
       "      <th>...</th>\n",
       "      <td>...</td>\n",
       "      <td>...</td>\n",
       "      <td>...</td>\n",
       "      <td>...</td>\n",
       "      <td>...</td>\n",
       "      <td>...</td>\n",
       "      <td>...</td>\n",
       "      <td>...</td>\n",
       "      <td>...</td>\n",
       "      <td>...</td>\n",
       "      <td>...</td>\n",
       "      <td>...</td>\n",
       "      <td>...</td>\n",
       "      <td>...</td>\n",
       "      <td>...</td>\n",
       "      <td>...</td>\n",
       "      <td>...</td>\n",
       "      <td>...</td>\n",
       "    </tr>\n",
       "    <tr>\n",
       "      <th>806614</th>\n",
       "      <td>1078889</td>\n",
       "      <td>0</td>\n",
       "      <td>nord-</td>\n",
       "      <td>nord-</td>\n",
       "      <td>nord-</td>\n",
       "      <td>False</td>\n",
       "      <td>{'Gebundenes Lexem': []}</td>\n",
       "      <td>AFIX TRUNC</td>\n",
       "      <td>Gebundenes_Lexem</td>\n",
       "      <td>NaN</td>\n",
       "      <td>5.36452</td>\n",
       "      <td>{}</td>\n",
       "      <td>[nɔʁt]</td>\n",
       "      <td>[nord]</td>\n",
       "      <td>Deutsch</td>\n",
       "      <td>de</td>\n",
       "      <td></td>\n",
       "      <td>nord-</td>\n",
       "    </tr>\n",
       "    <tr>\n",
       "      <th>808534</th>\n",
       "      <td>1080874</td>\n",
       "      <td>0</td>\n",
       "      <td>Nobel-</td>\n",
       "      <td>Nobel-</td>\n",
       "      <td>Nobel-</td>\n",
       "      <td>False</td>\n",
       "      <td>{'Affix': ['Präfixoid']}</td>\n",
       "      <td>AFIX TRUNC</td>\n",
       "      <td>Präfixoid</td>\n",
       "      <td>NaN</td>\n",
       "      <td>3.345079</td>\n",
       "      <td>{}</td>\n",
       "      <td>[ˈnoːbl̩]</td>\n",
       "      <td>[No, bel]</td>\n",
       "      <td>Deutsch</td>\n",
       "      <td>de</td>\n",
       "      <td></td>\n",
       "      <td>nobel-</td>\n",
       "    </tr>\n",
       "    <tr>\n",
       "      <th>809124</th>\n",
       "      <td>1081469</td>\n",
       "      <td>0</td>\n",
       "      <td>Operetten-</td>\n",
       "      <td>Operetten-</td>\n",
       "      <td>Operetten-</td>\n",
       "      <td>False</td>\n",
       "      <td>{'Affix': ['Präfixoid']}</td>\n",
       "      <td>AFIX TRUNC</td>\n",
       "      <td>Präfixoid</td>\n",
       "      <td>NaN</td>\n",
       "      <td>4.0887</td>\n",
       "      <td>{}</td>\n",
       "      <td>[opəˈʁɛtn̩]</td>\n",
       "      <td>[Ope, ret, ten]</td>\n",
       "      <td>Deutsch</td>\n",
       "      <td>de</td>\n",
       "      <td></td>\n",
       "      <td>operetten-</td>\n",
       "    </tr>\n",
       "    <tr>\n",
       "      <th>814132</th>\n",
       "      <td>1086984</td>\n",
       "      <td>0</td>\n",
       "      <td>divers-</td>\n",
       "      <td>divers-</td>\n",
       "      <td>divers-</td>\n",
       "      <td>False</td>\n",
       "      <td>{'Gebundenes Lexem': []}</td>\n",
       "      <td>AFIX TRUNC</td>\n",
       "      <td>Gebundenes_Lexem</td>\n",
       "      <td>NaN</td>\n",
       "      <td>20.612394</td>\n",
       "      <td>{}</td>\n",
       "      <td>[diˈvɛʁs]</td>\n",
       "      <td>[di, vers]</td>\n",
       "      <td>Deutsch</td>\n",
       "      <td>de</td>\n",
       "      <td></td>\n",
       "      <td>divers-</td>\n",
       "    </tr>\n",
       "    <tr>\n",
       "      <th>816448</th>\n",
       "      <td>1089957</td>\n",
       "      <td>0</td>\n",
       "      <td>Schmalspur-</td>\n",
       "      <td>Schmalspur-</td>\n",
       "      <td>Schmalspur-</td>\n",
       "      <td>False</td>\n",
       "      <td>{'Affix': ['Präfixoid']}</td>\n",
       "      <td>AFIX TRUNC</td>\n",
       "      <td>Präfixoid</td>\n",
       "      <td>NaN</td>\n",
       "      <td>6.148238</td>\n",
       "      <td>{}</td>\n",
       "      <td>[ˈʃmaːlʃpuːɐ̯]</td>\n",
       "      <td>[Schmal, spur]</td>\n",
       "      <td>Deutsch</td>\n",
       "      <td>de</td>\n",
       "      <td></td>\n",
       "      <td>schmalspur-</td>\n",
       "    </tr>\n",
       "  </tbody>\n",
       "</table>\n",
       "<p>551 rows × 18 columns</p>\n",
       "</div>"
      ],
      "text/plain": [
       "        page_id  page_part  section_id2        title        lemma  inflected  \\\n",
       "161         248          0        auto-        auto-        auto-      False   \n",
       "269         388          0        ambi-        ambi-        ambi-      False   \n",
       "2694       3700          0       stief-       stief-       stief-      False   \n",
       "4142       6082          0      plagio-      plagio-      plagio-      False   \n",
       "4144       6084          0       ortho-       ortho-       ortho-      False   \n",
       "...         ...        ...          ...          ...          ...        ...   \n",
       "806614  1078889          0        nord-        nord-        nord-      False   \n",
       "808534  1080874          0       Nobel-       Nobel-       Nobel-      False   \n",
       "809124  1081469          0   Operetten-   Operetten-   Operetten-      False   \n",
       "814132  1086984          0      divers-      divers-      divers-      False   \n",
       "816448  1089957          0  Schmalspur-  Schmalspur-  Schmalspur-      False   \n",
       "\n",
       "                             pos         tag            member rhymes  \\\n",
       "161     {'Gebundenes Lexem': []}  AFIX TRUNC  Gebundenes_Lexem    NaN   \n",
       "269     {'Gebundenes Lexem': []}  AFIX TRUNC  Gebundenes_Lexem    NaN   \n",
       "2694    {'Gebundenes Lexem': []}  AFIX TRUNC  Gebundenes_Lexem    NaN   \n",
       "4142    {'Gebundenes Lexem': []}  AFIX TRUNC  Gebundenes_Lexem    NaN   \n",
       "4144    {'Gebundenes Lexem': []}  AFIX TRUNC  Gebundenes_Lexem    NaN   \n",
       "...                          ...         ...               ...    ...   \n",
       "806614  {'Gebundenes Lexem': []}  AFIX TRUNC  Gebundenes_Lexem    NaN   \n",
       "808534  {'Affix': ['Präfixoid']}  AFIX TRUNC         Präfixoid    NaN   \n",
       "809124  {'Affix': ['Präfixoid']}  AFIX TRUNC         Präfixoid    NaN   \n",
       "814132  {'Gebundenes Lexem': []}  AFIX TRUNC  Gebundenes_Lexem    NaN   \n",
       "816448  {'Affix': ['Präfixoid']}  AFIX TRUNC         Präfixoid    NaN   \n",
       "\n",
       "            score flexion             ipa        syllables     lang lang_code  \\\n",
       "161      7.591738      {}        [aʊ̯toː]         [au, to]  Deutsch        de   \n",
       "269       3.45808      {}          [ambi]         [am, bi]  Deutsch        de   \n",
       "2694     4.978129      {}         [ʃtiːf]          [stief]  Deutsch        de   \n",
       "4142     5.306197      {}      [plaɡi̯o-]       [pla, gio]  Deutsch        de   \n",
       "4144     6.217497      {}         [ˈɔʁto]        [or, tho]  Deutsch        de   \n",
       "...           ...     ...             ...              ...      ...       ...   \n",
       "806614    5.36452      {}          [nɔʁt]           [nord]  Deutsch        de   \n",
       "808534   3.345079      {}       [ˈnoːbl̩]        [No, bel]  Deutsch        de   \n",
       "809124     4.0887      {}     [opəˈʁɛtn̩]  [Ope, ret, ten]  Deutsch        de   \n",
       "814132  20.612394      {}       [diˈvɛʁs]       [di, vers]  Deutsch        de   \n",
       "816448   6.148238      {}  [ˈʃmaːlʃpuːɐ̯]   [Schmal, spur]  Deutsch        de   \n",
       "\n",
       "       error  lemma_lower  \n",
       "161                 auto-  \n",
       "269                 ambi-  \n",
       "2694               stief-  \n",
       "4142              plagio-  \n",
       "4144               ortho-  \n",
       "...      ...          ...  \n",
       "806614              nord-  \n",
       "808534             nobel-  \n",
       "809124         operetten-  \n",
       "814132            divers-  \n",
       "816448        schmalspur-  \n",
       "\n",
       "[551 rows x 18 columns]"
      ]
     },
     "execution_count": 76,
     "metadata": {},
     "output_type": "execute_result"
    }
   ],
   "source": [
    "# AFIX 551\n",
    "mask0 = ~wiktionary.lemma.str.startswith('-')   \n",
    "mask1 =  wiktionary.lemma.str.endswith('-')  \n",
    "mask2 = ~wiktionary.lemma.str[0].str.isdigit()\n",
    "mask3 =  wiktionary.lemma.str.len() > 1\n",
    "mask4 = ~wiktionary.tag.str.contains(' ')   \n",
    "mask = mask0  &  mask1  &  mask2  &  mask3  &  mask4 \n",
    "pak.check_mask(wiktionary, mask, 551)\n",
    "\n",
    "wiktionary.loc[mask,'tag']    = 'AFIX ' + wiktionary[mask].tag\n",
    "wiktionary.loc[mask,'member'] = pak.remove_str(wiktionary[mask].member, ['Affix'])\n",
    "grid(wiktionary, mask)"
   ]
  },
  {
   "cell_type": "code",
   "execution_count": 77,
   "metadata": {
    "execution": {
     "iopub.execute_input": "2023-02-20T16:17:11.962534Z",
     "iopub.status.busy": "2023-02-20T16:17:11.962111Z",
     "iopub.status.idle": "2023-02-20T16:17:12.559599Z",
     "shell.execute_reply": "2023-02-20T16:17:12.558854Z",
     "shell.execute_reply.started": "2023-02-20T16:17:11.962500Z"
    },
    "tags": []
   },
   "outputs": [
    {
     "name": "stdout",
     "output_type": "stream",
     "text": [
      "check_mask:  1 rows\n"
     ]
    },
    {
     "data": {
      "text/html": [
       "<div>\n",
       "<style scoped>\n",
       "    .dataframe tbody tr th:only-of-type {\n",
       "        vertical-align: middle;\n",
       "    }\n",
       "\n",
       "    .dataframe tbody tr th {\n",
       "        vertical-align: top;\n",
       "    }\n",
       "\n",
       "    .dataframe thead th {\n",
       "        text-align: right;\n",
       "    }\n",
       "</style>\n",
       "<table border=\"1\" class=\"dataframe\">\n",
       "  <thead>\n",
       "    <tr style=\"text-align: right;\">\n",
       "      <th></th>\n",
       "      <th>page_id</th>\n",
       "      <th>page_part</th>\n",
       "      <th>section_id2</th>\n",
       "      <th>title</th>\n",
       "      <th>lemma</th>\n",
       "      <th>inflected</th>\n",
       "      <th>pos</th>\n",
       "      <th>tag</th>\n",
       "      <th>member</th>\n",
       "      <th>rhymes</th>\n",
       "      <th>score</th>\n",
       "      <th>flexion</th>\n",
       "      <th>ipa</th>\n",
       "      <th>syllables</th>\n",
       "      <th>lang</th>\n",
       "      <th>lang_code</th>\n",
       "      <th>error</th>\n",
       "      <th>lemma_lower</th>\n",
       "    </tr>\n",
       "  </thead>\n",
       "  <tbody>\n",
       "    <tr>\n",
       "      <th>20014</th>\n",
       "      <td>50798</td>\n",
       "      <td>0</td>\n",
       "      <td>dar</td>\n",
       "      <td>dar</td>\n",
       "      <td>dar</td>\n",
       "      <td>False</td>\n",
       "      <td>{'Affix': ['Präfix']}</td>\n",
       "      <td>AFIX TRUNC</td>\n",
       "      <td>Präfix</td>\n",
       "      <td>[aːɐ̯]</td>\n",
       "      <td>3.133657</td>\n",
       "      <td>{}</td>\n",
       "      <td>[daːɐ̯]</td>\n",
       "      <td>[dar]</td>\n",
       "      <td>Deutsch</td>\n",
       "      <td>de</td>\n",
       "      <td></td>\n",
       "      <td>dar</td>\n",
       "    </tr>\n",
       "  </tbody>\n",
       "</table>\n",
       "</div>"
      ],
      "text/plain": [
       "       page_id  page_part section_id2 title lemma  inflected  \\\n",
       "20014    50798          0         dar   dar   dar      False   \n",
       "\n",
       "                         pos         tag  member  rhymes     score flexion  \\\n",
       "20014  {'Affix': ['Präfix']}  AFIX TRUNC  Präfix  [aːɐ̯]  3.133657      {}   \n",
       "\n",
       "           ipa syllables     lang lang_code error lemma_lower  \n",
       "20014  [daːɐ̯]     [dar]  Deutsch        de               dar  "
      ]
     },
     "execution_count": 77,
     "metadata": {},
     "output_type": "execute_result"
    }
   ],
   "source": [
    "# dar: Präfix ohne Bindestrich\n",
    "mask1 = wiktionary.lemma == 'dar'\n",
    "mask2 = wiktionary.member.str.contains('Präfix')\n",
    "mask = mask1  &  mask2\n",
    "pak.check_mask(wiktionary, mask, 1)\n",
    "\n",
    "wiktionary.loc[mask,'tag']    = 'AFIX TRUNC'\n",
    "wiktionary.loc[mask,'member'] = 'Präfix'\n",
    "wiktionary[mask]"
   ]
  },
  {
   "cell_type": "code",
   "execution_count": 78,
   "metadata": {
    "execution": {
     "iopub.execute_input": "2023-02-20T16:17:12.565685Z",
     "iopub.status.busy": "2023-02-20T16:17:12.562383Z",
     "iopub.status.idle": "2023-02-20T16:17:12.964555Z",
     "shell.execute_reply": "2023-02-20T16:17:12.963608Z",
     "shell.execute_reply.started": "2023-02-20T16:17:12.565649Z"
    },
    "tags": []
   },
   "outputs": [
    {
     "name": "stdout",
     "output_type": "stream",
     "text": [
      "check_mask:  552 rows\n",
      "3 rows\n"
     ]
    },
    {
     "data": {
      "text/html": [
       "<div>\n",
       "<style scoped>\n",
       "    .dataframe tbody tr th:only-of-type {\n",
       "        vertical-align: middle;\n",
       "    }\n",
       "\n",
       "    .dataframe tbody tr th {\n",
       "        vertical-align: top;\n",
       "    }\n",
       "\n",
       "    .dataframe thead th {\n",
       "        text-align: right;\n",
       "    }\n",
       "</style>\n",
       "<table border=\"1\" class=\"dataframe\">\n",
       "  <thead>\n",
       "    <tr style=\"text-align: right;\">\n",
       "      <th></th>\n",
       "      <th>member</th>\n",
       "      <th>member_count</th>\n",
       "      <th>member_percent</th>\n",
       "      <th>lemma</th>\n",
       "    </tr>\n",
       "  </thead>\n",
       "  <tbody>\n",
       "    <tr>\n",
       "      <th>0</th>\n",
       "      <td>Gebundenes_Lexem</td>\n",
       "      <td>378</td>\n",
       "      <td>68.5</td>\n",
       "      <td>[tele-, Allround-, Atto-, Breitband-, Dezi-, Exa-, Femto-, Giga-, Hekto-, Kilo-, Kurzzeit-, Langzeit-, Lieblings-, Möchtegern-, Nachkriegs-, Nano-, Nullachtfünfzehn-, Peta-, Piko-, Polit-]</td>\n",
       "    </tr>\n",
       "    <tr>\n",
       "      <th>1</th>\n",
       "      <td>Präfix</td>\n",
       "      <td>144</td>\n",
       "      <td>26.1</td>\n",
       "      <td>[a-, ab-, an-, über-, Haupt-, Ingen-, abs-, ac-, ad-, af-, ag-, ak-, al-, anti-, ap-, ar-, as-, at-, auf-, aus-]</td>\n",
       "    </tr>\n",
       "    <tr>\n",
       "      <th>2</th>\n",
       "      <td>Präfixoid</td>\n",
       "      <td>30</td>\n",
       "      <td>5.4</td>\n",
       "      <td>[Allerwelts-, Bilderbuch-, Duodez-, General-, Heiden-, Mammut-, Nobel-, Operetten-, Pilot-, Quadrat-, Schmalspur-, Vollblut-, Westentaschen-, arsch-, bomben-, bären-, erz-, granaten-, grund-, hunde-]</td>\n",
       "    </tr>\n",
       "  </tbody>\n",
       "</table>\n",
       "</div>"
      ],
      "text/plain": [
       "             member  member_count  member_percent  \\\n",
       "0  Gebundenes_Lexem           378            68.5   \n",
       "1            Präfix           144            26.1   \n",
       "2         Präfixoid            30             5.4   \n",
       "\n",
       "                                                                                                                                                                                                     lemma  \n",
       "0             [tele-, Allround-, Atto-, Breitband-, Dezi-, Exa-, Femto-, Giga-, Hekto-, Kilo-, Kurzzeit-, Langzeit-, Lieblings-, Möchtegern-, Nachkriegs-, Nano-, Nullachtfünfzehn-, Peta-, Piko-, Polit-]  \n",
       "1                                                                                         [a-, ab-, an-, über-, Haupt-, Ingen-, abs-, ac-, ad-, af-, ag-, ak-, al-, anti-, ap-, ar-, as-, at-, auf-, aus-]  \n",
       "2  [Allerwelts-, Bilderbuch-, Duodez-, General-, Heiden-, Mammut-, Nobel-, Operetten-, Pilot-, Quadrat-, Schmalspur-, Vollblut-, Westentaschen-, arsch-, bomben-, bären-, erz-, granaten-, grund-, hunde-]  "
      ]
     },
     "execution_count": 78,
     "metadata": {},
     "output_type": "execute_result"
    }
   ],
   "source": [
    "# Kontrolle und Statistik AFIX\n",
    "mask_AFIX = wiktionary.tag.str.contains('AFIX')\n",
    "a = wiktionary[mask_AFIX].sort_values(['section_id2'])\n",
    "mask = a.tag != 'AFIX TRUNC'\n",
    "check_mask(a,0)\n",
    "\n",
    "df = pak.analyse_freqs(a, ['member','lemma'])\n",
    "df = pak.drop_cols(df,'lemma_count')\n",
    "grid(df)"
   ]
  },
  {
   "cell_type": "markdown",
   "metadata": {},
   "source": [
    "### Suffix"
   ]
  },
  {
   "cell_type": "code",
   "execution_count": 79,
   "metadata": {
    "execution": {
     "iopub.execute_input": "2023-02-20T16:17:12.965852Z",
     "iopub.status.busy": "2023-02-20T16:17:12.965569Z",
     "iopub.status.idle": "2023-02-20T16:17:14.285109Z",
     "shell.execute_reply": "2023-02-20T16:17:14.284378Z",
     "shell.execute_reply.started": "2023-02-20T16:17:12.965828Z"
    }
   },
   "outputs": [
    {
     "name": "stdout",
     "output_type": "stream",
     "text": [
      "check_mask:  480 rows\n",
      "480 rows out of 837254\n"
     ]
    },
    {
     "data": {
      "text/html": [
       "<div>\n",
       "<style scoped>\n",
       "    .dataframe tbody tr th:only-of-type {\n",
       "        vertical-align: middle;\n",
       "    }\n",
       "\n",
       "    .dataframe tbody tr th {\n",
       "        vertical-align: top;\n",
       "    }\n",
       "\n",
       "    .dataframe thead th {\n",
       "        text-align: right;\n",
       "    }\n",
       "</style>\n",
       "<table border=\"1\" class=\"dataframe\">\n",
       "  <thead>\n",
       "    <tr style=\"text-align: right;\">\n",
       "      <th></th>\n",
       "      <th>page_id</th>\n",
       "      <th>page_part</th>\n",
       "      <th>section_id2</th>\n",
       "      <th>title</th>\n",
       "      <th>lemma</th>\n",
       "      <th>inflected</th>\n",
       "      <th>pos</th>\n",
       "      <th>tag</th>\n",
       "      <th>member</th>\n",
       "      <th>rhymes</th>\n",
       "      <th>score</th>\n",
       "      <th>flexion</th>\n",
       "      <th>ipa</th>\n",
       "      <th>syllables</th>\n",
       "      <th>lang</th>\n",
       "      <th>lang_code</th>\n",
       "      <th>error</th>\n",
       "      <th>lemma_lower</th>\n",
       "    </tr>\n",
       "  </thead>\n",
       "  <tbody>\n",
       "    <tr>\n",
       "      <th>1483</th>\n",
       "      <td>2140</td>\n",
       "      <td>0</td>\n",
       "      <td>-ow</td>\n",
       "      <td>-ow</td>\n",
       "      <td>-ow</td>\n",
       "      <td>False</td>\n",
       "      <td>{'Affix': ['Suffix']}</td>\n",
       "      <td>ZFIX TRUNC</td>\n",
       "      <td>Suffix</td>\n",
       "      <td>NaN</td>\n",
       "      <td>6.330498</td>\n",
       "      <td>{}</td>\n",
       "      <td>[oː]</td>\n",
       "      <td>[ow]</td>\n",
       "      <td>Deutsch</td>\n",
       "      <td>de</td>\n",
       "      <td></td>\n",
       "      <td>-ow</td>\n",
       "    </tr>\n",
       "    <tr>\n",
       "      <th>3151</th>\n",
       "      <td>4533</td>\n",
       "      <td>0</td>\n",
       "      <td>-in</td>\n",
       "      <td>-in</td>\n",
       "      <td>-in</td>\n",
       "      <td>False</td>\n",
       "      <td>{'Substantiv': [], 'Affix': ['Suffix']}</td>\n",
       "      <td>ZFIX TRUNC</td>\n",
       "      <td>Substantiv  Suffix</td>\n",
       "      <td>NaN</td>\n",
       "      <td>9.297691</td>\n",
       "      <td>{'Genus': ['f'], 'Nominativ Singular': ['-in'], 'Nominativ Plural': ['-innen'], 'Genitiv Singular': ['-in'], 'Genitiv Plural': ['-innen'], 'Dativ Singular': ['-in'], 'Dativ Plural': ['-innen'], 'Akkusativ Singular': ['-in'], 'Akkusativ Plural': ['-innen']}</td>\n",
       "      <td>[ɪn]</td>\n",
       "      <td>[in]</td>\n",
       "      <td>Deutsch</td>\n",
       "      <td>de</td>\n",
       "      <td></td>\n",
       "      <td>-in</td>\n",
       "    </tr>\n",
       "    <tr>\n",
       "      <th>3152</th>\n",
       "      <td>4533</td>\n",
       "      <td>1</td>\n",
       "      <td>-in_1</td>\n",
       "      <td>-in</td>\n",
       "      <td>-in</td>\n",
       "      <td>False</td>\n",
       "      <td>{'Affix': ['Suffix']}</td>\n",
       "      <td>ZFIX TRUNC</td>\n",
       "      <td>Suffix</td>\n",
       "      <td>NaN</td>\n",
       "      <td>1.484812</td>\n",
       "      <td>{}</td>\n",
       "      <td>[ˈiːn, in]</td>\n",
       "      <td>[in]</td>\n",
       "      <td>Deutsch</td>\n",
       "      <td>de</td>\n",
       "      <td></td>\n",
       "      <td>-in</td>\n",
       "    </tr>\n",
       "    <tr>\n",
       "      <th>3153</th>\n",
       "      <td>4533</td>\n",
       "      <td>2</td>\n",
       "      <td>-in_2</td>\n",
       "      <td>-in</td>\n",
       "      <td>-in</td>\n",
       "      <td>False</td>\n",
       "      <td>{'Affix': ['Suffix']}</td>\n",
       "      <td>ZFIX TRUNC</td>\n",
       "      <td>Suffix</td>\n",
       "      <td>NaN</td>\n",
       "      <td>1.532199</td>\n",
       "      <td>{}</td>\n",
       "      <td>[iːn]</td>\n",
       "      <td>[in]</td>\n",
       "      <td>Deutsch</td>\n",
       "      <td>de</td>\n",
       "      <td></td>\n",
       "      <td>-in</td>\n",
       "    </tr>\n",
       "    <tr>\n",
       "      <th>4875</th>\n",
       "      <td>7314</td>\n",
       "      <td>0</td>\n",
       "      <td>-zid</td>\n",
       "      <td>-zid</td>\n",
       "      <td>-zid</td>\n",
       "      <td>False</td>\n",
       "      <td>{'Gebundenes Lexem': []}</td>\n",
       "      <td>ZFIX TRUNC</td>\n",
       "      <td>Gebundenes_Lexem</td>\n",
       "      <td>NaN</td>\n",
       "      <td>6.556501</td>\n",
       "      <td>{}</td>\n",
       "      <td>[-t͡siːt]</td>\n",
       "      <td>[zid]</td>\n",
       "      <td>Deutsch</td>\n",
       "      <td>de</td>\n",
       "      <td></td>\n",
       "      <td>-zid</td>\n",
       "    </tr>\n",
       "    <tr>\n",
       "      <th>...</th>\n",
       "      <td>...</td>\n",
       "      <td>...</td>\n",
       "      <td>...</td>\n",
       "      <td>...</td>\n",
       "      <td>...</td>\n",
       "      <td>...</td>\n",
       "      <td>...</td>\n",
       "      <td>...</td>\n",
       "      <td>...</td>\n",
       "      <td>...</td>\n",
       "      <td>...</td>\n",
       "      <td>...</td>\n",
       "      <td>...</td>\n",
       "      <td>...</td>\n",
       "      <td>...</td>\n",
       "      <td>...</td>\n",
       "      <td>...</td>\n",
       "      <td>...</td>\n",
       "    </tr>\n",
       "    <tr>\n",
       "      <th>818059</th>\n",
       "      <td>1092226</td>\n",
       "      <td>0</td>\n",
       "      <td>-hältig</td>\n",
       "      <td>-hältig</td>\n",
       "      <td>-hältig</td>\n",
       "      <td>False</td>\n",
       "      <td>{'Affix': ['Suffix']}</td>\n",
       "      <td>ZFIX TRUNC</td>\n",
       "      <td>Suffix</td>\n",
       "      <td>NaN</td>\n",
       "      <td>6.658566</td>\n",
       "      <td>{}</td>\n",
       "      <td>[ˌhɛltɪç, ˌhɛltɪk]</td>\n",
       "      <td>[häl, tig]</td>\n",
       "      <td>Deutsch</td>\n",
       "      <td>de</td>\n",
       "      <td></td>\n",
       "      <td>-hältig</td>\n",
       "    </tr>\n",
       "    <tr>\n",
       "      <th>818239</th>\n",
       "      <td>1092548</td>\n",
       "      <td>0</td>\n",
       "      <td>-halber</td>\n",
       "      <td>-halber</td>\n",
       "      <td>-halber</td>\n",
       "      <td>False</td>\n",
       "      <td>{'Affix': ['Suffix']}</td>\n",
       "      <td>ZFIX TRUNC</td>\n",
       "      <td>Suffix</td>\n",
       "      <td>NaN</td>\n",
       "      <td>2.965978</td>\n",
       "      <td>{}</td>\n",
       "      <td>[ˈhalbɐ]</td>\n",
       "      <td>[hal, ber]</td>\n",
       "      <td>Deutsch</td>\n",
       "      <td>de</td>\n",
       "      <td></td>\n",
       "      <td>-halber</td>\n",
       "    </tr>\n",
       "    <tr>\n",
       "      <th>828638</th>\n",
       "      <td>1106151</td>\n",
       "      <td>0</td>\n",
       "      <td>-biont</td>\n",
       "      <td>-biont</td>\n",
       "      <td>-biont</td>\n",
       "      <td>False</td>\n",
       "      <td>{'Gebundenes Lexem': []}</td>\n",
       "      <td>ZFIX TRUNC</td>\n",
       "      <td>Gebundenes_Lexem</td>\n",
       "      <td>NaN</td>\n",
       "      <td>3.191981</td>\n",
       "      <td>{}</td>\n",
       "      <td>[ˈbi̯ɔnt]</td>\n",
       "      <td>[bi, ont]</td>\n",
       "      <td>Deutsch</td>\n",
       "      <td>de</td>\n",
       "      <td></td>\n",
       "      <td>-biont</td>\n",
       "    </tr>\n",
       "    <tr>\n",
       "      <th>829642</th>\n",
       "      <td>1107769</td>\n",
       "      <td>0</td>\n",
       "      <td>-seits</td>\n",
       "      <td>-seits</td>\n",
       "      <td>-seits</td>\n",
       "      <td>False</td>\n",
       "      <td>{'Affix': ['Suffix']}</td>\n",
       "      <td>ZFIX TRUNC</td>\n",
       "      <td>Suffix</td>\n",
       "      <td>NaN</td>\n",
       "      <td>4.996355</td>\n",
       "      <td>{}</td>\n",
       "      <td>[zaɪ̯ts]</td>\n",
       "      <td>[seits]</td>\n",
       "      <td>Deutsch</td>\n",
       "      <td>de</td>\n",
       "      <td></td>\n",
       "      <td>-seits</td>\n",
       "    </tr>\n",
       "    <tr>\n",
       "      <th>830209</th>\n",
       "      <td>1108535</td>\n",
       "      <td>0</td>\n",
       "      <td>-seitig</td>\n",
       "      <td>-seitig</td>\n",
       "      <td>-seitig</td>\n",
       "      <td>False</td>\n",
       "      <td>{'Affix': ['Suffix']}</td>\n",
       "      <td>ZFIX TRUNC</td>\n",
       "      <td>Suffix</td>\n",
       "      <td>NaN</td>\n",
       "      <td>3.859052</td>\n",
       "      <td>{}</td>\n",
       "      <td>[zaɪ̯tɪç]</td>\n",
       "      <td>[sei, tig]</td>\n",
       "      <td>Deutsch</td>\n",
       "      <td>de</td>\n",
       "      <td></td>\n",
       "      <td>-seitig</td>\n",
       "    </tr>\n",
       "  </tbody>\n",
       "</table>\n",
       "<p>480 rows × 18 columns</p>\n",
       "</div>"
      ],
      "text/plain": [
       "        page_id  page_part section_id2    title    lemma  inflected  \\\n",
       "1483       2140          0         -ow      -ow      -ow      False   \n",
       "3151       4533          0         -in      -in      -in      False   \n",
       "3152       4533          1       -in_1      -in      -in      False   \n",
       "3153       4533          2       -in_2      -in      -in      False   \n",
       "4875       7314          0        -zid     -zid     -zid      False   \n",
       "...         ...        ...         ...      ...      ...        ...   \n",
       "818059  1092226          0     -hältig  -hältig  -hältig      False   \n",
       "818239  1092548          0     -halber  -halber  -halber      False   \n",
       "828638  1106151          0      -biont   -biont   -biont      False   \n",
       "829642  1107769          0      -seits   -seits   -seits      False   \n",
       "830209  1108535          0     -seitig  -seitig  -seitig      False   \n",
       "\n",
       "                                            pos         tag  \\\n",
       "1483                      {'Affix': ['Suffix']}  ZFIX TRUNC   \n",
       "3151    {'Substantiv': [], 'Affix': ['Suffix']}  ZFIX TRUNC   \n",
       "3152                      {'Affix': ['Suffix']}  ZFIX TRUNC   \n",
       "3153                      {'Affix': ['Suffix']}  ZFIX TRUNC   \n",
       "4875                   {'Gebundenes Lexem': []}  ZFIX TRUNC   \n",
       "...                                         ...         ...   \n",
       "818059                    {'Affix': ['Suffix']}  ZFIX TRUNC   \n",
       "818239                    {'Affix': ['Suffix']}  ZFIX TRUNC   \n",
       "828638                 {'Gebundenes Lexem': []}  ZFIX TRUNC   \n",
       "829642                    {'Affix': ['Suffix']}  ZFIX TRUNC   \n",
       "830209                    {'Affix': ['Suffix']}  ZFIX TRUNC   \n",
       "\n",
       "                    member rhymes     score  \\\n",
       "1483                Suffix    NaN  6.330498   \n",
       "3151    Substantiv  Suffix    NaN  9.297691   \n",
       "3152                Suffix    NaN  1.484812   \n",
       "3153                Suffix    NaN  1.532199   \n",
       "4875      Gebundenes_Lexem    NaN  6.556501   \n",
       "...                    ...    ...       ...   \n",
       "818059              Suffix    NaN  6.658566   \n",
       "818239              Suffix    NaN  2.965978   \n",
       "828638    Gebundenes_Lexem    NaN  3.191981   \n",
       "829642              Suffix    NaN  4.996355   \n",
       "830209              Suffix    NaN  3.859052   \n",
       "\n",
       "                                                                                                                                                                                                                                                                 flexion  \\\n",
       "1483                                                                                                                                                                                                                                                                  {}   \n",
       "3151    {'Genus': ['f'], 'Nominativ Singular': ['-in'], 'Nominativ Plural': ['-innen'], 'Genitiv Singular': ['-in'], 'Genitiv Plural': ['-innen'], 'Dativ Singular': ['-in'], 'Dativ Plural': ['-innen'], 'Akkusativ Singular': ['-in'], 'Akkusativ Plural': ['-innen']}   \n",
       "3152                                                                                                                                                                                                                                                                  {}   \n",
       "3153                                                                                                                                                                                                                                                                  {}   \n",
       "4875                                                                                                                                                                                                                                                                  {}   \n",
       "...                                                                                                                                                                                                                                                                  ...   \n",
       "818059                                                                                                                                                                                                                                                                {}   \n",
       "818239                                                                                                                                                                                                                                                                {}   \n",
       "828638                                                                                                                                                                                                                                                                {}   \n",
       "829642                                                                                                                                                                                                                                                                {}   \n",
       "830209                                                                                                                                                                                                                                                                {}   \n",
       "\n",
       "                       ipa   syllables     lang lang_code error lemma_lower  \n",
       "1483                  [oː]        [ow]  Deutsch        de               -ow  \n",
       "3151                  [ɪn]        [in]  Deutsch        de               -in  \n",
       "3152            [ˈiːn, in]        [in]  Deutsch        de               -in  \n",
       "3153                 [iːn]        [in]  Deutsch        de               -in  \n",
       "4875             [-t͡siːt]       [zid]  Deutsch        de              -zid  \n",
       "...                    ...         ...      ...       ...   ...         ...  \n",
       "818059  [ˌhɛltɪç, ˌhɛltɪk]  [häl, tig]  Deutsch        de           -hältig  \n",
       "818239            [ˈhalbɐ]  [hal, ber]  Deutsch        de           -halber  \n",
       "828638           [ˈbi̯ɔnt]   [bi, ont]  Deutsch        de            -biont  \n",
       "829642            [zaɪ̯ts]     [seits]  Deutsch        de            -seits  \n",
       "830209           [zaɪ̯tɪç]  [sei, tig]  Deutsch        de           -seitig  \n",
       "\n",
       "[480 rows x 18 columns]"
      ]
     },
     "execution_count": 79,
     "metadata": {},
     "output_type": "execute_result"
    }
   ],
   "source": [
    "# ZFIX 480\n",
    "mask0 =  wiktionary.lemma.str.startswith('-')\n",
    "mask1 = ~wiktionary.lemma.str.endswith('-')\n",
    "mask2 = ~wiktionary.lemma.str[-1].str.isdigit()\n",
    "mask3 =  wiktionary.lemma.str.len() > 1\n",
    "mask4 = ~wiktionary.tag.str.contains(' ')   \n",
    "mask = mask0  &  mask1  &  mask2  &  mask3  &  mask4 \n",
    "pak.check_mask(wiktionary, mask, 480)\n",
    "\n",
    "wiktionary.loc[mask, 'tag']   = 'ZFIX ' + wiktionary[mask].tag\n",
    "wiktionary.loc[mask,'member'] = pak.remove_str(wiktionary[mask].member, ['Affix'])\n",
    "grid(wiktionary, mask)"
   ]
  },
  {
   "cell_type": "code",
   "execution_count": 80,
   "metadata": {
    "execution": {
     "iopub.execute_input": "2023-02-20T16:17:14.289871Z",
     "iopub.status.busy": "2023-02-20T16:17:14.286038Z",
     "iopub.status.idle": "2023-02-20T16:17:14.668323Z",
     "shell.execute_reply": "2023-02-20T16:17:14.667565Z",
     "shell.execute_reply.started": "2023-02-20T16:17:14.289833Z"
    },
    "tags": []
   },
   "outputs": [
    {
     "name": "stdout",
     "output_type": "stream",
     "text": [
      "check_mask:  480 rows\n",
      "15 rows\n"
     ]
    },
    {
     "data": {
      "text/html": [
       "<div>\n",
       "<style scoped>\n",
       "    .dataframe tbody tr th:only-of-type {\n",
       "        vertical-align: middle;\n",
       "    }\n",
       "\n",
       "    .dataframe tbody tr th {\n",
       "        vertical-align: top;\n",
       "    }\n",
       "\n",
       "    .dataframe thead th {\n",
       "        text-align: right;\n",
       "    }\n",
       "</style>\n",
       "<table border=\"1\" class=\"dataframe\">\n",
       "  <thead>\n",
       "    <tr style=\"text-align: right;\">\n",
       "      <th></th>\n",
       "      <th>member</th>\n",
       "      <th>member_count</th>\n",
       "      <th>member_percent</th>\n",
       "      <th>lemma</th>\n",
       "    </tr>\n",
       "  </thead>\n",
       "  <tbody>\n",
       "    <tr>\n",
       "      <th>0</th>\n",
       "      <td>Suffix</td>\n",
       "      <td>137</td>\n",
       "      <td>28.5</td>\n",
       "      <td>[-en, -in, -ab, -aceae, -ade, -affin, -age, -al, -ales, -an, -ar, -arisch, -arm, -at, -ation, -au, -bar, -basiert, -blütig, -brüstig]</td>\n",
       "    </tr>\n",
       "    <tr>\n",
       "      <th>1</th>\n",
       "      <td>Gebundenes_Lexem</td>\n",
       "      <td>102</td>\n",
       "      <td>21.2</td>\n",
       "      <td>[-gon, -and, -arch, -archie, -arium, -artig, -artige, -ase, -bedürftig, -biont, -bräu, -cele, -chinesisch, -chorie, -coel, -cöl, -derm, -dermie, -drom, -echt]</td>\n",
       "    </tr>\n",
       "    <tr>\n",
       "      <th>2</th>\n",
       "      <td>Ortsnamengrundwort</td>\n",
       "      <td>94</td>\n",
       "      <td>19.6</td>\n",
       "      <td>[-a, -ach, -au, -aue, -bach, -beck, -bek, -berg, -borg, -born, -broich, -brunn, -brunnen, -brück, -brücke, -brügge, -burg, -busch, -by, -dal]</td>\n",
       "    </tr>\n",
       "    <tr>\n",
       "      <th>3</th>\n",
       "      <td>Deklinierte_Form</td>\n",
       "      <td>77</td>\n",
       "      <td>16.0</td>\n",
       "      <td>[-abel, -ibel, -jährig, -sal, -ant, -ier, -ling, -tum, -er, -meter, -algie, -anz, -chen, -elchen, -enz, -erchen, -ette, -gate, -heit, -in]</td>\n",
       "    </tr>\n",
       "    <tr>\n",
       "      <th>4</th>\n",
       "      <td>Substantiv  Suffix</td>\n",
       "      <td>23</td>\n",
       "      <td>4.8</td>\n",
       "      <td>[-ier, -ant, -anz, -chen, -elchen, -enz, -er, -erchen, -ette, -heit, -in, -ismus, -keit, -kunde, -le, -lein, -ling, -sal, -schaft, -stan]</td>\n",
       "    </tr>\n",
       "    <tr>\n",
       "      <th>5</th>\n",
       "      <td>Substantiv Gebundenes_Lexem</td>\n",
       "      <td>13</td>\n",
       "      <td>2.7</td>\n",
       "      <td>[-meter, -algie, -loge, -logie, -manie, -mantie, -phagie, -philie, -phobie, -schrecke, -skopie, -urie]</td>\n",
       "    </tr>\n",
       "    <tr>\n",
       "      <th>6</th>\n",
       "      <td>Suffixoid</td>\n",
       "      <td>7</td>\n",
       "      <td>1.5</td>\n",
       "      <td>[-fritze, -hai, -heini, -mäßig, -schwanger, -tiger, -trächtig]</td>\n",
       "    </tr>\n",
       "    <tr>\n",
       "      <th>7</th>\n",
       "      <td>Superlativ Adjektiv</td>\n",
       "      <td>6</td>\n",
       "      <td>1.2</td>\n",
       "      <td>[-abel, -ant, -ell, -fähig, -ibel, -lastig]</td>\n",
       "    </tr>\n",
       "    <tr>\n",
       "      <th>8</th>\n",
       "      <td>Komparativ Adjektiv</td>\n",
       "      <td>6</td>\n",
       "      <td>1.2</td>\n",
       "      <td>[-abel, -ant, -ell, -fähig, -ibel, -lastig]</td>\n",
       "    </tr>\n",
       "    <tr>\n",
       "      <th>9</th>\n",
       "      <td>Verb  Suffix</td>\n",
       "      <td>5</td>\n",
       "      <td>1.0</td>\n",
       "      <td>[-el, -fizier, -ier, -ig, -zen]</td>\n",
       "    </tr>\n",
       "    <tr>\n",
       "      <th>10</th>\n",
       "      <td></td>\n",
       "      <td>4</td>\n",
       "      <td>0.8</td>\n",
       "      <td>[-e, -es, -n, -ns]</td>\n",
       "    </tr>\n",
       "    <tr>\n",
       "      <th>11</th>\n",
       "      <td>Adjektiv  Suffix</td>\n",
       "      <td>2</td>\n",
       "      <td>0.4</td>\n",
       "      <td>[-abel, -ibel]</td>\n",
       "    </tr>\n",
       "    <tr>\n",
       "      <th>12</th>\n",
       "      <td>Pronomen Personalpronomen</td>\n",
       "      <td>2</td>\n",
       "      <td>0.4</td>\n",
       "      <td>[-e, -se]</td>\n",
       "    </tr>\n",
       "    <tr>\n",
       "      <th>13</th>\n",
       "      <td>Adjektiv Gebundenes_Lexem</td>\n",
       "      <td>1</td>\n",
       "      <td>0.2</td>\n",
       "      <td>-jährig</td>\n",
       "    </tr>\n",
       "    <tr>\n",
       "      <th>14</th>\n",
       "      <td>Interfix</td>\n",
       "      <td>1</td>\n",
       "      <td>0.2</td>\n",
       "      <td>-s</td>\n",
       "    </tr>\n",
       "  </tbody>\n",
       "</table>\n",
       "</div>"
      ],
      "text/plain": [
       "                         member  member_count  member_percent  \\\n",
       "0                        Suffix           137            28.5   \n",
       "1              Gebundenes_Lexem           102            21.2   \n",
       "2            Ortsnamengrundwort            94            19.6   \n",
       "3              Deklinierte_Form            77            16.0   \n",
       "4            Substantiv  Suffix            23             4.8   \n",
       "5   Substantiv Gebundenes_Lexem            13             2.7   \n",
       "6                     Suffixoid             7             1.5   \n",
       "7           Superlativ Adjektiv             6             1.2   \n",
       "8           Komparativ Adjektiv             6             1.2   \n",
       "9                  Verb  Suffix             5             1.0   \n",
       "10                                          4             0.8   \n",
       "11             Adjektiv  Suffix             2             0.4   \n",
       "12    Pronomen Personalpronomen             2             0.4   \n",
       "13    Adjektiv Gebundenes_Lexem             1             0.2   \n",
       "14                     Interfix             1             0.2   \n",
       "\n",
       "                                                                                                                                                             lemma  \n",
       "0                            [-en, -in, -ab, -aceae, -ade, -affin, -age, -al, -ales, -an, -ar, -arisch, -arm, -at, -ation, -au, -bar, -basiert, -blütig, -brüstig]  \n",
       "1   [-gon, -and, -arch, -archie, -arium, -artig, -artige, -ase, -bedürftig, -biont, -bräu, -cele, -chinesisch, -chorie, -coel, -cöl, -derm, -dermie, -drom, -echt]  \n",
       "2                    [-a, -ach, -au, -aue, -bach, -beck, -bek, -berg, -borg, -born, -broich, -brunn, -brunnen, -brück, -brücke, -brügge, -burg, -busch, -by, -dal]  \n",
       "3                       [-abel, -ibel, -jährig, -sal, -ant, -ier, -ling, -tum, -er, -meter, -algie, -anz, -chen, -elchen, -enz, -erchen, -ette, -gate, -heit, -in]  \n",
       "4                        [-ier, -ant, -anz, -chen, -elchen, -enz, -er, -erchen, -ette, -heit, -in, -ismus, -keit, -kunde, -le, -lein, -ling, -sal, -schaft, -stan]  \n",
       "5                                                           [-meter, -algie, -loge, -logie, -manie, -mantie, -phagie, -philie, -phobie, -schrecke, -skopie, -urie]  \n",
       "6                                                                                                   [-fritze, -hai, -heini, -mäßig, -schwanger, -tiger, -trächtig]  \n",
       "7                                                                                                                      [-abel, -ant, -ell, -fähig, -ibel, -lastig]  \n",
       "8                                                                                                                      [-abel, -ant, -ell, -fähig, -ibel, -lastig]  \n",
       "9                                                                                                                                  [-el, -fizier, -ier, -ig, -zen]  \n",
       "10                                                                                                                                              [-e, -es, -n, -ns]  \n",
       "11                                                                                                                                                  [-abel, -ibel]  \n",
       "12                                                                                                                                                       [-e, -se]  \n",
       "13                                                                                                                                                         -jährig  \n",
       "14                                                                                                                                                              -s  "
      ]
     },
     "execution_count": 80,
     "metadata": {},
     "output_type": "execute_result"
    }
   ],
   "source": [
    "# Kontrolle und Statistik ZFIX\n",
    "mask_ZFIX = wiktionary.tag.str.contains('ZFIX')\n",
    "a = wiktionary[mask_ZFIX].sort_values(['section_id2'])\n",
    "mask = a.tag != 'ZFIX TRUNC'\n",
    "check_mask(a,0)\n",
    "\n",
    "df = pak.analyse_freqs(a, ['member','lemma'])\n",
    "df = pak.drop_cols(df,'lemma_count')\n",
    "grid(df)"
   ]
  },
  {
   "cell_type": "markdown",
   "metadata": {},
   "source": [
    "### Sonstige"
   ]
  },
  {
   "cell_type": "code",
   "execution_count": 81,
   "metadata": {
    "execution": {
     "iopub.execute_input": "2023-02-20T16:17:14.669629Z",
     "iopub.status.busy": "2023-02-20T16:17:14.669341Z",
     "iopub.status.idle": "2023-02-20T16:17:16.353148Z",
     "shell.execute_reply": "2023-02-20T16:17:16.352365Z",
     "shell.execute_reply.started": "2023-02-20T16:17:14.669605Z"
    }
   },
   "outputs": [
    {
     "name": "stdout",
     "output_type": "stream",
     "text": [
      "check_mask:  4 rows\n",
      "Move 4 rows from 837254\n",
      "4 rows out of 4495\n"
     ]
    },
    {
     "data": {
      "text/html": [
       "<div>\n",
       "<style scoped>\n",
       "    .dataframe tbody tr th:only-of-type {\n",
       "        vertical-align: middle;\n",
       "    }\n",
       "\n",
       "    .dataframe tbody tr th {\n",
       "        vertical-align: top;\n",
       "    }\n",
       "\n",
       "    .dataframe thead th {\n",
       "        text-align: right;\n",
       "    }\n",
       "</style>\n",
       "<table border=\"1\" class=\"dataframe\">\n",
       "  <thead>\n",
       "    <tr style=\"text-align: right;\">\n",
       "      <th></th>\n",
       "      <th>page_id</th>\n",
       "      <th>page_part</th>\n",
       "      <th>section_id2</th>\n",
       "      <th>title</th>\n",
       "      <th>lemma</th>\n",
       "      <th>inflected</th>\n",
       "      <th>pos</th>\n",
       "      <th>rhymes</th>\n",
       "      <th>section_len</th>\n",
       "      <th>flexion</th>\n",
       "      <th>ipa</th>\n",
       "      <th>syllables</th>\n",
       "      <th>lang</th>\n",
       "      <th>lang_code</th>\n",
       "      <th>msg</th>\n",
       "      <th>score</th>\n",
       "      <th>error</th>\n",
       "      <th>lemma_lower</th>\n",
       "      <th>tag</th>\n",
       "      <th>member</th>\n",
       "    </tr>\n",
       "  </thead>\n",
       "  <tbody>\n",
       "    <tr>\n",
       "      <th>44323</th>\n",
       "      <td>116824</td>\n",
       "      <td>0</td>\n",
       "      <td>-acid-</td>\n",
       "      <td>-acid-</td>\n",
       "      <td>-acid-</td>\n",
       "      <td>False</td>\n",
       "      <td>{'Gebundenes Lexem': []}</td>\n",
       "      <td>NaN</td>\n",
       "      <td>&lt;NA&gt;</td>\n",
       "      <td>{}</td>\n",
       "      <td>[at͡siːt]</td>\n",
       "      <td>[acid]</td>\n",
       "      <td>Deutsch</td>\n",
       "      <td>de</td>\n",
       "      <td>MFIX</td>\n",
       "      <td>2.18955</td>\n",
       "      <td></td>\n",
       "      <td>-acid-</td>\n",
       "      <td>TRUNC</td>\n",
       "      <td>Gebundenes_Lexem</td>\n",
       "    </tr>\n",
       "    <tr>\n",
       "      <th>44332</th>\n",
       "      <td>116859</td>\n",
       "      <td>0</td>\n",
       "      <td>-azid-</td>\n",
       "      <td>-azid-</td>\n",
       "      <td>-azid-</td>\n",
       "      <td>False</td>\n",
       "      <td>{'Gebundenes Lexem': []}</td>\n",
       "      <td>NaN</td>\n",
       "      <td>&lt;NA&gt;</td>\n",
       "      <td>{}</td>\n",
       "      <td>[at͡siːt]</td>\n",
       "      <td>[azid]</td>\n",
       "      <td>Deutsch</td>\n",
       "      <td>de</td>\n",
       "      <td>MFIX</td>\n",
       "      <td>2.543135</td>\n",
       "      <td></td>\n",
       "      <td>-azid-</td>\n",
       "      <td>TRUNC</td>\n",
       "      <td>Gebundenes_Lexem</td>\n",
       "    </tr>\n",
       "    <tr>\n",
       "      <th>369954</th>\n",
       "      <td>556685</td>\n",
       "      <td>0</td>\n",
       "      <td>-o-</td>\n",
       "      <td>-o-</td>\n",
       "      <td>-o-</td>\n",
       "      <td>False</td>\n",
       "      <td>{'Affix': ['Interfix']}</td>\n",
       "      <td>NaN</td>\n",
       "      <td>&lt;NA&gt;</td>\n",
       "      <td>{}</td>\n",
       "      <td>[o]</td>\n",
       "      <td>[o]</td>\n",
       "      <td>Deutsch</td>\n",
       "      <td>de</td>\n",
       "      <td>MFIX</td>\n",
       "      <td>4.755772</td>\n",
       "      <td></td>\n",
       "      <td>-o-</td>\n",
       "      <td>TRUNC</td>\n",
       "      <td>Affix Interfix</td>\n",
       "    </tr>\n",
       "    <tr>\n",
       "      <th>369955</th>\n",
       "      <td>556686</td>\n",
       "      <td>0</td>\n",
       "      <td>-i-</td>\n",
       "      <td>-i-</td>\n",
       "      <td>-i-</td>\n",
       "      <td>False</td>\n",
       "      <td>{'Affix': ['Interfix']}</td>\n",
       "      <td>NaN</td>\n",
       "      <td>&lt;NA&gt;</td>\n",
       "      <td>{}</td>\n",
       "      <td>[iː]</td>\n",
       "      <td>[i]</td>\n",
       "      <td>Deutsch</td>\n",
       "      <td>de</td>\n",
       "      <td>MFIX</td>\n",
       "      <td>4.511543</td>\n",
       "      <td></td>\n",
       "      <td>-i-</td>\n",
       "      <td>TRUNC</td>\n",
       "      <td>Affix Interfix</td>\n",
       "    </tr>\n",
       "  </tbody>\n",
       "</table>\n",
       "</div>"
      ],
      "text/plain": [
       "        page_id  page_part section_id2   title   lemma  inflected  \\\n",
       "44323    116824          0      -acid-  -acid-  -acid-      False   \n",
       "44332    116859          0      -azid-  -azid-  -azid-      False   \n",
       "369954   556685          0         -o-     -o-     -o-      False   \n",
       "369955   556686          0         -i-     -i-     -i-      False   \n",
       "\n",
       "                             pos rhymes  section_len flexion        ipa  \\\n",
       "44323   {'Gebundenes Lexem': []}    NaN         <NA>      {}  [at͡siːt]   \n",
       "44332   {'Gebundenes Lexem': []}    NaN         <NA>      {}  [at͡siːt]   \n",
       "369954   {'Affix': ['Interfix']}    NaN         <NA>      {}        [o]   \n",
       "369955   {'Affix': ['Interfix']}    NaN         <NA>      {}       [iː]   \n",
       "\n",
       "       syllables     lang lang_code   msg     score error lemma_lower    tag  \\\n",
       "44323     [acid]  Deutsch        de  MFIX   2.18955            -acid-  TRUNC   \n",
       "44332     [azid]  Deutsch        de  MFIX  2.543135            -azid-  TRUNC   \n",
       "369954       [o]  Deutsch        de  MFIX  4.755772               -o-  TRUNC   \n",
       "369955       [i]  Deutsch        de  MFIX  4.511543               -i-  TRUNC   \n",
       "\n",
       "                  member  \n",
       "44323   Gebundenes_Lexem  \n",
       "44332   Gebundenes_Lexem  \n",
       "369954    Affix Interfix  \n",
       "369955    Affix Interfix  "
      ]
     },
     "execution_count": 81,
     "metadata": {},
     "output_type": "execute_result"
    }
   ],
   "source": [
    "# MFIX >> löschen\n",
    "mask0 =  wiktionary.lemma.str.startswith('-')\n",
    "mask1 =  wiktionary.lemma.str.endswith('-') \n",
    "mask2 =  wiktionary.lemma.str.len() > 2\n",
    "mask3 = ~wiktionary.tag.str.contains(' ')   \n",
    "mask = mask0  &  mask1  &  mask2  &  mask3\n",
    "check_mask(wiktionary, mask, 4)\n",
    "\n",
    "msg = 'MFIX'\n",
    "wiktionary, wiktionary_trash = pak.move_rows(df_from=wiktionary, df_to=wiktionary_trash, mask=mask, msg=msg) \n",
    "grid(wiktionary_trash, msg)"
   ]
  },
  {
   "cell_type": "code",
   "execution_count": 82,
   "metadata": {
    "execution": {
     "iopub.execute_input": "2023-02-20T16:17:16.358152Z",
     "iopub.status.busy": "2023-02-20T16:17:16.357620Z",
     "iopub.status.idle": "2023-02-20T16:17:17.835743Z",
     "shell.execute_reply": "2023-02-20T16:17:17.834612Z",
     "shell.execute_reply.started": "2023-02-20T16:17:16.358125Z"
    },
    "tags": []
   },
   "outputs": [
    {
     "name": "stdout",
     "output_type": "stream",
     "text": [
      "check_mask:  10 rows\n",
      "Move 10 rows from 837250\n",
      "10 rows out of 4505\n"
     ]
    },
    {
     "data": {
      "text/html": [
       "<div>\n",
       "<style scoped>\n",
       "    .dataframe tbody tr th:only-of-type {\n",
       "        vertical-align: middle;\n",
       "    }\n",
       "\n",
       "    .dataframe tbody tr th {\n",
       "        vertical-align: top;\n",
       "    }\n",
       "\n",
       "    .dataframe thead th {\n",
       "        text-align: right;\n",
       "    }\n",
       "</style>\n",
       "<table border=\"1\" class=\"dataframe\">\n",
       "  <thead>\n",
       "    <tr style=\"text-align: right;\">\n",
       "      <th></th>\n",
       "      <th>page_id</th>\n",
       "      <th>page_part</th>\n",
       "      <th>section_id2</th>\n",
       "      <th>title</th>\n",
       "      <th>lemma</th>\n",
       "      <th>inflected</th>\n",
       "      <th>pos</th>\n",
       "      <th>rhymes</th>\n",
       "      <th>section_len</th>\n",
       "      <th>flexion</th>\n",
       "      <th>ipa</th>\n",
       "      <th>syllables</th>\n",
       "      <th>lang</th>\n",
       "      <th>lang_code</th>\n",
       "      <th>msg</th>\n",
       "      <th>score</th>\n",
       "      <th>error</th>\n",
       "      <th>lemma_lower</th>\n",
       "      <th>tag</th>\n",
       "      <th>member</th>\n",
       "    </tr>\n",
       "  </thead>\n",
       "  <tbody>\n",
       "    <tr>\n",
       "      <th>9582</th>\n",
       "      <td>16406</td>\n",
       "      <td>0</td>\n",
       "      <td>a-</td>\n",
       "      <td>a-</td>\n",
       "      <td>a-</td>\n",
       "      <td>False</td>\n",
       "      <td>{'Affix': ['Präfix']}</td>\n",
       "      <td>NaN</td>\n",
       "      <td>&lt;NA&gt;</td>\n",
       "      <td>{}</td>\n",
       "      <td>[a(ː)]</td>\n",
       "      <td>[a]</td>\n",
       "      <td>Deutsch</td>\n",
       "      <td>de</td>\n",
       "      <td>FIX_ZU_KURZ</td>\n",
       "      <td>8.00729</td>\n",
       "      <td></td>\n",
       "      <td>a-</td>\n",
       "      <td>AFIX TRUNC</td>\n",
       "      <td>Präfix</td>\n",
       "    </tr>\n",
       "    <tr>\n",
       "      <th>9583</th>\n",
       "      <td>16406</td>\n",
       "      <td>1</td>\n",
       "      <td>a-_1</td>\n",
       "      <td>a-</td>\n",
       "      <td>a-</td>\n",
       "      <td>False</td>\n",
       "      <td>{'Affix': ['Präfix']}</td>\n",
       "      <td>NaN</td>\n",
       "      <td>&lt;NA&gt;</td>\n",
       "      <td>{}</td>\n",
       "      <td>NaN</td>\n",
       "      <td>NaN</td>\n",
       "      <td>Deutsch</td>\n",
       "      <td>de</td>\n",
       "      <td>FIX_ZU_KURZ</td>\n",
       "      <td>2.641555</td>\n",
       "      <td></td>\n",
       "      <td>a-</td>\n",
       "      <td>AFIX TRUNC</td>\n",
       "      <td>Präfix</td>\n",
       "    </tr>\n",
       "    <tr>\n",
       "      <th>25834</th>\n",
       "      <td>68299</td>\n",
       "      <td>0</td>\n",
       "      <td>-a</td>\n",
       "      <td>-a</td>\n",
       "      <td>-a</td>\n",
       "      <td>False</td>\n",
       "      <td>{'Ortsnamengrundwort': []}</td>\n",
       "      <td>NaN</td>\n",
       "      <td>&lt;NA&gt;</td>\n",
       "      <td>{}</td>\n",
       "      <td>[-a]</td>\n",
       "      <td>[a]</td>\n",
       "      <td>Deutsch</td>\n",
       "      <td>de</td>\n",
       "      <td>FIX_ZU_KURZ</td>\n",
       "      <td>5.641555</td>\n",
       "      <td></td>\n",
       "      <td>-a</td>\n",
       "      <td>ZFIX NE</td>\n",
       "      <td>Ortsnamengrundwort</td>\n",
       "    </tr>\n",
       "    <tr>\n",
       "      <th>27408</th>\n",
       "      <td>71752</td>\n",
       "      <td>0</td>\n",
       "      <td>e-</td>\n",
       "      <td>e-</td>\n",
       "      <td>e-</td>\n",
       "      <td>False</td>\n",
       "      <td>{'Affix': ['Präfix']}</td>\n",
       "      <td>NaN</td>\n",
       "      <td>&lt;NA&gt;</td>\n",
       "      <td>{}</td>\n",
       "      <td>[e]</td>\n",
       "      <td>[e]</td>\n",
       "      <td>Deutsch</td>\n",
       "      <td>de</td>\n",
       "      <td>FIX_ZU_KURZ</td>\n",
       "      <td>3.931956</td>\n",
       "      <td></td>\n",
       "      <td>e-</td>\n",
       "      <td>AFIX TRUNC</td>\n",
       "      <td>Präfix</td>\n",
       "    </tr>\n",
       "    <tr>\n",
       "      <th>35053</th>\n",
       "      <td>98034</td>\n",
       "      <td>0</td>\n",
       "      <td>-s</td>\n",
       "      <td>-s</td>\n",
       "      <td>-s</td>\n",
       "      <td>False</td>\n",
       "      <td>{'Affix': ['Suffix']}</td>\n",
       "      <td>NaN</td>\n",
       "      <td>&lt;NA&gt;</td>\n",
       "      <td>{}</td>\n",
       "      <td>[s]</td>\n",
       "      <td>[s]</td>\n",
       "      <td>Deutsch</td>\n",
       "      <td>de</td>\n",
       "      <td>FIX_ZU_KURZ</td>\n",
       "      <td>2.947752</td>\n",
       "      <td></td>\n",
       "      <td>-s</td>\n",
       "      <td>ZFIX TRUNC</td>\n",
       "      <td>Suffix</td>\n",
       "    </tr>\n",
       "    <tr>\n",
       "      <th>35054</th>\n",
       "      <td>98034</td>\n",
       "      <td>1</td>\n",
       "      <td>-s_1</td>\n",
       "      <td>-s</td>\n",
       "      <td>-s</td>\n",
       "      <td>False</td>\n",
       "      <td>{'Affix': ['Interfix']}</td>\n",
       "      <td>NaN</td>\n",
       "      <td>&lt;NA&gt;</td>\n",
       "      <td>{}</td>\n",
       "      <td>[s]</td>\n",
       "      <td>[s]</td>\n",
       "      <td>Deutsch</td>\n",
       "      <td>de</td>\n",
       "      <td>FIX_ZU_KURZ</td>\n",
       "      <td>1.290401</td>\n",
       "      <td></td>\n",
       "      <td>-s</td>\n",
       "      <td>ZFIX TRUNC</td>\n",
       "      <td>Interfix</td>\n",
       "    </tr>\n",
       "    <tr>\n",
       "      <th>39772</th>\n",
       "      <td>108322</td>\n",
       "      <td>0</td>\n",
       "      <td>-n</td>\n",
       "      <td>-n</td>\n",
       "      <td>-n</td>\n",
       "      <td>False</td>\n",
       "      <td>{'Affix': []}</td>\n",
       "      <td>NaN</td>\n",
       "      <td>&lt;NA&gt;</td>\n",
       "      <td>{}</td>\n",
       "      <td>[n]</td>\n",
       "      <td>[n]</td>\n",
       "      <td>Deutsch</td>\n",
       "      <td>de</td>\n",
       "      <td>FIX_ZU_KURZ</td>\n",
       "      <td>4.657351</td>\n",
       "      <td></td>\n",
       "      <td>-n</td>\n",
       "      <td>ZFIX TRUNC</td>\n",
       "      <td></td>\n",
       "    </tr>\n",
       "    <tr>\n",
       "      <th>39780</th>\n",
       "      <td>108330</td>\n",
       "      <td>0</td>\n",
       "      <td>-e</td>\n",
       "      <td>-e</td>\n",
       "      <td>-e</td>\n",
       "      <td>False</td>\n",
       "      <td>{'Affix': []}</td>\n",
       "      <td>NaN</td>\n",
       "      <td>&lt;NA&gt;</td>\n",
       "      <td>{}</td>\n",
       "      <td>[ə]</td>\n",
       "      <td>[e]</td>\n",
       "      <td>Deutsch</td>\n",
       "      <td>de</td>\n",
       "      <td>FIX_ZU_KURZ</td>\n",
       "      <td>3.808019</td>\n",
       "      <td></td>\n",
       "      <td>-e</td>\n",
       "      <td>ZFIX TRUNC</td>\n",
       "      <td></td>\n",
       "    </tr>\n",
       "    <tr>\n",
       "      <th>39781</th>\n",
       "      <td>108330</td>\n",
       "      <td>1</td>\n",
       "      <td>-e_1</td>\n",
       "      <td>-e</td>\n",
       "      <td>-e</td>\n",
       "      <td>False</td>\n",
       "      <td>{'Pronomen': ['Personalpronomen']}</td>\n",
       "      <td>NaN</td>\n",
       "      <td>&lt;NA&gt;</td>\n",
       "      <td>{}</td>\n",
       "      <td>[ə]</td>\n",
       "      <td>[e]</td>\n",
       "      <td>Deutsch</td>\n",
       "      <td>de</td>\n",
       "      <td>FIX_ZU_KURZ</td>\n",
       "      <td>1.010936</td>\n",
       "      <td></td>\n",
       "      <td>-e</td>\n",
       "      <td>ZFIX PPER</td>\n",
       "      <td>Pronomen Personalpronomen</td>\n",
       "    </tr>\n",
       "    <tr>\n",
       "      <th>734488</th>\n",
       "      <td>1003815</td>\n",
       "      <td>0</td>\n",
       "      <td>-i</td>\n",
       "      <td>-i</td>\n",
       "      <td>-i</td>\n",
       "      <td>False</td>\n",
       "      <td>{'Affix': ['Suffix']}</td>\n",
       "      <td>NaN</td>\n",
       "      <td>&lt;NA&gt;</td>\n",
       "      <td>{}</td>\n",
       "      <td>[i]</td>\n",
       "      <td>[i]</td>\n",
       "      <td>Deutsch</td>\n",
       "      <td>de</td>\n",
       "      <td>FIX_ZU_KURZ</td>\n",
       "      <td>6.636695</td>\n",
       "      <td></td>\n",
       "      <td>-i</td>\n",
       "      <td>ZFIX TRUNC</td>\n",
       "      <td>Suffix</td>\n",
       "    </tr>\n",
       "  </tbody>\n",
       "</table>\n",
       "</div>"
      ],
      "text/plain": [
       "        page_id  page_part section_id2 title lemma  inflected  \\\n",
       "9582      16406          0          a-    a-    a-      False   \n",
       "9583      16406          1        a-_1    a-    a-      False   \n",
       "25834     68299          0          -a    -a    -a      False   \n",
       "27408     71752          0          e-    e-    e-      False   \n",
       "35053     98034          0          -s    -s    -s      False   \n",
       "35054     98034          1        -s_1    -s    -s      False   \n",
       "39772    108322          0          -n    -n    -n      False   \n",
       "39780    108330          0          -e    -e    -e      False   \n",
       "39781    108330          1        -e_1    -e    -e      False   \n",
       "734488  1003815          0          -i    -i    -i      False   \n",
       "\n",
       "                                       pos rhymes  section_len flexion  \\\n",
       "9582                 {'Affix': ['Präfix']}    NaN         <NA>      {}   \n",
       "9583                 {'Affix': ['Präfix']}    NaN         <NA>      {}   \n",
       "25834           {'Ortsnamengrundwort': []}    NaN         <NA>      {}   \n",
       "27408                {'Affix': ['Präfix']}    NaN         <NA>      {}   \n",
       "35053                {'Affix': ['Suffix']}    NaN         <NA>      {}   \n",
       "35054              {'Affix': ['Interfix']}    NaN         <NA>      {}   \n",
       "39772                        {'Affix': []}    NaN         <NA>      {}   \n",
       "39780                        {'Affix': []}    NaN         <NA>      {}   \n",
       "39781   {'Pronomen': ['Personalpronomen']}    NaN         <NA>      {}   \n",
       "734488               {'Affix': ['Suffix']}    NaN         <NA>      {}   \n",
       "\n",
       "           ipa syllables     lang lang_code          msg     score error  \\\n",
       "9582    [a(ː)]       [a]  Deutsch        de  FIX_ZU_KURZ   8.00729         \n",
       "9583       NaN       NaN  Deutsch        de  FIX_ZU_KURZ  2.641555         \n",
       "25834     [-a]       [a]  Deutsch        de  FIX_ZU_KURZ  5.641555         \n",
       "27408      [e]       [e]  Deutsch        de  FIX_ZU_KURZ  3.931956         \n",
       "35053      [s]       [s]  Deutsch        de  FIX_ZU_KURZ  2.947752         \n",
       "35054      [s]       [s]  Deutsch        de  FIX_ZU_KURZ  1.290401         \n",
       "39772      [n]       [n]  Deutsch        de  FIX_ZU_KURZ  4.657351         \n",
       "39780      [ə]       [e]  Deutsch        de  FIX_ZU_KURZ  3.808019         \n",
       "39781      [ə]       [e]  Deutsch        de  FIX_ZU_KURZ  1.010936         \n",
       "734488     [i]       [i]  Deutsch        de  FIX_ZU_KURZ  6.636695         \n",
       "\n",
       "       lemma_lower         tag                     member  \n",
       "9582            a-  AFIX TRUNC                     Präfix  \n",
       "9583            a-  AFIX TRUNC                     Präfix  \n",
       "25834           -a     ZFIX NE         Ortsnamengrundwort  \n",
       "27408           e-  AFIX TRUNC                     Präfix  \n",
       "35053           -s  ZFIX TRUNC                     Suffix  \n",
       "35054           -s  ZFIX TRUNC                   Interfix  \n",
       "39772           -n  ZFIX TRUNC                             \n",
       "39780           -e  ZFIX TRUNC                             \n",
       "39781           -e   ZFIX PPER  Pronomen Personalpronomen  \n",
       "734488          -i  ZFIX TRUNC                     Suffix  "
      ]
     },
     "execution_count": 82,
     "metadata": {},
     "output_type": "execute_result"
    }
   ],
   "source": [
    "# FIX_ZU_KURZ >> löschen\n",
    "mask1A = wiktionary.tag.str.contains('AFIX')\n",
    "mask1B = wiktionary.tag.str.contains('ZFIX')\n",
    "mask2  = wiktionary.lemma.str.len() <= 2\n",
    "mask = (mask1A | mask1B)  &  mask2\n",
    "check_mask(wiktionary, mask, 9)\n",
    "\n",
    "msg = 'FIX_ZU_KURZ'\n",
    "wiktionary, wiktionary_trash = pak.move_rows(df_from=wiktionary, df_to=wiktionary_trash, mask=mask, msg=msg) \n",
    "grid(wiktionary_trash, msg)"
   ]
  },
  {
   "cell_type": "code",
   "execution_count": 83,
   "metadata": {
    "execution": {
     "iopub.execute_input": "2023-02-20T16:17:17.836780Z",
     "iopub.status.busy": "2023-02-20T16:17:17.836514Z",
     "iopub.status.idle": "2023-02-20T16:17:19.239196Z",
     "shell.execute_reply": "2023-02-20T16:17:19.238502Z",
     "shell.execute_reply.started": "2023-02-20T16:17:17.836757Z"
    },
    "tags": []
   },
   "outputs": [
    {
     "name": "stdout",
     "output_type": "stream",
     "text": [
      "check_mask:  3 rows\n",
      "Move 3 rows from 837240\n",
      "3 rows out of 4508\n"
     ]
    },
    {
     "data": {
      "text/html": [
       "<div>\n",
       "<style scoped>\n",
       "    .dataframe tbody tr th:only-of-type {\n",
       "        vertical-align: middle;\n",
       "    }\n",
       "\n",
       "    .dataframe tbody tr th {\n",
       "        vertical-align: top;\n",
       "    }\n",
       "\n",
       "    .dataframe thead th {\n",
       "        text-align: right;\n",
       "    }\n",
       "</style>\n",
       "<table border=\"1\" class=\"dataframe\">\n",
       "  <thead>\n",
       "    <tr style=\"text-align: right;\">\n",
       "      <th></th>\n",
       "      <th>page_id</th>\n",
       "      <th>page_part</th>\n",
       "      <th>section_id2</th>\n",
       "      <th>title</th>\n",
       "      <th>lemma</th>\n",
       "      <th>inflected</th>\n",
       "      <th>pos</th>\n",
       "      <th>rhymes</th>\n",
       "      <th>section_len</th>\n",
       "      <th>flexion</th>\n",
       "      <th>ipa</th>\n",
       "      <th>syllables</th>\n",
       "      <th>lang</th>\n",
       "      <th>lang_code</th>\n",
       "      <th>msg</th>\n",
       "      <th>score</th>\n",
       "      <th>error</th>\n",
       "      <th>lemma_lower</th>\n",
       "      <th>tag</th>\n",
       "      <th>member</th>\n",
       "    </tr>\n",
       "  </thead>\n",
       "  <tbody>\n",
       "    <tr>\n",
       "      <th>788475</th>\n",
       "      <td>1059723</td>\n",
       "      <td>0</td>\n",
       "      <td>Ge-…-e</td>\n",
       "      <td>Ge-…-e</td>\n",
       "      <td>Ge-…-e</td>\n",
       "      <td>False</td>\n",
       "      <td>{'Affix': ['Zirkumfix']}</td>\n",
       "      <td>NaN</td>\n",
       "      <td>&lt;NA&gt;</td>\n",
       "      <td>{}</td>\n",
       "      <td>[ɡəˈə]</td>\n",
       "      <td>NaN</td>\n",
       "      <td>Deutsch</td>\n",
       "      <td>de</td>\n",
       "      <td>Zirkumfix</td>\n",
       "      <td>3.253949</td>\n",
       "      <td></td>\n",
       "      <td>ge-…-e</td>\n",
       "      <td>TRUNC</td>\n",
       "      <td>Affix Zirkumfix</td>\n",
       "    </tr>\n",
       "    <tr>\n",
       "      <th>828474</th>\n",
       "      <td>1105850</td>\n",
       "      <td>0</td>\n",
       "      <td>be-…-t</td>\n",
       "      <td>be-…-t</td>\n",
       "      <td>be-…-t</td>\n",
       "      <td>False</td>\n",
       "      <td>{'Affix': ['Zirkumfix']}</td>\n",
       "      <td>NaN</td>\n",
       "      <td>&lt;NA&gt;</td>\n",
       "      <td>{}</td>\n",
       "      <td>[bəˈt]</td>\n",
       "      <td>NaN</td>\n",
       "      <td>Deutsch</td>\n",
       "      <td>de</td>\n",
       "      <td>Zirkumfix</td>\n",
       "      <td>4.486027</td>\n",
       "      <td></td>\n",
       "      <td>be-…-t</td>\n",
       "      <td>TRUNC</td>\n",
       "      <td>Affix Zirkumfix</td>\n",
       "    </tr>\n",
       "    <tr>\n",
       "      <th>828507</th>\n",
       "      <td>1105899</td>\n",
       "      <td>0</td>\n",
       "      <td>zer-…-t</td>\n",
       "      <td>zer-…-t</td>\n",
       "      <td>zer-…-t</td>\n",
       "      <td>False</td>\n",
       "      <td>{'Affix': ['Zirkumfix']}</td>\n",
       "      <td>NaN</td>\n",
       "      <td>&lt;NA&gt;</td>\n",
       "      <td>{}</td>\n",
       "      <td>[t͡sɛɐ̯ˈt]</td>\n",
       "      <td>NaN</td>\n",
       "      <td>Deutsch</td>\n",
       "      <td>de</td>\n",
       "      <td>Zirkumfix</td>\n",
       "      <td>3.323208</td>\n",
       "      <td></td>\n",
       "      <td>zer-…-t</td>\n",
       "      <td>TRUNC</td>\n",
       "      <td>Affix Zirkumfix</td>\n",
       "    </tr>\n",
       "  </tbody>\n",
       "</table>\n",
       "</div>"
      ],
      "text/plain": [
       "        page_id  page_part section_id2    title    lemma  inflected  \\\n",
       "788475  1059723          0      Ge-…-e   Ge-…-e   Ge-…-e      False   \n",
       "828474  1105850          0      be-…-t   be-…-t   be-…-t      False   \n",
       "828507  1105899          0     zer-…-t  zer-…-t  zer-…-t      False   \n",
       "\n",
       "                             pos rhymes  section_len flexion         ipa  \\\n",
       "788475  {'Affix': ['Zirkumfix']}    NaN         <NA>      {}      [ɡəˈə]   \n",
       "828474  {'Affix': ['Zirkumfix']}    NaN         <NA>      {}      [bəˈt]   \n",
       "828507  {'Affix': ['Zirkumfix']}    NaN         <NA>      {}  [t͡sɛɐ̯ˈt]   \n",
       "\n",
       "       syllables     lang lang_code        msg     score error lemma_lower  \\\n",
       "788475       NaN  Deutsch        de  Zirkumfix  3.253949            ge-…-e   \n",
       "828474       NaN  Deutsch        de  Zirkumfix  4.486027            be-…-t   \n",
       "828507       NaN  Deutsch        de  Zirkumfix  3.323208           zer-…-t   \n",
       "\n",
       "          tag           member  \n",
       "788475  TRUNC  Affix Zirkumfix  \n",
       "828474  TRUNC  Affix Zirkumfix  \n",
       "828507  TRUNC  Affix Zirkumfix  "
      ]
     },
     "execution_count": 83,
     "metadata": {},
     "output_type": "execute_result"
    }
   ],
   "source": [
    "# Zirkumfix >> löschen\n",
    "maskA = wiktionary.lemma.str.contains('-…-')\n",
    "maskB = wiktionary.member.str.contains('Zirkumfix')\n",
    "mask = maskA | maskB\n",
    "check_mask(wiktionary, mask, 3)\n",
    "\n",
    "msg = 'Zirkumfix'\n",
    "wiktionary, wiktionary_trash = pak.move_rows(df_from=wiktionary, df_to=wiktionary_trash, mask=mask, msg=msg) \n",
    "grid(wiktionary_trash, msg)"
   ]
  },
  {
   "cell_type": "code",
   "execution_count": 84,
   "metadata": {
    "execution": {
     "iopub.execute_input": "2023-02-20T16:17:19.246749Z",
     "iopub.status.busy": "2023-02-20T16:17:19.244075Z",
     "iopub.status.idle": "2023-02-20T16:17:19.661137Z",
     "shell.execute_reply": "2023-02-20T16:17:19.658730Z",
     "shell.execute_reply.started": "2023-02-20T16:17:19.246711Z"
    },
    "tags": []
   },
   "outputs": [
    {
     "name": "stdout",
     "output_type": "stream",
     "text": [
      "check_mask:  0 rows\n",
      "\u001b[1m\u001b[7m\u001b[34mNo rows, mask filters them all away\u001b[0m\n"
     ]
    }
   ],
   "source": [
    "# dar ist ein Präfix ohne Bindestrich\n",
    "mask = wiktionary.member.str.contains('Affix')\n",
    "check_mask(wiktionary, mask, 1)\n",
    "\n",
    "wiktionary.loc[mask,'member'] = pak.remove_str(wiktionary[mask].member, ['Affix'])\n",
    "grid(wiktionary, mask)"
   ]
  },
  {
   "cell_type": "code",
   "execution_count": 85,
   "metadata": {
    "execution": {
     "iopub.execute_input": "2023-02-20T16:17:19.662443Z",
     "iopub.status.busy": "2023-02-20T16:17:19.662163Z",
     "iopub.status.idle": "2023-02-20T16:17:20.038820Z",
     "shell.execute_reply": "2023-02-20T16:17:20.037858Z",
     "shell.execute_reply.started": "2023-02-20T16:17:19.662419Z"
    },
    "tags": []
   },
   "outputs": [
    {
     "name": "stdout",
     "output_type": "stream",
     "text": [
      "2 rows\n"
     ]
    },
    {
     "data": {
      "text/html": [
       "<div>\n",
       "<style scoped>\n",
       "    .dataframe tbody tr th:only-of-type {\n",
       "        vertical-align: middle;\n",
       "    }\n",
       "\n",
       "    .dataframe tbody tr th {\n",
       "        vertical-align: top;\n",
       "    }\n",
       "\n",
       "    .dataframe thead th {\n",
       "        text-align: right;\n",
       "    }\n",
       "</style>\n",
       "<table border=\"1\" class=\"dataframe\">\n",
       "  <thead>\n",
       "    <tr style=\"text-align: right;\">\n",
       "      <th></th>\n",
       "      <th>tag</th>\n",
       "      <th>tag_count</th>\n",
       "      <th>tag_percent</th>\n",
       "      <th>member</th>\n",
       "      <th>member_count</th>\n",
       "      <th>lemma</th>\n",
       "      <th>lemma_count</th>\n",
       "    </tr>\n",
       "  </thead>\n",
       "  <tbody>\n",
       "    <tr>\n",
       "      <th>0</th>\n",
       "      <td>AFIX TRUNC</td>\n",
       "      <td>549</td>\n",
       "      <td>65.4</td>\n",
       "      <td>[Gebundenes_Lexem, Präfix, Präfixoid]</td>\n",
       "      <td>[378, 141, 30]</td>\n",
       "      <td>[ab-, an-, über-, tele-, top-, auto-, ambi-, stief-, plagio-, ortho-, ein-, anglo-, hemi-, un-, poly-, erz-, infra-, anti-, hypo-, Ingen-]</td>\n",
       "      <td>[2, 2, 2, 2, 2, 1, 1, 1, 1, 1, 1, 1, 1, 1, 1, 1, 1, 1, 1, 1]</td>\n",
       "    </tr>\n",
       "    <tr>\n",
       "      <th>1</th>\n",
       "      <td>ZFIX TRUNC</td>\n",
       "      <td>290</td>\n",
       "      <td>34.6</td>\n",
       "      <td>[Suffix, Gebundenes_Lexem, Substantiv  Suffix, Substantiv Gebundenes_Lexem, Suffixoid, Verb  Suffix, Adjektiv  Suffix, , Adjektiv Gebundenes_Lexem]</td>\n",
       "      <td>[135, 102, 23, 13, 7, 5, 2, 2, 1]</td>\n",
       "      <td>[-in, -ier, -el, -ig, -meter, -en, -gon, -ow, -zid, -kunde, -fizier, -erl, -stat, -schrecke, -au, -trop, -eck, -egk, -legen, -mar]</td>\n",
       "      <td>[3, 3, 2, 2, 2, 2, 2, 1, 1, 1, 1, 1, 1, 1, 1, 1, 1, 1, 1, 1]</td>\n",
       "    </tr>\n",
       "  </tbody>\n",
       "</table>\n",
       "</div>"
      ],
      "text/plain": [
       "          tag  tag_count  tag_percent  \\\n",
       "0  AFIX TRUNC        549         65.4   \n",
       "1  ZFIX TRUNC        290         34.6   \n",
       "\n",
       "                                                                                                                                                member  \\\n",
       "0                                                                                                                [Gebundenes_Lexem, Präfix, Präfixoid]   \n",
       "1  [Suffix, Gebundenes_Lexem, Substantiv  Suffix, Substantiv Gebundenes_Lexem, Suffixoid, Verb  Suffix, Adjektiv  Suffix, , Adjektiv Gebundenes_Lexem]   \n",
       "\n",
       "                        member_count  \\\n",
       "0                     [378, 141, 30]   \n",
       "1  [135, 102, 23, 13, 7, 5, 2, 2, 1]   \n",
       "\n",
       "                                                                                                                                        lemma  \\\n",
       "0  [ab-, an-, über-, tele-, top-, auto-, ambi-, stief-, plagio-, ortho-, ein-, anglo-, hemi-, un-, poly-, erz-, infra-, anti-, hypo-, Ingen-]   \n",
       "1          [-in, -ier, -el, -ig, -meter, -en, -gon, -ow, -zid, -kunde, -fizier, -erl, -stat, -schrecke, -au, -trop, -eck, -egk, -legen, -mar]   \n",
       "\n",
       "                                                    lemma_count  \n",
       "0  [2, 2, 2, 2, 2, 1, 1, 1, 1, 1, 1, 1, 1, 1, 1, 1, 1, 1, 1, 1]  \n",
       "1  [3, 3, 2, 2, 2, 2, 2, 1, 1, 1, 1, 1, 1, 1, 1, 1, 1, 1, 1, 1]  "
      ]
     },
     "execution_count": 85,
     "metadata": {},
     "output_type": "execute_result"
    }
   ],
   "source": [
    "# Kontrolle und Statistik TRUNC\n",
    "mask = wiktionary.tag.str.contains('TRUNC')\n",
    "a = pak.analyse_freqs(wiktionary[mask], ['tag','member','lemma'])\n",
    "assert a.shape[0] == 2\n",
    "grid(a)"
   ]
  },
  {
   "cell_type": "markdown",
   "metadata": {},
   "source": [
    "## Einzelkorrekturen"
   ]
  },
  {
   "cell_type": "code",
   "execution_count": 88,
   "metadata": {
    "execution": {
     "iopub.execute_input": "2023-02-20T16:20:48.002239Z",
     "iopub.status.busy": "2023-02-20T16:20:48.001875Z",
     "iopub.status.idle": "2023-02-20T16:20:56.194640Z",
     "shell.execute_reply": "2023-02-20T16:20:56.193582Z",
     "shell.execute_reply.started": "2023-02-20T16:20:48.002214Z"
    },
    "tags": []
   },
   "outputs": [
    {
     "name": "stdout",
     "output_type": "stream",
     "text": [
      "66 rows\n"
     ]
    },
    {
     "data": {
      "text/html": [
       "\n",
       "        <iframe\n",
       "            width=\"100%\"\n",
       "            height=\"475\"\n",
       "            src=\"http://pop-os:40000/dtale/iframe/2\"\n",
       "            frameborder=\"0\"\n",
       "            allowfullscreen\n",
       "            \n",
       "        ></iframe>\n",
       "        "
      ],
      "text/plain": [
       "<IPython.lib.display.IFrame at 0x7f7a47998130>"
      ]
     },
     "metadata": {},
     "output_type": "display_data"
    },
    {
     "data": {
      "text/plain": []
     },
     "execution_count": 88,
     "metadata": {},
     "output_type": "execute_result"
    }
   ],
   "source": [
    "# member Häufigkeitsanalyse\n",
    "a = pak.analyse_freqs(wiktionary,['member','lemma'], splits=[' ',None])\n",
    "a = pak.drop_cols(a,'lemma_count')\n",
    "gridt(a)"
   ]
  },
  {
   "cell_type": "code",
   "execution_count": 89,
   "metadata": {
    "execution": {
     "iopub.execute_input": "2023-02-20T16:20:56.196139Z",
     "iopub.status.busy": "2023-02-20T16:20:56.195881Z",
     "iopub.status.idle": "2023-02-20T16:20:56.238759Z",
     "shell.execute_reply": "2023-02-20T16:20:56.237999Z",
     "shell.execute_reply.started": "2023-02-20T16:20:56.196118Z"
    }
   },
   "outputs": [],
   "source": [
    "# Einzelkorrekturen (das sind section_id2)       \n",
    "einzelkorrekturen = { 'viel'        : 'ADJA PIAT',  # war: ADJA ADV PIAT CARD\n",
    "                      'zig'         : 'ADJA',\n",
    "                      'bis'         : 'KOUS APPR',      \n",
    "                      'derentwegen' : 'PDAT PRELAT',\n",
    "                      'Rheinland'   : 'NE',          # war: NN       \n",
    "}"
   ]
  },
  {
   "cell_type": "code",
   "execution_count": 90,
   "metadata": {
    "execution": {
     "iopub.execute_input": "2023-02-20T16:20:56.240381Z",
     "iopub.status.busy": "2023-02-20T16:20:56.239758Z",
     "iopub.status.idle": "2023-02-20T16:20:56.432721Z",
     "shell.execute_reply": "2023-02-20T16:20:56.428515Z",
     "shell.execute_reply.started": "2023-02-20T16:20:56.240355Z"
    },
    "tags": []
   },
   "outputs": [
    {
     "name": "stdout",
     "output_type": "stream",
     "text": [
      "6 rows\n"
     ]
    },
    {
     "data": {
      "text/html": [
       "<div>\n",
       "<style scoped>\n",
       "    .dataframe tbody tr th:only-of-type {\n",
       "        vertical-align: middle;\n",
       "    }\n",
       "\n",
       "    .dataframe tbody tr th {\n",
       "        vertical-align: top;\n",
       "    }\n",
       "\n",
       "    .dataframe thead th {\n",
       "        text-align: right;\n",
       "    }\n",
       "</style>\n",
       "<table border=\"1\" class=\"dataframe\">\n",
       "  <thead>\n",
       "    <tr style=\"text-align: right;\">\n",
       "      <th></th>\n",
       "      <th>section_id2</th>\n",
       "      <th>title</th>\n",
       "      <th>lemma</th>\n",
       "      <th>tag</th>\n",
       "      <th>member</th>\n",
       "      <th>score</th>\n",
       "    </tr>\n",
       "  </thead>\n",
       "  <tbody>\n",
       "    <tr>\n",
       "      <th>22599</th>\n",
       "      <td>Rheinland</td>\n",
       "      <td>Rheinland</td>\n",
       "      <td>Rheinland</td>\n",
       "      <td>NN</td>\n",
       "      <td>Substantiv</td>\n",
       "      <td>10.821385</td>\n",
       "    </tr>\n",
       "    <tr>\n",
       "      <th>45932</th>\n",
       "      <td>bis</td>\n",
       "      <td>bis</td>\n",
       "      <td>bis</td>\n",
       "      <td>ITJ KON APPR</td>\n",
       "      <td>Partikel Konjunktion Adposition Präposition</td>\n",
       "      <td>24.574727</td>\n",
       "    </tr>\n",
       "    <tr>\n",
       "      <th>45933</th>\n",
       "      <td>bis_1</td>\n",
       "      <td>bis</td>\n",
       "      <td>bis</td>\n",
       "      <td>KOUS</td>\n",
       "      <td>Konjunktion Subjunktion</td>\n",
       "      <td>1.806804</td>\n",
       "    </tr>\n",
       "    <tr>\n",
       "      <th>58741</th>\n",
       "      <td>derentwegen</td>\n",
       "      <td>derentwegen</td>\n",
       "      <td>derentwegen</td>\n",
       "      <td>ADV PDAT PRELAT</td>\n",
       "      <td>Adverb Pronomen Demonstrativpronomen Relativpronomen</td>\n",
       "      <td>11.17497</td>\n",
       "    </tr>\n",
       "    <tr>\n",
       "      <th>4128</th>\n",
       "      <td>viel</td>\n",
       "      <td>viel</td>\n",
       "      <td>viel</td>\n",
       "      <td>ADJA ADV PIAT CARD</td>\n",
       "      <td>Adjektiv Adverb Pronomen Indefinitpronomen Numerale</td>\n",
       "      <td>44.134872</td>\n",
       "    </tr>\n",
       "    <tr>\n",
       "      <th>29519</th>\n",
       "      <td>zig</td>\n",
       "      <td>zig</td>\n",
       "      <td>zig</td>\n",
       "      <td>NN ADJA</td>\n",
       "      <td>Substantiv Adjektiv Zahlklassifikator</td>\n",
       "      <td>8.601458</td>\n",
       "    </tr>\n",
       "  </tbody>\n",
       "</table>\n",
       "</div>"
      ],
      "text/plain": [
       "       section_id2        title        lemma                 tag  \\\n",
       "22599    Rheinland    Rheinland    Rheinland                  NN   \n",
       "45932          bis          bis          bis        ITJ KON APPR   \n",
       "45933        bis_1          bis          bis                KOUS   \n",
       "58741  derentwegen  derentwegen  derentwegen     ADV PDAT PRELAT   \n",
       "4128          viel         viel         viel  ADJA ADV PIAT CARD   \n",
       "29519          zig          zig          zig             NN ADJA   \n",
       "\n",
       "                                                     member      score  \n",
       "22599                                            Substantiv  10.821385  \n",
       "45932           Partikel Konjunktion Adposition Präposition  24.574727  \n",
       "45933                               Konjunktion Subjunktion   1.806804  \n",
       "58741  Adverb Pronomen Demonstrativpronomen Relativpronomen   11.17497  \n",
       "4128    Adjektiv Adverb Pronomen Indefinitpronomen Numerale  44.134872  \n",
       "29519                 Substantiv Adjektiv Zahlklassifikator   8.601458  "
      ]
     },
     "execution_count": 90,
     "metadata": {},
     "output_type": "execute_result"
    }
   ],
   "source": [
    "# anschauen (alle title, nicht nur die section_id2)\n",
    "mask = wiktionary.title.isin(einzelkorrekturen.keys())\n",
    "df = wiktionary[mask].sort_values('section_id2')\n",
    "spalten = ['section_id2','title','lemma','tag','member','score']\n",
    "grid(df[spalten])"
   ]
  },
  {
   "cell_type": "code",
   "execution_count": 91,
   "metadata": {
    "execution": {
     "iopub.execute_input": "2023-02-20T16:20:56.453609Z",
     "iopub.status.busy": "2023-02-20T16:20:56.442713Z",
     "iopub.status.idle": "2023-02-20T16:20:57.221756Z",
     "shell.execute_reply": "2023-02-20T16:20:57.221001Z",
     "shell.execute_reply.started": "2023-02-20T16:20:56.453570Z"
    }
   },
   "outputs": [],
   "source": [
    "# ändern lt. section_id2\n",
    "for i,t in einzelkorrekturen.items():\n",
    "    mask = (wiktionary.section_id2 == i)\n",
    "    wiktionary.loc[mask,'tag'] = t"
   ]
  },
  {
   "cell_type": "code",
   "execution_count": 92,
   "metadata": {
    "execution": {
     "iopub.execute_input": "2023-02-20T16:20:57.222909Z",
     "iopub.status.busy": "2023-02-20T16:20:57.222670Z",
     "iopub.status.idle": "2023-02-20T16:21:23.448463Z",
     "shell.execute_reply": "2023-02-20T16:21:23.447649Z",
     "shell.execute_reply.started": "2023-02-20T16:20:57.222887Z"
    }
   },
   "outputs": [],
   "source": [
    "# pflege_tag_felder (schreibe tagZZ usw.)\n",
    "wiktionary = pflege_tag_felder(wiktionary, translate_tagZ)"
   ]
  },
  {
   "cell_type": "code",
   "execution_count": 93,
   "metadata": {
    "execution": {
     "iopub.execute_input": "2023-02-20T16:21:23.449636Z",
     "iopub.status.busy": "2023-02-20T16:21:23.449394Z",
     "iopub.status.idle": "2023-02-20T16:21:23.543181Z",
     "shell.execute_reply": "2023-02-20T16:21:23.542276Z",
     "shell.execute_reply.started": "2023-02-20T16:21:23.449614Z"
    },
    "tags": []
   },
   "outputs": [
    {
     "name": "stdout",
     "output_type": "stream",
     "text": [
      "6 rows\n"
     ]
    },
    {
     "data": {
      "text/html": [
       "<div>\n",
       "<style scoped>\n",
       "    .dataframe tbody tr th:only-of-type {\n",
       "        vertical-align: middle;\n",
       "    }\n",
       "\n",
       "    .dataframe tbody tr th {\n",
       "        vertical-align: top;\n",
       "    }\n",
       "\n",
       "    .dataframe thead th {\n",
       "        text-align: right;\n",
       "    }\n",
       "</style>\n",
       "<table border=\"1\" class=\"dataframe\">\n",
       "  <thead>\n",
       "    <tr style=\"text-align: right;\">\n",
       "      <th></th>\n",
       "      <th>section_id2</th>\n",
       "      <th>title</th>\n",
       "      <th>lemma</th>\n",
       "      <th>tag</th>\n",
       "      <th>tagZZ</th>\n",
       "      <th>member</th>\n",
       "      <th>score</th>\n",
       "    </tr>\n",
       "  </thead>\n",
       "  <tbody>\n",
       "    <tr>\n",
       "      <th>22541</th>\n",
       "      <td>Rheinland</td>\n",
       "      <td>Rheinland</td>\n",
       "      <td>Rheinland</td>\n",
       "      <td>NE</td>\n",
       "      <td>N</td>\n",
       "      <td>Substantiv</td>\n",
       "      <td>10.821385</td>\n",
       "    </tr>\n",
       "    <tr>\n",
       "      <th>45836</th>\n",
       "      <td>bis</td>\n",
       "      <td>bis</td>\n",
       "      <td>bis</td>\n",
       "      <td>KOUS APPR</td>\n",
       "      <td>X</td>\n",
       "      <td>Partikel Konjunktion Adposition Präposition</td>\n",
       "      <td>24.574727</td>\n",
       "    </tr>\n",
       "    <tr>\n",
       "      <th>45837</th>\n",
       "      <td>bis_1</td>\n",
       "      <td>bis</td>\n",
       "      <td>bis</td>\n",
       "      <td>KOUS</td>\n",
       "      <td>X</td>\n",
       "      <td>Konjunktion Subjunktion</td>\n",
       "      <td>1.806804</td>\n",
       "    </tr>\n",
       "    <tr>\n",
       "      <th>58636</th>\n",
       "      <td>derentwegen</td>\n",
       "      <td>derentwegen</td>\n",
       "      <td>derentwegen</td>\n",
       "      <td>PDAT PRELAT</td>\n",
       "      <td>P</td>\n",
       "      <td>Adverb Pronomen Demonstrativpronomen Relativpronomen</td>\n",
       "      <td>11.17497</td>\n",
       "    </tr>\n",
       "    <tr>\n",
       "      <th>4110</th>\n",
       "      <td>viel</td>\n",
       "      <td>viel</td>\n",
       "      <td>viel</td>\n",
       "      <td>ADJA PIAT</td>\n",
       "      <td>A</td>\n",
       "      <td>Adjektiv Adverb Pronomen Indefinitpronomen Numerale</td>\n",
       "      <td>44.134872</td>\n",
       "    </tr>\n",
       "    <tr>\n",
       "      <th>29446</th>\n",
       "      <td>zig</td>\n",
       "      <td>zig</td>\n",
       "      <td>zig</td>\n",
       "      <td>ADJA</td>\n",
       "      <td>A</td>\n",
       "      <td>Substantiv Adjektiv Zahlklassifikator</td>\n",
       "      <td>8.601458</td>\n",
       "    </tr>\n",
       "  </tbody>\n",
       "</table>\n",
       "</div>"
      ],
      "text/plain": [
       "       section_id2        title        lemma          tag tagZZ  \\\n",
       "22541    Rheinland    Rheinland    Rheinland           NE     N   \n",
       "45836          bis          bis          bis    KOUS APPR     X   \n",
       "45837        bis_1          bis          bis         KOUS     X   \n",
       "58636  derentwegen  derentwegen  derentwegen  PDAT PRELAT     P   \n",
       "4110          viel         viel         viel    ADJA PIAT     A   \n",
       "29446          zig          zig          zig         ADJA     A   \n",
       "\n",
       "                                                     member      score  \n",
       "22541                                            Substantiv  10.821385  \n",
       "45836           Partikel Konjunktion Adposition Präposition  24.574727  \n",
       "45837                               Konjunktion Subjunktion   1.806804  \n",
       "58636  Adverb Pronomen Demonstrativpronomen Relativpronomen   11.17497  \n",
       "4110    Adjektiv Adverb Pronomen Indefinitpronomen Numerale  44.134872  \n",
       "29446                 Substantiv Adjektiv Zahlklassifikator   8.601458  "
      ]
     },
     "execution_count": 93,
     "metadata": {},
     "output_type": "execute_result"
    }
   ],
   "source": [
    "# anschauen (alle title, nicht nur die section_id2)\n",
    "mask = wiktionary.title.isin(einzelkorrekturen.keys())\n",
    "df = wiktionary[mask].sort_values('section_id2')\n",
    "spalten = ['section_id2','title','lemma','tag','tagZZ','member','score']\n",
    "grid(df[spalten])"
   ]
  },
  {
   "cell_type": "markdown",
   "metadata": {},
   "source": [
    "## named_entities"
   ]
  },
  {
   "cell_type": "code",
   "execution_count": 94,
   "metadata": {
    "execution": {
     "iopub.execute_input": "2023-02-20T16:21:23.546744Z",
     "iopub.status.busy": "2023-02-20T16:21:23.545337Z",
     "iopub.status.idle": "2023-02-20T16:21:24.356233Z",
     "shell.execute_reply": "2023-02-20T16:21:24.355479Z",
     "shell.execute_reply.started": "2023-02-20T16:21:23.546685Z"
    }
   },
   "outputs": [
    {
     "name": "stdout",
     "output_type": "stream",
     "text": [
      "4544 rows loaded\n"
     ]
    }
   ],
   "source": [
    "# laden\n",
    "named_entities = pak.load_excel(named_entities_filename, tabcol='quelle')"
   ]
  },
  {
   "cell_type": "code",
   "execution_count": 95,
   "metadata": {
    "execution": {
     "iopub.execute_input": "2023-02-20T16:21:24.360174Z",
     "iopub.status.busy": "2023-02-20T16:21:24.359849Z",
     "iopub.status.idle": "2023-02-20T16:21:24.485268Z",
     "shell.execute_reply": "2023-02-20T16:21:24.484536Z",
     "shell.execute_reply.started": "2023-02-20T16:21:24.360151Z"
    }
   },
   "outputs": [
    {
     "name": "stdout",
     "output_type": "stream",
     "text": [
      "3 rows\n"
     ]
    },
    {
     "data": {
      "text/html": [
       "<div>\n",
       "<style scoped>\n",
       "    .dataframe tbody tr th:only-of-type {\n",
       "        vertical-align: middle;\n",
       "    }\n",
       "\n",
       "    .dataframe tbody tr th {\n",
       "        vertical-align: top;\n",
       "    }\n",
       "\n",
       "    .dataframe thead th {\n",
       "        text-align: right;\n",
       "    }\n",
       "</style>\n",
       "<table border=\"1\" class=\"dataframe\">\n",
       "  <thead>\n",
       "    <tr style=\"text-align: right;\">\n",
       "      <th></th>\n",
       "      <th>quelle</th>\n",
       "      <th>quelle_count</th>\n",
       "      <th>quelle_percent</th>\n",
       "      <th>member</th>\n",
       "      <th>member_count</th>\n",
       "      <th>lemma</th>\n",
       "    </tr>\n",
       "  </thead>\n",
       "  <tbody>\n",
       "    <tr>\n",
       "      <th>0</th>\n",
       "      <td>Vorname</td>\n",
       "      <td>3825</td>\n",
       "      <td>84.2</td>\n",
       "      <td>[Vorname, Nachname]</td>\n",
       "      <td>[3825, 11]</td>\n",
       "      <td>[Hagen, Jordan, Menzel, Oswald, Reinhardt, Sander, Timm, Urban, Wichmann, Wieland, Wulf, Anna, Elisabeth, Johanna, Marie, Julia, Katharina, Christina, Eva, Charlotte]</td>\n",
       "    </tr>\n",
       "    <tr>\n",
       "      <th>1</th>\n",
       "      <td>Toponym</td>\n",
       "      <td>389</td>\n",
       "      <td>8.6</td>\n",
       "      <td>[Toponym, Stadt, Land]</td>\n",
       "      <td>[389, 293, 103]</td>\n",
       "      <td>[Berlin, Frankfurt, London, Paris, Tokio, Wien, München, New York, Amsterdam, Madrid, Zürich, Sydney, Hamburg, Toronto, Los Angeles, Stockholm, Chicago, Seoul, Brüssel, Peking]</td>\n",
       "    </tr>\n",
       "    <tr>\n",
       "      <th>2</th>\n",
       "      <td>Nachname</td>\n",
       "      <td>330</td>\n",
       "      <td>7.3</td>\n",
       "      <td>Nachname</td>\n",
       "      <td>330</td>\n",
       "      <td>[Ackermann, Ahrens, Albers, Altmann, Appel, Bachmann, Bader, Baier, Bartels, Barth, Barthel, Bartsch, Baumann, Baur, Bayer, Beck, Becker, Beckmann, Beer, Behrendt]</td>\n",
       "    </tr>\n",
       "  </tbody>\n",
       "</table>\n",
       "</div>"
      ],
      "text/plain": [
       "     quelle  quelle_count  quelle_percent                  member  \\\n",
       "0   Vorname          3825            84.2     [Vorname, Nachname]   \n",
       "1   Toponym           389             8.6  [Toponym, Stadt, Land]   \n",
       "2  Nachname           330             7.3                Nachname   \n",
       "\n",
       "      member_count  \\\n",
       "0       [3825, 11]   \n",
       "1  [389, 293, 103]   \n",
       "2              330   \n",
       "\n",
       "                                                                                                                                                                              lemma  \n",
       "0            [Hagen, Jordan, Menzel, Oswald, Reinhardt, Sander, Timm, Urban, Wichmann, Wieland, Wulf, Anna, Elisabeth, Johanna, Marie, Julia, Katharina, Christina, Eva, Charlotte]  \n",
       "1  [Berlin, Frankfurt, London, Paris, Tokio, Wien, München, New York, Amsterdam, Madrid, Zürich, Sydney, Hamburg, Toronto, Los Angeles, Stockholm, Chicago, Seoul, Brüssel, Peking]  \n",
       "2               [Ackermann, Ahrens, Albers, Altmann, Appel, Bachmann, Bader, Baier, Bartels, Barth, Barthel, Bartsch, Baumann, Baur, Bayer, Beck, Becker, Beckmann, Beer, Behrendt]  "
      ]
     },
     "execution_count": 95,
     "metadata": {},
     "output_type": "execute_result"
    }
   ],
   "source": [
    "# Überblick\n",
    "a = pak.analyse_freqs(named_entities, cols=['quelle','member','lemma'], splits=[None,' '])\n",
    "a = pak.drop_cols(a,'lemma_count')\n",
    "grid(a)"
   ]
  },
  {
   "cell_type": "code",
   "execution_count": 96,
   "metadata": {
    "execution": {
     "iopub.execute_input": "2023-02-20T16:21:24.488671Z",
     "iopub.status.busy": "2023-02-20T16:21:24.488401Z",
     "iopub.status.idle": "2023-02-20T16:21:24.534139Z",
     "shell.execute_reply": "2023-02-20T16:21:24.533446Z",
     "shell.execute_reply.started": "2023-02-20T16:21:24.488650Z"
    }
   },
   "outputs": [],
   "source": [
    "# Felder ergänzen\n",
    "named_entities['title']       = named_entities.lemma\n",
    "named_entities['lemma_lower'] = named_entities.lemma.str.lower() \n",
    "named_entities = pak.move_cols( named_entities, 'lemma_lower','lemma')"
   ]
  },
  {
   "cell_type": "code",
   "execution_count": 97,
   "metadata": {
    "execution": {
     "iopub.execute_input": "2023-02-20T16:21:24.538078Z",
     "iopub.status.busy": "2023-02-20T16:21:24.537592Z",
     "iopub.status.idle": "2023-02-20T16:21:24.587225Z",
     "shell.execute_reply": "2023-02-20T16:21:24.586427Z",
     "shell.execute_reply.started": "2023-02-20T16:21:24.538050Z"
    }
   },
   "outputs": [],
   "source": [
    "# section_id2\n",
    "named_entities['section_id2'] = named_entities.lemma + '_' + named_entities.quelle.str[0].str.upper().copy()\n",
    "named_entities['section_id2'] = named_entities.section_id2.str.replace(' ','_').copy()\n",
    "named_entities = pak.move_cols(named_entities, ['section_id2','title'])"
   ]
  },
  {
   "cell_type": "code",
   "execution_count": 98,
   "metadata": {
    "execution": {
     "iopub.execute_input": "2023-02-20T16:21:24.596959Z",
     "iopub.status.busy": "2023-02-20T16:21:24.592481Z",
     "iopub.status.idle": "2023-02-20T16:21:25.835372Z",
     "shell.execute_reply": "2023-02-20T16:21:25.831130Z",
     "shell.execute_reply.started": "2023-02-20T16:21:24.596914Z"
    }
   },
   "outputs": [
    {
     "name": "stdout",
     "output_type": "stream",
     "text": [
      "update_col: col_score score applied, 2289 records less!\n",
      "update_col: 1251 cells written into existing column\n"
     ]
    }
   ],
   "source": [
    "# Bekannte section_id2 aus wiktionary übertragen. Aber nur wenn der tag wirklich gleich ist.\n",
    "mask = (wiktionary.lemma == wiktionary.title)  # wichtig\n",
    "named_entities = pak.update_col(named_entities, wiktionary[mask], on=['lemma_lower','tag'], col='section_id2',  col_score='score' )"
   ]
  },
  {
   "cell_type": "code",
   "execution_count": 99,
   "metadata": {
    "execution": {
     "iopub.execute_input": "2023-02-20T16:21:25.836431Z",
     "iopub.status.busy": "2023-02-20T16:21:25.836185Z",
     "iopub.status.idle": "2023-02-20T16:21:25.917518Z",
     "shell.execute_reply": "2023-02-20T16:21:25.916715Z",
     "shell.execute_reply.started": "2023-02-20T16:21:25.836409Z"
    }
   },
   "outputs": [],
   "source": [
    "# drop_cols\n",
    "named_entities = pak.drop_cols(named_entities,['sex_f', 'sex_m', 'Land', 'Stadt','quelle'])"
   ]
  },
  {
   "cell_type": "code",
   "execution_count": 100,
   "metadata": {
    "execution": {
     "iopub.execute_input": "2023-02-20T16:21:25.921527Z",
     "iopub.status.busy": "2023-02-20T16:21:25.918641Z",
     "iopub.status.idle": "2023-02-20T16:21:25.988736Z",
     "shell.execute_reply": "2023-02-20T16:21:25.987425Z",
     "shell.execute_reply.started": "2023-02-20T16:21:25.921471Z"
    }
   },
   "outputs": [],
   "source": [
    "# score erhöhen\n",
    "named_entities.score += 1.0\n",
    "named_entities.score *= 2.0"
   ]
  },
  {
   "cell_type": "code",
   "execution_count": 101,
   "metadata": {
    "execution": {
     "iopub.execute_input": "2023-02-20T16:21:25.991077Z",
     "iopub.status.busy": "2023-02-20T16:21:25.990274Z",
     "iopub.status.idle": "2023-02-20T16:21:26.258336Z",
     "shell.execute_reply": "2023-02-20T16:21:26.257571Z",
     "shell.execute_reply.started": "2023-02-20T16:21:25.991042Z"
    }
   },
   "outputs": [
    {
     "name": "stdout",
     "output_type": "stream",
     "text": [
      "7 rows out of 4544\n"
     ]
    },
    {
     "data": {
      "text/html": [
       "<div>\n",
       "<style scoped>\n",
       "    .dataframe tbody tr th:only-of-type {\n",
       "        vertical-align: middle;\n",
       "    }\n",
       "\n",
       "    .dataframe tbody tr th {\n",
       "        vertical-align: top;\n",
       "    }\n",
       "\n",
       "    .dataframe thead th {\n",
       "        text-align: right;\n",
       "    }\n",
       "</style>\n",
       "<table border=\"1\" class=\"dataframe\">\n",
       "  <thead>\n",
       "    <tr style=\"text-align: right;\">\n",
       "      <th></th>\n",
       "      <th>section_id2</th>\n",
       "      <th>title</th>\n",
       "      <th>lemma</th>\n",
       "      <th>lemma_lower</th>\n",
       "      <th>tag</th>\n",
       "      <th>member</th>\n",
       "      <th>score</th>\n",
       "      <th>Genus</th>\n",
       "      <th>Nom Sg</th>\n",
       "      <th>Gen Sg</th>\n",
       "    </tr>\n",
       "  </thead>\n",
       "  <tbody>\n",
       "    <tr>\n",
       "      <th>0</th>\n",
       "      <td>Hagen</td>\n",
       "      <td>Hagen</td>\n",
       "      <td>Hagen</td>\n",
       "      <td>hagen</td>\n",
       "      <td>NE</td>\n",
       "      <td>Vorname Nachname</td>\n",
       "      <td>2.989899</td>\n",
       "      <td>m</td>\n",
       "      <td>Hagen</td>\n",
       "      <td>Hagens</td>\n",
       "    </tr>\n",
       "    <tr>\n",
       "      <th>11</th>\n",
       "      <td>Anna_1</td>\n",
       "      <td>Anna</td>\n",
       "      <td>Anna</td>\n",
       "      <td>anna</td>\n",
       "      <td>NE</td>\n",
       "      <td>Vorname</td>\n",
       "      <td>4.000000</td>\n",
       "      <td>f</td>\n",
       "      <td>Anna</td>\n",
       "      <td>Annas</td>\n",
       "    </tr>\n",
       "    <tr>\n",
       "      <th>140</th>\n",
       "      <td>Doris</td>\n",
       "      <td>Doris</td>\n",
       "      <td>Doris</td>\n",
       "      <td>doris</td>\n",
       "      <td>NE</td>\n",
       "      <td>Vorname</td>\n",
       "      <td>2.530279</td>\n",
       "      <td>f</td>\n",
       "      <td>Doris</td>\n",
       "      <td>&lt;NA&gt;</td>\n",
       "    </tr>\n",
       "    <tr>\n",
       "      <th>1875</th>\n",
       "      <td>Aytac_V</td>\n",
       "      <td>Aytac</td>\n",
       "      <td>Aytac</td>\n",
       "      <td>aytac</td>\n",
       "      <td>NE</td>\n",
       "      <td>Vorname</td>\n",
       "      <td>2.021720</td>\n",
       "      <td>x</td>\n",
       "      <td>Aytac</td>\n",
       "      <td>Aytacs</td>\n",
       "    </tr>\n",
       "    <tr>\n",
       "      <th>3824</th>\n",
       "      <td>Ünal_V</td>\n",
       "      <td>Ünal</td>\n",
       "      <td>Ünal</td>\n",
       "      <td>ünal</td>\n",
       "      <td>NE</td>\n",
       "      <td>Vorname</td>\n",
       "      <td>2.020000</td>\n",
       "      <td>m</td>\n",
       "      <td>Ünal</td>\n",
       "      <td>Ünals</td>\n",
       "    </tr>\n",
       "    <tr>\n",
       "      <th>3867</th>\n",
       "      <td>Aachen</td>\n",
       "      <td>Aachen</td>\n",
       "      <td>Aachen</td>\n",
       "      <td>aachen</td>\n",
       "      <td>NE</td>\n",
       "      <td>Toponym Stadt</td>\n",
       "      <td>2.038498</td>\n",
       "      <td>&lt;NA&gt;</td>\n",
       "      <td>Aachen</td>\n",
       "      <td>Aachens</td>\n",
       "    </tr>\n",
       "    <tr>\n",
       "      <th>4543</th>\n",
       "      <td>Ziegler</td>\n",
       "      <td>Ziegler</td>\n",
       "      <td>Ziegler</td>\n",
       "      <td>ziegler</td>\n",
       "      <td>NE</td>\n",
       "      <td>Nachname</td>\n",
       "      <td>2.989899</td>\n",
       "      <td>&lt;NA&gt;</td>\n",
       "      <td>Ziegler</td>\n",
       "      <td>Zieglers</td>\n",
       "    </tr>\n",
       "  </tbody>\n",
       "</table>\n",
       "</div>"
      ],
      "text/plain": [
       "     section_id2    title    lemma lemma_lower tag            member  \\\n",
       "0          Hagen    Hagen    Hagen       hagen  NE  Vorname Nachname   \n",
       "11        Anna_1     Anna     Anna        anna  NE           Vorname   \n",
       "140        Doris    Doris    Doris       doris  NE           Vorname   \n",
       "1875     Aytac_V    Aytac    Aytac       aytac  NE           Vorname   \n",
       "3824      Ünal_V     Ünal     Ünal        ünal  NE           Vorname   \n",
       "3867      Aachen   Aachen   Aachen      aachen  NE     Toponym Stadt   \n",
       "4543     Ziegler  Ziegler  Ziegler     ziegler  NE          Nachname   \n",
       "\n",
       "         score Genus   Nom Sg    Gen Sg  \n",
       "0     2.989899     m    Hagen    Hagens  \n",
       "11    4.000000     f     Anna     Annas  \n",
       "140   2.530279     f    Doris      <NA>  \n",
       "1875  2.021720     x    Aytac    Aytacs  \n",
       "3824  2.020000     m     Ünal     Ünals  \n",
       "3867  2.038498  <NA>   Aachen   Aachens  \n",
       "4543  2.989899  <NA>  Ziegler  Zieglers  "
      ]
     },
     "execution_count": 101,
     "metadata": {},
     "output_type": "execute_result"
    }
   ],
   "source": [
    "grid(named_entities, pak.sample)"
   ]
  },
  {
   "cell_type": "code",
   "execution_count": 102,
   "metadata": {
    "execution": {
     "iopub.execute_input": "2023-02-20T16:21:26.263100Z",
     "iopub.status.busy": "2023-02-20T16:21:26.262822Z",
     "iopub.status.idle": "2023-02-20T16:21:26.310302Z",
     "shell.execute_reply": "2023-02-20T16:21:26.309681Z",
     "shell.execute_reply.started": "2023-02-20T16:21:26.263079Z"
    }
   },
   "outputs": [
    {
     "name": "stdout",
     "output_type": "stream",
     "text": [
      "check_mask:  0 rows\n"
     ]
    }
   ],
   "source": [
    "# Dups?\n",
    "mask = named_entities.section_id2.duplicated()\n",
    "check_mask(named_entities,mask,0,0)"
   ]
  },
  {
   "cell_type": "code",
   "execution_count": 103,
   "metadata": {
    "execution": {
     "iopub.execute_input": "2023-02-20T16:21:26.317636Z",
     "iopub.status.busy": "2023-02-20T16:21:26.314691Z",
     "iopub.status.idle": "2023-02-20T16:21:26.364742Z",
     "shell.execute_reply": "2023-02-20T16:21:26.363690Z",
     "shell.execute_reply.started": "2023-02-20T16:21:26.317599Z"
    }
   },
   "outputs": [
    {
     "name": "stdout",
     "output_type": "stream",
     "text": [
      "<class 'IPython.core.display.Markdown'>\n"
     ]
    },
    {
     "data": {
      "text/markdown": [
       "<span style=\"font-size:larger;\">cols_to_dict(df, col_dict='', cols_add=[], use_defaultdict=False, drop=True):</span>\n",
       "\n",
       "Moves columns into a dict or defaultdict.\n",
       "This is \n",
       "* col_dict:         name of the target column. Can be empty, but may already contain a dict or defaultdict. \n",
       "* cols_add:         Columns to be packed.\n",
       "* use_defaultdict:  Should a defaultdict be used as data structure? Otherwise keys can only occur once.\n",
       "* drop:             Should the packed columns be dropped (>> move) or not (>> copy)?"
      ],
      "text/plain": [
       "<IPython.core.display.Markdown object>"
      ]
     },
     "metadata": {},
     "output_type": "display_data"
    }
   ],
   "source": [
    "blab.help(pak.cols_to_dict)"
   ]
  },
  {
   "cell_type": "code",
   "execution_count": 104,
   "metadata": {
    "execution": {
     "iopub.execute_input": "2023-02-20T16:21:26.367457Z",
     "iopub.status.busy": "2023-02-20T16:21:26.366882Z",
     "iopub.status.idle": "2023-02-20T16:21:29.246634Z",
     "shell.execute_reply": "2023-02-20T16:21:29.245972Z",
     "shell.execute_reply.started": "2023-02-20T16:21:26.367403Z"
    }
   },
   "outputs": [
    {
     "data": {
      "text/html": [
       "<div>\n",
       "<style scoped>\n",
       "    .dataframe tbody tr th:only-of-type {\n",
       "        vertical-align: middle;\n",
       "    }\n",
       "\n",
       "    .dataframe tbody tr th {\n",
       "        vertical-align: top;\n",
       "    }\n",
       "\n",
       "    .dataframe thead th {\n",
       "        text-align: right;\n",
       "    }\n",
       "</style>\n",
       "<table border=\"1\" class=\"dataframe\">\n",
       "  <thead>\n",
       "    <tr style=\"text-align: right;\">\n",
       "      <th></th>\n",
       "      <th>section_id2</th>\n",
       "      <th>title</th>\n",
       "      <th>lemma</th>\n",
       "      <th>lemma_lower</th>\n",
       "      <th>tag</th>\n",
       "      <th>member</th>\n",
       "      <th>score</th>\n",
       "      <th>flexion</th>\n",
       "    </tr>\n",
       "  </thead>\n",
       "  <tbody>\n",
       "    <tr>\n",
       "      <th>0</th>\n",
       "      <td>Hagen</td>\n",
       "      <td>Hagen</td>\n",
       "      <td>Hagen</td>\n",
       "      <td>hagen</td>\n",
       "      <td>NE</td>\n",
       "      <td>Vorname Nachname</td>\n",
       "      <td>2.989899</td>\n",
       "      <td>{'Genus': ['m'], 'Nom Sg': ['Hagen'], 'Gen Sg': ['Hagens']}</td>\n",
       "    </tr>\n",
       "    <tr>\n",
       "      <th>1</th>\n",
       "      <td>Jordan</td>\n",
       "      <td>Jordan</td>\n",
       "      <td>Jordan</td>\n",
       "      <td>jordan</td>\n",
       "      <td>NE</td>\n",
       "      <td>Vorname Nachname</td>\n",
       "      <td>2.989899</td>\n",
       "      <td>{'Genus': ['m'], 'Nom Sg': ['Jordan'], 'Gen Sg': ['Jordans']}</td>\n",
       "    </tr>\n",
       "    <tr>\n",
       "      <th>2</th>\n",
       "      <td>Menzel_V</td>\n",
       "      <td>Menzel</td>\n",
       "      <td>Menzel</td>\n",
       "      <td>menzel</td>\n",
       "      <td>NE</td>\n",
       "      <td>Vorname Nachname</td>\n",
       "      <td>2.989899</td>\n",
       "      <td>{'Genus': ['m'], 'Nom Sg': ['Menzel'], 'Gen Sg': ['Menzels']}</td>\n",
       "    </tr>\n",
       "    <tr>\n",
       "      <th>3</th>\n",
       "      <td>Oswald_V</td>\n",
       "      <td>Oswald</td>\n",
       "      <td>Oswald</td>\n",
       "      <td>oswald</td>\n",
       "      <td>NE</td>\n",
       "      <td>Vorname Nachname</td>\n",
       "      <td>2.989899</td>\n",
       "      <td>{'Genus': ['m'], 'Nom Sg': ['Oswald'], 'Gen Sg': ['Oswalds']}</td>\n",
       "    </tr>\n",
       "    <tr>\n",
       "      <th>4</th>\n",
       "      <td>Reinhardt_V</td>\n",
       "      <td>Reinhardt</td>\n",
       "      <td>Reinhardt</td>\n",
       "      <td>reinhardt</td>\n",
       "      <td>NE</td>\n",
       "      <td>Vorname Nachname</td>\n",
       "      <td>2.989899</td>\n",
       "      <td>{'Genus': ['m'], 'Nom Sg': ['Reinhardt'], 'Gen Sg': ['Reinhardts']}</td>\n",
       "    </tr>\n",
       "    <tr>\n",
       "      <th>...</th>\n",
       "      <td>...</td>\n",
       "      <td>...</td>\n",
       "      <td>...</td>\n",
       "      <td>...</td>\n",
       "      <td>...</td>\n",
       "      <td>...</td>\n",
       "      <td>...</td>\n",
       "      <td>...</td>\n",
       "    </tr>\n",
       "    <tr>\n",
       "      <th>4539</th>\n",
       "      <td>Wolff</td>\n",
       "      <td>Wolff</td>\n",
       "      <td>Wolff</td>\n",
       "      <td>wolff</td>\n",
       "      <td>NE</td>\n",
       "      <td>Nachname</td>\n",
       "      <td>2.989899</td>\n",
       "      <td>{'Nom Sg': ['Wolff'], 'Gen Sg': ['Wolffs']}</td>\n",
       "    </tr>\n",
       "    <tr>\n",
       "      <th>4540</th>\n",
       "      <td>Wolter_N</td>\n",
       "      <td>Wolter</td>\n",
       "      <td>Wolter</td>\n",
       "      <td>wolter</td>\n",
       "      <td>NE</td>\n",
       "      <td>Nachname</td>\n",
       "      <td>2.989899</td>\n",
       "      <td>{'Nom Sg': ['Wolter'], 'Gen Sg': ['Wolters']}</td>\n",
       "    </tr>\n",
       "    <tr>\n",
       "      <th>4541</th>\n",
       "      <td>Zander_2</td>\n",
       "      <td>Zander</td>\n",
       "      <td>Zander</td>\n",
       "      <td>zander</td>\n",
       "      <td>NE</td>\n",
       "      <td>Nachname</td>\n",
       "      <td>2.989899</td>\n",
       "      <td>{'Nom Sg': ['Zander'], 'Gen Sg': ['Zanders']}</td>\n",
       "    </tr>\n",
       "    <tr>\n",
       "      <th>4542</th>\n",
       "      <td>Zeller_N</td>\n",
       "      <td>Zeller</td>\n",
       "      <td>Zeller</td>\n",
       "      <td>zeller</td>\n",
       "      <td>NE</td>\n",
       "      <td>Nachname</td>\n",
       "      <td>2.989899</td>\n",
       "      <td>{'Nom Sg': ['Zeller'], 'Gen Sg': ['Zellers']}</td>\n",
       "    </tr>\n",
       "    <tr>\n",
       "      <th>4543</th>\n",
       "      <td>Ziegler</td>\n",
       "      <td>Ziegler</td>\n",
       "      <td>Ziegler</td>\n",
       "      <td>ziegler</td>\n",
       "      <td>NE</td>\n",
       "      <td>Nachname</td>\n",
       "      <td>2.989899</td>\n",
       "      <td>{'Nom Sg': ['Ziegler'], 'Gen Sg': ['Zieglers']}</td>\n",
       "    </tr>\n",
       "  </tbody>\n",
       "</table>\n",
       "<p>4544 rows × 8 columns</p>\n",
       "</div>"
      ],
      "text/plain": [
       "      section_id2      title      lemma lemma_lower tag            member  \\\n",
       "0           Hagen      Hagen      Hagen       hagen  NE  Vorname Nachname   \n",
       "1          Jordan     Jordan     Jordan      jordan  NE  Vorname Nachname   \n",
       "2        Menzel_V     Menzel     Menzel      menzel  NE  Vorname Nachname   \n",
       "3        Oswald_V     Oswald     Oswald      oswald  NE  Vorname Nachname   \n",
       "4     Reinhardt_V  Reinhardt  Reinhardt   reinhardt  NE  Vorname Nachname   \n",
       "...           ...        ...        ...         ...  ..               ...   \n",
       "4539        Wolff      Wolff      Wolff       wolff  NE          Nachname   \n",
       "4540     Wolter_N     Wolter     Wolter      wolter  NE          Nachname   \n",
       "4541     Zander_2     Zander     Zander      zander  NE          Nachname   \n",
       "4542     Zeller_N     Zeller     Zeller      zeller  NE          Nachname   \n",
       "4543      Ziegler    Ziegler    Ziegler     ziegler  NE          Nachname   \n",
       "\n",
       "         score  \\\n",
       "0     2.989899   \n",
       "1     2.989899   \n",
       "2     2.989899   \n",
       "3     2.989899   \n",
       "4     2.989899   \n",
       "...        ...   \n",
       "4539  2.989899   \n",
       "4540  2.989899   \n",
       "4541  2.989899   \n",
       "4542  2.989899   \n",
       "4543  2.989899   \n",
       "\n",
       "                                                                  flexion  \n",
       "0             {'Genus': ['m'], 'Nom Sg': ['Hagen'], 'Gen Sg': ['Hagens']}  \n",
       "1           {'Genus': ['m'], 'Nom Sg': ['Jordan'], 'Gen Sg': ['Jordans']}  \n",
       "2           {'Genus': ['m'], 'Nom Sg': ['Menzel'], 'Gen Sg': ['Menzels']}  \n",
       "3           {'Genus': ['m'], 'Nom Sg': ['Oswald'], 'Gen Sg': ['Oswalds']}  \n",
       "4     {'Genus': ['m'], 'Nom Sg': ['Reinhardt'], 'Gen Sg': ['Reinhardts']}  \n",
       "...                                                                   ...  \n",
       "4539                          {'Nom Sg': ['Wolff'], 'Gen Sg': ['Wolffs']}  \n",
       "4540                        {'Nom Sg': ['Wolter'], 'Gen Sg': ['Wolters']}  \n",
       "4541                        {'Nom Sg': ['Zander'], 'Gen Sg': ['Zanders']}  \n",
       "4542                        {'Nom Sg': ['Zeller'], 'Gen Sg': ['Zellers']}  \n",
       "4543                      {'Nom Sg': ['Ziegler'], 'Gen Sg': ['Zieglers']}  \n",
       "\n",
       "[4544 rows x 8 columns]"
      ]
     },
     "execution_count": 104,
     "metadata": {},
     "output_type": "execute_result"
    }
   ],
   "source": [
    "named_entities = pak.cols_to_dict(named_entities,col_dict='flexion',cols_add=['Genus','Nom Sg','Gen Sg',], use_defaultdict=True)\n",
    "named_entities"
   ]
  },
  {
   "cell_type": "code",
   "execution_count": 105,
   "metadata": {
    "execution": {
     "iopub.execute_input": "2023-02-20T16:21:29.247559Z",
     "iopub.status.busy": "2023-02-20T16:21:29.247328Z",
     "iopub.status.idle": "2023-02-20T16:21:29.620714Z",
     "shell.execute_reply": "2023-02-20T16:21:29.616799Z",
     "shell.execute_reply.started": "2023-02-20T16:21:29.247538Z"
    }
   },
   "outputs": [
    {
     "name": "stdout",
     "output_type": "stream",
     "text": [
      "5 rows out of 4544\n"
     ]
    },
    {
     "data": {
      "text/html": [
       "<div>\n",
       "<style scoped>\n",
       "    .dataframe tbody tr th:only-of-type {\n",
       "        vertical-align: middle;\n",
       "    }\n",
       "\n",
       "    .dataframe tbody tr th {\n",
       "        vertical-align: top;\n",
       "    }\n",
       "\n",
       "    .dataframe thead th {\n",
       "        text-align: right;\n",
       "    }\n",
       "</style>\n",
       "<table border=\"1\" class=\"dataframe\">\n",
       "  <thead>\n",
       "    <tr style=\"text-align: right;\">\n",
       "      <th></th>\n",
       "      <th>section_id2</th>\n",
       "      <th>title</th>\n",
       "      <th>lemma</th>\n",
       "      <th>lemma_lower</th>\n",
       "      <th>tag</th>\n",
       "      <th>member</th>\n",
       "      <th>score</th>\n",
       "      <th>flexion</th>\n",
       "    </tr>\n",
       "  </thead>\n",
       "  <tbody>\n",
       "    <tr>\n",
       "      <th>0</th>\n",
       "      <td>Hagen</td>\n",
       "      <td>Hagen</td>\n",
       "      <td>Hagen</td>\n",
       "      <td>hagen</td>\n",
       "      <td>NE</td>\n",
       "      <td>Vorname Nachname</td>\n",
       "      <td>2.989899</td>\n",
       "      <td>{'Genus': ['m'], 'Nom Sg': ['Hagen'], 'Gen Sg': ['Hagens']}</td>\n",
       "    </tr>\n",
       "    <tr>\n",
       "      <th>11</th>\n",
       "      <td>Anna_1</td>\n",
       "      <td>Anna</td>\n",
       "      <td>Anna</td>\n",
       "      <td>anna</td>\n",
       "      <td>NE</td>\n",
       "      <td>Vorname</td>\n",
       "      <td>4.000000</td>\n",
       "      <td>{'Genus': ['f'], 'Nom Sg': ['Anna'], 'Gen Sg': ['Annas']}</td>\n",
       "    </tr>\n",
       "    <tr>\n",
       "      <th>1002</th>\n",
       "      <td>Abelina_V</td>\n",
       "      <td>Abelina</td>\n",
       "      <td>Abelina</td>\n",
       "      <td>abelina</td>\n",
       "      <td>NE</td>\n",
       "      <td>Vorname</td>\n",
       "      <td>2.020000</td>\n",
       "      <td>{'Genus': ['f'], 'Nom Sg': ['Abelina'], 'Gen Sg': ['Abelinas']}</td>\n",
       "    </tr>\n",
       "    <tr>\n",
       "      <th>3867</th>\n",
       "      <td>Aachen</td>\n",
       "      <td>Aachen</td>\n",
       "      <td>Aachen</td>\n",
       "      <td>aachen</td>\n",
       "      <td>NE</td>\n",
       "      <td>Toponym Stadt</td>\n",
       "      <td>2.038498</td>\n",
       "      <td>{'Nom Sg': ['Aachen'], 'Gen Sg': ['Aachens']}</td>\n",
       "    </tr>\n",
       "    <tr>\n",
       "      <th>4543</th>\n",
       "      <td>Ziegler</td>\n",
       "      <td>Ziegler</td>\n",
       "      <td>Ziegler</td>\n",
       "      <td>ziegler</td>\n",
       "      <td>NE</td>\n",
       "      <td>Nachname</td>\n",
       "      <td>2.989899</td>\n",
       "      <td>{'Nom Sg': ['Ziegler'], 'Gen Sg': ['Zieglers']}</td>\n",
       "    </tr>\n",
       "  </tbody>\n",
       "</table>\n",
       "</div>"
      ],
      "text/plain": [
       "     section_id2    title    lemma lemma_lower tag            member  \\\n",
       "0          Hagen    Hagen    Hagen       hagen  NE  Vorname Nachname   \n",
       "11        Anna_1     Anna     Anna        anna  NE           Vorname   \n",
       "1002   Abelina_V  Abelina  Abelina     abelina  NE           Vorname   \n",
       "3867      Aachen   Aachen   Aachen      aachen  NE     Toponym Stadt   \n",
       "4543     Ziegler  Ziegler  Ziegler     ziegler  NE          Nachname   \n",
       "\n",
       "         score  \\\n",
       "0     2.989899   \n",
       "11    4.000000   \n",
       "1002  2.020000   \n",
       "3867  2.038498   \n",
       "4543  2.989899   \n",
       "\n",
       "                                                              flexion  \n",
       "0         {'Genus': ['m'], 'Nom Sg': ['Hagen'], 'Gen Sg': ['Hagens']}  \n",
       "11          {'Genus': ['f'], 'Nom Sg': ['Anna'], 'Gen Sg': ['Annas']}  \n",
       "1002  {'Genus': ['f'], 'Nom Sg': ['Abelina'], 'Gen Sg': ['Abelinas']}  \n",
       "3867                    {'Nom Sg': ['Aachen'], 'Gen Sg': ['Aachens']}  \n",
       "4543                  {'Nom Sg': ['Ziegler'], 'Gen Sg': ['Zieglers']}  "
      ]
     },
     "execution_count": 105,
     "metadata": {},
     "output_type": "execute_result"
    }
   ],
   "source": [
    "grid(named_entities, pak.sample)"
   ]
  },
  {
   "cell_type": "code",
   "execution_count": 108,
   "metadata": {
    "execution": {
     "iopub.execute_input": "2023-02-20T16:24:43.873953Z",
     "iopub.status.busy": "2023-02-20T16:24:43.873588Z",
     "iopub.status.idle": "2023-02-20T16:24:44.677776Z",
     "shell.execute_reply": "2023-02-20T16:24:44.677090Z",
     "shell.execute_reply.started": "2023-02-20T16:24:43.873923Z"
    },
    "tags": []
   },
   "outputs": [
    {
     "name": "stdout",
     "output_type": "stream",
     "text": [
      "4544 rows added, now a total of 841781\n"
     ]
    }
   ],
   "source": [
    "# anfügen\n",
    "wiktionary = pak.add_rows(wiktionary, named_entities, assert_subset=True)"
   ]
  },
  {
   "cell_type": "code",
   "execution_count": 110,
   "metadata": {
    "execution": {
     "iopub.execute_input": "2023-02-20T16:25:59.489339Z",
     "iopub.status.busy": "2023-02-20T16:25:59.489064Z",
     "iopub.status.idle": "2023-02-20T16:25:59.755037Z",
     "shell.execute_reply": "2023-02-20T16:25:59.754287Z",
     "shell.execute_reply.started": "2023-02-20T16:25:59.489318Z"
    },
    "tags": []
   },
   "outputs": [],
   "source": [
    "# flexion type korrekt?\n",
    "assert pak.ntypes(wiktionary.flexion) == 1"
   ]
  },
  {
   "cell_type": "code",
   "execution_count": 111,
   "metadata": {
    "execution": {
     "iopub.execute_input": "2023-02-20T16:25:59.765835Z",
     "iopub.status.busy": "2023-02-20T16:25:59.763253Z",
     "iopub.status.idle": "2023-02-20T16:26:00.187999Z",
     "shell.execute_reply": "2023-02-20T16:26:00.187292Z",
     "shell.execute_reply.started": "2023-02-20T16:25:59.765789Z"
    }
   },
   "outputs": [
    {
     "name": "stdout",
     "output_type": "stream",
     "text": [
      "3 rows\n"
     ]
    },
    {
     "data": {
      "text/html": [
       "<div>\n",
       "<style scoped>\n",
       "    .dataframe tbody tr th:only-of-type {\n",
       "        vertical-align: middle;\n",
       "    }\n",
       "\n",
       "    .dataframe tbody tr th {\n",
       "        vertical-align: top;\n",
       "    }\n",
       "\n",
       "    .dataframe thead th {\n",
       "        text-align: right;\n",
       "    }\n",
       "</style>\n",
       "<table border=\"1\" class=\"dataframe\">\n",
       "  <thead>\n",
       "    <tr style=\"text-align: right;\">\n",
       "      <th></th>\n",
       "      <th>page_id</th>\n",
       "      <th>page_part</th>\n",
       "      <th>section_id2</th>\n",
       "      <th>title</th>\n",
       "      <th>lemma</th>\n",
       "      <th>inflected</th>\n",
       "      <th>pos</th>\n",
       "      <th>tag</th>\n",
       "      <th>tag_0</th>\n",
       "      <th>tag_1</th>\n",
       "      <th>...</th>\n",
       "      <th>member</th>\n",
       "      <th>rhymes</th>\n",
       "      <th>score</th>\n",
       "      <th>flexion</th>\n",
       "      <th>ipa</th>\n",
       "      <th>syllables</th>\n",
       "      <th>lang</th>\n",
       "      <th>lang_code</th>\n",
       "      <th>error</th>\n",
       "      <th>lemma_lower</th>\n",
       "    </tr>\n",
       "  </thead>\n",
       "  <tbody>\n",
       "    <tr>\n",
       "      <th>121213</th>\n",
       "      <td>274097</td>\n",
       "      <td>0</td>\n",
       "      <td>gefriergetrocknet</td>\n",
       "      <td>gefriergetrocknet</td>\n",
       "      <td>gefriergetrocknet</td>\n",
       "      <td>False</td>\n",
       "      <td>{'Adjektiv': []}</td>\n",
       "      <td>ADJA</td>\n",
       "      <td>ADJA</td>\n",
       "      <td>tikopsqNsb</td>\n",
       "      <td>...</td>\n",
       "      <td>Adjektiv</td>\n",
       "      <td>NaN</td>\n",
       "      <td>3.902795</td>\n",
       "      <td>{'Positiv': ['gefriergetrocknet']}</td>\n",
       "      <td>[ɡəˈfʁiːɐ̯ɡəˌtʁɔknət]</td>\n",
       "      <td>[ge, frier, ge, trock, net]</td>\n",
       "      <td>Deutsch</td>\n",
       "      <td>de</td>\n",
       "      <td></td>\n",
       "      <td>gefriergetrocknet</td>\n",
       "    </tr>\n",
       "    <tr>\n",
       "      <th>783939</th>\n",
       "      <td>1055347</td>\n",
       "      <td>0</td>\n",
       "      <td>gefriertrocknen</td>\n",
       "      <td>gefriertrocknen</td>\n",
       "      <td>gefriertrocknen</td>\n",
       "      <td>False</td>\n",
       "      <td>{'Verb': []}</td>\n",
       "      <td>VVFIN</td>\n",
       "      <td>VVFIN</td>\n",
       "      <td>b4D6n8eQkB</td>\n",
       "      <td>...</td>\n",
       "      <td>Verb</td>\n",
       "      <td>NaN</td>\n",
       "      <td>14.590522</td>\n",
       "      <td>{'Präsens_ich': ['gefriertrockne'], 'Präsens_du': ['gefriertrocknest'], 'Präsens_er, sie, es': ['gefriertrocknet'], 'Präteritum_ich': ['gefriertrocknete'], 'Konjunktiv II_ich': ['gefriertrocknete'], 'Imperativ Singular': ['gefriertrockne'], 'Imperativ Plural': ['gefriertrocknet'], 'Partizip II': ['gefriergetrocknet'], 'Hilfsverb': ['haben']}</td>\n",
       "      <td>[ɡəˈfʁiːɐ̯ˌtʁɔknən]</td>\n",
       "      <td>[ge, frier, trock, nen]</td>\n",
       "      <td>Deutsch</td>\n",
       "      <td>de</td>\n",
       "      <td></td>\n",
       "      <td>gefriertrocknen</td>\n",
       "    </tr>\n",
       "    <tr>\n",
       "      <th>98068</th>\n",
       "      <td>242838</td>\n",
       "      <td>0</td>\n",
       "      <td>missraten</td>\n",
       "      <td>missraten</td>\n",
       "      <td>missraten</td>\n",
       "      <td>False</td>\n",
       "      <td>{'Verb': []}</td>\n",
       "      <td>VVFIN</td>\n",
       "      <td>VVFIN</td>\n",
       "      <td>kwbzHx0cjN</td>\n",
       "      <td>...</td>\n",
       "      <td>Verb</td>\n",
       "      <td>[aːtn̩]</td>\n",
       "      <td>4.420413</td>\n",
       "      <td>{'Präsens_ich': ['missrate'], 'Präsens_du': ['missrätst'], 'Präsens_er, sie, es': ['missrät'], 'Präteritum_ich': ['missriet'], 'Partizip II': ['missraten'], 'Konjunktiv II_ich': ['missriete'], 'Imperativ Singular': ['missrate'], 'Imperativ Plural': ['missratet'], 'Hilfsverb': ['sein']}</td>\n",
       "      <td>[mɪsˈʁaːtn̩]</td>\n",
       "      <td>[miss, ra, ten]</td>\n",
       "      <td>Deutsch</td>\n",
       "      <td>de</td>\n",
       "      <td></td>\n",
       "      <td>missraten</td>\n",
       "    </tr>\n",
       "  </tbody>\n",
       "</table>\n",
       "<p>3 rows × 22 columns</p>\n",
       "</div>"
      ],
      "text/plain": [
       "        page_id  page_part        section_id2              title  \\\n",
       "121213   274097          0  gefriergetrocknet  gefriergetrocknet   \n",
       "783939  1055347          0    gefriertrocknen    gefriertrocknen   \n",
       "98068    242838          0          missraten          missraten   \n",
       "\n",
       "                    lemma inflected               pos    tag  tag_0  \\\n",
       "121213  gefriergetrocknet     False  {'Adjektiv': []}   ADJA   ADJA   \n",
       "783939    gefriertrocknen     False      {'Verb': []}  VVFIN  VVFIN   \n",
       "98068           missraten     False      {'Verb': []}  VVFIN  VVFIN   \n",
       "\n",
       "             tag_1  ...    member   rhymes      score  \\\n",
       "121213  tikopsqNsb  ...  Adjektiv      NaN   3.902795   \n",
       "783939  b4D6n8eQkB  ...      Verb      NaN  14.590522   \n",
       "98068   kwbzHx0cjN  ...      Verb  [aːtn̩]   4.420413   \n",
       "\n",
       "                                                                                                                                                                                                                                                                                                                                                        flexion  \\\n",
       "121213                                                                                                                                                                                                                                                                                                                       {'Positiv': ['gefriergetrocknet']}   \n",
       "783939  {'Präsens_ich': ['gefriertrockne'], 'Präsens_du': ['gefriertrocknest'], 'Präsens_er, sie, es': ['gefriertrocknet'], 'Präteritum_ich': ['gefriertrocknete'], 'Konjunktiv II_ich': ['gefriertrocknete'], 'Imperativ Singular': ['gefriertrockne'], 'Imperativ Plural': ['gefriertrocknet'], 'Partizip II': ['gefriergetrocknet'], 'Hilfsverb': ['haben']}   \n",
       "98068                                                            {'Präsens_ich': ['missrate'], 'Präsens_du': ['missrätst'], 'Präsens_er, sie, es': ['missrät'], 'Präteritum_ich': ['missriet'], 'Partizip II': ['missraten'], 'Konjunktiv II_ich': ['missriete'], 'Imperativ Singular': ['missrate'], 'Imperativ Plural': ['missratet'], 'Hilfsverb': ['sein']}   \n",
       "\n",
       "                          ipa                    syllables     lang lang_code  \\\n",
       "121213  [ɡəˈfʁiːɐ̯ɡəˌtʁɔknət]  [ge, frier, ge, trock, net]  Deutsch        de   \n",
       "783939    [ɡəˈfʁiːɐ̯ˌtʁɔknən]      [ge, frier, trock, nen]  Deutsch        de   \n",
       "98068            [mɪsˈʁaːtn̩]              [miss, ra, ten]  Deutsch        de   \n",
       "\n",
       "       error        lemma_lower  \n",
       "121213        gefriergetrocknet  \n",
       "783939          gefriertrocknen  \n",
       "98068                 missraten  \n",
       "\n",
       "[3 rows x 22 columns]"
      ]
     },
     "execution_count": 111,
     "metadata": {},
     "output_type": "execute_result"
    }
   ],
   "source": [
    "# wiktionary anschauen\n",
    "mask = wiktionary.title.isin(suche_debug) \n",
    "r = wiktionary[mask].sort_values(['title','section_id2'])\n",
    "grid(r)"
   ]
  },
  {
   "cell_type": "markdown",
   "metadata": {},
   "source": [
    "## Zahlwörter\n",
    "* werden anschließend lexeme_manuell zugeschlagen"
   ]
  },
  {
   "cell_type": "code",
   "execution_count": 112,
   "metadata": {
    "execution": {
     "iopub.execute_input": "2023-02-20T16:26:00.189230Z",
     "iopub.status.busy": "2023-02-20T16:26:00.188962Z",
     "iopub.status.idle": "2023-02-20T16:26:00.244859Z",
     "shell.execute_reply": "2023-02-20T16:26:00.243209Z",
     "shell.execute_reply.started": "2023-02-20T16:26:00.189207Z"
    }
   },
   "outputs": [],
   "source": [
    "# Wandelt eine Zahl in Worte um\n",
    "def zahl_in_worten(n, s=True, z=False):\n",
    "    \n",
    "    w1 = \"null ein zwei drei vier fünf sechs sieben acht neun zehn elf zwölf dreizehn vierzehn fünfzehn sechzehn siebzehn achtzehn neunzehn\".split()\n",
    "    w2 = \"zwanzig dreißig vierzig fünfzig sechzig siebzig achtzig neunzig\".split()    \n",
    "    if n < 0: raise ValueError\n",
    "    if n == 0 and z: return \"\"\n",
    "    if n == 1 and s: return \"eins\"\n",
    "    if n < 20: return w1[n]\n",
    "    if n < 100:\n",
    "        w = w2[(n - 20) // 10]\n",
    "        if n % 10:\n",
    "            w = w1[n % 10] + \"und\" + w\n",
    "        return w\n",
    "    if n < 1000:\n",
    "        return w1[n // 100] + \"hundert\" + zahl_in_worten(n % 100, z=True)\n",
    "    if n < 1000000:\n",
    "        return zahl_in_worten(n // 1000, s=False) + \"tausend\" + zahl_in_worten(n % 1000, z=True)\n",
    "    raise ValueError"
   ]
  },
  {
   "cell_type": "code",
   "execution_count": 113,
   "metadata": {
    "execution": {
     "iopub.execute_input": "2023-02-20T16:26:00.250638Z",
     "iopub.status.busy": "2023-02-20T16:26:00.250334Z",
     "iopub.status.idle": "2023-02-20T16:26:00.300688Z",
     "shell.execute_reply": "2023-02-20T16:26:00.299870Z",
     "shell.execute_reply.started": "2023-02-20T16:26:00.250614Z"
    }
   },
   "outputs": [
    {
     "name": "stdout",
     "output_type": "stream",
     "text": [
      "dreitausendeinhundertsieben\n"
     ]
    }
   ],
   "source": [
    "print(zahl_in_worten(3107))"
   ]
  },
  {
   "cell_type": "code",
   "execution_count": 114,
   "metadata": {
    "execution": {
     "iopub.execute_input": "2023-02-20T16:26:00.302077Z",
     "iopub.status.busy": "2023-02-20T16:26:00.301799Z",
     "iopub.status.idle": "2023-02-20T16:26:00.355262Z",
     "shell.execute_reply": "2023-02-20T16:26:00.354458Z",
     "shell.execute_reply.started": "2023-02-20T16:26:00.302054Z"
    }
   },
   "outputs": [
    {
     "data": {
      "text/plain": [
       "[{'lex': ['null', '0'], 'lemma': 'null', 'def': '0'},\n",
       " {'lex': ['zehn', '10'], 'lemma': 'zehn', 'def': '10'}]"
      ]
     },
     "execution_count": 114,
     "metadata": {},
     "output_type": "execute_result"
    }
   ],
   "source": [
    "def zahlwörter_liste(range_): \n",
    "    return [ \n",
    "    {'lex' : [zahl_in_worten(z), str(z)], \n",
    "     'lemma' : zahl_in_worten(z),      \n",
    "     'def'   : str(z),\n",
    "    } for z in range_]\n",
    "\n",
    "zahlwörter_liste(range(0,20,10))"
   ]
  },
  {
   "cell_type": "code",
   "execution_count": 115,
   "metadata": {
    "execution": {
     "iopub.execute_input": "2023-02-20T16:26:00.357215Z",
     "iopub.status.busy": "2023-02-20T16:26:00.356881Z",
     "iopub.status.idle": "2023-02-20T16:26:00.406536Z",
     "shell.execute_reply": "2023-02-20T16:26:00.405795Z",
     "shell.execute_reply.started": "2023-02-20T16:26:00.357188Z"
    }
   },
   "outputs": [],
   "source": [
    "# 0..99 zahlwörter_a erzeugen\n",
    "range_ = range(0,100)\n",
    "zahlwörter_a = pd.DataFrame(zahlwörter_liste( range_ ))\n",
    "#zahlwörter_a"
   ]
  },
  {
   "cell_type": "code",
   "execution_count": 116,
   "metadata": {
    "execution": {
     "iopub.execute_input": "2023-02-20T16:26:00.411875Z",
     "iopub.status.busy": "2023-02-20T16:26:00.411586Z",
     "iopub.status.idle": "2023-02-20T16:26:00.455242Z",
     "shell.execute_reply": "2023-02-20T16:26:00.454526Z",
     "shell.execute_reply.started": "2023-02-20T16:26:00.411853Z"
    }
   },
   "outputs": [],
   "source": [
    "# Hunderter Zahlwörter erzeugen\n",
    "range_ = range(100,1000,100)\n",
    "zahlwörter_b = pd.DataFrame(zahlwörter_liste( range_ ))\n",
    "#zahlwörter_b"
   ]
  },
  {
   "cell_type": "code",
   "execution_count": 117,
   "metadata": {
    "execution": {
     "iopub.execute_input": "2023-02-20T16:26:00.456791Z",
     "iopub.status.busy": "2023-02-20T16:26:00.456093Z",
     "iopub.status.idle": "2023-02-20T16:26:00.503278Z",
     "shell.execute_reply": "2023-02-20T16:26:00.502640Z",
     "shell.execute_reply.started": "2023-02-20T16:26:00.456761Z"
    }
   },
   "outputs": [],
   "source": [
    "# Tausender Zahlwörter erzeugen\n",
    "range_ = range(1000,99001,1000)\n",
    "zahlwörter_c = pd.DataFrame(zahlwörter_liste( range_ ))\n",
    "#zahlwörter_c"
   ]
  },
  {
   "cell_type": "code",
   "execution_count": 118,
   "metadata": {
    "execution": {
     "iopub.execute_input": "2023-02-20T16:26:00.511510Z",
     "iopub.status.busy": "2023-02-20T16:26:00.508021Z",
     "iopub.status.idle": "2023-02-20T16:26:00.553528Z",
     "shell.execute_reply": "2023-02-20T16:26:00.552865Z",
     "shell.execute_reply.started": "2023-02-20T16:26:00.511472Z"
    }
   },
   "outputs": [],
   "source": [
    "# Zehntausender Zahlwörter erzeugen\n",
    "range_ = range(10000,99001,10000)\n",
    "zahlwörter_d = pd.DataFrame(zahlwörter_liste( range_ ))\n",
    "#zahlwörter_d"
   ]
  },
  {
   "cell_type": "code",
   "execution_count": 119,
   "metadata": {
    "execution": {
     "iopub.execute_input": "2023-02-20T16:26:00.555952Z",
     "iopub.status.busy": "2023-02-20T16:26:00.555690Z",
     "iopub.status.idle": "2023-02-20T16:26:00.603013Z",
     "shell.execute_reply": "2023-02-20T16:26:00.602357Z",
     "shell.execute_reply.started": "2023-02-20T16:26:00.555931Z"
    }
   },
   "outputs": [],
   "source": [
    "# Hunderttausender Zahlwörter erzeugen\n",
    "range_ = range(100000,990001,100000)\n",
    "zahlwörter_e = pd.DataFrame(zahlwörter_liste( range_ ))\n",
    "#zahlwörter_e"
   ]
  },
  {
   "cell_type": "code",
   "execution_count": 120,
   "metadata": {
    "execution": {
     "iopub.execute_input": "2023-02-20T16:26:00.610742Z",
     "iopub.status.busy": "2023-02-20T16:26:00.607732Z",
     "iopub.status.idle": "2023-02-20T16:26:00.653249Z",
     "shell.execute_reply": "2023-02-20T16:26:00.652517Z",
     "shell.execute_reply.started": "2023-02-20T16:26:00.610704Z"
    }
   },
   "outputs": [],
   "source": [
    "# concat\n",
    "zahlwörter_all = pd.concat([  zahlwörter_a, zahlwörter_b, zahlwörter_c, zahlwörter_d, zahlwörter_e,  ])"
   ]
  },
  {
   "cell_type": "code",
   "execution_count": 121,
   "metadata": {
    "execution": {
     "iopub.execute_input": "2023-02-20T16:26:00.654198Z",
     "iopub.status.busy": "2023-02-20T16:26:00.653948Z",
     "iopub.status.idle": "2023-02-20T16:26:00.693342Z",
     "shell.execute_reply": "2023-02-20T16:26:00.692150Z",
     "shell.execute_reply.started": "2023-02-20T16:26:00.654176Z"
    }
   },
   "outputs": [],
   "source": [
    "# explode lex\n",
    "zahlwörter_all = zahlwörter_all.explode('lex')"
   ]
  },
  {
   "cell_type": "code",
   "execution_count": 122,
   "metadata": {
    "execution": {
     "iopub.execute_input": "2023-02-20T16:26:00.694471Z",
     "iopub.status.busy": "2023-02-20T16:26:00.694197Z",
     "iopub.status.idle": "2023-02-20T16:26:00.731419Z",
     "shell.execute_reply": "2023-02-20T16:26:00.730677Z",
     "shell.execute_reply.started": "2023-02-20T16:26:00.694447Z"
    }
   },
   "outputs": [],
   "source": [
    "# Sonstige Spalten\n",
    "zahlwörter_all['tag']         = 'CARD'\n",
    "zahlwörter_all['tag_lex']     = 'lex' # ja\n",
    "zahlwörter_all['genus']       = 'f'\n",
    "zahlwörter_all['member']      = 'Zahlwort'\n",
    "zahlwörter_all['tab']         = 'Zahlwort' # Wird später wieder gelöscht, dient der Kompatibilität zu lexeme_manuell"
   ]
  },
  {
   "cell_type": "code",
   "execution_count": 123,
   "metadata": {
    "execution": {
     "iopub.execute_input": "2023-02-20T16:26:00.733010Z",
     "iopub.status.busy": "2023-02-20T16:26:00.732724Z",
     "iopub.status.idle": "2023-02-20T16:26:00.790688Z",
     "shell.execute_reply": "2023-02-20T16:26:00.788682Z",
     "shell.execute_reply.started": "2023-02-20T16:26:00.732987Z"
    }
   },
   "outputs": [
    {
     "name": "stdout",
     "output_type": "stream",
     "text": [
      "226 rows added, now a total of 678\n"
     ]
    }
   ],
   "source": [
    "# Substantive ergänzen\n",
    "mask = zahlwörter_all.lex == zahlwörter_all.lemma\n",
    "df = zahlwörter_all[mask].copy()\n",
    "df['lex']   = df.lex.str.capitalize()\n",
    "df['lemma'] = df.lex.str.capitalize()\n",
    "df['tag']   = 'NN'\n",
    "zahlwörter_all = pak.add_rows(zahlwörter_all, df)\n",
    "#df"
   ]
  },
  {
   "cell_type": "code",
   "execution_count": 124,
   "metadata": {
    "execution": {
     "iopub.execute_input": "2023-02-20T16:26:00.791734Z",
     "iopub.status.busy": "2023-02-20T16:26:00.791491Z",
     "iopub.status.idle": "2023-02-20T16:26:00.922761Z",
     "shell.execute_reply": "2023-02-20T16:26:00.922171Z",
     "shell.execute_reply.started": "2023-02-20T16:26:00.791711Z"
    }
   },
   "outputs": [
    {
     "data": {
      "text/html": [
       "<div>\n",
       "<style scoped>\n",
       "    .dataframe tbody tr th:only-of-type {\n",
       "        vertical-align: middle;\n",
       "    }\n",
       "\n",
       "    .dataframe tbody tr th {\n",
       "        vertical-align: top;\n",
       "    }\n",
       "\n",
       "    .dataframe thead th {\n",
       "        text-align: right;\n",
       "    }\n",
       "</style>\n",
       "<table border=\"1\" class=\"dataframe\">\n",
       "  <thead>\n",
       "    <tr style=\"text-align: right;\">\n",
       "      <th></th>\n",
       "      <th>lex</th>\n",
       "      <th>lemma</th>\n",
       "      <th>def</th>\n",
       "      <th>tag</th>\n",
       "      <th>tag_lex</th>\n",
       "      <th>genus</th>\n",
       "      <th>member</th>\n",
       "      <th>tab</th>\n",
       "    </tr>\n",
       "  </thead>\n",
       "  <tbody>\n",
       "    <tr>\n",
       "      <th>0</th>\n",
       "      <td>null</td>\n",
       "      <td>null</td>\n",
       "      <td>0</td>\n",
       "      <td>CARD</td>\n",
       "      <td>lex</td>\n",
       "      <td>f</td>\n",
       "      <td>Zahlwort</td>\n",
       "      <td>Zahlwort</td>\n",
       "    </tr>\n",
       "    <tr>\n",
       "      <th>237</th>\n",
       "      <td>10000</td>\n",
       "      <td>zehntausend</td>\n",
       "      <td>10000</td>\n",
       "      <td>CARD</td>\n",
       "      <td>lex</td>\n",
       "      <td>f</td>\n",
       "      <td>Zahlwort</td>\n",
       "      <td>Zahlwort</td>\n",
       "    </tr>\n",
       "    <tr>\n",
       "      <th>376</th>\n",
       "      <td>achtzigtausend</td>\n",
       "      <td>achtzigtausend</td>\n",
       "      <td>80000</td>\n",
       "      <td>CARD</td>\n",
       "      <td>lex</td>\n",
       "      <td>f</td>\n",
       "      <td>Zahlwort</td>\n",
       "      <td>Zahlwort</td>\n",
       "    </tr>\n",
       "    <tr>\n",
       "      <th>677</th>\n",
       "      <td>Neunhunderttausend</td>\n",
       "      <td>Neunhunderttausend</td>\n",
       "      <td>900000</td>\n",
       "      <td>NN</td>\n",
       "      <td>lex</td>\n",
       "      <td>f</td>\n",
       "      <td>Zahlwort</td>\n",
       "      <td>Zahlwort</td>\n",
       "    </tr>\n",
       "  </tbody>\n",
       "</table>\n",
       "</div>"
      ],
      "text/plain": [
       "                    lex               lemma     def   tag tag_lex genus  \\\n",
       "0                  null                null       0  CARD     lex     f   \n",
       "237               10000         zehntausend   10000  CARD     lex     f   \n",
       "376      achtzigtausend      achtzigtausend   80000  CARD     lex     f   \n",
       "677  Neunhunderttausend  Neunhunderttausend  900000    NN     lex     f   \n",
       "\n",
       "       member       tab  \n",
       "0    Zahlwort  Zahlwort  \n",
       "237  Zahlwort  Zahlwort  \n",
       "376  Zahlwort  Zahlwort  \n",
       "677  Zahlwort  Zahlwort  "
      ]
     },
     "execution_count": 124,
     "metadata": {},
     "output_type": "execute_result"
    }
   ],
   "source": [
    "# zahlwörter_all anschauen\n",
    "pak.sample(zahlwörter_all)"
   ]
  },
  {
   "cell_type": "markdown",
   "metadata": {},
   "source": [
    "## lexeme_manuell"
   ]
  },
  {
   "cell_type": "code",
   "execution_count": 125,
   "metadata": {
    "execution": {
     "iopub.execute_input": "2023-02-20T16:26:00.923870Z",
     "iopub.status.busy": "2023-02-20T16:26:00.923641Z",
     "iopub.status.idle": "2023-02-20T16:26:01.289868Z",
     "shell.execute_reply": "2023-02-20T16:26:01.289107Z",
     "shell.execute_reply.started": "2023-02-20T16:26:00.923848Z"
    }
   },
   "outputs": [
    {
     "name": "stdout",
     "output_type": "stream",
     "text": [
      "1794 rows loaded\n"
     ]
    }
   ],
   "source": [
    "# laden\n",
    "lexeme_manuell = pak.load_excel( lexeme_manuell_filename, tabcol='tab' )\n",
    "lexeme_manuell = pak.move_cols(  lexeme_manuell, 'tag_lex')"
   ]
  },
  {
   "cell_type": "code",
   "execution_count": 126,
   "metadata": {
    "execution": {
     "iopub.execute_input": "2023-02-20T16:26:01.290830Z",
     "iopub.status.busy": "2023-02-20T16:26:01.290574Z",
     "iopub.status.idle": "2023-02-20T16:26:01.361410Z",
     "shell.execute_reply": "2023-02-20T16:26:01.360786Z",
     "shell.execute_reply.started": "2023-02-20T16:26:01.290806Z"
    }
   },
   "outputs": [
    {
     "data": {
      "text/html": [
       "<div>\n",
       "<style scoped>\n",
       "    .dataframe tbody tr th:only-of-type {\n",
       "        vertical-align: middle;\n",
       "    }\n",
       "\n",
       "    .dataframe tbody tr th {\n",
       "        vertical-align: top;\n",
       "    }\n",
       "\n",
       "    .dataframe thead th {\n",
       "        text-align: right;\n",
       "    }\n",
       "</style>\n",
       "<table border=\"1\" class=\"dataframe\">\n",
       "  <thead>\n",
       "    <tr style=\"text-align: right;\">\n",
       "      <th></th>\n",
       "      <th>tag_lex</th>\n",
       "      <th>lex</th>\n",
       "      <th>lemma</th>\n",
       "      <th>tag</th>\n",
       "      <th>member</th>\n",
       "      <th>genus</th>\n",
       "      <th>tab</th>\n",
       "    </tr>\n",
       "  </thead>\n",
       "  <tbody>\n",
       "    <tr>\n",
       "      <th>154</th>\n",
       "      <td>Ptz2</td>\n",
       "      <td>gefriergetrocknet</td>\n",
       "      <td>gefriertrocknen</td>\n",
       "      <td>VVFIN</td>\n",
       "      <td>&lt;NA&gt;</td>\n",
       "      <td>&lt;NA&gt;</td>\n",
       "      <td>Partizipien</td>\n",
       "    </tr>\n",
       "    <tr>\n",
       "      <th>216</th>\n",
       "      <td>Ptz2</td>\n",
       "      <td>missraten</td>\n",
       "      <td>missraten</td>\n",
       "      <td>VVFIN</td>\n",
       "      <td>&lt;NA&gt;</td>\n",
       "      <td>&lt;NA&gt;</td>\n",
       "      <td>Partizipien</td>\n",
       "    </tr>\n",
       "    <tr>\n",
       "      <th>217</th>\n",
       "      <td>Ptz2</td>\n",
       "      <td>mißraten</td>\n",
       "      <td>missraten</td>\n",
       "      <td>VVFIN</td>\n",
       "      <td>&lt;NA&gt;</td>\n",
       "      <td>&lt;NA&gt;</td>\n",
       "      <td>Partizipien</td>\n",
       "    </tr>\n",
       "  </tbody>\n",
       "</table>\n",
       "</div>"
      ],
      "text/plain": [
       "    tag_lex                lex            lemma    tag member genus  \\\n",
       "154    Ptz2  gefriergetrocknet  gefriertrocknen  VVFIN   <NA>  <NA>   \n",
       "216    Ptz2          missraten        missraten  VVFIN   <NA>  <NA>   \n",
       "217    Ptz2           mißraten        missraten  VVFIN   <NA>  <NA>   \n",
       "\n",
       "             tab  \n",
       "154  Partizipien  \n",
       "216  Partizipien  \n",
       "217  Partizipien  "
      ]
     },
     "execution_count": 126,
     "metadata": {},
     "output_type": "execute_result"
    }
   ],
   "source": [
    "# suche_debug\n",
    "search_str(lexeme_manuell, suche_debug)"
   ]
  },
  {
   "cell_type": "code",
   "execution_count": 127,
   "metadata": {
    "execution": {
     "iopub.execute_input": "2023-02-20T16:26:01.367861Z",
     "iopub.status.busy": "2023-02-20T16:26:01.365046Z",
     "iopub.status.idle": "2023-02-20T16:26:01.408138Z",
     "shell.execute_reply": "2023-02-20T16:26:01.407454Z",
     "shell.execute_reply.started": "2023-02-20T16:26:01.367825Z"
    }
   },
   "outputs": [
    {
     "name": "stdout",
     "output_type": "stream",
     "text": [
      "check_mask:  0 rows\n"
     ]
    }
   ],
   "source": [
    "# Partizipien falsch definiert?\n",
    "mask1  = lexeme_manuell.tag_lex.str.startswith('Ptz')\n",
    "mask2A = lexeme_manuell.tab != 'Partizipien'\n",
    "mask2B = lexeme_manuell.tag != 'VVFIN'\n",
    "mask = mask1  &  (mask2A | mask2B)\n",
    "check_mask(lexeme_manuell,mask,0)\n",
    "#lexeme_manuell[mask]"
   ]
  },
  {
   "cell_type": "code",
   "execution_count": 128,
   "metadata": {
    "execution": {
     "iopub.execute_input": "2023-02-20T16:26:01.412653Z",
     "iopub.status.busy": "2023-02-20T16:26:01.412078Z",
     "iopub.status.idle": "2023-02-20T16:26:01.473846Z",
     "shell.execute_reply": "2023-02-20T16:26:01.473078Z",
     "shell.execute_reply.started": "2023-02-20T16:26:01.412626Z"
    }
   },
   "outputs": [
    {
     "name": "stdout",
     "output_type": "stream",
     "text": [
      "check_mask:  0 rows\n"
     ]
    }
   ],
   "source": [
    "# Abkürzungen falsch definiert?\n",
    "# Das Schlüsselwort 'Abkürzung' darf nirgends in lexeme_manuell vorkommen.\n",
    "mask1A = lexeme_manuell.member.str.contains('Abkürzung')\n",
    "mask1B = lexeme_manuell.member.str.contains('Abkürzung')\n",
    "mask = (mask1A | mask1B) \n",
    "check_mask(lexeme_manuell,mask,0)\n",
    "#lexeme_manuell[mask]"
   ]
  },
  {
   "cell_type": "code",
   "execution_count": 129,
   "metadata": {
    "execution": {
     "iopub.execute_input": "2023-02-20T16:26:01.478744Z",
     "iopub.status.busy": "2023-02-20T16:26:01.478369Z",
     "iopub.status.idle": "2023-02-20T16:26:01.656644Z",
     "shell.execute_reply": "2023-02-20T16:26:01.655759Z",
     "shell.execute_reply.started": "2023-02-20T16:26:01.478719Z"
    }
   },
   "outputs": [
    {
     "data": {
      "text/html": [
       "<div>\n",
       "<style scoped>\n",
       "    .dataframe tbody tr th:only-of-type {\n",
       "        vertical-align: middle;\n",
       "    }\n",
       "\n",
       "    .dataframe tbody tr th {\n",
       "        vertical-align: top;\n",
       "    }\n",
       "\n",
       "    .dataframe thead th {\n",
       "        text-align: right;\n",
       "    }\n",
       "</style>\n",
       "<table border=\"1\" class=\"dataframe\">\n",
       "  <thead>\n",
       "    <tr style=\"text-align: right;\">\n",
       "      <th></th>\n",
       "      <th>lex</th>\n",
       "      <th>lemma</th>\n",
       "      <th>def</th>\n",
       "      <th>tag</th>\n",
       "      <th>tag_lex</th>\n",
       "      <th>genus</th>\n",
       "      <th>member</th>\n",
       "      <th>tab</th>\n",
       "    </tr>\n",
       "  </thead>\n",
       "  <tbody>\n",
       "    <tr>\n",
       "      <th>0</th>\n",
       "      <td>null</td>\n",
       "      <td>null</td>\n",
       "      <td>0</td>\n",
       "      <td>CARD</td>\n",
       "      <td>lex</td>\n",
       "      <td>f</td>\n",
       "      <td>Zahlwort</td>\n",
       "      <td>Zahlwort</td>\n",
       "    </tr>\n",
       "    <tr>\n",
       "      <th>237</th>\n",
       "      <td>10000</td>\n",
       "      <td>zehntausend</td>\n",
       "      <td>10000</td>\n",
       "      <td>CARD</td>\n",
       "      <td>lex</td>\n",
       "      <td>f</td>\n",
       "      <td>Zahlwort</td>\n",
       "      <td>Zahlwort</td>\n",
       "    </tr>\n",
       "    <tr>\n",
       "      <th>376</th>\n",
       "      <td>achtzigtausend</td>\n",
       "      <td>achtzigtausend</td>\n",
       "      <td>80000</td>\n",
       "      <td>CARD</td>\n",
       "      <td>lex</td>\n",
       "      <td>f</td>\n",
       "      <td>Zahlwort</td>\n",
       "      <td>Zahlwort</td>\n",
       "    </tr>\n",
       "    <tr>\n",
       "      <th>677</th>\n",
       "      <td>Neunhunderttausend</td>\n",
       "      <td>Neunhunderttausend</td>\n",
       "      <td>900000</td>\n",
       "      <td>NN</td>\n",
       "      <td>lex</td>\n",
       "      <td>f</td>\n",
       "      <td>Zahlwort</td>\n",
       "      <td>Zahlwort</td>\n",
       "    </tr>\n",
       "  </tbody>\n",
       "</table>\n",
       "</div>"
      ],
      "text/plain": [
       "                    lex               lemma     def   tag tag_lex genus  \\\n",
       "0                  null                null       0  CARD     lex     f   \n",
       "237               10000         zehntausend   10000  CARD     lex     f   \n",
       "376      achtzigtausend      achtzigtausend   80000  CARD     lex     f   \n",
       "677  Neunhunderttausend  Neunhunderttausend  900000    NN     lex     f   \n",
       "\n",
       "       member       tab  \n",
       "0    Zahlwort  Zahlwort  \n",
       "237  Zahlwort  Zahlwort  \n",
       "376  Zahlwort  Zahlwort  \n",
       "677  Zahlwort  Zahlwort  "
      ]
     },
     "execution_count": 129,
     "metadata": {},
     "output_type": "execute_result"
    }
   ],
   "source": [
    "pak.sample(zahlwörter_all)"
   ]
  },
  {
   "cell_type": "code",
   "execution_count": 130,
   "metadata": {
    "execution": {
     "iopub.execute_input": "2023-02-20T16:26:01.661223Z",
     "iopub.status.busy": "2023-02-20T16:26:01.657702Z",
     "iopub.status.idle": "2023-02-20T16:26:01.715421Z",
     "shell.execute_reply": "2023-02-20T16:26:01.714832Z",
     "shell.execute_reply.started": "2023-02-20T16:26:01.661180Z"
    },
    "tags": []
   },
   "outputs": [
    {
     "name": "stdout",
     "output_type": "stream",
     "text": [
      "left_only:  {'def'}\n",
      "both:       {'tab', 'member', 'lex', 'lemma', 'tag_lex', 'tag', 'genus'}\n",
      "right_only: {}\n",
      "\n"
     ]
    }
   ],
   "source": [
    "s = zahlwörter_all.columns\n",
    "t = lexeme_manuell.columns\n",
    "bpy.minivenn(s,t, format='print')"
   ]
  },
  {
   "cell_type": "code",
   "execution_count": 131,
   "metadata": {
    "execution": {
     "iopub.execute_input": "2023-02-20T16:26:01.716774Z",
     "iopub.status.busy": "2023-02-20T16:26:01.716249Z",
     "iopub.status.idle": "2023-02-20T16:26:01.791503Z",
     "shell.execute_reply": "2023-02-20T16:26:01.789576Z",
     "shell.execute_reply.started": "2023-02-20T16:26:01.716748Z"
    }
   },
   "outputs": [],
   "source": [
    "# assert subset\n",
    "assert set(zahlwörter_all.columns) - set(['def']) <= set(lexeme_manuell.columns)"
   ]
  },
  {
   "cell_type": "code",
   "execution_count": 132,
   "metadata": {
    "execution": {
     "iopub.execute_input": "2023-02-20T16:26:01.804339Z",
     "iopub.status.busy": "2023-02-20T16:26:01.795501Z",
     "iopub.status.idle": "2023-02-20T16:26:01.876350Z",
     "shell.execute_reply": "2023-02-20T16:26:01.874910Z",
     "shell.execute_reply.started": "2023-02-20T16:26:01.804253Z"
    }
   },
   "outputs": [
    {
     "name": "stdout",
     "output_type": "stream",
     "text": [
      "678 rows added, now a total of 2472\n"
     ]
    }
   ],
   "source": [
    "# zahlwörter_all anfügen\n",
    "lexeme_manuell = pak.add_rows(lexeme_manuell, zahlwörter_all)"
   ]
  },
  {
   "cell_type": "code",
   "execution_count": 133,
   "metadata": {
    "execution": {
     "iopub.execute_input": "2023-02-20T16:26:01.879966Z",
     "iopub.status.busy": "2023-02-20T16:26:01.879577Z",
     "iopub.status.idle": "2023-02-20T16:26:01.966303Z",
     "shell.execute_reply": "2023-02-20T16:26:01.965619Z",
     "shell.execute_reply.started": "2023-02-20T16:26:01.879943Z"
    }
   },
   "outputs": [
    {
     "data": {
      "text/html": [
       "<div>\n",
       "<style scoped>\n",
       "    .dataframe tbody tr th:only-of-type {\n",
       "        vertical-align: middle;\n",
       "    }\n",
       "\n",
       "    .dataframe tbody tr th {\n",
       "        vertical-align: top;\n",
       "    }\n",
       "\n",
       "    .dataframe thead th {\n",
       "        text-align: right;\n",
       "    }\n",
       "</style>\n",
       "<table border=\"1\" class=\"dataframe\">\n",
       "  <thead>\n",
       "    <tr style=\"text-align: right;\">\n",
       "      <th></th>\n",
       "      <th>tab</th>\n",
       "      <th>tab_count</th>\n",
       "      <th>tab_percent</th>\n",
       "      <th>graph</th>\n",
       "    </tr>\n",
       "  </thead>\n",
       "  <tbody>\n",
       "    <tr>\n",
       "      <th>0</th>\n",
       "      <td>esszett</td>\n",
       "      <td>729</td>\n",
       "      <td>29.5</td>\n",
       "      <td>##############</td>\n",
       "    </tr>\n",
       "    <tr>\n",
       "      <th>1</th>\n",
       "      <td>Zahlwort</td>\n",
       "      <td>678</td>\n",
       "      <td>27.4</td>\n",
       "      <td>#############</td>\n",
       "    </tr>\n",
       "    <tr>\n",
       "      <th>2</th>\n",
       "      <td>Partizipien</td>\n",
       "      <td>413</td>\n",
       "      <td>16.7</td>\n",
       "      <td>########</td>\n",
       "    </tr>\n",
       "    <tr>\n",
       "      <th>3</th>\n",
       "      <td>Diverses</td>\n",
       "      <td>300</td>\n",
       "      <td>12.1</td>\n",
       "      <td>######</td>\n",
       "    </tr>\n",
       "    <tr>\n",
       "      <th>4</th>\n",
       "      <td>Abkuerzungen</td>\n",
       "      <td>156</td>\n",
       "      <td>6.3</td>\n",
       "      <td>###</td>\n",
       "    </tr>\n",
       "    <tr>\n",
       "      <th>5</th>\n",
       "      <td>FM</td>\n",
       "      <td>102</td>\n",
       "      <td>4.1</td>\n",
       "      <td>##</td>\n",
       "    </tr>\n",
       "    <tr>\n",
       "      <th>6</th>\n",
       "      <td>Symbole</td>\n",
       "      <td>48</td>\n",
       "      <td>1.9</td>\n",
       "      <td></td>\n",
       "    </tr>\n",
       "    <tr>\n",
       "      <th>7</th>\n",
       "      <td>Partikel</td>\n",
       "      <td>44</td>\n",
       "      <td>1.8</td>\n",
       "      <td></td>\n",
       "    </tr>\n",
       "    <tr>\n",
       "      <th>8</th>\n",
       "      <td>Namen</td>\n",
       "      <td>2</td>\n",
       "      <td>0.1</td>\n",
       "      <td></td>\n",
       "    </tr>\n",
       "  </tbody>\n",
       "</table>\n",
       "</div>"
      ],
      "text/plain": [
       "            tab  tab_count  tab_percent           graph\n",
       "0       esszett        729         29.5  ##############\n",
       "1      Zahlwort        678         27.4   #############\n",
       "2   Partizipien        413         16.7        ########\n",
       "3      Diverses        300         12.1          ######\n",
       "4  Abkuerzungen        156          6.3             ###\n",
       "5            FM        102          4.1              ##\n",
       "6       Symbole         48          1.9                \n",
       "7      Partikel         44          1.8                \n",
       "8         Namen          2          0.1                "
      ]
     },
     "execution_count": 133,
     "metadata": {},
     "output_type": "execute_result"
    }
   ],
   "source": [
    "# tab analysieren\n",
    "pak.analyse_freqs( lexeme_manuell, cols='tab')"
   ]
  },
  {
   "cell_type": "code",
   "execution_count": 134,
   "metadata": {
    "execution": {
     "iopub.execute_input": "2023-02-20T16:26:01.978591Z",
     "iopub.status.busy": "2023-02-20T16:26:01.973971Z",
     "iopub.status.idle": "2023-02-20T16:26:02.079095Z",
     "shell.execute_reply": "2023-02-20T16:26:02.078419Z",
     "shell.execute_reply.started": "2023-02-20T16:26:01.978492Z"
    }
   },
   "outputs": [
    {
     "name": "stdout",
     "output_type": "stream",
     "text": [
      "check_mask:  0 rows\n"
     ]
    }
   ],
   "source": [
    "# NaN\n",
    "\n",
    "# def\n",
    "lexeme_manuell['def'] = lexeme_manuell['def'].fillna('')\n",
    "\n",
    "# member\n",
    "mask = lexeme_manuell.member.isnull()   |   lexeme_manuell.member.isin(['nan'])\n",
    "lexeme_manuell.loc[mask,'member'] = ''\n",
    "lexeme_manuell.member += ' manuell'\n",
    "\n",
    "# lemma und lex\n",
    "mask = lexeme_manuell.lemma.isnull()   |   lexeme_manuell.lemma.isin(['nan',''])\n",
    "lexeme_manuell.loc[mask,'lemma'] = lexeme_manuell[mask].lex\n",
    "lexeme_manuell.loc[mask,'member'] += ' ergänzt'\n",
    "\n",
    "mask = lexeme_manuell.lex.isnull()   |   lexeme_manuell.lex.isin(['nan',''])\n",
    "lexeme_manuell.loc[mask,'lex'] = lexeme_manuell[mask].lemma\n",
    "lexeme_manuell.loc[mask,'member'] += ' ergänzt'\n",
    "\n",
    "# genus\n",
    "mask = lexeme_manuell.genus.isnull()   |   lexeme_manuell.genus.isin(['nan'])\n",
    "lexeme_manuell.loc[mask,'genus'] = ''\n",
    "\n",
    "# tag_lex\n",
    "mask = lexeme_manuell.tag_lex.isnull()   |   lexeme_manuell.tag_lex.isin(['nan'])\n",
    "lexeme_manuell.loc[mask,'tag_lex'] = ''\n",
    "\n",
    "mask = (lexeme_manuell.lex != lexeme_manuell.lemma)   &   (lexeme_manuell.tag_lex == '')\n",
    "lexeme_manuell.loc[mask,'tag_lex'] = 'lex'\n",
    "\n",
    "mask = (lexeme_manuell.lex == lexeme_manuell.lemma)   &   (  (lexeme_manuell.tag_lex == 'lex')  | (lexeme_manuell.tag_lex == '')  )\n",
    "lexeme_manuell.loc[mask,'tag_lex'] = 'lemma'\n",
    "\n",
    "# tag\n",
    "mask = lexeme_manuell.tag.isnull()   |   lexeme_manuell.tag.isin(['nan',''])\n",
    "check_mask( lexeme_manuell, mask, 0, 0)\n",
    "\n",
    "# Abschluss\n",
    "lexeme_manuell.member = lexeme_manuell.member.str.strip()\n",
    "lexeme_manuell = pak.rename_col(lexeme_manuell, 'genus','Genus')\n",
    "\n",
    "#lexeme_manuell = pak.move_cols(lexeme_manuell, ['Genus','abk'], -1)\n",
    "#lexeme_manuell['abk'] = ''"
   ]
  },
  {
   "cell_type": "code",
   "execution_count": 135,
   "metadata": {
    "execution": {
     "iopub.execute_input": "2023-02-20T16:26:02.085353Z",
     "iopub.status.busy": "2023-02-20T16:26:02.085031Z",
     "iopub.status.idle": "2023-02-20T16:26:02.164666Z",
     "shell.execute_reply": "2023-02-20T16:26:02.161922Z",
     "shell.execute_reply.started": "2023-02-20T16:26:02.085330Z"
    }
   },
   "outputs": [
    {
     "name": "stdout",
     "output_type": "stream",
     "text": [
      "Move 103 rows from 2472\n",
      "103 rows\n"
     ]
    },
    {
     "data": {
      "text/html": [
       "<div>\n",
       "<style scoped>\n",
       "    .dataframe tbody tr th:only-of-type {\n",
       "        vertical-align: middle;\n",
       "    }\n",
       "\n",
       "    .dataframe tbody tr th {\n",
       "        vertical-align: top;\n",
       "    }\n",
       "\n",
       "    .dataframe thead th {\n",
       "        text-align: right;\n",
       "    }\n",
       "</style>\n",
       "<table border=\"1\" class=\"dataframe\">\n",
       "  <thead>\n",
       "    <tr style=\"text-align: right;\">\n",
       "      <th></th>\n",
       "      <th>tag_lex</th>\n",
       "      <th>lex</th>\n",
       "      <th>lemma</th>\n",
       "      <th>tag</th>\n",
       "      <th>member</th>\n",
       "      <th>Genus</th>\n",
       "      <th>tab</th>\n",
       "      <th>def</th>\n",
       "      <th>msg</th>\n",
       "    </tr>\n",
       "  </thead>\n",
       "  <tbody>\n",
       "    <tr>\n",
       "      <th>889</th>\n",
       "      <td>lex</td>\n",
       "      <td>einflußreiche</td>\n",
       "      <td>einflussreich</td>\n",
       "      <td>ADJA</td>\n",
       "      <td>lexAlt manuell</td>\n",
       "      <td></td>\n",
       "      <td>esszett</td>\n",
       "      <td></td>\n",
       "      <td>7</td>\n",
       "    </tr>\n",
       "    <tr>\n",
       "      <th>902</th>\n",
       "      <td>lex</td>\n",
       "      <td>gewiße</td>\n",
       "      <td>gewiss</td>\n",
       "      <td>ADJA</td>\n",
       "      <td>lexAlt manuell</td>\n",
       "      <td></td>\n",
       "      <td>esszett</td>\n",
       "      <td></td>\n",
       "      <td>7</td>\n",
       "    </tr>\n",
       "    <tr>\n",
       "      <th>907</th>\n",
       "      <td>lex</td>\n",
       "      <td>gräßlicher</td>\n",
       "      <td>grässlich</td>\n",
       "      <td>ADJA</td>\n",
       "      <td>lexAlt manuell</td>\n",
       "      <td></td>\n",
       "      <td>esszett</td>\n",
       "      <td></td>\n",
       "      <td>7</td>\n",
       "    </tr>\n",
       "    <tr>\n",
       "      <th>909</th>\n",
       "      <td>lex</td>\n",
       "      <td>gräßliches</td>\n",
       "      <td>grässlich</td>\n",
       "      <td>ADJA</td>\n",
       "      <td>lexAlt manuell</td>\n",
       "      <td></td>\n",
       "      <td>esszett</td>\n",
       "      <td></td>\n",
       "      <td>7</td>\n",
       "    </tr>\n",
       "    <tr>\n",
       "      <th>929</th>\n",
       "      <td>lex</td>\n",
       "      <td>läßliche</td>\n",
       "      <td>lässlich</td>\n",
       "      <td>ADJA</td>\n",
       "      <td>lexAlt manuell</td>\n",
       "      <td></td>\n",
       "      <td>esszett</td>\n",
       "      <td></td>\n",
       "      <td>7</td>\n",
       "    </tr>\n",
       "    <tr>\n",
       "      <th>...</th>\n",
       "      <td>...</td>\n",
       "      <td>...</td>\n",
       "      <td>...</td>\n",
       "      <td>...</td>\n",
       "      <td>...</td>\n",
       "      <td>...</td>\n",
       "      <td>...</td>\n",
       "      <td>...</td>\n",
       "      <td>...</td>\n",
       "    </tr>\n",
       "    <tr>\n",
       "      <th>2458</th>\n",
       "      <td>lemma</td>\n",
       "      <td>Fünfzigtausend</td>\n",
       "      <td>Fünfzigtausend</td>\n",
       "      <td>NN</td>\n",
       "      <td>Zahlwort manuell</td>\n",
       "      <td>f</td>\n",
       "      <td>Zahlwort</td>\n",
       "      <td>50000</td>\n",
       "      <td>7</td>\n",
       "    </tr>\n",
       "    <tr>\n",
       "      <th>2459</th>\n",
       "      <td>lemma</td>\n",
       "      <td>Sechzigtausend</td>\n",
       "      <td>Sechzigtausend</td>\n",
       "      <td>NN</td>\n",
       "      <td>Zahlwort manuell</td>\n",
       "      <td>f</td>\n",
       "      <td>Zahlwort</td>\n",
       "      <td>60000</td>\n",
       "      <td>7</td>\n",
       "    </tr>\n",
       "    <tr>\n",
       "      <th>2460</th>\n",
       "      <td>lemma</td>\n",
       "      <td>Siebzigtausend</td>\n",
       "      <td>Siebzigtausend</td>\n",
       "      <td>NN</td>\n",
       "      <td>Zahlwort manuell</td>\n",
       "      <td>f</td>\n",
       "      <td>Zahlwort</td>\n",
       "      <td>70000</td>\n",
       "      <td>7</td>\n",
       "    </tr>\n",
       "    <tr>\n",
       "      <th>2461</th>\n",
       "      <td>lemma</td>\n",
       "      <td>Achtzigtausend</td>\n",
       "      <td>Achtzigtausend</td>\n",
       "      <td>NN</td>\n",
       "      <td>Zahlwort manuell</td>\n",
       "      <td>f</td>\n",
       "      <td>Zahlwort</td>\n",
       "      <td>80000</td>\n",
       "      <td>7</td>\n",
       "    </tr>\n",
       "    <tr>\n",
       "      <th>2462</th>\n",
       "      <td>lemma</td>\n",
       "      <td>Neunzigtausend</td>\n",
       "      <td>Neunzigtausend</td>\n",
       "      <td>NN</td>\n",
       "      <td>Zahlwort manuell</td>\n",
       "      <td>f</td>\n",
       "      <td>Zahlwort</td>\n",
       "      <td>90000</td>\n",
       "      <td>7</td>\n",
       "    </tr>\n",
       "  </tbody>\n",
       "</table>\n",
       "<p>103 rows × 9 columns</p>\n",
       "</div>"
      ],
      "text/plain": [
       "     tag_lex             lex           lemma   tag            member Genus  \\\n",
       "889      lex   einflußreiche   einflussreich  ADJA    lexAlt manuell         \n",
       "902      lex          gewiße          gewiss  ADJA    lexAlt manuell         \n",
       "907      lex      gräßlicher       grässlich  ADJA    lexAlt manuell         \n",
       "909      lex      gräßliches       grässlich  ADJA    lexAlt manuell         \n",
       "929      lex        läßliche        lässlich  ADJA    lexAlt manuell         \n",
       "...      ...             ...             ...   ...               ...   ...   \n",
       "2458   lemma  Fünfzigtausend  Fünfzigtausend    NN  Zahlwort manuell     f   \n",
       "2459   lemma  Sechzigtausend  Sechzigtausend    NN  Zahlwort manuell     f   \n",
       "2460   lemma  Siebzigtausend  Siebzigtausend    NN  Zahlwort manuell     f   \n",
       "2461   lemma  Achtzigtausend  Achtzigtausend    NN  Zahlwort manuell     f   \n",
       "2462   lemma  Neunzigtausend  Neunzigtausend    NN  Zahlwort manuell     f   \n",
       "\n",
       "           tab    def msg  \n",
       "889    esszett          7  \n",
       "902    esszett          7  \n",
       "907    esszett          7  \n",
       "909    esszett          7  \n",
       "929    esszett          7  \n",
       "...        ...    ...  ..  \n",
       "2458  Zahlwort  50000   7  \n",
       "2459  Zahlwort  60000   7  \n",
       "2460  Zahlwort  70000   7  \n",
       "2461  Zahlwort  80000   7  \n",
       "2462  Zahlwort  90000   7  \n",
       "\n",
       "[103 rows x 9 columns]"
      ]
     },
     "execution_count": 135,
     "metadata": {},
     "output_type": "execute_result"
    }
   ],
   "source": [
    "# Dups löschen\n",
    "mask = lexeme_manuell.duplicated()\n",
    "lexeme_manuell, df = pak.move_rows(lexeme_manuell,mask)\n",
    "grid(df)"
   ]
  },
  {
   "cell_type": "code",
   "execution_count": 136,
   "metadata": {
    "execution": {
     "iopub.execute_input": "2023-02-20T16:26:02.165712Z",
     "iopub.status.busy": "2023-02-20T16:26:02.165453Z",
     "iopub.status.idle": "2023-02-20T16:26:02.452563Z",
     "shell.execute_reply": "2023-02-20T16:26:02.450292Z",
     "shell.execute_reply.started": "2023-02-20T16:26:02.165689Z"
    }
   },
   "outputs": [
    {
     "data": {
      "text/html": [
       "<div>\n",
       "<style scoped>\n",
       "    .dataframe tbody tr th:only-of-type {\n",
       "        vertical-align: middle;\n",
       "    }\n",
       "\n",
       "    .dataframe tbody tr th {\n",
       "        vertical-align: top;\n",
       "    }\n",
       "\n",
       "    .dataframe thead th {\n",
       "        text-align: right;\n",
       "    }\n",
       "</style>\n",
       "<table border=\"1\" class=\"dataframe\">\n",
       "  <thead>\n",
       "    <tr style=\"text-align: right;\">\n",
       "      <th></th>\n",
       "      <th>tag_lex</th>\n",
       "      <th>lex</th>\n",
       "      <th>lemma</th>\n",
       "      <th>tag</th>\n",
       "      <th>member</th>\n",
       "      <th>Genus</th>\n",
       "      <th>tab</th>\n",
       "      <th>def</th>\n",
       "    </tr>\n",
       "  </thead>\n",
       "  <tbody>\n",
       "    <tr>\n",
       "      <th>0</th>\n",
       "      <td>Ptz2</td>\n",
       "      <td>abberufen</td>\n",
       "      <td>abberufen</td>\n",
       "      <td>VVFIN</td>\n",
       "      <td>manuell</td>\n",
       "      <td></td>\n",
       "      <td>Partizipien</td>\n",
       "      <td></td>\n",
       "    </tr>\n",
       "    <tr>\n",
       "      <th>481</th>\n",
       "      <td>lex</td>\n",
       "      <td>Kids</td>\n",
       "      <td>Kid</td>\n",
       "      <td>NN</td>\n",
       "      <td>manuell</td>\n",
       "      <td>n</td>\n",
       "      <td>Diverses</td>\n",
       "      <td></td>\n",
       "    </tr>\n",
       "    <tr>\n",
       "      <th>496</th>\n",
       "      <td>lex</td>\n",
       "      <td>musses</td>\n",
       "      <td>müssen</td>\n",
       "      <td>VMFIN</td>\n",
       "      <td>manuell</td>\n",
       "      <td></td>\n",
       "      <td>Diverses</td>\n",
       "      <td></td>\n",
       "    </tr>\n",
       "    <tr>\n",
       "      <th>553</th>\n",
       "      <td>ADV</td>\n",
       "      <td>zu viele</td>\n",
       "      <td>zu viel</td>\n",
       "      <td>ADV</td>\n",
       "      <td>manuell</td>\n",
       "      <td></td>\n",
       "      <td>Diverses</td>\n",
       "      <td></td>\n",
       "    </tr>\n",
       "    <tr>\n",
       "      <th>652</th>\n",
       "      <td>lemma</td>\n",
       "      <td>5G</td>\n",
       "      <td>5G</td>\n",
       "      <td>NN</td>\n",
       "      <td>manuell ergänzt</td>\n",
       "      <td></td>\n",
       "      <td>Diverses</td>\n",
       "      <td></td>\n",
       "    </tr>\n",
       "    <tr>\n",
       "      <th>713</th>\n",
       "      <td>lex</td>\n",
       "      <td>❀</td>\n",
       "      <td>_</td>\n",
       "      <td>$(</td>\n",
       "      <td>manuell</td>\n",
       "      <td></td>\n",
       "      <td>Symbole</td>\n",
       "      <td></td>\n",
       "    </tr>\n",
       "    <tr>\n",
       "      <th>715</th>\n",
       "      <td>syn</td>\n",
       "      <td>[</td>\n",
       "      <td>(</td>\n",
       "      <td>$(</td>\n",
       "      <td>manuell</td>\n",
       "      <td></td>\n",
       "      <td>Symbole</td>\n",
       "      <td></td>\n",
       "    </tr>\n",
       "    <tr>\n",
       "      <th>748</th>\n",
       "      <td>lemma</td>\n",
       "      <td>!</td>\n",
       "      <td>!</td>\n",
       "      <td>$.</td>\n",
       "      <td>manuell ergänzt</td>\n",
       "      <td></td>\n",
       "      <td>Symbole</td>\n",
       "      <td></td>\n",
       "    </tr>\n",
       "    <tr>\n",
       "      <th>751</th>\n",
       "      <td>lemma</td>\n",
       "      <td>…</td>\n",
       "      <td>…</td>\n",
       "      <td>$(</td>\n",
       "      <td>manuell ergänzt</td>\n",
       "      <td></td>\n",
       "      <td>Symbole</td>\n",
       "      <td></td>\n",
       "    </tr>\n",
       "    <tr>\n",
       "      <th>1014</th>\n",
       "      <td>lex</td>\n",
       "      <td>gewiß</td>\n",
       "      <td>gewiss</td>\n",
       "      <td>ADV</td>\n",
       "      <td>modal lexAlt manuell</td>\n",
       "      <td></td>\n",
       "      <td>esszett</td>\n",
       "      <td></td>\n",
       "    </tr>\n",
       "    <tr>\n",
       "      <th>1673</th>\n",
       "      <td>lex</td>\n",
       "      <td>Mo-Fr</td>\n",
       "      <td>Montag-Freitag</td>\n",
       "      <td>NN</td>\n",
       "      <td>Einheit Wortverbindung manuell</td>\n",
       "      <td></td>\n",
       "      <td>Abkuerzungen</td>\n",
       "      <td></td>\n",
       "    </tr>\n",
       "    <tr>\n",
       "      <th>2471</th>\n",
       "      <td>lemma</td>\n",
       "      <td>Neunhunderttausend</td>\n",
       "      <td>Neunhunderttausend</td>\n",
       "      <td>NN</td>\n",
       "      <td>Zahlwort manuell</td>\n",
       "      <td>f</td>\n",
       "      <td>Zahlwort</td>\n",
       "      <td>900000</td>\n",
       "    </tr>\n",
       "  </tbody>\n",
       "</table>\n",
       "</div>"
      ],
      "text/plain": [
       "     tag_lex                 lex               lemma    tag  \\\n",
       "0       Ptz2           abberufen           abberufen  VVFIN   \n",
       "481      lex                Kids                 Kid     NN   \n",
       "496      lex              musses              müssen  VMFIN   \n",
       "553      ADV            zu viele             zu viel    ADV   \n",
       "652    lemma                  5G                  5G     NN   \n",
       "713      lex                   ❀                   _     $(   \n",
       "715      syn                   [                   (     $(   \n",
       "748    lemma                   !                   !     $.   \n",
       "751    lemma                   …                   …     $(   \n",
       "1014     lex               gewiß              gewiss    ADV   \n",
       "1673     lex               Mo-Fr      Montag-Freitag     NN   \n",
       "2471   lemma  Neunhunderttausend  Neunhunderttausend     NN   \n",
       "\n",
       "                              member Genus           tab     def  \n",
       "0                            manuell         Partizipien          \n",
       "481                          manuell     n      Diverses          \n",
       "496                          manuell            Diverses          \n",
       "553                          manuell            Diverses          \n",
       "652                  manuell ergänzt            Diverses          \n",
       "713                          manuell             Symbole          \n",
       "715                          manuell             Symbole          \n",
       "748                  manuell ergänzt             Symbole          \n",
       "751                  manuell ergänzt             Symbole          \n",
       "1014            modal lexAlt manuell             esszett          \n",
       "1673  Einheit Wortverbindung manuell        Abkuerzungen          \n",
       "2471                Zahlwort manuell     f      Zahlwort  900000  "
      ]
     },
     "execution_count": 136,
     "metadata": {},
     "output_type": "execute_result"
    }
   ],
   "source": [
    "pak.sample(lexeme_manuell)"
   ]
  },
  {
   "cell_type": "code",
   "execution_count": 137,
   "metadata": {
    "execution": {
     "iopub.execute_input": "2023-02-20T16:26:02.457718Z",
     "iopub.status.busy": "2023-02-20T16:26:02.457454Z",
     "iopub.status.idle": "2023-02-20T16:26:02.529295Z",
     "shell.execute_reply": "2023-02-20T16:26:02.528534Z",
     "shell.execute_reply.started": "2023-02-20T16:26:02.457696Z"
    }
   },
   "outputs": [
    {
     "data": {
      "text/html": [
       "<div>\n",
       "<style scoped>\n",
       "    .dataframe tbody tr th:only-of-type {\n",
       "        vertical-align: middle;\n",
       "    }\n",
       "\n",
       "    .dataframe tbody tr th {\n",
       "        vertical-align: top;\n",
       "    }\n",
       "\n",
       "    .dataframe thead th {\n",
       "        text-align: right;\n",
       "    }\n",
       "</style>\n",
       "<table border=\"1\" class=\"dataframe\">\n",
       "  <thead>\n",
       "    <tr style=\"text-align: right;\">\n",
       "      <th></th>\n",
       "      <th>tag_lex</th>\n",
       "      <th>lex</th>\n",
       "      <th>lemma</th>\n",
       "      <th>tag</th>\n",
       "      <th>member</th>\n",
       "      <th>Genus</th>\n",
       "      <th>tab</th>\n",
       "      <th>def</th>\n",
       "    </tr>\n",
       "  </thead>\n",
       "  <tbody>\n",
       "    <tr>\n",
       "      <th>154</th>\n",
       "      <td>Ptz2</td>\n",
       "      <td>gefriergetrocknet</td>\n",
       "      <td>gefriertrocknen</td>\n",
       "      <td>VVFIN</td>\n",
       "      <td>manuell</td>\n",
       "      <td></td>\n",
       "      <td>Partizipien</td>\n",
       "      <td></td>\n",
       "    </tr>\n",
       "    <tr>\n",
       "      <th>216</th>\n",
       "      <td>Ptz2</td>\n",
       "      <td>missraten</td>\n",
       "      <td>missraten</td>\n",
       "      <td>VVFIN</td>\n",
       "      <td>manuell</td>\n",
       "      <td></td>\n",
       "      <td>Partizipien</td>\n",
       "      <td></td>\n",
       "    </tr>\n",
       "    <tr>\n",
       "      <th>217</th>\n",
       "      <td>Ptz2</td>\n",
       "      <td>mißraten</td>\n",
       "      <td>missraten</td>\n",
       "      <td>VVFIN</td>\n",
       "      <td>manuell</td>\n",
       "      <td></td>\n",
       "      <td>Partizipien</td>\n",
       "      <td></td>\n",
       "    </tr>\n",
       "  </tbody>\n",
       "</table>\n",
       "</div>"
      ],
      "text/plain": [
       "    tag_lex                lex            lemma    tag   member Genus  \\\n",
       "154    Ptz2  gefriergetrocknet  gefriertrocknen  VVFIN  manuell         \n",
       "216    Ptz2          missraten        missraten  VVFIN  manuell         \n",
       "217    Ptz2           mißraten        missraten  VVFIN  manuell         \n",
       "\n",
       "             tab def  \n",
       "154  Partizipien      \n",
       "216  Partizipien      \n",
       "217  Partizipien      "
      ]
     },
     "execution_count": 137,
     "metadata": {},
     "output_type": "execute_result"
    }
   ],
   "source": [
    "# suche_debug\n",
    "search_str(lexeme_manuell, suche_debug)"
   ]
  },
  {
   "cell_type": "code",
   "execution_count": 138,
   "metadata": {
    "execution": {
     "iopub.execute_input": "2023-02-20T16:26:02.530456Z",
     "iopub.status.busy": "2023-02-20T16:26:02.530217Z",
     "iopub.status.idle": "2023-02-20T16:26:02.598764Z",
     "shell.execute_reply": "2023-02-20T16:26:02.598003Z",
     "shell.execute_reply.started": "2023-02-20T16:26:02.530434Z"
    }
   },
   "outputs": [],
   "source": [
    "# strip\n",
    "for c in lexeme_manuell.columns:\n",
    "    lexeme_manuell[c] = lexeme_manuell[c].str.replace('  ',' ').str.strip()"
   ]
  },
  {
   "cell_type": "code",
   "execution_count": 139,
   "metadata": {
    "execution": {
     "iopub.execute_input": "2023-02-20T16:26:02.600166Z",
     "iopub.status.busy": "2023-02-20T16:26:02.599916Z",
     "iopub.status.idle": "2023-02-20T16:26:02.682919Z",
     "shell.execute_reply": "2023-02-20T16:26:02.682239Z",
     "shell.execute_reply.started": "2023-02-20T16:26:02.600144Z"
    }
   },
   "outputs": [
    {
     "data": {
      "text/html": [
       "<div>\n",
       "<style scoped>\n",
       "    .dataframe tbody tr th:only-of-type {\n",
       "        vertical-align: middle;\n",
       "    }\n",
       "\n",
       "    .dataframe tbody tr th {\n",
       "        vertical-align: top;\n",
       "    }\n",
       "\n",
       "    .dataframe thead th {\n",
       "        text-align: right;\n",
       "    }\n",
       "</style>\n",
       "<table border=\"1\" class=\"dataframe\">\n",
       "  <thead>\n",
       "    <tr style=\"text-align: right;\">\n",
       "      <th></th>\n",
       "      <th>member</th>\n",
       "      <th>member_count</th>\n",
       "      <th>member_percent</th>\n",
       "      <th>graph</th>\n",
       "    </tr>\n",
       "  </thead>\n",
       "  <tbody>\n",
       "    <tr>\n",
       "      <th>0</th>\n",
       "      <td>manuell</td>\n",
       "      <td>2369</td>\n",
       "      <td>57.1</td>\n",
       "      <td>############################</td>\n",
       "    </tr>\n",
       "    <tr>\n",
       "      <th>1</th>\n",
       "      <td>lexAlt</td>\n",
       "      <td>653</td>\n",
       "      <td>15.7</td>\n",
       "      <td>#######</td>\n",
       "    </tr>\n",
       "    <tr>\n",
       "      <th>2</th>\n",
       "      <td>Zahlwort</td>\n",
       "      <td>651</td>\n",
       "      <td>15.7</td>\n",
       "      <td>#######</td>\n",
       "    </tr>\n",
       "    <tr>\n",
       "      <th>3</th>\n",
       "      <td>ergänzt</td>\n",
       "      <td>345</td>\n",
       "      <td>8.3</td>\n",
       "      <td>####</td>\n",
       "    </tr>\n",
       "    <tr>\n",
       "      <th>4</th>\n",
       "      <td>Einheit</td>\n",
       "      <td>56</td>\n",
       "      <td>1.3</td>\n",
       "      <td></td>\n",
       "    </tr>\n",
       "    <tr>\n",
       "      <th>5</th>\n",
       "      <td>PRE</td>\n",
       "      <td>42</td>\n",
       "      <td>1.0</td>\n",
       "      <td></td>\n",
       "    </tr>\n",
       "    <tr>\n",
       "      <th>6</th>\n",
       "      <td>Wortverbindung</td>\n",
       "      <td>28</td>\n",
       "      <td>0.7</td>\n",
       "      <td></td>\n",
       "    </tr>\n",
       "    <tr>\n",
       "      <th>7</th>\n",
       "      <td>Ort</td>\n",
       "      <td>2</td>\n",
       "      <td>0.0</td>\n",
       "      <td></td>\n",
       "    </tr>\n",
       "    <tr>\n",
       "      <th>8</th>\n",
       "      <td>modal</td>\n",
       "      <td>1</td>\n",
       "      <td>0.0</td>\n",
       "      <td></td>\n",
       "    </tr>\n",
       "    <tr>\n",
       "      <th>9</th>\n",
       "      <td>Land</td>\n",
       "      <td>1</td>\n",
       "      <td>0.0</td>\n",
       "      <td></td>\n",
       "    </tr>\n",
       "    <tr>\n",
       "      <th>10</th>\n",
       "      <td>Vorname</td>\n",
       "      <td>1</td>\n",
       "      <td>0.0</td>\n",
       "      <td></td>\n",
       "    </tr>\n",
       "    <tr>\n",
       "      <th>11</th>\n",
       "      <td>Toponym</td>\n",
       "      <td>1</td>\n",
       "      <td>0.0</td>\n",
       "      <td></td>\n",
       "    </tr>\n",
       "  </tbody>\n",
       "</table>\n",
       "</div>"
      ],
      "text/plain": [
       "            member  member_count  member_percent                         graph\n",
       "0          manuell          2369            57.1  ############################\n",
       "1           lexAlt           653            15.7                       #######\n",
       "2         Zahlwort           651            15.7                       #######\n",
       "3          ergänzt           345             8.3                          ####\n",
       "4          Einheit            56             1.3                              \n",
       "5              PRE            42             1.0                              \n",
       "6   Wortverbindung            28             0.7                              \n",
       "7              Ort             2             0.0                              \n",
       "8            modal             1             0.0                              \n",
       "9             Land             1             0.0                              \n",
       "10         Vorname             1             0.0                              \n",
       "11         Toponym             1             0.0                              "
      ]
     },
     "execution_count": 139,
     "metadata": {},
     "output_type": "execute_result"
    }
   ],
   "source": [
    "# member analysieren\n",
    "pak.analyse_freqs( lexeme_manuell, cols='member', splits=' ')"
   ]
  },
  {
   "cell_type": "code",
   "execution_count": 140,
   "metadata": {
    "execution": {
     "iopub.execute_input": "2023-02-20T16:26:02.688539Z",
     "iopub.status.busy": "2023-02-20T16:26:02.688159Z",
     "iopub.status.idle": "2023-02-20T16:26:02.732246Z",
     "shell.execute_reply": "2023-02-20T16:26:02.731535Z",
     "shell.execute_reply.started": "2023-02-20T16:26:02.688515Z"
    }
   },
   "outputs": [],
   "source": [
    "# Derzeit nicht nötig: Ersetzungen im member\n",
    "r = {  'Partizip1'          :  'Ptz1',        \n",
    "       'Partizip_1'         :  'Ptz1',       \n",
    "       'Partizip2'          :  'Ptz2',        \n",
    "       'Partizip_2'         :  'Ptz2',   \n",
    "       'Abkürzungen'        :  'Abkürzung',      \n",
    "       'Abkürzung Abkürzung':  'Abkürzung',        \n",
    "    }\n",
    "lexeme_manuell['member'] = pak.replace_str(lexeme_manuell.member, r)\n",
    "#grid(lexeme_manuell)"
   ]
  },
  {
   "cell_type": "code",
   "execution_count": 141,
   "metadata": {
    "execution": {
     "iopub.execute_input": "2023-02-20T16:26:02.737845Z",
     "iopub.status.busy": "2023-02-20T16:26:02.737490Z",
     "iopub.status.idle": "2023-02-20T16:26:02.800842Z",
     "shell.execute_reply": "2023-02-20T16:26:02.799159Z",
     "shell.execute_reply.started": "2023-02-20T16:26:02.737819Z"
    }
   },
   "outputs": [],
   "source": [
    "# Partizipien: tag_lex setzen \n",
    "mask = lexeme_manuell.member.str.contains('Ptz1')\n",
    "lexeme_manuell.loc[mask,'tag_lex'] = 'Ptz1'\n",
    "\n",
    "mask = lexeme_manuell.member.str.contains('Ptz2')\n",
    "lexeme_manuell.loc[mask,'tag_lex'] = 'Ptz2'"
   ]
  },
  {
   "cell_type": "code",
   "execution_count": 142,
   "metadata": {
    "execution": {
     "iopub.execute_input": "2023-02-20T16:26:02.809782Z",
     "iopub.status.busy": "2023-02-20T16:26:02.809404Z",
     "iopub.status.idle": "2023-02-20T16:26:02.848180Z",
     "shell.execute_reply": "2023-02-20T16:26:02.846776Z",
     "shell.execute_reply.started": "2023-02-20T16:26:02.809757Z"
    }
   },
   "outputs": [],
   "source": [
    "# These: Auch member muss gesetzt werden, weil Partizipien ja doppelt eingetragen werden\n",
    "# NEIN: Das Partizip wandert ja nach flexion\n",
    "#mask1 =  lexeme_manuell.tag_lex.str.startswith('Ptz')\n",
    "#mask2 = ~lexeme_manuell.member.str.contains('Ptz1')\n",
    "#mask3 = ~lexeme_manuell.member.str.contains('Ptz2')\n",
    "#mask = mask1  &  mask2  &  mask3\n",
    "#lexeme_manuell.loc[mask,'member'] = lexeme_manuell[mask].member + ' ' + lexeme_manuell[mask].tag_lex\n",
    "#grid(lexeme_manuell[mask])"
   ]
  },
  {
   "cell_type": "code",
   "execution_count": 143,
   "metadata": {
    "execution": {
     "iopub.execute_input": "2023-02-20T16:26:02.853789Z",
     "iopub.status.busy": "2023-02-20T16:26:02.853332Z",
     "iopub.status.idle": "2023-02-20T16:26:02.901357Z",
     "shell.execute_reply": "2023-02-20T16:26:02.900554Z",
     "shell.execute_reply.started": "2023-02-20T16:26:02.853758Z"
    }
   },
   "outputs": [
    {
     "name": "stdout",
     "output_type": "stream",
     "text": [
      "check_mask:  653 rows\n"
     ]
    }
   ],
   "source": [
    "# Tab Esszett: tag_lex setzen\n",
    "mask1 = lexeme_manuell.tab == 'esszett'\n",
    "mask2A = lexeme_manuell.tag_lex == ''\n",
    "mask2B = lexeme_manuell.tag_lex == 'lex'\n",
    "mask = mask1  &  (mask2A | mask2B)\n",
    "check_mask(lexeme_manuell,mask,653)\n",
    "lexeme_manuell.loc[mask,'tag_lex'] = 'lexAlt'"
   ]
  },
  {
   "cell_type": "code",
   "execution_count": 144,
   "metadata": {
    "execution": {
     "iopub.execute_input": "2023-02-20T16:26:02.902588Z",
     "iopub.status.busy": "2023-02-20T16:26:02.902310Z",
     "iopub.status.idle": "2023-02-20T16:26:02.949283Z",
     "shell.execute_reply": "2023-02-20T16:26:02.948611Z",
     "shell.execute_reply.started": "2023-02-20T16:26:02.902566Z"
    }
   },
   "outputs": [
    {
     "name": "stdout",
     "output_type": "stream",
     "text": [
      "check_mask:  0 rows\n"
     ]
    }
   ],
   "source": [
    "# Tab Esszett: member setzen\n",
    "mask1 =  lexeme_manuell.tab == 'esszett'\n",
    "mask2 = ~lexeme_manuell.member.str.contains('lexAlt')\n",
    "mask = mask1  &  mask2\n",
    "check_mask(lexeme_manuell,mask)\n",
    "lexeme_manuell.loc[mask,'member'] += 'lexAlt'"
   ]
  },
  {
   "cell_type": "code",
   "execution_count": 145,
   "metadata": {
    "execution": {
     "iopub.execute_input": "2023-02-20T16:26:02.955492Z",
     "iopub.status.busy": "2023-02-20T16:26:02.953854Z",
     "iopub.status.idle": "2023-02-20T16:26:02.999816Z",
     "shell.execute_reply": "2023-02-20T16:26:02.999058Z",
     "shell.execute_reply.started": "2023-02-20T16:26:02.955453Z"
    }
   },
   "outputs": [],
   "source": [
    "# Tab Abkuerzungen: tag_lex setzen\n",
    "mask = (lexeme_manuell.tab == 'Abkuerzungen')\n",
    "lexeme_manuell.loc[mask,'tag_lex'] = 'abk'\n",
    "\n",
    "mask = lexeme_manuell.member.str.contains('Abkürzung')\n",
    "lexeme_manuell.loc[mask,'tag_lex'] = 'abk'"
   ]
  },
  {
   "cell_type": "code",
   "execution_count": 146,
   "metadata": {
    "execution": {
     "iopub.execute_input": "2023-02-20T16:26:03.001249Z",
     "iopub.status.busy": "2023-02-20T16:26:03.000938Z",
     "iopub.status.idle": "2023-02-20T16:26:03.204854Z",
     "shell.execute_reply": "2023-02-20T16:26:03.204207Z",
     "shell.execute_reply.started": "2023-02-20T16:26:03.001221Z"
    }
   },
   "outputs": [
    {
     "data": {
      "text/html": [
       "<div>\n",
       "<style scoped>\n",
       "    .dataframe tbody tr th:only-of-type {\n",
       "        vertical-align: middle;\n",
       "    }\n",
       "\n",
       "    .dataframe tbody tr th {\n",
       "        vertical-align: top;\n",
       "    }\n",
       "\n",
       "    .dataframe thead th {\n",
       "        text-align: right;\n",
       "    }\n",
       "</style>\n",
       "<table border=\"1\" class=\"dataframe\">\n",
       "  <thead>\n",
       "    <tr style=\"text-align: right;\">\n",
       "      <th></th>\n",
       "      <th>tag_lex</th>\n",
       "      <th>lex</th>\n",
       "      <th>lemma</th>\n",
       "      <th>tag</th>\n",
       "      <th>member</th>\n",
       "      <th>Genus</th>\n",
       "      <th>tab</th>\n",
       "      <th>def</th>\n",
       "    </tr>\n",
       "  </thead>\n",
       "  <tbody>\n",
       "    <tr>\n",
       "      <th>0</th>\n",
       "      <td>Ptz2</td>\n",
       "      <td>abberufen</td>\n",
       "      <td>abberufen</td>\n",
       "      <td>VVFIN</td>\n",
       "      <td>manuell</td>\n",
       "      <td></td>\n",
       "      <td>Partizipien</td>\n",
       "      <td></td>\n",
       "    </tr>\n",
       "    <tr>\n",
       "      <th>481</th>\n",
       "      <td>lex</td>\n",
       "      <td>Kids</td>\n",
       "      <td>Kid</td>\n",
       "      <td>NN</td>\n",
       "      <td>manuell</td>\n",
       "      <td>n</td>\n",
       "      <td>Diverses</td>\n",
       "      <td></td>\n",
       "    </tr>\n",
       "    <tr>\n",
       "      <th>496</th>\n",
       "      <td>lex</td>\n",
       "      <td>musses</td>\n",
       "      <td>müssen</td>\n",
       "      <td>VMFIN</td>\n",
       "      <td>manuell</td>\n",
       "      <td></td>\n",
       "      <td>Diverses</td>\n",
       "      <td></td>\n",
       "    </tr>\n",
       "    <tr>\n",
       "      <th>553</th>\n",
       "      <td>ADV</td>\n",
       "      <td>zu viele</td>\n",
       "      <td>zu viel</td>\n",
       "      <td>ADV</td>\n",
       "      <td>manuell</td>\n",
       "      <td></td>\n",
       "      <td>Diverses</td>\n",
       "      <td></td>\n",
       "    </tr>\n",
       "    <tr>\n",
       "      <th>652</th>\n",
       "      <td>lemma</td>\n",
       "      <td>5G</td>\n",
       "      <td>5G</td>\n",
       "      <td>NN</td>\n",
       "      <td>manuell ergänzt</td>\n",
       "      <td></td>\n",
       "      <td>Diverses</td>\n",
       "      <td></td>\n",
       "    </tr>\n",
       "    <tr>\n",
       "      <th>713</th>\n",
       "      <td>lex</td>\n",
       "      <td>❀</td>\n",
       "      <td>_</td>\n",
       "      <td>$(</td>\n",
       "      <td>manuell</td>\n",
       "      <td></td>\n",
       "      <td>Symbole</td>\n",
       "      <td></td>\n",
       "    </tr>\n",
       "    <tr>\n",
       "      <th>715</th>\n",
       "      <td>syn</td>\n",
       "      <td>[</td>\n",
       "      <td>(</td>\n",
       "      <td>$(</td>\n",
       "      <td>manuell</td>\n",
       "      <td></td>\n",
       "      <td>Symbole</td>\n",
       "      <td></td>\n",
       "    </tr>\n",
       "    <tr>\n",
       "      <th>748</th>\n",
       "      <td>lemma</td>\n",
       "      <td>!</td>\n",
       "      <td>!</td>\n",
       "      <td>$.</td>\n",
       "      <td>manuell ergänzt</td>\n",
       "      <td></td>\n",
       "      <td>Symbole</td>\n",
       "      <td></td>\n",
       "    </tr>\n",
       "    <tr>\n",
       "      <th>751</th>\n",
       "      <td>lemma</td>\n",
       "      <td>…</td>\n",
       "      <td>…</td>\n",
       "      <td>$(</td>\n",
       "      <td>manuell ergänzt</td>\n",
       "      <td></td>\n",
       "      <td>Symbole</td>\n",
       "      <td></td>\n",
       "    </tr>\n",
       "    <tr>\n",
       "      <th>1014</th>\n",
       "      <td>lexAlt</td>\n",
       "      <td>gewiß</td>\n",
       "      <td>gewiss</td>\n",
       "      <td>ADV</td>\n",
       "      <td>modal lexAlt manuell</td>\n",
       "      <td></td>\n",
       "      <td>esszett</td>\n",
       "      <td></td>\n",
       "    </tr>\n",
       "    <tr>\n",
       "      <th>1673</th>\n",
       "      <td>abk</td>\n",
       "      <td>Mo-Fr</td>\n",
       "      <td>Montag-Freitag</td>\n",
       "      <td>NN</td>\n",
       "      <td>Einheit Wortverbindung manuell</td>\n",
       "      <td></td>\n",
       "      <td>Abkuerzungen</td>\n",
       "      <td></td>\n",
       "    </tr>\n",
       "    <tr>\n",
       "      <th>2471</th>\n",
       "      <td>lemma</td>\n",
       "      <td>Neunhunderttausend</td>\n",
       "      <td>Neunhunderttausend</td>\n",
       "      <td>NN</td>\n",
       "      <td>Zahlwort manuell</td>\n",
       "      <td>f</td>\n",
       "      <td>Zahlwort</td>\n",
       "      <td>900000</td>\n",
       "    </tr>\n",
       "  </tbody>\n",
       "</table>\n",
       "</div>"
      ],
      "text/plain": [
       "     tag_lex                 lex               lemma    tag  \\\n",
       "0       Ptz2           abberufen           abberufen  VVFIN   \n",
       "481      lex                Kids                 Kid     NN   \n",
       "496      lex              musses              müssen  VMFIN   \n",
       "553      ADV            zu viele             zu viel    ADV   \n",
       "652    lemma                  5G                  5G     NN   \n",
       "713      lex                   ❀                   _     $(   \n",
       "715      syn                   [                   (     $(   \n",
       "748    lemma                   !                   !     $.   \n",
       "751    lemma                   …                   …     $(   \n",
       "1014  lexAlt               gewiß              gewiss    ADV   \n",
       "1673     abk               Mo-Fr      Montag-Freitag     NN   \n",
       "2471   lemma  Neunhunderttausend  Neunhunderttausend     NN   \n",
       "\n",
       "                              member Genus           tab     def  \n",
       "0                            manuell         Partizipien          \n",
       "481                          manuell     n      Diverses          \n",
       "496                          manuell            Diverses          \n",
       "553                          manuell            Diverses          \n",
       "652                  manuell ergänzt            Diverses          \n",
       "713                          manuell             Symbole          \n",
       "715                          manuell             Symbole          \n",
       "748                  manuell ergänzt             Symbole          \n",
       "751                  manuell ergänzt             Symbole          \n",
       "1014            modal lexAlt manuell             esszett          \n",
       "1673  Einheit Wortverbindung manuell        Abkuerzungen          \n",
       "2471                Zahlwort manuell     f      Zahlwort  900000  "
      ]
     },
     "execution_count": 146,
     "metadata": {},
     "output_type": "execute_result"
    }
   ],
   "source": [
    "# anschauen\n",
    "pak.sample(lexeme_manuell)"
   ]
  },
  {
   "cell_type": "code",
   "execution_count": 147,
   "metadata": {
    "execution": {
     "iopub.execute_input": "2023-02-20T16:26:03.209346Z",
     "iopub.status.busy": "2023-02-20T16:26:03.208961Z",
     "iopub.status.idle": "2023-02-20T16:26:03.289941Z",
     "shell.execute_reply": "2023-02-20T16:26:03.289177Z",
     "shell.execute_reply.started": "2023-02-20T16:26:03.209320Z"
    }
   },
   "outputs": [
    {
     "data": {
      "text/html": [
       "<div>\n",
       "<style scoped>\n",
       "    .dataframe tbody tr th:only-of-type {\n",
       "        vertical-align: middle;\n",
       "    }\n",
       "\n",
       "    .dataframe tbody tr th {\n",
       "        vertical-align: top;\n",
       "    }\n",
       "\n",
       "    .dataframe thead th {\n",
       "        text-align: right;\n",
       "    }\n",
       "</style>\n",
       "<table border=\"1\" class=\"dataframe\">\n",
       "  <thead>\n",
       "    <tr style=\"text-align: right;\">\n",
       "      <th></th>\n",
       "      <th>tag_lex</th>\n",
       "      <th>lex</th>\n",
       "      <th>lemma</th>\n",
       "      <th>tag</th>\n",
       "      <th>member</th>\n",
       "      <th>Genus</th>\n",
       "      <th>tab</th>\n",
       "      <th>def</th>\n",
       "    </tr>\n",
       "  </thead>\n",
       "  <tbody>\n",
       "    <tr>\n",
       "      <th>154</th>\n",
       "      <td>Ptz2</td>\n",
       "      <td>gefriergetrocknet</td>\n",
       "      <td>gefriertrocknen</td>\n",
       "      <td>VVFIN</td>\n",
       "      <td>manuell</td>\n",
       "      <td></td>\n",
       "      <td>Partizipien</td>\n",
       "      <td></td>\n",
       "    </tr>\n",
       "    <tr>\n",
       "      <th>216</th>\n",
       "      <td>Ptz2</td>\n",
       "      <td>missraten</td>\n",
       "      <td>missraten</td>\n",
       "      <td>VVFIN</td>\n",
       "      <td>manuell</td>\n",
       "      <td></td>\n",
       "      <td>Partizipien</td>\n",
       "      <td></td>\n",
       "    </tr>\n",
       "    <tr>\n",
       "      <th>217</th>\n",
       "      <td>Ptz2</td>\n",
       "      <td>mißraten</td>\n",
       "      <td>missraten</td>\n",
       "      <td>VVFIN</td>\n",
       "      <td>manuell</td>\n",
       "      <td></td>\n",
       "      <td>Partizipien</td>\n",
       "      <td></td>\n",
       "    </tr>\n",
       "  </tbody>\n",
       "</table>\n",
       "</div>"
      ],
      "text/plain": [
       "    tag_lex                lex            lemma    tag   member Genus  \\\n",
       "154    Ptz2  gefriergetrocknet  gefriertrocknen  VVFIN  manuell         \n",
       "216    Ptz2          missraten        missraten  VVFIN  manuell         \n",
       "217    Ptz2           mißraten        missraten  VVFIN  manuell         \n",
       "\n",
       "             tab def  \n",
       "154  Partizipien      \n",
       "216  Partizipien      \n",
       "217  Partizipien      "
      ]
     },
     "execution_count": 147,
     "metadata": {},
     "output_type": "execute_result"
    }
   ],
   "source": [
    "# suche_debug\n",
    "search_str(lexeme_manuell, suche_debug)"
   ]
  },
  {
   "cell_type": "code",
   "execution_count": 148,
   "metadata": {
    "execution": {
     "iopub.execute_input": "2023-02-20T16:26:03.295136Z",
     "iopub.status.busy": "2023-02-20T16:26:03.294748Z",
     "iopub.status.idle": "2023-02-20T16:26:03.407169Z",
     "shell.execute_reply": "2023-02-20T16:26:03.406534Z",
     "shell.execute_reply.started": "2023-02-20T16:26:03.295113Z"
    }
   },
   "outputs": [
    {
     "name": "stdout",
     "output_type": "stream",
     "text": [
      "11 rows\n"
     ]
    },
    {
     "data": {
      "text/html": [
       "<div>\n",
       "<style scoped>\n",
       "    .dataframe tbody tr th:only-of-type {\n",
       "        vertical-align: middle;\n",
       "    }\n",
       "\n",
       "    .dataframe tbody tr th {\n",
       "        vertical-align: top;\n",
       "    }\n",
       "\n",
       "    .dataframe thead th {\n",
       "        text-align: right;\n",
       "    }\n",
       "</style>\n",
       "<table border=\"1\" class=\"dataframe\">\n",
       "  <thead>\n",
       "    <tr style=\"text-align: right;\">\n",
       "      <th></th>\n",
       "      <th>tag_lex</th>\n",
       "      <th>tag_lex_count</th>\n",
       "      <th>tag_lex_percent</th>\n",
       "      <th>lex</th>\n",
       "      <th>lex_count</th>\n",
       "      <th>member</th>\n",
       "      <th>member_count</th>\n",
       "    </tr>\n",
       "  </thead>\n",
       "  <tbody>\n",
       "    <tr>\n",
       "      <th>0</th>\n",
       "      <td>lemma</td>\n",
       "      <td>762</td>\n",
       "      <td>32.2</td>\n",
       "      <td>[dies, grade, die, einander, hiervon, sein, was, wem, wen, wessen, wieviel, woraus, worum, wovor, 24/7, 2D, 3D, 4D, breitbeinig, CO2-arm]</td>\n",
       "      <td>[2, 2, 1, 1, 1, 1, 1, 1, 1, 1, 1, 1, 1, 1, 1, 1, 1, 1, 1, 1]</td>\n",
       "      <td>[manuell, Zahlwort, ergänzt, PRE, Einheit, Vorname, Toponym]</td>\n",
       "      <td>[762, 434, 324, 30, 11, 1, 1]</td>\n",
       "    </tr>\n",
       "    <tr>\n",
       "      <th>1</th>\n",
       "      <td>lexAlt</td>\n",
       "      <td>653</td>\n",
       "      <td>27.6</td>\n",
       "      <td>[muß, müßen, mußt, müßt, mußte, müßte, mußten, müßten, mußtest, müßtest, mußtet, müßtet, aufschlußreiche, aufschlußreichen, bewußt, bewußte, bewußtem, bewußten, bewußter, bewußtes]</td>\n",
       "      <td>[1, 1, 1, 1, 1, 1, 1, 1, 1, 1, 1, 1, 1, 1, 1, 1, 1, 1, 1, 1]</td>\n",
       "      <td>[lexAlt, manuell, Ort, modal, Land]</td>\n",
       "      <td>[653, 653, 2, 1, 1]</td>\n",
       "    </tr>\n",
       "    <tr>\n",
       "      <th>2</th>\n",
       "      <td>lex</td>\n",
       "      <td>363</td>\n",
       "      <td>15.3</td>\n",
       "      <td>[allem, allermeisten, allerwenigsten, allerwenigstens, als Erstes, als Letztes, beidem, bins, biste, brannt, brauchs, brochen, CO₂, CO₂-Messgerät, CO₂-Reduktion, CO₂-Reduzierung, CO₂-Steuer, darfs, dasses, deinereiner]</td>\n",
       "      <td>[1, 1, 1, 1, 1, 1, 1, 1, 1, 1, 1, 1, 1, 1, 1, 1, 1, 1, 1, 1]</td>\n",
       "      <td>[manuell, Zahlwort, PRE]</td>\n",
       "      <td>[363, 217, 6]</td>\n",
       "    </tr>\n",
       "    <tr>\n",
       "      <th>3</th>\n",
       "      <td>Ptz1</td>\n",
       "      <td>253</td>\n",
       "      <td>10.7</td>\n",
       "      <td>[abfahrend, abschreckend, abstoßend, abtörnend, abwertend, achtend, adstringierend, affigierend, agglutinierend, alarmierend, alleinstehend, alternierend, amtierend, andauernd, angrenzend, anhaltend, anliegend, anmaßend, anregend, anschließend]</td>\n",
       "      <td>[1, 1, 1, 1, 1, 1, 1, 1, 1, 1, 1, 1, 1, 1, 1, 1, 1, 1, 1, 1]</td>\n",
       "      <td>manuell</td>\n",
       "      <td>253</td>\n",
       "    </tr>\n",
       "    <tr>\n",
       "      <th>4</th>\n",
       "      <td>Ptz2</td>\n",
       "      <td>160</td>\n",
       "      <td>6.8</td>\n",
       "      <td>[abberufen, abgepaßt, anbehalten, aneinandergepreßt, angepaßt, aufrechterhalten, auserlesen, autogestoppt, befahren, befallen, begraben, behauen, beladen, belassen, belaufen, bemessen, bepißt, beraten, berufen, beschrieen]</td>\n",
       "      <td>[1, 1, 1, 1, 1, 1, 1, 1, 1, 1, 1, 1, 1, 1, 1, 1, 1, 1, 1, 1]</td>\n",
       "      <td>manuell</td>\n",
       "      <td>160</td>\n",
       "    </tr>\n",
       "    <tr>\n",
       "      <th>5</th>\n",
       "      <td>abk</td>\n",
       "      <td>156</td>\n",
       "      <td>6.6</td>\n",
       "      <td>[Abb., Abschn., Abs., Anm. d. Red., Anm.d.Red., Apr., AI, Aufl., Aug., Bd., bspw., bzw., BH, Chr., ca., d.h., Dez., dm, Di, Di.]</td>\n",
       "      <td>[1, 1, 1, 1, 1, 1, 1, 1, 1, 1, 1, 1, 1, 1, 1, 1, 1, 1, 1, 1]</td>\n",
       "      <td>[manuell, Einheit, Wortverbindung, ergänzt, PRE]</td>\n",
       "      <td>[156, 45, 28, 16, 6]</td>\n",
       "    </tr>\n",
       "    <tr>\n",
       "      <th>6</th>\n",
       "      <td>VVIZU</td>\n",
       "      <td>8</td>\n",
       "      <td>0.3</td>\n",
       "      <td>[anzugucken, anzustaunen, aufzurütteln, einzureden, herauszulassen, hereinzulassen, herumzupimpeln, loszuwerden]</td>\n",
       "      <td>[1, 1, 1, 1, 1, 1, 1, 1]</td>\n",
       "      <td>manuell</td>\n",
       "      <td>8</td>\n",
       "    </tr>\n",
       "    <tr>\n",
       "      <th>7</th>\n",
       "      <td>syn</td>\n",
       "      <td>6</td>\n",
       "      <td>0.3</td>\n",
       "      <td>[[, {, &lt;, ], }, &gt;]</td>\n",
       "      <td>[1, 1, 1, 1, 1, 1]</td>\n",
       "      <td>manuell</td>\n",
       "      <td>6</td>\n",
       "    </tr>\n",
       "    <tr>\n",
       "      <th>8</th>\n",
       "      <td>PTKVZ</td>\n",
       "      <td>5</td>\n",
       "      <td>0.2</td>\n",
       "      <td>[dar, drein, inne, überein, zurecht]</td>\n",
       "      <td>[1, 1, 1, 1, 1]</td>\n",
       "      <td>[manuell, ergänzt]</td>\n",
       "      <td>[5, 5]</td>\n",
       "    </tr>\n",
       "    <tr>\n",
       "      <th>9</th>\n",
       "      <td>ADV</td>\n",
       "      <td>2</td>\n",
       "      <td>0.1</td>\n",
       "      <td>[zu viele, zuviele]</td>\n",
       "      <td>[1, 1]</td>\n",
       "      <td>manuell</td>\n",
       "      <td>2</td>\n",
       "    </tr>\n",
       "    <tr>\n",
       "      <th>10</th>\n",
       "      <td>VVIMP</td>\n",
       "      <td>1</td>\n",
       "      <td>0.0</td>\n",
       "      <td>vergleiche</td>\n",
       "      <td>1</td>\n",
       "      <td>manuell</td>\n",
       "      <td>1</td>\n",
       "    </tr>\n",
       "  </tbody>\n",
       "</table>\n",
       "</div>"
      ],
      "text/plain": [
       "   tag_lex  tag_lex_count  tag_lex_percent  \\\n",
       "0    lemma            762             32.2   \n",
       "1   lexAlt            653             27.6   \n",
       "2      lex            363             15.3   \n",
       "3     Ptz1            253             10.7   \n",
       "4     Ptz2            160              6.8   \n",
       "5      abk            156              6.6   \n",
       "6    VVIZU              8              0.3   \n",
       "7      syn              6              0.3   \n",
       "8    PTKVZ              5              0.2   \n",
       "9      ADV              2              0.1   \n",
       "10   VVIMP              1              0.0   \n",
       "\n",
       "                                                                                                                                                                                                                                                     lex  \\\n",
       "0                                                                                                              [dies, grade, die, einander, hiervon, sein, was, wem, wen, wessen, wieviel, woraus, worum, wovor, 24/7, 2D, 3D, 4D, breitbeinig, CO2-arm]   \n",
       "1                                                                   [muß, müßen, mußt, müßt, mußte, müßte, mußten, müßten, mußtest, müßtest, mußtet, müßtet, aufschlußreiche, aufschlußreichen, bewußt, bewußte, bewußtem, bewußten, bewußter, bewußtes]   \n",
       "2                             [allem, allermeisten, allerwenigsten, allerwenigstens, als Erstes, als Letztes, beidem, bins, biste, brannt, brauchs, brochen, CO₂, CO₂-Messgerät, CO₂-Reduktion, CO₂-Reduzierung, CO₂-Steuer, darfs, dasses, deinereiner]   \n",
       "3   [abfahrend, abschreckend, abstoßend, abtörnend, abwertend, achtend, adstringierend, affigierend, agglutinierend, alarmierend, alleinstehend, alternierend, amtierend, andauernd, angrenzend, anhaltend, anliegend, anmaßend, anregend, anschließend]   \n",
       "4                         [abberufen, abgepaßt, anbehalten, aneinandergepreßt, angepaßt, aufrechterhalten, auserlesen, autogestoppt, befahren, befallen, begraben, behauen, beladen, belassen, belaufen, bemessen, bepißt, beraten, berufen, beschrieen]   \n",
       "5                                                                                                                       [Abb., Abschn., Abs., Anm. d. Red., Anm.d.Red., Apr., AI, Aufl., Aug., Bd., bspw., bzw., BH, Chr., ca., d.h., Dez., dm, Di, Di.]   \n",
       "6                                                                                                                                       [anzugucken, anzustaunen, aufzurütteln, einzureden, herauszulassen, hereinzulassen, herumzupimpeln, loszuwerden]   \n",
       "7                                                                                                                                                                                                                                     [[, {, <, ], }, >]   \n",
       "8                                                                                                                                                                                                                   [dar, drein, inne, überein, zurecht]   \n",
       "9                                                                                                                                                                                                                                    [zu viele, zuviele]   \n",
       "10                                                                                                                                                                                                                                            vergleiche   \n",
       "\n",
       "                                                       lex_count  \\\n",
       "0   [2, 2, 1, 1, 1, 1, 1, 1, 1, 1, 1, 1, 1, 1, 1, 1, 1, 1, 1, 1]   \n",
       "1   [1, 1, 1, 1, 1, 1, 1, 1, 1, 1, 1, 1, 1, 1, 1, 1, 1, 1, 1, 1]   \n",
       "2   [1, 1, 1, 1, 1, 1, 1, 1, 1, 1, 1, 1, 1, 1, 1, 1, 1, 1, 1, 1]   \n",
       "3   [1, 1, 1, 1, 1, 1, 1, 1, 1, 1, 1, 1, 1, 1, 1, 1, 1, 1, 1, 1]   \n",
       "4   [1, 1, 1, 1, 1, 1, 1, 1, 1, 1, 1, 1, 1, 1, 1, 1, 1, 1, 1, 1]   \n",
       "5   [1, 1, 1, 1, 1, 1, 1, 1, 1, 1, 1, 1, 1, 1, 1, 1, 1, 1, 1, 1]   \n",
       "6                                       [1, 1, 1, 1, 1, 1, 1, 1]   \n",
       "7                                             [1, 1, 1, 1, 1, 1]   \n",
       "8                                                [1, 1, 1, 1, 1]   \n",
       "9                                                         [1, 1]   \n",
       "10                                                             1   \n",
       "\n",
       "                                                          member  \\\n",
       "0   [manuell, Zahlwort, ergänzt, PRE, Einheit, Vorname, Toponym]   \n",
       "1                            [lexAlt, manuell, Ort, modal, Land]   \n",
       "2                                       [manuell, Zahlwort, PRE]   \n",
       "3                                                        manuell   \n",
       "4                                                        manuell   \n",
       "5               [manuell, Einheit, Wortverbindung, ergänzt, PRE]   \n",
       "6                                                        manuell   \n",
       "7                                                        manuell   \n",
       "8                                             [manuell, ergänzt]   \n",
       "9                                                        manuell   \n",
       "10                                                       manuell   \n",
       "\n",
       "                     member_count  \n",
       "0   [762, 434, 324, 30, 11, 1, 1]  \n",
       "1             [653, 653, 2, 1, 1]  \n",
       "2                   [363, 217, 6]  \n",
       "3                             253  \n",
       "4                             160  \n",
       "5            [156, 45, 28, 16, 6]  \n",
       "6                               8  \n",
       "7                               6  \n",
       "8                          [5, 5]  \n",
       "9                               2  \n",
       "10                              1  "
      ]
     },
     "execution_count": 148,
     "metadata": {},
     "output_type": "execute_result"
    }
   ],
   "source": [
    "# tag_lex analysieren\n",
    "r = pak.analyse_freqs(lexeme_manuell, ['tag_lex', 'lex', 'member'], splits=[None,None,' '])\n",
    "grid(r)"
   ]
  },
  {
   "cell_type": "code",
   "execution_count": 149,
   "metadata": {
    "execution": {
     "iopub.execute_input": "2023-02-20T16:26:03.413511Z",
     "iopub.status.busy": "2023-02-20T16:26:03.411187Z",
     "iopub.status.idle": "2023-02-20T16:26:03.449279Z",
     "shell.execute_reply": "2023-02-20T16:26:03.448186Z",
     "shell.execute_reply.started": "2023-02-20T16:26:03.413473Z"
    }
   },
   "outputs": [],
   "source": [
    "# Kopie erzeugen, verwenden wir später um alle Partizipien als Adjektive einpflegen zu können\n",
    "lexeme_manuell_copy = lexeme_manuell.copy()"
   ]
  },
  {
   "cell_type": "code",
   "execution_count": 150,
   "metadata": {
    "execution": {
     "iopub.execute_input": "2023-02-20T16:26:03.457791Z",
     "iopub.status.busy": "2023-02-20T16:26:03.454367Z",
     "iopub.status.idle": "2023-02-20T16:26:05.226100Z",
     "shell.execute_reply": "2023-02-20T16:26:05.225395Z",
     "shell.execute_reply.started": "2023-02-20T16:26:03.457750Z"
    }
   },
   "outputs": [
    {
     "name": "stdout",
     "output_type": "stream",
     "text": [
      "0 rows less, now 2369 rows\n"
     ]
    }
   ],
   "source": [
    "# Spalte flexion erstellen\n",
    "lexeme_manuell['lex_bak'] = lexeme_manuell.lex.copy()\n",
    "lexeme_manuell = pak.implode_to_defaultdict(lexeme_manuell, col_key='tag_lex', col_value='lex', col_result='flexion')"
   ]
  },
  {
   "cell_type": "code",
   "execution_count": 151,
   "metadata": {
    "execution": {
     "iopub.execute_input": "2023-02-20T16:26:05.227470Z",
     "iopub.status.busy": "2023-02-20T16:26:05.227171Z",
     "iopub.status.idle": "2023-02-20T16:26:05.266292Z",
     "shell.execute_reply": "2023-02-20T16:26:05.265448Z",
     "shell.execute_reply.started": "2023-02-20T16:26:05.227441Z"
    }
   },
   "outputs": [],
   "source": [
    "# suche_debug\n",
    "#search_str(lexeme_manuell, suche_debug)"
   ]
  },
  {
   "cell_type": "code",
   "execution_count": 152,
   "metadata": {
    "execution": {
     "iopub.execute_input": "2023-02-20T16:26:05.267649Z",
     "iopub.status.busy": "2023-02-20T16:26:05.267323Z",
     "iopub.status.idle": "2023-02-20T16:26:05.326585Z",
     "shell.execute_reply": "2023-02-20T16:26:05.325804Z",
     "shell.execute_reply.started": "2023-02-20T16:26:05.267621Z"
    }
   },
   "outputs": [],
   "source": [
    "# lex == lemma: flexion soll leeres defaultdict sein\n",
    "mask = (lexeme_manuell.lex_bak == lexeme_manuell.lemma) \n",
    "lexeme_manuell.loc[mask,'flexion'] = lexeme_manuell[mask].flexion.apply(lambda x: defaultdict(list))  # auf leeres defaultdict setzen\n",
    "lexeme_manuell = pak.drop_cols(lexeme_manuell, 'lex_bak')\n",
    "#grid(lexeme_manuell,~mask)"
   ]
  },
  {
   "cell_type": "code",
   "execution_count": 153,
   "metadata": {
    "execution": {
     "iopub.execute_input": "2023-02-20T16:26:05.331704Z",
     "iopub.status.busy": "2023-02-20T16:26:05.331306Z",
     "iopub.status.idle": "2023-02-20T16:26:05.375654Z",
     "shell.execute_reply": "2023-02-20T16:26:05.374907Z",
     "shell.execute_reply.started": "2023-02-20T16:26:05.331679Z"
    }
   },
   "outputs": [],
   "source": [
    "# suche_debug\n",
    "#search_str(lexeme_manuell, suche_debug)"
   ]
  },
  {
   "cell_type": "code",
   "execution_count": 154,
   "metadata": {
    "execution": {
     "iopub.execute_input": "2023-02-20T16:26:05.382808Z",
     "iopub.status.busy": "2023-02-20T16:26:05.379927Z",
     "iopub.status.idle": "2023-02-20T16:26:05.618160Z",
     "shell.execute_reply": "2023-02-20T16:26:05.617447Z",
     "shell.execute_reply.started": "2023-02-20T16:26:05.382764Z"
    }
   },
   "outputs": [],
   "source": [
    "# Weitere Spalten in flexion verpacken (mit cols_to_defaultdict\n",
    "lexeme_manuell = pak.cols_to_defaultdict(  lexeme_manuell, col_dict='flexion', cols_add=['Genus','def']   )  "
   ]
  },
  {
   "cell_type": "code",
   "execution_count": 155,
   "metadata": {
    "execution": {
     "iopub.execute_input": "2023-02-20T16:26:05.620125Z",
     "iopub.status.busy": "2023-02-20T16:26:05.619830Z",
     "iopub.status.idle": "2023-02-20T16:26:05.666591Z",
     "shell.execute_reply": "2023-02-20T16:26:05.665789Z",
     "shell.execute_reply.started": "2023-02-20T16:26:05.620099Z"
    }
   },
   "outputs": [],
   "source": [
    "# Spalte tab brauchen wir nicht mehr >> löschen\n",
    "lexeme_manuell = pak.drop_cols(lexeme_manuell, ['tab'])"
   ]
  },
  {
   "cell_type": "code",
   "execution_count": 156,
   "metadata": {
    "execution": {
     "iopub.execute_input": "2023-02-20T16:26:05.670026Z",
     "iopub.status.busy": "2023-02-20T16:26:05.669648Z",
     "iopub.status.idle": "2023-02-20T16:26:05.719281Z",
     "shell.execute_reply": "2023-02-20T16:26:05.718576Z",
     "shell.execute_reply.started": "2023-02-20T16:26:05.669992Z"
    }
   },
   "outputs": [],
   "source": [
    "# suche_debug\n",
    "#search_str(lexeme_manuell, suche_debug)"
   ]
  },
  {
   "cell_type": "code",
   "execution_count": 157,
   "metadata": {
    "execution": {
     "iopub.execute_input": "2023-02-20T16:26:05.720484Z",
     "iopub.status.busy": "2023-02-20T16:26:05.720214Z",
     "iopub.status.idle": "2023-02-20T16:26:07.057523Z",
     "shell.execute_reply": "2023-02-20T16:26:07.056811Z",
     "shell.execute_reply.started": "2023-02-20T16:26:05.720460Z"
    }
   },
   "outputs": [
    {
     "name": "stdout",
     "output_type": "stream",
     "text": [
      "577 rows less, now 1792 rows\n"
     ]
    }
   ],
   "source": [
    "# gruppieren\n",
    "lexeme_manuell = pak.group_and_agg(lexeme_manuell,\n",
    "                               ['lemma', 'tag',   'member',              'flexion',            ],\n",
    "                               ['group', 'group',  pak.agg_words_nodup,  pak.agg_defaultdicts, ],\n",
    "                               ['lemma', 'tag',   'member',              'flexion',            ]\n",
    "                              )"
   ]
  },
  {
   "cell_type": "code",
   "execution_count": 158,
   "metadata": {
    "execution": {
     "iopub.execute_input": "2023-02-20T16:26:07.061333Z",
     "iopub.status.busy": "2023-02-20T16:26:07.061032Z",
     "iopub.status.idle": "2023-02-20T16:26:07.108998Z",
     "shell.execute_reply": "2023-02-20T16:26:07.108198Z",
     "shell.execute_reply.started": "2023-02-20T16:26:07.061309Z"
    }
   },
   "outputs": [],
   "source": [
    "# Felder ergänzen\n",
    "lexeme_manuell['title']       = lexeme_manuell.lemma\n",
    "lexeme_manuell['lemma_lower'] = lexeme_manuell.lemma.str.lower() \n",
    "lexeme_manuell = pak.move_cols( lexeme_manuell, 'lemma_lower','lemma')"
   ]
  },
  {
   "cell_type": "code",
   "execution_count": 159,
   "metadata": {
    "execution": {
     "iopub.execute_input": "2023-02-20T16:26:07.122512Z",
     "iopub.status.busy": "2023-02-20T16:26:07.116150Z",
     "iopub.status.idle": "2023-02-20T16:26:07.263121Z",
     "shell.execute_reply": "2023-02-20T16:26:07.262234Z",
     "shell.execute_reply.started": "2023-02-20T16:26:07.122425Z"
    }
   },
   "outputs": [],
   "source": [
    "# tagZ und tagZZ ermitteln\n",
    "lexeme_manuell = pflege_tag_felder(lexeme_manuell, translate_tagZ)"
   ]
  },
  {
   "cell_type": "code",
   "execution_count": 160,
   "metadata": {
    "execution": {
     "iopub.execute_input": "2023-02-20T16:26:07.265304Z",
     "iopub.status.busy": "2023-02-20T16:26:07.264985Z",
     "iopub.status.idle": "2023-02-20T16:26:07.523245Z",
     "shell.execute_reply": "2023-02-20T16:26:07.522547Z",
     "shell.execute_reply.started": "2023-02-20T16:26:07.265281Z"
    }
   },
   "outputs": [
    {
     "name": "stdout",
     "output_type": "stream",
     "text": [
      "100 rows out of 1792\n"
     ]
    },
    {
     "data": {
      "text/html": [
       "<div>\n",
       "<style scoped>\n",
       "    .dataframe tbody tr th:only-of-type {\n",
       "        vertical-align: middle;\n",
       "    }\n",
       "\n",
       "    .dataframe tbody tr th {\n",
       "        vertical-align: top;\n",
       "    }\n",
       "\n",
       "    .dataframe thead th {\n",
       "        text-align: right;\n",
       "    }\n",
       "</style>\n",
       "<table border=\"1\" class=\"dataframe\">\n",
       "  <thead>\n",
       "    <tr style=\"text-align: right;\">\n",
       "      <th></th>\n",
       "      <th>lemma</th>\n",
       "      <th>lemma_lower</th>\n",
       "      <th>tag</th>\n",
       "      <th>tag_0</th>\n",
       "      <th>tag_1</th>\n",
       "      <th>tagZ</th>\n",
       "      <th>tagZZ</th>\n",
       "      <th>member</th>\n",
       "      <th>flexion</th>\n",
       "      <th>title</th>\n",
       "    </tr>\n",
       "  </thead>\n",
       "  <tbody>\n",
       "    <tr>\n",
       "      <th>0</th>\n",
       "      <td>!</td>\n",
       "      <td>!</td>\n",
       "      <td>$.</td>\n",
       "      <td>$.</td>\n",
       "      <td>MoaGrbmXhW</td>\n",
       "      <td>SYM</td>\n",
       "      <td>Y</td>\n",
       "      <td>manuell ergänzt</td>\n",
       "      <td>{}</td>\n",
       "      <td>!</td>\n",
       "    </tr>\n",
       "    <tr>\n",
       "      <th>9</th>\n",
       "      <td>-3</td>\n",
       "      <td>-3</td>\n",
       "      <td>CARD</td>\n",
       "      <td>CARD</td>\n",
       "      <td>hRQXsOQ9xf</td>\n",
       "      <td>X_zahl</td>\n",
       "      <td>X</td>\n",
       "      <td>manuell ergänzt</td>\n",
       "      <td>{}</td>\n",
       "      <td>-3</td>\n",
       "    </tr>\n",
       "    <tr>\n",
       "      <th>12</th>\n",
       "      <td>24/7</td>\n",
       "      <td>24/7</td>\n",
       "      <td>ADJA</td>\n",
       "      <td>ADJA</td>\n",
       "      <td>DDpZYqyEXD</td>\n",
       "      <td>ADJ</td>\n",
       "      <td>A</td>\n",
       "      <td>manuell ergänzt</td>\n",
       "      <td>{}</td>\n",
       "      <td>24/7</td>\n",
       "    </tr>\n",
       "    <tr>\n",
       "      <th>14</th>\n",
       "      <td>3D</td>\n",
       "      <td>3d</td>\n",
       "      <td>ADJA</td>\n",
       "      <td>ADJA</td>\n",
       "      <td>EHi88gHSRr</td>\n",
       "      <td>ADJ</td>\n",
       "      <td>A</td>\n",
       "      <td>manuell ergänzt</td>\n",
       "      <td>{}</td>\n",
       "      <td>3D</td>\n",
       "    </tr>\n",
       "    <tr>\n",
       "      <th>24</th>\n",
       "      <td>Abriss</td>\n",
       "      <td>abriss</td>\n",
       "      <td>NN</td>\n",
       "      <td>NN</td>\n",
       "      <td>HjEF2nk8Sn</td>\n",
       "      <td>NOM</td>\n",
       "      <td>N</td>\n",
       "      <td>lexAlt manuell</td>\n",
       "      <td>{'lexAlt': ['Abriß'], 'Genus': ['m']}</td>\n",
       "      <td>Abriss</td>\n",
       "    </tr>\n",
       "    <tr>\n",
       "      <th>...</th>\n",
       "      <td>...</td>\n",
       "      <td>...</td>\n",
       "      <td>...</td>\n",
       "      <td>...</td>\n",
       "      <td>...</td>\n",
       "      <td>...</td>\n",
       "      <td>...</td>\n",
       "      <td>...</td>\n",
       "      <td>...</td>\n",
       "      <td>...</td>\n",
       "    </tr>\n",
       "    <tr>\n",
       "      <th>1671</th>\n",
       "      <td>würdevoll</td>\n",
       "      <td>würdevoll</td>\n",
       "      <td>ADJA</td>\n",
       "      <td>ADJA</td>\n",
       "      <td>IhWyaLtzs1</td>\n",
       "      <td>ADJ</td>\n",
       "      <td>A</td>\n",
       "      <td>manuell ergänzt</td>\n",
       "      <td>{}</td>\n",
       "      <td>würdevoll</td>\n",
       "    </tr>\n",
       "    <tr>\n",
       "      <th>1731</th>\n",
       "      <td>zweite</td>\n",
       "      <td>zweite</td>\n",
       "      <td>ADJA</td>\n",
       "      <td>ADJA</td>\n",
       "      <td>ACgujDTQ8J</td>\n",
       "      <td>ADJ</td>\n",
       "      <td>A</td>\n",
       "      <td>manuell ergänzt</td>\n",
       "      <td>{}</td>\n",
       "      <td>zweite</td>\n",
       "    </tr>\n",
       "    <tr>\n",
       "      <th>1762</th>\n",
       "      <td>überbelegen</td>\n",
       "      <td>überbelegen</td>\n",
       "      <td>VVFIN</td>\n",
       "      <td>VVFIN</td>\n",
       "      <td>nmvHfehBYh</td>\n",
       "      <td>VER</td>\n",
       "      <td>V</td>\n",
       "      <td>manuell</td>\n",
       "      <td>{'Ptz1': ['überbelegend']}</td>\n",
       "      <td>überbelegen</td>\n",
       "    </tr>\n",
       "    <tr>\n",
       "      <th>1773</th>\n",
       "      <td>überkommen</td>\n",
       "      <td>überkommen</td>\n",
       "      <td>VVFIN</td>\n",
       "      <td>VVFIN</td>\n",
       "      <td>p9xi7ZpNBP</td>\n",
       "      <td>VER</td>\n",
       "      <td>V</td>\n",
       "      <td>manuell</td>\n",
       "      <td>{}</td>\n",
       "      <td>überkommen</td>\n",
       "    </tr>\n",
       "    <tr>\n",
       "      <th>1791</th>\n",
       "      <td>…</td>\n",
       "      <td>…</td>\n",
       "      <td>$(</td>\n",
       "      <td>$(</td>\n",
       "      <td>ntkczTTAg9</td>\n",
       "      <td>SYM</td>\n",
       "      <td>Y</td>\n",
       "      <td>manuell ergänzt</td>\n",
       "      <td>{}</td>\n",
       "      <td>…</td>\n",
       "    </tr>\n",
       "  </tbody>\n",
       "</table>\n",
       "<p>100 rows × 10 columns</p>\n",
       "</div>"
      ],
      "text/plain": [
       "            lemma  lemma_lower    tag  tag_0       tag_1    tagZ tagZZ  \\\n",
       "0               !            !     $.     $.  MoaGrbmXhW     SYM     Y   \n",
       "9              -3           -3   CARD   CARD  hRQXsOQ9xf  X_zahl     X   \n",
       "12           24/7         24/7   ADJA   ADJA  DDpZYqyEXD     ADJ     A   \n",
       "14             3D           3d   ADJA   ADJA  EHi88gHSRr     ADJ     A   \n",
       "24         Abriss       abriss     NN     NN  HjEF2nk8Sn     NOM     N   \n",
       "...           ...          ...    ...    ...         ...     ...   ...   \n",
       "1671    würdevoll    würdevoll   ADJA   ADJA  IhWyaLtzs1     ADJ     A   \n",
       "1731       zweite       zweite   ADJA   ADJA  ACgujDTQ8J     ADJ     A   \n",
       "1762  überbelegen  überbelegen  VVFIN  VVFIN  nmvHfehBYh     VER     V   \n",
       "1773   überkommen   überkommen  VVFIN  VVFIN  p9xi7ZpNBP     VER     V   \n",
       "1791            …            …     $(     $(  ntkczTTAg9     SYM     Y   \n",
       "\n",
       "               member                                flexion        title  \n",
       "0     manuell ergänzt                                     {}            !  \n",
       "9     manuell ergänzt                                     {}           -3  \n",
       "12    manuell ergänzt                                     {}         24/7  \n",
       "14    manuell ergänzt                                     {}           3D  \n",
       "24     lexAlt manuell  {'lexAlt': ['Abriß'], 'Genus': ['m']}       Abriss  \n",
       "...               ...                                    ...          ...  \n",
       "1671  manuell ergänzt                                     {}    würdevoll  \n",
       "1731  manuell ergänzt                                     {}       zweite  \n",
       "1762          manuell             {'Ptz1': ['überbelegend']}  überbelegen  \n",
       "1773          manuell                                     {}   überkommen  \n",
       "1791  manuell ergänzt                                     {}            …  \n",
       "\n",
       "[100 rows x 10 columns]"
      ]
     },
     "execution_count": 160,
     "metadata": {},
     "output_type": "execute_result"
    }
   ],
   "source": [
    "# anschauen\n",
    "grid(lexeme_manuell, pak.sample_100)"
   ]
  },
  {
   "cell_type": "code",
   "execution_count": 161,
   "metadata": {
    "execution": {
     "iopub.execute_input": "2023-02-20T16:26:07.524122Z",
     "iopub.status.busy": "2023-02-20T16:26:07.523900Z",
     "iopub.status.idle": "2023-02-20T16:26:07.593315Z",
     "shell.execute_reply": "2023-02-20T16:26:07.592638Z",
     "shell.execute_reply.started": "2023-02-20T16:26:07.524100Z"
    }
   },
   "outputs": [
    {
     "data": {
      "text/html": [
       "<div>\n",
       "<style scoped>\n",
       "    .dataframe tbody tr th:only-of-type {\n",
       "        vertical-align: middle;\n",
       "    }\n",
       "\n",
       "    .dataframe tbody tr th {\n",
       "        vertical-align: top;\n",
       "    }\n",
       "\n",
       "    .dataframe thead th {\n",
       "        text-align: right;\n",
       "    }\n",
       "</style>\n",
       "<table border=\"1\" class=\"dataframe\">\n",
       "  <thead>\n",
       "    <tr style=\"text-align: right;\">\n",
       "      <th></th>\n",
       "      <th>lemma</th>\n",
       "      <th>lemma_lower</th>\n",
       "      <th>tag</th>\n",
       "      <th>tag_0</th>\n",
       "      <th>tag_1</th>\n",
       "      <th>tagZ</th>\n",
       "      <th>tagZZ</th>\n",
       "      <th>member</th>\n",
       "      <th>flexion</th>\n",
       "      <th>title</th>\n",
       "    </tr>\n",
       "  </thead>\n",
       "  <tbody>\n",
       "    <tr>\n",
       "      <th>1091</th>\n",
       "      <td>gefriertrocknen</td>\n",
       "      <td>gefriertrocknen</td>\n",
       "      <td>VVFIN</td>\n",
       "      <td>VVFIN</td>\n",
       "      <td>Ujs8pBb0XN</td>\n",
       "      <td>VER</td>\n",
       "      <td>V</td>\n",
       "      <td>manuell</td>\n",
       "      <td>{'Ptz2': ['gefriergetrocknet']}</td>\n",
       "      <td>gefriertrocknen</td>\n",
       "    </tr>\n",
       "    <tr>\n",
       "      <th>1236</th>\n",
       "      <td>missraten</td>\n",
       "      <td>missraten</td>\n",
       "      <td>VVFIN</td>\n",
       "      <td>VVFIN</td>\n",
       "      <td>UXOKluHLF9</td>\n",
       "      <td>VER</td>\n",
       "      <td>V</td>\n",
       "      <td>manuell</td>\n",
       "      <td>{'Ptz2': ['mißraten']}</td>\n",
       "      <td>missraten</td>\n",
       "    </tr>\n",
       "  </tbody>\n",
       "</table>\n",
       "</div>"
      ],
      "text/plain": [
       "                lemma      lemma_lower    tag  tag_0       tag_1 tagZ tagZZ  \\\n",
       "1091  gefriertrocknen  gefriertrocknen  VVFIN  VVFIN  Ujs8pBb0XN  VER     V   \n",
       "1236        missraten        missraten  VVFIN  VVFIN  UXOKluHLF9  VER     V   \n",
       "\n",
       "       member                          flexion            title  \n",
       "1091  manuell  {'Ptz2': ['gefriergetrocknet']}  gefriertrocknen  \n",
       "1236  manuell           {'Ptz2': ['mißraten']}        missraten  "
      ]
     },
     "execution_count": 161,
     "metadata": {},
     "output_type": "execute_result"
    }
   ],
   "source": [
    "# suche_debug\n",
    "search_str(lexeme_manuell, suche_debug)"
   ]
  },
  {
   "cell_type": "code",
   "execution_count": 162,
   "metadata": {
    "execution": {
     "iopub.execute_input": "2023-02-20T16:26:07.598121Z",
     "iopub.status.busy": "2023-02-20T16:26:07.597844Z",
     "iopub.status.idle": "2023-02-20T16:26:07.646590Z",
     "shell.execute_reply": "2023-02-20T16:26:07.645907Z",
     "shell.execute_reply.started": "2023-02-20T16:26:07.598098Z"
    }
   },
   "outputs": [
    {
     "data": {
      "text/html": [
       "<div>\n",
       "<style scoped>\n",
       "    .dataframe tbody tr th:only-of-type {\n",
       "        vertical-align: middle;\n",
       "    }\n",
       "\n",
       "    .dataframe tbody tr th {\n",
       "        vertical-align: top;\n",
       "    }\n",
       "\n",
       "    .dataframe thead th {\n",
       "        text-align: right;\n",
       "    }\n",
       "</style>\n",
       "<table border=\"1\" class=\"dataframe\">\n",
       "  <thead>\n",
       "    <tr style=\"text-align: right;\">\n",
       "      <th></th>\n",
       "      <th>lemma</th>\n",
       "      <th>lemma_lower</th>\n",
       "      <th>tag</th>\n",
       "      <th>tag_0</th>\n",
       "      <th>tag_1</th>\n",
       "      <th>tagZ</th>\n",
       "      <th>tagZZ</th>\n",
       "      <th>member</th>\n",
       "      <th>flexion</th>\n",
       "      <th>title</th>\n",
       "    </tr>\n",
       "  </thead>\n",
       "  <tbody>\n",
       "    <tr>\n",
       "      <th>1636</th>\n",
       "      <td>welch</td>\n",
       "      <td>welch</td>\n",
       "      <td>PRELS PWAT</td>\n",
       "      <td>PRELS</td>\n",
       "      <td>PWAT</td>\n",
       "      <td>PRO</td>\n",
       "      <td>P</td>\n",
       "      <td>manuell</td>\n",
       "      <td>{'lex': ['welche', 'welchem', 'welchen', 'welcher', 'welches']}</td>\n",
       "      <td>welch</td>\n",
       "    </tr>\n",
       "  </tbody>\n",
       "</table>\n",
       "</div>"
      ],
      "text/plain": [
       "      lemma lemma_lower         tag  tag_0 tag_1 tagZ tagZZ   member  \\\n",
       "1636  welch       welch  PRELS PWAT  PRELS  PWAT  PRO     P  manuell   \n",
       "\n",
       "                                                              flexion  title  \n",
       "1636  {'lex': ['welche', 'welchem', 'welchen', 'welcher', 'welches']}  welch  "
      ]
     },
     "execution_count": 162,
     "metadata": {},
     "output_type": "execute_result"
    }
   ],
   "source": [
    "# anschauen: mehr als ein tag\n",
    "mask = (lexeme_manuell.tag.str.split().str.len() > 1)\n",
    "lexeme_manuell[mask]"
   ]
  },
  {
   "cell_type": "code",
   "execution_count": 163,
   "metadata": {
    "execution": {
     "iopub.execute_input": "2023-02-20T16:26:07.651439Z",
     "iopub.status.busy": "2023-02-20T16:26:07.651145Z",
     "iopub.status.idle": "2023-02-20T16:26:07.701345Z",
     "shell.execute_reply": "2023-02-20T16:26:07.700624Z",
     "shell.execute_reply.started": "2023-02-20T16:26:07.651416Z"
    }
   },
   "outputs": [],
   "source": [
    "# section_id2 schreiben\n",
    "lexeme_manuell['section_id2'] = lexeme_manuell.lemma.str.replace(' ','_') + '_M'\n",
    "mask = lexeme_manuell.tag == 'CARD'\n",
    "lexeme_manuell.loc[mask,'section_id2'] = lexeme_manuell[mask].lemma.str.replace(' ','_') + '_Z'\n",
    "lexeme_manuell = pak.move_cols(lexeme_manuell, ['section_id2','title'])"
   ]
  },
  {
   "cell_type": "code",
   "execution_count": 164,
   "metadata": {
    "execution": {
     "iopub.execute_input": "2023-02-20T16:26:07.702964Z",
     "iopub.status.busy": "2023-02-20T16:26:07.702485Z",
     "iopub.status.idle": "2023-02-20T16:26:07.734398Z",
     "shell.execute_reply": "2023-02-20T16:26:07.733774Z",
     "shell.execute_reply.started": "2023-02-20T16:26:07.702937Z"
    }
   },
   "outputs": [],
   "source": [
    "# suche_debug\n",
    "#search_str(lexeme_manuell, suche_debug)"
   ]
  },
  {
   "cell_type": "code",
   "execution_count": 165,
   "metadata": {
    "execution": {
     "iopub.execute_input": "2023-02-20T16:26:07.735702Z",
     "iopub.status.busy": "2023-02-20T16:26:07.735441Z",
     "iopub.status.idle": "2023-02-20T16:26:11.876331Z",
     "shell.execute_reply": "2023-02-20T16:26:11.872017Z",
     "shell.execute_reply.started": "2023-02-20T16:26:07.735679Z"
    }
   },
   "outputs": [
    {
     "name": "stdout",
     "output_type": "stream",
     "text": [
      "update_col: col_score score applied, 3337 records less!\n",
      "update_col: 1194 cells written into existing column\n",
      "update_col: col_score score applied, 2319 records less!\n",
      "update_col: 1170 cells written into existing column\n",
      "update_col: col_score score applied, 3540 records less!\n",
      "update_col: 1155 cells written into existing column\n",
      "update_col: col_score score applied, 4 records less!\n",
      "update_col: 34 cells written into existing column\n"
     ]
    }
   ],
   "source": [
    "# Bekannte section_id2 aus wiktionary übertragen\n",
    "\n",
    "mask = (wiktionary.lemma == wiktionary.title)  # wichtig! Gerade die Datensätze, die nicht darunter fallen, verursachen Probleme bei Partizipien.\n",
    "\n",
    "# tagZZ\n",
    "lexeme_manuell = pak.update_col(lexeme_manuell, wiktionary[mask], on=['lemma_lower','tagZZ'], col='section_id2',  col_score='score'  )\n",
    "\n",
    "#tagZ\n",
    "lexeme_manuell = pak.update_col(lexeme_manuell, wiktionary[mask], on=['lemma_lower','tagZ'],  col='section_id2',  col_score='score'  )\n",
    "\n",
    "# tag\n",
    "lexeme_manuell = pak.update_col(lexeme_manuell, wiktionary[mask], on=['lemma_lower','tag'],   col='section_id2',  col_score='score'  )\n",
    "\n",
    "# Wenn ein sinnvoller tag fehlt, reicht lemma\n",
    "mask = (wiktionary.lemma == wiktionary.title)   &   wiktionary.tag.str.contains('TODO')\n",
    "lexeme_manuell = pak.update_col(lexeme_manuell, wiktionary[mask], on=['lemma'], col='section_id2',  col_score='score' )"
   ]
  },
  {
   "cell_type": "code",
   "execution_count": 166,
   "metadata": {
    "execution": {
     "iopub.execute_input": "2023-02-20T16:26:11.884172Z",
     "iopub.status.busy": "2023-02-20T16:26:11.882977Z",
     "iopub.status.idle": "2023-02-20T16:26:11.967184Z",
     "shell.execute_reply": "2023-02-20T16:26:11.966105Z",
     "shell.execute_reply.started": "2023-02-20T16:26:11.884137Z"
    }
   },
   "outputs": [
    {
     "data": {
      "text/html": [
       "<div>\n",
       "<style scoped>\n",
       "    .dataframe tbody tr th:only-of-type {\n",
       "        vertical-align: middle;\n",
       "    }\n",
       "\n",
       "    .dataframe tbody tr th {\n",
       "        vertical-align: top;\n",
       "    }\n",
       "\n",
       "    .dataframe thead th {\n",
       "        text-align: right;\n",
       "    }\n",
       "</style>\n",
       "<table border=\"1\" class=\"dataframe\">\n",
       "  <thead>\n",
       "    <tr style=\"text-align: right;\">\n",
       "      <th></th>\n",
       "      <th>section_id2</th>\n",
       "      <th>title</th>\n",
       "      <th>lemma</th>\n",
       "      <th>lemma_lower</th>\n",
       "      <th>tag</th>\n",
       "      <th>tag_0</th>\n",
       "      <th>tag_1</th>\n",
       "      <th>tagZ</th>\n",
       "      <th>tagZZ</th>\n",
       "      <th>member</th>\n",
       "      <th>flexion</th>\n",
       "    </tr>\n",
       "  </thead>\n",
       "  <tbody>\n",
       "    <tr>\n",
       "      <th>1091</th>\n",
       "      <td>gefriertrocknen</td>\n",
       "      <td>gefriertrocknen</td>\n",
       "      <td>gefriertrocknen</td>\n",
       "      <td>gefriertrocknen</td>\n",
       "      <td>VVFIN</td>\n",
       "      <td>VVFIN</td>\n",
       "      <td>Ujs8pBb0XN</td>\n",
       "      <td>VER</td>\n",
       "      <td>V</td>\n",
       "      <td>manuell</td>\n",
       "      <td>{'Ptz2': ['gefriergetrocknet']}</td>\n",
       "    </tr>\n",
       "    <tr>\n",
       "      <th>1236</th>\n",
       "      <td>missraten</td>\n",
       "      <td>missraten</td>\n",
       "      <td>missraten</td>\n",
       "      <td>missraten</td>\n",
       "      <td>VVFIN</td>\n",
       "      <td>VVFIN</td>\n",
       "      <td>UXOKluHLF9</td>\n",
       "      <td>VER</td>\n",
       "      <td>V</td>\n",
       "      <td>manuell</td>\n",
       "      <td>{'Ptz2': ['mißraten']}</td>\n",
       "    </tr>\n",
       "  </tbody>\n",
       "</table>\n",
       "</div>"
      ],
      "text/plain": [
       "          section_id2            title            lemma      lemma_lower  \\\n",
       "1091  gefriertrocknen  gefriertrocknen  gefriertrocknen  gefriertrocknen   \n",
       "1236        missraten        missraten        missraten        missraten   \n",
       "\n",
       "        tag  tag_0       tag_1 tagZ tagZZ   member  \\\n",
       "1091  VVFIN  VVFIN  Ujs8pBb0XN  VER     V  manuell   \n",
       "1236  VVFIN  VVFIN  UXOKluHLF9  VER     V  manuell   \n",
       "\n",
       "                              flexion  \n",
       "1091  {'Ptz2': ['gefriergetrocknet']}  \n",
       "1236           {'Ptz2': ['mißraten']}  "
      ]
     },
     "execution_count": 166,
     "metadata": {},
     "output_type": "execute_result"
    }
   ],
   "source": [
    "# suche_debug\n",
    "search_str(lexeme_manuell, suche_debug)"
   ]
  },
  {
   "cell_type": "code",
   "execution_count": 167,
   "metadata": {
    "execution": {
     "iopub.execute_input": "2023-02-20T16:26:11.977114Z",
     "iopub.status.busy": "2023-02-20T16:26:11.972613Z",
     "iopub.status.idle": "2023-02-20T16:26:12.020554Z",
     "shell.execute_reply": "2023-02-20T16:26:12.019772Z",
     "shell.execute_reply.started": "2023-02-20T16:26:11.976882Z"
    }
   },
   "outputs": [],
   "source": [
    "# anschauen\n",
    "#grid(lexeme_manuell, pak.sample_100)"
   ]
  },
  {
   "cell_type": "code",
   "execution_count": 168,
   "metadata": {
    "execution": {
     "iopub.execute_input": "2023-02-20T16:26:12.021548Z",
     "iopub.status.busy": "2023-02-20T16:26:12.021299Z",
     "iopub.status.idle": "2023-02-20T16:26:12.074657Z",
     "shell.execute_reply": "2023-02-20T16:26:12.073912Z",
     "shell.execute_reply.started": "2023-02-20T16:26:12.021527Z"
    },
    "tags": []
   },
   "outputs": [
    {
     "name": "stdout",
     "output_type": "stream",
     "text": [
      "left_only:  {'score', 'page_part', 'ipa', 'rhymes', 'lang_code', 'lang', 'error', 'syllables', 'pos', 'inflected', 'page_id'}\n",
      "both:       {'lemma_lower', 'tag_0', 'tagZZ', 'flexion', 'member', 'tag_1', 'section_id2', 'lemma', 'tag', 'title', 'tagZ'}\n",
      "right_only: {}\n",
      "\n"
     ]
    }
   ],
   "source": [
    "bpy.minivenn(wiktionary.columns, lexeme_manuell.columns, format='print')"
   ]
  },
  {
   "cell_type": "code",
   "execution_count": 169,
   "metadata": {
    "execution": {
     "iopub.execute_input": "2023-02-20T16:26:12.076028Z",
     "iopub.status.busy": "2023-02-20T16:26:12.075744Z",
     "iopub.status.idle": "2023-02-20T16:26:28.227421Z",
     "shell.execute_reply": "2023-02-20T16:26:28.226489Z",
     "shell.execute_reply.started": "2023-02-20T16:26:12.076005Z"
    },
    "tags": []
   },
   "outputs": [
    {
     "data": {
      "text/html": [
       "<div>\n",
       "<style scoped>\n",
       "    .dataframe tbody tr th:only-of-type {\n",
       "        vertical-align: middle;\n",
       "    }\n",
       "\n",
       "    .dataframe tbody tr th {\n",
       "        vertical-align: top;\n",
       "    }\n",
       "\n",
       "    .dataframe thead th {\n",
       "        text-align: right;\n",
       "    }\n",
       "</style>\n",
       "<table border=\"1\" class=\"dataframe\">\n",
       "  <thead>\n",
       "    <tr style=\"text-align: right;\">\n",
       "      <th></th>\n",
       "      <th>col_name</th>\n",
       "      <th>datatype_instance</th>\n",
       "      <th>datatype</th>\n",
       "      <th>datatype_short</th>\n",
       "      <th>datatype_suggest</th>\n",
       "      <th>is_numeric</th>\n",
       "      <th>is_string</th>\n",
       "      <th>is_hashable</th>\n",
       "      <th>nan_allowed</th>\n",
       "      <th>mem_usage</th>\n",
       "      <th>ntypes</th>\n",
       "      <th>nunique</th>\n",
       "      <th>nnan</th>\n",
       "      <th>ndups</th>\n",
       "      <th>n</th>\n",
       "      <th>vmin</th>\n",
       "      <th>vmean</th>\n",
       "      <th>vmedian</th>\n",
       "      <th>vmax</th>\n",
       "      <th>vsum</th>\n",
       "    </tr>\n",
       "  </thead>\n",
       "  <tbody>\n",
       "    <tr>\n",
       "      <th>0</th>\n",
       "      <td>__index__</td>\n",
       "      <td>int64</td>\n",
       "      <td>np.int64</td>\n",
       "      <td>int64</td>\n",
       "      <td>np.int32</td>\n",
       "      <td>True</td>\n",
       "      <td>False</td>\n",
       "      <td>True</td>\n",
       "      <td>False</td>\n",
       "      <td>80.0 B</td>\n",
       "      <td>1</td>\n",
       "      <td>841781</td>\n",
       "      <td>0</td>\n",
       "      <td>0</td>\n",
       "      <td>841781</td>\n",
       "      <td>0.0</td>\n",
       "      <td>420890.00</td>\n",
       "      <td>420890.00</td>\n",
       "      <td>841780.0</td>\n",
       "      <td>3.542972e+11</td>\n",
       "    </tr>\n",
       "    <tr>\n",
       "      <th>1</th>\n",
       "      <td>page_id</td>\n",
       "      <td>int32</td>\n",
       "      <td>pd.Int32</td>\n",
       "      <td>Int32</td>\n",
       "      <td></td>\n",
       "      <td>True</td>\n",
       "      <td>False</td>\n",
       "      <td>True</td>\n",
       "      <td>True</td>\n",
       "      <td>50.0 B</td>\n",
       "      <td>1</td>\n",
       "      <td>801769</td>\n",
       "      <td>4544</td>\n",
       "      <td>35468</td>\n",
       "      <td>841781</td>\n",
       "      <td>0.0</td>\n",
       "      <td>622170.35</td>\n",
       "      <td>623179.00</td>\n",
       "      <td>1118318.0</td>\n",
       "      <td>5.209040e+11</td>\n",
       "    </tr>\n",
       "    <tr>\n",
       "      <th>2</th>\n",
       "      <td>page_part</td>\n",
       "      <td>int8</td>\n",
       "      <td>pd.Int8</td>\n",
       "      <td>Int8</td>\n",
       "      <td></td>\n",
       "      <td>True</td>\n",
       "      <td>False</td>\n",
       "      <td>True</td>\n",
       "      <td>True</td>\n",
       "      <td>20.0 B</td>\n",
       "      <td>1</td>\n",
       "      <td>7</td>\n",
       "      <td>4544</td>\n",
       "      <td>837230</td>\n",
       "      <td>841781</td>\n",
       "      <td>0.0</td>\n",
       "      <td>0.04</td>\n",
       "      <td>0.00</td>\n",
       "      <td>6.0</td>\n",
       "      <td>3.743400e+04</td>\n",
       "    </tr>\n",
       "    <tr>\n",
       "      <th>3</th>\n",
       "      <td>section_id2</td>\n",
       "      <td>str</td>\n",
       "      <td>pd.string</td>\n",
       "      <td>string</td>\n",
       "      <td></td>\n",
       "      <td>False</td>\n",
       "      <td>True</td>\n",
       "      <td>True</td>\n",
       "      <td>True</td>\n",
       "      <td>668.0 B</td>\n",
       "      <td>1</td>\n",
       "      <td>840530</td>\n",
       "      <td>0</td>\n",
       "      <td>1251</td>\n",
       "      <td>841781</td>\n",
       "      <td>&amp;c.</td>\n",
       "      <td>NaN</td>\n",
       "      <td>NaN</td>\n",
       "      <td>μm</td>\n",
       "      <td>NaN</td>\n",
       "    </tr>\n",
       "    <tr>\n",
       "      <th>4</th>\n",
       "      <td>title</td>\n",
       "      <td>str</td>\n",
       "      <td>pd.string</td>\n",
       "      <td>string</td>\n",
       "      <td></td>\n",
       "      <td>False</td>\n",
       "      <td>True</td>\n",
       "      <td>True</td>\n",
       "      <td>True</td>\n",
       "      <td>662.0 B</td>\n",
       "      <td>1</td>\n",
       "      <td>804909</td>\n",
       "      <td>0</td>\n",
       "      <td>36872</td>\n",
       "      <td>841781</td>\n",
       "      <td>&amp;c.</td>\n",
       "      <td>NaN</td>\n",
       "      <td>NaN</td>\n",
       "      <td>μm</td>\n",
       "      <td>NaN</td>\n",
       "    </tr>\n",
       "    <tr>\n",
       "      <th>5</th>\n",
       "      <td>lemma</td>\n",
       "      <td>str</td>\n",
       "      <td>pd.string</td>\n",
       "      <td>string</td>\n",
       "      <td></td>\n",
       "      <td>False</td>\n",
       "      <td>True</td>\n",
       "      <td>True</td>\n",
       "      <td>True</td>\n",
       "      <td>656.0 B</td>\n",
       "      <td>1</td>\n",
       "      <td>162555</td>\n",
       "      <td>0</td>\n",
       "      <td>679226</td>\n",
       "      <td>841781</td>\n",
       "      <td>&amp;c.</td>\n",
       "      <td>NaN</td>\n",
       "      <td>NaN</td>\n",
       "      <td>μm</td>\n",
       "      <td>NaN</td>\n",
       "    </tr>\n",
       "    <tr>\n",
       "      <th>6</th>\n",
       "      <td>inflected</td>\n",
       "      <td>bool</td>\n",
       "      <td>object</td>\n",
       "      <td>object</td>\n",
       "      <td></td>\n",
       "      <td>False</td>\n",
       "      <td>True</td>\n",
       "      <td>True</td>\n",
       "      <td>True</td>\n",
       "      <td>340.0 B</td>\n",
       "      <td>1</td>\n",
       "      <td>2</td>\n",
       "      <td>4544</td>\n",
       "      <td>837235</td>\n",
       "      <td>841781</td>\n",
       "      <td>False</td>\n",
       "      <td>NaN</td>\n",
       "      <td>NaN</td>\n",
       "      <td>True</td>\n",
       "      <td>NaN</td>\n",
       "    </tr>\n",
       "    <tr>\n",
       "      <th>7</th>\n",
       "      <td>pos</td>\n",
       "      <td>dict</td>\n",
       "      <td>object</td>\n",
       "      <td>object</td>\n",
       "      <td></td>\n",
       "      <td>False</td>\n",
       "      <td>True</td>\n",
       "      <td>False</td>\n",
       "      <td>True</td>\n",
       "      <td>1.8 KB</td>\n",
       "      <td>1</td>\n",
       "      <td>159</td>\n",
       "      <td>4548</td>\n",
       "      <td>837074</td>\n",
       "      <td>841781</td>\n",
       "      <td>NaN</td>\n",
       "      <td>NaN</td>\n",
       "      <td>NaN</td>\n",
       "      <td>NaN</td>\n",
       "      <td>NaN</td>\n",
       "    </tr>\n",
       "    <tr>\n",
       "      <th>8</th>\n",
       "      <td>tag</td>\n",
       "      <td>str</td>\n",
       "      <td>pd.string</td>\n",
       "      <td>string</td>\n",
       "      <td></td>\n",
       "      <td>False</td>\n",
       "      <td>True</td>\n",
       "      <td>True</td>\n",
       "      <td>True</td>\n",
       "      <td>604.0 B</td>\n",
       "      <td>1</td>\n",
       "      <td>49</td>\n",
       "      <td>0</td>\n",
       "      <td>841732</td>\n",
       "      <td>841781</td>\n",
       "      <td>ADJA</td>\n",
       "      <td>NaN</td>\n",
       "      <td>NaN</td>\n",
       "      <td>ZFIX TRUNC</td>\n",
       "      <td>NaN</td>\n",
       "    </tr>\n",
       "    <tr>\n",
       "      <th>9</th>\n",
       "      <td>tag_0</td>\n",
       "      <td>str</td>\n",
       "      <td>pd.string</td>\n",
       "      <td>string</td>\n",
       "      <td></td>\n",
       "      <td>False</td>\n",
       "      <td>True</td>\n",
       "      <td>True</td>\n",
       "      <td>True</td>\n",
       "      <td>566.0 B</td>\n",
       "      <td>1</td>\n",
       "      <td>29</td>\n",
       "      <td>4544</td>\n",
       "      <td>837208</td>\n",
       "      <td>841781</td>\n",
       "      <td>ADJA</td>\n",
       "      <td>NaN</td>\n",
       "      <td>NaN</td>\n",
       "      <td>ZFIX</td>\n",
       "      <td>NaN</td>\n",
       "    </tr>\n",
       "    <tr>\n",
       "      <th>10</th>\n",
       "      <td>tag_1</td>\n",
       "      <td>str</td>\n",
       "      <td>pd.string</td>\n",
       "      <td>string</td>\n",
       "      <td></td>\n",
       "      <td>False</td>\n",
       "      <td>True</td>\n",
       "      <td>True</td>\n",
       "      <td>True</td>\n",
       "      <td>616.0 B</td>\n",
       "      <td>1</td>\n",
       "      <td>836075</td>\n",
       "      <td>4544</td>\n",
       "      <td>1162</td>\n",
       "      <td>841781</td>\n",
       "      <td>000FdQyvXe</td>\n",
       "      <td>NaN</td>\n",
       "      <td>NaN</td>\n",
       "      <td>zzz6wgGmPz</td>\n",
       "      <td>NaN</td>\n",
       "    </tr>\n",
       "    <tr>\n",
       "      <th>11</th>\n",
       "      <td>tagZ</td>\n",
       "      <td>str</td>\n",
       "      <td>pd.string</td>\n",
       "      <td>string</td>\n",
       "      <td></td>\n",
       "      <td>False</td>\n",
       "      <td>True</td>\n",
       "      <td>True</td>\n",
       "      <td>True</td>\n",
       "      <td>480.0 B</td>\n",
       "      <td>1</td>\n",
       "      <td>17</td>\n",
       "      <td>674230</td>\n",
       "      <td>167534</td>\n",
       "      <td>841781</td>\n",
       "      <td>ADJ</td>\n",
       "      <td>NaN</td>\n",
       "      <td>NaN</td>\n",
       "      <td>X_zahl</td>\n",
       "      <td>NaN</td>\n",
       "    </tr>\n",
       "    <tr>\n",
       "      <th>12</th>\n",
       "      <td>tagZZ</td>\n",
       "      <td>str</td>\n",
       "      <td>pd.string</td>\n",
       "      <td>string</td>\n",
       "      <td></td>\n",
       "      <td>False</td>\n",
       "      <td>True</td>\n",
       "      <td>True</td>\n",
       "      <td>True</td>\n",
       "      <td>540.0 B</td>\n",
       "      <td>1</td>\n",
       "      <td>7</td>\n",
       "      <td>4544</td>\n",
       "      <td>837230</td>\n",
       "      <td>841781</td>\n",
       "      <td></td>\n",
       "      <td>NaN</td>\n",
       "      <td>NaN</td>\n",
       "      <td>Z</td>\n",
       "      <td>NaN</td>\n",
       "    </tr>\n",
       "    <tr>\n",
       "      <th>13</th>\n",
       "      <td>member</td>\n",
       "      <td>str</td>\n",
       "      <td>object</td>\n",
       "      <td>object</td>\n",
       "      <td>pd.string</td>\n",
       "      <td>False</td>\n",
       "      <td>True</td>\n",
       "      <td>True</td>\n",
       "      <td>True</td>\n",
       "      <td>703.0 B</td>\n",
       "      <td>1</td>\n",
       "      <td>158</td>\n",
       "      <td>0</td>\n",
       "      <td>841623</td>\n",
       "      <td>841781</td>\n",
       "      <td></td>\n",
       "      <td>NaN</td>\n",
       "      <td>NaN</td>\n",
       "      <td>Wortverbindung Partikel</td>\n",
       "      <td>NaN</td>\n",
       "    </tr>\n",
       "    <tr>\n",
       "      <th>14</th>\n",
       "      <td>rhymes</td>\n",
       "      <td>list</td>\n",
       "      <td>object</td>\n",
       "      <td>object</td>\n",
       "      <td></td>\n",
       "      <td>False</td>\n",
       "      <td>True</td>\n",
       "      <td>False</td>\n",
       "      <td>True</td>\n",
       "      <td>512.0 B</td>\n",
       "      <td>1</td>\n",
       "      <td>39528</td>\n",
       "      <td>531505</td>\n",
       "      <td>270748</td>\n",
       "      <td>841781</td>\n",
       "      <td>[a]</td>\n",
       "      <td>NaN</td>\n",
       "      <td>NaN</td>\n",
       "      <td>[ʏʃəs, yːʃəs]</td>\n",
       "      <td>NaN</td>\n",
       "    </tr>\n",
       "    <tr>\n",
       "      <th>15</th>\n",
       "      <td>score</td>\n",
       "      <td>float64</td>\n",
       "      <td>pd.Float64</td>\n",
       "      <td>Float64</td>\n",
       "      <td></td>\n",
       "      <td>True</td>\n",
       "      <td>False</td>\n",
       "      <td>True</td>\n",
       "      <td>True</td>\n",
       "      <td>90.0 B</td>\n",
       "      <td>1</td>\n",
       "      <td>13060</td>\n",
       "      <td>0</td>\n",
       "      <td>828721</td>\n",
       "      <td>841781</td>\n",
       "      <td>0.01</td>\n",
       "      <td>2.20</td>\n",
       "      <td>1.01</td>\n",
       "      <td>317.34</td>\n",
       "      <td>1.852239e+06</td>\n",
       "    </tr>\n",
       "    <tr>\n",
       "      <th>16</th>\n",
       "      <td>flexion</td>\n",
       "      <td>defaultdict</td>\n",
       "      <td>object</td>\n",
       "      <td>object</td>\n",
       "      <td></td>\n",
       "      <td>False</td>\n",
       "      <td>True</td>\n",
       "      <td>False</td>\n",
       "      <td>True</td>\n",
       "      <td>2.6 KB</td>\n",
       "      <td>1</td>\n",
       "      <td>127979</td>\n",
       "      <td>0</td>\n",
       "      <td>713802</td>\n",
       "      <td>841781</td>\n",
       "      <td>NaN</td>\n",
       "      <td>NaN</td>\n",
       "      <td>NaN</td>\n",
       "      <td>NaN</td>\n",
       "      <td>NaN</td>\n",
       "    </tr>\n",
       "    <tr>\n",
       "      <th>17</th>\n",
       "      <td>ipa</td>\n",
       "      <td>list</td>\n",
       "      <td>object</td>\n",
       "      <td>object</td>\n",
       "      <td></td>\n",
       "      <td>False</td>\n",
       "      <td>True</td>\n",
       "      <td>False</td>\n",
       "      <td>True</td>\n",
       "      <td>688.0 B</td>\n",
       "      <td>1</td>\n",
       "      <td>774418</td>\n",
       "      <td>18465</td>\n",
       "      <td>48898</td>\n",
       "      <td>841781</td>\n",
       "      <td>[-ant]</td>\n",
       "      <td>NaN</td>\n",
       "      <td>NaN</td>\n",
       "      <td>[θʁɪls]</td>\n",
       "      <td>NaN</td>\n",
       "    </tr>\n",
       "    <tr>\n",
       "      <th>18</th>\n",
       "      <td>syllables</td>\n",
       "      <td>list</td>\n",
       "      <td>object</td>\n",
       "      <td>object</td>\n",
       "      <td></td>\n",
       "      <td>False</td>\n",
       "      <td>True</td>\n",
       "      <td>False</td>\n",
       "      <td>True</td>\n",
       "      <td>960.0 B</td>\n",
       "      <td>1</td>\n",
       "      <td>796062</td>\n",
       "      <td>9436</td>\n",
       "      <td>36283</td>\n",
       "      <td>841781</td>\n",
       "      <td>[02, Li, ter, Fla, sche]</td>\n",
       "      <td>NaN</td>\n",
       "      <td>NaN</td>\n",
       "      <td>[’s, Her, to, gen, boschs]</td>\n",
       "      <td>NaN</td>\n",
       "    </tr>\n",
       "    <tr>\n",
       "      <th>19</th>\n",
       "      <td>lang</td>\n",
       "      <td>str</td>\n",
       "      <td>pd.string</td>\n",
       "      <td>string</td>\n",
       "      <td></td>\n",
       "      <td>False</td>\n",
       "      <td>True</td>\n",
       "      <td>True</td>\n",
       "      <td>True</td>\n",
       "      <td>592.0 B</td>\n",
       "      <td>1</td>\n",
       "      <td>1</td>\n",
       "      <td>4544</td>\n",
       "      <td>837236</td>\n",
       "      <td>841781</td>\n",
       "      <td>Deutsch</td>\n",
       "      <td>NaN</td>\n",
       "      <td>NaN</td>\n",
       "      <td>Deutsch</td>\n",
       "      <td>NaN</td>\n",
       "    </tr>\n",
       "    <tr>\n",
       "      <th>20</th>\n",
       "      <td>lang_code</td>\n",
       "      <td>str</td>\n",
       "      <td>pd.string</td>\n",
       "      <td>string</td>\n",
       "      <td></td>\n",
       "      <td>False</td>\n",
       "      <td>True</td>\n",
       "      <td>True</td>\n",
       "      <td>True</td>\n",
       "      <td>552.0 B</td>\n",
       "      <td>1</td>\n",
       "      <td>1</td>\n",
       "      <td>4544</td>\n",
       "      <td>837236</td>\n",
       "      <td>841781</td>\n",
       "      <td>de</td>\n",
       "      <td>NaN</td>\n",
       "      <td>NaN</td>\n",
       "      <td>de</td>\n",
       "      <td>NaN</td>\n",
       "    </tr>\n",
       "    <tr>\n",
       "      <th>21</th>\n",
       "      <td>error</td>\n",
       "      <td>str</td>\n",
       "      <td>pd.string</td>\n",
       "      <td>string</td>\n",
       "      <td></td>\n",
       "      <td>False</td>\n",
       "      <td>True</td>\n",
       "      <td>True</td>\n",
       "      <td>True</td>\n",
       "      <td>536.0 B</td>\n",
       "      <td>1</td>\n",
       "      <td>1</td>\n",
       "      <td>4544</td>\n",
       "      <td>837236</td>\n",
       "      <td>841781</td>\n",
       "      <td></td>\n",
       "      <td>NaN</td>\n",
       "      <td>NaN</td>\n",
       "      <td></td>\n",
       "      <td>NaN</td>\n",
       "    </tr>\n",
       "    <tr>\n",
       "      <th>22</th>\n",
       "      <td>lemma_lower</td>\n",
       "      <td>str</td>\n",
       "      <td>pd.string</td>\n",
       "      <td>string</td>\n",
       "      <td></td>\n",
       "      <td>False</td>\n",
       "      <td>True</td>\n",
       "      <td>True</td>\n",
       "      <td>True</td>\n",
       "      <td>656.0 B</td>\n",
       "      <td>1</td>\n",
       "      <td>160649</td>\n",
       "      <td>0</td>\n",
       "      <td>681132</td>\n",
       "      <td>841781</td>\n",
       "      <td>&amp;c.</td>\n",
       "      <td>NaN</td>\n",
       "      <td>NaN</td>\n",
       "      <td>μm</td>\n",
       "      <td>NaN</td>\n",
       "    </tr>\n",
       "  </tbody>\n",
       "</table>\n",
       "</div>"
      ],
      "text/plain": [
       "       col_name datatype_instance    datatype datatype_short datatype_suggest  \\\n",
       "0     __index__             int64    np.int64          int64         np.int32   \n",
       "1       page_id             int32    pd.Int32          Int32                    \n",
       "2     page_part              int8     pd.Int8           Int8                    \n",
       "3   section_id2               str   pd.string         string                    \n",
       "4         title               str   pd.string         string                    \n",
       "5         lemma               str   pd.string         string                    \n",
       "6     inflected              bool      object         object                    \n",
       "7           pos              dict      object         object                    \n",
       "8           tag               str   pd.string         string                    \n",
       "9         tag_0               str   pd.string         string                    \n",
       "10        tag_1               str   pd.string         string                    \n",
       "11         tagZ               str   pd.string         string                    \n",
       "12        tagZZ               str   pd.string         string                    \n",
       "13       member               str      object         object        pd.string   \n",
       "14       rhymes              list      object         object                    \n",
       "15        score           float64  pd.Float64        Float64                    \n",
       "16      flexion       defaultdict      object         object                    \n",
       "17          ipa              list      object         object                    \n",
       "18    syllables              list      object         object                    \n",
       "19         lang               str   pd.string         string                    \n",
       "20    lang_code               str   pd.string         string                    \n",
       "21        error               str   pd.string         string                    \n",
       "22  lemma_lower               str   pd.string         string                    \n",
       "\n",
       "    is_numeric  is_string  is_hashable  nan_allowed mem_usage  ntypes  \\\n",
       "0         True      False         True        False    80.0 B       1   \n",
       "1         True      False         True         True    50.0 B       1   \n",
       "2         True      False         True         True    20.0 B       1   \n",
       "3        False       True         True         True   668.0 B       1   \n",
       "4        False       True         True         True   662.0 B       1   \n",
       "5        False       True         True         True   656.0 B       1   \n",
       "6        False       True         True         True   340.0 B       1   \n",
       "7        False       True        False         True    1.8 KB       1   \n",
       "8        False       True         True         True   604.0 B       1   \n",
       "9        False       True         True         True   566.0 B       1   \n",
       "10       False       True         True         True   616.0 B       1   \n",
       "11       False       True         True         True   480.0 B       1   \n",
       "12       False       True         True         True   540.0 B       1   \n",
       "13       False       True         True         True   703.0 B       1   \n",
       "14       False       True        False         True   512.0 B       1   \n",
       "15        True      False         True         True    90.0 B       1   \n",
       "16       False       True        False         True    2.6 KB       1   \n",
       "17       False       True        False         True   688.0 B       1   \n",
       "18       False       True        False         True   960.0 B       1   \n",
       "19       False       True         True         True   592.0 B       1   \n",
       "20       False       True         True         True   552.0 B       1   \n",
       "21       False       True         True         True   536.0 B       1   \n",
       "22       False       True         True         True   656.0 B       1   \n",
       "\n",
       "    nunique    nnan   ndups       n                      vmin      vmean  \\\n",
       "0    841781       0       0  841781                       0.0  420890.00   \n",
       "1    801769    4544   35468  841781                       0.0  622170.35   \n",
       "2         7    4544  837230  841781                       0.0       0.04   \n",
       "3    840530       0    1251  841781                       &c.        NaN   \n",
       "4    804909       0   36872  841781                       &c.        NaN   \n",
       "5    162555       0  679226  841781                       &c.        NaN   \n",
       "6         2    4544  837235  841781                     False        NaN   \n",
       "7       159    4548  837074  841781                       NaN        NaN   \n",
       "8        49       0  841732  841781                      ADJA        NaN   \n",
       "9        29    4544  837208  841781                      ADJA        NaN   \n",
       "10   836075    4544    1162  841781                000FdQyvXe        NaN   \n",
       "11       17  674230  167534  841781                       ADJ        NaN   \n",
       "12        7    4544  837230  841781                                  NaN   \n",
       "13      158       0  841623  841781                                  NaN   \n",
       "14    39528  531505  270748  841781                       [a]        NaN   \n",
       "15    13060       0  828721  841781                      0.01       2.20   \n",
       "16   127979       0  713802  841781                       NaN        NaN   \n",
       "17   774418   18465   48898  841781                    [-ant]        NaN   \n",
       "18   796062    9436   36283  841781  [02, Li, ter, Fla, sche]        NaN   \n",
       "19        1    4544  837236  841781                   Deutsch        NaN   \n",
       "20        1    4544  837236  841781                        de        NaN   \n",
       "21        1    4544  837236  841781                                  NaN   \n",
       "22   160649       0  681132  841781                       &c.        NaN   \n",
       "\n",
       "      vmedian                        vmax          vsum  \n",
       "0   420890.00                    841780.0  3.542972e+11  \n",
       "1   623179.00                   1118318.0  5.209040e+11  \n",
       "2        0.00                         6.0  3.743400e+04  \n",
       "3         NaN                          μm           NaN  \n",
       "4         NaN                          μm           NaN  \n",
       "5         NaN                          μm           NaN  \n",
       "6         NaN                        True           NaN  \n",
       "7         NaN                         NaN           NaN  \n",
       "8         NaN                  ZFIX TRUNC           NaN  \n",
       "9         NaN                        ZFIX           NaN  \n",
       "10        NaN                  zzz6wgGmPz           NaN  \n",
       "11        NaN                      X_zahl           NaN  \n",
       "12        NaN                           Z           NaN  \n",
       "13        NaN     Wortverbindung Partikel           NaN  \n",
       "14        NaN               [ʏʃəs, yːʃəs]           NaN  \n",
       "15       1.01                      317.34  1.852239e+06  \n",
       "16        NaN                         NaN           NaN  \n",
       "17        NaN                     [θʁɪls]           NaN  \n",
       "18        NaN  [’s, Her, to, gen, boschs]           NaN  \n",
       "19        NaN                     Deutsch           NaN  \n",
       "20        NaN                          de           NaN  \n",
       "21        NaN                                       NaN  \n",
       "22        NaN                          μm           NaN  "
      ]
     },
     "execution_count": 169,
     "metadata": {},
     "output_type": "execute_result"
    }
   ],
   "source": [
    "pak.analyse_cols(wiktionary)"
   ]
  },
  {
   "cell_type": "code",
   "execution_count": 170,
   "metadata": {
    "execution": {
     "iopub.execute_input": "2023-02-20T16:26:28.228835Z",
     "iopub.status.busy": "2023-02-20T16:26:28.228524Z",
     "iopub.status.idle": "2023-02-20T16:26:28.298558Z",
     "shell.execute_reply": "2023-02-20T16:26:28.281543Z",
     "shell.execute_reply.started": "2023-02-20T16:26:28.228809Z"
    }
   },
   "outputs": [
    {
     "name": "stdout",
     "output_type": "stream",
     "text": [
      "Stop Time:  17:26:28\n",
      "Elapsed:    17 mins, 57 secs\n"
     ]
    },
    {
     "data": {
      "text/html": [
       "<img src onerror=\"var cell = this.closest('.jp-CodeCell');var editor = cell.querySelector('.jp-Editor');editor.style.background='DarkGray';this.parentNode.removeChild(this)\">"
      ],
      "text/plain": [
       "<IPython.core.display.HTML object>"
      ]
     },
     "metadata": {},
     "output_type": "display_data"
    }
   ],
   "source": [
    "raise Stop"
   ]
  },
  {
   "cell_type": "code",
   "execution_count": null,
   "metadata": {
    "execution": {
     "iopub.status.busy": "2023-02-20T16:26:28.299299Z",
     "iopub.status.idle": "2023-02-20T16:26:28.299681Z",
     "shell.execute_reply": "2023-02-20T16:26:28.299515Z",
     "shell.execute_reply.started": "2023-02-20T16:26:28.299498Z"
    }
   },
   "outputs": [],
   "source": [
    "# anfügen\n",
    "wiktionary = pak.add_rows(wiktionary, lexeme_manuell, assert_subset=True)"
   ]
  },
  {
   "cell_type": "code",
   "execution_count": null,
   "metadata": {
    "execution": {
     "iopub.status.busy": "2023-02-20T16:26:28.300965Z",
     "iopub.status.idle": "2023-02-20T16:26:28.301372Z",
     "shell.execute_reply": "2023-02-20T16:26:28.301208Z",
     "shell.execute_reply.started": "2023-02-20T16:26:28.301189Z"
    }
   },
   "outputs": [],
   "source": [
    "# section_id2 ist jetzt nicht mehr eindeutig\n",
    "mask = wiktionary.duplicated(subset=['section_id2'], keep=False)\n",
    "check_mask(wiktionary,mask,5507) \n",
    "#a = wiktionary[mask].sort_values(['section_id2'])\n",
    "#grid(a)"
   ]
  },
  {
   "cell_type": "code",
   "execution_count": null,
   "metadata": {
    "execution": {
     "iopub.status.busy": "2023-02-20T16:26:28.302984Z",
     "iopub.status.idle": "2023-02-20T16:26:28.303395Z",
     "shell.execute_reply": "2023-02-20T16:26:28.303235Z",
     "shell.execute_reply.started": "2023-02-20T16:26:28.303217Z"
    },
    "tags": []
   },
   "outputs": [],
   "source": [
    "assert pak.ntypes(wiktionary.flexion) == 1"
   ]
  },
  {
   "cell_type": "markdown",
   "metadata": {},
   "source": [
    "## ipa, syllables & rhymes"
   ]
  },
  {
   "cell_type": "code",
   "execution_count": null,
   "metadata": {
    "execution": {
     "iopub.status.busy": "2023-02-20T16:26:28.304057Z",
     "iopub.status.idle": "2023-02-20T16:26:28.304389Z",
     "shell.execute_reply": "2023-02-20T16:26:28.304245Z",
     "shell.execute_reply.started": "2023-02-20T16:26:28.304230Z"
    }
   },
   "outputs": [],
   "source": [
    "# Datentypen sind in jeder Zeile gleich\n",
    "assert pak.ntypes(wiktionary.ipa) == 1\n",
    "assert pak.ntypes(wiktionary.syllables) == 1"
   ]
  },
  {
   "cell_type": "code",
   "execution_count": null,
   "metadata": {
    "execution": {
     "iopub.status.busy": "2023-02-20T16:26:28.305079Z",
     "iopub.status.idle": "2023-02-20T16:26:28.305403Z",
     "shell.execute_reply": "2023-02-20T16:26:28.305266Z",
     "shell.execute_reply.started": "2023-02-20T16:26:28.305251Z"
    }
   },
   "outputs": [],
   "source": [
    "# Listen zu Strings\n",
    "mask = ~wiktionary.ipa.isnull()\n",
    "wiktionary.loc[mask,'ipa'] = wiktionary[mask].ipa.str[0]\n",
    "\n",
    "mask = ~wiktionary.syllables.isnull()\n",
    "wiktionary.loc[mask,'syllables'] = wiktionary[mask].syllables.str.join('⇀')\n",
    "\n",
    "mask = ~wiktionary.rhymes.isnull()\n",
    "wiktionary.loc[mask,'rhymes'] = wiktionary[mask].rhymes.str[0]"
   ]
  },
  {
   "cell_type": "code",
   "execution_count": null,
   "metadata": {
    "execution": {
     "iopub.status.busy": "2023-02-20T16:26:28.305911Z",
     "iopub.status.idle": "2023-02-20T16:26:28.306167Z",
     "shell.execute_reply": "2023-02-20T16:26:28.306050Z",
     "shell.execute_reply.started": "2023-02-20T16:26:28.306037Z"
    }
   },
   "outputs": [],
   "source": [
    "# cols_to_defaultdict\n",
    "# 1 min\n",
    "wiktionary = pak.cols_to_defaultdict( wiktionary, col_dict='flexion', cols_add=['ipa','syllables','rhymes']  )"
   ]
  },
  {
   "cell_type": "code",
   "execution_count": null,
   "metadata": {
    "execution": {
     "iopub.status.busy": "2023-02-20T16:26:28.306629Z",
     "iopub.status.idle": "2023-02-20T16:26:28.306882Z",
     "shell.execute_reply": "2023-02-20T16:26:28.306763Z",
     "shell.execute_reply.started": "2023-02-20T16:26:28.306750Z"
    }
   },
   "outputs": [],
   "source": [
    "# wiktionary anschauen\n",
    "#grid(wiktionary, pak.sample)"
   ]
  },
  {
   "cell_type": "markdown",
   "metadata": {},
   "source": [
    "## flexion nach wiktionary_merkmal exploden\n",
    "* braucht viel RAM\n",
    "* hiernach muss die löschliste nochmal angewendet werden"
   ]
  },
  {
   "cell_type": "code",
   "execution_count": null,
   "metadata": {
    "execution": {
     "iopub.status.busy": "2023-02-20T16:26:28.307335Z",
     "iopub.status.idle": "2023-02-20T16:26:28.308561Z",
     "shell.execute_reply": "2023-02-20T16:26:28.307945Z",
     "shell.execute_reply.started": "2023-02-20T16:26:28.307925Z"
    },
    "tags": []
   },
   "outputs": [],
   "source": [
    "# flexion: vorbereiten\n",
    "# 5 min\n",
    "mask1 = wiktionary.flexion.notnull() \n",
    "mask2 = wiktionary.flexion != {}\n",
    "mask3 = wiktionary.flexion != defaultdict(list)\n",
    "mask = mask1  &  mask2  &  mask3 \n",
    "\n",
    "spalten = ['section_id2','flexion']\n",
    "df = pak.explode_dict(wiktionary[spalten][mask], col_dict='flexion', col_key='node_kontext', col_value='data', from_defaultdict=True)\n",
    "df['merkmal'] = 'flexion'"
   ]
  },
  {
   "cell_type": "code",
   "execution_count": null,
   "metadata": {
    "execution": {
     "iopub.status.busy": "2023-02-20T16:26:28.309470Z",
     "iopub.status.idle": "2023-02-20T16:26:28.309795Z",
     "shell.execute_reply": "2023-02-20T16:26:28.309659Z",
     "shell.execute_reply.started": "2023-02-20T16:26:28.309645Z"
    }
   },
   "outputs": [],
   "source": [
    "# Beispiel anschauen\n",
    "mask = df.section_id2 == suche_debug[0]\n",
    "grid(df,mask)"
   ]
  },
  {
   "cell_type": "code",
   "execution_count": null,
   "metadata": {
    "execution": {
     "iopub.status.busy": "2023-02-20T16:26:28.310307Z",
     "iopub.status.idle": "2023-02-20T16:26:28.310579Z",
     "shell.execute_reply": "2023-02-20T16:26:28.310453Z",
     "shell.execute_reply.started": "2023-02-20T16:26:28.310440Z"
    }
   },
   "outputs": [],
   "source": [
    "#bpy.minivenn(wiktionary_merkmal.columns, df.columns)"
   ]
  },
  {
   "cell_type": "code",
   "execution_count": null,
   "metadata": {
    "execution": {
     "iopub.status.busy": "2023-02-20T16:26:28.313726Z",
     "iopub.status.idle": "2023-02-20T16:26:28.314160Z",
     "shell.execute_reply": "2023-02-20T16:26:28.313990Z",
     "shell.execute_reply.started": "2023-02-20T16:26:28.313971Z"
    }
   },
   "outputs": [],
   "source": [
    "# an wiktionary_merkmal anfügen\n",
    "wiktionary_merkmal = pak.add_rows(wiktionary_merkmal, df, assert_subset=True)\n",
    "wiktionary   = pak.drop_cols(wiktionary, ['flexion'])  "
   ]
  },
  {
   "cell_type": "code",
   "execution_count": null,
   "metadata": {
    "execution": {
     "iopub.status.busy": "2023-02-20T16:26:28.320471Z",
     "iopub.status.idle": "2023-02-20T16:26:28.321221Z",
     "shell.execute_reply": "2023-02-20T16:26:28.320905Z",
     "shell.execute_reply.started": "2023-02-20T16:26:28.320869Z"
    },
    "tags": []
   },
   "outputs": [],
   "source": [
    "# Beispiel anschauen\n",
    "mask = wiktionary_merkmal.section_id2.isin(suche_debug)\n",
    "#grid(wiktionary_merkmal,mask)"
   ]
  },
  {
   "cell_type": "markdown",
   "metadata": {},
   "source": [
    "## wiktionary in 3 Teile aufteilen"
   ]
  },
  {
   "cell_type": "code",
   "execution_count": null,
   "metadata": {
    "execution": {
     "iopub.status.busy": "2023-02-20T16:26:28.323666Z",
     "iopub.status.idle": "2023-02-20T16:26:28.323977Z",
     "shell.execute_reply": "2023-02-20T16:26:28.323851Z",
     "shell.execute_reply.started": "2023-02-20T16:26:28.323837Z"
    },
    "tags": []
   },
   "outputs": [],
   "source": [
    "# suche_debug \n",
    "mask = wiktionary.title.isin(suche_debug)\n",
    "grid(wiktionary[mask].sort_values(['section_id2',]))"
   ]
  },
  {
   "cell_type": "code",
   "execution_count": null,
   "metadata": {
    "execution": {
     "iopub.status.busy": "2023-02-20T16:26:28.329104Z",
     "iopub.status.idle": "2023-02-20T16:26:28.329448Z",
     "shell.execute_reply": "2023-02-20T16:26:28.329310Z",
     "shell.execute_reply.started": "2023-02-20T16:26:28.329296Z"
    },
    "tags": []
   },
   "outputs": [],
   "source": [
    "# pflege_tag_felder (zur Sicherheit noch mal)\n",
    "wiktionary = pflege_tag_felder(wiktionary, translate_tagZ)"
   ]
  },
  {
   "cell_type": "code",
   "execution_count": null,
   "metadata": {
    "execution": {
     "iopub.status.busy": "2023-02-20T16:26:28.330344Z",
     "iopub.status.idle": "2023-02-20T16:26:28.331037Z",
     "shell.execute_reply": "2023-02-20T16:26:28.330891Z",
     "shell.execute_reply.started": "2023-02-20T16:26:28.330873Z"
    },
    "tags": []
   },
   "outputs": [],
   "source": [
    "# LEX-Kennzeichnung sollte eineindeutig sein, außer bei FIX\n",
    "mask1 =  wiktionary.tag.str.contains('LEX_')   \n",
    "mask2 =  wiktionary.tag.str.contains(' ')\n",
    "mask3 = ~wiktionary.tag.str.contains('FIX')\n",
    "mask = mask1  &  mask2  &  mask3\n",
    "check_mask(wiktionary,mask, 0)"
   ]
  },
  {
   "cell_type": "markdown",
   "metadata": {},
   "source": [
    "### wiktionary_partizip\n",
    "* Enthält Partizipien in Form von Partizipialadjektiven\n",
    "* Aber keine Verben mit Partizip-Lexem!"
   ]
  },
  {
   "cell_type": "code",
   "execution_count": null,
   "metadata": {
    "execution": {
     "iopub.status.busy": "2023-02-20T16:26:28.331774Z",
     "iopub.status.idle": "2023-02-20T16:26:28.332396Z",
     "shell.execute_reply": "2023-02-20T16:26:28.332257Z",
     "shell.execute_reply.started": "2023-02-20T16:26:28.332240Z"
    },
    "tags": []
   },
   "outputs": [],
   "source": [
    "# Partizipien nach wiktionary_partizip abspalten\n",
    "mask1 = wiktionary.tag == 'ADJA'\n",
    "mask2 = wiktionary.member.str.contains('Ptz')  \n",
    "mask = mask1  &  mask2\n",
    "wiktionary, wiktionary_partizip = pak.move_rows( wiktionary, mask, msg=None )  "
   ]
  },
  {
   "cell_type": "code",
   "execution_count": null,
   "metadata": {
    "execution": {
     "iopub.status.busy": "2023-02-20T16:26:28.333165Z",
     "iopub.status.idle": "2023-02-20T16:26:28.333923Z",
     "shell.execute_reply": "2023-02-20T16:26:28.333749Z",
     "shell.execute_reply.started": "2023-02-20T16:26:28.333727Z"
    },
    "tags": []
   },
   "outputs": [],
   "source": [
    "## verblieben in wiktionary\n",
    "mask1 = (wiktionary.lemma == wiktionary.title)  \n",
    "mask2 = wiktionary.lemma.isin(suche_debug) \n",
    "mask = mask1 & mask2\n",
    "wiktionary[mask]"
   ]
  },
  {
   "cell_type": "code",
   "execution_count": null,
   "metadata": {
    "execution": {
     "iopub.status.busy": "2023-02-20T16:26:28.334743Z",
     "iopub.status.idle": "2023-02-20T16:26:28.335358Z",
     "shell.execute_reply": "2023-02-20T16:26:28.335225Z",
     "shell.execute_reply.started": "2023-02-20T16:26:28.335208Z"
    },
    "tags": []
   },
   "outputs": [],
   "source": [
    "## jetzt in wiktionary_partizip\n",
    "mask = wiktionary_partizip.lemma.isin(suche_debug) \n",
    "wiktionary_partizip[mask]"
   ]
  },
  {
   "cell_type": "code",
   "execution_count": null,
   "metadata": {
    "execution": {
     "iopub.status.busy": "2023-02-20T16:26:28.336044Z",
     "iopub.status.idle": "2023-02-20T16:26:28.336741Z",
     "shell.execute_reply": "2023-02-20T16:26:28.336581Z",
     "shell.execute_reply.started": "2023-02-20T16:26:28.336562Z"
    },
    "tags": []
   },
   "outputs": [],
   "source": [
    "mask1 = wiktionary.tag == 'ADJA'\n",
    "mask2 = wiktionary.lemma.isin(wiktionary_partizip.lemma) \n",
    "mask = mask1  &  mask2\n",
    "pak.sample(wiktionary[mask])\n",
    "#gridt(wiktionary,mask)"
   ]
  },
  {
   "cell_type": "markdown",
   "metadata": {},
   "source": [
    "### wiktionary_nolemma"
   ]
  },
  {
   "cell_type": "code",
   "execution_count": null,
   "metadata": {
    "execution": {
     "iopub.status.busy": "2023-02-20T16:26:28.337695Z",
     "iopub.status.idle": "2023-02-20T16:26:28.338396Z",
     "shell.execute_reply": "2023-02-20T16:26:28.338235Z",
     "shell.execute_reply.started": "2023-02-20T16:26:28.338215Z"
    },
    "tags": []
   },
   "outputs": [],
   "source": [
    "pak.analyse_cols(wiktionary)"
   ]
  },
  {
   "cell_type": "code",
   "execution_count": null,
   "metadata": {
    "execution": {
     "iopub.status.busy": "2023-02-20T16:26:28.339241Z",
     "iopub.status.idle": "2023-02-20T16:26:28.340023Z",
     "shell.execute_reply": "2023-02-20T16:26:28.339846Z",
     "shell.execute_reply.started": "2023-02-20T16:26:28.339823Z"
    }
   },
   "outputs": [],
   "source": [
    "raise Stop"
   ]
  },
  {
   "cell_type": "code",
   "execution_count": null,
   "metadata": {
    "execution": {
     "iopub.status.busy": "2023-02-20T16:26:28.340878Z",
     "iopub.status.idle": "2023-02-20T16:26:28.341644Z",
     "shell.execute_reply": "2023-02-20T16:26:28.341496Z",
     "shell.execute_reply.started": "2023-02-20T16:26:28.341477Z"
    },
    "tags": []
   },
   "outputs": [],
   "source": [
    "wiktionary_nolemma       = wiktionary.head(0)\n",
    "wiktionary_nolemma_trash = wiktionary.head(0)"
   ]
  },
  {
   "cell_type": "code",
   "execution_count": null,
   "metadata": {
    "execution": {
     "iopub.status.busy": "2023-02-20T16:26:28.342453Z",
     "iopub.status.idle": "2023-02-20T16:26:28.342743Z",
     "shell.execute_reply": "2023-02-20T16:26:28.342619Z",
     "shell.execute_reply.started": "2023-02-20T16:26:28.342605Z"
    },
    "tags": []
   },
   "outputs": [],
   "source": [
    "# LEX-Datensätze nach wiktionary_nolemma verschieben\n",
    "mask = wiktionary.tag.str.contains('LEX_')    \n",
    "check_mask(wiktionary,mask,639734)\n",
    "wiktionary, wiktionary_nolemma = pak.move_rows( df_from=wiktionary, df_to=wiktionary_nolemma, mask=mask, msg='tag_LEX' )  "
   ]
  },
  {
   "cell_type": "code",
   "execution_count": null,
   "metadata": {
    "execution": {
     "iopub.status.busy": "2023-02-20T16:26:28.343726Z",
     "iopub.status.idle": "2023-02-20T16:26:28.344381Z",
     "shell.execute_reply": "2023-02-20T16:26:28.344235Z",
     "shell.execute_reply.started": "2023-02-20T16:26:28.344217Z"
    },
    "tags": []
   },
   "outputs": [],
   "source": [
    "# auch nach wiktionary_nolemma verschieben\n",
    "mask = wiktionary.member.str.contains('Deklinierte_Form')   # 2 Datensätze\n",
    "check_mask(wiktionary, mask, 0, 10)\n",
    "wiktionary, wiktionary_nolemma = pak.move_rows( df_from=wiktionary, df_to=wiktionary_nolemma, mask=mask, msg='member_Deklinierte_Form' )  "
   ]
  },
  {
   "cell_type": "code",
   "execution_count": null,
   "metadata": {
    "execution": {
     "iopub.status.busy": "2023-02-20T16:26:28.345167Z",
     "iopub.status.idle": "2023-02-20T16:26:28.345821Z",
     "shell.execute_reply": "2023-02-20T16:26:28.345681Z",
     "shell.execute_reply.started": "2023-02-20T16:26:28.345664Z"
    }
   },
   "outputs": [],
   "source": [
    "# auch nach wiktionary_nolemma verschieben\n",
    "mask = (wiktionary.title != wiktionary.lemma)               # Es waren mal 10 Datensätze, jetzt sind es 5501\n",
    "check_mask(wiktionary, mask, 10)\n",
    "wiktionary, wiktionary_nolemma = pak.move_rows( df_from=wiktionary, df_to=wiktionary_nolemma, mask=mask, msg='title_ungleich_lemma' )  "
   ]
  },
  {
   "cell_type": "code",
   "execution_count": null,
   "metadata": {
    "execution": {
     "iopub.status.busy": "2023-02-20T16:26:28.346569Z",
     "iopub.status.idle": "2023-02-20T16:26:28.347209Z",
     "shell.execute_reply": "2023-02-20T16:26:28.347066Z",
     "shell.execute_reply.started": "2023-02-20T16:26:28.347049Z"
    },
    "tags": []
   },
   "outputs": [],
   "source": [
    "# wiktionary suche_debug\n",
    "#grid(search_str(wiktionary_nolemma, suche_debug))"
   ]
  },
  {
   "cell_type": "code",
   "execution_count": null,
   "metadata": {
    "execution": {
     "iopub.status.busy": "2023-02-20T16:26:28.347976Z",
     "iopub.status.idle": "2023-02-20T16:26:28.348803Z",
     "shell.execute_reply": "2023-02-20T16:26:28.348606Z",
     "shell.execute_reply.started": "2023-02-20T16:26:28.348583Z"
    }
   },
   "outputs": [],
   "source": [
    "# wiktionary_nolemma: Spalten pflegen\n",
    "wiktionary_nolemma = pak.rename_col(wiktionary_nolemma, 'title', 'lex')\n",
    "wiktionary_nolemma = pak.rename_col(wiktionary_nolemma, 'section_id2','nolemma_id')\n",
    "wiktionary_nolemma = pak.drop_cols(wiktionary_nolemma, ['pos','tag_anz','ipa','syllables','msg','page_id','page_part','inflected','rhymes'])\n",
    "#wiktionary_nolemma = pak.rename_col( wiktionary_nolemma, 'tag_0', 'tag') # Jetzt gibt es definitiv keine Mehrfachtags mehr"
   ]
  },
  {
   "cell_type": "code",
   "execution_count": null,
   "metadata": {
    "execution": {
     "iopub.status.busy": "2023-02-20T16:26:28.349731Z",
     "iopub.status.idle": "2023-02-20T16:26:28.350452Z",
     "shell.execute_reply": "2023-02-20T16:26:28.350307Z",
     "shell.execute_reply.started": "2023-02-20T16:26:28.350290Z"
    }
   },
   "outputs": [],
   "source": [
    "# anschauen\n",
    "pak.sample(wiktionary_nolemma)"
   ]
  },
  {
   "cell_type": "markdown",
   "metadata": {},
   "source": [
    "### wiktionary_lemma"
   ]
  },
  {
   "cell_type": "code",
   "execution_count": null,
   "metadata": {
    "execution": {
     "iopub.status.busy": "2023-02-20T16:26:28.351267Z",
     "iopub.status.idle": "2023-02-20T16:26:28.352095Z",
     "shell.execute_reply": "2023-02-20T16:26:28.351906Z",
     "shell.execute_reply.started": "2023-02-20T16:26:28.351883Z"
    }
   },
   "outputs": [],
   "source": [
    "# wiktionary_lemma: erstellen und Spalten pflegen\n",
    "wiktionary_lemma       = pak.drop_cols(wiktionary, ['title','pos'])\n",
    "wiktionary_lemma_trash = wiktionary_lemma.head(0)"
   ]
  },
  {
   "cell_type": "code",
   "execution_count": null,
   "metadata": {
    "execution": {
     "iopub.status.busy": "2023-02-20T16:26:28.353153Z",
     "iopub.status.idle": "2023-02-20T16:26:28.355099Z",
     "shell.execute_reply": "2023-02-20T16:26:28.353859Z",
     "shell.execute_reply.started": "2023-02-20T16:26:28.353835Z"
    }
   },
   "outputs": [],
   "source": [
    "#del wiktionary"
   ]
  },
  {
   "cell_type": "code",
   "execution_count": null,
   "metadata": {
    "execution": {
     "iopub.status.busy": "2023-02-20T16:26:28.356127Z",
     "iopub.status.idle": "2023-02-20T16:26:28.357009Z",
     "shell.execute_reply": "2023-02-20T16:26:28.356841Z",
     "shell.execute_reply.started": "2023-02-20T16:26:28.356819Z"
    }
   },
   "outputs": [],
   "source": [
    "# wiktionary_lemma suche_debug\n",
    "grid(search_str(wiktionary_lemma, suche_debug))"
   ]
  },
  {
   "cell_type": "code",
   "execution_count": null,
   "metadata": {
    "execution": {
     "iopub.status.busy": "2023-02-20T16:26:28.357823Z",
     "iopub.status.idle": "2023-02-20T16:26:28.358471Z",
     "shell.execute_reply": "2023-02-20T16:26:28.358331Z",
     "shell.execute_reply.started": "2023-02-20T16:26:28.358315Z"
    }
   },
   "outputs": [],
   "source": [
    "raise Stop"
   ]
  },
  {
   "cell_type": "markdown",
   "metadata": {},
   "source": [
    "## Partizipien\n",
    "Die Partizipien werden<br> \n",
    "a) an wiktionary_merkmal angefügt (als Partizip-Flexion des Verbs)<br> \n",
    "b) an wiktionary_lemma angefügt   (als Adjektiv mit member Partizip)\n",
    "\n",
    "Danach findet sich alles aus wiktionary in wiktionary_lemma und wiktionary_nolemma"
   ]
  },
  {
   "cell_type": "markdown",
   "metadata": {},
   "source": [
    "### wiktionary_partizip pflegen"
   ]
  },
  {
   "cell_type": "code",
   "execution_count": null,
   "metadata": {
    "execution": {
     "iopub.status.busy": "2023-02-20T16:26:28.359224Z",
     "iopub.status.idle": "2023-02-20T16:26:28.359881Z",
     "shell.execute_reply": "2023-02-20T16:26:28.359739Z",
     "shell.execute_reply.started": "2023-02-20T16:26:28.359722Z"
    }
   },
   "outputs": [],
   "source": [
    "# rename_col\n",
    "wiktionary_partizip = pak.rename_col(wiktionary_partizip,  'section_id2', 'adjektiv_id' )\n",
    "wiktionary_partizip = pak.rename_col(wiktionary_partizip,  'title',       'adjektiv'    )\n",
    "wiktionary_partizip = pak.rename_col(wiktionary_partizip,  'lemma',       'verb'        )\n",
    "\n",
    "#wiktionary_partizip = pak.move_cols(wiktionary_partizip,'verb_lower','verb')"
   ]
  },
  {
   "cell_type": "code",
   "execution_count": null,
   "metadata": {
    "execution": {
     "iopub.status.busy": "2023-02-20T16:26:28.360843Z",
     "iopub.status.idle": "2023-02-20T16:26:28.361201Z",
     "shell.execute_reply": "2023-02-20T16:26:28.361052Z",
     "shell.execute_reply.started": "2023-02-20T16:26:28.361037Z"
    }
   },
   "outputs": [],
   "source": [
    "# drop_cols\n",
    "lösche_spalten = ['pos','error','lang','lang_code','lemma_lower','inflected','tag_0','tag_1']\n",
    "wiktionary_partizip = pak.drop_cols(wiktionary_partizip,lösche_spalten)"
   ]
  },
  {
   "cell_type": "code",
   "execution_count": null,
   "metadata": {
    "execution": {
     "iopub.status.busy": "2023-02-20T16:26:28.362708Z",
     "iopub.status.idle": "2023-02-20T16:26:28.363766Z",
     "shell.execute_reply": "2023-02-20T16:26:28.363560Z",
     "shell.execute_reply.started": "2023-02-20T16:26:28.363534Z"
    }
   },
   "outputs": [],
   "source": [
    "# change_datatype\n",
    "wiktionary_partizip = pak.change_datatype(wiktionary_partizip)"
   ]
  },
  {
   "cell_type": "code",
   "execution_count": null,
   "metadata": {
    "execution": {
     "iopub.status.busy": "2023-02-20T16:26:28.364737Z",
     "iopub.status.idle": "2023-02-20T16:26:28.365104Z",
     "shell.execute_reply": "2023-02-20T16:26:28.364953Z",
     "shell.execute_reply.started": "2023-02-20T16:26:28.364938Z"
    }
   },
   "outputs": [],
   "source": [
    "# falsche Partizipien löschen\n",
    "falsche_partizipien = ['sehen','hören','wollen','lassen','mögen','sollen',]\n",
    "mask = wiktionary_partizip.adjektiv.isin(falsche_partizipien) \n",
    "check_mask(wiktionary_partizip, mask, 0, 6)\n",
    "wiktionary_partizip, df = pak.move_rows(wiktionary_partizip, mask)\n",
    "df"
   ]
  },
  {
   "cell_type": "code",
   "execution_count": null,
   "metadata": {
    "execution": {
     "iopub.status.busy": "2023-02-20T16:26:28.366842Z",
     "iopub.status.idle": "2023-02-20T16:26:28.367231Z",
     "shell.execute_reply": "2023-02-20T16:26:28.367073Z",
     "shell.execute_reply.started": "2023-02-20T16:26:28.367057Z"
    }
   },
   "outputs": [],
   "source": [
    "#grid(wiktionary_partizip)"
   ]
  },
  {
   "cell_type": "code",
   "execution_count": null,
   "metadata": {
    "execution": {
     "iopub.status.busy": "2023-02-20T16:26:28.368342Z",
     "iopub.status.idle": "2023-02-20T16:26:28.369041Z",
     "shell.execute_reply": "2023-02-20T16:26:28.368896Z",
     "shell.execute_reply.started": "2023-02-20T16:26:28.368877Z"
    }
   },
   "outputs": [],
   "source": [
    "# wiktionary suche_debug\n",
    "grid(search_str(wiktionary_partizip, suche_debug))"
   ]
  },
  {
   "cell_type": "code",
   "execution_count": null,
   "metadata": {
    "execution": {
     "iopub.status.busy": "2023-02-20T16:26:28.370002Z",
     "iopub.status.idle": "2023-02-20T16:26:28.370311Z",
     "shell.execute_reply": "2023-02-20T16:26:28.370180Z",
     "shell.execute_reply.started": "2023-02-20T16:26:28.370165Z"
    }
   },
   "outputs": [],
   "source": [
    "# So sehen normale Partizipien 1 aus\n",
    "mask1 = wiktionary_partizip.verb.str.endswith(verbendungen)\n",
    "mask2 = wiktionary_partizip.member.str.contains('Ptz1')\n",
    "mask = mask1 & mask2\n",
    "grid(wiktionary_partizip,mask)"
   ]
  },
  {
   "cell_type": "code",
   "execution_count": null,
   "metadata": {
    "execution": {
     "iopub.status.busy": "2023-02-20T16:26:28.371326Z",
     "iopub.status.idle": "2023-02-20T16:26:28.371981Z",
     "shell.execute_reply": "2023-02-20T16:26:28.371840Z",
     "shell.execute_reply.started": "2023-02-20T16:26:28.371822Z"
    }
   },
   "outputs": [],
   "source": [
    "# Dies sind kaputte Partizipien 1: Das verb ist falsch, kann aber leicht korrigiert werden\n",
    "mask1 = ~wiktionary_partizip.verb.str.endswith(verbendungen)\n",
    "mask2 =  wiktionary_partizip.member.str.contains('Ptz1')\n",
    "mask3 =  wiktionary_partizip.adjektiv == wiktionary_partizip.verb\n",
    "mask4 =  wiktionary_partizip.verb.str.endswith(('end','ernd'))\n",
    "mask = mask1  &  mask2  &  mask3  &  mask4\n",
    "\n",
    "wiktionary_partizip.loc[mask,'verb'] = wiktionary_partizip[mask].verb.str[:-1]\n",
    "grid(wiktionary_partizip,mask)"
   ]
  },
  {
   "cell_type": "code",
   "execution_count": null,
   "metadata": {
    "execution": {
     "iopub.status.busy": "2023-02-20T16:26:28.372764Z",
     "iopub.status.idle": "2023-02-20T16:26:28.373051Z",
     "shell.execute_reply": "2023-02-20T16:26:28.372927Z",
     "shell.execute_reply.started": "2023-02-20T16:26:28.372914Z"
    }
   },
   "outputs": [],
   "source": [
    "# So sehen normale Partizipien 2 aus\n",
    "mask1 = wiktionary_partizip.verb.str.endswith(verbendungen)\n",
    "mask2 = wiktionary_partizip.member.str.contains('Ptz2')\n",
    "mask = mask1 & mask2\n",
    "grid(wiktionary_partizip,mask)"
   ]
  },
  {
   "cell_type": "code",
   "execution_count": null,
   "metadata": {
    "execution": {
     "iopub.status.busy": "2023-02-20T16:26:28.374193Z",
     "iopub.status.idle": "2023-02-20T16:26:28.375909Z",
     "shell.execute_reply": "2023-02-20T16:26:28.375579Z",
     "shell.execute_reply.started": "2023-02-20T16:26:28.375551Z"
    }
   },
   "outputs": [],
   "source": [
    "# Dies sind kaputte Partizipien 2: Das verb ist falsch, kann auch nicht gut korrigiert werden.\n",
    "mask1 = ~wiktionary_partizip.verb.str.endswith(verbendungen)\n",
    "mask2 = wiktionary_partizip.member.str.contains('Ptz2')\n",
    "mask3 = wiktionary_partizip.adjektiv == wiktionary_partizip.verb\n",
    "mask4 = wiktionary_partizip.verb.str.endswith('t')\n",
    "mask = mask1  &  mask2  &  mask3  &  mask4\n",
    "grid(wiktionary_partizip,mask)"
   ]
  },
  {
   "cell_type": "code",
   "execution_count": null,
   "metadata": {
    "execution": {
     "iopub.status.busy": "2023-02-20T16:26:28.376862Z",
     "iopub.status.idle": "2023-02-20T16:26:28.377573Z",
     "shell.execute_reply": "2023-02-20T16:26:28.377427Z",
     "shell.execute_reply.started": "2023-02-20T16:26:28.377409Z"
    }
   },
   "outputs": [],
   "source": [
    "# Kaputte Partizipien 2 löschen\n",
    "check_mask(wiktionary_partizip,mask,0,10)\n",
    "wiktionary_partizip = pak.drop_rows(wiktionary_partizip,mask)"
   ]
  },
  {
   "cell_type": "code",
   "execution_count": null,
   "metadata": {
    "execution": {
     "iopub.status.busy": "2023-02-20T16:26:28.378328Z",
     "iopub.status.idle": "2023-02-20T16:26:28.378996Z",
     "shell.execute_reply": "2023-02-20T16:26:28.378852Z",
     "shell.execute_reply.started": "2023-02-20T16:26:28.378835Z"
    }
   },
   "outputs": [],
   "source": [
    "# Gibt es weitere kaputte Partizipien?\n",
    "mask = ~wiktionary_partizip.verb.str.endswith(verbendungen)\n",
    "check_mask(wiktionary_partizip,mask,0)\n",
    "#grid(wiktionary_partizip,mask)"
   ]
  },
  {
   "cell_type": "code",
   "execution_count": null,
   "metadata": {
    "execution": {
     "iopub.status.busy": "2023-02-20T16:26:28.379776Z",
     "iopub.status.idle": "2023-02-20T16:26:28.380431Z",
     "shell.execute_reply": "2023-02-20T16:26:28.380287Z",
     "shell.execute_reply.started": "2023-02-20T16:26:28.380270Z"
    }
   },
   "outputs": [],
   "source": [
    "# Wenn es verb nicht auch als Wort gibt, dann ist das Müll und kann weg.\n",
    "# Wenn man das nicht will: Als Partizipien in lexeme_manuell aufnehmen!\n",
    "\n",
    "mask = ~wiktionary_partizip.verb.isin(wiktionary_lemma.lemma)\n",
    "check_mask(wiktionary_partizip,mask,0,10)\n",
    "wiktionary_partizip,df = pak.move_rows(wiktionary_partizip,mask)\n",
    "df"
   ]
  },
  {
   "cell_type": "code",
   "execution_count": null,
   "metadata": {
    "execution": {
     "iopub.status.busy": "2023-02-20T16:26:28.381190Z",
     "iopub.status.idle": "2023-02-20T16:26:28.381835Z",
     "shell.execute_reply": "2023-02-20T16:26:28.381692Z",
     "shell.execute_reply.started": "2023-02-20T16:26:28.381674Z"
    }
   },
   "outputs": [],
   "source": [
    "mask = wiktionary_lemma.tagZZ == 'V'\n",
    "pak.analyse_freqs( wiktionary_lemma[mask], ['tag', 'member'])\n",
    "#wiktionary_lemma[mask]"
   ]
  },
  {
   "cell_type": "code",
   "execution_count": null,
   "metadata": {
    "execution": {
     "iopub.status.busy": "2023-02-20T16:26:28.382584Z",
     "iopub.status.idle": "2023-02-20T16:26:28.383219Z",
     "shell.execute_reply": "2023-02-20T16:26:28.383081Z",
     "shell.execute_reply.started": "2023-02-20T16:26:28.383064Z"
    }
   },
   "outputs": [],
   "source": [
    "# verb_id ermitteln\n",
    "mask = wiktionary_lemma.tagZZ == 'V'\n",
    "wiktionary_partizip = pak.update_col( wiktionary_partizip,  wiktionary_lemma[mask], \n",
    "                                      left_on='verb',       right_on='lemma', \n",
    "                                      col_rename='verb_id', col='section_id2',    \n",
    "                                                            col_score='score' \n",
    "                                    )\n",
    "wiktionary_partizip = pak.move_cols(wiktionary_partizip, 'verb_id','adjektiv')"
   ]
  },
  {
   "cell_type": "code",
   "execution_count": null,
   "metadata": {
    "execution": {
     "iopub.status.busy": "2023-02-20T16:26:28.383954Z",
     "iopub.status.idle": "2023-02-20T16:26:28.384620Z",
     "shell.execute_reply": "2023-02-20T16:26:28.384475Z",
     "shell.execute_reply.started": "2023-02-20T16:26:28.384442Z"
    }
   },
   "outputs": [],
   "source": [
    "# keine verb_id? Dann ist das Müll und kann weg.\n",
    "# Wenn man das nicht will: Als Partizipien in lexeme_manuell aufnehmen!\n",
    "\n",
    "mask = wiktionary_partizip.verb_id.isnull()\n",
    "check_mask(wiktionary_partizip,mask,0,5)\n",
    "wiktionary_partizip,df = pak.move_rows(wiktionary_partizip,mask)\n",
    "df"
   ]
  },
  {
   "cell_type": "code",
   "execution_count": null,
   "metadata": {
    "execution": {
     "iopub.status.busy": "2023-02-20T16:26:28.385483Z",
     "iopub.status.idle": "2023-02-20T16:26:28.386261Z",
     "shell.execute_reply": "2023-02-20T16:26:28.386094Z",
     "shell.execute_reply.started": "2023-02-20T16:26:28.386073Z"
    }
   },
   "outputs": [],
   "source": [
    "# member pflegen. Enthält danach genau Ptz1 x-oder Ptz2.\n",
    "wiktionary_partizip['member'] = pak.remove_str(wiktionary_partizip.member,['Adjektiv','Wortverbindung'])\n",
    "mask = ~wiktionary_partizip.member.isin(['Ptz1','Ptz2'])\n",
    "check_mask(wiktionary_partizip,mask,0)\n",
    "mask = wiktionary_partizip.member.isnull()  |  (wiktionary_partizip.member=='')\n",
    "check_mask(wiktionary_partizip,mask,0)"
   ]
  },
  {
   "cell_type": "code",
   "execution_count": null,
   "metadata": {
    "execution": {
     "iopub.status.busy": "2023-02-20T16:26:28.387373Z",
     "iopub.status.idle": "2023-02-20T16:26:28.388146Z",
     "shell.execute_reply": "2023-02-20T16:26:28.387990Z",
     "shell.execute_reply.started": "2023-02-20T16:26:28.387971Z"
    }
   },
   "outputs": [],
   "source": [
    "# Dups sollten eigentlich nicht drin sein\n",
    "mask = wiktionary_partizip.duplicated()\n",
    "check_mask(wiktionary_partizip,mask,0)"
   ]
  },
  {
   "cell_type": "code",
   "execution_count": null,
   "metadata": {
    "execution": {
     "iopub.status.busy": "2023-02-20T16:26:28.392641Z",
     "iopub.status.idle": "2023-02-20T16:26:28.393014Z",
     "shell.execute_reply": "2023-02-20T16:26:28.392857Z",
     "shell.execute_reply.started": "2023-02-20T16:26:28.392842Z"
    }
   },
   "outputs": [],
   "source": [
    "# wiktionary_partizip.member analysieren\n",
    "#r = pak.analyse_freqs( wiktionary_partizip, ['member', 'verb','adjektiv'])\n",
    "#r"
   ]
  },
  {
   "cell_type": "code",
   "execution_count": null,
   "metadata": {
    "execution": {
     "iopub.status.busy": "2023-02-20T16:26:28.394141Z",
     "iopub.status.idle": "2023-02-20T16:26:28.394853Z",
     "shell.execute_reply": "2023-02-20T16:26:28.394704Z",
     "shell.execute_reply.started": "2023-02-20T16:26:28.394686Z"
    }
   },
   "outputs": [],
   "source": [
    "mask = wiktionary_partizip.adjektiv.isin(['betroffen','dienend'])\n",
    "wiktionary_partizip[mask]"
   ]
  },
  {
   "cell_type": "markdown",
   "metadata": {},
   "source": [
    "### Partizipien als Flexion des Verbs eintragen"
   ]
  },
  {
   "cell_type": "code",
   "execution_count": null,
   "metadata": {
    "execution": {
     "iopub.status.busy": "2023-02-20T16:26:28.395596Z",
     "iopub.status.idle": "2023-02-20T16:26:28.396248Z",
     "shell.execute_reply": "2023-02-20T16:26:28.396107Z",
     "shell.execute_reply.started": "2023-02-20T16:26:28.396091Z"
    }
   },
   "outputs": [],
   "source": [
    "#wiktionary_merkmal"
   ]
  },
  {
   "cell_type": "code",
   "execution_count": null,
   "metadata": {
    "execution": {
     "iopub.status.busy": "2023-02-20T16:26:28.397010Z",
     "iopub.status.idle": "2023-02-20T16:26:28.397661Z",
     "shell.execute_reply": "2023-02-20T16:26:28.397517Z",
     "shell.execute_reply.started": "2023-02-20T16:26:28.397501Z"
    }
   },
   "outputs": [],
   "source": [
    "# wiktionary_merkmal_partizip\n",
    "wiktionary_merkmal_partizip = wiktionary_partizip.copy()\n",
    "wiktionary_merkmal_partizip = pak.rename_col(wiktionary_merkmal_partizip, 'member',      'merkmal')\n",
    "wiktionary_merkmal_partizip = pak.rename_col(wiktionary_merkmal_partizip, 'verb_id',     'section_id2')\n",
    "wiktionary_merkmal_partizip = pak.rename_col(wiktionary_merkmal_partizip, 'adjektiv_id', 'data_id')\n",
    "wiktionary_merkmal_partizip = pak.rename_col(wiktionary_merkmal_partizip, 'adjektiv',    'data')\n",
    "wiktionary_merkmal_partizip = pak.drop_cols(wiktionary_merkmal_partizip,['tag','tagZ','tagZZ','score','verb','page_id','page_part'])\n",
    "wiktionary_merkmal_partizip = pak.move_cols(wiktionary_merkmal_partizip,['section_id2','merkmal'])\n",
    "assert set(wiktionary_merkmal_partizip.columns) == set(['section_id2','merkmal','data_id','data'])\n",
    "pak.sample(wiktionary_merkmal_partizip)"
   ]
  },
  {
   "cell_type": "code",
   "execution_count": null,
   "metadata": {
    "execution": {
     "iopub.status.busy": "2023-02-20T16:26:28.398532Z",
     "iopub.status.idle": "2023-02-20T16:26:28.399374Z",
     "shell.execute_reply": "2023-02-20T16:26:28.399190Z",
     "shell.execute_reply.started": "2023-02-20T16:26:28.399167Z"
    }
   },
   "outputs": [],
   "source": [
    "# wiktionary_partizip suche_debug\n",
    "search_str(wiktionary_merkmal_partizip, suche_debug)"
   ]
  },
  {
   "cell_type": "code",
   "execution_count": null,
   "metadata": {
    "execution": {
     "iopub.status.busy": "2023-02-20T16:26:28.400298Z",
     "iopub.status.idle": "2023-02-20T16:26:28.400758Z",
     "shell.execute_reply": "2023-02-20T16:26:28.400600Z",
     "shell.execute_reply.started": "2023-02-20T16:26:28.400582Z"
    }
   },
   "outputs": [],
   "source": [
    "# wiktionary_merkmal_partizip als merkmal anfügen\n",
    "wiktionary_merkmal = pak.add_rows(wiktionary_merkmal, wiktionary_merkmal_partizip)"
   ]
  },
  {
   "cell_type": "markdown",
   "metadata": {},
   "source": [
    "### Partizipien als Adjektiv einpflegen"
   ]
  },
  {
   "cell_type": "code",
   "execution_count": null,
   "metadata": {
    "execution": {
     "iopub.status.busy": "2023-02-20T16:26:28.402024Z",
     "iopub.status.idle": "2023-02-20T16:26:28.402386Z",
     "shell.execute_reply": "2023-02-20T16:26:28.402242Z",
     "shell.execute_reply.started": "2023-02-20T16:26:28.402227Z"
    }
   },
   "outputs": [],
   "source": [
    "wiktionary_partizip.head(1)"
   ]
  },
  {
   "cell_type": "code",
   "execution_count": null,
   "metadata": {
    "execution": {
     "iopub.status.busy": "2023-02-20T16:26:28.407188Z",
     "iopub.status.idle": "2023-02-20T16:26:28.408534Z",
     "shell.execute_reply": "2023-02-20T16:26:28.408142Z",
     "shell.execute_reply.started": "2023-02-20T16:26:28.408104Z"
    }
   },
   "outputs": [],
   "source": [
    "wiktionary_lemma.head(1)"
   ]
  },
  {
   "cell_type": "code",
   "execution_count": null,
   "metadata": {
    "execution": {
     "iopub.status.busy": "2023-02-20T16:26:28.410094Z",
     "iopub.status.idle": "2023-02-20T16:26:28.410995Z",
     "shell.execute_reply": "2023-02-20T16:26:28.410828Z",
     "shell.execute_reply.started": "2023-02-20T16:26:28.410807Z"
    }
   },
   "outputs": [],
   "source": [
    "# wiktionary_lemma_partizip\n",
    "wiktionary_lemma_partizip = wiktionary_partizip.copy()\n",
    "wiktionary_lemma_partizip = pak.rename_col(wiktionary_lemma_partizip, 'adjektiv_id',     'section_id2')\n",
    "wiktionary_lemma_partizip = pak.rename_col(wiktionary_lemma_partizip, 'adjektiv',        'lemma')\n",
    "wiktionary_lemma_partizip = pak.rename_col(wiktionary_lemma_partizip, 'verb_id',         'data_id')\n",
    "wiktionary_lemma_partizip = pak.drop_cols(wiktionary_lemma_partizip, ['verb'] )\n",
    "wiktionary_lemma_partizip = ergänze_felder(wiktionary_lemma_partizip)\n",
    "wiktionary_lemma_partizip = pflege_tag_felder(wiktionary_lemma_partizip, translate_tagZ)\n",
    "\n",
    "pak.sample(wiktionary_lemma_partizip)"
   ]
  },
  {
   "cell_type": "code",
   "execution_count": null,
   "metadata": {
    "execution": {
     "iopub.status.busy": "2023-02-20T16:26:28.411849Z",
     "iopub.status.idle": "2023-02-20T16:26:28.416037Z",
     "shell.execute_reply": "2023-02-20T16:26:28.415605Z",
     "shell.execute_reply.started": "2023-02-20T16:26:28.415548Z"
    }
   },
   "outputs": [],
   "source": [
    "# Einige ungeeignete Partizipien löschen\n",
    "mask1 = ~wiktionary_lemma_partizip.lemma.str.endswith(('d','t','en'))\n",
    "mask2 = ~wiktionary_lemma_partizip.lemma.isin(['vertan',])\n",
    "mask = mask1  &  mask2\n",
    "check_mask(wiktionary_lemma_partizip,mask,37)\n",
    "wiktionary_lemma_partizip, df = pak.move_rows(wiktionary_lemma_partizip,mask)\n",
    "grid(df)"
   ]
  },
  {
   "cell_type": "code",
   "execution_count": null,
   "metadata": {
    "execution": {
     "iopub.status.busy": "2023-02-20T16:26:28.421697Z",
     "iopub.status.idle": "2023-02-20T16:26:28.425042Z",
     "shell.execute_reply": "2023-02-20T16:26:28.424832Z",
     "shell.execute_reply.started": "2023-02-20T16:26:28.424806Z"
    }
   },
   "outputs": [],
   "source": [
    "# wiktionary_lemma suche_debug\n",
    "grid(search_str(wiktionary_lemma_partizip, suche_debug))"
   ]
  },
  {
   "cell_type": "code",
   "execution_count": null,
   "metadata": {
    "execution": {
     "iopub.status.busy": "2023-02-20T16:26:28.428556Z",
     "iopub.status.idle": "2023-02-20T16:26:28.428971Z",
     "shell.execute_reply": "2023-02-20T16:26:28.428810Z",
     "shell.execute_reply.started": "2023-02-20T16:26:28.428794Z"
    }
   },
   "outputs": [],
   "source": [
    "# wiktionary_lemma_partizip als lemma anfügen\n",
    "wiktionary_lemma = pak.add_rows(wiktionary_lemma, wiktionary_lemma_partizip)"
   ]
  },
  {
   "cell_type": "markdown",
   "metadata": {},
   "source": [
    "### Manuelle Partizipien als Adjektiv einpflegen"
   ]
  },
  {
   "cell_type": "code",
   "execution_count": null,
   "metadata": {
    "execution": {
     "iopub.status.busy": "2023-02-20T16:26:28.430096Z",
     "iopub.status.idle": "2023-02-20T16:26:28.430813Z",
     "shell.execute_reply": "2023-02-20T16:26:28.430663Z",
     "shell.execute_reply.started": "2023-02-20T16:26:28.430644Z"
    }
   },
   "outputs": [],
   "source": [
    "# lexeme_manuell_copy als Basis\n",
    "mask = lexeme_manuell_copy.tab == 'Partizipien'\n",
    "ptz_manuell = lexeme_manuell_copy[mask]"
   ]
  },
  {
   "cell_type": "code",
   "execution_count": null,
   "metadata": {
    "execution": {
     "iopub.status.busy": "2023-02-20T16:26:28.431608Z",
     "iopub.status.idle": "2023-02-20T16:26:28.432270Z",
     "shell.execute_reply": "2023-02-20T16:26:28.432125Z",
     "shell.execute_reply.started": "2023-02-20T16:26:28.432107Z"
    }
   },
   "outputs": [],
   "source": [
    "# id des Verbs holen (dirty)\n",
    "ptz_manuell = pak.update_col(ptz_manuell, \n",
    "                             lexeme_manuell,\n",
    "                             on=['lemma','tag'],  \n",
    "                             col='section_id2',\n",
    "                             col_rename='data_id'\n",
    "                            )"
   ]
  },
  {
   "cell_type": "code",
   "execution_count": null,
   "metadata": {
    "execution": {
     "iopub.status.busy": "2023-02-20T16:26:28.433172Z",
     "iopub.status.idle": "2023-02-20T16:26:28.436911Z",
     "shell.execute_reply": "2023-02-20T16:26:28.436682Z",
     "shell.execute_reply.started": "2023-02-20T16:26:28.436653Z"
    }
   },
   "outputs": [],
   "source": [
    "# Weitere Spalten\n",
    "ptz_manuell['section_id2'] = ptz_manuell.lex.str.replace(' ','_') + '_MADJ'\n",
    "spalten = ['section_id2','lex','tag_lex','data_id']\n",
    "ptz_manuell = ptz_manuell[spalten]\n",
    "ptz_manuell = pak.rename_col(ptz_manuell, 'lex',    'lemma')\n",
    "ptz_manuell = pak.rename_col(ptz_manuell, 'tag_lex','member')\n",
    "\n",
    "ptz_manuell['member'] += ' manuell'\n",
    "ptz_manuell['tag'] = 'ADJA'\n",
    "ptz_manuell['score'] = 0.5\n",
    "\n",
    "ptz_manuell = ergänze_felder(ptz_manuell)\n",
    "ptz_manuell = pflege_tag_felder(ptz_manuell, translate_tagZ)\n",
    "\n",
    "#grid(ptz_manuell)"
   ]
  },
  {
   "cell_type": "code",
   "execution_count": null,
   "metadata": {
    "execution": {
     "iopub.status.busy": "2023-02-20T16:26:28.437866Z",
     "iopub.status.idle": "2023-02-20T16:26:28.438610Z",
     "shell.execute_reply": "2023-02-20T16:26:28.438452Z",
     "shell.execute_reply.started": "2023-02-20T16:26:28.438434Z"
    }
   },
   "outputs": [],
   "source": [
    "# ptz_manuell suche_debug\n",
    "grid(search_str(ptz_manuell, suche_debug))"
   ]
  },
  {
   "cell_type": "code",
   "execution_count": null,
   "metadata": {
    "execution": {
     "iopub.status.busy": "2023-02-20T16:26:28.439464Z",
     "iopub.status.idle": "2023-02-20T16:26:28.440154Z",
     "shell.execute_reply": "2023-02-20T16:26:28.440010Z",
     "shell.execute_reply.started": "2023-02-20T16:26:28.439993Z"
    }
   },
   "outputs": [],
   "source": [
    "# section_id2 ermitteln\n",
    "mask = wiktionary_lemma.tagZ == 'ADJ'\n",
    "ptz_manuell = pak.update_col( ptz_manuell,  \n",
    "                              wiktionary_lemma[mask], \n",
    "                              on='lemma',     \n",
    "                              col='section_id2',    \n",
    "                              col_score='score' \n",
    "                                    )\n",
    "ptz_manuell"
   ]
  },
  {
   "cell_type": "code",
   "execution_count": null,
   "metadata": {
    "execution": {
     "iopub.status.busy": "2023-02-20T16:26:28.440934Z",
     "iopub.status.idle": "2023-02-20T16:26:28.441610Z",
     "shell.execute_reply": "2023-02-20T16:26:28.441468Z",
     "shell.execute_reply.started": "2023-02-20T16:26:28.441450Z"
    }
   },
   "outputs": [],
   "source": [
    "# ptz_manuell als lemma anfügen\n",
    "wiktionary_lemma = pak.add_rows(wiktionary_lemma, ptz_manuell)"
   ]
  },
  {
   "cell_type": "code",
   "execution_count": null,
   "metadata": {
    "execution": {
     "iopub.status.busy": "2023-02-20T16:26:28.444176Z",
     "iopub.status.idle": "2023-02-20T16:26:28.444951Z",
     "shell.execute_reply": "2023-02-20T16:26:28.444800Z",
     "shell.execute_reply.started": "2023-02-20T16:26:28.444781Z"
    }
   },
   "outputs": [],
   "source": [
    "mask = wiktionary_merkmal.data_id != ''\n",
    "wiktionary_merkmal[mask]"
   ]
  },
  {
   "cell_type": "markdown",
   "metadata": {},
   "source": [
    "## wiktionary_lemma weiterbearbeiten"
   ]
  },
  {
   "cell_type": "markdown",
   "metadata": {},
   "source": [
    "### Grundpflege"
   ]
  },
  {
   "cell_type": "code",
   "execution_count": null,
   "metadata": {
    "execution": {
     "iopub.status.busy": "2023-02-20T16:26:28.445713Z",
     "iopub.status.idle": "2023-02-20T16:26:28.452930Z",
     "shell.execute_reply": "2023-02-20T16:26:28.452708Z",
     "shell.execute_reply.started": "2023-02-20T16:26:28.452677Z"
    }
   },
   "outputs": [],
   "source": [
    "# reset_index\n",
    "wiktionary_lemma = pak.reset_index(wiktionary_lemma)"
   ]
  },
  {
   "cell_type": "code",
   "execution_count": null,
   "metadata": {
    "execution": {
     "iopub.status.busy": "2023-02-20T16:26:28.453853Z",
     "iopub.status.idle": "2023-02-20T16:26:28.454568Z",
     "shell.execute_reply": "2023-02-20T16:26:28.454424Z",
     "shell.execute_reply.started": "2023-02-20T16:26:28.454406Z"
    }
   },
   "outputs": [],
   "source": [
    "# drop_cols\n",
    "wiktionary_lemma = pak.drop_cols(wiktionary_lemma,['msg','inflected','error','lang','lang_code'])"
   ]
  },
  {
   "cell_type": "code",
   "execution_count": null,
   "metadata": {
    "execution": {
     "iopub.status.busy": "2023-02-20T16:26:28.455458Z",
     "iopub.status.idle": "2023-02-20T16:26:28.456136Z",
     "shell.execute_reply": "2023-02-20T16:26:28.455992Z",
     "shell.execute_reply.started": "2023-02-20T16:26:28.455974Z"
    }
   },
   "outputs": [],
   "source": [
    "# ergänze_felder\n",
    "#from x32_Funktionen import *\n",
    "wiktionary_lemma = ergänze_felder(wiktionary_lemma)"
   ]
  },
  {
   "cell_type": "code",
   "execution_count": null,
   "metadata": {
    "execution": {
     "iopub.status.busy": "2023-02-20T16:26:28.456904Z",
     "iopub.status.idle": "2023-02-20T16:26:28.457556Z",
     "shell.execute_reply": "2023-02-20T16:26:28.457416Z",
     "shell.execute_reply.started": "2023-02-20T16:26:28.457398Z"
    }
   },
   "outputs": [],
   "source": [
    "# fillna\n",
    "wiktionary_lemma['score'] = wiktionary_lemma.score.fillna(0.45)\n",
    "assert not pak.any_nan(wiktionary_lemma, without=['page_id','page_part','data_id',])\n",
    "#pak.nnan(wiktionary_lemma)"
   ]
  },
  {
   "cell_type": "markdown",
   "metadata": {},
   "source": [
    "## wiktionary_merkmal_text"
   ]
  },
  {
   "cell_type": "code",
   "execution_count": null,
   "metadata": {
    "execution": {
     "iopub.status.busy": "2023-02-20T16:26:28.458287Z",
     "iopub.status.idle": "2023-02-20T16:26:28.458920Z",
     "shell.execute_reply": "2023-02-20T16:26:28.458781Z",
     "shell.execute_reply.started": "2023-02-20T16:26:28.458764Z"
    }
   },
   "outputs": [],
   "source": [
    "# ist scho geladen\n",
    "# wiktionary_merkmal_text = pak.load_pickle(wiktionary_merkmal_text_filename)\n",
    "assert not pak.any_nan(wiktionary_merkmal_text)\n",
    "# pak.nnan(wiktionary_merkmal_text)"
   ]
  },
  {
   "cell_type": "markdown",
   "metadata": {},
   "source": [
    "### Grundpflege"
   ]
  },
  {
   "cell_type": "code",
   "execution_count": null,
   "metadata": {
    "execution": {
     "iopub.status.busy": "2023-02-20T16:26:28.459703Z",
     "iopub.status.idle": "2023-02-20T16:26:28.460384Z",
     "shell.execute_reply": "2023-02-20T16:26:28.460240Z",
     "shell.execute_reply.started": "2023-02-20T16:26:28.460222Z"
    }
   },
   "outputs": [],
   "source": [
    "# drop_cols\n",
    "wiktionary_merkmal_text = pak.drop_cols( wiktionary_merkmal_text, ['section_id'])"
   ]
  },
  {
   "cell_type": "code",
   "execution_count": null,
   "metadata": {
    "execution": {
     "iopub.status.busy": "2023-02-20T16:26:28.461186Z",
     "iopub.status.idle": "2023-02-20T16:26:28.461850Z",
     "shell.execute_reply": "2023-02-20T16:26:28.461706Z",
     "shell.execute_reply.started": "2023-02-20T16:26:28.461689Z"
    }
   },
   "outputs": [],
   "source": [
    "# wiktionary_merkmal_text: list_to_string\n",
    "wiktionary_merkmal_text['num'] = pak.list_to_string(wiktionary_merkmal_text.num)"
   ]
  },
  {
   "cell_type": "code",
   "execution_count": null,
   "metadata": {
    "execution": {
     "iopub.status.busy": "2023-02-20T16:26:28.462669Z",
     "iopub.status.idle": "2023-02-20T16:26:28.468939Z",
     "shell.execute_reply": "2023-02-20T16:26:28.468718Z",
     "shell.execute_reply.started": "2023-02-20T16:26:28.468690Z"
    }
   },
   "outputs": [],
   "source": [
    "# wiktionary_merkmal_text: drop_duplicates\n",
    "vorher = wiktionary_merkmal_text.shape[0]\n",
    "wiktionary_merkmal_text = wiktionary_merkmal_text.drop_duplicates()\n",
    "nachher = wiktionary_merkmal_text.shape[0]\n",
    "print(vorher-nachher,'Datensätze gelöscht')"
   ]
  },
  {
   "cell_type": "code",
   "execution_count": null,
   "metadata": {
    "execution": {
     "iopub.status.busy": "2023-02-20T16:26:28.469842Z",
     "iopub.status.idle": "2023-02-20T16:26:28.470547Z",
     "shell.execute_reply": "2023-02-20T16:26:28.470395Z",
     "shell.execute_reply.started": "2023-02-20T16:26:28.470376Z"
    }
   },
   "outputs": [],
   "source": [
    "pak.sample(wiktionary_merkmal_text)"
   ]
  },
  {
   "cell_type": "code",
   "execution_count": null,
   "metadata": {
    "execution": {
     "iopub.status.busy": "2023-02-20T16:26:28.471365Z",
     "iopub.status.idle": "2023-02-20T16:26:28.472068Z",
     "shell.execute_reply": "2023-02-20T16:26:28.471922Z",
     "shell.execute_reply.started": "2023-02-20T16:26:28.471904Z"
    }
   },
   "outputs": [],
   "source": [
    "# lemma übertragen\n",
    "assert not pak.any_nan(wiktionary_lemma, without=['page_id','page_part','data_id',])\n",
    "wiktionary_merkmal_text = pak.update_col( wiktionary_merkmal_text, wiktionary_lemma, on='section_id2', col='lemma'  )"
   ]
  },
  {
   "cell_type": "code",
   "execution_count": null,
   "metadata": {
    "execution": {
     "iopub.status.busy": "2023-02-20T16:26:28.472841Z",
     "iopub.status.idle": "2023-02-20T16:26:28.473568Z",
     "shell.execute_reply": "2023-02-20T16:26:28.473413Z",
     "shell.execute_reply.started": "2023-02-20T16:26:28.473394Z"
    }
   },
   "outputs": [],
   "source": [
    "# verwaise_section_id2 finden\n",
    "mask = wiktionary_merkmal_text.lemma.isnull()\n",
    "verwaise_section_id2 = wiktionary_merkmal_text[mask].section_id2.drop_duplicates()\n",
    "verwaise_section_id2"
   ]
  },
  {
   "cell_type": "code",
   "execution_count": null,
   "metadata": {
    "execution": {
     "iopub.status.busy": "2023-02-20T16:26:28.474373Z",
     "iopub.status.idle": "2023-02-20T16:26:28.475014Z",
     "shell.execute_reply": "2023-02-20T16:26:28.474874Z",
     "shell.execute_reply.started": "2023-02-20T16:26:28.474857Z"
    }
   },
   "outputs": [],
   "source": [
    "bgc('orange') ## TODO_verwaiste_Wörter\n",
    "mask1 =  wiktionary_merkmal_text.section_id2.isin(verwaise_section_id2)\n",
    "mask2 = ~wiktionary_merkmal_text.section_id2.isin(wiktionary_trash.section_id2)\n",
    "mask = mask1  &  mask2\n",
    "grid(wiktionary_merkmal_text[mask].sort_values('section_id2'))"
   ]
  },
  {
   "cell_type": "code",
   "execution_count": null,
   "metadata": {
    "execution": {
     "iopub.status.busy": "2023-02-20T16:26:28.475766Z",
     "iopub.status.idle": "2023-02-20T16:26:28.476534Z",
     "shell.execute_reply": "2023-02-20T16:26:28.476345Z",
     "shell.execute_reply.started": "2023-02-20T16:26:28.476325Z"
    }
   },
   "outputs": [],
   "source": [
    "# verwaiste Datensätze anschauen\n",
    "mask = wiktionary_merkmal_text.lemma.isnull()\n",
    "grid(wiktionary_merkmal_text,mask)"
   ]
  },
  {
   "cell_type": "code",
   "execution_count": null,
   "metadata": {
    "execution": {
     "iopub.status.busy": "2023-02-20T16:26:28.477588Z",
     "iopub.status.idle": "2023-02-20T16:26:28.478501Z",
     "shell.execute_reply": "2023-02-20T16:26:28.478313Z",
     "shell.execute_reply.started": "2023-02-20T16:26:28.478288Z"
    }
   },
   "outputs": [],
   "source": [
    "# verwaiste Datensätze löschen\n",
    "mask = wiktionary_merkmal_text.lemma.isnull()\n",
    "check_mask(wiktionary_merkmal_text,mask,1217)\n",
    "wiktionary_merkmal_text = pak.drop_rows(wiktionary_merkmal_text,mask)"
   ]
  },
  {
   "cell_type": "code",
   "execution_count": null,
   "metadata": {
    "execution": {
     "iopub.status.busy": "2023-02-20T16:26:28.479494Z",
     "iopub.status.idle": "2023-02-20T16:26:28.480440Z",
     "shell.execute_reply": "2023-02-20T16:26:28.480240Z",
     "shell.execute_reply.started": "2023-02-20T16:26:28.480215Z"
    }
   },
   "outputs": [],
   "source": [
    "# suche_debug\n",
    "\n",
    "mask = wiktionary_merkmal_text.lemma.isin(suche_debug)\n",
    "wiktionary_merkmal_text[mask]\n",
    "#wiktionary_lemma[mask].lemma"
   ]
  },
  {
   "cell_type": "code",
   "execution_count": null,
   "metadata": {
    "execution": {
     "iopub.status.busy": "2023-02-20T16:26:28.481453Z",
     "iopub.status.idle": "2023-02-20T16:26:28.482321Z",
     "shell.execute_reply": "2023-02-20T16:26:28.482133Z",
     "shell.execute_reply.started": "2023-02-20T16:26:28.482109Z"
    }
   },
   "outputs": [],
   "source": [
    "# Grobreinigung \n",
    "\n",
    "r = { ' !':'!',  ' ?':'?',  ' ,':',',  ' en ':'en ',  ' e ':'e ',  ' en,':'en,',  ' e,':'e,',  ' es,':'es,',  '  ':' ', }\n",
    "wiktionary_merkmal_text['data'] = pak.replace_str( wiktionary_merkmal_text.data, r )\n",
    "\n",
    "r = ['[1]', '[2]', '[3]', '[4]', '[5]', '[6]', '[7]', '[8]', '[9]', '[10]', '[11]', '[12]', '[1a]', '[*]']\n",
    "wiktionary_merkmal_text['data'] = pak.remove_str( wiktionary_merkmal_text.data, r )"
   ]
  },
  {
   "cell_type": "code",
   "execution_count": null,
   "metadata": {
    "execution": {
     "iopub.status.busy": "2023-02-20T16:26:28.483268Z",
     "iopub.status.idle": "2023-02-20T16:26:28.484125Z",
     "shell.execute_reply": "2023-02-20T16:26:28.483942Z",
     "shell.execute_reply.started": "2023-02-20T16:26:28.483917Z"
    }
   },
   "outputs": [],
   "source": [
    "pak.nnan(wiktionary_lemma)"
   ]
  },
  {
   "cell_type": "code",
   "execution_count": null,
   "metadata": {
    "execution": {
     "iopub.status.busy": "2023-02-20T16:26:28.485044Z",
     "iopub.status.idle": "2023-02-20T16:26:28.485750Z",
     "shell.execute_reply": "2023-02-20T16:26:28.485602Z",
     "shell.execute_reply.started": "2023-02-20T16:26:28.485584Z"
    }
   },
   "outputs": [],
   "source": [
    "#mask = wiktionary_merkmal_text.data.str.endswith(  ( ' e', ' en', ' es' )  )\n",
    "#r = { ' e':'e',   ' en':'en',   ' es':'es',  }\n",
    "#wiktionary_merkmal_text.loc[mask,'data'] = pak.replace_str( wiktionary_merkmal_text[mask].data, r )\n",
    "#grid(wiktionary_merkmal_text,mask)"
   ]
  },
  {
   "cell_type": "markdown",
   "metadata": {},
   "source": [
    "### Aufzählungen in Einzeldatensätze aufsplitten\n",
    "* Die merkmale bsp_re und bsp_sp enthalten Aufzählungen. Diese werden in Einzeldatensätze aufgesplittet. \n",
    "* Das Feld rank_merkmal erhält die Reihenfolge."
   ]
  },
  {
   "cell_type": "code",
   "execution_count": null,
   "metadata": {
    "execution": {
     "iopub.status.busy": "2023-02-20T16:26:28.486526Z",
     "iopub.status.idle": "2023-02-20T16:26:28.487173Z",
     "shell.execute_reply": "2023-02-20T16:26:28.487033Z",
     "shell.execute_reply.started": "2023-02-20T16:26:28.487016Z"
    }
   },
   "outputs": [],
   "source": [
    "# Splitten vorbereiten\n",
    "\n",
    "mask = wiktionary_merkmal_text.merkmal.isin(['bsp_re','bsp_sp'])\n",
    "r = { '–':'➤',  '—':'➤',  ';':'➤',  '/':'➤',  }\n",
    "wiktionary_merkmal_text.loc[mask,'data'] = pak.replace_str( wiktionary_merkmal_text[mask].data, r )\n",
    "\n",
    "grid( wiktionary_merkmal_text, mask )"
   ]
  },
  {
   "cell_type": "code",
   "execution_count": null,
   "metadata": {
    "execution": {
     "iopub.status.busy": "2023-02-20T16:26:28.487957Z",
     "iopub.status.idle": "2023-02-20T16:26:28.488640Z",
     "shell.execute_reply": "2023-02-20T16:26:28.488494Z",
     "shell.execute_reply.started": "2023-02-20T16:26:28.488476Z"
    }
   },
   "outputs": [],
   "source": [
    "# rank_merkmal\n",
    "wiktionary_merkmal_text = wiktionary_merkmal_text.reset_index() # spalte 'index' erzeugen\n",
    "wiktionary_merkmal_text = pak.rank( wiktionary_merkmal_text, cols_group=['section_id2','merkmal'], col_score='index', find='min', col_target='rank_merkmal')\n",
    "wiktionary_merkmal_text = pak.rename_col(wiktionary_merkmal_text,'index','i')\n",
    "wiktionary_merkmal_text = pak.force_index(wiktionary_merkmal_text,'i')"
   ]
  },
  {
   "cell_type": "code",
   "execution_count": null,
   "metadata": {
    "execution": {
     "iopub.status.busy": "2023-02-20T16:26:28.489424Z",
     "iopub.status.idle": "2023-02-20T16:26:28.490092Z",
     "shell.execute_reply": "2023-02-20T16:26:28.489949Z",
     "shell.execute_reply.started": "2023-02-20T16:26:28.489931Z"
    }
   },
   "outputs": [],
   "source": [
    "# zu splittende Datensätze abtrennen\n",
    "mask1 = wiktionary_merkmal_text.merkmal.isin(['bsp_re','bsp_sp'])\n",
    "mask2 = wiktionary_merkmal_text.data.str.contains('➤')\n",
    "mask  = mask1  &  mask2\n",
    "\n",
    "wiktionary_merkmal_text, df = pak.move_rows( wiktionary_merkmal_text, mask, msg=None )"
   ]
  },
  {
   "cell_type": "code",
   "execution_count": null,
   "metadata": {
    "execution": {
     "iopub.status.busy": "2023-02-20T16:26:28.490859Z",
     "iopub.status.idle": "2023-02-20T16:26:28.491526Z",
     "shell.execute_reply": "2023-02-20T16:26:28.491382Z",
     "shell.execute_reply.started": "2023-02-20T16:26:28.491365Z"
    },
    "tags": []
   },
   "outputs": [],
   "source": [
    "# splitten\n",
    "df['data'] = df.data.str.split('➤')\n",
    "df = df.explode('data')"
   ]
  },
  {
   "cell_type": "code",
   "execution_count": null,
   "metadata": {
    "execution": {
     "iopub.status.busy": "2023-02-20T16:26:28.492278Z",
     "iopub.status.idle": "2023-02-20T16:26:28.492945Z",
     "shell.execute_reply": "2023-02-20T16:26:28.492800Z",
     "shell.execute_reply.started": "2023-02-20T16:26:28.492782Z"
    }
   },
   "outputs": [],
   "source": [
    "df.head(5)"
   ]
  },
  {
   "cell_type": "code",
   "execution_count": null,
   "metadata": {
    "execution": {
     "iopub.status.busy": "2023-02-20T16:26:28.493737Z",
     "iopub.status.idle": "2023-02-20T16:26:28.494390Z",
     "shell.execute_reply": "2023-02-20T16:26:28.494245Z",
     "shell.execute_reply.started": "2023-02-20T16:26:28.494228Z"
    }
   },
   "outputs": [],
   "source": [
    "# rank_merkmal2\n",
    "df = df.reset_index()\n",
    "df = pak.rank(df, cols_group=['section_id2','merkmal','rank_merkmal'], col_score='i', find='min', col_target='rank_merkmal2')\n",
    "df = pak.force_index(df,'i')"
   ]
  },
  {
   "cell_type": "code",
   "execution_count": null,
   "metadata": {
    "execution": {
     "iopub.status.busy": "2023-02-20T16:26:28.495114Z",
     "iopub.status.idle": "2023-02-20T16:26:28.495750Z",
     "shell.execute_reply": "2023-02-20T16:26:28.495606Z",
     "shell.execute_reply.started": "2023-02-20T16:26:28.495589Z"
    }
   },
   "outputs": [],
   "source": [
    "df.head(5)"
   ]
  },
  {
   "cell_type": "code",
   "execution_count": null,
   "metadata": {
    "execution": {
     "iopub.status.busy": "2023-02-20T16:26:28.496553Z",
     "iopub.status.idle": "2023-02-20T16:26:28.497254Z",
     "shell.execute_reply": "2023-02-20T16:26:28.497106Z",
     "shell.execute_reply.started": "2023-02-20T16:26:28.497088Z"
    }
   },
   "outputs": [],
   "source": [
    "# wieder anfügen\n",
    "wiktionary_merkmal_text = pak.add_rows(wiktionary_merkmal_text, df)\n",
    "wiktionary_merkmal_text['rank_merkmal2'] = wiktionary_merkmal_text.rank_merkmal2.fillna(0) "
   ]
  },
  {
   "cell_type": "code",
   "execution_count": null,
   "metadata": {
    "execution": {
     "iopub.status.busy": "2023-02-20T16:26:28.498120Z",
     "iopub.status.idle": "2023-02-20T16:26:28.499140Z",
     "shell.execute_reply": "2023-02-20T16:26:28.498940Z",
     "shell.execute_reply.started": "2023-02-20T16:26:28.498915Z"
    }
   },
   "outputs": [],
   "source": [
    "# rank_merkmal endgültig schreiben\n",
    "assert wiktionary_merkmal_text.rank_merkmal2.max() < 100\n",
    "assert not pak.any_nan(wiktionary_merkmal_text.rank_merkmal)\n",
    "assert not pak.any_nan(wiktionary_merkmal_text.rank_merkmal2)\n",
    "wiktionary_merkmal_text['rank_merkmal'] = (wiktionary_merkmal_text.rank_merkmal * 100 + wiktionary_merkmal_text.rank_merkmal2).astype('int')\n",
    "wiktionary_merkmal_text = pak.drop_cols(wiktionary_merkmal_text,['rank_merkmal2'])"
   ]
  },
  {
   "cell_type": "code",
   "execution_count": null,
   "metadata": {
    "execution": {
     "iopub.status.busy": "2023-02-20T16:26:28.500130Z",
     "iopub.status.idle": "2023-02-20T16:26:28.501136Z",
     "shell.execute_reply": "2023-02-20T16:26:28.500940Z",
     "shell.execute_reply.started": "2023-02-20T16:26:28.500914Z"
    }
   },
   "outputs": [],
   "source": [
    "#mask = wiktionary_merkmal_text.merkmal.isin( ['bsp_re'] )\n",
    "#grid(wiktionary_merkmal_text,mask)"
   ]
  },
  {
   "cell_type": "markdown",
   "metadata": {},
   "source": [
    "## Preprocessing"
   ]
  },
  {
   "cell_type": "code",
   "execution_count": null,
   "metadata": {
    "execution": {
     "iopub.status.busy": "2023-02-20T16:26:28.502165Z",
     "iopub.status.idle": "2023-02-20T16:26:28.503135Z",
     "shell.execute_reply": "2023-02-20T16:26:28.502944Z",
     "shell.execute_reply.started": "2023-02-20T16:26:28.502919Z"
    }
   },
   "outputs": [],
   "source": [
    "text = bj_nlp.TESTTEXT_0\n",
    "text"
   ]
  },
  {
   "cell_type": "code",
   "execution_count": null,
   "metadata": {
    "execution": {
     "iopub.status.busy": "2023-02-20T16:26:28.504146Z",
     "iopub.status.idle": "2023-02-20T16:26:28.505068Z",
     "shell.execute_reply": "2023-02-20T16:26:28.504878Z",
     "shell.execute_reply.started": "2023-02-20T16:26:28.504854Z"
    }
   },
   "outputs": [],
   "source": [
    "# Standardkonfiguration\n",
    "bj_nlp.preprocess(text)"
   ]
  },
  {
   "cell_type": "code",
   "execution_count": null,
   "metadata": {
    "execution": {
     "iopub.status.busy": "2023-02-20T16:26:28.505999Z",
     "iopub.status.idle": "2023-02-20T16:26:28.506838Z",
     "shell.execute_reply": "2023-02-20T16:26:28.506656Z",
     "shell.execute_reply.started": "2023-02-20T16:26:28.506633Z"
    }
   },
   "outputs": [],
   "source": [
    "a = 'Hej U+1F600 världen'\n",
    "print(a)"
   ]
  },
  {
   "cell_type": "code",
   "execution_count": null,
   "metadata": {
    "execution": {
     "iopub.status.busy": "2023-02-20T16:26:28.507811Z",
     "iopub.status.idle": "2023-02-20T16:26:28.508541Z",
     "shell.execute_reply": "2023-02-20T16:26:28.508377Z",
     "shell.execute_reply.started": "2023-02-20T16:26:28.508359Z"
    }
   },
   "outputs": [],
   "source": [
    "pak.analyse_datatypes(wiktionary_merkmal)"
   ]
  },
  {
   "cell_type": "code",
   "execution_count": null,
   "metadata": {
    "execution": {
     "iopub.status.busy": "2023-02-20T16:26:28.509366Z",
     "iopub.status.idle": "2023-02-20T16:26:28.510185Z",
     "shell.execute_reply": "2023-02-20T16:26:28.510037Z",
     "shell.execute_reply.started": "2023-02-20T16:26:28.510018Z"
    }
   },
   "outputs": [],
   "source": [
    "# wiktionary_lemma\n",
    "cols = pak.col_names(wiktionary_lemma, only='str')\n",
    "cols = [ c for c in cols if c not in ['error']  and not c.startswith('tag')] \n",
    "\n",
    "print(cols)\n",
    "for feld in cols:\n",
    "    wiktionary_lemma.loc[:,feld] = wiktionary_lemma[feld].fillna('').apply(   lambda x: bj_nlp.preprocess(x)       )"
   ]
  },
  {
   "cell_type": "code",
   "execution_count": null,
   "metadata": {
    "execution": {
     "iopub.status.busy": "2023-02-20T16:26:28.510967Z",
     "iopub.status.idle": "2023-02-20T16:26:28.511617Z",
     "shell.execute_reply": "2023-02-20T16:26:28.511474Z",
     "shell.execute_reply.started": "2023-02-20T16:26:28.511458Z"
    }
   },
   "outputs": [],
   "source": [
    "# wiktionary_nolemma\n",
    "cols = pak.col_names(wiktionary_nolemma, only='str')\n",
    "cols = [ c for c in cols if c not in ['error']  and not c.startswith('tag')] \n",
    "\n",
    "print(cols)\n",
    "for feld in cols:\n",
    "    wiktionary_nolemma.loc[:,feld] = wiktionary_nolemma[feld].fillna('').apply(   lambda x: bj_nlp.preprocess(x)   )"
   ]
  },
  {
   "cell_type": "code",
   "execution_count": null,
   "metadata": {
    "execution": {
     "iopub.status.busy": "2023-02-20T16:26:28.512395Z",
     "iopub.status.idle": "2023-02-20T16:26:28.513070Z",
     "shell.execute_reply": "2023-02-20T16:26:28.512927Z",
     "shell.execute_reply.started": "2023-02-20T16:26:28.512909Z"
    }
   },
   "outputs": [],
   "source": [
    "# wiktionary_merkmal\n",
    "\n",
    "if gründlich:\n",
    "    cols = pak.col_names(wiktionary_merkmal, only='str')\n",
    "    cols = [ c for c in cols if c not in ['error']  and not c.startswith('tag')] \n",
    "\n",
    "    print(cols)\n",
    "    for feld in cols:\n",
    "        print(feld)\n",
    "        wiktionary_merkmal[feld] = wiktionary_merkmal[feld].fillna('').apply(   lambda x: bj_nlp.preprocess(x)   )"
   ]
  },
  {
   "cell_type": "code",
   "execution_count": null,
   "metadata": {
    "execution": {
     "iopub.status.busy": "2023-02-20T16:26:28.513826Z",
     "iopub.status.idle": "2023-02-20T16:26:28.514493Z",
     "shell.execute_reply": "2023-02-20T16:26:28.514347Z",
     "shell.execute_reply.started": "2023-02-20T16:26:28.514329Z"
    }
   },
   "outputs": [],
   "source": [
    "# Doppelspaces prüfen\n",
    "if gründlich:\n",
    "    mask = wiktionary_merkmal.data.str.contains('  ')\n",
    "    check_mask( wiktionary_merkmal, mask, 0)\n",
    "    #wiktionary_merkmal[mask]"
   ]
  },
  {
   "cell_type": "code",
   "execution_count": null,
   "metadata": {
    "execution": {
     "iopub.status.busy": "2023-02-20T16:26:28.515264Z",
     "iopub.status.idle": "2023-02-20T16:26:28.515931Z",
     "shell.execute_reply": "2023-02-20T16:26:28.515785Z",
     "shell.execute_reply.started": "2023-02-20T16:26:28.515766Z"
    }
   },
   "outputs": [],
   "source": [
    "# wiktionary_merkmal_text\n",
    "\n",
    "if gründlich:\n",
    "    cols = pak.col_names(wiktionary_merkmal_text, only='str')\n",
    "    cols = [ c for c in cols if c not in ['error']  and not c.startswith('tag')] \n",
    "\n",
    "    print(cols)\n",
    "    for feld in cols:\n",
    "        wiktionary_merkmal_text[feld] = wiktionary_merkmal_text[feld].fillna('').apply(   lambda x: bj_nlp.preprocess(x)   )"
   ]
  },
  {
   "cell_type": "markdown",
   "metadata": {},
   "source": [
    "## Sonderzeichen"
   ]
  },
  {
   "cell_type": "code",
   "execution_count": null,
   "metadata": {
    "execution": {
     "iopub.status.busy": "2023-02-20T16:26:28.516964Z",
     "iopub.status.idle": "2023-02-20T16:26:28.517314Z",
     "shell.execute_reply": "2023-02-20T16:26:28.517167Z",
     "shell.execute_reply.started": "2023-02-20T16:26:28.517151Z"
    }
   },
   "outputs": [],
   "source": [
    "# Sonderfälle\n",
    "#mask = wiktionary_merkmal.data.str.contains('{{')\n",
    "r = { '{{NNBSP}}'   :   ' '  ,   \n",
    "             \"''\"   :   ''   ,\n",
    "    }\n",
    "wiktionary_merkmal['data'] = pak.replace_str(wiktionary_merkmal.data, r)"
   ]
  },
  {
   "cell_type": "code",
   "execution_count": null,
   "metadata": {
    "execution": {
     "iopub.status.busy": "2023-02-20T16:26:28.518403Z",
     "iopub.status.idle": "2023-02-20T16:26:28.519267Z",
     "shell.execute_reply": "2023-02-20T16:26:28.519084Z",
     "shell.execute_reply.started": "2023-02-20T16:26:28.519060Z"
    }
   },
   "outputs": [],
   "source": [
    "# Beispiel anschauen\n",
    "mask = wiktionary_merkmal.section_id2 == suche_debug[0]\n",
    "grid(wiktionary_merkmal,mask)"
   ]
  },
  {
   "cell_type": "code",
   "execution_count": null,
   "metadata": {
    "execution": {
     "iopub.status.busy": "2023-02-20T16:26:28.520255Z",
     "iopub.status.idle": "2023-02-20T16:26:28.521195Z",
     "shell.execute_reply": "2023-02-20T16:26:28.521004Z",
     "shell.execute_reply.started": "2023-02-20T16:26:28.520980Z"
    }
   },
   "outputs": [],
   "source": [
    "# wiktionary_lemma enthält nicht_erlaubte_sonderzeichen (siehe Steuertabellen)\n",
    "mask = wiktionary_lemma.lemma.str.contains(nicht_erlaubte_sonderzeichen_lemma)   &   ~wiktionary_lemma.section_id2.str.endswith('_M')\n",
    "check_mask(wiktionary_lemma, mask, 0, 50)\n",
    "wiktionary_lemma, wiktionary_lemma_trash = pak.move_rows(df_from=wiktionary_lemma, df_to=wiktionary_lemma_trash, mask=mask, msg='lemma_nicht_erlaubte_sonderzeichen')"
   ]
  },
  {
   "cell_type": "code",
   "execution_count": null,
   "metadata": {
    "execution": {
     "iopub.status.busy": "2023-02-20T16:26:28.522150Z",
     "iopub.status.idle": "2023-02-20T16:26:28.523053Z",
     "shell.execute_reply": "2023-02-20T16:26:28.522860Z",
     "shell.execute_reply.started": "2023-02-20T16:26:28.522835Z"
    }
   },
   "outputs": [],
   "source": [
    "# wiktionary_nolemma enthält nicht_erlaubte_sonderzeichen\n",
    "mask = wiktionary_nolemma.lemma.str.contains(nicht_erlaubte_sonderzeichen_lemma) # siehe Steuertabellen\n",
    "check_mask(wiktionary_nolemma, mask, 0, 100)\n",
    "wiktionary_nolemma, wiktionary_nolemma_trash = pak.move_rows(df_from=wiktionary_nolemma, df_to=wiktionary_nolemma_trash, mask=mask, msg='lemma_nicht_erlaubte_sonderzeichen')\n",
    "grid(df, color='green')"
   ]
  },
  {
   "cell_type": "code",
   "execution_count": null,
   "metadata": {
    "execution": {
     "iopub.status.busy": "2023-02-20T16:26:28.523994Z",
     "iopub.status.idle": "2023-02-20T16:26:28.524854Z",
     "shell.execute_reply": "2023-02-20T16:26:28.524678Z",
     "shell.execute_reply.started": "2023-02-20T16:26:28.524656Z"
    }
   },
   "outputs": [],
   "source": [
    "# wiktionary_nolemma enthält nicht_erlaubte_sonderzeichen\n",
    "mask = wiktionary_nolemma.lex.str.contains(nicht_erlaubte_sonderzeichen_lemma) # siehe Steuertabellen\n",
    "check_mask(wiktionary_nolemma, mask, 0, 100)\n",
    "wiktionary_nolemma, wiktionary_nolemma_trash = pak.move_rows(df_from=wiktionary_nolemma, df_to=wiktionary_nolemma_trash, mask=mask, msg='lex_nicht_erlaubte_sonderzeichen')\n",
    "grid(df, color='green')"
   ]
  },
  {
   "cell_type": "code",
   "execution_count": null,
   "metadata": {
    "execution": {
     "iopub.status.busy": "2023-02-20T16:26:28.525765Z",
     "iopub.status.idle": "2023-02-20T16:26:28.526561Z",
     "shell.execute_reply": "2023-02-20T16:26:28.526402Z",
     "shell.execute_reply.started": "2023-02-20T16:26:28.526382Z"
    }
   },
   "outputs": [],
   "source": [
    "# data remove_str\n",
    "r = ['Verzeichnis:Deutsch/','Verzeichnis:','<sub>','</sub>','<sup>','</sup>','Wikipedia:de:','Wikipedia:',]\n",
    "wiktionary_merkmal['data'] = pak.remove_str(wiktionary_merkmal.data, r )"
   ]
  },
  {
   "cell_type": "code",
   "execution_count": null,
   "metadata": {
    "execution": {
     "iopub.status.busy": "2023-02-20T16:26:28.527378Z",
     "iopub.status.idle": "2023-02-20T16:26:28.528054Z",
     "shell.execute_reply": "2023-02-20T16:26:28.527911Z",
     "shell.execute_reply.started": "2023-02-20T16:26:28.527893Z"
    }
   },
   "outputs": [],
   "source": [
    "# data enthält Reste von Tags >> absplitten\n",
    "mask = wiktionary_merkmal.data.str.contains('<',regex=False)\n",
    "wiktionary_merkmal.loc[mask,'data'] = wiktionary_merkmal[mask].data.str.split('<').str[0]\n",
    "#wiktionary_merkmal[mask]"
   ]
  },
  {
   "cell_type": "code",
   "execution_count": null,
   "metadata": {
    "execution": {
     "iopub.status.busy": "2023-02-20T16:26:28.533384Z",
     "iopub.status.idle": "2023-02-20T16:26:28.534177Z",
     "shell.execute_reply": "2023-02-20T16:26:28.534025Z",
     "shell.execute_reply.started": "2023-02-20T16:26:28.534007Z"
    }
   },
   "outputs": [],
   "source": [
    "# data enthält Reste von Tags >> absplitten\n",
    "mask = wiktionary_merkmal.data.str.contains('{',regex=False)\n",
    "wiktionary_merkmal.loc[mask,'data'] = wiktionary_merkmal[mask].data.str.split('{').str[0]\n",
    "#wiktionary_merkmal[mask]"
   ]
  },
  {
   "cell_type": "code",
   "execution_count": null,
   "metadata": {
    "execution": {
     "iopub.status.busy": "2023-02-20T16:26:28.534966Z",
     "iopub.status.idle": "2023-02-20T16:26:28.536991Z",
     "shell.execute_reply": "2023-02-20T16:26:28.536766Z",
     "shell.execute_reply.started": "2023-02-20T16:26:28.536737Z"
    }
   },
   "outputs": [],
   "source": [
    "# wiktionary_merkmal data belöschen\n",
    "mask = wiktionary_merkmal.data.str.startswith(('http:','https:'))\n",
    "wiktionary_merkmal, wiktionary_merkmal_trash = pak.move_rows( df_from=wiktionary_merkmal, df_to=wiktionary_merkmal_trash, mask=mask, msg='data_startswith')"
   ]
  },
  {
   "cell_type": "code",
   "execution_count": null,
   "metadata": {
    "execution": {
     "iopub.status.busy": "2023-02-20T16:26:28.537945Z",
     "iopub.status.idle": "2023-02-20T16:26:28.540463Z",
     "shell.execute_reply": "2023-02-20T16:26:28.540229Z",
     "shell.execute_reply.started": "2023-02-20T16:26:28.540202Z"
    }
   },
   "outputs": [],
   "source": [
    "# wiktionary_merkmal data belöschen\n",
    "mask = wiktionary_merkmal.data.str.lower().str.endswith(('.jpg','.png','.gif'))\n",
    "wiktionary_merkmal, wiktionary_merkmal_trash = pak.move_rows( df_from=wiktionary_merkmal, df_to=wiktionary_merkmal_trash, mask=mask,  msg='data_endswith')"
   ]
  },
  {
   "cell_type": "code",
   "execution_count": null,
   "metadata": {
    "execution": {
     "iopub.status.busy": "2023-02-20T16:26:28.541395Z",
     "iopub.status.idle": "2023-02-20T16:26:28.542148Z",
     "shell.execute_reply": "2023-02-20T16:26:28.541986Z",
     "shell.execute_reply.started": "2023-02-20T16:26:28.541966Z"
    }
   },
   "outputs": [],
   "source": [
    "# wiktionary_merkmal node_kontext belöschen\n",
    "mask = wiktionary_merkmal.node_kontext.str.startswith(('mini|','thumb|','|'))\n",
    "wiktionary_merkmal, wiktionary_merkmal_trash = pak.move_rows( df_from=wiktionary_merkmal, df_to=wiktionary_merkmal_trash, mask=mask, msg='node_kontext_startswith')"
   ]
  },
  {
   "cell_type": "code",
   "execution_count": null,
   "metadata": {
    "execution": {
     "iopub.status.busy": "2023-02-20T16:26:28.543000Z",
     "iopub.status.idle": "2023-02-20T16:26:28.544281Z",
     "shell.execute_reply": "2023-02-20T16:26:28.544081Z",
     "shell.execute_reply.started": "2023-02-20T16:26:28.544056Z"
    }
   },
   "outputs": [],
   "source": [
    "# wiktionary_merkmal node_kontext belöschen\n",
    "mask = wiktionary_merkmal.node_kontext.str.contains('px|', regex=False)\n",
    "wiktionary_merkmal, wiktionary_merkmal_trash = pak.move_rows( df_from=wiktionary_merkmal, df_to=wiktionary_merkmal_trash, mask=mask, msg='node_kontext_contains')"
   ]
  },
  {
   "cell_type": "code",
   "execution_count": null,
   "metadata": {
    "execution": {
     "iopub.status.busy": "2023-02-20T16:26:28.548514Z",
     "iopub.status.idle": "2023-02-20T16:26:28.549313Z",
     "shell.execute_reply": "2023-02-20T16:26:28.549147Z",
     "shell.execute_reply.started": "2023-02-20T16:26:28.549126Z"
    }
   },
   "outputs": [],
   "source": [
    "# wiktionary_merkmal enthält nicht_erlaubte_sonderzeichen\n",
    "# >> löschen\n",
    "\n",
    "felder = ['node_debug','node_kontext','meta','data'] \n",
    "for feld in felder: \n",
    "    mask = wiktionary_merkmal[feld].str.contains(nicht_erlaubte_sonderzeichen_gnädig) \n",
    "    print(feld)\n",
    "    #check_mask(wiktionary_merkmal, mask, 0, 20)\n",
    "    wiktionary_merkmal, wiktionary_merkmal_trash = pak.move_rows( df_from=wiktionary_merkmal, df_to=wiktionary_merkmal_trash, mask=mask, msg= feld + '_sonderzeichen')\n",
    "    "
   ]
  },
  {
   "cell_type": "code",
   "execution_count": null,
   "metadata": {
    "execution": {
     "iopub.status.busy": "2023-02-20T16:26:28.550117Z",
     "iopub.status.idle": "2023-02-20T16:26:28.550825Z",
     "shell.execute_reply": "2023-02-20T16:26:28.550670Z",
     "shell.execute_reply.started": "2023-02-20T16:26:28.550651Z"
    }
   },
   "outputs": [],
   "source": [
    "assert not pak.any_nan(wiktionary_merkmal.data) "
   ]
  },
  {
   "cell_type": "code",
   "execution_count": null,
   "metadata": {
    "execution": {
     "iopub.status.busy": "2023-02-20T16:26:28.551654Z",
     "iopub.status.idle": "2023-02-20T16:26:28.552373Z",
     "shell.execute_reply": "2023-02-20T16:26:28.552223Z",
     "shell.execute_reply.started": "2023-02-20T16:26:28.552204Z"
    }
   },
   "outputs": [],
   "source": [
    "#mask = wiktionary_merkmal.data.isnull()\n",
    "#grid(wiktionary_merkmal, mask, color='green')"
   ]
  },
  {
   "cell_type": "code",
   "execution_count": null,
   "metadata": {
    "execution": {
     "iopub.status.busy": "2023-02-20T16:26:28.553350Z",
     "iopub.status.idle": "2023-02-20T16:26:28.553676Z",
     "shell.execute_reply": "2023-02-20T16:26:28.553539Z",
     "shell.execute_reply.started": "2023-02-20T16:26:28.553524Z"
    }
   },
   "outputs": [],
   "source": [
    "a = pak.analyse_freqs(wiktionary_merkmal_trash,['msg','data','meta'])\n",
    "grid(a)"
   ]
  },
  {
   "cell_type": "code",
   "execution_count": null,
   "metadata": {
    "execution": {
     "iopub.status.busy": "2023-02-20T16:26:28.557430Z",
     "iopub.status.idle": "2023-02-20T16:26:28.558164Z",
     "shell.execute_reply": "2023-02-20T16:26:28.558013Z",
     "shell.execute_reply.started": "2023-02-20T16:26:28.557995Z"
    }
   },
   "outputs": [],
   "source": [
    "mask = (wiktionary_merkmal_trash.msg == 'data_endswith')\n",
    "#grid(wiktionary_merkmal_trash,mask)\n",
    "grid(wiktionary_merkmal_trash,mask)"
   ]
  },
  {
   "cell_type": "code",
   "execution_count": null,
   "metadata": {
    "execution": {
     "iopub.status.busy": "2023-02-20T16:26:28.558921Z",
     "iopub.status.idle": "2023-02-20T16:26:28.559593Z",
     "shell.execute_reply": "2023-02-20T16:26:28.559438Z",
     "shell.execute_reply.started": "2023-02-20T16:26:28.559421Z"
    }
   },
   "outputs": [],
   "source": [
    "# Beispiel anschauen\n",
    "mask = wiktionary_merkmal.section_id2 == suche_debug[0]\n",
    "grid(wiktionary_merkmal,mask)"
   ]
  },
  {
   "cell_type": "markdown",
   "metadata": {},
   "source": [
    "## wiktionary_merkmal"
   ]
  },
  {
   "cell_type": "markdown",
   "metadata": {},
   "source": [
    "### node_debug >> member\n",
    "* member durch Daten aus der Spalte node_debug ergänzen"
   ]
  },
  {
   "cell_type": "code",
   "execution_count": null,
   "metadata": {
    "execution": {
     "iopub.status.busy": "2023-02-20T16:26:28.560418Z",
     "iopub.status.idle": "2023-02-20T16:26:28.560770Z",
     "shell.execute_reply": "2023-02-20T16:26:28.560637Z",
     "shell.execute_reply.started": "2023-02-20T16:26:28.560621Z"
    }
   },
   "outputs": [],
   "source": [
    "# übersicht reinigen mit remove_str und replace_str\n",
    "mask = (wiktionary_merkmal.merkmal == 'übersicht')\n",
    "r = ['-sch', 'Bairisch','Deutsch', ' f',' m',' n', 'Übersicht']\n",
    "wiktionary_merkmal.loc[mask, 'node_debug'] = pak.remove_str(wiktionary_merkmal[mask].node_debug, r)\n",
    "\n",
    "r = {'Pronomina-Tabelle': 'Pronomen', 'adjektivisch':'adjNN', 'Eigenname':'Name'}\n",
    "wiktionary_merkmal.loc[mask, 'node_debug'] = pak.replace_str(wiktionary_merkmal[mask].node_debug, r)"
   ]
  },
  {
   "cell_type": "code",
   "execution_count": null,
   "metadata": {
    "execution": {
     "iopub.status.busy": "2023-02-20T16:26:28.561827Z",
     "iopub.status.idle": "2023-02-20T16:26:28.564932Z",
     "shell.execute_reply": "2023-02-20T16:26:28.564711Z",
     "shell.execute_reply.started": "2023-02-20T16:26:28.564683Z"
    }
   },
   "outputs": [],
   "source": [
    "mask = (wiktionary_merkmal.merkmal == 'übersicht')\n",
    "a = pak.analyse_freqs(wiktionary_merkmal[mask], ['node_debug', 'section_id2'], splits=[' ',None])\n",
    "a"
   ]
  },
  {
   "cell_type": "code",
   "execution_count": null,
   "metadata": {
    "execution": {
     "iopub.status.busy": "2023-02-20T16:26:28.565812Z",
     "iopub.status.idle": "2023-02-20T16:26:28.566516Z",
     "shell.execute_reply": "2023-02-20T16:26:28.566367Z",
     "shell.execute_reply.started": "2023-02-20T16:26:28.566348Z"
    }
   },
   "outputs": [],
   "source": [
    "# member_plus festlegen\n",
    "mask = (wiktionary_merkmal.merkmal == 'übersicht')   &   (wiktionary_merkmal.node_debug.str.len() > 0)\n",
    "spalten = ['section_id2','node_debug']\n",
    "df = wiktionary_merkmal[mask][spalten].drop_duplicates()\n",
    "df.columns = ['section_id2','member_plus']\n",
    "#grid(df,sample)"
   ]
  },
  {
   "cell_type": "code",
   "execution_count": null,
   "metadata": {
    "execution": {
     "iopub.status.busy": "2023-02-20T16:26:28.567333Z",
     "iopub.status.idle": "2023-02-20T16:26:28.569685Z",
     "shell.execute_reply": "2023-02-20T16:26:28.569470Z",
     "shell.execute_reply.started": "2023-02-20T16:26:28.569442Z"
    }
   },
   "outputs": [],
   "source": [
    "# an member anhängen\n",
    "wiktionary_lemma = pak.update_col(wiktionary_lemma, df, on='section_id2',col='member_plus')\n",
    "mask = (wiktionary_lemma.member_plus.str.len() > 0)\n",
    "wiktionary_lemma.loc[mask,'member'] = wiktionary_lemma[mask].member.str.strip() + ' ' + wiktionary_lemma[mask].member_plus.str.strip()\n",
    "wiktionary_lemma = pak.drop_cols(wiktionary_lemma, 'member_plus')"
   ]
  },
  {
   "cell_type": "code",
   "execution_count": null,
   "metadata": {
    "execution": {
     "iopub.status.busy": "2023-02-20T16:26:28.570600Z",
     "iopub.status.idle": "2023-02-20T16:26:28.571288Z",
     "shell.execute_reply": "2023-02-20T16:26:28.571142Z",
     "shell.execute_reply.started": "2023-02-20T16:26:28.571124Z"
    }
   },
   "outputs": [],
   "source": [
    "# node_debug leeren\n",
    "mask = (wiktionary_merkmal.merkmal == 'übersicht')\n",
    "wiktionary_merkmal.loc[mask,'node_debug'] = ''"
   ]
  },
  {
   "cell_type": "code",
   "execution_count": null,
   "metadata": {
    "execution": {
     "iopub.status.busy": "2023-02-20T16:26:28.572073Z",
     "iopub.status.idle": "2023-02-20T16:26:28.574134Z",
     "shell.execute_reply": "2023-02-20T16:26:28.573911Z",
     "shell.execute_reply.started": "2023-02-20T16:26:28.573883Z"
    }
   },
   "outputs": [],
   "source": [
    "# Letzte Löschungen\n",
    "r = ['Wortart fehlt']\n",
    "wiktionary_merkmal.node_debug = pak.remove_str( wiktionary_merkmal.node_debug, r )"
   ]
  },
  {
   "cell_type": "code",
   "execution_count": null,
   "metadata": {
    "execution": {
     "iopub.status.busy": "2023-02-20T16:26:28.575023Z",
     "iopub.status.idle": "2023-02-20T16:26:28.578676Z",
     "shell.execute_reply": "2023-02-20T16:26:28.578454Z",
     "shell.execute_reply.started": "2023-02-20T16:26:28.578427Z"
    }
   },
   "outputs": [],
   "source": [
    "# node_debug löschen (müsste jetzt überall leer sein)\n",
    "mask = (wiktionary_merkmal.node_debug.str.len() > 0)\n",
    "if version == '_all':\n",
    "    check_mask(wiktionary_merkmal, mask, 0, 0)\n",
    "wiktionary_merkmal = pak.drop_cols(wiktionary_merkmal, 'node_debug')   "
   ]
  },
  {
   "cell_type": "markdown",
   "metadata": {},
   "source": [
    "### übersicht und flexion\n",
    "* aus wiktionary_merkmal herausnehmen, pflegen und wieder anfügen"
   ]
  },
  {
   "cell_type": "code",
   "execution_count": null,
   "metadata": {
    "execution": {
     "iopub.status.busy": "2023-02-20T16:26:28.579674Z",
     "iopub.status.idle": "2023-02-20T16:26:28.580386Z",
     "shell.execute_reply": "2023-02-20T16:26:28.580228Z",
     "shell.execute_reply.started": "2023-02-20T16:26:28.580209Z"
    }
   },
   "outputs": [],
   "source": [
    "# Beispiel anschauen\n",
    "mask = wiktionary_merkmal.section_id2 == suche_debug[0]\n",
    "grid(wiktionary_merkmal,mask)"
   ]
  },
  {
   "cell_type": "code",
   "execution_count": null,
   "metadata": {
    "execution": {
     "iopub.status.busy": "2023-02-20T16:26:28.581192Z",
     "iopub.status.idle": "2023-02-20T16:26:28.581870Z",
     "shell.execute_reply": "2023-02-20T16:26:28.581726Z",
     "shell.execute_reply.started": "2023-02-20T16:26:28.581709Z"
    }
   },
   "outputs": [],
   "source": [
    "# nach flexion auslagern\n",
    "mask = wiktionary_merkmal.merkmal.isin(['übersicht','flexion']) \n",
    "wiktionary_merkmal, flexion = pak.move_rows( wiktionary_merkmal, mask, msg=None ) \n",
    "flexion_trash = flexion.head(0)"
   ]
  },
  {
   "cell_type": "code",
   "execution_count": null,
   "metadata": {
    "execution": {
     "iopub.status.busy": "2023-02-20T16:26:28.582620Z",
     "iopub.status.idle": "2023-02-20T16:26:28.583609Z",
     "shell.execute_reply": "2023-02-20T16:26:28.583434Z",
     "shell.execute_reply.started": "2023-02-20T16:26:28.583413Z"
    }
   },
   "outputs": [],
   "source": [
    "# In wiktionary_merkmal ist node_kontext jetzt überflüssig\n",
    "wiktionary_merkmal = pak.drop_cols(wiktionary_merkmal, 'node_kontext') "
   ]
  },
  {
   "cell_type": "code",
   "execution_count": null,
   "metadata": {
    "execution": {
     "iopub.status.busy": "2023-02-20T16:26:28.589274Z",
     "iopub.status.idle": "2023-02-20T16:26:28.589996Z",
     "shell.execute_reply": "2023-02-20T16:26:28.589850Z",
     "shell.execute_reply.started": "2023-02-20T16:26:28.589833Z"
    }
   },
   "outputs": [],
   "source": [
    "flexion = pak.rename_col(flexion, 'merkmal',      'quelle')\n",
    "flexion = pak.rename_col(flexion, 'node_kontext', 'merkmal_lang')\n",
    "flexion = pak.drop_cols(flexion, ['num','meta','msg','section_id','quelle'])\n",
    "flexion['merkmal'] = flexion.merkmal_lang.copy()\n",
    "flexion = pak.move_cols( flexion, ['section_id2', 'merkmal_lang', 'merkmal', 'data'])"
   ]
  },
  {
   "cell_type": "code",
   "execution_count": null,
   "metadata": {
    "execution": {
     "iopub.status.busy": "2023-02-20T16:26:28.590758Z",
     "iopub.status.idle": "2023-02-20T16:26:28.591444Z",
     "shell.execute_reply": "2023-02-20T16:26:28.591293Z",
     "shell.execute_reply.started": "2023-02-20T16:26:28.591273Z"
    }
   },
   "outputs": [],
   "source": [
    "# Dups entfernen\n",
    "flexion = pak.reset_index(flexion.drop_duplicates())"
   ]
  },
  {
   "cell_type": "code",
   "execution_count": null,
   "metadata": {
    "execution": {
     "iopub.status.busy": "2023-02-20T16:26:28.592217Z",
     "iopub.status.idle": "2023-02-20T16:26:28.592911Z",
     "shell.execute_reply": "2023-02-20T16:26:28.592766Z",
     "shell.execute_reply.started": "2023-02-20T16:26:28.592748Z"
    }
   },
   "outputs": [],
   "source": [
    "# meta schreiben\n",
    "# dazu lexeme_manuell nochmal aufklappen, um an die lexeme heranzukommen\n",
    "df = pak.explode_dict(lexeme_manuell, col_dict='flexion', col_key='key', col_value='data', from_defaultdict=True)\n",
    "mask = df.section_id2 == 'und'\n",
    "df[mask]"
   ]
  },
  {
   "cell_type": "code",
   "execution_count": null,
   "metadata": {
    "execution": {
     "iopub.status.busy": "2023-02-20T16:26:28.593682Z",
     "iopub.status.idle": "2023-02-20T16:26:28.594362Z",
     "shell.execute_reply": "2023-02-20T16:26:28.594215Z",
     "shell.execute_reply.started": "2023-02-20T16:26:28.594197Z"
    }
   },
   "outputs": [],
   "source": [
    "# meta schreiben\n",
    "flexion['meta'] = ''\n",
    "mask = pak.isin( flexion, df, on=['section_id2','data'])\n",
    "check_mask(flexion,mask)\n",
    "flexion.loc[mask,'meta'] = 'manuell'"
   ]
  },
  {
   "cell_type": "code",
   "execution_count": null,
   "metadata": {
    "execution": {
     "iopub.status.busy": "2023-02-20T16:26:28.595119Z",
     "iopub.status.idle": "2023-02-20T16:26:28.595777Z",
     "shell.execute_reply": "2023-02-20T16:26:28.595624Z",
     "shell.execute_reply.started": "2023-02-20T16:26:28.595605Z"
    }
   },
   "outputs": [],
   "source": [
    "# TODO_Widersprüchliche_Angaben l\n",
    "mask1 = pak.same_but_different(flexion, same=['section_id2','merkmal_lang'], different='data', return_mask=True)\n",
    "mask2 = flexion.merkmal == 'Genus'\n",
    "mask3 = flexion.section_id2 != 'Fräulein'\n",
    "mask = mask1  &  mask2  &  mask3\n",
    "check_mask(flexion, mask, 0, 20)\n",
    "bgc('orange')"
   ]
  },
  {
   "cell_type": "code",
   "execution_count": null,
   "metadata": {
    "execution": {
     "iopub.status.busy": "2023-02-20T16:26:28.596594Z",
     "iopub.status.idle": "2023-02-20T16:26:28.598859Z",
     "shell.execute_reply": "2023-02-20T16:26:28.598630Z",
     "shell.execute_reply.started": "2023-02-20T16:26:28.598599Z"
    }
   },
   "outputs": [],
   "source": [
    "grid(flexion[mask].sort_values(['section_id2']))"
   ]
  },
  {
   "cell_type": "code",
   "execution_count": null,
   "metadata": {
    "execution": {
     "iopub.status.busy": "2023-02-20T16:26:28.599790Z",
     "iopub.status.idle": "2023-02-20T16:26:28.602069Z",
     "shell.execute_reply": "2023-02-20T16:26:28.601843Z",
     "shell.execute_reply.started": "2023-02-20T16:26:28.601815Z"
    }
   },
   "outputs": [],
   "source": [
    "# abspalten\n",
    "flexion, df = pak.move_rows(flexion, mask, msg=None)\n",
    "\n",
    "# auswählen\n",
    "df = df.drop_duplicates(subset=['section_id2','merkmal'])\n",
    "\n",
    "# wieder anfügen\n",
    "flexion = pak.add_rows(flexion, df)"
   ]
  },
  {
   "cell_type": "code",
   "execution_count": null,
   "metadata": {
    "execution": {
     "iopub.status.busy": "2023-02-20T16:26:28.603012Z",
     "iopub.status.idle": "2023-02-20T16:26:28.605437Z",
     "shell.execute_reply": "2023-02-20T16:26:28.605209Z",
     "shell.execute_reply.started": "2023-02-20T16:26:28.605180Z"
    }
   },
   "outputs": [],
   "source": [
    "# merkmal reinigen\n",
    "\n",
    "# 'Ptz1' und 'Ptz2' maskieren\n",
    "flexion['merkmal'] = pak.replace_str(flexion.merkmal, {'Ptz1':'PtzA', 'Ptz2':'PtzB'})\n",
    "\n",
    "# merkmal reinigen\n",
    "r = ['*','1','2','3','4','stark','schwach','gemischt']\n",
    "flexion['merkmal'] = pak.remove_str(flexion.merkmal, r)\n",
    "\n",
    "# 'Ptz1' und 'Ptz2' demaskieren\n",
    "flexion['merkmal'] = pak.replace_str(flexion.merkmal, {'PtzA':'Ptz1', 'PtzB':'Ptz2'})"
   ]
  },
  {
   "cell_type": "code",
   "execution_count": null,
   "metadata": {
    "execution": {
     "iopub.status.busy": "2023-02-20T16:26:28.606365Z",
     "iopub.status.idle": "2023-02-20T16:26:28.607043Z",
     "shell.execute_reply": "2023-02-20T16:26:28.606896Z",
     "shell.execute_reply.started": "2023-02-20T16:26:28.606878Z"
    }
   },
   "outputs": [],
   "source": [
    "# Beispiel anschauen\n",
    "mask = flexion.section_id2 == suche_debug[0]\n",
    "grid(flexion,mask)"
   ]
  },
  {
   "cell_type": "code",
   "execution_count": null,
   "metadata": {
    "execution": {
     "iopub.status.busy": "2023-02-20T16:26:28.608470Z",
     "iopub.status.idle": "2023-02-20T16:26:28.609892Z",
     "shell.execute_reply": "2023-02-20T16:26:28.609683Z",
     "shell.execute_reply.started": "2023-02-20T16:26:28.609657Z"
    }
   },
   "outputs": [],
   "source": [
    "# translate_first\n",
    "\n",
    "print(translate_first1)\n",
    "print(translate_first2)\n",
    "\n",
    "for quelle, ziel in translate_first1:\n",
    "    flexion.merkmal = flexion.merkmal.str.replace( quelle, ziel )\n",
    "\n",
    "for quelle, ziel in translate_first2:\n",
    "    flexion.merkmal = flexion.merkmal.str.replace( quelle, ziel )"
   ]
  },
  {
   "cell_type": "code",
   "execution_count": null,
   "metadata": {
    "execution": {
     "iopub.status.busy": "2023-02-20T16:26:28.611375Z",
     "iopub.status.idle": "2023-02-20T16:26:28.613187Z",
     "shell.execute_reply": "2023-02-20T16:26:28.612970Z",
     "shell.execute_reply.started": "2023-02-20T16:26:28.612942Z"
    }
   },
   "outputs": [],
   "source": [
    "translate_merkmal"
   ]
  },
  {
   "cell_type": "code",
   "execution_count": null,
   "metadata": {
    "execution": {
     "iopub.status.busy": "2023-02-20T16:26:28.615633Z",
     "iopub.status.idle": "2023-02-20T16:26:28.616428Z",
     "shell.execute_reply": "2023-02-20T16:26:28.616271Z",
     "shell.execute_reply.started": "2023-02-20T16:26:28.616252Z"
    }
   },
   "outputs": [],
   "source": [
    "# translate_merkmal: merkmal reinigen\n",
    "flexion['merkmal'] = pak.replace_str(flexion.merkmal, translate_merkmal)"
   ]
  },
  {
   "cell_type": "code",
   "execution_count": null,
   "metadata": {
    "execution": {
     "iopub.status.busy": "2023-02-20T16:26:28.617229Z",
     "iopub.status.idle": "2023-02-20T16:26:28.619830Z",
     "shell.execute_reply": "2023-02-20T16:26:28.619601Z",
     "shell.execute_reply.started": "2023-02-20T16:26:28.619572Z"
    }
   },
   "outputs": [],
   "source": [
    "#a = analyse_freqs(flexion,'merkmal','data', split_A=' ', style='top') # \n",
    "#grid(a)"
   ]
  },
  {
   "cell_type": "code",
   "execution_count": null,
   "metadata": {
    "execution": {
     "iopub.status.busy": "2023-02-20T16:26:28.620745Z",
     "iopub.status.idle": "2023-02-20T16:26:28.621642Z",
     "shell.execute_reply": "2023-02-20T16:26:28.621460Z",
     "shell.execute_reply.started": "2023-02-20T16:26:28.621437Z"
    }
   },
   "outputs": [],
   "source": [
    "# strip\n",
    "flexion.merkmal = flexion.merkmal.str.replace('  ',' ').str.strip()"
   ]
  },
  {
   "cell_type": "code",
   "execution_count": null,
   "metadata": {
    "execution": {
     "iopub.status.busy": "2023-02-20T16:26:28.629242Z",
     "iopub.status.idle": "2023-02-20T16:26:28.629594Z",
     "shell.execute_reply": "2023-02-20T16:26:28.629453Z",
     "shell.execute_reply.started": "2023-02-20T16:26:28.629437Z"
    }
   },
   "outputs": [],
   "source": [
    "# Einige Merkmale löschen\n",
    "r = ['','Weitere Konjugationen','beschreibung','bezug','breite','Jahr','Titel','am','Zugriff','Monat','Tag','Autor','Bild','Flexion','unpersönlich',\n",
    "     'Kommentar','zugriff','hrsg','Artikel','größe','titel','Ort','spr','Verlag','Seiten','autor','datum','Weitere','kein-s', 'Kein-ens','Datum',\n",
    "     'EW','ISBN','Originalsprache','TitelErg','dim','kommentar','name','region','sprache','text','Keine weiteren Formen',   \n",
    "    ]\n",
    "mask = flexion.merkmal.isin(r)\n",
    "flexion, flexion_trash = pak.move_rows(df_from=flexion, df_to=flexion_trash, mask=mask, msg='ungenutzte_Merkmale')\n",
    "grid(df)"
   ]
  },
  {
   "cell_type": "code",
   "execution_count": null,
   "metadata": {
    "execution": {
     "iopub.status.busy": "2023-02-20T16:26:28.630616Z",
     "iopub.status.idle": "2023-02-20T16:26:28.631098Z",
     "shell.execute_reply": "2023-02-20T16:26:28.630957Z",
     "shell.execute_reply.started": "2023-02-20T16:26:28.630940Z"
    }
   },
   "outputs": [],
   "source": [
    "# merkmale sortieren\n",
    "flexion = sort_merkmale(flexion)"
   ]
  },
  {
   "cell_type": "code",
   "execution_count": null,
   "metadata": {
    "execution": {
     "iopub.status.busy": "2023-02-20T16:26:28.631950Z",
     "iopub.status.idle": "2023-02-20T16:26:28.632254Z",
     "shell.execute_reply": "2023-02-20T16:26:28.632128Z",
     "shell.execute_reply.started": "2023-02-20T16:26:28.632113Z"
    }
   },
   "outputs": [],
   "source": [
    "# Müll löschen (obsolet: Das wurde weiter oben schon gelöscht)\n",
    "mask = flexion.merkmal.str.contains('|', regex=False)\n",
    "flexion, flexion_trash = pak.move_rows(df_from=flexion, df_to=flexion_trash, mask=mask, msg='Müll1')\n",
    "grid(df, color='green')"
   ]
  },
  {
   "cell_type": "code",
   "execution_count": null,
   "metadata": {
    "execution": {
     "iopub.status.busy": "2023-02-20T16:26:28.633149Z",
     "iopub.status.idle": "2023-02-20T16:26:28.633439Z",
     "shell.execute_reply": "2023-02-20T16:26:28.633317Z",
     "shell.execute_reply.started": "2023-02-20T16:26:28.633303Z"
    }
   },
   "outputs": [],
   "source": [
    "# Müll löschen (obsolet: Das wurde weiter oben schon gelöscht)\n",
    "mask = flexion.data.str.contains('<', regex=False)\n",
    "flexion, flexion_trash = pak.move_rows(df_from=flexion, df_to=flexion_trash, mask=mask, msg='Müll2') \n",
    "grid(df, color='green')"
   ]
  },
  {
   "cell_type": "code",
   "execution_count": null,
   "metadata": {
    "execution": {
     "iopub.status.busy": "2023-02-20T16:26:28.634118Z",
     "iopub.status.idle": "2023-02-20T16:26:28.634412Z",
     "shell.execute_reply": "2023-02-20T16:26:28.634284Z",
     "shell.execute_reply.started": "2023-02-20T16:26:28.634270Z"
    }
   },
   "outputs": [],
   "source": [
    "# Striche vereinheitlichen\n",
    "r = {'—':'-', '–':'-'}\n",
    "flexion.data = pak.replace_str(flexion.data, r)"
   ]
  },
  {
   "cell_type": "code",
   "execution_count": null,
   "metadata": {
    "execution": {
     "iopub.status.busy": "2023-02-20T16:26:28.636036Z",
     "iopub.status.idle": "2023-02-20T16:26:28.636376Z",
     "shell.execute_reply": "2023-02-20T16:26:28.636240Z",
     "shell.execute_reply.started": "2023-02-20T16:26:28.636224Z"
    }
   },
   "outputs": [],
   "source": [
    "a = pak.analyse_freqs(flexion,['merkmal','data'], splits=[' ', None]) # \n",
    "grid(a)"
   ]
  },
  {
   "cell_type": "code",
   "execution_count": null,
   "metadata": {
    "execution": {
     "iopub.status.busy": "2023-02-20T16:26:28.637393Z",
     "iopub.status.idle": "2023-02-20T16:26:28.637704Z",
     "shell.execute_reply": "2023-02-20T16:26:28.637577Z",
     "shell.execute_reply.started": "2023-02-20T16:26:28.637562Z"
    }
   },
   "outputs": [],
   "source": [
    "a = pak.analyse_freqs(flexion,['merkmal','data']) \n",
    "grid(a)"
   ]
  },
  {
   "cell_type": "code",
   "execution_count": null,
   "metadata": {
    "execution": {
     "iopub.status.busy": "2023-02-20T16:26:28.645431Z",
     "iopub.status.idle": "2023-02-20T16:26:28.645917Z",
     "shell.execute_reply": "2023-02-20T16:26:28.645769Z",
     "shell.execute_reply.started": "2023-02-20T16:26:28.645751Z"
    }
   },
   "outputs": [],
   "source": [
    "a = pak.analyse_freqs(flexion,['sort','merkmal']) # \n",
    "grid(a)"
   ]
  },
  {
   "cell_type": "code",
   "execution_count": null,
   "metadata": {
    "execution": {
     "iopub.status.busy": "2023-02-20T16:26:28.646731Z",
     "iopub.status.idle": "2023-02-20T16:26:28.647031Z",
     "shell.execute_reply": "2023-02-20T16:26:28.646904Z",
     "shell.execute_reply.started": "2023-02-20T16:26:28.646890Z"
    }
   },
   "outputs": [],
   "source": [
    "# flexion wieder an wiktionary_merkmal anfügen\n",
    "\n",
    "df = pak.drop_cols(flexion, ['merkmal_lang','sort'])\n",
    "df = df.drop_duplicates()\n",
    "#grid(df)\n",
    "wiktionary_merkmal = pak.add_rows(wiktionary_merkmal, df)"
   ]
  },
  {
   "cell_type": "code",
   "execution_count": null,
   "metadata": {
    "execution": {
     "iopub.status.busy": "2023-02-20T16:26:28.647882Z",
     "iopub.status.idle": "2023-02-20T16:26:28.648175Z",
     "shell.execute_reply": "2023-02-20T16:26:28.648051Z",
     "shell.execute_reply.started": "2023-02-20T16:26:28.648037Z"
    }
   },
   "outputs": [],
   "source": [
    "# Beispiel anzeigen \n",
    "mask = (wiktionary_merkmal.section_id2 == suche_debug[0])\n",
    "grid(wiktionary_merkmal,mask)"
   ]
  },
  {
   "cell_type": "code",
   "execution_count": null,
   "metadata": {
    "execution": {
     "iopub.status.busy": "2023-02-20T16:26:28.648855Z",
     "iopub.status.idle": "2023-02-20T16:26:28.649316Z",
     "shell.execute_reply": "2023-02-20T16:26:28.649180Z",
     "shell.execute_reply.started": "2023-02-20T16:26:28.649163Z"
    }
   },
   "outputs": [],
   "source": [
    "# Speicher sparen\n",
    "if speicher_freigeben:\n",
    "    del flexion"
   ]
  },
  {
   "cell_type": "markdown",
   "metadata": {},
   "source": [
    "### wiktionary_merkmal pflegen\n",
    "* Diverse Pflegeschritte"
   ]
  },
  {
   "cell_type": "code",
   "execution_count": null,
   "metadata": {
    "execution": {
     "iopub.status.busy": "2023-02-20T16:26:28.652279Z",
     "iopub.status.idle": "2023-02-20T16:26:28.652658Z",
     "shell.execute_reply": "2023-02-20T16:26:28.652502Z",
     "shell.execute_reply.started": "2023-02-20T16:26:28.652486Z"
    }
   },
   "outputs": [],
   "source": [
    "# drop_cols\n",
    "wiktionary_merkmal = pak.drop_cols(wiktionary_merkmal,['rhymes','inflected','lang','lang_code','lemma_lower'])"
   ]
  },
  {
   "cell_type": "code",
   "execution_count": null,
   "metadata": {
    "execution": {
     "iopub.status.busy": "2023-02-20T16:26:28.653192Z",
     "iopub.status.idle": "2023-02-20T16:26:28.653611Z",
     "shell.execute_reply": "2023-02-20T16:26:28.653335Z",
     "shell.execute_reply.started": "2023-02-20T16:26:28.653322Z"
    }
   },
   "outputs": [],
   "source": [
    "mask = wiktionary_merkmal.merkmal == 'rhymes'\n",
    "wiktionary_merkmal[mask]"
   ]
  },
  {
   "cell_type": "code",
   "execution_count": null,
   "metadata": {
    "execution": {
     "iopub.status.busy": "2023-02-20T16:26:28.654994Z",
     "iopub.status.idle": "2023-02-20T16:26:28.655335Z",
     "shell.execute_reply": "2023-02-20T16:26:28.655196Z",
     "shell.execute_reply.started": "2023-02-20T16:26:28.655181Z"
    }
   },
   "outputs": [],
   "source": [
    "# change_datatype\n",
    "wiktionary_merkmal = pak.change_datatype(wiktionary_merkmal)"
   ]
  },
  {
   "cell_type": "code",
   "execution_count": null,
   "metadata": {
    "execution": {
     "iopub.status.busy": "2023-02-20T16:26:28.660821Z",
     "iopub.status.idle": "2023-02-20T16:26:28.661327Z",
     "shell.execute_reply": "2023-02-20T16:26:28.661175Z",
     "shell.execute_reply.started": "2023-02-20T16:26:28.661158Z"
    }
   },
   "outputs": [],
   "source": [
    "# Keine nan in data\n",
    "assert not pak.any_nan(wiktionary_merkmal.data) "
   ]
  },
  {
   "cell_type": "code",
   "execution_count": null,
   "metadata": {
    "execution": {
     "iopub.status.busy": "2023-02-20T16:26:28.662223Z",
     "iopub.status.idle": "2023-02-20T16:26:28.662527Z",
     "shell.execute_reply": "2023-02-20T16:26:28.662403Z",
     "shell.execute_reply.started": "2023-02-20T16:26:28.662389Z"
    }
   },
   "outputs": [],
   "source": [
    "# herkunft: meta leeren\n",
    "mask = wiktionary_merkmal.merkmal.isin(['herkunft']) \n",
    "wiktionary_merkmal.loc[mask,'meta'] = ''\n",
    "#grid(wiktionary_merkmal, mask)"
   ]
  },
  {
   "cell_type": "code",
   "execution_count": null,
   "metadata": {
    "execution": {
     "iopub.status.busy": "2023-02-20T16:26:28.663456Z",
     "iopub.status.idle": "2023-02-20T16:26:28.663834Z",
     "shell.execute_reply": "2023-02-20T16:26:28.663699Z",
     "shell.execute_reply.started": "2023-02-20T16:26:28.663682Z"
    }
   },
   "outputs": [],
   "source": [
    "#grid(wiktionary_merkmal_trash)"
   ]
  },
  {
   "cell_type": "code",
   "execution_count": null,
   "metadata": {
    "execution": {
     "iopub.status.busy": "2023-02-20T16:26:28.664754Z",
     "iopub.status.idle": "2023-02-20T16:26:28.665510Z",
     "shell.execute_reply": "2023-02-20T16:26:28.665352Z",
     "shell.execute_reply.started": "2023-02-20T16:26:28.665332Z"
    }
   },
   "outputs": [],
   "source": [
    "# noPl\n",
    "mask = (wiktionary_merkmal.data.str.len() <= 1)  &   wiktionary_merkmal.merkmal.str.endswith('Pl')   &   (wiktionary_merkmal.merkmal != 'noPl')\n",
    "wiktionary_merkmal.loc[mask,'merkmal'] = 'noPl¼'\n",
    "wiktionary_merkmal.loc[mask,'data']    = '1'"
   ]
  },
  {
   "cell_type": "code",
   "execution_count": null,
   "metadata": {
    "execution": {
     "iopub.status.busy": "2023-02-20T16:26:28.666070Z",
     "iopub.status.idle": "2023-02-20T16:26:28.666347Z",
     "shell.execute_reply": "2023-02-20T16:26:28.666226Z",
     "shell.execute_reply.started": "2023-02-20T16:26:28.666212Z"
    }
   },
   "outputs": [],
   "source": [
    "# noSg\n",
    "mask = (wiktionary_merkmal.data.str.len() <= 1)  &   wiktionary_merkmal.merkmal.str.endswith('Sg')   &   (wiktionary_merkmal.merkmal != 'noSg')\n",
    "wiktionary_merkmal.loc[mask,'merkmal'] = 'noSg¼'\n",
    "wiktionary_merkmal.loc[mask,'data']    = '1'"
   ]
  },
  {
   "cell_type": "code",
   "execution_count": null,
   "metadata": {
    "execution": {
     "iopub.status.busy": "2023-02-20T16:26:28.667571Z",
     "iopub.status.idle": "2023-02-20T16:26:28.667900Z",
     "shell.execute_reply": "2023-02-20T16:26:28.667766Z",
     "shell.execute_reply.started": "2023-02-20T16:26:28.667752Z"
    }
   },
   "outputs": [],
   "source": [
    "# mindestens 2 Zeichen deuten auf noSg hin\n",
    "\n",
    "# finden\n",
    "mask = (wiktionary_merkmal.merkmal == 'noSg¼')\n",
    "df = wiktionary_merkmal[mask].groupby('section_id2')['merkmal'].agg('count').reset_index()\n",
    "mask = (df.merkmal > 1)\n",
    "markiere = df[mask]['section_id2']\n",
    "\n",
    "# nach wiktionary_lemma übertragen\n",
    "mask = wiktionary_lemma.section_id2.isin(markiere)\n",
    "wiktionary_lemma.loc[mask,'member'] += ' noSg'"
   ]
  },
  {
   "cell_type": "code",
   "execution_count": null,
   "metadata": {
    "execution": {
     "iopub.status.busy": "2023-02-20T16:26:28.669042Z",
     "iopub.status.idle": "2023-02-20T16:26:28.669385Z",
     "shell.execute_reply": "2023-02-20T16:26:28.669248Z",
     "shell.execute_reply.started": "2023-02-20T16:26:28.669233Z"
    }
   },
   "outputs": [],
   "source": [
    "# mindestens 2 Zeichen deuten auf noPl hin\n",
    "\n",
    "# finden\n",
    "mask = (wiktionary_merkmal.merkmal == 'noPl¼')\n",
    "df = wiktionary_merkmal[mask].groupby('section_id2')['merkmal'].agg('count').reset_index()\n",
    "mask = (df.merkmal > 1)\n",
    "markiere = df[mask]['section_id2']\n",
    "\n",
    "# nach wiktionary_lemma übertragen\n",
    "mask = wiktionary_lemma.section_id2.isin(markiere)\n",
    "wiktionary_lemma.loc[mask,'member'] += ' noPl'"
   ]
  },
  {
   "cell_type": "code",
   "execution_count": null,
   "metadata": {
    "execution": {
     "iopub.status.busy": "2023-02-20T16:26:28.675076Z",
     "iopub.status.idle": "2023-02-20T16:26:28.675579Z",
     "shell.execute_reply": "2023-02-20T16:26:28.675431Z",
     "shell.execute_reply.started": "2023-02-20T16:26:28.675413Z"
    }
   },
   "outputs": [],
   "source": [
    "# entfernen\n",
    "mask = wiktionary_merkmal.merkmal.isin(['noSg¼','noPl¼'])\n",
    "wiktionary_merkmal, wiktionary_merkmal_trash = pak.move_rows(df_from=wiktionary_merkmal, df_to=wiktionary_merkmal_trash, mask=mask, msg='noSg¼ noPl¼')"
   ]
  },
  {
   "cell_type": "code",
   "execution_count": null,
   "metadata": {
    "execution": {
     "iopub.status.busy": "2023-02-20T16:26:28.676340Z",
     "iopub.status.idle": "2023-02-20T16:26:28.676667Z",
     "shell.execute_reply": "2023-02-20T16:26:28.676534Z",
     "shell.execute_reply.started": "2023-02-20T16:26:28.676519Z"
    }
   },
   "outputs": [],
   "source": [
    "# entfernen\n",
    "mask = wiktionary_merkmal.merkmal.isin(['beschreibung 5','bezug 5','breite 5'])\n",
    "wiktionary_merkmal, wiktionary_merkmal_trash = pak.move_rows(df_from=wiktionary_merkmal, df_to=wiktionary_merkmal_trash, mask=mask, msg='Artefakte')"
   ]
  },
  {
   "cell_type": "code",
   "execution_count": null,
   "metadata": {
    "execution": {
     "iopub.status.busy": "2023-02-20T16:26:28.677732Z",
     "iopub.status.idle": "2023-02-20T16:26:28.678033Z",
     "shell.execute_reply": "2023-02-20T16:26:28.677908Z",
     "shell.execute_reply.started": "2023-02-20T16:26:28.677894Z"
    }
   },
   "outputs": [],
   "source": [
    "# entfernen\n",
    "mask = wiktionary_merkmal.merkmal.isin(['Weitere Formen'])\n",
    "wiktionary_merkmal, wiktionary_merkmal_trash = pak.move_rows(df_from=wiktionary_merkmal, df_to=wiktionary_merkmal_trash, mask=mask, msg='Weitere Formen')"
   ]
  },
  {
   "cell_type": "code",
   "execution_count": null,
   "metadata": {
    "execution": {
     "iopub.status.busy": "2023-02-20T16:26:28.680751Z",
     "iopub.status.idle": "2023-02-20T16:26:28.681286Z",
     "shell.execute_reply": "2023-02-20T16:26:28.681135Z",
     "shell.execute_reply.started": "2023-02-20T16:26:28.681115Z"
    }
   },
   "outputs": [],
   "source": [
    "a = pak.analyse_freqs(wiktionary_merkmal,['merkmal','data'], splits=[' ', None]) # \n",
    "grid(a)"
   ]
  },
  {
   "cell_type": "code",
   "execution_count": null,
   "metadata": {
    "execution": {
     "iopub.status.busy": "2023-02-20T16:26:28.685492Z",
     "iopub.status.idle": "2023-02-20T16:26:28.685839Z",
     "shell.execute_reply": "2023-02-20T16:26:28.685698Z",
     "shell.execute_reply.started": "2023-02-20T16:26:28.685683Z"
    }
   },
   "outputs": [],
   "source": [
    "# data enthält nicht_erlaubte_sonderzeichen\n",
    "mask = wiktionary_merkmal.data.str.contains(nicht_erlaubte_sonderzeichen_gnädig) # siehe Steuertabellen\n",
    "check_mask(wiktionary_merkmal, mask, 0, 10000)\n",
    "wiktionary_merkmal, wiktionary_merkmal_trash = pak.move_rows(df_from=wiktionary_merkmal, df_to=wiktionary_merkmal_trash, mask=mask, msg='Sonderzeichen')\n",
    "\n",
    "mask = wiktionary_merkmal_trash.msg == 'Sonderzeichen'\n",
    "grid(wiktionary_merkmal_trash,mask, color='green')"
   ]
  },
  {
   "cell_type": "code",
   "execution_count": null,
   "metadata": {
    "execution": {
     "iopub.status.busy": "2023-02-20T16:26:28.686795Z",
     "iopub.status.idle": "2023-02-20T16:26:28.687103Z",
     "shell.execute_reply": "2023-02-20T16:26:28.686975Z",
     "shell.execute_reply.started": "2023-02-20T16:26:28.686961Z"
    }
   },
   "outputs": [],
   "source": [
    "# E-Merkmale \n",
    "mask = (plan_merkmal.collect == 'E')\n",
    "merkmale_E = list(plan_merkmal[mask].merkmal)\n",
    "merkmale_E "
   ]
  },
  {
   "cell_type": "code",
   "execution_count": null,
   "metadata": {
    "execution": {
     "iopub.status.busy": "2023-02-20T16:26:28.687964Z",
     "iopub.status.idle": "2023-02-20T16:26:28.688256Z",
     "shell.execute_reply": "2023-02-20T16:26:28.688132Z",
     "shell.execute_reply.started": "2023-02-20T16:26:28.688118Z"
    }
   },
   "outputs": [],
   "source": [
    "# data ist zu kurz \n",
    "mask1 =  wiktionary_merkmal.data.str.len() == 1\n",
    "mask2 = ~wiktionary_merkmal.merkmal.isin( merkmale_E + ['Genus','ipa','rhymes','def','lex','abk'] )\n",
    "mask3 = ~wiktionary_merkmal.data.isin(['-'])\n",
    "mask = mask1  &  mask2  &  mask3\n",
    "\n",
    "check_mask(wiktionary_merkmal, mask, 0, 30)\n",
    "wiktionary_merkmal, wiktionary_merkmal_trash = pak.move_rows( df_from=wiktionary_merkmal, df_to=wiktionary_merkmal_trash, mask=mask, msg='zu kurz')\n",
    "\n",
    "#grid(wiktionary_merkmal,mask)\n",
    "#pak.analyse_freqs( wiktionary_merkmal[mask], ['merkmal', 'data'])"
   ]
  },
  {
   "cell_type": "code",
   "execution_count": null,
   "metadata": {
    "execution": {
     "iopub.status.busy": "2023-02-20T16:26:28.691069Z",
     "iopub.status.idle": "2023-02-20T16:26:28.691496Z",
     "shell.execute_reply": "2023-02-20T16:26:28.691355Z",
     "shell.execute_reply.started": "2023-02-20T16:26:28.691339Z"
    }
   },
   "outputs": [],
   "source": [
    "# meta remove_str replace_str\n",
    "wiktionary_merkmal['meta'] = pak.remove_str(  wiktionary_merkmal.meta, '()'         )\n",
    "wiktionary_merkmal['meta'] = pak.replace_str( wiktionary_merkmal.meta, {'/':' '}    )"
   ]
  },
  {
   "cell_type": "code",
   "execution_count": null,
   "metadata": {
    "execution": {
     "iopub.status.busy": "2023-02-20T16:26:28.692560Z",
     "iopub.status.idle": "2023-02-20T16:26:28.693202Z",
     "shell.execute_reply": "2023-02-20T16:26:28.693047Z",
     "shell.execute_reply.started": "2023-02-20T16:26:28.693028Z"
    }
   },
   "outputs": [],
   "source": [
    "# data Klammer am Ende schließen\n",
    "mask1 =  wiktionary_merkmal.data.str.contains('(', regex=False)\n",
    "mask2 = ~wiktionary_merkmal.data.str.contains(')', regex=False)\n",
    "mask = mask1  &  mask2\n",
    "wiktionary_merkmal.loc[mask,'data'] += ')'\n",
    "# grid(wiktionary_merkmal, mask)"
   ]
  },
  {
   "cell_type": "code",
   "execution_count": null,
   "metadata": {
    "execution": {
     "iopub.status.busy": "2023-02-20T16:26:28.696266Z",
     "iopub.status.idle": "2023-02-20T16:26:28.696816Z",
     "shell.execute_reply": "2023-02-20T16:26:28.696661Z",
     "shell.execute_reply.started": "2023-02-20T16:26:28.696643Z"
    }
   },
   "outputs": [],
   "source": [
    "# Beispiel anzeigen \n",
    "mask = (wiktionary_merkmal.section_id2 == suche_debug[0])\n",
    "grid(wiktionary_merkmal,mask)"
   ]
  },
  {
   "cell_type": "markdown",
   "metadata": {},
   "source": [
    "### Kontrolle wiktionary_merkmal\n",
    "* Diverse Kontrollen"
   ]
  },
  {
   "cell_type": "code",
   "execution_count": null,
   "metadata": {
    "execution": {
     "iopub.status.busy": "2023-02-20T16:26:28.697794Z",
     "iopub.status.idle": "2023-02-20T16:26:28.698105Z",
     "shell.execute_reply": "2023-02-20T16:26:28.697976Z",
     "shell.execute_reply.started": "2023-02-20T16:26:28.697962Z"
    }
   },
   "outputs": [],
   "source": [
    "# plan_merkmal Steuertabelle neu erstellen\n",
    "try:\n",
    "    del plan_merkmal\n",
    "except:\n",
    "    pass\n",
    "\n",
    "from Steuertabellen.s01_Steuertabellen import *\n",
    "plan_merkmal = plan_merkmal_erstellen()\n",
    "#pak.sample(plan_merkmal)\n",
    "grid(plan_merkmal)"
   ]
  },
  {
   "cell_type": "code",
   "execution_count": null,
   "metadata": {
    "execution": {
     "iopub.status.busy": "2023-02-20T16:26:28.704212Z",
     "iopub.status.idle": "2023-02-20T16:26:28.704707Z",
     "shell.execute_reply": "2023-02-20T16:26:28.704563Z",
     "shell.execute_reply.started": "2023-02-20T16:26:28.704545Z"
    }
   },
   "outputs": [],
   "source": [
    "# Merkmale lt. Steuertabelle und lt. Realität\n",
    "mask = (plan_merkmal.plan != 2)\n",
    "merkmale_plan = set(plan_merkmal[mask].merkmal)\n",
    "merkmale_data = set(wiktionary_merkmal.merkmal.unique())"
   ]
  },
  {
   "cell_type": "code",
   "execution_count": null,
   "metadata": {
    "execution": {
     "iopub.status.busy": "2023-02-20T16:26:28.705812Z",
     "iopub.status.idle": "2023-02-20T16:26:28.706160Z",
     "shell.execute_reply": "2023-02-20T16:26:28.706028Z",
     "shell.execute_reply.started": "2023-02-20T16:26:28.706012Z"
    }
   },
   "outputs": [],
   "source": [
    "# Fast alle in der Steuertabelle plan_merkmal erfassten Merkmale kommen in wiktionary_merkmal tatsächlich vor.\n",
    "# Ausnahmen! 'übersicht'\n",
    "if version == '_all':\n",
    "    ausnahmen = {'Konj1', 'Konj2', 'übersicht','Gerundivum', 'Imp', 'Konj','lemma','nurWortart','PTKVZ','down_part'} # Konj1 und Konj2 sind jeweils mit 'ich' vorhanden, aber nicht solitär.\n",
    "    merkmale = { m for m in merkmale_plan.difference(merkmale_data) if not m in ausnahmen}\n",
    "    print(merkmale)\n",
    "    assert len(merkmale) == 0"
   ]
  },
  {
   "cell_type": "code",
   "execution_count": null,
   "metadata": {
    "execution": {
     "iopub.status.busy": "2023-02-20T16:26:28.707047Z",
     "iopub.status.idle": "2023-02-20T16:26:28.707431Z",
     "shell.execute_reply": "2023-02-20T16:26:28.707292Z",
     "shell.execute_reply.started": "2023-02-20T16:26:28.707277Z"
    }
   },
   "outputs": [],
   "source": [
    "# Tauchen die Ausnahmen in wiktionary_merkmal_trash auf?\n",
    "# Sollten sie nicht.\n",
    "mask1 =  wiktionary_merkmal_trash.merkmal.isin(  ausnahmen - {'nurWortart'}  )\n",
    "mask2 = ~wiktionary_merkmal_trash.merkmal.isin(['übersicht'])\n",
    "mask = mask1  & mask2\n",
    "check_mask(wiktionary_merkmal_trash,mask,0)\n",
    "#wiktionary_merkmal_trash[mask]"
   ]
  },
  {
   "cell_type": "code",
   "execution_count": null,
   "metadata": {
    "execution": {
     "iopub.status.busy": "2023-02-20T16:26:28.708954Z",
     "iopub.status.idle": "2023-02-20T16:26:28.709284Z",
     "shell.execute_reply": "2023-02-20T16:26:28.709152Z",
     "shell.execute_reply.started": "2023-02-20T16:26:28.709137Z"
    }
   },
   "outputs": [],
   "source": [
    "# TODO_TAGS_IN_MERKMALE\n",
    "bgc('orange')\n",
    "mask = wiktionary_merkmal.merkmal.isin({'VAFIN', 'VMFIN', 'VVIMP', 'VVIZU',})\n",
    "wiktionary_merkmal[mask]"
   ]
  },
  {
   "cell_type": "code",
   "execution_count": null,
   "metadata": {
    "execution": {
     "iopub.status.busy": "2023-02-20T16:26:28.713172Z",
     "iopub.status.idle": "2023-02-20T16:26:28.713653Z",
     "shell.execute_reply": "2023-02-20T16:26:28.713511Z",
     "shell.execute_reply.started": "2023-02-20T16:26:28.713494Z"
    }
   },
   "outputs": [],
   "source": [
    "# alle Merkmale in wiktionary_merkmal sind in der Steuertabelle plan_merkmal erfasst\n",
    "ausnahmen = {'VAFIN', 'VMFIN', 'VVIMP', 'VVIZU',} ## TODO_TAGS_IN_MERKMALE eigentlich sollte es keine Ausnahmen geben!!\n",
    "merkmale = merkmale_data.difference(merkmale_plan) - ausnahmen\n",
    "if len(merkmale) > 0:\n",
    "    print_color(merkmale, 'red')\n",
    "assert len(merkmale) < 5"
   ]
  },
  {
   "cell_type": "code",
   "execution_count": null,
   "metadata": {
    "execution": {
     "iopub.status.busy": "2023-02-20T16:26:28.714614Z",
     "iopub.status.idle": "2023-02-20T16:26:28.714989Z",
     "shell.execute_reply": "2023-02-20T16:26:28.714852Z",
     "shell.execute_reply.started": "2023-02-20T16:26:28.714837Z"
    }
   },
   "outputs": [],
   "source": [
    "# Probleme anschauen\n",
    "print('Problemmerkmale:',merkmale)\n",
    "mask = wiktionary_merkmal.merkmal.isin(merkmale)\n",
    "grid(wiktionary_merkmal, mask, color='green')"
   ]
  },
  {
   "cell_type": "code",
   "execution_count": null,
   "metadata": {
    "execution": {
     "iopub.status.busy": "2023-02-20T16:26:28.715901Z",
     "iopub.status.idle": "2023-02-20T16:26:28.716214Z",
     "shell.execute_reply": "2023-02-20T16:26:28.716084Z",
     "shell.execute_reply.started": "2023-02-20T16:26:28.716069Z"
    }
   },
   "outputs": [],
   "source": [
    "# Keine nan in data\n",
    "assert pak.nnan(wiktionary_merkmal.data) == 0"
   ]
  },
  {
   "cell_type": "code",
   "execution_count": null,
   "metadata": {
    "execution": {
     "iopub.status.busy": "2023-02-20T16:26:28.720731Z",
     "iopub.status.idle": "2023-02-20T16:26:28.721234Z",
     "shell.execute_reply": "2023-02-20T16:26:28.721088Z",
     "shell.execute_reply.started": "2023-02-20T16:26:28.721071Z"
    }
   },
   "outputs": [],
   "source": [
    "# Eindeutige Datentypen\n",
    "for col in wiktionary_merkmal.columns:\n",
    "    print(col)\n",
    "    if col == 'num':\n",
    "        continue\n",
    "    assert pak.ntypes(wiktionary_merkmal[col]) == 1"
   ]
  },
  {
   "cell_type": "code",
   "execution_count": null,
   "metadata": {
    "execution": {
     "iopub.status.busy": "2023-02-20T16:26:28.722243Z",
     "iopub.status.idle": "2023-02-20T16:26:28.722570Z",
     "shell.execute_reply": "2023-02-20T16:26:28.722435Z",
     "shell.execute_reply.started": "2023-02-20T16:26:28.722420Z"
    }
   },
   "outputs": [],
   "source": [
    "wiktionary_merkmal.shape"
   ]
  },
  {
   "cell_type": "markdown",
   "metadata": {},
   "source": [
    "## wiktionary_lemma"
   ]
  },
  {
   "cell_type": "code",
   "execution_count": null,
   "metadata": {
    "execution": {
     "iopub.status.busy": "2023-02-20T16:26:28.723557Z",
     "iopub.status.idle": "2023-02-20T16:26:28.723877Z",
     "shell.execute_reply": "2023-02-20T16:26:28.723744Z",
     "shell.execute_reply.started": "2023-02-20T16:26:28.723730Z"
    }
   },
   "outputs": [],
   "source": [
    "# suche_debug\n",
    "mask = wiktionary_lemma.lemma.isin(suche_debug) #== 'gefriergetrocknet'\n",
    "wiktionary_lemma[mask]"
   ]
  },
  {
   "cell_type": "markdown",
   "metadata": {},
   "source": [
    "### member erweitern\n",
    "* Einige Merkmale aus wiktionary_merkmal nach member in wiktionary_lemma verschieben\n",
    "* und zwar die E-Merkmale. das sind die, bei denen es einzig auf die Existenz ankommt. Diese Merkmale können keine verschiedenen Werte annehmen."
   ]
  },
  {
   "cell_type": "code",
   "execution_count": null,
   "metadata": {
    "execution": {
     "iopub.status.busy": "2023-02-20T16:26:28.724990Z",
     "iopub.status.idle": "2023-02-20T16:26:28.725299Z",
     "shell.execute_reply": "2023-02-20T16:26:28.725173Z",
     "shell.execute_reply.started": "2023-02-20T16:26:28.725159Z"
    }
   },
   "outputs": [],
   "source": [
    "# noSing >> noSg\n",
    "mask = (wiktionary_merkmal.merkmal == 'noSing')\n",
    "wiktionary_merkmal.loc[mask,'merkmal'] = 'noSg'"
   ]
  },
  {
   "cell_type": "code",
   "execution_count": null,
   "metadata": {
    "execution": {
     "iopub.status.busy": "2023-02-20T16:26:28.732074Z",
     "iopub.status.idle": "2023-02-20T16:26:28.732512Z",
     "shell.execute_reply": "2023-02-20T16:26:28.732353Z",
     "shell.execute_reply.started": "2023-02-20T16:26:28.732336Z"
    }
   },
   "outputs": [],
   "source": [
    "# E-Merkmale \n",
    "print(merkmale_E)"
   ]
  },
  {
   "cell_type": "code",
   "execution_count": null,
   "metadata": {
    "execution": {
     "iopub.status.busy": "2023-02-20T16:26:28.733481Z",
     "iopub.status.idle": "2023-02-20T16:26:28.733875Z",
     "shell.execute_reply": "2023-02-20T16:26:28.733739Z",
     "shell.execute_reply.started": "2023-02-20T16:26:28.733723Z"
    }
   },
   "outputs": [],
   "source": [
    "# anschauen\n",
    "mask = wiktionary_merkmal.merkmal.isin(merkmale_E)\n",
    "a = pak.analyse_freqs(wiktionary_merkmal[mask],['merkmal','data']) # \n",
    "grid(a)"
   ]
  },
  {
   "cell_type": "code",
   "execution_count": null,
   "metadata": {
    "execution": {
     "iopub.status.busy": "2023-02-20T16:26:28.734866Z",
     "iopub.status.idle": "2023-02-20T16:26:28.735180Z",
     "shell.execute_reply": "2023-02-20T16:26:28.735053Z",
     "shell.execute_reply.started": "2023-02-20T16:26:28.735038Z"
    }
   },
   "outputs": [],
   "source": [
    "# update-Tabelle erstellen\n",
    "mask = wiktionary_merkmal.merkmal.isin(merkmale_E)\n",
    "df = pak.group_and_agg(wiktionary_merkmal[mask], \n",
    "              col_origins=['section_id2', 'merkmal',             'merkmal',       ],\n",
    "              col_funcs  =['group',       pak.agg_words_nodup,   'count',         ],\n",
    "              col_names  =['',            'member_plus',         'count',         ],              \n",
    "             )\n",
    "#df"
   ]
  },
  {
   "cell_type": "code",
   "execution_count": null,
   "metadata": {
    "execution": {
     "iopub.status.busy": "2023-02-20T16:26:28.736391Z",
     "iopub.status.idle": "2023-02-20T16:26:28.736728Z",
     "shell.execute_reply": "2023-02-20T16:26:28.736596Z",
     "shell.execute_reply.started": "2023-02-20T16:26:28.736581Z"
    }
   },
   "outputs": [],
   "source": [
    "# member_plus schreiben\n",
    "wiktionary_lemma = pak.update_col(wiktionary_lemma, df, on='section_id2', col='member_plus')"
   ]
  },
  {
   "cell_type": "code",
   "execution_count": null,
   "metadata": {
    "execution": {
     "iopub.status.busy": "2023-02-20T16:26:28.737911Z",
     "iopub.status.idle": "2023-02-20T16:26:28.738233Z",
     "shell.execute_reply": "2023-02-20T16:26:28.738105Z",
     "shell.execute_reply.started": "2023-02-20T16:26:28.738091Z"
    }
   },
   "outputs": [],
   "source": [
    "# member schreiben\n",
    "mask = (wiktionary_lemma.member_plus.str.len() > 0)\n",
    "wiktionary_lemma.loc[mask,'member'] = wiktionary_lemma[mask].member + ' ' + wiktionary_lemma[mask].member_plus\n",
    "wiktionary_lemma = pak.drop_cols(wiktionary_lemma,'member_plus')\n",
    "#grid(wiktionary_lemma, mask)"
   ]
  },
  {
   "cell_type": "code",
   "execution_count": null,
   "metadata": {
    "execution": {
     "iopub.status.busy": "2023-02-20T16:26:28.745170Z",
     "iopub.status.idle": "2023-02-20T16:26:28.745555Z",
     "shell.execute_reply": "2023-02-20T16:26:28.745401Z",
     "shell.execute_reply.started": "2023-02-20T16:26:28.745385Z"
    }
   },
   "outputs": [],
   "source": [
    "# wiktionary_merkmal belöschen\n",
    "mask = wiktionary_merkmal.merkmal.isin(merkmale_E)\n",
    "wiktionary_merkmal, wiktionary_merkmal_trash = pak.move_rows(df_from=wiktionary_merkmal, df_to=wiktionary_merkmal_trash, mask=mask, msg='merkmale_E')"
   ]
  },
  {
   "cell_type": "markdown",
   "metadata": {},
   "source": [
    "### member pflegen"
   ]
  },
  {
   "cell_type": "code",
   "execution_count": null,
   "metadata": {
    "execution": {
     "iopub.status.busy": "2023-02-20T16:26:28.746557Z",
     "iopub.status.idle": "2023-02-20T16:26:28.746933Z",
     "shell.execute_reply": "2023-02-20T16:26:28.746762Z",
     "shell.execute_reply.started": "2023-02-20T16:26:28.746747Z"
    }
   },
   "outputs": [],
   "source": [
    "# werte_anz\n",
    "df = pak.group_and_agg(wiktionary_merkmal, \n",
    "              col_origins=['merkmal',    'data',                  ],\n",
    "              col_funcs  =['group',       pak.nunique,            ],\n",
    "              col_names  =['',           'werte_anz',             ],              \n",
    "             )\n",
    "#df"
   ]
  },
  {
   "cell_type": "code",
   "execution_count": null,
   "metadata": {
    "execution": {
     "iopub.status.busy": "2023-02-20T16:26:28.748152Z",
     "iopub.status.idle": "2023-02-20T16:26:28.748570Z",
     "shell.execute_reply": "2023-02-20T16:26:28.748382Z",
     "shell.execute_reply.started": "2023-02-20T16:26:28.748362Z"
    }
   },
   "outputs": [],
   "source": [
    "# merkmale mit kleiner werte_anz\n",
    "mask = (df.werte_anz < 3)   &   ~df.merkmal.str.startswith(('Nom','Gen','Dat','Akk', 'Konj', 'Ptz1'))\n",
    "m = list(df[mask].merkmal)\n",
    "\n",
    "mask = wiktionary_merkmal.merkmal.isin(m)\n",
    "assert wiktionary_merkmal[mask].shape[0] <= 10  \n",
    "\n",
    "a = pak.analyse_freqs(wiktionary_merkmal[mask], ['merkmal','data'])\n",
    "a \n",
    "\n",
    "#wiktionary_merkmal[mask]"
   ]
  },
  {
   "cell_type": "code",
   "execution_count": null,
   "metadata": {
    "execution": {
     "iopub.status.busy": "2023-02-20T16:26:28.749678Z",
     "iopub.status.idle": "2023-02-20T16:26:28.750004Z",
     "shell.execute_reply": "2023-02-20T16:26:28.749869Z",
     "shell.execute_reply.started": "2023-02-20T16:26:28.749855Z"
    }
   },
   "outputs": [],
   "source": [
    "wiktionary_merkmal[mask]"
   ]
  },
  {
   "cell_type": "code",
   "execution_count": null,
   "metadata": {
    "execution": {
     "iopub.status.busy": "2023-02-20T16:26:28.753380Z",
     "iopub.status.idle": "2023-02-20T16:26:28.754086Z",
     "shell.execute_reply": "2023-02-20T16:26:28.753923Z",
     "shell.execute_reply.started": "2023-02-20T16:26:28.753903Z"
    }
   },
   "outputs": [],
   "source": [
    "# In list wandeln\n",
    "wiktionary_lemma.member = wiktionary_lemma.member.str.split()\n",
    "\n",
    "# nach Priorität sortieren (laut Steuertabellen)\n",
    "wiktionary_lemma.member = member_sortieren(wiktionary_lemma.member) \n",
    "\n",
    "# In string wandeln\n",
    "wiktionary_lemma.member = wiktionary_lemma.member.str.join(' ')"
   ]
  },
  {
   "cell_type": "code",
   "execution_count": null,
   "metadata": {
    "execution": {
     "iopub.status.busy": "2023-02-20T16:26:28.755031Z",
     "iopub.status.idle": "2023-02-20T16:26:28.755704Z",
     "shell.execute_reply": "2023-02-20T16:26:28.755551Z",
     "shell.execute_reply.started": "2023-02-20T16:26:28.755531Z"
    }
   },
   "outputs": [],
   "source": [
    "# Seltene member finden\n",
    "member_selten = pak.analyse_freqs(wiktionary_lemma, ['member', 'section_id2'], splits=[' ',None])\n",
    "mask = (member_selten.member_count == 1)\n",
    "member_selten = member_selten[mask]\n",
    "member_selten_member      = list(member_selten.member)\n",
    "member_selten_section_id2 = list(member_selten.section_id2)\n",
    "\n",
    "# und entfernen\n",
    "mask = wiktionary_lemma.section_id2.isin(member_selten_section_id2)\n",
    "wiktionary_lemma.loc[mask,'member'] = pak.remove_str(wiktionary_lemma[mask].member, member_selten_member)\n",
    "#wiktionary_lemma[mask]"
   ]
  },
  {
   "cell_type": "code",
   "execution_count": null,
   "metadata": {
    "execution": {
     "iopub.status.busy": "2023-02-20T16:26:28.759144Z",
     "iopub.status.idle": "2023-02-20T16:26:28.759922Z",
     "shell.execute_reply": "2023-02-20T16:26:28.759639Z",
     "shell.execute_reply.started": "2023-02-20T16:26:28.759595Z"
    }
   },
   "outputs": [],
   "source": [
    "member_selten"
   ]
  },
  {
   "cell_type": "code",
   "execution_count": null,
   "metadata": {
    "execution": {
     "iopub.status.busy": "2023-02-20T16:26:28.765342Z",
     "iopub.status.idle": "2023-02-20T16:26:28.765994Z",
     "shell.execute_reply": "2023-02-20T16:26:28.765726Z",
     "shell.execute_reply.started": "2023-02-20T16:26:28.765700Z"
    }
   },
   "outputs": [],
   "source": [
    "# anschauen wiktionary_lemma\n",
    "a = pak.analyse_freqs(wiktionary_lemma,['member','tag'], splits=[' ', None])\n",
    "grid(a)"
   ]
  },
  {
   "cell_type": "code",
   "execution_count": null,
   "metadata": {
    "execution": {
     "iopub.status.busy": "2023-02-20T16:26:28.767319Z",
     "iopub.status.idle": "2023-02-20T16:26:28.767765Z",
     "shell.execute_reply": "2023-02-20T16:26:28.767608Z",
     "shell.execute_reply.started": "2023-02-20T16:26:28.767591Z"
    }
   },
   "outputs": [],
   "source": [
    "# anschauen wiktionary_nolemma\n",
    "b = pak.analyse_freqs(wiktionary_nolemma,['member','tag'], splits=[' ', None])\n",
    "grid(b)"
   ]
  },
  {
   "cell_type": "code",
   "execution_count": null,
   "metadata": {
    "execution": {
     "iopub.status.busy": "2023-02-20T16:26:28.768875Z",
     "iopub.status.idle": "2023-02-20T16:26:28.769223Z",
     "shell.execute_reply": "2023-02-20T16:26:28.769083Z",
     "shell.execute_reply.started": "2023-02-20T16:26:28.769069Z"
    }
   },
   "outputs": [],
   "source": [
    "# suche_debug\n",
    "mask = wiktionary_lemma.lemma.isin(suche_debug) #== 'gefriergetrocknet'\n",
    "wiktionary_lemma[mask]"
   ]
  },
  {
   "cell_type": "markdown",
   "metadata": {},
   "source": [
    "### member weiter pflegen"
   ]
  },
  {
   "cell_type": "code",
   "execution_count": null,
   "metadata": {
    "execution": {
     "iopub.status.busy": "2023-02-20T16:26:28.771267Z",
     "iopub.status.idle": "2023-02-20T16:26:28.771732Z",
     "shell.execute_reply": "2023-02-20T16:26:28.771564Z",
     "shell.execute_reply.started": "2023-02-20T16:26:28.771545Z"
    }
   },
   "outputs": [],
   "source": [
    "# Ersetzungen im member laut member_replaces (definiert in Steuertabellen)\n",
    "print(member_replaces)\n",
    "wiktionary_lemma.loc[:,'member'] = pak.replace_str(wiktionary_lemma.member, member_replaces)"
   ]
  },
  {
   "cell_type": "code",
   "execution_count": null,
   "metadata": {
    "execution": {
     "iopub.status.busy": "2023-02-20T16:26:28.774142Z",
     "iopub.status.idle": "2023-02-20T16:26:28.774802Z",
     "shell.execute_reply": "2023-02-20T16:26:28.774646Z",
     "shell.execute_reply.started": "2023-02-20T16:26:28.774627Z"
    }
   },
   "outputs": [],
   "source": [
    "# redundantes Substantiv\n",
    "mask = wiktionary_lemma.member.str.contains('Substantiv')   &   (wiktionary_lemma.tagZZ == 'N') \n",
    "check_mask( wiktionary_lemma, mask )\n",
    "wiktionary_lemma.loc[ mask, 'member' ] = wiktionary_lemma[mask].member.str.replace('Substantiv','')"
   ]
  },
  {
   "cell_type": "code",
   "execution_count": null,
   "metadata": {
    "execution": {
     "iopub.status.busy": "2023-02-20T16:26:28.781220Z",
     "iopub.status.idle": "2023-02-20T16:26:28.781586Z",
     "shell.execute_reply": "2023-02-20T16:26:28.781436Z",
     "shell.execute_reply.started": "2023-02-20T16:26:28.781422Z"
    }
   },
   "outputs": [],
   "source": [
    "# redundantes Adjektiv\n",
    "mask = wiktionary_lemma.member.str.contains('Adjektiv')   &   (wiktionary_lemma.tagZ == 'ADJ') \n",
    "check_mask( wiktionary_lemma, mask )\n",
    "wiktionary_lemma.loc[ mask, 'member' ] = wiktionary_lemma[mask].member.str.replace('Adjektiv','')"
   ]
  },
  {
   "cell_type": "code",
   "execution_count": null,
   "metadata": {
    "execution": {
     "iopub.status.busy": "2023-02-20T16:26:28.782683Z",
     "iopub.status.idle": "2023-02-20T16:26:28.783064Z",
     "shell.execute_reply": "2023-02-20T16:26:28.782931Z",
     "shell.execute_reply.started": "2023-02-20T16:26:28.782916Z"
    }
   },
   "outputs": [],
   "source": [
    "# redundantes Verb\n",
    "mask = wiktionary_lemma.member.str.contains('Verb')   &   (wiktionary_lemma.tagZZ == 'V') \n",
    "check_mask( wiktionary_lemma, mask )\n",
    "wiktionary_lemma.loc[ mask, 'member' ] = wiktionary_lemma[mask].member.str.replace('Verb','')"
   ]
  },
  {
   "cell_type": "code",
   "execution_count": null,
   "metadata": {
    "execution": {
     "iopub.status.busy": "2023-02-20T16:26:28.783851Z",
     "iopub.status.idle": "2023-02-20T16:26:28.784157Z",
     "shell.execute_reply": "2023-02-20T16:26:28.784028Z",
     "shell.execute_reply.started": "2023-02-20T16:26:28.784014Z"
    }
   },
   "outputs": [],
   "source": [
    "# redundantes istName, außerdem 1 falsches istName das NN ist\n",
    "mask = wiktionary_lemma.member.str.contains('istName')   &   ( wiktionary_lemma.tagZZ == 'N' ) \n",
    "check_mask( wiktionary_lemma, mask )\n",
    "wiktionary_lemma.loc[ mask, 'member' ] = wiktionary_lemma[mask].member.str.replace('istName','')"
   ]
  },
  {
   "cell_type": "code",
   "execution_count": null,
   "metadata": {
    "execution": {
     "iopub.status.busy": "2023-02-20T16:26:28.785086Z",
     "iopub.status.idle": "2023-02-20T16:26:28.785544Z",
     "shell.execute_reply": "2023-02-20T16:26:28.785402Z",
     "shell.execute_reply.started": "2023-02-20T16:26:28.785385Z"
    }
   },
   "outputs": [],
   "source": [
    "# redundantes Name\n",
    "mask = wiktionary_lemma.member.str.contains('Name')   &   ( wiktionary_lemma.tag_0.isin(['NE']) | wiktionary_lemma.tag_1.isin(['NE']) )\n",
    "check_mask( wiktionary_lemma, mask )\n",
    "wiktionary_lemma.loc[ mask, 'member' ] = wiktionary_lemma[mask].member.str.replace('Name','')"
   ]
  },
  {
   "cell_type": "code",
   "execution_count": null,
   "metadata": {
    "execution": {
     "iopub.status.busy": "2023-02-20T16:26:28.787468Z",
     "iopub.status.idle": "2023-02-20T16:26:28.787816Z",
     "shell.execute_reply": "2023-02-20T16:26:28.787672Z",
     "shell.execute_reply.started": "2023-02-20T16:26:28.787658Z"
    }
   },
   "outputs": [],
   "source": [
    "# redundantes Konjunktion\n",
    "#mask = wiktionary_lemma.member.str.contains('Konjunktion')   &   ~wiktionary_lemma.member.str.contains('Konjunktionaladverb')   &   \\\n",
    "#     ( wiktionary_lemma.tag_0.isin(['KOUS','KON','KOKOM','KOUI']) | wiktionary_lemma.tag_1.isin(['KOUS','KON','KOKOM','KOUI']) ) \n",
    "\n",
    "mask1 =   wiktionary_lemma.member.str.contains('Konjunktion') \n",
    "mask2 =  ~wiktionary_lemma.member.str.contains('Konjunktionaladverb') \n",
    "mask3A =  wiktionary_lemma.tag_0.isin(['KOUS','KON','KOKOM','KOUI'])\n",
    "mask3B =  wiktionary_lemma.tag_1.isin(['KOUS','KON','KOKOM','KOUI'])\n",
    "mask = mask1  &  mask2  &  (mask3A | mask3B)\n",
    "check_mask( wiktionary_lemma, mask )\n",
    "\n",
    "##wiktionary_lemma.loc[ mask, 'member' ] = wiktionary_lemma[mask].member.str.replace('Konjunktion','')\n",
    "#grid(wiktionary_lemma[mask])"
   ]
  },
  {
   "cell_type": "code",
   "execution_count": null,
   "metadata": {
    "execution": {
     "iopub.status.busy": "2023-02-20T16:26:28.793214Z",
     "iopub.status.idle": "2023-02-20T16:26:28.793636Z",
     "shell.execute_reply": "2023-02-20T16:26:28.793496Z",
     "shell.execute_reply.started": "2023-02-20T16:26:28.793479Z"
    }
   },
   "outputs": [],
   "source": [
    "# redundantes Indefinitpronomen\n",
    "mask = wiktionary_lemma.member.str.contains('Indefinitpronomen')   &   ( wiktionary_lemma.tag_0.isin(['PIAT','PIS']) | wiktionary_lemma.tag_1.isin(['PIAT','PIS']) )\n",
    "check_mask( wiktionary_lemma, mask )\n",
    "wiktionary_lemma.loc[ mask, 'member' ] = wiktionary_lemma[mask].member.str.replace('Indefinitpronomen','')"
   ]
  },
  {
   "cell_type": "code",
   "execution_count": null,
   "metadata": {
    "execution": {
     "iopub.status.busy": "2023-02-20T16:26:28.794694Z",
     "iopub.status.idle": "2023-02-20T16:26:28.795006Z",
     "shell.execute_reply": "2023-02-20T16:26:28.794878Z",
     "shell.execute_reply.started": "2023-02-20T16:26:28.794864Z"
    }
   },
   "outputs": [],
   "source": [
    "# redundantes Interjektion\n",
    "mask = wiktionary_lemma.member.str.contains('Interjektion')   &   ( wiktionary_lemma.tag_0.isin(['ITJ']) | wiktionary_lemma.tag_1.isin(['ITJ']) )\n",
    "check_mask( wiktionary_lemma, mask )\n",
    "wiktionary_lemma.loc[ mask, 'member' ] = wiktionary_lemma[mask].member.str.replace('Interjektion','')"
   ]
  },
  {
   "cell_type": "code",
   "execution_count": null,
   "metadata": {
    "execution": {
     "iopub.status.busy": "2023-02-20T16:26:28.796005Z",
     "iopub.status.idle": "2023-02-20T16:26:28.796322Z",
     "shell.execute_reply": "2023-02-20T16:26:28.796190Z",
     "shell.execute_reply.started": "2023-02-20T16:26:28.796176Z"
    }
   },
   "outputs": [],
   "source": [
    "# redundantes Adverb\n",
    "mask = wiktionary_lemma.member.str.contains('Adverb')   &   ( wiktionary_lemma.tag_0.isin(['ADV']) | wiktionary_lemma.tag_1.isin(['ADV']) )\n",
    "check_mask( wiktionary_lemma, mask )\n",
    "wiktionary_lemma.loc[ mask, 'member' ] = wiktionary_lemma[mask].member.str.replace('Adverb','')"
   ]
  },
  {
   "cell_type": "code",
   "execution_count": null,
   "metadata": {
    "execution": {
     "iopub.status.busy": "2023-02-20T16:26:28.797214Z",
     "iopub.status.idle": "2023-02-20T16:26:28.797694Z",
     "shell.execute_reply": "2023-02-20T16:26:28.797552Z",
     "shell.execute_reply.started": "2023-02-20T16:26:28.797535Z"
    }
   },
   "outputs": [],
   "source": [
    "# redundantes Subjunktion\n",
    "mask = wiktionary_lemma.member.str.contains('Subjunktion')   &   ( wiktionary_lemma.tag_0.isin(['KOUS']) | wiktionary_lemma.tag_1.isin(['KOUS']) )\n",
    "check_mask( wiktionary_lemma, mask )\n",
    "wiktionary_lemma.loc[ mask, 'member' ] = wiktionary_lemma[mask].member.str.replace('Subjunktion','')"
   ]
  },
  {
   "cell_type": "code",
   "execution_count": null,
   "metadata": {
    "execution": {
     "iopub.status.busy": "2023-02-20T16:26:28.801116Z",
     "iopub.status.idle": "2023-02-20T16:26:28.801541Z",
     "shell.execute_reply": "2023-02-20T16:26:28.801396Z",
     "shell.execute_reply.started": "2023-02-20T16:26:28.801380Z"
    }
   },
   "outputs": [],
   "source": [
    "# redundantes Personalpronomen\n",
    "mask = wiktionary_lemma.member.str.contains('Personalpronomen')   &   ( wiktionary_lemma.tag_0.isin(['PPER']) | wiktionary_lemma.tag_1.isin(['PPER']) )\n",
    "check_mask( wiktionary_lemma, mask )\n",
    "wiktionary_lemma.loc[ mask, 'member' ] = wiktionary_lemma[mask].member.str.replace('Personalpronomen','')"
   ]
  },
  {
   "cell_type": "code",
   "execution_count": null,
   "metadata": {
    "execution": {
     "iopub.status.busy": "2023-02-20T16:26:28.802577Z",
     "iopub.status.idle": "2023-02-20T16:26:28.802950Z",
     "shell.execute_reply": "2023-02-20T16:26:28.802816Z",
     "shell.execute_reply.started": "2023-02-20T16:26:28.802801Z"
    }
   },
   "outputs": [],
   "source": [
    "# redundantes Demonstrativpronomen\n",
    "mask = wiktionary_lemma.member.str.contains('Demonstrativpronomen')   &   ( wiktionary_lemma.tag_0.isin(['PDAT']) | wiktionary_lemma.tag_1.isin(['PDAT']) )\n",
    "check_mask( wiktionary_lemma, mask )\n",
    "wiktionary_lemma.loc[ mask, 'member' ] = wiktionary_lemma[mask].member.str.replace('Demonstrativpronomen','')"
   ]
  },
  {
   "cell_type": "code",
   "execution_count": null,
   "metadata": {
    "execution": {
     "iopub.status.busy": "2023-02-20T16:26:28.804101Z",
     "iopub.status.idle": "2023-02-20T16:26:28.804424Z",
     "shell.execute_reply": "2023-02-20T16:26:28.804292Z",
     "shell.execute_reply.started": "2023-02-20T16:26:28.804278Z"
    }
   },
   "outputs": [],
   "source": [
    "# redundantes Artikel\n",
    "mask = wiktionary_lemma.member.str.contains('Artikel')   &   ( wiktionary_lemma.tag_0.isin(['ART']) | wiktionary_lemma.tag_1.isin(['ART']) )\n",
    "check_mask( wiktionary_lemma, mask )\n",
    "wiktionary_lemma.loc[ mask, 'member' ] = wiktionary_lemma[mask].member.str.replace('Artikel','')"
   ]
  },
  {
   "cell_type": "code",
   "execution_count": null,
   "metadata": {
    "execution": {
     "iopub.status.busy": "2023-02-20T16:26:28.805610Z",
     "iopub.status.idle": "2023-02-20T16:26:28.810757Z",
     "shell.execute_reply": "2023-02-20T16:26:28.810526Z",
     "shell.execute_reply.started": "2023-02-20T16:26:28.810497Z"
    }
   },
   "outputs": [],
   "source": [
    "# redundantes Postposition\n",
    "mask = wiktionary_lemma.member.str.contains('Postposition')   &   ( wiktionary_lemma.tag_0.isin(['APPO']) | wiktionary_lemma.tag_1.isin(['APPO']) )\n",
    "check_mask( wiktionary_lemma, mask )\n",
    "wiktionary_lemma.loc[ mask, 'member' ] = wiktionary_lemma[mask].member.str.replace('Postposition','')"
   ]
  },
  {
   "cell_type": "code",
   "execution_count": null,
   "metadata": {
    "execution": {
     "iopub.status.busy": "2023-02-20T16:26:28.811704Z",
     "iopub.status.idle": "2023-02-20T16:26:28.812110Z",
     "shell.execute_reply": "2023-02-20T16:26:28.811970Z",
     "shell.execute_reply.started": "2023-02-20T16:26:28.811953Z"
    }
   },
   "outputs": [],
   "source": [
    "# redundantes Relativpronomen\n",
    "mask = wiktionary_lemma.member.str.contains('Relativpronomen')   &   ( wiktionary_lemma.tag_0.isin(['PRELAT']) | wiktionary_lemma.tag_1.isin(['PRELAT']) )\n",
    "check_mask( wiktionary_lemma, mask )\n",
    "wiktionary_lemma.loc[ mask, 'member' ] = wiktionary_lemma[mask].member.str.replace('Relativpronomen','')"
   ]
  },
  {
   "cell_type": "code",
   "execution_count": null,
   "metadata": {
    "execution": {
     "iopub.status.busy": "2023-02-20T16:26:28.813007Z",
     "iopub.status.idle": "2023-02-20T16:26:28.813328Z",
     "shell.execute_reply": "2023-02-20T16:26:28.813195Z",
     "shell.execute_reply.started": "2023-02-20T16:26:28.813180Z"
    }
   },
   "outputs": [],
   "source": [
    "# redundantes Possessivpronomen\n",
    "mask = wiktionary_lemma.member.str.contains('Possessivpronomen')   &   ( wiktionary_lemma.tag_0.isin(['PPOSS']) | wiktionary_lemma.tag_1.isin(['PPOSS']) )\n",
    "check_mask( wiktionary_lemma, mask )\n",
    "wiktionary_lemma.loc[ mask, 'member' ] = wiktionary_lemma[mask].member.str.replace('Possessivpronomen','')"
   ]
  },
  {
   "cell_type": "code",
   "execution_count": null,
   "metadata": {
    "execution": {
     "iopub.status.busy": "2023-02-20T16:26:28.814287Z",
     "iopub.status.idle": "2023-02-20T16:26:28.814603Z",
     "shell.execute_reply": "2023-02-20T16:26:28.814470Z",
     "shell.execute_reply.started": "2023-02-20T16:26:28.814455Z"
    }
   },
   "outputs": [],
   "source": [
    "# redundantes Negationspartikel\n",
    "mask = wiktionary_lemma.member.str.contains('Negationspartikel')   &   ( wiktionary_lemma.tag_0.isin(['PTKNEG']) | wiktionary_lemma.tag_1.isin(['PTKNEG']) )\n",
    "check_mask( wiktionary_lemma, mask )\n",
    "wiktionary_lemma.loc[ mask, 'member' ] = wiktionary_lemma[mask].member.str.replace('Negationspartikel','')"
   ]
  },
  {
   "cell_type": "code",
   "execution_count": null,
   "metadata": {
    "execution": {
     "iopub.status.busy": "2023-02-20T16:26:28.818105Z",
     "iopub.status.idle": "2023-02-20T16:26:28.818457Z",
     "shell.execute_reply": "2023-02-20T16:26:28.818316Z",
     "shell.execute_reply.started": "2023-02-20T16:26:28.818301Z"
    }
   },
   "outputs": [],
   "source": [
    "# redundantes Interrogativpronomen\n",
    "mask = wiktionary_lemma.member.str.contains('Interrogativpronomen')   &   ( wiktionary_lemma.tag_0.isin(['PWAT']) | wiktionary_lemma.tag_1.isin(['PWAT']) )\n",
    "check_mask( wiktionary_lemma, mask )\n",
    "wiktionary_lemma.loc[ mask, 'member' ] = wiktionary_lemma[mask].member.str.replace('Interrogativpronomen','')"
   ]
  },
  {
   "cell_type": "code",
   "execution_count": null,
   "metadata": {
    "execution": {
     "iopub.status.busy": "2023-02-20T16:26:28.819452Z",
     "iopub.status.idle": "2023-02-20T16:26:28.819765Z",
     "shell.execute_reply": "2023-02-20T16:26:28.819637Z",
     "shell.execute_reply.started": "2023-02-20T16:26:28.819623Z"
    }
   },
   "outputs": [],
   "source": [
    "# falsches noPl (das betrifft vorwiegend NE-Datensätze)\n",
    "mask = wiktionary_lemma.member.str.contains('noPl')   &   ~wiktionary_lemma.tag_0.isin(['NN','TODO',])   &   ~wiktionary_lemma.tagZZ.isin(['P'])\n",
    "check_mask(wiktionary_lemma,mask)\n",
    "wiktionary_lemma.loc[mask,'member'] = wiktionary_lemma[mask].member.str.replace('noPl','')\n",
    "#grid( wiktionary_lemma, mask )"
   ]
  },
  {
   "cell_type": "code",
   "execution_count": null,
   "metadata": {
    "execution": {
     "iopub.status.busy": "2023-02-20T16:26:28.820897Z",
     "iopub.status.idle": "2023-02-20T16:26:28.823566Z",
     "shell.execute_reply": "2023-02-20T16:26:28.823340Z",
     "shell.execute_reply.started": "2023-02-20T16:26:28.823313Z"
    }
   },
   "outputs": [],
   "source": [
    "# falsches noSg\n",
    "mask = wiktionary_lemma.member.str.contains('noSg')   &   ~wiktionary_lemma.tag_0.isin(['NN','NE','TODO','PPER'])\n",
    "check_mask(wiktionary_lemma,mask,0,20)\n",
    "wiktionary_lemma.loc[mask,'member'] = wiktionary_lemma[mask].member.str.replace('noSg','')\n",
    "#grid( wiktionary_lemma, mask )"
   ]
  },
  {
   "cell_type": "code",
   "execution_count": null,
   "metadata": {
    "execution": {
     "iopub.status.busy": "2023-02-20T16:26:28.824445Z",
     "iopub.status.idle": "2023-02-20T16:26:28.824828Z",
     "shell.execute_reply": "2023-02-20T16:26:28.824692Z",
     "shell.execute_reply.started": "2023-02-20T16:26:28.824676Z"
    }
   },
   "outputs": [],
   "source": [
    "# falsches noSteig\n",
    "mask = wiktionary_lemma.member.str.contains('noSteig')   &   ~wiktionary_lemma.tag_0.isin(['ADJA'])\n",
    "check_mask(wiktionary_lemma,mask, 0, 30)\n",
    "wiktionary_lemma.loc[mask,'member'] = wiktionary_lemma[mask].member.str.replace('noSteig','')"
   ]
  },
  {
   "cell_type": "code",
   "execution_count": null,
   "metadata": {
    "execution": {
     "iopub.status.busy": "2023-02-20T16:26:28.829208Z",
     "iopub.status.idle": "2023-02-20T16:26:28.829701Z",
     "shell.execute_reply": "2023-02-20T16:26:28.829558Z",
     "shell.execute_reply.started": "2023-02-20T16:26:28.829541Z"
    }
   },
   "outputs": [],
   "source": [
    "# falsches noFlex\n",
    "mask = wiktionary_lemma.member.str.contains('noFlex')   &   ~wiktionary_lemma.tagZ.isin(['ADJ',])\n",
    "check_mask( wiktionary_lemma, mask, 0, 9 )\n",
    "wiktionary_lemma.loc[ mask, 'member' ] = wiktionary_lemma[mask].member.str.replace('noFlex','')"
   ]
  },
  {
   "cell_type": "code",
   "execution_count": null,
   "metadata": {
    "execution": {
     "iopub.status.busy": "2023-02-20T16:26:28.830385Z",
     "iopub.status.idle": "2023-02-20T16:26:28.830689Z",
     "shell.execute_reply": "2023-02-20T16:26:28.830557Z",
     "shell.execute_reply.started": "2023-02-20T16:26:28.830543Z"
    }
   },
   "outputs": [],
   "source": [
    "# falsches Interjektion\n",
    "mask = wiktionary_lemma.member.str.contains('Interjektion')  &   wiktionary_lemma.tag_0.isin(['PTKANT',])\n",
    "check_mask( wiktionary_lemma, mask, 0, 60 )\n",
    "wiktionary_lemma.loc[ mask, 'member' ] = wiktionary_lemma[mask].member.str.replace('Interjektion','')"
   ]
  },
  {
   "cell_type": "code",
   "execution_count": null,
   "metadata": {
    "execution": {
     "iopub.status.busy": "2023-02-20T16:26:28.831867Z",
     "iopub.status.idle": "2023-02-20T16:26:28.832170Z",
     "shell.execute_reply": "2023-02-20T16:26:28.832045Z",
     "shell.execute_reply.started": "2023-02-20T16:26:28.832032Z"
    }
   },
   "outputs": [],
   "source": [
    "# falsches Präfix\n",
    "mask = wiktionary_lemma.member.str.contains('Präfix')   &   ~wiktionary_lemma.tagZ.isin(['FIX',])\n",
    "check_mask( wiktionary_lemma, mask, 0, 9 )\n",
    "wiktionary_lemma.loc[ mask, 'member' ] = wiktionary_lemma[mask].member.str.replace('Präfix','')"
   ]
  },
  {
   "cell_type": "code",
   "execution_count": null,
   "metadata": {
    "execution": {
     "iopub.status.busy": "2023-02-20T16:26:28.832939Z",
     "iopub.status.idle": "2023-02-20T16:26:28.833238Z",
     "shell.execute_reply": "2023-02-20T16:26:28.833112Z",
     "shell.execute_reply.started": "2023-02-20T16:26:28.833098Z"
    }
   },
   "outputs": [],
   "source": [
    "# Taxonomie >> Spezies\n",
    "mask = wiktionary_lemma.member.str.contains('Taxonomie')   &   (wiktionary_lemma.tagZZ == 'N') \n",
    "check_mask( wiktionary_lemma, mask, 0, 200 )\n",
    "wiktionary_lemma.loc[ mask, 'member' ] = wiktionary_lemma[mask].member.str.replace('Taxonomie','Spezies')"
   ]
  },
  {
   "cell_type": "code",
   "execution_count": null,
   "metadata": {
    "execution": {
     "iopub.status.busy": "2023-02-20T16:26:28.837589Z",
     "iopub.status.idle": "2023-02-20T16:26:28.838021Z",
     "shell.execute_reply": "2023-02-20T16:26:28.837873Z",
     "shell.execute_reply.started": "2023-02-20T16:26:28.837856Z"
    }
   },
   "outputs": [],
   "source": [
    "# falsches Vorname\n",
    "mask = wiktionary_lemma.member.str.contains('Person_vorname')   &   ~wiktionary_lemma.tag_0.isin(['NE'])\n",
    "check_mask( wiktionary_lemma, mask, 0, 9 )\n",
    "wiktionary_lemma.loc[ mask, 'member' ] = wiktionary_lemma[mask].member.str.replace('Person_vorname','')\n",
    "#grid( wiktionary_lemma, mask )"
   ]
  },
  {
   "cell_type": "code",
   "execution_count": null,
   "metadata": {
    "execution": {
     "iopub.status.busy": "2023-02-20T16:26:28.838927Z",
     "iopub.status.idle": "2023-02-20T16:26:28.839249Z",
     "shell.execute_reply": "2023-02-20T16:26:28.839113Z",
     "shell.execute_reply.started": "2023-02-20T16:26:28.839098Z"
    }
   },
   "outputs": [],
   "source": [
    "# Streichungen im member       \n",
    "member_removes = [ 'Numerale', 'Pronomen', 'noWortart', 'Hilfsverb', 'Taxonomie', 'Geflügeltes_Wort', ] \n",
    "\n",
    "wiktionary_lemma.loc[:,'member'] = pak.remove_str(wiktionary_lemma.member, member_removes)"
   ]
  },
  {
   "cell_type": "markdown",
   "metadata": {},
   "source": [
    "### member prüfen"
   ]
  },
  {
   "cell_type": "code",
   "execution_count": null,
   "metadata": {
    "execution": {
     "iopub.status.busy": "2023-02-20T16:26:28.840349Z",
     "iopub.status.idle": "2023-02-20T16:26:28.840669Z",
     "shell.execute_reply": "2023-02-20T16:26:28.840540Z",
     "shell.execute_reply.started": "2023-02-20T16:26:28.840526Z"
    }
   },
   "outputs": [],
   "source": [
    "# alle member in den realen Daten zusammensammeln\n",
    "\n",
    "a = pak.analyse_freqs(wiktionary_lemma, ['member','tag'], splits=[' ', None] )\n",
    "#grid(a)\n",
    "\n",
    "b = pak.analyse_freqs(wiktionary_nolemma, ['member','tag'], splits=[' ', None] )\n",
    "#grid(b)\n",
    "\n",
    "# Member lt. Steuertabelle und lt. Realität\n",
    "member_plan = set(priorität_member)\n",
    "member_data1 = set(a.member)\n",
    "member_data2 = set(b.member)\n",
    "member_data  = member_data1.union(member_data2)\n",
    "#member_data"
   ]
  },
  {
   "cell_type": "code",
   "execution_count": null,
   "metadata": {
    "execution": {
     "iopub.status.busy": "2023-02-20T16:26:28.845254Z",
     "iopub.status.idle": "2023-02-20T16:26:28.845685Z",
     "shell.execute_reply": "2023-02-20T16:26:28.845538Z",
     "shell.execute_reply.started": "2023-02-20T16:26:28.845521Z"
    }
   },
   "outputs": [],
   "source": [
    "#for m in bpy.minivenn(member_plan,member_data):\n",
    "#    print(m) "
   ]
  },
  {
   "cell_type": "code",
   "execution_count": null,
   "metadata": {
    "execution": {
     "iopub.status.busy": "2023-02-20T16:26:28.846775Z",
     "iopub.status.idle": "2023-02-20T16:26:28.847182Z",
     "shell.execute_reply": "2023-02-20T16:26:28.847044Z",
     "shell.execute_reply.started": "2023-02-20T16:26:28.847028Z"
    },
    "tags": []
   },
   "outputs": [],
   "source": [
    "s = member_plan\n",
    "t = member_data\n",
    "bpy.minivenn(s,t, format='print')"
   ]
  },
  {
   "cell_type": "code",
   "execution_count": null,
   "metadata": {
    "execution": {
     "iopub.status.busy": "2023-02-20T16:26:28.849963Z",
     "iopub.status.idle": "2023-02-20T16:26:28.850395Z",
     "shell.execute_reply": "2023-02-20T16:26:28.850217Z",
     "shell.execute_reply.started": "2023-02-20T16:26:28.850200Z"
    }
   },
   "outputs": [],
   "source": [
    "# TODO_MEMBER_ÜBERPRÜFEN: Diese Member überprüfen, Wo sind sie geblieben?\n",
    "# alle in der Steuertabelle priorität_member erfassten Member kommen in wiktionary_lemma tatsächlich vor\n",
    "# Ausnahmen: \n",
    "#assert \n",
    "bgc('orange')\n",
    "merkmale_und_member_data = member_data.union(merkmale_data)\n",
    "result = member_plan.difference(merkmale_und_member_data)\n",
    "result -= {'Partizip_1','Partizip_2','Partizip_I','Partizip_II','Interjektion'}\n",
    "result -= set(member_removes)\n",
    "result -= set(member_replaces.keys())\n",
    "result"
   ]
  },
  {
   "cell_type": "code",
   "execution_count": null,
   "metadata": {
    "execution": {
     "iopub.status.busy": "2023-02-20T16:26:28.851049Z",
     "iopub.status.idle": "2023-02-20T16:26:28.851365Z",
     "shell.execute_reply": "2023-02-20T16:26:28.851230Z",
     "shell.execute_reply.started": "2023-02-20T16:26:28.851216Z"
    }
   },
   "outputs": [],
   "source": [
    "# alle Merkmale in wiktionary_merkmal sollten in der Steuertabelle plan_merkmal erfasst sein.\n",
    "fehlende_merkmale = member_data.difference(member_plan) - {''}\n",
    "assert len(fehlende_merkmale) == 0 "
   ]
  },
  {
   "cell_type": "code",
   "execution_count": null,
   "metadata": {
    "execution": {
     "iopub.status.busy": "2023-02-20T16:26:28.857272Z",
     "iopub.status.idle": "2023-02-20T16:26:28.857695Z",
     "shell.execute_reply": "2023-02-20T16:26:28.857553Z",
     "shell.execute_reply.started": "2023-02-20T16:26:28.857537Z"
    }
   },
   "outputs": [],
   "source": [
    "fehlende_merkmale"
   ]
  },
  {
   "cell_type": "code",
   "execution_count": null,
   "metadata": {
    "execution": {
     "iopub.status.busy": "2023-02-20T16:26:28.858752Z",
     "iopub.status.idle": "2023-02-20T16:26:28.859118Z",
     "shell.execute_reply": "2023-02-20T16:26:28.858985Z",
     "shell.execute_reply.started": "2023-02-20T16:26:28.858970Z"
    }
   },
   "outputs": [],
   "source": [
    "#mask = wiktionary_lemma.member.str.contains(' Person_')\n",
    "#grid(wiktionary_lemma,mask)"
   ]
  },
  {
   "cell_type": "code",
   "execution_count": null,
   "metadata": {
    "execution": {
     "iopub.status.busy": "2023-02-20T16:26:28.860089Z",
     "iopub.status.idle": "2023-02-20T16:26:28.860418Z",
     "shell.execute_reply": "2023-02-20T16:26:28.860281Z",
     "shell.execute_reply.started": "2023-02-20T16:26:28.860266Z"
    }
   },
   "outputs": [],
   "source": [
    "# Beispiel anzeigen \n",
    "mask = (wiktionary_merkmal.section_id2 == suche_debug[0])\n",
    "grid(wiktionary_merkmal,mask)"
   ]
  },
  {
   "cell_type": "markdown",
   "metadata": {},
   "source": [
    "### wiktionary_lemma pflegen und prüfen\n",
    "* Diverse Pflegeschritte"
   ]
  },
  {
   "cell_type": "code",
   "execution_count": null,
   "metadata": {
    "execution": {
     "iopub.status.busy": "2023-02-20T16:26:28.861290Z",
     "iopub.status.idle": "2023-02-20T16:26:28.862052Z",
     "shell.execute_reply": "2023-02-20T16:26:28.861888Z",
     "shell.execute_reply.started": "2023-02-20T16:26:28.861866Z"
    }
   },
   "outputs": [],
   "source": [
    "# lemma_lower, isupper, lemma_len\n",
    "wiktionary_lemma = ergänze_felder(wiktionary_lemma)"
   ]
  },
  {
   "cell_type": "code",
   "execution_count": null,
   "metadata": {
    "execution": {
     "iopub.status.busy": "2023-02-20T16:26:28.862621Z",
     "iopub.status.idle": "2023-02-20T16:26:28.862896Z",
     "shell.execute_reply": "2023-02-20T16:26:28.862775Z",
     "shell.execute_reply.started": "2023-02-20T16:26:28.862761Z"
    }
   },
   "outputs": [],
   "source": [
    "# Eindeutige Datentypen\n",
    "for col in wiktionary_lemma.columns:\n",
    "    print(col)\n",
    "    if col in ['num','error']:\n",
    "        continue\n",
    "    assert pak.ntypes(wiktionary_lemma[col]) == 1"
   ]
  },
  {
   "cell_type": "code",
   "execution_count": null,
   "metadata": {
    "execution": {
     "iopub.status.busy": "2023-02-20T16:26:28.866723Z",
     "iopub.status.idle": "2023-02-20T16:26:28.867147Z",
     "shell.execute_reply": "2023-02-20T16:26:28.867004Z",
     "shell.execute_reply.started": "2023-02-20T16:26:28.866989Z"
    }
   },
   "outputs": [],
   "source": [
    "# Keine unbekannten tags\n",
    "a = pak.analyse_freqs(wiktionary_lemma, ['tag'], splits=[' '])\n",
    "mask = ~a.tag.isin(alle_tags)\n",
    "check_mask( a, mask, 0)\n",
    "a[mask]"
   ]
  },
  {
   "cell_type": "code",
   "execution_count": null,
   "metadata": {
    "execution": {
     "iopub.status.busy": "2023-02-20T16:26:28.868213Z",
     "iopub.status.idle": "2023-02-20T16:26:28.868953Z",
     "shell.execute_reply": "2023-02-20T16:26:28.868791Z",
     "shell.execute_reply.started": "2023-02-20T16:26:28.868770Z"
    }
   },
   "outputs": [],
   "source": [
    "# finden\n",
    "mask = wiktionary_lemma.tag == 'Zirkumfix'\n",
    "grid(wiktionary_lemma, mask, color='green')"
   ]
  },
  {
   "cell_type": "code",
   "execution_count": null,
   "metadata": {
    "execution": {
     "iopub.status.busy": "2023-02-20T16:26:28.869534Z",
     "iopub.status.idle": "2023-02-20T16:26:28.869825Z",
     "shell.execute_reply": "2023-02-20T16:26:28.869700Z",
     "shell.execute_reply.started": "2023-02-20T16:26:28.869686Z"
    }
   },
   "outputs": [],
   "source": [
    "# NaN\n",
    "wiktionary_lemma['page_id']   = wiktionary_lemma.page_id.fillna(-1) \n",
    "wiktionary_lemma['page_part'] = wiktionary_lemma.page_part.fillna(-1) "
   ]
  },
  {
   "cell_type": "markdown",
   "metadata": {},
   "source": [
    "## Letzte Pflegeschritte"
   ]
  },
  {
   "cell_type": "code",
   "execution_count": null,
   "metadata": {
    "execution": {
     "iopub.status.busy": "2023-02-20T16:26:28.871157Z",
     "iopub.status.idle": "2023-02-20T16:26:28.871486Z",
     "shell.execute_reply": "2023-02-20T16:26:28.871356Z",
     "shell.execute_reply.started": "2023-02-20T16:26:28.871341Z"
    }
   },
   "outputs": [],
   "source": [
    "wiktionary_lemma        = pak.reset_index( wiktionary_lemma.sort_values('section_id2') )"
   ]
  },
  {
   "cell_type": "code",
   "execution_count": null,
   "metadata": {
    "execution": {
     "iopub.status.busy": "2023-02-20T16:26:28.874888Z",
     "iopub.status.idle": "2023-02-20T16:26:28.875300Z",
     "shell.execute_reply": "2023-02-20T16:26:28.875159Z",
     "shell.execute_reply.started": "2023-02-20T16:26:28.875143Z"
    }
   },
   "outputs": [],
   "source": [
    "wiktionary_nolemma      = pak.drop_cols(wiktionary_nolemma,['lang','lang_code','error'])\n",
    "wiktionary_nolemma      = pak.move_cols(wiktionary_nolemma,'lemma_lower','lemma')"
   ]
  },
  {
   "cell_type": "code",
   "execution_count": null,
   "metadata": {
    "execution": {
     "iopub.status.busy": "2023-02-20T16:26:28.876626Z",
     "iopub.status.idle": "2023-02-20T16:26:28.876966Z",
     "shell.execute_reply": "2023-02-20T16:26:28.876832Z",
     "shell.execute_reply.started": "2023-02-20T16:26:28.876818Z"
    }
   },
   "outputs": [],
   "source": [
    "# score übertragen\n",
    "wiktionary_merkmal = pak.update_col(df_to=wiktionary_merkmal, df_from=wiktionary_lemma, on='section_id2',col='score', func='max')\n",
    "wiktionary_merkmal = pak.update_col(df_to=wiktionary_merkmal, df_from=wiktionary_nolemma, left_on='section_id2', right_on='nolemma_id', col='score', func='max', cond='null')"
   ]
  },
  {
   "cell_type": "code",
   "execution_count": null,
   "metadata": {
    "execution": {
     "iopub.status.busy": "2023-02-20T16:26:28.878919Z",
     "iopub.status.idle": "2023-02-20T16:26:28.884860Z",
     "shell.execute_reply": "2023-02-20T16:26:28.884630Z",
     "shell.execute_reply.started": "2023-02-20T16:26:28.884601Z"
    }
   },
   "outputs": [],
   "source": [
    "# Keine Leerzeichen in der ID\n",
    "mask = wiktionary_lemma.section_id2.str.contains(' ')\n",
    "check_mask(wiktionary_lemma,mask,0)\n",
    "\n",
    "mask = wiktionary_nolemma.nolemma_id.str.contains(' ')\n",
    "check_mask(wiktionary_nolemma,mask,0)\n",
    "\n",
    "mask = wiktionary_merkmal.section_id2.str.contains(' ')\n",
    "check_mask(wiktionary_merkmal,mask,0)"
   ]
  },
  {
   "cell_type": "markdown",
   "metadata": {},
   "source": [
    "## Löschliste nochmal"
   ]
  },
  {
   "cell_type": "code",
   "execution_count": null,
   "metadata": {
    "execution": {
     "iopub.status.busy": "2023-02-20T16:26:28.885840Z",
     "iopub.status.idle": "2023-02-20T16:26:28.886211Z",
     "shell.execute_reply": "2023-02-20T16:26:28.886055Z",
     "shell.execute_reply.started": "2023-02-20T16:26:28.886039Z"
    }
   },
   "outputs": [],
   "source": [
    "# wiktionary_lemma belöschen nach section_id2\n",
    "mask = wiktionary_lemma.section_id2.isin(löschliste_section_id2)   \n",
    "wiktionary_lemma, wiktionary_lemma_trash = pak.move_rows( df_from=wiktionary_lemma, df_to=wiktionary_lemma_trash, mask=mask, msg='löschliste_B1' )       # Löschen\n",
    "\n",
    "mask = wiktionary_lemma_trash.msg == 'löschliste_B1'\n",
    "grid(wiktionary_lemma_trash,mask)"
   ]
  },
  {
   "cell_type": "code",
   "execution_count": null,
   "metadata": {
    "execution": {
     "iopub.status.busy": "2023-02-20T16:26:28.887209Z",
     "iopub.status.idle": "2023-02-20T16:26:28.887564Z",
     "shell.execute_reply": "2023-02-20T16:26:28.887419Z",
     "shell.execute_reply.started": "2023-02-20T16:26:28.887404Z"
    }
   },
   "outputs": [],
   "source": [
    "# wiktionary_lemma belöschen nach lex\n",
    "mask = wiktionary_lemma.lemma.isin(löschliste_lex)   \n",
    "wiktionary_lemma, wiktionary_lemma_trash = pak.move_rows( df_from=wiktionary_lemma, df_to=wiktionary_lemma_trash, mask=mask, msg='löschliste_B2' )       # Löschen\n",
    "\n",
    "mask = wiktionary_lemma_trash.msg == 'löschliste_B2'\n",
    "grid(wiktionary_lemma_trash,mask)"
   ]
  },
  {
   "cell_type": "code",
   "execution_count": null,
   "metadata": {
    "execution": {
     "iopub.status.busy": "2023-02-20T16:26:28.888684Z",
     "iopub.status.idle": "2023-02-20T16:26:28.889061Z",
     "shell.execute_reply": "2023-02-20T16:26:28.888906Z",
     "shell.execute_reply.started": "2023-02-20T16:26:28.888891Z"
    }
   },
   "outputs": [],
   "source": [
    "# wiktionary_nolemma belöschen nach lex\n",
    "mask = wiktionary_nolemma.lemma.isin(löschliste_lex)   \n",
    "wiktionary_nolemma, wiktionary_nolemma_trash = pak.move_rows( df_from=wiktionary_nolemma, df_to=wiktionary_nolemma_trash, mask=mask, msg='löschliste_B3' ) \n",
    "\n",
    "mask = wiktionary_nolemma_trash.msg == 'löschliste_B3'\n",
    "grid(wiktionary_nolemma_trash,mask)"
   ]
  },
  {
   "cell_type": "code",
   "execution_count": null,
   "metadata": {
    "execution": {
     "iopub.status.busy": "2023-02-20T16:26:28.890045Z",
     "iopub.status.idle": "2023-02-20T16:26:28.890397Z",
     "shell.execute_reply": "2023-02-20T16:26:28.890252Z",
     "shell.execute_reply.started": "2023-02-20T16:26:28.890237Z"
    }
   },
   "outputs": [],
   "source": [
    "# wiktionary_nolemma belöschen nach lex\n",
    "mask = wiktionary_nolemma.lex.isin(löschliste_lex)   \n",
    "wiktionary_nolemma, wiktionary_nolemma_trash = pak.move_rows( df_from=wiktionary_nolemma, df_to=wiktionary_nolemma_trash, mask=mask, msg='löschliste_B4' )\n",
    "\n",
    "mask = wiktionary_nolemma_trash.msg == 'löschliste_B4'\n",
    "grid(wiktionary_nolemma_trash,mask)"
   ]
  },
  {
   "cell_type": "code",
   "execution_count": null,
   "metadata": {
    "execution": {
     "iopub.status.busy": "2023-02-20T16:26:28.894235Z",
     "iopub.status.idle": "2023-02-20T16:26:28.894586Z",
     "shell.execute_reply": "2023-02-20T16:26:28.894448Z",
     "shell.execute_reply.started": "2023-02-20T16:26:28.894434Z"
    }
   },
   "outputs": [],
   "source": [
    "# wiktionary_merkmal belöschen nach section_id2\n",
    "mask = wiktionary_merkmal.section_id2.isin(löschliste_section_id2) \n",
    "wiktionary_merkmal, wiktionary_merkmal_trash = pak.move_rows(df_from=wiktionary_merkmal, df_to=wiktionary_merkmal_trash, mask=mask, msg='löschliste_B5')\n",
    "\n",
    "mask = wiktionary_merkmal_trash.msg == 'löschliste_B5'\n",
    "grid(wiktionary_merkmal_trash,mask)"
   ]
  },
  {
   "cell_type": "code",
   "execution_count": null,
   "metadata": {
    "execution": {
     "iopub.status.busy": "2023-02-20T16:26:28.900978Z",
     "iopub.status.idle": "2023-02-20T16:26:28.901385Z",
     "shell.execute_reply": "2023-02-20T16:26:28.901217Z",
     "shell.execute_reply.started": "2023-02-20T16:26:28.901200Z"
    }
   },
   "outputs": [],
   "source": [
    "# wiktionary_merkmal belöschen nach lex\n",
    "mask = wiktionary_merkmal.data.isin(löschliste_lex) \n",
    "wiktionary_merkmal, wiktionary_merkmal_trash = pak.move_rows(df_from=wiktionary_merkmal, df_to=wiktionary_merkmal_trash, mask=mask, msg='löschliste_B6')\n",
    "\n",
    "mask = wiktionary_merkmal_trash.msg == 'löschliste_B6'\n",
    "grid(wiktionary_merkmal_trash,mask)"
   ]
  },
  {
   "cell_type": "markdown",
   "metadata": {},
   "source": [
    "## Prüfen"
   ]
  },
  {
   "cell_type": "code",
   "execution_count": null,
   "metadata": {
    "execution": {
     "iopub.status.busy": "2023-02-20T16:26:28.902401Z",
     "iopub.status.idle": "2023-02-20T16:26:28.902770Z",
     "shell.execute_reply": "2023-02-20T16:26:28.902619Z",
     "shell.execute_reply.started": "2023-02-20T16:26:28.902605Z"
    }
   },
   "outputs": [],
   "source": [
    "# lex_test, lemma_test\n",
    "from x32_Funktionen import *\n",
    "lex_test, lemma_test = lade_lex_text( lex_test_filename, level=1 )\n",
    "#grid(lemma_test)"
   ]
  },
  {
   "cell_type": "code",
   "execution_count": null,
   "metadata": {
    "execution": {
     "iopub.status.busy": "2023-02-20T16:26:28.907806Z",
     "iopub.status.idle": "2023-02-20T16:26:28.908202Z",
     "shell.execute_reply": "2023-02-20T16:26:28.908037Z",
     "shell.execute_reply.started": "2023-02-20T16:26:28.908021Z"
    }
   },
   "outputs": [],
   "source": [
    "# lemma_test\n",
    "from x32_Funktionen import *\n",
    "lemma_test = check_lemma_test(lemma_test, wiktionary_lemma)\n",
    "#lemma_test"
   ]
  },
  {
   "cell_type": "code",
   "execution_count": null,
   "metadata": {
    "execution": {
     "iopub.status.busy": "2023-02-20T16:26:28.909231Z",
     "iopub.status.idle": "2023-02-20T16:26:28.909596Z",
     "shell.execute_reply": "2023-02-20T16:26:28.909447Z",
     "shell.execute_reply.started": "2023-02-20T16:26:28.909431Z"
    }
   },
   "outputs": [],
   "source": [
    "# Fehler\n",
    "maskA = lemma_test.lemma_id == ''\n",
    "maskB = lemma_test.check_tag == ''\n",
    "mask = maskA | maskB\n",
    "check_mask(lemma_test,mask)\n",
    "\n",
    "probleme = list(lemma_test[mask].lemma)\n",
    "lemma_test[mask]"
   ]
  },
  {
   "cell_type": "code",
   "execution_count": null,
   "metadata": {
    "execution": {
     "iopub.status.busy": "2023-02-20T16:26:28.913925Z",
     "iopub.status.idle": "2023-02-20T16:26:28.914323Z",
     "shell.execute_reply": "2023-02-20T16:26:28.914160Z",
     "shell.execute_reply.started": "2023-02-20T16:26:28.914144Z"
    }
   },
   "outputs": [],
   "source": [
    "# Sicherstellen: Keine Fehler\n",
    "check_mask(lemma_test,mask,0)"
   ]
  },
  {
   "cell_type": "markdown",
   "metadata": {},
   "source": [
    "## Speichern"
   ]
  },
  {
   "cell_type": "code",
   "execution_count": null,
   "metadata": {
    "execution": {
     "iopub.status.busy": "2023-02-20T16:26:28.915336Z",
     "iopub.status.idle": "2023-02-20T16:26:28.915696Z",
     "shell.execute_reply": "2023-02-20T16:26:28.915549Z",
     "shell.execute_reply.started": "2023-02-20T16:26:28.915533Z"
    }
   },
   "outputs": [],
   "source": [
    "# Doppelspaces prüfen\n",
    "if gründlich:\n",
    "    mask = wiktionary_merkmal.data.str.contains('  ')\n",
    "    check_mask( wiktionary_merkmal, mask, 0)"
   ]
  },
  {
   "cell_type": "code",
   "execution_count": null,
   "metadata": {
    "execution": {
     "iopub.status.busy": "2023-02-20T16:26:28.920002Z",
     "iopub.status.idle": "2023-02-20T16:26:28.920378Z",
     "shell.execute_reply": "2023-02-20T16:26:28.920226Z",
     "shell.execute_reply.started": "2023-02-20T16:26:28.920209Z"
    }
   },
   "outputs": [],
   "source": [
    "pak.analyse_cols(wiktionary_merkmal)"
   ]
  },
  {
   "cell_type": "code",
   "execution_count": null,
   "metadata": {
    "execution": {
     "iopub.status.busy": "2023-02-20T16:26:28.923773Z",
     "iopub.status.idle": "2023-02-20T16:26:28.924112Z",
     "shell.execute_reply": "2023-02-20T16:26:28.923982Z",
     "shell.execute_reply.started": "2023-02-20T16:26:28.923968Z"
    }
   },
   "outputs": [],
   "source": [
    "# wiktionary_merkmal: drop_duplicates\n",
    "wiktionary_merkmal = wiktionary_merkmal.drop_duplicates()"
   ]
  },
  {
   "cell_type": "code",
   "execution_count": null,
   "metadata": {
    "execution": {
     "iopub.status.busy": "2023-02-20T16:26:28.925076Z",
     "iopub.status.idle": "2023-02-20T16:26:28.925446Z",
     "shell.execute_reply": "2023-02-20T16:26:28.925294Z",
     "shell.execute_reply.started": "2023-02-20T16:26:28.925279Z"
    }
   },
   "outputs": [],
   "source": [
    "assert gründlich"
   ]
  },
  {
   "cell_type": "code",
   "execution_count": null,
   "metadata": {
    "execution": {
     "iopub.status.busy": "2023-02-20T16:26:28.929963Z",
     "iopub.status.idle": "2023-02-20T16:26:28.930337Z",
     "shell.execute_reply": "2023-02-20T16:26:28.930186Z",
     "shell.execute_reply.started": "2023-02-20T16:26:28.930170Z"
    }
   },
   "outputs": [],
   "source": [
    "# Speichern  \n",
    "pak.dump_pickle(wiktionary_lemma,            wiktionary_lemma_filename_save)   \n",
    "pak.dump_pickle(wiktionary_nolemma,          wiktionary_nolemma_filename_save)  \n",
    "pak.dump_pickle(wiktionary_merkmal,          wiktionary_merkmal_filename_save) \n",
    "pak.dump_pickle(wiktionary_merkmal_text,     wiktionary_merkmal_text_filename_save)  \n",
    "os.utime(verzeichnis_save)"
   ]
  },
  {
   "cell_type": "code",
   "execution_count": null,
   "metadata": {
    "colab": {
     "base_uri": "https://localhost:8080/"
    },
    "execution": {
     "iopub.status.busy": "2023-02-20T16:26:28.934005Z",
     "iopub.status.idle": "2023-02-20T16:26:28.934403Z",
     "shell.execute_reply": "2023-02-20T16:26:28.934238Z",
     "shell.execute_reply.started": "2023-02-20T16:26:28.934221Z"
    },
    "executionInfo": {
     "elapsed": 7425,
     "status": "ok",
     "timestamp": 1676479015113,
     "user": {
      "displayName": "Hups Hopsalla",
      "userId": "10020718461385065661"
     },
     "user_tz": -60
    },
    "id": "dbiDceKXyUx7",
    "outputId": "beb0cf2a-bc86-47c4-81e6-b11c7354957c"
   },
   "outputs": [],
   "source": [
    "# Save in Google Drive\n",
    "if environment['in_colab']:\n",
    "    from google.colab import drive\n",
    "    drive.mount('/content/drive') \n",
    "    !cd /content\n",
    "    !cp -av {verzeichnis_save} /content/drive/MyDrive"
   ]
  },
  {
   "cell_type": "code",
   "execution_count": null,
   "metadata": {
    "execution": {
     "iopub.status.busy": "2023-02-20T16:26:28.935411Z",
     "iopub.status.idle": "2023-02-20T16:26:28.935778Z",
     "shell.execute_reply": "2023-02-20T16:26:28.935629Z",
     "shell.execute_reply.started": "2023-02-20T16:26:28.935615Z"
    }
   },
   "outputs": [],
   "source": [
    "pak.memory_consumption(locals())"
   ]
  },
  {
   "cell_type": "markdown",
   "metadata": {},
   "source": [
    "## Trash anschauen"
   ]
  },
  {
   "cell_type": "markdown",
   "metadata": {},
   "source": [
    "### wiktionary_trash"
   ]
  },
  {
   "cell_type": "code",
   "execution_count": null,
   "metadata": {
    "execution": {
     "iopub.status.busy": "2023-02-20T16:26:28.940178Z",
     "iopub.status.idle": "2023-02-20T16:26:28.940574Z",
     "shell.execute_reply": "2023-02-20T16:26:28.940405Z",
     "shell.execute_reply.started": "2023-02-20T16:26:28.940389Z"
    }
   },
   "outputs": [],
   "source": [
    "wiktionary_trash.msg = wiktionary_trash.msg.fillna('')"
   ]
  },
  {
   "cell_type": "code",
   "execution_count": null,
   "metadata": {
    "execution": {
     "iopub.status.busy": "2023-02-20T16:26:28.941573Z",
     "iopub.status.idle": "2023-02-20T16:26:28.941937Z",
     "shell.execute_reply": "2023-02-20T16:26:28.941785Z",
     "shell.execute_reply.started": "2023-02-20T16:26:28.941770Z"
    }
   },
   "outputs": [],
   "source": [
    "# Übersicht\n",
    "a = pak.analyse_freqs(wiktionary_trash, ['msg','member'], splits=[None,' '])\n",
    "a"
   ]
  },
  {
   "cell_type": "code",
   "execution_count": null,
   "metadata": {
    "execution": {
     "iopub.status.busy": "2023-02-20T16:26:28.946729Z",
     "iopub.status.idle": "2023-02-20T16:26:28.947102Z",
     "shell.execute_reply": "2023-02-20T16:26:28.946951Z",
     "shell.execute_reply.started": "2023-02-20T16:26:28.946935Z"
    }
   },
   "outputs": [],
   "source": [
    "# Datensätze\n",
    "mask = (wiktionary_trash.msg == 'MFIX')\n",
    "#grid( wiktionary_trash, mask )"
   ]
  },
  {
   "cell_type": "code",
   "execution_count": null,
   "metadata": {
    "execution": {
     "iopub.status.busy": "2023-02-20T16:26:28.948063Z",
     "iopub.status.idle": "2023-02-20T16:26:28.951704Z",
     "shell.execute_reply": "2023-02-20T16:26:28.951429Z",
     "shell.execute_reply.started": "2023-02-20T16:26:28.948242Z"
    }
   },
   "outputs": [],
   "source": [
    "# suche_debug\n",
    "grid(search_str(wiktionary_trash, suche_debug))"
   ]
  },
  {
   "cell_type": "markdown",
   "metadata": {},
   "source": [
    "### wiktionary_merkmal_trash"
   ]
  },
  {
   "cell_type": "code",
   "execution_count": null,
   "metadata": {
    "execution": {
     "iopub.status.busy": "2023-02-20T16:26:28.952770Z",
     "iopub.status.idle": "2023-02-20T16:26:28.953136Z",
     "shell.execute_reply": "2023-02-20T16:26:28.952985Z",
     "shell.execute_reply.started": "2023-02-20T16:26:28.952970Z"
    }
   },
   "outputs": [],
   "source": [
    "wiktionary_merkmal_trash.msg = wiktionary_merkmal_trash.msg.fillna('')"
   ]
  },
  {
   "cell_type": "code",
   "execution_count": null,
   "metadata": {
    "execution": {
     "iopub.status.busy": "2023-02-20T16:26:28.956655Z",
     "iopub.status.idle": "2023-02-20T16:26:28.957035Z",
     "shell.execute_reply": "2023-02-20T16:26:28.956878Z",
     "shell.execute_reply.started": "2023-02-20T16:26:28.956863Z"
    }
   },
   "outputs": [],
   "source": [
    "# Übersicht\n",
    "#a = pak.analyse_freqs(wiktionary_merkmal_trash, ['msg','merkmal', 'data', ])\n",
    "a = pak.analyse_freqs(wiktionary_merkmal_trash, ['msg','merkmal', 'data', ])\n",
    "a = pak.drop_cols(a, ['msg_percent','data_count'])\n",
    "grid(a,  max_column_width=300)"
   ]
  },
  {
   "cell_type": "code",
   "execution_count": null,
   "metadata": {
    "execution": {
     "iopub.status.busy": "2023-02-20T16:26:28.958041Z",
     "iopub.status.idle": "2023-02-20T16:26:28.958390Z",
     "shell.execute_reply": "2023-02-20T16:26:28.958252Z",
     "shell.execute_reply.started": "2023-02-20T16:26:28.958237Z"
    }
   },
   "outputs": [],
   "source": [
    "# Datensätze\n",
    "mask = (wiktionary_merkmal_trash.msg == 'data_endswith')\n",
    "grid( wiktionary_merkmal_trash)"
   ]
  },
  {
   "cell_type": "code",
   "execution_count": null,
   "metadata": {
    "execution": {
     "iopub.status.busy": "2023-02-20T16:26:28.960943Z",
     "iopub.status.idle": "2023-02-20T16:26:28.961322Z",
     "shell.execute_reply": "2023-02-20T16:26:28.961162Z",
     "shell.execute_reply.started": "2023-02-20T16:26:28.961146Z"
    }
   },
   "outputs": [],
   "source": [
    "# suche_debug\n",
    "maskA = wiktionary_merkmal_trash.data.isin(suche_debug)\n",
    "maskB = wiktionary_merkmal_trash.section_id2.isin(suche_debug)\n",
    "mask  = maskA | maskB\n",
    "grid(wiktionary_merkmal_trash,mask, color='green')"
   ]
  },
  {
   "cell_type": "markdown",
   "metadata": {},
   "source": [
    "### flexion_trash\n",
    "* flexion_trash enthält Datensätze, die ursprünglich aus wiktionary_merkmal stammen"
   ]
  },
  {
   "cell_type": "code",
   "execution_count": null,
   "metadata": {
    "execution": {
     "iopub.status.busy": "2023-02-20T16:26:28.962006Z",
     "iopub.status.idle": "2023-02-20T16:26:28.962290Z",
     "shell.execute_reply": "2023-02-20T16:26:28.962167Z",
     "shell.execute_reply.started": "2023-02-20T16:26:28.962153Z"
    }
   },
   "outputs": [],
   "source": [
    "# Übersicht\n",
    "a = pak.analyse_freqs(flexion_trash, ['merkmal', 'data' , 'msg'])\n",
    "a = pak.drop_cols(a, ['merkmal_percent','msg_count','data_count'])\n",
    "grid(a)"
   ]
  },
  {
   "cell_type": "markdown",
   "metadata": {},
   "source": [
    "### wiktionary_lemma_trash"
   ]
  },
  {
   "cell_type": "code",
   "execution_count": null,
   "metadata": {
    "execution": {
     "iopub.status.busy": "2023-02-20T16:26:28.962747Z",
     "iopub.status.idle": "2023-02-20T16:26:28.963001Z",
     "shell.execute_reply": "2023-02-20T16:26:28.962881Z",
     "shell.execute_reply.started": "2023-02-20T16:26:28.962869Z"
    }
   },
   "outputs": [],
   "source": [
    "# Übersicht\n",
    "a = pak.analyse_freqs(wiktionary_lemma_trash,['member','msg','lemma'], splits=[None,' '])\n",
    "grid(a)"
   ]
  },
  {
   "cell_type": "markdown",
   "metadata": {},
   "source": [
    "### wiktionary_nolemma_trash"
   ]
  },
  {
   "cell_type": "code",
   "execution_count": null,
   "metadata": {
    "execution": {
     "iopub.status.busy": "2023-02-20T16:26:28.963493Z",
     "iopub.status.idle": "2023-02-20T16:26:28.963761Z",
     "shell.execute_reply": "2023-02-20T16:26:28.963637Z",
     "shell.execute_reply.started": "2023-02-20T16:26:28.963623Z"
    }
   },
   "outputs": [],
   "source": [
    "# Übersicht\n",
    "a = pak.analyse_freqs(wiktionary_nolemma_trash,['member','lex'], splits=[None,' '])\n",
    "grid(a)"
   ]
  },
  {
   "cell_type": "markdown",
   "metadata": {},
   "source": [
    "## Nutzdaten anschauen"
   ]
  },
  {
   "cell_type": "markdown",
   "metadata": {},
   "source": [
    "### wiktionary_lemma"
   ]
  },
  {
   "cell_type": "code",
   "execution_count": null,
   "metadata": {
    "execution": {
     "iopub.status.busy": "2023-02-20T16:26:28.964248Z",
     "iopub.status.idle": "2023-02-20T16:26:28.970933Z",
     "shell.execute_reply": "2023-02-20T16:26:28.964389Z",
     "shell.execute_reply.started": "2023-02-20T16:26:28.964376Z"
    }
   },
   "outputs": [],
   "source": [
    "mask = wiktionary_lemma.lemma.isin(suche_debug) #== 'gefriergetrocknet'\n",
    "wiktionary_lemma[mask]"
   ]
  },
  {
   "cell_type": "markdown",
   "metadata": {},
   "source": [
    "### wiktionary_merkmal"
   ]
  },
  {
   "cell_type": "code",
   "execution_count": null,
   "metadata": {
    "execution": {
     "iopub.status.busy": "2023-02-20T16:26:28.972259Z",
     "iopub.status.idle": "2023-02-20T16:26:28.972631Z",
     "shell.execute_reply": "2023-02-20T16:26:28.972468Z",
     "shell.execute_reply.started": "2023-02-20T16:26:28.972439Z"
    }
   },
   "outputs": [],
   "source": [
    "mask = wiktionary_merkmal.section_id2 == suche_debug[0]\n",
    "a = wiktionary_merkmal[mask].sort_values(['merkmal','section_id2','data'])\n",
    "grid(a)"
   ]
  },
  {
   "cell_type": "code",
   "execution_count": null,
   "metadata": {
    "execution": {
     "iopub.status.busy": "2023-02-20T16:26:28.974613Z",
     "iopub.status.idle": "2023-02-20T16:26:28.974947Z",
     "shell.execute_reply": "2023-02-20T16:26:28.974813Z",
     "shell.execute_reply.started": "2023-02-20T16:26:28.974799Z"
    }
   },
   "outputs": [],
   "source": [
    "mask = wiktionary_merkmal.data.isin(suche_debug) #== 'gefriergetrocknet'\n",
    "a = wiktionary_merkmal[mask].sort_values(['merkmal','section_id2','data'])\n",
    "grid(a)"
   ]
  },
  {
   "cell_type": "markdown",
   "metadata": {},
   "source": [
    "### wiktionary_nolemma"
   ]
  },
  {
   "cell_type": "code",
   "execution_count": null,
   "metadata": {
    "execution": {
     "iopub.status.busy": "2023-02-20T16:26:28.977875Z",
     "iopub.status.idle": "2023-02-20T16:26:28.978216Z",
     "shell.execute_reply": "2023-02-20T16:26:28.978079Z",
     "shell.execute_reply.started": "2023-02-20T16:26:28.978064Z"
    }
   },
   "outputs": [],
   "source": [
    "# wiktionary_nolemma suche_debug\n",
    "grid(search_str(wiktionary_nolemma, suche_debug))"
   ]
  },
  {
   "cell_type": "code",
   "execution_count": null,
   "metadata": {
    "execution": {
     "iopub.status.busy": "2023-02-20T16:26:28.981346Z",
     "iopub.status.idle": "2023-02-20T16:26:28.981685Z",
     "shell.execute_reply": "2023-02-20T16:26:28.981550Z",
     "shell.execute_reply.started": "2023-02-20T16:26:28.981536Z"
    }
   },
   "outputs": [],
   "source": [
    "#grid(wiktionary_nolemma)"
   ]
  },
  {
   "cell_type": "code",
   "execution_count": null,
   "metadata": {},
   "outputs": [],
   "source": []
  },
  {
   "cell_type": "code",
   "execution_count": null,
   "metadata": {},
   "outputs": [],
   "source": []
  },
  {
   "cell_type": "code",
   "execution_count": null,
   "metadata": {},
   "outputs": [],
   "source": []
  },
  {
   "cell_type": "code",
   "execution_count": null,
   "metadata": {
    "execution": {
     "iopub.status.busy": "2023-02-20T16:26:28.984191Z",
     "iopub.status.idle": "2023-02-20T16:26:28.984533Z",
     "shell.execute_reply": "2023-02-20T16:26:28.984391Z",
     "shell.execute_reply.started": "2023-02-20T16:26:28.984376Z"
    }
   },
   "outputs": [],
   "source": [
    "#a = pak.analyse_freqs(wiktionary_trash,['msg','member'], splits=[None,' '])\n",
    "#grid(a)"
   ]
  },
  {
   "cell_type": "code",
   "execution_count": null,
   "metadata": {},
   "outputs": [],
   "source": []
  },
  {
   "cell_type": "code",
   "execution_count": null,
   "metadata": {
    "execution": {
     "iopub.status.busy": "2023-02-20T16:26:28.987805Z",
     "iopub.status.idle": "2023-02-20T16:26:28.988434Z",
     "shell.execute_reply": "2023-02-20T16:26:28.988031Z",
     "shell.execute_reply.started": "2023-02-20T16:26:28.988015Z"
    },
    "tags": []
   },
   "outputs": [],
   "source": [
    "raise Stop"
   ]
  }
 ],
 "metadata": {
  "kernelspec": {
   "display_name": "Python 3 (ipykernel)",
   "language": "python",
   "name": "python3"
  },
  "language_info": {
   "codemirror_mode": {
    "name": "ipython",
    "version": 3
   },
   "file_extension": ".py",
   "mimetype": "text/x-python",
   "name": "python",
   "nbconvert_exporter": "python",
   "pygments_lexer": "ipython3",
   "version": "3.9.13"
  }
 },
 "nbformat": 4,
 "nbformat_minor": 4
}
