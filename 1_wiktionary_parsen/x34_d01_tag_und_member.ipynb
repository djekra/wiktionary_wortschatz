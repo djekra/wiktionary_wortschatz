{
 "cells": [
  {
   "cell_type": "markdown",
   "metadata": {},
   "source": [
    "# tag und member\n",
    "* speichert in data_01\n",
    "* 17 min\n",
    "* lex_test level 1\n",
    "-----\n",
    "\n",
    "\n",
    "* erstellt die Felder tag und member \n",
    "* integriert lexeme_manuell und named_entities\n",
    "* Löschen laut löschliste\n",
    "* behandelt Partizipien\n",
    "\n",
    "* erstellt dort wiktionary_lemma und wiktionary_nolemma\n",
    "* wiktionary ist danach überflüssig\n",
    "\n",
    "\n",
    "### Doku\n",
    "* __Abkürzungen__ stehen immer in wiktionary_merkmal (merkmal abk) und manchmal auch als eigenständiges Lemma in wiktionary_lemma.\n",
    "  In wiktionary_lemma werden Abkürzungen durch das member 'Abkürzung' gekennzeichnet. \n",
    "  Das gibt die Information, dass es sich lohnt, in wiktionary_merkmal nachzuschlagen, um die Bedeutung einer Abkürzung zu erfahren.\n",
    "\n",
    "* __Partizipien__ stehen in wiktionary_merkmal. Ihr lemma ist das Verb im Infinitiv (das ist oft falsch eingetragen). Ihr tag lautet 'VVPP ADJA' für Ptz2 bzw. 'VVFIN ADJA' für Ptz1, ihr member ist Ptz1 bzw. Ptz2.\n",
    "  Zusätzlich sind alle Partizipien aber auch als Adjektiv als eigenständiges lemma registriert. Dort weist data_id auf das Verb zurück.\n",
    "  \n",
    "### TODO \n",
    "* named_entities: section_id2 von existierenden Einträgen übertragen\n",
    "\n",
    "  \n",
    "### TODO Ganz am Ende, wenn alles komplett fertig ist:\n",
    "* TODO_verwaiste_Wörter: Wichtige Wörter nachverfolgen. \n",
    "* TODO_TAGS_IN_MERKMALE: Sind diese Lexeme im Endergebnis enthalten? Gehören die nicht in wiktionary_nolemma??\n",
    "* TODO_MEMBER_ÜBERPRÜFEN: Sind diese Informationen im Endergebnis enthalten?\n",
    "* TODO_Widersprüchliche_Angaben"
   ]
  },
  {
   "cell_type": "code",
   "execution_count": 1,
   "metadata": {},
   "outputs": [
    {
     "name": "stdout",
     "output_type": "stream",
     "text": [
      "\n",
      "Usage:   \n",
      "  pip uninstall [options] <package> ...\n",
      "  pip uninstall [options] -r <requirements file> ...\n",
      "\n",
      "no such option: -Y\n"
     ]
    }
   ],
   "source": [
    "!pip uninstall -Y jupyterlab-github"
   ]
  },
  {
   "cell_type": "code",
   "execution_count": 1,
   "metadata": {},
   "outputs": [
    {
     "name": "stdout",
     "output_type": "stream",
     "text": [
      "blab init\n",
      "environment['dropbox_path'] = /home/me/Data_Linux/Dropbox\n",
      "environment['lib_path']     = /home/me/Data_Linux/Dropbox/31_Projekte/01_Python/libs\n",
      "Start Time: 17:51:44\n"
     ]
    },
    {
     "data": {
      "text/html": [
       "<img src onerror=\"var cell = this.closest('.jp-CodeCell');var editor = cell.querySelector('.jp-Editor');editor.style.background='Beige';this.parentNode.removeChild(this)\">"
      ],
      "text/plain": [
       "<IPython.core.display.HTML object>"
      ]
     },
     "metadata": {},
     "output_type": "display_data"
    },
    {
     "name": "stdout",
     "output_type": "stream",
     "text": [
      "time: 409 ms\n"
     ]
    }
   ],
   "source": [
    "# blab init\n",
    "try:\n",
    "    import blab\n",
    "except ImportError as e:\n",
    "    !pip install blab\n",
    "    import blab    \n",
    "startup_notebook = blab.blab_startup()\n",
    "%run $startup_notebook "
   ]
  },
  {
   "cell_type": "code",
   "execution_count": 3,
   "metadata": {},
   "outputs": [
    {
     "name": "stdout",
     "output_type": "stream",
     "text": [
      "time: 3.54 s\n"
     ]
    }
   ],
   "source": [
    "import numpy      as np\n",
    "import pandas     as pd \n",
    "import bpyth      as bpy\n",
    "\n",
    "import pandasklar as pak \n",
    "grid       = pak.grid\n",
    "check_mask = pak.check_mask\n",
    "\n",
    "import bj_nlp"
   ]
  },
  {
   "cell_type": "code",
   "execution_count": 4,
   "metadata": {},
   "outputs": [
    {
     "name": "stdout",
     "output_type": "stream",
     "text": [
      "time: 44.4 ms\n"
     ]
    }
   ],
   "source": [
    "from x32_Funktionen                    import *\n",
    "from Steuertabellen.s01_Steuertabellen import *\n",
    "from collections                       import defaultdict"
   ]
  },
  {
   "cell_type": "code",
   "execution_count": 5,
   "metadata": {},
   "outputs": [
    {
     "name": "stdout",
     "output_type": "stream",
     "text": [
      "VERBOSE = True\n",
      "--> setting verbose=True as default for all pandasklar functions\n",
      "\n",
      "time: 40.9 ms\n"
     ]
    }
   ],
   "source": [
    "# Einstellungen\n",
    "\n",
    "# Was debuggen?\n",
    "suche_debug = ['gefriergetrocknet','gefriertrocknen','missraten']  \n",
    "\n",
    "gründlich          = True    # einige Arbeitsschritte können weggelassen werden, wenn gründlich = False\n",
    "speicher_freigeben = False    # sollen alte Ergebnisse gelöscht werden\n",
    "version            = '_all'\n",
    "#version           = '_100K'\n",
    "\n",
    "\n",
    "\n",
    "\n",
    "# verbose\n",
    "pak.Config.set('VERBOSE', True)\n",
    "\n",
    "# Load\n",
    "verzeichnis_load                      = 'data_00'\n",
    "wiktionary_filename                   = verzeichnis_load + '/wiktionary'              + version + '.pickle'  \n",
    "wiktionary_trash_filename             = verzeichnis_load + '/wiktionary_trash'        + version + '.pickle'\n",
    "wiktionary_merkmal_filename           = verzeichnis_load + '/wiktionary_merkmal'      + version + '.pickle'  \n",
    "wiktionary_merkmal_text_filename      = verzeichnis_load + '/wiktionary_merkmal_text' + version + '.pickle'  \n",
    "\n",
    "# Steuertabellen, externe und manuelle Daten\n",
    "löschliste_filename                   = 'Steuertabellen/löschliste.xlsx'     \n",
    "lexeme_manuell_filename               = 'Steuertabellen/lexeme_manuell.xlsx'                              # manuell eingepflegte Lexeme \n",
    "named_entities_filename               = '../../22 NLP NamedEntities/data_02/named_entities_02.xlsx'  \n",
    "lex_test_filename                     = 'Steuertabellen/lex_test.xlsx'     \n",
    "\n",
    "# Save\n",
    "verzeichnis_save                      = 'data_01'\n",
    "wiktionary_lemma_filename_save        = verzeichnis_save + '/wiktionary_lemma'        + version + '.pickle'  \n",
    "wiktionary_nolemma_filename_save      = verzeichnis_save + '/wiktionary_nolemma'      + version + '.pickle'  \n",
    "wiktionary_merkmal_filename_save      = verzeichnis_save + '/wiktionary_merkmal'      + version + '.pickle'  \n",
    "wiktionary_merkmal_text_filename_save = verzeichnis_save + '/wiktionary_merkmal_text' + version + '.pickle'  \n",
    "\n",
    "#\n",
    "# Einige hardcodierte Tags finden sich unter wiktionary Einzelkorrekturen\n",
    "# !!!"
   ]
  },
  {
   "cell_type": "markdown",
   "metadata": {},
   "source": [
    "## Daten laden"
   ]
  },
  {
   "cell_type": "code",
   "execution_count": 6,
   "metadata": {},
   "outputs": [
    {
     "name": "stdout",
     "output_type": "stream",
     "text": [
      "806916 rows loaded\n",
      "3966 rows loaded\n",
      "4976091 rows loaded\n",
      "619794 rows loaded\n",
      "time: 16.9 s\n"
     ]
    }
   ],
   "source": [
    "# wiktionary laden     \n",
    "wiktionary               = pak.load_pickle(wiktionary_filename)\n",
    "wiktionary               = pak.drop_cols(wiktionary,['wikitext','section_id'])\n",
    "\n",
    "wiktionary_trash         = pak.load_pickle(wiktionary_trash_filename)\n",
    "wiktionary_trash         = pak.drop_cols(wiktionary_trash,['msg','section_id','wikitext'])\n",
    "wiktionary_trash         = pak.rename_col(wiktionary_trash,'error','msg')\n",
    "\n",
    "wiktionary_merkmal       = pak.load_pickle(wiktionary_merkmal_filename)\n",
    "wiktionary_merkmal       = pak.drop_cols(wiktionary_merkmal,['section_id'])\n",
    "\n",
    "wiktionary_merkmal_trash = wiktionary_merkmal.head(0)\n",
    "\n",
    "wiktionary_merkmal_text  = pak.load_pickle(wiktionary_merkmal_text_filename)"
   ]
  },
  {
   "cell_type": "code",
   "execution_count": 7,
   "metadata": {},
   "outputs": [
    {
     "name": "stdout",
     "output_type": "stream",
     "text": [
      "time: 32 ms\n"
     ]
    }
   ],
   "source": [
    "# laden\n",
    "\n",
    "# pak.nnan(wiktionary_merkmal_text)"
   ]
  },
  {
   "cell_type": "code",
   "execution_count": 8,
   "metadata": {},
   "outputs": [
    {
     "name": "stdout",
     "output_type": "stream",
     "text": [
      "time: 781 ms\n"
     ]
    }
   ],
   "source": [
    "# Keine NaN\n",
    "assert not pak.any_nan(wiktionary, without=['syllables','rhymes','flexion','ipa'])"
   ]
  },
  {
   "cell_type": "code",
   "execution_count": 9,
   "metadata": {},
   "outputs": [
    {
     "name": "stdout",
     "output_type": "stream",
     "text": [
      "check_mask:  0 rows\n",
      "time: 274 ms\n"
     ]
    }
   ],
   "source": [
    "# Keine Leerzeichen in der ID\n",
    "mask = wiktionary.section_id2.str.contains(' ')\n",
    "check_mask(wiktionary,mask,0)"
   ]
  },
  {
   "cell_type": "code",
   "execution_count": 10,
   "metadata": {},
   "outputs": [
    {
     "data": {
      "text/html": [
       "<div>\n",
       "<style scoped>\n",
       "    .dataframe tbody tr th:only-of-type {\n",
       "        vertical-align: middle;\n",
       "    }\n",
       "\n",
       "    .dataframe tbody tr th {\n",
       "        vertical-align: top;\n",
       "    }\n",
       "\n",
       "    .dataframe thead th {\n",
       "        text-align: right;\n",
       "    }\n",
       "</style>\n",
       "<table border=\"1\" class=\"dataframe\">\n",
       "  <thead>\n",
       "    <tr style=\"text-align: right;\">\n",
       "      <th></th>\n",
       "      <th>name</th>\n",
       "      <th>rtype</th>\n",
       "      <th>size</th>\n",
       "    </tr>\n",
       "  </thead>\n",
       "  <tbody>\n",
       "    <tr>\n",
       "      <th>0</th>\n",
       "      <td>wiktionary_merkmal</td>\n",
       "      <td>(DataFrame, Series)</td>\n",
       "      <td>2.1 GB</td>\n",
       "    </tr>\n",
       "    <tr>\n",
       "      <th>1</th>\n",
       "      <td>wiktionary</td>\n",
       "      <td>(DataFrame, Series)</td>\n",
       "      <td>741.3 MB</td>\n",
       "    </tr>\n",
       "    <tr>\n",
       "      <th>2</th>\n",
       "      <td>wiktionary_merkmal_text</td>\n",
       "      <td>(DataFrame, Series)</td>\n",
       "      <td>307.0 MB</td>\n",
       "    </tr>\n",
       "    <tr>\n",
       "      <th>3</th>\n",
       "      <td>wiktionary_trash</td>\n",
       "      <td>(DataFrame, Series)</td>\n",
       "      <td>3.8 MB</td>\n",
       "    </tr>\n",
       "    <tr>\n",
       "      <th>4</th>\n",
       "      <td>mask</td>\n",
       "      <td>(Series,)</td>\n",
       "      <td>1.5 MB</td>\n",
       "    </tr>\n",
       "    <tr>\n",
       "      <th>5</th>\n",
       "      <td>translate_tag</td>\n",
       "      <td>(DataFrame, Series)</td>\n",
       "      <td>37.1 KB</td>\n",
       "    </tr>\n",
       "    <tr>\n",
       "      <th>6</th>\n",
       "      <td>translate_tagZ</td>\n",
       "      <td>(DataFrame, Series)</td>\n",
       "      <td>20.9 KB</td>\n",
       "    </tr>\n",
       "    <tr>\n",
       "      <th>7</th>\n",
       "      <td>_i5</td>\n",
       "      <td>(str,)</td>\n",
       "      <td>3.8 KB</td>\n",
       "    </tr>\n",
       "    <tr>\n",
       "      <th>8</th>\n",
       "      <td>Stop</td>\n",
       "      <td>(type,)</td>\n",
       "      <td>1.0 KB</td>\n",
       "    </tr>\n",
       "    <tr>\n",
       "      <th>9</th>\n",
       "      <td>Markdown</td>\n",
       "      <td>(type,)</td>\n",
       "      <td>1.0 KB</td>\n",
       "    </tr>\n",
       "  </tbody>\n",
       "</table>\n",
       "</div>"
      ],
      "text/plain": [
       "                      name                rtype      size\n",
       "0       wiktionary_merkmal  (DataFrame, Series)    2.1 GB\n",
       "1               wiktionary  (DataFrame, Series)  741.3 MB\n",
       "2  wiktionary_merkmal_text  (DataFrame, Series)  307.0 MB\n",
       "3         wiktionary_trash  (DataFrame, Series)    3.8 MB\n",
       "4                     mask            (Series,)    1.5 MB\n",
       "5            translate_tag  (DataFrame, Series)   37.1 KB\n",
       "6           translate_tagZ  (DataFrame, Series)   20.9 KB\n",
       "7                      _i5               (str,)    3.8 KB\n",
       "8                     Stop              (type,)    1.0 KB\n",
       "9                 Markdown              (type,)    1.0 KB"
      ]
     },
     "execution_count": 10,
     "metadata": {},
     "output_type": "execute_result"
    },
    {
     "name": "stdout",
     "output_type": "stream",
     "text": [
      "time: 3.9 s\n"
     ]
    }
   ],
   "source": [
    "pak.memory_consumption(locals())"
   ]
  },
  {
   "cell_type": "markdown",
   "metadata": {},
   "source": [
    "### wiktionary anschauen"
   ]
  },
  {
   "cell_type": "code",
   "execution_count": 11,
   "metadata": {},
   "outputs": [
    {
     "name": "stdout",
     "output_type": "stream",
     "text": [
      "3 rows\n"
     ]
    },
    {
     "data": {
      "text/html": [
       "\n",
       "        <iframe\n",
       "            width=\"100%\"\n",
       "            height=\"475\"\n",
       "            src=\"http://pop-os:40000/dtale/iframe/1\"\n",
       "            frameborder=\"0\"\n",
       "            allowfullscreen\n",
       "            \n",
       "        ></iframe>\n",
       "        "
      ],
      "text/plain": [
       "<IPython.lib.display.IFrame at 0x7f10696fbe80>"
      ]
     },
     "metadata": {},
     "output_type": "display_data"
    },
    {
     "data": {
      "text/plain": []
     },
     "execution_count": 11,
     "metadata": {},
     "output_type": "execute_result"
    },
    {
     "name": "stdout",
     "output_type": "stream",
     "text": [
      "time: 259 ms\n"
     ]
    }
   ],
   "source": [
    "# suche_debug \n",
    "mask = wiktionary.title.isin(suche_debug)\n",
    "grid(wiktionary[mask].sort_values(['section_id2',]))"
   ]
  },
  {
   "cell_type": "code",
   "execution_count": 12,
   "metadata": {},
   "outputs": [
    {
     "name": "stdout",
     "output_type": "stream",
     "text": [
      "\u001b[1m\u001b[7m\u001b[34mNo rows\u001b[0m\n",
      "time: 106 ms\n"
     ]
    }
   ],
   "source": [
    "# suche_debug \n",
    "mask = wiktionary_trash.title.isin(suche_debug)\n",
    "grid(wiktionary_trash[mask].sort_values(['section_id2',]))"
   ]
  },
  {
   "cell_type": "code",
   "execution_count": 13,
   "metadata": {},
   "outputs": [
    {
     "data": {
      "text/html": [
       "<div>\n",
       "<style scoped>\n",
       "    .dataframe tbody tr th:only-of-type {\n",
       "        vertical-align: middle;\n",
       "    }\n",
       "\n",
       "    .dataframe tbody tr th {\n",
       "        vertical-align: top;\n",
       "    }\n",
       "\n",
       "    .dataframe thead th {\n",
       "        text-align: right;\n",
       "    }\n",
       "</style>\n",
       "<table border=\"1\" class=\"dataframe\">\n",
       "  <thead>\n",
       "    <tr style=\"text-align: right;\">\n",
       "      <th></th>\n",
       "      <th>msg</th>\n",
       "      <th>msg_count</th>\n",
       "      <th>msg_percent</th>\n",
       "      <th>graph</th>\n",
       "    </tr>\n",
       "  </thead>\n",
       "  <tbody>\n",
       "    <tr>\n",
       "      <th>0</th>\n",
       "      <td>title zu viele Wörter</td>\n",
       "      <td>3729</td>\n",
       "      <td>94.0</td>\n",
       "      <td>###############################################</td>\n",
       "    </tr>\n",
       "    <tr>\n",
       "      <th>1</th>\n",
       "      <td>title zu kurz</td>\n",
       "      <td>205</td>\n",
       "      <td>5.2</td>\n",
       "      <td>##</td>\n",
       "    </tr>\n",
       "    <tr>\n",
       "      <th>2</th>\n",
       "      <td>lemma zu kurz</td>\n",
       "      <td>26</td>\n",
       "      <td>0.7</td>\n",
       "      <td></td>\n",
       "    </tr>\n",
       "    <tr>\n",
       "      <th>3</th>\n",
       "      <td>lang_code ist nan</td>\n",
       "      <td>6</td>\n",
       "      <td>0.2</td>\n",
       "      <td></td>\n",
       "    </tr>\n",
       "  </tbody>\n",
       "</table>\n",
       "</div>"
      ],
      "text/plain": [
       "                     msg  msg_count  msg_percent  \\\n",
       "0  title zu viele Wörter       3729         94.0   \n",
       "1          title zu kurz        205          5.2   \n",
       "2          lemma zu kurz         26          0.7   \n",
       "3      lang_code ist nan          6          0.2   \n",
       "\n",
       "                                             graph  \n",
       "0  ###############################################  \n",
       "1                                               ##  \n",
       "2                                                   \n",
       "3                                                   "
      ]
     },
     "execution_count": 13,
     "metadata": {},
     "output_type": "execute_result"
    },
    {
     "name": "stdout",
     "output_type": "stream",
     "text": [
      "time: 85.6 ms\n"
     ]
    }
   ],
   "source": [
    "# wiktionary_trash\n",
    "a = pak.analyse_freqs(wiktionary_trash, 'msg')\n",
    "a"
   ]
  },
  {
   "cell_type": "markdown",
   "metadata": {},
   "source": [
    "### wiktionary_merkmal anschauen"
   ]
  },
  {
   "cell_type": "code",
   "execution_count": 215,
   "metadata": {},
   "outputs": [
    {
     "name": "stdout",
     "output_type": "stream",
     "text": [
      "59 rows\n"
     ]
    },
    {
     "data": {
      "text/html": [
       "\n",
       "        <iframe\n",
       "            width=\"100%\"\n",
       "            height=\"475\"\n",
       "            src=\"http://pop-os:40000/dtale/iframe/39\"\n",
       "            frameborder=\"0\"\n",
       "            allowfullscreen\n",
       "            \n",
       "        ></iframe>\n",
       "        "
      ],
      "text/plain": [
       "<IPython.lib.display.IFrame at 0x7f0fdbca6d90>"
      ]
     },
     "metadata": {},
     "output_type": "display_data"
    },
    {
     "data": {
      "text/plain": []
     },
     "execution_count": 215,
     "metadata": {},
     "output_type": "execute_result"
    },
    {
     "name": "stdout",
     "output_type": "stream",
     "text": [
      "time: 570 ms\n"
     ]
    }
   ],
   "source": [
    "# suche_debug \n",
    "mask = wiktionary_merkmal.data.isin(suche_debug)\n",
    "grid(wiktionary_merkmal[mask].sort_values(['section_id2','merkmal']))"
   ]
  },
  {
   "cell_type": "code",
   "execution_count": 15,
   "metadata": {},
   "outputs": [
    {
     "data": {
      "text/html": [
       "<div>\n",
       "<style scoped>\n",
       "    .dataframe tbody tr th:only-of-type {\n",
       "        vertical-align: middle;\n",
       "    }\n",
       "\n",
       "    .dataframe tbody tr th {\n",
       "        vertical-align: top;\n",
       "    }\n",
       "\n",
       "    .dataframe thead th {\n",
       "        text-align: right;\n",
       "    }\n",
       "</style>\n",
       "<table border=\"1\" class=\"dataframe\">\n",
       "  <thead>\n",
       "    <tr style=\"text-align: right;\">\n",
       "      <th></th>\n",
       "      <th>col_name</th>\n",
       "      <th>datatype_instance</th>\n",
       "      <th>datatype</th>\n",
       "      <th>datatype_short</th>\n",
       "      <th>datatype_suggest</th>\n",
       "      <th>is_numeric</th>\n",
       "      <th>is_string</th>\n",
       "      <th>is_hashable</th>\n",
       "      <th>nan_allowed</th>\n",
       "      <th>mem_usage</th>\n",
       "      <th>ntypes</th>\n",
       "      <th>nunique</th>\n",
       "      <th>nnan</th>\n",
       "      <th>ndups</th>\n",
       "      <th>n</th>\n",
       "      <th>vmin</th>\n",
       "      <th>vmean</th>\n",
       "      <th>vmedian</th>\n",
       "      <th>vmax</th>\n",
       "      <th>vsum</th>\n",
       "    </tr>\n",
       "  </thead>\n",
       "  <tbody>\n",
       "    <tr>\n",
       "      <th>0</th>\n",
       "      <td>__index__</td>\n",
       "      <td>int64</td>\n",
       "      <td>np.int64</td>\n",
       "      <td>int64</td>\n",
       "      <td>np.int32</td>\n",
       "      <td>True</td>\n",
       "      <td>False</td>\n",
       "      <td>True</td>\n",
       "      <td>False</td>\n",
       "      <td>80.0 B</td>\n",
       "      <td>1</td>\n",
       "      <td>4976091</td>\n",
       "      <td>0</td>\n",
       "      <td>0</td>\n",
       "      <td>4976091</td>\n",
       "      <td>0.0</td>\n",
       "      <td>2488045.0</td>\n",
       "      <td>2488045.0</td>\n",
       "      <td>4976090.0</td>\n",
       "      <td>1.238074e+13</td>\n",
       "    </tr>\n",
       "    <tr>\n",
       "      <th>1</th>\n",
       "      <td>section_id2</td>\n",
       "      <td>str</td>\n",
       "      <td>pd.string</td>\n",
       "      <td>string</td>\n",
       "      <td></td>\n",
       "      <td>False</td>\n",
       "      <td>True</td>\n",
       "      <td>True</td>\n",
       "      <td>True</td>\n",
       "      <td>780.0 B</td>\n",
       "      <td>1</td>\n",
       "      <td>806049</td>\n",
       "      <td>0</td>\n",
       "      <td>4170042</td>\n",
       "      <td>4976091</td>\n",
       "      <td>&amp;c.</td>\n",
       "      <td>NaN</td>\n",
       "      <td>NaN</td>\n",
       "      <td>μm</td>\n",
       "      <td>NaN</td>\n",
       "    </tr>\n",
       "    <tr>\n",
       "      <th>2</th>\n",
       "      <td>merkmal</td>\n",
       "      <td>str</td>\n",
       "      <td>pd.string</td>\n",
       "      <td>string</td>\n",
       "      <td></td>\n",
       "      <td>False</td>\n",
       "      <td>True</td>\n",
       "      <td>True</td>\n",
       "      <td>True</td>\n",
       "      <td>720.0 B</td>\n",
       "      <td>1</td>\n",
       "      <td>37</td>\n",
       "      <td>0</td>\n",
       "      <td>4976054</td>\n",
       "      <td>4976091</td>\n",
       "      <td>Präfix</td>\n",
       "      <td>NaN</td>\n",
       "      <td>NaN</td>\n",
       "      <td>übersicht</td>\n",
       "      <td>NaN</td>\n",
       "    </tr>\n",
       "    <tr>\n",
       "      <th>3</th>\n",
       "      <td>node_debug</td>\n",
       "      <td>str</td>\n",
       "      <td>pd.string</td>\n",
       "      <td>string</td>\n",
       "      <td></td>\n",
       "      <td>False</td>\n",
       "      <td>True</td>\n",
       "      <td>True</td>\n",
       "      <td>True</td>\n",
       "      <td>727.0 B</td>\n",
       "      <td>1</td>\n",
       "      <td>30</td>\n",
       "      <td>10901</td>\n",
       "      <td>4965160</td>\n",
       "      <td>4976091</td>\n",
       "      <td></td>\n",
       "      <td>NaN</td>\n",
       "      <td>NaN</td>\n",
       "      <td>Wortart fehlt</td>\n",
       "      <td>NaN</td>\n",
       "    </tr>\n",
       "    <tr>\n",
       "      <th>4</th>\n",
       "      <td>node_kontext</td>\n",
       "      <td>str</td>\n",
       "      <td>pd.string</td>\n",
       "      <td>string</td>\n",
       "      <td></td>\n",
       "      <td>False</td>\n",
       "      <td>True</td>\n",
       "      <td>True</td>\n",
       "      <td>True</td>\n",
       "      <td>603.0 B</td>\n",
       "      <td>1</td>\n",
       "      <td>229</td>\n",
       "      <td>10901</td>\n",
       "      <td>4964961</td>\n",
       "      <td>4976091</td>\n",
       "      <td></td>\n",
       "      <td>NaN</td>\n",
       "      <td>NaN</td>\n",
       "      <td>Ü</td>\n",
       "      <td>NaN</td>\n",
       "    </tr>\n",
       "    <tr>\n",
       "      <th>5</th>\n",
       "      <td>data</td>\n",
       "      <td>str</td>\n",
       "      <td>pd.string</td>\n",
       "      <td>string</td>\n",
       "      <td></td>\n",
       "      <td>False</td>\n",
       "      <td>True</td>\n",
       "      <td>True</td>\n",
       "      <td>True</td>\n",
       "      <td>783.0 B</td>\n",
       "      <td>1</td>\n",
       "      <td>706156</td>\n",
       "      <td>0</td>\n",
       "      <td>4269935</td>\n",
       "      <td>4976091</td>\n",
       "      <td></td>\n",
       "      <td>NaN</td>\n",
       "      <td>NaN</td>\n",
       "      <td>𒄿𒌑𒃷</td>\n",
       "      <td>NaN</td>\n",
       "    </tr>\n",
       "    <tr>\n",
       "      <th>6</th>\n",
       "      <td>num</td>\n",
       "      <td>list</td>\n",
       "      <td>object</td>\n",
       "      <td>object</td>\n",
       "      <td></td>\n",
       "      <td>False</td>\n",
       "      <td>True</td>\n",
       "      <td>False</td>\n",
       "      <td>True</td>\n",
       "      <td>496.0 B</td>\n",
       "      <td>1</td>\n",
       "      <td>222</td>\n",
       "      <td>1085326</td>\n",
       "      <td>3890543</td>\n",
       "      <td>4976091</td>\n",
       "      <td>[]</td>\n",
       "      <td>NaN</td>\n",
       "      <td>NaN</td>\n",
       "      <td>[1225]</td>\n",
       "      <td>NaN</td>\n",
       "    </tr>\n",
       "    <tr>\n",
       "      <th>7</th>\n",
       "      <td>meta</td>\n",
       "      <td>str</td>\n",
       "      <td>pd.string</td>\n",
       "      <td>string</td>\n",
       "      <td></td>\n",
       "      <td>False</td>\n",
       "      <td>True</td>\n",
       "      <td>True</td>\n",
       "      <td>True</td>\n",
       "      <td>519.0 B</td>\n",
       "      <td>1</td>\n",
       "      <td>17712</td>\n",
       "      <td>1085326</td>\n",
       "      <td>3873053</td>\n",
       "      <td>4976091</td>\n",
       "      <td></td>\n",
       "      <td>NaN</td>\n",
       "      <td>NaN</td>\n",
       "      <td>παθοs</td>\n",
       "      <td>NaN</td>\n",
       "    </tr>\n",
       "  </tbody>\n",
       "</table>\n",
       "</div>"
      ],
      "text/plain": [
       "       col_name datatype_instance   datatype datatype_short datatype_suggest  \\\n",
       "0     __index__             int64   np.int64          int64         np.int32   \n",
       "1   section_id2               str  pd.string         string                    \n",
       "2       merkmal               str  pd.string         string                    \n",
       "3    node_debug               str  pd.string         string                    \n",
       "4  node_kontext               str  pd.string         string                    \n",
       "5          data               str  pd.string         string                    \n",
       "6           num              list     object         object                    \n",
       "7          meta               str  pd.string         string                    \n",
       "\n",
       "   is_numeric  is_string  is_hashable  nan_allowed mem_usage  ntypes  nunique  \\\n",
       "0        True      False         True        False    80.0 B       1  4976091   \n",
       "1       False       True         True         True   780.0 B       1   806049   \n",
       "2       False       True         True         True   720.0 B       1       37   \n",
       "3       False       True         True         True   727.0 B       1       30   \n",
       "4       False       True         True         True   603.0 B       1      229   \n",
       "5       False       True         True         True   783.0 B       1   706156   \n",
       "6       False       True        False         True   496.0 B       1      222   \n",
       "7       False       True         True         True   519.0 B       1    17712   \n",
       "\n",
       "      nnan    ndups        n    vmin      vmean    vmedian           vmax  \\\n",
       "0        0        0  4976091     0.0  2488045.0  2488045.0      4976090.0   \n",
       "1        0  4170042  4976091     &c.        NaN        NaN             μm   \n",
       "2        0  4976054  4976091  Präfix        NaN        NaN      übersicht   \n",
       "3    10901  4965160  4976091                NaN        NaN  Wortart fehlt   \n",
       "4    10901  4964961  4976091                NaN        NaN              Ü   \n",
       "5        0  4269935  4976091                NaN        NaN            𒄿𒌑𒃷   \n",
       "6  1085326  3890543  4976091      []        NaN        NaN         [1225]   \n",
       "7  1085326  3873053  4976091                NaN        NaN          παθοs   \n",
       "\n",
       "           vsum  \n",
       "0  1.238074e+13  \n",
       "1           NaN  \n",
       "2           NaN  \n",
       "3           NaN  \n",
       "4           NaN  \n",
       "5           NaN  \n",
       "6           NaN  \n",
       "7           NaN  "
      ]
     },
     "execution_count": 15,
     "metadata": {},
     "output_type": "execute_result"
    },
    {
     "name": "stdout",
     "output_type": "stream",
     "text": [
      "time: 19.9 s\n"
     ]
    }
   ],
   "source": [
    "pak.analyse_cols(wiktionary_merkmal)"
   ]
  },
  {
   "cell_type": "code",
   "execution_count": 16,
   "metadata": {},
   "outputs": [
    {
     "data": {
      "text/html": [
       "<div>\n",
       "<style scoped>\n",
       "    .dataframe tbody tr th:only-of-type {\n",
       "        vertical-align: middle;\n",
       "    }\n",
       "\n",
       "    .dataframe tbody tr th {\n",
       "        vertical-align: top;\n",
       "    }\n",
       "\n",
       "    .dataframe thead th {\n",
       "        text-align: right;\n",
       "    }\n",
       "</style>\n",
       "<table border=\"1\" class=\"dataframe\">\n",
       "  <thead>\n",
       "    <tr style=\"text-align: right;\">\n",
       "      <th></th>\n",
       "      <th>merkmal</th>\n",
       "      <th>merkmal_count</th>\n",
       "      <th>merkmal_percent</th>\n",
       "      <th>data</th>\n",
       "      <th>data_count</th>\n",
       "    </tr>\n",
       "  </thead>\n",
       "  <tbody>\n",
       "    <tr>\n",
       "      <th>0</th>\n",
       "      <td>gm</td>\n",
       "      <td>2476867</td>\n",
       "      <td>49.8</td>\n",
       "      <td>[überlegen, auserlesen, erdnah, praxisnah, dur...</td>\n",
       "      <td>[243, 213, 197, 197, 190, 185, 174, 166, 164, ...</td>\n",
       "    </tr>\n",
       "    <tr>\n",
       "      <th>1</th>\n",
       "      <td>übersicht</td>\n",
       "      <td>1074230</td>\n",
       "      <td>21.6</td>\n",
       "      <td>[—, f, m, n, haben, -, –, sein, 1, 0, ja, , si...</td>\n",
       "      <td>[56525, 39075, 34288, 19424, 12389, 8399, 5261...</td>\n",
       "    </tr>\n",
       "    <tr>\n",
       "      <th>2</th>\n",
       "      <td>def</td>\n",
       "      <td>271480</td>\n",
       "      <td>5.5</td>\n",
       "      <td>[Deutschland, Stadt, Person, Vorname, Familien...</td>\n",
       "      <td>[2165, 2106, 1498, 1272, 904, 640, 474, 427, 3...</td>\n",
       "    </tr>\n",
       "    <tr>\n",
       "      <th>3</th>\n",
       "      <td>familie</td>\n",
       "      <td>177932</td>\n",
       "      <td>3.6</td>\n",
       "      <td>[Verzeichnis:Deutsch/Zahlenbegriffe, Adjektiv,...</td>\n",
       "      <td>[10, 8, 6, 5, 5, 5, 5, 5, 4, 4, 4, 4, 4, 4, 4,...</td>\n",
       "    </tr>\n",
       "    <tr>\n",
       "      <th>4</th>\n",
       "      <td>down</td>\n",
       "      <td>167582</td>\n",
       "      <td>3.4</td>\n",
       "      <td>[Sekunde, sein, Widder, Krebs, Löwe, Mutter, F...</td>\n",
       "      <td>[14, 14, 12, 11, 11, 11, 11, 11, 10, 10, 10, 1...</td>\n",
       "    </tr>\n",
       "    <tr>\n",
       "      <th>5</th>\n",
       "      <td>kombi</td>\n",
       "      <td>144226</td>\n",
       "      <td>2.9</td>\n",
       "      <td>[fahren, kommen, nach, leben, arbeiten, stamme...</td>\n",
       "      <td>[3649, 2073, 2004, 1966, 1905, 1904, 1885, 187...</td>\n",
       "    </tr>\n",
       "    <tr>\n",
       "      <th>6</th>\n",
       "      <td>alt_1</td>\n",
       "      <td>141725</td>\n",
       "      <td>2.8</td>\n",
       "      <td>[wandle, scharwenzle, scharwenzele, eiere, wan...</td>\n",
       "      <td>[12, 12, 12, 12, 12, 10, 10, 10, 10, 10, 10, 1...</td>\n",
       "    </tr>\n",
       "    <tr>\n",
       "      <th>7</th>\n",
       "      <td>syn</td>\n",
       "      <td>139047</td>\n",
       "      <td>2.8</td>\n",
       "      <td>[machen, sehr, Unsinn, entfernen, Dummkopf, Ve...</td>\n",
       "      <td>[49, 43, 31, 28, 28, 27, 27, 26, 26, 26, 26, 2...</td>\n",
       "    </tr>\n",
       "    <tr>\n",
       "      <th>8</th>\n",
       "      <td>up</td>\n",
       "      <td>108079</td>\n",
       "      <td>2.2</td>\n",
       "      <td>[Stadt, Person, Frau, Pflanze, Tier, Sprache, ...</td>\n",
       "      <td>[2393, 757, 679, 572, 532, 483, 388, 355, 326,...</td>\n",
       "    </tr>\n",
       "    <tr>\n",
       "      <th>9</th>\n",
       "      <td>lateral</td>\n",
       "      <td>106094</td>\n",
       "      <td>2.1</td>\n",
       "      <td>[sein, lassen, machen, entfernen, nicht, versc...</td>\n",
       "      <td>[81, 81, 78, 69, 56, 49, 47, 46, 44, 41, 40, 3...</td>\n",
       "    </tr>\n",
       "    <tr>\n",
       "      <th>10</th>\n",
       "      <td>gegen</td>\n",
       "      <td>67961</td>\n",
       "      <td>1.4</td>\n",
       "      <td>[belassen, trennen, ablehnen, bleiben, loben, ...</td>\n",
       "      <td>[57, 55, 54, 50, 48, 47, 44, 44, 43, 42, 42, 4...</td>\n",
       "    </tr>\n",
       "    <tr>\n",
       "      <th>11</th>\n",
       "      <td>alt_2</td>\n",
       "      <td>28399</td>\n",
       "      <td>0.6</td>\n",
       "      <td>[Anna, ind, Bhf, Strauss, Fidekommis, Fideicom...</td>\n",
       "      <td>[12, 6, 5, 4, 4, 4, 4, 4, 4, 4, 4, 4, 4, 4, 4,...</td>\n",
       "    </tr>\n",
       "    <tr>\n",
       "      <th>12</th>\n",
       "      <td>herkunft</td>\n",
       "      <td>23943</td>\n",
       "      <td>0.5</td>\n",
       "      <td>[con, unus, facere, sub, com, bis, trans, nihi...</td>\n",
       "      <td>[49, 33, 32, 22, 19, 19, 17, 15, 14, 13, 13, 1...</td>\n",
       "    </tr>\n",
       "    <tr>\n",
       "      <th>13</th>\n",
       "      <td>alt</td>\n",
       "      <td>9200</td>\n",
       "      <td>0.2</td>\n",
       "      <td>[dreiviertel, vermißt, beeinflußt, verblaßt, 1...</td>\n",
       "      <td>[4, 3, 3, 3, 3, 3, 2, 2, 2, 2, 2, 2, 2, 2, 2, ...</td>\n",
       "    </tr>\n",
       "    <tr>\n",
       "      <th>14</th>\n",
       "      <td>noSteig</td>\n",
       "      <td>7605</td>\n",
       "      <td>0.2</td>\n",
       "      <td>exists</td>\n",
       "      <td>7605</td>\n",
       "    </tr>\n",
       "    <tr>\n",
       "      <th>15</th>\n",
       "      <td>weib</td>\n",
       "      <td>6433</td>\n",
       "      <td>0.1</td>\n",
       "      <td>[weiblich, Keeperin, Torfrau, Taxlerin, Weibch...</td>\n",
       "      <td>[4, 4, 4, 4, 3, 3, 3, 3, 3, 3, 3, 3, 3, 2, 2, ...</td>\n",
       "    </tr>\n",
       "    <tr>\n",
       "      <th>16</th>\n",
       "      <td>alt_3</td>\n",
       "      <td>5831</td>\n",
       "      <td>0.1</td>\n",
       "      <td>[Maria, Peterson, Maier, Mair, Mayer, Mayr, Me...</td>\n",
       "      <td>[7, 6, 6, 6, 6, 6, 6, 6, 6, 6, 5, 5, 5, 5, 5, ...</td>\n",
       "    </tr>\n",
       "    <tr>\n",
       "      <th>17</th>\n",
       "      <td>männ</td>\n",
       "      <td>5145</td>\n",
       "      <td>0.1</td>\n",
       "      <td>[männlich, Elefantenbulle, Elf, welcher, welch...</td>\n",
       "      <td>[5, 3, 3, 3, 3, 3, 3, 3, 2, 2, 2, 2, 2, 2, 2, ...</td>\n",
       "    </tr>\n",
       "    <tr>\n",
       "      <th>18</th>\n",
       "      <td>abk</td>\n",
       "      <td>4974</td>\n",
       "      <td>0.1</td>\n",
       "      <td>[Kfz-Kennzeichen, ICD-10, Str, Summenformel, c...</td>\n",
       "      <td>[20, 19, 16, 14, 11, 11, 11, 9, 9, 8, 8, 7, 7,...</td>\n",
       "    </tr>\n",
       "    <tr>\n",
       "      <th>19</th>\n",
       "      <td>istName</td>\n",
       "      <td>1783</td>\n",
       "      <td>0.0</td>\n",
       "      <td>exists</td>\n",
       "      <td>1783</td>\n",
       "    </tr>\n",
       "    <tr>\n",
       "      <th>20</th>\n",
       "      <td>klein</td>\n",
       "      <td>1190</td>\n",
       "      <td>0.0</td>\n",
       "      <td>[Mäuschen, Fischchen, Zuckerchen, Küchlein, Ka...</td>\n",
       "      <td>[2, 2, 2, 2, 2, 2, 2, 2, 2, 2, 2, 2, 2, 2, 2, ...</td>\n",
       "    </tr>\n",
       "    <tr>\n",
       "      <th>21</th>\n",
       "      <td>familie_1</td>\n",
       "      <td>983</td>\n",
       "      <td>0.0</td>\n",
       "      <td>[Altruismus, Altruist, altruistisch, Haussier,...</td>\n",
       "      <td>[2, 2, 2, 2, 2, 2, 2, 2, 2, 2, 2, 2, 2, 2, 2, ...</td>\n",
       "    </tr>\n",
       "    <tr>\n",
       "      <th>22</th>\n",
       "      <td>alt_abk</td>\n",
       "      <td>777</td>\n",
       "      <td>0.0</td>\n",
       "      <td>[Ado, Teddy, Tina, Abo, Isa, Albrand, Almar, A...</td>\n",
       "      <td>[4, 4, 4, 3, 3, 3, 3, 3, 3, 3, 3, 3, 2, 2, 2, ...</td>\n",
       "    </tr>\n",
       "    <tr>\n",
       "      <th>23</th>\n",
       "      <td>alt_klein</td>\n",
       "      <td>666</td>\n",
       "      <td>0.0</td>\n",
       "      <td>[Aldo, Aldi, Alto, Alti, Adi, Zenzi, Aggi, Ren...</td>\n",
       "      <td>[5, 5, 5, 5, 3, 3, 3, 3, 3, 2, 2, 2, 2, 2, 2, ...</td>\n",
       "    </tr>\n",
       "    <tr>\n",
       "      <th>24</th>\n",
       "      <td>noSing</td>\n",
       "      <td>631</td>\n",
       "      <td>0.0</td>\n",
       "      <td>exists</td>\n",
       "      <td>631</td>\n",
       "    </tr>\n",
       "    <tr>\n",
       "      <th>25</th>\n",
       "      <td>down_part_1</td>\n",
       "      <td>625</td>\n",
       "      <td>0.0</td>\n",
       "      <td>[Knacklaut, Baden, Alservorstadt, Neunkirchen,...</td>\n",
       "      <td>[3, 2, 2, 2, 2, 2, 2, 2, 2, 2, 2, 2, 2, 1, 1, ...</td>\n",
       "    </tr>\n",
       "    <tr>\n",
       "      <th>26</th>\n",
       "      <td>up_part</td>\n",
       "      <td>423</td>\n",
       "      <td>0.0</td>\n",
       "      <td>[Niederösterreich, Burgenland, Wien, Mödling, ...</td>\n",
       "      <td>[48, 32, 21, 18, 10, 8, 8, 7, 6, 5, 5, 4, 4, 4...</td>\n",
       "    </tr>\n",
       "    <tr>\n",
       "      <th>27</th>\n",
       "      <td>down_part</td>\n",
       "      <td>419</td>\n",
       "      <td>0.0</td>\n",
       "      <td>[Ostersonntag, Ostermontag, Loge, Parkett, Ada...</td>\n",
       "      <td>[2, 2, 2, 2, 2, 2, 2, 2, 2, 2, 2, 2, 2, 2, 2, ...</td>\n",
       "    </tr>\n",
       "    <tr>\n",
       "      <th>28</th>\n",
       "      <td>alt_männ</td>\n",
       "      <td>388</td>\n",
       "      <td>0.0</td>\n",
       "      <td>[Nikola, Justine, Nicole, Patrizia, Hanna, Imm...</td>\n",
       "      <td>[3, 2, 2, 2, 2, 2, 2, 2, 2, 2, 2, 2, 2, 2, 2, ...</td>\n",
       "    </tr>\n",
       "    <tr>\n",
       "      <th>29</th>\n",
       "      <td>alt_weib</td>\n",
       "      <td>376</td>\n",
       "      <td>0.0</td>\n",
       "      <td>[Sebastian, Egbert, Natalis, David, Auszubilde...</td>\n",
       "      <td>[4, 4, 3, 3, 3, 3, 3, 3, 3, 3, 2, 2, 2, 2, 2, ...</td>\n",
       "    </tr>\n",
       "    <tr>\n",
       "      <th>30</th>\n",
       "      <td>Wikivoyage</td>\n",
       "      <td>232</td>\n",
       "      <td>0.0</td>\n",
       "      <td>exists</td>\n",
       "      <td>232</td>\n",
       "    </tr>\n",
       "    <tr>\n",
       "      <th>31</th>\n",
       "      <td>Wikispecies</td>\n",
       "      <td>197</td>\n",
       "      <td>0.0</td>\n",
       "      <td>exists</td>\n",
       "      <td>197</td>\n",
       "    </tr>\n",
       "    <tr>\n",
       "      <th>32</th>\n",
       "      <td>nurWortart</td>\n",
       "      <td>195</td>\n",
       "      <td>0.0</td>\n",
       "      <td>[Deutsch, Substantiv, Verb, Adjektiv, Konjugie...</td>\n",
       "      <td>[52, 24, 22, 8, 7, 5, 3, 3, 2, 1, 1, 1, 1, 1, ...</td>\n",
       "    </tr>\n",
       "    <tr>\n",
       "      <th>33</th>\n",
       "      <td>Taxonomie</td>\n",
       "      <td>169</td>\n",
       "      <td>0.0</td>\n",
       "      <td>exists</td>\n",
       "      <td>169</td>\n",
       "    </tr>\n",
       "    <tr>\n",
       "      <th>34</th>\n",
       "      <td>Präfix</td>\n",
       "      <td>108</td>\n",
       "      <td>0.0</td>\n",
       "      <td>exists</td>\n",
       "      <td>108</td>\n",
       "    </tr>\n",
       "    <tr>\n",
       "      <th>35</th>\n",
       "      <td>Suffix</td>\n",
       "      <td>103</td>\n",
       "      <td>0.0</td>\n",
       "      <td>exists</td>\n",
       "      <td>103</td>\n",
       "    </tr>\n",
       "    <tr>\n",
       "      <th>36</th>\n",
       "      <td>VMaßeinheiten</td>\n",
       "      <td>73</td>\n",
       "      <td>0.0</td>\n",
       "      <td>exists</td>\n",
       "      <td>73</td>\n",
       "    </tr>\n",
       "  </tbody>\n",
       "</table>\n",
       "</div>"
      ],
      "text/plain": [
       "          merkmal  merkmal_count  merkmal_percent  \\\n",
       "0              gm        2476867             49.8   \n",
       "1       übersicht        1074230             21.6   \n",
       "2             def         271480              5.5   \n",
       "3         familie         177932              3.6   \n",
       "4            down         167582              3.4   \n",
       "5           kombi         144226              2.9   \n",
       "6           alt_1         141725              2.8   \n",
       "7             syn         139047              2.8   \n",
       "8              up         108079              2.2   \n",
       "9         lateral         106094              2.1   \n",
       "10          gegen          67961              1.4   \n",
       "11          alt_2          28399              0.6   \n",
       "12       herkunft          23943              0.5   \n",
       "13            alt           9200              0.2   \n",
       "14        noSteig           7605              0.2   \n",
       "15           weib           6433              0.1   \n",
       "16          alt_3           5831              0.1   \n",
       "17           männ           5145              0.1   \n",
       "18            abk           4974              0.1   \n",
       "19        istName           1783              0.0   \n",
       "20          klein           1190              0.0   \n",
       "21      familie_1            983              0.0   \n",
       "22        alt_abk            777              0.0   \n",
       "23      alt_klein            666              0.0   \n",
       "24         noSing            631              0.0   \n",
       "25    down_part_1            625              0.0   \n",
       "26        up_part            423              0.0   \n",
       "27      down_part            419              0.0   \n",
       "28       alt_männ            388              0.0   \n",
       "29       alt_weib            376              0.0   \n",
       "30     Wikivoyage            232              0.0   \n",
       "31    Wikispecies            197              0.0   \n",
       "32     nurWortart            195              0.0   \n",
       "33      Taxonomie            169              0.0   \n",
       "34         Präfix            108              0.0   \n",
       "35         Suffix            103              0.0   \n",
       "36  VMaßeinheiten             73              0.0   \n",
       "\n",
       "                                                 data  \\\n",
       "0   [überlegen, auserlesen, erdnah, praxisnah, dur...   \n",
       "1   [—, f, m, n, haben, -, –, sein, 1, 0, ja, , si...   \n",
       "2   [Deutschland, Stadt, Person, Vorname, Familien...   \n",
       "3   [Verzeichnis:Deutsch/Zahlenbegriffe, Adjektiv,...   \n",
       "4   [Sekunde, sein, Widder, Krebs, Löwe, Mutter, F...   \n",
       "5   [fahren, kommen, nach, leben, arbeiten, stamme...   \n",
       "6   [wandle, scharwenzle, scharwenzele, eiere, wan...   \n",
       "7   [machen, sehr, Unsinn, entfernen, Dummkopf, Ve...   \n",
       "8   [Stadt, Person, Frau, Pflanze, Tier, Sprache, ...   \n",
       "9   [sein, lassen, machen, entfernen, nicht, versc...   \n",
       "10  [belassen, trennen, ablehnen, bleiben, loben, ...   \n",
       "11  [Anna, ind, Bhf, Strauss, Fidekommis, Fideicom...   \n",
       "12  [con, unus, facere, sub, com, bis, trans, nihi...   \n",
       "13  [dreiviertel, vermißt, beeinflußt, verblaßt, 1...   \n",
       "14                                             exists   \n",
       "15  [weiblich, Keeperin, Torfrau, Taxlerin, Weibch...   \n",
       "16  [Maria, Peterson, Maier, Mair, Mayer, Mayr, Me...   \n",
       "17  [männlich, Elefantenbulle, Elf, welcher, welch...   \n",
       "18  [Kfz-Kennzeichen, ICD-10, Str, Summenformel, c...   \n",
       "19                                             exists   \n",
       "20  [Mäuschen, Fischchen, Zuckerchen, Küchlein, Ka...   \n",
       "21  [Altruismus, Altruist, altruistisch, Haussier,...   \n",
       "22  [Ado, Teddy, Tina, Abo, Isa, Albrand, Almar, A...   \n",
       "23  [Aldo, Aldi, Alto, Alti, Adi, Zenzi, Aggi, Ren...   \n",
       "24                                             exists   \n",
       "25  [Knacklaut, Baden, Alservorstadt, Neunkirchen,...   \n",
       "26  [Niederösterreich, Burgenland, Wien, Mödling, ...   \n",
       "27  [Ostersonntag, Ostermontag, Loge, Parkett, Ada...   \n",
       "28  [Nikola, Justine, Nicole, Patrizia, Hanna, Imm...   \n",
       "29  [Sebastian, Egbert, Natalis, David, Auszubilde...   \n",
       "30                                             exists   \n",
       "31                                             exists   \n",
       "32  [Deutsch, Substantiv, Verb, Adjektiv, Konjugie...   \n",
       "33                                             exists   \n",
       "34                                             exists   \n",
       "35                                             exists   \n",
       "36                                             exists   \n",
       "\n",
       "                                           data_count  \n",
       "0   [243, 213, 197, 197, 190, 185, 174, 166, 164, ...  \n",
       "1   [56525, 39075, 34288, 19424, 12389, 8399, 5261...  \n",
       "2   [2165, 2106, 1498, 1272, 904, 640, 474, 427, 3...  \n",
       "3   [10, 8, 6, 5, 5, 5, 5, 5, 4, 4, 4, 4, 4, 4, 4,...  \n",
       "4   [14, 14, 12, 11, 11, 11, 11, 11, 10, 10, 10, 1...  \n",
       "5   [3649, 2073, 2004, 1966, 1905, 1904, 1885, 187...  \n",
       "6   [12, 12, 12, 12, 12, 10, 10, 10, 10, 10, 10, 1...  \n",
       "7   [49, 43, 31, 28, 28, 27, 27, 26, 26, 26, 26, 2...  \n",
       "8   [2393, 757, 679, 572, 532, 483, 388, 355, 326,...  \n",
       "9   [81, 81, 78, 69, 56, 49, 47, 46, 44, 41, 40, 3...  \n",
       "10  [57, 55, 54, 50, 48, 47, 44, 44, 43, 42, 42, 4...  \n",
       "11  [12, 6, 5, 4, 4, 4, 4, 4, 4, 4, 4, 4, 4, 4, 4,...  \n",
       "12  [49, 33, 32, 22, 19, 19, 17, 15, 14, 13, 13, 1...  \n",
       "13  [4, 3, 3, 3, 3, 3, 2, 2, 2, 2, 2, 2, 2, 2, 2, ...  \n",
       "14                                               7605  \n",
       "15  [4, 4, 4, 4, 3, 3, 3, 3, 3, 3, 3, 3, 3, 2, 2, ...  \n",
       "16  [7, 6, 6, 6, 6, 6, 6, 6, 6, 6, 5, 5, 5, 5, 5, ...  \n",
       "17  [5, 3, 3, 3, 3, 3, 3, 3, 2, 2, 2, 2, 2, 2, 2, ...  \n",
       "18  [20, 19, 16, 14, 11, 11, 11, 9, 9, 8, 8, 7, 7,...  \n",
       "19                                               1783  \n",
       "20  [2, 2, 2, 2, 2, 2, 2, 2, 2, 2, 2, 2, 2, 2, 2, ...  \n",
       "21  [2, 2, 2, 2, 2, 2, 2, 2, 2, 2, 2, 2, 2, 2, 2, ...  \n",
       "22  [4, 4, 4, 3, 3, 3, 3, 3, 3, 3, 3, 3, 2, 2, 2, ...  \n",
       "23  [5, 5, 5, 5, 3, 3, 3, 3, 3, 2, 2, 2, 2, 2, 2, ...  \n",
       "24                                                631  \n",
       "25  [3, 2, 2, 2, 2, 2, 2, 2, 2, 2, 2, 2, 2, 1, 1, ...  \n",
       "26  [48, 32, 21, 18, 10, 8, 8, 7, 6, 5, 5, 4, 4, 4...  \n",
       "27  [2, 2, 2, 2, 2, 2, 2, 2, 2, 2, 2, 2, 2, 2, 2, ...  \n",
       "28  [3, 2, 2, 2, 2, 2, 2, 2, 2, 2, 2, 2, 2, 2, 2, ...  \n",
       "29  [4, 4, 3, 3, 3, 3, 3, 3, 3, 3, 2, 2, 2, 2, 2, ...  \n",
       "30                                                232  \n",
       "31                                                197  \n",
       "32  [52, 24, 22, 8, 7, 5, 3, 3, 2, 1, 1, 1, 1, 1, ...  \n",
       "33                                                169  \n",
       "34                                                108  \n",
       "35                                                103  \n",
       "36                                                 73  "
      ]
     },
     "execution_count": 16,
     "metadata": {},
     "output_type": "execute_result"
    },
    {
     "name": "stdout",
     "output_type": "stream",
     "text": [
      "time: 10.4 s\n"
     ]
    }
   ],
   "source": [
    "pak.analyse_freqs(wiktionary_merkmal,['merkmal','data'])"
   ]
  },
  {
   "cell_type": "code",
   "execution_count": 17,
   "metadata": {},
   "outputs": [
    {
     "name": "stdout",
     "output_type": "stream",
     "text": [
      "time: 223 ms\n"
     ]
    }
   ],
   "source": [
    "# ursprüngliche_merkmale merken\n",
    "ursprüngliche_merkmale = wiktionary_merkmal.merkmal.unique()"
   ]
  },
  {
   "cell_type": "markdown",
   "metadata": {},
   "source": [
    "## Vorverarbeitung\n",
    "* Feld num in String wandeln, um dups entfernen zu können\n",
    "* Dups entfernen\n",
    "* wiktionary: flexion in defaultdict wandeln"
   ]
  },
  {
   "cell_type": "code",
   "execution_count": 18,
   "metadata": {},
   "outputs": [
    {
     "name": "stdout",
     "output_type": "stream",
     "text": [
      "time: 1.22 s\n"
     ]
    }
   ],
   "source": [
    "# num ist leere Liste \n",
    "mask = (wiktionary_merkmal.num.str.len() == 0)  \n",
    "#wiktionary_merkmal[mask]\n",
    "wiktionary_merkmal.loc[mask,'num'] = ''"
   ]
  },
  {
   "cell_type": "code",
   "execution_count": 19,
   "metadata": {},
   "outputs": [
    {
     "name": "stdout",
     "output_type": "stream",
     "text": [
      "time: 284 ms\n"
     ]
    }
   ],
   "source": [
    "# fillna\n",
    "wiktionary_merkmal['num'] = wiktionary_merkmal.num.fillna('')"
   ]
  },
  {
   "cell_type": "code",
   "execution_count": 20,
   "metadata": {},
   "outputs": [
    {
     "name": "stdout",
     "output_type": "stream",
     "text": [
      "time: 2.05 s\n"
     ]
    }
   ],
   "source": [
    "# num ist Liste mit einem Eintrag >> diesen verwenden\n",
    "mask = (wiktionary_merkmal.num.str.len() == 1)\n",
    "wiktionary_merkmal.loc[mask,'num'] = wiktionary_merkmal[mask].num.str[0]\n",
    "#wiktionary_merkmal[mask]"
   ]
  },
  {
   "cell_type": "code",
   "execution_count": 21,
   "metadata": {},
   "outputs": [
    {
     "name": "stdout",
     "output_type": "stream",
     "text": [
      "time: 86.1 ms\n"
     ]
    },
    {
     "data": {
      "text/plain": [
       "\u001b[0;31mSignature:\u001b[0m \u001b[0mpak\u001b[0m\u001b[0;34m.\u001b[0m\u001b[0mlist_to_string\u001b[0m\u001b[0;34m(\u001b[0m\u001b[0mseries\u001b[0m\u001b[0;34m,\u001b[0m \u001b[0msep\u001b[0m\u001b[0;34m=\u001b[0m\u001b[0;34m','\u001b[0m\u001b[0;34m)\u001b[0m\u001b[0;34m\u001b[0m\u001b[0;34m\u001b[0m\u001b[0m\n",
       "\u001b[0;31mDocstring:\u001b[0m\n",
       "Converts a Series of lists of strings into a Series of strings.\n",
       "* sep: The separator, default is ','\n",
       "Example:\n",
       "df = pak.people()\n",
       "df['history2'] = pak.list_to_string(df.history)    \n",
       "\u001b[0;31mFile:\u001b[0m      ~/mambaforge/envs/python_06/lib/python3.9/site-packages/pandasklar/pandas.py\n",
       "\u001b[0;31mType:\u001b[0m      function\n"
      ]
     },
     "metadata": {},
     "output_type": "display_data"
    }
   ],
   "source": [
    "?pak.list_to_string"
   ]
  },
  {
   "cell_type": "code",
   "execution_count": 22,
   "metadata": {},
   "outputs": [
    {
     "name": "stdout",
     "output_type": "stream",
     "text": [
      "time: 1.86 s\n"
     ]
    }
   ],
   "source": [
    "# Liste in String wandeln, damit wir Dups entfernen können\n",
    "# wiktionary_merkmal: list_to_string\n",
    "wiktionary_merkmal['num'] = pak.list_to_string(wiktionary_merkmal.num)"
   ]
  },
  {
   "cell_type": "code",
   "execution_count": 23,
   "metadata": {},
   "outputs": [
    {
     "name": "stdout",
     "output_type": "stream",
     "text": [
      "Delete 1838716 rows from 4976091\n",
      "time: 6.07 s\n"
     ]
    }
   ],
   "source": [
    "# Dups entfernen. \n",
    "# Die Duplikate entstehen z.B. dadurch, dass für manche Merkmale nur der Linktext verwendet wird. \n",
    "# Beispiel Wolf_1, Merkmal kombi: die Wolf _mündet_, in die Wolf _mündet_ führt zu einem Duplikat.\n",
    "mask = wiktionary_merkmal.duplicated()\n",
    "wiktionary_merkmal = pak.drop_rows(wiktionary_merkmal, mask)"
   ]
  },
  {
   "cell_type": "code",
   "execution_count": 24,
   "metadata": {},
   "outputs": [
    {
     "data": {
      "text/html": [
       "<div>\n",
       "<style scoped>\n",
       "    .dataframe tbody tr th:only-of-type {\n",
       "        vertical-align: middle;\n",
       "    }\n",
       "\n",
       "    .dataframe tbody tr th {\n",
       "        vertical-align: top;\n",
       "    }\n",
       "\n",
       "    .dataframe thead th {\n",
       "        text-align: right;\n",
       "    }\n",
       "</style>\n",
       "<table border=\"1\" class=\"dataframe\">\n",
       "  <thead>\n",
       "    <tr style=\"text-align: right;\">\n",
       "      <th></th>\n",
       "      <th>col_name</th>\n",
       "      <th>datatype_instance</th>\n",
       "      <th>datatype</th>\n",
       "      <th>datatype_short</th>\n",
       "      <th>datatype_suggest</th>\n",
       "      <th>is_numeric</th>\n",
       "      <th>is_string</th>\n",
       "      <th>is_hashable</th>\n",
       "      <th>nan_allowed</th>\n",
       "      <th>mem_usage</th>\n",
       "      <th>ntypes</th>\n",
       "      <th>nunique</th>\n",
       "      <th>nnan</th>\n",
       "      <th>ndups</th>\n",
       "      <th>n</th>\n",
       "      <th>vmin</th>\n",
       "      <th>vmean</th>\n",
       "      <th>vmedian</th>\n",
       "      <th>vmax</th>\n",
       "      <th>vsum</th>\n",
       "    </tr>\n",
       "  </thead>\n",
       "  <tbody>\n",
       "    <tr>\n",
       "      <th>0</th>\n",
       "      <td>__index__</td>\n",
       "      <td>int64</td>\n",
       "      <td>np.int64</td>\n",
       "      <td>int64</td>\n",
       "      <td>np.int32</td>\n",
       "      <td>True</td>\n",
       "      <td>False</td>\n",
       "      <td>True</td>\n",
       "      <td>False</td>\n",
       "      <td>80.0 B</td>\n",
       "      <td>1</td>\n",
       "      <td>3137375</td>\n",
       "      <td>0</td>\n",
       "      <td>0</td>\n",
       "      <td>3137375</td>\n",
       "      <td>0.0</td>\n",
       "      <td>2120896.25</td>\n",
       "      <td>2052980.0</td>\n",
       "      <td>4976090.0</td>\n",
       "      <td>6.654047e+12</td>\n",
       "    </tr>\n",
       "    <tr>\n",
       "      <th>1</th>\n",
       "      <td>section_id2</td>\n",
       "      <td>str</td>\n",
       "      <td>pd.string</td>\n",
       "      <td>string</td>\n",
       "      <td></td>\n",
       "      <td>False</td>\n",
       "      <td>True</td>\n",
       "      <td>True</td>\n",
       "      <td>True</td>\n",
       "      <td>703.0 B</td>\n",
       "      <td>1</td>\n",
       "      <td>806049</td>\n",
       "      <td>0</td>\n",
       "      <td>2331326</td>\n",
       "      <td>3137375</td>\n",
       "      <td>&amp;c.</td>\n",
       "      <td>NaN</td>\n",
       "      <td>NaN</td>\n",
       "      <td>μm</td>\n",
       "      <td>NaN</td>\n",
       "    </tr>\n",
       "    <tr>\n",
       "      <th>2</th>\n",
       "      <td>merkmal</td>\n",
       "      <td>str</td>\n",
       "      <td>pd.string</td>\n",
       "      <td>string</td>\n",
       "      <td></td>\n",
       "      <td>False</td>\n",
       "      <td>True</td>\n",
       "      <td>True</td>\n",
       "      <td>True</td>\n",
       "      <td>923.0 B</td>\n",
       "      <td>1</td>\n",
       "      <td>37</td>\n",
       "      <td>0</td>\n",
       "      <td>3137338</td>\n",
       "      <td>3137375</td>\n",
       "      <td>Präfix</td>\n",
       "      <td>NaN</td>\n",
       "      <td>NaN</td>\n",
       "      <td>übersicht</td>\n",
       "      <td>NaN</td>\n",
       "    </tr>\n",
       "    <tr>\n",
       "      <th>3</th>\n",
       "      <td>node_debug</td>\n",
       "      <td>str</td>\n",
       "      <td>pd.string</td>\n",
       "      <td>string</td>\n",
       "      <td></td>\n",
       "      <td>False</td>\n",
       "      <td>True</td>\n",
       "      <td>True</td>\n",
       "      <td>True</td>\n",
       "      <td>920.0 B</td>\n",
       "      <td>1</td>\n",
       "      <td>30</td>\n",
       "      <td>10901</td>\n",
       "      <td>3126444</td>\n",
       "      <td>3137375</td>\n",
       "      <td></td>\n",
       "      <td>NaN</td>\n",
       "      <td>NaN</td>\n",
       "      <td>Wortart fehlt</td>\n",
       "      <td>NaN</td>\n",
       "    </tr>\n",
       "    <tr>\n",
       "      <th>4</th>\n",
       "      <td>node_kontext</td>\n",
       "      <td>str</td>\n",
       "      <td>pd.string</td>\n",
       "      <td>string</td>\n",
       "      <td></td>\n",
       "      <td>False</td>\n",
       "      <td>True</td>\n",
       "      <td>True</td>\n",
       "      <td>True</td>\n",
       "      <td>635.0 B</td>\n",
       "      <td>1</td>\n",
       "      <td>229</td>\n",
       "      <td>10901</td>\n",
       "      <td>3126245</td>\n",
       "      <td>3137375</td>\n",
       "      <td></td>\n",
       "      <td>NaN</td>\n",
       "      <td>NaN</td>\n",
       "      <td>Ü</td>\n",
       "      <td>NaN</td>\n",
       "    </tr>\n",
       "    <tr>\n",
       "      <th>5</th>\n",
       "      <td>data</td>\n",
       "      <td>str</td>\n",
       "      <td>pd.string</td>\n",
       "      <td>string</td>\n",
       "      <td></td>\n",
       "      <td>False</td>\n",
       "      <td>True</td>\n",
       "      <td>True</td>\n",
       "      <td>True</td>\n",
       "      <td>706.0 B</td>\n",
       "      <td>1</td>\n",
       "      <td>706156</td>\n",
       "      <td>0</td>\n",
       "      <td>2431219</td>\n",
       "      <td>3137375</td>\n",
       "      <td></td>\n",
       "      <td>NaN</td>\n",
       "      <td>NaN</td>\n",
       "      <td>𒄿𒌑𒃷</td>\n",
       "      <td>NaN</td>\n",
       "    </tr>\n",
       "    <tr>\n",
       "      <th>6</th>\n",
       "      <td>num</td>\n",
       "      <td>str</td>\n",
       "      <td>pd.string</td>\n",
       "      <td>string</td>\n",
       "      <td></td>\n",
       "      <td>False</td>\n",
       "      <td>True</td>\n",
       "      <td>True</td>\n",
       "      <td>True</td>\n",
       "      <td>571.0 B</td>\n",
       "      <td>1</td>\n",
       "      <td>222</td>\n",
       "      <td>0</td>\n",
       "      <td>3137153</td>\n",
       "      <td>3137375</td>\n",
       "      <td></td>\n",
       "      <td>NaN</td>\n",
       "      <td>NaN</td>\n",
       "      <td>9,14</td>\n",
       "      <td>NaN</td>\n",
       "    </tr>\n",
       "    <tr>\n",
       "      <th>7</th>\n",
       "      <td>meta</td>\n",
       "      <td>str</td>\n",
       "      <td>pd.string</td>\n",
       "      <td>string</td>\n",
       "      <td></td>\n",
       "      <td>False</td>\n",
       "      <td>True</td>\n",
       "      <td>True</td>\n",
       "      <td>True</td>\n",
       "      <td>434.0 B</td>\n",
       "      <td>1</td>\n",
       "      <td>17712</td>\n",
       "      <td>1085326</td>\n",
       "      <td>2034337</td>\n",
       "      <td>3137375</td>\n",
       "      <td></td>\n",
       "      <td>NaN</td>\n",
       "      <td>NaN</td>\n",
       "      <td>παθοs</td>\n",
       "      <td>NaN</td>\n",
       "    </tr>\n",
       "  </tbody>\n",
       "</table>\n",
       "</div>"
      ],
      "text/plain": [
       "       col_name datatype_instance   datatype datatype_short datatype_suggest  \\\n",
       "0     __index__             int64   np.int64          int64         np.int32   \n",
       "1   section_id2               str  pd.string         string                    \n",
       "2       merkmal               str  pd.string         string                    \n",
       "3    node_debug               str  pd.string         string                    \n",
       "4  node_kontext               str  pd.string         string                    \n",
       "5          data               str  pd.string         string                    \n",
       "6           num               str  pd.string         string                    \n",
       "7          meta               str  pd.string         string                    \n",
       "\n",
       "   is_numeric  is_string  is_hashable  nan_allowed mem_usage  ntypes  nunique  \\\n",
       "0        True      False         True        False    80.0 B       1  3137375   \n",
       "1       False       True         True         True   703.0 B       1   806049   \n",
       "2       False       True         True         True   923.0 B       1       37   \n",
       "3       False       True         True         True   920.0 B       1       30   \n",
       "4       False       True         True         True   635.0 B       1      229   \n",
       "5       False       True         True         True   706.0 B       1   706156   \n",
       "6       False       True         True         True   571.0 B       1      222   \n",
       "7       False       True         True         True   434.0 B       1    17712   \n",
       "\n",
       "      nnan    ndups        n    vmin       vmean    vmedian           vmax  \\\n",
       "0        0        0  3137375     0.0  2120896.25  2052980.0      4976090.0   \n",
       "1        0  2331326  3137375     &c.         NaN        NaN             μm   \n",
       "2        0  3137338  3137375  Präfix         NaN        NaN      übersicht   \n",
       "3    10901  3126444  3137375                 NaN        NaN  Wortart fehlt   \n",
       "4    10901  3126245  3137375                 NaN        NaN              Ü   \n",
       "5        0  2431219  3137375                 NaN        NaN            𒄿𒌑𒃷   \n",
       "6        0  3137153  3137375                 NaN        NaN           9,14   \n",
       "7  1085326  2034337  3137375                 NaN        NaN          παθοs   \n",
       "\n",
       "           vsum  \n",
       "0  6.654047e+12  \n",
       "1           NaN  \n",
       "2           NaN  \n",
       "3           NaN  \n",
       "4           NaN  \n",
       "5           NaN  \n",
       "6           NaN  \n",
       "7           NaN  "
      ]
     },
     "execution_count": 24,
     "metadata": {},
     "output_type": "execute_result"
    },
    {
     "name": "stdout",
     "output_type": "stream",
     "text": [
      "time: 12.1 s\n"
     ]
    }
   ],
   "source": [
    "pak.analyse_cols(wiktionary_merkmal)"
   ]
  },
  {
   "cell_type": "code",
   "execution_count": 25,
   "metadata": {},
   "outputs": [
    {
     "name": "stdout",
     "output_type": "stream",
     "text": [
      "time: 254 ms\n"
     ]
    }
   ],
   "source": [
    "# lemma_lower\n",
    "wiktionary['lemma_lower'] = wiktionary.lemma.str.lower() "
   ]
  },
  {
   "cell_type": "code",
   "execution_count": 26,
   "metadata": {},
   "outputs": [
    {
     "name": "stdout",
     "output_type": "stream",
     "text": [
      "time: 57.7 s\n"
     ]
    }
   ],
   "source": [
    "# wiktionary: flexion in defaultdict wandeln\n",
    "# 1 min\n",
    "wiktionary = pak.cols_to_defaultdict( wiktionary, col_dict='flexion')"
   ]
  },
  {
   "cell_type": "code",
   "execution_count": 27,
   "metadata": {},
   "outputs": [
    {
     "data": {
      "image/png": "[encoded data removed]",
      "text/plain": [
       "<Figure size 1600x400 with 1 Axes>"
      ]
     },
     "metadata": {},
     "output_type": "display_data"
    },
    {
     "name": "stdout",
     "output_type": "stream",
     "text": [
      "time: 5.44 s\n"
     ]
    }
   ],
   "source": [
    "# section_len >> score\n",
    "wiktionary = pak.rename_col(wiktionary,'section_len','score')\n",
    "\n",
    "# page_part 0 aufwerten\n",
    "mask = (wiktionary.lemma == wiktionary.section_id2)\n",
    "wiktionary.loc[mask,'score'] = wiktionary[mask].score * 3\n",
    "\n",
    "wiktionary['score'] = pak.scale( wiktionary.score, 'compare_median')\n",
    "mask = wiktionary.score < 0.01\n",
    "wiktionary.loc[mask,'score'] += 0.01\n",
    "\n",
    "%matplotlib inline\n",
    "a = wiktionary.score.sort_values().reset_index(drop=True)\n",
    "pak.plot(a)"
   ]
  },
  {
   "cell_type": "code",
   "execution_count": 28,
   "metadata": {},
   "outputs": [
    {
     "name": "stdout",
     "output_type": "stream",
     "text": [
      "11 rows out of 806916\n"
     ]
    },
    {
     "data": {
      "text/html": [
       "\n",
       "        <iframe\n",
       "            width=\"100%\"\n",
       "            height=\"475\"\n",
       "            src=\"http://pop-os:40000/dtale/iframe/3\"\n",
       "            frameborder=\"0\"\n",
       "            allowfullscreen\n",
       "            \n",
       "        ></iframe>\n",
       "        "
      ],
      "text/plain": [
       "<IPython.lib.display.IFrame at 0x7f106948ba00>"
      ]
     },
     "metadata": {},
     "output_type": "display_data"
    },
    {
     "data": {
      "text/plain": []
     },
     "execution_count": 28,
     "metadata": {},
     "output_type": "execute_result"
    },
    {
     "name": "stdout",
     "output_type": "stream",
     "text": [
      "time: 5.64 s\n"
     ]
    }
   ],
   "source": [
    "grid(wiktionary, pak.sample)"
   ]
  },
  {
   "cell_type": "markdown",
   "metadata": {},
   "source": [
    "## Steuertabellen laden"
   ]
  },
  {
   "cell_type": "code",
   "execution_count": 29,
   "metadata": {},
   "outputs": [
    {
     "data": {
      "text/markdown": [
       "* definiert in Steuertabellen/s01_Steuertabellen.py\n",
       "* `merkmal`: Name des Merkmals\n",
       "* `template`: Name des Mediawiki-Templates, das diese Information enthält\n",
       "* `collect`: Extractionsmethode\n",
       "   * L extrahiert nur Links \n",
       "   * T extrahiert komplette Text-Absätze\n",
       "   * Ü extrahiert Übersetzungen\n",
       "   * P extrahiert Template-Parameter (Substring reicht)\n",
       "   * E checkt nur auf Existenz\n",
       "* `plan`:\n",
       "   * 1: die Merkmale, die in wiktionary_merkmal gespeichert werden\n",
       "   * 2: die Merkmale, die in wiktionary_merkmal_text gespeichert werden   \n",
       "   * 3: Reihenfolge und Liste aller Merkmale aus flexion / übersicht <br>\n",
       "        sowie die Merkmale aus named_entities und lexeme_manuell\n",
       "* `sort`: Irgendwas zum Sortieren der Merkmale\n",
       "* `is_lex`: Ist das Merkmal ein Lexem?    "
      ],
      "text/plain": [
       "<IPython.core.display.Markdown object>"
      ]
     },
     "metadata": {},
     "output_type": "display_data"
    },
    {
     "name": "stdout",
     "output_type": "stream",
     "text": [
      "time: 28.8 ms\n"
     ]
    }
   ],
   "source": [
    "blab.help(plan_merkmal_erstellen)"
   ]
  },
  {
   "cell_type": "code",
   "execution_count": 30,
   "metadata": {},
   "outputs": [
    {
     "name": "stdout",
     "output_type": "stream",
     "text": [
      "103 rows\n"
     ]
    },
    {
     "data": {
      "text/html": [
       "\n",
       "        <iframe\n",
       "            width=\"100%\"\n",
       "            height=\"475\"\n",
       "            src=\"http://pop-os:40000/dtale/iframe/4\"\n",
       "            frameborder=\"0\"\n",
       "            allowfullscreen\n",
       "            \n",
       "        ></iframe>\n",
       "        "
      ],
      "text/plain": [
       "<IPython.lib.display.IFrame at 0x7f103d13a3d0>"
      ]
     },
     "metadata": {},
     "output_type": "display_data"
    },
    {
     "data": {
      "text/plain": []
     },
     "execution_count": 30,
     "metadata": {},
     "output_type": "execute_result"
    },
    {
     "name": "stdout",
     "output_type": "stream",
     "text": [
      "time: 243 ms\n"
     ]
    }
   ],
   "source": [
    "# plan_merkmal Steuertabelle\n",
    "try:\n",
    "    del plan_merkmal\n",
    "except:\n",
    "    pass\n",
    "\n",
    "from Steuertabellen.s01_Steuertabellen import *\n",
    "plan_merkmal = plan_merkmal_erstellen()\n",
    "grid(plan_merkmal)"
   ]
  },
  {
   "cell_type": "code",
   "execution_count": 31,
   "metadata": {},
   "outputs": [
    {
     "name": "stdout",
     "output_type": "stream",
     "text": [
      "179 rows\n"
     ]
    },
    {
     "data": {
      "text/html": [
       "\n",
       "        <iframe\n",
       "            width=\"100%\"\n",
       "            height=\"475\"\n",
       "            src=\"http://pop-os:40000/dtale/iframe/5\"\n",
       "            frameborder=\"0\"\n",
       "            allowfullscreen\n",
       "            \n",
       "        ></iframe>\n",
       "        "
      ],
      "text/plain": [
       "<IPython.lib.display.IFrame at 0x7f103d13a3d0>"
      ]
     },
     "metadata": {},
     "output_type": "display_data"
    },
    {
     "data": {
      "text/plain": []
     },
     "execution_count": 31,
     "metadata": {},
     "output_type": "execute_result"
    },
    {
     "name": "stdout",
     "output_type": "stream",
     "text": [
      "time: 80.8 ms\n"
     ]
    }
   ],
   "source": [
    "# translate_tag: Wortarten >> tags\n",
    "\n",
    "try:\n",
    "    del translate_tag\n",
    "except:\n",
    "    pass\n",
    "\n",
    "from Steuertabellen.s01_Steuertabellen import *\n",
    "grid(translate_tag)"
   ]
  },
  {
   "cell_type": "code",
   "execution_count": 32,
   "metadata": {},
   "outputs": [
    {
     "name": "stdout",
     "output_type": "stream",
     "text": [
      "62 rows\n"
     ]
    },
    {
     "data": {
      "text/html": [
       "\n",
       "        <iframe\n",
       "            width=\"100%\"\n",
       "            height=\"475\"\n",
       "            src=\"http://pop-os:40000/dtale/iframe/6\"\n",
       "            frameborder=\"0\"\n",
       "            allowfullscreen\n",
       "            \n",
       "        ></iframe>\n",
       "        "
      ],
      "text/plain": [
       "<IPython.lib.display.IFrame at 0x7f0fe7eab490>"
      ]
     },
     "metadata": {},
     "output_type": "display_data"
    },
    {
     "data": {
      "text/plain": []
     },
     "execution_count": 32,
     "metadata": {},
     "output_type": "execute_result"
    },
    {
     "name": "stdout",
     "output_type": "stream",
     "text": [
      "time: 110 ms\n"
     ]
    }
   ],
   "source": [
    "# translate_tagZ: tag >> tagZ und tagZZ\n",
    "\n",
    "try:\n",
    "    del translate_tagZ\n",
    "except:\n",
    "    pass\n",
    "\n",
    "from Steuertabellen.s01_Steuertabellen import *\n",
    "grid(translate_tagZ)"
   ]
  },
  {
   "cell_type": "code",
   "execution_count": 33,
   "metadata": {},
   "outputs": [
    {
     "name": "stdout",
     "output_type": "stream",
     "text": [
      "74 rows loaded\n",
      "Delete 15 rows from 74\n",
      "49 rows\n"
     ]
    },
    {
     "data": {
      "text/html": [
       "\n",
       "        <iframe\n",
       "            width=\"100%\"\n",
       "            height=\"475\"\n",
       "            src=\"http://pop-os:40000/dtale/iframe/7\"\n",
       "            frameborder=\"0\"\n",
       "            allowfullscreen\n",
       "            \n",
       "        ></iframe>\n",
       "        "
      ],
      "text/plain": [
       "<IPython.lib.display.IFrame at 0x7f103e3fdca0>"
      ]
     },
     "metadata": {},
     "output_type": "display_data"
    },
    {
     "data": {
      "text/plain": []
     },
     "execution_count": 33,
     "metadata": {},
     "output_type": "execute_result"
    },
    {
     "name": "stdout",
     "output_type": "stream",
     "text": [
      "time: 1.05 s\n"
     ]
    }
   ],
   "source": [
    "# lex_test, lemma_test\n",
    "lex_test, lemma_test = lade_lex_text( lex_test_filename, level=1)\n",
    "grid(lemma_test)"
   ]
  },
  {
   "cell_type": "markdown",
   "metadata": {},
   "source": [
    "## Löschliste\n",
    "* Excel-Datei aufbereiten\n",
    "* wiktionary belöschen\n",
    "* wiktionary_merkmal belöschen\n",
    "* Falls löschliste und lexeme_manuell in Konflikt stehen, siegt lexeme_manuell. Es wird erst gelöscht und dann manuell ergänzt."
   ]
  },
  {
   "cell_type": "code",
   "execution_count": 34,
   "metadata": {},
   "outputs": [
    {
     "name": "stdout",
     "output_type": "stream",
     "text": [
      "379 rows loaded\n",
      "time: 201 ms\n"
     ]
    }
   ],
   "source": [
    "# Laden\n",
    "löschliste = pak.load_excel( löschliste_filename )"
   ]
  },
  {
   "cell_type": "code",
   "execution_count": 35,
   "metadata": {},
   "outputs": [
    {
     "name": "stdout",
     "output_type": "stream",
     "text": [
      "check_mask:  0 rows\n",
      "\u001b[1m\u001b[7m\u001b[32mNo rows, mask filters them all away\u001b[0m\n",
      "time: 85.4 ms\n"
     ]
    }
   ],
   "source": [
    "# Format prüfen\n",
    "löschliste['check'] = löschliste.isnull().sum(axis=1)\n",
    "mask = löschliste.check != 2\n",
    "error = check_mask(löschliste,mask,0, stop=False)\n",
    "grid(löschliste,mask, color='green')"
   ]
  },
  {
   "cell_type": "code",
   "execution_count": 36,
   "metadata": {},
   "outputs": [
    {
     "name": "stdout",
     "output_type": "stream",
     "text": [
      "time: 55.2 ms\n"
     ]
    }
   ],
   "source": [
    "löschliste = pak.drop_cols(löschliste,'check')\n",
    "bpy.raise_if(error)"
   ]
  },
  {
   "cell_type": "code",
   "execution_count": 37,
   "metadata": {},
   "outputs": [
    {
     "name": "stdout",
     "output_type": "stream",
     "text": [
      "time: 56.2 ms\n"
     ]
    }
   ],
   "source": [
    "# Einzelne löschlisten\n",
    "\n",
    "mask = löschliste.section_id2.notnull()\n",
    "löschliste_section_id2 = list(löschliste[mask].drop_duplicates().section_id2)\n",
    "\n",
    "mask = löschliste.lemma.notnull()\n",
    "löschliste_lemma = list(löschliste[mask].drop_duplicates().lemma)\n",
    "\n",
    "mask = löschliste.lex.notnull()\n",
    "löschliste_lex = list(löschliste[mask].drop_duplicates().lex)\n",
    "löschliste_lex += löschliste_lemma"
   ]
  },
  {
   "cell_type": "code",
   "execution_count": 38,
   "metadata": {},
   "outputs": [
    {
     "name": "stdout",
     "output_type": "stream",
     "text": [
      "time: 243 ms\n"
     ]
    }
   ],
   "source": [
    "# löschliste_lemma nach löschliste_section_id2 übertragen\n",
    "mask1 =  wiktionary.title.isin(löschliste_lemma)   &   (wiktionary.title == wiktionary.lemma)\n",
    "mask2 = ~wiktionary.section_id2.isin(löschliste_section_id2)\n",
    "mask = mask1  &  mask2\n",
    "#wiktionary[mask]\n",
    "löschliste_section_id2 += list(wiktionary[mask].section_id2)"
   ]
  },
  {
   "cell_type": "code",
   "execution_count": 39,
   "metadata": {},
   "outputs": [
    {
     "name": "stdout",
     "output_type": "stream",
     "text": [
      "Move 288 rows from 806916\n",
      "time: 683 ms\n"
     ]
    }
   ],
   "source": [
    "# wiktionary belöschen nach section_id2\n",
    "mask = wiktionary.section_id2.isin(löschliste_section_id2)   \n",
    "wiktionary, wiktionary_trash = pak.move_rows( df_from=wiktionary, df_to=wiktionary_trash, mask=mask, msg='löschliste_section_id2' )       # Löschen"
   ]
  },
  {
   "cell_type": "code",
   "execution_count": 40,
   "metadata": {},
   "outputs": [
    {
     "name": "stdout",
     "output_type": "stream",
     "text": [
      "Move 51 rows from 806628\n",
      "time: 683 ms\n"
     ]
    }
   ],
   "source": [
    "# wiktionary belöschen nach lex\n",
    "mask = wiktionary.title.isin(löschliste_lex)   \n",
    "wiktionary, wiktionary_trash = pak.move_rows( df_from=wiktionary, df_to=wiktionary_trash, mask=mask, msg='löschliste_lex' )       # Löschen"
   ]
  },
  {
   "cell_type": "code",
   "execution_count": 41,
   "metadata": {},
   "outputs": [
    {
     "name": "stdout",
     "output_type": "stream",
     "text": [
      "Move 3568 rows from 3137375\n",
      "3568 rows\n"
     ]
    },
    {
     "data": {
      "text/html": [
       "\n",
       "        <iframe\n",
       "            width=\"100%\"\n",
       "            height=\"475\"\n",
       "            src=\"http://pop-os:40000/dtale/iframe/8\"\n",
       "            frameborder=\"0\"\n",
       "            allowfullscreen\n",
       "            \n",
       "        ></iframe>\n",
       "        "
      ],
      "text/plain": [
       "<IPython.lib.display.IFrame at 0x7f0fe750a280>"
      ]
     },
     "metadata": {},
     "output_type": "display_data"
    },
    {
     "data": {
      "text/plain": []
     },
     "execution_count": 41,
     "metadata": {},
     "output_type": "execute_result"
    },
    {
     "name": "stdout",
     "output_type": "stream",
     "text": [
      "time: 2.05 s\n"
     ]
    }
   ],
   "source": [
    "# wiktionary_merkmal belöschen nach section_id2\n",
    "mask = wiktionary_merkmal.section_id2.isin(löschliste_section_id2) \n",
    "wiktionary_merkmal, wiktionary_merkmal_trash = pak.move_rows(df_from=wiktionary_merkmal, df_to=wiktionary_merkmal_trash, mask=mask, msg='löschliste_section_id2')\n",
    "\n",
    "mask = wiktionary_merkmal_trash.msg == 'löschliste_section_id2'\n",
    "grid(wiktionary_merkmal_trash,mask)"
   ]
  },
  {
   "cell_type": "code",
   "execution_count": 42,
   "metadata": {},
   "outputs": [
    {
     "name": "stdout",
     "output_type": "stream",
     "text": [
      "Move 654 rows from 3133807\n",
      "654 rows out of 4222\n"
     ]
    },
    {
     "data": {
      "text/html": [
       "\n",
       "        <iframe\n",
       "            width=\"100%\"\n",
       "            height=\"475\"\n",
       "            src=\"http://pop-os:40000/dtale/iframe/9\"\n",
       "            frameborder=\"0\"\n",
       "            allowfullscreen\n",
       "            \n",
       "        ></iframe>\n",
       "        "
      ],
      "text/plain": [
       "<IPython.lib.display.IFrame at 0x7f103cfe3dc0>"
      ]
     },
     "metadata": {},
     "output_type": "display_data"
    },
    {
     "data": {
      "text/plain": []
     },
     "execution_count": 42,
     "metadata": {},
     "output_type": "execute_result"
    },
    {
     "name": "stdout",
     "output_type": "stream",
     "text": [
      "time: 1.92 s\n"
     ]
    }
   ],
   "source": [
    "# wiktionary_merkmal belöschen nach lex\n",
    "mask = wiktionary_merkmal.data.isin(löschliste_lex) \n",
    "wiktionary_merkmal, wiktionary_merkmal_trash = pak.move_rows(df_from=wiktionary_merkmal, df_to=wiktionary_merkmal_trash, mask=mask, msg='löschliste_lex')\n",
    "\n",
    "mask = wiktionary_merkmal_trash.msg == 'löschliste_lex'\n",
    "grid(wiktionary_merkmal_trash,mask)"
   ]
  },
  {
   "cell_type": "code",
   "execution_count": 43,
   "metadata": {},
   "outputs": [
    {
     "name": "stdout",
     "output_type": "stream",
     "text": [
      "time: 44.5 ms\n"
     ]
    }
   ],
   "source": [
    "# aufräumen\n",
    "del löschliste_lemma\n",
    "del löschliste"
   ]
  },
  {
   "cell_type": "markdown",
   "metadata": {},
   "source": [
    "## wiktionary tag und member\n",
    "* Aus dem Feld pos entstehen die Felder tag (standardisiert) und member (vollständig)"
   ]
  },
  {
   "cell_type": "code",
   "execution_count": 44,
   "metadata": {},
   "outputs": [
    {
     "name": "stdout",
     "output_type": "stream",
     "text": [
      "time: 6.29 s\n"
     ]
    }
   ],
   "source": [
    "# Kaputte Datenstruktur in str wandeln\n",
    "wiktionary['tag'] = wiktionary.pos.apply( lambda x: str(x) )\n",
    "wiktionary = pak.move_cols(wiktionary,'tag','pos')\n",
    "\n",
    "# translate\n",
    "translate_chars = str.maketrans(\"{}'[]:\", \"     ,\")\n",
    "wiktionary.tag = wiktionary.tag.str.translate(translate_chars)\n",
    "\n",
    "# Liste ohne Dups draus machen\n",
    "wiktionary.tag = wiktionary.tag.str.split(\",\")\n",
    "wiktionary.tag = wiktionary.tag.apply( lambda x: list(set(x)) )\n",
    "\n",
    "# Strings pflegen\n",
    "wiktionary.tag = wiktionary.tag.apply( lambda x: [ e.strip().replace(' ','_')  for e in x ] )\n",
    "\n",
    "# Leere Strings entfernen\n",
    "wiktionary.tag = wiktionary.tag.apply( lambda x: [ e for e in x  if e != ''] )"
   ]
  },
  {
   "cell_type": "code",
   "execution_count": 45,
   "metadata": {},
   "outputs": [
    {
     "name": "stdout",
     "output_type": "stream",
     "text": [
      "time: 31.2 ms\n"
     ]
    }
   ],
   "source": [
    "#grid(wiktionary, pak.sample)"
   ]
  },
  {
   "cell_type": "code",
   "execution_count": 46,
   "metadata": {},
   "outputs": [
    {
     "name": "stdout",
     "output_type": "stream",
     "text": [
      "time: 2.23 s\n"
     ]
    }
   ],
   "source": [
    "# nach Priorität sortieren (laut Steuertabellen)\n",
    "wiktionary.loc[:,'tag'] = member_sortieren(wiktionary.tag) "
   ]
  },
  {
   "cell_type": "code",
   "execution_count": 47,
   "metadata": {},
   "outputs": [
    {
     "name": "stdout",
     "output_type": "stream",
     "text": [
      "time: 235 ms\n"
     ]
    }
   ],
   "source": [
    "# In string wandeln\n",
    "wiktionary.tag = wiktionary.tag.str.join(' ')"
   ]
  },
  {
   "cell_type": "code",
   "execution_count": 48,
   "metadata": {},
   "outputs": [
    {
     "name": "stdout",
     "output_type": "stream",
     "text": [
      "[('  ', ' '), ('Partizip II', 'Ptz2'), ('Partizip_II', 'Ptz2'), ('PartizipII', 'Ptz2'), ('Konjunktiv II', 'Konj2'), ('Konjunktiv_II', 'Konj2'), ('KonjunktivII', 'Konj2'), ('  ', ' ')]\n",
      "[('  ', ' '), ('Partizip I', 'Ptz1'), ('Partizip_I', 'Ptz1'), ('PartizipI', 'Ptz1'), ('Konjunktiv I', 'Konj1'), ('Konjunktiv_I', 'Konj1'), ('KonjunktivI', 'Konj1'), ('  ', ' ')]\n",
      "time: 4.05 s\n"
     ]
    }
   ],
   "source": [
    "# translate_first\n",
    "\n",
    "print(translate_first1)\n",
    "print(translate_first2)\n",
    "\n",
    "wiktionary['tag'] = pak.replace_str( wiktionary.tag, translate_first1).str.strip()\n",
    "wiktionary['tag'] = pak.replace_str( wiktionary.tag, translate_first2).str.strip()"
   ]
  },
  {
   "cell_type": "code",
   "execution_count": 49,
   "metadata": {},
   "outputs": [
    {
     "name": "stdout",
     "output_type": "stream",
     "text": [
      "time: 35 ms\n"
     ]
    }
   ],
   "source": [
    "#mask = (wiktionary.tag.str.count(' ') + 1)  > 2   \n",
    "#wiktionary[mask]"
   ]
  },
  {
   "cell_type": "code",
   "execution_count": 50,
   "metadata": {},
   "outputs": [
    {
     "name": "stdout",
     "output_type": "stream",
     "text": [
      "11 rows out of 806577\n"
     ]
    },
    {
     "data": {
      "text/html": [
       "\n",
       "        <iframe\n",
       "            width=\"100%\"\n",
       "            height=\"475\"\n",
       "            src=\"http://pop-os:40000/dtale/iframe/10\"\n",
       "            frameborder=\"0\"\n",
       "            allowfullscreen\n",
       "            \n",
       "        ></iframe>\n",
       "        "
      ],
      "text/plain": [
       "<IPython.lib.display.IFrame at 0x7f103e501a60>"
      ]
     },
     "metadata": {},
     "output_type": "display_data"
    },
    {
     "data": {
      "text/plain": []
     },
     "execution_count": 50,
     "metadata": {},
     "output_type": "execute_result"
    },
    {
     "name": "stdout",
     "output_type": "stream",
     "text": [
      "time: 7.58 s\n"
     ]
    }
   ],
   "source": [
    "grid(wiktionary, pak.sample)"
   ]
  },
  {
   "cell_type": "code",
   "execution_count": 51,
   "metadata": {},
   "outputs": [
    {
     "data": {
      "text/html": [
       "<div>\n",
       "<style scoped>\n",
       "    .dataframe tbody tr th:only-of-type {\n",
       "        vertical-align: middle;\n",
       "    }\n",
       "\n",
       "    .dataframe tbody tr th {\n",
       "        vertical-align: top;\n",
       "    }\n",
       "\n",
       "    .dataframe thead th {\n",
       "        text-align: right;\n",
       "    }\n",
       "</style>\n",
       "<table border=\"1\" class=\"dataframe\">\n",
       "  <thead>\n",
       "    <tr style=\"text-align: right;\">\n",
       "      <th></th>\n",
       "      <th>col_name</th>\n",
       "      <th>datatype_instance</th>\n",
       "      <th>datatype</th>\n",
       "      <th>datatype_short</th>\n",
       "      <th>datatype_suggest</th>\n",
       "      <th>is_numeric</th>\n",
       "      <th>is_string</th>\n",
       "      <th>is_hashable</th>\n",
       "      <th>nan_allowed</th>\n",
       "      <th>mem_usage</th>\n",
       "      <th>ntypes</th>\n",
       "      <th>nunique</th>\n",
       "      <th>nnan</th>\n",
       "      <th>ndups</th>\n",
       "      <th>n</th>\n",
       "      <th>vmin</th>\n",
       "      <th>vmean</th>\n",
       "      <th>vmedian</th>\n",
       "      <th>vmax</th>\n",
       "      <th>vsum</th>\n",
       "    </tr>\n",
       "  </thead>\n",
       "  <tbody>\n",
       "    <tr>\n",
       "      <th>0</th>\n",
       "      <td>__index__</td>\n",
       "      <td>int64</td>\n",
       "      <td>np.int64</td>\n",
       "      <td>int64</td>\n",
       "      <td>np.int32</td>\n",
       "      <td>True</td>\n",
       "      <td>False</td>\n",
       "      <td>True</td>\n",
       "      <td>False</td>\n",
       "      <td>80.0 B</td>\n",
       "      <td>1</td>\n",
       "      <td>806577</td>\n",
       "      <td>0</td>\n",
       "      <td>0</td>\n",
       "      <td>806577</td>\n",
       "      <td>0.0</td>\n",
       "      <td>403501.35</td>\n",
       "      <td>403502.0</td>\n",
       "      <td>806915.0</td>\n",
       "      <td>3.254549e+11</td>\n",
       "    </tr>\n",
       "    <tr>\n",
       "      <th>1</th>\n",
       "      <td>page_id</td>\n",
       "      <td>int64</td>\n",
       "      <td>np.int64</td>\n",
       "      <td>int64</td>\n",
       "      <td>pd.Int32</td>\n",
       "      <td>True</td>\n",
       "      <td>False</td>\n",
       "      <td>True</td>\n",
       "      <td>False</td>\n",
       "      <td>80.0 B</td>\n",
       "      <td>1</td>\n",
       "      <td>771982</td>\n",
       "      <td>0</td>\n",
       "      <td>34595</td>\n",
       "      <td>806577</td>\n",
       "      <td>0.0</td>\n",
       "      <td>603389.28</td>\n",
       "      <td>595029.0</td>\n",
       "      <td>1078351.0</td>\n",
       "      <td>4.866799e+11</td>\n",
       "    </tr>\n",
       "    <tr>\n",
       "      <th>2</th>\n",
       "      <td>page_part</td>\n",
       "      <td>int64</td>\n",
       "      <td>np.int64</td>\n",
       "      <td>int64</td>\n",
       "      <td>pd.Int8</td>\n",
       "      <td>True</td>\n",
       "      <td>False</td>\n",
       "      <td>True</td>\n",
       "      <td>False</td>\n",
       "      <td>80.0 B</td>\n",
       "      <td>1</td>\n",
       "      <td>6</td>\n",
       "      <td>0</td>\n",
       "      <td>806571</td>\n",
       "      <td>806577</td>\n",
       "      <td>0.0</td>\n",
       "      <td>0.05</td>\n",
       "      <td>0.0</td>\n",
       "      <td>5.0</td>\n",
       "      <td>3.649400e+04</td>\n",
       "    </tr>\n",
       "    <tr>\n",
       "      <th>3</th>\n",
       "      <td>section_id2</td>\n",
       "      <td>str</td>\n",
       "      <td>object</td>\n",
       "      <td>object</td>\n",
       "      <td>pd.string</td>\n",
       "      <td>False</td>\n",
       "      <td>True</td>\n",
       "      <td>True</td>\n",
       "      <td>True</td>\n",
       "      <td>722.0 B</td>\n",
       "      <td>1</td>\n",
       "      <td>806577</td>\n",
       "      <td>0</td>\n",
       "      <td>0</td>\n",
       "      <td>806577</td>\n",
       "      <td>&amp;c.</td>\n",
       "      <td>NaN</td>\n",
       "      <td>NaN</td>\n",
       "      <td>μm</td>\n",
       "      <td>NaN</td>\n",
       "    </tr>\n",
       "    <tr>\n",
       "      <th>4</th>\n",
       "      <td>title</td>\n",
       "      <td>str</td>\n",
       "      <td>object</td>\n",
       "      <td>object</td>\n",
       "      <td>pd.string</td>\n",
       "      <td>False</td>\n",
       "      <td>True</td>\n",
       "      <td>True</td>\n",
       "      <td>True</td>\n",
       "      <td>720.0 B</td>\n",
       "      <td>1</td>\n",
       "      <td>771981</td>\n",
       "      <td>0</td>\n",
       "      <td>34596</td>\n",
       "      <td>806577</td>\n",
       "      <td>&amp;c.</td>\n",
       "      <td>NaN</td>\n",
       "      <td>NaN</td>\n",
       "      <td>μm</td>\n",
       "      <td>NaN</td>\n",
       "    </tr>\n",
       "    <tr>\n",
       "      <th>5</th>\n",
       "      <td>lemma</td>\n",
       "      <td>str</td>\n",
       "      <td>object</td>\n",
       "      <td>object</td>\n",
       "      <td>pd.string</td>\n",
       "      <td>False</td>\n",
       "      <td>True</td>\n",
       "      <td>True</td>\n",
       "      <td>True</td>\n",
       "      <td>676.0 B</td>\n",
       "      <td>1</td>\n",
       "      <td>153537</td>\n",
       "      <td>0</td>\n",
       "      <td>653040</td>\n",
       "      <td>806577</td>\n",
       "      <td>&amp;c.</td>\n",
       "      <td>NaN</td>\n",
       "      <td>NaN</td>\n",
       "      <td>μm</td>\n",
       "      <td>NaN</td>\n",
       "    </tr>\n",
       "    <tr>\n",
       "      <th>6</th>\n",
       "      <td>inflected</td>\n",
       "      <td>bool_</td>\n",
       "      <td>bool</td>\n",
       "      <td>bool</td>\n",
       "      <td></td>\n",
       "      <td>True</td>\n",
       "      <td>False</td>\n",
       "      <td>True</td>\n",
       "      <td>True</td>\n",
       "      <td>10.0 B</td>\n",
       "      <td>1</td>\n",
       "      <td>2</td>\n",
       "      <td>0</td>\n",
       "      <td>806575</td>\n",
       "      <td>806577</td>\n",
       "      <td>0.0</td>\n",
       "      <td>0.83</td>\n",
       "      <td>NaN</td>\n",
       "      <td>1.0</td>\n",
       "      <td>6.717590e+05</td>\n",
       "    </tr>\n",
       "    <tr>\n",
       "      <th>7</th>\n",
       "      <td>pos</td>\n",
       "      <td>dict</td>\n",
       "      <td>object</td>\n",
       "      <td>object</td>\n",
       "      <td></td>\n",
       "      <td>False</td>\n",
       "      <td>True</td>\n",
       "      <td>False</td>\n",
       "      <td>True</td>\n",
       "      <td>2.2 KB</td>\n",
       "      <td>1</td>\n",
       "      <td>163</td>\n",
       "      <td>0</td>\n",
       "      <td>806414</td>\n",
       "      <td>806577</td>\n",
       "      <td>NaN</td>\n",
       "      <td>NaN</td>\n",
       "      <td>NaN</td>\n",
       "      <td>NaN</td>\n",
       "      <td>NaN</td>\n",
       "    </tr>\n",
       "    <tr>\n",
       "      <th>8</th>\n",
       "      <td>tag</td>\n",
       "      <td>str</td>\n",
       "      <td>object</td>\n",
       "      <td>object</td>\n",
       "      <td>pd.string</td>\n",
       "      <td>False</td>\n",
       "      <td>True</td>\n",
       "      <td>True</td>\n",
       "      <td>True</td>\n",
       "      <td>686.0 B</td>\n",
       "      <td>1</td>\n",
       "      <td>156</td>\n",
       "      <td>0</td>\n",
       "      <td>806421</td>\n",
       "      <td>806577</td>\n",
       "      <td>Abkürzung</td>\n",
       "      <td>NaN</td>\n",
       "      <td>NaN</td>\n",
       "      <td>Wortverbindung Partikel</td>\n",
       "      <td>NaN</td>\n",
       "    </tr>\n",
       "    <tr>\n",
       "      <th>9</th>\n",
       "      <td>rhymes</td>\n",
       "      <td>list</td>\n",
       "      <td>object</td>\n",
       "      <td>object</td>\n",
       "      <td></td>\n",
       "      <td>False</td>\n",
       "      <td>True</td>\n",
       "      <td>False</td>\n",
       "      <td>True</td>\n",
       "      <td>464.0 B</td>\n",
       "      <td>1</td>\n",
       "      <td>38306</td>\n",
       "      <td>503544</td>\n",
       "      <td>264727</td>\n",
       "      <td>806577</td>\n",
       "      <td>[a]</td>\n",
       "      <td>NaN</td>\n",
       "      <td>NaN</td>\n",
       "      <td>[ʏʃəs, yːʃəs]</td>\n",
       "      <td>NaN</td>\n",
       "    </tr>\n",
       "    <tr>\n",
       "      <th>10</th>\n",
       "      <td>score</td>\n",
       "      <td>float64</td>\n",
       "      <td>np.float64</td>\n",
       "      <td>float64</td>\n",
       "      <td>np.float32</td>\n",
       "      <td>True</td>\n",
       "      <td>False</td>\n",
       "      <td>True</td>\n",
       "      <td>True</td>\n",
       "      <td>80.0 B</td>\n",
       "      <td>1</td>\n",
       "      <td>10488</td>\n",
       "      <td>0</td>\n",
       "      <td>796089</td>\n",
       "      <td>806577</td>\n",
       "      <td>0.01</td>\n",
       "      <td>2.15</td>\n",
       "      <td>1.0</td>\n",
       "      <td>320.85</td>\n",
       "      <td>1.734968e+06</td>\n",
       "    </tr>\n",
       "    <tr>\n",
       "      <th>11</th>\n",
       "      <td>flexion</td>\n",
       "      <td>defaultdict</td>\n",
       "      <td>object</td>\n",
       "      <td>object</td>\n",
       "      <td></td>\n",
       "      <td>False</td>\n",
       "      <td>True</td>\n",
       "      <td>False</td>\n",
       "      <td>True</td>\n",
       "      <td>2.8 KB</td>\n",
       "      <td>1</td>\n",
       "      <td>118070</td>\n",
       "      <td>0</td>\n",
       "      <td>688507</td>\n",
       "      <td>806577</td>\n",
       "      <td>NaN</td>\n",
       "      <td>NaN</td>\n",
       "      <td>NaN</td>\n",
       "      <td>NaN</td>\n",
       "      <td>NaN</td>\n",
       "    </tr>\n",
       "    <tr>\n",
       "      <th>12</th>\n",
       "      <td>ipa</td>\n",
       "      <td>list</td>\n",
       "      <td>object</td>\n",
       "      <td>object</td>\n",
       "      <td></td>\n",
       "      <td>False</td>\n",
       "      <td>True</td>\n",
       "      <td>False</td>\n",
       "      <td>True</td>\n",
       "      <td>784.0 B</td>\n",
       "      <td>1</td>\n",
       "      <td>745079</td>\n",
       "      <td>14229</td>\n",
       "      <td>47269</td>\n",
       "      <td>806577</td>\n",
       "      <td>[-a]</td>\n",
       "      <td>NaN</td>\n",
       "      <td>NaN</td>\n",
       "      <td>[θʁɪls]</td>\n",
       "      <td>NaN</td>\n",
       "    </tr>\n",
       "    <tr>\n",
       "      <th>13</th>\n",
       "      <td>syllables</td>\n",
       "      <td>list</td>\n",
       "      <td>object</td>\n",
       "      <td>object</td>\n",
       "      <td></td>\n",
       "      <td>False</td>\n",
       "      <td>True</td>\n",
       "      <td>False</td>\n",
       "      <td>True</td>\n",
       "      <td>1.1 KB</td>\n",
       "      <td>1</td>\n",
       "      <td>766354</td>\n",
       "      <td>4905</td>\n",
       "      <td>35318</td>\n",
       "      <td>806577</td>\n",
       "      <td>[02, Li, ter, Fla, sche]</td>\n",
       "      <td>NaN</td>\n",
       "      <td>NaN</td>\n",
       "      <td>[’s, Her, to, gen, boschs]</td>\n",
       "      <td>NaN</td>\n",
       "    </tr>\n",
       "    <tr>\n",
       "      <th>14</th>\n",
       "      <td>lang</td>\n",
       "      <td>str</td>\n",
       "      <td>object</td>\n",
       "      <td>object</td>\n",
       "      <td>pd.string</td>\n",
       "      <td>False</td>\n",
       "      <td>True</td>\n",
       "      <td>True</td>\n",
       "      <td>True</td>\n",
       "      <td>640.0 B</td>\n",
       "      <td>1</td>\n",
       "      <td>1</td>\n",
       "      <td>0</td>\n",
       "      <td>806576</td>\n",
       "      <td>806577</td>\n",
       "      <td>Deutsch</td>\n",
       "      <td>NaN</td>\n",
       "      <td>NaN</td>\n",
       "      <td>Deutsch</td>\n",
       "      <td>NaN</td>\n",
       "    </tr>\n",
       "    <tr>\n",
       "      <th>15</th>\n",
       "      <td>lang_code</td>\n",
       "      <td>str</td>\n",
       "      <td>object</td>\n",
       "      <td>object</td>\n",
       "      <td>pd.string</td>\n",
       "      <td>False</td>\n",
       "      <td>True</td>\n",
       "      <td>True</td>\n",
       "      <td>True</td>\n",
       "      <td>590.0 B</td>\n",
       "      <td>1</td>\n",
       "      <td>1</td>\n",
       "      <td>0</td>\n",
       "      <td>806576</td>\n",
       "      <td>806577</td>\n",
       "      <td>de</td>\n",
       "      <td>NaN</td>\n",
       "      <td>NaN</td>\n",
       "      <td>de</td>\n",
       "      <td>NaN</td>\n",
       "    </tr>\n",
       "    <tr>\n",
       "      <th>16</th>\n",
       "      <td>error</td>\n",
       "      <td>str</td>\n",
       "      <td>object</td>\n",
       "      <td>object</td>\n",
       "      <td>pd.string</td>\n",
       "      <td>False</td>\n",
       "      <td>True</td>\n",
       "      <td>True</td>\n",
       "      <td>True</td>\n",
       "      <td>570.0 B</td>\n",
       "      <td>1</td>\n",
       "      <td>1</td>\n",
       "      <td>0</td>\n",
       "      <td>806576</td>\n",
       "      <td>806577</td>\n",
       "      <td></td>\n",
       "      <td>NaN</td>\n",
       "      <td>NaN</td>\n",
       "      <td></td>\n",
       "      <td>NaN</td>\n",
       "    </tr>\n",
       "    <tr>\n",
       "      <th>17</th>\n",
       "      <td>lemma_lower</td>\n",
       "      <td>str</td>\n",
       "      <td>object</td>\n",
       "      <td>object</td>\n",
       "      <td>pd.string</td>\n",
       "      <td>False</td>\n",
       "      <td>True</td>\n",
       "      <td>True</td>\n",
       "      <td>True</td>\n",
       "      <td>676.0 B</td>\n",
       "      <td>1</td>\n",
       "      <td>151718</td>\n",
       "      <td>0</td>\n",
       "      <td>654859</td>\n",
       "      <td>806577</td>\n",
       "      <td>&amp;c.</td>\n",
       "      <td>NaN</td>\n",
       "      <td>NaN</td>\n",
       "      <td>μm</td>\n",
       "      <td>NaN</td>\n",
       "    </tr>\n",
       "  </tbody>\n",
       "</table>\n",
       "</div>"
      ],
      "text/plain": [
       "       col_name datatype_instance    datatype datatype_short datatype_suggest  \\\n",
       "0     __index__             int64    np.int64          int64         np.int32   \n",
       "1       page_id             int64    np.int64          int64         pd.Int32   \n",
       "2     page_part             int64    np.int64          int64          pd.Int8   \n",
       "3   section_id2               str      object         object        pd.string   \n",
       "4         title               str      object         object        pd.string   \n",
       "5         lemma               str      object         object        pd.string   \n",
       "6     inflected             bool_        bool           bool                    \n",
       "7           pos              dict      object         object                    \n",
       "8           tag               str      object         object        pd.string   \n",
       "9        rhymes              list      object         object                    \n",
       "10        score           float64  np.float64        float64       np.float32   \n",
       "11      flexion       defaultdict      object         object                    \n",
       "12          ipa              list      object         object                    \n",
       "13    syllables              list      object         object                    \n",
       "14         lang               str      object         object        pd.string   \n",
       "15    lang_code               str      object         object        pd.string   \n",
       "16        error               str      object         object        pd.string   \n",
       "17  lemma_lower               str      object         object        pd.string   \n",
       "\n",
       "    is_numeric  is_string  is_hashable  nan_allowed mem_usage  ntypes  \\\n",
       "0         True      False         True        False    80.0 B       1   \n",
       "1         True      False         True        False    80.0 B       1   \n",
       "2         True      False         True        False    80.0 B       1   \n",
       "3        False       True         True         True   722.0 B       1   \n",
       "4        False       True         True         True   720.0 B       1   \n",
       "5        False       True         True         True   676.0 B       1   \n",
       "6         True      False         True         True    10.0 B       1   \n",
       "7        False       True        False         True    2.2 KB       1   \n",
       "8        False       True         True         True   686.0 B       1   \n",
       "9        False       True        False         True   464.0 B       1   \n",
       "10        True      False         True         True    80.0 B       1   \n",
       "11       False       True        False         True    2.8 KB       1   \n",
       "12       False       True        False         True   784.0 B       1   \n",
       "13       False       True        False         True    1.1 KB       1   \n",
       "14       False       True         True         True   640.0 B       1   \n",
       "15       False       True         True         True   590.0 B       1   \n",
       "16       False       True         True         True   570.0 B       1   \n",
       "17       False       True         True         True   676.0 B       1   \n",
       "\n",
       "    nunique    nnan   ndups       n                      vmin      vmean  \\\n",
       "0    806577       0       0  806577                       0.0  403501.35   \n",
       "1    771982       0   34595  806577                       0.0  603389.28   \n",
       "2         6       0  806571  806577                       0.0       0.05   \n",
       "3    806577       0       0  806577                       &c.        NaN   \n",
       "4    771981       0   34596  806577                       &c.        NaN   \n",
       "5    153537       0  653040  806577                       &c.        NaN   \n",
       "6         2       0  806575  806577                       0.0       0.83   \n",
       "7       163       0  806414  806577                       NaN        NaN   \n",
       "8       156       0  806421  806577                 Abkürzung        NaN   \n",
       "9     38306  503544  264727  806577                       [a]        NaN   \n",
       "10    10488       0  796089  806577                      0.01       2.15   \n",
       "11   118070       0  688507  806577                       NaN        NaN   \n",
       "12   745079   14229   47269  806577                      [-a]        NaN   \n",
       "13   766354    4905   35318  806577  [02, Li, ter, Fla, sche]        NaN   \n",
       "14        1       0  806576  806577                   Deutsch        NaN   \n",
       "15        1       0  806576  806577                        de        NaN   \n",
       "16        1       0  806576  806577                                  NaN   \n",
       "17   151718       0  654859  806577                       &c.        NaN   \n",
       "\n",
       "     vmedian                        vmax          vsum  \n",
       "0   403502.0                    806915.0  3.254549e+11  \n",
       "1   595029.0                   1078351.0  4.866799e+11  \n",
       "2        0.0                         5.0  3.649400e+04  \n",
       "3        NaN                          μm           NaN  \n",
       "4        NaN                          μm           NaN  \n",
       "5        NaN                          μm           NaN  \n",
       "6        NaN                         1.0  6.717590e+05  \n",
       "7        NaN                         NaN           NaN  \n",
       "8        NaN     Wortverbindung Partikel           NaN  \n",
       "9        NaN               [ʏʃəs, yːʃəs]           NaN  \n",
       "10       1.0                      320.85  1.734968e+06  \n",
       "11       NaN                         NaN           NaN  \n",
       "12       NaN                     [θʁɪls]           NaN  \n",
       "13       NaN  [’s, Her, to, gen, boschs]           NaN  \n",
       "14       NaN                     Deutsch           NaN  \n",
       "15       NaN                          de           NaN  \n",
       "16       NaN                                       NaN  \n",
       "17       NaN                          μm           NaN  "
      ]
     },
     "execution_count": 51,
     "metadata": {},
     "output_type": "execute_result"
    },
    {
     "name": "stdout",
     "output_type": "stream",
     "text": [
      "time: 10.2 s\n"
     ]
    }
   ],
   "source": [
    "pak.analyse_cols(wiktionary)"
   ]
  },
  {
   "cell_type": "code",
   "execution_count": 52,
   "metadata": {},
   "outputs": [
    {
     "name": "stdout",
     "output_type": "stream",
     "text": [
      "time: 901 ms\n"
     ]
    }
   ],
   "source": [
    "# Spalte member bewahrt die ursprüngliche Klassifizierung vollständig\n",
    "wiktionary['member'] = wiktionary.tag.copy()\n",
    "wiktionary = pak.move_cols(wiktionary,'member','tag')"
   ]
  },
  {
   "cell_type": "code",
   "execution_count": 53,
   "metadata": {},
   "outputs": [
    {
     "name": "stdout",
     "output_type": "stream",
     "text": [
      "3 rows out of 806577\n"
     ]
    },
    {
     "data": {
      "text/html": [
       "\n",
       "        <iframe\n",
       "            width=\"100%\"\n",
       "            height=\"475\"\n",
       "            src=\"http://pop-os:40000/dtale/iframe/11\"\n",
       "            frameborder=\"0\"\n",
       "            allowfullscreen\n",
       "            \n",
       "        ></iframe>\n",
       "        "
      ],
      "text/plain": [
       "<IPython.lib.display.IFrame at 0x7f103e643700>"
      ]
     },
     "metadata": {},
     "output_type": "display_data"
    },
    {
     "data": {
      "text/plain": []
     },
     "execution_count": 53,
     "metadata": {},
     "output_type": "execute_result"
    },
    {
     "name": "stdout",
     "output_type": "stream",
     "text": [
      "time: 127 ms\n"
     ]
    }
   ],
   "source": [
    "# wiktionary anschauen\n",
    "#mask = wiktionary.tag == 'ADJA ADV PRO'\n",
    "mask = wiktionary.title.isin( suche_debug )\n",
    "grid(wiktionary,mask)"
   ]
  },
  {
   "cell_type": "code",
   "execution_count": 54,
   "metadata": {},
   "outputs": [
    {
     "name": "stdout",
     "output_type": "stream",
     "text": [
      "179 rows\n"
     ]
    },
    {
     "data": {
      "text/html": [
       "\n",
       "        <iframe\n",
       "            width=\"100%\"\n",
       "            height=\"475\"\n",
       "            src=\"http://pop-os:40000/dtale/iframe/12\"\n",
       "            frameborder=\"0\"\n",
       "            allowfullscreen\n",
       "            \n",
       "        ></iframe>\n",
       "        "
      ],
      "text/plain": [
       "<IPython.lib.display.IFrame at 0x7f103e63b490>"
      ]
     },
     "metadata": {},
     "output_type": "display_data"
    },
    {
     "data": {
      "text/plain": []
     },
     "execution_count": 54,
     "metadata": {},
     "output_type": "execute_result"
    },
    {
     "name": "stdout",
     "output_type": "stream",
     "text": [
      "time: 110 ms\n"
     ]
    }
   ],
   "source": [
    "grid(translate_tag)"
   ]
  },
  {
   "cell_type": "code",
   "execution_count": 55,
   "metadata": {},
   "outputs": [
    {
     "name": "stdout",
     "output_type": "stream",
     "text": [
      "time: 42.1 s\n"
     ]
    }
   ],
   "source": [
    "# anwenden\n",
    "wiktionary['tag'] = pak.replace_str( wiktionary.tag, translate_tag )\n",
    "wiktionary['tag'] = wiktionary.tag.str.replace('  ',' ').str.strip()    "
   ]
  },
  {
   "cell_type": "code",
   "execution_count": 56,
   "metadata": {},
   "outputs": [
    {
     "name": "stdout",
     "output_type": "stream",
     "text": [
      "time: 15.7 s\n"
     ]
    }
   ],
   "source": [
    "# Durchlauf2: translate_tag erneut anwenden \n",
    "mask = translate_tag.notiz.str.contains('Durchlauf2')\n",
    "wiktionary['tag'] = pak.replace_str( wiktionary.tag, translate_tag[mask] )\n",
    "wiktionary['tag'] = wiktionary.tag.str.replace('  ',' ').str.strip()    "
   ]
  },
  {
   "cell_type": "code",
   "execution_count": 57,
   "metadata": {},
   "outputs": [
    {
     "name": "stdout",
     "output_type": "stream",
     "text": [
      "time: 287 ms\n"
     ]
    }
   ],
   "source": [
    "# tag TODO für alles, was noch weiterverarbeitet werden muss\n",
    "mask = (wiktionary.tag.str.len() == 0)\n",
    "wiktionary.loc[mask,'tag'] = 'TODO'\n",
    "#grid(wiktionary,mask)"
   ]
  },
  {
   "cell_type": "code",
   "execution_count": 58,
   "metadata": {},
   "outputs": [
    {
     "name": "stdout",
     "output_type": "stream",
     "text": [
      "3 rows out of 806577\n"
     ]
    },
    {
     "data": {
      "text/html": [
       "\n",
       "        <iframe\n",
       "            width=\"100%\"\n",
       "            height=\"475\"\n",
       "            src=\"http://pop-os:40000/dtale/iframe/13\"\n",
       "            frameborder=\"0\"\n",
       "            allowfullscreen\n",
       "            \n",
       "        ></iframe>\n",
       "        "
      ],
      "text/plain": [
       "<IPython.lib.display.IFrame at 0x7f103e643190>"
      ]
     },
     "metadata": {},
     "output_type": "display_data"
    },
    {
     "data": {
      "text/plain": []
     },
     "execution_count": 58,
     "metadata": {},
     "output_type": "execute_result"
    },
    {
     "name": "stdout",
     "output_type": "stream",
     "text": [
      "time: 906 ms\n"
     ]
    }
   ],
   "source": [
    "# wiktionary anschauen\n",
    "#mask = wiktionary.tag == 'ADJA ADV PRO'\n",
    "mask = wiktionary.title.isin( suche_debug )\n",
    "grid(wiktionary,mask)"
   ]
  },
  {
   "cell_type": "code",
   "execution_count": 59,
   "metadata": {},
   "outputs": [
    {
     "name": "stdout",
     "output_type": "stream",
     "text": [
      "time: 51.5 ms\n"
     ]
    }
   ],
   "source": [
    "# Dekliniertes_Gerundivum: beizubehaltende\n",
    "# VMaßeinheiten"
   ]
  },
  {
   "cell_type": "markdown",
   "metadata": {},
   "source": [
    "## Bindestrich"
   ]
  },
  {
   "cell_type": "code",
   "execution_count": 60,
   "metadata": {},
   "outputs": [
    {
     "name": "stdout",
     "output_type": "stream",
     "text": [
      "check_mask:  4 rows\n"
     ]
    },
    {
     "data": {
      "text/html": [
       "<div>\n",
       "<style scoped>\n",
       "    .dataframe tbody tr th:only-of-type {\n",
       "        vertical-align: middle;\n",
       "    }\n",
       "\n",
       "    .dataframe tbody tr th {\n",
       "        vertical-align: top;\n",
       "    }\n",
       "\n",
       "    .dataframe thead th {\n",
       "        text-align: right;\n",
       "    }\n",
       "</style>\n",
       "<table border=\"1\" class=\"dataframe\">\n",
       "  <thead>\n",
       "    <tr style=\"text-align: right;\">\n",
       "      <th></th>\n",
       "      <th>page_id</th>\n",
       "      <th>page_part</th>\n",
       "      <th>section_id2</th>\n",
       "      <th>title</th>\n",
       "      <th>lemma</th>\n",
       "      <th>inflected</th>\n",
       "      <th>pos</th>\n",
       "      <th>tag</th>\n",
       "      <th>member</th>\n",
       "      <th>rhymes</th>\n",
       "      <th>score</th>\n",
       "      <th>flexion</th>\n",
       "      <th>ipa</th>\n",
       "      <th>syllables</th>\n",
       "      <th>lang</th>\n",
       "      <th>lang_code</th>\n",
       "      <th>error</th>\n",
       "      <th>lemma_lower</th>\n",
       "    </tr>\n",
       "  </thead>\n",
       "  <tbody>\n",
       "    <tr>\n",
       "      <th>25823</th>\n",
       "      <td>67995</td>\n",
       "      <td>0</td>\n",
       "      <td>unter_glex</td>\n",
       "      <td>unter</td>\n",
       "      <td>unter</td>\n",
       "      <td>False</td>\n",
       "      <td>NaN</td>\n",
       "      <td>ADJA</td>\n",
       "      <td>Adjektiv</td>\n",
       "      <td>NaN</td>\n",
       "      <td>8.894032</td>\n",
       "      <td>{}</td>\n",
       "      <td>[ʊntɐ]</td>\n",
       "      <td>[un, ter]</td>\n",
       "      <td>Deutsch</td>\n",
       "      <td>de</td>\n",
       "      <td></td>\n",
       "      <td>unter</td>\n",
       "    </tr>\n",
       "    <tr>\n",
       "      <th>213892</th>\n",
       "      <td>379521</td>\n",
       "      <td>0</td>\n",
       "      <td>ober_glex</td>\n",
       "      <td>ober</td>\n",
       "      <td>ober</td>\n",
       "      <td>False</td>\n",
       "      <td>NaN</td>\n",
       "      <td>ADJA</td>\n",
       "      <td>Adjektiv</td>\n",
       "      <td>NaN</td>\n",
       "      <td>6.716200</td>\n",
       "      <td>{}</td>\n",
       "      <td>[ˈoːbɐ]</td>\n",
       "      <td>[ober]</td>\n",
       "      <td>Deutsch</td>\n",
       "      <td>de</td>\n",
       "      <td></td>\n",
       "      <td>ober</td>\n",
       "    </tr>\n",
       "    <tr>\n",
       "      <th>457097</th>\n",
       "      <td>680245</td>\n",
       "      <td>0</td>\n",
       "      <td>äußer_glex</td>\n",
       "      <td>äußer</td>\n",
       "      <td>äußer</td>\n",
       "      <td>False</td>\n",
       "      <td>NaN</td>\n",
       "      <td>ADJA</td>\n",
       "      <td>Adjektiv</td>\n",
       "      <td>NaN</td>\n",
       "      <td>11.130329</td>\n",
       "      <td>{'Positiv': ['äußer(er)'], 'Superlativ': ['äuß...</td>\n",
       "      <td>[ˈɔɪ̯səʁɐ]</td>\n",
       "      <td>NaN</td>\n",
       "      <td>Deutsch</td>\n",
       "      <td>de</td>\n",
       "      <td></td>\n",
       "      <td>äußer</td>\n",
       "    </tr>\n",
       "    <tr>\n",
       "      <th>457110</th>\n",
       "      <td>680259</td>\n",
       "      <td>0</td>\n",
       "      <td>inner_glex</td>\n",
       "      <td>inner</td>\n",
       "      <td>inner</td>\n",
       "      <td>False</td>\n",
       "      <td>NaN</td>\n",
       "      <td>ADJA</td>\n",
       "      <td>Adjektiv</td>\n",
       "      <td>NaN</td>\n",
       "      <td>11.298417</td>\n",
       "      <td>{'Positiv': ['inner(er)'], 'Superlativ': ['inn...</td>\n",
       "      <td>[ˈɪnɐ]</td>\n",
       "      <td>NaN</td>\n",
       "      <td>Deutsch</td>\n",
       "      <td>de</td>\n",
       "      <td></td>\n",
       "      <td>inner</td>\n",
       "    </tr>\n",
       "  </tbody>\n",
       "</table>\n",
       "</div>"
      ],
      "text/plain": [
       "        page_id  page_part section_id2  title  lemma  inflected  pos   tag  \\\n",
       "25823     67995          0  unter_glex  unter  unter      False  NaN  ADJA   \n",
       "213892   379521          0   ober_glex   ober   ober      False  NaN  ADJA   \n",
       "457097   680245          0  äußer_glex  äußer  äußer      False  NaN  ADJA   \n",
       "457110   680259          0  inner_glex  inner  inner      False  NaN  ADJA   \n",
       "\n",
       "          member rhymes      score  \\\n",
       "25823   Adjektiv    NaN   8.894032   \n",
       "213892  Adjektiv    NaN   6.716200   \n",
       "457097  Adjektiv    NaN  11.130329   \n",
       "457110  Adjektiv    NaN  11.298417   \n",
       "\n",
       "                                                  flexion         ipa  \\\n",
       "25823                                                  {}      [ʊntɐ]   \n",
       "213892                                                 {}     [ˈoːbɐ]   \n",
       "457097  {'Positiv': ['äußer(er)'], 'Superlativ': ['äuß...  [ˈɔɪ̯səʁɐ]   \n",
       "457110  {'Positiv': ['inner(er)'], 'Superlativ': ['inn...      [ˈɪnɐ]   \n",
       "\n",
       "        syllables     lang lang_code error lemma_lower  \n",
       "25823   [un, ter]  Deutsch        de             unter  \n",
       "213892     [ober]  Deutsch        de              ober  \n",
       "457097        NaN  Deutsch        de             äußer  \n",
       "457110        NaN  Deutsch        de             inner  "
      ]
     },
     "execution_count": 60,
     "metadata": {},
     "output_type": "execute_result"
    },
    {
     "name": "stdout",
     "output_type": "stream",
     "text": [
      "time: 289 ms\n"
     ]
    }
   ],
   "source": [
    "# Gebundene Adjektiv-Lexeme in wiktionary\n",
    "suche = ['ober-','unter-','äußer-','inner-',]\n",
    "mask = wiktionary.section_id2.isin(suche)\n",
    "check_mask(wiktionary,mask,4,4)\n",
    "\n",
    "wiktionary.loc[mask,'title']       = wiktionary[mask].title.str.replace('-','')\n",
    "wiktionary.loc[mask,'lemma']       = wiktionary[mask].lemma.str.replace('-','')\n",
    "wiktionary.loc[mask,'lemma_lower'] = wiktionary[mask].lemma_lower.str.replace('-','')\n",
    "wiktionary.loc[mask,'member']      = 'Adjektiv'\n",
    "wiktionary.loc[mask,'tag']         = 'ADJA'\n",
    "wiktionary.loc[mask,'pos']         = {'Adjektiv': []}\n",
    "wiktionary.loc[mask,'section_id2'] = wiktionary[mask].section_id2.str.replace('-','_glex')\n",
    "wiktionary[mask]"
   ]
  },
  {
   "cell_type": "code",
   "execution_count": 61,
   "metadata": {},
   "outputs": [
    {
     "name": "stdout",
     "output_type": "stream",
     "text": [
      "check_mask:  80 rows\n",
      "time: 312 ms\n"
     ]
    }
   ],
   "source": [
    "# Gebundene Adjektiv-Lexeme in wiktionary_merkmal\n",
    "suche = ['ober-','unter-','äußer-','inner-',]\n",
    "mask = wiktionary_merkmal.section_id2.isin(suche)\n",
    "check_mask(wiktionary_merkmal,mask,80)\n",
    "wiktionary_merkmal.loc[mask,'section_id2'] = wiktionary_merkmal[mask].section_id2.str.replace('-','_glex')\n",
    "#wiktionary_merkmal[mask]"
   ]
  },
  {
   "cell_type": "code",
   "execution_count": 62,
   "metadata": {},
   "outputs": [
    {
     "name": "stdout",
     "output_type": "stream",
     "text": [
      "check_mask:  46 rows\n",
      "time: 108 ms\n"
     ]
    }
   ],
   "source": [
    "# Gebundene Adjektiv-Lexeme in wiktionary_merkmal_text\n",
    "suche = ['ober-','unter-','äußer-','inner-',]\n",
    "mask = wiktionary_merkmal_text.section_id2.isin(suche)\n",
    "check_mask(wiktionary_merkmal_text,mask,46)\n",
    "wiktionary_merkmal_text.loc[mask,'section_id2'] = wiktionary_merkmal_text[mask].section_id2.str.replace('-','_glex')\n",
    "#wiktionary_merkmal_text[mask]"
   ]
  },
  {
   "cell_type": "code",
   "execution_count": 63,
   "metadata": {},
   "outputs": [
    {
     "name": "stdout",
     "output_type": "stream",
     "text": [
      "check_mask:  36 rows\n",
      "time: 135 ms\n"
     ]
    }
   ],
   "source": [
    "# Gebundene Adjektiv-Lexeme in wiktionary\n",
    "suche = ['ober-','unter-','äußer-','inner-',]\n",
    "mask = wiktionary.lemma.isin(suche)\n",
    "check_mask(wiktionary,mask,36)\n",
    "\n",
    "wiktionary.loc[mask,'title']       = wiktionary[mask].title.str.replace('-','')\n",
    "wiktionary.loc[mask,'lemma']       = wiktionary[mask].lemma.str.replace('-','')\n",
    "wiktionary.loc[mask,'lemma_lower'] = wiktionary[mask].lemma_lower.str.replace('-','')\n",
    "#grid(wiktionary,mask)"
   ]
  },
  {
   "cell_type": "code",
   "execution_count": 64,
   "metadata": {},
   "outputs": [
    {
     "name": "stdout",
     "output_type": "stream",
     "text": [
      "check_mask:  1 rows\n"
     ]
    },
    {
     "data": {
      "text/html": [
       "<div>\n",
       "<style scoped>\n",
       "    .dataframe tbody tr th:only-of-type {\n",
       "        vertical-align: middle;\n",
       "    }\n",
       "\n",
       "    .dataframe tbody tr th {\n",
       "        vertical-align: top;\n",
       "    }\n",
       "\n",
       "    .dataframe thead th {\n",
       "        text-align: right;\n",
       "    }\n",
       "</style>\n",
       "<table border=\"1\" class=\"dataframe\">\n",
       "  <thead>\n",
       "    <tr style=\"text-align: right;\">\n",
       "      <th></th>\n",
       "      <th>section_id2</th>\n",
       "      <th>merkmal</th>\n",
       "      <th>node_debug</th>\n",
       "      <th>node_kontext</th>\n",
       "      <th>data</th>\n",
       "      <th>num</th>\n",
       "      <th>meta</th>\n",
       "    </tr>\n",
       "  </thead>\n",
       "  <tbody>\n",
       "    <tr>\n",
       "      <th>643279</th>\n",
       "      <td>unter-_1</td>\n",
       "      <td>übersicht</td>\n",
       "      <td>Deutsch Adjektiv Übersicht</td>\n",
       "      <td>Positiv</td>\n",
       "      <td>unter</td>\n",
       "      <td></td>\n",
       "      <td>&lt;NA&gt;</td>\n",
       "    </tr>\n",
       "  </tbody>\n",
       "</table>\n",
       "</div>"
      ],
      "text/plain": [
       "       section_id2    merkmal                   node_debug node_kontext  \\\n",
       "643279    unter-_1  übersicht  Deutsch Adjektiv Übersicht\n",
       "      Positiv   \n",
       "\n",
       "         data num  meta  \n",
       "643279  unter      <NA>  "
      ]
     },
     "execution_count": 64,
     "metadata": {},
     "output_type": "execute_result"
    },
    {
     "name": "stdout",
     "output_type": "stream",
     "text": [
      "time: 394 ms\n"
     ]
    }
   ],
   "source": [
    "# Gebundene Adjektiv-Lexeme in wiktionary_merkmal\n",
    "suche = ['ober-','unter-','äußer-','inner-',]\n",
    "mask = wiktionary_merkmal.data.isin(suche)\n",
    "check_mask(wiktionary_merkmal,mask,0,10)\n",
    "wiktionary_merkmal.loc[mask,'data'] = wiktionary_merkmal[mask].data.str.replace('-','')\n",
    "wiktionary_merkmal[mask]"
   ]
  },
  {
   "cell_type": "code",
   "execution_count": 65,
   "metadata": {},
   "outputs": [
    {
     "name": "stdout",
     "output_type": "stream",
     "text": [
      "check_mask:  547 rows\n",
      "time: 1.37 s\n"
     ]
    }
   ],
   "source": [
    "# AFIX 588\n",
    "mask0 = ~wiktionary.lemma.str.startswith('-')   \n",
    "mask1 =  wiktionary.lemma.str.endswith('-')  \n",
    "mask2 = ~wiktionary.lemma.str[0].str.isdigit()\n",
    "mask3 =  wiktionary.lemma.str.len() > 1\n",
    "mask4 = ~wiktionary.tag.str.contains(' ')   \n",
    "mask = mask0  &  mask1  &  mask2  &  mask3  &  mask4 \n",
    "pak.check_mask(wiktionary, mask, 0, 700)\n",
    "#grid(wiktionary, mask)\n",
    "#pak.analyse_freqs(wiktionary[mask], 'tag')\n",
    "wiktionary.loc[ mask, 'tag'] = 'AFIX ' + wiktionary[mask].tag"
   ]
  },
  {
   "cell_type": "code",
   "execution_count": 66,
   "metadata": {},
   "outputs": [
    {
     "name": "stdout",
     "output_type": "stream",
     "text": [
      "check_mask:  473 rows\n",
      "time: 1.37 s\n"
     ]
    }
   ],
   "source": [
    "# ZFIX\n",
    "mask0 =  wiktionary.lemma.str.startswith('-')\n",
    "mask1 = ~wiktionary.lemma.str.endswith('-')\n",
    "mask2 = ~wiktionary.lemma.str[-1].str.isdigit()\n",
    "mask3 =  wiktionary.lemma.str.len() > 1\n",
    "mask4 = ~wiktionary.tag.str.contains(' ')   \n",
    "mask = mask0  &  mask1  &  mask2  &  mask3  &  mask4 \n",
    "pak.check_mask(wiktionary, mask, 0, 600)\n",
    "#grid(wiktionary, mask)\n",
    "#pak.analyse_freqs(wiktionary[mask], 'tag')\n",
    "wiktionary.loc[ mask, 'tag'] = 'ZFIX ' + wiktionary[mask].tag"
   ]
  },
  {
   "cell_type": "code",
   "execution_count": 67,
   "metadata": {},
   "outputs": [
    {
     "name": "stdout",
     "output_type": "stream",
     "text": [
      "check_mask:  4 rows\n",
      "Move 4 rows from 806577\n",
      "time: 1.69 s\n"
     ]
    }
   ],
   "source": [
    "# MFIX >> löschen\n",
    "mask0 =  wiktionary.lemma.str.startswith('-')\n",
    "mask1 =  wiktionary.lemma.str.endswith('-') \n",
    "mask2 =  wiktionary.lemma.str.len() > 2\n",
    "mask3 = ~wiktionary.tag.str.contains(' ')   \n",
    "mask = mask0  &  mask1  &  mask2  &  mask3\n",
    "check_mask(wiktionary, mask, 0, 4)\n",
    "#grid(wiktionary, mask)\n",
    "#analyse_freqs(wiktionary[mask], 'tag')\n",
    "wiktionary, wiktionary_trash = pak.move_rows(df_from=wiktionary, df_to=wiktionary_trash, mask=mask, msg='MFIX') "
   ]
  },
  {
   "cell_type": "markdown",
   "metadata": {},
   "source": [
    "## wiktionary Einzelkorrekturen"
   ]
  },
  {
   "cell_type": "code",
   "execution_count": 68,
   "metadata": {},
   "outputs": [
    {
     "name": "stdout",
     "output_type": "stream",
     "text": [
      "No rows, mask filters them all away\n",
      "time: 323 ms\n"
     ]
    }
   ],
   "source": [
    "# Beispiele anzeigen\n",
    "mask = wiktionary.member.str.contains('VMaßeinheiten')\n",
    "grid(wiktionary,mask, color=None)"
   ]
  },
  {
   "cell_type": "code",
   "execution_count": 69,
   "metadata": {},
   "outputs": [
    {
     "name": "stdout",
     "output_type": "stream",
     "text": [
      "68 rows\n"
     ]
    },
    {
     "data": {
      "text/html": [
       "\n",
       "        <iframe\n",
       "            width=\"100%\"\n",
       "            height=\"475\"\n",
       "            src=\"http://pop-os:40000/dtale/iframe/14\"\n",
       "            frameborder=\"0\"\n",
       "            allowfullscreen\n",
       "            \n",
       "        ></iframe>\n",
       "        "
      ],
      "text/plain": [
       "<IPython.lib.display.IFrame at 0x7f103e63b310>"
      ]
     },
     "metadata": {},
     "output_type": "display_data"
    },
    {
     "data": {
      "text/plain": []
     },
     "execution_count": 69,
     "metadata": {},
     "output_type": "execute_result"
    },
    {
     "name": "stdout",
     "output_type": "stream",
     "text": [
      "time: 5.51 s\n"
     ]
    }
   ],
   "source": [
    "# anschauen\n",
    "a = pak.analyse_freqs( wiktionary, ['member', 'tag'], splits=[' ',None])\n",
    "grid(a)"
   ]
  },
  {
   "cell_type": "code",
   "execution_count": 70,
   "metadata": {},
   "outputs": [
    {
     "name": "stdout",
     "output_type": "stream",
     "text": [
      "time: 465 ms\n"
     ]
    }
   ],
   "source": [
    "# Einzelkorrekturen        \n",
    "einzelkorrekturen = { 'viel'        : 'ADJA PIAT',  # war: ADJA ADV PIAT CARD\n",
    "                      'zig'         : 'ADJA',\n",
    "                      'bis'         : 'KOUS APPR',      \n",
    "                      'derentwegen' : 'PDAT PRELAT',\n",
    "                      'Fachleute'   : 'NN',\n",
    "                      'Rheinland'   : 'NE',                 \n",
    "}\n",
    "for i,t in einzelkorrekturen.items():\n",
    "    mask = (wiktionary.section_id2 == i)\n",
    "    wiktionary.loc[mask,'tag'] = t"
   ]
  },
  {
   "cell_type": "code",
   "execution_count": 71,
   "metadata": {},
   "outputs": [
    {
     "name": "stdout",
     "output_type": "stream",
     "text": [
      "time: 29.9 s\n"
     ]
    }
   ],
   "source": [
    "# pflege_tag_felder (schreibe tagZZ usw.)\n",
    "wiktionary = pflege_tag_felder(wiktionary, translate_tagZ)"
   ]
  },
  {
   "cell_type": "markdown",
   "metadata": {},
   "source": [
    "## named_entities"
   ]
  },
  {
   "cell_type": "code",
   "execution_count": 72,
   "metadata": {},
   "outputs": [
    {
     "name": "stdout",
     "output_type": "stream",
     "text": [
      "4544 rows loaded\n",
      "time: 875 ms\n"
     ]
    }
   ],
   "source": [
    "# laden\n",
    "named_entities = pak.load_excel(named_entities_filename, tabcol='quelle')"
   ]
  },
  {
   "cell_type": "code",
   "execution_count": 73,
   "metadata": {},
   "outputs": [
    {
     "name": "stdout",
     "output_type": "stream",
     "text": [
      "3 rows\n"
     ]
    },
    {
     "data": {
      "text/html": [
       "\n",
       "        <iframe\n",
       "            width=\"100%\"\n",
       "            height=\"475\"\n",
       "            src=\"http://pop-os:40000/dtale/iframe/15\"\n",
       "            frameborder=\"0\"\n",
       "            allowfullscreen\n",
       "            \n",
       "        ></iframe>\n",
       "        "
      ],
      "text/plain": [
       "<IPython.lib.display.IFrame at 0x7f103e3f70d0>"
      ]
     },
     "metadata": {},
     "output_type": "display_data"
    },
    {
     "data": {
      "text/plain": []
     },
     "execution_count": 73,
     "metadata": {},
     "output_type": "execute_result"
    },
    {
     "name": "stdout",
     "output_type": "stream",
     "text": [
      "time: 177 ms\n"
     ]
    }
   ],
   "source": [
    "# Überblick\n",
    "a = pak.analyse_freqs(named_entities, cols=['quelle','member','lemma'], splits=[None,' '])\n",
    "grid(a)"
   ]
  },
  {
   "cell_type": "code",
   "execution_count": 74,
   "metadata": {},
   "outputs": [
    {
     "name": "stdout",
     "output_type": "stream",
     "text": [
      "time: 104 ms\n"
     ]
    }
   ],
   "source": [
    "# Felder ergänzen\n",
    "named_entities['title']       = named_entities.lemma\n",
    "named_entities['lemma_lower'] = named_entities.lemma.str.lower() \n",
    "named_entities = pak.move_cols( named_entities, 'lemma_lower','lemma')"
   ]
  },
  {
   "cell_type": "code",
   "execution_count": 75,
   "metadata": {},
   "outputs": [
    {
     "name": "stdout",
     "output_type": "stream",
     "text": [
      "time: 116 ms\n"
     ]
    }
   ],
   "source": [
    "# section_id2\n",
    "named_entities['section_id2'] = named_entities.lemma + '_' + named_entities.quelle.str[0].str.upper().copy()\n",
    "named_entities['section_id2'] = named_entities.section_id2.str.replace(' ','_').copy()\n",
    "named_entities = pak.move_cols(named_entities, ['section_id2','title'])"
   ]
  },
  {
   "cell_type": "code",
   "execution_count": 76,
   "metadata": {},
   "outputs": [
    {
     "name": "stdout",
     "output_type": "stream",
     "text": [
      "update_col: col_score score applied, 2213 records less!\n",
      "update_col: 1242 cells written into existing column\n",
      "time: 991 ms\n"
     ]
    }
   ],
   "source": [
    "# Bekannte section_id2 aus wiktionary übertragen. Aber nur wenn der tag wirklich gleich ist.\n",
    "mask = (wiktionary.lemma == wiktionary.title)  # wichtig\n",
    "named_entities = pak.update_col(named_entities, wiktionary[mask], on=['lemma_lower','tag'], col='section_id2',  col_score='score' )"
   ]
  },
  {
   "cell_type": "code",
   "execution_count": 77,
   "metadata": {},
   "outputs": [
    {
     "name": "stdout",
     "output_type": "stream",
     "text": [
      "time: 42.5 ms\n"
     ]
    }
   ],
   "source": [
    "# drop_cols\n",
    "named_entities = pak.drop_cols(named_entities,['sex_f', 'sex_m', 'Land', 'Stadt','quelle'])"
   ]
  },
  {
   "cell_type": "code",
   "execution_count": 78,
   "metadata": {},
   "outputs": [
    {
     "name": "stdout",
     "output_type": "stream",
     "text": [
      "time: 48.2 ms\n"
     ]
    }
   ],
   "source": [
    "# score erhöhen\n",
    "named_entities.score += 1.0\n",
    "named_entities.score *= 2.0"
   ]
  },
  {
   "cell_type": "code",
   "execution_count": 79,
   "metadata": {},
   "outputs": [
    {
     "name": "stdout",
     "output_type": "stream",
     "text": [
      "7 rows out of 4544\n"
     ]
    },
    {
     "data": {
      "text/html": [
       "\n",
       "        <iframe\n",
       "            width=\"100%\"\n",
       "            height=\"475\"\n",
       "            src=\"http://pop-os:40000/dtale/iframe/16\"\n",
       "            frameborder=\"0\"\n",
       "            allowfullscreen\n",
       "            \n",
       "        ></iframe>\n",
       "        "
      ],
      "text/plain": [
       "<IPython.lib.display.IFrame at 0x7f103e4afb20>"
      ]
     },
     "metadata": {},
     "output_type": "display_data"
    },
    {
     "data": {
      "text/plain": []
     },
     "execution_count": 79,
     "metadata": {},
     "output_type": "execute_result"
    },
    {
     "name": "stdout",
     "output_type": "stream",
     "text": [
      "time: 287 ms\n"
     ]
    }
   ],
   "source": [
    "grid(named_entities, pak.sample)"
   ]
  },
  {
   "cell_type": "code",
   "execution_count": 80,
   "metadata": {},
   "outputs": [
    {
     "name": "stdout",
     "output_type": "stream",
     "text": [
      "check_mask:  0 rows\n",
      "time: 79 ms\n"
     ]
    }
   ],
   "source": [
    "# Dups?\n",
    "mask = named_entities.section_id2.duplicated()\n",
    "check_mask(named_entities,mask,0,0)"
   ]
  },
  {
   "cell_type": "code",
   "execution_count": 81,
   "metadata": {},
   "outputs": [
    {
     "name": "stdout",
     "output_type": "stream",
     "text": [
      "time: 100 ms\n"
     ]
    },
    {
     "data": {
      "text/plain": [
       "\u001b[0;31mSignature:\u001b[0m\n",
       "\u001b[0mpak\u001b[0m\u001b[0;34m.\u001b[0m\u001b[0mcols_to_dict\u001b[0m\u001b[0;34m(\u001b[0m\u001b[0;34m\u001b[0m\n",
       "\u001b[0;34m\u001b[0m    \u001b[0mdf\u001b[0m\u001b[0;34m,\u001b[0m\u001b[0;34m\u001b[0m\n",
       "\u001b[0;34m\u001b[0m    \u001b[0mcol_dict\u001b[0m\u001b[0;34m=\u001b[0m\u001b[0;34m''\u001b[0m\u001b[0;34m,\u001b[0m\u001b[0;34m\u001b[0m\n",
       "\u001b[0;34m\u001b[0m    \u001b[0mcols_add\u001b[0m\u001b[0;34m=\u001b[0m\u001b[0;34m[\u001b[0m\u001b[0;34m]\u001b[0m\u001b[0;34m,\u001b[0m\u001b[0;34m\u001b[0m\n",
       "\u001b[0;34m\u001b[0m    \u001b[0muse_defaultdict\u001b[0m\u001b[0;34m=\u001b[0m\u001b[0;32mFalse\u001b[0m\u001b[0;34m,\u001b[0m\u001b[0;34m\u001b[0m\n",
       "\u001b[0;34m\u001b[0m    \u001b[0mdrop\u001b[0m\u001b[0;34m=\u001b[0m\u001b[0;32mTrue\u001b[0m\u001b[0;34m,\u001b[0m\u001b[0;34m\u001b[0m\n",
       "\u001b[0;34m\u001b[0m\u001b[0;34m)\u001b[0m\u001b[0;34m\u001b[0m\u001b[0;34m\u001b[0m\u001b[0m\n",
       "\u001b[0;31mDocstring:\u001b[0m\n",
       "Moves columns into a dict or defaultdict.\n",
       "This is \n",
       "* col_dict:         name of the target column. Can be empty, but may already contain a dict or defaultdict. \n",
       "* cols_add:         Columns to be packed.\n",
       "* use_defaultdict:  Should a defaultdict be used as data structure? Otherwise keys can only occur once.\n",
       "* drop:             Should the packed columns be dropped (>> move) or not (>> copy)?\n",
       "\u001b[0;31mFile:\u001b[0m      ~/mambaforge/envs/python_06/lib/python3.9/site-packages/pandasklar/aggregate.py\n",
       "\u001b[0;31mType:\u001b[0m      function\n"
      ]
     },
     "metadata": {},
     "output_type": "display_data"
    }
   ],
   "source": [
    "?pak.cols_to_dict"
   ]
  },
  {
   "cell_type": "code",
   "execution_count": 82,
   "metadata": {},
   "outputs": [
    {
     "data": {
      "text/html": [
       "<div>\n",
       "<style scoped>\n",
       "    .dataframe tbody tr th:only-of-type {\n",
       "        vertical-align: middle;\n",
       "    }\n",
       "\n",
       "    .dataframe tbody tr th {\n",
       "        vertical-align: top;\n",
       "    }\n",
       "\n",
       "    .dataframe thead th {\n",
       "        text-align: right;\n",
       "    }\n",
       "</style>\n",
       "<table border=\"1\" class=\"dataframe\">\n",
       "  <thead>\n",
       "    <tr style=\"text-align: right;\">\n",
       "      <th></th>\n",
       "      <th>section_id2</th>\n",
       "      <th>title</th>\n",
       "      <th>lemma</th>\n",
       "      <th>lemma_lower</th>\n",
       "      <th>tag</th>\n",
       "      <th>member</th>\n",
       "      <th>score</th>\n",
       "      <th>flexion</th>\n",
       "    </tr>\n",
       "  </thead>\n",
       "  <tbody>\n",
       "    <tr>\n",
       "      <th>0</th>\n",
       "      <td>Hagen</td>\n",
       "      <td>Hagen</td>\n",
       "      <td>Hagen</td>\n",
       "      <td>hagen</td>\n",
       "      <td>NE</td>\n",
       "      <td>Vorname Nachname</td>\n",
       "      <td>2.989899</td>\n",
       "      <td>{'Genus': ['m'], 'Nom Sg': ['Hagen'], 'Gen Sg'...</td>\n",
       "    </tr>\n",
       "    <tr>\n",
       "      <th>1</th>\n",
       "      <td>Jordan</td>\n",
       "      <td>Jordan</td>\n",
       "      <td>Jordan</td>\n",
       "      <td>jordan</td>\n",
       "      <td>NE</td>\n",
       "      <td>Vorname Nachname</td>\n",
       "      <td>2.989899</td>\n",
       "      <td>{'Genus': ['m'], 'Nom Sg': ['Jordan'], 'Gen Sg...</td>\n",
       "    </tr>\n",
       "    <tr>\n",
       "      <th>2</th>\n",
       "      <td>Menzel_V</td>\n",
       "      <td>Menzel</td>\n",
       "      <td>Menzel</td>\n",
       "      <td>menzel</td>\n",
       "      <td>NE</td>\n",
       "      <td>Vorname Nachname</td>\n",
       "      <td>2.989899</td>\n",
       "      <td>{'Genus': ['m'], 'Nom Sg': ['Menzel'], 'Gen Sg...</td>\n",
       "    </tr>\n",
       "    <tr>\n",
       "      <th>3</th>\n",
       "      <td>Oswald_V</td>\n",
       "      <td>Oswald</td>\n",
       "      <td>Oswald</td>\n",
       "      <td>oswald</td>\n",
       "      <td>NE</td>\n",
       "      <td>Vorname Nachname</td>\n",
       "      <td>2.989899</td>\n",
       "      <td>{'Genus': ['m'], 'Nom Sg': ['Oswald'], 'Gen Sg...</td>\n",
       "    </tr>\n",
       "    <tr>\n",
       "      <th>4</th>\n",
       "      <td>Reinhardt_V</td>\n",
       "      <td>Reinhardt</td>\n",
       "      <td>Reinhardt</td>\n",
       "      <td>reinhardt</td>\n",
       "      <td>NE</td>\n",
       "      <td>Vorname Nachname</td>\n",
       "      <td>2.989899</td>\n",
       "      <td>{'Genus': ['m'], 'Nom Sg': ['Reinhardt'], 'Gen...</td>\n",
       "    </tr>\n",
       "    <tr>\n",
       "      <th>...</th>\n",
       "      <td>...</td>\n",
       "      <td>...</td>\n",
       "      <td>...</td>\n",
       "      <td>...</td>\n",
       "      <td>...</td>\n",
       "      <td>...</td>\n",
       "      <td>...</td>\n",
       "      <td>...</td>\n",
       "    </tr>\n",
       "    <tr>\n",
       "      <th>4539</th>\n",
       "      <td>Wolff</td>\n",
       "      <td>Wolff</td>\n",
       "      <td>Wolff</td>\n",
       "      <td>wolff</td>\n",
       "      <td>NE</td>\n",
       "      <td>Nachname</td>\n",
       "      <td>2.989899</td>\n",
       "      <td>{'Nom Sg': ['Wolff'], 'Gen Sg': ['Wolffs']}</td>\n",
       "    </tr>\n",
       "    <tr>\n",
       "      <th>4540</th>\n",
       "      <td>Wolter_N</td>\n",
       "      <td>Wolter</td>\n",
       "      <td>Wolter</td>\n",
       "      <td>wolter</td>\n",
       "      <td>NE</td>\n",
       "      <td>Nachname</td>\n",
       "      <td>2.989899</td>\n",
       "      <td>{'Nom Sg': ['Wolter'], 'Gen Sg': ['Wolters']}</td>\n",
       "    </tr>\n",
       "    <tr>\n",
       "      <th>4541</th>\n",
       "      <td>Zander_2</td>\n",
       "      <td>Zander</td>\n",
       "      <td>Zander</td>\n",
       "      <td>zander</td>\n",
       "      <td>NE</td>\n",
       "      <td>Nachname</td>\n",
       "      <td>2.989899</td>\n",
       "      <td>{'Nom Sg': ['Zander'], 'Gen Sg': ['Zanders']}</td>\n",
       "    </tr>\n",
       "    <tr>\n",
       "      <th>4542</th>\n",
       "      <td>Zeller_N</td>\n",
       "      <td>Zeller</td>\n",
       "      <td>Zeller</td>\n",
       "      <td>zeller</td>\n",
       "      <td>NE</td>\n",
       "      <td>Nachname</td>\n",
       "      <td>2.989899</td>\n",
       "      <td>{'Nom Sg': ['Zeller'], 'Gen Sg': ['Zellers']}</td>\n",
       "    </tr>\n",
       "    <tr>\n",
       "      <th>4543</th>\n",
       "      <td>Ziegler</td>\n",
       "      <td>Ziegler</td>\n",
       "      <td>Ziegler</td>\n",
       "      <td>ziegler</td>\n",
       "      <td>NE</td>\n",
       "      <td>Nachname</td>\n",
       "      <td>2.989899</td>\n",
       "      <td>{'Nom Sg': ['Ziegler'], 'Gen Sg': ['Zieglers']}</td>\n",
       "    </tr>\n",
       "  </tbody>\n",
       "</table>\n",
       "<p>4544 rows × 8 columns</p>\n",
       "</div>"
      ],
      "text/plain": [
       "      section_id2      title      lemma lemma_lower tag            member  \\\n",
       "0           Hagen      Hagen      Hagen       hagen  NE  Vorname Nachname   \n",
       "1          Jordan     Jordan     Jordan      jordan  NE  Vorname Nachname   \n",
       "2        Menzel_V     Menzel     Menzel      menzel  NE  Vorname Nachname   \n",
       "3        Oswald_V     Oswald     Oswald      oswald  NE  Vorname Nachname   \n",
       "4     Reinhardt_V  Reinhardt  Reinhardt   reinhardt  NE  Vorname Nachname   \n",
       "...           ...        ...        ...         ...  ..               ...   \n",
       "4539        Wolff      Wolff      Wolff       wolff  NE          Nachname   \n",
       "4540     Wolter_N     Wolter     Wolter      wolter  NE          Nachname   \n",
       "4541     Zander_2     Zander     Zander      zander  NE          Nachname   \n",
       "4542     Zeller_N     Zeller     Zeller      zeller  NE          Nachname   \n",
       "4543      Ziegler    Ziegler    Ziegler     ziegler  NE          Nachname   \n",
       "\n",
       "         score                                            flexion  \n",
       "0     2.989899  {'Genus': ['m'], 'Nom Sg': ['Hagen'], 'Gen Sg'...  \n",
       "1     2.989899  {'Genus': ['m'], 'Nom Sg': ['Jordan'], 'Gen Sg...  \n",
       "2     2.989899  {'Genus': ['m'], 'Nom Sg': ['Menzel'], 'Gen Sg...  \n",
       "3     2.989899  {'Genus': ['m'], 'Nom Sg': ['Oswald'], 'Gen Sg...  \n",
       "4     2.989899  {'Genus': ['m'], 'Nom Sg': ['Reinhardt'], 'Gen...  \n",
       "...        ...                                                ...  \n",
       "4539  2.989899        {'Nom Sg': ['Wolff'], 'Gen Sg': ['Wolffs']}  \n",
       "4540  2.989899      {'Nom Sg': ['Wolter'], 'Gen Sg': ['Wolters']}  \n",
       "4541  2.989899      {'Nom Sg': ['Zander'], 'Gen Sg': ['Zanders']}  \n",
       "4542  2.989899      {'Nom Sg': ['Zeller'], 'Gen Sg': ['Zellers']}  \n",
       "4543  2.989899    {'Nom Sg': ['Ziegler'], 'Gen Sg': ['Zieglers']}  \n",
       "\n",
       "[4544 rows x 8 columns]"
      ]
     },
     "execution_count": 82,
     "metadata": {},
     "output_type": "execute_result"
    },
    {
     "name": "stdout",
     "output_type": "stream",
     "text": [
      "time: 2.98 s\n"
     ]
    }
   ],
   "source": [
    "named_entities = pak.cols_to_dict(named_entities,col_dict='flexion',cols_add=['Genus','Nom Sg','Gen Sg',], use_defaultdict=True)\n",
    "named_entities"
   ]
  },
  {
   "cell_type": "code",
   "execution_count": 83,
   "metadata": {},
   "outputs": [
    {
     "name": "stdout",
     "output_type": "stream",
     "text": [
      "5 rows out of 4544\n"
     ]
    },
    {
     "data": {
      "text/html": [
       "\n",
       "        <iframe\n",
       "            width=\"100%\"\n",
       "            height=\"475\"\n",
       "            src=\"http://pop-os:40000/dtale/iframe/17\"\n",
       "            frameborder=\"0\"\n",
       "            allowfullscreen\n",
       "            \n",
       "        ></iframe>\n",
       "        "
      ],
      "text/plain": [
       "<IPython.lib.display.IFrame at 0x7f103e66f310>"
      ]
     },
     "metadata": {},
     "output_type": "display_data"
    },
    {
     "data": {
      "text/plain": []
     },
     "execution_count": 83,
     "metadata": {},
     "output_type": "execute_result"
    },
    {
     "name": "stdout",
     "output_type": "stream",
     "text": [
      "time: 368 ms\n"
     ]
    }
   ],
   "source": [
    "grid(named_entities, pak.sample)"
   ]
  },
  {
   "cell_type": "code",
   "execution_count": 84,
   "metadata": {},
   "outputs": [
    {
     "name": "stdout",
     "output_type": "stream",
     "text": [
      "4544 rows added, now a total of 811117\n",
      "time: 948 ms\n"
     ]
    }
   ],
   "source": [
    "# anfügen\n",
    "wiktionary = pak.add_rows(wiktionary, named_entities, assert_subset=True)"
   ]
  },
  {
   "cell_type": "code",
   "execution_count": 85,
   "metadata": {
    "tags": []
   },
   "outputs": [
    {
     "name": "stdout",
     "output_type": "stream",
     "text": [
      "time: 327 ms\n"
     ]
    }
   ],
   "source": [
    "# flexion type korrekt?\n",
    "assert pak.ntypes(wiktionary.flexion) == 1"
   ]
  },
  {
   "cell_type": "code",
   "execution_count": 86,
   "metadata": {},
   "outputs": [
    {
     "name": "stdout",
     "output_type": "stream",
     "text": [
      "3 rows\n"
     ]
    },
    {
     "data": {
      "text/html": [
       "\n",
       "        <iframe\n",
       "            width=\"100%\"\n",
       "            height=\"475\"\n",
       "            src=\"http://pop-os:40000/dtale/iframe/18\"\n",
       "            frameborder=\"0\"\n",
       "            allowfullscreen\n",
       "            \n",
       "        ></iframe>\n",
       "        "
      ],
      "text/plain": [
       "<IPython.lib.display.IFrame at 0x7f103f466d60>"
      ]
     },
     "metadata": {},
     "output_type": "display_data"
    },
    {
     "data": {
      "text/plain": []
     },
     "execution_count": 86,
     "metadata": {},
     "output_type": "execute_result"
    },
    {
     "name": "stdout",
     "output_type": "stream",
     "text": [
      "time: 649 ms\n"
     ]
    }
   ],
   "source": [
    "# wiktionary anschauen\n",
    "mask = wiktionary.title.isin(suche_debug) \n",
    "r = wiktionary[mask].sort_values(['title','section_id2'])\n",
    "grid(r)"
   ]
  },
  {
   "cell_type": "markdown",
   "metadata": {},
   "source": [
    "## Zahlwörter"
   ]
  },
  {
   "cell_type": "code",
   "execution_count": 87,
   "metadata": {},
   "outputs": [
    {
     "name": "stdout",
     "output_type": "stream",
     "text": [
      "time: 64.7 ms\n"
     ]
    }
   ],
   "source": [
    "# Wandelt eine Zahl in Worte um\n",
    "def zahl_in_worten(n, s=True, z=False):\n",
    "    \n",
    "    w1 = \"null ein zwei drei vier fünf sechs sieben acht neun zehn elf zwölf dreizehn vierzehn fünfzehn sechzehn siebzehn achtzehn neunzehn\".split()\n",
    "    w2 = \"zwanzig dreißig vierzig fünfzig sechzig siebzig achtzig neunzig\".split()    \n",
    "    if n < 0: raise ValueError\n",
    "    if n == 0 and z: return \"\"\n",
    "    if n == 1 and s: return \"eins\"\n",
    "    if n < 20: return w1[n]\n",
    "    if n < 100:\n",
    "        w = w2[(n - 20) // 10]\n",
    "        if n % 10:\n",
    "            w = w1[n % 10] + \"und\" + w\n",
    "        return w\n",
    "    if n < 1000:\n",
    "        return w1[n // 100] + \"hundert\" + zahl_in_worten(n % 100, z=True)\n",
    "    if n < 1000000:\n",
    "        return zahl_in_worten(n // 1000, s=False) + \"tausend\" + zahl_in_worten(n % 1000, z=True)\n",
    "    raise ValueError"
   ]
  },
  {
   "cell_type": "code",
   "execution_count": 88,
   "metadata": {},
   "outputs": [
    {
     "name": "stdout",
     "output_type": "stream",
     "text": [
      "dreitausendeinhundertsieben\n",
      "time: 71.7 ms\n"
     ]
    }
   ],
   "source": [
    "print(zahl_in_worten(3107))"
   ]
  },
  {
   "cell_type": "code",
   "execution_count": 89,
   "metadata": {},
   "outputs": [
    {
     "data": {
      "text/plain": [
       "[{'lex': ['null', '0'], 'lemma': 'null', 'def': '0'},\n",
       " {'lex': ['zehn', '10'], 'lemma': 'zehn', 'def': '10'}]"
      ]
     },
     "execution_count": 89,
     "metadata": {},
     "output_type": "execute_result"
    },
    {
     "name": "stdout",
     "output_type": "stream",
     "text": [
      "time: 48.6 ms\n"
     ]
    }
   ],
   "source": [
    "def zahlwörter_liste(range_): \n",
    "    return [ \n",
    "    {'lex' : [zahl_in_worten(z), str(z)], \n",
    "     'lemma' : zahl_in_worten(z),      \n",
    "     'def'   : str(z),\n",
    "    } for z in range_]\n",
    "\n",
    "zahlwörter_liste(range(0,20,10))"
   ]
  },
  {
   "cell_type": "code",
   "execution_count": 90,
   "metadata": {},
   "outputs": [
    {
     "name": "stdout",
     "output_type": "stream",
     "text": [
      "time: 50.7 ms\n"
     ]
    }
   ],
   "source": [
    "# 0..99 zahlwörter_a erzeugen\n",
    "range_ = range(0,100)\n",
    "zahlwörter_a = pd.DataFrame(zahlwörter_liste( range_ ))\n",
    "#zahlwörter_a"
   ]
  },
  {
   "cell_type": "code",
   "execution_count": 91,
   "metadata": {},
   "outputs": [
    {
     "name": "stdout",
     "output_type": "stream",
     "text": [
      "time: 54.2 ms\n"
     ]
    }
   ],
   "source": [
    "# Hunderter Zahlwörter erzeugen\n",
    "range_ = range(100,1000,100)\n",
    "zahlwörter_b = pd.DataFrame(zahlwörter_liste( range_ ))\n",
    "#zahlwörter_b"
   ]
  },
  {
   "cell_type": "code",
   "execution_count": 92,
   "metadata": {},
   "outputs": [
    {
     "name": "stdout",
     "output_type": "stream",
     "text": [
      "time: 48.8 ms\n"
     ]
    }
   ],
   "source": [
    "# Tausender Zahlwörter erzeugen\n",
    "range_ = range(1000,99001,1000)\n",
    "zahlwörter_c = pd.DataFrame(zahlwörter_liste( range_ ))\n",
    "#zahlwörter_c"
   ]
  },
  {
   "cell_type": "code",
   "execution_count": 93,
   "metadata": {},
   "outputs": [
    {
     "name": "stdout",
     "output_type": "stream",
     "text": [
      "time: 33.3 ms\n"
     ]
    }
   ],
   "source": [
    "# Zehntausender Zahlwörter erzeugen\n",
    "range_ = range(10000,99001,10000)\n",
    "zahlwörter_d = pd.DataFrame(zahlwörter_liste( range_ ))\n",
    "#zahlwörter_d"
   ]
  },
  {
   "cell_type": "code",
   "execution_count": 94,
   "metadata": {},
   "outputs": [
    {
     "name": "stdout",
     "output_type": "stream",
     "text": [
      "time: 37.8 ms\n"
     ]
    }
   ],
   "source": [
    "# Hunderttausender Zahlwörter erzeugen\n",
    "range_ = range(100000,990001,100000)\n",
    "zahlwörter_e = pd.DataFrame(zahlwörter_liste( range_ ))\n",
    "#zahlwörter_e"
   ]
  },
  {
   "cell_type": "code",
   "execution_count": 95,
   "metadata": {},
   "outputs": [
    {
     "name": "stdout",
     "output_type": "stream",
     "text": [
      "time: 38.7 ms\n"
     ]
    }
   ],
   "source": [
    "# concat\n",
    "zahlwörter_all = pd.concat([  zahlwörter_a, zahlwörter_b, zahlwörter_c, zahlwörter_d, zahlwörter_e,  ])"
   ]
  },
  {
   "cell_type": "code",
   "execution_count": 96,
   "metadata": {},
   "outputs": [
    {
     "name": "stdout",
     "output_type": "stream",
     "text": [
      "time: 49 ms\n"
     ]
    }
   ],
   "source": [
    "# explode lex\n",
    "zahlwörter_all = zahlwörter_all.explode('lex')"
   ]
  },
  {
   "cell_type": "code",
   "execution_count": 97,
   "metadata": {},
   "outputs": [
    {
     "name": "stdout",
     "output_type": "stream",
     "text": [
      "time: 46.1 ms\n"
     ]
    }
   ],
   "source": [
    "# Sonstige Spalten\n",
    "zahlwörter_all['tag']         = 'CARD'\n",
    "zahlwörter_all['tag_lex']     = 'lex' # ja\n",
    "zahlwörter_all['genus']       = 'f'\n",
    "zahlwörter_all['member']      = 'Zahlwort'\n",
    "zahlwörter_all['tab']         = 'Zahlwort' # Wird später wieder gelöscht, dient der Kompatibilität zu lexeme_manuell"
   ]
  },
  {
   "cell_type": "code",
   "execution_count": 98,
   "metadata": {},
   "outputs": [
    {
     "name": "stdout",
     "output_type": "stream",
     "text": [
      "226 rows added, now a total of 678\n",
      "time: 48.1 ms\n"
     ]
    }
   ],
   "source": [
    "# Substantive ergänzen\n",
    "mask = zahlwörter_all.lex == zahlwörter_all.lemma\n",
    "df = zahlwörter_all[mask].copy()\n",
    "df['lex']   = df.lex.str.capitalize()\n",
    "df['lemma'] = df.lex.str.capitalize()\n",
    "df['tag']   = 'NN'\n",
    "zahlwörter_all = pak.add_rows(zahlwörter_all, df)\n",
    "#df"
   ]
  },
  {
   "cell_type": "code",
   "execution_count": 99,
   "metadata": {},
   "outputs": [
    {
     "data": {
      "text/html": [
       "<div>\n",
       "<style scoped>\n",
       "    .dataframe tbody tr th:only-of-type {\n",
       "        vertical-align: middle;\n",
       "    }\n",
       "\n",
       "    .dataframe tbody tr th {\n",
       "        vertical-align: top;\n",
       "    }\n",
       "\n",
       "    .dataframe thead th {\n",
       "        text-align: right;\n",
       "    }\n",
       "</style>\n",
       "<table border=\"1\" class=\"dataframe\">\n",
       "  <thead>\n",
       "    <tr style=\"text-align: right;\">\n",
       "      <th></th>\n",
       "      <th>lex</th>\n",
       "      <th>lemma</th>\n",
       "      <th>def</th>\n",
       "      <th>tag</th>\n",
       "      <th>tag_lex</th>\n",
       "      <th>genus</th>\n",
       "      <th>member</th>\n",
       "      <th>tab</th>\n",
       "    </tr>\n",
       "  </thead>\n",
       "  <tbody>\n",
       "    <tr>\n",
       "      <th>0</th>\n",
       "      <td>null</td>\n",
       "      <td>null</td>\n",
       "      <td>0</td>\n",
       "      <td>CARD</td>\n",
       "      <td>lex</td>\n",
       "      <td>f</td>\n",
       "      <td>Zahlwort</td>\n",
       "      <td>Zahlwort</td>\n",
       "    </tr>\n",
       "    <tr>\n",
       "      <th>237</th>\n",
       "      <td>10000</td>\n",
       "      <td>zehntausend</td>\n",
       "      <td>10000</td>\n",
       "      <td>CARD</td>\n",
       "      <td>lex</td>\n",
       "      <td>f</td>\n",
       "      <td>Zahlwort</td>\n",
       "      <td>Zahlwort</td>\n",
       "    </tr>\n",
       "    <tr>\n",
       "      <th>376</th>\n",
       "      <td>achtzigtausend</td>\n",
       "      <td>achtzigtausend</td>\n",
       "      <td>80000</td>\n",
       "      <td>CARD</td>\n",
       "      <td>lex</td>\n",
       "      <td>f</td>\n",
       "      <td>Zahlwort</td>\n",
       "      <td>Zahlwort</td>\n",
       "    </tr>\n",
       "    <tr>\n",
       "      <th>677</th>\n",
       "      <td>Neunhunderttausend</td>\n",
       "      <td>Neunhunderttausend</td>\n",
       "      <td>900000</td>\n",
       "      <td>NN</td>\n",
       "      <td>lex</td>\n",
       "      <td>f</td>\n",
       "      <td>Zahlwort</td>\n",
       "      <td>Zahlwort</td>\n",
       "    </tr>\n",
       "  </tbody>\n",
       "</table>\n",
       "</div>"
      ],
      "text/plain": [
       "                    lex               lemma     def   tag tag_lex genus  \\\n",
       "0                  null                null       0  CARD     lex     f   \n",
       "237               10000         zehntausend   10000  CARD     lex     f   \n",
       "376      achtzigtausend      achtzigtausend   80000  CARD     lex     f   \n",
       "677  Neunhunderttausend  Neunhunderttausend  900000    NN     lex     f   \n",
       "\n",
       "       member       tab  \n",
       "0    Zahlwort  Zahlwort  \n",
       "237  Zahlwort  Zahlwort  \n",
       "376  Zahlwort  Zahlwort  \n",
       "677  Zahlwort  Zahlwort  "
      ]
     },
     "execution_count": 99,
     "metadata": {},
     "output_type": "execute_result"
    },
    {
     "name": "stdout",
     "output_type": "stream",
     "text": [
      "time: 183 ms\n"
     ]
    }
   ],
   "source": [
    "# zahlwörter_all anschauen\n",
    "pak.sample(zahlwörter_all)"
   ]
  },
  {
   "cell_type": "markdown",
   "metadata": {},
   "source": [
    "## lexeme_manuell"
   ]
  },
  {
   "cell_type": "code",
   "execution_count": 100,
   "metadata": {},
   "outputs": [
    {
     "name": "stdout",
     "output_type": "stream",
     "text": [
      "1794 rows loaded\n",
      "time: 347 ms\n"
     ]
    }
   ],
   "source": [
    "# laden\n",
    "lexeme_manuell = pak.load_excel( lexeme_manuell_filename, tabcol='tab' )\n",
    "lexeme_manuell = pak.move_cols(  lexeme_manuell, 'tag_lex')"
   ]
  },
  {
   "cell_type": "code",
   "execution_count": 101,
   "metadata": {},
   "outputs": [
    {
     "data": {
      "text/html": [
       "<div>\n",
       "<style scoped>\n",
       "    .dataframe tbody tr th:only-of-type {\n",
       "        vertical-align: middle;\n",
       "    }\n",
       "\n",
       "    .dataframe tbody tr th {\n",
       "        vertical-align: top;\n",
       "    }\n",
       "\n",
       "    .dataframe thead th {\n",
       "        text-align: right;\n",
       "    }\n",
       "</style>\n",
       "<table border=\"1\" class=\"dataframe\">\n",
       "  <thead>\n",
       "    <tr style=\"text-align: right;\">\n",
       "      <th></th>\n",
       "      <th>tag_lex</th>\n",
       "      <th>lex</th>\n",
       "      <th>lemma</th>\n",
       "      <th>tag</th>\n",
       "      <th>member</th>\n",
       "      <th>genus</th>\n",
       "      <th>tab</th>\n",
       "    </tr>\n",
       "  </thead>\n",
       "  <tbody>\n",
       "    <tr>\n",
       "      <th>61</th>\n",
       "      <td>Ptz2</td>\n",
       "      <td>gefriergetrocknet</td>\n",
       "      <td>gefriertrocknen</td>\n",
       "      <td>VVFIN</td>\n",
       "      <td>&lt;NA&gt;</td>\n",
       "      <td>&lt;NA&gt;</td>\n",
       "      <td>Partizipien</td>\n",
       "    </tr>\n",
       "    <tr>\n",
       "      <th>90</th>\n",
       "      <td>Ptz2</td>\n",
       "      <td>mißraten</td>\n",
       "      <td>missraten</td>\n",
       "      <td>VVFIN</td>\n",
       "      <td>&lt;NA&gt;</td>\n",
       "      <td>&lt;NA&gt;</td>\n",
       "      <td>Partizipien</td>\n",
       "    </tr>\n",
       "    <tr>\n",
       "      <th>204</th>\n",
       "      <td>Ptz2</td>\n",
       "      <td>missraten</td>\n",
       "      <td>missraten</td>\n",
       "      <td>VVFIN</td>\n",
       "      <td>&lt;NA&gt;</td>\n",
       "      <td>&lt;NA&gt;</td>\n",
       "      <td>Partizipien</td>\n",
       "    </tr>\n",
       "  </tbody>\n",
       "</table>\n",
       "</div>"
      ],
      "text/plain": [
       "    tag_lex                lex            lemma    tag member genus  \\\n",
       "61     Ptz2  gefriergetrocknet  gefriertrocknen  VVFIN   <NA>  <NA>   \n",
       "90     Ptz2           mißraten        missraten  VVFIN   <NA>  <NA>   \n",
       "204    Ptz2          missraten        missraten  VVFIN   <NA>  <NA>   \n",
       "\n",
       "             tab  \n",
       "61   Partizipien  \n",
       "90   Partizipien  \n",
       "204  Partizipien  "
      ]
     },
     "execution_count": 101,
     "metadata": {},
     "output_type": "execute_result"
    },
    {
     "name": "stdout",
     "output_type": "stream",
     "text": [
      "time: 63.5 ms\n"
     ]
    }
   ],
   "source": [
    "# suche_debug\n",
    "search_str(lexeme_manuell, suche_debug)"
   ]
  },
  {
   "cell_type": "code",
   "execution_count": 102,
   "metadata": {},
   "outputs": [
    {
     "name": "stdout",
     "output_type": "stream",
     "text": [
      "check_mask:  0 rows\n",
      "time: 46.8 ms\n"
     ]
    }
   ],
   "source": [
    "# Partizipien falsch definiert?\n",
    "mask1  = lexeme_manuell.tag_lex.str.startswith('Ptz')\n",
    "mask2A = lexeme_manuell.tab != 'Partizipien'\n",
    "mask2B = lexeme_manuell.tag != 'VVFIN'\n",
    "mask = mask1  &  (mask2A | mask2B)\n",
    "check_mask(lexeme_manuell,mask,0)\n",
    "#lexeme_manuell[mask]"
   ]
  },
  {
   "cell_type": "code",
   "execution_count": 103,
   "metadata": {},
   "outputs": [
    {
     "name": "stdout",
     "output_type": "stream",
     "text": [
      "check_mask:  0 rows\n"
     ]
    },
    {
     "data": {
      "text/html": [
       "<div>\n",
       "<style scoped>\n",
       "    .dataframe tbody tr th:only-of-type {\n",
       "        vertical-align: middle;\n",
       "    }\n",
       "\n",
       "    .dataframe tbody tr th {\n",
       "        vertical-align: top;\n",
       "    }\n",
       "\n",
       "    .dataframe thead th {\n",
       "        text-align: right;\n",
       "    }\n",
       "</style>\n",
       "<table border=\"1\" class=\"dataframe\">\n",
       "  <thead>\n",
       "    <tr style=\"text-align: right;\">\n",
       "      <th></th>\n",
       "      <th>tag_lex</th>\n",
       "      <th>lex</th>\n",
       "      <th>lemma</th>\n",
       "      <th>tag</th>\n",
       "      <th>member</th>\n",
       "      <th>genus</th>\n",
       "      <th>tab</th>\n",
       "    </tr>\n",
       "  </thead>\n",
       "  <tbody>\n",
       "  </tbody>\n",
       "</table>\n",
       "</div>"
      ],
      "text/plain": [
       "Empty DataFrame\n",
       "Columns: [tag_lex, lex, lemma, tag, member, genus, tab]\n",
       "Index: []"
      ]
     },
     "execution_count": 103,
     "metadata": {},
     "output_type": "execute_result"
    },
    {
     "name": "stdout",
     "output_type": "stream",
     "text": [
      "time: 57.1 ms\n"
     ]
    }
   ],
   "source": [
    "# Abkürzungen falsch definiert?\n",
    "# Das Schlüsselwort 'Abkürzung' darf nirgends in lexeme_manuell vorkommen.\n",
    "mask1A = lexeme_manuell.member.str.contains('Abkürzung')\n",
    "mask1B = lexeme_manuell.member.str.contains('Abkürzung')\n",
    "mask = (mask1A | mask1B) \n",
    "check_mask(lexeme_manuell,mask,0)\n",
    "lexeme_manuell[mask]"
   ]
  },
  {
   "cell_type": "code",
   "execution_count": 104,
   "metadata": {},
   "outputs": [
    {
     "data": {
      "text/html": [
       "<div>\n",
       "<style scoped>\n",
       "    .dataframe tbody tr th:only-of-type {\n",
       "        vertical-align: middle;\n",
       "    }\n",
       "\n",
       "    .dataframe tbody tr th {\n",
       "        vertical-align: top;\n",
       "    }\n",
       "\n",
       "    .dataframe thead th {\n",
       "        text-align: right;\n",
       "    }\n",
       "</style>\n",
       "<table border=\"1\" class=\"dataframe\">\n",
       "  <thead>\n",
       "    <tr style=\"text-align: right;\">\n",
       "      <th></th>\n",
       "      <th>lex</th>\n",
       "      <th>lemma</th>\n",
       "      <th>def</th>\n",
       "      <th>tag</th>\n",
       "      <th>tag_lex</th>\n",
       "      <th>genus</th>\n",
       "      <th>member</th>\n",
       "      <th>tab</th>\n",
       "    </tr>\n",
       "  </thead>\n",
       "  <tbody>\n",
       "    <tr>\n",
       "      <th>0</th>\n",
       "      <td>null</td>\n",
       "      <td>null</td>\n",
       "      <td>0</td>\n",
       "      <td>CARD</td>\n",
       "      <td>lex</td>\n",
       "      <td>f</td>\n",
       "      <td>Zahlwort</td>\n",
       "      <td>Zahlwort</td>\n",
       "    </tr>\n",
       "    <tr>\n",
       "      <th>237</th>\n",
       "      <td>10000</td>\n",
       "      <td>zehntausend</td>\n",
       "      <td>10000</td>\n",
       "      <td>CARD</td>\n",
       "      <td>lex</td>\n",
       "      <td>f</td>\n",
       "      <td>Zahlwort</td>\n",
       "      <td>Zahlwort</td>\n",
       "    </tr>\n",
       "    <tr>\n",
       "      <th>376</th>\n",
       "      <td>achtzigtausend</td>\n",
       "      <td>achtzigtausend</td>\n",
       "      <td>80000</td>\n",
       "      <td>CARD</td>\n",
       "      <td>lex</td>\n",
       "      <td>f</td>\n",
       "      <td>Zahlwort</td>\n",
       "      <td>Zahlwort</td>\n",
       "    </tr>\n",
       "    <tr>\n",
       "      <th>677</th>\n",
       "      <td>Neunhunderttausend</td>\n",
       "      <td>Neunhunderttausend</td>\n",
       "      <td>900000</td>\n",
       "      <td>NN</td>\n",
       "      <td>lex</td>\n",
       "      <td>f</td>\n",
       "      <td>Zahlwort</td>\n",
       "      <td>Zahlwort</td>\n",
       "    </tr>\n",
       "  </tbody>\n",
       "</table>\n",
       "</div>"
      ],
      "text/plain": [
       "                    lex               lemma     def   tag tag_lex genus  \\\n",
       "0                  null                null       0  CARD     lex     f   \n",
       "237               10000         zehntausend   10000  CARD     lex     f   \n",
       "376      achtzigtausend      achtzigtausend   80000  CARD     lex     f   \n",
       "677  Neunhunderttausend  Neunhunderttausend  900000    NN     lex     f   \n",
       "\n",
       "       member       tab  \n",
       "0    Zahlwort  Zahlwort  \n",
       "237  Zahlwort  Zahlwort  \n",
       "376  Zahlwort  Zahlwort  \n",
       "677  Zahlwort  Zahlwort  "
      ]
     },
     "execution_count": 104,
     "metadata": {},
     "output_type": "execute_result"
    },
    {
     "name": "stdout",
     "output_type": "stream",
     "text": [
      "time: 208 ms\n"
     ]
    }
   ],
   "source": [
    "pak.sample(zahlwörter_all)"
   ]
  },
  {
   "cell_type": "code",
   "execution_count": 105,
   "metadata": {},
   "outputs": [
    {
     "name": "stdout",
     "output_type": "stream",
     "text": [
      "time: 52.1 ms\n"
     ]
    }
   ],
   "source": [
    "# assert subset\n",
    "assert set(zahlwörter_all.columns) - set(['def']) <= set(lexeme_manuell.columns)"
   ]
  },
  {
   "cell_type": "code",
   "execution_count": 106,
   "metadata": {},
   "outputs": [
    {
     "name": "stdout",
     "output_type": "stream",
     "text": [
      "678 rows added, now a total of 2472\n",
      "time: 46.3 ms\n"
     ]
    }
   ],
   "source": [
    "# zahlwörter_all anfügen\n",
    "lexeme_manuell = pak.add_rows(lexeme_manuell, zahlwörter_all)"
   ]
  },
  {
   "cell_type": "code",
   "execution_count": 107,
   "metadata": {},
   "outputs": [
    {
     "data": {
      "text/html": [
       "<div>\n",
       "<style scoped>\n",
       "    .dataframe tbody tr th:only-of-type {\n",
       "        vertical-align: middle;\n",
       "    }\n",
       "\n",
       "    .dataframe tbody tr th {\n",
       "        vertical-align: top;\n",
       "    }\n",
       "\n",
       "    .dataframe thead th {\n",
       "        text-align: right;\n",
       "    }\n",
       "</style>\n",
       "<table border=\"1\" class=\"dataframe\">\n",
       "  <thead>\n",
       "    <tr style=\"text-align: right;\">\n",
       "      <th></th>\n",
       "      <th>tab</th>\n",
       "      <th>tab_count</th>\n",
       "      <th>tab_percent</th>\n",
       "      <th>graph</th>\n",
       "    </tr>\n",
       "  </thead>\n",
       "  <tbody>\n",
       "    <tr>\n",
       "      <th>0</th>\n",
       "      <td>esszett</td>\n",
       "      <td>729</td>\n",
       "      <td>29.5</td>\n",
       "      <td>##############</td>\n",
       "    </tr>\n",
       "    <tr>\n",
       "      <th>1</th>\n",
       "      <td>Zahlwort</td>\n",
       "      <td>678</td>\n",
       "      <td>27.4</td>\n",
       "      <td>#############</td>\n",
       "    </tr>\n",
       "    <tr>\n",
       "      <th>2</th>\n",
       "      <td>Partizipien</td>\n",
       "      <td>414</td>\n",
       "      <td>16.7</td>\n",
       "      <td>########</td>\n",
       "    </tr>\n",
       "    <tr>\n",
       "      <th>3</th>\n",
       "      <td>Diverses</td>\n",
       "      <td>299</td>\n",
       "      <td>12.1</td>\n",
       "      <td>######</td>\n",
       "    </tr>\n",
       "    <tr>\n",
       "      <th>4</th>\n",
       "      <td>Abkuerzungen</td>\n",
       "      <td>156</td>\n",
       "      <td>6.3</td>\n",
       "      <td>###</td>\n",
       "    </tr>\n",
       "    <tr>\n",
       "      <th>5</th>\n",
       "      <td>FM</td>\n",
       "      <td>102</td>\n",
       "      <td>4.1</td>\n",
       "      <td>##</td>\n",
       "    </tr>\n",
       "    <tr>\n",
       "      <th>6</th>\n",
       "      <td>Symbole</td>\n",
       "      <td>48</td>\n",
       "      <td>1.9</td>\n",
       "      <td></td>\n",
       "    </tr>\n",
       "    <tr>\n",
       "      <th>7</th>\n",
       "      <td>Partikel</td>\n",
       "      <td>44</td>\n",
       "      <td>1.8</td>\n",
       "      <td></td>\n",
       "    </tr>\n",
       "    <tr>\n",
       "      <th>8</th>\n",
       "      <td>Namen</td>\n",
       "      <td>2</td>\n",
       "      <td>0.1</td>\n",
       "      <td></td>\n",
       "    </tr>\n",
       "  </tbody>\n",
       "</table>\n",
       "</div>"
      ],
      "text/plain": [
       "            tab  tab_count  tab_percent           graph\n",
       "0       esszett        729         29.5  ##############\n",
       "1      Zahlwort        678         27.4   #############\n",
       "2   Partizipien        414         16.7        ########\n",
       "3      Diverses        299         12.1          ######\n",
       "4  Abkuerzungen        156          6.3             ###\n",
       "5            FM        102          4.1              ##\n",
       "6       Symbole         48          1.9                \n",
       "7      Partikel         44          1.8                \n",
       "8         Namen          2          0.1                "
      ]
     },
     "execution_count": 107,
     "metadata": {},
     "output_type": "execute_result"
    },
    {
     "name": "stdout",
     "output_type": "stream",
     "text": [
      "time: 71.1 ms\n"
     ]
    }
   ],
   "source": [
    "# tab analysieren\n",
    "pak.analyse_freqs( lexeme_manuell, cols='tab')"
   ]
  },
  {
   "cell_type": "code",
   "execution_count": 108,
   "metadata": {},
   "outputs": [
    {
     "name": "stdout",
     "output_type": "stream",
     "text": [
      "check_mask:  0 rows\n",
      "time: 95.9 ms\n"
     ]
    }
   ],
   "source": [
    "# NaN\n",
    "\n",
    "# def\n",
    "lexeme_manuell['def'] = lexeme_manuell['def'].fillna('')\n",
    "\n",
    "# member\n",
    "mask = lexeme_manuell.member.isnull()   |   lexeme_manuell.member.isin(['nan'])\n",
    "lexeme_manuell.loc[mask,'member'] = ''\n",
    "lexeme_manuell.member += ' manuell'\n",
    "\n",
    "# lemma und lex\n",
    "mask = lexeme_manuell.lemma.isnull()   |   lexeme_manuell.lemma.isin(['nan',''])\n",
    "lexeme_manuell.loc[mask,'lemma'] = lexeme_manuell[mask].lex\n",
    "lexeme_manuell.loc[mask,'member'] += ' ergänzt'\n",
    "\n",
    "mask = lexeme_manuell.lex.isnull()   |   lexeme_manuell.lex.isin(['nan',''])\n",
    "lexeme_manuell.loc[mask,'lex'] = lexeme_manuell[mask].lemma\n",
    "lexeme_manuell.loc[mask,'member'] += ' ergänzt'\n",
    "\n",
    "# genus\n",
    "mask = lexeme_manuell.genus.isnull()   |   lexeme_manuell.genus.isin(['nan'])\n",
    "lexeme_manuell.loc[mask,'genus'] = ''\n",
    "\n",
    "# tag_lex\n",
    "mask = lexeme_manuell.tag_lex.isnull()   |   lexeme_manuell.tag_lex.isin(['nan'])\n",
    "lexeme_manuell.loc[mask,'tag_lex'] = ''\n",
    "\n",
    "mask = (lexeme_manuell.lex != lexeme_manuell.lemma)   &   (lexeme_manuell.tag_lex == '')\n",
    "lexeme_manuell.loc[mask,'tag_lex'] = 'lex'\n",
    "\n",
    "mask = (lexeme_manuell.lex == lexeme_manuell.lemma)   &   (  (lexeme_manuell.tag_lex == 'lex')  | (lexeme_manuell.tag_lex == '')  )\n",
    "lexeme_manuell.loc[mask,'tag_lex'] = 'lemma'\n",
    "\n",
    "# tag\n",
    "mask = lexeme_manuell.tag.isnull()   |   lexeme_manuell.tag.isin(['nan',''])\n",
    "check_mask( lexeme_manuell, mask, 0, 0)\n",
    "\n",
    "# Abschluss\n",
    "lexeme_manuell.member = lexeme_manuell.member.str.strip()\n",
    "lexeme_manuell = pak.rename_col(lexeme_manuell, 'genus','Genus')\n",
    "\n",
    "#lexeme_manuell = pak.move_cols(lexeme_manuell, ['Genus','abk'], -1)\n",
    "#lexeme_manuell['abk'] = ''"
   ]
  },
  {
   "cell_type": "code",
   "execution_count": 109,
   "metadata": {},
   "outputs": [
    {
     "name": "stdout",
     "output_type": "stream",
     "text": [
      "Move 104 rows from 2472\n",
      "104 rows\n"
     ]
    },
    {
     "data": {
      "text/html": [
       "\n",
       "        <iframe\n",
       "            width=\"100%\"\n",
       "            height=\"475\"\n",
       "            src=\"http://pop-os:40000/dtale/iframe/19\"\n",
       "            frameborder=\"0\"\n",
       "            allowfullscreen\n",
       "            \n",
       "        ></iframe>\n",
       "        "
      ],
      "text/plain": [
       "<IPython.lib.display.IFrame at 0x7f103e652dc0>"
      ]
     },
     "metadata": {},
     "output_type": "display_data"
    },
    {
     "data": {
      "text/plain": []
     },
     "execution_count": 109,
     "metadata": {},
     "output_type": "execute_result"
    },
    {
     "name": "stdout",
     "output_type": "stream",
     "text": [
      "time: 100 ms\n"
     ]
    }
   ],
   "source": [
    "# Dups löschen\n",
    "mask = lexeme_manuell.duplicated()\n",
    "lexeme_manuell, df = pak.move_rows(lexeme_manuell,mask)\n",
    "grid(df)"
   ]
  },
  {
   "cell_type": "code",
   "execution_count": 110,
   "metadata": {},
   "outputs": [
    {
     "data": {
      "text/html": [
       "<div>\n",
       "<style scoped>\n",
       "    .dataframe tbody tr th:only-of-type {\n",
       "        vertical-align: middle;\n",
       "    }\n",
       "\n",
       "    .dataframe tbody tr th {\n",
       "        vertical-align: top;\n",
       "    }\n",
       "\n",
       "    .dataframe thead th {\n",
       "        text-align: right;\n",
       "    }\n",
       "</style>\n",
       "<table border=\"1\" class=\"dataframe\">\n",
       "  <thead>\n",
       "    <tr style=\"text-align: right;\">\n",
       "      <th></th>\n",
       "      <th>tag_lex</th>\n",
       "      <th>lex</th>\n",
       "      <th>lemma</th>\n",
       "      <th>tag</th>\n",
       "      <th>member</th>\n",
       "      <th>Genus</th>\n",
       "      <th>tab</th>\n",
       "      <th>def</th>\n",
       "    </tr>\n",
       "  </thead>\n",
       "  <tbody>\n",
       "    <tr>\n",
       "      <th>0</th>\n",
       "      <td>Ptz2</td>\n",
       "      <td>abberufen</td>\n",
       "      <td>abberufen</td>\n",
       "      <td>VVFIN</td>\n",
       "      <td>manuell</td>\n",
       "      <td></td>\n",
       "      <td>Partizipien</td>\n",
       "      <td></td>\n",
       "    </tr>\n",
       "    <tr>\n",
       "      <th>482</th>\n",
       "      <td>lex</td>\n",
       "      <td>Kids</td>\n",
       "      <td>Kid</td>\n",
       "      <td>NN</td>\n",
       "      <td>manuell</td>\n",
       "      <td>n</td>\n",
       "      <td>Diverses</td>\n",
       "      <td></td>\n",
       "    </tr>\n",
       "    <tr>\n",
       "      <th>497</th>\n",
       "      <td>lex</td>\n",
       "      <td>musses</td>\n",
       "      <td>müssen</td>\n",
       "      <td>VMFIN</td>\n",
       "      <td>manuell</td>\n",
       "      <td></td>\n",
       "      <td>Diverses</td>\n",
       "      <td></td>\n",
       "    </tr>\n",
       "    <tr>\n",
       "      <th>554</th>\n",
       "      <td>ADV</td>\n",
       "      <td>zu viele</td>\n",
       "      <td>zu viel</td>\n",
       "      <td>ADV</td>\n",
       "      <td>manuell</td>\n",
       "      <td></td>\n",
       "      <td>Diverses</td>\n",
       "      <td></td>\n",
       "    </tr>\n",
       "    <tr>\n",
       "      <th>653</th>\n",
       "      <td>lemma</td>\n",
       "      <td>5G</td>\n",
       "      <td>5G</td>\n",
       "      <td>NN</td>\n",
       "      <td>manuell ergänzt</td>\n",
       "      <td></td>\n",
       "      <td>Diverses</td>\n",
       "      <td></td>\n",
       "    </tr>\n",
       "    <tr>\n",
       "      <th>713</th>\n",
       "      <td>lex</td>\n",
       "      <td>❀</td>\n",
       "      <td>_</td>\n",
       "      <td>$(</td>\n",
       "      <td>manuell</td>\n",
       "      <td></td>\n",
       "      <td>Symbole</td>\n",
       "      <td></td>\n",
       "    </tr>\n",
       "    <tr>\n",
       "      <th>715</th>\n",
       "      <td>syn</td>\n",
       "      <td>[</td>\n",
       "      <td>(</td>\n",
       "      <td>$(</td>\n",
       "      <td>manuell</td>\n",
       "      <td></td>\n",
       "      <td>Symbole</td>\n",
       "      <td></td>\n",
       "    </tr>\n",
       "    <tr>\n",
       "      <th>748</th>\n",
       "      <td>lemma</td>\n",
       "      <td>!</td>\n",
       "      <td>!</td>\n",
       "      <td>$.</td>\n",
       "      <td>manuell ergänzt</td>\n",
       "      <td></td>\n",
       "      <td>Symbole</td>\n",
       "      <td></td>\n",
       "    </tr>\n",
       "    <tr>\n",
       "      <th>751</th>\n",
       "      <td>lemma</td>\n",
       "      <td>…</td>\n",
       "      <td>…</td>\n",
       "      <td>$(</td>\n",
       "      <td>manuell ergänzt</td>\n",
       "      <td></td>\n",
       "      <td>Symbole</td>\n",
       "      <td></td>\n",
       "    </tr>\n",
       "    <tr>\n",
       "      <th>1014</th>\n",
       "      <td>lex</td>\n",
       "      <td>gewiß</td>\n",
       "      <td>gewiss</td>\n",
       "      <td>ADV</td>\n",
       "      <td>modal lexAlt manuell</td>\n",
       "      <td></td>\n",
       "      <td>esszett</td>\n",
       "      <td></td>\n",
       "    </tr>\n",
       "    <tr>\n",
       "      <th>1673</th>\n",
       "      <td>lex</td>\n",
       "      <td>Mo-Fr</td>\n",
       "      <td>Montag-Freitag</td>\n",
       "      <td>NN</td>\n",
       "      <td>Einheit Wortverbindung manuell</td>\n",
       "      <td></td>\n",
       "      <td>Abkuerzungen</td>\n",
       "      <td></td>\n",
       "    </tr>\n",
       "    <tr>\n",
       "      <th>2471</th>\n",
       "      <td>lemma</td>\n",
       "      <td>Neunhunderttausend</td>\n",
       "      <td>Neunhunderttausend</td>\n",
       "      <td>NN</td>\n",
       "      <td>Zahlwort manuell</td>\n",
       "      <td>f</td>\n",
       "      <td>Zahlwort</td>\n",
       "      <td>900000</td>\n",
       "    </tr>\n",
       "  </tbody>\n",
       "</table>\n",
       "</div>"
      ],
      "text/plain": [
       "     tag_lex                 lex               lemma    tag  \\\n",
       "0       Ptz2           abberufen           abberufen  VVFIN   \n",
       "482      lex                Kids                 Kid     NN   \n",
       "497      lex              musses              müssen  VMFIN   \n",
       "554      ADV            zu viele             zu viel    ADV   \n",
       "653    lemma                  5G                  5G     NN   \n",
       "713      lex                   ❀                   _     $(   \n",
       "715      syn                   [                   (     $(   \n",
       "748    lemma                   !                   !     $.   \n",
       "751    lemma                   …                   …     $(   \n",
       "1014     lex               gewiß              gewiss    ADV   \n",
       "1673     lex               Mo-Fr      Montag-Freitag     NN   \n",
       "2471   lemma  Neunhunderttausend  Neunhunderttausend     NN   \n",
       "\n",
       "                              member Genus           tab     def  \n",
       "0                            manuell         Partizipien          \n",
       "482                          manuell     n      Diverses          \n",
       "497                          manuell            Diverses          \n",
       "554                          manuell            Diverses          \n",
       "653                  manuell ergänzt            Diverses          \n",
       "713                          manuell             Symbole          \n",
       "715                          manuell             Symbole          \n",
       "748                  manuell ergänzt             Symbole          \n",
       "751                  manuell ergänzt             Symbole          \n",
       "1014            modal lexAlt manuell             esszett          \n",
       "1673  Einheit Wortverbindung manuell        Abkuerzungen          \n",
       "2471                Zahlwort manuell     f      Zahlwort  900000  "
      ]
     },
     "execution_count": 110,
     "metadata": {},
     "output_type": "execute_result"
    },
    {
     "name": "stdout",
     "output_type": "stream",
     "text": [
      "time: 416 ms\n"
     ]
    }
   ],
   "source": [
    "pak.sample(lexeme_manuell)"
   ]
  },
  {
   "cell_type": "code",
   "execution_count": 111,
   "metadata": {},
   "outputs": [
    {
     "data": {
      "text/html": [
       "<div>\n",
       "<style scoped>\n",
       "    .dataframe tbody tr th:only-of-type {\n",
       "        vertical-align: middle;\n",
       "    }\n",
       "\n",
       "    .dataframe tbody tr th {\n",
       "        vertical-align: top;\n",
       "    }\n",
       "\n",
       "    .dataframe thead th {\n",
       "        text-align: right;\n",
       "    }\n",
       "</style>\n",
       "<table border=\"1\" class=\"dataframe\">\n",
       "  <thead>\n",
       "    <tr style=\"text-align: right;\">\n",
       "      <th></th>\n",
       "      <th>tag_lex</th>\n",
       "      <th>lex</th>\n",
       "      <th>lemma</th>\n",
       "      <th>tag</th>\n",
       "      <th>member</th>\n",
       "      <th>Genus</th>\n",
       "      <th>tab</th>\n",
       "      <th>def</th>\n",
       "    </tr>\n",
       "  </thead>\n",
       "  <tbody>\n",
       "    <tr>\n",
       "      <th>61</th>\n",
       "      <td>Ptz2</td>\n",
       "      <td>gefriergetrocknet</td>\n",
       "      <td>gefriertrocknen</td>\n",
       "      <td>VVFIN</td>\n",
       "      <td>manuell</td>\n",
       "      <td></td>\n",
       "      <td>Partizipien</td>\n",
       "      <td></td>\n",
       "    </tr>\n",
       "    <tr>\n",
       "      <th>90</th>\n",
       "      <td>Ptz2</td>\n",
       "      <td>mißraten</td>\n",
       "      <td>missraten</td>\n",
       "      <td>VVFIN</td>\n",
       "      <td>manuell</td>\n",
       "      <td></td>\n",
       "      <td>Partizipien</td>\n",
       "      <td></td>\n",
       "    </tr>\n",
       "    <tr>\n",
       "      <th>204</th>\n",
       "      <td>Ptz2</td>\n",
       "      <td>missraten</td>\n",
       "      <td>missraten</td>\n",
       "      <td>VVFIN</td>\n",
       "      <td>manuell</td>\n",
       "      <td></td>\n",
       "      <td>Partizipien</td>\n",
       "      <td></td>\n",
       "    </tr>\n",
       "  </tbody>\n",
       "</table>\n",
       "</div>"
      ],
      "text/plain": [
       "    tag_lex                lex            lemma    tag   member Genus  \\\n",
       "61     Ptz2  gefriergetrocknet  gefriertrocknen  VVFIN  manuell         \n",
       "90     Ptz2           mißraten        missraten  VVFIN  manuell         \n",
       "204    Ptz2          missraten        missraten  VVFIN  manuell         \n",
       "\n",
       "             tab def  \n",
       "61   Partizipien      \n",
       "90   Partizipien      \n",
       "204  Partizipien      "
      ]
     },
     "execution_count": 111,
     "metadata": {},
     "output_type": "execute_result"
    },
    {
     "name": "stdout",
     "output_type": "stream",
     "text": [
      "time: 78.4 ms\n"
     ]
    }
   ],
   "source": [
    "# suche_debug\n",
    "search_str(lexeme_manuell, suche_debug)"
   ]
  },
  {
   "cell_type": "code",
   "execution_count": 112,
   "metadata": {},
   "outputs": [
    {
     "name": "stdout",
     "output_type": "stream",
     "text": [
      "time: 92.5 ms\n"
     ]
    }
   ],
   "source": [
    "# strip\n",
    "for c in lexeme_manuell.columns:\n",
    "    lexeme_manuell[c] = lexeme_manuell[c].str.replace('  ',' ').str.strip()"
   ]
  },
  {
   "cell_type": "code",
   "execution_count": 113,
   "metadata": {},
   "outputs": [
    {
     "data": {
      "text/html": [
       "<div>\n",
       "<style scoped>\n",
       "    .dataframe tbody tr th:only-of-type {\n",
       "        vertical-align: middle;\n",
       "    }\n",
       "\n",
       "    .dataframe tbody tr th {\n",
       "        vertical-align: top;\n",
       "    }\n",
       "\n",
       "    .dataframe thead th {\n",
       "        text-align: right;\n",
       "    }\n",
       "</style>\n",
       "<table border=\"1\" class=\"dataframe\">\n",
       "  <thead>\n",
       "    <tr style=\"text-align: right;\">\n",
       "      <th></th>\n",
       "      <th>member</th>\n",
       "      <th>member_count</th>\n",
       "      <th>member_percent</th>\n",
       "      <th>graph</th>\n",
       "    </tr>\n",
       "  </thead>\n",
       "  <tbody>\n",
       "    <tr>\n",
       "      <th>0</th>\n",
       "      <td>manuell</td>\n",
       "      <td>2368</td>\n",
       "      <td>57.1</td>\n",
       "      <td>############################</td>\n",
       "    </tr>\n",
       "    <tr>\n",
       "      <th>1</th>\n",
       "      <td>lexAlt</td>\n",
       "      <td>653</td>\n",
       "      <td>15.7</td>\n",
       "      <td>#######</td>\n",
       "    </tr>\n",
       "    <tr>\n",
       "      <th>2</th>\n",
       "      <td>Zahlwort</td>\n",
       "      <td>651</td>\n",
       "      <td>15.7</td>\n",
       "      <td>#######</td>\n",
       "    </tr>\n",
       "    <tr>\n",
       "      <th>3</th>\n",
       "      <td>ergänzt</td>\n",
       "      <td>345</td>\n",
       "      <td>8.3</td>\n",
       "      <td>####</td>\n",
       "    </tr>\n",
       "    <tr>\n",
       "      <th>4</th>\n",
       "      <td>Einheit</td>\n",
       "      <td>56</td>\n",
       "      <td>1.3</td>\n",
       "      <td></td>\n",
       "    </tr>\n",
       "    <tr>\n",
       "      <th>5</th>\n",
       "      <td>PRE</td>\n",
       "      <td>42</td>\n",
       "      <td>1.0</td>\n",
       "      <td></td>\n",
       "    </tr>\n",
       "    <tr>\n",
       "      <th>6</th>\n",
       "      <td>Wortverbindung</td>\n",
       "      <td>28</td>\n",
       "      <td>0.7</td>\n",
       "      <td></td>\n",
       "    </tr>\n",
       "    <tr>\n",
       "      <th>7</th>\n",
       "      <td>Ort</td>\n",
       "      <td>2</td>\n",
       "      <td>0.0</td>\n",
       "      <td></td>\n",
       "    </tr>\n",
       "    <tr>\n",
       "      <th>8</th>\n",
       "      <td>modal</td>\n",
       "      <td>1</td>\n",
       "      <td>0.0</td>\n",
       "      <td></td>\n",
       "    </tr>\n",
       "    <tr>\n",
       "      <th>9</th>\n",
       "      <td>Land</td>\n",
       "      <td>1</td>\n",
       "      <td>0.0</td>\n",
       "      <td></td>\n",
       "    </tr>\n",
       "    <tr>\n",
       "      <th>10</th>\n",
       "      <td>Vorname</td>\n",
       "      <td>1</td>\n",
       "      <td>0.0</td>\n",
       "      <td></td>\n",
       "    </tr>\n",
       "    <tr>\n",
       "      <th>11</th>\n",
       "      <td>Toponym</td>\n",
       "      <td>1</td>\n",
       "      <td>0.0</td>\n",
       "      <td></td>\n",
       "    </tr>\n",
       "  </tbody>\n",
       "</table>\n",
       "</div>"
      ],
      "text/plain": [
       "            member  member_count  member_percent                         graph\n",
       "0          manuell          2368            57.1  ############################\n",
       "1           lexAlt           653            15.7                       #######\n",
       "2         Zahlwort           651            15.7                       #######\n",
       "3          ergänzt           345             8.3                          ####\n",
       "4          Einheit            56             1.3                              \n",
       "5              PRE            42             1.0                              \n",
       "6   Wortverbindung            28             0.7                              \n",
       "7              Ort             2             0.0                              \n",
       "8            modal             1             0.0                              \n",
       "9             Land             1             0.0                              \n",
       "10         Vorname             1             0.0                              \n",
       "11         Toponym             1             0.0                              "
      ]
     },
     "execution_count": 113,
     "metadata": {},
     "output_type": "execute_result"
    },
    {
     "name": "stdout",
     "output_type": "stream",
     "text": [
      "time: 88.2 ms\n"
     ]
    }
   ],
   "source": [
    "# member analysieren\n",
    "pak.analyse_freqs( lexeme_manuell, cols='member', splits=' ')"
   ]
  },
  {
   "cell_type": "code",
   "execution_count": 114,
   "metadata": {},
   "outputs": [
    {
     "name": "stdout",
     "output_type": "stream",
     "text": [
      "time: 56.2 ms\n"
     ]
    }
   ],
   "source": [
    "# Derzeit nicht nötig: Ersetzungen im member\n",
    "r = {  'Partizip1'          :  'Ptz1',        \n",
    "       'Partizip_1'         :  'Ptz1',       \n",
    "       'Partizip2'          :  'Ptz2',        \n",
    "       'Partizip_2'         :  'Ptz2',   \n",
    "       'Abkürzungen'        :  'Abkürzung',      \n",
    "       'Abkürzung Abkürzung':  'Abkürzung',        \n",
    "    }\n",
    "lexeme_manuell['member'] = pak.replace_str(lexeme_manuell.member, r)\n",
    "#grid(lexeme_manuell)"
   ]
  },
  {
   "cell_type": "code",
   "execution_count": 115,
   "metadata": {},
   "outputs": [
    {
     "name": "stdout",
     "output_type": "stream",
     "text": [
      "time: 56.2 ms\n"
     ]
    }
   ],
   "source": [
    "# Partizipien: tag_lex setzen \n",
    "mask = lexeme_manuell.member.str.contains('Ptz1')\n",
    "lexeme_manuell.loc[mask,'tag_lex'] = 'Ptz1'\n",
    "\n",
    "mask = lexeme_manuell.member.str.contains('Ptz2')\n",
    "lexeme_manuell.loc[mask,'tag_lex'] = 'Ptz2'"
   ]
  },
  {
   "cell_type": "code",
   "execution_count": 116,
   "metadata": {},
   "outputs": [
    {
     "name": "stdout",
     "output_type": "stream",
     "text": [
      "time: 46.2 ms\n"
     ]
    }
   ],
   "source": [
    "# These: Auch member muss gesetzt werden, weil Partizipien ja doppelt eingetragen werden\n",
    "# NEIN: Das Partizip wandert ja nach flexion\n",
    "#mask1 =  lexeme_manuell.tag_lex.str.startswith('Ptz')\n",
    "#mask2 = ~lexeme_manuell.member.str.contains('Ptz1')\n",
    "#mask3 = ~lexeme_manuell.member.str.contains('Ptz2')\n",
    "#mask = mask1  &  mask2  &  mask3\n",
    "#lexeme_manuell.loc[mask,'member'] = lexeme_manuell[mask].member + ' ' + lexeme_manuell[mask].tag_lex\n",
    "#grid(lexeme_manuell[mask])"
   ]
  },
  {
   "cell_type": "code",
   "execution_count": 117,
   "metadata": {},
   "outputs": [
    {
     "data": {
      "text/html": [
       "<div>\n",
       "<style scoped>\n",
       "    .dataframe tbody tr th:only-of-type {\n",
       "        vertical-align: middle;\n",
       "    }\n",
       "\n",
       "    .dataframe tbody tr th {\n",
       "        vertical-align: top;\n",
       "    }\n",
       "\n",
       "    .dataframe thead th {\n",
       "        text-align: right;\n",
       "    }\n",
       "</style>\n",
       "<table border=\"1\" class=\"dataframe\">\n",
       "  <thead>\n",
       "    <tr style=\"text-align: right;\">\n",
       "      <th></th>\n",
       "      <th>tag_lex</th>\n",
       "      <th>lex</th>\n",
       "      <th>lemma</th>\n",
       "      <th>tag</th>\n",
       "      <th>member</th>\n",
       "      <th>Genus</th>\n",
       "      <th>tab</th>\n",
       "      <th>def</th>\n",
       "    </tr>\n",
       "  </thead>\n",
       "  <tbody>\n",
       "    <tr>\n",
       "      <th>61</th>\n",
       "      <td>Ptz2</td>\n",
       "      <td>gefriergetrocknet</td>\n",
       "      <td>gefriertrocknen</td>\n",
       "      <td>VVFIN</td>\n",
       "      <td>manuell</td>\n",
       "      <td></td>\n",
       "      <td>Partizipien</td>\n",
       "      <td></td>\n",
       "    </tr>\n",
       "    <tr>\n",
       "      <th>90</th>\n",
       "      <td>Ptz2</td>\n",
       "      <td>mißraten</td>\n",
       "      <td>missraten</td>\n",
       "      <td>VVFIN</td>\n",
       "      <td>manuell</td>\n",
       "      <td></td>\n",
       "      <td>Partizipien</td>\n",
       "      <td></td>\n",
       "    </tr>\n",
       "    <tr>\n",
       "      <th>204</th>\n",
       "      <td>Ptz2</td>\n",
       "      <td>missraten</td>\n",
       "      <td>missraten</td>\n",
       "      <td>VVFIN</td>\n",
       "      <td>manuell</td>\n",
       "      <td></td>\n",
       "      <td>Partizipien</td>\n",
       "      <td></td>\n",
       "    </tr>\n",
       "  </tbody>\n",
       "</table>\n",
       "</div>"
      ],
      "text/plain": [
       "    tag_lex                lex            lemma    tag   member Genus  \\\n",
       "61     Ptz2  gefriergetrocknet  gefriertrocknen  VVFIN  manuell         \n",
       "90     Ptz2           mißraten        missraten  VVFIN  manuell         \n",
       "204    Ptz2          missraten        missraten  VVFIN  manuell         \n",
       "\n",
       "             tab def  \n",
       "61   Partizipien      \n",
       "90   Partizipien      \n",
       "204  Partizipien      "
      ]
     },
     "execution_count": 117,
     "metadata": {},
     "output_type": "execute_result"
    },
    {
     "name": "stdout",
     "output_type": "stream",
     "text": [
      "time: 73.8 ms\n"
     ]
    }
   ],
   "source": [
    "# suche_debug\n",
    "search_str(lexeme_manuell, suche_debug)"
   ]
  },
  {
   "cell_type": "code",
   "execution_count": 118,
   "metadata": {},
   "outputs": [
    {
     "name": "stdout",
     "output_type": "stream",
     "text": [
      "check_mask:  653 rows\n",
      "time: 38.8 ms\n"
     ]
    }
   ],
   "source": [
    "# Tab Esszett: tag_lex setzen\n",
    "mask1 = lexeme_manuell.tab == 'esszett'\n",
    "mask2A = lexeme_manuell.tag_lex == ''\n",
    "mask2B = lexeme_manuell.tag_lex == 'lex'\n",
    "mask = mask1  &  (mask2A | mask2B)\n",
    "check_mask(lexeme_manuell,mask)\n",
    "lexeme_manuell.loc[mask,'tag_lex'] = 'lexAlt'"
   ]
  },
  {
   "cell_type": "code",
   "execution_count": 119,
   "metadata": {},
   "outputs": [
    {
     "name": "stdout",
     "output_type": "stream",
     "text": [
      "check_mask:  0 rows\n",
      "time: 56.3 ms\n"
     ]
    }
   ],
   "source": [
    "# Tab Esszett: member setzen\n",
    "mask1 =  lexeme_manuell.tab == 'esszett'\n",
    "mask2 = ~lexeme_manuell.member.str.contains('lexAlt')\n",
    "mask = mask1  &  mask2\n",
    "check_mask(lexeme_manuell,mask)\n",
    "lexeme_manuell.loc[mask,'member'] += 'lexAlt'"
   ]
  },
  {
   "cell_type": "code",
   "execution_count": 120,
   "metadata": {},
   "outputs": [
    {
     "name": "stdout",
     "output_type": "stream",
     "text": [
      "time: 47.1 ms\n"
     ]
    }
   ],
   "source": [
    "# Tab Abkuerzungen: tag_lex setzen\n",
    "mask = (lexeme_manuell.tab == 'Abkuerzungen')\n",
    "lexeme_manuell.loc[mask,'tag_lex'] = 'abk'\n",
    "\n",
    "mask = lexeme_manuell.member.str.contains('Abkürzung')\n",
    "lexeme_manuell.loc[mask,'tag_lex'] = 'abk'"
   ]
  },
  {
   "cell_type": "code",
   "execution_count": 121,
   "metadata": {},
   "outputs": [
    {
     "data": {
      "text/html": [
       "<div>\n",
       "<style scoped>\n",
       "    .dataframe tbody tr th:only-of-type {\n",
       "        vertical-align: middle;\n",
       "    }\n",
       "\n",
       "    .dataframe tbody tr th {\n",
       "        vertical-align: top;\n",
       "    }\n",
       "\n",
       "    .dataframe thead th {\n",
       "        text-align: right;\n",
       "    }\n",
       "</style>\n",
       "<table border=\"1\" class=\"dataframe\">\n",
       "  <thead>\n",
       "    <tr style=\"text-align: right;\">\n",
       "      <th></th>\n",
       "      <th>tag_lex</th>\n",
       "      <th>lex</th>\n",
       "      <th>lemma</th>\n",
       "      <th>tag</th>\n",
       "      <th>member</th>\n",
       "      <th>Genus</th>\n",
       "      <th>tab</th>\n",
       "      <th>def</th>\n",
       "    </tr>\n",
       "  </thead>\n",
       "  <tbody>\n",
       "    <tr>\n",
       "      <th>0</th>\n",
       "      <td>Ptz2</td>\n",
       "      <td>abberufen</td>\n",
       "      <td>abberufen</td>\n",
       "      <td>VVFIN</td>\n",
       "      <td>manuell</td>\n",
       "      <td></td>\n",
       "      <td>Partizipien</td>\n",
       "      <td></td>\n",
       "    </tr>\n",
       "    <tr>\n",
       "      <th>482</th>\n",
       "      <td>lex</td>\n",
       "      <td>Kids</td>\n",
       "      <td>Kid</td>\n",
       "      <td>NN</td>\n",
       "      <td>manuell</td>\n",
       "      <td>n</td>\n",
       "      <td>Diverses</td>\n",
       "      <td></td>\n",
       "    </tr>\n",
       "    <tr>\n",
       "      <th>497</th>\n",
       "      <td>lex</td>\n",
       "      <td>musses</td>\n",
       "      <td>müssen</td>\n",
       "      <td>VMFIN</td>\n",
       "      <td>manuell</td>\n",
       "      <td></td>\n",
       "      <td>Diverses</td>\n",
       "      <td></td>\n",
       "    </tr>\n",
       "    <tr>\n",
       "      <th>554</th>\n",
       "      <td>ADV</td>\n",
       "      <td>zu viele</td>\n",
       "      <td>zu viel</td>\n",
       "      <td>ADV</td>\n",
       "      <td>manuell</td>\n",
       "      <td></td>\n",
       "      <td>Diverses</td>\n",
       "      <td></td>\n",
       "    </tr>\n",
       "    <tr>\n",
       "      <th>653</th>\n",
       "      <td>lemma</td>\n",
       "      <td>5G</td>\n",
       "      <td>5G</td>\n",
       "      <td>NN</td>\n",
       "      <td>manuell ergänzt</td>\n",
       "      <td></td>\n",
       "      <td>Diverses</td>\n",
       "      <td></td>\n",
       "    </tr>\n",
       "    <tr>\n",
       "      <th>713</th>\n",
       "      <td>lex</td>\n",
       "      <td>❀</td>\n",
       "      <td>_</td>\n",
       "      <td>$(</td>\n",
       "      <td>manuell</td>\n",
       "      <td></td>\n",
       "      <td>Symbole</td>\n",
       "      <td></td>\n",
       "    </tr>\n",
       "    <tr>\n",
       "      <th>715</th>\n",
       "      <td>syn</td>\n",
       "      <td>[</td>\n",
       "      <td>(</td>\n",
       "      <td>$(</td>\n",
       "      <td>manuell</td>\n",
       "      <td></td>\n",
       "      <td>Symbole</td>\n",
       "      <td></td>\n",
       "    </tr>\n",
       "    <tr>\n",
       "      <th>748</th>\n",
       "      <td>lemma</td>\n",
       "      <td>!</td>\n",
       "      <td>!</td>\n",
       "      <td>$.</td>\n",
       "      <td>manuell ergänzt</td>\n",
       "      <td></td>\n",
       "      <td>Symbole</td>\n",
       "      <td></td>\n",
       "    </tr>\n",
       "    <tr>\n",
       "      <th>751</th>\n",
       "      <td>lemma</td>\n",
       "      <td>…</td>\n",
       "      <td>…</td>\n",
       "      <td>$(</td>\n",
       "      <td>manuell ergänzt</td>\n",
       "      <td></td>\n",
       "      <td>Symbole</td>\n",
       "      <td></td>\n",
       "    </tr>\n",
       "    <tr>\n",
       "      <th>1014</th>\n",
       "      <td>lexAlt</td>\n",
       "      <td>gewiß</td>\n",
       "      <td>gewiss</td>\n",
       "      <td>ADV</td>\n",
       "      <td>modal lexAlt manuell</td>\n",
       "      <td></td>\n",
       "      <td>esszett</td>\n",
       "      <td></td>\n",
       "    </tr>\n",
       "    <tr>\n",
       "      <th>1673</th>\n",
       "      <td>abk</td>\n",
       "      <td>Mo-Fr</td>\n",
       "      <td>Montag-Freitag</td>\n",
       "      <td>NN</td>\n",
       "      <td>Einheit Wortverbindung manuell</td>\n",
       "      <td></td>\n",
       "      <td>Abkuerzungen</td>\n",
       "      <td></td>\n",
       "    </tr>\n",
       "    <tr>\n",
       "      <th>2471</th>\n",
       "      <td>lemma</td>\n",
       "      <td>Neunhunderttausend</td>\n",
       "      <td>Neunhunderttausend</td>\n",
       "      <td>NN</td>\n",
       "      <td>Zahlwort manuell</td>\n",
       "      <td>f</td>\n",
       "      <td>Zahlwort</td>\n",
       "      <td>900000</td>\n",
       "    </tr>\n",
       "  </tbody>\n",
       "</table>\n",
       "</div>"
      ],
      "text/plain": [
       "     tag_lex                 lex               lemma    tag  \\\n",
       "0       Ptz2           abberufen           abberufen  VVFIN   \n",
       "482      lex                Kids                 Kid     NN   \n",
       "497      lex              musses              müssen  VMFIN   \n",
       "554      ADV            zu viele             zu viel    ADV   \n",
       "653    lemma                  5G                  5G     NN   \n",
       "713      lex                   ❀                   _     $(   \n",
       "715      syn                   [                   (     $(   \n",
       "748    lemma                   !                   !     $.   \n",
       "751    lemma                   …                   …     $(   \n",
       "1014  lexAlt               gewiß              gewiss    ADV   \n",
       "1673     abk               Mo-Fr      Montag-Freitag     NN   \n",
       "2471   lemma  Neunhunderttausend  Neunhunderttausend     NN   \n",
       "\n",
       "                              member Genus           tab     def  \n",
       "0                            manuell         Partizipien          \n",
       "482                          manuell     n      Diverses          \n",
       "497                          manuell            Diverses          \n",
       "554                          manuell            Diverses          \n",
       "653                  manuell ergänzt            Diverses          \n",
       "713                          manuell             Symbole          \n",
       "715                          manuell             Symbole          \n",
       "748                  manuell ergänzt             Symbole          \n",
       "751                  manuell ergänzt             Symbole          \n",
       "1014            modal lexAlt manuell             esszett          \n",
       "1673  Einheit Wortverbindung manuell        Abkuerzungen          \n",
       "2471                Zahlwort manuell     f      Zahlwort  900000  "
      ]
     },
     "execution_count": 121,
     "metadata": {},
     "output_type": "execute_result"
    },
    {
     "name": "stdout",
     "output_type": "stream",
     "text": [
      "time: 278 ms\n"
     ]
    }
   ],
   "source": [
    "# anschauen\n",
    "pak.sample(lexeme_manuell)"
   ]
  },
  {
   "cell_type": "code",
   "execution_count": 122,
   "metadata": {},
   "outputs": [
    {
     "data": {
      "text/html": [
       "<div>\n",
       "<style scoped>\n",
       "    .dataframe tbody tr th:only-of-type {\n",
       "        vertical-align: middle;\n",
       "    }\n",
       "\n",
       "    .dataframe tbody tr th {\n",
       "        vertical-align: top;\n",
       "    }\n",
       "\n",
       "    .dataframe thead th {\n",
       "        text-align: right;\n",
       "    }\n",
       "</style>\n",
       "<table border=\"1\" class=\"dataframe\">\n",
       "  <thead>\n",
       "    <tr style=\"text-align: right;\">\n",
       "      <th></th>\n",
       "      <th>tag_lex</th>\n",
       "      <th>lex</th>\n",
       "      <th>lemma</th>\n",
       "      <th>tag</th>\n",
       "      <th>member</th>\n",
       "      <th>Genus</th>\n",
       "      <th>tab</th>\n",
       "      <th>def</th>\n",
       "    </tr>\n",
       "  </thead>\n",
       "  <tbody>\n",
       "    <tr>\n",
       "      <th>61</th>\n",
       "      <td>Ptz2</td>\n",
       "      <td>gefriergetrocknet</td>\n",
       "      <td>gefriertrocknen</td>\n",
       "      <td>VVFIN</td>\n",
       "      <td>manuell</td>\n",
       "      <td></td>\n",
       "      <td>Partizipien</td>\n",
       "      <td></td>\n",
       "    </tr>\n",
       "    <tr>\n",
       "      <th>90</th>\n",
       "      <td>Ptz2</td>\n",
       "      <td>mißraten</td>\n",
       "      <td>missraten</td>\n",
       "      <td>VVFIN</td>\n",
       "      <td>manuell</td>\n",
       "      <td></td>\n",
       "      <td>Partizipien</td>\n",
       "      <td></td>\n",
       "    </tr>\n",
       "    <tr>\n",
       "      <th>204</th>\n",
       "      <td>Ptz2</td>\n",
       "      <td>missraten</td>\n",
       "      <td>missraten</td>\n",
       "      <td>VVFIN</td>\n",
       "      <td>manuell</td>\n",
       "      <td></td>\n",
       "      <td>Partizipien</td>\n",
       "      <td></td>\n",
       "    </tr>\n",
       "  </tbody>\n",
       "</table>\n",
       "</div>"
      ],
      "text/plain": [
       "    tag_lex                lex            lemma    tag   member Genus  \\\n",
       "61     Ptz2  gefriergetrocknet  gefriertrocknen  VVFIN  manuell         \n",
       "90     Ptz2           mißraten        missraten  VVFIN  manuell         \n",
       "204    Ptz2          missraten        missraten  VVFIN  manuell         \n",
       "\n",
       "             tab def  \n",
       "61   Partizipien      \n",
       "90   Partizipien      \n",
       "204  Partizipien      "
      ]
     },
     "execution_count": 122,
     "metadata": {},
     "output_type": "execute_result"
    },
    {
     "name": "stdout",
     "output_type": "stream",
     "text": [
      "time: 83.8 ms\n"
     ]
    }
   ],
   "source": [
    "# suche_debug\n",
    "search_str(lexeme_manuell, suche_debug)"
   ]
  },
  {
   "cell_type": "code",
   "execution_count": 123,
   "metadata": {},
   "outputs": [
    {
     "name": "stdout",
     "output_type": "stream",
     "text": [
      "11 rows\n"
     ]
    },
    {
     "data": {
      "text/html": [
       "\n",
       "        <iframe\n",
       "            width=\"100%\"\n",
       "            height=\"475\"\n",
       "            src=\"http://pop-os:40000/dtale/iframe/20\"\n",
       "            frameborder=\"0\"\n",
       "            allowfullscreen\n",
       "            \n",
       "        ></iframe>\n",
       "        "
      ],
      "text/plain": [
       "<IPython.lib.display.IFrame at 0x7f103e9129d0>"
      ]
     },
     "metadata": {},
     "output_type": "display_data"
    },
    {
     "data": {
      "text/plain": []
     },
     "execution_count": 123,
     "metadata": {},
     "output_type": "execute_result"
    },
    {
     "name": "stdout",
     "output_type": "stream",
     "text": [
      "time: 124 ms\n"
     ]
    }
   ],
   "source": [
    "# tag_lex analysieren\n",
    "r = pak.analyse_freqs(lexeme_manuell, ['tag_lex', 'lex', 'member'], splits=[None,None,' '])\n",
    "grid(r)"
   ]
  },
  {
   "cell_type": "code",
   "execution_count": 124,
   "metadata": {},
   "outputs": [
    {
     "data": {
      "text/html": [
       "<div>\n",
       "<style scoped>\n",
       "    .dataframe tbody tr th:only-of-type {\n",
       "        vertical-align: middle;\n",
       "    }\n",
       "\n",
       "    .dataframe tbody tr th {\n",
       "        vertical-align: top;\n",
       "    }\n",
       "\n",
       "    .dataframe thead th {\n",
       "        text-align: right;\n",
       "    }\n",
       "</style>\n",
       "<table border=\"1\" class=\"dataframe\">\n",
       "  <thead>\n",
       "    <tr style=\"text-align: right;\">\n",
       "      <th></th>\n",
       "      <th>tag_lex</th>\n",
       "      <th>lex</th>\n",
       "      <th>lemma</th>\n",
       "      <th>tag</th>\n",
       "      <th>member</th>\n",
       "      <th>Genus</th>\n",
       "      <th>tab</th>\n",
       "      <th>def</th>\n",
       "    </tr>\n",
       "  </thead>\n",
       "  <tbody>\n",
       "    <tr>\n",
       "      <th>61</th>\n",
       "      <td>Ptz2</td>\n",
       "      <td>gefriergetrocknet</td>\n",
       "      <td>gefriertrocknen</td>\n",
       "      <td>VVFIN</td>\n",
       "      <td>manuell</td>\n",
       "      <td></td>\n",
       "      <td>Partizipien</td>\n",
       "      <td></td>\n",
       "    </tr>\n",
       "    <tr>\n",
       "      <th>90</th>\n",
       "      <td>Ptz2</td>\n",
       "      <td>mißraten</td>\n",
       "      <td>missraten</td>\n",
       "      <td>VVFIN</td>\n",
       "      <td>manuell</td>\n",
       "      <td></td>\n",
       "      <td>Partizipien</td>\n",
       "      <td></td>\n",
       "    </tr>\n",
       "    <tr>\n",
       "      <th>204</th>\n",
       "      <td>Ptz2</td>\n",
       "      <td>missraten</td>\n",
       "      <td>missraten</td>\n",
       "      <td>VVFIN</td>\n",
       "      <td>manuell</td>\n",
       "      <td></td>\n",
       "      <td>Partizipien</td>\n",
       "      <td></td>\n",
       "    </tr>\n",
       "  </tbody>\n",
       "</table>\n",
       "</div>"
      ],
      "text/plain": [
       "    tag_lex                lex            lemma    tag   member Genus  \\\n",
       "61     Ptz2  gefriergetrocknet  gefriertrocknen  VVFIN  manuell         \n",
       "90     Ptz2           mißraten        missraten  VVFIN  manuell         \n",
       "204    Ptz2          missraten        missraten  VVFIN  manuell         \n",
       "\n",
       "             tab def  \n",
       "61   Partizipien      \n",
       "90   Partizipien      \n",
       "204  Partizipien      "
      ]
     },
     "execution_count": 124,
     "metadata": {},
     "output_type": "execute_result"
    },
    {
     "name": "stdout",
     "output_type": "stream",
     "text": [
      "time: 97 ms\n"
     ]
    }
   ],
   "source": [
    "# suche_debug\n",
    "search_str(lexeme_manuell, suche_debug)"
   ]
  },
  {
   "cell_type": "code",
   "execution_count": 125,
   "metadata": {},
   "outputs": [
    {
     "name": "stdout",
     "output_type": "stream",
     "text": [
      "time: 60.5 ms\n"
     ]
    }
   ],
   "source": [
    "# Kopie erzeugen, verwenden wir später um alle Partizipien als Adjektive einpflegen zu können\n",
    "lexeme_manuell_copy = lexeme_manuell.copy()"
   ]
  },
  {
   "cell_type": "code",
   "execution_count": 126,
   "metadata": {},
   "outputs": [
    {
     "name": "stdout",
     "output_type": "stream",
     "text": [
      "0 rows less, now 2368 rows\n",
      "time: 2.12 s\n"
     ]
    }
   ],
   "source": [
    "# Spalte flexion erstellen\n",
    "lexeme_manuell['lex_bak'] = lexeme_manuell.lex.copy()\n",
    "lexeme_manuell = pak.implode_to_defaultdict(lexeme_manuell, col_key='tag_lex', col_value='lex', col_result='flexion')"
   ]
  },
  {
   "cell_type": "code",
   "execution_count": 127,
   "metadata": {},
   "outputs": [
    {
     "data": {
      "text/html": [
       "<div>\n",
       "<style scoped>\n",
       "    .dataframe tbody tr th:only-of-type {\n",
       "        vertical-align: middle;\n",
       "    }\n",
       "\n",
       "    .dataframe tbody tr th {\n",
       "        vertical-align: top;\n",
       "    }\n",
       "\n",
       "    .dataframe thead th {\n",
       "        text-align: right;\n",
       "    }\n",
       "</style>\n",
       "<table border=\"1\" class=\"dataframe\">\n",
       "  <thead>\n",
       "    <tr style=\"text-align: right;\">\n",
       "      <th></th>\n",
       "      <th>lemma</th>\n",
       "      <th>tag</th>\n",
       "      <th>member</th>\n",
       "      <th>Genus</th>\n",
       "      <th>tab</th>\n",
       "      <th>def</th>\n",
       "      <th>lex_bak</th>\n",
       "      <th>flexion</th>\n",
       "    </tr>\n",
       "  </thead>\n",
       "  <tbody>\n",
       "    <tr>\n",
       "      <th>1329</th>\n",
       "      <td>gefriertrocknen</td>\n",
       "      <td>VVFIN</td>\n",
       "      <td>manuell</td>\n",
       "      <td></td>\n",
       "      <td>Partizipien</td>\n",
       "      <td></td>\n",
       "      <td>gefriergetrocknet</td>\n",
       "      <td>{'Ptz2': ['gefriergetrocknet']}</td>\n",
       "    </tr>\n",
       "    <tr>\n",
       "      <th>1545</th>\n",
       "      <td>missraten</td>\n",
       "      <td>VVFIN</td>\n",
       "      <td>manuell</td>\n",
       "      <td></td>\n",
       "      <td>Partizipien</td>\n",
       "      <td></td>\n",
       "      <td>missraten</td>\n",
       "      <td>{'Ptz2': ['missraten']}</td>\n",
       "    </tr>\n",
       "    <tr>\n",
       "      <th>1546</th>\n",
       "      <td>missraten</td>\n",
       "      <td>VVFIN</td>\n",
       "      <td>manuell</td>\n",
       "      <td></td>\n",
       "      <td>Partizipien</td>\n",
       "      <td></td>\n",
       "      <td>mißraten</td>\n",
       "      <td>{'Ptz2': ['mißraten']}</td>\n",
       "    </tr>\n",
       "  </tbody>\n",
       "</table>\n",
       "</div>"
      ],
      "text/plain": [
       "                lemma    tag   member Genus          tab def  \\\n",
       "1329  gefriertrocknen  VVFIN  manuell        Partizipien       \n",
       "1545        missraten  VVFIN  manuell        Partizipien       \n",
       "1546        missraten  VVFIN  manuell        Partizipien       \n",
       "\n",
       "                lex_bak                          flexion  \n",
       "1329  gefriergetrocknet  {'Ptz2': ['gefriergetrocknet']}  \n",
       "1545          missraten          {'Ptz2': ['missraten']}  \n",
       "1546           mißraten           {'Ptz2': ['mißraten']}  "
      ]
     },
     "execution_count": 127,
     "metadata": {},
     "output_type": "execute_result"
    },
    {
     "name": "stdout",
     "output_type": "stream",
     "text": [
      "time: 58 ms\n"
     ]
    }
   ],
   "source": [
    "# suche_debug\n",
    "search_str(lexeme_manuell, suche_debug)"
   ]
  },
  {
   "cell_type": "code",
   "execution_count": 128,
   "metadata": {},
   "outputs": [
    {
     "name": "stdout",
     "output_type": "stream",
     "text": [
      "time: 39.4 ms\n"
     ]
    }
   ],
   "source": [
    "# lex == lemma: flexion soll leeres defaultdict sein\n",
    "mask = (lexeme_manuell.lex_bak == lexeme_manuell.lemma) \n",
    "lexeme_manuell.loc[mask,'flexion'] = lexeme_manuell[mask].flexion.apply(lambda x: defaultdict(list))  # auf leeres defaultdict setzen\n",
    "lexeme_manuell = pak.drop_cols(lexeme_manuell, 'lex_bak')\n",
    "#grid(lexeme_manuell,~mask)"
   ]
  },
  {
   "cell_type": "code",
   "execution_count": 129,
   "metadata": {},
   "outputs": [
    {
     "data": {
      "text/html": [
       "<div>\n",
       "<style scoped>\n",
       "    .dataframe tbody tr th:only-of-type {\n",
       "        vertical-align: middle;\n",
       "    }\n",
       "\n",
       "    .dataframe tbody tr th {\n",
       "        vertical-align: top;\n",
       "    }\n",
       "\n",
       "    .dataframe thead th {\n",
       "        text-align: right;\n",
       "    }\n",
       "</style>\n",
       "<table border=\"1\" class=\"dataframe\">\n",
       "  <thead>\n",
       "    <tr style=\"text-align: right;\">\n",
       "      <th></th>\n",
       "      <th>lemma</th>\n",
       "      <th>tag</th>\n",
       "      <th>member</th>\n",
       "      <th>Genus</th>\n",
       "      <th>tab</th>\n",
       "      <th>def</th>\n",
       "      <th>flexion</th>\n",
       "    </tr>\n",
       "  </thead>\n",
       "  <tbody>\n",
       "    <tr>\n",
       "      <th>1329</th>\n",
       "      <td>gefriertrocknen</td>\n",
       "      <td>VVFIN</td>\n",
       "      <td>manuell</td>\n",
       "      <td></td>\n",
       "      <td>Partizipien</td>\n",
       "      <td></td>\n",
       "      <td>{'Ptz2': ['gefriergetrocknet']}</td>\n",
       "    </tr>\n",
       "    <tr>\n",
       "      <th>1545</th>\n",
       "      <td>missraten</td>\n",
       "      <td>VVFIN</td>\n",
       "      <td>manuell</td>\n",
       "      <td></td>\n",
       "      <td>Partizipien</td>\n",
       "      <td></td>\n",
       "      <td>{}</td>\n",
       "    </tr>\n",
       "    <tr>\n",
       "      <th>1546</th>\n",
       "      <td>missraten</td>\n",
       "      <td>VVFIN</td>\n",
       "      <td>manuell</td>\n",
       "      <td></td>\n",
       "      <td>Partizipien</td>\n",
       "      <td></td>\n",
       "      <td>{'Ptz2': ['mißraten']}</td>\n",
       "    </tr>\n",
       "  </tbody>\n",
       "</table>\n",
       "</div>"
      ],
      "text/plain": [
       "                lemma    tag   member Genus          tab def  \\\n",
       "1329  gefriertrocknen  VVFIN  manuell        Partizipien       \n",
       "1545        missraten  VVFIN  manuell        Partizipien       \n",
       "1546        missraten  VVFIN  manuell        Partizipien       \n",
       "\n",
       "                              flexion  \n",
       "1329  {'Ptz2': ['gefriergetrocknet']}  \n",
       "1545                               {}  \n",
       "1546           {'Ptz2': ['mißraten']}  "
      ]
     },
     "execution_count": 129,
     "metadata": {},
     "output_type": "execute_result"
    },
    {
     "name": "stdout",
     "output_type": "stream",
     "text": [
      "time: 74 ms\n"
     ]
    }
   ],
   "source": [
    "# suche_debug\n",
    "search_str(lexeme_manuell, suche_debug)"
   ]
  },
  {
   "cell_type": "code",
   "execution_count": 130,
   "metadata": {},
   "outputs": [
    {
     "name": "stdout",
     "output_type": "stream",
     "text": [
      "time: 266 ms\n"
     ]
    }
   ],
   "source": [
    "# Weitere Spalten in flexion verpacken (mit cols_to_defaultdict\n",
    "lexeme_manuell = pak.cols_to_defaultdict(  lexeme_manuell, col_dict='flexion', cols_add=['Genus','def']   )  "
   ]
  },
  {
   "cell_type": "code",
   "execution_count": 131,
   "metadata": {},
   "outputs": [
    {
     "name": "stdout",
     "output_type": "stream",
     "text": [
      "time: 36.2 ms\n"
     ]
    }
   ],
   "source": [
    "# Spalte tab brauchen wir nicht mehr >> löschen\n",
    "lexeme_manuell = pak.drop_cols(lexeme_manuell, ['tab'])"
   ]
  },
  {
   "cell_type": "code",
   "execution_count": 132,
   "metadata": {},
   "outputs": [
    {
     "data": {
      "text/html": [
       "<div>\n",
       "<style scoped>\n",
       "    .dataframe tbody tr th:only-of-type {\n",
       "        vertical-align: middle;\n",
       "    }\n",
       "\n",
       "    .dataframe tbody tr th {\n",
       "        vertical-align: top;\n",
       "    }\n",
       "\n",
       "    .dataframe thead th {\n",
       "        text-align: right;\n",
       "    }\n",
       "</style>\n",
       "<table border=\"1\" class=\"dataframe\">\n",
       "  <thead>\n",
       "    <tr style=\"text-align: right;\">\n",
       "      <th></th>\n",
       "      <th>lemma</th>\n",
       "      <th>tag</th>\n",
       "      <th>member</th>\n",
       "      <th>flexion</th>\n",
       "    </tr>\n",
       "  </thead>\n",
       "  <tbody>\n",
       "    <tr>\n",
       "      <th>1329</th>\n",
       "      <td>gefriertrocknen</td>\n",
       "      <td>VVFIN</td>\n",
       "      <td>manuell</td>\n",
       "      <td>{'Ptz2': ['gefriergetrocknet']}</td>\n",
       "    </tr>\n",
       "    <tr>\n",
       "      <th>1545</th>\n",
       "      <td>missraten</td>\n",
       "      <td>VVFIN</td>\n",
       "      <td>manuell</td>\n",
       "      <td>{}</td>\n",
       "    </tr>\n",
       "    <tr>\n",
       "      <th>1546</th>\n",
       "      <td>missraten</td>\n",
       "      <td>VVFIN</td>\n",
       "      <td>manuell</td>\n",
       "      <td>{'Ptz2': ['mißraten']}</td>\n",
       "    </tr>\n",
       "  </tbody>\n",
       "</table>\n",
       "</div>"
      ],
      "text/plain": [
       "                lemma    tag   member                          flexion\n",
       "1329  gefriertrocknen  VVFIN  manuell  {'Ptz2': ['gefriergetrocknet']}\n",
       "1545        missraten  VVFIN  manuell                               {}\n",
       "1546        missraten  VVFIN  manuell           {'Ptz2': ['mißraten']}"
      ]
     },
     "execution_count": 132,
     "metadata": {},
     "output_type": "execute_result"
    },
    {
     "name": "stdout",
     "output_type": "stream",
     "text": [
      "time: 65.8 ms\n"
     ]
    }
   ],
   "source": [
    "# suche_debug\n",
    "search_str(lexeme_manuell, suche_debug)"
   ]
  },
  {
   "cell_type": "code",
   "execution_count": 133,
   "metadata": {},
   "outputs": [
    {
     "name": "stdout",
     "output_type": "stream",
     "text": [
      "577 rows less, now 1791 rows\n",
      "time: 979 ms\n"
     ]
    }
   ],
   "source": [
    "# gruppieren\n",
    "lexeme_manuell = pak.group_and_agg(lexeme_manuell,\n",
    "                               ['lemma', 'tag',   'member',              'flexion',            ],\n",
    "                               ['group', 'group',  pak.agg_words_nodup,  pak.agg_defaultdicts, ],\n",
    "                               ['lemma', 'tag',   'member',              'flexion',            ]\n",
    "                              )"
   ]
  },
  {
   "cell_type": "code",
   "execution_count": 134,
   "metadata": {},
   "outputs": [
    {
     "name": "stdout",
     "output_type": "stream",
     "text": [
      "time: 47.6 ms\n"
     ]
    }
   ],
   "source": [
    "# Felder ergänzen\n",
    "lexeme_manuell['title']       = lexeme_manuell.lemma\n",
    "lexeme_manuell['lemma_lower'] = lexeme_manuell.lemma.str.lower() \n",
    "lexeme_manuell = pak.move_cols( lexeme_manuell, 'lemma_lower','lemma')"
   ]
  },
  {
   "cell_type": "code",
   "execution_count": 135,
   "metadata": {},
   "outputs": [
    {
     "name": "stdout",
     "output_type": "stream",
     "text": [
      "time: 119 ms\n"
     ]
    }
   ],
   "source": [
    "# tagZ und tagZZ ermitteln\n",
    "lexeme_manuell = pflege_tag_felder(lexeme_manuell, translate_tagZ)"
   ]
  },
  {
   "cell_type": "code",
   "execution_count": 136,
   "metadata": {},
   "outputs": [
    {
     "name": "stdout",
     "output_type": "stream",
     "text": [
      "100 rows out of 1791\n"
     ]
    },
    {
     "data": {
      "text/html": [
       "\n",
       "        <iframe\n",
       "            width=\"100%\"\n",
       "            height=\"475\"\n",
       "            src=\"http://pop-os:40000/dtale/iframe/21\"\n",
       "            frameborder=\"0\"\n",
       "            allowfullscreen\n",
       "            \n",
       "        ></iframe>\n",
       "        "
      ],
      "text/plain": [
       "<IPython.lib.display.IFrame at 0x7f103e7bc130>"
      ]
     },
     "metadata": {},
     "output_type": "display_data"
    },
    {
     "data": {
      "text/plain": []
     },
     "execution_count": 136,
     "metadata": {},
     "output_type": "execute_result"
    },
    {
     "name": "stdout",
     "output_type": "stream",
     "text": [
      "time: 265 ms\n"
     ]
    }
   ],
   "source": [
    "# anschauen\n",
    "grid(lexeme_manuell, pak.sample_100)"
   ]
  },
  {
   "cell_type": "code",
   "execution_count": 137,
   "metadata": {},
   "outputs": [
    {
     "data": {
      "text/html": [
       "<div>\n",
       "<style scoped>\n",
       "    .dataframe tbody tr th:only-of-type {\n",
       "        vertical-align: middle;\n",
       "    }\n",
       "\n",
       "    .dataframe tbody tr th {\n",
       "        vertical-align: top;\n",
       "    }\n",
       "\n",
       "    .dataframe thead th {\n",
       "        text-align: right;\n",
       "    }\n",
       "</style>\n",
       "<table border=\"1\" class=\"dataframe\">\n",
       "  <thead>\n",
       "    <tr style=\"text-align: right;\">\n",
       "      <th></th>\n",
       "      <th>lemma</th>\n",
       "      <th>lemma_lower</th>\n",
       "      <th>tag</th>\n",
       "      <th>tag_0</th>\n",
       "      <th>tag_1</th>\n",
       "      <th>tagZ</th>\n",
       "      <th>tagZZ</th>\n",
       "      <th>member</th>\n",
       "      <th>flexion</th>\n",
       "      <th>title</th>\n",
       "    </tr>\n",
       "  </thead>\n",
       "  <tbody>\n",
       "    <tr>\n",
       "      <th>1090</th>\n",
       "      <td>gefriertrocknen</td>\n",
       "      <td>gefriertrocknen</td>\n",
       "      <td>VVFIN</td>\n",
       "      <td>VVFIN</td>\n",
       "      <td>E9HfVlVodG</td>\n",
       "      <td>VER</td>\n",
       "      <td>V</td>\n",
       "      <td>manuell</td>\n",
       "      <td>{'Ptz2': ['gefriergetrocknet']}</td>\n",
       "      <td>gefriertrocknen</td>\n",
       "    </tr>\n",
       "    <tr>\n",
       "      <th>1235</th>\n",
       "      <td>missraten</td>\n",
       "      <td>missraten</td>\n",
       "      <td>VVFIN</td>\n",
       "      <td>VVFIN</td>\n",
       "      <td>pEaXLD9Gtb</td>\n",
       "      <td>VER</td>\n",
       "      <td>V</td>\n",
       "      <td>manuell</td>\n",
       "      <td>{'Ptz2': ['mißraten']}</td>\n",
       "      <td>missraten</td>\n",
       "    </tr>\n",
       "  </tbody>\n",
       "</table>\n",
       "</div>"
      ],
      "text/plain": [
       "                lemma      lemma_lower    tag  tag_0       tag_1 tagZ tagZZ  \\\n",
       "1090  gefriertrocknen  gefriertrocknen  VVFIN  VVFIN  E9HfVlVodG  VER     V   \n",
       "1235        missraten        missraten  VVFIN  VVFIN  pEaXLD9Gtb  VER     V   \n",
       "\n",
       "       member                          flexion            title  \n",
       "1090  manuell  {'Ptz2': ['gefriergetrocknet']}  gefriertrocknen  \n",
       "1235  manuell           {'Ptz2': ['mißraten']}        missraten  "
      ]
     },
     "execution_count": 137,
     "metadata": {},
     "output_type": "execute_result"
    },
    {
     "name": "stdout",
     "output_type": "stream",
     "text": [
      "time: 90.9 ms\n"
     ]
    }
   ],
   "source": [
    "# suche_debug\n",
    "search_str(lexeme_manuell, suche_debug)"
   ]
  },
  {
   "cell_type": "code",
   "execution_count": 138,
   "metadata": {},
   "outputs": [
    {
     "data": {
      "text/html": [
       "<div>\n",
       "<style scoped>\n",
       "    .dataframe tbody tr th:only-of-type {\n",
       "        vertical-align: middle;\n",
       "    }\n",
       "\n",
       "    .dataframe tbody tr th {\n",
       "        vertical-align: top;\n",
       "    }\n",
       "\n",
       "    .dataframe thead th {\n",
       "        text-align: right;\n",
       "    }\n",
       "</style>\n",
       "<table border=\"1\" class=\"dataframe\">\n",
       "  <thead>\n",
       "    <tr style=\"text-align: right;\">\n",
       "      <th></th>\n",
       "      <th>lemma</th>\n",
       "      <th>lemma_lower</th>\n",
       "      <th>tag</th>\n",
       "      <th>tag_0</th>\n",
       "      <th>tag_1</th>\n",
       "      <th>tagZ</th>\n",
       "      <th>tagZZ</th>\n",
       "      <th>member</th>\n",
       "      <th>flexion</th>\n",
       "      <th>title</th>\n",
       "    </tr>\n",
       "  </thead>\n",
       "  <tbody>\n",
       "    <tr>\n",
       "      <th>1635</th>\n",
       "      <td>welch</td>\n",
       "      <td>welch</td>\n",
       "      <td>PRELS PWAT</td>\n",
       "      <td>PRELS</td>\n",
       "      <td>PWAT</td>\n",
       "      <td>PRO</td>\n",
       "      <td>P</td>\n",
       "      <td>manuell</td>\n",
       "      <td>{'lex': ['welche', 'welchem', 'welchen', 'welc...</td>\n",
       "      <td>welch</td>\n",
       "    </tr>\n",
       "  </tbody>\n",
       "</table>\n",
       "</div>"
      ],
      "text/plain": [
       "      lemma lemma_lower         tag  tag_0 tag_1 tagZ tagZZ   member  \\\n",
       "1635  welch       welch  PRELS PWAT  PRELS  PWAT  PRO     P  manuell   \n",
       "\n",
       "                                                flexion  title  \n",
       "1635  {'lex': ['welche', 'welchem', 'welchen', 'welc...  welch  "
      ]
     },
     "execution_count": 138,
     "metadata": {},
     "output_type": "execute_result"
    },
    {
     "name": "stdout",
     "output_type": "stream",
     "text": [
      "time: 109 ms\n"
     ]
    }
   ],
   "source": [
    "# anschauen: mehr als ein tag\n",
    "mask = (lexeme_manuell.tag.str.split().str.len() > 1)\n",
    "lexeme_manuell[mask]"
   ]
  },
  {
   "cell_type": "code",
   "execution_count": 139,
   "metadata": {},
   "outputs": [
    {
     "name": "stdout",
     "output_type": "stream",
     "text": [
      "time: 51.4 ms\n"
     ]
    }
   ],
   "source": [
    "# section_id2 schreiben\n",
    "lexeme_manuell['section_id2'] = lexeme_manuell.lemma.str.replace(' ','_') + '_M'\n",
    "mask = lexeme_manuell.tag == 'CARD'\n",
    "lexeme_manuell.loc[mask,'section_id2'] = lexeme_manuell[mask].lemma.str.replace(' ','_') + '_Z'\n",
    "lexeme_manuell = pak.move_cols(lexeme_manuell, ['section_id2','title'])"
   ]
  },
  {
   "cell_type": "code",
   "execution_count": 140,
   "metadata": {},
   "outputs": [
    {
     "data": {
      "text/html": [
       "<div>\n",
       "<style scoped>\n",
       "    .dataframe tbody tr th:only-of-type {\n",
       "        vertical-align: middle;\n",
       "    }\n",
       "\n",
       "    .dataframe tbody tr th {\n",
       "        vertical-align: top;\n",
       "    }\n",
       "\n",
       "    .dataframe thead th {\n",
       "        text-align: right;\n",
       "    }\n",
       "</style>\n",
       "<table border=\"1\" class=\"dataframe\">\n",
       "  <thead>\n",
       "    <tr style=\"text-align: right;\">\n",
       "      <th></th>\n",
       "      <th>section_id2</th>\n",
       "      <th>title</th>\n",
       "      <th>lemma</th>\n",
       "      <th>lemma_lower</th>\n",
       "      <th>tag</th>\n",
       "      <th>tag_0</th>\n",
       "      <th>tag_1</th>\n",
       "      <th>tagZ</th>\n",
       "      <th>tagZZ</th>\n",
       "      <th>member</th>\n",
       "      <th>flexion</th>\n",
       "    </tr>\n",
       "  </thead>\n",
       "  <tbody>\n",
       "    <tr>\n",
       "      <th>1090</th>\n",
       "      <td>gefriertrocknen_M</td>\n",
       "      <td>gefriertrocknen</td>\n",
       "      <td>gefriertrocknen</td>\n",
       "      <td>gefriertrocknen</td>\n",
       "      <td>VVFIN</td>\n",
       "      <td>VVFIN</td>\n",
       "      <td>E9HfVlVodG</td>\n",
       "      <td>VER</td>\n",
       "      <td>V</td>\n",
       "      <td>manuell</td>\n",
       "      <td>{'Ptz2': ['gefriergetrocknet']}</td>\n",
       "    </tr>\n",
       "    <tr>\n",
       "      <th>1235</th>\n",
       "      <td>missraten_M</td>\n",
       "      <td>missraten</td>\n",
       "      <td>missraten</td>\n",
       "      <td>missraten</td>\n",
       "      <td>VVFIN</td>\n",
       "      <td>VVFIN</td>\n",
       "      <td>pEaXLD9Gtb</td>\n",
       "      <td>VER</td>\n",
       "      <td>V</td>\n",
       "      <td>manuell</td>\n",
       "      <td>{'Ptz2': ['mißraten']}</td>\n",
       "    </tr>\n",
       "  </tbody>\n",
       "</table>\n",
       "</div>"
      ],
      "text/plain": [
       "            section_id2            title            lemma      lemma_lower  \\\n",
       "1090  gefriertrocknen_M  gefriertrocknen  gefriertrocknen  gefriertrocknen   \n",
       "1235        missraten_M        missraten        missraten        missraten   \n",
       "\n",
       "        tag  tag_0       tag_1 tagZ tagZZ   member  \\\n",
       "1090  VVFIN  VVFIN  E9HfVlVodG  VER     V  manuell   \n",
       "1235  VVFIN  VVFIN  pEaXLD9Gtb  VER     V  manuell   \n",
       "\n",
       "                              flexion  \n",
       "1090  {'Ptz2': ['gefriergetrocknet']}  \n",
       "1235           {'Ptz2': ['mißraten']}  "
      ]
     },
     "execution_count": 140,
     "metadata": {},
     "output_type": "execute_result"
    },
    {
     "name": "stdout",
     "output_type": "stream",
     "text": [
      "time: 83.1 ms\n"
     ]
    }
   ],
   "source": [
    "# suche_debug\n",
    "search_str(lexeme_manuell, suche_debug)"
   ]
  },
  {
   "cell_type": "code",
   "execution_count": 141,
   "metadata": {},
   "outputs": [
    {
     "name": "stdout",
     "output_type": "stream",
     "text": [
      "time: 30.1 ms\n"
     ]
    }
   ],
   "source": [
    "#wiktionary"
   ]
  },
  {
   "cell_type": "code",
   "execution_count": 142,
   "metadata": {},
   "outputs": [
    {
     "name": "stdout",
     "output_type": "stream",
     "text": [
      "update_col: col_score score applied, 3221 records less!\n",
      "update_col: 1174 cells written into existing column\n",
      "update_col: col_score score applied, 2242 records less!\n",
      "update_col: 1150 cells written into existing column\n",
      "update_col: col_score score applied, 3455 records less!\n",
      "update_col: 1135 cells written into existing column\n",
      "update_col: col_score score applied, 4 records less!\n",
      "update_col: 34 cells written into existing column\n",
      "time: 2.94 s\n"
     ]
    }
   ],
   "source": [
    "# Bekannte section_id2 aus wiktionary übertragen\n",
    "\n",
    "mask = (wiktionary.lemma == wiktionary.title)  # wichtig! Gerade die Datensätze, die nicht darunter fallen, verursachen Probleme bei Partizipien.\n",
    "\n",
    "# tagZZ\n",
    "lexeme_manuell = pak.update_col(lexeme_manuell, wiktionary[mask], on=['lemma_lower','tagZZ'], col='section_id2',  col_score='score'  )\n",
    "\n",
    "#tagZ\n",
    "lexeme_manuell = pak.update_col(lexeme_manuell, wiktionary[mask], on=['lemma_lower','tagZ'],  col='section_id2',  col_score='score'  )\n",
    "\n",
    "# tag\n",
    "lexeme_manuell = pak.update_col(lexeme_manuell, wiktionary[mask], on=['lemma_lower','tag'],   col='section_id2',  col_score='score'  )\n",
    "\n",
    "# Wenn ein sinnvoller tag fehlt, reicht lemma\n",
    "mask = (wiktionary.lemma == wiktionary.title)   &   wiktionary.tag.str.contains('TODO')\n",
    "lexeme_manuell = pak.update_col(lexeme_manuell, wiktionary[mask], on=['lemma'], col='section_id2',  col_score='score' )"
   ]
  },
  {
   "cell_type": "code",
   "execution_count": 143,
   "metadata": {},
   "outputs": [
    {
     "data": {
      "text/html": [
       "<div>\n",
       "<style scoped>\n",
       "    .dataframe tbody tr th:only-of-type {\n",
       "        vertical-align: middle;\n",
       "    }\n",
       "\n",
       "    .dataframe tbody tr th {\n",
       "        vertical-align: top;\n",
       "    }\n",
       "\n",
       "    .dataframe thead th {\n",
       "        text-align: right;\n",
       "    }\n",
       "</style>\n",
       "<table border=\"1\" class=\"dataframe\">\n",
       "  <thead>\n",
       "    <tr style=\"text-align: right;\">\n",
       "      <th></th>\n",
       "      <th>section_id2</th>\n",
       "      <th>title</th>\n",
       "      <th>lemma</th>\n",
       "      <th>lemma_lower</th>\n",
       "      <th>tag</th>\n",
       "      <th>tag_0</th>\n",
       "      <th>tag_1</th>\n",
       "      <th>tagZ</th>\n",
       "      <th>tagZZ</th>\n",
       "      <th>member</th>\n",
       "      <th>flexion</th>\n",
       "    </tr>\n",
       "  </thead>\n",
       "  <tbody>\n",
       "    <tr>\n",
       "      <th>1090</th>\n",
       "      <td>gefriertrocknen</td>\n",
       "      <td>gefriertrocknen</td>\n",
       "      <td>gefriertrocknen</td>\n",
       "      <td>gefriertrocknen</td>\n",
       "      <td>VVFIN</td>\n",
       "      <td>VVFIN</td>\n",
       "      <td>E9HfVlVodG</td>\n",
       "      <td>VER</td>\n",
       "      <td>V</td>\n",
       "      <td>manuell</td>\n",
       "      <td>{'Ptz2': ['gefriergetrocknet']}</td>\n",
       "    </tr>\n",
       "    <tr>\n",
       "      <th>1235</th>\n",
       "      <td>missraten</td>\n",
       "      <td>missraten</td>\n",
       "      <td>missraten</td>\n",
       "      <td>missraten</td>\n",
       "      <td>VVFIN</td>\n",
       "      <td>VVFIN</td>\n",
       "      <td>pEaXLD9Gtb</td>\n",
       "      <td>VER</td>\n",
       "      <td>V</td>\n",
       "      <td>manuell</td>\n",
       "      <td>{'Ptz2': ['mißraten']}</td>\n",
       "    </tr>\n",
       "  </tbody>\n",
       "</table>\n",
       "</div>"
      ],
      "text/plain": [
       "          section_id2            title            lemma      lemma_lower  \\\n",
       "1090  gefriertrocknen  gefriertrocknen  gefriertrocknen  gefriertrocknen   \n",
       "1235        missraten        missraten        missraten        missraten   \n",
       "\n",
       "        tag  tag_0       tag_1 tagZ tagZZ   member  \\\n",
       "1090  VVFIN  VVFIN  E9HfVlVodG  VER     V  manuell   \n",
       "1235  VVFIN  VVFIN  pEaXLD9Gtb  VER     V  manuell   \n",
       "\n",
       "                              flexion  \n",
       "1090  {'Ptz2': ['gefriergetrocknet']}  \n",
       "1235           {'Ptz2': ['mißraten']}  "
      ]
     },
     "execution_count": 143,
     "metadata": {},
     "output_type": "execute_result"
    },
    {
     "name": "stdout",
     "output_type": "stream",
     "text": [
      "time: 67.1 ms\n"
     ]
    }
   ],
   "source": [
    "# suche_debug\n",
    "search_str(lexeme_manuell, suche_debug)"
   ]
  },
  {
   "cell_type": "code",
   "execution_count": 144,
   "metadata": {},
   "outputs": [
    {
     "name": "stdout",
     "output_type": "stream",
     "text": [
      "time: 34.1 ms\n"
     ]
    }
   ],
   "source": [
    "# anschauen\n",
    "#grid(lexeme_manuell, pak.sample_100)"
   ]
  },
  {
   "cell_type": "code",
   "execution_count": 145,
   "metadata": {},
   "outputs": [
    {
     "name": "stdout",
     "output_type": "stream",
     "text": [
      "1791 rows added, now a total of 812908\n",
      "time: 756 ms\n"
     ]
    }
   ],
   "source": [
    "# anfügen\n",
    "wiktionary = pak.add_rows(wiktionary, lexeme_manuell, assert_subset=True)"
   ]
  },
  {
   "cell_type": "code",
   "execution_count": 146,
   "metadata": {},
   "outputs": [
    {
     "name": "stdout",
     "output_type": "stream",
     "text": [
      "check_mask:  4874 rows\n",
      "time: 679 ms\n"
     ]
    }
   ],
   "source": [
    "# section_id2 ist jetzt nicht mehr eindeutig\n",
    "mask = wiktionary.duplicated(subset=['section_id2'], keep=False)\n",
    "check_mask(wiktionary,mask,4517) \n",
    "#a = wiktionary[mask].sort_values(['section_id2'])\n",
    "#grid(a)"
   ]
  },
  {
   "cell_type": "code",
   "execution_count": 147,
   "metadata": {},
   "outputs": [
    {
     "name": "stdout",
     "output_type": "stream",
     "text": [
      "time: 244 ms\n"
     ]
    }
   ],
   "source": [
    "assert pak.ntypes(wiktionary.flexion) == 1"
   ]
  },
  {
   "cell_type": "code",
   "execution_count": 148,
   "metadata": {},
   "outputs": [
    {
     "name": "stdout",
     "output_type": "stream",
     "text": [
      "time: 34.1 ms\n"
     ]
    }
   ],
   "source": [
    "# wiktionary suche_debug\n",
    "#grid(search_str(wiktionary, suche_debug))"
   ]
  },
  {
   "cell_type": "markdown",
   "metadata": {},
   "source": [
    "## ipa, syllables & rhymes"
   ]
  },
  {
   "cell_type": "code",
   "execution_count": 149,
   "metadata": {},
   "outputs": [
    {
     "name": "stdout",
     "output_type": "stream",
     "text": [
      "time: 389 ms\n"
     ]
    }
   ],
   "source": [
    "# Datentypen sind in jeder Zeile gleich\n",
    "assert pak.ntypes(wiktionary.ipa) == 1\n",
    "assert pak.ntypes(wiktionary.syllables) == 1"
   ]
  },
  {
   "cell_type": "code",
   "execution_count": 150,
   "metadata": {},
   "outputs": [
    {
     "name": "stdout",
     "output_type": "stream",
     "text": [
      "time: 2.01 s\n"
     ]
    }
   ],
   "source": [
    "# Listen zu Strings\n",
    "mask = ~wiktionary.ipa.isnull()\n",
    "wiktionary.loc[mask,'ipa'] = wiktionary[mask].ipa.str[0]\n",
    "\n",
    "mask = ~wiktionary.syllables.isnull()\n",
    "wiktionary.loc[mask,'syllables'] = wiktionary[mask].syllables.str.join('⇀')\n",
    "\n",
    "mask = ~wiktionary.rhymes.isnull()\n",
    "wiktionary.loc[mask,'rhymes'] = wiktionary[mask].rhymes.str[0]"
   ]
  },
  {
   "cell_type": "code",
   "execution_count": 151,
   "metadata": {},
   "outputs": [
    {
     "name": "stdout",
     "output_type": "stream",
     "text": [
      "time: 1min 33s\n"
     ]
    }
   ],
   "source": [
    "# cols_to_defaultdict\n",
    "# 1 min\n",
    "wiktionary = pak.cols_to_defaultdict( wiktionary, col_dict='flexion', cols_add=['ipa','syllables','rhymes']  )"
   ]
  },
  {
   "cell_type": "code",
   "execution_count": 152,
   "metadata": {},
   "outputs": [
    {
     "name": "stdout",
     "output_type": "stream",
     "text": [
      "14 rows out of 812908\n"
     ]
    },
    {
     "data": {
      "text/html": [
       "\n",
       "        <iframe\n",
       "            width=\"100%\"\n",
       "            height=\"475\"\n",
       "            src=\"http://pop-os:40000/dtale/iframe/22\"\n",
       "            frameborder=\"0\"\n",
       "            allowfullscreen\n",
       "            \n",
       "        ></iframe>\n",
       "        "
      ],
      "text/plain": [
       "<IPython.lib.display.IFrame at 0x7f0fb480c0d0>"
      ]
     },
     "metadata": {},
     "output_type": "display_data"
    },
    {
     "data": {
      "text/plain": []
     },
     "execution_count": 152,
     "metadata": {},
     "output_type": "execute_result"
    },
    {
     "name": "stdout",
     "output_type": "stream",
     "text": [
      "time: 7.17 s\n"
     ]
    }
   ],
   "source": [
    "# wiktionary anschauen\n",
    "grid(wiktionary, pak.sample)"
   ]
  },
  {
   "cell_type": "markdown",
   "metadata": {},
   "source": [
    "## flexion nach wiktionary_merkmal exploden\n",
    "* hiernach muss die löschliste nochmal angewendet werden"
   ]
  },
  {
   "cell_type": "code",
   "execution_count": 153,
   "metadata": {},
   "outputs": [
    {
     "name": "stdout",
     "output_type": "stream",
     "text": [
      "time: 1min 48s\n"
     ]
    }
   ],
   "source": [
    "# flexion: vorbereiten\n",
    "mask1 = wiktionary.flexion.notnull() \n",
    "mask2 = wiktionary.flexion != {}\n",
    "mask3 = wiktionary.flexion != defaultdict(list)\n",
    "mask = mask1  &  mask2  &  mask3 \n",
    "\n",
    "spalten = ['section_id2','flexion']\n",
    "df = pak.explode_dict(wiktionary[spalten][mask], col_dict='flexion', col_key='node_kontext', col_value='data', from_defaultdict=True)\n",
    "df['merkmal'] = 'flexion'"
   ]
  },
  {
   "cell_type": "code",
   "execution_count": 154,
   "metadata": {},
   "outputs": [
    {
     "name": "stdout",
     "output_type": "stream",
     "text": [
      "3 rows out of 2899974\n"
     ]
    },
    {
     "data": {
      "text/html": [
       "\n",
       "        <iframe\n",
       "            width=\"100%\"\n",
       "            height=\"475\"\n",
       "            src=\"http://pop-os:40000/dtale/iframe/23\"\n",
       "            frameborder=\"0\"\n",
       "            allowfullscreen\n",
       "            \n",
       "        ></iframe>\n",
       "        "
      ],
      "text/plain": [
       "<IPython.lib.display.IFrame at 0x7f0fe74268b0>"
      ]
     },
     "metadata": {},
     "output_type": "display_data"
    },
    {
     "data": {
      "text/plain": []
     },
     "execution_count": 154,
     "metadata": {},
     "output_type": "execute_result"
    },
    {
     "name": "stdout",
     "output_type": "stream",
     "text": [
      "time: 974 ms\n"
     ]
    }
   ],
   "source": [
    "# Beispiel anschauen\n",
    "mask = df.section_id2 == suche_debug[0]\n",
    "grid(df,mask)"
   ]
  },
  {
   "cell_type": "code",
   "execution_count": 155,
   "metadata": {},
   "outputs": [
    {
     "name": "stdout",
     "output_type": "stream",
     "text": [
      "3 rows out of 2899974\n"
     ]
    },
    {
     "data": {
      "text/html": [
       "\n",
       "        <iframe\n",
       "            width=\"100%\"\n",
       "            height=\"475\"\n",
       "            src=\"http://pop-os:40000/dtale/iframe/24\"\n",
       "            frameborder=\"0\"\n",
       "            allowfullscreen\n",
       "            \n",
       "        ></iframe>\n",
       "        "
      ],
      "text/plain": [
       "<IPython.lib.display.IFrame at 0x7f1068bac550>"
      ]
     },
     "metadata": {},
     "output_type": "display_data"
    },
    {
     "data": {
      "text/plain": []
     },
     "execution_count": 155,
     "metadata": {},
     "output_type": "execute_result"
    },
    {
     "name": "stdout",
     "output_type": "stream",
     "text": [
      "time: 262 ms\n"
     ]
    }
   ],
   "source": [
    "# Beispiel anschauen\n",
    "mask = df.section_id2 == suche_debug[0]\n",
    "grid(df,mask)"
   ]
  },
  {
   "cell_type": "code",
   "execution_count": 156,
   "metadata": {},
   "outputs": [
    {
     "name": "stdout",
     "output_type": "stream",
     "text": [
      "2899974 rows added, now a total of 6033127\n",
      "time: 6.03 s\n"
     ]
    }
   ],
   "source": [
    "# an wiktionary_merkmal anfügen\n",
    "wiktionary_merkmal = pak.add_rows(wiktionary_merkmal, df, assert_subset=True)\n",
    "wiktionary   = pak.drop_cols(wiktionary, ['flexion'])  "
   ]
  },
  {
   "cell_type": "code",
   "execution_count": 157,
   "metadata": {},
   "outputs": [
    {
     "name": "stdout",
     "output_type": "stream",
     "text": [
      "76 rows out of 6033127\n"
     ]
    },
    {
     "data": {
      "text/html": [
       "\n",
       "        <iframe\n",
       "            width=\"100%\"\n",
       "            height=\"475\"\n",
       "            src=\"http://pop-os:40000/dtale/iframe/25\"\n",
       "            frameborder=\"0\"\n",
       "            allowfullscreen\n",
       "            \n",
       "        ></iframe>\n",
       "        "
      ],
      "text/plain": [
       "<IPython.lib.display.IFrame at 0x7f103b535340>"
      ]
     },
     "metadata": {},
     "output_type": "display_data"
    },
    {
     "data": {
      "text/plain": []
     },
     "execution_count": 157,
     "metadata": {},
     "output_type": "execute_result"
    },
    {
     "name": "stdout",
     "output_type": "stream",
     "text": [
      "time: 307 ms\n"
     ]
    }
   ],
   "source": [
    "# Beispiel anschauen\n",
    "mask = wiktionary_merkmal.section_id2.isin(suche_debug)\n",
    "grid(wiktionary_merkmal,mask)"
   ]
  },
  {
   "cell_type": "markdown",
   "metadata": {},
   "source": [
    "## wiktionary in 3 Teile aufteilen"
   ]
  },
  {
   "cell_type": "code",
   "execution_count": 158,
   "metadata": {},
   "outputs": [
    {
     "name": "stdout",
     "output_type": "stream",
     "text": [
      "5 rows\n"
     ]
    },
    {
     "data": {
      "text/html": [
       "\n",
       "        <iframe\n",
       "            width=\"100%\"\n",
       "            height=\"475\"\n",
       "            src=\"http://pop-os:40000/dtale/iframe/26\"\n",
       "            frameborder=\"0\"\n",
       "            allowfullscreen\n",
       "            \n",
       "        ></iframe>\n",
       "        "
      ],
      "text/plain": [
       "<IPython.lib.display.IFrame at 0x7f0fa1db9790>"
      ]
     },
     "metadata": {},
     "output_type": "display_data"
    },
    {
     "data": {
      "text/plain": []
     },
     "execution_count": 158,
     "metadata": {},
     "output_type": "execute_result"
    },
    {
     "name": "stdout",
     "output_type": "stream",
     "text": [
      "time: 246 ms\n"
     ]
    }
   ],
   "source": [
    "# suche_debug \n",
    "mask = wiktionary.title.isin(suche_debug)\n",
    "grid(wiktionary[mask].sort_values(['section_id2',]))"
   ]
  },
  {
   "cell_type": "code",
   "execution_count": 159,
   "metadata": {},
   "outputs": [
    {
     "name": "stdout",
     "output_type": "stream",
     "text": [
      "time: 24.4 s\n"
     ]
    }
   ],
   "source": [
    "# pflege_tag_felder (zur Sicherheit noch mal)\n",
    "wiktionary = pflege_tag_felder(wiktionary, translate_tagZ)"
   ]
  },
  {
   "cell_type": "code",
   "execution_count": 160,
   "metadata": {},
   "outputs": [
    {
     "name": "stdout",
     "output_type": "stream",
     "text": [
      "check_mask:  0 rows\n",
      "time: 825 ms\n"
     ]
    }
   ],
   "source": [
    "# LEX-Kennzeichnung sollte eineindeutig sein, außer bei FIX\n",
    "mask = wiktionary.tag.str.contains('LEX_')   &   wiktionary.tag.str.contains(' ')   &   ~wiktionary.tag.str.contains('FIX')\n",
    "#grid(wiktionary,mask)\n",
    "check_mask(wiktionary,mask, 0, 0)"
   ]
  },
  {
   "cell_type": "markdown",
   "metadata": {},
   "source": [
    "### wiktionary_partizip\n",
    "* Enthält Partizipien in Form von Partizipialadjektiven\n",
    "* Aber keine Verben mit Partizip-Lexem!"
   ]
  },
  {
   "cell_type": "code",
   "execution_count": 161,
   "metadata": {},
   "outputs": [
    {
     "name": "stdout",
     "output_type": "stream",
     "text": [
      "Move 26594 rows from 812908\n",
      "time: 1.19 s\n"
     ]
    }
   ],
   "source": [
    "# Partizipien nach wiktionary_partizip abspalten\n",
    "mask1 = wiktionary.tag == 'ADJA'\n",
    "mask2 = wiktionary.member.str.contains('Ptz')  \n",
    "mask = mask1  &  mask2\n",
    "wiktionary, wiktionary_partizip = pak.move_rows( wiktionary, mask, msg=None )  "
   ]
  },
  {
   "cell_type": "code",
   "execution_count": 162,
   "metadata": {},
   "outputs": [
    {
     "data": {
      "text/html": [
       "<div>\n",
       "<style scoped>\n",
       "    .dataframe tbody tr th:only-of-type {\n",
       "        vertical-align: middle;\n",
       "    }\n",
       "\n",
       "    .dataframe tbody tr th {\n",
       "        vertical-align: top;\n",
       "    }\n",
       "\n",
       "    .dataframe thead th {\n",
       "        text-align: right;\n",
       "    }\n",
       "</style>\n",
       "<table border=\"1\" class=\"dataframe\">\n",
       "  <thead>\n",
       "    <tr style=\"text-align: right;\">\n",
       "      <th></th>\n",
       "      <th>page_id</th>\n",
       "      <th>page_part</th>\n",
       "      <th>section_id2</th>\n",
       "      <th>title</th>\n",
       "      <th>lemma</th>\n",
       "      <th>inflected</th>\n",
       "      <th>pos</th>\n",
       "      <th>tag</th>\n",
       "      <th>tag_0</th>\n",
       "      <th>tag_1</th>\n",
       "      <th>tagZ</th>\n",
       "      <th>tagZZ</th>\n",
       "      <th>member</th>\n",
       "      <th>score</th>\n",
       "      <th>lang</th>\n",
       "      <th>lang_code</th>\n",
       "      <th>error</th>\n",
       "      <th>lemma_lower</th>\n",
       "    </tr>\n",
       "  </thead>\n",
       "  <tbody>\n",
       "    <tr>\n",
       "      <th>97982</th>\n",
       "      <td>242150.0</td>\n",
       "      <td>0.0</td>\n",
       "      <td>missraten</td>\n",
       "      <td>missraten</td>\n",
       "      <td>missraten</td>\n",
       "      <td>False</td>\n",
       "      <td>{'Verb': []}</td>\n",
       "      <td>VVFIN</td>\n",
       "      <td>VVFIN</td>\n",
       "      <td>foLRX8vFnm</td>\n",
       "      <td>VER</td>\n",
       "      <td>V</td>\n",
       "      <td>Verb</td>\n",
       "      <td>4.472594</td>\n",
       "      <td>Deutsch</td>\n",
       "      <td>de</td>\n",
       "      <td></td>\n",
       "      <td>missraten</td>\n",
       "    </tr>\n",
       "    <tr>\n",
       "      <th>121110</th>\n",
       "      <td>273380.0</td>\n",
       "      <td>0.0</td>\n",
       "      <td>gefriergetrocknet</td>\n",
       "      <td>gefriergetrocknet</td>\n",
       "      <td>gefriergetrocknet</td>\n",
       "      <td>False</td>\n",
       "      <td>{'Adjektiv': []}</td>\n",
       "      <td>ADJA</td>\n",
       "      <td>ADJA</td>\n",
       "      <td>M9yT3byKKu</td>\n",
       "      <td>ADJ</td>\n",
       "      <td>A</td>\n",
       "      <td>Adjektiv</td>\n",
       "      <td>3.807552</td>\n",
       "      <td>Deutsch</td>\n",
       "      <td>de</td>\n",
       "      <td></td>\n",
       "      <td>gefriergetrocknet</td>\n",
       "    </tr>\n",
       "    <tr>\n",
       "      <th>783784</th>\n",
       "      <td>1054310.0</td>\n",
       "      <td>0.0</td>\n",
       "      <td>gefriertrocknen</td>\n",
       "      <td>gefriertrocknen</td>\n",
       "      <td>gefriertrocknen</td>\n",
       "      <td>False</td>\n",
       "      <td>{'Verb': []}</td>\n",
       "      <td>VVFIN</td>\n",
       "      <td>VVFIN</td>\n",
       "      <td>TLhfFhOWFO</td>\n",
       "      <td>VER</td>\n",
       "      <td>V</td>\n",
       "      <td>Verb</td>\n",
       "      <td>14.422655</td>\n",
       "      <td>Deutsch</td>\n",
       "      <td>de</td>\n",
       "      <td></td>\n",
       "      <td>gefriertrocknen</td>\n",
       "    </tr>\n",
       "    <tr>\n",
       "      <th>812207</th>\n",
       "      <td>NaN</td>\n",
       "      <td>NaN</td>\n",
       "      <td>gefriertrocknen</td>\n",
       "      <td>gefriertrocknen</td>\n",
       "      <td>gefriertrocknen</td>\n",
       "      <td>NaN</td>\n",
       "      <td>NaN</td>\n",
       "      <td>VVFIN</td>\n",
       "      <td>VVFIN</td>\n",
       "      <td>dFIK2wex3d</td>\n",
       "      <td>VER</td>\n",
       "      <td>V</td>\n",
       "      <td>manuell</td>\n",
       "      <td>NaN</td>\n",
       "      <td>NaN</td>\n",
       "      <td>NaN</td>\n",
       "      <td>NaN</td>\n",
       "      <td>gefriertrocknen</td>\n",
       "    </tr>\n",
       "    <tr>\n",
       "      <th>812352</th>\n",
       "      <td>NaN</td>\n",
       "      <td>NaN</td>\n",
       "      <td>missraten</td>\n",
       "      <td>missraten</td>\n",
       "      <td>missraten</td>\n",
       "      <td>NaN</td>\n",
       "      <td>NaN</td>\n",
       "      <td>VVFIN</td>\n",
       "      <td>VVFIN</td>\n",
       "      <td>hMbvB8jNwL</td>\n",
       "      <td>VER</td>\n",
       "      <td>V</td>\n",
       "      <td>manuell</td>\n",
       "      <td>NaN</td>\n",
       "      <td>NaN</td>\n",
       "      <td>NaN</td>\n",
       "      <td>NaN</td>\n",
       "      <td>missraten</td>\n",
       "    </tr>\n",
       "  </tbody>\n",
       "</table>\n",
       "</div>"
      ],
      "text/plain": [
       "          page_id  page_part        section_id2              title  \\\n",
       "97982    242150.0        0.0          missraten          missraten   \n",
       "121110   273380.0        0.0  gefriergetrocknet  gefriergetrocknet   \n",
       "783784  1054310.0        0.0    gefriertrocknen    gefriertrocknen   \n",
       "812207        NaN        NaN    gefriertrocknen    gefriertrocknen   \n",
       "812352        NaN        NaN          missraten          missraten   \n",
       "\n",
       "                    lemma inflected               pos    tag  tag_0  \\\n",
       "97982           missraten     False      {'Verb': []}  VVFIN  VVFIN   \n",
       "121110  gefriergetrocknet     False  {'Adjektiv': []}   ADJA   ADJA   \n",
       "783784    gefriertrocknen     False      {'Verb': []}  VVFIN  VVFIN   \n",
       "812207    gefriertrocknen       NaN               NaN  VVFIN  VVFIN   \n",
       "812352          missraten       NaN               NaN  VVFIN  VVFIN   \n",
       "\n",
       "             tag_1 tagZ tagZZ    member      score     lang lang_code error  \\\n",
       "97982   foLRX8vFnm  VER     V      Verb   4.472594  Deutsch        de         \n",
       "121110  M9yT3byKKu  ADJ     A  Adjektiv   3.807552  Deutsch        de         \n",
       "783784  TLhfFhOWFO  VER     V      Verb  14.422655  Deutsch        de         \n",
       "812207  dFIK2wex3d  VER     V   manuell        NaN      NaN       NaN   NaN   \n",
       "812352  hMbvB8jNwL  VER     V   manuell        NaN      NaN       NaN   NaN   \n",
       "\n",
       "              lemma_lower  \n",
       "97982           missraten  \n",
       "121110  gefriergetrocknet  \n",
       "783784    gefriertrocknen  \n",
       "812207    gefriertrocknen  \n",
       "812352          missraten  "
      ]
     },
     "execution_count": 162,
     "metadata": {},
     "output_type": "execute_result"
    },
    {
     "name": "stdout",
     "output_type": "stream",
     "text": [
      "time: 329 ms\n"
     ]
    }
   ],
   "source": [
    "## verblieben in wiktionary\n",
    "mask1 = (wiktionary.lemma == wiktionary.title)  \n",
    "mask2 = wiktionary.lemma.isin(suche_debug) \n",
    "mask = mask1 & mask2\n",
    "wiktionary[mask]"
   ]
  },
  {
   "cell_type": "code",
   "execution_count": 163,
   "metadata": {},
   "outputs": [
    {
     "data": {
      "text/html": [
       "<div>\n",
       "<style scoped>\n",
       "    .dataframe tbody tr th:only-of-type {\n",
       "        vertical-align: middle;\n",
       "    }\n",
       "\n",
       "    .dataframe tbody tr th {\n",
       "        vertical-align: top;\n",
       "    }\n",
       "\n",
       "    .dataframe thead th {\n",
       "        text-align: right;\n",
       "    }\n",
       "</style>\n",
       "<table border=\"1\" class=\"dataframe\">\n",
       "  <thead>\n",
       "    <tr style=\"text-align: right;\">\n",
       "      <th></th>\n",
       "      <th>page_id</th>\n",
       "      <th>page_part</th>\n",
       "      <th>section_id2</th>\n",
       "      <th>title</th>\n",
       "      <th>lemma</th>\n",
       "      <th>inflected</th>\n",
       "      <th>pos</th>\n",
       "      <th>tag</th>\n",
       "      <th>tag_0</th>\n",
       "      <th>tag_1</th>\n",
       "      <th>tagZ</th>\n",
       "      <th>tagZZ</th>\n",
       "      <th>member</th>\n",
       "      <th>score</th>\n",
       "      <th>lang</th>\n",
       "      <th>lang_code</th>\n",
       "      <th>error</th>\n",
       "      <th>lemma_lower</th>\n",
       "    </tr>\n",
       "  </thead>\n",
       "  <tbody>\n",
       "    <tr>\n",
       "      <th>265548</th>\n",
       "      <td>446280.0</td>\n",
       "      <td>0.0</td>\n",
       "      <td>missratend</td>\n",
       "      <td>missratend</td>\n",
       "      <td>missraten</td>\n",
       "      <td>True</td>\n",
       "      <td>{'Adjektiv': ['Partizip I']}</td>\n",
       "      <td>ADJA</td>\n",
       "      <td>ADJA</td>\n",
       "      <td>OPq9O6nf5c</td>\n",
       "      <td>ADJ</td>\n",
       "      <td>A</td>\n",
       "      <td>Adjektiv Ptz1</td>\n",
       "      <td>0.579592</td>\n",
       "      <td>Deutsch</td>\n",
       "      <td>de</td>\n",
       "      <td></td>\n",
       "      <td>missraten</td>\n",
       "    </tr>\n",
       "    <tr>\n",
       "      <th>783793</th>\n",
       "      <td>1054319.0</td>\n",
       "      <td>0.0</td>\n",
       "      <td>gefriertrocknend</td>\n",
       "      <td>gefriertrocknend</td>\n",
       "      <td>gefriertrocknen</td>\n",
       "      <td>True</td>\n",
       "      <td>{'Adjektiv': ['Partizip I']}</td>\n",
       "      <td>ADJA</td>\n",
       "      <td>ADJA</td>\n",
       "      <td>kaZEgQ6iRR</td>\n",
       "      <td>ADJ</td>\n",
       "      <td>A</td>\n",
       "      <td>Adjektiv Ptz1</td>\n",
       "      <td>0.467347</td>\n",
       "      <td>Deutsch</td>\n",
       "      <td>de</td>\n",
       "      <td></td>\n",
       "      <td>gefriertrocknen</td>\n",
       "    </tr>\n",
       "  </tbody>\n",
       "</table>\n",
       "</div>"
      ],
      "text/plain": [
       "          page_id  page_part       section_id2             title  \\\n",
       "265548   446280.0        0.0        missratend        missratend   \n",
       "783793  1054319.0        0.0  gefriertrocknend  gefriertrocknend   \n",
       "\n",
       "                  lemma inflected                           pos   tag tag_0  \\\n",
       "265548        missraten      True  {'Adjektiv': ['Partizip I']}  ADJA  ADJA   \n",
       "783793  gefriertrocknen      True  {'Adjektiv': ['Partizip I']}  ADJA  ADJA   \n",
       "\n",
       "             tag_1 tagZ tagZZ         member     score     lang lang_code  \\\n",
       "265548  OPq9O6nf5c  ADJ     A  Adjektiv Ptz1  0.579592  Deutsch        de   \n",
       "783793  kaZEgQ6iRR  ADJ     A  Adjektiv Ptz1  0.467347  Deutsch        de   \n",
       "\n",
       "       error      lemma_lower  \n",
       "265548              missraten  \n",
       "783793        gefriertrocknen  "
      ]
     },
     "execution_count": 163,
     "metadata": {},
     "output_type": "execute_result"
    },
    {
     "name": "stdout",
     "output_type": "stream",
     "text": [
      "time: 49.3 ms\n"
     ]
    }
   ],
   "source": [
    "## jetzt in wiktionary_partizip\n",
    "mask = wiktionary_partizip.lemma.isin(suche_debug) \n",
    "wiktionary_partizip[mask]"
   ]
  },
  {
   "cell_type": "code",
   "execution_count": 164,
   "metadata": {},
   "outputs": [
    {
     "data": {
      "text/html": [
       "<div>\n",
       "<style scoped>\n",
       "    .dataframe tbody tr th:only-of-type {\n",
       "        vertical-align: middle;\n",
       "    }\n",
       "\n",
       "    .dataframe tbody tr th {\n",
       "        vertical-align: top;\n",
       "    }\n",
       "\n",
       "    .dataframe thead th {\n",
       "        text-align: right;\n",
       "    }\n",
       "</style>\n",
       "<table border=\"1\" class=\"dataframe\">\n",
       "  <thead>\n",
       "    <tr style=\"text-align: right;\">\n",
       "      <th></th>\n",
       "      <th>page_id</th>\n",
       "      <th>page_part</th>\n",
       "      <th>section_id2</th>\n",
       "      <th>title</th>\n",
       "      <th>lemma</th>\n",
       "      <th>inflected</th>\n",
       "      <th>pos</th>\n",
       "      <th>tag</th>\n",
       "      <th>tag_0</th>\n",
       "      <th>tag_1</th>\n",
       "      <th>tagZ</th>\n",
       "      <th>tagZZ</th>\n",
       "      <th>member</th>\n",
       "      <th>score</th>\n",
       "      <th>lang</th>\n",
       "      <th>lang_code</th>\n",
       "      <th>error</th>\n",
       "      <th>lemma_lower</th>\n",
       "    </tr>\n",
       "  </thead>\n",
       "  <tbody>\n",
       "    <tr>\n",
       "      <th>2007</th>\n",
       "      <td>2843.0</td>\n",
       "      <td>2.0</td>\n",
       "      <td>wollen_2</td>\n",
       "      <td>wollen</td>\n",
       "      <td>wollen</td>\n",
       "      <td>False</td>\n",
       "      <td>{'Adjektiv': []}</td>\n",
       "      <td>ADJA</td>\n",
       "      <td>ADJA</td>\n",
       "      <td>YvJjUvyek1</td>\n",
       "      <td>ADJ</td>\n",
       "      <td>A</td>\n",
       "      <td>Adjektiv</td>\n",
       "      <td>2.836784</td>\n",
       "      <td>Deutsch</td>\n",
       "      <td>de</td>\n",
       "      <td></td>\n",
       "      <td>wollen</td>\n",
       "    </tr>\n",
       "    <tr>\n",
       "      <th>2287</th>\n",
       "      <td>3182.0</td>\n",
       "      <td>1.0</td>\n",
       "      <td>zwirnen_1</td>\n",
       "      <td>zwirnen</td>\n",
       "      <td>zwirnen</td>\n",
       "      <td>False</td>\n",
       "      <td>{'Adjektiv': []}</td>\n",
       "      <td>ADJA</td>\n",
       "      <td>ADJA</td>\n",
       "      <td>EPMop9z3Z9</td>\n",
       "      <td>ADJ</td>\n",
       "      <td>A</td>\n",
       "      <td>Adjektiv</td>\n",
       "      <td>1.147381</td>\n",
       "      <td>Deutsch</td>\n",
       "      <td>de</td>\n",
       "      <td></td>\n",
       "      <td>zwirnen</td>\n",
       "    </tr>\n",
       "    <tr>\n",
       "      <th>3485</th>\n",
       "      <td>5079.0</td>\n",
       "      <td>0.0</td>\n",
       "      <td>befangen</td>\n",
       "      <td>befangen</td>\n",
       "      <td>befangen</td>\n",
       "      <td>False</td>\n",
       "      <td>{'Adjektiv': []}</td>\n",
       "      <td>ADJA</td>\n",
       "      <td>ADJA</td>\n",
       "      <td>ImAuItuuAQ</td>\n",
       "      <td>ADJ</td>\n",
       "      <td>A</td>\n",
       "      <td>Adjektiv</td>\n",
       "      <td>9.295981</td>\n",
       "      <td>Deutsch</td>\n",
       "      <td>de</td>\n",
       "      <td></td>\n",
       "      <td>befangen</td>\n",
       "    </tr>\n",
       "    <tr>\n",
       "      <th>3590</th>\n",
       "      <td>5293.0</td>\n",
       "      <td>0.0</td>\n",
       "      <td>überlegen</td>\n",
       "      <td>überlegen</td>\n",
       "      <td>überlegen</td>\n",
       "      <td>False</td>\n",
       "      <td>{'Adjektiv': []}</td>\n",
       "      <td>ADJA</td>\n",
       "      <td>ADJA</td>\n",
       "      <td>AC1yrtZfEo</td>\n",
       "      <td>ADJ</td>\n",
       "      <td>A</td>\n",
       "      <td>Adjektiv</td>\n",
       "      <td>6.507917</td>\n",
       "      <td>Deutsch</td>\n",
       "      <td>de</td>\n",
       "      <td></td>\n",
       "      <td>überlegen</td>\n",
       "    </tr>\n",
       "    <tr>\n",
       "      <th>5613</th>\n",
       "      <td>8808.0</td>\n",
       "      <td>1.0</td>\n",
       "      <td>erfahren_1</td>\n",
       "      <td>erfahren</td>\n",
       "      <td>erfahren</td>\n",
       "      <td>False</td>\n",
       "      <td>{'Adjektiv': []}</td>\n",
       "      <td>ADJA</td>\n",
       "      <td>ADJA</td>\n",
       "      <td>DskxYKG6cs</td>\n",
       "      <td>ADJ</td>\n",
       "      <td>A</td>\n",
       "      <td>Adjektiv</td>\n",
       "      <td>4.533496</td>\n",
       "      <td>Deutsch</td>\n",
       "      <td>de</td>\n",
       "      <td></td>\n",
       "      <td>erfahren</td>\n",
       "    </tr>\n",
       "    <tr>\n",
       "      <th>...</th>\n",
       "      <td>...</td>\n",
       "      <td>...</td>\n",
       "      <td>...</td>\n",
       "      <td>...</td>\n",
       "      <td>...</td>\n",
       "      <td>...</td>\n",
       "      <td>...</td>\n",
       "      <td>...</td>\n",
       "      <td>...</td>\n",
       "      <td>...</td>\n",
       "      <td>...</td>\n",
       "      <td>...</td>\n",
       "      <td>...</td>\n",
       "      <td>...</td>\n",
       "      <td>...</td>\n",
       "      <td>...</td>\n",
       "      <td>...</td>\n",
       "      <td>...</td>\n",
       "    </tr>\n",
       "    <tr>\n",
       "      <th>710959</th>\n",
       "      <td>978147.0</td>\n",
       "      <td>0.0</td>\n",
       "      <td>hornen</td>\n",
       "      <td>hornen</td>\n",
       "      <td>hornen</td>\n",
       "      <td>False</td>\n",
       "      <td>{'Adjektiv': []}</td>\n",
       "      <td>ADJA</td>\n",
       "      <td>ADJA</td>\n",
       "      <td>T8YRMoXdQp</td>\n",
       "      <td>ADJ</td>\n",
       "      <td>A</td>\n",
       "      <td>Adjektiv</td>\n",
       "      <td>3.084044</td>\n",
       "      <td>Deutsch</td>\n",
       "      <td>de</td>\n",
       "      <td></td>\n",
       "      <td>hornen</td>\n",
       "    </tr>\n",
       "    <tr>\n",
       "      <th>747367</th>\n",
       "      <td>1016920.0</td>\n",
       "      <td>0.0</td>\n",
       "      <td>auserlesen</td>\n",
       "      <td>auserlesen</td>\n",
       "      <td>auserlesen</td>\n",
       "      <td>False</td>\n",
       "      <td>{'Adjektiv': []}</td>\n",
       "      <td>ADJA</td>\n",
       "      <td>ADJA</td>\n",
       "      <td>nPx0XLM2Ah</td>\n",
       "      <td>ADJ</td>\n",
       "      <td>A</td>\n",
       "      <td>Adjektiv</td>\n",
       "      <td>4.220463</td>\n",
       "      <td>Deutsch</td>\n",
       "      <td>de</td>\n",
       "      <td></td>\n",
       "      <td>auserlesen</td>\n",
       "    </tr>\n",
       "    <tr>\n",
       "      <th>812140</th>\n",
       "      <td>NaN</td>\n",
       "      <td>NaN</td>\n",
       "      <td>erwachsen</td>\n",
       "      <td>erwachsen</td>\n",
       "      <td>erwachsen</td>\n",
       "      <td>NaN</td>\n",
       "      <td>NaN</td>\n",
       "      <td>ADJA</td>\n",
       "      <td>ADJA</td>\n",
       "      <td>rKgVvfZhJv</td>\n",
       "      <td>ADJ</td>\n",
       "      <td>A</td>\n",
       "      <td>manuell ergänzt</td>\n",
       "      <td>NaN</td>\n",
       "      <td>NaN</td>\n",
       "      <td>NaN</td>\n",
       "      <td>NaN</td>\n",
       "      <td>erwachsen</td>\n",
       "    </tr>\n",
       "    <tr>\n",
       "      <th>812723</th>\n",
       "      <td>NaN</td>\n",
       "      <td>NaN</td>\n",
       "      <td>vorbehalten_M</td>\n",
       "      <td>vorbehalten</td>\n",
       "      <td>vorbehalten</td>\n",
       "      <td>NaN</td>\n",
       "      <td>NaN</td>\n",
       "      <td>ADJA</td>\n",
       "      <td>ADJA</td>\n",
       "      <td>2VVORfGIqe</td>\n",
       "      <td>ADJ</td>\n",
       "      <td>A</td>\n",
       "      <td>manuell ergänzt</td>\n",
       "      <td>NaN</td>\n",
       "      <td>NaN</td>\n",
       "      <td>NaN</td>\n",
       "      <td>NaN</td>\n",
       "      <td>vorbehalten</td>\n",
       "    </tr>\n",
       "    <tr>\n",
       "      <th>812728</th>\n",
       "      <td>NaN</td>\n",
       "      <td>NaN</td>\n",
       "      <td>vorenthalten_M</td>\n",
       "      <td>vorenthalten</td>\n",
       "      <td>vorenthalten</td>\n",
       "      <td>NaN</td>\n",
       "      <td>NaN</td>\n",
       "      <td>ADJA</td>\n",
       "      <td>ADJA</td>\n",
       "      <td>B0aBSNcKQY</td>\n",
       "      <td>ADJ</td>\n",
       "      <td>A</td>\n",
       "      <td>manuell ergänzt</td>\n",
       "      <td>NaN</td>\n",
       "      <td>NaN</td>\n",
       "      <td>NaN</td>\n",
       "      <td>NaN</td>\n",
       "      <td>vorenthalten</td>\n",
       "    </tr>\n",
       "  </tbody>\n",
       "</table>\n",
       "<p>73 rows × 18 columns</p>\n",
       "</div>"
      ],
      "text/plain": [
       "          page_id  page_part     section_id2         title         lemma  \\\n",
       "2007       2843.0        2.0        wollen_2        wollen        wollen   \n",
       "2287       3182.0        1.0       zwirnen_1       zwirnen       zwirnen   \n",
       "3485       5079.0        0.0        befangen      befangen      befangen   \n",
       "3590       5293.0        0.0       überlegen     überlegen     überlegen   \n",
       "5613       8808.0        1.0      erfahren_1      erfahren      erfahren   \n",
       "...           ...        ...             ...           ...           ...   \n",
       "710959   978147.0        0.0          hornen        hornen        hornen   \n",
       "747367  1016920.0        0.0      auserlesen    auserlesen    auserlesen   \n",
       "812140        NaN        NaN       erwachsen     erwachsen     erwachsen   \n",
       "812723        NaN        NaN   vorbehalten_M   vorbehalten   vorbehalten   \n",
       "812728        NaN        NaN  vorenthalten_M  vorenthalten  vorenthalten   \n",
       "\n",
       "       inflected               pos   tag tag_0       tag_1 tagZ tagZZ  \\\n",
       "2007       False  {'Adjektiv': []}  ADJA  ADJA  YvJjUvyek1  ADJ     A   \n",
       "2287       False  {'Adjektiv': []}  ADJA  ADJA  EPMop9z3Z9  ADJ     A   \n",
       "3485       False  {'Adjektiv': []}  ADJA  ADJA  ImAuItuuAQ  ADJ     A   \n",
       "3590       False  {'Adjektiv': []}  ADJA  ADJA  AC1yrtZfEo  ADJ     A   \n",
       "5613       False  {'Adjektiv': []}  ADJA  ADJA  DskxYKG6cs  ADJ     A   \n",
       "...          ...               ...   ...   ...         ...  ...   ...   \n",
       "710959     False  {'Adjektiv': []}  ADJA  ADJA  T8YRMoXdQp  ADJ     A   \n",
       "747367     False  {'Adjektiv': []}  ADJA  ADJA  nPx0XLM2Ah  ADJ     A   \n",
       "812140       NaN               NaN  ADJA  ADJA  rKgVvfZhJv  ADJ     A   \n",
       "812723       NaN               NaN  ADJA  ADJA  2VVORfGIqe  ADJ     A   \n",
       "812728       NaN               NaN  ADJA  ADJA  B0aBSNcKQY  ADJ     A   \n",
       "\n",
       "                 member     score     lang lang_code error   lemma_lower  \n",
       "2007           Adjektiv  2.836784  Deutsch        de              wollen  \n",
       "2287           Adjektiv  1.147381  Deutsch        de             zwirnen  \n",
       "3485           Adjektiv  9.295981  Deutsch        de            befangen  \n",
       "3590           Adjektiv  6.507917  Deutsch        de           überlegen  \n",
       "5613           Adjektiv  4.533496  Deutsch        de            erfahren  \n",
       "...                 ...       ...      ...       ...   ...           ...  \n",
       "710959         Adjektiv  3.084044  Deutsch        de              hornen  \n",
       "747367         Adjektiv  4.220463  Deutsch        de          auserlesen  \n",
       "812140  manuell ergänzt       NaN      NaN       NaN   NaN     erwachsen  \n",
       "812723  manuell ergänzt       NaN      NaN       NaN   NaN   vorbehalten  \n",
       "812728  manuell ergänzt       NaN      NaN       NaN   NaN  vorenthalten  \n",
       "\n",
       "[73 rows x 18 columns]"
      ]
     },
     "execution_count": 164,
     "metadata": {},
     "output_type": "execute_result"
    },
    {
     "name": "stdout",
     "output_type": "stream",
     "text": [
      "time: 245 ms\n"
     ]
    }
   ],
   "source": [
    "mask1 = wiktionary.tag == 'ADJA'\n",
    "mask2 = wiktionary.lemma.isin(wiktionary_partizip.lemma) \n",
    "mask = mask1  &  mask2\n",
    "wiktionary[mask]\n",
    "#wiktionary, wiktionary_partizip = pak.move_rows( wiktionary, mask, msg=None )  "
   ]
  },
  {
   "cell_type": "markdown",
   "metadata": {},
   "source": [
    "### wiktionary_nolemma"
   ]
  },
  {
   "cell_type": "code",
   "execution_count": 165,
   "metadata": {},
   "outputs": [
    {
     "name": "stdout",
     "output_type": "stream",
     "text": [
      "time: 37.2 ms\n"
     ]
    }
   ],
   "source": [
    "wiktionary_nolemma       = wiktionary.head(0)\n",
    "wiktionary_nolemma_trash = wiktionary.head(0)"
   ]
  },
  {
   "cell_type": "code",
   "execution_count": 166,
   "metadata": {},
   "outputs": [
    {
     "name": "stdout",
     "output_type": "stream",
     "text": [
      "check_mask:  645225 rows\n",
      "Move 645225 rows from 786314\n",
      "time: 4.24 s\n"
     ]
    }
   ],
   "source": [
    "# LEX-Datensätze nach wiktionary_nolemma verschieben\n",
    "mask = wiktionary.tag.str.contains('LEX_')    \n",
    "check_mask(wiktionary,mask,639734)\n",
    "wiktionary, wiktionary_nolemma = pak.move_rows( df_from=wiktionary, df_to=wiktionary_nolemma, mask=mask, msg='tag_LEX' )  "
   ]
  },
  {
   "cell_type": "code",
   "execution_count": 167,
   "metadata": {},
   "outputs": [
    {
     "name": "stdout",
     "output_type": "stream",
     "text": [
      "check_mask:  2 rows\n",
      "Move 2 rows from 141089\n"
     ]
    },
    {
     "name": "stderr",
     "output_type": "stream",
     "text": [
      "/tmp/ipykernel_5908/3497270118.py:4: FutureWarning:\n",
      "\n",
      "In a future version, object-dtype columns with all-bool values will not be included in reductions with bool_only=True. Explicitly cast to bool dtype instead.\n",
      "\n"
     ]
    },
    {
     "name": "stdout",
     "output_type": "stream",
     "text": [
      "time: 2.42 s\n"
     ]
    }
   ],
   "source": [
    "# auch nach wiktionary_nolemma verschieben\n",
    "mask = wiktionary.member.str.contains('Deklinierte_Form')   # 2 Datensätze\n",
    "check_mask(wiktionary, mask, 0, 10)\n",
    "wiktionary, wiktionary_nolemma = pak.move_rows( df_from=wiktionary, df_to=wiktionary_nolemma, mask=mask, msg='member_Deklinierte_Form' )  "
   ]
  },
  {
   "cell_type": "code",
   "execution_count": 168,
   "metadata": {},
   "outputs": [
    {
     "name": "stdout",
     "output_type": "stream",
     "text": [
      "check_mask:  10 rows\n",
      "Move 10 rows from 141087\n"
     ]
    },
    {
     "name": "stderr",
     "output_type": "stream",
     "text": [
      "/tmp/ipykernel_5908/3822427480.py:4: FutureWarning:\n",
      "\n",
      "In a future version, object-dtype columns with all-bool values will not be included in reductions with bool_only=True. Explicitly cast to bool dtype instead.\n",
      "\n"
     ]
    },
    {
     "name": "stdout",
     "output_type": "stream",
     "text": [
      "time: 2.32 s\n"
     ]
    }
   ],
   "source": [
    "# auch nach wiktionary_nolemma verschieben\n",
    "mask = (wiktionary.title != wiktionary.lemma)               # Es waren mal 10 Datensätze, jetzt sind es 5501\n",
    "check_mask(wiktionary, mask, 10)\n",
    "wiktionary, wiktionary_nolemma = pak.move_rows( df_from=wiktionary, df_to=wiktionary_nolemma, mask=mask, msg='title_ungleich_lemma' )  "
   ]
  },
  {
   "cell_type": "code",
   "execution_count": 169,
   "metadata": {},
   "outputs": [
    {
     "name": "stdout",
     "output_type": "stream",
     "text": [
      "35 rows\n"
     ]
    },
    {
     "data": {
      "text/html": [
       "\n",
       "        <iframe\n",
       "            width=\"100%\"\n",
       "            height=\"475\"\n",
       "            src=\"http://pop-os:40000/dtale/iframe/27\"\n",
       "            frameborder=\"0\"\n",
       "            allowfullscreen\n",
       "            \n",
       "        ></iframe>\n",
       "        "
      ],
      "text/plain": [
       "<IPython.lib.display.IFrame at 0x7f103b5357c0>"
      ]
     },
     "metadata": {},
     "output_type": "display_data"
    },
    {
     "data": {
      "text/plain": []
     },
     "execution_count": 169,
     "metadata": {},
     "output_type": "execute_result"
    },
    {
     "name": "stdout",
     "output_type": "stream",
     "text": [
      "time: 1.41 s\n"
     ]
    }
   ],
   "source": [
    "# wiktionary suche_debug\n",
    "grid(search_str(wiktionary_nolemma, suche_debug))"
   ]
  },
  {
   "cell_type": "code",
   "execution_count": 170,
   "metadata": {},
   "outputs": [
    {
     "name": "stdout",
     "output_type": "stream",
     "text": [
      "time: 1.86 s\n"
     ]
    }
   ],
   "source": [
    "# wiktionary_nolemma: Spalten pflegen\n",
    "wiktionary_nolemma = pak.rename_col(wiktionary_nolemma, 'title', 'lex')\n",
    "wiktionary_nolemma = pak.rename_col(wiktionary_nolemma, 'section_id2','nolemma_id')\n",
    "wiktionary_nolemma = pak.drop_cols(wiktionary_nolemma, ['pos','tag_anz','ipa','syllables','msg','page_id','page_part','inflected','rhymes'])\n",
    "#wiktionary_nolemma = pak.rename_col( wiktionary_nolemma, 'tag_0', 'tag') # Jetzt gibt es definitiv keine Mehrfachtags mehr"
   ]
  },
  {
   "cell_type": "code",
   "execution_count": 171,
   "metadata": {},
   "outputs": [
    {
     "data": {
      "text/html": [
       "<div>\n",
       "<style scoped>\n",
       "    .dataframe tbody tr th:only-of-type {\n",
       "        vertical-align: middle;\n",
       "    }\n",
       "\n",
       "    .dataframe tbody tr th {\n",
       "        vertical-align: top;\n",
       "    }\n",
       "\n",
       "    .dataframe thead th {\n",
       "        text-align: right;\n",
       "    }\n",
       "</style>\n",
       "<table border=\"1\" class=\"dataframe\">\n",
       "  <thead>\n",
       "    <tr style=\"text-align: right;\">\n",
       "      <th></th>\n",
       "      <th>nolemma_id</th>\n",
       "      <th>lex</th>\n",
       "      <th>lemma</th>\n",
       "      <th>tag</th>\n",
       "      <th>tag_0</th>\n",
       "      <th>tag_1</th>\n",
       "      <th>tagZ</th>\n",
       "      <th>tagZZ</th>\n",
       "      <th>member</th>\n",
       "      <th>score</th>\n",
       "      <th>lang</th>\n",
       "      <th>lang_code</th>\n",
       "      <th>error</th>\n",
       "      <th>lemma_lower</th>\n",
       "    </tr>\n",
       "  </thead>\n",
       "  <tbody>\n",
       "    <tr>\n",
       "      <th>29</th>\n",
       "      <td>lieben_1</td>\n",
       "      <td>lieben</td>\n",
       "      <td>lieb</td>\n",
       "      <td>LEX_A</td>\n",
       "      <td>LEX_A</td>\n",
       "      <td>JOgkJEwGzz</td>\n",
       "      <td>&lt;NA&gt;</td>\n",
       "      <td></td>\n",
       "      <td>Deklinierte_Form</td>\n",
       "      <td>2.382460</td>\n",
       "      <td>Deutsch</td>\n",
       "      <td>de</td>\n",
       "      <td></td>\n",
       "      <td>lieb</td>\n",
       "    </tr>\n",
       "    <tr>\n",
       "      <th>58</th>\n",
       "      <td>Polen_1</td>\n",
       "      <td>Polen</td>\n",
       "      <td>Pole</td>\n",
       "      <td>LEX_A</td>\n",
       "      <td>LEX_A</td>\n",
       "      <td>F4i5uCCH88</td>\n",
       "      <td>&lt;NA&gt;</td>\n",
       "      <td></td>\n",
       "      <td>Deklinierte_Form</td>\n",
       "      <td>0.883673</td>\n",
       "      <td>Deutsch</td>\n",
       "      <td>de</td>\n",
       "      <td></td>\n",
       "      <td>pole</td>\n",
       "    </tr>\n",
       "    <tr>\n",
       "      <th>11103</th>\n",
       "      <td>lift</td>\n",
       "      <td>lift</td>\n",
       "      <td>liften</td>\n",
       "      <td>LEX_V</td>\n",
       "      <td>LEX_V</td>\n",
       "      <td>yVMy4O4V2S</td>\n",
       "      <td>&lt;NA&gt;</td>\n",
       "      <td></td>\n",
       "      <td>Konjugierte_Form Verb</td>\n",
       "      <td>0.538776</td>\n",
       "      <td>Deutsch</td>\n",
       "      <td>de</td>\n",
       "      <td></td>\n",
       "      <td>liften</td>\n",
       "    </tr>\n",
       "    <tr>\n",
       "      <th>37431</th>\n",
       "      <td>Fachleute</td>\n",
       "      <td>Fachleute</td>\n",
       "      <td>Fachleute</td>\n",
       "      <td>NN</td>\n",
       "      <td>NN</td>\n",
       "      <td>fQsLHPCpnX</td>\n",
       "      <td>NOM</td>\n",
       "      <td>N</td>\n",
       "      <td>Deklinierte_Form Substantiv</td>\n",
       "      <td>8.773447</td>\n",
       "      <td>Deutsch</td>\n",
       "      <td>de</td>\n",
       "      <td></td>\n",
       "      <td>fachleute</td>\n",
       "    </tr>\n",
       "    <tr>\n",
       "      <th>53819</th>\n",
       "      <td>durchzuhalten</td>\n",
       "      <td>durchzuhalten</td>\n",
       "      <td>durchhalten</td>\n",
       "      <td>LEX_V</td>\n",
       "      <td>LEX_V</td>\n",
       "      <td>tQ0RNnKgjF</td>\n",
       "      <td>&lt;NA&gt;</td>\n",
       "      <td></td>\n",
       "      <td>Erweiterter_Infinitiv Verb</td>\n",
       "      <td>0.469388</td>\n",
       "      <td>Deutsch</td>\n",
       "      <td>de</td>\n",
       "      <td></td>\n",
       "      <td>durchhalten</td>\n",
       "    </tr>\n",
       "    <tr>\n",
       "      <th>54153</th>\n",
       "      <td>anzudauern</td>\n",
       "      <td>anzudauern</td>\n",
       "      <td>andauern</td>\n",
       "      <td>LEX_V</td>\n",
       "      <td>LEX_V</td>\n",
       "      <td>4hq2czjeq9</td>\n",
       "      <td>&lt;NA&gt;</td>\n",
       "      <td></td>\n",
       "      <td>Erweiterter_Infinitiv Verb</td>\n",
       "      <td>0.406122</td>\n",
       "      <td>Deutsch</td>\n",
       "      <td>de</td>\n",
       "      <td></td>\n",
       "      <td>andauern</td>\n",
       "    </tr>\n",
       "    <tr>\n",
       "      <th>123288</th>\n",
       "      <td>Sprachdenkmälern</td>\n",
       "      <td>Sprachdenkmälern</td>\n",
       "      <td>Sprachdenkmal</td>\n",
       "      <td>LEX_A</td>\n",
       "      <td>LEX_A</td>\n",
       "      <td>zzyRguDHtz</td>\n",
       "      <td>&lt;NA&gt;</td>\n",
       "      <td></td>\n",
       "      <td>Deklinierte_Form</td>\n",
       "      <td>0.475510</td>\n",
       "      <td>Deutsch</td>\n",
       "      <td>de</td>\n",
       "      <td></td>\n",
       "      <td>sprachdenkmal</td>\n",
       "    </tr>\n",
       "    <tr>\n",
       "      <th>179493</th>\n",
       "      <td>Pressefotos</td>\n",
       "      <td>Pressefotos</td>\n",
       "      <td>Pressefoto</td>\n",
       "      <td>LEX_A</td>\n",
       "      <td>LEX_A</td>\n",
       "      <td>000JkDLydw</td>\n",
       "      <td>&lt;NA&gt;</td>\n",
       "      <td></td>\n",
       "      <td>Deklinierte_Form</td>\n",
       "      <td>0.877551</td>\n",
       "      <td>Deutsch</td>\n",
       "      <td>de</td>\n",
       "      <td></td>\n",
       "      <td>pressefoto</td>\n",
       "    </tr>\n",
       "    <tr>\n",
       "      <th>414845</th>\n",
       "      <td>Körpermasse_1</td>\n",
       "      <td>Körpermasse</td>\n",
       "      <td>Körpermasse</td>\n",
       "      <td>LEX_A</td>\n",
       "      <td>LEX_A</td>\n",
       "      <td>bIf1qblVpr</td>\n",
       "      <td>&lt;NA&gt;</td>\n",
       "      <td></td>\n",
       "      <td>Deklinierte_Form</td>\n",
       "      <td>0.038776</td>\n",
       "      <td>Deutsch</td>\n",
       "      <td>de</td>\n",
       "      <td></td>\n",
       "      <td>körpermasse</td>\n",
       "    </tr>\n",
       "    <tr>\n",
       "      <th>558381</th>\n",
       "      <td>zu_viele</td>\n",
       "      <td>zu viele</td>\n",
       "      <td>zu viel</td>\n",
       "      <td>TODO</td>\n",
       "      <td>TODO</td>\n",
       "      <td>p4fLUGwqEH</td>\n",
       "      <td>X_todo</td>\n",
       "      <td>X</td>\n",
       "      <td>Wortverbindung</td>\n",
       "      <td>1.412911</td>\n",
       "      <td>Deutsch</td>\n",
       "      <td>de</td>\n",
       "      <td></td>\n",
       "      <td>zu viel</td>\n",
       "    </tr>\n",
       "    <tr>\n",
       "      <th>723206</th>\n",
       "      <td>-ablerem</td>\n",
       "      <td>-ablerem</td>\n",
       "      <td>-abel</td>\n",
       "      <td>ZFIX LEX_A</td>\n",
       "      <td>ZFIX</td>\n",
       "      <td>LEX_A</td>\n",
       "      <td>FIX</td>\n",
       "      <td>Z</td>\n",
       "      <td>Deklinierte_Form</td>\n",
       "      <td>0.685714</td>\n",
       "      <td>Deutsch</td>\n",
       "      <td>de</td>\n",
       "      <td></td>\n",
       "      <td>-abel</td>\n",
       "    </tr>\n",
       "    <tr>\n",
       "      <th>776359</th>\n",
       "      <td>Wolfsjunge_1</td>\n",
       "      <td>Wolfsjunge</td>\n",
       "      <td>Wolfsjunges</td>\n",
       "      <td>NN</td>\n",
       "      <td>NN</td>\n",
       "      <td>V2gIr2xVkD</td>\n",
       "      <td>NOM</td>\n",
       "      <td>N</td>\n",
       "      <td>Substantiv</td>\n",
       "      <td>1.031669</td>\n",
       "      <td>Deutsch</td>\n",
       "      <td>de</td>\n",
       "      <td></td>\n",
       "      <td>wolfsjunges</td>\n",
       "    </tr>\n",
       "  </tbody>\n",
       "</table>\n",
       "</div>"
      ],
      "text/plain": [
       "              nolemma_id               lex          lemma         tag  tag_0  \\\n",
       "29              lieben_1            lieben           lieb       LEX_A  LEX_A   \n",
       "58               Polen_1             Polen           Pole       LEX_A  LEX_A   \n",
       "11103               lift              lift         liften       LEX_V  LEX_V   \n",
       "37431          Fachleute         Fachleute      Fachleute          NN     NN   \n",
       "53819      durchzuhalten     durchzuhalten    durchhalten       LEX_V  LEX_V   \n",
       "54153         anzudauern        anzudauern       andauern       LEX_V  LEX_V   \n",
       "123288  Sprachdenkmälern  Sprachdenkmälern  Sprachdenkmal       LEX_A  LEX_A   \n",
       "179493       Pressefotos       Pressefotos     Pressefoto       LEX_A  LEX_A   \n",
       "414845     Körpermasse_1       Körpermasse    Körpermasse       LEX_A  LEX_A   \n",
       "558381          zu_viele          zu viele        zu viel        TODO   TODO   \n",
       "723206          -ablerem          -ablerem          -abel  ZFIX LEX_A   ZFIX   \n",
       "776359      Wolfsjunge_1        Wolfsjunge    Wolfsjunges          NN     NN   \n",
       "\n",
       "             tag_1    tagZ tagZZ                       member     score  \\\n",
       "29      JOgkJEwGzz    <NA>                   Deklinierte_Form  2.382460   \n",
       "58      F4i5uCCH88    <NA>                   Deklinierte_Form  0.883673   \n",
       "11103   yVMy4O4V2S    <NA>              Konjugierte_Form Verb  0.538776   \n",
       "37431   fQsLHPCpnX     NOM     N  Deklinierte_Form Substantiv  8.773447   \n",
       "53819   tQ0RNnKgjF    <NA>         Erweiterter_Infinitiv Verb  0.469388   \n",
       "54153   4hq2czjeq9    <NA>         Erweiterter_Infinitiv Verb  0.406122   \n",
       "123288  zzyRguDHtz    <NA>                   Deklinierte_Form  0.475510   \n",
       "179493  000JkDLydw    <NA>                   Deklinierte_Form  0.877551   \n",
       "414845  bIf1qblVpr    <NA>                   Deklinierte_Form  0.038776   \n",
       "558381  p4fLUGwqEH  X_todo     X               Wortverbindung  1.412911   \n",
       "723206       LEX_A     FIX     Z             Deklinierte_Form  0.685714   \n",
       "776359  V2gIr2xVkD     NOM     N                   Substantiv  1.031669   \n",
       "\n",
       "           lang lang_code error    lemma_lower  \n",
       "29      Deutsch        de                 lieb  \n",
       "58      Deutsch        de                 pole  \n",
       "11103   Deutsch        de               liften  \n",
       "37431   Deutsch        de            fachleute  \n",
       "53819   Deutsch        de          durchhalten  \n",
       "54153   Deutsch        de             andauern  \n",
       "123288  Deutsch        de        sprachdenkmal  \n",
       "179493  Deutsch        de           pressefoto  \n",
       "414845  Deutsch        de          körpermasse  \n",
       "558381  Deutsch        de              zu viel  \n",
       "723206  Deutsch        de                -abel  \n",
       "776359  Deutsch        de          wolfsjunges  "
      ]
     },
     "execution_count": 171,
     "metadata": {},
     "output_type": "execute_result"
    },
    {
     "name": "stdout",
     "output_type": "stream",
     "text": [
      "time: 5.58 s\n"
     ]
    }
   ],
   "source": [
    "# anschauen\n",
    "pak.sample(wiktionary_nolemma)"
   ]
  },
  {
   "cell_type": "markdown",
   "metadata": {},
   "source": [
    "### wiktionary_lemma"
   ]
  },
  {
   "cell_type": "code",
   "execution_count": 172,
   "metadata": {},
   "outputs": [
    {
     "name": "stdout",
     "output_type": "stream",
     "text": [
      "time: 183 ms\n"
     ]
    }
   ],
   "source": [
    "# wiktionary_lemma: erstellen und Spalten pflegen\n",
    "wiktionary_lemma       = pak.drop_cols(wiktionary, ['title','pos'])\n",
    "wiktionary_lemma_trash = wiktionary_lemma.head(0)"
   ]
  },
  {
   "cell_type": "code",
   "execution_count": 173,
   "metadata": {},
   "outputs": [
    {
     "name": "stdout",
     "output_type": "stream",
     "text": [
      "time: 74.3 ms\n"
     ]
    }
   ],
   "source": [
    "del wiktionary"
   ]
  },
  {
   "cell_type": "code",
   "execution_count": 174,
   "metadata": {},
   "outputs": [
    {
     "name": "stdout",
     "output_type": "stream",
     "text": [
      "5 rows\n"
     ]
    },
    {
     "data": {
      "text/html": [
       "\n",
       "        <iframe\n",
       "            width=\"100%\"\n",
       "            height=\"475\"\n",
       "            src=\"http://pop-os:40000/dtale/iframe/28\"\n",
       "            frameborder=\"0\"\n",
       "            allowfullscreen\n",
       "            \n",
       "        ></iframe>\n",
       "        "
      ],
      "text/plain": [
       "<IPython.lib.display.IFrame at 0x7f103e7606d0>"
      ]
     },
     "metadata": {},
     "output_type": "display_data"
    },
    {
     "data": {
      "text/plain": []
     },
     "execution_count": 174,
     "metadata": {},
     "output_type": "execute_result"
    },
    {
     "name": "stdout",
     "output_type": "stream",
     "text": [
      "time: 236 ms\n"
     ]
    }
   ],
   "source": [
    "# wiktionary_lemma suche_debug\n",
    "grid(search_str(wiktionary_lemma, suche_debug))"
   ]
  },
  {
   "cell_type": "markdown",
   "metadata": {},
   "source": [
    "## Partizipien\n",
    "Die Partizipien werden<br> \n",
    "a) an wiktionary_merkmal angefügt (als Partizip-Flexion des Verbs)<br> \n",
    "b) an wiktionary_lemma angefügt   (als Adjektiv mit member Partizip)\n",
    "\n",
    "Danach findet sich alles aus wiktionary in wiktionary_lemma und wiktionary_nolemma"
   ]
  },
  {
   "cell_type": "markdown",
   "metadata": {},
   "source": [
    "### wiktionary_partizip pflegen"
   ]
  },
  {
   "cell_type": "code",
   "execution_count": 175,
   "metadata": {},
   "outputs": [
    {
     "name": "stdout",
     "output_type": "stream",
     "text": [
      "time: 153 ms\n"
     ]
    }
   ],
   "source": [
    "# rename_col\n",
    "wiktionary_partizip = pak.rename_col(wiktionary_partizip,  'section_id2', 'adjektiv_id' )\n",
    "wiktionary_partizip = pak.rename_col(wiktionary_partizip,  'title',       'adjektiv'    )\n",
    "wiktionary_partizip = pak.rename_col(wiktionary_partizip,  'lemma',       'verb'        )\n",
    "\n",
    "#wiktionary_partizip = pak.move_cols(wiktionary_partizip,'verb_lower','verb')"
   ]
  },
  {
   "cell_type": "code",
   "execution_count": 176,
   "metadata": {},
   "outputs": [
    {
     "name": "stdout",
     "output_type": "stream",
     "text": [
      "time: 194 ms\n"
     ]
    }
   ],
   "source": [
    "# drop_cols\n",
    "lösche_spalten = ['pos','error','lang','lang_code','lemma_lower','inflected','tag_0','tag_1']\n",
    "wiktionary_partizip = pak.drop_cols(wiktionary_partizip,lösche_spalten)"
   ]
  },
  {
   "cell_type": "code",
   "execution_count": 177,
   "metadata": {},
   "outputs": [
    {
     "name": "stdout",
     "output_type": "stream",
     "text": [
      "change_datatype \n",
      "page_id              --> pd.Int32  \n",
      "page_part            --> pd.Int8   \n",
      "adjektiv_id          --> pd.string \n",
      "adjektiv             --> pd.string \n",
      "verb                 --> pd.string \n",
      "member               --> pd.string \n",
      "score                --> np.float32\n",
      "change_datatype before: 12.6 MB after: 12.2 MB\n",
      "\n",
      "time: 412 ms\n"
     ]
    }
   ],
   "source": [
    "# change_datatype\n",
    "wiktionary_partizip = pak.change_datatype(wiktionary_partizip)"
   ]
  },
  {
   "cell_type": "code",
   "execution_count": 178,
   "metadata": {},
   "outputs": [
    {
     "name": "stdout",
     "output_type": "stream",
     "text": [
      "check_mask:  6 rows\n",
      "Move 6 rows from 26594\n"
     ]
    },
    {
     "data": {
      "text/html": [
       "<div>\n",
       "<style scoped>\n",
       "    .dataframe tbody tr th:only-of-type {\n",
       "        vertical-align: middle;\n",
       "    }\n",
       "\n",
       "    .dataframe tbody tr th {\n",
       "        vertical-align: top;\n",
       "    }\n",
       "\n",
       "    .dataframe thead th {\n",
       "        text-align: right;\n",
       "    }\n",
       "</style>\n",
       "<table border=\"1\" class=\"dataframe\">\n",
       "  <thead>\n",
       "    <tr style=\"text-align: right;\">\n",
       "      <th></th>\n",
       "      <th>page_id</th>\n",
       "      <th>page_part</th>\n",
       "      <th>adjektiv_id</th>\n",
       "      <th>adjektiv</th>\n",
       "      <th>verb</th>\n",
       "      <th>tag</th>\n",
       "      <th>tagZ</th>\n",
       "      <th>tagZZ</th>\n",
       "      <th>member</th>\n",
       "      <th>score</th>\n",
       "      <th>msg</th>\n",
       "    </tr>\n",
       "  </thead>\n",
       "  <tbody>\n",
       "    <tr>\n",
       "      <th>414</th>\n",
       "      <td>660</td>\n",
       "      <td>1</td>\n",
       "      <td>sehen_1</td>\n",
       "      <td>sehen</td>\n",
       "      <td>sehen</td>\n",
       "      <td>ADJA</td>\n",
       "      <td>ADJ</td>\n",
       "      <td>A</td>\n",
       "      <td>Adjektiv Ptz2</td>\n",
       "      <td>1.460414</td>\n",
       "      <td>8</td>\n",
       "    </tr>\n",
       "    <tr>\n",
       "      <th>1093</th>\n",
       "      <td>1459</td>\n",
       "      <td>1</td>\n",
       "      <td>hören_1</td>\n",
       "      <td>hören</td>\n",
       "      <td>hören</td>\n",
       "      <td>ADJA</td>\n",
       "      <td>ADJ</td>\n",
       "      <td>A</td>\n",
       "      <td>Adjektiv Ptz2</td>\n",
       "      <td>1.046285</td>\n",
       "      <td>8</td>\n",
       "    </tr>\n",
       "    <tr>\n",
       "      <th>2006</th>\n",
       "      <td>2843</td>\n",
       "      <td>1</td>\n",
       "      <td>wollen_1</td>\n",
       "      <td>wollen</td>\n",
       "      <td>wollen</td>\n",
       "      <td>ADJA</td>\n",
       "      <td>ADJ</td>\n",
       "      <td>A</td>\n",
       "      <td>Adjektiv Ptz2</td>\n",
       "      <td>0.808163</td>\n",
       "      <td>8</td>\n",
       "    </tr>\n",
       "    <tr>\n",
       "      <th>2015</th>\n",
       "      <td>2852</td>\n",
       "      <td>1</td>\n",
       "      <td>lassen_1</td>\n",
       "      <td>lassen</td>\n",
       "      <td>lassen</td>\n",
       "      <td>ADJA</td>\n",
       "      <td>ADJ</td>\n",
       "      <td>A</td>\n",
       "      <td>Adjektiv Ptz2</td>\n",
       "      <td>0.671429</td>\n",
       "      <td>8</td>\n",
       "    </tr>\n",
       "    <tr>\n",
       "      <th>6174</th>\n",
       "      <td>10018</td>\n",
       "      <td>1</td>\n",
       "      <td>mögen_1</td>\n",
       "      <td>mögen</td>\n",
       "      <td>mögen</td>\n",
       "      <td>ADJA</td>\n",
       "      <td>ADJ</td>\n",
       "      <td>A</td>\n",
       "      <td>Adjektiv Ptz2</td>\n",
       "      <td>0.673469</td>\n",
       "      <td>8</td>\n",
       "    </tr>\n",
       "    <tr>\n",
       "      <th>10302</th>\n",
       "      <td>17727</td>\n",
       "      <td>1</td>\n",
       "      <td>sollen_1</td>\n",
       "      <td>sollen</td>\n",
       "      <td>sollen</td>\n",
       "      <td>ADJA</td>\n",
       "      <td>ADJ</td>\n",
       "      <td>A</td>\n",
       "      <td>Adjektiv Ptz2</td>\n",
       "      <td>0.818367</td>\n",
       "      <td>8</td>\n",
       "    </tr>\n",
       "  </tbody>\n",
       "</table>\n",
       "</div>"
      ],
      "text/plain": [
       "       page_id  page_part adjektiv_id adjektiv    verb   tag tagZ tagZZ  \\\n",
       "414        660          1     sehen_1    sehen   sehen  ADJA  ADJ     A   \n",
       "1093      1459          1     hören_1    hören   hören  ADJA  ADJ     A   \n",
       "2006      2843          1    wollen_1   wollen  wollen  ADJA  ADJ     A   \n",
       "2015      2852          1    lassen_1   lassen  lassen  ADJA  ADJ     A   \n",
       "6174     10018          1     mögen_1    mögen   mögen  ADJA  ADJ     A   \n",
       "10302    17727          1    sollen_1   sollen  sollen  ADJA  ADJ     A   \n",
       "\n",
       "              member     score msg  \n",
       "414    Adjektiv Ptz2  1.460414   8  \n",
       "1093   Adjektiv Ptz2  1.046285   8  \n",
       "2006   Adjektiv Ptz2  0.808163   8  \n",
       "2015   Adjektiv Ptz2  0.671429   8  \n",
       "6174   Adjektiv Ptz2  0.673469   8  \n",
       "10302  Adjektiv Ptz2  0.818367   8  "
      ]
     },
     "execution_count": 178,
     "metadata": {},
     "output_type": "execute_result"
    },
    {
     "name": "stdout",
     "output_type": "stream",
     "text": [
      "time: 201 ms\n"
     ]
    }
   ],
   "source": [
    "# falsche Partizipien löschen\n",
    "falsche_partizipien = ['sehen','hören','wollen','lassen','mögen','sollen',]\n",
    "mask = wiktionary_partizip.adjektiv.isin(falsche_partizipien) \n",
    "check_mask(wiktionary_partizip, mask, 0, 6)\n",
    "wiktionary_partizip, df = pak.move_rows(wiktionary_partizip, mask)\n",
    "df"
   ]
  },
  {
   "cell_type": "code",
   "execution_count": 179,
   "metadata": {},
   "outputs": [
    {
     "name": "stdout",
     "output_type": "stream",
     "text": [
      "time: 31.2 ms\n"
     ]
    }
   ],
   "source": [
    "#grid(wiktionary_partizip)"
   ]
  },
  {
   "cell_type": "code",
   "execution_count": 180,
   "metadata": {},
   "outputs": [
    {
     "name": "stdout",
     "output_type": "stream",
     "text": [
      "2 rows\n"
     ]
    },
    {
     "data": {
      "text/html": [
       "\n",
       "        <iframe\n",
       "            width=\"100%\"\n",
       "            height=\"475\"\n",
       "            src=\"http://pop-os:40000/dtale/iframe/29\"\n",
       "            frameborder=\"0\"\n",
       "            allowfullscreen\n",
       "            \n",
       "        ></iframe>\n",
       "        "
      ],
      "text/plain": [
       "<IPython.lib.display.IFrame at 0x7f103e68a910>"
      ]
     },
     "metadata": {},
     "output_type": "display_data"
    },
    {
     "data": {
      "text/plain": []
     },
     "execution_count": 180,
     "metadata": {},
     "output_type": "execute_result"
    },
    {
     "name": "stdout",
     "output_type": "stream",
     "text": [
      "time: 186 ms\n"
     ]
    }
   ],
   "source": [
    "# wiktionary suche_debug\n",
    "grid(search_str(wiktionary_partizip, suche_debug))"
   ]
  },
  {
   "cell_type": "code",
   "execution_count": 181,
   "metadata": {},
   "outputs": [
    {
     "name": "stdout",
     "output_type": "stream",
     "text": [
      "13263 rows out of 26588\n"
     ]
    },
    {
     "data": {
      "text/html": [
       "\n",
       "        <iframe\n",
       "            width=\"100%\"\n",
       "            height=\"475\"\n",
       "            src=\"http://pop-os:40000/dtale/iframe/30\"\n",
       "            frameborder=\"0\"\n",
       "            allowfullscreen\n",
       "            \n",
       "        ></iframe>\n",
       "        "
      ],
      "text/plain": [
       "<IPython.lib.display.IFrame at 0x7f103e62c700>"
      ]
     },
     "metadata": {},
     "output_type": "display_data"
    },
    {
     "data": {
      "text/plain": []
     },
     "execution_count": 181,
     "metadata": {},
     "output_type": "execute_result"
    },
    {
     "name": "stdout",
     "output_type": "stream",
     "text": [
      "time: 372 ms\n"
     ]
    }
   ],
   "source": [
    "# So sehen normale Partizipien 1 aus\n",
    "mask1 = wiktionary_partizip.verb.str.endswith(verbendungen)\n",
    "mask2 = wiktionary_partizip.member.str.contains('Ptz1')\n",
    "mask = mask1 & mask2\n",
    "grid(wiktionary_partizip,mask)"
   ]
  },
  {
   "cell_type": "code",
   "execution_count": 182,
   "metadata": {},
   "outputs": [
    {
     "name": "stdout",
     "output_type": "stream",
     "text": [
      "11 rows out of 26588\n"
     ]
    },
    {
     "data": {
      "text/html": [
       "\n",
       "        <iframe\n",
       "            width=\"100%\"\n",
       "            height=\"475\"\n",
       "            src=\"http://pop-os:40000/dtale/iframe/31\"\n",
       "            frameborder=\"0\"\n",
       "            allowfullscreen\n",
       "            \n",
       "        ></iframe>\n",
       "        "
      ],
      "text/plain": [
       "<IPython.lib.display.IFrame at 0x7f0fdbca1640>"
      ]
     },
     "metadata": {},
     "output_type": "display_data"
    },
    {
     "data": {
      "text/plain": []
     },
     "execution_count": 182,
     "metadata": {},
     "output_type": "execute_result"
    },
    {
     "name": "stdout",
     "output_type": "stream",
     "text": [
      "time: 201 ms\n"
     ]
    }
   ],
   "source": [
    "# Dies sind kaputte Partizipien 1: Das verb ist falsch, kann aber leicht korrigiert werden\n",
    "mask1 = ~wiktionary_partizip.verb.str.endswith(verbendungen)\n",
    "mask2 =  wiktionary_partizip.member.str.contains('Ptz1')\n",
    "mask3 =  wiktionary_partizip.adjektiv == wiktionary_partizip.verb\n",
    "mask4 =  wiktionary_partizip.verb.str.endswith(('end','ernd'))\n",
    "mask = mask1  &  mask2  &  mask3  &  mask4\n",
    "\n",
    "wiktionary_partizip.loc[mask,'verb'] = wiktionary_partizip[mask].verb.str[:-1]\n",
    "grid(wiktionary_partizip,mask)"
   ]
  },
  {
   "cell_type": "code",
   "execution_count": 183,
   "metadata": {},
   "outputs": [
    {
     "name": "stdout",
     "output_type": "stream",
     "text": [
      "13310 rows out of 26588\n"
     ]
    },
    {
     "data": {
      "text/html": [
       "\n",
       "        <iframe\n",
       "            width=\"100%\"\n",
       "            height=\"475\"\n",
       "            src=\"http://pop-os:40000/dtale/iframe/32\"\n",
       "            frameborder=\"0\"\n",
       "            allowfullscreen\n",
       "            \n",
       "        ></iframe>\n",
       "        "
      ],
      "text/plain": [
       "<IPython.lib.display.IFrame at 0x7f103e7001f0>"
      ]
     },
     "metadata": {},
     "output_type": "display_data"
    },
    {
     "data": {
      "text/plain": []
     },
     "execution_count": 183,
     "metadata": {},
     "output_type": "execute_result"
    },
    {
     "name": "stdout",
     "output_type": "stream",
     "text": [
      "time: 499 ms\n"
     ]
    }
   ],
   "source": [
    "# So sehen normale Partizipien 2 aus\n",
    "mask1 = wiktionary_partizip.verb.str.endswith(verbendungen)\n",
    "mask2 = wiktionary_partizip.member.str.contains('Ptz2')\n",
    "mask = mask1 & mask2\n",
    "grid(wiktionary_partizip,mask)"
   ]
  },
  {
   "cell_type": "code",
   "execution_count": 184,
   "metadata": {},
   "outputs": [
    {
     "name": "stdout",
     "output_type": "stream",
     "text": [
      "4 rows out of 26588\n"
     ]
    },
    {
     "data": {
      "text/html": [
       "\n",
       "        <iframe\n",
       "            width=\"100%\"\n",
       "            height=\"475\"\n",
       "            src=\"http://pop-os:40000/dtale/iframe/33\"\n",
       "            frameborder=\"0\"\n",
       "            allowfullscreen\n",
       "            \n",
       "        ></iframe>\n",
       "        "
      ],
      "text/plain": [
       "<IPython.lib.display.IFrame at 0x7f103e74aa00>"
      ]
     },
     "metadata": {},
     "output_type": "display_data"
    },
    {
     "data": {
      "text/plain": []
     },
     "execution_count": 184,
     "metadata": {},
     "output_type": "execute_result"
    },
    {
     "name": "stdout",
     "output_type": "stream",
     "text": [
      "time: 214 ms\n"
     ]
    }
   ],
   "source": [
    "# Dies sind kaputte Partizipien 2: Das verb ist falsch, kann auch nicht gut korrigiert werden.\n",
    "mask1 = ~wiktionary_partizip.verb.str.endswith(verbendungen)\n",
    "mask2 = wiktionary_partizip.member.str.contains('Ptz2')\n",
    "mask3 = wiktionary_partizip.adjektiv == wiktionary_partizip.verb\n",
    "mask4 = wiktionary_partizip.verb.str.endswith('t')\n",
    "mask = mask1  &  mask2  &  mask3  &  mask4\n",
    "grid(wiktionary_partizip,mask)"
   ]
  },
  {
   "cell_type": "code",
   "execution_count": 185,
   "metadata": {},
   "outputs": [
    {
     "name": "stdout",
     "output_type": "stream",
     "text": [
      "check_mask:  4 rows\n",
      "Delete 4 rows from 26588\n",
      "time: 114 ms\n"
     ]
    }
   ],
   "source": [
    "# Kaputte Partizipien 2 löschen\n",
    "check_mask(wiktionary_partizip,mask,0,10)\n",
    "wiktionary_partizip = pak.drop_rows(wiktionary_partizip,mask)"
   ]
  },
  {
   "cell_type": "code",
   "execution_count": 186,
   "metadata": {},
   "outputs": [
    {
     "name": "stdout",
     "output_type": "stream",
     "text": [
      "check_mask:  0 rows\n",
      "time: 65.5 ms\n"
     ]
    }
   ],
   "source": [
    "# Gibt es weitere kaputte Partizipien?\n",
    "mask = ~wiktionary_partizip.verb.str.endswith(verbendungen)\n",
    "check_mask(wiktionary_partizip,mask,0)\n",
    "#grid(wiktionary_partizip,mask)"
   ]
  },
  {
   "cell_type": "code",
   "execution_count": 187,
   "metadata": {},
   "outputs": [
    {
     "name": "stdout",
     "output_type": "stream",
     "text": [
      "check_mask:  5 rows\n",
      "Move 5 rows from 26584\n"
     ]
    },
    {
     "data": {
      "text/html": [
       "<div>\n",
       "<style scoped>\n",
       "    .dataframe tbody tr th:only-of-type {\n",
       "        vertical-align: middle;\n",
       "    }\n",
       "\n",
       "    .dataframe tbody tr th {\n",
       "        vertical-align: top;\n",
       "    }\n",
       "\n",
       "    .dataframe thead th {\n",
       "        text-align: right;\n",
       "    }\n",
       "</style>\n",
       "<table border=\"1\" class=\"dataframe\">\n",
       "  <thead>\n",
       "    <tr style=\"text-align: right;\">\n",
       "      <th></th>\n",
       "      <th>page_id</th>\n",
       "      <th>page_part</th>\n",
       "      <th>adjektiv_id</th>\n",
       "      <th>adjektiv</th>\n",
       "      <th>verb</th>\n",
       "      <th>tag</th>\n",
       "      <th>tagZ</th>\n",
       "      <th>tagZZ</th>\n",
       "      <th>member</th>\n",
       "      <th>score</th>\n",
       "      <th>msg</th>\n",
       "    </tr>\n",
       "  </thead>\n",
       "  <tbody>\n",
       "    <tr>\n",
       "      <th>7288</th>\n",
       "      <td>12269</td>\n",
       "      <td>2</td>\n",
       "      <td>versiert_2</td>\n",
       "      <td>versiert</td>\n",
       "      <td>versieren</td>\n",
       "      <td>ADJA</td>\n",
       "      <td>ADJ</td>\n",
       "      <td>A</td>\n",
       "      <td>Adjektiv Ptz2</td>\n",
       "      <td>0.710204</td>\n",
       "      <td>8</td>\n",
       "    </tr>\n",
       "    <tr>\n",
       "      <th>27682</th>\n",
       "      <td>72264</td>\n",
       "      <td>1</td>\n",
       "      <td>gesamt_1</td>\n",
       "      <td>gesamt</td>\n",
       "      <td>samen</td>\n",
       "      <td>ADJA</td>\n",
       "      <td>ADJ</td>\n",
       "      <td>A</td>\n",
       "      <td>Adjektiv Ptz2</td>\n",
       "      <td>0.516327</td>\n",
       "      <td>8</td>\n",
       "    </tr>\n",
       "    <tr>\n",
       "      <th>450813</th>\n",
       "      <td>673105</td>\n",
       "      <td>0</td>\n",
       "      <td>wullackend</td>\n",
       "      <td>wullackend</td>\n",
       "      <td>wullacken</td>\n",
       "      <td>ADJA</td>\n",
       "      <td>ADJ</td>\n",
       "      <td>A</td>\n",
       "      <td>Adjektiv Ptz1</td>\n",
       "      <td>0.453061</td>\n",
       "      <td>8</td>\n",
       "    </tr>\n",
       "    <tr>\n",
       "      <th>450814</th>\n",
       "      <td>673106</td>\n",
       "      <td>0</td>\n",
       "      <td>gewullackt</td>\n",
       "      <td>gewullackt</td>\n",
       "      <td>wullacken</td>\n",
       "      <td>ADJA</td>\n",
       "      <td>ADJ</td>\n",
       "      <td>A</td>\n",
       "      <td>Adjektiv Ptz2</td>\n",
       "      <td>0.400000</td>\n",
       "      <td>8</td>\n",
       "    </tr>\n",
       "    <tr>\n",
       "      <th>529769</th>\n",
       "      <td>788254</td>\n",
       "      <td>0</td>\n",
       "      <td>mechend</td>\n",
       "      <td>mechend</td>\n",
       "      <td>mechen</td>\n",
       "      <td>ADJA</td>\n",
       "      <td>ADJ</td>\n",
       "      <td>A</td>\n",
       "      <td>Adjektiv Ptz1</td>\n",
       "      <td>0.436735</td>\n",
       "      <td>8</td>\n",
       "    </tr>\n",
       "  </tbody>\n",
       "</table>\n",
       "</div>"
      ],
      "text/plain": [
       "        page_id  page_part adjektiv_id    adjektiv       verb   tag tagZ  \\\n",
       "7288      12269          2  versiert_2    versiert  versieren  ADJA  ADJ   \n",
       "27682     72264          1    gesamt_1      gesamt      samen  ADJA  ADJ   \n",
       "450813   673105          0  wullackend  wullackend  wullacken  ADJA  ADJ   \n",
       "450814   673106          0  gewullackt  gewullackt  wullacken  ADJA  ADJ   \n",
       "529769   788254          0     mechend     mechend     mechen  ADJA  ADJ   \n",
       "\n",
       "       tagZZ         member     score msg  \n",
       "7288       A  Adjektiv Ptz2  0.710204   8  \n",
       "27682      A  Adjektiv Ptz2  0.516327   8  \n",
       "450813     A  Adjektiv Ptz1  0.453061   8  \n",
       "450814     A  Adjektiv Ptz2  0.400000   8  \n",
       "529769     A  Adjektiv Ptz1  0.436735   8  "
      ]
     },
     "execution_count": 187,
     "metadata": {},
     "output_type": "execute_result"
    },
    {
     "name": "stdout",
     "output_type": "stream",
     "text": [
      "time: 136 ms\n"
     ]
    }
   ],
   "source": [
    "# Wenn es verb nicht auch als Wort gibt, dann ist das Müll und kann weg.\n",
    "# Wenn man das nicht will: Als Partizipien in lexeme_manuell aufnehmen!\n",
    "\n",
    "mask = ~wiktionary_partizip.verb.isin(wiktionary_lemma.lemma)\n",
    "check_mask(wiktionary_partizip,mask,0,10)\n",
    "wiktionary_partizip,df = pak.move_rows(wiktionary_partizip,mask)\n",
    "df"
   ]
  },
  {
   "cell_type": "code",
   "execution_count": 188,
   "metadata": {},
   "outputs": [
    {
     "data": {
      "text/html": [
       "<div>\n",
       "<style scoped>\n",
       "    .dataframe tbody tr th:only-of-type {\n",
       "        vertical-align: middle;\n",
       "    }\n",
       "\n",
       "    .dataframe tbody tr th {\n",
       "        vertical-align: top;\n",
       "    }\n",
       "\n",
       "    .dataframe thead th {\n",
       "        text-align: right;\n",
       "    }\n",
       "</style>\n",
       "<table border=\"1\" class=\"dataframe\">\n",
       "  <thead>\n",
       "    <tr style=\"text-align: right;\">\n",
       "      <th></th>\n",
       "      <th>tag</th>\n",
       "      <th>tag_count</th>\n",
       "      <th>tag_percent</th>\n",
       "      <th>member</th>\n",
       "      <th>member_count</th>\n",
       "    </tr>\n",
       "  </thead>\n",
       "  <tbody>\n",
       "    <tr>\n",
       "      <th>0</th>\n",
       "      <td>VVFIN</td>\n",
       "      <td>14052</td>\n",
       "      <td>99.9</td>\n",
       "      <td>[Verb, manuell, lexAlt manuell, Verb Wortverbi...</td>\n",
       "      <td>[13516, 402, 84, 37, 11, 1, 1]</td>\n",
       "    </tr>\n",
       "    <tr>\n",
       "      <th>1</th>\n",
       "      <td>VAFIN</td>\n",
       "      <td>7</td>\n",
       "      <td>0.0</td>\n",
       "      <td>[Verb Hilfsverb, manuell]</td>\n",
       "      <td>[4, 3]</td>\n",
       "    </tr>\n",
       "    <tr>\n",
       "      <th>2</th>\n",
       "      <td>VMFIN</td>\n",
       "      <td>7</td>\n",
       "      <td>0.0</td>\n",
       "      <td>[manuell, lexAlt manuell]</td>\n",
       "      <td>[6, 1]</td>\n",
       "    </tr>\n",
       "  </tbody>\n",
       "</table>\n",
       "</div>"
      ],
      "text/plain": [
       "     tag  tag_count  tag_percent  \\\n",
       "0  VVFIN      14052         99.9   \n",
       "1  VAFIN          7          0.0   \n",
       "2  VMFIN          7          0.0   \n",
       "\n",
       "                                              member  \\\n",
       "0  [Verb, manuell, lexAlt manuell, Verb Wortverbi...   \n",
       "1                          [Verb Hilfsverb, manuell]   \n",
       "2                          [manuell, lexAlt manuell]   \n",
       "\n",
       "                     member_count  \n",
       "0  [13516, 402, 84, 37, 11, 1, 1]  \n",
       "1                          [4, 3]  \n",
       "2                          [6, 1]  "
      ]
     },
     "execution_count": 188,
     "metadata": {},
     "output_type": "execute_result"
    },
    {
     "name": "stdout",
     "output_type": "stream",
     "text": [
      "time: 179 ms\n"
     ]
    }
   ],
   "source": [
    "mask = wiktionary_lemma.tagZZ == 'V'\n",
    "pak.analyse_freqs( wiktionary_lemma[mask], ['tag', 'member'])\n",
    "#wiktionary_lemma[mask]"
   ]
  },
  {
   "cell_type": "code",
   "execution_count": 189,
   "metadata": {},
   "outputs": [
    {
     "name": "stdout",
     "output_type": "stream",
     "text": [
      "update_col: col_score score applied, 873 records less!\n",
      "update_col: 26578 cells written into new column\n",
      "time: 332 ms\n"
     ]
    }
   ],
   "source": [
    "# verb_id ermitteln\n",
    "mask = wiktionary_lemma.tagZZ == 'V'\n",
    "wiktionary_partizip = pak.update_col( wiktionary_partizip,  wiktionary_lemma[mask], \n",
    "                                      left_on='verb',       right_on='lemma', \n",
    "                                      col_rename='verb_id', col='section_id2',    \n",
    "                                                            col_score='score' \n",
    "                                    )\n",
    "wiktionary_partizip = pak.move_cols(wiktionary_partizip, 'verb_id','adjektiv')"
   ]
  },
  {
   "cell_type": "code",
   "execution_count": 190,
   "metadata": {},
   "outputs": [
    {
     "name": "stdout",
     "output_type": "stream",
     "text": [
      "check_mask:  1 rows\n",
      "Move 1 rows from 26579\n"
     ]
    },
    {
     "data": {
      "text/html": [
       "<div>\n",
       "<style scoped>\n",
       "    .dataframe tbody tr th:only-of-type {\n",
       "        vertical-align: middle;\n",
       "    }\n",
       "\n",
       "    .dataframe tbody tr th {\n",
       "        vertical-align: top;\n",
       "    }\n",
       "\n",
       "    .dataframe thead th {\n",
       "        text-align: right;\n",
       "    }\n",
       "</style>\n",
       "<table border=\"1\" class=\"dataframe\">\n",
       "  <thead>\n",
       "    <tr style=\"text-align: right;\">\n",
       "      <th></th>\n",
       "      <th>page_id</th>\n",
       "      <th>page_part</th>\n",
       "      <th>adjektiv_id</th>\n",
       "      <th>adjektiv</th>\n",
       "      <th>verb_id</th>\n",
       "      <th>verb</th>\n",
       "      <th>tag</th>\n",
       "      <th>tagZ</th>\n",
       "      <th>tagZZ</th>\n",
       "      <th>member</th>\n",
       "      <th>score</th>\n",
       "      <th>msg</th>\n",
       "    </tr>\n",
       "  </thead>\n",
       "  <tbody>\n",
       "    <tr>\n",
       "      <th>39483</th>\n",
       "      <td>107564</td>\n",
       "      <td>1</td>\n",
       "      <td>betroffen_1</td>\n",
       "      <td>betroffen</td>\n",
       "      <td>NaN</td>\n",
       "      <td>betroffen</td>\n",
       "      <td>ADJA</td>\n",
       "      <td>ADJ</td>\n",
       "      <td>A</td>\n",
       "      <td>Adjektiv Ptz2</td>\n",
       "      <td>0.357143</td>\n",
       "      <td>8</td>\n",
       "    </tr>\n",
       "  </tbody>\n",
       "</table>\n",
       "</div>"
      ],
      "text/plain": [
       "       page_id  page_part  adjektiv_id   adjektiv verb_id       verb   tag  \\\n",
       "39483   107564          1  betroffen_1  betroffen     NaN  betroffen  ADJA   \n",
       "\n",
       "      tagZ tagZZ         member     score msg  \n",
       "39483  ADJ     A  Adjektiv Ptz2  0.357143   8  "
      ]
     },
     "execution_count": 190,
     "metadata": {},
     "output_type": "execute_result"
    },
    {
     "name": "stdout",
     "output_type": "stream",
     "text": [
      "time: 95.3 ms\n"
     ]
    }
   ],
   "source": [
    "# keine verb_id? Dann ist das Müll und kann weg.\n",
    "# Wenn man das nicht will: Als Partizipien in lexeme_manuell aufnehmen!\n",
    "\n",
    "mask = wiktionary_partizip.verb_id.isnull()\n",
    "check_mask(wiktionary_partizip,mask,0,5)\n",
    "wiktionary_partizip,df = pak.move_rows(wiktionary_partizip,mask)\n",
    "df"
   ]
  },
  {
   "cell_type": "code",
   "execution_count": 191,
   "metadata": {},
   "outputs": [
    {
     "name": "stdout",
     "output_type": "stream",
     "text": [
      "check_mask:  0 rows\n",
      "check_mask:  0 rows\n",
      "time: 124 ms\n"
     ]
    }
   ],
   "source": [
    "# member pflegen. Enthält danach genau Ptz1 x-oder Ptz2.\n",
    "wiktionary_partizip['member'] = pak.remove_str(wiktionary_partizip.member,['Adjektiv','Wortverbindung'])\n",
    "mask = ~wiktionary_partizip.member.isin(['Ptz1','Ptz2'])\n",
    "check_mask(wiktionary_partizip,mask,0)\n",
    "mask = wiktionary_partizip.member.isnull()  |  (wiktionary_partizip.member=='')\n",
    "check_mask(wiktionary_partizip,mask,0)"
   ]
  },
  {
   "cell_type": "code",
   "execution_count": 192,
   "metadata": {},
   "outputs": [
    {
     "name": "stdout",
     "output_type": "stream",
     "text": [
      "check_mask:  0 rows\n",
      "time: 154 ms\n"
     ]
    }
   ],
   "source": [
    "# Dups sollten eigentlich nicht drin sein\n",
    "mask = wiktionary_partizip.duplicated()\n",
    "check_mask(wiktionary_partizip,mask,0)"
   ]
  },
  {
   "cell_type": "code",
   "execution_count": 193,
   "metadata": {},
   "outputs": [
    {
     "name": "stdout",
     "output_type": "stream",
     "text": [
      "time: 48.9 ms\n"
     ]
    }
   ],
   "source": [
    "# wiktionary_partizip.member analysieren\n",
    "#r = pak.analyse_freqs( wiktionary_partizip, ['member', 'verb','adjektiv'])\n",
    "#r"
   ]
  },
  {
   "cell_type": "code",
   "execution_count": 194,
   "metadata": {},
   "outputs": [
    {
     "data": {
      "text/html": [
       "<div>\n",
       "<style scoped>\n",
       "    .dataframe tbody tr th:only-of-type {\n",
       "        vertical-align: middle;\n",
       "    }\n",
       "\n",
       "    .dataframe tbody tr th {\n",
       "        vertical-align: top;\n",
       "    }\n",
       "\n",
       "    .dataframe thead th {\n",
       "        text-align: right;\n",
       "    }\n",
       "</style>\n",
       "<table border=\"1\" class=\"dataframe\">\n",
       "  <thead>\n",
       "    <tr style=\"text-align: right;\">\n",
       "      <th></th>\n",
       "      <th>page_id</th>\n",
       "      <th>page_part</th>\n",
       "      <th>adjektiv_id</th>\n",
       "      <th>adjektiv</th>\n",
       "      <th>verb_id</th>\n",
       "      <th>verb</th>\n",
       "      <th>tag</th>\n",
       "      <th>tagZ</th>\n",
       "      <th>tagZZ</th>\n",
       "      <th>member</th>\n",
       "      <th>score</th>\n",
       "    </tr>\n",
       "  </thead>\n",
       "  <tbody>\n",
       "    <tr>\n",
       "      <th>61315</th>\n",
       "      <td>143534</td>\n",
       "      <td>0</td>\n",
       "      <td>dienend</td>\n",
       "      <td>dienend</td>\n",
       "      <td>dienen</td>\n",
       "      <td>dienen</td>\n",
       "      <td>ADJA</td>\n",
       "      <td>ADJ</td>\n",
       "      <td>A</td>\n",
       "      <td>Ptz1</td>\n",
       "      <td>1.381242</td>\n",
       "    </tr>\n",
       "  </tbody>\n",
       "</table>\n",
       "</div>"
      ],
      "text/plain": [
       "       page_id  page_part adjektiv_id adjektiv verb_id    verb   tag tagZ  \\\n",
       "61315   143534          0     dienend  dienend  dienen  dienen  ADJA  ADJ   \n",
       "\n",
       "      tagZZ member     score  \n",
       "61315     A   Ptz1  1.381242  "
      ]
     },
     "execution_count": 194,
     "metadata": {},
     "output_type": "execute_result"
    },
    {
     "name": "stdout",
     "output_type": "stream",
     "text": [
      "time: 84.7 ms\n"
     ]
    }
   ],
   "source": [
    "mask = wiktionary_partizip.adjektiv.isin(['betroffen','dienend'])\n",
    "wiktionary_partizip[mask]"
   ]
  },
  {
   "cell_type": "markdown",
   "metadata": {},
   "source": [
    "### Partizipien als Flexion des Verbs eintragen"
   ]
  },
  {
   "cell_type": "code",
   "execution_count": 195,
   "metadata": {},
   "outputs": [
    {
     "name": "stdout",
     "output_type": "stream",
     "text": [
      "time: 43.7 ms\n"
     ]
    }
   ],
   "source": [
    "#wiktionary_merkmal"
   ]
  },
  {
   "cell_type": "code",
   "execution_count": 196,
   "metadata": {},
   "outputs": [
    {
     "data": {
      "text/html": [
       "<div>\n",
       "<style scoped>\n",
       "    .dataframe tbody tr th:only-of-type {\n",
       "        vertical-align: middle;\n",
       "    }\n",
       "\n",
       "    .dataframe tbody tr th {\n",
       "        vertical-align: top;\n",
       "    }\n",
       "\n",
       "    .dataframe thead th {\n",
       "        text-align: right;\n",
       "    }\n",
       "</style>\n",
       "<table border=\"1\" class=\"dataframe\">\n",
       "  <thead>\n",
       "    <tr style=\"text-align: right;\">\n",
       "      <th></th>\n",
       "      <th>section_id2</th>\n",
       "      <th>merkmal</th>\n",
       "      <th>data_id</th>\n",
       "      <th>data</th>\n",
       "    </tr>\n",
       "  </thead>\n",
       "  <tbody>\n",
       "    <tr>\n",
       "      <th>471</th>\n",
       "      <td>dezidieren</td>\n",
       "      <td>Ptz2</td>\n",
       "      <td>dezidiert_2</td>\n",
       "      <td>dezidiert</td>\n",
       "    </tr>\n",
       "    <tr>\n",
       "      <th>368744</th>\n",
       "      <td>Acht_geben</td>\n",
       "      <td>Ptz1</td>\n",
       "      <td>Acht_gebend</td>\n",
       "      <td>Acht gebend</td>\n",
       "    </tr>\n",
       "    <tr>\n",
       "      <th>429793</th>\n",
       "      <td>modeln</td>\n",
       "      <td>Ptz1</td>\n",
       "      <td>modelnd</td>\n",
       "      <td>modelnd</td>\n",
       "    </tr>\n",
       "    <tr>\n",
       "      <th>452164</th>\n",
       "      <td>Bescheid_sagen</td>\n",
       "      <td>Ptz1</td>\n",
       "      <td>Bescheid_sagend</td>\n",
       "      <td>Bescheid sagend</td>\n",
       "    </tr>\n",
       "    <tr>\n",
       "      <th>461035</th>\n",
       "      <td>auswiegen</td>\n",
       "      <td>Ptz2</td>\n",
       "      <td>ausgewogen_1</td>\n",
       "      <td>ausgewogen</td>\n",
       "    </tr>\n",
       "    <tr>\n",
       "      <th>752996</th>\n",
       "      <td>übriglassen</td>\n",
       "      <td>Ptz1</td>\n",
       "      <td>übriglassend</td>\n",
       "      <td>übriglassend</td>\n",
       "    </tr>\n",
       "    <tr>\n",
       "      <th>806526</th>\n",
       "      <td>anspringen</td>\n",
       "      <td>Ptz1</td>\n",
       "      <td>anspringend</td>\n",
       "      <td>anspringend</td>\n",
       "    </tr>\n",
       "  </tbody>\n",
       "</table>\n",
       "</div>"
      ],
      "text/plain": [
       "           section_id2 merkmal          data_id             data\n",
       "471         dezidieren    Ptz2      dezidiert_2        dezidiert\n",
       "368744      Acht_geben    Ptz1      Acht_gebend      Acht gebend\n",
       "429793          modeln    Ptz1          modelnd          modelnd\n",
       "452164  Bescheid_sagen    Ptz1  Bescheid_sagend  Bescheid sagend\n",
       "461035       auswiegen    Ptz2     ausgewogen_1       ausgewogen\n",
       "752996     übriglassen    Ptz1     übriglassend     übriglassend\n",
       "806526      anspringen    Ptz1      anspringend      anspringend"
      ]
     },
     "execution_count": 196,
     "metadata": {},
     "output_type": "execute_result"
    },
    {
     "name": "stdout",
     "output_type": "stream",
     "text": [
      "time: 714 ms\n"
     ]
    }
   ],
   "source": [
    "# wiktionary_merkmal_partizip\n",
    "wiktionary_merkmal_partizip = wiktionary_partizip.copy()\n",
    "wiktionary_merkmal_partizip = pak.rename_col(wiktionary_merkmal_partizip, 'member',      'merkmal')\n",
    "wiktionary_merkmal_partizip = pak.rename_col(wiktionary_merkmal_partizip, 'verb_id',     'section_id2')\n",
    "wiktionary_merkmal_partizip = pak.rename_col(wiktionary_merkmal_partizip, 'adjektiv_id', 'data_id')\n",
    "wiktionary_merkmal_partizip = pak.rename_col(wiktionary_merkmal_partizip, 'adjektiv',    'data')\n",
    "wiktionary_merkmal_partizip = pak.drop_cols(wiktionary_merkmal_partizip,['tag','tagZ','tagZZ','score','verb','page_id','page_part'])\n",
    "wiktionary_merkmal_partizip = pak.move_cols(wiktionary_merkmal_partizip,['section_id2','merkmal'])\n",
    "assert set(wiktionary_merkmal_partizip.columns) == set(['section_id2','merkmal','data_id','data'])\n",
    "pak.sample(wiktionary_merkmal_partizip)"
   ]
  },
  {
   "cell_type": "code",
   "execution_count": 197,
   "metadata": {},
   "outputs": [
    {
     "data": {
      "text/html": [
       "<div>\n",
       "<style scoped>\n",
       "    .dataframe tbody tr th:only-of-type {\n",
       "        vertical-align: middle;\n",
       "    }\n",
       "\n",
       "    .dataframe tbody tr th {\n",
       "        vertical-align: top;\n",
       "    }\n",
       "\n",
       "    .dataframe thead th {\n",
       "        text-align: right;\n",
       "    }\n",
       "</style>\n",
       "<table border=\"1\" class=\"dataframe\">\n",
       "  <thead>\n",
       "    <tr style=\"text-align: right;\">\n",
       "      <th></th>\n",
       "      <th>section_id2</th>\n",
       "      <th>merkmal</th>\n",
       "      <th>data_id</th>\n",
       "      <th>data</th>\n",
       "    </tr>\n",
       "  </thead>\n",
       "  <tbody>\n",
       "    <tr>\n",
       "      <th>265548</th>\n",
       "      <td>missraten</td>\n",
       "      <td>Ptz1</td>\n",
       "      <td>missratend</td>\n",
       "      <td>missratend</td>\n",
       "    </tr>\n",
       "    <tr>\n",
       "      <th>783793</th>\n",
       "      <td>gefriertrocknen</td>\n",
       "      <td>Ptz1</td>\n",
       "      <td>gefriertrocknend</td>\n",
       "      <td>gefriertrocknend</td>\n",
       "    </tr>\n",
       "  </tbody>\n",
       "</table>\n",
       "</div>"
      ],
      "text/plain": [
       "            section_id2 merkmal           data_id              data\n",
       "265548        missraten    Ptz1        missratend        missratend\n",
       "783793  gefriertrocknen    Ptz1  gefriertrocknend  gefriertrocknend"
      ]
     },
     "execution_count": 197,
     "metadata": {},
     "output_type": "execute_result"
    },
    {
     "name": "stdout",
     "output_type": "stream",
     "text": [
      "time: 97.4 ms\n"
     ]
    }
   ],
   "source": [
    "# wiktionary_partizip suche_debug\n",
    "search_str(wiktionary_merkmal_partizip, suche_debug)"
   ]
  },
  {
   "cell_type": "code",
   "execution_count": 198,
   "metadata": {},
   "outputs": [
    {
     "name": "stdout",
     "output_type": "stream",
     "text": [
      "26578 rows added, now a total of 6059705\n",
      "time: 2.03 s\n"
     ]
    }
   ],
   "source": [
    "# wiktionary_merkmal_partizip als merkmal anfügen\n",
    "wiktionary_merkmal = pak.add_rows(wiktionary_merkmal, wiktionary_merkmal_partizip)"
   ]
  },
  {
   "cell_type": "markdown",
   "metadata": {},
   "source": [
    "### Partizipien als Adjektiv einpflegen"
   ]
  },
  {
   "cell_type": "code",
   "execution_count": 199,
   "metadata": {},
   "outputs": [
    {
     "data": {
      "text/html": [
       "<div>\n",
       "<style scoped>\n",
       "    .dataframe tbody tr th:only-of-type {\n",
       "        vertical-align: middle;\n",
       "    }\n",
       "\n",
       "    .dataframe tbody tr th {\n",
       "        vertical-align: top;\n",
       "    }\n",
       "\n",
       "    .dataframe thead th {\n",
       "        text-align: right;\n",
       "    }\n",
       "</style>\n",
       "<table border=\"1\" class=\"dataframe\">\n",
       "  <thead>\n",
       "    <tr style=\"text-align: right;\">\n",
       "      <th></th>\n",
       "      <th>page_id</th>\n",
       "      <th>page_part</th>\n",
       "      <th>adjektiv_id</th>\n",
       "      <th>adjektiv</th>\n",
       "      <th>verb_id</th>\n",
       "      <th>verb</th>\n",
       "      <th>tag</th>\n",
       "      <th>tagZ</th>\n",
       "      <th>tagZZ</th>\n",
       "      <th>member</th>\n",
       "      <th>score</th>\n",
       "    </tr>\n",
       "  </thead>\n",
       "  <tbody>\n",
       "    <tr>\n",
       "      <th>471</th>\n",
       "      <td>741</td>\n",
       "      <td>2</td>\n",
       "      <td>dezidiert_2</td>\n",
       "      <td>dezidiert</td>\n",
       "      <td>dezidieren</td>\n",
       "      <td>dezidieren</td>\n",
       "      <td>ADJA</td>\n",
       "      <td>ADJ</td>\n",
       "      <td>A</td>\n",
       "      <td>Ptz2</td>\n",
       "      <td>0.67551</td>\n",
       "    </tr>\n",
       "  </tbody>\n",
       "</table>\n",
       "</div>"
      ],
      "text/plain": [
       "     page_id  page_part  adjektiv_id   adjektiv     verb_id        verb   tag  \\\n",
       "471      741          2  dezidiert_2  dezidiert  dezidieren  dezidieren  ADJA   \n",
       "\n",
       "    tagZ tagZZ member    score  \n",
       "471  ADJ     A   Ptz2  0.67551  "
      ]
     },
     "execution_count": 199,
     "metadata": {},
     "output_type": "execute_result"
    },
    {
     "name": "stdout",
     "output_type": "stream",
     "text": [
      "time: 68 ms\n"
     ]
    }
   ],
   "source": [
    "wiktionary_partizip.head(1)"
   ]
  },
  {
   "cell_type": "code",
   "execution_count": 200,
   "metadata": {},
   "outputs": [
    {
     "data": {
      "text/html": [
       "<div>\n",
       "<style scoped>\n",
       "    .dataframe tbody tr th:only-of-type {\n",
       "        vertical-align: middle;\n",
       "    }\n",
       "\n",
       "    .dataframe tbody tr th {\n",
       "        vertical-align: top;\n",
       "    }\n",
       "\n",
       "    .dataframe thead th {\n",
       "        text-align: right;\n",
       "    }\n",
       "</style>\n",
       "<table border=\"1\" class=\"dataframe\">\n",
       "  <thead>\n",
       "    <tr style=\"text-align: right;\">\n",
       "      <th></th>\n",
       "      <th>page_id</th>\n",
       "      <th>page_part</th>\n",
       "      <th>section_id2</th>\n",
       "      <th>lemma</th>\n",
       "      <th>inflected</th>\n",
       "      <th>tag</th>\n",
       "      <th>tag_0</th>\n",
       "      <th>tag_1</th>\n",
       "      <th>tagZ</th>\n",
       "      <th>tagZZ</th>\n",
       "      <th>member</th>\n",
       "      <th>score</th>\n",
       "      <th>lang</th>\n",
       "      <th>lang_code</th>\n",
       "      <th>error</th>\n",
       "      <th>lemma_lower</th>\n",
       "    </tr>\n",
       "  </thead>\n",
       "  <tbody>\n",
       "    <tr>\n",
       "      <th>0</th>\n",
       "      <td>0.0</td>\n",
       "      <td>0.0</td>\n",
       "      <td>Hallo</td>\n",
       "      <td>Hallo</td>\n",
       "      <td>False</td>\n",
       "      <td>NN</td>\n",
       "      <td>NN</td>\n",
       "      <td>kX5wyqKSJc</td>\n",
       "      <td>NOM</td>\n",
       "      <td>N</td>\n",
       "      <td>Substantiv</td>\n",
       "      <td>7.282582</td>\n",
       "      <td>Deutsch</td>\n",
       "      <td>de</td>\n",
       "      <td></td>\n",
       "      <td>hallo</td>\n",
       "    </tr>\n",
       "  </tbody>\n",
       "</table>\n",
       "</div>"
      ],
      "text/plain": [
       "   page_id  page_part section_id2  lemma inflected tag tag_0       tag_1 tagZ  \\\n",
       "0      0.0        0.0       Hallo  Hallo     False  NN    NN  kX5wyqKSJc  NOM   \n",
       "\n",
       "  tagZZ      member     score     lang lang_code error lemma_lower  \n",
       "0     N  Substantiv  7.282582  Deutsch        de             hallo  "
      ]
     },
     "execution_count": 200,
     "metadata": {},
     "output_type": "execute_result"
    },
    {
     "name": "stdout",
     "output_type": "stream",
     "text": [
      "time: 76.8 ms\n"
     ]
    }
   ],
   "source": [
    "wiktionary_lemma.head(1)"
   ]
  },
  {
   "cell_type": "code",
   "execution_count": 201,
   "metadata": {},
   "outputs": [
    {
     "name": "stdout",
     "output_type": "stream",
     "text": [
      "check_mask:  0 rows\n",
      "Keine Doppeltags gefunden\n"
     ]
    },
    {
     "data": {
      "text/html": [
       "<div>\n",
       "<style scoped>\n",
       "    .dataframe tbody tr th:only-of-type {\n",
       "        vertical-align: middle;\n",
       "    }\n",
       "\n",
       "    .dataframe tbody tr th {\n",
       "        vertical-align: top;\n",
       "    }\n",
       "\n",
       "    .dataframe thead th {\n",
       "        text-align: right;\n",
       "    }\n",
       "</style>\n",
       "<table border=\"1\" class=\"dataframe\">\n",
       "  <thead>\n",
       "    <tr style=\"text-align: right;\">\n",
       "      <th></th>\n",
       "      <th>page_id</th>\n",
       "      <th>page_part</th>\n",
       "      <th>section_id2</th>\n",
       "      <th>lemma</th>\n",
       "      <th>lemma_lower</th>\n",
       "      <th>isupper</th>\n",
       "      <th>lemma_len</th>\n",
       "      <th>data_id</th>\n",
       "      <th>tag</th>\n",
       "      <th>tag_0</th>\n",
       "      <th>tag_1</th>\n",
       "      <th>tagZ</th>\n",
       "      <th>tagZZ</th>\n",
       "      <th>member</th>\n",
       "      <th>score</th>\n",
       "    </tr>\n",
       "  </thead>\n",
       "  <tbody>\n",
       "    <tr>\n",
       "      <th>0</th>\n",
       "      <td>741</td>\n",
       "      <td>2</td>\n",
       "      <td>dezidiert_2</td>\n",
       "      <td>dezidiert</td>\n",
       "      <td>dezidiert</td>\n",
       "      <td>False</td>\n",
       "      <td>1</td>\n",
       "      <td>dezidieren</td>\n",
       "      <td>ADJA</td>\n",
       "      <td>ADJA</td>\n",
       "      <td>MYTqQFQYFq</td>\n",
       "      <td>ADJ</td>\n",
       "      <td>A</td>\n",
       "      <td>Ptz2</td>\n",
       "      <td>0.675510</td>\n",
       "    </tr>\n",
       "    <tr>\n",
       "      <th>3</th>\n",
       "      <td>1406</td>\n",
       "      <td>1</td>\n",
       "      <td>designiert_1</td>\n",
       "      <td>designiert</td>\n",
       "      <td>designiert</td>\n",
       "      <td>False</td>\n",
       "      <td>1</td>\n",
       "      <td>designieren</td>\n",
       "      <td>ADJA</td>\n",
       "      <td>ADJA</td>\n",
       "      <td>tWqbMytwpu</td>\n",
       "      <td>ADJ</td>\n",
       "      <td>A</td>\n",
       "      <td>Ptz2</td>\n",
       "      <td>0.463265</td>\n",
       "    </tr>\n",
       "    <tr>\n",
       "      <th>192</th>\n",
       "      <td>91571</td>\n",
       "      <td>4</td>\n",
       "      <td>überdacht_4</td>\n",
       "      <td>überdacht</td>\n",
       "      <td>überdacht</td>\n",
       "      <td>False</td>\n",
       "      <td>1</td>\n",
       "      <td>überdenken</td>\n",
       "      <td>ADJA</td>\n",
       "      <td>ADJA</td>\n",
       "      <td>xv4Ncvi4pV</td>\n",
       "      <td>ADJ</td>\n",
       "      <td>A</td>\n",
       "      <td>Ptz2</td>\n",
       "      <td>0.553061</td>\n",
       "    </tr>\n",
       "    <tr>\n",
       "      <th>1818</th>\n",
       "      <td>148953</td>\n",
       "      <td>0</td>\n",
       "      <td>bedacht</td>\n",
       "      <td>bedacht</td>\n",
       "      <td>bedacht</td>\n",
       "      <td>False</td>\n",
       "      <td>1</td>\n",
       "      <td>bedachen</td>\n",
       "      <td>ADJA</td>\n",
       "      <td>ADJA</td>\n",
       "      <td>T8DR4uAq6n</td>\n",
       "      <td>ADJ</td>\n",
       "      <td>A</td>\n",
       "      <td>Ptz2</td>\n",
       "      <td>0.485714</td>\n",
       "    </tr>\n",
       "    <tr>\n",
       "      <th>2291</th>\n",
       "      <td>260951</td>\n",
       "      <td>0</td>\n",
       "      <td>böllernd</td>\n",
       "      <td>böllernd</td>\n",
       "      <td>böllernd</td>\n",
       "      <td>False</td>\n",
       "      <td>1</td>\n",
       "      <td>böllern</td>\n",
       "      <td>ADJA</td>\n",
       "      <td>ADJA</td>\n",
       "      <td>b52WSRwCQj</td>\n",
       "      <td>ADJ</td>\n",
       "      <td>A</td>\n",
       "      <td>Ptz1</td>\n",
       "      <td>0.330612</td>\n",
       "    </tr>\n",
       "    <tr>\n",
       "      <th>3134</th>\n",
       "      <td>405158</td>\n",
       "      <td>1</td>\n",
       "      <td>sprechend_1</td>\n",
       "      <td>sprechend</td>\n",
       "      <td>sprechend</td>\n",
       "      <td>False</td>\n",
       "      <td>1</td>\n",
       "      <td>sprechen</td>\n",
       "      <td>ADJA</td>\n",
       "      <td>ADJA</td>\n",
       "      <td>RnvA3iP5Lo</td>\n",
       "      <td>ADJ</td>\n",
       "      <td>A</td>\n",
       "      <td>Ptz1</td>\n",
       "      <td>2.298417</td>\n",
       "    </tr>\n",
       "    <tr>\n",
       "      <th>4975</th>\n",
       "      <td>462294</td>\n",
       "      <td>0</td>\n",
       "      <td>aalend</td>\n",
       "      <td>aalend</td>\n",
       "      <td>aalend</td>\n",
       "      <td>False</td>\n",
       "      <td>1</td>\n",
       "      <td>aalen</td>\n",
       "      <td>ADJA</td>\n",
       "      <td>ADJA</td>\n",
       "      <td>aiULtgTSJQ</td>\n",
       "      <td>ADJ</td>\n",
       "      <td>A</td>\n",
       "      <td>Ptz1</td>\n",
       "      <td>0.516327</td>\n",
       "    </tr>\n",
       "    <tr>\n",
       "      <th>9059</th>\n",
       "      <td>554855</td>\n",
       "      <td>0</td>\n",
       "      <td>Acht_gebend</td>\n",
       "      <td>Acht gebend</td>\n",
       "      <td>acht gebend</td>\n",
       "      <td>True</td>\n",
       "      <td>2</td>\n",
       "      <td>Acht_geben</td>\n",
       "      <td>ADJA</td>\n",
       "      <td>ADJA</td>\n",
       "      <td>fpMENrzVDx</td>\n",
       "      <td>ADJ</td>\n",
       "      <td>A</td>\n",
       "      <td>Ptz1</td>\n",
       "      <td>0.412245</td>\n",
       "    </tr>\n",
       "    <tr>\n",
       "      <th>9260</th>\n",
       "      <td>559810</td>\n",
       "      <td>0</td>\n",
       "      <td>abgenickt</td>\n",
       "      <td>abgenickt</td>\n",
       "      <td>abgenickt</td>\n",
       "      <td>False</td>\n",
       "      <td>1</td>\n",
       "      <td>abnicken</td>\n",
       "      <td>ADJA</td>\n",
       "      <td>ADJA</td>\n",
       "      <td>eZjd356Ryg</td>\n",
       "      <td>ADJ</td>\n",
       "      <td>A</td>\n",
       "      <td>Ptz2</td>\n",
       "      <td>0.395918</td>\n",
       "    </tr>\n",
       "    <tr>\n",
       "      <th>14326</th>\n",
       "      <td>652448</td>\n",
       "      <td>0</td>\n",
       "      <td>auspowernd</td>\n",
       "      <td>auspowernd</td>\n",
       "      <td>auspowernd</td>\n",
       "      <td>False</td>\n",
       "      <td>1</td>\n",
       "      <td>auspowern</td>\n",
       "      <td>ADJA</td>\n",
       "      <td>ADJA</td>\n",
       "      <td>9avIy7CTPA</td>\n",
       "      <td>ADJ</td>\n",
       "      <td>A</td>\n",
       "      <td>Ptz1</td>\n",
       "      <td>0.408163</td>\n",
       "    </tr>\n",
       "    <tr>\n",
       "      <th>16247</th>\n",
       "      <td>709543</td>\n",
       "      <td>0</td>\n",
       "      <td>zusammengeschrieben</td>\n",
       "      <td>zusammengeschrieben</td>\n",
       "      <td>zusammengeschrieben</td>\n",
       "      <td>False</td>\n",
       "      <td>1</td>\n",
       "      <td>zusammenschreiben</td>\n",
       "      <td>ADJA</td>\n",
       "      <td>ADJA</td>\n",
       "      <td>00KdtN7uZN</td>\n",
       "      <td>ADJ</td>\n",
       "      <td>A</td>\n",
       "      <td>Ptz2</td>\n",
       "      <td>0.497959</td>\n",
       "    </tr>\n",
       "    <tr>\n",
       "      <th>19221</th>\n",
       "      <td>825535</td>\n",
       "      <td>0</td>\n",
       "      <td>umnähend</td>\n",
       "      <td>umnähend</td>\n",
       "      <td>umnähend</td>\n",
       "      <td>False</td>\n",
       "      <td>1</td>\n",
       "      <td>umnähen</td>\n",
       "      <td>ADJA</td>\n",
       "      <td>ADJA</td>\n",
       "      <td>zzWSO0XvdG</td>\n",
       "      <td>ADJ</td>\n",
       "      <td>A</td>\n",
       "      <td>Ptz1</td>\n",
       "      <td>0.406122</td>\n",
       "    </tr>\n",
       "    <tr>\n",
       "      <th>24816</th>\n",
       "      <td>1022709</td>\n",
       "      <td>0</td>\n",
       "      <td>übriglassend</td>\n",
       "      <td>übriglassend</td>\n",
       "      <td>übriglassend</td>\n",
       "      <td>False</td>\n",
       "      <td>1</td>\n",
       "      <td>übriglassen</td>\n",
       "      <td>ADJA</td>\n",
       "      <td>ADJA</td>\n",
       "      <td>VENtrjN5l7</td>\n",
       "      <td>ADJ</td>\n",
       "      <td>A</td>\n",
       "      <td>Ptz1</td>\n",
       "      <td>0.557143</td>\n",
       "    </tr>\n",
       "    <tr>\n",
       "      <th>26534</th>\n",
       "      <td>1075813</td>\n",
       "      <td>0</td>\n",
       "      <td>drauflosgeschlagen</td>\n",
       "      <td>drauflosgeschlagen</td>\n",
       "      <td>drauflosgeschlagen</td>\n",
       "      <td>False</td>\n",
       "      <td>1</td>\n",
       "      <td>drauflosschlagen</td>\n",
       "      <td>ADJA</td>\n",
       "      <td>ADJA</td>\n",
       "      <td>zzXjdVIxIl</td>\n",
       "      <td>ADJ</td>\n",
       "      <td>A</td>\n",
       "      <td>Ptz2</td>\n",
       "      <td>0.438776</td>\n",
       "    </tr>\n",
       "    <tr>\n",
       "      <th>26577</th>\n",
       "      <td>1078291</td>\n",
       "      <td>0</td>\n",
       "      <td>anspringend</td>\n",
       "      <td>anspringend</td>\n",
       "      <td>anspringend</td>\n",
       "      <td>False</td>\n",
       "      <td>1</td>\n",
       "      <td>anspringen</td>\n",
       "      <td>ADJA</td>\n",
       "      <td>ADJA</td>\n",
       "      <td>JWed8CP30G</td>\n",
       "      <td>ADJ</td>\n",
       "      <td>A</td>\n",
       "      <td>Ptz1</td>\n",
       "      <td>0.375510</td>\n",
       "    </tr>\n",
       "  </tbody>\n",
       "</table>\n",
       "</div>"
      ],
      "text/plain": [
       "       page_id  page_part          section_id2                lemma  \\\n",
       "0          741          2          dezidiert_2            dezidiert   \n",
       "3         1406          1         designiert_1           designiert   \n",
       "192      91571          4          überdacht_4            überdacht   \n",
       "1818    148953          0              bedacht              bedacht   \n",
       "2291    260951          0             böllernd             böllernd   \n",
       "3134    405158          1          sprechend_1            sprechend   \n",
       "4975    462294          0               aalend               aalend   \n",
       "9059    554855          0          Acht_gebend          Acht gebend   \n",
       "9260    559810          0            abgenickt            abgenickt   \n",
       "14326   652448          0           auspowernd           auspowernd   \n",
       "16247   709543          0  zusammengeschrieben  zusammengeschrieben   \n",
       "19221   825535          0             umnähend             umnähend   \n",
       "24816  1022709          0         übriglassend         übriglassend   \n",
       "26534  1075813          0   drauflosgeschlagen   drauflosgeschlagen   \n",
       "26577  1078291          0          anspringend          anspringend   \n",
       "\n",
       "               lemma_lower  isupper  lemma_len            data_id   tag tag_0  \\\n",
       "0                dezidiert    False          1         dezidieren  ADJA  ADJA   \n",
       "3               designiert    False          1        designieren  ADJA  ADJA   \n",
       "192              überdacht    False          1         überdenken  ADJA  ADJA   \n",
       "1818               bedacht    False          1           bedachen  ADJA  ADJA   \n",
       "2291              böllernd    False          1            böllern  ADJA  ADJA   \n",
       "3134             sprechend    False          1           sprechen  ADJA  ADJA   \n",
       "4975                aalend    False          1              aalen  ADJA  ADJA   \n",
       "9059           acht gebend     True          2         Acht_geben  ADJA  ADJA   \n",
       "9260             abgenickt    False          1           abnicken  ADJA  ADJA   \n",
       "14326           auspowernd    False          1          auspowern  ADJA  ADJA   \n",
       "16247  zusammengeschrieben    False          1  zusammenschreiben  ADJA  ADJA   \n",
       "19221             umnähend    False          1            umnähen  ADJA  ADJA   \n",
       "24816         übriglassend    False          1        übriglassen  ADJA  ADJA   \n",
       "26534   drauflosgeschlagen    False          1   drauflosschlagen  ADJA  ADJA   \n",
       "26577          anspringend    False          1         anspringen  ADJA  ADJA   \n",
       "\n",
       "            tag_1 tagZ tagZZ member     score  \n",
       "0      MYTqQFQYFq  ADJ     A   Ptz2  0.675510  \n",
       "3      tWqbMytwpu  ADJ     A   Ptz2  0.463265  \n",
       "192    xv4Ncvi4pV  ADJ     A   Ptz2  0.553061  \n",
       "1818   T8DR4uAq6n  ADJ     A   Ptz2  0.485714  \n",
       "2291   b52WSRwCQj  ADJ     A   Ptz1  0.330612  \n",
       "3134   RnvA3iP5Lo  ADJ     A   Ptz1  2.298417  \n",
       "4975   aiULtgTSJQ  ADJ     A   Ptz1  0.516327  \n",
       "9059   fpMENrzVDx  ADJ     A   Ptz1  0.412245  \n",
       "9260   eZjd356Ryg  ADJ     A   Ptz2  0.395918  \n",
       "14326  9avIy7CTPA  ADJ     A   Ptz1  0.408163  \n",
       "16247  00KdtN7uZN  ADJ     A   Ptz2  0.497959  \n",
       "19221  zzWSO0XvdG  ADJ     A   Ptz1  0.406122  \n",
       "24816  VENtrjN5l7  ADJ     A   Ptz1  0.557143  \n",
       "26534  zzXjdVIxIl  ADJ     A   Ptz2  0.438776  \n",
       "26577  JWed8CP30G  ADJ     A   Ptz1  0.375510  "
      ]
     },
     "execution_count": 201,
     "metadata": {},
     "output_type": "execute_result"
    },
    {
     "name": "stdout",
     "output_type": "stream",
     "text": [
      "time: 2.09 s\n"
     ]
    }
   ],
   "source": [
    "# wiktionary_lemma_partizip\n",
    "wiktionary_lemma_partizip = wiktionary_partizip.copy()\n",
    "wiktionary_lemma_partizip = pak.rename_col(wiktionary_lemma_partizip, 'adjektiv_id',     'section_id2')\n",
    "wiktionary_lemma_partizip = pak.rename_col(wiktionary_lemma_partizip, 'adjektiv',        'lemma')\n",
    "wiktionary_lemma_partizip = pak.rename_col(wiktionary_lemma_partizip, 'verb_id',         'data_id')\n",
    "wiktionary_lemma_partizip = pak.drop_cols(wiktionary_lemma_partizip, ['verb'] )\n",
    "wiktionary_lemma_partizip = ergänze_felder(wiktionary_lemma_partizip)\n",
    "wiktionary_lemma_partizip = pflege_tag_felder(wiktionary_lemma_partizip, translate_tagZ)\n",
    "\n",
    "pak.sample(wiktionary_lemma_partizip)"
   ]
  },
  {
   "cell_type": "code",
   "execution_count": 202,
   "metadata": {},
   "outputs": [
    {
     "name": "stdout",
     "output_type": "stream",
     "text": [
      "check_mask:  37 rows\n",
      "Move 37 rows from 26578\n",
      "37 rows\n"
     ]
    },
    {
     "data": {
      "text/html": [
       "\n",
       "        <iframe\n",
       "            width=\"100%\"\n",
       "            height=\"475\"\n",
       "            src=\"http://pop-os:40000/dtale/iframe/34\"\n",
       "            frameborder=\"0\"\n",
       "            allowfullscreen\n",
       "            \n",
       "        ></iframe>\n",
       "        "
      ],
      "text/plain": [
       "<IPython.lib.display.IFrame at 0x7f103f8faee0>"
      ]
     },
     "metadata": {},
     "output_type": "display_data"
    },
    {
     "data": {
      "text/plain": []
     },
     "execution_count": 202,
     "metadata": {},
     "output_type": "execute_result"
    },
    {
     "name": "stdout",
     "output_type": "stream",
     "text": [
      "time: 171 ms\n"
     ]
    }
   ],
   "source": [
    "# Einige ungeeignete Partizipien löschen\n",
    "mask1 = ~wiktionary_lemma_partizip.lemma.str.endswith(('d','t','en'))\n",
    "mask2 = ~wiktionary_lemma_partizip.lemma.isin(['vertan',])\n",
    "mask = mask1  &  mask2\n",
    "check_mask(wiktionary_lemma_partizip,mask,37)\n",
    "wiktionary_lemma_partizip, df = pak.move_rows(wiktionary_lemma_partizip,mask)\n",
    "grid(df)"
   ]
  },
  {
   "cell_type": "code",
   "execution_count": 203,
   "metadata": {},
   "outputs": [
    {
     "name": "stdout",
     "output_type": "stream",
     "text": [
      "2 rows\n"
     ]
    },
    {
     "data": {
      "text/html": [
       "\n",
       "        <iframe\n",
       "            width=\"100%\"\n",
       "            height=\"475\"\n",
       "            src=\"http://pop-os:40000/dtale/iframe/35\"\n",
       "            frameborder=\"0\"\n",
       "            allowfullscreen\n",
       "            \n",
       "        ></iframe>\n",
       "        "
      ],
      "text/plain": [
       "<IPython.lib.display.IFrame at 0x7f10399bf190>"
      ]
     },
     "metadata": {},
     "output_type": "display_data"
    },
    {
     "data": {
      "text/plain": []
     },
     "execution_count": 203,
     "metadata": {},
     "output_type": "execute_result"
    },
    {
     "name": "stdout",
     "output_type": "stream",
     "text": [
      "time: 276 ms\n"
     ]
    }
   ],
   "source": [
    "# wiktionary_lemma suche_debug\n",
    "grid(search_str(wiktionary_lemma_partizip, suche_debug))"
   ]
  },
  {
   "cell_type": "code",
   "execution_count": 204,
   "metadata": {},
   "outputs": [
    {
     "name": "stdout",
     "output_type": "stream",
     "text": [
      "26541 rows added, now a total of 167618\n",
      "time: 355 ms\n"
     ]
    }
   ],
   "source": [
    "# wiktionary_lemma_partizip als lemma anfügen\n",
    "wiktionary_lemma = pak.add_rows(wiktionary_lemma, wiktionary_lemma_partizip)"
   ]
  },
  {
   "cell_type": "markdown",
   "metadata": {},
   "source": [
    "### Manuelle Partizipien als Adjektiv einpflegen"
   ]
  },
  {
   "cell_type": "code",
   "execution_count": 205,
   "metadata": {},
   "outputs": [
    {
     "name": "stdout",
     "output_type": "stream",
     "text": [
      "time: 38.5 ms\n"
     ]
    }
   ],
   "source": [
    "# lexeme_manuell_copy als Basis\n",
    "mask = lexeme_manuell_copy.tab == 'Partizipien'\n",
    "ptz_manuell = lexeme_manuell_copy[mask]"
   ]
  },
  {
   "cell_type": "code",
   "execution_count": 206,
   "metadata": {},
   "outputs": [
    {
     "name": "stdout",
     "output_type": "stream",
     "text": [
      "update_col: 413 cells written into new column\n",
      "time: 64.5 ms\n"
     ]
    }
   ],
   "source": [
    "# id des Verbs holen (dirty)\n",
    "ptz_manuell = pak.update_col(ptz_manuell, \n",
    "                             lexeme_manuell,\n",
    "                             on=['lemma','tag'],  \n",
    "                             col='section_id2',\n",
    "                             col_rename='data_id'\n",
    "                            )"
   ]
  },
  {
   "cell_type": "code",
   "execution_count": 207,
   "metadata": {},
   "outputs": [
    {
     "name": "stdout",
     "output_type": "stream",
     "text": [
      "check_mask:  0 rows\n",
      "Keine Doppeltags gefunden\n",
      "time: 182 ms\n"
     ]
    }
   ],
   "source": [
    "# Weitere Spalten\n",
    "ptz_manuell['section_id2'] = ptz_manuell.lex.str.replace(' ','_') + '_MADJ'\n",
    "spalten = ['section_id2','lex','tag_lex','data_id']\n",
    "ptz_manuell = ptz_manuell[spalten]\n",
    "ptz_manuell = pak.rename_col(ptz_manuell, 'lex',    'lemma')\n",
    "ptz_manuell = pak.rename_col(ptz_manuell, 'tag_lex','member')\n",
    "\n",
    "ptz_manuell['member'] += ' manuell'\n",
    "ptz_manuell['tag'] = 'ADJA'\n",
    "ptz_manuell['score'] = 0.5\n",
    "\n",
    "ptz_manuell = ergänze_felder(ptz_manuell)\n",
    "ptz_manuell = pflege_tag_felder(ptz_manuell, translate_tagZ)\n",
    "\n",
    "#grid(ptz_manuell)"
   ]
  },
  {
   "cell_type": "code",
   "execution_count": 208,
   "metadata": {},
   "outputs": [
    {
     "name": "stdout",
     "output_type": "stream",
     "text": [
      "3 rows\n"
     ]
    },
    {
     "data": {
      "text/html": [
       "\n",
       "        <iframe\n",
       "            width=\"100%\"\n",
       "            height=\"475\"\n",
       "            src=\"http://pop-os:40000/dtale/iframe/36\"\n",
       "            frameborder=\"0\"\n",
       "            allowfullscreen\n",
       "            \n",
       "        ></iframe>\n",
       "        "
      ],
      "text/plain": [
       "<IPython.lib.display.IFrame at 0x7f103f434b20>"
      ]
     },
     "metadata": {},
     "output_type": "display_data"
    },
    {
     "data": {
      "text/plain": []
     },
     "execution_count": 208,
     "metadata": {},
     "output_type": "execute_result"
    },
    {
     "name": "stdout",
     "output_type": "stream",
     "text": [
      "time: 157 ms\n"
     ]
    }
   ],
   "source": [
    "# ptz_manuell suche_debug\n",
    "grid(search_str(ptz_manuell, suche_debug))"
   ]
  },
  {
   "cell_type": "code",
   "execution_count": 209,
   "metadata": {},
   "outputs": [
    {
     "name": "stdout",
     "output_type": "stream",
     "text": [
      "update_col: col_score score applied, 1219 records less!\n",
      "update_col: 232 cells written into existing column\n"
     ]
    },
    {
     "data": {
      "text/html": [
       "<div>\n",
       "<style scoped>\n",
       "    .dataframe tbody tr th:only-of-type {\n",
       "        vertical-align: middle;\n",
       "    }\n",
       "\n",
       "    .dataframe tbody tr th {\n",
       "        vertical-align: top;\n",
       "    }\n",
       "\n",
       "    .dataframe thead th {\n",
       "        text-align: right;\n",
       "    }\n",
       "</style>\n",
       "<table border=\"1\" class=\"dataframe\">\n",
       "  <thead>\n",
       "    <tr style=\"text-align: right;\">\n",
       "      <th></th>\n",
       "      <th>section_id2</th>\n",
       "      <th>lemma</th>\n",
       "      <th>lemma_lower</th>\n",
       "      <th>isupper</th>\n",
       "      <th>lemma_len</th>\n",
       "      <th>member</th>\n",
       "      <th>data_id</th>\n",
       "      <th>tag</th>\n",
       "      <th>tag_0</th>\n",
       "      <th>tag_1</th>\n",
       "      <th>tagZ</th>\n",
       "      <th>tagZZ</th>\n",
       "      <th>score</th>\n",
       "    </tr>\n",
       "  </thead>\n",
       "  <tbody>\n",
       "    <tr>\n",
       "      <th>0</th>\n",
       "      <td>abberufen_MADJ</td>\n",
       "      <td>abberufen</td>\n",
       "      <td>abberufen</td>\n",
       "      <td>False</td>\n",
       "      <td>1</td>\n",
       "      <td>Ptz2 manuell</td>\n",
       "      <td>abberufen</td>\n",
       "      <td>ADJA</td>\n",
       "      <td>ADJA</td>\n",
       "      <td>A3XzuQq0O2</td>\n",
       "      <td>ADJ</td>\n",
       "      <td>A</td>\n",
       "      <td>0.5</td>\n",
       "    </tr>\n",
       "    <tr>\n",
       "      <th>1</th>\n",
       "      <td>abgepaßt_MADJ</td>\n",
       "      <td>abgepaßt</td>\n",
       "      <td>abgepaßt</td>\n",
       "      <td>False</td>\n",
       "      <td>1</td>\n",
       "      <td>Ptz2 manuell</td>\n",
       "      <td>abpassen</td>\n",
       "      <td>ADJA</td>\n",
       "      <td>ADJA</td>\n",
       "      <td>ttdDtnIGIN</td>\n",
       "      <td>ADJ</td>\n",
       "      <td>A</td>\n",
       "      <td>0.5</td>\n",
       "    </tr>\n",
       "    <tr>\n",
       "      <th>2</th>\n",
       "      <td>achtend</td>\n",
       "      <td>achtend</td>\n",
       "      <td>achtend</td>\n",
       "      <td>False</td>\n",
       "      <td>1</td>\n",
       "      <td>Ptz1 manuell</td>\n",
       "      <td>achten</td>\n",
       "      <td>ADJA</td>\n",
       "      <td>ADJA</td>\n",
       "      <td>JZlaKYQEsh</td>\n",
       "      <td>ADJ</td>\n",
       "      <td>A</td>\n",
       "      <td>0.5</td>\n",
       "    </tr>\n",
       "    <tr>\n",
       "      <th>3</th>\n",
       "      <td>anbehalten_MADJ</td>\n",
       "      <td>anbehalten</td>\n",
       "      <td>anbehalten</td>\n",
       "      <td>False</td>\n",
       "      <td>1</td>\n",
       "      <td>Ptz2 manuell</td>\n",
       "      <td>anbehalten</td>\n",
       "      <td>ADJA</td>\n",
       "      <td>ADJA</td>\n",
       "      <td>b2RMV29et5</td>\n",
       "      <td>ADJ</td>\n",
       "      <td>A</td>\n",
       "      <td>0.5</td>\n",
       "    </tr>\n",
       "    <tr>\n",
       "      <th>4</th>\n",
       "      <td>aneinandergepreßt_MADJ</td>\n",
       "      <td>aneinandergepreßt</td>\n",
       "      <td>aneinandergepreßt</td>\n",
       "      <td>False</td>\n",
       "      <td>1</td>\n",
       "      <td>Ptz2 manuell</td>\n",
       "      <td>aneinanderpressen</td>\n",
       "      <td>ADJA</td>\n",
       "      <td>ADJA</td>\n",
       "      <td>CkTZJW0mvd</td>\n",
       "      <td>ADJ</td>\n",
       "      <td>A</td>\n",
       "      <td>0.5</td>\n",
       "    </tr>\n",
       "    <tr>\n",
       "      <th>...</th>\n",
       "      <td>...</td>\n",
       "      <td>...</td>\n",
       "      <td>...</td>\n",
       "      <td>...</td>\n",
       "      <td>...</td>\n",
       "      <td>...</td>\n",
       "      <td>...</td>\n",
       "      <td>...</td>\n",
       "      <td>...</td>\n",
       "      <td>...</td>\n",
       "      <td>...</td>\n",
       "      <td>...</td>\n",
       "      <td>...</td>\n",
       "    </tr>\n",
       "    <tr>\n",
       "      <th>408</th>\n",
       "      <td>überraschend</td>\n",
       "      <td>überraschend</td>\n",
       "      <td>überraschend</td>\n",
       "      <td>False</td>\n",
       "      <td>1</td>\n",
       "      <td>Ptz1 manuell</td>\n",
       "      <td>überraschen</td>\n",
       "      <td>ADJA</td>\n",
       "      <td>ADJA</td>\n",
       "      <td>5n2jRuc3Sk</td>\n",
       "      <td>ADJ</td>\n",
       "      <td>A</td>\n",
       "      <td>0.5</td>\n",
       "    </tr>\n",
       "    <tr>\n",
       "      <th>409</th>\n",
       "      <td>überschäumend</td>\n",
       "      <td>überschäumend</td>\n",
       "      <td>überschäumend</td>\n",
       "      <td>False</td>\n",
       "      <td>1</td>\n",
       "      <td>Ptz1 manuell</td>\n",
       "      <td>überschäumen</td>\n",
       "      <td>ADJA</td>\n",
       "      <td>ADJA</td>\n",
       "      <td>X7sYC6XhXr</td>\n",
       "      <td>ADJ</td>\n",
       "      <td>A</td>\n",
       "      <td>0.5</td>\n",
       "    </tr>\n",
       "    <tr>\n",
       "      <th>410</th>\n",
       "      <td>überwiegend</td>\n",
       "      <td>überwiegend</td>\n",
       "      <td>überwiegend</td>\n",
       "      <td>False</td>\n",
       "      <td>1</td>\n",
       "      <td>Ptz1 manuell</td>\n",
       "      <td>überwiegen</td>\n",
       "      <td>ADJA</td>\n",
       "      <td>ADJA</td>\n",
       "      <td>k4SHiAGlQg</td>\n",
       "      <td>ADJ</td>\n",
       "      <td>A</td>\n",
       "      <td>0.5</td>\n",
       "    </tr>\n",
       "    <tr>\n",
       "      <th>411</th>\n",
       "      <td>überwältigend</td>\n",
       "      <td>überwältigend</td>\n",
       "      <td>überwältigend</td>\n",
       "      <td>False</td>\n",
       "      <td>1</td>\n",
       "      <td>Ptz1 manuell</td>\n",
       "      <td>überwältigen</td>\n",
       "      <td>ADJA</td>\n",
       "      <td>ADJA</td>\n",
       "      <td>FZ4X4uxC6T</td>\n",
       "      <td>ADJ</td>\n",
       "      <td>A</td>\n",
       "      <td>0.5</td>\n",
       "    </tr>\n",
       "    <tr>\n",
       "      <th>412</th>\n",
       "      <td>überzeugend</td>\n",
       "      <td>überzeugend</td>\n",
       "      <td>überzeugend</td>\n",
       "      <td>False</td>\n",
       "      <td>1</td>\n",
       "      <td>Ptz1 manuell</td>\n",
       "      <td>überzeugen</td>\n",
       "      <td>ADJA</td>\n",
       "      <td>ADJA</td>\n",
       "      <td>oXudhgIo2V</td>\n",
       "      <td>ADJ</td>\n",
       "      <td>A</td>\n",
       "      <td>0.5</td>\n",
       "    </tr>\n",
       "  </tbody>\n",
       "</table>\n",
       "<p>413 rows × 13 columns</p>\n",
       "</div>"
      ],
      "text/plain": [
       "                section_id2              lemma        lemma_lower  isupper  \\\n",
       "0            abberufen_MADJ          abberufen          abberufen    False   \n",
       "1             abgepaßt_MADJ           abgepaßt           abgepaßt    False   \n",
       "2                   achtend            achtend            achtend    False   \n",
       "3           anbehalten_MADJ         anbehalten         anbehalten    False   \n",
       "4    aneinandergepreßt_MADJ  aneinandergepreßt  aneinandergepreßt    False   \n",
       "..                      ...                ...                ...      ...   \n",
       "408            überraschend       überraschend       überraschend    False   \n",
       "409           überschäumend      überschäumend      überschäumend    False   \n",
       "410             überwiegend        überwiegend        überwiegend    False   \n",
       "411           überwältigend      überwältigend      überwältigend    False   \n",
       "412             überzeugend        überzeugend        überzeugend    False   \n",
       "\n",
       "     lemma_len        member            data_id   tag tag_0       tag_1 tagZ  \\\n",
       "0            1  Ptz2 manuell          abberufen  ADJA  ADJA  A3XzuQq0O2  ADJ   \n",
       "1            1  Ptz2 manuell           abpassen  ADJA  ADJA  ttdDtnIGIN  ADJ   \n",
       "2            1  Ptz1 manuell             achten  ADJA  ADJA  JZlaKYQEsh  ADJ   \n",
       "3            1  Ptz2 manuell         anbehalten  ADJA  ADJA  b2RMV29et5  ADJ   \n",
       "4            1  Ptz2 manuell  aneinanderpressen  ADJA  ADJA  CkTZJW0mvd  ADJ   \n",
       "..         ...           ...                ...   ...   ...         ...  ...   \n",
       "408          1  Ptz1 manuell        überraschen  ADJA  ADJA  5n2jRuc3Sk  ADJ   \n",
       "409          1  Ptz1 manuell       überschäumen  ADJA  ADJA  X7sYC6XhXr  ADJ   \n",
       "410          1  Ptz1 manuell         überwiegen  ADJA  ADJA  k4SHiAGlQg  ADJ   \n",
       "411          1  Ptz1 manuell       überwältigen  ADJA  ADJA  FZ4X4uxC6T  ADJ   \n",
       "412          1  Ptz1 manuell         überzeugen  ADJA  ADJA  oXudhgIo2V  ADJ   \n",
       "\n",
       "    tagZZ  score  \n",
       "0       A    0.5  \n",
       "1       A    0.5  \n",
       "2       A    0.5  \n",
       "3       A    0.5  \n",
       "4       A    0.5  \n",
       "..    ...    ...  \n",
       "408     A    0.5  \n",
       "409     A    0.5  \n",
       "410     A    0.5  \n",
       "411     A    0.5  \n",
       "412     A    0.5  \n",
       "\n",
       "[413 rows x 13 columns]"
      ]
     },
     "execution_count": 209,
     "metadata": {},
     "output_type": "execute_result"
    },
    {
     "name": "stdout",
     "output_type": "stream",
     "text": [
      "time: 448 ms\n"
     ]
    }
   ],
   "source": [
    "# section_id2 ermitteln\n",
    "mask = wiktionary_lemma.tagZ == 'ADJ'\n",
    "ptz_manuell = pak.update_col( ptz_manuell,  \n",
    "                              wiktionary_lemma[mask], \n",
    "                              on='lemma',     \n",
    "                              col='section_id2',    \n",
    "                              col_score='score' \n",
    "                                    )\n",
    "ptz_manuell"
   ]
  },
  {
   "cell_type": "code",
   "execution_count": 210,
   "metadata": {},
   "outputs": [
    {
     "name": "stdout",
     "output_type": "stream",
     "text": [
      "413 rows added, now a total of 168031\n",
      "time: 212 ms\n"
     ]
    }
   ],
   "source": [
    "# ptz_manuell als lemma anfügen\n",
    "wiktionary_lemma = pak.add_rows(wiktionary_lemma, ptz_manuell)"
   ]
  },
  {
   "cell_type": "code",
   "execution_count": 211,
   "metadata": {},
   "outputs": [
    {
     "data": {
      "text/html": [
       "<div>\n",
       "<style scoped>\n",
       "    .dataframe tbody tr th:only-of-type {\n",
       "        vertical-align: middle;\n",
       "    }\n",
       "\n",
       "    .dataframe tbody tr th {\n",
       "        vertical-align: top;\n",
       "    }\n",
       "\n",
       "    .dataframe thead th {\n",
       "        text-align: right;\n",
       "    }\n",
       "</style>\n",
       "<table border=\"1\" class=\"dataframe\">\n",
       "  <thead>\n",
       "    <tr style=\"text-align: right;\">\n",
       "      <th></th>\n",
       "      <th>section_id2</th>\n",
       "      <th>merkmal</th>\n",
       "      <th>node_debug</th>\n",
       "      <th>node_kontext</th>\n",
       "      <th>data</th>\n",
       "      <th>num</th>\n",
       "      <th>meta</th>\n",
       "      <th>data_id</th>\n",
       "    </tr>\n",
       "  </thead>\n",
       "  <tbody>\n",
       "    <tr>\n",
       "      <th>6033127</th>\n",
       "      <td>dezidieren</td>\n",
       "      <td>Ptz2</td>\n",
       "      <td>&lt;NA&gt;</td>\n",
       "      <td>&lt;NA&gt;</td>\n",
       "      <td>dezidiert</td>\n",
       "      <td>&lt;NA&gt;</td>\n",
       "      <td>&lt;NA&gt;</td>\n",
       "      <td>dezidiert_2</td>\n",
       "    </tr>\n",
       "    <tr>\n",
       "      <th>6033128</th>\n",
       "      <td>dedizieren</td>\n",
       "      <td>Ptz2</td>\n",
       "      <td>&lt;NA&gt;</td>\n",
       "      <td>&lt;NA&gt;</td>\n",
       "      <td>dediziert</td>\n",
       "      <td>&lt;NA&gt;</td>\n",
       "      <td>&lt;NA&gt;</td>\n",
       "      <td>dediziert_1</td>\n",
       "    </tr>\n",
       "    <tr>\n",
       "      <th>6033129</th>\n",
       "      <td>verrücken</td>\n",
       "      <td>Ptz2</td>\n",
       "      <td>&lt;NA&gt;</td>\n",
       "      <td>&lt;NA&gt;</td>\n",
       "      <td>verrückt</td>\n",
       "      <td>&lt;NA&gt;</td>\n",
       "      <td>&lt;NA&gt;</td>\n",
       "      <td>verrückt_2</td>\n",
       "    </tr>\n",
       "    <tr>\n",
       "      <th>6033130</th>\n",
       "      <td>designieren</td>\n",
       "      <td>Ptz2</td>\n",
       "      <td>&lt;NA&gt;</td>\n",
       "      <td>&lt;NA&gt;</td>\n",
       "      <td>designiert</td>\n",
       "      <td>&lt;NA&gt;</td>\n",
       "      <td>&lt;NA&gt;</td>\n",
       "      <td>designiert_1</td>\n",
       "    </tr>\n",
       "    <tr>\n",
       "      <th>6033131</th>\n",
       "      <td>verfluchen</td>\n",
       "      <td>Ptz2</td>\n",
       "      <td>&lt;NA&gt;</td>\n",
       "      <td>&lt;NA&gt;</td>\n",
       "      <td>verflucht</td>\n",
       "      <td>&lt;NA&gt;</td>\n",
       "      <td>&lt;NA&gt;</td>\n",
       "      <td>verflucht_2</td>\n",
       "    </tr>\n",
       "    <tr>\n",
       "      <th>...</th>\n",
       "      <td>...</td>\n",
       "      <td>...</td>\n",
       "      <td>...</td>\n",
       "      <td>...</td>\n",
       "      <td>...</td>\n",
       "      <td>...</td>\n",
       "      <td>...</td>\n",
       "      <td>...</td>\n",
       "    </tr>\n",
       "    <tr>\n",
       "      <th>6059700</th>\n",
       "      <td>anzählen</td>\n",
       "      <td>Ptz1</td>\n",
       "      <td>&lt;NA&gt;</td>\n",
       "      <td>&lt;NA&gt;</td>\n",
       "      <td>anzählend</td>\n",
       "      <td>&lt;NA&gt;</td>\n",
       "      <td>&lt;NA&gt;</td>\n",
       "      <td>anzählend</td>\n",
       "    </tr>\n",
       "    <tr>\n",
       "      <th>6059701</th>\n",
       "      <td>anrücken</td>\n",
       "      <td>Ptz2</td>\n",
       "      <td>&lt;NA&gt;</td>\n",
       "      <td>&lt;NA&gt;</td>\n",
       "      <td>angerückt</td>\n",
       "      <td>&lt;NA&gt;</td>\n",
       "      <td>&lt;NA&gt;</td>\n",
       "      <td>angerückt</td>\n",
       "    </tr>\n",
       "    <tr>\n",
       "      <th>6059702</th>\n",
       "      <td>anrücken</td>\n",
       "      <td>Ptz1</td>\n",
       "      <td>&lt;NA&gt;</td>\n",
       "      <td>&lt;NA&gt;</td>\n",
       "      <td>anrückend</td>\n",
       "      <td>&lt;NA&gt;</td>\n",
       "      <td>&lt;NA&gt;</td>\n",
       "      <td>anrückend</td>\n",
       "    </tr>\n",
       "    <tr>\n",
       "      <th>6059703</th>\n",
       "      <td>anspringen</td>\n",
       "      <td>Ptz2</td>\n",
       "      <td>&lt;NA&gt;</td>\n",
       "      <td>&lt;NA&gt;</td>\n",
       "      <td>angesprungen</td>\n",
       "      <td>&lt;NA&gt;</td>\n",
       "      <td>&lt;NA&gt;</td>\n",
       "      <td>angesprungen</td>\n",
       "    </tr>\n",
       "    <tr>\n",
       "      <th>6059704</th>\n",
       "      <td>anspringen</td>\n",
       "      <td>Ptz1</td>\n",
       "      <td>&lt;NA&gt;</td>\n",
       "      <td>&lt;NA&gt;</td>\n",
       "      <td>anspringend</td>\n",
       "      <td>&lt;NA&gt;</td>\n",
       "      <td>&lt;NA&gt;</td>\n",
       "      <td>anspringend</td>\n",
       "    </tr>\n",
       "  </tbody>\n",
       "</table>\n",
       "<p>26578 rows × 8 columns</p>\n",
       "</div>"
      ],
      "text/plain": [
       "         section_id2 merkmal node_debug node_kontext          data   num  \\\n",
       "6033127   dezidieren    Ptz2       <NA>         <NA>     dezidiert  <NA>   \n",
       "6033128   dedizieren    Ptz2       <NA>         <NA>     dediziert  <NA>   \n",
       "6033129    verrücken    Ptz2       <NA>         <NA>      verrückt  <NA>   \n",
       "6033130  designieren    Ptz2       <NA>         <NA>    designiert  <NA>   \n",
       "6033131   verfluchen    Ptz2       <NA>         <NA>     verflucht  <NA>   \n",
       "...              ...     ...        ...          ...           ...   ...   \n",
       "6059700     anzählen    Ptz1       <NA>         <NA>     anzählend  <NA>   \n",
       "6059701     anrücken    Ptz2       <NA>         <NA>     angerückt  <NA>   \n",
       "6059702     anrücken    Ptz1       <NA>         <NA>     anrückend  <NA>   \n",
       "6059703   anspringen    Ptz2       <NA>         <NA>  angesprungen  <NA>   \n",
       "6059704   anspringen    Ptz1       <NA>         <NA>   anspringend  <NA>   \n",
       "\n",
       "         meta       data_id  \n",
       "6033127  <NA>   dezidiert_2  \n",
       "6033128  <NA>   dediziert_1  \n",
       "6033129  <NA>    verrückt_2  \n",
       "6033130  <NA>  designiert_1  \n",
       "6033131  <NA>   verflucht_2  \n",
       "...       ...           ...  \n",
       "6059700  <NA>     anzählend  \n",
       "6059701  <NA>     angerückt  \n",
       "6059702  <NA>     anrückend  \n",
       "6059703  <NA>  angesprungen  \n",
       "6059704  <NA>   anspringend  \n",
       "\n",
       "[26578 rows x 8 columns]"
      ]
     },
     "execution_count": 211,
     "metadata": {},
     "output_type": "execute_result"
    },
    {
     "name": "stdout",
     "output_type": "stream",
     "text": [
      "time: 239 ms\n"
     ]
    }
   ],
   "source": [
    "mask = wiktionary_merkmal.data_id != ''\n",
    "wiktionary_merkmal[mask]"
   ]
  },
  {
   "cell_type": "markdown",
   "metadata": {},
   "source": [
    "## wiktionary_lemma weiterbearbeiten"
   ]
  },
  {
   "cell_type": "markdown",
   "metadata": {},
   "source": [
    "### Grundpflege"
   ]
  },
  {
   "cell_type": "code",
   "execution_count": 220,
   "metadata": {},
   "outputs": [
    {
     "name": "stdout",
     "output_type": "stream",
     "text": [
      "time: 212 ms\n"
     ]
    }
   ],
   "source": [
    "# reset_index\n",
    "wiktionary_lemma = pak.reset_index(wiktionary_lemma)"
   ]
  },
  {
   "cell_type": "code",
   "execution_count": 221,
   "metadata": {},
   "outputs": [
    {
     "name": "stdout",
     "output_type": "stream",
     "text": [
      "time: 300 ms\n"
     ]
    }
   ],
   "source": [
    "# drop_cols\n",
    "wiktionary_lemma = pak.drop_cols(wiktionary_lemma,['msg','inflected','error','lang','lang_code'])"
   ]
  },
  {
   "cell_type": "code",
   "execution_count": 222,
   "metadata": {},
   "outputs": [
    {
     "name": "stdout",
     "output_type": "stream",
     "text": [
      "check_mask:  293 rows\n",
      "time: 718 ms\n"
     ]
    }
   ],
   "source": [
    "# ergänze_felder\n",
    "#from x32_Funktionen import *\n",
    "wiktionary_lemma = ergänze_felder(wiktionary_lemma)"
   ]
  },
  {
   "cell_type": "code",
   "execution_count": 223,
   "metadata": {},
   "outputs": [
    {
     "name": "stdout",
     "output_type": "stream",
     "text": [
      "time: 412 ms\n"
     ]
    }
   ],
   "source": [
    "# fillna\n",
    "wiktionary_lemma['score'] = wiktionary_lemma.score.fillna(0.45)\n",
    "assert not pak.any_nan(wiktionary_lemma, without=['page_id','page_part','data_id',])\n",
    "#pak.nnan(wiktionary_lemma)"
   ]
  },
  {
   "cell_type": "markdown",
   "metadata": {},
   "source": [
    "## wiktionary_merkmal_text"
   ]
  },
  {
   "cell_type": "code",
   "execution_count": 224,
   "metadata": {},
   "outputs": [
    {
     "name": "stdout",
     "output_type": "stream",
     "text": [
      "time: 682 ms\n"
     ]
    }
   ],
   "source": [
    "# ist scho geladen\n",
    "# wiktionary_merkmal_text = pak.load_pickle(wiktionary_merkmal_text_filename)\n",
    "assert not pak.any_nan(wiktionary_merkmal_text)\n",
    "# pak.nnan(wiktionary_merkmal_text)"
   ]
  },
  {
   "cell_type": "markdown",
   "metadata": {},
   "source": [
    "### Grundpflege"
   ]
  },
  {
   "cell_type": "code",
   "execution_count": 225,
   "metadata": {},
   "outputs": [
    {
     "name": "stdout",
     "output_type": "stream",
     "text": [
      "time: 287 ms\n"
     ]
    }
   ],
   "source": [
    "# drop_cols\n",
    "wiktionary_merkmal_text = pak.drop_cols( wiktionary_merkmal_text, ['section_id'])"
   ]
  },
  {
   "cell_type": "code",
   "execution_count": 226,
   "metadata": {},
   "outputs": [
    {
     "name": "stdout",
     "output_type": "stream",
     "text": [
      "time: 614 ms\n"
     ]
    }
   ],
   "source": [
    "# wiktionary_merkmal_text: list_to_string\n",
    "wiktionary_merkmal_text['num'] = pak.list_to_string(wiktionary_merkmal_text.num)"
   ]
  },
  {
   "cell_type": "code",
   "execution_count": 227,
   "metadata": {},
   "outputs": [
    {
     "name": "stdout",
     "output_type": "stream",
     "text": [
      "38 Datensätze gelöscht\n",
      "time: 1.16 s\n"
     ]
    }
   ],
   "source": [
    "# wiktionary_merkmal_text: drop_duplicates\n",
    "vorher = wiktionary_merkmal_text.shape[0]\n",
    "wiktionary_merkmal_text = wiktionary_merkmal_text.drop_duplicates()\n",
    "nachher = wiktionary_merkmal_text.shape[0]\n",
    "print(vorher-nachher,'Datensätze gelöscht')"
   ]
  },
  {
   "cell_type": "code",
   "execution_count": 228,
   "metadata": {},
   "outputs": [
    {
     "data": {
      "text/html": [
       "<div>\n",
       "<style scoped>\n",
       "    .dataframe tbody tr th:only-of-type {\n",
       "        vertical-align: middle;\n",
       "    }\n",
       "\n",
       "    .dataframe tbody tr th {\n",
       "        vertical-align: top;\n",
       "    }\n",
       "\n",
       "    .dataframe thead th {\n",
       "        text-align: right;\n",
       "    }\n",
       "</style>\n",
       "<table border=\"1\" class=\"dataframe\">\n",
       "  <thead>\n",
       "    <tr style=\"text-align: right;\">\n",
       "      <th></th>\n",
       "      <th>section_id2</th>\n",
       "      <th>merkmal</th>\n",
       "      <th>num</th>\n",
       "      <th>meta</th>\n",
       "      <th>data</th>\n",
       "    </tr>\n",
       "  </thead>\n",
       "  <tbody>\n",
       "    <tr>\n",
       "      <th>0</th>\n",
       "      <td>Hallo</td>\n",
       "      <td>def</td>\n",
       "      <td>1</td>\n",
       "      <td></td>\n",
       "      <td>lautes Rufen; fröhliches, lautes Durcheinander</td>\n",
       "    </tr>\n",
       "    <tr>\n",
       "      <th>7</th>\n",
       "      <td>Subfamilia</td>\n",
       "      <td>bsp</td>\n",
       "      <td>1</td>\n",
       "      <td>Beispiele</td>\n",
       "      <td>Beispiele</td>\n",
       "    </tr>\n",
       "    <tr>\n",
       "      <th>9246</th>\n",
       "      <td>Virus</td>\n",
       "      <td>bsp</td>\n",
       "      <td>2</td>\n",
       "      <td></td>\n",
       "      <td>\"  John von Neumann  entwickelte 1949 die Theo...</td>\n",
       "    </tr>\n",
       "    <tr>\n",
       "      <th>68337</th>\n",
       "      <td>Kanji</td>\n",
       "      <td>bsp</td>\n",
       "      <td>2</td>\n",
       "      <td></td>\n",
       "      <td>父 , 水  und 家  sind Kanji.</td>\n",
       "    </tr>\n",
       "    <tr>\n",
       "      <th>80573</th>\n",
       "      <td>treiben</td>\n",
       "      <td>def</td>\n",
       "      <td>1</td>\n",
       "      <td></td>\n",
       "      <td>Personen oder Tiere dazu  bringen , sich in ei...</td>\n",
       "    </tr>\n",
       "    <tr>\n",
       "      <th>97643</th>\n",
       "      <td>Cadmiumsulfit</td>\n",
       "      <td>bsp</td>\n",
       "      <td>9,15</td>\n",
       "      <td></td>\n",
       "      <td>und α-MnSO 3</td>\n",
       "    </tr>\n",
       "    <tr>\n",
       "      <th>286402</th>\n",
       "      <td>μm</td>\n",
       "      <td>def</td>\n",
       "      <td>1</td>\n",
       "      <td>Mikrometer</td>\n",
       "      <td>Einheitensymbol für Mikrometer</td>\n",
       "    </tr>\n",
       "    <tr>\n",
       "      <th>288208</th>\n",
       "      <td>&amp;c.</td>\n",
       "      <td>def</td>\n",
       "      <td>1</td>\n",
       "      <td></td>\n",
       "      <td>et cetera</td>\n",
       "    </tr>\n",
       "    <tr>\n",
       "      <th>346123</th>\n",
       "      <td>Bukkake</td>\n",
       "      <td>herkunft</td>\n",
       "      <td></td>\n",
       "      <td>ぶっかけ</td>\n",
       "      <td>Entliehen aus dem japanischen ぶっかけ , das Nomen...</td>\n",
       "    </tr>\n",
       "    <tr>\n",
       "      <th>619793</th>\n",
       "      <td>unerziehbar</td>\n",
       "      <td>bsp</td>\n",
       "      <td>1</td>\n",
       "      <td>unerziehbarste</td>\n",
       "      <td>„Diemitz war mit einer leichten Verbeugung vor...</td>\n",
       "    </tr>\n",
       "  </tbody>\n",
       "</table>\n",
       "</div>"
      ],
      "text/plain": [
       "          section_id2   merkmal   num            meta  \\\n",
       "0               Hallo       def     1                   \n",
       "7          Subfamilia       bsp     1       Beispiele   \n",
       "9246            Virus       bsp     2                   \n",
       "68337           Kanji       bsp     2                   \n",
       "80573         treiben       def     1                   \n",
       "97643   Cadmiumsulfit       bsp  9,15                   \n",
       "286402             μm       def     1      Mikrometer   \n",
       "288208            &c.       def     1                   \n",
       "346123        Bukkake  herkunft                  ぶっかけ   \n",
       "619793    unerziehbar       bsp     1  unerziehbarste   \n",
       "\n",
       "                                                     data  \n",
       "0          lautes Rufen; fröhliches, lautes Durcheinander  \n",
       "7                                               Beispiele  \n",
       "9246    \"  John von Neumann  entwickelte 1949 die Theo...  \n",
       "68337                           父 , 水  und 家  sind Kanji.  \n",
       "80573   Personen oder Tiere dazu  bringen , sich in ei...  \n",
       "97643                                        und α-MnSO 3  \n",
       "286402                     Einheitensymbol für Mikrometer  \n",
       "288208                                          et cetera  \n",
       "346123  Entliehen aus dem japanischen ぶっかけ , das Nomen...  \n",
       "619793  „Diemitz war mit einer leichten Verbeugung vor...  "
      ]
     },
     "execution_count": 228,
     "metadata": {},
     "output_type": "execute_result"
    },
    {
     "name": "stdout",
     "output_type": "stream",
     "text": [
      "time: 3.16 s\n"
     ]
    }
   ],
   "source": [
    "pak.sample(wiktionary_merkmal_text)"
   ]
  },
  {
   "cell_type": "code",
   "execution_count": 229,
   "metadata": {},
   "outputs": [
    {
     "name": "stdout",
     "output_type": "stream",
     "text": [
      "update_col: 633185 cells written into new column\n",
      "update_col: WARNING: df_from identifier not unique. I call this again with func=\"max\"\n",
      "update_col: func max applied, 2671 records less!\n",
      "update_col: 618499 cells written into new column\n",
      "time: 17 s\n"
     ]
    }
   ],
   "source": [
    "# lemma übertragen\n",
    "assert not pak.any_nan(wiktionary_lemma, without=['page_id','page_part','data_id',])\n",
    "wiktionary_merkmal_text = pak.update_col( wiktionary_merkmal_text, wiktionary_lemma, on='section_id2', col='lemma'  )"
   ]
  },
  {
   "cell_type": "code",
   "execution_count": 230,
   "metadata": {},
   "outputs": [
    {
     "data": {
      "text/plain": [
       "118             April_1\n",
       "483            Mensch_1\n",
       "930            Mutter_2\n",
       "997              Boot_1\n",
       "1000             Boot_2\n",
       "              ...      \n",
       "612289        miachteln\n",
       "612714    schulstangeln\n",
       "613243       derstessen\n",
       "617217            lusen\n",
       "617556      inzendieren\n",
       "Name: section_id2, Length: 358, dtype: string"
      ]
     },
     "execution_count": 230,
     "metadata": {},
     "output_type": "execute_result"
    },
    {
     "name": "stdout",
     "output_type": "stream",
     "text": [
      "time: 62.6 ms\n"
     ]
    }
   ],
   "source": [
    "# verwaise_section_id2 finden\n",
    "mask = wiktionary_merkmal_text.lemma.isnull()\n",
    "verwaise_section_id2 = wiktionary_merkmal_text[mask].section_id2.drop_duplicates()\n",
    "verwaise_section_id2"
   ]
  },
  {
   "cell_type": "code",
   "execution_count": 231,
   "metadata": {},
   "outputs": [
    {
     "data": {
      "text/html": [
       "<img src onerror=\"var cell = this.closest('.jp-CodeCell');var editor = cell.querySelector('.jp-Editor');editor.style.background='orange';this.parentNode.removeChild(this)\">"
      ],
      "text/plain": [
       "<IPython.core.display.HTML object>"
      ]
     },
     "metadata": {},
     "output_type": "display_data"
    },
    {
     "name": "stdout",
     "output_type": "stream",
     "text": [
      "123 rows\n"
     ]
    },
    {
     "data": {
      "text/html": [
       "\n",
       "        <iframe\n",
       "            width=\"100%\"\n",
       "            height=\"475\"\n",
       "            src=\"http://pop-os:40000/dtale/iframe/41\"\n",
       "            frameborder=\"0\"\n",
       "            allowfullscreen\n",
       "            \n",
       "        ></iframe>\n",
       "        "
      ],
      "text/plain": [
       "<IPython.lib.display.IFrame at 0x7f112010d040>"
      ]
     },
     "metadata": {},
     "output_type": "display_data"
    },
    {
     "data": {
      "text/plain": []
     },
     "execution_count": 231,
     "metadata": {},
     "output_type": "execute_result"
    },
    {
     "name": "stdout",
     "output_type": "stream",
     "text": [
      "time: 142 ms\n"
     ]
    }
   ],
   "source": [
    "bgc('orange') ## TODO_verwaiste_Wörter\n",
    "mask1 =  wiktionary_merkmal_text.section_id2.isin(verwaise_section_id2)\n",
    "mask2 = ~wiktionary_merkmal_text.section_id2.isin(wiktionary_trash.section_id2)\n",
    "mask = mask1  &  mask2\n",
    "grid(wiktionary_merkmal_text[mask].sort_values('section_id2'))"
   ]
  },
  {
   "cell_type": "code",
   "execution_count": 232,
   "metadata": {},
   "outputs": [
    {
     "name": "stdout",
     "output_type": "stream",
     "text": [
      "1257 rows out of 619756\n"
     ]
    },
    {
     "data": {
      "text/html": [
       "\n",
       "        <iframe\n",
       "            width=\"100%\"\n",
       "            height=\"475\"\n",
       "            src=\"http://pop-os:40000/dtale/iframe/42\"\n",
       "            frameborder=\"0\"\n",
       "            allowfullscreen\n",
       "            \n",
       "        ></iframe>\n",
       "        "
      ],
      "text/plain": [
       "<IPython.lib.display.IFrame at 0x7f102ff7dd00>"
      ]
     },
     "metadata": {},
     "output_type": "display_data"
    },
    {
     "data": {
      "text/plain": []
     },
     "execution_count": 232,
     "metadata": {},
     "output_type": "execute_result"
    },
    {
     "name": "stdout",
     "output_type": "stream",
     "text": [
      "time: 225 ms\n"
     ]
    }
   ],
   "source": [
    "# verwaiste Datensätze anschauen\n",
    "mask = wiktionary_merkmal_text.lemma.isnull()\n",
    "grid(wiktionary_merkmal_text,mask)"
   ]
  },
  {
   "cell_type": "code",
   "execution_count": 233,
   "metadata": {},
   "outputs": [
    {
     "name": "stdout",
     "output_type": "stream",
     "text": [
      "check_mask:  1257 rows\n",
      "Delete 1257 rows from 619756\n",
      "time: 478 ms\n"
     ]
    }
   ],
   "source": [
    "# verwaiste Datensätze löschen\n",
    "mask = wiktionary_merkmal_text.lemma.isnull()\n",
    "check_mask(wiktionary_merkmal_text,mask,1217)\n",
    "wiktionary_merkmal_text = pak.drop_rows(wiktionary_merkmal_text,mask)"
   ]
  },
  {
   "cell_type": "code",
   "execution_count": 234,
   "metadata": {},
   "outputs": [
    {
     "data": {
      "text/html": [
       "<div>\n",
       "<style scoped>\n",
       "    .dataframe tbody tr th:only-of-type {\n",
       "        vertical-align: middle;\n",
       "    }\n",
       "\n",
       "    .dataframe tbody tr th {\n",
       "        vertical-align: top;\n",
       "    }\n",
       "\n",
       "    .dataframe thead th {\n",
       "        text-align: right;\n",
       "    }\n",
       "</style>\n",
       "<table border=\"1\" class=\"dataframe\">\n",
       "  <thead>\n",
       "    <tr style=\"text-align: right;\">\n",
       "      <th></th>\n",
       "      <th>section_id2</th>\n",
       "      <th>merkmal</th>\n",
       "      <th>num</th>\n",
       "      <th>meta</th>\n",
       "      <th>data</th>\n",
       "      <th>lemma</th>\n",
       "    </tr>\n",
       "  </thead>\n",
       "  <tbody>\n",
       "    <tr>\n",
       "      <th>294077</th>\n",
       "      <td>missraten</td>\n",
       "      <td>def</td>\n",
       "      <td>1</td>\n",
       "      <td></td>\n",
       "      <td>nicht  gelingen</td>\n",
       "      <td>missraten</td>\n",
       "    </tr>\n",
       "    <tr>\n",
       "      <th>294078</th>\n",
       "      <td>missraten</td>\n",
       "      <td>bsp</td>\n",
       "      <td>1</td>\n",
       "      <td>missraten</td>\n",
       "      <td>Dieser Kuchen ist vollkommen missraten.</td>\n",
       "      <td>missraten</td>\n",
       "    </tr>\n",
       "    <tr>\n",
       "      <th>318344</th>\n",
       "      <td>gefriergetrocknet</td>\n",
       "      <td>def</td>\n",
       "      <td>1</td>\n",
       "      <td></td>\n",
       "      <td>mit dem Verfahren der  Gefriertrocknung  haltb...</td>\n",
       "      <td>gefriergetrocknet</td>\n",
       "    </tr>\n",
       "    <tr>\n",
       "      <th>318345</th>\n",
       "      <td>gefriergetrocknet</td>\n",
       "      <td>bsp</td>\n",
       "      <td>1</td>\n",
       "      <td>Beispiele</td>\n",
       "      <td>Beispiele</td>\n",
       "      <td>gefriergetrocknet</td>\n",
       "    </tr>\n",
       "    <tr>\n",
       "      <th>607551</th>\n",
       "      <td>gefriertrocknen</td>\n",
       "      <td>def</td>\n",
       "      <td>1</td>\n",
       "      <td>transitiv</td>\n",
       "      <td>transitiv   Stoff e und  Lebensmittel   tiefge...</td>\n",
       "      <td>gefriertrocknen</td>\n",
       "    </tr>\n",
       "    <tr>\n",
       "      <th>607552</th>\n",
       "      <td>gefriertrocknen</td>\n",
       "      <td>herkunft</td>\n",
       "      <td></td>\n",
       "      <td></td>\n",
       "      <td>Determinativkompositum (  Zusammensetzung ) au...</td>\n",
       "      <td>gefriertrocknen</td>\n",
       "    </tr>\n",
       "    <tr>\n",
       "      <th>607553</th>\n",
       "      <td>gefriertrocknen</td>\n",
       "      <td>bsp</td>\n",
       "      <td>1</td>\n",
       "      <td>gefriergetrocknet</td>\n",
       "      <td>In Sachsen wurden bereits etwa 20 Prozent des ...</td>\n",
       "      <td>gefriertrocknen</td>\n",
       "    </tr>\n",
       "    <tr>\n",
       "      <th>607554</th>\n",
       "      <td>gefriertrocknen</td>\n",
       "      <td>bsp</td>\n",
       "      <td>1</td>\n",
       "      <td>gefriertrocknen</td>\n",
       "      <td>Darüber hinaus kommt das Verfahren sogar für h...</td>\n",
       "      <td>gefriertrocknen</td>\n",
       "    </tr>\n",
       "    <tr>\n",
       "      <th>607555</th>\n",
       "      <td>gefriertrocknen</td>\n",
       "      <td>bsp</td>\n",
       "      <td>1</td>\n",
       "      <td>gefriertrocknet</td>\n",
       "      <td>Zusätzlich gefriertrocknet  sie nun Dokumente ...</td>\n",
       "      <td>gefriertrocknen</td>\n",
       "    </tr>\n",
       "    <tr>\n",
       "      <th>607556</th>\n",
       "      <td>gefriertrocknen</td>\n",
       "      <td>bsp</td>\n",
       "      <td>1</td>\n",
       "      <td>gefriertrocknet</td>\n",
       "      <td>Die Produktion gefriertrocknet  (lyophilisiert...</td>\n",
       "      <td>gefriertrocknen</td>\n",
       "    </tr>\n",
       "    <tr>\n",
       "      <th>607557</th>\n",
       "      <td>gefriertrocknen</td>\n",
       "      <td>bsp</td>\n",
       "      <td>1</td>\n",
       "      <td>gefrierzutrocknen</td>\n",
       "      <td>Speisen gefrierzutrocknen  beeinflusst die Str...</td>\n",
       "      <td>gefriertrocknen</td>\n",
       "    </tr>\n",
       "  </tbody>\n",
       "</table>\n",
       "</div>"
      ],
      "text/plain": [
       "              section_id2   merkmal num               meta  \\\n",
       "294077          missraten       def   1                      \n",
       "294078          missraten       bsp   1          missraten   \n",
       "318344  gefriergetrocknet       def   1                      \n",
       "318345  gefriergetrocknet       bsp   1          Beispiele   \n",
       "607551    gefriertrocknen       def   1          transitiv   \n",
       "607552    gefriertrocknen  herkunft                          \n",
       "607553    gefriertrocknen       bsp   1  gefriergetrocknet   \n",
       "607554    gefriertrocknen       bsp   1    gefriertrocknen   \n",
       "607555    gefriertrocknen       bsp   1    gefriertrocknet   \n",
       "607556    gefriertrocknen       bsp   1    gefriertrocknet   \n",
       "607557    gefriertrocknen       bsp   1  gefrierzutrocknen   \n",
       "\n",
       "                                                     data              lemma  \n",
       "294077                                    nicht  gelingen          missraten  \n",
       "294078            Dieser Kuchen ist vollkommen missraten.          missraten  \n",
       "318344  mit dem Verfahren der  Gefriertrocknung  haltb...  gefriergetrocknet  \n",
       "318345                                          Beispiele  gefriergetrocknet  \n",
       "607551  transitiv   Stoff e und  Lebensmittel   tiefge...    gefriertrocknen  \n",
       "607552  Determinativkompositum (  Zusammensetzung ) au...    gefriertrocknen  \n",
       "607553  In Sachsen wurden bereits etwa 20 Prozent des ...    gefriertrocknen  \n",
       "607554  Darüber hinaus kommt das Verfahren sogar für h...    gefriertrocknen  \n",
       "607555  Zusätzlich gefriertrocknet  sie nun Dokumente ...    gefriertrocknen  \n",
       "607556  Die Produktion gefriertrocknet  (lyophilisiert...    gefriertrocknen  \n",
       "607557  Speisen gefrierzutrocknen  beeinflusst die Str...    gefriertrocknen  "
      ]
     },
     "execution_count": 234,
     "metadata": {},
     "output_type": "execute_result"
    },
    {
     "name": "stdout",
     "output_type": "stream",
     "text": [
      "time: 88.6 ms\n"
     ]
    }
   ],
   "source": [
    "# suche_debug\n",
    "\n",
    "mask = wiktionary_merkmal_text.lemma.isin(suche_debug)\n",
    "wiktionary_merkmal_text[mask]\n",
    "#wiktionary_lemma[mask].lemma"
   ]
  },
  {
   "cell_type": "code",
   "execution_count": 235,
   "metadata": {},
   "outputs": [
    {
     "name": "stdout",
     "output_type": "stream",
     "text": [
      "time: 8.2 s\n"
     ]
    }
   ],
   "source": [
    "# Grobreinigung \n",
    "\n",
    "r = { ' !':'!',  ' ?':'?',  ' ,':',',  ' en ':'en ',  ' e ':'e ',  ' en,':'en,',  ' e,':'e,',  ' es,':'es,',  '  ':' ', }\n",
    "wiktionary_merkmal_text['data'] = pak.replace_str( wiktionary_merkmal_text.data, r )\n",
    "\n",
    "r = ['[1]', '[2]', '[3]', '[4]', '[5]', '[6]', '[7]', '[8]', '[9]', '[10]', '[11]', '[12]', '[1a]', '[*]']\n",
    "wiktionary_merkmal_text['data'] = pak.remove_str( wiktionary_merkmal_text.data, r )"
   ]
  },
  {
   "cell_type": "code",
   "execution_count": 236,
   "metadata": {},
   "outputs": [
    {
     "data": {
      "text/plain": [
       "page_id        6748\n",
       "page_part      6748\n",
       "data_id      141077\n",
       "dtype: int64"
      ]
     },
     "execution_count": 236,
     "metadata": {},
     "output_type": "execute_result"
    },
    {
     "name": "stdout",
     "output_type": "stream",
     "text": [
      "time: 219 ms\n"
     ]
    }
   ],
   "source": [
    "pak.nnan(wiktionary_lemma)"
   ]
  },
  {
   "cell_type": "code",
   "execution_count": 237,
   "metadata": {},
   "outputs": [
    {
     "name": "stdout",
     "output_type": "stream",
     "text": [
      "time: 32.7 ms\n"
     ]
    }
   ],
   "source": [
    "#mask = wiktionary_merkmal_text.data.str.endswith(  ( ' e', ' en', ' es' )  )\n",
    "#r = { ' e':'e',   ' en':'en',   ' es':'es',  }\n",
    "#wiktionary_merkmal_text.loc[mask,'data'] = pak.replace_str( wiktionary_merkmal_text[mask].data, r )\n",
    "#grid(wiktionary_merkmal_text,mask)"
   ]
  },
  {
   "cell_type": "markdown",
   "metadata": {},
   "source": [
    "### Aufzählungen in Einzeldatensätze aufsplitten\n",
    "* Die merkmale bsp_re und bsp_sp enthalten Aufzählungen. Diese werden in Einzeldatensätze aufgesplittet. \n",
    "* Das Feld rank_merkmal erhält die Reihenfolge."
   ]
  },
  {
   "cell_type": "code",
   "execution_count": 238,
   "metadata": {},
   "outputs": [
    {
     "name": "stdout",
     "output_type": "stream",
     "text": [
      "6657 rows out of 618499\n"
     ]
    },
    {
     "data": {
      "text/html": [
       "\n",
       "        <iframe\n",
       "            width=\"100%\"\n",
       "            height=\"475\"\n",
       "            src=\"http://pop-os:40000/dtale/iframe/43\"\n",
       "            frameborder=\"0\"\n",
       "            allowfullscreen\n",
       "            \n",
       "        ></iframe>\n",
       "        "
      ],
      "text/plain": [
       "<IPython.lib.display.IFrame at 0x7f102ff7d880>"
      ]
     },
     "metadata": {},
     "output_type": "display_data"
    },
    {
     "data": {
      "text/plain": []
     },
     "execution_count": 238,
     "metadata": {},
     "output_type": "execute_result"
    },
    {
     "name": "stdout",
     "output_type": "stream",
     "text": [
      "time: 859 ms\n"
     ]
    }
   ],
   "source": [
    "# Splitten vorbereiten\n",
    "\n",
    "mask = wiktionary_merkmal_text.merkmal.isin(['bsp_re','bsp_sp'])\n",
    "r = { '–':'➤',  '—':'➤',  ';':'➤',  '/':'➤',  }\n",
    "wiktionary_merkmal_text.loc[mask,'data'] = pak.replace_str( wiktionary_merkmal_text[mask].data, r )\n",
    "\n",
    "grid( wiktionary_merkmal_text, mask )"
   ]
  },
  {
   "cell_type": "code",
   "execution_count": 239,
   "metadata": {},
   "outputs": [
    {
     "name": "stdout",
     "output_type": "stream",
     "text": [
      "rank: 0 rows less, now 618499 rows\n",
      "time: 1.94 s\n"
     ]
    }
   ],
   "source": [
    "# rank_merkmal\n",
    "wiktionary_merkmal_text = wiktionary_merkmal_text.reset_index() # spalte 'index' erzeugen\n",
    "wiktionary_merkmal_text = pak.rank( wiktionary_merkmal_text, cols_group=['section_id2','merkmal'], col_score='index', find='min', col_target='rank_merkmal')\n",
    "wiktionary_merkmal_text = pak.rename_col(wiktionary_merkmal_text,'index','i')\n",
    "wiktionary_merkmal_text = pak.force_index(wiktionary_merkmal_text,'i')"
   ]
  },
  {
   "cell_type": "code",
   "execution_count": 240,
   "metadata": {},
   "outputs": [
    {
     "name": "stdout",
     "output_type": "stream",
     "text": [
      "Move 1408 rows from 618499\n",
      "time: 888 ms\n"
     ]
    }
   ],
   "source": [
    "# zu splittende Datensätze abtrennen\n",
    "mask1 = wiktionary_merkmal_text.merkmal.isin(['bsp_re','bsp_sp'])\n",
    "mask2 = wiktionary_merkmal_text.data.str.contains('➤')\n",
    "mask  = mask1  &  mask2\n",
    "\n",
    "wiktionary_merkmal_text, df = pak.move_rows( wiktionary_merkmal_text, mask, msg=None )"
   ]
  },
  {
   "cell_type": "code",
   "execution_count": 241,
   "metadata": {
    "tags": []
   },
   "outputs": [
    {
     "name": "stdout",
     "output_type": "stream",
     "text": [
      "time: 67.2 ms\n"
     ]
    }
   ],
   "source": [
    "# splitten\n",
    "df['data'] = df.data.str.split('➤')\n",
    "df = df.explode('data')"
   ]
  },
  {
   "cell_type": "code",
   "execution_count": 242,
   "metadata": {},
   "outputs": [
    {
     "data": {
      "text/html": [
       "<div>\n",
       "<style scoped>\n",
       "    .dataframe tbody tr th:only-of-type {\n",
       "        vertical-align: middle;\n",
       "    }\n",
       "\n",
       "    .dataframe tbody tr th {\n",
       "        vertical-align: top;\n",
       "    }\n",
       "\n",
       "    .dataframe thead th {\n",
       "        text-align: right;\n",
       "    }\n",
       "</style>\n",
       "<table border=\"1\" class=\"dataframe\">\n",
       "  <thead>\n",
       "    <tr style=\"text-align: right;\">\n",
       "      <th></th>\n",
       "      <th>section_id2</th>\n",
       "      <th>merkmal</th>\n",
       "      <th>num</th>\n",
       "      <th>meta</th>\n",
       "      <th>data</th>\n",
       "      <th>lemma</th>\n",
       "      <th>rank_merkmal</th>\n",
       "    </tr>\n",
       "    <tr>\n",
       "      <th>i</th>\n",
       "      <th></th>\n",
       "      <th></th>\n",
       "      <th></th>\n",
       "      <th></th>\n",
       "      <th></th>\n",
       "      <th></th>\n",
       "      <th></th>\n",
       "    </tr>\n",
       "  </thead>\n",
       "  <tbody>\n",
       "    <tr>\n",
       "      <th>199</th>\n",
       "      <td>ich</td>\n",
       "      <td>bsp_re</td>\n",
       "      <td>1</td>\n",
       "      <td></td>\n",
       "      <td>ich denk, ich hör nicht recht!</td>\n",
       "      <td>ich</td>\n",
       "      <td>5</td>\n",
       "    </tr>\n",
       "    <tr>\n",
       "      <th>199</th>\n",
       "      <td>ich</td>\n",
       "      <td>bsp_re</td>\n",
       "      <td>1</td>\n",
       "      <td></td>\n",
       "      <td>ich denk, ich seh nicht recht!</td>\n",
       "      <td>ich</td>\n",
       "      <td>5</td>\n",
       "    </tr>\n",
       "    <tr>\n",
       "      <th>204</th>\n",
       "      <td>ich</td>\n",
       "      <td>bsp_re</td>\n",
       "      <td>1</td>\n",
       "      <td></td>\n",
       "      <td>wasch mich, aber mach mich nicht nass!</td>\n",
       "      <td>ich</td>\n",
       "      <td>10</td>\n",
       "    </tr>\n",
       "    <tr>\n",
       "      <th>204</th>\n",
       "      <td>ich</td>\n",
       "      <td>bsp_re</td>\n",
       "      <td>1</td>\n",
       "      <td></td>\n",
       "      <td>wasch mir den Pelz, aber mach mich nicht nass!</td>\n",
       "      <td>ich</td>\n",
       "      <td>10</td>\n",
       "    </tr>\n",
       "    <tr>\n",
       "      <th>204</th>\n",
       "      <td>ich</td>\n",
       "      <td>bsp_re</td>\n",
       "      <td>1</td>\n",
       "      <td></td>\n",
       "      <td>wasch mir den Pelz, und mach mich nicht nass!</td>\n",
       "      <td>ich</td>\n",
       "      <td>10</td>\n",
       "    </tr>\n",
       "  </tbody>\n",
       "</table>\n",
       "</div>"
      ],
      "text/plain": [
       "    section_id2 merkmal num meta  \\\n",
       "i                                  \n",
       "199         ich  bsp_re   1        \n",
       "199         ich  bsp_re   1        \n",
       "204         ich  bsp_re   1        \n",
       "204         ich  bsp_re   1        \n",
       "204         ich  bsp_re   1        \n",
       "\n",
       "                                                 data lemma  rank_merkmal  \n",
       "i                                                                          \n",
       "199                   ich denk, ich hör nicht recht!    ich             5  \n",
       "199                    ich denk, ich seh nicht recht!   ich             5  \n",
       "204           wasch mich, aber mach mich nicht nass!    ich            10  \n",
       "204   wasch mir den Pelz, aber mach mich nicht nass!    ich            10  \n",
       "204     wasch mir den Pelz, und mach mich nicht nass!   ich            10  "
      ]
     },
     "execution_count": 242,
     "metadata": {},
     "output_type": "execute_result"
    },
    {
     "name": "stdout",
     "output_type": "stream",
     "text": [
      "time: 47.4 ms\n"
     ]
    }
   ],
   "source": [
    "df.head(5)"
   ]
  },
  {
   "cell_type": "code",
   "execution_count": 243,
   "metadata": {},
   "outputs": [
    {
     "name": "stdout",
     "output_type": "stream",
     "text": [
      "rank: 0 rows less, now 4169 rows\n",
      "time: 66.8 ms\n"
     ]
    }
   ],
   "source": [
    "# rank_merkmal2\n",
    "df = df.reset_index()\n",
    "df = pak.rank(df, cols_group=['section_id2','merkmal','rank_merkmal'], col_score='i', find='min', col_target='rank_merkmal2')\n",
    "df = pak.force_index(df,'i')"
   ]
  },
  {
   "cell_type": "code",
   "execution_count": 244,
   "metadata": {},
   "outputs": [
    {
     "data": {
      "text/html": [
       "<div>\n",
       "<style scoped>\n",
       "    .dataframe tbody tr th:only-of-type {\n",
       "        vertical-align: middle;\n",
       "    }\n",
       "\n",
       "    .dataframe tbody tr th {\n",
       "        vertical-align: top;\n",
       "    }\n",
       "\n",
       "    .dataframe thead th {\n",
       "        text-align: right;\n",
       "    }\n",
       "</style>\n",
       "<table border=\"1\" class=\"dataframe\">\n",
       "  <thead>\n",
       "    <tr style=\"text-align: right;\">\n",
       "      <th></th>\n",
       "      <th>section_id2</th>\n",
       "      <th>merkmal</th>\n",
       "      <th>num</th>\n",
       "      <th>meta</th>\n",
       "      <th>data</th>\n",
       "      <th>lemma</th>\n",
       "      <th>rank_merkmal</th>\n",
       "      <th>rank_merkmal2</th>\n",
       "    </tr>\n",
       "    <tr>\n",
       "      <th>i</th>\n",
       "      <th></th>\n",
       "      <th></th>\n",
       "      <th></th>\n",
       "      <th></th>\n",
       "      <th></th>\n",
       "      <th></th>\n",
       "      <th></th>\n",
       "      <th></th>\n",
       "    </tr>\n",
       "  </thead>\n",
       "  <tbody>\n",
       "    <tr>\n",
       "      <th>199</th>\n",
       "      <td>ich</td>\n",
       "      <td>bsp_re</td>\n",
       "      <td>1</td>\n",
       "      <td></td>\n",
       "      <td>ich denk, ich hör nicht recht!</td>\n",
       "      <td>ich</td>\n",
       "      <td>5</td>\n",
       "      <td>1</td>\n",
       "    </tr>\n",
       "    <tr>\n",
       "      <th>199</th>\n",
       "      <td>ich</td>\n",
       "      <td>bsp_re</td>\n",
       "      <td>1</td>\n",
       "      <td></td>\n",
       "      <td>ich denk, ich seh nicht recht!</td>\n",
       "      <td>ich</td>\n",
       "      <td>5</td>\n",
       "      <td>2</td>\n",
       "    </tr>\n",
       "    <tr>\n",
       "      <th>204</th>\n",
       "      <td>ich</td>\n",
       "      <td>bsp_re</td>\n",
       "      <td>1</td>\n",
       "      <td></td>\n",
       "      <td>wasch mich, aber mach mich nicht nass!</td>\n",
       "      <td>ich</td>\n",
       "      <td>10</td>\n",
       "      <td>1</td>\n",
       "    </tr>\n",
       "    <tr>\n",
       "      <th>204</th>\n",
       "      <td>ich</td>\n",
       "      <td>bsp_re</td>\n",
       "      <td>1</td>\n",
       "      <td></td>\n",
       "      <td>wasch mir den Pelz, aber mach mich nicht nass!</td>\n",
       "      <td>ich</td>\n",
       "      <td>10</td>\n",
       "      <td>2</td>\n",
       "    </tr>\n",
       "    <tr>\n",
       "      <th>204</th>\n",
       "      <td>ich</td>\n",
       "      <td>bsp_re</td>\n",
       "      <td>1</td>\n",
       "      <td></td>\n",
       "      <td>wasch mir den Pelz, und mach mich nicht nass!</td>\n",
       "      <td>ich</td>\n",
       "      <td>10</td>\n",
       "      <td>3</td>\n",
       "    </tr>\n",
       "  </tbody>\n",
       "</table>\n",
       "</div>"
      ],
      "text/plain": [
       "    section_id2 merkmal num meta  \\\n",
       "i                                  \n",
       "199         ich  bsp_re   1        \n",
       "199         ich  bsp_re   1        \n",
       "204         ich  bsp_re   1        \n",
       "204         ich  bsp_re   1        \n",
       "204         ich  bsp_re   1        \n",
       "\n",
       "                                                 data lemma  rank_merkmal  \\\n",
       "i                                                                           \n",
       "199                   ich denk, ich hör nicht recht!    ich             5   \n",
       "199                    ich denk, ich seh nicht recht!   ich             5   \n",
       "204           wasch mich, aber mach mich nicht nass!    ich            10   \n",
       "204   wasch mir den Pelz, aber mach mich nicht nass!    ich            10   \n",
       "204     wasch mir den Pelz, und mach mich nicht nass!   ich            10   \n",
       "\n",
       "     rank_merkmal2  \n",
       "i                   \n",
       "199              1  \n",
       "199              2  \n",
       "204              1  \n",
       "204              2  \n",
       "204              3  "
      ]
     },
     "execution_count": 244,
     "metadata": {},
     "output_type": "execute_result"
    },
    {
     "name": "stdout",
     "output_type": "stream",
     "text": [
      "time: 73.2 ms\n"
     ]
    }
   ],
   "source": [
    "df.head(5)"
   ]
  },
  {
   "cell_type": "code",
   "execution_count": 245,
   "metadata": {},
   "outputs": [
    {
     "name": "stdout",
     "output_type": "stream",
     "text": [
      "4169 rows added, now a total of 621260\n",
      "time: 446 ms\n"
     ]
    }
   ],
   "source": [
    "# wieder anfügen\n",
    "wiktionary_merkmal_text = pak.add_rows(wiktionary_merkmal_text, df)\n",
    "wiktionary_merkmal_text['rank_merkmal2'] = wiktionary_merkmal_text.rank_merkmal2.fillna(0) "
   ]
  },
  {
   "cell_type": "code",
   "execution_count": 246,
   "metadata": {},
   "outputs": [
    {
     "name": "stdout",
     "output_type": "stream",
     "text": [
      "time: 256 ms\n"
     ]
    }
   ],
   "source": [
    "# rank_merkmal endgültig schreiben\n",
    "assert wiktionary_merkmal_text.rank_merkmal2.max() < 100\n",
    "assert not pak.any_nan(wiktionary_merkmal_text.rank_merkmal)\n",
    "assert not pak.any_nan(wiktionary_merkmal_text.rank_merkmal2)\n",
    "wiktionary_merkmal_text['rank_merkmal'] = (wiktionary_merkmal_text.rank_merkmal * 100 + wiktionary_merkmal_text.rank_merkmal2).astype('int')\n",
    "wiktionary_merkmal_text = pak.drop_cols(wiktionary_merkmal_text,['rank_merkmal2'])"
   ]
  },
  {
   "cell_type": "code",
   "execution_count": 247,
   "metadata": {},
   "outputs": [
    {
     "name": "stdout",
     "output_type": "stream",
     "text": [
      "time: 34.2 ms\n"
     ]
    }
   ],
   "source": [
    "#mask = wiktionary_merkmal_text.merkmal.isin( ['bsp_re'] )\n",
    "#grid(wiktionary_merkmal_text,mask)"
   ]
  },
  {
   "cell_type": "markdown",
   "metadata": {},
   "source": [
    "## Preprocessing"
   ]
  },
  {
   "cell_type": "code",
   "execution_count": 248,
   "metadata": {},
   "outputs": [
    {
     "data": {
      "text/plain": [
       "\"Hällö, „Welt“! <i>Hel 9lo</i> <b>Wo9 rld</b>! Das Wetter ist gut. Wie könnte`s not? A Öder nicht? Nic nemůže letět Rychlostí vyšší, než 300 tisíc kilometrů za sekundu! Hel 9lo Wo9rld! Th3     weather_is really g00d today, isn't it? Das geht    super, nöß?   Riß_2\""
      ]
     },
     "execution_count": 248,
     "metadata": {},
     "output_type": "execute_result"
    },
    {
     "name": "stdout",
     "output_type": "stream",
     "text": [
      "time: 44 ms\n"
     ]
    }
   ],
   "source": [
    "text = bj_nlp.TESTTEXT_0\n",
    "text"
   ]
  },
  {
   "cell_type": "code",
   "execution_count": 249,
   "metadata": {},
   "outputs": [
    {
     "data": {
      "text/plain": [
       "\"Hällö, »Welt«! <i>Hel 9lo</i> <b>Wo9 rld</b>! Das Wetter ist gut. Wie könntes not? A Öder nicht? Nic nemuze letet Rychlosti vyssi, nez 300 tisic kilometru za sekundu! Hel 9lo Wo9rld! Th3 weather_is really g00d today, isn't it? Das geht super, nöß? Riß_2\""
      ]
     },
     "execution_count": 249,
     "metadata": {},
     "output_type": "execute_result"
    },
    {
     "name": "stdout",
     "output_type": "stream",
     "text": [
      "time: 35.8 ms\n"
     ]
    }
   ],
   "source": [
    "# Standardkonfiguration\n",
    "bj_nlp.preprocess(text)"
   ]
  },
  {
   "cell_type": "code",
   "execution_count": 250,
   "metadata": {},
   "outputs": [
    {
     "name": "stdout",
     "output_type": "stream",
     "text": [
      "Hej U+1F600 världen\n",
      "time: 42.1 ms\n"
     ]
    }
   ],
   "source": [
    "a = 'Hej U+1F600 världen'\n",
    "print(a)"
   ]
  },
  {
   "cell_type": "code",
   "execution_count": 251,
   "metadata": {},
   "outputs": [
    {
     "data": {
      "text/html": [
       "<div>\n",
       "<style scoped>\n",
       "    .dataframe tbody tr th:only-of-type {\n",
       "        vertical-align: middle;\n",
       "    }\n",
       "\n",
       "    .dataframe tbody tr th {\n",
       "        vertical-align: top;\n",
       "    }\n",
       "\n",
       "    .dataframe thead th {\n",
       "        text-align: right;\n",
       "    }\n",
       "</style>\n",
       "<table border=\"1\" class=\"dataframe\">\n",
       "  <thead>\n",
       "    <tr style=\"text-align: right;\">\n",
       "      <th></th>\n",
       "      <th>col_name</th>\n",
       "      <th>datatype_instance</th>\n",
       "      <th>datatype</th>\n",
       "      <th>datatype_short</th>\n",
       "      <th>is_numeric</th>\n",
       "      <th>is_string</th>\n",
       "      <th>is_hashable</th>\n",
       "      <th>nan_allowed</th>\n",
       "      <th>mem_usage</th>\n",
       "    </tr>\n",
       "    <tr>\n",
       "      <th>col_no</th>\n",
       "      <th></th>\n",
       "      <th></th>\n",
       "      <th></th>\n",
       "      <th></th>\n",
       "      <th></th>\n",
       "      <th></th>\n",
       "      <th></th>\n",
       "      <th></th>\n",
       "      <th></th>\n",
       "    </tr>\n",
       "  </thead>\n",
       "  <tbody>\n",
       "    <tr>\n",
       "      <th>0</th>\n",
       "      <td>__index__</td>\n",
       "      <td>int64</td>\n",
       "      <td>np.int64</td>\n",
       "      <td>int64</td>\n",
       "      <td>True</td>\n",
       "      <td>False</td>\n",
       "      <td>True</td>\n",
       "      <td>False</td>\n",
       "      <td>80.0 B</td>\n",
       "    </tr>\n",
       "    <tr>\n",
       "      <th>1</th>\n",
       "      <td>section_id2</td>\n",
       "      <td>str</td>\n",
       "      <td>pd.string</td>\n",
       "      <td>string</td>\n",
       "      <td>False</td>\n",
       "      <td>True</td>\n",
       "      <td>True</td>\n",
       "      <td>True</td>\n",
       "      <td>758.0 B</td>\n",
       "    </tr>\n",
       "    <tr>\n",
       "      <th>2</th>\n",
       "      <td>merkmal</td>\n",
       "      <td>str</td>\n",
       "      <td>pd.string</td>\n",
       "      <td>string</td>\n",
       "      <td>False</td>\n",
       "      <td>True</td>\n",
       "      <td>True</td>\n",
       "      <td>True</td>\n",
       "      <td>731.0 B</td>\n",
       "    </tr>\n",
       "    <tr>\n",
       "      <th>3</th>\n",
       "      <td>node_debug</td>\n",
       "      <td>str</td>\n",
       "      <td>pd.string</td>\n",
       "      <td>string</td>\n",
       "      <td>False</td>\n",
       "      <td>True</td>\n",
       "      <td>True</td>\n",
       "      <td>True</td>\n",
       "      <td>661.0 B</td>\n",
       "    </tr>\n",
       "    <tr>\n",
       "      <th>4</th>\n",
       "      <td>node_kontext</td>\n",
       "      <td>str</td>\n",
       "      <td>pd.string</td>\n",
       "      <td>string</td>\n",
       "      <td>False</td>\n",
       "      <td>True</td>\n",
       "      <td>True</td>\n",
       "      <td>True</td>\n",
       "      <td>618.0 B</td>\n",
       "    </tr>\n",
       "    <tr>\n",
       "      <th>5</th>\n",
       "      <td>data</td>\n",
       "      <td>str</td>\n",
       "      <td>pd.string</td>\n",
       "      <td>string</td>\n",
       "      <td>False</td>\n",
       "      <td>True</td>\n",
       "      <td>True</td>\n",
       "      <td>True</td>\n",
       "      <td>713.0 B</td>\n",
       "    </tr>\n",
       "    <tr>\n",
       "      <th>6</th>\n",
       "      <td>num</td>\n",
       "      <td>str</td>\n",
       "      <td>pd.string</td>\n",
       "      <td>string</td>\n",
       "      <td>False</td>\n",
       "      <td>True</td>\n",
       "      <td>True</td>\n",
       "      <td>True</td>\n",
       "      <td>503.0 B</td>\n",
       "    </tr>\n",
       "    <tr>\n",
       "      <th>7</th>\n",
       "      <td>meta</td>\n",
       "      <td>str</td>\n",
       "      <td>pd.string</td>\n",
       "      <td>string</td>\n",
       "      <td>False</td>\n",
       "      <td>True</td>\n",
       "      <td>True</td>\n",
       "      <td>True</td>\n",
       "      <td>451.0 B</td>\n",
       "    </tr>\n",
       "    <tr>\n",
       "      <th>8</th>\n",
       "      <td>data_id</td>\n",
       "      <td>str</td>\n",
       "      <td>pd.string</td>\n",
       "      <td>string</td>\n",
       "      <td>False</td>\n",
       "      <td>True</td>\n",
       "      <td>True</td>\n",
       "      <td>True</td>\n",
       "      <td>457.0 B</td>\n",
       "    </tr>\n",
       "  </tbody>\n",
       "</table>\n",
       "</div>"
      ],
      "text/plain": [
       "            col_name datatype_instance   datatype datatype_short  is_numeric  \\\n",
       "col_no                                                                         \n",
       "0          __index__             int64   np.int64          int64        True   \n",
       "1        section_id2               str  pd.string         string       False   \n",
       "2            merkmal               str  pd.string         string       False   \n",
       "3         node_debug               str  pd.string         string       False   \n",
       "4       node_kontext               str  pd.string         string       False   \n",
       "5               data               str  pd.string         string       False   \n",
       "6                num               str  pd.string         string       False   \n",
       "7               meta               str  pd.string         string       False   \n",
       "8            data_id               str  pd.string         string       False   \n",
       "\n",
       "        is_string  is_hashable  nan_allowed mem_usage  \n",
       "col_no                                                 \n",
       "0           False         True        False    80.0 B  \n",
       "1            True         True         True   758.0 B  \n",
       "2            True         True         True   731.0 B  \n",
       "3            True         True         True   661.0 B  \n",
       "4            True         True         True   618.0 B  \n",
       "5            True         True         True   713.0 B  \n",
       "6            True         True         True   503.0 B  \n",
       "7            True         True         True   451.0 B  \n",
       "8            True         True         True   457.0 B  "
      ]
     },
     "execution_count": 251,
     "metadata": {},
     "output_type": "execute_result"
    },
    {
     "name": "stdout",
     "output_type": "stream",
     "text": [
      "time: 1.29 s\n"
     ]
    }
   ],
   "source": [
    "pak.analyse_datatypes(wiktionary_merkmal)"
   ]
  },
  {
   "cell_type": "code",
   "execution_count": 252,
   "metadata": {},
   "outputs": [
    {
     "name": "stdout",
     "output_type": "stream",
     "text": [
      "['section_id2', 'lemma', 'lemma_lower', 'member', 'data_id']\n",
      "time: 6.49 s\n"
     ]
    }
   ],
   "source": [
    "# wiktionary_lemma\n",
    "cols = pak.col_names(wiktionary_lemma, only='str')\n",
    "cols = [ c for c in cols if c not in ['error']  and not c.startswith('tag')] \n",
    "\n",
    "print(cols)\n",
    "for feld in cols:\n",
    "    wiktionary_lemma.loc[:,feld] = wiktionary_lemma[feld].fillna('').apply(   lambda x: bj_nlp.preprocess(x)       )"
   ]
  },
  {
   "cell_type": "code",
   "execution_count": 253,
   "metadata": {},
   "outputs": [
    {
     "name": "stdout",
     "output_type": "stream",
     "text": [
      "['nolemma_id', 'lex', 'lemma', 'member', 'lang', 'lang_code', 'lemma_lower']\n",
      "time: 34.9 s\n"
     ]
    }
   ],
   "source": [
    "# wiktionary_nolemma\n",
    "cols = pak.col_names(wiktionary_nolemma, only='str')\n",
    "cols = [ c for c in cols if c not in ['error']  and not c.startswith('tag')] \n",
    "\n",
    "print(cols)\n",
    "for feld in cols:\n",
    "    wiktionary_nolemma.loc[:,feld] = wiktionary_nolemma[feld].fillna('').apply(   lambda x: bj_nlp.preprocess(x)   )"
   ]
  },
  {
   "cell_type": "code",
   "execution_count": 254,
   "metadata": {},
   "outputs": [
    {
     "name": "stdout",
     "output_type": "stream",
     "text": [
      "['section_id2', 'merkmal', 'node_debug', 'node_kontext', 'data', 'num', 'meta', 'data_id']\n",
      "section_id2\n",
      "merkmal\n",
      "node_debug\n",
      "node_kontext\n",
      "data\n",
      "num\n",
      "meta\n",
      "data_id\n",
      "time: 5min 23s\n"
     ]
    }
   ],
   "source": [
    "# wiktionary_merkmal\n",
    "\n",
    "if gründlich:\n",
    "    cols = pak.col_names(wiktionary_merkmal, only='str')\n",
    "    cols = [ c for c in cols if c not in ['error']  and not c.startswith('tag')] \n",
    "\n",
    "    print(cols)\n",
    "    for feld in cols:\n",
    "        print(feld)\n",
    "        wiktionary_merkmal[feld] = wiktionary_merkmal[feld].fillna('').apply(   lambda x: bj_nlp.preprocess(x)   )"
   ]
  },
  {
   "cell_type": "code",
   "execution_count": 255,
   "metadata": {},
   "outputs": [
    {
     "name": "stdout",
     "output_type": "stream",
     "text": [
      "check_mask:  0 rows\n",
      "time: 1.97 s\n"
     ]
    }
   ],
   "source": [
    "# Doppelspaces prüfen\n",
    "if gründlich:\n",
    "    mask = wiktionary_merkmal.data.str.contains('  ')\n",
    "    check_mask( wiktionary_merkmal, mask, 0)\n",
    "    #wiktionary_merkmal[mask]"
   ]
  },
  {
   "cell_type": "code",
   "execution_count": 256,
   "metadata": {},
   "outputs": [
    {
     "name": "stdout",
     "output_type": "stream",
     "text": [
      "['section_id2', 'merkmal', 'num', 'meta', 'data', 'lemma']\n",
      "time: 38.5 s\n"
     ]
    }
   ],
   "source": [
    "# wiktionary_merkmal_text\n",
    "\n",
    "if gründlich:\n",
    "    cols = pak.col_names(wiktionary_merkmal_text, only='str')\n",
    "    cols = [ c for c in cols if c not in ['error']  and not c.startswith('tag')] \n",
    "\n",
    "    print(cols)\n",
    "    for feld in cols:\n",
    "        wiktionary_merkmal_text[feld] = wiktionary_merkmal_text[feld].fillna('').apply(   lambda x: bj_nlp.preprocess(x)   )"
   ]
  },
  {
   "cell_type": "markdown",
   "metadata": {},
   "source": [
    "## Sonderzeichen"
   ]
  },
  {
   "cell_type": "code",
   "execution_count": 257,
   "metadata": {},
   "outputs": [
    {
     "name": "stdout",
     "output_type": "stream",
     "text": [
      "time: 4.24 s\n"
     ]
    }
   ],
   "source": [
    "# Sonderfälle\n",
    "#mask = wiktionary_merkmal.data.str.contains('{{')\n",
    "r = { '{{NNBSP}}'   :   ' '  ,   \n",
    "             \"''\"   :   ''   ,\n",
    "    }\n",
    "wiktionary_merkmal['data'] = pak.replace_str(wiktionary_merkmal.data, r)"
   ]
  },
  {
   "cell_type": "code",
   "execution_count": 258,
   "metadata": {},
   "outputs": [
    {
     "name": "stdout",
     "output_type": "stream",
     "text": [
      "9 rows out of 6059705\n"
     ]
    },
    {
     "data": {
      "text/html": [
       "\n",
       "        <iframe\n",
       "            width=\"100%\"\n",
       "            height=\"475\"\n",
       "            src=\"http://pop-os:40000/dtale/iframe/44\"\n",
       "            frameborder=\"0\"\n",
       "            allowfullscreen\n",
       "            \n",
       "        ></iframe>\n",
       "        "
      ],
      "text/plain": [
       "<IPython.lib.display.IFrame at 0x7f10399a7eb0>"
      ]
     },
     "metadata": {},
     "output_type": "display_data"
    },
    {
     "data": {
      "text/plain": []
     },
     "execution_count": 258,
     "metadata": {},
     "output_type": "execute_result"
    },
    {
     "name": "stdout",
     "output_type": "stream",
     "text": [
      "time: 572 ms\n"
     ]
    }
   ],
   "source": [
    "# Beispiel anschauen\n",
    "mask = wiktionary_merkmal.section_id2 == suche_debug[0]\n",
    "grid(wiktionary_merkmal,mask)"
   ]
  },
  {
   "cell_type": "code",
   "execution_count": 259,
   "metadata": {},
   "outputs": [
    {
     "name": "stdout",
     "output_type": "stream",
     "text": [
      "check_mask:  9 rows\n",
      "Move 9 rows from 168031\n",
      "time: 512 ms\n"
     ]
    }
   ],
   "source": [
    "# wiktionary_lemma enthält nicht_erlaubte_sonderzeichen (siehe Steuertabellen)\n",
    "mask = wiktionary_lemma.lemma.str.contains(nicht_erlaubte_sonderzeichen_lemma)   &   ~wiktionary_lemma.section_id2.str.endswith('_M')\n",
    "check_mask(wiktionary_lemma, mask, 0, 50)\n",
    "wiktionary_lemma, wiktionary_lemma_trash = pak.move_rows(df_from=wiktionary_lemma, df_to=wiktionary_lemma_trash, mask=mask, msg='lemma_nicht_erlaubte_sonderzeichen')"
   ]
  },
  {
   "cell_type": "code",
   "execution_count": 260,
   "metadata": {},
   "outputs": [
    {
     "name": "stdout",
     "output_type": "stream",
     "text": [
      "check_mask:  0 rows\n",
      "No rows moved\n",
      "4169 rows\n"
     ]
    },
    {
     "data": {
      "text/html": [
       "\n",
       "        <iframe\n",
       "            width=\"100%\"\n",
       "            height=\"475\"\n",
       "            src=\"http://pop-os:40000/dtale/iframe/45\"\n",
       "            frameborder=\"0\"\n",
       "            allowfullscreen\n",
       "            \n",
       "        ></iframe>\n",
       "        "
      ],
      "text/plain": [
       "<IPython.lib.display.IFrame at 0x7f0fdfb0d610>"
      ]
     },
     "metadata": {},
     "output_type": "display_data"
    },
    {
     "data": {
      "text/plain": []
     },
     "execution_count": 260,
     "metadata": {},
     "output_type": "execute_result"
    },
    {
     "name": "stdout",
     "output_type": "stream",
     "text": [
      "time: 393 ms\n"
     ]
    }
   ],
   "source": [
    "# wiktionary_nolemma enthält nicht_erlaubte_sonderzeichen\n",
    "mask = wiktionary_nolemma.lemma.str.contains(nicht_erlaubte_sonderzeichen_lemma) # siehe Steuertabellen\n",
    "check_mask(wiktionary_nolemma, mask, 0, 100)\n",
    "wiktionary_nolemma, wiktionary_nolemma_trash = pak.move_rows(df_from=wiktionary_nolemma, df_to=wiktionary_nolemma_trash, mask=mask, msg='lemma_nicht_erlaubte_sonderzeichen')\n",
    "grid(df, color='green')"
   ]
  },
  {
   "cell_type": "code",
   "execution_count": 261,
   "metadata": {},
   "outputs": [
    {
     "name": "stdout",
     "output_type": "stream",
     "text": [
      "check_mask:  0 rows\n",
      "No rows moved\n",
      "4169 rows\n"
     ]
    },
    {
     "data": {
      "text/html": [
       "\n",
       "        <iframe\n",
       "            width=\"100%\"\n",
       "            height=\"475\"\n",
       "            src=\"http://pop-os:40000/dtale/iframe/46\"\n",
       "            frameborder=\"0\"\n",
       "            allowfullscreen\n",
       "            \n",
       "        ></iframe>\n",
       "        "
      ],
      "text/plain": [
       "<IPython.lib.display.IFrame at 0x7f103d2c58e0>"
      ]
     },
     "metadata": {},
     "output_type": "display_data"
    },
    {
     "data": {
      "text/plain": []
     },
     "execution_count": 261,
     "metadata": {},
     "output_type": "execute_result"
    },
    {
     "name": "stdout",
     "output_type": "stream",
     "text": [
      "time: 458 ms\n"
     ]
    }
   ],
   "source": [
    "# wiktionary_nolemma enthält nicht_erlaubte_sonderzeichen\n",
    "mask = wiktionary_nolemma.lex.str.contains(nicht_erlaubte_sonderzeichen_lemma) # siehe Steuertabellen\n",
    "check_mask(wiktionary_nolemma, mask, 0, 100)\n",
    "wiktionary_nolemma, wiktionary_nolemma_trash = pak.move_rows(df_from=wiktionary_nolemma, df_to=wiktionary_nolemma_trash, mask=mask, msg='lex_nicht_erlaubte_sonderzeichen')\n",
    "grid(df, color='green')"
   ]
  },
  {
   "cell_type": "code",
   "execution_count": 262,
   "metadata": {},
   "outputs": [
    {
     "name": "stdout",
     "output_type": "stream",
     "text": [
      "time: 13.1 s\n"
     ]
    }
   ],
   "source": [
    "# data remove_str\n",
    "r = ['Verzeichnis:Deutsch/','Verzeichnis:','<sub>','</sub>','<sup>','</sup>','Wikipedia:de:','Wikipedia:',]\n",
    "wiktionary_merkmal['data'] = pak.remove_str(wiktionary_merkmal.data, r )"
   ]
  },
  {
   "cell_type": "code",
   "execution_count": 263,
   "metadata": {},
   "outputs": [
    {
     "name": "stdout",
     "output_type": "stream",
     "text": [
      "time: 1.38 s\n"
     ]
    }
   ],
   "source": [
    "# data enthält Reste von Tags >> absplitten\n",
    "mask = wiktionary_merkmal.data.str.contains('<',regex=False)\n",
    "wiktionary_merkmal.loc[mask,'data'] = wiktionary_merkmal[mask].data.str.split('<').str[0]\n",
    "#wiktionary_merkmal[mask]"
   ]
  },
  {
   "cell_type": "code",
   "execution_count": 264,
   "metadata": {},
   "outputs": [
    {
     "name": "stdout",
     "output_type": "stream",
     "text": [
      "time: 1.38 s\n"
     ]
    }
   ],
   "source": [
    "# data enthält Reste von Tags >> absplitten\n",
    "mask = wiktionary_merkmal.data.str.contains('{',regex=False)\n",
    "wiktionary_merkmal.loc[mask,'data'] = wiktionary_merkmal[mask].data.str.split('{').str[0]\n",
    "#wiktionary_merkmal[mask]"
   ]
  },
  {
   "cell_type": "code",
   "execution_count": 265,
   "metadata": {},
   "outputs": [
    {
     "name": "stdout",
     "output_type": "stream",
     "text": [
      "Move 36 rows from 6059705\n",
      "time: 5.76 s\n"
     ]
    }
   ],
   "source": [
    "# wiktionary_merkmal data belöschen\n",
    "mask = wiktionary_merkmal.data.str.startswith(('http:','https:'))\n",
    "wiktionary_merkmal, wiktionary_merkmal_trash = pak.move_rows( df_from=wiktionary_merkmal, df_to=wiktionary_merkmal_trash, mask=mask, msg='data_startswith')"
   ]
  },
  {
   "cell_type": "code",
   "execution_count": 266,
   "metadata": {},
   "outputs": [
    {
     "name": "stdout",
     "output_type": "stream",
     "text": [
      "Move 6 rows from 6059669\n",
      "time: 4.73 s\n"
     ]
    }
   ],
   "source": [
    "# wiktionary_merkmal data belöschen\n",
    "mask = wiktionary_merkmal.data.str.lower().str.endswith(('.jpg','.png','.gif'))\n",
    "wiktionary_merkmal, wiktionary_merkmal_trash = pak.move_rows( df_from=wiktionary_merkmal, df_to=wiktionary_merkmal_trash, mask=mask,  msg='data_endswith')"
   ]
  },
  {
   "cell_type": "code",
   "execution_count": 267,
   "metadata": {},
   "outputs": [
    {
     "name": "stdout",
     "output_type": "stream",
     "text": [
      "Move 29 rows from 6059663\n",
      "time: 3.18 s\n"
     ]
    }
   ],
   "source": [
    "# wiktionary_merkmal node_kontext belöschen\n",
    "mask = wiktionary_merkmal.node_kontext.str.startswith(('mini|','thumb|','|'))\n",
    "wiktionary_merkmal, wiktionary_merkmal_trash = pak.move_rows( df_from=wiktionary_merkmal, df_to=wiktionary_merkmal_trash, mask=mask, msg='node_kontext_startswith')"
   ]
  },
  {
   "cell_type": "code",
   "execution_count": 268,
   "metadata": {},
   "outputs": [
    {
     "name": "stdout",
     "output_type": "stream",
     "text": [
      "Move 3 rows from 6059634\n",
      "time: 2.81 s\n"
     ]
    }
   ],
   "source": [
    "# wiktionary_merkmal node_kontext belöschen\n",
    "mask = wiktionary_merkmal.node_kontext.str.contains('px|', regex=False)\n",
    "wiktionary_merkmal, wiktionary_merkmal_trash = pak.move_rows( df_from=wiktionary_merkmal, df_to=wiktionary_merkmal_trash, mask=mask, msg='node_kontext_contains')"
   ]
  },
  {
   "cell_type": "code",
   "execution_count": 269,
   "metadata": {},
   "outputs": [
    {
     "name": "stdout",
     "output_type": "stream",
     "text": [
      "node_debug\n",
      "Move 14 rows from 6059631\n",
      "node_kontext\n",
      "No rows moved\n",
      "meta\n",
      "Move 1134 rows from 6059617\n",
      "data\n",
      "Move 401 rows from 6058483\n",
      "time: 16.3 s\n"
     ]
    }
   ],
   "source": [
    "# wiktionary_merkmal enthält nicht_erlaubte_sonderzeichen\n",
    "# >> löschen\n",
    "\n",
    "felder = ['node_debug','node_kontext','meta','data'] \n",
    "for feld in felder: \n",
    "    mask = wiktionary_merkmal[feld].str.contains(nicht_erlaubte_sonderzeichen_gnädig) \n",
    "    print(feld)\n",
    "    #check_mask(wiktionary_merkmal, mask, 0, 20)\n",
    "    wiktionary_merkmal, wiktionary_merkmal_trash = pak.move_rows( df_from=wiktionary_merkmal, df_to=wiktionary_merkmal_trash, mask=mask, msg= feld + '_sonderzeichen')\n",
    "    "
   ]
  },
  {
   "cell_type": "code",
   "execution_count": 270,
   "metadata": {},
   "outputs": [
    {
     "name": "stdout",
     "output_type": "stream",
     "text": [
      "time: 305 ms\n"
     ]
    }
   ],
   "source": [
    "assert not pak.any_nan(wiktionary_merkmal.data) "
   ]
  },
  {
   "cell_type": "code",
   "execution_count": 271,
   "metadata": {},
   "outputs": [
    {
     "name": "stdout",
     "output_type": "stream",
     "text": [
      "time: 56.7 ms\n"
     ]
    }
   ],
   "source": [
    "#mask = wiktionary_merkmal.data.isnull()\n",
    "#grid(wiktionary_merkmal, mask, color='green')"
   ]
  },
  {
   "cell_type": "code",
   "execution_count": 272,
   "metadata": {},
   "outputs": [
    {
     "name": "stdout",
     "output_type": "stream",
     "text": [
      "9 rows\n"
     ]
    },
    {
     "data": {
      "text/html": [
       "\n",
       "        <iframe\n",
       "            width=\"100%\"\n",
       "            height=\"475\"\n",
       "            src=\"http://pop-os:40000/dtale/iframe/47\"\n",
       "            frameborder=\"0\"\n",
       "            allowfullscreen\n",
       "            \n",
       "        ></iframe>\n",
       "        "
      ],
      "text/plain": [
       "<IPython.lib.display.IFrame at 0x7f103334a790>"
      ]
     },
     "metadata": {},
     "output_type": "display_data"
    },
    {
     "data": {
      "text/plain": []
     },
     "execution_count": 272,
     "metadata": {},
     "output_type": "execute_result"
    },
    {
     "name": "stdout",
     "output_type": "stream",
     "text": [
      "time: 4.78 s\n"
     ]
    }
   ],
   "source": [
    "a = pak.analyse_freqs(wiktionary_merkmal_trash,['msg','data','meta'])\n",
    "grid(a)"
   ]
  },
  {
   "cell_type": "code",
   "execution_count": 273,
   "metadata": {},
   "outputs": [
    {
     "name": "stdout",
     "output_type": "stream",
     "text": [
      "6 rows out of 5845\n"
     ]
    },
    {
     "data": {
      "text/html": [
       "\n",
       "        <iframe\n",
       "            width=\"100%\"\n",
       "            height=\"475\"\n",
       "            src=\"http://pop-os:40000/dtale/iframe/48\"\n",
       "            frameborder=\"0\"\n",
       "            allowfullscreen\n",
       "            \n",
       "        ></iframe>\n",
       "        "
      ],
      "text/plain": [
       "<IPython.lib.display.IFrame at 0x7f1120137d30>"
      ]
     },
     "metadata": {},
     "output_type": "display_data"
    },
    {
     "data": {
      "text/plain": []
     },
     "execution_count": 273,
     "metadata": {},
     "output_type": "execute_result"
    },
    {
     "name": "stdout",
     "output_type": "stream",
     "text": [
      "time: 129 ms\n"
     ]
    }
   ],
   "source": [
    "mask = (wiktionary_merkmal_trash.msg == 'data_endswith')\n",
    "#grid(wiktionary_merkmal_trash,mask)\n",
    "grid(wiktionary_merkmal_trash,mask)"
   ]
  },
  {
   "cell_type": "code",
   "execution_count": 274,
   "metadata": {},
   "outputs": [
    {
     "name": "stdout",
     "output_type": "stream",
     "text": [
      "9 rows out of 6058082\n"
     ]
    },
    {
     "data": {
      "text/html": [
       "\n",
       "        <iframe\n",
       "            width=\"100%\"\n",
       "            height=\"475\"\n",
       "            src=\"http://pop-os:40000/dtale/iframe/49\"\n",
       "            frameborder=\"0\"\n",
       "            allowfullscreen\n",
       "            \n",
       "        ></iframe>\n",
       "        "
      ],
      "text/plain": [
       "<IPython.lib.display.IFrame at 0x7f103e541160>"
      ]
     },
     "metadata": {},
     "output_type": "display_data"
    },
    {
     "data": {
      "text/plain": []
     },
     "execution_count": 274,
     "metadata": {},
     "output_type": "execute_result"
    },
    {
     "name": "stdout",
     "output_type": "stream",
     "text": [
      "time: 858 ms\n"
     ]
    }
   ],
   "source": [
    "# Beispiel anschauen\n",
    "mask = wiktionary_merkmal.section_id2 == suche_debug[0]\n",
    "grid(wiktionary_merkmal,mask)"
   ]
  },
  {
   "cell_type": "markdown",
   "metadata": {},
   "source": [
    "## wiktionary_merkmal"
   ]
  },
  {
   "cell_type": "markdown",
   "metadata": {},
   "source": [
    "### node_debug >> member\n",
    "* member durch Daten aus der Spalte node_debug ergänzen"
   ]
  },
  {
   "cell_type": "code",
   "execution_count": 277,
   "metadata": {},
   "outputs": [
    {
     "name": "stdout",
     "output_type": "stream",
     "text": [
      "time: 4.25 s\n"
     ]
    }
   ],
   "source": [
    "# übersicht reinigen mit remove_str und replace_str\n",
    "mask = (wiktionary_merkmal.merkmal == 'übersicht')\n",
    "r = ['-sch', 'Bairisch','Deutsch', ' f',' m',' n', 'Übersicht']\n",
    "wiktionary_merkmal.loc[mask, 'node_debug'] = pak.remove_str(wiktionary_merkmal[mask].node_debug, r)\n",
    "\n",
    "r = {'Pronomina-Tabelle': 'Pronomen', 'adjektivisch':'adjNN', 'Eigenname':'Name'}\n",
    "wiktionary_merkmal.loc[mask, 'node_debug'] = pak.replace_str(wiktionary_merkmal[mask].node_debug, r)"
   ]
  },
  {
   "cell_type": "code",
   "execution_count": 278,
   "metadata": {},
   "outputs": [
    {
     "data": {
      "text/html": [
       "<div>\n",
       "<style scoped>\n",
       "    .dataframe tbody tr th:only-of-type {\n",
       "        vertical-align: middle;\n",
       "    }\n",
       "\n",
       "    .dataframe tbody tr th {\n",
       "        vertical-align: top;\n",
       "    }\n",
       "\n",
       "    .dataframe thead th {\n",
       "        text-align: right;\n",
       "    }\n",
       "</style>\n",
       "<table border=\"1\" class=\"dataframe\">\n",
       "  <thead>\n",
       "    <tr style=\"text-align: right;\">\n",
       "      <th></th>\n",
       "      <th>node_debug</th>\n",
       "      <th>node_debug_count</th>\n",
       "      <th>node_debug_percent</th>\n",
       "      <th>section_id2</th>\n",
       "      <th>section_id2_count</th>\n",
       "    </tr>\n",
       "  </thead>\n",
       "  <tbody>\n",
       "    <tr>\n",
       "      <th>0</th>\n",
       "      <td>Substantiv</td>\n",
       "      <td>858246</td>\n",
       "      <td>80.1</td>\n",
       "      <td>[Eponym, Iftar, Gams, Avis, Dschungel, Omuramb...</td>\n",
       "      <td>[30, 29, 29, 28, 27, 27, 27, 27, 27, 26, 26, 2...</td>\n",
       "    </tr>\n",
       "    <tr>\n",
       "      <th>1</th>\n",
       "      <td>Verb</td>\n",
       "      <td>135299</td>\n",
       "      <td>12.6</td>\n",
       "      <td>[anbellen, schraffieren, unterschieben, durchk...</td>\n",
       "      <td>[25, 19, 19, 19, 19, 18, 18, 18, 18, 17, 17, 1...</td>\n",
       "    </tr>\n",
       "    <tr>\n",
       "      <th>2</th>\n",
       "      <td>Adjektiv</td>\n",
       "      <td>40338</td>\n",
       "      <td>3.8</td>\n",
       "      <td>[langohrig, erdnah, praxisnah, hohlwangig, rot...</td>\n",
       "      <td>[9, 6, 6, 6, 5, 5, 5, 5, 5, 5, 5, 5, 5, 5, 5, ...</td>\n",
       "    </tr>\n",
       "    <tr>\n",
       "      <th>3</th>\n",
       "      <td>adjNN</td>\n",
       "      <td>23713</td>\n",
       "      <td>2.2</td>\n",
       "      <td>[Großer_Zapfenstreich, Rauchblättriger_Schwefe...</td>\n",
       "      <td>[31, 31, 31, 31, 31, 31, 31, 31, 31, 31, 31, 3...</td>\n",
       "    </tr>\n",
       "    <tr>\n",
       "      <th>4</th>\n",
       "      <td>Vorname</td>\n",
       "      <td>11797</td>\n",
       "      <td>1.1</td>\n",
       "      <td>[Asbirg, Abel, Adelheid, Eschel, Ketel, Angert...</td>\n",
       "      <td>[17, 16, 16, 16, 16, 16, 16, 16, 16, 16, 16, 1...</td>\n",
       "    </tr>\n",
       "    <tr>\n",
       "      <th>5</th>\n",
       "      <td>Pronomen</td>\n",
       "      <td>1254</td>\n",
       "      <td>0.1</td>\n",
       "      <td>[anderer, unser_1, euer, son, irgendein, manch...</td>\n",
       "      <td>[38, 31, 29, 21, 19, 19, 18, 18, 18, 18, 18, 1...</td>\n",
       "    </tr>\n",
       "    <tr>\n",
       "      <th>6</th>\n",
       "      <td>Name</td>\n",
       "      <td>562</td>\n",
       "      <td>0.1</td>\n",
       "      <td>[Michel, Pidgin, Patois, Mars, Otto_Normalverb...</td>\n",
       "      <td>[14, 10, 10, 9, 9, 9, 9, 9, 9, 5, 4, 2, 2, 2, ...</td>\n",
       "    </tr>\n",
       "    <tr>\n",
       "      <th>7</th>\n",
       "      <td>Nachname</td>\n",
       "      <td>453</td>\n",
       "      <td>0.0</td>\n",
       "      <td>[Aab, Wolf_4, Engel_3, Hain_1, Adler_3, Huber_...</td>\n",
       "      <td>[10, 4, 4, 4, 4, 4, 4, 4, 4, 4, 4, 4, 4, 4, 4,...</td>\n",
       "    </tr>\n",
       "    <tr>\n",
       "      <th>8</th>\n",
       "      <td>Toponym</td>\n",
       "      <td>108</td>\n",
       "      <td>0.0</td>\n",
       "      <td>[Annaberg, Rioja, Banat, Karien, Irak, Iran, M...</td>\n",
       "      <td>[10, 8, 3, 2, 1, 1, 1, 1, 1, 1, 1, 1, 1, 1, 1,...</td>\n",
       "    </tr>\n",
       "    <tr>\n",
       "      <th>9</th>\n",
       "      <td>Adverb</td>\n",
       "      <td>31</td>\n",
       "      <td>0.0</td>\n",
       "      <td>[wohl, oft, gerne, forte, staccato, wahrlich, ...</td>\n",
       "      <td>[5, 5, 5, 4, 4, 3, 3, 2]</td>\n",
       "    </tr>\n",
       "  </tbody>\n",
       "</table>\n",
       "</div>"
      ],
      "text/plain": [
       "   node_debug  node_debug_count  node_debug_percent  \\\n",
       "0  Substantiv            858246                80.1   \n",
       "1        Verb            135299                12.6   \n",
       "2    Adjektiv             40338                 3.8   \n",
       "3       adjNN             23713                 2.2   \n",
       "4     Vorname             11797                 1.1   \n",
       "5    Pronomen              1254                 0.1   \n",
       "6        Name               562                 0.1   \n",
       "7    Nachname               453                 0.0   \n",
       "8     Toponym               108                 0.0   \n",
       "9      Adverb                31                 0.0   \n",
       "\n",
       "                                         section_id2  \\\n",
       "0  [Eponym, Iftar, Gams, Avis, Dschungel, Omuramb...   \n",
       "1  [anbellen, schraffieren, unterschieben, durchk...   \n",
       "2  [langohrig, erdnah, praxisnah, hohlwangig, rot...   \n",
       "3  [Großer_Zapfenstreich, Rauchblättriger_Schwefe...   \n",
       "4  [Asbirg, Abel, Adelheid, Eschel, Ketel, Angert...   \n",
       "5  [anderer, unser_1, euer, son, irgendein, manch...   \n",
       "6  [Michel, Pidgin, Patois, Mars, Otto_Normalverb...   \n",
       "7  [Aab, Wolf_4, Engel_3, Hain_1, Adler_3, Huber_...   \n",
       "8  [Annaberg, Rioja, Banat, Karien, Irak, Iran, M...   \n",
       "9  [wohl, oft, gerne, forte, staccato, wahrlich, ...   \n",
       "\n",
       "                                   section_id2_count  \n",
       "0  [30, 29, 29, 28, 27, 27, 27, 27, 27, 26, 26, 2...  \n",
       "1  [25, 19, 19, 19, 19, 18, 18, 18, 18, 17, 17, 1...  \n",
       "2  [9, 6, 6, 6, 5, 5, 5, 5, 5, 5, 5, 5, 5, 5, 5, ...  \n",
       "3  [31, 31, 31, 31, 31, 31, 31, 31, 31, 31, 31, 3...  \n",
       "4  [17, 16, 16, 16, 16, 16, 16, 16, 16, 16, 16, 1...  \n",
       "5  [38, 31, 29, 21, 19, 19, 18, 18, 18, 18, 18, 1...  \n",
       "6  [14, 10, 10, 9, 9, 9, 9, 9, 9, 5, 4, 2, 2, 2, ...  \n",
       "7  [10, 4, 4, 4, 4, 4, 4, 4, 4, 4, 4, 4, 4, 4, 4,...  \n",
       "8  [10, 8, 3, 2, 1, 1, 1, 1, 1, 1, 1, 1, 1, 1, 1,...  \n",
       "9                           [5, 5, 5, 4, 4, 3, 3, 2]  "
      ]
     },
     "execution_count": 278,
     "metadata": {},
     "output_type": "execute_result"
    },
    {
     "name": "stdout",
     "output_type": "stream",
     "text": [
      "time: 6.16 s\n"
     ]
    }
   ],
   "source": [
    "mask = (wiktionary_merkmal.merkmal == 'übersicht')\n",
    "a = pak.analyse_freqs(wiktionary_merkmal[mask], ['node_debug', 'section_id2'], splits=[' ',None])\n",
    "a"
   ]
  },
  {
   "cell_type": "code",
   "execution_count": 279,
   "metadata": {},
   "outputs": [
    {
     "name": "stdout",
     "output_type": "stream",
     "text": [
      "time: 2.36 s\n"
     ]
    }
   ],
   "source": [
    "# member_plus festlegen\n",
    "mask = (wiktionary_merkmal.merkmal == 'übersicht')   &   (wiktionary_merkmal.node_debug.str.len() > 0)\n",
    "spalten = ['section_id2','node_debug']\n",
    "df = wiktionary_merkmal[mask][spalten].drop_duplicates()\n",
    "df.columns = ['section_id2','member_plus']\n",
    "#grid(df,sample)"
   ]
  },
  {
   "cell_type": "code",
   "execution_count": 280,
   "metadata": {},
   "outputs": [
    {
     "name": "stdout",
     "output_type": "stream",
     "text": [
      "update_col: 122399 cells written into new column\n",
      "update_col: WARNING: df_from identifier not unique. I call this again with func=\"max\"\n",
      "update_col: func max applied, 1 records less!\n",
      "update_col: 122398 cells written into new column\n",
      "time: 12.6 s\n"
     ]
    }
   ],
   "source": [
    "# an member anhängen\n",
    "wiktionary_lemma = pak.update_col(wiktionary_lemma, df, on='section_id2',col='member_plus')\n",
    "mask = (wiktionary_lemma.member_plus.str.len() > 0)\n",
    "wiktionary_lemma.loc[mask,'member'] = wiktionary_lemma[mask].member.str.strip() + ' ' + wiktionary_lemma[mask].member_plus.str.strip()\n",
    "wiktionary_lemma = pak.drop_cols(wiktionary_lemma, 'member_plus')"
   ]
  },
  {
   "cell_type": "code",
   "execution_count": 281,
   "metadata": {},
   "outputs": [
    {
     "name": "stdout",
     "output_type": "stream",
     "text": [
      "time: 427 ms\n"
     ]
    }
   ],
   "source": [
    "# node_debug leeren\n",
    "mask = (wiktionary_merkmal.merkmal == 'übersicht')\n",
    "wiktionary_merkmal.loc[mask,'node_debug'] = ''"
   ]
  },
  {
   "cell_type": "code",
   "execution_count": 282,
   "metadata": {},
   "outputs": [
    {
     "name": "stdout",
     "output_type": "stream",
     "text": [
      "time: 2.72 s\n"
     ]
    }
   ],
   "source": [
    "# Letzte Löschungen\n",
    "r = ['Wortart fehlt']\n",
    "wiktionary_merkmal.node_debug = pak.remove_str( wiktionary_merkmal.node_debug, r )"
   ]
  },
  {
   "cell_type": "code",
   "execution_count": 283,
   "metadata": {},
   "outputs": [
    {
     "name": "stdout",
     "output_type": "stream",
     "text": [
      "check_mask:  0 rows\n",
      "time: 4.64 s\n"
     ]
    }
   ],
   "source": [
    "# node_debug löschen (müsste jetzt überall leer sein)\n",
    "mask = (wiktionary_merkmal.node_debug.str.len() > 0)\n",
    "if version == '_all':\n",
    "    check_mask(wiktionary_merkmal, mask, 0, 0)\n",
    "wiktionary_merkmal = pak.drop_cols(wiktionary_merkmal, 'node_debug')   "
   ]
  },
  {
   "cell_type": "markdown",
   "metadata": {},
   "source": [
    "### übersicht und flexion\n",
    "* aus wiktionary_merkmal herausnehmen, pflegen und wieder anfügen"
   ]
  },
  {
   "cell_type": "code",
   "execution_count": 284,
   "metadata": {},
   "outputs": [
    {
     "name": "stdout",
     "output_type": "stream",
     "text": [
      "9 rows out of 6058082\n"
     ]
    },
    {
     "data": {
      "text/html": [
       "\n",
       "        <iframe\n",
       "            width=\"100%\"\n",
       "            height=\"475\"\n",
       "            src=\"http://pop-os:40000/dtale/iframe/50\"\n",
       "            frameborder=\"0\"\n",
       "            allowfullscreen\n",
       "            \n",
       "        ></iframe>\n",
       "        "
      ],
      "text/plain": [
       "<IPython.lib.display.IFrame at 0x7f10696fbf70>"
      ]
     },
     "metadata": {},
     "output_type": "display_data"
    },
    {
     "data": {
      "text/plain": []
     },
     "execution_count": 284,
     "metadata": {},
     "output_type": "execute_result"
    },
    {
     "name": "stdout",
     "output_type": "stream",
     "text": [
      "time: 447 ms\n"
     ]
    }
   ],
   "source": [
    "# Beispiel anschauen\n",
    "mask = wiktionary_merkmal.section_id2 == suche_debug[0]\n",
    "grid(wiktionary_merkmal,mask)"
   ]
  },
  {
   "cell_type": "code",
   "execution_count": 285,
   "metadata": {},
   "outputs": [
    {
     "name": "stdout",
     "output_type": "stream",
     "text": [
      "Move 3971600 rows from 6058082\n",
      "time: 3.35 s\n"
     ]
    }
   ],
   "source": [
    "# nach flexion auslagern\n",
    "mask = wiktionary_merkmal.merkmal.isin(['übersicht','flexion']) \n",
    "wiktionary_merkmal, flexion = pak.move_rows( wiktionary_merkmal, mask, msg=None ) \n",
    "flexion_trash = flexion.head(0)"
   ]
  },
  {
   "cell_type": "code",
   "execution_count": 286,
   "metadata": {},
   "outputs": [
    {
     "name": "stdout",
     "output_type": "stream",
     "text": [
      "time: 523 ms\n"
     ]
    }
   ],
   "source": [
    "# In wiktionary_merkmal ist node_kontext jetzt überflüssig\n",
    "wiktionary_merkmal = pak.drop_cols(wiktionary_merkmal, 'node_kontext') "
   ]
  },
  {
   "cell_type": "code",
   "execution_count": 287,
   "metadata": {},
   "outputs": [
    {
     "name": "stdout",
     "output_type": "stream",
     "text": [
      "time: 4.25 s\n"
     ]
    }
   ],
   "source": [
    "flexion = pak.rename_col(flexion, 'merkmal',      'quelle')\n",
    "flexion = pak.rename_col(flexion, 'node_kontext', 'merkmal_lang')\n",
    "flexion = pak.drop_cols(flexion, ['num','meta','msg','section_id','quelle'])\n",
    "flexion['merkmal'] = flexion.merkmal_lang.copy()\n",
    "flexion = pak.move_cols( flexion, ['section_id2', 'merkmal_lang', 'merkmal', 'data'])"
   ]
  },
  {
   "cell_type": "code",
   "execution_count": 288,
   "metadata": {},
   "outputs": [
    {
     "name": "stdout",
     "output_type": "stream",
     "text": [
      "time: 3.56 s\n"
     ]
    }
   ],
   "source": [
    "# Dups entfernen\n",
    "flexion = pak.reset_index(flexion.drop_duplicates())"
   ]
  },
  {
   "cell_type": "code",
   "execution_count": 289,
   "metadata": {},
   "outputs": [
    {
     "data": {
      "text/html": [
       "<div>\n",
       "<style scoped>\n",
       "    .dataframe tbody tr th:only-of-type {\n",
       "        vertical-align: middle;\n",
       "    }\n",
       "\n",
       "    .dataframe tbody tr th {\n",
       "        vertical-align: top;\n",
       "    }\n",
       "\n",
       "    .dataframe thead th {\n",
       "        text-align: right;\n",
       "    }\n",
       "</style>\n",
       "<table border=\"1\" class=\"dataframe\">\n",
       "  <thead>\n",
       "    <tr style=\"text-align: right;\">\n",
       "      <th></th>\n",
       "      <th>section_id2</th>\n",
       "      <th>title</th>\n",
       "      <th>lemma</th>\n",
       "      <th>lemma_lower</th>\n",
       "      <th>tag</th>\n",
       "      <th>tag_0</th>\n",
       "      <th>tag_1</th>\n",
       "      <th>tagZ</th>\n",
       "      <th>tagZZ</th>\n",
       "      <th>member</th>\n",
       "      <th>key</th>\n",
       "      <th>data</th>\n",
       "    </tr>\n",
       "  </thead>\n",
       "  <tbody>\n",
       "    <tr>\n",
       "      <th>1495</th>\n",
       "      <td>und</td>\n",
       "      <td>und</td>\n",
       "      <td>und</td>\n",
       "      <td>und</td>\n",
       "      <td>KON</td>\n",
       "      <td>KON</td>\n",
       "      <td>1W41SDxbdJ</td>\n",
       "      <td>X_konj</td>\n",
       "      <td>X</td>\n",
       "      <td>manuell</td>\n",
       "      <td>abk</td>\n",
       "      <td>&amp;</td>\n",
       "    </tr>\n",
       "    <tr>\n",
       "      <th>1495</th>\n",
       "      <td>und</td>\n",
       "      <td>und</td>\n",
       "      <td>und</td>\n",
       "      <td>und</td>\n",
       "      <td>KON</td>\n",
       "      <td>KON</td>\n",
       "      <td>1W41SDxbdJ</td>\n",
       "      <td>X_konj</td>\n",
       "      <td>X</td>\n",
       "      <td>manuell</td>\n",
       "      <td>abk</td>\n",
       "      <td>+</td>\n",
       "    </tr>\n",
       "    <tr>\n",
       "      <th>1495</th>\n",
       "      <td>und</td>\n",
       "      <td>und</td>\n",
       "      <td>und</td>\n",
       "      <td>und</td>\n",
       "      <td>KON</td>\n",
       "      <td>KON</td>\n",
       "      <td>1W41SDxbdJ</td>\n",
       "      <td>X_konj</td>\n",
       "      <td>X</td>\n",
       "      <td>manuell</td>\n",
       "      <td>abk</td>\n",
       "      <td>u.</td>\n",
       "    </tr>\n",
       "  </tbody>\n",
       "</table>\n",
       "</div>"
      ],
      "text/plain": [
       "     section_id2 title lemma lemma_lower  tag tag_0       tag_1    tagZ tagZZ  \\\n",
       "1495         und   und   und         und  KON   KON  1W41SDxbdJ  X_konj     X   \n",
       "1495         und   und   und         und  KON   KON  1W41SDxbdJ  X_konj     X   \n",
       "1495         und   und   und         und  KON   KON  1W41SDxbdJ  X_konj     X   \n",
       "\n",
       "       member  key data  \n",
       "1495  manuell  abk    &  \n",
       "1495  manuell  abk    +  \n",
       "1495  manuell  abk   u.  "
      ]
     },
     "execution_count": 289,
     "metadata": {},
     "output_type": "execute_result"
    },
    {
     "name": "stdout",
     "output_type": "stream",
     "text": [
      "time: 79.3 ms\n"
     ]
    }
   ],
   "source": [
    "# meta schreiben\n",
    "# dazu lexeme_manuell nochmal aufklappen, um an die lexeme heranzukommen\n",
    "df = pak.explode_dict(lexeme_manuell, col_dict='flexion', col_key='key', col_value='data', from_defaultdict=True)\n",
    "mask = df.section_id2 == 'und'\n",
    "df[mask]"
   ]
  },
  {
   "cell_type": "code",
   "execution_count": 290,
   "metadata": {},
   "outputs": [
    {
     "name": "stdout",
     "output_type": "stream",
     "text": [
      "check_mask:  2805 rows\n",
      "time: 13.4 s\n"
     ]
    }
   ],
   "source": [
    "# meta schreiben\n",
    "flexion['meta'] = ''\n",
    "mask = pak.isin( flexion, df, on=['section_id2','data'])\n",
    "check_mask(flexion,mask)\n",
    "flexion.loc[mask,'meta'] = 'manuell'"
   ]
  },
  {
   "cell_type": "code",
   "execution_count": 291,
   "metadata": {},
   "outputs": [
    {
     "name": "stdout",
     "output_type": "stream",
     "text": [
      "check_mask:  10 rows\n"
     ]
    },
    {
     "data": {
      "text/html": [
       "<img src onerror=\"var cell = this.closest('.jp-CodeCell');var editor = cell.querySelector('.jp-Editor');editor.style.background='orange';this.parentNode.removeChild(this)\">"
      ],
      "text/plain": [
       "<IPython.core.display.HTML object>"
      ]
     },
     "metadata": {},
     "output_type": "display_data"
    },
    {
     "name": "stdout",
     "output_type": "stream",
     "text": [
      "time: 4.62 s\n"
     ]
    }
   ],
   "source": [
    "# TODO_Widersprüchliche_Angaben l\n",
    "mask1 = pak.same_but_different(flexion, same=['section_id2','merkmal_lang'], different='data', return_mask=True)\n",
    "mask2 = flexion.merkmal == 'Genus'\n",
    "mask3 = flexion.section_id2 != 'Fräulein'\n",
    "mask = mask1  &  mask2  &  mask3\n",
    "check_mask(flexion, mask, 0, 20)\n",
    "bgc('orange')"
   ]
  },
  {
   "cell_type": "code",
   "execution_count": 292,
   "metadata": {},
   "outputs": [
    {
     "name": "stdout",
     "output_type": "stream",
     "text": [
      "10 rows\n"
     ]
    },
    {
     "data": {
      "text/html": [
       "\n",
       "        <iframe\n",
       "            width=\"100%\"\n",
       "            height=\"475\"\n",
       "            src=\"http://pop-os:40000/dtale/iframe/51\"\n",
       "            frameborder=\"0\"\n",
       "            allowfullscreen\n",
       "            \n",
       "        ></iframe>\n",
       "        "
      ],
      "text/plain": [
       "<IPython.lib.display.IFrame at 0x7f103e9783a0>"
      ]
     },
     "metadata": {},
     "output_type": "display_data"
    },
    {
     "data": {
      "text/plain": []
     },
     "execution_count": 292,
     "metadata": {},
     "output_type": "execute_result"
    },
    {
     "name": "stdout",
     "output_type": "stream",
     "text": [
      "time: 67.7 ms\n"
     ]
    }
   ],
   "source": [
    "grid(flexion[mask].sort_values(['section_id2']))"
   ]
  },
  {
   "cell_type": "code",
   "execution_count": 293,
   "metadata": {},
   "outputs": [
    {
     "name": "stdout",
     "output_type": "stream",
     "text": [
      "Move 10 rows from 2984134\n",
      "5 rows added, now a total of 2984129\n",
      "time: 1.55 s\n"
     ]
    }
   ],
   "source": [
    "# abspalten\n",
    "flexion, df = pak.move_rows(flexion, mask, msg=None)\n",
    "\n",
    "# auswählen\n",
    "df = df.drop_duplicates(subset=['section_id2','merkmal'])\n",
    "\n",
    "# wieder anfügen\n",
    "flexion = pak.add_rows(flexion, df)"
   ]
  },
  {
   "cell_type": "code",
   "execution_count": 294,
   "metadata": {},
   "outputs": [
    {
     "name": "stdout",
     "output_type": "stream",
     "text": [
      "time: 10.4 s\n"
     ]
    }
   ],
   "source": [
    "# merkmal reinigen\n",
    "\n",
    "# 'Ptz1' und 'Ptz2' maskieren\n",
    "flexion['merkmal'] = pak.replace_str(flexion.merkmal, {'Ptz1':'PtzA', 'Ptz2':'PtzB'})\n",
    "\n",
    "# merkmal reinigen\n",
    "r = ['*','1','2','3','4','stark','schwach','gemischt']\n",
    "flexion['merkmal'] = pak.remove_str(flexion.merkmal, r)\n",
    "\n",
    "# 'Ptz1' und 'Ptz2' demaskieren\n",
    "flexion['merkmal'] = pak.replace_str(flexion.merkmal, {'PtzA':'Ptz1', 'PtzB':'Ptz2'})"
   ]
  },
  {
   "cell_type": "code",
   "execution_count": 295,
   "metadata": {},
   "outputs": [
    {
     "name": "stdout",
     "output_type": "stream",
     "text": [
      "5 rows out of 2984129\n"
     ]
    },
    {
     "data": {
      "text/html": [
       "\n",
       "        <iframe\n",
       "            width=\"100%\"\n",
       "            height=\"475\"\n",
       "            src=\"http://pop-os:40000/dtale/iframe/52\"\n",
       "            frameborder=\"0\"\n",
       "            allowfullscreen\n",
       "            \n",
       "        ></iframe>\n",
       "        "
      ],
      "text/plain": [
       "<IPython.lib.display.IFrame at 0x7f103860cd00>"
      ]
     },
     "metadata": {},
     "output_type": "display_data"
    },
    {
     "data": {
      "text/plain": []
     },
     "execution_count": 295,
     "metadata": {},
     "output_type": "execute_result"
    },
    {
     "name": "stdout",
     "output_type": "stream",
     "text": [
      "time: 1.69 s\n"
     ]
    }
   ],
   "source": [
    "# Beispiel anschauen\n",
    "mask = flexion.section_id2 == suche_debug[0]\n",
    "grid(flexion,mask)"
   ]
  },
  {
   "cell_type": "code",
   "execution_count": 296,
   "metadata": {},
   "outputs": [
    {
     "name": "stdout",
     "output_type": "stream",
     "text": [
      "[('  ', ' '), ('Partizip II', 'Ptz2'), ('Partizip_II', 'Ptz2'), ('PartizipII', 'Ptz2'), ('Konjunktiv II', 'Konj2'), ('Konjunktiv_II', 'Konj2'), ('KonjunktivII', 'Konj2'), ('  ', ' ')]\n",
      "[('  ', ' '), ('Partizip I', 'Ptz1'), ('Partizip_I', 'Ptz1'), ('PartizipI', 'Ptz1'), ('Konjunktiv I', 'Konj1'), ('Konjunktiv_I', 'Konj1'), ('KonjunktivI', 'Konj1'), ('  ', ' ')]\n",
      "time: 22.2 s\n"
     ]
    }
   ],
   "source": [
    "# translate_first\n",
    "\n",
    "print(translate_first1)\n",
    "print(translate_first2)\n",
    "\n",
    "for quelle, ziel in translate_first1:\n",
    "    flexion.merkmal = flexion.merkmal.str.replace( quelle, ziel )\n",
    "\n",
    "for quelle, ziel in translate_first2:\n",
    "    flexion.merkmal = flexion.merkmal.str.replace( quelle, ziel )"
   ]
  },
  {
   "cell_type": "code",
   "execution_count": 297,
   "metadata": {},
   "outputs": [
    {
     "data": {
      "text/plain": [
       "{'kein Plural': 'noPl',\n",
       " 'kein Singular': 'noSg',\n",
       " 'Singular': 'Sg',\n",
       " 'Pluralformen': 'Pl',\n",
       " 'Plural': 'Pl',\n",
       " 'Nominativ': 'Nom',\n",
       " 'Genitiv': 'Gen',\n",
       " 'Dativ': 'Dat',\n",
       " 'Akkusativ': 'Akk',\n",
       " 'Imperativ': 'Imp',\n",
       " 'Gegenwart': 'Präsens',\n",
       " 'Weitere_Konjugationen': 'Weitere',\n",
       " 'keine weiteren Formen': 'noFlex',\n",
       " '_ich': ' ich',\n",
       " '_du': ' du',\n",
       " '_er,sie,es': ' ersiees',\n",
       " '_er, sie, es': ' ersiees',\n",
       " '_wir': ' wir',\n",
       " '_ihr': ' ihr',\n",
       " 'Konjunktiv': 'Konj'}"
      ]
     },
     "execution_count": 297,
     "metadata": {},
     "output_type": "execute_result"
    },
    {
     "name": "stdout",
     "output_type": "stream",
     "text": [
      "time: 36.5 ms\n"
     ]
    }
   ],
   "source": [
    "translate_merkmal"
   ]
  },
  {
   "cell_type": "code",
   "execution_count": 298,
   "metadata": {},
   "outputs": [
    {
     "name": "stdout",
     "output_type": "stream",
     "text": [
      "time: 14.8 s\n"
     ]
    }
   ],
   "source": [
    "# translate_merkmal: merkmal reinigen\n",
    "flexion['merkmal'] = pak.replace_str(flexion.merkmal, translate_merkmal)"
   ]
  },
  {
   "cell_type": "code",
   "execution_count": 299,
   "metadata": {},
   "outputs": [
    {
     "name": "stdout",
     "output_type": "stream",
     "text": [
      "time: 33.8 ms\n"
     ]
    }
   ],
   "source": [
    "#a = analyse_freqs(flexion,'merkmal','data', split_A=' ', style='top') # \n",
    "#grid(a)"
   ]
  },
  {
   "cell_type": "code",
   "execution_count": 300,
   "metadata": {},
   "outputs": [
    {
     "name": "stdout",
     "output_type": "stream",
     "text": [
      "time: 2.1 s\n"
     ]
    }
   ],
   "source": [
    "# strip\n",
    "flexion.merkmal = flexion.merkmal.str.replace('  ',' ').str.strip()"
   ]
  },
  {
   "cell_type": "code",
   "execution_count": 301,
   "metadata": {},
   "outputs": [
    {
     "name": "stdout",
     "output_type": "stream",
     "text": [
      "Move 1328 rows from 2984129\n",
      "5 rows\n"
     ]
    },
    {
     "data": {
      "text/html": [
       "\n",
       "        <iframe\n",
       "            width=\"100%\"\n",
       "            height=\"475\"\n",
       "            src=\"http://pop-os:40000/dtale/iframe/53\"\n",
       "            frameborder=\"0\"\n",
       "            allowfullscreen\n",
       "            \n",
       "        ></iframe>\n",
       "        "
      ],
      "text/plain": [
       "<IPython.lib.display.IFrame at 0x7f0fe11d1ee0>"
      ]
     },
     "metadata": {},
     "output_type": "display_data"
    },
    {
     "data": {
      "text/plain": []
     },
     "execution_count": 301,
     "metadata": {},
     "output_type": "execute_result"
    },
    {
     "name": "stdout",
     "output_type": "stream",
     "text": [
      "time: 2.9 s\n"
     ]
    }
   ],
   "source": [
    "# Einige Merkmale löschen\n",
    "r = ['','Weitere Konjugationen','beschreibung','bezug','breite','Jahr','Titel','am','Zugriff','Monat','Tag','Autor','Bild','Flexion','unpersönlich',\n",
    "     'Kommentar','zugriff','hrsg','Artikel','größe','titel','Ort','spr','Verlag','Seiten','autor','datum','Weitere','kein-s', 'Kein-ens','Datum',\n",
    "     'EW','ISBN','Originalsprache','TitelErg','dim','kommentar','name','region','sprache','text','Keine weiteren Formen',   \n",
    "    ]\n",
    "mask = flexion.merkmal.isin(r)\n",
    "flexion, flexion_trash = pak.move_rows(df_from=flexion, df_to=flexion_trash, mask=mask, msg='ungenutzte_Merkmale')\n",
    "grid(df)"
   ]
  },
  {
   "cell_type": "code",
   "execution_count": 302,
   "metadata": {},
   "outputs": [
    {
     "name": "stdout",
     "output_type": "stream",
     "text": [
      "time: 23.4 s\n"
     ]
    }
   ],
   "source": [
    "# merkmale sortieren\n",
    "flexion = sort_merkmale(flexion)"
   ]
  },
  {
   "cell_type": "code",
   "execution_count": 303,
   "metadata": {},
   "outputs": [
    {
     "name": "stdout",
     "output_type": "stream",
     "text": [
      "No rows moved\n",
      "5 rows\n"
     ]
    },
    {
     "data": {
      "text/html": [
       "\n",
       "        <iframe\n",
       "            width=\"100%\"\n",
       "            height=\"475\"\n",
       "            src=\"http://pop-os:40000/dtale/iframe/54\"\n",
       "            frameborder=\"0\"\n",
       "            allowfullscreen\n",
       "            \n",
       "        ></iframe>\n",
       "        "
      ],
      "text/plain": [
       "<IPython.lib.display.IFrame at 0x7f103e795d00>"
      ]
     },
     "metadata": {},
     "output_type": "display_data"
    },
    {
     "data": {
      "text/plain": []
     },
     "execution_count": 303,
     "metadata": {},
     "output_type": "execute_result"
    },
    {
     "name": "stdout",
     "output_type": "stream",
     "text": [
      "time: 1.05 s\n"
     ]
    }
   ],
   "source": [
    "# Müll löschen (obsolet: Das wurde weiter oben schon gelöscht)\n",
    "mask = flexion.merkmal.str.contains('|', regex=False)\n",
    "flexion, flexion_trash = pak.move_rows(df_from=flexion, df_to=flexion_trash, mask=mask, msg='Müll1')\n",
    "grid(df, color='green')"
   ]
  },
  {
   "cell_type": "code",
   "execution_count": 304,
   "metadata": {},
   "outputs": [
    {
     "name": "stdout",
     "output_type": "stream",
     "text": [
      "No rows moved\n",
      "5 rows\n"
     ]
    },
    {
     "data": {
      "text/html": [
       "\n",
       "        <iframe\n",
       "            width=\"100%\"\n",
       "            height=\"475\"\n",
       "            src=\"http://pop-os:40000/dtale/iframe/55\"\n",
       "            frameborder=\"0\"\n",
       "            allowfullscreen\n",
       "            \n",
       "        ></iframe>\n",
       "        "
      ],
      "text/plain": [
       "<IPython.lib.display.IFrame at 0x7f104475c340>"
      ]
     },
     "metadata": {},
     "output_type": "display_data"
    },
    {
     "data": {
      "text/plain": []
     },
     "execution_count": 304,
     "metadata": {},
     "output_type": "execute_result"
    },
    {
     "name": "stdout",
     "output_type": "stream",
     "text": [
      "time: 1.44 s\n"
     ]
    }
   ],
   "source": [
    "# Müll löschen (obsolet: Das wurde weiter oben schon gelöscht)\n",
    "mask = flexion.data.str.contains('<', regex=False)\n",
    "flexion, flexion_trash = pak.move_rows(df_from=flexion, df_to=flexion_trash, mask=mask, msg='Müll2') \n",
    "grid(df, color='green')"
   ]
  },
  {
   "cell_type": "code",
   "execution_count": 305,
   "metadata": {},
   "outputs": [
    {
     "name": "stdout",
     "output_type": "stream",
     "text": [
      "time: 4.09 s\n"
     ]
    }
   ],
   "source": [
    "# Striche vereinheitlichen\n",
    "r = {'—':'-', '–':'-'}\n",
    "flexion.data = pak.replace_str(flexion.data, r)"
   ]
  },
  {
   "cell_type": "code",
   "execution_count": 306,
   "metadata": {},
   "outputs": [
    {
     "name": "stdout",
     "output_type": "stream",
     "text": [
      "47 rows\n"
     ]
    },
    {
     "data": {
      "text/html": [
       "\n",
       "        <iframe\n",
       "            width=\"100%\"\n",
       "            height=\"475\"\n",
       "            src=\"http://pop-os:40000/dtale/iframe/56\"\n",
       "            frameborder=\"0\"\n",
       "            allowfullscreen\n",
       "            \n",
       "        ></iframe>\n",
       "        "
      ],
      "text/plain": [
       "<IPython.lib.display.IFrame at 0x7f102f9b8be0>"
      ]
     },
     "metadata": {},
     "output_type": "display_data"
    },
    {
     "data": {
      "text/plain": []
     },
     "execution_count": 306,
     "metadata": {},
     "output_type": "execute_result"
    },
    {
     "name": "stdout",
     "output_type": "stream",
     "text": [
      "time: 19.4 s\n"
     ]
    }
   ],
   "source": [
    "a = pak.analyse_freqs(flexion,['merkmal','data'], splits=[' ', None]) # \n",
    "grid(a)"
   ]
  },
  {
   "cell_type": "code",
   "execution_count": 307,
   "metadata": {},
   "outputs": [
    {
     "name": "stdout",
     "output_type": "stream",
     "text": [
      "61 rows\n"
     ]
    },
    {
     "data": {
      "text/html": [
       "\n",
       "        <iframe\n",
       "            width=\"100%\"\n",
       "            height=\"475\"\n",
       "            src=\"http://pop-os:40000/dtale/iframe/57\"\n",
       "            frameborder=\"0\"\n",
       "            allowfullscreen\n",
       "            \n",
       "        ></iframe>\n",
       "        "
      ],
      "text/plain": [
       "<IPython.lib.display.IFrame at 0x7f1045bf9640>"
      ]
     },
     "metadata": {},
     "output_type": "display_data"
    },
    {
     "data": {
      "text/plain": []
     },
     "execution_count": 307,
     "metadata": {},
     "output_type": "execute_result"
    },
    {
     "name": "stdout",
     "output_type": "stream",
     "text": [
      "time: 7.66 s\n"
     ]
    }
   ],
   "source": [
    "a = pak.analyse_freqs(flexion,['merkmal','data']) \n",
    "grid(a)"
   ]
  },
  {
   "cell_type": "code",
   "execution_count": 308,
   "metadata": {},
   "outputs": [
    {
     "name": "stdout",
     "output_type": "stream",
     "text": [
      "211 rows\n"
     ]
    },
    {
     "data": {
      "text/html": [
       "\n",
       "        <iframe\n",
       "            width=\"100%\"\n",
       "            height=\"475\"\n",
       "            src=\"http://pop-os:40000/dtale/iframe/58\"\n",
       "            frameborder=\"0\"\n",
       "            allowfullscreen\n",
       "            \n",
       "        ></iframe>\n",
       "        "
      ],
      "text/plain": [
       "<IPython.lib.display.IFrame at 0x7f103e726be0>"
      ]
     },
     "metadata": {},
     "output_type": "display_data"
    },
    {
     "data": {
      "text/plain": []
     },
     "execution_count": 308,
     "metadata": {},
     "output_type": "execute_result"
    },
    {
     "name": "stdout",
     "output_type": "stream",
     "text": [
      "time: 6.11 s\n"
     ]
    }
   ],
   "source": [
    "a = pak.analyse_freqs(flexion,['sort','merkmal']) # \n",
    "grid(a)"
   ]
  },
  {
   "cell_type": "code",
   "execution_count": 309,
   "metadata": {},
   "outputs": [
    {
     "name": "stdout",
     "output_type": "stream",
     "text": [
      "2966812 rows added, now a total of 5053294\n",
      "time: 8.33 s\n"
     ]
    }
   ],
   "source": [
    "# flexion wieder an wiktionary_merkmal anfügen\n",
    "\n",
    "df = pak.drop_cols(flexion, ['merkmal_lang','sort'])\n",
    "df = df.drop_duplicates()\n",
    "#grid(df)\n",
    "wiktionary_merkmal = pak.add_rows(wiktionary_merkmal, df)"
   ]
  },
  {
   "cell_type": "code",
   "execution_count": 310,
   "metadata": {},
   "outputs": [
    {
     "name": "stdout",
     "output_type": "stream",
     "text": [
      "8 rows out of 5053294\n"
     ]
    },
    {
     "data": {
      "text/html": [
       "\n",
       "        <iframe\n",
       "            width=\"100%\"\n",
       "            height=\"475\"\n",
       "            src=\"http://pop-os:40000/dtale/iframe/59\"\n",
       "            frameborder=\"0\"\n",
       "            allowfullscreen\n",
       "            \n",
       "        ></iframe>\n",
       "        "
      ],
      "text/plain": [
       "<IPython.lib.display.IFrame at 0x7f11201c2e20>"
      ]
     },
     "metadata": {},
     "output_type": "display_data"
    },
    {
     "data": {
      "text/plain": []
     },
     "execution_count": 310,
     "metadata": {},
     "output_type": "execute_result"
    },
    {
     "name": "stdout",
     "output_type": "stream",
     "text": [
      "time: 2 s\n"
     ]
    }
   ],
   "source": [
    "# Beispiel anzeigen \n",
    "mask = (wiktionary_merkmal.section_id2 == suche_debug[0])\n",
    "grid(wiktionary_merkmal,mask)"
   ]
  },
  {
   "cell_type": "code",
   "execution_count": 311,
   "metadata": {},
   "outputs": [
    {
     "name": "stdout",
     "output_type": "stream",
     "text": [
      "time: 43.6 ms\n"
     ]
    }
   ],
   "source": [
    "# Speicher sparen\n",
    "if speicher_freigeben:\n",
    "    del flexion"
   ]
  },
  {
   "cell_type": "markdown",
   "metadata": {},
   "source": [
    "### wiktionary_merkmal pflegen\n",
    "* Diverse Pflegeschritte"
   ]
  },
  {
   "cell_type": "code",
   "execution_count": 312,
   "metadata": {},
   "outputs": [
    {
     "name": "stdout",
     "output_type": "stream",
     "text": [
      "time: 806 ms\n"
     ]
    }
   ],
   "source": [
    "# drop_cols\n",
    "wiktionary_merkmal = pak.drop_cols(wiktionary_merkmal,['rhymes','inflected','lang','lang_code','lemma_lower'])"
   ]
  },
  {
   "cell_type": "code",
   "execution_count": 313,
   "metadata": {},
   "outputs": [
    {
     "data": {
      "text/html": [
       "<div>\n",
       "<style scoped>\n",
       "    .dataframe tbody tr th:only-of-type {\n",
       "        vertical-align: middle;\n",
       "    }\n",
       "\n",
       "    .dataframe tbody tr th {\n",
       "        vertical-align: top;\n",
       "    }\n",
       "\n",
       "    .dataframe thead th {\n",
       "        text-align: right;\n",
       "    }\n",
       "</style>\n",
       "<table border=\"1\" class=\"dataframe\">\n",
       "  <thead>\n",
       "    <tr style=\"text-align: right;\">\n",
       "      <th></th>\n",
       "      <th>section_id2</th>\n",
       "      <th>merkmal</th>\n",
       "      <th>data</th>\n",
       "      <th>num</th>\n",
       "      <th>meta</th>\n",
       "      <th>data_id</th>\n",
       "    </tr>\n",
       "  </thead>\n",
       "  <tbody>\n",
       "    <tr>\n",
       "      <th>2088093</th>\n",
       "      <td>Kapitols</td>\n",
       "      <td>rhymes</td>\n",
       "      <td>oːls</td>\n",
       "      <td>NaN</td>\n",
       "      <td></td>\n",
       "      <td></td>\n",
       "    </tr>\n",
       "    <tr>\n",
       "      <th>2088094</th>\n",
       "      <td>umwehen_1</td>\n",
       "      <td>rhymes</td>\n",
       "      <td>eːən</td>\n",
       "      <td>NaN</td>\n",
       "      <td></td>\n",
       "      <td></td>\n",
       "    </tr>\n",
       "    <tr>\n",
       "      <th>2088095</th>\n",
       "      <td>Tatarische</td>\n",
       "      <td>rhymes</td>\n",
       "      <td>aːʁɪʃə</td>\n",
       "      <td>NaN</td>\n",
       "      <td></td>\n",
       "      <td></td>\n",
       "    </tr>\n",
       "    <tr>\n",
       "      <th>2088096</th>\n",
       "      <td>oll</td>\n",
       "      <td>rhymes</td>\n",
       "      <td>ɔl</td>\n",
       "      <td>NaN</td>\n",
       "      <td></td>\n",
       "      <td></td>\n",
       "    </tr>\n",
       "    <tr>\n",
       "      <th>2088097</th>\n",
       "      <td>Acetophenons</td>\n",
       "      <td>rhymes</td>\n",
       "      <td>oːns</td>\n",
       "      <td>NaN</td>\n",
       "      <td></td>\n",
       "      <td></td>\n",
       "    </tr>\n",
       "    <tr>\n",
       "      <th>...</th>\n",
       "      <td>...</td>\n",
       "      <td>...</td>\n",
       "      <td>...</td>\n",
       "      <td>...</td>\n",
       "      <td>...</td>\n",
       "      <td>...</td>\n",
       "    </tr>\n",
       "    <tr>\n",
       "      <th>2391121</th>\n",
       "      <td>demouliert</td>\n",
       "      <td>rhymes</td>\n",
       "      <td>iːɐt</td>\n",
       "      <td>NaN</td>\n",
       "      <td></td>\n",
       "      <td></td>\n",
       "    </tr>\n",
       "    <tr>\n",
       "      <th>2391122</th>\n",
       "      <td>prämierend</td>\n",
       "      <td>rhymes</td>\n",
       "      <td>iːʁənt</td>\n",
       "      <td>NaN</td>\n",
       "      <td></td>\n",
       "      <td></td>\n",
       "    </tr>\n",
       "    <tr>\n",
       "      <th>2391123</th>\n",
       "      <td>prämieren</td>\n",
       "      <td>rhymes</td>\n",
       "      <td>iːʁən</td>\n",
       "      <td>NaN</td>\n",
       "      <td></td>\n",
       "      <td></td>\n",
       "    </tr>\n",
       "    <tr>\n",
       "      <th>2391124</th>\n",
       "      <td>Verwirrnissen</td>\n",
       "      <td>rhymes</td>\n",
       "      <td>ɪʁnɪsn</td>\n",
       "      <td>NaN</td>\n",
       "      <td></td>\n",
       "      <td></td>\n",
       "    </tr>\n",
       "    <tr>\n",
       "      <th>2391125</th>\n",
       "      <td>vakuumierte</td>\n",
       "      <td>rhymes</td>\n",
       "      <td>iːɐtə</td>\n",
       "      <td>NaN</td>\n",
       "      <td></td>\n",
       "      <td></td>\n",
       "    </tr>\n",
       "  </tbody>\n",
       "</table>\n",
       "<p>303033 rows × 6 columns</p>\n",
       "</div>"
      ],
      "text/plain": [
       "           section_id2 merkmal    data  num meta data_id\n",
       "2088093       Kapitols  rhymes    oːls  NaN             \n",
       "2088094      umwehen_1  rhymes    eːən  NaN             \n",
       "2088095     Tatarische  rhymes  aːʁɪʃə  NaN             \n",
       "2088096            oll  rhymes      ɔl  NaN             \n",
       "2088097   Acetophenons  rhymes    oːns  NaN             \n",
       "...                ...     ...     ...  ...  ...     ...\n",
       "2391121     demouliert  rhymes    iːɐt  NaN             \n",
       "2391122     prämierend  rhymes  iːʁənt  NaN             \n",
       "2391123      prämieren  rhymes   iːʁən  NaN             \n",
       "2391124  Verwirrnissen  rhymes  ɪʁnɪsn  NaN             \n",
       "2391125    vakuumierte  rhymes   iːɐtə  NaN             \n",
       "\n",
       "[303033 rows x 6 columns]"
      ]
     },
     "execution_count": 313,
     "metadata": {},
     "output_type": "execute_result"
    },
    {
     "name": "stdout",
     "output_type": "stream",
     "text": [
      "time: 532 ms\n"
     ]
    }
   ],
   "source": [
    "mask = wiktionary_merkmal.merkmal == 'rhymes'\n",
    "wiktionary_merkmal[mask]"
   ]
  },
  {
   "cell_type": "code",
   "execution_count": 314,
   "metadata": {},
   "outputs": [
    {
     "name": "stdout",
     "output_type": "stream",
     "text": [
      "change_datatype \n",
      "section_id2          --> pd.string \n",
      "merkmal              --> pd.string \n",
      "data                 --> pd.string \n",
      "num                  --> pd.string \n",
      "meta                 --> pd.string \n",
      "data_id              --> pd.string \n",
      "change_datatype before: 1.8 GB after: 1.9 GB\n",
      "\n",
      "time: 28.9 s\n"
     ]
    }
   ],
   "source": [
    "# change_datatype\n",
    "wiktionary_merkmal = pak.change_datatype(wiktionary_merkmal)"
   ]
  },
  {
   "cell_type": "code",
   "execution_count": 315,
   "metadata": {},
   "outputs": [
    {
     "name": "stdout",
     "output_type": "stream",
     "text": [
      "time: 402 ms\n"
     ]
    }
   ],
   "source": [
    "# Keine nan in data\n",
    "assert not pak.any_nan(wiktionary_merkmal.data) "
   ]
  },
  {
   "cell_type": "code",
   "execution_count": 316,
   "metadata": {},
   "outputs": [
    {
     "name": "stdout",
     "output_type": "stream",
     "text": [
      "time: 433 ms\n"
     ]
    }
   ],
   "source": [
    "# herkunft: meta leeren\n",
    "mask = wiktionary_merkmal.merkmal.isin(['herkunft']) \n",
    "wiktionary_merkmal.loc[mask,'meta'] = ''\n",
    "#grid(wiktionary_merkmal, mask)"
   ]
  },
  {
   "cell_type": "code",
   "execution_count": 317,
   "metadata": {},
   "outputs": [
    {
     "name": "stdout",
     "output_type": "stream",
     "text": [
      "time: 29.7 ms\n"
     ]
    }
   ],
   "source": [
    "#grid(wiktionary_merkmal_trash)"
   ]
  },
  {
   "cell_type": "code",
   "execution_count": 318,
   "metadata": {},
   "outputs": [
    {
     "name": "stdout",
     "output_type": "stream",
     "text": [
      "time: 4.18 s\n"
     ]
    }
   ],
   "source": [
    "# noPl\n",
    "mask = (wiktionary_merkmal.data.str.len() <= 1)  &   wiktionary_merkmal.merkmal.str.endswith('Pl')   &   (wiktionary_merkmal.merkmal != 'noPl')\n",
    "wiktionary_merkmal.loc[mask,'merkmal'] = 'noPl¼'\n",
    "wiktionary_merkmal.loc[mask,'data']    = '1'"
   ]
  },
  {
   "cell_type": "code",
   "execution_count": 319,
   "metadata": {},
   "outputs": [
    {
     "name": "stdout",
     "output_type": "stream",
     "text": [
      "time: 4.25 s\n"
     ]
    }
   ],
   "source": [
    "# noSg\n",
    "mask = (wiktionary_merkmal.data.str.len() <= 1)  &   wiktionary_merkmal.merkmal.str.endswith('Sg')   &   (wiktionary_merkmal.merkmal != 'noSg')\n",
    "wiktionary_merkmal.loc[mask,'merkmal'] = 'noSg¼'\n",
    "wiktionary_merkmal.loc[mask,'data']    = '1'"
   ]
  },
  {
   "cell_type": "code",
   "execution_count": 320,
   "metadata": {},
   "outputs": [
    {
     "name": "stdout",
     "output_type": "stream",
     "text": [
      "time: 868 ms\n"
     ]
    }
   ],
   "source": [
    "# mindestens 2 Zeichen deuten auf noSg hin\n",
    "\n",
    "# finden\n",
    "mask = (wiktionary_merkmal.merkmal == 'noSg¼')\n",
    "df = wiktionary_merkmal[mask].groupby('section_id2')['merkmal'].agg('count').reset_index()\n",
    "mask = (df.merkmal > 1)\n",
    "markiere = df[mask]['section_id2']\n",
    "\n",
    "# nach wiktionary_lemma übertragen\n",
    "mask = wiktionary_lemma.section_id2.isin(markiere)\n",
    "wiktionary_lemma.loc[mask,'member'] += ' noSg'"
   ]
  },
  {
   "cell_type": "code",
   "execution_count": 321,
   "metadata": {},
   "outputs": [
    {
     "name": "stdout",
     "output_type": "stream",
     "text": [
      "time: 775 ms\n"
     ]
    }
   ],
   "source": [
    "# mindestens 2 Zeichen deuten auf noPl hin\n",
    "\n",
    "# finden\n",
    "mask = (wiktionary_merkmal.merkmal == 'noPl¼')\n",
    "df = wiktionary_merkmal[mask].groupby('section_id2')['merkmal'].agg('count').reset_index()\n",
    "mask = (df.merkmal > 1)\n",
    "markiere = df[mask]['section_id2']\n",
    "\n",
    "# nach wiktionary_lemma übertragen\n",
    "mask = wiktionary_lemma.section_id2.isin(markiere)\n",
    "wiktionary_lemma.loc[mask,'member'] += ' noPl'"
   ]
  },
  {
   "cell_type": "code",
   "execution_count": 322,
   "metadata": {},
   "outputs": [
    {
     "name": "stdout",
     "output_type": "stream",
     "text": [
      "Move 53627 rows from 5053294\n",
      "time: 3.74 s\n"
     ]
    }
   ],
   "source": [
    "# entfernen\n",
    "mask = wiktionary_merkmal.merkmal.isin(['noSg¼','noPl¼'])\n",
    "wiktionary_merkmal, wiktionary_merkmal_trash = pak.move_rows(df_from=wiktionary_merkmal, df_to=wiktionary_merkmal_trash, mask=mask, msg='noSg¼ noPl¼')"
   ]
  },
  {
   "cell_type": "code",
   "execution_count": 323,
   "metadata": {},
   "outputs": [
    {
     "name": "stdout",
     "output_type": "stream",
     "text": [
      "Move 3 rows from 4999667\n",
      "time: 3.62 s\n"
     ]
    }
   ],
   "source": [
    "# entfernen\n",
    "mask = wiktionary_merkmal.merkmal.isin(['beschreibung 5','bezug 5','breite 5'])\n",
    "wiktionary_merkmal, wiktionary_merkmal_trash = pak.move_rows(df_from=wiktionary_merkmal, df_to=wiktionary_merkmal_trash, mask=mask, msg='Artefakte')"
   ]
  },
  {
   "cell_type": "code",
   "execution_count": 324,
   "metadata": {},
   "outputs": [
    {
     "name": "stdout",
     "output_type": "stream",
     "text": [
      "Move 6 rows from 4999664\n",
      "time: 3.56 s\n"
     ]
    }
   ],
   "source": [
    "# entfernen\n",
    "mask = wiktionary_merkmal.merkmal.isin(['Weitere Formen'])\n",
    "wiktionary_merkmal, wiktionary_merkmal_trash = pak.move_rows(df_from=wiktionary_merkmal, df_to=wiktionary_merkmal_trash, mask=mask, msg='Weitere Formen')"
   ]
  },
  {
   "cell_type": "code",
   "execution_count": 325,
   "metadata": {},
   "outputs": [
    {
     "name": "stdout",
     "output_type": "stream",
     "text": [
      "74 rows\n"
     ]
    },
    {
     "data": {
      "text/html": [
       "\n",
       "        <iframe\n",
       "            width=\"100%\"\n",
       "            height=\"475\"\n",
       "            src=\"http://pop-os:40000/dtale/iframe/60\"\n",
       "            frameborder=\"0\"\n",
       "            allowfullscreen\n",
       "            \n",
       "        ></iframe>\n",
       "        "
      ],
      "text/plain": [
       "<IPython.lib.display.IFrame at 0x7f0fafd0dac0>"
      ]
     },
     "metadata": {},
     "output_type": "display_data"
    },
    {
     "data": {
      "text/plain": []
     },
     "execution_count": 325,
     "metadata": {},
     "output_type": "execute_result"
    },
    {
     "name": "stdout",
     "output_type": "stream",
     "text": [
      "time: 28.6 s\n"
     ]
    }
   ],
   "source": [
    "a = pak.analyse_freqs(wiktionary_merkmal,['merkmal','data'], splits=[' ', None]) # \n",
    "grid(a)"
   ]
  },
  {
   "cell_type": "code",
   "execution_count": 326,
   "metadata": {},
   "outputs": [
    {
     "name": "stdout",
     "output_type": "stream",
     "text": [
      "check_mask:  0 rows\n",
      "No rows moved\n",
      "\u001b[1m\u001b[7m\u001b[32mNo rows, mask filters them all away\u001b[0m\n",
      "time: 2.6 s\n"
     ]
    }
   ],
   "source": [
    "# data enthält nicht_erlaubte_sonderzeichen\n",
    "mask = wiktionary_merkmal.data.str.contains(nicht_erlaubte_sonderzeichen_gnädig) # siehe Steuertabellen\n",
    "check_mask(wiktionary_merkmal, mask, 0, 10000)\n",
    "wiktionary_merkmal, wiktionary_merkmal_trash = pak.move_rows(df_from=wiktionary_merkmal, df_to=wiktionary_merkmal_trash, mask=mask, msg='Sonderzeichen')\n",
    "\n",
    "mask = wiktionary_merkmal_trash.msg == 'Sonderzeichen'\n",
    "grid(wiktionary_merkmal_trash,mask, color='green')"
   ]
  },
  {
   "cell_type": "code",
   "execution_count": 327,
   "metadata": {},
   "outputs": [
    {
     "data": {
      "text/plain": [
       "['noSteig',\n",
       " 'noSing',\n",
       " 'istName',\n",
       " 'Wikispecies',\n",
       " 'Wikivoyage',\n",
       " 'Taxonomie',\n",
       " 'Präfix',\n",
       " 'Suffix',\n",
       " 'VMaßeinheiten',\n",
       " 'noSg',\n",
       " 'noPl',\n",
       " 'noFlex']"
      ]
     },
     "execution_count": 327,
     "metadata": {},
     "output_type": "execute_result"
    },
    {
     "name": "stdout",
     "output_type": "stream",
     "text": [
      "time: 38.1 ms\n"
     ]
    }
   ],
   "source": [
    "# E-Merkmale \n",
    "mask = (plan_merkmal.collect == 'E')\n",
    "merkmale_E = list(plan_merkmal[mask].merkmal)\n",
    "merkmale_E "
   ]
  },
  {
   "cell_type": "code",
   "execution_count": 328,
   "metadata": {},
   "outputs": [
    {
     "name": "stdout",
     "output_type": "stream",
     "text": [
      "check_mask:  29 rows\n",
      "Move 29 rows from 4999658\n",
      "time: 4.84 s\n"
     ]
    }
   ],
   "source": [
    "# data ist zu kurz \n",
    "mask1 =  wiktionary_merkmal.data.str.len() == 1\n",
    "mask2 = ~wiktionary_merkmal.merkmal.isin( merkmale_E + ['Genus','ipa','rhymes','def','lex','abk'] )\n",
    "mask3 = ~wiktionary_merkmal.data.isin(['-'])\n",
    "mask = mask1  &  mask2  &  mask3\n",
    "\n",
    "check_mask(wiktionary_merkmal, mask, 0, 30)\n",
    "wiktionary_merkmal, wiktionary_merkmal_trash = pak.move_rows( df_from=wiktionary_merkmal, df_to=wiktionary_merkmal_trash, mask=mask, msg='zu kurz')\n",
    "\n",
    "#grid(wiktionary_merkmal,mask)\n",
    "#pak.analyse_freqs( wiktionary_merkmal[mask], ['merkmal', 'data'])"
   ]
  },
  {
   "cell_type": "code",
   "execution_count": 329,
   "metadata": {},
   "outputs": [
    {
     "name": "stdout",
     "output_type": "stream",
     "text": [
      "time: 5.49 s\n"
     ]
    }
   ],
   "source": [
    "# meta remove_str replace_str\n",
    "wiktionary_merkmal['meta'] = pak.remove_str(  wiktionary_merkmal.meta, '()'         )\n",
    "wiktionary_merkmal['meta'] = pak.replace_str( wiktionary_merkmal.meta, {'/':' '}    )"
   ]
  },
  {
   "cell_type": "code",
   "execution_count": 330,
   "metadata": {},
   "outputs": [
    {
     "name": "stdout",
     "output_type": "stream",
     "text": [
      "time: 3.37 s\n"
     ]
    }
   ],
   "source": [
    "# data Klammer am Ende schließen\n",
    "mask1 =  wiktionary_merkmal.data.str.contains('(', regex=False)\n",
    "mask2 = ~wiktionary_merkmal.data.str.contains(')', regex=False)\n",
    "mask = mask1  &  mask2\n",
    "wiktionary_merkmal.loc[mask,'data'] += ')'\n",
    "# grid(wiktionary_merkmal, mask)"
   ]
  },
  {
   "cell_type": "code",
   "execution_count": 331,
   "metadata": {},
   "outputs": [
    {
     "name": "stdout",
     "output_type": "stream",
     "text": [
      "8 rows out of 4999629\n"
     ]
    },
    {
     "data": {
      "text/html": [
       "\n",
       "        <iframe\n",
       "            width=\"100%\"\n",
       "            height=\"475\"\n",
       "            src=\"http://pop-os:40000/dtale/iframe/61\"\n",
       "            frameborder=\"0\"\n",
       "            allowfullscreen\n",
       "            \n",
       "        ></iframe>\n",
       "        "
      ],
      "text/plain": [
       "<IPython.lib.display.IFrame at 0x7f1000375190>"
      ]
     },
     "metadata": {},
     "output_type": "display_data"
    },
    {
     "data": {
      "text/plain": []
     },
     "execution_count": 331,
     "metadata": {},
     "output_type": "execute_result"
    },
    {
     "name": "stdout",
     "output_type": "stream",
     "text": [
      "time: 888 ms\n"
     ]
    }
   ],
   "source": [
    "# Beispiel anzeigen \n",
    "mask = (wiktionary_merkmal.section_id2 == suche_debug[0])\n",
    "grid(wiktionary_merkmal,mask)"
   ]
  },
  {
   "cell_type": "markdown",
   "metadata": {},
   "source": [
    "### Kontrolle wiktionary_merkmal\n",
    "* Diverse Kontrollen"
   ]
  },
  {
   "cell_type": "code",
   "execution_count": 332,
   "metadata": {},
   "outputs": [
    {
     "name": "stdout",
     "output_type": "stream",
     "text": [
      "103 rows\n"
     ]
    },
    {
     "data": {
      "text/html": [
       "\n",
       "        <iframe\n",
       "            width=\"100%\"\n",
       "            height=\"475\"\n",
       "            src=\"http://pop-os:40000/dtale/iframe/62\"\n",
       "            frameborder=\"0\"\n",
       "            allowfullscreen\n",
       "            \n",
       "        ></iframe>\n",
       "        "
      ],
      "text/plain": [
       "<IPython.lib.display.IFrame at 0x7f10044e2970>"
      ]
     },
     "metadata": {},
     "output_type": "display_data"
    },
    {
     "data": {
      "text/plain": []
     },
     "execution_count": 332,
     "metadata": {},
     "output_type": "execute_result"
    },
    {
     "name": "stdout",
     "output_type": "stream",
     "text": [
      "time: 207 ms\n"
     ]
    }
   ],
   "source": [
    "# plan_merkmal Steuertabelle neu erstellen\n",
    "try:\n",
    "    del plan_merkmal\n",
    "except:\n",
    "    pass\n",
    "\n",
    "from Steuertabellen.s01_Steuertabellen import *\n",
    "plan_merkmal = plan_merkmal_erstellen()\n",
    "#pak.sample(plan_merkmal)\n",
    "grid(plan_merkmal)"
   ]
  },
  {
   "cell_type": "code",
   "execution_count": 333,
   "metadata": {},
   "outputs": [
    {
     "name": "stdout",
     "output_type": "stream",
     "text": [
      "time: 649 ms\n"
     ]
    }
   ],
   "source": [
    "# Merkmale lt. Steuertabelle und lt. Realität\n",
    "mask = (plan_merkmal.plan != 2)\n",
    "merkmale_plan = set(plan_merkmal[mask].merkmal)\n",
    "merkmale_data = set(wiktionary_merkmal.merkmal.unique())"
   ]
  },
  {
   "cell_type": "code",
   "execution_count": 334,
   "metadata": {},
   "outputs": [
    {
     "name": "stdout",
     "output_type": "stream",
     "text": [
      "set()\n",
      "time: 39.9 ms\n"
     ]
    }
   ],
   "source": [
    "# Fast alle in der Steuertabelle plan_merkmal erfassten Merkmale kommen in wiktionary_merkmal tatsächlich vor.\n",
    "# Ausnahmen! 'übersicht'\n",
    "if version == '_all':\n",
    "    ausnahmen = {'Konj1', 'Konj2', 'übersicht','Gerundivum', 'Imp', 'Konj','lemma','nurWortart','PTKVZ'} # Konj1 und Konj2 sind jeweils mit 'ich' vorhanden, aber nicht solitär.\n",
    "    merkmale = { m for m in merkmale_plan.difference(merkmale_data) if not m in ausnahmen}\n",
    "    print(merkmale)\n",
    "    assert len(merkmale) == 0"
   ]
  },
  {
   "cell_type": "code",
   "execution_count": 335,
   "metadata": {},
   "outputs": [
    {
     "name": "stdout",
     "output_type": "stream",
     "text": [
      "check_mask:  0 rows\n",
      "time: 64.3 ms\n"
     ]
    }
   ],
   "source": [
    "# Tauchen die Ausnahmen in wiktionary_merkmal_trash auf?\n",
    "# Sollten sie nicht.\n",
    "mask1 =  wiktionary_merkmal_trash.merkmal.isin(  ausnahmen - {'nurWortart'}  )\n",
    "mask2 = ~wiktionary_merkmal_trash.merkmal.isin(['übersicht'])\n",
    "mask = mask1  & mask2\n",
    "check_mask(wiktionary_merkmal_trash,mask,0)\n",
    "#wiktionary_merkmal_trash[mask]"
   ]
  },
  {
   "cell_type": "code",
   "execution_count": 336,
   "metadata": {},
   "outputs": [
    {
     "data": {
      "text/html": [
       "<img src onerror=\"var cell = this.closest('.jp-CodeCell');var editor = cell.querySelector('.jp-Editor');editor.style.background='orange';this.parentNode.removeChild(this)\">"
      ],
      "text/plain": [
       "<IPython.core.display.HTML object>"
      ]
     },
     "metadata": {},
     "output_type": "display_data"
    },
    {
     "data": {
      "text/html": [
       "<div>\n",
       "<style scoped>\n",
       "    .dataframe tbody tr th:only-of-type {\n",
       "        vertical-align: middle;\n",
       "    }\n",
       "\n",
       "    .dataframe tbody tr th {\n",
       "        vertical-align: top;\n",
       "    }\n",
       "\n",
       "    .dataframe thead th {\n",
       "        text-align: right;\n",
       "    }\n",
       "</style>\n",
       "<table border=\"1\" class=\"dataframe\">\n",
       "  <thead>\n",
       "    <tr style=\"text-align: right;\">\n",
       "      <th></th>\n",
       "      <th>section_id2</th>\n",
       "      <th>merkmal</th>\n",
       "      <th>data</th>\n",
       "      <th>num</th>\n",
       "      <th>meta</th>\n",
       "      <th>data_id</th>\n",
       "    </tr>\n",
       "  </thead>\n",
       "  <tbody>\n",
       "    <tr>\n",
       "      <th>2086486</th>\n",
       "      <td>vergleichen</td>\n",
       "      <td>VVIMP</td>\n",
       "      <td>vergleiche</td>\n",
       "      <td>&lt;NA&gt;</td>\n",
       "      <td>manuell</td>\n",
       "      <td></td>\n",
       "    </tr>\n",
       "    <tr>\n",
       "      <th>2086487</th>\n",
       "      <td>hereinlassen_M</td>\n",
       "      <td>VVIZU</td>\n",
       "      <td>hereinzulassen</td>\n",
       "      <td>&lt;NA&gt;</td>\n",
       "      <td>manuell</td>\n",
       "      <td></td>\n",
       "    </tr>\n",
       "    <tr>\n",
       "      <th>2086488</th>\n",
       "      <td>loswerden</td>\n",
       "      <td>VVIZU</td>\n",
       "      <td>loszuwerden</td>\n",
       "      <td>&lt;NA&gt;</td>\n",
       "      <td>manuell</td>\n",
       "      <td></td>\n",
       "    </tr>\n",
       "    <tr>\n",
       "      <th>2086489</th>\n",
       "      <td>herauslassen_M</td>\n",
       "      <td>VVIZU</td>\n",
       "      <td>herauszulassen</td>\n",
       "      <td>&lt;NA&gt;</td>\n",
       "      <td>manuell</td>\n",
       "      <td></td>\n",
       "    </tr>\n",
       "    <tr>\n",
       "      <th>2086490</th>\n",
       "      <td>aufrütteln_M</td>\n",
       "      <td>VVIZU</td>\n",
       "      <td>aufzurütteln</td>\n",
       "      <td>&lt;NA&gt;</td>\n",
       "      <td>manuell</td>\n",
       "      <td></td>\n",
       "    </tr>\n",
       "    <tr>\n",
       "      <th>2086491</th>\n",
       "      <td>herumpimpeln_M</td>\n",
       "      <td>VVIZU</td>\n",
       "      <td>herumzupimpeln</td>\n",
       "      <td>&lt;NA&gt;</td>\n",
       "      <td>manuell</td>\n",
       "      <td></td>\n",
       "    </tr>\n",
       "    <tr>\n",
       "      <th>2086492</th>\n",
       "      <td>anstaunen_M</td>\n",
       "      <td>VVIZU</td>\n",
       "      <td>anzustaunen</td>\n",
       "      <td>&lt;NA&gt;</td>\n",
       "      <td>manuell</td>\n",
       "      <td></td>\n",
       "    </tr>\n",
       "    <tr>\n",
       "      <th>2086493</th>\n",
       "      <td>einreden</td>\n",
       "      <td>VVIZU</td>\n",
       "      <td>einzureden</td>\n",
       "      <td>&lt;NA&gt;</td>\n",
       "      <td>manuell</td>\n",
       "      <td></td>\n",
       "    </tr>\n",
       "    <tr>\n",
       "      <th>2086494</th>\n",
       "      <td>angucken_M</td>\n",
       "      <td>VVIZU</td>\n",
       "      <td>anzugucken</td>\n",
       "      <td>&lt;NA&gt;</td>\n",
       "      <td>manuell</td>\n",
       "      <td></td>\n",
       "    </tr>\n",
       "  </tbody>\n",
       "</table>\n",
       "</div>"
      ],
      "text/plain": [
       "            section_id2 merkmal            data   num     meta data_id\n",
       "2086486     vergleichen   VVIMP      vergleiche  <NA>  manuell        \n",
       "2086487  hereinlassen_M   VVIZU  hereinzulassen  <NA>  manuell        \n",
       "2086488       loswerden   VVIZU     loszuwerden  <NA>  manuell        \n",
       "2086489  herauslassen_M   VVIZU  herauszulassen  <NA>  manuell        \n",
       "2086490    aufrütteln_M   VVIZU    aufzurütteln  <NA>  manuell        \n",
       "2086491  herumpimpeln_M   VVIZU  herumzupimpeln  <NA>  manuell        \n",
       "2086492     anstaunen_M   VVIZU     anzustaunen  <NA>  manuell        \n",
       "2086493        einreden   VVIZU      einzureden  <NA>  manuell        \n",
       "2086494      angucken_M   VVIZU      anzugucken  <NA>  manuell        "
      ]
     },
     "execution_count": 336,
     "metadata": {},
     "output_type": "execute_result"
    },
    {
     "name": "stdout",
     "output_type": "stream",
     "text": [
      "time: 409 ms\n"
     ]
    }
   ],
   "source": [
    "# TODO_TAGS_IN_MERKMALE\n",
    "bgc('orange')\n",
    "mask = wiktionary_merkmal.merkmal.isin({'VAFIN', 'VMFIN', 'VVIMP', 'VVIZU',})\n",
    "wiktionary_merkmal[mask]"
   ]
  },
  {
   "cell_type": "code",
   "execution_count": 337,
   "metadata": {},
   "outputs": [
    {
     "name": "stdout",
     "output_type": "stream",
     "text": [
      "\u001b[1m\u001b[7m\u001b[31m{'ADV'}\u001b[0m\n",
      "time: 56.6 ms\n"
     ]
    }
   ],
   "source": [
    "# alle Merkmale in wiktionary_merkmal sind in der Steuertabelle plan_merkmal erfasst\n",
    "ausnahmen = {'VAFIN', 'VMFIN', 'VVIMP', 'VVIZU',} ## TODO_TAGS_IN_MERKMALE eigentlich sollte es keine Ausnahmen geben!!\n",
    "merkmale = merkmale_data.difference(merkmale_plan) - ausnahmen\n",
    "if len(merkmale) > 0:\n",
    "    print_color(merkmale, 'red')\n",
    "assert len(merkmale) < 5"
   ]
  },
  {
   "cell_type": "code",
   "execution_count": 338,
   "metadata": {},
   "outputs": [
    {
     "name": "stdout",
     "output_type": "stream",
     "text": [
      "Problemmerkmale: {'ADV'}\n",
      "2 rows out of 4999629\n"
     ]
    },
    {
     "data": {
      "text/html": [
       "\n",
       "        <iframe\n",
       "            width=\"100%\"\n",
       "            height=\"475\"\n",
       "            src=\"http://pop-os:40000/dtale/iframe/63\"\n",
       "            frameborder=\"0\"\n",
       "            allowfullscreen\n",
       "            \n",
       "        ></iframe>\n",
       "        "
      ],
      "text/plain": [
       "<IPython.lib.display.IFrame at 0x7f103d35ba30>"
      ]
     },
     "metadata": {},
     "output_type": "display_data"
    },
    {
     "data": {
      "text/plain": []
     },
     "execution_count": 338,
     "metadata": {},
     "output_type": "execute_result"
    },
    {
     "name": "stdout",
     "output_type": "stream",
     "text": [
      "time: 382 ms\n"
     ]
    }
   ],
   "source": [
    "# Probleme anschauen\n",
    "print('Problemmerkmale:',merkmale)\n",
    "mask = wiktionary_merkmal.merkmal.isin(merkmale)\n",
    "grid(wiktionary_merkmal, mask, color='green')"
   ]
  },
  {
   "cell_type": "code",
   "execution_count": 339,
   "metadata": {},
   "outputs": [
    {
     "name": "stdout",
     "output_type": "stream",
     "text": [
      "time: 483 ms\n"
     ]
    }
   ],
   "source": [
    "# Keine nan in data\n",
    "assert pak.nnan(wiktionary_merkmal.data) == 0"
   ]
  },
  {
   "cell_type": "code",
   "execution_count": 340,
   "metadata": {},
   "outputs": [
    {
     "name": "stdout",
     "output_type": "stream",
     "text": [
      "section_id2\n",
      "merkmal\n",
      "data\n",
      "num\n",
      "meta\n",
      "data_id\n",
      "time: 6.64 s\n"
     ]
    }
   ],
   "source": [
    "# Eindeutige Datentypen\n",
    "for col in wiktionary_merkmal.columns:\n",
    "    print(col)\n",
    "    if col == 'num':\n",
    "        continue\n",
    "    assert pak.ntypes(wiktionary_merkmal[col]) == 1"
   ]
  },
  {
   "cell_type": "code",
   "execution_count": 341,
   "metadata": {},
   "outputs": [
    {
     "data": {
      "text/plain": [
       "(4999629, 6)"
      ]
     },
     "execution_count": 341,
     "metadata": {},
     "output_type": "execute_result"
    },
    {
     "name": "stdout",
     "output_type": "stream",
     "text": [
      "time: 40.2 ms\n"
     ]
    }
   ],
   "source": [
    "wiktionary_merkmal.shape"
   ]
  },
  {
   "cell_type": "markdown",
   "metadata": {},
   "source": [
    "## wiktionary_lemma"
   ]
  },
  {
   "cell_type": "code",
   "execution_count": 342,
   "metadata": {},
   "outputs": [
    {
     "data": {
      "text/html": [
       "<div>\n",
       "<style scoped>\n",
       "    .dataframe tbody tr th:only-of-type {\n",
       "        vertical-align: middle;\n",
       "    }\n",
       "\n",
       "    .dataframe tbody tr th {\n",
       "        vertical-align: top;\n",
       "    }\n",
       "\n",
       "    .dataframe thead th {\n",
       "        text-align: right;\n",
       "    }\n",
       "</style>\n",
       "<table border=\"1\" class=\"dataframe\">\n",
       "  <thead>\n",
       "    <tr style=\"text-align: right;\">\n",
       "      <th></th>\n",
       "      <th>page_id</th>\n",
       "      <th>page_part</th>\n",
       "      <th>section_id2</th>\n",
       "      <th>lemma</th>\n",
       "      <th>lemma_lower</th>\n",
       "      <th>isupper</th>\n",
       "      <th>lemma_len</th>\n",
       "      <th>tag</th>\n",
       "      <th>tag_0</th>\n",
       "      <th>tag_1</th>\n",
       "      <th>tagZ</th>\n",
       "      <th>tagZZ</th>\n",
       "      <th>member</th>\n",
       "      <th>score</th>\n",
       "      <th>data_id</th>\n",
       "    </tr>\n",
       "  </thead>\n",
       "  <tbody>\n",
       "    <tr>\n",
       "      <th>57826</th>\n",
       "      <td>242150.0</td>\n",
       "      <td>0.0</td>\n",
       "      <td>missraten</td>\n",
       "      <td>missraten</td>\n",
       "      <td>missraten</td>\n",
       "      <td>False</td>\n",
       "      <td>1</td>\n",
       "      <td>VVFIN</td>\n",
       "      <td>VVFIN</td>\n",
       "      <td>foLRX8vFnm</td>\n",
       "      <td>VER</td>\n",
       "      <td>V</td>\n",
       "      <td>Verb Verb</td>\n",
       "      <td>4.472594</td>\n",
       "      <td></td>\n",
       "    </tr>\n",
       "    <tr>\n",
       "      <th>64249</th>\n",
       "      <td>273380.0</td>\n",
       "      <td>0.0</td>\n",
       "      <td>gefriergetrocknet</td>\n",
       "      <td>gefriergetrocknet</td>\n",
       "      <td>gefriergetrocknet</td>\n",
       "      <td>False</td>\n",
       "      <td>1</td>\n",
       "      <td>ADJA</td>\n",
       "      <td>ADJA</td>\n",
       "      <td>M9yT3byKKu</td>\n",
       "      <td>ADJ</td>\n",
       "      <td>A</td>\n",
       "      <td>Adjektiv Adjektiv</td>\n",
       "      <td>3.807552</td>\n",
       "      <td></td>\n",
       "    </tr>\n",
       "    <tr>\n",
       "      <th>131775</th>\n",
       "      <td>1054310.0</td>\n",
       "      <td>0.0</td>\n",
       "      <td>gefriertrocknen</td>\n",
       "      <td>gefriertrocknen</td>\n",
       "      <td>gefriertrocknen</td>\n",
       "      <td>False</td>\n",
       "      <td>1</td>\n",
       "      <td>VVFIN</td>\n",
       "      <td>VVFIN</td>\n",
       "      <td>TLhfFhOWFO</td>\n",
       "      <td>VER</td>\n",
       "      <td>V</td>\n",
       "      <td>Verb Verb</td>\n",
       "      <td>14.422655</td>\n",
       "      <td></td>\n",
       "    </tr>\n",
       "    <tr>\n",
       "      <th>140376</th>\n",
       "      <td>NaN</td>\n",
       "      <td>NaN</td>\n",
       "      <td>gefriertrocknen</td>\n",
       "      <td>gefriertrocknen</td>\n",
       "      <td>gefriertrocknen</td>\n",
       "      <td>False</td>\n",
       "      <td>1</td>\n",
       "      <td>VVFIN</td>\n",
       "      <td>VVFIN</td>\n",
       "      <td>dFIK2wex3d</td>\n",
       "      <td>VER</td>\n",
       "      <td>V</td>\n",
       "      <td>manuell Verb</td>\n",
       "      <td>0.450000</td>\n",
       "      <td></td>\n",
       "    </tr>\n",
       "    <tr>\n",
       "      <th>140521</th>\n",
       "      <td>NaN</td>\n",
       "      <td>NaN</td>\n",
       "      <td>missraten</td>\n",
       "      <td>missraten</td>\n",
       "      <td>missraten</td>\n",
       "      <td>False</td>\n",
       "      <td>1</td>\n",
       "      <td>VVFIN</td>\n",
       "      <td>VVFIN</td>\n",
       "      <td>hMbvB8jNwL</td>\n",
       "      <td>VER</td>\n",
       "      <td>V</td>\n",
       "      <td>manuell Verb</td>\n",
       "      <td>0.450000</td>\n",
       "      <td></td>\n",
       "    </tr>\n",
       "    <tr>\n",
       "      <th>167679</th>\n",
       "      <td>NaN</td>\n",
       "      <td>NaN</td>\n",
       "      <td>gefriergetrocknet</td>\n",
       "      <td>gefriergetrocknet</td>\n",
       "      <td>gefriergetrocknet</td>\n",
       "      <td>False</td>\n",
       "      <td>1</td>\n",
       "      <td>ADJA</td>\n",
       "      <td>ADJA</td>\n",
       "      <td>ATraUFcN5L</td>\n",
       "      <td>ADJ</td>\n",
       "      <td>A</td>\n",
       "      <td>Ptz2 manuell Adjektiv</td>\n",
       "      <td>0.500000</td>\n",
       "      <td>gefriertrocknen</td>\n",
       "    </tr>\n",
       "    <tr>\n",
       "      <th>167822</th>\n",
       "      <td>NaN</td>\n",
       "      <td>NaN</td>\n",
       "      <td>missraten_MADJ</td>\n",
       "      <td>missraten</td>\n",
       "      <td>missraten</td>\n",
       "      <td>False</td>\n",
       "      <td>1</td>\n",
       "      <td>ADJA</td>\n",
       "      <td>ADJA</td>\n",
       "      <td>IBpowZE9hp</td>\n",
       "      <td>ADJ</td>\n",
       "      <td>A</td>\n",
       "      <td>Ptz2 manuell</td>\n",
       "      <td>0.500000</td>\n",
       "      <td>missraten</td>\n",
       "    </tr>\n",
       "  </tbody>\n",
       "</table>\n",
       "</div>"
      ],
      "text/plain": [
       "          page_id  page_part        section_id2              lemma  \\\n",
       "57826    242150.0        0.0          missraten          missraten   \n",
       "64249    273380.0        0.0  gefriergetrocknet  gefriergetrocknet   \n",
       "131775  1054310.0        0.0    gefriertrocknen    gefriertrocknen   \n",
       "140376        NaN        NaN    gefriertrocknen    gefriertrocknen   \n",
       "140521        NaN        NaN          missraten          missraten   \n",
       "167679        NaN        NaN  gefriergetrocknet  gefriergetrocknet   \n",
       "167822        NaN        NaN     missraten_MADJ          missraten   \n",
       "\n",
       "              lemma_lower  isupper  lemma_len    tag  tag_0       tag_1 tagZ  \\\n",
       "57826           missraten    False          1  VVFIN  VVFIN  foLRX8vFnm  VER   \n",
       "64249   gefriergetrocknet    False          1   ADJA   ADJA  M9yT3byKKu  ADJ   \n",
       "131775    gefriertrocknen    False          1  VVFIN  VVFIN  TLhfFhOWFO  VER   \n",
       "140376    gefriertrocknen    False          1  VVFIN  VVFIN  dFIK2wex3d  VER   \n",
       "140521          missraten    False          1  VVFIN  VVFIN  hMbvB8jNwL  VER   \n",
       "167679  gefriergetrocknet    False          1   ADJA   ADJA  ATraUFcN5L  ADJ   \n",
       "167822          missraten    False          1   ADJA   ADJA  IBpowZE9hp  ADJ   \n",
       "\n",
       "       tagZZ                 member      score          data_id  \n",
       "57826      V              Verb Verb   4.472594                   \n",
       "64249      A      Adjektiv Adjektiv   3.807552                   \n",
       "131775     V              Verb Verb  14.422655                   \n",
       "140376     V           manuell Verb   0.450000                   \n",
       "140521     V           manuell Verb   0.450000                   \n",
       "167679     A  Ptz2 manuell Adjektiv   0.500000  gefriertrocknen  \n",
       "167822     A           Ptz2 manuell   0.500000        missraten  "
      ]
     },
     "execution_count": 342,
     "metadata": {},
     "output_type": "execute_result"
    },
    {
     "name": "stdout",
     "output_type": "stream",
     "text": [
      "time: 98.1 ms\n"
     ]
    }
   ],
   "source": [
    "# suche_debug\n",
    "mask = wiktionary_lemma.lemma.isin(suche_debug) #== 'gefriergetrocknet'\n",
    "wiktionary_lemma[mask]"
   ]
  },
  {
   "cell_type": "markdown",
   "metadata": {},
   "source": [
    "### member erweitern\n",
    "* Einige Merkmale aus wiktionary_merkmal nach member in wiktionary_lemma verschieben\n",
    "* und zwar die E-Merkmale. das sind die, bei denen es einzig auf die Existenz ankommt. Diese Merkmale können keine verschiedenen Werte annehmen."
   ]
  },
  {
   "cell_type": "code",
   "execution_count": 343,
   "metadata": {},
   "outputs": [
    {
     "name": "stdout",
     "output_type": "stream",
     "text": [
      "time: 1.1 s\n"
     ]
    }
   ],
   "source": [
    "# noSing >> noSg\n",
    "mask = (wiktionary_merkmal.merkmal == 'noSing')\n",
    "wiktionary_merkmal.loc[mask,'merkmal'] = 'noSg'"
   ]
  },
  {
   "cell_type": "code",
   "execution_count": 344,
   "metadata": {},
   "outputs": [
    {
     "name": "stdout",
     "output_type": "stream",
     "text": [
      "['noSteig', 'noSing', 'istName', 'Wikispecies', 'Wikivoyage', 'Taxonomie', 'Präfix', 'Suffix', 'VMaßeinheiten', 'noSg', 'noPl', 'noFlex']\n",
      "time: 31.2 ms\n"
     ]
    }
   ],
   "source": [
    "# E-Merkmale \n",
    "print(merkmale_E)"
   ]
  },
  {
   "cell_type": "code",
   "execution_count": 345,
   "metadata": {},
   "outputs": [
    {
     "name": "stdout",
     "output_type": "stream",
     "text": [
      "11 rows\n"
     ]
    },
    {
     "data": {
      "text/html": [
       "\n",
       "        <iframe\n",
       "            width=\"100%\"\n",
       "            height=\"475\"\n",
       "            src=\"http://pop-os:40000/dtale/iframe/64\"\n",
       "            frameborder=\"0\"\n",
       "            allowfullscreen\n",
       "            \n",
       "        ></iframe>\n",
       "        "
      ],
      "text/plain": [
       "<IPython.lib.display.IFrame at 0x7f1038672d00>"
      ]
     },
     "metadata": {},
     "output_type": "display_data"
    },
    {
     "data": {
      "text/plain": []
     },
     "execution_count": 345,
     "metadata": {},
     "output_type": "execute_result"
    },
    {
     "name": "stdout",
     "output_type": "stream",
     "text": [
      "time: 579 ms\n"
     ]
    }
   ],
   "source": [
    "# anschauen\n",
    "mask = wiktionary_merkmal.merkmal.isin(merkmale_E)\n",
    "a = pak.analyse_freqs(wiktionary_merkmal[mask],['merkmal','data']) # \n",
    "grid(a)"
   ]
  },
  {
   "cell_type": "code",
   "execution_count": 346,
   "metadata": {},
   "outputs": [
    {
     "name": "stdout",
     "output_type": "stream",
     "text": [
      "566 rows less, now 11175 rows\n",
      "time: 7.04 s\n"
     ]
    }
   ],
   "source": [
    "# update-Tabelle erstellen\n",
    "mask = wiktionary_merkmal.merkmal.isin(merkmale_E)\n",
    "df = pak.group_and_agg(wiktionary_merkmal[mask], \n",
    "              col_origins=['section_id2', 'merkmal',             'merkmal',       ],\n",
    "              col_funcs  =['group',       pak.agg_words_nodup,   'count',         ],\n",
    "              col_names  =['',            'member_plus',         'count',         ],              \n",
    "             )\n",
    "#df"
   ]
  },
  {
   "cell_type": "code",
   "execution_count": 347,
   "metadata": {},
   "outputs": [
    {
     "name": "stdout",
     "output_type": "stream",
     "text": [
      "update_col: 11856 cells written into new column\n",
      "time: 934 ms\n"
     ]
    }
   ],
   "source": [
    "# member_plus schreiben\n",
    "wiktionary_lemma = pak.update_col(wiktionary_lemma, df, on='section_id2', col='member_plus')"
   ]
  },
  {
   "cell_type": "code",
   "execution_count": 348,
   "metadata": {},
   "outputs": [
    {
     "name": "stdout",
     "output_type": "stream",
     "text": [
      "time: 199 ms\n"
     ]
    }
   ],
   "source": [
    "# member schreiben\n",
    "mask = (wiktionary_lemma.member_plus.str.len() > 0)\n",
    "wiktionary_lemma.loc[mask,'member'] = wiktionary_lemma[mask].member + ' ' + wiktionary_lemma[mask].member_plus\n",
    "wiktionary_lemma = pak.drop_cols(wiktionary_lemma,'member_plus')\n",
    "#grid(wiktionary_lemma, mask)"
   ]
  },
  {
   "cell_type": "code",
   "execution_count": 349,
   "metadata": {},
   "outputs": [
    {
     "name": "stdout",
     "output_type": "stream",
     "text": [
      "Move 11741 rows from 4999629\n",
      "time: 3.85 s\n"
     ]
    }
   ],
   "source": [
    "# wiktionary_merkmal belöschen\n",
    "mask = wiktionary_merkmal.merkmal.isin(merkmale_E)\n",
    "wiktionary_merkmal, wiktionary_merkmal_trash = pak.move_rows(df_from=wiktionary_merkmal, df_to=wiktionary_merkmal_trash, mask=mask, msg='merkmale_E')"
   ]
  },
  {
   "cell_type": "markdown",
   "metadata": {},
   "source": [
    "### member pflegen"
   ]
  },
  {
   "cell_type": "code",
   "execution_count": 350,
   "metadata": {},
   "outputs": [
    {
     "name": "stdout",
     "output_type": "stream",
     "text": [
      "4987810 rows less, now 78 rows\n",
      "time: 4.43 s\n"
     ]
    }
   ],
   "source": [
    "# werte_anz\n",
    "df = pak.group_and_agg(wiktionary_merkmal, \n",
    "              col_origins=['merkmal',    'data',                  ],\n",
    "              col_funcs  =['group',       pak.nunique,            ],\n",
    "              col_names  =['',           'werte_anz',             ],              \n",
    "             )\n",
    "#df"
   ]
  },
  {
   "cell_type": "code",
   "execution_count": 351,
   "metadata": {},
   "outputs": [
    {
     "data": {
      "text/html": [
       "<div>\n",
       "<style scoped>\n",
       "    .dataframe tbody tr th:only-of-type {\n",
       "        vertical-align: middle;\n",
       "    }\n",
       "\n",
       "    .dataframe tbody tr th {\n",
       "        vertical-align: top;\n",
       "    }\n",
       "\n",
       "    .dataframe thead th {\n",
       "        text-align: right;\n",
       "    }\n",
       "</style>\n",
       "<table border=\"1\" class=\"dataframe\">\n",
       "  <thead>\n",
       "    <tr style=\"text-align: right;\">\n",
       "      <th></th>\n",
       "      <th>merkmal</th>\n",
       "      <th>merkmal_count</th>\n",
       "      <th>merkmal_percent</th>\n",
       "      <th>data</th>\n",
       "      <th>data_count</th>\n",
       "    </tr>\n",
       "  </thead>\n",
       "  <tbody>\n",
       "    <tr>\n",
       "      <th>0</th>\n",
       "      <td>ADV</td>\n",
       "      <td>2</td>\n",
       "      <td>40.0</td>\n",
       "      <td>[zuviele, zu viele]</td>\n",
       "      <td>[1, 1]</td>\n",
       "    </tr>\n",
       "    <tr>\n",
       "      <th>1</th>\n",
       "      <td>Befehl du</td>\n",
       "      <td>1</td>\n",
       "      <td>20.0</td>\n",
       "      <td>hetz umeinander!</td>\n",
       "      <td>1</td>\n",
       "    </tr>\n",
       "    <tr>\n",
       "      <th>2</th>\n",
       "      <td>Befehl ihr</td>\n",
       "      <td>1</td>\n",
       "      <td>20.0</td>\n",
       "      <td>hetzt umeinander!</td>\n",
       "      <td>1</td>\n",
       "    </tr>\n",
       "    <tr>\n",
       "      <th>3</th>\n",
       "      <td>VVIMP</td>\n",
       "      <td>1</td>\n",
       "      <td>20.0</td>\n",
       "      <td>vergleiche</td>\n",
       "      <td>1</td>\n",
       "    </tr>\n",
       "  </tbody>\n",
       "</table>\n",
       "</div>"
      ],
      "text/plain": [
       "      merkmal  merkmal_count  merkmal_percent                 data data_count\n",
       "0         ADV              2             40.0  [zuviele, zu viele]     [1, 1]\n",
       "1   Befehl du              1             20.0     hetz umeinander!          1\n",
       "2  Befehl ihr              1             20.0    hetzt umeinander!          1\n",
       "3       VVIMP              1             20.0           vergleiche          1"
      ]
     },
     "execution_count": 351,
     "metadata": {},
     "output_type": "execute_result"
    },
    {
     "name": "stdout",
     "output_type": "stream",
     "text": [
      "time: 342 ms\n"
     ]
    }
   ],
   "source": [
    "# merkmale mit kleiner werte_anz\n",
    "mask = (df.werte_anz < 3)   &   ~df.merkmal.str.startswith(('Nom','Gen','Dat','Akk', 'Konj', 'Ptz1'))\n",
    "m = list(df[mask].merkmal)\n",
    "\n",
    "mask = wiktionary_merkmal.merkmal.isin(m)\n",
    "assert wiktionary_merkmal[mask].shape[0] <= 10  \n",
    "\n",
    "a = pak.analyse_freqs(wiktionary_merkmal[mask], ['merkmal','data'])\n",
    "a \n",
    "\n",
    "#wiktionary_merkmal[mask]"
   ]
  },
  {
   "cell_type": "code",
   "execution_count": 352,
   "metadata": {},
   "outputs": [
    {
     "data": {
      "text/html": [
       "<div>\n",
       "<style scoped>\n",
       "    .dataframe tbody tr th:only-of-type {\n",
       "        vertical-align: middle;\n",
       "    }\n",
       "\n",
       "    .dataframe tbody tr th {\n",
       "        vertical-align: top;\n",
       "    }\n",
       "\n",
       "    .dataframe thead th {\n",
       "        text-align: right;\n",
       "    }\n",
       "</style>\n",
       "<table border=\"1\" class=\"dataframe\">\n",
       "  <thead>\n",
       "    <tr style=\"text-align: right;\">\n",
       "      <th></th>\n",
       "      <th>section_id2</th>\n",
       "      <th>merkmal</th>\n",
       "      <th>data</th>\n",
       "      <th>num</th>\n",
       "      <th>meta</th>\n",
       "      <th>data_id</th>\n",
       "    </tr>\n",
       "  </thead>\n",
       "  <tbody>\n",
       "    <tr>\n",
       "      <th>2086482</th>\n",
       "      <td>zu_viel</td>\n",
       "      <td>ADV</td>\n",
       "      <td>zuviele</td>\n",
       "      <td>&lt;NA&gt;</td>\n",
       "      <td>manuell</td>\n",
       "      <td></td>\n",
       "    </tr>\n",
       "    <tr>\n",
       "      <th>2086483</th>\n",
       "      <td>zu_viel</td>\n",
       "      <td>ADV</td>\n",
       "      <td>zu viele</td>\n",
       "      <td>&lt;NA&gt;</td>\n",
       "      <td>manuell</td>\n",
       "      <td></td>\n",
       "    </tr>\n",
       "    <tr>\n",
       "      <th>2086484</th>\n",
       "      <td>umeinanderhetzen</td>\n",
       "      <td>Befehl du</td>\n",
       "      <td>hetz umeinander!</td>\n",
       "      <td>&lt;NA&gt;</td>\n",
       "      <td></td>\n",
       "      <td></td>\n",
       "    </tr>\n",
       "    <tr>\n",
       "      <th>2086485</th>\n",
       "      <td>umeinanderhetzen</td>\n",
       "      <td>Befehl ihr</td>\n",
       "      <td>hetzt umeinander!</td>\n",
       "      <td>&lt;NA&gt;</td>\n",
       "      <td></td>\n",
       "      <td></td>\n",
       "    </tr>\n",
       "    <tr>\n",
       "      <th>2086486</th>\n",
       "      <td>vergleichen</td>\n",
       "      <td>VVIMP</td>\n",
       "      <td>vergleiche</td>\n",
       "      <td>&lt;NA&gt;</td>\n",
       "      <td>manuell</td>\n",
       "      <td></td>\n",
       "    </tr>\n",
       "  </tbody>\n",
       "</table>\n",
       "</div>"
      ],
      "text/plain": [
       "              section_id2     merkmal               data   num     meta  \\\n",
       "2086482           zu_viel         ADV            zuviele  <NA>  manuell   \n",
       "2086483           zu_viel         ADV           zu viele  <NA>  manuell   \n",
       "2086484  umeinanderhetzen   Befehl du   hetz umeinander!  <NA>            \n",
       "2086485  umeinanderhetzen  Befehl ihr  hetzt umeinander!  <NA>            \n",
       "2086486       vergleichen       VVIMP         vergleiche  <NA>  manuell   \n",
       "\n",
       "        data_id  \n",
       "2086482          \n",
       "2086483          \n",
       "2086484          \n",
       "2086485          \n",
       "2086486          "
      ]
     },
     "execution_count": 352,
     "metadata": {},
     "output_type": "execute_result"
    },
    {
     "name": "stdout",
     "output_type": "stream",
     "text": [
      "time: 36.4 ms\n"
     ]
    }
   ],
   "source": [
    "wiktionary_merkmal[mask]"
   ]
  },
  {
   "cell_type": "code",
   "execution_count": 353,
   "metadata": {},
   "outputs": [
    {
     "name": "stdout",
     "output_type": "stream",
     "text": [
      "time: 520 ms\n"
     ]
    }
   ],
   "source": [
    "# In list wandeln\n",
    "wiktionary_lemma.member = wiktionary_lemma.member.str.split()\n",
    "\n",
    "# nach Priorität sortieren (laut Steuertabellen)\n",
    "wiktionary_lemma.member = member_sortieren(wiktionary_lemma.member) \n",
    "\n",
    "# In string wandeln\n",
    "wiktionary_lemma.member = wiktionary_lemma.member.str.join(' ')"
   ]
  },
  {
   "cell_type": "code",
   "execution_count": 354,
   "metadata": {},
   "outputs": [
    {
     "name": "stdout",
     "output_type": "stream",
     "text": [
      "time: 1.55 s\n"
     ]
    }
   ],
   "source": [
    "# Seltene member finden\n",
    "member_selten = pak.analyse_freqs(wiktionary_lemma, ['member', 'section_id2'], splits=[' ',None])\n",
    "mask = (member_selten.member_count == 1)\n",
    "member_selten = member_selten[mask]\n",
    "member_selten_member      = list(member_selten.member)\n",
    "member_selten_section_id2 = list(member_selten.section_id2)\n",
    "\n",
    "# und entfernen\n",
    "mask = wiktionary_lemma.section_id2.isin(member_selten_section_id2)\n",
    "wiktionary_lemma.loc[mask,'member'] = pak.remove_str(wiktionary_lemma[mask].member, member_selten_member)\n",
    "#wiktionary_lemma[mask]"
   ]
  },
  {
   "cell_type": "code",
   "execution_count": 355,
   "metadata": {},
   "outputs": [
    {
     "data": {
      "text/html": [
       "<div>\n",
       "<style scoped>\n",
       "    .dataframe tbody tr th:only-of-type {\n",
       "        vertical-align: middle;\n",
       "    }\n",
       "\n",
       "    .dataframe tbody tr th {\n",
       "        vertical-align: top;\n",
       "    }\n",
       "\n",
       "    .dataframe thead th {\n",
       "        text-align: right;\n",
       "    }\n",
       "</style>\n",
       "<table border=\"1\" class=\"dataframe\">\n",
       "  <thead>\n",
       "    <tr style=\"text-align: right;\">\n",
       "      <th></th>\n",
       "      <th>member</th>\n",
       "      <th>member_count</th>\n",
       "      <th>member_percent</th>\n",
       "      <th>section_id2</th>\n",
       "      <th>section_id2_count</th>\n",
       "    </tr>\n",
       "  </thead>\n",
       "  <tbody>\n",
       "    <tr>\n",
       "      <th>76</th>\n",
       "      <td>Formel</td>\n",
       "      <td>1</td>\n",
       "      <td>0.0</td>\n",
       "      <td>wohl_bekomms</td>\n",
       "      <td>1</td>\n",
       "    </tr>\n",
       "    <tr>\n",
       "      <th>77</th>\n",
       "      <td>Sprichwort</td>\n",
       "      <td>1</td>\n",
       "      <td>0.0</td>\n",
       "      <td>variatio_delectat</td>\n",
       "      <td>1</td>\n",
       "    </tr>\n",
       "    <tr>\n",
       "      <th>78</th>\n",
       "      <td>Zirkumfix</td>\n",
       "      <td>1</td>\n",
       "      <td>0.0</td>\n",
       "      <td>Ge-…-e</td>\n",
       "      <td>1</td>\n",
       "    </tr>\n",
       "    <tr>\n",
       "      <th>79</th>\n",
       "      <td>Reziprokpronomen</td>\n",
       "      <td>1</td>\n",
       "      <td>0.0</td>\n",
       "      <td>einander</td>\n",
       "      <td>1</td>\n",
       "    </tr>\n",
       "    <tr>\n",
       "      <th>80</th>\n",
       "      <td>Interfix</td>\n",
       "      <td>1</td>\n",
       "      <td>0.0</td>\n",
       "      <td>-s_1</td>\n",
       "      <td>1</td>\n",
       "    </tr>\n",
       "    <tr>\n",
       "      <th>81</th>\n",
       "      <td>Vergleichspartikel</td>\n",
       "      <td>1</td>\n",
       "      <td>0.0</td>\n",
       "      <td>wie_1</td>\n",
       "      <td>1</td>\n",
       "    </tr>\n",
       "    <tr>\n",
       "      <th>82</th>\n",
       "      <td>modal</td>\n",
       "      <td>1</td>\n",
       "      <td>0.0</td>\n",
       "      <td>gewiss</td>\n",
       "      <td>1</td>\n",
       "    </tr>\n",
       "  </tbody>\n",
       "</table>\n",
       "</div>"
      ],
      "text/plain": [
       "                member  member_count  member_percent        section_id2  \\\n",
       "76              Formel             1             0.0       wohl_bekomms   \n",
       "77          Sprichwort             1             0.0  variatio_delectat   \n",
       "78           Zirkumfix             1             0.0             Ge-…-e   \n",
       "79    Reziprokpronomen             1             0.0           einander   \n",
       "80            Interfix             1             0.0               -s_1   \n",
       "81  Vergleichspartikel             1             0.0              wie_1   \n",
       "82               modal             1             0.0             gewiss   \n",
       "\n",
       "   section_id2_count  \n",
       "76                 1  \n",
       "77                 1  \n",
       "78                 1  \n",
       "79                 1  \n",
       "80                 1  \n",
       "81                 1  \n",
       "82                 1  "
      ]
     },
     "execution_count": 355,
     "metadata": {},
     "output_type": "execute_result"
    },
    {
     "name": "stdout",
     "output_type": "stream",
     "text": [
      "time: 45.5 ms\n"
     ]
    }
   ],
   "source": [
    "member_selten"
   ]
  },
  {
   "cell_type": "code",
   "execution_count": 356,
   "metadata": {},
   "outputs": [
    {
     "name": "stdout",
     "output_type": "stream",
     "text": [
      "77 rows\n"
     ]
    },
    {
     "data": {
      "text/html": [
       "\n",
       "        <iframe\n",
       "            width=\"100%\"\n",
       "            height=\"475\"\n",
       "            src=\"http://pop-os:40000/dtale/iframe/65\"\n",
       "            frameborder=\"0\"\n",
       "            allowfullscreen\n",
       "            \n",
       "        ></iframe>\n",
       "        "
      ],
      "text/plain": [
       "<IPython.lib.display.IFrame at 0x7f10322b99d0>"
      ]
     },
     "metadata": {},
     "output_type": "display_data"
    },
    {
     "data": {
      "text/plain": []
     },
     "execution_count": 356,
     "metadata": {},
     "output_type": "execute_result"
    },
    {
     "name": "stdout",
     "output_type": "stream",
     "text": [
      "time: 2.16 s\n"
     ]
    }
   ],
   "source": [
    "# anschauen wiktionary_lemma\n",
    "a = pak.analyse_freqs(wiktionary_lemma,['member','tag'], splits=[' ', None])\n",
    "grid(a)"
   ]
  },
  {
   "cell_type": "code",
   "execution_count": 357,
   "metadata": {},
   "outputs": [
    {
     "name": "stdout",
     "output_type": "stream",
     "text": [
      "17 rows\n"
     ]
    },
    {
     "data": {
      "text/html": [
       "\n",
       "        <iframe\n",
       "            width=\"100%\"\n",
       "            height=\"475\"\n",
       "            src=\"http://pop-os:40000/dtale/iframe/66\"\n",
       "            frameborder=\"0\"\n",
       "            allowfullscreen\n",
       "            \n",
       "        ></iframe>\n",
       "        "
      ],
      "text/plain": [
       "<IPython.lib.display.IFrame at 0x7f0fafd17e50>"
      ]
     },
     "metadata": {},
     "output_type": "display_data"
    },
    {
     "data": {
      "text/plain": []
     },
     "execution_count": 357,
     "metadata": {},
     "output_type": "execute_result"
    },
    {
     "name": "stdout",
     "output_type": "stream",
     "text": [
      "time: 5.78 s\n"
     ]
    }
   ],
   "source": [
    "# anschauen wiktionary_nolemma\n",
    "b = pak.analyse_freqs(wiktionary_nolemma,['member','tag'], splits=[' ', None])\n",
    "grid(b)"
   ]
  },
  {
   "cell_type": "code",
   "execution_count": 358,
   "metadata": {},
   "outputs": [
    {
     "data": {
      "text/html": [
       "<div>\n",
       "<style scoped>\n",
       "    .dataframe tbody tr th:only-of-type {\n",
       "        vertical-align: middle;\n",
       "    }\n",
       "\n",
       "    .dataframe tbody tr th {\n",
       "        vertical-align: top;\n",
       "    }\n",
       "\n",
       "    .dataframe thead th {\n",
       "        text-align: right;\n",
       "    }\n",
       "</style>\n",
       "<table border=\"1\" class=\"dataframe\">\n",
       "  <thead>\n",
       "    <tr style=\"text-align: right;\">\n",
       "      <th></th>\n",
       "      <th>page_id</th>\n",
       "      <th>page_part</th>\n",
       "      <th>section_id2</th>\n",
       "      <th>lemma</th>\n",
       "      <th>lemma_lower</th>\n",
       "      <th>isupper</th>\n",
       "      <th>lemma_len</th>\n",
       "      <th>tag</th>\n",
       "      <th>tag_0</th>\n",
       "      <th>tag_1</th>\n",
       "      <th>tagZ</th>\n",
       "      <th>tagZZ</th>\n",
       "      <th>member</th>\n",
       "      <th>score</th>\n",
       "      <th>data_id</th>\n",
       "    </tr>\n",
       "  </thead>\n",
       "  <tbody>\n",
       "    <tr>\n",
       "      <th>57826</th>\n",
       "      <td>242150.0</td>\n",
       "      <td>0.0</td>\n",
       "      <td>missraten</td>\n",
       "      <td>missraten</td>\n",
       "      <td>missraten</td>\n",
       "      <td>False</td>\n",
       "      <td>1</td>\n",
       "      <td>VVFIN</td>\n",
       "      <td>VVFIN</td>\n",
       "      <td>foLRX8vFnm</td>\n",
       "      <td>VER</td>\n",
       "      <td>V</td>\n",
       "      <td>Verb Verb</td>\n",
       "      <td>4.472594</td>\n",
       "      <td></td>\n",
       "    </tr>\n",
       "    <tr>\n",
       "      <th>64249</th>\n",
       "      <td>273380.0</td>\n",
       "      <td>0.0</td>\n",
       "      <td>gefriergetrocknet</td>\n",
       "      <td>gefriergetrocknet</td>\n",
       "      <td>gefriergetrocknet</td>\n",
       "      <td>False</td>\n",
       "      <td>1</td>\n",
       "      <td>ADJA</td>\n",
       "      <td>ADJA</td>\n",
       "      <td>M9yT3byKKu</td>\n",
       "      <td>ADJ</td>\n",
       "      <td>A</td>\n",
       "      <td>Adjektiv Adjektiv noSteig</td>\n",
       "      <td>3.807552</td>\n",
       "      <td></td>\n",
       "    </tr>\n",
       "    <tr>\n",
       "      <th>131775</th>\n",
       "      <td>1054310.0</td>\n",
       "      <td>0.0</td>\n",
       "      <td>gefriertrocknen</td>\n",
       "      <td>gefriertrocknen</td>\n",
       "      <td>gefriertrocknen</td>\n",
       "      <td>False</td>\n",
       "      <td>1</td>\n",
       "      <td>VVFIN</td>\n",
       "      <td>VVFIN</td>\n",
       "      <td>TLhfFhOWFO</td>\n",
       "      <td>VER</td>\n",
       "      <td>V</td>\n",
       "      <td>Verb Verb</td>\n",
       "      <td>14.422655</td>\n",
       "      <td></td>\n",
       "    </tr>\n",
       "    <tr>\n",
       "      <th>140376</th>\n",
       "      <td>NaN</td>\n",
       "      <td>NaN</td>\n",
       "      <td>gefriertrocknen</td>\n",
       "      <td>gefriertrocknen</td>\n",
       "      <td>gefriertrocknen</td>\n",
       "      <td>False</td>\n",
       "      <td>1</td>\n",
       "      <td>VVFIN</td>\n",
       "      <td>VVFIN</td>\n",
       "      <td>dFIK2wex3d</td>\n",
       "      <td>VER</td>\n",
       "      <td>V</td>\n",
       "      <td>Verb manuell</td>\n",
       "      <td>0.450000</td>\n",
       "      <td></td>\n",
       "    </tr>\n",
       "    <tr>\n",
       "      <th>140521</th>\n",
       "      <td>NaN</td>\n",
       "      <td>NaN</td>\n",
       "      <td>missraten</td>\n",
       "      <td>missraten</td>\n",
       "      <td>missraten</td>\n",
       "      <td>False</td>\n",
       "      <td>1</td>\n",
       "      <td>VVFIN</td>\n",
       "      <td>VVFIN</td>\n",
       "      <td>hMbvB8jNwL</td>\n",
       "      <td>VER</td>\n",
       "      <td>V</td>\n",
       "      <td>Verb manuell</td>\n",
       "      <td>0.450000</td>\n",
       "      <td></td>\n",
       "    </tr>\n",
       "    <tr>\n",
       "      <th>167679</th>\n",
       "      <td>NaN</td>\n",
       "      <td>NaN</td>\n",
       "      <td>gefriergetrocknet</td>\n",
       "      <td>gefriergetrocknet</td>\n",
       "      <td>gefriergetrocknet</td>\n",
       "      <td>False</td>\n",
       "      <td>1</td>\n",
       "      <td>ADJA</td>\n",
       "      <td>ADJA</td>\n",
       "      <td>ATraUFcN5L</td>\n",
       "      <td>ADJ</td>\n",
       "      <td>A</td>\n",
       "      <td>Adjektiv Ptz2 noSteig manuell</td>\n",
       "      <td>0.500000</td>\n",
       "      <td>gefriertrocknen</td>\n",
       "    </tr>\n",
       "    <tr>\n",
       "      <th>167822</th>\n",
       "      <td>NaN</td>\n",
       "      <td>NaN</td>\n",
       "      <td>missraten_MADJ</td>\n",
       "      <td>missraten</td>\n",
       "      <td>missraten</td>\n",
       "      <td>False</td>\n",
       "      <td>1</td>\n",
       "      <td>ADJA</td>\n",
       "      <td>ADJA</td>\n",
       "      <td>IBpowZE9hp</td>\n",
       "      <td>ADJ</td>\n",
       "      <td>A</td>\n",
       "      <td>Ptz2 manuell</td>\n",
       "      <td>0.500000</td>\n",
       "      <td>missraten</td>\n",
       "    </tr>\n",
       "  </tbody>\n",
       "</table>\n",
       "</div>"
      ],
      "text/plain": [
       "          page_id  page_part        section_id2              lemma  \\\n",
       "57826    242150.0        0.0          missraten          missraten   \n",
       "64249    273380.0        0.0  gefriergetrocknet  gefriergetrocknet   \n",
       "131775  1054310.0        0.0    gefriertrocknen    gefriertrocknen   \n",
       "140376        NaN        NaN    gefriertrocknen    gefriertrocknen   \n",
       "140521        NaN        NaN          missraten          missraten   \n",
       "167679        NaN        NaN  gefriergetrocknet  gefriergetrocknet   \n",
       "167822        NaN        NaN     missraten_MADJ          missraten   \n",
       "\n",
       "              lemma_lower  isupper  lemma_len    tag  tag_0       tag_1 tagZ  \\\n",
       "57826           missraten    False          1  VVFIN  VVFIN  foLRX8vFnm  VER   \n",
       "64249   gefriergetrocknet    False          1   ADJA   ADJA  M9yT3byKKu  ADJ   \n",
       "131775    gefriertrocknen    False          1  VVFIN  VVFIN  TLhfFhOWFO  VER   \n",
       "140376    gefriertrocknen    False          1  VVFIN  VVFIN  dFIK2wex3d  VER   \n",
       "140521          missraten    False          1  VVFIN  VVFIN  hMbvB8jNwL  VER   \n",
       "167679  gefriergetrocknet    False          1   ADJA   ADJA  ATraUFcN5L  ADJ   \n",
       "167822          missraten    False          1   ADJA   ADJA  IBpowZE9hp  ADJ   \n",
       "\n",
       "       tagZZ                         member      score          data_id  \n",
       "57826      V                      Verb Verb   4.472594                   \n",
       "64249      A      Adjektiv Adjektiv noSteig   3.807552                   \n",
       "131775     V                      Verb Verb  14.422655                   \n",
       "140376     V                   Verb manuell   0.450000                   \n",
       "140521     V                   Verb manuell   0.450000                   \n",
       "167679     A  Adjektiv Ptz2 noSteig manuell   0.500000  gefriertrocknen  \n",
       "167822     A                   Ptz2 manuell   0.500000        missraten  "
      ]
     },
     "execution_count": 358,
     "metadata": {},
     "output_type": "execute_result"
    },
    {
     "name": "stdout",
     "output_type": "stream",
     "text": [
      "time: 166 ms\n"
     ]
    }
   ],
   "source": [
    "# suche_debug\n",
    "mask = wiktionary_lemma.lemma.isin(suche_debug) #== 'gefriergetrocknet'\n",
    "wiktionary_lemma[mask]"
   ]
  },
  {
   "cell_type": "markdown",
   "metadata": {},
   "source": [
    "### member weiter pflegen"
   ]
  },
  {
   "cell_type": "code",
   "execution_count": 359,
   "metadata": {},
   "outputs": [
    {
     "name": "stdout",
     "output_type": "stream",
     "text": [
      "{'Eigenname': '', 'Straßenname': 'Geo_straße', 'Ortsnamengrundwort': 'Geo_ort', 'Ort': 'Geo_ort', 'Stadt': 'Geo_stadt', 'Land': 'Geo_land', 'Toponym': 'Geo', 'Wikivoyage': 'Geo', 'Vorname': 'Person_vorname', 'Nachname': 'Person_nachname', 'PRE': 'Person_pre', 'adjektivische_Deklination': 'adjNN', 'Wikispecies': 'Spezies', 'VMaßeinheiten': 'Einheit'}\n",
      "time: 919 ms\n"
     ]
    }
   ],
   "source": [
    "# Ersetzungen im member laut member_replaces (definiert in Steuertabellen)\n",
    "print(member_replaces)\n",
    "wiktionary_lemma.loc[:,'member'] = pak.replace_str(wiktionary_lemma.member, member_replaces)"
   ]
  },
  {
   "cell_type": "code",
   "execution_count": 360,
   "metadata": {},
   "outputs": [
    {
     "name": "stdout",
     "output_type": "stream",
     "text": [
      "check_mask:  100344 rows\n",
      "time: 337 ms\n"
     ]
    }
   ],
   "source": [
    "# redundantes Substantiv\n",
    "mask = wiktionary_lemma.member.str.contains('Substantiv')   &   (wiktionary_lemma.tagZZ == 'N') \n",
    "check_mask( wiktionary_lemma, mask )\n",
    "wiktionary_lemma.loc[ mask, 'member' ] = wiktionary_lemma[mask].member.str.replace('Substantiv','')"
   ]
  },
  {
   "cell_type": "code",
   "execution_count": 361,
   "metadata": {},
   "outputs": [
    {
     "name": "stdout",
     "output_type": "stream",
     "text": [
      "check_mask:  13602 rows\n",
      "time: 173 ms\n"
     ]
    }
   ],
   "source": [
    "# redundantes Adjektiv\n",
    "mask = wiktionary_lemma.member.str.contains('Adjektiv')   &   (wiktionary_lemma.tagZ == 'ADJ') \n",
    "check_mask( wiktionary_lemma, mask )\n",
    "wiktionary_lemma.loc[ mask, 'member' ] = wiktionary_lemma[mask].member.str.replace('Adjektiv','')"
   ]
  },
  {
   "cell_type": "code",
   "execution_count": 362,
   "metadata": {},
   "outputs": [
    {
     "name": "stdout",
     "output_type": "stream",
     "text": [
      "check_mask:  14049 rows\n",
      "time: 151 ms\n"
     ]
    }
   ],
   "source": [
    "# redundantes Verb\n",
    "mask = wiktionary_lemma.member.str.contains('Verb')   &   (wiktionary_lemma.tagZZ == 'V') \n",
    "check_mask( wiktionary_lemma, mask )\n",
    "wiktionary_lemma.loc[ mask, 'member' ] = wiktionary_lemma[mask].member.str.replace('Verb','')"
   ]
  },
  {
   "cell_type": "code",
   "execution_count": 363,
   "metadata": {},
   "outputs": [
    {
     "name": "stdout",
     "output_type": "stream",
     "text": [
      "check_mask:  2307 rows\n",
      "time: 136 ms\n"
     ]
    }
   ],
   "source": [
    "# redundantes istName, außerdem 1 falsches istName das NN ist\n",
    "mask = wiktionary_lemma.member.str.contains('istName')   &   ( wiktionary_lemma.tagZZ == 'N' ) \n",
    "check_mask( wiktionary_lemma, mask )\n",
    "wiktionary_lemma.loc[ mask, 'member' ] = wiktionary_lemma[mask].member.str.replace('istName','')"
   ]
  },
  {
   "cell_type": "code",
   "execution_count": 364,
   "metadata": {},
   "outputs": [
    {
     "name": "stdout",
     "output_type": "stream",
     "text": [
      "check_mask:  174 rows\n",
      "time: 171 ms\n"
     ]
    }
   ],
   "source": [
    "# redundantes Name\n",
    "mask = wiktionary_lemma.member.str.contains('Name')   &   ( wiktionary_lemma.tag_0.isin(['NE']) | wiktionary_lemma.tag_1.isin(['NE']) )\n",
    "check_mask( wiktionary_lemma, mask )\n",
    "wiktionary_lemma.loc[ mask, 'member' ] = wiktionary_lemma[mask].member.str.replace('Name','')"
   ]
  },
  {
   "cell_type": "code",
   "execution_count": 365,
   "metadata": {},
   "outputs": [
    {
     "name": "stdout",
     "output_type": "stream",
     "text": [
      "check_mask:  103 rows\n",
      "time: 187 ms\n"
     ]
    }
   ],
   "source": [
    "# redundantes Konjunktion\n",
    "#mask = wiktionary_lemma.member.str.contains('Konjunktion')   &   ~wiktionary_lemma.member.str.contains('Konjunktionaladverb')   &   \\\n",
    "#     ( wiktionary_lemma.tag_0.isin(['KOUS','KON','KOKOM','KOUI']) | wiktionary_lemma.tag_1.isin(['KOUS','KON','KOKOM','KOUI']) ) \n",
    "\n",
    "mask1 =   wiktionary_lemma.member.str.contains('Konjunktion') \n",
    "mask2 =  ~wiktionary_lemma.member.str.contains('Konjunktionaladverb') \n",
    "mask3A =  wiktionary_lemma.tag_0.isin(['KOUS','KON','KOKOM','KOUI'])\n",
    "mask3B =  wiktionary_lemma.tag_1.isin(['KOUS','KON','KOKOM','KOUI'])\n",
    "mask = mask1  &  mask2  &  (mask3A | mask3B)\n",
    "check_mask( wiktionary_lemma, mask )\n",
    "\n",
    "##wiktionary_lemma.loc[ mask, 'member' ] = wiktionary_lemma[mask].member.str.replace('Konjunktion','')\n",
    "#grid(wiktionary_lemma[mask])"
   ]
  },
  {
   "cell_type": "code",
   "execution_count": 366,
   "metadata": {},
   "outputs": [
    {
     "name": "stdout",
     "output_type": "stream",
     "text": [
      "check_mask:  64 rows\n",
      "time: 115 ms\n"
     ]
    }
   ],
   "source": [
    "# redundantes Indefinitpronomen\n",
    "mask = wiktionary_lemma.member.str.contains('Indefinitpronomen')   &   ( wiktionary_lemma.tag_0.isin(['PIAT','PIS']) | wiktionary_lemma.tag_1.isin(['PIAT','PIS']) )\n",
    "check_mask( wiktionary_lemma, mask )\n",
    "wiktionary_lemma.loc[ mask, 'member' ] = wiktionary_lemma[mask].member.str.replace('Indefinitpronomen','')"
   ]
  },
  {
   "cell_type": "code",
   "execution_count": 367,
   "metadata": {},
   "outputs": [
    {
     "name": "stdout",
     "output_type": "stream",
     "text": [
      "check_mask:  243 rows\n",
      "time: 127 ms\n"
     ]
    }
   ],
   "source": [
    "# redundantes Interjektion\n",
    "mask = wiktionary_lemma.member.str.contains('Interjektion')   &   ( wiktionary_lemma.tag_0.isin(['ITJ']) | wiktionary_lemma.tag_1.isin(['ITJ']) )\n",
    "check_mask( wiktionary_lemma, mask )\n",
    "wiktionary_lemma.loc[ mask, 'member' ] = wiktionary_lemma[mask].member.str.replace('Interjektion','')"
   ]
  },
  {
   "cell_type": "code",
   "execution_count": 368,
   "metadata": {},
   "outputs": [
    {
     "name": "stdout",
     "output_type": "stream",
     "text": [
      "check_mask:  1500 rows\n",
      "time: 174 ms\n"
     ]
    }
   ],
   "source": [
    "# redundantes Adverb\n",
    "mask = wiktionary_lemma.member.str.contains('Adverb')   &   ( wiktionary_lemma.tag_0.isin(['ADV']) | wiktionary_lemma.tag_1.isin(['ADV']) )\n",
    "check_mask( wiktionary_lemma, mask )\n",
    "wiktionary_lemma.loc[ mask, 'member' ] = wiktionary_lemma[mask].member.str.replace('Adverb','')"
   ]
  },
  {
   "cell_type": "code",
   "execution_count": 369,
   "metadata": {},
   "outputs": [
    {
     "name": "stdout",
     "output_type": "stream",
     "text": [
      "check_mask:  56 rows\n",
      "time: 128 ms\n"
     ]
    }
   ],
   "source": [
    "# redundantes Subjunktion\n",
    "mask = wiktionary_lemma.member.str.contains('Subjunktion')   &   ( wiktionary_lemma.tag_0.isin(['KOUS']) | wiktionary_lemma.tag_1.isin(['KOUS']) )\n",
    "check_mask( wiktionary_lemma, mask )\n",
    "wiktionary_lemma.loc[ mask, 'member' ] = wiktionary_lemma[mask].member.str.replace('Subjunktion','')"
   ]
  },
  {
   "cell_type": "code",
   "execution_count": 370,
   "metadata": {},
   "outputs": [
    {
     "name": "stdout",
     "output_type": "stream",
     "text": [
      "check_mask:  32 rows\n",
      "time: 127 ms\n"
     ]
    }
   ],
   "source": [
    "# redundantes Personalpronomen\n",
    "mask = wiktionary_lemma.member.str.contains('Personalpronomen')   &   ( wiktionary_lemma.tag_0.isin(['PPER']) | wiktionary_lemma.tag_1.isin(['PPER']) )\n",
    "check_mask( wiktionary_lemma, mask )\n",
    "wiktionary_lemma.loc[ mask, 'member' ] = wiktionary_lemma[mask].member.str.replace('Personalpronomen','')"
   ]
  },
  {
   "cell_type": "code",
   "execution_count": 371,
   "metadata": {},
   "outputs": [
    {
     "name": "stdout",
     "output_type": "stream",
     "text": [
      "check_mask:  32 rows\n",
      "time: 125 ms\n"
     ]
    }
   ],
   "source": [
    "# redundantes Demonstrativpronomen\n",
    "mask = wiktionary_lemma.member.str.contains('Demonstrativpronomen')   &   ( wiktionary_lemma.tag_0.isin(['PDAT']) | wiktionary_lemma.tag_1.isin(['PDAT']) )\n",
    "check_mask( wiktionary_lemma, mask )\n",
    "wiktionary_lemma.loc[ mask, 'member' ] = wiktionary_lemma[mask].member.str.replace('Demonstrativpronomen','')"
   ]
  },
  {
   "cell_type": "code",
   "execution_count": 372,
   "metadata": {},
   "outputs": [
    {
     "name": "stdout",
     "output_type": "stream",
     "text": [
      "check_mask:  16 rows\n",
      "time: 127 ms\n"
     ]
    }
   ],
   "source": [
    "# redundantes Artikel\n",
    "mask = wiktionary_lemma.member.str.contains('Artikel')   &   ( wiktionary_lemma.tag_0.isin(['ART']) | wiktionary_lemma.tag_1.isin(['ART']) )\n",
    "check_mask( wiktionary_lemma, mask )\n",
    "wiktionary_lemma.loc[ mask, 'member' ] = wiktionary_lemma[mask].member.str.replace('Artikel','')"
   ]
  },
  {
   "cell_type": "code",
   "execution_count": 373,
   "metadata": {},
   "outputs": [
    {
     "name": "stdout",
     "output_type": "stream",
     "text": [
      "check_mask:  12 rows\n",
      "time: 142 ms\n"
     ]
    }
   ],
   "source": [
    "# redundantes Postposition\n",
    "mask = wiktionary_lemma.member.str.contains('Postposition')   &   ( wiktionary_lemma.tag_0.isin(['APPO']) | wiktionary_lemma.tag_1.isin(['APPO']) )\n",
    "check_mask( wiktionary_lemma, mask )\n",
    "wiktionary_lemma.loc[ mask, 'member' ] = wiktionary_lemma[mask].member.str.replace('Postposition','')"
   ]
  },
  {
   "cell_type": "code",
   "execution_count": 374,
   "metadata": {},
   "outputs": [
    {
     "name": "stdout",
     "output_type": "stream",
     "text": [
      "check_mask:  10 rows\n",
      "time: 132 ms\n"
     ]
    }
   ],
   "source": [
    "# redundantes Relativpronomen\n",
    "mask = wiktionary_lemma.member.str.contains('Relativpronomen')   &   ( wiktionary_lemma.tag_0.isin(['PRELAT']) | wiktionary_lemma.tag_1.isin(['PRELAT']) )\n",
    "check_mask( wiktionary_lemma, mask )\n",
    "wiktionary_lemma.loc[ mask, 'member' ] = wiktionary_lemma[mask].member.str.replace('Relativpronomen','')"
   ]
  },
  {
   "cell_type": "code",
   "execution_count": 375,
   "metadata": {},
   "outputs": [
    {
     "name": "stdout",
     "output_type": "stream",
     "text": [
      "check_mask:  8 rows\n",
      "time: 128 ms\n"
     ]
    }
   ],
   "source": [
    "# redundantes Possessivpronomen\n",
    "mask = wiktionary_lemma.member.str.contains('Possessivpronomen')   &   ( wiktionary_lemma.tag_0.isin(['PPOSS']) | wiktionary_lemma.tag_1.isin(['PPOSS']) )\n",
    "check_mask( wiktionary_lemma, mask )\n",
    "wiktionary_lemma.loc[ mask, 'member' ] = wiktionary_lemma[mask].member.str.replace('Possessivpronomen','')"
   ]
  },
  {
   "cell_type": "code",
   "execution_count": 376,
   "metadata": {},
   "outputs": [
    {
     "name": "stdout",
     "output_type": "stream",
     "text": [
      "check_mask:  4 rows\n",
      "time: 133 ms\n"
     ]
    }
   ],
   "source": [
    "# redundantes Negationspartikel\n",
    "mask = wiktionary_lemma.member.str.contains('Negationspartikel')   &   ( wiktionary_lemma.tag_0.isin(['PTKNEG']) | wiktionary_lemma.tag_1.isin(['PTKNEG']) )\n",
    "check_mask( wiktionary_lemma, mask )\n",
    "wiktionary_lemma.loc[ mask, 'member' ] = wiktionary_lemma[mask].member.str.replace('Negationspartikel','')"
   ]
  },
  {
   "cell_type": "code",
   "execution_count": 377,
   "metadata": {},
   "outputs": [
    {
     "name": "stdout",
     "output_type": "stream",
     "text": [
      "check_mask:  4 rows\n",
      "time: 124 ms\n"
     ]
    }
   ],
   "source": [
    "# redundantes Interrogativpronomen\n",
    "mask = wiktionary_lemma.member.str.contains('Interrogativpronomen')   &   ( wiktionary_lemma.tag_0.isin(['PWAT']) | wiktionary_lemma.tag_1.isin(['PWAT']) )\n",
    "check_mask( wiktionary_lemma, mask )\n",
    "wiktionary_lemma.loc[ mask, 'member' ] = wiktionary_lemma[mask].member.str.replace('Interrogativpronomen','')"
   ]
  },
  {
   "cell_type": "code",
   "execution_count": 378,
   "metadata": {},
   "outputs": [
    {
     "name": "stdout",
     "output_type": "stream",
     "text": [
      "check_mask:  1392 rows\n",
      "time: 127 ms\n"
     ]
    }
   ],
   "source": [
    "# falsches noPl (das betrifft vorwiegend NE-Datensätze)\n",
    "mask = wiktionary_lemma.member.str.contains('noPl')   &   ~wiktionary_lemma.tag_0.isin(['NN','TODO',])   &   ~wiktionary_lemma.tagZZ.isin(['P'])\n",
    "check_mask(wiktionary_lemma,mask)\n",
    "wiktionary_lemma.loc[mask,'member'] = wiktionary_lemma[mask].member.str.replace('noPl','')\n",
    "#grid( wiktionary_lemma, mask )"
   ]
  },
  {
   "cell_type": "code",
   "execution_count": 379,
   "metadata": {},
   "outputs": [
    {
     "name": "stdout",
     "output_type": "stream",
     "text": [
      "check_mask:  3 rows\n",
      "time: 123 ms\n"
     ]
    }
   ],
   "source": [
    "# falsches noSg\n",
    "mask = wiktionary_lemma.member.str.contains('noSg')   &   ~wiktionary_lemma.tag_0.isin(['NN','NE','TODO','PPER'])\n",
    "check_mask(wiktionary_lemma,mask,0,20)\n",
    "wiktionary_lemma.loc[mask,'member'] = wiktionary_lemma[mask].member.str.replace('noSg','')\n",
    "#grid( wiktionary_lemma, mask )"
   ]
  },
  {
   "cell_type": "code",
   "execution_count": 380,
   "metadata": {},
   "outputs": [
    {
     "name": "stdout",
     "output_type": "stream",
     "text": [
      "check_mask:  22 rows\n",
      "time: 112 ms\n"
     ]
    }
   ],
   "source": [
    "# falsches noSteig\n",
    "mask = wiktionary_lemma.member.str.contains('noSteig')   &   ~wiktionary_lemma.tag_0.isin(['ADJA'])\n",
    "check_mask(wiktionary_lemma,mask, 0, 30)\n",
    "wiktionary_lemma.loc[mask,'member'] = wiktionary_lemma[mask].member.str.replace('noSteig','')"
   ]
  },
  {
   "cell_type": "code",
   "execution_count": 381,
   "metadata": {},
   "outputs": [
    {
     "name": "stdout",
     "output_type": "stream",
     "text": [
      "check_mask:  2 rows\n",
      "time: 114 ms\n"
     ]
    }
   ],
   "source": [
    "# falsches noFlex\n",
    "mask = wiktionary_lemma.member.str.contains('noFlex')   &   ~wiktionary_lemma.tagZ.isin(['ADJ',])\n",
    "check_mask( wiktionary_lemma, mask, 0, 9 )\n",
    "wiktionary_lemma.loc[ mask, 'member' ] = wiktionary_lemma[mask].member.str.replace('noFlex','')"
   ]
  },
  {
   "cell_type": "code",
   "execution_count": 382,
   "metadata": {},
   "outputs": [
    {
     "name": "stdout",
     "output_type": "stream",
     "text": [
      "check_mask:  29 rows\n",
      "time: 112 ms\n"
     ]
    }
   ],
   "source": [
    "# falsches Interjektion\n",
    "mask = wiktionary_lemma.member.str.contains('Interjektion')  &   wiktionary_lemma.tag_0.isin(['PTKANT',])\n",
    "check_mask( wiktionary_lemma, mask, 0, 60 )\n",
    "wiktionary_lemma.loc[ mask, 'member' ] = wiktionary_lemma[mask].member.str.replace('Interjektion','')"
   ]
  },
  {
   "cell_type": "code",
   "execution_count": 383,
   "metadata": {},
   "outputs": [
    {
     "name": "stdout",
     "output_type": "stream",
     "text": [
      "check_mask:  4 rows\n",
      "time: 128 ms\n"
     ]
    }
   ],
   "source": [
    "# falsches Präfix\n",
    "mask = wiktionary_lemma.member.str.contains('Präfix')   &   ~wiktionary_lemma.tagZ.isin(['FIX',])\n",
    "check_mask( wiktionary_lemma, mask, 0, 9 )\n",
    "wiktionary_lemma.loc[ mask, 'member' ] = wiktionary_lemma[mask].member.str.replace('Präfix','')"
   ]
  },
  {
   "cell_type": "code",
   "execution_count": 384,
   "metadata": {},
   "outputs": [
    {
     "name": "stdout",
     "output_type": "stream",
     "text": [
      "check_mask:  167 rows\n",
      "time: 123 ms\n"
     ]
    }
   ],
   "source": [
    "# Taxonomie >> Spezies\n",
    "mask = wiktionary_lemma.member.str.contains('Taxonomie')   &   (wiktionary_lemma.tagZZ == 'N') \n",
    "check_mask( wiktionary_lemma, mask, 0, 200 )\n",
    "wiktionary_lemma.loc[ mask, 'member' ] = wiktionary_lemma[mask].member.str.replace('Taxonomie','Spezies')"
   ]
  },
  {
   "cell_type": "code",
   "execution_count": 385,
   "metadata": {},
   "outputs": [
    {
     "name": "stdout",
     "output_type": "stream",
     "text": [
      "check_mask:  1 rows\n",
      "time: 130 ms\n"
     ]
    }
   ],
   "source": [
    "# falsches Vorname\n",
    "mask = wiktionary_lemma.member.str.contains('Person_vorname')   &   ~wiktionary_lemma.tag_0.isin(['NE'])\n",
    "check_mask( wiktionary_lemma, mask, 0, 9 )\n",
    "wiktionary_lemma.loc[ mask, 'member' ] = wiktionary_lemma[mask].member.str.replace('Person_vorname','')\n",
    "#grid( wiktionary_lemma, mask )"
   ]
  },
  {
   "cell_type": "code",
   "execution_count": 386,
   "metadata": {},
   "outputs": [
    {
     "name": "stdout",
     "output_type": "stream",
     "text": [
      "time: 437 ms\n"
     ]
    }
   ],
   "source": [
    "# Streichungen im member       \n",
    "member_removes = [ 'Numerale', 'Pronomen', 'noWortart', 'Hilfsverb', 'Taxonomie', 'Geflügeltes_Wort', ] \n",
    "\n",
    "wiktionary_lemma.loc[:,'member'] = pak.remove_str(wiktionary_lemma.member, member_removes)"
   ]
  },
  {
   "cell_type": "markdown",
   "metadata": {},
   "source": [
    "### member prüfen"
   ]
  },
  {
   "cell_type": "code",
   "execution_count": 387,
   "metadata": {},
   "outputs": [
    {
     "name": "stdout",
     "output_type": "stream",
     "text": [
      "time: 6.43 s\n"
     ]
    }
   ],
   "source": [
    "# alle member in den realen Daten zusammensammeln\n",
    "\n",
    "a = pak.analyse_freqs(wiktionary_lemma, ['member','tag'], splits=[' ', None] )\n",
    "#grid(a)\n",
    "\n",
    "b = pak.analyse_freqs(wiktionary_nolemma, ['member','tag'], splits=[' ', None] )\n",
    "#grid(b)\n",
    "\n",
    "# Member lt. Steuertabelle und lt. Realität\n",
    "member_plan = set(priorität_member)\n",
    "member_data1 = set(a.member)\n",
    "member_data2 = set(b.member)\n",
    "member_data  = member_data1.union(member_data2)\n",
    "#member_data"
   ]
  },
  {
   "cell_type": "code",
   "execution_count": 388,
   "metadata": {},
   "outputs": [
    {
     "data": {
      "text/html": [
       "<img src onerror=\"var cell = this.closest('.jp-CodeCell');var editor = cell.querySelector('.jp-Editor');editor.style.background='orange';this.parentNode.removeChild(this)\">"
      ],
      "text/plain": [
       "<IPython.core.display.HTML object>"
      ]
     },
     "metadata": {},
     "output_type": "display_data"
    },
    {
     "data": {
      "text/plain": [
       "{'Aufzählung',\n",
       " 'Formel',\n",
       " 'Interfix',\n",
       " 'Interrogativpronomen',\n",
       " 'Negationspartikel',\n",
       " 'Personalpronomen',\n",
       " 'Possessivpronomen',\n",
       " 'Postposition',\n",
       " 'Reziprokpronomen',\n",
       " 'Sprichwort',\n",
       " 'Subjunktion',\n",
       " 'Vergleichspartikel',\n",
       " 'oid'}"
      ]
     },
     "execution_count": 388,
     "metadata": {},
     "output_type": "execute_result"
    },
    {
     "name": "stdout",
     "output_type": "stream",
     "text": [
      "time: 35.1 ms\n"
     ]
    }
   ],
   "source": [
    "# TODO_MEMBER_ÜBERPRÜFEN: Diese Member überprüfen, Wo sind sie geblieben?\n",
    "# alle in der Steuertabelle priorität_member erfassten Member kommen in wiktionary_lemma tatsächlich vor\n",
    "# Ausnahmen: \n",
    "#assert \n",
    "bgc('orange')\n",
    "merkmale_und_member_data = member_data.union(merkmale_data)\n",
    "result = member_plan.difference(merkmale_und_member_data)\n",
    "result -= {'Partizip_1','Partizip_2','Partizip_I','Partizip_II','Interjektion'}\n",
    "result -= set(member_removes)\n",
    "result -= set(member_replaces.keys())\n",
    "result"
   ]
  },
  {
   "cell_type": "code",
   "execution_count": 389,
   "metadata": {},
   "outputs": [
    {
     "name": "stdout",
     "output_type": "stream",
     "text": [
      "time: 35.9 ms\n"
     ]
    }
   ],
   "source": [
    "# alle Merkmale in wiktionary_merkmal sollten in der Steuertabelle plan_merkmal erfasst sein.\n",
    "fehlende_merkmale = member_data.difference(member_plan) - {''}\n",
    "assert len(fehlende_merkmale) == 0 "
   ]
  },
  {
   "cell_type": "code",
   "execution_count": 390,
   "metadata": {},
   "outputs": [
    {
     "data": {
      "text/plain": [
       "set()"
      ]
     },
     "execution_count": 390,
     "metadata": {},
     "output_type": "execute_result"
    },
    {
     "name": "stdout",
     "output_type": "stream",
     "text": [
      "time: 43.3 ms\n"
     ]
    }
   ],
   "source": [
    "fehlende_merkmale"
   ]
  },
  {
   "cell_type": "code",
   "execution_count": 391,
   "metadata": {},
   "outputs": [
    {
     "name": "stdout",
     "output_type": "stream",
     "text": [
      "time: 55.5 ms\n"
     ]
    }
   ],
   "source": [
    "#mask = wiktionary_lemma.member.str.contains(' Person_')\n",
    "#grid(wiktionary_lemma,mask)"
   ]
  },
  {
   "cell_type": "code",
   "execution_count": 392,
   "metadata": {},
   "outputs": [
    {
     "name": "stdout",
     "output_type": "stream",
     "text": [
      "7 rows out of 4987888\n"
     ]
    },
    {
     "data": {
      "text/html": [
       "\n",
       "        <iframe\n",
       "            width=\"100%\"\n",
       "            height=\"475\"\n",
       "            src=\"http://pop-os:40000/dtale/iframe/67\"\n",
       "            frameborder=\"0\"\n",
       "            allowfullscreen\n",
       "            \n",
       "        ></iframe>\n",
       "        "
      ],
      "text/plain": [
       "<IPython.lib.display.IFrame at 0x7f103f214a30>"
      ]
     },
     "metadata": {},
     "output_type": "display_data"
    },
    {
     "data": {
      "text/plain": []
     },
     "execution_count": 392,
     "metadata": {},
     "output_type": "execute_result"
    },
    {
     "name": "stdout",
     "output_type": "stream",
     "text": [
      "time: 785 ms\n"
     ]
    }
   ],
   "source": [
    "# Beispiel anzeigen \n",
    "mask = (wiktionary_merkmal.section_id2 == suche_debug[0])\n",
    "grid(wiktionary_merkmal,mask)"
   ]
  },
  {
   "cell_type": "markdown",
   "metadata": {},
   "source": [
    "### wiktionary_lemma pflegen und prüfen\n",
    "* Diverse Pflegeschritte"
   ]
  },
  {
   "cell_type": "code",
   "execution_count": 393,
   "metadata": {},
   "outputs": [
    {
     "name": "stdout",
     "output_type": "stream",
     "text": [
      "check_mask:  293 rows\n",
      "time: 748 ms\n"
     ]
    }
   ],
   "source": [
    "# lemma_lower, isupper, lemma_len\n",
    "wiktionary_lemma = ergänze_felder(wiktionary_lemma)"
   ]
  },
  {
   "cell_type": "code",
   "execution_count": 394,
   "metadata": {},
   "outputs": [
    {
     "name": "stdout",
     "output_type": "stream",
     "text": [
      "page_id\n",
      "page_part\n",
      "section_id2\n",
      "lemma\n",
      "lemma_lower\n",
      "isupper\n",
      "lemma_len\n",
      "tag\n",
      "tag_0\n",
      "tag_1\n",
      "tagZ\n",
      "tagZZ\n",
      "member\n",
      "score\n",
      "data_id\n",
      "time: 627 ms\n"
     ]
    }
   ],
   "source": [
    "# Eindeutige Datentypen\n",
    "for col in wiktionary_lemma.columns:\n",
    "    print(col)\n",
    "    if col in ['num','error']:\n",
    "        continue\n",
    "    assert pak.ntypes(wiktionary_lemma[col]) == 1"
   ]
  },
  {
   "cell_type": "code",
   "execution_count": 395,
   "metadata": {},
   "outputs": [
    {
     "name": "stdout",
     "output_type": "stream",
     "text": [
      "1 rows\n"
     ]
    },
    {
     "data": {
      "text/html": [
       "\n",
       "        <iframe\n",
       "            width=\"100%\"\n",
       "            height=\"475\"\n",
       "            src=\"http://pop-os:40000/dtale/iframe/68\"\n",
       "            frameborder=\"0\"\n",
       "            allowfullscreen\n",
       "            \n",
       "        ></iframe>\n",
       "        "
      ],
      "text/plain": [
       "<IPython.lib.display.IFrame at 0x7f103f214a30>"
      ]
     },
     "metadata": {},
     "output_type": "display_data"
    },
    {
     "data": {
      "text/plain": []
     },
     "execution_count": 395,
     "metadata": {},
     "output_type": "execute_result"
    },
    {
     "name": "stdout",
     "output_type": "stream",
     "text": [
      "time: 1.18 s\n"
     ]
    }
   ],
   "source": [
    "# Keine unbekannten tags\n",
    "a = pak.analyse_freqs(wiktionary_lemma, ['tag'], splits=[' '])\n",
    "mask = ~a.tag.isin(alle_tags)\n",
    "#check_mask( a, mask, 0)\n",
    "grid(a[mask])"
   ]
  },
  {
   "cell_type": "code",
   "execution_count": 396,
   "metadata": {},
   "outputs": [
    {
     "name": "stdout",
     "output_type": "stream",
     "text": [
      "\u001b[1m\u001b[7m\u001b[32mNo rows, mask filters them all away\u001b[0m\n",
      "time: 145 ms\n"
     ]
    }
   ],
   "source": [
    "# finden\n",
    "mask = wiktionary_lemma.tag == 'NELAT'\n",
    "grid(wiktionary_lemma, mask, color='green')"
   ]
  },
  {
   "cell_type": "code",
   "execution_count": 397,
   "metadata": {},
   "outputs": [
    {
     "name": "stdout",
     "output_type": "stream",
     "text": [
      "time: 58.6 ms\n"
     ]
    }
   ],
   "source": [
    "# NaN\n",
    "wiktionary_lemma['page_id']   = wiktionary_lemma.page_id.fillna(-1) \n",
    "wiktionary_lemma['page_part'] = wiktionary_lemma.page_part.fillna(-1) "
   ]
  },
  {
   "cell_type": "markdown",
   "metadata": {},
   "source": [
    "## Letzte Pflegeschritte"
   ]
  },
  {
   "cell_type": "code",
   "execution_count": 398,
   "metadata": {},
   "outputs": [
    {
     "name": "stdout",
     "output_type": "stream",
     "text": [
      "time: 547 ms\n"
     ]
    }
   ],
   "source": [
    "wiktionary_lemma        = pak.reset_index( wiktionary_lemma.sort_values('section_id2') )"
   ]
  },
  {
   "cell_type": "code",
   "execution_count": 399,
   "metadata": {},
   "outputs": [
    {
     "name": "stdout",
     "output_type": "stream",
     "text": [
      "time: 1.01 s\n"
     ]
    }
   ],
   "source": [
    "wiktionary_nolemma      = pak.drop_cols(wiktionary_nolemma,['lang','lang_code','error'])\n",
    "wiktionary_nolemma      = pak.move_cols(wiktionary_nolemma,'lemma_lower','lemma')"
   ]
  },
  {
   "cell_type": "code",
   "execution_count": 400,
   "metadata": {},
   "outputs": [
    {
     "name": "stdout",
     "output_type": "stream",
     "text": [
      "update_col: func max applied, 2671 records less!\n",
      "update_col: 2683190 cells written into new column\n",
      "update_col: func max applied, but it was pointless!\n",
      "update_col: 2304380 cells written into existing column\n",
      "time: 35.8 s\n"
     ]
    }
   ],
   "source": [
    "# score übertragen\n",
    "wiktionary_merkmal = pak.update_col(df_to=wiktionary_merkmal, df_from=wiktionary_lemma, on='section_id2',col='score', func='max')\n",
    "wiktionary_merkmal = pak.update_col(df_to=wiktionary_merkmal, df_from=wiktionary_nolemma, left_on='section_id2', right_on='nolemma_id', col='score', func='max', cond='null')"
   ]
  },
  {
   "cell_type": "code",
   "execution_count": 401,
   "metadata": {},
   "outputs": [
    {
     "name": "stdout",
     "output_type": "stream",
     "text": [
      "check_mask:  0 rows\n",
      "check_mask:  0 rows\n",
      "check_mask:  0 rows\n",
      "time: 2.4 s\n"
     ]
    }
   ],
   "source": [
    "# Keine Leerzeichen in der ID\n",
    "mask = wiktionary_lemma.section_id2.str.contains(' ')\n",
    "check_mask(wiktionary_lemma,mask,0)\n",
    "\n",
    "mask = wiktionary_nolemma.nolemma_id.str.contains(' ')\n",
    "check_mask(wiktionary_nolemma,mask,0)\n",
    "\n",
    "mask = wiktionary_merkmal.section_id2.str.contains(' ')\n",
    "check_mask(wiktionary_merkmal,mask,0)"
   ]
  },
  {
   "cell_type": "markdown",
   "metadata": {},
   "source": [
    "## Löschliste nochmal"
   ]
  },
  {
   "cell_type": "code",
   "execution_count": 402,
   "metadata": {},
   "outputs": [
    {
     "name": "stdout",
     "output_type": "stream",
     "text": [
      "No rows moved\n",
      "\u001b[1m\u001b[7m\u001b[34mNo rows, mask filters them all away\u001b[0m\n",
      "time: 62.7 ms\n"
     ]
    }
   ],
   "source": [
    "# wiktionary_lemma belöschen nach section_id2\n",
    "mask = wiktionary_lemma.section_id2.isin(löschliste_section_id2)   \n",
    "wiktionary_lemma, wiktionary_lemma_trash = pak.move_rows( df_from=wiktionary_lemma, df_to=wiktionary_lemma_trash, mask=mask, msg='löschliste_B1' )       # Löschen\n",
    "\n",
    "mask = wiktionary_lemma_trash.msg == 'löschliste_B1'\n",
    "grid(wiktionary_lemma_trash,mask)"
   ]
  },
  {
   "cell_type": "code",
   "execution_count": 403,
   "metadata": {},
   "outputs": [
    {
     "name": "stdout",
     "output_type": "stream",
     "text": [
      "Move 5 rows from 168022\n",
      "5 rows out of 14\n"
     ]
    },
    {
     "data": {
      "text/html": [
       "\n",
       "        <iframe\n",
       "            width=\"100%\"\n",
       "            height=\"475\"\n",
       "            src=\"http://pop-os:40000/dtale/iframe/69\"\n",
       "            frameborder=\"0\"\n",
       "            allowfullscreen\n",
       "            \n",
       "        ></iframe>\n",
       "        "
      ],
      "text/plain": [
       "<IPython.lib.display.IFrame at 0x7f11106fd0d0>"
      ]
     },
     "metadata": {},
     "output_type": "display_data"
    },
    {
     "data": {
      "text/plain": []
     },
     "execution_count": 403,
     "metadata": {},
     "output_type": "execute_result"
    },
    {
     "name": "stdout",
     "output_type": "stream",
     "text": [
      "time: 341 ms\n"
     ]
    }
   ],
   "source": [
    "# wiktionary_lemma belöschen nach lex\n",
    "mask = wiktionary_lemma.lemma.isin(löschliste_lex)   \n",
    "wiktionary_lemma, wiktionary_lemma_trash = pak.move_rows( df_from=wiktionary_lemma, df_to=wiktionary_lemma_trash, mask=mask, msg='löschliste_B2' )       # Löschen\n",
    "\n",
    "mask = wiktionary_lemma_trash.msg == 'löschliste_B2'\n",
    "grid(wiktionary_lemma_trash,mask)"
   ]
  },
  {
   "cell_type": "code",
   "execution_count": 404,
   "metadata": {},
   "outputs": [
    {
     "name": "stdout",
     "output_type": "stream",
     "text": [
      "Move 388 rows from 645237\n",
      "388 rows\n"
     ]
    },
    {
     "data": {
      "text/html": [
       "\n",
       "        <iframe\n",
       "            width=\"100%\"\n",
       "            height=\"475\"\n",
       "            src=\"http://pop-os:40000/dtale/iframe/70\"\n",
       "            frameborder=\"0\"\n",
       "            allowfullscreen\n",
       "            \n",
       "        ></iframe>\n",
       "        "
      ],
      "text/plain": [
       "<IPython.lib.display.IFrame at 0x7f103e4fa820>"
      ]
     },
     "metadata": {},
     "output_type": "display_data"
    },
    {
     "data": {
      "text/plain": []
     },
     "execution_count": 404,
     "metadata": {},
     "output_type": "execute_result"
    },
    {
     "name": "stdout",
     "output_type": "stream",
     "text": [
      "time: 1.12 s\n"
     ]
    }
   ],
   "source": [
    "# wiktionary_nolemma belöschen nach lex\n",
    "mask = wiktionary_nolemma.lemma.isin(löschliste_lex)   \n",
    "wiktionary_nolemma, wiktionary_nolemma_trash = pak.move_rows( df_from=wiktionary_nolemma, df_to=wiktionary_nolemma_trash, mask=mask, msg='löschliste_B3' ) \n",
    "\n",
    "mask = wiktionary_nolemma_trash.msg == 'löschliste_B3'\n",
    "grid(wiktionary_nolemma_trash,mask)"
   ]
  },
  {
   "cell_type": "code",
   "execution_count": 405,
   "metadata": {},
   "outputs": [
    {
     "name": "stdout",
     "output_type": "stream",
     "text": [
      "No rows moved\n",
      "\u001b[1m\u001b[7m\u001b[34mNo rows, mask filters them all away\u001b[0m\n",
      "time: 137 ms\n"
     ]
    }
   ],
   "source": [
    "# wiktionary_nolemma belöschen nach lex\n",
    "mask = wiktionary_nolemma.lex.isin(löschliste_lex)   \n",
    "wiktionary_nolemma, wiktionary_nolemma_trash = pak.move_rows( df_from=wiktionary_nolemma, df_to=wiktionary_nolemma_trash, mask=mask, msg='löschliste_B4' )\n",
    "\n",
    "mask = wiktionary_nolemma_trash.msg == 'löschliste_B4'\n",
    "grid(wiktionary_nolemma_trash,mask)"
   ]
  },
  {
   "cell_type": "code",
   "execution_count": 406,
   "metadata": {},
   "outputs": [
    {
     "name": "stdout",
     "output_type": "stream",
     "text": [
      "No rows moved\n",
      "\u001b[1m\u001b[7m\u001b[34mNo rows, mask filters them all away\u001b[0m\n",
      "time: 547 ms\n"
     ]
    }
   ],
   "source": [
    "# wiktionary_merkmal belöschen nach section_id2\n",
    "mask = wiktionary_merkmal.section_id2.isin(löschliste_section_id2) \n",
    "wiktionary_merkmal, wiktionary_merkmal_trash = pak.move_rows(df_from=wiktionary_merkmal, df_to=wiktionary_merkmal_trash, mask=mask, msg='löschliste_B5')\n",
    "\n",
    "mask = wiktionary_merkmal_trash.msg == 'löschliste_B5'\n",
    "grid(wiktionary_merkmal_trash,mask)"
   ]
  },
  {
   "cell_type": "code",
   "execution_count": 407,
   "metadata": {},
   "outputs": [
    {
     "name": "stdout",
     "output_type": "stream",
     "text": [
      "Move 40 rows from 4987888\n",
      "40 rows out of 71291\n"
     ]
    },
    {
     "data": {
      "text/html": [
       "\n",
       "        <iframe\n",
       "            width=\"100%\"\n",
       "            height=\"475\"\n",
       "            src=\"http://pop-os:40000/dtale/iframe/71\"\n",
       "            frameborder=\"0\"\n",
       "            allowfullscreen\n",
       "            \n",
       "        ></iframe>\n",
       "        "
      ],
      "text/plain": [
       "<IPython.lib.display.IFrame at 0x7f0fe022c760>"
      ]
     },
     "metadata": {},
     "output_type": "display_data"
    },
    {
     "data": {
      "text/plain": []
     },
     "execution_count": 407,
     "metadata": {},
     "output_type": "execute_result"
    },
    {
     "name": "stdout",
     "output_type": "stream",
     "text": [
      "time: 4.11 s\n"
     ]
    }
   ],
   "source": [
    "# wiktionary_merkmal belöschen nach lex\n",
    "mask = wiktionary_merkmal.data.isin(löschliste_lex) \n",
    "wiktionary_merkmal, wiktionary_merkmal_trash = pak.move_rows(df_from=wiktionary_merkmal, df_to=wiktionary_merkmal_trash, mask=mask, msg='löschliste_B6')\n",
    "\n",
    "mask = wiktionary_merkmal_trash.msg == 'löschliste_B6'\n",
    "grid(wiktionary_merkmal_trash,mask)"
   ]
  },
  {
   "cell_type": "markdown",
   "metadata": {},
   "source": [
    "## Prüfen"
   ]
  },
  {
   "cell_type": "code",
   "execution_count": 413,
   "metadata": {},
   "outputs": [
    {
     "name": "stdout",
     "output_type": "stream",
     "text": [
      "74 rows loaded\n",
      "Delete 17 rows from 74\n",
      "time: 1.47 s\n"
     ]
    }
   ],
   "source": [
    "# lex_test, lemma_test\n",
    "from x32_Funktionen import *\n",
    "lex_test, lemma_test = lade_lex_text( lex_test_filename, level=1 )\n",
    "#grid(lemma_test)"
   ]
  },
  {
   "cell_type": "code",
   "execution_count": 414,
   "metadata": {},
   "outputs": [
    {
     "name": "stdout",
     "output_type": "stream",
     "text": [
      "time: 3.09 s\n"
     ]
    }
   ],
   "source": [
    "# lemma_test\n",
    "from x32_Funktionen import *\n",
    "lemma_test = check_lemma_test(lemma_test, wiktionary_lemma)\n",
    "#lemma_test"
   ]
  },
  {
   "cell_type": "code",
   "execution_count": 415,
   "metadata": {},
   "outputs": [
    {
     "name": "stdout",
     "output_type": "stream",
     "text": [
      "check_mask:  0 rows\n"
     ]
    },
    {
     "data": {
      "text/html": [
       "<div>\n",
       "<style scoped>\n",
       "    .dataframe tbody tr th:only-of-type {\n",
       "        vertical-align: middle;\n",
       "    }\n",
       "\n",
       "    .dataframe tbody tr th {\n",
       "        vertical-align: top;\n",
       "    }\n",
       "\n",
       "    .dataframe thead th {\n",
       "        text-align: right;\n",
       "    }\n",
       "</style>\n",
       "<table border=\"1\" class=\"dataframe\">\n",
       "  <thead>\n",
       "    <tr style=\"text-align: right;\">\n",
       "      <th></th>\n",
       "      <th>level</th>\n",
       "      <th>lemma_id</th>\n",
       "      <th>lemma</th>\n",
       "      <th>tag_soll</th>\n",
       "      <th>tag_ist</th>\n",
       "      <th>member_soll</th>\n",
       "      <th>check_tag</th>\n",
       "      <th>member_ist</th>\n",
       "      <th>check_member</th>\n",
       "    </tr>\n",
       "  </thead>\n",
       "  <tbody>\n",
       "  </tbody>\n",
       "</table>\n",
       "</div>"
      ],
      "text/plain": [
       "Empty DataFrame\n",
       "Columns: [level, lemma_id, lemma, tag_soll, tag_ist, member_soll, check_tag, member_ist, check_member]\n",
       "Index: []"
      ]
     },
     "execution_count": 415,
     "metadata": {},
     "output_type": "execute_result"
    },
    {
     "name": "stdout",
     "output_type": "stream",
     "text": [
      "time: 49.6 ms\n"
     ]
    }
   ],
   "source": [
    "# Fehler\n",
    "maskA = lemma_test.lemma_id == ''\n",
    "maskB = lemma_test.check_tag == ''\n",
    "mask = maskA | maskB\n",
    "check_mask(lemma_test,mask)\n",
    "\n",
    "probleme = list(lemma_test[mask].lemma)\n",
    "lemma_test[mask]"
   ]
  },
  {
   "cell_type": "code",
   "execution_count": 416,
   "metadata": {},
   "outputs": [
    {
     "name": "stdout",
     "output_type": "stream",
     "text": [
      "check_mask:  0 rows\n",
      "time: 37.1 ms\n"
     ]
    }
   ],
   "source": [
    "# Sicherstellen: Keine Fehler\n",
    "check_mask(lemma_test,mask,0)"
   ]
  },
  {
   "cell_type": "markdown",
   "metadata": {},
   "source": [
    "## Speichern"
   ]
  },
  {
   "cell_type": "code",
   "execution_count": 417,
   "metadata": {},
   "outputs": [
    {
     "name": "stdout",
     "output_type": "stream",
     "text": [
      "check_mask:  0 rows\n",
      "time: 2.01 s\n"
     ]
    }
   ],
   "source": [
    "# Doppelspaces prüfen\n",
    "if gründlich:\n",
    "    mask = wiktionary_merkmal.data.str.contains('  ')\n",
    "    check_mask( wiktionary_merkmal, mask, 0)"
   ]
  },
  {
   "cell_type": "code",
   "execution_count": 418,
   "metadata": {},
   "outputs": [
    {
     "data": {
      "text/html": [
       "<div>\n",
       "<style scoped>\n",
       "    .dataframe tbody tr th:only-of-type {\n",
       "        vertical-align: middle;\n",
       "    }\n",
       "\n",
       "    .dataframe tbody tr th {\n",
       "        vertical-align: top;\n",
       "    }\n",
       "\n",
       "    .dataframe thead th {\n",
       "        text-align: right;\n",
       "    }\n",
       "</style>\n",
       "<table border=\"1\" class=\"dataframe\">\n",
       "  <thead>\n",
       "    <tr style=\"text-align: right;\">\n",
       "      <th></th>\n",
       "      <th>col_name</th>\n",
       "      <th>datatype_instance</th>\n",
       "      <th>datatype</th>\n",
       "      <th>datatype_short</th>\n",
       "      <th>datatype_suggest</th>\n",
       "      <th>is_numeric</th>\n",
       "      <th>is_string</th>\n",
       "      <th>is_hashable</th>\n",
       "      <th>nan_allowed</th>\n",
       "      <th>mem_usage</th>\n",
       "      <th>ntypes</th>\n",
       "      <th>nunique</th>\n",
       "      <th>nnan</th>\n",
       "      <th>ndups</th>\n",
       "      <th>n</th>\n",
       "      <th>vmin</th>\n",
       "      <th>vmean</th>\n",
       "      <th>vmedian</th>\n",
       "      <th>vmax</th>\n",
       "      <th>vsum</th>\n",
       "    </tr>\n",
       "  </thead>\n",
       "  <tbody>\n",
       "    <tr>\n",
       "      <th>0</th>\n",
       "      <td>__index__</td>\n",
       "      <td>int64</td>\n",
       "      <td>np.int64</td>\n",
       "      <td>int64</td>\n",
       "      <td>np.int32</td>\n",
       "      <td>True</td>\n",
       "      <td>False</td>\n",
       "      <td>True</td>\n",
       "      <td>False</td>\n",
       "      <td>80.0 B</td>\n",
       "      <td>1</td>\n",
       "      <td>4987848</td>\n",
       "      <td>0</td>\n",
       "      <td>0</td>\n",
       "      <td>4987848</td>\n",
       "      <td>0.0</td>\n",
       "      <td>2523699.05</td>\n",
       "      <td>2504937.50</td>\n",
       "      <td>5053293.0</td>\n",
       "      <td>1.258783e+13</td>\n",
       "    </tr>\n",
       "    <tr>\n",
       "      <th>1</th>\n",
       "      <td>section_id2</td>\n",
       "      <td>str</td>\n",
       "      <td>pd.string</td>\n",
       "      <td>string</td>\n",
       "      <td></td>\n",
       "      <td>False</td>\n",
       "      <td>True</td>\n",
       "      <td>True</td>\n",
       "      <td>True</td>\n",
       "      <td>762.0 B</td>\n",
       "      <td>1</td>\n",
       "      <td>810069</td>\n",
       "      <td>0</td>\n",
       "      <td>4177779</td>\n",
       "      <td>4987848</td>\n",
       "      <td>&amp;c.</td>\n",
       "      <td>NaN</td>\n",
       "      <td>NaN</td>\n",
       "      <td>μm</td>\n",
       "      <td>NaN</td>\n",
       "    </tr>\n",
       "    <tr>\n",
       "      <th>2</th>\n",
       "      <td>merkmal</td>\n",
       "      <td>str</td>\n",
       "      <td>pd.string</td>\n",
       "      <td>string</td>\n",
       "      <td></td>\n",
       "      <td>False</td>\n",
       "      <td>True</td>\n",
       "      <td>True</td>\n",
       "      <td>True</td>\n",
       "      <td>623.0 B</td>\n",
       "      <td>1</td>\n",
       "      <td>78</td>\n",
       "      <td>0</td>\n",
       "      <td>4987770</td>\n",
       "      <td>4987848</td>\n",
       "      <td>ADV</td>\n",
       "      <td>NaN</td>\n",
       "      <td>NaN</td>\n",
       "      <td>weib</td>\n",
       "      <td>NaN</td>\n",
       "    </tr>\n",
       "    <tr>\n",
       "      <th>3</th>\n",
       "      <td>data</td>\n",
       "      <td>str</td>\n",
       "      <td>pd.string</td>\n",
       "      <td>string</td>\n",
       "      <td></td>\n",
       "      <td>False</td>\n",
       "      <td>True</td>\n",
       "      <td>True</td>\n",
       "      <td>True</td>\n",
       "      <td>984.0 B</td>\n",
       "      <td>1</td>\n",
       "      <td>2247518</td>\n",
       "      <td>0</td>\n",
       "      <td>2740330</td>\n",
       "      <td>4987848</td>\n",
       "      <td></td>\n",
       "      <td>NaN</td>\n",
       "      <td>NaN</td>\n",
       "      <td>𒄿𒌑𒃷</td>\n",
       "      <td>NaN</td>\n",
       "    </tr>\n",
       "    <tr>\n",
       "      <th>4</th>\n",
       "      <td>num</td>\n",
       "      <td>str</td>\n",
       "      <td>pd.string</td>\n",
       "      <td>string</td>\n",
       "      <td></td>\n",
       "      <td>False</td>\n",
       "      <td>True</td>\n",
       "      <td>True</td>\n",
       "      <td>True</td>\n",
       "      <td>489.0 B</td>\n",
       "      <td>1</td>\n",
       "      <td>222</td>\n",
       "      <td>2912278</td>\n",
       "      <td>2075348</td>\n",
       "      <td>4987848</td>\n",
       "      <td></td>\n",
       "      <td>NaN</td>\n",
       "      <td>NaN</td>\n",
       "      <td>9,14</td>\n",
       "      <td>NaN</td>\n",
       "    </tr>\n",
       "    <tr>\n",
       "      <th>5</th>\n",
       "      <td>meta</td>\n",
       "      <td>str</td>\n",
       "      <td>pd.string</td>\n",
       "      <td>string</td>\n",
       "      <td></td>\n",
       "      <td>False</td>\n",
       "      <td>True</td>\n",
       "      <td>True</td>\n",
       "      <td>True</td>\n",
       "      <td>587.0 B</td>\n",
       "      <td>1</td>\n",
       "      <td>16466</td>\n",
       "      <td>0</td>\n",
       "      <td>4971382</td>\n",
       "      <td>4987848</td>\n",
       "      <td></td>\n",
       "      <td>NaN</td>\n",
       "      <td>NaN</td>\n",
       "      <td>übrige</td>\n",
       "      <td>NaN</td>\n",
       "    </tr>\n",
       "    <tr>\n",
       "      <th>6</th>\n",
       "      <td>data_id</td>\n",
       "      <td>str</td>\n",
       "      <td>pd.string</td>\n",
       "      <td>string</td>\n",
       "      <td></td>\n",
       "      <td>False</td>\n",
       "      <td>True</td>\n",
       "      <td>True</td>\n",
       "      <td>True</td>\n",
       "      <td>570.0 B</td>\n",
       "      <td>1</td>\n",
       "      <td>26579</td>\n",
       "      <td>0</td>\n",
       "      <td>4961269</td>\n",
       "      <td>4987848</td>\n",
       "      <td></td>\n",
       "      <td>NaN</td>\n",
       "      <td>NaN</td>\n",
       "      <td>übriglassend</td>\n",
       "      <td>NaN</td>\n",
       "    </tr>\n",
       "    <tr>\n",
       "      <th>7</th>\n",
       "      <td>score</td>\n",
       "      <td>float64</td>\n",
       "      <td>np.float64</td>\n",
       "      <td>float64</td>\n",
       "      <td>np.float32</td>\n",
       "      <td>True</td>\n",
       "      <td>False</td>\n",
       "      <td>True</td>\n",
       "      <td>True</td>\n",
       "      <td>80.0 B</td>\n",
       "      <td>1</td>\n",
       "      <td>12043</td>\n",
       "      <td>316</td>\n",
       "      <td>4975489</td>\n",
       "      <td>4987848</td>\n",
       "      <td>0.21</td>\n",
       "      <td>6.87</td>\n",
       "      <td>3.21</td>\n",
       "      <td>320.85</td>\n",
       "      <td>3.428040e+07</td>\n",
       "    </tr>\n",
       "  </tbody>\n",
       "</table>\n",
       "</div>"
      ],
      "text/plain": [
       "      col_name datatype_instance    datatype datatype_short datatype_suggest  \\\n",
       "0    __index__             int64    np.int64          int64         np.int32   \n",
       "1  section_id2               str   pd.string         string                    \n",
       "2      merkmal               str   pd.string         string                    \n",
       "3         data               str   pd.string         string                    \n",
       "4          num               str   pd.string         string                    \n",
       "5         meta               str   pd.string         string                    \n",
       "6      data_id               str   pd.string         string                    \n",
       "7        score           float64  np.float64        float64       np.float32   \n",
       "\n",
       "   is_numeric  is_string  is_hashable  nan_allowed mem_usage  ntypes  nunique  \\\n",
       "0        True      False         True        False    80.0 B       1  4987848   \n",
       "1       False       True         True         True   762.0 B       1   810069   \n",
       "2       False       True         True         True   623.0 B       1       78   \n",
       "3       False       True         True         True   984.0 B       1  2247518   \n",
       "4       False       True         True         True   489.0 B       1      222   \n",
       "5       False       True         True         True   587.0 B       1    16466   \n",
       "6       False       True         True         True   570.0 B       1    26579   \n",
       "7        True      False         True         True    80.0 B       1    12043   \n",
       "\n",
       "      nnan    ndups        n  vmin       vmean     vmedian          vmax  \\\n",
       "0        0        0  4987848   0.0  2523699.05  2504937.50     5053293.0   \n",
       "1        0  4177779  4987848   &c.         NaN         NaN            μm   \n",
       "2        0  4987770  4987848   ADV         NaN         NaN          weib   \n",
       "3        0  2740330  4987848               NaN         NaN           𒄿𒌑𒃷   \n",
       "4  2912278  2075348  4987848               NaN         NaN          9,14   \n",
       "5        0  4971382  4987848               NaN         NaN        übrige   \n",
       "6        0  4961269  4987848               NaN         NaN  übriglassend   \n",
       "7      316  4975489  4987848  0.21        6.87        3.21        320.85   \n",
       "\n",
       "           vsum  \n",
       "0  1.258783e+13  \n",
       "1           NaN  \n",
       "2           NaN  \n",
       "3           NaN  \n",
       "4           NaN  \n",
       "5           NaN  \n",
       "6           NaN  \n",
       "7  3.428040e+07  "
      ]
     },
     "execution_count": 418,
     "metadata": {},
     "output_type": "execute_result"
    },
    {
     "name": "stdout",
     "output_type": "stream",
     "text": [
      "time: 27.1 s\n"
     ]
    }
   ],
   "source": [
    "pak.analyse_cols(wiktionary_merkmal)"
   ]
  },
  {
   "cell_type": "code",
   "execution_count": 419,
   "metadata": {},
   "outputs": [
    {
     "name": "stdout",
     "output_type": "stream",
     "text": [
      "time: 9.74 s\n"
     ]
    }
   ],
   "source": [
    "# wiktionary_merkmal: drop_duplicates\n",
    "wiktionary_merkmal = wiktionary_merkmal.drop_duplicates()"
   ]
  },
  {
   "cell_type": "code",
   "execution_count": 420,
   "metadata": {},
   "outputs": [
    {
     "name": "stdout",
     "output_type": "stream",
     "text": [
      "time: 29.3 ms\n"
     ]
    }
   ],
   "source": [
    "assert gründlich"
   ]
  },
  {
   "cell_type": "code",
   "execution_count": 421,
   "metadata": {},
   "outputs": [
    {
     "name": "stdout",
     "output_type": "stream",
     "text": [
      "time: 47.2 s\n"
     ]
    }
   ],
   "source": [
    "# Speichern  \n",
    "pak.dump_pickle(wiktionary_lemma,            wiktionary_lemma_filename_save)   \n",
    "pak.dump_pickle(wiktionary_nolemma,          wiktionary_nolemma_filename_save)  \n",
    "pak.dump_pickle(wiktionary_merkmal,          wiktionary_merkmal_filename_save) \n",
    "pak.dump_pickle(wiktionary_merkmal_text,     wiktionary_merkmal_text_filename_save)  \n",
    "os.utime(verzeichnis_save)"
   ]
  },
  {
   "cell_type": "code",
   "execution_count": 422,
   "metadata": {},
   "outputs": [
    {
     "data": {
      "text/html": [
       "<div>\n",
       "<style scoped>\n",
       "    .dataframe tbody tr th:only-of-type {\n",
       "        vertical-align: middle;\n",
       "    }\n",
       "\n",
       "    .dataframe tbody tr th {\n",
       "        vertical-align: top;\n",
       "    }\n",
       "\n",
       "    .dataframe thead th {\n",
       "        text-align: right;\n",
       "    }\n",
       "</style>\n",
       "<table border=\"1\" class=\"dataframe\">\n",
       "  <thead>\n",
       "    <tr style=\"text-align: right;\">\n",
       "      <th></th>\n",
       "      <th>name</th>\n",
       "      <th>rtype</th>\n",
       "      <th>size</th>\n",
       "    </tr>\n",
       "  </thead>\n",
       "  <tbody>\n",
       "    <tr>\n",
       "      <th>0</th>\n",
       "      <td>wiktionary_merkmal</td>\n",
       "      <td>(DataFrame, Series)</td>\n",
       "      <td>1.9 GB</td>\n",
       "    </tr>\n",
       "    <tr>\n",
       "      <th>1</th>\n",
       "      <td>flexion</td>\n",
       "      <td>(DataFrame, Series)</td>\n",
       "      <td>1.4 GB</td>\n",
       "    </tr>\n",
       "    <tr>\n",
       "      <th>2</th>\n",
       "      <td>wiktionary_nolemma</td>\n",
       "      <td>(DataFrame, Series)</td>\n",
       "      <td>437.1 MB</td>\n",
       "    </tr>\n",
       "    <tr>\n",
       "      <th>3</th>\n",
       "      <td>wiktionary_merkmal_text</td>\n",
       "      <td>(DataFrame, Series)</td>\n",
       "      <td>365.3 MB</td>\n",
       "    </tr>\n",
       "    <tr>\n",
       "      <th>4</th>\n",
       "      <td>wiktionary_lemma</td>\n",
       "      <td>(DataFrame, Series)</td>\n",
       "      <td>114.3 MB</td>\n",
       "    </tr>\n",
       "    <tr>\n",
       "      <th>5</th>\n",
       "      <td>_313</td>\n",
       "      <td>(DataFrame, Series)</td>\n",
       "      <td>113.5 MB</td>\n",
       "    </tr>\n",
       "    <tr>\n",
       "      <th>6</th>\n",
       "      <td>mask</td>\n",
       "      <td>(Series,)</td>\n",
       "      <td>47.6 MB</td>\n",
       "    </tr>\n",
       "    <tr>\n",
       "      <th>7</th>\n",
       "      <td>mask2</td>\n",
       "      <td>(Series,)</td>\n",
       "      <td>47.6 MB</td>\n",
       "    </tr>\n",
       "    <tr>\n",
       "      <th>8</th>\n",
       "      <td>mask3</td>\n",
       "      <td>(Series, bool)</td>\n",
       "      <td>42.9 MB</td>\n",
       "    </tr>\n",
       "    <tr>\n",
       "      <th>9</th>\n",
       "      <td>mask1</td>\n",
       "      <td>(Series, bool)</td>\n",
       "      <td>42.8 MB</td>\n",
       "    </tr>\n",
       "  </tbody>\n",
       "</table>\n",
       "</div>"
      ],
      "text/plain": [
       "                      name                rtype      size\n",
       "0       wiktionary_merkmal  (DataFrame, Series)    1.9 GB\n",
       "1                  flexion  (DataFrame, Series)    1.4 GB\n",
       "2       wiktionary_nolemma  (DataFrame, Series)  437.1 MB\n",
       "3  wiktionary_merkmal_text  (DataFrame, Series)  365.3 MB\n",
       "4         wiktionary_lemma  (DataFrame, Series)  114.3 MB\n",
       "5                     _313  (DataFrame, Series)  113.5 MB\n",
       "6                     mask            (Series,)   47.6 MB\n",
       "7                    mask2            (Series,)   47.6 MB\n",
       "8                    mask3       (Series, bool)   42.9 MB\n",
       "9                    mask1       (Series, bool)   42.8 MB"
      ]
     },
     "execution_count": 422,
     "metadata": {},
     "output_type": "execute_result"
    },
    {
     "name": "stdout",
     "output_type": "stream",
     "text": [
      "time: 6.97 s\n"
     ]
    }
   ],
   "source": [
    "pak.memory_consumption(locals())"
   ]
  },
  {
   "cell_type": "markdown",
   "metadata": {},
   "source": [
    "## Trash anschauen"
   ]
  },
  {
   "cell_type": "markdown",
   "metadata": {},
   "source": [
    "### wiktionary_trash"
   ]
  },
  {
   "cell_type": "code",
   "execution_count": 423,
   "metadata": {},
   "outputs": [
    {
     "name": "stdout",
     "output_type": "stream",
     "text": [
      "time: 29.5 ms\n"
     ]
    }
   ],
   "source": [
    "wiktionary_trash.msg = wiktionary_trash.msg.fillna('')"
   ]
  },
  {
   "cell_type": "code",
   "execution_count": 424,
   "metadata": {},
   "outputs": [
    {
     "name": "stdout",
     "output_type": "stream",
     "text": [
      "7 rows\n"
     ]
    },
    {
     "data": {
      "text/html": [
       "\n",
       "        <iframe\n",
       "            width=\"100%\"\n",
       "            height=\"475\"\n",
       "            src=\"http://pop-os:40000/dtale/iframe/73\"\n",
       "            frameborder=\"0\"\n",
       "            allowfullscreen\n",
       "            \n",
       "        ></iframe>\n",
       "        "
      ],
      "text/plain": [
       "<IPython.lib.display.IFrame at 0x7f0fb890e1f0>"
      ]
     },
     "metadata": {},
     "output_type": "display_data"
    },
    {
     "data": {
      "text/plain": []
     },
     "execution_count": 424,
     "metadata": {},
     "output_type": "execute_result"
    },
    {
     "name": "stdout",
     "output_type": "stream",
     "text": [
      "time: 132 ms\n"
     ]
    }
   ],
   "source": [
    "# Übersicht\n",
    "a = pak.analyse_freqs(wiktionary_trash, ['msg','member'], splits=[None,' '])\n",
    "grid(a)"
   ]
  },
  {
   "cell_type": "code",
   "execution_count": 425,
   "metadata": {},
   "outputs": [
    {
     "name": "stdout",
     "output_type": "stream",
     "text": [
      "4 rows out of 4309\n"
     ]
    },
    {
     "data": {
      "text/html": [
       "\n",
       "        <iframe\n",
       "            width=\"100%\"\n",
       "            height=\"475\"\n",
       "            src=\"http://pop-os:40000/dtale/iframe/74\"\n",
       "            frameborder=\"0\"\n",
       "            allowfullscreen\n",
       "            \n",
       "        ></iframe>\n",
       "        "
      ],
      "text/plain": [
       "<IPython.lib.display.IFrame at 0x7f0fd845e0a0>"
      ]
     },
     "metadata": {},
     "output_type": "display_data"
    },
    {
     "data": {
      "text/plain": []
     },
     "execution_count": 425,
     "metadata": {},
     "output_type": "execute_result"
    },
    {
     "name": "stdout",
     "output_type": "stream",
     "text": [
      "time: 243 ms\n"
     ]
    }
   ],
   "source": [
    "# Datensätze\n",
    "mask = (wiktionary_trash.msg == 'MFIX')\n",
    "grid( wiktionary_trash, mask )"
   ]
  },
  {
   "cell_type": "code",
   "execution_count": 426,
   "metadata": {},
   "outputs": [
    {
     "name": "stdout",
     "output_type": "stream",
     "text": [
      "\u001b[1m\u001b[7m\u001b[34mNo rows\u001b[0m\n",
      "time: 104 ms\n"
     ]
    }
   ],
   "source": [
    "# suche_debug\n",
    "grid(search_str(wiktionary_trash, suche_debug))"
   ]
  },
  {
   "cell_type": "markdown",
   "metadata": {},
   "source": [
    "### wiktionary_merkmal_trash"
   ]
  },
  {
   "cell_type": "code",
   "execution_count": 427,
   "metadata": {},
   "outputs": [
    {
     "name": "stdout",
     "output_type": "stream",
     "text": [
      "time: 99.3 ms\n"
     ]
    }
   ],
   "source": [
    "wiktionary_merkmal_trash.msg = wiktionary_merkmal_trash.msg.fillna('')"
   ]
  },
  {
   "cell_type": "code",
   "execution_count": 428,
   "metadata": {},
   "outputs": [
    {
     "name": "stdout",
     "output_type": "stream",
     "text": [
      "15 rows\n"
     ]
    },
    {
     "data": {
      "text/html": [
       "\n",
       "        <iframe\n",
       "            width=\"100%\"\n",
       "            height=\"475\"\n",
       "            src=\"http://pop-os:40000/dtale/iframe/75\"\n",
       "            frameborder=\"0\"\n",
       "            allowfullscreen\n",
       "            \n",
       "        ></iframe>\n",
       "        "
      ],
      "text/plain": [
       "<IPython.lib.display.IFrame at 0x7f0fafe68fa0>"
      ]
     },
     "metadata": {},
     "output_type": "display_data"
    },
    {
     "data": {
      "text/plain": []
     },
     "execution_count": 428,
     "metadata": {},
     "output_type": "execute_result"
    },
    {
     "name": "stdout",
     "output_type": "stream",
     "text": [
      "time: 444 ms\n"
     ]
    }
   ],
   "source": [
    "# Übersicht\n",
    "#a = pak.analyse_freqs(wiktionary_merkmal_trash, ['msg','merkmal', 'data', ])\n",
    "a = pak.analyse_freqs(wiktionary_merkmal_trash, ['msg','merkmal', 'data', ])\n",
    "a = pak.drop_cols(a, ['msg_percent','data_count'])\n",
    "grid(a,  max_column_width=300)"
   ]
  },
  {
   "cell_type": "code",
   "execution_count": 429,
   "metadata": {},
   "outputs": [
    {
     "name": "stdout",
     "output_type": "stream",
     "text": [
      "71291 rows\n"
     ]
    },
    {
     "data": {
      "text/html": [
       "\n",
       "        <iframe\n",
       "            width=\"100%\"\n",
       "            height=\"475\"\n",
       "            src=\"http://pop-os:40000/dtale/iframe/76\"\n",
       "            frameborder=\"0\"\n",
       "            allowfullscreen\n",
       "            \n",
       "        ></iframe>\n",
       "        "
      ],
      "text/plain": [
       "<IPython.lib.display.IFrame at 0x7f10365ee850>"
      ]
     },
     "metadata": {},
     "output_type": "display_data"
    },
    {
     "data": {
      "text/plain": []
     },
     "execution_count": 429,
     "metadata": {},
     "output_type": "execute_result"
    },
    {
     "name": "stdout",
     "output_type": "stream",
     "text": [
      "time: 723 ms\n"
     ]
    }
   ],
   "source": [
    "# Datensätze\n",
    "mask = (wiktionary_merkmal_trash.msg == 'data_endswith')\n",
    "grid( wiktionary_merkmal_trash)"
   ]
  },
  {
   "cell_type": "code",
   "execution_count": 430,
   "metadata": {},
   "outputs": [
    {
     "name": "stdout",
     "output_type": "stream",
     "text": [
      "1 rows out of 71291\n"
     ]
    },
    {
     "data": {
      "text/html": [
       "\n",
       "        <iframe\n",
       "            width=\"100%\"\n",
       "            height=\"475\"\n",
       "            src=\"http://pop-os:40000/dtale/iframe/77\"\n",
       "            frameborder=\"0\"\n",
       "            allowfullscreen\n",
       "            \n",
       "        ></iframe>\n",
       "        "
      ],
      "text/plain": [
       "<IPython.lib.display.IFrame at 0x7f10365ee850>"
      ]
     },
     "metadata": {},
     "output_type": "display_data"
    },
    {
     "data": {
      "text/plain": []
     },
     "execution_count": 430,
     "metadata": {},
     "output_type": "execute_result"
    },
    {
     "name": "stdout",
     "output_type": "stream",
     "text": [
      "time: 154 ms\n"
     ]
    }
   ],
   "source": [
    "# suche_debug\n",
    "maskA = wiktionary_merkmal_trash.data.isin(suche_debug)\n",
    "maskB = wiktionary_merkmal_trash.section_id2.isin(suche_debug)\n",
    "mask  = maskA | maskB\n",
    "grid(wiktionary_merkmal_trash,mask, color='green')"
   ]
  },
  {
   "cell_type": "markdown",
   "metadata": {},
   "source": [
    "### flexion_trash\n",
    "* flexion_trash enthält Datensätze, die ursprünglich aus wiktionary_merkmal stammen"
   ]
  },
  {
   "cell_type": "code",
   "execution_count": 431,
   "metadata": {},
   "outputs": [
    {
     "name": "stdout",
     "output_type": "stream",
     "text": [
      "41 rows\n"
     ]
    },
    {
     "data": {
      "text/html": [
       "\n",
       "        <iframe\n",
       "            width=\"100%\"\n",
       "            height=\"475\"\n",
       "            src=\"http://pop-os:40000/dtale/iframe/78\"\n",
       "            frameborder=\"0\"\n",
       "            allowfullscreen\n",
       "            \n",
       "        ></iframe>\n",
       "        "
      ],
      "text/plain": [
       "<IPython.lib.display.IFrame at 0x7f0fbbe4b310>"
      ]
     },
     "metadata": {},
     "output_type": "display_data"
    },
    {
     "data": {
      "text/plain": []
     },
     "execution_count": 431,
     "metadata": {},
     "output_type": "execute_result"
    },
    {
     "name": "stdout",
     "output_type": "stream",
     "text": [
      "time: 152 ms\n"
     ]
    }
   ],
   "source": [
    "# Übersicht\n",
    "a = pak.analyse_freqs(flexion_trash, ['merkmal', 'data' , 'msg'])\n",
    "a = pak.drop_cols(a, ['merkmal_percent','msg_count','data_count'])\n",
    "grid(a)"
   ]
  },
  {
   "cell_type": "markdown",
   "metadata": {},
   "source": [
    "### wiktionary_lemma_trash"
   ]
  },
  {
   "cell_type": "code",
   "execution_count": 432,
   "metadata": {},
   "outputs": [
    {
     "name": "stdout",
     "output_type": "stream",
     "text": [
      "5 rows\n"
     ]
    },
    {
     "data": {
      "text/html": [
       "\n",
       "        <iframe\n",
       "            width=\"100%\"\n",
       "            height=\"475\"\n",
       "            src=\"http://pop-os:40000/dtale/iframe/79\"\n",
       "            frameborder=\"0\"\n",
       "            allowfullscreen\n",
       "            \n",
       "        ></iframe>\n",
       "        "
      ],
      "text/plain": [
       "<IPython.lib.display.IFrame at 0x7f0fa73a0c70>"
      ]
     },
     "metadata": {},
     "output_type": "display_data"
    },
    {
     "data": {
      "text/plain": []
     },
     "execution_count": 432,
     "metadata": {},
     "output_type": "execute_result"
    },
    {
     "name": "stdout",
     "output_type": "stream",
     "text": [
      "time: 145 ms\n"
     ]
    }
   ],
   "source": [
    "# Übersicht\n",
    "a = pak.analyse_freqs(wiktionary_lemma_trash,['member','msg','lemma'], splits=[None,' '])\n",
    "grid(a)"
   ]
  },
  {
   "cell_type": "markdown",
   "metadata": {},
   "source": [
    "### wiktionary_nolemma_trash"
   ]
  },
  {
   "cell_type": "code",
   "execution_count": 433,
   "metadata": {},
   "outputs": [
    {
     "name": "stdout",
     "output_type": "stream",
     "text": [
      "5 rows\n"
     ]
    },
    {
     "data": {
      "text/html": [
       "\n",
       "        <iframe\n",
       "            width=\"100%\"\n",
       "            height=\"475\"\n",
       "            src=\"http://pop-os:40000/dtale/iframe/80\"\n",
       "            frameborder=\"0\"\n",
       "            allowfullscreen\n",
       "            \n",
       "        ></iframe>\n",
       "        "
      ],
      "text/plain": [
       "<IPython.lib.display.IFrame at 0x7f0fd8435880>"
      ]
     },
     "metadata": {},
     "output_type": "display_data"
    },
    {
     "data": {
      "text/plain": []
     },
     "execution_count": 433,
     "metadata": {},
     "output_type": "execute_result"
    },
    {
     "name": "stdout",
     "output_type": "stream",
     "text": [
      "time: 168 ms\n"
     ]
    }
   ],
   "source": [
    "# Übersicht\n",
    "a = pak.analyse_freqs(wiktionary_nolemma_trash,['member','lex'], splits=[None,' '])\n",
    "grid(a)"
   ]
  },
  {
   "cell_type": "markdown",
   "metadata": {},
   "source": [
    "## Nutzdaten anschauen"
   ]
  },
  {
   "cell_type": "markdown",
   "metadata": {},
   "source": [
    "### wiktionary_lemma"
   ]
  },
  {
   "cell_type": "code",
   "execution_count": 434,
   "metadata": {},
   "outputs": [
    {
     "data": {
      "text/html": [
       "<div>\n",
       "<style scoped>\n",
       "    .dataframe tbody tr th:only-of-type {\n",
       "        vertical-align: middle;\n",
       "    }\n",
       "\n",
       "    .dataframe tbody tr th {\n",
       "        vertical-align: top;\n",
       "    }\n",
       "\n",
       "    .dataframe thead th {\n",
       "        text-align: right;\n",
       "    }\n",
       "</style>\n",
       "<table border=\"1\" class=\"dataframe\">\n",
       "  <thead>\n",
       "    <tr style=\"text-align: right;\">\n",
       "      <th></th>\n",
       "      <th>page_id</th>\n",
       "      <th>page_part</th>\n",
       "      <th>section_id2</th>\n",
       "      <th>lemma</th>\n",
       "      <th>lemma_lower</th>\n",
       "      <th>isupper</th>\n",
       "      <th>lemma_len</th>\n",
       "      <th>tag</th>\n",
       "      <th>tag_0</th>\n",
       "      <th>tag_1</th>\n",
       "      <th>tagZ</th>\n",
       "      <th>tagZZ</th>\n",
       "      <th>member</th>\n",
       "      <th>score</th>\n",
       "      <th>data_id</th>\n",
       "    </tr>\n",
       "  </thead>\n",
       "  <tbody>\n",
       "    <tr>\n",
       "      <th>129342</th>\n",
       "      <td>-1.0</td>\n",
       "      <td>-1.0</td>\n",
       "      <td>gefriergetrocknet</td>\n",
       "      <td>gefriergetrocknet</td>\n",
       "      <td>gefriergetrocknet</td>\n",
       "      <td>False</td>\n",
       "      <td>1</td>\n",
       "      <td>ADJA</td>\n",
       "      <td>ADJA</td>\n",
       "      <td>ATraUFcN5L</td>\n",
       "      <td>ADJ</td>\n",
       "      <td>A</td>\n",
       "      <td>Ptz2 noSteig manuell</td>\n",
       "      <td>0.500000</td>\n",
       "      <td>gefriertrocknen</td>\n",
       "    </tr>\n",
       "    <tr>\n",
       "      <th>129343</th>\n",
       "      <td>273380.0</td>\n",
       "      <td>0.0</td>\n",
       "      <td>gefriergetrocknet</td>\n",
       "      <td>gefriergetrocknet</td>\n",
       "      <td>gefriergetrocknet</td>\n",
       "      <td>False</td>\n",
       "      <td>1</td>\n",
       "      <td>ADJA</td>\n",
       "      <td>ADJA</td>\n",
       "      <td>M9yT3byKKu</td>\n",
       "      <td>ADJ</td>\n",
       "      <td>A</td>\n",
       "      <td>noSteig</td>\n",
       "      <td>3.807552</td>\n",
       "      <td></td>\n",
       "    </tr>\n",
       "    <tr>\n",
       "      <th>129344</th>\n",
       "      <td>1054310.0</td>\n",
       "      <td>0.0</td>\n",
       "      <td>gefriertrocknen</td>\n",
       "      <td>gefriertrocknen</td>\n",
       "      <td>gefriertrocknen</td>\n",
       "      <td>False</td>\n",
       "      <td>1</td>\n",
       "      <td>VVFIN</td>\n",
       "      <td>VVFIN</td>\n",
       "      <td>TLhfFhOWFO</td>\n",
       "      <td>VER</td>\n",
       "      <td>V</td>\n",
       "      <td></td>\n",
       "      <td>14.422655</td>\n",
       "      <td></td>\n",
       "    </tr>\n",
       "    <tr>\n",
       "      <th>129345</th>\n",
       "      <td>-1.0</td>\n",
       "      <td>-1.0</td>\n",
       "      <td>gefriertrocknen</td>\n",
       "      <td>gefriertrocknen</td>\n",
       "      <td>gefriertrocknen</td>\n",
       "      <td>False</td>\n",
       "      <td>1</td>\n",
       "      <td>VVFIN</td>\n",
       "      <td>VVFIN</td>\n",
       "      <td>dFIK2wex3d</td>\n",
       "      <td>VER</td>\n",
       "      <td>V</td>\n",
       "      <td>manuell</td>\n",
       "      <td>0.450000</td>\n",
       "      <td></td>\n",
       "    </tr>\n",
       "    <tr>\n",
       "      <th>142191</th>\n",
       "      <td>242150.0</td>\n",
       "      <td>0.0</td>\n",
       "      <td>missraten</td>\n",
       "      <td>missraten</td>\n",
       "      <td>missraten</td>\n",
       "      <td>False</td>\n",
       "      <td>1</td>\n",
       "      <td>VVFIN</td>\n",
       "      <td>VVFIN</td>\n",
       "      <td>foLRX8vFnm</td>\n",
       "      <td>VER</td>\n",
       "      <td>V</td>\n",
       "      <td></td>\n",
       "      <td>4.472594</td>\n",
       "      <td></td>\n",
       "    </tr>\n",
       "    <tr>\n",
       "      <th>142192</th>\n",
       "      <td>-1.0</td>\n",
       "      <td>-1.0</td>\n",
       "      <td>missraten</td>\n",
       "      <td>missraten</td>\n",
       "      <td>missraten</td>\n",
       "      <td>False</td>\n",
       "      <td>1</td>\n",
       "      <td>VVFIN</td>\n",
       "      <td>VVFIN</td>\n",
       "      <td>hMbvB8jNwL</td>\n",
       "      <td>VER</td>\n",
       "      <td>V</td>\n",
       "      <td>manuell</td>\n",
       "      <td>0.450000</td>\n",
       "      <td></td>\n",
       "    </tr>\n",
       "    <tr>\n",
       "      <th>142193</th>\n",
       "      <td>-1.0</td>\n",
       "      <td>-1.0</td>\n",
       "      <td>missraten_MADJ</td>\n",
       "      <td>missraten</td>\n",
       "      <td>missraten</td>\n",
       "      <td>False</td>\n",
       "      <td>1</td>\n",
       "      <td>ADJA</td>\n",
       "      <td>ADJA</td>\n",
       "      <td>IBpowZE9hp</td>\n",
       "      <td>ADJ</td>\n",
       "      <td>A</td>\n",
       "      <td>Ptz2 manuell</td>\n",
       "      <td>0.500000</td>\n",
       "      <td>missraten</td>\n",
       "    </tr>\n",
       "  </tbody>\n",
       "</table>\n",
       "</div>"
      ],
      "text/plain": [
       "          page_id  page_part        section_id2              lemma  \\\n",
       "129342       -1.0       -1.0  gefriergetrocknet  gefriergetrocknet   \n",
       "129343   273380.0        0.0  gefriergetrocknet  gefriergetrocknet   \n",
       "129344  1054310.0        0.0    gefriertrocknen    gefriertrocknen   \n",
       "129345       -1.0       -1.0    gefriertrocknen    gefriertrocknen   \n",
       "142191   242150.0        0.0          missraten          missraten   \n",
       "142192       -1.0       -1.0          missraten          missraten   \n",
       "142193       -1.0       -1.0     missraten_MADJ          missraten   \n",
       "\n",
       "              lemma_lower  isupper  lemma_len    tag  tag_0       tag_1 tagZ  \\\n",
       "129342  gefriergetrocknet    False          1   ADJA   ADJA  ATraUFcN5L  ADJ   \n",
       "129343  gefriergetrocknet    False          1   ADJA   ADJA  M9yT3byKKu  ADJ   \n",
       "129344    gefriertrocknen    False          1  VVFIN  VVFIN  TLhfFhOWFO  VER   \n",
       "129345    gefriertrocknen    False          1  VVFIN  VVFIN  dFIK2wex3d  VER   \n",
       "142191          missraten    False          1  VVFIN  VVFIN  foLRX8vFnm  VER   \n",
       "142192          missraten    False          1  VVFIN  VVFIN  hMbvB8jNwL  VER   \n",
       "142193          missraten    False          1   ADJA   ADJA  IBpowZE9hp  ADJ   \n",
       "\n",
       "       tagZZ                member      score          data_id  \n",
       "129342     A  Ptz2 noSteig manuell   0.500000  gefriertrocknen  \n",
       "129343     A               noSteig   3.807552                   \n",
       "129344     V                        14.422655                   \n",
       "129345     V               manuell   0.450000                   \n",
       "142191     V                         4.472594                   \n",
       "142192     V               manuell   0.450000                   \n",
       "142193     A          Ptz2 manuell   0.500000        missraten  "
      ]
     },
     "execution_count": 434,
     "metadata": {},
     "output_type": "execute_result"
    },
    {
     "name": "stdout",
     "output_type": "stream",
     "text": [
      "time: 115 ms\n"
     ]
    }
   ],
   "source": [
    "mask = wiktionary_lemma.lemma.isin(suche_debug) #== 'gefriergetrocknet'\n",
    "wiktionary_lemma[mask]"
   ]
  },
  {
   "cell_type": "markdown",
   "metadata": {},
   "source": [
    "### wiktionary_merkmal"
   ]
  },
  {
   "cell_type": "code",
   "execution_count": 435,
   "metadata": {},
   "outputs": [
    {
     "name": "stdout",
     "output_type": "stream",
     "text": [
      "7 rows\n"
     ]
    },
    {
     "data": {
      "text/html": [
       "\n",
       "        <iframe\n",
       "            width=\"100%\"\n",
       "            height=\"475\"\n",
       "            src=\"http://pop-os:40000/dtale/iframe/81\"\n",
       "            frameborder=\"0\"\n",
       "            allowfullscreen\n",
       "            \n",
       "        ></iframe>\n",
       "        "
      ],
      "text/plain": [
       "<IPython.lib.display.IFrame at 0x7f0fd845ee20>"
      ]
     },
     "metadata": {},
     "output_type": "display_data"
    },
    {
     "data": {
      "text/plain": []
     },
     "execution_count": 435,
     "metadata": {},
     "output_type": "execute_result"
    },
    {
     "name": "stdout",
     "output_type": "stream",
     "text": [
      "time: 1.09 s\n"
     ]
    }
   ],
   "source": [
    "mask = wiktionary_merkmal.section_id2 == suche_debug[0]\n",
    "a = wiktionary_merkmal[mask].sort_values(['merkmal','section_id2','data'])\n",
    "grid(a)"
   ]
  },
  {
   "cell_type": "code",
   "execution_count": 436,
   "metadata": {},
   "outputs": [
    {
     "name": "stdout",
     "output_type": "stream",
     "text": [
      "55 rows\n"
     ]
    },
    {
     "data": {
      "text/html": [
       "\n",
       "        <iframe\n",
       "            width=\"100%\"\n",
       "            height=\"475\"\n",
       "            src=\"http://pop-os:40000/dtale/iframe/82\"\n",
       "            frameborder=\"0\"\n",
       "            allowfullscreen\n",
       "            \n",
       "        ></iframe>\n",
       "        "
      ],
      "text/plain": [
       "<IPython.lib.display.IFrame at 0x7f0fd8435880>"
      ]
     },
     "metadata": {},
     "output_type": "display_data"
    },
    {
     "data": {
      "text/plain": []
     },
     "execution_count": 436,
     "metadata": {},
     "output_type": "execute_result"
    },
    {
     "name": "stdout",
     "output_type": "stream",
     "text": [
      "time: 591 ms\n"
     ]
    }
   ],
   "source": [
    "mask = wiktionary_merkmal.data.isin(suche_debug) #== 'gefriergetrocknet'\n",
    "a = wiktionary_merkmal[mask].sort_values(['merkmal','section_id2','data'])\n",
    "grid(a)"
   ]
  },
  {
   "cell_type": "markdown",
   "metadata": {},
   "source": [
    "### wiktionary_nolemma"
   ]
  },
  {
   "cell_type": "code",
   "execution_count": 437,
   "metadata": {},
   "outputs": [
    {
     "name": "stdout",
     "output_type": "stream",
     "text": [
      "35 rows\n"
     ]
    },
    {
     "data": {
      "text/html": [
       "\n",
       "        <iframe\n",
       "            width=\"100%\"\n",
       "            height=\"475\"\n",
       "            src=\"http://pop-os:40000/dtale/iframe/83\"\n",
       "            frameborder=\"0\"\n",
       "            allowfullscreen\n",
       "            \n",
       "        ></iframe>\n",
       "        "
      ],
      "text/plain": [
       "<IPython.lib.display.IFrame at 0x7f0fc2456fa0>"
      ]
     },
     "metadata": {},
     "output_type": "display_data"
    },
    {
     "data": {
      "text/plain": []
     },
     "execution_count": 437,
     "metadata": {},
     "output_type": "execute_result"
    },
    {
     "name": "stdout",
     "output_type": "stream",
     "text": [
      "time: 684 ms\n"
     ]
    }
   ],
   "source": [
    "# wiktionary_nolemma suche_debug\n",
    "grid(search_str(wiktionary_nolemma, suche_debug))"
   ]
  },
  {
   "cell_type": "code",
   "execution_count": 438,
   "metadata": {},
   "outputs": [
    {
     "name": "stdout",
     "output_type": "stream",
     "text": [
      "time: 37.3 ms\n"
     ]
    }
   ],
   "source": [
    "#grid(wiktionary_nolemma)"
   ]
  },
  {
   "cell_type": "code",
   "execution_count": 439,
   "metadata": {},
   "outputs": [
    {
     "name": "stdout",
     "output_type": "stream",
     "text": [
      "time: 64.6 ms\n"
     ]
    }
   ],
   "source": [
    "#a = pak.analyse_freqs(wiktionary_trash,['msg','member'], splits=[None,' '])\n",
    "#grid(a)"
   ]
  },
  {
   "cell_type": "code",
   "execution_count": 440,
   "metadata": {},
   "outputs": [
    {
     "name": "stdout",
     "output_type": "stream",
     "text": [
      "Stop Time:  23:01:53\n",
      "Elapsed:    1 hour, 2 mins, 36 secs\n"
     ]
    },
    {
     "data": {
      "text/html": [
       "<img src onerror=\"var cell = this.closest('.jp-CodeCell');var editor = cell.querySelector('.jp-Editor');editor.style.background='DarkGray';this.parentNode.removeChild(this)\">"
      ],
      "text/plain": [
       "<IPython.core.display.HTML object>"
      ]
     },
     "metadata": {},
     "output_type": "display_data"
    },
    {
     "name": "stdout",
     "output_type": "stream",
     "text": [
      "time: 97.6 ms\n"
     ]
    }
   ],
   "source": [
    "raise Stop"
   ]
  }
 ],
 "metadata": {
  "kernelspec": {
   "display_name": "Python 3 (ipykernel)",
   "language": "python",
   "name": "python3"
  },
  "language_info": {
   "codemirror_mode": {
    "name": "ipython",
    "version": 3
   },
   "file_extension": ".py",
   "mimetype": "text/x-python",
   "name": "python",
   "nbconvert_exporter": "python",
   "pygments_lexer": "ipython3",
   "version": "3.9.13"
  }
 },
 "nbformat": 4,
 "nbformat_minor": 4
}
