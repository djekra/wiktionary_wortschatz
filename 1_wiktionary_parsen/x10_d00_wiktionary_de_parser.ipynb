{
 "cells": [
  {
   "cell_type": "markdown",
   "metadata": {
    "id": "lSehjmZun5OP"
   },
   "source": [
    "__[Open and try this file online (Colab)](https://colab.research.google.com/github/djekra/wiktionary_wortschatz/blob/master/1_wiktionary_parsen/x10_d00_wiktionary_de_parser.ipynb)__"
   ]
  },
  {
   "cell_type": "markdown",
   "metadata": {
    "id": "Zoyj9H-rn5Od"
   },
   "source": [
    "# wiktionary_de_parser\n",
    "* erstellt die Datei wiktionary_vvv.pickle in data_00\n",
    "* wendet wiktionary_de_parser an\n",
    "* braucht ca. 15 Minuten\n",
    "\n",
    "### Doku\n",
    "* page_id <=> title eineindeutig\n",
    "* page_part ist die Abschnittsnummer der Seite\n",
    "* section_id2 identifiziert page_id-page_part-Kombination (heißt später lemma_id)"
   ]
  },
  {
   "cell_type": "markdown",
   "metadata": {
    "id": "lDKztsOMolyX"
   },
   "source": [
    "## Import"
   ]
  },
  {
   "cell_type": "code",
   "execution_count": 1,
   "metadata": {
    "colab": {
     "base_uri": "https://localhost:8080/",
     "height": 104
    },
    "executionInfo": {
     "elapsed": 257,
     "status": "ok",
     "timestamp": 1676476828377,
     "user": {
      "displayName": "Hups Hopsalla",
      "userId": "10020718461385065661"
     },
     "user_tz": -60
    },
    "id": "REzWGt6zn5Oh",
    "outputId": "1c18bb25-8d50-4a98-c70a-a242b9773f62"
   },
   "outputs": [
    {
     "name": "stdout",
     "output_type": "stream",
     "text": [
      "blab init\n",
      "environment['in_colab']     = False\n",
      "environment['dropbox_path'] = /home/me/Data_Linux/Dropbox\n",
      "environment['lib_path']     = /home/me/Data_Linux/Dropbox/31_Projekte/01_Python/libs\n",
      "Start Time: 20:07:10\n"
     ]
    },
    {
     "data": {
      "text/html": [
       "<img src onerror=\"var cell = this.closest('.jp-CodeCell');var editor = cell.querySelector('.jp-Editor');editor.style.background='Beige';this.parentNode.removeChild(this)\">"
      ],
      "text/plain": [
       "<IPython.core.display.HTML object>"
      ]
     },
     "metadata": {},
     "output_type": "display_data"
    },
    {
     "name": "stdout",
     "output_type": "stream",
     "text": [
      "time: 633 ms\n"
     ]
    }
   ],
   "source": [
    "# blab init\n",
    "try:\n",
    "    import blab\n",
    "except ImportError as e:\n",
    "    !pip install blab\n",
    "    import blab    \n",
    "startup_notebook = blab.blab_startup()\n",
    "%run $startup_notebook "
   ]
  },
  {
   "cell_type": "code",
   "execution_count": 2,
   "metadata": {
    "colab": {
     "base_uri": "https://localhost:8080/"
    },
    "executionInfo": {
     "elapsed": 474,
     "status": "ok",
     "timestamp": 1676476829075,
     "user": {
      "displayName": "Hups Hopsalla",
      "userId": "10020718461385065661"
     },
     "user_tz": -60
    },
    "id": "H_Er7TV6ozyv",
    "outputId": "415bd8b5-8814-4d8c-defa-beb8ab43e54d"
   },
   "outputs": [
    {
     "name": "stdout",
     "output_type": "stream",
     "text": [
      "time: 5.76 s\n"
     ]
    }
   ],
   "source": [
    "# alle anderen\n",
    "try:\n",
    "    import pandasklar as pak, bj_nlp, wiktionary_de_parser, wget, bz2file\n",
    "\n",
    "except ImportError as e:\n",
    "    !pip install pandasklar bj_nlp wiktionary_de_parser wget bz2file\n",
    "    import pandasklar as pak, bj_nlp, wiktionary_de_parser, wget, bz2file  \n",
    "    \n",
    "grid       = pak.grid\n",
    "check_mask = pak.check_mask        \n"
   ]
  },
  {
   "cell_type": "markdown",
   "metadata": {},
   "source": [
    "## Einstellungen"
   ]
  },
  {
   "cell_type": "code",
   "execution_count": 3,
   "metadata": {
    "colab": {
     "base_uri": "https://localhost:8080/"
    },
    "executionInfo": {
     "elapsed": 19,
     "status": "ok",
     "timestamp": 1676476829075,
     "user": {
      "displayName": "Hups Hopsalla",
      "userId": "10020718461385065661"
     },
     "user_tz": -60
    },
    "id": "aBGC2p73n5Or",
    "outputId": "5efaffd1-25e3-41a9-fbe0-3eefb4868250"
   },
   "outputs": [
    {
     "name": "stdout",
     "output_type": "stream",
     "text": [
      "time: 39.2 ms\n"
     ]
    }
   ],
   "source": [
    "# Was debuggen?\n",
    "suche_debug = ['entlassen']\n",
    "\n",
    "# Load\n",
    "verzeichnis_load          = 'data_00'\n",
    "bzfile_url                = 'https://dumps.wikimedia.org/dewiktionary/latest/'\n",
    "bzfile_filenam            = 'dewiktionary-latest-pages-articles-multistream.xml.bz2'\n",
    "bzfile_filename           = os.path.join( verzeichnis_load, bzfile_filenam ) \n",
    "\n",
    "# Was parsen?      \n",
    "min_id                    = 0         # 81: Mensch\n",
    "max_id                    = 999999999 #22600 \n",
    "version                   = '_all'\n",
    "#version                  = '_short'\n",
    "\n",
    "\n",
    "# Save\n",
    "verzeichnis_save          = 'data_00'\n",
    "wiktionary_filename       = os.path.join( verzeichnis_save, 'wiktionary'       +version+'.pickle' )       \n",
    "wiktionary_trash_filename = os.path.join( verzeichnis_save, 'wiktionary_trash' +version+'.pickle' )  "
   ]
  },
  {
   "cell_type": "code",
   "execution_count": 4,
   "metadata": {
    "colab": {
     "base_uri": "https://localhost:8080/"
    },
    "executionInfo": {
     "elapsed": 16,
     "status": "ok",
     "timestamp": 1676476829076,
     "user": {
      "displayName": "Hups Hopsalla",
      "userId": "10020718461385065661"
     },
     "user_tz": -60
    },
    "id": "XqzXDOhmn5Ot",
    "outputId": "da6746d4-c7f8-43e8-c627-c48b274ab9ff"
   },
   "outputs": [
    {
     "name": "stdout",
     "output_type": "stream",
     "text": [
      "VERBOSE = True\n",
      "--> setting verbose=True as default for all pandasklar functions\n",
      "\n",
      "time: 37 ms\n"
     ]
    }
   ],
   "source": [
    "# verbose\n",
    "pak.Config.set('VERBOSE', True)"
   ]
  },
  {
   "cell_type": "markdown",
   "metadata": {
    "id": "p1lM3YLgn5Ou"
   },
   "source": [
    "## Vorbereiten"
   ]
  },
  {
   "cell_type": "code",
   "execution_count": 5,
   "metadata": {
    "colab": {
     "base_uri": "https://localhost:8080/"
    },
    "executionInfo": {
     "elapsed": 13,
     "status": "ok",
     "timestamp": 1676476829076,
     "user": {
      "displayName": "Hups Hopsalla",
      "userId": "10020718461385065661"
     },
     "user_tz": -60
    },
    "id": "Oy4Rb6WZn5Ow",
    "outputId": "6b94d1aa-3ffa-4388-d3f4-53b785e09406"
   },
   "outputs": [
    {
     "name": "stdout",
     "output_type": "stream",
     "text": [
      "time: 44.4 ms\n"
     ]
    }
   ],
   "source": [
    "# Verzeichnisse erzeugen\n",
    "os.makedirs(verzeichnis_load, exist_ok=True) \n",
    "os.makedirs(verzeichnis_save, exist_ok=True) "
   ]
  },
  {
   "cell_type": "code",
   "execution_count": 6,
   "metadata": {
    "colab": {
     "base_uri": "https://localhost:8080/"
    },
    "executionInfo": {
     "elapsed": 10,
     "status": "ok",
     "timestamp": 1676476829078,
     "user": {
      "displayName": "Hups Hopsalla",
      "userId": "10020718461385065661"
     },
     "user_tz": -60
    },
    "id": "xdLSdV4Zn5Ox",
    "outputId": "6a48430b-42c8-4173-9378-50e971577179"
   },
   "outputs": [
    {
     "name": "stdout",
     "output_type": "stream",
     "text": [
      "dewiktionary-latest-pages-articles-multistream.xml.bz2 existiert bereits\n",
      "time: 33 ms\n"
     ]
    }
   ],
   "source": [
    "# download bzfile if necessary\n",
    "# 1 min\n",
    "\n",
    "if not os.path.isfile(bzfile_filename):\n",
    "    filename = wget.download(bzfile_url + bzfile_filenam, out=verzeichnis_load)\n",
    "else:\n",
    "    print(bzfile_filenam, 'existiert bereits')\n",
    "    \n",
    "assert os.path.isfile(bzfile_filename)"
   ]
  },
  {
   "cell_type": "code",
   "execution_count": 7,
   "metadata": {
    "colab": {
     "base_uri": "https://localhost:8080/"
    },
    "executionInfo": {
     "elapsed": 940,
     "status": "ok",
     "timestamp": 1676476830012,
     "user": {
      "displayName": "Hups Hopsalla",
      "userId": "10020718461385065661"
     },
     "user_tz": -60
    },
    "id": "jL1i8Gc-n5Oz",
    "outputId": "83a4d617-f6de-4962-ad87-0ab5a2201b41"
   },
   "outputs": [
    {
     "name": "stdout",
     "output_type": "stream",
     "text": [
      "time: 39 ms\n"
     ]
    }
   ],
   "source": [
    "# Vorbereiten\n",
    "bz          = bz2file.BZ2File(bzfile_filename)  # XML-Quelldatei\n",
    "result_list = []                                # nimmt die geparsten Einträge auf\n",
    "config      = {\"include_wikitext\": True}"
   ]
  },
  {
   "cell_type": "markdown",
   "metadata": {
    "id": "kxP8_bhmn5Oz"
   },
   "source": [
    "## Parsen"
   ]
  },
  {
   "cell_type": "code",
   "execution_count": 8,
   "metadata": {
    "colab": {
     "base_uri": "https://localhost:8080/"
    },
    "executionInfo": {
     "elapsed": 1004682,
     "status": "ok",
     "timestamp": 1676477834681,
     "user": {
      "displayName": "Hups Hopsalla",
      "userId": "10020718461385065661"
     },
     "user_tz": -60
    },
    "id": "k12-VJ74n5O0",
    "outputId": "938f5eab-38c0-45aa-c5cd-df154ea969fd"
   },
   "outputs": [
    {
     "name": "stdout",
     "output_type": "stream",
     "text": [
      "1118000 Sebaldinen\n",
      "time: 12min 42s\n"
     ]
    }
   ],
   "source": [
    "# Parsen\n",
    "\n",
    "title_last     = ''\n",
    "page_part_last = 0\n",
    "page_base      = 0\n",
    "\n",
    "for num, record in enumerate(  wiktionary_de_parser.Parser(bz, config=config)  ):\n",
    "    \n",
    "    # num:    ID des Eintrags\n",
    "    # record: Der Eintrag selbst\n",
    "    \n",
    "    # title\n",
    "    if 'title' in record:\n",
    "        title = record['title']\n",
    "    else:\n",
    "        title = ''\n",
    "        print('no title')\n",
    "        \n",
    "    # page_id und page_part    \n",
    "    if title == title_last:\n",
    "        page_id   = page_base\n",
    "        page_part = page_part_last + 1\n",
    "    else:\n",
    "        page_id   = num   # fortlaufende Nummer\n",
    "        page_base = num\n",
    "        page_part = 0\n",
    "        \n",
    "    \n",
    "    # Am Anfang was auslassen?\n",
    "    if page_id < min_id:\n",
    "        continue        \n",
    "       \n",
    "    # Vorzeitig abbrechen?    \n",
    "    if page_id > max_id:\n",
    "        break\n",
    "    \n",
    "    # Fremdsprachiges überspringen\n",
    "    if 'lang_code' in record   and   record['lang_code'] != 'de': \n",
    "        continue\n",
    "    if 'lang' in record   and   record['lang'] != 'Deutsch': \n",
    "        continue        \n",
    "    \n",
    "    # record ergänzen\n",
    "    record['page_id']     = page_id\n",
    "    record['page_part']   = page_part    \n",
    "    \n",
    "    # last\n",
    "    title_last     = title\n",
    "    page_part_last = page_part    \n",
    "    \n",
    "    # Statusanzeige\n",
    "    if page_id % 1000 == 0:    \n",
    "        clear_output()\n",
    "        print( page_id, title )\n",
    "    \n",
    "    # fürs Debugging aufbewahren\n",
    "    #if num in catch_debug:\n",
    "    #    debug_list.append(record)\n",
    "    \n",
    "    # Ausgabe\n",
    "    result_list.append(record)\n",
    "   \n",
    "    "
   ]
  },
  {
   "cell_type": "markdown",
   "metadata": {
    "id": "K8VXsQaUn5O2"
   },
   "source": [
    "## In Dataframe wandeln"
   ]
  },
  {
   "cell_type": "code",
   "execution_count": 9,
   "metadata": {
    "colab": {
     "base_uri": "https://localhost:8080/"
    },
    "executionInfo": {
     "elapsed": 3318,
     "status": "ok",
     "timestamp": 1676477837951,
     "user": {
      "displayName": "Hups Hopsalla",
      "userId": "10020718461385065661"
     },
     "user_tz": -60
    },
    "id": "EAlilAWrn5O2",
    "outputId": "fe732e8b-1aeb-4a09-9145-65c9206a588f"
   },
   "outputs": [
    {
     "name": "stdout",
     "output_type": "stream",
     "text": [
      "time: 2.71 s\n"
     ]
    }
   ],
   "source": [
    "# In DataFrame wandeln\n",
    "wiktionary = pak.dataframe(result_list,verbose=False)"
   ]
  },
  {
   "cell_type": "code",
   "execution_count": 10,
   "metadata": {
    "colab": {
     "base_uri": "https://localhost:8080/"
    },
    "executionInfo": {
     "elapsed": 1154,
     "status": "ok",
     "timestamp": 1676477839094,
     "user": {
      "displayName": "Hups Hopsalla",
      "userId": "10020718461385065661"
     },
     "user_tz": -60
    },
    "id": "XbhDVefWn5O3",
    "outputId": "bb8d6a3e-3997-4998-eeea-d0cdcd7a000c"
   },
   "outputs": [
    {
     "name": "stdout",
     "output_type": "stream",
     "text": [
      "time: 485 ms\n"
     ]
    }
   ],
   "source": [
    "# Daten ergänzen\n",
    "wiktionary['section_len'] = wiktionary.wikitext.str.len() # Volumen der Seite\n",
    "wiktionary['error'] = ''"
   ]
  },
  {
   "cell_type": "code",
   "execution_count": 11,
   "metadata": {
    "colab": {
     "base_uri": "https://localhost:8080/"
    },
    "executionInfo": {
     "elapsed": 1661,
     "status": "ok",
     "timestamp": 1676477840746,
     "user": {
      "displayName": "Hups Hopsalla",
      "userId": "10020718461385065661"
     },
     "user_tz": -60
    },
    "id": "-V3SQhJdn5O4",
    "outputId": "c16f4543-360a-4d91-a8ed-24dfc99b14bf"
   },
   "outputs": [
    {
     "name": "stdout",
     "output_type": "stream",
     "text": [
      "time: 1.14 s\n"
     ]
    }
   ],
   "source": [
    "# Spalten sortieren\n",
    "wiktionary = pak.move_cols( wiktionary, ['page_id','page_part','title','lemma'])\n",
    "wiktionary = pak.move_cols( wiktionary, ['section_len','flexion','ipa','syllables','lang','lang_code','wikitext','error'], to=-1)"
   ]
  },
  {
   "cell_type": "code",
   "execution_count": 12,
   "metadata": {
    "colab": {
     "base_uri": "https://localhost:8080/",
     "height": 962
    },
    "executionInfo": {
     "elapsed": 45,
     "status": "ok",
     "timestamp": 1676477840747,
     "user": {
      "displayName": "Hups Hopsalla",
      "userId": "10020718461385065661"
     },
     "user_tz": -60
    },
    "id": "-dKwniegn5O4",
    "outputId": "75d4749d-16d4-4d6d-afb9-6f906888aee1"
   },
   "outputs": [
    {
     "name": "stdout",
     "output_type": "stream",
     "text": [
      "12 rows out of 842466\n"
     ]
    },
    {
     "data": {
      "text/html": [
       "\n",
       "        <iframe\n",
       "            width=\"100%\"\n",
       "            height=\"475\"\n",
       "            src=\"http://pop-os:40000/dtale/iframe/1\"\n",
       "            frameborder=\"0\"\n",
       "            allowfullscreen\n",
       "            \n",
       "        ></iframe>\n",
       "        "
      ],
      "text/plain": [
       "<IPython.lib.display.IFrame at 0x7f6c38f4c2e0>"
      ]
     },
     "metadata": {},
     "output_type": "display_data"
    },
    {
     "data": {
      "text/plain": []
     },
     "execution_count": 12,
     "metadata": {},
     "output_type": "execute_result"
    },
    {
     "name": "stdout",
     "output_type": "stream",
     "text": [
      "time: 10.4 s\n"
     ]
    }
   ],
   "source": [
    "grid(wiktionary,pak.sample)"
   ]
  },
  {
   "cell_type": "code",
   "execution_count": 13,
   "metadata": {
    "colab": {
     "base_uri": "https://localhost:8080/",
     "height": 1000
    },
    "executionInfo": {
     "elapsed": 36,
     "status": "ok",
     "timestamp": 1676477840750,
     "user": {
      "displayName": "Hups Hopsalla",
      "userId": "10020718461385065661"
     },
     "user_tz": -60
    },
    "id": "GfYDG3vpn5O5",
    "outputId": "c2cfc51f-b7eb-4859-8208-bca82b88b81f"
   },
   "outputs": [
    {
     "name": "stdout",
     "output_type": "stream",
     "text": [
      "19 rows\n"
     ]
    },
    {
     "data": {
      "text/html": [
       "\n",
       "        <iframe\n",
       "            width=\"100%\"\n",
       "            height=\"475\"\n",
       "            src=\"http://pop-os:40000/dtale/iframe/2\"\n",
       "            frameborder=\"0\"\n",
       "            allowfullscreen\n",
       "            \n",
       "        ></iframe>\n",
       "        "
      ],
      "text/plain": [
       "<IPython.lib.display.IFrame at 0x7f6c38ef54c0>"
      ]
     },
     "metadata": {},
     "output_type": "display_data"
    },
    {
     "data": {
      "text/plain": []
     },
     "execution_count": 13,
     "metadata": {},
     "output_type": "execute_result"
    },
    {
     "name": "stdout",
     "output_type": "stream",
     "text": [
      "time: 226 ms\n"
     ]
    }
   ],
   "source": [
    "# suche_debug \n",
    "mask = wiktionary.lemma.isin(suche_debug)\n",
    "grid(wiktionary[mask].sort_values(['page_id',]))"
   ]
  },
  {
   "cell_type": "markdown",
   "metadata": {
    "id": "c6hCtcO8n5O5"
   },
   "source": [
    "## Reinigen"
   ]
  },
  {
   "cell_type": "code",
   "execution_count": 14,
   "metadata": {
    "colab": {
     "base_uri": "https://localhost:8080/",
     "height": 35
    },
    "executionInfo": {
     "elapsed": 323,
     "status": "ok",
     "timestamp": 1676477841052,
     "user": {
      "displayName": "Hups Hopsalla",
      "userId": "10020718461385065661"
     },
     "user_tz": -60
    },
    "id": "WK41XPkPn5O6",
    "outputId": "edab8954-7f08-4935-de48-1e6e849a37ed"
   },
   "outputs": [
    {
     "data": {
      "text/plain": [
       "'Hällo?)()'"
      ]
     },
     "execution_count": 14,
     "metadata": {},
     "output_type": "execute_result"
    },
    {
     "name": "stdout",
     "output_type": "stream",
     "text": [
      "time: 40.4 ms\n"
     ]
    }
   ],
   "source": [
    "# bj_nlp.preprocess ausprobieren\n",
    "bj_nlp.preprocess('Hälló?)()')"
   ]
  },
  {
   "cell_type": "code",
   "execution_count": 15,
   "metadata": {
    "colab": {
     "base_uri": "https://localhost:8080/"
    },
    "executionInfo": {
     "elapsed": 21045,
     "status": "ok",
     "timestamp": 1676477862090,
     "user": {
      "displayName": "Hups Hopsalla",
      "userId": "10020718461385065661"
     },
     "user_tz": -60
    },
    "id": "0hGpIlR4n5O6",
    "outputId": "d7df88f2-396c-4829-b8e9-a8a1d57f23ec"
   },
   "outputs": [
    {
     "name": "stdout",
     "output_type": "stream",
     "text": [
      "time: 15.5 s\n"
     ]
    }
   ],
   "source": [
    "wiktionary.title = wiktionary.title.apply( lambda x: bj_nlp.preprocess(x)         ) #.copy()\n",
    "wiktionary.lemma = wiktionary.lemma.apply( lambda x: bj_nlp.preprocess(x)         ) #.copy()"
   ]
  },
  {
   "cell_type": "markdown",
   "metadata": {
    "id": "m7WD4ar-n5O7"
   },
   "source": [
    "## section_id2 und section_id"
   ]
  },
  {
   "cell_type": "code",
   "execution_count": 16,
   "metadata": {
    "colab": {
     "base_uri": "https://localhost:8080/"
    },
    "executionInfo": {
     "elapsed": 1161,
     "status": "ok",
     "timestamp": 1676477863207,
     "user": {
      "displayName": "Hups Hopsalla",
      "userId": "10020718461385065661"
     },
     "user_tz": -60
    },
    "id": "t9EXUFwdn5O7",
    "outputId": "42fa466b-f929-4b17-e6f8-afbda8accf99"
   },
   "outputs": [
    {
     "name": "stdout",
     "output_type": "stream",
     "text": [
      "time: 894 ms\n"
     ]
    }
   ],
   "source": [
    "# section_id2: Das gleiche wie section_id, aber verbose\n",
    "wiktionary['section_id2'] = wiktionary.title.str.replace(' ','_')\n",
    "\n",
    "mask = (wiktionary.page_part > 0)\n",
    "wiktionary.loc[mask,'section_id2'] = wiktionary[mask].section_id2 + '_' + wiktionary[mask].page_part.map(str)"
   ]
  },
  {
   "cell_type": "code",
   "execution_count": 17,
   "metadata": {
    "colab": {
     "base_uri": "https://localhost:8080/",
     "height": 458
    },
    "executionInfo": {
     "elapsed": 453,
     "status": "ok",
     "timestamp": 1676477863653,
     "user": {
      "displayName": "Hups Hopsalla",
      "userId": "10020718461385065661"
     },
     "user_tz": -60
    },
    "id": "omz7Ponyn5O8",
    "outputId": "51c10010-2691-438b-a650-9edd1b089f1c"
   },
   "outputs": [
    {
     "name": "stdout",
     "output_type": "stream",
     "text": [
      "1370 rows out of 1433\n"
     ]
    },
    {
     "data": {
      "text/html": [
       "\n",
       "        <iframe\n",
       "            width=\"100%\"\n",
       "            height=\"475\"\n",
       "            src=\"http://pop-os:40000/dtale/iframe/3\"\n",
       "            frameborder=\"0\"\n",
       "            allowfullscreen\n",
       "            \n",
       "        ></iframe>\n",
       "        "
      ],
      "text/plain": [
       "<IPython.lib.display.IFrame at 0x7f6c5808cf10>"
      ]
     },
     "metadata": {},
     "output_type": "display_data"
    },
    {
     "data": {
      "text/plain": []
     },
     "execution_count": 17,
     "metadata": {},
     "output_type": "execute_result"
    },
    {
     "name": "stdout",
     "output_type": "stream",
     "text": [
      "time: 267 ms\n"
     ]
    }
   ],
   "source": [
    "# Duplikate anzeigen (werden gleich gelöscht)\n",
    "# Dups entstehen durch Akzente, die entfernt werden\n",
    "dupmask = wiktionary.duplicated(subset=['section_id2'], keep=False)\n",
    "result = wiktionary[dupmask].sort_values(['title','section_len'])\n",
    "result = pak.drop_cols(result,['lang', 'lang_code','ipa','wikitext'])\n",
    "mask = result.title.str.len() > 2\n",
    "grid( result, mask, color='green' )"
   ]
  },
  {
   "cell_type": "code",
   "execution_count": 18,
   "metadata": {
    "colab": {
     "base_uri": "https://localhost:8080/"
    },
    "executionInfo": {
     "elapsed": 3387,
     "status": "ok",
     "timestamp": 1676477867031,
     "user": {
      "displayName": "Hups Hopsalla",
      "userId": "10020718461385065661"
     },
     "user_tz": -60
    },
    "id": "8fXVW3Nzn5O8",
    "outputId": "1a5a11a6-be3e-4d43-825e-e26842473217"
   },
   "outputs": [
    {
     "name": "stdout",
     "output_type": "stream",
     "text": [
      "rank: 721 rows less, now 841745 rows\n",
      "721 Datensätze gelöscht\n",
      "time: 3.39 s\n"
     ]
    }
   ],
   "source": [
    "# Nach dem Reinigen sind die title nicht mehr eindeutig gewesen. \n",
    "# Wir verwenden nur die jeweils längste Seite.\n",
    "# Danach ist section_id2 eindeutig.\n",
    "len_pre = wiktionary.shape[0]\n",
    "wiktionary = pak.rank(  wiktionary, cols_group=['section_id2'], col_score='section_len')\n",
    "assert wiktionary.section_id2.is_unique\n",
    "print( len_pre - wiktionary.shape[0],'Datensätze gelöscht')"
   ]
  },
  {
   "cell_type": "code",
   "execution_count": 19,
   "metadata": {
    "colab": {
     "base_uri": "https://localhost:8080/"
    },
    "executionInfo": {
     "elapsed": 59,
     "status": "ok",
     "timestamp": 1676477867032,
     "user": {
      "displayName": "Hups Hopsalla",
      "userId": "10020718461385065661"
     },
     "user_tz": -60
    },
    "id": "shEec2RBn5O9",
    "outputId": "b30a4660-4f5d-443d-8e58-cc94fd01e1d4"
   },
   "outputs": [
    {
     "name": "stdout",
     "output_type": "stream",
     "text": [
      "time: 79 ms\n"
     ]
    }
   ],
   "source": [
    "# section_id \n",
    "wiktionary['section_id'] = wiktionary.page_id * 100 + wiktionary.page_part\n",
    "assert wiktionary.section_id.is_unique"
   ]
  },
  {
   "cell_type": "code",
   "execution_count": 20,
   "metadata": {
    "colab": {
     "base_uri": "https://localhost:8080/"
    },
    "executionInfo": {
     "elapsed": 48,
     "status": "ok",
     "timestamp": 1676477867032,
     "user": {
      "displayName": "Hups Hopsalla",
      "userId": "10020718461385065661"
     },
     "user_tz": -60
    },
    "id": "HUctR-7bn5O9",
    "outputId": "4eb33036-def4-48b9-b8dd-64c756b1eaf9"
   },
   "outputs": [
    {
     "name": "stdout",
     "output_type": "stream",
     "text": [
      "\u001b[1m\u001b[7m\u001b[32mNo rows\u001b[0m\n",
      "time: 85.8 ms\n"
     ]
    }
   ],
   "source": [
    "# Duplikate anzeigen\n",
    "dupmask = wiktionary.duplicated(subset=['section_id'], keep=False)\n",
    "grid( wiktionary[dupmask].sort_values('title'), color='green'   )"
   ]
  },
  {
   "cell_type": "code",
   "execution_count": 21,
   "metadata": {
    "colab": {
     "base_uri": "https://localhost:8080/"
    },
    "executionInfo": {
     "elapsed": 607,
     "status": "ok",
     "timestamp": 1676477867599,
     "user": {
      "displayName": "Hups Hopsalla",
      "userId": "10020718461385065661"
     },
     "user_tz": -60
    },
    "id": "6Mfm2-X1n5O-",
    "outputId": "273de0cc-8c01-431b-93d2-a147b6e2fdcf"
   },
   "outputs": [
    {
     "name": "stdout",
     "output_type": "stream",
     "text": [
      "time: 713 ms\n"
     ]
    }
   ],
   "source": [
    "# Zeilen wieder sortieren\n",
    "wiktionary = wiktionary.sort_values(['section_id'])"
   ]
  },
  {
   "cell_type": "code",
   "execution_count": 22,
   "metadata": {
    "colab": {
     "base_uri": "https://localhost:8080/"
    },
    "executionInfo": {
     "elapsed": 1078,
     "status": "ok",
     "timestamp": 1676477868672,
     "user": {
      "displayName": "Hups Hopsalla",
      "userId": "10020718461385065661"
     },
     "user_tz": -60
    },
    "id": "j6T_gkzgn5O-",
    "outputId": "e7b7899a-11b4-493f-fa20-7fca95df361d"
   },
   "outputs": [
    {
     "name": "stdout",
     "output_type": "stream",
     "text": [
      "time: 601 ms\n"
     ]
    }
   ],
   "source": [
    "# Spalten in Ordnung bringen\n",
    "wiktionary = pak.move_cols(wiktionary, 'section_id')\n",
    "wiktionary = pak.move_cols(wiktionary, 'section_id2', to='page_part')"
   ]
  },
  {
   "cell_type": "code",
   "execution_count": 23,
   "metadata": {
    "colab": {
     "base_uri": "https://localhost:8080/",
     "height": 1000
    },
    "executionInfo": {
     "elapsed": 19,
     "status": "ok",
     "timestamp": 1676477868673,
     "user": {
      "displayName": "Hups Hopsalla",
      "userId": "10020718461385065661"
     },
     "user_tz": -60
    },
    "id": "c-T-zEBgn5O-",
    "outputId": "42fe9c11-c3a9-4e86-826a-fabccfd72723"
   },
   "outputs": [
    {
     "name": "stdout",
     "output_type": "stream",
     "text": [
      "100 rows\n"
     ]
    },
    {
     "data": {
      "text/html": [
       "\n",
       "        <iframe\n",
       "            width=\"100%\"\n",
       "            height=\"475\"\n",
       "            src=\"http://pop-os:40000/dtale/iframe/4\"\n",
       "            frameborder=\"0\"\n",
       "            allowfullscreen\n",
       "            \n",
       "        ></iframe>\n",
       "        "
      ],
      "text/plain": [
       "<IPython.lib.display.IFrame at 0x7f6c3136ac40>"
      ]
     },
     "metadata": {},
     "output_type": "display_data"
    },
    {
     "data": {
      "text/plain": []
     },
     "execution_count": 23,
     "metadata": {},
     "output_type": "execute_result"
    },
    {
     "name": "stdout",
     "output_type": "stream",
     "text": [
      "time: 98.9 ms\n"
     ]
    }
   ],
   "source": [
    "grid(wiktionary.head(100))"
   ]
  },
  {
   "cell_type": "markdown",
   "metadata": {
    "id": "pptycXjKn5O_"
   },
   "source": [
    "## Erste Korrekturen"
   ]
  },
  {
   "cell_type": "code",
   "execution_count": 24,
   "metadata": {
    "colab": {
     "base_uri": "https://localhost:8080/",
     "height": 67
    },
    "executionInfo": {
     "elapsed": 3306,
     "status": "ok",
     "timestamp": 1676477871969,
     "user": {
      "displayName": "Hups Hopsalla",
      "userId": "10020718461385065661"
     },
     "user_tz": -60
    },
    "id": "bx43Y4UCn5O_",
    "outputId": "9f2f984c-68e0-460e-da27-b5c300a00e4f"
   },
   "outputs": [
    {
     "data": {
      "text/html": [
       "<div>\n",
       "<style scoped>\n",
       "    .dataframe tbody tr th:only-of-type {\n",
       "        vertical-align: middle;\n",
       "    }\n",
       "\n",
       "    .dataframe tbody tr th {\n",
       "        vertical-align: top;\n",
       "    }\n",
       "\n",
       "    .dataframe thead th {\n",
       "        text-align: right;\n",
       "    }\n",
       "</style>\n",
       "<table border=\"1\" class=\"dataframe\">\n",
       "  <thead>\n",
       "    <tr style=\"text-align: right;\">\n",
       "      <th></th>\n",
       "      <th>section_id</th>\n",
       "      <th>page_id</th>\n",
       "      <th>page_part</th>\n",
       "      <th>section_id2</th>\n",
       "      <th>title</th>\n",
       "      <th>lemma</th>\n",
       "      <th>inflected</th>\n",
       "      <th>pos</th>\n",
       "      <th>rhymes</th>\n",
       "      <th>section_len</th>\n",
       "      <th>flexion</th>\n",
       "      <th>ipa</th>\n",
       "      <th>syllables</th>\n",
       "      <th>lang</th>\n",
       "      <th>lang_code</th>\n",
       "      <th>wikitext</th>\n",
       "      <th>error</th>\n",
       "    </tr>\n",
       "  </thead>\n",
       "  <tbody>\n",
       "  </tbody>\n",
       "</table>\n",
       "</div>"
      ],
      "text/plain": [
       "Empty DataFrame\n",
       "Columns: [section_id, page_id, page_part, section_id2, title, lemma, inflected, pos, rhymes, section_len, flexion, ipa, syllables, lang, lang_code, wikitext, error]\n",
       "Index: []"
      ]
     },
     "execution_count": 24,
     "metadata": {},
     "output_type": "execute_result"
    },
    {
     "name": "stdout",
     "output_type": "stream",
     "text": [
      "time: 2.78 s\n"
     ]
    }
   ],
   "source": [
    "mask1 = wiktionary.title == wiktionary.lemma\n",
    "mask2A = wiktionary.pos.str.contains('Deklinierte Form')\n",
    "mask2B = wiktionary.pos.str.contains('Konjugierte Form')\n",
    "mask = mask1  &  (mask2A | mask2B)\n",
    "wiktionary[mask]"
   ]
  },
  {
   "cell_type": "markdown",
   "metadata": {
    "id": "WLB4fvRkn5PA"
   },
   "source": [
    "## Fehler finden"
   ]
  },
  {
   "cell_type": "code",
   "execution_count": 25,
   "metadata": {
    "colab": {
     "base_uri": "https://localhost:8080/"
    },
    "executionInfo": {
     "elapsed": 386,
     "status": "ok",
     "timestamp": 1676477872344,
     "user": {
      "displayName": "Hups Hopsalla",
      "userId": "10020718461385065661"
     },
     "user_tz": -60
    },
    "id": "yklH9mezn5PA",
    "outputId": "8113f646-b80b-4a45-9c7d-a38146510a14"
   },
   "outputs": [
    {
     "name": "stdout",
     "output_type": "stream",
     "text": [
      "check_mask:  206 rows\n",
      "time: 251 ms\n"
     ]
    }
   ],
   "source": [
    "# Fehler: title zu kurz\n",
    "mask = (wiktionary.title.str.len() < 2)  \n",
    "check_mask(wiktionary, mask, 0, 800)\n",
    "wiktionary.loc[mask,'error'] = 'title zu kurz'\n",
    "#wiktionary = pak.drop_rows(wiktionary,mask)"
   ]
  },
  {
   "cell_type": "code",
   "execution_count": 26,
   "metadata": {
    "colab": {
     "base_uri": "https://localhost:8080/"
    },
    "executionInfo": {
     "elapsed": 16,
     "status": "ok",
     "timestamp": 1676477872345,
     "user": {
      "displayName": "Hups Hopsalla",
      "userId": "10020718461385065661"
     },
     "user_tz": -60
    },
    "id": "J8EysjJGn5PB",
    "outputId": "07fcee85-0607-46b4-dfd4-071189bdc00f"
   },
   "outputs": [
    {
     "name": "stdout",
     "output_type": "stream",
     "text": [
      "check_mask:  0 rows\n",
      "time: 75.5 ms\n"
     ]
    }
   ],
   "source": [
    "# Fehler: page_part > 9\n",
    "mask = (wiktionary.page_part > 9)   &   (wiktionary.error == '')\n",
    "check_mask( wiktionary, mask, 0, 10 )\n",
    "wiktionary.loc[mask,'error'] = 'page_part > 9'"
   ]
  },
  {
   "cell_type": "code",
   "execution_count": 27,
   "metadata": {
    "colab": {
     "base_uri": "https://localhost:8080/"
    },
    "executionInfo": {
     "elapsed": 1399,
     "status": "ok",
     "timestamp": 1676477874383,
     "user": {
      "displayName": "Hups Hopsalla",
      "userId": "10020718461385065661"
     },
     "user_tz": -60
    },
    "id": "Af29piXnn5PB",
    "outputId": "079e0ac6-2f39-47c1-d8cf-9ffa5ac6daff"
   },
   "outputs": [
    {
     "name": "stdout",
     "output_type": "stream",
     "text": [
      "time: 1.64 s\n"
     ]
    }
   ],
   "source": [
    "# Fehler finden: Uneindeutige Zuordnung\n",
    "assert pak.same_but_different(wiktionary, ['page_id'], 'title').shape[0] == 0\n",
    "assert pak.same_but_different(wiktionary, ['title'],   'page_id').shape[0] < 10  # es gibt ein paar Ausnahmen. Das kommt durch die Bereinigung. Ist aber egal."
   ]
  },
  {
   "cell_type": "code",
   "execution_count": 28,
   "metadata": {
    "colab": {
     "base_uri": "https://localhost:8080/"
    },
    "executionInfo": {
     "elapsed": 2294,
     "status": "ok",
     "timestamp": 1676477876668,
     "user": {
      "displayName": "Hups Hopsalla",
      "userId": "10020718461385065661"
     },
     "user_tz": -60
    },
    "id": "xe7dZacYn5PB",
    "outputId": "97594663-99b1-44d7-bc29-b85bd227f9e5"
   },
   "outputs": [
    {
     "name": "stdout",
     "output_type": "stream",
     "text": [
      "time: 1.66 s\n"
     ]
    }
   ],
   "source": [
    "# Fehler finden: Uneindeutige Zuordnung\n",
    "assert pak.same_but_different(wiktionary, ['section_id'],  'section_id2').shape[0] == 0\n",
    "assert pak.same_but_different(wiktionary, ['section_id2'], 'section_id').shape[0] == 0"
   ]
  },
  {
   "cell_type": "code",
   "execution_count": 29,
   "metadata": {
    "colab": {
     "base_uri": "https://localhost:8080/"
    },
    "executionInfo": {
     "elapsed": 627,
     "status": "ok",
     "timestamp": 1676477877289,
     "user": {
      "displayName": "Hups Hopsalla",
      "userId": "10020718461385065661"
     },
     "user_tz": -60
    },
    "id": "Mhvelu1pn5PC",
    "outputId": "d1de0463-76e9-499f-deaf-343d2b52e34b"
   },
   "outputs": [
    {
     "name": "stdout",
     "output_type": "stream",
     "text": [
      "check_mask:  10 rows\n",
      "time: 103 ms\n"
     ]
    }
   ],
   "source": [
    "# lang_code ist nan\n",
    "mask = wiktionary.lang_code.isna()   &   (wiktionary.error == '')\n",
    "check_mask(wiktionary, mask, 0, 9000)\n",
    "wiktionary.loc[mask,'error'] = 'lang_code ist nan'\n",
    "#grid(wiktionary, mask)"
   ]
  },
  {
   "cell_type": "code",
   "execution_count": 30,
   "metadata": {
    "colab": {
     "base_uri": "https://localhost:8080/"
    },
    "executionInfo": {
     "elapsed": 250,
     "status": "ok",
     "timestamp": 1676477877535,
     "user": {
      "displayName": "Hups Hopsalla",
      "userId": "10020718461385065661"
     },
     "user_tz": -60
    },
    "id": "8UQY1SlEn5PC",
    "outputId": "17f672fe-e883-41ec-aad5-63caa8b1162c"
   },
   "outputs": [
    {
     "name": "stdout",
     "output_type": "stream",
     "text": [
      "check_mask:  0 rows\n",
      "time: 122 ms\n"
     ]
    }
   ],
   "source": [
    "# lang_code != de\n",
    "mask = (wiktionary.lang_code != 'de')   &   (wiktionary.error == '')\n",
    "check_mask(wiktionary, mask, 0, 10)\n",
    "wiktionary.loc[mask,'error'] = 'lang_code != de'"
   ]
  },
  {
   "cell_type": "code",
   "execution_count": 31,
   "metadata": {
    "colab": {
     "base_uri": "https://localhost:8080/"
    },
    "executionInfo": {
     "elapsed": 249,
     "status": "ok",
     "timestamp": 1676477877777,
     "user": {
      "displayName": "Hups Hopsalla",
      "userId": "10020718461385065661"
     },
     "user_tz": -60
    },
    "id": "ECLS9kIVn5PD",
    "outputId": "c386b9a8-a5ec-40c6-d0c1-8df67532b8b2"
   },
   "outputs": [
    {
     "name": "stdout",
     "output_type": "stream",
     "text": [
      "check_mask:  0 rows\n",
      "time: 170 ms\n"
     ]
    }
   ],
   "source": [
    "# lang ist nan\n",
    "mask = wiktionary.lang.isna()   &   (wiktionary.error == '')\n",
    "check_mask(wiktionary, mask, 0, 200)\n",
    "wiktionary.loc[mask,'error'] = 'lang ist nan'\n",
    "#grid(wiktionary, mask)"
   ]
  },
  {
   "cell_type": "code",
   "execution_count": 32,
   "metadata": {
    "colab": {
     "base_uri": "https://localhost:8080/"
    },
    "executionInfo": {
     "elapsed": 248,
     "status": "ok",
     "timestamp": 1676477878021,
     "user": {
      "displayName": "Hups Hopsalla",
      "userId": "10020718461385065661"
     },
     "user_tz": -60
    },
    "id": "wnAm1gDKn5PD",
    "outputId": "53df8b8e-da50-414a-abad-0e76b03104a3"
   },
   "outputs": [
    {
     "name": "stdout",
     "output_type": "stream",
     "text": [
      "check_mask:  0 rows\n",
      "time: 192 ms\n"
     ]
    }
   ],
   "source": [
    "# lang != Deutsch\n",
    "mask = (wiktionary.lang != 'Deutsch')   &  (wiktionary.error == '')\n",
    "check_mask(wiktionary, mask, 0, 10000)\n",
    "wiktionary.loc[mask,'error'] = 'lang != Deutsch'"
   ]
  },
  {
   "cell_type": "code",
   "execution_count": 33,
   "metadata": {
    "colab": {
     "base_uri": "https://localhost:8080/"
    },
    "executionInfo": {
     "elapsed": 3625,
     "status": "ok",
     "timestamp": 1676477881641,
     "user": {
      "displayName": "Hups Hopsalla",
      "userId": "10020718461385065661"
     },
     "user_tz": -60
    },
    "id": "ci7tPl8rn5PE",
    "outputId": "151ff5fe-cae6-41e0-e738-3b41b7d6a1c8"
   },
   "outputs": [
    {
     "name": "stdout",
     "output_type": "stream",
     "text": [
      "check_mask:  3910 rows\n",
      "time: 611 ms\n"
     ]
    }
   ],
   "source": [
    "# title zu viele Wörter\n",
    "mask = (wiktionary.title.str.split().str.len() > 2)   &  (wiktionary.error == '')\n",
    "check_mask(wiktionary, mask, 0, 4000)\n",
    "wiktionary.loc[mask,'error'] = 'title zu viele Wörter'"
   ]
  },
  {
   "cell_type": "code",
   "execution_count": 34,
   "metadata": {
    "colab": {
     "base_uri": "https://localhost:8080/"
    },
    "executionInfo": {
     "elapsed": 53,
     "status": "ok",
     "timestamp": 1676477881642,
     "user": {
      "displayName": "Hups Hopsalla",
      "userId": "10020718461385065661"
     },
     "user_tz": -60
    },
    "id": "YEH5QepMn5PE",
    "outputId": "4eddf114-1d4a-441e-c210-bf3748b2a19f"
   },
   "outputs": [
    {
     "name": "stdout",
     "output_type": "stream",
     "text": [
      "check_mask:  26 rows\n",
      "time: 294 ms\n"
     ]
    }
   ],
   "source": [
    "# lemma zu kurz\n",
    "mask = (wiktionary.lemma.str.len() < 2)   &  (wiktionary.error == '')\n",
    "check_mask(wiktionary, mask, 0, 100)\n",
    "wiktionary.loc[mask,'error'] = 'lemma zu kurz'\n",
    "#grid(wiktionary,mask)"
   ]
  },
  {
   "cell_type": "code",
   "execution_count": 35,
   "metadata": {
    "colab": {
     "base_uri": "https://localhost:8080/"
    },
    "executionInfo": {
     "elapsed": 362,
     "status": "ok",
     "timestamp": 1676477881959,
     "user": {
      "displayName": "Hups Hopsalla",
      "userId": "10020718461385065661"
     },
     "user_tz": -60
    },
    "id": "uqgJKyspn5PE",
    "outputId": "10f6ae51-684c-4e24-ec9b-b4cf3f1a9966"
   },
   "outputs": [
    {
     "name": "stdout",
     "output_type": "stream",
     "text": [
      "check_mask:  0 rows\n",
      "time: 167 ms\n"
     ]
    }
   ],
   "source": [
    "# pos ist nan\n",
    "mask = wiktionary.pos.isna()   &   (wiktionary.error == '')\n",
    "check_mask(wiktionary, mask, 0, 100)\n",
    "wiktionary.loc[mask,'error'] = 'pos ist nan'\n",
    "#grid(wiktionary, mask)"
   ]
  },
  {
   "cell_type": "code",
   "execution_count": 36,
   "metadata": {
    "colab": {
     "base_uri": "https://localhost:8080/"
    },
    "executionInfo": {
     "elapsed": 14,
     "status": "ok",
     "timestamp": 1676477881960,
     "user": {
      "displayName": "Hups Hopsalla",
      "userId": "10020718461385065661"
     },
     "user_tz": -60
    },
    "id": "kjmVmGL6n5PF",
    "outputId": "97261b50-8c1c-4aeb-c6a9-9b82a2c8bb18"
   },
   "outputs": [
    {
     "name": "stdout",
     "output_type": "stream",
     "text": [
      "time: 31.2 ms\n"
     ]
    }
   ],
   "source": [
    "# pos zu kurz\n",
    "#mask = (wiktionary.pos.str.len() < 2)   &  wiktionary.error.isnull()\n",
    "#check_mask(wiktionary, mask, 0, 10)\n",
    "#wiktionary.loc[mask,'error'] = 'pos zu kurz'"
   ]
  },
  {
   "cell_type": "markdown",
   "metadata": {
    "id": "Cb6WrTT7n5PF"
   },
   "source": [
    "## Trash"
   ]
  },
  {
   "cell_type": "code",
   "execution_count": 37,
   "metadata": {
    "colab": {
     "base_uri": "https://localhost:8080/"
    },
    "executionInfo": {
     "elapsed": 735,
     "status": "ok",
     "timestamp": 1676477882689,
     "user": {
      "displayName": "Hups Hopsalla",
      "userId": "10020718461385065661"
     },
     "user_tz": -60
    },
    "id": "NfTjGcTFn5PG",
    "outputId": "a8b9a0ec-1e2e-45ad-f172-bdb781032727"
   },
   "outputs": [
    {
     "name": "stdout",
     "output_type": "stream",
     "text": [
      "Move 4152 rows from 841745\n",
      "time: 576 ms\n"
     ]
    }
   ],
   "source": [
    "# Fehler aussortieren\n",
    "mask = wiktionary.error != ''\n",
    "wiktionary, wiktionary_trash = pak.move_rows( wiktionary, mask )       "
   ]
  },
  {
   "cell_type": "code",
   "execution_count": 38,
   "metadata": {
    "colab": {
     "base_uri": "https://localhost:8080/",
     "height": 192
    },
    "executionInfo": {
     "elapsed": 853,
     "status": "ok",
     "timestamp": 1676477883536,
     "user": {
      "displayName": "Hups Hopsalla",
      "userId": "10020718461385065661"
     },
     "user_tz": -60
    },
    "id": "IUfo9osdn5PG",
    "outputId": "0bc0865e-78d1-4b45-cb96-5992f600da19"
   },
   "outputs": [
    {
     "data": {
      "text/html": [
       "<div>\n",
       "<style scoped>\n",
       "    .dataframe tbody tr th:only-of-type {\n",
       "        vertical-align: middle;\n",
       "    }\n",
       "\n",
       "    .dataframe tbody tr th {\n",
       "        vertical-align: top;\n",
       "    }\n",
       "\n",
       "    .dataframe thead th {\n",
       "        text-align: right;\n",
       "    }\n",
       "</style>\n",
       "<table border=\"1\" class=\"dataframe\">\n",
       "  <thead>\n",
       "    <tr style=\"text-align: right;\">\n",
       "      <th></th>\n",
       "      <th>item</th>\n",
       "      <th>item_count</th>\n",
       "      <th>item_percent</th>\n",
       "      <th>graph</th>\n",
       "    </tr>\n",
       "  </thead>\n",
       "  <tbody>\n",
       "    <tr>\n",
       "      <th>0</th>\n",
       "      <td>title zu viele Wörter</td>\n",
       "      <td>3910</td>\n",
       "      <td>94.2</td>\n",
       "      <td>###############################################</td>\n",
       "    </tr>\n",
       "    <tr>\n",
       "      <th>1</th>\n",
       "      <td>title zu kurz</td>\n",
       "      <td>206</td>\n",
       "      <td>5.0</td>\n",
       "      <td>##</td>\n",
       "    </tr>\n",
       "    <tr>\n",
       "      <th>2</th>\n",
       "      <td>lemma zu kurz</td>\n",
       "      <td>26</td>\n",
       "      <td>0.6</td>\n",
       "      <td></td>\n",
       "    </tr>\n",
       "    <tr>\n",
       "      <th>3</th>\n",
       "      <td>lang_code ist nan</td>\n",
       "      <td>10</td>\n",
       "      <td>0.2</td>\n",
       "      <td></td>\n",
       "    </tr>\n",
       "  </tbody>\n",
       "</table>\n",
       "</div>"
      ],
      "text/plain": [
       "                    item  item_count  item_percent  \\\n",
       "0  title zu viele Wörter        3910          94.2   \n",
       "1          title zu kurz         206           5.0   \n",
       "2          lemma zu kurz          26           0.6   \n",
       "3      lang_code ist nan          10           0.2   \n",
       "\n",
       "                                             graph  \n",
       "0  ###############################################  \n",
       "1                                               ##  \n",
       "2                                                   \n",
       "3                                                   "
      ]
     },
     "execution_count": 38,
     "metadata": {},
     "output_type": "execute_result"
    },
    {
     "name": "stdout",
     "output_type": "stream",
     "text": [
      "time: 43.2 ms\n"
     ]
    }
   ],
   "source": [
    "pak.analyse_freqs(wiktionary_trash.error)"
   ]
  },
  {
   "cell_type": "code",
   "execution_count": 39,
   "metadata": {
    "colab": {
     "base_uri": "https://localhost:8080/",
     "height": 1000
    },
    "executionInfo": {
     "elapsed": 34,
     "status": "ok",
     "timestamp": 1676477883537,
     "user": {
      "displayName": "Hups Hopsalla",
      "userId": "10020718461385065661"
     },
     "user_tz": -60
    },
    "id": "-_8FQQ7sn5PG",
    "outputId": "1ace74b2-027d-443e-ef31-7078c0b09ec6"
   },
   "outputs": [
    {
     "name": "stdout",
     "output_type": "stream",
     "text": [
      "26 rows out of 4152\n"
     ]
    },
    {
     "data": {
      "text/html": [
       "\n",
       "        <iframe\n",
       "            width=\"100%\"\n",
       "            height=\"475\"\n",
       "            src=\"http://pop-os:40000/dtale/iframe/5\"\n",
       "            frameborder=\"0\"\n",
       "            allowfullscreen\n",
       "            \n",
       "        ></iframe>\n",
       "        "
      ],
      "text/plain": [
       "<IPython.lib.display.IFrame at 0x7f6c37df5a60>"
      ]
     },
     "metadata": {},
     "output_type": "display_data"
    },
    {
     "data": {
      "text/plain": []
     },
     "execution_count": 39,
     "metadata": {},
     "output_type": "execute_result"
    },
    {
     "name": "stdout",
     "output_type": "stream",
     "text": [
      "time: 158 ms\n"
     ]
    }
   ],
   "source": [
    "# Bestimmten Fehler anzeigen\n",
    "# mask = wiktionary_trash.error == 'lang_code ist nan'\n",
    "mask = wiktionary_trash.error == 'lemma zu kurz'\n",
    "grid(wiktionary_trash, mask)"
   ]
  },
  {
   "cell_type": "markdown",
   "metadata": {
    "id": "DsJy2_ZAn5PH"
   },
   "source": [
    "## nnan"
   ]
  },
  {
   "cell_type": "code",
   "execution_count": 40,
   "metadata": {
    "colab": {
     "base_uri": "https://localhost:8080/"
    },
    "executionInfo": {
     "elapsed": 273,
     "status": "ok",
     "timestamp": 1676477883788,
     "user": {
      "displayName": "Hups Hopsalla",
      "userId": "10020718461385065661"
     },
     "user_tz": -60
    },
    "id": "RQ3niGN0n5PH",
    "outputId": "2ef905b5-c616-462e-d39e-b2e73c8cdcf3"
   },
   "outputs": [
    {
     "data": {
      "text/plain": [
       "rhymes       527175\n",
       "flexion      713384\n",
       "ipa           14004\n",
       "syllables      4949\n",
       "dtype: int64"
      ]
     },
     "execution_count": 40,
     "metadata": {},
     "output_type": "execute_result"
    },
    {
     "name": "stdout",
     "output_type": "stream",
     "text": [
      "time: 1.58 s\n"
     ]
    }
   ],
   "source": [
    "pak.nnan(wiktionary)"
   ]
  },
  {
   "cell_type": "markdown",
   "metadata": {
    "id": "jsHcLAbCn5PH"
   },
   "source": [
    "## Spalten löschen"
   ]
  },
  {
   "cell_type": "code",
   "execution_count": 41,
   "metadata": {
    "colab": {
     "base_uri": "https://localhost:8080/"
    },
    "executionInfo": {
     "elapsed": 483,
     "status": "ok",
     "timestamp": 1676477884268,
     "user": {
      "displayName": "Hups Hopsalla",
      "userId": "10020718461385065661"
     },
     "user_tz": -60
    },
    "id": "GGAX9gftn5PH",
    "outputId": "00ae9d20-a445-432a-cd7a-20fa3f968449"
   },
   "outputs": [
    {
     "name": "stdout",
     "output_type": "stream",
     "text": [
      "time: 238 ms\n"
     ]
    }
   ],
   "source": [
    "# lang, lang_code, ipa, syllables\n",
    "assert wiktionary.lang.nunique() == 1\n",
    "assert wiktionary.lang_code.nunique() == 1\n",
    "#wiktionary = pak.drop_cols(wiktionary,      ['lang','lang_code','inflected'])"
   ]
  },
  {
   "cell_type": "markdown",
   "metadata": {
    "id": "cKHkb-9jn5PI"
   },
   "source": [
    "## Speichern"
   ]
  },
  {
   "cell_type": "code",
   "execution_count": 42,
   "metadata": {
    "colab": {
     "base_uri": "https://localhost:8080/"
    },
    "executionInfo": {
     "elapsed": 246,
     "status": "ok",
     "timestamp": 1676477884509,
     "user": {
      "displayName": "Hups Hopsalla",
      "userId": "10020718461385065661"
     },
     "user_tz": -60
    },
    "id": "Cm6zVZbrn5PI",
    "outputId": "3613fb68-1e81-4978-cc95-3efb36d8de0a"
   },
   "outputs": [
    {
     "name": "stdout",
     "output_type": "stream",
     "text": [
      "check_mask:  0 rows\n",
      "time: 295 ms\n"
     ]
    }
   ],
   "source": [
    "# Keine Leerzeichen in der ID\n",
    "mask = wiktionary.section_id2.str.contains(' ')\n",
    "check_mask(wiktionary,mask,0)"
   ]
  },
  {
   "cell_type": "code",
   "execution_count": 43,
   "metadata": {
    "colab": {
     "base_uri": "https://localhost:8080/"
    },
    "executionInfo": {
     "elapsed": 32317,
     "status": "ok",
     "timestamp": 1676477917378,
     "user": {
      "displayName": "Hups Hopsalla",
      "userId": "10020718461385065661"
     },
     "user_tz": -60
    },
    "id": "3XT0tk-Kn5PI",
    "outputId": "e51ea8b0-4830-44b7-d4f0-085512e32211"
   },
   "outputs": [
    {
     "name": "stdout",
     "output_type": "stream",
     "text": [
      "time: 31.9 s\n"
     ]
    }
   ],
   "source": [
    "if wiktionary_filename:\n",
    "    pak.dump_pickle(wiktionary, wiktionary_filename) "
   ]
  },
  {
   "cell_type": "code",
   "execution_count": 44,
   "metadata": {
    "colab": {
     "base_uri": "https://localhost:8080/"
    },
    "executionInfo": {
     "elapsed": 79,
     "status": "ok",
     "timestamp": 1676477917382,
     "user": {
      "displayName": "Hups Hopsalla",
      "userId": "10020718461385065661"
     },
     "user_tz": -60
    },
    "id": "TBRgY3bZn5PJ",
    "outputId": "237a95ea-65d4-4dae-c2c7-2222de7b61af"
   },
   "outputs": [
    {
     "name": "stdout",
     "output_type": "stream",
     "text": [
      "time: 258 ms\n"
     ]
    }
   ],
   "source": [
    "if wiktionary_trash_filename   and   wiktionary_trash.shape[0] > 0:\n",
    "    pak.dump_pickle(wiktionary_trash, wiktionary_trash_filename)    "
   ]
  },
  {
   "cell_type": "code",
   "execution_count": 50,
   "metadata": {},
   "outputs": [
    {
     "name": "stdout",
     "output_type": "stream",
     "text": [
      "time: 49 ms\n",
      "Executing shutdown due to inactivity...\n"
     ]
    },
    {
     "name": "stderr",
     "output_type": "stream",
     "text": [
      "2023-02-16 21:21:21,136 - INFO     - Executing shutdown due to inactivity...\n"
     ]
    },
    {
     "name": "stdout",
     "output_type": "stream",
     "text": [
      "Executing shutdown...\n"
     ]
    },
    {
     "name": "stderr",
     "output_type": "stream",
     "text": [
      "2023-02-16 21:21:21,154 - INFO     - Executing shutdown...\n"
     ]
    },
    {
     "name": "stdout",
     "output_type": "stream",
     "text": [
      "Exception on /shutdown [GET]\n",
      "Traceback (most recent call last):\n",
      "  File \"/home/me/mambaforge/envs/python_06/lib/python3.9/site-packages/flask/app.py\", line 2525, in wsgi_app\n",
      "    response = self.full_dispatch_request()\n",
      "  File \"/home/me/mambaforge/envs/python_06/lib/python3.9/site-packages/flask/app.py\", line 1822, in full_dispatch_request\n",
      "    rv = self.handle_user_exception(e)\n",
      "  File \"/home/me/mambaforge/envs/python_06/lib/python3.9/site-packages/flask/app.py\", line 1820, in full_dispatch_request\n",
      "    rv = self.dispatch_request()\n",
      "  File \"/home/me/mambaforge/envs/python_06/lib/python3.9/site-packages/flask/app.py\", line 1796, in dispatch_request\n",
      "    return self.ensure_sync(self.view_functions[rule.endpoint])(**view_args)\n",
      "  File \"/home/me/mambaforge/envs/python_06/lib/python3.9/site-packages/dtale/app.py\", line 435, in shutdown\n",
      "    shutdown_server()\n",
      "  File \"/home/me/mambaforge/envs/python_06/lib/python3.9/site-packages/dtale/app.py\", line 421, in shutdown_server\n",
      "    raise RuntimeError(\"Not running with the Werkzeug Server\")\n",
      "RuntimeError: Not running with the Werkzeug Server\n"
     ]
    },
    {
     "name": "stderr",
     "output_type": "stream",
     "text": [
      "2023-02-16 21:21:21,156 - ERROR    - Exception on /shutdown [GET]\n",
      "Traceback (most recent call last):\n",
      "  File \"/home/me/mambaforge/envs/python_06/lib/python3.9/site-packages/flask/app.py\", line 2525, in wsgi_app\n",
      "    response = self.full_dispatch_request()\n",
      "  File \"/home/me/mambaforge/envs/python_06/lib/python3.9/site-packages/flask/app.py\", line 1822, in full_dispatch_request\n",
      "    rv = self.handle_user_exception(e)\n",
      "  File \"/home/me/mambaforge/envs/python_06/lib/python3.9/site-packages/flask/app.py\", line 1820, in full_dispatch_request\n",
      "    rv = self.dispatch_request()\n",
      "  File \"/home/me/mambaforge/envs/python_06/lib/python3.9/site-packages/flask/app.py\", line 1796, in dispatch_request\n",
      "    return self.ensure_sync(self.view_functions[rule.endpoint])(**view_args)\n",
      "  File \"/home/me/mambaforge/envs/python_06/lib/python3.9/site-packages/dtale/app.py\", line 435, in shutdown\n",
      "    shutdown_server()\n",
      "  File \"/home/me/mambaforge/envs/python_06/lib/python3.9/site-packages/dtale/app.py\", line 421, in shutdown_server\n",
      "    raise RuntimeError(\"Not running with the Werkzeug Server\")\n",
      "RuntimeError: Not running with the Werkzeug Server\n"
     ]
    }
   ],
   "source": [
    "# Ausgabeverzeichnis touch\n",
    "import os\n",
    "os.utime(verzeichnis_save)"
   ]
  },
  {
   "cell_type": "code",
   "execution_count": 45,
   "metadata": {
    "colab": {
     "base_uri": "https://localhost:8080/"
    },
    "executionInfo": {
     "elapsed": 7425,
     "status": "ok",
     "timestamp": 1676479015113,
     "user": {
      "displayName": "Hups Hopsalla",
      "userId": "10020718461385065661"
     },
     "user_tz": -60
    },
    "id": "dbiDceKXyUx7",
    "outputId": "beb0cf2a-bc86-47c4-81e6-b11c7354957c"
   },
   "outputs": [
    {
     "name": "stdout",
     "output_type": "stream",
     "text": [
      "time: 33.5 ms\n"
     ]
    }
   ],
   "source": [
    "# Save in Google Drive\n",
    "if environment['in_colab']:\n",
    "    from google.colab import drive\n",
    "    drive.mount('/content/drive') \n",
    "    !cd /content\n",
    "    !cp -av {verzeichnis_save} /content/drive/MyDrive "
   ]
  },
  {
   "cell_type": "markdown",
   "metadata": {
    "id": "OVRbZPEJn5PJ"
   },
   "source": [
    "## Kontrolle"
   ]
  },
  {
   "cell_type": "code",
   "execution_count": 46,
   "metadata": {
    "colab": {
     "base_uri": "https://localhost:8080/",
     "height": 232
    },
    "executionInfo": {
     "elapsed": 72,
     "status": "ok",
     "timestamp": 1676477917384,
     "user": {
      "displayName": "Hups Hopsalla",
      "userId": "10020718461385065661"
     },
     "user_tz": -60
    },
    "id": "6DQQtamon5PJ",
    "outputId": "3ae1d1f9-bd0b-4bbc-8261-55992be9fcb4"
   },
   "outputs": [
    {
     "name": "stdout",
     "output_type": "stream",
     "text": [
      "1 rows out of 837593\n"
     ]
    },
    {
     "data": {
      "text/html": [
       "\n",
       "        <iframe\n",
       "            width=\"100%\"\n",
       "            height=\"475\"\n",
       "            src=\"http://pop-os:40000/dtale/iframe/6\"\n",
       "            frameborder=\"0\"\n",
       "            allowfullscreen\n",
       "            \n",
       "        ></iframe>\n",
       "        "
      ],
      "text/plain": [
       "<IPython.lib.display.IFrame at 0x7f6c086cd6d0>"
      ]
     },
     "metadata": {},
     "output_type": "display_data"
    },
    {
     "data": {
      "text/plain": []
     },
     "execution_count": 46,
     "metadata": {},
     "output_type": "execute_result"
    },
    {
     "name": "stdout",
     "output_type": "stream",
     "text": [
      "time: 153 ms\n"
     ]
    }
   ],
   "source": [
    "# suche_debug\n",
    "mask = wiktionary.title.isin(suche_debug)\n",
    "grid(wiktionary, mask)"
   ]
  },
  {
   "cell_type": "code",
   "execution_count": 47,
   "metadata": {
    "colab": {
     "base_uri": "https://localhost:8080/",
     "height": 380
    },
    "executionInfo": {
     "elapsed": 62,
     "status": "ok",
     "timestamp": 1676477917385,
     "user": {
      "displayName": "Hups Hopsalla",
      "userId": "10020718461385065661"
     },
     "user_tz": -60
    },
    "id": "sOMGzdTXn5PJ",
    "outputId": "1c8c3632-ae43-4bf4-d150-0557fc40546e"
   },
   "outputs": [
    {
     "data": {
      "text/html": [
       "<div>\n",
       "<style scoped>\n",
       "    .dataframe tbody tr th:only-of-type {\n",
       "        vertical-align: middle;\n",
       "    }\n",
       "\n",
       "    .dataframe tbody tr th {\n",
       "        vertical-align: top;\n",
       "    }\n",
       "\n",
       "    .dataframe thead th {\n",
       "        text-align: right;\n",
       "    }\n",
       "</style>\n",
       "<table border=\"1\" class=\"dataframe\">\n",
       "  <thead>\n",
       "    <tr style=\"text-align: right;\">\n",
       "      <th></th>\n",
       "      <th>item</th>\n",
       "      <th>item_count</th>\n",
       "      <th>item_percent</th>\n",
       "      <th>graph</th>\n",
       "    </tr>\n",
       "  </thead>\n",
       "  <tbody>\n",
       "    <tr>\n",
       "      <th>0</th>\n",
       "      <td>0</td>\n",
       "      <td>830604</td>\n",
       "      <td>99.2</td>\n",
       "      <td>#################################################</td>\n",
       "    </tr>\n",
       "    <tr>\n",
       "      <th>1</th>\n",
       "      <td>1000</td>\n",
       "      <td>6701</td>\n",
       "      <td>0.8</td>\n",
       "      <td></td>\n",
       "    </tr>\n",
       "    <tr>\n",
       "      <th>2</th>\n",
       "      <td>2000</td>\n",
       "      <td>223</td>\n",
       "      <td>0.0</td>\n",
       "      <td></td>\n",
       "    </tr>\n",
       "    <tr>\n",
       "      <th>3</th>\n",
       "      <td>3000</td>\n",
       "      <td>37</td>\n",
       "      <td>0.0</td>\n",
       "      <td></td>\n",
       "    </tr>\n",
       "    <tr>\n",
       "      <th>4</th>\n",
       "      <td>4000</td>\n",
       "      <td>12</td>\n",
       "      <td>0.0</td>\n",
       "      <td></td>\n",
       "    </tr>\n",
       "    <tr>\n",
       "      <th>5</th>\n",
       "      <td>5000</td>\n",
       "      <td>7</td>\n",
       "      <td>0.0</td>\n",
       "      <td></td>\n",
       "    </tr>\n",
       "    <tr>\n",
       "      <th>6</th>\n",
       "      <td>6000</td>\n",
       "      <td>3</td>\n",
       "      <td>0.0</td>\n",
       "      <td></td>\n",
       "    </tr>\n",
       "    <tr>\n",
       "      <th>7</th>\n",
       "      <td>7000</td>\n",
       "      <td>3</td>\n",
       "      <td>0.0</td>\n",
       "      <td></td>\n",
       "    </tr>\n",
       "    <tr>\n",
       "      <th>8</th>\n",
       "      <td>8000</td>\n",
       "      <td>2</td>\n",
       "      <td>0.0</td>\n",
       "      <td></td>\n",
       "    </tr>\n",
       "    <tr>\n",
       "      <th>9</th>\n",
       "      <td>9000</td>\n",
       "      <td>1</td>\n",
       "      <td>0.0</td>\n",
       "      <td></td>\n",
       "    </tr>\n",
       "  </tbody>\n",
       "</table>\n",
       "</div>"
      ],
      "text/plain": [
       "   item  item_count  item_percent  \\\n",
       "0     0      830604          99.2   \n",
       "1  1000        6701           0.8   \n",
       "2  2000         223           0.0   \n",
       "3  3000          37           0.0   \n",
       "4  4000          12           0.0   \n",
       "5  5000           7           0.0   \n",
       "6  6000           3           0.0   \n",
       "7  7000           3           0.0   \n",
       "8  8000           2           0.0   \n",
       "9  9000           1           0.0   \n",
       "\n",
       "                                               graph  \n",
       "0  #################################################  \n",
       "1                                                     \n",
       "2                                                     \n",
       "3                                                     \n",
       "4                                                     \n",
       "5                                                     \n",
       "6                                                     \n",
       "7                                                     \n",
       "8                                                     \n",
       "9                                                     "
      ]
     },
     "execution_count": 47,
     "metadata": {},
     "output_type": "execute_result"
    },
    {
     "name": "stdout",
     "output_type": "stream",
     "text": [
      "time: 221 ms\n"
     ]
    }
   ],
   "source": [
    "# histo section_len\n",
    "a = (wiktionary.section_len / 10000).round().astype('int') * 1000\n",
    "pak.analyse_freqs(a, sort_count=False)"
   ]
  },
  {
   "cell_type": "code",
   "execution_count": 48,
   "metadata": {
    "colab": {
     "base_uri": "https://localhost:8080/",
     "height": 286
    },
    "executionInfo": {
     "elapsed": 499,
     "status": "ok",
     "timestamp": 1676477917825,
     "user": {
      "displayName": "Hups Hopsalla",
      "userId": "10020718461385065661"
     },
     "user_tz": -60
    },
    "id": "4j4VncQXn5PK",
    "outputId": "b572817a-e2dc-4b38-826a-fb63870c314c"
   },
   "outputs": [
    {
     "data": {
      "text/html": [
       "<div>\n",
       "<style scoped>\n",
       "    .dataframe tbody tr th:only-of-type {\n",
       "        vertical-align: middle;\n",
       "    }\n",
       "\n",
       "    .dataframe tbody tr th {\n",
       "        vertical-align: top;\n",
       "    }\n",
       "\n",
       "    .dataframe thead th {\n",
       "        text-align: right;\n",
       "    }\n",
       "</style>\n",
       "<table border=\"1\" class=\"dataframe\">\n",
       "  <thead>\n",
       "    <tr style=\"text-align: right;\">\n",
       "      <th></th>\n",
       "      <th>item</th>\n",
       "      <th>item_count</th>\n",
       "      <th>item_percent</th>\n",
       "      <th>graph</th>\n",
       "    </tr>\n",
       "  </thead>\n",
       "  <tbody>\n",
       "    <tr>\n",
       "      <th>0</th>\n",
       "      <td>0</td>\n",
       "      <td>802084</td>\n",
       "      <td>95.8</td>\n",
       "      <td>###############################################</td>\n",
       "    </tr>\n",
       "    <tr>\n",
       "      <th>1</th>\n",
       "      <td>1</td>\n",
       "      <td>33817</td>\n",
       "      <td>4.0</td>\n",
       "      <td>##</td>\n",
       "    </tr>\n",
       "    <tr>\n",
       "      <th>2</th>\n",
       "      <td>2</td>\n",
       "      <td>1452</td>\n",
       "      <td>0.2</td>\n",
       "      <td></td>\n",
       "    </tr>\n",
       "    <tr>\n",
       "      <th>3</th>\n",
       "      <td>3</td>\n",
       "      <td>205</td>\n",
       "      <td>0.0</td>\n",
       "      <td></td>\n",
       "    </tr>\n",
       "    <tr>\n",
       "      <th>4</th>\n",
       "      <td>4</td>\n",
       "      <td>29</td>\n",
       "      <td>0.0</td>\n",
       "      <td></td>\n",
       "    </tr>\n",
       "    <tr>\n",
       "      <th>5</th>\n",
       "      <td>5</td>\n",
       "      <td>5</td>\n",
       "      <td>0.0</td>\n",
       "      <td></td>\n",
       "    </tr>\n",
       "    <tr>\n",
       "      <th>6</th>\n",
       "      <td>6</td>\n",
       "      <td>1</td>\n",
       "      <td>0.0</td>\n",
       "      <td></td>\n",
       "    </tr>\n",
       "  </tbody>\n",
       "</table>\n",
       "</div>"
      ],
      "text/plain": [
       "   item  item_count  item_percent  \\\n",
       "0     0      802084          95.8   \n",
       "1     1       33817           4.0   \n",
       "2     2        1452           0.2   \n",
       "3     3         205           0.0   \n",
       "4     4          29           0.0   \n",
       "5     5           5           0.0   \n",
       "6     6           1           0.0   \n",
       "\n",
       "                                             graph  \n",
       "0  ###############################################  \n",
       "1                                               ##  \n",
       "2                                                   \n",
       "3                                                   \n",
       "4                                                   \n",
       "5                                                   \n",
       "6                                                   "
      ]
     },
     "execution_count": 48,
     "metadata": {},
     "output_type": "execute_result"
    },
    {
     "name": "stdout",
     "output_type": "stream",
     "text": [
      "time: 56.1 ms\n"
     ]
    }
   ],
   "source": [
    "# page_part\n",
    "pak.analyse_freqs(wiktionary.page_part, sort_count=False)"
   ]
  },
  {
   "cell_type": "code",
   "execution_count": 49,
   "metadata": {
    "colab": {
     "base_uri": "https://localhost:8080/",
     "height": 130
    },
    "executionInfo": {
     "elapsed": 51,
     "status": "error",
     "timestamp": 1676477917829,
     "user": {
      "displayName": "Hups Hopsalla",
      "userId": "10020718461385065661"
     },
     "user_tz": -60
    },
    "id": "WXlMuZ4Vn5PK",
    "outputId": "f1ef67ee-c9f5-4aa0-eb11-13c8dd9d8b74"
   },
   "outputs": [
    {
     "name": "stdout",
     "output_type": "stream",
     "text": [
      "Stop Time:  20:21:20\n",
      "Elapsed:    14 mins, 9 secs\n"
     ]
    },
    {
     "data": {
      "text/html": [
       "<img src onerror=\"var cell = this.closest('.jp-CodeCell');var editor = cell.querySelector('.jp-Editor');editor.style.background='DarkGray';this.parentNode.removeChild(this)\">"
      ],
      "text/plain": [
       "<IPython.core.display.HTML object>"
      ]
     },
     "metadata": {},
     "output_type": "display_data"
    },
    {
     "name": "stdout",
     "output_type": "stream",
     "text": [
      "time: 49.6 ms\n"
     ]
    }
   ],
   "source": [
    "raise Stop"
   ]
  }
 ],
 "metadata": {
  "colab": {
   "provenance": []
  },
  "kernelspec": {
   "display_name": "Python 3 (ipykernel)",
   "language": "python",
   "name": "python3"
  },
  "language_info": {
   "codemirror_mode": {
    "name": "ipython",
    "version": 3
   },
   "file_extension": ".py",
   "mimetype": "text/x-python",
   "name": "python",
   "nbconvert_exporter": "python",
   "pygments_lexer": "ipython3",
   "version": "3.9.13"
  }
 },
 "nbformat": 4,
 "nbformat_minor": 4
}
