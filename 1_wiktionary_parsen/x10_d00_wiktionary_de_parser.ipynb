{
 "cells": [
  {
   "cell_type": "markdown",
   "metadata": {
    "id": "lSehjmZun5OP"
   },
   "source": [
    "__[Open and try this file online (Colab)](https://colab.research.google.com/github/djekra/wiktionary_wortschatz/blob/master/1_wiktionary_parsen/x10_d00_wiktionary_de_parser.ipynb)__"
   ]
  },
  {
   "cell_type": "markdown",
   "metadata": {
    "id": "Zoyj9H-rn5Od"
   },
   "source": [
    "# wiktionary_de_parser\n",
    "* erstellt die Datei wiktionary_vvv.pickle in data_00\n",
    "* wendet wiktionary_de_parser an\n",
    "* braucht ca. 15 Minuten\n",
    "\n",
    "### Doku\n",
    "* page_id <=> title eineindeutig\n",
    "* page_part ist die Abschnittsnummer der Seite\n",
    "* section_id2 identifiziert page_id-page_part-Kombination (heißt später lemma_id)"
   ]
  },
  {
   "cell_type": "markdown",
   "metadata": {
    "id": "lDKztsOMolyX"
   },
   "source": [
    "## Import"
   ]
  },
  {
   "cell_type": "code",
   "execution_count": 50,
   "metadata": {
    "colab": {
     "base_uri": "https://localhost:8080/",
     "height": 104
    },
    "executionInfo": {
     "elapsed": 257,
     "status": "ok",
     "timestamp": 1676476828377,
     "user": {
      "displayName": "Hups Hopsalla",
      "userId": "10020718461385065661"
     },
     "user_tz": -60
    },
    "id": "REzWGt6zn5Oh",
    "outputId": "1c18bb25-8d50-4a98-c70a-a242b9773f62"
   },
   "outputs": [
    {
     "name": "stdout",
     "output_type": "stream",
     "text": [
      "blab init\n",
      "environment['in_colab']     = True\n",
      "Start Time: 16:00:27\n"
     ]
    },
    {
     "data": {
      "text/html": [
       "<img src onerror=\"var cell = this.closest('.jp-CodeCell');var editor = cell.querySelector('.jp-Editor');editor.style.background='Beige';this.parentNode.removeChild(this)\">"
      ],
      "text/plain": [
       "<IPython.core.display.HTML object>"
      ]
     },
     "metadata": {},
     "output_type": "display_data"
    },
    {
     "name": "stdout",
     "output_type": "stream",
     "text": [
      "time: 47.6 ms (started: 2023-02-15 16:00:27 +00:00)\n"
     ]
    }
   ],
   "source": [
    "# blab init\n",
    "try:\n",
    "    import blab\n",
    "except ImportError as e:\n",
    "    !pip install blab\n",
    "    import blab    \n",
    "startup_notebook = blab.blab_startup()\n",
    "%run $startup_notebook "
   ]
  },
  {
   "cell_type": "code",
   "execution_count": 51,
   "metadata": {
    "colab": {
     "base_uri": "https://localhost:8080/"
    },
    "executionInfo": {
     "elapsed": 474,
     "status": "ok",
     "timestamp": 1676476829075,
     "user": {
      "displayName": "Hups Hopsalla",
      "userId": "10020718461385065661"
     },
     "user_tz": -60
    },
    "id": "H_Er7TV6ozyv",
    "outputId": "415bd8b5-8814-4d8c-defa-beb8ab43e54d"
   },
   "outputs": [
    {
     "name": "stdout",
     "output_type": "stream",
     "text": [
      "time: 80.2 ms (started: 2023-02-15 16:00:28 +00:00)\n"
     ]
    }
   ],
   "source": [
    "# alle anderen\n",
    "try:\n",
    "    import pandasklar as pak, bj_nlp, wiktionary_de_parser, wget, bz2file\n",
    "\n",
    "except ImportError as e:\n",
    "    !pip install pandasklar bj_nlp wiktionary_de_parser wget bz2file\n",
    "    import pandasklar as pak, bj_nlp, wiktionary_de_parser, wget, bz2file  \n",
    "    \n",
    "grid       = pak.grid\n",
    "check_mask = pak.check_mask        \n"
   ]
  },
  {
   "cell_type": "markdown",
   "metadata": {},
   "source": [
    "## Einstellungen"
   ]
  },
  {
   "cell_type": "code",
   "execution_count": 52,
   "metadata": {
    "colab": {
     "base_uri": "https://localhost:8080/"
    },
    "executionInfo": {
     "elapsed": 19,
     "status": "ok",
     "timestamp": 1676476829075,
     "user": {
      "displayName": "Hups Hopsalla",
      "userId": "10020718461385065661"
     },
     "user_tz": -60
    },
    "id": "aBGC2p73n5Or",
    "outputId": "5efaffd1-25e3-41a9-fbe0-3eefb4868250"
   },
   "outputs": [
    {
     "name": "stdout",
     "output_type": "stream",
     "text": [
      "time: 47.9 ms (started: 2023-02-15 16:00:28 +00:00)\n"
     ]
    }
   ],
   "source": [
    "# Was debuggen?\n",
    "suche_debug = ['entlassen']\n",
    "\n",
    "# Load\n",
    "verzeichnis_load          = 'data_00'\n",
    "bzfile_url                = 'https://dumps.wikimedia.org/dewiktionary/latest/'\n",
    "bzfile_filenam            = 'dewiktionary-latest-pages-articles-multistream.xml.bz2'\n",
    "bzfile_filename           = os.path.join( verzeichnis_load, bzfile_filenam ) \n",
    "\n",
    "# Was parsen?      \n",
    "min_id                    = 0         # 81: Mensch\n",
    "max_id                    = 999999999 #22600 \n",
    "version                   = '_all'\n",
    "#version                  = '_short'\n",
    "\n",
    "\n",
    "# Save\n",
    "verzeichnis_save          = 'data_00'\n",
    "wiktionary_filename       = os.path.join( verzeichnis_save, 'wiktionary'       +version+'.pickle' )       \n",
    "wiktionary_trash_filename = os.path.join( verzeichnis_save, 'wiktionary_trash' +version+'.pickle' )  "
   ]
  },
  {
   "cell_type": "code",
   "execution_count": 53,
   "metadata": {
    "colab": {
     "base_uri": "https://localhost:8080/"
    },
    "executionInfo": {
     "elapsed": 16,
     "status": "ok",
     "timestamp": 1676476829076,
     "user": {
      "displayName": "Hups Hopsalla",
      "userId": "10020718461385065661"
     },
     "user_tz": -60
    },
    "id": "XqzXDOhmn5Ot",
    "outputId": "da6746d4-c7f8-43e8-c627-c48b274ab9ff"
   },
   "outputs": [
    {
     "name": "stdout",
     "output_type": "stream",
     "text": [
      "VERBOSE = True\n",
      "--> setting verbose=True as default for all pandasklar functions\n",
      "\n",
      "time: 47.6 ms (started: 2023-02-15 16:00:28 +00:00)\n"
     ]
    }
   ],
   "source": [
    "# verbose\n",
    "pak.Config.set('VERBOSE', True)"
   ]
  },
  {
   "cell_type": "markdown",
   "metadata": {
    "id": "p1lM3YLgn5Ou"
   },
   "source": [
    "## Vorbereiten"
   ]
  },
  {
   "cell_type": "code",
   "execution_count": 54,
   "metadata": {
    "colab": {
     "base_uri": "https://localhost:8080/"
    },
    "executionInfo": {
     "elapsed": 13,
     "status": "ok",
     "timestamp": 1676476829076,
     "user": {
      "displayName": "Hups Hopsalla",
      "userId": "10020718461385065661"
     },
     "user_tz": -60
    },
    "id": "Oy4Rb6WZn5Ow",
    "outputId": "6b94d1aa-3ffa-4388-d3f4-53b785e09406"
   },
   "outputs": [
    {
     "name": "stdout",
     "output_type": "stream",
     "text": [
      "time: 48.7 ms (started: 2023-02-15 16:00:28 +00:00)\n"
     ]
    }
   ],
   "source": [
    "# data_00 erzeugen\n",
    "os.makedirs(verzeichnis_load, exist_ok=True) "
   ]
  },
  {
   "cell_type": "code",
   "execution_count": 55,
   "metadata": {
    "colab": {
     "base_uri": "https://localhost:8080/"
    },
    "executionInfo": {
     "elapsed": 10,
     "status": "ok",
     "timestamp": 1676476829078,
     "user": {
      "displayName": "Hups Hopsalla",
      "userId": "10020718461385065661"
     },
     "user_tz": -60
    },
    "id": "xdLSdV4Zn5Ox",
    "outputId": "6a48430b-42c8-4173-9378-50e971577179"
   },
   "outputs": [
    {
     "name": "stdout",
     "output_type": "stream",
     "text": [
      "dewiktionary-latest-pages-articles-multistream.xml.bz2 existiert bereits\n",
      "time: 45 ms (started: 2023-02-15 16:00:28 +00:00)\n"
     ]
    }
   ],
   "source": [
    "# download bzfile if necessary\n",
    "# 1 min\n",
    "\n",
    "if not os.path.isfile(bzfile_filename):\n",
    "    filename = wget.download(bzfile_url + bzfile_filenam, out=verzeichnis_load)\n",
    "else:\n",
    "    print(bzfile_filenam, 'existiert bereits')\n",
    "    \n",
    "assert os.path.isfile(bzfile_filename)"
   ]
  },
  {
   "cell_type": "code",
   "execution_count": 56,
   "metadata": {
    "colab": {
     "base_uri": "https://localhost:8080/"
    },
    "executionInfo": {
     "elapsed": 940,
     "status": "ok",
     "timestamp": 1676476830012,
     "user": {
      "displayName": "Hups Hopsalla",
      "userId": "10020718461385065661"
     },
     "user_tz": -60
    },
    "id": "jL1i8Gc-n5Oz",
    "outputId": "83a4d617-f6de-4962-ad87-0ab5a2201b41"
   },
   "outputs": [
    {
     "name": "stdout",
     "output_type": "stream",
     "text": [
      "time: 51.3 ms (started: 2023-02-15 16:00:28 +00:00)\n"
     ]
    }
   ],
   "source": [
    "# Vorbereiten\n",
    "bz          = bz2file.BZ2File(bzfile_filename)  # XML-Quelldatei\n",
    "result_list = []                                # nimmt die geparsten Einträge auf\n",
    "config      = {\"include_wikitext\": True}"
   ]
  },
  {
   "cell_type": "markdown",
   "metadata": {
    "id": "kxP8_bhmn5Oz"
   },
   "source": [
    "## Parsen"
   ]
  },
  {
   "cell_type": "code",
   "execution_count": 57,
   "metadata": {
    "colab": {
     "base_uri": "https://localhost:8080/"
    },
    "executionInfo": {
     "elapsed": 1004682,
     "status": "ok",
     "timestamp": 1676477834681,
     "user": {
      "displayName": "Hups Hopsalla",
      "userId": "10020718461385065661"
     },
     "user_tz": -60
    },
    "id": "k12-VJ74n5O0",
    "outputId": "938f5eab-38c0-45aa-c5cd-df154ea969fd"
   },
   "outputs": [
    {
     "name": "stdout",
     "output_type": "stream",
     "text": [
      "1118000 Sebaldinen\n",
      "time: 16min 45s (started: 2023-02-15 16:00:28 +00:00)\n"
     ]
    }
   ],
   "source": [
    "# Parsen\n",
    "\n",
    "title_last     = ''\n",
    "page_part_last = 0\n",
    "page_base      = 0\n",
    "\n",
    "for num, record in enumerate(  wiktionary_de_parser.Parser(bz, config=config)  ):\n",
    "    \n",
    "    # num:    ID des Eintrags\n",
    "    # record: Der Eintrag selbst\n",
    "    \n",
    "    # title\n",
    "    if 'title' in record:\n",
    "        title = record['title']\n",
    "    else:\n",
    "        title = ''\n",
    "        print('no title')\n",
    "        \n",
    "    # page_id und page_part    \n",
    "    if title == title_last:\n",
    "        page_id   = page_base\n",
    "        page_part = page_part_last + 1\n",
    "    else:\n",
    "        page_id   = num   # fortlaufende Nummer\n",
    "        page_base = num\n",
    "        page_part = 0\n",
    "        \n",
    "    \n",
    "    # Am Anfang was auslassen?\n",
    "    if page_id < min_id:\n",
    "        continue        \n",
    "       \n",
    "    # Vorzeitig abbrechen?    \n",
    "    if page_id > max_id:\n",
    "        break\n",
    "    \n",
    "    # Fremdsprachiges überspringen\n",
    "    if 'lang_code' in record   and   record['lang_code'] != 'de': \n",
    "        continue\n",
    "    if 'lang' in record   and   record['lang'] != 'Deutsch': \n",
    "        continue        \n",
    "    \n",
    "    # record ergänzen\n",
    "    record['page_id']     = page_id\n",
    "    record['page_part']   = page_part    \n",
    "    \n",
    "    # last\n",
    "    title_last     = title\n",
    "    page_part_last = page_part    \n",
    "    \n",
    "    # Statusanzeige\n",
    "    if page_id % 1000 == 0:    \n",
    "        clear_output()\n",
    "        print( page_id, title )\n",
    "    \n",
    "    # fürs Debugging aufbewahren\n",
    "    #if num in catch_debug:\n",
    "    #    debug_list.append(record)\n",
    "    \n",
    "    # Ausgabe\n",
    "    result_list.append(record)\n",
    "   \n",
    "    "
   ]
  },
  {
   "cell_type": "markdown",
   "metadata": {
    "id": "K8VXsQaUn5O2"
   },
   "source": [
    "## In Dataframe wandeln"
   ]
  },
  {
   "cell_type": "code",
   "execution_count": 58,
   "metadata": {
    "colab": {
     "base_uri": "https://localhost:8080/"
    },
    "executionInfo": {
     "elapsed": 3318,
     "status": "ok",
     "timestamp": 1676477837951,
     "user": {
      "displayName": "Hups Hopsalla",
      "userId": "10020718461385065661"
     },
     "user_tz": -60
    },
    "id": "EAlilAWrn5O2",
    "outputId": "fe732e8b-1aeb-4a09-9145-65c9206a588f"
   },
   "outputs": [
    {
     "name": "stdout",
     "output_type": "stream",
     "text": [
      "time: 3.1 s (started: 2023-02-15 16:17:14 +00:00)\n"
     ]
    }
   ],
   "source": [
    "# In DataFrame wandeln\n",
    "wiktionary = pak.dataframe(result_list,verbose=False)"
   ]
  },
  {
   "cell_type": "code",
   "execution_count": 59,
   "metadata": {
    "colab": {
     "base_uri": "https://localhost:8080/"
    },
    "executionInfo": {
     "elapsed": 1154,
     "status": "ok",
     "timestamp": 1676477839094,
     "user": {
      "displayName": "Hups Hopsalla",
      "userId": "10020718461385065661"
     },
     "user_tz": -60
    },
    "id": "XbhDVefWn5O3",
    "outputId": "bb8d6a3e-3997-4998-eeea-d0cdcd7a000c"
   },
   "outputs": [
    {
     "name": "stdout",
     "output_type": "stream",
     "text": [
      "time: 1.21 s (started: 2023-02-15 16:17:17 +00:00)\n"
     ]
    }
   ],
   "source": [
    "# Daten ergänzen\n",
    "wiktionary['section_len'] = wiktionary.wikitext.str.len() # Volumen der Seite\n",
    "wiktionary['error'] = ''"
   ]
  },
  {
   "cell_type": "code",
   "execution_count": 60,
   "metadata": {
    "colab": {
     "base_uri": "https://localhost:8080/"
    },
    "executionInfo": {
     "elapsed": 1661,
     "status": "ok",
     "timestamp": 1676477840746,
     "user": {
      "displayName": "Hups Hopsalla",
      "userId": "10020718461385065661"
     },
     "user_tz": -60
    },
    "id": "-V3SQhJdn5O4",
    "outputId": "c16f4543-360a-4d91-a8ed-24dfc99b14bf"
   },
   "outputs": [
    {
     "name": "stdout",
     "output_type": "stream",
     "text": [
      "time: 1.5 s (started: 2023-02-15 16:17:18 +00:00)\n"
     ]
    }
   ],
   "source": [
    "# Spalten sortieren\n",
    "wiktionary = pak.move_cols( wiktionary, ['page_id','page_part','title','lemma'])\n",
    "wiktionary = pak.move_cols( wiktionary, ['section_len','flexion','ipa','syllables','lang','lang_code','wikitext','error'], to=-1)"
   ]
  },
  {
   "cell_type": "code",
   "execution_count": 58,
   "metadata": {
    "colab": {
     "base_uri": "https://localhost:8080/",
     "height": 962
    },
    "executionInfo": {
     "elapsed": 45,
     "status": "ok",
     "timestamp": 1676477840747,
     "user": {
      "displayName": "Hups Hopsalla",
      "userId": "10020718461385065661"
     },
     "user_tz": -60
    },
    "id": "-dKwniegn5O4",
    "outputId": "75d4749d-16d4-4d6d-afb9-6f906888aee1"
   },
   "outputs": [
    {
     "name": "stdout",
     "output_type": "stream",
     "text": [
      "12 rows out of 699\n"
     ]
    },
    {
     "data": {
      "text/html": [
       "\n",
       "        <iframe\n",
       "            width=\"100%\"\n",
       "            height=\"475\"\n",
       "            src=\"http://pop-os:40000/dtale/iframe/3\"\n",
       "            frameborder=\"0\"\n",
       "            allowfullscreen\n",
       "            \n",
       "        ></iframe>\n",
       "        "
      ],
      "text/plain": [
       "<IPython.lib.display.IFrame at 0x7f01c8e754c0>"
      ]
     },
     "metadata": {},
     "output_type": "display_data"
    },
    {
     "data": {
      "text/plain": []
     },
     "execution_count": 58,
     "metadata": {},
     "output_type": "execute_result"
    },
    {
     "name": "stdout",
     "output_type": "stream",
     "text": [
      "time: 357 ms\n"
     ]
    }
   ],
   "source": [
    "grid(wiktionary,pak.sample)"
   ]
  },
  {
   "cell_type": "code",
   "execution_count": 62,
   "metadata": {
    "colab": {
     "base_uri": "https://localhost:8080/",
     "height": 1000
    },
    "executionInfo": {
     "elapsed": 36,
     "status": "ok",
     "timestamp": 1676477840750,
     "user": {
      "displayName": "Hups Hopsalla",
      "userId": "10020718461385065661"
     },
     "user_tz": -60
    },
    "id": "GfYDG3vpn5O5",
    "outputId": "c2cfc51f-b7eb-4859-8208-bca82b88b81f"
   },
   "outputs": [
    {
     "name": "stdout",
     "output_type": "stream",
     "text": [
      "19 rows\n"
     ]
    },
    {
     "data": {
      "text/html": [
       "\n",
       "  <div id=\"df-4a9a3719-6edd-4e2f-8e73-5bf1c99461cd\">\n",
       "    <div class=\"colab-df-container\">\n",
       "      <div>\n",
       "<style scoped>\n",
       "    .dataframe tbody tr th:only-of-type {\n",
       "        vertical-align: middle;\n",
       "    }\n",
       "\n",
       "    .dataframe tbody tr th {\n",
       "        vertical-align: top;\n",
       "    }\n",
       "\n",
       "    .dataframe thead th {\n",
       "        text-align: right;\n",
       "    }\n",
       "</style>\n",
       "<table border=\"1\" class=\"dataframe\">\n",
       "  <thead>\n",
       "    <tr style=\"text-align: right;\">\n",
       "      <th></th>\n",
       "      <th>page_id</th>\n",
       "      <th>page_part</th>\n",
       "      <th>title</th>\n",
       "      <th>lemma</th>\n",
       "      <th>inflected</th>\n",
       "      <th>rhymes</th>\n",
       "      <th>pos</th>\n",
       "      <th>section_len</th>\n",
       "      <th>flexion</th>\n",
       "      <th>ipa</th>\n",
       "      <th>syllables</th>\n",
       "      <th>lang</th>\n",
       "      <th>lang_code</th>\n",
       "      <th>wikitext</th>\n",
       "      <th>error</th>\n",
       "    </tr>\n",
       "  </thead>\n",
       "  <tbody>\n",
       "    <tr>\n",
       "      <th>14147</th>\n",
       "      <td>22703</td>\n",
       "      <td>0</td>\n",
       "      <td>entlassen</td>\n",
       "      <td>entlassen</td>\n",
       "      <td>False</td>\n",
       "      <td>[asn̩]</td>\n",
       "      <td>{'Verb': []}</td>\n",
       "      <td>4961</td>\n",
       "      <td>{'Präsens_ich': 'entlasse', 'Präsens_du': 'ent...</td>\n",
       "      <td>[ɛntˈlasn̩]</td>\n",
       "      <td>[ent, las, sen]</td>\n",
       "      <td>Deutsch</td>\n",
       "      <td>de</td>\n",
       "      <td>=== {{Wortart|Verb|Deutsch}} ===\\n\\n{{Deutsch ...</td>\n",
       "      <td></td>\n",
       "    </tr>\n",
       "    <tr>\n",
       "      <th>41011</th>\n",
       "      <td>108337</td>\n",
       "      <td>0</td>\n",
       "      <td>entließ</td>\n",
       "      <td>entlassen</td>\n",
       "      <td>True</td>\n",
       "      <td>[iːs]</td>\n",
       "      <td>{'Verb': ['Konjugierte Form']}</td>\n",
       "      <td>470</td>\n",
       "      <td>NaN</td>\n",
       "      <td>[ɛntˈliːs]</td>\n",
       "      <td>[ent, ließ]</td>\n",
       "      <td>Deutsch</td>\n",
       "      <td>de</td>\n",
       "      <td>=== {{Wortart|Konjugierte Form|Deutsch}} ===\\n...</td>\n",
       "      <td></td>\n",
       "    </tr>\n",
       "    <tr>\n",
       "      <th>62481</th>\n",
       "      <td>139661</td>\n",
       "      <td>0</td>\n",
       "      <td>entlasse</td>\n",
       "      <td>entlassen</td>\n",
       "      <td>True</td>\n",
       "      <td>[asə]</td>\n",
       "      <td>{'Verb': ['Konjugierte Form']}</td>\n",
       "      <td>614</td>\n",
       "      <td>NaN</td>\n",
       "      <td>[ɛntˈlasə]</td>\n",
       "      <td>[ent, las, se]</td>\n",
       "      <td>Deutsch</td>\n",
       "      <td>de</td>\n",
       "      <td>=== {{Wortart|Konjugierte Form|Deutsch}} ===\\n...</td>\n",
       "      <td></td>\n",
       "    </tr>\n",
       "    <tr>\n",
       "      <th>75724</th>\n",
       "      <td>162009</td>\n",
       "      <td>0</td>\n",
       "      <td>entlässt</td>\n",
       "      <td>entlassen</td>\n",
       "      <td>True</td>\n",
       "      <td>[ɛst]</td>\n",
       "      <td>{'Verb': ['Konjugierte Form']}</td>\n",
       "      <td>482</td>\n",
       "      <td>NaN</td>\n",
       "      <td>[ˌɛntˈlɛst]</td>\n",
       "      <td>[ent, lässt]</td>\n",
       "      <td>Deutsch</td>\n",
       "      <td>de</td>\n",
       "      <td>=== {{Wortart|Konjugierte Form|Deutsch}} ===\\n...</td>\n",
       "      <td></td>\n",
       "    </tr>\n",
       "    <tr>\n",
       "      <th>224960</th>\n",
       "      <td>394049</td>\n",
       "      <td>0</td>\n",
       "      <td>entließe</td>\n",
       "      <td>entlassen</td>\n",
       "      <td>True</td>\n",
       "      <td>[iːsə]</td>\n",
       "      <td>{'Verb': ['Konjugierte Form']}</td>\n",
       "      <td>478</td>\n",
       "      <td>NaN</td>\n",
       "      <td>[ɛntˈliːsə]</td>\n",
       "      <td>[ent, lie, ße]</td>\n",
       "      <td>Deutsch</td>\n",
       "      <td>de</td>\n",
       "      <td>=== {{Wortart|Konjugierte Form|Deutsch}} ===\\n...</td>\n",
       "      <td></td>\n",
       "    </tr>\n",
       "    <tr>\n",
       "      <th>275572</th>\n",
       "      <td>454733</td>\n",
       "      <td>0</td>\n",
       "      <td>entlasst</td>\n",
       "      <td>entlassen</td>\n",
       "      <td>True</td>\n",
       "      <td>[ast]</td>\n",
       "      <td>{'Verb': ['Konjugierte Form']}</td>\n",
       "      <td>475</td>\n",
       "      <td>NaN</td>\n",
       "      <td>[ɛntˈlast]</td>\n",
       "      <td>[ent, lasst]</td>\n",
       "      <td>Deutsch</td>\n",
       "      <td>de</td>\n",
       "      <td>=== {{Wortart|Konjugierte Form|Deutsch}} ===\\n...</td>\n",
       "      <td></td>\n",
       "    </tr>\n",
       "    <tr>\n",
       "      <th>275576</th>\n",
       "      <td>454737</td>\n",
       "      <td>0</td>\n",
       "      <td>entlassend</td>\n",
       "      <td>entlassen</td>\n",
       "      <td>True</td>\n",
       "      <td>[asn̩t]</td>\n",
       "      <td>{'Adjektiv': ['Partizip I']}</td>\n",
       "      <td>314</td>\n",
       "      <td>NaN</td>\n",
       "      <td>[ɛntˈlasn̩t]</td>\n",
       "      <td>[ent, las, send]</td>\n",
       "      <td>Deutsch</td>\n",
       "      <td>de</td>\n",
       "      <td>=== {{Wortart|Partizip I|Deutsch}} ===\\n\\n{{Wo...</td>\n",
       "      <td></td>\n",
       "    </tr>\n",
       "    <tr>\n",
       "      <th>275579</th>\n",
       "      <td>454740</td>\n",
       "      <td>0</td>\n",
       "      <td>entließet</td>\n",
       "      <td>entlassen</td>\n",
       "      <td>True</td>\n",
       "      <td>[iːsət]</td>\n",
       "      <td>{'Verb': ['Konjugierte Form']}</td>\n",
       "      <td>407</td>\n",
       "      <td>NaN</td>\n",
       "      <td>[ˌɛntˈliːsət]</td>\n",
       "      <td>[ent, lie, ßet]</td>\n",
       "      <td>Deutsch</td>\n",
       "      <td>de</td>\n",
       "      <td>=== {{Wortart|Konjugierte Form|Deutsch}} ===\\n...</td>\n",
       "      <td></td>\n",
       "    </tr>\n",
       "    <tr>\n",
       "      <th>275580</th>\n",
       "      <td>454741</td>\n",
       "      <td>0</td>\n",
       "      <td>entließen</td>\n",
       "      <td>entlassen</td>\n",
       "      <td>True</td>\n",
       "      <td>[iːsn̩]</td>\n",
       "      <td>{'Verb': ['Konjugierte Form']}</td>\n",
       "      <td>636</td>\n",
       "      <td>NaN</td>\n",
       "      <td>[ˌɛntˈliːsn̩]</td>\n",
       "      <td>[ent, lie, ßen]</td>\n",
       "      <td>Deutsch</td>\n",
       "      <td>de</td>\n",
       "      <td>=== {{Wortart|Konjugierte Form|Deutsch}} ===\\n...</td>\n",
       "      <td></td>\n",
       "    </tr>\n",
       "    <tr>\n",
       "      <th>275581</th>\n",
       "      <td>454742</td>\n",
       "      <td>0</td>\n",
       "      <td>entließt</td>\n",
       "      <td>entlassen</td>\n",
       "      <td>True</td>\n",
       "      <td>[iːst]</td>\n",
       "      <td>{'Verb': ['Konjugierte Form']}</td>\n",
       "      <td>558</td>\n",
       "      <td>NaN</td>\n",
       "      <td>[ˌɛntˈliːst]</td>\n",
       "      <td>[ent, ließt]</td>\n",
       "      <td>Deutsch</td>\n",
       "      <td>de</td>\n",
       "      <td>=== {{Wortart|Konjugierte Form|Deutsch}} ===\\n...</td>\n",
       "      <td></td>\n",
       "    </tr>\n",
       "    <tr>\n",
       "      <th>275582</th>\n",
       "      <td>454743</td>\n",
       "      <td>0</td>\n",
       "      <td>entließest</td>\n",
       "      <td>entlassen</td>\n",
       "      <td>True</td>\n",
       "      <td>[iːsəst]</td>\n",
       "      <td>{'Verb': ['Konjugierte Form']}</td>\n",
       "      <td>573</td>\n",
       "      <td>NaN</td>\n",
       "      <td>[ˌɛntˈliːsəst]</td>\n",
       "      <td>[ent, lie, ßest]</td>\n",
       "      <td>Deutsch</td>\n",
       "      <td>de</td>\n",
       "      <td>=== {{Wortart|Konjugierte Form|Deutsch}} ===\\n...</td>\n",
       "      <td></td>\n",
       "    </tr>\n",
       "    <tr>\n",
       "      <th>275583</th>\n",
       "      <td>454744</td>\n",
       "      <td>0</td>\n",
       "      <td>entlasset</td>\n",
       "      <td>entlassen</td>\n",
       "      <td>True</td>\n",
       "      <td>[asət]</td>\n",
       "      <td>{'Verb': ['Konjugierte Form']}</td>\n",
       "      <td>343</td>\n",
       "      <td>NaN</td>\n",
       "      <td>[ɛntˈlasət]</td>\n",
       "      <td>[ent, las, set]</td>\n",
       "      <td>Deutsch</td>\n",
       "      <td>de</td>\n",
       "      <td>=== {{Wortart|Konjugierte Form|Deutsch}} ===\\n...</td>\n",
       "      <td></td>\n",
       "    </tr>\n",
       "    <tr>\n",
       "      <th>275585</th>\n",
       "      <td>454746</td>\n",
       "      <td>0</td>\n",
       "      <td>entlassest</td>\n",
       "      <td>entlassen</td>\n",
       "      <td>True</td>\n",
       "      <td>[asəst]</td>\n",
       "      <td>{'Verb': ['Konjugierte Form']}</td>\n",
       "      <td>349</td>\n",
       "      <td>NaN</td>\n",
       "      <td>[ɛntˈlasəst]</td>\n",
       "      <td>[ent, las, sest]</td>\n",
       "      <td>Deutsch</td>\n",
       "      <td>de</td>\n",
       "      <td>=== {{Wortart|Konjugierte Form|Deutsch}} ===\\n...</td>\n",
       "      <td></td>\n",
       "    </tr>\n",
       "    <tr>\n",
       "      <th>275586</th>\n",
       "      <td>454747</td>\n",
       "      <td>0</td>\n",
       "      <td>entlass</td>\n",
       "      <td>entlassen</td>\n",
       "      <td>True</td>\n",
       "      <td>[as]</td>\n",
       "      <td>{'Verb': ['Konjugierte Form']}</td>\n",
       "      <td>431</td>\n",
       "      <td>NaN</td>\n",
       "      <td>[ɛntˈlas]</td>\n",
       "      <td>[ent, lass]</td>\n",
       "      <td>Deutsch</td>\n",
       "      <td>de</td>\n",
       "      <td>=== {{Wortart|Konjugierte Form|Deutsch}} ===\\n...</td>\n",
       "      <td></td>\n",
       "    </tr>\n",
       "    <tr>\n",
       "      <th>561308</th>\n",
       "      <td>819322</td>\n",
       "      <td>0</td>\n",
       "      <td>entlassene</td>\n",
       "      <td>entlassen</td>\n",
       "      <td>True</td>\n",
       "      <td>NaN</td>\n",
       "      <td>{'Deklinierte Form': []}</td>\n",
       "      <td>1164</td>\n",
       "      <td>NaN</td>\n",
       "      <td>[ɛntˈlasənə]</td>\n",
       "      <td>[ent, las, se, ne]</td>\n",
       "      <td>Deutsch</td>\n",
       "      <td>de</td>\n",
       "      <td>=== {{Wortart|Deklinierte Form|Deutsch}} ===\\n...</td>\n",
       "      <td></td>\n",
       "    </tr>\n",
       "    <tr>\n",
       "      <th>561309</th>\n",
       "      <td>819323</td>\n",
       "      <td>0</td>\n",
       "      <td>entlassenes</td>\n",
       "      <td>entlassen</td>\n",
       "      <td>True</td>\n",
       "      <td>NaN</td>\n",
       "      <td>{'Deklinierte Form': []}</td>\n",
       "      <td>644</td>\n",
       "      <td>NaN</td>\n",
       "      <td>[ɛntˈlasənəs]</td>\n",
       "      <td>[ent, las, se, nes]</td>\n",
       "      <td>Deutsch</td>\n",
       "      <td>de</td>\n",
       "      <td>=== {{Wortart|Deklinierte Form|Deutsch}} ===\\n...</td>\n",
       "      <td></td>\n",
       "    </tr>\n",
       "    <tr>\n",
       "      <th>561310</th>\n",
       "      <td>819324</td>\n",
       "      <td>0</td>\n",
       "      <td>entlassener</td>\n",
       "      <td>entlassen</td>\n",
       "      <td>True</td>\n",
       "      <td>NaN</td>\n",
       "      <td>{'Deklinierte Form': []}</td>\n",
       "      <td>744</td>\n",
       "      <td>NaN</td>\n",
       "      <td>[ɛntˈlasənɐ]</td>\n",
       "      <td>[ent, las, se, ner]</td>\n",
       "      <td>Deutsch</td>\n",
       "      <td>de</td>\n",
       "      <td>=== {{Wortart|Deklinierte Form|Deutsch}} ===\\n...</td>\n",
       "      <td></td>\n",
       "    </tr>\n",
       "    <tr>\n",
       "      <th>561311</th>\n",
       "      <td>819325</td>\n",
       "      <td>0</td>\n",
       "      <td>entlassenen</td>\n",
       "      <td>entlassen</td>\n",
       "      <td>True</td>\n",
       "      <td>NaN</td>\n",
       "      <td>{'Deklinierte Form': []}</td>\n",
       "      <td>1472</td>\n",
       "      <td>NaN</td>\n",
       "      <td>[ɛntˈlasənən]</td>\n",
       "      <td>[ent, las, se, nen]</td>\n",
       "      <td>Deutsch</td>\n",
       "      <td>de</td>\n",
       "      <td>=== {{Wortart|Deklinierte Form|Deutsch}} ===\\n...</td>\n",
       "      <td></td>\n",
       "    </tr>\n",
       "    <tr>\n",
       "      <th>561312</th>\n",
       "      <td>819326</td>\n",
       "      <td>0</td>\n",
       "      <td>entlassenem</td>\n",
       "      <td>entlassen</td>\n",
       "      <td>True</td>\n",
       "      <td>NaN</td>\n",
       "      <td>{'Deklinierte Form': []}</td>\n",
       "      <td>435</td>\n",
       "      <td>NaN</td>\n",
       "      <td>[ɛntˈlasənəm]</td>\n",
       "      <td>[ent, las, se, nem]</td>\n",
       "      <td>Deutsch</td>\n",
       "      <td>de</td>\n",
       "      <td>=== {{Wortart|Deklinierte Form|Deutsch}} ===\\n...</td>\n",
       "      <td></td>\n",
       "    </tr>\n",
       "  </tbody>\n",
       "</table>\n",
       "</div>\n",
       "      <button class=\"colab-df-convert\" onclick=\"convertToInteractive('df-4a9a3719-6edd-4e2f-8e73-5bf1c99461cd')\"\n",
       "              title=\"Convert this dataframe to an interactive table.\"\n",
       "              style=\"display:none;\">\n",
       "        \n",
       "  <svg xmlns=\"http://www.w3.org/2000/svg\" height=\"24px\"viewBox=\"0 0 24 24\"\n",
       "       width=\"24px\">\n",
       "    <path d=\"M0 0h24v24H0V0z\" fill=\"none\"/>\n",
       "    <path d=\"M18.56 5.44l.94 2.06.94-2.06 2.06-.94-2.06-.94-.94-2.06-.94 2.06-2.06.94zm-11 1L8.5 8.5l.94-2.06 2.06-.94-2.06-.94L8.5 2.5l-.94 2.06-2.06.94zm10 10l.94 2.06.94-2.06 2.06-.94-2.06-.94-.94-2.06-.94 2.06-2.06.94z\"/><path d=\"M17.41 7.96l-1.37-1.37c-.4-.4-.92-.59-1.43-.59-.52 0-1.04.2-1.43.59L10.3 9.45l-7.72 7.72c-.78.78-.78 2.05 0 2.83L4 21.41c.39.39.9.59 1.41.59.51 0 1.02-.2 1.41-.59l7.78-7.78 2.81-2.81c.8-.78.8-2.07 0-2.86zM5.41 20L4 18.59l7.72-7.72 1.47 1.35L5.41 20z\"/>\n",
       "  </svg>\n",
       "      </button>\n",
       "      \n",
       "  <style>\n",
       "    .colab-df-container {\n",
       "      display:flex;\n",
       "      flex-wrap:wrap;\n",
       "      gap: 12px;\n",
       "    }\n",
       "\n",
       "    .colab-df-convert {\n",
       "      background-color: #E8F0FE;\n",
       "      border: none;\n",
       "      border-radius: 50%;\n",
       "      cursor: pointer;\n",
       "      display: none;\n",
       "      fill: #1967D2;\n",
       "      height: 32px;\n",
       "      padding: 0 0 0 0;\n",
       "      width: 32px;\n",
       "    }\n",
       "\n",
       "    .colab-df-convert:hover {\n",
       "      background-color: #E2EBFA;\n",
       "      box-shadow: 0px 1px 2px rgba(60, 64, 67, 0.3), 0px 1px 3px 1px rgba(60, 64, 67, 0.15);\n",
       "      fill: #174EA6;\n",
       "    }\n",
       "\n",
       "    [theme=dark] .colab-df-convert {\n",
       "      background-color: #3B4455;\n",
       "      fill: #D2E3FC;\n",
       "    }\n",
       "\n",
       "    [theme=dark] .colab-df-convert:hover {\n",
       "      background-color: #434B5C;\n",
       "      box-shadow: 0px 1px 3px 1px rgba(0, 0, 0, 0.15);\n",
       "      filter: drop-shadow(0px 1px 2px rgba(0, 0, 0, 0.3));\n",
       "      fill: #FFFFFF;\n",
       "    }\n",
       "  </style>\n",
       "\n",
       "      <script>\n",
       "        const buttonEl =\n",
       "          document.querySelector('#df-4a9a3719-6edd-4e2f-8e73-5bf1c99461cd button.colab-df-convert');\n",
       "        buttonEl.style.display =\n",
       "          google.colab.kernel.accessAllowed ? 'block' : 'none';\n",
       "\n",
       "        async function convertToInteractive(key) {\n",
       "          const element = document.querySelector('#df-4a9a3719-6edd-4e2f-8e73-5bf1c99461cd');\n",
       "          const dataTable =\n",
       "            await google.colab.kernel.invokeFunction('convertToInteractive',\n",
       "                                                     [key], {});\n",
       "          if (!dataTable) return;\n",
       "\n",
       "          const docLinkHtml = 'Like what you see? Visit the ' +\n",
       "            '<a target=\"_blank\" href=https://colab.research.google.com/notebooks/data_table.ipynb>data table notebook</a>'\n",
       "            + ' to learn more about interactive tables.';\n",
       "          element.innerHTML = '';\n",
       "          dataTable['output_type'] = 'display_data';\n",
       "          await google.colab.output.renderOutput(dataTable, element);\n",
       "          const docLink = document.createElement('div');\n",
       "          docLink.innerHTML = docLinkHtml;\n",
       "          element.appendChild(docLink);\n",
       "        }\n",
       "      </script>\n",
       "    </div>\n",
       "  </div>\n",
       "  "
      ],
      "text/plain": [
       "        page_id  page_part        title      lemma  inflected    rhymes  \\\n",
       "14147     22703          0    entlassen  entlassen      False    [asn̩]   \n",
       "41011    108337          0      entließ  entlassen       True     [iːs]   \n",
       "62481    139661          0     entlasse  entlassen       True     [asə]   \n",
       "75724    162009          0     entlässt  entlassen       True     [ɛst]   \n",
       "224960   394049          0     entließe  entlassen       True    [iːsə]   \n",
       "275572   454733          0     entlasst  entlassen       True     [ast]   \n",
       "275576   454737          0   entlassend  entlassen       True   [asn̩t]   \n",
       "275579   454740          0    entließet  entlassen       True   [iːsət]   \n",
       "275580   454741          0    entließen  entlassen       True   [iːsn̩]   \n",
       "275581   454742          0     entließt  entlassen       True    [iːst]   \n",
       "275582   454743          0   entließest  entlassen       True  [iːsəst]   \n",
       "275583   454744          0    entlasset  entlassen       True    [asət]   \n",
       "275585   454746          0   entlassest  entlassen       True   [asəst]   \n",
       "275586   454747          0      entlass  entlassen       True      [as]   \n",
       "561308   819322          0   entlassene  entlassen       True       NaN   \n",
       "561309   819323          0  entlassenes  entlassen       True       NaN   \n",
       "561310   819324          0  entlassener  entlassen       True       NaN   \n",
       "561311   819325          0  entlassenen  entlassen       True       NaN   \n",
       "561312   819326          0  entlassenem  entlassen       True       NaN   \n",
       "\n",
       "                                   pos  section_len  \\\n",
       "14147                     {'Verb': []}         4961   \n",
       "41011   {'Verb': ['Konjugierte Form']}          470   \n",
       "62481   {'Verb': ['Konjugierte Form']}          614   \n",
       "75724   {'Verb': ['Konjugierte Form']}          482   \n",
       "224960  {'Verb': ['Konjugierte Form']}          478   \n",
       "275572  {'Verb': ['Konjugierte Form']}          475   \n",
       "275576    {'Adjektiv': ['Partizip I']}          314   \n",
       "275579  {'Verb': ['Konjugierte Form']}          407   \n",
       "275580  {'Verb': ['Konjugierte Form']}          636   \n",
       "275581  {'Verb': ['Konjugierte Form']}          558   \n",
       "275582  {'Verb': ['Konjugierte Form']}          573   \n",
       "275583  {'Verb': ['Konjugierte Form']}          343   \n",
       "275585  {'Verb': ['Konjugierte Form']}          349   \n",
       "275586  {'Verb': ['Konjugierte Form']}          431   \n",
       "561308        {'Deklinierte Form': []}         1164   \n",
       "561309        {'Deklinierte Form': []}          644   \n",
       "561310        {'Deklinierte Form': []}          744   \n",
       "561311        {'Deklinierte Form': []}         1472   \n",
       "561312        {'Deklinierte Form': []}          435   \n",
       "\n",
       "                                                  flexion             ipa  \\\n",
       "14147   {'Präsens_ich': 'entlasse', 'Präsens_du': 'ent...     [ɛntˈlasn̩]   \n",
       "41011                                                 NaN      [ɛntˈliːs]   \n",
       "62481                                                 NaN      [ɛntˈlasə]   \n",
       "75724                                                 NaN     [ˌɛntˈlɛst]   \n",
       "224960                                                NaN     [ɛntˈliːsə]   \n",
       "275572                                                NaN      [ɛntˈlast]   \n",
       "275576                                                NaN    [ɛntˈlasn̩t]   \n",
       "275579                                                NaN   [ˌɛntˈliːsət]   \n",
       "275580                                                NaN   [ˌɛntˈliːsn̩]   \n",
       "275581                                                NaN    [ˌɛntˈliːst]   \n",
       "275582                                                NaN  [ˌɛntˈliːsəst]   \n",
       "275583                                                NaN     [ɛntˈlasət]   \n",
       "275585                                                NaN    [ɛntˈlasəst]   \n",
       "275586                                                NaN       [ɛntˈlas]   \n",
       "561308                                                NaN    [ɛntˈlasənə]   \n",
       "561309                                                NaN   [ɛntˈlasənəs]   \n",
       "561310                                                NaN    [ɛntˈlasənɐ]   \n",
       "561311                                                NaN   [ɛntˈlasənən]   \n",
       "561312                                                NaN   [ɛntˈlasənəm]   \n",
       "\n",
       "                  syllables     lang lang_code  \\\n",
       "14147       [ent, las, sen]  Deutsch        de   \n",
       "41011           [ent, ließ]  Deutsch        de   \n",
       "62481        [ent, las, se]  Deutsch        de   \n",
       "75724          [ent, lässt]  Deutsch        de   \n",
       "224960       [ent, lie, ße]  Deutsch        de   \n",
       "275572         [ent, lasst]  Deutsch        de   \n",
       "275576     [ent, las, send]  Deutsch        de   \n",
       "275579      [ent, lie, ßet]  Deutsch        de   \n",
       "275580      [ent, lie, ßen]  Deutsch        de   \n",
       "275581         [ent, ließt]  Deutsch        de   \n",
       "275582     [ent, lie, ßest]  Deutsch        de   \n",
       "275583      [ent, las, set]  Deutsch        de   \n",
       "275585     [ent, las, sest]  Deutsch        de   \n",
       "275586          [ent, lass]  Deutsch        de   \n",
       "561308   [ent, las, se, ne]  Deutsch        de   \n",
       "561309  [ent, las, se, nes]  Deutsch        de   \n",
       "561310  [ent, las, se, ner]  Deutsch        de   \n",
       "561311  [ent, las, se, nen]  Deutsch        de   \n",
       "561312  [ent, las, se, nem]  Deutsch        de   \n",
       "\n",
       "                                                 wikitext error  \n",
       "14147   === {{Wortart|Verb|Deutsch}} ===\\n\\n{{Deutsch ...        \n",
       "41011   === {{Wortart|Konjugierte Form|Deutsch}} ===\\n...        \n",
       "62481   === {{Wortart|Konjugierte Form|Deutsch}} ===\\n...        \n",
       "75724   === {{Wortart|Konjugierte Form|Deutsch}} ===\\n...        \n",
       "224960  === {{Wortart|Konjugierte Form|Deutsch}} ===\\n...        \n",
       "275572  === {{Wortart|Konjugierte Form|Deutsch}} ===\\n...        \n",
       "275576  === {{Wortart|Partizip I|Deutsch}} ===\\n\\n{{Wo...        \n",
       "275579  === {{Wortart|Konjugierte Form|Deutsch}} ===\\n...        \n",
       "275580  === {{Wortart|Konjugierte Form|Deutsch}} ===\\n...        \n",
       "275581  === {{Wortart|Konjugierte Form|Deutsch}} ===\\n...        \n",
       "275582  === {{Wortart|Konjugierte Form|Deutsch}} ===\\n...        \n",
       "275583  === {{Wortart|Konjugierte Form|Deutsch}} ===\\n...        \n",
       "275585  === {{Wortart|Konjugierte Form|Deutsch}} ===\\n...        \n",
       "275586  === {{Wortart|Konjugierte Form|Deutsch}} ===\\n...        \n",
       "561308  === {{Wortart|Deklinierte Form|Deutsch}} ===\\n...        \n",
       "561309  === {{Wortart|Deklinierte Form|Deutsch}} ===\\n...        \n",
       "561310  === {{Wortart|Deklinierte Form|Deutsch}} ===\\n...        \n",
       "561311  === {{Wortart|Deklinierte Form|Deutsch}} ===\\n...        \n",
       "561312  === {{Wortart|Deklinierte Form|Deutsch}} ===\\n...        "
      ]
     },
     "execution_count": 62,
     "metadata": {},
     "output_type": "execute_result"
    },
    {
     "name": "stdout",
     "output_type": "stream",
     "text": [
      "time: 211 ms (started: 2023-02-15 16:17:20 +00:00)\n"
     ]
    }
   ],
   "source": [
    "# suche_debug \n",
    "mask = wiktionary.lemma.isin(suche_debug)\n",
    "grid(wiktionary[mask].sort_values(['page_id',]))"
   ]
  },
  {
   "cell_type": "markdown",
   "metadata": {
    "id": "c6hCtcO8n5O5"
   },
   "source": [
    "## Reinigen"
   ]
  },
  {
   "cell_type": "code",
   "execution_count": 63,
   "metadata": {
    "colab": {
     "base_uri": "https://localhost:8080/",
     "height": 35
    },
    "executionInfo": {
     "elapsed": 323,
     "status": "ok",
     "timestamp": 1676477841052,
     "user": {
      "displayName": "Hups Hopsalla",
      "userId": "10020718461385065661"
     },
     "user_tz": -60
    },
    "id": "WK41XPkPn5O6",
    "outputId": "edab8954-7f08-4935-de48-1e6e849a37ed"
   },
   "outputs": [
    {
     "data": {
      "application/vnd.google.colaboratory.intrinsic+json": {
       "type": "string"
      },
      "text/plain": [
       "'Hällo?)()'"
      ]
     },
     "execution_count": 63,
     "metadata": {},
     "output_type": "execute_result"
    },
    {
     "name": "stdout",
     "output_type": "stream",
     "text": [
      "time: 54 ms (started: 2023-02-15 16:17:20 +00:00)\n"
     ]
    }
   ],
   "source": [
    "# bj_nlp.preprocess ausprobieren\n",
    "bj_nlp.preprocess('Hälló?)()')"
   ]
  },
  {
   "cell_type": "code",
   "execution_count": 64,
   "metadata": {
    "colab": {
     "base_uri": "https://localhost:8080/"
    },
    "executionInfo": {
     "elapsed": 21045,
     "status": "ok",
     "timestamp": 1676477862090,
     "user": {
      "displayName": "Hups Hopsalla",
      "userId": "10020718461385065661"
     },
     "user_tz": -60
    },
    "id": "0hGpIlR4n5O6",
    "outputId": "d7df88f2-396c-4829-b8e9-a8a1d57f23ec"
   },
   "outputs": [
    {
     "name": "stdout",
     "output_type": "stream",
     "text": [
      "time: 21.2 s (started: 2023-02-15 16:17:20 +00:00)\n"
     ]
    }
   ],
   "source": [
    "wiktionary.title = wiktionary.title.apply( lambda x: bj_nlp.preprocess(x)         ) #.copy()\n",
    "wiktionary.lemma = wiktionary.lemma.apply( lambda x: bj_nlp.preprocess(x)         ) #.copy()"
   ]
  },
  {
   "cell_type": "markdown",
   "metadata": {
    "id": "m7WD4ar-n5O7"
   },
   "source": [
    "## section_id2 und section_id"
   ]
  },
  {
   "cell_type": "code",
   "execution_count": 65,
   "metadata": {
    "colab": {
     "base_uri": "https://localhost:8080/"
    },
    "executionInfo": {
     "elapsed": 1161,
     "status": "ok",
     "timestamp": 1676477863207,
     "user": {
      "displayName": "Hups Hopsalla",
      "userId": "10020718461385065661"
     },
     "user_tz": -60
    },
    "id": "t9EXUFwdn5O7",
    "outputId": "42fa466b-f929-4b17-e6f8-afbda8accf99"
   },
   "outputs": [
    {
     "name": "stdout",
     "output_type": "stream",
     "text": [
      "time: 1.1 s (started: 2023-02-15 16:17:41 +00:00)\n"
     ]
    }
   ],
   "source": [
    "# section_id2: Das gleiche wie section_id, aber verbose\n",
    "wiktionary['section_id2'] = wiktionary.title.str.replace(' ','_')\n",
    "\n",
    "mask = (wiktionary.page_part > 0)\n",
    "wiktionary.loc[mask,'section_id2'] = wiktionary[mask].section_id2 + '_' + wiktionary[mask].page_part.map(str)"
   ]
  },
  {
   "cell_type": "code",
   "execution_count": 66,
   "metadata": {
    "colab": {
     "base_uri": "https://localhost:8080/",
     "height": 458
    },
    "executionInfo": {
     "elapsed": 453,
     "status": "ok",
     "timestamp": 1676477863653,
     "user": {
      "displayName": "Hups Hopsalla",
      "userId": "10020718461385065661"
     },
     "user_tz": -60
    },
    "id": "omz7Ponyn5O8",
    "outputId": "51c10010-2691-438b-a650-9edd1b089f1c"
   },
   "outputs": [
    {
     "name": "stdout",
     "output_type": "stream",
     "text": [
      "1370 rows out of 1433\n"
     ]
    },
    {
     "data": {
      "text/html": [
       "\n",
       "  <div id=\"df-e6061f91-96e3-40ff-aed8-92bf4dabe654\">\n",
       "    <div class=\"colab-df-container\">\n",
       "      <div>\n",
       "<style scoped>\n",
       "    .dataframe tbody tr th:only-of-type {\n",
       "        vertical-align: middle;\n",
       "    }\n",
       "\n",
       "    .dataframe tbody tr th {\n",
       "        vertical-align: top;\n",
       "    }\n",
       "\n",
       "    .dataframe thead th {\n",
       "        text-align: right;\n",
       "    }\n",
       "</style>\n",
       "<table border=\"1\" class=\"dataframe\">\n",
       "  <thead>\n",
       "    <tr style=\"text-align: right;\">\n",
       "      <th></th>\n",
       "      <th>page_id</th>\n",
       "      <th>page_part</th>\n",
       "      <th>title</th>\n",
       "      <th>lemma</th>\n",
       "      <th>inflected</th>\n",
       "      <th>rhymes</th>\n",
       "      <th>pos</th>\n",
       "      <th>section_len</th>\n",
       "      <th>flexion</th>\n",
       "      <th>syllables</th>\n",
       "      <th>error</th>\n",
       "      <th>section_id2</th>\n",
       "    </tr>\n",
       "  </thead>\n",
       "  <tbody>\n",
       "    <tr>\n",
       "      <th>795546</th>\n",
       "      <td>1062343</td>\n",
       "      <td>0</td>\n",
       "      <td>Aaners</td>\n",
       "      <td>Aaners</td>\n",
       "      <td>True</td>\n",
       "      <td>NaN</td>\n",
       "      <td>{'Deklinierte Form': []}</td>\n",
       "      <td>275</td>\n",
       "      <td>NaN</td>\n",
       "      <td>[Aa, ners’]</td>\n",
       "      <td></td>\n",
       "      <td>Aaners</td>\n",
       "    </tr>\n",
       "    <tr>\n",
       "      <th>21304</th>\n",
       "      <td>53417</td>\n",
       "      <td>0</td>\n",
       "      <td>Aaners</td>\n",
       "      <td>Aaners</td>\n",
       "      <td>False</td>\n",
       "      <td>[aːnɐs]</td>\n",
       "      <td>{'Substantiv': ['Vorname']}</td>\n",
       "      <td>798</td>\n",
       "      <td>NaN</td>\n",
       "      <td>[Aa, ners]</td>\n",
       "      <td></td>\n",
       "      <td>Aaners</td>\n",
       "    </tr>\n",
       "    <tr>\n",
       "      <th>675729</th>\n",
       "      <td>937397</td>\n",
       "      <td>0</td>\n",
       "      <td>Aarhus</td>\n",
       "      <td>Aarhus</td>\n",
       "      <td>True</td>\n",
       "      <td>NaN</td>\n",
       "      <td>{'Deklinierte Form': []}</td>\n",
       "      <td>278</td>\n",
       "      <td>NaN</td>\n",
       "      <td>[Aar, hus’]</td>\n",
       "      <td></td>\n",
       "      <td>Aarhus</td>\n",
       "    </tr>\n",
       "    <tr>\n",
       "      <th>106338</th>\n",
       "      <td>251980</td>\n",
       "      <td>0</td>\n",
       "      <td>Aarhus</td>\n",
       "      <td>Aarhus</td>\n",
       "      <td>False</td>\n",
       "      <td>NaN</td>\n",
       "      <td>{'Substantiv': ['Toponym']}</td>\n",
       "      <td>1389</td>\n",
       "      <td>NaN</td>\n",
       "      <td>[Aar, hus]</td>\n",
       "      <td></td>\n",
       "      <td>Aarhus</td>\n",
       "    </tr>\n",
       "    <tr>\n",
       "      <th>738785</th>\n",
       "      <td>1003912</td>\n",
       "      <td>0</td>\n",
       "      <td>Aas</td>\n",
       "      <td>Aas</td>\n",
       "      <td>True</td>\n",
       "      <td>NaN</td>\n",
       "      <td>{'Deklinierte Form': []}</td>\n",
       "      <td>259</td>\n",
       "      <td>NaN</td>\n",
       "      <td>[Aas’]</td>\n",
       "      <td></td>\n",
       "      <td>Aas</td>\n",
       "    </tr>\n",
       "    <tr>\n",
       "      <th>...</th>\n",
       "      <td>...</td>\n",
       "      <td>...</td>\n",
       "      <td>...</td>\n",
       "      <td>...</td>\n",
       "      <td>...</td>\n",
       "      <td>...</td>\n",
       "      <td>...</td>\n",
       "      <td>...</td>\n",
       "      <td>...</td>\n",
       "      <td>...</td>\n",
       "      <td>...</td>\n",
       "      <td>...</td>\n",
       "    </tr>\n",
       "    <tr>\n",
       "      <th>105047</th>\n",
       "      <td>250060</td>\n",
       "      <td>0</td>\n",
       "      <td>Äneas</td>\n",
       "      <td>Äneas</td>\n",
       "      <td>False</td>\n",
       "      <td>[eːas]</td>\n",
       "      <td>{'Substantiv': ['Vorname', 'Eigenname']}</td>\n",
       "      <td>2667</td>\n",
       "      <td>{'Genus': 'm'}</td>\n",
       "      <td>[Äne, as]</td>\n",
       "      <td></td>\n",
       "      <td>Äneas</td>\n",
       "    </tr>\n",
       "    <tr>\n",
       "      <th>675824</th>\n",
       "      <td>937492</td>\n",
       "      <td>0</td>\n",
       "      <td>Äolus</td>\n",
       "      <td>Äolus</td>\n",
       "      <td>True</td>\n",
       "      <td>NaN</td>\n",
       "      <td>{'Deklinierte Form': []}</td>\n",
       "      <td>272</td>\n",
       "      <td>NaN</td>\n",
       "      <td>[Äo, lus’]</td>\n",
       "      <td></td>\n",
       "      <td>Äolus</td>\n",
       "    </tr>\n",
       "    <tr>\n",
       "      <th>46234</th>\n",
       "      <td>117717</td>\n",
       "      <td>0</td>\n",
       "      <td>Äolus</td>\n",
       "      <td>Äolus</td>\n",
       "      <td>False</td>\n",
       "      <td>NaN</td>\n",
       "      <td>{'Substantiv': ['Eigenname']}</td>\n",
       "      <td>947</td>\n",
       "      <td>{'Genus': 'm'}</td>\n",
       "      <td>[Äo, lus]</td>\n",
       "      <td></td>\n",
       "      <td>Äolus</td>\n",
       "    </tr>\n",
       "    <tr>\n",
       "      <th>683360</th>\n",
       "      <td>945396</td>\n",
       "      <td>0</td>\n",
       "      <td>Ödipus</td>\n",
       "      <td>Ödipus</td>\n",
       "      <td>True</td>\n",
       "      <td>NaN</td>\n",
       "      <td>{'Deklinierte Form': []}</td>\n",
       "      <td>277</td>\n",
       "      <td>NaN</td>\n",
       "      <td>[Ödi, pus’]</td>\n",
       "      <td></td>\n",
       "      <td>Ödipus</td>\n",
       "    </tr>\n",
       "    <tr>\n",
       "      <th>683350</th>\n",
       "      <td>945386</td>\n",
       "      <td>0</td>\n",
       "      <td>Ödipus</td>\n",
       "      <td>Ödipus</td>\n",
       "      <td>False</td>\n",
       "      <td>NaN</td>\n",
       "      <td>{'Substantiv': ['Eigenname']}</td>\n",
       "      <td>946</td>\n",
       "      <td>{'Genus': 'm'}</td>\n",
       "      <td>[Ödi, pus]</td>\n",
       "      <td></td>\n",
       "      <td>Ödipus</td>\n",
       "    </tr>\n",
       "  </tbody>\n",
       "</table>\n",
       "<p>1370 rows × 12 columns</p>\n",
       "</div>\n",
       "      <button class=\"colab-df-convert\" onclick=\"convertToInteractive('df-e6061f91-96e3-40ff-aed8-92bf4dabe654')\"\n",
       "              title=\"Convert this dataframe to an interactive table.\"\n",
       "              style=\"display:none;\">\n",
       "        \n",
       "  <svg xmlns=\"http://www.w3.org/2000/svg\" height=\"24px\"viewBox=\"0 0 24 24\"\n",
       "       width=\"24px\">\n",
       "    <path d=\"M0 0h24v24H0V0z\" fill=\"none\"/>\n",
       "    <path d=\"M18.56 5.44l.94 2.06.94-2.06 2.06-.94-2.06-.94-.94-2.06-.94 2.06-2.06.94zm-11 1L8.5 8.5l.94-2.06 2.06-.94-2.06-.94L8.5 2.5l-.94 2.06-2.06.94zm10 10l.94 2.06.94-2.06 2.06-.94-2.06-.94-.94-2.06-.94 2.06-2.06.94z\"/><path d=\"M17.41 7.96l-1.37-1.37c-.4-.4-.92-.59-1.43-.59-.52 0-1.04.2-1.43.59L10.3 9.45l-7.72 7.72c-.78.78-.78 2.05 0 2.83L4 21.41c.39.39.9.59 1.41.59.51 0 1.02-.2 1.41-.59l7.78-7.78 2.81-2.81c.8-.78.8-2.07 0-2.86zM5.41 20L4 18.59l7.72-7.72 1.47 1.35L5.41 20z\"/>\n",
       "  </svg>\n",
       "      </button>\n",
       "      \n",
       "  <style>\n",
       "    .colab-df-container {\n",
       "      display:flex;\n",
       "      flex-wrap:wrap;\n",
       "      gap: 12px;\n",
       "    }\n",
       "\n",
       "    .colab-df-convert {\n",
       "      background-color: #E8F0FE;\n",
       "      border: none;\n",
       "      border-radius: 50%;\n",
       "      cursor: pointer;\n",
       "      display: none;\n",
       "      fill: #1967D2;\n",
       "      height: 32px;\n",
       "      padding: 0 0 0 0;\n",
       "      width: 32px;\n",
       "    }\n",
       "\n",
       "    .colab-df-convert:hover {\n",
       "      background-color: #E2EBFA;\n",
       "      box-shadow: 0px 1px 2px rgba(60, 64, 67, 0.3), 0px 1px 3px 1px rgba(60, 64, 67, 0.15);\n",
       "      fill: #174EA6;\n",
       "    }\n",
       "\n",
       "    [theme=dark] .colab-df-convert {\n",
       "      background-color: #3B4455;\n",
       "      fill: #D2E3FC;\n",
       "    }\n",
       "\n",
       "    [theme=dark] .colab-df-convert:hover {\n",
       "      background-color: #434B5C;\n",
       "      box-shadow: 0px 1px 3px 1px rgba(0, 0, 0, 0.15);\n",
       "      filter: drop-shadow(0px 1px 2px rgba(0, 0, 0, 0.3));\n",
       "      fill: #FFFFFF;\n",
       "    }\n",
       "  </style>\n",
       "\n",
       "      <script>\n",
       "        const buttonEl =\n",
       "          document.querySelector('#df-e6061f91-96e3-40ff-aed8-92bf4dabe654 button.colab-df-convert');\n",
       "        buttonEl.style.display =\n",
       "          google.colab.kernel.accessAllowed ? 'block' : 'none';\n",
       "\n",
       "        async function convertToInteractive(key) {\n",
       "          const element = document.querySelector('#df-e6061f91-96e3-40ff-aed8-92bf4dabe654');\n",
       "          const dataTable =\n",
       "            await google.colab.kernel.invokeFunction('convertToInteractive',\n",
       "                                                     [key], {});\n",
       "          if (!dataTable) return;\n",
       "\n",
       "          const docLinkHtml = 'Like what you see? Visit the ' +\n",
       "            '<a target=\"_blank\" href=https://colab.research.google.com/notebooks/data_table.ipynb>data table notebook</a>'\n",
       "            + ' to learn more about interactive tables.';\n",
       "          element.innerHTML = '';\n",
       "          dataTable['output_type'] = 'display_data';\n",
       "          await google.colab.output.renderOutput(dataTable, element);\n",
       "          const docLink = document.createElement('div');\n",
       "          docLink.innerHTML = docLinkHtml;\n",
       "          element.appendChild(docLink);\n",
       "        }\n",
       "      </script>\n",
       "    </div>\n",
       "  </div>\n",
       "  "
      ],
      "text/plain": [
       "        page_id  page_part   title   lemma  inflected   rhymes  \\\n",
       "795546  1062343          0  Aaners  Aaners       True      NaN   \n",
       "21304     53417          0  Aaners  Aaners      False  [aːnɐs]   \n",
       "675729   937397          0  Aarhus  Aarhus       True      NaN   \n",
       "106338   251980          0  Aarhus  Aarhus      False      NaN   \n",
       "738785  1003912          0     Aas     Aas       True      NaN   \n",
       "...         ...        ...     ...     ...        ...      ...   \n",
       "105047   250060          0   Äneas   Äneas      False   [eːas]   \n",
       "675824   937492          0   Äolus   Äolus       True      NaN   \n",
       "46234    117717          0   Äolus   Äolus      False      NaN   \n",
       "683360   945396          0  Ödipus  Ödipus       True      NaN   \n",
       "683350   945386          0  Ödipus  Ödipus      False      NaN   \n",
       "\n",
       "                                             pos  section_len         flexion  \\\n",
       "795546                  {'Deklinierte Form': []}          275             NaN   \n",
       "21304                {'Substantiv': ['Vorname']}          798             NaN   \n",
       "675729                  {'Deklinierte Form': []}          278             NaN   \n",
       "106338               {'Substantiv': ['Toponym']}         1389             NaN   \n",
       "738785                  {'Deklinierte Form': []}          259             NaN   \n",
       "...                                          ...          ...             ...   \n",
       "105047  {'Substantiv': ['Vorname', 'Eigenname']}         2667  {'Genus': 'm'}   \n",
       "675824                  {'Deklinierte Form': []}          272             NaN   \n",
       "46234              {'Substantiv': ['Eigenname']}          947  {'Genus': 'm'}   \n",
       "683360                  {'Deklinierte Form': []}          277             NaN   \n",
       "683350             {'Substantiv': ['Eigenname']}          946  {'Genus': 'm'}   \n",
       "\n",
       "          syllables error section_id2  \n",
       "795546  [Aa, ners’]            Aaners  \n",
       "21304    [Aa, ners]            Aaners  \n",
       "675729  [Aar, hus’]            Aarhus  \n",
       "106338   [Aar, hus]            Aarhus  \n",
       "738785       [Aas’]               Aas  \n",
       "...             ...   ...         ...  \n",
       "105047    [Äne, as]             Äneas  \n",
       "675824   [Äo, lus’]             Äolus  \n",
       "46234     [Äo, lus]             Äolus  \n",
       "683360  [Ödi, pus’]            Ödipus  \n",
       "683350   [Ödi, pus]            Ödipus  \n",
       "\n",
       "[1370 rows x 12 columns]"
      ]
     },
     "execution_count": 66,
     "metadata": {},
     "output_type": "execute_result"
    },
    {
     "name": "stdout",
     "output_type": "stream",
     "text": [
      "time: 422 ms (started: 2023-02-15 16:17:42 +00:00)\n"
     ]
    }
   ],
   "source": [
    "# Duplikate anzeigen (werden gleich gelöscht)\n",
    "# Dups entstehen durch Akzente, die entfernt werden\n",
    "dupmask = wiktionary.duplicated(subset=['section_id2'], keep=False)\n",
    "result = wiktionary[dupmask].sort_values(['title','section_len'])\n",
    "result = pak.drop_cols(result,['lang', 'lang_code','ipa','wikitext'])\n",
    "mask = result.title.str.len() > 2\n",
    "grid( result, mask, color='green' )"
   ]
  },
  {
   "cell_type": "code",
   "execution_count": 67,
   "metadata": {
    "colab": {
     "base_uri": "https://localhost:8080/"
    },
    "executionInfo": {
     "elapsed": 3387,
     "status": "ok",
     "timestamp": 1676477867031,
     "user": {
      "displayName": "Hups Hopsalla",
      "userId": "10020718461385065661"
     },
     "user_tz": -60
    },
    "id": "8fXVW3Nzn5O8",
    "outputId": "1a5a11a6-be3e-4d43-825e-e26842473217"
   },
   "outputs": [
    {
     "name": "stdout",
     "output_type": "stream",
     "text": [
      "rank: 721 rows less, now 841745 rows\n",
      "721 Datensätze gelöscht\n",
      "time: 3.07 s (started: 2023-02-15 16:17:43 +00:00)\n"
     ]
    }
   ],
   "source": [
    "# Nach dem Reinigen sind die title nicht mehr eindeutig gewesen. \n",
    "# Wir verwenden nur die jeweils längste Seite.\n",
    "# Danach ist section_id2 eindeutig.\n",
    "len_pre = wiktionary.shape[0]\n",
    "wiktionary = pak.rank(  wiktionary, cols_group=['section_id2'], col_score='section_len')\n",
    "assert wiktionary.section_id2.is_unique\n",
    "print( len_pre - wiktionary.shape[0],'Datensätze gelöscht')"
   ]
  },
  {
   "cell_type": "code",
   "execution_count": 68,
   "metadata": {
    "colab": {
     "base_uri": "https://localhost:8080/"
    },
    "executionInfo": {
     "elapsed": 59,
     "status": "ok",
     "timestamp": 1676477867032,
     "user": {
      "displayName": "Hups Hopsalla",
      "userId": "10020718461385065661"
     },
     "user_tz": -60
    },
    "id": "shEec2RBn5O9",
    "outputId": "b30a4660-4f5d-443d-8e58-cc94fd01e1d4"
   },
   "outputs": [
    {
     "name": "stdout",
     "output_type": "stream",
     "text": [
      "time: 102 ms (started: 2023-02-15 16:17:46 +00:00)\n"
     ]
    }
   ],
   "source": [
    "# section_id \n",
    "wiktionary['section_id'] = wiktionary.page_id * 100 + wiktionary.page_part\n",
    "assert wiktionary.section_id.is_unique"
   ]
  },
  {
   "cell_type": "code",
   "execution_count": 69,
   "metadata": {
    "colab": {
     "base_uri": "https://localhost:8080/"
    },
    "executionInfo": {
     "elapsed": 48,
     "status": "ok",
     "timestamp": 1676477867032,
     "user": {
      "displayName": "Hups Hopsalla",
      "userId": "10020718461385065661"
     },
     "user_tz": -60
    },
    "id": "HUctR-7bn5O9",
    "outputId": "4eb33036-def4-48b9-b8dd-64c756b1eaf9"
   },
   "outputs": [
    {
     "name": "stdout",
     "output_type": "stream",
     "text": [
      "No rows\n",
      "time: 135 ms (started: 2023-02-15 16:17:46 +00:00)\n"
     ]
    }
   ],
   "source": [
    "# Duplikate anzeigen\n",
    "dupmask = wiktionary.duplicated(subset=['section_id'], keep=False)\n",
    "grid( wiktionary[dupmask].sort_values('title'), color='green'   )"
   ]
  },
  {
   "cell_type": "code",
   "execution_count": 70,
   "metadata": {
    "colab": {
     "base_uri": "https://localhost:8080/"
    },
    "executionInfo": {
     "elapsed": 607,
     "status": "ok",
     "timestamp": 1676477867599,
     "user": {
      "displayName": "Hups Hopsalla",
      "userId": "10020718461385065661"
     },
     "user_tz": -60
    },
    "id": "6Mfm2-X1n5O-",
    "outputId": "273de0cc-8c01-431b-93d2-a147b6e2fdcf"
   },
   "outputs": [
    {
     "name": "stdout",
     "output_type": "stream",
     "text": [
      "time: 569 ms (started: 2023-02-15 16:17:46 +00:00)\n"
     ]
    }
   ],
   "source": [
    "# Zeilen wieder sortieren\n",
    "wiktionary = wiktionary.sort_values(['section_id'])"
   ]
  },
  {
   "cell_type": "code",
   "execution_count": 71,
   "metadata": {
    "colab": {
     "base_uri": "https://localhost:8080/"
    },
    "executionInfo": {
     "elapsed": 1078,
     "status": "ok",
     "timestamp": 1676477868672,
     "user": {
      "displayName": "Hups Hopsalla",
      "userId": "10020718461385065661"
     },
     "user_tz": -60
    },
    "id": "j6T_gkzgn5O-",
    "outputId": "e7b7899a-11b4-493f-fa20-7fca95df361d"
   },
   "outputs": [
    {
     "name": "stdout",
     "output_type": "stream",
     "text": [
      "time: 683 ms (started: 2023-02-15 16:17:47 +00:00)\n"
     ]
    }
   ],
   "source": [
    "# Spalten in Ordnung bringen\n",
    "wiktionary = pak.move_cols(wiktionary, 'section_id')\n",
    "wiktionary = pak.move_cols(wiktionary, 'section_id2', to='page_part')"
   ]
  },
  {
   "cell_type": "code",
   "execution_count": 72,
   "metadata": {
    "colab": {
     "base_uri": "https://localhost:8080/",
     "height": 1000
    },
    "executionInfo": {
     "elapsed": 19,
     "status": "ok",
     "timestamp": 1676477868673,
     "user": {
      "displayName": "Hups Hopsalla",
      "userId": "10020718461385065661"
     },
     "user_tz": -60
    },
    "id": "c-T-zEBgn5O-",
    "outputId": "42fe9c11-c3a9-4e86-826a-fabccfd72723"
   },
   "outputs": [
    {
     "name": "stdout",
     "output_type": "stream",
     "text": [
      "100 rows\n"
     ]
    },
    {
     "data": {
      "text/html": [
       "\n",
       "  <div id=\"df-106dd41f-9d89-4295-881e-4538879cf8c4\">\n",
       "    <div class=\"colab-df-container\">\n",
       "      <div>\n",
       "<style scoped>\n",
       "    .dataframe tbody tr th:only-of-type {\n",
       "        vertical-align: middle;\n",
       "    }\n",
       "\n",
       "    .dataframe tbody tr th {\n",
       "        vertical-align: top;\n",
       "    }\n",
       "\n",
       "    .dataframe thead th {\n",
       "        text-align: right;\n",
       "    }\n",
       "</style>\n",
       "<table border=\"1\" class=\"dataframe\">\n",
       "  <thead>\n",
       "    <tr style=\"text-align: right;\">\n",
       "      <th></th>\n",
       "      <th>section_id</th>\n",
       "      <th>page_id</th>\n",
       "      <th>page_part</th>\n",
       "      <th>section_id2</th>\n",
       "      <th>title</th>\n",
       "      <th>lemma</th>\n",
       "      <th>inflected</th>\n",
       "      <th>rhymes</th>\n",
       "      <th>pos</th>\n",
       "      <th>section_len</th>\n",
       "      <th>flexion</th>\n",
       "      <th>ipa</th>\n",
       "      <th>syllables</th>\n",
       "      <th>lang</th>\n",
       "      <th>lang_code</th>\n",
       "      <th>wikitext</th>\n",
       "      <th>error</th>\n",
       "    </tr>\n",
       "  </thead>\n",
       "  <tbody>\n",
       "    <tr>\n",
       "      <th>0</th>\n",
       "      <td>0</td>\n",
       "      <td>0</td>\n",
       "      <td>0</td>\n",
       "      <td>Hallo</td>\n",
       "      <td>Hallo</td>\n",
       "      <td>Hallo</td>\n",
       "      <td>False</td>\n",
       "      <td>[oː]</td>\n",
       "      <td>{'Substantiv': []}</td>\n",
       "      <td>1935</td>\n",
       "      <td>{'Genus': 'n', 'Nominativ Singular': 'Hallo', ...</td>\n",
       "      <td>[haˈloː]</td>\n",
       "      <td>[Hal, lo]</td>\n",
       "      <td>Deutsch</td>\n",
       "      <td>de</td>\n",
       "      <td>=== {{Wortart|Substantiv|Deutsch}}, {{n}} ===\\...</td>\n",
       "      <td></td>\n",
       "    </tr>\n",
       "    <tr>\n",
       "      <th>1</th>\n",
       "      <td>600</td>\n",
       "      <td>6</td>\n",
       "      <td>0</td>\n",
       "      <td>Subfamilia</td>\n",
       "      <td>Subfamilia</td>\n",
       "      <td>Subfamilia</td>\n",
       "      <td>False</td>\n",
       "      <td>NaN</td>\n",
       "      <td>{'Substantiv': []}</td>\n",
       "      <td>1272</td>\n",
       "      <td>{'Genus': 'f', 'Nominativ Singular': 'Subfamil...</td>\n",
       "      <td>NaN</td>\n",
       "      <td>[Sub, fa, mi, lia]</td>\n",
       "      <td>Deutsch</td>\n",
       "      <td>de</td>\n",
       "      <td>=== {{Wortart|Substantiv|Deutsch}}, {{f}} ===\\...</td>\n",
       "      <td></td>\n",
       "    </tr>\n",
       "    <tr>\n",
       "      <th>2</th>\n",
       "      <td>900</td>\n",
       "      <td>9</td>\n",
       "      <td>0</td>\n",
       "      <td>Subregnum</td>\n",
       "      <td>Subregnum</td>\n",
       "      <td>Subregnum</td>\n",
       "      <td>False</td>\n",
       "      <td>NaN</td>\n",
       "      <td>{'Substantiv': []}</td>\n",
       "      <td>1277</td>\n",
       "      <td>{'Genus': 'n', 'Nominativ Singular': 'Subregnu...</td>\n",
       "      <td>[zʊpˈʁeːɡnʊm]</td>\n",
       "      <td>[Sub, reg, num]</td>\n",
       "      <td>Deutsch</td>\n",
       "      <td>de</td>\n",
       "      <td>=== {{Wortart|Substantiv|Deutsch}}, {{n}} ===\\...</td>\n",
       "      <td></td>\n",
       "    </tr>\n",
       "    <tr>\n",
       "      <th>3</th>\n",
       "      <td>1000</td>\n",
       "      <td>10</td>\n",
       "      <td>0</td>\n",
       "      <td>Subdivisio</td>\n",
       "      <td>Subdivisio</td>\n",
       "      <td>Subdivisio</td>\n",
       "      <td>False</td>\n",
       "      <td>NaN</td>\n",
       "      <td>{'Substantiv': []}</td>\n",
       "      <td>1301</td>\n",
       "      <td>{'Genus': 'f', 'Nominativ Singular': 'Subdivis...</td>\n",
       "      <td>[zʊpdiˈviːzi̯o]</td>\n",
       "      <td>[Sub, di, vi, sio]</td>\n",
       "      <td>Deutsch</td>\n",
       "      <td>de</td>\n",
       "      <td>=== {{Wortart|Substantiv|Deutsch}}, {{f}} ===\\...</td>\n",
       "      <td></td>\n",
       "    </tr>\n",
       "    <tr>\n",
       "      <th>4</th>\n",
       "      <td>1100</td>\n",
       "      <td>11</td>\n",
       "      <td>0</td>\n",
       "      <td>Phylum</td>\n",
       "      <td>Phylum</td>\n",
       "      <td>Phylum</td>\n",
       "      <td>False</td>\n",
       "      <td>[yːlʊm]</td>\n",
       "      <td>{'Substantiv': []}</td>\n",
       "      <td>1940</td>\n",
       "      <td>{'Genus': 'n', 'Nominativ Singular': 'Phylum',...</td>\n",
       "      <td>[ˈfyːlʊm]</td>\n",
       "      <td>[Phy, lum]</td>\n",
       "      <td>Deutsch</td>\n",
       "      <td>de</td>\n",
       "      <td>=== {{Wortart|Substantiv|Deutsch}}, {{n}} ===\\...</td>\n",
       "      <td></td>\n",
       "    </tr>\n",
       "    <tr>\n",
       "      <th>...</th>\n",
       "      <td>...</td>\n",
       "      <td>...</td>\n",
       "      <td>...</td>\n",
       "      <td>...</td>\n",
       "      <td>...</td>\n",
       "      <td>...</td>\n",
       "      <td>...</td>\n",
       "      <td>...</td>\n",
       "      <td>...</td>\n",
       "      <td>...</td>\n",
       "      <td>...</td>\n",
       "      <td>...</td>\n",
       "      <td>...</td>\n",
       "      <td>...</td>\n",
       "      <td>...</td>\n",
       "      <td>...</td>\n",
       "      <td>...</td>\n",
       "    </tr>\n",
       "    <tr>\n",
       "      <th>95</th>\n",
       "      <td>16400</td>\n",
       "      <td>164</td>\n",
       "      <td>0</td>\n",
       "      <td>HI</td>\n",
       "      <td>HI</td>\n",
       "      <td>HI</td>\n",
       "      <td>False</td>\n",
       "      <td>NaN</td>\n",
       "      <td>{'Abkürzung': []}</td>\n",
       "      <td>290</td>\n",
       "      <td>NaN</td>\n",
       "      <td>NaN</td>\n",
       "      <td>NaN</td>\n",
       "      <td>Deutsch</td>\n",
       "      <td>de</td>\n",
       "      <td>=== {{Wortart|Abkürzung|Deutsch}} ===\\n\\n{{Bed...</td>\n",
       "      <td></td>\n",
       "    </tr>\n",
       "    <tr>\n",
       "      <th>96</th>\n",
       "      <td>16600</td>\n",
       "      <td>166</td>\n",
       "      <td>0</td>\n",
       "      <td>Boot</td>\n",
       "      <td>Boot</td>\n",
       "      <td>Boot</td>\n",
       "      <td>False</td>\n",
       "      <td>[oːt]</td>\n",
       "      <td>{'Substantiv': []}</td>\n",
       "      <td>9937</td>\n",
       "      <td>{'Genus': 'n', 'Nominativ Singular': 'Boot', '...</td>\n",
       "      <td>[boːt]</td>\n",
       "      <td>[Boot]</td>\n",
       "      <td>Deutsch</td>\n",
       "      <td>de</td>\n",
       "      <td>=== {{Wortart|Substantiv|Deutsch}}, {{n}} ===\\...</td>\n",
       "      <td></td>\n",
       "    </tr>\n",
       "    <tr>\n",
       "      <th>97</th>\n",
       "      <td>16601</td>\n",
       "      <td>166</td>\n",
       "      <td>1</td>\n",
       "      <td>Boot_1</td>\n",
       "      <td>Boot</td>\n",
       "      <td>Boot</td>\n",
       "      <td>False</td>\n",
       "      <td>[uːt]</td>\n",
       "      <td>{'Substantiv': []}</td>\n",
       "      <td>1603</td>\n",
       "      <td>{'Genus': 'm', 'Nominativ Singular': 'Boot', '...</td>\n",
       "      <td>[buːt]</td>\n",
       "      <td>[Boot]</td>\n",
       "      <td>Deutsch</td>\n",
       "      <td>de</td>\n",
       "      <td>=== {{Wortart|Substantiv|Deutsch}}, {{m}} ===\\...</td>\n",
       "      <td></td>\n",
       "    </tr>\n",
       "    <tr>\n",
       "      <th>98</th>\n",
       "      <td>16602</td>\n",
       "      <td>166</td>\n",
       "      <td>2</td>\n",
       "      <td>Boot_2</td>\n",
       "      <td>Boot</td>\n",
       "      <td>Boot</td>\n",
       "      <td>False</td>\n",
       "      <td>[oːt]</td>\n",
       "      <td>{'Substantiv': ['Nachname']}</td>\n",
       "      <td>2480</td>\n",
       "      <td>NaN</td>\n",
       "      <td>[boːt]</td>\n",
       "      <td>[Boot]</td>\n",
       "      <td>Deutsch</td>\n",
       "      <td>de</td>\n",
       "      <td>=== {{Wortart|Substantiv|Deutsch}}, {{mf}}, {{...</td>\n",
       "      <td></td>\n",
       "    </tr>\n",
       "    <tr>\n",
       "      <th>99</th>\n",
       "      <td>17200</td>\n",
       "      <td>172</td>\n",
       "      <td>0</td>\n",
       "      <td>Seite</td>\n",
       "      <td>Seite</td>\n",
       "      <td>Seite</td>\n",
       "      <td>False</td>\n",
       "      <td>[aɪ̯tə]</td>\n",
       "      <td>{'Substantiv': []}</td>\n",
       "      <td>15572</td>\n",
       "      <td>{'Genus': 'f', 'Nominativ Singular': 'Seite', ...</td>\n",
       "      <td>[ˈzaɪ̯tə]</td>\n",
       "      <td>[Sei, te]</td>\n",
       "      <td>Deutsch</td>\n",
       "      <td>de</td>\n",
       "      <td>=== {{Wortart|Substantiv|Deutsch}}, {{f}} ===\\...</td>\n",
       "      <td></td>\n",
       "    </tr>\n",
       "  </tbody>\n",
       "</table>\n",
       "<p>100 rows × 17 columns</p>\n",
       "</div>\n",
       "      <button class=\"colab-df-convert\" onclick=\"convertToInteractive('df-106dd41f-9d89-4295-881e-4538879cf8c4')\"\n",
       "              title=\"Convert this dataframe to an interactive table.\"\n",
       "              style=\"display:none;\">\n",
       "        \n",
       "  <svg xmlns=\"http://www.w3.org/2000/svg\" height=\"24px\"viewBox=\"0 0 24 24\"\n",
       "       width=\"24px\">\n",
       "    <path d=\"M0 0h24v24H0V0z\" fill=\"none\"/>\n",
       "    <path d=\"M18.56 5.44l.94 2.06.94-2.06 2.06-.94-2.06-.94-.94-2.06-.94 2.06-2.06.94zm-11 1L8.5 8.5l.94-2.06 2.06-.94-2.06-.94L8.5 2.5l-.94 2.06-2.06.94zm10 10l.94 2.06.94-2.06 2.06-.94-2.06-.94-.94-2.06-.94 2.06-2.06.94z\"/><path d=\"M17.41 7.96l-1.37-1.37c-.4-.4-.92-.59-1.43-.59-.52 0-1.04.2-1.43.59L10.3 9.45l-7.72 7.72c-.78.78-.78 2.05 0 2.83L4 21.41c.39.39.9.59 1.41.59.51 0 1.02-.2 1.41-.59l7.78-7.78 2.81-2.81c.8-.78.8-2.07 0-2.86zM5.41 20L4 18.59l7.72-7.72 1.47 1.35L5.41 20z\"/>\n",
       "  </svg>\n",
       "      </button>\n",
       "      \n",
       "  <style>\n",
       "    .colab-df-container {\n",
       "      display:flex;\n",
       "      flex-wrap:wrap;\n",
       "      gap: 12px;\n",
       "    }\n",
       "\n",
       "    .colab-df-convert {\n",
       "      background-color: #E8F0FE;\n",
       "      border: none;\n",
       "      border-radius: 50%;\n",
       "      cursor: pointer;\n",
       "      display: none;\n",
       "      fill: #1967D2;\n",
       "      height: 32px;\n",
       "      padding: 0 0 0 0;\n",
       "      width: 32px;\n",
       "    }\n",
       "\n",
       "    .colab-df-convert:hover {\n",
       "      background-color: #E2EBFA;\n",
       "      box-shadow: 0px 1px 2px rgba(60, 64, 67, 0.3), 0px 1px 3px 1px rgba(60, 64, 67, 0.15);\n",
       "      fill: #174EA6;\n",
       "    }\n",
       "\n",
       "    [theme=dark] .colab-df-convert {\n",
       "      background-color: #3B4455;\n",
       "      fill: #D2E3FC;\n",
       "    }\n",
       "\n",
       "    [theme=dark] .colab-df-convert:hover {\n",
       "      background-color: #434B5C;\n",
       "      box-shadow: 0px 1px 3px 1px rgba(0, 0, 0, 0.15);\n",
       "      filter: drop-shadow(0px 1px 2px rgba(0, 0, 0, 0.3));\n",
       "      fill: #FFFFFF;\n",
       "    }\n",
       "  </style>\n",
       "\n",
       "      <script>\n",
       "        const buttonEl =\n",
       "          document.querySelector('#df-106dd41f-9d89-4295-881e-4538879cf8c4 button.colab-df-convert');\n",
       "        buttonEl.style.display =\n",
       "          google.colab.kernel.accessAllowed ? 'block' : 'none';\n",
       "\n",
       "        async function convertToInteractive(key) {\n",
       "          const element = document.querySelector('#df-106dd41f-9d89-4295-881e-4538879cf8c4');\n",
       "          const dataTable =\n",
       "            await google.colab.kernel.invokeFunction('convertToInteractive',\n",
       "                                                     [key], {});\n",
       "          if (!dataTable) return;\n",
       "\n",
       "          const docLinkHtml = 'Like what you see? Visit the ' +\n",
       "            '<a target=\"_blank\" href=https://colab.research.google.com/notebooks/data_table.ipynb>data table notebook</a>'\n",
       "            + ' to learn more about interactive tables.';\n",
       "          element.innerHTML = '';\n",
       "          dataTable['output_type'] = 'display_data';\n",
       "          await google.colab.output.renderOutput(dataTable, element);\n",
       "          const docLink = document.createElement('div');\n",
       "          docLink.innerHTML = docLinkHtml;\n",
       "          element.appendChild(docLink);\n",
       "        }\n",
       "      </script>\n",
       "    </div>\n",
       "  </div>\n",
       "  "
      ],
      "text/plain": [
       "    section_id  page_id  page_part section_id2       title       lemma  \\\n",
       "0            0        0          0       Hallo       Hallo       Hallo   \n",
       "1          600        6          0  Subfamilia  Subfamilia  Subfamilia   \n",
       "2          900        9          0   Subregnum   Subregnum   Subregnum   \n",
       "3         1000       10          0  Subdivisio  Subdivisio  Subdivisio   \n",
       "4         1100       11          0      Phylum      Phylum      Phylum   \n",
       "..         ...      ...        ...         ...         ...         ...   \n",
       "95       16400      164          0          HI          HI          HI   \n",
       "96       16600      166          0        Boot        Boot        Boot   \n",
       "97       16601      166          1      Boot_1        Boot        Boot   \n",
       "98       16602      166          2      Boot_2        Boot        Boot   \n",
       "99       17200      172          0       Seite       Seite       Seite   \n",
       "\n",
       "    inflected   rhymes                           pos  section_len  \\\n",
       "0       False     [oː]            {'Substantiv': []}         1935   \n",
       "1       False      NaN            {'Substantiv': []}         1272   \n",
       "2       False      NaN            {'Substantiv': []}         1277   \n",
       "3       False      NaN            {'Substantiv': []}         1301   \n",
       "4       False  [yːlʊm]            {'Substantiv': []}         1940   \n",
       "..        ...      ...                           ...          ...   \n",
       "95      False      NaN             {'Abkürzung': []}          290   \n",
       "96      False    [oːt]            {'Substantiv': []}         9937   \n",
       "97      False    [uːt]            {'Substantiv': []}         1603   \n",
       "98      False    [oːt]  {'Substantiv': ['Nachname']}         2480   \n",
       "99      False  [aɪ̯tə]            {'Substantiv': []}        15572   \n",
       "\n",
       "                                              flexion              ipa  \\\n",
       "0   {'Genus': 'n', 'Nominativ Singular': 'Hallo', ...         [haˈloː]   \n",
       "1   {'Genus': 'f', 'Nominativ Singular': 'Subfamil...              NaN   \n",
       "2   {'Genus': 'n', 'Nominativ Singular': 'Subregnu...    [zʊpˈʁeːɡnʊm]   \n",
       "3   {'Genus': 'f', 'Nominativ Singular': 'Subdivis...  [zʊpdiˈviːzi̯o]   \n",
       "4   {'Genus': 'n', 'Nominativ Singular': 'Phylum',...        [ˈfyːlʊm]   \n",
       "..                                                ...              ...   \n",
       "95                                                NaN              NaN   \n",
       "96  {'Genus': 'n', 'Nominativ Singular': 'Boot', '...           [boːt]   \n",
       "97  {'Genus': 'm', 'Nominativ Singular': 'Boot', '...           [buːt]   \n",
       "98                                                NaN           [boːt]   \n",
       "99  {'Genus': 'f', 'Nominativ Singular': 'Seite', ...        [ˈzaɪ̯tə]   \n",
       "\n",
       "             syllables     lang lang_code  \\\n",
       "0            [Hal, lo]  Deutsch        de   \n",
       "1   [Sub, fa, mi, lia]  Deutsch        de   \n",
       "2      [Sub, reg, num]  Deutsch        de   \n",
       "3   [Sub, di, vi, sio]  Deutsch        de   \n",
       "4           [Phy, lum]  Deutsch        de   \n",
       "..                 ...      ...       ...   \n",
       "95                 NaN  Deutsch        de   \n",
       "96              [Boot]  Deutsch        de   \n",
       "97              [Boot]  Deutsch        de   \n",
       "98              [Boot]  Deutsch        de   \n",
       "99           [Sei, te]  Deutsch        de   \n",
       "\n",
       "                                             wikitext error  \n",
       "0   === {{Wortart|Substantiv|Deutsch}}, {{n}} ===\\...        \n",
       "1   === {{Wortart|Substantiv|Deutsch}}, {{f}} ===\\...        \n",
       "2   === {{Wortart|Substantiv|Deutsch}}, {{n}} ===\\...        \n",
       "3   === {{Wortart|Substantiv|Deutsch}}, {{f}} ===\\...        \n",
       "4   === {{Wortart|Substantiv|Deutsch}}, {{n}} ===\\...        \n",
       "..                                                ...   ...  \n",
       "95  === {{Wortart|Abkürzung|Deutsch}} ===\\n\\n{{Bed...        \n",
       "96  === {{Wortart|Substantiv|Deutsch}}, {{n}} ===\\...        \n",
       "97  === {{Wortart|Substantiv|Deutsch}}, {{m}} ===\\...        \n",
       "98  === {{Wortart|Substantiv|Deutsch}}, {{mf}}, {{...        \n",
       "99  === {{Wortart|Substantiv|Deutsch}}, {{f}} ===\\...        \n",
       "\n",
       "[100 rows x 17 columns]"
      ]
     },
     "execution_count": 72,
     "metadata": {},
     "output_type": "execute_result"
    },
    {
     "name": "stdout",
     "output_type": "stream",
     "text": [
      "time: 87.7 ms (started: 2023-02-15 16:17:48 +00:00)\n"
     ]
    }
   ],
   "source": [
    "grid(wiktionary.head(100))"
   ]
  },
  {
   "cell_type": "markdown",
   "metadata": {
    "id": "pptycXjKn5O_"
   },
   "source": [
    "## Erste Korrekturen"
   ]
  },
  {
   "cell_type": "code",
   "execution_count": 73,
   "metadata": {
    "colab": {
     "base_uri": "https://localhost:8080/",
     "height": 67
    },
    "executionInfo": {
     "elapsed": 3306,
     "status": "ok",
     "timestamp": 1676477871969,
     "user": {
      "displayName": "Hups Hopsalla",
      "userId": "10020718461385065661"
     },
     "user_tz": -60
    },
    "id": "bx43Y4UCn5O_",
    "outputId": "9f2f984c-68e0-460e-da27-b5c300a00e4f"
   },
   "outputs": [
    {
     "data": {
      "text/html": [
       "\n",
       "  <div id=\"df-a109159b-eb60-43e3-ab4b-23cacf3b10e4\">\n",
       "    <div class=\"colab-df-container\">\n",
       "      <div>\n",
       "<style scoped>\n",
       "    .dataframe tbody tr th:only-of-type {\n",
       "        vertical-align: middle;\n",
       "    }\n",
       "\n",
       "    .dataframe tbody tr th {\n",
       "        vertical-align: top;\n",
       "    }\n",
       "\n",
       "    .dataframe thead th {\n",
       "        text-align: right;\n",
       "    }\n",
       "</style>\n",
       "<table border=\"1\" class=\"dataframe\">\n",
       "  <thead>\n",
       "    <tr style=\"text-align: right;\">\n",
       "      <th></th>\n",
       "      <th>section_id</th>\n",
       "      <th>page_id</th>\n",
       "      <th>page_part</th>\n",
       "      <th>section_id2</th>\n",
       "      <th>title</th>\n",
       "      <th>lemma</th>\n",
       "      <th>inflected</th>\n",
       "      <th>rhymes</th>\n",
       "      <th>pos</th>\n",
       "      <th>section_len</th>\n",
       "      <th>flexion</th>\n",
       "      <th>ipa</th>\n",
       "      <th>syllables</th>\n",
       "      <th>lang</th>\n",
       "      <th>lang_code</th>\n",
       "      <th>wikitext</th>\n",
       "      <th>error</th>\n",
       "    </tr>\n",
       "  </thead>\n",
       "  <tbody>\n",
       "  </tbody>\n",
       "</table>\n",
       "</div>\n",
       "      <button class=\"colab-df-convert\" onclick=\"convertToInteractive('df-a109159b-eb60-43e3-ab4b-23cacf3b10e4')\"\n",
       "              title=\"Convert this dataframe to an interactive table.\"\n",
       "              style=\"display:none;\">\n",
       "        \n",
       "  <svg xmlns=\"http://www.w3.org/2000/svg\" height=\"24px\"viewBox=\"0 0 24 24\"\n",
       "       width=\"24px\">\n",
       "    <path d=\"M0 0h24v24H0V0z\" fill=\"none\"/>\n",
       "    <path d=\"M18.56 5.44l.94 2.06.94-2.06 2.06-.94-2.06-.94-.94-2.06-.94 2.06-2.06.94zm-11 1L8.5 8.5l.94-2.06 2.06-.94-2.06-.94L8.5 2.5l-.94 2.06-2.06.94zm10 10l.94 2.06.94-2.06 2.06-.94-2.06-.94-.94-2.06-.94 2.06-2.06.94z\"/><path d=\"M17.41 7.96l-1.37-1.37c-.4-.4-.92-.59-1.43-.59-.52 0-1.04.2-1.43.59L10.3 9.45l-7.72 7.72c-.78.78-.78 2.05 0 2.83L4 21.41c.39.39.9.59 1.41.59.51 0 1.02-.2 1.41-.59l7.78-7.78 2.81-2.81c.8-.78.8-2.07 0-2.86zM5.41 20L4 18.59l7.72-7.72 1.47 1.35L5.41 20z\"/>\n",
       "  </svg>\n",
       "      </button>\n",
       "      \n",
       "  <style>\n",
       "    .colab-df-container {\n",
       "      display:flex;\n",
       "      flex-wrap:wrap;\n",
       "      gap: 12px;\n",
       "    }\n",
       "\n",
       "    .colab-df-convert {\n",
       "      background-color: #E8F0FE;\n",
       "      border: none;\n",
       "      border-radius: 50%;\n",
       "      cursor: pointer;\n",
       "      display: none;\n",
       "      fill: #1967D2;\n",
       "      height: 32px;\n",
       "      padding: 0 0 0 0;\n",
       "      width: 32px;\n",
       "    }\n",
       "\n",
       "    .colab-df-convert:hover {\n",
       "      background-color: #E2EBFA;\n",
       "      box-shadow: 0px 1px 2px rgba(60, 64, 67, 0.3), 0px 1px 3px 1px rgba(60, 64, 67, 0.15);\n",
       "      fill: #174EA6;\n",
       "    }\n",
       "\n",
       "    [theme=dark] .colab-df-convert {\n",
       "      background-color: #3B4455;\n",
       "      fill: #D2E3FC;\n",
       "    }\n",
       "\n",
       "    [theme=dark] .colab-df-convert:hover {\n",
       "      background-color: #434B5C;\n",
       "      box-shadow: 0px 1px 3px 1px rgba(0, 0, 0, 0.15);\n",
       "      filter: drop-shadow(0px 1px 2px rgba(0, 0, 0, 0.3));\n",
       "      fill: #FFFFFF;\n",
       "    }\n",
       "  </style>\n",
       "\n",
       "      <script>\n",
       "        const buttonEl =\n",
       "          document.querySelector('#df-a109159b-eb60-43e3-ab4b-23cacf3b10e4 button.colab-df-convert');\n",
       "        buttonEl.style.display =\n",
       "          google.colab.kernel.accessAllowed ? 'block' : 'none';\n",
       "\n",
       "        async function convertToInteractive(key) {\n",
       "          const element = document.querySelector('#df-a109159b-eb60-43e3-ab4b-23cacf3b10e4');\n",
       "          const dataTable =\n",
       "            await google.colab.kernel.invokeFunction('convertToInteractive',\n",
       "                                                     [key], {});\n",
       "          if (!dataTable) return;\n",
       "\n",
       "          const docLinkHtml = 'Like what you see? Visit the ' +\n",
       "            '<a target=\"_blank\" href=https://colab.research.google.com/notebooks/data_table.ipynb>data table notebook</a>'\n",
       "            + ' to learn more about interactive tables.';\n",
       "          element.innerHTML = '';\n",
       "          dataTable['output_type'] = 'display_data';\n",
       "          await google.colab.output.renderOutput(dataTable, element);\n",
       "          const docLink = document.createElement('div');\n",
       "          docLink.innerHTML = docLinkHtml;\n",
       "          element.appendChild(docLink);\n",
       "        }\n",
       "      </script>\n",
       "    </div>\n",
       "  </div>\n",
       "  "
      ],
      "text/plain": [
       "Empty DataFrame\n",
       "Columns: [section_id, page_id, page_part, section_id2, title, lemma, inflected, rhymes, pos, section_len, flexion, ipa, syllables, lang, lang_code, wikitext, error]\n",
       "Index: []"
      ]
     },
     "execution_count": 73,
     "metadata": {},
     "output_type": "execute_result"
    },
    {
     "name": "stdout",
     "output_type": "stream",
     "text": [
      "time: 3.31 s (started: 2023-02-15 16:17:48 +00:00)\n"
     ]
    }
   ],
   "source": [
    "mask1 = wiktionary.title == wiktionary.lemma\n",
    "mask2A = wiktionary.pos.str.contains('Deklinierte Form')\n",
    "mask2B = wiktionary.pos.str.contains('Konjugierte Form')\n",
    "mask = mask1  &  (mask2A | mask2B)\n",
    "wiktionary[mask]"
   ]
  },
  {
   "cell_type": "markdown",
   "metadata": {
    "id": "WLB4fvRkn5PA"
   },
   "source": [
    "## Fehler finden"
   ]
  },
  {
   "cell_type": "code",
   "execution_count": 74,
   "metadata": {
    "colab": {
     "base_uri": "https://localhost:8080/"
    },
    "executionInfo": {
     "elapsed": 386,
     "status": "ok",
     "timestamp": 1676477872344,
     "user": {
      "displayName": "Hups Hopsalla",
      "userId": "10020718461385065661"
     },
     "user_tz": -60
    },
    "id": "yklH9mezn5PA",
    "outputId": "8113f646-b80b-4a45-9c7d-a38146510a14"
   },
   "outputs": [
    {
     "name": "stdout",
     "output_type": "stream",
     "text": [
      "check_mask:  206 rows\n",
      "time: 429 ms (started: 2023-02-15 16:17:51 +00:00)\n"
     ]
    }
   ],
   "source": [
    "# Fehler: title zu kurz\n",
    "mask = (wiktionary.title.str.len() < 2)  \n",
    "check_mask(wiktionary, mask, 0, 800)\n",
    "wiktionary.loc[mask,'error'] = 'title zu kurz'\n",
    "#wiktionary = pak.drop_rows(wiktionary,mask)"
   ]
  },
  {
   "cell_type": "code",
   "execution_count": 75,
   "metadata": {
    "colab": {
     "base_uri": "https://localhost:8080/"
    },
    "executionInfo": {
     "elapsed": 16,
     "status": "ok",
     "timestamp": 1676477872345,
     "user": {
      "displayName": "Hups Hopsalla",
      "userId": "10020718461385065661"
     },
     "user_tz": -60
    },
    "id": "J8EysjJGn5PB",
    "outputId": "07fcee85-0607-46b4-dfd4-071189bdc00f"
   },
   "outputs": [
    {
     "name": "stdout",
     "output_type": "stream",
     "text": [
      "check_mask:  0 rows\n",
      "time: 117 ms (started: 2023-02-15 16:17:52 +00:00)\n"
     ]
    }
   ],
   "source": [
    "# Fehler: page_part > 9\n",
    "mask = (wiktionary.page_part > 9)   &   (wiktionary.error == '')\n",
    "check_mask( wiktionary, mask, 0, 10 )\n",
    "wiktionary.loc[mask,'error'] = 'page_part > 9'"
   ]
  },
  {
   "cell_type": "code",
   "execution_count": 76,
   "metadata": {
    "colab": {
     "base_uri": "https://localhost:8080/"
    },
    "executionInfo": {
     "elapsed": 1399,
     "status": "ok",
     "timestamp": 1676477874383,
     "user": {
      "displayName": "Hups Hopsalla",
      "userId": "10020718461385065661"
     },
     "user_tz": -60
    },
    "id": "Af29piXnn5PB",
    "outputId": "079e0ac6-2f39-47c1-d8cf-9ffa5ac6daff"
   },
   "outputs": [
    {
     "name": "stdout",
     "output_type": "stream",
     "text": [
      "time: 1.86 s (started: 2023-02-15 16:17:52 +00:00)\n"
     ]
    }
   ],
   "source": [
    "# Fehler finden: Uneindeutige Zuordnung\n",
    "assert pak.same_but_different(wiktionary, ['page_id'], 'title').shape[0] == 0\n",
    "assert pak.same_but_different(wiktionary, ['title'],   'page_id').shape[0] < 10  # es gibt ein paar Ausnahmen. Das kommt durch die Bereinigung. Ist aber egal."
   ]
  },
  {
   "cell_type": "code",
   "execution_count": 77,
   "metadata": {
    "colab": {
     "base_uri": "https://localhost:8080/"
    },
    "executionInfo": {
     "elapsed": 2294,
     "status": "ok",
     "timestamp": 1676477876668,
     "user": {
      "displayName": "Hups Hopsalla",
      "userId": "10020718461385065661"
     },
     "user_tz": -60
    },
    "id": "xe7dZacYn5PB",
    "outputId": "97594663-99b1-44d7-bc29-b85bd227f9e5"
   },
   "outputs": [
    {
     "name": "stdout",
     "output_type": "stream",
     "text": [
      "time: 2.41 s (started: 2023-02-15 16:17:54 +00:00)\n"
     ]
    }
   ],
   "source": [
    "# Fehler finden: Uneindeutige Zuordnung\n",
    "assert pak.same_but_different(wiktionary, ['section_id'],  'section_id2').shape[0] == 0\n",
    "assert pak.same_but_different(wiktionary, ['section_id2'], 'section_id').shape[0] == 0"
   ]
  },
  {
   "cell_type": "code",
   "execution_count": 78,
   "metadata": {
    "colab": {
     "base_uri": "https://localhost:8080/"
    },
    "executionInfo": {
     "elapsed": 627,
     "status": "ok",
     "timestamp": 1676477877289,
     "user": {
      "displayName": "Hups Hopsalla",
      "userId": "10020718461385065661"
     },
     "user_tz": -60
    },
    "id": "Mhvelu1pn5PC",
    "outputId": "d1de0463-76e9-499f-deaf-343d2b52e34b"
   },
   "outputs": [
    {
     "name": "stdout",
     "output_type": "stream",
     "text": [
      "check_mask:  10 rows\n",
      "time: 268 ms (started: 2023-02-15 16:17:56 +00:00)\n"
     ]
    }
   ],
   "source": [
    "# lang_code ist nan\n",
    "mask = wiktionary.lang_code.isna()   &   (wiktionary.error == '')\n",
    "check_mask(wiktionary, mask, 0, 9000)\n",
    "wiktionary.loc[mask,'error'] = 'lang_code ist nan'\n",
    "#grid(wiktionary, mask)"
   ]
  },
  {
   "cell_type": "code",
   "execution_count": 79,
   "metadata": {
    "colab": {
     "base_uri": "https://localhost:8080/"
    },
    "executionInfo": {
     "elapsed": 250,
     "status": "ok",
     "timestamp": 1676477877535,
     "user": {
      "displayName": "Hups Hopsalla",
      "userId": "10020718461385065661"
     },
     "user_tz": -60
    },
    "id": "8UQY1SlEn5PC",
    "outputId": "17f672fe-e883-41ec-aad5-63caa8b1162c"
   },
   "outputs": [
    {
     "name": "stdout",
     "output_type": "stream",
     "text": [
      "check_mask:  0 rows\n",
      "time: 318 ms (started: 2023-02-15 16:17:56 +00:00)\n"
     ]
    }
   ],
   "source": [
    "# lang_code != de\n",
    "mask = (wiktionary.lang_code != 'de')   &   (wiktionary.error == '')\n",
    "check_mask(wiktionary, mask, 0, 10)\n",
    "wiktionary.loc[mask,'error'] = 'lang_code != de'"
   ]
  },
  {
   "cell_type": "code",
   "execution_count": 80,
   "metadata": {
    "colab": {
     "base_uri": "https://localhost:8080/"
    },
    "executionInfo": {
     "elapsed": 249,
     "status": "ok",
     "timestamp": 1676477877777,
     "user": {
      "displayName": "Hups Hopsalla",
      "userId": "10020718461385065661"
     },
     "user_tz": -60
    },
    "id": "ECLS9kIVn5PD",
    "outputId": "c386b9a8-a5ec-40c6-d0c1-8df67532b8b2"
   },
   "outputs": [
    {
     "name": "stdout",
     "output_type": "stream",
     "text": [
      "check_mask:  0 rows\n",
      "time: 325 ms (started: 2023-02-15 16:17:57 +00:00)\n"
     ]
    }
   ],
   "source": [
    "# lang ist nan\n",
    "mask = wiktionary.lang.isna()   &   (wiktionary.error == '')\n",
    "check_mask(wiktionary, mask, 0, 200)\n",
    "wiktionary.loc[mask,'error'] = 'lang ist nan'\n",
    "#grid(wiktionary, mask)"
   ]
  },
  {
   "cell_type": "code",
   "execution_count": 81,
   "metadata": {
    "colab": {
     "base_uri": "https://localhost:8080/"
    },
    "executionInfo": {
     "elapsed": 248,
     "status": "ok",
     "timestamp": 1676477878021,
     "user": {
      "displayName": "Hups Hopsalla",
      "userId": "10020718461385065661"
     },
     "user_tz": -60
    },
    "id": "wnAm1gDKn5PD",
    "outputId": "53df8b8e-da50-414a-abad-0e76b03104a3"
   },
   "outputs": [
    {
     "name": "stdout",
     "output_type": "stream",
     "text": [
      "check_mask:  0 rows\n",
      "time: 381 ms (started: 2023-02-15 16:17:57 +00:00)\n"
     ]
    }
   ],
   "source": [
    "# lang != Deutsch\n",
    "mask = (wiktionary.lang != 'Deutsch')   &  (wiktionary.error == '')\n",
    "check_mask(wiktionary, mask, 0, 10000)\n",
    "wiktionary.loc[mask,'error'] = 'lang != Deutsch'"
   ]
  },
  {
   "cell_type": "code",
   "execution_count": 82,
   "metadata": {
    "colab": {
     "base_uri": "https://localhost:8080/"
    },
    "executionInfo": {
     "elapsed": 3625,
     "status": "ok",
     "timestamp": 1676477881641,
     "user": {
      "displayName": "Hups Hopsalla",
      "userId": "10020718461385065661"
     },
     "user_tz": -60
    },
    "id": "ci7tPl8rn5PE",
    "outputId": "151ff5fe-cae6-41e0-e738-3b41b7d6a1c8"
   },
   "outputs": [
    {
     "name": "stdout",
     "output_type": "stream",
     "text": [
      "check_mask:  3910 rows\n",
      "time: 3.1 s (started: 2023-02-15 16:17:57 +00:00)\n"
     ]
    }
   ],
   "source": [
    "# title zu viele Wörter\n",
    "mask = (wiktionary.title.str.split().str.len() > 2)   &  (wiktionary.error == '')\n",
    "check_mask(wiktionary, mask, 0, 4000)\n",
    "wiktionary.loc[mask,'error'] = 'title zu viele Wörter'"
   ]
  },
  {
   "cell_type": "code",
   "execution_count": 83,
   "metadata": {
    "colab": {
     "base_uri": "https://localhost:8080/"
    },
    "executionInfo": {
     "elapsed": 53,
     "status": "ok",
     "timestamp": 1676477881642,
     "user": {
      "displayName": "Hups Hopsalla",
      "userId": "10020718461385065661"
     },
     "user_tz": -60
    },
    "id": "YEH5QepMn5PE",
    "outputId": "4eddf114-1d4a-441e-c210-bf3748b2a19f"
   },
   "outputs": [
    {
     "name": "stdout",
     "output_type": "stream",
     "text": [
      "check_mask:  26 rows\n",
      "time: 485 ms (started: 2023-02-15 16:18:00 +00:00)\n"
     ]
    }
   ],
   "source": [
    "# lemma zu kurz\n",
    "mask = (wiktionary.lemma.str.len() < 2)   &  (wiktionary.error == '')\n",
    "check_mask(wiktionary, mask, 0, 100)\n",
    "wiktionary.loc[mask,'error'] = 'lemma zu kurz'\n",
    "#grid(wiktionary,mask)"
   ]
  },
  {
   "cell_type": "code",
   "execution_count": 84,
   "metadata": {
    "colab": {
     "base_uri": "https://localhost:8080/"
    },
    "executionInfo": {
     "elapsed": 362,
     "status": "ok",
     "timestamp": 1676477881959,
     "user": {
      "displayName": "Hups Hopsalla",
      "userId": "10020718461385065661"
     },
     "user_tz": -60
    },
    "id": "uqgJKyspn5PE",
    "outputId": "10f6ae51-684c-4e24-ec9b-b4cf3f1a9966"
   },
   "outputs": [
    {
     "name": "stdout",
     "output_type": "stream",
     "text": [
      "check_mask:  0 rows\n",
      "time: 239 ms (started: 2023-02-15 16:18:01 +00:00)\n"
     ]
    }
   ],
   "source": [
    "# pos ist nan\n",
    "mask = wiktionary.pos.isna()   &   (wiktionary.error == '')\n",
    "check_mask(wiktionary, mask, 0, 100)\n",
    "wiktionary.loc[mask,'error'] = 'pos ist nan'\n",
    "#grid(wiktionary, mask)"
   ]
  },
  {
   "cell_type": "code",
   "execution_count": 85,
   "metadata": {
    "colab": {
     "base_uri": "https://localhost:8080/"
    },
    "executionInfo": {
     "elapsed": 14,
     "status": "ok",
     "timestamp": 1676477881960,
     "user": {
      "displayName": "Hups Hopsalla",
      "userId": "10020718461385065661"
     },
     "user_tz": -60
    },
    "id": "kjmVmGL6n5PF",
    "outputId": "97261b50-8c1c-4aeb-c6a9-9b82a2c8bb18"
   },
   "outputs": [
    {
     "name": "stdout",
     "output_type": "stream",
     "text": [
      "time: 50.2 ms (started: 2023-02-15 16:18:01 +00:00)\n"
     ]
    }
   ],
   "source": [
    "# pos zu kurz\n",
    "#mask = (wiktionary.pos.str.len() < 2)   &  wiktionary.error.isnull()\n",
    "#check_mask(wiktionary, mask, 0, 10)\n",
    "#wiktionary.loc[mask,'error'] = 'pos zu kurz'"
   ]
  },
  {
   "cell_type": "markdown",
   "metadata": {
    "id": "Cb6WrTT7n5PF"
   },
   "source": [
    "## Trash"
   ]
  },
  {
   "cell_type": "code",
   "execution_count": 86,
   "metadata": {
    "colab": {
     "base_uri": "https://localhost:8080/"
    },
    "executionInfo": {
     "elapsed": 735,
     "status": "ok",
     "timestamp": 1676477882689,
     "user": {
      "displayName": "Hups Hopsalla",
      "userId": "10020718461385065661"
     },
     "user_tz": -60
    },
    "id": "NfTjGcTFn5PG",
    "outputId": "a8b9a0ec-1e2e-45ad-f172-bdb781032727"
   },
   "outputs": [
    {
     "name": "stdout",
     "output_type": "stream",
     "text": [
      "Move 4152 rows from 841745\n",
      "time: 762 ms (started: 2023-02-15 16:18:01 +00:00)\n"
     ]
    }
   ],
   "source": [
    "# Fehler aussortieren\n",
    "mask = wiktionary.error != ''\n",
    "wiktionary, wiktionary_trash = pak.move_rows( wiktionary, mask )       "
   ]
  },
  {
   "cell_type": "code",
   "execution_count": 87,
   "metadata": {
    "colab": {
     "base_uri": "https://localhost:8080/",
     "height": 192
    },
    "executionInfo": {
     "elapsed": 853,
     "status": "ok",
     "timestamp": 1676477883536,
     "user": {
      "displayName": "Hups Hopsalla",
      "userId": "10020718461385065661"
     },
     "user_tz": -60
    },
    "id": "IUfo9osdn5PG",
    "outputId": "0bc0865e-78d1-4b45-cb96-5992f600da19"
   },
   "outputs": [
    {
     "data": {
      "text/html": [
       "\n",
       "  <div id=\"df-4ccc8a34-56b0-49b4-a353-d3134eb5940c\">\n",
       "    <div class=\"colab-df-container\">\n",
       "      <div>\n",
       "<style scoped>\n",
       "    .dataframe tbody tr th:only-of-type {\n",
       "        vertical-align: middle;\n",
       "    }\n",
       "\n",
       "    .dataframe tbody tr th {\n",
       "        vertical-align: top;\n",
       "    }\n",
       "\n",
       "    .dataframe thead th {\n",
       "        text-align: right;\n",
       "    }\n",
       "</style>\n",
       "<table border=\"1\" class=\"dataframe\">\n",
       "  <thead>\n",
       "    <tr style=\"text-align: right;\">\n",
       "      <th></th>\n",
       "      <th>item</th>\n",
       "      <th>item_count</th>\n",
       "      <th>item_percent</th>\n",
       "      <th>graph</th>\n",
       "    </tr>\n",
       "  </thead>\n",
       "  <tbody>\n",
       "    <tr>\n",
       "      <th>0</th>\n",
       "      <td>title zu viele Wörter</td>\n",
       "      <td>3910</td>\n",
       "      <td>94.2</td>\n",
       "      <td>###############################################</td>\n",
       "    </tr>\n",
       "    <tr>\n",
       "      <th>1</th>\n",
       "      <td>title zu kurz</td>\n",
       "      <td>206</td>\n",
       "      <td>5.0</td>\n",
       "      <td>##</td>\n",
       "    </tr>\n",
       "    <tr>\n",
       "      <th>2</th>\n",
       "      <td>lemma zu kurz</td>\n",
       "      <td>26</td>\n",
       "      <td>0.6</td>\n",
       "      <td></td>\n",
       "    </tr>\n",
       "    <tr>\n",
       "      <th>3</th>\n",
       "      <td>lang_code ist nan</td>\n",
       "      <td>10</td>\n",
       "      <td>0.2</td>\n",
       "      <td></td>\n",
       "    </tr>\n",
       "  </tbody>\n",
       "</table>\n",
       "</div>\n",
       "      <button class=\"colab-df-convert\" onclick=\"convertToInteractive('df-4ccc8a34-56b0-49b4-a353-d3134eb5940c')\"\n",
       "              title=\"Convert this dataframe to an interactive table.\"\n",
       "              style=\"display:none;\">\n",
       "        \n",
       "  <svg xmlns=\"http://www.w3.org/2000/svg\" height=\"24px\"viewBox=\"0 0 24 24\"\n",
       "       width=\"24px\">\n",
       "    <path d=\"M0 0h24v24H0V0z\" fill=\"none\"/>\n",
       "    <path d=\"M18.56 5.44l.94 2.06.94-2.06 2.06-.94-2.06-.94-.94-2.06-.94 2.06-2.06.94zm-11 1L8.5 8.5l.94-2.06 2.06-.94-2.06-.94L8.5 2.5l-.94 2.06-2.06.94zm10 10l.94 2.06.94-2.06 2.06-.94-2.06-.94-.94-2.06-.94 2.06-2.06.94z\"/><path d=\"M17.41 7.96l-1.37-1.37c-.4-.4-.92-.59-1.43-.59-.52 0-1.04.2-1.43.59L10.3 9.45l-7.72 7.72c-.78.78-.78 2.05 0 2.83L4 21.41c.39.39.9.59 1.41.59.51 0 1.02-.2 1.41-.59l7.78-7.78 2.81-2.81c.8-.78.8-2.07 0-2.86zM5.41 20L4 18.59l7.72-7.72 1.47 1.35L5.41 20z\"/>\n",
       "  </svg>\n",
       "      </button>\n",
       "      \n",
       "  <style>\n",
       "    .colab-df-container {\n",
       "      display:flex;\n",
       "      flex-wrap:wrap;\n",
       "      gap: 12px;\n",
       "    }\n",
       "\n",
       "    .colab-df-convert {\n",
       "      background-color: #E8F0FE;\n",
       "      border: none;\n",
       "      border-radius: 50%;\n",
       "      cursor: pointer;\n",
       "      display: none;\n",
       "      fill: #1967D2;\n",
       "      height: 32px;\n",
       "      padding: 0 0 0 0;\n",
       "      width: 32px;\n",
       "    }\n",
       "\n",
       "    .colab-df-convert:hover {\n",
       "      background-color: #E2EBFA;\n",
       "      box-shadow: 0px 1px 2px rgba(60, 64, 67, 0.3), 0px 1px 3px 1px rgba(60, 64, 67, 0.15);\n",
       "      fill: #174EA6;\n",
       "    }\n",
       "\n",
       "    [theme=dark] .colab-df-convert {\n",
       "      background-color: #3B4455;\n",
       "      fill: #D2E3FC;\n",
       "    }\n",
       "\n",
       "    [theme=dark] .colab-df-convert:hover {\n",
       "      background-color: #434B5C;\n",
       "      box-shadow: 0px 1px 3px 1px rgba(0, 0, 0, 0.15);\n",
       "      filter: drop-shadow(0px 1px 2px rgba(0, 0, 0, 0.3));\n",
       "      fill: #FFFFFF;\n",
       "    }\n",
       "  </style>\n",
       "\n",
       "      <script>\n",
       "        const buttonEl =\n",
       "          document.querySelector('#df-4ccc8a34-56b0-49b4-a353-d3134eb5940c button.colab-df-convert');\n",
       "        buttonEl.style.display =\n",
       "          google.colab.kernel.accessAllowed ? 'block' : 'none';\n",
       "\n",
       "        async function convertToInteractive(key) {\n",
       "          const element = document.querySelector('#df-4ccc8a34-56b0-49b4-a353-d3134eb5940c');\n",
       "          const dataTable =\n",
       "            await google.colab.kernel.invokeFunction('convertToInteractive',\n",
       "                                                     [key], {});\n",
       "          if (!dataTable) return;\n",
       "\n",
       "          const docLinkHtml = 'Like what you see? Visit the ' +\n",
       "            '<a target=\"_blank\" href=https://colab.research.google.com/notebooks/data_table.ipynb>data table notebook</a>'\n",
       "            + ' to learn more about interactive tables.';\n",
       "          element.innerHTML = '';\n",
       "          dataTable['output_type'] = 'display_data';\n",
       "          await google.colab.output.renderOutput(dataTable, element);\n",
       "          const docLink = document.createElement('div');\n",
       "          docLink.innerHTML = docLinkHtml;\n",
       "          element.appendChild(docLink);\n",
       "        }\n",
       "      </script>\n",
       "    </div>\n",
       "  </div>\n",
       "  "
      ],
      "text/plain": [
       "                    item  item_count  item_percent  \\\n",
       "0  title zu viele Wörter        3910          94.2   \n",
       "1          title zu kurz         206           5.0   \n",
       "2          lemma zu kurz          26           0.6   \n",
       "3      lang_code ist nan          10           0.2   \n",
       "\n",
       "                                             graph  \n",
       "0  ###############################################  \n",
       "1                                               ##  \n",
       "2                                                   \n",
       "3                                                   "
      ]
     },
     "execution_count": 87,
     "metadata": {},
     "output_type": "execute_result"
    },
    {
     "name": "stdout",
     "output_type": "stream",
     "text": [
      "time: 62.7 ms (started: 2023-02-15 16:18:02 +00:00)\n"
     ]
    }
   ],
   "source": [
    "pak.analyse_freqs(wiktionary_trash.error)"
   ]
  },
  {
   "cell_type": "code",
   "execution_count": 88,
   "metadata": {
    "colab": {
     "base_uri": "https://localhost:8080/",
     "height": 1000
    },
    "executionInfo": {
     "elapsed": 34,
     "status": "ok",
     "timestamp": 1676477883537,
     "user": {
      "displayName": "Hups Hopsalla",
      "userId": "10020718461385065661"
     },
     "user_tz": -60
    },
    "id": "-_8FQQ7sn5PG",
    "outputId": "1ace74b2-027d-443e-ef31-7078c0b09ec6"
   },
   "outputs": [
    {
     "name": "stdout",
     "output_type": "stream",
     "text": [
      "26 rows out of 4152\n"
     ]
    },
    {
     "data": {
      "text/html": [
       "\n",
       "  <div id=\"df-40cb4050-4a5d-4497-bf54-35e71d5f7b91\">\n",
       "    <div class=\"colab-df-container\">\n",
       "      <div>\n",
       "<style scoped>\n",
       "    .dataframe tbody tr th:only-of-type {\n",
       "        vertical-align: middle;\n",
       "    }\n",
       "\n",
       "    .dataframe tbody tr th {\n",
       "        vertical-align: top;\n",
       "    }\n",
       "\n",
       "    .dataframe thead th {\n",
       "        text-align: right;\n",
       "    }\n",
       "</style>\n",
       "<table border=\"1\" class=\"dataframe\">\n",
       "  <thead>\n",
       "    <tr style=\"text-align: right;\">\n",
       "      <th></th>\n",
       "      <th>section_id</th>\n",
       "      <th>page_id</th>\n",
       "      <th>page_part</th>\n",
       "      <th>section_id2</th>\n",
       "      <th>title</th>\n",
       "      <th>lemma</th>\n",
       "      <th>inflected</th>\n",
       "      <th>rhymes</th>\n",
       "      <th>pos</th>\n",
       "      <th>section_len</th>\n",
       "      <th>flexion</th>\n",
       "      <th>ipa</th>\n",
       "      <th>syllables</th>\n",
       "      <th>lang</th>\n",
       "      <th>lang_code</th>\n",
       "      <th>wikitext</th>\n",
       "      <th>error</th>\n",
       "      <th>msg</th>\n",
       "    </tr>\n",
       "  </thead>\n",
       "  <tbody>\n",
       "    <tr>\n",
       "      <th>10386</th>\n",
       "      <td>1712500</td>\n",
       "      <td>17125</td>\n",
       "      <td>0</td>\n",
       "      <td>as</td>\n",
       "      <td>as</td>\n",
       "      <td>a</td>\n",
       "      <td>True</td>\n",
       "      <td>[aːs]</td>\n",
       "      <td>{'Deklinierte Form': []}</td>\n",
       "      <td>491</td>\n",
       "      <td>NaN</td>\n",
       "      <td>[aːs]</td>\n",
       "      <td>[as]</td>\n",
       "      <td>Deutsch</td>\n",
       "      <td>de</td>\n",
       "      <td>=== {{Wortart|Deklinierte Form|Deutsch}} ===\\n...</td>\n",
       "      <td>lemma zu kurz</td>\n",
       "      <td>0</td>\n",
       "    </tr>\n",
       "    <tr>\n",
       "      <th>12905</th>\n",
       "      <td>2100703</td>\n",
       "      <td>21007</td>\n",
       "      <td>3</td>\n",
       "      <td>As_3</td>\n",
       "      <td>As</td>\n",
       "      <td>A</td>\n",
       "      <td>True</td>\n",
       "      <td>[aːs]</td>\n",
       "      <td>{'Deklinierte Form': []}</td>\n",
       "      <td>534</td>\n",
       "      <td>NaN</td>\n",
       "      <td>[aːs]</td>\n",
       "      <td>[As]</td>\n",
       "      <td>Deutsch</td>\n",
       "      <td>de</td>\n",
       "      <td>=== {{Wortart|Deklinierte Form|Deutsch}} ===\\n...</td>\n",
       "      <td>lemma zu kurz</td>\n",
       "      <td>0</td>\n",
       "    </tr>\n",
       "    <tr>\n",
       "      <th>12914</th>\n",
       "      <td>2103602</td>\n",
       "      <td>21036</td>\n",
       "      <td>2</td>\n",
       "      <td>Es_2</td>\n",
       "      <td>Es</td>\n",
       "      <td>E</td>\n",
       "      <td>True</td>\n",
       "      <td>[eːs]</td>\n",
       "      <td>{'Deklinierte Form': []}</td>\n",
       "      <td>453</td>\n",
       "      <td>NaN</td>\n",
       "      <td>[eːs]</td>\n",
       "      <td>[Es]</td>\n",
       "      <td>Deutsch</td>\n",
       "      <td>de</td>\n",
       "      <td>=== {{Wortart|Deklinierte Form|Deutsch}} ===\\n...</td>\n",
       "      <td>lemma zu kurz</td>\n",
       "      <td>0</td>\n",
       "    </tr>\n",
       "    <tr>\n",
       "      <th>447222</th>\n",
       "      <td>66500500</td>\n",
       "      <td>665005</td>\n",
       "      <td>0</td>\n",
       "      <td>Ts</td>\n",
       "      <td>Ts</td>\n",
       "      <td>T</td>\n",
       "      <td>True</td>\n",
       "      <td>[eːs]</td>\n",
       "      <td>{'Deklinierte Form': []}</td>\n",
       "      <td>454</td>\n",
       "      <td>NaN</td>\n",
       "      <td>[teːs]</td>\n",
       "      <td>[Ts]</td>\n",
       "      <td>Deutsch</td>\n",
       "      <td>de</td>\n",
       "      <td>=== {{Wortart|Deklinierte Form|Deutsch}} ===\\n...</td>\n",
       "      <td>lemma zu kurz</td>\n",
       "      <td>0</td>\n",
       "    </tr>\n",
       "    <tr>\n",
       "      <th>480370</th>\n",
       "      <td>71223700</td>\n",
       "      <td>712237</td>\n",
       "      <td>0</td>\n",
       "      <td>Xen</td>\n",
       "      <td>Xen</td>\n",
       "      <td>X</td>\n",
       "      <td>True</td>\n",
       "      <td>[ɪksn̩]</td>\n",
       "      <td>{'Deklinierte Form': []}</td>\n",
       "      <td>286</td>\n",
       "      <td>NaN</td>\n",
       "      <td>[ˈɪksn̩]</td>\n",
       "      <td>[Xen]</td>\n",
       "      <td>Deutsch</td>\n",
       "      <td>de</td>\n",
       "      <td>=== {{Wortart|Deklinierte Form|Deutsch}} ===\\n...</td>\n",
       "      <td>lemma zu kurz</td>\n",
       "      <td>0</td>\n",
       "    </tr>\n",
       "    <tr>\n",
       "      <th>480396</th>\n",
       "      <td>71226400</td>\n",
       "      <td>712264</td>\n",
       "      <td>0</td>\n",
       "      <td>cs</td>\n",
       "      <td>cs</td>\n",
       "      <td>c</td>\n",
       "      <td>True</td>\n",
       "      <td>[eːs]</td>\n",
       "      <td>{'Deklinierte Form': []}</td>\n",
       "      <td>456</td>\n",
       "      <td>NaN</td>\n",
       "      <td>[t͡seːs]</td>\n",
       "      <td>[cs]</td>\n",
       "      <td>Deutsch</td>\n",
       "      <td>de</td>\n",
       "      <td>=== {{Wortart|Deklinierte Form|Deutsch}} ===\\n...</td>\n",
       "      <td>lemma zu kurz</td>\n",
       "      <td>0</td>\n",
       "    </tr>\n",
       "    <tr>\n",
       "      <th>480408</th>\n",
       "      <td>71227700</td>\n",
       "      <td>712277</td>\n",
       "      <td>0</td>\n",
       "      <td>fs</td>\n",
       "      <td>fs</td>\n",
       "      <td>f</td>\n",
       "      <td>True</td>\n",
       "      <td>NaN</td>\n",
       "      <td>{'Deklinierte Form': []}</td>\n",
       "      <td>429</td>\n",
       "      <td>NaN</td>\n",
       "      <td>[ɛfs]</td>\n",
       "      <td>[fs]</td>\n",
       "      <td>Deutsch</td>\n",
       "      <td>de</td>\n",
       "      <td>=== {{Wortart|Deklinierte Form|Deutsch}} ===\\n...</td>\n",
       "      <td>lemma zu kurz</td>\n",
       "      <td>0</td>\n",
       "    </tr>\n",
       "    <tr>\n",
       "      <th>480427</th>\n",
       "      <td>71229600</td>\n",
       "      <td>712296</td>\n",
       "      <td>0</td>\n",
       "      <td>gs</td>\n",
       "      <td>gs</td>\n",
       "      <td>g</td>\n",
       "      <td>True</td>\n",
       "      <td>[eːs]</td>\n",
       "      <td>{'Deklinierte Form': []}</td>\n",
       "      <td>462</td>\n",
       "      <td>NaN</td>\n",
       "      <td>[ɡeːs]</td>\n",
       "      <td>[gs]</td>\n",
       "      <td>Deutsch</td>\n",
       "      <td>de</td>\n",
       "      <td>=== {{Wortart|Deklinierte Form|Deutsch}} ===\\n...</td>\n",
       "      <td>lemma zu kurz</td>\n",
       "      <td>0</td>\n",
       "    </tr>\n",
       "    <tr>\n",
       "      <th>480428</th>\n",
       "      <td>71229700</td>\n",
       "      <td>712297</td>\n",
       "      <td>0</td>\n",
       "      <td>hs</td>\n",
       "      <td>hs</td>\n",
       "      <td>h</td>\n",
       "      <td>True</td>\n",
       "      <td>[aːs]</td>\n",
       "      <td>{'Deklinierte Form': []}</td>\n",
       "      <td>462</td>\n",
       "      <td>NaN</td>\n",
       "      <td>[haːs]</td>\n",
       "      <td>[hs]</td>\n",
       "      <td>Deutsch</td>\n",
       "      <td>de</td>\n",
       "      <td>=== {{Wortart|Deklinierte Form|Deutsch}} ===\\n...</td>\n",
       "      <td>lemma zu kurz</td>\n",
       "      <td>0</td>\n",
       "    </tr>\n",
       "    <tr>\n",
       "      <th>643845</th>\n",
       "      <td>90388000</td>\n",
       "      <td>903880</td>\n",
       "      <td>0</td>\n",
       "      <td>Bs</td>\n",
       "      <td>Bs</td>\n",
       "      <td>B</td>\n",
       "      <td>True</td>\n",
       "      <td>[eːs]</td>\n",
       "      <td>{'Deklinierte Form': []}</td>\n",
       "      <td>484</td>\n",
       "      <td>NaN</td>\n",
       "      <td>[beːs]</td>\n",
       "      <td>[Bs]</td>\n",
       "      <td>Deutsch</td>\n",
       "      <td>de</td>\n",
       "      <td>=== {{Wortart|Deklinierte Form|Deutsch}} ===\\n...</td>\n",
       "      <td>lemma zu kurz</td>\n",
       "      <td>0</td>\n",
       "    </tr>\n",
       "    <tr>\n",
       "      <th>643852</th>\n",
       "      <td>90388700</td>\n",
       "      <td>903887</td>\n",
       "      <td>0</td>\n",
       "      <td>Gs</td>\n",
       "      <td>Gs</td>\n",
       "      <td>G</td>\n",
       "      <td>True</td>\n",
       "      <td>[eːs]</td>\n",
       "      <td>{'Deklinierte Form': []}</td>\n",
       "      <td>462</td>\n",
       "      <td>NaN</td>\n",
       "      <td>[ɡeːs]</td>\n",
       "      <td>[Gs]</td>\n",
       "      <td>Deutsch</td>\n",
       "      <td>de</td>\n",
       "      <td>=== {{Wortart|Deklinierte Form|Deutsch}} ===\\n...</td>\n",
       "      <td>lemma zu kurz</td>\n",
       "      <td>0</td>\n",
       "    </tr>\n",
       "    <tr>\n",
       "      <th>643853</th>\n",
       "      <td>90388800</td>\n",
       "      <td>903888</td>\n",
       "      <td>0</td>\n",
       "      <td>Is</td>\n",
       "      <td>Is</td>\n",
       "      <td>I</td>\n",
       "      <td>True</td>\n",
       "      <td>[iːs]</td>\n",
       "      <td>{'Deklinierte Form': []}</td>\n",
       "      <td>461</td>\n",
       "      <td>NaN</td>\n",
       "      <td>[iːs]</td>\n",
       "      <td>[Is]</td>\n",
       "      <td>Deutsch</td>\n",
       "      <td>de</td>\n",
       "      <td>=== {{Wortart|Deklinierte Form|Deutsch}} ===\\n...</td>\n",
       "      <td>lemma zu kurz</td>\n",
       "      <td>0</td>\n",
       "    </tr>\n",
       "    <tr>\n",
       "      <th>643854</th>\n",
       "      <td>90388900</td>\n",
       "      <td>903889</td>\n",
       "      <td>0</td>\n",
       "      <td>Js</td>\n",
       "      <td>Js</td>\n",
       "      <td>J</td>\n",
       "      <td>True</td>\n",
       "      <td>NaN</td>\n",
       "      <td>{'Deklinierte Form': []}</td>\n",
       "      <td>431</td>\n",
       "      <td>NaN</td>\n",
       "      <td>[jɔt͡s]</td>\n",
       "      <td>[Js]</td>\n",
       "      <td>Deutsch</td>\n",
       "      <td>de</td>\n",
       "      <td>=== {{Wortart|Deklinierte Form|Deutsch}} ===\\n...</td>\n",
       "      <td>lemma zu kurz</td>\n",
       "      <td>0</td>\n",
       "    </tr>\n",
       "    <tr>\n",
       "      <th>643855</th>\n",
       "      <td>90389000</td>\n",
       "      <td>903890</td>\n",
       "      <td>0</td>\n",
       "      <td>Ks</td>\n",
       "      <td>Ks</td>\n",
       "      <td>K</td>\n",
       "      <td>True</td>\n",
       "      <td>[aːs]</td>\n",
       "      <td>{'Deklinierte Form': []}</td>\n",
       "      <td>462</td>\n",
       "      <td>NaN</td>\n",
       "      <td>[kaːs]</td>\n",
       "      <td>[Ks]</td>\n",
       "      <td>Deutsch</td>\n",
       "      <td>de</td>\n",
       "      <td>=== {{Wortart|Deklinierte Form|Deutsch}} ===\\n...</td>\n",
       "      <td>lemma zu kurz</td>\n",
       "      <td>0</td>\n",
       "    </tr>\n",
       "    <tr>\n",
       "      <th>643856</th>\n",
       "      <td>90389100</td>\n",
       "      <td>903891</td>\n",
       "      <td>0</td>\n",
       "      <td>Ls</td>\n",
       "      <td>Ls</td>\n",
       "      <td>L</td>\n",
       "      <td>True</td>\n",
       "      <td>[ɛls]</td>\n",
       "      <td>{'Deklinierte Form': []}</td>\n",
       "      <td>483</td>\n",
       "      <td>NaN</td>\n",
       "      <td>[ɛls]</td>\n",
       "      <td>[Ls]</td>\n",
       "      <td>Deutsch</td>\n",
       "      <td>de</td>\n",
       "      <td>=== {{Wortart|Deklinierte Form|Deutsch}} ===\\n...</td>\n",
       "      <td>lemma zu kurz</td>\n",
       "      <td>0</td>\n",
       "    </tr>\n",
       "    <tr>\n",
       "      <th>643857</th>\n",
       "      <td>90389200</td>\n",
       "      <td>903892</td>\n",
       "      <td>0</td>\n",
       "      <td>Ns</td>\n",
       "      <td>Ns</td>\n",
       "      <td>N</td>\n",
       "      <td>True</td>\n",
       "      <td>NaN</td>\n",
       "      <td>{'Deklinierte Form': []}</td>\n",
       "      <td>429</td>\n",
       "      <td>NaN</td>\n",
       "      <td>[ɛns]</td>\n",
       "      <td>[Ns]</td>\n",
       "      <td>Deutsch</td>\n",
       "      <td>de</td>\n",
       "      <td>=== {{Wortart|Deklinierte Form|Deutsch}} ===\\n...</td>\n",
       "      <td>lemma zu kurz</td>\n",
       "      <td>0</td>\n",
       "    </tr>\n",
       "    <tr>\n",
       "      <th>643858</th>\n",
       "      <td>90389300</td>\n",
       "      <td>903893</td>\n",
       "      <td>0</td>\n",
       "      <td>Qs</td>\n",
       "      <td>Qs</td>\n",
       "      <td>Q</td>\n",
       "      <td>True</td>\n",
       "      <td>[uːs, eːs]</td>\n",
       "      <td>{'Deklinierte Form': []}</td>\n",
       "      <td>519</td>\n",
       "      <td>NaN</td>\n",
       "      <td>[kuːs]</td>\n",
       "      <td>[Qs]</td>\n",
       "      <td>Deutsch</td>\n",
       "      <td>de</td>\n",
       "      <td>=== {{Wortart|Deklinierte Form|Deutsch}} ===\\n...</td>\n",
       "      <td>lemma zu kurz</td>\n",
       "      <td>0</td>\n",
       "    </tr>\n",
       "    <tr>\n",
       "      <th>643859</th>\n",
       "      <td>90389400</td>\n",
       "      <td>903894</td>\n",
       "      <td>0</td>\n",
       "      <td>Rs</td>\n",
       "      <td>Rs</td>\n",
       "      <td>R</td>\n",
       "      <td>True</td>\n",
       "      <td>[ɛʁs]</td>\n",
       "      <td>{'Deklinierte Form': []}</td>\n",
       "      <td>461</td>\n",
       "      <td>NaN</td>\n",
       "      <td>[ɛʁs]</td>\n",
       "      <td>[Rs]</td>\n",
       "      <td>Deutsch</td>\n",
       "      <td>de</td>\n",
       "      <td>=== {{Wortart|Deklinierte Form|Deutsch}} ===\\n...</td>\n",
       "      <td>lemma zu kurz</td>\n",
       "      <td>0</td>\n",
       "    </tr>\n",
       "    <tr>\n",
       "      <th>643860</th>\n",
       "      <td>90389500</td>\n",
       "      <td>903895</td>\n",
       "      <td>0</td>\n",
       "      <td>ts</td>\n",
       "      <td>ts</td>\n",
       "      <td>t</td>\n",
       "      <td>True</td>\n",
       "      <td>[eːs]</td>\n",
       "      <td>{'Deklinierte Form': []}</td>\n",
       "      <td>462</td>\n",
       "      <td>NaN</td>\n",
       "      <td>[teːs]</td>\n",
       "      <td>[ts]</td>\n",
       "      <td>Deutsch</td>\n",
       "      <td>de</td>\n",
       "      <td>=== {{Wortart|Deklinierte Form|Deutsch}} ===\\n...</td>\n",
       "      <td>lemma zu kurz</td>\n",
       "      <td>0</td>\n",
       "    </tr>\n",
       "    <tr>\n",
       "      <th>643861</th>\n",
       "      <td>90389600</td>\n",
       "      <td>903896</td>\n",
       "      <td>0</td>\n",
       "      <td>Us</td>\n",
       "      <td>Us</td>\n",
       "      <td>U</td>\n",
       "      <td>True</td>\n",
       "      <td>[uːs]</td>\n",
       "      <td>{'Deklinierte Form': []}</td>\n",
       "      <td>461</td>\n",
       "      <td>NaN</td>\n",
       "      <td>[uːs]</td>\n",
       "      <td>[Us]</td>\n",
       "      <td>Deutsch</td>\n",
       "      <td>de</td>\n",
       "      <td>=== {{Wortart|Deklinierte Form|Deutsch}} ===\\n...</td>\n",
       "      <td>lemma zu kurz</td>\n",
       "      <td>0</td>\n",
       "    </tr>\n",
       "    <tr>\n",
       "      <th>643862</th>\n",
       "      <td>90389700</td>\n",
       "      <td>903897</td>\n",
       "      <td>0</td>\n",
       "      <td>Vs</td>\n",
       "      <td>Vs</td>\n",
       "      <td>V</td>\n",
       "      <td>True</td>\n",
       "      <td>NaN</td>\n",
       "      <td>{'Deklinierte Form': []}</td>\n",
       "      <td>453</td>\n",
       "      <td>NaN</td>\n",
       "      <td>[faʊ̯s]</td>\n",
       "      <td>[Vs]</td>\n",
       "      <td>Deutsch</td>\n",
       "      <td>de</td>\n",
       "      <td>=== {{Wortart|Deklinierte Form|Deutsch}} ===\\n...</td>\n",
       "      <td>lemma zu kurz</td>\n",
       "      <td>0</td>\n",
       "    </tr>\n",
       "    <tr>\n",
       "      <th>643863</th>\n",
       "      <td>90389800</td>\n",
       "      <td>903898</td>\n",
       "      <td>0</td>\n",
       "      <td>Ws</td>\n",
       "      <td>Ws</td>\n",
       "      <td>W</td>\n",
       "      <td>True</td>\n",
       "      <td>[eːs]</td>\n",
       "      <td>{'Deklinierte Form': []}</td>\n",
       "      <td>462</td>\n",
       "      <td>NaN</td>\n",
       "      <td>[veːs]</td>\n",
       "      <td>[Ws]</td>\n",
       "      <td>Deutsch</td>\n",
       "      <td>de</td>\n",
       "      <td>=== {{Wortart|Deklinierte Form|Deutsch}} ===\\n...</td>\n",
       "      <td>lemma zu kurz</td>\n",
       "      <td>0</td>\n",
       "    </tr>\n",
       "    <tr>\n",
       "      <th>643864</th>\n",
       "      <td>90389900</td>\n",
       "      <td>903899</td>\n",
       "      <td>0</td>\n",
       "      <td>Zs</td>\n",
       "      <td>Zs</td>\n",
       "      <td>Z</td>\n",
       "      <td>True</td>\n",
       "      <td>NaN</td>\n",
       "      <td>{'Deklinierte Form': []}</td>\n",
       "      <td>455</td>\n",
       "      <td>NaN</td>\n",
       "      <td>[t͡sɛt͡s]</td>\n",
       "      <td>[Zs]</td>\n",
       "      <td>Deutsch</td>\n",
       "      <td>de</td>\n",
       "      <td>=== {{Wortart|Deklinierte Form|Deutsch}} ===\\n...</td>\n",
       "      <td>lemma zu kurz</td>\n",
       "      <td>0</td>\n",
       "    </tr>\n",
       "    <tr>\n",
       "      <th>644439</th>\n",
       "      <td>90448200</td>\n",
       "      <td>904482</td>\n",
       "      <td>0</td>\n",
       "      <td>ls</td>\n",
       "      <td>ls</td>\n",
       "      <td>l</td>\n",
       "      <td>True</td>\n",
       "      <td>NaN</td>\n",
       "      <td>{'Deklinierte Form': []}</td>\n",
       "      <td>429</td>\n",
       "      <td>NaN</td>\n",
       "      <td>[ɛls]</td>\n",
       "      <td>[ls]</td>\n",
       "      <td>Deutsch</td>\n",
       "      <td>de</td>\n",
       "      <td>=== {{Wortart|Deklinierte Form|Deutsch}} ===\\n...</td>\n",
       "      <td>lemma zu kurz</td>\n",
       "      <td>0</td>\n",
       "    </tr>\n",
       "    <tr>\n",
       "      <th>644491</th>\n",
       "      <td>90453500</td>\n",
       "      <td>904535</td>\n",
       "      <td>0</td>\n",
       "      <td>qs</td>\n",
       "      <td>qs</td>\n",
       "      <td>q</td>\n",
       "      <td>True</td>\n",
       "      <td>[uːs, eːs]</td>\n",
       "      <td>{'Deklinierte Form': []}</td>\n",
       "      <td>341</td>\n",
       "      <td>NaN</td>\n",
       "      <td>[kuːs]</td>\n",
       "      <td>[qs]</td>\n",
       "      <td>Deutsch</td>\n",
       "      <td>de</td>\n",
       "      <td>=== {{Wortart|Deklinierte Form|Deutsch}} ===\\n...</td>\n",
       "      <td>lemma zu kurz</td>\n",
       "      <td>0</td>\n",
       "    </tr>\n",
       "    <tr>\n",
       "      <th>663902</th>\n",
       "      <td>92498400</td>\n",
       "      <td>924984</td>\n",
       "      <td>0</td>\n",
       "      <td>rs</td>\n",
       "      <td>rs</td>\n",
       "      <td>r</td>\n",
       "      <td>True</td>\n",
       "      <td>[ɛʁs]</td>\n",
       "      <td>{'Deklinierte Form': []}</td>\n",
       "      <td>461</td>\n",
       "      <td>NaN</td>\n",
       "      <td>[ɛʁs]</td>\n",
       "      <td>[rs]</td>\n",
       "      <td>Deutsch</td>\n",
       "      <td>de</td>\n",
       "      <td>=== {{Wortart|Deklinierte Form|Deutsch}} ===\\n...</td>\n",
       "      <td>lemma zu kurz</td>\n",
       "      <td>0</td>\n",
       "    </tr>\n",
       "  </tbody>\n",
       "</table>\n",
       "</div>\n",
       "      <button class=\"colab-df-convert\" onclick=\"convertToInteractive('df-40cb4050-4a5d-4497-bf54-35e71d5f7b91')\"\n",
       "              title=\"Convert this dataframe to an interactive table.\"\n",
       "              style=\"display:none;\">\n",
       "        \n",
       "  <svg xmlns=\"http://www.w3.org/2000/svg\" height=\"24px\"viewBox=\"0 0 24 24\"\n",
       "       width=\"24px\">\n",
       "    <path d=\"M0 0h24v24H0V0z\" fill=\"none\"/>\n",
       "    <path d=\"M18.56 5.44l.94 2.06.94-2.06 2.06-.94-2.06-.94-.94-2.06-.94 2.06-2.06.94zm-11 1L8.5 8.5l.94-2.06 2.06-.94-2.06-.94L8.5 2.5l-.94 2.06-2.06.94zm10 10l.94 2.06.94-2.06 2.06-.94-2.06-.94-.94-2.06-.94 2.06-2.06.94z\"/><path d=\"M17.41 7.96l-1.37-1.37c-.4-.4-.92-.59-1.43-.59-.52 0-1.04.2-1.43.59L10.3 9.45l-7.72 7.72c-.78.78-.78 2.05 0 2.83L4 21.41c.39.39.9.59 1.41.59.51 0 1.02-.2 1.41-.59l7.78-7.78 2.81-2.81c.8-.78.8-2.07 0-2.86zM5.41 20L4 18.59l7.72-7.72 1.47 1.35L5.41 20z\"/>\n",
       "  </svg>\n",
       "      </button>\n",
       "      \n",
       "  <style>\n",
       "    .colab-df-container {\n",
       "      display:flex;\n",
       "      flex-wrap:wrap;\n",
       "      gap: 12px;\n",
       "    }\n",
       "\n",
       "    .colab-df-convert {\n",
       "      background-color: #E8F0FE;\n",
       "      border: none;\n",
       "      border-radius: 50%;\n",
       "      cursor: pointer;\n",
       "      display: none;\n",
       "      fill: #1967D2;\n",
       "      height: 32px;\n",
       "      padding: 0 0 0 0;\n",
       "      width: 32px;\n",
       "    }\n",
       "\n",
       "    .colab-df-convert:hover {\n",
       "      background-color: #E2EBFA;\n",
       "      box-shadow: 0px 1px 2px rgba(60, 64, 67, 0.3), 0px 1px 3px 1px rgba(60, 64, 67, 0.15);\n",
       "      fill: #174EA6;\n",
       "    }\n",
       "\n",
       "    [theme=dark] .colab-df-convert {\n",
       "      background-color: #3B4455;\n",
       "      fill: #D2E3FC;\n",
       "    }\n",
       "\n",
       "    [theme=dark] .colab-df-convert:hover {\n",
       "      background-color: #434B5C;\n",
       "      box-shadow: 0px 1px 3px 1px rgba(0, 0, 0, 0.15);\n",
       "      filter: drop-shadow(0px 1px 2px rgba(0, 0, 0, 0.3));\n",
       "      fill: #FFFFFF;\n",
       "    }\n",
       "  </style>\n",
       "\n",
       "      <script>\n",
       "        const buttonEl =\n",
       "          document.querySelector('#df-40cb4050-4a5d-4497-bf54-35e71d5f7b91 button.colab-df-convert');\n",
       "        buttonEl.style.display =\n",
       "          google.colab.kernel.accessAllowed ? 'block' : 'none';\n",
       "\n",
       "        async function convertToInteractive(key) {\n",
       "          const element = document.querySelector('#df-40cb4050-4a5d-4497-bf54-35e71d5f7b91');\n",
       "          const dataTable =\n",
       "            await google.colab.kernel.invokeFunction('convertToInteractive',\n",
       "                                                     [key], {});\n",
       "          if (!dataTable) return;\n",
       "\n",
       "          const docLinkHtml = 'Like what you see? Visit the ' +\n",
       "            '<a target=\"_blank\" href=https://colab.research.google.com/notebooks/data_table.ipynb>data table notebook</a>'\n",
       "            + ' to learn more about interactive tables.';\n",
       "          element.innerHTML = '';\n",
       "          dataTable['output_type'] = 'display_data';\n",
       "          await google.colab.output.renderOutput(dataTable, element);\n",
       "          const docLink = document.createElement('div');\n",
       "          docLink.innerHTML = docLinkHtml;\n",
       "          element.appendChild(docLink);\n",
       "        }\n",
       "      </script>\n",
       "    </div>\n",
       "  </div>\n",
       "  "
      ],
      "text/plain": [
       "        section_id  page_id  page_part section_id2 title lemma  inflected  \\\n",
       "10386      1712500    17125          0          as    as     a       True   \n",
       "12905      2100703    21007          3        As_3    As     A       True   \n",
       "12914      2103602    21036          2        Es_2    Es     E       True   \n",
       "447222    66500500   665005          0          Ts    Ts     T       True   \n",
       "480370    71223700   712237          0         Xen   Xen     X       True   \n",
       "480396    71226400   712264          0          cs    cs     c       True   \n",
       "480408    71227700   712277          0          fs    fs     f       True   \n",
       "480427    71229600   712296          0          gs    gs     g       True   \n",
       "480428    71229700   712297          0          hs    hs     h       True   \n",
       "643845    90388000   903880          0          Bs    Bs     B       True   \n",
       "643852    90388700   903887          0          Gs    Gs     G       True   \n",
       "643853    90388800   903888          0          Is    Is     I       True   \n",
       "643854    90388900   903889          0          Js    Js     J       True   \n",
       "643855    90389000   903890          0          Ks    Ks     K       True   \n",
       "643856    90389100   903891          0          Ls    Ls     L       True   \n",
       "643857    90389200   903892          0          Ns    Ns     N       True   \n",
       "643858    90389300   903893          0          Qs    Qs     Q       True   \n",
       "643859    90389400   903894          0          Rs    Rs     R       True   \n",
       "643860    90389500   903895          0          ts    ts     t       True   \n",
       "643861    90389600   903896          0          Us    Us     U       True   \n",
       "643862    90389700   903897          0          Vs    Vs     V       True   \n",
       "643863    90389800   903898          0          Ws    Ws     W       True   \n",
       "643864    90389900   903899          0          Zs    Zs     Z       True   \n",
       "644439    90448200   904482          0          ls    ls     l       True   \n",
       "644491    90453500   904535          0          qs    qs     q       True   \n",
       "663902    92498400   924984          0          rs    rs     r       True   \n",
       "\n",
       "            rhymes                       pos  section_len flexion        ipa  \\\n",
       "10386        [aːs]  {'Deklinierte Form': []}          491     NaN      [aːs]   \n",
       "12905        [aːs]  {'Deklinierte Form': []}          534     NaN      [aːs]   \n",
       "12914        [eːs]  {'Deklinierte Form': []}          453     NaN      [eːs]   \n",
       "447222       [eːs]  {'Deklinierte Form': []}          454     NaN     [teːs]   \n",
       "480370     [ɪksn̩]  {'Deklinierte Form': []}          286     NaN   [ˈɪksn̩]   \n",
       "480396       [eːs]  {'Deklinierte Form': []}          456     NaN   [t͡seːs]   \n",
       "480408         NaN  {'Deklinierte Form': []}          429     NaN      [ɛfs]   \n",
       "480427       [eːs]  {'Deklinierte Form': []}          462     NaN     [ɡeːs]   \n",
       "480428       [aːs]  {'Deklinierte Form': []}          462     NaN     [haːs]   \n",
       "643845       [eːs]  {'Deklinierte Form': []}          484     NaN     [beːs]   \n",
       "643852       [eːs]  {'Deklinierte Form': []}          462     NaN     [ɡeːs]   \n",
       "643853       [iːs]  {'Deklinierte Form': []}          461     NaN      [iːs]   \n",
       "643854         NaN  {'Deklinierte Form': []}          431     NaN    [jɔt͡s]   \n",
       "643855       [aːs]  {'Deklinierte Form': []}          462     NaN     [kaːs]   \n",
       "643856       [ɛls]  {'Deklinierte Form': []}          483     NaN      [ɛls]   \n",
       "643857         NaN  {'Deklinierte Form': []}          429     NaN      [ɛns]   \n",
       "643858  [uːs, eːs]  {'Deklinierte Form': []}          519     NaN     [kuːs]   \n",
       "643859       [ɛʁs]  {'Deklinierte Form': []}          461     NaN      [ɛʁs]   \n",
       "643860       [eːs]  {'Deklinierte Form': []}          462     NaN     [teːs]   \n",
       "643861       [uːs]  {'Deklinierte Form': []}          461     NaN      [uːs]   \n",
       "643862         NaN  {'Deklinierte Form': []}          453     NaN    [faʊ̯s]   \n",
       "643863       [eːs]  {'Deklinierte Form': []}          462     NaN     [veːs]   \n",
       "643864         NaN  {'Deklinierte Form': []}          455     NaN  [t͡sɛt͡s]   \n",
       "644439         NaN  {'Deklinierte Form': []}          429     NaN      [ɛls]   \n",
       "644491  [uːs, eːs]  {'Deklinierte Form': []}          341     NaN     [kuːs]   \n",
       "663902       [ɛʁs]  {'Deklinierte Form': []}          461     NaN      [ɛʁs]   \n",
       "\n",
       "       syllables     lang lang_code  \\\n",
       "10386       [as]  Deutsch        de   \n",
       "12905       [As]  Deutsch        de   \n",
       "12914       [Es]  Deutsch        de   \n",
       "447222      [Ts]  Deutsch        de   \n",
       "480370     [Xen]  Deutsch        de   \n",
       "480396      [cs]  Deutsch        de   \n",
       "480408      [fs]  Deutsch        de   \n",
       "480427      [gs]  Deutsch        de   \n",
       "480428      [hs]  Deutsch        de   \n",
       "643845      [Bs]  Deutsch        de   \n",
       "643852      [Gs]  Deutsch        de   \n",
       "643853      [Is]  Deutsch        de   \n",
       "643854      [Js]  Deutsch        de   \n",
       "643855      [Ks]  Deutsch        de   \n",
       "643856      [Ls]  Deutsch        de   \n",
       "643857      [Ns]  Deutsch        de   \n",
       "643858      [Qs]  Deutsch        de   \n",
       "643859      [Rs]  Deutsch        de   \n",
       "643860      [ts]  Deutsch        de   \n",
       "643861      [Us]  Deutsch        de   \n",
       "643862      [Vs]  Deutsch        de   \n",
       "643863      [Ws]  Deutsch        de   \n",
       "643864      [Zs]  Deutsch        de   \n",
       "644439      [ls]  Deutsch        de   \n",
       "644491      [qs]  Deutsch        de   \n",
       "663902      [rs]  Deutsch        de   \n",
       "\n",
       "                                                 wikitext          error msg  \n",
       "10386   === {{Wortart|Deklinierte Form|Deutsch}} ===\\n...  lemma zu kurz   0  \n",
       "12905   === {{Wortart|Deklinierte Form|Deutsch}} ===\\n...  lemma zu kurz   0  \n",
       "12914   === {{Wortart|Deklinierte Form|Deutsch}} ===\\n...  lemma zu kurz   0  \n",
       "447222  === {{Wortart|Deklinierte Form|Deutsch}} ===\\n...  lemma zu kurz   0  \n",
       "480370  === {{Wortart|Deklinierte Form|Deutsch}} ===\\n...  lemma zu kurz   0  \n",
       "480396  === {{Wortart|Deklinierte Form|Deutsch}} ===\\n...  lemma zu kurz   0  \n",
       "480408  === {{Wortart|Deklinierte Form|Deutsch}} ===\\n...  lemma zu kurz   0  \n",
       "480427  === {{Wortart|Deklinierte Form|Deutsch}} ===\\n...  lemma zu kurz   0  \n",
       "480428  === {{Wortart|Deklinierte Form|Deutsch}} ===\\n...  lemma zu kurz   0  \n",
       "643845  === {{Wortart|Deklinierte Form|Deutsch}} ===\\n...  lemma zu kurz   0  \n",
       "643852  === {{Wortart|Deklinierte Form|Deutsch}} ===\\n...  lemma zu kurz   0  \n",
       "643853  === {{Wortart|Deklinierte Form|Deutsch}} ===\\n...  lemma zu kurz   0  \n",
       "643854  === {{Wortart|Deklinierte Form|Deutsch}} ===\\n...  lemma zu kurz   0  \n",
       "643855  === {{Wortart|Deklinierte Form|Deutsch}} ===\\n...  lemma zu kurz   0  \n",
       "643856  === {{Wortart|Deklinierte Form|Deutsch}} ===\\n...  lemma zu kurz   0  \n",
       "643857  === {{Wortart|Deklinierte Form|Deutsch}} ===\\n...  lemma zu kurz   0  \n",
       "643858  === {{Wortart|Deklinierte Form|Deutsch}} ===\\n...  lemma zu kurz   0  \n",
       "643859  === {{Wortart|Deklinierte Form|Deutsch}} ===\\n...  lemma zu kurz   0  \n",
       "643860  === {{Wortart|Deklinierte Form|Deutsch}} ===\\n...  lemma zu kurz   0  \n",
       "643861  === {{Wortart|Deklinierte Form|Deutsch}} ===\\n...  lemma zu kurz   0  \n",
       "643862  === {{Wortart|Deklinierte Form|Deutsch}} ===\\n...  lemma zu kurz   0  \n",
       "643863  === {{Wortart|Deklinierte Form|Deutsch}} ===\\n...  lemma zu kurz   0  \n",
       "643864  === {{Wortart|Deklinierte Form|Deutsch}} ===\\n...  lemma zu kurz   0  \n",
       "644439  === {{Wortart|Deklinierte Form|Deutsch}} ===\\n...  lemma zu kurz   0  \n",
       "644491  === {{Wortart|Deklinierte Form|Deutsch}} ===\\n...  lemma zu kurz   0  \n",
       "663902  === {{Wortart|Deklinierte Form|Deutsch}} ===\\n...  lemma zu kurz   0  "
      ]
     },
     "execution_count": 88,
     "metadata": {},
     "output_type": "execute_result"
    },
    {
     "name": "stdout",
     "output_type": "stream",
     "text": [
      "time: 97.4 ms (started: 2023-02-15 16:18:02 +00:00)\n"
     ]
    }
   ],
   "source": [
    "# Bestimmten Fehler anzeigen\n",
    "# mask = wiktionary_trash.error == 'lang_code ist nan'\n",
    "mask = wiktionary_trash.error == 'lemma zu kurz'\n",
    "grid(wiktionary_trash, mask)"
   ]
  },
  {
   "cell_type": "markdown",
   "metadata": {
    "id": "DsJy2_ZAn5PH"
   },
   "source": [
    "## nnan"
   ]
  },
  {
   "cell_type": "code",
   "execution_count": 89,
   "metadata": {
    "colab": {
     "base_uri": "https://localhost:8080/"
    },
    "executionInfo": {
     "elapsed": 273,
     "status": "ok",
     "timestamp": 1676477883788,
     "user": {
      "displayName": "Hups Hopsalla",
      "userId": "10020718461385065661"
     },
     "user_tz": -60
    },
    "id": "RQ3niGN0n5PH",
    "outputId": "2ef905b5-c616-462e-d39e-b2e73c8cdcf3"
   },
   "outputs": [
    {
     "data": {
      "text/plain": [
       "rhymes       527175\n",
       "flexion      713384\n",
       "ipa           14004\n",
       "syllables      4949\n",
       "dtype: int64"
      ]
     },
     "execution_count": 89,
     "metadata": {},
     "output_type": "execute_result"
    },
    {
     "name": "stdout",
     "output_type": "stream",
     "text": [
      "time: 951 ms (started: 2023-02-15 16:18:02 +00:00)\n"
     ]
    }
   ],
   "source": [
    "pak.nnan(wiktionary)"
   ]
  },
  {
   "cell_type": "markdown",
   "metadata": {
    "id": "jsHcLAbCn5PH"
   },
   "source": [
    "## Spalten löschen"
   ]
  },
  {
   "cell_type": "code",
   "execution_count": 90,
   "metadata": {
    "colab": {
     "base_uri": "https://localhost:8080/"
    },
    "executionInfo": {
     "elapsed": 483,
     "status": "ok",
     "timestamp": 1676477884268,
     "user": {
      "displayName": "Hups Hopsalla",
      "userId": "10020718461385065661"
     },
     "user_tz": -60
    },
    "id": "GGAX9gftn5PH",
    "outputId": "00ae9d20-a445-432a-cd7a-20fa3f968449"
   },
   "outputs": [
    {
     "name": "stdout",
     "output_type": "stream",
     "text": [
      "time: 309 ms (started: 2023-02-15 16:18:03 +00:00)\n"
     ]
    }
   ],
   "source": [
    "# lang, lang_code, ipa, syllables\n",
    "assert wiktionary.lang.nunique() == 1\n",
    "assert wiktionary.lang_code.nunique() == 1\n",
    "#wiktionary = pak.drop_cols(wiktionary,      ['lang','lang_code','inflected'])"
   ]
  },
  {
   "cell_type": "markdown",
   "metadata": {
    "id": "cKHkb-9jn5PI"
   },
   "source": [
    "## Speichern"
   ]
  },
  {
   "cell_type": "code",
   "execution_count": 91,
   "metadata": {
    "colab": {
     "base_uri": "https://localhost:8080/"
    },
    "executionInfo": {
     "elapsed": 246,
     "status": "ok",
     "timestamp": 1676477884509,
     "user": {
      "displayName": "Hups Hopsalla",
      "userId": "10020718461385065661"
     },
     "user_tz": -60
    },
    "id": "Cm6zVZbrn5PI",
    "outputId": "3613fb68-1e81-4978-cc95-3efb36d8de0a"
   },
   "outputs": [
    {
     "name": "stdout",
     "output_type": "stream",
     "text": [
      "check_mask:  0 rows\n",
      "time: 406 ms (started: 2023-02-15 16:18:03 +00:00)\n"
     ]
    }
   ],
   "source": [
    "# Keine Leerzeichen in der ID\n",
    "mask = wiktionary.section_id2.str.contains(' ')\n",
    "check_mask(wiktionary,mask,0)"
   ]
  },
  {
   "cell_type": "code",
   "execution_count": 92,
   "metadata": {
    "colab": {
     "base_uri": "https://localhost:8080/"
    },
    "executionInfo": {
     "elapsed": 32317,
     "status": "ok",
     "timestamp": 1676477917378,
     "user": {
      "displayName": "Hups Hopsalla",
      "userId": "10020718461385065661"
     },
     "user_tz": -60
    },
    "id": "3XT0tk-Kn5PI",
    "outputId": "e51ea8b0-4830-44b7-d4f0-085512e32211"
   },
   "outputs": [
    {
     "name": "stdout",
     "output_type": "stream",
     "text": [
      "time: 32.2 s (started: 2023-02-15 16:18:04 +00:00)\n"
     ]
    }
   ],
   "source": [
    "if wiktionary_filename:\n",
    "    pak.dump_pickle(wiktionary, wiktionary_filename) "
   ]
  },
  {
   "cell_type": "code",
   "execution_count": 93,
   "metadata": {
    "colab": {
     "base_uri": "https://localhost:8080/"
    },
    "executionInfo": {
     "elapsed": 79,
     "status": "ok",
     "timestamp": 1676477917382,
     "user": {
      "displayName": "Hups Hopsalla",
      "userId": "10020718461385065661"
     },
     "user_tz": -60
    },
    "id": "TBRgY3bZn5PJ",
    "outputId": "237a95ea-65d4-4dae-c2c7-2222de7b61af"
   },
   "outputs": [
    {
     "name": "stdout",
     "output_type": "stream",
     "text": [
      "time: 232 ms (started: 2023-02-15 16:18:36 +00:00)\n"
     ]
    }
   ],
   "source": [
    "if wiktionary_trash_filename   and   wiktionary_trash.shape[0] > 0:\n",
    "    pak.dump_pickle(wiktionary_trash, wiktionary_trash_filename)    "
   ]
  },
  {
   "cell_type": "code",
   "execution_count": 105,
   "metadata": {
    "colab": {
     "base_uri": "https://localhost:8080/"
    },
    "executionInfo": {
     "elapsed": 7425,
     "status": "ok",
     "timestamp": 1676479015113,
     "user": {
      "displayName": "Hups Hopsalla",
      "userId": "10020718461385065661"
     },
     "user_tz": -60
    },
    "id": "dbiDceKXyUx7",
    "outputId": "beb0cf2a-bc86-47c4-81e6-b11c7354957c"
   },
   "outputs": [
    {
     "name": "stdout",
     "output_type": "stream",
     "text": [
      "Drive already mounted at /content/drive; to attempt to forcibly remount, call drive.mount(\"/content/drive\", force_remount=True).\n",
      "'data_00' -> 'drive/MyDrive/data_00/data_00'\n",
      "'data_00/dewiktionary-latest-pages-articles-multistream.xml.bz2' -> 'drive/MyDrive/data_00/data_00/dewiktionary-latest-pages-articles-multistream.xml.bz2'\n",
      "'data_00/wiktionary_short.pickle' -> 'drive/MyDrive/data_00/data_00/wiktionary_short.pickle'\n",
      "'data_00/wiktionary_trash_short.pickle' -> 'drive/MyDrive/data_00/data_00/wiktionary_trash_short.pickle'\n",
      "'data_00/wiktionary_all.pickle' -> 'drive/MyDrive/data_00/data_00/wiktionary_all.pickle'\n",
      "'data_00/wiktionary_trash_all.pickle' -> 'drive/MyDrive/data_00/data_00/wiktionary_trash_all.pickle'\n",
      "time: 6.9 s (started: 2023-02-15 16:36:47 +00:00)\n"
     ]
    }
   ],
   "source": [
    "# Save in Google Drive\n",
    "if environment['in_colab']:\n",
    "    from google.colab import drive\n",
    "    drive.mount('/content/drive') \n",
    "    !cd /content\n",
    "    !cp -av data_00 drive/MyDrive/data_00  "
   ]
  },
  {
   "cell_type": "markdown",
   "metadata": {
    "id": "OVRbZPEJn5PJ"
   },
   "source": [
    "## Kontrolle"
   ]
  },
  {
   "cell_type": "code",
   "execution_count": 95,
   "metadata": {
    "colab": {
     "base_uri": "https://localhost:8080/",
     "height": 232
    },
    "executionInfo": {
     "elapsed": 72,
     "status": "ok",
     "timestamp": 1676477917384,
     "user": {
      "displayName": "Hups Hopsalla",
      "userId": "10020718461385065661"
     },
     "user_tz": -60
    },
    "id": "6DQQtamon5PJ",
    "outputId": "3ae1d1f9-bd0b-4bbc-8261-55992be9fcb4"
   },
   "outputs": [
    {
     "name": "stdout",
     "output_type": "stream",
     "text": [
      "1 rows out of 837593\n"
     ]
    },
    {
     "data": {
      "text/html": [
       "\n",
       "  <div id=\"df-31a91c86-4ec8-4cd1-bb07-96bc4a68e6eb\">\n",
       "    <div class=\"colab-df-container\">\n",
       "      <div>\n",
       "<style scoped>\n",
       "    .dataframe tbody tr th:only-of-type {\n",
       "        vertical-align: middle;\n",
       "    }\n",
       "\n",
       "    .dataframe tbody tr th {\n",
       "        vertical-align: top;\n",
       "    }\n",
       "\n",
       "    .dataframe thead th {\n",
       "        text-align: right;\n",
       "    }\n",
       "</style>\n",
       "<table border=\"1\" class=\"dataframe\">\n",
       "  <thead>\n",
       "    <tr style=\"text-align: right;\">\n",
       "      <th></th>\n",
       "      <th>section_id</th>\n",
       "      <th>page_id</th>\n",
       "      <th>page_part</th>\n",
       "      <th>section_id2</th>\n",
       "      <th>title</th>\n",
       "      <th>lemma</th>\n",
       "      <th>inflected</th>\n",
       "      <th>rhymes</th>\n",
       "      <th>pos</th>\n",
       "      <th>section_len</th>\n",
       "      <th>flexion</th>\n",
       "      <th>ipa</th>\n",
       "      <th>syllables</th>\n",
       "      <th>lang</th>\n",
       "      <th>lang_code</th>\n",
       "      <th>wikitext</th>\n",
       "      <th>error</th>\n",
       "    </tr>\n",
       "  </thead>\n",
       "  <tbody>\n",
       "    <tr>\n",
       "      <th>14147</th>\n",
       "      <td>2270300</td>\n",
       "      <td>22703</td>\n",
       "      <td>0</td>\n",
       "      <td>entlassen</td>\n",
       "      <td>entlassen</td>\n",
       "      <td>entlassen</td>\n",
       "      <td>False</td>\n",
       "      <td>[asn̩]</td>\n",
       "      <td>{'Verb': []}</td>\n",
       "      <td>4961</td>\n",
       "      <td>{'Präsens_ich': 'entlasse', 'Präsens_du': 'ent...</td>\n",
       "      <td>[ɛntˈlasn̩]</td>\n",
       "      <td>[ent, las, sen]</td>\n",
       "      <td>Deutsch</td>\n",
       "      <td>de</td>\n",
       "      <td>=== {{Wortart|Verb|Deutsch}} ===\\n\\n{{Deutsch ...</td>\n",
       "      <td></td>\n",
       "    </tr>\n",
       "  </tbody>\n",
       "</table>\n",
       "</div>\n",
       "      <button class=\"colab-df-convert\" onclick=\"convertToInteractive('df-31a91c86-4ec8-4cd1-bb07-96bc4a68e6eb')\"\n",
       "              title=\"Convert this dataframe to an interactive table.\"\n",
       "              style=\"display:none;\">\n",
       "        \n",
       "  <svg xmlns=\"http://www.w3.org/2000/svg\" height=\"24px\"viewBox=\"0 0 24 24\"\n",
       "       width=\"24px\">\n",
       "    <path d=\"M0 0h24v24H0V0z\" fill=\"none\"/>\n",
       "    <path d=\"M18.56 5.44l.94 2.06.94-2.06 2.06-.94-2.06-.94-.94-2.06-.94 2.06-2.06.94zm-11 1L8.5 8.5l.94-2.06 2.06-.94-2.06-.94L8.5 2.5l-.94 2.06-2.06.94zm10 10l.94 2.06.94-2.06 2.06-.94-2.06-.94-.94-2.06-.94 2.06-2.06.94z\"/><path d=\"M17.41 7.96l-1.37-1.37c-.4-.4-.92-.59-1.43-.59-.52 0-1.04.2-1.43.59L10.3 9.45l-7.72 7.72c-.78.78-.78 2.05 0 2.83L4 21.41c.39.39.9.59 1.41.59.51 0 1.02-.2 1.41-.59l7.78-7.78 2.81-2.81c.8-.78.8-2.07 0-2.86zM5.41 20L4 18.59l7.72-7.72 1.47 1.35L5.41 20z\"/>\n",
       "  </svg>\n",
       "      </button>\n",
       "      \n",
       "  <style>\n",
       "    .colab-df-container {\n",
       "      display:flex;\n",
       "      flex-wrap:wrap;\n",
       "      gap: 12px;\n",
       "    }\n",
       "\n",
       "    .colab-df-convert {\n",
       "      background-color: #E8F0FE;\n",
       "      border: none;\n",
       "      border-radius: 50%;\n",
       "      cursor: pointer;\n",
       "      display: none;\n",
       "      fill: #1967D2;\n",
       "      height: 32px;\n",
       "      padding: 0 0 0 0;\n",
       "      width: 32px;\n",
       "    }\n",
       "\n",
       "    .colab-df-convert:hover {\n",
       "      background-color: #E2EBFA;\n",
       "      box-shadow: 0px 1px 2px rgba(60, 64, 67, 0.3), 0px 1px 3px 1px rgba(60, 64, 67, 0.15);\n",
       "      fill: #174EA6;\n",
       "    }\n",
       "\n",
       "    [theme=dark] .colab-df-convert {\n",
       "      background-color: #3B4455;\n",
       "      fill: #D2E3FC;\n",
       "    }\n",
       "\n",
       "    [theme=dark] .colab-df-convert:hover {\n",
       "      background-color: #434B5C;\n",
       "      box-shadow: 0px 1px 3px 1px rgba(0, 0, 0, 0.15);\n",
       "      filter: drop-shadow(0px 1px 2px rgba(0, 0, 0, 0.3));\n",
       "      fill: #FFFFFF;\n",
       "    }\n",
       "  </style>\n",
       "\n",
       "      <script>\n",
       "        const buttonEl =\n",
       "          document.querySelector('#df-31a91c86-4ec8-4cd1-bb07-96bc4a68e6eb button.colab-df-convert');\n",
       "        buttonEl.style.display =\n",
       "          google.colab.kernel.accessAllowed ? 'block' : 'none';\n",
       "\n",
       "        async function convertToInteractive(key) {\n",
       "          const element = document.querySelector('#df-31a91c86-4ec8-4cd1-bb07-96bc4a68e6eb');\n",
       "          const dataTable =\n",
       "            await google.colab.kernel.invokeFunction('convertToInteractive',\n",
       "                                                     [key], {});\n",
       "          if (!dataTable) return;\n",
       "\n",
       "          const docLinkHtml = 'Like what you see? Visit the ' +\n",
       "            '<a target=\"_blank\" href=https://colab.research.google.com/notebooks/data_table.ipynb>data table notebook</a>'\n",
       "            + ' to learn more about interactive tables.';\n",
       "          element.innerHTML = '';\n",
       "          dataTable['output_type'] = 'display_data';\n",
       "          await google.colab.output.renderOutput(dataTable, element);\n",
       "          const docLink = document.createElement('div');\n",
       "          docLink.innerHTML = docLinkHtml;\n",
       "          element.appendChild(docLink);\n",
       "        }\n",
       "      </script>\n",
       "    </div>\n",
       "  </div>\n",
       "  "
      ],
      "text/plain": [
       "       section_id  page_id  page_part section_id2      title      lemma  \\\n",
       "14147     2270300    22703          0   entlassen  entlassen  entlassen   \n",
       "\n",
       "       inflected  rhymes           pos  section_len  \\\n",
       "14147      False  [asn̩]  {'Verb': []}         4961   \n",
       "\n",
       "                                                 flexion          ipa  \\\n",
       "14147  {'Präsens_ich': 'entlasse', 'Präsens_du': 'ent...  [ɛntˈlasn̩]   \n",
       "\n",
       "             syllables     lang lang_code  \\\n",
       "14147  [ent, las, sen]  Deutsch        de   \n",
       "\n",
       "                                                wikitext error  \n",
       "14147  === {{Wortart|Verb|Deutsch}} ===\\n\\n{{Deutsch ...        "
      ]
     },
     "execution_count": 95,
     "metadata": {},
     "output_type": "execute_result"
    },
    {
     "name": "stdout",
     "output_type": "stream",
     "text": [
      "time: 119 ms (started: 2023-02-15 16:18:36 +00:00)\n"
     ]
    }
   ],
   "source": [
    "# suche_debug\n",
    "mask = wiktionary.title.isin(suche_debug)\n",
    "grid(wiktionary, mask)"
   ]
  },
  {
   "cell_type": "code",
   "execution_count": 96,
   "metadata": {
    "colab": {
     "base_uri": "https://localhost:8080/",
     "height": 380
    },
    "executionInfo": {
     "elapsed": 62,
     "status": "ok",
     "timestamp": 1676477917385,
     "user": {
      "displayName": "Hups Hopsalla",
      "userId": "10020718461385065661"
     },
     "user_tz": -60
    },
    "id": "sOMGzdTXn5PJ",
    "outputId": "1c8c3632-ae43-4bf4-d150-0557fc40546e"
   },
   "outputs": [
    {
     "data": {
      "text/html": [
       "\n",
       "  <div id=\"df-36e4488d-2c05-4f57-9b97-014501afb118\">\n",
       "    <div class=\"colab-df-container\">\n",
       "      <div>\n",
       "<style scoped>\n",
       "    .dataframe tbody tr th:only-of-type {\n",
       "        vertical-align: middle;\n",
       "    }\n",
       "\n",
       "    .dataframe tbody tr th {\n",
       "        vertical-align: top;\n",
       "    }\n",
       "\n",
       "    .dataframe thead th {\n",
       "        text-align: right;\n",
       "    }\n",
       "</style>\n",
       "<table border=\"1\" class=\"dataframe\">\n",
       "  <thead>\n",
       "    <tr style=\"text-align: right;\">\n",
       "      <th></th>\n",
       "      <th>item</th>\n",
       "      <th>item_count</th>\n",
       "      <th>item_percent</th>\n",
       "      <th>graph</th>\n",
       "    </tr>\n",
       "  </thead>\n",
       "  <tbody>\n",
       "    <tr>\n",
       "      <th>0</th>\n",
       "      <td>0</td>\n",
       "      <td>830604</td>\n",
       "      <td>99.2</td>\n",
       "      <td>#################################################</td>\n",
       "    </tr>\n",
       "    <tr>\n",
       "      <th>1</th>\n",
       "      <td>1000</td>\n",
       "      <td>6701</td>\n",
       "      <td>0.8</td>\n",
       "      <td></td>\n",
       "    </tr>\n",
       "    <tr>\n",
       "      <th>2</th>\n",
       "      <td>2000</td>\n",
       "      <td>223</td>\n",
       "      <td>0.0</td>\n",
       "      <td></td>\n",
       "    </tr>\n",
       "    <tr>\n",
       "      <th>3</th>\n",
       "      <td>3000</td>\n",
       "      <td>37</td>\n",
       "      <td>0.0</td>\n",
       "      <td></td>\n",
       "    </tr>\n",
       "    <tr>\n",
       "      <th>4</th>\n",
       "      <td>4000</td>\n",
       "      <td>12</td>\n",
       "      <td>0.0</td>\n",
       "      <td></td>\n",
       "    </tr>\n",
       "    <tr>\n",
       "      <th>5</th>\n",
       "      <td>5000</td>\n",
       "      <td>7</td>\n",
       "      <td>0.0</td>\n",
       "      <td></td>\n",
       "    </tr>\n",
       "    <tr>\n",
       "      <th>6</th>\n",
       "      <td>6000</td>\n",
       "      <td>3</td>\n",
       "      <td>0.0</td>\n",
       "      <td></td>\n",
       "    </tr>\n",
       "    <tr>\n",
       "      <th>7</th>\n",
       "      <td>7000</td>\n",
       "      <td>3</td>\n",
       "      <td>0.0</td>\n",
       "      <td></td>\n",
       "    </tr>\n",
       "    <tr>\n",
       "      <th>8</th>\n",
       "      <td>8000</td>\n",
       "      <td>2</td>\n",
       "      <td>0.0</td>\n",
       "      <td></td>\n",
       "    </tr>\n",
       "    <tr>\n",
       "      <th>9</th>\n",
       "      <td>9000</td>\n",
       "      <td>1</td>\n",
       "      <td>0.0</td>\n",
       "      <td></td>\n",
       "    </tr>\n",
       "  </tbody>\n",
       "</table>\n",
       "</div>\n",
       "      <button class=\"colab-df-convert\" onclick=\"convertToInteractive('df-36e4488d-2c05-4f57-9b97-014501afb118')\"\n",
       "              title=\"Convert this dataframe to an interactive table.\"\n",
       "              style=\"display:none;\">\n",
       "        \n",
       "  <svg xmlns=\"http://www.w3.org/2000/svg\" height=\"24px\"viewBox=\"0 0 24 24\"\n",
       "       width=\"24px\">\n",
       "    <path d=\"M0 0h24v24H0V0z\" fill=\"none\"/>\n",
       "    <path d=\"M18.56 5.44l.94 2.06.94-2.06 2.06-.94-2.06-.94-.94-2.06-.94 2.06-2.06.94zm-11 1L8.5 8.5l.94-2.06 2.06-.94-2.06-.94L8.5 2.5l-.94 2.06-2.06.94zm10 10l.94 2.06.94-2.06 2.06-.94-2.06-.94-.94-2.06-.94 2.06-2.06.94z\"/><path d=\"M17.41 7.96l-1.37-1.37c-.4-.4-.92-.59-1.43-.59-.52 0-1.04.2-1.43.59L10.3 9.45l-7.72 7.72c-.78.78-.78 2.05 0 2.83L4 21.41c.39.39.9.59 1.41.59.51 0 1.02-.2 1.41-.59l7.78-7.78 2.81-2.81c.8-.78.8-2.07 0-2.86zM5.41 20L4 18.59l7.72-7.72 1.47 1.35L5.41 20z\"/>\n",
       "  </svg>\n",
       "      </button>\n",
       "      \n",
       "  <style>\n",
       "    .colab-df-container {\n",
       "      display:flex;\n",
       "      flex-wrap:wrap;\n",
       "      gap: 12px;\n",
       "    }\n",
       "\n",
       "    .colab-df-convert {\n",
       "      background-color: #E8F0FE;\n",
       "      border: none;\n",
       "      border-radius: 50%;\n",
       "      cursor: pointer;\n",
       "      display: none;\n",
       "      fill: #1967D2;\n",
       "      height: 32px;\n",
       "      padding: 0 0 0 0;\n",
       "      width: 32px;\n",
       "    }\n",
       "\n",
       "    .colab-df-convert:hover {\n",
       "      background-color: #E2EBFA;\n",
       "      box-shadow: 0px 1px 2px rgba(60, 64, 67, 0.3), 0px 1px 3px 1px rgba(60, 64, 67, 0.15);\n",
       "      fill: #174EA6;\n",
       "    }\n",
       "\n",
       "    [theme=dark] .colab-df-convert {\n",
       "      background-color: #3B4455;\n",
       "      fill: #D2E3FC;\n",
       "    }\n",
       "\n",
       "    [theme=dark] .colab-df-convert:hover {\n",
       "      background-color: #434B5C;\n",
       "      box-shadow: 0px 1px 3px 1px rgba(0, 0, 0, 0.15);\n",
       "      filter: drop-shadow(0px 1px 2px rgba(0, 0, 0, 0.3));\n",
       "      fill: #FFFFFF;\n",
       "    }\n",
       "  </style>\n",
       "\n",
       "      <script>\n",
       "        const buttonEl =\n",
       "          document.querySelector('#df-36e4488d-2c05-4f57-9b97-014501afb118 button.colab-df-convert');\n",
       "        buttonEl.style.display =\n",
       "          google.colab.kernel.accessAllowed ? 'block' : 'none';\n",
       "\n",
       "        async function convertToInteractive(key) {\n",
       "          const element = document.querySelector('#df-36e4488d-2c05-4f57-9b97-014501afb118');\n",
       "          const dataTable =\n",
       "            await google.colab.kernel.invokeFunction('convertToInteractive',\n",
       "                                                     [key], {});\n",
       "          if (!dataTable) return;\n",
       "\n",
       "          const docLinkHtml = 'Like what you see? Visit the ' +\n",
       "            '<a target=\"_blank\" href=https://colab.research.google.com/notebooks/data_table.ipynb>data table notebook</a>'\n",
       "            + ' to learn more about interactive tables.';\n",
       "          element.innerHTML = '';\n",
       "          dataTable['output_type'] = 'display_data';\n",
       "          await google.colab.output.renderOutput(dataTable, element);\n",
       "          const docLink = document.createElement('div');\n",
       "          docLink.innerHTML = docLinkHtml;\n",
       "          element.appendChild(docLink);\n",
       "        }\n",
       "      </script>\n",
       "    </div>\n",
       "  </div>\n",
       "  "
      ],
      "text/plain": [
       "   item  item_count  item_percent  \\\n",
       "0     0      830604          99.2   \n",
       "1  1000        6701           0.8   \n",
       "2  2000         223           0.0   \n",
       "3  3000          37           0.0   \n",
       "4  4000          12           0.0   \n",
       "5  5000           7           0.0   \n",
       "6  6000           3           0.0   \n",
       "7  7000           3           0.0   \n",
       "8  8000           2           0.0   \n",
       "9  9000           1           0.0   \n",
       "\n",
       "                                               graph  \n",
       "0  #################################################  \n",
       "1                                                     \n",
       "2                                                     \n",
       "3                                                     \n",
       "4                                                     \n",
       "5                                                     \n",
       "6                                                     \n",
       "7                                                     \n",
       "8                                                     \n",
       "9                                                     "
      ]
     },
     "execution_count": 96,
     "metadata": {},
     "output_type": "execute_result"
    },
    {
     "name": "stdout",
     "output_type": "stream",
     "text": [
      "time: 73.6 ms (started: 2023-02-15 16:18:37 +00:00)\n"
     ]
    }
   ],
   "source": [
    "# histo section_len\n",
    "a = (wiktionary.section_len / 10000).round().astype('int') * 1000\n",
    "pak.analyse_freqs(a, sort_count=False)"
   ]
  },
  {
   "cell_type": "code",
   "execution_count": 97,
   "metadata": {
    "colab": {
     "base_uri": "https://localhost:8080/",
     "height": 286
    },
    "executionInfo": {
     "elapsed": 499,
     "status": "ok",
     "timestamp": 1676477917825,
     "user": {
      "displayName": "Hups Hopsalla",
      "userId": "10020718461385065661"
     },
     "user_tz": -60
    },
    "id": "4j4VncQXn5PK",
    "outputId": "b572817a-e2dc-4b38-826a-fb63870c314c"
   },
   "outputs": [
    {
     "data": {
      "text/html": [
       "\n",
       "  <div id=\"df-a54060a0-d930-4297-9cf7-196624ef4487\">\n",
       "    <div class=\"colab-df-container\">\n",
       "      <div>\n",
       "<style scoped>\n",
       "    .dataframe tbody tr th:only-of-type {\n",
       "        vertical-align: middle;\n",
       "    }\n",
       "\n",
       "    .dataframe tbody tr th {\n",
       "        vertical-align: top;\n",
       "    }\n",
       "\n",
       "    .dataframe thead th {\n",
       "        text-align: right;\n",
       "    }\n",
       "</style>\n",
       "<table border=\"1\" class=\"dataframe\">\n",
       "  <thead>\n",
       "    <tr style=\"text-align: right;\">\n",
       "      <th></th>\n",
       "      <th>item</th>\n",
       "      <th>item_count</th>\n",
       "      <th>item_percent</th>\n",
       "      <th>graph</th>\n",
       "    </tr>\n",
       "  </thead>\n",
       "  <tbody>\n",
       "    <tr>\n",
       "      <th>0</th>\n",
       "      <td>0</td>\n",
       "      <td>802084</td>\n",
       "      <td>95.8</td>\n",
       "      <td>###############################################</td>\n",
       "    </tr>\n",
       "    <tr>\n",
       "      <th>1</th>\n",
       "      <td>1</td>\n",
       "      <td>33817</td>\n",
       "      <td>4.0</td>\n",
       "      <td>##</td>\n",
       "    </tr>\n",
       "    <tr>\n",
       "      <th>2</th>\n",
       "      <td>2</td>\n",
       "      <td>1452</td>\n",
       "      <td>0.2</td>\n",
       "      <td></td>\n",
       "    </tr>\n",
       "    <tr>\n",
       "      <th>3</th>\n",
       "      <td>3</td>\n",
       "      <td>205</td>\n",
       "      <td>0.0</td>\n",
       "      <td></td>\n",
       "    </tr>\n",
       "    <tr>\n",
       "      <th>4</th>\n",
       "      <td>4</td>\n",
       "      <td>29</td>\n",
       "      <td>0.0</td>\n",
       "      <td></td>\n",
       "    </tr>\n",
       "    <tr>\n",
       "      <th>5</th>\n",
       "      <td>5</td>\n",
       "      <td>5</td>\n",
       "      <td>0.0</td>\n",
       "      <td></td>\n",
       "    </tr>\n",
       "    <tr>\n",
       "      <th>6</th>\n",
       "      <td>6</td>\n",
       "      <td>1</td>\n",
       "      <td>0.0</td>\n",
       "      <td></td>\n",
       "    </tr>\n",
       "  </tbody>\n",
       "</table>\n",
       "</div>\n",
       "      <button class=\"colab-df-convert\" onclick=\"convertToInteractive('df-a54060a0-d930-4297-9cf7-196624ef4487')\"\n",
       "              title=\"Convert this dataframe to an interactive table.\"\n",
       "              style=\"display:none;\">\n",
       "        \n",
       "  <svg xmlns=\"http://www.w3.org/2000/svg\" height=\"24px\"viewBox=\"0 0 24 24\"\n",
       "       width=\"24px\">\n",
       "    <path d=\"M0 0h24v24H0V0z\" fill=\"none\"/>\n",
       "    <path d=\"M18.56 5.44l.94 2.06.94-2.06 2.06-.94-2.06-.94-.94-2.06-.94 2.06-2.06.94zm-11 1L8.5 8.5l.94-2.06 2.06-.94-2.06-.94L8.5 2.5l-.94 2.06-2.06.94zm10 10l.94 2.06.94-2.06 2.06-.94-2.06-.94-.94-2.06-.94 2.06-2.06.94z\"/><path d=\"M17.41 7.96l-1.37-1.37c-.4-.4-.92-.59-1.43-.59-.52 0-1.04.2-1.43.59L10.3 9.45l-7.72 7.72c-.78.78-.78 2.05 0 2.83L4 21.41c.39.39.9.59 1.41.59.51 0 1.02-.2 1.41-.59l7.78-7.78 2.81-2.81c.8-.78.8-2.07 0-2.86zM5.41 20L4 18.59l7.72-7.72 1.47 1.35L5.41 20z\"/>\n",
       "  </svg>\n",
       "      </button>\n",
       "      \n",
       "  <style>\n",
       "    .colab-df-container {\n",
       "      display:flex;\n",
       "      flex-wrap:wrap;\n",
       "      gap: 12px;\n",
       "    }\n",
       "\n",
       "    .colab-df-convert {\n",
       "      background-color: #E8F0FE;\n",
       "      border: none;\n",
       "      border-radius: 50%;\n",
       "      cursor: pointer;\n",
       "      display: none;\n",
       "      fill: #1967D2;\n",
       "      height: 32px;\n",
       "      padding: 0 0 0 0;\n",
       "      width: 32px;\n",
       "    }\n",
       "\n",
       "    .colab-df-convert:hover {\n",
       "      background-color: #E2EBFA;\n",
       "      box-shadow: 0px 1px 2px rgba(60, 64, 67, 0.3), 0px 1px 3px 1px rgba(60, 64, 67, 0.15);\n",
       "      fill: #174EA6;\n",
       "    }\n",
       "\n",
       "    [theme=dark] .colab-df-convert {\n",
       "      background-color: #3B4455;\n",
       "      fill: #D2E3FC;\n",
       "    }\n",
       "\n",
       "    [theme=dark] .colab-df-convert:hover {\n",
       "      background-color: #434B5C;\n",
       "      box-shadow: 0px 1px 3px 1px rgba(0, 0, 0, 0.15);\n",
       "      filter: drop-shadow(0px 1px 2px rgba(0, 0, 0, 0.3));\n",
       "      fill: #FFFFFF;\n",
       "    }\n",
       "  </style>\n",
       "\n",
       "      <script>\n",
       "        const buttonEl =\n",
       "          document.querySelector('#df-a54060a0-d930-4297-9cf7-196624ef4487 button.colab-df-convert');\n",
       "        buttonEl.style.display =\n",
       "          google.colab.kernel.accessAllowed ? 'block' : 'none';\n",
       "\n",
       "        async function convertToInteractive(key) {\n",
       "          const element = document.querySelector('#df-a54060a0-d930-4297-9cf7-196624ef4487');\n",
       "          const dataTable =\n",
       "            await google.colab.kernel.invokeFunction('convertToInteractive',\n",
       "                                                     [key], {});\n",
       "          if (!dataTable) return;\n",
       "\n",
       "          const docLinkHtml = 'Like what you see? Visit the ' +\n",
       "            '<a target=\"_blank\" href=https://colab.research.google.com/notebooks/data_table.ipynb>data table notebook</a>'\n",
       "            + ' to learn more about interactive tables.';\n",
       "          element.innerHTML = '';\n",
       "          dataTable['output_type'] = 'display_data';\n",
       "          await google.colab.output.renderOutput(dataTable, element);\n",
       "          const docLink = document.createElement('div');\n",
       "          docLink.innerHTML = docLinkHtml;\n",
       "          element.appendChild(docLink);\n",
       "        }\n",
       "      </script>\n",
       "    </div>\n",
       "  </div>\n",
       "  "
      ],
      "text/plain": [
       "   item  item_count  item_percent  \\\n",
       "0     0      802084          95.8   \n",
       "1     1       33817           4.0   \n",
       "2     2        1452           0.2   \n",
       "3     3         205           0.0   \n",
       "4     4          29           0.0   \n",
       "5     5           5           0.0   \n",
       "6     6           1           0.0   \n",
       "\n",
       "                                             graph  \n",
       "0  ###############################################  \n",
       "1                                               ##  \n",
       "2                                                   \n",
       "3                                                   \n",
       "4                                                   \n",
       "5                                                   \n",
       "6                                                   "
      ]
     },
     "execution_count": 97,
     "metadata": {},
     "output_type": "execute_result"
    },
    {
     "name": "stdout",
     "output_type": "stream",
     "text": [
      "time: 72.8 ms (started: 2023-02-15 16:18:37 +00:00)\n"
     ]
    }
   ],
   "source": [
    "# page_part\n",
    "pak.analyse_freqs(wiktionary.page_part, sort_count=False)"
   ]
  },
  {
   "cell_type": "code",
   "execution_count": 98,
   "metadata": {
    "colab": {
     "base_uri": "https://localhost:8080/",
     "height": 130
    },
    "executionInfo": {
     "elapsed": 51,
     "status": "error",
     "timestamp": 1676477917829,
     "user": {
      "displayName": "Hups Hopsalla",
      "userId": "10020718461385065661"
     },
     "user_tz": -60
    },
    "id": "WXlMuZ4Vn5PK",
    "outputId": "f1ef67ee-c9f5-4aa0-eb11-13c8dd9d8b74"
   },
   "outputs": [
    {
     "name": "stdout",
     "output_type": "stream",
     "text": [
      "Stop Time:  16:18:37\n",
      "Elapsed:    18 mins, 9 secs\n"
     ]
    },
    {
     "data": {
      "text/html": [
       "<img src onerror=\"var cell = this.closest('.jp-CodeCell');var editor = cell.querySelector('.jp-Editor');editor.style.background='DarkGray';this.parentNode.removeChild(this)\">"
      ],
      "text/plain": [
       "<IPython.core.display.HTML object>"
      ]
     },
     "metadata": {},
     "output_type": "display_data"
    },
    {
     "ename": "Stop",
     "evalue": "ignored",
     "output_type": "error",
     "traceback": []
    },
    {
     "name": "stdout",
     "output_type": "stream",
     "text": [
      "time: 59.7 ms (started: 2023-02-15 16:18:37 +00:00)\n"
     ]
    }
   ],
   "source": [
    "raise Stop"
   ]
  }
 ],
 "metadata": {
  "colab": {
   "provenance": []
  },
  "kernelspec": {
   "display_name": "Python 3 (ipykernel)",
   "language": "python",
   "name": "python3"
  },
  "language_info": {
   "codemirror_mode": {
    "name": "ipython",
    "version": 3
   },
   "file_extension": ".py",
   "mimetype": "text/x-python",
   "name": "python",
   "nbconvert_exporter": "python",
   "pygments_lexer": "ipython3",
   "version": "3.9.13"
  }
 },
 "nbformat": 4,
 "nbformat_minor": 4
}
