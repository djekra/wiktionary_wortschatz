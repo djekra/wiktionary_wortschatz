{
 "cells": [
  {
   "cell_type": "markdown",
   "id": "6faa8106-7480-4a27-9490-ea2a0935fa1c",
   "metadata": {
    "id": "lSehjmZun5OP"
   },
   "source": [
    "__[Open and try this file online (Colab)](https://colab.research.google.com/github/djekra/wiktionary_wortschatz/blob/master/1_wiktionary_parsen/x38_d03_reorganisieren.ipynb)__"
   ]
  },
  {
   "cell_type": "markdown",
   "id": "58fc9afb",
   "metadata": {},
   "source": [
    "# Reorganisieren und Reinigen\n",
    "* speichert in data_03\n",
    "* lex_test level 3\n",
    "* 41 min\n",
    "\n",
    "## ToDo\n",
    "* TODO_verwaiste_lemmas\n",
    "* TODO_TAGS_IN_MERKMALE\n",
    "\n",
    "\n",
    "* löschliste am Ende nochmal anwenden\n",
    "* Prüfen: ändert sich am score in translate_lex_full noch was, wenn echte Statistikzahlen da mit einfließen? Es geht um die Zuordnung lex --> lemma bei gegebenem tagZZ, also z.B. bei 'Alben' (--> Alb, Album, etc.).\n",
    "* Symmetrie: Es gibt Lexeme für das Lemma \"Ackermann/NN\". Die gleichen Lexeme sollte es auch für das Lemma \"Ackermann/NE\" geben.\n",
    "* Der gleiche Fall triff auch beim Lexem \"ertragene\" auf. Das sollte nicht nur ein Lexem des Verbs sein, sondern auch ein Lexem des Adjektivs.\n",
    "* Noch besser: Lemmas zusammenfassen und beide Tag-Felder nutzen"
   ]
  },
  {
   "cell_type": "raw",
   "id": "4c4494b9-7833-4292-babb-b1c15ade4269",
   "metadata": {},
   "source": [
    "data=Citrone:\n",
    "data_id == Zitrone\n",
    "data_check == Zitrone (Wert in translate_lex)\n",
    ">> data_id in wiktionary_merkmal ist falsch"
   ]
  },
  {
   "cell_type": "markdown",
   "id": "e68a18ef-5912-4b56-a630-d0c7f4db332d",
   "metadata": {},
   "source": [
    "## Spacy Nachschlagen \n",
    "* Kann das Lemma stimmen? >> Nachschlagen in wiktionary_merkmal (hier gibt es alle lex-lemma-Kombinationen, z.B. bei \"Alben\")\n",
    "* Wenn nicht fündig geworden: Nachschlagen in translate_lex (hier gibt es nur 1 Lemma pro tagZZ)\n",
    "* Resultat: Lemma"
   ]
  },
  {
   "cell_type": "markdown",
   "id": "89e90f90-674a-44d9-969c-767f0c2e1cf0",
   "metadata": {},
   "source": [
    "## Import"
   ]
  },
  {
   "cell_type": "code",
   "execution_count": 1,
   "id": "cffad38c-b986-44c8-8cf8-1f7db6a93f6f",
   "metadata": {
    "execution": {
     "iopub.execute_input": "2023-02-25T11:39:31.268954Z",
     "iopub.status.busy": "2023-02-25T11:39:31.268628Z",
     "iopub.status.idle": "2023-02-25T11:39:32.002423Z",
     "shell.execute_reply": "2023-02-25T11:39:32.001673Z",
     "shell.execute_reply.started": "2023-02-25T11:39:31.268879Z"
    },
    "tags": []
   },
   "outputs": [
    {
     "name": "stdout",
     "output_type": "stream",
     "text": [
      "blab init\n",
      "environment['in_colab']     = False\n",
      "environment['dropbox_path'] = /home/me/Data_Linux/Dropbox\n",
      "environment['lib_path']     = /home/me/Data_Linux/Dropbox/31_Projekte/01_Python/libs\n",
      "Start Time: 12:39:31\n"
     ]
    },
    {
     "data": {
      "text/html": [
       "<img src onerror=\"var cell = this.closest('.jp-CodeCell');var editor = cell.querySelector('.jp-Editor');editor.style.background='Beige';this.parentNode.removeChild(this)\">"
      ],
      "text/plain": [
       "<IPython.core.display.HTML object>"
      ]
     },
     "metadata": {},
     "output_type": "display_data"
    }
   ],
   "source": [
    "# blab init\n",
    "try:\n",
    "    import blab\n",
    "except ImportError as e:\n",
    "    !pip install blab\n",
    "    import blab    \n",
    "startup_notebook = blab.blab_startup()\n",
    "%run $startup_notebook "
   ]
  },
  {
   "cell_type": "code",
   "execution_count": 2,
   "id": "6af9ea2d-838a-4931-beb2-a64a1d36c6b2",
   "metadata": {
    "execution": {
     "iopub.execute_input": "2023-02-25T11:39:32.004304Z",
     "iopub.status.busy": "2023-02-25T11:39:32.003844Z",
     "iopub.status.idle": "2023-02-25T11:39:32.210055Z",
     "shell.execute_reply": "2023-02-25T11:39:32.209469Z",
     "shell.execute_reply.started": "2023-02-25T11:39:32.004149Z"
    }
   },
   "outputs": [],
   "source": [
    "# pandas\n",
    "if environment['in_colab']:\n",
    "    !pip install --upgrade pandas\n",
    "import pandas as pd"
   ]
  },
  {
   "cell_type": "code",
   "execution_count": 3,
   "id": "f2ff342d-40c6-4567-95e2-edcb483c8d02",
   "metadata": {
    "execution": {
     "iopub.execute_input": "2023-02-25T11:39:32.216145Z",
     "iopub.status.busy": "2023-02-25T11:39:32.213665Z",
     "iopub.status.idle": "2023-02-25T11:39:33.894446Z",
     "shell.execute_reply": "2023-02-25T11:39:33.893620Z",
     "shell.execute_reply.started": "2023-02-25T11:39:32.216096Z"
    },
    "tags": []
   },
   "outputs": [],
   "source": [
    "# alle anderen\n",
    "try:\n",
    "    import pandasklar as pak, bpyth as bpy, swifter\n",
    "\n",
    "except ImportError as e:\n",
    "    !pip install pandasklar swifter\n",
    "    import pandasklar as pak, bpyth as bpy, swifter\n",
    "    \n",
    "grid       = pak.grid\n",
    "from functools import partial\n",
    "gridt = partial(grid, backend='dtale')    # dTale-Nutzung erzwungen\n",
    "check_mask = pak.check_mask     \n"
   ]
  },
  {
   "cell_type": "markdown",
   "id": "a4ba3194-9c1b-4c9e-ad1c-a5c7ff56a26f",
   "metadata": {},
   "source": [
    "## Einstellungen"
   ]
  },
  {
   "cell_type": "code",
   "execution_count": 4,
   "id": "4382d29c",
   "metadata": {
    "execution": {
     "iopub.execute_input": "2023-02-25T11:39:33.896903Z",
     "iopub.status.busy": "2023-02-25T11:39:33.896174Z",
     "iopub.status.idle": "2023-02-25T11:39:33.937711Z",
     "shell.execute_reply": "2023-02-25T11:39:33.936956Z",
     "shell.execute_reply.started": "2023-02-25T11:39:33.896874Z"
    },
    "tags": []
   },
   "outputs": [
    {
     "name": "stdout",
     "output_type": "stream",
     "text": [
      "VERBOSE = True\n",
      "--> setting verbose=True as default for all pandasklar functions\n",
      "\n",
      "GRID_BACKEND = \n",
      "--> setting backend= as default for all pandasklar functions\n",
      "\n"
     ]
    }
   ],
   "source": [
    "# Einstellungen\n",
    "\n",
    "# Was debuggen?\n",
    "suche_debug = ['besonnte','überlegte',]   \n",
    "suche_debug = ['besonne',]  # auch gut: besinnen\n",
    "suche_debug = ['inner-','innere','inner']  \n",
    "suche_debug = ['Citrone',]  \n",
    "suche_debug = ['Dezember','December','Citrone',]  \n",
    "suche_debug = ['Anna',]  \n",
    "# 'einen','beigen','Montage',\n",
    "# '24/7','Schriftwerk'\n",
    "suche_debug = ['gefriergetrocknet','gefriertrocknen','missraten']  \n",
    "suche_debug = ['calvinistisch','kalvinistisch',]  \n",
    "\n",
    "\n",
    "gründlich = True # einige Arbeitsschritte können weggelassen werden, wenn gründlich = True\n",
    "\n",
    "# verbose\n",
    "pak.Config.set('VERBOSE', True)\n",
    "\n",
    "# Darstellung der Dataframes\n",
    "pak.Config.set('GRID_BACKEND', '')   # standardmäßig kein dTale\n",
    "pd.set_option('max_colwidth', 2000)  # aber dafür breiter\n",
    "\n",
    "# Load\n",
    "verzeichnis_load                       = 'data_02'\n",
    "wiktionary_lemma_filename              = verzeichnis_load + '/wiktionary_lemma.pickle'  \n",
    "translate_lex_filename                 = verzeichnis_load + '/wiktionary_nolemma.pickle'    # hieß vorher wiktionary_nolemma\n",
    "wiktionary_merkmal_filename            = verzeichnis_load + '/wiktionary_merkmal.pickle'  \n",
    "wiktionary_merkmal_text_filename       = verzeichnis_load + '/wiktionary_merkmal_text.pickle'  \n",
    "\n",
    "# Steuertabellen\n",
    "lex_test_filename                      = 'Steuertabellen/lex_test.xlsx'  \n",
    "löschliste_filename                    = 'Steuertabellen/löschliste.xlsx'   \n",
    "lexeme_manuell_filename                = 'Steuertabellen/lexeme_manuell.xlsx'                              # manuell eingepflegte Lexeme \n",
    "     \n",
    "# Save\n",
    "verzeichnis_save                       = 'data_03'\n",
    "wiktionary_lemma_filename_save         = verzeichnis_save + '/wiktionary_lemma.pickle'  \n",
    "translate_lex_filename_save            = verzeichnis_save + '/translate_lex.pickle'  \n",
    "translate_lex_trash_filename_save      = verzeichnis_save + '/translate_lex_trash.pickle'  \n",
    "translate_lemma_filename_save          = verzeichnis_save + '/translate_lemma.pickle'  \n",
    "wiktionary_merkmal_filename_save       = verzeichnis_save + '/wiktionary_merkmal.pickle'  \n",
    "wiktionary_merkmal_text_filename_save  = verzeichnis_save + '/wiktionary_merkmal_text.pickle'  \n",
    "\n"
   ]
  },
  {
   "cell_type": "markdown",
   "id": "603a1f3b-0bd7-40a8-8711-5aad09d65572",
   "metadata": {
    "id": "p1lM3YLgn5Ou"
   },
   "source": [
    "## Vorbereiten"
   ]
  },
  {
   "cell_type": "code",
   "execution_count": 5,
   "id": "6e26bb69-7ec4-48f1-8b6a-37fbca0c93fe",
   "metadata": {
    "colab": {
     "base_uri": "https://localhost:8080/"
    },
    "execution": {
     "iopub.execute_input": "2023-02-25T11:39:33.938966Z",
     "iopub.status.busy": "2023-02-25T11:39:33.938675Z",
     "iopub.status.idle": "2023-02-25T11:39:33.978440Z",
     "shell.execute_reply": "2023-02-25T11:39:33.977809Z",
     "shell.execute_reply.started": "2023-02-25T11:39:33.938942Z"
    },
    "executionInfo": {
     "elapsed": 13,
     "status": "ok",
     "timestamp": 1676476829076,
     "user": {
      "displayName": "Hups Hopsalla",
      "userId": "10020718461385065661"
     },
     "user_tz": -60
    },
    "id": "Oy4Rb6WZn5Ow",
    "outputId": "6b94d1aa-3ffa-4388-d3f4-53b785e09406"
   },
   "outputs": [],
   "source": [
    "# Verzeichnisse erzeugen\n",
    "os.makedirs(verzeichnis_load, exist_ok=True) \n",
    "os.makedirs(verzeichnis_save, exist_ok=True) "
   ]
  },
  {
   "cell_type": "code",
   "execution_count": 6,
   "id": "90be13d2-ac1a-44c9-b092-115b6ef4cf87",
   "metadata": {
    "execution": {
     "iopub.execute_input": "2023-02-25T11:39:33.983340Z",
     "iopub.status.busy": "2023-02-25T11:39:33.983040Z",
     "iopub.status.idle": "2023-02-25T11:39:34.019379Z",
     "shell.execute_reply": "2023-02-25T11:39:34.018296Z",
     "shell.execute_reply.started": "2023-02-25T11:39:33.983317Z"
    }
   },
   "outputs": [],
   "source": [
    "# Steuertabellen und Python-Files von Github herunterladen\n",
    "import os\n",
    "if not os.path.exists('Steuertabellen'):\n",
    "   !git clone https://github.com/djekra/wiktionary_wortschatz.git\n",
    "   !cp -r wiktionary_wortschatz/1_wiktionary_parsen/Steuertabellen Steuertabellen\n",
    "   !cp -r wiktionary_wortschatz/1_wiktionary_parsen/*.py .\n",
    "#   !rm -r wiktionary_wortschatz"
   ]
  },
  {
   "cell_type": "code",
   "execution_count": 7,
   "id": "ba4ce50f-c6ce-447f-adaf-c8755d018a16",
   "metadata": {
    "colab": {
     "base_uri": "https://localhost:8080/"
    },
    "execution": {
     "iopub.execute_input": "2023-02-25T11:39:34.020542Z",
     "iopub.status.busy": "2023-02-25T11:39:34.020088Z",
     "iopub.status.idle": "2023-02-25T11:39:34.055637Z",
     "shell.execute_reply": "2023-02-25T11:39:34.054683Z",
     "shell.execute_reply.started": "2023-02-25T11:39:34.020513Z"
    },
    "executionInfo": {
     "elapsed": 7425,
     "status": "ok",
     "timestamp": 1676479015113,
     "user": {
      "displayName": "Hups Hopsalla",
      "userId": "10020718461385065661"
     },
     "user_tz": -60
    },
    "id": "dbiDceKXyUx7",
    "outputId": "beb0cf2a-bc86-47c4-81e6-b11c7354957c"
   },
   "outputs": [],
   "source": [
    "# Lade Ergebnisse der vorherigen Verarbeitungsstufe von Google Drive, falls nicht lokal vorhanden\n",
    "# Dieses Verzeichnis wurde in der vorherigen Verarbeitungsstufe angelegt \n",
    "if environment['in_colab']:\n",
    "    from google.colab import drive\n",
    "    drive.mount('/content/drive') \n",
    "    !cd /content\n",
    "    !cp -av /content/drive/MyDrive/{verzeichnis_load} ."
   ]
  },
  {
   "cell_type": "code",
   "execution_count": 8,
   "id": "0dd297b6",
   "metadata": {
    "execution": {
     "iopub.execute_input": "2023-02-25T11:39:34.056905Z",
     "iopub.status.busy": "2023-02-25T11:39:34.056428Z",
     "iopub.status.idle": "2023-02-25T11:39:35.681601Z",
     "shell.execute_reply": "2023-02-25T11:39:35.680896Z",
     "shell.execute_reply.started": "2023-02-25T11:39:34.056877Z"
    }
   },
   "outputs": [],
   "source": [
    "# Weitere Imports\n",
    "from Steuertabellen.s01_Steuertabellen import *\n",
    "from x32_Funktionen                    import *"
   ]
  },
  {
   "cell_type": "markdown",
   "id": "41df4100",
   "metadata": {},
   "source": [
    "## Daten laden\n",
    "* Steuertabellen\n",
    "* wiktionary_lemma\n",
    "* translate_lex\n",
    "* wiktionary_merkmal     \n",
    "* wiktionary_merkmal_text \n",
    "* jeweils einen Trash generieren"
   ]
  },
  {
   "cell_type": "code",
   "execution_count": 9,
   "id": "88d96ae6-7370-4ade-ad67-11b81330d9a5",
   "metadata": {
    "execution": {
     "iopub.execute_input": "2023-02-25T11:39:35.683152Z",
     "iopub.status.busy": "2023-02-25T11:39:35.682629Z",
     "iopub.status.idle": "2023-02-25T11:39:35.717755Z",
     "shell.execute_reply": "2023-02-25T11:39:35.717114Z",
     "shell.execute_reply.started": "2023-02-25T11:39:35.683126Z"
    }
   },
   "outputs": [],
   "source": [
    "#blab.help(plan_merkmal_erstellen)"
   ]
  },
  {
   "cell_type": "code",
   "execution_count": 10,
   "id": "b4e07b9c",
   "metadata": {
    "execution": {
     "iopub.execute_input": "2023-02-25T11:39:35.722257Z",
     "iopub.status.busy": "2023-02-25T11:39:35.721992Z",
     "iopub.status.idle": "2023-02-25T11:39:35.806558Z",
     "shell.execute_reply": "2023-02-25T11:39:35.805904Z",
     "shell.execute_reply.started": "2023-02-25T11:39:35.722235Z"
    }
   },
   "outputs": [
    {
     "name": "stdout",
     "output_type": "stream",
     "text": [
      "103 rows\n"
     ]
    },
    {
     "data": {
      "text/html": [
       "<div>\n",
       "<style scoped>\n",
       "    .dataframe tbody tr th:only-of-type {\n",
       "        vertical-align: middle;\n",
       "    }\n",
       "\n",
       "    .dataframe tbody tr th {\n",
       "        vertical-align: top;\n",
       "    }\n",
       "\n",
       "    .dataframe thead th {\n",
       "        text-align: right;\n",
       "    }\n",
       "</style>\n",
       "<table border=\"1\" class=\"dataframe\">\n",
       "  <thead>\n",
       "    <tr style=\"text-align: right;\">\n",
       "      <th></th>\n",
       "      <th>merkmal</th>\n",
       "      <th>template</th>\n",
       "      <th>collect</th>\n",
       "      <th>plan</th>\n",
       "      <th>sort</th>\n",
       "      <th>is_lex</th>\n",
       "    </tr>\n",
       "  </thead>\n",
       "  <tbody>\n",
       "    <tr>\n",
       "      <th>0</th>\n",
       "      <td>noSteig</td>\n",
       "      <td>kSt.</td>\n",
       "      <td>E</td>\n",
       "      <td>1</td>\n",
       "      <td></td>\n",
       "      <td>False</td>\n",
       "    </tr>\n",
       "    <tr>\n",
       "      <th>1</th>\n",
       "      <td>noSing</td>\n",
       "      <td>kSg.</td>\n",
       "      <td>E</td>\n",
       "      <td>1</td>\n",
       "      <td></td>\n",
       "      <td>False</td>\n",
       "    </tr>\n",
       "    <tr>\n",
       "      <th>2</th>\n",
       "      <td>nurWortart</td>\n",
       "      <td>Wortart fehlt</td>\n",
       "      <td>P</td>\n",
       "      <td>1</td>\n",
       "      <td></td>\n",
       "      <td>False</td>\n",
       "    </tr>\n",
       "    <tr>\n",
       "      <th>3</th>\n",
       "      <td>istName</td>\n",
       "      <td>Navigationsleiste Anthroponyme</td>\n",
       "      <td>E</td>\n",
       "      <td>1</td>\n",
       "      <td></td>\n",
       "      <td>False</td>\n",
       "    </tr>\n",
       "    <tr>\n",
       "      <th>4</th>\n",
       "      <td>Wikispecies</td>\n",
       "      <td>Wikispecies</td>\n",
       "      <td>E</td>\n",
       "      <td>1</td>\n",
       "      <td></td>\n",
       "      <td>False</td>\n",
       "    </tr>\n",
       "    <tr>\n",
       "      <th>...</th>\n",
       "      <td>...</td>\n",
       "      <td>...</td>\n",
       "      <td>...</td>\n",
       "      <td>...</td>\n",
       "      <td>...</td>\n",
       "      <td>...</td>\n",
       "    </tr>\n",
       "    <tr>\n",
       "      <th>98</th>\n",
       "      <td>Superlativ</td>\n",
       "      <td></td>\n",
       "      <td></td>\n",
       "      <td>3</td>\n",
       "      <td>x3 Superlativ</td>\n",
       "      <td>True</td>\n",
       "    </tr>\n",
       "    <tr>\n",
       "      <th>99</th>\n",
       "      <td>Stamm</td>\n",
       "      <td></td>\n",
       "      <td></td>\n",
       "      <td>3</td>\n",
       "      <td>z1 Stamm</td>\n",
       "      <td>False</td>\n",
       "    </tr>\n",
       "    <tr>\n",
       "      <th>100</th>\n",
       "      <td>ipa</td>\n",
       "      <td></td>\n",
       "      <td></td>\n",
       "      <td>3</td>\n",
       "      <td>z1 ipa</td>\n",
       "      <td>False</td>\n",
       "    </tr>\n",
       "    <tr>\n",
       "      <th>101</th>\n",
       "      <td>noFlex</td>\n",
       "      <td></td>\n",
       "      <td>E</td>\n",
       "      <td>3</td>\n",
       "      <td>z1 noFlex</td>\n",
       "      <td>True</td>\n",
       "    </tr>\n",
       "    <tr>\n",
       "      <th>102</th>\n",
       "      <td>syllables</td>\n",
       "      <td></td>\n",
       "      <td></td>\n",
       "      <td>3</td>\n",
       "      <td>z1 syllables</td>\n",
       "      <td>False</td>\n",
       "    </tr>\n",
       "  </tbody>\n",
       "</table>\n",
       "<p>103 rows × 6 columns</p>\n",
       "</div>"
      ],
      "text/plain": [
       "         merkmal                        template collect  plan           sort  \\\n",
       "0        noSteig                            kSt.       E     1                  \n",
       "1         noSing                            kSg.       E     1                  \n",
       "2     nurWortart                   Wortart fehlt       P     1                  \n",
       "3        istName  Navigationsleiste Anthroponyme       E     1                  \n",
       "4    Wikispecies                     Wikispecies       E     1                  \n",
       "..           ...                             ...     ...   ...            ...   \n",
       "98    Superlativ                                             3  x3 Superlativ   \n",
       "99         Stamm                                             3       z1 Stamm   \n",
       "100          ipa                                             3         z1 ipa   \n",
       "101       noFlex                                       E     3      z1 noFlex   \n",
       "102    syllables                                             3   z1 syllables   \n",
       "\n",
       "     is_lex  \n",
       "0     False  \n",
       "1     False  \n",
       "2     False  \n",
       "3     False  \n",
       "4     False  \n",
       "..      ...  \n",
       "98     True  \n",
       "99    False  \n",
       "100   False  \n",
       "101    True  \n",
       "102   False  \n",
       "\n",
       "[103 rows x 6 columns]"
      ]
     },
     "execution_count": 10,
     "metadata": {},
     "output_type": "execute_result"
    }
   ],
   "source": [
    "# plan_merkmal Steuertabelle\n",
    "plan_merkmal = plan_merkmal_erstellen()\n",
    "grid(plan_merkmal, rows=9, column_definitions={ 'collect': {'maxWidth': 50,}, ' ': {'maxWidth': 50,}                   },     )"
   ]
  },
  {
   "cell_type": "code",
   "execution_count": 11,
   "id": "44ba4711",
   "metadata": {
    "execution": {
     "iopub.execute_input": "2023-02-25T11:39:35.810996Z",
     "iopub.status.busy": "2023-02-25T11:39:35.810408Z",
     "iopub.status.idle": "2023-02-25T11:39:35.898387Z",
     "shell.execute_reply": "2023-02-25T11:39:35.897764Z",
     "shell.execute_reply.started": "2023-02-25T11:39:35.810969Z"
    }
   },
   "outputs": [
    {
     "name": "stdout",
     "output_type": "stream",
     "text": [
      "3 rows\n"
     ]
    },
    {
     "data": {
      "text/html": [
       "<div>\n",
       "<style scoped>\n",
       "    .dataframe tbody tr th:only-of-type {\n",
       "        vertical-align: middle;\n",
       "    }\n",
       "\n",
       "    .dataframe tbody tr th {\n",
       "        vertical-align: top;\n",
       "    }\n",
       "\n",
       "    .dataframe thead th {\n",
       "        text-align: right;\n",
       "    }\n",
       "</style>\n",
       "<table border=\"1\" class=\"dataframe\">\n",
       "  <thead>\n",
       "    <tr style=\"text-align: right;\">\n",
       "      <th></th>\n",
       "      <th>plan</th>\n",
       "      <th>plan_count</th>\n",
       "      <th>plan_percent</th>\n",
       "      <th>merkmal</th>\n",
       "      <th>merkmal_count</th>\n",
       "    </tr>\n",
       "  </thead>\n",
       "  <tbody>\n",
       "    <tr>\n",
       "      <th>0</th>\n",
       "      <td>3</td>\n",
       "      <td>59</td>\n",
       "      <td>57.3</td>\n",
       "      <td>[Befehl du, Befehl ihr, Gerundivum, PTKVZ, VVIZU, lemma, lex, lexAlt, rhymes, Genus, Nom Sg, Nom Sg f, Nom Sg m, Nom Sg n, Gen Sg, Gen Sg f, Gen Sg m, Gen Sg n, Dat Sg, Dat Sg f]</td>\n",
       "      <td>[1, 1, 1, 1, 1, 1, 1, 1, 1, 1, 1, 1, 1, 1, 1, 1, 1, 1, 1, 1]</td>\n",
       "    </tr>\n",
       "    <tr>\n",
       "      <th>1</th>\n",
       "      <td>1</td>\n",
       "      <td>38</td>\n",
       "      <td>36.9</td>\n",
       "      <td>[übersicht, noSteig, noSing, nurWortart, istName, Wikispecies, Wikivoyage, Taxonomie, Präfix, Suffix, VMaßeinheiten, def, herkunft, syn, lateral, gegen, klein, up, up_part, down]</td>\n",
       "      <td>[2, 1, 1, 1, 1, 1, 1, 1, 1, 1, 1, 1, 1, 1, 1, 1, 1, 1, 1, 1]</td>\n",
       "    </tr>\n",
       "    <tr>\n",
       "      <th>2</th>\n",
       "      <td>2</td>\n",
       "      <td>6</td>\n",
       "      <td>5.8</td>\n",
       "      <td>[def, herkunft, bsp, bsp_re, bsp_gw, bsp_sp]</td>\n",
       "      <td>[1, 1, 1, 1, 1, 1]</td>\n",
       "    </tr>\n",
       "  </tbody>\n",
       "</table>\n",
       "</div>"
      ],
      "text/plain": [
       "   plan  plan_count  plan_percent  \\\n",
       "0     3          59          57.3   \n",
       "1     1          38          36.9   \n",
       "2     2           6           5.8   \n",
       "\n",
       "                                                                                                                                                                              merkmal  \\\n",
       "0  [Befehl du, Befehl ihr, Gerundivum, PTKVZ, VVIZU, lemma, lex, lexAlt, rhymes, Genus, Nom Sg, Nom Sg f, Nom Sg m, Nom Sg n, Gen Sg, Gen Sg f, Gen Sg m, Gen Sg n, Dat Sg, Dat Sg f]   \n",
       "1  [übersicht, noSteig, noSing, nurWortart, istName, Wikispecies, Wikivoyage, Taxonomie, Präfix, Suffix, VMaßeinheiten, def, herkunft, syn, lateral, gegen, klein, up, up_part, down]   \n",
       "2                                                                                                                                        [def, herkunft, bsp, bsp_re, bsp_gw, bsp_sp]   \n",
       "\n",
       "                                                  merkmal_count  \n",
       "0  [1, 1, 1, 1, 1, 1, 1, 1, 1, 1, 1, 1, 1, 1, 1, 1, 1, 1, 1, 1]  \n",
       "1  [2, 1, 1, 1, 1, 1, 1, 1, 1, 1, 1, 1, 1, 1, 1, 1, 1, 1, 1, 1]  \n",
       "2                                            [1, 1, 1, 1, 1, 1]  "
      ]
     },
     "execution_count": 11,
     "metadata": {},
     "output_type": "execute_result"
    }
   ],
   "source": [
    "a= pak.analyse_freqs(plan_merkmal,['plan','merkmal'])\n",
    "grid(a, width=200)"
   ]
  },
  {
   "cell_type": "code",
   "execution_count": 12,
   "id": "8f03799f-cbed-4843-b65a-2575ed639c45",
   "metadata": {
    "execution": {
     "iopub.execute_input": "2023-02-25T11:39:35.904046Z",
     "iopub.status.busy": "2023-02-25T11:39:35.901360Z",
     "iopub.status.idle": "2023-02-25T11:39:38.102215Z",
     "shell.execute_reply": "2023-02-25T11:39:38.101594Z",
     "shell.execute_reply.started": "2023-02-25T11:39:35.904009Z"
    }
   },
   "outputs": [
    {
     "name": "stdout",
     "output_type": "stream",
     "text": [
      "166 rows loaded\n",
      "Delete 3 rows from 166\n",
      "163 rows\n"
     ]
    },
    {
     "data": {
      "text/html": [
       "<div>\n",
       "<style scoped>\n",
       "    .dataframe tbody tr th:only-of-type {\n",
       "        vertical-align: middle;\n",
       "    }\n",
       "\n",
       "    .dataframe tbody tr th {\n",
       "        vertical-align: top;\n",
       "    }\n",
       "\n",
       "    .dataframe thead th {\n",
       "        text-align: right;\n",
       "    }\n",
       "</style>\n",
       "<table border=\"1\" class=\"dataframe\">\n",
       "  <thead>\n",
       "    <tr style=\"text-align: right;\">\n",
       "      <th></th>\n",
       "      <th>level</th>\n",
       "      <th>lex</th>\n",
       "      <th>lemma</th>\n",
       "      <th>lex_tag_soll</th>\n",
       "      <th>notiz</th>\n",
       "      <th>check_tag</th>\n",
       "    </tr>\n",
       "  </thead>\n",
       "  <tbody>\n",
       "    <tr>\n",
       "      <th>0</th>\n",
       "      <td>3</td>\n",
       "      <td>modern</td>\n",
       "      <td>modern</td>\n",
       "      <td>ADJA</td>\n",
       "      <td>kein Partizip</td>\n",
       "      <td></td>\n",
       "    </tr>\n",
       "    <tr>\n",
       "      <th>1</th>\n",
       "      <td>3</td>\n",
       "      <td>auserlesen</td>\n",
       "      <td>auserlesen</td>\n",
       "      <td>ADJA</td>\n",
       "      <td>Partizip</td>\n",
       "      <td></td>\n",
       "    </tr>\n",
       "    <tr>\n",
       "      <th>2</th>\n",
       "      <td>3</td>\n",
       "      <td>auserlesen</td>\n",
       "      <td>auslesen</td>\n",
       "      <td>VVPP</td>\n",
       "      <td>Partizip</td>\n",
       "      <td></td>\n",
       "    </tr>\n",
       "    <tr>\n",
       "      <th>3</th>\n",
       "      <td>3</td>\n",
       "      <td>ausgerutscht</td>\n",
       "      <td>ausgerutscht</td>\n",
       "      <td>ADJA</td>\n",
       "      <td>Partizip</td>\n",
       "      <td></td>\n",
       "    </tr>\n",
       "    <tr>\n",
       "      <th>4</th>\n",
       "      <td>3</td>\n",
       "      <td>ausgerutscht</td>\n",
       "      <td>ausrutschen</td>\n",
       "      <td>VVPP</td>\n",
       "      <td>Partizip</td>\n",
       "      <td></td>\n",
       "    </tr>\n",
       "    <tr>\n",
       "      <th>...</th>\n",
       "      <td>...</td>\n",
       "      <td>...</td>\n",
       "      <td>...</td>\n",
       "      <td>...</td>\n",
       "      <td>...</td>\n",
       "      <td>...</td>\n",
       "    </tr>\n",
       "    <tr>\n",
       "      <th>161</th>\n",
       "      <td>1</td>\n",
       "      <td>naheliegend</td>\n",
       "      <td>naheliegen</td>\n",
       "      <td>VVFIN</td>\n",
       "      <td>Partizip (geraten)</td>\n",
       "      <td></td>\n",
       "    </tr>\n",
       "    <tr>\n",
       "      <th>162</th>\n",
       "      <td>3</td>\n",
       "      <td>erlesen</td>\n",
       "      <td>erlesen</td>\n",
       "      <td>ADJA</td>\n",
       "      <td>Partizip (Partizipialadjektiv fehlte)</td>\n",
       "      <td></td>\n",
       "    </tr>\n",
       "    <tr>\n",
       "      <th>163</th>\n",
       "      <td>1</td>\n",
       "      <td>erlesen</td>\n",
       "      <td>erlesen</td>\n",
       "      <td>VVFIN</td>\n",
       "      <td>Partizip (Partizipialadjektiv fehlte)</td>\n",
       "      <td></td>\n",
       "    </tr>\n",
       "    <tr>\n",
       "      <th>164</th>\n",
       "      <td>3</td>\n",
       "      <td>beschlagen</td>\n",
       "      <td>beschlagen</td>\n",
       "      <td>ADJA</td>\n",
       "      <td>Partizip (Partizipialadjektiv fehlte)</td>\n",
       "      <td></td>\n",
       "    </tr>\n",
       "    <tr>\n",
       "      <th>165</th>\n",
       "      <td>1</td>\n",
       "      <td>beschlagen</td>\n",
       "      <td>beschlagen</td>\n",
       "      <td>VVFIN</td>\n",
       "      <td>Partizip (Partizipialadjektiv fehlte)</td>\n",
       "      <td></td>\n",
       "    </tr>\n",
       "  </tbody>\n",
       "</table>\n",
       "<p>163 rows × 6 columns</p>\n",
       "</div>"
      ],
      "text/plain": [
       "     level           lex         lemma lex_tag_soll  \\\n",
       "0        3        modern        modern         ADJA   \n",
       "1        3    auserlesen    auserlesen         ADJA   \n",
       "2        3    auserlesen      auslesen         VVPP   \n",
       "3        3  ausgerutscht  ausgerutscht         ADJA   \n",
       "4        3  ausgerutscht   ausrutschen         VVPP   \n",
       "..     ...           ...           ...          ...   \n",
       "161      1   naheliegend    naheliegen        VVFIN   \n",
       "162      3       erlesen       erlesen         ADJA   \n",
       "163      1       erlesen       erlesen        VVFIN   \n",
       "164      3    beschlagen    beschlagen         ADJA   \n",
       "165      1    beschlagen    beschlagen        VVFIN   \n",
       "\n",
       "                                     notiz check_tag  \n",
       "0                            kein Partizip            \n",
       "1                                 Partizip            \n",
       "2                                 Partizip            \n",
       "3                                 Partizip            \n",
       "4                                 Partizip            \n",
       "..                                     ...       ...  \n",
       "161                     Partizip (geraten)            \n",
       "162  Partizip (Partizipialadjektiv fehlte)            \n",
       "163  Partizip (Partizipialadjektiv fehlte)            \n",
       "164  Partizip (Partizipialadjektiv fehlte)            \n",
       "165  Partizip (Partizipialadjektiv fehlte)            \n",
       "\n",
       "[163 rows x 6 columns]"
      ]
     },
     "execution_count": 12,
     "metadata": {},
     "output_type": "execute_result"
    }
   ],
   "source": [
    "# lex_test, lemma_test\n",
    "lex_test, lemma_test = lade_lex_text( lex_test_filename, level=3)\n",
    "grid(lex_test)"
   ]
  },
  {
   "cell_type": "code",
   "execution_count": 13,
   "id": "407bd848-8db6-47f4-8b2e-4ad91e340921",
   "metadata": {
    "execution": {
     "iopub.execute_input": "2023-02-25T11:39:38.106747Z",
     "iopub.status.busy": "2023-02-25T11:39:38.104557Z",
     "iopub.status.idle": "2023-02-25T11:39:38.651751Z",
     "shell.execute_reply": "2023-02-25T11:39:38.651083Z",
     "shell.execute_reply.started": "2023-02-25T11:39:38.106713Z"
    }
   },
   "outputs": [
    {
     "name": "stdout",
     "output_type": "stream",
     "text": [
      "1794 rows loaded\n"
     ]
    },
    {
     "data": {
      "text/html": [
       "<div>\n",
       "<style scoped>\n",
       "    .dataframe tbody tr th:only-of-type {\n",
       "        vertical-align: middle;\n",
       "    }\n",
       "\n",
       "    .dataframe tbody tr th {\n",
       "        vertical-align: top;\n",
       "    }\n",
       "\n",
       "    .dataframe thead th {\n",
       "        text-align: right;\n",
       "    }\n",
       "</style>\n",
       "<table border=\"1\" class=\"dataframe\">\n",
       "  <thead>\n",
       "    <tr style=\"text-align: right;\">\n",
       "      <th></th>\n",
       "      <th>lex</th>\n",
       "      <th>lemma</th>\n",
       "      <th>lemma_tag</th>\n",
       "      <th>lex_tag</th>\n",
       "      <th>member</th>\n",
       "      <th>genus</th>\n",
       "      <th>tab</th>\n",
       "    </tr>\n",
       "  </thead>\n",
       "  <tbody>\n",
       "    <tr>\n",
       "      <th>0</th>\n",
       "      <td>abberufen</td>\n",
       "      <td>abberufen</td>\n",
       "      <td>VVFIN</td>\n",
       "      <td>Ptz2</td>\n",
       "      <td>&lt;NA&gt;</td>\n",
       "      <td>&lt;NA&gt;</td>\n",
       "      <td>Partizipien</td>\n",
       "    </tr>\n",
       "    <tr>\n",
       "      <th>164</th>\n",
       "      <td>gewußt</td>\n",
       "      <td>wissen</td>\n",
       "      <td>VVFIN</td>\n",
       "      <td>Ptz2</td>\n",
       "      <td>&lt;NA&gt;</td>\n",
       "      <td>&lt;NA&gt;</td>\n",
       "      <td>Partizipien</td>\n",
       "    </tr>\n",
       "    <tr>\n",
       "      <th>304</th>\n",
       "      <td>überzeugend</td>\n",
       "      <td>überzeugen</td>\n",
       "      <td>VVFIN</td>\n",
       "      <td>Ptz1</td>\n",
       "      <td>&lt;NA&gt;</td>\n",
       "      <td>&lt;NA&gt;</td>\n",
       "      <td>Partizipien</td>\n",
       "    </tr>\n",
       "    <tr>\n",
       "      <th>487</th>\n",
       "      <td>Kids</td>\n",
       "      <td>Kid</td>\n",
       "      <td>NN</td>\n",
       "      <td>&lt;NA&gt;</td>\n",
       "      <td>&lt;NA&gt;</td>\n",
       "      <td>n</td>\n",
       "      <td>Diverses</td>\n",
       "    </tr>\n",
       "    <tr>\n",
       "      <th>489</th>\n",
       "      <td>Kontraindikationen</td>\n",
       "      <td>Kontraindikation</td>\n",
       "      <td>NN</td>\n",
       "      <td>&lt;NA&gt;</td>\n",
       "      <td>&lt;NA&gt;</td>\n",
       "      <td>f</td>\n",
       "      <td>Diverses</td>\n",
       "    </tr>\n",
       "    <tr>\n",
       "      <th>530</th>\n",
       "      <td>vergleiche</td>\n",
       "      <td>vergleichen</td>\n",
       "      <td>VVFIN</td>\n",
       "      <td>VVIMP</td>\n",
       "      <td>&lt;NA&gt;</td>\n",
       "      <td>&lt;NA&gt;</td>\n",
       "      <td>Diverses</td>\n",
       "    </tr>\n",
       "    <tr>\n",
       "      <th>561</th>\n",
       "      <td>zu viele</td>\n",
       "      <td>zu viel</td>\n",
       "      <td>ADV</td>\n",
       "      <td>ADV</td>\n",
       "      <td>&lt;NA&gt;</td>\n",
       "      <td>&lt;NA&gt;</td>\n",
       "      <td>Diverses</td>\n",
       "    </tr>\n",
       "    <tr>\n",
       "      <th>565</th>\n",
       "      <td>&lt;NA&gt;</td>\n",
       "      <td>24/7</td>\n",
       "      <td>ADJA</td>\n",
       "      <td>&lt;NA&gt;</td>\n",
       "      <td>&lt;NA&gt;</td>\n",
       "      <td>&lt;NA&gt;</td>\n",
       "      <td>Diverses</td>\n",
       "    </tr>\n",
       "    <tr>\n",
       "      <th>585</th>\n",
       "      <td>&lt;NA&gt;</td>\n",
       "      <td>bpm</td>\n",
       "      <td>NN</td>\n",
       "      <td>&lt;NA&gt;</td>\n",
       "      <td>Einheit</td>\n",
       "      <td>&lt;NA&gt;</td>\n",
       "      <td>Diverses</td>\n",
       "    </tr>\n",
       "    <tr>\n",
       "      <th>721</th>\n",
       "      <td>❀</td>\n",
       "      <td>_</td>\n",
       "      <td>$(</td>\n",
       "      <td>&lt;NA&gt;</td>\n",
       "      <td>&lt;NA&gt;</td>\n",
       "      <td>&lt;NA&gt;</td>\n",
       "      <td>Symbole</td>\n",
       "    </tr>\n",
       "    <tr>\n",
       "      <th>723</th>\n",
       "      <td>[</td>\n",
       "      <td>(</td>\n",
       "      <td>$(</td>\n",
       "      <td>syn</td>\n",
       "      <td>&lt;NA&gt;</td>\n",
       "      <td>&lt;NA&gt;</td>\n",
       "      <td>Symbole</td>\n",
       "    </tr>\n",
       "    <tr>\n",
       "      <th>756</th>\n",
       "      <td>!</td>\n",
       "      <td>&lt;NA&gt;</td>\n",
       "      <td>$.</td>\n",
       "      <td>&lt;NA&gt;</td>\n",
       "      <td>&lt;NA&gt;</td>\n",
       "      <td>&lt;NA&gt;</td>\n",
       "      <td>Symbole</td>\n",
       "    </tr>\n",
       "    <tr>\n",
       "      <th>1022</th>\n",
       "      <td>gewiß</td>\n",
       "      <td>gewiss</td>\n",
       "      <td>ADV</td>\n",
       "      <td>&lt;NA&gt;</td>\n",
       "      <td>modal lexAlt</td>\n",
       "      <td>&lt;NA&gt;</td>\n",
       "      <td>esszett</td>\n",
       "    </tr>\n",
       "    <tr>\n",
       "      <th>1478</th>\n",
       "      <td>läßt</td>\n",
       "      <td>lassen</td>\n",
       "      <td>VVFIN</td>\n",
       "      <td>&lt;NA&gt;</td>\n",
       "      <td>lexAlt</td>\n",
       "      <td>&lt;NA&gt;</td>\n",
       "      <td>esszett</td>\n",
       "    </tr>\n",
       "    <tr>\n",
       "      <th>1600</th>\n",
       "      <td>&amp;</td>\n",
       "      <td>und</td>\n",
       "      <td>KON</td>\n",
       "      <td>&lt;NA&gt;</td>\n",
       "      <td>&lt;NA&gt;</td>\n",
       "      <td>&lt;NA&gt;</td>\n",
       "      <td>Abkuerzungen</td>\n",
       "    </tr>\n",
       "    <tr>\n",
       "      <th>1789</th>\n",
       "      <td>Ser</td>\n",
       "      <td>Sir</td>\n",
       "      <td>NN</td>\n",
       "      <td>&lt;NA&gt;</td>\n",
       "      <td>PRE</td>\n",
       "      <td>m</td>\n",
       "      <td>Partikel</td>\n",
       "    </tr>\n",
       "    <tr>\n",
       "      <th>1793</th>\n",
       "      <td>Europa</td>\n",
       "      <td>&lt;NA&gt;</td>\n",
       "      <td>NE</td>\n",
       "      <td>&lt;NA&gt;</td>\n",
       "      <td>Toponym</td>\n",
       "      <td>&lt;NA&gt;</td>\n",
       "      <td>Namen</td>\n",
       "    </tr>\n",
       "  </tbody>\n",
       "</table>\n",
       "</div>"
      ],
      "text/plain": [
       "                     lex             lemma lemma_tag lex_tag        member  \\\n",
       "0              abberufen         abberufen     VVFIN    Ptz2          <NA>   \n",
       "164               gewußt            wissen     VVFIN    Ptz2          <NA>   \n",
       "304          überzeugend        überzeugen     VVFIN    Ptz1          <NA>   \n",
       "487                 Kids               Kid        NN    <NA>          <NA>   \n",
       "489   Kontraindikationen  Kontraindikation        NN    <NA>          <NA>   \n",
       "530           vergleiche       vergleichen     VVFIN   VVIMP          <NA>   \n",
       "561             zu viele           zu viel       ADV     ADV          <NA>   \n",
       "565                 <NA>              24/7      ADJA    <NA>          <NA>   \n",
       "585                 <NA>               bpm        NN    <NA>       Einheit   \n",
       "721                    ❀                 _        $(    <NA>          <NA>   \n",
       "723                    [                 (        $(     syn          <NA>   \n",
       "756                    !              <NA>        $.    <NA>          <NA>   \n",
       "1022               gewiß            gewiss       ADV    <NA>  modal lexAlt   \n",
       "1478                läßt            lassen     VVFIN    <NA>        lexAlt   \n",
       "1600                   &               und       KON    <NA>          <NA>   \n",
       "1789                 Ser               Sir        NN    <NA>           PRE   \n",
       "1793              Europa              <NA>        NE    <NA>       Toponym   \n",
       "\n",
       "     genus           tab  \n",
       "0     <NA>   Partizipien  \n",
       "164   <NA>   Partizipien  \n",
       "304   <NA>   Partizipien  \n",
       "487      n      Diverses  \n",
       "489      f      Diverses  \n",
       "530   <NA>      Diverses  \n",
       "561   <NA>      Diverses  \n",
       "565   <NA>      Diverses  \n",
       "585   <NA>      Diverses  \n",
       "721   <NA>       Symbole  \n",
       "723   <NA>       Symbole  \n",
       "756   <NA>       Symbole  \n",
       "1022  <NA>       esszett  \n",
       "1478  <NA>       esszett  \n",
       "1600  <NA>  Abkuerzungen  \n",
       "1789     m      Partikel  \n",
       "1793  <NA>         Namen  "
      ]
     },
     "execution_count": 13,
     "metadata": {},
     "output_type": "execute_result"
    }
   ],
   "source": [
    "# lexeme_manuell laden\n",
    "lexeme_manuell = pak.load_excel( lexeme_manuell_filename, tabcol='tab' )\n",
    "lexeme_manuell = pak.rename_col( lexeme_manuell, 'tag',    'lemma_tag' )\n",
    "lexeme_manuell = pak.rename_col( lexeme_manuell, 'tag_lex','lex_tag' )\n",
    "lexeme_manuell = pak.move_cols(  lexeme_manuell, 'lex_tag','lemma_tag')\n",
    "pak.sample(lexeme_manuell)"
   ]
  },
  {
   "cell_type": "code",
   "execution_count": 14,
   "id": "f16f664f",
   "metadata": {
    "execution": {
     "iopub.execute_input": "2023-02-25T11:39:38.655014Z",
     "iopub.status.busy": "2023-02-25T11:39:38.654666Z",
     "iopub.status.idle": "2023-02-25T11:39:47.347886Z",
     "shell.execute_reply": "2023-02-25T11:39:47.347076Z",
     "shell.execute_reply.started": "2023-02-25T11:39:38.654991Z"
    }
   },
   "outputs": [
    {
     "name": "stdout",
     "output_type": "stream",
     "text": [
      "171220 rows loaded\n",
      "667548 rows loaded\n",
      "4838905 rows loaded\n",
      "657508 rows loaded\n"
     ]
    }
   ],
   "source": [
    "# Laden     \n",
    "wiktionary_lemma         = pak.load_pickle(wiktionary_lemma_filename)\n",
    "translate_lex            = pak.load_pickle(translate_lex_filename)\n",
    "wiktionary_merkmal       = pak.load_pickle(wiktionary_merkmal_filename)\n",
    "wiktionary_merkmal_text  = pak.load_pickle(wiktionary_merkmal_text_filename)"
   ]
  },
  {
   "cell_type": "code",
   "execution_count": 15,
   "id": "6f596eae-dae6-4784-a2a7-5b7b7b43ee05",
   "metadata": {
    "execution": {
     "iopub.execute_input": "2023-02-25T11:39:47.349116Z",
     "iopub.status.busy": "2023-02-25T11:39:47.348865Z",
     "iopub.status.idle": "2023-02-25T11:39:47.880854Z",
     "shell.execute_reply": "2023-02-25T11:39:47.880157Z",
     "shell.execute_reply.started": "2023-02-25T11:39:47.349093Z"
    }
   },
   "outputs": [],
   "source": [
    "# rename_col\n",
    "wiktionary_merkmal_text = pak.rename_col(wiktionary_merkmal_text,'section_id2','lemma_id')\n",
    "translate_lex           = pak.rename_col(translate_lex,'lex','data')"
   ]
  },
  {
   "cell_type": "code",
   "execution_count": 16,
   "id": "71c1f6ab-b7ae-4271-a766-2ce0189d1347",
   "metadata": {
    "execution": {
     "iopub.execute_input": "2023-02-25T11:39:47.881998Z",
     "iopub.status.busy": "2023-02-25T11:39:47.881740Z",
     "iopub.status.idle": "2023-02-25T11:39:47.927621Z",
     "shell.execute_reply": "2023-02-25T11:39:47.926840Z",
     "shell.execute_reply.started": "2023-02-25T11:39:47.881973Z"
    }
   },
   "outputs": [],
   "source": [
    "# trash erzeugen     \n",
    "wiktionary_lemma_trash        = wiktionary_lemma.head(0)\n",
    "wiktionary_lemma_trash        = pak.write_empty_col(wiktionary_lemma_trash, 'msg', 'string')\n",
    "\n",
    "translate_lex_trash           = translate_lex.head(0)\n",
    "translate_lex_trash           = pak.write_empty_col(translate_lex_trash, 'msg', 'string')\n",
    "\n",
    "wiktionary_merkmal_trash      = wiktionary_merkmal.head(0)\n",
    "wiktionary_merkmal_trash      = pak.write_empty_col(wiktionary_merkmal_trash, 'msg', 'string')\n",
    "\n",
    "wiktionary_merkmal_text_trash = wiktionary_merkmal_text.head(0)\n",
    "wiktionary_merkmal_text_trash = pak.write_empty_col(wiktionary_merkmal_text_trash, 'msg', 'string')"
   ]
  },
  {
   "cell_type": "markdown",
   "id": "c4f29b26-f087-4cfb-9dd8-7887c124d6d9",
   "metadata": {},
   "source": [
    "## suche_debug"
   ]
  },
  {
   "cell_type": "code",
   "execution_count": 17,
   "id": "941f6cb6-b167-4f83-88bd-ea158318736a",
   "metadata": {
    "execution": {
     "iopub.execute_input": "2023-02-25T11:39:47.929254Z",
     "iopub.status.busy": "2023-02-25T11:39:47.928626Z",
     "iopub.status.idle": "2023-02-25T11:39:48.165936Z",
     "shell.execute_reply": "2023-02-25T11:39:48.162812Z",
     "shell.execute_reply.started": "2023-02-25T11:39:47.929226Z"
    },
    "tags": []
   },
   "outputs": [
    {
     "name": "stdout",
     "output_type": "stream",
     "text": [
      "1 rows\n"
     ]
    },
    {
     "data": {
      "text/html": [
       "<div>\n",
       "<style scoped>\n",
       "    .dataframe tbody tr th:only-of-type {\n",
       "        vertical-align: middle;\n",
       "    }\n",
       "\n",
       "    .dataframe tbody tr th {\n",
       "        vertical-align: top;\n",
       "    }\n",
       "\n",
       "    .dataframe thead th {\n",
       "        text-align: right;\n",
       "    }\n",
       "</style>\n",
       "<table border=\"1\" class=\"dataframe\">\n",
       "  <thead>\n",
       "    <tr style=\"text-align: right;\">\n",
       "      <th></th>\n",
       "      <th>lemma_id</th>\n",
       "      <th>page_id</th>\n",
       "      <th>page_part</th>\n",
       "      <th>lemma</th>\n",
       "      <th>lemma_lower</th>\n",
       "      <th>isupper</th>\n",
       "      <th>lemma_len</th>\n",
       "      <th>tag</th>\n",
       "      <th>tag_0</th>\n",
       "      <th>tag_1</th>\n",
       "      <th>tagZ</th>\n",
       "      <th>tagZZ</th>\n",
       "      <th>member</th>\n",
       "      <th>data_id</th>\n",
       "      <th>score</th>\n",
       "    </tr>\n",
       "  </thead>\n",
       "  <tbody>\n",
       "    <tr>\n",
       "      <th>122752</th>\n",
       "      <td>calvinistisch</td>\n",
       "      <td>572869</td>\n",
       "      <td>0</td>\n",
       "      <td>calvinistisch</td>\n",
       "      <td>calvinistisch</td>\n",
       "      <td>False</td>\n",
       "      <td>1</td>\n",
       "      <td>ADJA</td>\n",
       "      <td>ADJA</td>\n",
       "      <td>12sEJ7bQ43</td>\n",
       "      <td>ADJ</td>\n",
       "      <td>A</td>\n",
       "      <td></td>\n",
       "      <td></td>\n",
       "      <td>43.829163</td>\n",
       "    </tr>\n",
       "  </tbody>\n",
       "</table>\n",
       "</div>"
      ],
      "text/plain": [
       "             lemma_id  page_id  page_part          lemma    lemma_lower  \\\n",
       "122752  calvinistisch   572869          0  calvinistisch  calvinistisch   \n",
       "\n",
       "        isupper  lemma_len   tag tag_0       tag_1 tagZ tagZZ member data_id  \\\n",
       "122752    False          1  ADJA  ADJA  12sEJ7bQ43  ADJ     A                  \n",
       "\n",
       "            score  \n",
       "122752  43.829163  "
      ]
     },
     "execution_count": 17,
     "metadata": {},
     "output_type": "execute_result"
    }
   ],
   "source": [
    "# wiktionary_lemma suche_debug\n",
    "grid(search_str(wiktionary_lemma, suche_debug))"
   ]
  },
  {
   "cell_type": "code",
   "execution_count": 18,
   "id": "3e8d9f03-a969-4169-bd01-9e87e9542c2f",
   "metadata": {
    "execution": {
     "iopub.execute_input": "2023-02-25T11:39:48.167143Z",
     "iopub.status.busy": "2023-02-25T11:39:48.166830Z",
     "iopub.status.idle": "2023-02-25T11:39:48.212541Z",
     "shell.execute_reply": "2023-02-25T11:39:48.211898Z",
     "shell.execute_reply.started": "2023-02-25T11:39:48.167115Z"
    },
    "tags": []
   },
   "outputs": [
    {
     "data": {
      "text/html": [
       "<div>\n",
       "<style scoped>\n",
       "    .dataframe tbody tr th:only-of-type {\n",
       "        vertical-align: middle;\n",
       "    }\n",
       "\n",
       "    .dataframe tbody tr th {\n",
       "        vertical-align: top;\n",
       "    }\n",
       "\n",
       "    .dataframe thead th {\n",
       "        text-align: right;\n",
       "    }\n",
       "</style>\n",
       "<table border=\"1\" class=\"dataframe\">\n",
       "  <thead>\n",
       "    <tr style=\"text-align: right;\">\n",
       "      <th></th>\n",
       "      <th>lemma_id</th>\n",
       "      <th>page_id</th>\n",
       "      <th>page_part</th>\n",
       "      <th>lemma</th>\n",
       "      <th>lemma_lower</th>\n",
       "      <th>isupper</th>\n",
       "      <th>lemma_len</th>\n",
       "      <th>tag</th>\n",
       "      <th>tag_0</th>\n",
       "      <th>tag_1</th>\n",
       "      <th>tagZ</th>\n",
       "      <th>tagZZ</th>\n",
       "      <th>member</th>\n",
       "      <th>data_id</th>\n",
       "      <th>score</th>\n",
       "      <th>msg</th>\n",
       "    </tr>\n",
       "  </thead>\n",
       "  <tbody>\n",
       "  </tbody>\n",
       "</table>\n",
       "</div>"
      ],
      "text/plain": [
       "Empty DataFrame\n",
       "Columns: [lemma_id, page_id, page_part, lemma, lemma_lower, isupper, lemma_len, tag, tag_0, tag_1, tagZ, tagZZ, member, data_id, score, msg]\n",
       "Index: []"
      ]
     },
     "execution_count": 18,
     "metadata": {},
     "output_type": "execute_result"
    }
   ],
   "source": [
    "# wiktionary_lemma_trash\n",
    "mask = wiktionary_lemma_trash.lemma.isin(suche_debug) #== 'gefriergetrocknet'\n",
    "wiktionary_lemma_trash[mask]"
   ]
  },
  {
   "cell_type": "code",
   "execution_count": 19,
   "id": "85086e92-87ba-4000-a876-28c8853c158e",
   "metadata": {
    "execution": {
     "iopub.execute_input": "2023-02-25T11:39:48.217187Z",
     "iopub.status.busy": "2023-02-25T11:39:48.213243Z",
     "iopub.status.idle": "2023-02-25T11:39:48.261381Z",
     "shell.execute_reply": "2023-02-25T11:39:48.260409Z",
     "shell.execute_reply.started": "2023-02-25T11:39:48.217145Z"
    },
    "tags": []
   },
   "outputs": [
    {
     "data": {
      "text/plain": [
       "'No rows'"
      ]
     },
     "execution_count": 19,
     "metadata": {},
     "output_type": "execute_result"
    }
   ],
   "source": [
    "pak.analyse_freqs(wiktionary_lemma_trash,['msg','lemma_id'])"
   ]
  },
  {
   "cell_type": "code",
   "execution_count": 20,
   "id": "a62f3393-272d-403a-84d3-3a426eb266f3",
   "metadata": {
    "execution": {
     "iopub.execute_input": "2023-02-25T11:39:48.269050Z",
     "iopub.status.busy": "2023-02-25T11:39:48.265387Z",
     "iopub.status.idle": "2023-02-25T11:39:49.013774Z",
     "shell.execute_reply": "2023-02-25T11:39:49.012981Z",
     "shell.execute_reply.started": "2023-02-25T11:39:48.268998Z"
    },
    "tags": []
   },
   "outputs": [
    {
     "name": "stdout",
     "output_type": "stream",
     "text": [
      "19 rows\n"
     ]
    },
    {
     "data": {
      "text/html": [
       "<div>\n",
       "<style scoped>\n",
       "    .dataframe tbody tr th:only-of-type {\n",
       "        vertical-align: middle;\n",
       "    }\n",
       "\n",
       "    .dataframe tbody tr th {\n",
       "        vertical-align: top;\n",
       "    }\n",
       "\n",
       "    .dataframe thead th {\n",
       "        text-align: right;\n",
       "    }\n",
       "</style>\n",
       "<table border=\"1\" class=\"dataframe\">\n",
       "  <thead>\n",
       "    <tr style=\"text-align: right;\">\n",
       "      <th></th>\n",
       "      <th>nolemma_id</th>\n",
       "      <th>data</th>\n",
       "      <th>tag</th>\n",
       "      <th>tag_0</th>\n",
       "      <th>tag_1</th>\n",
       "      <th>tagZ</th>\n",
       "      <th>tagZZ</th>\n",
       "      <th>member</th>\n",
       "      <th>score</th>\n",
       "      <th>lemma_id</th>\n",
       "      <th>lemma</th>\n",
       "      <th>lemma_lower</th>\n",
       "      <th>lemma_tagZZ</th>\n",
       "    </tr>\n",
       "  </thead>\n",
       "  <tbody>\n",
       "    <tr>\n",
       "      <th>281025</th>\n",
       "      <td>calvinistischer</td>\n",
       "      <td>calvinistischer</td>\n",
       "      <td>LEX_A</td>\n",
       "      <td>LEX_A</td>\n",
       "      <td>lgw2hnfcZO</td>\n",
       "      <td></td>\n",
       "      <td></td>\n",
       "      <td>Deklinierte_Form</td>\n",
       "      <td>1.340219</td>\n",
       "      <td>calvinistisch</td>\n",
       "      <td>calvinistisch</td>\n",
       "      <td>calvinistisch</td>\n",
       "      <td>A</td>\n",
       "    </tr>\n",
       "    <tr>\n",
       "      <th>281026</th>\n",
       "      <td>calvinistischer_1</td>\n",
       "      <td>calvinistischer</td>\n",
       "      <td>LEX_A</td>\n",
       "      <td>LEX_A</td>\n",
       "      <td>INGP8W2kSo</td>\n",
       "      <td></td>\n",
       "      <td></td>\n",
       "      <td>Komparativ Adjektiv</td>\n",
       "      <td>0.714286</td>\n",
       "      <td>calvinistisch</td>\n",
       "      <td>calvinistisch</td>\n",
       "      <td>calvinistisch</td>\n",
       "      <td>A</td>\n",
       "    </tr>\n",
       "    <tr>\n",
       "      <th>281027</th>\n",
       "      <td>calvinistischste</td>\n",
       "      <td>calvinistischste</td>\n",
       "      <td>LEX_A</td>\n",
       "      <td>LEX_A</td>\n",
       "      <td>jsmBpF75kG</td>\n",
       "      <td></td>\n",
       "      <td></td>\n",
       "      <td>Deklinierte_Form</td>\n",
       "      <td>1.936817</td>\n",
       "      <td>calvinistisch</td>\n",
       "      <td>calvinistisch</td>\n",
       "      <td>calvinistisch</td>\n",
       "      <td>A</td>\n",
       "    </tr>\n",
       "    <tr>\n",
       "      <th>281028</th>\n",
       "      <td>calvinistischstes</td>\n",
       "      <td>calvinistischstes</td>\n",
       "      <td>LEX_A</td>\n",
       "      <td>LEX_A</td>\n",
       "      <td>pciCr0S6yo</td>\n",
       "      <td></td>\n",
       "      <td></td>\n",
       "      <td>Deklinierte_Form</td>\n",
       "      <td>1.264885</td>\n",
       "      <td>calvinistisch</td>\n",
       "      <td>calvinistisch</td>\n",
       "      <td>calvinistisch</td>\n",
       "      <td>A</td>\n",
       "    </tr>\n",
       "    <tr>\n",
       "      <th>281029</th>\n",
       "      <td>calvinistischster</td>\n",
       "      <td>calvinistischster</td>\n",
       "      <td>LEX_A</td>\n",
       "      <td>LEX_A</td>\n",
       "      <td>GfkXaeuibx</td>\n",
       "      <td></td>\n",
       "      <td></td>\n",
       "      <td>Deklinierte_Form</td>\n",
       "      <td>1.393682</td>\n",
       "      <td>calvinistisch</td>\n",
       "      <td>calvinistisch</td>\n",
       "      <td>calvinistisch</td>\n",
       "      <td>A</td>\n",
       "    </tr>\n",
       "    <tr>\n",
       "      <th>281030</th>\n",
       "      <td>calvinistischsten</td>\n",
       "      <td>calvinistischsten</td>\n",
       "      <td>LEX_A</td>\n",
       "      <td>LEX_A</td>\n",
       "      <td>MjTbURC5Hq</td>\n",
       "      <td></td>\n",
       "      <td></td>\n",
       "      <td>Deklinierte_Form</td>\n",
       "      <td>2.281895</td>\n",
       "      <td>calvinistisch</td>\n",
       "      <td>calvinistisch</td>\n",
       "      <td>calvinistisch</td>\n",
       "      <td>A</td>\n",
       "    </tr>\n",
       "    <tr>\n",
       "      <th>281031</th>\n",
       "      <td>calvinistischsten_1</td>\n",
       "      <td>calvinistischsten</td>\n",
       "      <td>LEX_A</td>\n",
       "      <td>LEX_A</td>\n",
       "      <td>aRysRy1rJL</td>\n",
       "      <td></td>\n",
       "      <td></td>\n",
       "      <td>Superlativ Adjektiv</td>\n",
       "      <td>0.765306</td>\n",
       "      <td>calvinistisch</td>\n",
       "      <td>calvinistisch</td>\n",
       "      <td>calvinistisch</td>\n",
       "      <td>A</td>\n",
       "    </tr>\n",
       "    <tr>\n",
       "      <th>281032</th>\n",
       "      <td>calvinistischstem</td>\n",
       "      <td>calvinistischstem</td>\n",
       "      <td>LEX_A</td>\n",
       "      <td>LEX_A</td>\n",
       "      <td>E9MhwEUhUa</td>\n",
       "      <td></td>\n",
       "      <td></td>\n",
       "      <td>Deklinierte_Form</td>\n",
       "      <td>0.991837</td>\n",
       "      <td>calvinistisch</td>\n",
       "      <td>calvinistisch</td>\n",
       "      <td>calvinistisch</td>\n",
       "      <td>A</td>\n",
       "    </tr>\n",
       "    <tr>\n",
       "      <th>281033</th>\n",
       "      <td>calvinistischere</td>\n",
       "      <td>calvinistischere</td>\n",
       "      <td>LEX_A</td>\n",
       "      <td>LEX_A</td>\n",
       "      <td>3qCZsPVlKI</td>\n",
       "      <td></td>\n",
       "      <td></td>\n",
       "      <td>Deklinierte_Form</td>\n",
       "      <td>1.938032</td>\n",
       "      <td>calvinistisch</td>\n",
       "      <td>calvinistisch</td>\n",
       "      <td>calvinistisch</td>\n",
       "      <td>A</td>\n",
       "    </tr>\n",
       "    <tr>\n",
       "      <th>281034</th>\n",
       "      <td>calvinistischeres</td>\n",
       "      <td>calvinistischeres</td>\n",
       "      <td>LEX_A</td>\n",
       "      <td>LEX_A</td>\n",
       "      <td>8RQSTrdhKW</td>\n",
       "      <td></td>\n",
       "      <td></td>\n",
       "      <td>Deklinierte_Form</td>\n",
       "      <td>1.266100</td>\n",
       "      <td>calvinistisch</td>\n",
       "      <td>calvinistisch</td>\n",
       "      <td>calvinistisch</td>\n",
       "      <td>A</td>\n",
       "    </tr>\n",
       "    <tr>\n",
       "      <th>281035</th>\n",
       "      <td>calvinistischerer</td>\n",
       "      <td>calvinistischerer</td>\n",
       "      <td>LEX_A</td>\n",
       "      <td>LEX_A</td>\n",
       "      <td>GyyHyISKPX</td>\n",
       "      <td></td>\n",
       "      <td></td>\n",
       "      <td>Deklinierte_Form</td>\n",
       "      <td>1.394897</td>\n",
       "      <td>calvinistisch</td>\n",
       "      <td>calvinistisch</td>\n",
       "      <td>calvinistisch</td>\n",
       "      <td>A</td>\n",
       "    </tr>\n",
       "    <tr>\n",
       "      <th>281036</th>\n",
       "      <td>calvinistischeren</td>\n",
       "      <td>calvinistischeren</td>\n",
       "      <td>LEX_A</td>\n",
       "      <td>LEX_A</td>\n",
       "      <td>CENeeaolII</td>\n",
       "      <td></td>\n",
       "      <td></td>\n",
       "      <td>Deklinierte_Form</td>\n",
       "      <td>2.340219</td>\n",
       "      <td>calvinistisch</td>\n",
       "      <td>calvinistisch</td>\n",
       "      <td>calvinistisch</td>\n",
       "      <td>A</td>\n",
       "    </tr>\n",
       "    <tr>\n",
       "      <th>281037</th>\n",
       "      <td>calvinistischerem</td>\n",
       "      <td>calvinistischerem</td>\n",
       "      <td>LEX_A</td>\n",
       "      <td>LEX_A</td>\n",
       "      <td>i6bW1wNSbD</td>\n",
       "      <td></td>\n",
       "      <td></td>\n",
       "      <td>Deklinierte_Form</td>\n",
       "      <td>0.993878</td>\n",
       "      <td>calvinistisch</td>\n",
       "      <td>calvinistisch</td>\n",
       "      <td>calvinistisch</td>\n",
       "      <td>A</td>\n",
       "    </tr>\n",
       "    <tr>\n",
       "      <th>281038</th>\n",
       "      <td>calvinistische</td>\n",
       "      <td>calvinistische</td>\n",
       "      <td>LEX_A</td>\n",
       "      <td>LEX_A</td>\n",
       "      <td>uTxMfFjZjD</td>\n",
       "      <td></td>\n",
       "      <td></td>\n",
       "      <td>Deklinierte_Form</td>\n",
       "      <td>1.891859</td>\n",
       "      <td>calvinistisch</td>\n",
       "      <td>calvinistisch</td>\n",
       "      <td>calvinistisch</td>\n",
       "      <td>A</td>\n",
       "    </tr>\n",
       "    <tr>\n",
       "      <th>281039</th>\n",
       "      <td>calvinistisches</td>\n",
       "      <td>calvinistisches</td>\n",
       "      <td>LEX_A</td>\n",
       "      <td>LEX_A</td>\n",
       "      <td>LTketE3ebV</td>\n",
       "      <td></td>\n",
       "      <td></td>\n",
       "      <td>Deklinierte_Form</td>\n",
       "      <td>1.238153</td>\n",
       "      <td>calvinistisch</td>\n",
       "      <td>calvinistisch</td>\n",
       "      <td>calvinistisch</td>\n",
       "      <td>A</td>\n",
       "    </tr>\n",
       "    <tr>\n",
       "      <th>281040</th>\n",
       "      <td>calvinistischen</td>\n",
       "      <td>calvinistischen</td>\n",
       "      <td>LEX_A</td>\n",
       "      <td>LEX_A</td>\n",
       "      <td>VM33iNP0Ya</td>\n",
       "      <td></td>\n",
       "      <td></td>\n",
       "      <td>Deklinierte_Form</td>\n",
       "      <td>2.283111</td>\n",
       "      <td>calvinistisch</td>\n",
       "      <td>calvinistisch</td>\n",
       "      <td>calvinistisch</td>\n",
       "      <td>A</td>\n",
       "    </tr>\n",
       "    <tr>\n",
       "      <th>281041</th>\n",
       "      <td>calvinistischem</td>\n",
       "      <td>calvinistischem</td>\n",
       "      <td>LEX_A</td>\n",
       "      <td>LEX_A</td>\n",
       "      <td>5qLdNCprVq</td>\n",
       "      <td></td>\n",
       "      <td></td>\n",
       "      <td>Deklinierte_Form</td>\n",
       "      <td>0.959184</td>\n",
       "      <td>calvinistisch</td>\n",
       "      <td>calvinistisch</td>\n",
       "      <td>calvinistisch</td>\n",
       "      <td>A</td>\n",
       "    </tr>\n",
       "    <tr>\n",
       "      <th>281103</th>\n",
       "      <td>kalvinistischsten</td>\n",
       "      <td>kalvinistischsten</td>\n",
       "      <td>LEX_A</td>\n",
       "      <td>LEX_A</td>\n",
       "      <td>00ocFjdZ25</td>\n",
       "      <td></td>\n",
       "      <td></td>\n",
       "      <td>Deklinierte_Form</td>\n",
       "      <td>2.207777</td>\n",
       "      <td>calvinistischsten</td>\n",
       "      <td>kalvinistisch</td>\n",
       "      <td>kalvinistisch</td>\n",
       "      <td>A</td>\n",
       "    </tr>\n",
       "    <tr>\n",
       "      <th>281104</th>\n",
       "      <td>kalvinistischsten_1</td>\n",
       "      <td>kalvinistischsten</td>\n",
       "      <td>LEX_A</td>\n",
       "      <td>LEX_A</td>\n",
       "      <td>FUTCY0ysRx</td>\n",
       "      <td></td>\n",
       "      <td></td>\n",
       "      <td>Superlativ Adjektiv</td>\n",
       "      <td>0.640816</td>\n",
       "      <td>calvinistischsten</td>\n",
       "      <td>kalvinistisch</td>\n",
       "      <td>kalvinistisch</td>\n",
       "      <td>A</td>\n",
       "    </tr>\n",
       "  </tbody>\n",
       "</table>\n",
       "</div>"
      ],
      "text/plain": [
       "                 nolemma_id               data    tag  tag_0       tag_1 tagZ  \\\n",
       "281025      calvinistischer    calvinistischer  LEX_A  LEX_A  lgw2hnfcZO        \n",
       "281026    calvinistischer_1    calvinistischer  LEX_A  LEX_A  INGP8W2kSo        \n",
       "281027     calvinistischste   calvinistischste  LEX_A  LEX_A  jsmBpF75kG        \n",
       "281028    calvinistischstes  calvinistischstes  LEX_A  LEX_A  pciCr0S6yo        \n",
       "281029    calvinistischster  calvinistischster  LEX_A  LEX_A  GfkXaeuibx        \n",
       "281030    calvinistischsten  calvinistischsten  LEX_A  LEX_A  MjTbURC5Hq        \n",
       "281031  calvinistischsten_1  calvinistischsten  LEX_A  LEX_A  aRysRy1rJL        \n",
       "281032    calvinistischstem  calvinistischstem  LEX_A  LEX_A  E9MhwEUhUa        \n",
       "281033     calvinistischere   calvinistischere  LEX_A  LEX_A  3qCZsPVlKI        \n",
       "281034    calvinistischeres  calvinistischeres  LEX_A  LEX_A  8RQSTrdhKW        \n",
       "281035    calvinistischerer  calvinistischerer  LEX_A  LEX_A  GyyHyISKPX        \n",
       "281036    calvinistischeren  calvinistischeren  LEX_A  LEX_A  CENeeaolII        \n",
       "281037    calvinistischerem  calvinistischerem  LEX_A  LEX_A  i6bW1wNSbD        \n",
       "281038       calvinistische     calvinistische  LEX_A  LEX_A  uTxMfFjZjD        \n",
       "281039      calvinistisches    calvinistisches  LEX_A  LEX_A  LTketE3ebV        \n",
       "281040      calvinistischen    calvinistischen  LEX_A  LEX_A  VM33iNP0Ya        \n",
       "281041      calvinistischem    calvinistischem  LEX_A  LEX_A  5qLdNCprVq        \n",
       "281103    kalvinistischsten  kalvinistischsten  LEX_A  LEX_A  00ocFjdZ25        \n",
       "281104  kalvinistischsten_1  kalvinistischsten  LEX_A  LEX_A  FUTCY0ysRx        \n",
       "\n",
       "       tagZZ               member     score           lemma_id          lemma  \\\n",
       "281025           Deklinierte_Form  1.340219      calvinistisch  calvinistisch   \n",
       "281026        Komparativ Adjektiv  0.714286      calvinistisch  calvinistisch   \n",
       "281027           Deklinierte_Form  1.936817      calvinistisch  calvinistisch   \n",
       "281028           Deklinierte_Form  1.264885      calvinistisch  calvinistisch   \n",
       "281029           Deklinierte_Form  1.393682      calvinistisch  calvinistisch   \n",
       "281030           Deklinierte_Form  2.281895      calvinistisch  calvinistisch   \n",
       "281031        Superlativ Adjektiv  0.765306      calvinistisch  calvinistisch   \n",
       "281032           Deklinierte_Form  0.991837      calvinistisch  calvinistisch   \n",
       "281033           Deklinierte_Form  1.938032      calvinistisch  calvinistisch   \n",
       "281034           Deklinierte_Form  1.266100      calvinistisch  calvinistisch   \n",
       "281035           Deklinierte_Form  1.394897      calvinistisch  calvinistisch   \n",
       "281036           Deklinierte_Form  2.340219      calvinistisch  calvinistisch   \n",
       "281037           Deklinierte_Form  0.993878      calvinistisch  calvinistisch   \n",
       "281038           Deklinierte_Form  1.891859      calvinistisch  calvinistisch   \n",
       "281039           Deklinierte_Form  1.238153      calvinistisch  calvinistisch   \n",
       "281040           Deklinierte_Form  2.283111      calvinistisch  calvinistisch   \n",
       "281041           Deklinierte_Form  0.959184      calvinistisch  calvinistisch   \n",
       "281103           Deklinierte_Form  2.207777  calvinistischsten  kalvinistisch   \n",
       "281104        Superlativ Adjektiv  0.640816  calvinistischsten  kalvinistisch   \n",
       "\n",
       "          lemma_lower lemma_tagZZ  \n",
       "281025  calvinistisch           A  \n",
       "281026  calvinistisch           A  \n",
       "281027  calvinistisch           A  \n",
       "281028  calvinistisch           A  \n",
       "281029  calvinistisch           A  \n",
       "281030  calvinistisch           A  \n",
       "281031  calvinistisch           A  \n",
       "281032  calvinistisch           A  \n",
       "281033  calvinistisch           A  \n",
       "281034  calvinistisch           A  \n",
       "281035  calvinistisch           A  \n",
       "281036  calvinistisch           A  \n",
       "281037  calvinistisch           A  \n",
       "281038  calvinistisch           A  \n",
       "281039  calvinistisch           A  \n",
       "281040  calvinistisch           A  \n",
       "281041  calvinistisch           A  \n",
       "281103  kalvinistisch           A  \n",
       "281104  kalvinistisch           A  "
      ]
     },
     "execution_count": 20,
     "metadata": {},
     "output_type": "execute_result"
    }
   ],
   "source": [
    "# translate_lex suche_debug\n",
    "grid(search_str(translate_lex, suche_debug))"
   ]
  },
  {
   "cell_type": "code",
   "execution_count": 21,
   "id": "cd626516-1989-4017-8324-e546b3093b03",
   "metadata": {
    "execution": {
     "iopub.execute_input": "2023-02-25T11:39:49.014917Z",
     "iopub.status.busy": "2023-02-25T11:39:49.014544Z",
     "iopub.status.idle": "2023-02-25T11:39:49.516829Z",
     "shell.execute_reply": "2023-02-25T11:39:49.516132Z",
     "shell.execute_reply.started": "2023-02-25T11:39:49.014881Z"
    }
   },
   "outputs": [
    {
     "name": "stdout",
     "output_type": "stream",
     "text": [
      "23 rows\n"
     ]
    },
    {
     "data": {
      "text/html": [
       "<div>\n",
       "<style scoped>\n",
       "    .dataframe tbody tr th:only-of-type {\n",
       "        vertical-align: middle;\n",
       "    }\n",
       "\n",
       "    .dataframe tbody tr th {\n",
       "        vertical-align: top;\n",
       "    }\n",
       "\n",
       "    .dataframe thead th {\n",
       "        text-align: right;\n",
       "    }\n",
       "</style>\n",
       "<table border=\"1\" class=\"dataframe\">\n",
       "  <thead>\n",
       "    <tr style=\"text-align: right;\">\n",
       "      <th></th>\n",
       "      <th>lemma_id</th>\n",
       "      <th>merkmal</th>\n",
       "      <th>data_id</th>\n",
       "      <th>data</th>\n",
       "      <th>data_tag</th>\n",
       "      <th>lemma_tag</th>\n",
       "      <th>num</th>\n",
       "      <th>meta</th>\n",
       "      <th>score</th>\n",
       "      <th>is_lex</th>\n",
       "    </tr>\n",
       "  </thead>\n",
       "  <tbody>\n",
       "    <tr>\n",
       "      <th>3161411</th>\n",
       "      <td>calvinistisch</td>\n",
       "      <td>Komparativ</td>\n",
       "      <td>calvinistischer</td>\n",
       "      <td>calvinistischer</td>\n",
       "      <td></td>\n",
       "      <td>ADJA</td>\n",
       "      <td></td>\n",
       "      <td></td>\n",
       "      <td>7.00486</td>\n",
       "      <td>True</td>\n",
       "    </tr>\n",
       "    <tr>\n",
       "      <th>3145845</th>\n",
       "      <td>calvinistisch</td>\n",
       "      <td>Positiv</td>\n",
       "      <td>calvinistisch</td>\n",
       "      <td>calvinistisch</td>\n",
       "      <td></td>\n",
       "      <td>ADJA</td>\n",
       "      <td></td>\n",
       "      <td></td>\n",
       "      <td>7.00486</td>\n",
       "      <td>True</td>\n",
       "    </tr>\n",
       "    <tr>\n",
       "      <th>3179604</th>\n",
       "      <td>calvinistisch</td>\n",
       "      <td>Superlativ</td>\n",
       "      <td>calvinistischsten</td>\n",
       "      <td>calvinistischsten</td>\n",
       "      <td></td>\n",
       "      <td>ADJA</td>\n",
       "      <td></td>\n",
       "      <td></td>\n",
       "      <td>7.00486</td>\n",
       "      <td>True</td>\n",
       "    </tr>\n",
       "    <tr>\n",
       "      <th>1069863</th>\n",
       "      <td>calvinistisch</td>\n",
       "      <td>alt</td>\n",
       "      <td>calvinistisch~kalvinistisch</td>\n",
       "      <td>kalvinistisch</td>\n",
       "      <td></td>\n",
       "      <td>ADJA</td>\n",
       "      <td></td>\n",
       "      <td></td>\n",
       "      <td>7.00486</td>\n",
       "      <td>True</td>\n",
       "    </tr>\n",
       "    <tr>\n",
       "      <th>1069847</th>\n",
       "      <td>calvinistisch</td>\n",
       "      <td>def</td>\n",
       "      <td>Calvinismus</td>\n",
       "      <td>Calvinismus</td>\n",
       "      <td></td>\n",
       "      <td>ADJA</td>\n",
       "      <td>1</td>\n",
       "      <td></td>\n",
       "      <td>7.00486</td>\n",
       "      <td>False</td>\n",
       "    </tr>\n",
       "    <tr>\n",
       "      <th>1069850</th>\n",
       "      <td>calvinistisch</td>\n",
       "      <td>gegen</td>\n",
       "      <td>buddhistisch</td>\n",
       "      <td>buddhistisch</td>\n",
       "      <td></td>\n",
       "      <td>ADJA</td>\n",
       "      <td>1</td>\n",
       "      <td></td>\n",
       "      <td>7.00486</td>\n",
       "      <td>False</td>\n",
       "    </tr>\n",
       "    <tr>\n",
       "      <th>1069851</th>\n",
       "      <td>calvinistisch</td>\n",
       "      <td>gegen</td>\n",
       "      <td>hinduistisch</td>\n",
       "      <td>hinduistisch</td>\n",
       "      <td></td>\n",
       "      <td>ADJA</td>\n",
       "      <td>1</td>\n",
       "      <td></td>\n",
       "      <td>7.00486</td>\n",
       "      <td>False</td>\n",
       "    </tr>\n",
       "    <tr>\n",
       "      <th>1069852</th>\n",
       "      <td>calvinistisch</td>\n",
       "      <td>gegen</td>\n",
       "      <td>islamisch</td>\n",
       "      <td>islamisch</td>\n",
       "      <td></td>\n",
       "      <td>ADJA</td>\n",
       "      <td>1</td>\n",
       "      <td></td>\n",
       "      <td>7.00486</td>\n",
       "      <td>False</td>\n",
       "    </tr>\n",
       "    <tr>\n",
       "      <th>1069853</th>\n",
       "      <td>calvinistisch</td>\n",
       "      <td>gegen</td>\n",
       "      <td>jüdisch</td>\n",
       "      <td>jüdisch</td>\n",
       "      <td></td>\n",
       "      <td>ADJA</td>\n",
       "      <td>1</td>\n",
       "      <td></td>\n",
       "      <td>7.00486</td>\n",
       "      <td>False</td>\n",
       "    </tr>\n",
       "    <tr>\n",
       "      <th>1069854</th>\n",
       "      <td>calvinistisch</td>\n",
       "      <td>gegen</td>\n",
       "      <td>katholisch</td>\n",
       "      <td>katholisch</td>\n",
       "      <td></td>\n",
       "      <td>ADJA</td>\n",
       "      <td>1</td>\n",
       "      <td></td>\n",
       "      <td>7.00486</td>\n",
       "      <td>False</td>\n",
       "    </tr>\n",
       "    <tr>\n",
       "      <th>1069855</th>\n",
       "      <td>calvinistisch</td>\n",
       "      <td>gegen</td>\n",
       "      <td>konfuzianisch</td>\n",
       "      <td>konfuzianisch</td>\n",
       "      <td></td>\n",
       "      <td>ADJA</td>\n",
       "      <td>1</td>\n",
       "      <td></td>\n",
       "      <td>7.00486</td>\n",
       "      <td>False</td>\n",
       "    </tr>\n",
       "    <tr>\n",
       "      <th>1069856</th>\n",
       "      <td>calvinistisch</td>\n",
       "      <td>gegen</td>\n",
       "      <td>koptisch</td>\n",
       "      <td>koptisch</td>\n",
       "      <td></td>\n",
       "      <td>ADJA</td>\n",
       "      <td>1</td>\n",
       "      <td></td>\n",
       "      <td>7.00486</td>\n",
       "      <td>False</td>\n",
       "    </tr>\n",
       "    <tr>\n",
       "      <th>1069857</th>\n",
       "      <td>calvinistisch</td>\n",
       "      <td>gegen</td>\n",
       "      <td>muslimisch</td>\n",
       "      <td>muslimisch</td>\n",
       "      <td></td>\n",
       "      <td>ADJA</td>\n",
       "      <td>1</td>\n",
       "      <td></td>\n",
       "      <td>7.00486</td>\n",
       "      <td>False</td>\n",
       "    </tr>\n",
       "    <tr>\n",
       "      <th>1069860</th>\n",
       "      <td>calvinistisch</td>\n",
       "      <td>gegen</td>\n",
       "      <td>orthodox</td>\n",
       "      <td>orthodox</td>\n",
       "      <td></td>\n",
       "      <td>ADJA</td>\n",
       "      <td>1</td>\n",
       "      <td></td>\n",
       "      <td>7.00486</td>\n",
       "      <td>False</td>\n",
       "    </tr>\n",
       "    <tr>\n",
       "      <th>1069858</th>\n",
       "      <td>calvinistisch</td>\n",
       "      <td>gegen</td>\n",
       "      <td>schiitisch</td>\n",
       "      <td>schiitisch</td>\n",
       "      <td></td>\n",
       "      <td>ADJA</td>\n",
       "      <td>1</td>\n",
       "      <td></td>\n",
       "      <td>7.00486</td>\n",
       "      <td>False</td>\n",
       "    </tr>\n",
       "    <tr>\n",
       "      <th>1069861</th>\n",
       "      <td>calvinistisch</td>\n",
       "      <td>gegen</td>\n",
       "      <td>schintoistisch</td>\n",
       "      <td>schintoistisch</td>\n",
       "      <td></td>\n",
       "      <td>ADJA</td>\n",
       "      <td>1</td>\n",
       "      <td></td>\n",
       "      <td>7.00486</td>\n",
       "      <td>False</td>\n",
       "    </tr>\n",
       "    <tr>\n",
       "      <th>1069859</th>\n",
       "      <td>calvinistisch</td>\n",
       "      <td>gegen</td>\n",
       "      <td>sunnitisch</td>\n",
       "      <td>sunnitisch</td>\n",
       "      <td></td>\n",
       "      <td>ADJA</td>\n",
       "      <td>1</td>\n",
       "      <td></td>\n",
       "      <td>7.00486</td>\n",
       "      <td>False</td>\n",
       "    </tr>\n",
       "    <tr>\n",
       "      <th>3368963</th>\n",
       "      <td>calvinistisch</td>\n",
       "      <td>ipa</td>\n",
       "      <td></td>\n",
       "      <td>kalviˈnɪstɪʃ</td>\n",
       "      <td></td>\n",
       "      <td>ADJA</td>\n",
       "      <td></td>\n",
       "      <td></td>\n",
       "      <td>7.00486</td>\n",
       "      <td>False</td>\n",
       "    </tr>\n",
       "    <tr>\n",
       "      <th>1069848</th>\n",
       "      <td>calvinistisch</td>\n",
       "      <td>lateral</td>\n",
       "      <td>evangelisch</td>\n",
       "      <td>evangelisch</td>\n",
       "      <td></td>\n",
       "      <td>ADJA</td>\n",
       "      <td>1</td>\n",
       "      <td></td>\n",
       "      <td>7.00486</td>\n",
       "      <td>False</td>\n",
       "    </tr>\n",
       "    <tr>\n",
       "      <th>1069849</th>\n",
       "      <td>calvinistisch</td>\n",
       "      <td>lateral</td>\n",
       "      <td>protestantisch</td>\n",
       "      <td>protestantisch</td>\n",
       "      <td></td>\n",
       "      <td>ADJA</td>\n",
       "      <td>1</td>\n",
       "      <td></td>\n",
       "      <td>7.00486</td>\n",
       "      <td>False</td>\n",
       "    </tr>\n",
       "    <tr>\n",
       "      <th>2099712</th>\n",
       "      <td>calvinistisch</td>\n",
       "      <td>rhymes</td>\n",
       "      <td></td>\n",
       "      <td>ɪstɪʃ</td>\n",
       "      <td></td>\n",
       "      <td>ADJA</td>\n",
       "      <td></td>\n",
       "      <td></td>\n",
       "      <td>7.00486</td>\n",
       "      <td>False</td>\n",
       "    </tr>\n",
       "    <tr>\n",
       "      <th>4499577</th>\n",
       "      <td>calvinistisch</td>\n",
       "      <td>syllables</td>\n",
       "      <td></td>\n",
       "      <td>cal⇀vi⇀nis⇀tisch</td>\n",
       "      <td></td>\n",
       "      <td>ADJA</td>\n",
       "      <td></td>\n",
       "      <td></td>\n",
       "      <td>7.00486</td>\n",
       "      <td>False</td>\n",
       "    </tr>\n",
       "    <tr>\n",
       "      <th>1069862</th>\n",
       "      <td>calvinistisch</td>\n",
       "      <td>up</td>\n",
       "      <td>christlich</td>\n",
       "      <td>christlich</td>\n",
       "      <td></td>\n",
       "      <td>ADJA</td>\n",
       "      <td>1</td>\n",
       "      <td></td>\n",
       "      <td>7.00486</td>\n",
       "      <td>False</td>\n",
       "    </tr>\n",
       "  </tbody>\n",
       "</table>\n",
       "</div>"
      ],
      "text/plain": [
       "              lemma_id     merkmal                      data_id  \\\n",
       "3161411  calvinistisch  Komparativ              calvinistischer   \n",
       "3145845  calvinistisch     Positiv                calvinistisch   \n",
       "3179604  calvinistisch  Superlativ            calvinistischsten   \n",
       "1069863  calvinistisch         alt  calvinistisch~kalvinistisch   \n",
       "1069847  calvinistisch         def                  Calvinismus   \n",
       "1069850  calvinistisch       gegen                 buddhistisch   \n",
       "1069851  calvinistisch       gegen                 hinduistisch   \n",
       "1069852  calvinistisch       gegen                    islamisch   \n",
       "1069853  calvinistisch       gegen                      jüdisch   \n",
       "1069854  calvinistisch       gegen                   katholisch   \n",
       "1069855  calvinistisch       gegen                konfuzianisch   \n",
       "1069856  calvinistisch       gegen                     koptisch   \n",
       "1069857  calvinistisch       gegen                   muslimisch   \n",
       "1069860  calvinistisch       gegen                     orthodox   \n",
       "1069858  calvinistisch       gegen                   schiitisch   \n",
       "1069861  calvinistisch       gegen               schintoistisch   \n",
       "1069859  calvinistisch       gegen                   sunnitisch   \n",
       "3368963  calvinistisch         ipa                                \n",
       "1069848  calvinistisch     lateral                  evangelisch   \n",
       "1069849  calvinistisch     lateral               protestantisch   \n",
       "2099712  calvinistisch      rhymes                                \n",
       "4499577  calvinistisch   syllables                                \n",
       "1069862  calvinistisch          up                   christlich   \n",
       "\n",
       "                      data data_tag lemma_tag num meta    score  is_lex  \n",
       "3161411    calvinistischer               ADJA           7.00486    True  \n",
       "3145845      calvinistisch               ADJA           7.00486    True  \n",
       "3179604  calvinistischsten               ADJA           7.00486    True  \n",
       "1069863      kalvinistisch               ADJA           7.00486    True  \n",
       "1069847        Calvinismus               ADJA   1       7.00486   False  \n",
       "1069850       buddhistisch               ADJA   1       7.00486   False  \n",
       "1069851       hinduistisch               ADJA   1       7.00486   False  \n",
       "1069852          islamisch               ADJA   1       7.00486   False  \n",
       "1069853            jüdisch               ADJA   1       7.00486   False  \n",
       "1069854         katholisch               ADJA   1       7.00486   False  \n",
       "1069855      konfuzianisch               ADJA   1       7.00486   False  \n",
       "1069856           koptisch               ADJA   1       7.00486   False  \n",
       "1069857         muslimisch               ADJA   1       7.00486   False  \n",
       "1069860           orthodox               ADJA   1       7.00486   False  \n",
       "1069858         schiitisch               ADJA   1       7.00486   False  \n",
       "1069861     schintoistisch               ADJA   1       7.00486   False  \n",
       "1069859         sunnitisch               ADJA   1       7.00486   False  \n",
       "3368963       kalviˈnɪstɪʃ               ADJA           7.00486   False  \n",
       "1069848        evangelisch               ADJA   1       7.00486   False  \n",
       "1069849     protestantisch               ADJA   1       7.00486   False  \n",
       "2099712              ɪstɪʃ               ADJA           7.00486   False  \n",
       "4499577   cal⇀vi⇀nis⇀tisch               ADJA           7.00486   False  \n",
       "1069862         christlich               ADJA   1       7.00486   False  "
      ]
     },
     "execution_count": 21,
     "metadata": {},
     "output_type": "execute_result"
    }
   ],
   "source": [
    "# wiktionary_merkmal\n",
    "mask = wiktionary_merkmal.lemma_id == suche_debug[0]\n",
    "a = wiktionary_merkmal[mask].sort_values(['merkmal','lemma_id','data'])\n",
    "grid(a)"
   ]
  },
  {
   "cell_type": "code",
   "execution_count": 22,
   "id": "21946cba-f0d5-4ae8-a0f2-7b96f25567cd",
   "metadata": {
    "execution": {
     "iopub.execute_input": "2023-02-25T11:39:49.517813Z",
     "iopub.status.busy": "2023-02-25T11:39:49.517582Z",
     "iopub.status.idle": "2023-02-25T11:39:49.892303Z",
     "shell.execute_reply": "2023-02-25T11:39:49.891637Z",
     "shell.execute_reply.started": "2023-02-25T11:39:49.517791Z"
    }
   },
   "outputs": [
    {
     "name": "stdout",
     "output_type": "stream",
     "text": [
      "26 rows\n"
     ]
    },
    {
     "data": {
      "text/html": [
       "<div>\n",
       "<style scoped>\n",
       "    .dataframe tbody tr th:only-of-type {\n",
       "        vertical-align: middle;\n",
       "    }\n",
       "\n",
       "    .dataframe tbody tr th {\n",
       "        vertical-align: top;\n",
       "    }\n",
       "\n",
       "    .dataframe thead th {\n",
       "        text-align: right;\n",
       "    }\n",
       "</style>\n",
       "<table border=\"1\" class=\"dataframe\">\n",
       "  <thead>\n",
       "    <tr style=\"text-align: right;\">\n",
       "      <th></th>\n",
       "      <th>lemma_id</th>\n",
       "      <th>merkmal</th>\n",
       "      <th>data_id</th>\n",
       "      <th>data</th>\n",
       "      <th>data_tag</th>\n",
       "      <th>lemma_tag</th>\n",
       "      <th>num</th>\n",
       "      <th>meta</th>\n",
       "      <th>score</th>\n",
       "      <th>is_lex</th>\n",
       "    </tr>\n",
       "  </thead>\n",
       "  <tbody>\n",
       "    <tr>\n",
       "      <th>3145845</th>\n",
       "      <td>calvinistisch</td>\n",
       "      <td>Positiv</td>\n",
       "      <td>calvinistisch</td>\n",
       "      <td>calvinistisch</td>\n",
       "      <td></td>\n",
       "      <td>ADJA</td>\n",
       "      <td></td>\n",
       "      <td></td>\n",
       "      <td>7.004860</td>\n",
       "      <td>True</td>\n",
       "    </tr>\n",
       "    <tr>\n",
       "      <th>1069863</th>\n",
       "      <td>calvinistisch</td>\n",
       "      <td>alt</td>\n",
       "      <td>calvinistisch~kalvinistisch</td>\n",
       "      <td>kalvinistisch</td>\n",
       "      <td></td>\n",
       "      <td>ADJA</td>\n",
       "      <td></td>\n",
       "      <td></td>\n",
       "      <td>7.004860</td>\n",
       "      <td>True</td>\n",
       "    </tr>\n",
       "    <tr>\n",
       "      <th>263354</th>\n",
       "      <td>Hugenotte</td>\n",
       "      <td>def</td>\n",
       "      <td>calvinistisch</td>\n",
       "      <td>calvinistisch</td>\n",
       "      <td></td>\n",
       "      <td>NN</td>\n",
       "      <td>1</td>\n",
       "      <td>Historie</td>\n",
       "      <td>12.213852</td>\n",
       "      <td>False</td>\n",
       "    </tr>\n",
       "    <tr>\n",
       "      <th>906929</th>\n",
       "      <td>Calvinist</td>\n",
       "      <td>familie</td>\n",
       "      <td>calvinistisch</td>\n",
       "      <td>calvinistisch</td>\n",
       "      <td></td>\n",
       "      <td>NN</td>\n",
       "      <td></td>\n",
       "      <td></td>\n",
       "      <td>7.314703</td>\n",
       "      <td>False</td>\n",
       "    </tr>\n",
       "    <tr>\n",
       "      <th>362629</th>\n",
       "      <td>Calvinismus</td>\n",
       "      <td>familie_1</td>\n",
       "      <td>calvinistisch</td>\n",
       "      <td>calvinistisch</td>\n",
       "      <td></td>\n",
       "      <td>NN</td>\n",
       "      <td></td>\n",
       "      <td></td>\n",
       "      <td>8.583232</td>\n",
       "      <td>False</td>\n",
       "    </tr>\n",
       "    <tr>\n",
       "      <th>1069891</th>\n",
       "      <td>calvinistische</td>\n",
       "      <td>gm</td>\n",
       "      <td>calvinistisch</td>\n",
       "      <td>calvinistisch</td>\n",
       "      <td></td>\n",
       "      <td></td>\n",
       "      <td></td>\n",
       "      <td></td>\n",
       "      <td>1.891859</td>\n",
       "      <td>False</td>\n",
       "    </tr>\n",
       "    <tr>\n",
       "      <th>1069897</th>\n",
       "      <td>calvinistischem</td>\n",
       "      <td>gm</td>\n",
       "      <td>calvinistisch</td>\n",
       "      <td>calvinistisch</td>\n",
       "      <td></td>\n",
       "      <td></td>\n",
       "      <td></td>\n",
       "      <td></td>\n",
       "      <td>0.959184</td>\n",
       "      <td>False</td>\n",
       "    </tr>\n",
       "    <tr>\n",
       "      <th>1069895</th>\n",
       "      <td>calvinistischen</td>\n",
       "      <td>gm</td>\n",
       "      <td>calvinistisch</td>\n",
       "      <td>calvinistisch</td>\n",
       "      <td></td>\n",
       "      <td></td>\n",
       "      <td></td>\n",
       "      <td></td>\n",
       "      <td>2.283111</td>\n",
       "      <td>False</td>\n",
       "    </tr>\n",
       "    <tr>\n",
       "      <th>1069865</th>\n",
       "      <td>calvinistischer</td>\n",
       "      <td>gm</td>\n",
       "      <td>calvinistisch</td>\n",
       "      <td>calvinistisch</td>\n",
       "      <td></td>\n",
       "      <td></td>\n",
       "      <td></td>\n",
       "      <td></td>\n",
       "      <td>1.340219</td>\n",
       "      <td>False</td>\n",
       "    </tr>\n",
       "    <tr>\n",
       "      <th>1069867</th>\n",
       "      <td>calvinistischer_1</td>\n",
       "      <td>gm</td>\n",
       "      <td>calvinistisch</td>\n",
       "      <td>calvinistisch</td>\n",
       "      <td></td>\n",
       "      <td></td>\n",
       "      <td></td>\n",
       "      <td></td>\n",
       "      <td>0.714286</td>\n",
       "      <td>False</td>\n",
       "    </tr>\n",
       "    <tr>\n",
       "      <th>1069881</th>\n",
       "      <td>calvinistischere</td>\n",
       "      <td>gm</td>\n",
       "      <td>calvinistisch</td>\n",
       "      <td>calvinistisch</td>\n",
       "      <td></td>\n",
       "      <td></td>\n",
       "      <td></td>\n",
       "      <td></td>\n",
       "      <td>1.938032</td>\n",
       "      <td>False</td>\n",
       "    </tr>\n",
       "    <tr>\n",
       "      <th>1069889</th>\n",
       "      <td>calvinistischerem</td>\n",
       "      <td>gm</td>\n",
       "      <td>calvinistisch</td>\n",
       "      <td>calvinistisch</td>\n",
       "      <td></td>\n",
       "      <td></td>\n",
       "      <td></td>\n",
       "      <td></td>\n",
       "      <td>0.993878</td>\n",
       "      <td>False</td>\n",
       "    </tr>\n",
       "    <tr>\n",
       "      <th>1069887</th>\n",
       "      <td>calvinistischeren</td>\n",
       "      <td>gm</td>\n",
       "      <td>calvinistisch</td>\n",
       "      <td>calvinistisch</td>\n",
       "      <td></td>\n",
       "      <td></td>\n",
       "      <td></td>\n",
       "      <td></td>\n",
       "      <td>2.340219</td>\n",
       "      <td>False</td>\n",
       "    </tr>\n",
       "    <tr>\n",
       "      <th>1069885</th>\n",
       "      <td>calvinistischerer</td>\n",
       "      <td>gm</td>\n",
       "      <td>calvinistisch</td>\n",
       "      <td>calvinistisch</td>\n",
       "      <td></td>\n",
       "      <td></td>\n",
       "      <td></td>\n",
       "      <td></td>\n",
       "      <td>1.394897</td>\n",
       "      <td>False</td>\n",
       "    </tr>\n",
       "    <tr>\n",
       "      <th>1069883</th>\n",
       "      <td>calvinistischeres</td>\n",
       "      <td>gm</td>\n",
       "      <td>calvinistisch</td>\n",
       "      <td>calvinistisch</td>\n",
       "      <td></td>\n",
       "      <td></td>\n",
       "      <td></td>\n",
       "      <td></td>\n",
       "      <td>1.266100</td>\n",
       "      <td>False</td>\n",
       "    </tr>\n",
       "    <tr>\n",
       "      <th>1069893</th>\n",
       "      <td>calvinistisches</td>\n",
       "      <td>gm</td>\n",
       "      <td>calvinistisch</td>\n",
       "      <td>calvinistisch</td>\n",
       "      <td></td>\n",
       "      <td></td>\n",
       "      <td></td>\n",
       "      <td></td>\n",
       "      <td>1.238153</td>\n",
       "      <td>False</td>\n",
       "    </tr>\n",
       "    <tr>\n",
       "      <th>1069869</th>\n",
       "      <td>calvinistischste</td>\n",
       "      <td>gm</td>\n",
       "      <td>calvinistisch</td>\n",
       "      <td>calvinistisch</td>\n",
       "      <td></td>\n",
       "      <td></td>\n",
       "      <td></td>\n",
       "      <td></td>\n",
       "      <td>1.936817</td>\n",
       "      <td>False</td>\n",
       "    </tr>\n",
       "    <tr>\n",
       "      <th>1069879</th>\n",
       "      <td>calvinistischstem</td>\n",
       "      <td>gm</td>\n",
       "      <td>calvinistisch</td>\n",
       "      <td>calvinistisch</td>\n",
       "      <td></td>\n",
       "      <td></td>\n",
       "      <td></td>\n",
       "      <td></td>\n",
       "      <td>0.991837</td>\n",
       "      <td>False</td>\n",
       "    </tr>\n",
       "    <tr>\n",
       "      <th>1069875</th>\n",
       "      <td>calvinistischsten</td>\n",
       "      <td>gm</td>\n",
       "      <td>calvinistisch</td>\n",
       "      <td>calvinistisch</td>\n",
       "      <td></td>\n",
       "      <td></td>\n",
       "      <td></td>\n",
       "      <td></td>\n",
       "      <td>2.281895</td>\n",
       "      <td>False</td>\n",
       "    </tr>\n",
       "    <tr>\n",
       "      <th>1069877</th>\n",
       "      <td>calvinistischsten_1</td>\n",
       "      <td>gm</td>\n",
       "      <td>calvinistisch</td>\n",
       "      <td>calvinistisch</td>\n",
       "      <td></td>\n",
       "      <td></td>\n",
       "      <td></td>\n",
       "      <td></td>\n",
       "      <td>0.765306</td>\n",
       "      <td>False</td>\n",
       "    </tr>\n",
       "    <tr>\n",
       "      <th>1069873</th>\n",
       "      <td>calvinistischster</td>\n",
       "      <td>gm</td>\n",
       "      <td>calvinistisch</td>\n",
       "      <td>calvinistisch</td>\n",
       "      <td></td>\n",
       "      <td></td>\n",
       "      <td></td>\n",
       "      <td></td>\n",
       "      <td>1.393682</td>\n",
       "      <td>False</td>\n",
       "    </tr>\n",
       "    <tr>\n",
       "      <th>1069871</th>\n",
       "      <td>calvinistischstes</td>\n",
       "      <td>gm</td>\n",
       "      <td>calvinistisch</td>\n",
       "      <td>calvinistisch</td>\n",
       "      <td></td>\n",
       "      <td></td>\n",
       "      <td></td>\n",
       "      <td></td>\n",
       "      <td>1.264885</td>\n",
       "      <td>False</td>\n",
       "    </tr>\n",
       "    <tr>\n",
       "      <th>1069969</th>\n",
       "      <td>kalvinistischsten</td>\n",
       "      <td>gm</td>\n",
       "      <td>kalvinistischsten~kalvinistisch</td>\n",
       "      <td>kalvinistisch</td>\n",
       "      <td></td>\n",
       "      <td></td>\n",
       "      <td></td>\n",
       "      <td></td>\n",
       "      <td>2.207777</td>\n",
       "      <td>False</td>\n",
       "    </tr>\n",
       "    <tr>\n",
       "      <th>1069970</th>\n",
       "      <td>kalvinistischsten_1</td>\n",
       "      <td>gm</td>\n",
       "      <td>kalvinistischsten_1~kalvinistisch</td>\n",
       "      <td>kalvinistisch</td>\n",
       "      <td></td>\n",
       "      <td></td>\n",
       "      <td></td>\n",
       "      <td></td>\n",
       "      <td>0.640816</td>\n",
       "      <td>False</td>\n",
       "    </tr>\n",
       "    <tr>\n",
       "      <th>403381</th>\n",
       "      <td>Reformation</td>\n",
       "      <td>kombi</td>\n",
       "      <td>calvinistisch</td>\n",
       "      <td>calvinistisch</td>\n",
       "      <td></td>\n",
       "      <td>NN</td>\n",
       "      <td>1</td>\n",
       "      <td>Adjektiv</td>\n",
       "      <td>35.499393</td>\n",
       "      <td>False</td>\n",
       "    </tr>\n",
       "    <tr>\n",
       "      <th>868213</th>\n",
       "      <td>lutherisch</td>\n",
       "      <td>lateral</td>\n",
       "      <td>calvinistisch</td>\n",
       "      <td>calvinistisch</td>\n",
       "      <td></td>\n",
       "      <td>ADJA</td>\n",
       "      <td>1</td>\n",
       "      <td></td>\n",
       "      <td>23.229647</td>\n",
       "      <td>False</td>\n",
       "    </tr>\n",
       "  </tbody>\n",
       "</table>\n",
       "</div>"
      ],
      "text/plain": [
       "                    lemma_id    merkmal                            data_id  \\\n",
       "3145845        calvinistisch    Positiv                      calvinistisch   \n",
       "1069863        calvinistisch        alt        calvinistisch~kalvinistisch   \n",
       "263354             Hugenotte        def                      calvinistisch   \n",
       "906929             Calvinist    familie                      calvinistisch   \n",
       "362629           Calvinismus  familie_1                      calvinistisch   \n",
       "1069891       calvinistische         gm                      calvinistisch   \n",
       "1069897      calvinistischem         gm                      calvinistisch   \n",
       "1069895      calvinistischen         gm                      calvinistisch   \n",
       "1069865      calvinistischer         gm                      calvinistisch   \n",
       "1069867    calvinistischer_1         gm                      calvinistisch   \n",
       "1069881     calvinistischere         gm                      calvinistisch   \n",
       "1069889    calvinistischerem         gm                      calvinistisch   \n",
       "1069887    calvinistischeren         gm                      calvinistisch   \n",
       "1069885    calvinistischerer         gm                      calvinistisch   \n",
       "1069883    calvinistischeres         gm                      calvinistisch   \n",
       "1069893      calvinistisches         gm                      calvinistisch   \n",
       "1069869     calvinistischste         gm                      calvinistisch   \n",
       "1069879    calvinistischstem         gm                      calvinistisch   \n",
       "1069875    calvinistischsten         gm                      calvinistisch   \n",
       "1069877  calvinistischsten_1         gm                      calvinistisch   \n",
       "1069873    calvinistischster         gm                      calvinistisch   \n",
       "1069871    calvinistischstes         gm                      calvinistisch   \n",
       "1069969    kalvinistischsten         gm    kalvinistischsten~kalvinistisch   \n",
       "1069970  kalvinistischsten_1         gm  kalvinistischsten_1~kalvinistisch   \n",
       "403381           Reformation      kombi                      calvinistisch   \n",
       "868213            lutherisch    lateral                      calvinistisch   \n",
       "\n",
       "                  data data_tag lemma_tag num      meta      score  is_lex  \n",
       "3145845  calvinistisch               ADJA                 7.004860    True  \n",
       "1069863  kalvinistisch               ADJA                 7.004860    True  \n",
       "263354   calvinistisch                 NN   1  Historie  12.213852   False  \n",
       "906929   calvinistisch                 NN                 7.314703   False  \n",
       "362629   calvinistisch                 NN                 8.583232   False  \n",
       "1069891  calvinistisch                                    1.891859   False  \n",
       "1069897  calvinistisch                                    0.959184   False  \n",
       "1069895  calvinistisch                                    2.283111   False  \n",
       "1069865  calvinistisch                                    1.340219   False  \n",
       "1069867  calvinistisch                                    0.714286   False  \n",
       "1069881  calvinistisch                                    1.938032   False  \n",
       "1069889  calvinistisch                                    0.993878   False  \n",
       "1069887  calvinistisch                                    2.340219   False  \n",
       "1069885  calvinistisch                                    1.394897   False  \n",
       "1069883  calvinistisch                                    1.266100   False  \n",
       "1069893  calvinistisch                                    1.238153   False  \n",
       "1069869  calvinistisch                                    1.936817   False  \n",
       "1069879  calvinistisch                                    0.991837   False  \n",
       "1069875  calvinistisch                                    2.281895   False  \n",
       "1069877  calvinistisch                                    0.765306   False  \n",
       "1069873  calvinistisch                                    1.393682   False  \n",
       "1069871  calvinistisch                                    1.264885   False  \n",
       "1069969  kalvinistisch                                    2.207777   False  \n",
       "1069970  kalvinistisch                                    0.640816   False  \n",
       "403381   calvinistisch                 NN   1  Adjektiv  35.499393   False  \n",
       "868213   calvinistisch               ADJA   1            23.229647   False  "
      ]
     },
     "execution_count": 22,
     "metadata": {},
     "output_type": "execute_result"
    }
   ],
   "source": [
    "# wiktionary_merkmal\n",
    "mask = wiktionary_merkmal.data.isin(suche_debug) #== 'gefriergetrocknet'\n",
    "a = wiktionary_merkmal[mask].sort_values(['merkmal','lemma_id','data'])\n",
    "grid(a)"
   ]
  },
  {
   "cell_type": "code",
   "execution_count": 23,
   "id": "839fd60a-c6ee-4676-81aa-2cf429ec3055",
   "metadata": {
    "execution": {
     "iopub.execute_input": "2023-02-25T11:39:49.893943Z",
     "iopub.status.busy": "2023-02-25T11:39:49.893279Z",
     "iopub.status.idle": "2023-02-25T11:39:50.752492Z",
     "shell.execute_reply": "2023-02-25T11:39:50.751754Z",
     "shell.execute_reply.started": "2023-02-25T11:39:49.893912Z"
    }
   },
   "outputs": [
    {
     "name": "stdout",
     "output_type": "stream",
     "text": [
      "29 rows\n"
     ]
    },
    {
     "data": {
      "text/html": [
       "<div>\n",
       "<style scoped>\n",
       "    .dataframe tbody tr th:only-of-type {\n",
       "        vertical-align: middle;\n",
       "    }\n",
       "\n",
       "    .dataframe tbody tr th {\n",
       "        vertical-align: top;\n",
       "    }\n",
       "\n",
       "    .dataframe thead th {\n",
       "        text-align: right;\n",
       "    }\n",
       "</style>\n",
       "<table border=\"1\" class=\"dataframe\">\n",
       "  <thead>\n",
       "    <tr style=\"text-align: right;\">\n",
       "      <th></th>\n",
       "      <th>lemma_id</th>\n",
       "      <th>merkmal</th>\n",
       "      <th>data_id</th>\n",
       "      <th>data</th>\n",
       "      <th>data_tag</th>\n",
       "      <th>lemma_tag</th>\n",
       "      <th>num</th>\n",
       "      <th>meta</th>\n",
       "      <th>score</th>\n",
       "      <th>is_lex</th>\n",
       "    </tr>\n",
       "  </thead>\n",
       "  <tbody>\n",
       "    <tr>\n",
       "      <th>1526920</th>\n",
       "      <td>besonn</td>\n",
       "      <td>gm</td>\n",
       "      <td>besonnen</td>\n",
       "      <td>besonnen</td>\n",
       "      <td></td>\n",
       "      <td></td>\n",
       "      <td></td>\n",
       "      <td></td>\n",
       "      <td>0.930612</td>\n",
       "      <td>False</td>\n",
       "    </tr>\n",
       "    <tr>\n",
       "      <th>1526922</th>\n",
       "      <td>besonne</td>\n",
       "      <td>gm</td>\n",
       "      <td>besonnen</td>\n",
       "      <td>besonnen</td>\n",
       "      <td></td>\n",
       "      <td></td>\n",
       "      <td></td>\n",
       "      <td></td>\n",
       "      <td>1.145808</td>\n",
       "      <td>False</td>\n",
       "    </tr>\n",
       "    <tr>\n",
       "      <th>1526928</th>\n",
       "      <td>besonnend</td>\n",
       "      <td>gm</td>\n",
       "      <td>besonnen</td>\n",
       "      <td>besonnen</td>\n",
       "      <td></td>\n",
       "      <td>ADJA</td>\n",
       "      <td></td>\n",
       "      <td></td>\n",
       "      <td>0.459184</td>\n",
       "      <td>False</td>\n",
       "    </tr>\n",
       "    <tr>\n",
       "      <th>716611</th>\n",
       "      <td>besonnene</td>\n",
       "      <td>gm</td>\n",
       "      <td>besonnen</td>\n",
       "      <td>besonnen</td>\n",
       "      <td></td>\n",
       "      <td></td>\n",
       "      <td></td>\n",
       "      <td></td>\n",
       "      <td>1.741191</td>\n",
       "      <td>False</td>\n",
       "    </tr>\n",
       "    <tr>\n",
       "      <th>716606</th>\n",
       "      <td>besonnenem</td>\n",
       "      <td>gm</td>\n",
       "      <td>besonnen</td>\n",
       "      <td>besonnen</td>\n",
       "      <td></td>\n",
       "      <td></td>\n",
       "      <td></td>\n",
       "      <td></td>\n",
       "      <td>0.775510</td>\n",
       "      <td>False</td>\n",
       "    </tr>\n",
       "    <tr>\n",
       "      <th>716607</th>\n",
       "      <td>besonnenen</td>\n",
       "      <td>gm</td>\n",
       "      <td>besonnen</td>\n",
       "      <td>besonnen</td>\n",
       "      <td></td>\n",
       "      <td></td>\n",
       "      <td></td>\n",
       "      <td></td>\n",
       "      <td>2.168894</td>\n",
       "      <td>False</td>\n",
       "    </tr>\n",
       "    <tr>\n",
       "      <th>716608</th>\n",
       "      <td>besonnener</td>\n",
       "      <td>gm</td>\n",
       "      <td>besonnen</td>\n",
       "      <td>besonnen</td>\n",
       "      <td></td>\n",
       "      <td></td>\n",
       "      <td></td>\n",
       "      <td></td>\n",
       "      <td>1.212637</td>\n",
       "      <td>False</td>\n",
       "    </tr>\n",
       "    <tr>\n",
       "      <th>716609</th>\n",
       "      <td>besonnener_1</td>\n",
       "      <td>gm</td>\n",
       "      <td>besonnen</td>\n",
       "      <td>besonnen</td>\n",
       "      <td></td>\n",
       "      <td></td>\n",
       "      <td></td>\n",
       "      <td></td>\n",
       "      <td>0.540816</td>\n",
       "      <td>False</td>\n",
       "    </tr>\n",
       "    <tr>\n",
       "      <th>716616</th>\n",
       "      <td>besonnenere</td>\n",
       "      <td>gm</td>\n",
       "      <td>besonnen</td>\n",
       "      <td>besonnen</td>\n",
       "      <td></td>\n",
       "      <td></td>\n",
       "      <td></td>\n",
       "      <td></td>\n",
       "      <td>1.741191</td>\n",
       "      <td>False</td>\n",
       "    </tr>\n",
       "    <tr>\n",
       "      <th>716612</th>\n",
       "      <td>besonnenerem</td>\n",
       "      <td>gm</td>\n",
       "      <td>besonnen</td>\n",
       "      <td>besonnen</td>\n",
       "      <td></td>\n",
       "      <td></td>\n",
       "      <td></td>\n",
       "      <td></td>\n",
       "      <td>0.730612</td>\n",
       "      <td>False</td>\n",
       "    </tr>\n",
       "    <tr>\n",
       "      <th>716613</th>\n",
       "      <td>besonneneren</td>\n",
       "      <td>gm</td>\n",
       "      <td>besonnen</td>\n",
       "      <td>besonnen</td>\n",
       "      <td></td>\n",
       "      <td></td>\n",
       "      <td></td>\n",
       "      <td></td>\n",
       "      <td>2.122722</td>\n",
       "      <td>False</td>\n",
       "    </tr>\n",
       "    <tr>\n",
       "      <th>716614</th>\n",
       "      <td>besonnenerer</td>\n",
       "      <td>gm</td>\n",
       "      <td>besonnen</td>\n",
       "      <td>besonnen</td>\n",
       "      <td></td>\n",
       "      <td></td>\n",
       "      <td></td>\n",
       "      <td></td>\n",
       "      <td>1.221142</td>\n",
       "      <td>False</td>\n",
       "    </tr>\n",
       "    <tr>\n",
       "      <th>716615</th>\n",
       "      <td>besonneneres</td>\n",
       "      <td>gm</td>\n",
       "      <td>besonnen</td>\n",
       "      <td>besonnen</td>\n",
       "      <td></td>\n",
       "      <td></td>\n",
       "      <td></td>\n",
       "      <td></td>\n",
       "      <td>1.097205</td>\n",
       "      <td>False</td>\n",
       "    </tr>\n",
       "    <tr>\n",
       "      <th>716610</th>\n",
       "      <td>besonnenes</td>\n",
       "      <td>gm</td>\n",
       "      <td>besonnen</td>\n",
       "      <td>besonnen</td>\n",
       "      <td></td>\n",
       "      <td></td>\n",
       "      <td></td>\n",
       "      <td></td>\n",
       "      <td>1.116646</td>\n",
       "      <td>False</td>\n",
       "    </tr>\n",
       "    <tr>\n",
       "      <th>716622</th>\n",
       "      <td>besonnenste</td>\n",
       "      <td>gm</td>\n",
       "      <td>besonnen</td>\n",
       "      <td>besonnen</td>\n",
       "      <td></td>\n",
       "      <td></td>\n",
       "      <td></td>\n",
       "      <td></td>\n",
       "      <td>1.739976</td>\n",
       "      <td>False</td>\n",
       "    </tr>\n",
       "    <tr>\n",
       "      <th>716617</th>\n",
       "      <td>besonnenstem</td>\n",
       "      <td>gm</td>\n",
       "      <td>besonnen</td>\n",
       "      <td>besonnen</td>\n",
       "      <td></td>\n",
       "      <td></td>\n",
       "      <td></td>\n",
       "      <td></td>\n",
       "      <td>0.728571</td>\n",
       "      <td>False</td>\n",
       "    </tr>\n",
       "    <tr>\n",
       "      <th>716618</th>\n",
       "      <td>besonnensten</td>\n",
       "      <td>gm</td>\n",
       "      <td>besonnen</td>\n",
       "      <td>besonnen</td>\n",
       "      <td></td>\n",
       "      <td></td>\n",
       "      <td></td>\n",
       "      <td></td>\n",
       "      <td>2.064399</td>\n",
       "      <td>False</td>\n",
       "    </tr>\n",
       "    <tr>\n",
       "      <th>716619</th>\n",
       "      <td>besonnensten_1</td>\n",
       "      <td>gm</td>\n",
       "      <td>besonnen</td>\n",
       "      <td>besonnen</td>\n",
       "      <td></td>\n",
       "      <td></td>\n",
       "      <td></td>\n",
       "      <td></td>\n",
       "      <td>0.614286</td>\n",
       "      <td>False</td>\n",
       "    </tr>\n",
       "    <tr>\n",
       "      <th>716620</th>\n",
       "      <td>besonnenster</td>\n",
       "      <td>gm</td>\n",
       "      <td>besonnen</td>\n",
       "      <td>besonnen</td>\n",
       "      <td></td>\n",
       "      <td></td>\n",
       "      <td></td>\n",
       "      <td></td>\n",
       "      <td>1.219927</td>\n",
       "      <td>False</td>\n",
       "    </tr>\n",
       "    <tr>\n",
       "      <th>716621</th>\n",
       "      <td>besonnenstes</td>\n",
       "      <td>gm</td>\n",
       "      <td>besonnen</td>\n",
       "      <td>besonnen</td>\n",
       "      <td></td>\n",
       "      <td></td>\n",
       "      <td></td>\n",
       "      <td></td>\n",
       "      <td>1.095990</td>\n",
       "      <td>False</td>\n",
       "    </tr>\n",
       "    <tr>\n",
       "      <th>1526924</th>\n",
       "      <td>besonnest</td>\n",
       "      <td>gm</td>\n",
       "      <td>besonnen</td>\n",
       "      <td>besonnen</td>\n",
       "      <td></td>\n",
       "      <td></td>\n",
       "      <td></td>\n",
       "      <td></td>\n",
       "      <td>0.622449</td>\n",
       "      <td>False</td>\n",
       "    </tr>\n",
       "    <tr>\n",
       "      <th>1526925</th>\n",
       "      <td>besonnet</td>\n",
       "      <td>gm</td>\n",
       "      <td>besonnen</td>\n",
       "      <td>besonnen</td>\n",
       "      <td></td>\n",
       "      <td></td>\n",
       "      <td></td>\n",
       "      <td></td>\n",
       "      <td>0.608163</td>\n",
       "      <td>False</td>\n",
       "    </tr>\n",
       "    <tr>\n",
       "      <th>1526923</th>\n",
       "      <td>besonnst</td>\n",
       "      <td>gm</td>\n",
       "      <td>besonnen</td>\n",
       "      <td>besonnen</td>\n",
       "      <td></td>\n",
       "      <td></td>\n",
       "      <td></td>\n",
       "      <td></td>\n",
       "      <td>0.514286</td>\n",
       "      <td>False</td>\n",
       "    </tr>\n",
       "    <tr>\n",
       "      <th>1526934</th>\n",
       "      <td>besonnt</td>\n",
       "      <td>gm</td>\n",
       "      <td>besonnen</td>\n",
       "      <td>besonnen</td>\n",
       "      <td></td>\n",
       "      <td>ADJA</td>\n",
       "      <td></td>\n",
       "      <td></td>\n",
       "      <td>0.444898</td>\n",
       "      <td>False</td>\n",
       "    </tr>\n",
       "    <tr>\n",
       "      <th>1526935</th>\n",
       "      <td>besonnt_1</td>\n",
       "      <td>gm</td>\n",
       "      <td>besonnen</td>\n",
       "      <td>besonnen</td>\n",
       "      <td></td>\n",
       "      <td></td>\n",
       "      <td></td>\n",
       "      <td></td>\n",
       "      <td>0.883673</td>\n",
       "      <td>False</td>\n",
       "    </tr>\n",
       "    <tr>\n",
       "      <th>1526937</th>\n",
       "      <td>besonnte_1</td>\n",
       "      <td>gm</td>\n",
       "      <td>besonnen</td>\n",
       "      <td>besonnen</td>\n",
       "      <td></td>\n",
       "      <td></td>\n",
       "      <td></td>\n",
       "      <td></td>\n",
       "      <td>1.054678</td>\n",
       "      <td>False</td>\n",
       "    </tr>\n",
       "    <tr>\n",
       "      <th>1526941</th>\n",
       "      <td>besonnten_1</td>\n",
       "      <td>gm</td>\n",
       "      <td>besonnen</td>\n",
       "      <td>besonnen</td>\n",
       "      <td></td>\n",
       "      <td></td>\n",
       "      <td></td>\n",
       "      <td></td>\n",
       "      <td>1.051033</td>\n",
       "      <td>False</td>\n",
       "    </tr>\n",
       "    <tr>\n",
       "      <th>1526926</th>\n",
       "      <td>besonntest</td>\n",
       "      <td>gm</td>\n",
       "      <td>besonnen</td>\n",
       "      <td>besonnen</td>\n",
       "      <td></td>\n",
       "      <td></td>\n",
       "      <td></td>\n",
       "      <td></td>\n",
       "      <td>0.702041</td>\n",
       "      <td>False</td>\n",
       "    </tr>\n",
       "    <tr>\n",
       "      <th>1526927</th>\n",
       "      <td>besonntet</td>\n",
       "      <td>gm</td>\n",
       "      <td>besonnen</td>\n",
       "      <td>besonnen</td>\n",
       "      <td></td>\n",
       "      <td></td>\n",
       "      <td></td>\n",
       "      <td></td>\n",
       "      <td>0.838776</td>\n",
       "      <td>False</td>\n",
       "    </tr>\n",
       "  </tbody>\n",
       "</table>\n",
       "</div>"
      ],
      "text/plain": [
       "               lemma_id merkmal   data_id      data data_tag lemma_tag num  \\\n",
       "1526920          besonn      gm  besonnen  besonnen                          \n",
       "1526922         besonne      gm  besonnen  besonnen                          \n",
       "1526928       besonnend      gm  besonnen  besonnen               ADJA       \n",
       "716611        besonnene      gm  besonnen  besonnen                          \n",
       "716606       besonnenem      gm  besonnen  besonnen                          \n",
       "716607       besonnenen      gm  besonnen  besonnen                          \n",
       "716608       besonnener      gm  besonnen  besonnen                          \n",
       "716609     besonnener_1      gm  besonnen  besonnen                          \n",
       "716616      besonnenere      gm  besonnen  besonnen                          \n",
       "716612     besonnenerem      gm  besonnen  besonnen                          \n",
       "716613     besonneneren      gm  besonnen  besonnen                          \n",
       "716614     besonnenerer      gm  besonnen  besonnen                          \n",
       "716615     besonneneres      gm  besonnen  besonnen                          \n",
       "716610       besonnenes      gm  besonnen  besonnen                          \n",
       "716622      besonnenste      gm  besonnen  besonnen                          \n",
       "716617     besonnenstem      gm  besonnen  besonnen                          \n",
       "716618     besonnensten      gm  besonnen  besonnen                          \n",
       "716619   besonnensten_1      gm  besonnen  besonnen                          \n",
       "716620     besonnenster      gm  besonnen  besonnen                          \n",
       "716621     besonnenstes      gm  besonnen  besonnen                          \n",
       "1526924       besonnest      gm  besonnen  besonnen                          \n",
       "1526925        besonnet      gm  besonnen  besonnen                          \n",
       "1526923        besonnst      gm  besonnen  besonnen                          \n",
       "1526934         besonnt      gm  besonnen  besonnen               ADJA       \n",
       "1526935       besonnt_1      gm  besonnen  besonnen                          \n",
       "1526937      besonnte_1      gm  besonnen  besonnen                          \n",
       "1526941     besonnten_1      gm  besonnen  besonnen                          \n",
       "1526926      besonntest      gm  besonnen  besonnen                          \n",
       "1526927       besonntet      gm  besonnen  besonnen                          \n",
       "\n",
       "        meta     score  is_lex  \n",
       "1526920       0.930612   False  \n",
       "1526922       1.145808   False  \n",
       "1526928       0.459184   False  \n",
       "716611        1.741191   False  \n",
       "716606        0.775510   False  \n",
       "716607        2.168894   False  \n",
       "716608        1.212637   False  \n",
       "716609        0.540816   False  \n",
       "716616        1.741191   False  \n",
       "716612        0.730612   False  \n",
       "716613        2.122722   False  \n",
       "716614        1.221142   False  \n",
       "716615        1.097205   False  \n",
       "716610        1.116646   False  \n",
       "716622        1.739976   False  \n",
       "716617        0.728571   False  \n",
       "716618        2.064399   False  \n",
       "716619        0.614286   False  \n",
       "716620        1.219927   False  \n",
       "716621        1.095990   False  \n",
       "1526924       0.622449   False  \n",
       "1526925       0.608163   False  \n",
       "1526923       0.514286   False  \n",
       "1526934       0.444898   False  \n",
       "1526935       0.883673   False  \n",
       "1526937       1.054678   False  \n",
       "1526941       1.051033   False  \n",
       "1526926       0.702041   False  \n",
       "1526927       0.838776   False  "
      ]
     },
     "execution_count": 23,
     "metadata": {},
     "output_type": "execute_result"
    }
   ],
   "source": [
    "# wiktionary_merkmal\n",
    "# data_id ist bei allen gm-Merkmalen potentiell falsch!\n",
    "mask1 = wiktionary_merkmal.data == 'besonnen'\n",
    "mask2 = wiktionary_merkmal.merkmal == 'gm'\n",
    "mask = mask1  &  mask2\n",
    "a = wiktionary_merkmal[mask].sort_values(['merkmal','lemma_id','data'])\n",
    "grid(a)"
   ]
  },
  {
   "cell_type": "code",
   "execution_count": 24,
   "id": "e73f6125",
   "metadata": {
    "execution": {
     "iopub.execute_input": "2023-02-25T11:39:50.756479Z",
     "iopub.status.busy": "2023-02-25T11:39:50.756148Z",
     "iopub.status.idle": "2023-02-25T11:39:50.797359Z",
     "shell.execute_reply": "2023-02-25T11:39:50.796450Z",
     "shell.execute_reply.started": "2023-02-25T11:39:50.756450Z"
    },
    "tags": []
   },
   "outputs": [
    {
     "name": "stdout",
     "output_type": "stream",
     "text": [
      "4838905\n"
     ]
    }
   ],
   "source": [
    "# Genügend Datensätze?\n",
    "print(wiktionary_merkmal.shape[0])\n",
    "assert wiktionary_merkmal.shape[0] > 4800 * 1000"
   ]
  },
  {
   "cell_type": "code",
   "execution_count": 25,
   "id": "a8c4e880-b6d6-48b0-9418-84eb4cf1aece",
   "metadata": {
    "execution": {
     "iopub.execute_input": "2023-02-25T11:39:50.803876Z",
     "iopub.status.busy": "2023-02-25T11:39:50.801263Z",
     "iopub.status.idle": "2023-02-25T11:39:51.076731Z",
     "shell.execute_reply": "2023-02-25T11:39:51.076042Z",
     "shell.execute_reply.started": "2023-02-25T11:39:50.803835Z"
    }
   },
   "outputs": [],
   "source": [
    "# Prüfen: is_unique\n",
    "assert wiktionary_lemma.lemma_id.is_unique\n",
    "assert translate_lex.nolemma_id.is_unique"
   ]
  },
  {
   "cell_type": "markdown",
   "id": "3a47d671-410f-4b79-8661-9f134bb3dc5b",
   "metadata": {},
   "source": [
    "## wiktionary_merkmal\n",
    "* is_lex"
   ]
  },
  {
   "cell_type": "code",
   "execution_count": 26,
   "id": "14e10921-752a-41a8-b879-2441fa8a223a",
   "metadata": {
    "execution": {
     "iopub.execute_input": "2023-02-25T11:39:51.078492Z",
     "iopub.status.busy": "2023-02-25T11:39:51.078210Z",
     "iopub.status.idle": "2023-02-25T11:39:56.257853Z",
     "shell.execute_reply": "2023-02-25T11:39:56.257181Z",
     "shell.execute_reply.started": "2023-02-25T11:39:51.078465Z"
    },
    "tags": []
   },
   "outputs": [
    {
     "name": "stdout",
     "output_type": "stream",
     "text": [
      "check_mask:  0 rows\n"
     ]
    }
   ],
   "source": [
    "# Prüfen: Alle Lexeme haben eine eindeutige data_id\n",
    "mask1 = wiktionary_merkmal.data_id == ''\n",
    "mask2 = wiktionary_merkmal.is_lex == True\n",
    "mask = mask1  &  mask2\n",
    "check_mask(wiktionary_merkmal,mask,0)\n",
    "\n",
    "mask_notempty = wiktionary_merkmal.data_id != ''\n",
    "a = pak.same_but_different(wiktionary_merkmal[mask_notempty],same='data_id',different='data')\n",
    "assert a.shape[0] == 0\n",
    "#grid(a)"
   ]
  },
  {
   "cell_type": "code",
   "execution_count": 27,
   "id": "2d00d505-75fa-4305-9f09-8a21900038cf",
   "metadata": {
    "execution": {
     "iopub.execute_input": "2023-02-25T11:39:56.259731Z",
     "iopub.status.busy": "2023-02-25T11:39:56.259484Z",
     "iopub.status.idle": "2023-02-25T11:40:10.473311Z",
     "shell.execute_reply": "2023-02-25T11:40:10.472565Z",
     "shell.execute_reply.started": "2023-02-25T11:39:56.259709Z"
    },
    "tags": []
   },
   "outputs": [
    {
     "name": "stdout",
     "output_type": "stream",
     "text": [
      "check_mask:  241 rows\n"
     ]
    },
    {
     "data": {
      "text/html": [
       "<div>\n",
       "<style scoped>\n",
       "    .dataframe tbody tr th:only-of-type {\n",
       "        vertical-align: middle;\n",
       "    }\n",
       "\n",
       "    .dataframe tbody tr th {\n",
       "        vertical-align: top;\n",
       "    }\n",
       "\n",
       "    .dataframe thead th {\n",
       "        text-align: right;\n",
       "    }\n",
       "</style>\n",
       "<table border=\"1\" class=\"dataframe\">\n",
       "  <thead>\n",
       "    <tr style=\"text-align: right;\">\n",
       "      <th></th>\n",
       "      <th>lemma_id</th>\n",
       "      <th>merkmal</th>\n",
       "      <th>data_id</th>\n",
       "      <th>data</th>\n",
       "      <th>data_tag</th>\n",
       "      <th>lemma_tag</th>\n",
       "      <th>num</th>\n",
       "      <th>meta</th>\n",
       "      <th>score</th>\n",
       "      <th>is_lex</th>\n",
       "    </tr>\n",
       "  </thead>\n",
       "  <tbody>\n",
       "    <tr>\n",
       "      <th>5374</th>\n",
       "      <td>Straßenbahn</td>\n",
       "      <td>abk</td>\n",
       "      <td>Straßenbahn~Str.-B</td>\n",
       "      <td>Str.-B.</td>\n",
       "      <td></td>\n",
       "      <td>NN</td>\n",
       "      <td>1</td>\n",
       "      <td></td>\n",
       "      <td>25.515188</td>\n",
       "      <td>True</td>\n",
       "    </tr>\n",
       "    <tr>\n",
       "      <th>64801</th>\n",
       "      <td>a._D.</td>\n",
       "      <td>alt_2</td>\n",
       "      <td>a._D.~a. d. D</td>\n",
       "      <td>a. d. D.</td>\n",
       "      <td></td>\n",
       "      <td></td>\n",
       "      <td>3</td>\n",
       "      <td></td>\n",
       "      <td>0.000000</td>\n",
       "      <td>True</td>\n",
       "    </tr>\n",
       "    <tr>\n",
       "      <th>78720</th>\n",
       "      <td>p._A.</td>\n",
       "      <td>alt_2</td>\n",
       "      <td>p._A.~p. Adr</td>\n",
       "      <td>p. Adr.</td>\n",
       "      <td></td>\n",
       "      <td>TODO</td>\n",
       "      <td>1</td>\n",
       "      <td></td>\n",
       "      <td>1.054678</td>\n",
       "      <td>True</td>\n",
       "    </tr>\n",
       "    <tr>\n",
       "      <th>101860</th>\n",
       "      <td>Ingenieur</td>\n",
       "      <td>abk</td>\n",
       "      <td>Ingenieur~Dipl.-Ing</td>\n",
       "      <td>Dipl.-Ing.</td>\n",
       "      <td></td>\n",
       "      <td>NN</td>\n",
       "      <td>1</td>\n",
       "      <td></td>\n",
       "      <td>28.157959</td>\n",
       "      <td>True</td>\n",
       "    </tr>\n",
       "    <tr>\n",
       "      <th>102378</th>\n",
       "      <td>Geburtstag</td>\n",
       "      <td>abk</td>\n",
       "      <td>Geburtstag~Geb.-T</td>\n",
       "      <td>Geb.-T.</td>\n",
       "      <td></td>\n",
       "      <td>NN</td>\n",
       "      <td>1,2</td>\n",
       "      <td></td>\n",
       "      <td>106.701096</td>\n",
       "      <td>True</td>\n",
       "    </tr>\n",
       "    <tr>\n",
       "      <th>141173</th>\n",
       "      <td>BfA</td>\n",
       "      <td>up</td>\n",
       "      <td></td>\n",
       "      <td>K. d. ö. R.</td>\n",
       "      <td></td>\n",
       "      <td>NN</td>\n",
       "      <td>1</td>\n",
       "      <td></td>\n",
       "      <td>3.417983</td>\n",
       "      <td>False</td>\n",
       "    </tr>\n",
       "    <tr>\n",
       "      <th>281658</th>\n",
       "      <td>zur_Zeit</td>\n",
       "      <td>abk</td>\n",
       "      <td>zur_Zeit~z. Zt</td>\n",
       "      <td>z. Zt.</td>\n",
       "      <td></td>\n",
       "      <td>KOMBI</td>\n",
       "      <td>1</td>\n",
       "      <td></td>\n",
       "      <td>8.736330</td>\n",
       "      <td>True</td>\n",
       "    </tr>\n",
       "    <tr>\n",
       "      <th>381098</th>\n",
       "      <td>östliche_Länge</td>\n",
       "      <td>abk</td>\n",
       "      <td>östliche_Länge~östl. L</td>\n",
       "      <td>östl. L.</td>\n",
       "      <td></td>\n",
       "      <td>NN</td>\n",
       "      <td></td>\n",
       "      <td></td>\n",
       "      <td>2.668287</td>\n",
       "      <td>True</td>\n",
       "    </tr>\n",
       "    <tr>\n",
       "      <th>435149</th>\n",
       "      <td>Reserve</td>\n",
       "      <td>abk</td>\n",
       "      <td>Reserve~d. R</td>\n",
       "      <td>d. R.</td>\n",
       "      <td></td>\n",
       "      <td>NN</td>\n",
       "      <td>4</td>\n",
       "      <td></td>\n",
       "      <td>32.885784</td>\n",
       "      <td>True</td>\n",
       "    </tr>\n",
       "    <tr>\n",
       "      <th>586750</th>\n",
       "      <td>Mag.</td>\n",
       "      <td>weib</td>\n",
       "      <td>Mag.a</td>\n",
       "      <td>Mag.a.</td>\n",
       "      <td></td>\n",
       "      <td>TODO</td>\n",
       "      <td>1</td>\n",
       "      <td></td>\n",
       "      <td>7.693803</td>\n",
       "      <td>True</td>\n",
       "    </tr>\n",
       "    <tr>\n",
       "      <th>766633</th>\n",
       "      <td>etc._pp.</td>\n",
       "      <td>alt_2</td>\n",
       "      <td>etc._pp.~&amp;c. pp</td>\n",
       "      <td>&amp;c. pp.</td>\n",
       "      <td></td>\n",
       "      <td>TODO</td>\n",
       "      <td></td>\n",
       "      <td></td>\n",
       "      <td>1.368165</td>\n",
       "      <td>True</td>\n",
       "    </tr>\n",
       "    <tr>\n",
       "      <th>1213715</th>\n",
       "      <td>OmU</td>\n",
       "      <td>alt_2</td>\n",
       "      <td>OmU~O.m.U</td>\n",
       "      <td>O.m.U.</td>\n",
       "      <td></td>\n",
       "      <td>TODO</td>\n",
       "      <td></td>\n",
       "      <td>selten</td>\n",
       "      <td>3.866343</td>\n",
       "      <td>True</td>\n",
       "    </tr>\n",
       "    <tr>\n",
       "      <th>1793982</th>\n",
       "      <td>1312</td>\n",
       "      <td>alt_2</td>\n",
       "      <td>1312~A.C.A.B</td>\n",
       "      <td>A.C.A.B.</td>\n",
       "      <td></td>\n",
       "      <td>TODO</td>\n",
       "      <td></td>\n",
       "      <td></td>\n",
       "      <td>8.944107</td>\n",
       "      <td>True</td>\n",
       "    </tr>\n",
       "  </tbody>\n",
       "</table>\n",
       "</div>"
      ],
      "text/plain": [
       "               lemma_id merkmal                 data_id         data data_tag  \\\n",
       "5374        Straßenbahn     abk      Straßenbahn~Str.-B      Str.-B.            \n",
       "64801             a._D.   alt_2           a._D.~a. d. D     a. d. D.            \n",
       "78720             p._A.   alt_2            p._A.~p. Adr      p. Adr.            \n",
       "101860        Ingenieur     abk     Ingenieur~Dipl.-Ing   Dipl.-Ing.            \n",
       "102378       Geburtstag     abk       Geburtstag~Geb.-T      Geb.-T.            \n",
       "141173              BfA      up                          K. d. ö. R.            \n",
       "281658         zur_Zeit     abk          zur_Zeit~z. Zt       z. Zt.            \n",
       "381098   östliche_Länge     abk  östliche_Länge~östl. L     östl. L.            \n",
       "435149          Reserve     abk            Reserve~d. R        d. R.            \n",
       "586750             Mag.    weib                   Mag.a       Mag.a.            \n",
       "766633         etc._pp.   alt_2         etc._pp.~&c. pp      &c. pp.            \n",
       "1213715             OmU   alt_2               OmU~O.m.U       O.m.U.            \n",
       "1793982            1312   alt_2            1312~A.C.A.B     A.C.A.B.            \n",
       "\n",
       "        lemma_tag  num    meta       score  is_lex  \n",
       "5374           NN    1           25.515188    True  \n",
       "64801                3            0.000000    True  \n",
       "78720        TODO    1            1.054678    True  \n",
       "101860         NN    1           28.157959    True  \n",
       "102378         NN  1,2          106.701096    True  \n",
       "141173         NN    1            3.417983   False  \n",
       "281658      KOMBI    1            8.736330    True  \n",
       "381098         NN                 2.668287    True  \n",
       "435149         NN    4           32.885784    True  \n",
       "586750       TODO    1            7.693803    True  \n",
       "766633       TODO                 1.368165    True  \n",
       "1213715      TODO       selten    3.866343    True  \n",
       "1793982      TODO                 8.944107    True  "
      ]
     },
     "execution_count": 27,
     "metadata": {},
     "output_type": "execute_result"
    }
   ],
   "source": [
    "# korrigieren: Punkt hinten ergänzen\n",
    "startet_nicht_mit = ( '.', 'Industrie', 'St.')\n",
    "endet_nicht_mit   = ( '.', 'Tag', 'Ort','Länge','Sieg')\n",
    "mask1 =  wiktionary_merkmal.data.str.contains('.', regex=False)  \n",
    "mask2 = ~wiktionary_merkmal.data.str.contains('[0123456789]', regex=True)  \n",
    "mask3 = ~wiktionary_merkmal.data.str.startswith(startet_nicht_mit)\n",
    "mask4 = ~wiktionary_merkmal.data.str.endswith(  endet_nicht_mit)\n",
    "mask5 = (wiktionary_merkmal.data.str.split('.').str[-1].str.len() <= 5) # letztes Wort nicht zu lang\n",
    "mask6 =  wiktionary_merkmal.data.str.len() > 2\n",
    "mask7 = ~wiktionary_merkmal.merkmal.isin(['ipa'])\n",
    "mask = mask1  &  mask2  &  mask3  &  mask4  &  mask5  &  mask6  &  mask7\n",
    "check_mask( wiktionary_merkmal, mask, 233 )\n",
    "\n",
    "wiktionary_merkmal.loc[mask,'data'] += '.'\n",
    "pak.sample(wiktionary_merkmal[mask])"
   ]
  },
  {
   "cell_type": "code",
   "execution_count": 28,
   "id": "523b7501-8288-4b3a-8fb9-b7d1a72a2f05",
   "metadata": {
    "execution": {
     "iopub.execute_input": "2023-02-25T11:40:10.481942Z",
     "iopub.status.busy": "2023-02-25T11:40:10.481330Z",
     "iopub.status.idle": "2023-02-25T11:40:10.522643Z",
     "shell.execute_reply": "2023-02-25T11:40:10.521869Z",
     "shell.execute_reply.started": "2023-02-25T11:40:10.481913Z"
    },
    "tags": []
   },
   "outputs": [],
   "source": [
    "#wiktionary_merkmal.head(1)"
   ]
  },
  {
   "cell_type": "code",
   "execution_count": 29,
   "id": "ebc559f6-83a6-4a3f-b75c-0b182ab1e3e0",
   "metadata": {
    "execution": {
     "iopub.execute_input": "2023-02-25T11:40:10.529828Z",
     "iopub.status.busy": "2023-02-25T11:40:10.527260Z",
     "iopub.status.idle": "2023-02-25T11:40:11.484649Z",
     "shell.execute_reply": "2023-02-25T11:40:11.483960Z",
     "shell.execute_reply.started": "2023-02-25T11:40:10.529791Z"
    },
    "tags": []
   },
   "outputs": [
    {
     "name": "stdout",
     "output_type": "stream",
     "text": [
      "check_mask:  10 rows\n",
      "10 rows out of 4838905\n"
     ]
    },
    {
     "data": {
      "text/html": [
       "<div>\n",
       "<style scoped>\n",
       "    .dataframe tbody tr th:only-of-type {\n",
       "        vertical-align: middle;\n",
       "    }\n",
       "\n",
       "    .dataframe tbody tr th {\n",
       "        vertical-align: top;\n",
       "    }\n",
       "\n",
       "    .dataframe thead th {\n",
       "        text-align: right;\n",
       "    }\n",
       "</style>\n",
       "<table border=\"1\" class=\"dataframe\">\n",
       "  <thead>\n",
       "    <tr style=\"text-align: right;\">\n",
       "      <th></th>\n",
       "      <th>lemma_id</th>\n",
       "      <th>merkmal</th>\n",
       "      <th>data_id</th>\n",
       "      <th>data</th>\n",
       "      <th>data_tag</th>\n",
       "      <th>lemma_tag</th>\n",
       "      <th>num</th>\n",
       "      <th>meta</th>\n",
       "      <th>score</th>\n",
       "      <th>is_lex</th>\n",
       "    </tr>\n",
       "  </thead>\n",
       "  <tbody>\n",
       "    <tr>\n",
       "      <th>1830808</th>\n",
       "      <td>zu_viel</td>\n",
       "      <td>lex</td>\n",
       "      <td>zu_viele</td>\n",
       "      <td>zu viele</td>\n",
       "      <td>ADV</td>\n",
       "      <td></td>\n",
       "      <td></td>\n",
       "      <td>manuell</td>\n",
       "      <td>8.736330</td>\n",
       "      <td>True</td>\n",
       "    </tr>\n",
       "    <tr>\n",
       "      <th>1830811</th>\n",
       "      <td>vergleichen</td>\n",
       "      <td>lex</td>\n",
       "      <td>vergleiche</td>\n",
       "      <td>vergleiche</td>\n",
       "      <td>VVIMP</td>\n",
       "      <td></td>\n",
       "      <td></td>\n",
       "      <td>manuell</td>\n",
       "      <td>14.083839</td>\n",
       "      <td>True</td>\n",
       "    </tr>\n",
       "    <tr>\n",
       "      <th>1830812</th>\n",
       "      <td>herumpimpeln_M</td>\n",
       "      <td>lex</td>\n",
       "      <td>herumzupimpeln</td>\n",
       "      <td>herumzupimpeln</td>\n",
       "      <td>VVIZU</td>\n",
       "      <td></td>\n",
       "      <td></td>\n",
       "      <td>manuell</td>\n",
       "      <td>8.736330</td>\n",
       "      <td>True</td>\n",
       "    </tr>\n",
       "    <tr>\n",
       "      <th>1830813</th>\n",
       "      <td>anstaunen</td>\n",
       "      <td>lex</td>\n",
       "      <td>anzustaunen</td>\n",
       "      <td>anzustaunen</td>\n",
       "      <td>VVIZU</td>\n",
       "      <td></td>\n",
       "      <td></td>\n",
       "      <td>manuell</td>\n",
       "      <td>8.736330</td>\n",
       "      <td>True</td>\n",
       "    </tr>\n",
       "    <tr>\n",
       "      <th>1830814</th>\n",
       "      <td>einreden</td>\n",
       "      <td>lex</td>\n",
       "      <td>einzureden</td>\n",
       "      <td>einzureden</td>\n",
       "      <td>VVIZU</td>\n",
       "      <td></td>\n",
       "      <td></td>\n",
       "      <td>manuell</td>\n",
       "      <td>9.020657</td>\n",
       "      <td>True</td>\n",
       "    </tr>\n",
       "    <tr>\n",
       "      <th>1830815</th>\n",
       "      <td>angucken_M</td>\n",
       "      <td>lex</td>\n",
       "      <td>anzugucken</td>\n",
       "      <td>anzugucken</td>\n",
       "      <td>VVIZU</td>\n",
       "      <td></td>\n",
       "      <td></td>\n",
       "      <td>manuell</td>\n",
       "      <td>8.736330</td>\n",
       "      <td>True</td>\n",
       "    </tr>\n",
       "    <tr>\n",
       "      <th>1830816</th>\n",
       "      <td>loswerden</td>\n",
       "      <td>lex</td>\n",
       "      <td>loszuwerden</td>\n",
       "      <td>loszuwerden</td>\n",
       "      <td>VVIZU</td>\n",
       "      <td></td>\n",
       "      <td></td>\n",
       "      <td>manuell</td>\n",
       "      <td>43.147022</td>\n",
       "      <td>True</td>\n",
       "    </tr>\n",
       "    <tr>\n",
       "      <th>1830817</th>\n",
       "      <td>herauslassen_M</td>\n",
       "      <td>lex</td>\n",
       "      <td>herauslassen_M~herauszulassen</td>\n",
       "      <td>herauszulassen</td>\n",
       "      <td>VVIZU</td>\n",
       "      <td></td>\n",
       "      <td></td>\n",
       "      <td>manuell</td>\n",
       "      <td>8.736330</td>\n",
       "      <td>True</td>\n",
       "    </tr>\n",
       "    <tr>\n",
       "      <th>1830818</th>\n",
       "      <td>aufrütteln_M</td>\n",
       "      <td>lex</td>\n",
       "      <td>aufzurütteln</td>\n",
       "      <td>aufzurütteln</td>\n",
       "      <td>VVIZU</td>\n",
       "      <td></td>\n",
       "      <td></td>\n",
       "      <td>manuell</td>\n",
       "      <td>8.736330</td>\n",
       "      <td>True</td>\n",
       "    </tr>\n",
       "    <tr>\n",
       "      <th>1830819</th>\n",
       "      <td>hereinlassen_M</td>\n",
       "      <td>lex</td>\n",
       "      <td>hereinlassen_M~hereinzulassen</td>\n",
       "      <td>hereinzulassen</td>\n",
       "      <td>VVIZU</td>\n",
       "      <td></td>\n",
       "      <td></td>\n",
       "      <td>manuell</td>\n",
       "      <td>8.736330</td>\n",
       "      <td>True</td>\n",
       "    </tr>\n",
       "  </tbody>\n",
       "</table>\n",
       "</div>"
      ],
      "text/plain": [
       "               lemma_id merkmal                        data_id  \\\n",
       "1830808         zu_viel     lex                       zu_viele   \n",
       "1830811     vergleichen     lex                     vergleiche   \n",
       "1830812  herumpimpeln_M     lex                 herumzupimpeln   \n",
       "1830813       anstaunen     lex                    anzustaunen   \n",
       "1830814        einreden     lex                     einzureden   \n",
       "1830815      angucken_M     lex                     anzugucken   \n",
       "1830816       loswerden     lex                    loszuwerden   \n",
       "1830817  herauslassen_M     lex  herauslassen_M~herauszulassen   \n",
       "1830818    aufrütteln_M     lex                   aufzurütteln   \n",
       "1830819  hereinlassen_M     lex  hereinlassen_M~hereinzulassen   \n",
       "\n",
       "                   data data_tag lemma_tag num     meta      score  is_lex  \n",
       "1830808        zu viele      ADV                manuell   8.736330    True  \n",
       "1830811      vergleiche    VVIMP                manuell  14.083839    True  \n",
       "1830812  herumzupimpeln    VVIZU                manuell   8.736330    True  \n",
       "1830813     anzustaunen    VVIZU                manuell   8.736330    True  \n",
       "1830814      einzureden    VVIZU                manuell   9.020657    True  \n",
       "1830815      anzugucken    VVIZU                manuell   8.736330    True  \n",
       "1830816     loszuwerden    VVIZU                manuell  43.147022    True  \n",
       "1830817  herauszulassen    VVIZU                manuell   8.736330    True  \n",
       "1830818    aufzurütteln    VVIZU                manuell   8.736330    True  \n",
       "1830819  hereinzulassen    VVIZU                manuell   8.736330    True  "
      ]
     },
     "execution_count": 29,
     "metadata": {},
     "output_type": "execute_result"
    }
   ],
   "source": [
    "# Merkmale, die eigentlich tags sind\n",
    "mask = wiktionary_merkmal.merkmal.isin(alle_tags)\n",
    "check_mask( wiktionary_merkmal, mask, 10 )\n",
    "\n",
    "wiktionary_merkmal.loc[mask,'lemma_tag'] = ''\n",
    "wiktionary_merkmal.loc[mask,'data_tag']  = wiktionary_merkmal[mask].merkmal\n",
    "wiktionary_merkmal.loc[mask,'merkmal']   = 'lex'\n",
    "wiktionary_merkmal.loc[mask,'is_lex']    = True\n",
    "grid(wiktionary_merkmal,mask)"
   ]
  },
  {
   "cell_type": "code",
   "execution_count": 30,
   "id": "092ba253-371a-4021-b86e-1ad29b9a557f",
   "metadata": {
    "execution": {
     "iopub.execute_input": "2023-02-25T11:40:11.488906Z",
     "iopub.status.busy": "2023-02-25T11:40:11.488369Z",
     "iopub.status.idle": "2023-02-25T11:40:14.160148Z",
     "shell.execute_reply": "2023-02-25T11:40:14.159513Z",
     "shell.execute_reply.started": "2023-02-25T11:40:11.488879Z"
    },
    "tags": []
   },
   "outputs": [],
   "source": [
    "# Mehrfache Spaces >> Einfacher Space (eigentlich hätten die alle schon von Preprocess erwischt werden müssen)\n",
    "wiktionary_merkmal['data'] = pak.replace_str( wiktionary_merkmal.data, {'  ':' '})"
   ]
  },
  {
   "cell_type": "code",
   "execution_count": 31,
   "id": "ca9e9d8e-3b7e-4dfb-97eb-8924e38e8012",
   "metadata": {
    "execution": {
     "iopub.execute_input": "2023-02-25T11:40:14.161278Z",
     "iopub.status.busy": "2023-02-25T11:40:14.160970Z",
     "iopub.status.idle": "2023-02-25T11:40:14.856146Z",
     "shell.execute_reply": "2023-02-25T11:40:14.855499Z",
     "shell.execute_reply.started": "2023-02-25T11:40:14.161255Z"
    },
    "tags": []
   },
   "outputs": [],
   "source": [
    "# Mehrfachbindestrich\n",
    "mask =  wiktionary_merkmal.data == '--'\n",
    "wiktionary_merkmal.loc[mask,'data'] = '-'"
   ]
  },
  {
   "cell_type": "code",
   "execution_count": 32,
   "id": "0f3793d5-798a-4ce8-85c5-9efc16d52236",
   "metadata": {
    "execution": {
     "iopub.execute_input": "2023-02-25T11:40:14.857092Z",
     "iopub.status.busy": "2023-02-25T11:40:14.856881Z",
     "iopub.status.idle": "2023-02-25T11:40:16.861788Z",
     "shell.execute_reply": "2023-02-25T11:40:16.861115Z",
     "shell.execute_reply.started": "2023-02-25T11:40:14.857072Z"
    },
    "tags": []
   },
   "outputs": [
    {
     "name": "stdout",
     "output_type": "stream",
     "text": [
      "check_mask:  7 rows\n"
     ]
    }
   ],
   "source": [
    "# Hochkommas entfernen\n",
    "mask1 = wiktionary_merkmal.data.str.count(\"\\'\") > 1\n",
    "mask2 = wiktionary_merkmal.merkmal.isin(['def','abk']) \n",
    "mask  =  mask1  &  mask2 \n",
    "check_mask(wiktionary_merkmal,mask, 0, 20)\n",
    "wiktionary_merkmal.loc[mask,'data'] = wiktionary_merkmal[mask].data.str.replace(\"'\", '')"
   ]
  },
  {
   "cell_type": "code",
   "execution_count": 33,
   "id": "33de5a1c-74ea-4baa-a1bf-09e23353bbf6",
   "metadata": {
    "execution": {
     "iopub.execute_input": "2023-02-25T11:40:16.862757Z",
     "iopub.status.busy": "2023-02-25T11:40:16.862508Z",
     "iopub.status.idle": "2023-02-25T11:40:20.495375Z",
     "shell.execute_reply": "2023-02-25T11:40:20.494697Z",
     "shell.execute_reply.started": "2023-02-25T11:40:16.862734Z"
    },
    "tags": []
   },
   "outputs": [
    {
     "name": "stdout",
     "output_type": "stream",
     "text": [
      "check_mask:  6 rows\n",
      "Move 6 rows from 4838905\n",
      "6 rows\n"
     ]
    },
    {
     "data": {
      "text/html": [
       "<div>\n",
       "<style scoped>\n",
       "    .dataframe tbody tr th:only-of-type {\n",
       "        vertical-align: middle;\n",
       "    }\n",
       "\n",
       "    .dataframe tbody tr th {\n",
       "        vertical-align: top;\n",
       "    }\n",
       "\n",
       "    .dataframe thead th {\n",
       "        text-align: right;\n",
       "    }\n",
       "</style>\n",
       "<table border=\"1\" class=\"dataframe\">\n",
       "  <thead>\n",
       "    <tr style=\"text-align: right;\">\n",
       "      <th></th>\n",
       "      <th>lemma_id</th>\n",
       "      <th>merkmal</th>\n",
       "      <th>data_id</th>\n",
       "      <th>data</th>\n",
       "      <th>data_tag</th>\n",
       "      <th>lemma_tag</th>\n",
       "      <th>num</th>\n",
       "      <th>meta</th>\n",
       "      <th>score</th>\n",
       "      <th>is_lex</th>\n",
       "      <th>msg</th>\n",
       "    </tr>\n",
       "  </thead>\n",
       "  <tbody>\n",
       "    <tr>\n",
       "      <th>2185496</th>\n",
       "      <td>Covid</td>\n",
       "      <td>Genus</td>\n",
       "      <td></td>\n",
       "      <td></td>\n",
       "      <td></td>\n",
       "      <td>NE</td>\n",
       "      <td></td>\n",
       "      <td></td>\n",
       "      <td>8.626974</td>\n",
       "      <td>False</td>\n",
       "      <td>Leerstring data Müll</td>\n",
       "    </tr>\n",
       "    <tr>\n",
       "      <th>2186567</th>\n",
       "      <td>Reiwa</td>\n",
       "      <td>Genus</td>\n",
       "      <td></td>\n",
       "      <td></td>\n",
       "      <td></td>\n",
       "      <td>NN</td>\n",
       "      <td></td>\n",
       "      <td></td>\n",
       "      <td>7.551641</td>\n",
       "      <td>False</td>\n",
       "      <td>Leerstring data Müll</td>\n",
       "    </tr>\n",
       "    <tr>\n",
       "      <th>2186574</th>\n",
       "      <td>Heisei</td>\n",
       "      <td>Genus</td>\n",
       "      <td></td>\n",
       "      <td></td>\n",
       "      <td></td>\n",
       "      <td>NN</td>\n",
       "      <td></td>\n",
       "      <td></td>\n",
       "      <td>7.168894</td>\n",
       "      <td>False</td>\n",
       "      <td>Leerstring data Müll</td>\n",
       "    </tr>\n",
       "    <tr>\n",
       "      <th>2187714</th>\n",
       "      <td>Außerm_Pfarrgarten</td>\n",
       "      <td>Genus</td>\n",
       "      <td></td>\n",
       "      <td></td>\n",
       "      <td></td>\n",
       "      <td>NE</td>\n",
       "      <td></td>\n",
       "      <td></td>\n",
       "      <td>2.459295</td>\n",
       "      <td>False</td>\n",
       "      <td>Leerstring data Müll</td>\n",
       "    </tr>\n",
       "    <tr>\n",
       "      <th>2201977</th>\n",
       "      <td>Am_Hauptbahnhof</td>\n",
       "      <td>Genus</td>\n",
       "      <td></td>\n",
       "      <td></td>\n",
       "      <td></td>\n",
       "      <td>NE</td>\n",
       "      <td></td>\n",
       "      <td></td>\n",
       "      <td>3.346294</td>\n",
       "      <td>False</td>\n",
       "      <td>Leerstring data Müll</td>\n",
       "    </tr>\n",
       "    <tr>\n",
       "      <th>2201997</th>\n",
       "      <td>Am_Bahnhof</td>\n",
       "      <td>Genus</td>\n",
       "      <td></td>\n",
       "      <td></td>\n",
       "      <td></td>\n",
       "      <td>NE</td>\n",
       "      <td></td>\n",
       "      <td></td>\n",
       "      <td>2.467801</td>\n",
       "      <td>False</td>\n",
       "      <td>Leerstring data Müll</td>\n",
       "    </tr>\n",
       "  </tbody>\n",
       "</table>\n",
       "</div>"
      ],
      "text/plain": [
       "                   lemma_id merkmal data_id data data_tag lemma_tag num meta  \\\n",
       "2185496               Covid   Genus                              NE            \n",
       "2186567               Reiwa   Genus                              NN            \n",
       "2186574              Heisei   Genus                              NN            \n",
       "2187714  Außerm_Pfarrgarten   Genus                              NE            \n",
       "2201977     Am_Hauptbahnhof   Genus                              NE            \n",
       "2201997          Am_Bahnhof   Genus                              NE            \n",
       "\n",
       "            score  is_lex                   msg  \n",
       "2185496  8.626974   False  Leerstring data Müll  \n",
       "2186567  7.551641   False  Leerstring data Müll  \n",
       "2186574  7.168894   False  Leerstring data Müll  \n",
       "2187714  2.459295   False  Leerstring data Müll  \n",
       "2201977  3.346294   False  Leerstring data Müll  \n",
       "2201997  2.467801   False  Leerstring data Müll  "
      ]
     },
     "execution_count": 33,
     "metadata": {},
     "output_type": "execute_result"
    }
   ],
   "source": [
    "# Leerstring data Müll löschen\n",
    "mask = wiktionary_merkmal['data'] == ''\n",
    "check_mask(wiktionary_merkmal,mask,0,20)\n",
    "\n",
    "msg = 'Leerstring data Müll'\n",
    "wiktionary_merkmal, wiktionary_merkmal_trash = pak.move_rows(wiktionary_merkmal, wiktionary_merkmal_trash, mask, msg)\n",
    "grid(wiktionary_merkmal_trash, msg)"
   ]
  },
  {
   "cell_type": "code",
   "execution_count": 34,
   "id": "bb86a7db-0bf1-43e8-bebc-1a103d240235",
   "metadata": {
    "execution": {
     "iopub.execute_input": "2023-02-25T11:40:20.498887Z",
     "iopub.status.busy": "2023-02-25T11:40:20.498606Z",
     "iopub.status.idle": "2023-02-25T11:40:22.316277Z",
     "shell.execute_reply": "2023-02-25T11:40:22.315564Z",
     "shell.execute_reply.started": "2023-02-25T11:40:20.498866Z"
    },
    "tags": []
   },
   "outputs": [],
   "source": [
    "# fillna\n",
    "wiktionary_merkmal['meta']       = wiktionary_merkmal.meta.fillna('')\n",
    "wiktionary_merkmal['data_tag']   = wiktionary_merkmal.data_tag.fillna('')\n",
    "wiktionary_merkmal['lemma_tag']  = wiktionary_merkmal.lemma_tag.fillna('')\n",
    "wiktionary_merkmal['num']        = wiktionary_merkmal.num.fillna('')"
   ]
  },
  {
   "cell_type": "markdown",
   "id": "e5168080-40b6-40a3-8882-0c732318bd42",
   "metadata": {},
   "source": [
    "## translate_lex ==========\n",
    "* hieß bislang wiktionary_nolemma\n",
    "* Gerundivum als Merkmal speichern\n",
    "* verwaiste löschen\n",
    "* Spalten umbenennen\n",
    "* pflege_translate_tabelle"
   ]
  },
  {
   "cell_type": "code",
   "execution_count": 35,
   "id": "2f950607-6e64-42ee-8c7e-518a6e4dbd3c",
   "metadata": {
    "execution": {
     "iopub.execute_input": "2023-02-25T11:40:22.318533Z",
     "iopub.status.busy": "2023-02-25T11:40:22.318210Z",
     "iopub.status.idle": "2023-02-25T11:40:22.680127Z",
     "shell.execute_reply": "2023-02-25T11:40:22.679411Z",
     "shell.execute_reply.started": "2023-02-25T11:40:22.318510Z"
    }
   },
   "outputs": [],
   "source": [
    "assert not pak.any_nan(translate_lex)"
   ]
  },
  {
   "cell_type": "code",
   "execution_count": 36,
   "id": "a4f0ac1f-fe37-4f64-9535-b3ec67ce21ad",
   "metadata": {
    "execution": {
     "iopub.execute_input": "2023-02-25T11:40:22.682228Z",
     "iopub.status.busy": "2023-02-25T11:40:22.681957Z",
     "iopub.status.idle": "2023-02-25T11:40:22.774795Z",
     "shell.execute_reply": "2023-02-25T11:40:22.774065Z",
     "shell.execute_reply.started": "2023-02-25T11:40:22.682205Z"
    }
   },
   "outputs": [
    {
     "name": "stdout",
     "output_type": "stream",
     "text": [
      "check_mask:  0 rows\n"
     ]
    }
   ],
   "source": [
    "# lemma_id vorhanden?\n",
    "mask = translate_lex.lemma_id == ''\n",
    "check_mask(translate_lex,mask,0)"
   ]
  },
  {
   "cell_type": "code",
   "execution_count": 37,
   "id": "38a05572-51fa-43db-9c63-171d8e5ee34b",
   "metadata": {
    "execution": {
     "iopub.execute_input": "2023-02-25T11:40:22.777513Z",
     "iopub.status.busy": "2023-02-25T11:40:22.777244Z",
     "iopub.status.idle": "2023-02-25T11:40:24.249647Z",
     "shell.execute_reply": "2023-02-25T11:40:24.248912Z",
     "shell.execute_reply.started": "2023-02-25T11:40:22.777490Z"
    }
   },
   "outputs": [
    {
     "name": "stdout",
     "output_type": "stream",
     "text": [
      "check_mask:  0 rows\n"
     ]
    }
   ],
   "source": [
    "# nolemma_id vorhanden und nicht widersprüchlich?\n",
    "mask = translate_lex.nolemma_id == ''\n",
    "check_mask(translate_lex,mask,0)\n",
    "\n",
    "a = pak.same_but_different(translate_lex,same='nolemma_id',different='data')\n",
    "assert a.shape[0] == 0\n",
    "#grid(a)"
   ]
  },
  {
   "cell_type": "markdown",
   "id": "6ef11542-c331-4a86-88ae-8e06ce0595e8",
   "metadata": {},
   "source": [
    "### Gerundivum als Merkmal speichern"
   ]
  },
  {
   "cell_type": "code",
   "execution_count": 38,
   "id": "1f02a5fe-a9bb-4f8a-9716-f83b214b1ed1",
   "metadata": {
    "execution": {
     "iopub.execute_input": "2023-02-25T11:40:24.250874Z",
     "iopub.status.busy": "2023-02-25T11:40:24.250597Z",
     "iopub.status.idle": "2023-02-25T11:40:25.543575Z",
     "shell.execute_reply": "2023-02-25T11:40:25.542768Z",
     "shell.execute_reply.started": "2023-02-25T11:40:24.250846Z"
    }
   },
   "outputs": [
    {
     "name": "stdout",
     "output_type": "stream",
     "text": [
      "check_mask:  16480 rows\n"
     ]
    },
    {
     "data": {
      "text/html": [
       "<div>\n",
       "<style scoped>\n",
       "    .dataframe tbody tr th:only-of-type {\n",
       "        vertical-align: middle;\n",
       "    }\n",
       "\n",
       "    .dataframe tbody tr th {\n",
       "        vertical-align: top;\n",
       "    }\n",
       "\n",
       "    .dataframe thead th {\n",
       "        text-align: right;\n",
       "    }\n",
       "</style>\n",
       "<table border=\"1\" class=\"dataframe\">\n",
       "  <thead>\n",
       "    <tr style=\"text-align: right;\">\n",
       "      <th></th>\n",
       "      <th>nolemma_id</th>\n",
       "      <th>data</th>\n",
       "      <th>tag</th>\n",
       "      <th>tag_0</th>\n",
       "      <th>tag_1</th>\n",
       "      <th>tagZ</th>\n",
       "      <th>tagZZ</th>\n",
       "      <th>member</th>\n",
       "      <th>score</th>\n",
       "      <th>lemma_id</th>\n",
       "      <th>lemma</th>\n",
       "      <th>lemma_lower</th>\n",
       "      <th>lemma_tagZZ</th>\n",
       "    </tr>\n",
       "  </thead>\n",
       "  <tbody>\n",
       "    <tr>\n",
       "      <th>359940</th>\n",
       "      <td>aufzuwärmende</td>\n",
       "      <td>aufzuwärmende</td>\n",
       "      <td>LEX_A</td>\n",
       "      <td>LEX_A</td>\n",
       "      <td>TIJcHNZnn0</td>\n",
       "      <td></td>\n",
       "      <td></td>\n",
       "      <td>Dekliniertes_Gerundivum Adjektiv</td>\n",
       "      <td>1.763062</td>\n",
       "      <td>aufwärmen</td>\n",
       "      <td>aufwärmen</td>\n",
       "      <td>aufwärmen</td>\n",
       "      <td>V</td>\n",
       "    </tr>\n",
       "    <tr>\n",
       "      <th>364155</th>\n",
       "      <td>abzustrafendem</td>\n",
       "      <td>abzustrafendem</td>\n",
       "      <td>LEX_A</td>\n",
       "      <td>LEX_A</td>\n",
       "      <td>3XmuYPtJvS</td>\n",
       "      <td></td>\n",
       "      <td></td>\n",
       "      <td>Dekliniertes_Gerundivum Adjektiv</td>\n",
       "      <td>0.812245</td>\n",
       "      <td>abstrafen</td>\n",
       "      <td>abstrafen</td>\n",
       "      <td>abstrafen</td>\n",
       "      <td>V</td>\n",
       "    </tr>\n",
       "    <tr>\n",
       "      <th>409567</th>\n",
       "      <td>abzuarbeitende</td>\n",
       "      <td>abzuarbeitende</td>\n",
       "      <td>LEX_A</td>\n",
       "      <td>LEX_A</td>\n",
       "      <td>sSydwL7m9s</td>\n",
       "      <td></td>\n",
       "      <td></td>\n",
       "      <td>Dekliniertes_Gerundivum Adjektiv</td>\n",
       "      <td>1.749696</td>\n",
       "      <td>abarbeiten</td>\n",
       "      <td>abarbeiten</td>\n",
       "      <td>abarbeiten</td>\n",
       "      <td>V</td>\n",
       "    </tr>\n",
       "    <tr>\n",
       "      <th>409791</th>\n",
       "      <td>abzubedingende</td>\n",
       "      <td>abzubedingende</td>\n",
       "      <td>LEX_A</td>\n",
       "      <td>LEX_A</td>\n",
       "      <td>a98HNpOefT</td>\n",
       "      <td></td>\n",
       "      <td></td>\n",
       "      <td>Dekliniertes_Gerundivum Adjektiv</td>\n",
       "      <td>1.746051</td>\n",
       "      <td>abbedingen</td>\n",
       "      <td>abbedingen</td>\n",
       "      <td>abbedingen</td>\n",
       "      <td>V</td>\n",
       "    </tr>\n",
       "    <tr>\n",
       "      <th>410197</th>\n",
       "      <td>abzubrühende</td>\n",
       "      <td>abzubrühende</td>\n",
       "      <td>LEX_A</td>\n",
       "      <td>LEX_A</td>\n",
       "      <td>fJpqpPYTyL</td>\n",
       "      <td></td>\n",
       "      <td></td>\n",
       "      <td>Dekliniertes_Gerundivum Adjektiv</td>\n",
       "      <td>1.712029</td>\n",
       "      <td>abbrühen</td>\n",
       "      <td>abbrühen</td>\n",
       "      <td>abbrühen</td>\n",
       "      <td>V</td>\n",
       "    </tr>\n",
       "    <tr>\n",
       "      <th>443749</th>\n",
       "      <td>hinzuzufindendem</td>\n",
       "      <td>hinzuzufindendem</td>\n",
       "      <td>LEX_A</td>\n",
       "      <td>LEX_A</td>\n",
       "      <td>3vlHJjo7pW</td>\n",
       "      <td></td>\n",
       "      <td></td>\n",
       "      <td>Dekliniertes_Gerundivum Adjektiv</td>\n",
       "      <td>0.757143</td>\n",
       "      <td>hinzufinden</td>\n",
       "      <td>hinzufinden</td>\n",
       "      <td>hinzufinden</td>\n",
       "      <td>V</td>\n",
       "    </tr>\n",
       "    <tr>\n",
       "      <th>483133</th>\n",
       "      <td>zusammenzubindenden</td>\n",
       "      <td>zusammenzubindenden</td>\n",
       "      <td>LEX_A</td>\n",
       "      <td>LEX_A</td>\n",
       "      <td>00jTsBOdYD</td>\n",
       "      <td></td>\n",
       "      <td></td>\n",
       "      <td>Dekliniertes_Gerundivum Adjektiv</td>\n",
       "      <td>2.191981</td>\n",
       "      <td>zusammenbinden</td>\n",
       "      <td>zusammenbinden</td>\n",
       "      <td>zusammenbinden</td>\n",
       "      <td>V</td>\n",
       "    </tr>\n",
       "    <tr>\n",
       "      <th>528620</th>\n",
       "      <td>hochzuschätzenden</td>\n",
       "      <td>hochzuschätzenden</td>\n",
       "      <td>LEX_A</td>\n",
       "      <td>LEX_A</td>\n",
       "      <td>zzooxDokpP</td>\n",
       "      <td></td>\n",
       "      <td></td>\n",
       "      <td>Dekliniertes_Gerundivum Adjektiv</td>\n",
       "      <td>2.145808</td>\n",
       "      <td>hochschätzen</td>\n",
       "      <td>hochschätzen</td>\n",
       "      <td>hochschätzen</td>\n",
       "      <td>V</td>\n",
       "    </tr>\n",
       "    <tr>\n",
       "      <th>544538</th>\n",
       "      <td>einzucheckendem</td>\n",
       "      <td>einzucheckendem</td>\n",
       "      <td>LEX_A</td>\n",
       "      <td>LEX_A</td>\n",
       "      <td>003ywklN2d</td>\n",
       "      <td></td>\n",
       "      <td></td>\n",
       "      <td>Dekliniertes_Gerundivum Adjektiv</td>\n",
       "      <td>0.897959</td>\n",
       "      <td>einchecken</td>\n",
       "      <td>einchecken</td>\n",
       "      <td>einchecken</td>\n",
       "      <td>V</td>\n",
       "    </tr>\n",
       "    <tr>\n",
       "      <th>560476</th>\n",
       "      <td>wertzuschätzenden</td>\n",
       "      <td>wertzuschätzenden</td>\n",
       "      <td>LEX_A</td>\n",
       "      <td>LEX_A</td>\n",
       "      <td>d2WiAXF6fZ</td>\n",
       "      <td></td>\n",
       "      <td></td>\n",
       "      <td>Dekliniertes_Gerundivum Adjektiv</td>\n",
       "      <td>2.405832</td>\n",
       "      <td>wertschätzen</td>\n",
       "      <td>wertschätzen</td>\n",
       "      <td>wertschätzen</td>\n",
       "      <td>V</td>\n",
       "    </tr>\n",
       "    <tr>\n",
       "      <th>599992</th>\n",
       "      <td>übrigzulassendes</td>\n",
       "      <td>übrigzulassendes</td>\n",
       "      <td>LEX_A</td>\n",
       "      <td>LEX_A</td>\n",
       "      <td>EgizoLNsbO</td>\n",
       "      <td></td>\n",
       "      <td></td>\n",
       "      <td>Dekliniertes_Gerundivum Adjektiv</td>\n",
       "      <td>1.240583</td>\n",
       "      <td>übriglassen</td>\n",
       "      <td>übriglassen</td>\n",
       "      <td>übriglassen</td>\n",
       "      <td>V</td>\n",
       "    </tr>\n",
       "    <tr>\n",
       "      <th>667121</th>\n",
       "      <td>entgegenzuwerfendes</td>\n",
       "      <td>entgegenzuwerfendes</td>\n",
       "      <td>LEX_A</td>\n",
       "      <td>LEX_A</td>\n",
       "      <td>5DizQ4NO79</td>\n",
       "      <td></td>\n",
       "      <td></td>\n",
       "      <td>Dekliniertes_Gerundivum Adjektiv</td>\n",
       "      <td>1.154313</td>\n",
       "      <td>entgegenwerfen</td>\n",
       "      <td>entgegenwerfen</td>\n",
       "      <td>entgegenwerfen</td>\n",
       "      <td>V</td>\n",
       "    </tr>\n",
       "  </tbody>\n",
       "</table>\n",
       "</div>"
      ],
      "text/plain": [
       "                 nolemma_id                 data    tag  tag_0       tag_1  \\\n",
       "359940        aufzuwärmende        aufzuwärmende  LEX_A  LEX_A  TIJcHNZnn0   \n",
       "364155       abzustrafendem       abzustrafendem  LEX_A  LEX_A  3XmuYPtJvS   \n",
       "409567       abzuarbeitende       abzuarbeitende  LEX_A  LEX_A  sSydwL7m9s   \n",
       "409791       abzubedingende       abzubedingende  LEX_A  LEX_A  a98HNpOefT   \n",
       "410197         abzubrühende         abzubrühende  LEX_A  LEX_A  fJpqpPYTyL   \n",
       "443749     hinzuzufindendem     hinzuzufindendem  LEX_A  LEX_A  3vlHJjo7pW   \n",
       "483133  zusammenzubindenden  zusammenzubindenden  LEX_A  LEX_A  00jTsBOdYD   \n",
       "528620    hochzuschätzenden    hochzuschätzenden  LEX_A  LEX_A  zzooxDokpP   \n",
       "544538      einzucheckendem      einzucheckendem  LEX_A  LEX_A  003ywklN2d   \n",
       "560476    wertzuschätzenden    wertzuschätzenden  LEX_A  LEX_A  d2WiAXF6fZ   \n",
       "599992     übrigzulassendes     übrigzulassendes  LEX_A  LEX_A  EgizoLNsbO   \n",
       "667121  entgegenzuwerfendes  entgegenzuwerfendes  LEX_A  LEX_A  5DizQ4NO79   \n",
       "\n",
       "       tagZ tagZZ                            member     score        lemma_id  \\\n",
       "359940             Dekliniertes_Gerundivum Adjektiv  1.763062       aufwärmen   \n",
       "364155             Dekliniertes_Gerundivum Adjektiv  0.812245       abstrafen   \n",
       "409567             Dekliniertes_Gerundivum Adjektiv  1.749696      abarbeiten   \n",
       "409791             Dekliniertes_Gerundivum Adjektiv  1.746051      abbedingen   \n",
       "410197             Dekliniertes_Gerundivum Adjektiv  1.712029        abbrühen   \n",
       "443749             Dekliniertes_Gerundivum Adjektiv  0.757143     hinzufinden   \n",
       "483133             Dekliniertes_Gerundivum Adjektiv  2.191981  zusammenbinden   \n",
       "528620             Dekliniertes_Gerundivum Adjektiv  2.145808    hochschätzen   \n",
       "544538             Dekliniertes_Gerundivum Adjektiv  0.897959      einchecken   \n",
       "560476             Dekliniertes_Gerundivum Adjektiv  2.405832    wertschätzen   \n",
       "599992             Dekliniertes_Gerundivum Adjektiv  1.240583     übriglassen   \n",
       "667121             Dekliniertes_Gerundivum Adjektiv  1.154313  entgegenwerfen   \n",
       "\n",
       "                 lemma     lemma_lower lemma_tagZZ  \n",
       "359940       aufwärmen       aufwärmen           V  \n",
       "364155       abstrafen       abstrafen           V  \n",
       "409567      abarbeiten      abarbeiten           V  \n",
       "409791      abbedingen      abbedingen           V  \n",
       "410197        abbrühen        abbrühen           V  \n",
       "443749     hinzufinden     hinzufinden           V  \n",
       "483133  zusammenbinden  zusammenbinden           V  \n",
       "528620    hochschätzen    hochschätzen           V  \n",
       "544538      einchecken      einchecken           V  \n",
       "560476    wertschätzen    wertschätzen           V  \n",
       "599992     übriglassen     übriglassen           V  \n",
       "667121  entgegenwerfen  entgegenwerfen           V  "
      ]
     },
     "execution_count": 38,
     "metadata": {},
     "output_type": "execute_result"
    }
   ],
   "source": [
    "# Gerundivum finden\n",
    "mask1 =  translate_lex.data.str.contains('zu')\n",
    "mask2 = ~translate_lex.data.str.endswith('zu')\n",
    "mask3 =  translate_lex.tag.str.contains('LEX_A') \n",
    "mask4 =  translate_lex.member.str.contains('Dekliniertes_Gerundivum') \n",
    "mask = mask1  & mask2  &  mask3  &  mask4\n",
    "check_mask(translate_lex,mask,16480)\n",
    "\n",
    "df = translate_lex[mask].copy()\n",
    "pak.sample(df)"
   ]
  },
  {
   "cell_type": "code",
   "execution_count": 39,
   "id": "4036ae9c-6be8-44c5-bd6e-b3ffb651adc9",
   "metadata": {
    "execution": {
     "iopub.execute_input": "2023-02-25T11:40:25.544823Z",
     "iopub.status.busy": "2023-02-25T11:40:25.544552Z",
     "iopub.status.idle": "2023-02-25T11:40:25.808248Z",
     "shell.execute_reply": "2023-02-25T11:40:25.807597Z",
     "shell.execute_reply.started": "2023-02-25T11:40:25.544800Z"
    }
   },
   "outputs": [
    {
     "name": "stdout",
     "output_type": "stream",
     "text": [
      "update_col: 16480 cells written into new column\n"
     ]
    }
   ],
   "source": [
    "# anfügen vorbereiten\n",
    "df = pak.rename_col( df, 'lex',        'data' )\n",
    "df = pak.rename_col( df, 'nolemma_id', 'data_id' )\n",
    "df['merkmal']  = 'Gerundivum'\n",
    "df['meta']     = ''\n",
    "df['num']      = ''\n",
    "df['is_lex']   = True\n",
    "df['data_tag'] = 'ADJA'\n",
    "df = pak.drop_cols( df, set(df.columns) - set(wiktionary_merkmal.columns) )\n",
    "df = pak.update_col(df, wiktionary_lemma, left_on='lemma_id', right_on='lemma_id', col='tag', col_rename='lemma_tag')"
   ]
  },
  {
   "cell_type": "code",
   "execution_count": 40,
   "id": "6d2ca894-f87e-4b61-80d5-188700d32af6",
   "metadata": {
    "execution": {
     "iopub.execute_input": "2023-02-25T11:40:25.811742Z",
     "iopub.status.busy": "2023-02-25T11:40:25.811478Z",
     "iopub.status.idle": "2023-02-25T11:40:25.892770Z",
     "shell.execute_reply": "2023-02-25T11:40:25.891668Z",
     "shell.execute_reply.started": "2023-02-25T11:40:25.811721Z"
    }
   },
   "outputs": [
    {
     "name": "stdout",
     "output_type": "stream",
     "text": [
      "check_mask:  0 rows\n"
     ]
    }
   ],
   "source": [
    "# Prüfen: Alle Gerundiva verweisen auf ein Verb\n",
    "mask_L = wiktionary_lemma.tagZZ == 'V'\n",
    "verben = wiktionary_lemma[mask_L].lemma_id\n",
    "\n",
    "mask = ~df.lemma_id.isin(verben)\n",
    "check_mask(df,mask,0)"
   ]
  },
  {
   "cell_type": "code",
   "execution_count": 41,
   "id": "e941f8ae-3688-44ef-b1c2-d5cffd080c05",
   "metadata": {
    "execution": {
     "iopub.execute_input": "2023-02-25T11:40:25.899507Z",
     "iopub.status.busy": "2023-02-25T11:40:25.899145Z",
     "iopub.status.idle": "2023-02-25T11:40:27.568370Z",
     "shell.execute_reply": "2023-02-25T11:40:27.567645Z",
     "shell.execute_reply.started": "2023-02-25T11:40:25.899482Z"
    }
   },
   "outputs": [
    {
     "name": "stdout",
     "output_type": "stream",
     "text": [
      "16480 rows added, now a total of 4855379\n"
     ]
    }
   ],
   "source": [
    "# anfügen\n",
    "wiktionary_merkmal = pak.add_rows(wiktionary_merkmal, df)"
   ]
  },
  {
   "cell_type": "code",
   "execution_count": 42,
   "id": "4dde8b78-f71d-4c5b-b9e0-99a635f072d0",
   "metadata": {
    "execution": {
     "iopub.execute_input": "2023-02-25T11:40:27.572096Z",
     "iopub.status.busy": "2023-02-25T11:40:27.571774Z",
     "iopub.status.idle": "2023-02-25T11:40:32.655971Z",
     "shell.execute_reply": "2023-02-25T11:40:32.655293Z",
     "shell.execute_reply.started": "2023-02-25T11:40:27.572073Z"
    }
   },
   "outputs": [
    {
     "name": "stdout",
     "output_type": "stream",
     "text": [
      "check_mask:  0 rows\n"
     ]
    }
   ],
   "source": [
    "# Prüfen: Alle Lexeme haben eine eindeutige data_id\n",
    "mask1 = wiktionary_merkmal.data_id == ''\n",
    "mask2 = wiktionary_merkmal.is_lex == True\n",
    "mask = mask1  &  mask2\n",
    "check_mask(wiktionary_merkmal,mask,0)\n",
    "\n",
    "mask_notempty = wiktionary_merkmal.data_id != ''\n",
    "a = pak.same_but_different(wiktionary_merkmal[mask_notempty],same='data_id',different='data')\n",
    "assert a.shape[0] == 0\n",
    "#grid(a)"
   ]
  },
  {
   "cell_type": "code",
   "execution_count": 43,
   "id": "3db96f39-1160-4c06-a5e2-b8f405c2a84b",
   "metadata": {
    "execution": {
     "iopub.execute_input": "2023-02-25T11:40:32.656905Z",
     "iopub.status.busy": "2023-02-25T11:40:32.656691Z",
     "iopub.status.idle": "2023-02-25T11:40:33.352967Z",
     "shell.execute_reply": "2023-02-25T11:40:33.352225Z",
     "shell.execute_reply.started": "2023-02-25T11:40:32.656884Z"
    },
    "tags": []
   },
   "outputs": [
    {
     "data": {
      "text/html": [
       "<div>\n",
       "<style scoped>\n",
       "    .dataframe tbody tr th:only-of-type {\n",
       "        vertical-align: middle;\n",
       "    }\n",
       "\n",
       "    .dataframe tbody tr th {\n",
       "        vertical-align: top;\n",
       "    }\n",
       "\n",
       "    .dataframe thead th {\n",
       "        text-align: right;\n",
       "    }\n",
       "</style>\n",
       "<table border=\"1\" class=\"dataframe\">\n",
       "  <thead>\n",
       "    <tr style=\"text-align: right;\">\n",
       "      <th></th>\n",
       "      <th>lemma_id</th>\n",
       "      <th>merkmal</th>\n",
       "      <th>data_id</th>\n",
       "      <th>data</th>\n",
       "      <th>data_tag</th>\n",
       "      <th>lemma_tag</th>\n",
       "      <th>num</th>\n",
       "      <th>meta</th>\n",
       "      <th>score</th>\n",
       "      <th>is_lex</th>\n",
       "    </tr>\n",
       "  </thead>\n",
       "  <tbody>\n",
       "    <tr>\n",
       "      <th>4838899</th>\n",
       "      <td>aufwärmen</td>\n",
       "      <td>Gerundivum</td>\n",
       "      <td>aufzuwärmende</td>\n",
       "      <td>aufzuwärmende</td>\n",
       "      <td>ADJA</td>\n",
       "      <td>VVFIN</td>\n",
       "      <td></td>\n",
       "      <td></td>\n",
       "      <td>1.763062</td>\n",
       "      <td>True</td>\n",
       "    </tr>\n",
       "    <tr>\n",
       "      <th>4839077</th>\n",
       "      <td>anleuchten</td>\n",
       "      <td>Gerundivum</td>\n",
       "      <td>anzuleuchtenden</td>\n",
       "      <td>anzuleuchtenden</td>\n",
       "      <td>ADJA</td>\n",
       "      <td>VVFIN</td>\n",
       "      <td></td>\n",
       "      <td></td>\n",
       "      <td>2.105711</td>\n",
       "      <td>True</td>\n",
       "    </tr>\n",
       "    <tr>\n",
       "      <th>4840750</th>\n",
       "      <td>abarbeiten</td>\n",
       "      <td>Gerundivum</td>\n",
       "      <td>abzuarbeitende</td>\n",
       "      <td>abzuarbeitende</td>\n",
       "      <td>ADJA</td>\n",
       "      <td>VVFIN</td>\n",
       "      <td></td>\n",
       "      <td></td>\n",
       "      <td>1.749696</td>\n",
       "      <td>True</td>\n",
       "    </tr>\n",
       "    <tr>\n",
       "      <th>4840794</th>\n",
       "      <td>abberufen</td>\n",
       "      <td>Gerundivum</td>\n",
       "      <td>abzuberufende</td>\n",
       "      <td>abzuberufende</td>\n",
       "      <td>ADJA</td>\n",
       "      <td>VVFIN</td>\n",
       "      <td></td>\n",
       "      <td></td>\n",
       "      <td>1.731470</td>\n",
       "      <td>True</td>\n",
       "    </tr>\n",
       "    <tr>\n",
       "      <th>4844943</th>\n",
       "      <td>hinzufinden</td>\n",
       "      <td>Gerundivum</td>\n",
       "      <td>hinzuzufindendem</td>\n",
       "      <td>hinzuzufindendem</td>\n",
       "      <td>ADJA</td>\n",
       "      <td>VVFIN</td>\n",
       "      <td></td>\n",
       "      <td></td>\n",
       "      <td>0.757143</td>\n",
       "      <td>True</td>\n",
       "    </tr>\n",
       "    <tr>\n",
       "      <th>4852001</th>\n",
       "      <td>wertschätzen</td>\n",
       "      <td>Gerundivum</td>\n",
       "      <td>wertzuschätzenden</td>\n",
       "      <td>wertzuschätzenden</td>\n",
       "      <td>ADJA</td>\n",
       "      <td>VVFIN</td>\n",
       "      <td></td>\n",
       "      <td></td>\n",
       "      <td>2.405832</td>\n",
       "      <td>True</td>\n",
       "    </tr>\n",
       "    <tr>\n",
       "      <th>4853548</th>\n",
       "      <td>übriglassen</td>\n",
       "      <td>Gerundivum</td>\n",
       "      <td>übrigzulassendes</td>\n",
       "      <td>übrigzulassendes</td>\n",
       "      <td>ADJA</td>\n",
       "      <td>VVFIN</td>\n",
       "      <td></td>\n",
       "      <td></td>\n",
       "      <td>1.240583</td>\n",
       "      <td>True</td>\n",
       "    </tr>\n",
       "    <tr>\n",
       "      <th>4855378</th>\n",
       "      <td>entgegenwerfen</td>\n",
       "      <td>Gerundivum</td>\n",
       "      <td>entgegenzuwerfendes</td>\n",
       "      <td>entgegenzuwerfendes</td>\n",
       "      <td>ADJA</td>\n",
       "      <td>VVFIN</td>\n",
       "      <td></td>\n",
       "      <td></td>\n",
       "      <td>1.154313</td>\n",
       "      <td>True</td>\n",
       "    </tr>\n",
       "  </tbody>\n",
       "</table>\n",
       "</div>"
      ],
      "text/plain": [
       "               lemma_id     merkmal              data_id                 data  \\\n",
       "4838899       aufwärmen  Gerundivum        aufzuwärmende        aufzuwärmende   \n",
       "4839077      anleuchten  Gerundivum      anzuleuchtenden      anzuleuchtenden   \n",
       "4840750      abarbeiten  Gerundivum       abzuarbeitende       abzuarbeitende   \n",
       "4840794       abberufen  Gerundivum        abzuberufende        abzuberufende   \n",
       "4844943     hinzufinden  Gerundivum     hinzuzufindendem     hinzuzufindendem   \n",
       "4852001    wertschätzen  Gerundivum    wertzuschätzenden    wertzuschätzenden   \n",
       "4853548     übriglassen  Gerundivum     übrigzulassendes     übrigzulassendes   \n",
       "4855378  entgegenwerfen  Gerundivum  entgegenzuwerfendes  entgegenzuwerfendes   \n",
       "\n",
       "        data_tag lemma_tag num meta     score  is_lex  \n",
       "4838899     ADJA     VVFIN           1.763062    True  \n",
       "4839077     ADJA     VVFIN           2.105711    True  \n",
       "4840750     ADJA     VVFIN           1.749696    True  \n",
       "4840794     ADJA     VVFIN           1.731470    True  \n",
       "4844943     ADJA     VVFIN           0.757143    True  \n",
       "4852001     ADJA     VVFIN           2.405832    True  \n",
       "4853548     ADJA     VVFIN           1.240583    True  \n",
       "4855378     ADJA     VVFIN           1.154313    True  "
      ]
     },
     "execution_count": 43,
     "metadata": {},
     "output_type": "execute_result"
    }
   ],
   "source": [
    "mask = wiktionary_merkmal.merkmal == 'Gerundivum'\n",
    "pak.sample(wiktionary_merkmal[mask])"
   ]
  },
  {
   "cell_type": "markdown",
   "id": "d12068f9-0d63-4ec3-aba7-ed7b7a941d2a",
   "metadata": {},
   "source": [
    "### translate_lex pflegen"
   ]
  },
  {
   "cell_type": "code",
   "execution_count": 44,
   "id": "de398c9e-90f5-423d-9a6c-0b3dbd685675",
   "metadata": {
    "execution": {
     "iopub.execute_input": "2023-02-25T11:40:33.353958Z",
     "iopub.status.busy": "2023-02-25T11:40:33.353686Z",
     "iopub.status.idle": "2023-02-25T11:40:33.390838Z",
     "shell.execute_reply": "2023-02-25T11:40:33.390128Z",
     "shell.execute_reply.started": "2023-02-25T11:40:33.353928Z"
    }
   },
   "outputs": [],
   "source": [
    "#grid(translate_lex,pak.sample)"
   ]
  },
  {
   "cell_type": "code",
   "execution_count": 45,
   "id": "d42f1cee-9c36-4dd3-b15d-b0e1e6062a18",
   "metadata": {
    "execution": {
     "iopub.execute_input": "2023-02-25T11:40:33.397471Z",
     "iopub.status.busy": "2023-02-25T11:40:33.394966Z",
     "iopub.status.idle": "2023-02-25T11:40:34.259700Z",
     "shell.execute_reply": "2023-02-25T11:40:34.258955Z",
     "shell.execute_reply.started": "2023-02-25T11:40:33.397431Z"
    },
    "tags": []
   },
   "outputs": [
    {
     "name": "stdout",
     "output_type": "stream",
     "text": [
      "check_mask:  9 rows\n",
      "Move 9 rows from 667548\n",
      "9 rows\n"
     ]
    },
    {
     "data": {
      "text/html": [
       "<div>\n",
       "<style scoped>\n",
       "    .dataframe tbody tr th:only-of-type {\n",
       "        vertical-align: middle;\n",
       "    }\n",
       "\n",
       "    .dataframe tbody tr th {\n",
       "        vertical-align: top;\n",
       "    }\n",
       "\n",
       "    .dataframe thead th {\n",
       "        text-align: right;\n",
       "    }\n",
       "</style>\n",
       "<table border=\"1\" class=\"dataframe\">\n",
       "  <thead>\n",
       "    <tr style=\"text-align: right;\">\n",
       "      <th></th>\n",
       "      <th>nolemma_id</th>\n",
       "      <th>data</th>\n",
       "      <th>tag</th>\n",
       "      <th>tag_0</th>\n",
       "      <th>tag_1</th>\n",
       "      <th>tagZ</th>\n",
       "      <th>tagZZ</th>\n",
       "      <th>member</th>\n",
       "      <th>score</th>\n",
       "      <th>lemma_id</th>\n",
       "      <th>lemma</th>\n",
       "      <th>lemma_lower</th>\n",
       "      <th>lemma_tagZZ</th>\n",
       "      <th>msg</th>\n",
       "    </tr>\n",
       "  </thead>\n",
       "  <tbody>\n",
       "    <tr>\n",
       "      <th>884</th>\n",
       "      <td>zagen_1</td>\n",
       "      <td>zagen</td>\n",
       "      <td>LEX_A</td>\n",
       "      <td>LEX_A</td>\n",
       "      <td>0CkESsY0SY</td>\n",
       "      <td></td>\n",
       "      <td></td>\n",
       "      <td>Deklinierte_Form</td>\n",
       "      <td>2.534629</td>\n",
       "      <td>zage</td>\n",
       "      <td>zag</td>\n",
       "      <td>zag</td>\n",
       "      <td>A</td>\n",
       "      <td>verwaist_lemma_id</td>\n",
       "    </tr>\n",
       "    <tr>\n",
       "      <th>28326</th>\n",
       "      <td>Kremes</td>\n",
       "      <td>Kremes</td>\n",
       "      <td>LEX_A</td>\n",
       "      <td>LEX_A</td>\n",
       "      <td>WJPRmiOLt6</td>\n",
       "      <td></td>\n",
       "      <td></td>\n",
       "      <td>Deklinierte_Form</td>\n",
       "      <td>0.742857</td>\n",
       "      <td>Cremes</td>\n",
       "      <td>Kreme</td>\n",
       "      <td>kreme</td>\n",
       "      <td>N</td>\n",
       "      <td>verwaist_lemma_id</td>\n",
       "    </tr>\n",
       "    <tr>\n",
       "      <th>177595</th>\n",
       "      <td>Meßgewande</td>\n",
       "      <td>Meßgewande</td>\n",
       "      <td>LEX_A</td>\n",
       "      <td>LEX_A</td>\n",
       "      <td>binOH2u11m</td>\n",
       "      <td></td>\n",
       "      <td></td>\n",
       "      <td>Deklinierte_Form</td>\n",
       "      <td>0.600000</td>\n",
       "      <td>Messgewande</td>\n",
       "      <td>Meßgewand</td>\n",
       "      <td>meßgewand</td>\n",
       "      <td>N</td>\n",
       "      <td>verwaist_lemma_id</td>\n",
       "    </tr>\n",
       "    <tr>\n",
       "      <th>204892</th>\n",
       "      <td>Zierates</td>\n",
       "      <td>Zierates</td>\n",
       "      <td>LEX_A</td>\n",
       "      <td>LEX_A</td>\n",
       "      <td>mQtZge3RLQ</td>\n",
       "      <td></td>\n",
       "      <td></td>\n",
       "      <td>Deklinierte_Form</td>\n",
       "      <td>0.469388</td>\n",
       "      <td>Zierats</td>\n",
       "      <td>Zierat</td>\n",
       "      <td>zierat</td>\n",
       "      <td>N</td>\n",
       "      <td>verwaist_lemma_id</td>\n",
       "    </tr>\n",
       "    <tr>\n",
       "      <th>204893</th>\n",
       "      <td>Zierats</td>\n",
       "      <td>Zierats</td>\n",
       "      <td>LEX_A</td>\n",
       "      <td>LEX_A</td>\n",
       "      <td>7WDIuMD3u6</td>\n",
       "      <td></td>\n",
       "      <td></td>\n",
       "      <td>Deklinierte_Form</td>\n",
       "      <td>0.465306</td>\n",
       "      <td>Zierates</td>\n",
       "      <td>Zierat</td>\n",
       "      <td>zierat</td>\n",
       "      <td>N</td>\n",
       "      <td>verwaist_lemma_id</td>\n",
       "    </tr>\n",
       "    <tr>\n",
       "      <th>281103</th>\n",
       "      <td>kalvinistischsten</td>\n",
       "      <td>kalvinistischsten</td>\n",
       "      <td>LEX_A</td>\n",
       "      <td>LEX_A</td>\n",
       "      <td>00ocFjdZ25</td>\n",
       "      <td></td>\n",
       "      <td></td>\n",
       "      <td>Deklinierte_Form</td>\n",
       "      <td>2.207777</td>\n",
       "      <td>calvinistischsten</td>\n",
       "      <td>kalvinistisch</td>\n",
       "      <td>kalvinistisch</td>\n",
       "      <td>A</td>\n",
       "      <td>verwaist_lemma_id</td>\n",
       "    </tr>\n",
       "    <tr>\n",
       "      <th>281104</th>\n",
       "      <td>kalvinistischsten_1</td>\n",
       "      <td>kalvinistischsten</td>\n",
       "      <td>LEX_A</td>\n",
       "      <td>LEX_A</td>\n",
       "      <td>FUTCY0ysRx</td>\n",
       "      <td></td>\n",
       "      <td></td>\n",
       "      <td>Superlativ Adjektiv</td>\n",
       "      <td>0.640816</td>\n",
       "      <td>calvinistischsten</td>\n",
       "      <td>kalvinistisch</td>\n",
       "      <td>kalvinistisch</td>\n",
       "      <td>A</td>\n",
       "      <td>verwaist_lemma_id</td>\n",
       "    </tr>\n",
       "    <tr>\n",
       "      <th>654680</th>\n",
       "      <td>Fischgratparkettes</td>\n",
       "      <td>Fischgratparkettes</td>\n",
       "      <td>LEX_A</td>\n",
       "      <td>LEX_A</td>\n",
       "      <td>Od1lUBM2SG</td>\n",
       "      <td></td>\n",
       "      <td></td>\n",
       "      <td>Deklinierte_Form</td>\n",
       "      <td>0.587755</td>\n",
       "      <td>Fischgratparketts</td>\n",
       "      <td>Fischgratparkett</td>\n",
       "      <td>fischgratparkett</td>\n",
       "      <td>N</td>\n",
       "      <td>verwaist_lemma_id</td>\n",
       "    </tr>\n",
       "    <tr>\n",
       "      <th>654681</th>\n",
       "      <td>Fischgratparketts</td>\n",
       "      <td>Fischgratparketts</td>\n",
       "      <td>LEX_A</td>\n",
       "      <td>LEX_A</td>\n",
       "      <td>yQIN27bNN1</td>\n",
       "      <td></td>\n",
       "      <td></td>\n",
       "      <td>Deklinierte_Form</td>\n",
       "      <td>1.066829</td>\n",
       "      <td>Fischgratparkettes</td>\n",
       "      <td>Fischgratparkett</td>\n",
       "      <td>fischgratparkett</td>\n",
       "      <td>N</td>\n",
       "      <td>verwaist_lemma_id</td>\n",
       "    </tr>\n",
       "  </tbody>\n",
       "</table>\n",
       "</div>"
      ],
      "text/plain": [
       "                 nolemma_id                data    tag  tag_0       tag_1  \\\n",
       "884                 zagen_1               zagen  LEX_A  LEX_A  0CkESsY0SY   \n",
       "28326                Kremes              Kremes  LEX_A  LEX_A  WJPRmiOLt6   \n",
       "177595           Meßgewande          Meßgewande  LEX_A  LEX_A  binOH2u11m   \n",
       "204892             Zierates            Zierates  LEX_A  LEX_A  mQtZge3RLQ   \n",
       "204893              Zierats             Zierats  LEX_A  LEX_A  7WDIuMD3u6   \n",
       "281103    kalvinistischsten   kalvinistischsten  LEX_A  LEX_A  00ocFjdZ25   \n",
       "281104  kalvinistischsten_1   kalvinistischsten  LEX_A  LEX_A  FUTCY0ysRx   \n",
       "654680   Fischgratparkettes  Fischgratparkettes  LEX_A  LEX_A  Od1lUBM2SG   \n",
       "654681    Fischgratparketts   Fischgratparketts  LEX_A  LEX_A  yQIN27bNN1   \n",
       "\n",
       "       tagZ tagZZ               member     score            lemma_id  \\\n",
       "884                   Deklinierte_Form  2.534629                zage   \n",
       "28326                 Deklinierte_Form  0.742857              Cremes   \n",
       "177595                Deklinierte_Form  0.600000         Messgewande   \n",
       "204892                Deklinierte_Form  0.469388             Zierats   \n",
       "204893                Deklinierte_Form  0.465306            Zierates   \n",
       "281103                Deklinierte_Form  2.207777   calvinistischsten   \n",
       "281104             Superlativ Adjektiv  0.640816   calvinistischsten   \n",
       "654680                Deklinierte_Form  0.587755   Fischgratparketts   \n",
       "654681                Deklinierte_Form  1.066829  Fischgratparkettes   \n",
       "\n",
       "                   lemma       lemma_lower lemma_tagZZ                msg  \n",
       "884                  zag               zag           A  verwaist_lemma_id  \n",
       "28326              Kreme             kreme           N  verwaist_lemma_id  \n",
       "177595         Meßgewand         meßgewand           N  verwaist_lemma_id  \n",
       "204892            Zierat            zierat           N  verwaist_lemma_id  \n",
       "204893            Zierat            zierat           N  verwaist_lemma_id  \n",
       "281103     kalvinistisch     kalvinistisch           A  verwaist_lemma_id  \n",
       "281104     kalvinistisch     kalvinistisch           A  verwaist_lemma_id  \n",
       "654680  Fischgratparkett  fischgratparkett           N  verwaist_lemma_id  \n",
       "654681  Fischgratparkett  fischgratparkett           N  verwaist_lemma_id  "
      ]
     },
     "execution_count": 45,
     "metadata": {},
     "output_type": "execute_result"
    }
   ],
   "source": [
    "# Verwaiste löschen\n",
    "mask = ~translate_lex.lemma_id.isin(wiktionary_lemma.lemma_id)\n",
    "check_mask(translate_lex,mask,0,30)\n",
    "\n",
    "msg = 'verwaist_lemma_id'\n",
    "translate_lex, translate_lex_trash = pak.move_rows( translate_lex, translate_lex_trash, mask, msg )\n",
    "grid(translate_lex_trash,msg)"
   ]
  },
  {
   "cell_type": "code",
   "execution_count": 46,
   "id": "151aa542",
   "metadata": {
    "execution": {
     "iopub.execute_input": "2023-02-25T11:40:34.261983Z",
     "iopub.status.busy": "2023-02-25T11:40:34.261705Z",
     "iopub.status.idle": "2023-02-25T11:41:03.802456Z",
     "shell.execute_reply": "2023-02-25T11:41:03.801768Z",
     "shell.execute_reply.started": "2023-02-25T11:40:34.261960Z"
    },
    "tags": []
   },
   "outputs": [
    {
     "name": "stdout",
     "output_type": "stream",
     "text": [
      "update_col: 667539 cells written into existing column\n",
      "update_col: 0 cells written into existing column\n",
      "update_col: 0 cells written into new column\n",
      "update_col: 667539 cells written into existing column\n",
      "update_col: 667539 cells written into new column\n",
      "renaming score --> data_score\n"
     ]
    }
   ],
   "source": [
    "# umformen\n",
    "translate_lex = pak.rename_col( translate_lex, 'lex',        'data' )\n",
    "translate_lex = pak.rename_col( translate_lex, 'nolemma_id', 'data_id' )\n",
    "translate_lex['member'] = ('wiki ' + translate_lex['member'] ).str.strip()\n",
    "translate_lex = pflege_translate_tabelle(translate_lex, translate_tagZ, wiktionary_lemma)"
   ]
  },
  {
   "cell_type": "code",
   "execution_count": 47,
   "id": "dca741c4-c8f9-4923-987b-4735be44e617",
   "metadata": {
    "execution": {
     "iopub.execute_input": "2023-02-25T11:41:03.803546Z",
     "iopub.status.busy": "2023-02-25T11:41:03.803288Z",
     "iopub.status.idle": "2023-02-25T11:41:04.457995Z",
     "shell.execute_reply": "2023-02-25T11:41:04.457345Z",
     "shell.execute_reply.started": "2023-02-25T11:41:03.803519Z"
    },
    "tags": []
   },
   "outputs": [
    {
     "name": "stdout",
     "output_type": "stream",
     "text": [
      "check_mask:  5 rows\n",
      "Move 5 rows from 667539\n"
     ]
    }
   ],
   "source": [
    "# Müll\n",
    "mask = translate_lex.lemma_tag == 'TODO'\n",
    "check_mask(translate_lex,mask,0,5)\n",
    "\n",
    "msg = 'TODO'\n",
    "translate_lex, translate_lex_trash = pak.move_rows( translate_lex, translate_lex_trash, mask, msg )"
   ]
  },
  {
   "cell_type": "code",
   "execution_count": 48,
   "id": "719f17c9-5eea-4094-9e45-9eea6751b6fe",
   "metadata": {
    "execution": {
     "iopub.execute_input": "2023-02-25T11:41:04.458899Z",
     "iopub.status.busy": "2023-02-25T11:41:04.458696Z",
     "iopub.status.idle": "2023-02-25T11:41:04.750841Z",
     "shell.execute_reply": "2023-02-25T11:41:04.750241Z",
     "shell.execute_reply.started": "2023-02-25T11:41:04.458879Z"
    },
    "tags": []
   },
   "outputs": [],
   "source": [
    "# not any nan\n",
    "assert not pak.any_nan(translate_lex)"
   ]
  },
  {
   "cell_type": "code",
   "execution_count": 49,
   "id": "89bf7ce9-744b-4a03-b66a-620890f7177b",
   "metadata": {
    "execution": {
     "iopub.execute_input": "2023-02-25T11:41:04.751907Z",
     "iopub.status.busy": "2023-02-25T11:41:04.751671Z",
     "iopub.status.idle": "2023-02-25T11:41:09.530852Z",
     "shell.execute_reply": "2023-02-25T11:41:09.530235Z",
     "shell.execute_reply.started": "2023-02-25T11:41:04.751884Z"
    },
    "tags": []
   },
   "outputs": [
    {
     "data": {
      "text/html": [
       "<div>\n",
       "<style scoped>\n",
       "    .dataframe tbody tr th:only-of-type {\n",
       "        vertical-align: middle;\n",
       "    }\n",
       "\n",
       "    .dataframe tbody tr th {\n",
       "        vertical-align: top;\n",
       "    }\n",
       "\n",
       "    .dataframe thead th {\n",
       "        text-align: right;\n",
       "    }\n",
       "</style>\n",
       "<table border=\"1\" class=\"dataframe\">\n",
       "  <thead>\n",
       "    <tr style=\"text-align: right;\">\n",
       "      <th></th>\n",
       "      <th>data_id</th>\n",
       "      <th>data</th>\n",
       "      <th>data_tagZZ</th>\n",
       "      <th>data_score</th>\n",
       "      <th>member</th>\n",
       "      <th>lemma_id</th>\n",
       "      <th>lemma</th>\n",
       "      <th>lemma_tag</th>\n",
       "      <th>lemma_tagZZ</th>\n",
       "      <th>lemma_score</th>\n",
       "      <th>lemma_lower</th>\n",
       "    </tr>\n",
       "  </thead>\n",
       "  <tbody>\n",
       "    <tr>\n",
       "      <th>0</th>\n",
       "      <td>lieben_1</td>\n",
       "      <td>lieben</td>\n",
       "      <td></td>\n",
       "      <td>2.408262</td>\n",
       "      <td>wiki Deklinierte_Form</td>\n",
       "      <td>lieb</td>\n",
       "      <td>lieb</td>\n",
       "      <td>ADJA</td>\n",
       "      <td>A</td>\n",
       "      <td>21.805347</td>\n",
       "      <td>lieb</td>\n",
       "    </tr>\n",
       "    <tr>\n",
       "      <th>43</th>\n",
       "      <td>mich</td>\n",
       "      <td>mich</td>\n",
       "      <td></td>\n",
       "      <td>0.795918</td>\n",
       "      <td>wiki Deklinierte_Form</td>\n",
       "      <td>ich</td>\n",
       "      <td>ich</td>\n",
       "      <td>PPER</td>\n",
       "      <td>P</td>\n",
       "      <td>5717.436035</td>\n",
       "      <td>ich</td>\n",
       "    </tr>\n",
       "    <tr>\n",
       "      <th>384</th>\n",
       "      <td>Marken_1</td>\n",
       "      <td>Marken</td>\n",
       "      <td></td>\n",
       "      <td>0.746939</td>\n",
       "      <td>wiki Deklinierte_Form</td>\n",
       "      <td>Mark</td>\n",
       "      <td>Mark</td>\n",
       "      <td>NN</td>\n",
       "      <td>N</td>\n",
       "      <td>367.630859</td>\n",
       "      <td>mark</td>\n",
       "    </tr>\n",
       "    <tr>\n",
       "      <th>8285</th>\n",
       "      <td>aufzuwerfen</td>\n",
       "      <td>aufzuwerfen</td>\n",
       "      <td></td>\n",
       "      <td>0.540816</td>\n",
       "      <td>wiki Erweiterter_Infinitiv Verb</td>\n",
       "      <td>aufwerfen</td>\n",
       "      <td>aufwerfen</td>\n",
       "      <td>VVFIN</td>\n",
       "      <td>V</td>\n",
       "      <td>75.192467</td>\n",
       "      <td>aufwerfen</td>\n",
       "    </tr>\n",
       "    <tr>\n",
       "      <th>54677</th>\n",
       "      <td>unterschlage</td>\n",
       "      <td>unterschlage</td>\n",
       "      <td></td>\n",
       "      <td>1.000000</td>\n",
       "      <td>wiki Konjugierte_Form Verb</td>\n",
       "      <td>unterschlagen</td>\n",
       "      <td>unterschlagen</td>\n",
       "      <td>VVFIN</td>\n",
       "      <td>V</td>\n",
       "      <td>84.217979</td>\n",
       "      <td>unterschlagen</td>\n",
       "    </tr>\n",
       "    <tr>\n",
       "      <th>188180</th>\n",
       "      <td>überführte</td>\n",
       "      <td>überführte</td>\n",
       "      <td></td>\n",
       "      <td>1.761847</td>\n",
       "      <td>wiki Deklinierte_Form</td>\n",
       "      <td>überführt_4</td>\n",
       "      <td>überführt</td>\n",
       "      <td>ADJA</td>\n",
       "      <td>A</td>\n",
       "      <td>0.160714</td>\n",
       "      <td>überführt</td>\n",
       "    </tr>\n",
       "    <tr>\n",
       "      <th>188314</th>\n",
       "      <td>α-Zerfällen</td>\n",
       "      <td>α-Zerfällen</td>\n",
       "      <td></td>\n",
       "      <td>0.434694</td>\n",
       "      <td>wiki Deklinierte_Form</td>\n",
       "      <td>α-Zerfall</td>\n",
       "      <td>α-Zerfall</td>\n",
       "      <td>NN</td>\n",
       "      <td>N</td>\n",
       "      <td>119.873871</td>\n",
       "      <td>α-zerfall</td>\n",
       "    </tr>\n",
       "    <tr>\n",
       "      <th>194765</th>\n",
       "      <td>1-Cent-Stücks</td>\n",
       "      <td>1-Cent-Stücks</td>\n",
       "      <td></td>\n",
       "      <td>0.706122</td>\n",
       "      <td>wiki Deklinierte_Form</td>\n",
       "      <td>1-Cent-Stück</td>\n",
       "      <td>1-Cent-Stück</td>\n",
       "      <td>NN</td>\n",
       "      <td>N</td>\n",
       "      <td>21.782990</td>\n",
       "      <td>1-cent-stück</td>\n",
       "    </tr>\n",
       "    <tr>\n",
       "      <th>362413</th>\n",
       "      <td>vermarktende</td>\n",
       "      <td>vermarktende</td>\n",
       "      <td></td>\n",
       "      <td>1.749696</td>\n",
       "      <td>wiki Deklinierte_Form</td>\n",
       "      <td>vermarktend</td>\n",
       "      <td>vermarktend</td>\n",
       "      <td>ADJA</td>\n",
       "      <td>A</td>\n",
       "      <td>4.285714</td>\n",
       "      <td>vermarktend</td>\n",
       "    </tr>\n",
       "    <tr>\n",
       "      <th>434462</th>\n",
       "      <td>anzuwettern</td>\n",
       "      <td>anzuwettern</td>\n",
       "      <td></td>\n",
       "      <td>0.457143</td>\n",
       "      <td>wiki Erweiterter_Infinitiv Verb</td>\n",
       "      <td>anwettern</td>\n",
       "      <td>anwettern</td>\n",
       "      <td>VVFIN</td>\n",
       "      <td>V</td>\n",
       "      <td>12.094533</td>\n",
       "      <td>anwettern</td>\n",
       "    </tr>\n",
       "    <tr>\n",
       "      <th>574405</th>\n",
       "      <td>-abelste</td>\n",
       "      <td>-abelste</td>\n",
       "      <td></td>\n",
       "      <td>1.690158</td>\n",
       "      <td>wiki Deklinierte_Form</td>\n",
       "      <td>-abel</td>\n",
       "      <td>-abel</td>\n",
       "      <td>ZFIX</td>\n",
       "      <td>Z</td>\n",
       "      <td>46.759903</td>\n",
       "      <td>-abel</td>\n",
       "    </tr>\n",
       "    <tr>\n",
       "      <th>652469</th>\n",
       "      <td>Abtrünnigen</td>\n",
       "      <td>Abtrünnigen</td>\n",
       "      <td></td>\n",
       "      <td>1.616039</td>\n",
       "      <td>wiki Deklinierte_Form</td>\n",
       "      <td>Abtrünniger</td>\n",
       "      <td>Abtrünniger</td>\n",
       "      <td>NN</td>\n",
       "      <td>N</td>\n",
       "      <td>86.214096</td>\n",
       "      <td>abtrünniger</td>\n",
       "    </tr>\n",
       "    <tr>\n",
       "      <th>667520</th>\n",
       "      <td>zu_viele</td>\n",
       "      <td>zu viele</td>\n",
       "      <td></td>\n",
       "      <td>1.411908</td>\n",
       "      <td>wiki Wortverbindung</td>\n",
       "      <td>zu_viel</td>\n",
       "      <td>zu viel</td>\n",
       "      <td>ADV</td>\n",
       "      <td>A</td>\n",
       "      <td>66.188820</td>\n",
       "      <td>zu viel</td>\n",
       "    </tr>\n",
       "    <tr>\n",
       "      <th>667527</th>\n",
       "      <td>einer</td>\n",
       "      <td>einer</td>\n",
       "      <td></td>\n",
       "      <td>6.403402</td>\n",
       "      <td>wiki Deklinierte_Form Artikel</td>\n",
       "      <td>ein</td>\n",
       "      <td>ein</td>\n",
       "      <td>ART</td>\n",
       "      <td>X</td>\n",
       "      <td>359.932159</td>\n",
       "      <td>ein</td>\n",
       "    </tr>\n",
       "    <tr>\n",
       "      <th>667533</th>\n",
       "      <td>Körpermassen_1</td>\n",
       "      <td>Körpermassen</td>\n",
       "      <td></td>\n",
       "      <td>0.038776</td>\n",
       "      <td>wiki Deklinierte_Form</td>\n",
       "      <td>Körpermasse</td>\n",
       "      <td>Körpermasse</td>\n",
       "      <td>NN</td>\n",
       "      <td>N</td>\n",
       "      <td>70.730743</td>\n",
       "      <td>körpermasse</td>\n",
       "    </tr>\n",
       "    <tr>\n",
       "      <th>667538</th>\n",
       "      <td>durchfegt_1</td>\n",
       "      <td>durchfegt</td>\n",
       "      <td></td>\n",
       "      <td>0.353061</td>\n",
       "      <td>wiki Konjugierte_Form Verb</td>\n",
       "      <td>durchfegen</td>\n",
       "      <td>durchfegen</td>\n",
       "      <td>VVFIN</td>\n",
       "      <td>V</td>\n",
       "      <td>103.011185</td>\n",
       "      <td>durchfegen</td>\n",
       "    </tr>\n",
       "  </tbody>\n",
       "</table>\n",
       "</div>"
      ],
      "text/plain": [
       "               data_id           data data_tagZZ  data_score  \\\n",
       "0             lieben_1         lieben               2.408262   \n",
       "43                mich           mich               0.795918   \n",
       "384           Marken_1         Marken               0.746939   \n",
       "8285       aufzuwerfen    aufzuwerfen               0.540816   \n",
       "54677     unterschlage   unterschlage               1.000000   \n",
       "188180      überführte     überführte               1.761847   \n",
       "188314     α-Zerfällen    α-Zerfällen               0.434694   \n",
       "194765   1-Cent-Stücks  1-Cent-Stücks               0.706122   \n",
       "362413    vermarktende   vermarktende               1.749696   \n",
       "434462     anzuwettern    anzuwettern               0.457143   \n",
       "574405        -abelste       -abelste               1.690158   \n",
       "652469     Abtrünnigen    Abtrünnigen               1.616039   \n",
       "667520        zu_viele       zu viele               1.411908   \n",
       "667527           einer          einer               6.403402   \n",
       "667533  Körpermassen_1   Körpermassen               0.038776   \n",
       "667538     durchfegt_1      durchfegt               0.353061   \n",
       "\n",
       "                                 member       lemma_id          lemma  \\\n",
       "0                 wiki Deklinierte_Form           lieb           lieb   \n",
       "43                wiki Deklinierte_Form            ich            ich   \n",
       "384               wiki Deklinierte_Form           Mark           Mark   \n",
       "8285    wiki Erweiterter_Infinitiv Verb      aufwerfen      aufwerfen   \n",
       "54677        wiki Konjugierte_Form Verb  unterschlagen  unterschlagen   \n",
       "188180            wiki Deklinierte_Form    überführt_4      überführt   \n",
       "188314            wiki Deklinierte_Form      α-Zerfall      α-Zerfall   \n",
       "194765            wiki Deklinierte_Form   1-Cent-Stück   1-Cent-Stück   \n",
       "362413            wiki Deklinierte_Form    vermarktend    vermarktend   \n",
       "434462  wiki Erweiterter_Infinitiv Verb      anwettern      anwettern   \n",
       "574405            wiki Deklinierte_Form          -abel          -abel   \n",
       "652469            wiki Deklinierte_Form    Abtrünniger    Abtrünniger   \n",
       "667520              wiki Wortverbindung        zu_viel        zu viel   \n",
       "667527    wiki Deklinierte_Form Artikel            ein            ein   \n",
       "667533            wiki Deklinierte_Form    Körpermasse    Körpermasse   \n",
       "667538       wiki Konjugierte_Form Verb     durchfegen     durchfegen   \n",
       "\n",
       "       lemma_tag lemma_tagZZ  lemma_score    lemma_lower  \n",
       "0           ADJA           A    21.805347           lieb  \n",
       "43          PPER           P  5717.436035            ich  \n",
       "384           NN           N   367.630859           mark  \n",
       "8285       VVFIN           V    75.192467      aufwerfen  \n",
       "54677      VVFIN           V    84.217979  unterschlagen  \n",
       "188180      ADJA           A     0.160714      überführt  \n",
       "188314        NN           N   119.873871      α-zerfall  \n",
       "194765        NN           N    21.782990   1-cent-stück  \n",
       "362413      ADJA           A     4.285714    vermarktend  \n",
       "434462     VVFIN           V    12.094533      anwettern  \n",
       "574405      ZFIX           Z    46.759903          -abel  \n",
       "652469        NN           N    86.214096    abtrünniger  \n",
       "667520       ADV           A    66.188820        zu viel  \n",
       "667527       ART           X   359.932159            ein  \n",
       "667533        NN           N    70.730743    körpermasse  \n",
       "667538     VVFIN           V   103.011185     durchfegen  "
      ]
     },
     "execution_count": 49,
     "metadata": {},
     "output_type": "execute_result"
    }
   ],
   "source": [
    "pak.sample(translate_lex)"
   ]
  },
  {
   "cell_type": "code",
   "execution_count": 50,
   "id": "9d24ebaa-7bec-49e9-aa7e-b178261ebbaf",
   "metadata": {
    "execution": {
     "iopub.execute_input": "2023-02-25T11:41:09.536591Z",
     "iopub.status.busy": "2023-02-25T11:41:09.534297Z",
     "iopub.status.idle": "2023-02-25T11:41:10.271072Z",
     "shell.execute_reply": "2023-02-25T11:41:10.270377Z",
     "shell.execute_reply.started": "2023-02-25T11:41:09.536552Z"
    },
    "tags": []
   },
   "outputs": [
    {
     "name": "stdout",
     "output_type": "stream",
     "text": [
      "17 rows\n"
     ]
    },
    {
     "data": {
      "text/html": [
       "<div>\n",
       "<style scoped>\n",
       "    .dataframe tbody tr th:only-of-type {\n",
       "        vertical-align: middle;\n",
       "    }\n",
       "\n",
       "    .dataframe tbody tr th {\n",
       "        vertical-align: top;\n",
       "    }\n",
       "\n",
       "    .dataframe thead th {\n",
       "        text-align: right;\n",
       "    }\n",
       "</style>\n",
       "<table border=\"1\" class=\"dataframe\">\n",
       "  <thead>\n",
       "    <tr style=\"text-align: right;\">\n",
       "      <th></th>\n",
       "      <th>data_id</th>\n",
       "      <th>data</th>\n",
       "      <th>data_tagZZ</th>\n",
       "      <th>data_score</th>\n",
       "      <th>member</th>\n",
       "      <th>lemma_id</th>\n",
       "      <th>lemma</th>\n",
       "      <th>lemma_tag</th>\n",
       "      <th>lemma_tagZZ</th>\n",
       "      <th>lemma_score</th>\n",
       "      <th>lemma_lower</th>\n",
       "    </tr>\n",
       "  </thead>\n",
       "  <tbody>\n",
       "    <tr>\n",
       "      <th>281020</th>\n",
       "      <td>calvinistischer</td>\n",
       "      <td>calvinistischer</td>\n",
       "      <td></td>\n",
       "      <td>1.340219</td>\n",
       "      <td>wiki Deklinierte_Form</td>\n",
       "      <td>calvinistisch</td>\n",
       "      <td>calvinistisch</td>\n",
       "      <td>ADJA</td>\n",
       "      <td>A</td>\n",
       "      <td>43.829163</td>\n",
       "      <td>calvinistisch</td>\n",
       "    </tr>\n",
       "    <tr>\n",
       "      <th>281021</th>\n",
       "      <td>calvinistischer_1</td>\n",
       "      <td>calvinistischer</td>\n",
       "      <td></td>\n",
       "      <td>0.714286</td>\n",
       "      <td>wiki Komparativ Adjektiv</td>\n",
       "      <td>calvinistisch</td>\n",
       "      <td>calvinistisch</td>\n",
       "      <td>ADJA</td>\n",
       "      <td>A</td>\n",
       "      <td>43.829163</td>\n",
       "      <td>calvinistisch</td>\n",
       "    </tr>\n",
       "    <tr>\n",
       "      <th>281022</th>\n",
       "      <td>calvinistischste</td>\n",
       "      <td>calvinistischste</td>\n",
       "      <td></td>\n",
       "      <td>1.936817</td>\n",
       "      <td>wiki Deklinierte_Form</td>\n",
       "      <td>calvinistisch</td>\n",
       "      <td>calvinistisch</td>\n",
       "      <td>ADJA</td>\n",
       "      <td>A</td>\n",
       "      <td>43.829163</td>\n",
       "      <td>calvinistisch</td>\n",
       "    </tr>\n",
       "    <tr>\n",
       "      <th>281023</th>\n",
       "      <td>calvinistischstes</td>\n",
       "      <td>calvinistischstes</td>\n",
       "      <td></td>\n",
       "      <td>1.264885</td>\n",
       "      <td>wiki Deklinierte_Form</td>\n",
       "      <td>calvinistisch</td>\n",
       "      <td>calvinistisch</td>\n",
       "      <td>ADJA</td>\n",
       "      <td>A</td>\n",
       "      <td>43.829163</td>\n",
       "      <td>calvinistisch</td>\n",
       "    </tr>\n",
       "    <tr>\n",
       "      <th>281024</th>\n",
       "      <td>calvinistischster</td>\n",
       "      <td>calvinistischster</td>\n",
       "      <td></td>\n",
       "      <td>1.393682</td>\n",
       "      <td>wiki Deklinierte_Form</td>\n",
       "      <td>calvinistisch</td>\n",
       "      <td>calvinistisch</td>\n",
       "      <td>ADJA</td>\n",
       "      <td>A</td>\n",
       "      <td>43.829163</td>\n",
       "      <td>calvinistisch</td>\n",
       "    </tr>\n",
       "    <tr>\n",
       "      <th>281025</th>\n",
       "      <td>calvinistischsten</td>\n",
       "      <td>calvinistischsten</td>\n",
       "      <td></td>\n",
       "      <td>2.281895</td>\n",
       "      <td>wiki Deklinierte_Form</td>\n",
       "      <td>calvinistisch</td>\n",
       "      <td>calvinistisch</td>\n",
       "      <td>ADJA</td>\n",
       "      <td>A</td>\n",
       "      <td>43.829163</td>\n",
       "      <td>calvinistisch</td>\n",
       "    </tr>\n",
       "    <tr>\n",
       "      <th>281026</th>\n",
       "      <td>calvinistischsten_1</td>\n",
       "      <td>calvinistischsten</td>\n",
       "      <td></td>\n",
       "      <td>0.765306</td>\n",
       "      <td>wiki Superlativ Adjektiv</td>\n",
       "      <td>calvinistisch</td>\n",
       "      <td>calvinistisch</td>\n",
       "      <td>ADJA</td>\n",
       "      <td>A</td>\n",
       "      <td>43.829163</td>\n",
       "      <td>calvinistisch</td>\n",
       "    </tr>\n",
       "    <tr>\n",
       "      <th>281027</th>\n",
       "      <td>calvinistischstem</td>\n",
       "      <td>calvinistischstem</td>\n",
       "      <td></td>\n",
       "      <td>0.991837</td>\n",
       "      <td>wiki Deklinierte_Form</td>\n",
       "      <td>calvinistisch</td>\n",
       "      <td>calvinistisch</td>\n",
       "      <td>ADJA</td>\n",
       "      <td>A</td>\n",
       "      <td>43.829163</td>\n",
       "      <td>calvinistisch</td>\n",
       "    </tr>\n",
       "    <tr>\n",
       "      <th>281028</th>\n",
       "      <td>calvinistischere</td>\n",
       "      <td>calvinistischere</td>\n",
       "      <td></td>\n",
       "      <td>1.938032</td>\n",
       "      <td>wiki Deklinierte_Form</td>\n",
       "      <td>calvinistisch</td>\n",
       "      <td>calvinistisch</td>\n",
       "      <td>ADJA</td>\n",
       "      <td>A</td>\n",
       "      <td>43.829163</td>\n",
       "      <td>calvinistisch</td>\n",
       "    </tr>\n",
       "    <tr>\n",
       "      <th>281029</th>\n",
       "      <td>calvinistischeres</td>\n",
       "      <td>calvinistischeres</td>\n",
       "      <td></td>\n",
       "      <td>1.266100</td>\n",
       "      <td>wiki Deklinierte_Form</td>\n",
       "      <td>calvinistisch</td>\n",
       "      <td>calvinistisch</td>\n",
       "      <td>ADJA</td>\n",
       "      <td>A</td>\n",
       "      <td>43.829163</td>\n",
       "      <td>calvinistisch</td>\n",
       "    </tr>\n",
       "    <tr>\n",
       "      <th>281030</th>\n",
       "      <td>calvinistischerer</td>\n",
       "      <td>calvinistischerer</td>\n",
       "      <td></td>\n",
       "      <td>1.394897</td>\n",
       "      <td>wiki Deklinierte_Form</td>\n",
       "      <td>calvinistisch</td>\n",
       "      <td>calvinistisch</td>\n",
       "      <td>ADJA</td>\n",
       "      <td>A</td>\n",
       "      <td>43.829163</td>\n",
       "      <td>calvinistisch</td>\n",
       "    </tr>\n",
       "    <tr>\n",
       "      <th>281031</th>\n",
       "      <td>calvinistischeren</td>\n",
       "      <td>calvinistischeren</td>\n",
       "      <td></td>\n",
       "      <td>2.340219</td>\n",
       "      <td>wiki Deklinierte_Form</td>\n",
       "      <td>calvinistisch</td>\n",
       "      <td>calvinistisch</td>\n",
       "      <td>ADJA</td>\n",
       "      <td>A</td>\n",
       "      <td>43.829163</td>\n",
       "      <td>calvinistisch</td>\n",
       "    </tr>\n",
       "    <tr>\n",
       "      <th>281032</th>\n",
       "      <td>calvinistischerem</td>\n",
       "      <td>calvinistischerem</td>\n",
       "      <td></td>\n",
       "      <td>0.993878</td>\n",
       "      <td>wiki Deklinierte_Form</td>\n",
       "      <td>calvinistisch</td>\n",
       "      <td>calvinistisch</td>\n",
       "      <td>ADJA</td>\n",
       "      <td>A</td>\n",
       "      <td>43.829163</td>\n",
       "      <td>calvinistisch</td>\n",
       "    </tr>\n",
       "    <tr>\n",
       "      <th>281033</th>\n",
       "      <td>calvinistische</td>\n",
       "      <td>calvinistische</td>\n",
       "      <td></td>\n",
       "      <td>1.891859</td>\n",
       "      <td>wiki Deklinierte_Form</td>\n",
       "      <td>calvinistisch</td>\n",
       "      <td>calvinistisch</td>\n",
       "      <td>ADJA</td>\n",
       "      <td>A</td>\n",
       "      <td>43.829163</td>\n",
       "      <td>calvinistisch</td>\n",
       "    </tr>\n",
       "    <tr>\n",
       "      <th>281034</th>\n",
       "      <td>calvinistisches</td>\n",
       "      <td>calvinistisches</td>\n",
       "      <td></td>\n",
       "      <td>1.238153</td>\n",
       "      <td>wiki Deklinierte_Form</td>\n",
       "      <td>calvinistisch</td>\n",
       "      <td>calvinistisch</td>\n",
       "      <td>ADJA</td>\n",
       "      <td>A</td>\n",
       "      <td>43.829163</td>\n",
       "      <td>calvinistisch</td>\n",
       "    </tr>\n",
       "    <tr>\n",
       "      <th>281035</th>\n",
       "      <td>calvinistischen</td>\n",
       "      <td>calvinistischen</td>\n",
       "      <td></td>\n",
       "      <td>2.283111</td>\n",
       "      <td>wiki Deklinierte_Form</td>\n",
       "      <td>calvinistisch</td>\n",
       "      <td>calvinistisch</td>\n",
       "      <td>ADJA</td>\n",
       "      <td>A</td>\n",
       "      <td>43.829163</td>\n",
       "      <td>calvinistisch</td>\n",
       "    </tr>\n",
       "    <tr>\n",
       "      <th>281036</th>\n",
       "      <td>calvinistischem</td>\n",
       "      <td>calvinistischem</td>\n",
       "      <td></td>\n",
       "      <td>0.959184</td>\n",
       "      <td>wiki Deklinierte_Form</td>\n",
       "      <td>calvinistisch</td>\n",
       "      <td>calvinistisch</td>\n",
       "      <td>ADJA</td>\n",
       "      <td>A</td>\n",
       "      <td>43.829163</td>\n",
       "      <td>calvinistisch</td>\n",
       "    </tr>\n",
       "  </tbody>\n",
       "</table>\n",
       "</div>"
      ],
      "text/plain": [
       "                    data_id               data data_tagZZ  data_score  \\\n",
       "281020      calvinistischer    calvinistischer               1.340219   \n",
       "281021    calvinistischer_1    calvinistischer               0.714286   \n",
       "281022     calvinistischste   calvinistischste               1.936817   \n",
       "281023    calvinistischstes  calvinistischstes               1.264885   \n",
       "281024    calvinistischster  calvinistischster               1.393682   \n",
       "281025    calvinistischsten  calvinistischsten               2.281895   \n",
       "281026  calvinistischsten_1  calvinistischsten               0.765306   \n",
       "281027    calvinistischstem  calvinistischstem               0.991837   \n",
       "281028     calvinistischere   calvinistischere               1.938032   \n",
       "281029    calvinistischeres  calvinistischeres               1.266100   \n",
       "281030    calvinistischerer  calvinistischerer               1.394897   \n",
       "281031    calvinistischeren  calvinistischeren               2.340219   \n",
       "281032    calvinistischerem  calvinistischerem               0.993878   \n",
       "281033       calvinistische     calvinistische               1.891859   \n",
       "281034      calvinistisches    calvinistisches               1.238153   \n",
       "281035      calvinistischen    calvinistischen               2.283111   \n",
       "281036      calvinistischem    calvinistischem               0.959184   \n",
       "\n",
       "                          member       lemma_id          lemma lemma_tag  \\\n",
       "281020     wiki Deklinierte_Form  calvinistisch  calvinistisch      ADJA   \n",
       "281021  wiki Komparativ Adjektiv  calvinistisch  calvinistisch      ADJA   \n",
       "281022     wiki Deklinierte_Form  calvinistisch  calvinistisch      ADJA   \n",
       "281023     wiki Deklinierte_Form  calvinistisch  calvinistisch      ADJA   \n",
       "281024     wiki Deklinierte_Form  calvinistisch  calvinistisch      ADJA   \n",
       "281025     wiki Deklinierte_Form  calvinistisch  calvinistisch      ADJA   \n",
       "281026  wiki Superlativ Adjektiv  calvinistisch  calvinistisch      ADJA   \n",
       "281027     wiki Deklinierte_Form  calvinistisch  calvinistisch      ADJA   \n",
       "281028     wiki Deklinierte_Form  calvinistisch  calvinistisch      ADJA   \n",
       "281029     wiki Deklinierte_Form  calvinistisch  calvinistisch      ADJA   \n",
       "281030     wiki Deklinierte_Form  calvinistisch  calvinistisch      ADJA   \n",
       "281031     wiki Deklinierte_Form  calvinistisch  calvinistisch      ADJA   \n",
       "281032     wiki Deklinierte_Form  calvinistisch  calvinistisch      ADJA   \n",
       "281033     wiki Deklinierte_Form  calvinistisch  calvinistisch      ADJA   \n",
       "281034     wiki Deklinierte_Form  calvinistisch  calvinistisch      ADJA   \n",
       "281035     wiki Deklinierte_Form  calvinistisch  calvinistisch      ADJA   \n",
       "281036     wiki Deklinierte_Form  calvinistisch  calvinistisch      ADJA   \n",
       "\n",
       "       lemma_tagZZ  lemma_score    lemma_lower  \n",
       "281020           A    43.829163  calvinistisch  \n",
       "281021           A    43.829163  calvinistisch  \n",
       "281022           A    43.829163  calvinistisch  \n",
       "281023           A    43.829163  calvinistisch  \n",
       "281024           A    43.829163  calvinistisch  \n",
       "281025           A    43.829163  calvinistisch  \n",
       "281026           A    43.829163  calvinistisch  \n",
       "281027           A    43.829163  calvinistisch  \n",
       "281028           A    43.829163  calvinistisch  \n",
       "281029           A    43.829163  calvinistisch  \n",
       "281030           A    43.829163  calvinistisch  \n",
       "281031           A    43.829163  calvinistisch  \n",
       "281032           A    43.829163  calvinistisch  \n",
       "281033           A    43.829163  calvinistisch  \n",
       "281034           A    43.829163  calvinistisch  \n",
       "281035           A    43.829163  calvinistisch  \n",
       "281036           A    43.829163  calvinistisch  "
      ]
     },
     "execution_count": 50,
     "metadata": {},
     "output_type": "execute_result"
    }
   ],
   "source": [
    "# translate_lex suche_debug\n",
    "grid(search_str(translate_lex, suche_debug))"
   ]
  },
  {
   "cell_type": "code",
   "execution_count": 51,
   "id": "808c6808-2f5f-45c7-b518-dbb6c20ff021",
   "metadata": {
    "execution": {
     "iopub.execute_input": "2023-02-25T11:41:10.274823Z",
     "iopub.status.busy": "2023-02-25T11:41:10.274547Z",
     "iopub.status.idle": "2023-02-25T11:41:10.313301Z",
     "shell.execute_reply": "2023-02-25T11:41:10.312712Z",
     "shell.execute_reply.started": "2023-02-25T11:41:10.274802Z"
    }
   },
   "outputs": [],
   "source": [
    "# anschauen\n",
    "#pak.analyse_freqs(translate_lex,['member','lemma_tag','lex'])"
   ]
  },
  {
   "cell_type": "markdown",
   "id": "6d7a99d3-6d67-4e3b-b4d6-02c851594de8",
   "metadata": {},
   "source": [
    "## Partizipien ==========\n",
    "Für fast jedes Partizip gibt es zwei Datensätze: <br> \n",
    "1) in wiktionary_merkmal.data: Die Partizip-Flexion des Verbs. merkmal ist 'Ptz1' oder 'Ptz2'.<br> \n",
    "2) in wiktionary_lemma.lemma:  Als Adjektiv mit member 'Partizip'. Es gibt ca. 320 Ausnahmen, nicht alle Partizipien sind auch Adjektive."
   ]
  },
  {
   "cell_type": "code",
   "execution_count": 52,
   "id": "d3b8e9d7-318f-4861-ab2c-f7ced831563d",
   "metadata": {
    "execution": {
     "iopub.execute_input": "2023-02-25T11:41:10.316810Z",
     "iopub.status.busy": "2023-02-25T11:41:10.316474Z",
     "iopub.status.idle": "2023-02-25T11:41:13.896410Z",
     "shell.execute_reply": "2023-02-25T11:41:13.895782Z",
     "shell.execute_reply.started": "2023-02-25T11:41:10.316787Z"
    }
   },
   "outputs": [
    {
     "name": "stdout",
     "output_type": "stream",
     "text": [
      "check_mask:  6 rows\n",
      "Move 6 rows from 4855379\n"
     ]
    }
   ],
   "source": [
    "# Falsche Partizipien löschen\n",
    "falsche_partizipien = ['sehen','mögen','hören','sollen','können','lassen']\n",
    "mask1 = wiktionary_merkmal.merkmal.isin(['Ptz1','Ptz2'])\n",
    "mask2 = wiktionary_merkmal.data.isin(falsche_partizipien)\n",
    "mask = mask1  &  mask2\n",
    "check_mask(wiktionary_merkmal,mask,0,6)\n",
    "wiktionary_merkmal, wiktionary_merkmal_trash = pak.move_rows(wiktionary_merkmal,wiktionary_merkmal_trash, mask, 'Falsche_Partizipien')\n",
    "#wiktionary_merkmal[mask]"
   ]
  },
  {
   "cell_type": "code",
   "execution_count": 53,
   "id": "22f08192-b7fa-41c8-9848-cecbbf78c4fb",
   "metadata": {
    "execution": {
     "iopub.execute_input": "2023-02-25T11:41:13.897333Z",
     "iopub.status.busy": "2023-02-25T11:41:13.897118Z",
     "iopub.status.idle": "2023-02-25T11:41:14.464590Z",
     "shell.execute_reply": "2023-02-25T11:41:14.463856Z",
     "shell.execute_reply.started": "2023-02-25T11:41:13.897312Z"
    }
   },
   "outputs": [
    {
     "data": {
      "text/html": [
       "<div>\n",
       "<style scoped>\n",
       "    .dataframe tbody tr th:only-of-type {\n",
       "        vertical-align: middle;\n",
       "    }\n",
       "\n",
       "    .dataframe tbody tr th {\n",
       "        vertical-align: top;\n",
       "    }\n",
       "\n",
       "    .dataframe thead th {\n",
       "        text-align: right;\n",
       "    }\n",
       "</style>\n",
       "<table border=\"1\" class=\"dataframe\">\n",
       "  <thead>\n",
       "    <tr style=\"text-align: right;\">\n",
       "      <th></th>\n",
       "      <th>lemma_id</th>\n",
       "      <th>lemma</th>\n",
       "      <th>data_id</th>\n",
       "      <th>data</th>\n",
       "      <th>score</th>\n",
       "      <th>merkmal</th>\n",
       "    </tr>\n",
       "  </thead>\n",
       "  <tbody>\n",
       "    <tr>\n",
       "      <th>1827574</th>\n",
       "      <td>umherrutschen</td>\n",
       "      <td>umherrutschen</td>\n",
       "      <td>umherrutschend</td>\n",
       "      <td>umherrutschend</td>\n",
       "      <td>4.886999</td>\n",
       "      <td>Ptz1</td>\n",
       "    </tr>\n",
       "    <tr>\n",
       "      <th>1813651</th>\n",
       "      <td>aufsperren</td>\n",
       "      <td>aufsperren</td>\n",
       "      <td>aufsperrend</td>\n",
       "      <td>aufsperrend</td>\n",
       "      <td>11.207776</td>\n",
       "      <td>Ptz1</td>\n",
       "    </tr>\n",
       "    <tr>\n",
       "      <th>1808441</th>\n",
       "      <td>nachlassen</td>\n",
       "      <td>nachlassen</td>\n",
       "      <td>nachlassend</td>\n",
       "      <td>nachlassend</td>\n",
       "      <td>31.179831</td>\n",
       "      <td>Ptz1</td>\n",
       "    </tr>\n",
       "    <tr>\n",
       "      <th>1806004</th>\n",
       "      <td>bevormunden</td>\n",
       "      <td>bevormunden</td>\n",
       "      <td>bevormundend</td>\n",
       "      <td>bevormundend</td>\n",
       "      <td>18.527340</td>\n",
       "      <td>Ptz1</td>\n",
       "    </tr>\n",
       "    <tr>\n",
       "      <th>1814095</th>\n",
       "      <td>nachsagen</td>\n",
       "      <td>nachsagen</td>\n",
       "      <td>nachsagend</td>\n",
       "      <td>nachsagend</td>\n",
       "      <td>5.995140</td>\n",
       "      <td>Ptz1</td>\n",
       "    </tr>\n",
       "  </tbody>\n",
       "</table>\n",
       "</div>"
      ],
      "text/plain": [
       "              lemma_id          lemma         data_id            data  \\\n",
       "1827574  umherrutschen  umherrutschen  umherrutschend  umherrutschend   \n",
       "1813651     aufsperren     aufsperren     aufsperrend     aufsperrend   \n",
       "1808441     nachlassen     nachlassen     nachlassend     nachlassend   \n",
       "1806004    bevormunden    bevormunden    bevormundend    bevormundend   \n",
       "1814095      nachsagen      nachsagen      nachsagend      nachsagend   \n",
       "\n",
       "             score merkmal  \n",
       "1827574   4.886999    Ptz1  \n",
       "1813651  11.207776    Ptz1  \n",
       "1808441  31.179831    Ptz1  \n",
       "1806004  18.527340    Ptz1  \n",
       "1814095   5.995140    Ptz1  "
      ]
     },
     "execution_count": 53,
     "metadata": {},
     "output_type": "execute_result"
    }
   ],
   "source": [
    "# verben_ptz1: Alle Ptz1-Merkmale der Verben\n",
    "spalten = ['lemma_id','data_id','data','score','merkmal']\n",
    "mask = wiktionary_merkmal.merkmal == 'Ptz1'\n",
    "verben_ptz1 = wiktionary_merkmal[mask][spalten]\n",
    "verben_ptz1 = pak.update_col(df_to=verben_ptz1, df_from=wiktionary_lemma, on='lemma_id', col='lemma', verbose=False)\n",
    "verben_ptz1 = pak.move_cols(       verben_ptz1,'lemma','lemma_id')\n",
    "\n",
    "# was anzeigen\n",
    "a = search_str(verben_ptz1, suche_debug)\n",
    "if len(a) == 0:\n",
    "    a = verben_ptz1.sample(5)\n",
    "a"
   ]
  },
  {
   "cell_type": "code",
   "execution_count": 54,
   "id": "e227b445-16f8-4c69-b312-fb6c00bb9933",
   "metadata": {
    "execution": {
     "iopub.execute_input": "2023-02-25T11:41:14.465577Z",
     "iopub.status.busy": "2023-02-25T11:41:14.465313Z",
     "iopub.status.idle": "2023-02-25T11:41:14.505596Z",
     "shell.execute_reply": "2023-02-25T11:41:14.504951Z",
     "shell.execute_reply.started": "2023-02-25T11:41:14.465550Z"
    }
   },
   "outputs": [
    {
     "name": "stdout",
     "output_type": "stream",
     "text": [
      "check_mask:  0 rows\n"
     ]
    }
   ],
   "source": [
    "# Kein leeres data_id\n",
    "mask = verben_ptz1.data_id.isnull()  |  (verben_ptz1.data_id == '')\n",
    "check_mask(verben_ptz1,mask,0)"
   ]
  },
  {
   "cell_type": "code",
   "execution_count": 55,
   "id": "5d79f3ce-6838-4977-b321-200e8949bfee",
   "metadata": {
    "execution": {
     "iopub.execute_input": "2023-02-25T11:41:14.506993Z",
     "iopub.status.busy": "2023-02-25T11:41:14.506548Z",
     "iopub.status.idle": "2023-02-25T11:41:14.551312Z",
     "shell.execute_reply": "2023-02-25T11:41:14.550584Z",
     "shell.execute_reply.started": "2023-02-25T11:41:14.506965Z"
    }
   },
   "outputs": [
    {
     "name": "stdout",
     "output_type": "stream",
     "text": [
      "check_mask:  0 rows\n"
     ]
    }
   ],
   "source": [
    "# alle enden mit 'nd'\n",
    "mask = ~verben_ptz1.data.str.endswith('nd')\n",
    "check_mask(verben_ptz1,mask,0)\n",
    "#verben_ptz[mask]"
   ]
  },
  {
   "cell_type": "code",
   "execution_count": 56,
   "id": "935ac20a-d194-44c3-b81b-aaa184760067",
   "metadata": {
    "execution": {
     "iopub.execute_input": "2023-02-25T11:41:14.557541Z",
     "iopub.status.busy": "2023-02-25T11:41:14.554951Z",
     "iopub.status.idle": "2023-02-25T11:41:15.204149Z",
     "shell.execute_reply": "2023-02-25T11:41:15.203480Z",
     "shell.execute_reply.started": "2023-02-25T11:41:14.557499Z"
    }
   },
   "outputs": [
    {
     "data": {
      "text/html": [
       "<div>\n",
       "<style scoped>\n",
       "    .dataframe tbody tr th:only-of-type {\n",
       "        vertical-align: middle;\n",
       "    }\n",
       "\n",
       "    .dataframe tbody tr th {\n",
       "        vertical-align: top;\n",
       "    }\n",
       "\n",
       "    .dataframe thead th {\n",
       "        text-align: right;\n",
       "    }\n",
       "</style>\n",
       "<table border=\"1\" class=\"dataframe\">\n",
       "  <thead>\n",
       "    <tr style=\"text-align: right;\">\n",
       "      <th></th>\n",
       "      <th>lemma_id</th>\n",
       "      <th>lemma</th>\n",
       "      <th>data_id</th>\n",
       "      <th>data</th>\n",
       "      <th>score</th>\n",
       "      <th>merkmal</th>\n",
       "    </tr>\n",
       "  </thead>\n",
       "  <tbody>\n",
       "    <tr>\n",
       "      <th>1808281</th>\n",
       "      <td>einatmen</td>\n",
       "      <td>einatmen</td>\n",
       "      <td>eingeatmet</td>\n",
       "      <td>eingeatmet</td>\n",
       "      <td>18.651276</td>\n",
       "      <td>Ptz2</td>\n",
       "    </tr>\n",
       "    <tr>\n",
       "      <th>1808054</th>\n",
       "      <td>säumen</td>\n",
       "      <td>säumen</td>\n",
       "      <td>gesäumt</td>\n",
       "      <td>gesäumt</td>\n",
       "      <td>16.394897</td>\n",
       "      <td>Ptz2</td>\n",
       "    </tr>\n",
       "    <tr>\n",
       "      <th>1808698</th>\n",
       "      <td>überführen</td>\n",
       "      <td>überführen</td>\n",
       "      <td>übergeführt</td>\n",
       "      <td>übergeführt</td>\n",
       "      <td>8.812880</td>\n",
       "      <td>Ptz2</td>\n",
       "    </tr>\n",
       "    <tr>\n",
       "      <th>3125239</th>\n",
       "      <td>ergraben_1</td>\n",
       "      <td>ergraben</td>\n",
       "      <td>ergraben</td>\n",
       "      <td>ergraben</td>\n",
       "      <td>8.736330</td>\n",
       "      <td>Ptz2</td>\n",
       "    </tr>\n",
       "    <tr>\n",
       "      <th>1822197</th>\n",
       "      <td>abspielen</td>\n",
       "      <td>abspielen</td>\n",
       "      <td>abgespielt</td>\n",
       "      <td>abgespielt</td>\n",
       "      <td>35.739975</td>\n",
       "      <td>Ptz2</td>\n",
       "    </tr>\n",
       "  </tbody>\n",
       "</table>\n",
       "</div>"
      ],
      "text/plain": [
       "           lemma_id       lemma      data_id         data      score merkmal\n",
       "1808281    einatmen    einatmen   eingeatmet   eingeatmet  18.651276    Ptz2\n",
       "1808054      säumen      säumen      gesäumt      gesäumt  16.394897    Ptz2\n",
       "1808698  überführen  überführen  übergeführt  übergeführt   8.812880    Ptz2\n",
       "3125239  ergraben_1    ergraben     ergraben     ergraben   8.736330    Ptz2\n",
       "1822197   abspielen   abspielen   abgespielt   abgespielt  35.739975    Ptz2"
      ]
     },
     "execution_count": 56,
     "metadata": {},
     "output_type": "execute_result"
    }
   ],
   "source": [
    "# verben_ptz2: Alle Ptz2-Merkmale der Verben\n",
    "spalten = ['lemma_id','data_id','data','score','merkmal']\n",
    "mask = wiktionary_merkmal.merkmal == 'Ptz2'\n",
    "verben_ptz2 = wiktionary_merkmal[mask][spalten]\n",
    "verben_ptz2 = pak.update_col(df_to=verben_ptz2, df_from=wiktionary_lemma, on='lemma_id', col='lemma', verbose=False)\n",
    "verben_ptz2 = pak.move_cols(       verben_ptz2,'lemma','lemma_id')\n",
    "\n",
    "# was anzeigen\n",
    "a = search_str(verben_ptz2, suche_debug)\n",
    "if len(a) == 0:\n",
    "    a = verben_ptz2.sample(5)\n",
    "a"
   ]
  },
  {
   "cell_type": "code",
   "execution_count": 57,
   "id": "742fb4c7-4566-47a8-b47b-0ddc0b6a5753",
   "metadata": {
    "execution": {
     "iopub.execute_input": "2023-02-25T11:41:15.207800Z",
     "iopub.status.busy": "2023-02-25T11:41:15.207413Z",
     "iopub.status.idle": "2023-02-25T11:41:15.249132Z",
     "shell.execute_reply": "2023-02-25T11:41:15.248519Z",
     "shell.execute_reply.started": "2023-02-25T11:41:15.207777Z"
    }
   },
   "outputs": [
    {
     "name": "stdout",
     "output_type": "stream",
     "text": [
      "check_mask:  0 rows\n"
     ]
    }
   ],
   "source": [
    "# Kein leeres data_id\n",
    "mask = verben_ptz2.data_id.isnull()  |  (verben_ptz2.data_id == '')\n",
    "check_mask(verben_ptz2,mask,0)"
   ]
  },
  {
   "cell_type": "code",
   "execution_count": 58,
   "id": "6cc3714e-2964-4972-9863-eb2e5367a22d",
   "metadata": {
    "execution": {
     "iopub.execute_input": "2023-02-25T11:41:15.255085Z",
     "iopub.status.busy": "2023-02-25T11:41:15.252621Z",
     "iopub.status.idle": "2023-02-25T11:41:15.413434Z",
     "shell.execute_reply": "2023-02-25T11:41:15.412135Z",
     "shell.execute_reply.started": "2023-02-25T11:41:15.255046Z"
    }
   },
   "outputs": [
    {
     "data": {
      "text/html": [
       "<div>\n",
       "<style scoped>\n",
       "    .dataframe tbody tr th:only-of-type {\n",
       "        vertical-align: middle;\n",
       "    }\n",
       "\n",
       "    .dataframe tbody tr th {\n",
       "        vertical-align: top;\n",
       "    }\n",
       "\n",
       "    .dataframe thead th {\n",
       "        text-align: right;\n",
       "    }\n",
       "</style>\n",
       "<table border=\"1\" class=\"dataframe\">\n",
       "  <thead>\n",
       "    <tr style=\"text-align: right;\">\n",
       "      <th></th>\n",
       "      <th>lemma_id</th>\n",
       "      <th>lemma</th>\n",
       "      <th>score</th>\n",
       "      <th>tag</th>\n",
       "      <th>member</th>\n",
       "      <th>data_id</th>\n",
       "    </tr>\n",
       "  </thead>\n",
       "  <tbody>\n",
       "    <tr>\n",
       "      <th>125482</th>\n",
       "      <td>durchreisend_1</td>\n",
       "      <td>durchreisend</td>\n",
       "      <td>1.683673</td>\n",
       "      <td>ADJA</td>\n",
       "      <td>Ptz1</td>\n",
       "      <td>durchreisen</td>\n",
       "    </tr>\n",
       "    <tr>\n",
       "      <th>165825</th>\n",
       "      <td>widerredend</td>\n",
       "      <td>widerredend</td>\n",
       "      <td>4.726531</td>\n",
       "      <td>ADJA</td>\n",
       "      <td>Ptz1</td>\n",
       "      <td>widerreden</td>\n",
       "    </tr>\n",
       "    <tr>\n",
       "      <th>149274</th>\n",
       "      <td>pfarrend</td>\n",
       "      <td>pfarrend</td>\n",
       "      <td>4.493877</td>\n",
       "      <td>ADJA</td>\n",
       "      <td>Ptz1</td>\n",
       "      <td>pfarren</td>\n",
       "    </tr>\n",
       "    <tr>\n",
       "      <th>147671</th>\n",
       "      <td>niederfallend</td>\n",
       "      <td>niederfallend</td>\n",
       "      <td>4.395918</td>\n",
       "      <td>ADJA</td>\n",
       "      <td>Ptz1</td>\n",
       "      <td>niederfallen</td>\n",
       "    </tr>\n",
       "    <tr>\n",
       "      <th>149192</th>\n",
       "      <td>perlend</td>\n",
       "      <td>perlend</td>\n",
       "      <td>4.542857</td>\n",
       "      <td>ADJA</td>\n",
       "      <td>Ptz1</td>\n",
       "      <td>perlen_1</td>\n",
       "    </tr>\n",
       "  </tbody>\n",
       "</table>\n",
       "</div>"
      ],
      "text/plain": [
       "              lemma_id          lemma     score   tag member       data_id\n",
       "125482  durchreisend_1   durchreisend  1.683673  ADJA   Ptz1   durchreisen\n",
       "165825     widerredend    widerredend  4.726531  ADJA   Ptz1    widerreden\n",
       "149274        pfarrend       pfarrend  4.493877  ADJA   Ptz1       pfarren\n",
       "147671   niederfallend  niederfallend  4.395918  ADJA   Ptz1  niederfallen\n",
       "149192         perlend        perlend  4.542857  ADJA   Ptz1      perlen_1"
      ]
     },
     "execution_count": 58,
     "metadata": {},
     "output_type": "execute_result"
    }
   ],
   "source": [
    "# adjektive_ptz1: Adjektive mit Ptz1-Markierung\n",
    "spalten = ['lemma_id','lemma','score','tag','member','data_id']\n",
    "mask1 = wiktionary_lemma.tagZ == 'ADJ'\n",
    "mask2 = wiktionary_lemma.member.str.contains('Ptz1')\n",
    "mask = mask1  &  mask2 \n",
    "adjektive_ptz1 = wiktionary_lemma[mask][spalten]\n",
    "\n",
    "# was anzeigen\n",
    "a = search_str(adjektive_ptz1, suche_debug)\n",
    "if len(a) == 0:\n",
    "    a = adjektive_ptz1.sample(5)\n",
    "a"
   ]
  },
  {
   "cell_type": "code",
   "execution_count": 59,
   "id": "1c85aef5-8343-46da-b4fc-a8dec4dee48c",
   "metadata": {
    "execution": {
     "iopub.execute_input": "2023-02-25T11:41:15.415947Z",
     "iopub.status.busy": "2023-02-25T11:41:15.415257Z",
     "iopub.status.idle": "2023-02-25T11:41:15.462473Z",
     "shell.execute_reply": "2023-02-25T11:41:15.461686Z",
     "shell.execute_reply.started": "2023-02-25T11:41:15.415886Z"
    }
   },
   "outputs": [
    {
     "name": "stdout",
     "output_type": "stream",
     "text": [
      "check_mask:  0 rows\n"
     ]
    }
   ],
   "source": [
    "# Kein leeres data_id\n",
    "# data_id verweist auf das Verb\n",
    "mask = adjektive_ptz1.data_id.isnull()  |  (adjektive_ptz1.data_id == '')\n",
    "check_mask(adjektive_ptz1,mask,0)"
   ]
  },
  {
   "cell_type": "code",
   "execution_count": 60,
   "id": "eb6e25ba-dbe1-4de3-9ef5-097aa45c23dc",
   "metadata": {
    "execution": {
     "iopub.execute_input": "2023-02-25T11:41:15.463641Z",
     "iopub.status.busy": "2023-02-25T11:41:15.463377Z",
     "iopub.status.idle": "2023-02-25T11:41:15.604670Z",
     "shell.execute_reply": "2023-02-25T11:41:15.604035Z",
     "shell.execute_reply.started": "2023-02-25T11:41:15.463618Z"
    }
   },
   "outputs": [
    {
     "data": {
      "text/html": [
       "<div>\n",
       "<style scoped>\n",
       "    .dataframe tbody tr th:only-of-type {\n",
       "        vertical-align: middle;\n",
       "    }\n",
       "\n",
       "    .dataframe tbody tr th {\n",
       "        vertical-align: top;\n",
       "    }\n",
       "\n",
       "    .dataframe thead th {\n",
       "        text-align: right;\n",
       "    }\n",
       "</style>\n",
       "<table border=\"1\" class=\"dataframe\">\n",
       "  <thead>\n",
       "    <tr style=\"text-align: right;\">\n",
       "      <th></th>\n",
       "      <th>lemma_id</th>\n",
       "      <th>lemma</th>\n",
       "      <th>score</th>\n",
       "      <th>tag</th>\n",
       "      <th>member</th>\n",
       "      <th>data_id</th>\n",
       "    </tr>\n",
       "  </thead>\n",
       "  <tbody>\n",
       "    <tr>\n",
       "      <th>116685</th>\n",
       "      <td>aufgehört</td>\n",
       "      <td>aufgehört</td>\n",
       "      <td>1.404082</td>\n",
       "      <td>ADJA</td>\n",
       "      <td>Ptz2</td>\n",
       "      <td>aufhören</td>\n",
       "    </tr>\n",
       "    <tr>\n",
       "      <th>111991</th>\n",
       "      <td>abecediert_1</td>\n",
       "      <td>abecediert</td>\n",
       "      <td>0.487755</td>\n",
       "      <td>ADJA</td>\n",
       "      <td>Ptz2</td>\n",
       "      <td>abecedieren</td>\n",
       "    </tr>\n",
       "    <tr>\n",
       "      <th>120937</th>\n",
       "      <td>beschottert</td>\n",
       "      <td>beschottert</td>\n",
       "      <td>1.559184</td>\n",
       "      <td>ADJA</td>\n",
       "      <td>Ptz2</td>\n",
       "      <td>beschottern</td>\n",
       "    </tr>\n",
       "    <tr>\n",
       "      <th>162783</th>\n",
       "      <td>veruntreut_1</td>\n",
       "      <td>veruntreut</td>\n",
       "      <td>0.420408</td>\n",
       "      <td>ADJA</td>\n",
       "      <td>Ptz2</td>\n",
       "      <td>veruntreuen</td>\n",
       "    </tr>\n",
       "    <tr>\n",
       "      <th>112249</th>\n",
       "      <td>abgefingert</td>\n",
       "      <td>abgefingert</td>\n",
       "      <td>1.420408</td>\n",
       "      <td>ADJA</td>\n",
       "      <td>Ptz2</td>\n",
       "      <td>abfingern</td>\n",
       "    </tr>\n",
       "  </tbody>\n",
       "</table>\n",
       "</div>"
      ],
      "text/plain": [
       "            lemma_id        lemma     score   tag member      data_id\n",
       "116685     aufgehört    aufgehört  1.404082  ADJA   Ptz2     aufhören\n",
       "111991  abecediert_1   abecediert  0.487755  ADJA   Ptz2  abecedieren\n",
       "120937   beschottert  beschottert  1.559184  ADJA   Ptz2  beschottern\n",
       "162783  veruntreut_1   veruntreut  0.420408  ADJA   Ptz2  veruntreuen\n",
       "112249   abgefingert  abgefingert  1.420408  ADJA   Ptz2    abfingern"
      ]
     },
     "execution_count": 60,
     "metadata": {},
     "output_type": "execute_result"
    }
   ],
   "source": [
    "# adjektive_ptz2: Adjektive mit Ptz2-Markierung\n",
    "spalten = ['lemma_id','lemma','score','tag','member','data_id']\n",
    "mask1 = wiktionary_lemma.tagZ == 'ADJ'\n",
    "mask2 = wiktionary_lemma.member.str.contains('Ptz2')\n",
    "mask = mask1  &  mask2 \n",
    "adjektive_ptz2 = wiktionary_lemma[mask][spalten]\n",
    "\n",
    "# was anzeigen\n",
    "a = search_str(adjektive_ptz2, suche_debug)\n",
    "if len(a) == 0:\n",
    "    a = adjektive_ptz2.sample(5)\n",
    "a"
   ]
  },
  {
   "cell_type": "code",
   "execution_count": 61,
   "id": "3344e8d9-55d3-4713-a814-ea6404355ffb",
   "metadata": {
    "execution": {
     "iopub.execute_input": "2023-02-25T11:41:15.605751Z",
     "iopub.status.busy": "2023-02-25T11:41:15.605511Z",
     "iopub.status.idle": "2023-02-25T11:41:15.652961Z",
     "shell.execute_reply": "2023-02-25T11:41:15.651831Z",
     "shell.execute_reply.started": "2023-02-25T11:41:15.605729Z"
    }
   },
   "outputs": [
    {
     "name": "stdout",
     "output_type": "stream",
     "text": [
      "check_mask:  0 rows\n"
     ]
    }
   ],
   "source": [
    "# Kein leeres data_id\n",
    "# data_id verweist auf das Verb\n",
    "# Das sind Kandidaten für die Aufnahme in lexeme_manuell, Reiter Partizipien\n",
    "nöö = ['befangen','betreten','durchwachsen','erfahren','erlesen','erwachsen','wollen']\n",
    "mask1 = adjektive_ptz2.data_id.isnull()  |  (adjektive_ptz2.data_id == '')\n",
    "mask2 = ~adjektive_ptz2.lemma.isin(nöö)\n",
    "mask = mask1  &  mask2\n",
    "#grid(adjektive_ptz2,mask)\n",
    "check_mask(adjektive_ptz2,mask,0)"
   ]
  },
  {
   "cell_type": "code",
   "execution_count": 62,
   "id": "6a9763d3-546e-4461-8b22-8b7ebe042e56",
   "metadata": {
    "execution": {
     "iopub.execute_input": "2023-02-25T11:41:15.661524Z",
     "iopub.status.busy": "2023-02-25T11:41:15.658141Z",
     "iopub.status.idle": "2023-02-25T11:41:15.695905Z",
     "shell.execute_reply": "2023-02-25T11:41:15.695214Z",
     "shell.execute_reply.started": "2023-02-25T11:41:15.661484Z"
    }
   },
   "outputs": [],
   "source": [
    "#for p in adjektive_ptz2[mask].lemma:\n",
    "#    print(p)"
   ]
  },
  {
   "cell_type": "code",
   "execution_count": 63,
   "id": "62b16bf1-d5a4-4280-bdf0-bf8c0a7ed1c3",
   "metadata": {
    "execution": {
     "iopub.execute_input": "2023-02-25T11:41:15.699923Z",
     "iopub.status.busy": "2023-02-25T11:41:15.699503Z",
     "iopub.status.idle": "2023-02-25T11:41:15.927408Z",
     "shell.execute_reply": "2023-02-25T11:41:15.926726Z",
     "shell.execute_reply.started": "2023-02-25T11:41:15.699893Z"
    }
   },
   "outputs": [
    {
     "data": {
      "text/html": [
       "<div>\n",
       "<style scoped>\n",
       "    .dataframe tbody tr th:only-of-type {\n",
       "        vertical-align: middle;\n",
       "    }\n",
       "\n",
       "    .dataframe tbody tr th {\n",
       "        vertical-align: top;\n",
       "    }\n",
       "\n",
       "    .dataframe thead th {\n",
       "        text-align: right;\n",
       "    }\n",
       "</style>\n",
       "<table border=\"1\" class=\"dataframe\">\n",
       "  <thead>\n",
       "    <tr style=\"text-align: right;\">\n",
       "      <th></th>\n",
       "      <th>lemma_id</th>\n",
       "      <th>lemma</th>\n",
       "      <th>score</th>\n",
       "      <th>tag</th>\n",
       "      <th>member</th>\n",
       "      <th>data_id</th>\n",
       "    </tr>\n",
       "  </thead>\n",
       "  <tbody>\n",
       "    <tr>\n",
       "      <th>122752</th>\n",
       "      <td>calvinistisch</td>\n",
       "      <td>calvinistisch</td>\n",
       "      <td>43.829163</td>\n",
       "      <td>ADJA</td>\n",
       "      <td></td>\n",
       "      <td></td>\n",
       "    </tr>\n",
       "  </tbody>\n",
       "</table>\n",
       "</div>"
      ],
      "text/plain": [
       "             lemma_id          lemma      score   tag member data_id\n",
       "122752  calvinistisch  calvinistisch  43.829163  ADJA               "
      ]
     },
     "execution_count": 63,
     "metadata": {},
     "output_type": "execute_result"
    }
   ],
   "source": [
    "# adjektive_noptz: Adjektive ohne Ptz-Markierung\n",
    "spalten = ['lemma_id','lemma','score','tag','member','data_id']\n",
    "mask1 =  wiktionary_lemma.tagZ == 'ADJ'\n",
    "mask2 = ~wiktionary_lemma.member.str.contains('Ptz1')\n",
    "mask3 = ~wiktionary_lemma.member.str.contains('Ptz2')\n",
    "mask = mask1  &  mask2  &  mask3  \n",
    "adjektive_noptz = wiktionary_lemma[mask][spalten]\n",
    "\n",
    "# was anzeigen\n",
    "a = search_str(adjektive_noptz, suche_debug)\n",
    "if len(a) == 0:\n",
    "    a = adjektive_noptz.sample(5)\n",
    "a"
   ]
  },
  {
   "cell_type": "code",
   "execution_count": 64,
   "id": "d9884b8f-fa86-488a-a12f-a4a717426299",
   "metadata": {
    "execution": {
     "iopub.execute_input": "2023-02-25T11:41:15.928526Z",
     "iopub.status.busy": "2023-02-25T11:41:15.928278Z",
     "iopub.status.idle": "2023-02-25T11:41:15.978624Z",
     "shell.execute_reply": "2023-02-25T11:41:15.977941Z",
     "shell.execute_reply.started": "2023-02-25T11:41:15.928505Z"
    }
   },
   "outputs": [
    {
     "name": "stdout",
     "output_type": "stream",
     "text": [
      "check_mask:  0 rows\n"
     ]
    }
   ],
   "source": [
    "# Nur leeres data_id\n",
    "mask = adjektive_noptz.data_id.isnull()  |  (adjektive_noptz.data_id == '')\n",
    "#grid(adjektive_noptz,~mask)\n",
    "check_mask(adjektive_noptz,~mask,0)"
   ]
  },
  {
   "cell_type": "code",
   "execution_count": 65,
   "id": "e9d329b8-567c-4ff2-8d5c-11d244446860",
   "metadata": {
    "execution": {
     "iopub.execute_input": "2023-02-25T11:41:15.982180Z",
     "iopub.status.busy": "2023-02-25T11:41:15.981761Z",
     "iopub.status.idle": "2023-02-25T11:41:17.425094Z",
     "shell.execute_reply": "2023-02-25T11:41:17.423992Z",
     "shell.execute_reply.started": "2023-02-25T11:41:15.982152Z"
    }
   },
   "outputs": [
    {
     "name": "stdout",
     "output_type": "stream",
     "text": [
      "update_col: func min applied, 382 records less!\n",
      "update_col: 8 cells written into existing column\n",
      "Delete 297 rows from 301\n",
      "4 rows\n"
     ]
    },
    {
     "data": {
      "text/html": [
       "<div>\n",
       "<style scoped>\n",
       "    .dataframe tbody tr th:only-of-type {\n",
       "        vertical-align: middle;\n",
       "    }\n",
       "\n",
       "    .dataframe tbody tr th {\n",
       "        vertical-align: top;\n",
       "    }\n",
       "\n",
       "    .dataframe thead th {\n",
       "        text-align: right;\n",
       "    }\n",
       "</style>\n",
       "<table border=\"1\" class=\"dataframe\">\n",
       "  <thead>\n",
       "    <tr style=\"text-align: right;\">\n",
       "      <th></th>\n",
       "      <th>lemma</th>\n",
       "      <th>verb</th>\n",
       "    </tr>\n",
       "  </thead>\n",
       "  <tbody>\n",
       "    <tr>\n",
       "      <th>121264</th>\n",
       "      <td>bestimmend</td>\n",
       "      <td>bestimmen</td>\n",
       "    </tr>\n",
       "    <tr>\n",
       "      <th>129409</th>\n",
       "      <td>erregend</td>\n",
       "      <td>erregen</td>\n",
       "    </tr>\n",
       "    <tr>\n",
       "      <th>147265</th>\n",
       "      <td>naheliegend</td>\n",
       "      <td>naheliegen</td>\n",
       "    </tr>\n",
       "    <tr>\n",
       "      <th>147271</th>\n",
       "      <td>nahestehend</td>\n",
       "      <td>nahestehen</td>\n",
       "    </tr>\n",
       "  </tbody>\n",
       "</table>\n",
       "</div>"
      ],
      "text/plain": [
       "              lemma        verb\n",
       "121264   bestimmend   bestimmen\n",
       "129409     erregend     erregen\n",
       "147265  naheliegend  naheliegen\n",
       "147271  nahestehend  nahestehen"
      ]
     },
     "execution_count": 65,
     "metadata": {},
     "output_type": "execute_result"
    }
   ],
   "source": [
    "# Das sind vermutlich eigentlich Partizipien \n",
    "# Partizip (geraten)\n",
    "mask1 = adjektive_noptz.lemma.str.endswith('nd')\n",
    "mask2 = ~adjektive_noptz.lemma.str.contains(' ')\n",
    "mask = mask1  &  mask2\n",
    "kandidaten = adjektive_noptz[mask].copy()\n",
    "\n",
    "# Kandidaten aufbereiten\n",
    "nöö = ['dutzend','flektierend','frappierend','spannend']\n",
    "kandidaten['verb'] = kandidaten.lemma.str[:-1]\n",
    "mask =  wiktionary_lemma.tagZZ == 'V'\n",
    "kandidaten = pak.update_col(kandidaten, \n",
    "                            wiktionary_lemma[mask],\n",
    "                            left_on=['verb'],\n",
    "                            right_on=['lemma'],\n",
    "                            col='lemma_id',\n",
    "                            col_rename='data_id',\n",
    "                            func='min'\n",
    "                           )\n",
    "\n",
    "# und filtern\n",
    "maskA = kandidaten.data_id.isnull()  |  (kandidaten.data_id == '')\n",
    "maskB = kandidaten.lemma.isin(nöö)\n",
    "mask = maskA  |  maskB\n",
    "kandidaten = pak.drop_rows(kandidaten,mask)\n",
    "\n",
    "spalten = ['lemma','verb']\n",
    "grid(kandidaten[spalten])"
   ]
  },
  {
   "cell_type": "markdown",
   "id": "8e7e7380-f776-421b-9bf5-fb9e54d19ace",
   "metadata": {},
   "source": [
    "### Gibt es Verben ohne Partizip-Lexeme?\n",
    "* ggf. Partizipen manuell nachtragen"
   ]
  },
  {
   "cell_type": "code",
   "execution_count": 66,
   "id": "63ab9276-98eb-48e6-b54e-d20df075a45c",
   "metadata": {
    "execution": {
     "iopub.execute_input": "2023-02-25T11:41:17.426980Z",
     "iopub.status.busy": "2023-02-25T11:41:17.426679Z",
     "iopub.status.idle": "2023-02-25T11:41:17.512403Z",
     "shell.execute_reply": "2023-02-25T11:41:17.511720Z",
     "shell.execute_reply.started": "2023-02-25T11:41:17.426956Z"
    }
   },
   "outputs": [
    {
     "name": "stdout",
     "output_type": "stream",
     "text": [
      "check_mask:  33 rows\n"
     ]
    }
   ],
   "source": [
    "# Verben ohne Ptz1\n",
    "spalten = ['lemma_id','lemma','score','tag','member']\n",
    "mask1 =  wiktionary_lemma.tagZZ == 'V'\n",
    "mask2 = ~wiktionary_lemma.lemma.isin(verben_ptz1.lemma)\n",
    "mask = mask1  &  mask2 \n",
    "check_mask(wiktionary_lemma,mask,26)\n",
    "verben_ohne_ptz1 = wiktionary_lemma[mask][spalten]\n",
    "#verben_ohne_ptz1"
   ]
  },
  {
   "cell_type": "code",
   "execution_count": 67,
   "id": "56caeb76-306c-4c77-a315-034ff049db51",
   "metadata": {
    "execution": {
     "iopub.execute_input": "2023-02-25T11:41:17.518210Z",
     "iopub.status.busy": "2023-02-25T11:41:17.515957Z",
     "iopub.status.idle": "2023-02-25T11:41:17.587407Z",
     "shell.execute_reply": "2023-02-25T11:41:17.586451Z",
     "shell.execute_reply.started": "2023-02-25T11:41:17.518171Z"
    }
   },
   "outputs": [
    {
     "data": {
      "text/html": [
       "<div>\n",
       "<style scoped>\n",
       "    .dataframe tbody tr th:only-of-type {\n",
       "        vertical-align: middle;\n",
       "    }\n",
       "\n",
       "    .dataframe tbody tr th {\n",
       "        vertical-align: top;\n",
       "    }\n",
       "\n",
       "    .dataframe thead th {\n",
       "        text-align: right;\n",
       "    }\n",
       "</style>\n",
       "<table border=\"1\" class=\"dataframe\">\n",
       "  <thead>\n",
       "    <tr style=\"text-align: right;\">\n",
       "      <th></th>\n",
       "      <th>lex</th>\n",
       "      <th>lemma</th>\n",
       "    </tr>\n",
       "  </thead>\n",
       "  <tbody>\n",
       "    <tr>\n",
       "      <th>115159</th>\n",
       "      <td>anguckend</td>\n",
       "      <td>angucken</td>\n",
       "    </tr>\n",
       "    <tr>\n",
       "      <th>132411</th>\n",
       "      <td>geborend</td>\n",
       "      <td>geboren</td>\n",
       "    </tr>\n",
       "    <tr>\n",
       "      <th>2100</th>\n",
       "      <td>handstoppend</td>\n",
       "      <td>handstoppen</td>\n",
       "    </tr>\n",
       "    <tr>\n",
       "      <th>145638</th>\n",
       "      <td>milbend</td>\n",
       "      <td>milben</td>\n",
       "    </tr>\n",
       "    <tr>\n",
       "      <th>146584</th>\n",
       "      <td>möchtend</td>\n",
       "      <td>möchten</td>\n",
       "    </tr>\n",
       "    <tr>\n",
       "      <th>154965</th>\n",
       "      <td>sprützend</td>\n",
       "      <td>sprützen</td>\n",
       "    </tr>\n",
       "    <tr>\n",
       "      <th>169161</th>\n",
       "      <td>zustande kommend</td>\n",
       "      <td>zustande kommen</td>\n",
       "    </tr>\n",
       "  </tbody>\n",
       "</table>\n",
       "</div>"
      ],
      "text/plain": [
       "                     lex            lemma\n",
       "115159         anguckend         angucken\n",
       "132411          geborend          geboren\n",
       "2100        handstoppend      handstoppen\n",
       "145638           milbend           milben\n",
       "146584          möchtend          möchten\n",
       "154965         sprützend         sprützen\n",
       "169161  zustande kommend  zustande kommen"
      ]
     },
     "execution_count": 67,
     "metadata": {},
     "output_type": "execute_result"
    }
   ],
   "source": [
    "# Kandidaten für die manuelle Aufnahme\n",
    "# - entweder als Ptz1-Lexem in lexeme_manuell (Reiter Partizipien)\n",
    "# - oder als lemma in die löschliste\n",
    "\n",
    "nöö = ['angedeihen','erstinken','gegenanargumentieren','grundsanieren','interdependieren','mittagessen','umfragen','urformen','voranmelden','zusammenreiten']\n",
    "mask1 = verben_ohne_ptz1.lemma.str.endswith('en')\n",
    "mask2 = ~verben_ohne_ptz1.lemma.isin(nöö)\n",
    "mask = mask1  &  mask2\n",
    "kandidaten = verben_ohne_ptz1[mask][['lemma']]\n",
    "kandidaten = kandidaten.drop_duplicates().sort_values('lemma')\n",
    "kandidaten['lex'] = kandidaten.lemma + 'd'\n",
    "kandidaten = pak.move_cols(kandidaten,'lex')\n",
    "kandidaten"
   ]
  },
  {
   "cell_type": "code",
   "execution_count": 68,
   "id": "8e72e573-bf60-4812-8997-58be781ecff4",
   "metadata": {
    "execution": {
     "iopub.execute_input": "2023-02-25T11:41:17.591632Z",
     "iopub.status.busy": "2023-02-25T11:41:17.591344Z",
     "iopub.status.idle": "2023-02-25T11:41:17.702187Z",
     "shell.execute_reply": "2023-02-25T11:41:17.701585Z",
     "shell.execute_reply.started": "2023-02-25T11:41:17.591609Z"
    }
   },
   "outputs": [
    {
     "name": "stdout",
     "output_type": "stream",
     "text": [
      "check_mask:  6 rows\n"
     ]
    },
    {
     "data": {
      "text/html": [
       "<div>\n",
       "<style scoped>\n",
       "    .dataframe tbody tr th:only-of-type {\n",
       "        vertical-align: middle;\n",
       "    }\n",
       "\n",
       "    .dataframe tbody tr th {\n",
       "        vertical-align: top;\n",
       "    }\n",
       "\n",
       "    .dataframe thead th {\n",
       "        text-align: right;\n",
       "    }\n",
       "</style>\n",
       "<table border=\"1\" class=\"dataframe\">\n",
       "  <thead>\n",
       "    <tr style=\"text-align: right;\">\n",
       "      <th></th>\n",
       "      <th>lemma_id</th>\n",
       "      <th>lemma</th>\n",
       "      <th>score</th>\n",
       "      <th>tag</th>\n",
       "      <th>member</th>\n",
       "    </tr>\n",
       "  </thead>\n",
       "  <tbody>\n",
       "    <tr>\n",
       "      <th>115159</th>\n",
       "      <td>angucken_M</td>\n",
       "      <td>angucken</td>\n",
       "      <td>26.208990</td>\n",
       "      <td>VVFIN</td>\n",
       "      <td>manuell</td>\n",
       "    </tr>\n",
       "    <tr>\n",
       "      <th>117142</th>\n",
       "      <td>aufrütteln_M</td>\n",
       "      <td>aufrütteln</td>\n",
       "      <td>26.208990</td>\n",
       "      <td>VVFIN</td>\n",
       "      <td>manuell</td>\n",
       "    </tr>\n",
       "    <tr>\n",
       "      <th>132411</th>\n",
       "      <td>geboren_M</td>\n",
       "      <td>geboren</td>\n",
       "      <td>8.736330</td>\n",
       "      <td>VVFIN</td>\n",
       "      <td>manuell</td>\n",
       "    </tr>\n",
       "    <tr>\n",
       "      <th>138322</th>\n",
       "      <td>herumpimpeln_M</td>\n",
       "      <td>herumpimpeln</td>\n",
       "      <td>26.208990</td>\n",
       "      <td>VVFIN</td>\n",
       "      <td>manuell</td>\n",
       "    </tr>\n",
       "    <tr>\n",
       "      <th>146584</th>\n",
       "      <td>möchten</td>\n",
       "      <td>möchten</td>\n",
       "      <td>105.177872</td>\n",
       "      <td>VVFIN</td>\n",
       "      <td></td>\n",
       "    </tr>\n",
       "    <tr>\n",
       "      <th>169161</th>\n",
       "      <td>zustande_kommen</td>\n",
       "      <td>zustande kommen</td>\n",
       "      <td>10.512030</td>\n",
       "      <td>VVFIN</td>\n",
       "      <td>Wortverbindung</td>\n",
       "    </tr>\n",
       "  </tbody>\n",
       "</table>\n",
       "</div>"
      ],
      "text/plain": [
       "               lemma_id            lemma       score    tag          member\n",
       "115159       angucken_M         angucken   26.208990  VVFIN         manuell\n",
       "117142     aufrütteln_M       aufrütteln   26.208990  VVFIN         manuell\n",
       "132411        geboren_M          geboren    8.736330  VVFIN         manuell\n",
       "138322   herumpimpeln_M     herumpimpeln   26.208990  VVFIN         manuell\n",
       "146584          möchten          möchten  105.177872  VVFIN                \n",
       "169161  zustande_kommen  zustande kommen   10.512030  VVFIN  Wortverbindung"
      ]
     },
     "execution_count": 68,
     "metadata": {},
     "output_type": "execute_result"
    }
   ],
   "source": [
    "# Verben ohne Ptz2\n",
    "nöö = ['Schlange stehen', 'gehn', 'stehn', 'umsehn','vergleiche']\n",
    "spalten = ['lemma_id','lemma','score','tag','member']\n",
    "mask1 =  wiktionary_lemma.tagZZ == 'V'\n",
    "mask2 = ~wiktionary_lemma.lemma.isin(verben_ptz2.lemma)\n",
    "mask3 = ~wiktionary_lemma.lemma.isin(nöö)\n",
    "mask = mask1  &  mask2  &  mask3\n",
    "check_mask(wiktionary_lemma,mask,0,11)\n",
    "verben_ohne_ptz2 = wiktionary_lemma[mask][spalten]\n",
    "verben_ohne_ptz2"
   ]
  },
  {
   "cell_type": "code",
   "execution_count": 69,
   "id": "2dac5ac0-ef8c-46e0-8c76-041341e7517a",
   "metadata": {
    "execution": {
     "iopub.execute_input": "2023-02-25T11:41:17.707226Z",
     "iopub.status.busy": "2023-02-25T11:41:17.705108Z",
     "iopub.status.idle": "2023-02-25T11:41:17.756130Z",
     "shell.execute_reply": "2023-02-25T11:41:17.755493Z",
     "shell.execute_reply.started": "2023-02-25T11:41:17.707189Z"
    },
    "tags": []
   },
   "outputs": [],
   "source": [
    "del verben_ohne_ptz1\n",
    "del verben_ohne_ptz2"
   ]
  },
  {
   "cell_type": "code",
   "execution_count": 70,
   "id": "1dc65229-b1e3-42bf-a337-36540342e6d6",
   "metadata": {
    "execution": {
     "iopub.execute_input": "2023-02-25T11:41:17.763907Z",
     "iopub.status.busy": "2023-02-25T11:41:17.763315Z",
     "iopub.status.idle": "2023-02-25T11:41:17.803976Z",
     "shell.execute_reply": "2023-02-25T11:41:17.803378Z",
     "shell.execute_reply.started": "2023-02-25T11:41:17.763857Z"
    }
   },
   "outputs": [],
   "source": [
    "#mask = wiktionary_merkmal.lemma_id == 'betreffen'\n",
    "#wiktionary_merkmal[mask]"
   ]
  },
  {
   "cell_type": "code",
   "execution_count": 71,
   "id": "55aa1170-524a-472a-b4a1-202e1a42a2ee",
   "metadata": {
    "execution": {
     "iopub.execute_input": "2023-02-25T11:41:17.807606Z",
     "iopub.status.busy": "2023-02-25T11:41:17.807334Z",
     "iopub.status.idle": "2023-02-25T11:41:17.843725Z",
     "shell.execute_reply": "2023-02-25T11:41:17.842857Z",
     "shell.execute_reply.started": "2023-02-25T11:41:17.807584Z"
    }
   },
   "outputs": [],
   "source": [
    "#mask = wiktionary_lemma.lemma == 'betreffend'\n",
    "#grid(wiktionary_lemma[mask])"
   ]
  },
  {
   "cell_type": "markdown",
   "id": "ceb05af2-dcb1-44a7-85d0-f3205df6a09b",
   "metadata": {},
   "source": [
    "### Partizipien und Adjektive vergleichen"
   ]
  },
  {
   "cell_type": "code",
   "execution_count": 72,
   "id": "6c490dce-0de8-48c1-9083-86b9429a8502",
   "metadata": {
    "execution": {
     "iopub.execute_input": "2023-02-25T11:41:17.848070Z",
     "iopub.status.busy": "2023-02-25T11:41:17.847605Z",
     "iopub.status.idle": "2023-02-25T11:41:17.973349Z",
     "shell.execute_reply": "2023-02-25T11:41:17.972656Z",
     "shell.execute_reply.started": "2023-02-25T11:41:17.848037Z"
    }
   },
   "outputs": [],
   "source": [
    "# merge für Ptz1\n",
    "a = pd.merge(verben_ptz1, adjektive_ptz1, left_on='data', right_on='lemma', how='outer',indicator=True, suffixes=('_v', '_a'))"
   ]
  },
  {
   "cell_type": "code",
   "execution_count": 73,
   "id": "ffb530cb-2ab5-4636-a489-142f7c16445a",
   "metadata": {
    "execution": {
     "iopub.execute_input": "2023-02-25T11:41:17.984255Z",
     "iopub.status.busy": "2023-02-25T11:41:17.979601Z",
     "iopub.status.idle": "2023-02-25T11:41:18.049712Z",
     "shell.execute_reply": "2023-02-25T11:41:18.049102Z",
     "shell.execute_reply.started": "2023-02-25T11:41:17.984195Z"
    }
   },
   "outputs": [
    {
     "data": {
      "text/html": [
       "<div>\n",
       "<style scoped>\n",
       "    .dataframe tbody tr th:only-of-type {\n",
       "        vertical-align: middle;\n",
       "    }\n",
       "\n",
       "    .dataframe tbody tr th {\n",
       "        vertical-align: top;\n",
       "    }\n",
       "\n",
       "    .dataframe thead th {\n",
       "        text-align: right;\n",
       "    }\n",
       "</style>\n",
       "<table border=\"1\" class=\"dataframe\">\n",
       "  <thead>\n",
       "    <tr style=\"text-align: right;\">\n",
       "      <th></th>\n",
       "      <th>_merge</th>\n",
       "      <th>_merge_count</th>\n",
       "      <th>_merge_percent</th>\n",
       "      <th>graph</th>\n",
       "    </tr>\n",
       "  </thead>\n",
       "  <tbody>\n",
       "    <tr>\n",
       "      <th>0</th>\n",
       "      <td>both</td>\n",
       "      <td>14180</td>\n",
       "      <td>100.0</td>\n",
       "      <td>##################################################</td>\n",
       "    </tr>\n",
       "    <tr>\n",
       "      <th>1</th>\n",
       "      <td>left_only</td>\n",
       "      <td>0</td>\n",
       "      <td>0.0</td>\n",
       "      <td></td>\n",
       "    </tr>\n",
       "    <tr>\n",
       "      <th>2</th>\n",
       "      <td>right_only</td>\n",
       "      <td>0</td>\n",
       "      <td>0.0</td>\n",
       "      <td></td>\n",
       "    </tr>\n",
       "  </tbody>\n",
       "</table>\n",
       "</div>"
      ],
      "text/plain": [
       "       _merge  _merge_count  _merge_percent  \\\n",
       "0        both         14180           100.0   \n",
       "1   left_only             0             0.0   \n",
       "2  right_only             0             0.0   \n",
       "\n",
       "                                                graph  \n",
       "0  ##################################################  \n",
       "1                                                      \n",
       "2                                                      "
      ]
     },
     "execution_count": 73,
     "metadata": {},
     "output_type": "execute_result"
    }
   ],
   "source": [
    "# Übersicht\n",
    "assert a.shape[0] > 13000\n",
    "pak.analyse_freqs(a,'_merge')"
   ]
  },
  {
   "cell_type": "code",
   "execution_count": 74,
   "id": "9928a7d8-1444-48df-9946-f2358da6d520",
   "metadata": {
    "execution": {
     "iopub.execute_input": "2023-02-25T11:41:18.052688Z",
     "iopub.status.busy": "2023-02-25T11:41:18.052440Z",
     "iopub.status.idle": "2023-02-25T11:41:18.106391Z",
     "shell.execute_reply": "2023-02-25T11:41:18.105800Z",
     "shell.execute_reply.started": "2023-02-25T11:41:18.052666Z"
    }
   },
   "outputs": [
    {
     "name": "stdout",
     "output_type": "stream",
     "text": [
      "check_mask:  0 rows\n"
     ]
    },
    {
     "data": {
      "text/html": [
       "<div>\n",
       "<style scoped>\n",
       "    .dataframe tbody tr th:only-of-type {\n",
       "        vertical-align: middle;\n",
       "    }\n",
       "\n",
       "    .dataframe tbody tr th {\n",
       "        vertical-align: top;\n",
       "    }\n",
       "\n",
       "    .dataframe thead th {\n",
       "        text-align: right;\n",
       "    }\n",
       "</style>\n",
       "<table border=\"1\" class=\"dataframe\">\n",
       "  <thead>\n",
       "    <tr style=\"text-align: right;\">\n",
       "      <th></th>\n",
       "      <th>lemma_a</th>\n",
       "    </tr>\n",
       "  </thead>\n",
       "  <tbody>\n",
       "  </tbody>\n",
       "</table>\n",
       "</div>"
      ],
      "text/plain": [
       "Empty DataFrame\n",
       "Columns: [lemma_a]\n",
       "Index: []"
      ]
     },
     "execution_count": 74,
     "metadata": {},
     "output_type": "execute_result"
    }
   ],
   "source": [
    "# Als Partizipialadjektiv gekennzeichnet, hat aber kein passendes Partizip\n",
    "# >> Kandidaten für die Löschliste\n",
    "\n",
    "mask = a._merge == 'right_only'\n",
    "check_mask(a,mask,0,20)\n",
    "a[mask][['lemma_a']]"
   ]
  },
  {
   "cell_type": "code",
   "execution_count": 75,
   "id": "ac6572ac-dadf-44d8-9e90-aa3834ba2c11",
   "metadata": {
    "execution": {
     "iopub.execute_input": "2023-02-25T11:41:18.107527Z",
     "iopub.status.busy": "2023-02-25T11:41:18.107286Z",
     "iopub.status.idle": "2023-02-25T11:41:18.144434Z",
     "shell.execute_reply": "2023-02-25T11:41:18.143667Z",
     "shell.execute_reply.started": "2023-02-25T11:41:18.107505Z"
    }
   },
   "outputs": [
    {
     "name": "stdout",
     "output_type": "stream",
     "text": [
      "check_mask:  0 rows\n"
     ]
    }
   ],
   "source": [
    "# Partizip ohne passendes Partizipialadjektiv\n",
    "mask = a._merge == 'left_only'\n",
    "check_mask(a,mask,0,1)\n",
    "#a[mask] "
   ]
  },
  {
   "cell_type": "code",
   "execution_count": 76,
   "id": "2c66aa65-378f-4403-893b-f4c53dbe4653",
   "metadata": {
    "execution": {
     "iopub.execute_input": "2023-02-25T11:41:18.145603Z",
     "iopub.status.busy": "2023-02-25T11:41:18.145338Z",
     "iopub.status.idle": "2023-02-25T11:41:18.330638Z",
     "shell.execute_reply": "2023-02-25T11:41:18.330032Z",
     "shell.execute_reply.started": "2023-02-25T11:41:18.145578Z"
    }
   },
   "outputs": [],
   "source": [
    "# merge für Ptz2\n",
    "a = pd.merge(verben_ptz2, adjektive_ptz2, left_on='data', right_on='lemma', how='outer',indicator=True, suffixes=('_v', '_a'))\n",
    "a = a.drop_duplicates()"
   ]
  },
  {
   "cell_type": "code",
   "execution_count": 77,
   "id": "ab1ee4d0-1d4b-4d79-bbc5-074250d647c2",
   "metadata": {
    "execution": {
     "iopub.execute_input": "2023-02-25T11:41:18.334877Z",
     "iopub.status.busy": "2023-02-25T11:41:18.334286Z",
     "iopub.status.idle": "2023-02-25T11:41:18.413159Z",
     "shell.execute_reply": "2023-02-25T11:41:18.412477Z",
     "shell.execute_reply.started": "2023-02-25T11:41:18.334852Z"
    }
   },
   "outputs": [
    {
     "data": {
      "text/html": [
       "<div>\n",
       "<style scoped>\n",
       "    .dataframe tbody tr th:only-of-type {\n",
       "        vertical-align: middle;\n",
       "    }\n",
       "\n",
       "    .dataframe tbody tr th {\n",
       "        vertical-align: top;\n",
       "    }\n",
       "\n",
       "    .dataframe thead th {\n",
       "        text-align: right;\n",
       "    }\n",
       "</style>\n",
       "<table border=\"1\" class=\"dataframe\">\n",
       "  <thead>\n",
       "    <tr style=\"text-align: right;\">\n",
       "      <th></th>\n",
       "      <th>_merge</th>\n",
       "      <th>_merge_count</th>\n",
       "      <th>_merge_percent</th>\n",
       "      <th>graph</th>\n",
       "    </tr>\n",
       "  </thead>\n",
       "  <tbody>\n",
       "    <tr>\n",
       "      <th>0</th>\n",
       "      <td>both</td>\n",
       "      <td>14197</td>\n",
       "      <td>98.9</td>\n",
       "      <td>#################################################</td>\n",
       "    </tr>\n",
       "    <tr>\n",
       "      <th>1</th>\n",
       "      <td>left_only</td>\n",
       "      <td>165</td>\n",
       "      <td>1.1</td>\n",
       "      <td></td>\n",
       "    </tr>\n",
       "    <tr>\n",
       "      <th>2</th>\n",
       "      <td>right_only</td>\n",
       "      <td>0</td>\n",
       "      <td>0.0</td>\n",
       "      <td></td>\n",
       "    </tr>\n",
       "  </tbody>\n",
       "</table>\n",
       "</div>"
      ],
      "text/plain": [
       "       _merge  _merge_count  _merge_percent  \\\n",
       "0        both         14197            98.9   \n",
       "1   left_only           165             1.1   \n",
       "2  right_only             0             0.0   \n",
       "\n",
       "                                               graph  \n",
       "0  #################################################  \n",
       "1                                                     \n",
       "2                                                     "
      ]
     },
     "execution_count": 77,
     "metadata": {},
     "output_type": "execute_result"
    }
   ],
   "source": [
    "# Übersicht\n",
    "assert a.shape[0] > 14000\n",
    "pak.analyse_freqs(a,'_merge')"
   ]
  },
  {
   "cell_type": "code",
   "execution_count": 78,
   "id": "9cfb5b41-87de-4fe9-9ef2-4e545dd5ba0c",
   "metadata": {
    "execution": {
     "iopub.execute_input": "2023-02-25T11:41:18.416840Z",
     "iopub.status.busy": "2023-02-25T11:41:18.416498Z",
     "iopub.status.idle": "2023-02-25T11:41:18.478021Z",
     "shell.execute_reply": "2023-02-25T11:41:18.477246Z",
     "shell.execute_reply.started": "2023-02-25T11:41:18.416817Z"
    }
   },
   "outputs": [
    {
     "name": "stdout",
     "output_type": "stream",
     "text": [
      "check_mask:  0 rows\n"
     ]
    },
    {
     "data": {
      "text/html": [
       "<div>\n",
       "<style scoped>\n",
       "    .dataframe tbody tr th:only-of-type {\n",
       "        vertical-align: middle;\n",
       "    }\n",
       "\n",
       "    .dataframe tbody tr th {\n",
       "        vertical-align: top;\n",
       "    }\n",
       "\n",
       "    .dataframe thead th {\n",
       "        text-align: right;\n",
       "    }\n",
       "</style>\n",
       "<table border=\"1\" class=\"dataframe\">\n",
       "  <thead>\n",
       "    <tr style=\"text-align: right;\">\n",
       "      <th></th>\n",
       "      <th>lemma_id_a</th>\n",
       "      <th>lemma_a</th>\n",
       "      <th>tag</th>\n",
       "      <th>member</th>\n",
       "    </tr>\n",
       "  </thead>\n",
       "  <tbody>\n",
       "  </tbody>\n",
       "</table>\n",
       "</div>"
      ],
      "text/plain": [
       "Empty DataFrame\n",
       "Columns: [lemma_id_a, lemma_a, tag, member]\n",
       "Index: []"
      ]
     },
     "execution_count": 78,
     "metadata": {},
     "output_type": "execute_result"
    }
   ],
   "source": [
    "# Als Partizipialadjektiv gekennzeichnet, hat aber kein passendes Partizip\n",
    "# >> Kandidaten für die Löschliste\n",
    "\n",
    "mask = a._merge == 'right_only'\n",
    "check_mask(a,mask,0,30)\n",
    "a[mask][['lemma_id_a','lemma_a','tag','member']]"
   ]
  },
  {
   "cell_type": "code",
   "execution_count": 79,
   "id": "90816435-bd79-43bb-9f34-032a4213f375",
   "metadata": {
    "execution": {
     "iopub.execute_input": "2023-02-25T11:41:18.480420Z",
     "iopub.status.busy": "2023-02-25T11:41:18.480130Z",
     "iopub.status.idle": "2023-02-25T11:41:18.545144Z",
     "shell.execute_reply": "2023-02-25T11:41:18.544320Z",
     "shell.execute_reply.started": "2023-02-25T11:41:18.480395Z"
    }
   },
   "outputs": [
    {
     "data": {
      "text/html": [
       "<div>\n",
       "<style scoped>\n",
       "    .dataframe tbody tr th:only-of-type {\n",
       "        vertical-align: middle;\n",
       "    }\n",
       "\n",
       "    .dataframe tbody tr th {\n",
       "        vertical-align: top;\n",
       "    }\n",
       "\n",
       "    .dataframe thead th {\n",
       "        text-align: right;\n",
       "    }\n",
       "</style>\n",
       "<table border=\"1\" class=\"dataframe\">\n",
       "  <thead>\n",
       "    <tr style=\"text-align: right;\">\n",
       "      <th></th>\n",
       "      <th>lemma_id</th>\n",
       "      <th>page_id</th>\n",
       "      <th>page_part</th>\n",
       "      <th>lemma</th>\n",
       "      <th>lemma_lower</th>\n",
       "      <th>isupper</th>\n",
       "      <th>lemma_len</th>\n",
       "      <th>tag</th>\n",
       "      <th>tag_0</th>\n",
       "      <th>tag_1</th>\n",
       "      <th>tagZ</th>\n",
       "      <th>tagZZ</th>\n",
       "      <th>member</th>\n",
       "      <th>data_id</th>\n",
       "      <th>score</th>\n",
       "    </tr>\n",
       "  </thead>\n",
       "  <tbody>\n",
       "  </tbody>\n",
       "</table>\n",
       "</div>"
      ],
      "text/plain": [
       "Empty DataFrame\n",
       "Columns: [lemma_id, page_id, page_part, lemma, lemma_lower, isupper, lemma_len, tag, tag_0, tag_1, tagZ, tagZZ, member, data_id, score]\n",
       "Index: []"
      ]
     },
     "execution_count": 79,
     "metadata": {},
     "output_type": "execute_result"
    }
   ],
   "source": [
    "# entkennzeichnen\n",
    "entkennzeichnen = a[mask].lemma_id_a\n",
    "mask_L = wiktionary_lemma.lemma_id.isin(entkennzeichnen)\n",
    "wiktionary_lemma.loc[mask_L,'member'] = pak.remove_str(wiktionary_lemma[mask_L].member, 'Ptz2')\n",
    "wiktionary_lemma[mask_L]"
   ]
  },
  {
   "cell_type": "code",
   "execution_count": 80,
   "id": "76f98fd9-716c-438e-b645-05c9408188ce",
   "metadata": {
    "execution": {
     "iopub.execute_input": "2023-02-25T11:41:18.547215Z",
     "iopub.status.busy": "2023-02-25T11:41:18.546902Z",
     "iopub.status.idle": "2023-02-25T11:41:18.623245Z",
     "shell.execute_reply": "2023-02-25T11:41:18.622628Z",
     "shell.execute_reply.started": "2023-02-25T11:41:18.547186Z"
    }
   },
   "outputs": [
    {
     "name": "stdout",
     "output_type": "stream",
     "text": [
      "check_mask:  165 rows\n",
      "update_col: 7 cells written into new column\n"
     ]
    }
   ],
   "source": [
    "# Partizip ohne passendes Partizipialadjektiv\n",
    "mask = a._merge == 'left_only'\n",
    "check_mask(a,mask,0,350)\n",
    "fehlende_adjektive = a[mask]\n",
    "fehlende_adjektive = pak.update_col(df_to=fehlende_adjektive, df_from=adjektive_noptz, left_on='lemma_v', right_on='lemma',col='lemma_id',col_rename='adj_id')\n",
    "#fehlende_adjektive"
   ]
  },
  {
   "cell_type": "code",
   "execution_count": 81,
   "id": "f7c10389-075b-40cc-9919-3127fe39eeec",
   "metadata": {
    "execution": {
     "iopub.execute_input": "2023-02-25T11:41:18.626635Z",
     "iopub.status.busy": "2023-02-25T11:41:18.626304Z",
     "iopub.status.idle": "2023-02-25T11:41:18.683371Z",
     "shell.execute_reply": "2023-02-25T11:41:18.682731Z",
     "shell.execute_reply.started": "2023-02-25T11:41:18.626613Z"
    }
   },
   "outputs": [
    {
     "name": "stdout",
     "output_type": "stream",
     "text": [
      "check_mask:  7 rows\n"
     ]
    },
    {
     "data": {
      "text/html": [
       "<div>\n",
       "<style scoped>\n",
       "    .dataframe tbody tr th:only-of-type {\n",
       "        vertical-align: middle;\n",
       "    }\n",
       "\n",
       "    .dataframe tbody tr th {\n",
       "        vertical-align: top;\n",
       "    }\n",
       "\n",
       "    .dataframe thead th {\n",
       "        text-align: right;\n",
       "    }\n",
       "</style>\n",
       "<table border=\"1\" class=\"dataframe\">\n",
       "  <thead>\n",
       "    <tr style=\"text-align: right;\">\n",
       "      <th></th>\n",
       "      <th>lemma_id_v</th>\n",
       "      <th>lemma_v</th>\n",
       "      <th>data_id_v</th>\n",
       "      <th>data</th>\n",
       "      <th>score_v</th>\n",
       "      <th>merkmal</th>\n",
       "      <th>lemma_id_a</th>\n",
       "      <th>lemma_a</th>\n",
       "      <th>score_a</th>\n",
       "      <th>tag</th>\n",
       "      <th>member</th>\n",
       "      <th>data_id_a</th>\n",
       "      <th>_merge</th>\n",
       "      <th>adj_id</th>\n",
       "    </tr>\n",
       "  </thead>\n",
       "  <tbody>\n",
       "    <tr>\n",
       "      <th>14162</th>\n",
       "      <td>erlesen_1</td>\n",
       "      <td>erlesen</td>\n",
       "      <td>erlesen</td>\n",
       "      <td>erlesen</td>\n",
       "      <td>2.064399</td>\n",
       "      <td>Ptz2</td>\n",
       "      <td>&lt;NA&gt;</td>\n",
       "      <td>&lt;NA&gt;</td>\n",
       "      <td>NaN</td>\n",
       "      <td>&lt;NA&gt;</td>\n",
       "      <td>&lt;NA&gt;</td>\n",
       "      <td>&lt;NA&gt;</td>\n",
       "      <td>left_only</td>\n",
       "      <td>erlesen</td>\n",
       "    </tr>\n",
       "    <tr>\n",
       "      <th>14173</th>\n",
       "      <td>beschlagen_1</td>\n",
       "      <td>beschlagen</td>\n",
       "      <td>beschlagen</td>\n",
       "      <td>beschlagen</td>\n",
       "      <td>7.763062</td>\n",
       "      <td>Ptz2</td>\n",
       "      <td>&lt;NA&gt;</td>\n",
       "      <td>&lt;NA&gt;</td>\n",
       "      <td>NaN</td>\n",
       "      <td>&lt;NA&gt;</td>\n",
       "      <td>&lt;NA&gt;</td>\n",
       "      <td>&lt;NA&gt;</td>\n",
       "      <td>left_only</td>\n",
       "      <td>beschlagen</td>\n",
       "    </tr>\n",
       "    <tr>\n",
       "      <th>14265</th>\n",
       "      <td>erwachsen_1</td>\n",
       "      <td>erwachsen</td>\n",
       "      <td>erwachsen</td>\n",
       "      <td>erwachsen</td>\n",
       "      <td>3.565006</td>\n",
       "      <td>Ptz2</td>\n",
       "      <td>&lt;NA&gt;</td>\n",
       "      <td>&lt;NA&gt;</td>\n",
       "      <td>NaN</td>\n",
       "      <td>&lt;NA&gt;</td>\n",
       "      <td>&lt;NA&gt;</td>\n",
       "      <td>&lt;NA&gt;</td>\n",
       "      <td>left_only</td>\n",
       "      <td>erwachsen</td>\n",
       "    </tr>\n",
       "    <tr>\n",
       "      <th>14291</th>\n",
       "      <td>betreten_1</td>\n",
       "      <td>betreten</td>\n",
       "      <td>betreten</td>\n",
       "      <td>betreten</td>\n",
       "      <td>4.420413</td>\n",
       "      <td>Ptz2</td>\n",
       "      <td>&lt;NA&gt;</td>\n",
       "      <td>&lt;NA&gt;</td>\n",
       "      <td>NaN</td>\n",
       "      <td>&lt;NA&gt;</td>\n",
       "      <td>&lt;NA&gt;</td>\n",
       "      <td>&lt;NA&gt;</td>\n",
       "      <td>left_only</td>\n",
       "      <td>betreten</td>\n",
       "    </tr>\n",
       "    <tr>\n",
       "      <th>14305</th>\n",
       "      <td>befangen_1</td>\n",
       "      <td>befangen</td>\n",
       "      <td>befangen</td>\n",
       "      <td>befangen</td>\n",
       "      <td>3.855407</td>\n",
       "      <td>Ptz2</td>\n",
       "      <td>&lt;NA&gt;</td>\n",
       "      <td>&lt;NA&gt;</td>\n",
       "      <td>NaN</td>\n",
       "      <td>&lt;NA&gt;</td>\n",
       "      <td>&lt;NA&gt;</td>\n",
       "      <td>&lt;NA&gt;</td>\n",
       "      <td>left_only</td>\n",
       "      <td>befangen</td>\n",
       "    </tr>\n",
       "    <tr>\n",
       "      <th>14306</th>\n",
       "      <td>durchwachsen_2</td>\n",
       "      <td>durchwachsen</td>\n",
       "      <td>durchwachsen</td>\n",
       "      <td>durchwachsen</td>\n",
       "      <td>1.496962</td>\n",
       "      <td>Ptz2</td>\n",
       "      <td>&lt;NA&gt;</td>\n",
       "      <td>&lt;NA&gt;</td>\n",
       "      <td>NaN</td>\n",
       "      <td>&lt;NA&gt;</td>\n",
       "      <td>&lt;NA&gt;</td>\n",
       "      <td>&lt;NA&gt;</td>\n",
       "      <td>left_only</td>\n",
       "      <td>durchwachsen</td>\n",
       "    </tr>\n",
       "    <tr>\n",
       "      <th>14310</th>\n",
       "      <td>erfahren</td>\n",
       "      <td>erfahren</td>\n",
       "      <td>erfahren_1</td>\n",
       "      <td>erfahren</td>\n",
       "      <td>14.021872</td>\n",
       "      <td>Ptz2</td>\n",
       "      <td>&lt;NA&gt;</td>\n",
       "      <td>&lt;NA&gt;</td>\n",
       "      <td>NaN</td>\n",
       "      <td>&lt;NA&gt;</td>\n",
       "      <td>&lt;NA&gt;</td>\n",
       "      <td>&lt;NA&gt;</td>\n",
       "      <td>left_only</td>\n",
       "      <td>erfahren_1</td>\n",
       "    </tr>\n",
       "  </tbody>\n",
       "</table>\n",
       "</div>"
      ],
      "text/plain": [
       "           lemma_id_v       lemma_v     data_id_v          data    score_v  \\\n",
       "14162       erlesen_1       erlesen       erlesen       erlesen   2.064399   \n",
       "14173    beschlagen_1    beschlagen    beschlagen    beschlagen   7.763062   \n",
       "14265     erwachsen_1     erwachsen     erwachsen     erwachsen   3.565006   \n",
       "14291      betreten_1      betreten      betreten      betreten   4.420413   \n",
       "14305      befangen_1      befangen      befangen      befangen   3.855407   \n",
       "14306  durchwachsen_2  durchwachsen  durchwachsen  durchwachsen   1.496962   \n",
       "14310        erfahren      erfahren    erfahren_1      erfahren  14.021872   \n",
       "\n",
       "      merkmal lemma_id_a lemma_a  score_a   tag member data_id_a     _merge  \\\n",
       "14162    Ptz2       <NA>    <NA>      NaN  <NA>   <NA>      <NA>  left_only   \n",
       "14173    Ptz2       <NA>    <NA>      NaN  <NA>   <NA>      <NA>  left_only   \n",
       "14265    Ptz2       <NA>    <NA>      NaN  <NA>   <NA>      <NA>  left_only   \n",
       "14291    Ptz2       <NA>    <NA>      NaN  <NA>   <NA>      <NA>  left_only   \n",
       "14305    Ptz2       <NA>    <NA>      NaN  <NA>   <NA>      <NA>  left_only   \n",
       "14306    Ptz2       <NA>    <NA>      NaN  <NA>   <NA>      <NA>  left_only   \n",
       "14310    Ptz2       <NA>    <NA>      NaN  <NA>   <NA>      <NA>  left_only   \n",
       "\n",
       "             adj_id  \n",
       "14162       erlesen  \n",
       "14173    beschlagen  \n",
       "14265     erwachsen  \n",
       "14291      betreten  \n",
       "14305      befangen  \n",
       "14306  durchwachsen  \n",
       "14310    erfahren_1  "
      ]
     },
     "execution_count": 81,
     "metadata": {},
     "output_type": "execute_result"
    }
   ],
   "source": [
    "# Das Partizipialadjektiv fehlt. Das kann zwei Ursachen haben:\n",
    "# (1) Es gibt ein Adjektiv, das ist aber nicht als Partizipialadjektiv markiert\n",
    "# (2) Es gibt kein Adjektiv.\n",
    "# Zuerst kümmern wir uns um Fall (1).\n",
    "# Die in adj_id genannten Adjektive müssen noch als Partizipialadjektiv markiert werden\n",
    "mask_a = ~fehlende_adjektive.adj_id.isnull()\n",
    "check_mask(fehlende_adjektive,mask_a,0,20)\n",
    "fehlende_adjektive[mask_a]"
   ]
  },
  {
   "cell_type": "code",
   "execution_count": 82,
   "id": "f9fb9136-b647-47fa-93d0-16adbf892e49",
   "metadata": {
    "execution": {
     "iopub.execute_input": "2023-02-25T11:41:18.699572Z",
     "iopub.status.busy": "2023-02-25T11:41:18.699220Z",
     "iopub.status.idle": "2023-02-25T11:41:18.762880Z",
     "shell.execute_reply": "2023-02-25T11:41:18.761922Z",
     "shell.execute_reply.started": "2023-02-25T11:41:18.699547Z"
    }
   },
   "outputs": [
    {
     "name": "stdout",
     "output_type": "stream",
     "text": [
      "check_mask:  7 rows\n"
     ]
    }
   ],
   "source": [
    "# markieren\n",
    "mask = wiktionary_lemma.lemma_id.isin(fehlende_adjektive[mask_a].adj_id)\n",
    "check_mask(wiktionary_lemma,mask,0,20)\n",
    "wiktionary_lemma.loc[mask,'member'] += ' Ptz2'\n",
    "#wiktionary_lemma[mask]"
   ]
  },
  {
   "cell_type": "code",
   "execution_count": 83,
   "id": "a6dbef35-20f6-4f6c-9629-ea1423a68f3f",
   "metadata": {
    "execution": {
     "iopub.execute_input": "2023-02-25T11:41:18.769356Z",
     "iopub.status.busy": "2023-02-25T11:41:18.768680Z",
     "iopub.status.idle": "2023-02-25T11:41:18.826973Z",
     "shell.execute_reply": "2023-02-25T11:41:18.826304Z",
     "shell.execute_reply.started": "2023-02-25T11:41:18.769326Z"
    }
   },
   "outputs": [
    {
     "name": "stdout",
     "output_type": "stream",
     "text": [
      "len nöö = 110\n",
      "check_mask:  7 rows\n",
      "7 rows out of 118\n"
     ]
    },
    {
     "data": {
      "text/html": [
       "<div>\n",
       "<style scoped>\n",
       "    .dataframe tbody tr th:only-of-type {\n",
       "        vertical-align: middle;\n",
       "    }\n",
       "\n",
       "    .dataframe tbody tr th {\n",
       "        vertical-align: top;\n",
       "    }\n",
       "\n",
       "    .dataframe thead th {\n",
       "        text-align: right;\n",
       "    }\n",
       "</style>\n",
       "<table border=\"1\" class=\"dataframe\">\n",
       "  <thead>\n",
       "    <tr style=\"text-align: right;\">\n",
       "      <th></th>\n",
       "      <th>data</th>\n",
       "    </tr>\n",
       "  </thead>\n",
       "  <tbody>\n",
       "    <tr>\n",
       "      <th>14209</th>\n",
       "      <td>fortbegeben</td>\n",
       "    </tr>\n",
       "    <tr>\n",
       "      <th>14271</th>\n",
       "      <td>geadert</td>\n",
       "    </tr>\n",
       "    <tr>\n",
       "      <th>14184</th>\n",
       "      <td>gesprützt</td>\n",
       "    </tr>\n",
       "    <tr>\n",
       "      <th>14273</th>\n",
       "      <td>geädert</td>\n",
       "    </tr>\n",
       "    <tr>\n",
       "      <th>14163</th>\n",
       "      <td>herumbekommen</td>\n",
       "    </tr>\n",
       "    <tr>\n",
       "      <th>14322</th>\n",
       "      <td>photogeshoppt</td>\n",
       "    </tr>\n",
       "    <tr>\n",
       "      <th>14155</th>\n",
       "      <td>zusammengeraten</td>\n",
       "    </tr>\n",
       "  </tbody>\n",
       "</table>\n",
       "</div>"
      ],
      "text/plain": [
       "                  data\n",
       "14209      fortbegeben\n",
       "14271          geadert\n",
       "14184        gesprützt\n",
       "14273          geädert\n",
       "14163    herumbekommen\n",
       "14322    photogeshoppt\n",
       "14155  zusammengeraten"
      ]
     },
     "execution_count": 83,
     "metadata": {},
     "output_type": "execute_result"
    }
   ],
   "source": [
    "# Fall (2)\n",
    "# Dies sind Kandidaten dafür, manuell aufgenommen zu werden.\n",
    "# Und zwar als Partizipien (Ptz2) in lexeme_manuell, dann werden die Adjektive automatisch erstellt und passend verlinkt.\n",
    "# Das geschieht in d01_tag_und_member.\n",
    "#\n",
    "\n",
    "mask_a = fehlende_adjektive.adj_id.isnull()\n",
    "kandidaten = fehlende_adjektive[mask_a][['data']].drop_duplicates().sort_values('data')\n",
    "\n",
    "nöö = ['abbegeben','abbehalten','abbekommen','abgetan','anbekommen','angetan','aufbekommen','aufgetan','ausgetan','begeben','behalten','beibehalten','bekommen',\n",
    "       'benachrangt','bestoßen','betan','betragen','dabehalten','dargetan','dazugetan','dickgetan','dortbehalten',\n",
    "       'durchbekommen','durchhauen','durchmarschiert','entraten','entschlagen','erfangen','ermessen','erschlafen','erschollen',\n",
    "       'ersehen','ertragen','fallenlassen','fortwollen','ge- -zt','gegenanargumentiert','geheimgetan',\n",
    "       'gemecht','genuggetan','geraidet','getan','gleichgetan','großgetan','gutgetan','hartgetan','hervorgetan','hinbekommen','hindurchmarschieren',\n",
    "       'hineinbegeben','hineingetan','hinterlaufen','hinunterbekommen','hinzugetan','hinüberrannte','hängen lassen','leichtgetan','leidgetan',\n",
    "       'lieb behalten','missfallen','mitbekommen','mitwollen','nachbekommen','nachgeraten','nachgetan','notgetan','schwergetan','schöngetan','stehenlassen',\n",
    "       'umeinandergehetzt','umeinandergelegen','umeinandergestanden','umgefragt','umgetan','umtreten','unterbekommen','unterfangen','unterwaschen',\n",
    "       'verhebt','verladen','verschleißt','versehen','vertan','vertragen',\n",
    "       'vorgetan','weggetan','wegwollen','weh getan','wehgetan','widerfahren','widerraten','wiederwollen','wohlgetan','zubekommen','zugetan',\n",
    "       'zugutegetan','zurechtbekommen','zurückbegeben','zurückbekommen','zurückerhalten','zurückgetan','zurückwollen','zusammenbekommen','zusammengetan','zuvorgetan',\n",
    "       'überlassen','überschlafen','betroffen','geschehen','umschlagen']\n",
    "print('len nöö =',len(nöö))\n",
    "mask1 = ~kandidaten.data.str.startswith('-')\n",
    "mask2 = ~kandidaten.data.isin(nöö)\n",
    "mask = mask1  &  mask2  \n",
    "check_mask(kandidaten,mask, 0,20)\n",
    "grid(kandidaten,mask)"
   ]
  },
  {
   "cell_type": "markdown",
   "id": "77bf41c5-62f9-4745-8821-16ee6c52dcf4",
   "metadata": {},
   "source": [
    "### Aufräumen"
   ]
  },
  {
   "cell_type": "code",
   "execution_count": 84,
   "id": "3a7f8d8f-35ff-4d3e-b8c9-389f5b1b65b1",
   "metadata": {
    "execution": {
     "iopub.execute_input": "2023-02-25T11:41:18.830248Z",
     "iopub.status.busy": "2023-02-25T11:41:18.829952Z",
     "iopub.status.idle": "2023-02-25T11:41:18.889071Z",
     "shell.execute_reply": "2023-02-25T11:41:18.888250Z",
     "shell.execute_reply.started": "2023-02-25T11:41:18.830221Z"
    }
   },
   "outputs": [],
   "source": [
    "del verben_ptz1\n",
    "del verben_ptz2\n",
    "del adjektive_ptz1\n",
    "del adjektive_ptz2\n",
    "del adjektive_noptz"
   ]
  },
  {
   "cell_type": "markdown",
   "id": "af1933dd",
   "metadata": {},
   "source": [
    "## wiktionary_lemma =========="
   ]
  },
  {
   "cell_type": "code",
   "execution_count": 85,
   "id": "7c3f6f72-8fa8-476e-8333-ea72c3f930e6",
   "metadata": {
    "execution": {
     "iopub.execute_input": "2023-02-25T11:41:18.893582Z",
     "iopub.status.busy": "2023-02-25T11:41:18.893085Z",
     "iopub.status.idle": "2023-02-25T11:41:19.003472Z",
     "shell.execute_reply": "2023-02-25T11:41:19.002703Z",
     "shell.execute_reply.started": "2023-02-25T11:41:18.893544Z"
    }
   },
   "outputs": [
    {
     "name": "stdout",
     "output_type": "stream",
     "text": [
      "check_mask:  0 rows\n"
     ]
    }
   ],
   "source": [
    "# lemma_id vorhanden und eindeutig?\n",
    "mask = wiktionary_lemma.lemma_id == ''\n",
    "check_mask(wiktionary_lemma,mask,0)\n",
    "\n",
    "assert wiktionary_lemma.lemma_id.is_unique"
   ]
  },
  {
   "cell_type": "code",
   "execution_count": 86,
   "id": "0993f842-42ce-439d-9ee5-d1fd869d2923",
   "metadata": {
    "execution": {
     "iopub.execute_input": "2023-02-25T11:41:19.004497Z",
     "iopub.status.busy": "2023-02-25T11:41:19.004236Z",
     "iopub.status.idle": "2023-02-25T11:41:20.299924Z",
     "shell.execute_reply": "2023-02-25T11:41:20.299162Z",
     "shell.execute_reply.started": "2023-02-25T11:41:19.004470Z"
    }
   },
   "outputs": [
    {
     "name": "stdout",
     "output_type": "stream",
     "text": [
      "update_col: func max applied, 525590 records less!\n",
      "update_col: 141944 cells written into new column\n"
     ]
    }
   ],
   "source": [
    "# wiktionary_lemma score ergänzen\n",
    "# Der score in translate_lex spiegelt die Länge des Wiktionary_Eintrags des Lexem wieder. Der längste wird zum Lemma draufaddiert.\n",
    "wiktionary_lemma['score']     = wiktionary_lemma.score.fillna(0) \n",
    "translate_lex['data_score']   = translate_lex.data_score.fillna(0) \n",
    "wiktionary_lemma = pak.update_col(wiktionary_lemma, translate_lex, on=['lemma_id'], col='data_score', col_rename='score_add', func='max')\n",
    "wiktionary_lemma['score_add'] = wiktionary_lemma.score_add.fillna(0) \n",
    "\n",
    "wiktionary_lemma['score']     = wiktionary_lemma.score  +  (wiktionary_lemma.score_add / 2.0)\n",
    "wiktionary_lemma = pak.drop_cols(wiktionary_lemma, 'score_add')"
   ]
  },
  {
   "cell_type": "code",
   "execution_count": 87,
   "id": "1d4a1831-65db-4931-9ac4-a97cf9a02c1d",
   "metadata": {
    "execution": {
     "iopub.execute_input": "2023-02-25T11:41:20.300904Z",
     "iopub.status.busy": "2023-02-25T11:41:20.300654Z",
     "iopub.status.idle": "2023-02-25T11:41:20.356204Z",
     "shell.execute_reply": "2023-02-25T11:41:20.355444Z",
     "shell.execute_reply.started": "2023-02-25T11:41:20.300882Z"
    }
   },
   "outputs": [],
   "source": [
    "#wiktionary_lemma"
   ]
  },
  {
   "cell_type": "code",
   "execution_count": 88,
   "id": "c1c4b9b6-0e1d-4bc0-bf50-38b4b355554e",
   "metadata": {
    "execution": {
     "iopub.execute_input": "2023-02-25T11:41:20.358905Z",
     "iopub.status.busy": "2023-02-25T11:41:20.357559Z",
     "iopub.status.idle": "2023-02-25T11:41:20.454586Z",
     "shell.execute_reply": "2023-02-25T11:41:20.453713Z",
     "shell.execute_reply.started": "2023-02-25T11:41:20.358840Z"
    }
   },
   "outputs": [
    {
     "name": "stdout",
     "output_type": "stream",
     "text": [
      "check_mask:  0 rows\n"
     ]
    }
   ],
   "source": [
    "# Dups?\n",
    "mask = wiktionary_lemma.duplicated(subset=['lemma_id'])\n",
    "check_mask(wiktionary_lemma,mask,0)"
   ]
  },
  {
   "cell_type": "code",
   "execution_count": 89,
   "id": "f089b99c",
   "metadata": {
    "execution": {
     "iopub.execute_input": "2023-02-25T11:41:20.456332Z",
     "iopub.status.busy": "2023-02-25T11:41:20.455733Z",
     "iopub.status.idle": "2023-02-25T11:41:20.641382Z",
     "shell.execute_reply": "2023-02-25T11:41:20.640741Z",
     "shell.execute_reply.started": "2023-02-25T11:41:20.456271Z"
    }
   },
   "outputs": [],
   "source": [
    "# nach Priorität sortieren (laut Steuertabellen)\n",
    "wiktionary_lemma['tag'] = tag_sortieren(wiktionary_lemma.tag)"
   ]
  },
  {
   "cell_type": "code",
   "execution_count": 90,
   "id": "93b2287b-dc5f-4272-94c2-9cb732727525",
   "metadata": {
    "execution": {
     "iopub.execute_input": "2023-02-25T11:41:20.642415Z",
     "iopub.status.busy": "2023-02-25T11:41:20.642192Z",
     "iopub.status.idle": "2023-02-25T11:41:24.607800Z",
     "shell.execute_reply": "2023-02-25T11:41:24.607085Z",
     "shell.execute_reply.started": "2023-02-25T11:41:20.642394Z"
    }
   },
   "outputs": [
    {
     "name": "stdout",
     "output_type": "stream",
     "text": [
      "check_mask:  303 rows\n",
      "check_mask:  0 rows\n"
     ]
    }
   ],
   "source": [
    "# Spalten wiederherstellen\n",
    "wiktionary_lemma = pflege_tag_felder(wiktionary_lemma, translate_tagZ)  # tagZ, tagZZ, tag_0, tag_1, tagZ_0, tagZ_1\n",
    "wiktionary_lemma = ergänze_felder(wiktionary_lemma)                     # lemma_lower, isupper, lemma_len\n",
    "\n",
    "# Fehler?\n",
    "mask = (wiktionary_lemma.tagZZ.str.len() > 1)\n",
    "check_mask(wiktionary_lemma,mask,0,10) # ein paar können wir tolerieren"
   ]
  },
  {
   "cell_type": "code",
   "execution_count": 91,
   "id": "a90aa52a-2732-4983-b65e-89c922a334d6",
   "metadata": {
    "execution": {
     "iopub.execute_input": "2023-02-25T11:41:24.608750Z",
     "iopub.status.busy": "2023-02-25T11:41:24.608538Z",
     "iopub.status.idle": "2023-02-25T11:41:24.828647Z",
     "shell.execute_reply": "2023-02-25T11:41:24.827855Z",
     "shell.execute_reply.started": "2023-02-25T11:41:24.608729Z"
    }
   },
   "outputs": [
    {
     "data": {
      "text/html": [
       "<div>\n",
       "<style scoped>\n",
       "    .dataframe tbody tr th:only-of-type {\n",
       "        vertical-align: middle;\n",
       "    }\n",
       "\n",
       "    .dataframe tbody tr th {\n",
       "        vertical-align: top;\n",
       "    }\n",
       "\n",
       "    .dataframe thead th {\n",
       "        text-align: right;\n",
       "    }\n",
       "</style>\n",
       "<table border=\"1\" class=\"dataframe\">\n",
       "  <thead>\n",
       "    <tr style=\"text-align: right;\">\n",
       "      <th></th>\n",
       "      <th>lemma_id</th>\n",
       "      <th>page_id</th>\n",
       "      <th>page_part</th>\n",
       "      <th>lemma</th>\n",
       "      <th>lemma_lower</th>\n",
       "      <th>isupper</th>\n",
       "      <th>lemma_len</th>\n",
       "      <th>tag</th>\n",
       "      <th>tag_0</th>\n",
       "      <th>tag_1</th>\n",
       "      <th>tagZ</th>\n",
       "      <th>tagZZ</th>\n",
       "      <th>member</th>\n",
       "      <th>data_id</th>\n",
       "      <th>score</th>\n",
       "    </tr>\n",
       "  </thead>\n",
       "  <tbody>\n",
       "    <tr>\n",
       "      <th>122752</th>\n",
       "      <td>calvinistisch</td>\n",
       "      <td>572869</td>\n",
       "      <td>0</td>\n",
       "      <td>calvinistisch</td>\n",
       "      <td>calvinistisch</td>\n",
       "      <td>False</td>\n",
       "      <td>1</td>\n",
       "      <td>ADJA</td>\n",
       "      <td>ADJA</td>\n",
       "      <td>vxjkmPSKuu</td>\n",
       "      <td>ADJ</td>\n",
       "      <td>A</td>\n",
       "      <td></td>\n",
       "      <td></td>\n",
       "      <td>44.999271</td>\n",
       "    </tr>\n",
       "  </tbody>\n",
       "</table>\n",
       "</div>"
      ],
      "text/plain": [
       "             lemma_id  page_id  page_part          lemma    lemma_lower  \\\n",
       "122752  calvinistisch   572869          0  calvinistisch  calvinistisch   \n",
       "\n",
       "        isupper  lemma_len   tag tag_0       tag_1 tagZ tagZZ member data_id  \\\n",
       "122752    False          1  ADJA  ADJA  vxjkmPSKuu  ADJ     A                  \n",
       "\n",
       "            score  \n",
       "122752  44.999271  "
      ]
     },
     "execution_count": 91,
     "metadata": {},
     "output_type": "execute_result"
    }
   ],
   "source": [
    "# suche_debug wiktionary_lemma\n",
    "search_str(wiktionary_lemma, suche_debug)"
   ]
  },
  {
   "cell_type": "markdown",
   "id": "7accec6d",
   "metadata": {},
   "source": [
    "## Abkürzungen ==========\n",
    "* abspalten\n",
    "* belöschen\n",
    "* korrigieren\n",
    "* variieren\n",
    "* pflegen"
   ]
  },
  {
   "cell_type": "code",
   "execution_count": 93,
   "id": "91241e63-a949-46ef-be7b-8808e024990f",
   "metadata": {
    "execution": {
     "iopub.execute_input": "2023-02-25T13:48:19.768670Z",
     "iopub.status.busy": "2023-02-25T13:48:19.768267Z",
     "iopub.status.idle": "2023-02-25T13:48:19.812512Z",
     "shell.execute_reply": "2023-02-25T13:48:19.811727Z",
     "shell.execute_reply.started": "2023-02-25T13:48:19.768635Z"
    }
   },
   "outputs": [],
   "source": [
    "geschütze_abkürzungen = ['H2O','DEU','deu','RAF','UNO','CDU','SPD','FDP',\n",
    "                         'SED','UTC','ORF','RKI',\n",
    "                         'Mo','Di','Mi','Do','Fr','Sa','So',  'MO','DI','MI','DO','FR','SA','SO',  'Mo.','Di.','Mi.','Do.','Fr.','Sa.','So.', 'NS','US','VR','IR','UV','9/11','OP','KI','AI','IT','IS',\n",
    "                         'Dax','FDJ','MDR','USB','2D','3D','OEM','VW',\n",
    "                         'u.','ca.','ev.','PKK','USK','dpi','SUV', 'Fa.','od.','u.','CO2','SO2','VR China','Meck-Pomm','Hbf',\n",
    "]"
   ]
  },
  {
   "cell_type": "code",
   "execution_count": 94,
   "id": "59c5d3b2-8c4b-4f37-902c-92cf6c086447",
   "metadata": {
    "execution": {
     "iopub.execute_input": "2023-02-25T13:48:19.818776Z",
     "iopub.status.busy": "2023-02-25T13:48:19.818293Z",
     "iopub.status.idle": "2023-02-25T13:48:19.865224Z",
     "shell.execute_reply": "2023-02-25T13:48:19.864450Z",
     "shell.execute_reply.started": "2023-02-25T13:48:19.818747Z"
    }
   },
   "outputs": [],
   "source": [
    "bsp_abkürzungen_kurz = ['altisländ.', 'EU','Krh', 'Krh.', 'Krhs', 'Krhs.', 'Krkhs', 'Krkhs.']\n",
    "bsp_abkürzungen_lang = ['altisländisch', 'Europäische Union','Krankenhaus']"
   ]
  },
  {
   "cell_type": "code",
   "execution_count": 95,
   "id": "c13e9e73-13da-4818-aee0-106791122b73",
   "metadata": {
    "execution": {
     "iopub.execute_input": "2023-02-25T13:48:19.869377Z",
     "iopub.status.busy": "2023-02-25T13:48:19.868902Z",
     "iopub.status.idle": "2023-02-25T13:48:20.072231Z",
     "shell.execute_reply": "2023-02-25T13:48:20.071490Z",
     "shell.execute_reply.started": "2023-02-25T13:48:19.869352Z"
    }
   },
   "outputs": [
    {
     "data": {
      "text/html": [
       "<div>\n",
       "<style scoped>\n",
       "    .dataframe tbody tr th:only-of-type {\n",
       "        vertical-align: middle;\n",
       "    }\n",
       "\n",
       "    .dataframe tbody tr th {\n",
       "        vertical-align: top;\n",
       "    }\n",
       "\n",
       "    .dataframe thead th {\n",
       "        text-align: right;\n",
       "    }\n",
       "</style>\n",
       "<table border=\"1\" class=\"dataframe\">\n",
       "  <thead>\n",
       "    <tr style=\"text-align: right;\">\n",
       "      <th></th>\n",
       "      <th>lemma_id</th>\n",
       "      <th>page_id</th>\n",
       "      <th>page_part</th>\n",
       "      <th>lemma</th>\n",
       "      <th>lemma_lower</th>\n",
       "      <th>isupper</th>\n",
       "      <th>lemma_len</th>\n",
       "      <th>tag</th>\n",
       "      <th>tag_0</th>\n",
       "      <th>tag_1</th>\n",
       "      <th>tagZ</th>\n",
       "      <th>tagZZ</th>\n",
       "      <th>member</th>\n",
       "      <th>data_id</th>\n",
       "      <th>score</th>\n",
       "    </tr>\n",
       "  </thead>\n",
       "  <tbody>\n",
       "    <tr>\n",
       "      <th>25535</th>\n",
       "      <td>EU</td>\n",
       "      <td>2594</td>\n",
       "      <td>0</td>\n",
       "      <td>EU</td>\n",
       "      <td>eu</td>\n",
       "      <td>True</td>\n",
       "      <td>1</td>\n",
       "      <td>NN</td>\n",
       "      <td>NN</td>\n",
       "      <td>rvszqXEgkg</td>\n",
       "      <td>NOM</td>\n",
       "      <td>N</td>\n",
       "      <td>Abkürzung noPl</td>\n",
       "      <td></td>\n",
       "      <td>95.445206</td>\n",
       "    </tr>\n",
       "    <tr>\n",
       "      <th>29756</th>\n",
       "      <td>Europäische_Union</td>\n",
       "      <td>12532</td>\n",
       "      <td>0</td>\n",
       "      <td>Europäische Union</td>\n",
       "      <td>europäische union</td>\n",
       "      <td>True</td>\n",
       "      <td>2</td>\n",
       "      <td>NE</td>\n",
       "      <td>NE</td>\n",
       "      <td>8lJ8G2jJkm</td>\n",
       "      <td>NAM</td>\n",
       "      <td>N</td>\n",
       "      <td>adjNN Wortverbindung adjNN</td>\n",
       "      <td></td>\n",
       "      <td>18.615679</td>\n",
       "    </tr>\n",
       "    <tr>\n",
       "      <th>55175</th>\n",
       "      <td>Krankenhaus</td>\n",
       "      <td>732</td>\n",
       "      <td>0</td>\n",
       "      <td>Krankenhaus</td>\n",
       "      <td>krankenhaus</td>\n",
       "      <td>True</td>\n",
       "      <td>1</td>\n",
       "      <td>NN</td>\n",
       "      <td>NN</td>\n",
       "      <td>ieOk6mCDNg</td>\n",
       "      <td>NOM</td>\n",
       "      <td>N</td>\n",
       "      <td></td>\n",
       "      <td></td>\n",
       "      <td>4093.747803</td>\n",
       "    </tr>\n",
       "    <tr>\n",
       "      <th>55532</th>\n",
       "      <td>Krh.</td>\n",
       "      <td>885631</td>\n",
       "      <td>0</td>\n",
       "      <td>Krh.</td>\n",
       "      <td>krh.</td>\n",
       "      <td>True</td>\n",
       "      <td>1</td>\n",
       "      <td>TODO</td>\n",
       "      <td>TODO</td>\n",
       "      <td>UN6AKQvjYA</td>\n",
       "      <td>X_todo</td>\n",
       "      <td>X</td>\n",
       "      <td>Abkürzung</td>\n",
       "      <td></td>\n",
       "      <td>4.753098</td>\n",
       "    </tr>\n",
       "    <tr>\n",
       "      <th>55533</th>\n",
       "      <td>Krhs.</td>\n",
       "      <td>885632</td>\n",
       "      <td>0</td>\n",
       "      <td>Krhs.</td>\n",
       "      <td>krhs.</td>\n",
       "      <td>True</td>\n",
       "      <td>1</td>\n",
       "      <td>TODO</td>\n",
       "      <td>TODO</td>\n",
       "      <td>MzaRIaBB1G</td>\n",
       "      <td>X_todo</td>\n",
       "      <td>X</td>\n",
       "      <td>Abkürzung</td>\n",
       "      <td></td>\n",
       "      <td>5.103037</td>\n",
       "    </tr>\n",
       "    <tr>\n",
       "      <th>55855</th>\n",
       "      <td>Krkhs.</td>\n",
       "      <td>885633</td>\n",
       "      <td>0</td>\n",
       "      <td>Krkhs.</td>\n",
       "      <td>krkhs.</td>\n",
       "      <td>True</td>\n",
       "      <td>1</td>\n",
       "      <td>TODO</td>\n",
       "      <td>TODO</td>\n",
       "      <td>dLOgFLtdWF</td>\n",
       "      <td>X_todo</td>\n",
       "      <td>X</td>\n",
       "      <td>Abkürzung</td>\n",
       "      <td></td>\n",
       "      <td>4.774970</td>\n",
       "    </tr>\n",
       "    <tr>\n",
       "      <th>114147</th>\n",
       "      <td>altisländ.</td>\n",
       "      <td>21498</td>\n",
       "      <td>0</td>\n",
       "      <td>altisländ.</td>\n",
       "      <td>altisländ.</td>\n",
       "      <td>False</td>\n",
       "      <td>1</td>\n",
       "      <td>TODO</td>\n",
       "      <td>TODO</td>\n",
       "      <td>XtfE3VzDG1</td>\n",
       "      <td>X_todo</td>\n",
       "      <td>X</td>\n",
       "      <td>Abkürzung</td>\n",
       "      <td></td>\n",
       "      <td>28.301094</td>\n",
       "    </tr>\n",
       "    <tr>\n",
       "      <th>114148</th>\n",
       "      <td>altisländisch</td>\n",
       "      <td>609806</td>\n",
       "      <td>0</td>\n",
       "      <td>altisländisch</td>\n",
       "      <td>altisländisch</td>\n",
       "      <td>False</td>\n",
       "      <td>1</td>\n",
       "      <td>ADJA</td>\n",
       "      <td>ADJA</td>\n",
       "      <td>Mei2C2z07Z</td>\n",
       "      <td>ADJ</td>\n",
       "      <td>A</td>\n",
       "      <td>noSteig</td>\n",
       "      <td></td>\n",
       "      <td>46.926975</td>\n",
       "    </tr>\n",
       "  </tbody>\n",
       "</table>\n",
       "</div>"
      ],
      "text/plain": [
       "                 lemma_id  page_id  page_part              lemma  \\\n",
       "25535                  EU     2594          0                 EU   \n",
       "29756   Europäische_Union    12532          0  Europäische Union   \n",
       "55175         Krankenhaus      732          0        Krankenhaus   \n",
       "55532                Krh.   885631          0               Krh.   \n",
       "55533               Krhs.   885632          0              Krhs.   \n",
       "55855              Krkhs.   885633          0             Krkhs.   \n",
       "114147         altisländ.    21498          0         altisländ.   \n",
       "114148      altisländisch   609806          0      altisländisch   \n",
       "\n",
       "              lemma_lower  isupper  lemma_len   tag tag_0       tag_1    tagZ  \\\n",
       "25535                  eu     True          1    NN    NN  rvszqXEgkg     NOM   \n",
       "29756   europäische union     True          2    NE    NE  8lJ8G2jJkm     NAM   \n",
       "55175         krankenhaus     True          1    NN    NN  ieOk6mCDNg     NOM   \n",
       "55532                krh.     True          1  TODO  TODO  UN6AKQvjYA  X_todo   \n",
       "55533               krhs.     True          1  TODO  TODO  MzaRIaBB1G  X_todo   \n",
       "55855              krkhs.     True          1  TODO  TODO  dLOgFLtdWF  X_todo   \n",
       "114147         altisländ.    False          1  TODO  TODO  XtfE3VzDG1  X_todo   \n",
       "114148      altisländisch    False          1  ADJA  ADJA  Mei2C2z07Z     ADJ   \n",
       "\n",
       "       tagZZ                      member data_id        score  \n",
       "25535      N              Abkürzung noPl            95.445206  \n",
       "29756      N  adjNN Wortverbindung adjNN            18.615679  \n",
       "55175      N                                      4093.747803  \n",
       "55532      X                   Abkürzung             4.753098  \n",
       "55533      X                   Abkürzung             5.103037  \n",
       "55855      X                   Abkürzung             4.774970  \n",
       "114147     X                   Abkürzung            28.301094  \n",
       "114148     A                     noSteig            46.926975  "
      ]
     },
     "execution_count": 95,
     "metadata": {},
     "output_type": "execute_result"
    }
   ],
   "source": [
    "# wiktionary_lemma kann sowohl die Langform als auch die Kurzform als eigenständiges lemma enthalten.\n",
    "# Eine Kurzform ist dabei mit member 'Abkürzung' gekennzeichnet.\n",
    "# TODO: Beide müssen nicht unbedingt den gleichen tag haben, siehe 'EU' vs. 'Europäische Union': NN / NE\n",
    "# TODO: Nicht jede Kurzform hat einen solchen Datensatz.\n",
    "\n",
    "search_str(wiktionary_lemma, bsp_abkürzungen_kurz + bsp_abkürzungen_lang)"
   ]
  },
  {
   "cell_type": "code",
   "execution_count": 96,
   "id": "0155798a-1270-4dc6-bc50-602e68602271",
   "metadata": {
    "execution": {
     "iopub.execute_input": "2023-02-25T13:48:20.077760Z",
     "iopub.status.busy": "2023-02-25T13:48:20.077371Z",
     "iopub.status.idle": "2023-02-25T13:48:20.958088Z",
     "shell.execute_reply": "2023-02-25T13:48:20.957429Z",
     "shell.execute_reply.started": "2023-02-25T13:48:20.077731Z"
    }
   },
   "outputs": [
    {
     "data": {
      "text/html": [
       "<div>\n",
       "<style scoped>\n",
       "    .dataframe tbody tr th:only-of-type {\n",
       "        vertical-align: middle;\n",
       "    }\n",
       "\n",
       "    .dataframe tbody tr th {\n",
       "        vertical-align: top;\n",
       "    }\n",
       "\n",
       "    .dataframe thead th {\n",
       "        text-align: right;\n",
       "    }\n",
       "</style>\n",
       "<table border=\"1\" class=\"dataframe\">\n",
       "  <thead>\n",
       "    <tr style=\"text-align: right;\">\n",
       "      <th></th>\n",
       "      <th>lemma_id</th>\n",
       "      <th>merkmal</th>\n",
       "      <th>data_id</th>\n",
       "      <th>data</th>\n",
       "      <th>data_tag</th>\n",
       "      <th>lemma_tag</th>\n",
       "      <th>num</th>\n",
       "      <th>meta</th>\n",
       "      <th>score</th>\n",
       "      <th>is_lex</th>\n",
       "    </tr>\n",
       "  </thead>\n",
       "  <tbody>\n",
       "    <tr>\n",
       "      <th>53844</th>\n",
       "      <td>EU</td>\n",
       "      <td>def</td>\n",
       "      <td>Europäische_Union</td>\n",
       "      <td>Europäische Union</td>\n",
       "      <td></td>\n",
       "      <td>NN</td>\n",
       "      <td>1</td>\n",
       "      <td></td>\n",
       "      <td>15.607533</td>\n",
       "      <td>False</td>\n",
       "    </tr>\n",
       "    <tr>\n",
       "      <th>197919</th>\n",
       "      <td>altisländ.</td>\n",
       "      <td>def</td>\n",
       "      <td>altisländisch</td>\n",
       "      <td>altisländisch</td>\n",
       "      <td></td>\n",
       "      <td>TODO</td>\n",
       "      <td>1</td>\n",
       "      <td></td>\n",
       "      <td>13.850547</td>\n",
       "      <td>False</td>\n",
       "    </tr>\n",
       "    <tr>\n",
       "      <th>1451747</th>\n",
       "      <td>Krh.</td>\n",
       "      <td>def</td>\n",
       "      <td>Krankenhaus</td>\n",
       "      <td>Krankenhaus</td>\n",
       "      <td></td>\n",
       "      <td>TODO</td>\n",
       "      <td>1</td>\n",
       "      <td></td>\n",
       "      <td>2.076549</td>\n",
       "      <td>False</td>\n",
       "    </tr>\n",
       "    <tr>\n",
       "      <th>1451748</th>\n",
       "      <td>Krhs.</td>\n",
       "      <td>def</td>\n",
       "      <td>Krankenhaus</td>\n",
       "      <td>Krankenhaus</td>\n",
       "      <td></td>\n",
       "      <td>TODO</td>\n",
       "      <td>1</td>\n",
       "      <td></td>\n",
       "      <td>2.251519</td>\n",
       "      <td>False</td>\n",
       "    </tr>\n",
       "    <tr>\n",
       "      <th>1451749</th>\n",
       "      <td>Krkhs.</td>\n",
       "      <td>def</td>\n",
       "      <td>Krankenhaus</td>\n",
       "      <td>Krankenhaus</td>\n",
       "      <td></td>\n",
       "      <td>TODO</td>\n",
       "      <td>1</td>\n",
       "      <td></td>\n",
       "      <td>2.087485</td>\n",
       "      <td>False</td>\n",
       "    </tr>\n",
       "  </tbody>\n",
       "</table>\n",
       "</div>"
      ],
      "text/plain": [
       "           lemma_id merkmal            data_id               data data_tag  \\\n",
       "53844            EU     def  Europäische_Union  Europäische Union            \n",
       "197919   altisländ.     def      altisländisch      altisländisch            \n",
       "1451747        Krh.     def        Krankenhaus        Krankenhaus            \n",
       "1451748       Krhs.     def        Krankenhaus        Krankenhaus            \n",
       "1451749      Krkhs.     def        Krankenhaus        Krankenhaus            \n",
       "\n",
       "        lemma_tag num meta      score  is_lex  \n",
       "53844          NN   1       15.607533   False  \n",
       "197919       TODO   1       13.850547   False  \n",
       "1451747      TODO   1        2.076549   False  \n",
       "1451748      TODO   1        2.251519   False  \n",
       "1451749      TODO   1        2.087485   False  "
      ]
     },
     "execution_count": 96,
     "metadata": {},
     "output_type": "execute_result"
    }
   ],
   "source": [
    "# wiktionary_merkmal enthält für Kurzformen ein Merkmal 'def', das die Langform nennt.\n",
    "\n",
    "mask1 = wiktionary_merkmal.lemma_id.isin(bsp_abkürzungen_kurz)\n",
    "mask2 = wiktionary_merkmal.merkmal == 'def'\n",
    "mask = mask1  &  mask2\n",
    "wiktionary_merkmal[mask]"
   ]
  },
  {
   "cell_type": "code",
   "execution_count": 97,
   "id": "3a476380-a7da-4d3c-b4db-7270f52479a8",
   "metadata": {
    "execution": {
     "iopub.execute_input": "2023-02-25T13:48:20.962201Z",
     "iopub.status.busy": "2023-02-25T13:48:20.961642Z",
     "iopub.status.idle": "2023-02-25T13:48:21.725536Z",
     "shell.execute_reply": "2023-02-25T13:48:21.722379Z",
     "shell.execute_reply.started": "2023-02-25T13:48:20.962173Z"
    }
   },
   "outputs": [
    {
     "data": {
      "text/html": [
       "<div>\n",
       "<style scoped>\n",
       "    .dataframe tbody tr th:only-of-type {\n",
       "        vertical-align: middle;\n",
       "    }\n",
       "\n",
       "    .dataframe tbody tr th {\n",
       "        vertical-align: top;\n",
       "    }\n",
       "\n",
       "    .dataframe thead th {\n",
       "        text-align: right;\n",
       "    }\n",
       "</style>\n",
       "<table border=\"1\" class=\"dataframe\">\n",
       "  <thead>\n",
       "    <tr style=\"text-align: right;\">\n",
       "      <th></th>\n",
       "      <th>lemma_id</th>\n",
       "      <th>merkmal</th>\n",
       "      <th>data_id</th>\n",
       "      <th>data</th>\n",
       "      <th>data_tag</th>\n",
       "      <th>lemma_tag</th>\n",
       "      <th>num</th>\n",
       "      <th>meta</th>\n",
       "      <th>score</th>\n",
       "      <th>is_lex</th>\n",
       "    </tr>\n",
       "  </thead>\n",
       "  <tbody>\n",
       "    <tr>\n",
       "      <th>19432</th>\n",
       "      <td>Krankenhaus</td>\n",
       "      <td>abk</td>\n",
       "      <td>Krankenhaus~Krh</td>\n",
       "      <td>Krh</td>\n",
       "      <td></td>\n",
       "      <td>NN</td>\n",
       "      <td>1</td>\n",
       "      <td></td>\n",
       "      <td>227.105713</td>\n",
       "      <td>True</td>\n",
       "    </tr>\n",
       "    <tr>\n",
       "      <th>19433</th>\n",
       "      <td>Krankenhaus</td>\n",
       "      <td>abk</td>\n",
       "      <td>Krankenhaus~Krhs</td>\n",
       "      <td>Krhs</td>\n",
       "      <td></td>\n",
       "      <td>NN</td>\n",
       "      <td>1</td>\n",
       "      <td></td>\n",
       "      <td>227.105713</td>\n",
       "      <td>True</td>\n",
       "    </tr>\n",
       "    <tr>\n",
       "      <th>19434</th>\n",
       "      <td>Krankenhaus</td>\n",
       "      <td>abk</td>\n",
       "      <td>Krankenhaus~Krkhs</td>\n",
       "      <td>Krkhs</td>\n",
       "      <td></td>\n",
       "      <td>NN</td>\n",
       "      <td>1</td>\n",
       "      <td></td>\n",
       "      <td>227.105713</td>\n",
       "      <td>True</td>\n",
       "    </tr>\n",
       "    <tr>\n",
       "      <th>1106271</th>\n",
       "      <td>altisländisch</td>\n",
       "      <td>abk</td>\n",
       "      <td>altisländisch~non</td>\n",
       "      <td>non</td>\n",
       "      <td></td>\n",
       "      <td>ADJA</td>\n",
       "      <td>1</td>\n",
       "      <td></td>\n",
       "      <td>7.340219</td>\n",
       "      <td>True</td>\n",
       "    </tr>\n",
       "    <tr>\n",
       "      <th>1106272</th>\n",
       "      <td>altisländisch</td>\n",
       "      <td>abk</td>\n",
       "      <td>altnordisch</td>\n",
       "      <td>altnordisch</td>\n",
       "      <td></td>\n",
       "      <td>ADJA</td>\n",
       "      <td>1</td>\n",
       "      <td></td>\n",
       "      <td>7.340219</td>\n",
       "      <td>True</td>\n",
       "    </tr>\n",
       "  </tbody>\n",
       "</table>\n",
       "</div>"
      ],
      "text/plain": [
       "              lemma_id merkmal            data_id         data data_tag  \\\n",
       "19432      Krankenhaus     abk    Krankenhaus~Krh          Krh            \n",
       "19433      Krankenhaus     abk   Krankenhaus~Krhs         Krhs            \n",
       "19434      Krankenhaus     abk  Krankenhaus~Krkhs        Krkhs            \n",
       "1106271  altisländisch     abk  altisländisch~non          non            \n",
       "1106272  altisländisch     abk        altnordisch  altnordisch            \n",
       "\n",
       "        lemma_tag num meta       score  is_lex  \n",
       "19432          NN   1       227.105713    True  \n",
       "19433          NN   1       227.105713    True  \n",
       "19434          NN   1       227.105713    True  \n",
       "1106271      ADJA   1         7.340219    True  \n",
       "1106272      ADJA   1         7.340219    True  "
      ]
     },
     "execution_count": 97,
     "metadata": {},
     "output_type": "execute_result"
    }
   ],
   "source": [
    "# wiktionary_merkmal enthält für Langformen Merkmale 'abk', das eine Kurzform nennt.\n",
    "\n",
    "mask1 = wiktionary_merkmal.lemma_id.isin(bsp_abkürzungen_lang)\n",
    "mask2 = wiktionary_merkmal.merkmal == 'abk'\n",
    "mask = mask1  &  mask2\n",
    "wiktionary_merkmal[mask]"
   ]
  },
  {
   "cell_type": "markdown",
   "id": "23ad78e2-9076-4e45-99f4-fa6904627fcf",
   "metadata": {},
   "source": [
    "### wiktionary_merkmal_abk abspalten"
   ]
  },
  {
   "cell_type": "code",
   "execution_count": 98,
   "id": "930a0802-77b1-4162-998c-33d61bd28f2e",
   "metadata": {
    "execution": {
     "iopub.execute_input": "2023-02-25T13:48:21.731050Z",
     "iopub.status.busy": "2023-02-25T13:48:21.728574Z",
     "iopub.status.idle": "2023-02-25T13:48:21.771429Z",
     "shell.execute_reply": "2023-02-25T13:48:21.770791Z",
     "shell.execute_reply.started": "2023-02-25T13:48:21.731012Z"
    }
   },
   "outputs": [],
   "source": [
    "#suche_debug = ['au','ei','hm','qm','ui','mg','km','cm','mm','dm','ft','nm','pt','m²','m³','kg','lb','db']"
   ]
  },
  {
   "cell_type": "code",
   "execution_count": 99,
   "id": "845194e7",
   "metadata": {
    "execution": {
     "iopub.execute_input": "2023-02-25T13:48:21.776301Z",
     "iopub.status.busy": "2023-02-25T13:48:21.775946Z",
     "iopub.status.idle": "2023-02-25T13:48:25.902683Z",
     "shell.execute_reply": "2023-02-25T13:48:25.902051Z",
     "shell.execute_reply.started": "2023-02-25T13:48:21.776277Z"
    }
   },
   "outputs": [
    {
     "name": "stdout",
     "output_type": "stream",
     "text": [
      "Move 5107 rows from 4855373\n"
     ]
    }
   ],
   "source": [
    "# abk-Merkmale abspalten\n",
    "mask = (wiktionary_merkmal.merkmal == 'abk')\n",
    "wiktionary_merkmal, wiktionary_merkmal_abk = pak.move_rows( wiktionary_merkmal, mask, msg=None )\n",
    "wiktionary_merkmal_abk = wiktionary_merkmal_abk.sort_values(['score','data'], ascending=[False,True])"
   ]
  },
  {
   "cell_type": "code",
   "execution_count": 100,
   "id": "0f3b766d-92e4-47a4-9ef2-03fe5073a156",
   "metadata": {
    "execution": {
     "iopub.execute_input": "2023-02-25T13:48:25.903673Z",
     "iopub.status.busy": "2023-02-25T13:48:25.903449Z",
     "iopub.status.idle": "2023-02-25T13:48:25.946085Z",
     "shell.execute_reply": "2023-02-25T13:48:25.944899Z",
     "shell.execute_reply.started": "2023-02-25T13:48:25.903652Z"
    }
   },
   "outputs": [],
   "source": [
    "#TODO: Direkt durch die Kurzformen in wiktionary_lemma ergänzen?"
   ]
  },
  {
   "cell_type": "code",
   "execution_count": 101,
   "id": "0d33dca0-7a8c-4531-9fe4-f4ef7f75347a",
   "metadata": {
    "execution": {
     "iopub.execute_input": "2023-02-25T13:48:25.947968Z",
     "iopub.status.busy": "2023-02-25T13:48:25.947641Z",
     "iopub.status.idle": "2023-02-25T13:48:26.047085Z",
     "shell.execute_reply": "2023-02-25T13:48:26.045257Z",
     "shell.execute_reply.started": "2023-02-25T13:48:25.947938Z"
    }
   },
   "outputs": [
    {
     "name": "stdout",
     "output_type": "stream",
     "text": [
      "['altisländisch', 'Europäische Union', 'Krankenhaus']\n"
     ]
    },
    {
     "data": {
      "text/html": [
       "<div>\n",
       "<style scoped>\n",
       "    .dataframe tbody tr th:only-of-type {\n",
       "        vertical-align: middle;\n",
       "    }\n",
       "\n",
       "    .dataframe tbody tr th {\n",
       "        vertical-align: top;\n",
       "    }\n",
       "\n",
       "    .dataframe thead th {\n",
       "        text-align: right;\n",
       "    }\n",
       "</style>\n",
       "<table border=\"1\" class=\"dataframe\">\n",
       "  <thead>\n",
       "    <tr style=\"text-align: right;\">\n",
       "      <th></th>\n",
       "      <th>lemma_id</th>\n",
       "      <th>merkmal</th>\n",
       "      <th>data_id</th>\n",
       "      <th>data</th>\n",
       "      <th>data_tag</th>\n",
       "      <th>lemma_tag</th>\n",
       "      <th>num</th>\n",
       "      <th>meta</th>\n",
       "      <th>score</th>\n",
       "      <th>is_lex</th>\n",
       "    </tr>\n",
       "  </thead>\n",
       "  <tbody>\n",
       "    <tr>\n",
       "      <th>19432</th>\n",
       "      <td>Krankenhaus</td>\n",
       "      <td>abk</td>\n",
       "      <td>Krankenhaus~Krh</td>\n",
       "      <td>Krh</td>\n",
       "      <td></td>\n",
       "      <td>NN</td>\n",
       "      <td>1</td>\n",
       "      <td></td>\n",
       "      <td>227.105713</td>\n",
       "      <td>True</td>\n",
       "    </tr>\n",
       "    <tr>\n",
       "      <th>19433</th>\n",
       "      <td>Krankenhaus</td>\n",
       "      <td>abk</td>\n",
       "      <td>Krankenhaus~Krhs</td>\n",
       "      <td>Krhs</td>\n",
       "      <td></td>\n",
       "      <td>NN</td>\n",
       "      <td>1</td>\n",
       "      <td></td>\n",
       "      <td>227.105713</td>\n",
       "      <td>True</td>\n",
       "    </tr>\n",
       "    <tr>\n",
       "      <th>19434</th>\n",
       "      <td>Krankenhaus</td>\n",
       "      <td>abk</td>\n",
       "      <td>Krankenhaus~Krkhs</td>\n",
       "      <td>Krkhs</td>\n",
       "      <td></td>\n",
       "      <td>NN</td>\n",
       "      <td>1</td>\n",
       "      <td></td>\n",
       "      <td>227.105713</td>\n",
       "      <td>True</td>\n",
       "    </tr>\n",
       "    <tr>\n",
       "      <th>1106272</th>\n",
       "      <td>altisländisch</td>\n",
       "      <td>abk</td>\n",
       "      <td>altnordisch</td>\n",
       "      <td>altnordisch</td>\n",
       "      <td></td>\n",
       "      <td>ADJA</td>\n",
       "      <td>1</td>\n",
       "      <td></td>\n",
       "      <td>7.340219</td>\n",
       "      <td>True</td>\n",
       "    </tr>\n",
       "    <tr>\n",
       "      <th>1106271</th>\n",
       "      <td>altisländisch</td>\n",
       "      <td>abk</td>\n",
       "      <td>altisländisch~non</td>\n",
       "      <td>non</td>\n",
       "      <td></td>\n",
       "      <td>ADJA</td>\n",
       "      <td>1</td>\n",
       "      <td></td>\n",
       "      <td>7.340219</td>\n",
       "      <td>True</td>\n",
       "    </tr>\n",
       "  </tbody>\n",
       "</table>\n",
       "</div>"
      ],
      "text/plain": [
       "              lemma_id merkmal            data_id         data data_tag  \\\n",
       "19432      Krankenhaus     abk    Krankenhaus~Krh          Krh            \n",
       "19433      Krankenhaus     abk   Krankenhaus~Krhs         Krhs            \n",
       "19434      Krankenhaus     abk  Krankenhaus~Krkhs        Krkhs            \n",
       "1106272  altisländisch     abk        altnordisch  altnordisch            \n",
       "1106271  altisländisch     abk  altisländisch~non          non            \n",
       "\n",
       "        lemma_tag num meta       score  is_lex  \n",
       "19432          NN   1       227.105713    True  \n",
       "19433          NN   1       227.105713    True  \n",
       "19434          NN   1       227.105713    True  \n",
       "1106272      ADJA   1         7.340219    True  \n",
       "1106271      ADJA   1         7.340219    True  "
      ]
     },
     "execution_count": 101,
     "metadata": {},
     "output_type": "execute_result"
    }
   ],
   "source": [
    "# suche_debug wiktionary_merkmal_abk\n",
    "print(bsp_abkürzungen_lang)\n",
    "search_str(wiktionary_merkmal_abk, bsp_abkürzungen_lang)"
   ]
  },
  {
   "cell_type": "code",
   "execution_count": 102,
   "id": "10009e9c-5999-49b6-b278-f3706a848109",
   "metadata": {
    "execution": {
     "iopub.execute_input": "2023-02-25T13:48:26.055095Z",
     "iopub.status.busy": "2023-02-25T13:48:26.052978Z",
     "iopub.status.idle": "2023-02-25T13:48:26.149609Z",
     "shell.execute_reply": "2023-02-25T13:48:26.148157Z",
     "shell.execute_reply.started": "2023-02-25T13:48:26.055054Z"
    }
   },
   "outputs": [
    {
     "data": {
      "text/html": [
       "<div>\n",
       "<style scoped>\n",
       "    .dataframe tbody tr th:only-of-type {\n",
       "        vertical-align: middle;\n",
       "    }\n",
       "\n",
       "    .dataframe tbody tr th {\n",
       "        vertical-align: top;\n",
       "    }\n",
       "\n",
       "    .dataframe thead th {\n",
       "        text-align: right;\n",
       "    }\n",
       "</style>\n",
       "<table border=\"1\" class=\"dataframe\">\n",
       "  <thead>\n",
       "    <tr style=\"text-align: right;\">\n",
       "      <th></th>\n",
       "      <th>lemma_id</th>\n",
       "      <th>merkmal</th>\n",
       "      <th>data_id</th>\n",
       "      <th>data</th>\n",
       "      <th>data_tag</th>\n",
       "      <th>lemma_tag</th>\n",
       "      <th>num</th>\n",
       "      <th>meta</th>\n",
       "      <th>score</th>\n",
       "      <th>is_lex</th>\n",
       "    </tr>\n",
       "  </thead>\n",
       "  <tbody>\n",
       "  </tbody>\n",
       "</table>\n",
       "</div>"
      ],
      "text/plain": [
       "Empty DataFrame\n",
       "Columns: [lemma_id, merkmal, data_id, data, data_tag, lemma_tag, num, meta, score, is_lex]\n",
       "Index: []"
      ]
     },
     "execution_count": 102,
     "metadata": {},
     "output_type": "execute_result"
    }
   ],
   "source": [
    "# suche_debug wiktionary_merkmal_abk\n",
    "search_str(wiktionary_merkmal_abk, suche_debug)"
   ]
  },
  {
   "cell_type": "markdown",
   "id": "7f436c82-5ccf-4907-bb0d-59f6eabebcce",
   "metadata": {},
   "source": [
    "### wiktionary_merkmal_abk belöschen"
   ]
  },
  {
   "cell_type": "code",
   "execution_count": 103,
   "id": "b3e6e956-ddfb-44cc-b64c-f9fa7f68e327",
   "metadata": {
    "execution": {
     "iopub.execute_input": "2023-02-25T13:48:26.161083Z",
     "iopub.status.busy": "2023-02-25T13:48:26.158064Z",
     "iopub.status.idle": "2023-02-25T13:48:26.338675Z",
     "shell.execute_reply": "2023-02-25T13:48:26.337866Z",
     "shell.execute_reply.started": "2023-02-25T13:48:26.161044Z"
    }
   },
   "outputs": [
    {
     "name": "stdout",
     "output_type": "stream",
     "text": [
      "check_mask:  48 rows\n",
      "Move 48 rows from 5107\n",
      "check_mask:  65 rows\n",
      "Move 65 rows from 5059\n",
      "113 rows out of 125\n"
     ]
    },
    {
     "data": {
      "text/html": [
       "<div>\n",
       "<style scoped>\n",
       "    .dataframe tbody tr th:only-of-type {\n",
       "        vertical-align: middle;\n",
       "    }\n",
       "\n",
       "    .dataframe tbody tr th {\n",
       "        vertical-align: top;\n",
       "    }\n",
       "\n",
       "    .dataframe thead th {\n",
       "        text-align: right;\n",
       "    }\n",
       "</style>\n",
       "<table border=\"1\" class=\"dataframe\">\n",
       "  <thead>\n",
       "    <tr style=\"text-align: right;\">\n",
       "      <th></th>\n",
       "      <th>data</th>\n",
       "      <th>meta</th>\n",
       "      <th>lemma_id</th>\n",
       "      <th>lemma_tag</th>\n",
       "      <th>merkmal</th>\n",
       "      <th>msg</th>\n",
       "    </tr>\n",
       "  </thead>\n",
       "  <tbody>\n",
       "    <tr>\n",
       "      <th>95044</th>\n",
       "      <td>Bibo</td>\n",
       "      <td>umgangssprachliche</td>\n",
       "      <td>Bibliothek</td>\n",
       "      <td>NN</td>\n",
       "      <td>abk</td>\n",
       "      <td>löschmich_data</td>\n",
       "    </tr>\n",
       "    <tr>\n",
       "      <th>32407</th>\n",
       "      <td>Kilom</td>\n",
       "      <td></td>\n",
       "      <td>Kilometer</td>\n",
       "      <td>NN</td>\n",
       "      <td>abk</td>\n",
       "      <td>löschmich_data</td>\n",
       "    </tr>\n",
       "    <tr>\n",
       "      <th>116869</th>\n",
       "      <td>Reg</td>\n",
       "      <td></td>\n",
       "      <td>Regierung</td>\n",
       "      <td>NN</td>\n",
       "      <td>abk</td>\n",
       "      <td>löschmich_data</td>\n",
       "    </tr>\n",
       "    <tr>\n",
       "      <th>434639</th>\n",
       "      <td>Reg</td>\n",
       "      <td></td>\n",
       "      <td>Register</td>\n",
       "      <td>NN</td>\n",
       "      <td>abk</td>\n",
       "      <td>löschmich_data</td>\n",
       "    </tr>\n",
       "    <tr>\n",
       "      <th>102414</th>\n",
       "      <td>Reg</td>\n",
       "      <td></td>\n",
       "      <td>Region</td>\n",
       "      <td>NN</td>\n",
       "      <td>abk</td>\n",
       "      <td>löschmich_data</td>\n",
       "    </tr>\n",
       "    <tr>\n",
       "      <th>...</th>\n",
       "      <td>...</td>\n",
       "      <td>...</td>\n",
       "      <td>...</td>\n",
       "      <td>...</td>\n",
       "      <td>...</td>\n",
       "      <td>...</td>\n",
       "    </tr>\n",
       "    <tr>\n",
       "      <th>206228</th>\n",
       "      <td>Heyns</td>\n",
       "      <td></td>\n",
       "      <td>Heinrich_1</td>\n",
       "      <td>NE</td>\n",
       "      <td>abk</td>\n",
       "      <td>löschmich_id</td>\n",
       "    </tr>\n",
       "    <tr>\n",
       "      <th>206229</th>\n",
       "      <td>Heynsen</td>\n",
       "      <td></td>\n",
       "      <td>Heinrich_1</td>\n",
       "      <td>NE</td>\n",
       "      <td>abk</td>\n",
       "      <td>löschmich_id</td>\n",
       "    </tr>\n",
       "    <tr>\n",
       "      <th>206230</th>\n",
       "      <td>Hinner</td>\n",
       "      <td></td>\n",
       "      <td>Heinrich_1</td>\n",
       "      <td>NE</td>\n",
       "      <td>abk</td>\n",
       "      <td>löschmich_id</td>\n",
       "    </tr>\n",
       "    <tr>\n",
       "      <th>350072</th>\n",
       "      <td>ANG</td>\n",
       "      <td></td>\n",
       "      <td>Antillen-Gulden</td>\n",
       "      <td>NN</td>\n",
       "      <td>abk</td>\n",
       "      <td>löschmich_id</td>\n",
       "    </tr>\n",
       "    <tr>\n",
       "      <th>350073</th>\n",
       "      <td>NAƒ</td>\n",
       "      <td></td>\n",
       "      <td>Antillen-Gulden</td>\n",
       "      <td>NN</td>\n",
       "      <td>abk</td>\n",
       "      <td>löschmich_id</td>\n",
       "    </tr>\n",
       "  </tbody>\n",
       "</table>\n",
       "<p>113 rows × 6 columns</p>\n",
       "</div>"
      ],
      "text/plain": [
       "           data                meta         lemma_id lemma_tag merkmal  \\\n",
       "95044      Bibo  umgangssprachliche       Bibliothek        NN     abk   \n",
       "32407     Kilom                            Kilometer        NN     abk   \n",
       "116869      Reg                            Regierung        NN     abk   \n",
       "434639      Reg                             Register        NN     abk   \n",
       "102414      Reg                               Region        NN     abk   \n",
       "...         ...                 ...              ...       ...     ...   \n",
       "206228    Heyns                           Heinrich_1        NE     abk   \n",
       "206229  Heynsen                           Heinrich_1        NE     abk   \n",
       "206230   Hinner                           Heinrich_1        NE     abk   \n",
       "350072      ANG                      Antillen-Gulden        NN     abk   \n",
       "350073      NAƒ                      Antillen-Gulden        NN     abk   \n",
       "\n",
       "                   msg  \n",
       "95044   löschmich_data  \n",
       "32407   löschmich_data  \n",
       "116869  löschmich_data  \n",
       "434639  löschmich_data  \n",
       "102414  löschmich_data  \n",
       "...                ...  \n",
       "206228    löschmich_id  \n",
       "206229    löschmich_id  \n",
       "206230    löschmich_id  \n",
       "350072    löschmich_id  \n",
       "350073    löschmich_id  \n",
       "\n",
       "[113 rows x 6 columns]"
      ]
     },
     "execution_count": 103,
     "metadata": {},
     "output_type": "execute_result"
    }
   ],
   "source": [
    "# belöschen: Manuelle Löschungen aus data oder lemma_id\n",
    "löschmich =  ['Objekt','ECO-Codes','Bibo','Kilom','Land','Basche','DV-Vertrag','Igel','Dolle','Ampere','Baum',\n",
    "              'Rat','Reibe','Heinrich_1','Diastema mediale','Divisionär','Soda-Zitron','Antillen-Gulden',\n",
    "              \"'H'B\",\"'H'GW\",\"'H'H\",\"'H'L\",\"'H'ST\",\"'H'RO\",\"'H'WI\",'gel','gel.','Reg.','Imp.','Reg','Imp','AUR',\n",
    "             ]\n",
    "\n",
    "mask = wiktionary_merkmal_abk.data.isin(löschmich)\n",
    "check_mask(wiktionary_merkmal_abk,mask, 48)\n",
    "\n",
    "msg1 = 'löschmich_data'\n",
    "wiktionary_merkmal_abk, wiktionary_merkmal_trash = pak.move_rows(wiktionary_merkmal_abk, wiktionary_merkmal_trash, mask, msg1)\n",
    "\n",
    "mask = wiktionary_merkmal_abk.lemma_id.isin(löschmich)\n",
    "check_mask(wiktionary_merkmal_abk,mask, 65)\n",
    "\n",
    "msg2 = 'löschmich_id'\n",
    "wiktionary_merkmal_abk, wiktionary_merkmal_trash = pak.move_rows(wiktionary_merkmal_abk, wiktionary_merkmal_trash, mask, msg2)\n",
    "\n",
    "# anschauen\n",
    "spalten = ['data', 'meta', 'lemma_id',  'lemma_tag',   'merkmal', 'msg']\n",
    "mask = wiktionary_merkmal_trash.msg.isin([msg1, msg2])\n",
    "grid( wiktionary_merkmal_trash[spalten], mask )"
   ]
  },
  {
   "cell_type": "code",
   "execution_count": 104,
   "id": "1d867323",
   "metadata": {
    "execution": {
     "iopub.execute_input": "2023-02-25T13:48:26.344155Z",
     "iopub.status.busy": "2023-02-25T13:48:26.343742Z",
     "iopub.status.idle": "2023-02-25T13:48:26.503999Z",
     "shell.execute_reply": "2023-02-25T13:48:26.503342Z",
     "shell.execute_reply.started": "2023-02-25T13:48:26.344123Z"
    }
   },
   "outputs": [
    {
     "name": "stdout",
     "output_type": "stream",
     "text": [
      "check_mask:  338 rows\n",
      "Move 338 rows from 4994\n",
      "338 rows out of 463\n"
     ]
    },
    {
     "data": {
      "text/html": [
       "<div>\n",
       "<style scoped>\n",
       "    .dataframe tbody tr th:only-of-type {\n",
       "        vertical-align: middle;\n",
       "    }\n",
       "\n",
       "    .dataframe tbody tr th {\n",
       "        vertical-align: top;\n",
       "    }\n",
       "\n",
       "    .dataframe thead th {\n",
       "        text-align: right;\n",
       "    }\n",
       "</style>\n",
       "<table border=\"1\" class=\"dataframe\">\n",
       "  <thead>\n",
       "    <tr style=\"text-align: right;\">\n",
       "      <th></th>\n",
       "      <th>data</th>\n",
       "      <th>meta</th>\n",
       "      <th>lemma_id</th>\n",
       "      <th>lemma_tag</th>\n",
       "      <th>merkmal</th>\n",
       "      <th>msg</th>\n",
       "    </tr>\n",
       "  </thead>\n",
       "  <tbody>\n",
       "    <tr>\n",
       "      <th>46514</th>\n",
       "      <td>Energie</td>\n",
       "      <td></td>\n",
       "      <td>Arbeit</td>\n",
       "      <td>NN</td>\n",
       "      <td>abk</td>\n",
       "      <td>zulang_single</td>\n",
       "    </tr>\n",
       "    <tr>\n",
       "      <th>46513</th>\n",
       "      <td>englisch</td>\n",
       "      <td></td>\n",
       "      <td>Arbeit</td>\n",
       "      <td>NN</td>\n",
       "      <td>abk</td>\n",
       "      <td>zulang_single</td>\n",
       "    </tr>\n",
       "    <tr>\n",
       "      <th>103011</th>\n",
       "      <td>Rechenzeichen</td>\n",
       "      <td></td>\n",
       "      <td>positiv</td>\n",
       "      <td>ADJA</td>\n",
       "      <td>abk</td>\n",
       "      <td>zulang_single</td>\n",
       "    </tr>\n",
       "    <tr>\n",
       "      <th>103010</th>\n",
       "      <td>Vorzeichen</td>\n",
       "      <td></td>\n",
       "      <td>positiv</td>\n",
       "      <td>ADJA</td>\n",
       "      <td>abk</td>\n",
       "      <td>zulang_single</td>\n",
       "    </tr>\n",
       "    <tr>\n",
       "      <th>76349</th>\n",
       "      <td>Flächeneinheit</td>\n",
       "      <td></td>\n",
       "      <td>Morgen</td>\n",
       "      <td>NN</td>\n",
       "      <td>abk</td>\n",
       "      <td>zulang_single</td>\n",
       "    </tr>\n",
       "    <tr>\n",
       "      <th>...</th>\n",
       "      <td>...</td>\n",
       "      <td>...</td>\n",
       "      <td>...</td>\n",
       "      <td>...</td>\n",
       "      <td>...</td>\n",
       "      <td>...</td>\n",
       "    </tr>\n",
       "    <tr>\n",
       "      <th>162351</th>\n",
       "      <td>Kraftfahrzeugkennzeichen</td>\n",
       "      <td></td>\n",
       "      <td>Halle_1</td>\n",
       "      <td>NE</td>\n",
       "      <td>abk</td>\n",
       "      <td>zulang_single</td>\n",
       "    </tr>\n",
       "    <tr>\n",
       "      <th>768078</th>\n",
       "      <td>Macchiato</td>\n",
       "      <td></td>\n",
       "      <td>Latte_macchiato</td>\n",
       "      <td>NN</td>\n",
       "      <td>abk</td>\n",
       "      <td>zulang_single</td>\n",
       "    </tr>\n",
       "    <tr>\n",
       "      <th>295492</th>\n",
       "      <td>Aquilin</td>\n",
       "      <td></td>\n",
       "      <td>Aquilinus</td>\n",
       "      <td>NE</td>\n",
       "      <td>abk</td>\n",
       "      <td>zulang_single</td>\n",
       "    </tr>\n",
       "    <tr>\n",
       "      <th>281326</th>\n",
       "      <td>NatGerm</td>\n",
       "      <td></td>\n",
       "      <td>Nataler_Deutsch</td>\n",
       "      <td>NN</td>\n",
       "      <td>abk</td>\n",
       "      <td>zulang_single</td>\n",
       "    </tr>\n",
       "    <tr>\n",
       "      <th>272235</th>\n",
       "      <td>Landkreis</td>\n",
       "      <td></td>\n",
       "      <td>Hann._Münden</td>\n",
       "      <td>NE</td>\n",
       "      <td>abk</td>\n",
       "      <td>zulang_single</td>\n",
       "    </tr>\n",
       "  </tbody>\n",
       "</table>\n",
       "<p>338 rows × 6 columns</p>\n",
       "</div>"
      ],
      "text/plain": [
       "                            data meta         lemma_id lemma_tag merkmal  \\\n",
       "46514                    Energie                Arbeit        NN     abk   \n",
       "46513                   englisch                Arbeit        NN     abk   \n",
       "103011             Rechenzeichen               positiv      ADJA     abk   \n",
       "103010                Vorzeichen               positiv      ADJA     abk   \n",
       "76349             Flächeneinheit                Morgen        NN     abk   \n",
       "...                          ...  ...              ...       ...     ...   \n",
       "162351  Kraftfahrzeugkennzeichen               Halle_1        NE     abk   \n",
       "768078                 Macchiato       Latte_macchiato        NN     abk   \n",
       "295492                   Aquilin             Aquilinus        NE     abk   \n",
       "281326                   NatGerm       Nataler_Deutsch        NN     abk   \n",
       "272235                 Landkreis          Hann._Münden        NE     abk   \n",
       "\n",
       "                  msg  \n",
       "46514   zulang_single  \n",
       "46513   zulang_single  \n",
       "103011  zulang_single  \n",
       "103010  zulang_single  \n",
       "76349   zulang_single  \n",
       "...               ...  \n",
       "162351  zulang_single  \n",
       "768078  zulang_single  \n",
       "295492  zulang_single  \n",
       "281326  zulang_single  \n",
       "272235  zulang_single  \n",
       "\n",
       "[338 rows x 6 columns]"
      ]
     },
     "execution_count": 104,
     "metadata": {},
     "output_type": "execute_result"
    }
   ],
   "source": [
    "# belöschen: zu lang\n",
    "mask1 =  wiktionary_merkmal_abk.data.str.len() > 6                    # zu lang\n",
    "mask2 = ~wiktionary_merkmal_abk.data.str.contains('-')\n",
    "mask3 = ~wiktionary_merkmal_abk.data.str.contains(' ')\n",
    "mask4 = ~wiktionary_merkmal_abk.data.str.contains('.', regex=False)\n",
    "mask5 = ~wiktionary_merkmal_abk.lemma_id.str.endswith('_M')        # nicht aus lexeme_manuell\n",
    "mask6 = ~wiktionary_merkmal_abk.data.isin(geschütze_abkürzungen)\n",
    "mask7 =  wiktionary_merkmal_abk.meta != 'manuell'\n",
    "mask = mask1  &  mask2  &  mask3  &  mask4  &  mask5  &  mask6  &  mask7\n",
    "check_mask(wiktionary_merkmal_abk,mask, 338)\n",
    "\n",
    "msg = 'zulang_single'\n",
    "wiktionary_merkmal_abk, wiktionary_merkmal_trash = pak.move_rows(wiktionary_merkmal_abk, wiktionary_merkmal_trash, mask, msg)\n",
    "\n",
    "# anschauen\n",
    "mask = wiktionary_merkmal_trash.msg == msg\n",
    "grid( wiktionary_merkmal_trash[spalten], mask )"
   ]
  },
  {
   "cell_type": "code",
   "execution_count": 105,
   "id": "21913b1e",
   "metadata": {
    "execution": {
     "iopub.execute_input": "2023-02-25T13:48:26.513746Z",
     "iopub.status.busy": "2023-02-25T13:48:26.508804Z",
     "iopub.status.idle": "2023-02-25T13:48:26.674708Z",
     "shell.execute_reply": "2023-02-25T13:48:26.669079Z",
     "shell.execute_reply.started": "2023-02-25T13:48:26.513679Z"
    }
   },
   "outputs": [
    {
     "name": "stdout",
     "output_type": "stream",
     "text": [
      "check_mask:  10 rows\n",
      "Move 10 rows from 4656\n",
      "10 rows out of 473\n"
     ]
    },
    {
     "data": {
      "text/html": [
       "<div>\n",
       "<style scoped>\n",
       "    .dataframe tbody tr th:only-of-type {\n",
       "        vertical-align: middle;\n",
       "    }\n",
       "\n",
       "    .dataframe tbody tr th {\n",
       "        vertical-align: top;\n",
       "    }\n",
       "\n",
       "    .dataframe thead th {\n",
       "        text-align: right;\n",
       "    }\n",
       "</style>\n",
       "<table border=\"1\" class=\"dataframe\">\n",
       "  <thead>\n",
       "    <tr style=\"text-align: right;\">\n",
       "      <th></th>\n",
       "      <th>data</th>\n",
       "      <th>meta</th>\n",
       "      <th>lemma_id</th>\n",
       "      <th>lemma_tag</th>\n",
       "      <th>merkmal</th>\n",
       "      <th>msg</th>\n",
       "    </tr>\n",
       "  </thead>\n",
       "  <tbody>\n",
       "    <tr>\n",
       "      <th>97032</th>\n",
       "      <td>Ohmscher Widerstand</td>\n",
       "      <td>Größenzeichen</td>\n",
       "      <td>Widerstand</td>\n",
       "      <td>NN</td>\n",
       "      <td>abk</td>\n",
       "      <td>zulang</td>\n",
       "    </tr>\n",
       "    <tr>\n",
       "      <th>67844</th>\n",
       "      <td>Doctor theologiae</td>\n",
       "      <td></td>\n",
       "      <td>Doktor</td>\n",
       "      <td>NN</td>\n",
       "      <td>abk</td>\n",
       "      <td>zulang</td>\n",
       "    </tr>\n",
       "    <tr>\n",
       "      <th>1100563</th>\n",
       "      <td>Muster-ADV-Vertrag</td>\n",
       "      <td></td>\n",
       "      <td>Muster-Auftragsdatenverarbeitungsvertrag</td>\n",
       "      <td>NN</td>\n",
       "      <td>abk</td>\n",
       "      <td>zulang</td>\n",
       "    </tr>\n",
       "    <tr>\n",
       "      <th>161836</th>\n",
       "      <td>Residual Current Device</td>\n",
       "      <td>englisch</td>\n",
       "      <td>Fehlerstromschutzschalter</td>\n",
       "      <td>NN</td>\n",
       "      <td>abk</td>\n",
       "      <td>zulang</td>\n",
       "    </tr>\n",
       "    <tr>\n",
       "      <th>201556</th>\n",
       "      <td>Sacer Ordo Cisterciensis</td>\n",
       "      <td></td>\n",
       "      <td>Zisterzienser</td>\n",
       "      <td>NN</td>\n",
       "      <td>abk</td>\n",
       "      <td>zulang</td>\n",
       "    </tr>\n",
       "    <tr>\n",
       "      <th>199212</th>\n",
       "      <td>Ordo Cartusiensis</td>\n",
       "      <td></td>\n",
       "      <td>Kartäuser</td>\n",
       "      <td>NN</td>\n",
       "      <td>abk</td>\n",
       "      <td>zulang</td>\n",
       "    </tr>\n",
       "    <tr>\n",
       "      <th>1152351</th>\n",
       "      <td>Kfz-Haftpflichtversicherung</td>\n",
       "      <td></td>\n",
       "      <td>Kraftfahrzeug-Haftpflichtversicherung</td>\n",
       "      <td>NN</td>\n",
       "      <td>abk</td>\n",
       "      <td>zulang</td>\n",
       "    </tr>\n",
       "    <tr>\n",
       "      <th>245749</th>\n",
       "      <td>Niederländischen Antillen</td>\n",
       "      <td>Internet</td>\n",
       "      <td>Aruba</td>\n",
       "      <td>NE</td>\n",
       "      <td>abk</td>\n",
       "      <td>zulang</td>\n",
       "    </tr>\n",
       "    <tr>\n",
       "      <th>331594</th>\n",
       "      <td>chemische Formel</td>\n",
       "      <td></td>\n",
       "      <td>Natriumsulfat</td>\n",
       "      <td>NN</td>\n",
       "      <td>abk</td>\n",
       "      <td>zulang</td>\n",
       "    </tr>\n",
       "    <tr>\n",
       "      <th>903360</th>\n",
       "      <td>chemische Formel</td>\n",
       "      <td></td>\n",
       "      <td>Natriumnitrit</td>\n",
       "      <td>NN</td>\n",
       "      <td>abk</td>\n",
       "      <td>zulang</td>\n",
       "    </tr>\n",
       "  </tbody>\n",
       "</table>\n",
       "</div>"
      ],
      "text/plain": [
       "                                data           meta  \\\n",
       "97032            Ohmscher Widerstand  Größenzeichen   \n",
       "67844              Doctor theologiae                  \n",
       "1100563           Muster-ADV-Vertrag                  \n",
       "161836       Residual Current Device       englisch   \n",
       "201556      Sacer Ordo Cisterciensis                  \n",
       "199212             Ordo Cartusiensis                  \n",
       "1152351  Kfz-Haftpflichtversicherung                  \n",
       "245749     Niederländischen Antillen       Internet   \n",
       "331594              chemische Formel                  \n",
       "903360              chemische Formel                  \n",
       "\n",
       "                                         lemma_id lemma_tag merkmal     msg  \n",
       "97032                                  Widerstand        NN     abk  zulang  \n",
       "67844                                      Doktor        NN     abk  zulang  \n",
       "1100563  Muster-Auftragsdatenverarbeitungsvertrag        NN     abk  zulang  \n",
       "161836                  Fehlerstromschutzschalter        NN     abk  zulang  \n",
       "201556                              Zisterzienser        NN     abk  zulang  \n",
       "199212                                  Kartäuser        NN     abk  zulang  \n",
       "1152351     Kraftfahrzeug-Haftpflichtversicherung        NN     abk  zulang  \n",
       "245749                                      Aruba        NE     abk  zulang  \n",
       "331594                              Natriumsulfat        NN     abk  zulang  \n",
       "903360                              Natriumnitrit        NN     abk  zulang  "
      ]
     },
     "execution_count": 105,
     "metadata": {},
     "output_type": "execute_result"
    }
   ],
   "source": [
    "# belöschen: zu lang\n",
    "mask1 =  wiktionary_merkmal_abk.data.str.len() > 15                   # zu lang\n",
    "mask2 = ~wiktionary_merkmal_abk.lemma_id.str.endswith('_M')        # nicht aus lexeme_manuell\n",
    "mask3 = ~wiktionary_merkmal_abk.data.isin(geschütze_abkürzungen)\n",
    "mask4 =  wiktionary_merkmal_abk.meta != 'manuell'\n",
    "mask = mask1  &  mask2  &  mask3  &  mask4\n",
    "check_mask(wiktionary_merkmal_abk,mask, 10)\n",
    "\n",
    "msg = 'zulang'\n",
    "wiktionary_merkmal_abk, wiktionary_merkmal_trash = pak.move_rows(wiktionary_merkmal_abk, wiktionary_merkmal_trash, mask, msg)\n",
    "\n",
    "# anschauen\n",
    "mask = wiktionary_merkmal_trash.msg == msg\n",
    "grid( wiktionary_merkmal_trash[spalten], mask )"
   ]
  },
  {
   "cell_type": "code",
   "execution_count": 106,
   "id": "05dfeafe",
   "metadata": {
    "execution": {
     "iopub.execute_input": "2023-02-25T13:48:26.684887Z",
     "iopub.status.busy": "2023-02-25T13:48:26.680970Z",
     "iopub.status.idle": "2023-02-25T13:48:26.897303Z",
     "shell.execute_reply": "2023-02-25T13:48:26.895509Z",
     "shell.execute_reply.started": "2023-02-25T13:48:26.684846Z"
    }
   },
   "outputs": [
    {
     "name": "stdout",
     "output_type": "stream",
     "text": [
      "check_mask:  329 rows\n",
      "Move 329 rows from 4646\n",
      "329 rows out of 802\n"
     ]
    },
    {
     "data": {
      "text/html": [
       "<div>\n",
       "<style scoped>\n",
       "    .dataframe tbody tr th:only-of-type {\n",
       "        vertical-align: middle;\n",
       "    }\n",
       "\n",
       "    .dataframe tbody tr th {\n",
       "        vertical-align: top;\n",
       "    }\n",
       "\n",
       "    .dataframe thead th {\n",
       "        text-align: right;\n",
       "    }\n",
       "</style>\n",
       "<table border=\"1\" class=\"dataframe\">\n",
       "  <thead>\n",
       "    <tr style=\"text-align: right;\">\n",
       "      <th></th>\n",
       "      <th>data</th>\n",
       "      <th>meta</th>\n",
       "      <th>lemma_id</th>\n",
       "      <th>lemma_tag</th>\n",
       "      <th>merkmal</th>\n",
       "      <th>msg</th>\n",
       "    </tr>\n",
       "  </thead>\n",
       "  <tbody>\n",
       "    <tr>\n",
       "      <th>4903</th>\n",
       "      <td>Dtl</td>\n",
       "      <td></td>\n",
       "      <td>Deutschland</td>\n",
       "      <td>NE</td>\n",
       "      <td>abk</td>\n",
       "      <td>Namen</td>\n",
       "    </tr>\n",
       "    <tr>\n",
       "      <th>4904</th>\n",
       "      <td>Dtld</td>\n",
       "      <td></td>\n",
       "      <td>Deutschland</td>\n",
       "      <td>NE</td>\n",
       "      <td>abk</td>\n",
       "      <td>Namen</td>\n",
       "    </tr>\n",
       "    <tr>\n",
       "      <th>78528</th>\n",
       "      <td>Bbg</td>\n",
       "      <td></td>\n",
       "      <td>Brandenburg</td>\n",
       "      <td>NE</td>\n",
       "      <td>abk</td>\n",
       "      <td>Namen</td>\n",
       "    </tr>\n",
       "    <tr>\n",
       "      <th>73358</th>\n",
       "      <td>Bln</td>\n",
       "      <td></td>\n",
       "      <td>Berlin</td>\n",
       "      <td>NE</td>\n",
       "      <td>abk</td>\n",
       "      <td>Namen</td>\n",
       "    </tr>\n",
       "    <tr>\n",
       "      <th>73357</th>\n",
       "      <td>Kfz-Kennzeichen</td>\n",
       "      <td></td>\n",
       "      <td>Berlin</td>\n",
       "      <td>NE</td>\n",
       "      <td>abk</td>\n",
       "      <td>Namen</td>\n",
       "    </tr>\n",
       "    <tr>\n",
       "      <th>...</th>\n",
       "      <td>...</td>\n",
       "      <td>...</td>\n",
       "      <td>...</td>\n",
       "      <td>...</td>\n",
       "      <td>...</td>\n",
       "      <td>...</td>\n",
       "    </tr>\n",
       "    <tr>\n",
       "      <th>272234</th>\n",
       "      <td>Kfz-Kennzeichen</td>\n",
       "      <td></td>\n",
       "      <td>Hann._Münden</td>\n",
       "      <td>NE</td>\n",
       "      <td>abk</td>\n",
       "      <td>Namen</td>\n",
       "    </tr>\n",
       "    <tr>\n",
       "      <th>1669219</th>\n",
       "      <td>3920</td>\n",
       "      <td>Postleitzahl</td>\n",
       "      <td>Groß_Gerungs</td>\n",
       "      <td>NE</td>\n",
       "      <td>abk</td>\n",
       "      <td>Namen</td>\n",
       "    </tr>\n",
       "    <tr>\n",
       "      <th>248823</th>\n",
       "      <td>bbc</td>\n",
       "      <td>ISO</td>\n",
       "      <td>Batak_Toba</td>\n",
       "      <td>NE</td>\n",
       "      <td>abk</td>\n",
       "      <td>Namen</td>\n",
       "    </tr>\n",
       "    <tr>\n",
       "      <th>249498</th>\n",
       "      <td>iba</td>\n",
       "      <td>ISO</td>\n",
       "      <td>Iban_2</td>\n",
       "      <td>NE</td>\n",
       "      <td>abk</td>\n",
       "      <td>Namen</td>\n",
       "    </tr>\n",
       "    <tr>\n",
       "      <th>230543</th>\n",
       "      <td>bgk</td>\n",
       "      <td>ISO</td>\n",
       "      <td>Bit_1</td>\n",
       "      <td>NE</td>\n",
       "      <td>abk</td>\n",
       "      <td>Namen</td>\n",
       "    </tr>\n",
       "  </tbody>\n",
       "</table>\n",
       "<p>329 rows × 6 columns</p>\n",
       "</div>"
      ],
      "text/plain": [
       "                    data          meta      lemma_id lemma_tag merkmal    msg\n",
       "4903                 Dtl                 Deutschland        NE     abk  Namen\n",
       "4904                Dtld                 Deutschland        NE     abk  Namen\n",
       "78528                Bbg                 Brandenburg        NE     abk  Namen\n",
       "73358                Bln                      Berlin        NE     abk  Namen\n",
       "73357    Kfz-Kennzeichen                      Berlin        NE     abk  Namen\n",
       "...                  ...           ...           ...       ...     ...    ...\n",
       "272234   Kfz-Kennzeichen                Hann._Münden        NE     abk  Namen\n",
       "1669219             3920  Postleitzahl  Groß_Gerungs        NE     abk  Namen\n",
       "248823               bbc           ISO    Batak_Toba        NE     abk  Namen\n",
       "249498               iba           ISO        Iban_2        NE     abk  Namen\n",
       "230543               bgk           ISO         Bit_1        NE     abk  Namen\n",
       "\n",
       "[329 rows x 6 columns]"
      ]
     },
     "execution_count": 106,
     "metadata": {},
     "output_type": "execute_result"
    }
   ],
   "source": [
    "# belöschen: Namen\n",
    "mask1 =  wiktionary_merkmal_abk.lemma_tag == 'NE'                  # ist Name\n",
    "mask2 = ~wiktionary_merkmal_abk.data.str.isupper()                 # nicht nur groß\n",
    "mask3 = ~wiktionary_merkmal_abk.lemma_id.str.endswith('_M')        # nicht aus lexeme_manuell\n",
    "mask4 = ~wiktionary_merkmal_abk.data.isin(geschütze_abkürzungen)\n",
    "mask5 =  wiktionary_merkmal_abk.meta != 'manuell'\n",
    "mask = mask1  &  mask2  &  mask3  &  mask4  &  mask5\n",
    "check_mask(wiktionary_merkmal_abk,mask, 330)\n",
    "\n",
    "msg = 'Namen'\n",
    "wiktionary_merkmal_abk, wiktionary_merkmal_trash = pak.move_rows(wiktionary_merkmal_abk, wiktionary_merkmal_trash, mask, msg)\n",
    "\n",
    "# anschauen\n",
    "mask = wiktionary_merkmal_trash.msg == msg\n",
    "grid( wiktionary_merkmal_trash[spalten], mask )"
   ]
  },
  {
   "cell_type": "code",
   "execution_count": 107,
   "id": "0b6cb132",
   "metadata": {
    "execution": {
     "iopub.execute_input": "2023-02-25T13:48:26.900884Z",
     "iopub.status.busy": "2023-02-25T13:48:26.900530Z",
     "iopub.status.idle": "2023-02-25T13:48:27.046452Z",
     "shell.execute_reply": "2023-02-25T13:48:27.045357Z",
     "shell.execute_reply.started": "2023-02-25T13:48:26.900860Z"
    }
   },
   "outputs": [
    {
     "name": "stdout",
     "output_type": "stream",
     "text": [
      "check_mask:  20 rows\n",
      "Move 20 rows from 4317\n",
      "20 rows out of 822\n"
     ]
    },
    {
     "data": {
      "text/html": [
       "<div>\n",
       "<style scoped>\n",
       "    .dataframe tbody tr th:only-of-type {\n",
       "        vertical-align: middle;\n",
       "    }\n",
       "\n",
       "    .dataframe tbody tr th {\n",
       "        vertical-align: top;\n",
       "    }\n",
       "\n",
       "    .dataframe thead th {\n",
       "        text-align: right;\n",
       "    }\n",
       "</style>\n",
       "<table border=\"1\" class=\"dataframe\">\n",
       "  <thead>\n",
       "    <tr style=\"text-align: right;\">\n",
       "      <th></th>\n",
       "      <th>data</th>\n",
       "      <th>meta</th>\n",
       "      <th>lemma_id</th>\n",
       "      <th>lemma_tag</th>\n",
       "      <th>merkmal</th>\n",
       "      <th>msg</th>\n",
       "    </tr>\n",
       "  </thead>\n",
       "  <tbody>\n",
       "    <tr>\n",
       "      <th>544347</th>\n",
       "      <td>102</td>\n",
       "      <td></td>\n",
       "      <td>hundertundzweite</td>\n",
       "      <td>ADJA CARD</td>\n",
       "      <td>abk</td>\n",
       "      <td>nur_Ziffern</td>\n",
       "    </tr>\n",
       "    <tr>\n",
       "      <th>542226</th>\n",
       "      <td>101</td>\n",
       "      <td></td>\n",
       "      <td>einhunderterste</td>\n",
       "      <td>ADJA CARD</td>\n",
       "      <td>abk</td>\n",
       "      <td>nur_Ziffern</td>\n",
       "    </tr>\n",
       "    <tr>\n",
       "      <th>609448</th>\n",
       "      <td>9000</td>\n",
       "      <td>arabische</td>\n",
       "      <td>neuntausend</td>\n",
       "      <td>CARD</td>\n",
       "      <td>abk</td>\n",
       "      <td>nur_Ziffern</td>\n",
       "    </tr>\n",
       "    <tr>\n",
       "      <th>541691</th>\n",
       "      <td>100</td>\n",
       "      <td></td>\n",
       "      <td>einhundertste</td>\n",
       "      <td>ADJA CARD</td>\n",
       "      <td>abk</td>\n",
       "      <td>nur_Ziffern</td>\n",
       "    </tr>\n",
       "    <tr>\n",
       "      <th>544350</th>\n",
       "      <td>200</td>\n",
       "      <td></td>\n",
       "      <td>zweihundertste</td>\n",
       "      <td>ADJA CARD</td>\n",
       "      <td>abk</td>\n",
       "      <td>nur_Ziffern</td>\n",
       "    </tr>\n",
       "    <tr>\n",
       "      <th>635132</th>\n",
       "      <td>102</td>\n",
       "      <td></td>\n",
       "      <td>hundertzweite</td>\n",
       "      <td>ADJA CARD</td>\n",
       "      <td>abk</td>\n",
       "      <td>nur_Ziffern</td>\n",
       "    </tr>\n",
       "    <tr>\n",
       "      <th>542239</th>\n",
       "      <td>101</td>\n",
       "      <td></td>\n",
       "      <td>hunderterste</td>\n",
       "      <td>ADJA CARD</td>\n",
       "      <td>abk</td>\n",
       "      <td>nur_Ziffern</td>\n",
       "    </tr>\n",
       "    <tr>\n",
       "      <th>633129</th>\n",
       "      <td>300</td>\n",
       "      <td></td>\n",
       "      <td>dreihundertste</td>\n",
       "      <td>ADJA CARD</td>\n",
       "      <td>abk</td>\n",
       "      <td>nur_Ziffern</td>\n",
       "    </tr>\n",
       "    <tr>\n",
       "      <th>544352</th>\n",
       "      <td>500</td>\n",
       "      <td></td>\n",
       "      <td>fünfhundertste</td>\n",
       "      <td>ADJA CARD</td>\n",
       "      <td>abk</td>\n",
       "      <td>nur_Ziffern</td>\n",
       "    </tr>\n",
       "    <tr>\n",
       "      <th>544355</th>\n",
       "      <td>1000</td>\n",
       "      <td></td>\n",
       "      <td>tausendste</td>\n",
       "      <td>ADJA CARD</td>\n",
       "      <td>abk</td>\n",
       "      <td>nur_Ziffern</td>\n",
       "    </tr>\n",
       "    <tr>\n",
       "      <th>525716</th>\n",
       "      <td>200</td>\n",
       "      <td>arabische</td>\n",
       "      <td>zweihundert</td>\n",
       "      <td>CARD</td>\n",
       "      <td>abk</td>\n",
       "      <td>nur_Ziffern</td>\n",
       "    </tr>\n",
       "    <tr>\n",
       "      <th>1701770</th>\n",
       "      <td>700</td>\n",
       "      <td>arabische</td>\n",
       "      <td>siebenhundert</td>\n",
       "      <td>CARD</td>\n",
       "      <td>abk</td>\n",
       "      <td>nur_Ziffern</td>\n",
       "    </tr>\n",
       "    <tr>\n",
       "      <th>1701511</th>\n",
       "      <td>900</td>\n",
       "      <td>arabische</td>\n",
       "      <td>neunhundert</td>\n",
       "      <td>CARD</td>\n",
       "      <td>abk</td>\n",
       "      <td>nur_Ziffern</td>\n",
       "    </tr>\n",
       "    <tr>\n",
       "      <th>545605</th>\n",
       "      <td>10000</td>\n",
       "      <td></td>\n",
       "      <td>zehntausendste</td>\n",
       "      <td>ADJA CARD</td>\n",
       "      <td>abk</td>\n",
       "      <td>nur_Ziffern</td>\n",
       "    </tr>\n",
       "    <tr>\n",
       "      <th>541499</th>\n",
       "      <td>100</td>\n",
       "      <td></td>\n",
       "      <td>hundertste</td>\n",
       "      <td>ADJA CARD</td>\n",
       "      <td>abk</td>\n",
       "      <td>nur_Ziffern</td>\n",
       "    </tr>\n",
       "    <tr>\n",
       "      <th>525682</th>\n",
       "      <td>300</td>\n",
       "      <td>arabische</td>\n",
       "      <td>dreihundert</td>\n",
       "      <td>CARD</td>\n",
       "      <td>abk</td>\n",
       "      <td>nur_Ziffern</td>\n",
       "    </tr>\n",
       "    <tr>\n",
       "      <th>661540</th>\n",
       "      <td>400</td>\n",
       "      <td>Arabische</td>\n",
       "      <td>vierhundert</td>\n",
       "      <td>CARD</td>\n",
       "      <td>abk</td>\n",
       "      <td>nur_Ziffern</td>\n",
       "    </tr>\n",
       "    <tr>\n",
       "      <th>545607</th>\n",
       "      <td>100000</td>\n",
       "      <td></td>\n",
       "      <td>hunderttausendste</td>\n",
       "      <td>ADJA CARD</td>\n",
       "      <td>abk</td>\n",
       "      <td>nur_Ziffern</td>\n",
       "    </tr>\n",
       "    <tr>\n",
       "      <th>1146698</th>\n",
       "      <td>1000</td>\n",
       "      <td>Ziffern</td>\n",
       "      <td>tausendstens</td>\n",
       "      <td>ADV</td>\n",
       "      <td>abk</td>\n",
       "      <td>nur_Ziffern</td>\n",
       "    </tr>\n",
       "    <tr>\n",
       "      <th>1146695</th>\n",
       "      <td>100</td>\n",
       "      <td>Ziffern</td>\n",
       "      <td>hundertstens</td>\n",
       "      <td>ADV</td>\n",
       "      <td>abk</td>\n",
       "      <td>nur_Ziffern</td>\n",
       "    </tr>\n",
       "  </tbody>\n",
       "</table>\n",
       "</div>"
      ],
      "text/plain": [
       "           data       meta           lemma_id  lemma_tag merkmal          msg\n",
       "544347      102              hundertundzweite  ADJA CARD     abk  nur_Ziffern\n",
       "542226      101               einhunderterste  ADJA CARD     abk  nur_Ziffern\n",
       "609448     9000  arabische        neuntausend       CARD     abk  nur_Ziffern\n",
       "541691      100                 einhundertste  ADJA CARD     abk  nur_Ziffern\n",
       "544350      200                zweihundertste  ADJA CARD     abk  nur_Ziffern\n",
       "635132      102                 hundertzweite  ADJA CARD     abk  nur_Ziffern\n",
       "542239      101                  hunderterste  ADJA CARD     abk  nur_Ziffern\n",
       "633129      300                dreihundertste  ADJA CARD     abk  nur_Ziffern\n",
       "544352      500                fünfhundertste  ADJA CARD     abk  nur_Ziffern\n",
       "544355     1000                    tausendste  ADJA CARD     abk  nur_Ziffern\n",
       "525716      200  arabische        zweihundert       CARD     abk  nur_Ziffern\n",
       "1701770     700  arabische      siebenhundert       CARD     abk  nur_Ziffern\n",
       "1701511     900  arabische        neunhundert       CARD     abk  nur_Ziffern\n",
       "545605    10000                zehntausendste  ADJA CARD     abk  nur_Ziffern\n",
       "541499      100                    hundertste  ADJA CARD     abk  nur_Ziffern\n",
       "525682      300  arabische        dreihundert       CARD     abk  nur_Ziffern\n",
       "661540      400  Arabische        vierhundert       CARD     abk  nur_Ziffern\n",
       "545607   100000             hunderttausendste  ADJA CARD     abk  nur_Ziffern\n",
       "1146698    1000    Ziffern       tausendstens        ADV     abk  nur_Ziffern\n",
       "1146695     100    Ziffern       hundertstens        ADV     abk  nur_Ziffern"
      ]
     },
     "execution_count": 107,
     "metadata": {},
     "output_type": "execute_result"
    }
   ],
   "source": [
    "# belöschen: Nur Ziffern\n",
    "mask1 = wiktionary_merkmal_abk.data.str.isdigit() \n",
    "mask2 = ~wiktionary_merkmal_abk.lemma_id.str.endswith('_M')        # nicht aus lexeme_manuell\n",
    "mask3 = ~wiktionary_merkmal_abk.data.isin(geschütze_abkürzungen)\n",
    "mask4 =  wiktionary_merkmal_abk.meta != 'manuell'\n",
    "mask = mask1  &  mask2  &  mask3  &  mask4\n",
    "check_mask(wiktionary_merkmal_abk,mask, 20)\n",
    "\n",
    "msg = 'nur_Ziffern'\n",
    "wiktionary_merkmal_abk, wiktionary_merkmal_trash = pak.move_rows(wiktionary_merkmal_abk, wiktionary_merkmal_trash, mask, msg)\n",
    "\n",
    "# anschauen\n",
    "mask = wiktionary_merkmal_trash.msg == msg\n",
    "grid( wiktionary_merkmal_trash[spalten], mask )"
   ]
  },
  {
   "cell_type": "code",
   "execution_count": 108,
   "id": "d0a6b107-e48e-4ad1-98f0-f6c379773629",
   "metadata": {
    "execution": {
     "iopub.execute_input": "2023-02-25T13:48:27.055143Z",
     "iopub.status.busy": "2023-02-25T13:48:27.048506Z",
     "iopub.status.idle": "2023-02-25T13:48:27.189462Z",
     "shell.execute_reply": "2023-02-25T13:48:27.188195Z",
     "shell.execute_reply.started": "2023-02-25T13:48:27.055069Z"
    }
   },
   "outputs": [
    {
     "name": "stdout",
     "output_type": "stream",
     "text": [
      "check_mask:  162 rows\n",
      "Move 162 rows from 4297\n",
      "162 rows out of 984\n"
     ]
    },
    {
     "data": {
      "text/html": [
       "<div>\n",
       "<style scoped>\n",
       "    .dataframe tbody tr th:only-of-type {\n",
       "        vertical-align: middle;\n",
       "    }\n",
       "\n",
       "    .dataframe tbody tr th {\n",
       "        vertical-align: top;\n",
       "    }\n",
       "\n",
       "    .dataframe thead th {\n",
       "        text-align: right;\n",
       "    }\n",
       "</style>\n",
       "<table border=\"1\" class=\"dataframe\">\n",
       "  <thead>\n",
       "    <tr style=\"text-align: right;\">\n",
       "      <th></th>\n",
       "      <th>data</th>\n",
       "      <th>meta</th>\n",
       "      <th>lemma_id</th>\n",
       "      <th>lemma_tag</th>\n",
       "      <th>merkmal</th>\n",
       "      <th>msg</th>\n",
       "    </tr>\n",
       "  </thead>\n",
       "  <tbody>\n",
       "    <tr>\n",
       "      <th>16159</th>\n",
       "      <td>E 949</td>\n",
       "      <td>E-Nummer</td>\n",
       "      <td>Wasserstoff</td>\n",
       "      <td>NN</td>\n",
       "      <td>abk</td>\n",
       "      <td>Endet_mit_Ziffer</td>\n",
       "    </tr>\n",
       "    <tr>\n",
       "      <th>20801</th>\n",
       "      <td>E 175</td>\n",
       "      <td></td>\n",
       "      <td>Gold</td>\n",
       "      <td>NN</td>\n",
       "      <td>abk</td>\n",
       "      <td>Endet_mit_Ziffer</td>\n",
       "    </tr>\n",
       "    <tr>\n",
       "      <th>126543</th>\n",
       "      <td>E 174</td>\n",
       "      <td></td>\n",
       "      <td>Silber</td>\n",
       "      <td>NN</td>\n",
       "      <td>abk</td>\n",
       "      <td>Endet_mit_Ziffer</td>\n",
       "    </tr>\n",
       "    <tr>\n",
       "      <th>16169</th>\n",
       "      <td>E 939</td>\n",
       "      <td></td>\n",
       "      <td>Helium</td>\n",
       "      <td>NN</td>\n",
       "      <td>abk</td>\n",
       "      <td>Endet_mit_Ziffer</td>\n",
       "    </tr>\n",
       "    <tr>\n",
       "      <th>125462</th>\n",
       "      <td>E 948</td>\n",
       "      <td></td>\n",
       "      <td>Sauerstoff</td>\n",
       "      <td>NN</td>\n",
       "      <td>abk</td>\n",
       "      <td>Endet_mit_Ziffer</td>\n",
       "    </tr>\n",
       "    <tr>\n",
       "      <th>...</th>\n",
       "      <td>...</td>\n",
       "      <td>...</td>\n",
       "      <td>...</td>\n",
       "      <td>...</td>\n",
       "      <td>...</td>\n",
       "      <td>...</td>\n",
       "    </tr>\n",
       "    <tr>\n",
       "      <th>311747</th>\n",
       "      <td>0-0</td>\n",
       "      <td></td>\n",
       "      <td>kleine_Rochade</td>\n",
       "      <td>NN</td>\n",
       "      <td>abk</td>\n",
       "      <td>Endet_mit_Ziffer</td>\n",
       "    </tr>\n",
       "    <tr>\n",
       "      <th>305638</th>\n",
       "      <td>0-0</td>\n",
       "      <td></td>\n",
       "      <td>kurze_Rochade</td>\n",
       "      <td>TODO</td>\n",
       "      <td>abk</td>\n",
       "      <td>Endet_mit_Ziffer</td>\n",
       "    </tr>\n",
       "    <tr>\n",
       "      <th>358976</th>\n",
       "      <td>0-0</td>\n",
       "      <td></td>\n",
       "      <td>klein_rochieren</td>\n",
       "      <td>TODO</td>\n",
       "      <td>abk</td>\n",
       "      <td>Endet_mit_Ziffer</td>\n",
       "    </tr>\n",
       "    <tr>\n",
       "      <th>305798</th>\n",
       "      <td>0-0-0</td>\n",
       "      <td></td>\n",
       "      <td>lange_Rochade</td>\n",
       "      <td>TODO</td>\n",
       "      <td>abk</td>\n",
       "      <td>Endet_mit_Ziffer</td>\n",
       "    </tr>\n",
       "    <tr>\n",
       "      <th>358970</th>\n",
       "      <td>0-0</td>\n",
       "      <td></td>\n",
       "      <td>kurz_rochieren</td>\n",
       "      <td>TODO</td>\n",
       "      <td>abk</td>\n",
       "      <td>Endet_mit_Ziffer</td>\n",
       "    </tr>\n",
       "  </tbody>\n",
       "</table>\n",
       "<p>162 rows × 6 columns</p>\n",
       "</div>"
      ],
      "text/plain": [
       "         data      meta         lemma_id lemma_tag merkmal               msg\n",
       "16159   E 949  E-Nummer      Wasserstoff        NN     abk  Endet_mit_Ziffer\n",
       "20801   E 175                       Gold        NN     abk  Endet_mit_Ziffer\n",
       "126543  E 174                     Silber        NN     abk  Endet_mit_Ziffer\n",
       "16169   E 939                     Helium        NN     abk  Endet_mit_Ziffer\n",
       "125462  E 948                 Sauerstoff        NN     abk  Endet_mit_Ziffer\n",
       "...       ...       ...              ...       ...     ...               ...\n",
       "311747    0-0             kleine_Rochade        NN     abk  Endet_mit_Ziffer\n",
       "305638    0-0              kurze_Rochade      TODO     abk  Endet_mit_Ziffer\n",
       "358976    0-0            klein_rochieren      TODO     abk  Endet_mit_Ziffer\n",
       "305798  0-0-0              lange_Rochade      TODO     abk  Endet_mit_Ziffer\n",
       "358970    0-0             kurz_rochieren      TODO     abk  Endet_mit_Ziffer\n",
       "\n",
       "[162 rows x 6 columns]"
      ]
     },
     "execution_count": 108,
     "metadata": {},
     "output_type": "execute_result"
    }
   ],
   "source": [
    "# belöschen: Endet mit Ziffer\n",
    "mask1 =  wiktionary_merkmal_abk.data.str[-1].str.isdigit() \n",
    "mask2 = ~wiktionary_merkmal_abk.data.str.endswith(('²','³','₂')) \n",
    "mask3 = ~wiktionary_merkmal_abk.lemma_id.str.endswith('_M')        # nicht aus lexeme_manuell\n",
    "mask4 = ~wiktionary_merkmal_abk.data.isin(geschütze_abkürzungen)\n",
    "mask5 =  wiktionary_merkmal_abk.meta != 'manuell'\n",
    "mask = mask1  &  mask2  &  mask3  &  mask4  &  mask5 \n",
    "check_mask(wiktionary_merkmal_abk,mask, 162)\n",
    "\n",
    "msg = 'Endet_mit_Ziffer'\n",
    "wiktionary_merkmal_abk, wiktionary_merkmal_trash = pak.move_rows(wiktionary_merkmal_abk, wiktionary_merkmal_trash, mask, msg)\n",
    "\n",
    "# anschauen\n",
    "mask = wiktionary_merkmal_trash.msg == msg\n",
    "grid( wiktionary_merkmal_trash[spalten], mask )"
   ]
  },
  {
   "cell_type": "code",
   "execution_count": 109,
   "id": "bb1d490d",
   "metadata": {
    "execution": {
     "iopub.execute_input": "2023-02-25T13:48:27.193779Z",
     "iopub.status.busy": "2023-02-25T13:48:27.191996Z",
     "iopub.status.idle": "2023-02-25T13:48:27.281501Z",
     "shell.execute_reply": "2023-02-25T13:48:27.280485Z",
     "shell.execute_reply.started": "2023-02-25T13:48:27.193702Z"
    }
   },
   "outputs": [
    {
     "name": "stdout",
     "output_type": "stream",
     "text": [
      "check_mask:  12 rows\n",
      "Move 12 rows from 4135\n",
      "12 rows out of 996\n"
     ]
    },
    {
     "data": {
      "text/html": [
       "<div>\n",
       "<style scoped>\n",
       "    .dataframe tbody tr th:only-of-type {\n",
       "        vertical-align: middle;\n",
       "    }\n",
       "\n",
       "    .dataframe tbody tr th {\n",
       "        vertical-align: top;\n",
       "    }\n",
       "\n",
       "    .dataframe thead th {\n",
       "        text-align: right;\n",
       "    }\n",
       "</style>\n",
       "<table border=\"1\" class=\"dataframe\">\n",
       "  <thead>\n",
       "    <tr style=\"text-align: right;\">\n",
       "      <th></th>\n",
       "      <th>data</th>\n",
       "      <th>meta</th>\n",
       "      <th>lemma_id</th>\n",
       "      <th>lemma_tag</th>\n",
       "      <th>merkmal</th>\n",
       "      <th>msg</th>\n",
       "    </tr>\n",
       "  </thead>\n",
       "  <tbody>\n",
       "    <tr>\n",
       "      <th>1773844</th>\n",
       "      <td>2,5G</td>\n",
       "      <td></td>\n",
       "      <td>2,5G-Regel</td>\n",
       "      <td>NN</td>\n",
       "      <td>abk</td>\n",
       "      <td>Bibel</td>\n",
       "    </tr>\n",
       "    <tr>\n",
       "      <th>663739</th>\n",
       "      <td>2 Kor</td>\n",
       "      <td></td>\n",
       "      <td>2._Korintherbrief</td>\n",
       "      <td>NN</td>\n",
       "      <td>abk</td>\n",
       "      <td>Bibel</td>\n",
       "    </tr>\n",
       "    <tr>\n",
       "      <th>663720</th>\n",
       "      <td>1 Kor</td>\n",
       "      <td></td>\n",
       "      <td>1._Korintherbrief</td>\n",
       "      <td>NN</td>\n",
       "      <td>abk</td>\n",
       "      <td>Bibel</td>\n",
       "    </tr>\n",
       "    <tr>\n",
       "      <th>1217629</th>\n",
       "      <td>1 Thess</td>\n",
       "      <td></td>\n",
       "      <td>1._Thessalonicherbrief</td>\n",
       "      <td>NN</td>\n",
       "      <td>abk</td>\n",
       "      <td>Bibel</td>\n",
       "    </tr>\n",
       "    <tr>\n",
       "      <th>1217633</th>\n",
       "      <td>2 Thess</td>\n",
       "      <td></td>\n",
       "      <td>2._Thessalonicherbrief</td>\n",
       "      <td>NN</td>\n",
       "      <td>abk</td>\n",
       "      <td>Bibel</td>\n",
       "    </tr>\n",
       "    <tr>\n",
       "      <th>1217648</th>\n",
       "      <td>1 Tim</td>\n",
       "      <td></td>\n",
       "      <td>1._Timotheusbrief</td>\n",
       "      <td>NN</td>\n",
       "      <td>abk</td>\n",
       "      <td>Bibel</td>\n",
       "    </tr>\n",
       "    <tr>\n",
       "      <th>1217654</th>\n",
       "      <td>2 Tim</td>\n",
       "      <td></td>\n",
       "      <td>2._Timotheusbrief</td>\n",
       "      <td>NN</td>\n",
       "      <td>abk</td>\n",
       "      <td>Bibel</td>\n",
       "    </tr>\n",
       "    <tr>\n",
       "      <th>1219019</th>\n",
       "      <td>2 Petr</td>\n",
       "      <td></td>\n",
       "      <td>2._Petrusbrief</td>\n",
       "      <td>NN</td>\n",
       "      <td>abk</td>\n",
       "      <td>Bibel</td>\n",
       "    </tr>\n",
       "    <tr>\n",
       "      <th>1219017</th>\n",
       "      <td>1 Petr</td>\n",
       "      <td></td>\n",
       "      <td>1._Petrusbrief</td>\n",
       "      <td>NN</td>\n",
       "      <td>abk</td>\n",
       "      <td>Bibel</td>\n",
       "    </tr>\n",
       "    <tr>\n",
       "      <th>1219084</th>\n",
       "      <td>1 Joh</td>\n",
       "      <td></td>\n",
       "      <td>1._Johannesbrief</td>\n",
       "      <td>NN</td>\n",
       "      <td>abk</td>\n",
       "      <td>Bibel</td>\n",
       "    </tr>\n",
       "    <tr>\n",
       "      <th>1219087</th>\n",
       "      <td>2 Joh</td>\n",
       "      <td></td>\n",
       "      <td>2._Johannesbrief</td>\n",
       "      <td>NN</td>\n",
       "      <td>abk</td>\n",
       "      <td>Bibel</td>\n",
       "    </tr>\n",
       "    <tr>\n",
       "      <th>1219090</th>\n",
       "      <td>3 Joh</td>\n",
       "      <td></td>\n",
       "      <td>3._Johannesbrief</td>\n",
       "      <td>NN</td>\n",
       "      <td>abk</td>\n",
       "      <td>Bibel</td>\n",
       "    </tr>\n",
       "  </tbody>\n",
       "</table>\n",
       "</div>"
      ],
      "text/plain": [
       "            data meta                lemma_id lemma_tag merkmal    msg\n",
       "1773844     2,5G                   2,5G-Regel        NN     abk  Bibel\n",
       "663739     2 Kor            2._Korintherbrief        NN     abk  Bibel\n",
       "663720     1 Kor            1._Korintherbrief        NN     abk  Bibel\n",
       "1217629  1 Thess       1._Thessalonicherbrief        NN     abk  Bibel\n",
       "1217633  2 Thess       2._Thessalonicherbrief        NN     abk  Bibel\n",
       "1217648    1 Tim            1._Timotheusbrief        NN     abk  Bibel\n",
       "1217654    2 Tim            2._Timotheusbrief        NN     abk  Bibel\n",
       "1219019   2 Petr               2._Petrusbrief        NN     abk  Bibel\n",
       "1219017   1 Petr               1._Petrusbrief        NN     abk  Bibel\n",
       "1219084    1 Joh             1._Johannesbrief        NN     abk  Bibel\n",
       "1219087    2 Joh             2._Johannesbrief        NN     abk  Bibel\n",
       "1219090    3 Joh             3._Johannesbrief        NN     abk  Bibel"
      ]
     },
     "execution_count": 109,
     "metadata": {},
     "output_type": "execute_result"
    }
   ],
   "source": [
    "# belöschen: Bibel\n",
    "mask1 =  wiktionary_merkmal_abk.lemma_id.str[0].str.isdigit() \n",
    "mask2 = ~wiktionary_merkmal_abk.lemma_id.str.endswith('_M')        # nicht aus lexeme_manuell\n",
    "mask3 = ~wiktionary_merkmal_abk.data.isin(geschütze_abkürzungen)\n",
    "mask4 =  wiktionary_merkmal_abk.meta != 'manuell'\n",
    "mask = mask1  &  mask2  &  mask3  &  mask4\n",
    "check_mask(wiktionary_merkmal_abk,mask, 12)\n",
    "\n",
    "msg = 'Bibel'\n",
    "wiktionary_merkmal_abk, wiktionary_merkmal_trash = pak.move_rows(wiktionary_merkmal_abk, wiktionary_merkmal_trash, mask, msg)\n",
    "\n",
    "# anschauen\n",
    "mask = wiktionary_merkmal_trash.msg == msg\n",
    "grid( wiktionary_merkmal_trash[spalten], mask )"
   ]
  },
  {
   "cell_type": "code",
   "execution_count": 110,
   "id": "896cfe96-866c-4a84-b2cb-5c2b3bbb61d4",
   "metadata": {
    "execution": {
     "iopub.execute_input": "2023-02-25T13:48:27.282491Z",
     "iopub.status.busy": "2023-02-25T13:48:27.282248Z",
     "iopub.status.idle": "2023-02-25T13:48:27.419686Z",
     "shell.execute_reply": "2023-02-25T13:48:27.418348Z",
     "shell.execute_reply.started": "2023-02-25T13:48:27.282469Z"
    }
   },
   "outputs": [
    {
     "name": "stdout",
     "output_type": "stream",
     "text": [
      "check_mask:  1035 rows\n",
      "Move 1035 rows from 4123\n",
      "1035 rows\n"
     ]
    },
    {
     "data": {
      "text/html": [
       "<div>\n",
       "<style scoped>\n",
       "    .dataframe tbody tr th:only-of-type {\n",
       "        vertical-align: middle;\n",
       "    }\n",
       "\n",
       "    .dataframe tbody tr th {\n",
       "        vertical-align: top;\n",
       "    }\n",
       "\n",
       "    .dataframe thead th {\n",
       "        text-align: right;\n",
       "    }\n",
       "</style>\n",
       "<table border=\"1\" class=\"dataframe\">\n",
       "  <thead>\n",
       "    <tr style=\"text-align: right;\">\n",
       "      <th></th>\n",
       "      <th>lemma_id</th>\n",
       "      <th>merkmal</th>\n",
       "      <th>data_id</th>\n",
       "      <th>data</th>\n",
       "      <th>data_tag</th>\n",
       "      <th>lemma_tag</th>\n",
       "      <th>num</th>\n",
       "      <th>meta</th>\n",
       "      <th>score</th>\n",
       "      <th>is_lex</th>\n",
       "      <th>msg</th>\n",
       "    </tr>\n",
       "  </thead>\n",
       "  <tbody>\n",
       "    <tr>\n",
       "      <th>749186</th>\n",
       "      <td>Sperrzone</td>\n",
       "      <td>abk</td>\n",
       "      <td>Sperrzone~SpZo</td>\n",
       "      <td>SpZo</td>\n",
       "      <td></td>\n",
       "      <td>NN</td>\n",
       "      <td>1</td>\n",
       "      <td>Abkürzung</td>\n",
       "      <td>10.238153</td>\n",
       "      <td>True</td>\n",
       "      <td>meta</td>\n",
       "    </tr>\n",
       "    <tr>\n",
       "      <th>628703</th>\n",
       "      <td>Asthenie</td>\n",
       "      <td>abk</td>\n",
       "      <td>ICD</td>\n",
       "      <td>ICD</td>\n",
       "      <td></td>\n",
       "      <td>NN</td>\n",
       "      <td>1</td>\n",
       "      <td>Codierung</td>\n",
       "      <td>10.136087</td>\n",
       "      <td>True</td>\n",
       "      <td>meta</td>\n",
       "    </tr>\n",
       "    <tr>\n",
       "      <th>1520458</th>\n",
       "      <td>Trinkwasserverordnung</td>\n",
       "      <td>abk</td>\n",
       "      <td>Trinkwasserverordnung~TWV</td>\n",
       "      <td>TWV</td>\n",
       "      <td></td>\n",
       "      <td>NN</td>\n",
       "      <td>1</td>\n",
       "      <td>Deutschland</td>\n",
       "      <td>17.375456</td>\n",
       "      <td>True</td>\n",
       "      <td>meta</td>\n",
       "    </tr>\n",
       "    <tr>\n",
       "      <th>103075</th>\n",
       "      <td>Rangierbahnhof</td>\n",
       "      <td>abk</td>\n",
       "      <td>Rbf</td>\n",
       "      <td>Rbf</td>\n",
       "      <td></td>\n",
       "      <td>NN</td>\n",
       "      <td></td>\n",
       "      <td>Deutschland</td>\n",
       "      <td>17.273390</td>\n",
       "      <td>True</td>\n",
       "      <td>meta</td>\n",
       "    </tr>\n",
       "    <tr>\n",
       "      <th>1133574</th>\n",
       "      <td>Gesundheitsministerium</td>\n",
       "      <td>abk</td>\n",
       "      <td>Gesundheitsministerium~BMG</td>\n",
       "      <td>BMG</td>\n",
       "      <td></td>\n",
       "      <td>NN</td>\n",
       "      <td>1</td>\n",
       "      <td>Deutschland</td>\n",
       "      <td>10.883353</td>\n",
       "      <td>True</td>\n",
       "      <td>meta</td>\n",
       "    </tr>\n",
       "    <tr>\n",
       "      <th>...</th>\n",
       "      <td>...</td>\n",
       "      <td>...</td>\n",
       "      <td>...</td>\n",
       "      <td>...</td>\n",
       "      <td>...</td>\n",
       "      <td>...</td>\n",
       "      <td>...</td>\n",
       "      <td>...</td>\n",
       "      <td>...</td>\n",
       "      <td>...</td>\n",
       "      <td>...</td>\n",
       "    </tr>\n",
       "    <tr>\n",
       "      <th>655098</th>\n",
       "      <td>Kubikzentimeter</td>\n",
       "      <td>abk</td>\n",
       "      <td>cbcm</td>\n",
       "      <td>cbcm</td>\n",
       "      <td></td>\n",
       "      <td>NN</td>\n",
       "      <td>1</td>\n",
       "      <td>veraltet</td>\n",
       "      <td>5.211421</td>\n",
       "      <td>True</td>\n",
       "      <td>meta</td>\n",
       "    </tr>\n",
       "    <tr>\n",
       "      <th>655097</th>\n",
       "      <td>Kubikzentimeter</td>\n",
       "      <td>abk</td>\n",
       "      <td>ccm</td>\n",
       "      <td>ccm</td>\n",
       "      <td></td>\n",
       "      <td>NN</td>\n",
       "      <td>1</td>\n",
       "      <td>veraltet</td>\n",
       "      <td>5.211421</td>\n",
       "      <td>True</td>\n",
       "      <td>meta</td>\n",
       "    </tr>\n",
       "    <tr>\n",
       "      <th>175355</th>\n",
       "      <td>Bauernhof</td>\n",
       "      <td>abk</td>\n",
       "      <td>Hof</td>\n",
       "      <td>Hof</td>\n",
       "      <td></td>\n",
       "      <td>NN</td>\n",
       "      <td>1</td>\n",
       "      <td>volkstümlich</td>\n",
       "      <td>20.539490</td>\n",
       "      <td>True</td>\n",
       "      <td>meta</td>\n",
       "    </tr>\n",
       "    <tr>\n",
       "      <th>335119</th>\n",
       "      <td>Wisent</td>\n",
       "      <td>abk</td>\n",
       "      <td>Wisent~B. bonasus</td>\n",
       "      <td>B. bonasus</td>\n",
       "      <td></td>\n",
       "      <td>NN</td>\n",
       "      <td>1</td>\n",
       "      <td>wissenschaftlich</td>\n",
       "      <td>12.829890</td>\n",
       "      <td>True</td>\n",
       "      <td>meta</td>\n",
       "    </tr>\n",
       "    <tr>\n",
       "      <th>185351</th>\n",
       "      <td>Pfund</td>\n",
       "      <td>abk</td>\n",
       "      <td>Pfund~Pfd</td>\n",
       "      <td>Pfd</td>\n",
       "      <td></td>\n",
       "      <td>NN</td>\n",
       "      <td>1</td>\n",
       "      <td>üblich</td>\n",
       "      <td>21.585663</td>\n",
       "      <td>True</td>\n",
       "      <td>meta</td>\n",
       "    </tr>\n",
       "  </tbody>\n",
       "</table>\n",
       "<p>1035 rows × 11 columns</p>\n",
       "</div>"
      ],
      "text/plain": [
       "                       lemma_id merkmal                     data_id  \\\n",
       "749186                Sperrzone     abk              Sperrzone~SpZo   \n",
       "628703                 Asthenie     abk                         ICD   \n",
       "1520458   Trinkwasserverordnung     abk   Trinkwasserverordnung~TWV   \n",
       "103075           Rangierbahnhof     abk                         Rbf   \n",
       "1133574  Gesundheitsministerium     abk  Gesundheitsministerium~BMG   \n",
       "...                         ...     ...                         ...   \n",
       "655098          Kubikzentimeter     abk                        cbcm   \n",
       "655097          Kubikzentimeter     abk                         ccm   \n",
       "175355                Bauernhof     abk                         Hof   \n",
       "335119                   Wisent     abk           Wisent~B. bonasus   \n",
       "185351                    Pfund     abk                   Pfund~Pfd   \n",
       "\n",
       "               data data_tag lemma_tag num              meta      score  \\\n",
       "749186         SpZo                 NN   1         Abkürzung  10.238153   \n",
       "628703          ICD                 NN   1         Codierung  10.136087   \n",
       "1520458         TWV                 NN   1       Deutschland  17.375456   \n",
       "103075          Rbf                 NN           Deutschland  17.273390   \n",
       "1133574         BMG                 NN   1       Deutschland  10.883353   \n",
       "...             ...      ...       ...  ..               ...        ...   \n",
       "655098         cbcm                 NN   1          veraltet   5.211421   \n",
       "655097          ccm                 NN   1          veraltet   5.211421   \n",
       "175355          Hof                 NN   1      volkstümlich  20.539490   \n",
       "335119   B. bonasus                 NN   1  wissenschaftlich  12.829890   \n",
       "185351          Pfd                 NN   1            üblich  21.585663   \n",
       "\n",
       "         is_lex   msg  \n",
       "749186     True  meta  \n",
       "628703     True  meta  \n",
       "1520458    True  meta  \n",
       "103075     True  meta  \n",
       "1133574    True  meta  \n",
       "...         ...   ...  \n",
       "655098     True  meta  \n",
       "655097     True  meta  \n",
       "175355     True  meta  \n",
       "335119     True  meta  \n",
       "185351     True  meta  \n",
       "\n",
       "[1035 rows x 11 columns]"
      ]
     },
     "execution_count": 110,
     "metadata": {},
     "output_type": "execute_result"
    }
   ],
   "source": [
    "# belöschen: meta\n",
    "löschmich_meta = ['Postleitzahl','Elementsymbol','seltener','selten','Ordenskürzel','Österreich','Makrosprache',\n",
    "                  'Kirmanjki','Schweiz','ISO','Kfz','Internet','ISO-3166','Kfz-Kennzeichen','fachsprachlich','Dreibuchstabencode',\n",
    "                  'international','Deutschland','ISO-4217-Code','ISO-639-3','chemisches','Zentral-Quiche','Komi',\n",
    "                  'Kraftfahrzeugkennzeichen','englisch','veraltet','Dimli','Shimaore','bisweilen',\n",
    "                  'Katalogbezeichnungen','ISO-639-1','inoffiziell','olympisch','chemische','Zusammensetzungen',\n",
    "                  'Netzjargon','ISO-4217','bundesdeutsch','Währungscodes','UN LOCODE','römische','schweizerisch',\n",
    "                  'Währungscode','Römische','bedeutungsgleiche','Summenformel',\n",
    "                  'Rumänien','Lüftungstechnik','Lebensmittelfarbstoff','internationaler','volkstümlich',\n",
    "                  'Maya-Sprachen','ISO-3166-1','ISO-3166-Code','üblich','wissenschaftlich','ehem',\n",
    "                  'Polizeijargon','IOC-Ländercode','Moldawien','taktisches','postalisch','Abkürzung','Römisches',\n",
    "                  'fachsprachlich schriftsprachlich','Schifffahrt','Codierung','SIL-Code']\n",
    "mask1 =  wiktionary_merkmal_abk.meta.isin(löschmich_meta)\n",
    "mask2 = ~wiktionary_merkmal_abk.lemma_id.str.endswith('_M')        # nicht aus lexeme_manuell\n",
    "mask3 = ~wiktionary_merkmal_abk.data.isin(geschütze_abkürzungen)\n",
    "mask = mask1  &  mask2  &  mask3\n",
    "check_mask(wiktionary_merkmal_abk,mask, 1035)\n",
    "\n",
    "msg = 'meta'\n",
    "wiktionary_merkmal_abk, wiktionary_merkmal_trash = pak.move_rows(wiktionary_merkmal_abk, wiktionary_merkmal_trash, mask, msg)\n",
    "\n",
    "# anschauen\n",
    "mask = wiktionary_merkmal_trash.msg == msg\n",
    "a = wiktionary_merkmal_trash[mask].sort_values(['meta','score'],ascending=[True,False])\n",
    "grid(a)"
   ]
  },
  {
   "cell_type": "code",
   "execution_count": 111,
   "id": "560d515a-cdc0-4513-ae49-fef401eb64bc",
   "metadata": {
    "execution": {
     "iopub.execute_input": "2023-02-25T13:48:27.423403Z",
     "iopub.status.busy": "2023-02-25T13:48:27.420978Z",
     "iopub.status.idle": "2023-02-25T13:48:27.561213Z",
     "shell.execute_reply": "2023-02-25T13:48:27.559162Z",
     "shell.execute_reply.started": "2023-02-25T13:48:27.423366Z"
    }
   },
   "outputs": [
    {
     "name": "stdout",
     "output_type": "stream",
     "text": [
      "16 rows\n"
     ]
    },
    {
     "data": {
      "text/html": [
       "<div>\n",
       "<style scoped>\n",
       "    .dataframe tbody tr th:only-of-type {\n",
       "        vertical-align: middle;\n",
       "    }\n",
       "\n",
       "    .dataframe tbody tr th {\n",
       "        vertical-align: top;\n",
       "    }\n",
       "\n",
       "    .dataframe thead th {\n",
       "        text-align: right;\n",
       "    }\n",
       "</style>\n",
       "<table border=\"1\" class=\"dataframe\">\n",
       "  <thead>\n",
       "    <tr style=\"text-align: right;\">\n",
       "      <th></th>\n",
       "      <th>meta</th>\n",
       "      <th>meta_count</th>\n",
       "      <th>meta_percent</th>\n",
       "      <th>lemma_tag</th>\n",
       "      <th>lemma_tag_count</th>\n",
       "      <th>data</th>\n",
       "      <th>data_count</th>\n",
       "    </tr>\n",
       "  </thead>\n",
       "  <tbody>\n",
       "    <tr>\n",
       "      <th>0</th>\n",
       "      <td></td>\n",
       "      <td>2953</td>\n",
       "      <td>95.6</td>\n",
       "      <td>[NN, ADJA, NE, ADV, TODO, VVFIN, APPR, , KOMBI, CARD, KON, NN NE, PDAT, ZFIX, PTKANT, ADV APPR, PIAT, KOUS, APPO APPR, ITJ]</td>\n",
       "      <td>[1997, 609, 123, 98, 36, 23, 18, 10, 8, 5, 4, 3, 3, 3, 3, 2, 2, 2, 2, 1]</td>\n",
       "      <td>[Str, inf, Pfl, Konv, ind, Ins, Gen, imp, Chemie, erk, Ztr, Adj, Konj, Chr, ged, get, Pat, NaCl, Ver, Fut]</td>\n",
       "      <td>[16, 9, 7, 7, 7, 6, 6, 6, 6, 5, 5, 5, 5, 5, 5, 5, 4, 4, 4, 4]</td>\n",
       "    </tr>\n",
       "    <tr>\n",
       "      <th>1</th>\n",
       "      <td>manuell</td>\n",
       "      <td>112</td>\n",
       "      <td>3.6</td>\n",
       "      <td>[NN, KOMBI, ADJA, ADV, KON, $(, NN NE, VVFIN, KOUS, CARD, NE, ADV ADJD, APPR]</td>\n",
       "      <td>[68, 17, 7, 4, 3, 3, 2, 2, 2, 1, 1, 1, 1]</td>\n",
       "      <td>[Bd., Feb., Jan., FR, Str., Nr., std., SO, geschl., OP, Jun., DI, MI, DO, km, Abschn., Hg., Apr., SA, Abb.]</td>\n",
       "      <td>[1, 1, 1, 1, 1, 1, 1, 1, 1, 1, 1, 1, 1, 1, 1, 1, 1, 1, 1, 1]</td>\n",
       "    </tr>\n",
       "    <tr>\n",
       "      <th>2</th>\n",
       "      <td>umgangssprachlich</td>\n",
       "      <td>4</td>\n",
       "      <td>0.1</td>\n",
       "      <td>[NN, PIAT]</td>\n",
       "      <td>[3, 1]</td>\n",
       "      <td>[was, Perso, Mini, Kelle]</td>\n",
       "      <td>[1, 1, 1, 1]</td>\n",
       "    </tr>\n",
       "    <tr>\n",
       "      <th>3</th>\n",
       "      <td>kurz</td>\n",
       "      <td>3</td>\n",
       "      <td>0.1</td>\n",
       "      <td>NN</td>\n",
       "      <td>3</td>\n",
       "      <td>[Mayo, Emu, Snooker-WM]</td>\n",
       "      <td>[1, 1, 1]</td>\n",
       "    </tr>\n",
       "    <tr>\n",
       "      <th>4</th>\n",
       "      <td>international</td>\n",
       "      <td>2</td>\n",
       "      <td>0.1</td>\n",
       "      <td>NE</td>\n",
       "      <td>2</td>\n",
       "      <td>[DEU, UNO]</td>\n",
       "      <td>[1, 1]</td>\n",
       "    </tr>\n",
       "    <tr>\n",
       "      <th>5</th>\n",
       "      <td>physikalisch</td>\n",
       "      <td>2</td>\n",
       "      <td>0.1</td>\n",
       "      <td>NN</td>\n",
       "      <td>2</td>\n",
       "      <td>[atm, atü]</td>\n",
       "      <td>[1, 1]</td>\n",
       "    </tr>\n",
       "    <tr>\n",
       "      <th>6</th>\n",
       "      <td>chemische</td>\n",
       "      <td>2</td>\n",
       "      <td>0.1</td>\n",
       "      <td>NN</td>\n",
       "      <td>2</td>\n",
       "      <td>[CO2, SO2]</td>\n",
       "      <td>[1, 1]</td>\n",
       "    </tr>\n",
       "    <tr>\n",
       "      <th>7</th>\n",
       "      <td>Einheitenzeichen</td>\n",
       "      <td>2</td>\n",
       "      <td>0.1</td>\n",
       "      <td>NN</td>\n",
       "      <td>2</td>\n",
       "      <td>[min, var]</td>\n",
       "      <td>[1, 1]</td>\n",
       "    </tr>\n",
       "    <tr>\n",
       "      <th>8</th>\n",
       "      <td>Summenformel</td>\n",
       "      <td>1</td>\n",
       "      <td>0.0</td>\n",
       "      <td>NN</td>\n",
       "      <td>1</td>\n",
       "      <td>H2O</td>\n",
       "      <td>1</td>\n",
       "    </tr>\n",
       "    <tr>\n",
       "      <th>9</th>\n",
       "      <td>ISO</td>\n",
       "      <td>1</td>\n",
       "      <td>0.0</td>\n",
       "      <td>NN</td>\n",
       "      <td>1</td>\n",
       "      <td>deu</td>\n",
       "      <td>1</td>\n",
       "    </tr>\n",
       "    <tr>\n",
       "      <th>10</th>\n",
       "      <td>umgangssprachliche</td>\n",
       "      <td>1</td>\n",
       "      <td>0.0</td>\n",
       "      <td>NN</td>\n",
       "      <td>1</td>\n",
       "      <td>Bib</td>\n",
       "      <td>1</td>\n",
       "    </tr>\n",
       "    <tr>\n",
       "      <th>11</th>\n",
       "      <td>Währungszeichen</td>\n",
       "      <td>1</td>\n",
       "      <td>0.0</td>\n",
       "      <td>NN</td>\n",
       "      <td>1</td>\n",
       "      <td>EUR</td>\n",
       "      <td>1</td>\n",
       "    </tr>\n",
       "    <tr>\n",
       "      <th>12</th>\n",
       "      <td>oft</td>\n",
       "      <td>1</td>\n",
       "      <td>0.0</td>\n",
       "      <td>NN</td>\n",
       "      <td>1</td>\n",
       "      <td>Expat</td>\n",
       "      <td>1</td>\n",
       "    </tr>\n",
       "    <tr>\n",
       "      <th>13</th>\n",
       "      <td>Einheitssymbol</td>\n",
       "      <td>1</td>\n",
       "      <td>0.0</td>\n",
       "      <td>NN</td>\n",
       "      <td>1</td>\n",
       "      <td>kWh</td>\n",
       "      <td>1</td>\n",
       "    </tr>\n",
       "    <tr>\n",
       "      <th>14</th>\n",
       "      <td>mathematisch</td>\n",
       "      <td>1</td>\n",
       "      <td>0.0</td>\n",
       "      <td>NN</td>\n",
       "      <td>1</td>\n",
       "      <td>tan</td>\n",
       "      <td>1</td>\n",
       "    </tr>\n",
       "    <tr>\n",
       "      <th>15</th>\n",
       "      <td>Formel</td>\n",
       "      <td>1</td>\n",
       "      <td>0.0</td>\n",
       "      <td>NN</td>\n",
       "      <td>1</td>\n",
       "      <td>ZnO</td>\n",
       "      <td>1</td>\n",
       "    </tr>\n",
       "  </tbody>\n",
       "</table>\n",
       "</div>"
      ],
      "text/plain": [
       "                  meta  meta_count  meta_percent  \\\n",
       "0                             2953          95.6   \n",
       "1              manuell         112           3.6   \n",
       "2    umgangssprachlich           4           0.1   \n",
       "3                 kurz           3           0.1   \n",
       "4        international           2           0.1   \n",
       "5         physikalisch           2           0.1   \n",
       "6            chemische           2           0.1   \n",
       "7     Einheitenzeichen           2           0.1   \n",
       "8         Summenformel           1           0.0   \n",
       "9                  ISO           1           0.0   \n",
       "10  umgangssprachliche           1           0.0   \n",
       "11     Währungszeichen           1           0.0   \n",
       "12                 oft           1           0.0   \n",
       "13      Einheitssymbol           1           0.0   \n",
       "14        mathematisch           1           0.0   \n",
       "15              Formel           1           0.0   \n",
       "\n",
       "                                                                                                                      lemma_tag  \\\n",
       "0   [NN, ADJA, NE, ADV, TODO, VVFIN, APPR, , KOMBI, CARD, KON, NN NE, PDAT, ZFIX, PTKANT, ADV APPR, PIAT, KOUS, APPO APPR, ITJ]   \n",
       "1                                                 [NN, KOMBI, ADJA, ADV, KON, $(, NN NE, VVFIN, KOUS, CARD, NE, ADV ADJD, APPR]   \n",
       "2                                                                                                                    [NN, PIAT]   \n",
       "3                                                                                                                            NN   \n",
       "4                                                                                                                            NE   \n",
       "5                                                                                                                            NN   \n",
       "6                                                                                                                            NN   \n",
       "7                                                                                                                            NN   \n",
       "8                                                                                                                            NN   \n",
       "9                                                                                                                            NN   \n",
       "10                                                                                                                           NN   \n",
       "11                                                                                                                           NN   \n",
       "12                                                                                                                           NN   \n",
       "13                                                                                                                           NN   \n",
       "14                                                                                                                           NN   \n",
       "15                                                                                                                           NN   \n",
       "\n",
       "                                                             lemma_tag_count  \\\n",
       "0   [1997, 609, 123, 98, 36, 23, 18, 10, 8, 5, 4, 3, 3, 3, 3, 2, 2, 2, 2, 1]   \n",
       "1                                  [68, 17, 7, 4, 3, 3, 2, 2, 2, 1, 1, 1, 1]   \n",
       "2                                                                     [3, 1]   \n",
       "3                                                                          3   \n",
       "4                                                                          2   \n",
       "5                                                                          2   \n",
       "6                                                                          2   \n",
       "7                                                                          2   \n",
       "8                                                                          1   \n",
       "9                                                                          1   \n",
       "10                                                                         1   \n",
       "11                                                                         1   \n",
       "12                                                                         1   \n",
       "13                                                                         1   \n",
       "14                                                                         1   \n",
       "15                                                                         1   \n",
       "\n",
       "                                                                                                           data  \\\n",
       "0    [Str, inf, Pfl, Konv, ind, Ins, Gen, imp, Chemie, erk, Ztr, Adj, Konj, Chr, ged, get, Pat, NaCl, Ver, Fut]   \n",
       "1   [Bd., Feb., Jan., FR, Str., Nr., std., SO, geschl., OP, Jun., DI, MI, DO, km, Abschn., Hg., Apr., SA, Abb.]   \n",
       "2                                                                                     [was, Perso, Mini, Kelle]   \n",
       "3                                                                                       [Mayo, Emu, Snooker-WM]   \n",
       "4                                                                                                    [DEU, UNO]   \n",
       "5                                                                                                    [atm, atü]   \n",
       "6                                                                                                    [CO2, SO2]   \n",
       "7                                                                                                    [min, var]   \n",
       "8                                                                                                           H2O   \n",
       "9                                                                                                           deu   \n",
       "10                                                                                                          Bib   \n",
       "11                                                                                                          EUR   \n",
       "12                                                                                                        Expat   \n",
       "13                                                                                                          kWh   \n",
       "14                                                                                                          tan   \n",
       "15                                                                                                          ZnO   \n",
       "\n",
       "                                                       data_count  \n",
       "0   [16, 9, 7, 7, 7, 6, 6, 6, 6, 5, 5, 5, 5, 5, 5, 5, 4, 4, 4, 4]  \n",
       "1    [1, 1, 1, 1, 1, 1, 1, 1, 1, 1, 1, 1, 1, 1, 1, 1, 1, 1, 1, 1]  \n",
       "2                                                    [1, 1, 1, 1]  \n",
       "3                                                       [1, 1, 1]  \n",
       "4                                                          [1, 1]  \n",
       "5                                                          [1, 1]  \n",
       "6                                                          [1, 1]  \n",
       "7                                                          [1, 1]  \n",
       "8                                                               1  \n",
       "9                                                               1  \n",
       "10                                                              1  \n",
       "11                                                              1  \n",
       "12                                                              1  \n",
       "13                                                              1  \n",
       "14                                                              1  \n",
       "15                                                              1  "
      ]
     },
     "execution_count": 111,
     "metadata": {},
     "output_type": "execute_result"
    }
   ],
   "source": [
    "# Übriggebliebene nach meta\n",
    "a = pak.analyse_freqs( wiktionary_merkmal_abk, ['meta','lemma_tag','data'] )\n",
    "grid(a)"
   ]
  },
  {
   "cell_type": "code",
   "execution_count": 112,
   "id": "0314b9e8-4d21-4ca5-a9ab-433320b4f6b6",
   "metadata": {
    "execution": {
     "iopub.execute_input": "2023-02-25T13:48:27.562480Z",
     "iopub.status.busy": "2023-02-25T13:48:27.562196Z",
     "iopub.status.idle": "2023-02-25T13:48:27.618182Z",
     "shell.execute_reply": "2023-02-25T13:48:27.617043Z",
     "shell.execute_reply.started": "2023-02-25T13:48:27.562452Z"
    }
   },
   "outputs": [],
   "source": [
    "# meta ist jetzt sinnlos, bis auf 'manuell'\n",
    "mask =  wiktionary_merkmal_abk.meta != 'manuell'\n",
    "wiktionary_merkmal_abk.loc[mask,'meta'] = ''"
   ]
  },
  {
   "cell_type": "code",
   "execution_count": 113,
   "id": "20351cbf-4d20-424f-b859-40ae91bfaa33",
   "metadata": {
    "execution": {
     "iopub.execute_input": "2023-02-25T13:48:27.625449Z",
     "iopub.status.busy": "2023-02-25T13:48:27.621274Z",
     "iopub.status.idle": "2023-02-25T13:48:27.700951Z",
     "shell.execute_reply": "2023-02-25T13:48:27.697686Z",
     "shell.execute_reply.started": "2023-02-25T13:48:27.625393Z"
    }
   },
   "outputs": [
    {
     "data": {
      "text/html": [
       "<div>\n",
       "<style scoped>\n",
       "    .dataframe tbody tr th:only-of-type {\n",
       "        vertical-align: middle;\n",
       "    }\n",
       "\n",
       "    .dataframe tbody tr th {\n",
       "        vertical-align: top;\n",
       "    }\n",
       "\n",
       "    .dataframe thead th {\n",
       "        text-align: right;\n",
       "    }\n",
       "</style>\n",
       "<table border=\"1\" class=\"dataframe\">\n",
       "  <thead>\n",
       "    <tr style=\"text-align: right;\">\n",
       "      <th></th>\n",
       "      <th>lemma_id</th>\n",
       "      <th>merkmal</th>\n",
       "      <th>data_id</th>\n",
       "      <th>data</th>\n",
       "      <th>data_tag</th>\n",
       "      <th>lemma_tag</th>\n",
       "      <th>num</th>\n",
       "      <th>meta</th>\n",
       "      <th>score</th>\n",
       "      <th>is_lex</th>\n",
       "    </tr>\n",
       "  </thead>\n",
       "  <tbody>\n",
       "  </tbody>\n",
       "</table>\n",
       "</div>"
      ],
      "text/plain": [
       "Empty DataFrame\n",
       "Columns: [lemma_id, merkmal, data_id, data, data_tag, lemma_tag, num, meta, score, is_lex]\n",
       "Index: []"
      ]
     },
     "execution_count": 113,
     "metadata": {},
     "output_type": "execute_result"
    }
   ],
   "source": [
    "# suche_debug wiktionary_merkmal_abk\n",
    "search_str(wiktionary_merkmal_abk, suche_debug)"
   ]
  },
  {
   "cell_type": "markdown",
   "id": "c71b3395-2d84-4425-af70-c708900f7085",
   "metadata": {},
   "source": [
    "### Analysieren"
   ]
  },
  {
   "cell_type": "code",
   "execution_count": 114,
   "id": "eb4b8b17-1f52-4a0c-8421-401688f793ea",
   "metadata": {
    "execution": {
     "iopub.execute_input": "2023-02-25T13:48:27.702069Z",
     "iopub.status.busy": "2023-02-25T13:48:27.701806Z",
     "iopub.status.idle": "2023-02-25T13:48:27.764508Z",
     "shell.execute_reply": "2023-02-25T13:48:27.763839Z",
     "shell.execute_reply.started": "2023-02-25T13:48:27.702043Z"
    }
   },
   "outputs": [
    {
     "name": "stdout",
     "output_type": "stream",
     "text": [
      "['calvinistisch', 'kalvinistisch']\n"
     ]
    },
    {
     "data": {
      "text/html": [
       "<div>\n",
       "<style scoped>\n",
       "    .dataframe tbody tr th:only-of-type {\n",
       "        vertical-align: middle;\n",
       "    }\n",
       "\n",
       "    .dataframe tbody tr th {\n",
       "        vertical-align: top;\n",
       "    }\n",
       "\n",
       "    .dataframe thead th {\n",
       "        text-align: right;\n",
       "    }\n",
       "</style>\n",
       "<table border=\"1\" class=\"dataframe\">\n",
       "  <thead>\n",
       "    <tr style=\"text-align: right;\">\n",
       "      <th></th>\n",
       "      <th>lemma_id</th>\n",
       "      <th>merkmal</th>\n",
       "      <th>data_id</th>\n",
       "      <th>data</th>\n",
       "      <th>data_tag</th>\n",
       "      <th>lemma_tag</th>\n",
       "      <th>num</th>\n",
       "      <th>meta</th>\n",
       "      <th>score</th>\n",
       "      <th>is_lex</th>\n",
       "      <th>msg</th>\n",
       "    </tr>\n",
       "  </thead>\n",
       "  <tbody>\n",
       "  </tbody>\n",
       "</table>\n",
       "</div>"
      ],
      "text/plain": [
       "Empty DataFrame\n",
       "Columns: [lemma_id, merkmal, data_id, data, data_tag, lemma_tag, num, meta, score, is_lex, msg]\n",
       "Index: []"
      ]
     },
     "execution_count": 114,
     "metadata": {},
     "output_type": "execute_result"
    }
   ],
   "source": [
    "# Gelöschte überprüfen, aus suche_debug?\n",
    "print(suche_debug)\n",
    "search_str(wiktionary_merkmal_trash, suche_debug)"
   ]
  },
  {
   "cell_type": "code",
   "execution_count": 115,
   "id": "d63df238",
   "metadata": {
    "execution": {
     "iopub.execute_input": "2023-02-25T13:48:27.766366Z",
     "iopub.status.busy": "2023-02-25T13:48:27.766102Z",
     "iopub.status.idle": "2023-02-25T13:48:27.815652Z",
     "shell.execute_reply": "2023-02-25T13:48:27.814896Z",
     "shell.execute_reply.started": "2023-02-25T13:48:27.766340Z"
    }
   },
   "outputs": [
    {
     "name": "stdout",
     "output_type": "stream",
     "text": [
      "check_mask:  0 rows\n"
     ]
    }
   ],
   "source": [
    "# Gelöschte überprüfen, aus lexeme_manuell?\n",
    "mask1 = wiktionary_merkmal_trash.lemma_id.str.endswith('_M') \n",
    "mask2 = ~wiktionary_merkmal_trash.msg.isin(['dup'])\n",
    "mask = mask1  &  mask2\n",
    "check_mask(wiktionary_merkmal_trash, mask, 0)\n",
    "#wiktionary_merkmal_trash[mask]"
   ]
  },
  {
   "cell_type": "code",
   "execution_count": 116,
   "id": "02a227d3-6470-45ce-86e5-397bdaab07e2",
   "metadata": {
    "execution": {
     "iopub.execute_input": "2023-02-25T13:48:27.820494Z",
     "iopub.status.busy": "2023-02-25T13:48:27.820150Z",
     "iopub.status.idle": "2023-02-25T13:48:27.885981Z",
     "shell.execute_reply": "2023-02-25T13:48:27.885194Z",
     "shell.execute_reply.started": "2023-02-25T13:48:27.820464Z"
    }
   },
   "outputs": [
    {
     "name": "stdout",
     "output_type": "stream",
     "text": [
      "check_mask:  0 rows\n"
     ]
    }
   ],
   "source": [
    "# Gelöschte überprüfen, aus geschütze_abkürzungen?\n",
    "mask = wiktionary_merkmal_trash.data.isin(geschütze_abkürzungen)\n",
    "check_mask(wiktionary_merkmal_trash, mask, 0)"
   ]
  },
  {
   "cell_type": "code",
   "execution_count": 117,
   "id": "81f77fe3",
   "metadata": {
    "execution": {
     "iopub.execute_input": "2023-02-25T13:48:27.888192Z",
     "iopub.status.busy": "2023-02-25T13:48:27.887777Z",
     "iopub.status.idle": "2023-02-25T13:48:28.005699Z",
     "shell.execute_reply": "2023-02-25T13:48:28.004961Z",
     "shell.execute_reply.started": "2023-02-25T13:48:27.888160Z"
    }
   },
   "outputs": [
    {
     "name": "stdout",
     "output_type": "stream",
     "text": [
      "11 rows\n"
     ]
    },
    {
     "data": {
      "text/html": [
       "<div>\n",
       "<style scoped>\n",
       "    .dataframe tbody tr th:only-of-type {\n",
       "        vertical-align: middle;\n",
       "    }\n",
       "\n",
       "    .dataframe tbody tr th {\n",
       "        vertical-align: top;\n",
       "    }\n",
       "\n",
       "    .dataframe thead th {\n",
       "        text-align: right;\n",
       "    }\n",
       "</style>\n",
       "<table border=\"1\" class=\"dataframe\">\n",
       "  <thead>\n",
       "    <tr style=\"text-align: right;\">\n",
       "      <th></th>\n",
       "      <th>msg</th>\n",
       "      <th>msg_count</th>\n",
       "      <th>msg_percent</th>\n",
       "      <th>lemma_tag</th>\n",
       "      <th>lemma_tag_count</th>\n",
       "      <th>data</th>\n",
       "      <th>data_count</th>\n",
       "    </tr>\n",
       "  </thead>\n",
       "  <tbody>\n",
       "    <tr>\n",
       "      <th>0</th>\n",
       "      <td>meta</td>\n",
       "      <td>1035</td>\n",
       "      <td>51.0</td>\n",
       "      <td>[NN, NE, ADJA, CARD, ADV, VVFIN, ITJ]</td>\n",
       "      <td>[769, 247, 8, 5, 4, 1, 1]</td>\n",
       "      <td>[chi, zho, kom, nya, ber, ful, bel, kpv, srn, diq, nbl, nde, smi, roa, NGC, tut, fur, ndo, grc, spa]</td>\n",
       "      <td>[11, 11, 5, 4, 3, 3, 3, 3, 3, 3, 3, 3, 3, 3, 3, 3, 3, 3, 2, 2]</td>\n",
       "    </tr>\n",
       "    <tr>\n",
       "      <th>1</th>\n",
       "      <td>zulang_single</td>\n",
       "      <td>338</td>\n",
       "      <td>16.6</td>\n",
       "      <td>[NN, ADJA, NE, VVFIN, TODO, PIAT, CARD, APPR, ADV]</td>\n",
       "      <td>[192, 105, 30, 4, 3, 1, 1, 1, 1]</td>\n",
       "      <td>[Summenformel, Kraftfahrzeugkennzeichen, Linguistik, Hirnnerv, alphanum, Wasserl, Ostubaf, Halbstrukturformel, Gruppenformel, Schussw, Fernschr, Morphonem, unverbr, Energie, englisch, Rechenzeichen, Vorzeichen, Flächeneinheit, Großbritannien, Landsch]</td>\n",
       "      <td>[14, 4, 3, 3, 2, 2, 2, 2, 2, 2, 2, 2, 2, 1, 1, 1, 1, 1, 1, 1]</td>\n",
       "    </tr>\n",
       "    <tr>\n",
       "      <th>2</th>\n",
       "      <td>Namen</td>\n",
       "      <td>329</td>\n",
       "      <td>16.2</td>\n",
       "      <td>NE</td>\n",
       "      <td>329</td>\n",
       "      <td>[Kfz-Kennzeichen, Balder, Benz, Ofr, Bert, Chris, UMa, Baldo, UMi, Dtl, Dtld, Bbg, Bln, Lzg, Johs, Österr, Vbg, Afr, Frankr, Frk]</td>\n",
       "      <td>[20, 6, 2, 2, 2, 2, 2, 2, 2, 1, 1, 1, 1, 1, 1, 1, 1, 1, 1, 1]</td>\n",
       "    </tr>\n",
       "    <tr>\n",
       "      <th>3</th>\n",
       "      <td>Endet_mit_Ziffer</td>\n",
       "      <td>162</td>\n",
       "      <td>8.0</td>\n",
       "      <td>[NN, NE, TODO, VVFIN]</td>\n",
       "      <td>[103, 53, 4, 2]</td>\n",
       "      <td>[ICD-10, 0-0, 0-0-0, ISO 3166-2, OR-1, A-2384, A-2325, A-2351, E 507, ISO 639-3, E 949, E 175, E 174, E 939, E 948, A-2340, G40, E 173, E 501, A-5280]</td>\n",
       "      <td>[19, 6, 4, 2, 2, 2, 2, 2, 2, 2, 1, 1, 1, 1, 1, 1, 1, 1, 1, 1]</td>\n",
       "    </tr>\n",
       "    <tr>\n",
       "      <th>4</th>\n",
       "      <td>löschmich_id</td>\n",
       "      <td>65</td>\n",
       "      <td>3.2</td>\n",
       "      <td>[NE, NN]</td>\n",
       "      <td>[61, 4]</td>\n",
       "      <td>[Div, Sozi, Hein, Heincke, Heindel, Heindl, Heine, Heinecke, Heineke, Heinel, Heinelt, Heinemann, Heinen, Heiner, Heinermann, Heinert, Heines, Heinicke, Heinig, Heink]</td>\n",
       "      <td>[1, 1, 1, 1, 1, 1, 1, 1, 1, 1, 1, 1, 1, 1, 1, 1, 1, 1, 1, 1]</td>\n",
       "    </tr>\n",
       "    <tr>\n",
       "      <th>5</th>\n",
       "      <td>löschmich_data</td>\n",
       "      <td>48</td>\n",
       "      <td>2.4</td>\n",
       "      <td>[NN, ADJA, NE, VVFIN]</td>\n",
       "      <td>[34, 9, 3, 2]</td>\n",
       "      <td>[gel, Reg, Imp, Rat, AUR, Reibe, Bibo, Kilom, Land, Basche, ECO-Codes, Objekt, DV-Vertrag, Igel, Dolle, Ampere, Baum]</td>\n",
       "      <td>[11, 9, 9, 4, 2, 2, 1, 1, 1, 1, 1, 1, 1, 1, 1, 1, 1]</td>\n",
       "    </tr>\n",
       "    <tr>\n",
       "      <th>6</th>\n",
       "      <td>nur_Ziffern</td>\n",
       "      <td>20</td>\n",
       "      <td>1.0</td>\n",
       "      <td>[ADJA CARD, CARD, ADV]</td>\n",
       "      <td>[12, 6, 2]</td>\n",
       "      <td>[100, 102, 101, 200, 300, 1000, 9000, 500, 700, 900, 10000, 400, 100000]</td>\n",
       "      <td>[3, 2, 2, 2, 2, 2, 1, 1, 1, 1, 1, 1, 1]</td>\n",
       "    </tr>\n",
       "    <tr>\n",
       "      <th>7</th>\n",
       "      <td>Bibel</td>\n",
       "      <td>12</td>\n",
       "      <td>0.6</td>\n",
       "      <td>NN</td>\n",
       "      <td>12</td>\n",
       "      <td>[2,5G, 2 Kor, 1 Kor, 1 Thess, 2 Thess, 1 Tim, 2 Tim, 2 Petr, 1 Petr, 1 Joh, 2 Joh, 3 Joh]</td>\n",
       "      <td>[1, 1, 1, 1, 1, 1, 1, 1, 1, 1, 1, 1]</td>\n",
       "    </tr>\n",
       "    <tr>\n",
       "      <th>8</th>\n",
       "      <td>zulang</td>\n",
       "      <td>10</td>\n",
       "      <td>0.5</td>\n",
       "      <td>[NN, NE]</td>\n",
       "      <td>[9, 1]</td>\n",
       "      <td>[chemische Formel, Ohmscher Widerstand, Doctor theologiae, Muster-ADV-Vertrag, Residual Current Device, Sacer Ordo Cisterciensis, Ordo Cartusiensis, Kfz-Haftpflichtversicherung, Niederländischen Antillen]</td>\n",
       "      <td>[2, 1, 1, 1, 1, 1, 1, 1, 1]</td>\n",
       "    </tr>\n",
       "    <tr>\n",
       "      <th>9</th>\n",
       "      <td>Leerstring data Müll</td>\n",
       "      <td>6</td>\n",
       "      <td>0.3</td>\n",
       "      <td>[NE, NN]</td>\n",
       "      <td>[4, 2]</td>\n",
       "      <td></td>\n",
       "      <td>6</td>\n",
       "    </tr>\n",
       "    <tr>\n",
       "      <th>10</th>\n",
       "      <td>Falsche_Partizipien</td>\n",
       "      <td>6</td>\n",
       "      <td>0.3</td>\n",
       "      <td>[VVFIN VMFIN, VVFIN]</td>\n",
       "      <td>[3, 3]</td>\n",
       "      <td>[können, sehen, hören, lassen, mögen, sollen]</td>\n",
       "      <td>[1, 1, 1, 1, 1, 1]</td>\n",
       "    </tr>\n",
       "  </tbody>\n",
       "</table>\n",
       "</div>"
      ],
      "text/plain": [
       "                     msg  msg_count  msg_percent  \\\n",
       "0                   meta       1035         51.0   \n",
       "1          zulang_single        338         16.6   \n",
       "2                  Namen        329         16.2   \n",
       "3       Endet_mit_Ziffer        162          8.0   \n",
       "4           löschmich_id         65          3.2   \n",
       "5         löschmich_data         48          2.4   \n",
       "6            nur_Ziffern         20          1.0   \n",
       "7                  Bibel         12          0.6   \n",
       "8                 zulang         10          0.5   \n",
       "9   Leerstring data Müll          6          0.3   \n",
       "10   Falsche_Partizipien          6          0.3   \n",
       "\n",
       "                                             lemma_tag  \\\n",
       "0                [NN, NE, ADJA, CARD, ADV, VVFIN, ITJ]   \n",
       "1   [NN, ADJA, NE, VVFIN, TODO, PIAT, CARD, APPR, ADV]   \n",
       "2                                                   NE   \n",
       "3                                [NN, NE, TODO, VVFIN]   \n",
       "4                                             [NE, NN]   \n",
       "5                                [NN, ADJA, NE, VVFIN]   \n",
       "6                               [ADJA CARD, CARD, ADV]   \n",
       "7                                                   NN   \n",
       "8                                             [NN, NE]   \n",
       "9                                             [NE, NN]   \n",
       "10                                [VVFIN VMFIN, VVFIN]   \n",
       "\n",
       "                     lemma_tag_count  \\\n",
       "0          [769, 247, 8, 5, 4, 1, 1]   \n",
       "1   [192, 105, 30, 4, 3, 1, 1, 1, 1]   \n",
       "2                                329   \n",
       "3                    [103, 53, 4, 2]   \n",
       "4                            [61, 4]   \n",
       "5                      [34, 9, 3, 2]   \n",
       "6                         [12, 6, 2]   \n",
       "7                                 12   \n",
       "8                             [9, 1]   \n",
       "9                             [4, 2]   \n",
       "10                            [3, 3]   \n",
       "\n",
       "                                                                                                                                                                                                                                                           data  \\\n",
       "0                                                                                                                                                          [chi, zho, kom, nya, ber, ful, bel, kpv, srn, diq, nbl, nde, smi, roa, NGC, tut, fur, ndo, grc, spa]   \n",
       "1   [Summenformel, Kraftfahrzeugkennzeichen, Linguistik, Hirnnerv, alphanum, Wasserl, Ostubaf, Halbstrukturformel, Gruppenformel, Schussw, Fernschr, Morphonem, unverbr, Energie, englisch, Rechenzeichen, Vorzeichen, Flächeneinheit, Großbritannien, Landsch]   \n",
       "2                                                                                                                             [Kfz-Kennzeichen, Balder, Benz, Ofr, Bert, Chris, UMa, Baldo, UMi, Dtl, Dtld, Bbg, Bln, Lzg, Johs, Österr, Vbg, Afr, Frankr, Frk]   \n",
       "3                                                                                                        [ICD-10, 0-0, 0-0-0, ISO 3166-2, OR-1, A-2384, A-2325, A-2351, E 507, ISO 639-3, E 949, E 175, E 174, E 939, E 948, A-2340, G40, E 173, E 501, A-5280]   \n",
       "4                                                                                       [Div, Sozi, Hein, Heincke, Heindel, Heindl, Heine, Heinecke, Heineke, Heinel, Heinelt, Heinemann, Heinen, Heiner, Heinermann, Heinert, Heines, Heinicke, Heinig, Heink]   \n",
       "5                                                                                                                                         [gel, Reg, Imp, Rat, AUR, Reibe, Bibo, Kilom, Land, Basche, ECO-Codes, Objekt, DV-Vertrag, Igel, Dolle, Ampere, Baum]   \n",
       "6                                                                                                                                                                                      [100, 102, 101, 200, 300, 1000, 9000, 500, 700, 900, 10000, 400, 100000]   \n",
       "7                                                                                                                                                                     [2,5G, 2 Kor, 1 Kor, 1 Thess, 2 Thess, 1 Tim, 2 Tim, 2 Petr, 1 Petr, 1 Joh, 2 Joh, 3 Joh]   \n",
       "8                                                  [chemische Formel, Ohmscher Widerstand, Doctor theologiae, Muster-ADV-Vertrag, Residual Current Device, Sacer Ordo Cisterciensis, Ordo Cartusiensis, Kfz-Haftpflichtversicherung, Niederländischen Antillen]   \n",
       "9                                                                                                                                                                                                                                                                 \n",
       "10                                                                                                                                                                                                                [können, sehen, hören, lassen, mögen, sollen]   \n",
       "\n",
       "                                                        data_count  \n",
       "0   [11, 11, 5, 4, 3, 3, 3, 3, 3, 3, 3, 3, 3, 3, 3, 3, 3, 3, 2, 2]  \n",
       "1    [14, 4, 3, 3, 2, 2, 2, 2, 2, 2, 2, 2, 2, 1, 1, 1, 1, 1, 1, 1]  \n",
       "2    [20, 6, 2, 2, 2, 2, 2, 2, 2, 1, 1, 1, 1, 1, 1, 1, 1, 1, 1, 1]  \n",
       "3    [19, 6, 4, 2, 2, 2, 2, 2, 2, 2, 1, 1, 1, 1, 1, 1, 1, 1, 1, 1]  \n",
       "4     [1, 1, 1, 1, 1, 1, 1, 1, 1, 1, 1, 1, 1, 1, 1, 1, 1, 1, 1, 1]  \n",
       "5             [11, 9, 9, 4, 2, 2, 1, 1, 1, 1, 1, 1, 1, 1, 1, 1, 1]  \n",
       "6                          [3, 2, 2, 2, 2, 2, 1, 1, 1, 1, 1, 1, 1]  \n",
       "7                             [1, 1, 1, 1, 1, 1, 1, 1, 1, 1, 1, 1]  \n",
       "8                                      [2, 1, 1, 1, 1, 1, 1, 1, 1]  \n",
       "9                                                                6  \n",
       "10                                              [1, 1, 1, 1, 1, 1]  "
      ]
     },
     "execution_count": 117,
     "metadata": {},
     "output_type": "execute_result"
    }
   ],
   "source": [
    "# Gelöschte anschauen\n",
    "a = pak.analyse_freqs( wiktionary_merkmal_trash, ['msg','lemma_tag','data'] )\n",
    "grid(a)"
   ]
  },
  {
   "cell_type": "code",
   "execution_count": 118,
   "id": "bd2dc0f7-3e4a-4dc1-9b1e-3e30f556a7fa",
   "metadata": {
    "execution": {
     "iopub.execute_input": "2023-02-25T13:48:28.009362Z",
     "iopub.status.busy": "2023-02-25T13:48:28.008806Z",
     "iopub.status.idle": "2023-02-25T13:48:28.086174Z",
     "shell.execute_reply": "2023-02-25T13:48:28.085360Z",
     "shell.execute_reply.started": "2023-02-25T13:48:28.009335Z"
    }
   },
   "outputs": [
    {
     "name": "stdout",
     "output_type": "stream",
     "text": [
      "2031 rows\n"
     ]
    },
    {
     "data": {
      "text/html": [
       "<div>\n",
       "<style scoped>\n",
       "    .dataframe tbody tr th:only-of-type {\n",
       "        vertical-align: middle;\n",
       "    }\n",
       "\n",
       "    .dataframe tbody tr th {\n",
       "        vertical-align: top;\n",
       "    }\n",
       "\n",
       "    .dataframe thead th {\n",
       "        text-align: right;\n",
       "    }\n",
       "</style>\n",
       "<table border=\"1\" class=\"dataframe\">\n",
       "  <thead>\n",
       "    <tr style=\"text-align: right;\">\n",
       "      <th></th>\n",
       "      <th>lemma_id</th>\n",
       "      <th>merkmal</th>\n",
       "      <th>data_id</th>\n",
       "      <th>data</th>\n",
       "      <th>data_tag</th>\n",
       "      <th>lemma_tag</th>\n",
       "      <th>num</th>\n",
       "      <th>meta</th>\n",
       "      <th>score</th>\n",
       "      <th>is_lex</th>\n",
       "      <th>msg</th>\n",
       "    </tr>\n",
       "  </thead>\n",
       "  <tbody>\n",
       "    <tr>\n",
       "      <th>592833</th>\n",
       "      <td>Blindgänger</td>\n",
       "      <td>abk</td>\n",
       "      <td>Blindgänger~ERW</td>\n",
       "      <td>ERW</td>\n",
       "      <td></td>\n",
       "      <td>NN</td>\n",
       "      <td>1</td>\n",
       "      <td>international</td>\n",
       "      <td>118.693802</td>\n",
       "      <td>True</td>\n",
       "      <td>meta</td>\n",
       "    </tr>\n",
       "    <tr>\n",
       "      <th>592834</th>\n",
       "      <td>Blindgänger</td>\n",
       "      <td>abk</td>\n",
       "      <td>Blindgänger~MEC</td>\n",
       "      <td>MEC</td>\n",
       "      <td></td>\n",
       "      <td>NN</td>\n",
       "      <td>1</td>\n",
       "      <td>international</td>\n",
       "      <td>118.693802</td>\n",
       "      <td>True</td>\n",
       "      <td>meta</td>\n",
       "    </tr>\n",
       "    <tr>\n",
       "      <th>592835</th>\n",
       "      <td>Blindgänger</td>\n",
       "      <td>abk</td>\n",
       "      <td>Blindgänger~UXB</td>\n",
       "      <td>UXB</td>\n",
       "      <td></td>\n",
       "      <td>NN</td>\n",
       "      <td>1</td>\n",
       "      <td>international</td>\n",
       "      <td>118.693802</td>\n",
       "      <td>True</td>\n",
       "      <td>meta</td>\n",
       "    </tr>\n",
       "    <tr>\n",
       "      <th>592836</th>\n",
       "      <td>Blindgänger</td>\n",
       "      <td>abk</td>\n",
       "      <td>Blindgänger~UXO</td>\n",
       "      <td>UXO</td>\n",
       "      <td></td>\n",
       "      <td>NN</td>\n",
       "      <td>1</td>\n",
       "      <td>international</td>\n",
       "      <td>118.693802</td>\n",
       "      <td>True</td>\n",
       "      <td>meta</td>\n",
       "    </tr>\n",
       "    <tr>\n",
       "      <th>46514</th>\n",
       "      <td>Arbeit</td>\n",
       "      <td>abk</td>\n",
       "      <td>Energie</td>\n",
       "      <td>Energie</td>\n",
       "      <td></td>\n",
       "      <td>NN</td>\n",
       "      <td>7</td>\n",
       "      <td></td>\n",
       "      <td>100.755768</td>\n",
       "      <td>True</td>\n",
       "      <td>zulang_single</td>\n",
       "    </tr>\n",
       "    <tr>\n",
       "      <th>...</th>\n",
       "      <td>...</td>\n",
       "      <td>...</td>\n",
       "      <td>...</td>\n",
       "      <td>...</td>\n",
       "      <td>...</td>\n",
       "      <td>...</td>\n",
       "      <td>...</td>\n",
       "      <td>...</td>\n",
       "      <td>...</td>\n",
       "      <td>...</td>\n",
       "      <td>...</td>\n",
       "    </tr>\n",
       "    <tr>\n",
       "      <th>230543</th>\n",
       "      <td>Bit_1</td>\n",
       "      <td>abk</td>\n",
       "      <td>Bit_1~bgk</td>\n",
       "      <td>bgk</td>\n",
       "      <td></td>\n",
       "      <td>NE</td>\n",
       "      <td>1</td>\n",
       "      <td>ISO</td>\n",
       "      <td>1.250304</td>\n",
       "      <td>True</td>\n",
       "      <td>Namen</td>\n",
       "    </tr>\n",
       "    <tr>\n",
       "      <th>615890</th>\n",
       "      <td>West_Berawan</td>\n",
       "      <td>abk</td>\n",
       "      <td>West_Berawan~zbw</td>\n",
       "      <td>zbw</td>\n",
       "      <td></td>\n",
       "      <td>NN</td>\n",
       "      <td>1</td>\n",
       "      <td>ISO</td>\n",
       "      <td>1.216282</td>\n",
       "      <td>True</td>\n",
       "      <td>meta</td>\n",
       "    </tr>\n",
       "    <tr>\n",
       "      <th>460570</th>\n",
       "      <td>geliefert</td>\n",
       "      <td>abk</td>\n",
       "      <td>gel</td>\n",
       "      <td>gel</td>\n",
       "      <td></td>\n",
       "      <td>ADJA</td>\n",
       "      <td></td>\n",
       "      <td></td>\n",
       "      <td>0.628571</td>\n",
       "      <td>True</td>\n",
       "      <td>löschmich_data</td>\n",
       "    </tr>\n",
       "    <tr>\n",
       "      <th>430967</th>\n",
       "      <td>gelandet</td>\n",
       "      <td>abk</td>\n",
       "      <td>gel</td>\n",
       "      <td>gel</td>\n",
       "      <td></td>\n",
       "      <td>ADJA</td>\n",
       "      <td></td>\n",
       "      <td></td>\n",
       "      <td>0.595918</td>\n",
       "      <td>True</td>\n",
       "      <td>löschmich_data</td>\n",
       "    </tr>\n",
       "    <tr>\n",
       "      <th>430754</th>\n",
       "      <td>gelöscht</td>\n",
       "      <td>abk</td>\n",
       "      <td>gel</td>\n",
       "      <td>gel</td>\n",
       "      <td></td>\n",
       "      <td>ADJA</td>\n",
       "      <td></td>\n",
       "      <td></td>\n",
       "      <td>0.500000</td>\n",
       "      <td>True</td>\n",
       "      <td>löschmich_data</td>\n",
       "    </tr>\n",
       "  </tbody>\n",
       "</table>\n",
       "<p>2031 rows × 11 columns</p>\n",
       "</div>"
      ],
      "text/plain": [
       "            lemma_id merkmal           data_id     data data_tag lemma_tag  \\\n",
       "592833   Blindgänger     abk   Blindgänger~ERW      ERW                 NN   \n",
       "592834   Blindgänger     abk   Blindgänger~MEC      MEC                 NN   \n",
       "592835   Blindgänger     abk   Blindgänger~UXB      UXB                 NN   \n",
       "592836   Blindgänger     abk   Blindgänger~UXO      UXO                 NN   \n",
       "46514         Arbeit     abk           Energie  Energie                 NN   \n",
       "...              ...     ...               ...      ...      ...       ...   \n",
       "230543         Bit_1     abk         Bit_1~bgk      bgk                 NE   \n",
       "615890  West_Berawan     abk  West_Berawan~zbw      zbw                 NN   \n",
       "460570     geliefert     abk               gel      gel               ADJA   \n",
       "430967      gelandet     abk               gel      gel               ADJA   \n",
       "430754      gelöscht     abk               gel      gel               ADJA   \n",
       "\n",
       "       num           meta       score  is_lex             msg  \n",
       "592833   1  international  118.693802    True            meta  \n",
       "592834   1  international  118.693802    True            meta  \n",
       "592835   1  international  118.693802    True            meta  \n",
       "592836   1  international  118.693802    True            meta  \n",
       "46514    7                 100.755768    True   zulang_single  \n",
       "...     ..            ...         ...     ...             ...  \n",
       "230543   1            ISO    1.250304    True           Namen  \n",
       "615890   1            ISO    1.216282    True            meta  \n",
       "460570                       0.628571    True  löschmich_data  \n",
       "430967                       0.595918    True  löschmich_data  \n",
       "430754                       0.500000    True  löschmich_data  \n",
       "\n",
       "[2031 rows x 11 columns]"
      ]
     },
     "execution_count": 118,
     "metadata": {},
     "output_type": "execute_result"
    }
   ],
   "source": [
    "# Gelöschte mit dem höchsten score\n",
    "mask = ~wiktionary_merkmal_trash.msg.isin(['dup'])\n",
    "grid(wiktionary_merkmal_trash[mask].sort_values('score',ascending=False))"
   ]
  },
  {
   "cell_type": "code",
   "execution_count": 119,
   "id": "61ed508e-6e33-4d02-95e4-9faebb809e60",
   "metadata": {
    "execution": {
     "iopub.execute_input": "2023-02-25T13:48:28.096446Z",
     "iopub.status.busy": "2023-02-25T13:48:28.091641Z",
     "iopub.status.idle": "2023-02-25T13:48:28.211642Z",
     "shell.execute_reply": "2023-02-25T13:48:28.210969Z",
     "shell.execute_reply.started": "2023-02-25T13:48:28.096378Z"
    }
   },
   "outputs": [
    {
     "data": {
      "text/html": [
       "<div>\n",
       "<style scoped>\n",
       "    .dataframe tbody tr th:only-of-type {\n",
       "        vertical-align: middle;\n",
       "    }\n",
       "\n",
       "    .dataframe tbody tr th {\n",
       "        vertical-align: top;\n",
       "    }\n",
       "\n",
       "    .dataframe thead th {\n",
       "        text-align: right;\n",
       "    }\n",
       "</style>\n",
       "<table border=\"1\" class=\"dataframe\">\n",
       "  <thead>\n",
       "    <tr style=\"text-align: right;\">\n",
       "      <th></th>\n",
       "      <th>lemma_tag</th>\n",
       "      <th>lemma_tag_count</th>\n",
       "      <th>lemma_tag_percent</th>\n",
       "      <th>meta</th>\n",
       "      <th>meta_count</th>\n",
       "      <th>data</th>\n",
       "      <th>data_count</th>\n",
       "    </tr>\n",
       "  </thead>\n",
       "  <tbody>\n",
       "    <tr>\n",
       "      <th>0</th>\n",
       "      <td>NN</td>\n",
       "      <td>2085</td>\n",
       "      <td>67.5</td>\n",
       "      <td>[, manuell]</td>\n",
       "      <td>[2017, 68]</td>\n",
       "      <td>[Str, Pfl, Konv, Ins, Gen, Ztr, Adj, Konj, Pat, NaCl, Ver, Fut, Chr, Erl, StB, Demogr, Geb, Hdl, Anl, Pos]</td>\n",
       "      <td>[16, 7, 7, 6, 6, 5, 5, 5, 4, 4, 4, 4, 4, 4, 4, 4, 3, 3, 3, 3]</td>\n",
       "    </tr>\n",
       "    <tr>\n",
       "      <th>1</th>\n",
       "      <td>ADJA</td>\n",
       "      <td>616</td>\n",
       "      <td>19.9</td>\n",
       "      <td>[, manuell]</td>\n",
       "      <td>[609, 7]</td>\n",
       "      <td>[ind, ged, get, unv, afr, imp, inf, geh, med, vsl, gebr, ungen, soz, reg, frdl, akt, fries, pers, hurr, isl]</td>\n",
       "      <td>[7, 5, 5, 4, 4, 4, 4, 3, 3, 3, 3, 3, 2, 2, 2, 2, 2, 2, 2, 2]</td>\n",
       "    </tr>\n",
       "    <tr>\n",
       "      <th>2</th>\n",
       "      <td>NE</td>\n",
       "      <td>126</td>\n",
       "      <td>4.1</td>\n",
       "      <td>[, manuell]</td>\n",
       "      <td>[125, 1]</td>\n",
       "      <td>[LUX, RUS, BAD, MKD, ABG, GKW, HAL, DEU, BRB, CHN, AUS, CHE, L.E., MUC, ISO, AFG, AUT, FRA, GBR, GRC]</td>\n",
       "      <td>[2, 2, 2, 2, 2, 2, 2, 1, 1, 1, 1, 1, 1, 1, 1, 1, 1, 1, 1, 1]</td>\n",
       "    </tr>\n",
       "    <tr>\n",
       "      <th>3</th>\n",
       "      <td>ADV</td>\n",
       "      <td>102</td>\n",
       "      <td>3.3</td>\n",
       "      <td>[, manuell]</td>\n",
       "      <td>[98, 4]</td>\n",
       "      <td>[bes, pass, insb, insbes, ebd, östl, dto, sod, bisl, eig, eigtl, teilw, bspw, zur, asb, desgl, dzt, sof, min, mind]</td>\n",
       "      <td>[3, 2, 2, 2, 2, 2, 1, 1, 1, 1, 1, 1, 1, 1, 1, 1, 1, 1, 1, 1]</td>\n",
       "    </tr>\n",
       "    <tr>\n",
       "      <th>4</th>\n",
       "      <td>TODO</td>\n",
       "      <td>36</td>\n",
       "      <td>1.2</td>\n",
       "      <td></td>\n",
       "      <td>36</td>\n",
       "      <td>[Chemie, ad lib, s. A., s.A., sel. A., sel.A., gültig, S. M., m. E., i. E., C.c., S. Em., S. H., m. m., z. H., z. Hd., HDTV, a. t., a. l., ad l]</td>\n",
       "      <td>[4, 2, 1, 1, 1, 1, 1, 1, 1, 1, 1, 1, 1, 1, 1, 1, 1, 1, 1, 1]</td>\n",
       "    </tr>\n",
       "    <tr>\n",
       "      <th>5</th>\n",
       "      <td>VVFIN</td>\n",
       "      <td>25</td>\n",
       "      <td>0.8</td>\n",
       "      <td>[, manuell]</td>\n",
       "      <td>[23, 2]</td>\n",
       "      <td>[erk, inf, imp, gez, abgez, abn, rad, zit, anschl, entf, herst, betr, vgl, vgl., beh, vergl, geb., abr, dest, rat]</td>\n",
       "      <td>[4, 2, 2, 1, 1, 1, 1, 1, 1, 1, 1, 1, 1, 1, 1, 1, 1, 1, 1, 1]</td>\n",
       "    </tr>\n",
       "    <tr>\n",
       "      <th>6</th>\n",
       "      <td>KOMBI</td>\n",
       "      <td>25</td>\n",
       "      <td>0.8</td>\n",
       "      <td>[manuell, ]</td>\n",
       "      <td>[17, 8]</td>\n",
       "      <td>[i. Allg., Anm. d. Red., i. A., i.A., k.A., o. B., o. dgl., o.ä., s. a., s. o., s. u., s.a., s.o., s.u., u. a., u. dgl., u.U., u.a., u.s.w., u.ä.]</td>\n",
       "      <td>[2, 1, 1, 1, 1, 1, 1, 1, 1, 1, 1, 1, 1, 1, 1, 1, 1, 1, 1, 1]</td>\n",
       "    </tr>\n",
       "    <tr>\n",
       "      <th>7</th>\n",
       "      <td>APPR</td>\n",
       "      <td>19</td>\n",
       "      <td>0.6</td>\n",
       "      <td>[, manuell]</td>\n",
       "      <td>[18, 1]</td>\n",
       "      <td>[entg, innerh, anl, vs., bez, bezgl, bzgl, mod, betr, hins, inf, gem, zzgl, abzgl, inkl, südl, westl, östl, exkl]</td>\n",
       "      <td>[1, 1, 1, 1, 1, 1, 1, 1, 1, 1, 1, 1, 1, 1, 1, 1, 1, 1, 1]</td>\n",
       "    </tr>\n",
       "    <tr>\n",
       "      <th>8</th>\n",
       "      <td></td>\n",
       "      <td>10</td>\n",
       "      <td>0.3</td>\n",
       "      <td></td>\n",
       "      <td>10</td>\n",
       "      <td>[dies, nen, inf, jdm, jmdm, jdn, jmdn, jds, jmds]</td>\n",
       "      <td>[2, 1, 1, 1, 1, 1, 1, 1, 1]</td>\n",
       "    </tr>\n",
       "    <tr>\n",
       "      <th>9</th>\n",
       "      <td>KON</td>\n",
       "      <td>7</td>\n",
       "      <td>0.2</td>\n",
       "      <td>[, manuell]</td>\n",
       "      <td>[4, 3]</td>\n",
       "      <td>[&amp;, bezw, bzw, bzw., d.h., resp, rsp]</td>\n",
       "      <td>[1, 1, 1, 1, 1, 1, 1]</td>\n",
       "    </tr>\n",
       "    <tr>\n",
       "      <th>10</th>\n",
       "      <td>CARD</td>\n",
       "      <td>6</td>\n",
       "      <td>0.2</td>\n",
       "      <td>[, manuell]</td>\n",
       "      <td>[5, 1]</td>\n",
       "      <td>[tsd, Mio., ne, nen, ner, nes]</td>\n",
       "      <td>[1, 1, 1, 1, 1, 1]</td>\n",
       "    </tr>\n",
       "    <tr>\n",
       "      <th>11</th>\n",
       "      <td>NN NE</td>\n",
       "      <td>5</td>\n",
       "      <td>0.2</td>\n",
       "      <td>[, manuell]</td>\n",
       "      <td>[3, 2]</td>\n",
       "      <td>[Jungfr, Vir, Chr, Chr., IS]</td>\n",
       "      <td>[1, 1, 1, 1, 1]</td>\n",
       "    </tr>\n",
       "    <tr>\n",
       "      <th>12</th>\n",
       "      <td>KOUS</td>\n",
       "      <td>4</td>\n",
       "      <td>0.1</td>\n",
       "      <td>[, manuell]</td>\n",
       "      <td>[2, 2]</td>\n",
       "      <td>[z. B., z.B., bspw., sof]</td>\n",
       "      <td>[1, 1, 1, 1]</td>\n",
       "    </tr>\n",
       "    <tr>\n",
       "      <th>13</th>\n",
       "      <td>PIAT</td>\n",
       "      <td>3</td>\n",
       "      <td>0.1</td>\n",
       "      <td></td>\n",
       "      <td>3</td>\n",
       "      <td>[was, niem, jmd]</td>\n",
       "      <td>[1, 1, 1]</td>\n",
       "    </tr>\n",
       "    <tr>\n",
       "      <th>14</th>\n",
       "      <td>PDAT</td>\n",
       "      <td>3</td>\n",
       "      <td>0.1</td>\n",
       "      <td></td>\n",
       "      <td>3</td>\n",
       "      <td>[ders, dergl, dgl]</td>\n",
       "      <td>[1, 1, 1]</td>\n",
       "    </tr>\n",
       "    <tr>\n",
       "      <th>15</th>\n",
       "      <td>$(</td>\n",
       "      <td>3</td>\n",
       "      <td>0.1</td>\n",
       "      <td>manuell</td>\n",
       "      <td>3</td>\n",
       "      <td>[°, ° C, ° F]</td>\n",
       "      <td>[1, 1, 1]</td>\n",
       "    </tr>\n",
       "    <tr>\n",
       "      <th>16</th>\n",
       "      <td>PTKANT</td>\n",
       "      <td>3</td>\n",
       "      <td>0.1</td>\n",
       "      <td></td>\n",
       "      <td>3</td>\n",
       "      <td>[O. K., O.K., o. k.]</td>\n",
       "      <td>[1, 1, 1]</td>\n",
       "    </tr>\n",
       "    <tr>\n",
       "      <th>17</th>\n",
       "      <td>ZFIX</td>\n",
       "      <td>3</td>\n",
       "      <td>0.1</td>\n",
       "      <td></td>\n",
       "      <td>3</td>\n",
       "      <td>[-sch, -schft, -%ig]</td>\n",
       "      <td>[1, 1, 1]</td>\n",
       "    </tr>\n",
       "    <tr>\n",
       "      <th>18</th>\n",
       "      <td>ADV APPR</td>\n",
       "      <td>2</td>\n",
       "      <td>0.1</td>\n",
       "      <td></td>\n",
       "      <td>2</td>\n",
       "      <td>[ggb, ggü]</td>\n",
       "      <td>[1, 1]</td>\n",
       "    </tr>\n",
       "    <tr>\n",
       "      <th>19</th>\n",
       "      <td>APPO APPR</td>\n",
       "      <td>2</td>\n",
       "      <td>0.1</td>\n",
       "      <td></td>\n",
       "      <td>2</td>\n",
       "      <td>[betr, entspr]</td>\n",
       "      <td>[1, 1]</td>\n",
       "    </tr>\n",
       "    <tr>\n",
       "      <th>20</th>\n",
       "      <td>ADV ADJD</td>\n",
       "      <td>1</td>\n",
       "      <td>0.0</td>\n",
       "      <td>manuell</td>\n",
       "      <td>1</td>\n",
       "      <td>ca.</td>\n",
       "      <td>1</td>\n",
       "    </tr>\n",
       "    <tr>\n",
       "      <th>21</th>\n",
       "      <td>ITJ</td>\n",
       "      <td>1</td>\n",
       "      <td>0.0</td>\n",
       "      <td></td>\n",
       "      <td>1</td>\n",
       "      <td>sers</td>\n",
       "      <td>1</td>\n",
       "    </tr>\n",
       "    <tr>\n",
       "      <th>22</th>\n",
       "      <td>ADV KON</td>\n",
       "      <td>1</td>\n",
       "      <td>0.0</td>\n",
       "      <td></td>\n",
       "      <td>1</td>\n",
       "      <td>näml</td>\n",
       "      <td>1</td>\n",
       "    </tr>\n",
       "  </tbody>\n",
       "</table>\n",
       "</div>"
      ],
      "text/plain": [
       "    lemma_tag  lemma_tag_count  lemma_tag_percent         meta  meta_count  \\\n",
       "0          NN             2085               67.5  [, manuell]  [2017, 68]   \n",
       "1        ADJA              616               19.9  [, manuell]    [609, 7]   \n",
       "2          NE              126                4.1  [, manuell]    [125, 1]   \n",
       "3         ADV              102                3.3  [, manuell]     [98, 4]   \n",
       "4        TODO               36                1.2                       36   \n",
       "5       VVFIN               25                0.8  [, manuell]     [23, 2]   \n",
       "6       KOMBI               25                0.8  [manuell, ]     [17, 8]   \n",
       "7        APPR               19                0.6  [, manuell]     [18, 1]   \n",
       "8                           10                0.3                       10   \n",
       "9         KON                7                0.2  [, manuell]      [4, 3]   \n",
       "10       CARD                6                0.2  [, manuell]      [5, 1]   \n",
       "11      NN NE                5                0.2  [, manuell]      [3, 2]   \n",
       "12       KOUS                4                0.1  [, manuell]      [2, 2]   \n",
       "13       PIAT                3                0.1                        3   \n",
       "14       PDAT                3                0.1                        3   \n",
       "15         $(                3                0.1      manuell           3   \n",
       "16     PTKANT                3                0.1                        3   \n",
       "17       ZFIX                3                0.1                        3   \n",
       "18   ADV APPR                2                0.1                        2   \n",
       "19  APPO APPR                2                0.1                        2   \n",
       "20   ADV ADJD                1                0.0      manuell           1   \n",
       "21        ITJ                1                0.0                        1   \n",
       "22    ADV KON                1                0.0                        1   \n",
       "\n",
       "                                                                                                                                                  data  \\\n",
       "0                                           [Str, Pfl, Konv, Ins, Gen, Ztr, Adj, Konj, Pat, NaCl, Ver, Fut, Chr, Erl, StB, Demogr, Geb, Hdl, Anl, Pos]   \n",
       "1                                         [ind, ged, get, unv, afr, imp, inf, geh, med, vsl, gebr, ungen, soz, reg, frdl, akt, fries, pers, hurr, isl]   \n",
       "2                                                [LUX, RUS, BAD, MKD, ABG, GKW, HAL, DEU, BRB, CHN, AUS, CHE, L.E., MUC, ISO, AFG, AUT, FRA, GBR, GRC]   \n",
       "3                                  [bes, pass, insb, insbes, ebd, östl, dto, sod, bisl, eig, eigtl, teilw, bspw, zur, asb, desgl, dzt, sof, min, mind]   \n",
       "4     [Chemie, ad lib, s. A., s.A., sel. A., sel.A., gültig, S. M., m. E., i. E., C.c., S. Em., S. H., m. m., z. H., z. Hd., HDTV, a. t., a. l., ad l]   \n",
       "5                                   [erk, inf, imp, gez, abgez, abn, rad, zit, anschl, entf, herst, betr, vgl, vgl., beh, vergl, geb., abr, dest, rat]   \n",
       "6   [i. Allg., Anm. d. Red., i. A., i.A., k.A., o. B., o. dgl., o.ä., s. a., s. o., s. u., s.a., s.o., s.u., u. a., u. dgl., u.U., u.a., u.s.w., u.ä.]   \n",
       "7                                    [entg, innerh, anl, vs., bez, bezgl, bzgl, mod, betr, hins, inf, gem, zzgl, abzgl, inkl, südl, westl, östl, exkl]   \n",
       "8                                                                                                    [dies, nen, inf, jdm, jmdm, jdn, jmdn, jds, jmds]   \n",
       "9                                                                                                                [&, bezw, bzw, bzw., d.h., resp, rsp]   \n",
       "10                                                                                                                      [tsd, Mio., ne, nen, ner, nes]   \n",
       "11                                                                                                                        [Jungfr, Vir, Chr, Chr., IS]   \n",
       "12                                                                                                                           [z. B., z.B., bspw., sof]   \n",
       "13                                                                                                                                    [was, niem, jmd]   \n",
       "14                                                                                                                                  [ders, dergl, dgl]   \n",
       "15                                                                                                                                       [°, ° C, ° F]   \n",
       "16                                                                                                                                [O. K., O.K., o. k.]   \n",
       "17                                                                                                                                [-sch, -schft, -%ig]   \n",
       "18                                                                                                                                          [ggb, ggü]   \n",
       "19                                                                                                                                      [betr, entspr]   \n",
       "20                                                                                                                                                 ca.   \n",
       "21                                                                                                                                                sers   \n",
       "22                                                                                                                                                näml   \n",
       "\n",
       "                                                       data_count  \n",
       "0   [16, 7, 7, 6, 6, 5, 5, 5, 4, 4, 4, 4, 4, 4, 4, 4, 3, 3, 3, 3]  \n",
       "1    [7, 5, 5, 4, 4, 4, 4, 3, 3, 3, 3, 3, 2, 2, 2, 2, 2, 2, 2, 2]  \n",
       "2    [2, 2, 2, 2, 2, 2, 2, 1, 1, 1, 1, 1, 1, 1, 1, 1, 1, 1, 1, 1]  \n",
       "3    [3, 2, 2, 2, 2, 2, 1, 1, 1, 1, 1, 1, 1, 1, 1, 1, 1, 1, 1, 1]  \n",
       "4    [4, 2, 1, 1, 1, 1, 1, 1, 1, 1, 1, 1, 1, 1, 1, 1, 1, 1, 1, 1]  \n",
       "5    [4, 2, 2, 1, 1, 1, 1, 1, 1, 1, 1, 1, 1, 1, 1, 1, 1, 1, 1, 1]  \n",
       "6    [2, 1, 1, 1, 1, 1, 1, 1, 1, 1, 1, 1, 1, 1, 1, 1, 1, 1, 1, 1]  \n",
       "7       [1, 1, 1, 1, 1, 1, 1, 1, 1, 1, 1, 1, 1, 1, 1, 1, 1, 1, 1]  \n",
       "8                                     [2, 1, 1, 1, 1, 1, 1, 1, 1]  \n",
       "9                                           [1, 1, 1, 1, 1, 1, 1]  \n",
       "10                                             [1, 1, 1, 1, 1, 1]  \n",
       "11                                                [1, 1, 1, 1, 1]  \n",
       "12                                                   [1, 1, 1, 1]  \n",
       "13                                                      [1, 1, 1]  \n",
       "14                                                      [1, 1, 1]  \n",
       "15                                                      [1, 1, 1]  \n",
       "16                                                      [1, 1, 1]  \n",
       "17                                                      [1, 1, 1]  \n",
       "18                                                         [1, 1]  \n",
       "19                                                         [1, 1]  \n",
       "20                                                              1  \n",
       "21                                                              1  \n",
       "22                                                              1  "
      ]
     },
     "execution_count": 119,
     "metadata": {},
     "output_type": "execute_result"
    }
   ],
   "source": [
    "# Verbliebene nach tag\n",
    "pak.analyse_freqs(wiktionary_merkmal_abk,['lemma_tag','meta','data'])"
   ]
  },
  {
   "cell_type": "code",
   "execution_count": 120,
   "id": "d3df446b-40d0-4c6f-be7e-5d88f402bbb7",
   "metadata": {
    "execution": {
     "iopub.execute_input": "2023-02-25T13:48:28.219432Z",
     "iopub.status.busy": "2023-02-25T13:48:28.219139Z",
     "iopub.status.idle": "2023-02-25T13:48:28.292677Z",
     "shell.execute_reply": "2023-02-25T13:48:28.291816Z",
     "shell.execute_reply.started": "2023-02-25T13:48:28.219409Z"
    }
   },
   "outputs": [
    {
     "name": "stdout",
     "output_type": "stream",
     "text": [
      "['calvinistisch', 'kalvinistisch']\n"
     ]
    },
    {
     "data": {
      "text/html": [
       "<div>\n",
       "<style scoped>\n",
       "    .dataframe tbody tr th:only-of-type {\n",
       "        vertical-align: middle;\n",
       "    }\n",
       "\n",
       "    .dataframe tbody tr th {\n",
       "        vertical-align: top;\n",
       "    }\n",
       "\n",
       "    .dataframe thead th {\n",
       "        text-align: right;\n",
       "    }\n",
       "</style>\n",
       "<table border=\"1\" class=\"dataframe\">\n",
       "  <thead>\n",
       "    <tr style=\"text-align: right;\">\n",
       "      <th></th>\n",
       "      <th>lemma_id</th>\n",
       "      <th>merkmal</th>\n",
       "      <th>data_id</th>\n",
       "      <th>data</th>\n",
       "      <th>data_tag</th>\n",
       "      <th>lemma_tag</th>\n",
       "      <th>num</th>\n",
       "      <th>meta</th>\n",
       "      <th>score</th>\n",
       "      <th>is_lex</th>\n",
       "    </tr>\n",
       "  </thead>\n",
       "  <tbody>\n",
       "  </tbody>\n",
       "</table>\n",
       "</div>"
      ],
      "text/plain": [
       "Empty DataFrame\n",
       "Columns: [lemma_id, merkmal, data_id, data, data_tag, lemma_tag, num, meta, score, is_lex]\n",
       "Index: []"
      ]
     },
     "execution_count": 120,
     "metadata": {},
     "output_type": "execute_result"
    }
   ],
   "source": [
    "# suche_debug wiktionary_merkmal_abk\n",
    "print(suche_debug)\n",
    "search_str(wiktionary_merkmal_abk, suche_debug)"
   ]
  },
  {
   "cell_type": "code",
   "execution_count": 121,
   "id": "8b1ad473-279a-4513-b132-2a42537b0b71",
   "metadata": {
    "execution": {
     "iopub.execute_input": "2023-02-25T13:48:28.293932Z",
     "iopub.status.busy": "2023-02-25T13:48:28.293608Z",
     "iopub.status.idle": "2023-02-25T13:48:28.355203Z",
     "shell.execute_reply": "2023-02-25T13:48:28.353556Z",
     "shell.execute_reply.started": "2023-02-25T13:48:28.293907Z"
    }
   },
   "outputs": [],
   "source": [
    "# suche_debug wiktionary_merkmal\n",
    "#mask = wiktionary_merkmal.merkmal.isin(['gm'])\n",
    "#a = search_str(wiktionary_merkmal[mask], suche_debug)\n",
    "#grid(a.sort_values('lemma_id'))"
   ]
  },
  {
   "cell_type": "markdown",
   "id": "1c473759-d830-4c27-96cf-baddc0143171",
   "metadata": {},
   "source": [
    "### wiktionary_merkmal_abk korrigieren"
   ]
  },
  {
   "cell_type": "code",
   "execution_count": 122,
   "id": "eff11402",
   "metadata": {
    "execution": {
     "iopub.execute_input": "2023-02-25T13:48:28.356316Z",
     "iopub.status.busy": "2023-02-25T13:48:28.356031Z",
     "iopub.status.idle": "2023-02-25T13:48:28.411700Z",
     "shell.execute_reply": "2023-02-25T13:48:28.410851Z",
     "shell.execute_reply.started": "2023-02-25T13:48:28.356287Z"
    }
   },
   "outputs": [],
   "source": [
    "# Einzelne Worte löschen\n",
    "r = ['(grad)',]\n",
    "wiktionary_merkmal_abk['data'] = pak.remove_str(wiktionary_merkmal_abk.data, r)"
   ]
  },
  {
   "cell_type": "code",
   "execution_count": 123,
   "id": "70d21b4e",
   "metadata": {
    "execution": {
     "iopub.execute_input": "2023-02-25T13:48:28.413118Z",
     "iopub.status.busy": "2023-02-25T13:48:28.412842Z",
     "iopub.status.idle": "2023-02-25T13:48:28.521309Z",
     "shell.execute_reply": "2023-02-25T13:48:28.520536Z",
     "shell.execute_reply.started": "2023-02-25T13:48:28.413094Z"
    }
   },
   "outputs": [
    {
     "name": "stdout",
     "output_type": "stream",
     "text": [
      "check_mask:  2 rows\n",
      "2 rows out of 3088\n"
     ]
    },
    {
     "data": {
      "text/html": [
       "<div>\n",
       "<style scoped>\n",
       "    .dataframe tbody tr th:only-of-type {\n",
       "        vertical-align: middle;\n",
       "    }\n",
       "\n",
       "    .dataframe tbody tr th {\n",
       "        vertical-align: top;\n",
       "    }\n",
       "\n",
       "    .dataframe thead th {\n",
       "        text-align: right;\n",
       "    }\n",
       "</style>\n",
       "<table border=\"1\" class=\"dataframe\">\n",
       "  <thead>\n",
       "    <tr style=\"text-align: right;\">\n",
       "      <th></th>\n",
       "      <th>lemma_id</th>\n",
       "      <th>merkmal</th>\n",
       "      <th>data_id</th>\n",
       "      <th>data</th>\n",
       "      <th>data_tag</th>\n",
       "      <th>lemma_tag</th>\n",
       "      <th>num</th>\n",
       "      <th>meta</th>\n",
       "      <th>score</th>\n",
       "      <th>is_lex</th>\n",
       "    </tr>\n",
       "  </thead>\n",
       "  <tbody>\n",
       "    <tr>\n",
       "      <th>186271</th>\n",
       "      <td>Steuerberater</td>\n",
       "      <td>abk</td>\n",
       "      <td>Steuerberater~St.-Ber</td>\n",
       "      <td>St.-Ber.</td>\n",
       "      <td></td>\n",
       "      <td>NN</td>\n",
       "      <td>1</td>\n",
       "      <td></td>\n",
       "      <td>10.803159</td>\n",
       "      <td>True</td>\n",
       "    </tr>\n",
       "    <tr>\n",
       "      <th>313841</th>\n",
       "      <td>Steuernummer</td>\n",
       "      <td>abk</td>\n",
       "      <td>Steuernummer~St.-Nr</td>\n",
       "      <td>St.-Nr.</td>\n",
       "      <td></td>\n",
       "      <td>NN</td>\n",
       "      <td>1</td>\n",
       "      <td></td>\n",
       "      <td>4.741191</td>\n",
       "      <td>True</td>\n",
       "    </tr>\n",
       "  </tbody>\n",
       "</table>\n",
       "</div>"
      ],
      "text/plain": [
       "             lemma_id merkmal                data_id      data data_tag  \\\n",
       "186271  Steuerberater     abk  Steuerberater~St.-Ber  St.-Ber.            \n",
       "313841   Steuernummer     abk    Steuernummer~St.-Nr   St.-Nr.            \n",
       "\n",
       "       lemma_tag num meta      score  is_lex  \n",
       "186271        NN   1       10.803159    True  \n",
       "313841        NN   1        4.741191    True  "
      ]
     },
     "execution_count": 123,
     "metadata": {},
     "output_type": "execute_result"
    }
   ],
   "source": [
    "# korrigieren: Punkt innen ohne Punkt hinten\n",
    "# Das ist eigentlich schon weiter oben passiert\n",
    "endet_nicht_mit = ( '.', 'Tag', 'Ort',)\n",
    "mask1 =  wiktionary_merkmal_abk.data.str.contains('.', regex=False)  \n",
    "mask2 = ~wiktionary_merkmal_abk.data.str.endswith(endet_nicht_mit)\n",
    "mask3 = (wiktionary_merkmal_abk.data.str.split('.').str[-1].str.len() <= 5) # letztes Wort nicht zu lang\n",
    "mask4 =  wiktionary_merkmal_abk.data.str.len() > 2\n",
    "mask = mask1  &  mask2  &  mask3  &  mask4\n",
    "check_mask( wiktionary_merkmal_abk, mask, 0,136 )\n",
    "wiktionary_merkmal_abk.loc[mask,'data'] += '.'\n",
    "grid(wiktionary_merkmal_abk,mask)"
   ]
  },
  {
   "cell_type": "code",
   "execution_count": 124,
   "id": "c58ddaae",
   "metadata": {
    "execution": {
     "iopub.execute_input": "2023-02-25T13:48:28.522868Z",
     "iopub.status.busy": "2023-02-25T13:48:28.522227Z",
     "iopub.status.idle": "2023-02-25T13:48:28.616123Z",
     "shell.execute_reply": "2023-02-25T13:48:28.615397Z",
     "shell.execute_reply.started": "2023-02-25T13:48:28.522836Z"
    }
   },
   "outputs": [
    {
     "name": "stdout",
     "output_type": "stream",
     "text": [
      "check_mask:  1815 rows\n",
      "1815 rows out of 3088\n"
     ]
    },
    {
     "data": {
      "text/html": [
       "<div>\n",
       "<style scoped>\n",
       "    .dataframe tbody tr th:only-of-type {\n",
       "        vertical-align: middle;\n",
       "    }\n",
       "\n",
       "    .dataframe tbody tr th {\n",
       "        vertical-align: top;\n",
       "    }\n",
       "\n",
       "    .dataframe thead th {\n",
       "        text-align: right;\n",
       "    }\n",
       "</style>\n",
       "<table border=\"1\" class=\"dataframe\">\n",
       "  <thead>\n",
       "    <tr style=\"text-align: right;\">\n",
       "      <th></th>\n",
       "      <th>lemma_id</th>\n",
       "      <th>merkmal</th>\n",
       "      <th>data_id</th>\n",
       "      <th>data</th>\n",
       "      <th>data_tag</th>\n",
       "      <th>lemma_tag</th>\n",
       "      <th>num</th>\n",
       "      <th>meta</th>\n",
       "      <th>score</th>\n",
       "      <th>is_lex</th>\n",
       "    </tr>\n",
       "  </thead>\n",
       "  <tbody>\n",
       "    <tr>\n",
       "      <th>19432</th>\n",
       "      <td>Krankenhaus</td>\n",
       "      <td>abk</td>\n",
       "      <td>Krankenhaus~Krh</td>\n",
       "      <td>Krh.</td>\n",
       "      <td></td>\n",
       "      <td>NN</td>\n",
       "      <td>1</td>\n",
       "      <td></td>\n",
       "      <td>227.105713</td>\n",
       "      <td>True</td>\n",
       "    </tr>\n",
       "    <tr>\n",
       "      <th>19433</th>\n",
       "      <td>Krankenhaus</td>\n",
       "      <td>abk</td>\n",
       "      <td>Krankenhaus~Krhs</td>\n",
       "      <td>Krhs.</td>\n",
       "      <td></td>\n",
       "      <td>NN</td>\n",
       "      <td>1</td>\n",
       "      <td></td>\n",
       "      <td>227.105713</td>\n",
       "      <td>True</td>\n",
       "    </tr>\n",
       "    <tr>\n",
       "      <th>19434</th>\n",
       "      <td>Krankenhaus</td>\n",
       "      <td>abk</td>\n",
       "      <td>Krankenhaus~Krkhs</td>\n",
       "      <td>Krkhs.</td>\n",
       "      <td></td>\n",
       "      <td>NN</td>\n",
       "      <td>1</td>\n",
       "      <td></td>\n",
       "      <td>227.105713</td>\n",
       "      <td>True</td>\n",
       "    </tr>\n",
       "    <tr>\n",
       "      <th>314045</th>\n",
       "      <td>Synagoge</td>\n",
       "      <td>abk</td>\n",
       "      <td>Synagoge~Syn</td>\n",
       "      <td>Syn.</td>\n",
       "      <td></td>\n",
       "      <td>NN</td>\n",
       "      <td></td>\n",
       "      <td></td>\n",
       "      <td>214.588089</td>\n",
       "      <td>True</td>\n",
       "    </tr>\n",
       "    <tr>\n",
       "      <th>138965</th>\n",
       "      <td>Garten</td>\n",
       "      <td>abk</td>\n",
       "      <td>Garten~Gart</td>\n",
       "      <td>Gart.</td>\n",
       "      <td></td>\n",
       "      <td>NN</td>\n",
       "      <td>1</td>\n",
       "      <td></td>\n",
       "      <td>166.136093</td>\n",
       "      <td>True</td>\n",
       "    </tr>\n",
       "    <tr>\n",
       "      <th>...</th>\n",
       "      <td>...</td>\n",
       "      <td>...</td>\n",
       "      <td>...</td>\n",
       "      <td>...</td>\n",
       "      <td>...</td>\n",
       "      <td>...</td>\n",
       "      <td>...</td>\n",
       "      <td>...</td>\n",
       "      <td>...</td>\n",
       "      <td>...</td>\n",
       "    </tr>\n",
       "    <tr>\n",
       "      <th>576561</th>\n",
       "      <td>gedämpft</td>\n",
       "      <td>abk</td>\n",
       "      <td>gedämpft~ged</td>\n",
       "      <td>ged.</td>\n",
       "      <td></td>\n",
       "      <td>ADJA</td>\n",
       "      <td></td>\n",
       "      <td></td>\n",
       "      <td>0.583673</td>\n",
       "      <td>True</td>\n",
       "    </tr>\n",
       "    <tr>\n",
       "      <th>460882</th>\n",
       "      <td>gepaart</td>\n",
       "      <td>abk</td>\n",
       "      <td>gepaart~gep</td>\n",
       "      <td>gep.</td>\n",
       "      <td></td>\n",
       "      <td>ADJA</td>\n",
       "      <td></td>\n",
       "      <td></td>\n",
       "      <td>0.563265</td>\n",
       "      <td>True</td>\n",
       "    </tr>\n",
       "    <tr>\n",
       "      <th>457318</th>\n",
       "      <td>infiziert</td>\n",
       "      <td>abk</td>\n",
       "      <td>infiziert~inf</td>\n",
       "      <td>inf.</td>\n",
       "      <td></td>\n",
       "      <td>ADJA</td>\n",
       "      <td></td>\n",
       "      <td></td>\n",
       "      <td>0.536735</td>\n",
       "      <td>True</td>\n",
       "    </tr>\n",
       "    <tr>\n",
       "      <th>479907</th>\n",
       "      <td>getilgt</td>\n",
       "      <td>abk</td>\n",
       "      <td>get_M</td>\n",
       "      <td>get.</td>\n",
       "      <td></td>\n",
       "      <td>ADJA</td>\n",
       "      <td></td>\n",
       "      <td></td>\n",
       "      <td>0.495918</td>\n",
       "      <td>True</td>\n",
       "    </tr>\n",
       "    <tr>\n",
       "      <th>416518</th>\n",
       "      <td>gedeckt_1</td>\n",
       "      <td>abk</td>\n",
       "      <td>gedeckt_1~ged</td>\n",
       "      <td>ged.</td>\n",
       "      <td></td>\n",
       "      <td>ADJA</td>\n",
       "      <td></td>\n",
       "      <td></td>\n",
       "      <td>0.479592</td>\n",
       "      <td>True</td>\n",
       "    </tr>\n",
       "  </tbody>\n",
       "</table>\n",
       "<p>1815 rows × 10 columns</p>\n",
       "</div>"
      ],
      "text/plain": [
       "           lemma_id merkmal            data_id    data data_tag lemma_tag num  \\\n",
       "19432   Krankenhaus     abk    Krankenhaus~Krh    Krh.                 NN   1   \n",
       "19433   Krankenhaus     abk   Krankenhaus~Krhs   Krhs.                 NN   1   \n",
       "19434   Krankenhaus     abk  Krankenhaus~Krkhs  Krkhs.                 NN   1   \n",
       "314045     Synagoge     abk       Synagoge~Syn    Syn.                 NN       \n",
       "138965       Garten     abk        Garten~Gart   Gart.                 NN   1   \n",
       "...             ...     ...                ...     ...      ...       ...  ..   \n",
       "576561     gedämpft     abk       gedämpft~ged    ged.               ADJA       \n",
       "460882      gepaart     abk        gepaart~gep    gep.               ADJA       \n",
       "457318    infiziert     abk      infiziert~inf    inf.               ADJA       \n",
       "479907      getilgt     abk              get_M    get.               ADJA       \n",
       "416518    gedeckt_1     abk      gedeckt_1~ged    ged.               ADJA       \n",
       "\n",
       "       meta       score  is_lex  \n",
       "19432        227.105713    True  \n",
       "19433        227.105713    True  \n",
       "19434        227.105713    True  \n",
       "314045       214.588089    True  \n",
       "138965       166.136093    True  \n",
       "...     ...         ...     ...  \n",
       "576561         0.583673    True  \n",
       "460882         0.563265    True  \n",
       "457318         0.536735    True  \n",
       "479907         0.495918    True  \n",
       "416518         0.479592    True  \n",
       "\n",
       "[1815 rows x 10 columns]"
      ]
     },
     "execution_count": 124,
     "metadata": {},
     "output_type": "execute_result"
    }
   ],
   "source": [
    "# korrigieren: Punkt hinten ergänzen\n",
    "ausnahmen =  [ 'Admin','Schirm','Kappe','Symbol','Potenz','Schiri','Info','Bus','Kiga','Hof','Teen','Teenie','Teeny','Nitro','Steno','Perso','Navi',]\n",
    "ausnahmen += [ 'Mayo','Hasch','Britta','Tusse','Tussi','Jäger','Reha','Latte','Pkw','Escape','Spasti','Proll','Prolo','Traufe','Qbit','Qubit',]\n",
    "ausnahmen += [ 'Rose','Kino','Alster','Hafen','Psycho','Dame','Kelle','Kopie','FeWo','Chemie','Knobi','Makro','Majo','Tief']\n",
    "mask1 = ~wiktionary_merkmal_abk.data.isin(ausnahmen)\n",
    "mask2 = ~wiktionary_merkmal_abk.data.str.contains('-')                                                       # Kein Bindestrich\n",
    "mask3 = ~wiktionary_merkmal_abk.data.str.contains(' ')                                                       # kein Space\n",
    "mask4 = ~wiktionary_merkmal_abk.data.str.contains('.', regex=False)                                          # kein Punkt\n",
    "mask5 = ~wiktionary_merkmal_abk.meta.isin(['ISO','kurz','umgangssprachlich','Netzjargon'])\n",
    "mask6 = (wiktionary_merkmal_abk.data.str.len() > 2)   |   wiktionary_merkmal_abk.data.isin(['Dr','No'])\n",
    "mask7 =  wiktionary_merkmal_abk.data.str.contains('^[A-Za-zöüäÖÄÜ]')                                         # startswith Buchstabe\n",
    "mask8 =  wiktionary_merkmal_abk.data.str.count('[A-ZÜÖÄ]')  <=    1                                          # Nicht mehr als 1 Großbuchstabe\n",
    "mask9 = ~wiktionary_merkmal_abk.data.str.contains('[^A-Za-zöüäÖÄÜß]')                                        # irgendwelche Sonderzeichen\n",
    "\n",
    "mask  = mask1  &  mask2  &  mask3  &  mask4  &  mask5  &  mask6  &  mask7  &  mask8  &  mask9\n",
    "check_mask( wiktionary_merkmal_abk, mask, 1815 )\n",
    "\n",
    "wiktionary_merkmal_abk.loc[mask,'data'] += '.'  \n",
    "grid(wiktionary_merkmal_abk,mask)"
   ]
  },
  {
   "cell_type": "code",
   "execution_count": 125,
   "id": "98723da1",
   "metadata": {
    "execution": {
     "iopub.execute_input": "2023-02-25T13:48:28.622267Z",
     "iopub.status.busy": "2023-02-25T13:48:28.619645Z",
     "iopub.status.idle": "2023-02-25T13:48:28.686382Z",
     "shell.execute_reply": "2023-02-25T13:48:28.685664Z",
     "shell.execute_reply.started": "2023-02-25T13:48:28.622189Z"
    }
   },
   "outputs": [
    {
     "name": "stdout",
     "output_type": "stream",
     "text": [
      "162 rows added, now a total of 3250\n"
     ]
    }
   ],
   "source": [
    "# variieren: Punkt mit Space\n",
    "#mask = wiktionary_merkmal_abk.data.str.contains('.', regex=False)\n",
    "mask = wiktionary_merkmal_abk.data.str.count('\\.') > 1\n",
    "df = wiktionary_merkmal_abk[mask].copy()\n",
    "r = {'.':'. ',   '-':''}\n",
    "df['data'] = pak.replace_str(df.data, r).str.strip()\n",
    "wiktionary_merkmal_abk = pak.add_rows(wiktionary_merkmal_abk, df)\n",
    "#grid(df)"
   ]
  },
  {
   "cell_type": "code",
   "execution_count": 126,
   "id": "a09efa3b",
   "metadata": {
    "execution": {
     "iopub.execute_input": "2023-02-25T13:48:28.687449Z",
     "iopub.status.busy": "2023-02-25T13:48:28.687217Z",
     "iopub.status.idle": "2023-02-25T13:48:28.744915Z",
     "shell.execute_reply": "2023-02-25T13:48:28.744251Z",
     "shell.execute_reply.started": "2023-02-25T13:48:28.687426Z"
    }
   },
   "outputs": [
    {
     "name": "stdout",
     "output_type": "stream",
     "text": [
      "123 rows added, now a total of 3373\n"
     ]
    }
   ],
   "source": [
    "# variieren: Bindestriche weglassen\n",
    "mask1 =  wiktionary_merkmal_abk.data.str.contains('-')\n",
    "mask2 = ~wiktionary_merkmal_abk.data.str.startswith('-')\n",
    "mask3 = ~wiktionary_merkmal_abk.data.str.endswith('-')\n",
    "mask = mask1  &  mask2  &  mask3\n",
    "df = wiktionary_merkmal_abk[mask].copy()\n",
    "r = {'-':' ', '  ':' '}\n",
    "df['data'] = pak.replace_str(df.data, r)\n",
    "wiktionary_merkmal_abk = pak.add_rows(wiktionary_merkmal_abk, df)\n",
    "#grid(df)"
   ]
  },
  {
   "cell_type": "code",
   "execution_count": 127,
   "id": "05420ae3",
   "metadata": {
    "execution": {
     "iopub.execute_input": "2023-02-25T13:48:28.746120Z",
     "iopub.status.busy": "2023-02-25T13:48:28.745866Z",
     "iopub.status.idle": "2023-02-25T13:48:28.814129Z",
     "shell.execute_reply": "2023-02-25T13:48:28.813302Z",
     "shell.execute_reply.started": "2023-02-25T13:48:28.746094Z"
    }
   },
   "outputs": [
    {
     "name": "stdout",
     "output_type": "stream",
     "text": [
      "2237 rows added, now a total of 5610\n"
     ]
    }
   ],
   "source": [
    "# variieren: Punkte weglassen\n",
    "mask = wiktionary_merkmal_abk.data.str.contains('.', regex=False)\n",
    "df = wiktionary_merkmal_abk[mask].copy()\n",
    "r = {'.':'',}\n",
    "df['data'] = pak.replace_str(df.data, r)\n",
    "wiktionary_merkmal_abk = pak.add_rows(wiktionary_merkmal_abk, df)\n",
    "#grid(df)"
   ]
  },
  {
   "cell_type": "code",
   "execution_count": 128,
   "id": "c7aeedb8",
   "metadata": {
    "execution": {
     "iopub.execute_input": "2023-02-25T13:48:28.815092Z",
     "iopub.status.busy": "2023-02-25T13:48:28.814838Z",
     "iopub.status.idle": "2023-02-25T13:48:28.872241Z",
     "shell.execute_reply": "2023-02-25T13:48:28.869206Z",
     "shell.execute_reply.started": "2023-02-25T13:48:28.815070Z"
    }
   },
   "outputs": [
    {
     "name": "stdout",
     "output_type": "stream",
     "text": [
      "697 rows added, now a total of 6307\n"
     ]
    }
   ],
   "source": [
    "# variieren: Spaces weglassen\n",
    "mask = wiktionary_merkmal_abk.data.str.contains(' ')\n",
    "df = wiktionary_merkmal_abk[mask].copy()\n",
    "r = {' ':'',}\n",
    "df['data'] = pak.replace_str(df.data, r)\n",
    "wiktionary_merkmal_abk = pak.add_rows(wiktionary_merkmal_abk, df)\n",
    "#grid(df)"
   ]
  },
  {
   "cell_type": "code",
   "execution_count": 129,
   "id": "16419219",
   "metadata": {
    "execution": {
     "iopub.execute_input": "2023-02-25T13:48:28.873664Z",
     "iopub.status.busy": "2023-02-25T13:48:28.873343Z",
     "iopub.status.idle": "2023-02-25T13:48:28.927818Z",
     "shell.execute_reply": "2023-02-25T13:48:28.927200Z",
     "shell.execute_reply.started": "2023-02-25T13:48:28.873642Z"
    }
   },
   "outputs": [],
   "source": [
    "# pflegen: Überfüssige Spaces streichen\n",
    "r = {'  ':' ', '  ':' ',}\n",
    "wiktionary_merkmal_abk['data'] = pak.replace_str(wiktionary_merkmal_abk.data, r)\n",
    "wiktionary_merkmal_abk['data'] = wiktionary_merkmal_abk.data.str.strip()"
   ]
  },
  {
   "cell_type": "code",
   "execution_count": 130,
   "id": "f6415b0c-f8b3-4b22-9e0d-2942c8ef13fb",
   "metadata": {
    "execution": {
     "iopub.execute_input": "2023-02-25T13:48:28.931465Z",
     "iopub.status.busy": "2023-02-25T13:48:28.931204Z",
     "iopub.status.idle": "2023-02-25T13:48:28.994112Z",
     "shell.execute_reply": "2023-02-25T13:48:28.993249Z",
     "shell.execute_reply.started": "2023-02-25T13:48:28.931444Z"
    }
   },
   "outputs": [
    {
     "name": "stdout",
     "output_type": "stream",
     "text": [
      "6307 rows\n"
     ]
    },
    {
     "data": {
      "text/html": [
       "<div>\n",
       "<style scoped>\n",
       "    .dataframe tbody tr th:only-of-type {\n",
       "        vertical-align: middle;\n",
       "    }\n",
       "\n",
       "    .dataframe tbody tr th {\n",
       "        vertical-align: top;\n",
       "    }\n",
       "\n",
       "    .dataframe thead th {\n",
       "        text-align: right;\n",
       "    }\n",
       "</style>\n",
       "<table border=\"1\" class=\"dataframe\">\n",
       "  <thead>\n",
       "    <tr style=\"text-align: right;\">\n",
       "      <th></th>\n",
       "      <th>lemma_id</th>\n",
       "      <th>merkmal</th>\n",
       "      <th>data_id</th>\n",
       "      <th>data</th>\n",
       "      <th>data_tag</th>\n",
       "      <th>lemma_tag</th>\n",
       "      <th>num</th>\n",
       "      <th>meta</th>\n",
       "      <th>score</th>\n",
       "      <th>is_lex</th>\n",
       "    </tr>\n",
       "  </thead>\n",
       "  <tbody>\n",
       "    <tr>\n",
       "      <th>680</th>\n",
       "      <td>Prozent</td>\n",
       "      <td>abk</td>\n",
       "      <td>Prozent~%</td>\n",
       "      <td>%</td>\n",
       "      <td></td>\n",
       "      <td>NN</td>\n",
       "      <td></td>\n",
       "      <td>manuell</td>\n",
       "      <td>17.820169</td>\n",
       "      <td>True</td>\n",
       "    </tr>\n",
       "    <tr>\n",
       "      <th>570</th>\n",
       "      <td>und</td>\n",
       "      <td>abk</td>\n",
       "      <td>und~&amp;</td>\n",
       "      <td>&amp;</td>\n",
       "      <td></td>\n",
       "      <td>KON</td>\n",
       "      <td></td>\n",
       "      <td>manuell</td>\n",
       "      <td>19.507898</td>\n",
       "      <td>True</td>\n",
       "    </tr>\n",
       "    <tr>\n",
       "      <th>2862</th>\n",
       "      <td>-prozentig</td>\n",
       "      <td>abk</td>\n",
       "      <td>-prozentig~-%ig</td>\n",
       "      <td>-%ig</td>\n",
       "      <td></td>\n",
       "      <td>ZFIX</td>\n",
       "      <td>1</td>\n",
       "      <td></td>\n",
       "      <td>4.252734</td>\n",
       "      <td>True</td>\n",
       "    </tr>\n",
       "    <tr>\n",
       "      <th>1053</th>\n",
       "      <td>-schaft</td>\n",
       "      <td>abk</td>\n",
       "      <td>-sch</td>\n",
       "      <td>-sch</td>\n",
       "      <td></td>\n",
       "      <td>ZFIX</td>\n",
       "      <td>1</td>\n",
       "      <td></td>\n",
       "      <td>13.486027</td>\n",
       "      <td>True</td>\n",
       "    </tr>\n",
       "    <tr>\n",
       "      <th>1054</th>\n",
       "      <td>-schaft</td>\n",
       "      <td>abk</td>\n",
       "      <td>-schaft~-schft</td>\n",
       "      <td>-schft</td>\n",
       "      <td></td>\n",
       "      <td>ZFIX</td>\n",
       "      <td>1</td>\n",
       "      <td></td>\n",
       "      <td>13.486027</td>\n",
       "      <td>True</td>\n",
       "    </tr>\n",
       "    <tr>\n",
       "      <th>...</th>\n",
       "      <td>...</td>\n",
       "      <td>...</td>\n",
       "      <td>...</td>\n",
       "      <td>...</td>\n",
       "      <td>...</td>\n",
       "      <td>...</td>\n",
       "      <td>...</td>\n",
       "      <td>...</td>\n",
       "      <td>...</td>\n",
       "      <td>...</td>\n",
       "    </tr>\n",
       "    <tr>\n",
       "      <th>2722</th>\n",
       "      <td>überschüssig</td>\n",
       "      <td>abk</td>\n",
       "      <td>überschüssig~übsch</td>\n",
       "      <td>übsch.</td>\n",
       "      <td></td>\n",
       "      <td>ADJA</td>\n",
       "      <td>1</td>\n",
       "      <td></td>\n",
       "      <td>5.131227</td>\n",
       "      <td>True</td>\n",
       "    </tr>\n",
       "    <tr>\n",
       "      <th>1846</th>\n",
       "      <td>Microcontroller_M</td>\n",
       "      <td>abk</td>\n",
       "      <td>μC</td>\n",
       "      <td>μC</td>\n",
       "      <td></td>\n",
       "      <td>NN</td>\n",
       "      <td></td>\n",
       "      <td>manuell</td>\n",
       "      <td>8.736330</td>\n",
       "      <td>True</td>\n",
       "    </tr>\n",
       "    <tr>\n",
       "      <th>2686</th>\n",
       "      <td>Mikrosievert</td>\n",
       "      <td>abk</td>\n",
       "      <td>Mikrosievert~μSv</td>\n",
       "      <td>μSv</td>\n",
       "      <td></td>\n",
       "      <td>NN</td>\n",
       "      <td>1</td>\n",
       "      <td></td>\n",
       "      <td>5.295261</td>\n",
       "      <td>True</td>\n",
       "    </tr>\n",
       "    <tr>\n",
       "      <th>1359</th>\n",
       "      <td>Mikrometer</td>\n",
       "      <td>abk</td>\n",
       "      <td>μm</td>\n",
       "      <td>μm</td>\n",
       "      <td></td>\n",
       "      <td>NN</td>\n",
       "      <td></td>\n",
       "      <td>manuell</td>\n",
       "      <td>11.222357</td>\n",
       "      <td>True</td>\n",
       "    </tr>\n",
       "    <tr>\n",
       "      <th>2344</th>\n",
       "      <td>Quadratmikrometer</td>\n",
       "      <td>abk</td>\n",
       "      <td>Quadratmikrometer~μm²</td>\n",
       "      <td>μm²</td>\n",
       "      <td></td>\n",
       "      <td>NN</td>\n",
       "      <td>1</td>\n",
       "      <td></td>\n",
       "      <td>6.501822</td>\n",
       "      <td>True</td>\n",
       "    </tr>\n",
       "  </tbody>\n",
       "</table>\n",
       "<p>6307 rows × 10 columns</p>\n",
       "</div>"
      ],
      "text/plain": [
       "               lemma_id merkmal                data_id    data data_tag  \\\n",
       "680             Prozent     abk              Prozent~%       %            \n",
       "570                 und     abk                  und~&       &            \n",
       "2862         -prozentig     abk        -prozentig~-%ig    -%ig            \n",
       "1053            -schaft     abk                   -sch    -sch            \n",
       "1054            -schaft     abk         -schaft~-schft  -schft            \n",
       "...                 ...     ...                    ...     ...      ...   \n",
       "2722       überschüssig     abk     überschüssig~übsch  übsch.            \n",
       "1846  Microcontroller_M     abk                     μC      μC            \n",
       "2686       Mikrosievert     abk       Mikrosievert~μSv     μSv            \n",
       "1359         Mikrometer     abk                     μm      μm            \n",
       "2344  Quadratmikrometer     abk  Quadratmikrometer~μm²     μm²            \n",
       "\n",
       "     lemma_tag num     meta      score  is_lex  \n",
       "680         NN      manuell  17.820169    True  \n",
       "570        KON      manuell  19.507898    True  \n",
       "2862      ZFIX   1            4.252734    True  \n",
       "1053      ZFIX   1           13.486027    True  \n",
       "1054      ZFIX   1           13.486027    True  \n",
       "...        ...  ..      ...        ...     ...  \n",
       "2722      ADJA   1            5.131227    True  \n",
       "1846        NN      manuell   8.736330    True  \n",
       "2686        NN   1            5.295261    True  \n",
       "1359        NN      manuell  11.222357    True  \n",
       "2344        NN   1            6.501822    True  \n",
       "\n",
       "[6307 rows x 10 columns]"
      ]
     },
     "execution_count": 130,
     "metadata": {},
     "output_type": "execute_result"
    }
   ],
   "source": [
    "grid(wiktionary_merkmal_abk.sort_values('data'))"
   ]
  },
  {
   "cell_type": "code",
   "execution_count": 131,
   "id": "9be84300",
   "metadata": {
    "execution": {
     "iopub.execute_input": "2023-02-25T13:48:29.001447Z",
     "iopub.status.busy": "2023-02-25T13:48:28.999003Z",
     "iopub.status.idle": "2023-02-25T13:48:30.266447Z",
     "shell.execute_reply": "2023-02-25T13:48:30.265713Z",
     "shell.execute_reply.started": "2023-02-25T13:48:29.001407Z"
    }
   },
   "outputs": [
    {
     "name": "stdout",
     "output_type": "stream",
     "text": [
      "587 rows less, now 5720 rows\n"
     ]
    }
   ],
   "source": [
    "# pflegen: Dups entfernen\n",
    "\n",
    "wiktionary_merkmal_abk = pak.group_and_agg( wiktionary_merkmal_abk, \n",
    "              ['lemma_id',  'lemma_tag',  'num',  'merkmal',   'meta',  'data',   'data_id',  'score',   ],\n",
    "              [ 'group',    'group',      'min',  'group',     'max',   'group',  'group',    'max',     ],\n",
    "              ['lemma_id',  'lemma_tag',  'num',  'merkmal',   'meta',  'data',   'data_id',  'score',   ],        \n",
    "             )\n"
   ]
  },
  {
   "cell_type": "code",
   "execution_count": 132,
   "id": "aa930e0f-482f-499f-a316-bb2d7dd51b8d",
   "metadata": {
    "execution": {
     "iopub.execute_input": "2023-02-25T13:48:30.270558Z",
     "iopub.status.busy": "2023-02-25T13:48:30.269422Z",
     "iopub.status.idle": "2023-02-25T13:48:30.364861Z",
     "shell.execute_reply": "2023-02-25T13:48:30.360784Z",
     "shell.execute_reply.started": "2023-02-25T13:48:30.270523Z"
    }
   },
   "outputs": [
    {
     "data": {
      "text/html": [
       "<div>\n",
       "<style scoped>\n",
       "    .dataframe tbody tr th:only-of-type {\n",
       "        vertical-align: middle;\n",
       "    }\n",
       "\n",
       "    .dataframe tbody tr th {\n",
       "        vertical-align: top;\n",
       "    }\n",
       "\n",
       "    .dataframe thead th {\n",
       "        text-align: right;\n",
       "    }\n",
       "</style>\n",
       "<table border=\"1\" class=\"dataframe\">\n",
       "  <thead>\n",
       "    <tr style=\"text-align: right;\">\n",
       "      <th></th>\n",
       "      <th>lemma_id</th>\n",
       "      <th>lemma_tag</th>\n",
       "      <th>num</th>\n",
       "      <th>merkmal</th>\n",
       "      <th>meta</th>\n",
       "      <th>data</th>\n",
       "      <th>data_id</th>\n",
       "      <th>score</th>\n",
       "    </tr>\n",
       "  </thead>\n",
       "  <tbody>\n",
       "  </tbody>\n",
       "</table>\n",
       "</div>"
      ],
      "text/plain": [
       "Empty DataFrame\n",
       "Columns: [lemma_id, lemma_tag, num, merkmal, meta, data, data_id, score]\n",
       "Index: []"
      ]
     },
     "execution_count": 132,
     "metadata": {},
     "output_type": "execute_result"
    }
   ],
   "source": [
    "# suche_debug wiktionary_merkmal_abk\n",
    "search_str(wiktionary_merkmal_abk, suche_debug)"
   ]
  },
  {
   "cell_type": "code",
   "execution_count": 133,
   "id": "62913c9c",
   "metadata": {
    "execution": {
     "iopub.execute_input": "2023-02-25T13:48:30.368779Z",
     "iopub.status.busy": "2023-02-25T13:48:30.366586Z",
     "iopub.status.idle": "2023-02-25T13:48:30.455478Z",
     "shell.execute_reply": "2023-02-25T13:48:30.451099Z",
     "shell.execute_reply.started": "2023-02-25T13:48:30.368739Z"
    }
   },
   "outputs": [
    {
     "name": "stdout",
     "output_type": "stream",
     "text": [
      "5720 rows\n"
     ]
    },
    {
     "data": {
      "text/html": [
       "<div>\n",
       "<style scoped>\n",
       "    .dataframe tbody tr th:only-of-type {\n",
       "        vertical-align: middle;\n",
       "    }\n",
       "\n",
       "    .dataframe tbody tr th {\n",
       "        vertical-align: top;\n",
       "    }\n",
       "\n",
       "    .dataframe thead th {\n",
       "        text-align: right;\n",
       "    }\n",
       "</style>\n",
       "<table border=\"1\" class=\"dataframe\">\n",
       "  <thead>\n",
       "    <tr style=\"text-align: right;\">\n",
       "      <th></th>\n",
       "      <th>lemma_id</th>\n",
       "      <th>lemma_tag</th>\n",
       "      <th>num</th>\n",
       "      <th>merkmal</th>\n",
       "      <th>meta</th>\n",
       "      <th>data</th>\n",
       "      <th>data_id</th>\n",
       "      <th>score</th>\n",
       "    </tr>\n",
       "  </thead>\n",
       "  <tbody>\n",
       "    <tr>\n",
       "      <th>1981</th>\n",
       "      <td>Krankenhaus</td>\n",
       "      <td>NN</td>\n",
       "      <td>1</td>\n",
       "      <td>abk</td>\n",
       "      <td></td>\n",
       "      <td>Krh</td>\n",
       "      <td>Krankenhaus~Krh</td>\n",
       "      <td>227.105713</td>\n",
       "    </tr>\n",
       "    <tr>\n",
       "      <th>1982</th>\n",
       "      <td>Krankenhaus</td>\n",
       "      <td>NN</td>\n",
       "      <td>1</td>\n",
       "      <td>abk</td>\n",
       "      <td></td>\n",
       "      <td>Krh.</td>\n",
       "      <td>Krankenhaus~Krh</td>\n",
       "      <td>227.105713</td>\n",
       "    </tr>\n",
       "    <tr>\n",
       "      <th>1986</th>\n",
       "      <td>Krankenhaus</td>\n",
       "      <td>NN</td>\n",
       "      <td>1</td>\n",
       "      <td>abk</td>\n",
       "      <td></td>\n",
       "      <td>Krkhs.</td>\n",
       "      <td>Krankenhaus~Krkhs</td>\n",
       "      <td>227.105713</td>\n",
       "    </tr>\n",
       "    <tr>\n",
       "      <th>1985</th>\n",
       "      <td>Krankenhaus</td>\n",
       "      <td>NN</td>\n",
       "      <td>1</td>\n",
       "      <td>abk</td>\n",
       "      <td></td>\n",
       "      <td>Krkhs</td>\n",
       "      <td>Krankenhaus~Krkhs</td>\n",
       "      <td>227.105713</td>\n",
       "    </tr>\n",
       "    <tr>\n",
       "      <th>1984</th>\n",
       "      <td>Krankenhaus</td>\n",
       "      <td>NN</td>\n",
       "      <td>1</td>\n",
       "      <td>abk</td>\n",
       "      <td></td>\n",
       "      <td>Krhs.</td>\n",
       "      <td>Krankenhaus~Krhs</td>\n",
       "      <td>227.105713</td>\n",
       "    </tr>\n",
       "    <tr>\n",
       "      <th>...</th>\n",
       "      <td>...</td>\n",
       "      <td>...</td>\n",
       "      <td>...</td>\n",
       "      <td>...</td>\n",
       "      <td>...</td>\n",
       "      <td>...</td>\n",
       "      <td>...</td>\n",
       "      <td>...</td>\n",
       "    </tr>\n",
       "    <tr>\n",
       "      <th>4463</th>\n",
       "      <td>infiziert</td>\n",
       "      <td>ADJA</td>\n",
       "      <td></td>\n",
       "      <td>abk</td>\n",
       "      <td></td>\n",
       "      <td>inf.</td>\n",
       "      <td>infiziert~inf</td>\n",
       "      <td>0.536735</td>\n",
       "    </tr>\n",
       "    <tr>\n",
       "      <th>4324</th>\n",
       "      <td>getilgt</td>\n",
       "      <td>ADJA</td>\n",
       "      <td></td>\n",
       "      <td>abk</td>\n",
       "      <td></td>\n",
       "      <td>get</td>\n",
       "      <td>get_M</td>\n",
       "      <td>0.495918</td>\n",
       "    </tr>\n",
       "    <tr>\n",
       "      <th>4325</th>\n",
       "      <td>getilgt</td>\n",
       "      <td>ADJA</td>\n",
       "      <td></td>\n",
       "      <td>abk</td>\n",
       "      <td></td>\n",
       "      <td>get.</td>\n",
       "      <td>get_M</td>\n",
       "      <td>0.495918</td>\n",
       "    </tr>\n",
       "    <tr>\n",
       "      <th>4259</th>\n",
       "      <td>gedeckt_1</td>\n",
       "      <td>ADJA</td>\n",
       "      <td></td>\n",
       "      <td>abk</td>\n",
       "      <td></td>\n",
       "      <td>ged</td>\n",
       "      <td>gedeckt_1~ged</td>\n",
       "      <td>0.479592</td>\n",
       "    </tr>\n",
       "    <tr>\n",
       "      <th>4260</th>\n",
       "      <td>gedeckt_1</td>\n",
       "      <td>ADJA</td>\n",
       "      <td></td>\n",
       "      <td>abk</td>\n",
       "      <td></td>\n",
       "      <td>ged.</td>\n",
       "      <td>gedeckt_1~ged</td>\n",
       "      <td>0.479592</td>\n",
       "    </tr>\n",
       "  </tbody>\n",
       "</table>\n",
       "<p>5720 rows × 8 columns</p>\n",
       "</div>"
      ],
      "text/plain": [
       "         lemma_id lemma_tag num merkmal meta    data            data_id  \\\n",
       "1981  Krankenhaus        NN   1     abk          Krh    Krankenhaus~Krh   \n",
       "1982  Krankenhaus        NN   1     abk         Krh.    Krankenhaus~Krh   \n",
       "1986  Krankenhaus        NN   1     abk       Krkhs.  Krankenhaus~Krkhs   \n",
       "1985  Krankenhaus        NN   1     abk        Krkhs  Krankenhaus~Krkhs   \n",
       "1984  Krankenhaus        NN   1     abk        Krhs.   Krankenhaus~Krhs   \n",
       "...           ...       ...  ..     ...  ...     ...                ...   \n",
       "4463    infiziert      ADJA         abk         inf.      infiziert~inf   \n",
       "4324      getilgt      ADJA         abk          get              get_M   \n",
       "4325      getilgt      ADJA         abk         get.              get_M   \n",
       "4259    gedeckt_1      ADJA         abk          ged      gedeckt_1~ged   \n",
       "4260    gedeckt_1      ADJA         abk         ged.      gedeckt_1~ged   \n",
       "\n",
       "           score  \n",
       "1981  227.105713  \n",
       "1982  227.105713  \n",
       "1986  227.105713  \n",
       "1985  227.105713  \n",
       "1984  227.105713  \n",
       "...          ...  \n",
       "4463    0.536735  \n",
       "4324    0.495918  \n",
       "4325    0.495918  \n",
       "4259    0.479592  \n",
       "4260    0.479592  \n",
       "\n",
       "[5720 rows x 8 columns]"
      ]
     },
     "execution_count": 133,
     "metadata": {},
     "output_type": "execute_result"
    }
   ],
   "source": [
    "# anschauen\n",
    "grid(wiktionary_merkmal_abk.sort_values('score',ascending=False))"
   ]
  },
  {
   "cell_type": "markdown",
   "id": "41d23fdd-2c7b-4ccc-90de-7c46cceb25a7",
   "metadata": {},
   "source": [
    "### wiktionary_lemma pflegen"
   ]
  },
  {
   "cell_type": "code",
   "execution_count": 134,
   "id": "614a5f90-e284-48d0-b813-ac773355b7e5",
   "metadata": {
    "execution": {
     "iopub.execute_input": "2023-02-25T13:48:30.458303Z",
     "iopub.status.busy": "2023-02-25T13:48:30.457920Z",
     "iopub.status.idle": "2023-02-25T13:48:30.812815Z",
     "shell.execute_reply": "2023-02-25T13:48:30.809335Z",
     "shell.execute_reply.started": "2023-02-25T13:48:30.458275Z"
    }
   },
   "outputs": [
    {
     "data": {
      "text/html": [
       "<div>\n",
       "<style scoped>\n",
       "    .dataframe tbody tr th:only-of-type {\n",
       "        vertical-align: middle;\n",
       "    }\n",
       "\n",
       "    .dataframe tbody tr th {\n",
       "        vertical-align: top;\n",
       "    }\n",
       "\n",
       "    .dataframe thead th {\n",
       "        text-align: right;\n",
       "    }\n",
       "</style>\n",
       "<table border=\"1\" class=\"dataframe\">\n",
       "  <thead>\n",
       "    <tr style=\"text-align: right;\">\n",
       "      <th></th>\n",
       "      <th>lemma_id</th>\n",
       "      <th>page_id</th>\n",
       "      <th>page_part</th>\n",
       "      <th>lemma</th>\n",
       "      <th>lemma_lower</th>\n",
       "      <th>isupper</th>\n",
       "      <th>lemma_len</th>\n",
       "      <th>tag</th>\n",
       "      <th>tag_0</th>\n",
       "      <th>tag_1</th>\n",
       "      <th>tagZ</th>\n",
       "      <th>tagZZ</th>\n",
       "      <th>member</th>\n",
       "      <th>data_id</th>\n",
       "      <th>score</th>\n",
       "    </tr>\n",
       "  </thead>\n",
       "  <tbody>\n",
       "    <tr>\n",
       "      <th>122752</th>\n",
       "      <td>calvinistisch</td>\n",
       "      <td>572869</td>\n",
       "      <td>0</td>\n",
       "      <td>calvinistisch</td>\n",
       "      <td>calvinistisch</td>\n",
       "      <td>False</td>\n",
       "      <td>1</td>\n",
       "      <td>ADJA</td>\n",
       "      <td>ADJA</td>\n",
       "      <td>vxjkmPSKuu</td>\n",
       "      <td>ADJ</td>\n",
       "      <td>A</td>\n",
       "      <td></td>\n",
       "      <td></td>\n",
       "      <td>44.999271</td>\n",
       "    </tr>\n",
       "  </tbody>\n",
       "</table>\n",
       "</div>"
      ],
      "text/plain": [
       "             lemma_id  page_id  page_part          lemma    lemma_lower  \\\n",
       "122752  calvinistisch   572869          0  calvinistisch  calvinistisch   \n",
       "\n",
       "        isupper  lemma_len   tag tag_0       tag_1 tagZ tagZZ member data_id  \\\n",
       "122752    False          1  ADJA  ADJA  vxjkmPSKuu  ADJ     A                  \n",
       "\n",
       "            score  \n",
       "122752  44.999271  "
      ]
     },
     "execution_count": 134,
     "metadata": {},
     "output_type": "execute_result"
    }
   ],
   "source": [
    "# suche_debug \n",
    "search_str(wiktionary_lemma, suche_debug)"
   ]
  },
  {
   "cell_type": "code",
   "execution_count": 135,
   "id": "7eb9f7e5-1337-4952-a017-58a01a56011b",
   "metadata": {
    "execution": {
     "iopub.execute_input": "2023-02-25T13:48:30.819637Z",
     "iopub.status.busy": "2023-02-25T13:48:30.814304Z",
     "iopub.status.idle": "2023-02-25T13:48:30.932281Z",
     "shell.execute_reply": "2023-02-25T13:48:30.929075Z",
     "shell.execute_reply.started": "2023-02-25T13:48:30.819542Z"
    }
   },
   "outputs": [
    {
     "data": {
      "text/html": [
       "<div>\n",
       "<style scoped>\n",
       "    .dataframe tbody tr th:only-of-type {\n",
       "        vertical-align: middle;\n",
       "    }\n",
       "\n",
       "    .dataframe tbody tr th {\n",
       "        vertical-align: top;\n",
       "    }\n",
       "\n",
       "    .dataframe thead th {\n",
       "        text-align: right;\n",
       "    }\n",
       "</style>\n",
       "<table border=\"1\" class=\"dataframe\">\n",
       "  <thead>\n",
       "    <tr style=\"text-align: right;\">\n",
       "      <th></th>\n",
       "      <th>lemma_id</th>\n",
       "      <th>lemma_tag</th>\n",
       "      <th>num</th>\n",
       "      <th>merkmal</th>\n",
       "      <th>meta</th>\n",
       "      <th>data</th>\n",
       "      <th>data_id</th>\n",
       "      <th>score</th>\n",
       "    </tr>\n",
       "  </thead>\n",
       "  <tbody>\n",
       "    <tr>\n",
       "      <th>5717</th>\n",
       "      <td>üblich</td>\n",
       "      <td>ADJA</td>\n",
       "      <td>1</td>\n",
       "      <td>abk</td>\n",
       "      <td></td>\n",
       "      <td>übl.</td>\n",
       "      <td>üblich~übl</td>\n",
       "      <td>12.111786</td>\n",
       "    </tr>\n",
       "    <tr>\n",
       "      <th>5718</th>\n",
       "      <td>üblicherweise</td>\n",
       "      <td>ADV</td>\n",
       "      <td>1</td>\n",
       "      <td>abk</td>\n",
       "      <td></td>\n",
       "      <td>üblw</td>\n",
       "      <td>üblicherweise~üblw</td>\n",
       "      <td>10.639125</td>\n",
       "    </tr>\n",
       "    <tr>\n",
       "      <th>5719</th>\n",
       "      <td>üblicherweise</td>\n",
       "      <td>ADV</td>\n",
       "      <td>1</td>\n",
       "      <td>abk</td>\n",
       "      <td></td>\n",
       "      <td>üblw.</td>\n",
       "      <td>üblicherweise~üblw</td>\n",
       "      <td>10.639125</td>\n",
       "    </tr>\n",
       "  </tbody>\n",
       "</table>\n",
       "</div>"
      ],
      "text/plain": [
       "           lemma_id lemma_tag num merkmal meta   data             data_id  \\\n",
       "5717         üblich      ADJA   1     abk        übl.          üblich~übl   \n",
       "5718  üblicherweise       ADV   1     abk        üblw  üblicherweise~üblw   \n",
       "5719  üblicherweise       ADV   1     abk       üblw.  üblicherweise~üblw   \n",
       "\n",
       "          score  \n",
       "5717  12.111786  \n",
       "5718  10.639125  \n",
       "5719  10.639125  "
      ]
     },
     "execution_count": 135,
     "metadata": {},
     "output_type": "execute_result"
    }
   ],
   "source": [
    "# Alle auflösbaren Abkürzungen mit eigenem Eintrag in wiktionary_lemma\n",
    "mask_K = wiktionary_merkmal_abk.lemma_id != wiktionary_merkmal_abk.data_id\n",
    "wiktionary_merkmal_abk[mask_K].tail(3)"
   ]
  },
  {
   "cell_type": "code",
   "execution_count": 136,
   "id": "0e4ea907-2ca5-43da-89f7-84ccd36a964e",
   "metadata": {
    "execution": {
     "iopub.execute_input": "2023-02-25T13:48:30.934502Z",
     "iopub.status.busy": "2023-02-25T13:48:30.934229Z",
     "iopub.status.idle": "2023-02-25T13:48:31.095233Z",
     "shell.execute_reply": "2023-02-25T13:48:31.094565Z",
     "shell.execute_reply.started": "2023-02-25T13:48:30.934480Z"
    }
   },
   "outputs": [
    {
     "name": "stdout",
     "output_type": "stream",
     "text": [
      "check_mask:  171 rows\n",
      "171 rows out of 171220\n"
     ]
    },
    {
     "data": {
      "text/html": [
       "<div>\n",
       "<style scoped>\n",
       "    .dataframe tbody tr th:only-of-type {\n",
       "        vertical-align: middle;\n",
       "    }\n",
       "\n",
       "    .dataframe tbody tr th {\n",
       "        vertical-align: top;\n",
       "    }\n",
       "\n",
       "    .dataframe thead th {\n",
       "        text-align: right;\n",
       "    }\n",
       "</style>\n",
       "<table border=\"1\" class=\"dataframe\">\n",
       "  <thead>\n",
       "    <tr style=\"text-align: right;\">\n",
       "      <th></th>\n",
       "      <th>lemma_id</th>\n",
       "      <th>page_id</th>\n",
       "      <th>page_part</th>\n",
       "      <th>lemma</th>\n",
       "      <th>lemma_lower</th>\n",
       "      <th>isupper</th>\n",
       "      <th>lemma_len</th>\n",
       "      <th>tag</th>\n",
       "      <th>tag_0</th>\n",
       "      <th>tag_1</th>\n",
       "      <th>tagZ</th>\n",
       "      <th>tagZZ</th>\n",
       "      <th>member</th>\n",
       "      <th>data_id</th>\n",
       "      <th>score</th>\n",
       "    </tr>\n",
       "  </thead>\n",
       "  <tbody>\n",
       "    <tr>\n",
       "      <th>114</th>\n",
       "      <td>Ann</td>\n",
       "      <td>46782</td>\n",
       "      <td>0</td>\n",
       "      <td>Ann</td>\n",
       "      <td>ann</td>\n",
       "      <td>True</td>\n",
       "      <td>1</td>\n",
       "      <td>NE</td>\n",
       "      <td>NE</td>\n",
       "      <td>FK4Wp9uVd6</td>\n",
       "      <td>NAM</td>\n",
       "      <td>N</td>\n",
       "      <td>Person_vorname Abkürzung</td>\n",
       "      <td></td>\n",
       "      <td>132.075104</td>\n",
       "    </tr>\n",
       "    <tr>\n",
       "      <th>501</th>\n",
       "      <td>Franz</td>\n",
       "      <td>22959</td>\n",
       "      <td>0</td>\n",
       "      <td>Franz</td>\n",
       "      <td>franz</td>\n",
       "      <td>True</td>\n",
       "      <td>1</td>\n",
       "      <td>NE</td>\n",
       "      <td>NE</td>\n",
       "      <td>2Yip281uSJ</td>\n",
       "      <td>NAM</td>\n",
       "      <td>N</td>\n",
       "      <td>Person_vorname Abkürzung</td>\n",
       "      <td></td>\n",
       "      <td>163.248901</td>\n",
       "    </tr>\n",
       "    <tr>\n",
       "      <th>705</th>\n",
       "      <td>Israel</td>\n",
       "      <td>22790</td>\n",
       "      <td>0</td>\n",
       "      <td>Israel</td>\n",
       "      <td>israel</td>\n",
       "      <td>True</td>\n",
       "      <td>1</td>\n",
       "      <td>NE</td>\n",
       "      <td>NE</td>\n",
       "      <td>yGpROtNS2W</td>\n",
       "      <td>NAM</td>\n",
       "      <td>N</td>\n",
       "      <td>Geo Geo_land Abkürzung</td>\n",
       "      <td></td>\n",
       "      <td>435.509064</td>\n",
       "    </tr>\n",
       "    <tr>\n",
       "      <th>717</th>\n",
       "      <td>Jan</td>\n",
       "      <td>12342</td>\n",
       "      <td>0</td>\n",
       "      <td>Jan</td>\n",
       "      <td>jan</td>\n",
       "      <td>True</td>\n",
       "      <td>1</td>\n",
       "      <td>NE</td>\n",
       "      <td>NE</td>\n",
       "      <td>EhTikYXQTk</td>\n",
       "      <td>NAM</td>\n",
       "      <td>N</td>\n",
       "      <td>Person_vorname Abkürzung</td>\n",
       "      <td></td>\n",
       "      <td>256.269501</td>\n",
       "    </tr>\n",
       "    <tr>\n",
       "      <th>890</th>\n",
       "      <td>Lea</td>\n",
       "      <td>106729</td>\n",
       "      <td>0</td>\n",
       "      <td>Lea</td>\n",
       "      <td>lea</td>\n",
       "      <td>True</td>\n",
       "      <td>1</td>\n",
       "      <td>NE</td>\n",
       "      <td>NE</td>\n",
       "      <td>rWydM7PvR1</td>\n",
       "      <td>NAM</td>\n",
       "      <td>N</td>\n",
       "      <td>Person_vorname Abkürzung</td>\n",
       "      <td></td>\n",
       "      <td>202.352295</td>\n",
       "    </tr>\n",
       "    <tr>\n",
       "      <th>...</th>\n",
       "      <td>...</td>\n",
       "      <td>...</td>\n",
       "      <td>...</td>\n",
       "      <td>...</td>\n",
       "      <td>...</td>\n",
       "      <td>...</td>\n",
       "      <td>...</td>\n",
       "      <td>...</td>\n",
       "      <td>...</td>\n",
       "      <td>...</td>\n",
       "      <td>...</td>\n",
       "      <td>...</td>\n",
       "      <td>...</td>\n",
       "      <td>...</td>\n",
       "      <td>...</td>\n",
       "    </tr>\n",
       "    <tr>\n",
       "      <th>154127</th>\n",
       "      <td>sers</td>\n",
       "      <td>15554</td>\n",
       "      <td>0</td>\n",
       "      <td>sers</td>\n",
       "      <td>sers</td>\n",
       "      <td>False</td>\n",
       "      <td>1</td>\n",
       "      <td>ITJ</td>\n",
       "      <td>ITJ</td>\n",
       "      <td>fHgdMAWP67</td>\n",
       "      <td>X_itj</td>\n",
       "      <td>X</td>\n",
       "      <td>Partikel Abkürzung</td>\n",
       "      <td></td>\n",
       "      <td>7.435966</td>\n",
       "    </tr>\n",
       "    <tr>\n",
       "      <th>156777</th>\n",
       "      <td>trans</td>\n",
       "      <td>72179</td>\n",
       "      <td>0</td>\n",
       "      <td>trans</td>\n",
       "      <td>trans</td>\n",
       "      <td>False</td>\n",
       "      <td>1</td>\n",
       "      <td>ADJA</td>\n",
       "      <td>ADJA</td>\n",
       "      <td>xPtoAR9ZUo</td>\n",
       "      <td>ADJ</td>\n",
       "      <td>A</td>\n",
       "      <td>noSteig noFlex Abkürzung</td>\n",
       "      <td></td>\n",
       "      <td>14.843014</td>\n",
       "    </tr>\n",
       "    <tr>\n",
       "      <th>164026</th>\n",
       "      <td>vorm</td>\n",
       "      <td>245680</td>\n",
       "      <td>0</td>\n",
       "      <td>vorm</td>\n",
       "      <td>vorm</td>\n",
       "      <td>False</td>\n",
       "      <td>1</td>\n",
       "      <td>DIV</td>\n",
       "      <td>DIV</td>\n",
       "      <td>JWjvQS36U3</td>\n",
       "      <td>X_div</td>\n",
       "      <td>X</td>\n",
       "      <td>Kontraktion Abkürzung</td>\n",
       "      <td></td>\n",
       "      <td>5.212394</td>\n",
       "    </tr>\n",
       "    <tr>\n",
       "      <th>167880</th>\n",
       "      <td>zur</td>\n",
       "      <td>11289</td>\n",
       "      <td>0</td>\n",
       "      <td>zur</td>\n",
       "      <td>zur</td>\n",
       "      <td>False</td>\n",
       "      <td>1</td>\n",
       "      <td>DIV</td>\n",
       "      <td>DIV</td>\n",
       "      <td>MjbitVOpAK</td>\n",
       "      <td>X_div</td>\n",
       "      <td>X</td>\n",
       "      <td>Kontraktion Abkürzung</td>\n",
       "      <td></td>\n",
       "      <td>8.296233</td>\n",
       "    </tr>\n",
       "    <tr>\n",
       "      <th>170909</th>\n",
       "      <td>übers</td>\n",
       "      <td>245682</td>\n",
       "      <td>0</td>\n",
       "      <td>übers</td>\n",
       "      <td>übers</td>\n",
       "      <td>False</td>\n",
       "      <td>1</td>\n",
       "      <td>DIV</td>\n",
       "      <td>DIV</td>\n",
       "      <td>FROnf5ANP0</td>\n",
       "      <td>X_div</td>\n",
       "      <td>X</td>\n",
       "      <td>Kontraktion Abkürzung</td>\n",
       "      <td></td>\n",
       "      <td>5.992466</td>\n",
       "    </tr>\n",
       "  </tbody>\n",
       "</table>\n",
       "<p>171 rows × 15 columns</p>\n",
       "</div>"
      ],
      "text/plain": [
       "       lemma_id  page_id  page_part   lemma lemma_lower  isupper  lemma_len  \\\n",
       "114         Ann    46782          0     Ann         ann     True          1   \n",
       "501       Franz    22959          0   Franz       franz     True          1   \n",
       "705      Israel    22790          0  Israel      israel     True          1   \n",
       "717         Jan    12342          0     Jan         jan     True          1   \n",
       "890         Lea   106729          0     Lea         lea     True          1   \n",
       "...         ...      ...        ...     ...         ...      ...        ...   \n",
       "154127     sers    15554          0    sers        sers    False          1   \n",
       "156777    trans    72179          0   trans       trans    False          1   \n",
       "164026     vorm   245680          0    vorm        vorm    False          1   \n",
       "167880      zur    11289          0     zur         zur    False          1   \n",
       "170909    übers   245682          0   übers       übers    False          1   \n",
       "\n",
       "         tag tag_0       tag_1   tagZ tagZZ                    member data_id  \\\n",
       "114       NE    NE  FK4Wp9uVd6    NAM     N  Person_vorname Abkürzung           \n",
       "501       NE    NE  2Yip281uSJ    NAM     N  Person_vorname Abkürzung           \n",
       "705       NE    NE  yGpROtNS2W    NAM     N    Geo Geo_land Abkürzung           \n",
       "717       NE    NE  EhTikYXQTk    NAM     N  Person_vorname Abkürzung           \n",
       "890       NE    NE  rWydM7PvR1    NAM     N  Person_vorname Abkürzung           \n",
       "...      ...   ...         ...    ...   ...                       ...     ...   \n",
       "154127   ITJ   ITJ  fHgdMAWP67  X_itj     X        Partikel Abkürzung           \n",
       "156777  ADJA  ADJA  xPtoAR9ZUo    ADJ     A  noSteig noFlex Abkürzung           \n",
       "164026   DIV   DIV  JWjvQS36U3  X_div     X     Kontraktion Abkürzung           \n",
       "167880   DIV   DIV  MjbitVOpAK  X_div     X     Kontraktion Abkürzung           \n",
       "170909   DIV   DIV  FROnf5ANP0  X_div     X     Kontraktion Abkürzung           \n",
       "\n",
       "             score  \n",
       "114     132.075104  \n",
       "501     163.248901  \n",
       "705     435.509064  \n",
       "717     256.269501  \n",
       "890     202.352295  \n",
       "...            ...  \n",
       "154127    7.435966  \n",
       "156777   14.843014  \n",
       "164026    5.212394  \n",
       "167880    8.296233  \n",
       "170909    5.992466  \n",
       "\n",
       "[171 rows x 15 columns]"
      ]
     },
     "execution_count": 136,
     "metadata": {},
     "output_type": "execute_result"
    }
   ],
   "source": [
    "# wiktionary_lemma.member nachtragen\n",
    "# Nicht jede Abkürzung hat einen eigenen Eintrag in wiktionary_lemma.\n",
    "# Aber wenn, dann ist dieser mit member 'Abkürzung' gekennzeichnet.\n",
    "\n",
    "mask1 = ~wiktionary_lemma.member.str.contains('Abkürzung')                       # nicht als Abkürzung gekennzeichnet\n",
    "mask2 = wiktionary_lemma.lemma_id.isin(wiktionary_merkmal_abk[mask_K].data_id)   # ist aber eine auflösbare Abkürzung\n",
    "mask = mask1  &  mask2\n",
    "check_mask( wiktionary_lemma, mask, 169 )\n",
    "\n",
    "wiktionary_lemma.loc[mask,'member'] = (wiktionary_lemma[mask].member + ' Abkürzung').str.strip()\n",
    "grid( wiktionary_lemma, mask )"
   ]
  },
  {
   "cell_type": "markdown",
   "id": "8051c71a-1955-439f-aeb1-e09255285ad5",
   "metadata": {},
   "source": [
    "### translate_abk\n",
    "* translate_abk1: Nimmt die in wiktionary_lemma gelisteten Abkürzungen und löst sie über ihr def-Merkmal auf\n",
    "* translate_abk2: Basiert auf wiktionary_merkmal_abk"
   ]
  },
  {
   "cell_type": "markdown",
   "id": "62ba99fa-be40-4e4f-81a4-dc31239f0f7d",
   "metadata": {},
   "source": [
    "#### translate_abk1"
   ]
  },
  {
   "cell_type": "code",
   "execution_count": 137,
   "id": "06a0ea68-a5d7-4a69-926c-1f94bcdc3142",
   "metadata": {
    "execution": {
     "iopub.execute_input": "2023-02-25T13:48:31.098938Z",
     "iopub.status.busy": "2023-02-25T13:48:31.098638Z",
     "iopub.status.idle": "2023-02-25T13:48:34.225640Z",
     "shell.execute_reply": "2023-02-25T13:48:34.187255Z",
     "shell.execute_reply.started": "2023-02-25T13:48:31.098901Z"
    }
   },
   "outputs": [
    {
     "ename": "KeyError",
     "evalue": "\"['doc_tag'] not in index\"",
     "output_type": "error",
     "traceback": [
      "\u001b[0;31m---------------------------------------------------------------------------\u001b[0m",
      "\u001b[0;31mKeyError\u001b[0m                                  Traceback (most recent call last)",
      "Cell \u001b[0;32mIn [137], line 4\u001b[0m\n\u001b[1;32m      2\u001b[0m mask_l \u001b[38;5;241m=\u001b[39m wiktionary_lemma\u001b[38;5;241m.\u001b[39mmember\u001b[38;5;241m.\u001b[39mstr\u001b[38;5;241m.\u001b[39mcontains(\u001b[38;5;124m'\u001b[39m\u001b[38;5;124mAbkürzung\u001b[39m\u001b[38;5;124m'\u001b[39m)\n\u001b[1;32m      3\u001b[0m spalten \u001b[38;5;241m=\u001b[39m [\u001b[38;5;124m'\u001b[39m\u001b[38;5;124mlemma_id\u001b[39m\u001b[38;5;124m'\u001b[39m,\u001b[38;5;124m'\u001b[39m\u001b[38;5;124mlemma\u001b[39m\u001b[38;5;124m'\u001b[39m,\u001b[38;5;124m'\u001b[39m\u001b[38;5;124mtag\u001b[39m\u001b[38;5;124m'\u001b[39m,\u001b[38;5;124m'\u001b[39m\u001b[38;5;124mdoc_tag\u001b[39m\u001b[38;5;124m'\u001b[39m,\u001b[38;5;124m'\u001b[39m\u001b[38;5;124mmember\u001b[39m\u001b[38;5;124m'\u001b[39m,\u001b[38;5;124m'\u001b[39m\u001b[38;5;124mscore\u001b[39m\u001b[38;5;124m'\u001b[39m,]\n\u001b[0;32m----> 4\u001b[0m translate_abk1 \u001b[38;5;241m=\u001b[39m \u001b[43mwiktionary_lemma\u001b[49m\u001b[43m[\u001b[49m\u001b[43mmask_l\u001b[49m\u001b[43m]\u001b[49m\u001b[43m[\u001b[49m\u001b[43mspalten\u001b[49m\u001b[43m]\u001b[49m\n\u001b[1;32m      5\u001b[0m translate_abk1 \u001b[38;5;241m=\u001b[39m pak\u001b[38;5;241m.\u001b[39mrename_col(translate_abk1,\u001b[38;5;124m'\u001b[39m\u001b[38;5;124mlemma\u001b[39m\u001b[38;5;124m'\u001b[39m,    \u001b[38;5;124m'\u001b[39m\u001b[38;5;124mkurz\u001b[39m\u001b[38;5;124m'\u001b[39m)\n\u001b[1;32m      6\u001b[0m translate_abk1 \u001b[38;5;241m=\u001b[39m pak\u001b[38;5;241m.\u001b[39mrename_col(translate_abk1,\u001b[38;5;124m'\u001b[39m\u001b[38;5;124mlemma_id\u001b[39m\u001b[38;5;124m'\u001b[39m, \u001b[38;5;124m'\u001b[39m\u001b[38;5;124mkurz_id\u001b[39m\u001b[38;5;124m'\u001b[39m)\n",
      "File \u001b[0;32m~/mambaforge/envs/python_06/lib/python3.9/site-packages/pandas/core/frame.py:3813\u001b[0m, in \u001b[0;36mDataFrame.__getitem__\u001b[0;34m(self, key)\u001b[0m\n\u001b[1;32m   3811\u001b[0m     \u001b[38;5;28;01mif\u001b[39;00m is_iterator(key):\n\u001b[1;32m   3812\u001b[0m         key \u001b[38;5;241m=\u001b[39m \u001b[38;5;28mlist\u001b[39m(key)\n\u001b[0;32m-> 3813\u001b[0m     indexer \u001b[38;5;241m=\u001b[39m \u001b[38;5;28;43mself\u001b[39;49m\u001b[38;5;241;43m.\u001b[39;49m\u001b[43mcolumns\u001b[49m\u001b[38;5;241;43m.\u001b[39;49m\u001b[43m_get_indexer_strict\u001b[49m\u001b[43m(\u001b[49m\u001b[43mkey\u001b[49m\u001b[43m,\u001b[49m\u001b[43m \u001b[49m\u001b[38;5;124;43m\"\u001b[39;49m\u001b[38;5;124;43mcolumns\u001b[39;49m\u001b[38;5;124;43m\"\u001b[39;49m\u001b[43m)\u001b[49m[\u001b[38;5;241m1\u001b[39m]\n\u001b[1;32m   3815\u001b[0m \u001b[38;5;66;03m# take() does not accept boolean indexers\u001b[39;00m\n\u001b[1;32m   3816\u001b[0m \u001b[38;5;28;01mif\u001b[39;00m \u001b[38;5;28mgetattr\u001b[39m(indexer, \u001b[38;5;124m\"\u001b[39m\u001b[38;5;124mdtype\u001b[39m\u001b[38;5;124m\"\u001b[39m, \u001b[38;5;28;01mNone\u001b[39;00m) \u001b[38;5;241m==\u001b[39m \u001b[38;5;28mbool\u001b[39m:\n",
      "File \u001b[0;32m~/mambaforge/envs/python_06/lib/python3.9/site-packages/pandas/core/indexes/base.py:6070\u001b[0m, in \u001b[0;36mIndex._get_indexer_strict\u001b[0;34m(self, key, axis_name)\u001b[0m\n\u001b[1;32m   6067\u001b[0m \u001b[38;5;28;01melse\u001b[39;00m:\n\u001b[1;32m   6068\u001b[0m     keyarr, indexer, new_indexer \u001b[38;5;241m=\u001b[39m \u001b[38;5;28mself\u001b[39m\u001b[38;5;241m.\u001b[39m_reindex_non_unique(keyarr)\n\u001b[0;32m-> 6070\u001b[0m \u001b[38;5;28;43mself\u001b[39;49m\u001b[38;5;241;43m.\u001b[39;49m\u001b[43m_raise_if_missing\u001b[49m\u001b[43m(\u001b[49m\u001b[43mkeyarr\u001b[49m\u001b[43m,\u001b[49m\u001b[43m \u001b[49m\u001b[43mindexer\u001b[49m\u001b[43m,\u001b[49m\u001b[43m \u001b[49m\u001b[43maxis_name\u001b[49m\u001b[43m)\u001b[49m\n\u001b[1;32m   6072\u001b[0m keyarr \u001b[38;5;241m=\u001b[39m \u001b[38;5;28mself\u001b[39m\u001b[38;5;241m.\u001b[39mtake(indexer)\n\u001b[1;32m   6073\u001b[0m \u001b[38;5;28;01mif\u001b[39;00m \u001b[38;5;28misinstance\u001b[39m(key, Index):\n\u001b[1;32m   6074\u001b[0m     \u001b[38;5;66;03m# GH 42790 - Preserve name from an Index\u001b[39;00m\n",
      "File \u001b[0;32m~/mambaforge/envs/python_06/lib/python3.9/site-packages/pandas/core/indexes/base.py:6133\u001b[0m, in \u001b[0;36mIndex._raise_if_missing\u001b[0;34m(self, key, indexer, axis_name)\u001b[0m\n\u001b[1;32m   6130\u001b[0m     \u001b[38;5;28;01mraise\u001b[39;00m \u001b[38;5;167;01mKeyError\u001b[39;00m(\u001b[38;5;124mf\u001b[39m\u001b[38;5;124m\"\u001b[39m\u001b[38;5;124mNone of [\u001b[39m\u001b[38;5;132;01m{\u001b[39;00mkey\u001b[38;5;132;01m}\u001b[39;00m\u001b[38;5;124m] are in the [\u001b[39m\u001b[38;5;132;01m{\u001b[39;00maxis_name\u001b[38;5;132;01m}\u001b[39;00m\u001b[38;5;124m]\u001b[39m\u001b[38;5;124m\"\u001b[39m)\n\u001b[1;32m   6132\u001b[0m not_found \u001b[38;5;241m=\u001b[39m \u001b[38;5;28mlist\u001b[39m(ensure_index(key)[missing_mask\u001b[38;5;241m.\u001b[39mnonzero()[\u001b[38;5;241m0\u001b[39m]]\u001b[38;5;241m.\u001b[39munique())\n\u001b[0;32m-> 6133\u001b[0m \u001b[38;5;28;01mraise\u001b[39;00m \u001b[38;5;167;01mKeyError\u001b[39;00m(\u001b[38;5;124mf\u001b[39m\u001b[38;5;124m\"\u001b[39m\u001b[38;5;132;01m{\u001b[39;00mnot_found\u001b[38;5;132;01m}\u001b[39;00m\u001b[38;5;124m not in index\u001b[39m\u001b[38;5;124m\"\u001b[39m)\n",
      "\u001b[0;31mKeyError\u001b[0m: \"['doc_tag'] not in index\""
     ]
    }
   ],
   "source": [
    "# translate_abk1: Kurzformen aus wiktionary_lemma\n",
    "mask_l = wiktionary_lemma.member.str.contains('Abkürzung')\n",
    "spalten = ['lemma_id','lemma','tag','doc_tag','member','score',]\n",
    "translate_abk1 = wiktionary_lemma[mask_l][spalten]\n",
    "translate_abk1 = pak.rename_col(translate_abk1,'lemma',    'kurz')\n",
    "translate_abk1 = pak.rename_col(translate_abk1,'lemma_id', 'kurz_id')\n",
    "translate_abk1 = pak.rename_col(translate_abk1,'tag',      'kurz_tag')\n",
    "#translate_abk1 = pak.rename_col(translate_abk1,'doc_tag',  'kurz_tag2')\n",
    "translate_abk1 = pak.rename_col(translate_abk1,'member',   'kurz_member')\n",
    "translate_abk1 = pak.rename_col(translate_abk1,'score',    'kurz_score')\n",
    "translate_abk1 = pak.reset_index(translate_abk1)\n",
    "pak.sample(translate_abk1)"
   ]
  },
  {
   "cell_type": "code",
   "execution_count": null,
   "id": "cb7381c8-f26e-4f0c-ad9a-932756e8fa4a",
   "metadata": {
    "execution": {
     "iopub.status.busy": "2023-02-25T13:48:34.231410Z",
     "iopub.status.idle": "2023-02-25T13:48:34.232184Z",
     "shell.execute_reply": "2023-02-25T13:48:34.231880Z",
     "shell.execute_reply.started": "2023-02-25T13:48:34.231849Z"
    }
   },
   "outputs": [],
   "source": [
    "# Langform verknüpfen\n",
    "mask_m = (wiktionary_merkmal.merkmal == 'def') # alle Definitionen, nicht nur die der Abkürzungen\n",
    "\n",
    "# lang_id\n",
    "translate_abk1 = pak.update_col(              df_to =      translate_abk1, \n",
    "                                              df_from =    wiktionary_merkmal[mask_m], \n",
    "                                              left_on =    'kurz_id',\n",
    "                                              right_on =   'lemma_id',\n",
    "                                              col =        'data_id',\n",
    "                                              col_rename = 'lang_id',\n",
    "                                              func =       'first',\n",
    "                                            )\n",
    "# lang\n",
    "translate_abk1 = pak.update_col(              df_to =      translate_abk1, \n",
    "                                              df_from =    wiktionary_merkmal[mask_m], \n",
    "                                              left_on =    'kurz_id',\n",
    "                                              right_on =   'lemma_id',\n",
    "                                              col =        'data',\n",
    "                                              col_rename = 'lang',\n",
    "                                              func =       'first',\n",
    "                                            )\n",
    "\n",
    "# lang_tag\n",
    "translate_abk1 = pak.update_col(              df_to =      translate_abk1, \n",
    "                                              df_from =    wiktionary_lemma, \n",
    "                                              left_on =    'lang_id',\n",
    "                                              right_on =   'lemma_id',\n",
    "                                              col =        'tag',\n",
    "                                              col_rename = 'lang_tag',\n",
    "                                            )\n",
    "\n",
    "# lang_tag2\n",
    "translate_abk1 = pak.update_col(              df_to =      translate_abk1, \n",
    "                                              df_from =    wiktionary_lemma, \n",
    "                                              left_on =    'lang_id',\n",
    "                                              right_on =   'lemma_id',\n",
    "                                              col =        'doc_tag',\n",
    "                                              col_rename = 'lang_tag2',\n",
    "                                            )\n",
    "\n",
    "# lang_member\n",
    "translate_abk1 = pak.update_col(              df_to =      translate_abk1, \n",
    "                                              df_from =    wiktionary_lemma, \n",
    "                                              left_on =    'lang_id',\n",
    "                                              right_on =   'lemma_id',\n",
    "                                              col =        'member',\n",
    "                                              col_rename = 'lang_member',\n",
    "                                            )\n",
    "\n",
    "# lang_score\n",
    "translate_abk1 = pak.update_col(              df_to =      translate_abk1, \n",
    "                                              df_from =    wiktionary_lemma, \n",
    "                                              left_on =    'lang_id',\n",
    "                                              right_on =   'lemma_id',\n",
    "                                              col =        'score',\n",
    "                                              col_rename = 'lang_score',\n",
    "                                            )\n",
    "\n",
    "translate_abk1['todo'] = 'lemma' \n",
    "translate_abk1['rank'] = 1.8 \n",
    "print()\n",
    "pak.sample(translate_abk1)"
   ]
  },
  {
   "cell_type": "markdown",
   "id": "2ea9abb8-740c-4b12-ae1d-b465806b47f8",
   "metadata": {},
   "source": [
    "#### translate_abk2"
   ]
  },
  {
   "cell_type": "code",
   "execution_count": null,
   "id": "580c29df-9e28-4796-afc0-e13bdc7aafc9",
   "metadata": {
    "execution": {
     "iopub.status.busy": "2023-02-25T13:48:34.237714Z",
     "iopub.status.idle": "2023-02-25T13:48:34.238109Z",
     "shell.execute_reply": "2023-02-25T13:48:34.237948Z",
     "shell.execute_reply.started": "2023-02-25T13:48:34.237931Z"
    }
   },
   "outputs": [],
   "source": [
    "# translate_abk2: aus wiktionary_merkmal_abk\n",
    "translate_abk2 = wiktionary_merkmal_abk.copy()\n",
    "translate_abk2 = pak.drop_cols(translate_abk2,['num','merkmal'])\n",
    "translate_abk2 = pak.rename_col(translate_abk2,'lemma_id',  'lang_id')\n",
    "translate_abk2 = pak.rename_col(translate_abk2,'lemma_tag', 'lang_tag')\n",
    "translate_abk2 = pak.rename_col(translate_abk2,'score',     'lang_score')\n",
    "translate_abk2 = pak.rename_col(translate_abk2,'data',      'kurz')\n",
    "translate_abk2 = pak.rename_col(translate_abk2,'data_id',   'kurz_id')\n",
    "translate_abk2 = pak.rename_col(translate_abk2,'meta',      'kurz_member')\n",
    "translate_abk2 = pak.reset_index(translate_abk2)\n",
    "translate_abk2 = pak.move_cols(translate_abk2,['kurz_id','kurz'])\n",
    "pak.sample(translate_abk2)"
   ]
  },
  {
   "cell_type": "code",
   "execution_count": null,
   "id": "42051f5b-fc60-4aa7-8895-61bc88705230",
   "metadata": {
    "execution": {
     "iopub.status.busy": "2023-02-25T13:48:34.241614Z",
     "iopub.status.idle": "2023-02-25T13:48:34.241979Z",
     "shell.execute_reply": "2023-02-25T13:48:34.241830Z",
     "shell.execute_reply.started": "2023-02-25T13:48:34.241815Z"
    }
   },
   "outputs": [],
   "source": [
    "# keine eigene kurz_id\n",
    "mask = translate_abk2.kurz_id == translate_abk2.lang_id\n",
    "check_mask(translate_abk2,mask, 0) \n",
    "translate_abk2.loc[mask,'kurz_id'] = ''"
   ]
  },
  {
   "cell_type": "code",
   "execution_count": null,
   "id": "9168be18-222d-4d2f-a34b-d2f0e7baf546",
   "metadata": {
    "execution": {
     "iopub.status.busy": "2023-02-25T13:48:34.242507Z",
     "iopub.status.idle": "2023-02-25T13:48:34.242797Z",
     "shell.execute_reply": "2023-02-25T13:48:34.242664Z",
     "shell.execute_reply.started": "2023-02-25T13:48:34.242651Z"
    }
   },
   "outputs": [],
   "source": [
    "# kurz_id ist nicht in wiktionary_lemma\n",
    "mask1 = ~translate_abk2.kurz_id.isin(wiktionary_lemma.lemma_id)\n",
    "mask2 =  translate_abk2.kurz_id != ''\n",
    "mask = mask1  &  mask2 \n",
    "check_mask(translate_abk2,mask,4503) \n",
    "translate_abk2.loc[mask,'kurz_id'] = ''"
   ]
  },
  {
   "cell_type": "code",
   "execution_count": null,
   "id": "6de5bc75-fd54-465d-bf7f-9aa75820e6d9",
   "metadata": {
    "execution": {
     "iopub.status.busy": "2023-02-25T13:48:34.243413Z",
     "iopub.status.idle": "2023-02-25T13:48:34.243703Z",
     "shell.execute_reply": "2023-02-25T13:48:34.243579Z",
     "shell.execute_reply.started": "2023-02-25T13:48:34.243565Z"
    }
   },
   "outputs": [],
   "source": [
    "# War das richtig?\n",
    "bgc('orange')"
   ]
  },
  {
   "cell_type": "code",
   "execution_count": null,
   "id": "651c6f8b-bb4d-4358-ae11-772eab860951",
   "metadata": {
    "execution": {
     "iopub.status.busy": "2023-02-25T13:48:34.244200Z",
     "iopub.status.idle": "2023-02-25T13:48:34.244465Z",
     "shell.execute_reply": "2023-02-25T13:48:34.244344Z",
     "shell.execute_reply.started": "2023-02-25T13:48:34.244331Z"
    }
   },
   "outputs": [],
   "source": [
    "# kurz_tag\n",
    "translate_abk2 = pak.update_col(              df_to =      translate_abk2, \n",
    "                                              df_from =    wiktionary_lemma, \n",
    "                                              left_on =    'kurz_id',\n",
    "                                              right_on =   'lemma_id',\n",
    "                                              col =        'tag',\n",
    "                                              col_rename = 'kurz_tag',\n",
    "                                              func =       'first',\n",
    "                                            )\n",
    "\n",
    "# kurz_tag2\n",
    "translate_abk2 = pak.update_col(              df_to =      translate_abk2, \n",
    "                                              df_from =    wiktionary_lemma, \n",
    "                                              left_on =    'kurz_id',\n",
    "                                              right_on =   'lemma_id',\n",
    "                                              col =        'doc_tag',\n",
    "                                              col_rename = 'kurz_tag2',\n",
    "                                            )\n",
    "\n",
    "# kurz_member\n",
    "translate_abk2 = pak.update_col(              df_to =      translate_abk2, \n",
    "                                              df_from =    wiktionary_lemma, \n",
    "                                              left_on =    'kurz_id',\n",
    "                                              right_on =   'lemma_id',\n",
    "                                              col =        'member',\n",
    "                                              col_rename = 'kurz_member',\n",
    "                                              cond =       'null'\n",
    "                                            )\n",
    "\n",
    "# kurz_score\n",
    "translate_abk2 = pak.update_col(              df_to =      translate_abk2, \n",
    "                                              df_from =    wiktionary_lemma, \n",
    "                                              left_on =    'kurz_id',\n",
    "                                              right_on =   'lemma_id',\n",
    "                                              col =        'score',\n",
    "                                              col_rename = 'kurz_score',\n",
    "                                            )\n",
    "\n",
    "# lang\n",
    "translate_abk2 = pak.update_col(              df_to =      translate_abk2, \n",
    "                                              df_from =    wiktionary_lemma, \n",
    "                                              left_on =    'lang_id',\n",
    "                                              right_on =   'lemma_id',\n",
    "                                              col =        'lemma',\n",
    "                                              col_rename = 'lang',\n",
    "                                            )\n",
    "# lang_tag2\n",
    "translate_abk2 = pak.update_col(              df_to =      translate_abk2, \n",
    "                                              df_from =    wiktionary_lemma, \n",
    "                                              left_on =    'lang_id',\n",
    "                                              right_on =   'lemma_id',\n",
    "                                              col =        'doc_tag',\n",
    "                                              col_rename = 'lang_tag2',\n",
    "                                            )\n",
    "\n",
    "\n",
    "# lang_member\n",
    "translate_abk2 = pak.update_col(              df_to =      translate_abk2, \n",
    "                                              df_from =    wiktionary_lemma, \n",
    "                                              left_on =    'lang_id',\n",
    "                                              right_on =   'lemma_id',\n",
    "                                              col =        'member',\n",
    "                                              col_rename = 'lang_member',\n",
    "                                            )\n",
    "\n",
    "\n",
    "translate_abk2 = pak.move_cols(translate_abk2,['kurz_tag','kurz_tag2','kurz_member','kurz_score'],'kurz')\n",
    "translate_abk2 = pak.move_cols(translate_abk2,['lang','lang_tag','lang_tag2','lang_member'],'lang_id')\n",
    "translate_abk2['rank'] = 1.0 \n",
    "translate_abk2['todo'] = 'merkmal' \n",
    "print()\n",
    "pak.sample(translate_abk2)"
   ]
  },
  {
   "cell_type": "markdown",
   "id": "aa9cb82d-c6e2-4d59-af21-660bd149bf1b",
   "metadata": {},
   "source": [
    "#### translate_abk"
   ]
  },
  {
   "cell_type": "code",
   "execution_count": null,
   "id": "53d17023-1824-4c83-9932-7df90deeb8fa",
   "metadata": {
    "execution": {
     "iopub.status.busy": "2023-02-25T13:48:34.244927Z",
     "iopub.status.idle": "2023-02-25T13:48:34.245178Z",
     "shell.execute_reply": "2023-02-25T13:48:34.245062Z",
     "shell.execute_reply.started": "2023-02-25T13:48:34.245049Z"
    }
   },
   "outputs": [],
   "source": [
    "# translate_abk erstellen\n",
    "translate_abk = pd.concat([translate_abk1,translate_abk2], ignore_index=True)\n",
    "translate_abk = pak.change_datatype(translate_abk)\n",
    "translate_abk_trash = translate_abk.head(0)\n",
    "translate_abk_trash['msg'] = None"
   ]
  },
  {
   "cell_type": "code",
   "execution_count": null,
   "id": "a77d444c-ead0-4d2f-994b-c639609b13f2",
   "metadata": {
    "execution": {
     "iopub.status.busy": "2023-02-25T13:48:34.245666Z",
     "iopub.status.idle": "2023-02-25T13:48:34.245926Z",
     "shell.execute_reply": "2023-02-25T13:48:34.245806Z",
     "shell.execute_reply.started": "2023-02-25T13:48:34.245793Z"
    }
   },
   "outputs": [],
   "source": [
    "# fillna\n",
    "\n",
    "translate_abk['kurz_id']     = translate_abk.kurz_id.fillna('')\n",
    "translate_abk['lang_id']     = translate_abk.lang_id.fillna('')\n",
    "\n",
    "translate_abk['kurz']        = translate_abk.kurz.fillna('')\n",
    "translate_abk['lang']        = translate_abk.lang.fillna('')\n",
    "\n",
    "translate_abk['kurz_tag']    = translate_abk.kurz_tag.fillna('').str.replace('TODO','').str.strip()\n",
    "translate_abk['lang_tag']    = translate_abk.lang_tag.fillna('').str.replace('TODO','').str.strip()\n",
    "\n",
    "translate_abk['kurz_tag2']    = translate_abk.kurz_tag2.fillna('')\n",
    "translate_abk['lang_tag2']    = translate_abk.lang_tag2.fillna('')\n",
    "\n",
    "translate_abk['kurz_member'] = translate_abk.kurz_member.fillna('')\n",
    "translate_abk['lang_member'] = translate_abk.lang_member.fillna('')\n",
    "\n",
    "translate_abk['kurz_score']  = translate_abk.kurz_score.fillna(0)\n",
    "translate_abk['lang_score']  = translate_abk.lang_score.fillna(0)"
   ]
  },
  {
   "cell_type": "markdown",
   "id": "1b183251-96da-420e-9b57-9e917ef01eee",
   "metadata": {},
   "source": [
    "#### Belöschen und ranken"
   ]
  },
  {
   "cell_type": "code",
   "execution_count": null,
   "id": "30e7a5d3-db2a-44f1-888c-9d84aa4e3df6",
   "metadata": {
    "execution": {
     "iopub.status.busy": "2023-02-25T13:48:34.246427Z",
     "iopub.status.idle": "2023-02-25T13:48:34.252658Z",
     "shell.execute_reply": "2023-02-25T13:48:34.252379Z",
     "shell.execute_reply.started": "2023-02-25T13:48:34.246555Z"
    }
   },
   "outputs": [],
   "source": [
    "# konkurrenz: Wie viele konkurrierende lang_id gibt es?\n",
    "gruppiert = translate_abk.groupby(['kurz'])\n",
    "translate_abk['konkurrenz'] = gruppiert.lang_id.transform( 'nunique' ) "
   ]
  },
  {
   "cell_type": "code",
   "execution_count": null,
   "id": "a2ea3502-fdb6-49a3-a512-c33e3d2b21f4",
   "metadata": {
    "execution": {
     "iopub.status.busy": "2023-02-25T13:48:34.253324Z",
     "iopub.status.idle": "2023-02-25T13:48:34.253797Z",
     "shell.execute_reply": "2023-02-25T13:48:34.253556Z",
     "shell.execute_reply.started": "2023-02-25T13:48:34.253528Z"
    }
   },
   "outputs": [],
   "source": [
    "#grid(translate_abk)"
   ]
  },
  {
   "cell_type": "code",
   "execution_count": null,
   "id": "a75842d7-8fb3-4099-b48a-086cfedbebf5",
   "metadata": {
    "execution": {
     "iopub.status.busy": "2023-02-25T13:48:34.254810Z",
     "iopub.status.idle": "2023-02-25T13:48:34.258695Z",
     "shell.execute_reply": "2023-02-25T13:48:34.258307Z",
     "shell.execute_reply.started": "2023-02-25T13:48:34.258251Z"
    }
   },
   "outputs": [],
   "source": [
    "# ID fehlt\n",
    "maskA = translate_abk.kurz_id == ''\n",
    "maskB = translate_abk.lang_id == ''\n",
    "mask = maskA | maskB\n",
    "check_mask(translate_abk,mask,6213)\n",
    "\n",
    "translate_abk.loc[mask,'rank'] *= 0.5\n",
    "translate_abk[mask]"
   ]
  },
  {
   "cell_type": "code",
   "execution_count": null,
   "id": "9ae5706e-9fc0-4fa5-a03a-2fa9a3832946",
   "metadata": {
    "execution": {
     "iopub.status.busy": "2023-02-25T13:48:34.264630Z",
     "iopub.status.idle": "2023-02-25T13:48:34.265235Z",
     "shell.execute_reply": "2023-02-25T13:48:34.264991Z",
     "shell.execute_reply.started": "2023-02-25T13:48:34.264965Z"
    }
   },
   "outputs": [],
   "source": [
    "# Anfangsbuchstabe ungleich\n",
    "mask1 = (translate_abk.lang.str[0].str.lower()  !=  translate_abk.kurz.str[0].str.lower())\n",
    "mask2 = ~translate_abk.kurz.str[0].str.isdigit() \n",
    "mask3 = ~translate_abk.kurz.isin(geschütze_abkürzungen)\n",
    "mask = mask1  &  mask2  &  mask3\n",
    "check_mask(translate_abk,mask,992)\n",
    "\n",
    "translate_abk.loc[mask,'rank'] *= 0.8\n",
    "translate_abk[mask]"
   ]
  },
  {
   "cell_type": "code",
   "execution_count": null,
   "id": "3bdda937-62fd-4cf1-b5fc-8ba0640b86de",
   "metadata": {
    "execution": {
     "iopub.status.busy": "2023-02-25T13:48:34.266053Z",
     "iopub.status.idle": "2023-02-25T13:48:34.266372Z",
     "shell.execute_reply": "2023-02-25T13:48:34.266238Z",
     "shell.execute_reply.started": "2023-02-25T13:48:34.266224Z"
    }
   },
   "outputs": [],
   "source": [
    "# nichtssagende_abk1\n",
    "mask1 =  translate_abk.kurz.str.len() == 3\n",
    "mask2 =  translate_abk.kurz.str.startswith('ge')\n",
    "mask3 = ~translate_abk.kurz.isin(geschütze_abkürzungen)\n",
    "mask4 = ~translate_abk.kurz_member.str.contains('manuell')\n",
    "mask = mask1  &  mask2  &  mask3  &  mask4\n",
    "check_mask(translate_abk,mask,20)\n",
    "\n",
    "msg = 'nichtssagende_abk1'\n",
    "translate_abk, translate_abk_trash = pak.move_rows( translate_abk, translate_abk_trash, mask, msg)\n",
    "\n",
    "# anschauen\n",
    "grid( translate_abk_trash, msg )"
   ]
  },
  {
   "cell_type": "code",
   "execution_count": null,
   "id": "2e163456-091d-4ad0-b547-0d19399368bf",
   "metadata": {
    "execution": {
     "iopub.status.busy": "2023-02-25T13:48:34.275657Z",
     "iopub.status.idle": "2023-02-25T13:48:34.276419Z",
     "shell.execute_reply": "2023-02-25T13:48:34.276127Z",
     "shell.execute_reply.started": "2023-02-25T13:48:34.276097Z"
    }
   },
   "outputs": [],
   "source": [
    "# nichtssagende_abk2\n",
    "mask1 =  translate_abk.kurz.str.len() == 4\n",
    "mask2 =  translate_abk.kurz.str.startswith('ge')\n",
    "mask3 =  translate_abk.kurz.str.endswith('.')\n",
    "mask4 = ~translate_abk.kurz.isin(geschütze_abkürzungen)\n",
    "mask5 = ~translate_abk.kurz_member.str.contains('manuell')\n",
    "mask = mask1  &  mask2  &  mask3  &  mask4  &  mask5\n",
    "check_mask(translate_abk,mask,34)\n",
    "\n",
    "msg = 'nichtssagende_abk2'\n",
    "translate_abk, translate_abk_trash = pak.move_rows( translate_abk, translate_abk_trash, mask, msg)\n",
    "\n",
    "# anschauen\n",
    "grid( translate_abk_trash, msg )"
   ]
  },
  {
   "cell_type": "code",
   "execution_count": null,
   "id": "2b5e0708-d013-4ea9-8a7c-95955fe81259",
   "metadata": {
    "execution": {
     "iopub.status.busy": "2023-02-25T13:48:34.280649Z",
     "iopub.status.idle": "2023-02-25T13:48:34.282045Z",
     "shell.execute_reply": "2023-02-25T13:48:34.281860Z",
     "shell.execute_reply.started": "2023-02-25T13:48:34.281836Z"
    }
   },
   "outputs": [],
   "source": [
    "# Abk_kürzt_nicht\n",
    "mask1 =  translate_abk.lang.str.len() <= translate_abk.kurz.str.len() \n",
    "mask2 =  translate_abk.lang_id != ''\n",
    "mask3 =  translate_abk.kurz_id != ''\n",
    "mask4 = ~translate_abk.kurz.isin(geschütze_abkürzungen)\n",
    "mask5 = ~translate_abk.kurz_member.str.contains('manuell')\n",
    "mask = mask1  &  mask2  &  mask3  &  mask4  &  mask5\n",
    "check_mask(translate_abk,mask,161)\n",
    "\n",
    "msg = 'Abk_kürzt_nicht'\n",
    "translate_abk, translate_abk_trash = pak.move_rows( translate_abk, translate_abk_trash, mask, msg)\n",
    "\n",
    "# anschauen\n",
    "grid( translate_abk_trash, msg )"
   ]
  },
  {
   "cell_type": "code",
   "execution_count": null,
   "id": "fb337d17-07b2-4e8c-8dfb-a5b4182d1ef6",
   "metadata": {
    "execution": {
     "iopub.status.busy": "2023-02-25T13:48:34.283833Z",
     "iopub.status.idle": "2023-02-25T13:48:34.287373Z",
     "shell.execute_reply": "2023-02-25T13:48:34.287155Z",
     "shell.execute_reply.started": "2023-02-25T13:48:34.287129Z"
    }
   },
   "outputs": [],
   "source": [
    "# zu_kurz_end_Vokal\n",
    "mask1 =  translate_abk.kurz.str.len() == 3 \n",
    "mask2 =  translate_abk.kurz.str.lower().str.endswith(('a.','e.','i.','o.','u.','ä.','ö.','ü.','y.'))\n",
    "mask3 =  translate_abk.kurz_tag == ''\n",
    "mask4 = ~translate_abk.kurz.isin(geschütze_abkürzungen)\n",
    "mask5 = ~translate_abk.kurz_member.str.contains('manuell')\n",
    "mask = mask1  &  mask2  &  mask3  &  mask4  &  mask5\n",
    "check_mask(translate_abk,mask,20)\n",
    "\n",
    "msg = 'zu_kurz_end_Vokal'\n",
    "translate_abk, translate_abk_trash = pak.move_rows( translate_abk, translate_abk_trash, mask, msg)\n",
    "\n",
    "# anschauen\n",
    "grid( translate_abk_trash, msg )"
   ]
  },
  {
   "cell_type": "code",
   "execution_count": null,
   "id": "e8e052b6-fa3f-4077-9ee0-7850740e1826",
   "metadata": {
    "execution": {
     "iopub.status.busy": "2023-02-25T13:48:34.288267Z",
     "iopub.status.idle": "2023-02-25T13:48:34.291424Z",
     "shell.execute_reply": "2023-02-25T13:48:34.291199Z",
     "shell.execute_reply.started": "2023-02-25T13:48:34.291170Z"
    }
   },
   "outputs": [],
   "source": [
    "# zu_kurz_start_Vokal\n",
    "mask1 =  translate_abk.kurz.str.len() == 3 \n",
    "mask2 =  translate_abk.kurz.str.endswith('.')\n",
    "mask3 =  translate_abk.kurz.str.lower().str.startswith(('a','e','i','o','u','ä','ö','ü','y'))\n",
    "mask4 =  translate_abk.kurz_tag == ''\n",
    "mask5 = ~translate_abk.kurz.isin(geschütze_abkürzungen)\n",
    "mask6 = ~translate_abk.kurz_member.str.contains('manuell')\n",
    "mask = mask1  &  mask2  &  mask3  &  mask4  &  mask5  &  mask6\n",
    "check_mask(translate_abk,mask,18)\n",
    "\n",
    "msg = 'zu_kurz_start_Vokal'\n",
    "translate_abk, translate_abk_trash = pak.move_rows( translate_abk, translate_abk_trash, mask, msg)\n",
    "\n",
    "# anschauen\n",
    "grid( translate_abk_trash, msg )"
   ]
  },
  {
   "cell_type": "code",
   "execution_count": null,
   "id": "00cef038-892d-4c4a-9498-f7a1d51dadce",
   "metadata": {
    "execution": {
     "iopub.status.busy": "2023-02-25T13:48:34.292317Z",
     "iopub.status.idle": "2023-02-25T13:48:34.292711Z",
     "shell.execute_reply": "2023-02-25T13:48:34.292570Z",
     "shell.execute_reply.started": "2023-02-25T13:48:34.292554Z"
    }
   },
   "outputs": [],
   "source": [
    "# Ranking: Ist die Abkürzung in lexeme_manuell?\n",
    "mask = translate_abk.kurz_member.str.contains('manuell')\n",
    "translate_abk.loc[mask,'rank'] *= 2.0\n",
    "\n",
    "mask = translate_abk.lang_member.str.contains('manuell')\n",
    "translate_abk.loc[mask,'rank'] *= 2.0"
   ]
  },
  {
   "cell_type": "code",
   "execution_count": null,
   "id": "d2d36743-c459-45fc-a0ec-f8472b7b8680",
   "metadata": {
    "execution": {
     "iopub.status.busy": "2023-02-25T13:48:34.298198Z",
     "iopub.status.idle": "2023-02-25T13:48:34.298537Z",
     "shell.execute_reply": "2023-02-25T13:48:34.298404Z",
     "shell.execute_reply.started": "2023-02-25T13:48:34.298389Z"
    }
   },
   "outputs": [],
   "source": [
    "# Ranking: Ist die Abkürzung beidseitig verknüpft?\n",
    "gruppiert = translate_abk.groupby(['kurz_id'])\n",
    "translate_abk['rank2'] = gruppiert.todo.transform( 'nunique' ) \n",
    "\n",
    "mask = translate_abk.rank2 > 1\n",
    "translate_abk.loc[mask,'rank'] *= 5.0\n",
    "translate_abk = pak.drop_cols(translate_abk,'rank2')"
   ]
  },
  {
   "cell_type": "code",
   "execution_count": null,
   "id": "cc33133a-62f4-4f3e-a6d5-35c7b6900587",
   "metadata": {
    "execution": {
     "iopub.status.busy": "2023-02-25T13:48:34.299051Z",
     "iopub.status.idle": "2023-02-25T13:48:34.299319Z",
     "shell.execute_reply": "2023-02-25T13:48:34.299194Z",
     "shell.execute_reply.started": "2023-02-25T13:48:34.299181Z"
    }
   },
   "outputs": [],
   "source": [
    "# Abkürzung hat eigenen Eintrag\n",
    "mask = translate_abk.kurz_id != ''\n",
    "translate_abk.loc[mask,'rank'] *= 2.0"
   ]
  },
  {
   "cell_type": "code",
   "execution_count": null,
   "id": "3c4e2666-a025-454d-83b7-5727dc1fd958",
   "metadata": {
    "execution": {
     "iopub.status.busy": "2023-02-25T13:48:34.299801Z",
     "iopub.status.idle": "2023-02-25T13:48:34.300151Z",
     "shell.execute_reply": "2023-02-25T13:48:34.300028Z",
     "shell.execute_reply.started": "2023-02-25T13:48:34.300014Z"
    }
   },
   "outputs": [],
   "source": [
    "# Ranking: lang_score\n",
    "translate_abk['rank'] *= (translate_abk.lang_score + 0.2)"
   ]
  },
  {
   "cell_type": "code",
   "execution_count": null,
   "id": "2ad690a7-c9aa-4407-8324-b81da81c98e2",
   "metadata": {
    "execution": {
     "iopub.status.busy": "2023-02-25T13:48:34.300651Z",
     "iopub.status.idle": "2023-02-25T13:48:34.300916Z",
     "shell.execute_reply": "2023-02-25T13:48:34.300797Z",
     "shell.execute_reply.started": "2023-02-25T13:48:34.300783Z"
    }
   },
   "outputs": [],
   "source": [
    "# Ranking: Kein tag\n",
    "mask = translate_abk.lang_tag == ''\n",
    "translate_abk.loc[mask,'rank'] *= 0.2\n",
    "translate_abk[mask]"
   ]
  },
  {
   "cell_type": "code",
   "execution_count": null,
   "id": "ddf41b60-11a9-4dc9-ba16-01ea06259f0a",
   "metadata": {
    "execution": {
     "iopub.status.busy": "2023-02-25T13:48:34.301387Z",
     "iopub.status.idle": "2023-02-25T13:48:34.301641Z",
     "shell.execute_reply": "2023-02-25T13:48:34.301524Z",
     "shell.execute_reply.started": "2023-02-25T13:48:34.301512Z"
    }
   },
   "outputs": [],
   "source": [
    "# sicherheitshalber einmal sortieren\n",
    "translate_abk = translate_abk.sort_values(['kurz','lang_score'],ascending=[True,False]).reset_index(drop=True)"
   ]
  },
  {
   "cell_type": "code",
   "execution_count": null,
   "id": "58817e97-e825-4ee4-8830-e0f02c5508c1",
   "metadata": {
    "execution": {
     "iopub.status.busy": "2023-02-25T13:48:34.302125Z",
     "iopub.status.idle": "2023-02-25T13:48:34.302385Z",
     "shell.execute_reply": "2023-02-25T13:48:34.302265Z",
     "shell.execute_reply.started": "2023-02-25T13:48:34.302251Z"
    }
   },
   "outputs": [],
   "source": [
    "# Ranking betrachten\n",
    "grid(translate_abk.sort_values(['konkurrenz','kurz','rank',],ascending=[False,True,False]))"
   ]
  },
  {
   "cell_type": "code",
   "execution_count": null,
   "id": "d8ef0305-4286-4761-b0bd-75cf54759f63",
   "metadata": {
    "execution": {
     "iopub.status.busy": "2023-02-25T13:48:34.302863Z",
     "iopub.status.idle": "2023-02-25T13:48:34.303163Z",
     "shell.execute_reply": "2023-02-25T13:48:34.303040Z",
     "shell.execute_reply.started": "2023-02-25T13:48:34.303027Z"
    }
   },
   "outputs": [],
   "source": [
    "# rank!\n",
    "translate_abk = pak.rank(translate_abk, col_score='rank', cols_group='kurz', on_conflict='first')"
   ]
  },
  {
   "cell_type": "code",
   "execution_count": null,
   "id": "53da49e6-9dff-49ff-b5e7-3a6babc6376b",
   "metadata": {
    "execution": {
     "iopub.status.busy": "2023-02-25T13:48:34.303791Z",
     "iopub.status.idle": "2023-02-25T13:48:34.304058Z",
     "shell.execute_reply": "2023-02-25T13:48:34.303935Z",
     "shell.execute_reply.started": "2023-02-25T13:48:34.303922Z"
    }
   },
   "outputs": [],
   "source": [
    "# zu häufig und Anfangsbuchstabe ungleich\n",
    "\n",
    "erlaubt = ['Ingenieur','okay','per Adresse','Professor','Kalorie','insbesondere','insbesonders']\n",
    "\n",
    "a = pak.analyse_freqs(translate_abk,'lang')\n",
    "mask_a = a.lang_count >= 5 \n",
    "mask1 = translate_abk.lang.isin(a[mask_a].lang)\n",
    "mask2 = (translate_abk.lang.str[0].str.lower()  !=  translate_abk.kurz.str[0].str.lower())\n",
    "mask3 = ~translate_abk.kurz.str[0].str.isdigit() \n",
    "mask4 = ~translate_abk.kurz.isin(geschütze_abkürzungen)\n",
    "mask5A = translate_abk.kurz_member == 'Abkürzung'  # genau gleich 'Abkürzung', also nichts zusätzliches \n",
    "mask5B = translate_abk.kurz_member == ''           # oder ganz leer \n",
    "mask6 = ~translate_abk.lang.isin(erlaubt)\n",
    "mask = mask1  &  mask2  &  mask3  &  mask4  &  (mask5A | mask5B)  &  mask6  \n",
    "check_mask(translate_abk,mask,183)\n",
    "\n",
    "msg = 'zu_häufig'\n",
    "translate_abk, translate_abk_trash = pak.move_rows( translate_abk, translate_abk_trash, mask, msg)\n",
    "\n",
    "# anschauen\n",
    "grid( translate_abk_trash, msg )"
   ]
  },
  {
   "cell_type": "code",
   "execution_count": null,
   "id": "b162a396-e036-4b03-9278-a0dbac101636",
   "metadata": {
    "execution": {
     "iopub.status.busy": "2023-02-25T13:48:34.307116Z",
     "iopub.status.idle": "2023-02-25T13:48:34.307495Z",
     "shell.execute_reply": "2023-02-25T13:48:34.307343Z",
     "shell.execute_reply.started": "2023-02-25T13:48:34.307329Z"
    }
   },
   "outputs": [],
   "source": [
    "a = pak.analyse_freqs(translate_abk,['lang','kurz'])\n",
    "grid(a)"
   ]
  },
  {
   "cell_type": "code",
   "execution_count": null,
   "id": "63c7bee4-31ec-4f02-af3b-503ce5c5a4a2",
   "metadata": {
    "execution": {
     "iopub.status.busy": "2023-02-25T13:48:34.308097Z",
     "iopub.status.idle": "2023-02-25T13:48:34.308365Z",
     "shell.execute_reply": "2023-02-25T13:48:34.308244Z",
     "shell.execute_reply.started": "2023-02-25T13:48:34.308231Z"
    }
   },
   "outputs": [],
   "source": [
    "# erlaubt_und_verboten\n",
    "\n",
    "verboten     = ['Bundesministerium','Brandmeister','Braumeister','Rundfunk','Ortsnamengrundwort','Kurzwort','Diminutiv','diminuendo']\n",
    "doch_erlaubt = []\n",
    "\n",
    "mask1 =  translate_abk.lang.isin(verboten) \n",
    "mask2 = ~translate_abk.lang.isin(doch_erlaubt) \n",
    "mask3 = ~translate_abk.kurz.isin(geschütze_abkürzungen)\n",
    "mask4 = ~translate_abk.kurz_member.str.contains('manuell')\n",
    "mask = mask1  &  mask2  &  mask3  &  mask4 \n",
    "#grid(translate_abk,mask)\n",
    "check_mask(translate_abk,mask,66)\n",
    "\n",
    "msg = 'erlaubt_und_verboten'\n",
    "translate_abk, translate_abk_trash = pak.move_rows( translate_abk, translate_abk_trash, mask, msg)\n",
    "\n",
    "# anschauen\n",
    "grid( translate_abk_trash, msg )"
   ]
  },
  {
   "cell_type": "code",
   "execution_count": null,
   "id": "07608b2b-4bcf-4874-b728-96244749cf67",
   "metadata": {
    "execution": {
     "iopub.status.busy": "2023-02-25T13:48:34.308868Z",
     "iopub.status.idle": "2023-02-25T13:48:34.309127Z",
     "shell.execute_reply": "2023-02-25T13:48:34.309007Z",
     "shell.execute_reply.started": "2023-02-25T13:48:34.308994Z"
    }
   },
   "outputs": [],
   "source": [
    "# lang_tag_fehlt\n",
    "mask1 = translate_abk.lang_tag == ''\n",
    "mask2 = translate_abk.kurz_tag != ''\n",
    "mask3 = translate_abk.lang_id  != ''\n",
    "mask4 = ~translate_abk.kurz.isin(geschütze_abkürzungen)\n",
    "mask5 = ~translate_abk.kurz_member.str.contains('manuell')\n",
    "mask = mask1  &  mask2  &  mask3  &  mask4  &  mask5\n",
    "#grid(translate_abk,mask)\n",
    "check_mask(translate_abk,mask,6)\n",
    "\n",
    "msg = 'lang_tag_fehlt'\n",
    "translate_abk, translate_abk_trash = pak.move_rows( translate_abk, translate_abk_trash, mask, msg)\n",
    "\n",
    "# anschauen\n",
    "grid( translate_abk_trash, msg )"
   ]
  },
  {
   "cell_type": "code",
   "execution_count": null,
   "id": "60647115-4620-409a-bf98-298aa22d9e4c",
   "metadata": {
    "execution": {
     "iopub.status.busy": "2023-02-25T13:48:34.309607Z",
     "iopub.status.idle": "2023-02-25T13:48:34.309871Z",
     "shell.execute_reply": "2023-02-25T13:48:34.309751Z",
     "shell.execute_reply.started": "2023-02-25T13:48:34.309737Z"
    }
   },
   "outputs": [],
   "source": [
    "# tag von lang nach kurz übertragen\n",
    "mask1 = translate_abk.kurz_tag == ''\n",
    "mask2 = translate_abk.lang_tag != ''\n",
    "mask = mask1  &  mask2\n",
    "check_mask(translate_abk,mask,5068)\n",
    "\n",
    "translate_abk.loc[mask,'kurz_tag'] = translate_abk[mask].lang_tag\n",
    "grid(translate_abk,mask)"
   ]
  },
  {
   "cell_type": "code",
   "execution_count": null,
   "id": "31666e64-697b-4a4c-aa5c-89cd7afb4fe7",
   "metadata": {
    "execution": {
     "iopub.status.busy": "2023-02-25T13:48:34.310342Z",
     "iopub.status.idle": "2023-02-25T13:48:34.310599Z",
     "shell.execute_reply": "2023-02-25T13:48:34.310481Z",
     "shell.execute_reply.started": "2023-02-25T13:48:34.310468Z"
    }
   },
   "outputs": [],
   "source": [
    "# Weiterer_Schrott\n",
    "mask1 =  translate_abk.kurz_tag == ''\n",
    "mask2 = ~translate_abk.lang_member.isin(['','Wortverbindung','Redewendung'])\n",
    "mask3 = ~translate_abk.kurz.isin(geschütze_abkürzungen)\n",
    "mask4 = ~translate_abk.kurz_member.str.contains('manuell')\n",
    "mask = mask1  &  mask2  &  mask3  &  mask4  \n",
    "#grid(translate_abk,mask)\n",
    "check_mask(translate_abk,mask,2)\n",
    "\n",
    "msg = 'Weiterer_Schrott'\n",
    "translate_abk, translate_abk_trash = pak.move_rows( translate_abk, translate_abk_trash, mask, msg)\n",
    "\n",
    "# anschauen\n",
    "grid( translate_abk_trash, msg )"
   ]
  },
  {
   "cell_type": "code",
   "execution_count": null,
   "id": "3afde4de-7c1a-4121-8821-d15863b2d3fc",
   "metadata": {
    "execution": {
     "iopub.status.busy": "2023-02-25T13:48:34.315271Z",
     "iopub.status.idle": "2023-02-25T13:48:34.315646Z",
     "shell.execute_reply": "2023-02-25T13:48:34.315493Z",
     "shell.execute_reply.started": "2023-02-25T13:48:34.315477Z"
    }
   },
   "outputs": [],
   "source": [
    "# KOMBI\n",
    "mask1 = translate_abk.kurz_tag == ''\n",
    "mask2 = translate_abk.lang_member.isin(['Wortverbindung','Redewendung'])\n",
    "mask = mask1  &  mask2 \n",
    "check_mask(translate_abk,mask,88)\n",
    "\n",
    "translate_abk.loc[mask,'kurz_tag'] = 'KOMBI'\n",
    "grid(translate_abk,mask)"
   ]
  },
  {
   "cell_type": "code",
   "execution_count": null,
   "id": "ca21fa75-cab8-41dc-9fb5-3885fe509194",
   "metadata": {
    "execution": {
     "iopub.status.busy": "2023-02-25T13:48:34.316227Z",
     "iopub.status.idle": "2023-02-25T13:48:34.316493Z",
     "shell.execute_reply": "2023-02-25T13:48:34.316373Z",
     "shell.execute_reply.started": "2023-02-25T13:48:34.316360Z"
    }
   },
   "outputs": [],
   "source": [
    "# lang_member ist jetzt ausgeschöpft\n",
    "mask1 = translate_abk.kurz_tag == ''\n",
    "mask2 = translate_abk.lang_member != ''\n",
    "mask = mask1  &  mask2 \n",
    "check_mask(translate_abk,mask,0)"
   ]
  },
  {
   "cell_type": "code",
   "execution_count": null,
   "id": "864eef5a-b725-47fe-857f-f69d2edcd6f5",
   "metadata": {
    "execution": {
     "iopub.status.busy": "2023-02-25T13:48:34.322206Z",
     "iopub.status.idle": "2023-02-25T13:48:34.322512Z",
     "shell.execute_reply": "2023-02-25T13:48:34.322383Z",
     "shell.execute_reply.started": "2023-02-25T13:48:34.322369Z"
    }
   },
   "outputs": [],
   "source": [
    "# Großgeschrieben => NN\n",
    "mask1  = translate_abk.kurz_tag == ''\n",
    "mask2  = translate_abk.kurz.str[0].str.isupper()\n",
    "mask3  = translate_abk.kurz.str[0].str.isalpha() \n",
    "mask4  = translate_abk.kurz.str.len() > 2\n",
    "mask5A = translate_abk.lang_tag2.str.contains('NN|NE', regex=True)\n",
    "mask5B = translate_abk.kurz.str.len() >= 4 \n",
    "mask = mask1  &  mask2  &  mask3  &  mask4  &  (mask5A | mask5B) \n",
    "check_mask(translate_abk, mask, 945)\n",
    "translate_abk.loc[mask,'kurz_tag'] = 'NN'\n",
    "grid(translate_abk,mask)"
   ]
  },
  {
   "cell_type": "code",
   "execution_count": null,
   "id": "23732bbd-e55b-4be3-bb13-ee58b1a4fb1f",
   "metadata": {
    "execution": {
     "iopub.status.busy": "2023-02-25T13:48:34.323029Z",
     "iopub.status.idle": "2023-02-25T13:48:34.323310Z",
     "shell.execute_reply": "2023-02-25T13:48:34.323183Z",
     "shell.execute_reply.started": "2023-02-25T13:48:34.323169Z"
    }
   },
   "outputs": [],
   "source": [
    "# Großgeschrieben => NN\n",
    "mask1  = translate_abk.kurz_tag == ''\n",
    "mask2  = translate_abk.kurz.str[0].str.isupper()\n",
    "mask3  = translate_abk.kurz.str[0].str.isalpha() \n",
    "mask4  = translate_abk.kurz.str[0] ==  translate_abk.lang.str[0]\n",
    "mask = mask1  &  mask2  &  mask3  &  mask4 \n",
    "check_mask(translate_abk, mask, 4)\n",
    "translate_abk.loc[mask,'kurz_tag'] = 'NN'\n",
    "grid(translate_abk,mask)"
   ]
  },
  {
   "cell_type": "code",
   "execution_count": null,
   "id": "a1f1aba8-24eb-4d08-af01-75168b2c9ab0",
   "metadata": {
    "execution": {
     "iopub.status.busy": "2023-02-25T13:48:34.323819Z",
     "iopub.status.idle": "2023-02-25T13:48:34.324080Z",
     "shell.execute_reply": "2023-02-25T13:48:34.323962Z",
     "shell.execute_reply.started": "2023-02-25T13:48:34.323948Z"
    }
   },
   "outputs": [],
   "source": [
    "# Aufzählungen => CARD\n",
    "# nicht nur für kurz_tag == ''\n",
    "mask1 = translate_abk.kurz.str[:-1].str.isnumeric()\n",
    "mask2 = translate_abk.kurz.str.endswith('.')  \n",
    "mask3 = translate_abk.kurz.str.len() <= 3 \n",
    "mask = mask1  &  mask2  &  mask3\n",
    "check_mask(translate_abk, mask, 11)\n",
    "translate_abk.loc[mask,'kurz_tag'] = 'CARD'\n",
    "grid(translate_abk,mask)"
   ]
  },
  {
   "cell_type": "code",
   "execution_count": null,
   "id": "12fc8523-c90c-4373-a544-02b29ab6d5f4",
   "metadata": {
    "execution": {
     "iopub.status.busy": "2023-02-25T13:48:34.324559Z",
     "iopub.status.idle": "2023-02-25T13:48:34.324818Z",
     "shell.execute_reply": "2023-02-25T13:48:34.324699Z",
     "shell.execute_reply.started": "2023-02-25T13:48:34.324686Z"
    }
   },
   "outputs": [],
   "source": [
    "# Rest\n",
    "mask1  = translate_abk.kurz_tag == ''\n",
    "mask2  = translate_abk.lang_tag2 == ''\n",
    "mask = mask1  &  mask2  \n",
    "check_mask(translate_abk, mask, 719)\n",
    "\n",
    "grid(translate_abk,mask)\n",
    "msg = 'Rest'\n",
    "translate_abk, translate_abk_trash = pak.move_rows( translate_abk, translate_abk_trash, mask, msg)\n",
    "\n",
    "# anschauen\n",
    "grid( translate_abk_trash, msg )"
   ]
  },
  {
   "cell_type": "code",
   "execution_count": null,
   "id": "ef71c426-0e22-4319-b649-b96322091699",
   "metadata": {
    "execution": {
     "iopub.status.busy": "2023-02-25T13:48:34.325304Z",
     "iopub.status.idle": "2023-02-25T13:48:34.325560Z",
     "shell.execute_reply": "2023-02-25T13:48:34.325444Z",
     "shell.execute_reply.started": "2023-02-25T13:48:34.325430Z"
    }
   },
   "outputs": [],
   "source": [
    "# Mehr gibt es nicht\n",
    "mask = translate_abk.kurz_tag == ''\n",
    "check_mask(translate_abk, mask, 0)\n",
    "\n",
    "#grid(translate_abk,mask)\n",
    "#msg = 'Rest'\n",
    "#translate_abk, translate_abk_trash = pak.move_rows( translate_abk, translate_abk_trash, mask, msg)\n",
    "\n",
    "# anschauen\n",
    "#grid( translate_abk_trash, msg )"
   ]
  },
  {
   "cell_type": "code",
   "execution_count": null,
   "id": "cab8a9c3-9453-4780-995b-662a5c4d250e",
   "metadata": {
    "execution": {
     "iopub.status.busy": "2023-02-25T13:48:34.326033Z",
     "iopub.status.idle": "2023-02-25T13:48:34.326295Z",
     "shell.execute_reply": "2023-02-25T13:48:34.326176Z",
     "shell.execute_reply.started": "2023-02-25T13:48:34.326162Z"
    }
   },
   "outputs": [],
   "source": [
    "# Neue kurz_id vergeben\n",
    "mask = translate_abk.kurz_id == ''\n",
    "translate_abk.loc[mask,'kurz_id'] = translate_abk[mask].kurz.str.replace(' ','_') + '_A'\n",
    "check_mask(translate_abk,mask,2983)\n",
    "grid(translate_abk,mask)"
   ]
  },
  {
   "cell_type": "code",
   "execution_count": null,
   "id": "23551498-ea7d-42a2-b4ad-46987ee04e06",
   "metadata": {
    "execution": {
     "iopub.status.busy": "2023-02-25T13:48:34.326780Z",
     "iopub.status.idle": "2023-02-25T13:48:34.331256Z",
     "shell.execute_reply": "2023-02-25T13:48:34.330999Z",
     "shell.execute_reply.started": "2023-02-25T13:48:34.326905Z"
    }
   },
   "outputs": [],
   "source": [
    "# member Abkürzung nachtragen\n",
    "mask = ~translate_abk.kurz_member.str.contains('Abkürzung')\n",
    "translate_abk.loc[mask,'kurz_member'] = (translate_abk[mask].kurz_member + ' Abkürzung').str.strip()"
   ]
  },
  {
   "cell_type": "markdown",
   "id": "809ecc35-1cf1-4f40-9935-56aff061e974",
   "metadata": {},
   "source": [
    "#### rückübertragen"
   ]
  },
  {
   "cell_type": "code",
   "execution_count": null,
   "id": "76c227ca-ef70-45f0-b996-e52dbece55e1",
   "metadata": {
    "execution": {
     "iopub.status.busy": "2023-02-25T13:48:34.332023Z",
     "iopub.status.idle": "2023-02-25T13:48:34.332344Z",
     "shell.execute_reply": "2023-02-25T13:48:34.332208Z",
     "shell.execute_reply.started": "2023-02-25T13:48:34.332194Z"
    }
   },
   "outputs": [],
   "source": [
    "# Alle Kurzformen aus wiktionary_lemma rauslöschen, die nicht in translate_abk erwähnt werden\n",
    "# und keinen echten tag haben\n",
    "mask1 =  wiktionary_lemma.member.str.contains('Abkürzung')\n",
    "mask2 = ~wiktionary_lemma.member.str.contains('manuell')\n",
    "mask3 = ~wiktionary_lemma.lemma_id.isin(translate_abk.kurz_id)\n",
    "mask4 = ~wiktionary_lemma.lemma_id.isin(translate_abk.lang_id)\n",
    "mask5 =  wiktionary_lemma.tag == 'TODO'\n",
    "mask = mask1  &  mask2  &  mask3  &  mask4  &  mask5\n",
    "#grid(wiktionary_lemma,mask)\n",
    "check_mask(wiktionary_lemma,mask,1136)\n",
    "\n",
    "msg = 'translate_abk1'\n",
    "wiktionary_lemma, wiktionary_lemma_trash = pak.move_rows( wiktionary_lemma, wiktionary_lemma_trash, mask, msg)\n",
    "\n",
    "# anschauen\n",
    "grid( wiktionary_lemma_trash, msg )"
   ]
  },
  {
   "cell_type": "code",
   "execution_count": null,
   "id": "65da1314-5177-46c8-8c5d-d15f9bf53b30",
   "metadata": {
    "execution": {
     "iopub.status.busy": "2023-02-25T13:48:34.332866Z",
     "iopub.status.idle": "2023-02-25T13:48:34.333128Z",
     "shell.execute_reply": "2023-02-25T13:48:34.333009Z",
     "shell.execute_reply.started": "2023-02-25T13:48:34.332996Z"
    }
   },
   "outputs": [],
   "source": [
    "# Einige Datensätze sind in translate_abk gelöscht, haben aber in wiktionary_lemma einen richtigen tag.\n",
    "# Die bleiben drin.\n",
    "mask1 =  wiktionary_lemma.member.str.contains('Abkürzung')\n",
    "mask2 = ~wiktionary_lemma.lemma_id.isin(translate_abk.kurz_id)\n",
    "mask3 = ~wiktionary_lemma.lemma_id.isin(translate_abk.lang_id)\n",
    "mask4 =  wiktionary_lemma.tag != 'TODO'\n",
    "mask = mask1  &  mask2  &  mask3  &  mask4\n",
    "check_mask(wiktionary_lemma,mask,58)\n",
    "\n",
    "# anschauen\n",
    "#grid( wiktionary_lemma, mask )"
   ]
  },
  {
   "cell_type": "code",
   "execution_count": null,
   "id": "012ee596-2432-4d77-b42f-de05afca34a2",
   "metadata": {
    "execution": {
     "iopub.status.busy": "2023-02-25T13:48:34.333985Z",
     "iopub.status.idle": "2023-02-25T13:48:34.334321Z",
     "shell.execute_reply": "2023-02-25T13:48:34.334185Z",
     "shell.execute_reply.started": "2023-02-25T13:48:34.334170Z"
    }
   },
   "outputs": [],
   "source": [
    "# kurz_tag => tag_new\n",
    "wiktionary_lemma = pak.update_col( df_to =      wiktionary_lemma, \n",
    "                                   df_from =    translate_abk, \n",
    "                                   left_on =    'lemma_id',\n",
    "                                   right_on =   'kurz_id',\n",
    "                                   col =        'kurz_tag',\n",
    "                                   col_rename = 'tag_new',\n",
    "                                   func =       'first',\n",
    "                                  )\n",
    "wiktionary_lemma = pak.move_cols(wiktionary_lemma,'tag_new','lemma_len')"
   ]
  },
  {
   "cell_type": "code",
   "execution_count": null,
   "id": "b10c1f7f-4a7e-498d-8f8f-7171d3793d36",
   "metadata": {
    "execution": {
     "iopub.status.busy": "2023-02-25T13:48:34.337874Z",
     "iopub.status.idle": "2023-02-25T13:48:34.338239Z",
     "shell.execute_reply": "2023-02-25T13:48:34.338094Z",
     "shell.execute_reply.started": "2023-02-25T13:48:34.338078Z"
    }
   },
   "outputs": [],
   "source": [
    "# tag_new => tag\n",
    "mask = (wiktionary_lemma.tag != wiktionary_lemma.tag_new)  \n",
    "check_mask(wiktionary_lemma,mask,3014)\n",
    "wiktionary_lemma.loc[mask,'tag'] = wiktionary_lemma[mask].tag_new\n",
    "wiktionary_lemma = pak.drop_cols(wiktionary_lemma,'tag_new')"
   ]
  },
  {
   "cell_type": "code",
   "execution_count": null,
   "id": "9c3058e4",
   "metadata": {
    "execution": {
     "iopub.status.busy": "2023-02-25T13:48:34.339027Z",
     "iopub.status.idle": "2023-02-25T13:48:34.339391Z",
     "shell.execute_reply": "2023-02-25T13:48:34.339239Z",
     "shell.execute_reply.started": "2023-02-25T13:48:34.339223Z"
    }
   },
   "outputs": [],
   "source": [
    "# pflege_tag_felder für die veränderten tags\n",
    "wiktionary_lemma = pflege_tag_felder(wiktionary_lemma, translate_tagZ)  # tagZ, tagZZ, tag_0, tag_1, tagZ_0, tagZ_1"
   ]
  },
  {
   "cell_type": "code",
   "execution_count": null,
   "id": "9d2d5bb1-d55b-4cef-b3ab-d22be70df4c5",
   "metadata": {
    "execution": {
     "iopub.status.busy": "2023-02-25T13:48:34.340180Z",
     "iopub.status.idle": "2023-02-25T13:48:34.340606Z",
     "shell.execute_reply": "2023-02-25T13:48:34.340417Z",
     "shell.execute_reply.started": "2023-02-25T13:48:34.340400Z"
    }
   },
   "outputs": [],
   "source": [
    "# lang_id => data_id_new\n",
    "wiktionary_lemma = pak.update_col( df_to =      wiktionary_lemma, \n",
    "                                   df_from =    translate_abk, \n",
    "                                   left_on =    'lemma_id',\n",
    "                                   right_on =   'kurz_id',\n",
    "                                   col =        'lang_id',\n",
    "                                   col_rename = 'data_id_new',\n",
    "                                   func =       'first',\n",
    "                                  )"
   ]
  },
  {
   "cell_type": "code",
   "execution_count": null,
   "id": "45739490-fc4b-462f-b8b5-2fc2e09f9369",
   "metadata": {
    "execution": {
     "iopub.status.busy": "2023-02-25T13:48:34.341222Z",
     "iopub.status.idle": "2023-02-25T13:48:34.341528Z",
     "shell.execute_reply": "2023-02-25T13:48:34.341396Z",
     "shell.execute_reply.started": "2023-02-25T13:48:34.341382Z"
    }
   },
   "outputs": [],
   "source": [
    "# data_id_new => data_id\n",
    "mask = (wiktionary_lemma.data_id != wiktionary_lemma.data_id_new)  \n",
    "check_mask(wiktionary_lemma,mask, 2397)\n",
    "wiktionary_lemma.loc[mask,'data_id'] = wiktionary_lemma[mask].data_id_new\n",
    "wiktionary_lemma = pak.drop_cols(wiktionary_lemma,'data_id_new')"
   ]
  },
  {
   "cell_type": "code",
   "execution_count": null,
   "id": "4a33f60e-6ddc-40e0-8809-c3b69f9300c6",
   "metadata": {
    "execution": {
     "iopub.status.busy": "2023-02-25T13:48:34.342252Z",
     "iopub.status.idle": "2023-02-25T13:48:34.342728Z",
     "shell.execute_reply": "2023-02-25T13:48:34.342515Z",
     "shell.execute_reply.started": "2023-02-25T13:48:34.342491Z"
    }
   },
   "outputs": [],
   "source": [
    "# Neue Datensätze für wiktionary_lemma\n",
    "mask1 = translate_abk.kurz_id.str.endswith('_A')\n",
    "mask2 = ~translate_abk.lang_id.isin(translate_lex.data_id)\n",
    "mask = mask1  &  mask2  \n",
    "check_mask(translate_abk,mask,2934)\n",
    "\n",
    "df = translate_abk[mask]\n",
    "\n",
    "df = pak.rename_col(df, 'kurz_id',     'lemma_id')\n",
    "df = pak.rename_col(df, 'kurz',        'lemma')\n",
    "df = pak.rename_col(df, 'kurz_tag',    'tag')\n",
    "df = pak.rename_col(df, 'kurz_member', 'member')\n",
    "df = pak.rename_col(df, 'kurz_score',  'score')\n",
    "df = pak.rename_col(df, 'lang_id',     'data_id')\n",
    "df['page_id']   = -1\n",
    "df['page_part'] = -1\n",
    "df['doc_len']   = ''\n",
    "df['doc_lemma'] = ''\n",
    "df['doc_tag']   = ''\n",
    "df = pak.move_cols(df,['page_id','page_part'],'lemma_id')\n",
    "df = pak.drop_cols(df,['konkurrenz','rank','todo','lang','lang_tag','lang_tag2','lang_member','lang_score','kurz_tag2',])\n",
    "\n",
    "df = ergänze_felder(df)\n",
    "df = pflege_tag_felder(df, translate_tagZ)  \n",
    "assert set(wiktionary_lemma.columns) ==  set(df.columns) \n",
    "grid(df)"
   ]
  },
  {
   "cell_type": "code",
   "execution_count": null,
   "id": "b7fd5472-1307-47a7-85be-7af803fa9075",
   "metadata": {
    "execution": {
     "iopub.status.busy": "2023-02-25T13:48:34.352867Z",
     "iopub.status.idle": "2023-02-25T13:48:34.353368Z",
     "shell.execute_reply": "2023-02-25T13:48:34.353172Z",
     "shell.execute_reply.started": "2023-02-25T13:48:34.353151Z"
    }
   },
   "outputs": [],
   "source": [
    "# wiktionary_lemma anfügen!\n",
    "wiktionary_lemma = pak.add_rows(wiktionary_lemma, df)"
   ]
  },
  {
   "cell_type": "code",
   "execution_count": null,
   "id": "238d79d6-5dd4-456e-bbcb-3b48a7baa036",
   "metadata": {
    "execution": {
     "iopub.status.busy": "2023-02-25T13:48:34.362497Z",
     "iopub.status.idle": "2023-02-25T13:48:34.363441Z",
     "shell.execute_reply": "2023-02-25T13:48:34.363124Z",
     "shell.execute_reply.started": "2023-02-25T13:48:34.363090Z"
    }
   },
   "outputs": [],
   "source": [
    "# lemma_id vorhanden und eindeutig?\n",
    "mask = wiktionary_lemma.lemma_id == ''\n",
    "check_mask(wiktionary_lemma,mask,0)\n",
    "\n",
    "assert wiktionary_lemma.lemma_id.is_unique"
   ]
  },
  {
   "cell_type": "code",
   "execution_count": null,
   "id": "3551509d-e43d-43c3-9ce6-d68f8a29e4e1",
   "metadata": {
    "execution": {
     "iopub.status.busy": "2023-02-25T13:48:34.365176Z",
     "iopub.status.idle": "2023-02-25T13:48:34.365713Z",
     "shell.execute_reply": "2023-02-25T13:48:34.365538Z",
     "shell.execute_reply.started": "2023-02-25T13:48:34.365512Z"
    }
   },
   "outputs": [],
   "source": [
    "# Keine neuen Datensätze für translate_lex\n",
    "mask1 = translate_abk.kurz_id.str.endswith('_A')\n",
    "mask2 = translate_abk.lang_id.isin(translate_lex.data_id)\n",
    "mask = mask1  &  mask2  \n",
    "check_mask(translate_abk,mask,0)"
   ]
  },
  {
   "cell_type": "markdown",
   "id": "b079296e-2df3-4fac-88c2-265c8d7b986a",
   "metadata": {},
   "source": [
    "#### nochmal belöschen"
   ]
  },
  {
   "cell_type": "code",
   "execution_count": null,
   "id": "ac8f9733-9802-40ef-a6e3-ed955e5d2f18",
   "metadata": {
    "execution": {
     "iopub.status.busy": "2023-02-25T13:48:34.368198Z",
     "iopub.status.idle": "2023-02-25T13:48:34.371565Z",
     "shell.execute_reply": "2023-02-25T13:48:34.371345Z",
     "shell.execute_reply.started": "2023-02-25T13:48:34.371317Z"
    }
   },
   "outputs": [],
   "source": [
    "# lang_id fehlt >> löschen\n",
    "mask = translate_abk.lang_id == ''\n",
    "check_mask(translate_abk, mask, 1062)\n",
    "\n",
    "msg = 'lang_id fehlt'\n",
    "translate_abk, translate_abk_trash = pak.move_rows( translate_abk, translate_abk_trash, mask, msg)\n",
    "\n",
    "# anschauen\n",
    "grid( translate_abk_trash, msg )"
   ]
  },
  {
   "cell_type": "code",
   "execution_count": null,
   "id": "892382fb-f268-4646-86c7-bd2744e79e5d",
   "metadata": {
    "execution": {
     "iopub.status.busy": "2023-02-25T13:48:34.375625Z",
     "iopub.status.idle": "2023-02-25T13:48:34.376053Z",
     "shell.execute_reply": "2023-02-25T13:48:34.375905Z",
     "shell.execute_reply.started": "2023-02-25T13:48:34.375889Z"
    }
   },
   "outputs": [],
   "source": [
    "# Bedeutungsloses ggf. löschen (dürfte eigentlich nichts mehr dabei sein)\n",
    "maskA = translate_abk.kurz_id == translate_abk.lang_id\n",
    "maskB = translate_abk.kurz    == translate_abk.lang\n",
    "mask = maskA | maskB\n",
    "check_mask(translate_abk,mask,0)\n",
    "\n",
    "msg = 'bedeutungslos'\n",
    "translate_abk, translate_abk_trash = pak.move_rows( translate_abk, translate_abk_trash, mask, msg)\n",
    "\n",
    "# anschauen\n",
    "#grid( translate_abk_trash, msg )"
   ]
  },
  {
   "cell_type": "markdown",
   "id": "5240acc5-f136-452d-8b37-e51029ba577e",
   "metadata": {},
   "source": [
    "### wiktionary_merkmal belöschen\n",
    "* alle abk-Merkmale sind schon gelöscht"
   ]
  },
  {
   "cell_type": "code",
   "execution_count": null,
   "id": "8732adbf-c3bf-4802-bf53-cc99a87ef430",
   "metadata": {
    "execution": {
     "iopub.status.busy": "2023-02-25T13:48:34.377152Z",
     "iopub.status.idle": "2023-02-25T13:48:34.377683Z",
     "shell.execute_reply": "2023-02-25T13:48:34.377534Z",
     "shell.execute_reply.started": "2023-02-25T13:48:34.377517Z"
    }
   },
   "outputs": [],
   "source": [
    "# alle kurzformen\n",
    "mask_abk =  wiktionary_lemma.member.str.contains('Abkürzung')\n",
    "kurzformen = wiktionary_lemma[mask_abk].lemma_id"
   ]
  },
  {
   "cell_type": "code",
   "execution_count": null,
   "id": "dcf15c35-88a2-41ee-b487-6166d0cc4e12",
   "metadata": {
    "execution": {
     "iopub.status.busy": "2023-02-25T13:48:34.383628Z",
     "iopub.status.idle": "2023-02-25T13:48:34.384058Z",
     "shell.execute_reply": "2023-02-25T13:48:34.383911Z",
     "shell.execute_reply.started": "2023-02-25T13:48:34.383895Z"
    }
   },
   "outputs": [],
   "source": [
    "# Alle def-Merkmale aller Kurzformen löschen\n",
    "mask1 = wiktionary_merkmal.merkmal == 'def'\n",
    "mask2 = wiktionary_merkmal.lemma_id.isin(kurzformen)\n",
    "mask = mask1  &  mask2\n",
    "check_mask(wiktionary_merkmal,mask,4659)\n",
    "\n",
    "msg = 'def einer Abkürzung'\n",
    "wiktionary_merkmal, wiktionary_merkmal_trash = pak.move_rows(wiktionary_merkmal, wiktionary_merkmal_trash, mask, msg)\n",
    "\n",
    "mask = wiktionary_merkmal_trash.msg == msg\n",
    "grid( wiktionary_merkmal_trash, mask )"
   ]
  },
  {
   "cell_type": "markdown",
   "id": "4b73052d-92f6-424f-a412-dda1873f8182",
   "metadata": {},
   "source": [
    "### Abkürzungen überprüfen"
   ]
  },
  {
   "cell_type": "code",
   "execution_count": null,
   "id": "cbcef4f2-bf06-42bf-9f7c-cf97f1a3240f",
   "metadata": {
    "execution": {
     "iopub.status.busy": "2023-02-25T13:48:34.384966Z",
     "iopub.status.idle": "2023-02-25T13:48:34.385288Z",
     "shell.execute_reply": "2023-02-25T13:48:34.385153Z",
     "shell.execute_reply.started": "2023-02-25T13:48:34.385138Z"
    }
   },
   "outputs": [],
   "source": [
    "search_str(translate_abk,'5G')"
   ]
  },
  {
   "cell_type": "code",
   "execution_count": null,
   "id": "71115fa2-2288-46ef-917b-b716b91d402d",
   "metadata": {
    "execution": {
     "iopub.status.busy": "2023-02-25T13:48:34.385848Z",
     "iopub.status.idle": "2023-02-25T13:48:34.386310Z",
     "shell.execute_reply": "2023-02-25T13:48:34.386060Z",
     "shell.execute_reply.started": "2023-02-25T13:48:34.386033Z"
    }
   },
   "outputs": [],
   "source": [
    "# Alle Kurzformen sind in wiktionary_lemma\n",
    "mask_abk = wiktionary_lemma.member.str.contains('Abkürzung')\n",
    "\n",
    "mask = ~translate_abk.kurz_id.isin(wiktionary_lemma[mask_abk].lemma_id)\n",
    "check_mask(translate_abk,mask,0)"
   ]
  },
  {
   "cell_type": "code",
   "execution_count": null,
   "id": "068875de-d1fd-49e4-be37-37e16d7932d1",
   "metadata": {
    "execution": {
     "iopub.status.busy": "2023-02-25T13:48:34.387475Z",
     "iopub.status.idle": "2023-02-25T13:48:34.387850Z",
     "shell.execute_reply": "2023-02-25T13:48:34.387687Z",
     "shell.execute_reply.started": "2023-02-25T13:48:34.387671Z"
    }
   },
   "outputs": [],
   "source": [
    "mask = wiktionary_lemma.lemma_id == 'H2O_A'\n",
    "wiktionary_lemma[mask]"
   ]
  },
  {
   "cell_type": "code",
   "execution_count": null,
   "id": "e6503dd8-a661-49b2-9d02-831f9a224fe9",
   "metadata": {
    "execution": {
     "iopub.status.busy": "2023-02-25T13:48:34.392184Z",
     "iopub.status.idle": "2023-02-25T13:48:34.392903Z",
     "shell.execute_reply": "2023-02-25T13:48:34.392623Z",
     "shell.execute_reply.started": "2023-02-25T13:48:34.392591Z"
    }
   },
   "outputs": [],
   "source": [
    "raise Stop"
   ]
  },
  {
   "cell_type": "markdown",
   "id": "d814d0f8-f9d5-4d26-90dd-41c9a62d87b5",
   "metadata": {},
   "source": [
    "## wiktionary_lemma =========="
   ]
  },
  {
   "cell_type": "markdown",
   "id": "e5f6a2ee-ba1f-40a6-aea7-d2e12d3d1023",
   "metadata": {},
   "source": [
    "### pflegen"
   ]
  },
  {
   "cell_type": "code",
   "execution_count": null,
   "id": "a3cb6545-6be9-43ea-ad00-5eace66c8298",
   "metadata": {
    "execution": {
     "iopub.status.busy": "2023-02-25T13:48:34.397509Z",
     "iopub.status.idle": "2023-02-25T13:48:34.399188Z",
     "shell.execute_reply": "2023-02-25T13:48:34.399006Z",
     "shell.execute_reply.started": "2023-02-25T13:48:34.398982Z"
    }
   },
   "outputs": [],
   "source": [
    "# manuelle_kürzel erstellen: Welche Sorten Sonder-IDs gibt es?\n",
    "# alt: ('_V', '_M', '_N', '_Z', '_O', '_NV')\n",
    "# ('_V', '_A', '_M', '_N', '_MADJ', '_Z', '_T')\n",
    "\n",
    "wiktionary_lemma['kürzel'] = wiktionary_lemma.lemma_id.str.split('_').str[-1]\n",
    "\n",
    "mask = wiktionary_lemma.lemma_id.str.contains('_')\n",
    "a = pak.analyse_freqs(wiktionary_lemma[mask], ['kürzel','lemma_id'])\n",
    "\n",
    "mask1 = a.kürzel_count > 30\n",
    "mask2 = a.kürzel.str.isalpha() \n",
    "mask3 = a.kürzel.str.len() < 5 \n",
    "mask  = mask1  &  mask2  &  mask3\n",
    "manuelle_kürzel = tuple(['_'+kürzel for kürzel in list(a[mask].kürzel)])  # um manuelle lemma_id erkennen zu können \n",
    "print(manuelle_kürzel)\n",
    "assert len(manuelle_kürzel) == 7\n",
    "grid(a,mask)\n",
    "\n",
    "wiktionary_lemma = pak.drop_cols(wiktionary_lemma,'kürzel')"
   ]
  },
  {
   "cell_type": "code",
   "execution_count": null,
   "id": "c7490af5-88ac-417f-ad9b-de7394ce51f8",
   "metadata": {
    "execution": {
     "iopub.status.busy": "2023-02-25T13:48:34.400607Z",
     "iopub.status.idle": "2023-02-25T13:48:34.403357Z",
     "shell.execute_reply": "2023-02-25T13:48:34.403144Z",
     "shell.execute_reply.started": "2023-02-25T13:48:34.403116Z"
    }
   },
   "outputs": [],
   "source": [
    "# score page_part -1 analysieren\n",
    "mask = wiktionary_lemma.page_part == -1\n",
    "pak.analyse_freqs(wiktionary_lemma[mask],'member',splits=' ')"
   ]
  },
  {
   "cell_type": "code",
   "execution_count": null,
   "id": "4f2643c7-97c6-42ee-a6c0-cd449a48861d",
   "metadata": {
    "execution": {
     "iopub.status.busy": "2023-02-25T13:48:34.404208Z",
     "iopub.status.idle": "2023-02-25T13:48:34.405214Z",
     "shell.execute_reply": "2023-02-25T13:48:34.405051Z",
     "shell.execute_reply.started": "2023-02-25T13:48:34.405031Z"
    }
   },
   "outputs": [],
   "source": [
    "# score page_part -1 pushen\n",
    "mask = wiktionary_lemma.page_part == -1\n",
    "check_mask(wiktionary_lemma,mask,7047)\n",
    "\n",
    "wiktionary_lemma.loc[mask,'score'] += 0.2\n",
    "wiktionary_lemma.loc[mask,'score'] *= 1.5"
   ]
  },
  {
   "cell_type": "markdown",
   "id": "9c244403",
   "metadata": {},
   "source": [
    "### tag"
   ]
  },
  {
   "cell_type": "code",
   "execution_count": null,
   "id": "028605a1",
   "metadata": {
    "execution": {
     "iopub.status.busy": "2023-02-25T13:48:34.407648Z",
     "iopub.status.idle": "2023-02-25T13:48:34.408366Z",
     "shell.execute_reply": "2023-02-25T13:48:34.408208Z",
     "shell.execute_reply.started": "2023-02-25T13:48:34.408188Z"
    }
   },
   "outputs": [],
   "source": [
    "# sichten\n",
    "mask = wiktionary_lemma.tag == 'TODO'\n",
    "pak.analyse_freqs( wiktionary_lemma[mask], ['member','lemma_id'], splits=[' ', None] )"
   ]
  },
  {
   "cell_type": "code",
   "execution_count": null,
   "id": "5c109044",
   "metadata": {
    "execution": {
     "iopub.status.busy": "2023-02-25T13:48:34.415631Z",
     "iopub.status.idle": "2023-02-25T13:48:34.416077Z",
     "shell.execute_reply": "2023-02-25T13:48:34.415937Z",
     "shell.execute_reply.started": "2023-02-25T13:48:34.415920Z"
    }
   },
   "outputs": [],
   "source": [
    "# NE-Datensätze löschen, die mit hoher Wahrscheinlichkeit was anderes als einen Namen bezeichnen\n",
    "geschützte_namen = ['Martin','Baum','Junge','Klein','Keller','Mann','Peter','Schwarz','Simon',\n",
    "                    'Thomas','Weiß','Winter','Sommer','Wolf','Stein','Henry','Frank','Müller',\n",
    "                    'Meier','Huber','Schneider','Bauer','Conrad','Ackermann','Kramer','Grimm',\n",
    "                    'Heinrich','Wagner','Pfeifer','Zimmer','Bach','Krämer','Fischer','Arnold',\n",
    "                    'Lorenz','Fiedler','Weber','Walther','Busch','Schäfer','Michel','Ritter',\n",
    "                    'Beck',\n",
    "                   ]\n",
    "mask1 =  wiktionary_lemma.member.str.contains('Person_nachname')\n",
    "mask2 =  wiktionary_lemma.tag == 'NE'\n",
    "mask3 =  wiktionary_lemma.page_part > 0\n",
    "mask4 =  wiktionary_lemma.score < 2.6\n",
    "mask5 = ~wiktionary_lemma.lemma.isin(geschützte_namen)\n",
    "mask = mask1  &  mask2  &  mask3  &  mask4  &  mask5\n",
    "check_mask( wiktionary_lemma, mask, 343 )\n",
    "\n",
    "msg = 'NE1'\n",
    "wiktionary_lemma, wiktionary_lemma_trash = pak.move_rows(wiktionary_lemma, wiktionary_lemma_trash, mask, msg)\n",
    "grid(wiktionary_lemma_trash,msg)"
   ]
  },
  {
   "cell_type": "code",
   "execution_count": null,
   "id": "c206f819",
   "metadata": {
    "execution": {
     "iopub.status.busy": "2023-02-25T13:48:34.417159Z",
     "iopub.status.idle": "2023-02-25T13:48:34.417592Z",
     "shell.execute_reply": "2023-02-25T13:48:34.417451Z",
     "shell.execute_reply.started": "2023-02-25T13:48:34.417434Z"
    }
   },
   "outputs": [],
   "source": [
    "# Prüfen: Alle Person_nachname sind NE\n",
    "mask1 = wiktionary_lemma.member.str.contains('Person_nachname')\n",
    "mask2 = wiktionary_lemma.tag == 'NE'\n",
    "mask = mask1  &  ~mask2\n",
    "check_mask(wiktionary_lemma,mask,0)"
   ]
  },
  {
   "cell_type": "code",
   "execution_count": null,
   "id": "5f49eb4d",
   "metadata": {
    "execution": {
     "iopub.status.busy": "2023-02-25T13:48:34.418448Z",
     "iopub.status.idle": "2023-02-25T13:48:34.418942Z",
     "shell.execute_reply": "2023-02-25T13:48:34.418769Z",
     "shell.execute_reply.started": "2023-02-25T13:48:34.418752Z"
    }
   },
   "outputs": [],
   "source": [
    "# anschauen\n",
    "mask = wiktionary_lemma.member.str.contains('Person_nachname')\n",
    "a = pak.analyse_freqs( wiktionary_lemma[mask], ['member','lemma'] )\n",
    "grid(a)"
   ]
  },
  {
   "cell_type": "code",
   "execution_count": null,
   "id": "173d7cdd-85ff-48a2-9503-c7be217d73fc",
   "metadata": {
    "execution": {
     "iopub.status.busy": "2023-02-25T13:48:34.419944Z",
     "iopub.status.idle": "2023-02-25T13:48:34.420249Z",
     "shell.execute_reply": "2023-02-25T13:48:34.420123Z",
     "shell.execute_reply.started": "2023-02-25T13:48:34.420108Z"
    }
   },
   "outputs": [],
   "source": [
    "#grid(pak.analyse_cols(wiktionary_lemma))"
   ]
  },
  {
   "cell_type": "code",
   "execution_count": null,
   "id": "22c87976",
   "metadata": {
    "execution": {
     "iopub.status.busy": "2023-02-25T13:48:34.427653Z",
     "iopub.status.idle": "2023-02-25T13:48:34.428074Z",
     "shell.execute_reply": "2023-02-25T13:48:34.427932Z",
     "shell.execute_reply.started": "2023-02-25T13:48:34.427916Z"
    }
   },
   "outputs": [],
   "source": [
    "# KOMBI: Datensätze umtaggen, die eine Wortverbindung oder eine Redewendung beinhalten\n",
    "mask1  = wiktionary_lemma.tag == 'TODO'\n",
    "mask2a = wiktionary_lemma.member.str.contains('Redewendung')\n",
    "mask2b = wiktionary_lemma.member.str.contains('Wortverbindung')\n",
    "mask = mask1  &  (mask2a | mask2b)\n",
    "check_mask( wiktionary_lemma, mask, 407 )\n",
    "\n",
    "change_tag( wiktionary_lemma, mask, 'KOMBI', manuelle_kürzel )\n",
    "\n",
    "#wiktionary_lemma.loc[mask,'tag']   = 'KOMBI'\n",
    "#wiktionary_lemma.loc[mask,'tag_0'] = 'KOMBI'\n",
    "#wiktionary_lemma.loc[mask,'tagZ']  = 'X_kombi'\n",
    "#wiktionary_lemma.loc[mask,'tagZZ'] = 'X'\n",
    "#grid(wiktionary_lemma,mask)"
   ]
  },
  {
   "cell_type": "code",
   "execution_count": null,
   "id": "b8fb108a",
   "metadata": {
    "execution": {
     "iopub.status.busy": "2023-02-25T13:48:34.428967Z",
     "iopub.status.idle": "2023-02-25T13:48:34.429357Z",
     "shell.execute_reply": "2023-02-25T13:48:34.429231Z",
     "shell.execute_reply.started": "2023-02-25T13:48:34.429216Z"
    }
   },
   "outputs": [],
   "source": [
    "# Rest sichten\n",
    "mask = wiktionary_lemma.tag == 'TODO'\n",
    "pak.analyse_freqs( wiktionary_lemma[mask], ['member', 'lemma_id'], splits=[' ', None] )"
   ]
  },
  {
   "cell_type": "code",
   "execution_count": null,
   "id": "59b3ae97-9ece-4e1b-b30f-7d276b398fa2",
   "metadata": {
    "execution": {
     "iopub.status.busy": "2023-02-25T13:48:34.430293Z",
     "iopub.status.idle": "2023-02-25T13:48:34.430620Z",
     "shell.execute_reply": "2023-02-25T13:48:34.430497Z",
     "shell.execute_reply.started": "2023-02-25T13:48:34.430482Z"
    }
   },
   "outputs": [],
   "source": [
    "#mask = wiktionary_lemma.member.str.contains('Abkürzung')\n",
    "#pak.analyse_freqs( wiktionary_lemma[mask], ['member', 'tag'],  )"
   ]
  },
  {
   "cell_type": "code",
   "execution_count": null,
   "id": "a2aa03df",
   "metadata": {
    "execution": {
     "iopub.status.busy": "2023-02-25T13:48:34.431436Z",
     "iopub.status.idle": "2023-02-25T13:48:34.431721Z",
     "shell.execute_reply": "2023-02-25T13:48:34.431600Z",
     "shell.execute_reply.started": "2023-02-25T13:48:34.431586Z"
    }
   },
   "outputs": [],
   "source": [
    "# Rest löschen\n",
    "mask = wiktionary_lemma.tag == 'TODO'\n",
    "check_mask( wiktionary_lemma, mask, 0, 10 )\n",
    "\n",
    "msg = 'TODO-Rest'\n",
    "wiktionary_lemma, wiktionary_lemma_trash = pak.move_rows(wiktionary_lemma, wiktionary_lemma_trash, mask, msg)\n",
    "grid(wiktionary_lemma_trash,msg)"
   ]
  },
  {
   "cell_type": "code",
   "execution_count": null,
   "id": "7c738008-c9e4-436c-a1c5-f8f968bf308b",
   "metadata": {
    "execution": {
     "iopub.status.busy": "2023-02-25T13:48:34.435665Z",
     "iopub.status.idle": "2023-02-25T13:48:34.436080Z",
     "shell.execute_reply": "2023-02-25T13:48:34.435938Z",
     "shell.execute_reply.started": "2023-02-25T13:48:34.435922Z"
    }
   },
   "outputs": [],
   "source": [
    "# ADJD >> ADJA\n",
    "wiktionary_lemma['tag'] = wiktionary_lemma.tag.str.replace('ADJD','ADJA')"
   ]
  },
  {
   "cell_type": "code",
   "execution_count": null,
   "id": "8bc430a4-2352-4b67-ae08-77c702bcc721",
   "metadata": {
    "execution": {
     "iopub.status.busy": "2023-02-25T13:48:34.437141Z",
     "iopub.status.idle": "2023-02-25T13:48:34.437523Z",
     "shell.execute_reply": "2023-02-25T13:48:34.437390Z",
     "shell.execute_reply.started": "2023-02-25T13:48:34.437375Z"
    }
   },
   "outputs": [],
   "source": [
    "# Einzelkorrekturen        \n",
    "einzelkorrekturen = { 'sämtlich'       : 'PIAT ADJA',  \n",
    "                      'besitzergreifen': 'VVFIN',    \n",
    "                    }\n",
    "for i,t in einzelkorrekturen.items():\n",
    "    mask = (wiktionary_lemma.lemma_id == i)\n",
    "    wiktionary_lemma.loc[mask,'tag'] = t"
   ]
  },
  {
   "cell_type": "code",
   "execution_count": null,
   "id": "f4cebed6-140e-4c5f-9eaa-a6728efc95c8",
   "metadata": {
    "execution": {
     "iopub.status.busy": "2023-02-25T13:48:34.438359Z",
     "iopub.status.idle": "2023-02-25T13:48:34.438665Z",
     "shell.execute_reply": "2023-02-25T13:48:34.438537Z",
     "shell.execute_reply.started": "2023-02-25T13:48:34.438523Z"
    }
   },
   "outputs": [],
   "source": [
    "# Hilvsverben auf VAFIN\n",
    "hilfsverben = [ 'haben', 'sein', 'werden', 'tun' ]\n",
    "mask1 = wiktionary_lemma.tagZZ == 'V'\n",
    "mask2 = wiktionary_lemma.lemma.isin(hilfsverben)\n",
    "mask3 = wiktionary_lemma.tag != 'VAFIN'\n",
    "mask  = mask1  &  mask2  &  mask3\n",
    "check_mask( wiktionary_lemma, mask, 1)\n",
    "\n",
    "#grid(wiktionary_lemma,mask)\n",
    "change_tag( wiktionary_lemma, mask, 'VAFIN', manuelle_kürzel )"
   ]
  },
  {
   "cell_type": "code",
   "execution_count": null,
   "id": "5bb74963-ec49-4ad3-8ca6-fe72bb05ae18",
   "metadata": {
    "execution": {
     "iopub.status.busy": "2023-02-25T13:48:34.443641Z",
     "iopub.status.idle": "2023-02-25T13:48:34.444088Z",
     "shell.execute_reply": "2023-02-25T13:48:34.443936Z",
     "shell.execute_reply.started": "2023-02-25T13:48:34.443920Z"
    }
   },
   "outputs": [],
   "source": [
    "# Modalverben auf VMFIN\n",
    "modalverben = [ 'dürfen', 'können', 'mögen', 'müssen', 'sollen', 'wollen', 'brauchen' ]\n",
    "mask1 =  wiktionary_lemma.tagZZ == 'V'\n",
    "mask2 =  wiktionary_lemma.lemma.isin(modalverben)\n",
    "mask3 =  wiktionary_lemma.tag != 'VMFIN'\n",
    "mask4 =  wiktionary_lemma.page_part == 0\n",
    "mask  = mask1  &  mask2  &  mask3  &  mask4\n",
    "check_mask( wiktionary_lemma, mask, 7)\n",
    "\n",
    "#grid(wiktionary_lemma,mask)\n",
    "change_tag( wiktionary_lemma, mask, 'VMFIN', manuelle_kürzel )"
   ]
  },
  {
   "cell_type": "code",
   "execution_count": null,
   "id": "941624d9-5afb-480c-b605-ef147c7e709b",
   "metadata": {
    "execution": {
     "iopub.status.busy": "2023-02-25T13:48:34.445163Z",
     "iopub.status.idle": "2023-02-25T13:48:34.445564Z",
     "shell.execute_reply": "2023-02-25T13:48:34.445430Z",
     "shell.execute_reply.started": "2023-02-25T13:48:34.445414Z"
    },
    "tags": []
   },
   "outputs": [],
   "source": [
    "# Obsolet: Alle anderen auf VVFIN \n",
    "#TODO vgl. und vergleiche müssten hier verschwinden\n",
    "sonderverben = [ 'dürfen', 'können', 'mögen', 'müssen', 'sollen', 'wollen', 'brauchen', 'haben', 'sein', 'werden', 'tun' ]\n",
    "mask1 =  wiktionary_lemma.tagZZ == 'V'\n",
    "mask2 = ~wiktionary_lemma.lemma.isin(sonderverben)\n",
    "mask3 =  wiktionary_lemma.tag != 'VVFIN'\n",
    "mask  = mask1  &  mask2  &  mask3  \n",
    "check_mask( wiktionary_lemma, mask, 0)\n",
    "\n",
    "#change_tag( wiktionary_lemma, mask, 'VVFIN', manuelle_kürzel, manuelle_quellen_schützen=False )\n",
    "#grid(wiktionary_lemma,mask)"
   ]
  },
  {
   "cell_type": "code",
   "execution_count": null,
   "id": "ea05c1cb-1ee0-4978-8b69-ae7ef074de68",
   "metadata": {
    "execution": {
     "iopub.status.busy": "2023-02-25T13:48:34.446511Z",
     "iopub.status.idle": "2023-02-25T13:48:34.447141Z",
     "shell.execute_reply": "2023-02-25T13:48:34.446996Z",
     "shell.execute_reply.started": "2023-02-25T13:48:34.446977Z"
    }
   },
   "outputs": [],
   "source": [
    "# Verben analysieren\n",
    "mask = wiktionary_lemma.tagZZ == 'V'\n",
    "pak.analyse_freqs(wiktionary_lemma[mask],['tag','lemma_id'])"
   ]
  },
  {
   "cell_type": "markdown",
   "id": "330501d9-2db6-4fb4-babe-c280abbd6c1a",
   "metadata": {},
   "source": [
    "### Affix und Suffix"
   ]
  },
  {
   "cell_type": "code",
   "execution_count": null,
   "id": "ecc786e4-5043-4e23-af52-38efc2f25fd4",
   "metadata": {
    "execution": {
     "iopub.status.busy": "2023-02-25T13:48:34.456313Z",
     "iopub.status.idle": "2023-02-25T13:48:34.457162Z",
     "shell.execute_reply": "2023-02-25T13:48:34.456883Z",
     "shell.execute_reply.started": "2023-02-25T13:48:34.456851Z"
    }
   },
   "outputs": [],
   "source": [
    "# AFIX verschieben\n",
    "mask1  = wiktionary_lemma.lemma.str.endswith('-')\n",
    "mask2 = ~wiktionary_lemma.tag.isin(['CARD','$('])\n",
    "mask = mask1  &  mask2\n",
    "check_mask( wiktionary_lemma, mask, 554)\n",
    "\n",
    "msg = 'AFIX'\n",
    "wiktionary_lemma, wiktionary_lemma_fix = pak.move_rows( wiktionary_lemma, mask, msg ) \n",
    "grid(wiktionary_lemma_fix,msg)"
   ]
  },
  {
   "cell_type": "code",
   "execution_count": null,
   "id": "4f8bfedc-c681-4578-9175-5dd2ebc5ed4f",
   "metadata": {
    "execution": {
     "iopub.status.busy": "2023-02-25T13:48:34.458760Z",
     "iopub.status.idle": "2023-02-25T13:48:34.459617Z",
     "shell.execute_reply": "2023-02-25T13:48:34.459352Z",
     "shell.execute_reply.started": "2023-02-25T13:48:34.459322Z"
    }
   },
   "outputs": [],
   "source": [
    "# ZFIX verschieben\n",
    "mask1 = wiktionary_lemma.lemma.str.startswith('-')\n",
    "mask2 = ~wiktionary_lemma.tag.isin(['CARD','$('])\n",
    "mask = mask1  &  mask2\n",
    "check_mask( wiktionary_lemma, mask, 389)\n",
    "\n",
    "msg = 'ZFIX'\n",
    "wiktionary_lemma, wiktionary_lemma_fix = pak.move_rows( wiktionary_lemma, wiktionary_lemma_fix, mask, msg ) \n",
    "grid(wiktionary_lemma_fix,msg)"
   ]
  },
  {
   "cell_type": "code",
   "execution_count": null,
   "id": "65cf5e49-527e-4f74-90f4-89eae0c970ef",
   "metadata": {
    "execution": {
     "iopub.status.busy": "2023-02-25T13:48:34.460986Z",
     "iopub.status.idle": "2023-02-25T13:48:34.461359Z",
     "shell.execute_reply": "2023-02-25T13:48:34.461209Z",
     "shell.execute_reply.started": "2023-02-25T13:48:34.461193Z"
    }
   },
   "outputs": [],
   "source": [
    "# Sonstige Fixe\n",
    "maskA = wiktionary_lemma.lemma.str.startswith('-')\n",
    "maskB = wiktionary_lemma.lemma.str.endswith('-')\n",
    "maskC = wiktionary_lemma.tag.str.contains('AFIX')\n",
    "maskD = wiktionary_lemma.tag.str.contains('ZFIX')\n",
    "maskE = wiktionary_lemma.member.str.contains('Affix')\n",
    "maskF = wiktionary_lemma.member.str.contains('Suffix')\n",
    "mask2 = ~wiktionary_lemma.tag.isin(['CARD','$('])\n",
    "mask = (maskA | maskB | maskC | maskD | maskE | maskF)  &  mask2\n",
    "check_mask( wiktionary_lemma, mask, 2)\n",
    "\n",
    "msg = 'DIVFIX'\n",
    "wiktionary_lemma, wiktionary_lemma_fix = pak.move_rows( wiktionary_lemma, wiktionary_lemma_fix, mask, msg ) \n",
    "grid(wiktionary_lemma_fix,msg)"
   ]
  },
  {
   "cell_type": "markdown",
   "id": "c7aac961-85f3-4ea8-b00f-4621e688ff59",
   "metadata": {},
   "source": [
    "### member"
   ]
  },
  {
   "cell_type": "code",
   "execution_count": null,
   "id": "4b06c2f6-49c2-4c72-8f31-b5894176720b",
   "metadata": {
    "execution": {
     "iopub.status.busy": "2023-02-25T13:48:34.462557Z",
     "iopub.status.idle": "2023-02-25T13:48:34.467439Z",
     "shell.execute_reply": "2023-02-25T13:48:34.467215Z",
     "shell.execute_reply.started": "2023-02-25T13:48:34.467187Z"
    }
   },
   "outputs": [],
   "source": [
    "# member Aufzählung bei CARD\n",
    "mask1 = wiktionary_lemma.lemma.str[:-1].str.isnumeric()\n",
    "mask2 = wiktionary_lemma.lemma.str.endswith('.')  \n",
    "mask3 = wiktionary_lemma.lemma.str.len() <= 3 \n",
    "mask4 = wiktionary_lemma.tag == 'CARD'\n",
    "mask = mask1  &  mask2  &  mask3  &  mask4\n",
    "check_mask(wiktionary_lemma, mask, 11)\n",
    "\n",
    "wiktionary_lemma.loc[mask,'member'] += ' Aufzählung'\n",
    "grid(wiktionary_lemma,mask)"
   ]
  },
  {
   "cell_type": "code",
   "execution_count": null,
   "id": "463c2a98-90fa-417d-9d43-2eb7d4290358",
   "metadata": {
    "execution": {
     "iopub.status.busy": "2023-02-25T13:48:34.468235Z",
     "iopub.status.idle": "2023-02-25T13:48:34.468601Z",
     "shell.execute_reply": "2023-02-25T13:48:34.468435Z",
     "shell.execute_reply.started": "2023-02-25T13:48:34.468420Z"
    }
   },
   "outputs": [],
   "source": [
    "# member noSg und noPl nur bei Nomen\n",
    "mask1a = wiktionary_lemma.member.str.contains('noPl')\n",
    "mask1b = wiktionary_lemma.member.str.contains('noSg')\n",
    "mask2  = wiktionary_lemma.tagZZ != 'N'\n",
    "mask  = (mask1a | mask1b)  &  mask2\n",
    "check_mask( wiktionary_lemma, mask, 0, 17 )\n",
    "\n",
    "wiktionary_lemma.loc[mask,'member'] =  pak.remove_words( wiktionary_lemma[mask].member, ['noPl', 'noSg'] )\n",
    "#grid(wiktionary_lemma,mask)"
   ]
  },
  {
   "cell_type": "markdown",
   "id": "6d3ab098-f9df-40c1-858c-cf8ee2af458b",
   "metadata": {},
   "source": [
    "### Allgemein"
   ]
  },
  {
   "cell_type": "code",
   "execution_count": null,
   "id": "8fdb07e9-8b2e-4427-839b-629f3934c10f",
   "metadata": {
    "execution": {
     "iopub.status.busy": "2023-02-25T13:48:34.469791Z",
     "iopub.status.idle": "2023-02-25T13:48:34.470284Z",
     "shell.execute_reply": "2023-02-25T13:48:34.470141Z",
     "shell.execute_reply.started": "2023-02-25T13:48:34.470123Z"
    }
   },
   "outputs": [],
   "source": [
    "# Redundante Spalten\n",
    "wiktionary_lemma = pflege_tag_felder(wiktionary_lemma, translate_tagZ)  # tagZ, tagZZ, tag_0, tag_1, tagZ_0, tagZ_1\n",
    "wiktionary_lemma = ergänze_felder(wiktionary_lemma)                     # lemma_lower, isupper, lemma_len\n",
    "\n",
    "# Fehler?\n",
    "mask = (wiktionary_lemma.tagZZ.str.len() > 1)\n",
    "check_mask(wiktionary_lemma,mask,0) # ein paar können wir tolerieren"
   ]
  },
  {
   "cell_type": "code",
   "execution_count": null,
   "id": "721f5f53-c544-451c-99f9-6bf517cedf59",
   "metadata": {
    "execution": {
     "iopub.status.busy": "2023-02-25T13:48:34.473172Z",
     "iopub.status.idle": "2023-02-25T13:48:34.474651Z",
     "shell.execute_reply": "2023-02-25T13:48:34.474351Z",
     "shell.execute_reply.started": "2023-02-25T13:48:34.474312Z"
    }
   },
   "outputs": [],
   "source": [
    "# Keine Dups\n",
    "mask = wiktionary_lemma.duplicated(subset='lemma_id', keep=False)\n",
    "check_mask( wiktionary_lemma, mask, 0)"
   ]
  },
  {
   "cell_type": "code",
   "execution_count": null,
   "id": "174cd5bd-359f-44bc-8410-2d901251d927",
   "metadata": {
    "execution": {
     "iopub.status.busy": "2023-02-25T13:48:34.479884Z",
     "iopub.status.idle": "2023-02-25T13:48:34.480491Z",
     "shell.execute_reply": "2023-02-25T13:48:34.480239Z",
     "shell.execute_reply.started": "2023-02-25T13:48:34.480212Z"
    }
   },
   "outputs": [],
   "source": [
    "# not any_nan\n",
    "assert not pak.any_nan(wiktionary_lemma)\n",
    "#pak.analyse_cols(wiktionary_lemma)"
   ]
  },
  {
   "cell_type": "code",
   "execution_count": null,
   "id": "75155cbd-f88c-4372-bea6-77227c0b592b",
   "metadata": {
    "execution": {
     "iopub.status.busy": "2023-02-25T13:48:34.481760Z",
     "iopub.status.idle": "2023-02-25T13:48:34.482343Z",
     "shell.execute_reply": "2023-02-25T13:48:34.482065Z",
     "shell.execute_reply.started": "2023-02-25T13:48:34.482047Z"
    }
   },
   "outputs": [],
   "source": [
    "# suche_debug wiktionary_lemma\n",
    "search_str(wiktionary_lemma, suche_debug)"
   ]
  },
  {
   "cell_type": "code",
   "execution_count": null,
   "id": "531dd99b-ed61-441e-8e61-d388386703a6",
   "metadata": {
    "execution": {
     "iopub.status.busy": "2023-02-25T13:48:34.491561Z",
     "iopub.status.idle": "2023-02-25T13:48:34.491976Z",
     "shell.execute_reply": "2023-02-25T13:48:34.491836Z",
     "shell.execute_reply.started": "2023-02-25T13:48:34.491820Z"
    }
   },
   "outputs": [],
   "source": [
    "a = pak.analyse_freqs(wiktionary_lemma,['tag','member'], splits=[None,' '])\n",
    "grid(a)"
   ]
  },
  {
   "cell_type": "markdown",
   "id": "7c52f4ab-ca9d-4527-a1ec-d82ae9361811",
   "metadata": {},
   "source": [
    "## wiktionary_merkmal =========="
   ]
  },
  {
   "cell_type": "markdown",
   "id": "c668905d-c990-4065-bba1-f04de2fbe7e6",
   "metadata": {},
   "source": [
    "### pflegen"
   ]
  },
  {
   "cell_type": "code",
   "execution_count": null,
   "id": "99c72e8a-5044-4d0c-9889-afabdada7565",
   "metadata": {
    "execution": {
     "iopub.status.busy": "2023-02-25T13:48:34.492958Z",
     "iopub.status.idle": "2023-02-25T13:48:34.493374Z",
     "shell.execute_reply": "2023-02-25T13:48:34.493234Z",
     "shell.execute_reply.started": "2023-02-25T13:48:34.493218Z"
    }
   },
   "outputs": [],
   "source": [
    "# merkmal_order: Sichert die Reihenfolge der gleichnamigen Merkmale, z.B. mehrere Defs\n",
    "wiktionary_merkmal = wiktionary_merkmal.reset_index()\n",
    "wiktionary_merkmal = pak.rank( wiktionary_merkmal, \n",
    "                               cols_group = ['lemma_id','merkmal'], \n",
    "                               col_score = 'index',\n",
    "                               find = 'min',\n",
    "                               col_target = 'merkmal_order')\n",
    "wiktionary_merkmal = pak.rename_col(wiktionary_merkmal,'index','i')\n",
    "wiktionary_merkmal = pak.force_index(wiktionary_merkmal,'i')\n",
    "wiktionary_merkmal = pak.move_cols(wiktionary_merkmal,'merkmal_order','lemma_id')"
   ]
  },
  {
   "cell_type": "code",
   "execution_count": null,
   "id": "07edbe47-ca75-4412-997b-6cd5951ef6e0",
   "metadata": {
    "execution": {
     "iopub.status.busy": "2023-02-25T13:48:34.494337Z",
     "iopub.status.idle": "2023-02-25T13:48:34.494711Z",
     "shell.execute_reply": "2023-02-25T13:48:34.494574Z",
     "shell.execute_reply.started": "2023-02-25T13:48:34.494558Z"
    }
   },
   "outputs": [],
   "source": [
    "wiktionary_merkmal.head(1)"
   ]
  },
  {
   "cell_type": "markdown",
   "id": "7e928498-4397-42f3-a16c-5940d48ab680",
   "metadata": {},
   "source": [
    "### Schrott löschen 1\n",
    "* ohne die Felder lemma und lemma_tag"
   ]
  },
  {
   "cell_type": "code",
   "execution_count": null,
   "id": "1fb63aa6-5db2-45ac-ab50-cd9d8fc9ce34",
   "metadata": {
    "execution": {
     "iopub.status.busy": "2023-02-25T13:48:34.495623Z",
     "iopub.status.idle": "2023-02-25T13:48:34.495922Z",
     "shell.execute_reply": "2023-02-25T13:48:34.495798Z",
     "shell.execute_reply.started": "2023-02-25T13:48:34.495785Z"
    }
   },
   "outputs": [],
   "source": [
    "# zu viele Sonderzeichen\n",
    "mask1 =  wiktionary_merkmal.data.str.count('[A-ZÖÄÜa-zöäüß0-9]') < wiktionary_merkmal.data.str.count('[^A-ZÖÄÜa-zöäüß0-9]')-1\n",
    "mask2 =  wiktionary_merkmal.data.str.len() > 2\n",
    "mask3 = ~wiktionary_merkmal.merkmal.isin(['ipa','rhymes'])\n",
    "mask4 = ~wiktionary_merkmal.data.isin(['u. s. w.','V. I. P.'])\n",
    "mask  = mask1  & mask2  &  mask3  &  mask4\n",
    "check_mask( wiktionary_merkmal, mask, 19)\n",
    "#grid(wiktionary_merkmal, mask)\n",
    "\n",
    "msg = 'zu viele Sonderzeichen'\n",
    "wiktionary_merkmal, wiktionary_merkmal_trash = pak.move_rows( wiktionary_merkmal, wiktionary_merkmal_trash, mask, msg  ) \n",
    "grid(wiktionary_merkmal_trash, msg)"
   ]
  },
  {
   "cell_type": "code",
   "execution_count": null,
   "id": "b8777982-d0b6-4697-b349-2ddbce5345d1",
   "metadata": {
    "execution": {
     "iopub.status.busy": "2023-02-25T13:48:34.499632Z",
     "iopub.status.idle": "2023-02-25T13:48:34.500055Z",
     "shell.execute_reply": "2023-02-25T13:48:34.499912Z",
     "shell.execute_reply.started": "2023-02-25T13:48:34.499896Z"
    }
   },
   "outputs": [],
   "source": [
    "# fehlende Klammern\n",
    "mask1 = wiktionary_merkmal.data.str.count('\\(') != wiktionary_merkmal.data.str.count('\\)')\n",
    "mask2 = wiktionary_merkmal.data.str.len() > 1\n",
    "mask = mask1  &  mask2\n",
    "check_mask( wiktionary_merkmal, mask, 0, 10)\n",
    "\n",
    "msg = 'fehlende_Klammern'\n",
    "wiktionary_merkmal, wiktionary_merkmal_trash = pak.move_rows( wiktionary_merkmal, wiktionary_merkmal_trash, mask, msg  ) \n",
    "grid(wiktionary_merkmal_trash, msg, color='green')"
   ]
  },
  {
   "cell_type": "code",
   "execution_count": null,
   "id": "4c10ae9e-380b-43f5-a131-1aad8879a478",
   "metadata": {
    "execution": {
     "iopub.status.busy": "2023-02-25T13:48:34.500816Z",
     "iopub.status.idle": "2023-02-25T13:48:34.501159Z",
     "shell.execute_reply": "2023-02-25T13:48:34.501017Z",
     "shell.execute_reply.started": "2023-02-25T13:48:34.501002Z"
    }
   },
   "outputs": [],
   "source": [
    "# Fugenelemente\n",
    "mask1 =  wiktionary_merkmal.data != '-'\n",
    "mask2 =  wiktionary_merkmal.data.str.startswith('-')\n",
    "mask3 =  wiktionary_merkmal.data.str.endswith('-')\n",
    "mask  =  mask1  &  mask2  &  mask3\n",
    "check_mask( wiktionary_merkmal, mask, 0)\n",
    "\n",
    "msg = 'Fugenelemente'\n",
    "wiktionary_merkmal, wiktionary_merkmal_trash = pak.move_rows( wiktionary_merkmal, wiktionary_merkmal_trash, mask, msg  ) \n",
    "grid(wiktionary_merkmal_trash, msg, color='green')"
   ]
  },
  {
   "cell_type": "markdown",
   "id": "057c2af7",
   "metadata": {},
   "source": [
    "### aufsplitten\n",
    "wiktionary_merkmal wird in drei Teile aufgesplittet:\n",
    "* wiktionary_merkmal wurzelt in wiktionary_lemma\n",
    "* wiktionary_lexmerkmal wurzelt in translate_lex.<br>\n",
    "  translate_lex enthält ja Lexeme (z.B. die Deklinierten Formen). <br>\n",
    "  wiktionary_lexmerkmal enthält die Merkmale dieser Lexeme.<br>\n",
    "* translate_gm enthält alle gm-Merkmale, also die Verweise von einer deklinierten Form auf das Lemma.<br>"
   ]
  },
  {
   "cell_type": "code",
   "execution_count": null,
   "id": "b6cbe974",
   "metadata": {
    "execution": {
     "iopub.status.busy": "2023-02-25T13:48:34.506497Z",
     "iopub.status.idle": "2023-02-25T13:48:34.506958Z",
     "shell.execute_reply": "2023-02-25T13:48:34.506792Z",
     "shell.execute_reply.started": "2023-02-25T13:48:34.506775Z"
    }
   },
   "outputs": [],
   "source": [
    "# Spalten löschen\n",
    "wiktionary_merkmal = pak.drop_cols( wiktionary_merkmal, ['lemma_lower'])"
   ]
  },
  {
   "cell_type": "code",
   "execution_count": null,
   "id": "6f18c287-d090-40eb-b623-00e68fb20387",
   "metadata": {
    "execution": {
     "iopub.status.busy": "2023-02-25T13:48:34.507928Z",
     "iopub.status.idle": "2023-02-25T13:48:34.508245Z",
     "shell.execute_reply": "2023-02-25T13:48:34.508113Z",
     "shell.execute_reply.started": "2023-02-25T13:48:34.508098Z"
    }
   },
   "outputs": [],
   "source": [
    "# anschauen: verwaistes und verschollenes lemma_id\n",
    "mask1 = ~wiktionary_merkmal.lemma_id.isin(wiktionary_lemma.lemma_id)\n",
    "mask2 = ~wiktionary_merkmal.lemma_id.isin(wiktionary_lemma_trash.lemma_id)\n",
    "mask3 = ~wiktionary_merkmal.lemma_id.isin(wiktionary_lemma_fix.lemma_id)\n",
    "mask4 = ~wiktionary_merkmal.lemma_id.isin(translate_lex.data_id)\n",
    "mask = mask1  &  mask2  &  mask3  &  mask4\n",
    "grid(wiktionary_merkmal,mask)"
   ]
  },
  {
   "cell_type": "code",
   "execution_count": null,
   "id": "44735969-2aad-42ee-948a-ceac74c5ccfc",
   "metadata": {
    "execution": {
     "iopub.status.busy": "2023-02-25T13:48:34.509246Z",
     "iopub.status.idle": "2023-02-25T13:48:34.509693Z",
     "shell.execute_reply": "2023-02-25T13:48:34.509554Z",
     "shell.execute_reply.started": "2023-02-25T13:48:34.509538Z"
    }
   },
   "outputs": [],
   "source": [
    "# verwaistes lemma_id\n",
    "mask1 = ~wiktionary_merkmal.lemma_id.isin(wiktionary_lemma.lemma_id)\n",
    "mask2 = ~wiktionary_merkmal.lemma_id.isin(translate_lex.data_id)\n",
    "mask = mask1  &  mask2\n",
    "\n",
    "#grid(wiktionary_merkmal,mask)\n",
    "a = pak.analyse_freqs(wiktionary_merkmal[mask],['merkmal','lemma_id'])\n",
    "grid(a)"
   ]
  },
  {
   "cell_type": "code",
   "execution_count": null,
   "id": "c30c8e40-9b28-4997-a0b3-c78be6e2fb1c",
   "metadata": {
    "execution": {
     "iopub.status.busy": "2023-02-25T13:48:34.510762Z",
     "iopub.status.idle": "2023-02-25T13:48:34.511068Z",
     "shell.execute_reply": "2023-02-25T13:48:34.510939Z",
     "shell.execute_reply.started": "2023-02-25T13:48:34.510916Z"
    }
   },
   "outputs": [],
   "source": [
    "# verwaistes lemma_id löschen\n",
    "check_mask(wiktionary_merkmal,mask,14420) \n",
    "\n",
    "msg = 'verwaist_lemma_id'\n",
    "wiktionary_merkmal, wiktionary_merkmal_trash = pak.move_rows(wiktionary_merkmal, wiktionary_merkmal_trash, mask, msg)\n",
    "#grid( wiktionary_merkmal_trash, msg )"
   ]
  },
  {
   "cell_type": "code",
   "execution_count": null,
   "id": "b50aa6b0-c749-4253-9b86-7126c27f045b",
   "metadata": {
    "execution": {
     "iopub.status.busy": "2023-02-25T13:48:34.519610Z",
     "iopub.status.idle": "2023-02-25T13:48:34.520011Z",
     "shell.execute_reply": "2023-02-25T13:48:34.519879Z",
     "shell.execute_reply.started": "2023-02-25T13:48:34.519863Z"
    }
   },
   "outputs": [],
   "source": [
    "# anschauen\n",
    "mask = wiktionary_merkmal_trash.msg == msg\n",
    "a = pak.analyse_freqs( wiktionary_merkmal_trash[mask], ['merkmal','lemma_tag','data',] )\n",
    "grid(a)"
   ]
  },
  {
   "cell_type": "code",
   "execution_count": null,
   "id": "8039e76e-591b-4025-8246-1f27df0b3b88",
   "metadata": {
    "execution": {
     "iopub.status.busy": "2023-02-25T13:48:34.521011Z",
     "iopub.status.idle": "2023-02-25T13:48:34.521373Z",
     "shell.execute_reply": "2023-02-25T13:48:34.521239Z",
     "shell.execute_reply.started": "2023-02-25T13:48:34.521224Z"
    }
   },
   "outputs": [],
   "source": [
    "# verwaiste data_id (früher wurden die gelöscht) \n",
    "mask1 = ~wiktionary_merkmal.data_id.isin(wiktionary_lemma.lemma_id)\n",
    "mask2 = ~wiktionary_merkmal.data_id.isin(translate_lex.data_id)\n",
    "mask3 =  wiktionary_merkmal.data_id != ''\n",
    "mask = mask1  &  mask2  &  mask3\n",
    "check_mask(wiktionary_merkmal,mask, 51123)\n",
    "grid(wiktionary_merkmal,mask)"
   ]
  },
  {
   "cell_type": "raw",
   "id": "547ae038-8bb9-4624-ab9c-d39f224f61fc",
   "metadata": {},
   "source": [
    "msg = 'verwaist_data_id'\n",
    "wiktionary_merkmal, wiktionary_merkmal_trash = pak.move_rows(wiktionary_merkmal, wiktionary_merkmal_trash, mask, msg)\n",
    "grid( wiktionary_merkmal_trash, msg )"
   ]
  },
  {
   "cell_type": "raw",
   "id": "3c23795d-bc15-41cd-a246-97a45fc1d439",
   "metadata": {},
   "source": [
    "# anschauen\n",
    "mask = wiktionary_merkmal_trash.msg == msg\n",
    "a = pak.analyse_freqs( wiktionary_merkmal_trash[mask], ['merkmal','lemma_tag','data',] )\n",
    "grid(a)"
   ]
  },
  {
   "cell_type": "code",
   "execution_count": null,
   "id": "4ae95953",
   "metadata": {
    "execution": {
     "iopub.status.busy": "2023-02-25T13:48:34.522357Z",
     "iopub.status.idle": "2023-02-25T13:48:34.522755Z",
     "shell.execute_reply": "2023-02-25T13:48:34.522616Z",
     "shell.execute_reply.started": "2023-02-25T13:48:34.522601Z"
    }
   },
   "outputs": [],
   "source": [
    "# translate_gm abspalten\n",
    "mask = wiktionary_merkmal.merkmal == 'gm'\n",
    "check_mask(wiktionary_merkmal, mask, 671313)\n",
    "wiktionary_merkmal, translate_gm = pak.move_rows(wiktionary_merkmal, mask, msg=None)"
   ]
  },
  {
   "cell_type": "code",
   "execution_count": null,
   "id": "ebe60e59-a573-461f-82fa-e49b6a3797f0",
   "metadata": {
    "execution": {
     "iopub.status.busy": "2023-02-25T13:48:34.523690Z",
     "iopub.status.idle": "2023-02-25T13:48:34.523979Z",
     "shell.execute_reply": "2023-02-25T13:48:34.523858Z",
     "shell.execute_reply.started": "2023-02-25T13:48:34.523844Z"
    }
   },
   "outputs": [],
   "source": [
    "# wiktionary_lexmerkmal abspalten\n",
    "mask1 = ~wiktionary_merkmal.lemma_id.isin(wiktionary_lemma.lemma_id)\n",
    "mask2 =  wiktionary_merkmal.lemma_id.isin(translate_lex.data_id)\n",
    "mask = mask1  &  mask2\n",
    "check_mask(wiktionary_merkmal, mask, 1658317)\n",
    "\n",
    "wiktionary_merkmal, wiktionary_lexmerkmal = pak.move_rows(wiktionary_merkmal, mask, msg=None)\n",
    "wiktionary_lexmerkmal = pak.rename_col(wiktionary_lexmerkmal, 'lemma_id','lex_id')"
   ]
  },
  {
   "cell_type": "markdown",
   "id": "2b4e67c5-f071-48e1-8f83-6ad383ab8755",
   "metadata": {},
   "source": [
    "### pflegen"
   ]
  },
  {
   "cell_type": "code",
   "execution_count": null,
   "id": "713625e8-ff23-465a-80ae-7338c1dea29f",
   "metadata": {
    "execution": {
     "iopub.status.busy": "2023-02-25T13:48:34.525090Z",
     "iopub.status.idle": "2023-02-25T13:48:34.529352Z",
     "shell.execute_reply": "2023-02-25T13:48:34.529131Z",
     "shell.execute_reply.started": "2023-02-25T13:48:34.529102Z"
    }
   },
   "outputs": [],
   "source": [
    "# suche_debug wiktionary_merkmal\n",
    "a = search_str(wiktionary_merkmal, suche_debug)\n",
    "grid(a)"
   ]
  },
  {
   "cell_type": "code",
   "execution_count": null,
   "id": "f77c6889-3637-4b18-971a-99af3231b047",
   "metadata": {
    "execution": {
     "iopub.status.busy": "2023-02-25T13:48:34.530189Z",
     "iopub.status.idle": "2023-02-25T13:48:34.530570Z",
     "shell.execute_reply": "2023-02-25T13:48:34.530433Z",
     "shell.execute_reply.started": "2023-02-25T13:48:34.530417Z"
    }
   },
   "outputs": [],
   "source": [
    "# lemma nach wiktionary_merkmal übertragen\n",
    "wiktionary_merkmal = pak.update_col(wiktionary_merkmal, wiktionary_lemma, on='lemma_id', col='lemma')"
   ]
  },
  {
   "cell_type": "code",
   "execution_count": null,
   "id": "7c3d5f08-ad1a-462e-abdc-d21754b6cec7",
   "metadata": {
    "execution": {
     "iopub.status.busy": "2023-02-25T13:48:34.531623Z",
     "iopub.status.idle": "2023-02-25T13:48:34.532040Z",
     "shell.execute_reply": "2023-02-25T13:48:34.531900Z",
     "shell.execute_reply.started": "2023-02-25T13:48:34.531884Z"
    }
   },
   "outputs": [],
   "source": [
    "# lemma_tag nach wiktionary_merkmal übertragen\n",
    "wiktionary_merkmal['lemma_tag'] =  wiktionary_merkmal.lemma_tag.fillna('')\n",
    "wiktionary_merkmal = pak.update_col(wiktionary_merkmal, wiktionary_lemma, on='lemma_id', col='tag', col_rename='lemma_tag')\n",
    "wiktionary_merkmal['lemma_tag'] =  wiktionary_merkmal.lemma_tag.fillna('')"
   ]
  },
  {
   "cell_type": "code",
   "execution_count": null,
   "id": "433e6548-e70a-4094-affe-d87e4c3eafd7",
   "metadata": {
    "execution": {
     "iopub.status.busy": "2023-02-25T13:48:34.533012Z",
     "iopub.status.idle": "2023-02-25T13:48:34.533701Z",
     "shell.execute_reply": "2023-02-25T13:48:34.533554Z",
     "shell.execute_reply.started": "2023-02-25T13:48:34.533535Z"
    }
   },
   "outputs": [],
   "source": [
    "# sicherstellen: lemma_tag ist gesetzt\n",
    "mask1 =  wiktionary_merkmal.is_lex == True\n",
    "mask2 =  wiktionary_merkmal.lemma_tag == ''\n",
    "mask  =  mask1  &  mask2\n",
    "check_mask(wiktionary_merkmal,mask,0)"
   ]
  },
  {
   "cell_type": "markdown",
   "id": "59c7e155-8486-4c11-a43a-c0aa81b92412",
   "metadata": {},
   "source": [
    "### Schrott löschen 2\n",
    "* diesmal mit den Feldern lemma und lemma_tag"
   ]
  },
  {
   "cell_type": "code",
   "execution_count": null,
   "id": "7741ee60-0bdc-49c8-9773-e016897580cc",
   "metadata": {
    "execution": {
     "iopub.status.busy": "2023-02-25T13:48:34.539646Z",
     "iopub.status.idle": "2023-02-25T13:48:34.540067Z",
     "shell.execute_reply": "2023-02-25T13:48:34.539923Z",
     "shell.execute_reply.started": "2023-02-25T13:48:34.539907Z"
    },
    "tags": []
   },
   "outputs": [],
   "source": [
    "# beginnt mit Sonderzeichen\n",
    "erlaubt = [\"'nen\"]\n",
    "mask0 = ~wiktionary_merkmal.data.isin(erlaubt)\n",
    "mask1 =  wiktionary_merkmal.data.str.len() > 1\n",
    "mask2 = ~wiktionary_merkmal.data.str[0].str.isalpha()  \n",
    "mask3 = ~wiktionary_merkmal.data.str[0].str.isnumeric()    \n",
    "mask4 = ~wiktionary_merkmal.lemma_tag.isin([ '$(', '$.', '$,', 'ZFIX NE', 'ZFIX', 'CARD' ])\n",
    "mask5 =  wiktionary_merkmal.is_lex == True\n",
    "mask  =  mask0  &  mask1  &  mask2  &  mask3  &  mask4  &  mask5    \n",
    "check_mask( wiktionary_merkmal, mask, 88)\n",
    "\n",
    "msg = 'beginnt mit Sonderzeichen'\n",
    "wiktionary_merkmal, wiktionary_merkmal_trash = pak.move_rows( wiktionary_merkmal, wiktionary_merkmal_trash, mask, msg ) \n",
    "grid( wiktionary_merkmal_trash, msg )"
   ]
  },
  {
   "cell_type": "code",
   "execution_count": null,
   "id": "bc47adbf-e3f1-406a-95ab-2f13816907ce",
   "metadata": {
    "execution": {
     "iopub.status.busy": "2023-02-25T13:48:34.541236Z",
     "iopub.status.idle": "2023-02-25T13:48:34.541653Z",
     "shell.execute_reply": "2023-02-25T13:48:34.541506Z",
     "shell.execute_reply.started": "2023-02-25T13:48:34.541489Z"
    },
    "tags": []
   },
   "outputs": [],
   "source": [
    "# nicht_erlaubte_sonderzeichen \n",
    "mask1 = wiktionary_merkmal.data.str.contains(nicht_erlaubte_sonderzeichen)   \n",
    "mask2 = ~wiktionary_merkmal.lemma_tag.isin(['$(','$.','$,'])\n",
    "mask  =  mask1  &  mask2 \n",
    "check_mask( wiktionary_merkmal, mask, 2)\n",
    "\n",
    "msg = 'nicht_erlaubte_sonderzeichen'\n",
    "wiktionary_merkmal, wiktionary_merkmal_trash = pak.move_rows( wiktionary_merkmal, wiktionary_merkmal_trash, mask, msg  ) \n",
    "grid(wiktionary_merkmal_trash, msg)"
   ]
  },
  {
   "cell_type": "code",
   "execution_count": null,
   "id": "f1f152e8-a062-41b6-9c1e-34c116d1041a",
   "metadata": {
    "execution": {
     "iopub.status.busy": "2023-02-25T13:48:34.542641Z",
     "iopub.status.idle": "2023-02-25T13:48:34.543041Z",
     "shell.execute_reply": "2023-02-25T13:48:34.542887Z",
     "shell.execute_reply.started": "2023-02-25T13:48:34.542872Z"
    }
   },
   "outputs": [],
   "source": [
    "# zu viele Wörter \n",
    "mask1 =  wiktionary_merkmal.data.str.split().str.len() > 3\n",
    "mask2 =  wiktionary_merkmal.is_lex == True\n",
    "mask3 = ~wiktionary_merkmal.merkmal.str.startswith('alt') \n",
    "mask  =  mask1  &  mask2  &  mask3 \n",
    "check_mask( wiktionary_merkmal, mask, 0)\n",
    "\n",
    "msg = 'zu viele Wörter'\n",
    "wiktionary_merkmal, wiktionary_merkmal_trash = pak.move_rows( wiktionary_merkmal, wiktionary_merkmal_trash, mask, msg  ) \n",
    "grid(wiktionary_merkmal_trash, msg, color='green')"
   ]
  },
  {
   "cell_type": "code",
   "execution_count": null,
   "id": "bc64b585-db57-4acd-b238-87eb1a70a6ba",
   "metadata": {
    "execution": {
     "iopub.status.busy": "2023-02-25T13:48:34.544064Z",
     "iopub.status.idle": "2023-02-25T13:48:34.544392Z",
     "shell.execute_reply": "2023-02-25T13:48:34.544259Z",
     "shell.execute_reply.started": "2023-02-25T13:48:34.544244Z"
    }
   },
   "outputs": [],
   "source": [
    "# Verbotene Fragmente in data, die nicht im lemma auftreten\n",
    "verbotene_fragmente = ['Konjugation','Genitiv','Dativ','(',')',':','»','<','!','#',',',';','!','?']\n",
    "wiktionary_merkmal['error'] = None\n",
    "for verboten in verbotene_fragmente:\n",
    "    mask1 =  wiktionary_merkmal.data.str.contains(verboten, regex=False)    \n",
    "    mask2 = ~wiktionary_merkmal.lemma.str.contains(verboten, regex=False)  \n",
    "    mask3 =  wiktionary_merkmal.data.str.len() > 1       \n",
    "    mask4 =  wiktionary_merkmal.is_lex == True   \n",
    "    mask5 = ~wiktionary_merkmal.merkmal.str.startswith('alt') \n",
    "    mask  =  mask1  &  mask2  &  mask3  &  mask4  &  mask5\n",
    "    wiktionary_merkmal.loc[ mask, 'error'] = 'Verbotenes Fragment ' + verboten"
   ]
  },
  {
   "cell_type": "code",
   "execution_count": null,
   "id": "226ba99a-7673-4ef7-9c31-2bf3c7b29d2f",
   "metadata": {
    "execution": {
     "iopub.status.busy": "2023-02-25T13:48:34.551633Z",
     "iopub.status.idle": "2023-02-25T13:48:34.552004Z",
     "shell.execute_reply": "2023-02-25T13:48:34.551847Z",
     "shell.execute_reply.started": "2023-02-25T13:48:34.551832Z"
    }
   },
   "outputs": [],
   "source": [
    "mask = ~wiktionary_merkmal.error.isnull()  \n",
    "check_mask( wiktionary_merkmal, mask, 0, 5)\n",
    "#grid( wiktionary_merkmal, mask)\n",
    "\n",
    "wiktionary_merkmal = pak.drop_cols( wiktionary_merkmal, 'error' )\n",
    "msg = 'Verbotene Fragmente'\n",
    "wiktionary_merkmal, wiktionary_merkmal_trash = pak.move_rows( wiktionary_merkmal, wiktionary_merkmal_trash, mask, msg  ) \n",
    "grid(wiktionary_merkmal_trash, msg, color='green')"
   ]
  },
  {
   "cell_type": "code",
   "execution_count": null,
   "id": "6dc954b8-378b-4066-83b5-29ed0e5cf436",
   "metadata": {
    "execution": {
     "iopub.status.busy": "2023-02-25T13:48:34.552676Z",
     "iopub.status.idle": "2023-02-25T13:48:34.553033Z",
     "shell.execute_reply": "2023-02-25T13:48:34.552876Z",
     "shell.execute_reply.started": "2023-02-25T13:48:34.552862Z"
    }
   },
   "outputs": [],
   "source": [
    "# Überflüssige lemmagleiche Lexeme löschen\n",
    "mask1  = wiktionary_merkmal.is_lex == True\n",
    "mask2  = wiktionary_merkmal.data == wiktionary_merkmal.lemma\n",
    "mask3A = wiktionary_merkmal.merkmal.str.startswith('alt') \n",
    "mask3B = wiktionary_merkmal.merkmal.isin( ['lex'] )\n",
    "mask  = mask1  &  mask2  &  (mask3A | mask3B) \n",
    "check_mask( wiktionary_merkmal, mask, 205)\n",
    "\n",
    "msg = 'lemmagleiche Lexeme'\n",
    "wiktionary_merkmal, wiktionary_merkmal_trash = pak.move_rows( wiktionary_merkmal, wiktionary_merkmal_trash, mask, msg  ) \n",
    "grid(wiktionary_merkmal_trash, msg, color='green')"
   ]
  },
  {
   "cell_type": "code",
   "execution_count": null,
   "id": "63063337-0de1-427c-a7ce-491589ddac1b",
   "metadata": {
    "execution": {
     "iopub.status.busy": "2023-02-25T13:48:34.555242Z",
     "iopub.status.idle": "2023-02-25T13:48:34.555651Z",
     "shell.execute_reply": "2023-02-25T13:48:34.555517Z",
     "shell.execute_reply.started": "2023-02-25T13:48:34.555502Z"
    }
   },
   "outputs": [],
   "source": [
    "# Überflüssige lemmagleiche Nichtlexeme löschen\n",
    "mask1 =  wiktionary_merkmal.is_lex == False\n",
    "mask2 =  wiktionary_merkmal.data == wiktionary_merkmal.lemma\n",
    "mask3 = ~wiktionary_merkmal.merkmal.isin( ['syllables','Hilfsverb'] )\n",
    "mask  = mask1  &  mask2  &  mask3\n",
    "check_mask( wiktionary_merkmal, mask, 1014)\n",
    "\n",
    "msg = 'lemmagleiche Nichtlexeme'\n",
    "wiktionary_merkmal, wiktionary_merkmal_trash = pak.move_rows( wiktionary_merkmal, wiktionary_merkmal_trash, mask, msg  ) \n",
    "grid(wiktionary_merkmal_trash, msg, color='green')"
   ]
  },
  {
   "cell_type": "code",
   "execution_count": null,
   "id": "b2a70ae4-b5d7-431c-9af1-d2845749f8bf",
   "metadata": {
    "execution": {
     "iopub.status.busy": "2023-02-25T13:48:34.556502Z",
     "iopub.status.idle": "2023-02-25T13:48:34.556923Z",
     "shell.execute_reply": "2023-02-25T13:48:34.556739Z",
     "shell.execute_reply.started": "2023-02-25T13:48:34.556723Z"
    }
   },
   "outputs": [],
   "source": [
    "# Benannte Lexeme\n",
    "mask1 =  wiktionary_merkmal.is_lex == True\n",
    "mask2 =  wiktionary_merkmal.merkmal != 'lex'\n",
    "mask  = mask1  &  mask2\n",
    "benannte_lexeme = wiktionary_merkmal[mask]"
   ]
  },
  {
   "cell_type": "code",
   "execution_count": null,
   "id": "95af3cea-abf5-41e8-b92a-de92b7f02a68",
   "metadata": {
    "execution": {
     "iopub.status.busy": "2023-02-25T13:48:34.557768Z",
     "iopub.status.idle": "2023-02-25T13:48:34.558246Z",
     "shell.execute_reply": "2023-02-25T13:48:34.558087Z",
     "shell.execute_reply.started": "2023-02-25T13:48:34.558070Z"
    }
   },
   "outputs": [],
   "source": [
    "# Überflüssige lex: Die gibt es schon unter einem konkreteren Merkmal\n",
    "# Das sind nicht so viele, weil die alle in translate_lex sind\n",
    "mask1 = wiktionary_merkmal.is_lex == True\n",
    "mask2 = wiktionary_merkmal.merkmal == 'lex'\n",
    "mask3 = pak.isin( wiktionary_merkmal, benannte_lexeme, on=['lemma','data'] )\n",
    "mask  = mask1  &  mask2  &  mask3\n",
    "check_mask( wiktionary_merkmal, mask, 21)\n",
    "\n",
    "del benannte_lexeme\n",
    "msg = 'Überflüssige lex'\n",
    "wiktionary_merkmal, wiktionary_merkmal_trash = pak.move_rows( wiktionary_merkmal, wiktionary_merkmal_trash, mask, msg  ) \n",
    "grid(wiktionary_merkmal_trash, msg, color='green')"
   ]
  },
  {
   "cell_type": "code",
   "execution_count": null,
   "id": "8eeb9a0a-e66b-4fcd-a852-262ed8ce0ba2",
   "metadata": {
    "execution": {
     "iopub.status.busy": "2023-02-25T13:48:34.564202Z",
     "iopub.status.idle": "2023-02-25T13:48:34.564652Z",
     "shell.execute_reply": "2023-02-25T13:48:34.564498Z",
     "shell.execute_reply.started": "2023-02-25T13:48:34.564481Z"
    }
   },
   "outputs": [],
   "source": [
    "# TRUNC löschen\n",
    "mask =  wiktionary_merkmal.lemma_tag == 'TRUNC'\n",
    "check_mask( wiktionary_merkmal, mask, 0, 4)\n",
    "\n",
    "msg = 'TRUNC'\n",
    "wiktionary_merkmal, wiktionary_merkmal_trash = pak.move_rows( wiktionary_merkmal, wiktionary_merkmal_trash, mask, msg  ) \n",
    "grid(wiktionary_merkmal_trash, msg, color='green')"
   ]
  },
  {
   "cell_type": "code",
   "execution_count": null,
   "id": "a69a6b7e-19ac-4c4a-a539-23bf4cf73b97",
   "metadata": {
    "execution": {
     "iopub.status.busy": "2023-02-25T13:48:34.565650Z",
     "iopub.status.idle": "2023-02-25T13:48:34.566385Z",
     "shell.execute_reply": "2023-02-25T13:48:34.566182Z",
     "shell.execute_reply.started": "2023-02-25T13:48:34.566156Z"
    }
   },
   "outputs": [],
   "source": [
    "#search_str(wiktionary_lemma, 'http')"
   ]
  },
  {
   "cell_type": "code",
   "execution_count": null,
   "id": "6704ce51-92b0-4621-bb83-2d74de54ab61",
   "metadata": {
    "execution": {
     "iopub.status.busy": "2023-02-25T13:48:34.567584Z",
     "iopub.status.idle": "2023-02-25T13:48:34.568033Z",
     "shell.execute_reply": "2023-02-25T13:48:34.567852Z",
     "shell.execute_reply.started": "2023-02-25T13:48:34.567832Z"
    }
   },
   "outputs": [],
   "source": [
    "# suche_debug\n",
    "maskA = wiktionary_merkmal_trash.data.isin(suche_debug)\n",
    "maskB = wiktionary_merkmal_trash.lemma.isin(suche_debug)\n",
    "mask = maskA | maskB\n",
    "grid(wiktionary_merkmal_trash,mask, color='green')"
   ]
  },
  {
   "cell_type": "code",
   "execution_count": null,
   "id": "53bf2be7-e536-4b53-8854-21474152c253",
   "metadata": {
    "execution": {
     "iopub.status.busy": "2023-02-25T13:48:34.573093Z",
     "iopub.status.idle": "2023-02-25T13:48:34.573641Z",
     "shell.execute_reply": "2023-02-25T13:48:34.573445Z",
     "shell.execute_reply.started": "2023-02-25T13:48:34.573425Z"
    }
   },
   "outputs": [],
   "source": [
    "# suche_debug\n",
    "#mask = wiktionary_merkmal.data.isin(suche_debug)\n",
    "mask = wiktionary_merkmal.lemma.isin(suche_debug)\n",
    "#mask = maskA | maskB\n",
    "grid(wiktionary_merkmal,mask)"
   ]
  },
  {
   "cell_type": "code",
   "execution_count": null,
   "id": "90095bdc",
   "metadata": {
    "execution": {
     "iopub.status.busy": "2023-02-25T13:48:34.575103Z",
     "iopub.status.idle": "2023-02-25T13:48:34.576028Z",
     "shell.execute_reply": "2023-02-25T13:48:34.575816Z",
     "shell.execute_reply.started": "2023-02-25T13:48:34.575790Z"
    }
   },
   "outputs": [],
   "source": [
    "# Nochmal sicherstellen: Alle Datensätze in wiktionary_merkmal haben einen passenden DS in wiktionary_lemma\n",
    "mask = ~wiktionary_merkmal.lemma_id.isin(wiktionary_lemma.lemma_id)\n",
    "check_mask(wiktionary_merkmal,mask,0)"
   ]
  },
  {
   "cell_type": "code",
   "execution_count": null,
   "id": "3d6ca012-14b1-4ebd-a8ed-9c72850109e0",
   "metadata": {
    "execution": {
     "iopub.status.busy": "2023-02-25T13:48:34.576774Z",
     "iopub.status.idle": "2023-02-25T13:48:34.578517Z",
     "shell.execute_reply": "2023-02-25T13:48:34.578305Z",
     "shell.execute_reply.started": "2023-02-25T13:48:34.578278Z"
    }
   },
   "outputs": [],
   "source": [
    "# Spalten sortieren\n",
    "wiktionary_merkmal = pak.move_cols(wiktionary_merkmal, ['lemma_id','merkmal','is_lex','data_id','data','data_tag','lemma','lemma_tag','num','meta',])\n",
    "wiktionary_merkmal.head(1)"
   ]
  },
  {
   "cell_type": "markdown",
   "id": "28b2e9f2-c33d-4f9c-8b11-6031f5e2d396",
   "metadata": {},
   "source": [
    "### Grundformen anfügen"
   ]
  },
  {
   "cell_type": "code",
   "execution_count": null,
   "id": "ae35a55f-76ca-45fd-92e0-bf27d539a14c",
   "metadata": {
    "execution": {
     "iopub.status.busy": "2023-02-25T13:48:34.583653Z",
     "iopub.status.idle": "2023-02-25T13:48:34.584441Z",
     "shell.execute_reply": "2023-02-25T13:48:34.584179Z",
     "shell.execute_reply.started": "2023-02-25T13:48:34.584145Z"
    },
    "tags": []
   },
   "outputs": [],
   "source": [
    "# Grundformen anfügen (merkmal 'lemma')\n",
    "spalten = ['lemma_id', 'lemma', 'tag_0', 'score' ]\n",
    "grundformen = wiktionary_lemma[spalten].copy()\n",
    "grundformen = pak.rename_col(grundformen, 'tag_0', 'lemma_tag')\n",
    "grundformen['merkmal']  = 'lemma'\n",
    "grundformen['is_lex']   = True\n",
    "grundformen['data']     = grundformen.lemma.copy()\n",
    "grundformen['data_id']  = grundformen.lemma_id.copy()\n",
    "grundformen['data_tag'] = grundformen.lemma_tag.copy()\n",
    "grundformen['meta']     = ''\n",
    "grundformen['num']      = ''\n",
    "\n",
    "\n",
    "# Spaltenvergleich\n",
    "bpy.minivenn( grundformen.columns, wiktionary_merkmal.columns, format='print2')\n",
    "\n",
    "wiktionary_merkmal = pak.add_rows(wiktionary_merkmal, grundformen)\n",
    "pak.sample(grundformen)"
   ]
  },
  {
   "cell_type": "code",
   "execution_count": null,
   "id": "6b7170fc-9b7e-4b53-b948-653ce34ce1fd",
   "metadata": {
    "execution": {
     "iopub.status.busy": "2023-02-25T13:48:34.589521Z",
     "iopub.status.idle": "2023-02-25T13:48:34.589959Z",
     "shell.execute_reply": "2023-02-25T13:48:34.589815Z",
     "shell.execute_reply.started": "2023-02-25T13:48:34.589798Z"
    }
   },
   "outputs": [],
   "source": [
    "# Sonderfall Mag.a löschen\n",
    "mask = wiktionary_merkmal.data_id == 'Mag.a'\n",
    "check_mask(wiktionary_merkmal,mask,0,2)\n",
    "\n",
    "msg = 'Sonderfall Mag.a' \n",
    "wiktionary_merkmal, wiktionary_merkmal_trash = pak.move_rows( wiktionary_merkmal, wiktionary_merkmal_trash, mask, msg) \n",
    "grid( wiktionary_merkmal_trash, msg )"
   ]
  },
  {
   "cell_type": "code",
   "execution_count": null,
   "id": "e30ddd38-4dec-4f9c-abf3-b3f3b296f6e2",
   "metadata": {
    "execution": {
     "iopub.status.busy": "2023-02-25T13:48:34.591466Z",
     "iopub.status.idle": "2023-02-25T13:48:34.591883Z",
     "shell.execute_reply": "2023-02-25T13:48:34.591742Z",
     "shell.execute_reply.started": "2023-02-25T13:48:34.591726Z"
    }
   },
   "outputs": [],
   "source": [
    "# Prüfen: Alle Lexeme haben eine eindeutige data_id\n",
    "mask1 = wiktionary_merkmal.data_id == ''\n",
    "mask2 = wiktionary_merkmal.is_lex == True\n",
    "mask = mask1  &  mask2\n",
    "check_mask(wiktionary_merkmal,mask,0)\n",
    "\n",
    "mask_notempty = wiktionary_merkmal.data_id != ''\n",
    "a = pak.same_but_different(wiktionary_merkmal[mask_notempty],same='data_id',different='data')\n",
    "assert a.shape[0] == 0\n",
    "#grid(a)"
   ]
  },
  {
   "cell_type": "code",
   "execution_count": null,
   "id": "4c9b4b94-ae13-4de7-ae44-c3b8797dd736",
   "metadata": {
    "execution": {
     "iopub.status.busy": "2023-02-25T13:48:34.592897Z",
     "iopub.status.idle": "2023-02-25T13:48:34.593306Z",
     "shell.execute_reply": "2023-02-25T13:48:34.593172Z",
     "shell.execute_reply.started": "2023-02-25T13:48:34.593157Z"
    }
   },
   "outputs": [],
   "source": [
    "# Verwaiste Merkmale: Gibt es nicht, weil die abgetrennt oder gelöscht wurden\n",
    "mask = ~wiktionary_merkmal.lemma_id.isin(wiktionary_lemma.lemma_id)\n",
    "check_mask( wiktionary_merkmal, mask, 0)\n",
    "#grid( wiktionary_merkmal, mask, )\n",
    "\n",
    "# löschen\n",
    "wiktionary_merkmal, wiktionary_merkmal_trash = pak.move_rows(wiktionary_merkmal, wiktionary_merkmal_trash, mask, 'verwaist4')\n",
    "grid(wiktionary_merkmal_trash, color='green')"
   ]
  },
  {
   "cell_type": "code",
   "execution_count": null,
   "id": "56cf87ad-cfa6-4ac6-9ae1-17d927b68928",
   "metadata": {
    "execution": {
     "iopub.status.busy": "2023-02-25T13:48:34.594177Z",
     "iopub.status.idle": "2023-02-25T13:48:34.594863Z",
     "shell.execute_reply": "2023-02-25T13:48:34.594703Z",
     "shell.execute_reply.started": "2023-02-25T13:48:34.594682Z"
    }
   },
   "outputs": [],
   "source": [
    "# fillna\n",
    "wiktionary_merkmal['meta']          = wiktionary_merkmal.meta.fillna('')\n",
    "wiktionary_merkmal['data_tag']      = wiktionary_merkmal.data_tag.fillna('')\n",
    "wiktionary_merkmal['lemma_tag']     = wiktionary_merkmal.lemma_tag.fillna('')\n",
    "wiktionary_merkmal['num']           = wiktionary_merkmal.num.fillna('')\n",
    "wiktionary_merkmal['merkmal_order'] = wiktionary_merkmal.merkmal_order.fillna(0)"
   ]
  },
  {
   "cell_type": "code",
   "execution_count": null,
   "id": "7513420e-a133-49a6-90b7-cdc846cc7b36",
   "metadata": {
    "execution": {
     "iopub.status.busy": "2023-02-25T13:48:34.599646Z",
     "iopub.status.idle": "2023-02-25T13:48:34.600070Z",
     "shell.execute_reply": "2023-02-25T13:48:34.599926Z",
     "shell.execute_reply.started": "2023-02-25T13:48:34.599910Z"
    }
   },
   "outputs": [],
   "source": [
    "wiktionary_merkmal"
   ]
  },
  {
   "cell_type": "code",
   "execution_count": null,
   "id": "2468a53c-7785-4c5c-a96b-0407fbe1340b",
   "metadata": {
    "execution": {
     "iopub.status.busy": "2023-02-25T13:48:34.601170Z",
     "iopub.status.idle": "2023-02-25T13:48:34.601541Z",
     "shell.execute_reply": "2023-02-25T13:48:34.601407Z",
     "shell.execute_reply.started": "2023-02-25T13:48:34.601392Z"
    }
   },
   "outputs": [],
   "source": [
    "# update_col aus wiktionary_lemma\n",
    "wiktionary_merkmal = pak.update_col(wiktionary_merkmal, wiktionary_lemma, on='lemma_id', col='lemma')\n",
    "wiktionary_merkmal = pak.update_col(wiktionary_merkmal, wiktionary_lemma, on='lemma_id', col='tag_0', col_rename='lemma_tag')\n",
    "wiktionary_merkmal['lemma_tag'] =  wiktionary_merkmal.lemma_tag.fillna('')"
   ]
  },
  {
   "cell_type": "code",
   "execution_count": null,
   "id": "52868e98-b568-4bc2-9e15-11b7e56979c0",
   "metadata": {
    "execution": {
     "iopub.status.busy": "2023-02-25T13:48:34.602514Z",
     "iopub.status.idle": "2023-02-25T13:48:34.602867Z",
     "shell.execute_reply": "2023-02-25T13:48:34.602740Z",
     "shell.execute_reply.started": "2023-02-25T13:48:34.602726Z"
    }
   },
   "outputs": [],
   "source": [
    "# sicherstellen: lemma_tag ist gesetzt\n",
    "mask1 =  wiktionary_merkmal.is_lex == True\n",
    "mask2 =  wiktionary_merkmal.lemma_tag == ''\n",
    "mask  =  mask1  &  mask2\n",
    "check_mask(wiktionary_merkmal,mask,0)"
   ]
  },
  {
   "cell_type": "code",
   "execution_count": null,
   "id": "40a4e250-b94d-45aa-bbc4-68a3b15d592a",
   "metadata": {
    "execution": {
     "iopub.status.busy": "2023-02-25T13:48:34.607767Z",
     "iopub.status.idle": "2023-02-25T13:48:34.608177Z",
     "shell.execute_reply": "2023-02-25T13:48:34.608041Z",
     "shell.execute_reply.started": "2023-02-25T13:48:34.608025Z"
    }
   },
   "outputs": [],
   "source": [
    "#pak.analyse_cols(wiktionary_merkmal)"
   ]
  },
  {
   "cell_type": "markdown",
   "id": "6905db98-5452-4269-b9bb-21291957264d",
   "metadata": {},
   "source": [
    "### Leer oder ultrakurz"
   ]
  },
  {
   "cell_type": "code",
   "execution_count": null,
   "id": "6bac0d80-f9f3-4718-aa7f-41eef595f97d",
   "metadata": {
    "execution": {
     "iopub.status.busy": "2023-02-25T13:48:34.609111Z",
     "iopub.status.idle": "2023-02-25T13:48:34.609401Z",
     "shell.execute_reply": "2023-02-25T13:48:34.609282Z",
     "shell.execute_reply.started": "2023-02-25T13:48:34.609268Z"
    }
   },
   "outputs": [],
   "source": [
    "# Prüfen: Keine Leerstrings\n",
    "spalten = ['merkmal','data','lemma','lemma_tag']\n",
    "for s in spalten:\n",
    "    print(s)\n",
    "    mask = wiktionary_merkmal[s] == ''\n",
    "    check_mask( wiktionary_merkmal, mask, 0)"
   ]
  },
  {
   "cell_type": "code",
   "execution_count": null,
   "id": "8de5af41-1548-4c53-a1af-6d13ba6e02d8",
   "metadata": {
    "execution": {
     "iopub.status.busy": "2023-02-25T13:48:34.610357Z",
     "iopub.status.idle": "2023-02-25T13:48:34.610723Z",
     "shell.execute_reply": "2023-02-25T13:48:34.610585Z",
     "shell.execute_reply.started": "2023-02-25T13:48:34.610570Z"
    }
   },
   "outputs": [],
   "source": [
    "# noSteig ermitteln und löschen\n",
    "# data ist nur '-'\n",
    "mask1 = wiktionary_merkmal.data.str.len() <= 1\n",
    "mask2 = wiktionary_merkmal.lemma.str.len() > 1\n",
    "mask3 = wiktionary_merkmal.merkmal.isin(['Komparativ','Superlativ'])\n",
    "mask4 = wiktionary_merkmal.is_lex == True\n",
    "mask  =  mask1  &  mask2  &  mask3  &  mask4 \n",
    "noSteig = wiktionary_merkmal[mask].lemma_id # merken\n",
    "check_mask( wiktionary_merkmal, mask, 15369)\n",
    "\n",
    "msg = 'noSteig' \n",
    "wiktionary_merkmal, wiktionary_merkmal_trash = pak.move_rows( wiktionary_merkmal, wiktionary_merkmal_trash, mask, msg) \n",
    "grid( wiktionary_merkmal_trash, msg )"
   ]
  },
  {
   "cell_type": "code",
   "execution_count": null,
   "id": "2752a749-5672-48e9-9d75-6af350e83ed8",
   "metadata": {
    "execution": {
     "iopub.status.busy": "2023-02-25T13:48:34.611436Z",
     "iopub.status.idle": "2023-02-25T13:48:34.611746Z",
     "shell.execute_reply": "2023-02-25T13:48:34.611613Z",
     "shell.execute_reply.started": "2023-02-25T13:48:34.611599Z"
    }
   },
   "outputs": [],
   "source": [
    "# noSteig in wiktionary_lemma kennzeichnen\n",
    "mask1 =  wiktionary_lemma.lemma_id.isin(noSteig)\n",
    "mask2 = ~wiktionary_lemma.member.str.contains('noSteig')\n",
    "mask3 =  wiktionary_lemma.tagZ == 'ADJ'\n",
    "mask  =  mask1  &  mask2  &  mask3\n",
    "check_mask( wiktionary_lemma, mask, 146)\n",
    "\n",
    "wiktionary_lemma.loc[mask,'member'] += ' noSteig' \n",
    "grid( wiktionary_lemma, mask )"
   ]
  },
  {
   "cell_type": "code",
   "execution_count": null,
   "id": "23e6b3c6-9adf-45ab-b4d8-573d99c818e8",
   "metadata": {
    "execution": {
     "iopub.status.busy": "2023-02-25T13:48:34.619624Z",
     "iopub.status.idle": "2023-02-25T13:48:34.620069Z",
     "shell.execute_reply": "2023-02-25T13:48:34.619920Z",
     "shell.execute_reply.started": "2023-02-25T13:48:34.619904Z"
    }
   },
   "outputs": [],
   "source": [
    "# Genus korrigieren\n",
    "genus_m = ['Stromboli','Micky_Maus','Jesus_Christus','Jehova','Daniel_Düsentrieb','Dagobert_Duck','Tacken','Donald_Duck']\n",
    "\n",
    "mask1 = wiktionary_merkmal.merkmal == 'Genus'\n",
    "mask2 = wiktionary_merkmal.data == '0'\n",
    "mask3 = wiktionary_merkmal.lemma_id.isin(genus_m)\n",
    "mask  =  mask1  &  mask2  &  mask3\n",
    "check_mask(wiktionary_merkmal,mask,len(genus_m))\n",
    "\n",
    "wiktionary_merkmal.loc[mask,'data'] = 'm'\n",
    "wiktionary_merkmal[mask]"
   ]
  },
  {
   "cell_type": "code",
   "execution_count": null,
   "id": "686bbbeb-6f6f-4891-b8fb-c556099f4f35",
   "metadata": {
    "execution": {
     "iopub.status.busy": "2023-02-25T13:48:34.621176Z",
     "iopub.status.idle": "2023-02-25T13:48:34.621578Z",
     "shell.execute_reply": "2023-02-25T13:48:34.621446Z",
     "shell.execute_reply.started": "2023-02-25T13:48:34.621430Z"
    }
   },
   "outputs": [],
   "source": [
    "# Genus korrigieren\n",
    "genus_f = ['Arminia','Trauerwoche']\n",
    "\n",
    "mask1 = wiktionary_merkmal.merkmal == 'Genus'\n",
    "mask2 = wiktionary_merkmal.data == '0'\n",
    "mask3 = wiktionary_merkmal.lemma_id.isin(genus_f)\n",
    "mask  =  mask1  &  mask2  &  mask3\n",
    "check_mask(wiktionary_merkmal,mask,len(genus_f))\n",
    "\n",
    "wiktionary_merkmal.loc[mask,'data'] = 'f'\n",
    "wiktionary_merkmal[mask]"
   ]
  },
  {
   "cell_type": "code",
   "execution_count": null,
   "id": "d580e8df-46dd-4fd1-9264-af600e0d6570",
   "metadata": {
    "execution": {
     "iopub.status.busy": "2023-02-25T13:48:34.622452Z",
     "iopub.status.idle": "2023-02-25T13:48:34.622784Z",
     "shell.execute_reply": "2023-02-25T13:48:34.622645Z",
     "shell.execute_reply.started": "2023-02-25T13:48:34.622631Z"
    }
   },
   "outputs": [],
   "source": [
    "# Genus n falsch\n",
    "mask1 =  wiktionary_merkmal.merkmal == 'Genus'\n",
    "mask2 =  wiktionary_merkmal.data == 'n'\n",
    "mask3 = ~wiktionary_merkmal.lemma_tag.isin(['NN','NE'])\n",
    "mask  =  mask1  &  mask2  &  mask3\n",
    "check_mask( wiktionary_merkmal, mask, 0, 3)\n",
    "\n",
    "msg = 'Genus n falsch' \n",
    "wiktionary_merkmal, wiktionary_merkmal_trash = pak.move_rows( wiktionary_merkmal, wiktionary_merkmal_trash, mask, msg) \n",
    "grid( wiktionary_merkmal_trash, msg )"
   ]
  },
  {
   "cell_type": "code",
   "execution_count": null,
   "id": "a13c12d3-24a3-421c-9850-05ea9a3682d9",
   "metadata": {
    "execution": {
     "iopub.status.busy": "2023-02-25T13:48:34.623891Z",
     "iopub.status.idle": "2023-02-25T13:48:34.624200Z",
     "shell.execute_reply": "2023-02-25T13:48:34.624074Z",
     "shell.execute_reply.started": "2023-02-25T13:48:34.624059Z"
    }
   },
   "outputs": [],
   "source": [
    "# Ungültige Genus löschen\n",
    "mask1 =  wiktionary_merkmal.merkmal == 'Genus'\n",
    "mask2 = ~wiktionary_merkmal.data.isin(['m','f','n'])\n",
    "mask  =  mask1  &  mask2 \n",
    "genus_ungültig = wiktionary_merkmal[mask].lemma_id # merken\n",
    "check_mask( wiktionary_merkmal, mask, 725)\n",
    "\n",
    "msg = 'Genus ungültig' \n",
    "wiktionary_merkmal, wiktionary_merkmal_trash = pak.move_rows( wiktionary_merkmal, wiktionary_merkmal_trash, mask, msg) \n",
    "\n",
    "mask = wiktionary_merkmal_trash.msg == msg\n",
    "pak.analyse_freqs( wiktionary_merkmal_trash[mask],['data','lemma'])"
   ]
  },
  {
   "cell_type": "code",
   "execution_count": null,
   "id": "7d78715c-ba61-4173-b789-7e8477e0b154",
   "metadata": {
    "execution": {
     "iopub.status.busy": "2023-02-25T13:48:34.627641Z",
     "iopub.status.idle": "2023-02-25T13:48:34.628052Z",
     "shell.execute_reply": "2023-02-25T13:48:34.627916Z",
     "shell.execute_reply.started": "2023-02-25T13:48:34.627900Z"
    },
    "tags": []
   },
   "outputs": [],
   "source": [
    "# genus_ungültig in wiktionary_lemma betrachten\n",
    "# Sind da Kandidaten für manuelle Löschung oder Genuss setzen dabei?\n",
    "mask1 =  wiktionary_lemma.lemma_id.isin(genus_ungültig)\n",
    "mask2 = ~wiktionary_lemma.member.str.contains('noSg')\n",
    "mask3 = ~wiktionary_lemma.member.str.contains('noPl')\n",
    "mask4 = ~wiktionary_lemma.lemma_id.str.endswith('_V')\n",
    "mask5 = ~wiktionary_lemma.member.str.contains('Person_vorname')\n",
    "mask6 = ~wiktionary_lemma.member.str.contains('Geo')\n",
    "mask  =  mask1  &  mask2  &  mask3  &  mask4  &  mask5  &  mask6\n",
    "check_mask( wiktionary_lemma, mask, 17)\n",
    "\n",
    "spalten = ['lemma_id','tag','score','member']\n",
    "a = wiktionary_lemma[mask][spalten].sort_values(['tag'])\n",
    "grid(a)"
   ]
  },
  {
   "cell_type": "code",
   "execution_count": null,
   "id": "3e59df1c-fbbc-4351-866e-b0d0dbb68d70",
   "metadata": {
    "execution": {
     "iopub.status.busy": "2023-02-25T13:48:34.629038Z",
     "iopub.status.idle": "2023-02-25T13:48:34.629412Z",
     "shell.execute_reply": "2023-02-25T13:48:34.629274Z",
     "shell.execute_reply.started": "2023-02-25T13:48:34.629259Z"
    }
   },
   "outputs": [],
   "source": [
    "# data ist nur '-'\n",
    "mask1 =  wiktionary_merkmal.data == '-'\n",
    "mask2 =  wiktionary_merkmal.lemma_id != '-_M'\n",
    "#mask3 = ~wiktionary_merkmal.lemma_tag.isin(['VVFIN'])\n",
    "mask = mask1  &  mask2 # &  mask3\n",
    "check_mask( wiktionary_merkmal, mask, 919)\n",
    "\n",
    "msg = 'data ist nur -' \n",
    "wiktionary_merkmal, wiktionary_merkmal_trash = pak.move_rows( wiktionary_merkmal, wiktionary_merkmal_trash, mask, msg) \n",
    "grid( wiktionary_merkmal_trash, msg )"
   ]
  },
  {
   "cell_type": "code",
   "execution_count": null,
   "id": "a3cec3c0-399c-4660-a70d-168ba1a99feb",
   "metadata": {
    "execution": {
     "iopub.status.busy": "2023-02-25T13:48:34.635589Z",
     "iopub.status.idle": "2023-02-25T13:48:34.636019Z",
     "shell.execute_reply": "2023-02-25T13:48:34.635872Z",
     "shell.execute_reply.started": "2023-02-25T13:48:34.635856Z"
    }
   },
   "outputs": [],
   "source": [
    "# superkurz >> alles bleibt wie es ist\n",
    "mask1 =  wiktionary_merkmal.data.str.len() <= 1\n",
    "mask2 =  wiktionary_merkmal.lemma.str.len() > 1   \n",
    "mask3 = ~wiktionary_merkmal.lemma_tag.isin(['$(','$.','$,'])\n",
    "mask  =  mask1  &  mask2  &  mask3     \n",
    "\n",
    "#check_mask( wiktionary_merkmal, mask, 1292)\n",
    "#wiktionary_merkmal, wiktionary_merkmal_trash = pak.drop_rows( wiktionary_merkmal, mask, wiktionary_merkmal_trash, msg='superkurz' ) \n",
    "\n",
    "pak.analyse_freqs(wiktionary_merkmal[mask],['merkmal','data','lemma_id','lemma_tag'])\n",
    "#grid( wiktionary_merkmal, mask )"
   ]
  },
  {
   "cell_type": "markdown",
   "id": "2f2b01e3-52ee-4b3b-a761-4989ed96c765",
   "metadata": {},
   "source": [
    "### Allgemein"
   ]
  },
  {
   "cell_type": "code",
   "execution_count": null,
   "id": "9960c075-f199-451f-b597-0508640b119d",
   "metadata": {
    "execution": {
     "iopub.status.busy": "2023-02-25T13:48:34.637088Z",
     "iopub.status.idle": "2023-02-25T13:48:34.637504Z",
     "shell.execute_reply": "2023-02-25T13:48:34.637367Z",
     "shell.execute_reply.started": "2023-02-25T13:48:34.637351Z"
    }
   },
   "outputs": [],
   "source": [
    "# Explizit gesetzte Tags werden Merkmale\n",
    "mask1 = wiktionary_merkmal.is_lex == True\n",
    "mask2 = wiktionary_merkmal.data_tag != ''\n",
    "mask3 = wiktionary_merkmal.data_tag != wiktionary_merkmal.lemma_tag\n",
    "mask4 = ~((wiktionary_merkmal.data_tag == 'ADJA')  &   (wiktionary_merkmal.lemma_tag == 'VVFIN')) # Partizipien\n",
    "mask5 = wiktionary_merkmal.merkmal == 'lex'\n",
    "mask  = mask1  &  mask2  &  mask3  &  mask4  &  mask5\n",
    "check_mask(wiktionary_merkmal,mask,1,50)\n",
    "\n",
    "# Merkmal erstellen\n",
    "wiktionary_merkmal.loc[mask,'merkmal'] = wiktionary_merkmal[mask].data_tag\n",
    "\n",
    "grid(wiktionary_merkmal,mask)\n",
    "#a = pak.analyse_freqs(wiktionary_merkmal[mask], ['lemma_tag','data_tag'])\n",
    "#grid(a)"
   ]
  },
  {
   "cell_type": "code",
   "execution_count": null,
   "id": "a92f28dd-2bde-4562-9bd1-278dcfff14dd",
   "metadata": {
    "execution": {
     "iopub.status.busy": "2023-02-25T13:48:34.638463Z",
     "iopub.status.idle": "2023-02-25T13:48:34.638949Z",
     "shell.execute_reply": "2023-02-25T13:48:34.638798Z",
     "shell.execute_reply.started": "2023-02-25T13:48:34.638782Z"
    },
    "tags": []
   },
   "outputs": [],
   "source": [
    "# manuelle Korrekturen\n",
    "mask = wiktionary_merkmal.merkmal == 'genitiv Sg'\n",
    "wiktionary_merkmal.loc[mask,'merkmal'] = 'Gen Sg'\n",
    "mask = wiktionary_merkmal.merkmal ==         'Sg'\n",
    "wiktionary_merkmal.loc[mask,'merkmal'] = 'Nom Sg'"
   ]
  },
  {
   "cell_type": "code",
   "execution_count": null,
   "id": "95930e98-456c-4760-b42b-01034abe5bb7",
   "metadata": {
    "execution": {
     "iopub.status.busy": "2023-02-25T13:48:34.639968Z",
     "iopub.status.idle": "2023-02-25T13:48:34.640346Z",
     "shell.execute_reply": "2023-02-25T13:48:34.640218Z",
     "shell.execute_reply.started": "2023-02-25T13:48:34.640203Z"
    },
    "tags": []
   },
   "outputs": [],
   "source": [
    "# Überblick wiktionary_merkmal\n",
    "a = pak.analyse_freqs(wiktionary_merkmal, ['merkmal', 'data'] )\n",
    "gridt(a)"
   ]
  },
  {
   "cell_type": "code",
   "execution_count": null,
   "id": "108bf816-b8af-4363-b87d-99a607b354dd",
   "metadata": {
    "execution": {
     "iopub.status.busy": "2023-02-25T13:48:34.641500Z",
     "iopub.status.idle": "2023-02-25T13:48:34.647375Z",
     "shell.execute_reply": "2023-02-25T13:48:34.647152Z",
     "shell.execute_reply.started": "2023-02-25T13:48:34.647123Z"
    },
    "tags": []
   },
   "outputs": [],
   "source": [
    "# alle Merkmale sind in plan_merkmal erfasst\n",
    "mask = ~a.merkmal.isin(plan_merkmal.merkmal)\n",
    "check_mask(a,mask,0)"
   ]
  },
  {
   "cell_type": "code",
   "execution_count": null,
   "id": "b4043ff5-8851-4d01-b9a1-b73f201f4737",
   "metadata": {
    "execution": {
     "iopub.status.busy": "2023-02-25T13:48:34.648284Z",
     "iopub.status.idle": "2023-02-25T13:48:34.648704Z",
     "shell.execute_reply": "2023-02-25T13:48:34.648562Z",
     "shell.execute_reply.started": "2023-02-25T13:48:34.648546Z"
    },
    "tags": []
   },
   "outputs": [],
   "source": [
    "#grid(a,mask, color='green')"
   ]
  },
  {
   "cell_type": "code",
   "execution_count": null,
   "id": "e98c840c-825f-46fd-87e9-5a69f07a8d40",
   "metadata": {
    "execution": {
     "iopub.status.busy": "2023-02-25T13:48:34.649715Z",
     "iopub.status.idle": "2023-02-25T13:48:34.650113Z",
     "shell.execute_reply": "2023-02-25T13:48:34.649975Z",
     "shell.execute_reply.started": "2023-02-25T13:48:34.649959Z"
    }
   },
   "outputs": [],
   "source": [
    "# suche_debug wiktionary_merkmal\n",
    "mask = wiktionary_merkmal.is_lex == True\n",
    "search_str(wiktionary_merkmal[mask], suche_debug)"
   ]
  },
  {
   "cell_type": "code",
   "execution_count": null,
   "id": "ba7822b2-4ba5-434c-9cad-5be656b206b0",
   "metadata": {
    "execution": {
     "iopub.status.busy": "2023-02-25T13:48:34.650719Z",
     "iopub.status.idle": "2023-02-25T13:48:34.651055Z",
     "shell.execute_reply": "2023-02-25T13:48:34.650898Z",
     "shell.execute_reply.started": "2023-02-25T13:48:34.650884Z"
    }
   },
   "outputs": [],
   "source": [
    "assert not pak.any_nan(wiktionary_merkmal)\n",
    "#pak.nnan(wiktionary_merkmal)"
   ]
  },
  {
   "cell_type": "markdown",
   "id": "78670889-800c-4ff0-a4b8-fd57d2907273",
   "metadata": {},
   "source": [
    "### Wortarten -------"
   ]
  },
  {
   "cell_type": "markdown",
   "id": "09c17953-bb42-4b56-b66a-6eec6992b441",
   "metadata": {},
   "source": [
    "#### Partizipien "
   ]
  },
  {
   "cell_type": "code",
   "execution_count": null,
   "id": "7e258cb2-3e61-4c56-aae6-35f8ee78759b",
   "metadata": {
    "execution": {
     "iopub.status.busy": "2023-02-25T13:48:34.651723Z",
     "iopub.status.idle": "2023-02-25T13:48:34.652080Z",
     "shell.execute_reply": "2023-02-25T13:48:34.651920Z",
     "shell.execute_reply.started": "2023-02-25T13:48:34.651904Z"
    }
   },
   "outputs": [],
   "source": [
    "# Alle Adjektive\n",
    "mask = wiktionary_lemma.tagZZ == 'A'\n",
    "adj = wiktionary_lemma[mask].lemma\n",
    "#adj"
   ]
  },
  {
   "cell_type": "code",
   "execution_count": null,
   "id": "0cf213eb-58fe-4f6c-b173-abb331379d9c",
   "metadata": {
    "execution": {
     "iopub.status.busy": "2023-02-25T13:48:34.652689Z",
     "iopub.status.idle": "2023-02-25T13:48:34.653005Z",
     "shell.execute_reply": "2023-02-25T13:48:34.652873Z",
     "shell.execute_reply.started": "2023-02-25T13:48:34.652859Z"
    }
   },
   "outputs": [],
   "source": [
    "# Alle Partizipien\n",
    "mask = wiktionary_merkmal.merkmal == 'Ptz1'\n",
    "ptz1 = wiktionary_merkmal[mask]\n",
    "mask = wiktionary_merkmal.merkmal == 'Ptz2'\n",
    "ptz2 = wiktionary_merkmal[mask].copy()\n",
    "ptz_all = pak.add_rows(ptz1, ptz2)\n",
    "#ptz_all"
   ]
  },
  {
   "cell_type": "code",
   "execution_count": null,
   "id": "16bd0ad2-20cd-43bb-a7b2-64afcd1f1a1d",
   "metadata": {
    "execution": {
     "iopub.status.busy": "2023-02-25T13:48:34.663286Z",
     "iopub.status.idle": "2023-02-25T13:48:34.663896Z",
     "shell.execute_reply": "2023-02-25T13:48:34.663736Z",
     "shell.execute_reply.started": "2023-02-25T13:48:34.663717Z"
    }
   },
   "outputs": [],
   "source": [
    "# Alle Ptz1 sind auch als Adjektiv registriert\n",
    "mask = ~ptz1.data.isin(adj)\n",
    "check_mask(ptz1,mask,0)"
   ]
  },
  {
   "cell_type": "code",
   "execution_count": null,
   "id": "40ed8ead-9e81-4a05-91a3-11f46c090e11",
   "metadata": {
    "execution": {
     "iopub.status.busy": "2023-02-25T13:48:34.664965Z",
     "iopub.status.idle": "2023-02-25T13:48:34.665324Z",
     "shell.execute_reply": "2023-02-25T13:48:34.665170Z",
     "shell.execute_reply.started": "2023-02-25T13:48:34.665154Z"
    }
   },
   "outputs": [],
   "source": [
    "# Die meisten Ptz2 sind auch als Adjektiv registriert\n",
    "mask = ~ptz2.data.isin(adj)\n",
    "check_mask(ptz2,mask,0,120)\n",
    "grid(ptz2,mask)"
   ]
  },
  {
   "cell_type": "markdown",
   "id": "31e3dfa6-1ad9-447d-813f-791512345ff2",
   "metadata": {},
   "source": [
    "#### Verben"
   ]
  },
  {
   "cell_type": "code",
   "execution_count": null,
   "id": "1b9e9dd0-153f-4cf7-a82c-5cc553f4ddd8",
   "metadata": {
    "execution": {
     "iopub.status.busy": "2023-02-25T13:48:34.666255Z",
     "iopub.status.idle": "2023-02-25T13:48:34.666659Z",
     "shell.execute_reply": "2023-02-25T13:48:34.666500Z",
     "shell.execute_reply.started": "2023-02-25T13:48:34.666484Z"
    }
   },
   "outputs": [],
   "source": [
    "# Kontrolle: Es gibt keine Doppeltags in lemma_tag und data_tag\n",
    "mask1 =  wiktionary_merkmal.is_lex    == True\n",
    "mask2 =  wiktionary_merkmal.lemma_tag.str.startswith('V')\n",
    "mask3A = wiktionary_merkmal.lemma_tag.str.contains(' ')\n",
    "mask3B = wiktionary_merkmal.data_tag.str.contains(' ')\n",
    "mask  =  mask1  &  mask2  &  (mask3A | mask3B)\n",
    "check_mask( wiktionary_merkmal, mask, 0)"
   ]
  },
  {
   "cell_type": "code",
   "execution_count": null,
   "id": "52d4c705-7b10-4df7-8d8f-2cea2eabd60a",
   "metadata": {
    "execution": {
     "iopub.status.busy": "2023-02-25T13:48:34.667811Z",
     "iopub.status.idle": "2023-02-25T13:48:34.669278Z",
     "shell.execute_reply": "2023-02-25T13:48:34.669089Z",
     "shell.execute_reply.started": "2023-02-25T13:48:34.669065Z"
    }
   },
   "outputs": [],
   "source": [
    "# Übersicht: Alle V-Tags in wiktionary_lemma\n",
    "mask = wiktionary_lemma.tag.str.startswith('V')\n",
    "a = pak.analyse_freqs(wiktionary_lemma[mask],['tag','lemma'])\n",
    "grid(a)"
   ]
  },
  {
   "cell_type": "code",
   "execution_count": null,
   "id": "92236581-b137-4a44-9940-8488e79c97ab",
   "metadata": {
    "execution": {
     "iopub.status.busy": "2023-02-25T13:48:34.669905Z",
     "iopub.status.idle": "2023-02-25T13:48:34.670217Z",
     "shell.execute_reply": "2023-02-25T13:48:34.670083Z",
     "shell.execute_reply.started": "2023-02-25T13:48:34.670069Z"
    }
   },
   "outputs": [],
   "source": [
    "# Übersicht: Alle V-Tags in wiktionary_merkmal\n",
    "mask1 = wiktionary_merkmal.is_lex == True\n",
    "mask2 = wiktionary_merkmal.lemma_tag.str.startswith('V')\n",
    "mask = mask1  &  mask2\n",
    "a = pak.analyse_freqs(wiktionary_merkmal[mask],['data_tag','lemma_tag','data','lemma'])\n",
    "a = pak.drop_cols(a,['data_tag_percent','data_count','lemma_count'])\n",
    "grid(a)"
   ]
  },
  {
   "cell_type": "code",
   "execution_count": null,
   "id": "449ba754-089b-4d15-b608-ec91b9c4fe95",
   "metadata": {
    "execution": {
     "iopub.status.busy": "2023-02-25T13:48:34.679754Z",
     "iopub.status.idle": "2023-02-25T13:48:34.680207Z",
     "shell.execute_reply": "2023-02-25T13:48:34.680058Z",
     "shell.execute_reply.started": "2023-02-25T13:48:34.680040Z"
    }
   },
   "outputs": [],
   "source": [
    "# Infinitiv\n",
    "mask1 = wiktionary_merkmal.is_lex == True\n",
    "mask2 = wiktionary_merkmal.lemma_tag.str.startswith('V')\n",
    "mask3 = wiktionary_merkmal.merkmal == 'lemma'\n",
    "mask  = mask1  &  mask2  &  mask3\n",
    "check_mask(wiktionary_merkmal,mask, 13605)\n",
    "\n",
    "wiktionary_merkmal.loc[mask,'data_tag'] = wiktionary_merkmal.lemma_tag.str[0:2] + 'INF'\n",
    "grid(wiktionary_merkmal,mask)"
   ]
  },
  {
   "cell_type": "code",
   "execution_count": null,
   "id": "340e5e0f-48a3-4e75-813e-ef2d4ddc2226",
   "metadata": {
    "execution": {
     "iopub.status.busy": "2023-02-25T13:48:34.681167Z",
     "iopub.status.idle": "2023-02-25T13:48:34.681653Z",
     "shell.execute_reply": "2023-02-25T13:48:34.681508Z",
     "shell.execute_reply.started": "2023-02-25T13:48:34.681489Z"
    }
   },
   "outputs": [],
   "source": [
    "# Imperativ\n",
    "mask1 = wiktionary_merkmal.is_lex == True\n",
    "mask2 = wiktionary_merkmal.lemma_tag.str.startswith('V')\n",
    "mask3 = wiktionary_merkmal.merkmal.str.contains('Imp')\n",
    "mask  = mask1  &  mask2  &  mask3\n",
    "check_mask(wiktionary_merkmal,mask, 36672)\n",
    "\n",
    "wiktionary_merkmal.loc[mask,'data_tag'] = wiktionary_merkmal.lemma_tag.str[0:2] + 'IMP'\n",
    "grid(wiktionary_merkmal,mask)"
   ]
  },
  {
   "cell_type": "code",
   "execution_count": null,
   "id": "0bde6a6b-7260-4280-8f3b-d597c21729dd",
   "metadata": {
    "execution": {
     "iopub.status.busy": "2023-02-25T13:48:34.682810Z",
     "iopub.status.idle": "2023-02-25T13:48:34.683224Z",
     "shell.execute_reply": "2023-02-25T13:48:34.683060Z",
     "shell.execute_reply.started": "2023-02-25T13:48:34.683043Z"
    }
   },
   "outputs": [],
   "source": [
    "# Imperativ: VMIMP gibt es gar nicht\n",
    "mask = wiktionary_merkmal.data_tag == 'VMIMP'\n",
    "check_mask(wiktionary_merkmal,mask, 3)\n",
    "wiktionary_merkmal.loc[mask,'data_tag'] = 'VVIMP'\n",
    "#grid(wiktionary_merkmal,mask)"
   ]
  },
  {
   "cell_type": "code",
   "execution_count": null,
   "id": "0f0b43e4-9d0a-4be2-8aff-f1a3d1a89930",
   "metadata": {
    "execution": {
     "iopub.status.busy": "2023-02-25T13:48:34.684749Z",
     "iopub.status.idle": "2023-02-25T13:48:34.685257Z",
     "shell.execute_reply": "2023-02-25T13:48:34.685044Z",
     "shell.execute_reply.started": "2023-02-25T13:48:34.685028Z"
    }
   },
   "outputs": [],
   "source": [
    "# Partizip2\n",
    "mask1 = wiktionary_merkmal.is_lex == True\n",
    "mask2 = wiktionary_merkmal.lemma_tag.str.startswith('V')\n",
    "mask3 = wiktionary_merkmal.merkmal == 'Ptz2' \n",
    "mask  = mask1  &  mask2  &  mask3\n",
    "check_mask(wiktionary_merkmal,mask,13885)\n",
    "\n",
    "wiktionary_merkmal.loc[mask,'data_tag'] = wiktionary_merkmal.lemma_tag.str[0:2] + 'PP'\n",
    "grid(wiktionary_merkmal,mask)"
   ]
  },
  {
   "cell_type": "code",
   "execution_count": null,
   "id": "67caee5e-6537-46a1-b025-ee95f2a4cf2c",
   "metadata": {
    "execution": {
     "iopub.status.busy": "2023-02-25T13:48:34.691927Z",
     "iopub.status.idle": "2023-02-25T13:48:34.692344Z",
     "shell.execute_reply": "2023-02-25T13:48:34.692207Z",
     "shell.execute_reply.started": "2023-02-25T13:48:34.692190Z"
    }
   },
   "outputs": [],
   "source": [
    "# Partizip1 \n",
    "mask1 =  wiktionary_merkmal.is_lex == True\n",
    "mask2 = wiktionary_merkmal.lemma_tag.str.startswith('V')\n",
    "mask3 = wiktionary_merkmal.merkmal == 'Ptz1'\n",
    "mask  = mask1  &  mask2  &  mask3\n",
    "check_mask( wiktionary_merkmal, mask, 26716)\n",
    "\n",
    "wiktionary_merkmal.loc[mask,'data_tag'] = wiktionary_merkmal[mask].lemma_tag\n",
    "grid(wiktionary_merkmal,mask)"
   ]
  },
  {
   "cell_type": "code",
   "execution_count": null,
   "id": "79652815-08e2-4504-a07a-802329c45fbe",
   "metadata": {
    "execution": {
     "iopub.status.busy": "2023-02-25T13:48:34.693343Z",
     "iopub.status.idle": "2023-02-25T13:48:34.693701Z",
     "shell.execute_reply": "2023-02-25T13:48:34.693569Z",
     "shell.execute_reply.started": "2023-02-25T13:48:34.693554Z"
    }
   },
   "outputs": [],
   "source": [
    "# (1) Gerundivum: Schon fertig\n",
    "mask = wiktionary_merkmal.merkmal == 'Gerundivum'\n",
    "grid(wiktionary_merkmal,mask)"
   ]
  },
  {
   "cell_type": "code",
   "execution_count": null,
   "id": "86baba89-5a2f-478d-b30e-718f8a293cda",
   "metadata": {
    "execution": {
     "iopub.status.busy": "2023-02-25T13:48:34.694713Z",
     "iopub.status.idle": "2023-02-25T13:48:34.695167Z",
     "shell.execute_reply": "2023-02-25T13:48:34.694986Z",
     "shell.execute_reply.started": "2023-02-25T13:48:34.694970Z"
    }
   },
   "outputs": [],
   "source": [
    "# Adjektivformen der Verben: ADJA ergänzen \n",
    "mask1 =  wiktionary_merkmal.is_lex == True\n",
    "mask2 =  wiktionary_merkmal.merkmal.isin(['Ptz1','Ptz2'])\n",
    "mask3 = ~wiktionary_merkmal.data_tag.str.contains('ADJA')\n",
    "mask  = mask1  &  mask2  &  mask3\n",
    "check_mask(wiktionary_merkmal, mask, 27243)\n",
    "\n",
    "adjaformen = wiktionary_merkmal[mask].copy()\n",
    "adjaformen['data_tag'] = 'ADJA'\n",
    "adjaformen['merkmal_order'] += 10\n",
    "\n",
    "wiktionary_merkmal = pak.add_rows(wiktionary_merkmal,adjaformen)\n",
    "grid(adjaformen)"
   ]
  },
  {
   "cell_type": "code",
   "execution_count": null,
   "id": "8fc463f4-109d-4743-a1f3-2ca29df323aa",
   "metadata": {
    "execution": {
     "iopub.status.busy": "2023-02-25T13:48:34.696205Z",
     "iopub.status.idle": "2023-02-25T13:48:34.703502Z",
     "shell.execute_reply": "2023-02-25T13:48:34.703309Z",
     "shell.execute_reply.started": "2023-02-25T13:48:34.703283Z"
    }
   },
   "outputs": [],
   "source": [
    "# Prüfen: Alle Lexeme haben eine eindeutige data_id\n",
    "mask1 = wiktionary_merkmal.data_id == ''\n",
    "mask2 = wiktionary_merkmal.is_lex == True\n",
    "mask = mask1  &  mask2\n",
    "check_mask(wiktionary_merkmal,mask,0)\n",
    "\n",
    "mask_notempty = wiktionary_merkmal.data_id != ''\n",
    "a = pak.same_but_different(wiktionary_merkmal[mask_notempty],same='data_id',different='data')\n",
    "assert a.shape[0] == 0\n",
    "#grid(a)"
   ]
  },
  {
   "cell_type": "code",
   "execution_count": null,
   "id": "9ff14c68-3b89-4de2-8264-cae11187117c",
   "metadata": {
    "execution": {
     "iopub.status.busy": "2023-02-25T13:48:34.704284Z",
     "iopub.status.idle": "2023-02-25T13:48:34.704661Z",
     "shell.execute_reply": "2023-02-25T13:48:34.704529Z",
     "shell.execute_reply.started": "2023-02-25T13:48:34.704514Z"
    }
   },
   "outputs": [],
   "source": [
    "# Übersicht: Adjektivformen der Verben\n",
    "mask1 =  wiktionary_merkmal.is_lex == True\n",
    "mask2 =  wiktionary_merkmal.merkmal.isin(['Ptz1','Ptz2','Gerundivum'])\n",
    "mask  = mask1  &  mask2\n",
    "a = pak.analyse_freqs( wiktionary_merkmal[mask], ['merkmal','data_tag','data'] )\n",
    "a"
   ]
  },
  {
   "cell_type": "code",
   "execution_count": null,
   "id": "2f203263-b53b-4c3c-a029-4525399c9c5a",
   "metadata": {
    "execution": {
     "iopub.status.busy": "2023-02-25T13:48:34.705664Z",
     "iopub.status.idle": "2023-02-25T13:48:34.705997Z",
     "shell.execute_reply": "2023-02-25T13:48:34.705874Z",
     "shell.execute_reply.started": "2023-02-25T13:48:34.705859Z"
    }
   },
   "outputs": [],
   "source": [
    "# VVIZU in wiktionary_merkmal\n",
    "mask1 = wiktionary_merkmal.is_lex == True\n",
    "mask2 = wiktionary_merkmal.lemma_tag.str.startswith('V')\n",
    "mask3 = wiktionary_merkmal.merkmal != 'lemma'\n",
    "mask4 = wiktionary_merkmal.data.str.replace('zu','') == wiktionary_merkmal.lemma.str.replace('zu','') # erst wenn alle ZU entfernt werden ist es wieder gleich\n",
    "mask5 = wiktionary_merkmal.data.str.len() == wiktionary_merkmal.lemma.str.len() + 2\n",
    "mask  =  mask1  &  mask2  &  mask3  &  mask4  &  mask5\n",
    "check_mask(wiktionary_merkmal,mask, 8)\n",
    "\n",
    "#wiktionary_merkmal.loc[mask,'data_tag']     = 'VVIZU'\n",
    "#wiktionary_merkmal.loc[mask,'meta']    = '' \n",
    "#wiktionary_merkmal.loc[mask,'merkmal'] = 'Erweiterter_Infinitiv' \n",
    "grid(wiktionary_merkmal,mask)"
   ]
  },
  {
   "cell_type": "code",
   "execution_count": null,
   "id": "b18094de-4ece-425a-9c1b-62c830bdbbff",
   "metadata": {
    "execution": {
     "iopub.status.busy": "2023-02-25T13:48:34.706952Z",
     "iopub.status.idle": "2023-02-25T13:48:34.707528Z",
     "shell.execute_reply": "2023-02-25T13:48:34.707397Z",
     "shell.execute_reply.started": "2023-02-25T13:48:34.707380Z"
    }
   },
   "outputs": [],
   "source": [
    "# translate_lex suche_debug\n",
    "grid(search_str(translate_lex, suche_debug))"
   ]
  },
  {
   "cell_type": "code",
   "execution_count": null,
   "id": "f9ab5ae6-4860-4474-bddd-bd0abe1438b0",
   "metadata": {
    "execution": {
     "iopub.status.busy": "2023-02-25T13:48:34.708205Z",
     "iopub.status.idle": "2023-02-25T13:48:34.708516Z",
     "shell.execute_reply": "2023-02-25T13:48:34.708393Z",
     "shell.execute_reply.started": "2023-02-25T13:48:34.708378Z"
    }
   },
   "outputs": [],
   "source": [
    "# TODO_VVIZU\n",
    "# VVIZU in translate_lex\n",
    "mask1 = translate_lex.lemma_tag.str.startswith('V')\n",
    "mask2 = translate_lex.data.str.replace('zu','') == translate_lex.lemma.str.replace('zu','') # erst wenn alle ZU entfernt werden ist es wieder gleich\n",
    "mask3 = translate_lex.data.str.len() == translate_lex.lemma.str.len() + 2\n",
    "mask  =  mask1  &  mask2  &  mask3  \n",
    "check_mask(translate_lex,mask, 5473)\n",
    "\n",
    "vvizuformen = translate_lex[mask].copy()"
   ]
  },
  {
   "cell_type": "code",
   "execution_count": null,
   "id": "a6f52bc1-68b5-4477-9152-19aaf4927117",
   "metadata": {
    "execution": {
     "iopub.status.busy": "2023-02-25T13:48:34.715834Z",
     "iopub.status.idle": "2023-02-25T13:48:34.716545Z",
     "shell.execute_reply": "2023-02-25T13:48:34.716400Z",
     "shell.execute_reply.started": "2023-02-25T13:48:34.716382Z"
    }
   },
   "outputs": [],
   "source": [
    "# vvizuformen anpassen und anfügen\n",
    "vvizuformen = pak.drop_cols(vvizuformen,['lemma_tagZZ','lemma_lower','lemma_score'])\n",
    "vvizuformen = pak.rename_col(vvizuformen,'member',    'meta'     )\n",
    "vvizuformen = pak.rename_col(vvizuformen,'data_score', 'score'     )\n",
    "vvizuformen['merkmal']       = 'VVIZU'\n",
    "vvizuformen['is_lex']        = True\n",
    "vvizuformen['data_tag']      = 'VVIZU'\n",
    "vvizuformen['num']           = ''\n",
    "vvizuformen['merkmal_order'] = 0\n",
    "\n",
    "# Spaltenvergleich\n",
    "bpy.minivenn( vvizuformen.columns, wiktionary_merkmal.columns, format='print2')"
   ]
  },
  {
   "cell_type": "code",
   "execution_count": null,
   "id": "2773d06d-0a27-4c94-9655-aa73a93822dd",
   "metadata": {
    "execution": {
     "iopub.status.busy": "2023-02-25T13:48:34.717304Z",
     "iopub.status.idle": "2023-02-25T13:48:34.717642Z",
     "shell.execute_reply": "2023-02-25T13:48:34.717515Z",
     "shell.execute_reply.started": "2023-02-25T13:48:34.717501Z"
    }
   },
   "outputs": [],
   "source": [
    "# anfügen\n",
    "wiktionary_merkmal = pak.add_rows(wiktionary_merkmal, vvizuformen)\n",
    "grid(vvizuformen)"
   ]
  },
  {
   "cell_type": "code",
   "execution_count": null,
   "id": "1325f08d-520e-4c3c-97c2-106d8f392eb8",
   "metadata": {
    "execution": {
     "iopub.status.busy": "2023-02-25T13:48:34.718581Z",
     "iopub.status.idle": "2023-02-25T13:48:34.718918Z",
     "shell.execute_reply": "2023-02-25T13:48:34.718791Z",
     "shell.execute_reply.started": "2023-02-25T13:48:34.718776Z"
    }
   },
   "outputs": [],
   "source": [
    "# Prüfen: Alle Lexeme haben eine eindeutige data_id\n",
    "mask1 = wiktionary_merkmal.data_id == ''\n",
    "mask2 = wiktionary_merkmal.is_lex == True\n",
    "mask = mask1  &  mask2\n",
    "check_mask(wiktionary_merkmal,mask,0)\n",
    "\n",
    "mask_notempty = wiktionary_merkmal.data_id != ''\n",
    "a = pak.same_but_different(wiktionary_merkmal[mask_notempty],same='data_id',different='data')\n",
    "assert a.shape[0] == 0\n",
    "#grid(a)"
   ]
  },
  {
   "cell_type": "code",
   "execution_count": null,
   "id": "2a478e41-665c-4c80-895b-b53af95f715e",
   "metadata": {
    "execution": {
     "iopub.status.busy": "2023-02-25T13:48:34.719955Z",
     "iopub.status.idle": "2023-02-25T13:48:34.720358Z",
     "shell.execute_reply": "2023-02-25T13:48:34.720217Z",
     "shell.execute_reply.started": "2023-02-25T13:48:34.720201Z"
    }
   },
   "outputs": [],
   "source": [
    "# Kontrolle: Keine anderen Infinitiv-like\n",
    "mask1 =  wiktionary_merkmal.is_lex == True\n",
    "mask2 =  wiktionary_merkmal.lemma_tag.str.startswith('V')\n",
    "mask3 =  wiktionary_merkmal.data == wiktionary_merkmal.lemma\n",
    "mask4 = ~wiktionary_merkmal.merkmal.isin( ['lemma','Ptz2'] )\n",
    "mask  = mask1  &  mask2  &  mask3  &  mask4\n",
    "\n",
    "check_mask( wiktionary_merkmal, mask, 0)\n",
    "#wiktionary_merkmal, wiktionary_merkmal_trash = pak.drop_rows( wiktionary_merkmal, mask, wiktionary_merkmal_trash, msg='Infinitiv-like' ) \n",
    "#grid(wiktionary_merkmal,mask)"
   ]
  },
  {
   "cell_type": "code",
   "execution_count": null,
   "id": "24394178-df7c-4a91-b3f6-0a5abafbcadd",
   "metadata": {
    "execution": {
     "iopub.status.busy": "2023-02-25T13:48:34.727922Z",
     "iopub.status.idle": "2023-02-25T13:48:34.728640Z",
     "shell.execute_reply": "2023-02-25T13:48:34.728493Z",
     "shell.execute_reply.started": "2023-02-25T13:48:34.728474Z"
    }
   },
   "outputs": [],
   "source": [
    "# Kontrolle: Es gibt keine Doppeltags in lemma_tag und data_tag\n",
    "mask1 =  wiktionary_merkmal.is_lex    == True\n",
    "mask2 =  wiktionary_merkmal.lemma_tag.str.startswith('V')\n",
    "mask3A = wiktionary_merkmal.lemma_tag.str.contains(' ')\n",
    "mask3B = wiktionary_merkmal.data_tag.str.contains(' ')\n",
    "mask  =  mask1  &  mask2  &  (mask3A | mask3B)\n",
    "check_mask( wiktionary_merkmal, mask, 0)"
   ]
  },
  {
   "cell_type": "code",
   "execution_count": null,
   "id": "14e4d7cd-13f5-46b1-8be4-45114c0f7174",
   "metadata": {
    "execution": {
     "iopub.status.busy": "2023-02-25T13:48:34.729440Z",
     "iopub.status.idle": "2023-02-25T13:48:34.729825Z",
     "shell.execute_reply": "2023-02-25T13:48:34.729689Z",
     "shell.execute_reply.started": "2023-02-25T13:48:34.729674Z"
    }
   },
   "outputs": [],
   "source": [
    "# data_tag setzen (auf lemma_tag)\n",
    "mask1 = wiktionary_merkmal.lemma_tag.str.startswith('V')\n",
    "mask2 = wiktionary_merkmal.is_lex    == True\n",
    "mask3 = wiktionary_merkmal.data_tag  == ''\n",
    "mask  = mask1  &  mask2  &  mask3\n",
    "\n",
    "#grid(wiktionary_merkmal,mask)\n",
    "wiktionary_merkmal.loc[mask,'data_tag'] = wiktionary_merkmal[mask].lemma_tag"
   ]
  },
  {
   "cell_type": "code",
   "execution_count": null,
   "id": "ad2604bf-70dd-4966-ba74-d96aa8b0b972",
   "metadata": {
    "execution": {
     "iopub.status.busy": "2023-02-25T13:48:34.730592Z",
     "iopub.status.idle": "2023-02-25T13:48:34.730966Z",
     "shell.execute_reply": "2023-02-25T13:48:34.730825Z",
     "shell.execute_reply.started": "2023-02-25T13:48:34.730810Z"
    }
   },
   "outputs": [],
   "source": [
    "# Übersicht: Alle V-Tags in wiktionary_merkmal\n",
    "mask1 = wiktionary_merkmal.is_lex == True\n",
    "mask2 = wiktionary_merkmal.lemma_tag.str.startswith('V')\n",
    "mask = mask1  &  mask2\n",
    "a = pak.analyse_freqs(wiktionary_merkmal[mask],['data_tag','lemma_tag','data','lemma'])\n",
    "a = pak.drop_cols(a,['data_tag_percent','data_count','lemma_count'])\n",
    "grid(a)"
   ]
  },
  {
   "cell_type": "markdown",
   "id": "80433494-fc97-4b8b-a2f8-7d81b031f04b",
   "metadata": {},
   "source": [
    "#### Nomen"
   ]
  },
  {
   "cell_type": "code",
   "execution_count": null,
   "id": "150f7837-0189-4648-a772-9a86c98db1f0",
   "metadata": {
    "execution": {
     "iopub.status.busy": "2023-02-25T13:48:34.732041Z",
     "iopub.status.idle": "2023-02-25T13:48:34.732370Z",
     "shell.execute_reply": "2023-02-25T13:48:34.732245Z",
     "shell.execute_reply.started": "2023-02-25T13:48:34.732230Z"
    }
   },
   "outputs": [],
   "source": [
    "# Übersicht über alle explizit gesetzten tags (Tagquelle: lexeme_manuell)\n",
    "mask1 = wiktionary_merkmal.is_lex == True\n",
    "mask2 = wiktionary_merkmal.lemma_tag.str.startswith('N')\n",
    "mask3 = wiktionary_merkmal.data_tag != ''\n",
    "mask  = mask1  &  mask2  &  mask3\n",
    "#grid(wiktionary_merkmal,mask)\n",
    "a = pak.analyse_freqs(wiktionary_merkmal[mask], ['lemma_tag','data_tag'])\n",
    "(a)"
   ]
  },
  {
   "cell_type": "code",
   "execution_count": null,
   "id": "878b826d-3cd9-4ade-8a38-19c1c7776c5c",
   "metadata": {
    "execution": {
     "iopub.status.busy": "2023-02-25T13:48:34.738582Z",
     "iopub.status.idle": "2023-02-25T13:48:34.739312Z",
     "shell.execute_reply": "2023-02-25T13:48:34.739160Z",
     "shell.execute_reply.started": "2023-02-25T13:48:34.739141Z"
    }
   },
   "outputs": [],
   "source": [
    "# Keine Doppeltags\n",
    "mask1 =  wiktionary_merkmal.is_lex    == True\n",
    "mask2 =  wiktionary_merkmal.lemma_tag.str.startswith('N')\n",
    "mask3 =  wiktionary_merkmal.lemma_tag.str.contains(' ')\n",
    "mask  =  mask1  &  mask2  &  mask3\n",
    "check_mask( wiktionary_merkmal, mask, 0)"
   ]
  },
  {
   "cell_type": "code",
   "execution_count": null,
   "id": "3600a48a-f53f-4e9c-bd93-8bb1cd13c282",
   "metadata": {
    "execution": {
     "iopub.status.busy": "2023-02-25T13:48:34.740124Z",
     "iopub.status.idle": "2023-02-25T13:48:34.740522Z",
     "shell.execute_reply": "2023-02-25T13:48:34.740381Z",
     "shell.execute_reply.started": "2023-02-25T13:48:34.740365Z"
    }
   },
   "outputs": [],
   "source": [
    "# Irgendwelche unbekannten tags?\n",
    "mask1 =  wiktionary_merkmal.is_lex == True\n",
    "mask2 =  wiktionary_merkmal.lemma_tag.str.startswith('N')\n",
    "mask3 = ~wiktionary_merkmal.data_tag.isin( ['NN','NE',''] )\n",
    "mask  = mask1  &  mask2  &  mask3\n",
    "check_mask( wiktionary_merkmal, mask, 0)\n",
    "#grid(wiktionary_merkmal,mask)"
   ]
  },
  {
   "cell_type": "code",
   "execution_count": null,
   "id": "825df8e3-0c46-4ec9-a2f3-74617c17982d",
   "metadata": {
    "execution": {
     "iopub.status.busy": "2023-02-25T13:48:34.741538Z",
     "iopub.status.idle": "2023-02-25T13:48:34.742128Z",
     "shell.execute_reply": "2023-02-25T13:48:34.741995Z",
     "shell.execute_reply.started": "2023-02-25T13:48:34.741978Z"
    }
   },
   "outputs": [],
   "source": [
    "# data_tag setzen (auf lemma_tag)\n",
    "mask1 = wiktionary_merkmal.lemma_tag.str.startswith('N')\n",
    "mask2 = wiktionary_merkmal.is_lex    == True\n",
    "mask3 = wiktionary_merkmal.data_tag  == ''\n",
    "mask  = mask1  &  mask2  &  mask3\n",
    "check_mask( wiktionary_merkmal, mask, 761247)\n",
    "\n",
    "wiktionary_merkmal.loc[mask,'data_tag'] = wiktionary_merkmal[mask].lemma_tag\n",
    "#grid(wiktionary_merkmal,mask)"
   ]
  },
  {
   "cell_type": "code",
   "execution_count": null,
   "id": "e236c4e5-bc83-435b-b8b7-4961aeea0bb8",
   "metadata": {
    "execution": {
     "iopub.status.busy": "2023-02-25T13:48:34.742816Z",
     "iopub.status.idle": "2023-02-25T13:48:34.743138Z",
     "shell.execute_reply": "2023-02-25T13:48:34.743017Z",
     "shell.execute_reply.started": "2023-02-25T13:48:34.743003Z"
    }
   },
   "outputs": [],
   "source": [
    "# Nomen analysieren\n",
    "mask1 = wiktionary_merkmal.is_lex == True\n",
    "mask2 = wiktionary_merkmal.lemma_tag.str.startswith('N')\n",
    "mask  = mask1  &  mask2  \n",
    "a = pak.analyse_freqs( wiktionary_merkmal[mask], ['merkmal','data_tag'] )\n",
    "grid(a)"
   ]
  },
  {
   "cell_type": "markdown",
   "id": "aa13eb60-dc08-45b7-a0d4-ed918b62edfd",
   "metadata": {},
   "source": [
    "#### Rest"
   ]
  },
  {
   "cell_type": "code",
   "execution_count": null,
   "id": "89481873-bb8d-46f6-b663-0f1b854dea7b",
   "metadata": {
    "execution": {
     "iopub.status.busy": "2023-02-25T13:48:34.751837Z",
     "iopub.status.idle": "2023-02-25T13:48:34.752389Z",
     "shell.execute_reply": "2023-02-25T13:48:34.752244Z",
     "shell.execute_reply.started": "2023-02-25T13:48:34.752227Z"
    }
   },
   "outputs": [],
   "source": [
    "# data_tag setzen (auf lemma_tag)\n",
    "mask1 = wiktionary_merkmal.is_lex    == True\n",
    "mask2 = wiktionary_merkmal.data_tag  == ''\n",
    "mask3 = ~wiktionary_merkmal.lemma_tag.str[0].isin(['V','N'])\n",
    "mask  = mask1  &  mask2  &  mask3\n",
    "check_mask( wiktionary_merkmal, mask, 30194)\n",
    "\n",
    "wiktionary_merkmal.loc[mask,'data_tag'] = wiktionary_merkmal[mask].lemma_tag\n",
    "#a = pak.analyse_freqs( wiktionary_merkmal[mask], ['lemma_tag','data_tag'] )\n",
    "#grid(a)"
   ]
  },
  {
   "cell_type": "markdown",
   "id": "07383cb8-c85d-4cd4-901f-2e1317eca86e",
   "metadata": {},
   "source": [
    "#### zweittag"
   ]
  },
  {
   "cell_type": "code",
   "execution_count": null,
   "id": "56eee730-ecbc-4100-b8a8-5a0dd41fa691",
   "metadata": {
    "execution": {
     "iopub.status.busy": "2023-02-25T13:48:34.753135Z",
     "iopub.status.idle": "2023-02-25T13:48:34.753460Z",
     "shell.execute_reply": "2023-02-25T13:48:34.753319Z",
     "shell.execute_reply.started": "2023-02-25T13:48:34.753304Z"
    }
   },
   "outputs": [],
   "source": [
    "spalten = ['lemma_id','tag_1']\n",
    "mask = wiktionary_lemma.tag.str.contains(' ')\n",
    "check_mask( wiktionary_lemma, mask, 150)\n",
    "\n",
    "zweitags = wiktionary_lemma[mask][spalten]"
   ]
  },
  {
   "cell_type": "code",
   "execution_count": null,
   "id": "dbecd9c4-b172-4cd1-aa87-c39a96ccbefa",
   "metadata": {
    "execution": {
     "iopub.status.busy": "2023-02-25T13:48:34.754369Z",
     "iopub.status.idle": "2023-02-25T13:48:34.754686Z",
     "shell.execute_reply": "2023-02-25T13:48:34.754557Z",
     "shell.execute_reply.started": "2023-02-25T13:48:34.754543Z"
    }
   },
   "outputs": [],
   "source": [
    "# Merkmale anfügen mit zweittag\n",
    "mask1 = wiktionary_merkmal.lemma_id.isin(zweitags.lemma_id)\n",
    "mask2 = wiktionary_merkmal.lemma_tag == wiktionary_merkmal.data_tag\n",
    "mask = mask1  &  mask2\n",
    "check_mask( wiktionary_merkmal, mask, 513)\n",
    "\n",
    "zweitlexeme = wiktionary_merkmal[mask].copy()\n",
    "zweitlexeme = pak.update_col(zweitlexeme, zweitags, on='lemma_id', col='tag_1', col_rename='data_tag')\n",
    "zweitlexeme.meta = (zweitlexeme.meta + ' zweittag').str.strip()\n",
    "wiktionary_merkmal = pak.add_rows(wiktionary_merkmal,zweitlexeme)\n",
    "grid(zweitlexeme)"
   ]
  },
  {
   "cell_type": "code",
   "execution_count": null,
   "id": "25d088bd-a017-40e5-a864-5428301b0cf3",
   "metadata": {
    "execution": {
     "iopub.status.busy": "2023-02-25T13:48:34.755625Z",
     "iopub.status.idle": "2023-02-25T13:48:34.755967Z",
     "shell.execute_reply": "2023-02-25T13:48:34.755827Z",
     "shell.execute_reply.started": "2023-02-25T13:48:34.755812Z"
    }
   },
   "outputs": [],
   "source": [
    "# Prüfen: Alle Lexeme haben eine eindeutige data_id\n",
    "mask1 = wiktionary_merkmal.data_id == ''\n",
    "mask2 = wiktionary_merkmal.is_lex == True\n",
    "mask = mask1  &  mask2\n",
    "check_mask(wiktionary_merkmal,mask,0)\n",
    "\n",
    "mask_notempty = wiktionary_merkmal.data_id != ''\n",
    "a = pak.same_but_different(wiktionary_merkmal[mask_notempty],same='data_id',different='data')\n",
    "assert a.shape[0] == 0\n",
    "#grid(a)"
   ]
  },
  {
   "cell_type": "markdown",
   "id": "9f91a820-af8b-4ee0-82e7-5e0b8b48850c",
   "metadata": {},
   "source": [
    "#### Adjektive"
   ]
  },
  {
   "cell_type": "code",
   "execution_count": null,
   "id": "5b29c435-3e01-4a15-8060-f748eb2745ff",
   "metadata": {
    "execution": {
     "iopub.status.busy": "2023-02-25T13:48:34.756902Z",
     "iopub.status.idle": "2023-02-25T13:48:34.757408Z",
     "shell.execute_reply": "2023-02-25T13:48:34.757255Z",
     "shell.execute_reply.started": "2023-02-25T13:48:34.757237Z"
    }
   },
   "outputs": [],
   "source": [
    "# Merkmal Positiv ist sinnlos\n",
    "mask1 = wiktionary_merkmal.merkmal == 'Positiv'\n",
    "mask2 = wiktionary_merkmal.data != wiktionary_merkmal.lemma\n",
    "mask = mask1  &  mask2\n",
    "check_mask( wiktionary_merkmal, mask, 0,10)\n",
    "wiktionary_merkmal[mask]"
   ]
  },
  {
   "cell_type": "code",
   "execution_count": null,
   "id": "b39502c7-ffa5-4606-8d5a-c00ab502e70f",
   "metadata": {
    "execution": {
     "iopub.status.busy": "2023-02-25T13:48:34.758606Z",
     "iopub.status.idle": "2023-02-25T13:48:34.758951Z",
     "shell.execute_reply": "2023-02-25T13:48:34.758806Z",
     "shell.execute_reply.started": "2023-02-25T13:48:34.758791Z"
    }
   },
   "outputs": [],
   "source": [
    "# Merkmal Positiv löschen\n",
    "mask = wiktionary_merkmal.merkmal == 'Positiv'\n",
    "check_mask( wiktionary_merkmal, mask, 13301)\n",
    "\n",
    "msg = 'Merkmal Positiv ist sinnlos' \n",
    "wiktionary_merkmal, wiktionary_merkmal_trash = pak.move_rows( wiktionary_merkmal, wiktionary_merkmal_trash, mask, msg) \n",
    "grid( wiktionary_merkmal_trash, msg )"
   ]
  },
  {
   "cell_type": "code",
   "execution_count": null,
   "id": "a055e3eb-72d5-44eb-842c-6b828bbfc219",
   "metadata": {
    "execution": {
     "iopub.status.busy": "2023-02-25T13:48:34.759876Z",
     "iopub.status.idle": "2023-02-25T13:48:34.767610Z",
     "shell.execute_reply": "2023-02-25T13:48:34.767398Z",
     "shell.execute_reply.started": "2023-02-25T13:48:34.767369Z"
    }
   },
   "outputs": [],
   "source": [
    "# Ist kein Adjektiv\n",
    "mask1 =  wiktionary_merkmal.data_tag.isin(['ADJA','ADJD'])\n",
    "mask2 = ~wiktionary_merkmal.merkmal.isin(['lemma','Ptz1','Ptz2','Gerundivum','Positiv','Komparativ','Superlativ','alt','alt_1','alt_2','lexAlt','lex','alt_abk'])\n",
    "mask3 =  wiktionary_merkmal.is_lex == True\n",
    "mask  = mask1  &  mask2  &  mask3   \n",
    "check_mask( wiktionary_merkmal, mask, 16)\n",
    "\n",
    "msg = 'Ist kein Adjektiv' \n",
    "wiktionary_merkmal, wiktionary_merkmal_trash = pak.move_rows( wiktionary_merkmal, wiktionary_merkmal_trash, mask, msg) \n",
    "grid( wiktionary_merkmal_trash, msg )"
   ]
  },
  {
   "cell_type": "code",
   "execution_count": null,
   "id": "9ccec22c-8bf2-496a-bbe8-433553b92ed2",
   "metadata": {
    "execution": {
     "iopub.status.busy": "2023-02-25T13:48:34.768547Z",
     "iopub.status.idle": "2023-02-25T13:48:34.769120Z",
     "shell.execute_reply": "2023-02-25T13:48:34.768944Z",
     "shell.execute_reply.started": "2023-02-25T13:48:34.768924Z"
    }
   },
   "outputs": [],
   "source": [
    "# Adjektiv-only Merkmale\n",
    "mask1 = ~wiktionary_merkmal.data_tag.isin(['ADJA','ADJD','ADV'])\n",
    "mask2 =  wiktionary_merkmal.merkmal.isin(['Gerundivum','Komparativ','Superlativ'])\n",
    "mask3 =  wiktionary_merkmal.is_lex == True\n",
    "mask  = mask1  &  mask2  &  mask3   \n",
    "check_mask( wiktionary_merkmal, mask, )\n",
    "\n",
    "#a = wiktionary_merkmal[mask].sort_values(['data_tag','lemma_id'])\n",
    "#grid(a)\n",
    "\n",
    "msg = 'Adjektiv-only Merkmale' \n",
    "wiktionary_merkmal, wiktionary_merkmal_trash = pak.move_rows( wiktionary_merkmal, wiktionary_merkmal_trash, mask, msg) \n",
    "grid( wiktionary_merkmal_trash, msg )"
   ]
  },
  {
   "cell_type": "code",
   "execution_count": null,
   "id": "74da4fac-7880-45b6-9cd1-e4babcd138a8",
   "metadata": {
    "execution": {
     "iopub.status.busy": "2023-02-25T13:48:34.770009Z",
     "iopub.status.idle": "2023-02-25T13:48:34.770448Z",
     "shell.execute_reply": "2023-02-25T13:48:34.770297Z",
     "shell.execute_reply.started": "2023-02-25T13:48:34.770281Z"
    }
   },
   "outputs": [],
   "source": [
    "# Steigerbare Adverbien #_TODO_ADJ_STEIGERBAR\n",
    "mask1 =  wiktionary_merkmal.data_tag == 'ADV'\n",
    "mask2 =  wiktionary_merkmal.merkmal.isin(['Komparativ','Superlativ'])\n",
    "mask3 =  wiktionary_merkmal.is_lex == True\n",
    "mask4 = ~wiktionary_merkmal.lemma.isin(['sehr','gern','gerne','oft', 'bald','wohl'])\n",
    "    \n",
    "mask  = mask1  &  mask2  &  mask3  &  mask4 \n",
    "check_mask( wiktionary_merkmal, mask, )\n",
    "\n",
    "a = wiktionary_merkmal[mask].sort_values(['merkmal','data_tag','lemma_id'])\n",
    "grid(a)\n",
    "\n",
    "# 'sehr', 'mehr','am meisten'\n",
    "# 'gern', 'lieber','am liebsten'\n",
    "# 'bald', 'eher','am ehesten'\n",
    "## 'oft',  'öfter','am öftesten'  # drin\n",
    "## 'wohl', 'besser','am besten'   # drin\n",
    "\n",
    "#msg = 'Irregeleitete Adjektive ' \n",
    "#wiktionary_merkmal, wiktionary_merkmal_trash = pak.move_rows( wiktionary_merkmal, wiktionary_merkmal_trash, mask, msg) \n",
    "#grid( wiktionary_merkmal_trash, msg )"
   ]
  },
  {
   "cell_type": "markdown",
   "id": "98b4068f-e91d-46f0-a8bb-c34844191ade",
   "metadata": {},
   "source": [
    "#### analysieren"
   ]
  },
  {
   "cell_type": "code",
   "execution_count": null,
   "id": "ada7d317-edc8-4477-a1b5-f989cdc6c51d",
   "metadata": {
    "execution": {
     "iopub.status.busy": "2023-02-25T13:48:34.771785Z",
     "iopub.status.idle": "2023-02-25T13:48:34.772192Z",
     "shell.execute_reply": "2023-02-25T13:48:34.772027Z",
     "shell.execute_reply.started": "2023-02-25T13:48:34.772010Z"
    }
   },
   "outputs": [],
   "source": [
    "# Merkmale analysieren\n",
    "mask1 = wiktionary_merkmal.is_lex == True\n",
    "mask  = mask1   \n",
    "a = pak.analyse_freqs( wiktionary_merkmal[mask], ['merkmal','data_tag'] )\n",
    "grid(a)"
   ]
  },
  {
   "cell_type": "code",
   "execution_count": null,
   "id": "2f63b840-eb48-4a36-9533-5ed172c36843",
   "metadata": {
    "execution": {
     "iopub.status.busy": "2023-02-25T13:48:34.779867Z",
     "iopub.status.idle": "2023-02-25T13:48:34.780581Z",
     "shell.execute_reply": "2023-02-25T13:48:34.780438Z",
     "shell.execute_reply.started": "2023-02-25T13:48:34.780419Z"
    }
   },
   "outputs": [],
   "source": [
    "# Keine Verwaisten lemma_id\n",
    "mask = ~wiktionary_merkmal.lemma_id.isin(wiktionary_lemma.lemma_id)\n",
    "check_mask( wiktionary_merkmal, mask, 0)\n",
    "#wiktionary_merkmal, wiktionary_merkmal_trash = pak.drop_rows( wiktionary_merkmal, mask, wiktionary_merkmal_trash, msg='verwaist' ) \n",
    "#grid( wiktionary_merkmal, mask)"
   ]
  },
  {
   "cell_type": "markdown",
   "id": "61da13bd-9617-4507-87ca-b5d3be22acfb",
   "metadata": {},
   "source": [
    "### Felder -------"
   ]
  },
  {
   "cell_type": "markdown",
   "id": "44bba1fb-b2e3-436d-9567-84c1fd542a8f",
   "metadata": {},
   "source": [
    "#### data"
   ]
  },
  {
   "cell_type": "code",
   "execution_count": null,
   "id": "3308f01c-1aea-4767-9a7e-a45acf069f7e",
   "metadata": {
    "execution": {
     "iopub.status.busy": "2023-02-25T13:48:34.781345Z",
     "iopub.status.idle": "2023-02-25T13:48:34.782071Z",
     "shell.execute_reply": "2023-02-25T13:48:34.781927Z",
     "shell.execute_reply.started": "2023-02-25T13:48:34.781908Z"
    }
   },
   "outputs": [],
   "source": [
    "# Prüfen: Keine mehrfache Spaces\n",
    "mask = wiktionary_merkmal.data.str.contains('  ')\n",
    "check_mask(wiktionary_merkmal,mask,0)\n",
    "wiktionary_merkmal['data'] = pak.replace_str( wiktionary_merkmal.data, {'  ':' '})"
   ]
  },
  {
   "cell_type": "code",
   "execution_count": null,
   "id": "09588f0e-8f97-49b0-ac16-370c20b3ebaa",
   "metadata": {
    "execution": {
     "iopub.status.busy": "2023-02-25T13:48:34.782794Z",
     "iopub.status.idle": "2023-02-25T13:48:34.783160Z",
     "shell.execute_reply": "2023-02-25T13:48:34.783030Z",
     "shell.execute_reply.started": "2023-02-25T13:48:34.783015Z"
    }
   },
   "outputs": [],
   "source": [
    "# Prüfen: nicht leer\n",
    "mask = wiktionary_merkmal.data.str.len() == 0\n",
    "check_mask( wiktionary_merkmal, mask, 0)\n",
    "#wiktionary_merkmal, wiktionary_merkmal_trash = pak.drop_rows( wiktionary_merkmal, mask, wiktionary_merkmal_trash, msg='leer3' ) "
   ]
  },
  {
   "cell_type": "code",
   "execution_count": null,
   "id": "6f0815ac-63a9-4b57-86f1-4cf3911a6620",
   "metadata": {
    "execution": {
     "iopub.status.busy": "2023-02-25T13:48:34.784220Z",
     "iopub.status.idle": "2023-02-25T13:48:34.784577Z",
     "shell.execute_reply": "2023-02-25T13:48:34.784432Z",
     "shell.execute_reply.started": "2023-02-25T13:48:34.784415Z"
    }
   },
   "outputs": [],
   "source": [
    "# '⇀' ist nur in syllables\n",
    "mask1 =  wiktionary_merkmal.data.str.contains('⇀')\n",
    "mask2 = ~wiktionary_merkmal.merkmal.isin(['syllables'])\n",
    "mask = mask1  &  mask2\n",
    "check_mask(wiktionary_merkmal,mask,0)"
   ]
  },
  {
   "cell_type": "code",
   "execution_count": null,
   "id": "c89166b3-a1f5-46cc-8200-a46d0895f360",
   "metadata": {
    "execution": {
     "iopub.status.busy": "2023-02-25T13:48:34.791919Z",
     "iopub.status.idle": "2023-02-25T13:48:34.792733Z",
     "shell.execute_reply": "2023-02-25T13:48:34.792567Z",
     "shell.execute_reply.started": "2023-02-25T13:48:34.792546Z"
    }
   },
   "outputs": [],
   "source": [
    "# Apostroph anschauen\n",
    "mask =  wiktionary_merkmal.data.str.contains(\"'\")\n",
    "check_mask(wiktionary_merkmal,mask,40)\n",
    "grid(wiktionary_merkmal,mask)"
   ]
  },
  {
   "cell_type": "code",
   "execution_count": null,
   "id": "dd37d0fd-9f44-46b7-a4e6-d4c2532f6397",
   "metadata": {
    "execution": {
     "iopub.status.busy": "2023-02-25T13:48:34.793615Z",
     "iopub.status.idle": "2023-02-25T13:48:34.794396Z",
     "shell.execute_reply": "2023-02-25T13:48:34.794232Z",
     "shell.execute_reply.started": "2023-02-25T13:48:34.794212Z"
    }
   },
   "outputs": [],
   "source": [
    "# Komma anschauen\n",
    "mask1 =  wiktionary_merkmal.data.str.contains(\",\")\n",
    "mask2 = ~wiktionary_merkmal.lemma.str.contains(\",\")\n",
    "mask = mask1  &  mask2\n",
    "check_mask(wiktionary_merkmal,mask,33)\n",
    "#grid(wiktionary_merkmal,mask)"
   ]
  },
  {
   "cell_type": "markdown",
   "id": "ab35cb4c-b6a0-4690-a37d-fffb2244927f",
   "metadata": {},
   "source": [
    "#### num"
   ]
  },
  {
   "cell_type": "code",
   "execution_count": null,
   "id": "c3231063-01a8-4248-9ae2-801564aa0098",
   "metadata": {
    "execution": {
     "iopub.status.busy": "2023-02-25T13:48:34.795209Z",
     "iopub.status.idle": "2023-02-25T13:48:34.795891Z",
     "shell.execute_reply": "2023-02-25T13:48:34.795749Z",
     "shell.execute_reply.started": "2023-02-25T13:48:34.795731Z"
    }
   },
   "outputs": [],
   "source": [
    "# num ist bei den meisten Lexemen sinnlos\n",
    "mask1 =  wiktionary_merkmal.is_lex == True\n",
    "mask2 =  wiktionary_merkmal.num.str.len() > 0\n",
    "#mask3 = wiktionary_merkmal.merkmal.str.startswith('alt') \n",
    "mask  =  mask1  &  mask2  #&  mask3\n",
    "\n",
    "check_mask( wiktionary_merkmal, mask, 18770)\n",
    "wiktionary_merkmal.loc[mask,'num'] = ''   \n",
    "#grid(wiktionary_merkmal,mask, color='green')"
   ]
  },
  {
   "cell_type": "code",
   "execution_count": null,
   "id": "20d1946b-269b-40d0-a22e-91e529831a5a",
   "metadata": {
    "execution": {
     "iopub.status.busy": "2023-02-25T13:48:34.796623Z",
     "iopub.status.idle": "2023-02-25T13:48:34.800626Z",
     "shell.execute_reply": "2023-02-25T13:48:34.800369Z",
     "shell.execute_reply.started": "2023-02-25T13:48:34.800340Z"
    }
   },
   "outputs": [],
   "source": [
    "#pak.analyse_freqs(wiktionary_merkmal[mask], ['num','data',])"
   ]
  },
  {
   "cell_type": "markdown",
   "id": "21e0f6fd-efc9-4313-88c1-f52267a97605",
   "metadata": {},
   "source": [
    "#### meta"
   ]
  },
  {
   "cell_type": "code",
   "execution_count": null,
   "id": "ddea93ae-1e6b-44df-ba35-bd2f5b990246",
   "metadata": {
    "execution": {
     "iopub.status.busy": "2023-02-25T13:48:34.801568Z",
     "iopub.status.idle": "2023-02-25T13:48:34.802010Z",
     "shell.execute_reply": "2023-02-25T13:48:34.801861Z",
     "shell.execute_reply.started": "2023-02-25T13:48:34.801844Z"
    }
   },
   "outputs": [],
   "source": [
    "# remove_words\n",
    "d = [ '(', ')', 'auch','nicht','bis','Adjektive','Adjektiv','Kombination','Substantive','Substantiv','allgemein','Adverbien','Verb','Adverbien','Adverb','andere','über']       \n",
    "wiktionary_merkmal['meta'] = pak.remove_words( wiktionary_merkmal.meta, d )"
   ]
  },
  {
   "cell_type": "code",
   "execution_count": null,
   "id": "dec6d1fd-02b8-469d-bad4-7e8c90a8a383",
   "metadata": {
    "execution": {
     "iopub.status.busy": "2023-02-25T13:48:34.803158Z",
     "iopub.status.idle": "2023-02-25T13:48:34.806098Z",
     "shell.execute_reply": "2023-02-25T13:48:34.805909Z",
     "shell.execute_reply.started": "2023-02-25T13:48:34.805883Z"
    }
   },
   "outputs": [],
   "source": [
    "# replace_str\n",
    "r = {       \n",
    "    'seltener':'selten',\n",
    "    'Schweiz':'schweizerisch',    \n",
    "    'Österreich':'österreichisch', \n",
    "    'Süddeutschland':'süddeutsch',    \n",
    "    'bairisch':'bayrisch',        \n",
    "    'bairisch':'bayrisch',       \n",
    "     \n",
    "    }\n",
    "wiktionary_merkmal['meta'] = pak.replace_str( wiktionary_merkmal.meta, r )"
   ]
  },
  {
   "cell_type": "code",
   "execution_count": null,
   "id": "3b1df3c7-290a-4cfe-a21a-01b4bd1e2021",
   "metadata": {
    "execution": {
     "iopub.status.busy": "2023-02-25T13:48:34.806917Z",
     "iopub.status.idle": "2023-02-25T13:48:34.811519Z",
     "shell.execute_reply": "2023-02-25T13:48:34.811326Z",
     "shell.execute_reply.started": "2023-02-25T13:48:34.811301Z"
    }
   },
   "outputs": [],
   "source": [
    "# meta Überblick Lexeme\n",
    "mask = wiktionary_merkmal.is_lex == True\n",
    "a = pak.analyse_freqs(wiktionary_merkmal[mask], ['meta','merkmal','lemma_id'], splits=[' ', None])\n",
    "grid(a)"
   ]
  },
  {
   "cell_type": "code",
   "execution_count": null,
   "id": "369a7e1a-10f9-47d1-8f88-b9c1d54cb404",
   "metadata": {
    "execution": {
     "iopub.status.busy": "2023-02-25T13:48:34.812405Z",
     "iopub.status.idle": "2023-02-25T13:48:34.812818Z",
     "shell.execute_reply": "2023-02-25T13:48:34.812677Z",
     "shell.execute_reply.started": "2023-02-25T13:48:34.812662Z"
    }
   },
   "outputs": [],
   "source": [
    "# Seltene meta löschen\n",
    "mask = a.meta_count < 20\n",
    "löschmich = list(a[mask].meta)\n",
    "#löschmich\n",
    "\n",
    "# meta belöschen\n",
    "mask = wiktionary_merkmal.is_lex == True\n",
    "wiktionary_merkmal.loc[mask,'meta'] = pak.remove_words( wiktionary_merkmal[mask].meta, löschmich )"
   ]
  },
  {
   "cell_type": "code",
   "execution_count": null,
   "id": "ad0d5fab-a6d9-41a0-885f-39a0224a2ed8",
   "metadata": {
    "execution": {
     "iopub.status.busy": "2023-02-25T13:48:34.813893Z",
     "iopub.status.idle": "2023-02-25T13:48:34.814278Z",
     "shell.execute_reply": "2023-02-25T13:48:34.814142Z",
     "shell.execute_reply.started": "2023-02-25T13:48:34.814126Z"
    }
   },
   "outputs": [],
   "source": [
    "# meta Überblick Nichtlexeme\n",
    "mask = wiktionary_merkmal.is_lex == False\n",
    "a = pak.analyse_freqs(wiktionary_merkmal[mask], ['meta','merkmal','lemma_id'], splits=[' ', None])\n",
    "grid(a)"
   ]
  },
  {
   "cell_type": "code",
   "execution_count": null,
   "id": "35fbe620-51e5-473c-b139-f276bc341afc",
   "metadata": {
    "execution": {
     "iopub.status.busy": "2023-02-25T13:48:34.819364Z",
     "iopub.status.idle": "2023-02-25T13:48:34.819734Z",
     "shell.execute_reply": "2023-02-25T13:48:34.819581Z",
     "shell.execute_reply.started": "2023-02-25T13:48:34.819566Z"
    }
   },
   "outputs": [],
   "source": [
    "# Seltene meta löschen\n",
    "mask = a.meta_count < 2\n",
    "löschmich = list(a[mask].meta)\n",
    "#löschmich\n",
    "\n",
    "# meta belöschen\n",
    "mask = wiktionary_merkmal.is_lex == False\n",
    "wiktionary_merkmal.loc[mask,'meta'] = pak.remove_words( wiktionary_merkmal[mask].meta, löschmich )"
   ]
  },
  {
   "cell_type": "markdown",
   "id": "0f58e363-168c-4a02-89e0-952150b5985e",
   "metadata": {},
   "source": [
    "#### tag-Felder"
   ]
  },
  {
   "cell_type": "code",
   "execution_count": null,
   "id": "4a0e5ce2-adba-499f-9136-87accc912c19",
   "metadata": {
    "execution": {
     "iopub.status.busy": "2023-02-25T13:48:34.820632Z",
     "iopub.status.idle": "2023-02-25T13:48:34.821073Z",
     "shell.execute_reply": "2023-02-25T13:48:34.820933Z",
     "shell.execute_reply.started": "2023-02-25T13:48:34.820917Z"
    }
   },
   "outputs": [],
   "source": [
    "# data_tagZ\n",
    "wiktionary_merkmal = pak.update_col( wiktionary_merkmal, translate_tagZ, left_on='data_tag',  right_on='tag', col='tagZ', col_rename='data_tagZ')\n",
    "wiktionary_merkmal = pak.update_col( wiktionary_merkmal, translate_tagZ, left_on='lemma_tag', right_on='tag', col='tagZ', col_rename='data_tagZ', cond='null')\n",
    "wiktionary_merkmal = pak.move_cols(wiktionary_merkmal,'data_tagZ','data_tag')"
   ]
  },
  {
   "cell_type": "code",
   "execution_count": null,
   "id": "c03fd55e-d4c6-4b08-9f36-bf2d2ec6a4f4",
   "metadata": {
    "execution": {
     "iopub.status.busy": "2023-02-25T13:48:34.822134Z",
     "iopub.status.idle": "2023-02-25T13:48:34.822526Z",
     "shell.execute_reply": "2023-02-25T13:48:34.822389Z",
     "shell.execute_reply.started": "2023-02-25T13:48:34.822373Z"
    }
   },
   "outputs": [],
   "source": [
    "# data_tagZZ\n",
    "wiktionary_merkmal = pak.update_col( wiktionary_merkmal, translate_tagZ, left_on='data_tag',  right_on='tag', col='tagZZ', col_rename='data_tagZZ')\n",
    "wiktionary_merkmal = pak.update_col( wiktionary_merkmal, translate_tagZ, left_on='lemma_tag', right_on='tag', col='tagZZ', col_rename='data_tagZZ', cond='null')\n",
    "wiktionary_merkmal = pak.move_cols(wiktionary_merkmal,'data_tagZZ','data_tagZ')"
   ]
  },
  {
   "cell_type": "code",
   "execution_count": null,
   "id": "ef6058c8-e9f3-4d45-b6e0-dc58ad77d4ef",
   "metadata": {
    "execution": {
     "iopub.status.busy": "2023-02-25T13:48:34.823277Z",
     "iopub.status.idle": "2023-02-25T13:48:34.823645Z",
     "shell.execute_reply": "2023-02-25T13:48:34.823514Z",
     "shell.execute_reply.started": "2023-02-25T13:48:34.823500Z"
    }
   },
   "outputs": [],
   "source": [
    "# Wieder löschen wenn kein Lexem\n",
    "mask = wiktionary_merkmal.is_lex != True\n",
    "wiktionary_merkmal.loc[mask,'data_tagZ']  = ''\n",
    "wiktionary_merkmal.loc[mask,'data_tagZZ'] = ''"
   ]
  },
  {
   "cell_type": "code",
   "execution_count": null,
   "id": "7a560f03-84dd-453c-a7c0-5c7b91f6a198",
   "metadata": {
    "execution": {
     "iopub.status.busy": "2023-02-25T13:48:34.824762Z",
     "iopub.status.idle": "2023-02-25T13:48:34.827507Z",
     "shell.execute_reply": "2023-02-25T13:48:34.827317Z",
     "shell.execute_reply.started": "2023-02-25T13:48:34.827291Z"
    }
   },
   "outputs": [],
   "source": [
    "# data_tagZ und data_tagZZ überall gesetzt\n",
    "mask1  = wiktionary_merkmal.is_lex == True\n",
    "mask2A = wiktionary_merkmal.data_tagZ  == ''\n",
    "mask2B = wiktionary_merkmal.data_tagZZ == ''\n",
    "mask = mask1  &  (mask2A | mask2B)\n",
    "check_mask(wiktionary_merkmal,mask, 0)"
   ]
  },
  {
   "cell_type": "code",
   "execution_count": null,
   "id": "33f9a605-d52c-4952-a138-df38c0cc4f67",
   "metadata": {
    "execution": {
     "iopub.status.busy": "2023-02-25T13:48:34.828303Z",
     "iopub.status.idle": "2023-02-25T13:48:34.828728Z",
     "shell.execute_reply": "2023-02-25T13:48:34.828582Z",
     "shell.execute_reply.started": "2023-02-25T13:48:34.828566Z"
    }
   },
   "outputs": [],
   "source": [
    "# alle verwendeten tags\n",
    "mask = wiktionary_merkmal.is_lex == True\n",
    "a = pak.analyse_freqs( wiktionary_merkmal[mask], ['data_tag','merkmal'], splits=[' ', None] )\n",
    "grid(a)"
   ]
  },
  {
   "cell_type": "code",
   "execution_count": null,
   "id": "2ad982de-1de0-4566-a079-2026174db1da",
   "metadata": {
    "execution": {
     "iopub.status.busy": "2023-02-25T13:48:34.835844Z",
     "iopub.status.idle": "2023-02-25T13:48:34.836335Z",
     "shell.execute_reply": "2023-02-25T13:48:34.836191Z",
     "shell.execute_reply.started": "2023-02-25T13:48:34.836174Z"
    }
   },
   "outputs": [],
   "source": [
    "# Gibt es unregistrierte tags?\n",
    "alle_realen_tags = set(alle_tags) - {'AFIX','ZFIX','TODO','LEX_A','LEX_N', 'APPRART','MFIX','NNE','XY','_SP',}\n",
    "seltsame_tags = set(a.data_tag) - alle_realen_tags\n",
    "assert len(seltsame_tags) == 0\n",
    "\n",
    "#mask = wiktionary_merkmal.tag.isin(seltsame_tags)\n",
    "#wiktionary_merkmal[mask]"
   ]
  },
  {
   "cell_type": "code",
   "execution_count": null,
   "id": "d45743a5-bd87-4cdc-ab98-c10e97435f3e",
   "metadata": {
    "execution": {
     "iopub.status.busy": "2023-02-25T13:48:34.837005Z",
     "iopub.status.idle": "2023-02-25T13:48:34.837324Z",
     "shell.execute_reply": "2023-02-25T13:48:34.837203Z",
     "shell.execute_reply.started": "2023-02-25T13:48:34.837189Z"
    }
   },
   "outputs": [],
   "source": [
    "# studieren\n",
    "mask1 = wiktionary_merkmal.is_lex == True\n",
    "mask2 =  wiktionary_merkmal.data_tag == 'TRUNC'\n",
    "mask  =  mask1  &  mask2\n",
    "\n",
    "grid(wiktionary_merkmal,mask, color='green')"
   ]
  },
  {
   "cell_type": "code",
   "execution_count": null,
   "id": "c7446dd9-1478-4f65-bdab-22a3dc44ec8f",
   "metadata": {
    "execution": {
     "iopub.status.busy": "2023-02-25T13:48:34.838444Z",
     "iopub.status.idle": "2023-02-25T13:48:34.838835Z",
     "shell.execute_reply": "2023-02-25T13:48:34.838698Z",
     "shell.execute_reply.started": "2023-02-25T13:48:34.838682Z"
    }
   },
   "outputs": [],
   "source": [
    "# Alle merkmale und ihre tags\n",
    "mask = wiktionary_merkmal.is_lex == True\n",
    "a = pak.analyse_freqs( wiktionary_merkmal[mask], ['merkmal','data_tag'] )\n",
    "grid(a)"
   ]
  },
  {
   "cell_type": "code",
   "execution_count": null,
   "id": "cd011bbb-c7d1-402c-b83b-822ea7298257",
   "metadata": {
    "execution": {
     "iopub.status.busy": "2023-02-25T13:48:34.839824Z",
     "iopub.status.idle": "2023-02-25T13:48:34.840169Z",
     "shell.execute_reply": "2023-02-25T13:48:34.840038Z",
     "shell.execute_reply.started": "2023-02-25T13:48:34.840023Z"
    }
   },
   "outputs": [],
   "source": [
    "# studieren\n",
    "mask1 = wiktionary_merkmal.is_lex == True\n",
    "mask2 =  wiktionary_merkmal.data_tag == 'ADV'\n",
    "mask3 =  wiktionary_merkmal.merkmal == 'Superlativ'\n",
    "mask  =  mask1  &  mask2  &  mask3\n",
    "\n",
    "grid(wiktionary_merkmal,mask, color='green')"
   ]
  },
  {
   "cell_type": "code",
   "execution_count": null,
   "id": "56e30a98-281c-4a26-a46f-b7edf070d136",
   "metadata": {
    "execution": {
     "iopub.status.busy": "2023-02-25T13:48:34.844565Z",
     "iopub.status.idle": "2023-02-25T13:48:34.845013Z",
     "shell.execute_reply": "2023-02-25T13:48:34.844861Z",
     "shell.execute_reply.started": "2023-02-25T13:48:34.844845Z"
    }
   },
   "outputs": [],
   "source": [
    "# lemma_tagZZ schreiben\n",
    "wiktionary_merkmal = pak.update_col( wiktionary_merkmal, translate_tagZ, left_on='lemma_tag', right_on='tag', col='tagZZ', col_rename='lemma_tagZZ', verbose=False )\n",
    "wiktionary_merkmal = pak.move_cols(wiktionary_merkmal,'lemma_tagZZ','lemma_tag')\n",
    "wiktionary_merkmal['lemma_tagZZ'] = wiktionary_merkmal.lemma_tagZZ.fillna('')"
   ]
  },
  {
   "cell_type": "code",
   "execution_count": null,
   "id": "a9f1667a-ab4b-44d6-9267-fefc0a1fe94a",
   "metadata": {
    "execution": {
     "iopub.status.busy": "2023-02-25T13:48:34.846230Z",
     "iopub.status.idle": "2023-02-25T13:48:34.846598Z",
     "shell.execute_reply": "2023-02-25T13:48:34.846469Z",
     "shell.execute_reply.started": "2023-02-25T13:48:34.846453Z"
    }
   },
   "outputs": [],
   "source": [
    "# check\n",
    "mask1 = wiktionary_merkmal.lemma_tag != ''\n",
    "mask2 = wiktionary_merkmal.lemma_tagZZ == ''\n",
    "mask = mask1  &  mask2\n",
    "check_mask(wiktionary_merkmal,mask,0)"
   ]
  },
  {
   "cell_type": "code",
   "execution_count": null,
   "id": "6c184100-43d6-47ca-ae57-abc923db80f9",
   "metadata": {
    "execution": {
     "iopub.status.busy": "2023-02-25T13:48:34.847685Z",
     "iopub.status.idle": "2023-02-25T13:48:34.855398Z",
     "shell.execute_reply": "2023-02-25T13:48:34.855173Z",
     "shell.execute_reply.started": "2023-02-25T13:48:34.855141Z"
    }
   },
   "outputs": [],
   "source": [
    "mask = wiktionary_merkmal.is_lex == True\n",
    "wiktionary_merkmal[mask].head(1)"
   ]
  },
  {
   "cell_type": "markdown",
   "id": "f1dea709-f333-457b-986b-b9c238eac46b",
   "metadata": {},
   "source": [
    "#### hunspell"
   ]
  },
  {
   "cell_type": "code",
   "execution_count": null,
   "id": "5dd7d2f2-02bd-4565-87f3-c25bce1c558d",
   "metadata": {
    "execution": {
     "iopub.status.busy": "2023-02-25T13:48:34.856275Z",
     "iopub.status.idle": "2023-02-25T13:48:34.856680Z",
     "shell.execute_reply": "2023-02-25T13:48:34.856501Z",
     "shell.execute_reply.started": "2023-02-25T13:48:34.856484Z"
    }
   },
   "outputs": [],
   "source": [
    "# Hunspell instance\n",
    "from hunspell import Hunspell\n",
    "hun = Hunspell('de_DE', hunspell_data_dir='/usr/share/hunspell') "
   ]
  },
  {
   "cell_type": "code",
   "execution_count": null,
   "id": "40834c87-238f-4f64-9d80-f20f0731d995",
   "metadata": {
    "execution": {
     "iopub.status.busy": "2023-02-25T13:48:34.857600Z",
     "iopub.status.idle": "2023-02-25T13:48:34.858098Z",
     "shell.execute_reply": "2023-02-25T13:48:34.857881Z",
     "shell.execute_reply.started": "2023-02-25T13:48:34.857864Z"
    }
   },
   "outputs": [],
   "source": [
    "# verify_hunspell\n",
    "# liefert 1=verifiziert, 0=nicht verifiziert, -1=Besonderes Unicode-Zeichen\n",
    "wiktionary_merkmal['hunspell'] = -2\n",
    "mask = wiktionary_merkmal.is_lex == True\n",
    "wiktionary_merkmal[mask] = wiktionary_merkmal[mask].apply(verify_hunspell, col_check='data', col_result='hunspell', hunspellinstance=hun, axis=1)\n",
    "#wiktionary_merkmal = pak.change_datatype(wiktionary_merkmal, verbose=False)  "
   ]
  },
  {
   "cell_type": "code",
   "execution_count": null,
   "id": "fea3d8e3-347f-4ba1-a964-33ee2a3ef554",
   "metadata": {
    "execution": {
     "iopub.status.busy": "2023-02-25T13:48:34.859139Z",
     "iopub.status.idle": "2023-02-25T13:48:34.859579Z",
     "shell.execute_reply": "2023-02-25T13:48:34.859437Z",
     "shell.execute_reply.started": "2023-02-25T13:48:34.859420Z"
    }
   },
   "outputs": [],
   "source": [
    "# prüfen: alle erfasst?\n",
    "mask1 = wiktionary_merkmal.is_lex == True\n",
    "mask2 = wiktionary_merkmal.hunspell < 0\n",
    "mask = mask1  &  mask2\n",
    "check_mask(wiktionary_merkmal,mask,0)"
   ]
  },
  {
   "cell_type": "code",
   "execution_count": null,
   "id": "a8d331f5-7f71-4290-90b6-93c8081cdad3",
   "metadata": {
    "execution": {
     "iopub.status.busy": "2023-02-25T13:48:34.860739Z",
     "iopub.status.idle": "2023-02-25T13:48:34.861165Z",
     "shell.execute_reply": "2023-02-25T13:48:34.861016Z",
     "shell.execute_reply.started": "2023-02-25T13:48:34.860998Z"
    }
   },
   "outputs": [],
   "source": [
    "# abwerten\n",
    "mask1 = wiktionary_merkmal.is_lex == True\n",
    "mask2 = wiktionary_merkmal.hunspell == 0\n",
    "mask = mask1  &  mask2\n",
    "check_mask(wiktionary_merkmal,mask)\n",
    "wiktionary_merkmal.loc[mask,'score'] *= 0.1\n",
    "grid(wiktionary_merkmal,mask)"
   ]
  },
  {
   "cell_type": "markdown",
   "id": "97a6a2ae-14d7-44d9-86b8-df446db90780",
   "metadata": {},
   "source": [
    "## translate_lex aufbauen ==========\n",
    "* translate_lex enthält derzeit alle Wiktionary-Seitentitel, die keine Lemmas sind.\n",
    "* Diverse Listen werden hier zusätzlich angefügt.\n",
    "* Nach jeder Anfügung werden Dups entfernt."
   ]
  },
  {
   "cell_type": "code",
   "execution_count": null,
   "id": "5b4c829c-ba73-4c01-bcc1-b517af84c173",
   "metadata": {
    "execution": {
     "iopub.status.busy": "2023-02-25T13:48:34.862260Z",
     "iopub.status.idle": "2023-02-25T13:48:34.867650Z",
     "shell.execute_reply": "2023-02-25T13:48:34.867423Z",
     "shell.execute_reply.started": "2023-02-25T13:48:34.867392Z"
    }
   },
   "outputs": [],
   "source": [
    "# set_translate_lex_score \n",
    "#from x32_Funktionen import *\n",
    "translate_lex['score'] = 0\n",
    "translate_lex = set_translate_lex_score(translate_lex, lexeme_manuell)"
   ]
  },
  {
   "cell_type": "code",
   "execution_count": null,
   "id": "2dc4916a-17b8-4a09-a865-adf4a397e956",
   "metadata": {
    "execution": {
     "iopub.status.busy": "2023-02-25T13:48:34.868582Z",
     "iopub.status.idle": "2023-02-25T13:48:34.869064Z",
     "shell.execute_reply": "2023-02-25T13:48:34.868899Z",
     "shell.execute_reply.started": "2023-02-25T13:48:34.868880Z"
    }
   },
   "outputs": [],
   "source": [
    "#from x32_Funktionen import *\n",
    "translate_lex = pflege_translate_tabelle(translate_lex, translate_tagZ, wiktionary_lemma, translate_lex )\n",
    "#pak.sample(translate_lex)"
   ]
  },
  {
   "cell_type": "code",
   "execution_count": null,
   "id": "6b72b82a-b6e6-4ef1-a014-20e8f398307b",
   "metadata": {
    "execution": {
     "iopub.status.busy": "2023-02-25T13:48:34.870257Z",
     "iopub.status.idle": "2023-02-25T13:48:34.870881Z",
     "shell.execute_reply": "2023-02-25T13:48:34.870715Z",
     "shell.execute_reply.started": "2023-02-25T13:48:34.870695Z"
    }
   },
   "outputs": [],
   "source": [
    "# translate_lex suche_debug\n",
    "grid(search_str(translate_lex, suche_debug))"
   ]
  },
  {
   "cell_type": "code",
   "execution_count": null,
   "id": "c5ea67f1-b9de-4376-a449-5600b188e772",
   "metadata": {
    "execution": {
     "iopub.status.busy": "2023-02-25T13:48:34.871821Z",
     "iopub.status.idle": "2023-02-25T13:48:34.873996Z",
     "shell.execute_reply": "2023-02-25T13:48:34.873804Z",
     "shell.execute_reply.started": "2023-02-25T13:48:34.873776Z"
    }
   },
   "outputs": [],
   "source": [
    "# data_id vorhanden und eindeutig?\n",
    "mask = translate_lex.data_id == ''\n",
    "check_mask(translate_lex,mask,0)\n",
    "\n",
    "assert translate_lex.data_id.is_unique\n",
    "\n",
    "#a = pak.same_but_different(translate_lex,same='data_id',different='data')\n",
    "#assert a.shape[0] == 0\n",
    "#grid(a)"
   ]
  },
  {
   "cell_type": "markdown",
   "id": "e783db4a",
   "metadata": {},
   "source": [
    "### translate_gm\n",
    "* gm-Merkmale sind die Merkmale auf den Wiktionary-Seiten, die keine Lemmas sind. Also diejenigen, die unter wiktionary_nolemma bzw. translate_lex gespeichert sind.\n",
    "* Daher weisen ihre lemma_id nicht auf ein Lemma, sondern auf ein Lexem. lemma_id und data_id müssen also hier vertauscht werden."
   ]
  },
  {
   "cell_type": "code",
   "execution_count": null,
   "id": "9f33088d-c744-4d7b-a15d-d564dd74c09d",
   "metadata": {
    "execution": {
     "iopub.status.busy": "2023-02-25T13:48:34.874870Z",
     "iopub.status.idle": "2023-02-25T13:48:34.878480Z",
     "shell.execute_reply": "2023-02-25T13:48:34.878257Z",
     "shell.execute_reply.started": "2023-02-25T13:48:34.878226Z"
    }
   },
   "outputs": [],
   "source": [
    "# translate_lex \n",
    "# Dies sind die Seiten, deren Merkmale translate_gm enthält.\n",
    "# data_id ist die ID der Nicht-Lemma-Wiktionary-Seite.\n",
    "(search_str(translate_lex, ['besonne']))"
   ]
  },
  {
   "cell_type": "code",
   "execution_count": null,
   "id": "7e2bf884-26e5-4f3d-84c6-1fb26205820e",
   "metadata": {
    "execution": {
     "iopub.status.busy": "2023-02-25T13:48:34.879372Z",
     "iopub.status.idle": "2023-02-25T13:48:34.884144Z",
     "shell.execute_reply": "2023-02-25T13:48:34.883849Z",
     "shell.execute_reply.started": "2023-02-25T13:48:34.883817Z"
    }
   },
   "outputs": [],
   "source": [
    "# lemma und data vertauschen\n",
    "translate_gm = pak.rename_col(translate_gm, 'lemma_id',    'data_id_neu')\n",
    "translate_gm = pak.rename_col(translate_gm, 'data_id',     'lemma_id')\n",
    "translate_gm = pak.rename_col(translate_gm, 'data_id_neu', 'data_id')\n",
    "translate_gm = pak.rename_col(translate_gm, 'data',        'lemma')"
   ]
  },
  {
   "cell_type": "code",
   "execution_count": null,
   "id": "2d7cbf15-3177-4790-bed7-5995498b5375",
   "metadata": {
    "execution": {
     "iopub.status.busy": "2023-02-25T13:48:34.885086Z",
     "iopub.status.idle": "2023-02-25T13:48:34.885515Z",
     "shell.execute_reply": "2023-02-25T13:48:34.885341Z",
     "shell.execute_reply.started": "2023-02-25T13:48:34.885322Z"
    }
   },
   "outputs": [],
   "source": [
    "# lemma_id nachschlagen (und dabei korrigieren!)\n",
    "translate_gm = pak.update_col(translate_gm, translate_lex, on='data_id', col='lemma_id' ) "
   ]
  },
  {
   "cell_type": "code",
   "execution_count": null,
   "id": "0b33c5f5-0b2c-4efa-93c0-3a1d7ebaaec1",
   "metadata": {
    "execution": {
     "iopub.status.busy": "2023-02-25T13:48:34.886745Z",
     "iopub.status.idle": "2023-02-25T13:48:34.887158Z",
     "shell.execute_reply": "2023-02-25T13:48:34.887003Z",
     "shell.execute_reply.started": "2023-02-25T13:48:34.886988Z"
    }
   },
   "outputs": [],
   "source": [
    "# translate_gm umformen\n",
    "translate_gm = pak.rename_col(translate_gm, 'merkmal', 'member')\n",
    "translate_gm['member'] = (translate_gm.member + ' ' + translate_gm.meta).str.strip()\n",
    "\n",
    "translate_gm = pak.drop_cols(translate_gm, ['is_lex','data_tag','num','meta',])"
   ]
  },
  {
   "cell_type": "code",
   "execution_count": null,
   "id": "1f7a318d-f22c-457c-a7f4-b6c2eda7364e",
   "metadata": {
    "execution": {
     "iopub.status.busy": "2023-02-25T13:48:34.892065Z",
     "iopub.status.idle": "2023-02-25T13:48:34.892931Z",
     "shell.execute_reply": "2023-02-25T13:48:34.892763Z",
     "shell.execute_reply.started": "2023-02-25T13:48:34.892741Z"
    }
   },
   "outputs": [],
   "source": [
    "# translate_gm\n",
    "# data_id ist die ID der Nicht-Lemma-Wiktionary-Seite.\n",
    "mask = translate_gm.lemma == 'besonnen'\n",
    "a = translate_gm[mask].sort_values(['lemma_id','lemma'])\n",
    "grid(a)"
   ]
  },
  {
   "cell_type": "code",
   "execution_count": null,
   "id": "88107840-a1c0-4b89-83eb-8eec74a508be",
   "metadata": {
    "execution": {
     "iopub.status.busy": "2023-02-25T13:48:34.893878Z",
     "iopub.status.idle": "2023-02-25T13:48:34.894697Z",
     "shell.execute_reply": "2023-02-25T13:48:34.894506Z",
     "shell.execute_reply.started": "2023-02-25T13:48:34.894485Z"
    }
   },
   "outputs": [],
   "source": [
    "from x32_Funktionen import *\n",
    "translate_gm = pflege_translate_tabelle(translate_gm, translate_tagZ, wiktionary_lemma, translate_lex )\n",
    "#pak.sample(translate_gm)"
   ]
  },
  {
   "cell_type": "code",
   "execution_count": null,
   "id": "abadc856-4fa8-45ea-87aa-0201a550210b",
   "metadata": {
    "execution": {
     "iopub.status.busy": "2023-02-25T13:48:34.900031Z",
     "iopub.status.idle": "2023-02-25T13:48:34.900486Z",
     "shell.execute_reply": "2023-02-25T13:48:34.900336Z",
     "shell.execute_reply.started": "2023-02-25T13:48:34.900319Z"
    }
   },
   "outputs": [],
   "source": [
    "# translate_gm\n",
    "# data_id ist die ID der Nicht-Lemma-Wiktionary-Seite.\n",
    "mask = translate_gm.lemma == 'besonnen'\n",
    "a = translate_gm[mask].sort_values(['lemma_id','lemma'])\n",
    "grid(a)"
   ]
  },
  {
   "cell_type": "code",
   "execution_count": null,
   "id": "761e73f5-5287-4254-b487-13e464ef0778",
   "metadata": {
    "execution": {
     "iopub.status.busy": "2023-02-25T13:48:34.901352Z",
     "iopub.status.idle": "2023-02-25T13:48:34.901779Z",
     "shell.execute_reply": "2023-02-25T13:48:34.901629Z",
     "shell.execute_reply.started": "2023-02-25T13:48:34.901613Z"
    }
   },
   "outputs": [],
   "source": [
    "assert translate_gm.lemma_home.nunique() == 2 # stand mal auf 1\n",
    "assert translate_gm.data_home.nunique() == 2"
   ]
  },
  {
   "cell_type": "code",
   "execution_count": null,
   "id": "7325c83d-c5b7-42e4-87fe-e93b16dd1c26",
   "metadata": {
    "execution": {
     "iopub.status.busy": "2023-02-25T13:48:34.903153Z",
     "iopub.status.idle": "2023-02-25T13:48:34.905517Z",
     "shell.execute_reply": "2023-02-25T13:48:34.905298Z",
     "shell.execute_reply.started": "2023-02-25T13:48:34.905270Z"
    }
   },
   "outputs": [],
   "source": [
    "pak.analyse_freqs(translate_gm, ['data_home','lemma_home'])"
   ]
  },
  {
   "cell_type": "code",
   "execution_count": null,
   "id": "89919602-1c6c-42fc-b9d2-7b992f670d17",
   "metadata": {
    "execution": {
     "iopub.status.busy": "2023-02-25T13:48:34.906722Z",
     "iopub.status.idle": "2023-02-25T13:48:34.914683Z",
     "shell.execute_reply": "2023-02-25T13:48:34.914289Z",
     "shell.execute_reply.started": "2023-02-25T13:48:34.914237Z"
    }
   },
   "outputs": [],
   "source": [
    "# translate_lex_trash pflegen\n",
    "translate_lex_trash = pak.drop_cols(translate_lex_trash,['tag','tag_0','tag_1','tagZ','tagZZ'])\n",
    "translate_lex_trash = pak.move_cols( translate_lex_trash, translate_lex.columns)\n",
    "#translate_lex_trash"
   ]
  },
  {
   "cell_type": "code",
   "execution_count": null,
   "id": "1aa8dfa0-eeda-4f44-b0f7-fb111459658d",
   "metadata": {
    "execution": {
     "iopub.status.busy": "2023-02-25T13:48:34.915918Z",
     "iopub.status.idle": "2023-02-25T13:48:34.916722Z",
     "shell.execute_reply": "2023-02-25T13:48:34.916443Z",
     "shell.execute_reply.started": "2023-02-25T13:48:34.916413Z"
    }
   },
   "outputs": [],
   "source": [
    "pak.nnan(translate_gm)"
   ]
  },
  {
   "cell_type": "code",
   "execution_count": null,
   "id": "62ee9767-f314-4b62-94b8-d25e571265f0",
   "metadata": {
    "execution": {
     "iopub.status.busy": "2023-02-25T13:48:34.918324Z",
     "iopub.status.idle": "2023-02-25T13:48:34.919415Z",
     "shell.execute_reply": "2023-02-25T13:48:34.919261Z",
     "shell.execute_reply.started": "2023-02-25T13:48:34.919241Z"
    }
   },
   "outputs": [],
   "source": [
    "mask = translate_gm.lemma_tag.isnull()\n",
    "check_mask(translate_gm,mask,0,100)\n",
    "\n",
    "msg = 'verwaist_gm'\n",
    "translate_gm, translate_lex_trash = pak.move_rows(translate_gm, translate_lex_trash, mask, msg)\n",
    "grid(translate_lex_trash,msg)"
   ]
  },
  {
   "cell_type": "code",
   "execution_count": null,
   "id": "39ae1172-09c1-4aa1-aa56-a59635ed0896",
   "metadata": {
    "execution": {
     "iopub.status.busy": "2023-02-25T13:48:34.920024Z",
     "iopub.status.idle": "2023-02-25T13:48:34.920398Z",
     "shell.execute_reply": "2023-02-25T13:48:34.920261Z",
     "shell.execute_reply.started": "2023-02-25T13:48:34.920245Z"
    }
   },
   "outputs": [],
   "source": [
    "# Seltene Kombination (git's nicht mehr)\n",
    "mask1 = translate_gm.lemma_home == 'T'\n",
    "mask2 = translate_gm.data_home == 'T'\n",
    "mask = mask1  &  mask2\n",
    "check_mask(translate_gm,mask,0,51)\n",
    "\n",
    "#grid(translate_gm,mask)\n",
    "msg = 'Kombi TT'\n",
    "translate_gm, translate_lex_trash = pak.move_rows(translate_gm, translate_lex_trash, mask, msg)\n",
    "grid(translate_lex_trash,msg)"
   ]
  },
  {
   "cell_type": "code",
   "execution_count": null,
   "id": "e1625000-5a8f-464c-a03b-f38647374fc0",
   "metadata": {
    "execution": {
     "iopub.status.busy": "2023-02-25T13:48:34.923668Z",
     "iopub.status.idle": "2023-02-25T13:48:34.924262Z",
     "shell.execute_reply": "2023-02-25T13:48:34.924119Z",
     "shell.execute_reply.started": "2023-02-25T13:48:34.924101Z"
    }
   },
   "outputs": [],
   "source": [
    "# Bedeutungsloses löschen\n",
    "mask1 = translate_gm.data == translate_gm.lemma\n",
    "mask2A = translate_gm.data_tagZZ == translate_gm.lemma_tagZZ\n",
    "mask2B = translate_gm.data_tagZZ == ''\n",
    "mask = mask1  &  (mask2A | mask2B)\n",
    "check_mask(translate_gm,mask,0,260)\n",
    "\n",
    "translate_gm, df = pak.move_rows(translate_gm,mask)\n",
    "grid(df)"
   ]
  },
  {
   "cell_type": "code",
   "execution_count": null,
   "id": "ead00335-7c87-47c5-b6d4-c79310bda76e",
   "metadata": {
    "execution": {
     "iopub.status.busy": "2023-02-25T13:48:34.925303Z",
     "iopub.status.idle": "2023-02-25T13:48:34.925596Z",
     "shell.execute_reply": "2023-02-25T13:48:34.925470Z",
     "shell.execute_reply.started": "2023-02-25T13:48:34.925456Z"
    }
   },
   "outputs": [],
   "source": [
    "# Schrott rauslöschen\n",
    "löschmich = ['Nominativ','Genitiv','Dativ','Akkusativ','Maskulinum','Femininum','Neutrum','Singular','Plural',\n",
    "            'Hauptsatzkonjugation','Nebensatzkonjugation','Artikel','unbestimmt','Fugenelement','Allomorph',\n",
    "             'Deklinationsendung','Komposita','Astronomischer Kalender','Konjugationsendung','Wortbildung',\n",
    "             'am Lateinischen angelehnte Deklination','Hilfsverb','backen (regelmäßig)','Hauptsatz','Endung',\n",
    "             'lateinisch','unbestimmter','Maskulinums','vernetzt','Derivatem','Ableitungsmorphem','griechisch',\n",
    "             'Hapaxlegomenon','Interfix','Vollverb','unbestimmt','Artikel',\n",
    "            ]\n",
    "mask1A = translate_gm.lemma.isin(löschmich)\n",
    "mask1B = translate_gm.data.isin(löschmich)\n",
    "mask1C = translate_gm.lemma_id.isin(löschmich)\n",
    "mask1D = translate_gm.data_id.isin(löschmich)\n",
    "mask2 = translate_gm.lemma_id.str[0] != translate_gm.data_id.str[0]\n",
    "mask = (mask1A | mask1B | mask1C | mask1D)  &  mask2\n",
    "check_mask(translate_gm,mask,10)\n",
    "\n",
    "msg = 'Schrott1'\n",
    "translate_gm, translate_lex_trash = pak.move_rows(translate_gm, translate_lex_trash, mask, msg)\n",
    "grid(translate_lex_trash,msg)"
   ]
  },
  {
   "cell_type": "code",
   "execution_count": null,
   "id": "0e491635-d09d-4f6d-923e-2a3cf2be1b11",
   "metadata": {
    "execution": {
     "iopub.status.busy": "2023-02-25T13:48:34.927546Z",
     "iopub.status.idle": "2023-02-25T13:48:34.927885Z",
     "shell.execute_reply": "2023-02-25T13:48:34.927750Z",
     "shell.execute_reply.started": "2023-02-25T13:48:34.927736Z"
    }
   },
   "outputs": [],
   "source": [
    "# Weiteren Schrott finden\n",
    "mask1 = translate_gm.lemma_id.str[0] != translate_gm.data_id.str[0]\n",
    "mask2 = translate_gm.lemma_tagZZ != 'V'    # keine Verben\n",
    "mask3 = ~translate_gm.lemma.str.endswith(('en','ern','eln','sein','tun')) # und sieht auch nicht aus wie ein Verb\n",
    "mask = mask1  &  mask2  &  mask3\n",
    "a = pak.analyse_freqs(translate_gm[mask],['lemma','data',])\n",
    "grid(a)"
   ]
  },
  {
   "cell_type": "code",
   "execution_count": null,
   "id": "19d113f6-8d9c-4a1f-924d-dad33f5c9ec6",
   "metadata": {
    "execution": {
     "iopub.status.busy": "2023-02-25T13:48:34.931152Z",
     "iopub.status.idle": "2023-02-25T13:48:34.931498Z",
     "shell.execute_reply": "2023-02-25T13:48:34.931360Z",
     "shell.execute_reply.started": "2023-02-25T13:48:34.931345Z"
    }
   },
   "outputs": [],
   "source": [
    "# suche_debug translate_gm\n",
    "search_str(translate_gm, suche_debug)"
   ]
  },
  {
   "cell_type": "code",
   "execution_count": null,
   "id": "4a5bcdae-fa99-48db-af20-08ceba4b3b46",
   "metadata": {
    "execution": {
     "iopub.status.busy": "2023-02-25T13:48:34.932649Z",
     "iopub.status.idle": "2023-02-25T13:48:34.932957Z",
     "shell.execute_reply": "2023-02-25T13:48:34.932831Z",
     "shell.execute_reply.started": "2023-02-25T13:48:34.932816Z"
    }
   },
   "outputs": [],
   "source": [
    "# not any_nan\n",
    "assert not pak.any_nan(translate_gm)"
   ]
  },
  {
   "cell_type": "code",
   "execution_count": null,
   "id": "1993cba2-9ce3-4684-a9de-81ff92354127",
   "metadata": {
    "execution": {
     "iopub.status.busy": "2023-02-25T13:48:34.935076Z",
     "iopub.status.idle": "2023-02-25T13:48:34.935414Z",
     "shell.execute_reply": "2023-02-25T13:48:34.935281Z",
     "shell.execute_reply.started": "2023-02-25T13:48:34.935266Z"
    }
   },
   "outputs": [],
   "source": [
    "# Spalten anpassen\n",
    "translate_gm = pak.drop_cols(translate_gm,['merkmal_order'])\n",
    "translate_gm['score'] = 0"
   ]
  },
  {
   "cell_type": "code",
   "execution_count": null,
   "id": "d46f5f0f-faee-447e-8def-4c897d9a3c02",
   "metadata": {
    "execution": {
     "iopub.status.busy": "2023-02-25T13:48:34.939759Z",
     "iopub.status.idle": "2023-02-25T13:48:34.940090Z",
     "shell.execute_reply": "2023-02-25T13:48:34.939963Z",
     "shell.execute_reply.started": "2023-02-25T13:48:34.939948Z"
    },
    "tags": []
   },
   "outputs": [],
   "source": [
    "# Spaltenvergleich\n",
    "bpy.minivenn( translate_gm.columns, translate_lex.columns, format='print2')"
   ]
  },
  {
   "cell_type": "code",
   "execution_count": null,
   "id": "bf199b5b-fabd-4bee-a20b-0ff4ba1cfa8d",
   "metadata": {
    "execution": {
     "iopub.status.busy": "2023-02-25T13:48:34.941031Z",
     "iopub.status.idle": "2023-02-25T13:48:34.941329Z",
     "shell.execute_reply": "2023-02-25T13:48:34.941207Z",
     "shell.execute_reply.started": "2023-02-25T13:48:34.941193Z"
    }
   },
   "outputs": [],
   "source": [
    "# add_rows\n",
    "translate_lex = pak.add_rows(translate_lex,translate_gm)"
   ]
  },
  {
   "cell_type": "code",
   "execution_count": null,
   "id": "32b92802-5a1d-4f0a-8f2e-94f0024e2bc7",
   "metadata": {
    "execution": {
     "iopub.status.busy": "2023-02-25T13:48:34.943672Z",
     "iopub.status.idle": "2023-02-25T13:48:34.943998Z",
     "shell.execute_reply": "2023-02-25T13:48:34.943870Z",
     "shell.execute_reply.started": "2023-02-25T13:48:34.943855Z"
    }
   },
   "outputs": [],
   "source": [
    "# set_translate_lex_score\n",
    "translate_lex = set_translate_lex_score(translate_lex, lexeme_manuell)"
   ]
  },
  {
   "cell_type": "code",
   "execution_count": null,
   "id": "ae2dbb0f-1d04-4e29-ab93-9c5791eb0fec",
   "metadata": {
    "execution": {
     "iopub.status.busy": "2023-02-25T13:48:34.946417Z",
     "iopub.status.idle": "2023-02-25T13:48:34.946745Z",
     "shell.execute_reply": "2023-02-25T13:48:34.946615Z",
     "shell.execute_reply.started": "2023-02-25T13:48:34.946600Z"
    }
   },
   "outputs": [],
   "source": [
    "# translate_lex suche_debug\n",
    "grid(search_str(translate_lex, suche_debug))"
   ]
  },
  {
   "cell_type": "code",
   "execution_count": null,
   "id": "50e950e4-83d9-4a6b-9693-e308f4d9fdbb",
   "metadata": {
    "execution": {
     "iopub.status.busy": "2023-02-25T13:48:34.948901Z",
     "iopub.status.idle": "2023-02-25T13:48:34.949228Z",
     "shell.execute_reply": "2023-02-25T13:48:34.949101Z",
     "shell.execute_reply.started": "2023-02-25T13:48:34.949086Z"
    }
   },
   "outputs": [],
   "source": [
    "# nan entfernen\n",
    "translate_lex['lemma_tag'] = translate_lex.lemma_tag.fillna('')"
   ]
  },
  {
   "cell_type": "code",
   "execution_count": null,
   "id": "697efd7f-2b80-4d6c-9586-90d6bae8b71c",
   "metadata": {
    "execution": {
     "iopub.status.busy": "2023-02-25T13:48:34.951601Z",
     "iopub.status.idle": "2023-02-25T13:48:34.951928Z",
     "shell.execute_reply": "2023-02-25T13:48:34.951799Z",
     "shell.execute_reply.started": "2023-02-25T13:48:34.951784Z"
    }
   },
   "outputs": [],
   "source": [
    "# Konfiguration Dups entfernen\n",
    "aggwords    =  pak.agg_words_nodup\n",
    "col_origins =  [ 'data_id', 'data', 'data_score', 'member',  'lemma_id', 'lemma', 'lemma_tag', 'lemma_tagZZ', 'lemma_lower', 'lemma_score', 'data_home', 'lemma_home',  'score', ]\n",
    "col_funcs   =  [ '',        '',     'sum',        aggwords,  '',         '',      '',          '',            '',            'sum',         '',          ''          ,  'sum',   ]   \n",
    "col_names   =  [ '',        '',     'data_score', 'member',  '',         '',      '',          '',            '',            'lemma_score', '',          ''          ,  'score', ] "
   ]
  },
  {
   "cell_type": "code",
   "execution_count": null,
   "id": "abfe7e7a-26e0-4456-9ccd-eedb232317a9",
   "metadata": {
    "execution": {
     "iopub.status.busy": "2023-02-25T13:48:34.955306Z",
     "iopub.status.idle": "2023-02-25T13:48:34.956767Z",
     "shell.execute_reply": "2023-02-25T13:48:34.956535Z",
     "shell.execute_reply.started": "2023-02-25T13:48:34.956505Z"
    }
   },
   "outputs": [],
   "source": [
    "# Gruppieren!\n",
    "translate_lex = pak.group_and_agg( translate_lex, col_origins, col_funcs, col_names, optimize=True)"
   ]
  },
  {
   "cell_type": "code",
   "execution_count": null,
   "id": "2a41979c-7eb8-4893-b028-2baa384aa903",
   "metadata": {
    "execution": {
     "iopub.status.busy": "2023-02-25T13:48:34.964309Z",
     "iopub.status.idle": "2023-02-25T13:48:34.964737Z",
     "shell.execute_reply": "2023-02-25T13:48:34.964580Z",
     "shell.execute_reply.started": "2023-02-25T13:48:34.964563Z"
    }
   },
   "outputs": [],
   "source": [
    "# data_id vorhanden und nicht widerspüchlich?\n",
    "mask = translate_lex.data_id == ''\n",
    "check_mask(translate_lex,mask,0)\n",
    "\n",
    "#assert translate_lex.data_id.is_unique\n",
    "\n",
    "a = pak.same_but_different(translate_lex,same='data_id',different='data')\n",
    "assert a.shape[0] == 0\n",
    "#grid(a)"
   ]
  },
  {
   "cell_type": "code",
   "execution_count": null,
   "id": "b2d9a7b9-1af6-447f-a6cf-efb2a64dc416",
   "metadata": {
    "execution": {
     "iopub.status.busy": "2023-02-25T13:48:34.966007Z",
     "iopub.status.idle": "2023-02-25T13:48:34.966412Z",
     "shell.execute_reply": "2023-02-25T13:48:34.966253Z",
     "shell.execute_reply.started": "2023-02-25T13:48:34.966235Z"
    }
   },
   "outputs": [],
   "source": [
    "# translate_lex suche_debug\n",
    "grid(search_str(translate_lex, suche_debug))"
   ]
  },
  {
   "cell_type": "markdown",
   "id": "5a699b74-4328-40f6-bb3a-2a2846cda232",
   "metadata": {},
   "source": [
    "### translate_m\n",
    "* Alle Lexeme aus wiktionary_merkmal"
   ]
  },
  {
   "cell_type": "code",
   "execution_count": null,
   "id": "e89631b9-67ca-4ec8-a2e5-7d558f57a465",
   "metadata": {
    "execution": {
     "iopub.status.busy": "2023-02-25T13:48:34.968053Z",
     "iopub.status.idle": "2023-02-25T13:48:34.968523Z",
     "shell.execute_reply": "2023-02-25T13:48:34.968343Z",
     "shell.execute_reply.started": "2023-02-25T13:48:34.968324Z"
    }
   },
   "outputs": [],
   "source": [
    "# Bei lemma: lemma_id und data_id müssen gleich sein\n",
    "mask1 = wiktionary_merkmal.merkmal == 'lemma'\n",
    "mask2 = wiktionary_merkmal.lemma_id != wiktionary_merkmal.data_id\n",
    "mask = mask1  &  mask2\n",
    "check_mask(wiktionary_merkmal,mask,0)"
   ]
  },
  {
   "cell_type": "code",
   "execution_count": null,
   "id": "5e258a98-528c-40cd-b56f-020730f80072",
   "metadata": {
    "execution": {
     "iopub.status.busy": "2023-02-25T13:48:34.971722Z",
     "iopub.status.idle": "2023-02-25T13:48:34.972049Z",
     "shell.execute_reply": "2023-02-25T13:48:34.971919Z",
     "shell.execute_reply.started": "2023-02-25T13:48:34.971905Z"
    }
   },
   "outputs": [],
   "source": [
    "# Alle Lexeme aus wiktionary_merkmal\n",
    "mask = wiktionary_merkmal.is_lex == True\n",
    "translate_m = wiktionary_merkmal[mask].copy()\n",
    "#translate_m"
   ]
  },
  {
   "cell_type": "code",
   "execution_count": null,
   "id": "1f5cbb77-d7fc-49f9-90ed-0670da508446",
   "metadata": {
    "execution": {
     "iopub.status.busy": "2023-02-25T13:48:34.975712Z",
     "iopub.status.idle": "2023-02-25T13:48:34.976044Z",
     "shell.execute_reply": "2023-02-25T13:48:34.975915Z",
     "shell.execute_reply.started": "2023-02-25T13:48:34.975899Z"
    }
   },
   "outputs": [],
   "source": [
    "# translate_m umformen\n",
    "translate_m = pak.rename_col(translate_m, 'merkmal', 'member')\n",
    "translate_m['member'] = ('merkmal ' + translate_m.member + ' ' + translate_m.meta).str.strip()\n",
    "\n",
    "translate_m = pak.drop_cols(translate_m, ['is_lex','num','meta'])"
   ]
  },
  {
   "cell_type": "code",
   "execution_count": null,
   "id": "c2a1e587-f24c-442e-ac19-21599dedf5fd",
   "metadata": {
    "execution": {
     "iopub.status.busy": "2023-02-25T13:48:34.978631Z",
     "iopub.status.idle": "2023-02-25T13:48:34.978981Z",
     "shell.execute_reply": "2023-02-25T13:48:34.978834Z",
     "shell.execute_reply.started": "2023-02-25T13:48:34.978819Z"
    }
   },
   "outputs": [],
   "source": [
    "# lemma_tagZZ schreiben\n",
    "translate_m = pak.update_col( translate_m, translate_tagZ, left_on='lemma_tag', right_on='tag', col='tagZZ', col_rename='lemma_tagZZ', verbose=False )\n",
    "translate_m = pak.move_cols(  translate_m,'lemma_tagZZ','lemma_tag')\n",
    "translate_m['lemma_tagZZ'] =  translate_m.lemma_tagZZ.fillna('')"
   ]
  },
  {
   "cell_type": "code",
   "execution_count": null,
   "id": "538db7db-d376-4d1d-b1b2-07ad713bd617",
   "metadata": {
    "execution": {
     "iopub.status.busy": "2023-02-25T13:48:34.980213Z",
     "iopub.status.idle": "2023-02-25T13:48:34.980529Z",
     "shell.execute_reply": "2023-02-25T13:48:34.980402Z",
     "shell.execute_reply.started": "2023-02-25T13:48:34.980388Z"
    }
   },
   "outputs": [],
   "source": [
    "# temp\n",
    "mask1 = translate_m.data  == 'ausgerutscht'\n",
    "mask2 = translate_m.lemma == 'ausrutschen'\n",
    "mask = mask1  &  mask2\n",
    "translate_m[mask1]"
   ]
  },
  {
   "cell_type": "code",
   "execution_count": null,
   "id": "be257c96-fdc1-4598-a913-235cf88a9d6d",
   "metadata": {
    "execution": {
     "iopub.status.busy": "2023-02-25T13:48:34.982321Z",
     "iopub.status.idle": "2023-02-25T13:48:34.982644Z",
     "shell.execute_reply": "2023-02-25T13:48:34.982520Z",
     "shell.execute_reply.started": "2023-02-25T13:48:34.982505Z"
    }
   },
   "outputs": [],
   "source": [
    "# data_id löschen, wenn nötig\n",
    "mask1 = translate_m.data_id != translate_m.data\n",
    "mask2 = translate_m.data_id == translate_m.lemma_id\n",
    "mask = mask1  &  mask2\n",
    "check_mask(translate_m,mask,25579)\n",
    "\n",
    "translate_m.loc[mask,'data_id'] = ''\n",
    "grid(translate_m,mask)\n",
    "#a = pak.analyse_freqs(translate_m[mask],['member','data'])\n",
    "#grid(a)"
   ]
  },
  {
   "cell_type": "code",
   "execution_count": null,
   "id": "f2eb3eea-c7a7-408c-82e4-01dc627e37f3",
   "metadata": {
    "execution": {
     "iopub.status.busy": "2023-02-25T13:48:34.985052Z",
     "iopub.status.idle": "2023-02-25T13:48:34.985386Z",
     "shell.execute_reply": "2023-02-25T13:48:34.985258Z",
     "shell.execute_reply.started": "2023-02-25T13:48:34.985243Z"
    }
   },
   "outputs": [],
   "source": [
    "# wiktionary_lemma suche_debug\n",
    "grid(search_str(translate_lex, suche_debug))"
   ]
  },
  {
   "cell_type": "code",
   "execution_count": null,
   "id": "93ba3371-4222-40bd-875b-feb36b16496b",
   "metadata": {
    "execution": {
     "iopub.status.busy": "2023-02-25T13:48:34.987917Z",
     "iopub.status.idle": "2023-02-25T13:48:34.988256Z",
     "shell.execute_reply": "2023-02-25T13:48:34.988122Z",
     "shell.execute_reply.started": "2023-02-25T13:48:34.988107Z"
    }
   },
   "outputs": [],
   "source": [
    "# data_id: Wenn leer, neu schreiben\n",
    "mask =  translate_m.data_id == ''\n",
    "check_mask(translate_m,mask,25579)\n",
    "translate_m[mask] = pak.update_col( translate_m[mask], wiktionary_lemma, cond='null', left_on=['data','lemma_tagZZ'], right_on=['lemma','tagZZ'], col='lemma_id', col_rename='data_id', col_score='score') \n",
    "translate_m[mask] = pak.update_col( translate_m[mask], translate_lex,    cond='null',      on=['data','lemma_tagZZ'],                             col='data_id',                        col_score='score') "
   ]
  },
  {
   "cell_type": "code",
   "execution_count": null,
   "id": "dbaf2866-f097-46a9-a289-60c41170fc77",
   "metadata": {
    "execution": {
     "iopub.status.busy": "2023-02-25T13:48:34.990585Z",
     "iopub.status.idle": "2023-02-25T13:48:34.990907Z",
     "shell.execute_reply": "2023-02-25T13:48:34.990782Z",
     "shell.execute_reply.started": "2023-02-25T13:48:34.990768Z"
    }
   },
   "outputs": [],
   "source": [
    "# data_id neu erzeugen\n",
    "mask =  translate_m.data_id == ''\n",
    "check_mask(translate_m,mask,0)\n",
    "\n",
    "translate_m.loc[mask,'data_id'] = translate_m[mask].lemma + '~' + translate_m[mask].data + '~N'"
   ]
  },
  {
   "cell_type": "code",
   "execution_count": null,
   "id": "efe7e7a9-6247-4ef3-bd79-9a1307148f9f",
   "metadata": {
    "execution": {
     "iopub.status.busy": "2023-02-25T13:48:34.993555Z",
     "iopub.status.idle": "2023-02-25T13:48:34.993897Z",
     "shell.execute_reply": "2023-02-25T13:48:34.993761Z",
     "shell.execute_reply.started": "2023-02-25T13:48:34.993745Z"
    }
   },
   "outputs": [],
   "source": [
    "search_str(translate_m, suche_debug)"
   ]
  },
  {
   "cell_type": "code",
   "execution_count": null,
   "id": "6c97c73e-85f3-45f5-b2e1-8ce61d7c5653",
   "metadata": {
    "execution": {
     "iopub.status.busy": "2023-02-25T13:48:34.995743Z",
     "iopub.status.idle": "2023-02-25T13:48:34.996080Z",
     "shell.execute_reply": "2023-02-25T13:48:34.995951Z",
     "shell.execute_reply.started": "2023-02-25T13:48:34.995935Z"
    }
   },
   "outputs": [],
   "source": [
    "#translate_m_bak = translate_m.copy()\n",
    "#translate_m = translate_m_bak.copy()"
   ]
  },
  {
   "cell_type": "code",
   "execution_count": null,
   "id": "baa9bff3-5d24-4552-ba0e-fe1a1c4f22aa",
   "metadata": {
    "execution": {
     "iopub.status.busy": "2023-02-25T13:48:34.996560Z",
     "iopub.status.idle": "2023-02-25T13:48:34.996819Z",
     "shell.execute_reply": "2023-02-25T13:48:34.996700Z",
     "shell.execute_reply.started": "2023-02-25T13:48:34.996687Z"
    }
   },
   "outputs": [],
   "source": [
    "from x32_Funktionen import *\n",
    "translate_m = pflege_translate_tabelle(translate_m, translate_tagZ, wiktionary_lemma, translate_lex )\n",
    "#pak.sample(translate_m)"
   ]
  },
  {
   "cell_type": "code",
   "execution_count": null,
   "id": "fe513acb-02e5-445f-88ef-9e60e8f8567d",
   "metadata": {
    "execution": {
     "iopub.status.busy": "2023-02-25T13:48:34.997303Z",
     "iopub.status.idle": "2023-02-25T13:48:34.997563Z",
     "shell.execute_reply": "2023-02-25T13:48:34.997444Z",
     "shell.execute_reply.started": "2023-02-25T13:48:34.997430Z"
    }
   },
   "outputs": [],
   "source": [
    "# Bedeutungsloses löschen\n",
    "mask1 = ~translate_m.member.str.contains('lemma')\n",
    "mask2 =  translate_m.data == translate_m.lemma\n",
    "mask3A = translate_m.data_tagZZ == translate_m.lemma_tagZZ\n",
    "mask3B = translate_m.data_tagZZ == ''\n",
    "mask = mask1  &  mask2  &  (mask3A | mask3B)\n",
    "#grid(translate_m,mask)\n",
    "check_mask(translate_m,mask,357911)\n",
    "\n",
    "translate_m, df = pak.move_rows(translate_m,mask)\n",
    "grid(df)"
   ]
  },
  {
   "cell_type": "code",
   "execution_count": null,
   "id": "6ce402e3-6660-400b-b79f-280d30fd058f",
   "metadata": {
    "execution": {
     "iopub.status.busy": "2023-02-25T13:48:34.998042Z",
     "iopub.status.idle": "2023-02-25T13:48:34.998306Z",
     "shell.execute_reply": "2023-02-25T13:48:34.998184Z",
     "shell.execute_reply.started": "2023-02-25T13:48:34.998171Z"
    }
   },
   "outputs": [],
   "source": [
    "pak.analyse_freqs(translate_m, ['lemma_home','data_home'])"
   ]
  },
  {
   "cell_type": "code",
   "execution_count": null,
   "id": "56765e2d-7dfd-4605-8dab-c4630590151b",
   "metadata": {
    "execution": {
     "iopub.status.busy": "2023-02-25T13:48:34.998796Z",
     "iopub.status.idle": "2023-02-25T13:48:35.003288Z",
     "shell.execute_reply": "2023-02-25T13:48:35.003042Z",
     "shell.execute_reply.started": "2023-02-25T13:48:35.003001Z"
    }
   },
   "outputs": [],
   "source": [
    "# Neuzugänge\n",
    "mask = translate_m.data_home == ''\n",
    "grid(translate_m,mask)"
   ]
  },
  {
   "cell_type": "code",
   "execution_count": null,
   "id": "55e3a44d-4caa-47fa-9ef5-579fde9a8333",
   "metadata": {
    "execution": {
     "iopub.status.busy": "2023-02-25T13:48:35.006462Z",
     "iopub.status.idle": "2023-02-25T13:48:35.006892Z",
     "shell.execute_reply": "2023-02-25T13:48:35.006726Z",
     "shell.execute_reply.started": "2023-02-25T13:48:35.006709Z"
    }
   },
   "outputs": [],
   "source": [
    "assert not pak.any_nan(translate_m)"
   ]
  },
  {
   "cell_type": "code",
   "execution_count": null,
   "id": "5d243dff-0a90-4f63-861a-cf602d8a0764",
   "metadata": {
    "execution": {
     "iopub.status.busy": "2023-02-25T13:48:35.007540Z",
     "iopub.status.idle": "2023-02-25T13:48:35.007835Z",
     "shell.execute_reply": "2023-02-25T13:48:35.007696Z",
     "shell.execute_reply.started": "2023-02-25T13:48:35.007682Z"
    }
   },
   "outputs": [],
   "source": [
    "# Spalten anpassen\n",
    "translate_m = pak.drop_cols(translate_m,['data_tagZ', 'hunspell', 'merkmal_order'])\n",
    "translate_m['score'] = 0"
   ]
  },
  {
   "cell_type": "code",
   "execution_count": null,
   "id": "9ab9b61a-d9ae-460d-90c6-9ba950fb1e89",
   "metadata": {
    "execution": {
     "iopub.status.busy": "2023-02-25T13:48:35.008312Z",
     "iopub.status.idle": "2023-02-25T13:48:35.008579Z",
     "shell.execute_reply": "2023-02-25T13:48:35.008450Z",
     "shell.execute_reply.started": "2023-02-25T13:48:35.008437Z"
    },
    "tags": []
   },
   "outputs": [],
   "source": [
    "# Spaltenvergleich\n",
    "bpy.minivenn( translate_m.columns, translate_lex.columns, format='print2')"
   ]
  },
  {
   "cell_type": "code",
   "execution_count": null,
   "id": "1b8f0ebf-a96d-4a49-a763-ccaa94d3d976",
   "metadata": {
    "execution": {
     "iopub.status.busy": "2023-02-25T13:48:35.009048Z",
     "iopub.status.idle": "2023-02-25T13:48:35.009310Z",
     "shell.execute_reply": "2023-02-25T13:48:35.009188Z",
     "shell.execute_reply.started": "2023-02-25T13:48:35.009175Z"
    }
   },
   "outputs": [],
   "source": [
    "search_str(translate_m, suche_debug)"
   ]
  },
  {
   "cell_type": "code",
   "execution_count": null,
   "id": "467d6f9b-a257-43b0-9349-035164605fdb",
   "metadata": {},
   "outputs": [],
   "source": []
  },
  {
   "cell_type": "code",
   "execution_count": null,
   "id": "9e8635dd-d171-4a66-854d-e6c8d0c608d7",
   "metadata": {
    "execution": {
     "iopub.status.busy": "2023-02-25T13:48:35.009781Z",
     "iopub.status.idle": "2023-02-25T13:48:35.010039Z",
     "shell.execute_reply": "2023-02-25T13:48:35.009919Z",
     "shell.execute_reply.started": "2023-02-25T13:48:35.009906Z"
    }
   },
   "outputs": [],
   "source": [
    "# add_rows\n",
    "translate_lex = pak.add_rows(translate_lex,translate_m)"
   ]
  },
  {
   "cell_type": "code",
   "execution_count": null,
   "id": "d51aa667-fb11-4bb7-b10b-cbfcad652013",
   "metadata": {
    "execution": {
     "iopub.status.busy": "2023-02-25T13:48:35.010504Z",
     "iopub.status.idle": "2023-02-25T13:48:35.010760Z",
     "shell.execute_reply": "2023-02-25T13:48:35.010642Z",
     "shell.execute_reply.started": "2023-02-25T13:48:35.010629Z"
    }
   },
   "outputs": [],
   "source": [
    "# set_translate_lex_score\n",
    "translate_lex = set_translate_lex_score(translate_lex, lexeme_manuell)"
   ]
  },
  {
   "cell_type": "code",
   "execution_count": null,
   "id": "38f8c7a3-b017-4e66-96e9-e5460d7b3043",
   "metadata": {
    "execution": {
     "iopub.status.busy": "2023-02-25T13:48:35.018211Z",
     "iopub.status.idle": "2023-02-25T13:48:35.018630Z",
     "shell.execute_reply": "2023-02-25T13:48:35.018473Z",
     "shell.execute_reply.started": "2023-02-25T13:48:35.018456Z"
    }
   },
   "outputs": [],
   "source": [
    "# Beispiel anzeigen\n",
    "mask = translate_lex.data == 'Alben'\n",
    "translate_lex[mask]"
   ]
  },
  {
   "cell_type": "code",
   "execution_count": null,
   "id": "249ae81f-7661-4fb3-8ad0-bf1a88a1a4ab",
   "metadata": {
    "execution": {
     "iopub.status.busy": "2023-02-25T13:48:35.019203Z",
     "iopub.status.idle": "2023-02-25T13:48:35.019493Z",
     "shell.execute_reply": "2023-02-25T13:48:35.019363Z",
     "shell.execute_reply.started": "2023-02-25T13:48:35.019349Z"
    }
   },
   "outputs": [],
   "source": [
    "# nan entfernen\n",
    "translate_lex['data_tag']   = translate_lex.data_tag.fillna('')\n",
    "translate_lex['data_tagZZ'] = translate_lex.data_tagZZ.fillna('')"
   ]
  },
  {
   "cell_type": "code",
   "execution_count": null,
   "id": "2e3fd33e-7d8a-429e-ba11-e8432c841d18",
   "metadata": {
    "execution": {
     "iopub.status.busy": "2023-02-25T13:48:35.019981Z",
     "iopub.status.idle": "2023-02-25T13:48:35.020249Z",
     "shell.execute_reply": "2023-02-25T13:48:35.020127Z",
     "shell.execute_reply.started": "2023-02-25T13:48:35.020114Z"
    }
   },
   "outputs": [],
   "source": [
    "# Konfiguration Dups entfernen\n",
    "aggwords    =  pak.agg_words_nodup\n",
    "col_origins =  [ 'data_id', 'data', 'data_tag', 'data_tagZZ', 'data_score', 'member',  'lemma_id', 'lemma', 'lemma_tag', 'lemma_tagZZ', 'lemma_lower', 'lemma_score', 'data_home', 'lemma_home',  'score', ]\n",
    "col_funcs   =  [ '',        '',     '',         '',           'sum',        aggwords,  '',         '',      '',          '',            '',            'sum',         '',          ''          ,  'sum',   ]   \n",
    "col_names   =  [ '',        '',     '',         '',           'data_score', 'member',  '',         '',      '',          '',            '',            'lemma_score', '',          ''          ,  'score', ] "
   ]
  },
  {
   "cell_type": "code",
   "execution_count": null,
   "id": "61df70ac-4d49-407c-97b8-f50ab2913d11",
   "metadata": {
    "execution": {
     "iopub.status.busy": "2023-02-25T13:48:35.020735Z",
     "iopub.status.idle": "2023-02-25T13:48:35.020990Z",
     "shell.execute_reply": "2023-02-25T13:48:35.020873Z",
     "shell.execute_reply.started": "2023-02-25T13:48:35.020860Z"
    }
   },
   "outputs": [],
   "source": [
    "# Gruppieren!\n",
    "translate_lex = pak.group_and_agg( translate_lex, col_origins, col_funcs, col_names, optimize=True)"
   ]
  },
  {
   "cell_type": "code",
   "execution_count": null,
   "id": "5194f469-aef4-41d4-8e6b-f32e4c4002bf",
   "metadata": {
    "execution": {
     "iopub.status.busy": "2023-02-25T13:48:35.022747Z",
     "iopub.status.idle": "2023-02-25T13:48:35.023126Z",
     "shell.execute_reply": "2023-02-25T13:48:35.022971Z",
     "shell.execute_reply.started": "2023-02-25T13:48:35.022955Z"
    }
   },
   "outputs": [],
   "source": [
    "# data_id vorhanden und nicht widersprüchlich?\n",
    "mask = translate_lex.data_id == ''\n",
    "check_mask(translate_lex,mask,0)\n",
    "\n",
    "a = pak.same_but_different(translate_lex,same='data_id',different='data')\n",
    "assert a.shape[0] == 0"
   ]
  },
  {
   "cell_type": "code",
   "execution_count": null,
   "id": "6558946c-cacb-44c0-beb2-fc63c52a6914",
   "metadata": {
    "execution": {
     "iopub.status.busy": "2023-02-25T13:48:35.023636Z",
     "iopub.status.idle": "2023-02-25T13:48:35.023900Z",
     "shell.execute_reply": "2023-02-25T13:48:35.023778Z",
     "shell.execute_reply.started": "2023-02-25T13:48:35.023765Z"
    }
   },
   "outputs": [],
   "source": [
    "# translate_lex suche_debug\n",
    "grid(search_str(translate_lex, suche_debug))"
   ]
  },
  {
   "cell_type": "code",
   "execution_count": null,
   "id": "e9bbc452-a499-4a25-9449-7c81548739c9",
   "metadata": {
    "execution": {
     "iopub.status.busy": "2023-02-25T13:48:35.024384Z",
     "iopub.status.idle": "2023-02-25T13:48:35.024649Z",
     "shell.execute_reply": "2023-02-25T13:48:35.024525Z",
     "shell.execute_reply.started": "2023-02-25T13:48:35.024512Z"
    }
   },
   "outputs": [],
   "source": [
    "#pak.sample(translate_lex)"
   ]
  },
  {
   "cell_type": "code",
   "execution_count": null,
   "id": "ca05f578-b508-450f-9908-3e6fc0007212",
   "metadata": {
    "execution": {
     "iopub.status.busy": "2023-02-25T13:48:35.025108Z",
     "iopub.status.idle": "2023-02-25T13:48:35.025362Z",
     "shell.execute_reply": "2023-02-25T13:48:35.025246Z",
     "shell.execute_reply.started": "2023-02-25T13:48:35.025232Z"
    }
   },
   "outputs": [],
   "source": [
    "# Beispiel anzeigen\n",
    "mask = translate_lex.data == 'Alben'\n",
    "translate_lex[mask]"
   ]
  },
  {
   "cell_type": "code",
   "execution_count": null,
   "id": "e76d4860-e55d-4e73-b93a-04c7fabcf18a",
   "metadata": {
    "execution": {
     "iopub.status.busy": "2023-02-25T13:48:35.025811Z",
     "iopub.status.idle": "2023-02-25T13:48:35.026062Z",
     "shell.execute_reply": "2023-02-25T13:48:35.025947Z",
     "shell.execute_reply.started": "2023-02-25T13:48:35.025934Z"
    }
   },
   "outputs": [],
   "source": [
    "mask = translate_lex.data_tag != ''\n",
    "check_mask(translate_lex,mask,562350)"
   ]
  },
  {
   "cell_type": "markdown",
   "id": "4d8f924a",
   "metadata": {},
   "source": [
    "### translate_lma und translate_lmb\n",
    "* aus wiktionary_lexmerkmal"
   ]
  },
  {
   "cell_type": "code",
   "execution_count": null,
   "id": "ef15dbe2-6830-4a16-922f-34a6adcaa9d6",
   "metadata": {
    "execution": {
     "iopub.status.busy": "2023-02-25T13:48:35.026521Z",
     "iopub.status.idle": "2023-02-25T13:48:35.026775Z",
     "shell.execute_reply": "2023-02-25T13:48:35.026657Z",
     "shell.execute_reply.started": "2023-02-25T13:48:35.026644Z"
    }
   },
   "outputs": [],
   "source": [
    "# zunächst wiktionary_lexmerkmal: Nichtlexeme löschen. Das sind vor allem syllables, ipa und rhymes.\n",
    "mask = wiktionary_lexmerkmal.is_lex == False\n",
    "check_mask( wiktionary_lexmerkmal, mask, 1523133) # 1523133\n",
    "\n",
    "msg = 'Nichtlexeme'\n",
    "wiktionary_lexmerkmal, wiktionary_merkmal_trash = pak.move_rows(wiktionary_lexmerkmal, wiktionary_merkmal_trash, mask, msg )\n",
    "#grid(wiktionary_merkmal_trash, msg)"
   ]
  },
  {
   "cell_type": "code",
   "execution_count": null,
   "id": "4d14ac7f-e579-403d-a8c6-8fcf311426f4",
   "metadata": {
    "execution": {
     "iopub.status.busy": "2023-02-25T13:48:35.034946Z",
     "iopub.status.idle": "2023-02-25T13:48:35.035295Z",
     "shell.execute_reply": "2023-02-25T13:48:35.035151Z",
     "shell.execute_reply.started": "2023-02-25T13:48:35.035136Z"
    }
   },
   "outputs": [],
   "source": [
    "#pak.analyse_freqs(wiktionary_lexmerkmal,['merkmal','data'])"
   ]
  },
  {
   "cell_type": "code",
   "execution_count": null,
   "id": "baae5f04-92cc-4c4f-bf5e-d418159c1263",
   "metadata": {
    "execution": {
     "iopub.status.busy": "2023-02-25T13:48:35.035806Z",
     "iopub.status.idle": "2023-02-25T13:48:35.036057Z",
     "shell.execute_reply": "2023-02-25T13:48:35.035941Z",
     "shell.execute_reply.started": "2023-02-25T13:48:35.035928Z"
    }
   },
   "outputs": [],
   "source": [
    "# wiktionary_lexmerkmal\n",
    "wiktionary_lexmerkmal.head(1)"
   ]
  },
  {
   "cell_type": "code",
   "execution_count": null,
   "id": "78b2011b-286c-45f2-a2e4-958a90b8b0d9",
   "metadata": {
    "execution": {
     "iopub.status.busy": "2023-02-25T13:48:35.036508Z",
     "iopub.status.idle": "2023-02-25T13:48:35.036765Z",
     "shell.execute_reply": "2023-02-25T13:48:35.036642Z",
     "shell.execute_reply.started": "2023-02-25T13:48:35.036629Z"
    }
   },
   "outputs": [],
   "source": [
    "# lemma_id für data_id finden\n",
    "wiktionary_lexmerkmal['lemma_id'] = ''\n",
    "wiktionary_lexmerkmal = pak.update_col(wiktionary_lexmerkmal, translate_lex, on='data_id',  col='lemma_id')"
   ]
  },
  {
   "cell_type": "code",
   "execution_count": null,
   "id": "43bf8325-25cd-474e-a351-8a1f01eb1fa7",
   "metadata": {
    "execution": {
     "iopub.status.busy": "2023-02-25T13:48:35.037222Z",
     "iopub.status.idle": "2023-02-25T13:48:35.037471Z",
     "shell.execute_reply": "2023-02-25T13:48:35.037357Z",
     "shell.execute_reply.started": "2023-02-25T13:48:35.037344Z"
    }
   },
   "outputs": [],
   "source": [
    "# translate_lma erstellen\n",
    "mask = wiktionary_lexmerkmal.lemma_id != ''\n",
    "translate_lma = wiktionary_lexmerkmal[mask].copy()\n",
    "\n",
    "translate_lma = pak.rename_col(translate_lma, 'merkmal', 'member')\n",
    "translate_lma['member'] = ('lma ' + translate_lma.member + ' ' + translate_lma.meta ).str.strip()\n",
    "\n",
    "translate_lma = pak.drop_cols(translate_lma, ['lex_id','is_lex','data_tag','num','meta','data'])"
   ]
  },
  {
   "cell_type": "code",
   "execution_count": null,
   "id": "87f208eb-a69c-4ca2-a176-ac47786fe483",
   "metadata": {
    "execution": {
     "iopub.status.busy": "2023-02-25T13:48:35.037920Z",
     "iopub.status.idle": "2023-02-25T13:48:35.038171Z",
     "shell.execute_reply": "2023-02-25T13:48:35.038055Z",
     "shell.execute_reply.started": "2023-02-25T13:48:35.038042Z"
    }
   },
   "outputs": [],
   "source": [
    "# lemma_id für lex_id finden\n",
    "wiktionary_lexmerkmal['lemma_id'] = ''\n",
    "wiktionary_lexmerkmal = pak.update_col(wiktionary_lexmerkmal, translate_lex, left_on='lex_id', right_on='data_id',  col='lemma_id', col_score='score')"
   ]
  },
  {
   "cell_type": "code",
   "execution_count": null,
   "id": "fd127187-399f-48ee-83e9-e352426f6926",
   "metadata": {
    "execution": {
     "iopub.status.busy": "2023-02-25T13:48:35.038621Z",
     "iopub.status.idle": "2023-02-25T13:48:35.038868Z",
     "shell.execute_reply": "2023-02-25T13:48:35.038753Z",
     "shell.execute_reply.started": "2023-02-25T13:48:35.038740Z"
    }
   },
   "outputs": [],
   "source": [
    "# translate_lmb erstellen\n",
    "mask = wiktionary_lexmerkmal.lemma_id != ''\n",
    "translate_lmb = wiktionary_lexmerkmal[mask].copy()\n",
    "\n",
    "translate_lmb = pak.rename_col(translate_lmb, 'merkmal', 'member')\n",
    "translate_lmb['member'] = ('lmb ' + translate_lmb.member + ' ' + translate_lmb.meta ).str.strip()\n",
    "\n",
    "translate_lmb = pak.drop_cols(translate_lmb, ['data_id','data','data_tag','is_lex','num','meta','data'])\n",
    "\n",
    "translate_lmb = pak.rename_col(translate_lmb, 'lex_id', 'data_id')"
   ]
  },
  {
   "cell_type": "code",
   "execution_count": null,
   "id": "f593b053-8919-4179-a771-b53215726f66",
   "metadata": {
    "execution": {
     "iopub.status.busy": "2023-02-25T13:48:35.039379Z",
     "iopub.status.idle": "2023-02-25T13:48:35.039644Z",
     "shell.execute_reply": "2023-02-25T13:48:35.039522Z",
     "shell.execute_reply.started": "2023-02-25T13:48:35.039508Z"
    }
   },
   "outputs": [],
   "source": [
    "# pflege_translate_tabelle\n",
    "from x32_Funktionen import *\n",
    "translate_lma = pflege_translate_tabelle(translate_lma, translate_tagZ, wiktionary_lemma, translate_lex )\n",
    "translate_lmb = pflege_translate_tabelle(translate_lmb, translate_tagZ, wiktionary_lemma, translate_lex )"
   ]
  },
  {
   "cell_type": "code",
   "execution_count": null,
   "id": "2cd0b107-27c7-429b-bb16-f5edb9ba2cb7",
   "metadata": {
    "execution": {
     "iopub.status.busy": "2023-02-25T13:48:35.040113Z",
     "iopub.status.idle": "2023-02-25T13:48:35.047369Z",
     "shell.execute_reply": "2023-02-25T13:48:35.047180Z",
     "shell.execute_reply.started": "2023-02-25T13:48:35.047156Z"
    }
   },
   "outputs": [],
   "source": [
    "# Bedeutungsloses löschen\n",
    "mask1  = translate_lma.data       == translate_lma.lemma\n",
    "mask2A = translate_lma.data_tagZZ == translate_lma.lemma_tagZZ\n",
    "mask2B = translate_lma.data_tagZZ == ''\n",
    "mask = mask1  &  (mask2A | mask2B)\n",
    "check_mask(translate_lma,mask,15885)\n",
    "\n",
    "translate_lma, df = pak.move_rows(translate_lma,mask)\n",
    "grid(df)"
   ]
  },
  {
   "cell_type": "code",
   "execution_count": null,
   "id": "d5bb0f32-3dfc-49ce-bc1c-7b7c3fd2d36e",
   "metadata": {
    "execution": {
     "iopub.status.busy": "2023-02-25T13:48:35.047978Z",
     "iopub.status.idle": "2023-02-25T13:48:35.048239Z",
     "shell.execute_reply": "2023-02-25T13:48:35.048121Z",
     "shell.execute_reply.started": "2023-02-25T13:48:35.048108Z"
    }
   },
   "outputs": [],
   "source": [
    "# Bedeutungsloses löschen\n",
    "mask1  = translate_lmb.data       == translate_lmb.lemma\n",
    "mask2A = translate_lmb.data_tagZZ == translate_lmb.lemma_tagZZ\n",
    "mask2B = translate_lmb.data_tagZZ == ''\n",
    "mask = mask1  &  (mask2A | mask2B)\n",
    "check_mask(translate_lmb,mask,12)\n",
    "\n",
    "translate_lmb, df = pak.move_rows(translate_lmb,mask)\n",
    "grid(df)"
   ]
  },
  {
   "cell_type": "code",
   "execution_count": null,
   "id": "13c43923-707e-4809-9e38-31ac0917635d",
   "metadata": {
    "execution": {
     "iopub.status.busy": "2023-02-25T13:48:35.048709Z",
     "iopub.status.idle": "2023-02-25T13:48:35.048959Z",
     "shell.execute_reply": "2023-02-25T13:48:35.048842Z",
     "shell.execute_reply.started": "2023-02-25T13:48:35.048829Z"
    }
   },
   "outputs": [],
   "source": [
    "# Spalten anpassen\n",
    "translate_lma = pak.drop_cols(translate_lma,['merkmal_order'])\n",
    "translate_lma['score'] = 0"
   ]
  },
  {
   "cell_type": "code",
   "execution_count": null,
   "id": "83eed31c-6980-4e62-97f5-df790458b199",
   "metadata": {
    "execution": {
     "iopub.status.busy": "2023-02-25T13:48:35.049483Z",
     "iopub.status.idle": "2023-02-25T13:48:35.049747Z",
     "shell.execute_reply": "2023-02-25T13:48:35.049621Z",
     "shell.execute_reply.started": "2023-02-25T13:48:35.049607Z"
    }
   },
   "outputs": [],
   "source": [
    "# Spaltenvergleich\n",
    "bpy.minivenn( translate_lma.columns, translate_lex.columns, format='print2')"
   ]
  },
  {
   "cell_type": "code",
   "execution_count": null,
   "id": "66e8c4a4-fdd8-416e-989b-1c51da70702d",
   "metadata": {
    "execution": {
     "iopub.status.busy": "2023-02-25T13:48:35.050210Z",
     "iopub.status.idle": "2023-02-25T13:48:35.050461Z",
     "shell.execute_reply": "2023-02-25T13:48:35.050347Z",
     "shell.execute_reply.started": "2023-02-25T13:48:35.050333Z"
    }
   },
   "outputs": [],
   "source": [
    "# Spalten anpassen\n",
    "translate_lmb = pak.drop_cols(translate_lmb,['merkmal_order'])\n",
    "translate_lmb['score'] = 0"
   ]
  },
  {
   "cell_type": "code",
   "execution_count": null,
   "id": "02ab3ee1-0691-4015-acf6-480ac878e613",
   "metadata": {
    "execution": {
     "iopub.status.busy": "2023-02-25T13:48:35.050900Z",
     "iopub.status.idle": "2023-02-25T13:48:35.051201Z",
     "shell.execute_reply": "2023-02-25T13:48:35.051075Z",
     "shell.execute_reply.started": "2023-02-25T13:48:35.051061Z"
    }
   },
   "outputs": [],
   "source": [
    "# Spaltenvergleich\n",
    "bpy.minivenn( translate_lmb.columns, translate_lex.columns, format='print2')"
   ]
  },
  {
   "cell_type": "code",
   "execution_count": null,
   "id": "dec0c310-7ee2-4ede-8179-2f840d47b328",
   "metadata": {
    "execution": {
     "iopub.status.busy": "2023-02-25T13:48:35.051731Z",
     "iopub.status.idle": "2023-02-25T13:48:35.051994Z",
     "shell.execute_reply": "2023-02-25T13:48:35.051875Z",
     "shell.execute_reply.started": "2023-02-25T13:48:35.051862Z"
    }
   },
   "outputs": [],
   "source": [
    "# Scores reduzieren\n",
    "translate_lma['data_score'] /= 3\n",
    "translate_lma['lemma_score'] /= 3\n",
    "translate_lmb['data_score'] /= 3\n",
    "translate_lmb['lemma_score'] /= 3"
   ]
  },
  {
   "cell_type": "code",
   "execution_count": null,
   "id": "2a9ee94b-c205-423d-80e2-d3520ed66c1e",
   "metadata": {
    "execution": {
     "iopub.status.busy": "2023-02-25T13:48:35.052443Z",
     "iopub.status.idle": "2023-02-25T13:48:35.052688Z",
     "shell.execute_reply": "2023-02-25T13:48:35.052574Z",
     "shell.execute_reply.started": "2023-02-25T13:48:35.052561Z"
    }
   },
   "outputs": [],
   "source": [
    "#pak.sample(translate_lma)"
   ]
  },
  {
   "cell_type": "code",
   "execution_count": null,
   "id": "a461a9f6-a783-4cae-97a0-540660133bed",
   "metadata": {
    "execution": {
     "iopub.status.busy": "2023-02-25T13:48:35.053139Z",
     "iopub.status.idle": "2023-02-25T13:48:35.053392Z",
     "shell.execute_reply": "2023-02-25T13:48:35.053274Z",
     "shell.execute_reply.started": "2023-02-25T13:48:35.053261Z"
    }
   },
   "outputs": [],
   "source": [
    "# add_rows\n",
    "translate_lex = pak.add_rows(translate_lex,translate_lma)\n",
    "translate_lex = pak.add_rows(translate_lex,translate_lmb)"
   ]
  },
  {
   "cell_type": "markdown",
   "id": "8db4a66b-8179-4a61-bc37-2fbbe7d6b14e",
   "metadata": {},
   "source": [
    "### pflegen"
   ]
  },
  {
   "cell_type": "code",
   "execution_count": null,
   "id": "e23665bb-95dd-403b-922d-76dfd092f72a",
   "metadata": {
    "execution": {
     "iopub.status.busy": "2023-02-25T13:48:35.053843Z",
     "iopub.status.idle": "2023-02-25T13:48:35.054090Z",
     "shell.execute_reply": "2023-02-25T13:48:35.053976Z",
     "shell.execute_reply.started": "2023-02-25T13:48:35.053963Z"
    }
   },
   "outputs": [],
   "source": [
    "# data_id vorhanden und nicht widersprüchlich?\n",
    "mask = translate_lex.data_id == ''\n",
    "check_mask(translate_lex,mask,0)\n",
    "\n",
    "a = pak.same_but_different(translate_lex,same='data_id',different='data')\n",
    "assert a.shape[0] == 0\n",
    "#grid(a)"
   ]
  },
  {
   "cell_type": "code",
   "execution_count": null,
   "id": "20667cdc-ac3c-4b8f-9271-5ac55d560ce5",
   "metadata": {
    "execution": {
     "iopub.status.busy": "2023-02-25T13:48:35.054543Z",
     "iopub.status.idle": "2023-02-25T13:48:35.063209Z",
     "shell.execute_reply": "2023-02-25T13:48:35.054674Z",
     "shell.execute_reply.started": "2023-02-25T13:48:35.054661Z"
    }
   },
   "outputs": [],
   "source": [
    "# verwaiste lemma\n",
    "mask = translate_lex.lemma.isnull()\n",
    "check_mask(translate_lex,mask,0,10)\n",
    "\n",
    "msg = 'verwaist_lemma_10'\n",
    "translate_lex, translate_lex_trash = pak.move_rows( translate_lex, translate_lex_trash, mask, msg )\n",
    "grid(translate_lex_trash,msg)"
   ]
  },
  {
   "cell_type": "code",
   "execution_count": null,
   "id": "95b653a9-502b-4b25-88c2-5ee057d2765a",
   "metadata": {
    "execution": {
     "iopub.status.busy": "2023-02-25T13:48:35.063990Z",
     "iopub.status.idle": "2023-02-25T13:48:35.064304Z",
     "shell.execute_reply": "2023-02-25T13:48:35.064170Z",
     "shell.execute_reply.started": "2023-02-25T13:48:35.064155Z"
    }
   },
   "outputs": [],
   "source": [
    "# verwaiste lemma_id\n",
    "mask = ~translate_lex.lemma_id.isin(wiktionary_lemma.lemma_id)\n",
    "check_mask(translate_lex,mask,100)\n",
    "\n",
    "msg = 'verwaist_lemma_id_100'\n",
    "translate_lex, translate_lex_trash = pak.move_rows( translate_lex, translate_lex_trash, mask, msg )\n",
    "grid(translate_lex_trash,msg)"
   ]
  },
  {
   "cell_type": "code",
   "execution_count": null,
   "id": "356aecca-40b5-43c1-bd83-cfe3ec2f46f4",
   "metadata": {
    "execution": {
     "iopub.status.busy": "2023-02-25T13:48:35.064791Z",
     "iopub.status.idle": "2023-02-25T13:48:35.065046Z",
     "shell.execute_reply": "2023-02-25T13:48:35.064928Z",
     "shell.execute_reply.started": "2023-02-25T13:48:35.064916Z"
    }
   },
   "outputs": [],
   "source": [
    "#data_tag fillna\n",
    "translate_lex['data_tag'] = translate_lex.data_tag.fillna('')"
   ]
  },
  {
   "cell_type": "code",
   "execution_count": null,
   "id": "685a9bbe-dc50-4568-a3f2-5fe138e36e8e",
   "metadata": {
    "execution": {
     "iopub.status.busy": "2023-02-25T13:48:35.065524Z",
     "iopub.status.idle": "2023-02-25T13:48:35.065800Z",
     "shell.execute_reply": "2023-02-25T13:48:35.065675Z",
     "shell.execute_reply.started": "2023-02-25T13:48:35.065661Z"
    }
   },
   "outputs": [],
   "source": [
    "assert not pak.any_nan(translate_lex)\n",
    "#pak.nnan(translate_lex)"
   ]
  },
  {
   "cell_type": "code",
   "execution_count": null,
   "id": "d101d3f9-5934-4512-8605-25b328d5b671",
   "metadata": {
    "execution": {
     "iopub.status.busy": "2023-02-25T13:48:35.066291Z",
     "iopub.status.idle": "2023-02-25T13:48:35.066559Z",
     "shell.execute_reply": "2023-02-25T13:48:35.066438Z",
     "shell.execute_reply.started": "2023-02-25T13:48:35.066424Z"
    }
   },
   "outputs": [],
   "source": [
    "# pflege_translate_tabelle\n",
    "#from x32_Funktionen import *\n",
    "translate_lex = pflege_translate_tabelle(translate_lex, translate_tagZ, wiktionary_lemma, translate_lex )"
   ]
  },
  {
   "cell_type": "markdown",
   "id": "b6d70445-7b21-4c90-a732-7a6302f68fc2",
   "metadata": {},
   "source": [
    "### analyse_stringdiff"
   ]
  },
  {
   "cell_type": "code",
   "execution_count": null,
   "id": "28f2cd1d-84b9-45e2-960e-80cc7d5b8d8e",
   "metadata": {
    "execution": {
     "iopub.status.busy": "2023-02-25T13:48:35.067092Z",
     "iopub.status.idle": "2023-02-25T13:48:35.067392Z",
     "shell.execute_reply": "2023-02-25T13:48:35.067251Z",
     "shell.execute_reply.started": "2023-02-25T13:48:35.067237Z"
    }
   },
   "outputs": [],
   "source": [
    "from strsimpy.qgram import QGram \n",
    "\n",
    "qgram = QGram(2)\n",
    "a = 'herbeispringen'\n",
    "b = 'spring herbei'\n",
    "c = 'herbeispringendes'\n",
    "d = 'xfalsche Anfänger'\n",
    "print(qgram.distance(a,b))\n",
    "print(qgram.distance(a,c))\n",
    "print(qgram.distance(a,d))"
   ]
  },
  {
   "cell_type": "code",
   "execution_count": null,
   "id": "19bc9c70-b0f3-48e2-bba5-fccd4d92e74b",
   "metadata": {
    "execution": {
     "iopub.status.busy": "2023-02-25T13:48:35.074844Z",
     "iopub.status.idle": "2023-02-25T13:48:35.075196Z",
     "shell.execute_reply": "2023-02-25T13:48:35.075055Z",
     "shell.execute_reply.started": "2023-02-25T13:48:35.075039Z"
    }
   },
   "outputs": [],
   "source": [
    "from strsimpy.metric_lcs import MetricLCS\n",
    "metric_lcs = MetricLCS()\n",
    "\n",
    "print(metric_lcs.distance(a,b))\n",
    "print(metric_lcs.distance(a,c))\n",
    "print(metric_lcs.distance(a,d))"
   ]
  },
  {
   "cell_type": "code",
   "execution_count": null,
   "id": "5b552e1a-4c14-41fd-bfbb-f3138fbe951f",
   "metadata": {
    "execution": {
     "iopub.status.busy": "2023-02-25T13:48:35.075707Z",
     "iopub.status.idle": "2023-02-25T13:48:35.075971Z",
     "shell.execute_reply": "2023-02-25T13:48:35.075851Z",
     "shell.execute_reply.started": "2023-02-25T13:48:35.075837Z"
    }
   },
   "outputs": [],
   "source": [
    "# data_swaped: dächtest um >> umdächtest\n",
    "translate_lex['data_swaped'] = translate_lex.data.str.split()\n",
    "mask = translate_lex.data_swaped.str.len() == 2\n",
    "translate_lex.loc[ mask, 'data_swaped'] = translate_lex[mask].data_swaped.str[-1] + translate_lex[mask].data_swaped.str[0]\n",
    "translate_lex.loc[~mask, 'data_swaped'] = ''"
   ]
  },
  {
   "cell_type": "code",
   "execution_count": null,
   "id": "7153a432-0e8e-48c7-a1a7-72a6f2527b9d",
   "metadata": {
    "execution": {
     "iopub.status.busy": "2023-02-25T13:48:35.076445Z",
     "iopub.status.idle": "2023-02-25T13:48:35.076785Z",
     "shell.execute_reply": "2023-02-25T13:48:35.076660Z",
     "shell.execute_reply.started": "2023-02-25T13:48:35.076646Z"
    }
   },
   "outputs": [],
   "source": [
    "# Ermittelt die Differenz zwischen lex und lemma\n",
    "\n",
    "def analyse_stringdiff(zeile):\n",
    "    if len(zeile.data_swaped) > 0:\n",
    "        result_a = metric_lcs.distance( zeile.data.lower(), zeile.lemma.lower() ) \n",
    "        result_b = metric_lcs.distance( zeile.data_swaped.lower(), zeile.lemma.lower() )     \n",
    "        zeile['same_lexlemma'] = 1.0 - min(result_a, result_b)\n",
    "    else:\n",
    "        result   = metric_lcs.distance( zeile.data.lower(), zeile.lemma.lower() ) \n",
    "        zeile['same_lexlemma'] = 1.0 - result      \n",
    "    return zeile"
   ]
  },
  {
   "cell_type": "code",
   "execution_count": null,
   "id": "76cbdbaa-7df7-4696-bf10-e2d5613ffc81",
   "metadata": {
    "execution": {
     "iopub.status.busy": "2023-02-25T13:48:35.077267Z",
     "iopub.status.idle": "2023-02-25T13:48:35.077529Z",
     "shell.execute_reply": "2023-02-25T13:48:35.077404Z",
     "shell.execute_reply.started": "2023-02-25T13:48:35.077391Z"
    }
   },
   "outputs": [],
   "source": [
    "# apply analyse_stringdiff \n",
    "translate_lex['same_lexlemma']   = 0.0\n",
    "translate_lex = translate_lex.swifter.apply( analyse_stringdiff, axis=1 )\n",
    "#translate_lex = pak.change_datatype(translate_lex, verbose=False)  "
   ]
  },
  {
   "cell_type": "code",
   "execution_count": null,
   "id": "0d891987-6f7c-4f1e-bc18-7162aa98e1bd",
   "metadata": {
    "execution": {
     "iopub.status.busy": "2023-02-25T13:48:35.077985Z",
     "iopub.status.idle": "2023-02-25T13:48:35.078237Z",
     "shell.execute_reply": "2023-02-25T13:48:35.078121Z",
     "shell.execute_reply.started": "2023-02-25T13:48:35.078108Z"
    }
   },
   "outputs": [],
   "source": [
    "# data_swaped wieder löschen\n",
    "translate_lex = pak.drop_cols(translate_lex,'data_swaped')"
   ]
  },
  {
   "cell_type": "code",
   "execution_count": null,
   "id": "2e68995a-3184-4f41-a710-a3bced7c1013",
   "metadata": {
    "execution": {
     "iopub.status.busy": "2023-02-25T13:48:35.078699Z",
     "iopub.status.idle": "2023-02-25T13:48:35.078989Z",
     "shell.execute_reply": "2023-02-25T13:48:35.078836Z",
     "shell.execute_reply.started": "2023-02-25T13:48:35.078823Z"
    }
   },
   "outputs": [],
   "source": [
    "# same_lexlemma auf scores übertragen\n",
    "translate_lex['data_score']  = translate_lex.data_score  * ((translate_lex.same_lexlemma + 0.1)**0.5)\n",
    "translate_lex['lemma_score'] = translate_lex.lemma_score * ((translate_lex.same_lexlemma + 0.1)**0.5)"
   ]
  },
  {
   "cell_type": "markdown",
   "id": "c07c7ec6-44d3-447d-968b-07f3267c4279",
   "metadata": {},
   "source": [
    "### data_id eindeutig"
   ]
  },
  {
   "cell_type": "code",
   "execution_count": null,
   "id": "9765987d-cd6f-4dc5-89bc-5dd4d9f3cf43",
   "metadata": {
    "execution": {
     "iopub.status.busy": "2023-02-25T13:48:35.079509Z",
     "iopub.status.idle": "2023-02-25T13:48:35.079778Z",
     "shell.execute_reply": "2023-02-25T13:48:35.079656Z",
     "shell.execute_reply.started": "2023-02-25T13:48:35.079642Z"
    }
   },
   "outputs": [],
   "source": [
    "# score komplett neu berechnen\n",
    "translate_lex['score'] = 0\n",
    "translate_lex = set_translate_lex_score(translate_lex, lexeme_manuell)"
   ]
  },
  {
   "cell_type": "code",
   "execution_count": null,
   "id": "274060a7-5fed-4fd9-81b4-d8fec918c437",
   "metadata": {
    "execution": {
     "iopub.status.busy": "2023-02-25T13:48:35.080251Z",
     "iopub.status.idle": "2023-02-25T13:48:35.080511Z",
     "shell.execute_reply": "2023-02-25T13:48:35.080388Z",
     "shell.execute_reply.started": "2023-02-25T13:48:35.080375Z"
    }
   },
   "outputs": [],
   "source": [
    "#translate_lex_bak = translate_lex.copy()\n",
    "\n",
    "# rückgängig\n",
    "# translate_lex = translate_lex_bak.copy()"
   ]
  },
  {
   "cell_type": "code",
   "execution_count": null,
   "id": "5f0a2c7a-b75b-49e3-bd9a-e73c66133557",
   "metadata": {
    "execution": {
     "iopub.status.busy": "2023-02-25T13:48:35.080966Z",
     "iopub.status.idle": "2023-02-25T13:48:35.086598Z",
     "shell.execute_reply": "2023-02-25T13:48:35.081104Z",
     "shell.execute_reply.started": "2023-02-25T13:48:35.081091Z"
    }
   },
   "outputs": [],
   "source": [
    "# Beispiel anzeigen\n",
    "mask = translate_lex.data == 'Alben'\n",
    "translate_lex[mask]"
   ]
  },
  {
   "cell_type": "code",
   "execution_count": null,
   "id": "a947f7a4-91af-4bbe-8fac-723e264b6c63",
   "metadata": {
    "execution": {
     "iopub.status.busy": "2023-02-25T13:48:35.087396Z",
     "iopub.status.idle": "2023-02-25T13:48:35.087716Z",
     "shell.execute_reply": "2023-02-25T13:48:35.087580Z",
     "shell.execute_reply.started": "2023-02-25T13:48:35.087565Z"
    }
   },
   "outputs": [],
   "source": [
    "# Konfiguration Dups entfernen\n",
    "aggwords    =  pak.agg_words_nodup\n",
    "col_origins =  [ 'data_id', 'data', 'data_tag', 'data_tagZZ', 'data_score', 'member',  'lemma_id', 'lemma', 'lemma_tag', 'lemma_tagZZ', 'lemma_lower', 'lemma_score', 'data_home', 'lemma_home',  'same_lexlemma',  'score', ]\n",
    "col_funcs   =  [ '',        '',     '',         '',           'sum',        aggwords,  '',         '',      '',          '',            '',            'sum',         '',          ''          ,  'first',          'sum',   ]   \n",
    "col_names   =  [ '',        '',     '',         '',           'data_score', 'member',  '',         '',      '',          '',            '',            'lemma_score', '',          ''          ,  'same_lexlemma',  'score', ] "
   ]
  },
  {
   "cell_type": "code",
   "execution_count": null,
   "id": "20868b8b-3384-46dd-ba24-1a20726a47b7",
   "metadata": {
    "execution": {
     "iopub.status.busy": "2023-02-25T13:48:35.088275Z",
     "iopub.status.idle": "2023-02-25T13:48:35.088559Z",
     "shell.execute_reply": "2023-02-25T13:48:35.088431Z",
     "shell.execute_reply.started": "2023-02-25T13:48:35.088418Z"
    }
   },
   "outputs": [],
   "source": [
    "# Gruppieren!\n",
    "lookup_lex_tag = pak.group_and_agg( translate_lex, col_origins, col_funcs, col_names, optimize=True)"
   ]
  },
  {
   "cell_type": "code",
   "execution_count": null,
   "id": "69b31804-45e5-458f-8200-230c76fe262c",
   "metadata": {
    "execution": {
     "iopub.status.busy": "2023-02-25T13:48:35.089071Z",
     "iopub.status.idle": "2023-02-25T13:48:35.089352Z",
     "shell.execute_reply": "2023-02-25T13:48:35.089225Z",
     "shell.execute_reply.started": "2023-02-25T13:48:35.089211Z"
    }
   },
   "outputs": [],
   "source": [
    "# Beispiel anzeigen\n",
    "mask = translate_lex.data == 'Alben'\n",
    "translate_lex[mask]"
   ]
  },
  {
   "cell_type": "markdown",
   "id": "05ea175f-a58d-4fb6-8974-42c520f1a4f8",
   "metadata": {},
   "source": [
    "### weniger data_ids "
   ]
  },
  {
   "cell_type": "code",
   "execution_count": null,
   "id": "1855155d-5066-4dde-85b1-f9e60c18d87f",
   "metadata": {
    "execution": {
     "iopub.status.busy": "2023-02-25T13:48:35.089823Z",
     "iopub.status.idle": "2023-02-25T13:48:35.090084Z",
     "shell.execute_reply": "2023-02-25T13:48:35.089963Z",
     "shell.execute_reply.started": "2023-02-25T13:48:35.089950Z"
    }
   },
   "outputs": [],
   "source": [
    "translate_lex['data_id_bak'] = '' # Sicherheitskopie von data_id"
   ]
  },
  {
   "cell_type": "code",
   "execution_count": null,
   "id": "50e1a48c-5ee7-41e6-8e29-15aa1b6e653f",
   "metadata": {
    "execution": {
     "iopub.status.busy": "2023-02-25T13:48:35.090575Z",
     "iopub.status.idle": "2023-02-25T13:48:35.090849Z",
     "shell.execute_reply": "2023-02-25T13:48:35.090720Z",
     "shell.execute_reply.started": "2023-02-25T13:48:35.090707Z"
    },
    "tags": []
   },
   "outputs": [],
   "source": [
    "# Eine halbe Million data_ids, die nirgendwohin verweisen. \n",
    "# Sichern und Leeren!\n",
    "mask1 =  translate_lex.data != ''\n",
    "mask2 = ~translate_lex.data_id.isin(wiktionary_lemma.lemma_id)\n",
    "mask3 = ~translate_lex.data_id.isin(wiktionary_merkmal.data_id)\n",
    "mask = mask1  &  mask2  &  mask3  \n",
    "check_mask(translate_lex,mask,455800)\n",
    "\n",
    "# kennzeichnen\n",
    "translate_lex.loc[mask,'data_id_bak'] = translate_lex[mask].data_id  # sichern\n",
    "translate_lex.loc[mask,'data_id']     = ''                           # leeren\n",
    "\n",
    "#grid(translate_lex[mask],pak.sample )"
   ]
  },
  {
   "cell_type": "code",
   "execution_count": null,
   "id": "259c48bf-f6c9-4e7f-bbe6-585c70f32e50",
   "metadata": {
    "execution": {
     "iopub.status.busy": "2023-02-25T13:48:35.095049Z",
     "iopub.status.idle": "2023-02-25T13:48:35.095429Z",
     "shell.execute_reply": "2023-02-25T13:48:35.095279Z",
     "shell.execute_reply.started": "2023-02-25T13:48:35.095263Z"
    }
   },
   "outputs": [],
   "source": [
    "# Sicherheitskopie\n",
    "#translate_lex_bak = translate_lex.copy()\n",
    "#translate_lex = translate_lex_bak.copy()"
   ]
  },
  {
   "cell_type": "code",
   "execution_count": null,
   "id": "76025144-6277-4f03-a4a5-0d0a0b2c5bed",
   "metadata": {
    "execution": {
     "iopub.status.busy": "2023-02-25T13:48:35.095975Z",
     "iopub.status.idle": "2023-02-25T13:48:35.096251Z",
     "shell.execute_reply": "2023-02-25T13:48:35.096130Z",
     "shell.execute_reply.started": "2023-02-25T13:48:35.096117Z"
    }
   },
   "outputs": [],
   "source": [
    "# Zweites data_id-Feld\n",
    "translate_lex['data_id2'] = translate_lex.data_id.copy()\n",
    "translate_lex = pak.move_cols(translate_lex,'data_id2','data_id')\n",
    "#translate_lex"
   ]
  },
  {
   "cell_type": "code",
   "execution_count": null,
   "id": "c9196e87-26f2-42e4-a262-d746e13ee86f",
   "metadata": {
    "execution": {
     "iopub.status.busy": "2023-02-25T13:48:35.096802Z",
     "iopub.status.idle": "2023-02-25T13:48:35.097076Z",
     "shell.execute_reply": "2023-02-25T13:48:35.096954Z",
     "shell.execute_reply.started": "2023-02-25T13:48:35.096941Z"
    }
   },
   "outputs": [],
   "source": [
    "# Konfiguration Dups entfernen\n",
    "aggwords    =  pak.agg_words_nodup\n",
    "col_origins =  [ 'data_id',  'data_id2', 'data_id_bak', 'data', 'data_tag', 'data_tagZZ', 'data_score', 'member',  'lemma_id', 'lemma', 'lemma_tag', 'lemma_tagZZ', 'lemma_lower', 'lemma_score', 'data_home', 'lemma_home',  'same_lexlemma',  'score', ]\n",
    "col_funcs   =  [ 'max',      'min',      'max',         '',     '',         '',           'sum',        aggwords,  '',         '',      '',          '',            '',            'sum',         'first',     'first',       'first',          'sum',   ]   \n",
    "col_names   =  [ 'data_id',  'data_id2', 'data_id_bak', '',     '',         '',           'data_score', 'member',  '',         '',      '',          '',            '',            'lemma_score', 'data_home', 'lemma_home',  'same_lexlemma',  'score', ] "
   ]
  },
  {
   "cell_type": "code",
   "execution_count": null,
   "id": "e8952017-5139-4301-ac83-7b4177e56997",
   "metadata": {
    "execution": {
     "iopub.status.busy": "2023-02-25T13:48:35.097546Z",
     "iopub.status.idle": "2023-02-25T13:48:35.097799Z",
     "shell.execute_reply": "2023-02-25T13:48:35.097683Z",
     "shell.execute_reply.started": "2023-02-25T13:48:35.097670Z"
    }
   },
   "outputs": [],
   "source": [
    "# Gruppieren!\n",
    "translate_lex = pak.group_and_agg( translate_lex, col_origins, col_funcs, col_names, optimize=True)"
   ]
  },
  {
   "cell_type": "code",
   "execution_count": null,
   "id": "5e28782a-860f-4215-be24-7a2a8358a0f4",
   "metadata": {
    "execution": {
     "iopub.status.busy": "2023-02-25T13:48:35.098416Z",
     "iopub.status.idle": "2023-02-25T13:48:35.098724Z",
     "shell.execute_reply": "2023-02-25T13:48:35.098587Z",
     "shell.execute_reply.started": "2023-02-25T13:48:35.098572Z"
    }
   },
   "outputs": [],
   "source": [
    "# Beide data_id leer? Dann data_id_bak verwenden\n",
    "mask1 = translate_lex.data_id == ''\n",
    "mask2 = translate_lex.data_id2 == ''\n",
    "mask = mask1  &  mask2\n",
    "check_mask(translate_lex,mask,354478)\n",
    "translate_lex.loc[mask,'data_id'] = translate_lex[mask].data_id_bak\n",
    "#grid(translate_lex,mask)"
   ]
  },
  {
   "cell_type": "code",
   "execution_count": null,
   "id": "4488ddfd-737f-42be-b316-3f915985e323",
   "metadata": {
    "execution": {
     "iopub.status.busy": "2023-02-25T13:48:35.107659Z",
     "iopub.status.idle": "2023-02-25T13:48:35.108029Z",
     "shell.execute_reply": "2023-02-25T13:48:35.107879Z",
     "shell.execute_reply.started": "2023-02-25T13:48:35.107863Z"
    }
   },
   "outputs": [],
   "source": [
    "# Prüfen: data_id immer belegt\n",
    "mask = translate_lex.data_id == ''\n",
    "check_mask(translate_lex,mask,0)"
   ]
  },
  {
   "cell_type": "code",
   "execution_count": null,
   "id": "b4623260-cd72-41d1-83b4-136045a31730",
   "metadata": {
    "execution": {
     "iopub.status.busy": "2023-02-25T13:48:35.108571Z",
     "iopub.status.idle": "2023-02-25T13:48:35.108826Z",
     "shell.execute_reply": "2023-02-25T13:48:35.108709Z",
     "shell.execute_reply.started": "2023-02-25T13:48:35.108696Z"
    }
   },
   "outputs": [],
   "source": [
    "# data_ids sind verschieden, aber nahezu gleich\n",
    "# z.B. abstoßend_1 und abstoßend\n",
    "mask1 = translate_lex.data_id != translate_lex.data_id2\n",
    "mask2 = translate_lex.data_id2 != ''\n",
    "mask3 = pak.remove_str( translate_lex.data_id, ['_1','_2','_3','_4','_MADJ',], safemode=False )  ==  pak.remove_str( translate_lex.data_id2, ['_1','_2','_3','_4','_MADJ',], safemode=False )\n",
    "mask = mask1  &  mask2  &  mask3\n",
    "check_mask(translate_lex,mask,393)\n",
    "\n",
    "translate_lex.loc[mask,'data_id'] = translate_lex[mask].data_id2 # das Minimum, also die kürzere id\n",
    "translate_lex.loc[mask,'data_id2'] = ''\n",
    "#grid(translate_lex,mask)"
   ]
  },
  {
   "cell_type": "code",
   "execution_count": null,
   "id": "d7530625-7372-4052-8800-c37d20a69fff",
   "metadata": {
    "execution": {
     "iopub.status.busy": "2023-02-25T13:48:35.109299Z",
     "iopub.status.idle": "2023-02-25T13:48:35.109549Z",
     "shell.execute_reply": "2023-02-25T13:48:35.109434Z",
     "shell.execute_reply.started": "2023-02-25T13:48:35.109421Z"
    }
   },
   "outputs": [],
   "source": [
    "# Jetzt gibt es keine widersprüchliche data_id mehr\n",
    "mask1 = translate_lex.data_id != translate_lex.data_id2\n",
    "mask2 = translate_lex.data_id2 != ''\n",
    "mask = mask1  &  mask2\n",
    "check_mask(translate_lex,mask,0)\n",
    "#grid(translate_lex,mask,)"
   ]
  },
  {
   "cell_type": "code",
   "execution_count": null,
   "id": "25559ace-6f08-4604-af6b-9c537548ca7b",
   "metadata": {
    "execution": {
     "iopub.status.busy": "2023-02-25T13:48:35.109989Z",
     "iopub.status.idle": "2023-02-25T13:48:35.110237Z",
     "shell.execute_reply": "2023-02-25T13:48:35.110124Z",
     "shell.execute_reply.started": "2023-02-25T13:48:35.110111Z"
    }
   },
   "outputs": [],
   "source": [
    "# Hilfsspalten löschen\n",
    "translate_lex = pak.drop_cols(translate_lex,['data_id2','data_id_bak'])"
   ]
  },
  {
   "cell_type": "code",
   "execution_count": null,
   "id": "ac41dc33-7aa3-4314-9191-f58b5731e029",
   "metadata": {
    "execution": {
     "iopub.status.busy": "2023-02-25T13:48:35.110686Z",
     "iopub.status.idle": "2023-02-25T13:48:35.110962Z",
     "shell.execute_reply": "2023-02-25T13:48:35.110819Z",
     "shell.execute_reply.started": "2023-02-25T13:48:35.110806Z"
    }
   },
   "outputs": [],
   "source": [
    "# translate_lex suche_debug\n",
    "grid(search_str(translate_lex, suche_debug))"
   ]
  },
  {
   "cell_type": "code",
   "execution_count": null,
   "id": "fac45f3d-c0ee-4bdb-8573-7708d1d2e214",
   "metadata": {
    "execution": {
     "iopub.status.busy": "2023-02-25T13:48:35.111466Z",
     "iopub.status.idle": "2023-02-25T13:48:35.111727Z",
     "shell.execute_reply": "2023-02-25T13:48:35.111606Z",
     "shell.execute_reply.started": "2023-02-25T13:48:35.111593Z"
    }
   },
   "outputs": [],
   "source": [
    "# pflege_translate_tabelle\n",
    "translate_lex_ranked  = pak.rank(translate_lex, col_score='score', cols_group='data_id', on_conflict='first')\n",
    "translate_lex         = pflege_translate_tabelle(translate_lex, translate_tagZ, wiktionary_lemma, translate_lex_ranked )"
   ]
  },
  {
   "cell_type": "code",
   "execution_count": null,
   "id": "3738c0ea-3687-43a6-9b51-964ff4566bd9",
   "metadata": {
    "execution": {
     "iopub.status.busy": "2023-02-25T13:48:35.112182Z",
     "iopub.status.idle": "2023-02-25T13:48:35.112435Z",
     "shell.execute_reply": "2023-02-25T13:48:35.112320Z",
     "shell.execute_reply.started": "2023-02-25T13:48:35.112307Z"
    }
   },
   "outputs": [],
   "source": [
    "# translate_lex: data_id vorhanden und nicht widersprüchlich?\n",
    "mask = translate_lex.data_id == ''\n",
    "check_mask(translate_lex,mask,0)\n",
    "\n",
    "#assert translate_lex.data_id.is_unique\n",
    "\n",
    "a = pak.same_but_different(translate_lex,same='data_id',different='data')\n",
    "assert a.shape[0] == 0\n",
    "#grid(a)"
   ]
  },
  {
   "cell_type": "code",
   "execution_count": null,
   "id": "3946ce10-307f-48d4-9240-a8ce30ead8e7",
   "metadata": {
    "execution": {
     "iopub.status.busy": "2023-02-25T13:48:35.112883Z",
     "iopub.status.idle": "2023-02-25T13:48:35.113128Z",
     "shell.execute_reply": "2023-02-25T13:48:35.113014Z",
     "shell.execute_reply.started": "2023-02-25T13:48:35.113001Z"
    }
   },
   "outputs": [],
   "source": [
    "assert not pak.any_nan(translate_lex)"
   ]
  },
  {
   "cell_type": "code",
   "execution_count": null,
   "id": "424a73ba-d23c-4fb1-9609-0fdcaba1599b",
   "metadata": {
    "execution": {
     "iopub.status.busy": "2023-02-25T13:48:35.113569Z",
     "iopub.status.idle": "2023-02-25T13:48:35.113819Z",
     "shell.execute_reply": "2023-02-25T13:48:35.113704Z",
     "shell.execute_reply.started": "2023-02-25T13:48:35.113692Z"
    }
   },
   "outputs": [],
   "source": [
    "# Beispiel anzeigen\n",
    "mask = translate_lex.data == 'Alben'\n",
    "translate_lex[mask]"
   ]
  },
  {
   "cell_type": "code",
   "execution_count": null,
   "id": "890aedeb-9df9-41bb-a338-7009268f5adc",
   "metadata": {
    "execution": {
     "iopub.status.busy": "2023-02-25T13:48:35.114267Z",
     "iopub.status.idle": "2023-02-25T13:48:35.114513Z",
     "shell.execute_reply": "2023-02-25T13:48:35.114399Z",
     "shell.execute_reply.started": "2023-02-25T13:48:35.114386Z"
    }
   },
   "outputs": [],
   "source": [
    "# Beispiel anzeigen\n",
    "mask = translate_lex.data == 'ausführt'\n",
    "translate_lex[mask]"
   ]
  },
  {
   "cell_type": "code",
   "execution_count": null,
   "id": "9956f05b-ab4e-4b10-a556-8c13c2ca60e1",
   "metadata": {
    "execution": {
     "iopub.status.busy": "2023-02-25T13:48:35.123066Z",
     "iopub.status.idle": "2023-02-25T13:48:35.123462Z",
     "shell.execute_reply": "2023-02-25T13:48:35.123306Z",
     "shell.execute_reply.started": "2023-02-25T13:48:35.123291Z"
    }
   },
   "outputs": [],
   "source": [
    "# Beispiel anzeigen\n",
    "#finde = ['eine','einer','eines','einen','ein','einem']\n",
    "#mask = translate_lex.data.isin(finde)\n",
    "#translate_lex[mask]"
   ]
  },
  {
   "cell_type": "code",
   "execution_count": null,
   "id": "b4d62206-a1f3-4224-a492-1470cd9ec03e",
   "metadata": {
    "execution": {
     "iopub.status.busy": "2023-02-25T13:48:35.124221Z",
     "iopub.status.idle": "2023-02-25T13:48:35.124540Z",
     "shell.execute_reply": "2023-02-25T13:48:35.124407Z",
     "shell.execute_reply.started": "2023-02-25T13:48:35.124392Z"
    }
   },
   "outputs": [],
   "source": [
    "#pak.analyse_freqs(translate_lex,['data_home','lemma_home'])"
   ]
  },
  {
   "cell_type": "markdown",
   "id": "67b77fa0-cf75-4d21-878f-726560843923",
   "metadata": {},
   "source": [
    "## wiktionary_merkmal"
   ]
  },
  {
   "cell_type": "code",
   "execution_count": null,
   "id": "ab269d05-05f0-4452-9b08-0c274bfeec14",
   "metadata": {
    "execution": {
     "iopub.status.busy": "2023-02-25T13:48:35.125033Z",
     "iopub.status.idle": "2023-02-25T13:48:35.125282Z",
     "shell.execute_reply": "2023-02-25T13:48:35.125168Z",
     "shell.execute_reply.started": "2023-02-25T13:48:35.125155Z"
    }
   },
   "outputs": [],
   "source": [
    "# check data_id\n",
    "mask1 =  wiktionary_merkmal.data_id == ''\n",
    "mask2 =  wiktionary_merkmal.is_lex == True\n",
    "mask = mask1  &  mask2\n",
    "check_mask(wiktionary_merkmal,mask,0)"
   ]
  },
  {
   "cell_type": "code",
   "execution_count": null,
   "id": "b02d0803-1feb-48e3-bfce-8bf80256f506",
   "metadata": {
    "execution": {
     "iopub.status.busy": "2023-02-25T13:48:35.125729Z",
     "iopub.status.idle": "2023-02-25T13:48:35.125978Z",
     "shell.execute_reply": "2023-02-25T13:48:35.125863Z",
     "shell.execute_reply.started": "2023-02-25T13:48:35.125850Z"
    }
   },
   "outputs": [],
   "source": [
    "# Sicherheitskopie\n",
    "#wiktionary_merkmal_bak = wiktionary_merkmal.copy()\n",
    "#wiktionary_merkmal = wiktionary_merkmal_bak.copy()"
   ]
  },
  {
   "cell_type": "code",
   "execution_count": null,
   "id": "181e5fbd-4203-4911-ae28-bd03c065230c",
   "metadata": {
    "execution": {
     "iopub.status.busy": "2023-02-25T13:48:35.126415Z",
     "iopub.status.idle": "2023-02-25T13:48:35.126735Z",
     "shell.execute_reply": "2023-02-25T13:48:35.126620Z",
     "shell.execute_reply.started": "2023-02-25T13:48:35.126607Z"
    }
   },
   "outputs": [],
   "source": [
    "wiktionary_merkmal['data_id_bak'] = '' # Sicherheitskopie von data_id"
   ]
  },
  {
   "cell_type": "code",
   "execution_count": null,
   "id": "a806e49b-6d18-4a83-a867-9635bcc1d026",
   "metadata": {
    "execution": {
     "iopub.status.busy": "2023-02-25T13:48:35.127244Z",
     "iopub.status.idle": "2023-02-25T13:48:35.127517Z",
     "shell.execute_reply": "2023-02-25T13:48:35.127398Z",
     "shell.execute_reply.started": "2023-02-25T13:48:35.127385Z"
    }
   },
   "outputs": [],
   "source": [
    "translate_lex"
   ]
  },
  {
   "cell_type": "raw",
   "id": "efd4944f-d89c-4d27-95eb-9043e69bf91f",
   "metadata": {},
   "source": [
    "# verwaiste data_id:\n",
    "# leeren und neu belegen\n",
    "mask1 =  wiktionary_merkmal.is_lex == True\n",
    "mask2 =  wiktionary_merkmal.data != ''\n",
    "mask3 = ~wiktionary_merkmal.data_id.isin(wiktionary_lemma.lemma_id)\n",
    "mask4 = ~wiktionary_merkmal.data_id.isin(translate_lex.data_id)\n",
    "mask = mask1  &  mask2  &  mask3  &  mask4 \n",
    "grid(wiktionary_merkmal,mask)"
   ]
  },
  {
   "cell_type": "code",
   "execution_count": null,
   "id": "afa5bf88-3961-4b0f-b7ea-9bc57c97c1f5",
   "metadata": {
    "execution": {
     "iopub.status.busy": "2023-02-25T13:48:35.128009Z",
     "iopub.status.idle": "2023-02-25T13:48:35.128259Z",
     "shell.execute_reply": "2023-02-25T13:48:35.128144Z",
     "shell.execute_reply.started": "2023-02-25T13:48:35.128131Z"
    },
    "tags": []
   },
   "outputs": [],
   "source": [
    "# verwaiste data_id:\n",
    "# leeren und neu belegen\n",
    "mask1 =  wiktionary_merkmal.is_lex == True\n",
    "mask2 =  wiktionary_merkmal.data != ''\n",
    "mask3 = ~wiktionary_merkmal.data_id.isin(wiktionary_lemma.lemma_id)\n",
    "mask4 = ~wiktionary_merkmal.data_id.isin(translate_lex.data_id)\n",
    "mask = mask1  &  mask2  &  mask3  &  mask4 \n",
    "check_mask(wiktionary_merkmal,mask, 0, 34)\n",
    "\n",
    "# kennzeichnen\n",
    "wiktionary_merkmal.loc[mask,'data_id_bak'] = wiktionary_merkmal[mask].data_id  # sichern\n",
    "wiktionary_merkmal.loc[mask,'data_id']     = ''                                # leeren\n",
    "\n",
    "# data_id schreiben \n",
    "wiktionary_merkmal[mask] = pak.update_col( wiktionary_merkmal[mask], wiktionary_lemma, cond='null', left_on=['data','lemma_tagZZ'], right_on=['lemma','tagZZ'], col='lemma_id', col_rename='data_id', col_score='score')\n",
    "wiktionary_merkmal[mask] = pak.update_col( wiktionary_merkmal[mask], translate_lex,    cond='null',      on=['data','lemma_tagZZ'],                             col='data_id',  col_score='score', )\n",
    "\n",
    "# Kontrolle\n",
    "mask1 =  wiktionary_merkmal.is_lex == True\n",
    "mask2 =  wiktionary_merkmal.data != ''\n",
    "mask3 = ~wiktionary_merkmal.data_id.isin(wiktionary_lemma.lemma_id)\n",
    "mask4 = ~wiktionary_merkmal.data_id.isin(translate_lex.data_id)\n",
    "mask = mask1  &  mask2  &  mask3  &  mask4  \n",
    "check_mask(wiktionary_merkmal,mask, 0)\n",
    "\n",
    "# anschauen\n",
    "mask = wiktionary_merkmal.data_id_bak != ''\n",
    "grid(wiktionary_merkmal,mask)"
   ]
  },
  {
   "cell_type": "code",
   "execution_count": null,
   "id": "4b9a0135-a1a0-4979-9ce2-7924e29b5800",
   "metadata": {
    "execution": {
     "iopub.status.busy": "2023-02-25T13:48:35.128699Z",
     "iopub.status.idle": "2023-02-25T13:48:35.128951Z",
     "shell.execute_reply": "2023-02-25T13:48:35.128836Z",
     "shell.execute_reply.started": "2023-02-25T13:48:35.128823Z"
    }
   },
   "outputs": [],
   "source": [
    "mask = wiktionary_merkmal.data_id == 'Petersen~Peterson'\n",
    "wiktionary_merkmal[mask]"
   ]
  },
  {
   "cell_type": "code",
   "execution_count": null,
   "id": "dc3aedf1-e131-4891-8e7e-41626733117b",
   "metadata": {
    "execution": {
     "iopub.status.busy": "2023-02-25T13:48:35.129389Z",
     "iopub.status.idle": "2023-02-25T13:48:35.129632Z",
     "shell.execute_reply": "2023-02-25T13:48:35.129519Z",
     "shell.execute_reply.started": "2023-02-25T13:48:35.129506Z"
    }
   },
   "outputs": [],
   "source": [
    "# check data_id\n",
    "mask1 =  wiktionary_merkmal.data_id == ''\n",
    "mask2 =  wiktionary_merkmal.is_lex == True\n",
    "mask = mask1  &  mask2\n",
    "check_mask(wiktionary_merkmal,mask,0)"
   ]
  },
  {
   "cell_type": "code",
   "execution_count": null,
   "id": "0887c039-f1b4-42df-bf1a-521db72f80f6",
   "metadata": {
    "execution": {
     "iopub.status.busy": "2023-02-25T13:48:35.130092Z",
     "iopub.status.idle": "2023-02-25T13:48:35.130342Z",
     "shell.execute_reply": "2023-02-25T13:48:35.130227Z",
     "shell.execute_reply.started": "2023-02-25T13:48:35.130214Z"
    }
   },
   "outputs": [],
   "source": [
    "# Verlinkung auf data prüfen \n",
    "wiktionary_merkmal = pak.update_col(wiktionary_merkmal, translate_lex, on='data_id', col='data', col_rename='data_check', col_score='score')\n",
    "mask_kaputt = wiktionary_merkmal.data != wiktionary_merkmal.data_check\n",
    "check_mask(wiktionary_merkmal,mask_kaputt,0)\n",
    "#grid(wiktionary_merkmal,mask_kaputt)"
   ]
  },
  {
   "cell_type": "code",
   "execution_count": null,
   "id": "9f7da986-7e00-4ee1-8056-5ea0670d1b5b",
   "metadata": {
    "execution": {
     "iopub.status.busy": "2023-02-25T13:48:35.130784Z",
     "iopub.status.idle": "2023-02-25T13:48:35.139232Z",
     "shell.execute_reply": "2023-02-25T13:48:35.130914Z",
     "shell.execute_reply.started": "2023-02-25T13:48:35.130902Z"
    }
   },
   "outputs": [],
   "source": [
    "# meta == lemma\n",
    "mask = wiktionary_merkmal.meta == wiktionary_merkmal.lemma\n",
    "check_mask(wiktionary_merkmal,mask,57940)\n",
    "\n",
    "wiktionary_merkmal.loc[mask,'meta'] = ''"
   ]
  },
  {
   "cell_type": "code",
   "execution_count": null,
   "id": "2eae88df-e9f8-4204-8427-528c254d4e04",
   "metadata": {
    "execution": {
     "iopub.status.busy": "2023-02-25T13:48:35.139877Z",
     "iopub.status.idle": "2023-02-25T13:48:35.140172Z",
     "shell.execute_reply": "2023-02-25T13:48:35.140047Z",
     "shell.execute_reply.started": "2023-02-25T13:48:35.140033Z"
    },
    "tags": []
   },
   "outputs": [],
   "source": [
    "# meta == lex \n",
    "wiktionary_merkmal = pak.update_col(wiktionary_merkmal, translate_lex, left_on='meta', right_on='data', col='lemma', col_rename='löschmich_lemma', col_score='score')\n",
    "\n",
    "mask = wiktionary_merkmal.lemma == wiktionary_merkmal.löschmich_lemma\n",
    "check_mask(wiktionary_merkmal,mask,13845)\n",
    "wiktionary_merkmal.loc[mask,'meta'] = ''\n",
    "\n",
    "wiktionary_merkmal = pak.drop_cols(wiktionary_merkmal,'löschmich_lemma')"
   ]
  },
  {
   "cell_type": "code",
   "execution_count": null,
   "id": "2096a88a-a9bf-47b1-b068-4bdf4adb1959",
   "metadata": {
    "execution": {
     "iopub.status.busy": "2023-02-25T13:48:35.140649Z",
     "iopub.status.idle": "2023-02-25T13:48:35.140904Z",
     "shell.execute_reply": "2023-02-25T13:48:35.140787Z",
     "shell.execute_reply.started": "2023-02-25T13:48:35.140774Z"
    }
   },
   "outputs": [],
   "source": [
    "# Hilfsdaten löschen\n",
    "wiktionary_merkmal = pak.drop_cols(wiktionary_merkmal,['data_id_bak','notiz','data_check'])"
   ]
  },
  {
   "cell_type": "code",
   "execution_count": null,
   "id": "3d911caa-e163-4903-a42c-0ac00ec327d6",
   "metadata": {
    "execution": {
     "iopub.status.busy": "2023-02-25T13:48:35.141367Z",
     "iopub.status.idle": "2023-02-25T13:48:35.141615Z",
     "shell.execute_reply": "2023-02-25T13:48:35.141500Z",
     "shell.execute_reply.started": "2023-02-25T13:48:35.141487Z"
    }
   },
   "outputs": [],
   "source": [
    "grid(wiktionary_merkmal,pak.sample)"
   ]
  },
  {
   "cell_type": "code",
   "execution_count": null,
   "id": "80120f8e-aec8-4a92-bf26-26178b85abb7",
   "metadata": {
    "execution": {
     "iopub.status.busy": "2023-02-25T13:48:35.142072Z",
     "iopub.status.idle": "2023-02-25T13:48:35.142321Z",
     "shell.execute_reply": "2023-02-25T13:48:35.142207Z",
     "shell.execute_reply.started": "2023-02-25T13:48:35.142193Z"
    }
   },
   "outputs": [],
   "source": [
    "#mask = translate_lex.data.isin(['besonnte','überlegte'])\n",
    "#grid(translate_lex,mask)"
   ]
  },
  {
   "cell_type": "code",
   "execution_count": null,
   "id": "c29b25f7-bcb5-46fe-835b-d417e736d657",
   "metadata": {
    "execution": {
     "iopub.status.busy": "2023-02-25T13:48:35.142762Z",
     "iopub.status.idle": "2023-02-25T13:48:35.143043Z",
     "shell.execute_reply": "2023-02-25T13:48:35.142895Z",
     "shell.execute_reply.started": "2023-02-25T13:48:35.142883Z"
    }
   },
   "outputs": [],
   "source": [
    "#translate_lex_bak = translate_lex.copy()\n",
    "\n",
    "# rückgängig\n",
    "# translate_lex = translate_lex_bak.copy()"
   ]
  },
  {
   "cell_type": "code",
   "execution_count": null,
   "id": "ca207e60-bf86-4358-a52b-8153e17b25f5",
   "metadata": {
    "execution": {
     "iopub.status.busy": "2023-02-25T13:48:35.143494Z",
     "iopub.status.idle": "2023-02-25T13:48:35.143742Z",
     "shell.execute_reply": "2023-02-25T13:48:35.143627Z",
     "shell.execute_reply.started": "2023-02-25T13:48:35.143614Z"
    }
   },
   "outputs": [],
   "source": [
    "raise Stop"
   ]
  },
  {
   "cell_type": "markdown",
   "id": "6d64e438-fb40-4cb0-84e3-b7f949410d78",
   "metadata": {},
   "source": [
    "### Kontrolle wiktionary_merkmal (aus d01)\n",
    "* Diverse Kontrollen"
   ]
  },
  {
   "cell_type": "code",
   "execution_count": null,
   "id": "34a62712-f620-4cf3-8239-e7ace7c019f4",
   "metadata": {
    "execution": {
     "iopub.status.busy": "2023-02-25T13:48:35.144211Z",
     "iopub.status.idle": "2023-02-25T13:48:35.144459Z",
     "shell.execute_reply": "2023-02-25T13:48:35.144345Z",
     "shell.execute_reply.started": "2023-02-25T13:48:35.144332Z"
    },
    "tags": []
   },
   "outputs": [],
   "source": [
    "# plan_merkmal Steuertabelle neu erstellen\n",
    "try:\n",
    "    del plan_merkmal\n",
    "except:\n",
    "    pass\n",
    "\n",
    "from Steuertabellen.s01_Steuertabellen import *\n",
    "plan_merkmal = plan_merkmal_erstellen()\n",
    "#pak.sample(plan_merkmal)\n",
    "grid(plan_merkmal)"
   ]
  },
  {
   "cell_type": "code",
   "execution_count": null,
   "id": "ca0fb47e-ca0f-4e62-b929-c6838ce45a9c",
   "metadata": {
    "execution": {
     "iopub.status.busy": "2023-02-25T13:48:35.144905Z",
     "iopub.status.idle": "2023-02-25T13:48:35.145154Z",
     "shell.execute_reply": "2023-02-25T13:48:35.145040Z",
     "shell.execute_reply.started": "2023-02-25T13:48:35.145027Z"
    },
    "tags": []
   },
   "outputs": [],
   "source": [
    "# Merkmale lt. Steuertabelle und lt. Realität\n",
    "mask = (plan_merkmal.plan != 2)\n",
    "merkmale_plan = set(plan_merkmal[mask].merkmal)\n",
    "merkmale_data = set(wiktionary_merkmal.merkmal.unique())"
   ]
  },
  {
   "cell_type": "code",
   "execution_count": null,
   "id": "a2c76610-3707-4461-947d-6b2ebf21a158",
   "metadata": {
    "execution": {
     "iopub.status.busy": "2023-02-25T13:48:35.145601Z",
     "iopub.status.idle": "2023-02-25T13:48:35.145846Z",
     "shell.execute_reply": "2023-02-25T13:48:35.145732Z",
     "shell.execute_reply.started": "2023-02-25T13:48:35.145720Z"
    },
    "tags": []
   },
   "outputs": [],
   "source": [
    "# left_only:  Merkmale, die in er Realität nicht auftreten\n",
    "# right_only: Merkmale, die nicht geplant sind\n",
    "bpy.minivenn(merkmale_plan,merkmale_data,format='print2')"
   ]
  },
  {
   "cell_type": "code",
   "execution_count": null,
   "id": "afc27064-b7d4-4ff8-b42f-85efa0b4f069",
   "metadata": {
    "execution": {
     "iopub.status.busy": "2023-02-25T13:48:35.146353Z",
     "iopub.status.idle": "2023-02-25T13:48:35.146609Z",
     "shell.execute_reply": "2023-02-25T13:48:35.146492Z",
     "shell.execute_reply.started": "2023-02-25T13:48:35.146479Z"
    },
    "tags": []
   },
   "outputs": [],
   "source": [
    "# Fast alle in der Steuertabelle plan_merkmal erfassten Merkmale kommen in wiktionary_merkmal tatsächlich vor.\n",
    "ausnahmen = {'Gerundivum', 'Konj1', 'Imp', 'lemma', 'übersicht', 'down_part', 'Konj', 'Konj2', 'PTKVZ'}\n",
    "fehlende_merkmale = bpy.minivenn(merkmale_plan - ausnahmen,merkmale_data,format='dict')['left_only']\n",
    "assert len(fehlende_merkmale) == 0"
   ]
  },
  {
   "cell_type": "code",
   "execution_count": null,
   "id": "985d9a2f-c550-46bd-826b-da0863517da6",
   "metadata": {
    "execution": {
     "iopub.status.busy": "2023-02-25T13:48:35.155150Z",
     "iopub.status.idle": "2023-02-25T13:48:35.155523Z",
     "shell.execute_reply": "2023-02-25T13:48:35.155371Z",
     "shell.execute_reply.started": "2023-02-25T13:48:35.155356Z"
    },
    "tags": []
   },
   "outputs": [],
   "source": [
    "# Tauchen die Ausnahmen in wiktionary_merkmal_trash auf?\n",
    "# Sollten sie nicht.\n",
    "mask1 =  wiktionary_merkmal_trash.merkmal.isin(  ausnahmen - {'nurWortart'}  )\n",
    "mask2 = ~wiktionary_merkmal_trash.merkmal.isin(['übersicht'])\n",
    "mask = mask1  & mask2\n",
    "check_mask(wiktionary_merkmal_trash,mask,0)\n",
    "#wiktionary_merkmal_trash[mask]"
   ]
  },
  {
   "cell_type": "code",
   "execution_count": null,
   "id": "5a0bbe0e-7379-48d3-a882-16ea2a13fb69",
   "metadata": {
    "execution": {
     "iopub.status.busy": "2023-02-25T13:48:35.157406Z",
     "iopub.status.idle": "2023-02-25T13:48:35.158869Z",
     "shell.execute_reply": "2023-02-25T13:48:35.157614Z",
     "shell.execute_reply.started": "2023-02-25T13:48:35.157599Z"
    }
   },
   "outputs": [],
   "source": [
    "raise Stop"
   ]
  },
  {
   "cell_type": "code",
   "execution_count": null,
   "id": "e7e0a24e-aba3-40f7-8add-65d09d801bab",
   "metadata": {
    "execution": {
     "iopub.status.busy": "2023-02-25T13:48:35.159654Z",
     "iopub.status.idle": "2023-02-25T13:48:35.159972Z",
     "shell.execute_reply": "2023-02-25T13:48:35.159841Z",
     "shell.execute_reply.started": "2023-02-25T13:48:35.159826Z"
    },
    "tags": []
   },
   "outputs": [],
   "source": [
    "# TODO_TAGS_IN_MERKMALE\n",
    "bgc('orange')\n",
    "mask = wiktionary_merkmal.merkmal.isin({'VAFIN', 'VMFIN', 'VVIMP', 'VVIZU',})\n",
    "wiktionary_merkmal[mask]"
   ]
  },
  {
   "cell_type": "code",
   "execution_count": null,
   "id": "31a5dab9-52af-47b3-928d-76fdfb14b3c3",
   "metadata": {
    "execution": {
     "iopub.status.busy": "2023-02-25T13:48:35.160608Z",
     "iopub.status.idle": "2023-02-25T13:48:35.161067Z",
     "shell.execute_reply": "2023-02-25T13:48:35.160863Z",
     "shell.execute_reply.started": "2023-02-25T13:48:35.160840Z"
    },
    "tags": []
   },
   "outputs": [],
   "source": [
    "# alle Merkmale in wiktionary_merkmal sind in der Steuertabelle plan_merkmal erfasst\n",
    "ausnahmen = {'VAFIN', 'VMFIN', 'VVIMP', 'VVIZU', 'ADV'} ## TODO_TAGS_IN_MERKMALE eigentlich sollte es keine Ausnahmen geben!!\n",
    "unregistrierte_merkmale = bpy.minivenn(merkmale_plan,merkmale_data - ausnahmen,format='dict')['right_only']\n",
    "print(unregistrierte_merkmale)"
   ]
  },
  {
   "cell_type": "code",
   "execution_count": null,
   "id": "57d0a8ec-71ad-4c13-8958-b3eeeca79777",
   "metadata": {
    "execution": {
     "iopub.status.busy": "2023-02-25T13:48:35.161910Z",
     "iopub.status.idle": "2023-02-25T13:48:35.162379Z",
     "shell.execute_reply": "2023-02-25T13:48:35.162166Z",
     "shell.execute_reply.started": "2023-02-25T13:48:35.162145Z"
    },
    "tags": []
   },
   "outputs": [],
   "source": [
    "# Probleme anschauen\n",
    "mask = wiktionary_merkmal.merkmal.isin(unregistrierte_merkmale)\n",
    "grid(wiktionary_merkmal, mask, color='green')"
   ]
  },
  {
   "cell_type": "code",
   "execution_count": null,
   "id": "7fc15be6-6b72-4cef-bed0-e15f13e43872",
   "metadata": {
    "execution": {
     "iopub.status.busy": "2023-02-25T13:48:35.171242Z",
     "iopub.status.idle": "2023-02-25T13:48:35.171615Z",
     "shell.execute_reply": "2023-02-25T13:48:35.171462Z",
     "shell.execute_reply.started": "2023-02-25T13:48:35.171447Z"
    },
    "tags": []
   },
   "outputs": [],
   "source": [
    "#assert len(unregistrierte_merkmale) == 0"
   ]
  },
  {
   "cell_type": "code",
   "execution_count": null,
   "id": "b3e840e3-6df9-4872-915d-35f636b221b6",
   "metadata": {
    "execution": {
     "iopub.status.busy": "2023-02-25T13:48:35.172163Z",
     "iopub.status.idle": "2023-02-25T13:48:35.172419Z",
     "shell.execute_reply": "2023-02-25T13:48:35.172301Z",
     "shell.execute_reply.started": "2023-02-25T13:48:35.172288Z"
    },
    "tags": []
   },
   "outputs": [],
   "source": [
    "# TODO_unregistrierte_merkmale\n",
    "bgc('orange')\n",
    "mask = wiktionary_merkmal.merkmal.isin(unregistrierte_merkmale)\n",
    "grid(wiktionary_merkmal, mask, color='green')"
   ]
  },
  {
   "cell_type": "code",
   "execution_count": null,
   "id": "f41a19cc-ccfe-45d0-b423-0155ec0f069b",
   "metadata": {
    "execution": {
     "iopub.status.busy": "2023-02-25T13:48:35.172872Z",
     "iopub.status.idle": "2023-02-25T13:48:35.173119Z",
     "shell.execute_reply": "2023-02-25T13:48:35.173003Z",
     "shell.execute_reply.started": "2023-02-25T13:48:35.172990Z"
    },
    "tags": []
   },
   "outputs": [],
   "source": [
    "# Keine nan in data\n",
    "assert pak.nnan(wiktionary_merkmal.data) == 0"
   ]
  },
  {
   "cell_type": "code",
   "execution_count": null,
   "id": "bd60190b-1248-40be-b212-41f87c20e294",
   "metadata": {
    "execution": {
     "iopub.status.busy": "2023-02-25T13:48:35.173567Z",
     "iopub.status.idle": "2023-02-25T13:48:35.174058Z",
     "shell.execute_reply": "2023-02-25T13:48:35.173704Z",
     "shell.execute_reply.started": "2023-02-25T13:48:35.173691Z"
    },
    "tags": []
   },
   "outputs": [],
   "source": [
    "# Eindeutige Datentypen\n",
    "for col in wiktionary_merkmal.columns:\n",
    "    print(col)\n",
    "    if col == 'num':\n",
    "        continue\n",
    "    assert pak.ntypes(wiktionary_merkmal[col]) == 1"
   ]
  },
  {
   "cell_type": "code",
   "execution_count": null,
   "id": "a6b2da1d-7065-4fab-a56f-00a81a1bcfed",
   "metadata": {
    "execution": {
     "iopub.status.busy": "2023-02-25T13:48:35.174610Z",
     "iopub.status.idle": "2023-02-25T13:48:35.174880Z",
     "shell.execute_reply": "2023-02-25T13:48:35.174760Z",
     "shell.execute_reply.started": "2023-02-25T13:48:35.174746Z"
    },
    "tags": []
   },
   "outputs": [],
   "source": [
    "wiktionary_merkmal.shape"
   ]
  },
  {
   "cell_type": "markdown",
   "id": "aab3a9ff-aef4-4d14-addb-241c5858126b",
   "metadata": {},
   "source": [
    "## translate_lemma ==========\n",
    "* Datensätze aus translate_lex, deren IDs von Lemma zu Lemma zeigen\n",
    "* Aber keine Lemmas (also keine Verweise auf sich selbst)\n",
    "* Datensätze aus translate_abk"
   ]
  },
  {
   "cell_type": "code",
   "execution_count": null,
   "id": "00283d67-7aab-476f-8e5f-520ee889f896",
   "metadata": {
    "execution": {
     "iopub.status.busy": "2023-02-25T13:48:35.175496Z",
     "iopub.status.idle": "2023-02-25T13:48:35.175767Z",
     "shell.execute_reply": "2023-02-25T13:48:35.175646Z",
     "shell.execute_reply.started": "2023-02-25T13:48:35.175632Z"
    }
   },
   "outputs": [],
   "source": [
    "# Beispiel anzeigen\n",
    "mask = translate_lex.data == 'Ackermann'\n",
    "translate_lex[mask]"
   ]
  },
  {
   "cell_type": "code",
   "execution_count": null,
   "id": "ea01dc31-8145-4eba-925a-d162956cf244",
   "metadata": {
    "execution": {
     "iopub.status.busy": "2023-02-25T13:48:35.176236Z",
     "iopub.status.idle": "2023-02-25T13:48:35.176483Z",
     "shell.execute_reply": "2023-02-25T13:48:35.176367Z",
     "shell.execute_reply.started": "2023-02-25T13:48:35.176354Z"
    }
   },
   "outputs": [],
   "source": [
    "# translate_lemma erzeugen\n",
    "keine_lemmas = ['einen','beigen','Montage',]\n",
    "\n",
    "mask1 =  translate_lex.data_home == 'B'             # beides sind lemmas\n",
    "mask2 =  translate_lex.data != translate_lex.lemma  # sie sind verschieden\n",
    "mask3 = ~translate_lex.data.isin(keine_lemmas)      # gehören nicht zu den Ausnahmen\n",
    "mask4 = ~translate_lex.member.str.contains('Ptz1')  # kein Partizip1\n",
    "mask5 = ~translate_lex.member.str.contains('Ptz2')  # kein Partizip2\n",
    "mask = mask1  &  mask2  &  mask3  &  mask4  &  mask5\n",
    "check_mask(translate_lex,mask,57729)\n",
    "#grid(translate_lex,mask)\n",
    "translate_lex, translate_lemma = pak.move_rows(translate_lex,mask, msg=None)"
   ]
  },
  {
   "cell_type": "code",
   "execution_count": null,
   "id": "53bbc156-dc28-45a9-a2aa-950c6b68daf2",
   "metadata": {
    "execution": {
     "iopub.status.busy": "2023-02-25T13:48:35.176926Z",
     "iopub.status.idle": "2023-02-25T13:48:35.177189Z",
     "shell.execute_reply": "2023-02-25T13:48:35.177069Z",
     "shell.execute_reply.started": "2023-02-25T13:48:35.177055Z"
    }
   },
   "outputs": [],
   "source": [
    "pak.sample(translate_lemma)"
   ]
  },
  {
   "cell_type": "markdown",
   "id": "4ad20008-687c-4c07-b900-42e4602bc081",
   "metadata": {},
   "source": [
    "### translate_abk"
   ]
  },
  {
   "cell_type": "code",
   "execution_count": null,
   "id": "96e5741a-c907-4f2b-a888-66ada3538746",
   "metadata": {
    "execution": {
     "iopub.status.busy": "2023-02-25T13:48:35.177672Z",
     "iopub.status.idle": "2023-02-25T13:48:35.177923Z",
     "shell.execute_reply": "2023-02-25T13:48:35.177807Z",
     "shell.execute_reply.started": "2023-02-25T13:48:35.177794Z"
    }
   },
   "outputs": [],
   "source": [
    "# Alle Kurzformen sind in wiktionary_lemma\n",
    "mask_abk = wiktionary_lemma.member.str.contains('Abkürzung')\n",
    "\n",
    "mask = ~translate_abk.kurz_id.isin(wiktionary_lemma[mask_abk].lemma_id)\n",
    "check_mask(translate_abk,mask,0,50)\n",
    "\n",
    "msg = 'kurz_id inzwischen verwaist'\n",
    "translate_abk, translate_abk_trash = pak.move_rows( translate_abk, translate_abk_trash, mask, msg )\n",
    "grid(translate_abk_trash,msg)"
   ]
  },
  {
   "cell_type": "code",
   "execution_count": null,
   "id": "6efc3564-ca0f-4280-b4b0-a78744486496",
   "metadata": {
    "execution": {
     "iopub.status.busy": "2023-02-25T13:48:35.178362Z",
     "iopub.status.idle": "2023-02-25T13:48:35.178690Z",
     "shell.execute_reply": "2023-02-25T13:48:35.178493Z",
     "shell.execute_reply.started": "2023-02-25T13:48:35.178481Z"
    }
   },
   "outputs": [],
   "source": [
    "assert not pak.any_nan(translate_abk)"
   ]
  },
  {
   "cell_type": "code",
   "execution_count": null,
   "id": "b1f45698-6af6-43bb-8c7d-0c6af444fa7c",
   "metadata": {
    "execution": {
     "iopub.status.busy": "2023-02-25T13:48:35.187350Z",
     "iopub.status.idle": "2023-02-25T13:48:35.187722Z",
     "shell.execute_reply": "2023-02-25T13:48:35.187570Z",
     "shell.execute_reply.started": "2023-02-25T13:48:35.187555Z"
    }
   },
   "outputs": [],
   "source": [
    "# Umbenennungen. data und lemma sind nicht passende Bezeichnungen, aber pflege_translate_tabelle wünscht diese. \n",
    "# Wird später durch passendere ersetzt.\n",
    "spalten = ['kurz_id','lang_id','todo']\n",
    "df = translate_abk[spalten].copy()\n",
    "df = pak.rename_col(df, 'kurz_id', 'data_id')\n",
    "df = pak.rename_col(df, 'lang_id', 'lemma_id') \n",
    "df = pak.rename_col(df, 'todo', 'member') \n",
    "df['member'] = ('abk ' + df.member).str.strip()\n",
    "df.head(1)"
   ]
  },
  {
   "cell_type": "code",
   "execution_count": null,
   "id": "e5824567-57be-4595-92ca-bd1c71d38d5a",
   "metadata": {
    "execution": {
     "iopub.status.busy": "2023-02-25T13:48:35.188281Z",
     "iopub.status.idle": "2023-02-25T13:48:35.188539Z",
     "shell.execute_reply": "2023-02-25T13:48:35.188422Z",
     "shell.execute_reply.started": "2023-02-25T13:48:35.188408Z"
    }
   },
   "outputs": [],
   "source": [
    "# lang_id war kein Lemma >> translate_lex nachschlagen\n",
    "df['lemma_id_new'] = ''\n",
    "mask = ~df.lemma_id.isin(wiktionary_lemma.lemma_id)\n",
    "check_mask(df,mask,30)\n",
    "\n",
    "df.loc[mask] = pak.update_col( df[mask],          \n",
    "                               translate_lex,\n",
    "                               col_score='score', \n",
    "                               left_on='lemma_id',\n",
    "                               right_on='data_id',\n",
    "                               col='lemma_id',\n",
    "                               col_rename='lemma_id_new',\n",
    "                               \n",
    "                       )   \n",
    "\n",
    "mask = df.lemma_id_new != ''\n",
    "df.loc[mask,'lemma_id'] = df[mask].lemma_id_new\n",
    "\n",
    "df = pak.drop_cols(df, 'lemma_id_new')\n",
    "#df[mask]"
   ]
  },
  {
   "cell_type": "code",
   "execution_count": null,
   "id": "c81878a6-0db4-4ebb-91d6-8198f6332ade",
   "metadata": {
    "execution": {
     "iopub.status.busy": "2023-02-25T13:48:35.188992Z",
     "iopub.status.idle": "2023-02-25T13:48:35.189241Z",
     "shell.execute_reply": "2023-02-25T13:48:35.189126Z",
     "shell.execute_reply.started": "2023-02-25T13:48:35.189113Z"
    }
   },
   "outputs": [],
   "source": [
    "# Müll löschen\n",
    "löschmich = ['PLURV','PIMS','MRSA','EBRG','BodSchätzDB','ZÄPrO','SJZ','Mmes.','RÄ','GDPdU','E_570','E_163']\n",
    "mask = df.data_id.isin(löschmich)\n",
    "df = pak.drop_rows(df,mask)"
   ]
  },
  {
   "cell_type": "code",
   "execution_count": null,
   "id": "7a036a29-4a92-4ea7-b117-8051e4a4ef03",
   "metadata": {
    "execution": {
     "iopub.status.busy": "2023-02-25T13:48:35.189693Z",
     "iopub.status.idle": "2023-02-25T13:48:35.189940Z",
     "shell.execute_reply": "2023-02-25T13:48:35.189826Z",
     "shell.execute_reply.started": "2023-02-25T13:48:35.189814Z"
    }
   },
   "outputs": [],
   "source": [
    "# dups löschen\n",
    "mask = df.duplicated(subset=['data_id','lemma_id'])\n",
    "df = pak.drop_rows(df,mask)"
   ]
  },
  {
   "cell_type": "code",
   "execution_count": null,
   "id": "b3702b97-2cfa-4fd5-9b07-7c35daa10397",
   "metadata": {
    "execution": {
     "iopub.status.busy": "2023-02-25T13:48:35.190370Z",
     "iopub.status.idle": "2023-02-25T13:48:35.190615Z",
     "shell.execute_reply": "2023-02-25T13:48:35.190501Z",
     "shell.execute_reply.started": "2023-02-25T13:48:35.190488Z"
    }
   },
   "outputs": [],
   "source": [
    "assert not pak.any_nan(df)"
   ]
  },
  {
   "cell_type": "code",
   "execution_count": null,
   "id": "3421665c-49b1-4091-ab00-f5510afbcc35",
   "metadata": {
    "execution": {
     "iopub.status.busy": "2023-02-25T13:48:35.191103Z",
     "iopub.status.idle": "2023-02-25T13:48:35.191363Z",
     "shell.execute_reply": "2023-02-25T13:48:35.191246Z",
     "shell.execute_reply.started": "2023-02-25T13:48:35.191233Z"
    }
   },
   "outputs": [],
   "source": [
    "pak.nnan(df)"
   ]
  },
  {
   "cell_type": "code",
   "execution_count": null,
   "id": "5e9f5acd-2319-4fb3-82f5-fa445d660dc0",
   "metadata": {
    "execution": {
     "iopub.status.busy": "2023-02-25T13:48:35.191833Z",
     "iopub.status.idle": "2023-02-25T13:48:35.192085Z",
     "shell.execute_reply": "2023-02-25T13:48:35.191968Z",
     "shell.execute_reply.started": "2023-02-25T13:48:35.191955Z"
    }
   },
   "outputs": [],
   "source": [
    "# score wird später zu data_score\n",
    "df = pak.update_col(df,          \n",
    "                    wiktionary_lemma,\n",
    "                    left_on='data_id',\n",
    "                    right_on='lemma_id',\n",
    "                    col='score',\n",
    "                       )   "
   ]
  },
  {
   "cell_type": "code",
   "execution_count": null,
   "id": "25413a44-1ab4-42e0-b1e7-1bb8c6a36aab",
   "metadata": {
    "execution": {
     "iopub.status.busy": "2023-02-25T13:48:35.192554Z",
     "iopub.status.idle": "2023-02-25T13:48:35.192803Z",
     "shell.execute_reply": "2023-02-25T13:48:35.192687Z",
     "shell.execute_reply.started": "2023-02-25T13:48:35.192674Z"
    }
   },
   "outputs": [],
   "source": [
    "# pflege_translate_tabelle\n",
    "df = pflege_translate_tabelle(df, translate_tagZ, wiktionary_lemma, translate_lex )"
   ]
  },
  {
   "cell_type": "code",
   "execution_count": null,
   "id": "629a6b49-fd97-4306-bd04-699c4270f5e0",
   "metadata": {
    "execution": {
     "iopub.status.busy": "2023-02-25T13:48:35.193237Z",
     "iopub.status.idle": "2023-02-25T13:48:35.193486Z",
     "shell.execute_reply": "2023-02-25T13:48:35.193371Z",
     "shell.execute_reply.started": "2023-02-25T13:48:35.193358Z"
    }
   },
   "outputs": [],
   "source": [
    "# data_swaped: dächtest um >> umdächtest\n",
    "df['data_swaped'] = df.data.str.split()\n",
    "mask = df.data_swaped.str.len() == 2\n",
    "check_mask(df,mask)\n",
    "df.loc[ mask, 'data_swaped'] = df[mask].data_swaped.str[-1] + df[mask].data_swaped.str[0]\n",
    "df.loc[~mask, 'data_swaped'] = ''"
   ]
  },
  {
   "cell_type": "code",
   "execution_count": null,
   "id": "79a8cddc-9949-434c-8399-aa4b8b4d9fd6",
   "metadata": {
    "execution": {
     "iopub.status.busy": "2023-02-25T13:48:35.193931Z",
     "iopub.status.idle": "2023-02-25T13:48:35.194176Z",
     "shell.execute_reply": "2023-02-25T13:48:35.194063Z",
     "shell.execute_reply.started": "2023-02-25T13:48:35.194050Z"
    }
   },
   "outputs": [],
   "source": [
    "#pak.analyse_cols(df)"
   ]
  },
  {
   "cell_type": "code",
   "execution_count": null,
   "id": "1328aae8-197c-485e-bdeb-61eea607f819",
   "metadata": {
    "execution": {
     "iopub.status.busy": "2023-02-25T13:48:35.194619Z",
     "iopub.status.idle": "2023-02-25T13:48:35.194875Z",
     "shell.execute_reply": "2023-02-25T13:48:35.194752Z",
     "shell.execute_reply.started": "2023-02-25T13:48:35.194739Z"
    }
   },
   "outputs": [],
   "source": [
    "# apply analyse_stringdiff \n",
    "df['same_lexlemma']   = 0.0\n",
    "df = df.apply( analyse_stringdiff, axis=1 )"
   ]
  },
  {
   "cell_type": "code",
   "execution_count": null,
   "id": "0d3fc635-a9be-4a4a-876a-ea98cc342694",
   "metadata": {
    "execution": {
     "iopub.status.busy": "2023-02-25T13:48:35.201926Z",
     "iopub.status.idle": "2023-02-25T13:48:35.202245Z",
     "shell.execute_reply": "2023-02-25T13:48:35.202112Z",
     "shell.execute_reply.started": "2023-02-25T13:48:35.202096Z"
    }
   },
   "outputs": [],
   "source": [
    "# data_swaped wieder löschen\n",
    "df = pak.drop_cols(df,'data_swaped')"
   ]
  },
  {
   "cell_type": "code",
   "execution_count": null,
   "id": "8f863a41-353c-450a-9095-57dfb9364584",
   "metadata": {
    "execution": {
     "iopub.status.busy": "2023-02-25T13:48:35.202752Z",
     "iopub.status.idle": "2023-02-25T13:48:35.203043Z",
     "shell.execute_reply": "2023-02-25T13:48:35.202891Z",
     "shell.execute_reply.started": "2023-02-25T13:48:35.202877Z"
    }
   },
   "outputs": [],
   "source": [
    "# set_translate_lex_score\n",
    "df['score'] = 0\n",
    "df = set_translate_lex_score(df, lexeme_manuell)"
   ]
  },
  {
   "cell_type": "code",
   "execution_count": null,
   "id": "bf8a046a-b42e-42f6-a13a-490ec1f53e1f",
   "metadata": {
    "execution": {
     "iopub.status.busy": "2023-02-25T13:48:35.203537Z",
     "iopub.status.idle": "2023-02-25T13:48:35.203797Z",
     "shell.execute_reply": "2023-02-25T13:48:35.203679Z",
     "shell.execute_reply.started": "2023-02-25T13:48:35.203666Z"
    }
   },
   "outputs": [],
   "source": [
    "# data_tag\n",
    "df['data_tag'] = df.lemma_tag.copy()"
   ]
  },
  {
   "cell_type": "code",
   "execution_count": null,
   "id": "54adb7c5-0d9d-4213-8444-8cc70a4db8e0",
   "metadata": {
    "execution": {
     "iopub.status.busy": "2023-02-25T13:48:35.204258Z",
     "iopub.status.idle": "2023-02-25T13:48:35.204510Z",
     "shell.execute_reply": "2023-02-25T13:48:35.204394Z",
     "shell.execute_reply.started": "2023-02-25T13:48:35.204381Z"
    }
   },
   "outputs": [],
   "source": [
    "# Spaltenvergleich\n",
    "bpy.minivenn( df.columns, translate_lemma.columns, format='print2')"
   ]
  },
  {
   "cell_type": "code",
   "execution_count": null,
   "id": "e75b1f0b-e8fe-44d2-b82a-c7107ef817e5",
   "metadata": {
    "execution": {
     "iopub.status.busy": "2023-02-25T13:48:35.209395Z",
     "iopub.status.idle": "2023-02-25T13:48:35.209800Z",
     "shell.execute_reply": "2023-02-25T13:48:35.209644Z",
     "shell.execute_reply.started": "2023-02-25T13:48:35.209627Z"
    }
   },
   "outputs": [],
   "source": [
    "# add_rows\n",
    "translate_lemma = pak.add_rows(translate_lemma, df)"
   ]
  },
  {
   "cell_type": "code",
   "execution_count": null,
   "id": "b04f1713-6d4f-4319-8b5c-1d51d7bf1f7f",
   "metadata": {
    "execution": {
     "iopub.status.busy": "2023-02-25T13:48:35.210409Z",
     "iopub.status.idle": "2023-02-25T13:48:35.210686Z",
     "shell.execute_reply": "2023-02-25T13:48:35.210563Z",
     "shell.execute_reply.started": "2023-02-25T13:48:35.210549Z"
    }
   },
   "outputs": [],
   "source": [
    "# rename_col\n",
    "translate_lemma = pak.rename_col(translate_lemma, 'data_id',     'lem_id')\n",
    "translate_lemma = pak.rename_col(translate_lemma, 'data_home',   'lem_home')\n",
    "translate_lemma = pak.rename_col(translate_lemma, 'data',        'lem')\n",
    "translate_lemma = pak.rename_col(translate_lemma, 'data_score',  'lem_score')"
   ]
  },
  {
   "cell_type": "code",
   "execution_count": null,
   "id": "b2f1ab1d-4045-4cc7-abaa-1288645cecbd",
   "metadata": {
    "execution": {
     "iopub.status.busy": "2023-02-25T13:48:35.211186Z",
     "iopub.status.idle": "2023-02-25T13:48:35.211443Z",
     "shell.execute_reply": "2023-02-25T13:48:35.211325Z",
     "shell.execute_reply.started": "2023-02-25T13:48:35.211312Z"
    }
   },
   "outputs": [],
   "source": [
    "translate_lemma = pak.rename_col(translate_lemma, 'data_tag',  'lem_tag')\n",
    "translate_lemma = pak.rename_col(translate_lemma, 'data_tagZZ','lem_tagZZ')"
   ]
  },
  {
   "cell_type": "code",
   "execution_count": null,
   "id": "1098365b-7897-42a1-bb6f-504d7ef1cf1e",
   "metadata": {
    "execution": {
     "iopub.status.busy": "2023-02-25T13:48:35.211906Z",
     "iopub.status.idle": "2023-02-25T13:48:35.212155Z",
     "shell.execute_reply": "2023-02-25T13:48:35.212040Z",
     "shell.execute_reply.started": "2023-02-25T13:48:35.212027Z"
    }
   },
   "outputs": [],
   "source": [
    "grid(translate_lemma, pak.sample)"
   ]
  },
  {
   "cell_type": "code",
   "execution_count": null,
   "id": "e2a301cc-9a40-4c2b-bb98-60f0bae4d338",
   "metadata": {
    "execution": {
     "iopub.status.busy": "2023-02-25T13:48:35.212616Z",
     "iopub.status.idle": "2023-02-25T13:48:35.212867Z",
     "shell.execute_reply": "2023-02-25T13:48:35.212753Z",
     "shell.execute_reply.started": "2023-02-25T13:48:35.212739Z"
    }
   },
   "outputs": [],
   "source": [
    "# lem_tag\n",
    "translate_lemma = pak.update_col( translate_lemma,          \n",
    "                                  wiktionary_lemma,\n",
    "                                  left_on='lem_id',\n",
    "                                  right_on='lemma_id',\n",
    "                                  col='tag',\n",
    "                                  col_rename = 'lem_tag',\n",
    "                       )   \n",
    "\n",
    "translate_lemma = pak.update_col( translate_lemma,          \n",
    "                                  wiktionary_lemma,\n",
    "                                  left_on='lem_id',\n",
    "                                  right_on='lemma_id',\n",
    "                                  col='tagZZ',\n",
    "                                  col_rename = 'lem_tagZZ',\n",
    "                       )   \n",
    "\n",
    "translate_lemma['lem_tag']   = translate_lemma.lem_tag.fillna('')\n",
    "translate_lemma['lem_tagZZ'] = translate_lemma.lem_tagZZ.fillna('')\n",
    "#translate_lemma = pak.move_cols( translate_lemma, ['lem_tag','lem_tagZZ'],'lem')      "
   ]
  },
  {
   "cell_type": "markdown",
   "id": "167a2143-f942-4c96-aa08-8b155362865e",
   "metadata": {},
   "source": [
    "### belöschen"
   ]
  },
  {
   "cell_type": "code",
   "execution_count": null,
   "id": "4d04fd4c-7cb2-45a7-8a76-d11eff90e04e",
   "metadata": {
    "execution": {
     "iopub.status.busy": "2023-02-25T13:48:35.213305Z",
     "iopub.status.idle": "2023-02-25T13:48:35.213547Z",
     "shell.execute_reply": "2023-02-25T13:48:35.213435Z",
     "shell.execute_reply.started": "2023-02-25T13:48:35.213422Z"
    }
   },
   "outputs": [],
   "source": [
    "# translate_lemma_trash\n",
    "translate_lemma_trash = translate_lemma.head(0)\n",
    "translate_lemma_trash['msg'] = ''"
   ]
  },
  {
   "cell_type": "code",
   "execution_count": null,
   "id": "44fd3565-13a9-4274-8c91-1fc79ca07435",
   "metadata": {
    "execution": {
     "iopub.status.busy": "2023-02-25T13:48:35.213994Z",
     "iopub.status.idle": "2023-02-25T13:48:35.214252Z",
     "shell.execute_reply": "2023-02-25T13:48:35.214128Z",
     "shell.execute_reply.started": "2023-02-25T13:48:35.214116Z"
    }
   },
   "outputs": [],
   "source": [
    "a = pak.analyse_freqs(translate_lemma,['lemma','lem'])\n",
    "grid(a)"
   ]
  },
  {
   "cell_type": "code",
   "execution_count": null,
   "id": "023e9aa1-3ffc-447f-8e9d-09567c9b6fe2",
   "metadata": {
    "execution": {
     "iopub.status.busy": "2023-02-25T13:48:35.214688Z",
     "iopub.status.idle": "2023-02-25T13:48:35.219421Z",
     "shell.execute_reply": "2023-02-25T13:48:35.214820Z",
     "shell.execute_reply.started": "2023-02-25T13:48:35.214808Z"
    }
   },
   "outputs": [],
   "source": [
    "#translate_lemma"
   ]
  },
  {
   "cell_type": "code",
   "execution_count": null,
   "id": "874a6ad9-d786-4e80-b3ae-67ddfff41634",
   "metadata": {
    "execution": {
     "iopub.status.busy": "2023-02-25T13:48:35.220173Z",
     "iopub.status.idle": "2023-02-25T13:48:35.220466Z",
     "shell.execute_reply": "2023-02-25T13:48:35.220343Z",
     "shell.execute_reply.started": "2023-02-25T13:48:35.220328Z"
    }
   },
   "outputs": [],
   "source": [
    "# aussortiert1\n",
    "erlaubt = ['H2O','CAD','CH','GAU','DIN','UN','UNO','LCD','IGS','2D','3D','4D','ISP','IR','DRK','MPU','OOP','ÖPNV','° C','°C','HDTV','° F','°F']\n",
    "mask1 =  translate_lemma['same_lexlemma'] < 0.3\n",
    "mask2 =  translate_lemma.lem.str[0] != translate_lemma.lemma.str[0]\n",
    "mask3 =  translate_lemma.lem.str.len() <= 4\n",
    "mask4 =  translate_lemma.lem.str.isupper()\n",
    "mask5 = ~translate_lemma.lem.isin(erlaubt)\n",
    "mask = mask1  &  mask2  &  mask3  &  mask4  &  mask5\n",
    "check_mask(translate_lemma,mask,0,215)\n",
    "\n",
    "msg = 'aussortiert1'\n",
    "translate_lemma, translate_lemma_trash = pak.move_rows( translate_lemma, translate_lemma_trash, mask, msg)\n",
    "grid(translate_lemma_trash,msg)"
   ]
  },
  {
   "cell_type": "code",
   "execution_count": null,
   "id": "0eb8accf-88a7-4c4b-b62f-e152c1e1e1b1",
   "metadata": {
    "execution": {
     "iopub.status.busy": "2023-02-25T13:48:35.220936Z",
     "iopub.status.idle": "2023-02-25T13:48:35.221185Z",
     "shell.execute_reply": "2023-02-25T13:48:35.221070Z",
     "shell.execute_reply.started": "2023-02-25T13:48:35.221057Z"
    }
   },
   "outputs": [],
   "source": [
    "# aussortiert2\n",
    "# \n",
    "\n",
    "löschmich = ['-','Hag','DrIng','Deik','Fritsch','Frerk', 'Fricke','nomen nominandum',\n",
    "             'wullacken','Diastema mediale','BM', 'JO', 'NB',\n",
    "             'Rosch ha-Schana','Wiktionary','Fuzo', 'Fuzo.',\n",
    "             'Intern', 'Intern.', 'iNet', 'iNet.', 'ZUM', 'ut supra','Art', 'GSSD', \n",
    "             'Met','DE', 'DFV', 'DHB', 'DSV','AN', 'AS', 'AUR','GVBl', 'GWB', 'GenG', 'Ges',\n",
    "             'BKG', 'BVT', 'BfN', 'BfS','ritenuto','Folio','Aserbaidschan-Manat',\n",
    "             'sensu lato','nes.','ceterum censeo',\n",
    "             'pro rata','GGVS','IRPA','Tau','ABC',\n",
    "             'ISA','DOS','ABF','ÖFB','VOC','KPÖ','IN','ZIF','PVP','BDO','g. e.','AUT','EUV',\n",
    "            ]\n",
    "behalten  = ['nen','ne','nes', 'geeint','einend', ]\n",
    "mask1A =  translate_lemma.lem.isin(löschmich)\n",
    "mask1B =  translate_lemma.lemma.isin(löschmich)\n",
    "mask2  = ~translate_lemma.lem.isin(behalten)\n",
    "mask = (mask1A | mask1B)  &  mask2\n",
    "check_mask(translate_lemma,mask,150)\n",
    "\n",
    "msg = 'aussortiert2'\n",
    "translate_lemma, translate_lemma_trash = pak.move_rows( translate_lemma, translate_lemma_trash, mask, msg)\n",
    "grid(translate_lemma_trash,msg)"
   ]
  },
  {
   "cell_type": "code",
   "execution_count": null,
   "id": "8261e712-0b9e-4546-bdd7-0b1d73bffad5",
   "metadata": {
    "execution": {
     "iopub.status.busy": "2023-02-25T13:48:35.221655Z",
     "iopub.status.idle": "2023-02-25T13:48:35.221909Z",
     "shell.execute_reply": "2023-02-25T13:48:35.221791Z",
     "shell.execute_reply.started": "2023-02-25T13:48:35.221779Z"
    }
   },
   "outputs": [],
   "source": [
    "# unabhängige_lexeme\n",
    "\n",
    "unabhängige_lexeme  = ['Alu','ALU','Arbeitslosenunterstützung','CO2', 'CO₂','chemisch','USK','vergl', 'verglasen','vergl.','24/7','Stunde','Schriftwerk','Buch','und','E 962','Verbindung',\n",
    "                       'km/h','Kilometer','weiblich','männlich','Elefant','frühneuhochdeutsch','sein','Disko','modern','tun','Handlung',\n",
    "                      ]\n",
    "mask1 = translate_lemma.lem.isin(unabhängige_lexeme)\n",
    "mask2 = translate_lemma.lemma.isin(unabhängige_lexeme)\n",
    "mask = mask1  &  mask2\n",
    "check_mask(translate_lemma,mask,17)\n",
    "\n",
    "msg = 'unabhängige_lexeme'\n",
    "translate_lemma, translate_lemma_trash = pak.move_rows( translate_lemma, translate_lemma_trash, mask, msg)\n",
    "grid(translate_lemma_trash,msg)"
   ]
  },
  {
   "cell_type": "code",
   "execution_count": null,
   "id": "8fdf1b3c-7756-4135-a671-48bb45534547",
   "metadata": {
    "execution": {
     "iopub.status.busy": "2023-02-25T13:48:35.222365Z",
     "iopub.status.idle": "2023-02-25T13:48:35.222610Z",
     "shell.execute_reply": "2023-02-25T13:48:35.222495Z",
     "shell.execute_reply.started": "2023-02-25T13:48:35.222483Z"
    }
   },
   "outputs": [],
   "source": [
    "# Mögliche Probleme\n",
    "# \n",
    "spalten = ['lem','lemma','member','lemma_score']\n",
    "mask1 =  translate_lemma['same_lexlemma'] < 0.3\n",
    "mask2 = translate_lemma.lem.str[0] != translate_lemma.lemma.str[0]\n",
    "mask = mask1  &  mask2\n",
    "a = translate_lemma[mask][spalten].sort_values(['lemma_score'], ascending=[False])\n",
    "grid(a)"
   ]
  },
  {
   "cell_type": "code",
   "execution_count": null,
   "id": "6b5c8c1b-28cf-4fc1-9cd3-b17f64f85076",
   "metadata": {
    "execution": {
     "iopub.status.busy": "2023-02-25T13:48:35.225752Z",
     "iopub.status.idle": "2023-02-25T13:48:35.226361Z",
     "shell.execute_reply": "2023-02-25T13:48:35.226115Z",
     "shell.execute_reply.started": "2023-02-25T13:48:35.226083Z"
    }
   },
   "outputs": [],
   "source": [
    "# lem_tag übertragen, falls nötig\n",
    "mask = translate_lemma.lem_tag.isnull()\n",
    "check_mask(translate_lemma,mask,0,10)\n",
    "\n",
    "translate_lemma.loc[mask,'lem_tag']   = translate_lemma[mask].lemma_tag\n",
    "translate_lemma.loc[mask,'lem_tagZZ'] = translate_lemma[mask].lemma_tagZZ"
   ]
  },
  {
   "cell_type": "code",
   "execution_count": null,
   "id": "927e11f9-647f-49a2-8495-34df2e9170e4",
   "metadata": {
    "execution": {
     "iopub.status.busy": "2023-02-25T13:48:35.231638Z",
     "iopub.status.idle": "2023-02-25T13:48:35.231960Z",
     "shell.execute_reply": "2023-02-25T13:48:35.231828Z",
     "shell.execute_reply.started": "2023-02-25T13:48:35.231814Z"
    }
   },
   "outputs": [],
   "source": [
    "# alle getaggt\n",
    "maskA = translate_lemma.lem_tag == ''\n",
    "maskB = translate_lemma.lem_tagZZ == ''\n",
    "mask = maskA | maskB\n",
    "check_mask(translate_lemma,mask,0)"
   ]
  },
  {
   "cell_type": "code",
   "execution_count": null,
   "id": "ca2dca32-470d-4479-a293-a6b5ac225978",
   "metadata": {
    "execution": {
     "iopub.status.busy": "2023-02-25T13:48:35.232420Z",
     "iopub.status.idle": "2023-02-25T13:48:35.232672Z",
     "shell.execute_reply": "2023-02-25T13:48:35.232555Z",
     "shell.execute_reply.started": "2023-02-25T13:48:35.232542Z"
    }
   },
   "outputs": [],
   "source": [
    "mask = translate_lemma.isna().any(axis=1)\n",
    "translate_lemma[mask]"
   ]
  },
  {
   "cell_type": "code",
   "execution_count": null,
   "id": "34dccbe2-20b7-4dee-8ca6-4af67c81dfa6",
   "metadata": {
    "execution": {
     "iopub.status.busy": "2023-02-25T13:48:35.233127Z",
     "iopub.status.idle": "2023-02-25T13:48:35.233446Z",
     "shell.execute_reply": "2023-02-25T13:48:35.233261Z",
     "shell.execute_reply.started": "2023-02-25T13:48:35.233249Z"
    }
   },
   "outputs": [],
   "source": [
    "#assert not pak.any_nan(translate_lemma)\n",
    "pak.nnan(translate_lemma)"
   ]
  },
  {
   "cell_type": "code",
   "execution_count": null,
   "id": "72b220d0-c58f-49c3-86d7-3b2822b70447",
   "metadata": {
    "execution": {
     "iopub.status.busy": "2023-02-25T13:48:35.233905Z",
     "iopub.status.idle": "2023-02-25T13:48:35.234161Z",
     "shell.execute_reply": "2023-02-25T13:48:35.234043Z",
     "shell.execute_reply.started": "2023-02-25T13:48:35.234029Z"
    }
   },
   "outputs": [],
   "source": [
    "pak.sample(translate_lemma)"
   ]
  },
  {
   "cell_type": "markdown",
   "id": "f2b7b1f0-91ea-4f9b-9f11-3952df6757e4",
   "metadata": {},
   "source": [
    "## wiktionary_merkmal_text =========="
   ]
  },
  {
   "cell_type": "code",
   "execution_count": null,
   "id": "114ebb65-2183-4dc5-bf36-caa650b1372b",
   "metadata": {
    "execution": {
     "iopub.status.busy": "2023-02-25T13:48:35.240071Z",
     "iopub.status.idle": "2023-02-25T13:48:35.240477Z",
     "shell.execute_reply": "2023-02-25T13:48:35.240318Z",
     "shell.execute_reply.started": "2023-02-25T13:48:35.240303Z"
    }
   },
   "outputs": [],
   "source": [
    "# lemma übertragen\n",
    "assert not pak.any_nan(wiktionary_lemma, without=['page_id','page_part','data_id',])\n",
    "wiktionary_merkmal_text = pak.update_col( wiktionary_merkmal_text, wiktionary_lemma, on='section_id2', col='lemma'  )"
   ]
  },
  {
   "cell_type": "code",
   "execution_count": null,
   "id": "35843645-bd52-48a3-a089-7ac4943fcd60",
   "metadata": {
    "execution": {
     "iopub.status.busy": "2023-02-25T13:48:35.241083Z",
     "iopub.status.idle": "2023-02-25T13:48:35.241361Z",
     "shell.execute_reply": "2023-02-25T13:48:35.241237Z",
     "shell.execute_reply.started": "2023-02-25T13:48:35.241223Z"
    }
   },
   "outputs": [],
   "source": [
    "# verwaise_section_id2 finden\n",
    "mask = wiktionary_merkmal_text.lemma.isnull()\n",
    "verwaise_section_id2 = wiktionary_merkmal_text[mask].section_id2.drop_duplicates()\n",
    "verwaise_section_id2"
   ]
  },
  {
   "cell_type": "code",
   "execution_count": null,
   "id": "ef45a06c-9968-4d56-b3e9-e309d803b59c",
   "metadata": {
    "execution": {
     "iopub.status.busy": "2023-02-25T13:48:35.241839Z",
     "iopub.status.idle": "2023-02-25T13:48:35.242092Z",
     "shell.execute_reply": "2023-02-25T13:48:35.241976Z",
     "shell.execute_reply.started": "2023-02-25T13:48:35.241962Z"
    }
   },
   "outputs": [],
   "source": [
    "bgc('orange') ## TODO_verwaiste_lemmas\n",
    "mask1 =  wiktionary_merkmal_text.section_id2.isin(verwaise_section_id2)\n",
    "mask2 = ~wiktionary_merkmal_text.section_id2.isin(wiktionary_trash.section_id2)\n",
    "mask = mask1  &  mask2\n",
    "grid(wiktionary_merkmal_text[mask].sort_values('section_id2'))"
   ]
  },
  {
   "cell_type": "code",
   "execution_count": null,
   "id": "f2c35d60-601a-4a40-a084-16ae23db5bda",
   "metadata": {
    "execution": {
     "iopub.status.busy": "2023-02-25T13:48:35.242557Z",
     "iopub.status.idle": "2023-02-25T13:48:35.242817Z",
     "shell.execute_reply": "2023-02-25T13:48:35.242697Z",
     "shell.execute_reply.started": "2023-02-25T13:48:35.242684Z"
    }
   },
   "outputs": [],
   "source": [
    "# verwaiste Datensätze anschauen\n",
    "mask = wiktionary_merkmal_text.lemma.isnull()\n",
    "grid(wiktionary_merkmal_text,mask)"
   ]
  },
  {
   "cell_type": "code",
   "execution_count": null,
   "id": "23ddb5ca-0739-4a2e-97e5-3f333cf026b8",
   "metadata": {
    "execution": {
     "iopub.status.busy": "2023-02-25T13:48:35.243370Z",
     "iopub.status.idle": "2023-02-25T13:48:35.243640Z",
     "shell.execute_reply": "2023-02-25T13:48:35.243517Z",
     "shell.execute_reply.started": "2023-02-25T13:48:35.243504Z"
    }
   },
   "outputs": [],
   "source": [
    "raise Stop"
   ]
  },
  {
   "cell_type": "code",
   "execution_count": null,
   "id": "a3a0aca6-13b9-4793-9b97-e446ebd7d0f0",
   "metadata": {
    "execution": {
     "iopub.status.busy": "2023-02-25T13:48:35.244114Z",
     "iopub.status.idle": "2023-02-25T13:48:35.244373Z",
     "shell.execute_reply": "2023-02-25T13:48:35.244253Z",
     "shell.execute_reply.started": "2023-02-25T13:48:35.244240Z"
    },
    "tags": []
   },
   "outputs": [],
   "source": [
    "# verwaiste Datensätze löschen\n",
    "mask = wiktionary_merkmal_text.lemma.isnull()\n",
    "check_mask(wiktionary_merkmal_text,mask,1217)\n",
    "wiktionary_merkmal_text = pak.drop_rows(wiktionary_merkmal_text,mask)"
   ]
  },
  {
   "cell_type": "code",
   "execution_count": null,
   "id": "8110b8f4-d801-4d4c-96c2-649039acb6d8",
   "metadata": {
    "execution": {
     "iopub.status.busy": "2023-02-25T13:48:35.244841Z",
     "iopub.status.idle": "2023-02-25T13:48:35.245119Z",
     "shell.execute_reply": "2023-02-25T13:48:35.244993Z",
     "shell.execute_reply.started": "2023-02-25T13:48:35.244979Z"
    }
   },
   "outputs": [],
   "source": [
    "# suche_debug\n",
    "\n",
    "mask = wiktionary_merkmal_text.lemma_id.isin(suche_debug)\n",
    "grid(wiktionary_merkmal_text,mask)\n",
    "#wiktionary_lemma[mask].lemma"
   ]
  },
  {
   "cell_type": "code",
   "execution_count": null,
   "id": "a74f77a3-99c4-45aa-9c2b-764599ca57b0",
   "metadata": {
    "execution": {
     "iopub.status.busy": "2023-02-25T13:48:35.245617Z",
     "iopub.status.idle": "2023-02-25T13:48:35.245887Z",
     "shell.execute_reply": "2023-02-25T13:48:35.245764Z",
     "shell.execute_reply.started": "2023-02-25T13:48:35.245751Z"
    }
   },
   "outputs": [],
   "source": [
    "# Striche entfernen, auch in wiktionary_merkmal_text\n",
    "mask1 = wiktionary_merkmal_text.data.str.count(\"\\'\") > 1\n",
    "mask2 = wiktionary_merkmal_text.merkmal.isin(['def','abk']) \n",
    "mask  =  mask1  &  mask2 \n",
    "check_mask(wiktionary_merkmal_text,mask,2290)\n",
    "wiktionary_merkmal_text.loc[mask,'data'] = wiktionary_merkmal_text[mask].data.str.replace(\"'\", '')\n",
    "#grid( wiktionary_merkmal_text, mask )"
   ]
  },
  {
   "cell_type": "code",
   "execution_count": null,
   "id": "f447d996-ddc2-4422-9bf5-46da09de242b",
   "metadata": {
    "execution": {
     "iopub.status.busy": "2023-02-25T13:48:35.246362Z",
     "iopub.status.idle": "2023-02-25T13:48:35.246618Z",
     "shell.execute_reply": "2023-02-25T13:48:35.246501Z",
     "shell.execute_reply.started": "2023-02-25T13:48:35.246487Z"
    }
   },
   "outputs": [],
   "source": [
    "# not any_nan\n",
    "#wiktionary_merkmal_text['merkmal_order2'] = wiktionary_merkmal_text.merkmal_order2.fillna(0) \n",
    "assert not pak.any_nan(wiktionary_merkmal_text)\n",
    "#pak.analyse_cols(wiktionary_merkmal_text)"
   ]
  },
  {
   "cell_type": "code",
   "execution_count": null,
   "id": "abc85ab9-11b0-41d4-8b7d-89241b3bf47c",
   "metadata": {
    "execution": {
     "iopub.status.busy": "2023-02-25T13:48:35.255302Z",
     "iopub.status.idle": "2023-02-25T13:48:35.255706Z",
     "shell.execute_reply": "2023-02-25T13:48:35.255540Z",
     "shell.execute_reply.started": "2023-02-25T13:48:35.255524Z"
    }
   },
   "outputs": [],
   "source": [
    "# Verwaiste löschen\n",
    "mask = ~wiktionary_merkmal_text.lemma_id.isin(wiktionary_lemma.lemma_id)\n",
    "check_mask(wiktionary_merkmal_text,mask,8263)\n",
    "#grid(wiktionary_merkmal_text,mask)\n",
    "wiktionary_merkmal_text = pak.drop_rows(wiktionary_merkmal_text,mask)"
   ]
  },
  {
   "cell_type": "code",
   "execution_count": null,
   "id": "e4ee7842-945a-4e68-a533-dc0fb15c3e2a",
   "metadata": {
    "execution": {
     "iopub.status.busy": "2023-02-25T13:48:35.256319Z",
     "iopub.status.idle": "2023-02-25T13:48:35.258054Z",
     "shell.execute_reply": "2023-02-25T13:48:35.257869Z",
     "shell.execute_reply.started": "2023-02-25T13:48:35.257841Z"
    }
   },
   "outputs": [],
   "source": [
    "# lemma übertragen\n",
    "wiktionary_merkmal_text = pak.update_col( wiktionary_merkmal_text, wiktionary_lemma, on='lemma_id', col='lemma'  )"
   ]
  },
  {
   "cell_type": "code",
   "execution_count": null,
   "id": "0d5cb7b8-4171-4421-ae1a-821f4f49e4d5",
   "metadata": {
    "execution": {
     "iopub.status.busy": "2023-02-25T13:48:35.260097Z",
     "iopub.status.idle": "2023-02-25T13:48:35.260496Z",
     "shell.execute_reply": "2023-02-25T13:48:35.260332Z",
     "shell.execute_reply.started": "2023-02-25T13:48:35.260317Z"
    }
   },
   "outputs": [],
   "source": [
    "# meta == lemma\n",
    "mask = wiktionary_merkmal_text.meta == wiktionary_merkmal_text.lemma\n",
    "check_mask(wiktionary_merkmal_text,mask,204089)\n",
    "\n",
    "wiktionary_merkmal_text.loc[mask,'meta'] = ''"
   ]
  },
  {
   "cell_type": "code",
   "execution_count": null,
   "id": "1eb9718c-2162-4bf2-9efe-fa5298cfadd2",
   "metadata": {
    "execution": {
     "iopub.status.busy": "2023-02-25T13:48:35.261136Z",
     "iopub.status.idle": "2023-02-25T13:48:35.261440Z",
     "shell.execute_reply": "2023-02-25T13:48:35.261309Z",
     "shell.execute_reply.started": "2023-02-25T13:48:35.261295Z"
    }
   },
   "outputs": [],
   "source": [
    "# data leer\n",
    "mask = wiktionary_merkmal_text.data == ''\n",
    "check_mask(wiktionary_merkmal_text,mask,27)\n",
    "\n",
    "wiktionary_merkmal_text = pak.drop_rows(wiktionary_merkmal_text,mask)"
   ]
  },
  {
   "cell_type": "code",
   "execution_count": null,
   "id": "4f32a7ce-00e2-448b-a2e2-2dce62da809a",
   "metadata": {
    "execution": {
     "iopub.status.busy": "2023-02-25T13:48:35.262112Z",
     "iopub.status.idle": "2023-02-25T13:48:35.262470Z",
     "shell.execute_reply": "2023-02-25T13:48:35.262322Z",
     "shell.execute_reply.started": "2023-02-25T13:48:35.262306Z"
    }
   },
   "outputs": [],
   "source": [
    "# suche_debug\n",
    "mask = wiktionary_merkmal_text.lemma.isin(suche_debug)\n",
    "grid(wiktionary_merkmal_text,mask)\n",
    "#wiktionary_lemma[mask].lemma"
   ]
  },
  {
   "cell_type": "code",
   "execution_count": null,
   "id": "96283520-3080-4518-9459-2566ecd12cd3",
   "metadata": {
    "execution": {
     "iopub.status.busy": "2023-02-25T13:48:35.263243Z",
     "iopub.status.idle": "2023-02-25T13:48:35.263763Z",
     "shell.execute_reply": "2023-02-25T13:48:35.263428Z",
     "shell.execute_reply.started": "2023-02-25T13:48:35.263413Z"
    }
   },
   "outputs": [],
   "source": [
    "#a = pak.analyse_cols(wiktionary_merkmal_text)\n",
    "#(a)"
   ]
  },
  {
   "cell_type": "code",
   "execution_count": null,
   "id": "d7e4a1ff-13ca-483e-a611-9db0eee83cef",
   "metadata": {
    "execution": {
     "iopub.status.busy": "2023-02-25T13:48:35.264553Z",
     "iopub.status.idle": "2023-02-25T13:48:35.264890Z",
     "shell.execute_reply": "2023-02-25T13:48:35.264725Z",
     "shell.execute_reply.started": "2023-02-25T13:48:35.264711Z"
    }
   },
   "outputs": [],
   "source": [
    "# Was ist drin?\n",
    "a = pak.analyse_freqs(wiktionary_merkmal_text,['merkmal','data'] )\n",
    "grid(a)"
   ]
  },
  {
   "cell_type": "code",
   "execution_count": null,
   "id": "7f21ea98-6ab2-410a-bbce-f05f8b14821a",
   "metadata": {
    "execution": {
     "iopub.status.busy": "2023-02-25T13:48:35.265804Z",
     "iopub.status.idle": "2023-02-25T13:48:35.267033Z",
     "shell.execute_reply": "2023-02-25T13:48:35.266493Z",
     "shell.execute_reply.started": "2023-02-25T13:48:35.266462Z"
    }
   },
   "outputs": [],
   "source": [
    "# TODO\n",
    "mask1 = wiktionary_merkmal_text.merkmal == 'bsp_re'\n",
    "mask2 = wiktionary_merkmal_text.data.str.contains('-')\n",
    "mask  = mask1  &  mask2\n",
    "grid( wiktionary_merkmal_text, mask )"
   ]
  },
  {
   "cell_type": "markdown",
   "id": "bcf67894-55f5-40d1-9120-552544660075",
   "metadata": {},
   "source": [
    "## wiktionary_lemma ====="
   ]
  },
  {
   "cell_type": "code",
   "execution_count": null,
   "id": "4c9a210c-39fc-44b8-a264-8c1f5535e8b0",
   "metadata": {
    "execution": {
     "iopub.status.busy": "2023-02-25T13:48:35.268121Z",
     "iopub.status.idle": "2023-02-25T13:48:35.268640Z",
     "shell.execute_reply": "2023-02-25T13:48:35.268414Z",
     "shell.execute_reply.started": "2023-02-25T13:48:35.268391Z"
    }
   },
   "outputs": [],
   "source": [
    "# Anzahl der Lexeme untersuchen\n",
    "\n",
    "mask = wiktionary_merkmal.is_lex == True\n",
    "count_lex = pak.group_and_agg(wiktionary_merkmal[mask], \n",
    "              ['lemma_id', 'data' ],\n",
    "              ['group',    'count'],\n",
    "              ['',         'lex_anz'   ],                              \n",
    "             )\n",
    "\n",
    "# eintragen\n",
    "wiktionary_lemma['lex_anz'] = 0\n",
    "wiktionary_lemma = pak.update_col(wiktionary_lemma, count_lex, on='lemma_id', col='lex_anz')"
   ]
  },
  {
   "cell_type": "code",
   "execution_count": null,
   "id": "18e19939-f444-4694-aa42-767038b1c30f",
   "metadata": {
    "execution": {
     "iopub.status.busy": "2023-02-25T13:48:35.269822Z",
     "iopub.status.idle": "2023-02-25T13:48:35.270402Z",
     "shell.execute_reply": "2023-02-25T13:48:35.270231Z",
     "shell.execute_reply.started": "2023-02-25T13:48:35.270211Z"
    }
   },
   "outputs": [],
   "source": [
    "# Anzahl der Nichtlexeme untersuchen\n",
    "\n",
    "mask = wiktionary_merkmal.is_lex == False\n",
    "count_lex = pak.group_and_agg(wiktionary_merkmal[mask], \n",
    "              ['lemma_id', 'data' ],\n",
    "              ['group',    'count'],\n",
    "              ['',         'nolex_anz'   ],                              \n",
    "             )\n",
    "\n",
    "# eintragen\n",
    "wiktionary_lemma['nolex_anz'] = 0\n",
    "wiktionary_lemma = pak.update_col(wiktionary_lemma, count_lex, on='lemma_id', col='nolex_anz')"
   ]
  },
  {
   "cell_type": "code",
   "execution_count": null,
   "id": "68adf4cd-ee1e-4fb5-b225-26705a13f9f9",
   "metadata": {
    "execution": {
     "iopub.status.busy": "2023-02-25T13:48:35.271062Z",
     "iopub.status.idle": "2023-02-25T13:48:35.271640Z",
     "shell.execute_reply": "2023-02-25T13:48:35.271243Z",
     "shell.execute_reply.started": "2023-02-25T13:48:35.271227Z"
    }
   },
   "outputs": [],
   "source": [
    "# Dups\n",
    "mask = wiktionary_lemma.duplicated(subset='lemma_id', keep=False)\n",
    "grid(wiktionary_lemma,mask, color='green')"
   ]
  },
  {
   "cell_type": "code",
   "execution_count": null,
   "id": "0f485622-ef38-48c5-b67f-ca7bbaed1122",
   "metadata": {
    "execution": {
     "iopub.status.busy": "2023-02-25T13:48:35.272556Z",
     "iopub.status.idle": "2023-02-25T13:48:35.273141Z",
     "shell.execute_reply": "2023-02-25T13:48:35.272924Z",
     "shell.execute_reply.started": "2023-02-25T13:48:35.272898Z"
    }
   },
   "outputs": [],
   "source": [
    "raise Stop"
   ]
  },
  {
   "cell_type": "code",
   "execution_count": null,
   "id": "54a14f92-8614-4088-9b9c-62e97084ebc6",
   "metadata": {
    "execution": {
     "iopub.status.busy": "2023-02-25T13:48:35.274283Z",
     "iopub.status.idle": "2023-02-25T13:48:35.275246Z",
     "shell.execute_reply": "2023-02-25T13:48:35.275052Z",
     "shell.execute_reply.started": "2023-02-25T13:48:35.274601Z"
    }
   },
   "outputs": [],
   "source": [
    "member überprüfen wie in d01"
   ]
  },
  {
   "cell_type": "markdown",
   "id": "077ef04f-e9a1-4d19-a40f-1f53c6d1c374",
   "metadata": {},
   "source": [
    "## wiktionary_merkmal =========="
   ]
  },
  {
   "cell_type": "code",
   "execution_count": null,
   "id": "851ab6e7-125f-41d4-96cf-8e5156d53a8b",
   "metadata": {
    "execution": {
     "iopub.status.busy": "2023-02-25T13:48:35.275874Z",
     "iopub.status.idle": "2023-02-25T13:48:35.276179Z",
     "shell.execute_reply": "2023-02-25T13:48:35.276048Z",
     "shell.execute_reply.started": "2023-02-25T13:48:35.276033Z"
    }
   },
   "outputs": [],
   "source": [
    "# verwaiste wiktionary_merkmal data_id?\n",
    "mask1 =  wiktionary_merkmal.data_id != ''\n",
    "mask2 =  wiktionary_merkmal.is_lex == True\n",
    "mask3 = ~wiktionary_merkmal.data_id.isin(wiktionary_lemma.lemma_id)\n",
    "mask4 = ~wiktionary_merkmal.data_id.isin(translate_lex.data_id)\n",
    "mask = mask1  &  mask2  &  mask3  &  mask4\n",
    "check_mask(wiktionary_merkmal,mask, 0)"
   ]
  },
  {
   "cell_type": "code",
   "execution_count": null,
   "id": "ffca7994-ff38-4e94-8be2-f118a70f0083",
   "metadata": {
    "execution": {
     "iopub.status.busy": "2023-02-25T13:48:35.276696Z",
     "iopub.status.idle": "2023-02-25T13:48:35.276960Z",
     "shell.execute_reply": "2023-02-25T13:48:35.276841Z",
     "shell.execute_reply.started": "2023-02-25T13:48:35.276827Z"
    }
   },
   "outputs": [],
   "source": [
    "#a = pak.analyse_freqs(wiktionary_merkmal[mask], ['merkmal','data_id'])\n",
    "#grid(a)"
   ]
  },
  {
   "cell_type": "code",
   "execution_count": null,
   "id": "87dc14b8-697e-4411-9f5a-fcc9bf3f6ab3",
   "metadata": {
    "execution": {
     "iopub.status.busy": "2023-02-25T13:48:35.277441Z",
     "iopub.status.idle": "2023-02-25T13:48:35.277699Z",
     "shell.execute_reply": "2023-02-25T13:48:35.277580Z",
     "shell.execute_reply.started": "2023-02-25T13:48:35.277567Z"
    }
   },
   "outputs": [],
   "source": [
    "# Fehlende data_id?\n",
    "mask1 = wiktionary_merkmal.data_id == ''\n",
    "mask2 = wiktionary_merkmal.is_lex == True\n",
    "mask = mask1  &  mask2 \n",
    "check_mask(wiktionary_merkmal,mask,0, 10)"
   ]
  },
  {
   "cell_type": "markdown",
   "id": "1941aeaf-65fd-4138-ac21-1fedcac3b6db",
   "metadata": {},
   "source": [
    "### Überschneidungen\n",
    "* Lexeme, die sich in translate_lex finden aber auch direkt in wiktionary_lemma >> entweder oder!"
   ]
  },
  {
   "cell_type": "code",
   "execution_count": null,
   "id": "0ee5e659-901f-4c68-a062-33b624b5c5cf",
   "metadata": {
    "execution": {
     "iopub.status.busy": "2023-02-25T13:48:35.278156Z",
     "iopub.status.idle": "2023-02-25T13:48:35.278402Z",
     "shell.execute_reply": "2023-02-25T13:48:35.278289Z",
     "shell.execute_reply.started": "2023-02-25T13:48:35.278277Z"
    }
   },
   "outputs": [],
   "source": [
    "# mask_LL erstellen\n",
    "mask1 = pak.isin(translate_lex, wiktionary_lemma, left_on=['data','lemma_tagZZ'], right_on=['lemma','tagZZ'])\n",
    "mask2 = translate_lex.data != translate_lex.lemma\n",
    "mask_LL = mask1  &  mask2\n",
    "check_mask(translate_lex,mask_LL,0,1550)\n",
    "grid(translate_lex[mask_LL].sort_values('data_score',ascending=False))"
   ]
  },
  {
   "cell_type": "code",
   "execution_count": null,
   "id": "9b421910-232a-4c16-b188-0f90859bd2cd",
   "metadata": {
    "execution": {
     "iopub.status.busy": "2023-02-25T13:48:35.278886Z",
     "iopub.status.idle": "2023-02-25T13:48:35.279234Z",
     "shell.execute_reply": "2023-02-25T13:48:35.279101Z",
     "shell.execute_reply.started": "2023-02-25T13:48:35.279087Z"
    }
   },
   "outputs": [],
   "source": [
    "# wiktionary_lemma belöschen: Abkürzungen wieder löschen\n",
    "mask1 =  wiktionary_lemma.lemma.isin(translate_lex[mask_LL].data)\n",
    "mask2 =  wiktionary_lemma.member.str.contains('Abkürzung')\n",
    "mask3 = ~wiktionary_lemma.member.str.contains('manuell')\n",
    "mask4 =  wiktionary_lemma.page_part == -1\n",
    "#mask5 = ~wiktionary_lemma.lemma.isin(['pos',])\n",
    "mask = mask1  &  mask2  &  mask3  &  mask4  \n",
    "check_mask(wiktionary_lemma, mask, 0, 150)\n",
    "\n",
    "msg = 'Überschneidungen_1'\n",
    "wiktionary_lemma, wiktionary_lemma_trash = pak.move_rows(wiktionary_lemma, wiktionary_lemma_trash, mask, msg)\n",
    "grid(wiktionary_lemma_trash,msg)"
   ]
  },
  {
   "cell_type": "code",
   "execution_count": null,
   "id": "bddb0680-c52f-469b-8fca-9a633088310c",
   "metadata": {
    "execution": {
     "iopub.status.busy": "2023-02-25T13:48:35.279760Z",
     "iopub.status.idle": "2023-02-25T13:48:35.280012Z",
     "shell.execute_reply": "2023-02-25T13:48:35.279896Z",
     "shell.execute_reply.started": "2023-02-25T13:48:35.279883Z"
    }
   },
   "outputs": [],
   "source": [
    "# wiktionary_merkmal: verwaiste_Lemmas löschen\n",
    "mask1 =  wiktionary_merkmal.merkmal == 'lemma'\n",
    "mask2 =  wiktionary_merkmal.data_id != ''\n",
    "mask3 = ~wiktionary_merkmal.data_id.isin(wiktionary_lemma.lemma_id)\n",
    "mask4 = ~wiktionary_merkmal.data_id.isin(translate_lex.data_id)\n",
    "mask = mask1  &  mask2  &  mask3 &  mask4\n",
    "check_mask(wiktionary_merkmal,mask,0,150)\n",
    "\n",
    "msg = 'verwaiste_Lemmas'\n",
    "wiktionary_merkmal, wiktionary_merkmal_trash = pak.move_rows( wiktionary_merkmal, wiktionary_merkmal_trash, mask, msg )\n",
    "grid(wiktionary_merkmal_trash,msg)"
   ]
  },
  {
   "cell_type": "code",
   "execution_count": null,
   "id": "f98a6dcd-27e5-4def-8535-3c96dcda2f43",
   "metadata": {
    "execution": {
     "iopub.status.busy": "2023-02-25T13:48:35.280713Z",
     "iopub.status.idle": "2023-02-25T13:48:35.281143Z",
     "shell.execute_reply": "2023-02-25T13:48:35.281012Z",
     "shell.execute_reply.started": "2023-02-25T13:48:35.280996Z"
    }
   },
   "outputs": [],
   "source": [
    "# translate_lemma lem_id\n",
    "mask = ~translate_lemma.lem_id.isin(wiktionary_lemma.lemma_id)\n",
    "check_mask(translate_lemma,mask,0,150)\n",
    "# translate_lemma[mask]\n",
    "\n",
    "msg = 'verwaist_lem_id'\n",
    "translate_lemma, translate_lemma_trash = pak.move_rows( translate_lemma, translate_lemma_trash, mask, msg )\n",
    "grid(translate_lemma_trash,msg)"
   ]
  },
  {
   "cell_type": "code",
   "execution_count": null,
   "id": "43bc9e40-7bfd-44de-bddb-133d74c60348",
   "metadata": {
    "execution": {
     "iopub.status.busy": "2023-02-25T13:48:35.281682Z",
     "iopub.status.idle": "2023-02-25T13:48:35.282203Z",
     "shell.execute_reply": "2023-02-25T13:48:35.281821Z",
     "shell.execute_reply.started": "2023-02-25T13:48:35.281808Z"
    }
   },
   "outputs": [],
   "source": [
    "# translate_lemma lemma_id\n",
    "mask = ~translate_lemma.lemma_id.isin(wiktionary_lemma.lemma_id)\n",
    "check_mask(translate_lemma,mask,0)\n",
    "# translate_lemma[mask]\n",
    "\n",
    "#msg = 'verwaist_lemma_id'\n",
    "#translate_lemma, translate_lemma_trash = pak.move_rows( translate_lemma, translate_lemma_trash, mask, msg )\n",
    "#grid(translate_lemma_trash,msg)"
   ]
  },
  {
   "cell_type": "code",
   "execution_count": null,
   "id": "a193d0ff-bc69-419d-89cb-aed5b2f685c4",
   "metadata": {
    "execution": {
     "iopub.status.busy": "2023-02-25T13:48:35.282900Z",
     "iopub.status.idle": "2023-02-25T13:48:35.283192Z",
     "shell.execute_reply": "2023-02-25T13:48:35.283068Z",
     "shell.execute_reply.started": "2023-02-25T13:48:35.283053Z"
    }
   },
   "outputs": [],
   "source": [
    "# Löschen: Einige sonstige Verwaisungen\n",
    "mask1 =  wiktionary_merkmal.data_id != ''\n",
    "mask2 =  wiktionary_merkmal.is_lex == True\n",
    "mask3 = ~wiktionary_merkmal.data_id.isin(wiktionary_lemma.lemma_id)\n",
    "mask4 = ~wiktionary_merkmal.data_id.isin(translate_lex.data_id)\n",
    "mask = mask1  &  mask2  &  mask3  &  mask4\n",
    "check_mask(wiktionary_merkmal,mask,0,30)\n",
    "#grid(wiktionary_merkmal,mask)\n",
    "\n",
    "msg = 'verwaist_data_id_24'\n",
    "wiktionary_merkmal, wiktionary_merkmal_trash = pak.move_rows( wiktionary_merkmal, wiktionary_merkmal_trash, mask, msg )\n",
    "grid(wiktionary_merkmal_trash,msg)"
   ]
  },
  {
   "cell_type": "code",
   "execution_count": null,
   "id": "c48ce372-fae9-4753-ad16-7c061a4a0749",
   "metadata": {
    "execution": {
     "iopub.status.busy": "2023-02-25T13:48:35.283871Z",
     "iopub.status.idle": "2023-02-25T13:48:35.284318Z",
     "shell.execute_reply": "2023-02-25T13:48:35.284036Z",
     "shell.execute_reply.started": "2023-02-25T13:48:35.284022Z"
    }
   },
   "outputs": [],
   "source": [
    "# TODO Ungelöste Probleme \n",
    "mask1 = pak.isin(translate_lex, wiktionary_lemma, left_on=['data','lemma_tagZZ'], right_on=['lemma','tagZZ'])\n",
    "mask2 = translate_lex.data != translate_lex.lemma\n",
    "mask_LL = mask1  &  mask2\n",
    "check_mask(translate_lex,mask_LL,0,1400)\n",
    "grid(translate_lex[mask_LL].sort_values('data_score',ascending=False))"
   ]
  },
  {
   "cell_type": "markdown",
   "id": "183c932b-f778-441a-b7ca-d98f5f7ada3b",
   "metadata": {},
   "source": [
    "## translate_lex.data_tag "
   ]
  },
  {
   "cell_type": "code",
   "execution_count": null,
   "id": "e660d91b-708f-49f8-b126-a8a256e72d59",
   "metadata": {
    "execution": {
     "iopub.status.busy": "2023-02-25T13:48:35.284848Z",
     "iopub.status.idle": "2023-02-25T13:48:35.285124Z",
     "shell.execute_reply": "2023-02-25T13:48:35.284998Z",
     "shell.execute_reply.started": "2023-02-25T13:48:35.284984Z"
    }
   },
   "outputs": [],
   "source": [
    "# temp\n",
    "mask1 = translate_lex.data  == 'ausgerutscht'\n",
    "mask2 = translate_lex.lemma == 'ausrutschen'\n",
    "mask = mask1  &  mask2\n",
    "translate_lex[mask1]"
   ]
  },
  {
   "cell_type": "code",
   "execution_count": null,
   "id": "e69faf65-7e98-4a72-946b-95566148fcc1",
   "metadata": {
    "execution": {
     "iopub.status.busy": "2023-02-25T13:48:35.285802Z",
     "iopub.status.idle": "2023-02-25T13:48:35.286239Z",
     "shell.execute_reply": "2023-02-25T13:48:35.286101Z",
     "shell.execute_reply.started": "2023-02-25T13:48:35.286084Z"
    }
   },
   "outputs": [],
   "source": [
    "# Beispiel anzeigen\n",
    "mask = translate_lex.data == 'Ackermann'\n",
    "translate_lex[mask]"
   ]
  },
  {
   "cell_type": "code",
   "execution_count": null,
   "id": "1aa1c276-6621-4a33-9eed-e8b5a549f069",
   "metadata": {
    "execution": {
     "iopub.status.busy": "2023-02-25T13:48:35.286755Z",
     "iopub.status.idle": "2023-02-25T13:48:35.287050Z",
     "shell.execute_reply": "2023-02-25T13:48:35.286894Z",
     "shell.execute_reply.started": "2023-02-25T13:48:35.286880Z"
    }
   },
   "outputs": [],
   "source": [
    "# Beispiel anzeigen\n",
    "mask = translate_lemma.lem == 'Ackermann'\n",
    "translate_lemma[mask]"
   ]
  },
  {
   "cell_type": "code",
   "execution_count": null,
   "id": "47ad8b46-84a3-444e-a965-c7aac1dbae99",
   "metadata": {
    "execution": {
     "iopub.status.busy": "2023-02-25T13:48:35.287914Z",
     "iopub.status.idle": "2023-02-25T13:48:35.288211Z",
     "shell.execute_reply": "2023-02-25T13:48:35.288083Z",
     "shell.execute_reply.started": "2023-02-25T13:48:35.288069Z"
    }
   },
   "outputs": [],
   "source": [
    "# pflege_translate_tabelle\n",
    "#from x32_Funktionen import *\n",
    "translate_lex   = pflege_translate_tabelle(translate_lex,   translate_tagZ, wiktionary_lemma)\n",
    "translate_lemma = pflege_translate_tabelle(translate_lemma, translate_tagZ, wiktionary_lemma, translate_lex )"
   ]
  },
  {
   "cell_type": "code",
   "execution_count": null,
   "id": "0a6ad7e5-969e-4af7-8a4f-b7cfeac2f25e",
   "metadata": {
    "execution": {
     "iopub.status.busy": "2023-02-25T13:48:35.288707Z",
     "iopub.status.idle": "2023-02-25T13:48:35.289159Z",
     "shell.execute_reply": "2023-02-25T13:48:35.289030Z",
     "shell.execute_reply.started": "2023-02-25T13:48:35.289014Z"
    }
   },
   "outputs": [],
   "source": [
    "# Nachschlagetabelle vorbereiten\n",
    "spalten = ['data_id','data','data_tag','lemma_id','lemma','lemma_tag','lemma_tagZZ']\n",
    "mask = wiktionary_merkmal.is_lex == True\n",
    "df = wiktionary_merkmal[mask][spalten].drop_duplicates().sort_values(spalten)\n",
    "#df"
   ]
  },
  {
   "cell_type": "code",
   "execution_count": null,
   "id": "92a7f2e1-bae5-4112-9ddc-1893150a2c06",
   "metadata": {
    "execution": {
     "iopub.status.busy": "2023-02-25T13:48:35.289845Z",
     "iopub.status.idle": "2023-02-25T13:48:35.290113Z",
     "shell.execute_reply": "2023-02-25T13:48:35.289994Z",
     "shell.execute_reply.started": "2023-02-25T13:48:35.289981Z"
    }
   },
   "outputs": [],
   "source": [
    "# Prüfe Anzahl data_tag\n",
    "mask = translate_lex.data_tag != ''\n",
    "check_mask(translate_lex,mask,562350)"
   ]
  },
  {
   "cell_type": "code",
   "execution_count": null,
   "id": "ea552a34-ffdf-4e0d-a20f-2891dd72b9a9",
   "metadata": {
    "execution": {
     "iopub.status.busy": "2023-02-25T13:48:35.290913Z",
     "iopub.status.idle": "2023-02-25T13:48:35.291271Z",
     "shell.execute_reply": "2023-02-25T13:48:35.291125Z",
     "shell.execute_reply.started": "2023-02-25T13:48:35.291111Z"
    }
   },
   "outputs": [],
   "source": [
    "# Vorhandene data_tag übertragen\n",
    "# sonst leeren\n",
    "translate_lex['data_tag_0'] = translate_lex.data_tag\n",
    "translate_lex['data_tag_1'] = translate_lex.data_tag\n",
    "translate_lex = pak.move_cols(translate_lex, ['data_tag','data_tag_0','data_tag_1'],'data')"
   ]
  },
  {
   "cell_type": "code",
   "execution_count": null,
   "id": "83f05873-c9a6-488d-ae5b-a4308e0a214e",
   "metadata": {
    "execution": {
     "iopub.status.busy": "2023-02-25T13:48:35.291827Z",
     "iopub.status.idle": "2023-02-25T13:48:35.292096Z",
     "shell.execute_reply": "2023-02-25T13:48:35.291975Z",
     "shell.execute_reply.started": "2023-02-25T13:48:35.291963Z"
    }
   },
   "outputs": [],
   "source": [
    "# Beispiel anzeigen\n",
    "mask = translate_lex.data == 'Ackermann'\n",
    "translate_lex[mask]"
   ]
  },
  {
   "cell_type": "code",
   "execution_count": null,
   "id": "2062b85c-b2a0-42c8-9260-548311e1b2d4",
   "metadata": {
    "execution": {
     "iopub.status.busy": "2023-02-25T13:48:35.292585Z",
     "iopub.status.idle": "2023-02-25T13:48:35.292847Z",
     "shell.execute_reply": "2023-02-25T13:48:35.292726Z",
     "shell.execute_reply.started": "2023-02-25T13:48:35.292713Z"
    }
   },
   "outputs": [],
   "source": [
    "# data_tag übertragen \n",
    "translate_lex = pak.update_col(translate_lex, df, on=['data_id','lemma_id'],            col='data_tag', col_rename='data_tag_0', func='first', cond='null')\n",
    "translate_lex = pak.update_col(translate_lex, df, on=['data_id','lemma_id'],            col='data_tag', col_rename='data_tag_1', func='last',  cond='null')\n",
    "           \n",
    "translate_lex = pak.update_col(translate_lex, df, on=['data','lemma_id'],               col='data_tag', col_rename='data_tag_0', func='first', cond='null')\n",
    "translate_lex = pak.update_col(translate_lex, df, on=['data','lemma_id'],               col='data_tag', col_rename='data_tag_1', func='last',  cond='null')\n",
    "  \n",
    "translate_lex = pak.update_col(translate_lex, df, on=['data_id','lemma','lemma_tag'],   col='data_tag', col_rename='data_tag_0', func='first', cond='null')\n",
    "translate_lex = pak.update_col(translate_lex, df, on=['data_id','lemma','lemma_tag'],   col='data_tag', col_rename='data_tag_1', func='last',  cond='null')\n",
    "\n",
    "translate_lex = pak.update_col(translate_lex, df, on=['data_id','lemma','lemma_tagZZ'], col='data_tag', col_rename='data_tag_0', func='first', cond='null')\n",
    "translate_lex = pak.update_col(translate_lex, df, on=['data_id','lemma','lemma_tagZZ'], col='data_tag', col_rename='data_tag_1', func='last',  cond='null')\n",
    "\n",
    "print()\n",
    "translate_lex = pak.update_col(translate_lex, df, on=['data','lemma','lemma_tag'],      col='data_tag', col_rename='data_tag_0', func='first', cond='null')\n",
    "translate_lex = pak.update_col(translate_lex, df, on=['data','lemma','lemma_tag'],      col='data_tag', col_rename='data_tag_1', func='last',  cond='null')\n",
    "   \n",
    "translate_lex = pak.update_col(translate_lex, df, on=['data','lemma','lemma_tagZZ'],    col='data_tag', col_rename='data_tag_0', func='first', cond='null')\n",
    "translate_lex = pak.update_col(translate_lex, df, on=['data','lemma','lemma_tagZZ'],    col='data_tag', col_rename='data_tag_1', func='last',  cond='null')\n",
    "\n",
    "translate_lex = pak.update_col(translate_lex, df, on=['data','lemma_tag'],              col='data_tag', col_rename='data_tag_0', func='first', cond='null')\n",
    "translate_lex = pak.update_col(translate_lex, df, on=['data','lemma_tag'],              col='data_tag', col_rename='data_tag_1', func='last',  cond='null')\n",
    "\n",
    "translate_lex = pak.update_col(translate_lex, df, on=['data','lemma_tagZZ'],            col='data_tag', col_rename='data_tag_0', func='first', cond='null')\n",
    "translate_lex = pak.update_col(translate_lex, df, on=['data','lemma_tagZZ'],            col='data_tag', col_rename='data_tag_1', func='last',  cond='null')"
   ]
  },
  {
   "cell_type": "code",
   "execution_count": null,
   "id": "5c60da38-0eb5-474e-b8cf-13a7b2b3b4c5",
   "metadata": {
    "execution": {
     "iopub.status.busy": "2023-02-25T13:48:35.293406Z",
     "iopub.status.idle": "2023-02-25T13:48:35.293721Z",
     "shell.execute_reply": "2023-02-25T13:48:35.293583Z",
     "shell.execute_reply.started": "2023-02-25T13:48:35.293568Z"
    }
   },
   "outputs": [],
   "source": [
    "# data_tag fehlt\n",
    "maskA = translate_lex.data_tag_0 == ''\n",
    "maskB = translate_lex.data_tag_1 == ''\n",
    "mask = maskA | maskB\n",
    "check_mask(translate_lex,mask,356699)\n",
    "translate_lex.loc[mask,'data_tag']   = translate_lex[mask].lemma_tag\n",
    "translate_lex.loc[mask,'data_tag_0'] = translate_lex[mask].lemma_tag\n",
    "translate_lex.loc[mask,'data_tag_1'] = ''\n",
    "#grid(translate_lex,mask)"
   ]
  },
  {
   "cell_type": "code",
   "execution_count": null,
   "id": "dcbb0147-7736-4940-b936-c1b9fafe5823",
   "metadata": {
    "execution": {
     "iopub.status.busy": "2023-02-25T13:48:35.294289Z",
     "iopub.status.idle": "2023-02-25T13:48:35.294586Z",
     "shell.execute_reply": "2023-02-25T13:48:35.294455Z",
     "shell.execute_reply.started": "2023-02-25T13:48:35.294440Z"
    }
   },
   "outputs": [],
   "source": [
    "# data_tag eindeutig\n",
    "mask = translate_lex.data_tag_0 == translate_lex.data_tag_1\n",
    "check_mask(translate_lex,mask,391328)\n",
    "translate_lex.loc[mask,'data_tag']   = translate_lex[mask].data_tag_0\n",
    "translate_lex.loc[mask,'data_tag_0'] = translate_lex[mask].lemma_tag\n",
    "translate_lex.loc[mask,'data_tag_1'] = ''\n",
    "#grid(translate_lex,mask)"
   ]
  },
  {
   "cell_type": "code",
   "execution_count": null,
   "id": "8a2f2f1f-e40e-4e74-84b3-ab5e462385a1",
   "metadata": {
    "execution": {
     "iopub.status.busy": "2023-02-25T13:48:35.295161Z",
     "iopub.status.idle": "2023-02-25T13:48:35.295678Z",
     "shell.execute_reply": "2023-02-25T13:48:35.295540Z",
     "shell.execute_reply.started": "2023-02-25T13:48:35.295524Z"
    }
   },
   "outputs": [],
   "source": [
    "# data_tag uneindeutig\n",
    "mask1 = translate_lex.data_tag_0 != translate_lex.data_tag_1\n",
    "mask2 = translate_lex.data_tag_0 != ''\n",
    "mask3 = translate_lex.data_tag_1 != ''\n",
    "mask = mask1  &  mask2  &  mask3\n",
    "check_mask(translate_lex,mask, 22364)\n",
    "translate_lex.loc[mask,'data_tag']   = translate_lex[mask].data_tag_0 + ' ' + translate_lex[mask].data_tag_1\n",
    "#grid(translate_lex,mask)"
   ]
  },
  {
   "cell_type": "code",
   "execution_count": null,
   "id": "42034885-0291-4bd1-aec3-1b9d4da0f392",
   "metadata": {
    "execution": {
     "iopub.status.busy": "2023-02-25T13:48:35.296391Z",
     "iopub.status.idle": "2023-02-25T13:48:35.296666Z",
     "shell.execute_reply": "2023-02-25T13:48:35.296545Z",
     "shell.execute_reply.started": "2023-02-25T13:48:35.296532Z"
    }
   },
   "outputs": [],
   "source": [
    "# Sicherstellen: data_tag fehlt nirgens komplett\n",
    "mask = translate_lex.data_tag == ''\n",
    "check_mask(translate_lex,mask,0)\n",
    "#grid(translate_lex,mask)"
   ]
  },
  {
   "cell_type": "code",
   "execution_count": null,
   "id": "8c1322c5-c257-44ec-8084-e284deae1e09",
   "metadata": {
    "execution": {
     "iopub.status.busy": "2023-02-25T13:48:35.297420Z",
     "iopub.status.idle": "2023-02-25T13:48:35.297860Z",
     "shell.execute_reply": "2023-02-25T13:48:35.297718Z",
     "shell.execute_reply.started": "2023-02-25T13:48:35.297701Z"
    }
   },
   "outputs": [],
   "source": [
    "# nach Priorität sortieren (laut Steuertabellen)\n",
    "translate_lex['data_tag'] = tag_sortieren(translate_lex.data_tag)"
   ]
  },
  {
   "cell_type": "code",
   "execution_count": null,
   "id": "356e27ab-d38a-49dc-9e23-35d8b4e1747d",
   "metadata": {
    "execution": {
     "iopub.status.busy": "2023-02-25T13:48:35.298382Z",
     "iopub.status.idle": "2023-02-25T13:48:35.298817Z",
     "shell.execute_reply": "2023-02-25T13:48:35.298519Z",
     "shell.execute_reply.started": "2023-02-25T13:48:35.298506Z"
    }
   },
   "outputs": [],
   "source": [
    "# translate_lex vorbereiten\n",
    "translate_lex = pak.drop_cols(translate_lex,['data_tag_0','data_tag_1','data_tagZZ'])    \n",
    "translate_lex = pak.rename_col(translate_lex,'data_tag','tag')    "
   ]
  },
  {
   "cell_type": "code",
   "execution_count": null,
   "id": "175b3051-6614-46d9-b35a-af283440e5b1",
   "metadata": {
    "execution": {
     "iopub.status.busy": "2023-02-25T13:48:35.299552Z",
     "iopub.status.idle": "2023-02-25T13:48:35.299847Z",
     "shell.execute_reply": "2023-02-25T13:48:35.299720Z",
     "shell.execute_reply.started": "2023-02-25T13:48:35.299706Z"
    }
   },
   "outputs": [],
   "source": [
    "# pflege_tag_felder\n",
    "translate_lex = pflege_tag_felder(translate_lex, translate_tagZ)"
   ]
  },
  {
   "cell_type": "code",
   "execution_count": null,
   "id": "89b46f80-06c5-4b5e-a7c7-a3deb65642f2",
   "metadata": {
    "execution": {
     "iopub.status.busy": "2023-02-25T13:48:35.300517Z",
     "iopub.status.idle": "2023-02-25T13:48:35.300937Z",
     "shell.execute_reply": "2023-02-25T13:48:35.300679Z",
     "shell.execute_reply.started": "2023-02-25T13:48:35.300665Z"
    }
   },
   "outputs": [],
   "source": [
    "# # translate_lex nachbereiten\n",
    "translate_lex = pak.rename_col(translate_lex,'tag',   'data_tag')    \n",
    "translate_lex = pak.rename_col(translate_lex,'tag_0', 'data_tag_0')   \n",
    "translate_lex = pak.rename_col(translate_lex,'tag_1', 'data_tag_1')   \n",
    "translate_lex = pak.rename_col(translate_lex,'tagZZ', 'data_tagZZ')   \n",
    "translate_lex = pak.drop_cols(translate_lex,['tagZ'])    \n",
    "grid(translate_lex,pak.sample)"
   ]
  },
  {
   "cell_type": "code",
   "execution_count": null,
   "id": "f0dd7ccc-8061-42fd-9dd1-030b73b81b2a",
   "metadata": {
    "execution": {
     "iopub.status.busy": "2023-02-25T13:48:35.301495Z",
     "iopub.status.idle": "2023-02-25T13:48:35.301765Z",
     "shell.execute_reply": "2023-02-25T13:48:35.301643Z",
     "shell.execute_reply.started": "2023-02-25T13:48:35.301630Z"
    }
   },
   "outputs": [],
   "source": [
    "mask = translate_lex.data == 'vervollständigt'\n",
    "translate_lex[mask]"
   ]
  },
  {
   "cell_type": "code",
   "execution_count": null,
   "id": "0921f7b4-a881-47e3-b12a-daddc5901cf3",
   "metadata": {
    "execution": {
     "iopub.status.busy": "2023-02-25T13:48:35.302429Z",
     "iopub.status.idle": "2023-02-25T13:48:35.302862Z",
     "shell.execute_reply": "2023-02-25T13:48:35.302720Z",
     "shell.execute_reply.started": "2023-02-25T13:48:35.302703Z"
    }
   },
   "outputs": [],
   "source": [
    "#mask = wiktionary_lemma.tag.str.contains(' ')\n",
    "#wiktionary_lemma[mask]"
   ]
  },
  {
   "cell_type": "code",
   "execution_count": null,
   "id": "88ceb841-f81f-4575-9564-56ace99cc969",
   "metadata": {
    "execution": {
     "iopub.status.busy": "2023-02-25T13:48:35.303394Z",
     "iopub.status.idle": "2023-02-25T13:48:35.303671Z",
     "shell.execute_reply": "2023-02-25T13:48:35.303544Z",
     "shell.execute_reply.started": "2023-02-25T13:48:35.303531Z"
    }
   },
   "outputs": [],
   "source": [
    "# Beispiel anzeigen\n",
    "mask = translate_lex.data == 'lachen'\n",
    "translate_lex[mask]"
   ]
  },
  {
   "cell_type": "code",
   "execution_count": null,
   "id": "d55a6b16-5839-4dd6-9f53-8e31498fb50f",
   "metadata": {
    "execution": {
     "iopub.status.busy": "2023-02-25T13:48:35.304457Z",
     "iopub.status.idle": "2023-02-25T13:48:35.304770Z",
     "shell.execute_reply": "2023-02-25T13:48:35.304640Z",
     "shell.execute_reply.started": "2023-02-25T13:48:35.304626Z"
    }
   },
   "outputs": [],
   "source": [
    "# temp\n",
    "mask1 = translate_lex.data  == 'ausgerutscht'\n",
    "mask2 = translate_lex.lemma == 'ausrutschen'\n",
    "mask = mask1  &  mask2\n",
    "translate_lex[mask]"
   ]
  },
  {
   "cell_type": "markdown",
   "id": "6cb9e321-15f5-4054-abd6-17b17f5dd205",
   "metadata": {},
   "source": [
    "## Prüfen =========="
   ]
  },
  {
   "cell_type": "markdown",
   "id": "8056ec0a-e434-431b-b904-0a93648eb8b3",
   "metadata": {},
   "source": [
    "### Unique"
   ]
  },
  {
   "cell_type": "code",
   "execution_count": null,
   "id": "56acce77-63a0-41e6-b8dc-b31d66cf9606",
   "metadata": {
    "execution": {
     "iopub.status.busy": "2023-02-25T13:48:35.305310Z",
     "iopub.status.idle": "2023-02-25T13:48:35.305567Z",
     "shell.execute_reply": "2023-02-25T13:48:35.305449Z",
     "shell.execute_reply.started": "2023-02-25T13:48:35.305436Z"
    }
   },
   "outputs": [],
   "source": [
    "# wiktionary_lemma: lemma_id vorhanden und eindeutig?\n",
    "mask = wiktionary_lemma.lemma_id == ''\n",
    "check_mask(wiktionary_lemma,mask,0)\n",
    "\n",
    "assert wiktionary_lemma.lemma_id.is_unique"
   ]
  },
  {
   "cell_type": "code",
   "execution_count": null,
   "id": "e368ee88-77e8-4328-a1a7-797a54d091fc",
   "metadata": {
    "execution": {
     "iopub.status.busy": "2023-02-25T13:48:35.306030Z",
     "iopub.status.idle": "2023-02-25T13:48:35.306278Z",
     "shell.execute_reply": "2023-02-25T13:48:35.306160Z",
     "shell.execute_reply.started": "2023-02-25T13:48:35.306148Z"
    }
   },
   "outputs": [],
   "source": [
    "# wiktionary_merkmal: data_id vorhanden und nicht widersprüchlich?\n",
    "mask1 = wiktionary_merkmal.data_id == ''\n",
    "mask2 = wiktionary_merkmal.is_lex == True\n",
    "mask = mask1  &  mask2\n",
    "check_mask(wiktionary_merkmal,mask,0)\n",
    "\n",
    "# Vergebene data_id nicht widersprüchlich?\n",
    "mask_notempty = wiktionary_merkmal.data_id != ''\n",
    "a = pak.same_but_different(wiktionary_merkmal[mask_notempty],same='data_id',different='data')\n",
    "assert a.shape[0] == 0\n",
    "#grid(a)"
   ]
  },
  {
   "cell_type": "code",
   "execution_count": null,
   "id": "1bb1f323-de40-4f44-a4e0-a5c9b761a277",
   "metadata": {
    "execution": {
     "iopub.status.busy": "2023-02-25T13:48:35.306762Z",
     "iopub.status.idle": "2023-02-25T13:48:35.313865Z",
     "shell.execute_reply": "2023-02-25T13:48:35.306915Z",
     "shell.execute_reply.started": "2023-02-25T13:48:35.306902Z"
    }
   },
   "outputs": [],
   "source": [
    "# translate_lex: data_id vorhanden und eindeutig?\n",
    "mask = translate_lex.data_id == ''\n",
    "check_mask(translate_lex,mask,0)\n",
    "\n",
    "#assert translate_lex.data_id.is_unique\n",
    "\n",
    "a = pak.same_but_different(translate_lex,same='data_id',different='data')\n",
    "assert a.shape[0] == 0\n",
    "#grid(a)"
   ]
  },
  {
   "cell_type": "markdown",
   "id": "1bfaa034-d05f-453c-a802-0d62b54fda6d",
   "metadata": {},
   "source": [
    "### Mögliche Probleme"
   ]
  },
  {
   "cell_type": "code",
   "execution_count": null,
   "id": "1a3f269c-81b0-499a-8c7b-5f1bd12de29e",
   "metadata": {
    "execution": {
     "iopub.status.busy": "2023-02-25T13:48:35.314551Z",
     "iopub.status.idle": "2023-02-25T13:48:35.314856Z",
     "shell.execute_reply": "2023-02-25T13:48:35.314729Z",
     "shell.execute_reply.started": "2023-02-25T13:48:35.314715Z"
    }
   },
   "outputs": [],
   "source": [
    "# Mögliche Probleme\n",
    "spalten = ['data','lemma','lemma_score']\n",
    "mask =  translate_lex['same_lexlemma'] < 0.3\n",
    "a = translate_lex[mask][spalten].sort_values(['lemma_score'], ascending=[False])\n",
    "grid(a)"
   ]
  },
  {
   "cell_type": "code",
   "execution_count": null,
   "id": "83cd1170-4fb8-454d-9fb0-0803b3b7abe2",
   "metadata": {
    "execution": {
     "iopub.status.busy": "2023-02-25T13:48:35.315390Z",
     "iopub.status.idle": "2023-02-25T13:48:35.315659Z",
     "shell.execute_reply": "2023-02-25T13:48:35.315537Z",
     "shell.execute_reply.started": "2023-02-25T13:48:35.315523Z"
    }
   },
   "outputs": [],
   "source": [
    "mask = translate_lex.same_lexlemma < 0.5\n",
    "a = pak.analyse_freqs(translate_lex[mask],['lemma','data'])\n",
    "grid(a)"
   ]
  },
  {
   "cell_type": "markdown",
   "id": "8387d9d4-8ab2-4ac2-9672-6644a5996dd2",
   "metadata": {},
   "source": [
    "### Verwaisungen"
   ]
  },
  {
   "cell_type": "code",
   "execution_count": null,
   "id": "360703bf-6f42-447a-9a8b-45d97b477e63",
   "metadata": {
    "execution": {
     "iopub.status.busy": "2023-02-25T13:48:35.316179Z",
     "iopub.status.idle": "2023-02-25T13:48:35.316479Z",
     "shell.execute_reply": "2023-02-25T13:48:35.316342Z",
     "shell.execute_reply.started": "2023-02-25T13:48:35.316329Z"
    }
   },
   "outputs": [],
   "source": [
    "# translate_lex lemma_id\n",
    "mask = ~translate_lex.lemma_id.isin(wiktionary_lemma.lemma_id)\n",
    "check_mask(translate_lex,mask,0,140)\n",
    "\n",
    "msg = 'verwaist_lemma_id_endkontrolle'\n",
    "translate_lex, translate_lex_trash = pak.move_rows( translate_lex, translate_lex_trash, mask, msg )\n",
    "grid(translate_lex_trash,msg)"
   ]
  },
  {
   "cell_type": "code",
   "execution_count": null,
   "id": "a6eac841-d4d6-40b8-829f-925c2e387b59",
   "metadata": {
    "execution": {
     "iopub.status.busy": "2023-02-25T13:48:35.321237Z",
     "iopub.status.idle": "2023-02-25T13:48:35.321780Z",
     "shell.execute_reply": "2023-02-25T13:48:35.321609Z",
     "shell.execute_reply.started": "2023-02-25T13:48:35.321588Z"
    }
   },
   "outputs": [],
   "source": [
    "# translate_lemma lem_id\n",
    "mask = ~translate_lemma.lem_id.isin(wiktionary_lemma.lemma_id)\n",
    "check_mask(translate_lemma,mask,0,32)\n",
    "# translate_lemma[mask]\n",
    "\n",
    "msg = 'verwaist_lem_id_endkontrolle'\n",
    "translate_lemma, translate_lemma_trash = pak.move_rows( translate_lemma, translate_lemma_trash, mask, msg )\n",
    "grid(translate_lemma_trash,msg)"
   ]
  },
  {
   "cell_type": "code",
   "execution_count": null,
   "id": "e45afcc2-28ee-4cca-b366-d507627fe9b9",
   "metadata": {
    "execution": {
     "iopub.status.busy": "2023-02-25T13:48:35.324284Z",
     "iopub.status.idle": "2023-02-25T13:48:35.324998Z",
     "shell.execute_reply": "2023-02-25T13:48:35.324710Z",
     "shell.execute_reply.started": "2023-02-25T13:48:35.324678Z"
    }
   },
   "outputs": [],
   "source": [
    "# translate_lemma lemma_id\n",
    "mask = ~translate_lemma.lemma_id.isin(wiktionary_lemma.lemma_id)\n",
    "check_mask(translate_lemma,mask,0)\n",
    "# translate_lemma[mask]\n",
    "\n",
    "msg = 'verwaist_lemma_id_endkontrolle'\n",
    "translate_lemma, translate_lemma_trash = pak.move_rows( translate_lemma, translate_lemma_trash, mask, msg )\n",
    "grid(translate_lemma_trash,msg)"
   ]
  },
  {
   "cell_type": "code",
   "execution_count": null,
   "id": "5a86537d-bcd2-4f36-9fd6-f6c026020487",
   "metadata": {
    "execution": {
     "iopub.status.busy": "2023-02-25T13:48:35.328986Z",
     "iopub.status.idle": "2023-02-25T13:48:35.329385Z",
     "shell.execute_reply": "2023-02-25T13:48:35.329225Z",
     "shell.execute_reply.started": "2023-02-25T13:48:35.329206Z"
    }
   },
   "outputs": [],
   "source": [
    "# wiktionary_lemma.data_id (nur leeren)\n",
    "mask1 =  wiktionary_lemma.data_id != ''\n",
    "mask2 = ~wiktionary_lemma.data_id.isin(wiktionary_lemma.lemma_id)\n",
    "mask3 = ~wiktionary_lemma.data_id.isin(translate_lex.data_id)\n",
    "mask = mask1  &  mask2  &  mask3\n",
    "check_mask(wiktionary_lemma,mask,1)\n",
    "\n",
    "wiktionary_lemma.loc[mask,'data_id'] = ''\n",
    "grid(wiktionary_lemma,mask)"
   ]
  },
  {
   "cell_type": "code",
   "execution_count": null,
   "id": "873285d8-b79b-412c-8699-f53213693c80",
   "metadata": {
    "execution": {
     "iopub.status.busy": "2023-02-25T13:48:35.330244Z",
     "iopub.status.idle": "2023-02-25T13:48:35.330571Z",
     "shell.execute_reply": "2023-02-25T13:48:35.330434Z",
     "shell.execute_reply.started": "2023-02-25T13:48:35.330419Z"
    }
   },
   "outputs": [],
   "source": [
    "# wiktionary_merkmal lemma_id\n",
    "mask = ~wiktionary_merkmal.lemma_id.isin(wiktionary_lemma.lemma_id)\n",
    "check_mask(wiktionary_merkmal,mask,0,140)\n",
    "# wiktionary_merkmal[mask]\n",
    "\n",
    "msg = 'verwaist_lemma_id_endkontrolle'\n",
    "wiktionary_merkmal, wiktionary_merkmal_trash = pak.move_rows( wiktionary_merkmal, wiktionary_merkmal_trash, mask, msg )\n",
    "grid(wiktionary_merkmal_trash,msg)"
   ]
  },
  {
   "cell_type": "code",
   "execution_count": null,
   "id": "4759e0c7-87b6-4a73-b2fa-ca2b2ab8f233",
   "metadata": {
    "execution": {
     "iopub.status.busy": "2023-02-25T13:48:35.334757Z",
     "iopub.status.idle": "2023-02-25T13:48:35.335117Z",
     "shell.execute_reply": "2023-02-25T13:48:35.334972Z",
     "shell.execute_reply.started": "2023-02-25T13:48:35.334956Z"
    }
   },
   "outputs": [],
   "source": [
    "# verwaist wiktionary_merkmal data_id?\n",
    "mask1 =  wiktionary_merkmal.data_id != ''\n",
    "mask2 = ~wiktionary_merkmal.data_id.isin(wiktionary_lemma.lemma_id)\n",
    "mask3 = ~wiktionary_merkmal.data_id.isin(translate_lex.data_id)\n",
    "mask4 = wiktionary_merkmal.data_id.isin(translate_lex_trash.data_id)\n",
    "mask = mask1  &  mask2  &  mask3 # &  mask4\n",
    "check_mask(wiktionary_merkmal,mask)\n",
    "\n",
    "#grid(wiktionary_merkmal,mask)"
   ]
  },
  {
   "cell_type": "code",
   "execution_count": null,
   "id": "4adb461a-02c4-44aa-8140-eb0bc6086ffc",
   "metadata": {
    "execution": {
     "iopub.status.busy": "2023-02-25T13:48:35.335670Z",
     "iopub.status.idle": "2023-02-25T13:48:35.335965Z",
     "shell.execute_reply": "2023-02-25T13:48:35.335834Z",
     "shell.execute_reply.started": "2023-02-25T13:48:35.335820Z"
    }
   },
   "outputs": [],
   "source": [
    "# wiktionary_merkmal data_id\n",
    "mask1 =  wiktionary_merkmal.data_id != ''\n",
    "mask2 =  wiktionary_merkmal.is_lex == True\n",
    "mask3 = ~wiktionary_merkmal.data_id.isin(wiktionary_lemma.lemma_id)\n",
    "mask4 = ~wiktionary_merkmal.data_id.isin(translate_lex.data_id)\n",
    "mask = mask1  &  mask2  &  mask3  &  mask4\n",
    "check_mask(wiktionary_merkmal,mask,0,40)\n",
    "\n",
    "msg = 'verwaist_data_id_endkontrolle'\n",
    "wiktionary_merkmal, wiktionary_merkmal_trash = pak.move_rows( wiktionary_merkmal, wiktionary_merkmal_trash, mask, msg )\n",
    "grid(wiktionary_merkmal_trash,msg)"
   ]
  },
  {
   "cell_type": "code",
   "execution_count": null,
   "id": "a40ea86c-b9e4-4778-8eeb-12bc0ff3095c",
   "metadata": {
    "execution": {
     "iopub.status.busy": "2023-02-25T13:48:35.336441Z",
     "iopub.status.idle": "2023-02-25T13:48:35.336690Z",
     "shell.execute_reply": "2023-02-25T13:48:35.336574Z",
     "shell.execute_reply.started": "2023-02-25T13:48:35.336561Z"
    }
   },
   "outputs": [],
   "source": [
    "#grid(wiktionary_merkmal,mask)"
   ]
  },
  {
   "cell_type": "code",
   "execution_count": null,
   "id": "22dc5188-1e3d-434d-ae57-5e41b02c3a79",
   "metadata": {
    "execution": {
     "iopub.status.busy": "2023-02-25T13:48:35.337174Z",
     "iopub.status.idle": "2023-02-25T13:48:35.337458Z",
     "shell.execute_reply": "2023-02-25T13:48:35.337331Z",
     "shell.execute_reply.started": "2023-02-25T13:48:35.337318Z"
    }
   },
   "outputs": [],
   "source": [
    "#pak.analyse_freqs(wiktionary_merkmal[mask], ['merkmal','data_id'])"
   ]
  },
  {
   "cell_type": "code",
   "execution_count": null,
   "id": "2a23c9fd-03d1-4515-b020-ab2ff870a41c",
   "metadata": {
    "execution": {
     "iopub.status.busy": "2023-02-25T13:48:35.337966Z",
     "iopub.status.idle": "2023-02-25T13:48:35.338228Z",
     "shell.execute_reply": "2023-02-25T13:48:35.338110Z",
     "shell.execute_reply.started": "2023-02-25T13:48:35.338097Z"
    }
   },
   "outputs": [],
   "source": [
    "# wiktionary_merkmal_text lemma_id\n",
    "mask = ~wiktionary_merkmal_text.lemma_id.isin(wiktionary_lemma.lemma_id)\n",
    "check_mask(wiktionary_merkmal_text,mask,0)\n",
    "# wiktionary_merkmal_text[mask]\n",
    "\n",
    "#msg = 'verwaist_lemma_id_endkontrolle'\n",
    "#wiktionary_merkmal_text, df = pak.move_rows( wiktionary_merkmal_text, mask, msg )\n",
    "#grid(df)"
   ]
  },
  {
   "cell_type": "markdown",
   "id": "7cb7a63a-de4d-404a-9b01-d007be299bc8",
   "metadata": {},
   "source": [
    "### NaN"
   ]
  },
  {
   "cell_type": "code",
   "execution_count": null,
   "id": "ac285e6a-d8be-471c-81e9-9b6af54a16ed",
   "metadata": {
    "execution": {
     "iopub.status.busy": "2023-02-25T13:48:35.338677Z",
     "iopub.status.idle": "2023-02-25T13:48:35.340351Z",
     "shell.execute_reply": "2023-02-25T13:48:35.338816Z",
     "shell.execute_reply.started": "2023-02-25T13:48:35.338802Z"
    }
   },
   "outputs": [],
   "source": [
    "assert not pak.any_nan(wiktionary_lemma)\n",
    "#pak.nnan(wiktionary_lemma)"
   ]
  },
  {
   "cell_type": "code",
   "execution_count": null,
   "id": "5eba83d7-0b1a-49aa-bdb1-026eb8730763",
   "metadata": {
    "execution": {
     "iopub.status.busy": "2023-02-25T13:48:35.344468Z",
     "iopub.status.idle": "2023-02-25T13:48:35.344812Z",
     "shell.execute_reply": "2023-02-25T13:48:35.344672Z",
     "shell.execute_reply.started": "2023-02-25T13:48:35.344657Z"
    }
   },
   "outputs": [],
   "source": [
    "assert not pak.any_nan(wiktionary_merkmal)\n",
    "#pak.nnan(wiktionary_merkmal)"
   ]
  },
  {
   "cell_type": "code",
   "execution_count": null,
   "id": "41761269-0deb-4516-84f4-b24492bab165",
   "metadata": {
    "execution": {
     "iopub.status.busy": "2023-02-25T13:48:35.345332Z",
     "iopub.status.idle": "2023-02-25T13:48:35.345640Z",
     "shell.execute_reply": "2023-02-25T13:48:35.345499Z",
     "shell.execute_reply.started": "2023-02-25T13:48:35.345484Z"
    }
   },
   "outputs": [],
   "source": [
    "assert not pak.any_nan(wiktionary_merkmal_text)\n",
    "#pak.nnan(wiktionary_merkmal_text)"
   ]
  },
  {
   "cell_type": "code",
   "execution_count": null,
   "id": "93d71afb-7319-488d-a85d-100cbdd5cd20",
   "metadata": {
    "execution": {
     "iopub.status.busy": "2023-02-25T13:48:35.346213Z",
     "iopub.status.idle": "2023-02-25T13:48:35.346522Z",
     "shell.execute_reply": "2023-02-25T13:48:35.346386Z",
     "shell.execute_reply.started": "2023-02-25T13:48:35.346372Z"
    }
   },
   "outputs": [],
   "source": [
    "assert not pak.any_nan(translate_lemma)\n",
    "#pak.nnan(translate_lemma)"
   ]
  },
  {
   "cell_type": "code",
   "execution_count": null,
   "id": "219eba4b-4f01-405d-829a-e4e0cfce2352",
   "metadata": {
    "execution": {
     "iopub.status.busy": "2023-02-25T13:48:35.347155Z",
     "iopub.status.idle": "2023-02-25T13:48:35.347446Z",
     "shell.execute_reply": "2023-02-25T13:48:35.347320Z",
     "shell.execute_reply.started": "2023-02-25T13:48:35.347306Z"
    }
   },
   "outputs": [],
   "source": [
    "assert not pak.any_nan(translate_lex)\n",
    "#pak.nnan(translate_lex)"
   ]
  },
  {
   "cell_type": "markdown",
   "id": "f0c205f8-1f00-406e-a8f4-d3dcd2aedd5c",
   "metadata": {},
   "source": [
    "### Div"
   ]
  },
  {
   "cell_type": "code",
   "execution_count": null,
   "id": "2363523a-aaa1-47f4-8f94-d24d0311c89e",
   "metadata": {
    "execution": {
     "iopub.status.busy": "2023-02-25T13:48:35.347950Z",
     "iopub.status.idle": "2023-02-25T13:48:35.348233Z",
     "shell.execute_reply": "2023-02-25T13:48:35.348108Z",
     "shell.execute_reply.started": "2023-02-25T13:48:35.348094Z"
    }
   },
   "outputs": [],
   "source": [
    "# lemma_id und data_id müssen gleich sein\n",
    "mask1 = wiktionary_merkmal.merkmal == 'lemma'\n",
    "mask2 = wiktionary_merkmal.lemma_id != wiktionary_merkmal.data_id\n",
    "mask = mask1  &  mask2\n",
    "check_mask(wiktionary_merkmal,mask,0)"
   ]
  },
  {
   "cell_type": "code",
   "execution_count": null,
   "id": "67c7172d-0946-420d-a0fd-051f9e54742f",
   "metadata": {
    "execution": {
     "iopub.status.busy": "2023-02-25T13:48:35.372122Z",
     "iopub.status.idle": "2023-02-25T13:48:35.372492Z",
     "shell.execute_reply": "2023-02-25T13:48:35.372340Z",
     "shell.execute_reply.started": "2023-02-25T13:48:35.372324Z"
    }
   },
   "outputs": [],
   "source": [
    "# lemma und data müssen gleich sein\n",
    "mask1 = wiktionary_merkmal.merkmal == 'lemma'\n",
    "mask2 = wiktionary_merkmal.lemma != wiktionary_merkmal.data\n",
    "mask = mask1  &  mask2\n",
    "check_mask(wiktionary_merkmal,mask,0)"
   ]
  },
  {
   "cell_type": "markdown",
   "id": "d5d6697f-33a2-4ca2-97c3-27d9fce701c2",
   "metadata": {},
   "source": [
    "### Partizipien prüfen"
   ]
  },
  {
   "cell_type": "code",
   "execution_count": null,
   "id": "e5a1264b-4d6e-4e91-8dd4-6f5ed8982c09",
   "metadata": {
    "execution": {
     "iopub.status.busy": "2023-02-25T13:48:35.373098Z",
     "iopub.status.idle": "2023-02-25T13:48:35.373420Z",
     "shell.execute_reply": "2023-02-25T13:48:35.373281Z",
     "shell.execute_reply.started": "2023-02-25T13:48:35.373267Z"
    }
   },
   "outputs": [],
   "source": [
    "#suche_L = 'missraten' \n",
    "#suche_P = 'missraten'  \n",
    "\n",
    "suche_L = 'gefriertrocknen' \n",
    "suche_P = 'gefriergetrocknet'  "
   ]
  },
  {
   "cell_type": "code",
   "execution_count": null,
   "id": "a5e457e1-1cde-4273-9ba4-b454de297413",
   "metadata": {
    "execution": {
     "iopub.status.busy": "2023-02-25T13:48:35.373983Z",
     "iopub.status.idle": "2023-02-25T13:48:35.374259Z",
     "shell.execute_reply": "2023-02-25T13:48:35.374136Z",
     "shell.execute_reply.started": "2023-02-25T13:48:35.374123Z"
    }
   },
   "outputs": [],
   "source": [
    "# wiktionary_merkmal\n",
    "mask1 = wiktionary_merkmal.is_lex == True\n",
    "mask2 = wiktionary_merkmal.data  == suche_P\n",
    "mask = mask1  &  mask2\n",
    "wiktionary_merkmal[mask]"
   ]
  },
  {
   "cell_type": "code",
   "execution_count": null,
   "id": "cffa5900-c859-489f-aff0-b7803ec56433",
   "metadata": {
    "execution": {
     "iopub.status.busy": "2023-02-25T13:48:35.374753Z",
     "iopub.status.idle": "2023-02-25T13:48:35.375189Z",
     "shell.execute_reply": "2023-02-25T13:48:35.374906Z",
     "shell.execute_reply.started": "2023-02-25T13:48:35.374892Z"
    }
   },
   "outputs": [],
   "source": [
    "# das Verb in wiktionary_lemma\n",
    "mask1 = wiktionary_lemma.lemma == suche_L\n",
    "mask2 = wiktionary_lemma.tagZZ == 'V'\n",
    "mask = mask1  &  mask2\n",
    "\n",
    "suche_L_id = wiktionary_lemma[mask].iloc[0].lemma_id\n",
    "wiktionary_lemma[mask]"
   ]
  },
  {
   "cell_type": "code",
   "execution_count": null,
   "id": "53bd728b-0f50-4a9b-baba-da12b22472a3",
   "metadata": {
    "execution": {
     "iopub.status.busy": "2023-02-25T13:48:35.387020Z",
     "iopub.status.idle": "2023-02-25T13:48:35.387371Z",
     "shell.execute_reply": "2023-02-25T13:48:35.387230Z",
     "shell.execute_reply.started": "2023-02-25T13:48:35.387215Z"
    }
   },
   "outputs": [],
   "source": [
    "# das Adjektiv in wiktionary_lemma\n",
    "mask1 = wiktionary_lemma.lemma == suche_P\n",
    "mask2 = wiktionary_lemma.tagZZ == 'A'\n",
    "mask3 = wiktionary_lemma.member.str.contains('Ptz')\n",
    "mask4 = wiktionary_lemma.data_id == suche_L_id\n",
    "mask = mask1  &  mask2  &  mask3  &  mask4\n",
    "\n",
    "suche_P_id = wiktionary_lemma[mask].iloc[0].lemma_id\n",
    "wiktionary_lemma[mask]"
   ]
  },
  {
   "cell_type": "code",
   "execution_count": null,
   "id": "bbc577e2-61b7-437b-b233-2050eabb484d",
   "metadata": {
    "execution": {
     "iopub.status.busy": "2023-02-25T13:48:35.387916Z",
     "iopub.status.idle": "2023-02-25T13:48:35.388188Z",
     "shell.execute_reply": "2023-02-25T13:48:35.388066Z",
     "shell.execute_reply.started": "2023-02-25T13:48:35.388053Z"
    }
   },
   "outputs": [],
   "source": [
    "# Das Ptz-Merkmal in wiktionary_lemma\n",
    "mask1 = wiktionary_merkmal.data == suche_P\n",
    "mask2 = wiktionary_merkmal.merkmal.str.startswith('Ptz')\n",
    "mask3 = wiktionary_merkmal.lemma_tag.str.startswith('V')\n",
    "mask4 = wiktionary_merkmal.lemma_id == suche_L_id   # zeigt aufs Verb\n",
    "mask5 = wiktionary_merkmal.data_id  == suche_P_id   # zeigt aufs Adjektiv\n",
    "mask = mask1  &  mask2  &  mask3  &  mask4  &  mask5\n",
    "wiktionary_merkmal[mask]"
   ]
  },
  {
   "cell_type": "markdown",
   "id": "763eebf1-e865-4368-a351-b980951431da",
   "metadata": {},
   "source": [
    "### Testlexeme"
   ]
  },
  {
   "cell_type": "code",
   "execution_count": null,
   "id": "135e0d75-b2cd-46c0-a8d0-d48fc6339c7d",
   "metadata": {
    "execution": {
     "iopub.status.busy": "2023-02-25T13:48:35.388662Z",
     "iopub.status.idle": "2023-02-25T13:48:35.388912Z",
     "shell.execute_reply": "2023-02-25T13:48:35.388797Z",
     "shell.execute_reply.started": "2023-02-25T13:48:35.388784Z"
    }
   },
   "outputs": [],
   "source": [
    "# lex_test, lemma_test\n",
    "from x32_Funktionen import *\n",
    "lex_test, lemma_test = lade_lex_text( lex_test_filename, level=3 )\n",
    "#grid(lemma_test)"
   ]
  },
  {
   "cell_type": "code",
   "execution_count": null,
   "id": "88f75752-27cf-4e2e-ba97-1b692d769499",
   "metadata": {
    "execution": {
     "iopub.status.busy": "2023-02-25T13:48:35.389396Z",
     "iopub.status.idle": "2023-02-25T13:48:35.389701Z",
     "shell.execute_reply": "2023-02-25T13:48:35.389561Z",
     "shell.execute_reply.started": "2023-02-25T13:48:35.389547Z"
    }
   },
   "outputs": [],
   "source": [
    "# lemma_test\n",
    "from x32_Funktionen import *\n",
    "lemma_test = check_lemma_test(lemma_test, wiktionary_lemma)\n",
    "#lemma_test"
   ]
  },
  {
   "cell_type": "code",
   "execution_count": null,
   "id": "43749768-2493-4178-abee-4a62685b260d",
   "metadata": {
    "execution": {
     "iopub.status.busy": "2023-02-25T13:48:35.390289Z",
     "iopub.status.idle": "2023-02-25T13:48:35.390619Z",
     "shell.execute_reply": "2023-02-25T13:48:35.390474Z",
     "shell.execute_reply.started": "2023-02-25T13:48:35.390459Z"
    }
   },
   "outputs": [],
   "source": [
    "# Fehler\n",
    "maskA = lemma_test.lemma_id == ''\n",
    "maskB = lemma_test.check_tag == ''\n",
    "maskC = lemma_test.check_member == ''\n",
    "mask = maskA | maskB | maskC\n",
    "check_mask(lemma_test,mask)\n",
    "\n",
    "probleme = list(lemma_test[mask].lemma)\n",
    "lemma_test[mask]"
   ]
  },
  {
   "cell_type": "code",
   "execution_count": null,
   "id": "de3afaa9-8b89-423c-bf22-e1b9ac03a3b0",
   "metadata": {
    "execution": {
     "iopub.status.busy": "2023-02-25T13:48:35.395739Z",
     "iopub.status.idle": "2023-02-25T13:48:35.404390Z",
     "shell.execute_reply": "2023-02-25T13:48:35.396003Z",
     "shell.execute_reply.started": "2023-02-25T13:48:35.395986Z"
    }
   },
   "outputs": [],
   "source": [
    "# Sicherstellen: Keine Fehler\n",
    "check_mask(lemma_test,mask,0)"
   ]
  },
  {
   "cell_type": "markdown",
   "id": "a66bb7ab-5fb9-496e-ab22-b8aae1672f3e",
   "metadata": {},
   "source": [
    "### lex_test"
   ]
  },
  {
   "cell_type": "code",
   "execution_count": null,
   "id": "f9c05395-cac0-4dc1-957a-c909edc4e40e",
   "metadata": {
    "execution": {
     "iopub.status.busy": "2023-02-25T13:48:35.406236Z",
     "iopub.status.idle": "2023-02-25T13:48:35.407361Z",
     "shell.execute_reply": "2023-02-25T13:48:35.406628Z",
     "shell.execute_reply.started": "2023-02-25T13:48:35.406601Z"
    }
   },
   "outputs": [],
   "source": [
    "# lex_test\n",
    "from x32_Funktionen import *\n",
    "lex_test = check_lex_test(lex_test, translate_lex)\n",
    "#lex_test"
   ]
  },
  {
   "cell_type": "code",
   "execution_count": null,
   "id": "4a6ad556-704e-4ebf-b076-0ff5138dbf0b",
   "metadata": {
    "execution": {
     "iopub.status.busy": "2023-02-25T13:48:35.418724Z",
     "iopub.status.idle": "2023-02-25T13:48:35.419082Z",
     "shell.execute_reply": "2023-02-25T13:48:35.418941Z",
     "shell.execute_reply.started": "2023-02-25T13:48:35.418910Z"
    }
   },
   "outputs": [],
   "source": [
    "# Fehler\n",
    "maskA = lex_test.lex_id == ''\n",
    "maskB = lex_test.check_tag == ''\n",
    "mask = maskA | maskB \n",
    "check_mask(lex_test,mask)\n",
    "\n",
    "probleme = list(lex_test[mask].lemma)\n",
    "lex_test[mask]"
   ]
  },
  {
   "cell_type": "code",
   "execution_count": null,
   "id": "6a6bc795-129d-4517-8819-fdfb74d00311",
   "metadata": {
    "execution": {
     "iopub.status.busy": "2023-02-25T13:48:35.419605Z",
     "iopub.status.idle": "2023-02-25T13:48:35.419874Z",
     "shell.execute_reply": "2023-02-25T13:48:35.419753Z",
     "shell.execute_reply.started": "2023-02-25T13:48:35.419739Z"
    }
   },
   "outputs": [],
   "source": [
    "# Sicherstellen: Keine Fehler\n",
    "check_mask(lex_test,mask,0)"
   ]
  },
  {
   "cell_type": "code",
   "execution_count": null,
   "id": "3c2159e7-cc7a-4479-8167-3ecaceaa273e",
   "metadata": {
    "execution": {
     "iopub.status.busy": "2023-02-25T13:48:35.420359Z",
     "iopub.status.idle": "2023-02-25T13:48:35.420642Z",
     "shell.execute_reply": "2023-02-25T13:48:35.420512Z",
     "shell.execute_reply.started": "2023-02-25T13:48:35.420499Z"
    },
    "tags": []
   },
   "outputs": [],
   "source": [
    "\n",
    "\n",
    "\n",
    "\n",
    "\n",
    "\n",
    "\n",
    "\n",
    "\n",
    "\n",
    "\n",
    "\n",
    "\n",
    "\n",
    "bgc('green')"
   ]
  },
  {
   "cell_type": "markdown",
   "id": "9fbb670c-f77d-48dc-81a7-4f0b96198d30",
   "metadata": {},
   "source": [
    "### Fehler analysieren"
   ]
  },
  {
   "cell_type": "code",
   "execution_count": null,
   "id": "2891b2ba-506d-495a-9654-048a982998c3",
   "metadata": {
    "execution": {
     "iopub.status.busy": "2023-02-25T13:48:35.421158Z",
     "iopub.status.idle": "2023-02-25T13:48:35.421431Z",
     "shell.execute_reply": "2023-02-25T13:48:35.421309Z",
     "shell.execute_reply.started": "2023-02-25T13:48:35.421295Z"
    }
   },
   "outputs": [],
   "source": [
    "sucheL = ['ausrutschen']\n",
    "suche  = ['ausgerutscht']"
   ]
  },
  {
   "cell_type": "code",
   "execution_count": null,
   "id": "7b92b7bd-dc9a-4e5e-b869-b7b206d4288a",
   "metadata": {
    "execution": {
     "iopub.status.busy": "2023-02-25T13:48:35.421900Z",
     "iopub.status.idle": "2023-02-25T13:48:35.422156Z",
     "shell.execute_reply": "2023-02-25T13:48:35.422037Z",
     "shell.execute_reply.started": "2023-02-25T13:48:35.422024Z"
    }
   },
   "outputs": [],
   "source": [
    "mask = lex_test.lex.isin(suche)\n",
    "lex_test[mask]"
   ]
  },
  {
   "cell_type": "code",
   "execution_count": null,
   "id": "f6e1c534-7503-4832-b2f0-5a6f16668a86",
   "metadata": {
    "execution": {
     "iopub.status.busy": "2023-02-25T13:48:35.422636Z",
     "iopub.status.idle": "2023-02-25T13:48:35.422914Z",
     "shell.execute_reply": "2023-02-25T13:48:35.422784Z",
     "shell.execute_reply.started": "2023-02-25T13:48:35.422770Z"
    }
   },
   "outputs": [],
   "source": [
    "mask = translate_lex.data.isin(suche)\n",
    "translate_lex[mask]"
   ]
  },
  {
   "cell_type": "code",
   "execution_count": null,
   "id": "421e55d9-e36d-4e8d-beff-f2868c2aa2e7",
   "metadata": {
    "execution": {
     "iopub.status.busy": "2023-02-25T13:48:35.455268Z",
     "iopub.status.idle": "2023-02-25T13:48:35.455626Z",
     "shell.execute_reply": "2023-02-25T13:48:35.455484Z",
     "shell.execute_reply.started": "2023-02-25T13:48:35.455470Z"
    }
   },
   "outputs": [],
   "source": [
    "mask = translate_lex_trash.data.isin(sucheL)\n",
    "translate_lex_trash[mask]"
   ]
  },
  {
   "cell_type": "code",
   "execution_count": null,
   "id": "52bbcec6-dd8e-4aaa-87cd-15b74cb15039",
   "metadata": {
    "execution": {
     "iopub.status.busy": "2023-02-25T13:48:35.465216Z",
     "iopub.status.idle": "2023-02-25T13:48:35.465839Z",
     "shell.execute_reply": "2023-02-25T13:48:35.465591Z",
     "shell.execute_reply.started": "2023-02-25T13:48:35.465566Z"
    }
   },
   "outputs": [],
   "source": [
    "mask = wiktionary_lemma.lemma.isin( sucheL + suche )\n",
    "wiktionary_lemma[mask]"
   ]
  },
  {
   "cell_type": "code",
   "execution_count": null,
   "id": "37287949-3d0f-4766-8638-400679b391eb",
   "metadata": {
    "execution": {
     "iopub.status.busy": "2023-02-25T13:48:35.466829Z",
     "iopub.status.idle": "2023-02-25T13:48:35.475921Z",
     "shell.execute_reply": "2023-02-25T13:48:35.475702Z",
     "shell.execute_reply.started": "2023-02-25T13:48:35.475673Z"
    }
   },
   "outputs": [],
   "source": [
    "mask1 = wiktionary_merkmal.data.isin(suche)\n",
    "mask2 = wiktionary_merkmal.is_lex == True\n",
    "mask = mask1  &  mask2\n",
    "wiktionary_merkmal[mask].sort_values(['lemma_id','merkmal','data'])"
   ]
  },
  {
   "cell_type": "code",
   "execution_count": null,
   "id": "ab07f6c7-bf7c-4cdb-b30f-31a448ed96f0",
   "metadata": {
    "execution": {
     "iopub.status.busy": "2023-02-25T13:48:35.476767Z",
     "iopub.status.idle": "2023-02-25T13:48:35.477162Z",
     "shell.execute_reply": "2023-02-25T13:48:35.477022Z",
     "shell.execute_reply.started": "2023-02-25T13:48:35.477005Z"
    }
   },
   "outputs": [],
   "source": [
    "grid(lex_test)"
   ]
  },
  {
   "cell_type": "markdown",
   "id": "1c8ecfd9-b120-4837-a969-199988d73e17",
   "metadata": {},
   "source": [
    "## Speichern =========="
   ]
  },
  {
   "cell_type": "code",
   "execution_count": null,
   "id": "a33a20ab",
   "metadata": {
    "execution": {
     "iopub.status.busy": "2023-02-25T13:48:35.483588Z",
     "iopub.status.idle": "2023-02-25T13:48:35.484012Z",
     "shell.execute_reply": "2023-02-25T13:48:35.483870Z",
     "shell.execute_reply.started": "2023-02-25T13:48:35.483854Z"
    },
    "tags": []
   },
   "outputs": [],
   "source": [
    "assert gründlich"
   ]
  },
  {
   "cell_type": "code",
   "execution_count": null,
   "id": "4e9d3aa1",
   "metadata": {
    "execution": {
     "iopub.status.busy": "2023-02-25T13:48:35.485094Z",
     "iopub.status.idle": "2023-02-25T13:48:35.485593Z",
     "shell.execute_reply": "2023-02-25T13:48:35.485446Z",
     "shell.execute_reply.started": "2023-02-25T13:48:35.485429Z"
    }
   },
   "outputs": [],
   "source": [
    "# Speichern  \n",
    "pak.dump_pickle(wiktionary_lemma,         wiktionary_lemma_filename_save)   \n",
    "pak.dump_pickle(wiktionary_merkmal,       wiktionary_merkmal_filename_save) \n",
    "pak.dump_pickle(wiktionary_merkmal_text,  wiktionary_merkmal_text_filename_save)  \n",
    "pak.dump_pickle(translate_lemma,          translate_lemma_filename_save) \n",
    "pak.dump_pickle(translate_lex,            translate_lex_filename_save)\n",
    "pak.dump_pickle(translate_lex_trash,      translate_lex_trash_filename_save)\n",
    "os.utime(verzeichnis_save)"
   ]
  },
  {
   "cell_type": "code",
   "execution_count": null,
   "id": "a27f2dc0-4022-4c0b-a658-c370c14428d8",
   "metadata": {
    "execution": {
     "iopub.status.busy": "2023-02-25T13:48:35.487570Z",
     "iopub.status.idle": "2023-02-25T13:48:35.490689Z",
     "shell.execute_reply": "2023-02-25T13:48:35.490471Z",
     "shell.execute_reply.started": "2023-02-25T13:48:35.490444Z"
    }
   },
   "outputs": [],
   "source": [
    "# drop_cols\n",
    "wiktionary_merkmal = pak.drop_cols(wiktionary_merkmal, ['data_id_old','data_id_bak'])"
   ]
  },
  {
   "cell_type": "code",
   "execution_count": null,
   "id": "83ba2e69-bbc3-4a6c-a288-60259976eb93",
   "metadata": {
    "colab": {
     "base_uri": "https://localhost:8080/"
    },
    "execution": {
     "iopub.status.busy": "2023-02-25T13:48:35.491540Z",
     "iopub.status.idle": "2023-02-25T13:48:35.499308Z",
     "shell.execute_reply": "2023-02-25T13:48:35.499088Z",
     "shell.execute_reply.started": "2023-02-25T13:48:35.499059Z"
    },
    "executionInfo": {
     "elapsed": 7425,
     "status": "ok",
     "timestamp": 1676479015113,
     "user": {
      "displayName": "Hups Hopsalla",
      "userId": "10020718461385065661"
     },
     "user_tz": -60
    },
    "id": "dbiDceKXyUx7",
    "outputId": "beb0cf2a-bc86-47c4-81e6-b11c7354957c"
   },
   "outputs": [],
   "source": [
    "# Save in Google Drive\n",
    "if environment['in_colab']:\n",
    "    from google.colab import drive\n",
    "    drive.mount('/content/drive') \n",
    "    !cd /content\n",
    "    !cp -av {verzeichnis_save} /content/drive/MyDrive"
   ]
  },
  {
   "cell_type": "code",
   "execution_count": null,
   "id": "36ab1941-6981-458d-9161-1a5dee3dbd30",
   "metadata": {
    "execution": {
     "iopub.status.busy": "2023-02-25T13:48:35.500156Z",
     "iopub.status.idle": "2023-02-25T13:48:35.500522Z",
     "shell.execute_reply": "2023-02-25T13:48:35.500391Z",
     "shell.execute_reply.started": "2023-02-25T13:48:35.500376Z"
    }
   },
   "outputs": [],
   "source": [
    "raise Stop"
   ]
  },
  {
   "cell_type": "markdown",
   "id": "1eaba513-664a-4456-b6d1-b3f0a44c1b49",
   "metadata": {},
   "source": [
    "## suche_error =========="
   ]
  },
  {
   "cell_type": "code",
   "execution_count": null,
   "id": "24c03f7e-258d-49b1-a124-f23ddf2c5cdd",
   "metadata": {
    "execution": {
     "iopub.status.busy": "2023-02-25T13:48:35.501336Z",
     "iopub.status.idle": "2023-02-25T13:48:35.501815Z",
     "shell.execute_reply": "2023-02-25T13:48:35.501676Z",
     "shell.execute_reply.started": "2023-02-25T13:48:35.501660Z"
    }
   },
   "outputs": [],
   "source": [
    "suche_debug = [suche_error[1]]\n",
    "suche_debug"
   ]
  },
  {
   "cell_type": "code",
   "execution_count": null,
   "id": "88773037-0db2-4046-b43a-15f17e679149",
   "metadata": {
    "execution": {
     "iopub.status.busy": "2023-02-25T13:48:35.507553Z",
     "iopub.status.idle": "2023-02-25T13:48:35.507964Z",
     "shell.execute_reply": "2023-02-25T13:48:35.507827Z",
     "shell.execute_reply.started": "2023-02-25T13:48:35.507812Z"
    }
   },
   "outputs": [],
   "source": [
    "# suche_debug wiktionary_lemma\n",
    "mask = wiktionary_lemma.lemma.isin(suche_debug)\n",
    "(wiktionary_lemma[mask])"
   ]
  },
  {
   "cell_type": "code",
   "execution_count": null,
   "id": "40faf83c-fc88-418b-8a2b-8380713ab24d",
   "metadata": {
    "execution": {
     "iopub.status.busy": "2023-02-25T13:48:35.508764Z",
     "iopub.status.idle": "2023-02-25T13:48:35.509052Z",
     "shell.execute_reply": "2023-02-25T13:48:35.508928Z",
     "shell.execute_reply.started": "2023-02-25T13:48:35.508914Z"
    }
   },
   "outputs": [],
   "source": [
    "# suche_debug wiktionary_lemma_trash\n",
    "mask = wiktionary_lemma_trash.lemma.isin(suche_debug)\n",
    "(wiktionary_lemma_trash[mask])"
   ]
  },
  {
   "cell_type": "code",
   "execution_count": null,
   "id": "c9e70e15-6152-43ee-9fe5-737ea458f9b1",
   "metadata": {
    "execution": {
     "iopub.status.busy": "2023-02-25T13:48:35.509947Z",
     "iopub.status.idle": "2023-02-25T13:48:35.515314Z",
     "shell.execute_reply": "2023-02-25T13:48:35.515090Z",
     "shell.execute_reply.started": "2023-02-25T13:48:35.515061Z"
    }
   },
   "outputs": [],
   "source": [
    "# translate_lex\n",
    "search_str(translate_lex, suche_debug)"
   ]
  },
  {
   "cell_type": "code",
   "execution_count": null,
   "id": "00983009-8dcf-46b7-bfcc-149fa6791c28",
   "metadata": {
    "execution": {
     "iopub.status.busy": "2023-02-25T13:48:35.516163Z",
     "iopub.status.idle": "2023-02-25T13:48:35.516517Z",
     "shell.execute_reply": "2023-02-25T13:48:35.516390Z",
     "shell.execute_reply.started": "2023-02-25T13:48:35.516375Z"
    }
   },
   "outputs": [],
   "source": [
    "# suche_debug translate_lemma\n",
    "search_str(translate_lemma, suche_debug)"
   ]
  },
  {
   "cell_type": "code",
   "execution_count": null,
   "id": "2fc4bafd-6b42-4c13-ba06-75006aa12460",
   "metadata": {
    "execution": {
     "iopub.status.busy": "2023-02-25T13:48:35.517537Z",
     "iopub.status.idle": "2023-02-25T13:48:35.517880Z",
     "shell.execute_reply": "2023-02-25T13:48:35.517754Z",
     "shell.execute_reply.started": "2023-02-25T13:48:35.517739Z"
    }
   },
   "outputs": [],
   "source": [
    "# wiktionary_merkmal\n",
    "mask = wiktionary_merkmal.lemma.isin(suche_debug)\n",
    "grid(wiktionary_merkmal,mask)"
   ]
  },
  {
   "cell_type": "code",
   "execution_count": null,
   "id": "ae164b8e-1732-4cf5-a694-132e0f6c055a",
   "metadata": {
    "execution": {
     "iopub.status.busy": "2023-02-25T13:48:35.520787Z",
     "iopub.status.idle": "2023-02-25T13:48:35.521251Z",
     "shell.execute_reply": "2023-02-25T13:48:35.521093Z",
     "shell.execute_reply.started": "2023-02-25T13:48:35.521074Z"
    }
   },
   "outputs": [],
   "source": [
    "# wiktionary_merkmal\n",
    "mask = wiktionary_merkmal.data.isin(['besonne'])\n",
    "grid(wiktionary_merkmal,mask)"
   ]
  },
  {
   "cell_type": "code",
   "execution_count": null,
   "id": "46b088c6-eb41-436d-9591-e6b5cdf1aebe",
   "metadata": {
    "execution": {
     "iopub.status.busy": "2023-02-25T13:48:35.522588Z",
     "iopub.status.idle": "2023-02-25T13:48:35.524113Z",
     "shell.execute_reply": "2023-02-25T13:48:35.523739Z",
     "shell.execute_reply.started": "2023-02-25T13:48:35.523690Z"
    }
   },
   "outputs": [],
   "source": [
    "# suche_debug wiktionary_merkmal\n",
    "mask = wiktionary_merkmal.is_lex == True\n",
    "a = search_str(wiktionary_merkmal[mask], suche_debug)\n",
    "grid(a.sort_values(['lemma_id','merkmal']))"
   ]
  },
  {
   "cell_type": "code",
   "execution_count": null,
   "id": "1f93716f-977b-460b-af0e-896e39f50e86",
   "metadata": {
    "execution": {
     "iopub.status.busy": "2023-02-25T13:48:35.532292Z",
     "iopub.status.idle": "2023-02-25T13:48:35.533207Z",
     "shell.execute_reply": "2023-02-25T13:48:35.532937Z",
     "shell.execute_reply.started": "2023-02-25T13:48:35.532903Z"
    }
   },
   "outputs": [],
   "source": [
    "# suche_debug wiktionary_merkmal\n",
    "mask = wiktionary_merkmal.is_lex == True\n",
    "a = search_str(wiktionary_merkmal[mask], suche_debug)\n",
    "grid(a.sort_values(['lemma_id','merkmal']))"
   ]
  },
  {
   "cell_type": "code",
   "execution_count": null,
   "id": "d30ef5f4-f78a-49fe-83f3-87a41d41889d",
   "metadata": {
    "execution": {
     "iopub.status.busy": "2023-02-25T13:48:35.535248Z",
     "iopub.status.idle": "2023-02-25T13:48:35.535935Z",
     "shell.execute_reply": "2023-02-25T13:48:35.535644Z",
     "shell.execute_reply.started": "2023-02-25T13:48:35.535622Z"
    }
   },
   "outputs": [],
   "source": [
    "# suche_debug wiktionary_merkmal_text\n",
    "mask = wiktionary_merkmal.lemma_id.isin(suche_debug)\n",
    "ids = set(wiktionary_merkmal[mask].lemma_id)\n",
    "mask = wiktionary_merkmal_text.lemma_id.isin(ids)\n",
    "grid(wiktionary_merkmal_text,mask)"
   ]
  },
  {
   "cell_type": "code",
   "execution_count": null,
   "id": "5414a0f7-4e31-43dd-90e4-714dd9b6b661",
   "metadata": {
    "execution": {
     "iopub.status.busy": "2023-02-25T13:48:35.539162Z",
     "iopub.status.idle": "2023-02-25T13:48:35.540537Z",
     "shell.execute_reply": "2023-02-25T13:48:35.540339Z",
     "shell.execute_reply.started": "2023-02-25T13:48:35.540314Z"
    },
    "tags": []
   },
   "outputs": [],
   "source": [
    "raise Stop"
   ]
  },
  {
   "cell_type": "markdown",
   "id": "76cc5b88-d3d5-467d-80bb-99b463a01a23",
   "metadata": {},
   "source": [
    "## Fragmente"
   ]
  },
  {
   "cell_type": "code",
   "execution_count": null,
   "id": "18fcfb80-541d-4ebb-bd63-474aadec64b7",
   "metadata": {
    "execution": {
     "iopub.status.busy": "2023-02-25T13:48:35.547419Z",
     "iopub.status.idle": "2023-02-25T13:48:35.547792Z",
     "shell.execute_reply": "2023-02-25T13:48:35.547638Z",
     "shell.execute_reply.started": "2023-02-25T13:48:35.547622Z"
    }
   },
   "outputs": [],
   "source": [
    "raise Stop"
   ]
  },
  {
   "cell_type": "code",
   "execution_count": null,
   "id": "53b841f1-3471-47bb-a49d-fec959a72a3e",
   "metadata": {
    "execution": {
     "iopub.status.busy": "2023-02-25T13:48:35.548691Z",
     "iopub.status.idle": "2023-02-25T13:48:35.549047Z",
     "shell.execute_reply": "2023-02-25T13:48:35.548918Z",
     "shell.execute_reply.started": "2023-02-25T13:48:35.548904Z"
    }
   },
   "outputs": [],
   "source": [
    "# rename_col \n",
    "translate_lex = pak.rename_col(translate_lex, 'data_id',    'lex_id')\n",
    "translate_lex = pak.rename_col(translate_lex, 'data_home',  'lex_home')\n",
    "translate_lex = pak.rename_col(translate_lex, 'data',       'lex')\n",
    "translate_lex = pak.rename_col(translate_lex, 'data_score', 'lex_score')\n",
    "\n",
    "translate_lex_full = pak.rename_col(translate_lex_full, 'data_id',    'lex_id')\n",
    "translate_lex_full = pak.rename_col(translate_lex_full, 'data_home',  'lex_home')\n",
    "translate_lex_full = pak.rename_col(translate_lex_full, 'data',       'lex')\n",
    "translate_lex_full = pak.rename_col(translate_lex_full, 'data_score', 'lex_score')\n",
    "\n",
    "translate_lemma = pak.rename_col(translate_lemma, 'same_lexlemma', 'same_lemlemma')"
   ]
  },
  {
   "cell_type": "code",
   "execution_count": null,
   "id": "f5c04021-eae2-4151-a8f3-e8f5ccb8bc50",
   "metadata": {
    "execution": {
     "iopub.status.busy": "2023-02-25T13:48:35.549860Z",
     "iopub.status.idle": "2023-02-25T13:48:35.550174Z",
     "shell.execute_reply": "2023-02-25T13:48:35.550040Z",
     "shell.execute_reply.started": "2023-02-25T13:48:35.550026Z"
    }
   },
   "outputs": [],
   "source": [
    "# rank!\n",
    "#translate_lex = pak.rank(translate_lex, col_score='score', cols_group='data_id', on_conflict='first')"
   ]
  },
  {
   "cell_type": "code",
   "execution_count": null,
   "id": "6573414a-a9a3-494a-a50e-db71650f96b9",
   "metadata": {
    "execution": {
     "iopub.status.busy": "2023-02-25T13:48:35.551195Z",
     "iopub.status.idle": "2023-02-25T13:48:35.551988Z",
     "shell.execute_reply": "2023-02-25T13:48:35.551834Z",
     "shell.execute_reply.started": "2023-02-25T13:48:35.551815Z"
    }
   },
   "outputs": [],
   "source": [
    "# rank!\n",
    "# Ein data_id pro data und lemma_tagZZ.\n",
    "vorher = translate_lex.shape[0]\n",
    "translate_lex = pak.rank(translate_lex, col_score='score', cols_group=['data','lemma_tagZZ'], on_conflict='first')\n",
    "print(vorher - translate_lex.shape[0], 'Datensätze gelöscht')"
   ]
  },
  {
   "cell_type": "code",
   "execution_count": null,
   "id": "fb71e060-ab8e-4ea9-b0b3-1d3573bef298",
   "metadata": {
    "execution": {
     "iopub.status.busy": "2023-02-25T13:48:35.559564Z",
     "iopub.status.idle": "2023-02-25T13:48:35.559906Z",
     "shell.execute_reply": "2023-02-25T13:48:35.559769Z",
     "shell.execute_reply.started": "2023-02-25T13:48:35.559754Z"
    }
   },
   "outputs": [],
   "source": [
    "# Dups in data + lemma: Sind stets verschiedene lemma_tagZZ\n",
    "mask = translate_lex.duplicated(subset=['data','lemma'], keep=False)\n",
    "a = translate_lex[mask].sort_values('data_id')\n",
    "#grid(a)"
   ]
  },
  {
   "cell_type": "code",
   "execution_count": null,
   "id": "d19b4166-58d6-4ef6-9545-da6e5e58c28e",
   "metadata": {
    "execution": {
     "iopub.status.busy": "2023-02-25T13:48:35.560410Z",
     "iopub.status.idle": "2023-02-25T13:48:35.563232Z",
     "shell.execute_reply": "2023-02-25T13:48:35.560562Z",
     "shell.execute_reply.started": "2023-02-25T13:48:35.560548Z"
    }
   },
   "outputs": [],
   "source": [
    "# Konfiguration Dups entfernen\n",
    "aggwords    =  pak.agg_words_nodup\n",
    "col_origins =  [ 'data_id',  'data_id2', 'data_id_bak', 'data', 'data_tag', 'data_tagZZ', 'data_score', 'member',  'lemma_id', 'lemma', 'lemma_tag', 'lemma_tagZZ', 'lemma_lower', 'lemma_score', 'data_home', 'lemma_home',  'same_lexlemma',  'score', ]\n",
    "col_funcs   =  [ 'max',      'min',      'max',         '',     '',         '',           'sum',        aggwords,  '',         '',      '',          '',            '',            'sum',         'first',     'first',       'first',          'sum',   ]   \n",
    "col_names   =  [ 'data_id',  'data_id2', 'data_id_bak', '',     '',         '',           'data_score', 'member',  '',         '',      '',          '',            '',            'lemma_score', 'data_home', 'lemma_home',  'same_lexlemma',  'score', ] "
   ]
  },
  {
   "cell_type": "code",
   "execution_count": null,
   "id": "49ee168a-276d-4ef4-9f90-007a5b9733c8",
   "metadata": {
    "execution": {
     "iopub.status.busy": "2023-02-25T13:48:35.565802Z",
     "iopub.status.idle": "2023-02-25T13:48:35.566226Z",
     "shell.execute_reply": "2023-02-25T13:48:35.566084Z",
     "shell.execute_reply.started": "2023-02-25T13:48:35.566067Z"
    },
    "tags": []
   },
   "outputs": [],
   "source": [
    "# Gruppieren!\n",
    "translate_lex = pak.group_and_agg( translate_lex, col_origins, col_funcs, col_names, optimize=True)"
   ]
  }
 ],
 "metadata": {
  "kernelspec": {
   "display_name": "Python 3 (ipykernel)",
   "language": "python",
   "name": "python3"
  },
  "language_info": {
   "codemirror_mode": {
    "name": "ipython",
    "version": 3
   },
   "file_extension": ".py",
   "mimetype": "text/x-python",
   "name": "python",
   "nbconvert_exporter": "python",
   "pygments_lexer": "ipython3",
   "version": "3.9.13"
  }
 },
 "nbformat": 4,
 "nbformat_minor": 5
}
