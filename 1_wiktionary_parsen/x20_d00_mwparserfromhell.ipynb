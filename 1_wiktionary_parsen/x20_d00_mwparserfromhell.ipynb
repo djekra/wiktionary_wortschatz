{
 "cells": [
  {
   "cell_type": "markdown",
   "metadata": {
    "id": "lSehjmZun5OP"
   },
   "source": [
    "__[Open and try this file online (Colab)](https://colab.research.google.com/github/djekra/wiktionary_wortschatz/blob/master/1_wiktionary_parsen/x20_d00_mwparserfromhell.ipynb)__"
   ]
  },
  {
   "cell_type": "markdown",
   "metadata": {},
   "source": [
    "# mwparserfromhell\n",
    "* erstellt die Dateien wiktionary_merkmal.pickle und wiktionary_merkmal_text.pickle in data_00\n",
    "* parst dafür wiktionary.wikitext mit mwparserfromhell\n",
    "* File wiktionary wird nicht neu gespeichert"
   ]
  },
  {
   "cell_type": "markdown",
   "metadata": {},
   "source": [
    "## Import"
   ]
  },
  {
   "cell_type": "code",
   "execution_count": 1,
   "metadata": {},
   "outputs": [
    {
     "name": "stdout",
     "output_type": "stream",
     "text": [
      "blab init\n",
      "environment['in_colab']     = False\n",
      "environment['dropbox_path'] = /home/me/Data_Linux/Dropbox\n",
      "environment['lib_path']     = /home/me/Data_Linux/Dropbox/31_Projekte/01_Python/libs\n",
      "Start Time: 13:24:16\n"
     ]
    },
    {
     "data": {
      "text/html": [
       "<img src onerror=\"var cell = this.closest('.jp-CodeCell');var editor = cell.querySelector('.jp-Editor');editor.style.background='Beige';this.parentNode.removeChild(this)\">"
      ],
      "text/plain": [
       "<IPython.core.display.HTML object>"
      ]
     },
     "metadata": {},
     "output_type": "display_data"
    },
    {
     "name": "stdout",
     "output_type": "stream",
     "text": [
      "time: 624 ms\n"
     ]
    }
   ],
   "source": [
    "# blab init\n",
    "try:\n",
    "    import blab\n",
    "except ImportError as e:\n",
    "    !pip install blab\n",
    "    import blab    \n",
    "startup_notebook = blab.blab_startup()\n",
    "%run $startup_notebook "
   ]
  },
  {
   "cell_type": "raw",
   "metadata": {
    "execution": {
     "iopub.execute_input": "2023-02-16T09:05:34.295673Z",
     "iopub.status.busy": "2023-02-16T09:05:34.295112Z",
     "iopub.status.idle": "2023-02-16T09:05:38.028322Z",
     "shell.execute_reply": "2023-02-16T09:05:38.027768Z",
     "shell.execute_reply.started": "2023-02-16T09:05:34.295655Z"
    }
   },
   "source": [
    "# alle anderen\n",
    "try:\n",
    "    import pandasklar as pak, bj_nlp, mwparserfromhell, pandarallel\n",
    "\n",
    "except ImportError as e:\n",
    "    !pip install pandasklar bj_nlp mwparserfromhell pandarallel\n",
    "    import pandasklar as pak, bj_nlp, mwparserfromhell, pandarallel\n",
    "    \n",
    "grid       = pak.grid\n",
    "check_mask = pak.check_mask      "
   ]
  },
  {
   "cell_type": "code",
   "execution_count": 2,
   "metadata": {},
   "outputs": [
    {
     "name": "stdout",
     "output_type": "stream",
     "text": [
      "time: 4.2 s\n"
     ]
    }
   ],
   "source": [
    "# alle anderen\n",
    "try:\n",
    "    import pandasklar as pak, bj_nlp, mwparserfromhell, swifter\n",
    "\n",
    "except ImportError as e:\n",
    "    !pip install pandasklar bj_nlp mwparserfromhell swifter\n",
    "    import pandasklar as pak, bj_nlp, mwparserfromhell, swifter\n",
    "    \n",
    "grid       = pak.grid\n",
    "check_mask = pak.check_mask      "
   ]
  },
  {
   "cell_type": "markdown",
   "metadata": {},
   "source": [
    "## Einstellungen"
   ]
  },
  {
   "cell_type": "code",
   "execution_count": 3,
   "metadata": {},
   "outputs": [
    {
     "name": "stdout",
     "output_type": "stream",
     "text": [
      "time: 51.6 ms\n"
     ]
    }
   ],
   "source": [
    "\n",
    "version = '_all'\n",
    "#version = '_short'\n",
    "speicher_freigeben = True    # sollen alte Ergebnisse gelöscht werden\n",
    "\n",
    "# Load\n",
    "verzeichnis_load                 = 'data_00'\n",
    "wiktionary_filename              = verzeichnis_load + '/wiktionary'               + version + '.pickle'  \n",
    "wiktionary_trash_filename        = verzeichnis_load + '/wiktionary_trash'         + version + '.pickle'\n",
    "\n",
    "# Save\n",
    "verzeichnis_save                 = 'data_00'\n",
    "wiktionary_merkmal_filename      = verzeichnis_save + '/wiktionary_merkmal'      + version + '.pickle'  \n",
    "wiktionary_merkmal_text_filename = verzeichnis_save + '/wiktionary_merkmal_text' + version + '.pickle'  \n",
    "\n",
    "# Was debuggen?\n",
    "suche_debug = ['entlassen','missraten']"
   ]
  },
  {
   "cell_type": "markdown",
   "metadata": {
    "id": "p1lM3YLgn5Ou"
   },
   "source": [
    "## Vorbereiten"
   ]
  },
  {
   "cell_type": "code",
   "execution_count": 4,
   "metadata": {
    "colab": {
     "base_uri": "https://localhost:8080/"
    },
    "executionInfo": {
     "elapsed": 13,
     "status": "ok",
     "timestamp": 1676476829076,
     "user": {
      "displayName": "Hups Hopsalla",
      "userId": "10020718461385065661"
     },
     "user_tz": -60
    },
    "id": "Oy4Rb6WZn5Ow",
    "outputId": "6b94d1aa-3ffa-4388-d3f4-53b785e09406"
   },
   "outputs": [
    {
     "name": "stdout",
     "output_type": "stream",
     "text": [
      "time: 44.4 ms\n"
     ]
    }
   ],
   "source": [
    "# Verzeichnisse erzeugen\n",
    "os.makedirs(verzeichnis_load, exist_ok=True) \n",
    "os.makedirs(verzeichnis_save, exist_ok=True) "
   ]
  },
  {
   "cell_type": "code",
   "execution_count": 5,
   "metadata": {},
   "outputs": [
    {
     "name": "stdout",
     "output_type": "stream",
     "text": [
      "time: 38.9 ms\n"
     ]
    }
   ],
   "source": [
    "# Steuertabellen und Python-Files von Github herunterladen\n",
    "import os\n",
    "if not os.path.exists('Steuertabellen'):\n",
    "   !git clone https://github.com/djekra/wiktionary_wortschatz.git\n",
    "   !cp -r wiktionary_wortschatz/1_wiktionary_parsen/Steuertabellen Steuertabellen\n",
    "   !cp -r wiktionary_wortschatz/1_wiktionary_parsen/*.py .\n",
    "#   !rm -r wiktionary_wortschatz"
   ]
  },
  {
   "cell_type": "code",
   "execution_count": 6,
   "metadata": {
    "colab": {
     "base_uri": "https://localhost:8080/"
    },
    "executionInfo": {
     "elapsed": 7425,
     "status": "ok",
     "timestamp": 1676479015113,
     "user": {
      "displayName": "Hups Hopsalla",
      "userId": "10020718461385065661"
     },
     "user_tz": -60
    },
    "id": "dbiDceKXyUx7",
    "outputId": "beb0cf2a-bc86-47c4-81e6-b11c7354957c"
   },
   "outputs": [
    {
     "name": "stdout",
     "output_type": "stream",
     "text": [
      "time: 43.8 ms\n"
     ]
    }
   ],
   "source": [
    "# Lade Ergebnisse der vorherigen Verarbeitungsstufe von Google Drive, falls nicht lokal vorhanden\n",
    "# Dieses Verzeichnis wurde in der vorherigen Verarbeitungsstufe angelegt (Notebook x10_d00_wiktionary_de_parser)\n",
    "if environment['in_colab']:\n",
    "    from google.colab import drive\n",
    "    drive.mount('/content/drive') \n",
    "    !cd /content\n",
    "    !cp -av /content/drive/MyDrive/{verzeichnis_load} ."
   ]
  },
  {
   "cell_type": "code",
   "execution_count": 7,
   "metadata": {},
   "outputs": [
    {
     "name": "stdout",
     "output_type": "stream",
     "text": [
      "time: 51 ms\n"
     ]
    }
   ],
   "source": [
    "# Weitere Imports \n",
    "from Steuertabellen.s01_Steuertabellen   import *\n",
    "\n",
    "# mwparserfromhell eigene Ergänzungen \n",
    "from x24_process_wikicode import *\n",
    "from x22_my_node          import *"
   ]
  },
  {
   "cell_type": "markdown",
   "metadata": {
    "execution": {
     "iopub.execute_input": "2023-02-16T09:05:38.202821Z",
     "iopub.status.busy": "2023-02-16T09:05:38.202522Z",
     "iopub.status.idle": "2023-02-16T09:05:38.240825Z",
     "shell.execute_reply": "2023-02-16T09:05:38.240284Z",
     "shell.execute_reply.started": "2023-02-16T09:05:38.202790Z"
    },
    "tags": []
   },
   "source": [
    "from pandarallel import pandarallel\n",
    "nb_workers = os.cpu_count()\n",
    "if nb_workers > 2:\n",
    "    nb_workers = int((nb_workers / 2) - 2)\n",
    "pandarallel.initialize(use_memory_fs=True, nb_workers=nb_workers, progress_bar=True)  "
   ]
  },
  {
   "cell_type": "code",
   "execution_count": 8,
   "metadata": {},
   "outputs": [
    {
     "name": "stdout",
     "output_type": "stream",
     "text": [
      "time: 37.4 ms\n"
     ]
    }
   ],
   "source": [
    "# Visualisiert einen Wikicode\n",
    "def see(wikicode):\n",
    "    return wikicode._get_tree(wikicode,list(),True,0)    "
   ]
  },
  {
   "cell_type": "markdown",
   "metadata": {},
   "source": [
    "## Laden"
   ]
  },
  {
   "cell_type": "code",
   "execution_count": 9,
   "metadata": {},
   "outputs": [
    {
     "name": "stdout",
     "output_type": "stream",
     "text": [
      "time: 9.43 s\n"
     ]
    }
   ],
   "source": [
    "# Laden\n",
    "wiktionary       = pak.load_pickle(wiktionary_filename)\n",
    "wiktionary_trash = pak.load_pickle(wiktionary_trash_filename)"
   ]
  },
  {
   "cell_type": "code",
   "execution_count": 10,
   "metadata": {},
   "outputs": [
    {
     "name": "stdout",
     "output_type": "stream",
     "text": [
      "Einträge: 837593\n",
      "time: 50.9 ms\n"
     ]
    }
   ],
   "source": [
    "print('Einträge:', wiktionary.shape[0])"
   ]
  },
  {
   "cell_type": "code",
   "execution_count": 11,
   "metadata": {},
   "outputs": [
    {
     "name": "stdout",
     "output_type": "stream",
     "text": [
      "2 rows\n"
     ]
    },
    {
     "data": {
      "text/html": [
       "\n",
       "        <iframe\n",
       "            width=\"100%\"\n",
       "            height=\"475\"\n",
       "            src=\"http://pop-os:40001/dtale/iframe/1\"\n",
       "            frameborder=\"0\"\n",
       "            allowfullscreen\n",
       "            \n",
       "        ></iframe>\n",
       "        "
      ],
      "text/plain": [
       "<IPython.lib.display.IFrame at 0x7f3bd84fb8b0>"
      ]
     },
     "metadata": {},
     "output_type": "display_data"
    },
    {
     "data": {
      "text/plain": []
     },
     "execution_count": 11,
     "metadata": {},
     "output_type": "execute_result"
    },
    {
     "name": "stdout",
     "output_type": "stream",
     "text": [
      "time: 372 ms\n"
     ]
    }
   ],
   "source": [
    "# wiktionary anschauen\n",
    "mask = wiktionary.title.isin(suche_debug) \n",
    "r = wiktionary[mask].sort_values(['title','section_id2'])\n",
    "grid(r)"
   ]
  },
  {
   "cell_type": "code",
   "execution_count": 12,
   "metadata": {},
   "outputs": [
    {
     "data": {
      "text/html": [
       "<div>\n",
       "<style scoped>\n",
       "    .dataframe tbody tr th:only-of-type {\n",
       "        vertical-align: middle;\n",
       "    }\n",
       "\n",
       "    .dataframe tbody tr th {\n",
       "        vertical-align: top;\n",
       "    }\n",
       "\n",
       "    .dataframe thead th {\n",
       "        text-align: right;\n",
       "    }\n",
       "</style>\n",
       "<table border=\"1\" class=\"dataframe\">\n",
       "  <thead>\n",
       "    <tr style=\"text-align: right;\">\n",
       "      <th></th>\n",
       "      <th>col_name</th>\n",
       "      <th>datatype_instance</th>\n",
       "      <th>datatype</th>\n",
       "      <th>datatype_short</th>\n",
       "      <th>datatype_suggest</th>\n",
       "      <th>is_numeric</th>\n",
       "      <th>is_string</th>\n",
       "      <th>is_hashable</th>\n",
       "      <th>nan_allowed</th>\n",
       "      <th>mem_usage</th>\n",
       "      <th>ntypes</th>\n",
       "      <th>nunique</th>\n",
       "      <th>nnan</th>\n",
       "      <th>ndups</th>\n",
       "      <th>n</th>\n",
       "      <th>vmin</th>\n",
       "      <th>vmean</th>\n",
       "      <th>vmedian</th>\n",
       "      <th>vmax</th>\n",
       "      <th>vsum</th>\n",
       "    </tr>\n",
       "  </thead>\n",
       "  <tbody>\n",
       "    <tr>\n",
       "      <th>0</th>\n",
       "      <td>__index__</td>\n",
       "      <td>int64</td>\n",
       "      <td>np.int64</td>\n",
       "      <td>int64</td>\n",
       "      <td>np.int32</td>\n",
       "      <td>True</td>\n",
       "      <td>False</td>\n",
       "      <td>True</td>\n",
       "      <td>False</td>\n",
       "      <td>80.0 B</td>\n",
       "      <td>1</td>\n",
       "      <td>837593</td>\n",
       "      <td>0</td>\n",
       "      <td>0</td>\n",
       "      <td>837593</td>\n",
       "      <td>0.0</td>\n",
       "      <td>418796.00</td>\n",
       "      <td>418796.0</td>\n",
       "      <td>837592.0</td>\n",
       "      <td>3.507806e+11</td>\n",
       "    </tr>\n",
       "    <tr>\n",
       "      <th>1</th>\n",
       "      <td>section_id</td>\n",
       "      <td>int32</td>\n",
       "      <td>pd.Int32</td>\n",
       "      <td>Int32</td>\n",
       "      <td></td>\n",
       "      <td>True</td>\n",
       "      <td>False</td>\n",
       "      <td>True</td>\n",
       "      <td>True</td>\n",
       "      <td>50.0 B</td>\n",
       "      <td>1</td>\n",
       "      <td>837593</td>\n",
       "      <td>0</td>\n",
       "      <td>0</td>\n",
       "      <td>837593</td>\n",
       "      <td>0.0</td>\n",
       "      <td>62209823.28</td>\n",
       "      <td>62312700.0</td>\n",
       "      <td>111831800.0</td>\n",
       "      <td>5.210651e+13</td>\n",
       "    </tr>\n",
       "    <tr>\n",
       "      <th>2</th>\n",
       "      <td>page_id</td>\n",
       "      <td>int32</td>\n",
       "      <td>pd.Int32</td>\n",
       "      <td>Int32</td>\n",
       "      <td></td>\n",
       "      <td>True</td>\n",
       "      <td>False</td>\n",
       "      <td>True</td>\n",
       "      <td>True</td>\n",
       "      <td>50.0 B</td>\n",
       "      <td>1</td>\n",
       "      <td>802086</td>\n",
       "      <td>0</td>\n",
       "      <td>35507</td>\n",
       "      <td>837593</td>\n",
       "      <td>0.0</td>\n",
       "      <td>622098.23</td>\n",
       "      <td>623127.0</td>\n",
       "      <td>1118318.0</td>\n",
       "      <td>5.210651e+11</td>\n",
       "    </tr>\n",
       "    <tr>\n",
       "      <th>3</th>\n",
       "      <td>page_part</td>\n",
       "      <td>int8</td>\n",
       "      <td>pd.Int8</td>\n",
       "      <td>Int8</td>\n",
       "      <td></td>\n",
       "      <td>True</td>\n",
       "      <td>False</td>\n",
       "      <td>True</td>\n",
       "      <td>True</td>\n",
       "      <td>20.0 B</td>\n",
       "      <td>1</td>\n",
       "      <td>7</td>\n",
       "      <td>0</td>\n",
       "      <td>837586</td>\n",
       "      <td>837593</td>\n",
       "      <td>0.0</td>\n",
       "      <td>0.04</td>\n",
       "      <td>0.0</td>\n",
       "      <td>6.0</td>\n",
       "      <td>3.748300e+04</td>\n",
       "    </tr>\n",
       "    <tr>\n",
       "      <th>4</th>\n",
       "      <td>section_id2</td>\n",
       "      <td>str</td>\n",
       "      <td>pd.string</td>\n",
       "      <td>string</td>\n",
       "      <td></td>\n",
       "      <td>False</td>\n",
       "      <td>True</td>\n",
       "      <td>True</td>\n",
       "      <td>True</td>\n",
       "      <td>763.0 B</td>\n",
       "      <td>1</td>\n",
       "      <td>837593</td>\n",
       "      <td>0</td>\n",
       "      <td>0</td>\n",
       "      <td>837593</td>\n",
       "      <td>&amp;c.</td>\n",
       "      <td>NaN</td>\n",
       "      <td>NaN</td>\n",
       "      <td>μm</td>\n",
       "      <td>NaN</td>\n",
       "    </tr>\n",
       "    <tr>\n",
       "      <th>5</th>\n",
       "      <td>title</td>\n",
       "      <td>str</td>\n",
       "      <td>pd.string</td>\n",
       "      <td>string</td>\n",
       "      <td></td>\n",
       "      <td>False</td>\n",
       "      <td>True</td>\n",
       "      <td>True</td>\n",
       "      <td>True</td>\n",
       "      <td>761.0 B</td>\n",
       "      <td>1</td>\n",
       "      <td>802084</td>\n",
       "      <td>0</td>\n",
       "      <td>35509</td>\n",
       "      <td>837593</td>\n",
       "      <td>&amp;c.</td>\n",
       "      <td>NaN</td>\n",
       "      <td>NaN</td>\n",
       "      <td>μm</td>\n",
       "      <td>NaN</td>\n",
       "    </tr>\n",
       "    <tr>\n",
       "      <th>6</th>\n",
       "      <td>lemma</td>\n",
       "      <td>str</td>\n",
       "      <td>pd.string</td>\n",
       "      <td>string</td>\n",
       "      <td></td>\n",
       "      <td>False</td>\n",
       "      <td>True</td>\n",
       "      <td>True</td>\n",
       "      <td>True</td>\n",
       "      <td>749.0 B</td>\n",
       "      <td>1</td>\n",
       "      <td>159601</td>\n",
       "      <td>0</td>\n",
       "      <td>677992</td>\n",
       "      <td>837593</td>\n",
       "      <td>&amp;c.</td>\n",
       "      <td>NaN</td>\n",
       "      <td>NaN</td>\n",
       "      <td>μm</td>\n",
       "      <td>NaN</td>\n",
       "    </tr>\n",
       "    <tr>\n",
       "      <th>7</th>\n",
       "      <td>inflected</td>\n",
       "      <td>bool_</td>\n",
       "      <td>bool</td>\n",
       "      <td>bool</td>\n",
       "      <td></td>\n",
       "      <td>True</td>\n",
       "      <td>False</td>\n",
       "      <td>True</td>\n",
       "      <td>True</td>\n",
       "      <td>10.0 B</td>\n",
       "      <td>1</td>\n",
       "      <td>2</td>\n",
       "      <td>0</td>\n",
       "      <td>837591</td>\n",
       "      <td>837593</td>\n",
       "      <td>0.0</td>\n",
       "      <td>0.83</td>\n",
       "      <td>NaN</td>\n",
       "      <td>1.0</td>\n",
       "      <td>6.969110e+05</td>\n",
       "    </tr>\n",
       "    <tr>\n",
       "      <th>8</th>\n",
       "      <td>rhymes</td>\n",
       "      <td>list</td>\n",
       "      <td>object</td>\n",
       "      <td>object</td>\n",
       "      <td></td>\n",
       "      <td>False</td>\n",
       "      <td>True</td>\n",
       "      <td>False</td>\n",
       "      <td>True</td>\n",
       "      <td>512.0 B</td>\n",
       "      <td>1</td>\n",
       "      <td>39529</td>\n",
       "      <td>527175</td>\n",
       "      <td>270889</td>\n",
       "      <td>837593</td>\n",
       "      <td>[a]</td>\n",
       "      <td>NaN</td>\n",
       "      <td>NaN</td>\n",
       "      <td>[ʏʃəs, yːʃəs]</td>\n",
       "      <td>NaN</td>\n",
       "    </tr>\n",
       "    <tr>\n",
       "      <th>9</th>\n",
       "      <td>pos</td>\n",
       "      <td>dict</td>\n",
       "      <td>object</td>\n",
       "      <td>object</td>\n",
       "      <td></td>\n",
       "      <td>False</td>\n",
       "      <td>True</td>\n",
       "      <td>False</td>\n",
       "      <td>True</td>\n",
       "      <td>2.2 KB</td>\n",
       "      <td>1</td>\n",
       "      <td>163</td>\n",
       "      <td>0</td>\n",
       "      <td>837430</td>\n",
       "      <td>837593</td>\n",
       "      <td>NaN</td>\n",
       "      <td>NaN</td>\n",
       "      <td>NaN</td>\n",
       "      <td>NaN</td>\n",
       "      <td>NaN</td>\n",
       "    </tr>\n",
       "    <tr>\n",
       "      <th>10</th>\n",
       "      <td>section_len</td>\n",
       "      <td>int32</td>\n",
       "      <td>pd.Int32</td>\n",
       "      <td>Int32</td>\n",
       "      <td></td>\n",
       "      <td>True</td>\n",
       "      <td>False</td>\n",
       "      <td>True</td>\n",
       "      <td>True</td>\n",
       "      <td>50.0 B</td>\n",
       "      <td>1</td>\n",
       "      <td>8765</td>\n",
       "      <td>0</td>\n",
       "      <td>828828</td>\n",
       "      <td>837593</td>\n",
       "      <td>84.0</td>\n",
       "      <td>900.58</td>\n",
       "      <td>569.0</td>\n",
       "      <td>86973.0</td>\n",
       "      <td>7.543228e+08</td>\n",
       "    </tr>\n",
       "    <tr>\n",
       "      <th>11</th>\n",
       "      <td>flexion</td>\n",
       "      <td>dict</td>\n",
       "      <td>object</td>\n",
       "      <td>object</td>\n",
       "      <td></td>\n",
       "      <td>False</td>\n",
       "      <td>True</td>\n",
       "      <td>False</td>\n",
       "      <td>True</td>\n",
       "      <td>1.8 KB</td>\n",
       "      <td>1</td>\n",
       "      <td>123594</td>\n",
       "      <td>713384</td>\n",
       "      <td>615</td>\n",
       "      <td>837593</td>\n",
       "      <td>NaN</td>\n",
       "      <td>NaN</td>\n",
       "      <td>NaN</td>\n",
       "      <td>NaN</td>\n",
       "      <td>NaN</td>\n",
       "    </tr>\n",
       "    <tr>\n",
       "      <th>12</th>\n",
       "      <td>ipa</td>\n",
       "      <td>list</td>\n",
       "      <td>object</td>\n",
       "      <td>object</td>\n",
       "      <td></td>\n",
       "      <td>False</td>\n",
       "      <td>True</td>\n",
       "      <td>False</td>\n",
       "      <td>True</td>\n",
       "      <td>688.0 B</td>\n",
       "      <td>1</td>\n",
       "      <td>774610</td>\n",
       "      <td>14004</td>\n",
       "      <td>48979</td>\n",
       "      <td>837593</td>\n",
       "      <td>[-a]</td>\n",
       "      <td>NaN</td>\n",
       "      <td>NaN</td>\n",
       "      <td>[ại̯nĕˈβ̞ɛɐfɐ]</td>\n",
       "      <td>NaN</td>\n",
       "    </tr>\n",
       "    <tr>\n",
       "      <th>13</th>\n",
       "      <td>syllables</td>\n",
       "      <td>list</td>\n",
       "      <td>object</td>\n",
       "      <td>object</td>\n",
       "      <td></td>\n",
       "      <td>False</td>\n",
       "      <td>True</td>\n",
       "      <td>False</td>\n",
       "      <td>True</td>\n",
       "      <td>1.1 KB</td>\n",
       "      <td>1</td>\n",
       "      <td>796328</td>\n",
       "      <td>4949</td>\n",
       "      <td>36316</td>\n",
       "      <td>837593</td>\n",
       "      <td>[02, Li, ter, Fla, sche]</td>\n",
       "      <td>NaN</td>\n",
       "      <td>NaN</td>\n",
       "      <td>[’s, Her, to, gen, boschs]</td>\n",
       "      <td>NaN</td>\n",
       "    </tr>\n",
       "    <tr>\n",
       "      <th>14</th>\n",
       "      <td>lang</td>\n",
       "      <td>str</td>\n",
       "      <td>pd.string</td>\n",
       "      <td>string</td>\n",
       "      <td></td>\n",
       "      <td>False</td>\n",
       "      <td>True</td>\n",
       "      <td>True</td>\n",
       "      <td>True</td>\n",
       "      <td>640.0 B</td>\n",
       "      <td>1</td>\n",
       "      <td>1</td>\n",
       "      <td>0</td>\n",
       "      <td>837592</td>\n",
       "      <td>837593</td>\n",
       "      <td>Deutsch</td>\n",
       "      <td>NaN</td>\n",
       "      <td>NaN</td>\n",
       "      <td>Deutsch</td>\n",
       "      <td>NaN</td>\n",
       "    </tr>\n",
       "    <tr>\n",
       "      <th>15</th>\n",
       "      <td>lang_code</td>\n",
       "      <td>str</td>\n",
       "      <td>pd.string</td>\n",
       "      <td>string</td>\n",
       "      <td></td>\n",
       "      <td>False</td>\n",
       "      <td>True</td>\n",
       "      <td>True</td>\n",
       "      <td>True</td>\n",
       "      <td>590.0 B</td>\n",
       "      <td>1</td>\n",
       "      <td>1</td>\n",
       "      <td>0</td>\n",
       "      <td>837592</td>\n",
       "      <td>837593</td>\n",
       "      <td>de</td>\n",
       "      <td>NaN</td>\n",
       "      <td>NaN</td>\n",
       "      <td>de</td>\n",
       "      <td>NaN</td>\n",
       "    </tr>\n",
       "    <tr>\n",
       "      <th>16</th>\n",
       "      <td>wikitext</td>\n",
       "      <td>str</td>\n",
       "      <td>pd.string</td>\n",
       "      <td>string</td>\n",
       "      <td></td>\n",
       "      <td>False</td>\n",
       "      <td>True</td>\n",
       "      <td>True</td>\n",
       "      <td>True</td>\n",
       "      <td>27.1 KB</td>\n",
       "      <td>1</td>\n",
       "      <td>837593</td>\n",
       "      <td>0</td>\n",
       "      <td>0</td>\n",
       "      <td>837593</td>\n",
       "      <td>=== {{Wortart|Abkürzung|Deutsch}} ===\\n\\n:[[Bi...</td>\n",
       "      <td>NaN</td>\n",
       "      <td>NaN</td>\n",
       "      <td>=== {{Wortart|Zirkumfix|Deutsch}} ===\\n\\n{{Wor...</td>\n",
       "      <td>NaN</td>\n",
       "    </tr>\n",
       "    <tr>\n",
       "      <th>17</th>\n",
       "      <td>error</td>\n",
       "      <td>str</td>\n",
       "      <td>pd.string</td>\n",
       "      <td>string</td>\n",
       "      <td></td>\n",
       "      <td>False</td>\n",
       "      <td>True</td>\n",
       "      <td>True</td>\n",
       "      <td>True</td>\n",
       "      <td>570.0 B</td>\n",
       "      <td>1</td>\n",
       "      <td>1</td>\n",
       "      <td>0</td>\n",
       "      <td>837592</td>\n",
       "      <td>837593</td>\n",
       "      <td></td>\n",
       "      <td>NaN</td>\n",
       "      <td>NaN</td>\n",
       "      <td></td>\n",
       "      <td>NaN</td>\n",
       "    </tr>\n",
       "  </tbody>\n",
       "</table>\n",
       "</div>"
      ],
      "text/plain": [
       "       col_name datatype_instance   datatype datatype_short datatype_suggest  \\\n",
       "0     __index__             int64   np.int64          int64         np.int32   \n",
       "1    section_id             int32   pd.Int32          Int32                    \n",
       "2       page_id             int32   pd.Int32          Int32                    \n",
       "3     page_part              int8    pd.Int8           Int8                    \n",
       "4   section_id2               str  pd.string         string                    \n",
       "5         title               str  pd.string         string                    \n",
       "6         lemma               str  pd.string         string                    \n",
       "7     inflected             bool_       bool           bool                    \n",
       "8        rhymes              list     object         object                    \n",
       "9           pos              dict     object         object                    \n",
       "10  section_len             int32   pd.Int32          Int32                    \n",
       "11      flexion              dict     object         object                    \n",
       "12          ipa              list     object         object                    \n",
       "13    syllables              list     object         object                    \n",
       "14         lang               str  pd.string         string                    \n",
       "15    lang_code               str  pd.string         string                    \n",
       "16     wikitext               str  pd.string         string                    \n",
       "17        error               str  pd.string         string                    \n",
       "\n",
       "    is_numeric  is_string  is_hashable  nan_allowed mem_usage  ntypes  \\\n",
       "0         True      False         True        False    80.0 B       1   \n",
       "1         True      False         True         True    50.0 B       1   \n",
       "2         True      False         True         True    50.0 B       1   \n",
       "3         True      False         True         True    20.0 B       1   \n",
       "4        False       True         True         True   763.0 B       1   \n",
       "5        False       True         True         True   761.0 B       1   \n",
       "6        False       True         True         True   749.0 B       1   \n",
       "7         True      False         True         True    10.0 B       1   \n",
       "8        False       True        False         True   512.0 B       1   \n",
       "9        False       True        False         True    2.2 KB       1   \n",
       "10        True      False         True         True    50.0 B       1   \n",
       "11       False       True        False         True    1.8 KB       1   \n",
       "12       False       True        False         True   688.0 B       1   \n",
       "13       False       True        False         True    1.1 KB       1   \n",
       "14       False       True         True         True   640.0 B       1   \n",
       "15       False       True         True         True   590.0 B       1   \n",
       "16       False       True         True         True   27.1 KB       1   \n",
       "17       False       True         True         True   570.0 B       1   \n",
       "\n",
       "    nunique    nnan   ndups       n  \\\n",
       "0    837593       0       0  837593   \n",
       "1    837593       0       0  837593   \n",
       "2    802086       0   35507  837593   \n",
       "3         7       0  837586  837593   \n",
       "4    837593       0       0  837593   \n",
       "5    802084       0   35509  837593   \n",
       "6    159601       0  677992  837593   \n",
       "7         2       0  837591  837593   \n",
       "8     39529  527175  270889  837593   \n",
       "9       163       0  837430  837593   \n",
       "10     8765       0  828828  837593   \n",
       "11   123594  713384     615  837593   \n",
       "12   774610   14004   48979  837593   \n",
       "13   796328    4949   36316  837593   \n",
       "14        1       0  837592  837593   \n",
       "15        1       0  837592  837593   \n",
       "16   837593       0       0  837593   \n",
       "17        1       0  837592  837593   \n",
       "\n",
       "                                                 vmin        vmean  \\\n",
       "0                                                 0.0    418796.00   \n",
       "1                                                 0.0  62209823.28   \n",
       "2                                                 0.0    622098.23   \n",
       "3                                                 0.0         0.04   \n",
       "4                                                 &c.          NaN   \n",
       "5                                                 &c.          NaN   \n",
       "6                                                 &c.          NaN   \n",
       "7                                                 0.0         0.83   \n",
       "8                                                 [a]          NaN   \n",
       "9                                                 NaN          NaN   \n",
       "10                                               84.0       900.58   \n",
       "11                                                NaN          NaN   \n",
       "12                                               [-a]          NaN   \n",
       "13                           [02, Li, ter, Fla, sche]          NaN   \n",
       "14                                            Deutsch          NaN   \n",
       "15                                                 de          NaN   \n",
       "16  === {{Wortart|Abkürzung|Deutsch}} ===\\n\\n:[[Bi...          NaN   \n",
       "17                                                             NaN   \n",
       "\n",
       "       vmedian                                               vmax  \\\n",
       "0     418796.0                                           837592.0   \n",
       "1   62312700.0                                        111831800.0   \n",
       "2     623127.0                                          1118318.0   \n",
       "3          0.0                                                6.0   \n",
       "4          NaN                                                 μm   \n",
       "5          NaN                                                 μm   \n",
       "6          NaN                                                 μm   \n",
       "7          NaN                                                1.0   \n",
       "8          NaN                                      [ʏʃəs, yːʃəs]   \n",
       "9          NaN                                                NaN   \n",
       "10       569.0                                            86973.0   \n",
       "11         NaN                                                NaN   \n",
       "12         NaN                                     [ại̯nĕˈβ̞ɛɐfɐ]   \n",
       "13         NaN                         [’s, Her, to, gen, boschs]   \n",
       "14         NaN                                            Deutsch   \n",
       "15         NaN                                                 de   \n",
       "16         NaN  === {{Wortart|Zirkumfix|Deutsch}} ===\\n\\n{{Wor...   \n",
       "17         NaN                                                      \n",
       "\n",
       "            vsum  \n",
       "0   3.507806e+11  \n",
       "1   5.210651e+13  \n",
       "2   5.210651e+11  \n",
       "3   3.748300e+04  \n",
       "4            NaN  \n",
       "5            NaN  \n",
       "6            NaN  \n",
       "7   6.969110e+05  \n",
       "8            NaN  \n",
       "9            NaN  \n",
       "10  7.543228e+08  \n",
       "11           NaN  \n",
       "12           NaN  \n",
       "13           NaN  \n",
       "14           NaN  \n",
       "15           NaN  \n",
       "16           NaN  \n",
       "17           NaN  "
      ]
     },
     "execution_count": 12,
     "metadata": {},
     "output_type": "execute_result"
    },
    {
     "name": "stdout",
     "output_type": "stream",
     "text": [
      "time: 15.7 s\n"
     ]
    }
   ],
   "source": [
    "pak.analyse_cols(wiktionary)"
   ]
  },
  {
   "cell_type": "code",
   "execution_count": 13,
   "metadata": {},
   "outputs": [
    {
     "data": {
      "text/html": [
       "<div>\n",
       "<style scoped>\n",
       "    .dataframe tbody tr th:only-of-type {\n",
       "        vertical-align: middle;\n",
       "    }\n",
       "\n",
       "    .dataframe tbody tr th {\n",
       "        vertical-align: top;\n",
       "    }\n",
       "\n",
       "    .dataframe thead th {\n",
       "        text-align: right;\n",
       "    }\n",
       "</style>\n",
       "<table border=\"1\" class=\"dataframe\">\n",
       "  <thead>\n",
       "    <tr style=\"text-align: right;\">\n",
       "      <th></th>\n",
       "      <th>name</th>\n",
       "      <th>rtype</th>\n",
       "      <th>size</th>\n",
       "    </tr>\n",
       "  </thead>\n",
       "  <tbody>\n",
       "    <tr>\n",
       "      <th>0</th>\n",
       "      <td>wiktionary</td>\n",
       "      <td>(DataFrame, Series)</td>\n",
       "      <td>3.0 GB</td>\n",
       "    </tr>\n",
       "    <tr>\n",
       "      <th>1</th>\n",
       "      <td>wiktionary_trash</td>\n",
       "      <td>(DataFrame, Series)</td>\n",
       "      <td>16.1 MB</td>\n",
       "    </tr>\n",
       "    <tr>\n",
       "      <th>2</th>\n",
       "      <td>mask</td>\n",
       "      <td>(Series, bool)</td>\n",
       "      <td>818.1 KB</td>\n",
       "    </tr>\n",
       "    <tr>\n",
       "      <th>3</th>\n",
       "      <td>translate_tag</td>\n",
       "      <td>(DataFrame, Series)</td>\n",
       "      <td>37.1 KB</td>\n",
       "    </tr>\n",
       "    <tr>\n",
       "      <th>4</th>\n",
       "      <td>translate_tagZ</td>\n",
       "      <td>(DataFrame, Series)</td>\n",
       "      <td>20.9 KB</td>\n",
       "    </tr>\n",
       "    <tr>\n",
       "      <th>5</th>\n",
       "      <td>r</td>\n",
       "      <td>(DataFrame, Series)</td>\n",
       "      <td>20.7 KB</td>\n",
       "    </tr>\n",
       "    <tr>\n",
       "      <th>6</th>\n",
       "      <td>_</td>\n",
       "      <td>(DataFrame, Series)</td>\n",
       "      <td>16.3 KB</td>\n",
       "    </tr>\n",
       "    <tr>\n",
       "      <th>7</th>\n",
       "      <td>_12</td>\n",
       "      <td>(DataFrame, Series)</td>\n",
       "      <td>16.3 KB</td>\n",
       "    </tr>\n",
       "    <tr>\n",
       "      <th>8</th>\n",
       "      <td>_i3</td>\n",
       "      <td>(str,)</td>\n",
       "      <td>1.4 KB</td>\n",
       "    </tr>\n",
       "    <tr>\n",
       "      <th>9</th>\n",
       "      <td>Stop</td>\n",
       "      <td>(type,)</td>\n",
       "      <td>1.0 KB</td>\n",
       "    </tr>\n",
       "  </tbody>\n",
       "</table>\n",
       "</div>"
      ],
      "text/plain": [
       "               name                rtype      size\n",
       "0        wiktionary  (DataFrame, Series)    3.0 GB\n",
       "1  wiktionary_trash  (DataFrame, Series)   16.1 MB\n",
       "2              mask       (Series, bool)  818.1 KB\n",
       "3     translate_tag  (DataFrame, Series)   37.1 KB\n",
       "4    translate_tagZ  (DataFrame, Series)   20.9 KB\n",
       "5                 r  (DataFrame, Series)   20.7 KB\n",
       "6                 _  (DataFrame, Series)   16.3 KB\n",
       "7               _12  (DataFrame, Series)   16.3 KB\n",
       "8               _i3               (str,)    1.4 KB\n",
       "9              Stop              (type,)    1.0 KB"
      ]
     },
     "execution_count": 13,
     "metadata": {},
     "output_type": "execute_result"
    },
    {
     "name": "stdout",
     "output_type": "stream",
     "text": [
      "time: 1.3 s\n"
     ]
    }
   ],
   "source": [
    "pak.memory_consumption(locals())"
   ]
  },
  {
   "cell_type": "markdown",
   "metadata": {},
   "source": [
    "## Steuertabelle plan_merkmal"
   ]
  },
  {
   "cell_type": "code",
   "execution_count": 14,
   "metadata": {},
   "outputs": [
    {
     "name": "stdout",
     "output_type": "stream",
     "text": [
      "<class 'IPython.core.display.Markdown'>\n"
     ]
    },
    {
     "data": {
      "text/markdown": [
       "<span style=\"font-size:larger;\">plan_merkmal_erstellen():</span>\n",
       "\n",
       "* definiert in Steuertabellen/s01_Steuertabellen.py\n",
       "* `merkmal`: Name des Merkmals\n",
       "* `template`: Name des Mediawiki-Templates, das diese Information enthält\n",
       "* `collect`: Extractionsmethode\n",
       "   * L extrahiert nur Links \n",
       "   * T extrahiert komplette Text-Absätze\n",
       "   * Ü extrahiert Übersetzungen\n",
       "   * P extrahiert Template-Parameter (Substring reicht)\n",
       "   * E checkt nur auf Existenz\n",
       "* `plan`:\n",
       "   * 1: die Merkmale, die in wiktionary_merkmal gespeichert werden\n",
       "   * 2: die Merkmale, die in wiktionary_merkmal_text gespeichert werden   \n",
       "   * 3: Reihenfolge und Liste aller Merkmale aus flexion / übersicht <br>\n",
       "        sowie die Merkmale aus named_entities und lexeme_manuell\n",
       "* `sort`: Irgendwas zum Sortieren der Merkmale\n",
       "* `is_lex`: Ist das Merkmal ein Lexem?    "
      ],
      "text/plain": [
       "<IPython.core.display.Markdown object>"
      ]
     },
     "metadata": {},
     "output_type": "display_data"
    },
    {
     "name": "stdout",
     "output_type": "stream",
     "text": [
      "time: 62.3 ms\n"
     ]
    }
   ],
   "source": [
    "blab.help(plan_merkmal_erstellen)"
   ]
  },
  {
   "cell_type": "code",
   "execution_count": 15,
   "metadata": {},
   "outputs": [
    {
     "name": "stdout",
     "output_type": "stream",
     "text": [
      "103 rows\n"
     ]
    },
    {
     "data": {
      "text/html": [
       "\n",
       "        <iframe\n",
       "            width=\"100%\"\n",
       "            height=\"475\"\n",
       "            src=\"http://pop-os:40001/dtale/iframe/2\"\n",
       "            frameborder=\"0\"\n",
       "            allowfullscreen\n",
       "            \n",
       "        ></iframe>\n",
       "        "
      ],
      "text/plain": [
       "<IPython.lib.display.IFrame at 0x7f3bd8402cd0>"
      ]
     },
     "metadata": {},
     "output_type": "display_data"
    },
    {
     "data": {
      "text/plain": []
     },
     "execution_count": 15,
     "metadata": {},
     "output_type": "execute_result"
    },
    {
     "name": "stdout",
     "output_type": "stream",
     "text": [
      "time: 176 ms\n"
     ]
    }
   ],
   "source": [
    "plan_merkmal = plan_merkmal_erstellen()\n",
    "grid(plan_merkmal)"
   ]
  },
  {
   "cell_type": "markdown",
   "metadata": {},
   "source": [
    "## ausprobieren"
   ]
  },
  {
   "cell_type": "code",
   "execution_count": 16,
   "metadata": {},
   "outputs": [
    {
     "name": "stdout",
     "output_type": "stream",
     "text": [
      "time: 381 ms\n"
     ]
    }
   ],
   "source": [
    "# Eine Testzeile aus wiktionary (als Series)\n",
    "mask = (wiktionary.section_id2 == 'Haus')\n",
    "testzeile = wiktionary[mask].iloc[0]\n",
    "wikicode = mwparserfromhell.parse(testzeile.wikitext)\n",
    "\n",
    "# testzeile \n",
    "# testzeile.wikitext\n",
    "# wikicode"
   ]
  },
  {
   "cell_type": "code",
   "execution_count": 17,
   "metadata": {},
   "outputs": [
    {
     "name": "stdout",
     "output_type": "stream",
     "text": [
      "No rows\n",
      "time: 41.4 ms\n"
     ]
    }
   ],
   "source": [
    "# extract_parameters ausprobieren (funktioniert z.B. mit 'kein')\n",
    "r = extract_parameters(testzeile, 'Pronomina-Tabelle', 'übersicht', wikicode=wikicode )\n",
    "grid(r, color=None)"
   ]
  },
  {
   "cell_type": "code",
   "execution_count": 18,
   "metadata": {},
   "outputs": [
    {
     "data": {
      "text/html": [
       "<div>\n",
       "<style scoped>\n",
       "    .dataframe tbody tr th:only-of-type {\n",
       "        vertical-align: middle;\n",
       "    }\n",
       "\n",
       "    .dataframe tbody tr th {\n",
       "        vertical-align: top;\n",
       "    }\n",
       "\n",
       "    .dataframe thead th {\n",
       "        text-align: right;\n",
       "    }\n",
       "</style>\n",
       "<table border=\"1\" class=\"dataframe\">\n",
       "  <thead>\n",
       "    <tr style=\"text-align: right;\">\n",
       "      <th></th>\n",
       "      <th>col_name</th>\n",
       "      <th>datatype_instance</th>\n",
       "      <th>datatype</th>\n",
       "      <th>datatype_short</th>\n",
       "      <th>datatype_suggest</th>\n",
       "      <th>is_numeric</th>\n",
       "      <th>is_string</th>\n",
       "      <th>is_hashable</th>\n",
       "      <th>nan_allowed</th>\n",
       "      <th>mem_usage</th>\n",
       "      <th>ntypes</th>\n",
       "      <th>nunique</th>\n",
       "      <th>nnan</th>\n",
       "      <th>ndups</th>\n",
       "      <th>n</th>\n",
       "      <th>vmin</th>\n",
       "      <th>vmean</th>\n",
       "      <th>vmedian</th>\n",
       "      <th>vmax</th>\n",
       "      <th>vsum</th>\n",
       "    </tr>\n",
       "  </thead>\n",
       "  <tbody>\n",
       "    <tr>\n",
       "      <th>0</th>\n",
       "      <td>__index__</td>\n",
       "      <td></td>\n",
       "      <td>object</td>\n",
       "      <td>object</td>\n",
       "      <td></td>\n",
       "      <td>False</td>\n",
       "      <td>True</td>\n",
       "      <td>True</td>\n",
       "      <td>True</td>\n",
       "      <td>0.0 B</td>\n",
       "      <td>0</td>\n",
       "      <td>0</td>\n",
       "      <td>0</td>\n",
       "      <td>0</td>\n",
       "      <td>0</td>\n",
       "      <td>NaN</td>\n",
       "      <td>NaN</td>\n",
       "      <td>NaN</td>\n",
       "      <td>NaN</td>\n",
       "      <td>NaN</td>\n",
       "    </tr>\n",
       "  </tbody>\n",
       "</table>\n",
       "</div>"
      ],
      "text/plain": [
       "    col_name datatype_instance datatype datatype_short datatype_suggest  \\\n",
       "0  __index__                     object         object                    \n",
       "\n",
       "   is_numeric  is_string  is_hashable  nan_allowed mem_usage  ntypes  nunique  \\\n",
       "0       False       True         True         True     0.0 B       0        0   \n",
       "\n",
       "   nnan  ndups  n  vmin  vmean  vmedian  vmax  vsum  \n",
       "0     0      0  0   NaN    NaN      NaN   NaN   NaN  "
      ]
     },
     "execution_count": 18,
     "metadata": {},
     "output_type": "execute_result"
    },
    {
     "name": "stdout",
     "output_type": "stream",
     "text": [
      "time: 64.5 ms\n"
     ]
    }
   ],
   "source": [
    "#r.node_debug = r.node_debug.astype('str')\n",
    "pak.analyse_cols(r)"
   ]
  },
  {
   "cell_type": "code",
   "execution_count": 19,
   "metadata": {},
   "outputs": [
    {
     "name": "stdout",
     "output_type": "stream",
     "text": [
      "412 rows\n"
     ]
    },
    {
     "data": {
      "text/html": [
       "\n",
       "        <iframe\n",
       "            width=\"100%\"\n",
       "            height=\"475\"\n",
       "            src=\"http://pop-os:40001/dtale/iframe/3\"\n",
       "            frameborder=\"0\"\n",
       "            allowfullscreen\n",
       "            \n",
       "        ></iframe>\n",
       "        "
      ],
      "text/plain": [
       "<IPython.lib.display.IFrame at 0x7f3bb9588e20>"
      ]
     },
     "metadata": {},
     "output_type": "display_data"
    },
    {
     "data": {
      "text/plain": []
     },
     "execution_count": 19,
     "metadata": {},
     "output_type": "execute_result"
    },
    {
     "name": "stdout",
     "output_type": "stream",
     "text": [
      "time: 133 ms\n"
     ]
    }
   ],
   "source": [
    "# extract ausprobieren\n",
    "df = extract(testzeile, 'Unterbegriffe', 'down', wikicode=wikicode)\n",
    "grid(df)"
   ]
  },
  {
   "cell_type": "code",
   "execution_count": 20,
   "metadata": {},
   "outputs": [
    {
     "data": {
      "text/html": [
       "<div>\n",
       "<style scoped>\n",
       "    .dataframe tbody tr th:only-of-type {\n",
       "        vertical-align: middle;\n",
       "    }\n",
       "\n",
       "    .dataframe tbody tr th {\n",
       "        vertical-align: top;\n",
       "    }\n",
       "\n",
       "    .dataframe thead th {\n",
       "        text-align: right;\n",
       "    }\n",
       "</style>\n",
       "<table border=\"1\" class=\"dataframe\">\n",
       "  <thead>\n",
       "    <tr style=\"text-align: right;\">\n",
       "      <th></th>\n",
       "      <th>node_num</th>\n",
       "      <th>node_meta</th>\n",
       "      <th>node_link</th>\n",
       "      <th>node_text</th>\n",
       "      <th>node_kontext</th>\n",
       "      <th>node_debug</th>\n",
       "      <th>section_id</th>\n",
       "      <th>section_id2</th>\n",
       "      <th>merkmal</th>\n",
       "    </tr>\n",
       "  </thead>\n",
       "  <tbody>\n",
       "    <tr>\n",
       "      <th>0</th>\n",
       "      <td>[1]</td>\n",
       "      <td></td>\n",
       "      <td></td>\n",
       "      <td>zu einem bestimmten Zweck erbautes  Gebäude</td>\n",
       "      <td></td>\n",
       "      <td></td>\n",
       "      <td>21700</td>\n",
       "      <td>Haus</td>\n",
       "      <td>def</td>\n",
       "    </tr>\n",
       "    <tr>\n",
       "      <th>1</th>\n",
       "      <td>[2]</td>\n",
       "      <td></td>\n",
       "      <td></td>\n",
       "      <td>zum Wohnen dienendes und genutztes  Gebäude</td>\n",
       "      <td></td>\n",
       "      <td></td>\n",
       "      <td>21700</td>\n",
       "      <td>Haus</td>\n",
       "      <td>def</td>\n",
       "    </tr>\n",
       "    <tr>\n",
       "      <th>2</th>\n",
       "      <td>[3]</td>\n",
       "      <td></td>\n",
       "      <td></td>\n",
       "      <td>aus mehreren Räumen bestehender, abgetrennter ...</td>\n",
       "      <td></td>\n",
       "      <td></td>\n",
       "      <td>21700</td>\n",
       "      <td>Haus</td>\n",
       "      <td>def</td>\n",
       "    </tr>\n",
       "    <tr>\n",
       "      <th>3</th>\n",
       "      <td>[4]</td>\n",
       "      <td>umgangssprachlich</td>\n",
       "      <td></td>\n",
       "      <td>umgangssprachlich  Gesamtheit der Bewohner in ...</td>\n",
       "      <td></td>\n",
       "      <td></td>\n",
       "      <td>21700</td>\n",
       "      <td>Haus</td>\n",
       "      <td>def</td>\n",
       "    </tr>\n",
       "    <tr>\n",
       "      <th>4</th>\n",
       "      <td>[5]</td>\n",
       "      <td></td>\n",
       "      <td></td>\n",
       "      <td>Gesamtheit der Personen, die sich in einem bes...</td>\n",
       "      <td></td>\n",
       "      <td></td>\n",
       "      <td>21700</td>\n",
       "      <td>Haus</td>\n",
       "      <td>def</td>\n",
       "    </tr>\n",
       "    <tr>\n",
       "      <th>...</th>\n",
       "      <td>...</td>\n",
       "      <td>...</td>\n",
       "      <td>...</td>\n",
       "      <td>...</td>\n",
       "      <td>...</td>\n",
       "      <td>...</td>\n",
       "      <td>...</td>\n",
       "      <td>...</td>\n",
       "      <td>...</td>\n",
       "    </tr>\n",
       "    <tr>\n",
       "      <th>5</th>\n",
       "      <td>[2, 3]</td>\n",
       "      <td></td>\n",
       "      <td></td>\n",
       "      <td>mein Haus ist meine Burg</td>\n",
       "      <td></td>\n",
       "      <td></td>\n",
       "      <td>21700</td>\n",
       "      <td>Haus</td>\n",
       "      <td>bsp_sp</td>\n",
       "    </tr>\n",
       "    <tr>\n",
       "      <th>6</th>\n",
       "      <td>[2, 3, 7, 9]</td>\n",
       "      <td></td>\n",
       "      <td></td>\n",
       "      <td>ein Haus kann nicht zwei Hunde nähren</td>\n",
       "      <td></td>\n",
       "      <td></td>\n",
       "      <td>21700</td>\n",
       "      <td>Haus</td>\n",
       "      <td>bsp_sp</td>\n",
       "    </tr>\n",
       "    <tr>\n",
       "      <th>7</th>\n",
       "      <td>[3]</td>\n",
       "      <td></td>\n",
       "      <td></td>\n",
       "      <td>lässt du einen ins Haus kommen, er kommt dir b...</td>\n",
       "      <td></td>\n",
       "      <td></td>\n",
       "      <td>21700</td>\n",
       "      <td>Haus</td>\n",
       "      <td>bsp_sp</td>\n",
       "    </tr>\n",
       "    <tr>\n",
       "      <th>8</th>\n",
       "      <td>[3]</td>\n",
       "      <td></td>\n",
       "      <td></td>\n",
       "      <td>Nord, Ost, Süd, West, zu Haus ist’s am best</td>\n",
       "      <td></td>\n",
       "      <td></td>\n",
       "      <td>21700</td>\n",
       "      <td>Haus</td>\n",
       "      <td>bsp_sp</td>\n",
       "    </tr>\n",
       "    <tr>\n",
       "      <th>9</th>\n",
       "      <td>[3]</td>\n",
       "      <td></td>\n",
       "      <td></td>\n",
       "      <td>was du hast in deinem Haus, das plaudre nicht ...</td>\n",
       "      <td></td>\n",
       "      <td></td>\n",
       "      <td>21700</td>\n",
       "      <td>Haus</td>\n",
       "      <td>bsp_sp</td>\n",
       "    </tr>\n",
       "  </tbody>\n",
       "</table>\n",
       "<p>144 rows × 9 columns</p>\n",
       "</div>"
      ],
      "text/plain": [
       "        node_num          node_meta node_link  \\\n",
       "0            [1]                                \n",
       "1            [2]                                \n",
       "2            [3]                                \n",
       "3            [4]  umgangssprachlich             \n",
       "4            [5]                                \n",
       "..           ...                ...       ...   \n",
       "5         [2, 3]                                \n",
       "6   [2, 3, 7, 9]                                \n",
       "7            [3]                                \n",
       "8            [3]                                \n",
       "9            [3]                                \n",
       "\n",
       "                                            node_text node_kontext node_debug  \\\n",
       "0         zu einem bestimmten Zweck erbautes  Gebäude                           \n",
       "1         zum Wohnen dienendes und genutztes  Gebäude                           \n",
       "2   aus mehreren Räumen bestehender, abgetrennter ...                           \n",
       "3   umgangssprachlich  Gesamtheit der Bewohner in ...                           \n",
       "4   Gesamtheit der Personen, die sich in einem bes...                           \n",
       "..                                                ...          ...        ...   \n",
       "5                            mein Haus ist meine Burg                           \n",
       "6               ein Haus kann nicht zwei Hunde nähren                           \n",
       "7   lässt du einen ins Haus kommen, er kommt dir b...                           \n",
       "8         Nord, Ost, Süd, West, zu Haus ist’s am best                           \n",
       "9   was du hast in deinem Haus, das plaudre nicht ...                           \n",
       "\n",
       "    section_id section_id2 merkmal  \n",
       "0        21700        Haus     def  \n",
       "1        21700        Haus     def  \n",
       "2        21700        Haus     def  \n",
       "3        21700        Haus     def  \n",
       "4        21700        Haus     def  \n",
       "..         ...         ...     ...  \n",
       "5        21700        Haus  bsp_sp  \n",
       "6        21700        Haus  bsp_sp  \n",
       "7        21700        Haus  bsp_sp  \n",
       "8        21700        Haus  bsp_sp  \n",
       "9        21700        Haus  bsp_sp  \n",
       "\n",
       "[144 rows x 9 columns]"
      ]
     },
     "execution_count": 20,
     "metadata": {},
     "output_type": "execute_result"
    },
    {
     "name": "stdout",
     "output_type": "stream",
     "text": [
      "time: 1.05 s\n"
     ]
    }
   ],
   "source": [
    "# extract_all ausprobieren\n",
    "mask = plan_merkmal.plan == 2\n",
    "plan = plan_merkmal[mask]\n",
    "df = extract_all(testzeile, plan) \n",
    "df"
   ]
  },
  {
   "cell_type": "markdown",
   "metadata": {},
   "source": [
    "## wiktionary_merkmal_text"
   ]
  },
  {
   "cell_type": "code",
   "execution_count": 21,
   "metadata": {},
   "outputs": [
    {
     "data": {
      "text/html": [
       "<div>\n",
       "<style scoped>\n",
       "    .dataframe tbody tr th:only-of-type {\n",
       "        vertical-align: middle;\n",
       "    }\n",
       "\n",
       "    .dataframe tbody tr th {\n",
       "        vertical-align: top;\n",
       "    }\n",
       "\n",
       "    .dataframe thead th {\n",
       "        text-align: right;\n",
       "    }\n",
       "</style>\n",
       "<table border=\"1\" class=\"dataframe\">\n",
       "  <thead>\n",
       "    <tr style=\"text-align: right;\">\n",
       "      <th></th>\n",
       "      <th>merkmal</th>\n",
       "      <th>template</th>\n",
       "      <th>collect</th>\n",
       "      <th>plan</th>\n",
       "      <th>sort</th>\n",
       "      <th>is_lex</th>\n",
       "    </tr>\n",
       "  </thead>\n",
       "  <tbody>\n",
       "    <tr>\n",
       "      <th>38</th>\n",
       "      <td>def</td>\n",
       "      <td>Bedeutungen</td>\n",
       "      <td>T</td>\n",
       "      <td>2</td>\n",
       "      <td></td>\n",
       "      <td>False</td>\n",
       "    </tr>\n",
       "    <tr>\n",
       "      <th>39</th>\n",
       "      <td>herkunft</td>\n",
       "      <td>Herkunft</td>\n",
       "      <td>T</td>\n",
       "      <td>2</td>\n",
       "      <td></td>\n",
       "      <td>False</td>\n",
       "    </tr>\n",
       "    <tr>\n",
       "      <th>40</th>\n",
       "      <td>bsp</td>\n",
       "      <td>Beispiele</td>\n",
       "      <td>T</td>\n",
       "      <td>2</td>\n",
       "      <td></td>\n",
       "      <td>False</td>\n",
       "    </tr>\n",
       "    <tr>\n",
       "      <th>41</th>\n",
       "      <td>bsp_re</td>\n",
       "      <td>Redewendungen</td>\n",
       "      <td>T</td>\n",
       "      <td>2</td>\n",
       "      <td></td>\n",
       "      <td>False</td>\n",
       "    </tr>\n",
       "    <tr>\n",
       "      <th>42</th>\n",
       "      <td>bsp_gw</td>\n",
       "      <td>Geflügelte Worte</td>\n",
       "      <td>T</td>\n",
       "      <td>2</td>\n",
       "      <td></td>\n",
       "      <td>False</td>\n",
       "    </tr>\n",
       "    <tr>\n",
       "      <th>43</th>\n",
       "      <td>bsp_sp</td>\n",
       "      <td>Sprichwörter</td>\n",
       "      <td>T</td>\n",
       "      <td>2</td>\n",
       "      <td></td>\n",
       "      <td>False</td>\n",
       "    </tr>\n",
       "  </tbody>\n",
       "</table>\n",
       "</div>"
      ],
      "text/plain": [
       "     merkmal          template collect  plan sort  is_lex\n",
       "38       def       Bedeutungen       T     2        False\n",
       "39  herkunft          Herkunft       T     2        False\n",
       "40       bsp         Beispiele       T     2        False\n",
       "41    bsp_re     Redewendungen       T     2        False\n",
       "42    bsp_gw  Geflügelte Worte       T     2        False\n",
       "43    bsp_sp      Sprichwörter       T     2        False"
      ]
     },
     "execution_count": 21,
     "metadata": {},
     "output_type": "execute_result"
    },
    {
     "name": "stdout",
     "output_type": "stream",
     "text": [
      "time: 41.8 ms\n"
     ]
    }
   ],
   "source": [
    "# plan\n",
    "mask = plan_merkmal.plan == 2\n",
    "plan = plan_merkmal[mask]\n",
    "plan"
   ]
  },
  {
   "cell_type": "code",
   "execution_count": 22,
   "metadata": {},
   "outputs": [
    {
     "data": {
      "application/vnd.jupyter.widget-view+json": {
       "model_id": "86e021a689d34902a4dc12a179e2a570",
       "version_major": 2,
       "version_minor": 0
      },
      "text/plain": [
       "Pandas Apply:   0%|          | 0/837593 [00:00<?, ?it/s]"
      ]
     },
     "metadata": {},
     "output_type": "display_data"
    },
    {
     "name": "stdout",
     "output_type": "stream",
     "text": [
      "Executing shutdown due to inactivity...\n"
     ]
    },
    {
     "name": "stderr",
     "output_type": "stream",
     "text": [
      "2023-02-16 14:24:52,059 - INFO     - Executing shutdown due to inactivity...\n",
      "IOStream.flush timed out\n",
      "IOStream.flush timed out\n"
     ]
    },
    {
     "name": "stdout",
     "output_type": "stream",
     "text": [
      "Executing shutdown...\n"
     ]
    },
    {
     "name": "stderr",
     "output_type": "stream",
     "text": [
      "2023-02-16 14:25:12,759 - INFO     - Executing shutdown...\n"
     ]
    },
    {
     "name": "stdout",
     "output_type": "stream",
     "text": [
      "Exception on /shutdown [GET]\n",
      "Traceback (most recent call last):\n",
      "  File \"/home/me/mambaforge/envs/python_06/lib/python3.9/site-packages/flask/app.py\", line 2525, in wsgi_app\n",
      "    response = self.full_dispatch_request()\n",
      "  File \"/home/me/mambaforge/envs/python_06/lib/python3.9/site-packages/flask/app.py\", line 1822, in full_dispatch_request\n",
      "    rv = self.handle_user_exception(e)\n",
      "  File \"/home/me/mambaforge/envs/python_06/lib/python3.9/site-packages/flask/app.py\", line 1820, in full_dispatch_request\n",
      "    rv = self.dispatch_request()\n",
      "  File \"/home/me/mambaforge/envs/python_06/lib/python3.9/site-packages/flask/app.py\", line 1796, in dispatch_request\n",
      "    return self.ensure_sync(self.view_functions[rule.endpoint])(**view_args)\n",
      "  File \"/home/me/mambaforge/envs/python_06/lib/python3.9/site-packages/dtale/app.py\", line 435, in shutdown\n",
      "    shutdown_server()\n",
      "  File \"/home/me/mambaforge/envs/python_06/lib/python3.9/site-packages/dtale/app.py\", line 421, in shutdown_server\n",
      "    raise RuntimeError(\"Not running with the Werkzeug Server\")\n",
      "RuntimeError: Not running with the Werkzeug Server\n"
     ]
    },
    {
     "name": "stderr",
     "output_type": "stream",
     "text": [
      "2023-02-16 14:25:12,762 - ERROR    - Exception on /shutdown [GET]\n",
      "Traceback (most recent call last):\n",
      "  File \"/home/me/mambaforge/envs/python_06/lib/python3.9/site-packages/flask/app.py\", line 2525, in wsgi_app\n",
      "    response = self.full_dispatch_request()\n",
      "  File \"/home/me/mambaforge/envs/python_06/lib/python3.9/site-packages/flask/app.py\", line 1822, in full_dispatch_request\n",
      "    rv = self.handle_user_exception(e)\n",
      "  File \"/home/me/mambaforge/envs/python_06/lib/python3.9/site-packages/flask/app.py\", line 1820, in full_dispatch_request\n",
      "    rv = self.dispatch_request()\n",
      "  File \"/home/me/mambaforge/envs/python_06/lib/python3.9/site-packages/flask/app.py\", line 1796, in dispatch_request\n",
      "    return self.ensure_sync(self.view_functions[rule.endpoint])(**view_args)\n",
      "  File \"/home/me/mambaforge/envs/python_06/lib/python3.9/site-packages/dtale/app.py\", line 435, in shutdown\n",
      "    shutdown_server()\n",
      "  File \"/home/me/mambaforge/envs/python_06/lib/python3.9/site-packages/dtale/app.py\", line 421, in shutdown_server\n",
      "    raise RuntimeError(\"Not running with the Werkzeug Server\")\n",
      "RuntimeError: Not running with the Werkzeug Server\n"
     ]
    },
    {
     "ename": "KeyboardInterrupt",
     "evalue": "",
     "output_type": "error",
     "traceback": [
      "\u001b[0;31m---------------------------------------------------------------------------\u001b[0m",
      "\u001b[0;31mValueError\u001b[0m                                Traceback (most recent call last)",
      "File \u001b[0;32m~/mambaforge/envs/python_06/lib/python3.9/site-packages/swifter/swifter.py:429\u001b[0m, in \u001b[0;36mDataFrameAccessor.apply\u001b[0;34m(self, func, axis, raw, result_type, args, **kwds)\u001b[0m\n\u001b[1;32m    428\u001b[0m     sample_df \u001b[38;5;241m=\u001b[39m sample\u001b[38;5;241m.\u001b[39mapply(func, axis\u001b[38;5;241m=\u001b[39maxis, raw\u001b[38;5;241m=\u001b[39mraw, result_type\u001b[38;5;241m=\u001b[39mresult_type, args\u001b[38;5;241m=\u001b[39margs, \u001b[38;5;241m*\u001b[39m\u001b[38;5;241m*\u001b[39mkwds)\n\u001b[0;32m--> 429\u001b[0m     \u001b[38;5;28;43mself\u001b[39;49m\u001b[38;5;241;43m.\u001b[39;49m\u001b[43m_validate_apply\u001b[49m\u001b[43m(\u001b[49m\n\u001b[1;32m    430\u001b[0m \u001b[43m        \u001b[49m\u001b[43mnp\u001b[49m\u001b[38;5;241;43m.\u001b[39;49m\u001b[43marray_equal\u001b[49m\u001b[43m(\u001b[49m\u001b[43msample_df\u001b[49m\u001b[43m,\u001b[49m\u001b[43m \u001b[49m\u001b[43mtmp_df\u001b[49m\u001b[43m)\u001b[49m\u001b[43m \u001b[49m\u001b[38;5;241;43m&\u001b[39;49m\u001b[43m \u001b[49m\u001b[43m(\u001b[49m\u001b[38;5;28;43mhasattr\u001b[39;49m\u001b[43m(\u001b[49m\u001b[43mtmp_df\u001b[49m\u001b[43m,\u001b[49m\u001b[43m \u001b[49m\u001b[38;5;124;43m\"\u001b[39;49m\u001b[38;5;124;43mshape\u001b[39;49m\u001b[38;5;124;43m\"\u001b[39;49m\u001b[43m)\u001b[49m\u001b[43m)\u001b[49m\u001b[43m \u001b[49m\u001b[38;5;241;43m&\u001b[39;49m\u001b[43m \u001b[49m\u001b[43m(\u001b[49m\u001b[43msample_df\u001b[49m\u001b[38;5;241;43m.\u001b[39;49m\u001b[43mshape\u001b[49m\u001b[43m \u001b[49m\u001b[38;5;241;43m==\u001b[39;49m\u001b[43m \u001b[49m\u001b[43mtmp_df\u001b[49m\u001b[38;5;241;43m.\u001b[39;49m\u001b[43mshape\u001b[49m\u001b[43m)\u001b[49m\u001b[43m,\u001b[49m\n\u001b[1;32m    431\u001b[0m \u001b[43m        \u001b[49m\u001b[43merror_message\u001b[49m\u001b[38;5;241;43m=\u001b[39;49m\u001b[43m(\u001b[49m\u001b[38;5;124;43m\"\u001b[39;49m\u001b[38;5;124;43mVectorized function sample does not match pandas apply sample.\u001b[39;49m\u001b[38;5;124;43m\"\u001b[39;49m\u001b[43m)\u001b[49m\u001b[43m,\u001b[49m\n\u001b[1;32m    432\u001b[0m \u001b[43m    \u001b[49m\u001b[43m)\u001b[49m\n\u001b[1;32m    433\u001b[0m \u001b[38;5;28;01mreturn\u001b[39;00m func(\u001b[38;5;28mself\u001b[39m\u001b[38;5;241m.\u001b[39m_obj, \u001b[38;5;241m*\u001b[39margs, \u001b[38;5;241m*\u001b[39m\u001b[38;5;241m*\u001b[39mkwds)\n",
      "File \u001b[0;32m~/mambaforge/envs/python_06/lib/python3.9/site-packages/swifter/base.py:53\u001b[0m, in \u001b[0;36m_SwifterBaseObject._validate_apply\u001b[0;34m(expr, error_message)\u001b[0m\n\u001b[1;32m     52\u001b[0m \u001b[38;5;28;01mif\u001b[39;00m \u001b[38;5;129;01mnot\u001b[39;00m expr:\n\u001b[0;32m---> 53\u001b[0m     \u001b[38;5;28;01mraise\u001b[39;00m \u001b[38;5;167;01mValueError\u001b[39;00m(error_message)\n",
      "\u001b[0;31mValueError\u001b[0m: Vectorized function sample does not match pandas apply sample.",
      "\nDuring handling of the above exception, another exception occurred:\n",
      "\u001b[0;31mKeyboardInterrupt\u001b[0m                         Traceback (most recent call last)",
      "Cell \u001b[0;32mIn [22], line 7\u001b[0m\n\u001b[1;32m      1\u001b[0m \u001b[38;5;66;03m# all: 40 min (4 parallel) \u001b[39;00m\n\u001b[1;32m      2\u001b[0m \u001b[38;5;66;03m# 100K: 3 min\u001b[39;00m\n\u001b[1;32m      3\u001b[0m \u001b[38;5;66;03m# apply erzeugt eine Series von DataFrames\u001b[39;00m\n\u001b[1;32m      4\u001b[0m \u001b[38;5;66;03m# tolist macht daraus eine Liste\u001b[39;00m\n\u001b[1;32m      5\u001b[0m \u001b[38;5;66;03m# und concat macht aus der Liste von DataFrames ein Gesamt-DataFrame\u001b[39;00m\n\u001b[1;32m      6\u001b[0m \u001b[38;5;66;03m#wiktionary_merkmal_text = pd.concat(  wiktionary.parallel_apply(extract_all, plan=plan, axis=1).tolist()  )\u001b[39;00m\n\u001b[0;32m----> 7\u001b[0m wiktionary_merkmal_text \u001b[38;5;241m=\u001b[39m pd\u001b[38;5;241m.\u001b[39mconcat(  \u001b[43mwiktionary\u001b[49m\u001b[38;5;241;43m.\u001b[39;49m\u001b[43mswifter\u001b[49m\u001b[38;5;241;43m.\u001b[39;49m\u001b[43mapply\u001b[49m\u001b[43m(\u001b[49m\u001b[43mextract_all\u001b[49m\u001b[43m,\u001b[49m\u001b[43m \u001b[49m\u001b[43mplan\u001b[49m\u001b[38;5;241;43m=\u001b[39;49m\u001b[43mplan\u001b[49m\u001b[43m,\u001b[49m\u001b[43m \u001b[49m\u001b[43maxis\u001b[49m\u001b[38;5;241;43m=\u001b[39;49m\u001b[38;5;241;43m1\u001b[39;49m\u001b[43m)\u001b[49m\u001b[38;5;241m.\u001b[39mtolist()  )\n",
      "File \u001b[0;32m~/mambaforge/envs/python_06/lib/python3.9/site-packages/swifter/swifter.py:451\u001b[0m, in \u001b[0;36mDataFrameAccessor.apply\u001b[0;34m(self, func, axis, raw, result_type, args, **kwds)\u001b[0m\n\u001b[1;32m    448\u001b[0m \u001b[38;5;28;01melse\u001b[39;00m:\n\u001b[1;32m    449\u001b[0m     apply_func \u001b[38;5;241m=\u001b[39m \u001b[38;5;28mself\u001b[39m\u001b[38;5;241m.\u001b[39m_obj\u001b[38;5;241m.\u001b[39mapply\n\u001b[0;32m--> 451\u001b[0m \u001b[38;5;28;01mreturn\u001b[39;00m \u001b[43mapply_func\u001b[49m\u001b[43m(\u001b[49m\u001b[43mfunc\u001b[49m\u001b[43m,\u001b[49m\u001b[43m \u001b[49m\u001b[43maxis\u001b[49m\u001b[38;5;241;43m=\u001b[39;49m\u001b[43maxis\u001b[49m\u001b[43m,\u001b[49m\u001b[43m \u001b[49m\u001b[43mraw\u001b[49m\u001b[38;5;241;43m=\u001b[39;49m\u001b[43mraw\u001b[49m\u001b[43m,\u001b[49m\u001b[43m \u001b[49m\u001b[43mresult_type\u001b[49m\u001b[38;5;241;43m=\u001b[39;49m\u001b[43mresult_type\u001b[49m\u001b[43m,\u001b[49m\u001b[43m \u001b[49m\u001b[43margs\u001b[49m\u001b[38;5;241;43m=\u001b[39;49m\u001b[43margs\u001b[49m\u001b[43m,\u001b[49m\u001b[43m \u001b[49m\u001b[38;5;241;43m*\u001b[39;49m\u001b[38;5;241;43m*\u001b[39;49m\u001b[43mkwds\u001b[49m\u001b[43m)\u001b[49m\n",
      "File \u001b[0;32m~/mambaforge/envs/python_06/lib/python3.9/site-packages/tqdm/std.py:814\u001b[0m, in \u001b[0;36mtqdm.pandas.<locals>.inner_generator.<locals>.inner\u001b[0;34m(df, func, *args, **kwargs)\u001b[0m\n\u001b[1;32m    811\u001b[0m \u001b[38;5;66;03m# Apply the provided function (in **kwargs)\u001b[39;00m\n\u001b[1;32m    812\u001b[0m \u001b[38;5;66;03m# on the df using our wrapper (which provides bar updating)\u001b[39;00m\n\u001b[1;32m    813\u001b[0m \u001b[38;5;28;01mtry\u001b[39;00m:\n\u001b[0;32m--> 814\u001b[0m     \u001b[38;5;28;01mreturn\u001b[39;00m \u001b[38;5;28;43mgetattr\u001b[39;49m\u001b[43m(\u001b[49m\u001b[43mdf\u001b[49m\u001b[43m,\u001b[49m\u001b[43m \u001b[49m\u001b[43mdf_function\u001b[49m\u001b[43m)\u001b[49m\u001b[43m(\u001b[49m\u001b[43mwrapper\u001b[49m\u001b[43m,\u001b[49m\u001b[43m \u001b[49m\u001b[38;5;241;43m*\u001b[39;49m\u001b[38;5;241;43m*\u001b[39;49m\u001b[43mkwargs\u001b[49m\u001b[43m)\u001b[49m\n\u001b[1;32m    815\u001b[0m \u001b[38;5;28;01mfinally\u001b[39;00m:\n\u001b[1;32m    816\u001b[0m     t\u001b[38;5;241m.\u001b[39mclose()\n",
      "File \u001b[0;32m~/mambaforge/envs/python_06/lib/python3.9/site-packages/pandas/core/frame.py:9568\u001b[0m, in \u001b[0;36mDataFrame.apply\u001b[0;34m(self, func, axis, raw, result_type, args, **kwargs)\u001b[0m\n\u001b[1;32m   9557\u001b[0m \u001b[38;5;28;01mfrom\u001b[39;00m \u001b[38;5;21;01mpandas\u001b[39;00m\u001b[38;5;21;01m.\u001b[39;00m\u001b[38;5;21;01mcore\u001b[39;00m\u001b[38;5;21;01m.\u001b[39;00m\u001b[38;5;21;01mapply\u001b[39;00m \u001b[38;5;28;01mimport\u001b[39;00m frame_apply\n\u001b[1;32m   9559\u001b[0m op \u001b[38;5;241m=\u001b[39m frame_apply(\n\u001b[1;32m   9560\u001b[0m     \u001b[38;5;28mself\u001b[39m,\n\u001b[1;32m   9561\u001b[0m     func\u001b[38;5;241m=\u001b[39mfunc,\n\u001b[0;32m   (...)\u001b[0m\n\u001b[1;32m   9566\u001b[0m     kwargs\u001b[38;5;241m=\u001b[39mkwargs,\n\u001b[1;32m   9567\u001b[0m )\n\u001b[0;32m-> 9568\u001b[0m \u001b[38;5;28;01mreturn\u001b[39;00m \u001b[43mop\u001b[49m\u001b[38;5;241;43m.\u001b[39;49m\u001b[43mapply\u001b[49m\u001b[43m(\u001b[49m\u001b[43m)\u001b[49m\u001b[38;5;241m.\u001b[39m__finalize__(\u001b[38;5;28mself\u001b[39m, method\u001b[38;5;241m=\u001b[39m\u001b[38;5;124m\"\u001b[39m\u001b[38;5;124mapply\u001b[39m\u001b[38;5;124m\"\u001b[39m)\n",
      "File \u001b[0;32m~/mambaforge/envs/python_06/lib/python3.9/site-packages/pandas/core/apply.py:764\u001b[0m, in \u001b[0;36mFrameApply.apply\u001b[0;34m(self)\u001b[0m\n\u001b[1;32m    761\u001b[0m \u001b[38;5;28;01melif\u001b[39;00m \u001b[38;5;28mself\u001b[39m\u001b[38;5;241m.\u001b[39mraw:\n\u001b[1;32m    762\u001b[0m     \u001b[38;5;28;01mreturn\u001b[39;00m \u001b[38;5;28mself\u001b[39m\u001b[38;5;241m.\u001b[39mapply_raw()\n\u001b[0;32m--> 764\u001b[0m \u001b[38;5;28;01mreturn\u001b[39;00m \u001b[38;5;28;43mself\u001b[39;49m\u001b[38;5;241;43m.\u001b[39;49m\u001b[43mapply_standard\u001b[49m\u001b[43m(\u001b[49m\u001b[43m)\u001b[49m\n",
      "File \u001b[0;32m~/mambaforge/envs/python_06/lib/python3.9/site-packages/pandas/core/apply.py:891\u001b[0m, in \u001b[0;36mFrameApply.apply_standard\u001b[0;34m(self)\u001b[0m\n\u001b[1;32m    890\u001b[0m \u001b[38;5;28;01mdef\u001b[39;00m \u001b[38;5;21mapply_standard\u001b[39m(\u001b[38;5;28mself\u001b[39m):\n\u001b[0;32m--> 891\u001b[0m     results, res_index \u001b[38;5;241m=\u001b[39m \u001b[38;5;28;43mself\u001b[39;49m\u001b[38;5;241;43m.\u001b[39;49m\u001b[43mapply_series_generator\u001b[49m\u001b[43m(\u001b[49m\u001b[43m)\u001b[49m\n\u001b[1;32m    893\u001b[0m     \u001b[38;5;66;03m# wrap results\u001b[39;00m\n\u001b[1;32m    894\u001b[0m     \u001b[38;5;28;01mreturn\u001b[39;00m \u001b[38;5;28mself\u001b[39m\u001b[38;5;241m.\u001b[39mwrap_results(results, res_index)\n",
      "File \u001b[0;32m~/mambaforge/envs/python_06/lib/python3.9/site-packages/pandas/core/apply.py:907\u001b[0m, in \u001b[0;36mFrameApply.apply_series_generator\u001b[0;34m(self)\u001b[0m\n\u001b[1;32m    904\u001b[0m \u001b[38;5;28;01mwith\u001b[39;00m option_context(\u001b[38;5;124m\"\u001b[39m\u001b[38;5;124mmode.chained_assignment\u001b[39m\u001b[38;5;124m\"\u001b[39m, \u001b[38;5;28;01mNone\u001b[39;00m):\n\u001b[1;32m    905\u001b[0m     \u001b[38;5;28;01mfor\u001b[39;00m i, v \u001b[38;5;129;01min\u001b[39;00m \u001b[38;5;28menumerate\u001b[39m(series_gen):\n\u001b[1;32m    906\u001b[0m         \u001b[38;5;66;03m# ignore SettingWithCopy here in case the user mutates\u001b[39;00m\n\u001b[0;32m--> 907\u001b[0m         results[i] \u001b[38;5;241m=\u001b[39m \u001b[38;5;28;43mself\u001b[39;49m\u001b[38;5;241;43m.\u001b[39;49m\u001b[43mf\u001b[49m\u001b[43m(\u001b[49m\u001b[43mv\u001b[49m\u001b[43m)\u001b[49m\n\u001b[1;32m    908\u001b[0m         \u001b[38;5;28;01mif\u001b[39;00m \u001b[38;5;28misinstance\u001b[39m(results[i], ABCSeries):\n\u001b[1;32m    909\u001b[0m             \u001b[38;5;66;03m# If we have a view on v, we need to make a copy because\u001b[39;00m\n\u001b[1;32m    910\u001b[0m             \u001b[38;5;66;03m#  series_generator will swap out the underlying data\u001b[39;00m\n\u001b[1;32m    911\u001b[0m             results[i] \u001b[38;5;241m=\u001b[39m results[i]\u001b[38;5;241m.\u001b[39mcopy(deep\u001b[38;5;241m=\u001b[39m\u001b[38;5;28;01mFalse\u001b[39;00m)\n",
      "File \u001b[0;32m~/mambaforge/envs/python_06/lib/python3.9/site-packages/pandas/core/apply.py:142\u001b[0m, in \u001b[0;36mApply.__init__.<locals>.f\u001b[0;34m(x)\u001b[0m\n\u001b[1;32m    141\u001b[0m \u001b[38;5;28;01mdef\u001b[39;00m \u001b[38;5;21mf\u001b[39m(x):\n\u001b[0;32m--> 142\u001b[0m     \u001b[38;5;28;01mreturn\u001b[39;00m \u001b[43mfunc\u001b[49m\u001b[43m(\u001b[49m\u001b[43mx\u001b[49m\u001b[43m,\u001b[49m\u001b[43m \u001b[49m\u001b[38;5;241;43m*\u001b[39;49m\u001b[43margs\u001b[49m\u001b[43m,\u001b[49m\u001b[43m \u001b[49m\u001b[38;5;241;43m*\u001b[39;49m\u001b[38;5;241;43m*\u001b[39;49m\u001b[43mkwargs\u001b[49m\u001b[43m)\u001b[49m\n",
      "File \u001b[0;32m~/mambaforge/envs/python_06/lib/python3.9/site-packages/tqdm/std.py:809\u001b[0m, in \u001b[0;36mtqdm.pandas.<locals>.inner_generator.<locals>.inner.<locals>.wrapper\u001b[0;34m(*args, **kwargs)\u001b[0m\n\u001b[1;32m    803\u001b[0m \u001b[38;5;28;01mdef\u001b[39;00m \u001b[38;5;21mwrapper\u001b[39m(\u001b[38;5;241m*\u001b[39margs, \u001b[38;5;241m*\u001b[39m\u001b[38;5;241m*\u001b[39mkwargs):\n\u001b[1;32m    804\u001b[0m     \u001b[38;5;66;03m# update tbar correctly\u001b[39;00m\n\u001b[1;32m    805\u001b[0m     \u001b[38;5;66;03m# it seems `pandas apply` calls `func` twice\u001b[39;00m\n\u001b[1;32m    806\u001b[0m     \u001b[38;5;66;03m# on the first column/row to decide whether it can\u001b[39;00m\n\u001b[1;32m    807\u001b[0m     \u001b[38;5;66;03m# take a fast or slow code path; so stop when t.total==t.n\u001b[39;00m\n\u001b[1;32m    808\u001b[0m     t\u001b[38;5;241m.\u001b[39mupdate(n\u001b[38;5;241m=\u001b[39m\u001b[38;5;241m1\u001b[39m \u001b[38;5;28;01mif\u001b[39;00m \u001b[38;5;129;01mnot\u001b[39;00m t\u001b[38;5;241m.\u001b[39mtotal \u001b[38;5;129;01mor\u001b[39;00m t\u001b[38;5;241m.\u001b[39mn \u001b[38;5;241m<\u001b[39m t\u001b[38;5;241m.\u001b[39mtotal \u001b[38;5;28;01melse\u001b[39;00m \u001b[38;5;241m0\u001b[39m)\n\u001b[0;32m--> 809\u001b[0m     \u001b[38;5;28;01mreturn\u001b[39;00m \u001b[43mfunc\u001b[49m\u001b[43m(\u001b[49m\u001b[38;5;241;43m*\u001b[39;49m\u001b[43margs\u001b[49m\u001b[43m,\u001b[49m\u001b[43m \u001b[49m\u001b[38;5;241;43m*\u001b[39;49m\u001b[38;5;241;43m*\u001b[39;49m\u001b[43mkwargs\u001b[49m\u001b[43m)\u001b[49m\n",
      "File \u001b[0;32m~/Data_Linux/Dropbox/31_Projekte/01_Python/git/wiktionary_wortschatz/1_wiktionary_parsen/x24_process_wikicode.py:34\u001b[0m, in \u001b[0;36mextract_all\u001b[0;34m(zeile, plan, step, verbose)\u001b[0m\n\u001b[1;32m     32\u001b[0m         df \u001b[38;5;241m=\u001b[39m extract_exists(     zeile, templatename\u001b[38;5;241m=\u001b[39mtemplatename, merkmal\u001b[38;5;241m=\u001b[39mmerkmal, wikicode\u001b[38;5;241m=\u001b[39mwikicode )               \n\u001b[1;32m     33\u001b[0m     \u001b[38;5;28;01melse\u001b[39;00m:\n\u001b[0;32m---> 34\u001b[0m         df \u001b[38;5;241m=\u001b[39m \u001b[43mextract\u001b[49m\u001b[43m(\u001b[49m\u001b[43m            \u001b[49m\u001b[43mzeile\u001b[49m\u001b[43m,\u001b[49m\u001b[43m \u001b[49m\u001b[43mtemplatename\u001b[49m\u001b[38;5;241;43m=\u001b[39;49m\u001b[43mtemplatename\u001b[49m\u001b[43m,\u001b[49m\u001b[43m \u001b[49m\u001b[43mmerkmal\u001b[49m\u001b[38;5;241;43m=\u001b[39;49m\u001b[43mmerkmal\u001b[49m\u001b[43m,\u001b[49m\u001b[43m \u001b[49m\u001b[43mwikicode\u001b[49m\u001b[38;5;241;43m=\u001b[39;49m\u001b[43mwikicode\u001b[49m\u001b[43m,\u001b[49m\u001b[43m \u001b[49m\u001b[43mcollect\u001b[49m\u001b[38;5;241;43m=\u001b[39;49m\u001b[43mcollect\u001b[49m\u001b[43m,\u001b[49m\u001b[43m \u001b[49m\u001b[43mstep\u001b[49m\u001b[38;5;241;43m=\u001b[39;49m\u001b[43mstep\u001b[49m\u001b[43m)\u001b[49m\n\u001b[1;32m     35\u001b[0m     result\u001b[38;5;241m.\u001b[39mappend(df)\n\u001b[1;32m     37\u001b[0m \u001b[38;5;28;01mdel\u001b[39;00m wikicode\n",
      "File \u001b[0;32m~/Data_Linux/Dropbox/31_Projekte/01_Python/git/wiktionary_wortschatz/1_wiktionary_parsen/x24_process_wikicode.py:141\u001b[0m, in \u001b[0;36mextract\u001b[0;34m(zeile, templatename, merkmal, löschen, collect, wikicode, step)\u001b[0m\n\u001b[1;32m    138\u001b[0m         item\u001b[38;5;241m.\u001b[39mnode_text    \u001b[38;5;241m=\u001b[39m text_akt\u001b[38;5;241m.\u001b[39mstrip()\u001b[38;5;241m.\u001b[39mreplace(\u001b[38;5;124m\"\u001b[39m\u001b[38;5;124m'\u001b[39m\u001b[38;5;124m'\u001b[39m\u001b[38;5;124m'\u001b[39m\u001b[38;5;124m'\u001b[39m\u001b[38;5;124m'\u001b[39m\u001b[38;5;124m\"\u001b[39m,\u001b[38;5;124m\"\u001b[39m\u001b[38;5;124m\"\u001b[39m)\u001b[38;5;241m.\u001b[39mreplace(\u001b[38;5;124m\"\u001b[39m\u001b[38;5;124m'\u001b[39m\u001b[38;5;124m'\u001b[39m\u001b[38;5;124m\"\u001b[39m,\u001b[38;5;124m\"\u001b[39m\u001b[38;5;124m\"\u001b[39m)\u001b[38;5;241m.\u001b[39mstrip()   \n\u001b[1;32m    139\u001b[0m         list_list\u001b[38;5;241m.\u001b[39mappend(item\u001b[38;5;241m.\u001b[39maslist())                    \n\u001b[0;32m--> 141\u001b[0m result \u001b[38;5;241m=\u001b[39m \u001b[43mpd\u001b[49m\u001b[38;5;241;43m.\u001b[39;49m\u001b[43mDataFrame\u001b[49m\u001b[43m(\u001b[49m\u001b[43mlist_list\u001b[49m\u001b[43m,\u001b[49m\u001b[43m \u001b[49m\u001b[43mcolumns\u001b[49m\u001b[38;5;241;43m=\u001b[39;49m\u001b[43m[\u001b[49m\u001b[38;5;124;43m'\u001b[39;49m\u001b[38;5;124;43mnode_num\u001b[39;49m\u001b[38;5;124;43m'\u001b[39;49m\u001b[43m,\u001b[49m\u001b[38;5;124;43m'\u001b[39;49m\u001b[38;5;124;43mnode_meta\u001b[39;49m\u001b[38;5;124;43m'\u001b[39;49m\u001b[43m,\u001b[49m\u001b[38;5;124;43m'\u001b[39;49m\u001b[38;5;124;43mnode_link\u001b[39;49m\u001b[38;5;124;43m'\u001b[39;49m\u001b[43m,\u001b[49m\u001b[38;5;124;43m'\u001b[39;49m\u001b[38;5;124;43mnode_text\u001b[39;49m\u001b[38;5;124;43m'\u001b[39;49m\u001b[43m,\u001b[49m\u001b[38;5;124;43m'\u001b[39;49m\u001b[38;5;124;43mnode_kontext\u001b[39;49m\u001b[38;5;124;43m'\u001b[39;49m\u001b[43m,\u001b[49m\u001b[38;5;124;43m'\u001b[39;49m\u001b[38;5;124;43mnode_debug\u001b[39;49m\u001b[38;5;124;43m'\u001b[39;49m\u001b[43m,\u001b[49m\u001b[43m]\u001b[49m\u001b[43m)\u001b[49m\n\u001b[1;32m    142\u001b[0m result[\u001b[38;5;124m'\u001b[39m\u001b[38;5;124msection_id\u001b[39m\u001b[38;5;124m'\u001b[39m]  \u001b[38;5;241m=\u001b[39m zeile\u001b[38;5;241m.\u001b[39msection_id \n\u001b[1;32m    143\u001b[0m result[\u001b[38;5;124m'\u001b[39m\u001b[38;5;124msection_id2\u001b[39m\u001b[38;5;124m'\u001b[39m] \u001b[38;5;241m=\u001b[39m zeile\u001b[38;5;241m.\u001b[39msection_id2     \n",
      "File \u001b[0;32m~/mambaforge/envs/python_06/lib/python3.9/site-packages/pandas/core/frame.py:771\u001b[0m, in \u001b[0;36mDataFrame.__init__\u001b[0;34m(self, data, index, columns, dtype, copy)\u001b[0m\n\u001b[1;32m    762\u001b[0m             mgr \u001b[38;5;241m=\u001b[39m ndarray_to_mgr(\n\u001b[1;32m    763\u001b[0m                 data,\n\u001b[1;32m    764\u001b[0m                 index,\n\u001b[0;32m   (...)\u001b[0m\n\u001b[1;32m    768\u001b[0m                 typ\u001b[38;5;241m=\u001b[39mmanager,\n\u001b[1;32m    769\u001b[0m             )\n\u001b[1;32m    770\u001b[0m     \u001b[38;5;28;01melse\u001b[39;00m:\n\u001b[0;32m--> 771\u001b[0m         mgr \u001b[38;5;241m=\u001b[39m \u001b[43mdict_to_mgr\u001b[49m\u001b[43m(\u001b[49m\n\u001b[1;32m    772\u001b[0m \u001b[43m            \u001b[49m\u001b[43m{\u001b[49m\u001b[43m}\u001b[49m\u001b[43m,\u001b[49m\n\u001b[1;32m    773\u001b[0m \u001b[43m            \u001b[49m\u001b[43mindex\u001b[49m\u001b[43m,\u001b[49m\n\u001b[1;32m    774\u001b[0m \u001b[43m            \u001b[49m\u001b[43mcolumns\u001b[49m\u001b[43m,\u001b[49m\n\u001b[1;32m    775\u001b[0m \u001b[43m            \u001b[49m\u001b[43mdtype\u001b[49m\u001b[38;5;241;43m=\u001b[39;49m\u001b[43mdtype\u001b[49m\u001b[43m,\u001b[49m\n\u001b[1;32m    776\u001b[0m \u001b[43m            \u001b[49m\u001b[43mtyp\u001b[49m\u001b[38;5;241;43m=\u001b[39;49m\u001b[43mmanager\u001b[49m\u001b[43m,\u001b[49m\n\u001b[1;32m    777\u001b[0m \u001b[43m        \u001b[49m\u001b[43m)\u001b[49m\n\u001b[1;32m    778\u001b[0m \u001b[38;5;66;03m# For data is scalar\u001b[39;00m\n\u001b[1;32m    779\u001b[0m \u001b[38;5;28;01melse\u001b[39;00m:\n\u001b[1;32m    780\u001b[0m     \u001b[38;5;28;01mif\u001b[39;00m index \u001b[38;5;129;01mis\u001b[39;00m \u001b[38;5;28;01mNone\u001b[39;00m \u001b[38;5;129;01mor\u001b[39;00m columns \u001b[38;5;129;01mis\u001b[39;00m \u001b[38;5;28;01mNone\u001b[39;00m:\n",
      "File \u001b[0;32m~/mambaforge/envs/python_06/lib/python3.9/site-packages/pandas/core/internals/construction.py:473\u001b[0m, in \u001b[0;36mdict_to_mgr\u001b[0;34m(data, index, columns, dtype, typ, copy)\u001b[0m\n\u001b[1;32m    470\u001b[0m         \u001b[38;5;28;01melse\u001b[39;00m:\n\u001b[1;32m    471\u001b[0m             \u001b[38;5;66;03m# GH#45369\u001b[39;00m\n\u001b[1;32m    472\u001b[0m             rhs \u001b[38;5;241m=\u001b[39m [val\u001b[38;5;241m.\u001b[39mcopy() \u001b[38;5;28;01mfor\u001b[39;00m _ \u001b[38;5;129;01min\u001b[39;00m \u001b[38;5;28mrange\u001b[39m(nmissing)]\n\u001b[0;32m--> 473\u001b[0m         \u001b[43marrays\u001b[49m\u001b[38;5;241;43m.\u001b[39;49m\u001b[43mloc\u001b[49m\u001b[43m[\u001b[49m\u001b[43mmissing\u001b[49m\u001b[43m]\u001b[49m \u001b[38;5;241m=\u001b[39m rhs\n\u001b[1;32m    475\u001b[0m arrays \u001b[38;5;241m=\u001b[39m \u001b[38;5;28mlist\u001b[39m(arrays)\n\u001b[1;32m    476\u001b[0m columns \u001b[38;5;241m=\u001b[39m ensure_index(columns)\n",
      "File \u001b[0;32m~/mambaforge/envs/python_06/lib/python3.9/site-packages/pandas/core/indexing.py:814\u001b[0m, in \u001b[0;36m_LocationIndexer.__setitem__\u001b[0;34m(self, key, value)\u001b[0m\n\u001b[1;32m    812\u001b[0m \u001b[38;5;28;01melse\u001b[39;00m:\n\u001b[1;32m    813\u001b[0m     key \u001b[38;5;241m=\u001b[39m com\u001b[38;5;241m.\u001b[39mapply_if_callable(key, \u001b[38;5;28mself\u001b[39m\u001b[38;5;241m.\u001b[39mobj)\n\u001b[0;32m--> 814\u001b[0m indexer \u001b[38;5;241m=\u001b[39m \u001b[38;5;28;43mself\u001b[39;49m\u001b[38;5;241;43m.\u001b[39;49m\u001b[43m_get_setitem_indexer\u001b[49m\u001b[43m(\u001b[49m\u001b[43mkey\u001b[49m\u001b[43m)\u001b[49m\n\u001b[1;32m    815\u001b[0m \u001b[38;5;28mself\u001b[39m\u001b[38;5;241m.\u001b[39m_has_valid_setitem_indexer(key)\n\u001b[1;32m    817\u001b[0m iloc \u001b[38;5;241m=\u001b[39m \u001b[38;5;28mself\u001b[39m \u001b[38;5;28;01mif\u001b[39;00m \u001b[38;5;28mself\u001b[39m\u001b[38;5;241m.\u001b[39mname \u001b[38;5;241m==\u001b[39m \u001b[38;5;124m\"\u001b[39m\u001b[38;5;124miloc\u001b[39m\u001b[38;5;124m\"\u001b[39m \u001b[38;5;28;01melse\u001b[39;00m \u001b[38;5;28mself\u001b[39m\u001b[38;5;241m.\u001b[39mobj\u001b[38;5;241m.\u001b[39miloc\n",
      "File \u001b[0;32m~/mambaforge/envs/python_06/lib/python3.9/site-packages/pandas/core/indexing.py:687\u001b[0m, in \u001b[0;36m_LocationIndexer._get_setitem_indexer\u001b[0;34m(self, key)\u001b[0m\n\u001b[1;32m    684\u001b[0m \u001b[38;5;28;01mif\u001b[39;00m \u001b[38;5;28mself\u001b[39m\u001b[38;5;241m.\u001b[39maxis \u001b[38;5;129;01mis\u001b[39;00m \u001b[38;5;129;01mnot\u001b[39;00m \u001b[38;5;28;01mNone\u001b[39;00m:\n\u001b[1;32m    685\u001b[0m     key \u001b[38;5;241m=\u001b[39m _tupleize_axis_indexer(\u001b[38;5;28mself\u001b[39m\u001b[38;5;241m.\u001b[39mndim, \u001b[38;5;28mself\u001b[39m\u001b[38;5;241m.\u001b[39maxis, key)\n\u001b[0;32m--> 687\u001b[0m ax \u001b[38;5;241m=\u001b[39m \u001b[38;5;28;43mself\u001b[39;49m\u001b[38;5;241;43m.\u001b[39;49m\u001b[43mobj\u001b[49m\u001b[38;5;241;43m.\u001b[39;49m\u001b[43m_get_axis\u001b[49m\u001b[43m(\u001b[49m\u001b[38;5;241;43m0\u001b[39;49m\u001b[43m)\u001b[49m\n\u001b[1;32m    689\u001b[0m \u001b[38;5;28;01mif\u001b[39;00m \u001b[38;5;28misinstance\u001b[39m(ax, MultiIndex) \u001b[38;5;129;01mand\u001b[39;00m \u001b[38;5;28mself\u001b[39m\u001b[38;5;241m.\u001b[39mname \u001b[38;5;241m!=\u001b[39m \u001b[38;5;124m\"\u001b[39m\u001b[38;5;124miloc\u001b[39m\u001b[38;5;124m\"\u001b[39m \u001b[38;5;129;01mand\u001b[39;00m is_hashable(key):\n\u001b[1;32m    690\u001b[0m     \u001b[38;5;28;01mwith\u001b[39;00m suppress(\u001b[38;5;167;01mKeyError\u001b[39;00m, InvalidIndexError):\n\u001b[1;32m    691\u001b[0m         \u001b[38;5;66;03m# TypeError e.g. passed a bool\u001b[39;00m\n",
      "File \u001b[0;32m~/mambaforge/envs/python_06/lib/python3.9/site-packages/pandas/core/generic.py:568\u001b[0m, in \u001b[0;36mNDFrame._get_axis\u001b[0;34m(self, axis)\u001b[0m\n\u001b[1;32m    566\u001b[0m axis_number \u001b[38;5;241m=\u001b[39m \u001b[38;5;28mself\u001b[39m\u001b[38;5;241m.\u001b[39m_get_axis_number(axis)\n\u001b[1;32m    567\u001b[0m \u001b[38;5;28;01massert\u001b[39;00m axis_number \u001b[38;5;129;01min\u001b[39;00m {\u001b[38;5;241m0\u001b[39m, \u001b[38;5;241m1\u001b[39m}\n\u001b[0;32m--> 568\u001b[0m \u001b[38;5;28;01mreturn\u001b[39;00m \u001b[38;5;28;43mself\u001b[39;49m\u001b[38;5;241;43m.\u001b[39;49m\u001b[43mindex\u001b[49m \u001b[38;5;28;01mif\u001b[39;00m axis_number \u001b[38;5;241m==\u001b[39m \u001b[38;5;241m0\u001b[39m \u001b[38;5;28;01melse\u001b[39;00m \u001b[38;5;28mself\u001b[39m\u001b[38;5;241m.\u001b[39mcolumns\n",
      "\u001b[0;31mKeyboardInterrupt\u001b[0m: "
     ]
    },
    {
     "name": "stdout",
     "output_type": "stream",
     "text": [
      "time: 2h 53min 34s\n"
     ]
    }
   ],
   "source": [
    "# all: 40 min (4 parallel) \n",
    "# 100K: 3 min\n",
    "# apply erzeugt eine Series von DataFrames\n",
    "# tolist macht daraus eine Liste\n",
    "# und concat macht aus der Liste von DataFrames ein Gesamt-DataFrame\n",
    "#wiktionary_merkmal_text = pd.concat(  wiktionary.parallel_apply(extract_all, plan=plan, axis=1).tolist()  )\n",
    "wiktionary_merkmal_text = pd.concat(  wiktionary.swifter.apply(extract_all, plan=plan, axis=1).tolist()  )"
   ]
  },
  {
   "cell_type": "code",
   "execution_count": null,
   "metadata": {},
   "outputs": [],
   "source": [
    "# nachbearbeiten\n",
    "wiktionary_merkmal_text = pak.reset_index( wiktionary_merkmal_text )\n",
    "wiktionary_merkmal_text = pak.move_cols(   wiktionary_merkmal_text, ['section_id','section_id2','merkmal'])\n",
    "wiktionary_merkmal_text = pak.drop_cols(   wiktionary_merkmal_text, ['node_link','node_kontext','node_debug'])\n",
    "wiktionary_merkmal_text = pak.rename_col(  wiktionary_merkmal_text, 'node_num',  'num')\n",
    "wiktionary_merkmal_text = pak.rename_col(  wiktionary_merkmal_text, 'node_meta', 'meta')\n",
    "wiktionary_merkmal_text = pak.rename_col(  wiktionary_merkmal_text, 'node_text', 'data')    "
   ]
  },
  {
   "cell_type": "markdown",
   "metadata": {},
   "source": [
    "## Kontrolle: wiktionary_merkmal_text"
   ]
  },
  {
   "cell_type": "code",
   "execution_count": null,
   "metadata": {},
   "outputs": [],
   "source": [
    "# Merkmale Häufigkeit\n",
    "v = pak.analyse_freqs(wiktionary_merkmal_text, 'merkmal') \n",
    "v"
   ]
  },
  {
   "cell_type": "code",
   "execution_count": null,
   "metadata": {},
   "outputs": [],
   "source": [
    "# plan erfüllt?\n",
    "geplant = set(plan.merkmal)\n",
    "done    = set(v.merkmal)\n",
    "nicht_erfüllt = geplant - done\n",
    "print(nicht_erfüllt)\n",
    "assert len(nicht_erfüllt) == 0"
   ]
  },
  {
   "cell_type": "code",
   "execution_count": null,
   "metadata": {},
   "outputs": [],
   "source": [
    "# Sichtkontrolle\n",
    "mask = wiktionary.section_id2.isin(suche_debug)\n",
    "suche_section_ids = wiktionary[mask].section_id.tolist()\n",
    "mask = wiktionary_merkmal_text.section_id.isin(suche_section_ids)\n",
    "wiktionary_merkmal_text[mask]"
   ]
  },
  {
   "cell_type": "markdown",
   "metadata": {},
   "source": [
    "## Speichern"
   ]
  },
  {
   "cell_type": "code",
   "execution_count": null,
   "metadata": {},
   "outputs": [],
   "source": [
    "# Speichern   \n",
    "if wiktionary_merkmal_text_filename:\n",
    "    pak.dump_pickle(wiktionary_merkmal_text, wiktionary_merkmal_text_filename)   "
   ]
  },
  {
   "cell_type": "code",
   "execution_count": null,
   "metadata": {},
   "outputs": [],
   "source": [
    "# Speicher\n",
    "if speicher_freigeben:\n",
    "    try:\n",
    "        del wiktionary_merkmal_text\n",
    "    except:\n",
    "        pass\n",
    "pak.memory_consumption(locals())"
   ]
  },
  {
   "cell_type": "code",
   "execution_count": null,
   "metadata": {},
   "outputs": [],
   "source": [
    "#pak.analyse_cols(wiktionary)"
   ]
  },
  {
   "cell_type": "markdown",
   "metadata": {},
   "source": [
    "## wiktionary_merkmal"
   ]
  },
  {
   "cell_type": "code",
   "execution_count": null,
   "metadata": {},
   "outputs": [],
   "source": [
    "# plan\n",
    "mask = plan_merkmal.plan == 1\n",
    "plan = plan_merkmal[mask]\n",
    "plan"
   ]
  },
  {
   "cell_type": "code",
   "execution_count": null,
   "metadata": {},
   "outputs": [],
   "source": [
    "# all: 2h 22min\n",
    "# 100K: 8min 44s\n",
    "# ERROR1 2ERROR\n",
    "# apply erzeugt eine Series von DataFrames\n",
    "# tolist macht daraus eine Liste\n",
    "# und concat macht aus der Liste von DataFrames ein Gesamt-DataFrame\n",
    "#wiktionary_merkmal = pd.concat(  wiktionary.parallel_apply(extract_all, plan=plan, axis=1).tolist()  )\n",
    "wiktionary_merkmal = pd.concat(  wiktionary.swifter.apply(extract_all, plan=plan, axis=1).tolist()  )"
   ]
  },
  {
   "cell_type": "code",
   "execution_count": null,
   "metadata": {},
   "outputs": [],
   "source": [
    "# nachbearbeiten\n",
    "wiktionary_merkmal = pak.reset_index( wiktionary_merkmal )\n",
    "wiktionary_merkmal = pak.move_cols(   wiktionary_merkmal, ['section_id','section_id2','merkmal'])\n",
    "wiktionary_merkmal = pak.drop_cols(   wiktionary_merkmal, ['node_link'])\n",
    "wiktionary_merkmal = pak.rename_col(  wiktionary_merkmal, 'node_num',  'num')\n",
    "wiktionary_merkmal = pak.rename_col(  wiktionary_merkmal, 'node_meta', 'meta')\n",
    "wiktionary_merkmal = pak.rename_col(  wiktionary_merkmal, 'node_text', 'data')    "
   ]
  },
  {
   "cell_type": "markdown",
   "metadata": {},
   "source": [
    "## Kontrolle: wiktionary_merkmal"
   ]
  },
  {
   "cell_type": "code",
   "execution_count": null,
   "metadata": {},
   "outputs": [],
   "source": [
    "# Merkmale Häufigkeit\n",
    "v = pak.analyse_freqs(wiktionary_merkmal, 'merkmal') \n",
    "v"
   ]
  },
  {
   "cell_type": "code",
   "execution_count": null,
   "metadata": {},
   "outputs": [],
   "source": [
    "# plan erfüllt?\n",
    "geplant = set(plan.merkmal)\n",
    "done    = set(v.merkmal)\n",
    "nicht_erfüllt = geplant - done\n",
    "print(nicht_erfüllt)\n",
    "if version == '_all': \n",
    "    assert len(nicht_erfüllt) <= 1  # {'reim'} ist nicht erfüllt"
   ]
  },
  {
   "cell_type": "code",
   "execution_count": null,
   "metadata": {},
   "outputs": [],
   "source": [
    "# Suche festlegen\n",
    "suche_debug = ['Haus',]"
   ]
  },
  {
   "cell_type": "code",
   "execution_count": null,
   "metadata": {},
   "outputs": [],
   "source": [
    "# Alle Merkmale einer Section\n",
    "mask = wiktionary.section_id2.isin(suche_debug)\n",
    "suche_section_ids = wiktionary[mask].section_id.tolist()\n",
    "mask = wiktionary_merkmal.section_id.isin(suche_section_ids)\n",
    "a = pak.analyse_freqs( wiktionary_merkmal[mask], ['merkmal','data'], limits=[999,None])\n",
    "#grid(a)\n",
    "a"
   ]
  },
  {
   "cell_type": "code",
   "execution_count": null,
   "metadata": {},
   "outputs": [],
   "source": [
    "# Alle Merkmale einer Section\n",
    "mask = wiktionary.title.isin(suche_debug)\n",
    "suche_section_ids = wiktionary[mask].section_id.tolist()\n",
    "mask = wiktionary_merkmal.section_id.isin(suche_section_ids)\n",
    "#grid(wiktionary_merkmal, mask)\n",
    "wiktionary_merkmal[mask]"
   ]
  },
  {
   "cell_type": "code",
   "execution_count": null,
   "metadata": {},
   "outputs": [],
   "source": [
    "# Ein Merkmal in allen Sections\n",
    "mask = (wiktionary_merkmal.merkmal == 'up_part')\n",
    "#grid(wiktionary_merkmal, mask)\n",
    "wiktionary_merkmal[mask]"
   ]
  },
  {
   "cell_type": "markdown",
   "metadata": {},
   "source": [
    "## Müll löschen"
   ]
  },
  {
   "cell_type": "code",
   "execution_count": null,
   "metadata": {},
   "outputs": [],
   "source": [
    "# Reste von Bildern\n",
    "mask1 = (wiktionary_merkmal.merkmal == 'übersicht')\n",
    "mask2 = (wiktionary_merkmal.node_kontext.str.len() < 3)\n",
    "mask = mask1  &  mask2\n",
    "wiktionary_merkmal = pak.drop_rows(wiktionary_merkmal,mask, verbose=True)"
   ]
  },
  {
   "cell_type": "code",
   "execution_count": null,
   "metadata": {},
   "outputs": [],
   "source": [
    "# wiktionary_merkmal: Spalten löschen\n",
    "wiktionary_merkmal = pak.drop_cols(wiktionary_merkmal,['section_id'])"
   ]
  },
  {
   "cell_type": "markdown",
   "metadata": {},
   "source": [
    "## Speichern"
   ]
  },
  {
   "cell_type": "code",
   "execution_count": null,
   "metadata": {},
   "outputs": [],
   "source": [
    "# Speichern\n",
    "if wiktionary_merkmal_filename:\n",
    "    pak.dump_pickle(wiktionary_merkmal, wiktionary_merkmal_filename) "
   ]
  },
  {
   "cell_type": "code",
   "execution_count": null,
   "metadata": {},
   "outputs": [],
   "source": [
    "# Ausgabeverzeichnis touch\n",
    "import os\n",
    "os.utime(verzeichnis_save)"
   ]
  },
  {
   "cell_type": "code",
   "execution_count": null,
   "metadata": {
    "colab": {
     "base_uri": "https://localhost:8080/"
    },
    "executionInfo": {
     "elapsed": 7425,
     "status": "ok",
     "timestamp": 1676479015113,
     "user": {
      "displayName": "Hups Hopsalla",
      "userId": "10020718461385065661"
     },
     "user_tz": -60
    },
    "id": "dbiDceKXyUx7",
    "outputId": "beb0cf2a-bc86-47c4-81e6-b11c7354957c"
   },
   "outputs": [],
   "source": [
    "# Save in Google Drive\n",
    "if environment['in_colab']:\n",
    "    from google.colab import drive\n",
    "    drive.mount('/content/drive') \n",
    "    !cd /content\n",
    "    !cp -av {verzeichnis_save} /content/drive/MyDrive"
   ]
  },
  {
   "cell_type": "code",
   "execution_count": null,
   "metadata": {},
   "outputs": [],
   "source": [
    "# memory_consumption\n",
    "pak.memory_consumption( locals() )"
   ]
  },
  {
   "cell_type": "code",
   "execution_count": null,
   "metadata": {},
   "outputs": [],
   "source": []
  }
 ],
 "metadata": {
  "kernelspec": {
   "display_name": "Python 3 (ipykernel)",
   "language": "python",
   "name": "python3"
  },
  "language_info": {
   "codemirror_mode": {
    "name": "ipython",
    "version": 3
   },
   "file_extension": ".py",
   "mimetype": "text/x-python",
   "name": "python",
   "nbconvert_exporter": "python",
   "pygments_lexer": "ipython3",
   "version": "3.9.13"
  }
 },
 "nbformat": 4,
 "nbformat_minor": 4
}
