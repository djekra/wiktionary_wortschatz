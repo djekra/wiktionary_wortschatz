{
 "cells": [
  {
   "cell_type": "markdown",
   "metadata": {
    "id": "lSehjmZun5OP"
   },
   "source": [
    "__[Open and try this file online (Colab)](https://colab.research.google.com/github/djekra/wiktionary_wortschatz/blob/master/1_wiktionary_parsen/x20_d00_mwparserfromhell.ipynb)__"
   ]
  },
  {
   "cell_type": "markdown",
   "metadata": {},
   "source": [
    "# mwparserfromhell\n",
    "* erstellt die Dateien wiktionary_merkmal.pickle und wiktionary_merkmal_text.pickle in data_00\n",
    "* parst dafür wiktionary.wikitext mit mwparserfromhell\n",
    "* File wiktionary wird nicht neu gespeichert"
   ]
  },
  {
   "cell_type": "markdown",
   "metadata": {},
   "source": [
    "## Import"
   ]
  },
  {
   "cell_type": "code",
   "execution_count": 1,
   "metadata": {
    "execution": {
     "iopub.execute_input": "2023-02-16T09:05:33.638010Z",
     "iopub.status.busy": "2023-02-16T09:05:33.637876Z",
     "iopub.status.idle": "2023-02-16T09:05:34.293478Z",
     "shell.execute_reply": "2023-02-16T09:05:34.292888Z",
     "shell.execute_reply.started": "2023-02-16T09:05:33.637994Z"
    }
   },
   "outputs": [
    {
     "name": "stdout",
     "output_type": "stream",
     "text": [
      "blab init\n",
      "environment['in_colab']     = False\n",
      "environment['dropbox_path'] = /media/me/Data_slow/Dropbox\n",
      "environment['lib_path']     = /media/me/Data_slow/Dropbox/31_Projekte/01_Python/libs\n",
      "Start Time: 10:05:33\n"
     ]
    },
    {
     "data": {
      "text/html": [
       "<img src onerror=\"var cell = this.closest('.jp-CodeCell');var editor = cell.querySelector('.jp-Editor');editor.style.background='Beige';this.parentNode.removeChild(this)\">"
      ],
      "text/plain": [
       "<IPython.core.display.HTML object>"
      ]
     },
     "metadata": {},
     "output_type": "display_data"
    },
    {
     "name": "stdout",
     "output_type": "stream",
     "text": [
      "time: 392 ms\n"
     ]
    }
   ],
   "source": [
    "# blab init\n",
    "try:\n",
    "    import blab\n",
    "except ImportError as e:\n",
    "    !pip install blab\n",
    "    import blab    \n",
    "startup_notebook = blab.blab_startup()\n",
    "%run $startup_notebook "
   ]
  },
  {
   "cell_type": "code",
   "execution_count": 2,
   "metadata": {
    "execution": {
     "iopub.execute_input": "2023-02-16T09:05:34.295673Z",
     "iopub.status.busy": "2023-02-16T09:05:34.295112Z",
     "iopub.status.idle": "2023-02-16T09:05:38.028322Z",
     "shell.execute_reply": "2023-02-16T09:05:38.027768Z",
     "shell.execute_reply.started": "2023-02-16T09:05:34.295655Z"
    }
   },
   "outputs": [
    {
     "name": "stdout",
     "output_type": "stream",
     "text": [
      "time: 3.73 s\n"
     ]
    }
   ],
   "source": [
    "# alle anderen\n",
    "try:\n",
    "    import pandasklar as pak, bj_nlp, mwparserfromhell, pandarallel\n",
    "\n",
    "except ImportError as e:\n",
    "    !pip install pandasklar bj_nlp mwparserfromhell pandarallel\n",
    "    import pandasklar as pak, bj_nlp, mwparserfromhell, pandarallel\n",
    "    \n",
    "grid       = pak.grid\n",
    "check_mask = pak.check_mask      "
   ]
  },
  {
   "cell_type": "markdown",
   "metadata": {},
   "source": [
    "## Einstellungen"
   ]
  },
  {
   "cell_type": "code",
   "execution_count": 3,
   "metadata": {
    "execution": {
     "iopub.execute_input": "2023-02-16T09:05:38.029257Z",
     "iopub.status.busy": "2023-02-16T09:05:38.028928Z",
     "iopub.status.idle": "2023-02-16T09:05:38.055371Z",
     "shell.execute_reply": "2023-02-16T09:05:38.054954Z",
     "shell.execute_reply.started": "2023-02-16T09:05:38.029225Z"
    }
   },
   "outputs": [
    {
     "name": "stdout",
     "output_type": "stream",
     "text": [
      "time: 23.1 ms\n"
     ]
    }
   ],
   "source": [
    "\n",
    "version = '_all'\n",
    "#version = '_short'\n",
    "speicher_freigeben = True    # sollen alte Ergebnisse gelöscht werden\n",
    "\n",
    "# Load\n",
    "verzeichnis_load                 = 'data_00'\n",
    "wiktionary_filename              = verzeichnis_load + '/wiktionary'               + version + '.pickle'  \n",
    "wiktionary_trash_filename        = verzeichnis_load + '/wiktionary_trash'         + version + '.pickle'\n",
    "\n",
    "# Save\n",
    "verzeichnis_save                 = 'data_00'\n",
    "wiktionary_merkmal_filename      = verzeichnis_save + '/wiktionary_merkmal'      + version + '.pickle'  \n",
    "wiktionary_merkmal_text_filename = verzeichnis_save + '/wiktionary_merkmal_text' + version + '.pickle'  \n",
    "\n",
    "# Was debuggen?\n",
    "suche_debug = ['entlassen','missraten']"
   ]
  },
  {
   "cell_type": "markdown",
   "metadata": {
    "id": "p1lM3YLgn5Ou"
   },
   "source": [
    "## Vorbereiten"
   ]
  },
  {
   "cell_type": "code",
   "execution_count": 4,
   "metadata": {
    "colab": {
     "base_uri": "https://localhost:8080/"
    },
    "execution": {
     "iopub.execute_input": "2023-02-16T09:05:38.056103Z",
     "iopub.status.busy": "2023-02-16T09:05:38.055952Z",
     "iopub.status.idle": "2023-02-16T09:05:38.078070Z",
     "shell.execute_reply": "2023-02-16T09:05:38.077520Z",
     "shell.execute_reply.started": "2023-02-16T09:05:38.056087Z"
    },
    "executionInfo": {
     "elapsed": 13,
     "status": "ok",
     "timestamp": 1676476829076,
     "user": {
      "displayName": "Hups Hopsalla",
      "userId": "10020718461385065661"
     },
     "user_tz": -60
    },
    "id": "Oy4Rb6WZn5Ow",
    "outputId": "6b94d1aa-3ffa-4388-d3f4-53b785e09406"
   },
   "outputs": [
    {
     "name": "stdout",
     "output_type": "stream",
     "text": [
      "time: 19.5 ms\n"
     ]
    }
   ],
   "source": [
    "# Verzeichnisse erzeugen\n",
    "os.makedirs(verzeichnis_load, exist_ok=True) \n",
    "os.makedirs(verzeichnis_save, exist_ok=True) "
   ]
  },
  {
   "cell_type": "code",
   "execution_count": 5,
   "metadata": {
    "execution": {
     "iopub.execute_input": "2023-02-16T09:05:38.078800Z",
     "iopub.status.busy": "2023-02-16T09:05:38.078630Z",
     "iopub.status.idle": "2023-02-16T09:05:38.101315Z",
     "shell.execute_reply": "2023-02-16T09:05:38.100793Z",
     "shell.execute_reply.started": "2023-02-16T09:05:38.078782Z"
    }
   },
   "outputs": [
    {
     "name": "stdout",
     "output_type": "stream",
     "text": [
      "time: 18.8 ms\n"
     ]
    }
   ],
   "source": [
    "# download additional source files\n",
    "import os\n",
    "if not os.path.exists('Steuertabellen'):\n",
    "   !git clone https://github.com/djekra/wiktionary_wortschatz.git\n",
    "   !cp -r wiktionary_wortschatz/1_wiktionary_parsen/Steuertabellen Steuertabellen\n",
    "   !cp -r wiktionary_wortschatz/1_wiktionary_parsen/*.py .\n",
    "#   !rm -r wiktionary_wortschatz"
   ]
  },
  {
   "cell_type": "code",
   "execution_count": 6,
   "metadata": {
    "colab": {
     "base_uri": "https://localhost:8080/"
    },
    "execution": {
     "iopub.execute_input": "2023-02-16T09:05:38.102031Z",
     "iopub.status.busy": "2023-02-16T09:05:38.101875Z",
     "iopub.status.idle": "2023-02-16T09:05:38.123937Z",
     "shell.execute_reply": "2023-02-16T09:05:38.123428Z",
     "shell.execute_reply.started": "2023-02-16T09:05:38.102008Z"
    },
    "executionInfo": {
     "elapsed": 7425,
     "status": "ok",
     "timestamp": 1676479015113,
     "user": {
      "displayName": "Hups Hopsalla",
      "userId": "10020718461385065661"
     },
     "user_tz": -60
    },
    "id": "dbiDceKXyUx7",
    "outputId": "beb0cf2a-bc86-47c4-81e6-b11c7354957c"
   },
   "outputs": [
    {
     "name": "stdout",
     "output_type": "stream",
     "text": [
      "time: 18.6 ms\n"
     ]
    }
   ],
   "source": [
    "# Lade Verzeichnis data_00 von Google Drive\n",
    "# Dieses Verzeichnis wurde in der vorherigen Verarbeitungsstufe angelegt (Notebook x10_d00_wiktionary_de_parser)\n",
    "if environment['in_colab']:\n",
    "    from google.colab import drive\n",
    "    drive.mount('/content/drive') \n",
    "    !cd /content\n",
    "    !cp -av /content/drive/MyDrive/{verzeichnis_load} ."
   ]
  },
  {
   "cell_type": "code",
   "execution_count": 7,
   "metadata": {
    "execution": {
     "iopub.execute_input": "2023-02-16T09:05:38.125657Z",
     "iopub.status.busy": "2023-02-16T09:05:38.125492Z",
     "iopub.status.idle": "2023-02-16T09:05:38.201491Z",
     "shell.execute_reply": "2023-02-16T09:05:38.200493Z",
     "shell.execute_reply.started": "2023-02-16T09:05:38.125641Z"
    }
   },
   "outputs": [
    {
     "name": "stdout",
     "output_type": "stream",
     "text": [
      "time: 72.4 ms\n"
     ]
    }
   ],
   "source": [
    "# Steuertabellen\n",
    "from Steuertabellen.s01_Steuertabellen   import *\n",
    "\n",
    "# mwparserfromhell eigene Ergänzungen \n",
    "from x24_process_wikicode import *\n",
    "from x22_my_node          import *"
   ]
  },
  {
   "cell_type": "code",
   "execution_count": 8,
   "metadata": {
    "execution": {
     "iopub.execute_input": "2023-02-16T09:05:38.202821Z",
     "iopub.status.busy": "2023-02-16T09:05:38.202522Z",
     "iopub.status.idle": "2023-02-16T09:05:38.240825Z",
     "shell.execute_reply": "2023-02-16T09:05:38.240284Z",
     "shell.execute_reply.started": "2023-02-16T09:05:38.202790Z"
    },
    "tags": []
   },
   "outputs": [
    {
     "name": "stdout",
     "output_type": "stream",
     "text": [
      "INFO: Pandarallel will run on 4 workers.\n",
      "INFO: Pandarallel will use Memory file system to transfer data between the main process and workers.\n",
      "time: 34 ms\n"
     ]
    }
   ],
   "source": [
    "from pandarallel import pandarallel\n",
    "nb_workers = os.cpu_count()\n",
    "if nb_workers > 2:\n",
    "    nb_workers = int((nb_workers / 2) - 2)\n",
    "pandarallel.initialize(use_memory_fs=True, nb_workers=nb_workers, progress_bar=True)  "
   ]
  },
  {
   "cell_type": "code",
   "execution_count": 9,
   "metadata": {
    "execution": {
     "iopub.execute_input": "2023-02-16T09:05:38.241625Z",
     "iopub.status.busy": "2023-02-16T09:05:38.241434Z",
     "iopub.status.idle": "2023-02-16T09:05:38.264248Z",
     "shell.execute_reply": "2023-02-16T09:05:38.263741Z",
     "shell.execute_reply.started": "2023-02-16T09:05:38.241598Z"
    }
   },
   "outputs": [
    {
     "name": "stdout",
     "output_type": "stream",
     "text": [
      "time: 20.1 ms\n"
     ]
    }
   ],
   "source": [
    "# Visualisiert einen Wikicode\n",
    "def see(wikicode):\n",
    "    return wikicode._get_tree(wikicode,list(),True,0)    "
   ]
  },
  {
   "cell_type": "markdown",
   "metadata": {},
   "source": [
    "## Laden"
   ]
  },
  {
   "cell_type": "code",
   "execution_count": 10,
   "metadata": {
    "execution": {
     "iopub.execute_input": "2023-02-16T09:05:38.264921Z",
     "iopub.status.busy": "2023-02-16T09:05:38.264778Z",
     "iopub.status.idle": "2023-02-16T09:05:57.488145Z",
     "shell.execute_reply": "2023-02-16T09:05:57.487532Z",
     "shell.execute_reply.started": "2023-02-16T09:05:38.264906Z"
    }
   },
   "outputs": [
    {
     "name": "stdout",
     "output_type": "stream",
     "text": [
      "time: 19.2 s\n"
     ]
    }
   ],
   "source": [
    "# Laden\n",
    "wiktionary       = pak.load_pickle(wiktionary_filename)\n",
    "wiktionary_trash = pak.load_pickle(wiktionary_trash_filename)"
   ]
  },
  {
   "cell_type": "code",
   "execution_count": 11,
   "metadata": {
    "execution": {
     "iopub.execute_input": "2023-02-16T09:05:57.489144Z",
     "iopub.status.busy": "2023-02-16T09:05:57.488917Z",
     "iopub.status.idle": "2023-02-16T09:05:57.522011Z",
     "shell.execute_reply": "2023-02-16T09:05:57.521429Z",
     "shell.execute_reply.started": "2023-02-16T09:05:57.489120Z"
    }
   },
   "outputs": [
    {
     "name": "stdout",
     "output_type": "stream",
     "text": [
      "Einträge: 837593\n",
      "time: 30 ms\n"
     ]
    }
   ],
   "source": [
    "print('Einträge:', wiktionary.shape[0])"
   ]
  },
  {
   "cell_type": "code",
   "execution_count": 12,
   "metadata": {
    "execution": {
     "iopub.execute_input": "2023-02-16T09:05:57.523134Z",
     "iopub.status.busy": "2023-02-16T09:05:57.522878Z",
     "iopub.status.idle": "2023-02-16T09:05:57.699574Z",
     "shell.execute_reply": "2023-02-16T09:05:57.699010Z",
     "shell.execute_reply.started": "2023-02-16T09:05:57.523109Z"
    }
   },
   "outputs": [
    {
     "name": "stdout",
     "output_type": "stream",
     "text": [
      "2 rows\n"
     ]
    },
    {
     "data": {
      "text/html": [
       "\n",
       "        <iframe\n",
       "            width=\"100%\"\n",
       "            height=\"475\"\n",
       "            src=\"http://pop-os:40000/dtale/iframe/1\"\n",
       "            frameborder=\"0\"\n",
       "            allowfullscreen\n",
       "            \n",
       "        ></iframe>\n",
       "        "
      ],
      "text/plain": [
       "<IPython.lib.display.IFrame at 0x7f10e4111940>"
      ]
     },
     "metadata": {},
     "output_type": "display_data"
    },
    {
     "data": {
      "text/plain": []
     },
     "execution_count": 12,
     "metadata": {},
     "output_type": "execute_result"
    },
    {
     "name": "stdout",
     "output_type": "stream",
     "text": [
      "time: 174 ms\n"
     ]
    }
   ],
   "source": [
    "# wiktionary anschauen\n",
    "mask = wiktionary.title.isin(suche_debug) \n",
    "r = wiktionary[mask].sort_values(['title','section_id2'])\n",
    "grid(r)"
   ]
  },
  {
   "cell_type": "code",
   "execution_count": 13,
   "metadata": {
    "execution": {
     "iopub.execute_input": "2023-02-16T09:05:57.700856Z",
     "iopub.status.busy": "2023-02-16T09:05:57.700346Z",
     "iopub.status.idle": "2023-02-16T09:06:07.251940Z",
     "shell.execute_reply": "2023-02-16T09:06:07.251430Z",
     "shell.execute_reply.started": "2023-02-16T09:05:57.700832Z"
    }
   },
   "outputs": [
    {
     "data": {
      "text/html": [
       "<div>\n",
       "<style scoped>\n",
       "    .dataframe tbody tr th:only-of-type {\n",
       "        vertical-align: middle;\n",
       "    }\n",
       "\n",
       "    .dataframe tbody tr th {\n",
       "        vertical-align: top;\n",
       "    }\n",
       "\n",
       "    .dataframe thead th {\n",
       "        text-align: right;\n",
       "    }\n",
       "</style>\n",
       "<table border=\"1\" class=\"dataframe\">\n",
       "  <thead>\n",
       "    <tr style=\"text-align: right;\">\n",
       "      <th></th>\n",
       "      <th>col_name</th>\n",
       "      <th>datatype_instance</th>\n",
       "      <th>datatype</th>\n",
       "      <th>datatype_short</th>\n",
       "      <th>datatype_suggest</th>\n",
       "      <th>is_numeric</th>\n",
       "      <th>is_string</th>\n",
       "      <th>is_hashable</th>\n",
       "      <th>nan_allowed</th>\n",
       "      <th>mem_usage</th>\n",
       "      <th>ntypes</th>\n",
       "      <th>nunique</th>\n",
       "      <th>nnan</th>\n",
       "      <th>ndups</th>\n",
       "      <th>n</th>\n",
       "      <th>vmin</th>\n",
       "      <th>vmean</th>\n",
       "      <th>vmedian</th>\n",
       "      <th>vmax</th>\n",
       "      <th>vsum</th>\n",
       "    </tr>\n",
       "  </thead>\n",
       "  <tbody>\n",
       "    <tr>\n",
       "      <th>0</th>\n",
       "      <td>__index__</td>\n",
       "      <td>int64</td>\n",
       "      <td>np.int64</td>\n",
       "      <td>int64</td>\n",
       "      <td>np.int32</td>\n",
       "      <td>True</td>\n",
       "      <td>False</td>\n",
       "      <td>True</td>\n",
       "      <td>False</td>\n",
       "      <td>80.0 B</td>\n",
       "      <td>1</td>\n",
       "      <td>837593</td>\n",
       "      <td>0</td>\n",
       "      <td>0</td>\n",
       "      <td>837593</td>\n",
       "      <td>0.0</td>\n",
       "      <td>418796.00</td>\n",
       "      <td>418796.0</td>\n",
       "      <td>837592.0</td>\n",
       "      <td>3.507806e+11</td>\n",
       "    </tr>\n",
       "    <tr>\n",
       "      <th>1</th>\n",
       "      <td>section_id</td>\n",
       "      <td>int32</td>\n",
       "      <td>pd.Int32</td>\n",
       "      <td>Int32</td>\n",
       "      <td></td>\n",
       "      <td>True</td>\n",
       "      <td>False</td>\n",
       "      <td>True</td>\n",
       "      <td>True</td>\n",
       "      <td>50.0 B</td>\n",
       "      <td>1</td>\n",
       "      <td>837593</td>\n",
       "      <td>0</td>\n",
       "      <td>0</td>\n",
       "      <td>837593</td>\n",
       "      <td>0.0</td>\n",
       "      <td>62209823.28</td>\n",
       "      <td>62312700.0</td>\n",
       "      <td>111831800.0</td>\n",
       "      <td>5.210651e+13</td>\n",
       "    </tr>\n",
       "    <tr>\n",
       "      <th>2</th>\n",
       "      <td>page_id</td>\n",
       "      <td>int32</td>\n",
       "      <td>pd.Int32</td>\n",
       "      <td>Int32</td>\n",
       "      <td></td>\n",
       "      <td>True</td>\n",
       "      <td>False</td>\n",
       "      <td>True</td>\n",
       "      <td>True</td>\n",
       "      <td>50.0 B</td>\n",
       "      <td>1</td>\n",
       "      <td>802086</td>\n",
       "      <td>0</td>\n",
       "      <td>35507</td>\n",
       "      <td>837593</td>\n",
       "      <td>0.0</td>\n",
       "      <td>622098.23</td>\n",
       "      <td>623127.0</td>\n",
       "      <td>1118318.0</td>\n",
       "      <td>5.210651e+11</td>\n",
       "    </tr>\n",
       "    <tr>\n",
       "      <th>3</th>\n",
       "      <td>page_part</td>\n",
       "      <td>int8</td>\n",
       "      <td>pd.Int8</td>\n",
       "      <td>Int8</td>\n",
       "      <td></td>\n",
       "      <td>True</td>\n",
       "      <td>False</td>\n",
       "      <td>True</td>\n",
       "      <td>True</td>\n",
       "      <td>20.0 B</td>\n",
       "      <td>1</td>\n",
       "      <td>7</td>\n",
       "      <td>0</td>\n",
       "      <td>837586</td>\n",
       "      <td>837593</td>\n",
       "      <td>0.0</td>\n",
       "      <td>0.04</td>\n",
       "      <td>0.0</td>\n",
       "      <td>6.0</td>\n",
       "      <td>3.748300e+04</td>\n",
       "    </tr>\n",
       "    <tr>\n",
       "      <th>4</th>\n",
       "      <td>section_id2</td>\n",
       "      <td>str</td>\n",
       "      <td>pd.string</td>\n",
       "      <td>string</td>\n",
       "      <td></td>\n",
       "      <td>False</td>\n",
       "      <td>True</td>\n",
       "      <td>True</td>\n",
       "      <td>True</td>\n",
       "      <td>778.0 B</td>\n",
       "      <td>1</td>\n",
       "      <td>837593</td>\n",
       "      <td>0</td>\n",
       "      <td>0</td>\n",
       "      <td>837593</td>\n",
       "      <td>&amp;c.</td>\n",
       "      <td>NaN</td>\n",
       "      <td>NaN</td>\n",
       "      <td>μm</td>\n",
       "      <td>NaN</td>\n",
       "    </tr>\n",
       "    <tr>\n",
       "      <th>5</th>\n",
       "      <td>title</td>\n",
       "      <td>str</td>\n",
       "      <td>pd.string</td>\n",
       "      <td>string</td>\n",
       "      <td></td>\n",
       "      <td>False</td>\n",
       "      <td>True</td>\n",
       "      <td>True</td>\n",
       "      <td>True</td>\n",
       "      <td>778.0 B</td>\n",
       "      <td>1</td>\n",
       "      <td>802084</td>\n",
       "      <td>0</td>\n",
       "      <td>35509</td>\n",
       "      <td>837593</td>\n",
       "      <td>&amp;c.</td>\n",
       "      <td>NaN</td>\n",
       "      <td>NaN</td>\n",
       "      <td>μm</td>\n",
       "      <td>NaN</td>\n",
       "    </tr>\n",
       "    <tr>\n",
       "      <th>6</th>\n",
       "      <td>lemma</td>\n",
       "      <td>str</td>\n",
       "      <td>pd.string</td>\n",
       "      <td>string</td>\n",
       "      <td></td>\n",
       "      <td>False</td>\n",
       "      <td>True</td>\n",
       "      <td>True</td>\n",
       "      <td>True</td>\n",
       "      <td>770.0 B</td>\n",
       "      <td>1</td>\n",
       "      <td>159601</td>\n",
       "      <td>0</td>\n",
       "      <td>677992</td>\n",
       "      <td>837593</td>\n",
       "      <td>&amp;c.</td>\n",
       "      <td>NaN</td>\n",
       "      <td>NaN</td>\n",
       "      <td>μm</td>\n",
       "      <td>NaN</td>\n",
       "    </tr>\n",
       "    <tr>\n",
       "      <th>7</th>\n",
       "      <td>inflected</td>\n",
       "      <td>bool_</td>\n",
       "      <td>bool</td>\n",
       "      <td>bool</td>\n",
       "      <td></td>\n",
       "      <td>True</td>\n",
       "      <td>False</td>\n",
       "      <td>True</td>\n",
       "      <td>True</td>\n",
       "      <td>10.0 B</td>\n",
       "      <td>1</td>\n",
       "      <td>2</td>\n",
       "      <td>0</td>\n",
       "      <td>837591</td>\n",
       "      <td>837593</td>\n",
       "      <td>0.0</td>\n",
       "      <td>0.83</td>\n",
       "      <td>NaN</td>\n",
       "      <td>1.0</td>\n",
       "      <td>6.969110e+05</td>\n",
       "    </tr>\n",
       "    <tr>\n",
       "      <th>8</th>\n",
       "      <td>rhymes</td>\n",
       "      <td>list</td>\n",
       "      <td>object</td>\n",
       "      <td>object</td>\n",
       "      <td></td>\n",
       "      <td>False</td>\n",
       "      <td>True</td>\n",
       "      <td>False</td>\n",
       "      <td>True</td>\n",
       "      <td>512.0 B</td>\n",
       "      <td>1</td>\n",
       "      <td>39529</td>\n",
       "      <td>527175</td>\n",
       "      <td>270889</td>\n",
       "      <td>837593</td>\n",
       "      <td>[a]</td>\n",
       "      <td>NaN</td>\n",
       "      <td>NaN</td>\n",
       "      <td>[ʏʃəs, yːʃəs]</td>\n",
       "      <td>NaN</td>\n",
       "    </tr>\n",
       "    <tr>\n",
       "      <th>9</th>\n",
       "      <td>pos</td>\n",
       "      <td>dict</td>\n",
       "      <td>object</td>\n",
       "      <td>object</td>\n",
       "      <td></td>\n",
       "      <td>False</td>\n",
       "      <td>True</td>\n",
       "      <td>False</td>\n",
       "      <td>True</td>\n",
       "      <td>2.2 KB</td>\n",
       "      <td>1</td>\n",
       "      <td>163</td>\n",
       "      <td>0</td>\n",
       "      <td>837430</td>\n",
       "      <td>837593</td>\n",
       "      <td>NaN</td>\n",
       "      <td>NaN</td>\n",
       "      <td>NaN</td>\n",
       "      <td>NaN</td>\n",
       "      <td>NaN</td>\n",
       "    </tr>\n",
       "    <tr>\n",
       "      <th>10</th>\n",
       "      <td>section_len</td>\n",
       "      <td>int32</td>\n",
       "      <td>pd.Int32</td>\n",
       "      <td>Int32</td>\n",
       "      <td></td>\n",
       "      <td>True</td>\n",
       "      <td>False</td>\n",
       "      <td>True</td>\n",
       "      <td>True</td>\n",
       "      <td>50.0 B</td>\n",
       "      <td>1</td>\n",
       "      <td>8765</td>\n",
       "      <td>0</td>\n",
       "      <td>828828</td>\n",
       "      <td>837593</td>\n",
       "      <td>84.0</td>\n",
       "      <td>900.58</td>\n",
       "      <td>569.0</td>\n",
       "      <td>86973.0</td>\n",
       "      <td>7.543228e+08</td>\n",
       "    </tr>\n",
       "    <tr>\n",
       "      <th>11</th>\n",
       "      <td>flexion</td>\n",
       "      <td>dict</td>\n",
       "      <td>object</td>\n",
       "      <td>object</td>\n",
       "      <td></td>\n",
       "      <td>False</td>\n",
       "      <td>True</td>\n",
       "      <td>False</td>\n",
       "      <td>True</td>\n",
       "      <td>2.1 KB</td>\n",
       "      <td>1</td>\n",
       "      <td>123594</td>\n",
       "      <td>713384</td>\n",
       "      <td>615</td>\n",
       "      <td>837593</td>\n",
       "      <td>NaN</td>\n",
       "      <td>NaN</td>\n",
       "      <td>NaN</td>\n",
       "      <td>NaN</td>\n",
       "      <td>NaN</td>\n",
       "    </tr>\n",
       "    <tr>\n",
       "      <th>12</th>\n",
       "      <td>ipa</td>\n",
       "      <td>list</td>\n",
       "      <td>object</td>\n",
       "      <td>object</td>\n",
       "      <td></td>\n",
       "      <td>False</td>\n",
       "      <td>True</td>\n",
       "      <td>False</td>\n",
       "      <td>True</td>\n",
       "      <td>688.0 B</td>\n",
       "      <td>1</td>\n",
       "      <td>774610</td>\n",
       "      <td>14004</td>\n",
       "      <td>48979</td>\n",
       "      <td>837593</td>\n",
       "      <td>[-a]</td>\n",
       "      <td>NaN</td>\n",
       "      <td>NaN</td>\n",
       "      <td>[ại̯nĕˈβ̞ɛɐfɐ]</td>\n",
       "      <td>NaN</td>\n",
       "    </tr>\n",
       "    <tr>\n",
       "      <th>13</th>\n",
       "      <td>syllables</td>\n",
       "      <td>list</td>\n",
       "      <td>object</td>\n",
       "      <td>object</td>\n",
       "      <td></td>\n",
       "      <td>False</td>\n",
       "      <td>True</td>\n",
       "      <td>False</td>\n",
       "      <td>True</td>\n",
       "      <td>1.1 KB</td>\n",
       "      <td>1</td>\n",
       "      <td>796328</td>\n",
       "      <td>4949</td>\n",
       "      <td>36316</td>\n",
       "      <td>837593</td>\n",
       "      <td>[02, Li, ter, Fla, sche]</td>\n",
       "      <td>NaN</td>\n",
       "      <td>NaN</td>\n",
       "      <td>[’s, Her, to, gen, boschs]</td>\n",
       "      <td>NaN</td>\n",
       "    </tr>\n",
       "    <tr>\n",
       "      <th>14</th>\n",
       "      <td>lang</td>\n",
       "      <td>str</td>\n",
       "      <td>pd.string</td>\n",
       "      <td>string</td>\n",
       "      <td></td>\n",
       "      <td>False</td>\n",
       "      <td>True</td>\n",
       "      <td>True</td>\n",
       "      <td>True</td>\n",
       "      <td>640.0 B</td>\n",
       "      <td>1</td>\n",
       "      <td>1</td>\n",
       "      <td>0</td>\n",
       "      <td>837592</td>\n",
       "      <td>837593</td>\n",
       "      <td>Deutsch</td>\n",
       "      <td>NaN</td>\n",
       "      <td>NaN</td>\n",
       "      <td>Deutsch</td>\n",
       "      <td>NaN</td>\n",
       "    </tr>\n",
       "    <tr>\n",
       "      <th>15</th>\n",
       "      <td>lang_code</td>\n",
       "      <td>str</td>\n",
       "      <td>pd.string</td>\n",
       "      <td>string</td>\n",
       "      <td></td>\n",
       "      <td>False</td>\n",
       "      <td>True</td>\n",
       "      <td>True</td>\n",
       "      <td>True</td>\n",
       "      <td>590.0 B</td>\n",
       "      <td>1</td>\n",
       "      <td>1</td>\n",
       "      <td>0</td>\n",
       "      <td>837592</td>\n",
       "      <td>837593</td>\n",
       "      <td>de</td>\n",
       "      <td>NaN</td>\n",
       "      <td>NaN</td>\n",
       "      <td>de</td>\n",
       "      <td>NaN</td>\n",
       "    </tr>\n",
       "    <tr>\n",
       "      <th>16</th>\n",
       "      <td>wikitext</td>\n",
       "      <td>str</td>\n",
       "      <td>pd.string</td>\n",
       "      <td>string</td>\n",
       "      <td></td>\n",
       "      <td>False</td>\n",
       "      <td>True</td>\n",
       "      <td>True</td>\n",
       "      <td>True</td>\n",
       "      <td>25.0 KB</td>\n",
       "      <td>1</td>\n",
       "      <td>837593</td>\n",
       "      <td>0</td>\n",
       "      <td>0</td>\n",
       "      <td>837593</td>\n",
       "      <td>=== {{Wortart|Abkürzung|Deutsch}} ===\\n\\n:[[Bi...</td>\n",
       "      <td>NaN</td>\n",
       "      <td>NaN</td>\n",
       "      <td>=== {{Wortart|Zirkumfix|Deutsch}} ===\\n\\n{{Wor...</td>\n",
       "      <td>NaN</td>\n",
       "    </tr>\n",
       "    <tr>\n",
       "      <th>17</th>\n",
       "      <td>error</td>\n",
       "      <td>str</td>\n",
       "      <td>pd.string</td>\n",
       "      <td>string</td>\n",
       "      <td></td>\n",
       "      <td>False</td>\n",
       "      <td>True</td>\n",
       "      <td>True</td>\n",
       "      <td>True</td>\n",
       "      <td>570.0 B</td>\n",
       "      <td>1</td>\n",
       "      <td>1</td>\n",
       "      <td>0</td>\n",
       "      <td>837592</td>\n",
       "      <td>837593</td>\n",
       "      <td></td>\n",
       "      <td>NaN</td>\n",
       "      <td>NaN</td>\n",
       "      <td></td>\n",
       "      <td>NaN</td>\n",
       "    </tr>\n",
       "  </tbody>\n",
       "</table>\n",
       "</div>"
      ],
      "text/plain": [
       "       col_name datatype_instance   datatype datatype_short datatype_suggest  \\\n",
       "0     __index__             int64   np.int64          int64         np.int32   \n",
       "1    section_id             int32   pd.Int32          Int32                    \n",
       "2       page_id             int32   pd.Int32          Int32                    \n",
       "3     page_part              int8    pd.Int8           Int8                    \n",
       "4   section_id2               str  pd.string         string                    \n",
       "5         title               str  pd.string         string                    \n",
       "6         lemma               str  pd.string         string                    \n",
       "7     inflected             bool_       bool           bool                    \n",
       "8        rhymes              list     object         object                    \n",
       "9           pos              dict     object         object                    \n",
       "10  section_len             int32   pd.Int32          Int32                    \n",
       "11      flexion              dict     object         object                    \n",
       "12          ipa              list     object         object                    \n",
       "13    syllables              list     object         object                    \n",
       "14         lang               str  pd.string         string                    \n",
       "15    lang_code               str  pd.string         string                    \n",
       "16     wikitext               str  pd.string         string                    \n",
       "17        error               str  pd.string         string                    \n",
       "\n",
       "    is_numeric  is_string  is_hashable  nan_allowed mem_usage  ntypes  \\\n",
       "0         True      False         True        False    80.0 B       1   \n",
       "1         True      False         True         True    50.0 B       1   \n",
       "2         True      False         True         True    50.0 B       1   \n",
       "3         True      False         True         True    20.0 B       1   \n",
       "4        False       True         True         True   778.0 B       1   \n",
       "5        False       True         True         True   778.0 B       1   \n",
       "6        False       True         True         True   770.0 B       1   \n",
       "7         True      False         True         True    10.0 B       1   \n",
       "8        False       True        False         True   512.0 B       1   \n",
       "9        False       True        False         True    2.2 KB       1   \n",
       "10        True      False         True         True    50.0 B       1   \n",
       "11       False       True        False         True    2.1 KB       1   \n",
       "12       False       True        False         True   688.0 B       1   \n",
       "13       False       True        False         True    1.1 KB       1   \n",
       "14       False       True         True         True   640.0 B       1   \n",
       "15       False       True         True         True   590.0 B       1   \n",
       "16       False       True         True         True   25.0 KB       1   \n",
       "17       False       True         True         True   570.0 B       1   \n",
       "\n",
       "    nunique    nnan   ndups       n  \\\n",
       "0    837593       0       0  837593   \n",
       "1    837593       0       0  837593   \n",
       "2    802086       0   35507  837593   \n",
       "3         7       0  837586  837593   \n",
       "4    837593       0       0  837593   \n",
       "5    802084       0   35509  837593   \n",
       "6    159601       0  677992  837593   \n",
       "7         2       0  837591  837593   \n",
       "8     39529  527175  270889  837593   \n",
       "9       163       0  837430  837593   \n",
       "10     8765       0  828828  837593   \n",
       "11   123594  713384     615  837593   \n",
       "12   774610   14004   48979  837593   \n",
       "13   796328    4949   36316  837593   \n",
       "14        1       0  837592  837593   \n",
       "15        1       0  837592  837593   \n",
       "16   837593       0       0  837593   \n",
       "17        1       0  837592  837593   \n",
       "\n",
       "                                                 vmin        vmean  \\\n",
       "0                                                 0.0    418796.00   \n",
       "1                                                 0.0  62209823.28   \n",
       "2                                                 0.0    622098.23   \n",
       "3                                                 0.0         0.04   \n",
       "4                                                 &c.          NaN   \n",
       "5                                                 &c.          NaN   \n",
       "6                                                 &c.          NaN   \n",
       "7                                                 0.0         0.83   \n",
       "8                                                 [a]          NaN   \n",
       "9                                                 NaN          NaN   \n",
       "10                                               84.0       900.58   \n",
       "11                                                NaN          NaN   \n",
       "12                                               [-a]          NaN   \n",
       "13                           [02, Li, ter, Fla, sche]          NaN   \n",
       "14                                            Deutsch          NaN   \n",
       "15                                                 de          NaN   \n",
       "16  === {{Wortart|Abkürzung|Deutsch}} ===\\n\\n:[[Bi...          NaN   \n",
       "17                                                             NaN   \n",
       "\n",
       "       vmedian                                               vmax  \\\n",
       "0     418796.0                                           837592.0   \n",
       "1   62312700.0                                        111831800.0   \n",
       "2     623127.0                                          1118318.0   \n",
       "3          0.0                                                6.0   \n",
       "4          NaN                                                 μm   \n",
       "5          NaN                                                 μm   \n",
       "6          NaN                                                 μm   \n",
       "7          NaN                                                1.0   \n",
       "8          NaN                                      [ʏʃəs, yːʃəs]   \n",
       "9          NaN                                                NaN   \n",
       "10       569.0                                            86973.0   \n",
       "11         NaN                                                NaN   \n",
       "12         NaN                                     [ại̯nĕˈβ̞ɛɐfɐ]   \n",
       "13         NaN                         [’s, Her, to, gen, boschs]   \n",
       "14         NaN                                            Deutsch   \n",
       "15         NaN                                                 de   \n",
       "16         NaN  === {{Wortart|Zirkumfix|Deutsch}} ===\\n\\n{{Wor...   \n",
       "17         NaN                                                      \n",
       "\n",
       "            vsum  \n",
       "0   3.507806e+11  \n",
       "1   5.210651e+13  \n",
       "2   5.210651e+11  \n",
       "3   3.748300e+04  \n",
       "4            NaN  \n",
       "5            NaN  \n",
       "6            NaN  \n",
       "7   6.969110e+05  \n",
       "8            NaN  \n",
       "9            NaN  \n",
       "10  7.543228e+08  \n",
       "11           NaN  \n",
       "12           NaN  \n",
       "13           NaN  \n",
       "14           NaN  \n",
       "15           NaN  \n",
       "16           NaN  \n",
       "17           NaN  "
      ]
     },
     "execution_count": 13,
     "metadata": {},
     "output_type": "execute_result"
    },
    {
     "name": "stdout",
     "output_type": "stream",
     "text": [
      "time: 9.55 s\n"
     ]
    }
   ],
   "source": [
    "pak.analyse_cols(wiktionary)"
   ]
  },
  {
   "cell_type": "code",
   "execution_count": 14,
   "metadata": {
    "execution": {
     "iopub.execute_input": "2023-02-16T09:06:07.252690Z",
     "iopub.status.busy": "2023-02-16T09:06:07.252538Z",
     "iopub.status.idle": "2023-02-16T09:06:07.948423Z",
     "shell.execute_reply": "2023-02-16T09:06:07.947919Z",
     "shell.execute_reply.started": "2023-02-16T09:06:07.252675Z"
    }
   },
   "outputs": [
    {
     "data": {
      "text/html": [
       "<div>\n",
       "<style scoped>\n",
       "    .dataframe tbody tr th:only-of-type {\n",
       "        vertical-align: middle;\n",
       "    }\n",
       "\n",
       "    .dataframe tbody tr th {\n",
       "        vertical-align: top;\n",
       "    }\n",
       "\n",
       "    .dataframe thead th {\n",
       "        text-align: right;\n",
       "    }\n",
       "</style>\n",
       "<table border=\"1\" class=\"dataframe\">\n",
       "  <thead>\n",
       "    <tr style=\"text-align: right;\">\n",
       "      <th></th>\n",
       "      <th>name</th>\n",
       "      <th>rtype</th>\n",
       "      <th>size</th>\n",
       "    </tr>\n",
       "  </thead>\n",
       "  <tbody>\n",
       "    <tr>\n",
       "      <th>0</th>\n",
       "      <td>wiktionary</td>\n",
       "      <td>(DataFrame, Series)</td>\n",
       "      <td>3.0 GB</td>\n",
       "    </tr>\n",
       "    <tr>\n",
       "      <th>1</th>\n",
       "      <td>wiktionary_trash</td>\n",
       "      <td>(DataFrame, Series)</td>\n",
       "      <td>16.1 MB</td>\n",
       "    </tr>\n",
       "    <tr>\n",
       "      <th>2</th>\n",
       "      <td>mask</td>\n",
       "      <td>(Series, bool)</td>\n",
       "      <td>818.1 KB</td>\n",
       "    </tr>\n",
       "    <tr>\n",
       "      <th>3</th>\n",
       "      <td>translate_tag</td>\n",
       "      <td>(DataFrame, Series)</td>\n",
       "      <td>37.1 KB</td>\n",
       "    </tr>\n",
       "    <tr>\n",
       "      <th>4</th>\n",
       "      <td>translate_tagZ</td>\n",
       "      <td>(DataFrame, Series)</td>\n",
       "      <td>20.9 KB</td>\n",
       "    </tr>\n",
       "    <tr>\n",
       "      <th>5</th>\n",
       "      <td>r</td>\n",
       "      <td>(DataFrame, Series)</td>\n",
       "      <td>20.7 KB</td>\n",
       "    </tr>\n",
       "    <tr>\n",
       "      <th>6</th>\n",
       "      <td>_</td>\n",
       "      <td>(DataFrame, Series)</td>\n",
       "      <td>16.3 KB</td>\n",
       "    </tr>\n",
       "    <tr>\n",
       "      <th>7</th>\n",
       "      <td>_13</td>\n",
       "      <td>(DataFrame, Series)</td>\n",
       "      <td>16.3 KB</td>\n",
       "    </tr>\n",
       "    <tr>\n",
       "      <th>8</th>\n",
       "      <td>_i3</td>\n",
       "      <td>(str,)</td>\n",
       "      <td>1.4 KB</td>\n",
       "    </tr>\n",
       "    <tr>\n",
       "      <th>9</th>\n",
       "      <td>Stop</td>\n",
       "      <td>(type,)</td>\n",
       "      <td>1.0 KB</td>\n",
       "    </tr>\n",
       "  </tbody>\n",
       "</table>\n",
       "</div>"
      ],
      "text/plain": [
       "               name                rtype      size\n",
       "0        wiktionary  (DataFrame, Series)    3.0 GB\n",
       "1  wiktionary_trash  (DataFrame, Series)   16.1 MB\n",
       "2              mask       (Series, bool)  818.1 KB\n",
       "3     translate_tag  (DataFrame, Series)   37.1 KB\n",
       "4    translate_tagZ  (DataFrame, Series)   20.9 KB\n",
       "5                 r  (DataFrame, Series)   20.7 KB\n",
       "6                 _  (DataFrame, Series)   16.3 KB\n",
       "7               _13  (DataFrame, Series)   16.3 KB\n",
       "8               _i3               (str,)    1.4 KB\n",
       "9              Stop              (type,)    1.0 KB"
      ]
     },
     "execution_count": 14,
     "metadata": {},
     "output_type": "execute_result"
    },
    {
     "name": "stdout",
     "output_type": "stream",
     "text": [
      "time: 694 ms\n"
     ]
    }
   ],
   "source": [
    "pak.memory_consumption(locals())"
   ]
  },
  {
   "cell_type": "markdown",
   "metadata": {},
   "source": [
    "## Steuertabelle plan_merkmal"
   ]
  },
  {
   "cell_type": "code",
   "execution_count": 15,
   "metadata": {
    "execution": {
     "iopub.execute_input": "2023-02-16T09:06:07.949164Z",
     "iopub.status.busy": "2023-02-16T09:06:07.948972Z",
     "iopub.status.idle": "2023-02-16T09:06:07.972422Z",
     "shell.execute_reply": "2023-02-16T09:06:07.971893Z",
     "shell.execute_reply.started": "2023-02-16T09:06:07.949148Z"
    }
   },
   "outputs": [
    {
     "name": "stdout",
     "output_type": "stream",
     "text": [
      "<class 'IPython.core.display.Markdown'>\n"
     ]
    },
    {
     "data": {
      "text/markdown": [
       "<span style=\"font-size:larger;\">plan_merkmal_erstellen():</span>\n",
       "\n",
       "* definiert in Steuertabellen/s01_Steuertabellen.py\n",
       "* `merkmal`: Name des Merkmals\n",
       "* `template`: Name des Mediawiki-Templates, das diese Information enthält\n",
       "* `collect`: Extractionsmethode\n",
       "   * L extrahiert nur Links \n",
       "   * T extrahiert komplette Text-Absätze\n",
       "   * Ü extrahiert Übersetzungen\n",
       "   * P extrahiert Template-Parameter (Substring reicht)\n",
       "   * E checkt nur auf Existenz\n",
       "* `plan`:\n",
       "   * 1: die Merkmale, die in wiktionary_merkmal gespeichert werden\n",
       "   * 2: die Merkmale, die in wiktionary_merkmal_text gespeichert werden   \n",
       "   * 3: Reihenfolge und Liste aller Merkmale aus flexion / übersicht <br>\n",
       "        sowie die Merkmale aus named_entities und lexeme_manuell\n",
       "* `sort`: Irgendwas zum Sortieren der Merkmale\n",
       "* `is_lex`: Ist das Merkmal ein Lexem?    "
      ],
      "text/plain": [
       "<IPython.core.display.Markdown object>"
      ]
     },
     "metadata": {},
     "output_type": "display_data"
    },
    {
     "name": "stdout",
     "output_type": "stream",
     "text": [
      "time: 20.8 ms\n"
     ]
    }
   ],
   "source": [
    "blab.help(plan_merkmal_erstellen)"
   ]
  },
  {
   "cell_type": "code",
   "execution_count": 16,
   "metadata": {
    "execution": {
     "iopub.execute_input": "2023-02-16T09:06:07.973381Z",
     "iopub.status.busy": "2023-02-16T09:06:07.973161Z",
     "iopub.status.idle": "2023-02-16T09:06:08.030910Z",
     "shell.execute_reply": "2023-02-16T09:06:08.030396Z",
     "shell.execute_reply.started": "2023-02-16T09:06:07.973359Z"
    }
   },
   "outputs": [
    {
     "name": "stdout",
     "output_type": "stream",
     "text": [
      "103 rows\n"
     ]
    },
    {
     "data": {
      "text/html": [
       "\n",
       "        <iframe\n",
       "            width=\"100%\"\n",
       "            height=\"475\"\n",
       "            src=\"http://pop-os:40000/dtale/iframe/2\"\n",
       "            frameborder=\"0\"\n",
       "            allowfullscreen\n",
       "            \n",
       "        ></iframe>\n",
       "        "
      ],
      "text/plain": [
       "<IPython.lib.display.IFrame at 0x7f0fe5267a00>"
      ]
     },
     "metadata": {},
     "output_type": "display_data"
    },
    {
     "data": {
      "text/plain": []
     },
     "execution_count": 16,
     "metadata": {},
     "output_type": "execute_result"
    },
    {
     "name": "stdout",
     "output_type": "stream",
     "text": [
      "time: 55.2 ms\n"
     ]
    }
   ],
   "source": [
    "plan_merkmal = plan_merkmal_erstellen()\n",
    "grid(plan_merkmal)"
   ]
  },
  {
   "cell_type": "markdown",
   "metadata": {},
   "source": [
    "## ausprobieren"
   ]
  },
  {
   "cell_type": "code",
   "execution_count": 17,
   "metadata": {
    "execution": {
     "iopub.execute_input": "2023-02-16T09:06:08.031634Z",
     "iopub.status.busy": "2023-02-16T09:06:08.031475Z",
     "iopub.status.idle": "2023-02-16T09:06:08.191299Z",
     "shell.execute_reply": "2023-02-16T09:06:08.190742Z",
     "shell.execute_reply.started": "2023-02-16T09:06:08.031618Z"
    }
   },
   "outputs": [
    {
     "name": "stdout",
     "output_type": "stream",
     "text": [
      "time: 157 ms\n"
     ]
    }
   ],
   "source": [
    "# Eine Testzeile aus wiktionary (als Series)\n",
    "mask = (wiktionary.section_id2 == 'Haus')\n",
    "testzeile = wiktionary[mask].iloc[0]\n",
    "wikicode = mwparserfromhell.parse(testzeile.wikitext)\n",
    "\n",
    "# testzeile \n",
    "# testzeile.wikitext\n",
    "# wikicode"
   ]
  },
  {
   "cell_type": "code",
   "execution_count": 18,
   "metadata": {
    "execution": {
     "iopub.execute_input": "2023-02-16T09:06:08.192074Z",
     "iopub.status.busy": "2023-02-16T09:06:08.191890Z",
     "iopub.status.idle": "2023-02-16T09:06:08.215684Z",
     "shell.execute_reply": "2023-02-16T09:06:08.215172Z",
     "shell.execute_reply.started": "2023-02-16T09:06:08.192058Z"
    }
   },
   "outputs": [
    {
     "name": "stdout",
     "output_type": "stream",
     "text": [
      "No rows\n",
      "time: 20.8 ms\n"
     ]
    }
   ],
   "source": [
    "# extract_parameters ausprobieren (funktioniert z.B. mit 'kein')\n",
    "r = extract_parameters(testzeile, 'Pronomina-Tabelle', 'übersicht', wikicode=wikicode )\n",
    "grid(r, color=None)"
   ]
  },
  {
   "cell_type": "code",
   "execution_count": 19,
   "metadata": {
    "execution": {
     "iopub.execute_input": "2023-02-16T09:06:08.216372Z",
     "iopub.status.busy": "2023-02-16T09:06:08.216227Z",
     "iopub.status.idle": "2023-02-16T09:06:08.256846Z",
     "shell.execute_reply": "2023-02-16T09:06:08.256266Z",
     "shell.execute_reply.started": "2023-02-16T09:06:08.216358Z"
    }
   },
   "outputs": [
    {
     "data": {
      "text/html": [
       "<div>\n",
       "<style scoped>\n",
       "    .dataframe tbody tr th:only-of-type {\n",
       "        vertical-align: middle;\n",
       "    }\n",
       "\n",
       "    .dataframe tbody tr th {\n",
       "        vertical-align: top;\n",
       "    }\n",
       "\n",
       "    .dataframe thead th {\n",
       "        text-align: right;\n",
       "    }\n",
       "</style>\n",
       "<table border=\"1\" class=\"dataframe\">\n",
       "  <thead>\n",
       "    <tr style=\"text-align: right;\">\n",
       "      <th></th>\n",
       "      <th>col_name</th>\n",
       "      <th>datatype_instance</th>\n",
       "      <th>datatype</th>\n",
       "      <th>datatype_short</th>\n",
       "      <th>datatype_suggest</th>\n",
       "      <th>is_numeric</th>\n",
       "      <th>is_string</th>\n",
       "      <th>is_hashable</th>\n",
       "      <th>nan_allowed</th>\n",
       "      <th>mem_usage</th>\n",
       "      <th>ntypes</th>\n",
       "      <th>nunique</th>\n",
       "      <th>nnan</th>\n",
       "      <th>ndups</th>\n",
       "      <th>n</th>\n",
       "      <th>vmin</th>\n",
       "      <th>vmean</th>\n",
       "      <th>vmedian</th>\n",
       "      <th>vmax</th>\n",
       "      <th>vsum</th>\n",
       "    </tr>\n",
       "  </thead>\n",
       "  <tbody>\n",
       "    <tr>\n",
       "      <th>0</th>\n",
       "      <td>__index__</td>\n",
       "      <td></td>\n",
       "      <td>object</td>\n",
       "      <td>object</td>\n",
       "      <td></td>\n",
       "      <td>False</td>\n",
       "      <td>True</td>\n",
       "      <td>True</td>\n",
       "      <td>True</td>\n",
       "      <td>0.0 B</td>\n",
       "      <td>0</td>\n",
       "      <td>0</td>\n",
       "      <td>0</td>\n",
       "      <td>0</td>\n",
       "      <td>0</td>\n",
       "      <td>NaN</td>\n",
       "      <td>NaN</td>\n",
       "      <td>NaN</td>\n",
       "      <td>NaN</td>\n",
       "      <td>NaN</td>\n",
       "    </tr>\n",
       "  </tbody>\n",
       "</table>\n",
       "</div>"
      ],
      "text/plain": [
       "    col_name datatype_instance datatype datatype_short datatype_suggest  \\\n",
       "0  __index__                     object         object                    \n",
       "\n",
       "   is_numeric  is_string  is_hashable  nan_allowed mem_usage  ntypes  nunique  \\\n",
       "0       False       True         True         True     0.0 B       0        0   \n",
       "\n",
       "   nnan  ndups  n  vmin  vmean  vmedian  vmax  vsum  \n",
       "0     0      0  0   NaN    NaN      NaN   NaN   NaN  "
      ]
     },
     "execution_count": 19,
     "metadata": {},
     "output_type": "execute_result"
    },
    {
     "name": "stdout",
     "output_type": "stream",
     "text": [
      "time: 38.1 ms\n"
     ]
    }
   ],
   "source": [
    "#r.node_debug = r.node_debug.astype('str')\n",
    "pak.analyse_cols(r)"
   ]
  },
  {
   "cell_type": "code",
   "execution_count": 20,
   "metadata": {
    "execution": {
     "iopub.execute_input": "2023-02-16T09:06:08.257644Z",
     "iopub.status.busy": "2023-02-16T09:06:08.257494Z",
     "iopub.status.idle": "2023-02-16T09:06:08.326811Z",
     "shell.execute_reply": "2023-02-16T09:06:08.326260Z",
     "shell.execute_reply.started": "2023-02-16T09:06:08.257628Z"
    }
   },
   "outputs": [
    {
     "name": "stdout",
     "output_type": "stream",
     "text": [
      "412 rows\n"
     ]
    },
    {
     "data": {
      "text/html": [
       "\n",
       "        <iframe\n",
       "            width=\"100%\"\n",
       "            height=\"475\"\n",
       "            src=\"http://pop-os:40000/dtale/iframe/3\"\n",
       "            frameborder=\"0\"\n",
       "            allowfullscreen\n",
       "            \n",
       "        ></iframe>\n",
       "        "
      ],
      "text/plain": [
       "<IPython.lib.display.IFrame at 0x7f0fc8423fd0>"
      ]
     },
     "metadata": {},
     "output_type": "display_data"
    },
    {
     "data": {
      "text/plain": []
     },
     "execution_count": 20,
     "metadata": {},
     "output_type": "execute_result"
    },
    {
     "name": "stdout",
     "output_type": "stream",
     "text": [
      "time: 66.7 ms\n"
     ]
    }
   ],
   "source": [
    "# extract ausprobieren\n",
    "df = extract(testzeile, 'Unterbegriffe', 'down', wikicode=wikicode)\n",
    "grid(df)"
   ]
  },
  {
   "cell_type": "code",
   "execution_count": 21,
   "metadata": {
    "execution": {
     "iopub.execute_input": "2023-02-16T09:06:08.327670Z",
     "iopub.status.busy": "2023-02-16T09:06:08.327442Z",
     "iopub.status.idle": "2023-02-16T09:06:08.475916Z",
     "shell.execute_reply": "2023-02-16T09:06:08.475424Z",
     "shell.execute_reply.started": "2023-02-16T09:06:08.327648Z"
    }
   },
   "outputs": [
    {
     "data": {
      "text/html": [
       "<div>\n",
       "<style scoped>\n",
       "    .dataframe tbody tr th:only-of-type {\n",
       "        vertical-align: middle;\n",
       "    }\n",
       "\n",
       "    .dataframe tbody tr th {\n",
       "        vertical-align: top;\n",
       "    }\n",
       "\n",
       "    .dataframe thead th {\n",
       "        text-align: right;\n",
       "    }\n",
       "</style>\n",
       "<table border=\"1\" class=\"dataframe\">\n",
       "  <thead>\n",
       "    <tr style=\"text-align: right;\">\n",
       "      <th></th>\n",
       "      <th>node_num</th>\n",
       "      <th>node_meta</th>\n",
       "      <th>node_link</th>\n",
       "      <th>node_text</th>\n",
       "      <th>node_kontext</th>\n",
       "      <th>node_debug</th>\n",
       "      <th>section_id</th>\n",
       "      <th>section_id2</th>\n",
       "      <th>merkmal</th>\n",
       "    </tr>\n",
       "  </thead>\n",
       "  <tbody>\n",
       "    <tr>\n",
       "      <th>0</th>\n",
       "      <td>[1]</td>\n",
       "      <td></td>\n",
       "      <td></td>\n",
       "      <td>zu einem bestimmten Zweck erbautes  Gebäude</td>\n",
       "      <td></td>\n",
       "      <td></td>\n",
       "      <td>21700</td>\n",
       "      <td>Haus</td>\n",
       "      <td>def</td>\n",
       "    </tr>\n",
       "    <tr>\n",
       "      <th>1</th>\n",
       "      <td>[2]</td>\n",
       "      <td></td>\n",
       "      <td></td>\n",
       "      <td>zum Wohnen dienendes und genutztes  Gebäude</td>\n",
       "      <td></td>\n",
       "      <td></td>\n",
       "      <td>21700</td>\n",
       "      <td>Haus</td>\n",
       "      <td>def</td>\n",
       "    </tr>\n",
       "    <tr>\n",
       "      <th>2</th>\n",
       "      <td>[3]</td>\n",
       "      <td></td>\n",
       "      <td></td>\n",
       "      <td>aus mehreren Räumen bestehender, abgetrennter ...</td>\n",
       "      <td></td>\n",
       "      <td></td>\n",
       "      <td>21700</td>\n",
       "      <td>Haus</td>\n",
       "      <td>def</td>\n",
       "    </tr>\n",
       "    <tr>\n",
       "      <th>3</th>\n",
       "      <td>[4]</td>\n",
       "      <td>umgangssprachlich</td>\n",
       "      <td></td>\n",
       "      <td>umgangssprachlich  Gesamtheit der Bewohner in ...</td>\n",
       "      <td></td>\n",
       "      <td></td>\n",
       "      <td>21700</td>\n",
       "      <td>Haus</td>\n",
       "      <td>def</td>\n",
       "    </tr>\n",
       "    <tr>\n",
       "      <th>4</th>\n",
       "      <td>[5]</td>\n",
       "      <td></td>\n",
       "      <td></td>\n",
       "      <td>Gesamtheit der Personen, die sich in einem bes...</td>\n",
       "      <td></td>\n",
       "      <td></td>\n",
       "      <td>21700</td>\n",
       "      <td>Haus</td>\n",
       "      <td>def</td>\n",
       "    </tr>\n",
       "    <tr>\n",
       "      <th>...</th>\n",
       "      <td>...</td>\n",
       "      <td>...</td>\n",
       "      <td>...</td>\n",
       "      <td>...</td>\n",
       "      <td>...</td>\n",
       "      <td>...</td>\n",
       "      <td>...</td>\n",
       "      <td>...</td>\n",
       "      <td>...</td>\n",
       "    </tr>\n",
       "    <tr>\n",
       "      <th>5</th>\n",
       "      <td>[2, 3]</td>\n",
       "      <td></td>\n",
       "      <td></td>\n",
       "      <td>mein Haus ist meine Burg</td>\n",
       "      <td></td>\n",
       "      <td></td>\n",
       "      <td>21700</td>\n",
       "      <td>Haus</td>\n",
       "      <td>bsp_sp</td>\n",
       "    </tr>\n",
       "    <tr>\n",
       "      <th>6</th>\n",
       "      <td>[2, 3, 7, 9]</td>\n",
       "      <td></td>\n",
       "      <td></td>\n",
       "      <td>ein Haus kann nicht zwei Hunde nähren</td>\n",
       "      <td></td>\n",
       "      <td></td>\n",
       "      <td>21700</td>\n",
       "      <td>Haus</td>\n",
       "      <td>bsp_sp</td>\n",
       "    </tr>\n",
       "    <tr>\n",
       "      <th>7</th>\n",
       "      <td>[3]</td>\n",
       "      <td></td>\n",
       "      <td></td>\n",
       "      <td>lässt du einen ins Haus kommen, er kommt dir b...</td>\n",
       "      <td></td>\n",
       "      <td></td>\n",
       "      <td>21700</td>\n",
       "      <td>Haus</td>\n",
       "      <td>bsp_sp</td>\n",
       "    </tr>\n",
       "    <tr>\n",
       "      <th>8</th>\n",
       "      <td>[3]</td>\n",
       "      <td></td>\n",
       "      <td></td>\n",
       "      <td>Nord, Ost, Süd, West, zu Haus ist’s am best</td>\n",
       "      <td></td>\n",
       "      <td></td>\n",
       "      <td>21700</td>\n",
       "      <td>Haus</td>\n",
       "      <td>bsp_sp</td>\n",
       "    </tr>\n",
       "    <tr>\n",
       "      <th>9</th>\n",
       "      <td>[3]</td>\n",
       "      <td></td>\n",
       "      <td></td>\n",
       "      <td>was du hast in deinem Haus, das plaudre nicht ...</td>\n",
       "      <td></td>\n",
       "      <td></td>\n",
       "      <td>21700</td>\n",
       "      <td>Haus</td>\n",
       "      <td>bsp_sp</td>\n",
       "    </tr>\n",
       "  </tbody>\n",
       "</table>\n",
       "<p>144 rows × 9 columns</p>\n",
       "</div>"
      ],
      "text/plain": [
       "        node_num          node_meta node_link  \\\n",
       "0            [1]                                \n",
       "1            [2]                                \n",
       "2            [3]                                \n",
       "3            [4]  umgangssprachlich             \n",
       "4            [5]                                \n",
       "..           ...                ...       ...   \n",
       "5         [2, 3]                                \n",
       "6   [2, 3, 7, 9]                                \n",
       "7            [3]                                \n",
       "8            [3]                                \n",
       "9            [3]                                \n",
       "\n",
       "                                            node_text node_kontext node_debug  \\\n",
       "0         zu einem bestimmten Zweck erbautes  Gebäude                           \n",
       "1         zum Wohnen dienendes und genutztes  Gebäude                           \n",
       "2   aus mehreren Räumen bestehender, abgetrennter ...                           \n",
       "3   umgangssprachlich  Gesamtheit der Bewohner in ...                           \n",
       "4   Gesamtheit der Personen, die sich in einem bes...                           \n",
       "..                                                ...          ...        ...   \n",
       "5                            mein Haus ist meine Burg                           \n",
       "6               ein Haus kann nicht zwei Hunde nähren                           \n",
       "7   lässt du einen ins Haus kommen, er kommt dir b...                           \n",
       "8         Nord, Ost, Süd, West, zu Haus ist’s am best                           \n",
       "9   was du hast in deinem Haus, das plaudre nicht ...                           \n",
       "\n",
       "    section_id section_id2 merkmal  \n",
       "0        21700        Haus     def  \n",
       "1        21700        Haus     def  \n",
       "2        21700        Haus     def  \n",
       "3        21700        Haus     def  \n",
       "4        21700        Haus     def  \n",
       "..         ...         ...     ...  \n",
       "5        21700        Haus  bsp_sp  \n",
       "6        21700        Haus  bsp_sp  \n",
       "7        21700        Haus  bsp_sp  \n",
       "8        21700        Haus  bsp_sp  \n",
       "9        21700        Haus  bsp_sp  \n",
       "\n",
       "[144 rows x 9 columns]"
      ]
     },
     "execution_count": 21,
     "metadata": {},
     "output_type": "execute_result"
    },
    {
     "name": "stdout",
     "output_type": "stream",
     "text": [
      "time: 146 ms\n"
     ]
    }
   ],
   "source": [
    "# extract_all ausprobieren\n",
    "mask = plan_merkmal.plan == 2\n",
    "plan = plan_merkmal[mask]\n",
    "df = extract_all(testzeile, plan) \n",
    "df"
   ]
  },
  {
   "cell_type": "markdown",
   "metadata": {},
   "source": [
    "## wiktionary_merkmal_text"
   ]
  },
  {
   "cell_type": "code",
   "execution_count": 22,
   "metadata": {
    "execution": {
     "iopub.execute_input": "2023-02-16T09:06:08.478877Z",
     "iopub.status.busy": "2023-02-16T09:06:08.478644Z",
     "iopub.status.idle": "2023-02-16T09:06:08.504198Z",
     "shell.execute_reply": "2023-02-16T09:06:08.503811Z",
     "shell.execute_reply.started": "2023-02-16T09:06:08.478859Z"
    }
   },
   "outputs": [
    {
     "data": {
      "text/html": [
       "<div>\n",
       "<style scoped>\n",
       "    .dataframe tbody tr th:only-of-type {\n",
       "        vertical-align: middle;\n",
       "    }\n",
       "\n",
       "    .dataframe tbody tr th {\n",
       "        vertical-align: top;\n",
       "    }\n",
       "\n",
       "    .dataframe thead th {\n",
       "        text-align: right;\n",
       "    }\n",
       "</style>\n",
       "<table border=\"1\" class=\"dataframe\">\n",
       "  <thead>\n",
       "    <tr style=\"text-align: right;\">\n",
       "      <th></th>\n",
       "      <th>merkmal</th>\n",
       "      <th>template</th>\n",
       "      <th>collect</th>\n",
       "      <th>plan</th>\n",
       "      <th>sort</th>\n",
       "      <th>is_lex</th>\n",
       "    </tr>\n",
       "  </thead>\n",
       "  <tbody>\n",
       "    <tr>\n",
       "      <th>38</th>\n",
       "      <td>def</td>\n",
       "      <td>Bedeutungen</td>\n",
       "      <td>T</td>\n",
       "      <td>2</td>\n",
       "      <td></td>\n",
       "      <td>False</td>\n",
       "    </tr>\n",
       "    <tr>\n",
       "      <th>39</th>\n",
       "      <td>herkunft</td>\n",
       "      <td>Herkunft</td>\n",
       "      <td>T</td>\n",
       "      <td>2</td>\n",
       "      <td></td>\n",
       "      <td>False</td>\n",
       "    </tr>\n",
       "    <tr>\n",
       "      <th>40</th>\n",
       "      <td>bsp</td>\n",
       "      <td>Beispiele</td>\n",
       "      <td>T</td>\n",
       "      <td>2</td>\n",
       "      <td></td>\n",
       "      <td>False</td>\n",
       "    </tr>\n",
       "    <tr>\n",
       "      <th>41</th>\n",
       "      <td>bsp_re</td>\n",
       "      <td>Redewendungen</td>\n",
       "      <td>T</td>\n",
       "      <td>2</td>\n",
       "      <td></td>\n",
       "      <td>False</td>\n",
       "    </tr>\n",
       "    <tr>\n",
       "      <th>42</th>\n",
       "      <td>bsp_gw</td>\n",
       "      <td>Geflügelte Worte</td>\n",
       "      <td>T</td>\n",
       "      <td>2</td>\n",
       "      <td></td>\n",
       "      <td>False</td>\n",
       "    </tr>\n",
       "    <tr>\n",
       "      <th>43</th>\n",
       "      <td>bsp_sp</td>\n",
       "      <td>Sprichwörter</td>\n",
       "      <td>T</td>\n",
       "      <td>2</td>\n",
       "      <td></td>\n",
       "      <td>False</td>\n",
       "    </tr>\n",
       "  </tbody>\n",
       "</table>\n",
       "</div>"
      ],
      "text/plain": [
       "     merkmal          template collect  plan sort  is_lex\n",
       "38       def       Bedeutungen       T     2        False\n",
       "39  herkunft          Herkunft       T     2        False\n",
       "40       bsp         Beispiele       T     2        False\n",
       "41    bsp_re     Redewendungen       T     2        False\n",
       "42    bsp_gw  Geflügelte Worte       T     2        False\n",
       "43    bsp_sp      Sprichwörter       T     2        False"
      ]
     },
     "execution_count": 22,
     "metadata": {},
     "output_type": "execute_result"
    },
    {
     "name": "stdout",
     "output_type": "stream",
     "text": [
      "time: 23.3 ms\n"
     ]
    }
   ],
   "source": [
    "# plan\n",
    "mask = plan_merkmal.plan == 2\n",
    "plan = plan_merkmal[mask]\n",
    "plan"
   ]
  },
  {
   "cell_type": "code",
   "execution_count": 23,
   "metadata": {
    "execution": {
     "iopub.execute_input": "2023-02-16T09:06:08.504860Z",
     "iopub.status.busy": "2023-02-16T09:06:08.504700Z",
     "iopub.status.idle": "2023-02-16T09:45:29.230272Z",
     "shell.execute_reply": "2023-02-16T09:45:29.229209Z",
     "shell.execute_reply.started": "2023-02-16T09:06:08.504844Z"
    }
   },
   "outputs": [
    {
     "data": {
      "application/vnd.jupyter.widget-view+json": {
       "model_id": "ecd1e2893a064cbe8de283aa7d9d990b",
       "version_major": 2,
       "version_minor": 0
      },
      "text/plain": [
       "VBox(children=(HBox(children=(IntProgress(value=0, description='0.00%', max=209399), Label(value='0 / 209399')…"
      ]
     },
     "metadata": {},
     "output_type": "display_data"
    },
    {
     "name": "stdout",
     "output_type": "stream",
     "text": [
      "time: 39min 20s\n"
     ]
    }
   ],
   "source": [
    "# all: 40 min (4 parallel) \n",
    "# 100K: 3 min\n",
    "# apply erzeugt eine Series von DataFrames\n",
    "# tolist macht daraus eine Liste\n",
    "# und concat macht aus der Liste von DataFrames ein Gesamt-DataFrame\n",
    "wiktionary_merkmal_text = pd.concat(  wiktionary.parallel_apply(extract_all, plan=plan, axis=1).tolist()  )"
   ]
  },
  {
   "cell_type": "code",
   "execution_count": 24,
   "metadata": {
    "execution": {
     "iopub.execute_input": "2023-02-16T09:45:29.246250Z",
     "iopub.status.busy": "2023-02-16T09:45:29.245970Z",
     "iopub.status.idle": "2023-02-16T09:45:30.200654Z",
     "shell.execute_reply": "2023-02-16T09:45:30.199939Z",
     "shell.execute_reply.started": "2023-02-16T09:45:29.246233Z"
    }
   },
   "outputs": [
    {
     "name": "stdout",
     "output_type": "stream",
     "text": [
      "time: 908 ms\n"
     ]
    }
   ],
   "source": [
    "# nachbearbeiten\n",
    "wiktionary_merkmal_text = pak.reset_index( wiktionary_merkmal_text )\n",
    "wiktionary_merkmal_text = pak.move_cols(   wiktionary_merkmal_text, ['section_id','section_id2','merkmal'])\n",
    "wiktionary_merkmal_text = pak.drop_cols(   wiktionary_merkmal_text, ['node_link','node_kontext','node_debug'])\n",
    "wiktionary_merkmal_text = pak.rename_col(  wiktionary_merkmal_text, 'node_num',  'num')\n",
    "wiktionary_merkmal_text = pak.rename_col(  wiktionary_merkmal_text, 'node_meta', 'meta')\n",
    "wiktionary_merkmal_text = pak.rename_col(  wiktionary_merkmal_text, 'node_text', 'data')    "
   ]
  },
  {
   "cell_type": "markdown",
   "metadata": {},
   "source": [
    "## Kontrolle: wiktionary_merkmal_text"
   ]
  },
  {
   "cell_type": "code",
   "execution_count": 25,
   "metadata": {
    "execution": {
     "iopub.execute_input": "2023-02-16T09:45:30.201533Z",
     "iopub.status.busy": "2023-02-16T09:45:30.201367Z",
     "iopub.status.idle": "2023-02-16T09:45:30.386489Z",
     "shell.execute_reply": "2023-02-16T09:45:30.385968Z",
     "shell.execute_reply.started": "2023-02-16T09:45:30.201517Z"
    }
   },
   "outputs": [
    {
     "data": {
      "text/html": [
       "<div>\n",
       "<style scoped>\n",
       "    .dataframe tbody tr th:only-of-type {\n",
       "        vertical-align: middle;\n",
       "    }\n",
       "\n",
       "    .dataframe tbody tr th {\n",
       "        vertical-align: top;\n",
       "    }\n",
       "\n",
       "    .dataframe thead th {\n",
       "        text-align: right;\n",
       "    }\n",
       "</style>\n",
       "<table border=\"1\" class=\"dataframe\">\n",
       "  <thead>\n",
       "    <tr style=\"text-align: right;\">\n",
       "      <th></th>\n",
       "      <th>merkmal</th>\n",
       "      <th>merkmal_count</th>\n",
       "      <th>merkmal_percent</th>\n",
       "      <th>graph</th>\n",
       "    </tr>\n",
       "  </thead>\n",
       "  <tbody>\n",
       "    <tr>\n",
       "      <th>0</th>\n",
       "      <td>bsp</td>\n",
       "      <td>355995</td>\n",
       "      <td>54.4</td>\n",
       "      <td>###########################</td>\n",
       "    </tr>\n",
       "    <tr>\n",
       "      <th>1</th>\n",
       "      <td>def</td>\n",
       "      <td>188700</td>\n",
       "      <td>28.8</td>\n",
       "      <td>##############</td>\n",
       "    </tr>\n",
       "    <tr>\n",
       "      <th>2</th>\n",
       "      <td>herkunft</td>\n",
       "      <td>103107</td>\n",
       "      <td>15.7</td>\n",
       "      <td>#######</td>\n",
       "    </tr>\n",
       "    <tr>\n",
       "      <th>3</th>\n",
       "      <td>bsp_re</td>\n",
       "      <td>6131</td>\n",
       "      <td>0.9</td>\n",
       "      <td></td>\n",
       "    </tr>\n",
       "    <tr>\n",
       "      <th>4</th>\n",
       "      <td>bsp_sp</td>\n",
       "      <td>640</td>\n",
       "      <td>0.1</td>\n",
       "      <td></td>\n",
       "    </tr>\n",
       "    <tr>\n",
       "      <th>5</th>\n",
       "      <td>bsp_gw</td>\n",
       "      <td>104</td>\n",
       "      <td>0.0</td>\n",
       "      <td></td>\n",
       "    </tr>\n",
       "  </tbody>\n",
       "</table>\n",
       "</div>"
      ],
      "text/plain": [
       "    merkmal  merkmal_count  merkmal_percent                        graph\n",
       "0       bsp         355995             54.4  ###########################\n",
       "1       def         188700             28.8               ##############\n",
       "2  herkunft         103107             15.7                      #######\n",
       "3    bsp_re           6131              0.9                             \n",
       "4    bsp_sp            640              0.1                             \n",
       "5    bsp_gw            104              0.0                             "
      ]
     },
     "execution_count": 25,
     "metadata": {},
     "output_type": "execute_result"
    },
    {
     "name": "stdout",
     "output_type": "stream",
     "text": [
      "time: 183 ms\n"
     ]
    }
   ],
   "source": [
    "# Merkmale Häufigkeit\n",
    "v = pak.analyse_freqs(wiktionary_merkmal_text, 'merkmal') \n",
    "v"
   ]
  },
  {
   "cell_type": "code",
   "execution_count": 26,
   "metadata": {
    "execution": {
     "iopub.execute_input": "2023-02-16T09:45:30.387317Z",
     "iopub.status.busy": "2023-02-16T09:45:30.387128Z",
     "iopub.status.idle": "2023-02-16T09:45:30.413389Z",
     "shell.execute_reply": "2023-02-16T09:45:30.412822Z",
     "shell.execute_reply.started": "2023-02-16T09:45:30.387286Z"
    }
   },
   "outputs": [
    {
     "name": "stdout",
     "output_type": "stream",
     "text": [
      "set()\n",
      "time: 20.9 ms\n"
     ]
    }
   ],
   "source": [
    "# plan erfüllt?\n",
    "geplant = set(plan.merkmal)\n",
    "done    = set(v.merkmal)\n",
    "nicht_erfüllt = geplant - done\n",
    "print(nicht_erfüllt)\n",
    "assert len(nicht_erfüllt) == 0"
   ]
  },
  {
   "cell_type": "code",
   "execution_count": 27,
   "metadata": {
    "execution": {
     "iopub.execute_input": "2023-02-16T09:45:30.414632Z",
     "iopub.status.busy": "2023-02-16T09:45:30.414458Z",
     "iopub.status.idle": "2023-02-16T09:45:30.612751Z",
     "shell.execute_reply": "2023-02-16T09:45:30.612125Z",
     "shell.execute_reply.started": "2023-02-16T09:45:30.414616Z"
    }
   },
   "outputs": [
    {
     "data": {
      "text/html": [
       "<div>\n",
       "<style scoped>\n",
       "    .dataframe tbody tr th:only-of-type {\n",
       "        vertical-align: middle;\n",
       "    }\n",
       "\n",
       "    .dataframe tbody tr th {\n",
       "        vertical-align: top;\n",
       "    }\n",
       "\n",
       "    .dataframe thead th {\n",
       "        text-align: right;\n",
       "    }\n",
       "</style>\n",
       "<table border=\"1\" class=\"dataframe\">\n",
       "  <thead>\n",
       "    <tr style=\"text-align: right;\">\n",
       "      <th></th>\n",
       "      <th>section_id</th>\n",
       "      <th>section_id2</th>\n",
       "      <th>merkmal</th>\n",
       "      <th>num</th>\n",
       "      <th>meta</th>\n",
       "      <th>data</th>\n",
       "    </tr>\n",
       "  </thead>\n",
       "  <tbody>\n",
       "    <tr>\n",
       "      <th>83526</th>\n",
       "      <td>2270300</td>\n",
       "      <td>entlassen</td>\n",
       "      <td>def</td>\n",
       "      <td>[1]</td>\n",
       "      <td>transitiv</td>\n",
       "      <td>transitiv  jemandem erlauben zu gehen</td>\n",
       "    </tr>\n",
       "    <tr>\n",
       "      <th>83527</th>\n",
       "      <td>2270300</td>\n",
       "      <td>entlassen</td>\n",
       "      <td>def</td>\n",
       "      <td>[2]</td>\n",
       "      <td>transitiv</td>\n",
       "      <td>transitiv  jemandem die Arbeitsstelle kündigen</td>\n",
       "    </tr>\n",
       "    <tr>\n",
       "      <th>83528</th>\n",
       "      <td>2270300</td>\n",
       "      <td>entlassen</td>\n",
       "      <td>herkunft</td>\n",
       "      <td>[]</td>\n",
       "      <td>etymologisch</td>\n",
       "      <td>etymologisch  von  mittelhochdeutsch   entlāʒe...</td>\n",
       "    </tr>\n",
       "    <tr>\n",
       "      <th>83529</th>\n",
       "      <td>2270300</td>\n",
       "      <td>entlassen</td>\n",
       "      <td>bsp</td>\n",
       "      <td>[1]</td>\n",
       "      <td>entlassen</td>\n",
       "      <td>Die Schüler wurden für heute entlassen.</td>\n",
       "    </tr>\n",
       "    <tr>\n",
       "      <th>83530</th>\n",
       "      <td>2270300</td>\n",
       "      <td>entlassen</td>\n",
       "      <td>bsp</td>\n",
       "      <td>[1]</td>\n",
       "      <td>entlassen</td>\n",
       "      <td>Er wurde aus dem Gefängnis entlassen.</td>\n",
       "    </tr>\n",
       "    <tr>\n",
       "      <th>83531</th>\n",
       "      <td>2270300</td>\n",
       "      <td>entlassen</td>\n",
       "      <td>bsp</td>\n",
       "      <td>[1]</td>\n",
       "      <td>entlassen</td>\n",
       "      <td>„Als er nach rund drei Monaten [Anmerkung: aus...</td>\n",
       "    </tr>\n",
       "    <tr>\n",
       "      <th>83532</th>\n",
       "      <td>2270300</td>\n",
       "      <td>entlassen</td>\n",
       "      <td>bsp</td>\n",
       "      <td>[2]</td>\n",
       "      <td>entlassen</td>\n",
       "      <td>Sie wurde von der Firma entlassen.</td>\n",
       "    </tr>\n",
       "    <tr>\n",
       "      <th>83533</th>\n",
       "      <td>2270300</td>\n",
       "      <td>entlassen</td>\n",
       "      <td>bsp</td>\n",
       "      <td>[2]</td>\n",
       "      <td>entlassen</td>\n",
       "      <td>„Der St. Gallener Polizeikommandant Paul Grüni...</td>\n",
       "    </tr>\n",
       "    <tr>\n",
       "      <th>300519</th>\n",
       "      <td>24283800</td>\n",
       "      <td>missraten</td>\n",
       "      <td>def</td>\n",
       "      <td>[1]</td>\n",
       "      <td></td>\n",
       "      <td>nicht  gelingen</td>\n",
       "    </tr>\n",
       "    <tr>\n",
       "      <th>300520</th>\n",
       "      <td>24283800</td>\n",
       "      <td>missraten</td>\n",
       "      <td>bsp</td>\n",
       "      <td>[1]</td>\n",
       "      <td>missraten</td>\n",
       "      <td>Dieser Kuchen ist vollkommen missraten.</td>\n",
       "    </tr>\n",
       "  </tbody>\n",
       "</table>\n",
       "</div>"
      ],
      "text/plain": [
       "        section_id section_id2   merkmal  num          meta  \\\n",
       "83526      2270300   entlassen       def  [1]     transitiv   \n",
       "83527      2270300   entlassen       def  [2]     transitiv   \n",
       "83528      2270300   entlassen  herkunft   []  etymologisch   \n",
       "83529      2270300   entlassen       bsp  [1]     entlassen   \n",
       "83530      2270300   entlassen       bsp  [1]     entlassen   \n",
       "83531      2270300   entlassen       bsp  [1]     entlassen   \n",
       "83532      2270300   entlassen       bsp  [2]     entlassen   \n",
       "83533      2270300   entlassen       bsp  [2]     entlassen   \n",
       "300519    24283800   missraten       def  [1]                 \n",
       "300520    24283800   missraten       bsp  [1]     missraten   \n",
       "\n",
       "                                                     data  \n",
       "83526               transitiv  jemandem erlauben zu gehen  \n",
       "83527      transitiv  jemandem die Arbeitsstelle kündigen  \n",
       "83528   etymologisch  von  mittelhochdeutsch   entlāʒe...  \n",
       "83529             Die Schüler wurden für heute entlassen.  \n",
       "83530               Er wurde aus dem Gefängnis entlassen.  \n",
       "83531   „Als er nach rund drei Monaten [Anmerkung: aus...  \n",
       "83532                  Sie wurde von der Firma entlassen.  \n",
       "83533   „Der St. Gallener Polizeikommandant Paul Grüni...  \n",
       "300519                                    nicht  gelingen  \n",
       "300520            Dieser Kuchen ist vollkommen missraten.  "
      ]
     },
     "execution_count": 27,
     "metadata": {},
     "output_type": "execute_result"
    },
    {
     "name": "stdout",
     "output_type": "stream",
     "text": [
      "time: 195 ms\n"
     ]
    }
   ],
   "source": [
    "# Sichtkontrolle\n",
    "mask = wiktionary.section_id2.isin(suche_debug)\n",
    "suche_section_ids = wiktionary[mask].section_id.tolist()\n",
    "mask = wiktionary_merkmal_text.section_id.isin(suche_section_ids)\n",
    "wiktionary_merkmal_text[mask]"
   ]
  },
  {
   "cell_type": "markdown",
   "metadata": {},
   "source": [
    "## Speichern"
   ]
  },
  {
   "cell_type": "code",
   "execution_count": 28,
   "metadata": {
    "execution": {
     "iopub.execute_input": "2023-02-16T09:45:30.614175Z",
     "iopub.status.busy": "2023-02-16T09:45:30.613683Z",
     "iopub.status.idle": "2023-02-16T09:45:34.463737Z",
     "shell.execute_reply": "2023-02-16T09:45:34.463196Z",
     "shell.execute_reply.started": "2023-02-16T09:45:30.614153Z"
    }
   },
   "outputs": [
    {
     "name": "stdout",
     "output_type": "stream",
     "text": [
      "time: 3.85 s\n"
     ]
    }
   ],
   "source": [
    "# Speichern   \n",
    "if wiktionary_merkmal_text_filename:\n",
    "    pak.dump_pickle(wiktionary_merkmal_text, wiktionary_merkmal_text_filename)   "
   ]
  },
  {
   "cell_type": "code",
   "execution_count": 29,
   "metadata": {
    "execution": {
     "iopub.execute_input": "2023-02-16T09:45:34.464879Z",
     "iopub.status.busy": "2023-02-16T09:45:34.464652Z",
     "iopub.status.idle": "2023-02-16T09:45:36.987767Z",
     "shell.execute_reply": "2023-02-16T09:45:36.987168Z",
     "shell.execute_reply.started": "2023-02-16T09:45:34.464858Z"
    }
   },
   "outputs": [
    {
     "data": {
      "text/html": [
       "<div>\n",
       "<style scoped>\n",
       "    .dataframe tbody tr th:only-of-type {\n",
       "        vertical-align: middle;\n",
       "    }\n",
       "\n",
       "    .dataframe tbody tr th {\n",
       "        vertical-align: top;\n",
       "    }\n",
       "\n",
       "    .dataframe thead th {\n",
       "        text-align: right;\n",
       "    }\n",
       "</style>\n",
       "<table border=\"1\" class=\"dataframe\">\n",
       "  <thead>\n",
       "    <tr style=\"text-align: right;\">\n",
       "      <th></th>\n",
       "      <th>name</th>\n",
       "      <th>rtype</th>\n",
       "      <th>size</th>\n",
       "    </tr>\n",
       "  </thead>\n",
       "  <tbody>\n",
       "    <tr>\n",
       "      <th>0</th>\n",
       "      <td>wiktionary</td>\n",
       "      <td>(DataFrame, Series)</td>\n",
       "      <td>3.0 GB</td>\n",
       "    </tr>\n",
       "    <tr>\n",
       "      <th>1</th>\n",
       "      <td>wiktionary_trash</td>\n",
       "      <td>(DataFrame, Series)</td>\n",
       "      <td>16.1 MB</td>\n",
       "    </tr>\n",
       "    <tr>\n",
       "      <th>2</th>\n",
       "      <td>mask</td>\n",
       "      <td>(Series, bool)</td>\n",
       "      <td>639.5 KB</td>\n",
       "    </tr>\n",
       "    <tr>\n",
       "      <th>3</th>\n",
       "      <td>testzeile</td>\n",
       "      <td>(Series, int32)</td>\n",
       "      <td>347.7 KB</td>\n",
       "    </tr>\n",
       "    <tr>\n",
       "      <th>4</th>\n",
       "      <td>df</td>\n",
       "      <td>(DataFrame, Series)</td>\n",
       "      <td>91.3 KB</td>\n",
       "    </tr>\n",
       "    <tr>\n",
       "      <th>5</th>\n",
       "      <td>_21</td>\n",
       "      <td>(DataFrame, Series)</td>\n",
       "      <td>91.3 KB</td>\n",
       "    </tr>\n",
       "    <tr>\n",
       "      <th>6</th>\n",
       "      <td>translate_tag</td>\n",
       "      <td>(DataFrame, Series)</td>\n",
       "      <td>37.1 KB</td>\n",
       "    </tr>\n",
       "    <tr>\n",
       "      <th>7</th>\n",
       "      <td>plan_merkmal</td>\n",
       "      <td>(DataFrame, Series)</td>\n",
       "      <td>26.9 KB</td>\n",
       "    </tr>\n",
       "    <tr>\n",
       "      <th>8</th>\n",
       "      <td>translate_tagZ</td>\n",
       "      <td>(DataFrame, Series)</td>\n",
       "      <td>20.9 KB</td>\n",
       "    </tr>\n",
       "    <tr>\n",
       "      <th>9</th>\n",
       "      <td>_13</td>\n",
       "      <td>(DataFrame, Series)</td>\n",
       "      <td>16.3 KB</td>\n",
       "    </tr>\n",
       "  </tbody>\n",
       "</table>\n",
       "</div>"
      ],
      "text/plain": [
       "               name                rtype      size\n",
       "0        wiktionary  (DataFrame, Series)    3.0 GB\n",
       "1  wiktionary_trash  (DataFrame, Series)   16.1 MB\n",
       "2              mask       (Series, bool)  639.5 KB\n",
       "3         testzeile      (Series, int32)  347.7 KB\n",
       "4                df  (DataFrame, Series)   91.3 KB\n",
       "5               _21  (DataFrame, Series)   91.3 KB\n",
       "6     translate_tag  (DataFrame, Series)   37.1 KB\n",
       "7      plan_merkmal  (DataFrame, Series)   26.9 KB\n",
       "8    translate_tagZ  (DataFrame, Series)   20.9 KB\n",
       "9               _13  (DataFrame, Series)   16.3 KB"
      ]
     },
     "execution_count": 29,
     "metadata": {},
     "output_type": "execute_result"
    },
    {
     "name": "stdout",
     "output_type": "stream",
     "text": [
      "time: 2.52 s\n"
     ]
    }
   ],
   "source": [
    "# Speicher\n",
    "if speicher_freigeben:\n",
    "    try:\n",
    "        del wiktionary_merkmal_text\n",
    "    except:\n",
    "        pass\n",
    "pak.memory_consumption(locals())"
   ]
  },
  {
   "cell_type": "code",
   "execution_count": 30,
   "metadata": {
    "execution": {
     "iopub.execute_input": "2023-02-16T09:45:36.988934Z",
     "iopub.status.busy": "2023-02-16T09:45:36.988665Z",
     "iopub.status.idle": "2023-02-16T09:45:37.011564Z",
     "shell.execute_reply": "2023-02-16T09:45:37.010969Z",
     "shell.execute_reply.started": "2023-02-16T09:45:36.988898Z"
    }
   },
   "outputs": [
    {
     "name": "stdout",
     "output_type": "stream",
     "text": [
      "time: 19.8 ms\n"
     ]
    }
   ],
   "source": [
    "#pak.analyse_cols(wiktionary)"
   ]
  },
  {
   "cell_type": "markdown",
   "metadata": {},
   "source": [
    "## wiktionary_merkmal"
   ]
  },
  {
   "cell_type": "code",
   "execution_count": 31,
   "metadata": {
    "execution": {
     "iopub.execute_input": "2023-02-16T09:45:37.012651Z",
     "iopub.status.busy": "2023-02-16T09:45:37.012424Z",
     "iopub.status.idle": "2023-02-16T09:45:37.041141Z",
     "shell.execute_reply": "2023-02-16T09:45:37.040625Z",
     "shell.execute_reply.started": "2023-02-16T09:45:37.012631Z"
    }
   },
   "outputs": [
    {
     "data": {
      "text/html": [
       "<div>\n",
       "<style scoped>\n",
       "    .dataframe tbody tr th:only-of-type {\n",
       "        vertical-align: middle;\n",
       "    }\n",
       "\n",
       "    .dataframe tbody tr th {\n",
       "        vertical-align: top;\n",
       "    }\n",
       "\n",
       "    .dataframe thead th {\n",
       "        text-align: right;\n",
       "    }\n",
       "</style>\n",
       "<table border=\"1\" class=\"dataframe\">\n",
       "  <thead>\n",
       "    <tr style=\"text-align: right;\">\n",
       "      <th></th>\n",
       "      <th>merkmal</th>\n",
       "      <th>template</th>\n",
       "      <th>collect</th>\n",
       "      <th>plan</th>\n",
       "      <th>sort</th>\n",
       "      <th>is_lex</th>\n",
       "    </tr>\n",
       "  </thead>\n",
       "  <tbody>\n",
       "    <tr>\n",
       "      <th>0</th>\n",
       "      <td>noSteig</td>\n",
       "      <td>kSt.</td>\n",
       "      <td>E</td>\n",
       "      <td>1</td>\n",
       "      <td></td>\n",
       "      <td>False</td>\n",
       "    </tr>\n",
       "    <tr>\n",
       "      <th>1</th>\n",
       "      <td>noSing</td>\n",
       "      <td>kSg.</td>\n",
       "      <td>E</td>\n",
       "      <td>1</td>\n",
       "      <td></td>\n",
       "      <td>False</td>\n",
       "    </tr>\n",
       "    <tr>\n",
       "      <th>2</th>\n",
       "      <td>nurWortart</td>\n",
       "      <td>Wortart fehlt</td>\n",
       "      <td>P</td>\n",
       "      <td>1</td>\n",
       "      <td></td>\n",
       "      <td>False</td>\n",
       "    </tr>\n",
       "    <tr>\n",
       "      <th>3</th>\n",
       "      <td>istName</td>\n",
       "      <td>Navigationsleiste Anthroponyme</td>\n",
       "      <td>E</td>\n",
       "      <td>1</td>\n",
       "      <td></td>\n",
       "      <td>False</td>\n",
       "    </tr>\n",
       "    <tr>\n",
       "      <th>4</th>\n",
       "      <td>Wikispecies</td>\n",
       "      <td>Wikispecies</td>\n",
       "      <td>E</td>\n",
       "      <td>1</td>\n",
       "      <td></td>\n",
       "      <td>False</td>\n",
       "    </tr>\n",
       "    <tr>\n",
       "      <th>5</th>\n",
       "      <td>Wikivoyage</td>\n",
       "      <td>Wikivoyage</td>\n",
       "      <td>E</td>\n",
       "      <td>1</td>\n",
       "      <td></td>\n",
       "      <td>False</td>\n",
       "    </tr>\n",
       "    <tr>\n",
       "      <th>6</th>\n",
       "      <td>Taxonomie</td>\n",
       "      <td>Artikel Biologische Taxonomie</td>\n",
       "      <td>E</td>\n",
       "      <td>1</td>\n",
       "      <td></td>\n",
       "      <td>False</td>\n",
       "    </tr>\n",
       "    <tr>\n",
       "      <th>7</th>\n",
       "      <td>Präfix</td>\n",
       "      <td>Präfixe (Deutsch)</td>\n",
       "      <td>E</td>\n",
       "      <td>1</td>\n",
       "      <td></td>\n",
       "      <td>False</td>\n",
       "    </tr>\n",
       "    <tr>\n",
       "      <th>8</th>\n",
       "      <td>Suffix</td>\n",
       "      <td>Suffixe (Deutsch)</td>\n",
       "      <td>E</td>\n",
       "      <td>1</td>\n",
       "      <td></td>\n",
       "      <td>False</td>\n",
       "    </tr>\n",
       "    <tr>\n",
       "      <th>9</th>\n",
       "      <td>VMaßeinheiten</td>\n",
       "      <td>Vorsätze für Maßeinheiten</td>\n",
       "      <td>E</td>\n",
       "      <td>1</td>\n",
       "      <td></td>\n",
       "      <td>False</td>\n",
       "    </tr>\n",
       "    <tr>\n",
       "      <th>10</th>\n",
       "      <td>übersicht</td>\n",
       "      <td>Übersicht</td>\n",
       "      <td>P</td>\n",
       "      <td>1</td>\n",
       "      <td></td>\n",
       "      <td>False</td>\n",
       "    </tr>\n",
       "    <tr>\n",
       "      <th>11</th>\n",
       "      <td>übersicht</td>\n",
       "      <td>Pronomina-Tabelle</td>\n",
       "      <td>P</td>\n",
       "      <td>1</td>\n",
       "      <td></td>\n",
       "      <td>False</td>\n",
       "    </tr>\n",
       "    <tr>\n",
       "      <th>12</th>\n",
       "      <td>def</td>\n",
       "      <td>Bedeutungen</td>\n",
       "      <td>L</td>\n",
       "      <td>1</td>\n",
       "      <td></td>\n",
       "      <td>False</td>\n",
       "    </tr>\n",
       "    <tr>\n",
       "      <th>13</th>\n",
       "      <td>herkunft</td>\n",
       "      <td>Herkunft</td>\n",
       "      <td>Ü</td>\n",
       "      <td>1</td>\n",
       "      <td></td>\n",
       "      <td>False</td>\n",
       "    </tr>\n",
       "    <tr>\n",
       "      <th>14</th>\n",
       "      <td>syn</td>\n",
       "      <td>Synonyme</td>\n",
       "      <td>L</td>\n",
       "      <td>1</td>\n",
       "      <td></td>\n",
       "      <td>False</td>\n",
       "    </tr>\n",
       "    <tr>\n",
       "      <th>15</th>\n",
       "      <td>lateral</td>\n",
       "      <td>Sinnverwandte Wörter</td>\n",
       "      <td>L</td>\n",
       "      <td>1</td>\n",
       "      <td></td>\n",
       "      <td>False</td>\n",
       "    </tr>\n",
       "    <tr>\n",
       "      <th>16</th>\n",
       "      <td>gegen</td>\n",
       "      <td>Gegenwörter</td>\n",
       "      <td>L</td>\n",
       "      <td>1</td>\n",
       "      <td></td>\n",
       "      <td>False</td>\n",
       "    </tr>\n",
       "    <tr>\n",
       "      <th>17</th>\n",
       "      <td>klein</td>\n",
       "      <td>Verkleinerungsformen</td>\n",
       "      <td>L</td>\n",
       "      <td>1</td>\n",
       "      <td></td>\n",
       "      <td>True</td>\n",
       "    </tr>\n",
       "    <tr>\n",
       "      <th>18</th>\n",
       "      <td>up</td>\n",
       "      <td>Oberbegriffe</td>\n",
       "      <td>L</td>\n",
       "      <td>1</td>\n",
       "      <td></td>\n",
       "      <td>False</td>\n",
       "    </tr>\n",
       "    <tr>\n",
       "      <th>19</th>\n",
       "      <td>up_part</td>\n",
       "      <td>Holonyme</td>\n",
       "      <td>L</td>\n",
       "      <td>1</td>\n",
       "      <td></td>\n",
       "      <td>False</td>\n",
       "    </tr>\n",
       "    <tr>\n",
       "      <th>20</th>\n",
       "      <td>down</td>\n",
       "      <td>Unterbegriffe</td>\n",
       "      <td>L</td>\n",
       "      <td>1</td>\n",
       "      <td></td>\n",
       "      <td>False</td>\n",
       "    </tr>\n",
       "    <tr>\n",
       "      <th>21</th>\n",
       "      <td>down_part</td>\n",
       "      <td>Teilbegriffe</td>\n",
       "      <td>L</td>\n",
       "      <td>1</td>\n",
       "      <td></td>\n",
       "      <td>False</td>\n",
       "    </tr>\n",
       "    <tr>\n",
       "      <th>22</th>\n",
       "      <td>down_part_1</td>\n",
       "      <td>Meronyme</td>\n",
       "      <td>L</td>\n",
       "      <td>1</td>\n",
       "      <td></td>\n",
       "      <td>False</td>\n",
       "    </tr>\n",
       "    <tr>\n",
       "      <th>23</th>\n",
       "      <td>kombi</td>\n",
       "      <td>Charakteristische Wortkombinationen</td>\n",
       "      <td>L</td>\n",
       "      <td>1</td>\n",
       "      <td></td>\n",
       "      <td>False</td>\n",
       "    </tr>\n",
       "    <tr>\n",
       "      <th>24</th>\n",
       "      <td>familie</td>\n",
       "      <td>Wortbildungen</td>\n",
       "      <td>L</td>\n",
       "      <td>1</td>\n",
       "      <td></td>\n",
       "      <td>False</td>\n",
       "    </tr>\n",
       "    <tr>\n",
       "      <th>25</th>\n",
       "      <td>familie_1</td>\n",
       "      <td>Wortfamilie</td>\n",
       "      <td>L</td>\n",
       "      <td>1</td>\n",
       "      <td></td>\n",
       "      <td>False</td>\n",
       "    </tr>\n",
       "    <tr>\n",
       "      <th>26</th>\n",
       "      <td>abk</td>\n",
       "      <td>Abkürzungen</td>\n",
       "      <td>L</td>\n",
       "      <td>1</td>\n",
       "      <td></td>\n",
       "      <td>True</td>\n",
       "    </tr>\n",
       "    <tr>\n",
       "      <th>27</th>\n",
       "      <td>alt</td>\n",
       "      <td>Nicht mehr gültige Schreibweisen</td>\n",
       "      <td>L</td>\n",
       "      <td>1</td>\n",
       "      <td></td>\n",
       "      <td>True</td>\n",
       "    </tr>\n",
       "    <tr>\n",
       "      <th>28</th>\n",
       "      <td>alt_1</td>\n",
       "      <td>Nebenformen</td>\n",
       "      <td>L</td>\n",
       "      <td>1</td>\n",
       "      <td></td>\n",
       "      <td>True</td>\n",
       "    </tr>\n",
       "    <tr>\n",
       "      <th>29</th>\n",
       "      <td>alt_2</td>\n",
       "      <td>Alternative Schreibweisen</td>\n",
       "      <td>L</td>\n",
       "      <td>1</td>\n",
       "      <td></td>\n",
       "      <td>True</td>\n",
       "    </tr>\n",
       "    <tr>\n",
       "      <th>30</th>\n",
       "      <td>alt_3</td>\n",
       "      <td>Namensvarianten</td>\n",
       "      <td>L</td>\n",
       "      <td>1</td>\n",
       "      <td></td>\n",
       "      <td>True</td>\n",
       "    </tr>\n",
       "    <tr>\n",
       "      <th>31</th>\n",
       "      <td>alt_abk</td>\n",
       "      <td>Kurzformen</td>\n",
       "      <td>L</td>\n",
       "      <td>1</td>\n",
       "      <td></td>\n",
       "      <td>True</td>\n",
       "    </tr>\n",
       "    <tr>\n",
       "      <th>32</th>\n",
       "      <td>alt_klein</td>\n",
       "      <td>Koseformen</td>\n",
       "      <td>L</td>\n",
       "      <td>1</td>\n",
       "      <td></td>\n",
       "      <td>True</td>\n",
       "    </tr>\n",
       "    <tr>\n",
       "      <th>33</th>\n",
       "      <td>alt_weib</td>\n",
       "      <td>Männliche Namensvarianten</td>\n",
       "      <td>L</td>\n",
       "      <td>1</td>\n",
       "      <td></td>\n",
       "      <td>True</td>\n",
       "    </tr>\n",
       "    <tr>\n",
       "      <th>34</th>\n",
       "      <td>alt_männ</td>\n",
       "      <td>Weibliche Namensvarianten</td>\n",
       "      <td>L</td>\n",
       "      <td>1</td>\n",
       "      <td></td>\n",
       "      <td>True</td>\n",
       "    </tr>\n",
       "    <tr>\n",
       "      <th>35</th>\n",
       "      <td>weib</td>\n",
       "      <td>Weibliche Wortformen</td>\n",
       "      <td>L</td>\n",
       "      <td>1</td>\n",
       "      <td></td>\n",
       "      <td>True</td>\n",
       "    </tr>\n",
       "    <tr>\n",
       "      <th>36</th>\n",
       "      <td>männ</td>\n",
       "      <td>Männliche Wortformen</td>\n",
       "      <td>L</td>\n",
       "      <td>1</td>\n",
       "      <td></td>\n",
       "      <td>True</td>\n",
       "    </tr>\n",
       "    <tr>\n",
       "      <th>37</th>\n",
       "      <td>gm</td>\n",
       "      <td>Grammatische Merkmale</td>\n",
       "      <td>L</td>\n",
       "      <td>1</td>\n",
       "      <td></td>\n",
       "      <td>False</td>\n",
       "    </tr>\n",
       "  </tbody>\n",
       "</table>\n",
       "</div>"
      ],
      "text/plain": [
       "          merkmal                             template collect  plan sort  \\\n",
       "0         noSteig                                 kSt.       E     1        \n",
       "1          noSing                                 kSg.       E     1        \n",
       "2      nurWortart                        Wortart fehlt       P     1        \n",
       "3         istName       Navigationsleiste Anthroponyme       E     1        \n",
       "4     Wikispecies                          Wikispecies       E     1        \n",
       "5      Wikivoyage                           Wikivoyage       E     1        \n",
       "6       Taxonomie        Artikel Biologische Taxonomie       E     1        \n",
       "7          Präfix                    Präfixe (Deutsch)       E     1        \n",
       "8          Suffix                    Suffixe (Deutsch)       E     1        \n",
       "9   VMaßeinheiten            Vorsätze für Maßeinheiten       E     1        \n",
       "10      übersicht                            Übersicht       P     1        \n",
       "11      übersicht                    Pronomina-Tabelle       P     1        \n",
       "12            def                          Bedeutungen       L     1        \n",
       "13       herkunft                             Herkunft       Ü     1        \n",
       "14            syn                             Synonyme       L     1        \n",
       "15        lateral                 Sinnverwandte Wörter       L     1        \n",
       "16          gegen                          Gegenwörter       L     1        \n",
       "17          klein                 Verkleinerungsformen       L     1        \n",
       "18             up                         Oberbegriffe       L     1        \n",
       "19        up_part                             Holonyme       L     1        \n",
       "20           down                        Unterbegriffe       L     1        \n",
       "21      down_part                         Teilbegriffe       L     1        \n",
       "22    down_part_1                             Meronyme       L     1        \n",
       "23          kombi  Charakteristische Wortkombinationen       L     1        \n",
       "24        familie                        Wortbildungen       L     1        \n",
       "25      familie_1                          Wortfamilie       L     1        \n",
       "26            abk                          Abkürzungen       L     1        \n",
       "27            alt     Nicht mehr gültige Schreibweisen       L     1        \n",
       "28          alt_1                          Nebenformen       L     1        \n",
       "29          alt_2            Alternative Schreibweisen       L     1        \n",
       "30          alt_3                      Namensvarianten       L     1        \n",
       "31        alt_abk                           Kurzformen       L     1        \n",
       "32      alt_klein                           Koseformen       L     1        \n",
       "33       alt_weib            Männliche Namensvarianten       L     1        \n",
       "34       alt_männ            Weibliche Namensvarianten       L     1        \n",
       "35           weib                 Weibliche Wortformen       L     1        \n",
       "36           männ                 Männliche Wortformen       L     1        \n",
       "37             gm                Grammatische Merkmale       L     1        \n",
       "\n",
       "    is_lex  \n",
       "0    False  \n",
       "1    False  \n",
       "2    False  \n",
       "3    False  \n",
       "4    False  \n",
       "5    False  \n",
       "6    False  \n",
       "7    False  \n",
       "8    False  \n",
       "9    False  \n",
       "10   False  \n",
       "11   False  \n",
       "12   False  \n",
       "13   False  \n",
       "14   False  \n",
       "15   False  \n",
       "16   False  \n",
       "17    True  \n",
       "18   False  \n",
       "19   False  \n",
       "20   False  \n",
       "21   False  \n",
       "22   False  \n",
       "23   False  \n",
       "24   False  \n",
       "25   False  \n",
       "26    True  \n",
       "27    True  \n",
       "28    True  \n",
       "29    True  \n",
       "30    True  \n",
       "31    True  \n",
       "32    True  \n",
       "33    True  \n",
       "34    True  \n",
       "35    True  \n",
       "36    True  \n",
       "37   False  "
      ]
     },
     "execution_count": 31,
     "metadata": {},
     "output_type": "execute_result"
    },
    {
     "name": "stdout",
     "output_type": "stream",
     "text": [
      "time: 25.4 ms\n"
     ]
    }
   ],
   "source": [
    "# plan\n",
    "mask = plan_merkmal.plan == 1\n",
    "plan = plan_merkmal[mask]\n",
    "plan"
   ]
  },
  {
   "cell_type": "code",
   "execution_count": 32,
   "metadata": {
    "execution": {
     "iopub.execute_input": "2023-02-16T09:45:37.042029Z",
     "iopub.status.busy": "2023-02-16T09:45:37.041820Z",
     "iopub.status.idle": "2023-02-16T12:11:10.011014Z",
     "shell.execute_reply": "2023-02-16T12:11:10.004819Z",
     "shell.execute_reply.started": "2023-02-16T09:45:37.042014Z"
    }
   },
   "outputs": [
    {
     "data": {
      "application/vnd.jupyter.widget-view+json": {
       "model_id": "dcca88a7d49d4bb7a3829513c950274f",
       "version_major": 2,
       "version_minor": 0
      },
      "text/plain": [
       "VBox(children=(HBox(children=(IntProgress(value=0, description='0.00%', max=209399), Label(value='0 / 209399')…"
      ]
     },
     "metadata": {},
     "output_type": "display_data"
    },
    {
     "name": "stdout",
     "output_type": "stream",
     "text": [
      "Executing shutdown due to inactivity...\n"
     ]
    },
    {
     "name": "stderr",
     "output_type": "stream",
     "text": [
      "2023-02-16 11:06:09,346 - INFO     - Executing shutdown due to inactivity...\n"
     ]
    },
    {
     "name": "stdout",
     "output_type": "stream",
     "text": [
      "Executing shutdown...\n"
     ]
    },
    {
     "name": "stderr",
     "output_type": "stream",
     "text": [
      "2023-02-16 11:06:09,369 - INFO     - Executing shutdown...\n"
     ]
    },
    {
     "name": "stdout",
     "output_type": "stream",
     "text": [
      "Exception on /shutdown [GET]\n",
      "Traceback (most recent call last):\n",
      "  File \"/home/me/mambaforge/envs/python_06/lib/python3.9/site-packages/flask/app.py\", line 2525, in wsgi_app\n",
      "    response = self.full_dispatch_request()\n",
      "  File \"/home/me/mambaforge/envs/python_06/lib/python3.9/site-packages/flask/app.py\", line 1822, in full_dispatch_request\n",
      "    rv = self.handle_user_exception(e)\n",
      "  File \"/home/me/mambaforge/envs/python_06/lib/python3.9/site-packages/flask/app.py\", line 1820, in full_dispatch_request\n",
      "    rv = self.dispatch_request()\n",
      "  File \"/home/me/mambaforge/envs/python_06/lib/python3.9/site-packages/flask/app.py\", line 1796, in dispatch_request\n",
      "    return self.ensure_sync(self.view_functions[rule.endpoint])(**view_args)\n",
      "  File \"/home/me/mambaforge/envs/python_06/lib/python3.9/site-packages/dtale/app.py\", line 435, in shutdown\n",
      "    shutdown_server()\n",
      "  File \"/home/me/mambaforge/envs/python_06/lib/python3.9/site-packages/dtale/app.py\", line 421, in shutdown_server\n",
      "    raise RuntimeError(\"Not running with the Werkzeug Server\")\n",
      "RuntimeError: Not running with the Werkzeug Server\n"
     ]
    },
    {
     "name": "stderr",
     "output_type": "stream",
     "text": [
      "2023-02-16 11:06:09,371 - ERROR    - Exception on /shutdown [GET]\n",
      "Traceback (most recent call last):\n",
      "  File \"/home/me/mambaforge/envs/python_06/lib/python3.9/site-packages/flask/app.py\", line 2525, in wsgi_app\n",
      "    response = self.full_dispatch_request()\n",
      "  File \"/home/me/mambaforge/envs/python_06/lib/python3.9/site-packages/flask/app.py\", line 1822, in full_dispatch_request\n",
      "    rv = self.handle_user_exception(e)\n",
      "  File \"/home/me/mambaforge/envs/python_06/lib/python3.9/site-packages/flask/app.py\", line 1820, in full_dispatch_request\n",
      "    rv = self.dispatch_request()\n",
      "  File \"/home/me/mambaforge/envs/python_06/lib/python3.9/site-packages/flask/app.py\", line 1796, in dispatch_request\n",
      "    return self.ensure_sync(self.view_functions[rule.endpoint])(**view_args)\n",
      "  File \"/home/me/mambaforge/envs/python_06/lib/python3.9/site-packages/dtale/app.py\", line 435, in shutdown\n",
      "    shutdown_server()\n",
      "  File \"/home/me/mambaforge/envs/python_06/lib/python3.9/site-packages/dtale/app.py\", line 421, in shutdown_server\n",
      "    raise RuntimeError(\"Not running with the Werkzeug Server\")\n",
      "RuntimeError: Not running with the Werkzeug Server\n"
     ]
    },
    {
     "name": "stdout",
     "output_type": "stream",
     "text": [
      "ERROR1 2ERROR\n"
     ]
    },
    {
     "name": "stderr",
     "output_type": "stream",
     "text": [
      "Process ForkPoolWorker-11:\n",
      "Traceback (most recent call last):\n",
      "  File \"/home/me/mambaforge/envs/python_06/lib/python3.9/multiprocessing/process.py\", line 315, in _bootstrap\n",
      "    self.run()\n",
      "  File \"/home/me/mambaforge/envs/python_06/lib/python3.9/multiprocessing/process.py\", line 108, in run\n",
      "    self._target(*self._args, **self._kwargs)\n",
      "  File \"/home/me/mambaforge/envs/python_06/lib/python3.9/multiprocessing/pool.py\", line 114, in worker\n",
      "    task = get()\n",
      "  File \"/home/me/mambaforge/envs/python_06/lib/python3.9/multiprocessing/queues.py\", line 365, in get\n",
      "    res = self._reader.recv_bytes()\n",
      "  File \"/home/me/mambaforge/envs/python_06/lib/python3.9/multiprocessing/connection.py\", line 221, in recv_bytes\n",
      "    buf = self._recv_bytes(maxlength)\n",
      "  File \"/home/me/mambaforge/envs/python_06/lib/python3.9/multiprocessing/connection.py\", line 419, in _recv_bytes\n",
      "    buf = self._recv(4)\n",
      "  File \"/home/me/mambaforge/envs/python_06/lib/python3.9/multiprocessing/connection.py\", line 384, in _recv\n",
      "    chunk = read(handle, remaining)\n",
      "KeyboardInterrupt\n",
      "Process ForkPoolWorker-7:\n",
      "Process ForkPoolWorker-8:\n",
      "Traceback (most recent call last):\n",
      "  File \"/home/me/mambaforge/envs/python_06/lib/python3.9/multiprocessing/process.py\", line 315, in _bootstrap\n",
      "    self.run()\n",
      "  File \"/home/me/mambaforge/envs/python_06/lib/python3.9/multiprocessing/process.py\", line 108, in run\n",
      "    self._target(*self._args, **self._kwargs)\n",
      "  File \"/home/me/mambaforge/envs/python_06/lib/python3.9/multiprocessing/pool.py\", line 114, in worker\n",
      "    task = get()\n",
      "  File \"/home/me/mambaforge/envs/python_06/lib/python3.9/multiprocessing/queues.py\", line 364, in get\n",
      "    with self._rlock:\n",
      "  File \"/home/me/mambaforge/envs/python_06/lib/python3.9/multiprocessing/synchronize.py\", line 95, in __enter__\n",
      "    return self._semlock.__enter__()\n",
      "KeyboardInterrupt\n",
      "Process ForkPoolWorker-10:\n",
      "Traceback (most recent call last):\n",
      "  File \"/home/me/mambaforge/envs/python_06/lib/python3.9/multiprocessing/process.py\", line 315, in _bootstrap\n",
      "    self.run()\n",
      "  File \"/home/me/mambaforge/envs/python_06/lib/python3.9/multiprocessing/process.py\", line 108, in run\n",
      "    self._target(*self._args, **self._kwargs)\n",
      "  File \"/home/me/mambaforge/envs/python_06/lib/python3.9/multiprocessing/pool.py\", line 114, in worker\n",
      "    task = get()\n",
      "  File \"/home/me/mambaforge/envs/python_06/lib/python3.9/multiprocessing/queues.py\", line 364, in get\n",
      "    with self._rlock:\n",
      "  File \"/home/me/mambaforge/envs/python_06/lib/python3.9/multiprocessing/synchronize.py\", line 95, in __enter__\n",
      "    return self._semlock.__enter__()\n",
      "KeyboardInterrupt\n",
      "Traceback (most recent call last):\n",
      "  File \"/home/me/mambaforge/envs/python_06/lib/python3.9/multiprocessing/process.py\", line 315, in _bootstrap\n",
      "    self.run()\n",
      "  File \"/home/me/mambaforge/envs/python_06/lib/python3.9/multiprocessing/process.py\", line 108, in run\n",
      "    self._target(*self._args, **self._kwargs)\n",
      "  File \"/home/me/mambaforge/envs/python_06/lib/python3.9/multiprocessing/pool.py\", line 114, in worker\n",
      "    task = get()\n",
      "  File \"/home/me/mambaforge/envs/python_06/lib/python3.9/multiprocessing/queues.py\", line 364, in get\n",
      "    with self._rlock:\n"
     ]
    },
    {
     "ename": "KeyboardInterrupt",
     "evalue": "",
     "output_type": "error",
     "traceback": [
      "\u001b[0;31m---------------------------------------------------------------------------\u001b[0m",
      "\u001b[0;31mKeyboardInterrupt\u001b[0m                         Traceback (most recent call last)",
      "Cell \u001b[0;32mIn[32], line 7\u001b[0m\n\u001b[1;32m      1\u001b[0m \u001b[38;5;66;03m# all: 2h 22min\u001b[39;00m\n\u001b[1;32m      2\u001b[0m \u001b[38;5;66;03m# 100K: 8min 44s\u001b[39;00m\n\u001b[1;32m      3\u001b[0m \u001b[38;5;66;03m# ERROR1 2ERROR\u001b[39;00m\n\u001b[1;32m      4\u001b[0m \u001b[38;5;66;03m# apply erzeugt eine Series von DataFrames\u001b[39;00m\n\u001b[1;32m      5\u001b[0m \u001b[38;5;66;03m# tolist macht daraus eine Liste\u001b[39;00m\n\u001b[1;32m      6\u001b[0m \u001b[38;5;66;03m# und concat macht aus der Liste von DataFrames ein Gesamt-DataFrame\u001b[39;00m\n\u001b[0;32m----> 7\u001b[0m wiktionary_merkmal \u001b[38;5;241m=\u001b[39m pd\u001b[38;5;241m.\u001b[39mconcat(  \u001b[43mwiktionary\u001b[49m\u001b[38;5;241;43m.\u001b[39;49m\u001b[43mparallel_apply\u001b[49m\u001b[43m(\u001b[49m\u001b[43mextract_all\u001b[49m\u001b[43m,\u001b[49m\u001b[43m \u001b[49m\u001b[43mplan\u001b[49m\u001b[38;5;241;43m=\u001b[39;49m\u001b[43mplan\u001b[49m\u001b[43m,\u001b[49m\u001b[43m \u001b[49m\u001b[43maxis\u001b[49m\u001b[38;5;241;43m=\u001b[39;49m\u001b[38;5;241;43m1\u001b[39;49m\u001b[43m)\u001b[49m\u001b[38;5;241m.\u001b[39mtolist()  )\n",
      "File \u001b[0;32m~/mambaforge/envs/python_06/lib/python3.9/site-packages/pandarallel/core.py:307\u001b[0m, in \u001b[0;36mparallelize_with_memory_file_system.<locals>.closure\u001b[0;34m(data, user_defined_function, *user_defined_function_args, **user_defined_function_kwargs)\u001b[0m\n\u001b[1;32m    299\u001b[0m generation \u001b[38;5;241m=\u001b[39m count()\n\u001b[1;32m    301\u001b[0m \u001b[38;5;28;01mwhile\u001b[39;00m \u001b[38;5;28many\u001b[39m(\n\u001b[1;32m    302\u001b[0m     (\n\u001b[1;32m    303\u001b[0m         worker_status \u001b[38;5;241m==\u001b[39m WorkerStatus\u001b[38;5;241m.\u001b[39mRunning\n\u001b[1;32m    304\u001b[0m         \u001b[38;5;28;01mfor\u001b[39;00m worker_status \u001b[38;5;129;01min\u001b[39;00m workers_status\n\u001b[1;32m    305\u001b[0m     )\n\u001b[1;32m    306\u001b[0m ):\n\u001b[0;32m--> 307\u001b[0m     message: Tuple[\u001b[38;5;28mint\u001b[39m, WorkerStatus, Any] \u001b[38;5;241m=\u001b[39m \u001b[43mmaster_workers_queue\u001b[49m\u001b[38;5;241;43m.\u001b[39;49m\u001b[43mget\u001b[49m\u001b[43m(\u001b[49m\u001b[43m)\u001b[49m\n\u001b[1;32m    308\u001b[0m     worker_index, worker_status, payload \u001b[38;5;241m=\u001b[39m message\n\u001b[1;32m    309\u001b[0m     workers_status[worker_index] \u001b[38;5;241m=\u001b[39m worker_status\n",
      "File \u001b[0;32m<string>:2\u001b[0m, in \u001b[0;36mget\u001b[0;34m(self, *args, **kwds)\u001b[0m\n",
      "File \u001b[0;32m~/mambaforge/envs/python_06/lib/python3.9/multiprocessing/managers.py:810\u001b[0m, in \u001b[0;36mBaseProxy._callmethod\u001b[0;34m(self, methodname, args, kwds)\u001b[0m\n\u001b[1;32m    807\u001b[0m     conn \u001b[38;5;241m=\u001b[39m \u001b[38;5;28mself\u001b[39m\u001b[38;5;241m.\u001b[39m_tls\u001b[38;5;241m.\u001b[39mconnection\n\u001b[1;32m    809\u001b[0m conn\u001b[38;5;241m.\u001b[39msend((\u001b[38;5;28mself\u001b[39m\u001b[38;5;241m.\u001b[39m_id, methodname, args, kwds))\n\u001b[0;32m--> 810\u001b[0m kind, result \u001b[38;5;241m=\u001b[39m \u001b[43mconn\u001b[49m\u001b[38;5;241;43m.\u001b[39;49m\u001b[43mrecv\u001b[49m\u001b[43m(\u001b[49m\u001b[43m)\u001b[49m\n\u001b[1;32m    812\u001b[0m \u001b[38;5;28;01mif\u001b[39;00m kind \u001b[38;5;241m==\u001b[39m \u001b[38;5;124m'\u001b[39m\u001b[38;5;124m#RETURN\u001b[39m\u001b[38;5;124m'\u001b[39m:\n\u001b[1;32m    813\u001b[0m     \u001b[38;5;28;01mreturn\u001b[39;00m result\n",
      "File \u001b[0;32m~/mambaforge/envs/python_06/lib/python3.9/multiprocessing/connection.py:255\u001b[0m, in \u001b[0;36m_ConnectionBase.recv\u001b[0;34m(self)\u001b[0m\n\u001b[1;32m    253\u001b[0m \u001b[38;5;28mself\u001b[39m\u001b[38;5;241m.\u001b[39m_check_closed()\n\u001b[1;32m    254\u001b[0m \u001b[38;5;28mself\u001b[39m\u001b[38;5;241m.\u001b[39m_check_readable()\n\u001b[0;32m--> 255\u001b[0m buf \u001b[38;5;241m=\u001b[39m \u001b[38;5;28;43mself\u001b[39;49m\u001b[38;5;241;43m.\u001b[39;49m\u001b[43m_recv_bytes\u001b[49m\u001b[43m(\u001b[49m\u001b[43m)\u001b[49m\n\u001b[1;32m    256\u001b[0m \u001b[38;5;28;01mreturn\u001b[39;00m _ForkingPickler\u001b[38;5;241m.\u001b[39mloads(buf\u001b[38;5;241m.\u001b[39mgetbuffer())\n",
      "File \u001b[0;32m~/mambaforge/envs/python_06/lib/python3.9/multiprocessing/connection.py:419\u001b[0m, in \u001b[0;36mConnection._recv_bytes\u001b[0;34m(self, maxsize)\u001b[0m\n\u001b[1;32m    418\u001b[0m \u001b[38;5;28;01mdef\u001b[39;00m \u001b[38;5;21m_recv_bytes\u001b[39m(\u001b[38;5;28mself\u001b[39m, maxsize\u001b[38;5;241m=\u001b[39m\u001b[38;5;28;01mNone\u001b[39;00m):\n\u001b[0;32m--> 419\u001b[0m     buf \u001b[38;5;241m=\u001b[39m \u001b[38;5;28;43mself\u001b[39;49m\u001b[38;5;241;43m.\u001b[39;49m\u001b[43m_recv\u001b[49m\u001b[43m(\u001b[49m\u001b[38;5;241;43m4\u001b[39;49m\u001b[43m)\u001b[49m\n\u001b[1;32m    420\u001b[0m     size, \u001b[38;5;241m=\u001b[39m struct\u001b[38;5;241m.\u001b[39munpack(\u001b[38;5;124m\"\u001b[39m\u001b[38;5;124m!i\u001b[39m\u001b[38;5;124m\"\u001b[39m, buf\u001b[38;5;241m.\u001b[39mgetvalue())\n\u001b[1;32m    421\u001b[0m     \u001b[38;5;28;01mif\u001b[39;00m size \u001b[38;5;241m==\u001b[39m \u001b[38;5;241m-\u001b[39m\u001b[38;5;241m1\u001b[39m:\n",
      "File \u001b[0;32m~/mambaforge/envs/python_06/lib/python3.9/multiprocessing/connection.py:384\u001b[0m, in \u001b[0;36mConnection._recv\u001b[0;34m(self, size, read)\u001b[0m\n\u001b[1;32m    382\u001b[0m remaining \u001b[38;5;241m=\u001b[39m size\n\u001b[1;32m    383\u001b[0m \u001b[38;5;28;01mwhile\u001b[39;00m remaining \u001b[38;5;241m>\u001b[39m \u001b[38;5;241m0\u001b[39m:\n\u001b[0;32m--> 384\u001b[0m     chunk \u001b[38;5;241m=\u001b[39m \u001b[43mread\u001b[49m\u001b[43m(\u001b[49m\u001b[43mhandle\u001b[49m\u001b[43m,\u001b[49m\u001b[43m \u001b[49m\u001b[43mremaining\u001b[49m\u001b[43m)\u001b[49m\n\u001b[1;32m    385\u001b[0m     n \u001b[38;5;241m=\u001b[39m \u001b[38;5;28mlen\u001b[39m(chunk)\n\u001b[1;32m    386\u001b[0m     \u001b[38;5;28;01mif\u001b[39;00m n \u001b[38;5;241m==\u001b[39m \u001b[38;5;241m0\u001b[39m:\n",
      "\u001b[0;31mKeyboardInterrupt\u001b[0m: "
     ]
    },
    {
     "name": "stderr",
     "output_type": "stream",
     "text": [
      "  File \"/home/me/mambaforge/envs/python_06/lib/python3.9/multiprocessing/synchronize.py\", line 95, in __enter__\n",
      "    return self._semlock.__enter__()\n",
      "KeyboardInterrupt\n"
     ]
    },
    {
     "name": "stdout",
     "output_type": "stream",
     "text": [
      "time: 2h 25min 32s\n"
     ]
    }
   ],
   "source": [
    "# all: 2h 22min\n",
    "# 100K: 8min 44s\n",
    "# ERROR1 2ERROR\n",
    "# apply erzeugt eine Series von DataFrames\n",
    "# tolist macht daraus eine Liste\n",
    "# und concat macht aus der Liste von DataFrames ein Gesamt-DataFrame\n",
    "wiktionary_merkmal = pd.concat(  wiktionary.parallel_apply(extract_all, plan=plan, axis=1).tolist()  )"
   ]
  },
  {
   "cell_type": "code",
   "execution_count": null,
   "metadata": {
    "execution": {
     "iopub.status.busy": "2023-02-16T12:11:10.013048Z",
     "iopub.status.idle": "2023-02-16T12:11:10.013304Z",
     "shell.execute_reply": "2023-02-16T12:11:10.013210Z",
     "shell.execute_reply.started": "2023-02-16T12:11:10.013197Z"
    }
   },
   "outputs": [],
   "source": [
    "# nachbearbeiten\n",
    "wiktionary_merkmal = pak.reset_index( wiktionary_merkmal )\n",
    "wiktionary_merkmal = pak.move_cols(   wiktionary_merkmal, ['section_id','section_id2','merkmal'])\n",
    "wiktionary_merkmal = pak.drop_cols(   wiktionary_merkmal, ['node_link'])\n",
    "wiktionary_merkmal = pak.rename_col(  wiktionary_merkmal, 'node_num',  'num')\n",
    "wiktionary_merkmal = pak.rename_col(  wiktionary_merkmal, 'node_meta', 'meta')\n",
    "wiktionary_merkmal = pak.rename_col(  wiktionary_merkmal, 'node_text', 'data')    "
   ]
  },
  {
   "cell_type": "markdown",
   "metadata": {},
   "source": [
    "## Kontrolle: wiktionary_merkmal"
   ]
  },
  {
   "cell_type": "code",
   "execution_count": null,
   "metadata": {
    "execution": {
     "iopub.status.busy": "2023-02-16T12:11:10.014021Z",
     "iopub.status.idle": "2023-02-16T12:11:10.014248Z",
     "shell.execute_reply": "2023-02-16T12:11:10.014157Z",
     "shell.execute_reply.started": "2023-02-16T12:11:10.014145Z"
    }
   },
   "outputs": [],
   "source": [
    "# Merkmale Häufigkeit\n",
    "v = pak.analyse_freqs(wiktionary_merkmal, 'merkmal') \n",
    "v"
   ]
  },
  {
   "cell_type": "code",
   "execution_count": null,
   "metadata": {
    "execution": {
     "iopub.status.busy": "2023-02-16T12:11:10.015198Z",
     "iopub.status.idle": "2023-02-16T12:11:10.015391Z",
     "shell.execute_reply": "2023-02-16T12:11:10.015306Z",
     "shell.execute_reply.started": "2023-02-16T12:11:10.015295Z"
    }
   },
   "outputs": [],
   "source": [
    "# plan erfüllt?\n",
    "geplant = set(plan.merkmal)\n",
    "done    = set(v.merkmal)\n",
    "nicht_erfüllt = geplant - done\n",
    "print(nicht_erfüllt)\n",
    "if version == '_all': \n",
    "    assert len(nicht_erfüllt) <= 1  # {'reim'} ist nicht erfüllt"
   ]
  },
  {
   "cell_type": "code",
   "execution_count": null,
   "metadata": {
    "execution": {
     "iopub.status.busy": "2023-02-16T12:11:10.016661Z",
     "iopub.status.idle": "2023-02-16T12:11:10.016906Z",
     "shell.execute_reply": "2023-02-16T12:11:10.016817Z",
     "shell.execute_reply.started": "2023-02-16T12:11:10.016805Z"
    }
   },
   "outputs": [],
   "source": [
    "# Suche festlegen\n",
    "suche_debug = ['Haus',]"
   ]
  },
  {
   "cell_type": "code",
   "execution_count": null,
   "metadata": {
    "execution": {
     "iopub.status.busy": "2023-02-16T12:11:10.017552Z",
     "iopub.status.idle": "2023-02-16T12:11:10.017736Z",
     "shell.execute_reply": "2023-02-16T12:11:10.017652Z",
     "shell.execute_reply.started": "2023-02-16T12:11:10.017641Z"
    }
   },
   "outputs": [],
   "source": [
    "# Alle Merkmale einer Section\n",
    "mask = wiktionary.section_id2.isin(suche_debug)\n",
    "suche_section_ids = wiktionary[mask].section_id.tolist()\n",
    "mask = wiktionary_merkmal.section_id.isin(suche_section_ids)\n",
    "a = pak.analyse_freqs( wiktionary_merkmal[mask], ['merkmal','data'], limits=[999,None])\n",
    "#grid(a)\n",
    "a"
   ]
  },
  {
   "cell_type": "code",
   "execution_count": null,
   "metadata": {
    "execution": {
     "iopub.status.busy": "2023-02-16T12:11:10.018816Z",
     "iopub.status.idle": "2023-02-16T12:11:10.019096Z",
     "shell.execute_reply": "2023-02-16T12:11:10.019005Z",
     "shell.execute_reply.started": "2023-02-16T12:11:10.018994Z"
    }
   },
   "outputs": [],
   "source": [
    "# Alle Merkmale einer Section\n",
    "mask = wiktionary.title.isin(suche_debug)\n",
    "suche_section_ids = wiktionary[mask].section_id.tolist()\n",
    "mask = wiktionary_merkmal.section_id.isin(suche_section_ids)\n",
    "#grid(wiktionary_merkmal, mask)\n",
    "wiktionary_merkmal[mask]"
   ]
  },
  {
   "cell_type": "code",
   "execution_count": null,
   "metadata": {
    "execution": {
     "iopub.status.busy": "2023-02-16T12:11:10.019759Z",
     "iopub.status.idle": "2023-02-16T12:11:10.019972Z",
     "shell.execute_reply": "2023-02-16T12:11:10.019885Z",
     "shell.execute_reply.started": "2023-02-16T12:11:10.019873Z"
    }
   },
   "outputs": [],
   "source": [
    "# Ein Merkmal in allen Sections\n",
    "mask = (wiktionary_merkmal.merkmal == 'up_part')\n",
    "#grid(wiktionary_merkmal, mask)\n",
    "wiktionary_merkmal[mask]"
   ]
  },
  {
   "cell_type": "markdown",
   "metadata": {},
   "source": [
    "## Müll löschen"
   ]
  },
  {
   "cell_type": "code",
   "execution_count": null,
   "metadata": {
    "execution": {
     "iopub.status.busy": "2023-02-16T12:11:10.020933Z",
     "iopub.status.idle": "2023-02-16T12:11:10.021121Z",
     "shell.execute_reply": "2023-02-16T12:11:10.021037Z",
     "shell.execute_reply.started": "2023-02-16T12:11:10.021026Z"
    }
   },
   "outputs": [],
   "source": [
    "# Reste von Bildern\n",
    "mask1 = (wiktionary_merkmal.merkmal == 'übersicht')\n",
    "mask2 = (wiktionary_merkmal.node_kontext.str.len() < 3)\n",
    "mask = mask1  &  mask2\n",
    "wiktionary_merkmal = pak.drop_rows(wiktionary_merkmal,mask, verbose=True)"
   ]
  },
  {
   "cell_type": "code",
   "execution_count": null,
   "metadata": {
    "execution": {
     "iopub.status.busy": "2023-02-16T12:11:10.021921Z",
     "iopub.status.idle": "2023-02-16T12:11:10.022217Z",
     "shell.execute_reply": "2023-02-16T12:11:10.022129Z",
     "shell.execute_reply.started": "2023-02-16T12:11:10.022117Z"
    }
   },
   "outputs": [],
   "source": [
    "# wiktionary_merkmal: Spalten löschen\n",
    "wiktionary_merkmal = pak.drop_cols(wiktionary_merkmal,['section_id'])"
   ]
  },
  {
   "cell_type": "markdown",
   "metadata": {},
   "source": [
    "## Speichern"
   ]
  },
  {
   "cell_type": "code",
   "execution_count": null,
   "metadata": {
    "execution": {
     "iopub.status.busy": "2023-02-16T12:11:10.022918Z",
     "iopub.status.idle": "2023-02-16T12:11:10.023260Z",
     "shell.execute_reply": "2023-02-16T12:11:10.023174Z",
     "shell.execute_reply.started": "2023-02-16T12:11:10.023163Z"
    }
   },
   "outputs": [],
   "source": [
    "# Speichern\n",
    "if wiktionary_merkmal_filename:\n",
    "    pak.dump_pickle(wiktionary_merkmal, wiktionary_merkmal_filename) "
   ]
  },
  {
   "cell_type": "code",
   "execution_count": null,
   "metadata": {
    "execution": {
     "iopub.status.busy": "2023-02-16T12:11:10.023924Z",
     "iopub.status.idle": "2023-02-16T12:11:10.024150Z",
     "shell.execute_reply": "2023-02-16T12:11:10.024064Z",
     "shell.execute_reply.started": "2023-02-16T12:11:10.024053Z"
    }
   },
   "outputs": [],
   "source": [
    "# Ausgabeverzeichnis touch\n",
    "import os\n",
    "os.utime(verzeichnis_save)"
   ]
  },
  {
   "cell_type": "code",
   "execution_count": null,
   "metadata": {
    "colab": {
     "base_uri": "https://localhost:8080/"
    },
    "execution": {
     "iopub.status.busy": "2023-02-16T12:11:10.024968Z",
     "iopub.status.idle": "2023-02-16T12:11:10.025284Z",
     "shell.execute_reply": "2023-02-16T12:11:10.025197Z",
     "shell.execute_reply.started": "2023-02-16T12:11:10.025186Z"
    },
    "executionInfo": {
     "elapsed": 7425,
     "status": "ok",
     "timestamp": 1676479015113,
     "user": {
      "displayName": "Hups Hopsalla",
      "userId": "10020718461385065661"
     },
     "user_tz": -60
    },
    "id": "dbiDceKXyUx7",
    "outputId": "beb0cf2a-bc86-47c4-81e6-b11c7354957c"
   },
   "outputs": [],
   "source": [
    "# Save in Google Drive\n",
    "if environment['in_colab']:\n",
    "    from google.colab import drive\n",
    "    drive.mount('/content/drive') \n",
    "    !cd /content\n",
    "    !cp -av {verzeichnis_save} /content/drive/MyDrive"
   ]
  },
  {
   "cell_type": "code",
   "execution_count": null,
   "metadata": {
    "execution": {
     "iopub.status.busy": "2023-02-16T12:11:10.025824Z",
     "iopub.status.idle": "2023-02-16T12:11:10.026024Z",
     "shell.execute_reply": "2023-02-16T12:11:10.025939Z",
     "shell.execute_reply.started": "2023-02-16T12:11:10.025928Z"
    }
   },
   "outputs": [],
   "source": [
    "# memory_consumption\n",
    "pak.memory_consumption( locals() )"
   ]
  },
  {
   "cell_type": "code",
   "execution_count": null,
   "metadata": {},
   "outputs": [],
   "source": []
  }
 ],
 "metadata": {
  "kernelspec": {
   "display_name": "Python 3 (ipykernel)",
   "language": "python",
   "name": "python3"
  },
  "language_info": {
   "codemirror_mode": {
    "name": "ipython",
    "version": 3
   },
   "file_extension": ".py",
   "mimetype": "text/x-python",
   "name": "python",
   "nbconvert_exporter": "python",
   "pygments_lexer": "ipython3",
   "version": "3.9.13"
  }
 },
 "nbformat": 4,
 "nbformat_minor": 4
}
