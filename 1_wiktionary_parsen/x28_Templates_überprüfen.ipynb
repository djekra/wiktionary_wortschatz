{
 "cells": [
  {
   "cell_type": "markdown",
   "metadata": {
    "id": "lSehjmZun5OP"
   },
   "source": [
    "__[Open and try this file online (Colab)](https://colab.research.google.com/github/djekra/wiktionary_wortschatz/blob/master/1_wiktionary_parsen/x28_Templates_überprüfen.ipynb)__"
   ]
  },
  {
   "cell_type": "markdown",
   "metadata": {},
   "source": [
    "# Templates überprüfen\n",
    "* dient nur zur Kontrolle, ist nicht notwendig zur Erstellung des Wörterbuches\n",
    "* erstellt die Datei wiktionary_templates.pickle\n",
    "* parst dafür wikitext mit mwparserfromhell"
   ]
  },
  {
   "cell_type": "markdown",
   "metadata": {},
   "source": [
    "## Import"
   ]
  },
  {
   "cell_type": "code",
   "execution_count": 1,
   "metadata": {},
   "outputs": [
    {
     "name": "stdout",
     "output_type": "stream",
     "text": [
      "blab init\n",
      "environment['dropbox_path'] = /home/me/Data_Linux/Dropbox\n",
      "environment['lib_path']     = /home/me/Data_Linux/Dropbox/31_Projekte/01_Python/libs\n",
      "Start Time: 17:51:44\n"
     ]
    },
    {
     "data": {
      "text/html": [
       "<img src onerror=\"var cell = this.closest('.jp-CodeCell');var editor = cell.querySelector('.jp-Editor');editor.style.background='Beige';this.parentNode.removeChild(this)\">"
      ],
      "text/plain": [
       "<IPython.core.display.HTML object>"
      ]
     },
     "metadata": {},
     "output_type": "display_data"
    },
    {
     "name": "stdout",
     "output_type": "stream",
     "text": [
      "time: 409 ms\n"
     ]
    }
   ],
   "source": [
    "# blab init\n",
    "try:\n",
    "    import blab\n",
    "except ImportError as e:\n",
    "    !pip install blab\n",
    "    import blab    \n",
    "startup_notebook = blab.blab_startup()\n",
    "%run $startup_notebook "
   ]
  },
  {
   "cell_type": "code",
   "execution_count": 2,
   "metadata": {},
   "outputs": [
    {
     "name": "stdout",
     "output_type": "stream",
     "text": [
      "time: 4.2 s\n"
     ]
    }
   ],
   "source": [
    "# alle anderen\n",
    "try:\n",
    "    import pandasklar as pak, bpyth as bpy, swifter\n",
    "\n",
    "except ImportError as e:\n",
    "    !pip install pandasklar swifter\n",
    "    import pandasklar as pak, bpyth as bpy, swifter\n",
    "    \n",
    "grid       = pak.grid\n",
    "check_mask = pak.check_mask      "
   ]
  },
  {
   "cell_type": "markdown",
   "metadata": {},
   "source": [
    "## Einstellungen"
   ]
  },
  {
   "cell_type": "code",
   "execution_count": 2,
   "metadata": {},
   "outputs": [
    {
     "name": "stdout",
     "output_type": "stream",
     "text": [
      "time: 11.6 ms\n"
     ]
    }
   ],
   "source": [
    "# Einstellungen\n",
    "\n",
    "version = '_all'\n",
    "#version = '_short'\n",
    "\n",
    "# Load\n",
    "verzeichnis_load                      = 'data_00'\n",
    "wiktionary_filename                   = verzeichnis_load + '/wiktionary'              + version + '.pickle'  \n",
    "wiktionary_merkmal_filename           = verzeichnis_load + '/wiktionary_merkmal'      + version + '.pickle'  \n",
    "wiktionary_merkmal_text_filename      = verzeichnis_load + '/wiktionary_merkmal_text' + version + '.pickle'  \n",
    "\n",
    "\n",
    "# Save\n",
    "verzeichnis_save                      = 'data_01'\n",
    "wiktionary_templates_filename         = verzeichnis_save + '/wiktionary_templates'    + version + '.pickle'    \n",
    "\n",
    "# Was debuggen?\n",
    "suche_debug = ['Haus',]"
   ]
  },
  {
   "cell_type": "markdown",
   "metadata": {
    "id": "p1lM3YLgn5Ou"
   },
   "source": [
    "## Vorbereiten"
   ]
  },
  {
   "cell_type": "code",
   "execution_count": 4,
   "metadata": {
    "colab": {
     "base_uri": "https://localhost:8080/"
    },
    "executionInfo": {
     "elapsed": 13,
     "status": "ok",
     "timestamp": 1676476829076,
     "user": {
      "displayName": "Hups Hopsalla",
      "userId": "10020718461385065661"
     },
     "user_tz": -60
    },
    "id": "Oy4Rb6WZn5Ow",
    "outputId": "6b94d1aa-3ffa-4388-d3f4-53b785e09406"
   },
   "outputs": [
    {
     "name": "stdout",
     "output_type": "stream",
     "text": [
      "time: 44.4 ms\n"
     ]
    }
   ],
   "source": [
    "# Verzeichnisse erzeugen\n",
    "os.makedirs(verzeichnis_load, exist_ok=True) \n",
    "os.makedirs(verzeichnis_save, exist_ok=True) "
   ]
  },
  {
   "cell_type": "code",
   "execution_count": 5,
   "metadata": {},
   "outputs": [
    {
     "name": "stdout",
     "output_type": "stream",
     "text": [
      "time: 38.9 ms\n"
     ]
    }
   ],
   "source": [
    "# Steuertabellen und Python-Files von Github herunterladen\n",
    "import os\n",
    "if not os.path.exists('Steuertabellen'):\n",
    "   !git clone https://github.com/djekra/wiktionary_wortschatz.git\n",
    "   !cp -r wiktionary_wortschatz/1_wiktionary_parsen/Steuertabellen Steuertabellen\n",
    "   !cp -r wiktionary_wortschatz/1_wiktionary_parsen/*.py .\n",
    "#   !rm -r wiktionary_wortschatz"
   ]
  },
  {
   "cell_type": "code",
   "execution_count": 6,
   "metadata": {
    "colab": {
     "base_uri": "https://localhost:8080/"
    },
    "executionInfo": {
     "elapsed": 7425,
     "status": "ok",
     "timestamp": 1676479015113,
     "user": {
      "displayName": "Hups Hopsalla",
      "userId": "10020718461385065661"
     },
     "user_tz": -60
    },
    "id": "dbiDceKXyUx7",
    "outputId": "beb0cf2a-bc86-47c4-81e6-b11c7354957c"
   },
   "outputs": [
    {
     "name": "stdout",
     "output_type": "stream",
     "text": [
      "time: 43.8 ms\n"
     ]
    }
   ],
   "source": [
    "# Lade Ergebnisse der vorherigen Verarbeitungsstufe von Google Drive, falls nicht lokal vorhanden\n",
    "# Dieses Verzeichnis wurde in der vorherigen Verarbeitungsstufe angelegt \n",
    "if environment['in_colab']:\n",
    "    from google.colab import drive\n",
    "    drive.mount('/content/drive') \n",
    "    !cd /content\n",
    "    !cp -av /content/drive/MyDrive/{verzeichnis_load} ."
   ]
  },
  {
   "cell_type": "code",
   "execution_count": 4,
   "metadata": {},
   "outputs": [],
   "source": [
    "# Weitere Imports\n",
    "from Steuertabellen.s01_Steuertabellen   import *\n",
    "\n",
    "# mwparserfromhell plus eigene Ergänzungen \n",
    "import mwparserfromhell\n",
    "from x24_process_wikicode                import *\n",
    "from x22_my_node                         import *"
   ]
  },
  {
   "cell_type": "raw",
   "metadata": {
    "tags": []
   },
   "source": [
    "from pandarallel import pandarallel\n",
    "nb_workers = os.cpu_count()\n",
    "if nb_workers > 2:\n",
    "    nb_workers = int((nb_workers / 2) - 1)\n",
    "pandarallel.initialize(use_memory_fs=True, nb_workers=nb_workers, progress_bar=True)  "
   ]
  },
  {
   "cell_type": "markdown",
   "metadata": {},
   "source": [
    "## Funktionen"
   ]
  },
  {
   "cell_type": "code",
   "execution_count": 5,
   "metadata": {},
   "outputs": [
    {
     "name": "stdout",
     "output_type": "stream",
     "text": [
      "time: 33.2 ms\n"
     ]
    }
   ],
   "source": [
    "def parse_templatenames(zeile):\n",
    "    '''\n",
    "    Liefert alle verwendeten Templates eines Wiktionary-Abschnittes\n",
    "    sowie die Länge der Parameter jedes Templates.\n",
    "    '''\n",
    "    \n",
    "    # mwparserfromhell\n",
    "    wikicode = mwparserfromhell.parse(zeile.wikitext)     \n",
    "    \n",
    "    templates = wikicode.filter_templates(recursive=False)  \n",
    "    templatenames = list()\n",
    "    for t in templates:  \n",
    "        name = str(t.name.strip())\n",
    "        lenp = str(len(t.params))\n",
    "        if len(name) <= 2:\n",
    "            continue\n",
    "        if (len(name) == 3)  and  (name == str.lower(name)):\n",
    "            continue            \n",
    "        templatenames.append(name + '☉' + lenp)\n",
    "    \n",
    "    result = { 'section_id':    zeile.section_id,\n",
    "               'section_id2':   zeile.section_id2,\n",
    "               'templatenames': templatenames\n",
    "             }\n",
    "\n",
    "        \n",
    "    return pd.DataFrame([result])"
   ]
  },
  {
   "cell_type": "code",
   "execution_count": 62,
   "metadata": {},
   "outputs": [
    {
     "name": "stdout",
     "output_type": "stream",
     "text": [
      "time: 34.4 ms\n"
     ]
    }
   ],
   "source": [
    "# häufigkeit             beschreibt, wie häufig ein Template insgesamt verwendet wird\n",
    "# count                  beschreibt, wie oft ein Template pro Section verwendet wird.\n",
    "# lenp_min und lenp_max  beschreiben die Anzahl der Parameter, die bei diesem Template im Mittel verwendet werden.\n",
    "#                        Wenn ein Template pro Section mehrfach verwendet wird, können sich lenp_min und lenp_max unterscheiden.\n",
    "#\n",
    "def show_stats( wiktionary_templates, filter_templates, match_substring=False):\n",
    "    '''\n",
    "    Zeigt gruppierte Daten zur Verwendung der Templates im Wiktionary.\n",
    "    * wiktionary_templates: die gleichnamige Tabelle\n",
    "    * filter_templates:     Nur Templates, die in dieser Liste sind werden ausgewertet\n",
    "    * match_substring:      Reicht in filter_templates der Anfang des Namens?\n",
    "    \n",
    "    Liefert folgende Daten für jedes Template:\n",
    "    * lenp_min:     mittleres Minimum der Parameterlänge\n",
    "    * lenp_max:     mittleres Maximum der Parameterlänge\n",
    "    * count:        mittlere Häufigkeit pro Abschnitt  \n",
    "    * section_id2:  Einige Beispiele, wo das Template vorkommt\n",
    "    * häufigkeit:   Gesamthäufigkeit des Templates im ganzen Wiktionary\n",
    "    '''\n",
    "    filter_templates = tuple(filter_templates)\n",
    "    spalten = ['section_id2','template','lenp_min', 'lenp_max', 'count' ]\n",
    "    if match_substring:\n",
    "        mask = wiktionary_templates.template.str.startswith(filter_templates)\n",
    "    else:\n",
    "        mask = wiktionary_templates.template.isin(filter_templates)\n",
    "    df = pak.reset_index(wiktionary_templates[mask][spalten])\n",
    "    \n",
    "    gruppiert = df.groupby('template')\n",
    "    \n",
    "    result = gruppiert.agg(\n",
    "      \n",
    "        lenp_min    = ('lenp_min',    'mean'),   \n",
    "        lenp_max    = ('lenp_max',    'mean'),  \n",
    "        count       = ('count',       'mean'),            \n",
    "        section_id2 = ('section_id2', pak.top_values_20),                 \n",
    "        häufigkeit  = ('section_id2', 'count')                        \n",
    "\n",
    "    ).reset_index()\n",
    " \n",
    "    return result.sort_values('häufigkeit', ascending=False)"
   ]
  },
  {
   "cell_type": "markdown",
   "metadata": {},
   "source": [
    "## Laden"
   ]
  },
  {
   "cell_type": "code",
   "execution_count": 7,
   "metadata": {},
   "outputs": [
    {
     "name": "stdout",
     "output_type": "stream",
     "text": [
      "time: 10.2 s\n"
     ]
    }
   ],
   "source": [
    "# Laden\n",
    "wiktionary = bpy.laden(wiktionary_filename)"
   ]
  },
  {
   "cell_type": "code",
   "execution_count": 8,
   "metadata": {},
   "outputs": [
    {
     "name": "stdout",
     "output_type": "stream",
     "text": [
      "time: 502 ms\n"
     ]
    }
   ],
   "source": [
    "try:\n",
    "    wiktionary_templates = bpy.laden(wiktionary_templates_filename)  # Falls vorhanden\n",
    "except:\n",
    "    pass"
   ]
  },
  {
   "cell_type": "code",
   "execution_count": 9,
   "metadata": {},
   "outputs": [
    {
     "name": "stdout",
     "output_type": "stream",
     "text": [
      "time: 39.5 ms\n"
     ]
    }
   ],
   "source": [
    "#grid(wiktionary_templates,sample)"
   ]
  },
  {
   "cell_type": "code",
   "execution_count": 10,
   "metadata": {},
   "outputs": [
    {
     "name": "stdout",
     "output_type": "stream",
     "text": [
      "Einträge: 806916\n",
      "time: 39.6 ms\n"
     ]
    }
   ],
   "source": [
    "print('Einträge:', wiktionary.shape[0])"
   ]
  },
  {
   "cell_type": "code",
   "execution_count": 11,
   "metadata": {},
   "outputs": [
    {
     "name": "stdout",
     "output_type": "stream",
     "text": [
      "2 rows out of 806916\n"
     ]
    },
    {
     "data": {
      "text/html": [
       "\n",
       "        <iframe\n",
       "            width=\"100%\"\n",
       "            height=\"475\"\n",
       "            src=\"http://pop-os:40000/dtale/iframe/1\"\n",
       "            frameborder=\"0\"\n",
       "            allowfullscreen\n",
       "            \n",
       "        ></iframe>\n",
       "        "
      ],
      "text/plain": [
       "<IPython.lib.display.IFrame at 0x7f73a38ad580>"
      ]
     },
     "metadata": {},
     "output_type": "display_data"
    },
    {
     "data": {
      "text/plain": []
     },
     "execution_count": 11,
     "metadata": {},
     "output_type": "execute_result"
    },
    {
     "name": "stdout",
     "output_type": "stream",
     "text": [
      "time: 247 ms\n"
     ]
    }
   ],
   "source": [
    "mask = wiktionary.title.isin(suche_debug)\n",
    "grid(wiktionary, mask)"
   ]
  },
  {
   "cell_type": "code",
   "execution_count": 12,
   "metadata": {},
   "outputs": [
    {
     "data": {
      "text/html": [
       "<div>\n",
       "<style scoped>\n",
       "    .dataframe tbody tr th:only-of-type {\n",
       "        vertical-align: middle;\n",
       "    }\n",
       "\n",
       "    .dataframe tbody tr th {\n",
       "        vertical-align: top;\n",
       "    }\n",
       "\n",
       "    .dataframe thead th {\n",
       "        text-align: right;\n",
       "    }\n",
       "</style>\n",
       "<table border=\"1\" class=\"dataframe\">\n",
       "  <thead>\n",
       "    <tr style=\"text-align: right;\">\n",
       "      <th></th>\n",
       "      <th>name</th>\n",
       "      <th>rtype</th>\n",
       "      <th>size</th>\n",
       "    </tr>\n",
       "  </thead>\n",
       "  <tbody>\n",
       "    <tr>\n",
       "      <th>0</th>\n",
       "      <td>wiktionary</td>\n",
       "      <td>(DataFrame, Series)</td>\n",
       "      <td>2.1 GB</td>\n",
       "    </tr>\n",
       "    <tr>\n",
       "      <th>1</th>\n",
       "      <td>wiktionary_templates</td>\n",
       "      <td>(DataFrame, Series)</td>\n",
       "      <td>459.2 MB</td>\n",
       "    </tr>\n",
       "    <tr>\n",
       "      <th>2</th>\n",
       "      <td>mask</td>\n",
       "      <td>(Series, bool)</td>\n",
       "      <td>6.9 MB</td>\n",
       "    </tr>\n",
       "    <tr>\n",
       "      <th>3</th>\n",
       "      <td>translate_tag</td>\n",
       "      <td>(DataFrame, Series)</td>\n",
       "      <td>37.1 KB</td>\n",
       "    </tr>\n",
       "    <tr>\n",
       "      <th>4</th>\n",
       "      <td>translate_tagZ</td>\n",
       "      <td>(DataFrame, Series)</td>\n",
       "      <td>20.9 KB</td>\n",
       "    </tr>\n",
       "    <tr>\n",
       "      <th>5</th>\n",
       "      <td>_i6</td>\n",
       "      <td>(str,)</td>\n",
       "      <td>4.0 KB</td>\n",
       "    </tr>\n",
       "    <tr>\n",
       "      <th>6</th>\n",
       "      <td>_i5</td>\n",
       "      <td>(str,)</td>\n",
       "      <td>2.5 KB</td>\n",
       "    </tr>\n",
       "    <tr>\n",
       "      <th>7</th>\n",
       "      <td>Stop</td>\n",
       "      <td>(type,)</td>\n",
       "      <td>1.0 KB</td>\n",
       "    </tr>\n",
       "    <tr>\n",
       "      <th>8</th>\n",
       "      <td>Markdown</td>\n",
       "      <td>(type,)</td>\n",
       "      <td>1.0 KB</td>\n",
       "    </tr>\n",
       "    <tr>\n",
       "      <th>9</th>\n",
       "      <td>HTML</td>\n",
       "      <td>(type,)</td>\n",
       "      <td>1.0 KB</td>\n",
       "    </tr>\n",
       "  </tbody>\n",
       "</table>\n",
       "</div>"
      ],
      "text/plain": [
       "                   name                rtype      size\n",
       "0            wiktionary  (DataFrame, Series)    2.1 GB\n",
       "1  wiktionary_templates  (DataFrame, Series)  459.2 MB\n",
       "2                  mask       (Series, bool)    6.9 MB\n",
       "3         translate_tag  (DataFrame, Series)   37.1 KB\n",
       "4        translate_tagZ  (DataFrame, Series)   20.9 KB\n",
       "5                   _i6               (str,)    4.0 KB\n",
       "6                   _i5               (str,)    2.5 KB\n",
       "7                  Stop              (type,)    1.0 KB\n",
       "8              Markdown              (type,)    1.0 KB\n",
       "9                  HTML              (type,)    1.0 KB"
      ]
     },
     "execution_count": 12,
     "metadata": {},
     "output_type": "execute_result"
    },
    {
     "name": "stdout",
     "output_type": "stream",
     "text": [
      "time: 1.81 s\n"
     ]
    }
   ],
   "source": [
    "pak.memory_consumption(locals())"
   ]
  },
  {
   "cell_type": "markdown",
   "metadata": {},
   "source": [
    "## parse_templatenames ausprobieren"
   ]
  },
  {
   "cell_type": "code",
   "execution_count": 13,
   "metadata": {},
   "outputs": [
    {
     "name": "stdout",
     "output_type": "stream",
     "text": [
      "time: 108 ms\n"
     ]
    },
    {
     "data": {
      "text/plain": [
       "\u001b[0;31mSignature:\u001b[0m \u001b[0mparse_templatenames\u001b[0m\u001b[0;34m(\u001b[0m\u001b[0mzeile\u001b[0m\u001b[0;34m)\u001b[0m\u001b[0;34m\u001b[0m\u001b[0;34m\u001b[0m\u001b[0m\n",
       "\u001b[0;31mDocstring:\u001b[0m\n",
       "Liefert alle verwendeten Templates eines Wiktionary-Abschnittes\n",
       "sowie die Länge der Parameter jedes Templates.\n",
       "\u001b[0;31mFile:\u001b[0m      /tmp/ipykernel_113877/1105431938.py\n",
       "\u001b[0;31mType:\u001b[0m      function\n"
      ]
     },
     "metadata": {},
     "output_type": "display_data"
    }
   ],
   "source": [
    "?parse_templatenames"
   ]
  },
  {
   "cell_type": "code",
   "execution_count": 14,
   "metadata": {},
   "outputs": [
    {
     "name": "stdout",
     "output_type": "stream",
     "text": [
      "time: 159 ms\n"
     ]
    }
   ],
   "source": [
    "# Eine Testzeile aus wiktionary (als Series)\n",
    "mask = wiktionary.lemma == 'Haus'\n",
    "testzeile = wiktionary[mask].iloc[0]\n",
    "#testzeile"
   ]
  },
  {
   "cell_type": "code",
   "execution_count": 15,
   "metadata": {},
   "outputs": [
    {
     "data": {
      "text/html": [
       "<div>\n",
       "<style scoped>\n",
       "    .dataframe tbody tr th:only-of-type {\n",
       "        vertical-align: middle;\n",
       "    }\n",
       "\n",
       "    .dataframe tbody tr th {\n",
       "        vertical-align: top;\n",
       "    }\n",
       "\n",
       "    .dataframe thead th {\n",
       "        text-align: right;\n",
       "    }\n",
       "</style>\n",
       "<table border=\"1\" class=\"dataframe\">\n",
       "  <thead>\n",
       "    <tr style=\"text-align: right;\">\n",
       "      <th></th>\n",
       "      <th>section_id</th>\n",
       "      <th>section_id2</th>\n",
       "      <th>templatenames</th>\n",
       "    </tr>\n",
       "  </thead>\n",
       "  <tbody>\n",
       "    <tr>\n",
       "      <th>0</th>\n",
       "      <td>21600</td>\n",
       "      <td>Haus</td>\n",
       "      <td>[Deutsch Substantiv Übersicht☉38, Worttrennung...</td>\n",
       "    </tr>\n",
       "  </tbody>\n",
       "</table>\n",
       "</div>"
      ],
      "text/plain": [
       "   section_id section_id2                                      templatenames\n",
       "0       21600        Haus  [Deutsch Substantiv Übersicht☉38, Worttrennung..."
      ]
     },
     "execution_count": 15,
     "metadata": {},
     "output_type": "execute_result"
    },
    {
     "name": "stdout",
     "output_type": "stream",
     "text": [
      "time: 206 ms\n"
     ]
    }
   ],
   "source": [
    "# parse_templatenames ausprobieren\n",
    "df = parse_templatenames(testzeile)\n",
    "df"
   ]
  },
  {
   "cell_type": "code",
   "execution_count": 16,
   "metadata": {},
   "outputs": [
    {
     "data": {
      "text/plain": [
       "['Deutsch Substantiv Übersicht☉38',\n",
       " 'Worttrennung☉0',\n",
       " 'Pl.☉0',\n",
       " 'Aussprache☉0',\n",
       " 'IPA☉0',\n",
       " 'Lautschrift☉1',\n",
       " 'Hörbeispiele☉0',\n",
       " 'Audio☉1',\n",
       " 'Audio☉1',\n",
       " 'Reime☉0']"
      ]
     },
     "execution_count": 16,
     "metadata": {},
     "output_type": "execute_result"
    },
    {
     "name": "stdout",
     "output_type": "stream",
     "text": [
      "time: 48.4 ms\n"
     ]
    }
   ],
   "source": [
    "df.iloc[0].templatenames[:10]"
   ]
  },
  {
   "cell_type": "markdown",
   "metadata": {},
   "source": [
    "## wiktionary_templates neu erstellen"
   ]
  },
  {
   "cell_type": "code",
   "execution_count": 17,
   "metadata": {},
   "outputs": [
    {
     "data": {
      "application/vnd.jupyter.widget-view+json": {
       "model_id": "4c34b1dd2d0b4b728fd619050cec0205",
       "version_major": 2,
       "version_minor": 0
      },
      "text/plain": [
       "VBox(children=(HBox(children=(IntProgress(value=0, description='0.00%', max=403458), Label(value='0 / 403458')…"
      ]
     },
     "metadata": {},
     "output_type": "display_data"
    },
    {
     "name": "stdout",
     "output_type": "stream",
     "text": [
      "time: 19min 23s\n"
     ]
    }
   ],
   "source": [
    "# all: 15min\n",
    "# short: 1min 30 sec\n",
    "# apply erzeugt eine Series von DataFrames\n",
    "# tolist macht daraus eine Liste\n",
    "# und concat macht aus der Liste von DataFrames ein Gesamt-DataFrame\n",
    "wiktionary_templates = pd.concat(wiktionary.swifter.apply(parse_templatenames, axis=1).tolist()  )"
   ]
  },
  {
   "cell_type": "code",
   "execution_count": 18,
   "metadata": {},
   "outputs": [
    {
     "name": "stdout",
     "output_type": "stream",
     "text": [
      "time: 21.1 s\n"
     ]
    }
   ],
   "source": [
    "# Alle Templates einzeln\n",
    "wiktionary_templates = wiktionary_templates.explode('templatenames')\n",
    "\n",
    "# split\n",
    "wiktionary_templates[['template','lenp']] = wiktionary_templates['templatenames'].str.split('☉', n=1, expand=True)"
   ]
  },
  {
   "cell_type": "code",
   "execution_count": 19,
   "metadata": {},
   "outputs": [
    {
     "name": "stdout",
     "output_type": "stream",
     "text": [
      "time: 668 ms\n"
     ]
    }
   ],
   "source": [
    "# lenp\n",
    "wiktionary_templates.lenp = wiktionary_templates.lenp.astype(int)"
   ]
  },
  {
   "cell_type": "code",
   "execution_count": 20,
   "metadata": {},
   "outputs": [
    {
     "name": "stdout",
     "output_type": "stream",
     "text": [
      "time: 3.51 s\n"
     ]
    }
   ],
   "source": [
    "# Spalten pflegen\n",
    "wiktionary_templates = pak.drop_cols(wiktionary_templates,['templatenames','section_id'])"
   ]
  },
  {
   "cell_type": "code",
   "execution_count": 21,
   "metadata": {},
   "outputs": [
    {
     "data": {
      "text/html": [
       "<div>\n",
       "<style scoped>\n",
       "    .dataframe tbody tr th:only-of-type {\n",
       "        vertical-align: middle;\n",
       "    }\n",
       "\n",
       "    .dataframe tbody tr th {\n",
       "        vertical-align: top;\n",
       "    }\n",
       "\n",
       "    .dataframe thead th {\n",
       "        text-align: right;\n",
       "    }\n",
       "</style>\n",
       "<table border=\"1\" class=\"dataframe\">\n",
       "  <thead>\n",
       "    <tr style=\"text-align: right;\">\n",
       "      <th></th>\n",
       "      <th>section_id2</th>\n",
       "      <th>template</th>\n",
       "      <th>lenp</th>\n",
       "    </tr>\n",
       "  </thead>\n",
       "  <tbody>\n",
       "    <tr>\n",
       "      <th>0</th>\n",
       "      <td>Haus</td>\n",
       "      <td>Deutsch Substantiv Übersicht</td>\n",
       "      <td>38</td>\n",
       "    </tr>\n",
       "    <tr>\n",
       "      <th>0</th>\n",
       "      <td>Haus</td>\n",
       "      <td>Worttrennung</td>\n",
       "      <td>0</td>\n",
       "    </tr>\n",
       "    <tr>\n",
       "      <th>0</th>\n",
       "      <td>Haus</td>\n",
       "      <td>Pl.</td>\n",
       "      <td>0</td>\n",
       "    </tr>\n",
       "    <tr>\n",
       "      <th>0</th>\n",
       "      <td>Haus</td>\n",
       "      <td>Aussprache</td>\n",
       "      <td>0</td>\n",
       "    </tr>\n",
       "    <tr>\n",
       "      <th>0</th>\n",
       "      <td>Haus</td>\n",
       "      <td>IPA</td>\n",
       "      <td>0</td>\n",
       "    </tr>\n",
       "    <tr>\n",
       "      <th>...</th>\n",
       "      <td>...</td>\n",
       "      <td>...</td>\n",
       "      <td>...</td>\n",
       "    </tr>\n",
       "    <tr>\n",
       "      <th>0</th>\n",
       "      <td>Haus</td>\n",
       "      <td>Ref-wissen.de</td>\n",
       "      <td>1</td>\n",
       "    </tr>\n",
       "    <tr>\n",
       "      <th>0</th>\n",
       "      <td>Haus</td>\n",
       "      <td>Ref-wissen.de</td>\n",
       "      <td>1</td>\n",
       "    </tr>\n",
       "    <tr>\n",
       "      <th>0</th>\n",
       "      <td>Haus</td>\n",
       "      <td>Ref-UniLeipzig</td>\n",
       "      <td>0</td>\n",
       "    </tr>\n",
       "    <tr>\n",
       "      <th>0</th>\n",
       "      <td>Haus</td>\n",
       "      <td>Ref-Grimm</td>\n",
       "      <td>0</td>\n",
       "    </tr>\n",
       "    <tr>\n",
       "      <th>0</th>\n",
       "      <td>Haus</td>\n",
       "      <td>Quellen</td>\n",
       "      <td>0</td>\n",
       "    </tr>\n",
       "  </tbody>\n",
       "</table>\n",
       "<p>64 rows × 3 columns</p>\n",
       "</div>"
      ],
      "text/plain": [
       "   section_id2                      template  lenp\n",
       "0         Haus  Deutsch Substantiv Übersicht    38\n",
       "0         Haus                  Worttrennung     0\n",
       "0         Haus                           Pl.     0\n",
       "0         Haus                    Aussprache     0\n",
       "0         Haus                           IPA     0\n",
       "..         ...                           ...   ...\n",
       "0         Haus                 Ref-wissen.de     1\n",
       "0         Haus                 Ref-wissen.de     1\n",
       "0         Haus                Ref-UniLeipzig     0\n",
       "0         Haus                     Ref-Grimm     0\n",
       "0         Haus                       Quellen     0\n",
       "\n",
       "[64 rows x 3 columns]"
      ]
     },
     "execution_count": 21,
     "metadata": {},
     "output_type": "execute_result"
    },
    {
     "name": "stdout",
     "output_type": "stream",
     "text": [
      "time: 591 ms\n"
     ]
    }
   ],
   "source": [
    "mask = wiktionary_templates.section_id2 == 'Haus'\n",
    "wiktionary_templates[mask]"
   ]
  },
  {
   "cell_type": "code",
   "execution_count": 22,
   "metadata": {},
   "outputs": [
    {
     "name": "stdout",
     "output_type": "stream",
     "text": [
      "time: 8.47 s\n"
     ]
    }
   ],
   "source": [
    "# Manche Templates kommen mehrfach pro Abschnitt vor, daher wird gruppiert\n",
    "\n",
    "# 7sec\n",
    "gruppiert = wiktionary_templates.groupby(['section_id2','template'])\n",
    "\n",
    "wiktionary_templates = gruppiert.agg(\n",
    "\n",
    "    count      = ('lenp', 'count'),         \n",
    "    lenp_min   = ('lenp', 'min'),  \n",
    "    lenp_max   = ('lenp', 'max'),       \n",
    "            \n",
    ").reset_index()"
   ]
  },
  {
   "cell_type": "code",
   "execution_count": 23,
   "metadata": {},
   "outputs": [
    {
     "name": "stdout",
     "output_type": "stream",
     "text": [
      "8 rows out of 8892381\n"
     ]
    },
    {
     "data": {
      "text/html": [
       "\n",
       "        <iframe\n",
       "            width=\"100%\"\n",
       "            height=\"475\"\n",
       "            src=\"http://pop-os:40000/dtale/iframe/2\"\n",
       "            frameborder=\"0\"\n",
       "            allowfullscreen\n",
       "            \n",
       "        ></iframe>\n",
       "        "
      ],
      "text/plain": [
       "<IPython.lib.display.IFrame at 0x7f72d6644ee0>"
      ]
     },
     "metadata": {},
     "output_type": "display_data"
    },
    {
     "data": {
      "text/plain": []
     },
     "execution_count": 23,
     "metadata": {},
     "output_type": "execute_result"
    },
    {
     "name": "stdout",
     "output_type": "stream",
     "text": [
      "time: 12.3 s\n"
     ]
    }
   ],
   "source": [
    "grid(wiktionary_templates, pak.sample)"
   ]
  },
  {
   "cell_type": "code",
   "execution_count": 24,
   "metadata": {},
   "outputs": [
    {
     "name": "stdout",
     "output_type": "stream",
     "text": [
      "time: 14.9 s\n"
     ]
    }
   ],
   "source": [
    "# Sparsame Datentypen\n",
    "wiktionary_templates = pak.change_datatype(wiktionary_templates)\n",
    "#pak.analyse_cols(wiktionary_templates)"
   ]
  },
  {
   "cell_type": "markdown",
   "metadata": {},
   "source": [
    "## wiktionary_templates belöschen"
   ]
  },
  {
   "cell_type": "code",
   "execution_count": 25,
   "metadata": {},
   "outputs": [
    {
     "name": "stdout",
     "output_type": "stream",
     "text": [
      "time: 35.6 ms\n"
     ]
    }
   ],
   "source": [
    "# Speicher freimachen\n",
    "#if 'all' in version:\n",
    "#    del wiktionary"
   ]
  },
  {
   "cell_type": "code",
   "execution_count": 26,
   "metadata": {},
   "outputs": [
    {
     "name": "stdout",
     "output_type": "stream",
     "text": [
      "time: 33.8 ms\n"
     ]
    }
   ],
   "source": [
    "# Uninteressante Templates\n",
    "templates0 =  ['Ü','K','Worttrennung','Aussprache','Sprache','Anmerkung','Reime'] \n",
    "templates0 += ['Übersetzungen','Ü-Tabelle','Referenzen','Quellen','IPA','Audio','Lautschrift','Hörbeispiele'] \n",
    "templates0 += ['ugs.','va.','landsch.','übertr.','abw.','trans.','intrans.','geh.','scherzh.','refl.','fachspr.','fam.']\n",
    "templates0 += ['südd.','nordd.','österr.','schweiz.','vatd.','gmh.','goh.','lat.','ahd.','Üxx4','Hebr','CH&LI','fro.']\n",
    "templates0 += ['mhd.','grc.','Polytonisch','Lautschrift?','Wort des Jahres']\n",
    "templates0 += ['Sg.','Sg.1','Sg.2','Pl.','Pl.1','Pl.2','Pl.3','kPl.','Komp.','Sup.','Prät.','Part.','Gen.','Dat.','Akk.',]\n",
    "templates0 += ['Beispiele fehlen','Literatur','Referenzen prüfen','Absatz']\n",
    "templates0 += ['Wikipedia','Wikiquote','Wikipedia-Suche','Wikisource','Commons','Wikisource-Suche']\n",
    "templates0 += ['Anmerkungen','Per-Deutsche Welle','Abschnitte fehlen','Dativ-e','Bekannte Namensträger','Fremdaffixe (Deutsch)']\n",
    "templates0 += ['Internetquelle','Anmerkung scht','erweitern','überarbeiten','Wörter des Jahres']"
   ]
  },
  {
   "cell_type": "code",
   "execution_count": 27,
   "metadata": {},
   "outputs": [
    {
     "name": "stdout",
     "output_type": "stream",
     "text": [
      "time: 59.5 ms\n"
     ]
    },
    {
     "data": {
      "text/plain": [
       "\u001b[0;31mSignature:\u001b[0m \u001b[0mshow_stats\u001b[0m\u001b[0;34m(\u001b[0m\u001b[0mwiktionary_templates\u001b[0m\u001b[0;34m,\u001b[0m \u001b[0mfilter_templates\u001b[0m\u001b[0;34m,\u001b[0m \u001b[0mmatch_substring\u001b[0m\u001b[0;34m=\u001b[0m\u001b[0;32mFalse\u001b[0m\u001b[0;34m)\u001b[0m\u001b[0;34m\u001b[0m\u001b[0;34m\u001b[0m\u001b[0m\n",
       "\u001b[0;31mDocstring:\u001b[0m\n",
       "Zeigt gruppierte Daten zur Verwendung der Templates im Wiktionary.\n",
       "* wiktionary_templates: die gleichnamige Tabelle\n",
       "* filter_templates:     Nur Templates, die in dieser Liste sind werden ausgewertet\n",
       "* match_substring:      Reicht in filter_templates der Anfang des Namens?\n",
       "\n",
       "Liefert folgende Daten für jedes Template:\n",
       "* lenp_min:     mittleres Minimum der Parameterlänge\n",
       "* lenp_max:     mittleres Maximum der Parameterlänge\n",
       "* count:        mittlere Häufigkeit pro Abschnitt  \n",
       "* section_id2:  Einige Beispiele, wo das Template vorkommt\n",
       "* häufigkeit:   Gesamthäufigkeit des Templates im ganzen Wiktionary\n",
       "\u001b[0;31mFile:\u001b[0m      /tmp/ipykernel_113877/68428.py\n",
       "\u001b[0;31mType:\u001b[0m      function\n"
      ]
     },
     "metadata": {},
     "output_type": "display_data"
    }
   ],
   "source": [
    "?show_stats"
   ]
  },
  {
   "cell_type": "code",
   "execution_count": 28,
   "metadata": {},
   "outputs": [
    {
     "name": "stdout",
     "output_type": "stream",
     "text": [
      "76 rows\n"
     ]
    },
    {
     "data": {
      "text/html": [
       "\n",
       "        <iframe\n",
       "            width=\"100%\"\n",
       "            height=\"475\"\n",
       "            src=\"http://pop-os:40000/dtale/iframe/3\"\n",
       "            frameborder=\"0\"\n",
       "            allowfullscreen\n",
       "            \n",
       "        ></iframe>\n",
       "        "
      ],
      "text/plain": [
       "<IPython.lib.display.IFrame at 0x7f7461b46f70>"
      ]
     },
     "metadata": {},
     "output_type": "display_data"
    },
    {
     "data": {
      "text/plain": []
     },
     "execution_count": 28,
     "metadata": {},
     "output_type": "execute_result"
    },
    {
     "name": "stdout",
     "output_type": "stream",
     "text": [
      "time: 11.1 s\n"
     ]
    }
   ],
   "source": [
    "# Uninteressante Templates\n",
    "df = show_stats(wiktionary_templates, templates0)\n",
    "grid(df)"
   ]
  },
  {
   "cell_type": "code",
   "execution_count": 29,
   "metadata": {},
   "outputs": [
    {
     "name": "stdout",
     "output_type": "stream",
     "text": [
      "time: 1.36 s\n"
     ]
    }
   ],
   "source": [
    "# belöschen\n",
    "mask = wiktionary_templates.template.isin(templates0)\n",
    "wiktionary_templates = pak.drop_rows(wiktionary_templates, mask)"
   ]
  },
  {
   "cell_type": "code",
   "execution_count": 30,
   "metadata": {},
   "outputs": [
    {
     "name": "stdout",
     "output_type": "stream",
     "text": [
      "time: 402 ms\n"
     ]
    }
   ],
   "source": [
    "# reset_index\n",
    "wiktionary_templates = pak.reset_index(wiktionary_templates)"
   ]
  },
  {
   "cell_type": "code",
   "execution_count": 31,
   "metadata": {},
   "outputs": [
    {
     "name": "stdout",
     "output_type": "stream",
     "text": [
      "9 rows out of 3112198\n"
     ]
    },
    {
     "data": {
      "text/html": [
       "\n",
       "        <iframe\n",
       "            width=\"100%\"\n",
       "            height=\"475\"\n",
       "            src=\"http://pop-os:40000/dtale/iframe/4\"\n",
       "            frameborder=\"0\"\n",
       "            allowfullscreen\n",
       "            \n",
       "        ></iframe>\n",
       "        "
      ],
      "text/plain": [
       "<IPython.lib.display.IFrame at 0x7f72d6c4d5e0>"
      ]
     },
     "metadata": {},
     "output_type": "display_data"
    },
    {
     "data": {
      "text/plain": []
     },
     "execution_count": 31,
     "metadata": {},
     "output_type": "execute_result"
    },
    {
     "name": "stdout",
     "output_type": "stream",
     "text": [
      "time: 6.4 s\n"
     ]
    }
   ],
   "source": [
    "grid(wiktionary_templates, pak.sample)"
   ]
  },
  {
   "cell_type": "markdown",
   "metadata": {},
   "source": [
    "## Speichern"
   ]
  },
  {
   "cell_type": "code",
   "execution_count": 32,
   "metadata": {},
   "outputs": [
    {
     "name": "stdout",
     "output_type": "stream",
     "text": [
      "time: 1.31 s\n"
     ]
    }
   ],
   "source": [
    "# Speichern\n",
    "if wiktionary_templates_filename:\n",
    "    bpy.speichern(wiktionary_templates, wiktionary_templates_filename) "
   ]
  },
  {
   "cell_type": "code",
   "execution_count": null,
   "metadata": {
    "colab": {
     "base_uri": "https://localhost:8080/"
    },
    "executionInfo": {
     "elapsed": 7425,
     "status": "ok",
     "timestamp": 1676479015113,
     "user": {
      "displayName": "Hups Hopsalla",
      "userId": "10020718461385065661"
     },
     "user_tz": -60
    },
    "id": "dbiDceKXyUx7",
    "outputId": "beb0cf2a-bc86-47c4-81e6-b11c7354957c"
   },
   "outputs": [],
   "source": [
    "# Save in Google Drive\n",
    "if environment['in_colab']:\n",
    "    from google.colab import drive\n",
    "    drive.mount('/content/drive') \n",
    "    !cd /content\n",
    "    !cp -av {verzeichnis_save} /content/drive/MyDrive"
   ]
  },
  {
   "cell_type": "code",
   "execution_count": 33,
   "metadata": {},
   "outputs": [
    {
     "data": {
      "text/html": [
       "<div>\n",
       "<style scoped>\n",
       "    .dataframe tbody tr th:only-of-type {\n",
       "        vertical-align: middle;\n",
       "    }\n",
       "\n",
       "    .dataframe tbody tr th {\n",
       "        vertical-align: top;\n",
       "    }\n",
       "\n",
       "    .dataframe thead th {\n",
       "        text-align: right;\n",
       "    }\n",
       "</style>\n",
       "<table border=\"1\" class=\"dataframe\">\n",
       "  <thead>\n",
       "    <tr style=\"text-align: right;\">\n",
       "      <th></th>\n",
       "      <th>name</th>\n",
       "      <th>rtype</th>\n",
       "      <th>size</th>\n",
       "    </tr>\n",
       "  </thead>\n",
       "  <tbody>\n",
       "    <tr>\n",
       "      <th>0</th>\n",
       "      <td>wiktionary</td>\n",
       "      <td>(DataFrame, Series)</td>\n",
       "      <td>2.8 GB</td>\n",
       "    </tr>\n",
       "    <tr>\n",
       "      <th>1</th>\n",
       "      <td>wiktionary_templates</td>\n",
       "      <td>(DataFrame, Series)</td>\n",
       "      <td>475.3 MB</td>\n",
       "    </tr>\n",
       "    <tr>\n",
       "      <th>2</th>\n",
       "      <td>mask</td>\n",
       "      <td>(Series, bool)</td>\n",
       "      <td>8.5 MB</td>\n",
       "    </tr>\n",
       "    <tr>\n",
       "      <th>3</th>\n",
       "      <td>testzeile</td>\n",
       "      <td>(Series, int32)</td>\n",
       "      <td>344.8 KB</td>\n",
       "    </tr>\n",
       "    <tr>\n",
       "      <th>4</th>\n",
       "      <td>translate_tag</td>\n",
       "      <td>(DataFrame, Series)</td>\n",
       "      <td>37.1 KB</td>\n",
       "    </tr>\n",
       "    <tr>\n",
       "      <th>5</th>\n",
       "      <td>translate_tagZ</td>\n",
       "      <td>(DataFrame, Series)</td>\n",
       "      <td>20.9 KB</td>\n",
       "    </tr>\n",
       "    <tr>\n",
       "      <th>6</th>\n",
       "      <td>df</td>\n",
       "      <td>(DataFrame, Series)</td>\n",
       "      <td>14.4 KB</td>\n",
       "    </tr>\n",
       "    <tr>\n",
       "      <th>7</th>\n",
       "      <td>_21</td>\n",
       "      <td>(DataFrame, Series)</td>\n",
       "      <td>9.4 KB</td>\n",
       "    </tr>\n",
       "    <tr>\n",
       "      <th>8</th>\n",
       "      <td>_i6</td>\n",
       "      <td>(str,)</td>\n",
       "      <td>4.0 KB</td>\n",
       "    </tr>\n",
       "    <tr>\n",
       "      <th>9</th>\n",
       "      <td>_i5</td>\n",
       "      <td>(str,)</td>\n",
       "      <td>2.5 KB</td>\n",
       "    </tr>\n",
       "  </tbody>\n",
       "</table>\n",
       "</div>"
      ],
      "text/plain": [
       "                   name                rtype      size\n",
       "0            wiktionary  (DataFrame, Series)    2.8 GB\n",
       "1  wiktionary_templates  (DataFrame, Series)  475.3 MB\n",
       "2                  mask       (Series, bool)    8.5 MB\n",
       "3             testzeile      (Series, int32)  344.8 KB\n",
       "4         translate_tag  (DataFrame, Series)   37.1 KB\n",
       "5        translate_tagZ  (DataFrame, Series)   20.9 KB\n",
       "6                    df  (DataFrame, Series)   14.4 KB\n",
       "7                   _21  (DataFrame, Series)    9.4 KB\n",
       "8                   _i6               (str,)    4.0 KB\n",
       "9                   _i5               (str,)    2.5 KB"
      ]
     },
     "execution_count": 33,
     "metadata": {},
     "output_type": "execute_result"
    },
    {
     "name": "stdout",
     "output_type": "stream",
     "text": [
      "time: 47.3 s\n"
     ]
    }
   ],
   "source": [
    "pak.memory_consumption(locals())"
   ]
  },
  {
   "cell_type": "markdown",
   "metadata": {},
   "source": [
    "## Pläne überprüfen"
   ]
  },
  {
   "cell_type": "code",
   "execution_count": 34,
   "metadata": {},
   "outputs": [
    {
     "data": {
      "text/markdown": [
       "* definiert in Steuertabellen/s01_Steuertabellen.py\n",
       "* `merkmal`: Name des Merkmals\n",
       "* `template`: Name des Mediawiki-Templates, das diese Information enthält\n",
       "* `collect`: Extractionsmethode\n",
       "   * L extrahiert nur Links \n",
       "   * T extrahiert komplette Text-Absätze\n",
       "   * Ü extrahiert Übersetzungen\n",
       "   * P extrahiert Template-Parameter (Substring reicht)\n",
       "   * E checkt nur auf Existenz\n",
       "* `plan`:\n",
       "   * 1: die Merkmale, die in wiktionary_merkmal gespeichert werden\n",
       "   * 2: die Merkmale, die in wiktionary_merkmal_text gespeichert werden   \n",
       "   * 3: Reihenfolge und Liste aller Merkmale aus flexion / übersicht <br>\n",
       "        sowie die Merkmale aus named_entities und lexeme_manuell\n",
       "* `sort`: Irgendwas zum Sortieren der Merkmale\n",
       "* `is_lex`: Ist das Merkmal ein Lexem?    "
      ],
      "text/plain": [
       "<IPython.core.display.Markdown object>"
      ]
     },
     "metadata": {},
     "output_type": "display_data"
    },
    {
     "name": "stdout",
     "output_type": "stream",
     "text": [
      "time: 34.4 ms\n"
     ]
    }
   ],
   "source": [
    "blab.render_doc(plan_merkmal_erstellen)"
   ]
  },
  {
   "cell_type": "code",
   "execution_count": 35,
   "metadata": {},
   "outputs": [
    {
     "name": "stdout",
     "output_type": "stream",
     "text": [
      "102 rows\n"
     ]
    },
    {
     "data": {
      "text/html": [
       "\n",
       "        <iframe\n",
       "            width=\"100%\"\n",
       "            height=\"475\"\n",
       "            src=\"http://pop-os:40000/dtale/iframe/5\"\n",
       "            frameborder=\"0\"\n",
       "            allowfullscreen\n",
       "            \n",
       "        ></iframe>\n",
       "        "
      ],
      "text/plain": [
       "<IPython.lib.display.IFrame at 0x7f73a3891250>"
      ]
     },
     "metadata": {},
     "output_type": "display_data"
    },
    {
     "data": {
      "text/plain": []
     },
     "execution_count": 35,
     "metadata": {},
     "output_type": "execute_result"
    },
    {
     "name": "stdout",
     "output_type": "stream",
     "text": [
      "time: 108 ms\n"
     ]
    }
   ],
   "source": [
    "# Steuertabelle\n",
    "plan_merkmal = plan_merkmal_erstellen()\n",
    "grid(plan_merkmal)"
   ]
  },
  {
   "cell_type": "code",
   "execution_count": 36,
   "metadata": {},
   "outputs": [
    {
     "data": {
      "text/plain": [
       "['E', 'P', 'L', 'Ü', 'T', '']"
      ]
     },
     "execution_count": 36,
     "metadata": {},
     "output_type": "execute_result"
    },
    {
     "name": "stdout",
     "output_type": "stream",
     "text": [
      "time: 39 ms\n"
     ]
    }
   ],
   "source": [
    "# Alle Extraktionsmethoden\n",
    "list(plan_merkmal.collect.unique())"
   ]
  },
  {
   "cell_type": "code",
   "execution_count": 37,
   "metadata": {},
   "outputs": [
    {
     "name": "stdout",
     "output_type": "stream",
     "text": [
      "6 rows\n"
     ]
    },
    {
     "data": {
      "text/html": [
       "\n",
       "        <iframe\n",
       "            width=\"100%\"\n",
       "            height=\"475\"\n",
       "            src=\"http://pop-os:40000/dtale/iframe/6\"\n",
       "            frameborder=\"0\"\n",
       "            allowfullscreen\n",
       "            \n",
       "        ></iframe>\n",
       "        "
      ],
      "text/plain": [
       "<IPython.lib.display.IFrame at 0x7f72d6644fd0>"
      ]
     },
     "metadata": {},
     "output_type": "display_data"
    },
    {
     "data": {
      "text/plain": []
     },
     "execution_count": 37,
     "metadata": {},
     "output_type": "execute_result"
    },
    {
     "name": "stdout",
     "output_type": "stream",
     "text": [
      "time: 1.2 s\n"
     ]
    }
   ],
   "source": [
    "# Templates, deren Text eingesammelt wird\n",
    "mask = (plan_merkmal.collect == 'T')\n",
    "df = show_stats(wiktionary_templates, list(plan_merkmal[mask].template) )\n",
    "grid(df)"
   ]
  },
  {
   "cell_type": "code",
   "execution_count": 38,
   "metadata": {},
   "outputs": [
    {
     "name": "stdout",
     "output_type": "stream",
     "text": [
      "25 rows\n"
     ]
    },
    {
     "data": {
      "text/html": [
       "\n",
       "        <iframe\n",
       "            width=\"100%\"\n",
       "            height=\"475\"\n",
       "            src=\"http://pop-os:40000/dtale/iframe/7\"\n",
       "            frameborder=\"0\"\n",
       "            allowfullscreen\n",
       "            \n",
       "        ></iframe>\n",
       "        "
      ],
      "text/plain": [
       "<IPython.lib.display.IFrame at 0x7f72d6c4d0d0>"
      ]
     },
     "metadata": {},
     "output_type": "display_data"
    },
    {
     "data": {
      "text/plain": []
     },
     "execution_count": 38,
     "metadata": {},
     "output_type": "execute_result"
    },
    {
     "name": "stdout",
     "output_type": "stream",
     "text": [
      "time: 3.09 s\n"
     ]
    }
   ],
   "source": [
    "# Templates, deren Links eingesammelt werden\n",
    "mask = (plan_merkmal.collect == 'L')\n",
    "df = show_stats(wiktionary_templates, list(plan_merkmal[mask].template) )\n",
    "grid(df)"
   ]
  },
  {
   "cell_type": "code",
   "execution_count": 39,
   "metadata": {},
   "outputs": [
    {
     "name": "stdout",
     "output_type": "stream",
     "text": [
      "1 rows\n"
     ]
    },
    {
     "data": {
      "text/html": [
       "\n",
       "        <iframe\n",
       "            width=\"100%\"\n",
       "            height=\"475\"\n",
       "            src=\"http://pop-os:40000/dtale/iframe/8\"\n",
       "            frameborder=\"0\"\n",
       "            allowfullscreen\n",
       "            \n",
       "        ></iframe>\n",
       "        "
      ],
      "text/plain": [
       "<IPython.lib.display.IFrame at 0x7f72d6c53e80>"
      ]
     },
     "metadata": {},
     "output_type": "display_data"
    },
    {
     "data": {
      "text/plain": []
     },
     "execution_count": 39,
     "metadata": {},
     "output_type": "execute_result"
    },
    {
     "name": "stdout",
     "output_type": "stream",
     "text": [
      "time: 557 ms\n"
     ]
    }
   ],
   "source": [
    "# Templates, deren Übersetzungen eingesammelt werden\n",
    "mask = (plan_merkmal.collect == 'Ü')\n",
    "df = show_stats(wiktionary_templates, list(plan_merkmal[mask].template) )\n",
    "grid(df)"
   ]
  },
  {
   "cell_type": "code",
   "execution_count": 40,
   "metadata": {},
   "outputs": [
    {
     "name": "stdout",
     "output_type": "stream",
     "text": [
      "2 rows\n"
     ]
    },
    {
     "data": {
      "text/html": [
       "\n",
       "        <iframe\n",
       "            width=\"100%\"\n",
       "            height=\"475\"\n",
       "            src=\"http://pop-os:40000/dtale/iframe/9\"\n",
       "            frameborder=\"0\"\n",
       "            allowfullscreen\n",
       "            \n",
       "        ></iframe>\n",
       "        "
      ],
      "text/plain": [
       "<IPython.lib.display.IFrame at 0x7f72d6c81160>"
      ]
     },
     "metadata": {},
     "output_type": "display_data"
    },
    {
     "data": {
      "text/plain": []
     },
     "execution_count": 40,
     "metadata": {},
     "output_type": "execute_result"
    },
    {
     "name": "stdout",
     "output_type": "stream",
     "text": [
      "time: 304 ms\n"
     ]
    }
   ],
   "source": [
    "# Templates, deren Parameter eingesammelt werden\n",
    "mask = (plan_merkmal.collect == 'P')\n",
    "df = show_stats(wiktionary_templates, list(plan_merkmal[mask].template) )\n",
    "grid(df)"
   ]
  },
  {
   "cell_type": "code",
   "execution_count": 41,
   "metadata": {},
   "outputs": [
    {
     "name": "stdout",
     "output_type": "stream",
     "text": [
      "9 rows\n"
     ]
    },
    {
     "data": {
      "text/html": [
       "\n",
       "        <iframe\n",
       "            width=\"100%\"\n",
       "            height=\"475\"\n",
       "            src=\"http://pop-os:40000/dtale/iframe/10\"\n",
       "            frameborder=\"0\"\n",
       "            allowfullscreen\n",
       "            \n",
       "        ></iframe>\n",
       "        "
      ],
      "text/plain": [
       "<IPython.lib.display.IFrame at 0x7f72d6644fd0>"
      ]
     },
     "metadata": {},
     "output_type": "display_data"
    },
    {
     "data": {
      "text/plain": []
     },
     "execution_count": 41,
     "metadata": {},
     "output_type": "execute_result"
    },
    {
     "name": "stdout",
     "output_type": "stream",
     "text": [
      "time: 280 ms\n"
     ]
    }
   ],
   "source": [
    "# Templates, deren Existenz gecheckt wird\n",
    "mask = (plan_merkmal.collect == 'E')\n",
    "df = show_stats(wiktionary_templates, list(plan_merkmal[mask].template)).sort_values('häufigkeit', ascending=False)\n",
    "grid(df)"
   ]
  },
  {
   "cell_type": "markdown",
   "metadata": {},
   "source": [
    "## Templates finden, die noch ausgewertet werden könnten"
   ]
  },
  {
   "cell_type": "code",
   "execution_count": 42,
   "metadata": {},
   "outputs": [
    {
     "name": "stdout",
     "output_type": "stream",
     "text": [
      "time: 37.6 ms\n"
     ]
    }
   ],
   "source": [
    "# Templates, die eine Gruppe mit gemeinsamen Oberbegriff kennzeichnen\n",
    "templates1 =  ['Monate (Deutsch)','Wochentage (Deutsch)','Staaten Europa (Deutsch)','Verwandte (Deutsch)','Bundesstaaten der USA']\n",
    "templates1 += ['Elemente','Periodensystem','Zahlensystem (Deutsch)','Planeten','Staaten Afrika (Deutsch)','Staaten Asien (Deutsch)']\n",
    "\n",
    "# Templates, die noch nicht ausgelesen werden / werden können\n",
    "templates2 =  ['Symbole','Reim'] # 'Wortart'\n",
    "    \n",
    "# Templates, die derzeit nicht interessante Informationen liefern\n",
    "templates3 =  ['Entlehnungen']\n",
    "\n",
    "known_templates = templates0 + templates1 + templates2 + templates3 + list(plan_merkmal.template)\n",
    "#known_templates"
   ]
  },
  {
   "cell_type": "code",
   "execution_count": 43,
   "metadata": {},
   "outputs": [
    {
     "name": "stdout",
     "output_type": "stream",
     "text": [
      "1 rows\n"
     ]
    },
    {
     "data": {
      "text/html": [
       "\n",
       "        <iframe\n",
       "            width=\"100%\"\n",
       "            height=\"475\"\n",
       "            src=\"http://pop-os:40000/dtale/iframe/11\"\n",
       "            frameborder=\"0\"\n",
       "            allowfullscreen\n",
       "            \n",
       "        ></iframe>\n",
       "        "
      ],
      "text/plain": [
       "<IPython.lib.display.IFrame at 0x7f723b7d1940>"
      ]
     },
     "metadata": {},
     "output_type": "display_data"
    },
    {
     "data": {
      "text/plain": []
     },
     "execution_count": 43,
     "metadata": {},
     "output_type": "execute_result"
    },
    {
     "name": "stdout",
     "output_type": "stream",
     "text": [
      "time: 183 ms\n"
     ]
    }
   ],
   "source": [
    "# show_stats (templates1 .. templates4 manuell durchschauen!)\n",
    "df = show_stats(wiktionary_templates, templates3 )\n",
    "grid(df)"
   ]
  },
  {
   "cell_type": "code",
   "execution_count": 63,
   "metadata": {},
   "outputs": [
    {
     "name": "stdout",
     "output_type": "stream",
     "text": [
      "time: 1.06 s\n"
     ]
    }
   ],
   "source": [
    "# restliche\n",
    "df = pak.analyse_freqs( wiktionary_templates, 'template')\n",
    "mask1 = ~df.template.isin(known_templates)   \n",
    "mask2 = ~df.template.str.startswith(  ('Grundformverweis','Ref-','Lit-','QS','Ähnlichkeiten')  )\n",
    "mask3 = ~df.template.str.endswith(    ('Übersicht','Übersicht m','Übersicht f','Übersicht -sch')  )\n",
    "restliche = list(df[mask1  &  mask2  &  mask3 ].template)\n",
    "#restliche"
   ]
  },
  {
   "cell_type": "code",
   "execution_count": 64,
   "metadata": {},
   "outputs": [
    {
     "data": {
      "text/html": [
       "<img src onerror=\"var cell = this.closest('.jp-CodeCell');var editor = cell.querySelector('.jp-Editor');editor.style.background='gold';this.parentNode.removeChild(this)\">"
      ],
      "text/plain": [
       "<IPython.core.display.HTML object>"
      ]
     },
     "metadata": {},
     "output_type": "display_data"
    },
    {
     "name": "stdout",
     "output_type": "stream",
     "text": [
      "197 rows\n"
     ]
    },
    {
     "data": {
      "text/html": [
       "\n",
       "        <iframe\n",
       "            width=\"100%\"\n",
       "            height=\"475\"\n",
       "            src=\"http://pop-os:40000/dtale/iframe/16\"\n",
       "            frameborder=\"0\"\n",
       "            allowfullscreen\n",
       "            \n",
       "        ></iframe>\n",
       "        "
      ],
      "text/plain": [
       "<IPython.lib.display.IFrame at 0x7f72d6c60760>"
      ]
     },
     "metadata": {},
     "output_type": "display_data"
    },
    {
     "data": {
      "text/plain": []
     },
     "execution_count": 64,
     "metadata": {},
     "output_type": "execute_result"
    },
    {
     "name": "stdout",
     "output_type": "stream",
     "text": [
      "time: 417 ms\n"
     ]
    }
   ],
   "source": [
    "# Kandidaten für Templates, die man noch auswerten könnte\n",
    "# show_stats \n",
    "df = show_stats(wiktionary_templates, restliche ).sort_values('häufigkeit', ascending=False)\n",
    "bgc('gold')\n",
    "grid(df)"
   ]
  },
  {
   "cell_type": "markdown",
   "metadata": {},
   "source": [
    "## Probeweises extract für ungenutzte Templates"
   ]
  },
  {
   "cell_type": "code",
   "execution_count": 46,
   "metadata": {},
   "outputs": [
    {
     "name": "stdout",
     "output_type": "stream",
     "text": [
      "time: 60.2 ms\n"
     ]
    }
   ],
   "source": [
    "# Parameter\n",
    "templatename     = 'Reim'\n",
    "collectmethode   = 'P'"
   ]
  },
  {
   "cell_type": "code",
   "execution_count": 47,
   "metadata": {},
   "outputs": [
    {
     "name": "stdout",
     "output_type": "stream",
     "text": [
      "beispiellemma = zornigsten\n"
     ]
    },
    {
     "data": {
      "text/html": [
       "<div>\n",
       "<style scoped>\n",
       "    .dataframe tbody tr th:only-of-type {\n",
       "        vertical-align: middle;\n",
       "    }\n",
       "\n",
       "    .dataframe tbody tr th {\n",
       "        vertical-align: top;\n",
       "    }\n",
       "\n",
       "    .dataframe thead th {\n",
       "        text-align: right;\n",
       "    }\n",
       "</style>\n",
       "<table border=\"1\" class=\"dataframe\">\n",
       "  <thead>\n",
       "    <tr style=\"text-align: right;\">\n",
       "      <th></th>\n",
       "      <th>section_id2</th>\n",
       "      <th>template</th>\n",
       "      <th>count</th>\n",
       "      <th>lenp_min</th>\n",
       "      <th>lenp_max</th>\n",
       "    </tr>\n",
       "  </thead>\n",
       "  <tbody>\n",
       "    <tr>\n",
       "      <th>317619</th>\n",
       "      <td>Enquete</td>\n",
       "      <td>Reim</td>\n",
       "      <td>5</td>\n",
       "      <td>2</td>\n",
       "      <td>2</td>\n",
       "    </tr>\n",
       "    <tr>\n",
       "      <th>3023550</th>\n",
       "      <td>zornigsten</td>\n",
       "      <td>Reim</td>\n",
       "      <td>4</td>\n",
       "      <td>2</td>\n",
       "      <td>2</td>\n",
       "    </tr>\n",
       "    <tr>\n",
       "      <th>2024780</th>\n",
       "      <td>genächtigt</td>\n",
       "      <td>Reim</td>\n",
       "      <td>4</td>\n",
       "      <td>2</td>\n",
       "      <td>2</td>\n",
       "    </tr>\n",
       "  </tbody>\n",
       "</table>\n",
       "</div>"
      ],
      "text/plain": [
       "        section_id2 template  count  lenp_min  lenp_max\n",
       "317619      Enquete     Reim      5         2         2\n",
       "3023550  zornigsten     Reim      4         2         2\n",
       "2024780  genächtigt     Reim      4         2         2"
      ]
     },
     "execution_count": 47,
     "metadata": {},
     "output_type": "execute_result"
    },
    {
     "name": "stdout",
     "output_type": "stream",
     "text": [
      "time: 420 ms\n"
     ]
    }
   ],
   "source": [
    "# Section finden, welches ein bestimmtes Template enthalten\n",
    "mask = wiktionary_templates.template == templatename\n",
    "df = wiktionary_templates[mask].sort_values('count',ascending=False)\n",
    "beispiellemma = df.iloc[1].section_id2\n",
    "print('beispiellemma =', beispiellemma)\n",
    "df.head(3)"
   ]
  },
  {
   "cell_type": "code",
   "execution_count": 48,
   "metadata": {},
   "outputs": [
    {
     "data": {
      "text/html": [
       "<div>\n",
       "<style scoped>\n",
       "    .dataframe tbody tr th:only-of-type {\n",
       "        vertical-align: middle;\n",
       "    }\n",
       "\n",
       "    .dataframe tbody tr th {\n",
       "        vertical-align: top;\n",
       "    }\n",
       "\n",
       "    .dataframe thead th {\n",
       "        text-align: right;\n",
       "    }\n",
       "</style>\n",
       "<table border=\"1\" class=\"dataframe\">\n",
       "  <thead>\n",
       "    <tr style=\"text-align: right;\">\n",
       "      <th></th>\n",
       "      <th>template</th>\n",
       "      <th>collect</th>\n",
       "      <th>merkmal</th>\n",
       "    </tr>\n",
       "  </thead>\n",
       "  <tbody>\n",
       "    <tr>\n",
       "      <th>0</th>\n",
       "      <td>Reim</td>\n",
       "      <td>P</td>\n",
       "      <td>TEST</td>\n",
       "    </tr>\n",
       "  </tbody>\n",
       "</table>\n",
       "</div>"
      ],
      "text/plain": [
       "  template collect merkmal\n",
       "0     Reim       P    TEST"
      ]
     },
     "execution_count": 48,
     "metadata": {},
     "output_type": "execute_result"
    },
    {
     "name": "stdout",
     "output_type": "stream",
     "text": [
      "time: 61.4 ms\n"
     ]
    }
   ],
   "source": [
    "# plan für Testzwecke\n",
    "plan = pak.dataframe({'template':templatename, 'collect':collectmethode,'merkmal':'TEST'})\n",
    "plan"
   ]
  },
  {
   "cell_type": "code",
   "execution_count": 49,
   "metadata": {},
   "outputs": [
    {
     "data": {
      "text/html": [
       "<div>\n",
       "<style scoped>\n",
       "    .dataframe tbody tr th:only-of-type {\n",
       "        vertical-align: middle;\n",
       "    }\n",
       "\n",
       "    .dataframe tbody tr th {\n",
       "        vertical-align: top;\n",
       "    }\n",
       "\n",
       "    .dataframe thead th {\n",
       "        text-align: right;\n",
       "    }\n",
       "</style>\n",
       "<table border=\"1\" class=\"dataframe\">\n",
       "  <thead>\n",
       "    <tr style=\"text-align: right;\">\n",
       "      <th></th>\n",
       "      <th>node_debug</th>\n",
       "      <th>node_kontext</th>\n",
       "      <th>node_text</th>\n",
       "      <th>section_id</th>\n",
       "      <th>section_id2</th>\n",
       "      <th>merkmal</th>\n",
       "    </tr>\n",
       "  </thead>\n",
       "  <tbody>\n",
       "    <tr>\n",
       "      <th>0</th>\n",
       "      <td>Reim</td>\n",
       "      <td>1</td>\n",
       "      <td>ɔʁnɪçstn̩</td>\n",
       "      <td>32251200</td>\n",
       "      <td>zornigsten</td>\n",
       "      <td>TEST</td>\n",
       "    </tr>\n",
       "    <tr>\n",
       "      <th>1</th>\n",
       "      <td>Reim</td>\n",
       "      <td>2</td>\n",
       "      <td>Deutsch</td>\n",
       "      <td>32251200</td>\n",
       "      <td>zornigsten</td>\n",
       "      <td>TEST</td>\n",
       "    </tr>\n",
       "  </tbody>\n",
       "</table>\n",
       "</div>"
      ],
      "text/plain": [
       "  node_debug node_kontext  node_text  section_id section_id2 merkmal\n",
       "0       Reim            1  ɔʁnɪçstn̩    32251200  zornigsten    TEST\n",
       "1       Reim            2    Deutsch    32251200  zornigsten    TEST"
      ]
     },
     "execution_count": 49,
     "metadata": {},
     "output_type": "execute_result"
    },
    {
     "name": "stdout",
     "output_type": "stream",
     "text": [
      "time: 169 ms\n"
     ]
    }
   ],
   "source": [
    "mask = (wiktionary.section_id2 == beispiellemma)\n",
    "testzeile = wiktionary[mask].iloc[0]\n",
    "#testzeile\n",
    "\n",
    "wikicode = mwparserfromhell.parse(testzeile.wikitext)   \n",
    "\n",
    "df = extract_all(testzeile, plan, step=None )\n",
    "df"
   ]
  },
  {
   "cell_type": "markdown",
   "metadata": {},
   "source": [
    "## wiktionary_merkmal anschauen"
   ]
  },
  {
   "cell_type": "code",
   "execution_count": 50,
   "metadata": {},
   "outputs": [
    {
     "name": "stdout",
     "output_type": "stream",
     "text": [
      "time: 47.4 ms\n"
     ]
    }
   ],
   "source": [
    "# Suche festlegen\n",
    "suche_debug = ['Haus',]"
   ]
  },
  {
   "cell_type": "code",
   "execution_count": 51,
   "metadata": {},
   "outputs": [
    {
     "name": "stdout",
     "output_type": "stream",
     "text": [
      "time: 3.74 s\n"
     ]
    }
   ],
   "source": [
    "# Laden\n",
    "wiktionary_merkmal      = bpy.laden(wiktionary_merkmal_filename)"
   ]
  },
  {
   "cell_type": "code",
   "execution_count": 53,
   "metadata": {},
   "outputs": [
    {
     "name": "stdout",
     "output_type": "stream",
     "text": [
      "13 rows\n"
     ]
    },
    {
     "data": {
      "text/html": [
       "\n",
       "        <iframe\n",
       "            width=\"100%\"\n",
       "            height=\"475\"\n",
       "            src=\"http://pop-os:40000/dtale/iframe/13\"\n",
       "            frameborder=\"0\"\n",
       "            allowfullscreen\n",
       "            \n",
       "        ></iframe>\n",
       "        "
      ],
      "text/plain": [
       "<IPython.lib.display.IFrame at 0x7f73a389f280>"
      ]
     },
     "metadata": {},
     "output_type": "display_data"
    },
    {
     "data": {
      "text/plain": []
     },
     "execution_count": 53,
     "metadata": {},
     "output_type": "execute_result"
    },
    {
     "name": "stdout",
     "output_type": "stream",
     "text": [
      "time: 467 ms\n"
     ]
    }
   ],
   "source": [
    "# wiktionary_merkmal\n",
    "mask = wiktionary.title.isin(suche_debug)\n",
    "suche_section_id2s = wiktionary[mask].section_id2.tolist()\n",
    "mask = wiktionary_merkmal.section_id2.isin(suche_section_id2s)\n",
    "a = pak.analyse_freqs( wiktionary_merkmal[mask], ['merkmal','data'], limits=[999,None])\n",
    "grid(a)"
   ]
  },
  {
   "cell_type": "code",
   "execution_count": 54,
   "metadata": {},
   "outputs": [
    {
     "name": "stdout",
     "output_type": "stream",
     "text": [
      "50 rows\n"
     ]
    },
    {
     "data": {
      "text/html": [
       "\n",
       "        <iframe\n",
       "            width=\"100%\"\n",
       "            height=\"475\"\n",
       "            src=\"http://pop-os:40000/dtale/iframe/14\"\n",
       "            frameborder=\"0\"\n",
       "            allowfullscreen\n",
       "            \n",
       "        ></iframe>\n",
       "        "
      ],
      "text/plain": [
       "<IPython.lib.display.IFrame at 0x7f72c8bc0ca0>"
      ]
     },
     "metadata": {},
     "output_type": "display_data"
    },
    {
     "data": {
      "text/plain": []
     },
     "execution_count": 54,
     "metadata": {},
     "output_type": "execute_result"
    },
    {
     "name": "stdout",
     "output_type": "stream",
     "text": [
      "time: 3.43 s\n"
     ]
    }
   ],
   "source": [
    "mask = (wiktionary_merkmal.node_kontext != '')\n",
    "df = wiktionary_merkmal[mask]\n",
    "a = pak.analyse_freqs( df, ['node_kontext','node_debug'], limits=[50,None] )\n",
    "grid(a)"
   ]
  },
  {
   "cell_type": "markdown",
   "metadata": {},
   "source": [
    "## wiktionary_merkmal_text anschauen"
   ]
  },
  {
   "cell_type": "code",
   "execution_count": 55,
   "metadata": {},
   "outputs": [
    {
     "name": "stdout",
     "output_type": "stream",
     "text": [
      "time: 2.63 s\n"
     ]
    }
   ],
   "source": [
    "# Laden\n",
    "wiktionary_merkmal_text = bpy.laden(wiktionary_merkmal_text_filename)  # Falls vorhanden"
   ]
  },
  {
   "cell_type": "code",
   "execution_count": 56,
   "metadata": {},
   "outputs": [
    {
     "name": "stdout",
     "output_type": "stream",
     "text": [
      "144 rows out of 619794\n"
     ]
    },
    {
     "data": {
      "text/html": [
       "\n",
       "        <iframe\n",
       "            width=\"100%\"\n",
       "            height=\"475\"\n",
       "            src=\"http://pop-os:40000/dtale/iframe/15\"\n",
       "            frameborder=\"0\"\n",
       "            allowfullscreen\n",
       "            \n",
       "        ></iframe>\n",
       "        "
      ],
      "text/plain": [
       "<IPython.lib.display.IFrame at 0x7f732dffa370>"
      ]
     },
     "metadata": {},
     "output_type": "display_data"
    },
    {
     "data": {
      "text/plain": []
     },
     "execution_count": 56,
     "metadata": {},
     "output_type": "execute_result"
    },
    {
     "name": "stdout",
     "output_type": "stream",
     "text": [
      "time: 125 ms\n"
     ]
    }
   ],
   "source": [
    "# wiktionary_merkmal_text\n",
    "mask = wiktionary.title.isin(suche_debug)\n",
    "suche_section_ids = wiktionary[mask].section_id.tolist()\n",
    "mask = wiktionary_merkmal_text.section_id.isin(suche_section_ids)\n",
    "grid(wiktionary_merkmal_text, mask)"
   ]
  }
 ],
 "metadata": {
  "kernelspec": {
   "display_name": "Python 3 (ipykernel)",
   "language": "python",
   "name": "python3"
  },
  "language_info": {
   "codemirror_mode": {
    "name": "ipython",
    "version": 3
   },
   "file_extension": ".py",
   "mimetype": "text/x-python",
   "name": "python",
   "nbconvert_exporter": "python",
   "pygments_lexer": "ipython3",
   "version": "3.9.13"
  }
 },
 "nbformat": 4,
 "nbformat_minor": 4
}
