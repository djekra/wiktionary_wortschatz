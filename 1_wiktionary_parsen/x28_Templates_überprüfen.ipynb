{
 "cells": [
  {
   "cell_type": "markdown",
   "metadata": {
    "id": "lSehjmZun5OP"
   },
   "source": [
    "__[Open and try this file online (Colab)](https://colab.research.google.com/github/djekra/wiktionary_wortschatz/blob/master/1_wiktionary_parsen/x28_Templates_überprüfen.ipynb)__"
   ]
  },
  {
   "cell_type": "markdown",
   "metadata": {},
   "source": [
    "# Templates überprüfen\n",
    "* dient nur zur Kontrolle, ist nicht notwendig zur Erstellung des Wörterbuches\n",
    "* erstellt die Datei wiktionary_templates.pickle\n",
    "* parst dafür wikitext mit mwparserfromhell. "
   ]
  },
  {
   "cell_type": "markdown",
   "metadata": {},
   "source": [
    "## Import"
   ]
  },
  {
   "cell_type": "code",
   "execution_count": 1,
   "metadata": {
    "execution": {
     "iopub.execute_input": "2023-02-20T13:22:31.253028Z",
     "iopub.status.busy": "2023-02-20T13:22:31.252503Z",
     "iopub.status.idle": "2023-02-20T13:22:32.418170Z",
     "shell.execute_reply": "2023-02-20T13:22:32.417527Z",
     "shell.execute_reply.started": "2023-02-20T13:22:31.252922Z"
    }
   },
   "outputs": [
    {
     "name": "stdout",
     "output_type": "stream",
     "text": [
      "blab init\n",
      "environment['in_colab']     = False\n",
      "environment['dropbox_path'] = /home/me/Data_Linux/Dropbox\n",
      "environment['lib_path']     = /home/me/Data_Linux/Dropbox/31_Projekte/01_Python/libs\n",
      "Start Time: 14:22:31\n"
     ]
    },
    {
     "data": {
      "text/html": [
       "<img src onerror=\"var cell = this.closest('.jp-CodeCell');var editor = cell.querySelector('.jp-Editor');editor.style.background='Beige';this.parentNode.removeChild(this)\">"
      ],
      "text/plain": [
       "<IPython.core.display.HTML object>"
      ]
     },
     "metadata": {},
     "output_type": "display_data"
    }
   ],
   "source": [
    "# blab init\n",
    "try:\n",
    "    import blab\n",
    "except ImportError as e:\n",
    "    !pip install blab\n",
    "    import blab    \n",
    "startup_notebook = blab.blab_startup()\n",
    "%run $startup_notebook "
   ]
  },
  {
   "cell_type": "code",
   "execution_count": 2,
   "metadata": {
    "execution": {
     "iopub.execute_input": "2023-02-20T13:22:32.420966Z",
     "iopub.status.busy": "2023-02-20T13:22:32.420556Z",
     "iopub.status.idle": "2023-02-20T13:22:32.878973Z",
     "shell.execute_reply": "2023-02-20T13:22:32.878065Z",
     "shell.execute_reply.started": "2023-02-20T13:22:32.420934Z"
    }
   },
   "outputs": [],
   "source": [
    "# pandas\n",
    "if environment['in_colab']:\n",
    "    !pip install --upgrade pandas\n",
    "import pandas as pd"
   ]
  },
  {
   "cell_type": "code",
   "execution_count": 2,
   "metadata": {},
   "outputs": [
    {
     "name": "stdout",
     "output_type": "stream",
     "text": [
      "time: 5.94 s\n"
     ]
    }
   ],
   "source": [
    "# alle anderen\n",
    "try:\n",
    "    import pandasklar as pak, bj_nlp, mwparserfromhell, swifter, bpyth as bpy\n",
    "\n",
    "except ImportError as e:\n",
    "    !pip install pandasklar bj_nlp mwparserfromhell swifter\n",
    "    import pandasklar as pak, bj_nlp, mwparserfromhell, swifter, bpyth as bpy\n",
    "    \n",
    "grid       = pak.grid\n",
    "check_mask = pak.check_mask      "
   ]
  },
  {
   "cell_type": "markdown",
   "metadata": {},
   "source": [
    "## Einstellungen"
   ]
  },
  {
   "cell_type": "code",
   "execution_count": 4,
   "metadata": {
    "execution": {
     "iopub.execute_input": "2023-02-20T13:22:35.717929Z",
     "iopub.status.busy": "2023-02-20T13:22:35.717399Z",
     "iopub.status.idle": "2023-02-20T13:22:35.747652Z",
     "shell.execute_reply": "2023-02-20T13:22:35.747002Z",
     "shell.execute_reply.started": "2023-02-20T13:22:35.717902Z"
    }
   },
   "outputs": [],
   "source": [
    "# Einstellungen\n",
    "\n",
    "version = '_all'\n",
    "#version = '_short'\n",
    "\n",
    "# Load\n",
    "verzeichnis_load                      = 'data_00'\n",
    "wiktionary_filename                   = verzeichnis_load + '/wiktionary'              + version + '.pickle'  \n",
    "wiktionary_merkmal_filename           = verzeichnis_load + '/wiktionary_merkmal'      + version + '.pickle'  \n",
    "wiktionary_merkmal_text_filename      = verzeichnis_load + '/wiktionary_merkmal_text' + version + '.pickle'  \n",
    "\n",
    "\n",
    "# Save\n",
    "verzeichnis_save                      = 'data_01'\n",
    "wiktionary_templates_filename         = verzeichnis_save + '/wiktionary_templates'    + version + '.pickle'    \n",
    "\n",
    "# Was debuggen?\n",
    "suche_debug = ['Haus',]"
   ]
  },
  {
   "cell_type": "markdown",
   "metadata": {
    "id": "p1lM3YLgn5Ou"
   },
   "source": [
    "## Vorbereiten"
   ]
  },
  {
   "cell_type": "code",
   "execution_count": 5,
   "metadata": {
    "colab": {
     "base_uri": "https://localhost:8080/"
    },
    "execution": {
     "iopub.execute_input": "2023-02-20T13:22:35.751845Z",
     "iopub.status.busy": "2023-02-20T13:22:35.751564Z",
     "iopub.status.idle": "2023-02-20T13:22:35.785901Z",
     "shell.execute_reply": "2023-02-20T13:22:35.784577Z",
     "shell.execute_reply.started": "2023-02-20T13:22:35.751824Z"
    },
    "executionInfo": {
     "elapsed": 13,
     "status": "ok",
     "timestamp": 1676476829076,
     "user": {
      "displayName": "Hups Hopsalla",
      "userId": "10020718461385065661"
     },
     "user_tz": -60
    },
    "id": "Oy4Rb6WZn5Ow",
    "outputId": "6b94d1aa-3ffa-4388-d3f4-53b785e09406"
   },
   "outputs": [],
   "source": [
    "# Verzeichnisse erzeugen\n",
    "os.makedirs(verzeichnis_load, exist_ok=True) \n",
    "os.makedirs(verzeichnis_save, exist_ok=True) "
   ]
  },
  {
   "cell_type": "code",
   "execution_count": 6,
   "metadata": {
    "execution": {
     "iopub.execute_input": "2023-02-20T13:22:35.787224Z",
     "iopub.status.busy": "2023-02-20T13:22:35.786951Z",
     "iopub.status.idle": "2023-02-20T13:22:35.837302Z",
     "shell.execute_reply": "2023-02-20T13:22:35.836605Z",
     "shell.execute_reply.started": "2023-02-20T13:22:35.787203Z"
    }
   },
   "outputs": [],
   "source": [
    "# Steuertabellen und Python-Files von Github herunterladen\n",
    "import os\n",
    "if not os.path.exists('Steuertabellen'):\n",
    "   !git clone https://github.com/djekra/wiktionary_wortschatz.git\n",
    "   !cp -r wiktionary_wortschatz/1_wiktionary_parsen/Steuertabellen Steuertabellen\n",
    "   !cp -r wiktionary_wortschatz/1_wiktionary_parsen/*.py .\n",
    "#   !rm -r wiktionary_wortschatz"
   ]
  },
  {
   "cell_type": "code",
   "execution_count": 7,
   "metadata": {
    "colab": {
     "base_uri": "https://localhost:8080/"
    },
    "execution": {
     "iopub.execute_input": "2023-02-20T13:22:35.838203Z",
     "iopub.status.busy": "2023-02-20T13:22:35.837971Z",
     "iopub.status.idle": "2023-02-20T13:22:35.881333Z",
     "shell.execute_reply": "2023-02-20T13:22:35.880278Z",
     "shell.execute_reply.started": "2023-02-20T13:22:35.838183Z"
    },
    "executionInfo": {
     "elapsed": 7425,
     "status": "ok",
     "timestamp": 1676479015113,
     "user": {
      "displayName": "Hups Hopsalla",
      "userId": "10020718461385065661"
     },
     "user_tz": -60
    },
    "id": "dbiDceKXyUx7",
    "outputId": "beb0cf2a-bc86-47c4-81e6-b11c7354957c"
   },
   "outputs": [],
   "source": [
    "# Lade Ergebnisse der vorherigen Verarbeitungsstufe von Google Drive, falls nicht lokal vorhanden\n",
    "# Dieses Verzeichnis wurde in der vorherigen Verarbeitungsstufe angelegt \n",
    "if environment['in_colab']:\n",
    "    from google.colab import drive\n",
    "    drive.mount('/content/drive') \n",
    "    !cd /content\n",
    "    !cp -av /content/drive/MyDrive/{verzeichnis_load} ."
   ]
  },
  {
   "cell_type": "code",
   "execution_count": 8,
   "metadata": {
    "execution": {
     "iopub.execute_input": "2023-02-20T13:22:35.882861Z",
     "iopub.status.busy": "2023-02-20T13:22:35.882572Z",
     "iopub.status.idle": "2023-02-20T13:22:38.486953Z",
     "shell.execute_reply": "2023-02-20T13:22:38.486263Z",
     "shell.execute_reply.started": "2023-02-20T13:22:35.882837Z"
    }
   },
   "outputs": [],
   "source": [
    "# Weitere Imports\n",
    "from Steuertabellen.s01_Steuertabellen   import *\n",
    "\n",
    "# mwparserfromhell plus eigene Ergänzungen \n",
    "import mwparserfromhell\n",
    "from x24_process_wikicode                import *\n",
    "from x22_my_node                         import *"
   ]
  },
  {
   "cell_type": "markdown",
   "metadata": {},
   "source": [
    "## Funktionen"
   ]
  },
  {
   "cell_type": "code",
   "execution_count": 9,
   "metadata": {
    "execution": {
     "iopub.execute_input": "2023-02-20T13:22:38.488209Z",
     "iopub.status.busy": "2023-02-20T13:22:38.487698Z",
     "iopub.status.idle": "2023-02-20T13:22:38.536781Z",
     "shell.execute_reply": "2023-02-20T13:22:38.536041Z",
     "shell.execute_reply.started": "2023-02-20T13:22:38.488182Z"
    }
   },
   "outputs": [],
   "source": [
    "def parse_templatenames(zeile):\n",
    "    '''\n",
    "    Liefert alle verwendeten Templates eines Wiktionary-Abschnittes\n",
    "    sowie die Länge der Parameter jedes Templates.\n",
    "    '''\n",
    "    \n",
    "    # mwparserfromhell\n",
    "    wikicode = mwparserfromhell.parse(zeile.wikitext)     \n",
    "    \n",
    "    templates = wikicode.filter_templates(recursive=False)  \n",
    "    templatenames = list()\n",
    "    for t in templates:  \n",
    "        name = str(t.name.strip())\n",
    "        lenp = str(len(t.params))\n",
    "        if len(name) <= 2:\n",
    "            continue\n",
    "        if (len(name) == 3)  and  (name == str.lower(name)):\n",
    "            continue            \n",
    "        templatenames.append(name + '☉' + lenp)\n",
    "    \n",
    "    result = { 'section_id':    zeile.section_id,\n",
    "               'section_id2':   zeile.section_id2,\n",
    "               'templatenames': templatenames\n",
    "             }\n",
    "\n",
    "        \n",
    "    return pd.DataFrame([result])"
   ]
  },
  {
   "cell_type": "code",
   "execution_count": 10,
   "metadata": {
    "execution": {
     "iopub.execute_input": "2023-02-20T13:22:38.543498Z",
     "iopub.status.busy": "2023-02-20T13:22:38.539505Z",
     "iopub.status.idle": "2023-02-20T13:22:38.606592Z",
     "shell.execute_reply": "2023-02-20T13:22:38.605179Z",
     "shell.execute_reply.started": "2023-02-20T13:22:38.543451Z"
    }
   },
   "outputs": [],
   "source": [
    "# häufigkeit             beschreibt, wie häufig ein Template insgesamt verwendet wird\n",
    "# count                  beschreibt, wie oft ein Template pro Section verwendet wird.\n",
    "# lenp_min und lenp_max  beschreiben die Anzahl der Parameter, die bei diesem Template im Mittel verwendet werden.\n",
    "#                        Wenn ein Template pro Section mehrfach verwendet wird, können sich lenp_min und lenp_max unterscheiden.\n",
    "#\n",
    "def show_stats( wiktionary_templates, filter_templates, match_substring=False):\n",
    "    '''\n",
    "    Zeigt gruppierte Daten zur Verwendung der Templates im Wiktionary.\n",
    "    * wiktionary_templates: die gleichnamige Tabelle\n",
    "    * filter_templates:     Nur Templates, die in dieser Liste sind werden ausgewertet\n",
    "    * match_substring:      Reicht in filter_templates der Anfang des Namens?\n",
    "    \n",
    "    Liefert folgende Daten für jedes Template:\n",
    "    * lenp_min:     mittleres Minimum der Parameterlänge\n",
    "    * lenp_max:     mittleres Maximum der Parameterlänge\n",
    "    * count:        mittlere Häufigkeit pro Abschnitt  \n",
    "    * section_id2:  Einige Beispiele, wo das Template vorkommt\n",
    "    * häufigkeit:   Gesamthäufigkeit des Templates im ganzen Wiktionary\n",
    "    '''\n",
    "    filter_templates = tuple(filter_templates)\n",
    "    spalten = ['section_id2','template','lenp_min', 'lenp_max', 'count' ]\n",
    "    if match_substring:\n",
    "        mask = wiktionary_templates.template.str.startswith(filter_templates)\n",
    "    else:\n",
    "        mask = wiktionary_templates.template.isin(filter_templates)\n",
    "    df = pak.reset_index(wiktionary_templates[mask][spalten])\n",
    "    \n",
    "    gruppiert = df.groupby('template')\n",
    "    \n",
    "    result = gruppiert.agg(\n",
    "      \n",
    "        lenp_min    = ('lenp_min',    'mean'),   \n",
    "        lenp_max    = ('lenp_max',    'mean'),  \n",
    "        count       = ('count',       'mean'),            \n",
    "        section_id2 = ('section_id2', pak.top_values_20),                 \n",
    "        häufigkeit  = ('section_id2', 'count')                        \n",
    "\n",
    "    ).reset_index()\n",
    " \n",
    "    return result.sort_values('häufigkeit', ascending=False)"
   ]
  },
  {
   "cell_type": "markdown",
   "metadata": {},
   "source": [
    "## Laden"
   ]
  },
  {
   "cell_type": "code",
   "execution_count": 12,
   "metadata": {
    "execution": {
     "iopub.execute_input": "2023-02-20T14:39:01.171688Z",
     "iopub.status.busy": "2023-02-20T14:39:01.171319Z",
     "iopub.status.idle": "2023-02-20T14:39:16.189676Z",
     "shell.execute_reply": "2023-02-20T14:39:16.188987Z",
     "shell.execute_reply.started": "2023-02-20T14:39:01.171655Z"
    },
    "tags": []
   },
   "outputs": [],
   "source": [
    "# Laden\n",
    "wiktionary = pak.load_pickle(wiktionary_filename)"
   ]
  },
  {
   "cell_type": "code",
   "execution_count": 13,
   "metadata": {
    "execution": {
     "iopub.execute_input": "2023-02-20T14:39:19.224967Z",
     "iopub.status.busy": "2023-02-20T14:39:19.224595Z",
     "iopub.status.idle": "2023-02-20T14:39:19.288539Z",
     "shell.execute_reply": "2023-02-20T14:39:19.287128Z",
     "shell.execute_reply.started": "2023-02-20T14:39:19.224941Z"
    },
    "tags": []
   },
   "outputs": [],
   "source": [
    "try:\n",
    "    wiktionary_templates = pak.load_pickle(wiktionary_templates_filename)  # Falls vorhanden\n",
    "except:\n",
    "    pass"
   ]
  },
  {
   "cell_type": "code",
   "execution_count": 14,
   "metadata": {
    "execution": {
     "iopub.execute_input": "2023-02-20T14:39:20.221546Z",
     "iopub.status.busy": "2023-02-20T14:39:20.220800Z",
     "iopub.status.idle": "2023-02-20T14:39:20.282928Z",
     "shell.execute_reply": "2023-02-20T14:39:20.282021Z",
     "shell.execute_reply.started": "2023-02-20T14:39:20.221493Z"
    },
    "tags": []
   },
   "outputs": [],
   "source": [
    "#grid(wiktionary_templates,sample)"
   ]
  },
  {
   "cell_type": "code",
   "execution_count": 15,
   "metadata": {
    "execution": {
     "iopub.execute_input": "2023-02-20T14:39:21.952042Z",
     "iopub.status.busy": "2023-02-20T14:39:21.951415Z",
     "iopub.status.idle": "2023-02-20T14:39:22.033586Z",
     "shell.execute_reply": "2023-02-20T14:39:22.032619Z",
     "shell.execute_reply.started": "2023-02-20T14:39:21.951990Z"
    },
    "tags": []
   },
   "outputs": [
    {
     "name": "stdout",
     "output_type": "stream",
     "text": [
      "Einträge: 837593\n"
     ]
    }
   ],
   "source": [
    "print('Einträge:', wiktionary.shape[0])"
   ]
  },
  {
   "cell_type": "code",
   "execution_count": 16,
   "metadata": {
    "execution": {
     "iopub.execute_input": "2023-02-20T14:39:23.709650Z",
     "iopub.status.busy": "2023-02-20T14:39:23.709079Z",
     "iopub.status.idle": "2023-02-20T14:39:24.655280Z",
     "shell.execute_reply": "2023-02-20T14:39:24.653596Z",
     "shell.execute_reply.started": "2023-02-20T14:39:23.709608Z"
    },
    "tags": []
   },
   "outputs": [
    {
     "name": "stdout",
     "output_type": "stream",
     "text": [
      "2 rows out of 837593\n"
     ]
    },
    {
     "data": {
      "text/html": [
       "\n",
       "        <iframe\n",
       "            width=\"100%\"\n",
       "            height=\"475\"\n",
       "            src=\"http://pop-os:40001/dtale/iframe/1\"\n",
       "            frameborder=\"0\"\n",
       "            allowfullscreen\n",
       "            \n",
       "        ></iframe>\n",
       "        "
      ],
      "text/plain": [
       "<IPython.lib.display.IFrame at 0x7f1291546700>"
      ]
     },
     "metadata": {},
     "output_type": "display_data"
    },
    {
     "data": {
      "text/plain": []
     },
     "execution_count": 16,
     "metadata": {},
     "output_type": "execute_result"
    }
   ],
   "source": [
    "mask = wiktionary.title.isin(suche_debug)\n",
    "grid(wiktionary, mask)"
   ]
  },
  {
   "cell_type": "code",
   "execution_count": null,
   "metadata": {
    "execution": {
     "iopub.status.busy": "2023-02-20T13:22:39.249566Z",
     "iopub.status.idle": "2023-02-20T13:22:39.252356Z",
     "shell.execute_reply": "2023-02-20T13:22:39.250637Z",
     "shell.execute_reply.started": "2023-02-20T13:22:39.250609Z"
    }
   },
   "outputs": [],
   "source": [
    "pak.memory_consumption(locals())"
   ]
  },
  {
   "cell_type": "markdown",
   "metadata": {},
   "source": [
    "## parse_templatenames ausprobieren"
   ]
  },
  {
   "cell_type": "code",
   "execution_count": 18,
   "metadata": {
    "execution": {
     "iopub.execute_input": "2023-02-20T14:39:43.612044Z",
     "iopub.status.busy": "2023-02-20T14:39:43.611583Z",
     "iopub.status.idle": "2023-02-20T14:39:43.657073Z",
     "shell.execute_reply": "2023-02-20T14:39:43.656388Z",
     "shell.execute_reply.started": "2023-02-20T14:39:43.612008Z"
    },
    "tags": []
   },
   "outputs": [
    {
     "name": "stdout",
     "output_type": "stream",
     "text": [
      "<class 'IPython.core.display.Markdown'>\n"
     ]
    },
    {
     "data": {
      "text/markdown": [
       "<span style=\"font-size:larger;\">parse_templatenames(zeile):</span>\n",
       "\n",
       "Liefert alle verwendeten Templates eines Wiktionary-Abschnittes\n",
       "sowie die Länge der Parameter jedes Templates."
      ],
      "text/plain": [
       "<IPython.core.display.Markdown object>"
      ]
     },
     "metadata": {},
     "output_type": "display_data"
    }
   ],
   "source": [
    "blab.help(parse_templatenames)"
   ]
  },
  {
   "cell_type": "code",
   "execution_count": 20,
   "metadata": {
    "execution": {
     "iopub.execute_input": "2023-02-20T14:40:27.257242Z",
     "iopub.status.busy": "2023-02-20T14:40:27.254435Z",
     "iopub.status.idle": "2023-02-20T14:40:27.395274Z",
     "shell.execute_reply": "2023-02-20T14:40:27.392835Z",
     "shell.execute_reply.started": "2023-02-20T14:40:27.257200Z"
    },
    "tags": []
   },
   "outputs": [
    {
     "data": {
      "text/plain": [
       "section_id                                                 21700\n",
       "page_id                                                      217\n",
       "page_part                                                      0\n",
       "section_id2                                                 Haus\n",
       "title                                                       Haus\n",
       "lemma                                                       Haus\n",
       "inflected                                                  False\n",
       "pos                                           {'Substantiv': []}\n",
       "rhymes                                                    [aʊ̯s]\n",
       "section_len                                                70143\n",
       "flexion        {'Genus': 'n', 'Nominativ Singular': 'Haus', '...\n",
       "ipa                                                      [haʊ̯s]\n",
       "syllables                                                 [Haus]\n",
       "lang                                                     Deutsch\n",
       "lang_code                                                     de\n",
       "wikitext       === {{Wortart|Substantiv|Deutsch}}, {{n}} ===\\...\n",
       "error                                                           \n",
       "Name: 135, dtype: object"
      ]
     },
     "execution_count": 20,
     "metadata": {},
     "output_type": "execute_result"
    }
   ],
   "source": [
    "# Eine Testzeile aus wiktionary (als Series)\n",
    "mask = wiktionary.lemma == 'Haus'\n",
    "testzeile = wiktionary[mask].iloc[0]\n",
    "testzeile"
   ]
  },
  {
   "cell_type": "code",
   "execution_count": 21,
   "metadata": {
    "execution": {
     "iopub.execute_input": "2023-02-20T14:40:31.877331Z",
     "iopub.status.busy": "2023-02-20T14:40:31.876599Z",
     "iopub.status.idle": "2023-02-20T14:40:32.086004Z",
     "shell.execute_reply": "2023-02-20T14:40:32.085290Z",
     "shell.execute_reply.started": "2023-02-20T14:40:31.877280Z"
    },
    "tags": []
   },
   "outputs": [
    {
     "data": {
      "text/html": [
       "<div>\n",
       "<style scoped>\n",
       "    .dataframe tbody tr th:only-of-type {\n",
       "        vertical-align: middle;\n",
       "    }\n",
       "\n",
       "    .dataframe tbody tr th {\n",
       "        vertical-align: top;\n",
       "    }\n",
       "\n",
       "    .dataframe thead th {\n",
       "        text-align: right;\n",
       "    }\n",
       "</style>\n",
       "<table border=\"1\" class=\"dataframe\">\n",
       "  <thead>\n",
       "    <tr style=\"text-align: right;\">\n",
       "      <th></th>\n",
       "      <th>section_id</th>\n",
       "      <th>section_id2</th>\n",
       "      <th>templatenames</th>\n",
       "    </tr>\n",
       "  </thead>\n",
       "  <tbody>\n",
       "    <tr>\n",
       "      <th>0</th>\n",
       "      <td>21700</td>\n",
       "      <td>Haus</td>\n",
       "      <td>[Deutsch Substantiv Übersicht☉38, Worttrennung...</td>\n",
       "    </tr>\n",
       "  </tbody>\n",
       "</table>\n",
       "</div>"
      ],
      "text/plain": [
       "   section_id section_id2                                      templatenames\n",
       "0       21700        Haus  [Deutsch Substantiv Übersicht☉38, Worttrennung..."
      ]
     },
     "execution_count": 21,
     "metadata": {},
     "output_type": "execute_result"
    }
   ],
   "source": [
    "# parse_templatenames ausprobieren\n",
    "df = parse_templatenames(testzeile)\n",
    "df"
   ]
  },
  {
   "cell_type": "code",
   "execution_count": 22,
   "metadata": {
    "execution": {
     "iopub.execute_input": "2023-02-20T14:40:37.287393Z",
     "iopub.status.busy": "2023-02-20T14:40:37.286096Z",
     "iopub.status.idle": "2023-02-20T14:40:37.333166Z",
     "shell.execute_reply": "2023-02-20T14:40:37.332064Z",
     "shell.execute_reply.started": "2023-02-20T14:40:37.287332Z"
    },
    "tags": []
   },
   "outputs": [
    {
     "data": {
      "text/plain": [
       "['Deutsch Substantiv Übersicht☉38',\n",
       " 'Worttrennung☉0',\n",
       " 'Pl.☉0',\n",
       " 'Aussprache☉0',\n",
       " 'IPA☉0',\n",
       " 'Lautschrift☉1',\n",
       " 'Hörbeispiele☉0',\n",
       " 'Audio☉1',\n",
       " 'Audio☉1',\n",
       " 'Reime☉0']"
      ]
     },
     "execution_count": 22,
     "metadata": {},
     "output_type": "execute_result"
    }
   ],
   "source": [
    "df.iloc[0].templatenames[:10]"
   ]
  },
  {
   "cell_type": "markdown",
   "metadata": {},
   "source": [
    "## wiktionary_templates neu erstellen"
   ]
  },
  {
   "cell_type": "code",
   "execution_count": 23,
   "metadata": {
    "execution": {
     "iopub.execute_input": "2023-02-20T14:40:45.453805Z",
     "iopub.status.busy": "2023-02-20T14:40:45.453346Z",
     "iopub.status.idle": "2023-02-20T14:41:06.868799Z",
     "shell.execute_reply": "2023-02-20T14:41:06.865224Z",
     "shell.execute_reply.started": "2023-02-20T14:40:45.453773Z"
    }
   },
   "outputs": [
    {
     "data": {
      "application/vnd.jupyter.widget-view+json": {
       "model_id": "5eb81675b2ab415cb5aea10206d6669b",
       "version_major": 2,
       "version_minor": 0
      },
      "text/plain": [
       "Pandas Apply:   0%|          | 0/837593 [00:00<?, ?it/s]"
      ]
     },
     "metadata": {},
     "output_type": "display_data"
    },
    {
     "ename": "KeyboardInterrupt",
     "evalue": "",
     "output_type": "error",
     "traceback": [
      "\u001b[0;31m---------------------------------------------------------------------------\u001b[0m",
      "\u001b[0;31mValueError\u001b[0m                                Traceback (most recent call last)",
      "File \u001b[0;32m~/mambaforge/envs/python_06/lib/python3.9/site-packages/swifter/swifter.py:429\u001b[0m, in \u001b[0;36mDataFrameAccessor.apply\u001b[0;34m(self, func, axis, raw, result_type, args, **kwds)\u001b[0m\n\u001b[1;32m    428\u001b[0m     sample_df \u001b[38;5;241m=\u001b[39m sample\u001b[38;5;241m.\u001b[39mapply(func, axis\u001b[38;5;241m=\u001b[39maxis, raw\u001b[38;5;241m=\u001b[39mraw, result_type\u001b[38;5;241m=\u001b[39mresult_type, args\u001b[38;5;241m=\u001b[39margs, \u001b[38;5;241m*\u001b[39m\u001b[38;5;241m*\u001b[39mkwds)\n\u001b[0;32m--> 429\u001b[0m     \u001b[38;5;28;43mself\u001b[39;49m\u001b[38;5;241;43m.\u001b[39;49m\u001b[43m_validate_apply\u001b[49m\u001b[43m(\u001b[49m\n\u001b[1;32m    430\u001b[0m \u001b[43m        \u001b[49m\u001b[43mnp\u001b[49m\u001b[38;5;241;43m.\u001b[39;49m\u001b[43marray_equal\u001b[49m\u001b[43m(\u001b[49m\u001b[43msample_df\u001b[49m\u001b[43m,\u001b[49m\u001b[43m \u001b[49m\u001b[43mtmp_df\u001b[49m\u001b[43m)\u001b[49m\u001b[43m \u001b[49m\u001b[38;5;241;43m&\u001b[39;49m\u001b[43m \u001b[49m\u001b[43m(\u001b[49m\u001b[38;5;28;43mhasattr\u001b[39;49m\u001b[43m(\u001b[49m\u001b[43mtmp_df\u001b[49m\u001b[43m,\u001b[49m\u001b[43m \u001b[49m\u001b[38;5;124;43m\"\u001b[39;49m\u001b[38;5;124;43mshape\u001b[39;49m\u001b[38;5;124;43m\"\u001b[39;49m\u001b[43m)\u001b[49m\u001b[43m)\u001b[49m\u001b[43m \u001b[49m\u001b[38;5;241;43m&\u001b[39;49m\u001b[43m \u001b[49m\u001b[43m(\u001b[49m\u001b[43msample_df\u001b[49m\u001b[38;5;241;43m.\u001b[39;49m\u001b[43mshape\u001b[49m\u001b[43m \u001b[49m\u001b[38;5;241;43m==\u001b[39;49m\u001b[43m \u001b[49m\u001b[43mtmp_df\u001b[49m\u001b[38;5;241;43m.\u001b[39;49m\u001b[43mshape\u001b[49m\u001b[43m)\u001b[49m\u001b[43m,\u001b[49m\n\u001b[1;32m    431\u001b[0m \u001b[43m        \u001b[49m\u001b[43merror_message\u001b[49m\u001b[38;5;241;43m=\u001b[39;49m\u001b[43m(\u001b[49m\u001b[38;5;124;43m\"\u001b[39;49m\u001b[38;5;124;43mVectorized function sample does not match pandas apply sample.\u001b[39;49m\u001b[38;5;124;43m\"\u001b[39;49m\u001b[43m)\u001b[49m\u001b[43m,\u001b[49m\n\u001b[1;32m    432\u001b[0m \u001b[43m    \u001b[49m\u001b[43m)\u001b[49m\n\u001b[1;32m    433\u001b[0m \u001b[38;5;28;01mreturn\u001b[39;00m func(\u001b[38;5;28mself\u001b[39m\u001b[38;5;241m.\u001b[39m_obj, \u001b[38;5;241m*\u001b[39margs, \u001b[38;5;241m*\u001b[39m\u001b[38;5;241m*\u001b[39mkwds)\n",
      "File \u001b[0;32m~/mambaforge/envs/python_06/lib/python3.9/site-packages/swifter/base.py:53\u001b[0m, in \u001b[0;36m_SwifterBaseObject._validate_apply\u001b[0;34m(expr, error_message)\u001b[0m\n\u001b[1;32m     52\u001b[0m \u001b[38;5;28;01mif\u001b[39;00m \u001b[38;5;129;01mnot\u001b[39;00m expr:\n\u001b[0;32m---> 53\u001b[0m     \u001b[38;5;28;01mraise\u001b[39;00m \u001b[38;5;167;01mValueError\u001b[39;00m(error_message)\n",
      "\u001b[0;31mValueError\u001b[0m: Vectorized function sample does not match pandas apply sample.",
      "\nDuring handling of the above exception, another exception occurred:\n",
      "\u001b[0;31mKeyboardInterrupt\u001b[0m                         Traceback (most recent call last)",
      "Cell \u001b[0;32mIn [23], line 6\u001b[0m\n\u001b[1;32m      1\u001b[0m \u001b[38;5;66;03m# all: 15min\u001b[39;00m\n\u001b[1;32m      2\u001b[0m \u001b[38;5;66;03m# short: 1min 30 sec\u001b[39;00m\n\u001b[1;32m      3\u001b[0m \u001b[38;5;66;03m# apply erzeugt eine Series von DataFrames\u001b[39;00m\n\u001b[1;32m      4\u001b[0m \u001b[38;5;66;03m# tolist macht daraus eine Liste\u001b[39;00m\n\u001b[1;32m      5\u001b[0m \u001b[38;5;66;03m# und concat macht aus der Liste von DataFrames ein Gesamt-DataFrame\u001b[39;00m\n\u001b[0;32m----> 6\u001b[0m wiktionary_templates \u001b[38;5;241m=\u001b[39m pd\u001b[38;5;241m.\u001b[39mconcat(\u001b[43mwiktionary\u001b[49m\u001b[38;5;241;43m.\u001b[39;49m\u001b[43mswifter\u001b[49m\u001b[38;5;241;43m.\u001b[39;49m\u001b[43mapply\u001b[49m\u001b[43m(\u001b[49m\u001b[43mparse_templatenames\u001b[49m\u001b[43m,\u001b[49m\u001b[43m \u001b[49m\u001b[43maxis\u001b[49m\u001b[38;5;241;43m=\u001b[39;49m\u001b[38;5;241;43m1\u001b[39;49m\u001b[43m)\u001b[49m\u001b[38;5;241m.\u001b[39mtolist()  )\n",
      "File \u001b[0;32m~/mambaforge/envs/python_06/lib/python3.9/site-packages/swifter/swifter.py:451\u001b[0m, in \u001b[0;36mDataFrameAccessor.apply\u001b[0;34m(self, func, axis, raw, result_type, args, **kwds)\u001b[0m\n\u001b[1;32m    448\u001b[0m \u001b[38;5;28;01melse\u001b[39;00m:\n\u001b[1;32m    449\u001b[0m     apply_func \u001b[38;5;241m=\u001b[39m \u001b[38;5;28mself\u001b[39m\u001b[38;5;241m.\u001b[39m_obj\u001b[38;5;241m.\u001b[39mapply\n\u001b[0;32m--> 451\u001b[0m \u001b[38;5;28;01mreturn\u001b[39;00m \u001b[43mapply_func\u001b[49m\u001b[43m(\u001b[49m\u001b[43mfunc\u001b[49m\u001b[43m,\u001b[49m\u001b[43m \u001b[49m\u001b[43maxis\u001b[49m\u001b[38;5;241;43m=\u001b[39;49m\u001b[43maxis\u001b[49m\u001b[43m,\u001b[49m\u001b[43m \u001b[49m\u001b[43mraw\u001b[49m\u001b[38;5;241;43m=\u001b[39;49m\u001b[43mraw\u001b[49m\u001b[43m,\u001b[49m\u001b[43m \u001b[49m\u001b[43mresult_type\u001b[49m\u001b[38;5;241;43m=\u001b[39;49m\u001b[43mresult_type\u001b[49m\u001b[43m,\u001b[49m\u001b[43m \u001b[49m\u001b[43margs\u001b[49m\u001b[38;5;241;43m=\u001b[39;49m\u001b[43margs\u001b[49m\u001b[43m,\u001b[49m\u001b[43m \u001b[49m\u001b[38;5;241;43m*\u001b[39;49m\u001b[38;5;241;43m*\u001b[39;49m\u001b[43mkwds\u001b[49m\u001b[43m)\u001b[49m\n",
      "File \u001b[0;32m~/mambaforge/envs/python_06/lib/python3.9/site-packages/tqdm/std.py:814\u001b[0m, in \u001b[0;36mtqdm.pandas.<locals>.inner_generator.<locals>.inner\u001b[0;34m(df, func, *args, **kwargs)\u001b[0m\n\u001b[1;32m    811\u001b[0m \u001b[38;5;66;03m# Apply the provided function (in **kwargs)\u001b[39;00m\n\u001b[1;32m    812\u001b[0m \u001b[38;5;66;03m# on the df using our wrapper (which provides bar updating)\u001b[39;00m\n\u001b[1;32m    813\u001b[0m \u001b[38;5;28;01mtry\u001b[39;00m:\n\u001b[0;32m--> 814\u001b[0m     \u001b[38;5;28;01mreturn\u001b[39;00m \u001b[38;5;28;43mgetattr\u001b[39;49m\u001b[43m(\u001b[49m\u001b[43mdf\u001b[49m\u001b[43m,\u001b[49m\u001b[43m \u001b[49m\u001b[43mdf_function\u001b[49m\u001b[43m)\u001b[49m\u001b[43m(\u001b[49m\u001b[43mwrapper\u001b[49m\u001b[43m,\u001b[49m\u001b[43m \u001b[49m\u001b[38;5;241;43m*\u001b[39;49m\u001b[38;5;241;43m*\u001b[39;49m\u001b[43mkwargs\u001b[49m\u001b[43m)\u001b[49m\n\u001b[1;32m    815\u001b[0m \u001b[38;5;28;01mfinally\u001b[39;00m:\n\u001b[1;32m    816\u001b[0m     t\u001b[38;5;241m.\u001b[39mclose()\n",
      "File \u001b[0;32m~/mambaforge/envs/python_06/lib/python3.9/site-packages/pandas/core/frame.py:9568\u001b[0m, in \u001b[0;36mDataFrame.apply\u001b[0;34m(self, func, axis, raw, result_type, args, **kwargs)\u001b[0m\n\u001b[1;32m   9557\u001b[0m \u001b[38;5;28;01mfrom\u001b[39;00m \u001b[38;5;21;01mpandas\u001b[39;00m\u001b[38;5;21;01m.\u001b[39;00m\u001b[38;5;21;01mcore\u001b[39;00m\u001b[38;5;21;01m.\u001b[39;00m\u001b[38;5;21;01mapply\u001b[39;00m \u001b[38;5;28;01mimport\u001b[39;00m frame_apply\n\u001b[1;32m   9559\u001b[0m op \u001b[38;5;241m=\u001b[39m frame_apply(\n\u001b[1;32m   9560\u001b[0m     \u001b[38;5;28mself\u001b[39m,\n\u001b[1;32m   9561\u001b[0m     func\u001b[38;5;241m=\u001b[39mfunc,\n\u001b[0;32m   (...)\u001b[0m\n\u001b[1;32m   9566\u001b[0m     kwargs\u001b[38;5;241m=\u001b[39mkwargs,\n\u001b[1;32m   9567\u001b[0m )\n\u001b[0;32m-> 9568\u001b[0m \u001b[38;5;28;01mreturn\u001b[39;00m \u001b[43mop\u001b[49m\u001b[38;5;241;43m.\u001b[39;49m\u001b[43mapply\u001b[49m\u001b[43m(\u001b[49m\u001b[43m)\u001b[49m\u001b[38;5;241m.\u001b[39m__finalize__(\u001b[38;5;28mself\u001b[39m, method\u001b[38;5;241m=\u001b[39m\u001b[38;5;124m\"\u001b[39m\u001b[38;5;124mapply\u001b[39m\u001b[38;5;124m\"\u001b[39m)\n",
      "File \u001b[0;32m~/mambaforge/envs/python_06/lib/python3.9/site-packages/pandas/core/apply.py:764\u001b[0m, in \u001b[0;36mFrameApply.apply\u001b[0;34m(self)\u001b[0m\n\u001b[1;32m    761\u001b[0m \u001b[38;5;28;01melif\u001b[39;00m \u001b[38;5;28mself\u001b[39m\u001b[38;5;241m.\u001b[39mraw:\n\u001b[1;32m    762\u001b[0m     \u001b[38;5;28;01mreturn\u001b[39;00m \u001b[38;5;28mself\u001b[39m\u001b[38;5;241m.\u001b[39mapply_raw()\n\u001b[0;32m--> 764\u001b[0m \u001b[38;5;28;01mreturn\u001b[39;00m \u001b[38;5;28;43mself\u001b[39;49m\u001b[38;5;241;43m.\u001b[39;49m\u001b[43mapply_standard\u001b[49m\u001b[43m(\u001b[49m\u001b[43m)\u001b[49m\n",
      "File \u001b[0;32m~/mambaforge/envs/python_06/lib/python3.9/site-packages/pandas/core/apply.py:891\u001b[0m, in \u001b[0;36mFrameApply.apply_standard\u001b[0;34m(self)\u001b[0m\n\u001b[1;32m    890\u001b[0m \u001b[38;5;28;01mdef\u001b[39;00m \u001b[38;5;21mapply_standard\u001b[39m(\u001b[38;5;28mself\u001b[39m):\n\u001b[0;32m--> 891\u001b[0m     results, res_index \u001b[38;5;241m=\u001b[39m \u001b[38;5;28;43mself\u001b[39;49m\u001b[38;5;241;43m.\u001b[39;49m\u001b[43mapply_series_generator\u001b[49m\u001b[43m(\u001b[49m\u001b[43m)\u001b[49m\n\u001b[1;32m    893\u001b[0m     \u001b[38;5;66;03m# wrap results\u001b[39;00m\n\u001b[1;32m    894\u001b[0m     \u001b[38;5;28;01mreturn\u001b[39;00m \u001b[38;5;28mself\u001b[39m\u001b[38;5;241m.\u001b[39mwrap_results(results, res_index)\n",
      "File \u001b[0;32m~/mambaforge/envs/python_06/lib/python3.9/site-packages/pandas/core/apply.py:907\u001b[0m, in \u001b[0;36mFrameApply.apply_series_generator\u001b[0;34m(self)\u001b[0m\n\u001b[1;32m    904\u001b[0m \u001b[38;5;28;01mwith\u001b[39;00m option_context(\u001b[38;5;124m\"\u001b[39m\u001b[38;5;124mmode.chained_assignment\u001b[39m\u001b[38;5;124m\"\u001b[39m, \u001b[38;5;28;01mNone\u001b[39;00m):\n\u001b[1;32m    905\u001b[0m     \u001b[38;5;28;01mfor\u001b[39;00m i, v \u001b[38;5;129;01min\u001b[39;00m \u001b[38;5;28menumerate\u001b[39m(series_gen):\n\u001b[1;32m    906\u001b[0m         \u001b[38;5;66;03m# ignore SettingWithCopy here in case the user mutates\u001b[39;00m\n\u001b[0;32m--> 907\u001b[0m         results[i] \u001b[38;5;241m=\u001b[39m \u001b[38;5;28;43mself\u001b[39;49m\u001b[38;5;241;43m.\u001b[39;49m\u001b[43mf\u001b[49m\u001b[43m(\u001b[49m\u001b[43mv\u001b[49m\u001b[43m)\u001b[49m\n\u001b[1;32m    908\u001b[0m         \u001b[38;5;28;01mif\u001b[39;00m \u001b[38;5;28misinstance\u001b[39m(results[i], ABCSeries):\n\u001b[1;32m    909\u001b[0m             \u001b[38;5;66;03m# If we have a view on v, we need to make a copy because\u001b[39;00m\n\u001b[1;32m    910\u001b[0m             \u001b[38;5;66;03m#  series_generator will swap out the underlying data\u001b[39;00m\n\u001b[1;32m    911\u001b[0m             results[i] \u001b[38;5;241m=\u001b[39m results[i]\u001b[38;5;241m.\u001b[39mcopy(deep\u001b[38;5;241m=\u001b[39m\u001b[38;5;28;01mFalse\u001b[39;00m)\n",
      "File \u001b[0;32m~/mambaforge/envs/python_06/lib/python3.9/site-packages/tqdm/std.py:809\u001b[0m, in \u001b[0;36mtqdm.pandas.<locals>.inner_generator.<locals>.inner.<locals>.wrapper\u001b[0;34m(*args, **kwargs)\u001b[0m\n\u001b[1;32m    803\u001b[0m \u001b[38;5;28;01mdef\u001b[39;00m \u001b[38;5;21mwrapper\u001b[39m(\u001b[38;5;241m*\u001b[39margs, \u001b[38;5;241m*\u001b[39m\u001b[38;5;241m*\u001b[39mkwargs):\n\u001b[1;32m    804\u001b[0m     \u001b[38;5;66;03m# update tbar correctly\u001b[39;00m\n\u001b[1;32m    805\u001b[0m     \u001b[38;5;66;03m# it seems `pandas apply` calls `func` twice\u001b[39;00m\n\u001b[1;32m    806\u001b[0m     \u001b[38;5;66;03m# on the first column/row to decide whether it can\u001b[39;00m\n\u001b[1;32m    807\u001b[0m     \u001b[38;5;66;03m# take a fast or slow code path; so stop when t.total==t.n\u001b[39;00m\n\u001b[1;32m    808\u001b[0m     t\u001b[38;5;241m.\u001b[39mupdate(n\u001b[38;5;241m=\u001b[39m\u001b[38;5;241m1\u001b[39m \u001b[38;5;28;01mif\u001b[39;00m \u001b[38;5;129;01mnot\u001b[39;00m t\u001b[38;5;241m.\u001b[39mtotal \u001b[38;5;129;01mor\u001b[39;00m t\u001b[38;5;241m.\u001b[39mn \u001b[38;5;241m<\u001b[39m t\u001b[38;5;241m.\u001b[39mtotal \u001b[38;5;28;01melse\u001b[39;00m \u001b[38;5;241m0\u001b[39m)\n\u001b[0;32m--> 809\u001b[0m     \u001b[38;5;28;01mreturn\u001b[39;00m \u001b[43mfunc\u001b[49m\u001b[43m(\u001b[49m\u001b[38;5;241;43m*\u001b[39;49m\u001b[43margs\u001b[49m\u001b[43m,\u001b[49m\u001b[43m \u001b[49m\u001b[38;5;241;43m*\u001b[39;49m\u001b[38;5;241;43m*\u001b[39;49m\u001b[43mkwargs\u001b[49m\u001b[43m)\u001b[49m\n",
      "Cell \u001b[0;32mIn [9], line 8\u001b[0m, in \u001b[0;36mparse_templatenames\u001b[0;34m(zeile)\u001b[0m\n\u001b[1;32m      2\u001b[0m \u001b[38;5;124;03m'''\u001b[39;00m\n\u001b[1;32m      3\u001b[0m \u001b[38;5;124;03mLiefert alle verwendeten Templates eines Wiktionary-Abschnittes\u001b[39;00m\n\u001b[1;32m      4\u001b[0m \u001b[38;5;124;03msowie die Länge der Parameter jedes Templates.\u001b[39;00m\n\u001b[1;32m      5\u001b[0m \u001b[38;5;124;03m'''\u001b[39;00m\n\u001b[1;32m      7\u001b[0m \u001b[38;5;66;03m# mwparserfromhell\u001b[39;00m\n\u001b[0;32m----> 8\u001b[0m wikicode \u001b[38;5;241m=\u001b[39m \u001b[43mmwparserfromhell\u001b[49m\u001b[38;5;241;43m.\u001b[39;49m\u001b[43mparse\u001b[49m\u001b[43m(\u001b[49m\u001b[43mzeile\u001b[49m\u001b[38;5;241;43m.\u001b[39;49m\u001b[43mwikitext\u001b[49m\u001b[43m)\u001b[49m     \n\u001b[1;32m     10\u001b[0m templates \u001b[38;5;241m=\u001b[39m wikicode\u001b[38;5;241m.\u001b[39mfilter_templates(recursive\u001b[38;5;241m=\u001b[39m\u001b[38;5;28;01mFalse\u001b[39;00m)  \n\u001b[1;32m     11\u001b[0m templatenames \u001b[38;5;241m=\u001b[39m \u001b[38;5;28mlist\u001b[39m()\n",
      "File \u001b[0;32m~/mambaforge/envs/python_06/lib/python3.9/site-packages/mwparserfromhell/utils.py:53\u001b[0m, in \u001b[0;36mparse_anything\u001b[0;34m(value, context, skip_style_tags)\u001b[0m\n\u001b[1;32m     51\u001b[0m     \u001b[38;5;28;01mreturn\u001b[39;00m Wikicode(SmartList([value]))\n\u001b[1;32m     52\u001b[0m \u001b[38;5;28;01mif\u001b[39;00m \u001b[38;5;28misinstance\u001b[39m(value, \u001b[38;5;28mstr\u001b[39m):\n\u001b[0;32m---> 53\u001b[0m     \u001b[38;5;28;01mreturn\u001b[39;00m \u001b[43mParser\u001b[49m\u001b[43m(\u001b[49m\u001b[43m)\u001b[49m\u001b[38;5;241;43m.\u001b[39;49m\u001b[43mparse\u001b[49m\u001b[43m(\u001b[49m\u001b[43mvalue\u001b[49m\u001b[43m,\u001b[49m\u001b[43m \u001b[49m\u001b[43mcontext\u001b[49m\u001b[43m,\u001b[49m\u001b[43m \u001b[49m\u001b[43mskip_style_tags\u001b[49m\u001b[43m)\u001b[49m\n\u001b[1;32m     54\u001b[0m \u001b[38;5;28;01mif\u001b[39;00m \u001b[38;5;28misinstance\u001b[39m(value, \u001b[38;5;28mbytes\u001b[39m):\n\u001b[1;32m     55\u001b[0m     \u001b[38;5;28;01mreturn\u001b[39;00m Parser()\u001b[38;5;241m.\u001b[39mparse(value\u001b[38;5;241m.\u001b[39mdecode(\u001b[38;5;124m\"\u001b[39m\u001b[38;5;124mutf8\u001b[39m\u001b[38;5;124m\"\u001b[39m), context, skip_style_tags)\n",
      "File \u001b[0;32m~/mambaforge/envs/python_06/lib/python3.9/site-packages/mwparserfromhell/parser/__init__.py:85\u001b[0m, in \u001b[0;36mParser.parse\u001b[0;34m(self, text, context, skip_style_tags)\u001b[0m\n\u001b[1;32m     69\u001b[0m \u001b[38;5;124;03m\"\"\"Parse *text*, returning a :class:`.Wikicode` object tree.\u001b[39;00m\n\u001b[1;32m     70\u001b[0m \n\u001b[1;32m     71\u001b[0m \u001b[38;5;124;03mIf given, *context* will be passed as a starting context to the parser.\u001b[39;00m\n\u001b[0;32m   (...)\u001b[0m\n\u001b[1;32m     82\u001b[0m \u001b[38;5;124;03mbe raised.\u001b[39;00m\n\u001b[1;32m     83\u001b[0m \u001b[38;5;124;03m\"\"\"\u001b[39;00m\n\u001b[1;32m     84\u001b[0m tokens \u001b[38;5;241m=\u001b[39m \u001b[38;5;28mself\u001b[39m\u001b[38;5;241m.\u001b[39m_tokenizer\u001b[38;5;241m.\u001b[39mtokenize(text, context, skip_style_tags)\n\u001b[0;32m---> 85\u001b[0m code \u001b[38;5;241m=\u001b[39m \u001b[38;5;28;43mself\u001b[39;49m\u001b[38;5;241;43m.\u001b[39;49m\u001b[43m_builder\u001b[49m\u001b[38;5;241;43m.\u001b[39;49m\u001b[43mbuild\u001b[49m\u001b[43m(\u001b[49m\u001b[43mtokens\u001b[49m\u001b[43m)\u001b[49m\n\u001b[1;32m     86\u001b[0m \u001b[38;5;28;01mreturn\u001b[39;00m code\n",
      "File \u001b[0;32m~/mambaforge/envs/python_06/lib/python3.9/site-packages/mwparserfromhell/parser/builder.py:332\u001b[0m, in \u001b[0;36mBuilder.build\u001b[0;34m(self, tokenlist)\u001b[0m\n\u001b[1;32m    330\u001b[0m \u001b[38;5;28mself\u001b[39m\u001b[38;5;241m.\u001b[39m_push()\n\u001b[1;32m    331\u001b[0m \u001b[38;5;28;01mwhile\u001b[39;00m \u001b[38;5;28mself\u001b[39m\u001b[38;5;241m.\u001b[39m_tokens:\n\u001b[0;32m--> 332\u001b[0m     node \u001b[38;5;241m=\u001b[39m \u001b[38;5;28;43mself\u001b[39;49m\u001b[38;5;241;43m.\u001b[39;49m\u001b[43m_handle_token\u001b[49m\u001b[43m(\u001b[49m\u001b[38;5;28;43mself\u001b[39;49m\u001b[38;5;241;43m.\u001b[39;49m\u001b[43m_tokens\u001b[49m\u001b[38;5;241;43m.\u001b[39;49m\u001b[43mpop\u001b[49m\u001b[43m(\u001b[49m\u001b[43m)\u001b[49m\u001b[43m)\u001b[49m\n\u001b[1;32m    333\u001b[0m     \u001b[38;5;28mself\u001b[39m\u001b[38;5;241m.\u001b[39m_write(node)\n\u001b[1;32m    334\u001b[0m \u001b[38;5;28;01mreturn\u001b[39;00m \u001b[38;5;28mself\u001b[39m\u001b[38;5;241m.\u001b[39m_pop()\n",
      "File \u001b[0;32m~/mambaforge/envs/python_06/lib/python3.9/site-packages/mwparserfromhell/parser/builder.py:321\u001b[0m, in \u001b[0;36mBuilder._handle_token\u001b[0;34m(self, token)\u001b[0m\n\u001b[1;32m    319\u001b[0m \u001b[38;5;124;03m\"\"\"Handle a single token.\"\"\"\u001b[39;00m\n\u001b[1;32m    320\u001b[0m \u001b[38;5;28;01mtry\u001b[39;00m:\n\u001b[0;32m--> 321\u001b[0m     \u001b[38;5;28;01mreturn\u001b[39;00m \u001b[43m_HANDLERS\u001b[49m\u001b[43m[\u001b[49m\u001b[38;5;28;43mtype\u001b[39;49m\u001b[43m(\u001b[49m\u001b[43mtoken\u001b[49m\u001b[43m)\u001b[49m\u001b[43m]\u001b[49m\u001b[43m(\u001b[49m\u001b[38;5;28;43mself\u001b[39;49m\u001b[43m,\u001b[49m\u001b[43m \u001b[49m\u001b[43mtoken\u001b[49m\u001b[43m)\u001b[49m\n\u001b[1;32m    322\u001b[0m \u001b[38;5;28;01mexcept\u001b[39;00m \u001b[38;5;167;01mKeyError\u001b[39;00m:\n\u001b[1;32m    323\u001b[0m     err \u001b[38;5;241m=\u001b[39m \u001b[38;5;124m\"\u001b[39m\u001b[38;5;124m_handle_token() got unexpected \u001b[39m\u001b[38;5;132;01m{0}\u001b[39;00m\u001b[38;5;124m\"\u001b[39m\n",
      "File \u001b[0;32m~/mambaforge/envs/python_06/lib/python3.9/site-packages/mwparserfromhell/parser/builder.py:315\u001b[0m, in \u001b[0;36mBuilder._handle_tag\u001b[0;34m(self, token)\u001b[0m\n\u001b[1;32m    301\u001b[0m         \u001b[38;5;28;01mreturn\u001b[39;00m Tag(\n\u001b[1;32m    302\u001b[0m             tag,\n\u001b[1;32m    303\u001b[0m             contents,\n\u001b[0;32m   (...)\u001b[0m\n\u001b[1;32m    312\u001b[0m             closing_wiki_markup,\n\u001b[1;32m    313\u001b[0m         )\n\u001b[1;32m    314\u001b[0m     \u001b[38;5;28;01melse\u001b[39;00m:\n\u001b[0;32m--> 315\u001b[0m         \u001b[38;5;28mself\u001b[39m\u001b[38;5;241m.\u001b[39m_write(\u001b[38;5;28;43mself\u001b[39;49m\u001b[38;5;241;43m.\u001b[39;49m\u001b[43m_handle_token\u001b[49m\u001b[43m(\u001b[49m\u001b[43mtoken\u001b[49m\u001b[43m)\u001b[49m)\n\u001b[1;32m    316\u001b[0m \u001b[38;5;28;01mraise\u001b[39;00m ParserError(\u001b[38;5;124m\"\u001b[39m\u001b[38;5;124m_handle_tag() missed a close token\u001b[39m\u001b[38;5;124m\"\u001b[39m)\n",
      "File \u001b[0;32m~/mambaforge/envs/python_06/lib/python3.9/site-packages/mwparserfromhell/parser/builder.py:321\u001b[0m, in \u001b[0;36mBuilder._handle_token\u001b[0;34m(self, token)\u001b[0m\n\u001b[1;32m    319\u001b[0m \u001b[38;5;124;03m\"\"\"Handle a single token.\"\"\"\u001b[39;00m\n\u001b[1;32m    320\u001b[0m \u001b[38;5;28;01mtry\u001b[39;00m:\n\u001b[0;32m--> 321\u001b[0m     \u001b[38;5;28;01mreturn\u001b[39;00m \u001b[43m_HANDLERS\u001b[49m\u001b[43m[\u001b[49m\u001b[38;5;28;43mtype\u001b[39;49m\u001b[43m(\u001b[49m\u001b[43mtoken\u001b[49m\u001b[43m)\u001b[49m\u001b[43m]\u001b[49m\u001b[43m(\u001b[49m\u001b[38;5;28;43mself\u001b[39;49m\u001b[43m,\u001b[49m\u001b[43m \u001b[49m\u001b[43mtoken\u001b[49m\u001b[43m)\u001b[49m\n\u001b[1;32m    322\u001b[0m \u001b[38;5;28;01mexcept\u001b[39;00m \u001b[38;5;167;01mKeyError\u001b[39;00m:\n\u001b[1;32m    323\u001b[0m     err \u001b[38;5;241m=\u001b[39m \u001b[38;5;124m\"\u001b[39m\u001b[38;5;124m_handle_token() got unexpected \u001b[39m\u001b[38;5;132;01m{0}\u001b[39;00m\u001b[38;5;124m\"\u001b[39m\n",
      "File \u001b[0;32m~/mambaforge/envs/python_06/lib/python3.9/site-packages/mwparserfromhell/parser/builder.py:301\u001b[0m, in \u001b[0;36mBuilder._handle_tag\u001b[0;34m(self, token)\u001b[0m\n\u001b[1;32m    299\u001b[0m         self_closing \u001b[38;5;241m=\u001b[39m \u001b[38;5;28;01mFalse\u001b[39;00m\n\u001b[1;32m    300\u001b[0m         closing_tag \u001b[38;5;241m=\u001b[39m \u001b[38;5;28mself\u001b[39m\u001b[38;5;241m.\u001b[39m_pop()\n\u001b[0;32m--> 301\u001b[0m     \u001b[38;5;28;01mreturn\u001b[39;00m \u001b[43mTag\u001b[49m\u001b[43m(\u001b[49m\n\u001b[1;32m    302\u001b[0m \u001b[43m        \u001b[49m\u001b[43mtag\u001b[49m\u001b[43m,\u001b[49m\n\u001b[1;32m    303\u001b[0m \u001b[43m        \u001b[49m\u001b[43mcontents\u001b[49m\u001b[43m,\u001b[49m\n\u001b[1;32m    304\u001b[0m \u001b[43m        \u001b[49m\u001b[43mattrs\u001b[49m\u001b[43m,\u001b[49m\n\u001b[1;32m    305\u001b[0m \u001b[43m        \u001b[49m\u001b[43mwiki_markup\u001b[49m\u001b[43m,\u001b[49m\n\u001b[1;32m    306\u001b[0m \u001b[43m        \u001b[49m\u001b[43mself_closing\u001b[49m\u001b[43m,\u001b[49m\n\u001b[1;32m    307\u001b[0m \u001b[43m        \u001b[49m\u001b[43minvalid\u001b[49m\u001b[43m,\u001b[49m\n\u001b[1;32m    308\u001b[0m \u001b[43m        \u001b[49m\u001b[43mimplicit\u001b[49m\u001b[43m,\u001b[49m\n\u001b[1;32m    309\u001b[0m \u001b[43m        \u001b[49m\u001b[43mpadding\u001b[49m\u001b[43m,\u001b[49m\n\u001b[1;32m    310\u001b[0m \u001b[43m        \u001b[49m\u001b[43mclosing_tag\u001b[49m\u001b[43m,\u001b[49m\n\u001b[1;32m    311\u001b[0m \u001b[43m        \u001b[49m\u001b[43mwiki_style_separator\u001b[49m\u001b[43m,\u001b[49m\n\u001b[1;32m    312\u001b[0m \u001b[43m        \u001b[49m\u001b[43mclosing_wiki_markup\u001b[49m\u001b[43m,\u001b[49m\n\u001b[1;32m    313\u001b[0m \u001b[43m    \u001b[49m\u001b[43m)\u001b[49m\n\u001b[1;32m    314\u001b[0m \u001b[38;5;28;01melse\u001b[39;00m:\n\u001b[1;32m    315\u001b[0m     \u001b[38;5;28mself\u001b[39m\u001b[38;5;241m.\u001b[39m_write(\u001b[38;5;28mself\u001b[39m\u001b[38;5;241m.\u001b[39m_handle_token(token))\n",
      "File \u001b[0;32m~/mambaforge/envs/python_06/lib/python3.9/site-packages/mwparserfromhell/nodes/tag.py:48\u001b[0m, in \u001b[0;36mTag.__init__\u001b[0;34m(self, tag, contents, attrs, wiki_markup, self_closing, invalid, implicit, padding, closing_tag, wiki_style_separator, closing_wiki_markup)\u001b[0m\n\u001b[1;32m     33\u001b[0m \u001b[38;5;28;01mdef\u001b[39;00m \u001b[38;5;21m__init__\u001b[39m(\n\u001b[1;32m     34\u001b[0m     \u001b[38;5;28mself\u001b[39m,\n\u001b[1;32m     35\u001b[0m     tag,\n\u001b[0;32m   (...)\u001b[0m\n\u001b[1;32m     45\u001b[0m     closing_wiki_markup\u001b[38;5;241m=\u001b[39m\u001b[38;5;28;01mNone\u001b[39;00m,\n\u001b[1;32m     46\u001b[0m ):\n\u001b[1;32m     47\u001b[0m     \u001b[38;5;28msuper\u001b[39m()\u001b[38;5;241m.\u001b[39m\u001b[38;5;21m__init__\u001b[39m()\n\u001b[0;32m---> 48\u001b[0m     \u001b[38;5;28;43mself\u001b[39;49m\u001b[38;5;241;43m.\u001b[39;49m\u001b[43mtag\u001b[49m \u001b[38;5;241m=\u001b[39m tag\n\u001b[1;32m     49\u001b[0m     \u001b[38;5;28mself\u001b[39m\u001b[38;5;241m.\u001b[39mcontents \u001b[38;5;241m=\u001b[39m contents\n\u001b[1;32m     50\u001b[0m     \u001b[38;5;28mself\u001b[39m\u001b[38;5;241m.\u001b[39m_attrs \u001b[38;5;241m=\u001b[39m attrs \u001b[38;5;28;01mif\u001b[39;00m attrs \u001b[38;5;28;01melse\u001b[39;00m []\n",
      "File \u001b[0;32m~/mambaforge/envs/python_06/lib/python3.9/site-packages/mwparserfromhell/nodes/tag.py:220\u001b[0m, in \u001b[0;36mTag.tag\u001b[0;34m(self, value)\u001b[0m\n\u001b[1;32m    218\u001b[0m \u001b[38;5;129m@tag\u001b[39m\u001b[38;5;241m.\u001b[39msetter\n\u001b[1;32m    219\u001b[0m \u001b[38;5;28;01mdef\u001b[39;00m \u001b[38;5;21mtag\u001b[39m(\u001b[38;5;28mself\u001b[39m, value):\n\u001b[0;32m--> 220\u001b[0m     \u001b[38;5;28mself\u001b[39m\u001b[38;5;241m.\u001b[39m_tag \u001b[38;5;241m=\u001b[39m \u001b[38;5;28mself\u001b[39m\u001b[38;5;241m.\u001b[39m_closing_tag \u001b[38;5;241m=\u001b[39m \u001b[43mparse_anything\u001b[49m\u001b[43m(\u001b[49m\u001b[43mvalue\u001b[49m\u001b[43m)\u001b[49m\n",
      "File \u001b[0;32m~/mambaforge/envs/python_06/lib/python3.9/site-packages/mwparserfromhell/utils.py:43\u001b[0m, in \u001b[0;36mparse_anything\u001b[0;34m(value, context, skip_style_tags)\u001b[0m\n\u001b[1;32m     30\u001b[0m \u001b[38;5;124;03m\"\"\"Return a :class:`.Wikicode` for *value*, allowing multiple types.\u001b[39;00m\n\u001b[1;32m     31\u001b[0m \n\u001b[1;32m     32\u001b[0m \u001b[38;5;124;03mThis differs from :meth:`.Parser.parse` in that we accept more than just a\u001b[39;00m\n\u001b[0;32m   (...)\u001b[0m\n\u001b[1;32m     40\u001b[0m \u001b[38;5;124;03mAdditional arguments are passed directly to :meth:`.Parser.parse`.\u001b[39;00m\n\u001b[1;32m     41\u001b[0m \u001b[38;5;124;03m\"\"\"\u001b[39;00m\n\u001b[1;32m     42\u001b[0m \u001b[38;5;66;03m# pylint: disable=cyclic-import,import-outside-toplevel\u001b[39;00m\n\u001b[0;32m---> 43\u001b[0m \u001b[38;5;28;01mfrom\u001b[39;00m \u001b[38;5;21;01m.\u001b[39;00m\u001b[38;5;21;01mnodes\u001b[39;00m \u001b[38;5;28;01mimport\u001b[39;00m Node\n\u001b[1;32m     44\u001b[0m \u001b[38;5;28;01mfrom\u001b[39;00m \u001b[38;5;21;01m.\u001b[39;00m\u001b[38;5;21;01mparser\u001b[39;00m \u001b[38;5;28;01mimport\u001b[39;00m Parser\n\u001b[1;32m     45\u001b[0m \u001b[38;5;28;01mfrom\u001b[39;00m \u001b[38;5;21;01m.\u001b[39;00m\u001b[38;5;21;01msmart_list\u001b[39;00m \u001b[38;5;28;01mimport\u001b[39;00m SmartList\n",
      "File \u001b[0;32m<frozen importlib._bootstrap>:398\u001b[0m, in \u001b[0;36mparent\u001b[0;34m(self)\u001b[0m\n",
      "\u001b[0;31mKeyboardInterrupt\u001b[0m: "
     ]
    }
   ],
   "source": [
    "# all: 15min\n",
    "# short: 1min 30 sec\n",
    "# apply erzeugt eine Series von DataFrames\n",
    "# tolist macht daraus eine Liste\n",
    "# und concat macht aus der Liste von DataFrames ein Gesamt-DataFrame\n",
    "wiktionary_templates = pd.concat(wiktionary.swifter.apply(parse_templatenames, axis=1).tolist()  )"
   ]
  },
  {
   "cell_type": "code",
   "execution_count": null,
   "metadata": {
    "execution": {
     "iopub.status.busy": "2023-02-20T14:41:06.869432Z",
     "iopub.status.idle": "2023-02-20T14:41:06.869754Z",
     "shell.execute_reply": "2023-02-20T14:41:06.869619Z",
     "shell.execute_reply.started": "2023-02-20T14:41:06.869604Z"
    }
   },
   "outputs": [],
   "source": [
    "# Alle Templates einzeln\n",
    "wiktionary_templates = wiktionary_templates.explode('templatenames')\n",
    "\n",
    "# split\n",
    "wiktionary_templates[['template','lenp']] = wiktionary_templates['templatenames'].str.split('☉', n=1, expand=True)"
   ]
  },
  {
   "cell_type": "code",
   "execution_count": null,
   "metadata": {
    "execution": {
     "iopub.status.busy": "2023-02-20T14:41:06.876640Z",
     "iopub.status.idle": "2023-02-20T14:41:06.877012Z",
     "shell.execute_reply": "2023-02-20T14:41:06.876866Z",
     "shell.execute_reply.started": "2023-02-20T14:41:06.876851Z"
    }
   },
   "outputs": [],
   "source": [
    "# lenp\n",
    "wiktionary_templates.lenp = wiktionary_templates.lenp.astype(int)"
   ]
  },
  {
   "cell_type": "code",
   "execution_count": null,
   "metadata": {
    "execution": {
     "iopub.status.busy": "2023-02-20T14:41:06.877876Z",
     "iopub.status.idle": "2023-02-20T14:41:06.878183Z",
     "shell.execute_reply": "2023-02-20T14:41:06.878057Z",
     "shell.execute_reply.started": "2023-02-20T14:41:06.878041Z"
    }
   },
   "outputs": [],
   "source": [
    "# Spalten pflegen\n",
    "wiktionary_templates = pak.drop_cols(wiktionary_templates,['templatenames','section_id'])"
   ]
  },
  {
   "cell_type": "code",
   "execution_count": null,
   "metadata": {
    "execution": {
     "iopub.status.busy": "2023-02-20T14:41:06.878942Z",
     "iopub.status.idle": "2023-02-20T14:41:06.879221Z",
     "shell.execute_reply": "2023-02-20T14:41:06.879098Z",
     "shell.execute_reply.started": "2023-02-20T14:41:06.879085Z"
    }
   },
   "outputs": [],
   "source": [
    "mask = wiktionary_templates.section_id2 == 'Haus'\n",
    "wiktionary_templates[mask]"
   ]
  },
  {
   "cell_type": "code",
   "execution_count": null,
   "metadata": {
    "execution": {
     "iopub.status.busy": "2023-02-20T14:41:06.879993Z",
     "iopub.status.idle": "2023-02-20T14:41:06.880278Z",
     "shell.execute_reply": "2023-02-20T14:41:06.880154Z",
     "shell.execute_reply.started": "2023-02-20T14:41:06.880140Z"
    }
   },
   "outputs": [],
   "source": [
    "# Manche Templates kommen mehrfach pro Abschnitt vor, daher wird gruppiert\n",
    "\n",
    "# 7sec\n",
    "gruppiert = wiktionary_templates.groupby(['section_id2','template'])\n",
    "\n",
    "wiktionary_templates = gruppiert.agg(\n",
    "\n",
    "    count      = ('lenp', 'count'),         \n",
    "    lenp_min   = ('lenp', 'min'),  \n",
    "    lenp_max   = ('lenp', 'max'),       \n",
    "            \n",
    ").reset_index()"
   ]
  },
  {
   "cell_type": "code",
   "execution_count": null,
   "metadata": {
    "execution": {
     "iopub.status.busy": "2023-02-20T14:41:06.881056Z",
     "iopub.status.idle": "2023-02-20T14:41:06.881357Z",
     "shell.execute_reply": "2023-02-20T14:41:06.881231Z",
     "shell.execute_reply.started": "2023-02-20T14:41:06.881216Z"
    }
   },
   "outputs": [],
   "source": [
    "grid(wiktionary_templates, pak.sample)"
   ]
  },
  {
   "cell_type": "code",
   "execution_count": null,
   "metadata": {
    "execution": {
     "iopub.status.busy": "2023-02-20T14:41:06.882133Z",
     "iopub.status.idle": "2023-02-20T14:41:06.882418Z",
     "shell.execute_reply": "2023-02-20T14:41:06.882296Z",
     "shell.execute_reply.started": "2023-02-20T14:41:06.882282Z"
    }
   },
   "outputs": [],
   "source": [
    "# Sparsame Datentypen\n",
    "wiktionary_templates = pak.change_datatype(wiktionary_templates)\n",
    "#pak.analyse_cols(wiktionary_templates)"
   ]
  },
  {
   "cell_type": "markdown",
   "metadata": {},
   "source": [
    "## wiktionary_templates belöschen"
   ]
  },
  {
   "cell_type": "code",
   "execution_count": null,
   "metadata": {
    "execution": {
     "iopub.status.busy": "2023-02-20T14:41:06.883181Z",
     "iopub.status.idle": "2023-02-20T14:41:06.883462Z",
     "shell.execute_reply": "2023-02-20T14:41:06.883339Z",
     "shell.execute_reply.started": "2023-02-20T14:41:06.883325Z"
    }
   },
   "outputs": [],
   "source": [
    "# Speicher freimachen\n",
    "#if 'all' in version:\n",
    "#    del wiktionary"
   ]
  },
  {
   "cell_type": "code",
   "execution_count": null,
   "metadata": {
    "execution": {
     "iopub.status.busy": "2023-02-20T14:41:06.884244Z",
     "iopub.status.idle": "2023-02-20T14:41:06.884557Z",
     "shell.execute_reply": "2023-02-20T14:41:06.884416Z",
     "shell.execute_reply.started": "2023-02-20T14:41:06.884401Z"
    }
   },
   "outputs": [],
   "source": [
    "# Uninteressante Templates\n",
    "templates0 =  ['Ü','K','Worttrennung','Aussprache','Sprache','Anmerkung','Reime'] \n",
    "templates0 += ['Übersetzungen','Ü-Tabelle','Referenzen','Quellen','IPA','Audio','Lautschrift','Hörbeispiele'] \n",
    "templates0 += ['ugs.','va.','landsch.','übertr.','abw.','trans.','intrans.','geh.','scherzh.','refl.','fachspr.','fam.']\n",
    "templates0 += ['südd.','nordd.','österr.','schweiz.','vatd.','gmh.','goh.','lat.','ahd.','Üxx4','Hebr','CH&LI','fro.']\n",
    "templates0 += ['mhd.','grc.','Polytonisch','Lautschrift?','Wort des Jahres']\n",
    "templates0 += ['Sg.','Sg.1','Sg.2','Pl.','Pl.1','Pl.2','Pl.3','kPl.','Komp.','Sup.','Prät.','Part.','Gen.','Dat.','Akk.',]\n",
    "templates0 += ['Beispiele fehlen','Literatur','Referenzen prüfen','Absatz']\n",
    "templates0 += ['Wikipedia','Wikiquote','Wikipedia-Suche','Wikisource','Commons','Wikisource-Suche']\n",
    "templates0 += ['Anmerkungen','Per-Deutsche Welle','Abschnitte fehlen','Dativ-e','Bekannte Namensträger','Fremdaffixe (Deutsch)']\n",
    "templates0 += ['Internetquelle','Anmerkung scht','erweitern','überarbeiten','Wörter des Jahres']"
   ]
  },
  {
   "cell_type": "code",
   "execution_count": null,
   "metadata": {
    "execution": {
     "iopub.status.busy": "2023-02-20T14:41:06.886916Z",
     "iopub.status.idle": "2023-02-20T14:41:06.895081Z",
     "shell.execute_reply": "2023-02-20T14:41:06.894838Z",
     "shell.execute_reply.started": "2023-02-20T14:41:06.894808Z"
    }
   },
   "outputs": [],
   "source": [
    "?show_stats"
   ]
  },
  {
   "cell_type": "code",
   "execution_count": null,
   "metadata": {
    "execution": {
     "iopub.status.busy": "2023-02-20T14:41:06.896996Z",
     "iopub.status.idle": "2023-02-20T14:41:06.899168Z",
     "shell.execute_reply": "2023-02-20T14:41:06.898920Z",
     "shell.execute_reply.started": "2023-02-20T14:41:06.898891Z"
    }
   },
   "outputs": [],
   "source": [
    "# Uninteressante Templates\n",
    "df = show_stats(wiktionary_templates, templates0)\n",
    "grid(df)"
   ]
  },
  {
   "cell_type": "code",
   "execution_count": null,
   "metadata": {
    "execution": {
     "iopub.status.busy": "2023-02-20T14:41:06.902976Z",
     "iopub.status.idle": "2023-02-20T14:41:06.903470Z",
     "shell.execute_reply": "2023-02-20T14:41:06.903305Z",
     "shell.execute_reply.started": "2023-02-20T14:41:06.903286Z"
    }
   },
   "outputs": [],
   "source": [
    "# belöschen\n",
    "mask = wiktionary_templates.template.isin(templates0)\n",
    "wiktionary_templates = pak.drop_rows(wiktionary_templates, mask)"
   ]
  },
  {
   "cell_type": "code",
   "execution_count": null,
   "metadata": {
    "execution": {
     "iopub.status.busy": "2023-02-20T14:41:06.909141Z",
     "iopub.status.idle": "2023-02-20T14:41:06.909605Z",
     "shell.execute_reply": "2023-02-20T14:41:06.909448Z",
     "shell.execute_reply.started": "2023-02-20T14:41:06.909430Z"
    }
   },
   "outputs": [],
   "source": [
    "# reset_index\n",
    "wiktionary_templates = pak.reset_index(wiktionary_templates)"
   ]
  },
  {
   "cell_type": "code",
   "execution_count": null,
   "metadata": {
    "execution": {
     "iopub.status.busy": "2023-02-20T14:41:06.910441Z",
     "iopub.status.idle": "2023-02-20T14:41:06.910780Z",
     "shell.execute_reply": "2023-02-20T14:41:06.910637Z",
     "shell.execute_reply.started": "2023-02-20T14:41:06.910621Z"
    }
   },
   "outputs": [],
   "source": [
    "grid(wiktionary_templates, pak.sample)"
   ]
  },
  {
   "cell_type": "markdown",
   "metadata": {},
   "source": [
    "## Speichern"
   ]
  },
  {
   "cell_type": "code",
   "execution_count": null,
   "metadata": {
    "execution": {
     "iopub.status.busy": "2023-02-20T14:41:06.911649Z",
     "iopub.status.idle": "2023-02-20T14:41:06.912198Z",
     "shell.execute_reply": "2023-02-20T14:41:06.912047Z",
     "shell.execute_reply.started": "2023-02-20T14:41:06.912029Z"
    }
   },
   "outputs": [],
   "source": [
    "# Speichern\n",
    "if wiktionary_templates_filename:\n",
    "    pak.dump_pickle(wiktionary_templates, wiktionary_templates_filename) "
   ]
  },
  {
   "cell_type": "code",
   "execution_count": null,
   "metadata": {
    "colab": {
     "base_uri": "https://localhost:8080/"
    },
    "execution": {
     "iopub.status.busy": "2023-02-20T14:41:06.913466Z",
     "iopub.status.idle": "2023-02-20T14:41:06.913876Z",
     "shell.execute_reply": "2023-02-20T14:41:06.913704Z",
     "shell.execute_reply.started": "2023-02-20T14:41:06.913688Z"
    },
    "executionInfo": {
     "elapsed": 7425,
     "status": "ok",
     "timestamp": 1676479015113,
     "user": {
      "displayName": "Hups Hopsalla",
      "userId": "10020718461385065661"
     },
     "user_tz": -60
    },
    "id": "dbiDceKXyUx7",
    "outputId": "beb0cf2a-bc86-47c4-81e6-b11c7354957c"
   },
   "outputs": [],
   "source": [
    "# Save in Google Drive\n",
    "if environment['in_colab']:\n",
    "    from google.colab import drive\n",
    "    drive.mount('/content/drive') \n",
    "    !cd /content\n",
    "    !cp -av {verzeichnis_save} /content/drive/MyDrive"
   ]
  },
  {
   "cell_type": "code",
   "execution_count": null,
   "metadata": {
    "execution": {
     "iopub.status.busy": "2023-02-20T14:41:06.916874Z",
     "iopub.status.idle": "2023-02-20T14:41:06.917313Z",
     "shell.execute_reply": "2023-02-20T14:41:06.917158Z",
     "shell.execute_reply.started": "2023-02-20T14:41:06.917141Z"
    }
   },
   "outputs": [],
   "source": [
    "pak.memory_consumption(locals())"
   ]
  },
  {
   "cell_type": "markdown",
   "metadata": {},
   "source": [
    "## Pläne überprüfen"
   ]
  },
  {
   "cell_type": "code",
   "execution_count": null,
   "metadata": {
    "execution": {
     "iopub.status.busy": "2023-02-20T14:41:06.925157Z",
     "iopub.status.idle": "2023-02-20T14:41:06.925606Z",
     "shell.execute_reply": "2023-02-20T14:41:06.925445Z",
     "shell.execute_reply.started": "2023-02-20T14:41:06.925428Z"
    }
   },
   "outputs": [],
   "source": [
    "blab.render_doc(plan_merkmal_erstellen)"
   ]
  },
  {
   "cell_type": "code",
   "execution_count": null,
   "metadata": {
    "execution": {
     "iopub.status.busy": "2023-02-20T14:41:06.926453Z",
     "iopub.status.idle": "2023-02-20T14:41:06.926799Z",
     "shell.execute_reply": "2023-02-20T14:41:06.926653Z",
     "shell.execute_reply.started": "2023-02-20T14:41:06.926637Z"
    }
   },
   "outputs": [],
   "source": [
    "# Steuertabelle\n",
    "plan_merkmal = plan_merkmal_erstellen()\n",
    "grid(plan_merkmal)"
   ]
  },
  {
   "cell_type": "code",
   "execution_count": null,
   "metadata": {
    "execution": {
     "iopub.status.busy": "2023-02-20T14:41:06.927732Z",
     "iopub.status.idle": "2023-02-20T14:41:06.928055Z",
     "shell.execute_reply": "2023-02-20T14:41:06.927925Z",
     "shell.execute_reply.started": "2023-02-20T14:41:06.927909Z"
    }
   },
   "outputs": [],
   "source": [
    "# Alle Extraktionsmethoden\n",
    "list(plan_merkmal.collect.unique())"
   ]
  },
  {
   "cell_type": "code",
   "execution_count": null,
   "metadata": {
    "execution": {
     "iopub.status.busy": "2023-02-20T14:41:06.929060Z",
     "iopub.status.idle": "2023-02-20T14:41:06.932951Z",
     "shell.execute_reply": "2023-02-20T14:41:06.932728Z",
     "shell.execute_reply.started": "2023-02-20T14:41:06.932700Z"
    }
   },
   "outputs": [],
   "source": [
    "# Templates, deren Text eingesammelt wird\n",
    "mask = (plan_merkmal.collect == 'T')\n",
    "df = show_stats(wiktionary_templates, list(plan_merkmal[mask].template) )\n",
    "grid(df)"
   ]
  },
  {
   "cell_type": "code",
   "execution_count": null,
   "metadata": {
    "execution": {
     "iopub.status.busy": "2023-02-20T14:41:06.933805Z",
     "iopub.status.idle": "2023-02-20T14:41:06.934211Z",
     "shell.execute_reply": "2023-02-20T14:41:06.934066Z",
     "shell.execute_reply.started": "2023-02-20T14:41:06.934049Z"
    }
   },
   "outputs": [],
   "source": [
    "# Templates, deren Links eingesammelt werden\n",
    "mask = (plan_merkmal.collect == 'L')\n",
    "df = show_stats(wiktionary_templates, list(plan_merkmal[mask].template) )\n",
    "grid(df)"
   ]
  },
  {
   "cell_type": "code",
   "execution_count": null,
   "metadata": {
    "execution": {
     "iopub.status.busy": "2023-02-20T14:41:06.935241Z",
     "iopub.status.idle": "2023-02-20T14:41:06.935587Z",
     "shell.execute_reply": "2023-02-20T14:41:06.935443Z",
     "shell.execute_reply.started": "2023-02-20T14:41:06.935427Z"
    }
   },
   "outputs": [],
   "source": [
    "# Templates, deren Übersetzungen eingesammelt werden\n",
    "mask = (plan_merkmal.collect == 'Ü')\n",
    "df = show_stats(wiktionary_templates, list(plan_merkmal[mask].template) )\n",
    "grid(df)"
   ]
  },
  {
   "cell_type": "code",
   "execution_count": null,
   "metadata": {
    "execution": {
     "iopub.status.busy": "2023-02-20T14:41:06.937022Z",
     "iopub.status.idle": "2023-02-20T14:41:06.940992Z",
     "shell.execute_reply": "2023-02-20T14:41:06.940769Z",
     "shell.execute_reply.started": "2023-02-20T14:41:06.940741Z"
    }
   },
   "outputs": [],
   "source": [
    "# Templates, deren Parameter eingesammelt werden\n",
    "mask = (plan_merkmal.collect == 'P')\n",
    "df = show_stats(wiktionary_templates, list(plan_merkmal[mask].template) )\n",
    "grid(df)"
   ]
  },
  {
   "cell_type": "code",
   "execution_count": null,
   "metadata": {
    "execution": {
     "iopub.status.busy": "2023-02-20T14:41:06.941847Z",
     "iopub.status.idle": "2023-02-20T14:41:06.942213Z",
     "shell.execute_reply": "2023-02-20T14:41:06.942076Z",
     "shell.execute_reply.started": "2023-02-20T14:41:06.942061Z"
    }
   },
   "outputs": [],
   "source": [
    "# Templates, deren Existenz gecheckt wird\n",
    "mask = (plan_merkmal.collect == 'E')\n",
    "df = show_stats(wiktionary_templates, list(plan_merkmal[mask].template)).sort_values('häufigkeit', ascending=False)\n",
    "grid(df)"
   ]
  },
  {
   "cell_type": "markdown",
   "metadata": {},
   "source": [
    "## Templates finden, die noch ausgewertet werden könnten"
   ]
  },
  {
   "cell_type": "code",
   "execution_count": null,
   "metadata": {
    "execution": {
     "iopub.status.busy": "2023-02-20T14:41:06.943034Z",
     "iopub.status.idle": "2023-02-20T14:41:06.943335Z",
     "shell.execute_reply": "2023-02-20T14:41:06.943204Z",
     "shell.execute_reply.started": "2023-02-20T14:41:06.943189Z"
    }
   },
   "outputs": [],
   "source": [
    "# Templates, die eine Gruppe mit gemeinsamen Oberbegriff kennzeichnen\n",
    "templates1 =  ['Monate (Deutsch)','Wochentage (Deutsch)','Staaten Europa (Deutsch)','Verwandte (Deutsch)','Bundesstaaten der USA']\n",
    "templates1 += ['Elemente','Periodensystem','Zahlensystem (Deutsch)','Planeten','Staaten Afrika (Deutsch)','Staaten Asien (Deutsch)']\n",
    "\n",
    "# Templates, die noch nicht ausgelesen werden / werden können\n",
    "templates2 =  ['Symbole','Reim'] # 'Wortart'\n",
    "    \n",
    "# Templates, die derzeit nicht interessante Informationen liefern\n",
    "templates3 =  ['Entlehnungen']\n",
    "\n",
    "known_templates = templates0 + templates1 + templates2 + templates3 + list(plan_merkmal.template)\n",
    "#known_templates"
   ]
  },
  {
   "cell_type": "code",
   "execution_count": null,
   "metadata": {
    "execution": {
     "iopub.status.busy": "2023-02-20T14:41:06.944255Z",
     "iopub.status.idle": "2023-02-20T14:41:06.944575Z",
     "shell.execute_reply": "2023-02-20T14:41:06.944431Z",
     "shell.execute_reply.started": "2023-02-20T14:41:06.944416Z"
    }
   },
   "outputs": [],
   "source": [
    "# show_stats (templates1 .. templates4 manuell durchschauen!)\n",
    "df = show_stats(wiktionary_templates, templates3 )\n",
    "grid(df)"
   ]
  },
  {
   "cell_type": "code",
   "execution_count": null,
   "metadata": {
    "execution": {
     "iopub.status.busy": "2023-02-20T14:41:06.953208Z",
     "iopub.status.idle": "2023-02-20T14:41:06.953723Z",
     "shell.execute_reply": "2023-02-20T14:41:06.953538Z",
     "shell.execute_reply.started": "2023-02-20T14:41:06.953516Z"
    }
   },
   "outputs": [],
   "source": [
    "# restliche\n",
    "df = pak.analyse_freqs( wiktionary_templates, 'template')\n",
    "mask1 = ~df.template.isin(known_templates)   \n",
    "mask2 = ~df.template.str.startswith(  ('Grundformverweis','Ref-','Lit-','QS','Ähnlichkeiten')  )\n",
    "mask3 = ~df.template.str.endswith(    ('Übersicht','Übersicht m','Übersicht f','Übersicht -sch')  )\n",
    "restliche = list(df[mask1  &  mask2  &  mask3 ].template)\n",
    "#restliche"
   ]
  },
  {
   "cell_type": "code",
   "execution_count": null,
   "metadata": {
    "execution": {
     "iopub.status.busy": "2023-02-20T14:41:06.954723Z",
     "iopub.status.idle": "2023-02-20T14:41:06.955083Z",
     "shell.execute_reply": "2023-02-20T14:41:06.954931Z",
     "shell.execute_reply.started": "2023-02-20T14:41:06.954913Z"
    }
   },
   "outputs": [],
   "source": [
    "# Kandidaten für Templates, die man noch auswerten könnte\n",
    "# show_stats \n",
    "df = show_stats(wiktionary_templates, restliche ).sort_values('häufigkeit', ascending=False)\n",
    "bgc('gold')\n",
    "grid(df)"
   ]
  },
  {
   "cell_type": "markdown",
   "metadata": {},
   "source": [
    "## Probeweises extract für ungenutzte Templates"
   ]
  },
  {
   "cell_type": "code",
   "execution_count": null,
   "metadata": {
    "execution": {
     "iopub.status.busy": "2023-02-20T14:41:06.956151Z",
     "iopub.status.idle": "2023-02-20T14:41:06.956639Z",
     "shell.execute_reply": "2023-02-20T14:41:06.956484Z",
     "shell.execute_reply.started": "2023-02-20T14:41:06.956466Z"
    }
   },
   "outputs": [],
   "source": [
    "# Parameter\n",
    "templatename     = 'Reim'\n",
    "collectmethode   = 'P'"
   ]
  },
  {
   "cell_type": "code",
   "execution_count": null,
   "metadata": {
    "execution": {
     "iopub.status.busy": "2023-02-20T14:41:06.957524Z",
     "iopub.status.idle": "2023-02-20T14:41:06.957858Z",
     "shell.execute_reply": "2023-02-20T14:41:06.957717Z",
     "shell.execute_reply.started": "2023-02-20T14:41:06.957700Z"
    }
   },
   "outputs": [],
   "source": [
    "# Section finden, welches ein bestimmtes Template enthalten\n",
    "mask = wiktionary_templates.template == templatename\n",
    "df = wiktionary_templates[mask].sort_values('count',ascending=False)\n",
    "beispiellemma = df.iloc[1].section_id2\n",
    "print('beispiellemma =', beispiellemma)\n",
    "df.head(3)"
   ]
  },
  {
   "cell_type": "code",
   "execution_count": null,
   "metadata": {
    "execution": {
     "iopub.status.busy": "2023-02-20T14:41:06.961155Z",
     "iopub.status.idle": "2023-02-20T14:41:06.961661Z",
     "shell.execute_reply": "2023-02-20T14:41:06.961479Z",
     "shell.execute_reply.started": "2023-02-20T14:41:06.961458Z"
    }
   },
   "outputs": [],
   "source": [
    "# plan für Testzwecke\n",
    "plan = pak.dataframe({'template':templatename, 'collect':collectmethode,'merkmal':'TEST'})\n",
    "plan"
   ]
  },
  {
   "cell_type": "code",
   "execution_count": null,
   "metadata": {
    "execution": {
     "iopub.status.busy": "2023-02-20T14:41:06.962665Z",
     "iopub.status.idle": "2023-02-20T14:41:06.964844Z",
     "shell.execute_reply": "2023-02-20T14:41:06.964624Z",
     "shell.execute_reply.started": "2023-02-20T14:41:06.964589Z"
    }
   },
   "outputs": [],
   "source": [
    "mask = (wiktionary.section_id2 == beispiellemma)\n",
    "testzeile = wiktionary[mask].iloc[0]\n",
    "#testzeile\n",
    "\n",
    "wikicode = mwparserfromhell.parse(testzeile.wikitext)   \n",
    "\n",
    "df = extract_all(testzeile, plan, step=None )\n",
    "df"
   ]
  },
  {
   "cell_type": "markdown",
   "metadata": {},
   "source": [
    "## wiktionary_merkmal anschauen"
   ]
  },
  {
   "cell_type": "code",
   "execution_count": null,
   "metadata": {
    "execution": {
     "iopub.status.busy": "2023-02-20T14:41:06.965747Z",
     "iopub.status.idle": "2023-02-20T14:41:06.966077Z",
     "shell.execute_reply": "2023-02-20T14:41:06.965935Z",
     "shell.execute_reply.started": "2023-02-20T14:41:06.965919Z"
    }
   },
   "outputs": [],
   "source": [
    "# Suche festlegen\n",
    "suche_debug = ['Haus',]"
   ]
  },
  {
   "cell_type": "code",
   "execution_count": null,
   "metadata": {
    "execution": {
     "iopub.status.busy": "2023-02-20T14:41:06.967059Z",
     "iopub.status.idle": "2023-02-20T14:41:06.967367Z",
     "shell.execute_reply": "2023-02-20T14:41:06.967237Z",
     "shell.execute_reply.started": "2023-02-20T14:41:06.967222Z"
    }
   },
   "outputs": [],
   "source": [
    "# Laden\n",
    "wiktionary_merkmal      = pak.load_pickle(wiktionary_merkmal_filename)"
   ]
  },
  {
   "cell_type": "code",
   "execution_count": null,
   "metadata": {
    "execution": {
     "iopub.status.busy": "2023-02-20T14:41:06.968277Z",
     "iopub.status.idle": "2023-02-20T14:41:06.969015Z",
     "shell.execute_reply": "2023-02-20T14:41:06.968874Z",
     "shell.execute_reply.started": "2023-02-20T14:41:06.968856Z"
    }
   },
   "outputs": [],
   "source": [
    "# wiktionary_merkmal\n",
    "mask = wiktionary.title.isin(suche_debug)\n",
    "suche_section_id2s = wiktionary[mask].section_id2.tolist()\n",
    "mask = wiktionary_merkmal.section_id2.isin(suche_section_id2s)\n",
    "a = pak.analyse_freqs( wiktionary_merkmal[mask], ['merkmal','data'], limits=[999,None])\n",
    "grid(a)"
   ]
  },
  {
   "cell_type": "code",
   "execution_count": null,
   "metadata": {
    "execution": {
     "iopub.status.busy": "2023-02-20T14:41:06.969734Z",
     "iopub.status.idle": "2023-02-20T14:41:06.970359Z",
     "shell.execute_reply": "2023-02-20T14:41:06.970219Z",
     "shell.execute_reply.started": "2023-02-20T14:41:06.970201Z"
    }
   },
   "outputs": [],
   "source": [
    "mask = (wiktionary_merkmal.node_kontext != '')\n",
    "df = wiktionary_merkmal[mask]\n",
    "a = pak.analyse_freqs( df, ['node_kontext','node_debug'], limits=[50,None] )\n",
    "grid(a)"
   ]
  },
  {
   "cell_type": "markdown",
   "metadata": {},
   "source": [
    "## wiktionary_merkmal_text anschauen"
   ]
  },
  {
   "cell_type": "code",
   "execution_count": null,
   "metadata": {
    "execution": {
     "iopub.status.busy": "2023-02-20T14:41:06.973059Z",
     "iopub.status.idle": "2023-02-20T14:41:06.973822Z",
     "shell.execute_reply": "2023-02-20T14:41:06.973674Z",
     "shell.execute_reply.started": "2023-02-20T14:41:06.973655Z"
    }
   },
   "outputs": [],
   "source": [
    "# Laden\n",
    "wiktionary_merkmal_text = pak.load_pickle(wiktionary_merkmal_text_filename)  # Falls vorhanden"
   ]
  },
  {
   "cell_type": "code",
   "execution_count": null,
   "metadata": {
    "execution": {
     "iopub.status.busy": "2023-02-20T14:41:06.974543Z",
     "iopub.status.idle": "2023-02-20T14:41:06.976728Z",
     "shell.execute_reply": "2023-02-20T14:41:06.976518Z",
     "shell.execute_reply.started": "2023-02-20T14:41:06.976490Z"
    },
    "tags": []
   },
   "outputs": [],
   "source": [
    "# wiktionary_merkmal_text\n",
    "mask = wiktionary.title.isin(suche_debug)\n",
    "suche_section_ids = wiktionary[mask].section_id.tolist()\n",
    "mask = wiktionary_merkmal_text.section_id.isin(suche_section_ids)\n",
    "grid(wiktionary_merkmal_text, mask)"
   ]
  },
  {
   "cell_type": "code",
   "execution_count": null,
   "metadata": {},
   "outputs": [],
   "source": [
    "raise Stop"
   ]
  }
 ],
 "metadata": {
  "kernelspec": {
   "display_name": "Python 3 (ipykernel)",
   "language": "python",
   "name": "python3"
  },
  "language_info": {
   "codemirror_mode": {
    "name": "ipython",
    "version": 3
   },
   "file_extension": ".py",
   "mimetype": "text/x-python",
   "name": "python",
   "nbconvert_exporter": "python",
   "pygments_lexer": "ipython3",
   "version": "3.9.13"
  }
 },
 "nbformat": 4,
 "nbformat_minor": 4
}
