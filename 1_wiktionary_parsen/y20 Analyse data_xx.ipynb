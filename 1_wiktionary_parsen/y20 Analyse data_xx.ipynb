{
 "cells": [
  {
   "cell_type": "markdown",
   "id": "4536224e-7035-4a7c-958b-79863d35276a",
   "metadata": {},
   "source": [
    "# Analyse\n",
    "* Lädt ein beliebiges Verzeichnis"
   ]
  },
  {
   "cell_type": "raw",
   "id": "ca0222a6-bcf6-40ad-8b20-36e907d70688",
   "metadata": {},
   "source": [
    "'ausführt'"
   ]
  },
  {
   "cell_type": "code",
   "execution_count": 1,
   "id": "df6275af-f117-4087-9ac8-c5a20510dd76",
   "metadata": {},
   "outputs": [],
   "source": [
    "# Was debuggen?\n",
    "suche_debug      = ['gefriergetrocknet','gefriertrocknen','missraten']  \n",
    "verzeichnis_load = 'data_01'"
   ]
  },
  {
   "cell_type": "code",
   "execution_count": null,
   "id": "f3afe4d6-1388-472d-a597-73ed24852883",
   "metadata": {},
   "outputs": [],
   "source": [
    "# blab init\n",
    "try:\n",
    "    import blab\n",
    "except ImportError as e:\n",
    "    !pip install blab\n",
    "    import blab    \n",
    "startup_notebook = blab.blab_startup()\n",
    "%run $startup_notebook "
   ]
  },
  {
   "cell_type": "code",
   "execution_count": 3,
   "id": "856338e6-0889-47b4-80a7-4c654ea150f8",
   "metadata": {},
   "outputs": [
    {
     "name": "stdout",
     "output_type": "stream",
     "text": [
      "time: 20.4 ms\n"
     ]
    }
   ],
   "source": [
    "%matplotlib inline"
   ]
  },
  {
   "cell_type": "code",
   "execution_count": 4,
   "id": "7923f4f3-580b-45b4-8d58-59401744c9bb",
   "metadata": {},
   "outputs": [
    {
     "name": "stdout",
     "output_type": "stream",
     "text": [
      "time: 2.28 s\n"
     ]
    }
   ],
   "source": [
    "import numpy      as np\n",
    "import pandas     as pd \n",
    "import bpyth      as bpy\n",
    "import pandasklar as pak \n",
    "\n",
    "grid       = pak.grid\n",
    "check_mask = pak.check_mask"
   ]
  },
  {
   "cell_type": "code",
   "execution_count": 5,
   "id": "19e60ee4-ed14-4aa2-b66c-f85143149c24",
   "metadata": {},
   "outputs": [
    {
     "name": "stdout",
     "output_type": "stream",
     "text": [
      "time: 2.5 s\n"
     ]
    }
   ],
   "source": [
    "from Steuertabellen.s01_Steuertabellen import *\n",
    "from x32_Funktionen                    import *"
   ]
  },
  {
   "cell_type": "code",
   "execution_count": 6,
   "id": "63849836-6ca6-4133-8ee7-188df45b9d36",
   "metadata": {},
   "outputs": [
    {
     "name": "stdout",
     "output_type": "stream",
     "text": [
      "VERBOSE = True\n",
      "--> setting verbose=True as default for all pandasklar functions\n",
      "\n",
      "time: 44.4 ms\n"
     ]
    }
   ],
   "source": [
    "# Einstellungen\n",
    "\n",
    "\n",
    "\n",
    "# verbose\n",
    "pak.Config.set('VERBOSE', True)\n",
    "\n",
    "# Steuertabellen, externe und manuelle Daten\n",
    "löschliste_filename                   = 'Steuertabellen/löschliste.xlsx'     \n",
    "lexeme_manuell_filename               = 'Steuertabellen/lexeme_manuell.xlsx'                              # manuell eingepflegte Lexeme \n",
    "named_entities_filename               = '../../22 NLP NamedEntities/data_02/named_entities_02.xlsx'  \n",
    "lex_test_filename                     = 'Steuertabellen/lex_test.xlsx'    \n",
    "\n"
   ]
  },
  {
   "cell_type": "code",
   "execution_count": 7,
   "id": "cd8f09b8-a0d6-4011-ba8a-149cfc61b3ec",
   "metadata": {},
   "outputs": [
    {
     "name": "stdout",
     "output_type": "stream",
     "text": [
      "time: 44.4 ms\n"
     ]
    }
   ],
   "source": [
    "# Lade data_00\n",
    "if verzeichnis_load == 'data_00':\n",
    "    wiktionary_filename                   = verzeichnis_load + '/wiktionary'              + '_all.pickle'  \n",
    "    wiktionary_trash_filename             = verzeichnis_load + '/wiktionary_trash'        + '_all.pickle'\n",
    "    wiktionary_merkmal_filename           = verzeichnis_load + '/wiktionary_merkmal'      + '_all.pickle'  \n",
    "    wiktionary_merkmal_text_filename      = verzeichnis_load + '/wiktionary_merkmal_text' + '_all.pickle'  \n",
    "\n",
    "    # Laden     \n",
    "    wiktionary               = pak.load_pickle(wiktionary_filename)\n",
    "    wiktionary               = pak.drop_cols(wiktionary,['wikitext','section_id'])\n",
    "    \n",
    "    wiktionary_trash         = pak.load_pickle(wiktionary_trash_filename)\n",
    "    wiktionary_trash         = pak.drop_cols(wiktionary_trash,['msg','section_id','wikitext'])\n",
    "    wiktionary_trash         = pak.rename_col(wiktionary_trash,'error','msg')\n",
    "\n",
    "    wiktionary_merkmal       = pak.load_pickle(wiktionary_merkmal_filename)\n",
    "    wiktionary_merkmal       = pak.drop_cols(wiktionary_merkmal,['section_id'])\n",
    "\n",
    "    wiktionary_merkmal_trash = wiktionary_merkmal.head(0)\n",
    "\n",
    "    # wiktionary_merkmal_text wird erst später geladen    "
   ]
  },
  {
   "cell_type": "code",
   "execution_count": 8,
   "id": "a11c7449-9cc8-4064-874d-1012d70043ae",
   "metadata": {},
   "outputs": [
    {
     "name": "stdout",
     "output_type": "stream",
     "text": [
      "168017 rows loaded\n",
      "644849 rows loaded\n",
      "4987597 rows loaded\n",
      "621260 rows loaded\n",
      "time: 9.08 s\n"
     ]
    }
   ],
   "source": [
    "# Lade data_01\n",
    "if verzeichnis_load == 'data_01':\n",
    "    wiktionary_lemma_filename                = verzeichnis_load + '/wiktionary_lemma'        + '_all.pickle'  \n",
    "    wiktionary_nolemma_filename              = verzeichnis_load + '/wiktionary_nolemma'      + '_all.pickle'  \n",
    "    wiktionary_merkmal_filename              = verzeichnis_load + '/wiktionary_merkmal'      + '_all.pickle'  \n",
    "    wiktionary_merkmal_text_filename         = verzeichnis_load + '/wiktionary_merkmal_text' + '_all.pickle'  \n",
    "    \n",
    "    # Laden     \n",
    "    wiktionary_lemma         = pak.load_pickle(wiktionary_lemma_filename)\n",
    "    wiktionary_nolemma       = pak.load_pickle(wiktionary_nolemma_filename)\n",
    "    wiktionary_merkmal       = pak.load_pickle(wiktionary_merkmal_filename)\n",
    "    wiktionary_merkmal_text  = pak.load_pickle(wiktionary_merkmal_text_filename)    "
   ]
  },
  {
   "cell_type": "code",
   "execution_count": 9,
   "id": "21003fad-b3be-4d81-8eaf-8857c4e7da70",
   "metadata": {},
   "outputs": [
    {
     "name": "stdout",
     "output_type": "stream",
     "text": [
      "time: 34.4 ms\n"
     ]
    }
   ],
   "source": [
    "# Lade data_02\n",
    "if verzeichnis_load == 'data_02':\n",
    "    wiktionary_lemma_filename              = verzeichnis_load + '/wiktionary_lemma.pickle'  \n",
    "    translate_lex_filename                 = verzeichnis_load + '/wiktionary_nolemma.pickle'      # hieß vorher wiktionary_nolemma\n",
    "    wiktionary_merkmal_filename            = verzeichnis_load + '/wiktionary_merkmal.pickle'  \n",
    "    wiktionary_merkmal_wertlos_filename    = verzeichnis_load + '/wiktionary_merkmal_wertlos.pickle'     \n",
    "    wiktionary_merkmal_text_filename       = verzeichnis_load + '/wiktionary_merkmal_text.pickle'  \n",
    "    \n",
    "    # Laden     \n",
    "    wiktionary_lemma           = pak.load_pickle(wiktionary_lemma_filename)\n",
    "    translate_lex              = pak.load_pickle(translate_lex_filename)\n",
    "    wiktionary_merkmal         = pak.load_pickle(wiktionary_merkmal_filename)\n",
    "    wiktionary_merkmal_wertlos = pak.load_pickle(wiktionary_merkmal_wertlos_filename)    \n",
    "    wiktionary_merkmal_text    = pak.load_pickle(wiktionary_merkmal_text_filename)"
   ]
  },
  {
   "cell_type": "code",
   "execution_count": 10,
   "id": "bf6712c1-1715-47a4-8d03-821207790511",
   "metadata": {},
   "outputs": [
    {
     "name": "stdout",
     "output_type": "stream",
     "text": [
      "time: 37.7 ms\n"
     ]
    }
   ],
   "source": [
    "# Lade data_03\n",
    "if verzeichnis_load == 'data_03':\n",
    "    wiktionary_lemma_filename             = verzeichnis_load + '/wiktionary_lemma.pickle'   \n",
    "    wiktionary_merkmal_filename           = verzeichnis_load + '/wiktionary_merkmal.pickle'  \n",
    "    wiktionary_merkmal_text_filename      = verzeichnis_load + '/wiktionary_merkmal_text.pickle'  \n",
    "    translate_lex_filename                = verzeichnis_load + '/translate_lex.pickle'  \n",
    "    translate_lex_trash_filename          = verzeichnis_load + '/translate_lex_trash.pickle'      \n",
    "    translate_lemma_filename              = verzeichnis_load + '/translate_lemma.pickle'  \n",
    "    \n",
    "    # Laden     \n",
    "    wiktionary_lemma         = pak.load_pickle(wiktionary_lemma_filename)\n",
    "    wiktionary_merkmal       = pak.load_pickle(wiktionary_merkmal_filename)\n",
    "    wiktionary_merkmal_text  = pak.load_pickle(wiktionary_merkmal_text_filename)\n",
    "    translate_lex            = pak.load_pickle(translate_lex_filename)\n",
    "    translate_lex_trash      = pak.load_pickle(translate_lex_trash_filename)    \n",
    "    translate_lemma          = pak.load_pickle(translate_lemma_filename)"
   ]
  },
  {
   "cell_type": "markdown",
   "id": "f77047e3-6f80-437f-bace-65e5214bea39",
   "metadata": {},
   "source": [
    "## wiktionary"
   ]
  },
  {
   "cell_type": "code",
   "execution_count": 11,
   "id": "83e2442f-e9e5-4d54-88f9-9acbd7050f75",
   "metadata": {},
   "outputs": [
    {
     "name": "stdout",
     "output_type": "stream",
     "text": [
      "nicht geladen\n",
      "\u001b[1m\u001b[7m\u001b[34mNo rows\u001b[0m\n",
      "time: 45.9 ms\n"
     ]
    }
   ],
   "source": [
    "a = pd.DataFrame()\n",
    "if 'wiktionary' in locals():\n",
    "    mask = wiktionary.title.isin(suche_debug) \n",
    "    a = wiktionary[mask]\n",
    "    a = a.sort_values(['section_id2','title'])\n",
    "else:\n",
    "    print('nicht geladen')\n",
    "grid(a)"
   ]
  },
  {
   "cell_type": "code",
   "execution_count": 12,
   "id": "75c4a38b-ba53-4bad-ad0d-fe929b9cadee",
   "metadata": {},
   "outputs": [
    {
     "name": "stdout",
     "output_type": "stream",
     "text": [
      "nicht geladen\n",
      "\u001b[1m\u001b[7m\u001b[34mNo rows\u001b[0m\n",
      "time: 36.2 ms\n"
     ]
    }
   ],
   "source": [
    "a = pd.DataFrame()\n",
    "if 'wiktionary_trash' in locals():\n",
    "    mask = wiktionary_trash.title.isin(suche_debug) \n",
    "    a = wiktionary_trash[mask]\n",
    "    a = a.sort_values(['section_id2','title'])   \n",
    "else:\n",
    "    print('nicht geladen')    \n",
    "grid(a)"
   ]
  },
  {
   "cell_type": "markdown",
   "id": "ac573a07-c749-46a2-bd56-3c078c58891f",
   "metadata": {},
   "source": [
    "## wiktionary_lemma"
   ]
  },
  {
   "cell_type": "code",
   "execution_count": 13,
   "id": "b51cf73c-730d-4166-8ffe-c02bbb128957",
   "metadata": {},
   "outputs": [
    {
     "name": "stdout",
     "output_type": "stream",
     "text": [
      "7 rows\n"
     ]
    },
    {
     "data": {
      "text/html": [
       "\n",
       "        <iframe\n",
       "            width=\"100%\"\n",
       "            height=\"475\"\n",
       "            src=\"http://pop-os:40001/dtale/iframe/1\"\n",
       "            frameborder=\"0\"\n",
       "            allowfullscreen\n",
       "            \n",
       "        ></iframe>\n",
       "        "
      ],
      "text/plain": [
       "<IPython.lib.display.IFrame at 0x7f72b625ff40>"
      ]
     },
     "metadata": {},
     "output_type": "display_data"
    },
    {
     "data": {
      "text/plain": []
     },
     "execution_count": 13,
     "metadata": {},
     "output_type": "execute_result"
    },
    {
     "name": "stdout",
     "output_type": "stream",
     "text": [
      "time: 205 ms\n"
     ]
    }
   ],
   "source": [
    "a = pd.DataFrame()\n",
    "if 'wiktionary_lemma' in locals():\n",
    "    mask = wiktionary_lemma.lemma.isin(suche_debug) \n",
    "    a = wiktionary_lemma[mask]\n",
    "    #a = a.sort_values(['section_id2','merkmal','data'])   \n",
    "else:\n",
    "    print('nicht geladen')    \n",
    "grid(a)"
   ]
  },
  {
   "cell_type": "code",
   "execution_count": 14,
   "id": "5e97ec65-637d-4826-b13d-1ef526ab28c2",
   "metadata": {},
   "outputs": [
    {
     "name": "stdout",
     "output_type": "stream",
     "text": [
      "nicht geladen\n",
      "\u001b[1m\u001b[7m\u001b[34mNo rows\u001b[0m\n",
      "time: 72.5 ms\n"
     ]
    }
   ],
   "source": [
    "a = pd.DataFrame()\n",
    "if 'wiktionary_lemma_trash' in locals():\n",
    "    mask = wiktionary_lemma_trash.lemma.isin(suche_debug) \n",
    "    a = wiktionary_lemma_trash[mask]\n",
    "    #a = a.sort_values(['section_id2','merkmal','data'])   \n",
    "else:\n",
    "    print('nicht geladen')    \n",
    "grid(a)"
   ]
  },
  {
   "cell_type": "markdown",
   "id": "f00b4eda-e0b4-49c0-ba07-980c68a92c72",
   "metadata": {},
   "source": [
    "## wiktionary_nolemma"
   ]
  },
  {
   "cell_type": "code",
   "execution_count": 15,
   "id": "25389561-434c-4f0f-a7b0-a728f10aae8d",
   "metadata": {},
   "outputs": [
    {
     "name": "stdout",
     "output_type": "stream",
     "text": [
      "35 rows\n"
     ]
    },
    {
     "data": {
      "text/html": [
       "\n",
       "        <iframe\n",
       "            width=\"100%\"\n",
       "            height=\"475\"\n",
       "            src=\"http://pop-os:40001/dtale/iframe/2\"\n",
       "            frameborder=\"0\"\n",
       "            allowfullscreen\n",
       "            \n",
       "        ></iframe>\n",
       "        "
      ],
      "text/plain": [
       "<IPython.lib.display.IFrame at 0x7f72a9f9a9a0>"
      ]
     },
     "metadata": {},
     "output_type": "display_data"
    },
    {
     "data": {
      "text/plain": []
     },
     "execution_count": 15,
     "metadata": {},
     "output_type": "execute_result"
    },
    {
     "name": "stdout",
     "output_type": "stream",
     "text": [
      "time: 273 ms\n"
     ]
    }
   ],
   "source": [
    "a = pd.DataFrame()\n",
    "if 'wiktionary_nolemma' in locals():\n",
    "    maskA = wiktionary_nolemma.lex.isin(suche_debug) \n",
    "    maskB = wiktionary_nolemma.lemma.isin(suche_debug)   \n",
    "    mask = maskA | maskB\n",
    "    a = wiktionary_nolemma[mask]\n",
    "    a = a.sort_values(['lemma','lex',])   \n",
    "else:\n",
    "    print('nicht geladen')    \n",
    "grid(a)"
   ]
  },
  {
   "cell_type": "markdown",
   "id": "37387549-525d-4cb7-a739-c4eda7e40243",
   "metadata": {},
   "source": [
    "## wiktionary_merkmal Lexeme"
   ]
  },
  {
   "cell_type": "code",
   "execution_count": 16,
   "id": "f8f2ab49-1fc9-4032-a056-488beb5f8f49",
   "metadata": {},
   "outputs": [
    {
     "name": "stdout",
     "output_type": "stream",
     "text": [
      "55 rows\n"
     ]
    },
    {
     "data": {
      "text/html": [
       "\n",
       "        <iframe\n",
       "            width=\"100%\"\n",
       "            height=\"475\"\n",
       "            src=\"http://pop-os:40001/dtale/iframe/3\"\n",
       "            frameborder=\"0\"\n",
       "            allowfullscreen\n",
       "            \n",
       "        ></iframe>\n",
       "        "
      ],
      "text/plain": [
       "<IPython.lib.display.IFrame at 0x7f72b51dfc10>"
      ]
     },
     "metadata": {},
     "output_type": "display_data"
    },
    {
     "data": {
      "text/plain": []
     },
     "execution_count": 16,
     "metadata": {},
     "output_type": "execute_result"
    },
    {
     "name": "stdout",
     "output_type": "stream",
     "text": [
      "time: 561 ms\n"
     ]
    }
   ],
   "source": [
    "a = pd.DataFrame()\n",
    "if 'wiktionary_merkmal' in locals():\n",
    "    if 'is_lex' in wiktionary_merkmal.columns:\n",
    "        mask1 = wiktionary_merkmal.data.isin(suche_debug) \n",
    "        mask2 = wiktionary_merkmal.is_lex == True\n",
    "        mask = mask1  &  mask2\n",
    "    else:\n",
    "        mask = wiktionary_merkmal.data.isin(suche_debug) \n",
    "    a = wiktionary_merkmal[mask]\n",
    "    if 'section_id2' in wiktionary_merkmal.columns:\n",
    "        a = a.sort_values(['section_id2','merkmal','data'])  \n",
    "    else:\n",
    "        a = a.sort_values(['lemma_id','merkmal','data'])  \n",
    "else:\n",
    "    print('nicht geladen')    \n",
    "grid(a)"
   ]
  },
  {
   "cell_type": "code",
   "execution_count": 17,
   "id": "939d0e0d-9dc1-40d1-a6a2-446d596c7453",
   "metadata": {},
   "outputs": [
    {
     "name": "stdout",
     "output_type": "stream",
     "text": [
      "nicht geladen\n",
      "\u001b[1m\u001b[7m\u001b[34mNo rows\u001b[0m\n",
      "time: 59 ms\n"
     ]
    }
   ],
   "source": [
    "a = pd.DataFrame()\n",
    "if 'wiktionary_merkmal_trash' in locals():\n",
    "    mask = wiktionary_merkmal_trash.data.isin(suche_debug) \n",
    "    a = wiktionary_merkmal_trash[mask]\n",
    "    a = a.sort_values(['section_id2','merkmal','data']) \n",
    "else:\n",
    "    print('nicht geladen')    \n",
    "grid(a)"
   ]
  },
  {
   "cell_type": "markdown",
   "id": "da072fe7-cf9f-409d-88c4-3c5b596dc8d0",
   "metadata": {},
   "source": [
    "## translate_lex"
   ]
  },
  {
   "cell_type": "code",
   "execution_count": 18,
   "id": "e9185562-9cea-48c6-955d-5eaedd6e9a94",
   "metadata": {},
   "outputs": [
    {
     "name": "stdout",
     "output_type": "stream",
     "text": [
      "nicht geladen\n",
      "\u001b[1m\u001b[7m\u001b[34mNo rows\u001b[0m\n",
      "time: 53.4 ms\n"
     ]
    }
   ],
   "source": [
    "a = pd.DataFrame()\n",
    "if 'translate_lex' in locals():\n",
    "    if 'lex' in wiktionary_merkmal.columns:\n",
    "        maskA = translate_lex.lex.isin(suche_debug) \n",
    "        maskB = translate_lex.lemma.isin(suche_debug)   \n",
    "        mask = maskA | maskB\n",
    "        a = translate_lex[mask]\n",
    "        a = a.sort_values(['lemma_id','lex_tag','lex'])  \n",
    "    elif 'data' in wiktionary_merkmal.columns:\n",
    "        maskA = translate_lex.data.isin(suche_debug) \n",
    "        maskB = translate_lex.lemma.isin(suche_debug)   \n",
    "        mask = maskA | maskB\n",
    "        a = translate_lex[mask]\n",
    "        a = a.sort_values(['lemma_id','data_tag','data',])           \n",
    "else:\n",
    "    print('nicht geladen')    \n",
    "grid(a)"
   ]
  },
  {
   "cell_type": "code",
   "execution_count": 19,
   "id": "a9e05241-6925-4f25-95f8-0dc9d99b094c",
   "metadata": {},
   "outputs": [
    {
     "name": "stdout",
     "output_type": "stream",
     "text": [
      "nicht geladen\n",
      "\u001b[1m\u001b[7m\u001b[34mNo rows\u001b[0m\n",
      "time: 50.5 ms\n"
     ]
    }
   ],
   "source": [
    "a = pd.DataFrame()\n",
    "if 'translate_lex_trash' in locals():\n",
    "    maskA = translate_lex_trash.lex.isin(suche_debug) \n",
    "    maskB = translate_lex_trash.lemma.isin(suche_debug)   \n",
    "    mask = maskA | maskB\n",
    "    a = translate_lex_trash[mask]\n",
    "    a = a.sort_values(['lemma','lex',])   \n",
    "else:\n",
    "    print('nicht geladen')    \n",
    "grid(a)"
   ]
  },
  {
   "cell_type": "markdown",
   "id": "f7d36b3d-2751-407c-a511-26ecbd726016",
   "metadata": {},
   "source": [
    "## translate_lemma"
   ]
  },
  {
   "cell_type": "code",
   "execution_count": 20,
   "id": "96205c5f-aa82-40c7-aae3-8c3181d1132f",
   "metadata": {},
   "outputs": [
    {
     "name": "stdout",
     "output_type": "stream",
     "text": [
      "nicht geladen\n",
      "\u001b[1m\u001b[7m\u001b[34mNo rows\u001b[0m\n",
      "time: 43.5 ms\n"
     ]
    }
   ],
   "source": [
    "a = pd.DataFrame()\n",
    "if 'translate_lemma' in locals():\n",
    "    maskA = translate_lemma.lem.isin(suche_debug) \n",
    "    maskB = translate_lemma.lemma.isin(suche_debug)   \n",
    "    mask = maskA | maskB\n",
    "    a = translate_lemma[mask]\n",
    "    a = a.sort_values(['lemma','lem',])   \n",
    "else:\n",
    "    print('nicht geladen')    \n",
    "grid(a)"
   ]
  },
  {
   "cell_type": "markdown",
   "id": "c96ed7dd-f525-4d19-a6f5-fe3f90b27af5",
   "metadata": {},
   "source": [
    "## plan_merkmal"
   ]
  },
  {
   "cell_type": "code",
   "execution_count": 21,
   "id": "0a2a3add-9b53-49be-b6b6-4539c82c8046",
   "metadata": {},
   "outputs": [
    {
     "name": "stdout",
     "output_type": "stream",
     "text": [
      "time: 37.5 ms\n"
     ]
    }
   ],
   "source": [
    "#blab.render_doc(plan_merkmal_erstellen)"
   ]
  },
  {
   "cell_type": "code",
   "execution_count": 22,
   "id": "b1d56c30-9af6-49e8-9265-e9f1cab54847",
   "metadata": {},
   "outputs": [
    {
     "name": "stdout",
     "output_type": "stream",
     "text": [
      "103 rows\n"
     ]
    },
    {
     "data": {
      "text/html": [
       "\n",
       "        <iframe\n",
       "            width=\"100%\"\n",
       "            height=\"475\"\n",
       "            src=\"http://pop-os:40001/dtale/iframe/4\"\n",
       "            frameborder=\"0\"\n",
       "            allowfullscreen\n",
       "            \n",
       "        ></iframe>\n",
       "        "
      ],
      "text/plain": [
       "<IPython.lib.display.IFrame at 0x7f72b51d5700>"
      ]
     },
     "metadata": {},
     "output_type": "display_data"
    },
    {
     "data": {
      "text/plain": []
     },
     "execution_count": 22,
     "metadata": {},
     "output_type": "execute_result"
    },
    {
     "name": "stdout",
     "output_type": "stream",
     "text": [
      "time: 140 ms\n"
     ]
    }
   ],
   "source": [
    "# plan_merkmal Steuertabelle\n",
    "plan_merkmal = plan_merkmal_erstellen()\n",
    "grid(plan_merkmal, rows=9, column_definitions={ 'collect': {'maxWidth': 50,}, ' ': {'maxWidth': 50,}                   },     )"
   ]
  },
  {
   "cell_type": "code",
   "execution_count": 23,
   "id": "ffcbf54d-d946-4bdb-91ef-91be225dc3e6",
   "metadata": {},
   "outputs": [
    {
     "name": "stdout",
     "output_type": "stream",
     "text": [
      "3 rows\n"
     ]
    },
    {
     "data": {
      "text/html": [
       "\n",
       "        <iframe\n",
       "            width=\"100%\"\n",
       "            height=\"475\"\n",
       "            src=\"http://pop-os:40001/dtale/iframe/5\"\n",
       "            frameborder=\"0\"\n",
       "            allowfullscreen\n",
       "            \n",
       "        ></iframe>\n",
       "        "
      ],
      "text/plain": [
       "<IPython.lib.display.IFrame at 0x7f72b51dbdc0>"
      ]
     },
     "metadata": {},
     "output_type": "display_data"
    },
    {
     "data": {
      "text/plain": []
     },
     "execution_count": 23,
     "metadata": {},
     "output_type": "execute_result"
    },
    {
     "name": "stdout",
     "output_type": "stream",
     "text": [
      "time: 148 ms\n"
     ]
    }
   ],
   "source": [
    "a= pak.analyse_freqs(plan_merkmal,['plan','merkmal'])\n",
    "grid(a, width=200)"
   ]
  },
  {
   "cell_type": "code",
   "execution_count": 24,
   "id": "ad689bd9-0328-4586-b6ea-c69d1c65c883",
   "metadata": {},
   "outputs": [
    {
     "data": {
      "text/html": [
       "<div>\n",
       "<style scoped>\n",
       "    .dataframe tbody tr th:only-of-type {\n",
       "        vertical-align: middle;\n",
       "    }\n",
       "\n",
       "    .dataframe tbody tr th {\n",
       "        vertical-align: top;\n",
       "    }\n",
       "\n",
       "    .dataframe thead th {\n",
       "        text-align: right;\n",
       "    }\n",
       "</style>\n",
       "<table border=\"1\" class=\"dataframe\">\n",
       "  <thead>\n",
       "    <tr style=\"text-align: right;\">\n",
       "      <th></th>\n",
       "      <th>merkmal</th>\n",
       "      <th>template</th>\n",
       "      <th>collect</th>\n",
       "      <th>plan</th>\n",
       "      <th>sort</th>\n",
       "      <th>is_lex</th>\n",
       "    </tr>\n",
       "  </thead>\n",
       "  <tbody>\n",
       "    <tr>\n",
       "      <th>10</th>\n",
       "      <td>übersicht</td>\n",
       "      <td>Übersicht</td>\n",
       "      <td>P</td>\n",
       "      <td>1</td>\n",
       "      <td></td>\n",
       "      <td>False</td>\n",
       "    </tr>\n",
       "    <tr>\n",
       "      <th>11</th>\n",
       "      <td>übersicht</td>\n",
       "      <td>Pronomina-Tabelle</td>\n",
       "      <td>P</td>\n",
       "      <td>1</td>\n",
       "      <td></td>\n",
       "      <td>False</td>\n",
       "    </tr>\n",
       "  </tbody>\n",
       "</table>\n",
       "</div>"
      ],
      "text/plain": [
       "      merkmal           template collect  plan sort  is_lex\n",
       "10  übersicht          Übersicht       P     1        False\n",
       "11  übersicht  Pronomina-Tabelle       P     1        False"
      ]
     },
     "execution_count": 24,
     "metadata": {},
     "output_type": "execute_result"
    },
    {
     "name": "stdout",
     "output_type": "stream",
     "text": [
      "time: 67.4 ms\n"
     ]
    }
   ],
   "source": [
    "mask = plan_merkmal.merkmal == 'übersicht'\n",
    "plan_merkmal[mask]"
   ]
  },
  {
   "cell_type": "markdown",
   "id": "3c95c649-421d-45e0-a558-6e189540aebb",
   "metadata": {},
   "source": [
    "## translate_tagZ"
   ]
  },
  {
   "cell_type": "code",
   "execution_count": 25,
   "id": "7ac19cd2-ba2a-4060-a103-549e27b8b897",
   "metadata": {},
   "outputs": [
    {
     "name": "stdout",
     "output_type": "stream",
     "text": [
      "62 rows\n"
     ]
    },
    {
     "data": {
      "text/html": [
       "\n",
       "        <iframe\n",
       "            width=\"100%\"\n",
       "            height=\"475\"\n",
       "            src=\"http://pop-os:40001/dtale/iframe/6\"\n",
       "            frameborder=\"0\"\n",
       "            allowfullscreen\n",
       "            \n",
       "        ></iframe>\n",
       "        "
      ],
      "text/plain": [
       "<IPython.lib.display.IFrame at 0x7f72b51dbd90>"
      ]
     },
     "metadata": {},
     "output_type": "display_data"
    },
    {
     "data": {
      "text/plain": []
     },
     "execution_count": 25,
     "metadata": {},
     "output_type": "execute_result"
    },
    {
     "name": "stdout",
     "output_type": "stream",
     "text": [
      "time: 90.8 ms\n"
     ]
    }
   ],
   "source": [
    "grid(translate_tagZ)"
   ]
  },
  {
   "cell_type": "markdown",
   "id": "681e4b1e-beb0-4cd8-a64b-9a3f5a81d0b8",
   "metadata": {},
   "source": [
    "## lex_test, lemma_test"
   ]
  },
  {
   "cell_type": "code",
   "execution_count": 26,
   "id": "8f03799f-cbed-4843-b65a-2575ed639c45",
   "metadata": {},
   "outputs": [
    {
     "ename": "TypeError",
     "evalue": "lade_lex_text() missing 1 required positional argument: 'level'",
     "output_type": "error",
     "traceback": [
      "\u001b[0;31m---------------------------------------------------------------------------\u001b[0m",
      "\u001b[0;31mTypeError\u001b[0m                                 Traceback (most recent call last)",
      "Cell \u001b[0;32mIn [26], line 2\u001b[0m\n\u001b[1;32m      1\u001b[0m \u001b[38;5;66;03m# lex_test, lemma_test\u001b[39;00m\n\u001b[0;32m----> 2\u001b[0m lex_test, lemma_test \u001b[38;5;241m=\u001b[39m \u001b[43mlade_lex_text\u001b[49m\u001b[43m(\u001b[49m\u001b[43m \u001b[49m\u001b[43mlex_test_filename\u001b[49m\u001b[43m \u001b[49m\u001b[43m)\u001b[49m\n\u001b[1;32m      3\u001b[0m grid(lex_test)\n",
      "\u001b[0;31mTypeError\u001b[0m: lade_lex_text() missing 1 required positional argument: 'level'"
     ]
    },
    {
     "name": "stdout",
     "output_type": "stream",
     "text": [
      "time: 731 ms\n"
     ]
    }
   ],
   "source": [
    "# lex_test, lemma_test\n",
    "lex_test, lemma_test = lade_lex_text( lex_test_filename )\n",
    "grid(lex_test)"
   ]
  }
 ],
 "metadata": {
  "kernelspec": {
   "display_name": "Python 3 (ipykernel)",
   "language": "python",
   "name": "python3"
  },
  "language_info": {
   "codemirror_mode": {
    "name": "ipython",
    "version": 3
   },
   "file_extension": ".py",
   "mimetype": "text/x-python",
   "name": "python",
   "nbconvert_exporter": "python",
   "pygments_lexer": "ipython3",
   "version": "3.9.13"
  }
 },
 "nbformat": 4,
 "nbformat_minor": 5
}
