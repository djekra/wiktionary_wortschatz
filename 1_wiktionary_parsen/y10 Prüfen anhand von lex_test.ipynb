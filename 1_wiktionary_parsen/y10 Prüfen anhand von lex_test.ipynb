{
 "cells": [
  {
   "cell_type": "markdown",
   "id": "4536224e-7035-4a7c-958b-79863d35276a",
   "metadata": {},
   "source": [
    "# Prüfen"
   ]
  },
  {
   "cell_type": "markdown",
   "id": "4a0b120c-7810-4935-836b-fe178abca110",
   "metadata": {},
   "source": [
    "### Todo\n",
    "* ['sehr','gern','bald'] sind steigerbare Adverbien. Sie sind aber derzeit nur als Adjektive #_TODO_ADJ_STEIGERBAR\n",
    "* 'mir' 'dir' usw. sollten jeweils die gleiche Struktur haben\n",
    "* Prüfen: Sind alle Lexem-Merkmale in translate_lex?\n",
    "* TODO_wichtig_korrigieren: muss noch mal geschrieben werden aus wiktionary_merkmal\n",
    "* Automatische Deklinationen auf Basis von Stamm und Genus erzeugen, wie z.B. bei https://de.wiktionary.org/wiki/Blonde\n",
    "* Wo sind die Deklinationen der Partizipien, z.B. geschriene, geschieenes, geschieenen, ...\n",
    "* Was ist mit den lexemen der neuen Adjektive? Also z.B. zerschlagene, zerschlagenes, etc.\n",
    "\n",
    "* Reiter \"esszett\" in lexeme_manuell löschen und durch eine Liste von Lemmas ersetzen, bei denen alle Lexeme eine ß-Ersetzung bekommen.\n",
    "  Den gleichen Mechanismus könnte man auch für \"schwindlig\" << \"schwindelig\" verwenden.\n",
    "  Alternativ: Hunspell dafür einsetzen.\n",
    "  \n",
    "  \n",
    "### Noch testen\n",
    "* innere\n",
    "  \n",
    "### Todo wiktionary_merkmal_text\n",
    "* In bsp_0 ('Beispiele') hat das Feld meta eine andere Bedeutung als in den anderen Merkmalen\n",
    "* Wörter die in meta auftauchen, sind in text meistens falsch\n",
    "\n",
    "### Todo Morpheme\n",
    "* VVIZU markiert eine perfekte Splitstelle. Das geht auch mit Ptz2. Oder mit dem Imperativ ('hör auf >> auf-hören') oder Präsens ersiees (allgemein: alle Lexeme in wiktionary_merkmal, die in data aus 2 Wörtern bestehen, in lemma aber nur aue einem Wort)\n",
    "* Morphologische Analyse aus hunspell "
   ]
  },
  {
   "cell_type": "code",
   "execution_count": 1,
   "id": "89b9e45f-6122-4a3a-8e18-93ec56d5f3a6",
   "metadata": {},
   "outputs": [],
   "source": [
    "suche_debug = ['quälen','quälend']                     # Ptz1 normal\n",
    "suche_debug = ['lachen','lachend']                     # Ptz1 kaputt\n",
    "suche_debug = ['betreffen','betreffend']               # Ptz1 kaputt\n",
    "              \n",
    "suche_debug = ['ansagen','angesagt']                   # Ptz2 normal\n",
    "suche_debug = ['unterminieren','unterminiert']         # Ptz2 kaputt\n",
    "suche_debug = ['verspeisen','verspeist']               # Ptz2 kaputt\n",
    "suche_debug = ['gefriertrocknen','gefriergetrocknet']  # Ptz2 manuell\n",
    "\n",
    "\n",
    "suche_debug = ['anscheinend']  \n",
    "\n",
    "suche_debug = ['missraten','entlassen'] # Warum fehlt das Adjektiv?\n",
    "suche_debug = ['abhängen','abhängend',]  \n",
    "\n",
    "\n",
    "\n",
    "\n",
    "\n",
    "\n",
    "suche_debug = ['au','ei','hm','qm','ui','mg','km','cm','mm','dm','ft','nm','pt','m²','m³','kg','lb','db']\n",
    "suche_debug = ['positiv','pos']\n",
    "\n",
    "\n"
   ]
  },
  {
   "cell_type": "code",
   "execution_count": 2,
   "id": "20a51f24-30d5-40ee-8544-099183aa2968",
   "metadata": {},
   "outputs": [
    {
     "name": "stdout",
     "output_type": "stream",
     "text": [
      "blab init\n",
      "environment['dropbox_path'] = /home/me/Data_Linux/Dropbox\n",
      "environment['lib_path']     = /home/me/Data_Linux/Dropbox/31_Projekte/01_Python/libs\n",
      "Start Time: 20:10:20\n"
     ]
    },
    {
     "data": {
      "text/html": [
       "<img src onerror=\"var cell = this.closest('.jp-CodeCell');var editor = cell.querySelector('.jp-Editor');editor.style.background='Beige';this.parentNode.removeChild(this)\">"
      ],
      "text/plain": [
       "<IPython.core.display.HTML object>"
      ]
     },
     "metadata": {},
     "output_type": "display_data"
    },
    {
     "name": "stdout",
     "output_type": "stream",
     "text": [
      "time: 664 ms\n"
     ]
    }
   ],
   "source": [
    "# blab init\n",
    "import blab\n",
    "startup_notebook = blab.blab_startup()\n",
    "%run $startup_notebook"
   ]
  },
  {
   "cell_type": "code",
   "execution_count": 3,
   "id": "856338e6-0889-47b4-80a7-4c654ea150f8",
   "metadata": {},
   "outputs": [
    {
     "name": "stdout",
     "output_type": "stream",
     "text": [
      "time: 12.1 ms\n"
     ]
    }
   ],
   "source": [
    "%matplotlib inline"
   ]
  },
  {
   "cell_type": "code",
   "execution_count": 4,
   "id": "7923f4f3-580b-45b4-8d58-59401744c9bb",
   "metadata": {},
   "outputs": [
    {
     "name": "stdout",
     "output_type": "stream",
     "text": [
      "time: 1.78 s\n"
     ]
    }
   ],
   "source": [
    "import numpy      as np\n",
    "import pandas     as pd \n",
    "import bpyth      as bpy\n",
    "import pandasklar as pak \n",
    "\n",
    "grid       = pak.grid\n",
    "check_mask = pak.check_mask"
   ]
  },
  {
   "cell_type": "code",
   "execution_count": 5,
   "id": "19e60ee4-ed14-4aa2-b66c-f85143149c24",
   "metadata": {},
   "outputs": [
    {
     "name": "stdout",
     "output_type": "stream",
     "text": [
      "time: 2.21 s\n"
     ]
    }
   ],
   "source": [
    "from Steuertabellen.s01_Steuertabellen import *\n",
    "from x32_Funktionen                    import *"
   ]
  },
  {
   "cell_type": "code",
   "execution_count": 6,
   "id": "70e03f58-41ab-4e04-a6e5-ab7ed667489d",
   "metadata": {},
   "outputs": [
    {
     "name": "stdout",
     "output_type": "stream",
     "text": [
      "VERBOSE = True\n",
      "--> setting verbose=True as default for all pandasklar functions\n",
      "\n",
      "time: 41.1 ms\n"
     ]
    }
   ],
   "source": [
    "# Einstellungen\n",
    "\n",
    "# Was debuggen?\n",
    "suche_debug = ['vgl.','vergleiche']  \n",
    "suche_debug = ['auszuwischen','auszuwischendes',]  # 'auswischen',\n",
    "suche_debug = ['Haus','laufen',]  \n",
    "\n",
    "lex_test_level = 3\n",
    "\n",
    "# verbose\n",
    "pak.Config.set('VERBOSE', True)\n",
    "\n",
    "# Load\n",
    "verzeichnis_load                      = 'data_03'\n",
    "wiktionary_lemma_filename             = verzeichnis_load + '/wiktionary_lemma.pickle'   \n",
    "wiktionary_merkmal_filename           = verzeichnis_load + '/wiktionary_merkmal.pickle'  \n",
    "wiktionary_merkmal_text_filename      = verzeichnis_load + '/wiktionary_merkmal_text.pickle'  \n",
    "translate_lex_filename                = verzeichnis_load + '/translate_lex.pickle'  \n",
    "translate_lemma_filename              = verzeichnis_load + '/translate_lemma.pickle'  \n",
    "\n",
    "# Steuertabellen\n",
    "lex_test_filename                      = 'Steuertabellen/lex_test.xlsx'  \n",
    "löschliste_filename                    = 'Steuertabellen/löschliste.xlsx'    \n",
    "  "
   ]
  },
  {
   "cell_type": "markdown",
   "id": "122dc151-0879-49a2-a22c-4018285bd981",
   "metadata": {},
   "source": [
    "## plan_merkmal"
   ]
  },
  {
   "cell_type": "code",
   "execution_count": 7,
   "id": "0a2a3add-9b53-49be-b6b6-4539c82c8046",
   "metadata": {},
   "outputs": [
    {
     "name": "stdout",
     "output_type": "stream",
     "text": [
      "time: 36.9 ms\n"
     ]
    }
   ],
   "source": [
    "#blab.render_doc(plan_merkmal_erstellen)"
   ]
  },
  {
   "cell_type": "code",
   "execution_count": 8,
   "id": "b1d56c30-9af6-49e8-9265-e9f1cab54847",
   "metadata": {},
   "outputs": [
    {
     "name": "stdout",
     "output_type": "stream",
     "text": [
      "time: 73 ms\n"
     ]
    }
   ],
   "source": [
    "# plan_merkmal Steuertabelle\n",
    "plan_merkmal = plan_merkmal_erstellen()\n",
    "#grid(plan_merkmal, rows=9, column_definitions={ 'collect': {'maxWidth': 50,}, ' ': {'maxWidth': 50,}                   },     )"
   ]
  },
  {
   "cell_type": "code",
   "execution_count": 9,
   "id": "ffcbf54d-d946-4bdb-91ef-91be225dc3e6",
   "metadata": {},
   "outputs": [
    {
     "name": "stdout",
     "output_type": "stream",
     "text": [
      "time: 62.9 ms\n"
     ]
    }
   ],
   "source": [
    "a= pak.analyse_freqs(plan_merkmal,['plan','merkmal'])\n",
    "#grid(a, width=200)"
   ]
  },
  {
   "cell_type": "code",
   "execution_count": 10,
   "id": "ad689bd9-0328-4586-b6ea-c69d1c65c883",
   "metadata": {},
   "outputs": [
    {
     "name": "stdout",
     "output_type": "stream",
     "text": [
      "time: 28.4 ms\n"
     ]
    }
   ],
   "source": [
    "mask = plan_merkmal.merkmal == 'übersicht'\n",
    "#plan_merkmal[mask]"
   ]
  },
  {
   "cell_type": "markdown",
   "id": "3c95c649-421d-45e0-a558-6e189540aebb",
   "metadata": {},
   "source": [
    "## translate_tagZ"
   ]
  },
  {
   "cell_type": "code",
   "execution_count": 11,
   "id": "7ac19cd2-ba2a-4060-a103-549e27b8b897",
   "metadata": {},
   "outputs": [
    {
     "name": "stdout",
     "output_type": "stream",
     "text": [
      "time: 30.1 ms\n"
     ]
    }
   ],
   "source": [
    "#grid(translate_tagZ)"
   ]
  },
  {
   "cell_type": "markdown",
   "id": "25ba59b4-30f0-40f0-862f-8738d796f8a4",
   "metadata": {},
   "source": [
    "## Daten laden\n",
    "* wiktionary_lemma\n",
    "* translate_lex\n",
    "* wiktionary_merkmal     \n",
    "* wiktionary_merkmal_text \n",
    "* jeweils einen Trash generieren"
   ]
  },
  {
   "cell_type": "code",
   "execution_count": 12,
   "id": "dc76968a-54cd-437b-8bd6-6bfebfcd756c",
   "metadata": {},
   "outputs": [
    {
     "name": "stdout",
     "output_type": "stream",
     "text": [
      "165738 rows loaded\n",
      "2479963 rows loaded\n",
      "613029 rows loaded\n",
      "1109778 rows loaded\n",
      "116389 rows loaded\n",
      "time: 10.4 s\n"
     ]
    }
   ],
   "source": [
    "# Laden     \n",
    "wiktionary_lemma         = pak.load_pickle(wiktionary_lemma_filename)\n",
    "wiktionary_merkmal       = pak.load_pickle(wiktionary_merkmal_filename)\n",
    "wiktionary_merkmal_text  = pak.load_pickle(wiktionary_merkmal_text_filename)\n",
    "translate_lex            = pak.load_pickle(translate_lex_filename)\n",
    "translate_lemma          = pak.load_pickle(translate_lemma_filename)"
   ]
  },
  {
   "cell_type": "markdown",
   "id": "cf81fb12-ac94-4c50-84bf-619c0b322149",
   "metadata": {},
   "source": [
    "## NaN"
   ]
  },
  {
   "cell_type": "code",
   "execution_count": 13,
   "id": "b531a39d-b351-416c-a601-f6a3629e2b46",
   "metadata": {},
   "outputs": [
    {
     "name": "stdout",
     "output_type": "stream",
     "text": [
      "time: 2.17 s\n"
     ]
    }
   ],
   "source": [
    "assert not pak.any_nan(wiktionary_lemma)\n",
    "#pak.nnan(wiktionary_lemma)\n",
    "\n",
    "assert not pak.any_nan(wiktionary_merkmal)\n",
    "#pak.nnan(wiktionary_merkmal)\n",
    "\n",
    "assert not pak.any_nan(wiktionary_merkmal_text)\n",
    "#pak.nnan(wiktionary_merkmal_text)\n",
    "\n",
    "assert not pak.any_nan(translate_lemma)\n",
    "#pak.nnan(translate_lemma)\n",
    "\n",
    "assert not pak.any_nan(translate_lex)\n",
    "#pak.nnan(translate_lex)"
   ]
  },
  {
   "cell_type": "markdown",
   "id": "5d291498-77db-4e4c-90e1-3a32f29fce9f",
   "metadata": {},
   "source": [
    "### Testlexeme"
   ]
  },
  {
   "cell_type": "code",
   "execution_count": 14,
   "id": "072fdb11-643d-4f39-bd29-bad42e33c77e",
   "metadata": {},
   "outputs": [
    {
     "name": "stdout",
     "output_type": "stream",
     "text": [
      "74 rows loaded\n",
      "Delete 3 rows from 74\n",
      "time: 1.77 s\n"
     ]
    }
   ],
   "source": [
    "# lex_test, lemma_test\n",
    "from x32_Funktionen import *\n",
    "lex_test, lemma_test = lade_lex_text( lex_test_filename, level=lex_test_level )\n",
    "#grid(lemma_test)"
   ]
  },
  {
   "cell_type": "code",
   "execution_count": 15,
   "id": "cc793140-edb1-49d3-92d8-404d0db07b40",
   "metadata": {},
   "outputs": [
    {
     "name": "stdout",
     "output_type": "stream",
     "text": [
      "time: 3.34 s\n"
     ]
    }
   ],
   "source": [
    "# lemma_test\n",
    "from x32_Funktionen import *\n",
    "lemma_test = check_lemma_test(lemma_test, wiktionary_lemma)\n",
    "#lemma_test"
   ]
  },
  {
   "cell_type": "code",
   "execution_count": 16,
   "id": "d77b6d1d-0991-4942-b3ec-4f75b1126863",
   "metadata": {},
   "outputs": [
    {
     "name": "stdout",
     "output_type": "stream",
     "text": [
      "check_mask:  1 rows\n"
     ]
    },
    {
     "data": {
      "text/html": [
       "<div>\n",
       "<style scoped>\n",
       "    .dataframe tbody tr th:only-of-type {\n",
       "        vertical-align: middle;\n",
       "    }\n",
       "\n",
       "    .dataframe tbody tr th {\n",
       "        vertical-align: top;\n",
       "    }\n",
       "\n",
       "    .dataframe thead th {\n",
       "        text-align: right;\n",
       "    }\n",
       "</style>\n",
       "<table border=\"1\" class=\"dataframe\">\n",
       "  <thead>\n",
       "    <tr style=\"text-align: right;\">\n",
       "      <th></th>\n",
       "      <th>level</th>\n",
       "      <th>lemma_id</th>\n",
       "      <th>lemma</th>\n",
       "      <th>tag_soll</th>\n",
       "      <th>tag_ist</th>\n",
       "      <th>member_soll</th>\n",
       "      <th>check_tag</th>\n",
       "      <th>member_ist</th>\n",
       "      <th>check_member</th>\n",
       "    </tr>\n",
       "  </thead>\n",
       "  <tbody>\n",
       "    <tr>\n",
       "      <th>58</th>\n",
       "      <td>1</td>\n",
       "      <td>gefriergetrocknet</td>\n",
       "      <td>gefriergetrocknet</td>\n",
       "      <td>VVFIN</td>\n",
       "      <td>ADJA</td>\n",
       "      <td></td>\n",
       "      <td></td>\n",
       "      <td>Ptz2 noSteig manuell</td>\n",
       "      <td>ok</td>\n",
       "    </tr>\n",
       "  </tbody>\n",
       "</table>\n",
       "</div>"
      ],
      "text/plain": [
       "    level           lemma_id              lemma tag_soll tag_ist member_soll  \\\n",
       "58      1  gefriergetrocknet  gefriergetrocknet    VVFIN    ADJA               \n",
       "\n",
       "   check_tag            member_ist check_member  \n",
       "58            Ptz2 noSteig manuell           ok  "
      ]
     },
     "execution_count": 16,
     "metadata": {},
     "output_type": "execute_result"
    },
    {
     "name": "stdout",
     "output_type": "stream",
     "text": [
      "time: 46 ms\n"
     ]
    }
   ],
   "source": [
    "# Fehler\n",
    "maskA = lemma_test.lemma_id == ''\n",
    "maskB = lemma_test.check_tag == ''\n",
    "maskC = lemma_test.check_member == ''\n",
    "mask = maskA | maskB | maskC\n",
    "check_mask(lemma_test,mask)\n",
    "\n",
    "probleme = list(lemma_test[mask].lemma)\n",
    "lemma_test[mask]"
   ]
  },
  {
   "cell_type": "code",
   "execution_count": 17,
   "id": "bde66486-fa5e-42cf-ba17-6243a950a771",
   "metadata": {},
   "outputs": [
    {
     "ename": "Exception",
     "evalue": "ERROR: 1 rows, but it should be a maximum of 0",
     "output_type": "error",
     "traceback": [
      "\u001b[0;31m---------------------------------------------------------------------------\u001b[0m",
      "\u001b[0;31mException\u001b[0m                                 Traceback (most recent call last)",
      "Cell \u001b[0;32mIn [17], line 2\u001b[0m\n\u001b[1;32m      1\u001b[0m \u001b[38;5;66;03m# Sicherstellen: Keine Fehler\u001b[39;00m\n\u001b[0;32m----> 2\u001b[0m \u001b[43mcheck_mask\u001b[49m\u001b[43m(\u001b[49m\u001b[43mlemma_test\u001b[49m\u001b[43m,\u001b[49m\u001b[43mmask\u001b[49m\u001b[43m,\u001b[49m\u001b[38;5;241;43m0\u001b[39;49m\u001b[43m)\u001b[49m\n",
      "File \u001b[0;32m~/mambaforge/envs/python_06/lib/python3.9/site-packages/pandasklar/develop.py:90\u001b[0m, in \u001b[0;36mcheck_mask\u001b[0;34m(df, mask, expectation_min, expectation_max, msg, stop, verbose)\u001b[0m\n\u001b[1;32m     88\u001b[0m         e_min \u001b[38;5;241m=\u001b[39m \u001b[38;5;28mint\u001b[39m(expectation_min \u001b[38;5;241m*\u001b[39m \u001b[38;5;241m0.5\u001b[39m) \u001b[38;5;66;03m# Verdoppelung oder Halbierung wird toleriert\u001b[39;00m\n\u001b[1;32m     89\u001b[0m         e_max \u001b[38;5;241m=\u001b[39m \u001b[38;5;28mint\u001b[39m(expectation_min \u001b[38;5;241m*\u001b[39m \u001b[38;5;241m2.0\u001b[39m) \u001b[38;5;241m+\u001b[39m \u001b[38;5;241m1\u001b[39m        \n\u001b[0;32m---> 90\u001b[0m     \u001b[38;5;28;01mreturn\u001b[39;00m \u001b[43mcheck_mask\u001b[49m\u001b[43m(\u001b[49m\u001b[43mdf\u001b[49m\u001b[43m,\u001b[49m\u001b[43m \u001b[49m\u001b[43mmask\u001b[49m\u001b[43m,\u001b[49m\u001b[43m \u001b[49m\u001b[43me_min\u001b[49m\u001b[43m,\u001b[49m\u001b[43m \u001b[49m\u001b[43me_max\u001b[49m\u001b[43m,\u001b[49m\u001b[43m \u001b[49m\u001b[43mmsg\u001b[49m\u001b[38;5;241;43m=\u001b[39;49m\u001b[43mmsg\u001b[49m\u001b[43m,\u001b[49m\u001b[43m \u001b[49m\u001b[43mstop\u001b[49m\u001b[38;5;241;43m=\u001b[39;49m\u001b[43mstop\u001b[49m\u001b[43m,\u001b[49m\u001b[43m \u001b[49m\u001b[43mverbose\u001b[49m\u001b[38;5;241;43m=\u001b[39;49m\u001b[43mverbose\u001b[49m\u001b[43m)\u001b[49m \n\u001b[1;32m     92\u001b[0m \u001b[38;5;28;01mif\u001b[39;00m \u001b[38;5;28mtype\u001b[39m(mask) \u001b[38;5;241m==\u001b[39m pd\u001b[38;5;241m.\u001b[39mSeries   \u001b[38;5;129;01mor\u001b[39;00m   \u001b[38;5;28mtype\u001b[39m(mask) \u001b[38;5;241m==\u001b[39m np\u001b[38;5;241m.\u001b[39mndarray:\n\u001b[1;32m     93\u001b[0m     anz_ds \u001b[38;5;241m=\u001b[39m df[mask]\u001b[38;5;241m.\u001b[39mshape[\u001b[38;5;241m0\u001b[39m]\n",
      "File \u001b[0;32m~/mambaforge/envs/python_06/lib/python3.9/site-packages/pandasklar/develop.py:118\u001b[0m, in \u001b[0;36mcheck_mask\u001b[0;34m(df, mask, expectation_min, expectation_max, msg, stop, verbose)\u001b[0m\n\u001b[1;32m    116\u001b[0m \u001b[38;5;28;01mif\u001b[39;00m (anz_ds \u001b[38;5;241m>\u001b[39m expectation_max)  \u001b[38;5;129;01mor\u001b[39;00m (anz_ds \u001b[38;5;241m<\u001b[39m expectation_min):\n\u001b[1;32m    117\u001b[0m     \u001b[38;5;28;01mif\u001b[39;00m stop:\n\u001b[0;32m--> 118\u001b[0m         \u001b[38;5;28;01mraise\u001b[39;00m \u001b[38;5;167;01mException\u001b[39;00m(  (msg \u001b[38;5;241m+\u001b[39m error)\u001b[38;5;241m.\u001b[39mstrip()  )\n\u001b[1;32m    120\u001b[0m     \u001b[38;5;28;01melse\u001b[39;00m:\n\u001b[1;32m    121\u001b[0m         print_red(   (msg \u001b[38;5;241m+\u001b[39m error)\u001b[38;5;241m.\u001b[39mstrip()  )\n",
      "\u001b[0;31mException\u001b[0m: ERROR: 1 rows, but it should be a maximum of 0"
     ]
    },
    {
     "name": "stdout",
     "output_type": "stream",
     "text": [
      "time: 532 ms\n"
     ]
    }
   ],
   "source": [
    "# Sicherstellen: Keine Fehler\n",
    "check_mask(lemma_test,mask,0)"
   ]
  },
  {
   "cell_type": "markdown",
   "id": "c31761cc-66e6-4626-9c0e-4b2e2a34a7e0",
   "metadata": {},
   "source": [
    "### lex_test"
   ]
  },
  {
   "cell_type": "code",
   "execution_count": null,
   "id": "6e52586a-38a7-4462-ae77-a93840cdc35c",
   "metadata": {},
   "outputs": [],
   "source": [
    "# lex_test\n",
    "from x32_Funktionen import *\n",
    "lex_test = check_lex_test(lex_test, translate_lex)\n",
    "lex_test"
   ]
  },
  {
   "cell_type": "code",
   "execution_count": null,
   "id": "281ce59e-63e4-4644-8d3c-a23182880111",
   "metadata": {},
   "outputs": [],
   "source": [
    "# Fehler\n",
    "maskA = lex_test.lex_id == ''\n",
    "maskB = lex_test.check_tag == ''\n",
    "mask = maskA | maskB \n",
    "check_mask(lex_test,mask)\n",
    "\n",
    "probleme = list(lex_test[mask].lemma)\n",
    "lex_test[mask]"
   ]
  },
  {
   "cell_type": "code",
   "execution_count": null,
   "id": "8b7ba0a6-f04d-4bb8-93d4-7a004457b1c0",
   "metadata": {},
   "outputs": [],
   "source": [
    "# Sicherstellen: Keine Fehler\n",
    "check_mask(lex_test,mask,0)"
   ]
  },
  {
   "cell_type": "code",
   "execution_count": null,
   "id": "9caf9ecf-e47c-4872-8e04-491670ddf365",
   "metadata": {},
   "outputs": [],
   "source": [
    "\n",
    "\n",
    "\n",
    "\n",
    "\n",
    "\n",
    "\n",
    "\n",
    "\n",
    "\n",
    "\n",
    "\n",
    "\n",
    "\n",
    "bgc('green')"
   ]
  },
  {
   "cell_type": "markdown",
   "id": "5dca3e74-e9c8-45db-93cd-4948dd767fb3",
   "metadata": {},
   "source": [
    "### Fehler analysieren"
   ]
  },
  {
   "cell_type": "code",
   "execution_count": null,
   "id": "4b9d2492-87b6-4b65-94bc-cb81e792f43a",
   "metadata": {},
   "outputs": [],
   "source": [
    "raise Stop"
   ]
  },
  {
   "cell_type": "code",
   "execution_count": 18,
   "id": "6a1b573b-c30c-47f1-a0dd-5c5075e309c2",
   "metadata": {},
   "outputs": [
    {
     "name": "stdout",
     "output_type": "stream",
     "text": [
      "time: 43.1 ms\n"
     ]
    }
   ],
   "source": [
    "suche  = ['gefriergetrocknet']\n",
    "sucheL = ['gefriergetrocknet']\n",
    "suche  = ['missraten']\n",
    "sucheL = ['missraten']"
   ]
  },
  {
   "cell_type": "code",
   "execution_count": 19,
   "id": "10b923ee-548b-4142-9ec2-93d5391ed7a6",
   "metadata": {},
   "outputs": [
    {
     "data": {
      "text/html": [
       "<div>\n",
       "<style scoped>\n",
       "    .dataframe tbody tr th:only-of-type {\n",
       "        vertical-align: middle;\n",
       "    }\n",
       "\n",
       "    .dataframe tbody tr th {\n",
       "        vertical-align: top;\n",
       "    }\n",
       "\n",
       "    .dataframe thead th {\n",
       "        text-align: right;\n",
       "    }\n",
       "</style>\n",
       "<table border=\"1\" class=\"dataframe\">\n",
       "  <thead>\n",
       "    <tr style=\"text-align: right;\">\n",
       "      <th></th>\n",
       "      <th>level</th>\n",
       "      <th>lex</th>\n",
       "      <th>lemma</th>\n",
       "      <th>lex_tag_soll</th>\n",
       "      <th>notiz</th>\n",
       "      <th>check_tag</th>\n",
       "    </tr>\n",
       "  </thead>\n",
       "  <tbody>\n",
       "    <tr>\n",
       "      <th>36</th>\n",
       "      <td>1</td>\n",
       "      <td>missraten</td>\n",
       "      <td>missraten</td>\n",
       "      <td>ADJA</td>\n",
       "      <td></td>\n",
       "      <td></td>\n",
       "    </tr>\n",
       "    <tr>\n",
       "      <th>37</th>\n",
       "      <td>1</td>\n",
       "      <td>missraten</td>\n",
       "      <td>missraten</td>\n",
       "      <td>VVINF</td>\n",
       "      <td></td>\n",
       "      <td></td>\n",
       "    </tr>\n",
       "    <tr>\n",
       "      <th>38</th>\n",
       "      <td>1</td>\n",
       "      <td>missraten</td>\n",
       "      <td>missraten</td>\n",
       "      <td>VVPP</td>\n",
       "      <td></td>\n",
       "      <td></td>\n",
       "    </tr>\n",
       "  </tbody>\n",
       "</table>\n",
       "</div>"
      ],
      "text/plain": [
       "    level        lex      lemma lex_tag_soll notiz check_tag\n",
       "36      1  missraten  missraten         ADJA                \n",
       "37      1  missraten  missraten        VVINF                \n",
       "38      1  missraten  missraten         VVPP                "
      ]
     },
     "execution_count": 19,
     "metadata": {},
     "output_type": "execute_result"
    },
    {
     "name": "stdout",
     "output_type": "stream",
     "text": [
      "time: 70.4 ms\n"
     ]
    }
   ],
   "source": [
    "# lex_test\n",
    "mask = lex_test.lex.isin(suche)\n",
    "lex_test[mask]"
   ]
  },
  {
   "cell_type": "code",
   "execution_count": 20,
   "id": "3a7fd1fc-c480-458a-a142-3b4cf966a937",
   "metadata": {},
   "outputs": [
    {
     "data": {
      "text/html": [
       "<div>\n",
       "<style scoped>\n",
       "    .dataframe tbody tr th:only-of-type {\n",
       "        vertical-align: middle;\n",
       "    }\n",
       "\n",
       "    .dataframe tbody tr th {\n",
       "        vertical-align: top;\n",
       "    }\n",
       "\n",
       "    .dataframe thead th {\n",
       "        text-align: right;\n",
       "    }\n",
       "</style>\n",
       "<table border=\"1\" class=\"dataframe\">\n",
       "  <thead>\n",
       "    <tr style=\"text-align: right;\">\n",
       "      <th></th>\n",
       "      <th>data_id</th>\n",
       "      <th>data_home</th>\n",
       "      <th>data</th>\n",
       "      <th>data_tag</th>\n",
       "      <th>data_tag_0</th>\n",
       "      <th>data_tag_1</th>\n",
       "      <th>data_tagZZ</th>\n",
       "      <th>data_score</th>\n",
       "      <th>member</th>\n",
       "      <th>lemma_id</th>\n",
       "      <th>lemma_home</th>\n",
       "      <th>lemma</th>\n",
       "      <th>lemma_tag</th>\n",
       "      <th>lemma_tagZZ</th>\n",
       "      <th>lemma_score</th>\n",
       "      <th>same_lexlemma</th>\n",
       "      <th>score</th>\n",
       "      <th>lemma_lower</th>\n",
       "    </tr>\n",
       "  </thead>\n",
       "  <tbody>\n",
       "    <tr>\n",
       "      <th>909695</th>\n",
       "      <td>missraten</td>\n",
       "      <td>B</td>\n",
       "      <td>missraten</td>\n",
       "      <td>VVPP</td>\n",
       "      <td>VVPP</td>\n",
       "      <td>aPAtTAQ3xM</td>\n",
       "      <td>A</td>\n",
       "      <td>4.690897</td>\n",
       "      <td>merkmal Ptz2</td>\n",
       "      <td>missraten</td>\n",
       "      <td>B</td>\n",
       "      <td>missraten</td>\n",
       "      <td>VVFIN</td>\n",
       "      <td>V</td>\n",
       "      <td>11.045675</td>\n",
       "      <td>1.0</td>\n",
       "      <td>10616.020508</td>\n",
       "      <td>missraten</td>\n",
       "    </tr>\n",
       "    <tr>\n",
       "      <th>1075160</th>\n",
       "      <td>missraten</td>\n",
       "      <td>B</td>\n",
       "      <td>missraten</td>\n",
       "      <td>VVINF</td>\n",
       "      <td>VVINF</td>\n",
       "      <td>r4ZCWvFPzo</td>\n",
       "      <td>V</td>\n",
       "      <td>11.584802</td>\n",
       "      <td>merkmal lemma</td>\n",
       "      <td>missraten</td>\n",
       "      <td>B</td>\n",
       "      <td>missraten</td>\n",
       "      <td>VVFIN</td>\n",
       "      <td>V</td>\n",
       "      <td>11.045675</td>\n",
       "      <td>1.0</td>\n",
       "      <td>11994.801758</td>\n",
       "      <td>missraten</td>\n",
       "    </tr>\n",
       "    <tr>\n",
       "      <th>1075161</th>\n",
       "      <td>missraten_MADJ</td>\n",
       "      <td>B</td>\n",
       "      <td>missraten</td>\n",
       "      <td>ADJA</td>\n",
       "      <td>ADJA</td>\n",
       "      <td>gMAeGQHkYg</td>\n",
       "      <td>A</td>\n",
       "      <td>2.879498</td>\n",
       "      <td>merkmal lemma</td>\n",
       "      <td>missraten_MADJ</td>\n",
       "      <td>B</td>\n",
       "      <td>missraten</td>\n",
       "      <td>ADJA</td>\n",
       "      <td>A</td>\n",
       "      <td>2.745493</td>\n",
       "      <td>1.0</td>\n",
       "      <td>111.987442</td>\n",
       "      <td>missraten</td>\n",
       "    </tr>\n",
       "    <tr>\n",
       "      <th>1103089</th>\n",
       "      <td>missraten</td>\n",
       "      <td>B</td>\n",
       "      <td>missraten</td>\n",
       "      <td>ADJA</td>\n",
       "      <td>ADJA</td>\n",
       "      <td>dZEsGNEYea</td>\n",
       "      <td>A</td>\n",
       "      <td>4.690897</td>\n",
       "      <td>merkmal Ptz2</td>\n",
       "      <td>missraten</td>\n",
       "      <td>B</td>\n",
       "      <td>missraten</td>\n",
       "      <td>VVFIN</td>\n",
       "      <td>V</td>\n",
       "      <td>11.045675</td>\n",
       "      <td>1.0</td>\n",
       "      <td>10616.020508</td>\n",
       "      <td>missraten</td>\n",
       "    </tr>\n",
       "  </tbody>\n",
       "</table>\n",
       "</div>"
      ],
      "text/plain": [
       "                data_id data_home       data data_tag data_tag_0  data_tag_1  \\\n",
       "909695        missraten         B  missraten     VVPP       VVPP  aPAtTAQ3xM   \n",
       "1075160       missraten         B  missraten    VVINF      VVINF  r4ZCWvFPzo   \n",
       "1075161  missraten_MADJ         B  missraten     ADJA       ADJA  gMAeGQHkYg   \n",
       "1103089       missraten         B  missraten     ADJA       ADJA  dZEsGNEYea   \n",
       "\n",
       "        data_tagZZ  data_score         member        lemma_id lemma_home  \\\n",
       "909695           A    4.690897   merkmal Ptz2       missraten          B   \n",
       "1075160          V   11.584802  merkmal lemma       missraten          B   \n",
       "1075161          A    2.879498  merkmal lemma  missraten_MADJ          B   \n",
       "1103089          A    4.690897   merkmal Ptz2       missraten          B   \n",
       "\n",
       "             lemma lemma_tag lemma_tagZZ  lemma_score  same_lexlemma  \\\n",
       "909695   missraten     VVFIN           V    11.045675            1.0   \n",
       "1075160  missraten     VVFIN           V    11.045675            1.0   \n",
       "1075161  missraten      ADJA           A     2.745493            1.0   \n",
       "1103089  missraten     VVFIN           V    11.045675            1.0   \n",
       "\n",
       "                score lemma_lower  \n",
       "909695   10616.020508   missraten  \n",
       "1075160  11994.801758   missraten  \n",
       "1075161    111.987442   missraten  \n",
       "1103089  10616.020508   missraten  "
      ]
     },
     "execution_count": 20,
     "metadata": {},
     "output_type": "execute_result"
    },
    {
     "name": "stdout",
     "output_type": "stream",
     "text": [
      "time: 131 ms\n"
     ]
    }
   ],
   "source": [
    "# translate_lex\n",
    "mask = translate_lex.data.isin(suche)\n",
    "translate_lex[mask]"
   ]
  },
  {
   "cell_type": "code",
   "execution_count": 21,
   "id": "f6c800f5-2bed-4962-9b5c-7ca4a9f4a01e",
   "metadata": {},
   "outputs": [
    {
     "data": {
      "text/html": [
       "<div>\n",
       "<style scoped>\n",
       "    .dataframe tbody tr th:only-of-type {\n",
       "        vertical-align: middle;\n",
       "    }\n",
       "\n",
       "    .dataframe tbody tr th {\n",
       "        vertical-align: top;\n",
       "    }\n",
       "\n",
       "    .dataframe thead th {\n",
       "        text-align: right;\n",
       "    }\n",
       "</style>\n",
       "<table border=\"1\" class=\"dataframe\">\n",
       "  <thead>\n",
       "    <tr style=\"text-align: right;\">\n",
       "      <th></th>\n",
       "      <th>lemma_id</th>\n",
       "      <th>page_id</th>\n",
       "      <th>page_part</th>\n",
       "      <th>lemma</th>\n",
       "      <th>lemma_lower</th>\n",
       "      <th>isupper</th>\n",
       "      <th>lemma_len</th>\n",
       "      <th>tag</th>\n",
       "      <th>tag_0</th>\n",
       "      <th>tag_1</th>\n",
       "      <th>tagZ</th>\n",
       "      <th>tagZZ</th>\n",
       "      <th>member</th>\n",
       "      <th>data_id</th>\n",
       "      <th>score</th>\n",
       "      <th>doc_len</th>\n",
       "      <th>doc_lemma</th>\n",
       "      <th>doc_tag</th>\n",
       "      <th>lex_anz</th>\n",
       "      <th>nolex_anz</th>\n",
       "    </tr>\n",
       "  </thead>\n",
       "  <tbody>\n",
       "    <tr>\n",
       "      <th>137876</th>\n",
       "      <td>missraten</td>\n",
       "      <td>242150</td>\n",
       "      <td>0</td>\n",
       "      <td>missraten</td>\n",
       "      <td>missraten</td>\n",
       "      <td>False</td>\n",
       "      <td>1</td>\n",
       "      <td>VVFIN</td>\n",
       "      <td>VVFIN</td>\n",
       "      <td>gqnaAX9nv4</td>\n",
       "      <td>VER</td>\n",
       "      <td>V</td>\n",
       "      <td>manuell</td>\n",
       "      <td></td>\n",
       "      <td>11.045675</td>\n",
       "      <td>1</td>\n",
       "      <td>Missrat</td>\n",
       "      <td>VVFIN</td>\n",
       "      <td>15</td>\n",
       "      <td>8</td>\n",
       "    </tr>\n",
       "    <tr>\n",
       "      <th>137877</th>\n",
       "      <td>missraten_MADJ</td>\n",
       "      <td>-1</td>\n",
       "      <td>-1</td>\n",
       "      <td>missraten</td>\n",
       "      <td>missraten</td>\n",
       "      <td>False</td>\n",
       "      <td>1</td>\n",
       "      <td>ADJA</td>\n",
       "      <td>ADJA</td>\n",
       "      <td>HJ41M3xZQu</td>\n",
       "      <td>ADJ</td>\n",
       "      <td>A</td>\n",
       "      <td>Ptz2 manuell</td>\n",
       "      <td>missraten</td>\n",
       "      <td>2.745493</td>\n",
       "      <td>1</td>\n",
       "      <td>Missrat</td>\n",
       "      <td>VVFIN</td>\n",
       "      <td>1</td>\n",
       "      <td>0</td>\n",
       "    </tr>\n",
       "  </tbody>\n",
       "</table>\n",
       "</div>"
      ],
      "text/plain": [
       "              lemma_id  page_id  page_part      lemma lemma_lower  isupper  \\\n",
       "137876       missraten   242150          0  missraten   missraten    False   \n",
       "137877  missraten_MADJ       -1         -1  missraten   missraten    False   \n",
       "\n",
       "        lemma_len    tag  tag_0       tag_1 tagZ tagZZ        member  \\\n",
       "137876          1  VVFIN  VVFIN  gqnaAX9nv4  VER     V       manuell   \n",
       "137877          1   ADJA   ADJA  HJ41M3xZQu  ADJ     A  Ptz2 manuell   \n",
       "\n",
       "          data_id      score doc_len doc_lemma doc_tag  lex_anz  nolex_anz  \n",
       "137876             11.045675       1   Missrat   VVFIN       15          8  \n",
       "137877  missraten   2.745493       1   Missrat   VVFIN        1          0  "
      ]
     },
     "execution_count": 21,
     "metadata": {},
     "output_type": "execute_result"
    },
    {
     "name": "stdout",
     "output_type": "stream",
     "text": [
      "time: 82.7 ms\n"
     ]
    }
   ],
   "source": [
    "# wiktionary_lemma\n",
    "mask = wiktionary_lemma.lemma.isin(sucheL)\n",
    "wiktionary_lemma[mask]"
   ]
  },
  {
   "cell_type": "code",
   "execution_count": 22,
   "id": "3715e453-8941-4659-89a3-ef0f7fc00a31",
   "metadata": {},
   "outputs": [
    {
     "name": "stdout",
     "output_type": "stream",
     "text": [
      "14 rows\n"
     ]
    },
    {
     "data": {
      "text/html": [
       "\n",
       "        <iframe\n",
       "            width=\"100%\"\n",
       "            height=\"475\"\n",
       "            src=\"http://pop-os:40001/dtale/iframe/1\"\n",
       "            frameborder=\"0\"\n",
       "            allowfullscreen\n",
       "            \n",
       "        ></iframe>\n",
       "        "
      ],
      "text/plain": [
       "<IPython.lib.display.IFrame at 0x7f7c96adbe80>"
      ]
     },
     "metadata": {},
     "output_type": "display_data"
    },
    {
     "data": {
      "text/plain": []
     },
     "execution_count": 22,
     "metadata": {},
     "output_type": "execute_result"
    },
    {
     "name": "stdout",
     "output_type": "stream",
     "text": [
      "time: 367 ms\n"
     ]
    }
   ],
   "source": [
    "# wiktionary_merkmal\n",
    "mask = wiktionary_merkmal.data.isin(suche)\n",
    "a = wiktionary_merkmal[mask].sort_values(['merkmal','lemma_id','data'])\n",
    "grid(a)"
   ]
  },
  {
   "cell_type": "code",
   "execution_count": 23,
   "id": "d18741e6-deaa-4f25-ac70-955f957a2ac8",
   "metadata": {},
   "outputs": [
    {
     "name": "stdout",
     "output_type": "stream",
     "text": [
      "6 rows\n"
     ]
    },
    {
     "data": {
      "text/html": [
       "\n",
       "        <iframe\n",
       "            width=\"100%\"\n",
       "            height=\"475\"\n",
       "            src=\"http://pop-os:40001/dtale/iframe/2\"\n",
       "            frameborder=\"0\"\n",
       "            allowfullscreen\n",
       "            \n",
       "        ></iframe>\n",
       "        "
      ],
      "text/plain": [
       "<IPython.lib.display.IFrame at 0x7f7c9517cc40>"
      ]
     },
     "metadata": {},
     "output_type": "display_data"
    },
    {
     "data": {
      "text/plain": []
     },
     "execution_count": 23,
     "metadata": {},
     "output_type": "execute_result"
    },
    {
     "name": "stdout",
     "output_type": "stream",
     "text": [
      "time: 656 ms\n"
     ]
    }
   ],
   "source": [
    "# translate_lemma\n",
    "grid(search_str(translate_lemma, suche))"
   ]
  },
  {
   "cell_type": "code",
   "execution_count": 24,
   "id": "37f44463-5b0d-4adf-88c4-cfe2fd3a19e8",
   "metadata": {},
   "outputs": [
    {
     "name": "stdout",
     "output_type": "stream",
     "text": [
      "Stop Time:  20:11:06\n",
      "Elapsed:    45 secs\n"
     ]
    },
    {
     "data": {
      "text/html": [
       "<img src onerror=\"var cell = this.closest('.jp-CodeCell');var editor = cell.querySelector('.jp-Editor');editor.style.background='DarkGray';this.parentNode.removeChild(this)\">"
      ],
      "text/plain": [
       "<IPython.core.display.HTML object>"
      ]
     },
     "metadata": {},
     "output_type": "display_data"
    },
    {
     "name": "stdout",
     "output_type": "stream",
     "text": [
      "time: 85.3 ms\n"
     ]
    }
   ],
   "source": [
    "raise Stop"
   ]
  }
 ],
 "metadata": {
  "kernelspec": {
   "display_name": "Python 3 (ipykernel)",
   "language": "python",
   "name": "python3"
  },
  "language_info": {
   "codemirror_mode": {
    "name": "ipython",
    "version": 3
   },
   "file_extension": ".py",
   "mimetype": "text/x-python",
   "name": "python",
   "nbconvert_exporter": "python",
   "pygments_lexer": "ipython3",
   "version": "3.9.13"
  }
 },
 "nbformat": 4,
 "nbformat_minor": 5
}
