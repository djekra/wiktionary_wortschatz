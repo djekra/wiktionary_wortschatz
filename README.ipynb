{
 "cells": [
  {
   "cell_type": "markdown",
   "id": "5c77f0a1-d5b1-4dc1-b446-ea5f2528180b",
   "metadata": {},
   "source": [
    "# wiktionary_wortschatz\n",
    "Create a database of all wiktionary entries\n",
    "\n",
    "## Usage\n",
    "not usable right now..."
   ]
  },
  {
   "cell_type": "code",
   "execution_count": null,
   "id": "997a89d4-ee36-4eb2-8f4f-9affd8c95333",
   "metadata": {},
   "outputs": [],
   "source": []
  }
 ],
 "metadata": {
  "kernelspec": {
   "display_name": "Python 3 (ipykernel)",
   "language": "python",
   "name": "python3"
  },
  "language_info": {
   "codemirror_mode": {
    "name": "ipython",
    "version": 3
   },
   "file_extension": ".py",
   "mimetype": "text/x-python",
   "name": "python",
   "nbconvert_exporter": "python",
   "pygments_lexer": "ipython3",
   "version": "3.9.13"
  }
 },
 "nbformat": 4,
 "nbformat_minor": 5
}
