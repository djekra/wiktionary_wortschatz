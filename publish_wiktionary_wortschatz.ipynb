{
 "cells": [
  {
   "cell_type": "markdown",
   "id": "4b8437a0-f586-4b27-ac6d-6dc93cf84169",
   "metadata": {},
   "source": [
    "## Create README"
   ]
  },
  {
   "cell_type": "code",
   "execution_count": 1,
   "id": "73a96aa2-8c8a-4964-8361-671d9d4bdce6",
   "metadata": {
    "execution": {
     "iopub.execute_input": "2023-02-20T16:28:42.853684Z",
     "iopub.status.busy": "2023-02-20T16:28:42.852061Z",
     "iopub.status.idle": "2023-02-20T16:28:44.645346Z",
     "shell.execute_reply": "2023-02-20T16:28:44.644636Z",
     "shell.execute_reply.started": "2023-02-20T16:28:42.853513Z"
    }
   },
   "outputs": [
    {
     "name": "stdout",
     "output_type": "stream",
     "text": [
      "[NbConvertApp] Converting notebook README.ipynb to markdown\n",
      "[NbConvertApp] Writing 119 bytes to README.md\n"
     ]
    }
   ],
   "source": [
    "!jupyter nbconvert --ClearMetadataPreprocessor.enabled=True --ClearOutput.enabled=True --to markdown README.ipynb"
   ]
  },
  {
   "cell_type": "markdown",
   "id": "e6b13397-01f2-4ffb-9668-dc9a58196db9",
   "metadata": {},
   "source": [
    "## Publish on github"
   ]
  },
  {
   "cell_type": "code",
   "execution_count": 2,
   "id": "d444d5d8-ddb6-451e-9300-fa6424dde8f0",
   "metadata": {
    "execution": {
     "iopub.execute_input": "2023-02-20T16:28:44.646738Z",
     "iopub.status.busy": "2023-02-20T16:28:44.646488Z",
     "iopub.status.idle": "2023-02-20T16:28:44.889534Z",
     "shell.execute_reply": "2023-02-20T16:28:44.888757Z",
     "shell.execute_reply.started": "2023-02-20T16:28:44.646712Z"
    }
   },
   "outputs": [
    {
     "name": "stdout",
     "output_type": "stream",
     "text": [
      "Auf Branch master\n",
      "Ihr Branch ist auf demselben Stand wie 'origin/master'.\n",
      "\n",
      "Änderungen, die nicht zum Commit vorgemerkt sind:\n",
      "  (benutzen Sie \"git add <Datei>...\", um die Änderungen zum Commit vorzumerken)\n",
      "  (benutzen Sie \"git restore <Datei>...\", um die Änderungen im Arbeitsverzeichnis zu verwerfen)\n",
      "\t\u001b[31mgeändert:       1_wiktionary_parsen/Steuertabellen/.~lock.lex_test.xlsx#\u001b[m\n",
      "\t\u001b[31mgeändert:       1_wiktionary_parsen/Steuertabellen/lex_test.xlsx\u001b[m\n",
      "\t\u001b[31mgeändert:       \"1_wiktionary_parsen/x28_Templates_\\303\\274berpr\\303\\274fen.ipynb\"\u001b[m\n",
      "\t\u001b[31mgeändert:       1_wiktionary_parsen/x34_d01_tag_und_member.ipynb\u001b[m\n",
      "\t\u001b[31mgeändert:       publish_wiktionary_wortschatz.ipynb\u001b[m\n",
      "\n",
      "keine Änderungen zum Commit vorgemerkt (benutzen Sie \"git add\" und/oder \"git commit -a\")\n"
     ]
    }
   ],
   "source": [
    "!git status"
   ]
  },
  {
   "cell_type": "code",
   "execution_count": 3,
   "id": "5f06d070-de3e-4dd6-97d8-34eb00605b89",
   "metadata": {
    "execution": {
     "iopub.execute_input": "2023-02-20T16:28:44.890935Z",
     "iopub.status.busy": "2023-02-20T16:28:44.890566Z",
     "iopub.status.idle": "2023-02-20T16:28:45.015524Z",
     "shell.execute_reply": "2023-02-20T16:28:45.014473Z",
     "shell.execute_reply.started": "2023-02-20T16:28:44.890907Z"
    }
   },
   "outputs": [],
   "source": [
    "!git config credential.helper store"
   ]
  },
  {
   "cell_type": "code",
   "execution_count": 4,
   "id": "a9a7e740-2661-43c1-9743-bef78afaba54",
   "metadata": {
    "execution": {
     "iopub.execute_input": "2023-02-20T16:28:45.017992Z",
     "iopub.status.busy": "2023-02-20T16:28:45.017617Z",
     "iopub.status.idle": "2023-02-20T16:28:45.181796Z",
     "shell.execute_reply": "2023-02-20T16:28:45.180875Z",
     "shell.execute_reply.started": "2023-02-20T16:28:45.017962Z"
    }
   },
   "outputs": [],
   "source": [
    "!git add --all"
   ]
  },
  {
   "cell_type": "code",
   "execution_count": 5,
   "id": "11087953-3aab-4adf-9561-3c151ee0f890",
   "metadata": {
    "execution": {
     "iopub.execute_input": "2023-02-20T16:28:45.183786Z",
     "iopub.status.busy": "2023-02-20T16:28:45.183323Z",
     "iopub.status.idle": "2023-02-20T16:28:45.427872Z",
     "shell.execute_reply": "2023-02-20T16:28:45.427092Z",
     "shell.execute_reply.started": "2023-02-20T16:28:45.183742Z"
    }
   },
   "outputs": [
    {
     "name": "stdout",
     "output_type": "stream",
     "text": [
      "[master 6107469] ֹ\n",
      " 5 files changed, 3523 insertions(+), 3937 deletions(-)\n",
      " rewrite 1_wiktionary_parsen/Steuertabellen/lex_test.xlsx (74%)\n"
     ]
    }
   ],
   "source": [
    "# Commit message eintragen und run\n",
    "!git commit -m \"ֹ\""
   ]
  },
  {
   "cell_type": "code",
   "execution_count": 6,
   "id": "58c1c7ba-ad52-48eb-992a-4ade5d6a28a2",
   "metadata": {
    "execution": {
     "iopub.execute_input": "2023-02-20T16:28:45.432228Z",
     "iopub.status.busy": "2023-02-20T16:28:45.431448Z",
     "iopub.status.idle": "2023-02-20T16:28:47.805071Z",
     "shell.execute_reply": "2023-02-20T16:28:47.804220Z",
     "shell.execute_reply.started": "2023-02-20T16:28:45.432185Z"
    }
   },
   "outputs": [
    {
     "name": "stdout",
     "output_type": "stream",
     "text": [
      "Objekte aufzählen: 17, fertig.\n",
      "Zähle Objekte: 100% (17/17), fertig.\n",
      "Delta-Kompression verwendet bis zu 2 Threads.\n",
      "Komprimiere Objekte: 100% (9/9), fertig.\n",
      "Schreibe Objekte: 100% (9/9), 32.81 KiB | 1.93 MiB/s, fertig.\n",
      "Gesamt 9 (Delta 5), Wiederverwendet 0 (Delta 0), Pack wiederverwendet 0\n",
      "remote: Resolving deltas: 100% (5/5), completed with 5 local objects.\u001b[K\n",
      "To https://github.com/djekra/wiktionary_wortschatz.git\n",
      "   0f8b663..6107469  master -> master\n"
     ]
    }
   ],
   "source": [
    "!git push origin master"
   ]
  },
  {
   "cell_type": "markdown",
   "id": "3d13ba76-74b6-44cd-a2f0-3b8087890032",
   "metadata": {},
   "source": [
    "* Terminal ins Verzeichnis öffnen\n",
    "* `git push origin master`\n",
    "* Personal Access Token verwenden statt Passwort\n",
    "* überprüfen: https://github.com/djekra/wiktionary_wortschatz"
   ]
  },
  {
   "cell_type": "code",
   "execution_count": null,
   "id": "7a452de9-cc2b-43cb-934c-8ac4d9927015",
   "metadata": {},
   "outputs": [],
   "source": []
  }
 ],
 "metadata": {
  "kernelspec": {
   "display_name": "Python 3 (ipykernel)",
   "language": "python",
   "name": "python3"
  },
  "language_info": {
   "codemirror_mode": {
    "name": "ipython",
    "version": 3
   },
   "file_extension": ".py",
   "mimetype": "text/x-python",
   "name": "python",
   "nbconvert_exporter": "python",
   "pygments_lexer": "ipython3",
   "version": "3.9.13"
  }
 },
 "nbformat": 4,
 "nbformat_minor": 5
}
